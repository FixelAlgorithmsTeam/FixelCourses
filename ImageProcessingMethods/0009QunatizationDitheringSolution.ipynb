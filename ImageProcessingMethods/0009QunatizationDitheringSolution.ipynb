{
 "cells": [
  {
   "attachments": {},
   "cell_type": "markdown",
   "metadata": {},
   "source": [
    "[![Fixel Algorithms](https://fixelalgorithms.co/images/CCExt.png)](https://fixelalgorithms.gitlab.io)\n",
    "\n",
    "# Image Processing with Python\n",
    "\n",
    "## Quantization & Dithering\n",
    "\n",
    "> Notebook by:\n",
    "> - Royi Avital RoyiAvital@fixelalgorithms.com\n",
    "\n",
    "## Revision History\n",
    "\n",
    "| Version | Date       | User        |Content / Changes                                                   |\n",
    "|---------|------------|-------------|--------------------------------------------------------------------|\n",
    "| 0.1.000 | 04/10/2023 | Royi Avital | First version                                                      |"
   ]
  },
  {
   "attachments": {},
   "cell_type": "markdown",
   "metadata": {},
   "source": [
    "[![Open In Colab](https://colab.research.google.com/assets/colab-badge.svg)](https://colab.research.google.com/github/FixelAlgorithmsTeam/FixelCourses/blob/master/ImageProcessingPython/0002SciKitImageBasics.ipynb)"
   ]
  },
  {
   "cell_type": "code",
   "execution_count": null,
   "metadata": {
    "ExecuteTime": {
     "end_time": "2022-02-02T09:30:06.492269Z",
     "start_time": "2022-02-02T09:30:06.220934Z"
    }
   },
   "outputs": [],
   "source": [
    "# Import Packages\n",
    "\n",
    "# General Tools\n",
    "import numpy as np\n",
    "import scipy as sp\n",
    "import pandas as pd\n",
    "\n",
    "from numba import njit, vectorize\n",
    "\n",
    "# Image Processing\n",
    "import skimage as ski\n",
    "\n",
    "# Machine Learning\n",
    "\n",
    "\n",
    "# Miscellaneous\n",
    "import os\n",
    "from platform import python_version\n",
    "import random\n",
    "import timeit\n",
    "\n",
    "# Typing\n",
    "from typing import Callable, List, Optional, Tuple\n",
    "\n",
    "# Visualization\n",
    "import matplotlib as mpl\n",
    "import matplotlib.pyplot as plt\n",
    "import seaborn as sns\n",
    "\n",
    "# Jupyter\n",
    "from IPython import get_ipython\n",
    "from IPython.display import Image, display\n",
    "from ipywidgets import Dropdown, FloatRangeSlider, FloatSlider, interact, IntSlider, Layout"
   ]
  },
  {
   "attachments": {},
   "cell_type": "markdown",
   "metadata": {},
   "source": [
    "## Notations\n",
    "\n",
    "* <font color='red'>(**?**)</font> Question to answer interactively.\n",
    "* <font color='blue'>(**!**)</font> Simple task to add code for the notebook.\n",
    "* <font color='green'>(**@**)</font> Optional / Extra self practice.\n",
    "* <font color='brown'>(**#**)</font> Note / Useful resource / Food for thought.\n",
    "\n",
    "### Code Exercise\n",
    "\n",
    " - Single line fill\n",
    "\n",
    " ```python\n",
    " vallToFill = ???\n",
    " ```\n",
    "\n",
    " - Multi Line to Fill (At least one)\n",
    "\n",
    " ```python\n",
    " # You need to start writing\n",
    " ????\n",
    " ```\n",
    "\n",
    " - Section to Fill\n",
    "\n",
    "```python\n",
    "#===========================Fill This===========================#\n",
    "# 1. Explanation about what to do.\n",
    "# !! Remarks to follow / take under consideration.\n",
    "mX = ???\n",
    "\n",
    "???\n",
    "#===============================================================#\n",
    "```"
   ]
  },
  {
   "cell_type": "code",
   "execution_count": null,
   "metadata": {},
   "outputs": [],
   "source": [
    "# Configuration\n",
    "# %matplotlib inline\n",
    "\n",
    "seedNum = 512\n",
    "np.random.seed(seedNum)\n",
    "random.seed(seedNum)\n",
    "\n",
    "# sns.set_theme() #>! Apply SeaBorn theme\n",
    "\n",
    "runInGoogleColab = 'google.colab' in str(get_ipython())"
   ]
  },
  {
   "cell_type": "code",
   "execution_count": null,
   "metadata": {},
   "outputs": [],
   "source": [
    "# Constants\n",
    "\n"
   ]
  },
  {
   "cell_type": "code",
   "execution_count": null,
   "metadata": {},
   "outputs": [],
   "source": [
    "# Fixel Algorithms Packages\n"
   ]
  },
  {
   "cell_type": "code",
   "execution_count": null,
   "metadata": {},
   "outputs": [],
   "source": [
    "# General Auxiliary Functions\n",
    "\n"
   ]
  },
  {
   "cell_type": "markdown",
   "metadata": {},
   "source": [
    "## Image Quantization & Dithering\n",
    "\n",
    "Quantization is the process of _reducing_ / _limiting_ the number of unique values within a dynamic range.  \n",
    "Dithering is trying to mimic a larger amount of values by adding quantized noise spatially.\n",
    "\n",
    "This notebooks implements some approaches of each method. \n",
    "\n",
    "* <font color='brown'>(**#**)</font> In some sense _Qunatization_ is equivalent to _Sampling_ on the value domain.\n",
    "* <font color='brown'>(**#**)</font> Both concepts are commonly used in the _Signal Processing_ context."
   ]
  },
  {
   "cell_type": "code",
   "execution_count": null,
   "metadata": {},
   "outputs": [],
   "source": [
    "# Parameters\n",
    "\n",
    "# Image by [AeroDraws](https://www.deviantart.com/aerodraws/gallery)\n",
    "# imgUrl = 'https://i.imgur.com/SCgj4Nh.png' #<! https://www.deviantart.com/aerodraws/art/Grayscale-Portrait-Study-847900592\n",
    "imgUrl = 'https://i.postimg.cc/Kj7CBXTn/Img.png' #<! https://www.deviantart.com/aerodraws/art/Grayscale-Portrait-Study-847900592\n",
    "\n",
    "numLevels = 4 #<! Quantization levels (L)\n",
    "lNumLevels = [32, 16, 8, 4, 2]\n",
    "numSamples = 1_000 #<! Samples for an evaluation"
   ]
  },
  {
   "cell_type": "markdown",
   "metadata": {},
   "source": [
    "## Generate Data\n",
    "\n",
    "This section loads the image used to evaluate the results.  "
   ]
  },
  {
   "cell_type": "code",
   "execution_count": null,
   "metadata": {},
   "outputs": [],
   "source": [
    "# Load / Generate Data\n",
    "\n",
    "mI = ski.io.imread(imgUrl)\n",
    "mI = ski.util.img_as_float64(mI)\n",
    "mI = np.mean(mI, axis = 2)\n",
    "\n",
    "numLevelsImg = len(np.unique(mI)) #<! Number of unique levels in the image\n"
   ]
  },
  {
   "cell_type": "code",
   "execution_count": null,
   "metadata": {},
   "outputs": [],
   "source": [
    "# Display the Data\n",
    "\n",
    "hF, hA = plt.subplots(figsize = (8, 6))\n",
    "hA.imshow(mI, cmap = 'gray')\n",
    "hA.set_title(f'Input Image, Number of Levels: {numLevelsImg}');"
   ]
  },
  {
   "cell_type": "markdown",
   "metadata": {},
   "source": [
    "## Quantization\n",
    "\n",
    "Quantization of $L$ levels can be broken into 2 main steps:\n",
    "\n",
    " - Partitioning  \n",
    "   Setting $L + 1$ edges splitting the entire dynamic range into $L$ segments.\n",
    " - Mapping  \n",
    "   Mapping each segment into a valid value.\n",
    "\n",
    "This section implements a _Quantizer_.\n",
    "\n",
    "* <font color='brown'>(**#**)</font> Some use $L - 1$ edges where the 2 implicit additional edges are the extreme values of the _Dynamic Range_.\n"
   ]
  },
  {
   "cell_type": "markdown",
   "metadata": {},
   "source": [
    "### Quantizer\n",
    "\n",
    "The implemented _Quantizer_ partitions the range uniformly within $\\left[ {f}_{min} - \\frac{q}{2}, {f}_{max} + \\frac{q}{2} \\right]$ where $q$ is the segment length.  \n",
    "The _Quantizer_ parameters are `valMin`, `valMax` and `numLevels`. The input value is given by `valIn`.  \n",
    "The _Quantizer_ should be implemented scalar wise."
   ]
  },
  {
   "cell_type": "code",
   "execution_count": null,
   "metadata": {},
   "outputs": [],
   "source": [
    "# Qunatizer\n",
    "\n",
    "#===========================Fill This===========================#\n",
    "# 1. Implement the Quantizer as a function.\n",
    "# 2. The function parameters are `valIn`, `valMin`, `valMax` and `numLevels`.\n",
    "# 3. The function should be written for scalar input in mind.\n",
    "# !! Numpy will be used to vectorize the function.\n",
    "\n",
    "def Quantizer( valIn: float, numLevels: int, valMin: float, valMax: float ) -> float:    \n",
    "    \"\"\"\n",
    "    Quantizes a given input value into one of the specified discrete levels within a given range.\n",
    "\n",
    "    This function maps a continuous input value (`valIn`) within the range `[valMin, valMax]` \n",
    "    to one of `numLevels` equally spaced quantization levels in that range. The output value is \n",
    "    calculated to be the nearest quantized level based on the input.\n",
    "\n",
    "    Parameters\n",
    "    ----------\n",
    "    valIn : float\n",
    "        The input value to be quantized, expected to be in the range `[valMin, valMax]`.\n",
    "    numLevels : int\n",
    "        The number of quantization levels. Must be an integer greater than 1.\n",
    "    valMin : float\n",
    "        The minimum value of the quantization range.\n",
    "    valMax : float\n",
    "        The maximum value of the quantization range.\n",
    "\n",
    "    Returns\n",
    "    -------\n",
    "    valOut : float\n",
    "        The quantized output value, mapped to one of the `numLevels` discrete levels within the \n",
    "        range `[valMin, valMax]`.\n",
    "\n",
    "    Notes\n",
    "    -----\n",
    "    - This function assumes that `valIn` is within the specified range `[valMin, valMax]`.\n",
    "      If `valIn` falls outside this range, the result might not be as expected.\n",
    "    - The quantization levels are linearly spaced between `valMin` and `valMax`, with each level \n",
    "      representing a segment of the input range.\n",
    "\n",
    "    Examples\n",
    "    --------\n",
    "    >>> Quantizer(0.3, 4, 0.0, 1.0)\n",
    "    0.3333333333333333  # Maps 0.3 to one of the 4 quantization levels within [0.0, 1.0]\n",
    "\n",
    "    >>> Quantizer(0.75, 8, 0.0, 1.0)\n",
    "    0.7142857142857143  # Maps 0.75 to one of the 8 quantization levels within [0.0, 1.0]\n",
    "\n",
    "    Calculation Details\n",
    "    -------------------\n",
    "    The quantization grid is defined by evenly spaced levels between `valMin` and `valMax`. \n",
    "    For example, with `numLevels = 4`, `valMin = 0.0`, and `valMax = 1.0`, the quantization \n",
    "    levels will correspond to values approximately equal to `[0.0, 0.333, 0.667, 1.0]`.\n",
    "    \"\"\"\n",
    "\n",
    "    # For `numLevels` = 4 the partition grid should be  [-0.16666667,  0.16666667,  0.5       ,  0.83333333,  1.16666667]\n",
    "    # binSize = 1 / (numLevels - 1)\n",
    "    # vQ = np.linspace(0 - binSize / 2, 1 + binSize / 2, numLevels + 1)[1:-1] #<! Quantization Grid\n",
    "    # valOut = np.digitize(valIn, vQ) / (numLevels - 1)\n",
    "    valOut = np.round(((valIn - valMin) / (valMax - valMin)) * (numLevels - 1)) / (numLevels - 1)\n",
    "\n",
    "    return valOut\n",
    "\n",
    "#===============================================================#"
   ]
  },
  {
   "cell_type": "code",
   "execution_count": null,
   "metadata": {},
   "outputs": [],
   "source": [
    "# NumPy Vectorization\n",
    "\n",
    "# Vectorize the function for the input yet not the parameters\n",
    "hQuantizer = np.vectorize(Quantizer, excluded = ['numLevels', 'valMin', 'valMax'])"
   ]
  },
  {
   "cell_type": "code",
   "execution_count": null,
   "metadata": {},
   "outputs": [],
   "source": [
    "# Apply Function for a Line\n",
    "\n",
    "vI = np.linspace(0, 1, numSamples)\n",
    "vF = hQuantizer(vI, numLevels, np.min(vI), np.max(vI)) #<! Using the vectorization"
   ]
  },
  {
   "cell_type": "code",
   "execution_count": null,
   "metadata": {},
   "outputs": [],
   "source": [
    "# Display Results\n",
    "\n",
    "hF, hA = plt.subplots(nrows = 1, ncols = 1, figsize = (7, 5))\n",
    "\n",
    "hA.plot(vI, vI, ls = ':', lw = 2, label = 'Input Signal')\n",
    "hA.plot(vI, vF, lw = 2, label = 'Quantized Signal')\n",
    "hA.grid(True)\n",
    "hA.set_xlabel('Input Value')\n",
    "hA.set_ylabel('Output Value')\n",
    "hA.set_title(f'Quantizing on the Range [0, 1] with {numLevels} Levels')\n",
    "hA.set_title(f'Quantizing on the Range [0, 1] with {numLevels} Levels')\n",
    "\n",
    "hA.legend();"
   ]
  },
  {
   "cell_type": "markdown",
   "metadata": {},
   "source": [
    "* <font color='red'>(**?**)</font> Is this a _Uniform Quantization_?"
   ]
  },
  {
   "cell_type": "code",
   "execution_count": null,
   "metadata": {},
   "outputs": [],
   "source": [
    "# Quantize the Image\n",
    "\n",
    "numImg = len(lNumLevels) + 1\n",
    "\n",
    "hF, vHa = plt.subplots(nrows = 1, ncols = numImg, figsize = (numImg * 4 + 1, 4))\n",
    "vHa = vHa.flat\n",
    "\n",
    "for ii, hA in enumerate(vHa):\n",
    "    if (ii == 0):\n",
    "        hA.imshow(mI, cmap = 'gray', vmin = 0, vmax = 1)\n",
    "        hA.set_title('Input Image')\n",
    "    else:\n",
    "        paramL = lNumLevels[ii - 1]\n",
    "        hA.imshow(hQuantizer(mI, paramL, 0.0, 1.0), cmap = 'gray', vmin = 0, vmax = 1)\n",
    "        hA.set_title(f'Quantized Image, L = {paramL}')\n",
    "    \n",
    "    hA.set_xticks([])\n",
    "    hA.set_yticks([])\n"
   ]
  },
  {
   "cell_type": "markdown",
   "metadata": {},
   "source": [
    "## Image Dithering\n",
    "\n",
    "The _Dithering_ operation tries to mitigate some of the artifacts generated by the _Quantization_ process.\n",
    "\n",
    "This section implement a Floyd Steinberg Dithering style method.\n",
    "\n",
    "* <font color='brown'>(**#**)</font> The same framework can serve for [Floyd Steinberg Dithering](https://en.wikipedia.org/wiki/Floyd%E2%80%93Steinberg_dithering) and [Atkinson Dithering](https://en.wikipedia.org/wiki/Atkinson_dithering)."
   ]
  },
  {
   "cell_type": "markdown",
   "metadata": {},
   "source": [
    "### Floyd Steinberg Style Dithering\n",
    "\n",
    "This section implements a Floyd Steinberg like dithering.  \n",
    "The concept is defining a set of pixels which are not processed in the current location of the scan path.  \n",
    "Then push a weighted error to them."
   ]
  },
  {
   "cell_type": "code",
   "execution_count": null,
   "metadata": {},
   "outputs": [],
   "source": [
    "# Dithering\n",
    "\n",
    "#===========================Fill This===========================#\n",
    "# 1. Implement the Dithering as a function.\n",
    "# !! Wikipedia may be used as reference.\n",
    "\n",
    "def DitherImage( mI: np.ndarray, numLevels: int, vW: np.ndarray ) -> np.ndarray:    \n",
    "    \"\"\"\n",
    "    Applies quantization with error diffusion (dithering) to an image.\n",
    "\n",
    "    This function performs quantization on a grayscale image with a specified number of levels, using dithering to distribute the quantization error to neighboring pixels.\n",
    "    The dithering is implemented by adjusting nearby pixels based on the error from quantizing the current pixel, which can help produce visually smoother results and reduce banding artifacts in the quantized image.\n",
    "\n",
    "    Parameters\n",
    "    ----------\n",
    "    mI : np.ndarray\n",
    "        Input grayscale image as a 2D NumPy array with pixel values normalized in the range [0, 1].\n",
    "    numLevels : int\n",
    "        Number of quantization levels. Must be an integer greater than 1.\n",
    "    lW : np.ndarray\n",
    "        Vector of weights for each position in `lPos`, used to control how much of the quantization error is propagated to each neighboring pixel.\n",
    "        The weights will be normalized to ensure they sum to 1.\n",
    "\n",
    "    Returns\n",
    "    -------\n",
    "    mO : ndarray\n",
    "        Quantized image as a 2D NumPy array with the same shape as the input `mI`. The pixel values are integers from 0 to `numLevels - 1`, corresponding to the quantized levels.\n",
    "\n",
    "    Notes\n",
    "    -----\n",
    "    - The shifts of the pixels to propagate the error are right and bottom. See `lPos`.\n",
    "    - This function assumes that the input image `mI` is normalized to the range [0, 1]. If the input image has a different range, it should be normalized before calling this function.\n",
    "    - Error diffusion is applied based on the offsets and weights provided in `lPos` and `vW`, respectively.\n",
    "    - The function uses Floyd Steinberg dithering or similar techniques by propagating the quantization error to neighboring pixels, which can help create the appearance of intermediate tones.\n",
    "\n",
    "    References\n",
    "    ----------\n",
    "    This function is based on Floyd-Steinberg dithering. See more about dithering and error diffusion at:\n",
    "    https://web.archive.org/web/20110410051449/http://www.efg2.com/Lab/Library/ImageProcessing/DHALF.TXT\n",
    "\n",
    "    Example\n",
    "    -------\n",
    "    >>> import numpy as np\n",
    "    >>> mI = np.random.rand(5, 5)  #<! Random 5x5 grayscale image\n",
    "    >>> numLevels = 4  # Quantize to 4 levels\n",
    "    >>> vW = np.array([7, 3, 5, 1])  #<! Floyd Steinberg weights\n",
    "    >>> mO = DitherImage(image, numLevels, vW)\n",
    "    \"\"\"\n",
    "    \n",
    "    lPos = [(0, 1), (1, -1), (1, 0), (1, 1)]  #<! Floyd Steinberg offsets\n",
    "    \n",
    "    if (numLevels < 1) or (numLevels != round(numLevels)):\n",
    "        raise ValueError(f'The `numLevels` must be a positive integer')\n",
    "    \n",
    "    vW = vW / np.sum(vW) #<! Normalize weights\n",
    "    \n",
    "    numRows = np.size(mI, 0)\n",
    "    numCols = np.size(mI, 1)\n",
    "    \n",
    "    mI = np.copy(mI)\n",
    "    mO = np.zeros_like(mI)\n",
    "    for ii in range(numRows):\n",
    "        for jj in range(numCols):\n",
    "            # Quantize: Partition & Map\n",
    "            mO[ii, jj] = Quantizer(mI[ii, jj], numLevels, 0.0, 1.0)\n",
    "            # Error\n",
    "            valE = mI[ii, jj] - mO[ii, jj]\n",
    "            # Propagate the error (Use `lPos` shifts and `vW` weights)\n",
    "            for (mm, nn), valW in zip(lPos, vW):\n",
    "                mm += ii\n",
    "                nn += jj\n",
    "                if (mm < numRows) and (nn < numCols):\n",
    "                    mI[mm, nn] += valE * valW\n",
    "    \n",
    "    return mO\n",
    "\n",
    "#===============================================================#"
   ]
  },
  {
   "cell_type": "code",
   "execution_count": null,
   "metadata": {},
   "outputs": [],
   "source": [
    "# Generate the Weights Vector\n",
    "\n",
    "vW = np.array([7, 3, 5, 1])"
   ]
  },
  {
   "cell_type": "markdown",
   "metadata": {},
   "source": [
    "* <font color='blue'>(**!**)</font> Replace the weights with [Atkinson Dithering](https://en.wikipedia.org/wiki/Atkinson_dithering) weights."
   ]
  },
  {
   "cell_type": "code",
   "execution_count": null,
   "metadata": {},
   "outputs": [],
   "source": [
    "# Dither the Image\n",
    "\n",
    "numImg = len(lNumLevels) + 1\n",
    "\n",
    "hF, vHa = plt.subplots(nrows = 1, ncols = numImg, figsize = (numImg * 4 + 1, 4))\n",
    "vHa = vHa.flat\n",
    "\n",
    "for ii, hA in enumerate(vHa):\n",
    "    if (ii == 0):\n",
    "        hA.imshow(mI, cmap = 'gray', vmin = 0, vmax = 1)\n",
    "        hA.set_title('Input Image')\n",
    "    else:\n",
    "        paramL = lNumLevels[ii - 1]\n",
    "        hA.imshow(DitherImage(mI, paramL, vW), cmap = 'gray', vmin = 0, vmax = 1, resample = False) #<! Disable interpolation to force values\n",
    "        hA.set_title(f'Dithered Image, L = {paramL}')\n",
    "    \n",
    "    hA.set_xticks([])\n",
    "    hA.set_yticks([])\n"
   ]
  }
 ],
 "metadata": {
  "kernelspec": {
   "display_name": "Python 3",
   "language": "python",
   "name": "python3"
  },
  "language_info": {
   "codemirror_mode": {
    "name": "ipython",
    "version": 3
   },
   "file_extension": ".py",
   "mimetype": "text/x-python",
   "name": "python",
   "nbconvert_exporter": "python",
   "pygments_lexer": "ipython3",
   "version": "3.12.7"
  },
  "toc": {
   "base_numbering": 1,
   "nav_menu": {},
   "number_sections": false,
   "sideBar": true,
   "skip_h1_title": false,
   "title_cell": "Table of Contents",
   "title_sidebar": "Contents",
   "toc_cell": false,
   "toc_position": {},
   "toc_section_display": true,
   "toc_window_display": true
  },
  "varInspector": {
   "cols": {
    "lenName": 16,
    "lenType": 16,
    "lenVar": 40
   },
   "kernels_config": {
    "python": {
     "delete_cmd_postfix": "",
     "delete_cmd_prefix": "del ",
     "library": "var_list.py",
     "varRefreshCmd": "print(var_dic_list())"
    },
    "r": {
     "delete_cmd_postfix": ") ",
     "delete_cmd_prefix": "rm(",
     "library": "var_list.r",
     "varRefreshCmd": "cat(var_dic_list()) "
    }
   },
   "types_to_exclude": [
    "module",
    "function",
    "builtin_function_or_method",
    "instance",
    "_Feature"
   ],
   "window_display": false
  },
  "vscode": {
   "interpreter": {
    "hash": "39577bab1f263e62e0b74f5b8086bd735049bf4751f6562b2d4b2969dc308293"
   }
  }
 },
 "nbformat": 4,
 "nbformat_minor": 4
}
