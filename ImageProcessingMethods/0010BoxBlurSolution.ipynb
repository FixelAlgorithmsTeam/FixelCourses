{
 "cells": [
  {
   "attachments": {},
   "cell_type": "markdown",
   "metadata": {},
   "source": [
    "[![Fixel Algorithms](https://fixelalgorithms.co/images/CCExt.png)](https://fixelalgorithms.gitlab.io/)\n",
    "\n",
    "# Image Processing with Python\n",
    "\n",
    "## Box Blur\n",
    "\n",
    "> Notebook by:\n",
    "> - Royi Avital RoyiAvital@fixelalgorithms.com\n",
    "\n",
    "## Revision History\n",
    "\n",
    "| Version | Date       | User        |Content / Changes                                                   |\n",
    "|---------|------------|-------------|--------------------------------------------------------------------|\n",
    "| 0.1.000 | 01/11/2024 | Royi Avital | First version                                                      |"
   ]
  },
  {
   "attachments": {},
   "cell_type": "markdown",
   "metadata": {},
   "source": [
    "[![Open In Colab](https://colab.research.google.com/assets/colab-badge.svg)](https://colab.research.google.com/github/FixelAlgorithmsTeam/FixelCourses/blob/master/ImageProcessingPython/0002SciKitImageBasics.ipynb)"
   ]
  },
  {
   "cell_type": "code",
   "execution_count": null,
   "metadata": {
    "ExecuteTime": {
     "end_time": "2022-02-02T09:30:06.492269Z",
     "start_time": "2022-02-02T09:30:06.220934Z"
    }
   },
   "outputs": [],
   "source": [
    "# Import Packages\n",
    "\n",
    "# General Tools\n",
    "import numpy as np\n",
    "import scipy as sp\n",
    "import pandas as pd\n",
    "\n",
    "from numba import jit, njit\n",
    "\n",
    "# Image Processing\n",
    "import skimage as ski\n",
    "\n",
    "# Machine Learning\n",
    "\n",
    "\n",
    "# Miscellaneous\n",
    "import os\n",
    "from platform import python_version\n",
    "import random\n",
    "import timeit\n",
    "\n",
    "# Typing\n",
    "from typing import Callable, List, Tuple\n",
    "\n",
    "# Visualization\n",
    "import matplotlib as mpl\n",
    "import matplotlib.pyplot as plt\n",
    "import seaborn as sns\n",
    "# from bokeh.plotting import figure, show\n",
    "\n",
    "# Jupyter\n",
    "from IPython import get_ipython\n",
    "from IPython.display import Image, display\n",
    "from ipywidgets import Dropdown, FloatRangeSlider, FloatSlider, interact, IntSlider, Layout"
   ]
  },
  {
   "attachments": {},
   "cell_type": "markdown",
   "metadata": {},
   "source": [
    "## Notations\n",
    "\n",
    "* <font color='red'>(**?**)</font> Question to answer interactively.\n",
    "* <font color='blue'>(**!**)</font> Simple task to add code for the notebook.\n",
    "* <font color='green'>(**@**)</font> Optional / Extra self practice.\n",
    "* <font color='brown'>(**#**)</font> Note / Useful resource / Food for thought.\n",
    "\n",
    "### Code Exercise\n",
    "\n",
    " - Single line fill\n",
    "\n",
    " ```python\n",
    " vallToFill = ???\n",
    " ```\n",
    "\n",
    " - Multi Line to Fill (At least one)\n",
    "\n",
    " ```python\n",
    " # You need to start writing\n",
    " ????\n",
    " ```\n",
    "\n",
    " - Section to Fill\n",
    "\n",
    "```python\n",
    "#===========================Fill This===========================#\n",
    "# 1. Explanation about what to do.\n",
    "# !! Remarks to follow / take under consideration.\n",
    "mX = ???\n",
    "\n",
    "???\n",
    "#===============================================================#\n",
    "```"
   ]
  },
  {
   "cell_type": "code",
   "execution_count": null,
   "metadata": {},
   "outputs": [],
   "source": [
    "# Configuration\n",
    "# %matplotlib inline\n",
    "\n",
    "seedNum = 512\n",
    "np.random.seed(seedNum)\n",
    "random.seed(seedNum)\n",
    "\n",
    "# sns.set_theme() #>! Apply SeaBorn theme\n",
    "\n",
    "runInGoogleColab = 'google.colab' in str(get_ipython())"
   ]
  },
  {
   "cell_type": "code",
   "execution_count": null,
   "metadata": {},
   "outputs": [],
   "source": [
    "# Constants\n",
    "\n"
   ]
  },
  {
   "cell_type": "code",
   "execution_count": null,
   "metadata": {},
   "outputs": [],
   "source": [
    "# Fixel Algorithms Packages\n"
   ]
  },
  {
   "cell_type": "code",
   "execution_count": null,
   "metadata": {},
   "outputs": [],
   "source": [
    "# General Auxiliary Functions\n",
    "\n"
   ]
  },
  {
   "attachments": {},
   "cell_type": "markdown",
   "metadata": {},
   "source": [
    "## Image Filtering\n",
    "\n",
    "Image Filtering is the set of operations which alters image pixels values based on _spatial operations_.  \n",
    "The operators are usually categorized by 2 main properties:\n",
    "\n",
    " - Linearity: $f \\left( \\alpha x + \\beta y \\right) = \\alpha f \\left( x \\right) + \\beta f \\left( y \\right)$.\n",
    " - Shift Invariance: $S \\left( f \\left( x \\right) \\right) = f \\left( S \\left( x \\right) \\right)$ where $S \\left( \\cdot \\right)$ is a _Shift Operator_. \n",
    "\n",
    "Filters which are both _linear_ and _shift invariant_ (LSI) are applied using [Convolution](https://en.wikipedia.org/wiki/Convolution).\n",
    "\n",
    "Given a realization of a filter, it can be also analyzed using concepts of _Signal Processing_.  \n",
    "Namely its effect on the image _Spectrum_. Specifically if its operation is one of:\n",
    " - _Low Pass Filter_ (LPF): Removal of high frequency details.\n",
    " - _High Pass Filter_ (HPF): Removal of low frequency details.\n",
    "\n",
    "This notebooks implements a simple LSI filter, the _Box Blur_.\n",
    "\n",
    "* <font color='brown'>(**#**)</font> An LSI filter can be applied in Frequency Domain using the [Convolution Theorem](https://en.wikipedia.org/wiki/Convolution_theorem).\n",
    "* <font color='brown'>(**#**)</font> Filters might be neither LPF nor HPF."
   ]
  },
  {
   "cell_type": "code",
   "execution_count": null,
   "metadata": {},
   "outputs": [],
   "source": [
    "# Parameters\n",
    "\n",
    "# imgUrl = 'https://i.imgur.com/3BbIXdH.png' #<! A turtle climbing the Everest!\n",
    "imgUrl = 'https://i.postimg.cc/63rN33GZ/3BbIXdH.png' #<! A turtle climbing the Everest!\n",
    "\n",
    "boxRadius   = 5\n",
    "lBoxRadius  = [1, 3, 5, 7, 9]"
   ]
  },
  {
   "cell_type": "markdown",
   "metadata": {},
   "source": [
    "## Generate Data\n",
    "\n",
    "This section loads the image used to evaluate the results.  "
   ]
  },
  {
   "cell_type": "code",
   "execution_count": null,
   "metadata": {},
   "outputs": [],
   "source": [
    "# Load / Generate Data\n",
    "\n",
    "mI = ski.io.imread(imgUrl)\n",
    "mI = ski.util.img_as_float64(mI)\n",
    "mI = np.mean(mI, axis = 2) #<! Single channel image"
   ]
  },
  {
   "cell_type": "code",
   "execution_count": null,
   "metadata": {},
   "outputs": [],
   "source": [
    "# Display the Data\n",
    "\n",
    "hF, hA = plt.subplots(figsize = (8, 6))\n",
    "hA.imshow(mI, cmap = 'gray')\n",
    "hA.set_title(f'Input Image');"
   ]
  },
  {
   "cell_type": "markdown",
   "metadata": {},
   "source": [
    "## Box Blur\n",
    "\n",
    "Box Blur is one of the most basic, yet useful, filters in Image Processing.  \n",
    "It basically maps a rectangle rolling window to its mean value.\n",
    "\n",
    "![](https://github.com/FixelAlgorithmsTeam/FixelCourses/raw/master/ImageProcessingMethods/Assets/BoxBlur.svg)\n",
    "\n",
    "This section implements a _Box Blur_ in 3 different implementations:\n",
    " - Using [_Integral Image_](https://en.wikipedia.org/wiki/Summed-area_table) / [_Running Sum_](https://en.wikipedia.org/wiki/Running_total).\n",
    " - Using SciKit Image's [`skimage.util.view_as_windows()`](https://scikit-image.org/docs/stable/api/skimage.util.html#skimage.util.view_as_windows).\n",
    "\n",
    "The reference is given by SciPy's built in function [`scipy.ndimage.uniform_filter()`](https://docs.scipy.org/doc/scipy/reference/generated/scipy.ndimage.uniform_filter.html).\n",
    "\n",
    "* <font color='brown'>(**#**)</font> The blurring \"quality\" of the Box Blur is considered to be low (The roll off on the frequency domain).\n",
    "* <font color='brown'>(**#**)</font> In some cases the output is the sum and not the mean value.\n",
    "* <font color='brown'>(**#**)</font> The Box Blur is a [Separable Filter](https://en.wikipedia.org/wiki/Separable_filter).\n"
   ]
  },
  {
   "cell_type": "markdown",
   "metadata": {},
   "source": [
    "### Implementation Using Running Sum / Integral Image\n",
    "\n",
    "This section implements the Box Blur using either Integral Image or Running Sum.\n",
    "\n",
    "#### Running Sum / Mean\n",
    "\n",
    "Given a samples $\\boldsymbol{x} = {\\left[ 0.2, 0.7, 0.9, 0.5, 0.6 \\right]}^{T}$.  \n",
    "For a window of size 3, the first valid window is centered at the 2nd element: $\\boldsymbol{w}_{2} = {\\left[ 0.2, 0.7, 0.9 \\right]}^{T}$.\n",
    "The sum value is given by: ${w}_{2} = \\boldsymbol{1}^{T} \\boldsymbol{w}_{2}$.  \n",
    "For the next window ${w}_{3} = {w}_{2} + {x}_{4} - {x}_{1}$. In general ${w}_{k} = {w}_{k - 1} + {x}_{k + r} - {w}_{k - 1 - r}$ where $r$ is the window radius.\n",
    "\n",
    "#### Integral Image\n",
    "\n",
    "The _Integral Image_ of $\\boldsymbol{I}$ is given by:\n",
    "\n",
    "$$ {T}_{m, n} = \\sum_{i = 1, j = 1}^{m , n} {I}_{i, j} $$\n"
   ]
  },
  {
   "cell_type": "markdown",
   "metadata": {},
   "source": [
    "* <font color='red'>(**?**)</font> Think of possible issues with the Integral Image / Summed Area Table. Specifically consider large size image and the data format.  \n",
    "\n",
    "<!-- Images of type `UInt8` / `UInt16` / `UInt32` might overflow for large images. Using `Float16` / `Float32` and even `Float64` might cause inaccuracies. -->"
   ]
  },
  {
   "cell_type": "code",
   "execution_count": null,
   "metadata": {},
   "outputs": [],
   "source": [
    "# Box Blur by Integral Image / Running Sum\n",
    "\n",
    "#===========================Fill This===========================#\n",
    "# 1. Implement the Box Blur as a function using either Running Sum or Integral Image.\n",
    "# 2. The function parameters are `mI`, `boxRadius`.\n",
    "# 3. Pad the input properly, if needed, using `np.pad()` with `mode = 'edge'`.\n",
    "# !! Use the separability property of the Box Blur.\n",
    "\n",
    "def BoxPlot( mI: np.ndarray, boxRadius: int ) -> np.ndarray:    \n",
    "    \"\"\"\n",
    "    Quantizes a given input value into one of the specified discrete levels within a given range.\n",
    "\n",
    "    This function maps a continuous input value (`valIn`) within the range `[valMin, valMax]` \n",
    "    to one of `numLevels` equally spaced quantization levels in that range. The output value is \n",
    "    calculated to be the nearest quantized level based on the input.\n",
    "\n",
    "    Parameters\n",
    "    ----------\n",
    "    valIn : float\n",
    "        The input value to be quantized, expected to be in the range `[valMin, valMax]`.\n",
    "    numLevels : int\n",
    "        The number of quantization levels. Must be an integer greater than 1.\n",
    "    valMin : float\n",
    "        The minimum value of the quantization range.\n",
    "    valMax : float\n",
    "        The maximum value of the quantization range.\n",
    "\n",
    "    Returns\n",
    "    -------\n",
    "    valOut : float\n",
    "        The quantized output value, mapped to one of the `numLevels` discrete levels within the \n",
    "        range `[valMin, valMax]`.\n",
    "\n",
    "    Notes\n",
    "    -----\n",
    "    - This function assumes that `valIn` is within the specified range `[valMin, valMax]`.\n",
    "      If `valIn` falls outside this range, the result might not be as expected.\n",
    "    - The quantization levels are linearly spaced between `valMin` and `valMax`, with each level \n",
    "      representing a segment of the input range.\n",
    "\n",
    "    Examples\n",
    "    --------\n",
    "    >>> Quantizer(0.3, 4, 0.0, 1.0)\n",
    "    0.3333333333333333  # Maps 0.3 to one of the 4 quantization levels within [0.0, 1.0]\n",
    "\n",
    "    >>> Quantizer(0.75, 8, 0.0, 1.0)\n",
    "    0.7142857142857143  # Maps 0.75 to one of the 8 quantization levels within [0.0, 1.0]\n",
    "\n",
    "    Calculation Details\n",
    "    -------------------\n",
    "    The quantization grid is defined by evenly spaced levels between `valMin` and `valMax`. \n",
    "    For example, with `numLevels = 4`, `valMin = 0.0`, and `valMax = 1.0`, the quantization \n",
    "    levels will correspond to values approximately equal to `[0.0, 0.333, 0.667, 1.0]`.\n",
    "    \"\"\"\n",
    "\n",
    "    mP = np.pad(mI, (boxRadius, boxRadius), mode = 'edge')\n",
    "\n",
    "    return mO\n",
    "\n",
    "#===============================================================#"
   ]
  },
  {
   "cell_type": "code",
   "execution_count": null,
   "metadata": {},
   "outputs": [],
   "source": [
    "# Box Blur by SciKit Image `view_as_windows()`\n",
    "\n",
    "#===========================Fill This===========================#\n",
    "# 1. Implement the Box Blur as a function using `skimage.util.view_as_windows()`.\n",
    "# 2. The function parameters are `mI`, `boxRadius`.\n",
    "# 3. Pad the input properly, if needed, using `np.pad()` with `mode = 'edge'`.\n",
    "# !! Use the separability property of the Box Blur.\n",
    "\n",
    "def BoxPlotView( mI: np.ndarray, boxRadius: int ) -> np.ndarray:    \n",
    "    \"\"\"\n",
    "    Quantizes a given input value into one of the specified discrete levels within a given range.\n",
    "\n",
    "    This function maps a continuous input value (`valIn`) within the range `[valMin, valMax]` \n",
    "    to one of `numLevels` equally spaced quantization levels in that range. The output value is \n",
    "    calculated to be the nearest quantized level based on the input.\n",
    "\n",
    "    Parameters\n",
    "    ----------\n",
    "    valIn : float\n",
    "        The input value to be quantized, expected to be in the range `[valMin, valMax]`.\n",
    "    numLevels : int\n",
    "        The number of quantization levels. Must be an integer greater than 1.\n",
    "    valMin : float\n",
    "        The minimum value of the quantization range.\n",
    "    valMax : float\n",
    "        The maximum value of the quantization range.\n",
    "\n",
    "    Returns\n",
    "    -------\n",
    "    valOut : float\n",
    "        The quantized output value, mapped to one of the `numLevels` discrete levels within the \n",
    "        range `[valMin, valMax]`.\n",
    "\n",
    "    Notes\n",
    "    -----\n",
    "    - This function assumes that `valIn` is within the specified range `[valMin, valMax]`.\n",
    "      If `valIn` falls outside this range, the result might not be as expected.\n",
    "    - The quantization levels are linearly spaced between `valMin` and `valMax`, with each level \n",
    "      representing a segment of the input range.\n",
    "\n",
    "    Examples\n",
    "    --------\n",
    "    >>> Quantizer(0.3, 4, 0.0, 1.0)\n",
    "    0.3333333333333333  # Maps 0.3 to one of the 4 quantization levels within [0.0, 1.0]\n",
    "\n",
    "    >>> Quantizer(0.75, 8, 0.0, 1.0)\n",
    "    0.7142857142857143  # Maps 0.75 to one of the 8 quantization levels within [0.0, 1.0]\n",
    "\n",
    "    Calculation Details\n",
    "    -------------------\n",
    "    The quantization grid is defined by evenly spaced levels between `valMin` and `valMax`. \n",
    "    For example, with `numLevels = 4`, `valMin = 0.0`, and `valMax = 1.0`, the quantization \n",
    "    levels will correspond to values approximately equal to `[0.0, 0.333, 0.667, 1.0]`.\n",
    "    \"\"\"\n",
    "\n",
    "    mP = np.pad(mI, (boxRadius, boxRadius), mode = 'edge')\n",
    "    tW = ski.util.view_as_windows(mP, (2 * boxRadius + 1, 2 * boxRadius + 1))\n",
    "    mO = np.mean(tW, axis = (2, 3))\n",
    "\n",
    "    return mO\n",
    "\n",
    "#===============================================================#"
   ]
  },
  {
   "cell_type": "markdown",
   "metadata": {},
   "source": [
    "* <font color='brown'>(**#**)</font> The function `view_as_windows()` is mainly for Non Linear and / or Shift Variant operators which can not be implemented using _Convolution_."
   ]
  }
 ],
 "metadata": {
  "kernelspec": {
   "display_name": "Python 3",
   "language": "python",
   "name": "python3"
  },
  "language_info": {
   "codemirror_mode": {
    "name": "ipython",
    "version": 3
   },
   "file_extension": ".py",
   "mimetype": "text/x-python",
   "name": "python",
   "nbconvert_exporter": "python",
   "pygments_lexer": "ipython3",
   "version": "3.12.7"
  },
  "toc": {
   "base_numbering": 1,
   "nav_menu": {},
   "number_sections": false,
   "sideBar": true,
   "skip_h1_title": false,
   "title_cell": "Table of Contents",
   "title_sidebar": "Contents",
   "toc_cell": false,
   "toc_position": {},
   "toc_section_display": true,
   "toc_window_display": true
  },
  "varInspector": {
   "cols": {
    "lenName": 16,
    "lenType": 16,
    "lenVar": 40
   },
   "kernels_config": {
    "python": {
     "delete_cmd_postfix": "",
     "delete_cmd_prefix": "del ",
     "library": "var_list.py",
     "varRefreshCmd": "print(var_dic_list())"
    },
    "r": {
     "delete_cmd_postfix": ") ",
     "delete_cmd_prefix": "rm(",
     "library": "var_list.r",
     "varRefreshCmd": "cat(var_dic_list()) "
    }
   },
   "types_to_exclude": [
    "module",
    "function",
    "builtin_function_or_method",
    "instance",
    "_Feature"
   ],
   "window_display": false
  },
  "vscode": {
   "interpreter": {
    "hash": "39577bab1f263e62e0b74f5b8086bd735049bf4751f6562b2d4b2969dc308293"
   }
  }
 },
 "nbformat": 4,
 "nbformat_minor": 4
}
