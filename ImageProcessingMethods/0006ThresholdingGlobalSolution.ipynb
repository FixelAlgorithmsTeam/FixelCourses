{
 "cells": [
  {
   "attachments": {},
   "cell_type": "markdown",
   "metadata": {},
   "source": [
    "[![Fixel Algorithms](https://fixelalgorithms.co/images/CCExt.png)](https://fixelalgorithms.gitlab.io)\n",
    "\n",
    "# Image Processing with Python\n",
    "\n",
    "## Global Thresholding\n",
    "\n",
    "> Notebook by:\n",
    "> - Royi Avital RoyiAvital@fixelalgorithms.com\n",
    "\n",
    "## Revision History\n",
    "\n",
    "| Version | Date       | User        |Content / Changes                                                   |\n",
    "|---------|------------|-------------|--------------------------------------------------------------------|\n",
    "| 0.1.000 | 03/10/2023 | Royi Avital | First version                                                      |"
   ]
  },
  {
   "attachments": {},
   "cell_type": "markdown",
   "metadata": {},
   "source": [
    "[![Open In Colab](https://colab.research.google.com/assets/colab-badge.svg)](https://colab.research.google.com/github/FixelAlgorithmsTeam/FixelCourses/blob/master/ImageProcessingPython/0002SciKitImageBasics.ipynb)"
   ]
  },
  {
   "cell_type": "code",
   "execution_count": null,
   "metadata": {
    "ExecuteTime": {
     "end_time": "2022-02-02T09:30:06.492269Z",
     "start_time": "2022-02-02T09:30:06.220934Z"
    }
   },
   "outputs": [],
   "source": [
    "# Import Packages\n",
    "\n",
    "# General Tools\n",
    "import numpy as np\n",
    "import scipy as sp\n",
    "import pandas as pd\n",
    "\n",
    "from numba import jit, njit\n",
    "\n",
    "# Image Processing\n",
    "import skimage as ski\n",
    "\n",
    "# Machine Learning\n",
    "\n",
    "\n",
    "# Miscellaneous\n",
    "import os\n",
    "from platform import python_version\n",
    "import random\n",
    "import timeit\n",
    "\n",
    "# Typing\n",
    "from typing import Callable, List, Tuple\n",
    "\n",
    "# Visualization\n",
    "import matplotlib as mpl\n",
    "import matplotlib.pyplot as plt\n",
    "import seaborn as sns\n",
    "\n",
    "# Jupyter\n",
    "from IPython import get_ipython\n",
    "from IPython.display import Image, display\n",
    "from ipywidgets import Dropdown, FloatRangeSlider, FloatSlider, interact, IntSlider, Layout"
   ]
  },
  {
   "attachments": {},
   "cell_type": "markdown",
   "metadata": {},
   "source": [
    "## Notations\n",
    "\n",
    "* <font color='red'>(**?**)</font> Question to answer interactively.\n",
    "* <font color='blue'>(**!**)</font> Simple task to add code for the notebook.\n",
    "* <font color='green'>(**@**)</font> Optional / Extra self practice.\n",
    "* <font color='brown'>(**#**)</font> Note / Useful resource / Food for thought.\n",
    "\n",
    "### Code Exercise\n",
    "\n",
    " - Single line fill\n",
    "\n",
    " ```python\n",
    " vallToFill = ???\n",
    " ```\n",
    "\n",
    " - Multi Line to Fill (At least one)\n",
    "\n",
    " ```python\n",
    " # You need to start writing\n",
    " ????\n",
    " ```\n",
    "\n",
    " - Section to Fill\n",
    "\n",
    "```python\n",
    "#===========================Fill This===========================#\n",
    "# 1. Explanation about what to do.\n",
    "# !! Remarks to follow / take under consideration.\n",
    "mX = ???\n",
    "\n",
    "???\n",
    "#===============================================================#\n",
    "```"
   ]
  },
  {
   "cell_type": "code",
   "execution_count": null,
   "metadata": {},
   "outputs": [],
   "source": [
    "# Configuration\n",
    "# %matplotlib inline\n",
    "\n",
    "seedNum = 512\n",
    "np.random.seed(seedNum)\n",
    "random.seed(seedNum)\n",
    "\n",
    "# sns.set_theme() #>! Apply SeaBorn theme\n",
    "\n",
    "runInGoogleColab = 'google.colab' in str(get_ipython())"
   ]
  },
  {
   "cell_type": "code",
   "execution_count": null,
   "metadata": {},
   "outputs": [],
   "source": [
    "# Constants\n",
    "\n"
   ]
  },
  {
   "cell_type": "code",
   "execution_count": null,
   "metadata": {},
   "outputs": [],
   "source": [
    "# Fixel Algorithms Packages\n"
   ]
  },
  {
   "cell_type": "code",
   "execution_count": null,
   "metadata": {},
   "outputs": [],
   "source": [
    "# General Auxiliary Functions\n",
    "\n",
    "def PlotThrImage( mI: np.ndarray, valThr: float ) -> None:\n",
    "\n",
    "    mB = mI >= valThr\n",
    "\n",
    "    hF, vHA = plt.subplots(nrows = 1, ncols = 2, figsize = (14, 6))\n",
    "    vHA = vHA.flat\n",
    "    \n",
    "    hA = vHA[0]\n",
    "    hA.imshow(mI, cmap = 'gray')\n",
    "    hA.set_title('Input Image')\n",
    "\n",
    "    hA = vHA[1]\n",
    "    hA.imshow(mB, cmap = 'gray')\n",
    "    hA.set_title(f'Binarized Image, T = {valThr:0.3f}')\n",
    "\n",
    "    return\n",
    "    \n"
   ]
  },
  {
   "attachments": {},
   "cell_type": "markdown",
   "metadata": {},
   "source": [
    "## Image Thresholding\n",
    "\n",
    "Image Thresholding use thresholding for the task of classification of each pixel.  \n",
    "Given a set of thresholds $\\mathcal{T} = \\left\\{ {T}_{1}, {T}_{2}, \\ldots, \\right\\}$ it partitions the image into $L = \\left| \\mathcal{T} \\right| + 1$ labels.\n",
    "\n",
    "The case of a single threshold is called _Binarization_.\n",
    "\n",
    "There are many approaches for calculating the threshold.  \n",
    "This notebook focuses on the binary case with Global threshold.\n",
    "\n",
    "* <font color='brown'>(**#**)</font> Binarization is one of the most common pre processes for _Optical Character Recognition_ (OCR).\n",
    "* <font color='brown'>(**#**)</font> Commonly the threshold is the result of optimizing the parameter of an objective.\n",
    "* <font color='brown'>(**#**)</font> The [Document Image Binarization](https://dib.cin.ufpe.br) and [DIBCO](https://users.iit.demokritos.gr/~bgat/DIBCO2009/benchmark) are common data sets for the task."
   ]
  },
  {
   "cell_type": "code",
   "execution_count": null,
   "metadata": {},
   "outputs": [],
   "source": [
    "# Parameters\n",
    "\n",
    "# imgUrl = 'https://i.imgur.com/b8bBmtT.png' #<! From DIBCO data set\n",
    "imgUrl = 'https://i.postimg.cc/8PQCVSQK/148749752-88e0661f-4356-45f5-b1b1-bc34cd872164.png' #<! From DIBCO data set\n",
    "\n",
    "numBins = 200"
   ]
  },
  {
   "cell_type": "markdown",
   "metadata": {},
   "source": [
    "## Generate Data"
   ]
  },
  {
   "cell_type": "markdown",
   "metadata": {},
   "source": [
    "This section loads the image used to evaluate the results.  "
   ]
  },
  {
   "cell_type": "code",
   "execution_count": null,
   "metadata": {},
   "outputs": [],
   "source": [
    "# Load / Generate Data\n",
    "\n",
    "mI = ski.io.imread(imgUrl)\n",
    "mI = ski.util.img_as_float64(mI)\n",
    "mI = np.mean(mI, axis = 2)\n"
   ]
  },
  {
   "cell_type": "code",
   "execution_count": null,
   "metadata": {},
   "outputs": [],
   "source": [
    "# Display the Data\n",
    "\n",
    "hF, hA = plt.subplots(figsize = (8, 6))\n",
    "hA.imshow(mI, cmap = 'gray')\n",
    "hA.set_title('Input Image');"
   ]
  },
  {
   "cell_type": "markdown",
   "metadata": {},
   "source": [
    "## Global Image Thresholding\n",
    "\n",
    "The approach of _Global Image Thresholding_ is applying the **same** threshold for all pixels.    \n",
    "\n",
    "* <font color='brown'>(**#**)</font> By definition a global implementation means the threshold can not be optimized to local anomalies.\n",
    "* <font color='brown'>(**#**)</font> Global methods are popular when the the compute resources are limited.\n"
   ]
  },
  {
   "cell_type": "markdown",
   "metadata": {},
   "source": [
    "### Manual Method\n",
    "\n",
    "Set the threshold manually."
   ]
  },
  {
   "cell_type": "code",
   "execution_count": null,
   "metadata": {},
   "outputs": [],
   "source": [
    "# Manual Global Image Thresholding\n",
    "\n",
    "hPlotThrImage = lambda valThr: PlotThrImage(mI, valThr)\n",
    "\n",
    "valThrSlider = FloatSlider(value = 0.5, min = 0, max = 1, step = 0.01, \n",
    "                                  description = 'Threshold Value:', continuous_update = False, \n",
    "                                  orientation = 'horizontal', readout = True, readout_format = '0.2f', \n",
    "                                  layout = Layout(width = '20%'), style = {'description_width': 'initial'})\n",
    "interact(hPlotThrImage, valThr = valThrSlider)\n",
    "\n",
    "plt.show()\n"
   ]
  },
  {
   "cell_type": "markdown",
   "metadata": {},
   "source": [
    "### Otsu Threshold\n",
    "\n",
    "The [Otsu Method](https://en.wikipedia.org/wiki/Otsu%27s_method) is based on finding the threshold which maximizes the ratio between the _inter cluster variance_ (${\\sigma}_{b}^{2}$) and _intra cluster variance_ (${\\sigma}_{w}^{2}$):\n",
    "\n",
    "$$ \\arg \\max_{T} \\frac{{\\sigma}_{b}^{2} \\left( T \\right)}{{\\sigma}_{w}^{2} \\left( T \\right)} $$\n",
    "\n",
    "Since the total variance is the sum of variances, ${\\sigma}^{2} = {\\sigma}_{w}^{2} \\left( T \\right) + {\\sigma}_{b}^{2} \\left( T \\right)$ , one can maximize the _inter cluster variance_ $\\arg \\max_{T} {\\sigma}_{b}^{2} \\left( T \\right)$.  \n",
    "The method to calculate the optimal threshold, $T$, is a 1D optimization problem.\n",
    "\n",
    "Given an histogram of probabilities where $p \\left( i \\right)$ is the probability of the the $i$ -th value and a threshold $TT, then:\n",
    "\n",
    "$$ {w}_{0} = \\sum_{i = 0}^{T - 1} p \\left( i \\right), \\, {w}_{1} = \\sum_{i = T}^{L - 1} p \\left( i \\right), \\, {\\mu}_{0} = \\frac{1}{ {w}_{0} } \\sum_{i = 0}^{T - 1} i p \\left( i \\right), \\, {\\mu}_{1} = \\frac{1}{ {w}_{1} } \\sum_{i = T}^{L - 1} i p \\left( i \\right), \\, \\mu = \\sum_{i = 0}^{L - 1} i p \\left( i \\right) $$\n",
    "\n",
    "The inter class variance can be derived as:\n",
    "\n",
    "$$ {\\sigma}_{b}^{2} = {w}_{0} {\\left( {\\mu}_{0} - \\mu \\right)}^{2} + {w}_{1} {\\left( {\\mu}_{1} - \\mu \\right)}^{2} = {w}_{0} {w}_{1} {\\left( {\\mu}_{1} - {\\mu}_{0} \\right)}^{2} $$\n",
    "\n",
    "Since ${w}_{0} + {w}_{1} = 1$ and $\\mu = {w}_{0} {\\mu}_{0} + {w}_{1} {\\mu}_{1}$ it can be written as:\n",
    "\n",
    "$$ {\\sigma}_{b}^{2} = \\frac{{w}_{0}}{1 - {w}_{0}} {\\left( {\\mu}_{0} - \\mu \\right)}^{2} = \\frac{1}{ {w}_{0} \\left( 1 - {w}_{0} \\right) } {\\left( \\sum_{i = 0}^{T - 1} i p \\left( i \\right) - {w}_{0} \\mu \\right)}^{2} $$\n",
    "\n",
    "* <font color='brown'>(**#**)</font> The motivation is to formulate it as a function of a single group is to enable broadcasting a simpler on a 1D arrays.\n",
    "\n",
    "This section implements the Otsu Method."
   ]
  },
  {
   "cell_type": "code",
   "execution_count": null,
   "metadata": {},
   "outputs": [],
   "source": [
    "# Otsu Method\n",
    "\n",
    "#===========================Fill This===========================#\n",
    "# 1. Implement the Otsu Method as a function.\n",
    "# 2. The input is an Histogram `vH` which is calculated at the grid `vG`.\n",
    "# !! Each value of `vG` represents the center of the bin of the histogram.\n",
    "# !! Numba can be used.\n",
    "\n",
    "def OtsuMethod( vH: np.ndarray, vG: np.ndarray ) -> float:    \n",
    "    \"\"\"\n",
    "    Compute the Otsu threshold on a grid of points using a histogram vector.\n",
    "    \n",
    "    Parameters:\n",
    "    -----------\n",
    "    vH : np.ndarray\n",
    "        The histogram vector of the image, normalized such that it represents\n",
    "        probabilities and sums to 1.\n",
    "    vG : np.ndarray\n",
    "        The grid points to divide the intensity range [0, 1].\n",
    "        \n",
    "    Returns:\n",
    "    --------\n",
    "    valThr : float\n",
    "        The optimal threshold value in the range [0, 1] that maximizes the inter class variance.\n",
    "\n",
    "    Remarks:\n",
    "    --------\n",
    "     - The input histogram can be based on counts or probabilities.\n",
    "     - The optimal threshold also minimizes the intra class variance.\n",
    "    \"\"\"\n",
    "    \n",
    "    # Normalize the histogram so that it represents probabilities\n",
    "    vH = vH / np.sum(vH) #<! Does not mutate the input\n",
    "    \n",
    "    # Compute cumulative sums for probabilities (Weights) and means\n",
    "    vCdf     = np.cumsum(vH) #<! CDF (w_0)\n",
    "    vCumMean = np.cumsum(vH * vG) #<! μ_0 * w_0\n",
    "    \n",
    "    # Total mean\n",
    "    μ = vCumMean[-1]\n",
    "    \n",
    "    # Inter class variance for each threshold\n",
    "    vNum = np.square(vCumMean - μ * vCdf) #<! Numerator\n",
    "    vDen = vCdf * (1 - vCdf) #<! Denominator\n",
    "    \n",
    "    # Avoid division by zero\n",
    "    vDen[vDen == 0] = 1e9 #<! Large number\n",
    "    \n",
    "    # Inter class variance for each threshold\n",
    "    vσb = vNum / vDen\n",
    "    \n",
    "    # The optimal threshold is where the between class variance is maximized\n",
    "    idxThr = np.argmax(vσb)\n",
    "    valThr = vG[idxThr]\n",
    "\n",
    "    return valThr\n",
    "\n",
    "#===============================================================#"
   ]
  },
  {
   "cell_type": "code",
   "execution_count": null,
   "metadata": {},
   "outputs": [],
   "source": [
    "# Image Histogram\n",
    "\n",
    "vH, vG = ski.exposure.histogram(mI, nbins = numBins, normalize = True)"
   ]
  },
  {
   "cell_type": "code",
   "execution_count": null,
   "metadata": {},
   "outputs": [],
   "source": [
    "# Calculate the Threshold\n",
    "\n",
    "valThr = OtsuMethod(vH, vG)\n"
   ]
  },
  {
   "cell_type": "code",
   "execution_count": null,
   "metadata": {},
   "outputs": [],
   "source": [
    "# Display Result\n",
    "\n",
    "PlotThrImage(mI, valThr)"
   ]
  },
  {
   "cell_type": "markdown",
   "metadata": {},
   "source": [
    "* <font color='red'>(**?**)</font> Will higher value of `numBins` improve, in the sense of the Otsu method objective, results?  \n",
    "  Consider the type of the input image.\n",
    "\n",
    "<!-- There is no point with more bins than the number of levels in the image. -->"
   ]
  },
  {
   "cell_type": "markdown",
   "metadata": {},
   "source": [
    "* <font color='red'>(**?**)</font> Consider a very large image with float values. How could you use [`scipy.optimize.minimize_scalar`](https://docs.scipy.org/doc/scipy/reference/generated/scipy.optimize.minimize_scalar.html)?\n",
    "\n",
    "<!-- Solve with crude binning and use the function for finetuning given a starting point. -->"
   ]
  }
 ],
 "metadata": {
  "kernelspec": {
   "display_name": "Python 3",
   "language": "python",
   "name": "python3"
  },
  "language_info": {
   "codemirror_mode": {
    "name": "ipython",
    "version": 3
   },
   "file_extension": ".py",
   "mimetype": "text/x-python",
   "name": "python",
   "nbconvert_exporter": "python",
   "pygments_lexer": "ipython3",
   "version": "3.12.7"
  },
  "toc": {
   "base_numbering": 1,
   "nav_menu": {},
   "number_sections": false,
   "sideBar": true,
   "skip_h1_title": false,
   "title_cell": "Table of Contents",
   "title_sidebar": "Contents",
   "toc_cell": false,
   "toc_position": {},
   "toc_section_display": true,
   "toc_window_display": true
  },
  "varInspector": {
   "cols": {
    "lenName": 16,
    "lenType": 16,
    "lenVar": 40
   },
   "kernels_config": {
    "python": {
     "delete_cmd_postfix": "",
     "delete_cmd_prefix": "del ",
     "library": "var_list.py",
     "varRefreshCmd": "print(var_dic_list())"
    },
    "r": {
     "delete_cmd_postfix": ") ",
     "delete_cmd_prefix": "rm(",
     "library": "var_list.r",
     "varRefreshCmd": "cat(var_dic_list()) "
    }
   },
   "types_to_exclude": [
    "module",
    "function",
    "builtin_function_or_method",
    "instance",
    "_Feature"
   ],
   "window_display": false
  },
  "vscode": {
   "interpreter": {
    "hash": "39577bab1f263e62e0b74f5b8086bd735049bf4751f6562b2d4b2969dc308293"
   }
  }
 },
 "nbformat": 4,
 "nbformat_minor": 4
}
