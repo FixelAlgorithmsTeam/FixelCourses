{
 "cells": [
  {
   "attachments": {},
   "cell_type": "markdown",
   "metadata": {},
   "source": [
    "[![Fixel Algorithms](https://fixelalgorithms.co/images/CCExt.png)](https://fixelalgorithms.gitlab.io)\n",
    "\n",
    "# Image Processing with Python\n",
    "\n",
    "## Interpolation by the DFT\n",
    "\n",
    "> Notebook by:\n",
    "> - Royi Avital RoyiAvital@fixelalgorithms.com\n",
    "\n",
    "## Revision History\n",
    "\n",
    "| Version | Date       | User        |Content / Changes                                                   |\n",
    "|---------|------------|-------------|--------------------------------------------------------------------|\n",
    "| 0.1.000 | 23/11/2024 | Royi Avital | First version                                                      |"
   ]
  },
  {
   "attachments": {},
   "cell_type": "markdown",
   "metadata": {},
   "source": [
    "[![Open In Colab](https://colab.research.google.com/assets/colab-badge.svg)](https://colab.research.google.com/github/FixelAlgorithmsTeam/FixelCourses/blob/master/ImageProcessingPython/0002SciKitImageBasics.ipynb)"
   ]
  },
  {
   "cell_type": "code",
   "execution_count": null,
   "metadata": {
    "ExecuteTime": {
     "end_time": "2022-02-02T09:30:06.492269Z",
     "start_time": "2022-02-02T09:30:06.220934Z"
    }
   },
   "outputs": [],
   "source": [
    "# Import Packages\n",
    "\n",
    "# General Tools\n",
    "import numpy as np\n",
    "import scipy as sp\n",
    "import pandas as pd\n",
    "\n",
    "from numba import jit, njit\n",
    "\n",
    "# Image Processing\n",
    "import skimage as ski\n",
    "\n",
    "# Machine Learning\n",
    "\n",
    "\n",
    "# Miscellaneous\n",
    "import itertools\n",
    "import math\n",
    "import os\n",
    "from platform import python_version\n",
    "import random\n",
    "import timeit\n",
    "\n",
    "# Typing\n",
    "from typing import Callable, Literal, List, Tuple\n",
    "\n",
    "# Visualization\n",
    "import matplotlib as mpl\n",
    "import matplotlib.pyplot as plt\n",
    "import seaborn as sns\n",
    "\n",
    "# Jupyter\n",
    "from IPython import get_ipython\n",
    "from IPython.display import Image, display\n",
    "from ipywidgets import Dropdown, FloatRangeSlider, FloatSlider, interact, IntSlider, Layout"
   ]
  },
  {
   "attachments": {},
   "cell_type": "markdown",
   "metadata": {},
   "source": [
    "## Notations\n",
    "\n",
    "* <font color='red'>(**?**)</font> Question to answer interactively.\n",
    "* <font color='blue'>(**!**)</font> Simple task to add code for the notebook.\n",
    "* <font color='green'>(**@**)</font> Optional / Extra self practice.\n",
    "* <font color='brown'>(**#**)</font> Note / Useful resource / Food for thought.\n",
    "\n",
    "### Code Exercise\n",
    "\n",
    " - Single line fill\n",
    "\n",
    " ```python\n",
    " vallToFill = ???\n",
    " ```\n",
    "\n",
    " - Multi Line to Fill (At least one)\n",
    "\n",
    " ```python\n",
    " # You need to start writing\n",
    " ????\n",
    " ```\n",
    "\n",
    " - Section to Fill\n",
    "\n",
    "```python\n",
    "#===========================Fill This===========================#\n",
    "# 1. Explanation about what to do.\n",
    "# !! Remarks to follow / take under consideration.\n",
    "mX = ???\n",
    "\n",
    "???\n",
    "#===============================================================#\n",
    "```"
   ]
  },
  {
   "cell_type": "code",
   "execution_count": null,
   "metadata": {},
   "outputs": [],
   "source": [
    "# Configuration\n",
    "# %matplotlib inline\n",
    "\n",
    "seedNum = 512\n",
    "np.random.seed(seedNum)\n",
    "random.seed(seedNum)\n",
    "\n",
    "# sns.set_theme() #>! Apply SeaBorn theme\n",
    "\n",
    "runInGoogleColab = 'google.colab' in str(get_ipython())"
   ]
  },
  {
   "cell_type": "code",
   "execution_count": null,
   "metadata": {},
   "outputs": [],
   "source": [
    "# Constants\n",
    "\n"
   ]
  },
  {
   "cell_type": "code",
   "execution_count": null,
   "metadata": {},
   "outputs": [],
   "source": [
    "# Fixel Algorithms Packages\n"
   ]
  },
  {
   "cell_type": "code",
   "execution_count": null,
   "metadata": {},
   "outputs": [],
   "source": [
    "# General Auxiliary Functions\n",
    "\n",
    "def IsOdd( inNum: int ) -> bool:\n",
    "    \"\"\"\n",
    "    Check whether an integer is odd.\n",
    "\n",
    "    Parameters\n",
    "    ----------\n",
    "    inNum : int\n",
    "        The input integer to check.\n",
    "\n",
    "    Returns\n",
    "    -------\n",
    "    bool\n",
    "        `True` if the input integer is odd, `False` otherwise.\n",
    "\n",
    "    Notes\n",
    "    -----\n",
    "    - The function uses the bitwise AND operation (`& 1`) to determine if the input number is odd.\n",
    "      An integer is odd if its least significant bit is 1 in binary representation.\n",
    "    - For example:\n",
    "        - `5` in binary is `101`, and `5 & 1` equals `1`, so it is odd.\n",
    "        - `4` in binary is `100`, and `4 & 1` equals `0`, so it is even.\n",
    "\n",
    "    Examples\n",
    "    --------\n",
    "    >>> IsOdd(5)\n",
    "    True\n",
    "    >>> IsOdd(4)\n",
    "    False\n",
    "    \"\"\"\n",
    "\n",
    "    return inNum & 1\n",
    "\n",
    "def IsEven( inNum: int ) -> bool:\n",
    "    \"\"\"\n",
    "    Check whether an integer is even.\n",
    "\n",
    "    Parameters\n",
    "    ----------\n",
    "    inNum : int\n",
    "        The input integer to check.\n",
    "\n",
    "    Returns\n",
    "    -------\n",
    "    bool\n",
    "        `True` if the input integer is even, `False` otherwise.\n",
    "\n",
    "    Notes\n",
    "    -----\n",
    "    - The function uses the bitwise AND operation (`& 1`) to determine if the input number is odd.\n",
    "      An integer is even if its least significant bit is 0 in binary representation.\n",
    "    - For example:\n",
    "        - `5` in binary is `101`, and `5 & 1` equals `1`, so it is odd.\n",
    "        - `4` in binary is `100`, and `4 & 1` equals `0`, so it is even.\n",
    "\n",
    "    Examples\n",
    "    --------\n",
    "    >>> IsEven(5)\n",
    "    False\n",
    "    >>> IsEven(4)\n",
    "    True\n",
    "    \"\"\"\n",
    "\n",
    "    return inNum & 1\n",
    "\n",
    "def DftReSample( vX: np.ndarray, outLen: int ) -> np.ndarray:\n",
    "    \"\"\"\n",
    "    Resamples a 1D signal to a specified length using the Discrete Fourier Transform (DFT).\n",
    "\n",
    "    This function performs resampling (UpSampling or DownSampling) in the frequency domain using\n",
    "    \"Ideal Low Pass\" which is equivalent ot the Dirichlet Kernel interpolation (\"Sinc Interpolation\") on time domain.\n",
    "    The method ensures energy preservation by Parseval's theorem and maintains conjugate symmetry in the frequency domain.\n",
    "\n",
    "    Parameters\n",
    "    ----------\n",
    "    vX : np.ndarray\n",
    "        Input 1D signal to be resampled. Must be a one dimensional array.\n",
    "    outLen : int\n",
    "        The desired length of the resampled signal.\n",
    "\n",
    "    Returns\n",
    "    -------\n",
    "    np.ndarray\n",
    "        The resampled signal of length `outLen`.\n",
    "\n",
    "    Raises\n",
    "    ------\n",
    "    ValueError\n",
    "        If the input `vX` is not a one dimensional array.\n",
    "\n",
    "    Notes\n",
    "    -----\n",
    "    - The function operates in the frequency domain by applying zero padding (UpSampling) \n",
    "      or truncation (DownSampling) to the Fourier coefficients. This is equivalent to Sinc \n",
    "      Interpolation in the time domain.\n",
    "    - The function accounts for the symmetry of the DFT coefficients, ensuring proper treatment\n",
    "      of the Nyquist frequency for real valued signals.\n",
    "\n",
    "    Algorithm\n",
    "    ---------\n",
    "    - If the output length `outLen` is greater than the input length, the signal is up-sampled by\n",
    "      zero-padding the DFT coefficients symmetrically.\n",
    "    - If `outLen` is smaller than the input length, the signal is down-sampled by truncating the\n",
    "      DFT coefficients, which is equivalent to low-pass filtering.\n",
    "    - In both cases, the resampled signal is normalized by the interpolation factor to preserve energy.\n",
    "\n",
    "    References\n",
    "    ----------\n",
    "    - [The Proper Way to Do Sinc Downsampling (DFT Downsampling) for Uniformly Sampled Discrete Signals \n",
    "       with Finite Number of Samples](https://dsp.stackexchange.com/questions/72433)\n",
    "\n",
    "    Examples\n",
    "    --------\n",
    "    >>> import numpy as np\n",
    "    >>> vX = np.sin(2 * np.pi * np.linspace(0, 1, 100))  # A sine wave\n",
    "    >>> vY = DftReSample(vX, 200)  #<! UpSample to 200 points\n",
    "    >>> vZ = DftReSample(vX, 50)   #<! DownSample to 50 points\n",
    "    \"\"\"\n",
    "\n",
    "    if (np.ndim(vX) != 1):\n",
    "        raise ValueError('The input must be a vector')\n",
    "    \n",
    "    inLen = len(vX)\n",
    "    \n",
    "    if (outLen == inLen):\n",
    "        return np.copy(vX)\n",
    "    \n",
    "    interpFactor = outLen / inLen\n",
    "    vXDft = np.fft.fft(vX)\n",
    "\n",
    "    if (outLen > inLen):\n",
    "        # UpSample\n",
    "        halfNSamples = inLen // 2\n",
    "        if IsOdd(inLen):\n",
    "            vXDftInt = interpFactor * np.r_[(vXDft[:(halfNSamples + 1)], np.zeros_like(vXDft, shape = outLen - inLen), vXDft[(halfNSamples + 1):])]\n",
    "        else:\n",
    "            vXDftInt = interpFactor * np.r_[(vXDft[:halfNSamples], vXDft[halfNSamples] / 2, np.zeros_like(vXDft, shape = outLen - inLen - 1), vXDft[halfNSamples] / 2, vXDft[(halfNSamples + 1):])]\n",
    "    elif (outLen < inLen):\n",
    "        # DownSample\n",
    "        # Equivalent of applying an LPF\n",
    "        halfNSamples = outLen // 2\n",
    "        if IsOdd(outLen):\n",
    "            vXDftInt = interpFactor * np.r_[(vXDft[:halfNSamples], vXDft[(inLen - halfNSamples):])]\n",
    "        else:\n",
    "            # If the signal is known to be real the Nyquist Sample should be real.\n",
    "            # It is not enforced here, should be enforced either specifically or by using `fft(..., 'symmetric');`.\n",
    "            vXDftInt = interpFactor * np.r_[(vXDft[:halfNSamples], vXDft[halfNSamples] / 2, vXDft[(halfNSamples + 1):])]\n",
    "    \n",
    "    vY = np.real(np.fft.ifft(vXDftInt))\n",
    "\n",
    "\n",
    "    return vY\n",
    "\n"
   ]
  },
  {
   "cell_type": "markdown",
   "metadata": {},
   "source": [
    "* <font color='blue'>(**!**)</font> Optimize the code to use `np.fft.rfft()`."
   ]
  },
  {
   "cell_type": "code",
   "execution_count": null,
   "metadata": {},
   "outputs": [],
   "source": [
    "vX = np.array([1.0, 0.0, -1.0, 0.0, 1.0, 0.0, -1.0, 0.0]) #!< Cosine\n",
    "\n",
    "vX = np.array([1.0, 0.0, -1.0, 0.0, 1.0, 0.0, -1.0])\n",
    "\n",
    "vY = DftReSample(vX, 94)\n",
    "vY.shape"
   ]
  },
  {
   "cell_type": "code",
   "execution_count": null,
   "metadata": {},
   "outputs": [],
   "source": [
    "plt.plot(vY);"
   ]
  },
  {
   "attachments": {},
   "cell_type": "markdown",
   "metadata": {},
   "source": [
    "## Resampling in Frequency Domain\n",
    "\n",
    "The ideal sampling and reconstruction using the Fourier Domain is by the [Sinc Kernel](https://en.wikipedia.org/wiki/Sinc_filter) (See [Whittaker Shannon Interpolation Formula](https://en.wikipedia.org/wiki/Whittaker%E2%80%93Shannon_interpolation_formula)).  \n",
    "The [Sinc Function](https://en.wikipedia.org/wiki/Sinc_function) is the ideal LPF on the _Frequnecy Domain_.\n",
    "\n",
    "When dealing with **Discrete Signals** the Sinc Kernel is replaced by the [Dirichlet Kernel](https://en.wikipedia.org/wiki/Dirichlet_kernel).\n",
    "\n",
    "This notebook examines the performance per implementation.\n",
    "\n",
    "* <font color='brown'>(**#**)</font> See [The Proper Way to Do Sinc Downsampling (DFT Downsampling) for Uniformly Sampled Discrete Signals with Finite Number of Samples](https://dsp.stackexchange.com/questions/72433)."
   ]
  },
  {
   "cell_type": "code",
   "execution_count": null,
   "metadata": {},
   "outputs": [],
   "source": [
    "# Parameters\n",
    "\n",
    "# imgUrl = 'https://i.imgur.com/3BbIXdH.png' #<! A turtle climbing the Everest!\n",
    "imgUrl = 'https://i.postimg.cc/63rN33GZ/3BbIXdH.png' #<! A turtle climbing the Everest!\n",
    "\n",
    "lImageSize      = [100, 200, 300, 400, 500, 600, 700, 800, 900, 1000]\n",
    "lKernelRadius   = [5, 10, 15, 20, 25, 30, 35, 40]\n",
    "\n",
    "lImageSize      = [100, 200, 300, 400]\n",
    "lKernelRadius   = [5, 10, 15]\n"
   ]
  },
  {
   "cell_type": "markdown",
   "metadata": {},
   "source": [
    "## Generate Data\n",
    "\n",
    "This section loads the image used to evaluate the results.  "
   ]
  },
  {
   "cell_type": "code",
   "execution_count": null,
   "metadata": {},
   "outputs": [],
   "source": [
    "# Load / Generate Data\n",
    "\n",
    "mI = ski.io.imread(imgUrl)\n",
    "mI = ski.util.img_as_float64(mI)\n",
    "mI = np.mean(mI, axis = 2) #<! Single channel image"
   ]
  },
  {
   "cell_type": "code",
   "execution_count": null,
   "metadata": {},
   "outputs": [],
   "source": [
    "# Display the Data\n",
    "\n",
    "hF, hA = plt.subplots(figsize = (8, 6))\n",
    "hA.imshow(mI, cmap = 'gray')\n",
    "hA.set_title(f'Input Image');"
   ]
  },
  {
   "cell_type": "code",
   "execution_count": null,
   "metadata": {},
   "outputs": [],
   "source": [
    "# Pandas Data Frame\n",
    "\n",
    "numComb  = len(lImageSize) * len(lKernelRadius)\n",
    "dRunTime = {\n",
    "    'Image Size'                            : [],\n",
    "    'Kernel Radius'                         : [],\n",
    "    'Direct Convolution Run Time [Mili Sec]': [],\n",
    "    'DFT Convolution Run Time [Mili Sec]'   : [],\n",
    "    }\n",
    "for (imgSize, krnlRadius) in itertools.product(lImageSize, lKernelRadius):\n",
    "    dRunTime['Image Size'].append(imgSize)\n",
    "    dRunTime['Kernel Radius'].append(krnlRadius)\n",
    "\n",
    "    mII = ski.transform.resize(mI, (imgSize, imgSize), preserve_range = True)\n",
    "    mKK = np.random.rand(2 * krnlRadius + 1, 2 * krnlRadius + 1)\n",
    "    mKK /= np.sum(mKK)\n",
    "\n",
    "    runTime = timeit.timeit('sp.signal.convolve(mII, mKK, method = \"direct\")', number = 3, setup = 'import scipy as sp', globals = {'mII': mII, 'mKK': mKK})\n",
    "    dRunTime['Direct Convolution Run Time [Mili Sec]'].append(runTime * 1e3)\n",
    "\n",
    "    runTime = timeit.timeit('sp.signal.convolve(mII, mKK, method = \"fft\")', number = 3, setup = 'import scipy as sp', globals = {'mII': mII, 'mKK': mKK})\n",
    "    dRunTime['DFT Convolution Run Time [Mili Sec]'].append(runTime * 1e3)\n",
    "\n",
    "dfRunTime = pd.DataFrame(dRunTime)\n",
    "dfRunTime"
   ]
  },
  {
   "cell_type": "markdown",
   "metadata": {},
   "source": [
    "* <font color='red'>(**?**)</font> What about the cases for Gaussian Blur and Box Blur?"
   ]
  }
 ],
 "metadata": {
  "kernelspec": {
   "display_name": "Python 3",
   "language": "python",
   "name": "python3"
  },
  "language_info": {
   "codemirror_mode": {
    "name": "ipython",
    "version": 3
   },
   "file_extension": ".py",
   "mimetype": "text/x-python",
   "name": "python",
   "nbconvert_exporter": "python",
   "pygments_lexer": "ipython3",
   "version": "3.12.8"
  },
  "toc": {
   "base_numbering": 1,
   "nav_menu": {},
   "number_sections": false,
   "sideBar": true,
   "skip_h1_title": false,
   "title_cell": "Table of Contents",
   "title_sidebar": "Contents",
   "toc_cell": false,
   "toc_position": {},
   "toc_section_display": true,
   "toc_window_display": true
  },
  "varInspector": {
   "cols": {
    "lenName": 16,
    "lenType": 16,
    "lenVar": 40
   },
   "kernels_config": {
    "python": {
     "delete_cmd_postfix": "",
     "delete_cmd_prefix": "del ",
     "library": "var_list.py",
     "varRefreshCmd": "print(var_dic_list())"
    },
    "r": {
     "delete_cmd_postfix": ") ",
     "delete_cmd_prefix": "rm(",
     "library": "var_list.r",
     "varRefreshCmd": "cat(var_dic_list()) "
    }
   },
   "types_to_exclude": [
    "module",
    "function",
    "builtin_function_or_method",
    "instance",
    "_Feature"
   ],
   "window_display": false
  },
  "vscode": {
   "interpreter": {
    "hash": "39577bab1f263e62e0b74f5b8086bd735049bf4751f6562b2d4b2969dc308293"
   }
  }
 },
 "nbformat": 4,
 "nbformat_minor": 4
}
