{
 "cells": [
  {
   "attachments": {},
   "cell_type": "markdown",
   "metadata": {},
   "source": [
    "[![Fixel Algorithms](https://fixelalgorithms.co/images/CCExt.png)](https://fixelalgorithms.gitlab.io/)\n",
    "\n",
    "# Image Processing with Python\n",
    "\n",
    "## Image Contrast and Point Operations\n",
    "\n",
    "> Notebook by:\n",
    "> - Royi Avital RoyiAvital@fixelalgorithms.com\n",
    "\n",
    "## Revision History\n",
    "\n",
    "| Version | Date       | User        |Content / Changes                                                   |\n",
    "|---------|------------|-------------|--------------------------------------------------------------------|\n",
    "| 0.1.000 | 05/10/2023 | Royi Avital | First version                                                      |"
   ]
  },
  {
   "attachments": {},
   "cell_type": "markdown",
   "metadata": {},
   "source": [
    "[![Open In Colab](https://colab.research.google.com/assets/colab-badge.svg)](https://colab.research.google.com/github/FixelAlgorithmsTeam/FixelCourses/blob/master/ImageProcessingPython/0003Contrast.ipynb)"
   ]
  },
  {
   "cell_type": "code",
   "execution_count": null,
   "metadata": {
    "ExecuteTime": {
     "end_time": "2022-02-02T09:30:06.492269Z",
     "start_time": "2022-02-02T09:30:06.220934Z"
    }
   },
   "outputs": [],
   "source": [
    "# Import Packages\n",
    "\n",
    "# General Tools\n",
    "import numpy as np\n",
    "import scipy as sp\n",
    "import pandas as pd\n",
    "\n",
    "from numba import jit, njit\n",
    "\n",
    "# Image Processing\n",
    "import skimage as ski\n",
    "\n",
    "# Machine Learning\n",
    "\n",
    "\n",
    "# Miscellaneous\n",
    "import os\n",
    "from platform import python_version\n",
    "import random\n",
    "import timeit\n",
    "\n",
    "# Typing\n",
    "from typing import Callable, List, Tuple\n",
    "\n",
    "# Visualization\n",
    "import matplotlib as mpl\n",
    "import matplotlib.pyplot as plt\n",
    "import seaborn as sns\n",
    "# from bokeh.plotting import figure, show\n",
    "\n",
    "# Jupyter\n",
    "from IPython import get_ipython\n",
    "from IPython.display import Image, display\n",
    "from ipywidgets import Dropdown, FloatRangeSlider, FloatSlider, interact, IntSlider, Layout"
   ]
  },
  {
   "attachments": {},
   "cell_type": "markdown",
   "metadata": {},
   "source": [
    "## Notations\n",
    "\n",
    "* <font color='red'>(**?**)</font> Question to answer interactively.\n",
    "* <font color='blue'>(**!**)</font> Simple task to add code for the notebook.\n",
    "* <font color='green'>(**@**)</font> Optional / Extra self practice.\n",
    "* <font color='brown'>(**#**)</font> Note / Useful resource / Food for thought.\n",
    "\n",
    "### Code Exercise\n",
    "\n",
    " - Single line fill\n",
    "\n",
    " ```python\n",
    " vallToFill = ???\n",
    " ```\n",
    "\n",
    " - Multi Line to Fill (At least one)\n",
    "\n",
    " ```python\n",
    " # You need to start writing\n",
    " ????\n",
    " ```\n",
    "\n",
    " - Section to Fill\n",
    "\n",
    "```python\n",
    "#===========================Fill This===========================#\n",
    "# 1. Explanation about what to do.\n",
    "# !! Remarks to follow / take under consideration.\n",
    "mX = ???\n",
    "\n",
    "???\n",
    "#===============================================================#\n",
    "```"
   ]
  },
  {
   "cell_type": "code",
   "execution_count": null,
   "metadata": {},
   "outputs": [],
   "source": [
    "# Configuration\n",
    "# %matplotlib inline\n",
    "\n",
    "seedNum = 512\n",
    "np.random.seed(seedNum)\n",
    "random.seed(seedNum)\n",
    "\n",
    "# sns.set_theme() #>! Apply SeaBorn theme\n",
    "\n",
    "runInGoogleColab = 'google.colab' in str(get_ipython())"
   ]
  },
  {
   "cell_type": "code",
   "execution_count": null,
   "metadata": {},
   "outputs": [],
   "source": [
    "# Constants\n",
    "\n"
   ]
  },
  {
   "cell_type": "code",
   "execution_count": null,
   "metadata": {},
   "outputs": [],
   "source": [
    "# Fixel Algorithms Packages\n",
    "\n",
    "from AuxFun import *\n"
   ]
  },
  {
   "cell_type": "code",
   "execution_count": null,
   "metadata": {},
   "outputs": [],
   "source": [
    "# General Auxiliary Functions\n",
    "\n"
   ]
  },
  {
   "attachments": {},
   "cell_type": "markdown",
   "metadata": {},
   "source": [
    "## Image Contrast & Point Operations\n",
    "\n",
    "Image point operations are basic tools for image manipulation.  \n",
    "This notebook exercises applying some 1D transformations on data in order to achieve a _Global Contrast Enhancement_.\n",
    "\n",
    "* <font color='brown'>(**#**)</font> The concept is sometimes attributed to [Gustav J. Braun, “Image Lightness Rescaling Using Sigmoidal Contrast Enhancement Functions” (1998)](https://doi.org/10.1117/12.334548).\n",
    "* <font color='brown'>(**#**)</font> The same concept can be used for Masked Color Saturation Enhancement (_Vibrance_) by applying on the `a` / `u` and `b` / `v` channel of `LAB` / `YUV`."
   ]
  },
  {
   "cell_type": "markdown",
   "metadata": {},
   "source": [
    "### The Image\n",
    "\n",
    "For this notebook an image by the _underwater photographer_ [Paolo Fossati](http://www.paolo-fossati.com/) will be used.\n",
    "\n",
    "![](https://i.imgur.com/j4QZWiL.png)"
   ]
  },
  {
   "cell_type": "code",
   "execution_count": null,
   "metadata": {},
   "outputs": [],
   "source": [
    "# Parameters\n",
    "\n",
    "imgUrl = 'https://i.imgur.com/j4QZWiL.png' #<! By Paolo Fossati"
   ]
  },
  {
   "cell_type": "code",
   "execution_count": null,
   "metadata": {},
   "outputs": [],
   "source": [
    "# Load the Image\n",
    "\n",
    "mI = ski.io.imread(imgUrl)\n",
    "mI = ski.util.img_as_float(mI) #<! Convert to Float\n"
   ]
  },
  {
   "cell_type": "markdown",
   "metadata": {},
   "source": [
    "### Image Contrast\n",
    "\n",
    "This section applies _global contrast_ enhancement using S function like.  \n",
    "When enhancing images, masking is commonly used.  \n",
    "The masking allows having different effect level on different luminosity levels.\n",
    "\n",
    "1. Implement S function  \n",
    "   One of the choices: Logistic (Sigmoid), Error Function, Hyperbolic Tangent, Smooth Step, etc...\n",
    "2. Implement Masking function.\n",
    "3. Apply on the image.\n",
    "4. Display results.\n",
    "\n",
    "\n",
    "#### Luminosity Masks\n",
    "\n",
    "![](https://fixelalgorithms.co/news/images/LuminosityMask001/LuminosityMaskShowCaseAnimated.png)"
   ]
  },
  {
   "cell_type": "code",
   "execution_count": null,
   "metadata": {},
   "outputs": [],
   "source": [
    "#===========================Fill This===========================#\n",
    "# 1. Implement S Function.\n",
    "# !! Nummba can be used.\n",
    "\n",
    "def ApplySFunction( tA: np.ndarray, α: float, tO: np.ndarray ):\n",
    "    \"\"\"\n",
    "    Applies an S function on the input array.\n",
    "    Input:\n",
    "      - mI           : A NumPy array at any shape with floating point values in the range [0, 1].\n",
    "      - α            : A float for the intensity of the operation (Slope).\n",
    "      - tO           : A NumPy array with the same shape and dtype as the input.\n",
    "    Remarks:\n",
    "      - The output range should be [0, 1].\n",
    "      - The function should support the case `tA` and `tO` are the same (Inplace).\n",
    "    \"\"\"\n",
    "    \n",
    "    tO[:] = np.reciprocal(1 + np.exp(-α * (tA - 0.5)))\n",
    "\n",
    "#===============================================================#"
   ]
  },
  {
   "cell_type": "code",
   "execution_count": null,
   "metadata": {},
   "outputs": [],
   "source": [
    "#===========================Fill This===========================#\n",
    "# 1. Implement a Luminosity Mask function.\n",
    "# 2. The function should support: Highlights, Shadows and Midtones.\n",
    "# 3. The zones are defined on [0, 1] as following:\n",
    "#    - Shadows: f(x) = 1 - x.\n",
    "#    - Highlights: f(x) = x.\n",
    "#    - Midtones: *Scaled* multiplication of Highlights and Midtones.\n",
    "#    Each of the ranges spans the whole range of [0, 1]. \n",
    "# !! Nummba can be used.\n",
    "\n",
    "def GenerateLuminosityMask( mL: np.ndarray, maskType: int, mM: np.ndarray ):\n",
    "    \"\"\"\n",
    "    Generate a luminosity mask for the input luminosity image.\n",
    "    Input:\n",
    "      - mL           : A NumPy 2D array in the range [0, 1].\n",
    "      - maskType     : An integer: 0 -> Shadows, 1 -> Midtones, 2 -> Highlights.\n",
    "      - mM           : A NumPy 2D array with the same shape and dtype as the input.\n",
    "    Remarks:\n",
    "      - The output range should be [0, 1].\n",
    "      - The function should support the case `mL` and `mM` are the same (Inplace).\n",
    "    \"\"\"\n",
    "    \n",
    "    if maskType == 0:\n",
    "        mM[:] = 1 - mL\n",
    "    elif maskType == 1:\n",
    "        mM[:] = 4 * mL * (1 - mL)\n",
    "    elif maskType == 2:\n",
    "        mM[:] = mL\n",
    "\n",
    "#===============================================================#"
   ]
  },
  {
   "cell_type": "code",
   "execution_count": null,
   "metadata": {},
   "outputs": [],
   "source": [
    "def VisImgContrast( mI: np.ndarray, α: float, maskTypeStr: str, mO: np.ndarray ):\n",
    "    \n",
    "    # Generate the Mask\n",
    "    mM = np.ones(shape = mI.shape[:2]) #<! Default (And allocation)\n",
    "    maskType = 0\n",
    "    if maskTypeStr == 'Shadows':\n",
    "        maskType = 0\n",
    "    elif maskTypeStr == 'Midtones':\n",
    "        maskType = 1\n",
    "    elif maskTypeStr == 'Highlights':\n",
    "        maskType = 2\n",
    "    if maskTypeStr != 'All':\n",
    "        GenerateLuminosityMask(ski.color.rgb2gray(mI), maskType, mM)\n",
    "    \n",
    "    # Apply contrast\n",
    "    ApplySFunction(mI, α, mO)\n",
    "    \n",
    "    # Apply Mask\n",
    "    mO[:] = (mI * (1 - mM[:, :, None])) + (mO * mM[..., None])\n",
    "    \n",
    "    hF, vHa = plt.subplots(nrows = 1, ncols = 3, figsize = (16, 5))\n",
    "    \n",
    "    vHa[0].imshow(mI)\n",
    "    vHa[0].set(xticks = [], yticks = [])\n",
    "    vHa[1].imshow(mM, cmap = 'gray', vmin = 0, vmax = 1)\n",
    "    vHa[1].set(xticks = [], yticks = [])\n",
    "    vHa[2].imshow(mO)\n",
    "    vHa[2].set(xticks = [], yticks = [])"
   ]
  },
  {
   "cell_type": "markdown",
   "metadata": {},
   "source": [
    "* <font color='red'>(**?**)</font> The above implementation applies the contrast to each RGB channel. Usually, contrast is applied to Luminosity channel only."
   ]
  },
  {
   "cell_type": "code",
   "execution_count": null,
   "metadata": {},
   "outputs": [],
   "source": [
    "mO = np.zeros_like(mI)\n",
    "\n",
    "hVisImgContrast = lambda α, maskTypeStr: VisImgContrast(mI, α, maskTypeStr, mO)\n",
    "\n",
    "αSlider = FloatSlider(min = 0.1, max = 20, step = 0.01, value = 10, layout = Layout(width = '30%'))\n",
    "maskTypeStrDropdown = Dropdown(options = ['All', 'Shadows', 'Midtones', 'Highlights'], value = 'All', description = 'Luminosity Mask Type:')\n",
    "interact(hVisImgContrast, α = αSlider, maskTypeStr = maskTypeStrDropdown)\n",
    "\n",
    "plt.show()"
   ]
  },
  {
   "cell_type": "markdown",
   "metadata": {},
   "source": [
    "* <font color='red'>(**?**)</font> In the reference implementation, what's the issue for `α < 5`? You may want to plot the contrast function.\n",
    "* <font color='green'>(**@**)</font> Optimize the contrast function to mitigate the issue."
   ]
  },
  {
   "cell_type": "markdown",
   "metadata": {},
   "source": [
    "To understand the _luminosity mask_ one should refer to the histogram."
   ]
  },
  {
   "cell_type": "code",
   "execution_count": null,
   "metadata": {},
   "outputs": [],
   "source": [
    "mL = ski.color.rgb2gray(mI) #<! Pseudo Luminosity channel\n",
    "vH, vB = ski.exposure.histogram(mL, normalize = True)\n",
    "\n",
    "vM = 4 * vB * (1 - vB) #<! Midtones Mask of the Histogram Bins\n",
    "lC = [plt.get_cmap('viridis')(valM) for valM in vM]\n",
    "\n",
    "hF, hA = plt.subplots(figsize = (12, 6))\n",
    "hA.bar(vB, vH, width = 1 / 256, align = 'center', color = lC)\n",
    "hA.set(yticks = [], xlim = (0, 1), title = 'Luminosity Channel Histogram');"
   ]
  },
  {
   "cell_type": "markdown",
   "metadata": {},
   "source": [
    "### The `Y` Channel Update Trick\n",
    "\n",
    " - Many algorithms are applied only on a _luminosity_ like channel.\n",
    " - Hence, they are usually applied by:\n",
    "   1. Convert to another color space.\n",
    "   2. Apply effect.\n",
    "   3. Convert back to `RGB`.\n",
    " - In case the luminosity channel is a result of a linear transformation (`YUV`, `YCbCr`, `YCgCr`, etc) this can be optimized.\n",
    "\n",
    "Using the `YUV` example:\n",
    "\n",
    "$$\\begin{bmatrix} y \\\\ u \\\\ v \\end{bmatrix} = \\boldsymbol{C} \\begin{bmatrix} r \\\\ g \\\\ b \\end{bmatrix} \\implies \\begin{bmatrix} r \\\\ g \\\\ b \\end{bmatrix} = \\boldsymbol{D} \\begin{bmatrix} y \\\\ u \\\\ v \\end{bmatrix}, \\; \\boldsymbol{D} = \\boldsymbol{C}^{-1}$$\n",
    "\n",
    "Pay attention that for all cases, for the matrix $\\boldsymbol{C}$ the following holds:\n",
    "\n",
    " - The sum of the first row $\\boldsymbol{c}^{1}$ is one: $\\boldsymbol{1}^{T} \\boldsymbol{c}^{1} = 1$.\n",
    " - The sum of any other row is zero: $i \\in \\left\\{ 2, 3 \\right\\} \\implies \\boldsymbol{1}^{T} \\boldsymbol{c}^{i} = 0$.\n",
    "\n",
    "Since $\\boldsymbol{C} \\boldsymbol{D} = \\boldsymbol{I}$ one can conclude that the first column of $\\boldsymbol{D}$, given as $\\boldsymbol{d}_{1}$, must be $\\boldsymbol{1}$ since:\n",
    "\n",
    " - It must be constant as the inner product of a zero sum with it is $0$.\n",
    " - Its convex sum equals to $1$.\n",
    "\n",
    "Now, per pixel, by defining $\\hat{y}$ the luminosity value after the operation, one can look at the delta for the RGB values:\n",
    "\n",
    "$$ \\boldsymbol{\\Delta} = \\begin{bmatrix} \\hat{r} \\\\ \\hat{g} \\\\ \\hat{b} \\end{bmatrix} - \\begin{bmatrix} r \\\\ g \\\\ b \\end{bmatrix} = \\boldsymbol{D} \\begin{bmatrix} \\hat{y} \\\\ u \\\\ v \\end{bmatrix} - \\boldsymbol{D} \\begin{bmatrix} y \\\\ u \\\\ v \\end{bmatrix} = \\boldsymbol{D} \\begin{bmatrix} \\hat{y} - y \\\\ 0 \\\\ 0 \\end{bmatrix} = \\left( \\hat{y} - y \\right) \\boldsymbol{d}_{i} = \\left( \\hat{y} - y \\right) \\boldsymbol{1} $$\n",
    "\n",
    "Instead of calculating all transformations, one can only add $\\boldsymbol{\\Delta}$ to the RGB image."
   ]
  },
  {
   "cell_type": "code",
   "execution_count": null,
   "metadata": {},
   "outputs": [],
   "source": [
    "# Verify the Y Channel Updated Trick\n",
    "vY = np.array([0.299, 0.587, 0.114]) #<! Match SciKit Image `rgb2yuv()` (`rgb2gray()` Doesn't match)\n",
    "α = 20\n",
    "\n",
    "#===========================Fill This===========================#\n",
    "# 1. Generate `mY` using `vY` as a grayscale image.\n",
    "# 2. Generate  `mYUV` using SciKit Image's `rgb2yuv()`.\n",
    "# 3. Apply the contrast function using `ApplySFunction()`:\n",
    "#  - On `mY`.\n",
    "#  - On the `Y` channel of `mYUV`.\n",
    "# 4. Calculate the updated RGB image:\n",
    "#   - Using the `Y` channel trick.\n",
    "#   - Using `YUV` to `RGB` conversion `yuv2rgb()`.\n",
    "# 5. Verify the results match.\n",
    "\n",
    "# Convert\n",
    "mY   = np.dot(mI, vY) #<! Convert to Y using the weights\n",
    "mYUV = ski.color.rgb2yuv(mI) #<! Convert to YUV\n",
    "\n",
    "# Apply transformation\n",
    "mYHat = np.zeros_like(mY)\n",
    "ApplySFunction(mY, α, mYHat)\n",
    "ApplySFunction(mYUV[..., 0], α, mYUV[..., 0])\n",
    "\n",
    "# Calculate the RGB images\n",
    "mOTrick = mI + (mYHat - mY)[:, :, None] #<! Trick\n",
    "mODirect = ski.color.yuv2rgb(mYUV) #<! Classic\n",
    "\n",
    "#===============================================================#\n",
    "\n",
    "print(f'The Y channel trick worked: {np.allclose(mOTrick, mODirect)}')"
   ]
  },
  {
   "cell_type": "markdown",
   "metadata": {},
   "source": [
    "### ScKit Image Exposure Module\n",
    "\n",
    "The `exposure` module has few other functions which deals with a point wise manipulation of the pixel value.  \n",
    "This section demonstrates few of them. "
   ]
  },
  {
   "cell_type": "code",
   "execution_count": null,
   "metadata": {},
   "outputs": [],
   "source": [
    "# Check if the image is a low contrast image\n",
    "\n",
    "isLowContrast = ski.exposure.is_low_contrast(mI)\n",
    "print(f'Is the image a low contrast image: {isLowContrast}') #<! By a threshold on the covered range by the image"
   ]
  },
  {
   "cell_type": "code",
   "execution_count": null,
   "metadata": {},
   "outputs": [],
   "source": [
    "# Apply Image Histogram Equalization\n",
    "# This section applies it on \"Luminosity Channel\".\n",
    "\n",
    "#===========================Fill This===========================#\n",
    "# 1. Convert the image to YUV.\n",
    "# 2. Apply histogram equalization on the Y channel.\n",
    "# 3. Convert back to RGB\n",
    "# !! Look at the `color` module of SciKit Learn.\n",
    "# !! Due to numerical issues, it is better to clip to a valid range after some operations.\n",
    "# !! You may rewrite things to use the Y channel trick.\n",
    "\n",
    "mYUV = ski.color.rgb2yuv(mI)\n",
    "mYUV[:, :, 0] = np.clip(ski.exposure.equalize_hist(mYUV[..., 0]), a_min = 0.0, a_max = 1.0)\n",
    "mO = np.clip(ski.color.yuv2rgb(mYUV), a_min = 0.0, a_max = 1.0)\n",
    "\n",
    "#===============================================================#\n",
    "\n",
    "hF, vHa = plt.subplots(nrows = 1, ncols = 2, figsize = (12, 6))\n",
    "vHa[0].imshow(mI)\n",
    "vHa[0].set(xticks = [], yticks = [], title = 'Input Image')\n",
    "vHa[1].imshow(mO)\n",
    "vHa[1].set(xticks = [], yticks = [], title = 'Histogram Equalization');"
   ]
  },
  {
   "cell_type": "markdown",
   "metadata": {},
   "source": [
    "* <font color='brown'>(**#**)</font> You may notice some reduction in saturation after increasing contrast on the luminosity channels."
   ]
  },
  {
   "cell_type": "markdown",
   "metadata": {},
   "source": [
    "The `equalize_adapthist` is a local version of the histogram equalization.  \n",
    "It applies the effect on the luminosity automatically."
   ]
  },
  {
   "cell_type": "code",
   "execution_count": null,
   "metadata": {},
   "outputs": [],
   "source": [
    "# Contrast Limited Adaptive Histogram Equalization\n",
    "mO = ski.exposure.equalize_adapthist(mI, clip_limit = 0.005)\n",
    "\n",
    "hF, vHa = plt.subplots(nrows = 1, ncols = 2, figsize = (12, 6))\n",
    "vHa[0].imshow(mI)\n",
    "vHa[0].set(xticks = [], yticks = [], title = 'Input Image')\n",
    "vHa[1].imshow(mO)\n",
    "vHa[1].set(xticks = [], yticks = [], title = 'CLAHE');"
   ]
  },
  {
   "cell_type": "markdown",
   "metadata": {},
   "source": [
    "* <font color='brown'>(**#**)</font> SciKit Image's `equalize_adapthist` is actually contrast limited adaptive histogram equalization (_CLAHE_).\n",
    "* <font color='brown'>(**#**)</font> Histogram equalization and its derivatives usually used in the context of image analysis, less in image enhancement for viewing.\n",
    "* <font color='blue'>(**!**)</font> Raise the values of `clip_limit` to see the exaggerated local effect."
   ]
  }
 ],
 "metadata": {
  "kernelspec": {
   "display_name": "Python 3",
   "language": "python",
   "name": "python3"
  },
  "language_info": {
   "codemirror_mode": {
    "name": "ipython",
    "version": 3
   },
   "file_extension": ".py",
   "mimetype": "text/x-python",
   "name": "python",
   "nbconvert_exporter": "python",
   "pygments_lexer": "ipython3",
   "version": "3.11.5"
  },
  "toc": {
   "base_numbering": 1,
   "nav_menu": {},
   "number_sections": false,
   "sideBar": true,
   "skip_h1_title": false,
   "title_cell": "Table of Contents",
   "title_sidebar": "Contents",
   "toc_cell": false,
   "toc_position": {},
   "toc_section_display": true,
   "toc_window_display": true
  },
  "varInspector": {
   "cols": {
    "lenName": 16,
    "lenType": 16,
    "lenVar": 40
   },
   "kernels_config": {
    "python": {
     "delete_cmd_postfix": "",
     "delete_cmd_prefix": "del ",
     "library": "var_list.py",
     "varRefreshCmd": "print(var_dic_list())"
    },
    "r": {
     "delete_cmd_postfix": ") ",
     "delete_cmd_prefix": "rm(",
     "library": "var_list.r",
     "varRefreshCmd": "cat(var_dic_list()) "
    }
   },
   "types_to_exclude": [
    "module",
    "function",
    "builtin_function_or_method",
    "instance",
    "_Feature"
   ],
   "window_display": false
  },
  "vscode": {
   "interpreter": {
    "hash": "39577bab1f263e62e0b74f5b8086bd735049bf4751f6562b2d4b2969dc308293"
   }
  }
 },
 "nbformat": 4,
 "nbformat_minor": 4
}
