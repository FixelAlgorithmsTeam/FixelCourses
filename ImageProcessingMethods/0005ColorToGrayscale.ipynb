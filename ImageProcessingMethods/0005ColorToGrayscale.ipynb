{
 "cells": [
  {
   "attachments": {},
   "cell_type": "markdown",
   "metadata": {},
   "source": [
    "[![Fixel Algorithms](https://fixelalgorithms.co/images/CCExt.png)](https://fixelalgorithms.gitlab.io/)\n",
    "\n",
    "# Image Processing with Python\n",
    "\n",
    "## Color to Gray Conversion\n",
    "\n",
    "> Notebook by:\n",
    "> - Royi Avital RoyiAvital@fixelalgorithms.com\n",
    "\n",
    "## Revision History\n",
    "\n",
    "| Version | Date       | User        |Content / Changes                                                   |\n",
    "|---------|------------|-------------|--------------------------------------------------------------------|\n",
    "| 0.1.000 | 07/10/2023 | Royi Avital | First version                                                      |"
   ]
  },
  {
   "attachments": {},
   "cell_type": "markdown",
   "metadata": {},
   "source": [
    "[![Open In Colab](https://colab.research.google.com/assets/colab-badge.svg)](https://colab.research.google.com/github/FixelAlgorithmsTeam/FixelCourses/blob/master/ImageProcessingPython/0002SciKitImageBasics.ipynb)"
   ]
  },
  {
   "cell_type": "code",
   "execution_count": 1,
   "metadata": {
    "ExecuteTime": {
     "end_time": "2022-02-02T09:30:06.492269Z",
     "start_time": "2022-02-02T09:30:06.220934Z"
    }
   },
   "outputs": [],
   "source": [
    "# Import Packages\n",
    "\n",
    "# General Tools\n",
    "import numpy as np\n",
    "import scipy as sp\n",
    "import pandas as pd\n",
    "\n",
    "from numba import jit, njit\n",
    "\n",
    "# Image Processing\n",
    "import skimage as ski\n",
    "\n",
    "# Machine Learning\n",
    "\n",
    "# Optimization\n",
    "import cvxpy as cp\n",
    "\n",
    "# Miscellaneous\n",
    "import os\n",
    "from platform import python_version\n",
    "import random\n",
    "import timeit\n",
    "\n",
    "# Typing\n",
    "from typing import Callable, List, Tuple\n",
    "\n",
    "# Visualization\n",
    "import matplotlib as mpl\n",
    "import matplotlib.pyplot as plt\n",
    "import seaborn as sns\n",
    "# from bokeh.plotting import figure, show\n",
    "\n",
    "# Jupyter\n",
    "from IPython import get_ipython\n",
    "from IPython.display import Image, display\n",
    "from ipywidgets import Dropdown, FloatRangeSlider, FloatSlider, interact, IntSlider, Layout"
   ]
  },
  {
   "attachments": {},
   "cell_type": "markdown",
   "metadata": {},
   "source": [
    "## Notations\n",
    "\n",
    "* <font color='red'>(**?**)</font> Question to answer interactively.\n",
    "* <font color='blue'>(**!**)</font> Simple task to add code for the notebook.\n",
    "* <font color='green'>(**@**)</font> Optional / Extra self practice.\n",
    "* <font color='brown'>(**#**)</font> Note / Useful resource / Food for thought.\n",
    "\n",
    "### Code Exercise\n",
    "\n",
    " - Single line fill\n",
    "\n",
    " ```python\n",
    " vallToFill = ???\n",
    " ```\n",
    "\n",
    " - Multi Line to Fill (At least one)\n",
    "\n",
    " ```python\n",
    " # You need to start writing\n",
    " ????\n",
    " ```\n",
    "\n",
    " - Section to Fill\n",
    "\n",
    "```python\n",
    "#===========================Fill This===========================#\n",
    "# 1. Explanation about what to do.\n",
    "# !! Remarks to follow / take under consideration.\n",
    "mX = ???\n",
    "\n",
    "???\n",
    "#===============================================================#\n",
    "```"
   ]
  },
  {
   "cell_type": "code",
   "execution_count": 2,
   "metadata": {},
   "outputs": [],
   "source": [
    "# Configuration\n",
    "# %matplotlib inline\n",
    "\n",
    "seedNum = 512\n",
    "np.random.seed(seedNum)\n",
    "random.seed(seedNum)\n",
    "\n",
    "# sns.set_theme() #>! Apply SeaBorn theme\n",
    "\n",
    "runInGoogleColab = 'google.colab' in str(get_ipython())"
   ]
  },
  {
   "cell_type": "code",
   "execution_count": 3,
   "metadata": {},
   "outputs": [],
   "source": [
    "# Constants\n",
    "\n"
   ]
  },
  {
   "cell_type": "code",
   "execution_count": 4,
   "metadata": {},
   "outputs": [],
   "source": [
    "# Fixel Algorithms Packages\n"
   ]
  },
  {
   "cell_type": "code",
   "execution_count": 5,
   "metadata": {},
   "outputs": [],
   "source": [
    "# General Auxiliary Functions\n",
    "\n"
   ]
  },
  {
   "attachments": {},
   "cell_type": "markdown",
   "metadata": {},
   "source": [
    "## Color to Gray Algorithms\n",
    "\n",
    "There are many approaces to convert a color image into a grayscale image:\n",
    "\n",
    "\n",
    "\n",
    "* <font color='brown'>(**#**)</font> Per pixel, the operation of reducing the dimension of the data from 3 to 1 is called _dimensionality reduction_.\n",
    "* <font color='red'>(**?**)</font> Think of the case the input image has white lines while the background is colorful. Which conversion would you choose for that case?\n",
    "\n",
    "<!-- An example would be a soccer field. Then a conversion of `grayVal = max(rVal, gVal, bVal)` makes sense. -->"
   ]
  },
  {
   "cell_type": "code",
   "execution_count": 6,
   "metadata": {},
   "outputs": [],
   "source": [
    "# Parameters\n",
    "\n",
    "# imgUrl = 'https://i.imgur.com/GISY7hu.png' #<! Color blindness test\n",
    "imgUrl = 'https://i.postimg.cc/Dzdhg67D/GISY7hu.png' #<! Color blindness test\n",
    "imgUrl = 'https://images2.imgbox.com/14/27/zUoime5t_o.png' #<! Color blindness test\n",
    "imgIdx = 6 #<! 1 to 6\n",
    "\n",
    "dImgIdx = {1: (range(0, 600), range(0, 600), range(3)), 2: (range(0, 600), range(600, 1200), range(3)), \n",
    "           3: (range(0, 600), range(1200, 1800), range(3)), 4: (range(600, 1200), range(0, 600), range(3)), \n",
    "           5: (range(600, 1200), range(600, 1200), range(3)), 6: (range(600, 1200), range(1200, 1800), range(3))}\n",
    "\n",
    "\n"
   ]
  },
  {
   "cell_type": "code",
   "execution_count": 7,
   "metadata": {},
   "outputs": [],
   "source": [
    "# Load Image\n",
    "\n",
    "mII = ski.io.imread(imgUrl)\n",
    "mI = mII[np.ix_(*dImgIdx[imgIdx])]\n",
    "\n"
   ]
  },
  {
   "cell_type": "code",
   "execution_count": null,
   "metadata": {},
   "outputs": [],
   "source": [
    "# Display Images\n",
    "\n",
    "plt.imshow(mII);"
   ]
  },
  {
   "cell_type": "code",
   "execution_count": null,
   "metadata": {},
   "outputs": [],
   "source": [
    "# Display Images\n",
    "\n",
    "plt.imshow(mI); #<! TODO: Put in 2 axes on the same figure"
   ]
  },
  {
   "cell_type": "code",
   "execution_count": 10,
   "metadata": {},
   "outputs": [],
   "source": [
    "# Convert Image to [0, 1] Range\n",
    "mI = ski.util.img_as_float64(mI)"
   ]
  },
  {
   "cell_type": "markdown",
   "metadata": {},
   "source": [
    "### Color to Gray by Channel Weighing\n",
    "\n",
    "This section implements a function that given a weighing vector $\\boldsymbol{w} \\in \\mathbb{R}^{3}$ the output image is $G \\left( x, y \\right) = \\sum_{k = 1}^{3} {w}_{k} {I}_{k} \\left( x, y \\right)$ where ${I}_{k}$ is the $k$ -th channel of the image."
   ]
  },
  {
   "cell_type": "code",
   "execution_count": 11,
   "metadata": {},
   "outputs": [],
   "source": [
    "#===========================Fill This===========================#\n",
    "# 1. Implement a function which calculates the weighted sum of \n",
    "#    the channels of an image.\n",
    "# 2. The input is 3 channels image in the range [0, 1] (`mI`) and\n",
    "#    a weights vector `vW` of 3 components.\n",
    "# !! Numba can be used.\n",
    "\n",
    "def ImageWeightedSum( mI: np.ndarray, vW: np.ndarray ) -> np.ndarray:\n",
    "    \"\"\"\n",
    "    Calculates the weighted sum of the channels of the image.\n",
    "    Input:\n",
    "      - mI : A NumPy image array (numRows, numCols, 3) in the range [0, 1].\n",
    "      - vW : A NumPy vector (3, ) with sum of 1.\n",
    "    Input:\n",
    "      - mO : A NumPy image array (numRows, numCols) in the range [0, 1].\n",
    "    Remarks:\n",
    "      - The input and output are floating point array.\n",
    "    \"\"\"\n",
    "    \n",
    "    mO = ???\n",
    "\n",
    "    return mO\n",
    "\n",
    "#===============================================================#"
   ]
  },
  {
   "cell_type": "code",
   "execution_count": 12,
   "metadata": {},
   "outputs": [],
   "source": [
    "# Visualization Image\n",
    "\n",
    "def VisGrayImage( mI: np.ndarray, w1: float, w2: float, w3: float ) -> None:\n",
    "\n",
    "    vW = np.array([w1, w2, w3])\n",
    "    vW /= np.sum(vW)\n",
    "    \n",
    "    # Apply transformation\n",
    "    mO = ImageWeightedSum(mI, vW)\n",
    "    \n",
    "    hF, vHA = plt.subplots(nrows = 1, ncols = 2, figsize = (12, 6))\n",
    "    \n",
    "    vHA[0].imshow(mI, vmin = 0, vmax = 1)\n",
    "    vHA[0].set(xticks = [], yticks = [])\n",
    "\n",
    "    vHA[1].imshow(mO, cmap = 'gray', vmin = 0, vmax = 1)\n",
    "    vHA[1].set(xticks = [], yticks = [])"
   ]
  },
  {
   "cell_type": "code",
   "execution_count": null,
   "metadata": {},
   "outputs": [],
   "source": [
    "# Interactive Widget \n",
    "\n",
    "hVisGrayImage = lambda w1, w2, w3: VisGrayImage(mI, w1, w2, w3)\n",
    "\n",
    "w1Slider = FloatSlider(value = 0.25, min = 0, max = 1, step = 0.01, \n",
    "                                  description = 'Channel 1 Weight:', continuous_update = False, \n",
    "                                  orientation = 'horizontal', readout = True, readout_format = '0.2f', \n",
    "                                  layout = Layout(width = '20%'), style = {'description_width': 'initial'})\n",
    "w2Slider = FloatSlider(value = 0.5, min = 0, max = 1, step = 0.01, \n",
    "                                  description = 'Channel 2 Weight:', continuous_update = False, \n",
    "                                  orientation = 'horizontal', readout = True, readout_format = '0.2f', \n",
    "                                  layout = Layout(width = '20%'), style = {'description_width': 'initial'})\n",
    "w3Slider = FloatSlider(value = 0.25, min = 0.0, max = 1.0, step = 0.01, \n",
    "                                  description = 'Channel 3 Weight:', continuous_update = False, \n",
    "                                  orientation = 'horizontal', readout = True, readout_format = '0.2f', \n",
    "                                  layout = Layout(width = '20%'), style = {'description_width': 'initial'})\n",
    "interact(hVisGrayImage, w1 = w1Slider, w2 = w2Slider, w3 = w3Slider)\n",
    "\n",
    "plt.show()"
   ]
  },
  {
   "cell_type": "markdown",
   "metadata": {},
   "source": [
    "### Optimal Color to Gray by Channel Weighing\n",
    "\n",
    "By defining the contrast function:\n",
    "\n",
    "$$ e \\left( g \\right) = \\frac{1}{\\sqrt{ {100}^{2} - {a}^{2} - {b}^{2} } + \\epsilon} \\frac{1}{\\sqrt{ {100}^{2} - {\\left( 2 l - 100 \\right)}^{2} } + \\epsilon} {\\left\\| l - g \\right\\|}_{2}^{2} $$\n",
    "\n",
    "Where\n",
    "\n",
    " - $g$ - The gray value.\n",
    " - $l$ - The `L` value of `LAB`.\n",
    " - $a$ - The `A` value of `LAB`.\n",
    " - $b$ - The `B` value of `LAB`.\n",
    "\n",
    "The $g$ value is a function of the value $\\boldsymbol{w}$ above.\n",
    "\n",
    "The optimization problem is given by:\n",
    "\n",
    "$$ \\arg \\min_{\\boldsymbol{w}} E \\left( g \\right) = \\arg \\min_{\\boldsymbol{w}} \\sum_{i, j} e \\left( g \\right) = \\arg \\min_{\\boldsymbol{w}} \\frac{1}{2} {\\left\\| \\boldsymbol{D}^{\\frac{1}{2}} \\left( \\boldsymbol{l} - \\boldsymbol{I} \\boldsymbol{w} \\right) \\right\\|}_{2}^{2}, \\; \\text{ subject to } \\; {w}_{i} \\geq 0, \\; \\boldsymbol{1}^{T} \\boldsymbol{w} = 1 $$\n",
    "\n",
    "Where\n",
    " - $\\boldsymbol{D}^{\\frac{1}{2}}$ - A diagonal matrix of positive values.\n",
    " - $\\boldsymbol{I}$ - Matrix where each row is the `rgb` values of the image.\n",
    " - $\\boldsymbol{w}$ - The channel weighing.\n",
    " - $\\boldsymbol{l}$ - A vector of the `l` values.\n",
    "\n",
    "The above is Constrained Weighted Least Squares problem which is a _Convex_ problem.\n",
    "\n",
    "* <font color='brown'>(**#**)</font> The weighing function is based on [Perceptually Consistent Color to Gray Image Conversion](https://arxiv.org/abs/1605.01843).\n",
    "* <font color='brown'>(**#**)</font> Advanced algorithms take into account spatial data.\n",
    "* <font color='brown'>(**#**)</font> A curated list of algorithms is given at [Martin Cadik - Evaluation of Color to Grayscale Conversions](https://cadik.posvete.cz/color_to_gray_overview)."
   ]
  },
  {
   "cell_type": "code",
   "execution_count": 14,
   "metadata": {},
   "outputs": [],
   "source": [
    "# Build the D Matrix\n",
    "\n",
    "def BuildDMatDiag( mI: np.ndarray, /, *, ε: float = 1e-6 ) -> np.ndarray:\n",
    "\n",
    "    # numRows = np.size(mI, 0)\n",
    "    # numCols = np.size(mI, 1)\n",
    "    # numPx   = numRows * numCols \n",
    "    \n",
    "    mL = ski.color.rgb2lab(mI)\n",
    "\n",
    "    vD = np.ravel((np.reciprocal(np.sqrt( 10_000 - np.square(mL[:, :, 1]) - np.square(mL[:, :, 2]) ) + ε) * np.reciprocal(np.sqrt( 10_000 - np.square(2 * mL[:, :, 0] - 100) ) + ε)))\n",
    "\n",
    "    return vD"
   ]
  },
  {
   "cell_type": "code",
   "execution_count": null,
   "metadata": {},
   "outputs": [],
   "source": [
    "# Solve Problem with CVXPY\n",
    "\n",
    "mIO = mI #<! Select image to optimize\n",
    "numPx = np.prod(mIO.shape[:2])\n",
    "\n",
    "vD      = np.sqrt(BuildDMatDiag(mIO))\n",
    "mLab    = ski.color.rgb2lab(mIO)\n",
    "vL      = np.ravel(mLab[:, :, 0]) / 100\n",
    "mIC     = np.squeeze(np.transpose(np.reshape(mIO, (numPx, 1, 3)), (0, 2, 1)))\n",
    "\n",
    "vW = cp.Variable(3) #<! Optimization argument\n",
    "\n",
    "cpObjFun = cp.Minimize( cp.sum_squares(cp.multiply(vD, (mIC @ vW - vL))) ) #<! Objective Function\n",
    "cpConst = [vW >= 0, cp.sum(vW) == 1] #<! Constraints\n",
    "oCvxPrb = cp.Problem(cpObjFun, cpConst) #<! Problem\n",
    "#===============================================================#\n",
    "\n",
    "# oCvxPrb.solve(solver = cp.SCS)\n",
    "oCvxPrb.solve(solver = cp.CLARABEL)\n",
    "\n",
    "assert (oCvxPrb.status == 'optimal'), 'The problem is not solved.'\n",
    "print('Problem is solved.')\n",
    "\n",
    "vW = vW.value\n",
    "print(f'The Optimal Weights (`vW`): {vW}')"
   ]
  },
  {
   "cell_type": "markdown",
   "metadata": {},
   "source": [
    "* <font color='red'>(**?**)</font> Is the optimal result good? Why?  \n",
    "  Think about the optimality of the result vs. the `l` value vs. the local contrast.\n",
    "* <font color='red'>(**?**)</font> How can the spatial contrast be improved?  \n",
    "  You may find a permutation matrix $\\boldsymbol{P}$ useful."
   ]
  }
 ],
 "metadata": {
  "kernelspec": {
   "display_name": "Python 3",
   "language": "python",
   "name": "python3"
  },
  "language_info": {
   "codemirror_mode": {
    "name": "ipython",
    "version": 3
   },
   "file_extension": ".py",
   "mimetype": "text/x-python",
   "name": "python",
   "nbconvert_exporter": "python",
   "pygments_lexer": "ipython3",
   "version": "3.12.7"
  },
  "toc": {
   "base_numbering": 1,
   "nav_menu": {},
   "number_sections": false,
   "sideBar": true,
   "skip_h1_title": false,
   "title_cell": "Table of Contents",
   "title_sidebar": "Contents",
   "toc_cell": false,
   "toc_position": {},
   "toc_section_display": true,
   "toc_window_display": true
  },
  "varInspector": {
   "cols": {
    "lenName": 16,
    "lenType": 16,
    "lenVar": 40
   },
   "kernels_config": {
    "python": {
     "delete_cmd_postfix": "",
     "delete_cmd_prefix": "del ",
     "library": "var_list.py",
     "varRefreshCmd": "print(var_dic_list())"
    },
    "r": {
     "delete_cmd_postfix": ") ",
     "delete_cmd_prefix": "rm(",
     "library": "var_list.r",
     "varRefreshCmd": "cat(var_dic_list()) "
    }
   },
   "types_to_exclude": [
    "module",
    "function",
    "builtin_function_or_method",
    "instance",
    "_Feature"
   ],
   "window_display": false
  },
  "vscode": {
   "interpreter": {
    "hash": "39577bab1f263e62e0b74f5b8086bd735049bf4751f6562b2d4b2969dc308293"
   }
  }
 },
 "nbformat": 4,
 "nbformat_minor": 4
}
