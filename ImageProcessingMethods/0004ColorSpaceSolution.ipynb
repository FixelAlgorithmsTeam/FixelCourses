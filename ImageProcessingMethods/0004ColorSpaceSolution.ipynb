{
 "cells": [
  {
   "attachments": {},
   "cell_type": "markdown",
   "metadata": {},
   "source": [
    "[![Fixel Algorithms](https://fixelalgorithms.co/images/CCExt.png)](https://fixelalgorithms.gitlab.io/)\n",
    "\n",
    "# Image Processing with Python\n",
    "\n",
    "## Color Spaces\n",
    "\n",
    "> Notebook by:\n",
    "> - Royi Avital RoyiAvital@fixelalgorithms.com\n",
    "\n",
    "## Revision History\n",
    "\n",
    "| Version | Date       | User        |Content / Changes                                                   |\n",
    "|---------|------------|-------------|--------------------------------------------------------------------|\n",
    "| 0.1.000 | 06/10/2023 | Royi Avital | First version                                                      |"
   ]
  },
  {
   "attachments": {},
   "cell_type": "markdown",
   "metadata": {},
   "source": [
    "[![Open In Colab](https://colab.research.google.com/assets/colab-badge.svg)](https://colab.research.google.com/github/FixelAlgorithmsTeam/FixelCourses/blob/master/ImageProcessingPython/0004ColorSpace.ipynb)"
   ]
  },
  {
   "cell_type": "code",
   "execution_count": null,
   "metadata": {
    "ExecuteTime": {
     "end_time": "2022-02-02T09:30:06.492269Z",
     "start_time": "2022-02-02T09:30:06.220934Z"
    }
   },
   "outputs": [],
   "source": [
    "# Import Packages\n",
    "\n",
    "# General Tools\n",
    "import numpy as np\n",
    "import scipy as sp\n",
    "import pandas as pd\n",
    "\n",
    "from numba import jit, njit\n",
    "\n",
    "# Image Processing\n",
    "import skimage as ski\n",
    "\n",
    "# Machine Learning\n",
    "\n",
    "\n",
    "# Miscellaneous\n",
    "import os\n",
    "from platform import python_version\n",
    "import random\n",
    "import timeit\n",
    "\n",
    "# Typing\n",
    "from typing import Callable, List, Tuple\n",
    "\n",
    "# Visualization\n",
    "import matplotlib as mpl\n",
    "import matplotlib.pyplot as plt\n",
    "import seaborn as sns\n",
    "# from bokeh.plotting import figure, show\n",
    "\n",
    "# Jupyter\n",
    "from IPython import get_ipython\n",
    "from IPython.display import Image, display\n",
    "from ipywidgets import Dropdown, FloatRangeSlider, FloatSlider, interact, IntSlider, Layout"
   ]
  },
  {
   "attachments": {},
   "cell_type": "markdown",
   "metadata": {},
   "source": [
    "## Notations\n",
    "\n",
    "* <font color='red'>(**?**)</font> Question to answer interactively.\n",
    "* <font color='blue'>(**!**)</font> Simple task to add code for the notebook.\n",
    "* <font color='green'>(**@**)</font> Optional / Extra self practice.\n",
    "* <font color='brown'>(**#**)</font> Note / Useful resource / Food for thought.\n",
    "\n",
    "### Code Exercise\n",
    "\n",
    " - Single line fill\n",
    "\n",
    " ```python\n",
    " vallToFill = ???\n",
    " ```\n",
    "\n",
    " - Multi Line to Fill (At least one)\n",
    "\n",
    " ```python\n",
    " # You need to start writing\n",
    " ????\n",
    " ```\n",
    "\n",
    " - Section to Fill\n",
    "\n",
    "```python\n",
    "#===========================Fill This===========================#\n",
    "# 1. Explanation about what to do.\n",
    "# !! Remarks to follow / take under consideration.\n",
    "mX = ???\n",
    "\n",
    "???\n",
    "#===============================================================#\n",
    "```"
   ]
  },
  {
   "cell_type": "code",
   "execution_count": null,
   "metadata": {},
   "outputs": [],
   "source": [
    "# Configuration\n",
    "# %matplotlib inline\n",
    "\n",
    "seedNum = 512\n",
    "np.random.seed(seedNum)\n",
    "random.seed(seedNum)\n",
    "\n",
    "# sns.set_theme() #>! Apply SeaBorn theme\n",
    "\n",
    "runInGoogleColab = 'google.colab' in str(get_ipython())"
   ]
  },
  {
   "cell_type": "code",
   "execution_count": null,
   "metadata": {},
   "outputs": [],
   "source": [
    "# Constants\n",
    "\n"
   ]
  },
  {
   "cell_type": "code",
   "execution_count": null,
   "metadata": {},
   "outputs": [],
   "source": [
    "# Fixel Algorithms Packages\n"
   ]
  },
  {
   "cell_type": "code",
   "execution_count": null,
   "metadata": {},
   "outputs": [],
   "source": [
    "# General Auxiliary Functions\n",
    "\n"
   ]
  },
  {
   "attachments": {},
   "cell_type": "markdown",
   "metadata": {},
   "source": [
    "## Color Space\n",
    "\n",
    "The _Color Space_ define the representation of the image information.  \n",
    "Different spaces have different properties for different applications.\n",
    "\n",
    " - Image Enhancement: Speed, Luminosity / Chroma Separation.  \n",
    "   `YUV`, `YCgCr`, `LAB`.\n",
    " - Image Masking (Luminosity / Chroma): Hue / Saturation Representation.  \n",
    "   `HSV` / `HSL`, `LCH`.\n",
    " - Vision: Perceptually Consistent Metrics.  \n",
    "   `LAB`, `LUV`, `OKLab`, `HTCLab`.\n",
    "\n",
    "This notebooks exercises some color spaces usages.  \n",
    "It focuses on building \"application\" for 3 channels masking of an image.\n",
    "\n",
    "* <font color='brown'>(**#**)</font> There are packages which are far more capable in color transformations: [`Colour`](https://github.com/colour-science/colour), [`Coloria`](https://github.com/coloria-dev/coloria).\n",
    "* <font color='brown'>(**#**)</font> In applications where run time is crucial the color spaces used are those defined by a linear transformation.\n",
    "* <font color='brown'>(**#**)</font> In Vision, the color space was crucial in time prior to Deep Learning. It is still when dealing with visualizations (UI)."
   ]
  },
  {
   "cell_type": "code",
   "execution_count": null,
   "metadata": {},
   "outputs": [],
   "source": [
    "# Parameters\n",
    "\n",
    "imgUrl = 'https://i.imgur.com/hfvNpmg.png'"
   ]
  },
  {
   "cell_type": "code",
   "execution_count": null,
   "metadata": {},
   "outputs": [],
   "source": [
    "# Load Image\n",
    "\n",
    "mI = ski.util.img_as_float(ski.io.imread(imgUrl))\n"
   ]
  },
  {
   "cell_type": "code",
   "execution_count": null,
   "metadata": {},
   "outputs": [],
   "source": [
    "# Display Image\n",
    "\n",
    "ski.io.imshow(mI);"
   ]
  },
  {
   "cell_type": "markdown",
   "metadata": {},
   "source": [
    "### Image Masking\n",
    "\n",
    "This section builds a UI to mask the image using the following _color spaces_:\n",
    "\n",
    "1. `RGB` (Base).\n",
    "2. `HSV` (SciKit Image).\n",
    "3. `LAB` (SciKit Image).\n",
    "4. `LCH` (SciKit Image).\n",
    "5. `YCgCr` (Self Implementation).\n",
    "\n",
    "The UI will have 3 range sliders per channel and a dropdown box to choose the _color space_.\n",
    "\n",
    "* <font color='brown'>(**#**)</font> When color accuracy is crucial there are many factors to take under consideration: Gamma Curve, Device Calibration, Lightning Conditions, etc...\n",
    "\n",
    "#### The YCgCr Color Space\n",
    "\n",
    "The `YCgCr` color space is a linear transformation of the RGB color space using the following Matrix:\n",
    "\n",
    "$$ \\boldsymbol{C}_{YCgCr} = \\begin{bmatrix} \\phantom{+}0.25 & \\phantom{+}0.50 & \\phantom{+}0.25 \\\\ \\phantom{+}0.50 & \\phantom{+}0.00 & -0.50 \\\\ -0.25 & \\phantom{+}0.50 & -0.25 \\end{bmatrix} $$\n",
    "\n",
    "* <font color='red'>(**?**)</font> Looking at the matrix, what are the advantages of it vs. other linear transformations?\n",
    "* <font color='red'>(**?**)</font> What are the ranges of `Y`, `Cg` and `Cr?`\n",
    "* <font color='red'>(**?**)</font> How would you implement this transformation for data type: `uin8`, `uint16`, `uint32`, etc...?\n",
    "\n"
   ]
  },
  {
   "cell_type": "code",
   "execution_count": null,
   "metadata": {},
   "outputs": [],
   "source": [
    "#===========================Fill This===========================#\n",
    "# 1. Implement a function which converts form RGB to YCgCr.\n",
    "# 2. The input is RGB in the range [0, 1].\n",
    "# !! Nummba can be used.\n",
    "\n",
    "@njit\n",
    "def RgbToYCgCr( mI: np.ndarray, mO: np.ndarray ):\n",
    "    \"\"\"\n",
    "    Converts RGB image to YCgCr.\n",
    "    Input:\n",
    "      - mI           : A NumPy RGB image array in the range [0, 1].\n",
    "      - mO           : A NumPy YCgCr image array.\n",
    "    Remarks:\n",
    "      - The input and output are floating point array.\n",
    "    \"\"\"\n",
    "    \n",
    "    for ii in range(mI.shape[0]):\n",
    "        for jj in range(mI.shape[1]):\n",
    "            mO[ii, jj, 0] =  0.25 * mI[ii, jj, 0] + 0.50 * mI[ii, jj, 1] + 0.25 * mI[ii, jj, 2]\n",
    "            mO[ii, jj, 1] =  0.50 * mI[ii, jj, 0]                        - 0.50 * mI[ii, jj, 2]\n",
    "            mO[ii, jj, 2] = -0.25 * mI[ii, jj, 0] + 0.50 * mI[ii, jj, 1] - 0.25 * mI[ii, jj, 2]\n",
    "\n",
    "#===============================================================#"
   ]
  },
  {
   "cell_type": "code",
   "execution_count": null,
   "metadata": {},
   "outputs": [],
   "source": [
    "#===========================Fill This===========================#\n",
    "# 1. Implement a Mask function which a product of the mask of each channel.\n",
    "# 2. The function should support the listed color spaces.\n",
    "# 3. The generated mask is smooth.\n",
    "# !! To generate a smooth mask, use roll off at the edges of the range.\n",
    "# !! Nummba can be used.\n",
    "\n",
    "def GenerateMask( mI: np.ndarray, colorSpace: int, lClip: List[Tuple[float, float]], mM: np.ndarray, rollOffWidth: float = 0.1 ):\n",
    "    \"\"\"\n",
    "    Generate a luminosity mask for the input luminosity image.\n",
    "    Input:\n",
    "      - mI           : A NumPy image array (RGB).\n",
    "      - colorSpace   : An integer: 0 -> RGB, 1 -> HSV, 2 -> LAB, 3 -> LCH, 4 -> YCgCr.\n",
    "      - lClip        : A list of 3 tuples which define the mask range per channel.\n",
    "      - mM           : A NumPy 2D array as a mask.\n",
    "    Remarks:\n",
    "      - The output range should be [0, 1].\n",
    "      - The clips are always in the range [0, 1].  \n",
    "        Data is scaled to match.\n",
    "      - The selection roll off is smooth.\n",
    "    \"\"\"\n",
    "    \n",
    "    # Color Transform\n",
    "    if colorSpace == 0: #<! RGB\n",
    "        mC = mI.copy()\n",
    "    elif colorSpace == 1: #<! HSV\n",
    "        mC = ski.color.rgb2hsv(mI)\n",
    "    elif colorSpace == 2: #<! LAB\n",
    "        mC = ski.color.rgb2lab(mI)\n",
    "    elif colorSpace == 3: #<! LCH\n",
    "        mC = ski.color.lab2lch(ski.color.rgb2lab(mI))\n",
    "    elif colorSpace == 4: #<! YCgCr\n",
    "        mC = np.empty_like(mI)\n",
    "        RgbToYCgCr(mI, mC)\n",
    "\n",
    "    # Scaling\n",
    "    # Scales each channel into the [0, 1] range.\n",
    "    mC[:] = (mC - np.min(mC, axis = (0, 1))) / (np.max(mC, axis = (0, 1)) - np.min(mC, axis = (0, 1)))\n",
    "\n",
    "    # Mask\n",
    "    for ii in range(mC.shape[2]):\n",
    "        GenSmoothRect(mC[:, :, ii], lClip[ii][0], lClip[ii][1], mC[:, :, ii], rollOffWidth = rollOffWidth)\n",
    "    \n",
    "    mM[:] = np.prod(mC, axis = 2)\n",
    "\n",
    "\n",
    "@njit\n",
    "def GenSmoothRect( vX: np.ndarray, lowVal: float, highVal: float, vY: np.ndarray, rollOffWidth: float = 0.1 ):\n",
    "    # Smooth rectangle with roll off width\n",
    "    \n",
    "    lowClip  = max(lowVal - rollOffWidth, 0)\n",
    "    highClip = min(highVal + rollOffWidth, 1)\n",
    "\n",
    "    for ii in range(vX.size):\n",
    "        valX = vX.flat[ii]\n",
    "        if valX < lowClip:\n",
    "            vY.flat[ii] = 0.0\n",
    "        elif valX < lowVal:\n",
    "            # Smoothstep [lowClip, lowVal]\n",
    "            valXN = (lowVal - valX) / (lowVal - lowClip)\n",
    "            vY.flat[ii] = 1 - (valXN * valXN * (3 - (2 * valXN)))\n",
    "        elif valX > highClip:\n",
    "            vY.flat[ii] = 0.0\n",
    "        elif valX > highVal:\n",
    "            # Smoothstep [highVal, highClip]\n",
    "            valXN = (valX - highVal) / (highClip - highVal)\n",
    "            vY.flat[ii] = 1 - (valXN * valXN * (3 - (2 * valXN)))\n",
    "        else:\n",
    "            vY.flat[ii] = 1.0\n",
    "\n",
    "\n",
    "#===============================================================#"
   ]
  },
  {
   "cell_type": "code",
   "execution_count": null,
   "metadata": {},
   "outputs": [],
   "source": [
    "# Mask Visualization Image\n",
    "\n",
    "def VisImgMask( mI: np.ndarray, colorSpaceStr: str, lClip: List[Tuple[float, float]], mM: np.ndarray, mO: np.ndarray ):\n",
    "\n",
    "    dColorSpaceStr = {'RGB': 0, 'HSV': 1, 'LAB': 2, 'LCH': 3, 'YCgCr': 4}\n",
    "    \n",
    "    # Generate the Mask\n",
    "    mM = np.empty(shape = mI.shape[:2])\n",
    "    GenerateMask(mI, dColorSpaceStr[colorSpaceStr], lClip, mM)\n",
    "    \n",
    "    # Apply Mask\n",
    "    mO[:] = mI * mM[:, :, None]\n",
    "    \n",
    "    hF, vHa = plt.subplots(nrows = 1, ncols = 3, figsize = (16, 6))\n",
    "    \n",
    "    vHa[0].imshow(mI)\n",
    "    vHa[0].set(xticks = [], yticks = [])\n",
    "    vHa[1].imshow(mM, cmap = 'gray', vmin = 0, vmax = 1)\n",
    "    vHa[1].set(xticks = [], yticks = [])\n",
    "    vHa[2].imshow(mO)\n",
    "    vHa[2].set(xticks = [], yticks = [])"
   ]
  },
  {
   "cell_type": "code",
   "execution_count": null,
   "metadata": {},
   "outputs": [],
   "source": [
    "# Interactive Widget \n",
    "\n",
    "mM = np.zeros_like(mI.shape[:2])\n",
    "mO = np.zeros_like(mI)\n",
    "\n",
    "hVisImgMask = lambda colorSpaceStr, tuChnl1Clip, tuChnl2Clip, tuChnl3Clip: VisImgMask(mI, colorSpaceStr, [tuChnl1Clip, tuChnl2Clip, tuChnl3Clip], mM, mO)\n",
    "\n",
    "chnl1RangeSlider = FloatRangeSlider(value = (0.25, 0.75), min = 0, max = 1, step = 0.01, \n",
    "                                  description = 'Channel 1 Range:', continuous_update = False, \n",
    "                                  orientation = 'horizontal', readout = True, readout_format = '0.2f', \n",
    "                                  layout = Layout(width = '20%'), style = {'description_width': 'initial'})\n",
    "chnl2RangeSlider = FloatRangeSlider(value = (0.25, 0.75), min = 0, max = 1, step = 0.01, \n",
    "                                  description = 'Channel 2 Range:', continuous_update = False, \n",
    "                                  orientation = 'horizontal', readout = True, readout_format = '0.2f', \n",
    "                                  layout = Layout(width = '20%'), style = {'description_width': 'initial'})\n",
    "chnl3RangeSlider = FloatRangeSlider(value = (0.25, 0.75), min = 0, max = 1, step = 0.01, \n",
    "                                  description = 'Channel 3 Range:', continuous_update = False, \n",
    "                                  orientation = 'horizontal', readout = True, readout_format = '0.2f', \n",
    "                                  layout = Layout(width = '20%'), style = {'description_width': 'initial'})\n",
    "colorSpaceStrDropdown = Dropdown(options = ['RGB', 'HSV', 'LAB', 'LCH', 'YCgCr'], value = 'RGB', description = 'Luminosity Mask Type:', \n",
    "                                 style = {'description_width': 'initial'})\n",
    "interact(hVisImgMask, colorSpaceStr = colorSpaceStrDropdown, \n",
    "         tuChnl1Clip = chnl1RangeSlider, tuChnl2Clip = chnl2RangeSlider, tuChnl3Clip = chnl3RangeSlider)\n",
    "\n",
    "plt.show()"
   ]
  }
 ],
 "metadata": {
  "kernelspec": {
   "display_name": "Python 3",
   "language": "python",
   "name": "python3"
  },
  "language_info": {
   "codemirror_mode": {
    "name": "ipython",
    "version": 3
   },
   "file_extension": ".py",
   "mimetype": "text/x-python",
   "name": "python",
   "nbconvert_exporter": "python",
   "pygments_lexer": "ipython3",
   "version": "3.11.5"
  },
  "toc": {
   "base_numbering": 1,
   "nav_menu": {},
   "number_sections": false,
   "sideBar": true,
   "skip_h1_title": false,
   "title_cell": "Table of Contents",
   "title_sidebar": "Contents",
   "toc_cell": false,
   "toc_position": {},
   "toc_section_display": true,
   "toc_window_display": true
  },
  "varInspector": {
   "cols": {
    "lenName": 16,
    "lenType": 16,
    "lenVar": 40
   },
   "kernels_config": {
    "python": {
     "delete_cmd_postfix": "",
     "delete_cmd_prefix": "del ",
     "library": "var_list.py",
     "varRefreshCmd": "print(var_dic_list())"
    },
    "r": {
     "delete_cmd_postfix": ") ",
     "delete_cmd_prefix": "rm(",
     "library": "var_list.r",
     "varRefreshCmd": "cat(var_dic_list()) "
    }
   },
   "types_to_exclude": [
    "module",
    "function",
    "builtin_function_or_method",
    "instance",
    "_Feature"
   ],
   "window_display": false
  },
  "vscode": {
   "interpreter": {
    "hash": "39577bab1f263e62e0b74f5b8086bd735049bf4751f6562b2d4b2969dc308293"
   }
  }
 },
 "nbformat": 4,
 "nbformat_minor": 4
}
