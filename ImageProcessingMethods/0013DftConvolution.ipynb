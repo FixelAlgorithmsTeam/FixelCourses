{
 "cells": [
  {
   "attachments": {},
   "cell_type": "markdown",
   "metadata": {},
   "source": [
    "[![Fixel Algorithms](https://fixelalgorithms.co/images/CCExt.png)](https://fixelalgorithms.gitlab.io)\n",
    "\n",
    "# Image Processing with Python\n",
    "\n",
    "## Convolution in Frequency Domain\n",
    "\n",
    "> Notebook by:\n",
    "> - Royi Avital RoyiAvital@fixelalgorithms.com\n",
    "\n",
    "## Revision History\n",
    "\n",
    "| Version | Date       | User        |Content / Changes                                                   |\n",
    "|---------|------------|-------------|--------------------------------------------------------------------|\n",
    "| 0.1.000 | 10/11/2024 | Royi Avital | First version                                                      |"
   ]
  },
  {
   "attachments": {},
   "cell_type": "markdown",
   "metadata": {},
   "source": [
    "[![Open In Colab](https://colab.research.google.com/assets/colab-badge.svg)](https://colab.research.google.com/github/FixelAlgorithmsTeam/FixelCourses/blob/master/ImageProcessingPython/0002SciKitImageBasics.ipynb)"
   ]
  },
  {
   "cell_type": "code",
   "execution_count": null,
   "metadata": {
    "ExecuteTime": {
     "end_time": "2022-02-02T09:30:06.492269Z",
     "start_time": "2022-02-02T09:30:06.220934Z"
    }
   },
   "outputs": [],
   "source": [
    "# Import Packages\n",
    "\n",
    "# General Tools\n",
    "import numpy as np\n",
    "import scipy as sp\n",
    "import pandas as pd\n",
    "\n",
    "from numba import jit, njit\n",
    "\n",
    "# Image Processing\n",
    "import skimage as ski\n",
    "\n",
    "# Machine Learning\n",
    "\n",
    "\n",
    "# Miscellaneous\n",
    "import itertools\n",
    "import math\n",
    "import os\n",
    "from platform import python_version\n",
    "import random\n",
    "import timeit\n",
    "\n",
    "# Typing\n",
    "from typing import Callable, Literal, List, Tuple\n",
    "\n",
    "# Visualization\n",
    "import matplotlib as mpl\n",
    "import matplotlib.pyplot as plt\n",
    "import seaborn as sns\n",
    "\n",
    "# Jupyter\n",
    "from IPython import get_ipython\n",
    "from IPython.display import Image, display\n",
    "from ipywidgets import Dropdown, FloatRangeSlider, FloatSlider, interact, IntSlider, Layout"
   ]
  },
  {
   "attachments": {},
   "cell_type": "markdown",
   "metadata": {},
   "source": [
    "## Notations\n",
    "\n",
    "* <font color='red'>(**?**)</font> Question to answer interactively.\n",
    "* <font color='blue'>(**!**)</font> Simple task to add code for the notebook.\n",
    "* <font color='green'>(**@**)</font> Optional / Extra self practice.\n",
    "* <font color='brown'>(**#**)</font> Note / Useful resource / Food for thought.\n",
    "\n",
    "### Code Exercise\n",
    "\n",
    " - Single line fill\n",
    "\n",
    "```python\n",
    "vallToFill = ???\n",
    "```\n",
    "\n",
    " - Multi Line to Fill (At least one)\n",
    "\n",
    "```python\n",
    "# You need to start writing\n",
    "?????\n",
    "```\n",
    "\n",
    " - Section to Fill\n",
    "\n",
    "```python\n",
    "#===========================Fill This===========================#\n",
    "# 1. Explanation about what to do.\n",
    "# !! Remarks to follow / take under consideration.\n",
    "mX = ???\n",
    "\n",
    "?????\n",
    "#===============================================================#\n",
    "```"
   ]
  },
  {
   "cell_type": "code",
   "execution_count": null,
   "metadata": {},
   "outputs": [],
   "source": [
    "# Configuration\n",
    "# %matplotlib inline\n",
    "\n",
    "seedNum = 512\n",
    "np.random.seed(seedNum)\n",
    "random.seed(seedNum)\n",
    "\n",
    "# sns.set_theme() #>! Apply SeaBorn theme\n",
    "\n",
    "runInGoogleColab = 'google.colab' in str(get_ipython())"
   ]
  },
  {
   "cell_type": "code",
   "execution_count": null,
   "metadata": {},
   "outputs": [],
   "source": [
    "# Constants\n",
    "\n"
   ]
  },
  {
   "cell_type": "code",
   "execution_count": null,
   "metadata": {},
   "outputs": [],
   "source": [
    "# Fixel Algorithms Packages\n"
   ]
  },
  {
   "cell_type": "code",
   "execution_count": null,
   "metadata": {},
   "outputs": [],
   "source": [
    "# General Auxiliary Functions\n",
    "\n",
    "def Gen2DGaussianKernel( σ: float, kernelRadius: int ) -> np.ndarray:\n",
    "\n",
    "    vG = np.arange(-kernelRadius, kernelRadius + 1)\n",
    "    vK = np.exp(-(1 / (2 * σ * σ)) * np.square(vG))\n",
    "\n",
    "    mK = np.outer(vK, vK)\n",
    "    mK /= np.sum(mK)\n",
    "\n",
    "    return mK\n",
    "\n",
    "def DftConvolution2D( mI: np.ndarray, mH: np.ndarray, /, *, convMode: Literal['full', 'same', 'valid'] ) -> np.ndarray:\n",
    "    \"\"\"\n",
    "    Perform 2D convolution of an input matrix with a kernel using the Discrete Fourier Transform (DFT).\n",
    "\n",
    "    Parameters\n",
    "    ----------\n",
    "    mI : np.ndarray\n",
    "        Input 2D matrix (Image) to be convolved.\n",
    "    mH : np.ndarray\n",
    "        2D kernel matrix (Kernel / Filter) used for convolution.\n",
    "    convMode : {'full', 'same', 'valid'}\n",
    "        Convolution mode that determines the shape of the output:\n",
    "        - 'full': Returns the convolution result with the full extent of overlap between the input and kernel.\n",
    "        - 'same': Returns the result with the same size as the input, centered appropriately.\n",
    "        - 'valid': Returns the result only for positions where the kernel fully overlaps the input (no padding).\n",
    "\n",
    "    Returns\n",
    "    -------\n",
    "    np.ndarray\n",
    "        The resulting matrix after performing the 2D convolution.\n",
    "\n",
    "    Raises\n",
    "    ------\n",
    "    ValueError\n",
    "        If `mI` or `mH` are not 2D matrices, or if their dimensions are incompatible.\n",
    "\n",
    "    Notes\n",
    "    -----\n",
    "    - This function uses the frequency-domain approach for convolution by computing the Fourier transform\n",
    "      of the input (`mI`) and kernel (`mH`), multiplying them element wise, and then performing the inverse\n",
    "      Fourier transform.\n",
    "    - This method is efficient for large input and kernel sizes but may introduce numerical inaccuracies due\n",
    "      to rounding in the Fourier transform process.\n",
    "    - Padding is applied to match the sizes of the input and kernel for the specified `convMode`.\n",
    "\n",
    "    Examples\n",
    "    --------\n",
    "    Convolve a 2D image with a Gaussian kernel:\n",
    "\n",
    "    >>> import numpy as np\n",
    "    >>> from scipy.ndimage import gaussian_filter\n",
    "    >>> mI = np.random.random((100, 100))\n",
    "    >>> mH = gaussian_filter(np.eye(5), sigma=1.0)\n",
    "    >>> result = DftConvolution2D(mI, mH, convMode = 'same')\n",
    "    >>> print(result.shape)\n",
    "    (100, 100)\n",
    "    \"\"\"\n",
    "\n",
    "    if (np.ndim(mH) != np.ndim(mI)) or (np.ndim(mH) != 2):\n",
    "        raise ValueError('Both `mK` and `mI` must be a 2D matrix')\n",
    "    \n",
    "    numRows     = np.size(mI, 0)\n",
    "    numCols     = np.size(mI, 1)\n",
    "    \n",
    "    numRowsKernel = np.size(mH, 1)\n",
    "    numColsKernel = np.size(mH, 1)\n",
    "\n",
    "    match convMode:\n",
    "        case 'full':\n",
    "            numRowsFft  = numRows + numRowsKernel - 1\n",
    "            numColsFft  = numCols + numColsKernel - 1\n",
    "            firstRowIdx = 1\n",
    "            firstColIdx = 1\n",
    "            lastRowIdx  = numRowsFft\n",
    "            lastColdIdx = numColsFft\n",
    "        case 'same':\n",
    "            numRowsFft  = numRows + numRowsKernel\n",
    "            numColsFft  = numCols + numColsKernel\n",
    "            firstRowIdx = math.ceil((numRowsKernel + 1) / 2)\n",
    "            firstColIdx = math.ceil((numColsKernel + 1) / 2)\n",
    "            lastRowIdx  = firstRowIdx + numRows - 1\n",
    "            lastColdIdx = firstColIdx + numCols - 1\n",
    "        case 'valid':\n",
    "            numRowsFft  = numRows\n",
    "            numColsFft  = numCols\n",
    "            firstRowIdx = numRowsKernel\n",
    "            firstColIdx = numColsKernel\n",
    "            # The Kernel when transformed is shifted (Namely its (0, 0) is top left not middle).\n",
    "            lastRowIdx  = numRowsFft\n",
    "            lastColdIdx = numColsFft\n",
    "    \n",
    "    mO = np.fft.ifft2(np.fft.fft2(mI, numRowsFft, numColsFft) * np.fft.fft2(mH, numRowsFft, numColsFft))\n",
    "    mO = mO[firstRowIdx:(lastRowIdx + 1), firstColIdx:(lastColdIdx + 1)]\n",
    "\n",
    "    return mO\n",
    "\n"
   ]
  },
  {
   "attachments": {},
   "cell_type": "markdown",
   "metadata": {},
   "source": [
    "## Image Convolution in Frequency Domain\n",
    "\n",
    "The [_Convolution Theorem_](https://en.wikipedia.org/wiki/Convolution_theorem) allows applying [Linear Time Invariant (LTI)](https://en.wikipedia.org/wiki/Linear_time-invariant_system) / Linear Shift Invariant filters in the frequency domain.  \n",
    "It can be done as Complex Exponentials are the Eigen Functions / Eigen Vectors of such systems.\n",
    "\n",
    "In te Discrete case, due to the periodicity assumption of the DFT, the applied operation is the [_Circular Convolution_](https://en.wikipedia.org/wiki/Circular_convolution).  \n",
    "Hence, in order to apply _Linear Convolution_ some padding and indexing operations should be applied.\n",
    "\n",
    "This notebook examines the performance per implementation.\n",
    "\n",
    "* <font color='brown'>(**#**)</font> Explicit Frequency \n",
    "* <font color='brown'>(**#**)</font> Filters might be neither LPF nor HPF."
   ]
  },
  {
   "cell_type": "code",
   "execution_count": null,
   "metadata": {},
   "outputs": [],
   "source": [
    "# Parameters\n",
    "\n",
    "# imgUrl = 'https://i.imgur.com/3BbIXdH.png' #<! A turtle climbing the Everest!\n",
    "imgUrl = 'https://i.postimg.cc/63rN33GZ/3BbIXdH.png' #<! A turtle climbing the Everest!\n",
    "\n",
    "lImageSize      = [100, 200, 300, 400, 500, 600, 700, 800, 900, 1000]\n",
    "lKernelRadius   = [5, 10, 15, 20, 25, 30, 35, 40]\n",
    "\n",
    "lImageSize      = [100, 200, 300, 400]\n",
    "lKernelRadius   = [5, 10, 15]\n"
   ]
  },
  {
   "cell_type": "markdown",
   "metadata": {},
   "source": [
    "## Generate Data\n",
    "\n",
    "This section loads the image used to evaluate the results.  "
   ]
  },
  {
   "cell_type": "code",
   "execution_count": null,
   "metadata": {},
   "outputs": [],
   "source": [
    "# Load / Generate Data\n",
    "\n",
    "mI = ski.io.imread(imgUrl)\n",
    "mI = ski.util.img_as_float64(mI)\n",
    "mI = np.mean(mI, axis = 2) #<! Single channel image"
   ]
  },
  {
   "cell_type": "code",
   "execution_count": null,
   "metadata": {},
   "outputs": [],
   "source": [
    "# Display the Data\n",
    "\n",
    "hF, hA = plt.subplots(figsize = (8, 6))\n",
    "hA.imshow(mI, cmap = 'gray')\n",
    "hA.set_title(f'Input Image');"
   ]
  },
  {
   "cell_type": "code",
   "execution_count": null,
   "metadata": {},
   "outputs": [],
   "source": [
    "# Pandas Data Frame\n",
    "\n",
    "numComb  = len(lImageSize) * len(lKernelRadius)\n",
    "dRunTime = {\n",
    "    'Image Size'                            : [],\n",
    "    'Kernel Radius'                         : [],\n",
    "    'Direct Convolution Run Time [Mili Sec]': [],\n",
    "    'DFT Convolution Run Time [Mili Sec]'   : [],\n",
    "    }\n",
    "for (imgSize, krnlRadius) in itertools.product(lImageSize, lKernelRadius):\n",
    "    dRunTime['Image Size'].append(imgSize)\n",
    "    dRunTime['Kernel Radius'].append(krnlRadius)\n",
    "\n",
    "    mII = ski.transform.resize(mI, (imgSize, imgSize), preserve_range = True)\n",
    "    mKK = np.random.rand(2 * krnlRadius + 1, 2 * krnlRadius + 1)\n",
    "    mKK /= np.sum(mKK)\n",
    "\n",
    "    runTime = timeit.timeit('sp.signal.convolve(mII, mKK, method = \"direct\")', number = 3, setup = 'import scipy as sp', globals = {'mII': mII, 'mKK': mKK})\n",
    "    dRunTime['Direct Convolution Run Time [Mili Sec]'].append(runTime * 1e3)\n",
    "\n",
    "    runTime = timeit.timeit('sp.signal.convolve(mII, mKK, method = \"fft\")', number = 3, setup = 'import scipy as sp', globals = {'mII': mII, 'mKK': mKK})\n",
    "    dRunTime['DFT Convolution Run Time [Mili Sec]'].append(runTime * 1e3)\n",
    "\n",
    "dfRunTime = pd.DataFrame(dRunTime)\n",
    "dfRunTime"
   ]
  },
  {
   "cell_type": "markdown",
   "metadata": {},
   "source": [
    "* <font color='red'>(**?**)</font> What about the cases for Gaussian Blur and Box Blur?"
   ]
  }
 ],
 "metadata": {
  "kernelspec": {
   "display_name": "Python 3",
   "language": "python",
   "name": "python3"
  },
  "language_info": {
   "codemirror_mode": {
    "name": "ipython",
    "version": 3
   },
   "file_extension": ".py",
   "mimetype": "text/x-python",
   "name": "python",
   "nbconvert_exporter": "python",
   "pygments_lexer": "ipython3",
   "version": "3.12.8"
  },
  "toc": {
   "base_numbering": 1,
   "nav_menu": {},
   "number_sections": false,
   "sideBar": true,
   "skip_h1_title": false,
   "title_cell": "Table of Contents",
   "title_sidebar": "Contents",
   "toc_cell": false,
   "toc_position": {},
   "toc_section_display": true,
   "toc_window_display": true
  },
  "varInspector": {
   "cols": {
    "lenName": 16,
    "lenType": 16,
    "lenVar": 40
   },
   "kernels_config": {
    "python": {
     "delete_cmd_postfix": "",
     "delete_cmd_prefix": "del ",
     "library": "var_list.py",
     "varRefreshCmd": "print(var_dic_list())"
    },
    "r": {
     "delete_cmd_postfix": ") ",
     "delete_cmd_prefix": "rm(",
     "library": "var_list.r",
     "varRefreshCmd": "cat(var_dic_list()) "
    }
   },
   "types_to_exclude": [
    "module",
    "function",
    "builtin_function_or_method",
    "instance",
    "_Feature"
   ],
   "window_display": false
  },
  "vscode": {
   "interpreter": {
    "hash": "39577bab1f263e62e0b74f5b8086bd735049bf4751f6562b2d4b2969dc308293"
   }
  }
 },
 "nbformat": 4,
 "nbformat_minor": 4
}
