{
 "cells": [
  {
   "attachments": {},
   "cell_type": "markdown",
   "metadata": {},
   "source": [
    "[![Fixel Algorithms](https://fixelalgorithms.co/images/CCExt.png)](https://fixelalgorithms.gitlab.io/)\n",
    "\n",
    "# Image Processing with Python\n",
    "\n",
    "## SciKit Image Basics\n",
    "\n",
    "> Notebook by:\n",
    "> - Royi Avital RoyiAvital@fixelalgorithms.com\n",
    "\n",
    "## Revision History\n",
    "\n",
    "| Version | Date       | User        |Content / Changes                                                   |\n",
    "|---------|------------|-------------|--------------------------------------------------------------------|\n",
    "| 0.1.000 | 03/10/2023 | Royi Avital | First version                                                      |"
   ]
  },
  {
   "attachments": {},
   "cell_type": "markdown",
   "metadata": {},
   "source": [
    "[![Open In Colab](https://colab.research.google.com/assets/colab-badge.svg)](https://colab.research.google.com/github/FixelAlgorithmsTeam/FixelCourses/blob/master/ImageProcessingPython/0002SciKitImageBasics.ipynb)"
   ]
  },
  {
   "cell_type": "code",
   "execution_count": null,
   "metadata": {
    "ExecuteTime": {
     "end_time": "2022-02-02T09:30:06.492269Z",
     "start_time": "2022-02-02T09:30:06.220934Z"
    }
   },
   "outputs": [],
   "source": [
    "# Import Packages\n",
    "\n",
    "# General Tools\n",
    "import numpy as np\n",
    "import scipy as sp\n",
    "import pandas as pd\n",
    "\n",
    "from numba import jit, njit\n",
    "\n",
    "# Image Processing\n",
    "import skimage as ski\n",
    "\n",
    "# Machine Learning\n",
    "\n",
    "\n",
    "# Miscellaneous\n",
    "import os\n",
    "from platform import python_version\n",
    "import random\n",
    "import timeit\n",
    "\n",
    "# Typing\n",
    "from typing import Callable, List, Tuple\n",
    "\n",
    "# Visualization\n",
    "import matplotlib as mpl\n",
    "import matplotlib.pyplot as plt\n",
    "import seaborn as sns\n",
    "# from bokeh.plotting import figure, show\n",
    "\n",
    "# Jupyter\n",
    "from IPython import get_ipython\n",
    "from IPython.display import Image, display\n",
    "from ipywidgets import Dropdown, FloatRangeSlider, FloatSlider, interact, IntSlider, Layout"
   ]
  },
  {
   "attachments": {},
   "cell_type": "markdown",
   "metadata": {},
   "source": [
    "## Notations\n",
    "\n",
    "* <font color='red'>(**?**)</font> Question to answer interactively.\n",
    "* <font color='blue'>(**!**)</font> Simple task to add code for the notebook.\n",
    "* <font color='green'>(**@**)</font> Optional / Extra self practice.\n",
    "* <font color='brown'>(**#**)</font> Note / Useful resource / Food for thought.\n",
    "\n",
    "### Code Exercise\n",
    "\n",
    " - Single line fill\n",
    "\n",
    " ```python\n",
    " vallToFill = ???\n",
    " ```\n",
    "\n",
    " - Multi Line to Fill (At least one)\n",
    "\n",
    " ```python\n",
    " # You need to start writing\n",
    " ????\n",
    " ```\n",
    "\n",
    " - Section to Fill\n",
    "\n",
    "```python\n",
    "#===========================Fill This===========================#\n",
    "# 1. Explanation about what to do.\n",
    "# !! Remarks to follow / take under consideration.\n",
    "mX = ???\n",
    "\n",
    "???\n",
    "#===============================================================#\n",
    "```"
   ]
  },
  {
   "cell_type": "code",
   "execution_count": null,
   "metadata": {},
   "outputs": [],
   "source": [
    "# Configuration\n",
    "# %matplotlib inline\n",
    "\n",
    "seedNum = 512\n",
    "np.random.seed(seedNum)\n",
    "random.seed(seedNum)\n",
    "\n",
    "# sns.set_theme() #>! Apply SeaBorn theme\n",
    "\n",
    "runInGoogleColab = 'google.colab' in str(get_ipython())"
   ]
  },
  {
   "cell_type": "code",
   "execution_count": null,
   "metadata": {},
   "outputs": [],
   "source": [
    "# Constants\n",
    "\n"
   ]
  },
  {
   "cell_type": "code",
   "execution_count": null,
   "metadata": {},
   "outputs": [],
   "source": [
    "# Fixel Algorithms Packages\n"
   ]
  },
  {
   "cell_type": "code",
   "execution_count": null,
   "metadata": {},
   "outputs": [],
   "source": [
    "# General Auxiliary Functions\n",
    "\n"
   ]
  },
  {
   "attachments": {},
   "cell_type": "markdown",
   "metadata": {},
   "source": [
    "## SciKit Image Basics\n",
    "\n",
    "This _notebook_ exercises basics use of the [SciKit Image](https://scikit-image.org) package.    \n",
    "SciKit Image main feature is compatibility with other packages.  \n",
    "It is achieved, mostly, by relying on NumPy's `ndarray` for the data structure of images.\n",
    "\n",
    "* <font color='brown'>(**#**)</font> For visualization the package [Matplotlib](https://github.com/matplotlib/matplotlib) will be used.\n",
    "* <font color='brown'>(**#**)</font> For acceleration the package [Numba](https://github.com/numba/numba) will be used."
   ]
  },
  {
   "cell_type": "markdown",
   "metadata": {},
   "source": [
    "### Image Loading\n",
    "\n",
    "This section exercises several ways to load images into a NumPy array."
   ]
  },
  {
   "cell_type": "code",
   "execution_count": null,
   "metadata": {},
   "outputs": [],
   "source": [
    "# Parameters\n",
    "\n",
    "imgUrl = 'https://i.imgur.com/3BbIXdH.png' #<! A turtle climbing the Everest!"
   ]
  },
  {
   "cell_type": "code",
   "execution_count": null,
   "metadata": {},
   "outputs": [],
   "source": [
    "#===========================Fill This===========================#\n",
    "# 1. Load an image using `ski.io.imread()`.\n",
    "# 2. Use `ski.io.imshow()` to display the image.\n",
    "# 3. Since `imshow()` returns the Images Axes:\n",
    "#  - Extract the figure axes using `.axes`.\n",
    "#  - Set the title using `.set_title()` to include the images shape and element type.\n",
    "# !! Since `imread()` supports reading from `URL` use `imgUrl`.\n",
    "\n",
    "mI = ski.io.imread(imgUrl) #<! Load the image\n",
    "hImgAxes = ski.io.imshow(mI) #<! Plot the image using `imshow()`\n",
    "hA = hImgAxes.axes #<! Extract the figure axes form the image axes\n",
    "hA.set_title(f'Image Shape: {mI.shape}, Image `dtype`: {mI.dtype}'); #<! Set the title, use `;` at the end\n",
    "\n",
    "#===============================================================#\n"
   ]
  },
  {
   "cell_type": "markdown",
   "metadata": {},
   "source": [
    "By default, for most cases, loaded image will have `uint8` data type.  \n",
    "For prototyping, it is much easier to work with floating point in the range `[0, 1]`.  \n",
    "SciKit Image supply few functions to handle this: [`img_as_float()`](https://scikit-image.org/docs/stable/api/skimage.util.html#skimage.util.img_as_float), [`img_as_float32`](https://scikit-image.org/docs/stable/api/skimage.util.html#skimage.util.img_as_float32), [`img_as_float64()`](https://scikit-image.org/docs/stable/api/skimage.util.html#skimage.util.img_as_float64).\n",
    "\n",
    "They take care of the proper conversion for any input type.\n",
    "\n",
    "* <font color='brown'>(**#**)</font> Some image file formats supports more bits per pixel element (`uint16`, `uint32`).\n",
    "* <font color='brown'>(**#**)</font> HDR formats supports `Float16` / `Float32` / `Float64`.\n",
    "* <font color='brown'>(**#**)</font> The function `img_as_float()` will convert by default for `float64` unless the image is in other floating point format."
   ]
  },
  {
   "cell_type": "code",
   "execution_count": null,
   "metadata": {},
   "outputs": [],
   "source": [
    "#===========================Fill This===========================#\n",
    "# 1. Convert the image to `float32`.\n",
    "# 2. Use `.imshow()` to display it.\n",
    "# 3. Remove the `xticks` / `yticks` using `.set()`.\n",
    "\n",
    "mIF32 = ski.util.img_as_float32(mI) #!< Convert to `Float32`\n",
    "\n",
    "hF, hA = plt.subplots() #<! Generate figure handler and axes handler\n",
    "hA.imshow(mIF32) #<! Plot the image using the `imshow()` method for the axes handler\n",
    "hA.set(xticks = [], yticks = []); #<! Remove the `xticks` and `yticks`\n",
    "\n",
    "#===============================================================#"
   ]
  },
  {
   "cell_type": "markdown",
   "metadata": {},
   "source": [
    "### Data Structure\n",
    "\n",
    "There are 2 criteria for most common data structures for images:\n",
    "\n",
    "1. Memory Layout  \n",
    "   Planar (_Struct of Arrays_) where color channels are contiguous.  \n",
    "   Packed / Interleaved (_Struct of Arrays_) where pixels elements are contiguous.  \n",
    "2. Order of Channels\n",
    "   Most used is `RGB` but there are cases of `BGR` (OpenCV).\n",
    "\n",
    "\n",
    "![](https://i.imgur.com/d2HodfQ.png)\n",
    "\n",
    "**Image Credit**: [Apple - Optimizing Image Processing Performance](https://developer.apple.com/documentation/accelerate/optimizing_image-processing_performance)."
   ]
  },
  {
   "cell_type": "code",
   "execution_count": null,
   "metadata": {},
   "outputs": [],
   "source": [
    "# Change order of channels\n",
    "\n",
    "mRef = np.zeros_like(mIF32) #<! Reference\n",
    "\n",
    "for ii in range(mIF32.shape[2]):\n",
    "    mRef[:, :, ii] = mIF32[:, :, 2 - ii]\n",
    "\n",
    "#===========================Fill This===========================#\n",
    "# 1. Convert `mIF32` into `BGR` form and keep result in `mIF32BGR`.\n",
    "# !! Don't use any loops.\n",
    "\n",
    "mIF32BGR = mIF32[:, :, ::-1] #<! RGB to BGR\n",
    "\n",
    "#===============================================================#\n",
    "\n",
    "print(f'Solution is verified: {np.allclose(mRef, mIF32BGR)}')"
   ]
  },
  {
   "cell_type": "code",
   "execution_count": null,
   "metadata": {},
   "outputs": [],
   "source": [
    "#===========================Fill This===========================#\n",
    "# 1. Convert the image structure from Planar to Packed.\n",
    "# !! Don't use any loops.\n",
    "# !! The output dimensions should be (mIF32.shape[0], 3 * mIF32.shape[1])\n",
    "# !! You should use `np.reshape()`.\n",
    "\n",
    "mIF32Packed = np.reshape(np.reshape(mIF32, (-1, 3)), (mIF32.shape[0], 3 * mIF32.shape[1])) #<! Planar to Packed\n",
    "\n",
    "#===============================================================#\n",
    "\n",
    "ii = 50\n",
    "jj = 10\n",
    "\n",
    "print(f'Solution is verified: {np.allclose(mIF32Packed[ii, (3 * jj):(3 * jj + 3)], mIF32[ii, jj, :])}')"
   ]
  },
  {
   "cell_type": "markdown",
   "metadata": {},
   "source": [
    "### Conversion to Grayscale\n",
    "\n",
    "SciKit Image offers several ways to convert to a Grayscale image.  \n",
    "This section optimizes the way to convert to _grayscale_ image using a linear transform.  \n",
    "It will evaluate vectorized form and loop based form with Numba acceleration.\n",
    "\n",
    "The output image:\n",
    "\n",
    "$$G \\left[ m, n \\right] = \\sum_{i = 1}^{3} {t}_{i} I \\left[ m, n, i \\right]$$\n",
    "\n",
    "Where $\\boldsymbol{t} \\in \\mathbb{R}^{3}$ is the weights of the channels, $G$ is the grayscale image and $I$ is the RGB image."
   ]
  },
  {
   "cell_type": "code",
   "execution_count": null,
   "metadata": {},
   "outputs": [],
   "source": [
    "# Initialization\n",
    "\n",
    "mGRef = np.zeros(shape = mIF32.shape[:2]) #<! Reference\n",
    "mGVec = np.zeros(shape = mIF32.shape[:2]) #<! Vectorization\n",
    "mGNum = np.zeros(shape = mIF32.shape[:2]) #<! Numba\n",
    "\n",
    "vT = np.array([0.25, 0.5, 0.25]) #<! Transformation Weights"
   ]
  },
  {
   "cell_type": "code",
   "execution_count": null,
   "metadata": {},
   "outputs": [],
   "source": [
    "%%timeit -n1 mGRef.fill(0.0) #<! Each loop of `%%timeit` uses the same value (Setup code)\n",
    "# Reference Loop Based\n",
    "\n",
    "for ii in range(mIF32.shape[2]):\n",
    "    mGRef[:] += vT[ii] * mIF32[:, :, ii]\n"
   ]
  },
  {
   "cell_type": "markdown",
   "metadata": {},
   "source": [
    "* <font color='red'>(**?**)</font> Why `mGRef[:] += vT[ii] * mIF32[..., ii]` is used and not `mGRef += vT[ii] * mIF32[..., ii]`? "
   ]
  },
  {
   "cell_type": "code",
   "execution_count": null,
   "metadata": {},
   "outputs": [],
   "source": [
    "%%timeit\n",
    "#===========================Fill This===========================#\n",
    "# 1. Convert the image `mIF32` into grayscale using vectorized operations.\n",
    "# !! Use `mGVec[:]` for the result.\n",
    "# !! There many approaches, for instance:\n",
    "#    - Convert the image into (3, numPixels) array an use dot product.\n",
    "#    - Use broadcasted `dot()`.\n",
    "\n",
    "numPx    = np.prod(mIF32.shape[:2]) #<! Number of Pixels\n",
    "mGVec[:] = np.reshape(np.reshape(np.dot(np.reshape(mIF32, (numPx, 3)), vT), (mIF32.shape[:2])), (mIF32.shape[0], mIF32.shape[1]))\n",
    "\n",
    "#===============================================================#"
   ]
  },
  {
   "cell_type": "markdown",
   "metadata": {},
   "source": [
    "* <font color='red'>(**?**)</font> Explain the run time performance of the vectorized method compared to the loop method? "
   ]
  },
  {
   "cell_type": "code",
   "execution_count": null,
   "metadata": {},
   "outputs": [],
   "source": [
    "#===========================Fill This===========================#\n",
    "# 1. Apply the function using loops inside a function.\n",
    "# 2. The function is accelerated by Numba's jit.\n",
    "# !! Make sure not to use any global variables.\n",
    "\n",
    "@njit\n",
    "def ConvertImageToGray(mI: np.ndarray, vT: np.ndarray, mO: np.ndarray):\n",
    "    \"\"\"\n",
    "    Convert RGB image to grayscale according to the weights in `vT`.\n",
    "    Input:\n",
    "      - mI           : Numpy array, RGB Image.\n",
    "      - vT           : Vector of the RGB weights.\n",
    "      - mO           : Numpy array, Grayscale Image (Inplace).\n",
    "    Remarks:\n",
    "      - fd\n",
    "    \"\"\"\n",
    "    \n",
    "    for ii in range(mI.shape[0]):\n",
    "       for jj in range(mI.shape[1]):\n",
    "          mO[ii, jj] = vT[0] * mI[ii, jj, 0] + vT[1] * mI[ii, jj, 1] + vT[2] * mI[ii, jj, 2]\n",
    "\n",
    "#===============================================================#\n",
    "\n",
    "ConvertImageToGray(mIF32, vT, mGNum) #<! For the first run of the JIT compilation"
   ]
  },
  {
   "cell_type": "code",
   "execution_count": null,
   "metadata": {},
   "outputs": [],
   "source": [
    "%%timeit\n",
    "# Using Numba for acceleration\n",
    "ConvertImageToGray(mIF32, vT, mGNum)"
   ]
  },
  {
   "cell_type": "code",
   "execution_count": null,
   "metadata": {},
   "outputs": [],
   "source": [
    "# Verify results of each method\n",
    "print(f'The vectorized method is valid: {np.allclose(mGRef, mGVec)}')\n",
    "print(f'The Numba method is valid: {np.allclose(mGRef, mGNum)}')"
   ]
  },
  {
   "cell_type": "code",
   "execution_count": null,
   "metadata": {},
   "outputs": [],
   "source": [
    "hF, hA = plt.subplots()\n",
    "hA.imshow(mGRef, cmap = 'gray', vmin = 0, vmax = 1)\n",
    "hA.set(xticks = [], yticks = []);"
   ]
  },
  {
   "cell_type": "markdown",
   "metadata": {},
   "source": [
    "* <font color='red'>(**?**)</font> Why are `vmin` and `vmax` set? "
   ]
  },
  {
   "cell_type": "markdown",
   "metadata": {},
   "source": [
    "Interactive visualization is a great tool for analysis in Python (Using the Jupyter kerne).  \n",
    "It can be done using widgets which allows interactive visualization.\n",
    "\n",
    "The recipe could be described as following:\n",
    "\n",
    "1. The Visualization Function  \n",
    "   Does the heavy lifting, gets parameters, data, call the processing function and updates the plot.  \n",
    "   It should be as efficient as possible to allow real time visualization.\n",
    "2. The Wrapper Function   \n",
    "   A function (Usually `Lambda Function`) which exposes only the parameters of the widget and call the main visualization function.\n",
    "3. The Widget  \n",
    "   The widget to be used for the interactive UX.\n",
    "\n",
    "This section uses such widget to generate a visualization of a grayscale image by letting the user choose the weights."
   ]
  },
  {
   "cell_type": "code",
   "execution_count": null,
   "metadata": {},
   "outputs": [],
   "source": [
    "#===========================Fill This===========================#\n",
    "# 1. Write the function which its input is RGB image, weights vector and a buffer of grayscale image.\n",
    "# 2. Using `ConvertImageToGray()` convert the RGB image into grayscale.\n",
    "# 3. Create a figure and draw the image. Remove axis ticks and such.\n",
    "# !! We use the fastest implementation of RGB to Gray in the notebook.\n",
    "\n",
    "def VisGrayScaleImage( mI: np.ndarray, vT: np.ndarray, mO: np.ndarray, hF: plt.figure, hImgAxes: mpl.image.AxesImage ):\n",
    "    ConvertImageToGray(mI, vT, mO)\n",
    "    \n",
    "    hF, hA = plt.subplots(figsize = (6, 6))\n",
    "    hA.imshow(mGRef, cmap = 'gray', vmin = 0, vmax = 1)\n",
    "    hA.set(xticks = [], yticks = [])\n",
    "    \n",
    "    # For faster performance in `%matplotlib notebook` mode\n",
    "    # hImgAxes.set_data(mO)\n",
    "    # hF.canvas.draw()\n",
    "    # plt.show()\n",
    "\n",
    "#===============================================================#\n"
   ]
  },
  {
   "cell_type": "code",
   "execution_count": null,
   "metadata": {},
   "outputs": [],
   "source": [
    "# This section shows the wrapper and the widget\n",
    "\n",
    "# hF, hA = plt.subplots(figsize = (6, 6))\n",
    "# hImgAxes = hA.imshow(mIF32)\n",
    "# hA.set(xticks = [], yticks = [])\n",
    "# hImgAxes.set(cmap = 'gray', clim = (0.0, 1.0))\n",
    "\n",
    "hVisGrayScaleImage = lambda valT1, valT2: VisGrayScaleImage(mIF32, np.array([valT1, valT2, 1 - valT1 - valT2]), mGRef, hF, hImgAxes)\n",
    "\n",
    "t1Slider = FloatSlider(min = 0.0, max = 1.0, step = 0.01, value = 0.25, layout = Layout(width = '30%'))\n",
    "t2Slider = FloatSlider(min = 0.0, max = 1.0, step = 0.01, value = 0.25, layout = Layout(width = '30%'))\n",
    "interact(hVisGrayScaleImage, valT1 = t1Slider, valT2 = t2Slider)\n",
    "\n",
    "plt.show()"
   ]
  },
  {
   "cell_type": "markdown",
   "metadata": {},
   "source": [
    "### Color Spaces\n",
    "\n",
    "SciKit Image contain many [color space related functions](https://scikit-image.org/docs/stable/api/skimage.color.html): Transformations, Metrics.  \n",
    "This section shows different masking methods based on color hue of different color spaces."
   ]
  },
  {
   "cell_type": "code",
   "execution_count": null,
   "metadata": {},
   "outputs": [],
   "source": [
    "#===========================Fill This===========================#\n",
    "# 1. Create a function to mask an image based on color hue.\n",
    "# 2. It should support the following color spaces: LCH and HSV.\n",
    "# 3. The output mask will be based on a range selected by user.\n",
    "# !! The mask should be smooth, so the range will define the radius for a gaussian function to be above 1.\n",
    "# !! You may find the following useful:\n",
    "#   - hNormPdf = lambda x, σ: np.reciprocal(2 * np.pi * σ) * np.exp(-0.5 * np.square(x / σ))\n",
    "#   - hNormPdf(1, 1) = 0.09653235263005391\n",
    "#   - hNormPdf(5, 5) / hNormPdf(1, 1) = 0.2\n",
    "#   - hNormPdf(0.5, 0.5) / hNormPdf(1, 1) = 2\n",
    "\n",
    "def MaskImageHue( mI: np.ndarray, colorSpace: int, tuHueRange: Tuple[float, float], mM: np.ndarray ):\n",
    "    \"\"\"\n",
    "    Generates a Mask based on hue range defined in `tuHueRange`.\n",
    "    Input:\n",
    "      - mI           : Numpy array, RGB Image.\n",
    "      - colorSpace   : Integer: 0 -> LCH, 1 -> HSL.\n",
    "      - tuHueRange   : A tuple of size 2. Range of hue in the range [0, 2π].\n",
    "      - mM           : Numpy array, Grayscale Image (Mask).\n",
    "    Remarks:\n",
    "      - H of HSL in the range [0, 1].\n",
    "      - H of LCH in the range [0, 2π].\n",
    "      - It is suggested to have a smooth roll off by a Gaussian.  \n",
    "        You may choose otherwise.\n",
    "      - You may use Numba.\n",
    "    \"\"\"\n",
    "    \n",
    "    NORM_PDF_1_SIGMA = 0.09653235263005391\n",
    "\n",
    "    if colorSpace == 0:\n",
    "        mC = ski.color.lab2lch(ski.color.rgb2lab(mI))[..., 2] #<! H in [0, 2π]\n",
    "    elif colorSpace == 1:\n",
    "        mC = 2 * np.pi * ski.color.rgb2hsv(mI)[..., 0] #<! H in [0, 1]\n",
    "    \n",
    "    vX = np.linspace(0, 2 * np.pi, 1000)\n",
    "    μ = 0.5 * sum(tuHueRange)\n",
    "    σ = max(tuHueRange) - μ\n",
    "    vG = (σ / NORM_PDF_1_SIGMA) * np.reciprocal(2 * np.pi * σ) * np.exp(-0.5 * np.square((vX - μ) / σ))\n",
    "    vG = np.clip(vG, a_min = 0.0, a_max = 1.0, out = vG)\n",
    "\n",
    "    mM[:] = np.reshape(vG[np.argmax(mC.ravel()[:, None] <= vX[None, :], axis = 1)], mM.shape) #<! LUT (Can be done using Interpolation)\n",
    "\n",
    "#===============================================================#"
   ]
  },
  {
   "cell_type": "code",
   "execution_count": null,
   "metadata": {},
   "outputs": [],
   "source": [
    "def VisPlotHueMaskImg( mI: np.ndarray, colorSpace: int, tuHueRange: Tuple[float, float], mM: np.ndarray ):\n",
    "    colorSpace = 0 if colorSpace == 'LCH' else 1\n",
    "    \n",
    "    MaskImageHue(mI, colorSpace, tuHueRange, mM)\n",
    "    \n",
    "    hF, vHa = plt.subplots(nrows = 1, ncols = 2, figsize = (12, 6))\n",
    "    vHa[0].imshow(mI)\n",
    "    vHa[0].set(xticks = [], yticks = [])\n",
    "\n",
    "    vHa[1].imshow(mM, cmap = 'gray', vmin = 0, vmax = 1)\n",
    "    vHa[1].set(xticks = [], yticks = [])\n"
   ]
  },
  {
   "cell_type": "code",
   "execution_count": null,
   "metadata": {},
   "outputs": [],
   "source": [
    "mM = np.zeros(shape = mIF32.shape[:2])\n",
    "\n",
    "hVisPlotHueMaskImg = lambda colorSpace, tuHueRange: VisPlotHueMaskImg(mIF32, colorSpace, tuHueRange, mM)\n",
    "\n",
    "colorSpaceDropdown = Dropdown(options = ['HSV', 'LCH'], value = 'HSV', description = 'Color Space:')\n",
    "hueRangeSlider = FloatRangeSlider(value = (1, 2), min = 0, max = 2 * np.pi, step = 0.01, \n",
    "                                  description = 'Hue Range:', continuous_update = False, \n",
    "                                  orientation = 'horizontal', readout = True, readout_format = '0.2f')\n",
    "\n",
    "interact(hVisPlotHueMaskImg, colorSpace = colorSpaceDropdown, tuHueRange = hueRangeSlider)\n",
    "\n",
    "plt.show()"
   ]
  },
  {
   "cell_type": "markdown",
   "metadata": {},
   "source": [
    "* <font color='green'>(**@**)</font> Implement `` using a 2D loop with Numba."
   ]
  },
  {
   "cell_type": "markdown",
   "metadata": {},
   "source": [
    "###"
   ]
  }
 ],
 "metadata": {
  "kernelspec": {
   "display_name": "Python 3",
   "language": "python",
   "name": "python3"
  },
  "language_info": {
   "codemirror_mode": {
    "name": "ipython",
    "version": 3
   },
   "file_extension": ".py",
   "mimetype": "text/x-python",
   "name": "python",
   "nbconvert_exporter": "python",
   "pygments_lexer": "ipython3",
   "version": "3.11.5"
  },
  "toc": {
   "base_numbering": 1,
   "nav_menu": {},
   "number_sections": false,
   "sideBar": true,
   "skip_h1_title": false,
   "title_cell": "Table of Contents",
   "title_sidebar": "Contents",
   "toc_cell": false,
   "toc_position": {},
   "toc_section_display": true,
   "toc_window_display": true
  },
  "varInspector": {
   "cols": {
    "lenName": 16,
    "lenType": 16,
    "lenVar": 40
   },
   "kernels_config": {
    "python": {
     "delete_cmd_postfix": "",
     "delete_cmd_prefix": "del ",
     "library": "var_list.py",
     "varRefreshCmd": "print(var_dic_list())"
    },
    "r": {
     "delete_cmd_postfix": ") ",
     "delete_cmd_prefix": "rm(",
     "library": "var_list.r",
     "varRefreshCmd": "cat(var_dic_list()) "
    }
   },
   "types_to_exclude": [
    "module",
    "function",
    "builtin_function_or_method",
    "instance",
    "_Feature"
   ],
   "window_display": false
  },
  "vscode": {
   "interpreter": {
    "hash": "39577bab1f263e62e0b74f5b8086bd735049bf4751f6562b2d4b2969dc308293"
   }
  }
 },
 "nbformat": 4,
 "nbformat_minor": 4
}
