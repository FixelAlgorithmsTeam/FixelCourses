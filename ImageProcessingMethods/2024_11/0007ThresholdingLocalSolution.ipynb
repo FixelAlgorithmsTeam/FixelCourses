{
 "cells": [
  {
   "attachments": {},
   "cell_type": "markdown",
   "metadata": {},
   "source": [
    "[![Fixel Algorithms](https://fixelalgorithms.co/images/CCExt.png)](https://fixelalgorithms.gitlab.io)\n",
    "\n",
    "# Image Processing with Python\n",
    "\n",
    "## Local Thresholding\n",
    "\n",
    "> Notebook by:\n",
    "> - Royi Avital RoyiAvital@fixelalgorithms.com\n",
    "\n",
    "## Revision History\n",
    "\n",
    "| Version | Date       | User        |Content / Changes                                                   |\n",
    "|---------|------------|-------------|--------------------------------------------------------------------|\n",
    "| 0.1.000 | 03/10/2023 | Royi Avital | First version                                                      |"
   ]
  },
  {
   "attachments": {},
   "cell_type": "markdown",
   "metadata": {},
   "source": [
    "[![Open In Colab](https://colab.research.google.com/assets/colab-badge.svg)](https://colab.research.google.com/github/FixelAlgorithmsTeam/FixelCourses/blob/master/ImageProcessingPython/0002SciKitImageBasics.ipynb)"
   ]
  },
  {
   "cell_type": "code",
   "execution_count": null,
   "metadata": {
    "ExecuteTime": {
     "end_time": "2022-02-02T09:30:06.492269Z",
     "start_time": "2022-02-02T09:30:06.220934Z"
    }
   },
   "outputs": [],
   "source": [
    "# Import Packages\n",
    "\n",
    "# General Tools\n",
    "import numpy as np\n",
    "import scipy as sp\n",
    "import pandas as pd\n",
    "\n",
    "from numba import jit, njit\n",
    "\n",
    "# Image Processing\n",
    "import skimage as ski\n",
    "\n",
    "# Machine Learning\n",
    "\n",
    "\n",
    "# Miscellaneous\n",
    "import os\n",
    "from platform import python_version\n",
    "import random\n",
    "import timeit\n",
    "\n",
    "# Typing\n",
    "from typing import Callable, List, Optional, Tuple\n",
    "\n",
    "# Visualization\n",
    "import matplotlib as mpl\n",
    "import matplotlib.pyplot as plt\n",
    "import seaborn as sns\n",
    "\n",
    "# Jupyter\n",
    "from IPython import get_ipython\n",
    "from IPython.display import Image, display\n",
    "from ipywidgets import Dropdown, FloatRangeSlider, FloatSlider, interact, IntSlider, Layout"
   ]
  },
  {
   "attachments": {},
   "cell_type": "markdown",
   "metadata": {},
   "source": [
    "## Notations\n",
    "\n",
    "* <font color='red'>(**?**)</font> Question to answer interactively.\n",
    "* <font color='blue'>(**!**)</font> Simple task to add code for the notebook.\n",
    "* <font color='green'>(**@**)</font> Optional / Extra self practice.\n",
    "* <font color='brown'>(**#**)</font> Note / Useful resource / Food for thought.\n",
    "\n",
    "### Code Exercise\n",
    "\n",
    " - Single line fill\n",
    "\n",
    "```python\n",
    "valToFill = ???\n",
    "```\n",
    "\n",
    " - Multi Line to Fill (At least one)\n",
    "\n",
    "```python\n",
    "# You need to start writing\n",
    "?????\n",
    "```\n",
    "\n",
    " - Section to Fill\n",
    "\n",
    "```python\n",
    "#===========================Fill This===========================#\n",
    "# 1. Explanation about what to do.\n",
    "# !! Remarks to follow / take under consideration.\n",
    "mX = ???\n",
    "\n",
    "?????\n",
    "#===============================================================#\n",
    "```"
   ]
  },
  {
   "cell_type": "code",
   "execution_count": 2,
   "metadata": {},
   "outputs": [],
   "source": [
    "# Configuration\n",
    "# %matplotlib inline\n",
    "\n",
    "seedNum = 512\n",
    "np.random.seed(seedNum)\n",
    "random.seed(seedNum)\n",
    "\n",
    "# sns.set_theme() #>! Apply SeaBorn theme\n",
    "\n",
    "runInGoogleColab = 'google.colab' in str(get_ipython())"
   ]
  },
  {
   "cell_type": "code",
   "execution_count": 3,
   "metadata": {},
   "outputs": [],
   "source": [
    "# Constants\n",
    "\n"
   ]
  },
  {
   "cell_type": "code",
   "execution_count": 4,
   "metadata": {},
   "outputs": [],
   "source": [
    "# Fixel Algorithms Packages\n"
   ]
  },
  {
   "cell_type": "code",
   "execution_count": 5,
   "metadata": {},
   "outputs": [],
   "source": [
    "# General Auxiliary Functions\n",
    "\n"
   ]
  },
  {
   "cell_type": "markdown",
   "metadata": {},
   "source": [
    "## Image Thresholding\n",
    "\n",
    "Image Thresholding use thresholding for the task of classification of each pixel.  \n",
    "Given a set of thresholds $\\mathcal{T} = \\left\\{ {T}_{1}, {T}_{2}, \\ldots, \\right\\}$ it partitions the image into $L = \\left| \\mathcal{T} \\right| + 1$ labels.\n",
    "\n",
    "The case of a single threshold is called _Binarization_.\n",
    "\n",
    "There are many approaches for calculating the threshold.  \n",
    "This notebook focuses on the binary case with Local threshold.\n",
    "\n",
    "* <font color='brown'>(**#**)</font> Binarization is one of the most common pre processes for _Optical Character Recognition_ (OCR).\n",
    "* <font color='brown'>(**#**)</font> Commonly the threshold is the result of optimizing the parameter of an objective.\n",
    "* <font color='brown'>(**#**)</font> The [Document Image Binarization](https://dib.cin.ufpe.br) and [DIBCO](https://users.iit.demokritos.gr/~bgat/DIBCO2009/benchmark) are common data sets for the task."
   ]
  },
  {
   "cell_type": "code",
   "execution_count": 6,
   "metadata": {},
   "outputs": [],
   "source": [
    "# Parameters\n",
    "\n",
    "# imgUrl = 'https://i.imgur.com/b8bBmtT.png' #<! From DIBCO data set\n",
    "imgUrl = 'https://i.postimg.cc/8PQCVSQK/148749752-88e0661f-4356-45f5-b1b1-bc34cd872164.png' #<! From DIBCO data set\n",
    "\n",
    "numBins = 200"
   ]
  },
  {
   "cell_type": "markdown",
   "metadata": {},
   "source": [
    "## Generate Data\n",
    "\n",
    "This section loads the image used to evaluate the results.  "
   ]
  },
  {
   "cell_type": "code",
   "execution_count": 7,
   "metadata": {},
   "outputs": [],
   "source": [
    "# Load / Generate Data\n",
    "\n",
    "mI = ski.io.imread(imgUrl)\n",
    "mI = ski.util.img_as_float64(mI)\n",
    "mI = np.mean(mI, axis = 2)\n"
   ]
  },
  {
   "cell_type": "code",
   "execution_count": null,
   "metadata": {},
   "outputs": [],
   "source": [
    "# Display the Data\n",
    "\n",
    "hF, hA = plt.subplots(figsize = (8, 6))\n",
    "hA.imshow(mI, cmap = 'gray')\n",
    "hA.set_title('Input Image');"
   ]
  },
  {
   "cell_type": "markdown",
   "metadata": {},
   "source": [
    "## Local Image Thresholding\n",
    "\n",
    "The approach of _Local Image Thresholding_ is applying a **different** threshold per pixel according to its neighborhood.    \n",
    "\n",
    "Commonly the _Threshold_ is calculated based on the statistics of the given set of pixels in the neighborhood.   \n",
    "The actual _thresholding_ is applied to the reference pixel of the neighborhood.\n",
    "\n",
    "* <font color='brown'>(**#**)</font> Any global method can be used locally on a given window of the image.\n",
    "* <font color='brown'>(**#**)</font> The local methods are commonly more complex.\n",
    "* <font color='brown'>(**#**)</font> Working on local pre defined windows means the method still can not handle local features / objects perfectly.\n"
   ]
  },
  {
   "cell_type": "markdown",
   "metadata": {},
   "source": [
    "### Local Adaptive Method\n",
    "\n",
    "This method uses a local statistics (Weighted Mean, Median, etc...) and a constant parameter to apply a local thresholding."
   ]
  },
  {
   "cell_type": "code",
   "execution_count": 9,
   "metadata": {},
   "outputs": [],
   "source": [
    "# Local Adaptive Thresholding\n",
    "\n",
    "#===========================Fill This===========================#\n",
    "# 1. Implement the Local Adaptive Thresholding Method as a function.\n",
    "# 2. The method calculates the local weighted mean using a Gaussian Window.  \n",
    "#    The actual threshold is the weighted mean + shift value.\n",
    "# 3. The input is an image and the radius of the local neighborhood.\n",
    "# !! Numba can be used.\n",
    "\n",
    "def LocalAdaptiveThreshold( mI: np.ndarray, localRadius: int, *, valShift: float = 0.0, σ: Optional[float] = None ) -> float:    \n",
    "    \"\"\"\n",
    "    Calculates the local threshold based on local adaptive thresholding.  \n",
    "    The threshold is based on the weighted mean (Gaussian) of the neighborhood.  \n",
    "    The threshold is given by `T(ii, jj) = weightedMean(ii, jj) + valShift`.\n",
    "    \n",
    "    Parameters:\n",
    "    -----------\n",
    "    mI : np.ndarray\n",
    "        A gray scale image in the range [0, 1].\n",
    "    localRadius : int\n",
    "        Defines the radius of the local neighborhood for the Gaussian Kernel.\n",
    "    valShift : float (Optional)\n",
    "        Defines the shift of the mean value to be used as the local threshold.\n",
    "    σ : float (Optional)\n",
    "        Defines the standard deviation of the Gaussian Kernel used for weighted mean.  \n",
    "        By default is set such that `np.ceil(3 * σ) == localRadius`.\n",
    "        \n",
    "    Returns:\n",
    "    --------\n",
    "    mT : np.ndarrary\n",
    "        The threshold map.\n",
    "\n",
    "    Remarks:\n",
    "    --------\n",
    "     - Uses `scipy.ndimage.gaussian_filter()` with `mode = 'nearest'` and explicit `radius`.\n",
    "    \"\"\"\n",
    "\n",
    "    # Set the default value for `σ` in case it is `None`\n",
    "    if σ is None:\n",
    "        σ = np.floor(localRadius / 3.0)\n",
    "    \n",
    "    mT  = sp.ndimage.gaussian_filter(mI, sigma = σ, mode = 'nearest', radius = localRadius) #<! Calculate the local weighted mean\n",
    "    mT += valShift #<! Calculate the local threshold\n",
    "\n",
    "    return mT\n",
    "\n",
    "#===============================================================#"
   ]
  },
  {
   "cell_type": "markdown",
   "metadata": {},
   "source": [
    "### Analysis of Different Methods\n",
    "\n",
    "The SciKit Image package offers few local methods:\n",
    "\n",
    " - [`skimage.filters.threshold_local()`](https://scikit-image.org/docs/stable/api/skimage.filters.html#skimage.filters.threshold_local) (A generalization of the above).\n",
    " - [`skimage.filters.threshold_niblack()`](https://scikit-image.org/docs/stable/api/skimage.filters.html#skimage.filters.threshold_niblack).\n",
    " - [`skimage.filters.threshold_sauvola()`](https://scikit-image.org/docs/stable/api/skimage.filters.html#skimage.filters.threshold_sauvola).\n",
    "\n",
    "This section runs them all and display the results."
   ]
  },
  {
   "cell_type": "code",
   "execution_count": 41,
   "metadata": {},
   "outputs": [],
   "source": [
    "# Settings\n",
    "\n",
    "# List of Tuples for each method.\n",
    "# The Tuple is the method name, the function and a dictionary of settings.\n",
    "lThrOp = [('Input Image', lambda mI, dParams: mI, {}),\n",
    "          ('Local (Ours)', lambda mI, dParams: mI <= LocalAdaptiveThreshold(mI, **dParams), {'localRadius': 4, 'valShift': -0.1}),\n",
    "          ('Local (SciKit Learn)', lambda mI, dParams: mI <= ski.filters.threshold_local(mI, **dParams), {'block_size': 5, 'method': 'median', 'offset': -0.05}),\n",
    "          ('Niblack', lambda mI, dParams: mI >= ski.filters.threshold_niblack(mI, **dParams), {'window_size': 11, 'k': 0.75}),\n",
    "          ('Sauvola', lambda mI, dParams: mI >= ski.filters.threshold_sauvola(mI, **dParams), {'window_size': 5, 'k': 0.15, 'r': 0.5}),\n",
    "          ]"
   ]
  },
  {
   "cell_type": "code",
   "execution_count": null,
   "metadata": {},
   "outputs": [],
   "source": [
    "# Display Results\n",
    "\n",
    "hF, vHA = plt.subplots(nrows = 2, ncols = 3, figsize = (12, 8))\n",
    "vHA = vHA.flat\n",
    "\n",
    "for ii, (tuThrOp, hA) in enumerate(zip(lThrOp, vHA)):\n",
    "    mT = tuThrOp[1](mI, tuThrOp[2])\n",
    "    hA.imshow(mT, cmap = 'gray')\n",
    "    hA.set_title(tuThrOp[0])"
   ]
  },
  {
   "cell_type": "markdown",
   "metadata": {},
   "source": [
    "* <font color='green'>(**@**)</font> Optimize the method parameters for this specific image."
   ]
  }
 ],
 "metadata": {
  "kernelspec": {
   "display_name": "Python 3",
   "language": "python",
   "name": "python3"
  },
  "language_info": {
   "codemirror_mode": {
    "name": "ipython",
    "version": 3
   },
   "file_extension": ".py",
   "mimetype": "text/x-python",
   "name": "python",
   "nbconvert_exporter": "python",
   "pygments_lexer": "ipython3",
   "version": "3.12.7"
  },
  "toc": {
   "base_numbering": 1,
   "nav_menu": {},
   "number_sections": false,
   "sideBar": true,
   "skip_h1_title": false,
   "title_cell": "Table of Contents",
   "title_sidebar": "Contents",
   "toc_cell": false,
   "toc_position": {},
   "toc_section_display": true,
   "toc_window_display": true
  },
  "varInspector": {
   "cols": {
    "lenName": 16,
    "lenType": 16,
    "lenVar": 40
   },
   "kernels_config": {
    "python": {
     "delete_cmd_postfix": "",
     "delete_cmd_prefix": "del ",
     "library": "var_list.py",
     "varRefreshCmd": "print(var_dic_list())"
    },
    "r": {
     "delete_cmd_postfix": ") ",
     "delete_cmd_prefix": "rm(",
     "library": "var_list.r",
     "varRefreshCmd": "cat(var_dic_list()) "
    }
   },
   "types_to_exclude": [
    "module",
    "function",
    "builtin_function_or_method",
    "instance",
    "_Feature"
   ],
   "window_display": false
  },
  "vscode": {
   "interpreter": {
    "hash": "39577bab1f263e62e0b74f5b8086bd735049bf4751f6562b2d4b2969dc308293"
   }
  }
 },
 "nbformat": 4,
 "nbformat_minor": 4
}
