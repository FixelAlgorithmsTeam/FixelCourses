{
 "cells": [
  {
   "attachments": {},
   "cell_type": "markdown",
   "metadata": {},
   "source": [
    "[![Fixel Algorithms](https://fixelalgorithms.co/images/CCExt.png)](https://fixelalgorithms.gitlab.io)\n",
    "\n",
    "# Image Processing with Python\n",
    "\n",
    "## Image Binarization by Optimization on Graphs\n",
    "\n",
    "> Notebook by:\n",
    "> - Royi Avital RoyiAvital@fixelalgorithms.com\n",
    "\n",
    "## Revision History\n",
    "\n",
    "| Version | Date       | User        |Content / Changes                                                   |\n",
    "|---------|------------|-------------|--------------------------------------------------------------------|\n",
    "| 0.1.000 | 03/10/2023 | Royi Avital | First version                                                      |"
   ]
  },
  {
   "attachments": {},
   "cell_type": "markdown",
   "metadata": {},
   "source": [
    "[![Open In Colab](https://colab.research.google.com/assets/colab-badge.svg)](https://colab.research.google.com/github/FixelAlgorithmsTeam/FixelCourses/blob/master/ImageProcessingPython/0002SciKitImageBasics.ipynb)"
   ]
  },
  {
   "cell_type": "code",
   "execution_count": 1,
   "metadata": {
    "ExecuteTime": {
     "end_time": "2022-02-02T09:30:06.492269Z",
     "start_time": "2022-02-02T09:30:06.220934Z"
    }
   },
   "outputs": [],
   "source": [
    "# Import Packages\n",
    "\n",
    "# General Tools\n",
    "import numpy as np\n",
    "import scipy as sp\n",
    "import pandas as pd\n",
    "\n",
    "from numba import jit, njit\n",
    "\n",
    "# Image Processing\n",
    "import skimage as ski\n",
    "\n",
    "# Machine Learning\n",
    "\n",
    "\n",
    "# Miscellaneous\n",
    "import os\n",
    "from platform import python_version\n",
    "import random\n",
    "import timeit\n",
    "\n",
    "# Typing\n",
    "from typing import Callable, List, Tuple\n",
    "\n",
    "# Visualization\n",
    "import matplotlib as mpl\n",
    "import matplotlib.pyplot as plt\n",
    "import seaborn as sns\n",
    "\n",
    "# Jupyter\n",
    "from IPython import get_ipython\n",
    "from IPython.display import Image, display\n",
    "from ipywidgets import Dropdown, FloatRangeSlider, FloatSlider, interact, IntSlider, Layout"
   ]
  },
  {
   "attachments": {},
   "cell_type": "markdown",
   "metadata": {},
   "source": [
    "## Notations\n",
    "\n",
    "* <font color='red'>(**?**)</font> Question to answer interactively.\n",
    "* <font color='blue'>(**!**)</font> Simple task to add code for the notebook.\n",
    "* <font color='green'>(**@**)</font> Optional / Extra self practice.\n",
    "* <font color='brown'>(**#**)</font> Note / Useful resource / Food for thought.\n",
    "\n",
    "### Code Exercise\n",
    "\n",
    " - Single line fill\n",
    "\n",
    "```python\n",
    "valToFill = ???\n",
    "```\n",
    "\n",
    " - Multi Line to Fill (At least one)\n",
    "\n",
    "```python\n",
    "# You need to start writing\n",
    "?????\n",
    "```\n",
    "\n",
    " - Section to Fill\n",
    "\n",
    "```python\n",
    "#===========================Fill This===========================#\n",
    "# 1. Explanation about what to do.\n",
    "# !! Remarks to follow / take under consideration.\n",
    "mX = ???\n",
    "\n",
    "?????\n",
    "#===============================================================#\n",
    "```"
   ]
  },
  {
   "cell_type": "code",
   "execution_count": 2,
   "metadata": {},
   "outputs": [],
   "source": [
    "# Configuration\n",
    "# %matplotlib inline\n",
    "\n",
    "seedNum = 512\n",
    "np.random.seed(seedNum)\n",
    "random.seed(seedNum)\n",
    "\n",
    "# sns.set_theme() #>! Apply SeaBorn theme\n",
    "\n",
    "runInGoogleColab = 'google.colab' in str(get_ipython())"
   ]
  },
  {
   "cell_type": "code",
   "execution_count": 3,
   "metadata": {},
   "outputs": [],
   "source": [
    "# Constants\n",
    "\n"
   ]
  },
  {
   "cell_type": "code",
   "execution_count": 4,
   "metadata": {},
   "outputs": [],
   "source": [
    "# Course Packages\n"
   ]
  },
  {
   "cell_type": "code",
   "execution_count": 5,
   "metadata": {},
   "outputs": [],
   "source": [
    "# Auxiliary Functions\n",
    "\n",
    "from AuxFun import ImageGradient\n",
    "\n"
   ]
  },
  {
   "attachments": {},
   "cell_type": "markdown",
   "metadata": {},
   "source": [
    "## Image Binarization\n",
    "\n",
    "The concept of Image Binarization is creating a binary image from a given (Usually _grayscale_) image.  \n",
    "The operation is common in Text Binarization as a pre processing for [Optical Character Recognition](https://en.wikipedia.org/wiki/Optical_character_recognition) (OCR).\n",
    "\n",
    "This notebook uses a Binary [Markov Random Field](https://en.wikipedia.org/wiki/Markov_random_field) (MRF) to build a graph.  \n",
    "The optimization problem is solved by a [Graph Cut](https://en.wikipedia.org/wiki/Graph_cuts_in_computer_vision): [_Min Cut_ / _Max Flow_](https://en.wikipedia.org/wiki/Max-flow_min-cut_theorem).\n",
    "\n",
    "* <font color='brown'>(**#**)</font> The algorithm borrows some ideas from [A Laplacian Energy for Document Binarization](https://ieeexplore.ieee.org/document/6065266).\n",
    "* <font color='brown'>(**#**)</font> An alternative approach to solve the problem using optimization is given by [Automatic Image Enhancement of Images of Scanned Documents (Auto Whitening)](https://dsp.stackexchange.com/questions/50329)."
   ]
  },
  {
   "cell_type": "markdown",
   "metadata": {},
   "source": [
    "### Binary MRF and Min Cut\n",
    "\n",
    "A binary MRF is given by:\n",
    "\n",
    "$$ \\Epsilon \\left( B \\right) = \\sum_{i, j} {L}_{i, j}^{0} + \\sum_{i, j} {L}_{i, j}^{1} + \\sum_{i, j} \\sum_{m, n \\in \\mathcal{N} \\left( i, j \\right)} C \\left( {B}_{i, j} , {B}_{m, n} \\right) $$\n",
    "\n",
    "Where\n",
    "\n",
    " - $B$ - Binary image where ${B}_{i, j} \\in \\left\\{ 0, 1 \\right\\}$.\n",
    " - ${L}_{i, j}^{0}$ - The cost of assigning the value $0$ to the pixel at $i, j$.\n",
    " - ${L}_{i, j}^{1}$ - The cost of assigning the value $1$ to the pixel at $i, j$.\n",
    " - $C \\left( {B}_{i, j} , {B}_{m, n} \\right)$ - The cost of pixels having same / different values from their neighborhood.\n",
    "\n",
    "In [V. Kolmogorov, R. Zabin - What Energy Functions Can Be Minimized via Graph Cuts](https://ieeexplore.ieee.org/document/1262177) defined the conditions for having a closed form solution to the above.  \n",
    "The condition is called _Sub Modularity_ which requires $C \\left( 0, 1 \\right) + C \\left( 1, 0 \\right) \\geq C \\left( 0, 0 \\right) + C \\left( 1, 1 \\right)$.\n",
    "\n",
    "The concept os solving such problem is by creating a graph with 2 additional nodes which stands for the label `0` and `1`:\n",
    "\n",
    "![](https://i.imgur.com/SoxBpBo.png)\n",
    "<!-- ![](https://i.postimg.cc/26JSTWyZ/image.png) -->\n",
    "\n",
    "The weights defined by the cost of having labels `0` / `1` and the inter connection between pixels as given by $C \\left( \\cdot , \\cdot \\right)$.  \n",
    "Given the graph, the Min Cut can be calculated and its solution is the minimizer of the MRF objective.\n",
    "\n",
    "\n",
    "* <font color='brown'>(**#**)</font> An efficient algorithm is given by [Y. Boykov, V. Kolmogorov - An Experimental Comparison of Min Cut / Max Flow Algorithms for Energy Minimization in Vision](https://ieeexplore.ieee.org/document/1316848).\n",
    "* <font color='brown'>(**#**)</font> Useful books on the subject:\n",
    "    - [Olivier Lezoray](https://lezoray.users.greyc.fr), Leo Grady - Image Processing and Analysis with Graphs.\n",
    "    - [Daphne Koller](https://ai.stanford.edu/~koller), Nir Friedman - Probabilistic Graphical Models."
   ]
  },
  {
   "cell_type": "code",
   "execution_count": 6,
   "metadata": {},
   "outputs": [],
   "source": [
    "# Parameters\n",
    "\n",
    "# imgUrl = 'https://i.imgur.com/0OVu3QL.jpeg' #<! Certificate of Arrival for Berta Werner\n",
    "imgUrl = 'https://i.postimg.cc/2S6SWmCJ/Sample003.jpg' #<! Certificate of Arrival for Berta Werner"
   ]
  },
  {
   "cell_type": "markdown",
   "metadata": {},
   "source": [
    "## Generate Data\n"
   ]
  },
  {
   "cell_type": "markdown",
   "metadata": {},
   "source": [
    "The input image is [Certificate of Arrival for Berta Werner](https://commons.wikimedia.org/wiki/File:Certificate_of_Arrival_for_Berta_Werner._-_NARA_-_282038.jpg)."
   ]
  },
  {
   "cell_type": "code",
   "execution_count": 7,
   "metadata": {},
   "outputs": [],
   "source": [
    "# Generate / Load the Data\n",
    "\n",
    "mI = ski.io.imread(imgUrl)\n"
   ]
  },
  {
   "cell_type": "code",
   "execution_count": null,
   "metadata": {},
   "outputs": [],
   "source": [
    "# Display Data\n",
    "\n",
    "hF, hA = plt.subplots(figsize = (8, 6))\n",
    "hA.imshow(mI, cmap = 'gray')\n",
    "hA.set_title('Certificate of Arrival for Berta Werner');"
   ]
  },
  {
   "cell_type": "markdown",
   "metadata": {},
   "source": [
    "## Analysis"
   ]
  },
  {
   "cell_type": "markdown",
   "metadata": {},
   "source": [
    "### Generate the MRF Matrices\n",
    "\n",
    "The MRF will be given as a function of the [Image Laplacian](https://en.wikipedia.org/wiki/Discrete_Laplace_operator):\n",
    "\n",
    " - ${L}_{i, j}^{0} = {\\nabla}^{2} {I}_{i, j}$\n",
    " - ${L}_{i, j}^{1} = -{\\nabla}^{2} {I}_{i, j}$\n",
    "\n",
    "This matches that valleys will have low cost to have `0` value.\n",
    "\n",
    "The function $C$ is given by:\n",
    "\n",
    "$$\n",
    "C \n",
    "$$"
   ]
  },
  {
   "cell_type": "code",
   "execution_count": 9,
   "metadata": {},
   "outputs": [],
   "source": [
    "# Image Laplacian \n",
    "\n",
    "#===========================Fill This===========================#\n",
    "# 1. Convert the image to `Float64` in [0, 1] range.\n",
    "# 2. Calculate the Laplace Operator.\n",
    "# !! You may find `ski.util.img_as_float64()` and `ski.filters.laplace()` useful.\n",
    "\n",
    "mI = ski.util.img_as_float64(mI) #<! Image in range [0, 1], as Float 64\n",
    "mL = ski.filters.laplace(mI) #<! Laplacian of the Image\n",
    "\n",
    "#===============================================================#"
   ]
  },
  {
   "cell_type": "code",
   "execution_count": null,
   "metadata": {},
   "outputs": [],
   "source": [
    "# Display Laplacian \n",
    "\n",
    "hF, hA = plt.subplots(figsize = (8, 6))\n",
    "hA.imshow(mL, cmap = 'gray', vmin = mL.min(), vmax = mL.max())\n",
    "hA.set_title('The Image Laplacian');\n"
   ]
  },
  {
   "cell_type": "code",
   "execution_count": 11,
   "metadata": {},
   "outputs": [],
   "source": [
    "# Image Gradient\n",
    "\n",
    "#===========================Fill This===========================#\n",
    "# 1. Calculate the image gradient vector.\n",
    "# !! You may find `ImageGradient()` useful.\n",
    "\n",
    "mIx, mIy = ImageGradient(mI) #<! Gradient Vector\n",
    "\n",
    "#===============================================================#"
   ]
  },
  {
   "cell_type": "code",
   "execution_count": null,
   "metadata": {},
   "outputs": [],
   "source": [
    "# Display Gradient \n",
    "\n",
    "hF, vHa = plt.subplots(nrows = 1, ncols = 2, figsize = (8, 6))\n",
    "\n",
    "hA = vHa.flat[0]\n",
    "hA.imshow(mIx, cmap = 'gray', vmin = mIx.min(), vmax = mIx.max())\n",
    "hA.set_title('The `x` Gradient');\n",
    "\n",
    "hA = vHa.flat[1]\n",
    "hA.imshow(mIy, cmap = 'gray', vmin = mIx.min(), vmax = mIx.max())\n",
    "hA.set_title('The `y` Gradient');"
   ]
  },
  {
   "cell_type": "code",
   "execution_count": 13,
   "metadata": {},
   "outputs": [],
   "source": [
    "# Image Edge Detection \n",
    "\n",
    "#===========================Fill This===========================#\n",
    "# 1. Extract binary images of the edges of the image.\n",
    "# !! You may find `ski.feature.canny()` useful.\n",
    "\n",
    "mE = ski.feature.canny(mI) #<! Edge Image\n",
    "\n",
    "#===============================================================#"
   ]
  },
  {
   "cell_type": "code",
   "execution_count": null,
   "metadata": {},
   "outputs": [],
   "source": [
    "# Display Edge \n",
    "\n",
    "hF, hA = plt.subplots(figsize = (8, 6))\n",
    "hA.imshow(mE, cmap = 'gray', vmin = mL.min(), vmax = mL.max())\n",
    "hA.set_title('The Edge Detector');"
   ]
  },
  {
   "cell_type": "code",
   "execution_count": null,
   "metadata": {},
   "outputs": [],
   "source": [
    "# \n",
    "\n",
    "mCH = ~((mE[:-1, :-1] & (mIy > 0)) | (mE[1:, :-1] & (mIy <= 0)))\n",
    "mCV = ~((mE[:-1, :-1] & (mIx > 0)) | (mE[:-1, 1:] & (mIx <= 0)))"
   ]
  }
 ],
 "metadata": {
  "kernelspec": {
   "display_name": "Python 3",
   "language": "python",
   "name": "python3"
  },
  "language_info": {
   "codemirror_mode": {
    "name": "ipython",
    "version": 3
   },
   "file_extension": ".py",
   "mimetype": "text/x-python",
   "name": "python",
   "nbconvert_exporter": "python",
   "pygments_lexer": "ipython3",
   "version": "3.12.7"
  },
  "toc": {
   "base_numbering": 1,
   "nav_menu": {},
   "number_sections": false,
   "sideBar": true,
   "skip_h1_title": false,
   "title_cell": "Table of Contents",
   "title_sidebar": "Contents",
   "toc_cell": false,
   "toc_position": {},
   "toc_section_display": true,
   "toc_window_display": true
  },
  "varInspector": {
   "cols": {
    "lenName": 16,
    "lenType": 16,
    "lenVar": 40
   },
   "kernels_config": {
    "python": {
     "delete_cmd_postfix": "",
     "delete_cmd_prefix": "del ",
     "library": "var_list.py",
     "varRefreshCmd": "print(var_dic_list())"
    },
    "r": {
     "delete_cmd_postfix": ") ",
     "delete_cmd_prefix": "rm(",
     "library": "var_list.r",
     "varRefreshCmd": "cat(var_dic_list()) "
    }
   },
   "types_to_exclude": [
    "module",
    "function",
    "builtin_function_or_method",
    "instance",
    "_Feature"
   ],
   "window_display": false
  },
  "vscode": {
   "interpreter": {
    "hash": "39577bab1f263e62e0b74f5b8086bd735049bf4751f6562b2d4b2969dc308293"
   }
  }
 },
 "nbformat": 4,
 "nbformat_minor": 4
}
