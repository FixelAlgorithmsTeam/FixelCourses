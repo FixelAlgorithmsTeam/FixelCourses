{
 "cells": [
  {
   "attachments": {},
   "cell_type": "markdown",
   "metadata": {},
   "source": [
    "[![Fixel Algorithms](https://fixelalgorithms.co/images/CCExt.png)](https://fixelalgorithms.gitlab.io/)\n",
    "\n",
    "# Image Processing with Python\n",
    "\n",
    "## NumPy Basics\n",
    "\n",
    "> Notebook by:\n",
    "> - Royi Avital RoyiAvital@fixelalgorithms.com\n",
    "\n",
    "## Revision History\n",
    "\n",
    "| Version | Date       | User        |Content / Changes                                                   |\n",
    "|---------|------------|-------------|--------------------------------------------------------------------|\n",
    "| 0.1.000 | 03/10/2023 | Royi Avital | First version                                                      |"
   ]
  },
  {
   "attachments": {},
   "cell_type": "markdown",
   "metadata": {},
   "source": [
    "[![Open In Colab](https://colab.research.google.com/assets/colab-badge.svg)](https://colab.research.google.com/github/FixelAlgorithmsTeam/FixelCourses/blob/master/ImageProcessingPython/0001NumPy.ipynb)"
   ]
  },
  {
   "cell_type": "code",
   "execution_count": null,
   "metadata": {
    "ExecuteTime": {
     "end_time": "2022-02-02T09:30:06.492269Z",
     "start_time": "2022-02-02T09:30:06.220934Z"
    }
   },
   "outputs": [],
   "source": [
    "# Import Packages\n",
    "\n",
    "# General Tools\n",
    "import numpy as np\n",
    "import scipy as sp\n",
    "import pandas as pd\n",
    "\n",
    "from numba import jit, njit\n",
    "\n",
    "# Image Processing\n",
    "\n",
    "# Machine Learning\n",
    "\n",
    "\n",
    "# Miscellaneous\n",
    "import os\n",
    "from platform import python_version\n",
    "import random\n",
    "import timeit\n",
    "\n",
    "# Typing\n",
    "from typing import Callable, List, Tuple\n",
    "\n",
    "# Visualization\n",
    "import matplotlib as mpl\n",
    "import matplotlib.pyplot as plt\n",
    "import seaborn as sns\n",
    "# from bokeh.plotting import figure, show\n",
    "\n",
    "# Jupyter\n",
    "from IPython import get_ipython\n",
    "from IPython.display import Image, display\n",
    "from ipywidgets import Dropdown, FloatSlider, interact, IntSlider, Layout"
   ]
  },
  {
   "attachments": {},
   "cell_type": "markdown",
   "metadata": {},
   "source": [
    "## Notations\n",
    "\n",
    "* <font color='red'>(**?**)</font> Question to answer interactively.\n",
    "* <font color='blue'>(**!**)</font> Simple task to add code for the notebook.\n",
    "* <font color='green'>(**@**)</font> Optional / Extra self practice.\n",
    "* <font color='brown'>(**#**)</font> Note / Useful resource / Food for thought.\n",
    "\n",
    "### Code Exercise\n",
    "\n",
    " - Single line fill\n",
    "\n",
    " ```python\n",
    " vallToFill = ???\n",
    " ```\n",
    "\n",
    " - Multi Line to Fill (At least one)\n",
    "\n",
    " ```python\n",
    " # You need to start writing\n",
    " ????\n",
    " ```\n",
    "\n",
    " - Section to Fill\n",
    "\n",
    "```python\n",
    "#===========================Fill This===========================#\n",
    "# 1. Explanation about what to do.\n",
    "# !! Remarks to follow / take under consideration.\n",
    "mX = ???\n",
    "\n",
    "???\n",
    "#===============================================================#\n",
    "```"
   ]
  },
  {
   "cell_type": "code",
   "execution_count": null,
   "metadata": {},
   "outputs": [],
   "source": [
    "# Configuration\n",
    "# %matplotlib inline\n",
    "\n",
    "seedNum = 512\n",
    "np.random.seed(seedNum)\n",
    "random.seed(seedNum)\n",
    "\n",
    "# sns.set_theme() #>! Apply SeaBorn theme\n",
    "\n",
    "runInGoogleColab = 'google.colab' in str(get_ipython())"
   ]
  },
  {
   "cell_type": "code",
   "execution_count": null,
   "metadata": {},
   "outputs": [],
   "source": [
    "# Constants\n",
    "\n"
   ]
  },
  {
   "cell_type": "code",
   "execution_count": null,
   "metadata": {},
   "outputs": [],
   "source": [
    "# Fixel Algorithms Packages\n"
   ]
  },
  {
   "cell_type": "code",
   "execution_count": null,
   "metadata": {},
   "outputs": [],
   "source": [
    "# General Auxiliary Functions\n",
    "\n",
    "def MatBlockView(mI: np.ndarray, tuBlockShape: Tuple[int, int] = (4, 4)) -> np.ndarray:\n",
    "    \"\"\"\n",
    "    Generates a view of block of shape `blockShape` of the input 2D NumPy array.\n",
    "    Input:\n",
    "      - mI           : Numpy 2D array.\n",
    "      - tuBlockShape : A tuple of the block shape.\n",
    "    Output:\n",
    "      - tBlockView   : Tensor of blocks on its 3rd axis.\n",
    "    Remarks:\n",
    "      - It assumed the shape of the input array `mI` is an integer multiplication\n",
    "        of the block size.\n",
    "      - No verification of compatibility of shapes is done.\n",
    "    \"\"\"\n",
    "    # Pay attention to integer division\n",
    "    # Tuple addition means concatenation of the Tuples\n",
    "    tuShape   = (mI.shape[0] // tuBlockShape[0], mI.shape[1] // tuBlockShape[1]) + tuBlockShape\n",
    "    tuStrides = (tuBlockShape[0] * mI.strides[0], tuBlockShape[1] * mI.strides[1]) + mI.strides\n",
    "    \n",
    "    return np.lib.stride_tricks.as_strided(mI, shape = tuShape, strides = tuStrides)"
   ]
  },
  {
   "attachments": {},
   "cell_type": "markdown",
   "metadata": {},
   "source": [
    "## NumPy Basics\n",
    "\n",
    "This _notebook_ exercises some NumPy concepts.  \n",
    "It is focused on some vectorization tricks and accelerating some operations.\n",
    "\n",
    "* <font color='brown'>(**#**)</font> For performance measurement the package [`timeit`](https://docs.python.org/3/library/timeit.html) or the `%timeit` magic will be used.\n",
    "* <font color='brown'>(**#**)</font> For visualization the package [Matplotlib](https://github.com/matplotlib/matplotlib) will be used.\n",
    "* <font color='brown'>(**#**)</font> For acceleration the package [Numba](https://github.com/numba/numba) will be used."
   ]
  },
  {
   "cell_type": "markdown",
   "metadata": {},
   "source": [
    "### Array Generation\n",
    "\n",
    "This section exercises several ways to generate / initialize NumPy arrays.\n",
    "\n",
    "* <font color='brown'>(**#**)</font> Relevant NumPy functions are: [`zeros()`](https://numpy.org/doc/stable/reference/generated/numpy.zeros.html), [`ones()`](https://numpy.org/doc/stable/reference/generated/numpy.ones.html), [`full()`](https://numpy.org/doc/stable/reference/generated/numpy.full.html), [`empty()`](https://numpy.org/doc/stable/reference/generated/numpy.empty.html).\n",
    "* <font color='brown'>(**#**)</font> Pay attention to the element type (`dtype`)."
   ]
  },
  {
   "cell_type": "code",
   "execution_count": null,
   "metadata": {},
   "outputs": [],
   "source": [
    "# Parameters\n",
    "\n",
    "numRows, numCols = 300, 500\n",
    "numIter = 100"
   ]
  },
  {
   "cell_type": "code",
   "execution_count": null,
   "metadata": {},
   "outputs": [],
   "source": [
    "#===========================Fill This===========================#\n",
    "# 1. Compare the runtime of allocating an array using `ones()` vs. `empty()`.\n",
    "# 2. Use the `timeit` package to compare run time.\n",
    "# !! Read documentation about `globals` in `timeit()`.\n",
    "\n",
    "timeOnes  = ???\n",
    "timeEmpty = ???\n",
    "\n",
    "if timeOnes < timeEmpty:\n",
    "    print(f'Generating array of ones is {timeEmpty / timeOnes} times faster!')\n",
    "else:\n",
    "    print(f'Generating empty array is {timeOnes / timeEmpty} times faster!')\n",
    "\n",
    "#===============================================================#\n"
   ]
  },
  {
   "cell_type": "markdown",
   "metadata": {},
   "source": [
    "Another way to time functions / code snippets is using the `%timeit` magic of `Jupyter`.  \n",
    "This section compares generating array of zeros with `full()` and `zeros()`.\n",
    "\n",
    "* <font color='brown'>(**#**)</font> Using `full` is effective way to initialize an array with `NaN`."
   ]
  },
  {
   "cell_type": "code",
   "execution_count": null,
   "metadata": {},
   "outputs": [],
   "source": [
    "%timeit np.zeros(shape = (numRows, numCols))\n",
    "%timeit np.full(shape = (numRows, numCols), fill_value = 0.0)"
   ]
  },
  {
   "cell_type": "markdown",
   "metadata": {},
   "source": [
    "NumPy has advanced pseudo random number generators.  \n",
    "This section compares performance using the newer generator interface to the classic generator."
   ]
  },
  {
   "cell_type": "code",
   "execution_count": null,
   "metadata": {},
   "outputs": [],
   "source": [
    "#===========================Fill This===========================#\n",
    "# 1. Generate 100 integer numbers from {0, 1, ..., 999} without replacement:\n",
    "#    - Using `np.random.choice()`.\n",
    "#    - Using the generator API (Done).\n",
    "# !! Use the `%timeit` magic.\n",
    "\n",
    "?????\n",
    "\n",
    "#===============================================================#"
   ]
  },
  {
   "cell_type": "markdown",
   "metadata": {},
   "source": [
    "### Broadcasting\n",
    "\n",
    "Broadcasting is a powerful concept which allows using vectorization in a broader scenarios.\n",
    "This sections shows broadcasting in several scenarios.\n",
    "\n",
    "To grasp the concept one may refer to [Lev Maximov - Broadcasting in NumPy](https://towardsdatascience.com/58856f926d73)\n",
    "\n",
    "![](https://i.imgur.com/zxoQhX3.png)\n",
    "\n",
    "In order for Broadcasting to _kick in_ the dimensions of the arrays must match.  \n",
    "In order to achieve this, 2 simple rules are applied:\n",
    "\n",
    "1. If the two arrays differ in their number of dimensions, the shape of the one with fewer dimensions is padded with ones on its **leading** (left) side.\n",
    "2. If the shape of the two arrays does not match in any dimension, if one of the arrays has shape equal to 1 in that dimension is stretched to match the other shape.\n",
    "\n",
    "Arrays must match in their dimensions after this 2 rules are applied.  \n",
    "In case they don't, an error is raised."
   ]
  },
  {
   "cell_type": "markdown",
   "metadata": {},
   "source": [
    "The following task deals with broadcasting a vector over rows / columns of a matrix."
   ]
  },
  {
   "cell_type": "code",
   "execution_count": null,
   "metadata": {},
   "outputs": [],
   "source": [
    "#===========================Fill This===========================#\n",
    "# 1. Generate a matrix of size (2, 3).\n",
    "# 2. Generate a vector of size (2, ).\n",
    "# 3. Add the vector to each row of the matrix.\n",
    "# 4. Add the vector to each column of the matrix.\n",
    "# !! For simplicity, use elements of an integer values.\n",
    "# !! Using `vA[:, None]` generates new axis which is useful for broadcasting\n",
    "\n",
    "mA = ??? #<! The array\n",
    "vR = ??? #<! To be added to rows\n",
    "vC = ??? #<! To be added to columns\n",
    "\n",
    "# Rows Broadcasting\n",
    "mR = ???\n",
    "print(f'Result of broadcasting rows: \\n{mR}')\n",
    "\n",
    "# Columns Broadcasting\n",
    "mC = ???\n",
    "print(f'Result of broadcasting rows: \\n{mC}')\n",
    "\n",
    "#===============================================================#"
   ]
  },
  {
   "cell_type": "markdown",
   "metadata": {},
   "source": [
    "The following task deals with broadcasting a matrix multiplications."
   ]
  },
  {
   "cell_type": "code",
   "execution_count": null,
   "metadata": {},
   "outputs": [],
   "source": [
    "# This sections:\n",
    "# 1. Generates tensor (Matrices of same size).\n",
    "# 2. Generate a matrix which is compatible in size for matrix multiplications.\n",
    "# 3. Multiplies each matrix of the tensor by the matrix.\n",
    "tA = np.random.randn(3, 5, 4)\n",
    "mB = np.random.randn(4, 3)\n",
    "\n",
    "tC = np.empty(shape = (tA.shape[0], tA.shape[1], mB.shape[1]))\n",
    "\n",
    "for ii in range(tA.shape[0]):\n",
    "    tC[ii] = tA[ii] @ mB"
   ]
  },
  {
   "cell_type": "code",
   "execution_count": null,
   "metadata": {},
   "outputs": [],
   "source": [
    "#===========================Fill This===========================#\n",
    "# 1. Replicate the above using broadcasting.\n",
    "# !! No loops should be used.\n",
    "# !! You may read on `np.matmul()`.\n",
    "\n",
    "tD = ??? #<! Broadcasting\n",
    "\n",
    "#===============================================================#\n",
    "\n",
    "# Verify\n",
    "print(f'Result is valid: {np.allclose(tC, tD)}')"
   ]
  },
  {
   "cell_type": "markdown",
   "metadata": {},
   "source": [
    "* <font color='red'>(**?**)</font> Could we do the broadcasting if `tA = np.random.randn(5, 4, 3)`? Namely the matrices were on the 3rd axis?\n",
    "\n",
    "<!-- First, the broadcasting adds (1) add the beginning of the array. Second `matmul` seeks elements to be matrices, so `tA[0]` should be a matrix. -->"
   ]
  },
  {
   "cell_type": "markdown",
   "metadata": {},
   "source": [
    "### Loops\n",
    "\n",
    "Python, currently without `JIT`, is very slow in general and specifically applying operations based on loops.  \n",
    "When dealing with loops for `ndarray` one should stick to the following:\n",
    "\n",
    "1. Use vectorized operations.  \n",
    "   Vectorized operations trades memory efficiency for speed.\n",
    "2. NumPy is _row major_   \n",
    "   Data is row contiguous.  \n",
    "   Applying operations on rows will be faster than working on columns.\n",
    "3. Use NumPy's built in iterators.  \n",
    "   There are few tools such as: `numpy.nditer`, `numpy.lib.stride_tricks.as_strided`, `numpy.lib.stride_tricks.sliding_window_view`.\n",
    "4. Use _Numba_  \n",
    "   Numba add JIT acceleration to work on NumPy arrays.\n",
    "\n",
    "\n",
    "This section exercise the ideas above in a simple scenario:\n",
    "\n",
    "1. A symmetric matrix `mA` is given with shape `(1000, 1000)`.\n",
    "2. For each 10x10 sub block (Non sliding) the mean will be evaluated.\n",
    "3. The output should be a `100x100` array.\n",
    "\n",
    "* <font color='brown'>(**#**)</font> We'll use the `%%timeit` magic to time the whole cell."
   ]
  },
  {
   "cell_type": "code",
   "execution_count": null,
   "metadata": {},
   "outputs": [],
   "source": [
    "# Generating Data\n",
    "tuMatShape   = (1000, 1000)\n",
    "tuBlockShape = (10, 10)\n",
    "tuOutShape   = (100, 100)\n",
    "mA = np.random.rand(*tuMatShape)\n",
    "\n",
    "# Since `%%timeit` doesn't expose its own generated variables\n",
    "mORef      = np.zeros(shape = tuOutShape)\n",
    "mOIterCol  = np.zeros(shape = tuOutShape)\n",
    "mOMatBlock = np.zeros(shape = tuOutShape)\n",
    "mONumba    = np.zeros(shape = tuOutShape)\n"
   ]
  },
  {
   "cell_type": "code",
   "execution_count": null,
   "metadata": {},
   "outputs": [],
   "source": [
    "%%timeit\n",
    "# Reference Implementation\n",
    "# Working along columns\n",
    "\n",
    "for nn, jj in enumerate(range(0, tuMatShape[1], tuBlockShape[1])):\n",
    "    for mm, ii in enumerate(range(0, tuMatShape[0], tuBlockShape[0])):\n",
    "        mORef[mm, nn] = np.mean(mA[ii:(ii + tuBlockShape[0]), jj:(jj + tuBlockShape[1])])"
   ]
  },
  {
   "cell_type": "code",
   "execution_count": null,
   "metadata": {},
   "outputs": [],
   "source": [
    "%%timeit\n",
    "#===========================Fill This===========================#\n",
    "# 1. Apply the function using plain loop.\n",
    "# 2. Iterate on rows instead of columns.\n",
    "# !! Use `mOIterCol` for the result.\n",
    "\n",
    "????\n",
    "\n",
    "#===============================================================#"
   ]
  },
  {
   "cell_type": "markdown",
   "metadata": {},
   "source": [
    "* <font color='red'>(**?**)</font> Do the timings of iterating over rows vs. columns match your expectations? Why?"
   ]
  },
  {
   "cell_type": "code",
   "execution_count": null,
   "metadata": {},
   "outputs": [],
   "source": [
    "%%timeit\n",
    "#===========================Fill This===========================#\n",
    "# 1. Apply the function using the above implemented `MatBlockView()`.\n",
    "# 2. Read and understand the function `MatBlockView()`.\n",
    "# !! You may use `np.mean(... axis = ())`.\n",
    "# !! Use `mOMatBlock` for the result.\n",
    "# !! You may need to use `mOMatBlock[:]`. Why?\n",
    "\n",
    "????\n",
    "\n",
    "#===============================================================#"
   ]
  },
  {
   "cell_type": "markdown",
   "metadata": {},
   "source": [
    "The following implementation used Numba for acceleration:\n",
    "\n",
    "1. Read the [5 Minutes Guide with Numba](https://numba.pydata.org/numba-doc/dev/user/5minguide.html).\n",
    "2. A function must be used for Numba.\n",
    "\n",
    "* <font color='brown'>(**#**)</font> Pay attention that `jit` and `njit` are already imported."
   ]
  },
  {
   "cell_type": "code",
   "execution_count": null,
   "metadata": {},
   "outputs": [],
   "source": [
    "#===========================Fill This===========================#\n",
    "# 1. Apply the function using loops inside a function.\n",
    "# 2. The function is accelerated by Numba's jit.\n",
    "# !! Make sure not to use any global variables.\n",
    "\n",
    "@njit\n",
    "def CalcBlockMean(mA: np.ndarray, tuBlockShape: Tuple[int, int], mO: np.ndarray):\n",
    "    \"\"\"\n",
    "    Calculates the mean of each block sized `tuBlockShape` in `mA`.  \n",
    "    The block are not overlapping.\n",
    "    Input:\n",
    "      - mA           : Numpy 2D array.\n",
    "      - tuBlockShape : A tuple of the block shape.\n",
    "      - mO           : Numpy 2D array to be updated in place.\n",
    "    Remarks:\n",
    "      - The following must hold (Per element) mA.shape / tuBlockShape = mO.shape.\n",
    "    \"\"\"\n",
    "    \n",
    "    ????\n",
    "\n",
    "#===============================================================#\n",
    "\n",
    "CalcBlockMean(mA, tuBlockShape, mONumba) #<! For the first run of the JIT compilation"
   ]
  },
  {
   "cell_type": "code",
   "execution_count": null,
   "metadata": {},
   "outputs": [],
   "source": [
    "%%timeit\n",
    "# Using Numba for acceleration\n",
    "CalcBlockMean(mA, tuBlockShape, mONumba)"
   ]
  },
  {
   "cell_type": "code",
   "execution_count": null,
   "metadata": {},
   "outputs": [],
   "source": [
    "# Verify results of each method\n",
    "print(f'The iteration over columns is valid: {np.allclose(mORef, mOIterCol)}')\n",
    "print(f'The matrix block view is valid: {np.allclose(mORef, mOMatBlock)}')\n",
    "print(f'The Numba is valid: {np.allclose(mORef, mONumba)}')"
   ]
  }
 ],
 "metadata": {
  "kernelspec": {
   "display_name": "Python 3",
   "language": "python",
   "name": "python3"
  },
  "language_info": {
   "codemirror_mode": {
    "name": "ipython",
    "version": 3
   },
   "file_extension": ".py",
   "mimetype": "text/x-python",
   "name": "python",
   "nbconvert_exporter": "python",
   "pygments_lexer": "ipython3",
   "version": "3.11.5"
  },
  "toc": {
   "base_numbering": 1,
   "nav_menu": {},
   "number_sections": false,
   "sideBar": true,
   "skip_h1_title": false,
   "title_cell": "Table of Contents",
   "title_sidebar": "Contents",
   "toc_cell": false,
   "toc_position": {},
   "toc_section_display": true,
   "toc_window_display": true
  },
  "varInspector": {
   "cols": {
    "lenName": 16,
    "lenType": 16,
    "lenVar": 40
   },
   "kernels_config": {
    "python": {
     "delete_cmd_postfix": "",
     "delete_cmd_prefix": "del ",
     "library": "var_list.py",
     "varRefreshCmd": "print(var_dic_list())"
    },
    "r": {
     "delete_cmd_postfix": ") ",
     "delete_cmd_prefix": "rm(",
     "library": "var_list.r",
     "varRefreshCmd": "cat(var_dic_list()) "
    }
   },
   "types_to_exclude": [
    "module",
    "function",
    "builtin_function_or_method",
    "instance",
    "_Feature"
   ],
   "window_display": false
  },
  "vscode": {
   "interpreter": {
    "hash": "39577bab1f263e62e0b74f5b8086bd735049bf4751f6562b2d4b2969dc308293"
   }
  }
 },
 "nbformat": 4,
 "nbformat_minor": 4
}
