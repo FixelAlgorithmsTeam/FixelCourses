{
 "cells": [
  {
   "attachments": {},
   "cell_type": "markdown",
   "metadata": {},
   "source": [
    "[![Fixel Algorithms](https://fixelalgorithms.co/images/CCExt.png)](https://fixelalgorithms.gitlab.io/)\n",
    "\n",
    "# Image Processing with Python\n",
    "\n",
    "## Gaussian Blur\n",
    "\n",
    "> Notebook by:\n",
    "> - Royi Avital RoyiAvital@fixelalgorithms.com\n",
    "\n",
    "## Revision History\n",
    "\n",
    "| Version | Date       | User        |Content / Changes                                                   |\n",
    "|---------|------------|-------------|--------------------------------------------------------------------|\n",
    "| 0.1.000 | 01/11/2024 | Royi Avital | First version                                                      |"
   ]
  },
  {
   "attachments": {},
   "cell_type": "markdown",
   "metadata": {},
   "source": [
    "[![Open In Colab](https://colab.research.google.com/assets/colab-badge.svg)](https://colab.research.google.com/github/FixelAlgorithmsTeam/FixelCourses/blob/master/ImageProcessingPython/0002SciKitImageBasics.ipynb)"
   ]
  },
  {
   "cell_type": "code",
   "execution_count": null,
   "metadata": {
    "ExecuteTime": {
     "end_time": "2022-02-02T09:30:06.492269Z",
     "start_time": "2022-02-02T09:30:06.220934Z"
    }
   },
   "outputs": [],
   "source": [
    "# Import Packages\n",
    "\n",
    "# General Tools\n",
    "import numpy as np\n",
    "import scipy as sp\n",
    "import pandas as pd\n",
    "\n",
    "from numba import jit, njit\n",
    "\n",
    "# Image Processing\n",
    "import skimage as ski\n",
    "\n",
    "# Machine Learning\n",
    "\n",
    "\n",
    "# Miscellaneous\n",
    "import math\n",
    "import os\n",
    "from platform import python_version\n",
    "import random\n",
    "import timeit\n",
    "\n",
    "# Typing\n",
    "from typing import Callable, List, Optional, Tuple\n",
    "\n",
    "# Visualization\n",
    "import matplotlib as mpl\n",
    "import matplotlib.pyplot as plt\n",
    "import seaborn as sns\n",
    "\n",
    "# Jupyter\n",
    "from IPython import get_ipython\n",
    "from IPython.display import Image, display\n",
    "from ipywidgets import Dropdown, FloatRangeSlider, FloatSlider, interact, IntSlider, Layout"
   ]
  },
  {
   "attachments": {},
   "cell_type": "markdown",
   "metadata": {},
   "source": [
    "## Notations\n",
    "\n",
    "* <font color='red'>(**?**)</font> Question to answer interactively.\n",
    "* <font color='blue'>(**!**)</font> Simple task to add code for the notebook.\n",
    "* <font color='green'>(**@**)</font> Optional / Extra self practice.\n",
    "* <font color='brown'>(**#**)</font> Note / Useful resource / Food for thought.\n",
    "\n",
    "### Code Exercise\n",
    "\n",
    " - Single line fill\n",
    "\n",
    " ```python\n",
    " vallToFill = ???\n",
    " ```\n",
    "\n",
    " - Multi Line to Fill (At least one)\n",
    "\n",
    " ```python\n",
    " # You need to start writing\n",
    " ????\n",
    " ```\n",
    "\n",
    " - Section to Fill\n",
    "\n",
    "```python\n",
    "#===========================Fill This===========================#\n",
    "# 1. Explanation about what to do.\n",
    "# !! Remarks to follow / take under consideration.\n",
    "mX = ???\n",
    "\n",
    "???\n",
    "#===============================================================#\n",
    "```"
   ]
  },
  {
   "cell_type": "code",
   "execution_count": null,
   "metadata": {},
   "outputs": [],
   "source": [
    "# Configuration\n",
    "# %matplotlib inline\n",
    "\n",
    "seedNum = 512\n",
    "np.random.seed(seedNum)\n",
    "random.seed(seedNum)\n",
    "\n",
    "# sns.set_theme() #>! Apply SeaBorn theme\n",
    "\n",
    "runInGoogleColab = 'google.colab' in str(get_ipython())"
   ]
  },
  {
   "cell_type": "code",
   "execution_count": null,
   "metadata": {},
   "outputs": [],
   "source": [
    "# Constants\n",
    "\n"
   ]
  },
  {
   "cell_type": "code",
   "execution_count": null,
   "metadata": {},
   "outputs": [],
   "source": [
    "# Fixel Algorithms Packages\n"
   ]
  },
  {
   "cell_type": "code",
   "execution_count": null,
   "metadata": {},
   "outputs": [],
   "source": [
    "mX = np.random.rand(10)\n",
    "np.ndim(mX)"
   ]
  },
  {
   "cell_type": "code",
   "execution_count": null,
   "metadata": {},
   "outputs": [],
   "source": [
    "# General Auxiliary Functions\n",
    "\n",
    "def PlotDft(mX: np.ndarray, \n",
    "            samplingFreq: float,                #<! Frequency [Hz]\n",
    "            /, *, \n",
    "            applyDft: bool = True,\n",
    "            numFreqBins: Optional[int] = None,\n",
    "            singleSide: bool = True, \n",
    "            logScale: bool = True, \n",
    "            normalizeData: bool = False, \n",
    "            removeDc: bool = False,\n",
    "            plotTitle: str = 'DFT',\n",
    "            hA: Optional[plt.Axes] = None,\n",
    "            ) -> plt.Axes:\n",
    "\n",
    "    numDims = np.ndim(mX)\n",
    "    if ((numDims > 2) or (numDims < 1)):\n",
    "        raise ValueError('The input array must be a vector or a matrix')\n",
    "    \n",
    "    mXX = np.atleast_2d(mX)\n",
    "    \n",
    "    if np.iscomplexobj(mXX):\n",
    "        singleSide = False\n",
    "    \n",
    "    if singleSide:\n",
    "        fftFun     = np.fft.rfft\n",
    "        fftFreqFun = np.fft.rfftfreq\n",
    "    else:\n",
    "        fftFun     = np.fft.fft\n",
    "        fftFreqFun = np.fft.fftfreq\n",
    "    \n",
    "    numFreqBins = np.size(mXX, 1) if numFreqBins is None else numFreqBins\n",
    "    \n",
    "    vFftFreq = fftFreqFun(numFreqBins, 1 / samplingFreq)\n",
    "\n",
    "    if applyDft:\n",
    "        mK = np.abs(fftFun(mXX, numFreqBins, axis = 1))\n",
    "    else:\n",
    "        mK = np.abs(np.copy(mXX))\n",
    "    \n",
    "    yLabel = 'Amplitude'\n",
    "    \n",
    "    if logScale:\n",
    "        mK = np.log1p(mK)\n",
    "        yLabel = 'Amplitude [Log Scale]'\n",
    "    \n",
    "    if normalizeData:\n",
    "        mK /= np.max(mK, axis = 1)[:, None]\n",
    "    \n",
    "    if removeDc:\n",
    "        mK -= np.mean(mK, axis = 1)[:, None]\n",
    "\n",
    "    hF, hA = plt.subplots(figsize = (10, 5))\n",
    "\n",
    "    for ii, vK in enumerate(mK):\n",
    "        hA.plot(vFftFreq, vK, linewidth = 2, label = f'Signal {(ii + 1):03d}')\n",
    "    \n",
    "    hA.set_title(plotTitle)\n",
    "    hA.set_xlabel('Frequency [Hz]')\n",
    "    hA.set_ylabel(yLabel)\n",
    "    hA.legend()\n",
    "\n",
    "    return hA\n",
    "\n"
   ]
  },
  {
   "attachments": {},
   "cell_type": "markdown",
   "metadata": {},
   "source": [
    "## The Discrete Fourier Transform (DFT)\n",
    "\n",
    "The DFT, in the context of Linear Algebra, is basically a [change of basis](https://en.wikipedia.org/wiki/Change_of_basis).  \n",
    "The DFT basis is composed by Harmonic signals.  \n",
    "The basis allows analysis of data using an important concept, the Frequency.  \n",
    "\n",
    "![](https://i.imgur.com/Qqlbz3R.png)\n",
    "\n",
    "The DFT allows analyzing the spectrum of a signal:\n",
    "\n",
    "1. The energy of a specific harmonic component.\n",
    "2. The _Bandwidth_ of the signal (The support).\n",
    "\n",
    "* <font color='brown'>(**#**)</font> The DFT can be derived as a Uniform Sampling of the [DTFT](https://en.wikipedia.org/wiki/Discrete-time_Fourier_transform).\n",
    "* <font color='brown'>(**#**)</font> The [Nyquist Shannon Sampling Theorem](https://en.wikipedia.org/wiki/Nyquist%E2%80%93Shannon_sampling_theorem) is closely related to the Fourier Transform."
   ]
  },
  {
   "cell_type": "code",
   "execution_count": null,
   "metadata": {},
   "outputs": [],
   "source": [
    "# Parameters\n",
    "\n",
    "numSamples = 100"
   ]
  },
  {
   "cell_type": "markdown",
   "metadata": {},
   "source": [
    "## Generate Data\n",
    "\n",
    "This section loads the image used to evaluate the results.  "
   ]
  },
  {
   "cell_type": "code",
   "execution_count": null,
   "metadata": {},
   "outputs": [],
   "source": [
    "# Load / Generate Data\n",
    "\n",
    "mX = np.random.randn(2, numSamples)"
   ]
  },
  {
   "cell_type": "code",
   "execution_count": null,
   "metadata": {},
   "outputs": [],
   "source": [
    "# Display the Data\n",
    "\n",
    "# hF, hA = plt.subplots(figsize = (8, 6))\n",
    "# hA.imshow(mI, cmap = 'gray')\n",
    "# hA.set_title(f'Input Image');\n",
    "\n",
    "PlotDft(mX, 10);"
   ]
  },
  {
   "cell_type": "markdown",
   "metadata": {},
   "source": [
    "## Gaussian Blur\n",
    "\n",
    "Gaussian Blur is the most common filter in Image Processing.  \n",
    "It is a superior LPF filter compared to the _Box Blur_ as its roll off is smoother and monotonic.  \n",
    "It balances well between the quality of th output and computational burden.\n",
    "\n",
    "![](https://i.imgur.com/lPusP2a.png)\n",
    "<!-- ![](https://i.postimg.cc/YSgpVT9h/Gaussian-Blur.png) -->\n",
    "\n",
    "There are many approaches to the implementation of the _Gaussian Blur_.  \n",
    "Some of the more popular approaches are:\n",
    "\n",
    " - FIR Filter  \n",
    "   The most naive implantation by creating a truncated support for the infinite Gaussian Kernel.  \n",
    "   The complexity of this implantation, taking the advantage of the separability of the kernel, depends on its support length.  \n",
    "   The quality gets better as the ratio between the support and the standard deviation ($\\sigma$) gets larger.\n",
    " - IIR Filter  \n",
    "   Approximating the FIR using an IIR filter. It makes teh implementation complexity independent of $\\sigma$.\n",
    " - Approximation by Box Blur  \n",
    "   Employing the [Central Limit Theorem](https://en.wikipedia.org/wiki/Central_limit_theorem) one could approximate the Gaussian Kernel by a repetitive application of the Box Blur.  \n",
    "   Since there are implementations of the Box Blur which are independent of its support it allows such implementation for the Gaussian Filter as well.\n",
    "\n",
    "This notebook demonstrates the connection between the support of the FIR implementation to the error.\n",
    "\n",
    "* <font color='brown'>(**#**)</font> In depth analysis of methods to implement the Gaussian Blur is given in [Pascal Getreuer - A Survey of Gaussian Convolution Algorithms](https://www.ipol.im/pub/art/2013/87).\n",
    "* <font color='brown'>(**#**)</font> The _Gaussian Kernel_ is used for generating other kernels as well: Derivative Kernels, Laplacian Kernels, etc...\n",
    "* <font color='brown'>(**#**)</font> For Box Filter like implementation see [Efficient and Accurate Gaussian Image Filtering Using Running Sums](https://ieeexplore.ieee.org/document/6416657)."
   ]
  },
  {
   "cell_type": "code",
   "execution_count": null,
   "metadata": {},
   "outputs": [],
   "source": [
    "# Interactive Visualization - Plot the Gaussian Kernel\n",
    "\n",
    "hDispKernel = lambda σ: PlotGaussianKernel(σ, kernelRadiusVis)\n",
    "\n",
    "σSlider = FloatSlider(min = 0.1, max = 7, step = 0.1, value = 2.0, layout = Layout(width = '30%'))\n",
    "interact(hDispKernel, σ = σSlider);\n",
    "\n",
    "plt.show();"
   ]
  },
  {
   "cell_type": "markdown",
   "metadata": {},
   "source": [
    "### Error of the FIR Estimation\n",
    "\n",
    "It can be shown that the Error of the FIR approximation of radius $r$ is given by:\n",
    "\n",
    "$$ {\\left\\| \\boldsymbol{k} - \\boldsymbol{k}_{FIR} \\right\\|}_{1} \\leq 2 \\operatorname{erfc} \\left( \\frac{r}{ \\sqrt{2 {\\sigma}^{2}} } \\right) $$\n",
    "\n",
    "Where $\\operatorname{erfc} \\left( x \\right) = 1 - \\operatorname{erf} \\left( x \\right)$.\n",
    "\n",
    "Which implies that given error tolerance $\\epsilon$ the radius can be set:\n",
    "\n",
    "$$ r = \\lceil \\sqrt{2} \\operatorname{erfc}^{-1} \\left( \\frac{\\epsilon}{2} \\right) \\sigma \\rceil $$\n",
    "\n",
    "For a given image the error is given by $\\epsilon {\\left\\| \\operatorname{Vec} \\left( I \\right) \\right\\|}_{\\infty}$.\n",
    "\n",
    "\n"
   ]
  },
  {
   "cell_type": "code",
   "execution_count": null,
   "metadata": {},
   "outputs": [],
   "source": [
    "# Error Optimized Gaussian Blur\n",
    "\n",
    "#===========================Fill This===========================#\n",
    "# 1. Implement the required Radius given an error tolerance as a function.\n",
    "# 2. The function parameters are `σ`, `ε`.\n",
    "# 3. Given the error bound the function calculates the support size `kernelRadius`.\n",
    "# !! You may find `scipy.special.erfcinv()` useful.\n",
    "#===============================================================#\n",
    "\n",
    "def CalcGaussianKernelRadius( σ: float, ε: float = 1e-5 ) -> int:\n",
    "\n",
    "    kernelRadius = math.ceil(math.sqrt(2) * sp.special.erfcinv(ε / 2) * σ)\n",
    "\n",
    "    return kernelRadius"
   ]
  },
  {
   "cell_type": "markdown",
   "metadata": {},
   "source": [
    "* <font color='green'>(**@**)</font> Given the function `scipy.special.erf()` implement its inverse using optimization o root finding function."
   ]
  },
  {
   "cell_type": "code",
   "execution_count": null,
   "metadata": {},
   "outputs": [],
   "source": [
    "# Display the Radius per Sigma and Error\n",
    "\n",
    "vσ = np.linspace(0.1, 10, 1000)\n",
    "vε = [1e-2, 1e-3, 1e-4, 1e-5, 1e-6]\n",
    "\n",
    "hF, hA = plt.subplots(figsize = (7, 5))\n",
    "for ε in vε:\n",
    "    hA.plot(vσ, [CalcGaussianKernelRadius(σ, ε) for σ in vσ], lw = 2, label = f'ε = {ε}')\n",
    "\n",
    "hA.set_xlabel('σ')\n",
    "hA.set_ylabel('Kernel Radius')\n",
    "hA.set_title('Gaussian Kernel Radius per Error Bound')\n",
    "hA.legend();\n"
   ]
  },
  {
   "cell_type": "markdown",
   "metadata": {},
   "source": [
    "* <font color='blue'>(**!**)</font> Convert the graph into Log Scale for `x` is the error bound and different values of `σ`."
   ]
  },
  {
   "cell_type": "code",
   "execution_count": null,
   "metadata": {},
   "outputs": [],
   "source": [
    "# Error Optimized Gaussian Blur\n",
    "\n",
    "#===========================Fill This===========================#\n",
    "# 1. Implement the Gaussian Blur as a function with a given error.\n",
    "# 2. The function parameters are `mI`, `σ`, `ε`.\n",
    "# 3. Given the error bound the function calculates the support and applies the Gaussian Blur.\n",
    "# !! No need to implement the Gaussian Blur itself, you may use implementations by SciKit Image or SciPy.\n",
    "\n",
    "def GaussianBlur( mI: np.ndarray, σ: float, ε: float = 1e-5 ) -> np.ndarray:\n",
    "    \"\"\"\n",
    "    Applies a Gaussian Blur to an input image using a finite impulse response (FIR) approximation with a bounded error.\n",
    "\n",
    "    The function applies a Gaussian filter with standard deviation `σ` to the input image `mI`. The FIR approximation\n",
    "    of the Gaussian filter is truncated to ensure that the resulting blurred image meets the specified error bound `ε`.\n",
    "    The kernel radius for the FIR approximation is calculated based on the error bound, which reduces the computation\n",
    "    load by limiting the effective size of the Gaussian kernel.\n",
    "\n",
    "    Parameters\n",
    "    ----------\n",
    "    mI : np.ndarray\n",
    "        The input grayscale image represented as a 2D numpy array.\n",
    "    σ : float\n",
    "        The standard deviation of the Gaussian kernel, which determines the amount of blurring.\n",
    "    ε : float, optional\n",
    "        The error bound for the FIR approximation of the Gaussian kernel. A smaller value results in a larger\n",
    "        kernel radius, increasing accuracy at the cost of additional computation. The default is `1e-5`.\n",
    "\n",
    "    Returns\n",
    "    -------\n",
    "    mO : np.ndarray\n",
    "        A 2D numpy array of the same shape as `mI`, containing the blurred image.\n",
    "\n",
    "    Notes\n",
    "    -----\n",
    "    - **Gaussian Filter Approximation**: The Gaussian filter is theoretically infinite, but in practice, it is truncated\n",
    "      to a finite radius to improve computational efficiency. The truncation radius is derived based on the specified\n",
    "      error bound `ε`.\n",
    "    - **Kernel Radius Calculation**: The truncation radius (`kernelRadius`) for the Gaussian kernel is calculated\n",
    "      as:\n",
    "      \n",
    "          kernelRadius = ceil(sqrt(2) * erfcinv(ε / 2) * σ)\n",
    "\n",
    "      where `erfinvc` is the complementary inverse error function. This radius ensures that the truncation error of the Gaussian kernel\n",
    "      is within the specified error bound `ε`, meaning the probability of values outside the truncated region is less\n",
    "      than or equal to `ε`.\n",
    "    - **Gaussian Blur Application**: The `ski.filters.gaussian` function applies the Gaussian filter\n",
    "      with the truncated kernel size defined by `truncate = kernelRadius / σ`.\n",
    "\n",
    "    Example\n",
    "    -------\n",
    "    >>> import numpy as np\n",
    "    >>> from skimage import data\n",
    "    >>> mI = data.camera()  # Example grayscale image from skimage\n",
    "    >>> mB = GaussianBlur(mI, σ = 2, ε = 1e-5)\n",
    "    \n",
    "    \"\"\"\n",
    "\n",
    "    kernelRadius = CalcGaussianKernelRadius(σ, ε)\n",
    "    mO = ski.filters.gaussian(mI, sigma = σ, truncate = kernelRadius / σ) #<! Uses SciPy \n",
    "\n",
    "    return mO\n",
    "\n",
    "#===============================================================#"
   ]
  },
  {
   "cell_type": "code",
   "execution_count": null,
   "metadata": {},
   "outputs": [],
   "source": [
    "# Plot Results\n",
    "\n",
    "def PlotResults( mI: np.ndarray, σ: float, ε: float ) -> plt.Figure:\n",
    "\n",
    "    mORef   = GaussianBlur(mI, σ, 1e-6)\n",
    "    mO      = GaussianBlur(mI, σ, ε)\n",
    "\n",
    "    hF, vHa = plt.subplots(nrows = 1, ncols = 3, figsize = (16, 5))\n",
    "    vHa = vHa.flat\n",
    "\n",
    "    hA = vHa[0]\n",
    "    hA.imshow(mI, cmap = 'gray', vmin = 0.0, vmax = 1.0)\n",
    "    hA.set(xticks = [], yticks = [], title = 'Input Image')\n",
    "\n",
    "    hA = vHa[1]\n",
    "    hA.imshow(mORef, cmap = 'gray', vmin = 0.0, vmax = 1.0)\n",
    "    hA.set(xticks = [], yticks = [], title = 'Reference Blur')\n",
    "\n",
    "    hA = vHa[2]\n",
    "    hA.imshow(mO, cmap = 'gray', vmin = 0.0, vmax = 1.0)\n",
    "    hA.set(xticks = [], yticks = [], title = f'ε = {ε}, Error = {np.max(np.abs(mO - mORef))}')\n",
    "\n",
    "    return None"
   ]
  },
  {
   "cell_type": "code",
   "execution_count": null,
   "metadata": {},
   "outputs": [],
   "source": [
    "# Interactive Visualization - Plot the Gaussian Kernel\n",
    "\n",
    "hPlotResults = lambda σ, ε: PlotResults(mI, σ, 10 ** (-ε))\n",
    "\n",
    "σSlider = FloatSlider(min = 0.1, max = 4, step = 0.1, value = 2.0, description ='σ:', layout = Layout(width = '30%'))\n",
    "εSlider = FloatSlider(min = 1.1, max = 5, step = 0.1, value = 2.0, description ='ε (Log Scale):', layout = Layout(width = '30%'))\n",
    "interact(hPlotResults, σ = σSlider, ε = εSlider);\n",
    "\n",
    "plt.show();"
   ]
  },
  {
   "cell_type": "markdown",
   "metadata": {},
   "source": [
    "* <font color='brown'>(**#**)</font> A guideline is to keep the error bounded below 1 pixel value in `[0, 255]` scale."
   ]
  }
 ],
 "metadata": {
  "kernelspec": {
   "display_name": "Python 3",
   "language": "python",
   "name": "python3"
  },
  "language_info": {
   "codemirror_mode": {
    "name": "ipython",
    "version": 3
   },
   "file_extension": ".py",
   "mimetype": "text/x-python",
   "name": "python",
   "nbconvert_exporter": "python",
   "pygments_lexer": "ipython3",
   "version": "3.12.7"
  },
  "toc": {
   "base_numbering": 1,
   "nav_menu": {},
   "number_sections": false,
   "sideBar": true,
   "skip_h1_title": false,
   "title_cell": "Table of Contents",
   "title_sidebar": "Contents",
   "toc_cell": false,
   "toc_position": {},
   "toc_section_display": true,
   "toc_window_display": true
  },
  "varInspector": {
   "cols": {
    "lenName": 16,
    "lenType": 16,
    "lenVar": 40
   },
   "kernels_config": {
    "python": {
     "delete_cmd_postfix": "",
     "delete_cmd_prefix": "del ",
     "library": "var_list.py",
     "varRefreshCmd": "print(var_dic_list())"
    },
    "r": {
     "delete_cmd_postfix": ") ",
     "delete_cmd_prefix": "rm(",
     "library": "var_list.r",
     "varRefreshCmd": "cat(var_dic_list()) "
    }
   },
   "types_to_exclude": [
    "module",
    "function",
    "builtin_function_or_method",
    "instance",
    "_Feature"
   ],
   "window_display": false
  },
  "vscode": {
   "interpreter": {
    "hash": "39577bab1f263e62e0b74f5b8086bd735049bf4751f6562b2d4b2969dc308293"
   }
  }
 },
 "nbformat": 4,
 "nbformat_minor": 4
}
