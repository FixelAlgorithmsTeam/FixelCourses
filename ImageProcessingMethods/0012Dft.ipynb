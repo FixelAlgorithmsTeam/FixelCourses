{
 "cells": [
  {
   "attachments": {},
   "cell_type": "markdown",
   "metadata": {},
   "source": [
    "[![Fixel Algorithms](https://fixelalgorithms.co/images/CCExt.png)](https://fixelalgorithms.gitlab.io)\n",
    "\n",
    "# Image Processing with Python\n",
    "\n",
    "## The Discrete Fourier Transform\n",
    "\n",
    "> Notebook by:\n",
    "> - Royi Avital RoyiAvital@fixelalgorithms.com\n",
    "\n",
    "## Revision History\n",
    "\n",
    "| Version | Date       | User        |Content / Changes                                                   |\n",
    "|---------|------------|-------------|--------------------------------------------------------------------|\n",
    "| 0.1.000 | 01/11/2024 | Royi Avital | First version                                                      |"
   ]
  },
  {
   "attachments": {},
   "cell_type": "markdown",
   "metadata": {},
   "source": [
    "[![Open In Colab](https://colab.research.google.com/assets/colab-badge.svg)](https://colab.research.google.com/github/FixelAlgorithmsTeam/FixelCourses/blob/master/ImageProcessingPython/0002SciKitImageBasics.ipynb)"
   ]
  },
  {
   "cell_type": "code",
   "execution_count": null,
   "metadata": {
    "ExecuteTime": {
     "end_time": "2022-02-02T09:30:06.492269Z",
     "start_time": "2022-02-02T09:30:06.220934Z"
    }
   },
   "outputs": [],
   "source": [
    "# Import Packages\n",
    "\n",
    "# General Tools\n",
    "import numpy as np\n",
    "import scipy as sp\n",
    "import pandas as pd\n",
    "\n",
    "from numba import jit, njit\n",
    "\n",
    "# Image Processing\n",
    "import skimage as ski\n",
    "\n",
    "# Machine Learning\n",
    "\n",
    "\n",
    "# Miscellaneous\n",
    "import math\n",
    "import os\n",
    "from platform import python_version\n",
    "import random\n",
    "import timeit\n",
    "\n",
    "# Typing\n",
    "from typing import Callable, List, Optional, Tuple\n",
    "\n",
    "# Visualization\n",
    "import matplotlib as mpl\n",
    "import matplotlib.pyplot as plt\n",
    "import seaborn as sns\n",
    "\n",
    "# Jupyter\n",
    "from IPython import get_ipython\n",
    "from IPython.display import Image, display\n",
    "from ipywidgets import Dropdown, FloatRangeSlider, FloatSlider, interact, IntSlider, Layout"
   ]
  },
  {
   "attachments": {},
   "cell_type": "markdown",
   "metadata": {},
   "source": [
    "## Notations\n",
    "\n",
    "* <font color='red'>(**?**)</font> Question to answer interactively.\n",
    "* <font color='blue'>(**!**)</font> Simple task to add code for the notebook.\n",
    "* <font color='green'>(**@**)</font> Optional / Extra self practice.\n",
    "* <font color='brown'>(**#**)</font> Note / Useful resource / Food for thought.\n",
    "\n",
    "### Code Exercise\n",
    "\n",
    " - Single line fill\n",
    "\n",
    " ```python\n",
    " vallToFill = ???\n",
    " ```\n",
    "\n",
    " - Multi Line to Fill (At least one)\n",
    "\n",
    " ```python\n",
    " # You need to start writing\n",
    " ????\n",
    " ```\n",
    "\n",
    " - Section to Fill\n",
    "\n",
    "```python\n",
    "#===========================Fill This===========================#\n",
    "# 1. Explanation about what to do.\n",
    "# !! Remarks to follow / take under consideration.\n",
    "mX = ???\n",
    "\n",
    "???\n",
    "#===============================================================#\n",
    "```"
   ]
  },
  {
   "cell_type": "code",
   "execution_count": null,
   "metadata": {},
   "outputs": [],
   "source": [
    "# Configuration\n",
    "# %matplotlib inline\n",
    "\n",
    "seedNum = 512\n",
    "np.random.seed(seedNum)\n",
    "random.seed(seedNum)\n",
    "\n",
    "# sns.set_theme() #>! Apply SeaBorn theme\n",
    "\n",
    "runInGoogleColab = 'google.colab' in str(get_ipython())"
   ]
  },
  {
   "cell_type": "code",
   "execution_count": null,
   "metadata": {},
   "outputs": [],
   "source": [
    "# Constants\n",
    "\n"
   ]
  },
  {
   "cell_type": "code",
   "execution_count": null,
   "metadata": {},
   "outputs": [],
   "source": [
    "# Fixel Algorithms Packages\n"
   ]
  },
  {
   "cell_type": "code",
   "execution_count": null,
   "metadata": {},
   "outputs": [],
   "source": [
    "# General Auxiliary Functions\n",
    "\n",
    "# Plt the DFT\n",
    "\n",
    "#===========================Fill This===========================#\n",
    "# 1. Implement a function for Plotting the DFT.\n",
    "# 2. The function applies **1D DFT** to a vector or rows of a matrix.\n",
    "# 3. The function supports common customizations: Log Scale, Normalization, DC Removal, etc...\n",
    "# !! In many contexts the Log Scale used is `dB`. You may use it here.\n",
    "# !! The function supports both Complex and Real signals.\n",
    "# !! You may find `np.fft.fft()` / `np.fft.rfft()` useful.\n",
    "# !! You may find `np.fft.fftfreq()` / `np.fft.rfftfreq()` useful.\n",
    "# !! You may find `np.atleast_2d()` useful.\n",
    "# !! You may find `np.iscomplexobj()` useful.\n",
    "# !! You may find `np.log1p()` useful.\n",
    "\n",
    "def PlotDft(mX: np.ndarray,                     #<! Input data (Vector / Matrix)\n",
    "            samplingFreq: float,                #<! Frequency [Hz]\n",
    "            /, *, \n",
    "            applyDft: bool = True,              #<! Whether the DFt should be applied \n",
    "            numFreqBins: Optional[int] = None,  #<! The number of frequency bins to evaluate the DFT on\n",
    "            singleSide: bool = True,            #<! Show single side (Real signal only)\n",
    "            logScale: bool = True,              #<! Apply Log Scale transformation\n",
    "            normalizeData: bool = False,        #<! Normalize signal so peak have value of 1\n",
    "            removeDc: bool = False,             #<! Zero the DC of the signal\n",
    "            plotTitle: str = 'DFT',             #<! Title of the plot\n",
    "            hA: Optional[plt.Axes] = None,      #<! Pre defined axes\n",
    "            ) -> plt.Axes:\n",
    "\n",
    "    numDims = np.ndim(mX)\n",
    "\n",
    "    # Verify data is either a vector\n",
    "    ???\n",
    "    \n",
    "    # Verify data is at least 2D\n",
    "    mXX = ???\n",
    "    \n",
    "    # Check if input is complex\n",
    "    # If data is complex set (Override) `singleSide` to `False`\n",
    "    if np.iscomplexobj(???):\n",
    "        ???\n",
    "    \n",
    "    # Define the functions to apply DFT and calculate teh frequency grid\n",
    "    if singleSide:\n",
    "        fftFun     = ???\n",
    "        fftFreqFun = ???\n",
    "    else:\n",
    "        fftFun     = ???\n",
    "        fftFreqFun = ???\n",
    "    \n",
    "    # Set the number of bins, handle teh case `numFreqBins` is `None`\n",
    "    numFreqBins = ???\n",
    "    \n",
    "    # Calculate the frequencies grid\n",
    "    vFftFreq = ???\n",
    "\n",
    "    # Apply the 1D DFT\n",
    "    if applyDft:\n",
    "        mK = ???\n",
    "    else:\n",
    "        mK = ???\n",
    "    \n",
    "    # Zero the DC component\n",
    "    if removeDc:\n",
    "        mK -= ???\n",
    "    \n",
    "    # Normalize the data, the peak will have value of 1\n",
    "    if normalizeData:\n",
    "        mK /= ???\n",
    "    \n",
    "    yLabel = 'Amplitude'\n",
    "    \n",
    "    # Apply the Log Scale transformation\n",
    "    if logScale:\n",
    "        mK = ??? #<! Safe Log transform (Handles zeros)\n",
    "        yLabel = 'Amplitude [Log Scale]'\n",
    "\n",
    "\n",
    "    if hA is None:\n",
    "        hF, hA = plt.subplots(figsize = (10, 5))\n",
    "\n",
    "    for ii, vK in enumerate(mK):\n",
    "        hA.plot(vFftFreq, vK, linewidth = 2, label = f'Signal {(ii + 1):03d}')\n",
    "    \n",
    "    hA.set_title(plotTitle)\n",
    "    hA.set_xlabel('Frequency [Hz]')\n",
    "    hA.set_ylabel(yLabel)\n",
    "    hA.legend()\n",
    "\n",
    "    return hA\n",
    "#===============================================================#\n"
   ]
  },
  {
   "attachments": {},
   "cell_type": "markdown",
   "metadata": {},
   "source": [
    "## The Discrete Fourier Transform (DFT)\n",
    "\n",
    "The DFT, in the context of Linear Algebra, is basically a [change of basis](https://en.wikipedia.org/wiki/Change_of_basis).  \n",
    "The DFT basis is composed by Harmonic signals.  \n",
    "The basis allows analysis of data using an important concept, the Frequency.  \n",
    "\n",
    "![](https://i.imgur.com/Qqlbz3R.png)\n",
    "<!-- ![](https://i.postimg.cc/0QRDg1Hc/image.png) -->\n",
    "\n",
    "The DFT transform is given by:\n",
    "\n",
    " - Analysis: $X \\left[ k \\right] = \\sum_{n = 0}^{N - 1} x \\left[ n \\right] {e}^{-2 \\pi j \\frac{n k}{N}}$.\n",
    " - Synthesis: $x \\left[ n \\right] = \\frac{1}{N} \\sum_{k = 0}^{N - 1} X \\left[ k \\right] {e}^{2 \\pi j \\frac{n k}{N}}$.\n",
    "\n",
    "The DFT allows analyzing the spectrum of a signal:\n",
    "\n",
    "1. The energy of a specific harmonic component.\n",
    "2. The _Bandwidth_ of the signal (The support).\n",
    "\n",
    "* <font color='brown'>(**#**)</font> The DFt can be described using a _Unitary_ DFT Matrix $\\boldsymbol{D} \\in \\mathbb{C}^{N \\times N}$, given by ${D}_{k, n} = \\frac{1}{\\sqrt{N}} {e}^{-j 2 \\pi \\frac{n k}{M}}$.\n",
    "* <font color='brown'>(**#**)</font> The DFT can be derived as a Uniform Sampling of the [DTFT](https://en.wikipedia.org/wiki/Discrete-time_Fourier_transform).\n",
    "* <font color='brown'>(**#**)</font> The [Nyquist Shannon Sampling Theorem](https://en.wikipedia.org/wiki/Nyquist%E2%80%93Shannon_sampling_theorem) is closely related to the Fourier Transform."
   ]
  },
  {
   "cell_type": "code",
   "execution_count": null,
   "metadata": {},
   "outputs": [],
   "source": [
    "# Parameters\n",
    "\n",
    "numSamples   = 50\n",
    "samplingFreq = 1 #<! [Hz]\n",
    "sineFreq     = 0.20"
   ]
  },
  {
   "cell_type": "markdown",
   "metadata": {},
   "source": [
    "## Generate Data\n",
    "\n",
    "This section loads the image used to evaluate the results.  "
   ]
  },
  {
   "cell_type": "code",
   "execution_count": null,
   "metadata": {},
   "outputs": [],
   "source": [
    "# Load / Generate Data\n",
    "\n",
    "timeInterval = numSamples / samplingFreq\n",
    "vT = np.linspace(0, timeInterval, numSamples + 1)[:-1] \n",
    "vX = np.sin(2 * np.pi * sineFreq * vT)\n",
    "vN = np.random.randn(numSamples)"
   ]
  },
  {
   "cell_type": "markdown",
   "metadata": {},
   "source": [
    "## Spectral Leakage\n",
    "\n",
    "[Spectral Leakage](https://en.wikipedia.org/wiki/Spectral_leakage) is the reason the DFT does not match the intuitive results of Fourier Transform.  \n",
    "The DFT can be viewed as the sampled DTFT (See [Wikipedia - Sampling the DTFT](https://en.wikipedia.org/wiki/Discrete-time_Fourier_transform#Sampling_the_DTFT)) which in turn can be thought as the result of a sampled windowed signal.\n"
   ]
  },
  {
   "cell_type": "code",
   "execution_count": null,
   "metadata": {},
   "outputs": [],
   "source": [
    "# Display the Data\n",
    "\n",
    "# Plot the DFT using `PlotDft()`\n",
    "hA = PlotDft(vX, samplingFreq, logScale = False, numFreqBins = 10_000);\n",
    "hA.set_xlim((0.05, 0.35));"
   ]
  },
  {
   "cell_type": "markdown",
   "metadata": {},
   "source": [
    "* <font color='blue'>(**!**)</font> Change the value of `sineFreq` to random values around `0.2 [Hz]`.\n",
    "* <font color='red'>(**?**)</font> Why the results are so different?"
   ]
  },
  {
   "cell_type": "markdown",
   "metadata": {},
   "source": [
    "### The Leakage\n",
    "\n",
    "From the DTFT point of view, the transform of the Harmonic Signal is the _convolution_ of the Delta Function, by the harmonic signals, by the transform of the _Window Function_ (Rectangle by default).  \n",
    "In order to have \"Delta\" like result in the DFT grid should match the zeros of the Window function.  \n",
    "\n",
    "The \"Resolution\" of the DFT is: ${F}_{k} = k \\frac{{F}_{s}}{N}$.  \n",
    "Defining ${f}_{c} = \\frac{ {F}_{c} }{ {F}_{s} }$ where ${F}_{c}$ is the harmonic signal tone and ${F}_{s}$ is the sampling frequency.  \n",
    "For a _Rectangle Windows_, Whenever there is an integer $k$ such that ${f}_{c} = k \\frac{1}{N}$ then no _Spectral Leakage_ is visible.\n",
    "\n",
    "![](https://i.imgur.com/ZcnevW7.png)\n",
    "<!-- ![](https://i.postimg.cc/L67z7xsy/HF7N2hr.png) -->\n",
    "\n",
    "![](https://i.imgur.com/FD8kC8x.png)\n",
    "<!-- ![](https://i.postimg.cc/W47q282c/PueR0x6.png) -->\n",
    "\n",
    "\n",
    "* <font color='brown'>(**#**)</font> See [DSP Illustrations - Spectral Leakage and Zero Padding of the Discrete Fourier Transform](https://dspillustrations.com/pages/posts/misc/spectral-leakage-zero-padding-and-frequency-resolution.html).\n",
    "* <font color='brown'>(**#**)</font> See [Digital Signals Theory - Spectral Leakage and Windowing](https://brianmcfee.net/dstbook-site/content/ch06-dft-properties/Leakage.html).\n",
    "* <font color='brown'>(**#**)</font> [Geo's Notepad - Understanding the DFT: Spectral Leakage, Windowing, and Periodicity](https://geo-ant.github.io/blog/2021/dft-spectral-leakage-and-windowing)."
   ]
  },
  {
   "cell_type": "markdown",
   "metadata": {},
   "source": [
    "## The Power Spectral Density (PSD)\n",
    "\n",
    "The PSD is the tool to analyze (Wide Sense) Stationary Signals in the Frequency Domain.  \n",
    "It is defined / calculated in the following theoretically equivalent forms:\n",
    "\n",
    " * The DFT of the Auto Correlation Function.\n",
    " * The Squared Magnitude of the DFT of the data.\n",
    "\n",
    "</br>\n",
    "\n",
    "* <font color='brown'>(**#**)</font> In depth analysis of methods to implement the Gaussian Blur is given in [Pascal Getreuer - A Survey of Gaussian Convolution Algorithms](https://www.ipol.im/pub/art/2013/87).\n",
    "* <font color='brown'>(**#**)</font> The _Gaussian Kernel_ is used for generating other kernels as well: Derivative Kernels, Laplacian Kernels, etc...\n",
    "* <font color='brown'>(**#**)</font> For Box Filter like implementation see [Efficient and Accurate Gaussian Image Filtering Using Running Sums](https://ieeexplore.ieee.org/document/6416657)."
   ]
  },
  {
   "cell_type": "code",
   "execution_count": null,
   "metadata": {},
   "outputs": [],
   "source": [
    "# Calculating the Auto Correlation of the Noise\n",
    "\n",
    "vR = np.correlate(vN, vN, mode = 'full')\n",
    "vNorm = np.correlate(np.ones(numSamples), np.ones(numSamples), mode = 'full') #<! Counting number of elements per output\n",
    "vR /= vNorm"
   ]
  },
  {
   "cell_type": "markdown",
   "metadata": {},
   "source": [
    "* <font color='brown'>(**#**)</font> Read on the different modes of [`np.correlate()`](https://numpy.org/doc/stable/reference/generated/numpy.correlate.html). "
   ]
  },
  {
   "cell_type": "code",
   "execution_count": null,
   "metadata": {},
   "outputs": [],
   "source": [
    "# Display the Auto Correlation Function\n",
    "\n",
    "hF, hA = plt.subplots(figsize = (10, 5))\n",
    "\n",
    "hA.plot(range(-numSamples + 1, numSamples), vR, linewidth = 2)\n",
    "hA.set_xlabel('Leg (τ)')\n",
    "hA.set_ylabel('Value')\n",
    "hA.set_title('The Auto Correlation Function');"
   ]
  },
  {
   "cell_type": "markdown",
   "metadata": {},
   "source": [
    "* <font color='red'>(**?**)</font> How should the ideal ACF should like for White Noise?"
   ]
  },
  {
   "cell_type": "code",
   "execution_count": null,
   "metadata": {},
   "outputs": [],
   "source": [
    "# Estimation of the PSD\n",
    "\n",
    "vF, vPsd = sp.signal.welch(vN, fs = samplingFreq, nperseg = 20)\n",
    "numFreqSamples = len(vF)"
   ]
  },
  {
   "cell_type": "code",
   "execution_count": null,
   "metadata": {},
   "outputs": [],
   "source": [
    "# Display Results\n",
    "\n",
    "hA = PlotDft(vR, samplingFreq, logScale = False)\n",
    "hA.plot(vF, vPsd, linewidth = 2, label = 'Welch')\n",
    "hA.plot(np.fft.rfftfreq(len(vN)), np.square(np.abs(np.fft.rfft(vN))) / numSamples, linewidth = 2, label = 'Square of Magnitude')\n",
    "\n",
    "\n",
    "hA.legend();"
   ]
  },
  {
   "cell_type": "markdown",
   "metadata": {},
   "source": [
    "* <font color='red'>(**?**)</font> Explain the different results."
   ]
  },
  {
   "cell_type": "markdown",
   "metadata": {},
   "source": [
    "## 2D DFT"
   ]
  },
  {
   "cell_type": "code",
   "execution_count": null,
   "metadata": {},
   "outputs": [],
   "source": [
    "# Load Image\n",
    "# mI = ski.io.imread('https://i.imgur.com/oErxpp1.png')\n",
    "mI = ski.io.imread('https://i.postimg.cc/sxH0b5Bp/image.png')\n",
    "mI = ski.util.img_as_float64(mI)\n",
    "mI = np.mean(mI, axis = 2)"
   ]
  },
  {
   "cell_type": "code",
   "execution_count": null,
   "metadata": {},
   "outputs": [],
   "source": [
    "# Display Image\n",
    "\n",
    "hF, hA = plt.subplots(figsize = (10, 5))\n",
    "hA.imshow(mI, cmap = 'gray', vmin = 0, vmax = 1);"
   ]
  },
  {
   "cell_type": "code",
   "execution_count": null,
   "metadata": {},
   "outputs": [],
   "source": [
    "# Modulate Image\n",
    "\n",
    "numRows = np.size(mI, 0)\n",
    "numCols = np.size(mI, 1)\n",
    "\n",
    "# Aliasing\n",
    "# signalFreq = math.floor(numRows / 1.25)\n",
    "# vModulationSignal = 0.15 * np.cos(2 * np.pi * (signalFreq / numRows) * np.arange(numRows))\n",
    "\n",
    "signalFreq = 0.08\n",
    "vModulationSignal = 0.15 * np.cos(2 * np.pi * signalFreq * np.arange(numRows))\n",
    "\n",
    "mM = np.clip(mI + vModulationSignal[:, None], a_min = 0.0, a_max = 1.0)\n"
   ]
  },
  {
   "cell_type": "code",
   "execution_count": null,
   "metadata": {},
   "outputs": [],
   "source": [
    "# Display Modulated Image\n",
    "hF, hA = plt.subplots(figsize = (10, 5))\n",
    "hA.imshow(mM, cmap = 'gray', vmin = 0, vmax = 1);"
   ]
  },
  {
   "cell_type": "code",
   "execution_count": null,
   "metadata": {},
   "outputs": [],
   "source": [
    "# Display Spectrum\n",
    "\n",
    "hF, vHa = plt.subplots(nrows = 1, ncols = 2, figsize = (20, 5))\n",
    "vHa = vHa.flat\n",
    "\n",
    "hA = vHa[0]\n",
    "hA.imshow(np.fft.fftshift(np.log1p(np.abs(np.fft.fft2(mI)))), cmap = 'gray', vmin = 0.0)\n",
    "hA.set_title('The DFT of the Image')\n",
    "\n",
    "hA = vHa[1]\n",
    "hA.imshow(np.fft.fftshift(np.log1p(np.abs(np.fft.fft2(mM)))), cmap = 'gray', vmin = 0.0)\n",
    "hA.set_title('The DFT of the Modulated Image')"
   ]
  }
 ],
 "metadata": {
  "kernelspec": {
   "display_name": "Python 3",
   "language": "python",
   "name": "python3"
  },
  "language_info": {
   "codemirror_mode": {
    "name": "ipython",
    "version": 3
   },
   "file_extension": ".py",
   "mimetype": "text/x-python",
   "name": "python",
   "nbconvert_exporter": "python",
   "pygments_lexer": "ipython3",
   "version": "3.12.7"
  },
  "toc": {
   "base_numbering": 1,
   "nav_menu": {},
   "number_sections": false,
   "sideBar": true,
   "skip_h1_title": false,
   "title_cell": "Table of Contents",
   "title_sidebar": "Contents",
   "toc_cell": false,
   "toc_position": {},
   "toc_section_display": true,
   "toc_window_display": true
  },
  "varInspector": {
   "cols": {
    "lenName": 16,
    "lenType": 16,
    "lenVar": 40
   },
   "kernels_config": {
    "python": {
     "delete_cmd_postfix": "",
     "delete_cmd_prefix": "del ",
     "library": "var_list.py",
     "varRefreshCmd": "print(var_dic_list())"
    },
    "r": {
     "delete_cmd_postfix": ") ",
     "delete_cmd_prefix": "rm(",
     "library": "var_list.r",
     "varRefreshCmd": "cat(var_dic_list()) "
    }
   },
   "types_to_exclude": [
    "module",
    "function",
    "builtin_function_or_method",
    "instance",
    "_Feature"
   ],
   "window_display": false
  },
  "vscode": {
   "interpreter": {
    "hash": "39577bab1f263e62e0b74f5b8086bd735049bf4751f6562b2d4b2969dc308293"
   }
  }
 },
 "nbformat": 4,
 "nbformat_minor": 4
}
