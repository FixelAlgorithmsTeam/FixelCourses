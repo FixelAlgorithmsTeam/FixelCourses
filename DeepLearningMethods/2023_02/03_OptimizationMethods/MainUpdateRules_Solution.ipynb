{
 "cells": [
  {
   "cell_type": "markdown",
   "metadata": {},
   "source": [
    "![Fixel Algorithms](https://fixelalgorithms.co/images/CCExt.png)"
   ]
  },
  {
   "cell_type": "markdown",
   "metadata": {},
   "source": [
    "# <center> Deep Learning Methods </center>\n",
    "## <center> Lecture 3 - Optimization Methods </center>\n",
    "### <center> Update Rules (SGDM & Adam)</center>"
   ]
  },
  {
   "cell_type": "markdown",
   "metadata": {},
   "source": [
    "[![Open In Colab](https://colab.research.google.com/assets/colab-badge.svg)](https://colab.research.google.com/github/FixelAlgorithmsTeam/FixelCourses/blob/master/DeepLearningMethods/03_OptimizationMethods/MainUpdateRules_Solution.ipynb)"
   ]
  },
  {
   "cell_type": "code",
   "execution_count": 1,
   "metadata": {
    "ExecuteTime": {
     "end_time": "2021-10-24T06:40:08.184974Z",
     "start_time": "2021-10-24T06:40:08.169961Z"
    }
   },
   "outputs": [
    {
     "data": {
      "text/html": [
       "<style>.container { width:80% !important; }</style>"
      ],
      "text/plain": [
       "<IPython.core.display.HTML object>"
      ]
     },
     "metadata": {},
     "output_type": "display_data"
    }
   ],
   "source": [
    "#-- Wide screen:\n",
    "from IPython.core.display import display, HTML\n",
    "display(HTML(\"<style>.container { width:80% !important; }</style>\"))"
   ]
  },
  {
   "cell_type": "code",
   "execution_count": 2,
   "metadata": {
    "ExecuteTime": {
     "end_time": "2021-10-24T06:40:08.641970Z",
     "start_time": "2021-10-24T06:40:08.618950Z"
    }
   },
   "outputs": [],
   "source": [
    "#-- Auto reload:\n",
    "%load_ext autoreload\n",
    "%autoreload 2"
   ]
  },
  {
   "cell_type": "code",
   "execution_count": 3,
   "metadata": {
    "ExecuteTime": {
     "end_time": "2021-10-24T06:40:12.072866Z",
     "start_time": "2021-10-24T06:40:11.795878Z"
    }
   },
   "outputs": [],
   "source": [
    "import numpy             as np\n",
    "import matplotlib.pyplot as plt\n",
    "import matplotlib\n",
    "\n",
    "np.random.seed(1)"
   ]
  },
  {
   "cell_type": "markdown",
   "metadata": {},
   "source": [
    "For Colab users:"
   ]
  },
  {
   "cell_type": "code",
   "execution_count": 4,
   "metadata": {
    "ExecuteTime": {
     "end_time": "2021-10-24T06:40:13.638410Z",
     "start_time": "2021-10-24T06:40:13.611385Z"
    }
   },
   "outputs": [],
   "source": [
    "if 'google.colab' in str(get_ipython()):\n",
    "    !wget https://raw.githubusercontent.com/FixelAlgorithmsTeam/FixelCourses/master/DeepLearningMethods/03_OptimizationMethods/UpdateRulesAux.py"
   ]
  },
  {
   "cell_type": "code",
   "execution_count": 5,
   "metadata": {
    "ExecuteTime": {
     "end_time": "2021-10-24T06:40:13.972290Z",
     "start_time": "2021-10-24T06:40:13.931253Z"
    }
   },
   "outputs": [],
   "source": [
    "#-- What we have so far:\n",
    "from UpdateRulesAux import LinearLayer, ReLULayer, SequentialModel, CrossEntropyLoss, Dataset, Accuracy"
   ]
  },
  {
   "cell_type": "markdown",
   "metadata": {},
   "source": [
    "### Get Fashion MNIST dataset"
   ]
  },
  {
   "cell_type": "code",
   "execution_count": 6,
   "metadata": {
    "ExecuteTime": {
     "end_time": "2021-10-24T06:40:16.025561Z",
     "start_time": "2021-10-24T06:40:15.437207Z"
    }
   },
   "outputs": [
    {
     "data": {
      "text/plain": [
       "((60000, 784), (60000,), (10000, 784), (10000,))"
      ]
     },
     "execution_count": 6,
     "metadata": {},
     "output_type": "execute_result"
    }
   ],
   "source": [
    "import torchvision\n",
    "import torchvision.transforms as transforms\n",
    "\n",
    "#-- For now, we use PyTorch just to get the data:\n",
    "oTrainSet = torchvision.datasets.FashionMNIST(root='../../data', train=True,  download=True, transform=transforms.ToTensor())\n",
    "oTestSet  = torchvision.datasets.FashionMNIST(root='../../data', train=False, download=True, transform=transforms.ToTensor())\n",
    "\n",
    "lClasses = oTrainSet.classes\n",
    "mTrainX  = oTrainSet.data.view(-1,784).numpy() / 255\n",
    "mTestX   = oTestSet .data.view(-1,784).numpy() / 255\n",
    "vTrainY  = oTrainSet.targets.numpy()\n",
    "vTestY   = oTestSet .targets.numpy()\n",
    "\n",
    "(\n",
    "mTrainX.shape, \n",
    "vTrainY.shape, \n",
    "mTestX .shape,  \n",
    "vTestY .shape\n",
    ")"
   ]
  },
  {
   "cell_type": "code",
   "execution_count": 7,
   "metadata": {
    "ExecuteTime": {
     "end_time": "2021-10-24T06:40:18.983152Z",
     "start_time": "2021-10-24T06:40:18.643883Z"
    }
   },
   "outputs": [
    {
     "data": {
      "image/png": "[encoded data removed]",
      "text/plain": [
       "<Figure size 800x400 with 6 Axes>"
      ]
     },
     "metadata": {},
     "output_type": "display_data"
    }
   ],
   "source": [
    "#-- Plot a few examples:\n",
    "N, d   = mTrainX.shape\n",
    "fig, _ = plt.subplots(2, 3, figsize=(8, 4))\n",
    "for ax in fig.axes:\n",
    "    idx = np.random.randint(N)\n",
    "    ax.imshow   (np.reshape(mTrainX[idx,:], (28, 28)), cmap='gray')\n",
    "    ax.set_title(f'True label: {lClasses[vTrainY[idx]]}')\n",
    "    \n",
    "plt.tight_layout()\n",
    "plt.show()"
   ]
  },
  {
   "cell_type": "markdown",
   "metadata": {},
   "source": [
    "####  Normalize data:"
   ]
  },
  {
   "cell_type": "code",
   "execution_count": 8,
   "metadata": {
    "ExecuteTime": {
     "end_time": "2021-10-24T06:40:20.750294Z",
     "start_time": "2021-10-24T06:40:20.498997Z"
    }
   },
   "outputs": [],
   "source": [
    "vMean = mTrainX.mean(0)\n",
    "vStd  = mTrainX.std (0)\n",
    "\n",
    "mTrainX -= vMean\n",
    "mTestX  -= vMean\n",
    "mTrainX /= vStd\n",
    "mTestX  /= vStd"
   ]
  },
  {
   "cell_type": "markdown",
   "metadata": {},
   "source": [
    "#### Data loaders:"
   ]
  },
  {
   "cell_type": "code",
   "execution_count": 9,
   "metadata": {
    "ExecuteTime": {
     "end_time": "2021-10-24T06:40:21.179488Z",
     "start_time": "2021-10-24T06:40:21.123437Z"
    }
   },
   "outputs": [],
   "source": [
    "batchSize = 256\n",
    "oTrainSet = Dataset(mTrainX.T, vTrainY, batchSize)\n",
    "oTestSet  = Dataset(mTestX.T,  vTestY,  batchSize)"
   ]
  },
  {
   "cell_type": "markdown",
   "metadata": {},
   "source": [
    "### A basic optimizer (only SGD):\n",
    "$$\\boldsymbol{p}^{\\left(t+1\\right)}=\\boldsymbol{p}^{\\left(t\\right)}-\\mu\\nabla_{\\boldsymbol{p}}L$$"
   ]
  },
  {
   "cell_type": "code",
   "execution_count": 10,
   "metadata": {
    "ExecuteTime": {
     "end_time": "2021-10-24T06:40:22.397265Z",
     "start_time": "2021-10-24T06:40:22.347220Z"
    }
   },
   "outputs": [],
   "source": [
    "#-- Basic gradient descent update rule:\n",
    "class SGD:\n",
    "    def __init__(self, lr=1e-3):\n",
    "        self.lr = lr\n",
    "        \n",
    "    def Step(self, mP, mDp, dState={}):\n",
    "        mP -= self.lr * mDp\n",
    "        return mP, dState\n",
    "\n",
    "#--------------------------------------------------------------------------------#\n",
    "#--------------------------------------------------------------------------------#\n",
    "class Optimizer:\n",
    "    def __init__(self, oUpdateRule):\n",
    "        self.oUpdateRule = oUpdateRule #-- SGD, SGDM, ADAM\n",
    "        self.dStates     = {}\n",
    "            \n",
    "    def Step(self, oModel, lr=None):\n",
    "        if lr is not None:\n",
    "            self.oUpdateRule.lr = lr\n",
    "        \n",
    "        for ii, oLayer in enumerate(oModel.lLayers):\n",
    "            for sParamKey in oLayer.dGrads:\n",
    "                #-- Get param, gradient and history:\n",
    "                mP       = oLayer.dParams[sParamKey]\n",
    "                mDp      = oLayer.dGrads [sParamKey]\n",
    "                sParamID = f'{ii}_{sParamKey}'\n",
    "                dState   = self.dStates.get(sParamID, {})\n",
    "                \n",
    "                #-- Apply step:\n",
    "                mP, dState = self.oUpdateRule.Step(mP, mDp, dState)\n",
    "                \n",
    "                #-- Set param and hisoty:\n",
    "                oLayer.dParams[sParamKey] = mP\n",
    "                self.dStates  [sParamID ] = dState"
   ]
  },
  {
   "cell_type": "markdown",
   "metadata": {},
   "source": [
    "### Epoch with an optimizer:\n",
    "* We merge `TrainEpoch` and `ValidationEpoch` into a single function.  \n",
    "* `bTrain` indicates whether we train or validate."
   ]
  },
  {
   "cell_type": "code",
   "execution_count": 11,
   "metadata": {
    "ExecuteTime": {
     "end_time": "2021-10-24T06:40:23.470554Z",
     "start_time": "2021-10-24T06:40:23.419508Z"
    }
   },
   "outputs": [],
   "source": [
    "import time\n",
    "    \n",
    "def Epoch(oModel, oData, oOptim=None, bTrain=True):\n",
    "    \n",
    "    epochLoss = 0\n",
    "    epochAcc  = 0\n",
    "    count     = 0\n",
    "    #-- Iterate over the mini-batches:\n",
    "    for ii, (mX, vY) in enumerate(oData):\n",
    "        \n",
    "        Nb     = len(vY)\n",
    "        count += Nb\n",
    "        \n",
    "        #-- Forward:\n",
    "        mZ        = oModel.Forward(mX)\n",
    "        loss, mDz = CrossEntropyLoss(vY, mZ)\n",
    "\n",
    "        if bTrain == True:\n",
    "            oModel.Backward(mDz) #-- backward\n",
    "            oOptim.Step(oModel)  #-- update parameters\n",
    "            \n",
    "        epochLoss += Nb * loss\n",
    "        epochAcc  += Nb * Accuracy(mZ, vY)\n",
    "        print(f'\\rIteration: {ii:3d}: loss = {loss:2.6f}', end='')\n",
    "    \n",
    "    print('', end='\\r')\n",
    "    epochLoss /= count\n",
    "    epochAcc  /= count\n",
    "    \n",
    "    return epochLoss, epochAcc"
   ]
  },
  {
   "cell_type": "code",
   "execution_count": 12,
   "metadata": {
    "ExecuteTime": {
     "end_time": "2021-10-24T06:40:24.548599Z",
     "start_time": "2021-10-24T06:40:24.458826Z"
    }
   },
   "outputs": [],
   "source": [
    "def TrainModel(oModel, oTrainData, oValData, nEpochs, oOptim):\n",
    "\n",
    "    vTrainLoss = np.full(nEpochs, np.nan)\n",
    "    vTrainAcc  = np.full(nEpochs, np.nan)\n",
    "    vValLoss   = np.full(nEpochs, np.nan)\n",
    "    vValAcc    = np.full(nEpochs, np.nan)\n",
    "    for epoch in range(nEpochs):\n",
    "        startTime           = time.time()\n",
    "        trainLoss, trainAcc = Epoch(oModel, oTrainData, oOptim, bTrain=True )\n",
    "        valLoss,   valAcc   = Epoch(oModel, oValData,           bTrain=False)\n",
    "        epochTime           = time.time() - startTime\n",
    "        \n",
    "        #-- Display:\n",
    "        print('Epoch '              f'{epoch    :3d}:',  end='')\n",
    "        print(' | Train loss: '     f'{trainLoss:6.3f}', end='')\n",
    "        print(' | Val loss: '       f'{valLoss  :6.3f}', end='')\n",
    "        print(' | Train Accuracy: ' f'{trainAcc :6.3f}', end='')\n",
    "        print(' | Val Accuracy: '   f'{valAcc   :6.3f}', end='')\n",
    "        print(' | epoch time: '     f'{epochTime:6.3f} |')\n",
    "        \n",
    "        vTrainLoss[epoch] = trainLoss\n",
    "        vTrainAcc [epoch] = trainAcc\n",
    "        vValLoss  [epoch] = valLoss\n",
    "        vValAcc   [epoch] = valAcc\n",
    "        \n",
    "    return vTrainLoss, vTrainAcc, vValLoss, vValAcc"
   ]
  },
  {
   "cell_type": "markdown",
   "metadata": {},
   "source": [
    "####  Define a model:"
   ]
  },
  {
   "cell_type": "code",
   "execution_count": 13,
   "metadata": {
    "ExecuteTime": {
     "end_time": "2021-10-24T06:40:26.359159Z",
     "start_time": "2021-10-24T06:40:26.301751Z"
    }
   },
   "outputs": [],
   "source": [
    "def GetModel():\n",
    "    oModel = SequentialModel([\n",
    "        LinearLayer(784, 350), ReLULayer(),\n",
    "        LinearLayer(350, 250), ReLULayer(),\n",
    "        LinearLayer(250, 150), ReLULayer(),\n",
    "        LinearLayer(150, 50 ), ReLULayer(),\n",
    "        LinearLayer(50,  10 ),\n",
    "    ])\n",
    "    \n",
    "    return oModel"
   ]
  },
  {
   "cell_type": "markdown",
   "metadata": {},
   "source": [
    "### Train the model with SGD:"
   ]
  },
  {
   "cell_type": "code",
   "execution_count": 14,
   "metadata": {
    "ExecuteTime": {
     "end_time": "2021-10-24T06:40:47.925594Z",
     "start_time": "2021-10-24T06:40:29.037831Z"
    },
    "scrolled": true
   },
   "outputs": [
    {
     "name": "stdout",
     "output_type": "stream",
     "text": [
      "Epoch   0: | Train loss:  0.687 | Val loss:  0.539 | Train Accuracy:  0.769 | Val Accuracy:  0.812 | epoch time:  1.891 |\n",
      "Epoch   1: | Train loss:  0.436 | Val loss:  0.477 | Train Accuracy:  0.845 | Val Accuracy:  0.831 | epoch time:  1.921 |\n",
      "Epoch   2: | Train loss:  0.385 | Val loss:  0.441 | Train Accuracy:  0.861 | Val Accuracy:  0.844 | epoch time:  1.913 |\n",
      "Epoch   3: | Train loss:  0.355 | Val loss:  0.421 | Train Accuracy:  0.871 | Val Accuracy:  0.854 | epoch time:  1.893 |\n",
      "Epoch   4: | Train loss:  0.331 | Val loss:  0.412 | Train Accuracy:  0.880 | Val Accuracy:  0.854 | epoch time:  1.879 |\n",
      "Epoch   5: | Train loss:  0.314 | Val loss:  0.402 | Train Accuracy:  0.886 | Val Accuracy:  0.856 | epoch time:  1.855 |\n",
      "Epoch   6: | Train loss:  0.299 | Val loss:  0.393 | Train Accuracy:  0.892 | Val Accuracy:  0.861 | epoch time:  1.863 |\n",
      "Epoch   7: | Train loss:  0.285 | Val loss:  0.399 | Train Accuracy:  0.896 | Val Accuracy:  0.861 | epoch time:  1.894 |\n",
      "Epoch   8: | Train loss:  0.274 | Val loss:  0.391 | Train Accuracy:  0.901 | Val Accuracy:  0.865 | epoch time:  1.830 |\n",
      "Epoch   9: | Train loss:  0.263 | Val loss:  0.372 | Train Accuracy:  0.904 | Val Accuracy:  0.870 | epoch time:  1.874 |\n"
     ]
    }
   ],
   "source": [
    "oModel  = GetModel()\n",
    "oOptim  = Optimizer(SGD(lr=2e-2))\n",
    "nEpochs = 10\n",
    "\n",
    "TrainModel(oModel, oTrainSet, oTestSet, nEpochs, oOptim);"
   ]
  },
  {
   "cell_type": "markdown",
   "metadata": {},
   "source": [
    "### SGDM\n",
    "$$\\boldsymbol{v}^{\\left(t\\right)}=\\beta\\boldsymbol{v}^{\\left(t-1\\right)}-\\mu\\nabla f\\left(\\boldsymbol{p}^{\\left(t\\right)}\\right)$$\n",
    "$$\\boldsymbol{p}^{\\left(t+1\\right)}=\\boldsymbol{p}^{\\left(t\\right)}+\\boldsymbol{v}^{\\left(t\\right)}$$"
   ]
  },
  {
   "cell_type": "code",
   "execution_count": 15,
   "metadata": {
    "ExecuteTime": {
     "end_time": "2021-10-24T06:41:23.859435Z",
     "start_time": "2021-10-24T06:41:23.811738Z"
    }
   },
   "outputs": [],
   "source": [
    "class SGDM:\n",
    "    def __init__(self, lr=1e-3, beta=0.9):\n",
    "        self.lr   = lr\n",
    "        self.beta = beta\n",
    "        \n",
    "    def Step(self, mP, mDp, dState={}):\n",
    "        mV            = dState.get('mV', np.zeros(mP.shape))\n",
    "        mV            = self.beta * mV - self.lr * mDp\n",
    "        mP           += mV\n",
    "        dState['mV']  = mV\n",
    "        \n",
    "        return mP, dState"
   ]
  },
  {
   "cell_type": "markdown",
   "metadata": {},
   "source": [
    "### Train the same architecture with SGDM:"
   ]
  },
  {
   "cell_type": "code",
   "execution_count": 16,
   "metadata": {
    "ExecuteTime": {
     "end_time": "2021-10-24T06:41:48.450773Z",
     "start_time": "2021-10-24T06:41:25.443728Z"
    }
   },
   "outputs": [
    {
     "name": "stdout",
     "output_type": "stream",
     "text": [
      "Epoch   0: | Train loss:  0.559 | Val loss:  0.438 | Train Accuracy:  0.803 | Val Accuracy:  0.841 | epoch time:  2.222 |\n",
      "Epoch   1: | Train loss:  0.351 | Val loss:  0.374 | Train Accuracy:  0.872 | Val Accuracy:  0.867 | epoch time:  2.181 |\n",
      "Epoch   2: | Train loss:  0.303 | Val loss:  0.378 | Train Accuracy:  0.889 | Val Accuracy:  0.865 | epoch time:  2.380 |\n",
      "Epoch   3: | Train loss:  0.273 | Val loss:  0.366 | Train Accuracy:  0.900 | Val Accuracy:  0.866 | epoch time:  2.226 |\n",
      "Epoch   4: | Train loss:  0.249 | Val loss:  0.358 | Train Accuracy:  0.908 | Val Accuracy:  0.873 | epoch time:  2.338 |\n",
      "Epoch   5: | Train loss:  0.226 | Val loss:  0.342 | Train Accuracy:  0.917 | Val Accuracy:  0.882 | epoch time:  2.345 |\n",
      "Epoch   6: | Train loss:  0.205 | Val loss:  0.357 | Train Accuracy:  0.926 | Val Accuracy:  0.880 | epoch time:  2.312 |\n",
      "Epoch   7: | Train loss:  0.187 | Val loss:  0.352 | Train Accuracy:  0.932 | Val Accuracy:  0.881 | epoch time:  2.357 |\n",
      "Epoch   8: | Train loss:  0.172 | Val loss:  0.355 | Train Accuracy:  0.938 | Val Accuracy:  0.883 | epoch time:  2.285 |\n",
      "Epoch   9: | Train loss:  0.158 | Val loss:  0.353 | Train Accuracy:  0.944 | Val Accuracy:  0.884 | epoch time:  2.302 |\n"
     ]
    }
   ],
   "source": [
    "oModel  = GetModel()\n",
    "oOptim  = Optimizer(SGDM(lr=1e-2, beta=0.9))\n",
    "nEpochs = 10\n",
    "\n",
    "TrainModel(oModel, oTrainSet, oTestSet, nEpochs, oOptim);"
   ]
  },
  {
   "cell_type": "markdown",
   "metadata": {},
   "source": [
    "#### Question:\n",
    "Which optimizer obtains a better performance after 10 iterations?"
   ]
  },
  {
   "cell_type": "markdown",
   "metadata": {},
   "source": [
    "### Exercise\n",
    "* Implement the `Adam` update rule\n",
    "* Train your model with `Adam` (for 10 epochs).  \n",
    "You should get a better training loss (and also a better validation loss)"
   ]
  },
  {
   "cell_type": "markdown",
   "metadata": {},
   "source": [
    "#### Adam:\n",
    "(start with $t=1$)\n",
    "1. $\\boldsymbol{g}=\\nabla f\\left(\\boldsymbol{p}^{\\left(t\\right)}\\right)$\n",
    "2. $\\boldsymbol{v}^{\\left(t\\right)}=\\beta_{1}\\boldsymbol{v}^{\\left(t-1\\right)}+\\left(1-\\beta_{1}\\right)\\boldsymbol{g}$\n",
    "3. $\\boldsymbol{s}^{\\left(t\\right)}=\\beta_{2}\\boldsymbol{s}^{\\left(t-1\\right)}+\\left(1-\\beta_{2}\\right)\\left(\\boldsymbol{g}\\odot\\boldsymbol{g}\\right)$\n",
    "4. $\\tilde{\\boldsymbol{v}}^{\\left(t\\right)}=\\frac{1}{\\left(1-\\beta_{1}^{t}\\right)}\\boldsymbol{v}^{\\left(t\\right)}$\n",
    "5. $\\tilde{\\boldsymbol{s}}^{\\left(t\\right)}=\\frac{1}{\\left(1-\\beta_{2}^{t}\\right)}\\boldsymbol{s}^{\\left(t\\right)}$\n",
    "6. $\\boldsymbol{p}^{\\left(t+1\\right)}=\\boldsymbol{p}^{\\left(t\\right)}-\\mu\\tilde{\\boldsymbol{v}}^{\\left(t\\right)}\\oslash\\left(\\sqrt{\\tilde{\\boldsymbol{s}}^{\\left(t\\right)}}+\\epsilon\\right)$"
   ]
  },
  {
   "cell_type": "code",
   "execution_count": 17,
   "metadata": {
    "ExecuteTime": {
     "end_time": "2021-10-24T06:42:16.264092Z",
     "start_time": "2021-10-24T06:42:16.194029Z"
    }
   },
   "outputs": [],
   "source": [
    "class Adam:\n",
    "    def __init__(self, lr=1e-3, β1=0.9, β2=0.99, ϵ=1e-8):\n",
    "        self.lr = lr\n",
    "        self.β1 = β1\n",
    "        self.β2 = β2\n",
    "        self.ϵ  = ϵ\n",
    "        \n",
    "    def Step(self, mP, mDp, dState={}):\n",
    "        mV            = dState.get('mV', np.zeros(mP.shape))\n",
    "        mS            = dState.get('mS', np.zeros(mP.shape))\n",
    "        ii            = dState.get('ii', 0) + 1\n",
    "        \n",
    "        mV            = self.β1 * mV + (1 - self.β1) * mDp\n",
    "        mS            = self.β2 * mS + (1 - self.β2) * mDp * mDp\n",
    "        \n",
    "        mTildeV       = mV / (1 - self.β1**ii)\n",
    "        mTildeS       = mS / (1 - self.β2**ii)\n",
    "        \n",
    "        mP           -= self.lr * mTildeV / (np.sqrt(mTildeS) + self.ϵ)\n",
    "        dState['mV']  = mV\n",
    "        dState['mS']  = mS\n",
    "        dState['ii']  = ii\n",
    "        \n",
    "        return mP, dState"
   ]
  },
  {
   "cell_type": "code",
   "execution_count": 18,
   "metadata": {
    "ExecuteTime": {
     "end_time": "2021-10-24T06:42:55.619895Z",
     "start_time": "2021-10-24T06:42:16.999821Z"
    },
    "scrolled": false
   },
   "outputs": [
    {
     "name": "stdout",
     "output_type": "stream",
     "text": [
      "Epoch   0: | Train loss:  0.500 | Val loss:  0.397 | Train Accuracy:  0.824 | Val Accuracy:  0.856 | epoch time:  3.931 |\n",
      "Epoch   1: | Train loss:  0.325 | Val loss:  0.363 | Train Accuracy:  0.882 | Val Accuracy:  0.872 | epoch time:  3.969 |\n",
      "Epoch   2: | Train loss:  0.278 | Val loss:  0.348 | Train Accuracy:  0.898 | Val Accuracy:  0.875 | epoch time:  3.832 |\n",
      "Epoch   3: | Train loss:  0.242 | Val loss:  0.345 | Train Accuracy:  0.910 | Val Accuracy:  0.880 | epoch time:  3.861 |\n",
      "Epoch   4: | Train loss:  0.216 | Val loss:  0.342 | Train Accuracy:  0.920 | Val Accuracy:  0.882 | epoch time:  3.835 |\n",
      "Epoch   5: | Train loss:  0.191 | Val loss:  0.335 | Train Accuracy:  0.929 | Val Accuracy:  0.888 | epoch time:  3.782 |\n",
      "Epoch   6: | Train loss:  0.172 | Val loss:  0.349 | Train Accuracy:  0.937 | Val Accuracy:  0.888 | epoch time:  3.774 |\n",
      "Epoch   7: | Train loss:  0.154 | Val loss:  0.361 | Train Accuracy:  0.943 | Val Accuracy:  0.884 | epoch time:  3.916 |\n",
      "Epoch   8: | Train loss:  0.139 | Val loss:  0.358 | Train Accuracy:  0.950 | Val Accuracy:  0.889 | epoch time:  3.800 |\n",
      "Epoch   9: | Train loss:  0.126 | Val loss:  0.383 | Train Accuracy:  0.953 | Val Accuracy:  0.887 | epoch time:  3.873 |\n"
     ]
    }
   ],
   "source": [
    "oModel  = GetModel()\n",
    "oOptim  = Optimizer(Adam(lr=5e-4, β1=0.9, β2=0.9))\n",
    "nEpochs = 10\n",
    "\n",
    "TrainModel(oModel, oTrainSet, oTestSet, nEpochs, oOptim);"
   ]
  },
  {
   "cell_type": "markdown",
   "metadata": {},
   "source": [
    "#### Extra\n",
    "* Train your model for $30-40$ epochs.\n",
    "* Plot the train\\validation loss\\accuracy as a function of the epochs.\n",
    "* Answer the question:   \n",
    "Does training for many epochs is always the right thing to do?"
   ]
  },
  {
   "cell_type": "code",
   "execution_count": 19,
   "metadata": {
    "ExecuteTime": {
     "end_time": "2021-10-24T06:45:46.529448Z",
     "start_time": "2021-10-24T06:43:11.013238Z"
    }
   },
   "outputs": [
    {
     "name": "stdout",
     "output_type": "stream",
     "text": [
      "Epoch   0: | Train loss:  0.481 | Val loss:  0.398 | Train Accuracy:  0.829 | Val Accuracy:  0.859 | epoch time:  3.697 |\n",
      "Epoch   1: | Train loss:  0.317 | Val loss:  0.393 | Train Accuracy:  0.885 | Val Accuracy:  0.863 | epoch time:  3.800 |\n",
      "Epoch   2: | Train loss:  0.274 | Val loss:  0.346 | Train Accuracy:  0.900 | Val Accuracy:  0.878 | epoch time:  3.712 |\n",
      "Epoch   3: | Train loss:  0.239 | Val loss:  0.348 | Train Accuracy:  0.912 | Val Accuracy:  0.882 | epoch time:  3.682 |\n",
      "Epoch   4: | Train loss:  0.210 | Val loss:  0.338 | Train Accuracy:  0.922 | Val Accuracy:  0.883 | epoch time:  3.743 |\n",
      "Epoch   5: | Train loss:  0.187 | Val loss:  0.340 | Train Accuracy:  0.931 | Val Accuracy:  0.886 | epoch time:  4.011 |\n",
      "Epoch   6: | Train loss:  0.168 | Val loss:  0.356 | Train Accuracy:  0.937 | Val Accuracy:  0.885 | epoch time:  3.907 |\n",
      "Epoch   7: | Train loss:  0.152 | Val loss:  0.363 | Train Accuracy:  0.943 | Val Accuracy:  0.886 | epoch time:  3.881 |\n",
      "Epoch   8: | Train loss:  0.138 | Val loss:  0.379 | Train Accuracy:  0.950 | Val Accuracy:  0.883 | epoch time:  3.893 |\n",
      "Epoch   9: | Train loss:  0.121 | Val loss:  0.394 | Train Accuracy:  0.956 | Val Accuracy:  0.885 | epoch time:  3.833 |\n",
      "Epoch  10: | Train loss:  0.112 | Val loss:  0.376 | Train Accuracy:  0.959 | Val Accuracy:  0.888 | epoch time:  3.823 |\n",
      "Epoch  11: | Train loss:  0.103 | Val loss:  0.402 | Train Accuracy:  0.962 | Val Accuracy:  0.886 | epoch time:  3.955 |\n",
      "Epoch  12: | Train loss:  0.092 | Val loss:  0.414 | Train Accuracy:  0.966 | Val Accuracy:  0.889 | epoch time:  3.768 |\n",
      "Epoch  13: | Train loss:  0.087 | Val loss:  0.417 | Train Accuracy:  0.968 | Val Accuracy:  0.895 | epoch time:  3.732 |\n",
      "Epoch  14: | Train loss:  0.079 | Val loss:  0.444 | Train Accuracy:  0.971 | Val Accuracy:  0.888 | epoch time:  3.772 |\n",
      "Epoch  15: | Train loss:  0.074 | Val loss:  0.471 | Train Accuracy:  0.973 | Val Accuracy:  0.889 | epoch time:  3.871 |\n",
      "Epoch  16: | Train loss:  0.067 | Val loss:  0.499 | Train Accuracy:  0.977 | Val Accuracy:  0.888 | epoch time:  4.010 |\n",
      "Epoch  17: | Train loss:  0.063 | Val loss:  0.495 | Train Accuracy:  0.977 | Val Accuracy:  0.890 | epoch time:  4.115 |\n",
      "Epoch  18: | Train loss:  0.058 | Val loss:  0.510 | Train Accuracy:  0.979 | Val Accuracy:  0.888 | epoch time:  4.031 |\n",
      "Epoch  19: | Train loss:  0.053 | Val loss:  0.547 | Train Accuracy:  0.981 | Val Accuracy:  0.889 | epoch time:  3.989 |\n",
      "Epoch  20: | Train loss:  0.050 | Val loss:  0.573 | Train Accuracy:  0.982 | Val Accuracy:  0.888 | epoch time:  4.071 |\n",
      "Epoch  21: | Train loss:  0.048 | Val loss:  0.563 | Train Accuracy:  0.982 | Val Accuracy:  0.891 | epoch time:  3.945 |\n",
      "Epoch  22: | Train loss:  0.045 | Val loss:  0.583 | Train Accuracy:  0.985 | Val Accuracy:  0.886 | epoch time:  3.820 |\n",
      "Epoch  23: | Train loss:  0.047 | Val loss:  0.610 | Train Accuracy:  0.984 | Val Accuracy:  0.888 | epoch time:  3.878 |\n",
      "Epoch  24: | Train loss:  0.041 | Val loss:  0.612 | Train Accuracy:  0.986 | Val Accuracy:  0.886 | epoch time:  3.856 |\n",
      "Epoch  25: | Train loss:  0.039 | Val loss:  0.648 | Train Accuracy:  0.985 | Val Accuracy:  0.885 | epoch time:  3.931 |\n",
      "Epoch  26: | Train loss:  0.038 | Val loss:  0.632 | Train Accuracy:  0.986 | Val Accuracy:  0.888 | epoch time:  4.016 |\n",
      "Epoch  27: | Train loss:  0.042 | Val loss:  0.695 | Train Accuracy:  0.986 | Val Accuracy:  0.889 | epoch time:  3.947 |\n",
      "Epoch  28: | Train loss:  0.036 | Val loss:  0.664 | Train Accuracy:  0.987 | Val Accuracy:  0.888 | epoch time:  3.899 |\n",
      "Epoch  29: | Train loss:  0.035 | Val loss:  0.680 | Train Accuracy:  0.987 | Val Accuracy:  0.892 | epoch time:  3.871 |\n",
      "Epoch  30: | Train loss:  0.033 | Val loss:  0.654 | Train Accuracy:  0.989 | Val Accuracy:  0.888 | epoch time:  3.960 |\n",
      "Epoch  31: | Train loss:  0.037 | Val loss:  0.697 | Train Accuracy:  0.987 | Val Accuracy:  0.887 | epoch time:  3.869 |\n",
      "Epoch  32: | Train loss:  0.032 | Val loss:  0.705 | Train Accuracy:  0.989 | Val Accuracy:  0.889 | epoch time:  3.942 |\n",
      "Epoch  33: | Train loss:  0.031 | Val loss:  0.755 | Train Accuracy:  0.989 | Val Accuracy:  0.889 | epoch time:  3.837 |\n",
      "Epoch  34: | Train loss:  0.032 | Val loss:  0.728 | Train Accuracy:  0.989 | Val Accuracy:  0.893 | epoch time:  3.849 |\n",
      "Epoch  35: | Train loss:  0.031 | Val loss:  0.775 | Train Accuracy:  0.989 | Val Accuracy:  0.887 | epoch time:  3.993 |\n",
      "Epoch  36: | Train loss:  0.030 | Val loss:  0.746 | Train Accuracy:  0.989 | Val Accuracy:  0.890 | epoch time:  3.805 |\n",
      "Epoch  37: | Train loss:  0.030 | Val loss:  0.817 | Train Accuracy:  0.990 | Val Accuracy:  0.889 | epoch time:  3.984 |\n",
      "Epoch  38: | Train loss:  0.031 | Val loss:  0.755 | Train Accuracy:  0.989 | Val Accuracy:  0.891 | epoch time:  3.895 |\n",
      "Epoch  39: | Train loss:  0.030 | Val loss:  0.787 | Train Accuracy:  0.990 | Val Accuracy:  0.894 | epoch time:  3.851 |\n"
     ]
    }
   ],
   "source": [
    "oModel  = GetModel()\n",
    "oOptim  = Optimizer(Adam(lr=5e-4, β1=0.9, β2=0.9))\n",
    "nEpochs = 40\n",
    "\n",
    "vTrainLoss, vTrainAcc, vValLoss, vValAcc = TrainModel(oModel, oTrainSet, oTestSet, nEpochs, oOptim)"
   ]
  },
  {
   "cell_type": "code",
   "execution_count": 23,
   "metadata": {
    "ExecuteTime": {
     "end_time": "2021-10-24T06:46:37.532827Z",
     "start_time": "2021-10-24T06:46:37.315462Z"
    }
   },
   "outputs": [
    {
     "data": {
      "image/png": "[encoded data removed]",
      "text/plain": [
       "<Figure size 1800x500 with 2 Axes>"
      ]
     },
     "metadata": {},
     "output_type": "display_data"
    }
   ],
   "source": [
    "plt.figure(figsize=(18, 5))\n",
    "\n",
    "plt.subplot(1,2,1)\n",
    "plt.plot   (vTrainLoss, 'b', lw=2, label='Train'     )\n",
    "plt.plot   (vValLoss,   'r', lw=2, label='Validation')\n",
    "plt.title  ('Loss')\n",
    "plt.xlabel ('epoch')\n",
    "plt.ylim   (bottom=0)\n",
    "plt.legend ()\n",
    "plt.grid   ()\n",
    "\n",
    "plt.subplot(1,2,2)\n",
    "plt.plot   (vTrainAcc, 'b', lw=2, label='Train'     )\n",
    "plt.plot   (vValAcc,   'r', lw=2, label='Validation')\n",
    "plt.title  ('Accuracy')\n",
    "plt.xlabel ('epoch')\n",
    "plt.ylim   (top=1)\n",
    "plt.legend ()\n",
    "plt.grid   ()\n",
    "plt.show   ()"
   ]
  },
  {
   "cell_type": "code",
   "execution_count": null,
   "metadata": {},
   "outputs": [],
   "source": []
  }
 ],
 "metadata": {
  "kernelspec": {
   "display_name": "Python 3",
   "language": "python",
   "name": "python3"
  },
  "language_info": {
   "codemirror_mode": {
    "name": "ipython",
    "version": 3
   },
   "file_extension": ".py",
   "mimetype": "text/x-python",
   "name": "python",
   "nbconvert_exporter": "python",
   "pygments_lexer": "ipython3",
   "version": "3.8.11"
  },
  "toc": {
   "base_numbering": 1,
   "nav_menu": {},
   "number_sections": false,
   "sideBar": true,
   "skip_h1_title": false,
   "title_cell": "Table of Contents",
   "title_sidebar": "Contents",
   "toc_cell": false,
   "toc_position": {},
   "toc_section_display": true,
   "toc_window_display": false
  },
  "varInspector": {
   "cols": {
    "lenName": 16,
    "lenType": 16,
    "lenVar": 40
   },
   "kernels_config": {
    "python": {
     "delete_cmd_postfix": "",
     "delete_cmd_prefix": "del ",
     "library": "var_list.py",
     "varRefreshCmd": "print(var_dic_list())"
    },
    "r": {
     "delete_cmd_postfix": ") ",
     "delete_cmd_prefix": "rm(",
     "library": "var_list.r",
     "varRefreshCmd": "cat(var_dic_list()) "
    }
   },
   "types_to_exclude": [
    "module",
    "function",
    "builtin_function_or_method",
    "instance",
    "_Feature"
   ],
   "window_display": false
  }
 },
 "nbformat": 4,
 "nbformat_minor": 4
}
