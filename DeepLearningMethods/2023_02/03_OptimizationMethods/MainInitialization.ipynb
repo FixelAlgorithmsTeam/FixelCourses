{
 "cells": [
  {
   "cell_type": "markdown",
   "metadata": {},
   "source": [
    "![Fixel Algorithms](https://fixelalgorithms.co/images/CCExt.png)"
   ]
  },
  {
   "cell_type": "markdown",
   "metadata": {},
   "source": [
    "# <center> Deep Learning Methods </center>\n",
    "## <center> Lecture 3 - Optimization Methods </center>\n",
    "### <center> Data Pre-processing and Weights Initialization</center>"
   ]
  },
  {
   "cell_type": "markdown",
   "metadata": {},
   "source": [
    "[![Open In Colab](https://colab.research.google.com/assets/colab-badge.svg)](https://colab.research.google.com/github/FixelAlgorithmsTeam/FixelCourses/blob/master/DeepLearningMethods/03_OptimizationMethods/MainInitialization.ipynb)"
   ]
  },
  {
   "cell_type": "code",
   "execution_count": 1,
   "metadata": {
    "ExecuteTime": {
     "end_time": "2022-07-25T18:13:45.162042Z",
     "start_time": "2022-07-25T18:13:45.147029Z"
    }
   },
   "outputs": [
    {
     "data": {
      "text/html": [
       "<style>.container { width:80% !important; }</style>"
      ],
      "text/plain": [
       "<IPython.core.display.HTML object>"
      ]
     },
     "metadata": {},
     "output_type": "display_data"
    }
   ],
   "source": [
    "#-- Wide screen:\n",
    "from IPython.display import HTML\n",
    "display(HTML(\"<style>.container { width:80% !important; }</style>\"))"
   ]
  },
  {
   "cell_type": "code",
   "execution_count": 2,
   "metadata": {
    "ExecuteTime": {
     "end_time": "2022-07-25T18:13:48.044893Z",
     "start_time": "2022-07-25T18:13:47.416645Z"
    }
   },
   "outputs": [],
   "source": [
    "import numpy             as np\n",
    "import matplotlib.pyplot as plt\n",
    "import matplotlib\n",
    "\n",
    "np.random.seed(1)"
   ]
  },
  {
   "cell_type": "markdown",
   "metadata": {},
   "source": [
    "###  What we have so far:\n",
    "This part will keep growing.  \n",
    "We will move this to its own module."
   ]
  },
  {
   "cell_type": "code",
   "execution_count": 3,
   "metadata": {
    "ExecuteTime": {
     "end_time": "2022-07-25T18:13:56.775813Z",
     "start_time": "2022-07-25T18:13:56.738779Z"
    }
   },
   "outputs": [],
   "source": [
    "class ReLULayer:\n",
    "    def __init__(self):\n",
    "        self.dParams = {}\n",
    "        self.dGrads  = {}\n",
    "    \n",
    "    def Forward(self, mX):\n",
    "        self.mX = mX                 #-- store for Backward\n",
    "        mZ      = np.maximum(mX, 0)\n",
    "        \n",
    "        return mZ\n",
    "    \n",
    "    def Backward(self, mDz):\n",
    "        mX    = self.mX\n",
    "        mMask = (mX > 0).astype(np.float32)\n",
    "        mDx   = mDz * mMask\n",
    "                \n",
    "        return mDx\n",
    "\n",
    "#--------------------------------------------------------------------------------#\n",
    "#--------------------------------------------------------------------------------#\n",
    "def CrossEntropyLoss(vY, mZ):\n",
    "    '''\n",
    "    Returns both the loss and the gradient w.r.t the input (mZ)\n",
    "    '''\n",
    "    N      = len(vY)\n",
    "    mHatY  = np.exp(mZ)\n",
    "    mHatY /= np.sum(mHatY, axis=0)\n",
    "    loss   = -np.log(mHatY[vY,range(N)]).mean()\n",
    "    \n",
    "    mDz               = mHatY\n",
    "    mDz[vY,range(N)] -= 1\n",
    "    mDz              /= N\n",
    "    \n",
    "    return loss, mDz\n",
    "\n",
    "#--------------------------------------------------------------------------------#\n",
    "#--------------------------------------------------------------------------------#\n",
    "class Model:\n",
    "    def __init__(self, lLayers):\n",
    "        self.lLayers = lLayers\n",
    "\n",
    "    def Forward(self, mX):\n",
    "        for oLayer in self.lLayers:\n",
    "            mX = oLayer.Forward(mX)\n",
    "        return mX\n",
    "\n",
    "    def Backward(self, mDz):\n",
    "        for oLayer in reversed(self.lLayers):\n",
    "            mDz = oLayer.Backward(mDz)"
   ]
  },
  {
   "cell_type": "markdown",
   "metadata": {},
   "source": [
    "#### Adding Kaiming (and Xavier) initialization to the linear layer:\n",
    "$$\\boldsymbol{W}\\left[i,j\\right]=\\mathcal{N}\\left(0,\\sigma_w^2\\right)$$\n",
    "where:\n",
    "* Xavier - $\\sigma_{w}^{2}=\\frac{1}{d}$\n",
    "* Kaiming - $\\sigma_{w}^{2}=\\frac{2}{d}$\n",
    "* $d$ is the input dimension."
   ]
  },
  {
   "cell_type": "code",
   "execution_count": 4,
   "metadata": {
    "ExecuteTime": {
     "end_time": "2022-07-25T18:14:02.319039Z",
     "start_time": "2022-07-25T18:14:02.299021Z"
    }
   },
   "outputs": [],
   "source": [
    "class LinearLayer:\n",
    "    def __init__(self, dIn, dOut, init='Kaiming'):\n",
    "        if   init == 'Kaiming': mW = np.random.randn(dOut, dIn) * np.sqrt(2 / dIn)\n",
    "        elif init == 'Xavier':  mW = np.random.randn(dOut, dIn) * np.sqrt(1 / dIn)\n",
    "        else:                   mW = np.random.randn(dOut, dIn) / dIn #-- this is how we initialize previously\n",
    "        \n",
    "        vB = np.zeros(dOut)\n",
    "\n",
    "        self.dParams = {'mW' : mW,   'vB': vB}\n",
    "        self.dGrads  = {'mW' : None, 'vB' : None}\n",
    "\n",
    "    def Forward(self, mX):\n",
    "        mW      = self.dParams['mW']\n",
    "        vB      = self.dParams['vB']\n",
    "        self.mX = mX                   #-- store for Backward\n",
    "        mZ      = mW @ mX + vB[:,None]\n",
    "\n",
    "        return mZ\n",
    "\n",
    "    def Backward(self, mDz):\n",
    "        mW  = self.dParams['mW']\n",
    "        mX  = self.mX\n",
    "        \n",
    "        vDb = mDz.sum(1)\n",
    "        mDw = mDz  @ mX.T\n",
    "        mDx = mW.T @ mDz\n",
    "        \n",
    "        self.dGrads['vB'] = vDb\n",
    "        self.dGrads['mW'] = mDw\n",
    "\n",
    "        return mDx\n"
   ]
  },
  {
   "cell_type": "markdown",
   "metadata": {},
   "source": [
    "### Get Fashion MNIST dataset\n",
    "We use the test set for validation."
   ]
  },
  {
   "cell_type": "code",
   "execution_count": 5,
   "metadata": {
    "ExecuteTime": {
     "end_time": "2022-07-25T18:14:06.072616Z",
     "start_time": "2022-07-25T18:14:04.955478Z"
    }
   },
   "outputs": [
    {
     "data": {
      "text/plain": [
       "((60000, 784), (60000,), (10000, 784), (10000,))"
      ]
     },
     "execution_count": 5,
     "metadata": {},
     "output_type": "execute_result"
    }
   ],
   "source": [
    "import torchvision\n",
    "import torchvision.transforms as transforms\n",
    "\n",
    "#-- For now, we use PyTorch just to get the data:\n",
    "oTrainSet = torchvision.datasets.FashionMNIST(root='../../data', train=True,  download=True, transform=transforms.ToTensor())\n",
    "oTestSet  = torchvision.datasets.FashionMNIST(root='../../data', train=False, download=True, transform=transforms.ToTensor())\n",
    "\n",
    "lClasses = oTrainSet.classes\n",
    "mTrainX  = oTrainSet.data.view(-1,784).numpy() / 255\n",
    "mTestX   = oTestSet .data.view(-1,784).numpy() / 255\n",
    "vTrainY  = oTrainSet.targets.numpy()\n",
    "vTestY   = oTestSet .targets.numpy()\n",
    "\n",
    "(\n",
    "mTrainX.shape, \n",
    "vTrainY.shape, \n",
    "mTestX .shape,  \n",
    "vTestY .shape\n",
    ")"
   ]
  },
  {
   "cell_type": "markdown",
   "metadata": {},
   "source": [
    "#### Classes:"
   ]
  },
  {
   "cell_type": "code",
   "execution_count": 6,
   "metadata": {
    "ExecuteTime": {
     "end_time": "2022-07-25T18:14:13.496664Z",
     "start_time": "2022-07-25T18:14:13.484653Z"
    }
   },
   "outputs": [
    {
     "data": {
      "text/plain": [
       "[(0, 'T-shirt/top'),\n",
       " (1, 'Trouser'),\n",
       " (2, 'Pullover'),\n",
       " (3, 'Dress'),\n",
       " (4, 'Coat'),\n",
       " (5, 'Sandal'),\n",
       " (6, 'Shirt'),\n",
       " (7, 'Sneaker'),\n",
       " (8, 'Bag'),\n",
       " (9, 'Ankle boot')]"
      ]
     },
     "execution_count": 6,
     "metadata": {},
     "output_type": "execute_result"
    }
   ],
   "source": [
    "list(zip(range(10), lClasses))"
   ]
  },
  {
   "cell_type": "code",
   "execution_count": 8,
   "metadata": {
    "ExecuteTime": {
     "end_time": "2022-07-25T18:14:22.491924Z",
     "start_time": "2022-07-25T18:14:22.173041Z"
    }
   },
   "outputs": [
    {
     "data": {
      "image/png": "[encoded data removed]",
      "text/plain": [
       "<Figure size 864x432 with 6 Axes>"
      ]
     },
     "metadata": {
      "needs_background": "light"
     },
     "output_type": "display_data"
    }
   ],
   "source": [
    "#-- Plot a few examples:\n",
    "N, d   = mTrainX.shape\n",
    "fig, _ = plt.subplots(2, 3, figsize=(12, 6))\n",
    "for ax in fig.axes:\n",
    "    idx = np.random.randint(N)\n",
    "    ax.imshow   (np.reshape(mTrainX[idx,:], (28, 28)), cmap='gray')\n",
    "    ax.set_title(f'True label: {lClasses[vTrainY[idx]]}')\n",
    "    \n",
    "plt.tight_layout()\n",
    "plt.show()"
   ]
  },
  {
   "cell_type": "markdown",
   "metadata": {},
   "source": [
    "### Define the training loop:\n",
    "`mScore` is the network output (before the softmax), a.k.a <u>logits</u>."
   ]
  },
  {
   "cell_type": "code",
   "execution_count": 9,
   "metadata": {
    "ExecuteTime": {
     "end_time": "2022-07-25T18:14:53.601657Z",
     "start_time": "2022-07-25T18:14:53.590647Z"
    }
   },
   "outputs": [],
   "source": [
    "import time\n",
    "\n",
    "#-- Classification accuracy:\n",
    "def Accuracy(mScore, vY):\n",
    "    vHatY    = np.argmax(mScore, axis=0)\n",
    "    accuracy = (vHatY == vY).mean()\n",
    "    return accuracy\n",
    "    \n",
    "#--------------------------------------------------------------------------------#\n",
    "#--------------------------------------------------------------------------------#\n",
    "def TrainEpoch(oModel, mX, vY, learningRate):\n",
    "    #-- Forward:\n",
    "    mZ        = oModel.Forward(mX)\n",
    "    loss, mDz = CrossEntropyLoss(vY, mZ)\n",
    "\n",
    "    #-- Backward:\n",
    "    oModel.Backward(mDz)\n",
    "\n",
    "    #-- Update parameters (vanilla gradient descnet)\n",
    "    for oLayer in oModel.lLayers:\n",
    "        for sParam in oLayer.dGrads:\n",
    "            oLayer.dParams[sParam] -= learningRate * oLayer.dGrads[sParam]\n",
    "              \n",
    "    #-- Check accuracy:\n",
    "    acc = Accuracy(mZ, vY)\n",
    "            \n",
    "    return loss, acc\n",
    "\n",
    "#--------------------------------------------------------------------------------#\n",
    "#--------------------------------------------------------------------------------#\n",
    "def ValidationEpoch(oModel, mX, vY):\n",
    "    #-- Forward:\n",
    "    mZ      = oModel.Forward(mX)\n",
    "    loss, _ = CrossEntropyLoss(vY, mZ)\n",
    "    acc     = Accuracy(mZ, vY)\n",
    "    \n",
    "    return loss, acc"
   ]
  },
  {
   "cell_type": "code",
   "execution_count": 10,
   "metadata": {
    "ExecuteTime": {
     "end_time": "2022-07-25T18:15:00.153293Z",
     "start_time": "2022-07-25T18:15:00.139281Z"
    }
   },
   "outputs": [],
   "source": [
    "def TrainModel(oModel, mTrainX, vTrainY, mValX, vValY, numEpochs, learningRate):\n",
    "    lTrainLoss = []\n",
    "    lValLoss   = []\n",
    "    lTrainAcc  = []\n",
    "    lValAcc    = []\n",
    "    for epoch in range(numEpochs):\n",
    "        startTime           = time.time()\n",
    "        trainLoss, trainAcc = TrainEpoch     (oModel, mTrainX, vTrainY, learningRate) #-- train\n",
    "        valLoss,   valAcc   = ValidationEpoch(oModel, mValX,   vValY)                 #-- validation\n",
    "        endTime             = time.time()\n",
    "\n",
    "        #-- Display:\n",
    "        print('Epoch '              f'{epoch              :3d}:',  end='')\n",
    "        print(' | Train loss: '     f'{trainLoss          :6.3f}', end='')\n",
    "        print(' | Val loss: '       f'{valLoss            :6.3f}', end='')\n",
    "        print(' | Train Accuracy: ' f'{trainAcc           :6.3f}', end='')\n",
    "        print(' | Val Accuracy: '   f'{valAcc             :6.3f}', end='')\n",
    "        print(' | epoch time: '     f'{(endTime-startTime):6.3f} |')\n",
    "        \n",
    "        lTrainLoss.append(trainLoss)\n",
    "        lValLoss  .append(valLoss  )\n",
    "        lTrainAcc .append(trainAcc )\n",
    "        lValAcc   .append(valAcc   )\n",
    "    \n",
    "    return lTrainLoss, lValLoss, lTrainAcc, lValAcc"
   ]
  },
  {
   "cell_type": "markdown",
   "metadata": {},
   "source": [
    "#### Train <u>without</u> normalizing and initialization:"
   ]
  },
  {
   "cell_type": "code",
   "execution_count": 11,
   "metadata": {
    "ExecuteTime": {
     "end_time": "2022-07-25T18:15:44.431429Z",
     "start_time": "2022-07-25T18:15:27.609533Z"
    }
   },
   "outputs": [
    {
     "name": "stdout",
     "output_type": "stream",
     "text": [
      "Epoch   0: | Train loss:  2.303 | Val loss:  2.301 | Train Accuracy:  0.107 | Val Accuracy:  0.345 | epoch time:  0.626 |\n",
      "Epoch   1: | Train loss:  2.301 | Val loss:  2.300 | Train Accuracy:  0.344 | Val Accuracy:  0.440 | epoch time:  0.590 |\n",
      "Epoch   2: | Train loss:  2.300 | Val loss:  2.298 | Train Accuracy:  0.444 | Val Accuracy:  0.457 | epoch time:  0.597 |\n",
      "Epoch   3: | Train loss:  2.298 | Val loss:  2.296 | Train Accuracy:  0.466 | Val Accuracy:  0.478 | epoch time:  0.549 |\n",
      "Epoch   4: | Train loss:  2.296 | Val loss:  2.293 | Train Accuracy:  0.487 | Val Accuracy:  0.482 | epoch time:  0.556 |\n",
      "Epoch   5: | Train loss:  2.293 | Val loss:  2.288 | Train Accuracy:  0.490 | Val Accuracy:  0.467 | epoch time:  0.540 |\n",
      "Epoch   6: | Train loss:  2.288 | Val loss:  2.283 | Train Accuracy:  0.476 | Val Accuracy:  0.442 | epoch time:  0.540 |\n",
      "Epoch   7: | Train loss:  2.283 | Val loss:  2.275 | Train Accuracy:  0.447 | Val Accuracy:  0.405 | epoch time:  0.525 |\n",
      "Epoch   8: | Train loss:  2.275 | Val loss:  2.264 | Train Accuracy:  0.408 | Val Accuracy:  0.357 | epoch time:  0.535 |\n",
      "Epoch   9: | Train loss:  2.264 | Val loss:  2.249 | Train Accuracy:  0.361 | Val Accuracy:  0.311 | epoch time:  0.549 |\n",
      "Epoch  10: | Train loss:  2.249 | Val loss:  2.230 | Train Accuracy:  0.314 | Val Accuracy:  0.266 | epoch time:  0.536 |\n",
      "Epoch  11: | Train loss:  2.230 | Val loss:  2.206 | Train Accuracy:  0.266 | Val Accuracy:  0.237 | epoch time:  0.554 |\n",
      "Epoch  12: | Train loss:  2.206 | Val loss:  2.176 | Train Accuracy:  0.238 | Val Accuracy:  0.221 | epoch time:  0.567 |\n",
      "Epoch  13: | Train loss:  2.176 | Val loss:  2.140 | Train Accuracy:  0.224 | Val Accuracy:  0.230 | epoch time:  0.550 |\n",
      "Epoch  14: | Train loss:  2.140 | Val loss:  2.099 | Train Accuracy:  0.233 | Val Accuracy:  0.272 | epoch time:  0.543 |\n",
      "Epoch  15: | Train loss:  2.098 | Val loss:  2.051 | Train Accuracy:  0.274 | Val Accuracy:  0.327 | epoch time:  0.559 |\n",
      "Epoch  16: | Train loss:  2.051 | Val loss:  1.999 | Train Accuracy:  0.330 | Val Accuracy:  0.359 | epoch time:  0.545 |\n",
      "Epoch  17: | Train loss:  1.998 | Val loss:  1.941 | Train Accuracy:  0.365 | Val Accuracy:  0.378 | epoch time:  0.552 |\n",
      "Epoch  18: | Train loss:  1.940 | Val loss:  1.881 | Train Accuracy:  0.383 | Val Accuracy:  0.388 | epoch time:  0.565 |\n",
      "Epoch  19: | Train loss:  1.880 | Val loss:  1.821 | Train Accuracy:  0.393 | Val Accuracy:  0.395 | epoch time:  0.567 |\n",
      "Epoch  20: | Train loss:  1.819 | Val loss:  1.762 | Train Accuracy:  0.398 | Val Accuracy:  0.405 | epoch time:  0.582 |\n",
      "Epoch  21: | Train loss:  1.760 | Val loss:  1.707 | Train Accuracy:  0.405 | Val Accuracy:  0.409 | epoch time:  0.553 |\n",
      "Epoch  22: | Train loss:  1.705 | Val loss:  1.656 | Train Accuracy:  0.412 | Val Accuracy:  0.419 | epoch time:  0.561 |\n",
      "Epoch  23: | Train loss:  1.654 | Val loss:  1.608 | Train Accuracy:  0.423 | Val Accuracy:  0.439 | epoch time:  0.546 |\n",
      "Epoch  24: | Train loss:  1.606 | Val loss:  1.564 | Train Accuracy:  0.444 | Val Accuracy:  0.478 | epoch time:  0.565 |\n",
      "Epoch  25: | Train loss:  1.561 | Val loss:  1.523 | Train Accuracy:  0.482 | Val Accuracy:  0.506 | epoch time:  0.537 |\n",
      "Epoch  26: | Train loss:  1.520 | Val loss:  1.485 | Train Accuracy:  0.513 | Val Accuracy:  0.520 | epoch time:  0.581 |\n",
      "Epoch  27: | Train loss:  1.482 | Val loss:  1.450 | Train Accuracy:  0.530 | Val Accuracy:  0.532 | epoch time:  0.568 |\n",
      "Epoch  28: | Train loss:  1.446 | Val loss:  1.417 | Train Accuracy:  0.541 | Val Accuracy:  0.541 | epoch time:  0.578 |\n",
      "Epoch  29: | Train loss:  1.413 | Val loss:  1.386 | Train Accuracy:  0.550 | Val Accuracy:  0.548 | epoch time:  0.579 |\n"
     ]
    }
   ],
   "source": [
    "oModel = Model([\n",
    "        LinearLayer(784, 200, init=None), ReLULayer(),\n",
    "        LinearLayer(200, 10,  init=None),\n",
    "])\n",
    "\n",
    "nEpochs = 30\n",
    "lr      = 2e-1\n",
    "\n",
    "_, lValLossV1, _, lValAccV1 = TrainModel(oModel, mTrainX.T, vTrainY, mTestX.T, vTestY, nEpochs, lr)"
   ]
  },
  {
   "cell_type": "markdown",
   "metadata": {},
   "source": [
    "####  Normalize data:\n",
    "Based on the training data"
   ]
  },
  {
   "cell_type": "code",
   "execution_count": 12,
   "metadata": {
    "ExecuteTime": {
     "end_time": "2022-07-25T18:15:51.461570Z",
     "start_time": "2022-07-25T18:15:51.239368Z"
    }
   },
   "outputs": [],
   "source": [
    "vMean = mTrainX.mean(0)\n",
    "vStd  = mTrainX.std (0)\n",
    "\n",
    "mTrainX -= vMean\n",
    "mTestX  -= vMean\n",
    "mTrainX /= vStd\n",
    "mTestX  /= vStd"
   ]
  },
  {
   "cell_type": "markdown",
   "metadata": {},
   "source": [
    "#### Train <u>with</u> normalizing and initialization:"
   ]
  },
  {
   "cell_type": "code",
   "execution_count": 13,
   "metadata": {
    "ExecuteTime": {
     "end_time": "2022-07-25T18:16:12.742715Z",
     "start_time": "2022-07-25T18:15:54.717264Z"
    }
   },
   "outputs": [
    {
     "name": "stdout",
     "output_type": "stream",
     "text": [
      "Epoch   0: | Train loss:  2.634 | Val loss:  1.263 | Train Accuracy:  0.086 | Val Accuracy:  0.549 | epoch time:  0.569 |\n",
      "Epoch   1: | Train loss:  1.259 | Val loss:  1.069 | Train Accuracy:  0.548 | Val Accuracy:  0.643 | epoch time:  0.649 |\n",
      "Epoch   2: | Train loss:  1.052 | Val loss:  0.986 | Train Accuracy:  0.647 | Val Accuracy:  0.653 | epoch time:  0.623 |\n",
      "Epoch   3: | Train loss:  0.980 | Val loss:  1.057 | Train Accuracy:  0.659 | Val Accuracy:  0.628 | epoch time:  0.595 |\n",
      "Epoch   4: | Train loss:  1.035 | Val loss:  1.074 | Train Accuracy:  0.639 | Val Accuracy:  0.646 | epoch time:  0.623 |\n",
      "Epoch   5: | Train loss:  1.066 | Val loss:  0.904 | Train Accuracy:  0.653 | Val Accuracy:  0.668 | epoch time:  0.569 |\n",
      "Epoch   6: | Train loss:  0.888 | Val loss:  0.836 | Train Accuracy:  0.680 | Val Accuracy:  0.712 | epoch time:  0.610 |\n",
      "Epoch   7: | Train loss:  0.824 | Val loss:  0.756 | Train Accuracy:  0.716 | Val Accuracy:  0.727 | epoch time:  0.622 |\n",
      "Epoch   8: | Train loss:  0.740 | Val loss:  0.725 | Train Accuracy:  0.734 | Val Accuracy:  0.748 | epoch time:  0.578 |\n",
      "Epoch   9: | Train loss:  0.710 | Val loss:  0.699 | Train Accuracy:  0.753 | Val Accuracy:  0.749 | epoch time:  0.588 |\n",
      "Epoch  10: | Train loss:  0.680 | Val loss:  0.682 | Train Accuracy:  0.756 | Val Accuracy:  0.760 | epoch time:  0.589 |\n",
      "Epoch  11: | Train loss:  0.665 | Val loss:  0.665 | Train Accuracy:  0.766 | Val Accuracy:  0.760 | epoch time:  0.637 |\n",
      "Epoch  12: | Train loss:  0.645 | Val loss:  0.654 | Train Accuracy:  0.768 | Val Accuracy:  0.769 | epoch time:  0.600 |\n",
      "Epoch  13: | Train loss:  0.636 | Val loss:  0.640 | Train Accuracy:  0.776 | Val Accuracy:  0.769 | epoch time:  0.578 |\n",
      "Epoch  14: | Train loss:  0.619 | Val loss:  0.632 | Train Accuracy:  0.777 | Val Accuracy:  0.776 | epoch time:  0.591 |\n",
      "Epoch  15: | Train loss:  0.612 | Val loss:  0.621 | Train Accuracy:  0.786 | Val Accuracy:  0.776 | epoch time:  0.591 |\n",
      "Epoch  16: | Train loss:  0.599 | Val loss:  0.615 | Train Accuracy:  0.785 | Val Accuracy:  0.781 | epoch time:  0.602 |\n",
      "Epoch  17: | Train loss:  0.594 | Val loss:  0.608 | Train Accuracy:  0.792 | Val Accuracy:  0.784 | epoch time:  0.611 |\n",
      "Epoch  18: | Train loss:  0.585 | Val loss:  0.605 | Train Accuracy:  0.790 | Val Accuracy:  0.782 | epoch time:  0.590 |\n",
      "Epoch  19: | Train loss:  0.584 | Val loss:  0.603 | Train Accuracy:  0.794 | Val Accuracy:  0.785 | epoch time:  0.605 |\n",
      "Epoch  20: | Train loss:  0.580 | Val loss:  0.605 | Train Accuracy:  0.791 | Val Accuracy:  0.783 | epoch time:  0.558 |\n",
      "Epoch  21: | Train loss:  0.583 | Val loss:  0.608 | Train Accuracy:  0.793 | Val Accuracy:  0.784 | epoch time:  0.615 |\n",
      "Epoch  22: | Train loss:  0.585 | Val loss:  0.609 | Train Accuracy:  0.788 | Val Accuracy:  0.779 | epoch time:  0.621 |\n",
      "Epoch  23: | Train loss:  0.587 | Val loss:  0.610 | Train Accuracy:  0.790 | Val Accuracy:  0.783 | epoch time:  0.633 |\n",
      "Epoch  24: | Train loss:  0.587 | Val loss:  0.603 | Train Accuracy:  0.787 | Val Accuracy:  0.782 | epoch time:  0.600 |\n",
      "Epoch  25: | Train loss:  0.580 | Val loss:  0.593 | Train Accuracy:  0.793 | Val Accuracy:  0.789 | epoch time:  0.587 |\n",
      "Epoch  26: | Train loss:  0.569 | Val loss:  0.581 | Train Accuracy:  0.795 | Val Accuracy:  0.790 | epoch time:  0.602 |\n",
      "Epoch  27: | Train loss:  0.557 | Val loss:  0.569 | Train Accuracy:  0.801 | Val Accuracy:  0.798 | epoch time:  0.604 |\n",
      "Epoch  28: | Train loss:  0.545 | Val loss:  0.560 | Train Accuracy:  0.804 | Val Accuracy:  0.798 | epoch time:  0.578 |\n",
      "Epoch  29: | Train loss:  0.535 | Val loss:  0.551 | Train Accuracy:  0.809 | Val Accuracy:  0.806 | epoch time:  0.594 |\n"
     ]
    }
   ],
   "source": [
    "oModel = Model([\n",
    "        LinearLayer(784, 200, init='Kaiming'),\n",
    "        ReLULayer(),\n",
    "        LinearLayer(200, 10,  init='Xavier'),   \n",
    "])\n",
    "\n",
    "nEpochs = 30\n",
    "lr      = 2e-1\n",
    "\n",
    "_, lValLossV2, _, lValAccV2 = TrainModel(oModel, mTrainX.T, vTrainY, mTestX.T, vTestY, nEpochs, lr)"
   ]
  },
  {
   "cell_type": "markdown",
   "metadata": {},
   "source": [
    "### Compare the two configurations:"
   ]
  },
  {
   "cell_type": "code",
   "execution_count": 14,
   "metadata": {
    "ExecuteTime": {
     "end_time": "2022-07-25T18:16:28.152040Z",
     "start_time": "2022-07-25T18:16:27.954941Z"
    }
   },
   "outputs": [
    {
     "data": {
      "image/png": "[encoded data removed]",
      "text/plain": [
       "<Figure size 1152x432 with 2 Axes>"
      ]
     },
     "metadata": {
      "needs_background": "light"
     },
     "output_type": "display_data"
    }
   ],
   "source": [
    "plt.figure(figsize=(16, 6))\n",
    "plt.subplot(1,2,1)\n",
    "plt.plot   (lValLossV1, 'b', label='without normalization and initialization')\n",
    "plt.plot   (lValLossV2, 'r', label='with normalization and initialization')\n",
    "plt.title  ('Validation loss')\n",
    "plt.xlabel ('Epoch')\n",
    "plt.grid   ()\n",
    "plt.legend ()\n",
    "\n",
    "plt.subplot(1,2,2)\n",
    "plt.plot   (lValAccV1, 'b', label='without normalization and initialization')\n",
    "plt.plot   (lValAccV2, 'r', label='with normalization and initialization')\n",
    "plt.title  ('Validation accuracy')\n",
    "plt.xlabel ('Epoch')\n",
    "plt.grid   ()\n",
    "plt.legend ()\n",
    "\n",
    "plt.tight_layout()\n",
    "plt.show()"
   ]
  },
  {
   "cell_type": "markdown",
   "metadata": {},
   "source": [
    "### Exercise\n",
    "Implement the `CountParameters` function\n",
    "* Input: A model.\n",
    "* Output: The number of parameters in the model."
   ]
  },
  {
   "cell_type": "code",
   "execution_count": 14,
   "metadata": {
    "ExecuteTime": {
     "end_time": "2021-10-24T05:57:29.003718Z",
     "start_time": "2021-10-24T05:57:28.988704Z"
    }
   },
   "outputs": [],
   "source": [
    "def CountParameters(oModel):\n",
    "    ???\n",
    "\n",
    "    return nParams"
   ]
  },
  {
   "cell_type": "code",
   "execution_count": 15,
   "metadata": {
    "ExecuteTime": {
     "end_time": "2021-10-24T05:57:29.226920Z",
     "start_time": "2021-10-24T05:57:29.004719Z"
    }
   },
   "outputs": [
    {
     "name": "stdout",
     "output_type": "stream",
     "text": [
      "Object `?` not found.\n"
     ]
    },
    {
     "ename": "NameError",
     "evalue": "name 'nParams' is not defined",
     "output_type": "error",
     "traceback": [
      "\u001b[1;31m---------------------------------------------------------------------------\u001b[0m",
      "\u001b[1;31mNameError\u001b[0m                                 Traceback (most recent call last)",
      "\u001b[1;32m<ipython-input-15-0b26293d4858>\u001b[0m in \u001b[0;36m<module>\u001b[1;34m\u001b[0m\n\u001b[0;32m      5\u001b[0m ])\n\u001b[0;32m      6\u001b[0m \u001b[1;33m\u001b[0m\u001b[0m\n\u001b[1;32m----> 7\u001b[1;33m \u001b[0mCountParameters\u001b[0m\u001b[1;33m(\u001b[0m\u001b[0moModel\u001b[0m\u001b[1;33m)\u001b[0m\u001b[1;33m\u001b[0m\u001b[1;33m\u001b[0m\u001b[0m\n\u001b[0m",
      "\u001b[1;32m<ipython-input-14-2c2dd153c506>\u001b[0m in \u001b[0;36mCountParameters\u001b[1;34m(oModel)\u001b[0m\n\u001b[0;32m      2\u001b[0m     \u001b[0mget_ipython\u001b[0m\u001b[1;33m(\u001b[0m\u001b[1;33m)\u001b[0m\u001b[1;33m.\u001b[0m\u001b[0mrun_line_magic\u001b[0m\u001b[1;33m(\u001b[0m\u001b[1;34m'pinfo2'\u001b[0m\u001b[1;33m,\u001b[0m \u001b[1;34m'?'\u001b[0m\u001b[1;33m)\u001b[0m\u001b[1;33m\u001b[0m\u001b[1;33m\u001b[0m\u001b[0m\n\u001b[0;32m      3\u001b[0m \u001b[1;33m\u001b[0m\u001b[0m\n\u001b[1;32m----> 4\u001b[1;33m     \u001b[1;32mreturn\u001b[0m \u001b[0mnParams\u001b[0m\u001b[1;33m\u001b[0m\u001b[1;33m\u001b[0m\u001b[0m\n\u001b[0m",
      "\u001b[1;31mNameError\u001b[0m: name 'nParams' is not defined"
     ]
    }
   ],
   "source": [
    "oModel = Model([\n",
    "    LinearLayer(784, 200, init=None), ReLULayer(),\n",
    "    LinearLayer(200, 150, init=None), ReLULayer(),\n",
    "    LinearLayer(150, 10,  init=None),\n",
    "])\n",
    "\n",
    "CountParameters(oModel)"
   ]
  },
  {
   "cell_type": "code",
   "execution_count": null,
   "metadata": {},
   "outputs": [],
   "source": []
  },
  {
   "cell_type": "code",
   "execution_count": null,
   "metadata": {},
   "outputs": [],
   "source": []
  },
  {
   "cell_type": "code",
   "execution_count": null,
   "metadata": {},
   "outputs": [],
   "source": []
  },
  {
   "cell_type": "code",
   "execution_count": null,
   "metadata": {},
   "outputs": [],
   "source": []
  },
  {
   "cell_type": "code",
   "execution_count": null,
   "metadata": {},
   "outputs": [],
   "source": []
  },
  {
   "cell_type": "code",
   "execution_count": null,
   "metadata": {},
   "outputs": [],
   "source": []
  },
  {
   "cell_type": "code",
   "execution_count": null,
   "metadata": {},
   "outputs": [],
   "source": []
  },
  {
   "cell_type": "code",
   "execution_count": null,
   "metadata": {},
   "outputs": [],
   "source": []
  },
  {
   "cell_type": "code",
   "execution_count": null,
   "metadata": {},
   "outputs": [],
   "source": []
  },
  {
   "cell_type": "code",
   "execution_count": null,
   "metadata": {},
   "outputs": [],
   "source": []
  },
  {
   "cell_type": "code",
   "execution_count": null,
   "metadata": {},
   "outputs": [],
   "source": []
  },
  {
   "cell_type": "code",
   "execution_count": null,
   "metadata": {},
   "outputs": [],
   "source": []
  },
  {
   "cell_type": "code",
   "execution_count": null,
   "metadata": {},
   "outputs": [],
   "source": []
  },
  {
   "cell_type": "code",
   "execution_count": null,
   "metadata": {},
   "outputs": [],
   "source": []
  },
  {
   "cell_type": "code",
   "execution_count": null,
   "metadata": {},
   "outputs": [],
   "source": []
  },
  {
   "cell_type": "code",
   "execution_count": null,
   "metadata": {},
   "outputs": [],
   "source": []
  },
  {
   "cell_type": "code",
   "execution_count": null,
   "metadata": {},
   "outputs": [],
   "source": []
  },
  {
   "cell_type": "code",
   "execution_count": null,
   "metadata": {},
   "outputs": [],
   "source": []
  },
  {
   "cell_type": "code",
   "execution_count": null,
   "metadata": {},
   "outputs": [],
   "source": []
  },
  {
   "cell_type": "code",
   "execution_count": null,
   "metadata": {},
   "outputs": [],
   "source": []
  },
  {
   "cell_type": "code",
   "execution_count": null,
   "metadata": {},
   "outputs": [],
   "source": []
  },
  {
   "cell_type": "code",
   "execution_count": null,
   "metadata": {},
   "outputs": [],
   "source": []
  },
  {
   "cell_type": "code",
   "execution_count": null,
   "metadata": {},
   "outputs": [],
   "source": []
  },
  {
   "cell_type": "code",
   "execution_count": null,
   "metadata": {},
   "outputs": [],
   "source": []
  },
  {
   "cell_type": "code",
   "execution_count": null,
   "metadata": {},
   "outputs": [],
   "source": []
  },
  {
   "cell_type": "code",
   "execution_count": null,
   "metadata": {},
   "outputs": [],
   "source": []
  },
  {
   "cell_type": "code",
   "execution_count": null,
   "metadata": {},
   "outputs": [],
   "source": []
  },
  {
   "cell_type": "code",
   "execution_count": null,
   "metadata": {},
   "outputs": [],
   "source": []
  },
  {
   "cell_type": "code",
   "execution_count": null,
   "metadata": {},
   "outputs": [],
   "source": []
  },
  {
   "cell_type": "code",
   "execution_count": null,
   "metadata": {},
   "outputs": [],
   "source": []
  },
  {
   "cell_type": "code",
   "execution_count": null,
   "metadata": {},
   "outputs": [],
   "source": []
  },
  {
   "cell_type": "code",
   "execution_count": null,
   "metadata": {},
   "outputs": [],
   "source": []
  },
  {
   "cell_type": "code",
   "execution_count": null,
   "metadata": {},
   "outputs": [],
   "source": []
  },
  {
   "cell_type": "code",
   "execution_count": null,
   "metadata": {},
   "outputs": [],
   "source": []
  },
  {
   "cell_type": "code",
   "execution_count": null,
   "metadata": {},
   "outputs": [],
   "source": []
  },
  {
   "cell_type": "code",
   "execution_count": null,
   "metadata": {},
   "outputs": [],
   "source": []
  },
  {
   "cell_type": "code",
   "execution_count": null,
   "metadata": {},
   "outputs": [],
   "source": []
  },
  {
   "cell_type": "code",
   "execution_count": null,
   "metadata": {},
   "outputs": [],
   "source": []
  },
  {
   "cell_type": "code",
   "execution_count": null,
   "metadata": {},
   "outputs": [],
   "source": []
  },
  {
   "cell_type": "code",
   "execution_count": null,
   "metadata": {},
   "outputs": [],
   "source": []
  },
  {
   "cell_type": "code",
   "execution_count": null,
   "metadata": {},
   "outputs": [],
   "source": []
  },
  {
   "cell_type": "code",
   "execution_count": null,
   "metadata": {},
   "outputs": [],
   "source": []
  },
  {
   "cell_type": "code",
   "execution_count": null,
   "metadata": {},
   "outputs": [],
   "source": []
  },
  {
   "cell_type": "code",
   "execution_count": null,
   "metadata": {},
   "outputs": [],
   "source": []
  },
  {
   "cell_type": "code",
   "execution_count": null,
   "metadata": {},
   "outputs": [],
   "source": []
  },
  {
   "cell_type": "code",
   "execution_count": null,
   "metadata": {},
   "outputs": [],
   "source": []
  },
  {
   "cell_type": "code",
   "execution_count": null,
   "metadata": {},
   "outputs": [],
   "source": []
  },
  {
   "cell_type": "code",
   "execution_count": null,
   "metadata": {},
   "outputs": [],
   "source": []
  },
  {
   "cell_type": "code",
   "execution_count": null,
   "metadata": {},
   "outputs": [],
   "source": []
  },
  {
   "cell_type": "code",
   "execution_count": null,
   "metadata": {},
   "outputs": [],
   "source": []
  },
  {
   "cell_type": "code",
   "execution_count": null,
   "metadata": {},
   "outputs": [],
   "source": []
  },
  {
   "cell_type": "code",
   "execution_count": null,
   "metadata": {},
   "outputs": [],
   "source": []
  },
  {
   "cell_type": "code",
   "execution_count": null,
   "metadata": {},
   "outputs": [],
   "source": []
  },
  {
   "cell_type": "code",
   "execution_count": null,
   "metadata": {},
   "outputs": [],
   "source": []
  },
  {
   "cell_type": "code",
   "execution_count": null,
   "metadata": {},
   "outputs": [],
   "source": []
  },
  {
   "cell_type": "code",
   "execution_count": null,
   "metadata": {},
   "outputs": [],
   "source": []
  },
  {
   "cell_type": "code",
   "execution_count": null,
   "metadata": {},
   "outputs": [],
   "source": []
  },
  {
   "cell_type": "code",
   "execution_count": null,
   "metadata": {},
   "outputs": [],
   "source": []
  },
  {
   "cell_type": "code",
   "execution_count": null,
   "metadata": {},
   "outputs": [],
   "source": []
  },
  {
   "cell_type": "code",
   "execution_count": null,
   "metadata": {},
   "outputs": [],
   "source": []
  },
  {
   "cell_type": "code",
   "execution_count": null,
   "metadata": {},
   "outputs": [],
   "source": []
  },
  {
   "cell_type": "code",
   "execution_count": null,
   "metadata": {},
   "outputs": [],
   "source": []
  },
  {
   "cell_type": "code",
   "execution_count": null,
   "metadata": {},
   "outputs": [],
   "source": []
  },
  {
   "cell_type": "code",
   "execution_count": null,
   "metadata": {},
   "outputs": [],
   "source": []
  },
  {
   "cell_type": "code",
   "execution_count": null,
   "metadata": {},
   "outputs": [],
   "source": []
  },
  {
   "cell_type": "code",
   "execution_count": null,
   "metadata": {},
   "outputs": [],
   "source": []
  },
  {
   "cell_type": "code",
   "execution_count": null,
   "metadata": {},
   "outputs": [],
   "source": []
  },
  {
   "cell_type": "code",
   "execution_count": null,
   "metadata": {},
   "outputs": [],
   "source": []
  },
  {
   "cell_type": "code",
   "execution_count": null,
   "metadata": {
    "ExecuteTime": {
     "end_time": "2021-10-24T05:57:29.227921Z",
     "start_time": "2021-10-24T05:56:53.693Z"
    }
   },
   "outputs": [],
   "source": [
    "# def CountParameters(oModel):\n",
    "#     nParams = 0\n",
    "#     for oLayer in oModel.lLayers:\n",
    "#         for key in oLayer.dParams:\n",
    "#             nParams += oLayer.dParams[key].size()\n",
    "\n",
    "#     return nParams"
   ]
  }
 ],
 "metadata": {
  "kernelspec": {
   "display_name": "Python 3 (ipykernel)",
   "language": "python",
   "name": "python3"
  },
  "language_info": {
   "codemirror_mode": {
    "name": "ipython",
    "version": 3
   },
   "file_extension": ".py",
   "mimetype": "text/x-python",
   "name": "python",
   "nbconvert_exporter": "python",
   "pygments_lexer": "ipython3",
   "version": "3.8.13"
  },
  "toc": {
   "base_numbering": 1,
   "nav_menu": {},
   "number_sections": false,
   "sideBar": true,
   "skip_h1_title": false,
   "title_cell": "Table of Contents",
   "title_sidebar": "Contents",
   "toc_cell": false,
   "toc_position": {},
   "toc_section_display": true,
   "toc_window_display": false
  },
  "varInspector": {
   "cols": {
    "lenName": 16,
    "lenType": 16,
    "lenVar": 40
   },
   "kernels_config": {
    "python": {
     "delete_cmd_postfix": "",
     "delete_cmd_prefix": "del ",
     "library": "var_list.py",
     "varRefreshCmd": "print(var_dic_list())"
    },
    "r": {
     "delete_cmd_postfix": ") ",
     "delete_cmd_prefix": "rm(",
     "library": "var_list.r",
     "varRefreshCmd": "cat(var_dic_list()) "
    }
   },
   "types_to_exclude": [
    "module",
    "function",
    "builtin_function_or_method",
    "instance",
    "_Feature"
   ],
   "window_display": false
  }
 },
 "nbformat": 4,
 "nbformat_minor": 4
}
