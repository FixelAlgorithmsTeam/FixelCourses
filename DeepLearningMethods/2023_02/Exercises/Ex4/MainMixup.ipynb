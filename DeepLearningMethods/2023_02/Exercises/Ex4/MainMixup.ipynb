{
 "cells": [
  {
   "cell_type": "markdown",
   "metadata": {
    "slideshow": {
     "slide_type": "slide"
    }
   },
   "source": [
    "![Fixel Algorithms](https://fixelalgorithms.co/images/CCExt.png)"
   ]
  },
  {
   "cell_type": "markdown",
   "metadata": {},
   "source": [
    "# <center> Deep Learning Methods </center>\n",
    "## <center> Exercise 4: Mixup </center>\n",
    "### <center> Fashion MNIST </center>"
   ]
  },
  {
   "cell_type": "markdown",
   "metadata": {},
   "source": [
    "Colab users should use GPU runtime:  \n",
    "[![Open In Colab](https://colab.research.google.com/assets/colab-badge.svg)](https://colab.research.google.com/github/FixelAlgorithmsTeam/FixelCourses/blob/master/DeepLearningMethods/07_PyTorch2/MainPyTorchTensorBoard.ipynb)"
   ]
  },
  {
   "cell_type": "code",
   "execution_count": 1,
   "metadata": {
    "ExecuteTime": {
     "end_time": "2021-11-09T10:39:40.767197Z",
     "start_time": "2021-11-09T10:39:40.747178Z"
    },
    "execution": {
     "iopub.execute_input": "2021-09-28T20:49:40.250220Z",
     "iopub.status.busy": "2021-09-28T20:49:40.249218Z",
     "iopub.status.idle": "2021-09-28T20:49:40.266233Z",
     "shell.execute_reply": "2021-09-28T20:49:40.266233Z",
     "shell.execute_reply.started": "2021-09-28T20:49:40.250220Z"
    },
    "tags": []
   },
   "outputs": [
    {
     "data": {
      "text/html": [
       "<style>.container { width:80% !important; }</style>"
      ],
      "text/plain": [
       "<IPython.core.display.HTML object>"
      ]
     },
     "metadata": {},
     "output_type": "display_data"
    }
   ],
   "source": [
    "#-- Wide screen:\n",
    "from IPython.core.display import display, HTML\n",
    "display(HTML(\"<style>.container { width:80% !important; }</style>\"))"
   ]
  },
  {
   "cell_type": "code",
   "execution_count": 2,
   "metadata": {
    "ExecuteTime": {
     "end_time": "2021-11-09T10:39:41.067300Z",
     "start_time": "2021-11-09T10:39:41.034271Z"
    },
    "execution": {
     "iopub.execute_input": "2021-09-28T20:49:40.613611Z",
     "iopub.status.busy": "2021-09-28T20:49:40.613611Z",
     "iopub.status.idle": "2021-09-28T20:49:40.636632Z",
     "shell.execute_reply": "2021-09-28T20:49:40.636632Z",
     "shell.execute_reply.started": "2021-09-28T20:49:40.613611Z"
    },
    "tags": []
   },
   "outputs": [],
   "source": [
    "#-- Auto reload:\n",
    "%load_ext autoreload\n",
    "%autoreload 2"
   ]
  },
  {
   "cell_type": "code",
   "execution_count": 4,
   "metadata": {
    "ExecuteTime": {
     "end_time": "2021-11-09T10:41:35.664582Z",
     "start_time": "2021-11-09T10:41:35.589923Z"
    },
    "execution": {
     "iopub.execute_input": "2021-09-28T20:49:42.340677Z",
     "iopub.status.busy": "2021-09-28T20:49:42.340677Z",
     "iopub.status.idle": "2021-09-28T20:49:42.618846Z",
     "shell.execute_reply": "2021-09-28T20:49:42.618846Z",
     "shell.execute_reply.started": "2021-09-28T20:49:42.340677Z"
    },
    "tags": []
   },
   "outputs": [],
   "source": [
    "import numpy             as np\n",
    "import matplotlib.pyplot as plt\n",
    "import matplotlib\n",
    "\n",
    "import torch\n",
    "import torchvision\n",
    "import torchinfo\n",
    "\n",
    "torch.backends.cudnn.benchmark = True"
   ]
  },
  {
   "cell_type": "markdown",
   "metadata": {
    "slideshow": {
     "slide_type": "slide"
    }
   },
   "source": [
    "### Exercise (Mixup)\n",
    "* Get (at least) above $91\\%$ accuracy on the fashion MNIST dataset.\n",
    "* Implement and use the mixup regularization.\n",
    "* You may use other techniques as well (dropout, augmentations, etc.)\n",
    "* Nowadays, the best accuracy is $96.91\\%$."
   ]
  },
  {
   "cell_type": "code",
   "execution_count": 14,
   "metadata": {},
   "outputs": [
    {
     "name": "stdout",
     "output_type": "stream",
     "text": [
      "Object `?` not found.\n"
     ]
    }
   ],
   "source": [
    "???"
   ]
  }
 ],
 "metadata": {
  "kernelspec": {
   "display_name": "Python 3",
   "language": "python",
   "name": "python3"
  },
  "language_info": {
   "codemirror_mode": {
    "name": "ipython",
    "version": 3
   },
   "file_extension": ".py",
   "mimetype": "text/x-python",
   "name": "python",
   "nbconvert_exporter": "python",
   "pygments_lexer": "ipython3",
   "version": "3.8.12"
  },
  "toc": {
   "base_numbering": 1,
   "nav_menu": {},
   "number_sections": false,
   "sideBar": true,
   "skip_h1_title": false,
   "title_cell": "Table of Contents",
   "title_sidebar": "Contents",
   "toc_cell": false,
   "toc_position": {},
   "toc_section_display": true,
   "toc_window_display": false
  },
  "varInspector": {
   "cols": {
    "lenName": 16,
    "lenType": 16,
    "lenVar": 40
   },
   "kernels_config": {
    "python": {
     "delete_cmd_postfix": "",
     "delete_cmd_prefix": "del ",
     "library": "var_list.py",
     "varRefreshCmd": "print(var_dic_list())"
    },
    "r": {
     "delete_cmd_postfix": ") ",
     "delete_cmd_prefix": "rm(",
     "library": "var_list.r",
     "varRefreshCmd": "cat(var_dic_list()) "
    }
   },
   "oldHeight": 413,
   "position": {
    "height": "435px",
    "left": "1650px",
    "right": "20px",
    "top": "120px",
    "width": "250px"
   },
   "types_to_exclude": [
    "module",
    "function",
    "builtin_function_or_method",
    "instance",
    "_Feature"
   ],
   "varInspector_section_display": "block",
   "window_display": true
  }
 },
 "nbformat": 4,
 "nbformat_minor": 4
}
