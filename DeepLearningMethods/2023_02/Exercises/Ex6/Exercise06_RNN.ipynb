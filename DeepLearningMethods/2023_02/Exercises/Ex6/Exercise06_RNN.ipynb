{
 "cells": [
  {
   "cell_type": "markdown",
   "id": "concrete-plenty",
   "metadata": {},
   "source": [
    "![Fixel Algorithms](https://fixelalgorithms.co/images/CCExt.png)"
   ]
  },
  {
   "cell_type": "markdown",
   "id": "oriented-mattress",
   "metadata": {},
   "source": [
    "# <center> Deep Learning Methods </center>\n",
    "## <center> Exercise 6 - RNN </center>\n",
    "### <center> One to Many RNN </center>"
   ]
  },
  {
   "cell_type": "markdown",
   "id": "declared-sentence",
   "metadata": {},
   "source": [
    "[![Open In Colab](https://colab.research.google.com/assets/colab-badge.svg)](https://colab.research.google.com/github/FixelAlgorithmsTeam/FixelCourses/blob/master/DeepLearningMethods/Exercises/Ex6/Exercise06_RNN.ipynb)"
   ]
  },
  {
   "cell_type": "code",
   "execution_count": 1,
   "id": "acting-northwest",
   "metadata": {
    "ExecuteTime": {
     "end_time": "2021-11-18T19:42:53.132770Z",
     "start_time": "2021-11-18T19:42:53.113249Z"
    }
   },
   "outputs": [
    {
     "data": {
      "text/html": [
       "<style>.container { width:80% !important; }</style>"
      ],
      "text/plain": [
       "<IPython.core.display.HTML object>"
      ]
     },
     "metadata": {},
     "output_type": "display_data"
    }
   ],
   "source": [
    "#-- Wide screen:\n",
    "from IPython.core.display import display, HTML\n",
    "display(HTML(\"<style>.container { width:80% !important; }</style>\"))"
   ]
  },
  {
   "cell_type": "code",
   "execution_count": 2,
   "id": "german-genesis",
   "metadata": {
    "ExecuteTime": {
     "end_time": "2021-11-18T19:42:54.194680Z",
     "start_time": "2021-11-18T19:42:54.152642Z"
    }
   },
   "outputs": [],
   "source": [
    "#-- Auto reload:\n",
    "%load_ext autoreload\n",
    "%autoreload 2"
   ]
  },
  {
   "cell_type": "code",
   "execution_count": 4,
   "id": "9dc7a577",
   "metadata": {
    "ExecuteTime": {
     "end_time": "2021-10-14T15:09:19.701349Z",
     "start_time": "2021-10-14T15:09:19.646829Z"
    }
   },
   "outputs": [],
   "source": [
    "if 'google.colab' in str(get_ipython()):\n",
    "    !npx degit FixelAlgorithmsTeam/FixelCourses/DeepLearningMethods/Exercises/Ex6/DeepLearningFramework ./DeepLearningFramework"
   ]
  },
  {
   "cell_type": "code",
   "execution_count": 3,
   "id": "auburn-stage",
   "metadata": {
    "ExecuteTime": {
     "end_time": "2021-11-18T19:42:56.741185Z",
     "start_time": "2021-11-18T19:42:55.431412Z"
    }
   },
   "outputs": [],
   "source": [
    "import numpy             as np\n",
    "import matplotlib.pyplot as plt\n",
    "\n",
    "import torch\n",
    "import torch.nn    as nn\n",
    "import torch.optim as optim\n",
    "import torchtext\n",
    "\n",
    "from torchtext.vocab import Vocab"
   ]
  },
  {
   "cell_type": "markdown",
   "id": "careful-indian",
   "metadata": {},
   "source": [
    "### Exercise:\n",
    "Use the `Names` dataset to generate new names.\n",
    "* **Input**: A language\n",
    "* **Output**: A generated name"
   ]
  },
  {
   "cell_type": "markdown",
   "id": "dressed-struggle",
   "metadata": {},
   "source": [
    "### Load the data:"
   ]
  },
  {
   "cell_type": "code",
   "execution_count": 4,
   "id": "blessed-tissue",
   "metadata": {
    "ExecuteTime": {
     "end_time": "2021-11-18T19:43:49.476145Z",
     "start_time": "2021-11-18T19:43:49.397073Z"
    }
   },
   "outputs": [
    {
     "name": "stdout",
     "output_type": "stream",
     "text": [
      "Some names : ['Wakefield    ', 'Mansour      ', 'Balakshin    ', 'Lejava       ', 'Atterton     ']\n",
      "Some labels: ['English      ', 'Arabic       ', 'Russian      ', 'Russian      ', 'English      ']\n"
     ]
    }
   ],
   "source": [
    "mData   = np.load('NamesData.npy')\n",
    "lNames  = mData[:,0]\n",
    "lLabels = mData[:,1]\n",
    "N       = mData.shape[0]\n",
    "\n",
    "vIdx    = np.random.randint(0, N, (5,))\n",
    "print(f'Some names : {[f\"{lNames [idx]:13}\" for idx in vIdx]}')\n",
    "print(f'Some labels: {[f\"{lLabels[idx]:13}\" for idx in vIdx]}')"
   ]
  },
  {
   "cell_type": "markdown",
   "id": "psychological-sally",
   "metadata": {},
   "source": [
    "#### Build the vocabulary:\n",
    "We add `<SOS>`, `<EOS>`, and `<PAD>` to the vocabulary"
   ]
  },
  {
   "cell_type": "code",
   "execution_count": 5,
   "id": "b2a3ee90",
   "metadata": {
    "ExecuteTime": {
     "end_time": "2021-11-18T19:43:50.658934Z",
     "start_time": "2021-11-18T19:43:50.588871Z"
    }
   },
   "outputs": [
    {
     "name": "stdout",
     "output_type": "stream",
     "text": [
      "|V| = 55\n"
     ]
    },
    {
     "data": {
      "text/plain": [
       "[3, 4, 5, 29, 30, 54]"
      ]
     },
     "execution_count": 5,
     "metadata": {},
     "output_type": "execute_result"
    }
   ],
   "source": [
    "from string          import ascii_letters\n",
    "from torchtext.vocab import build_vocab_from_iterator\n",
    "\n",
    "oVocab = build_vocab_from_iterator([c for c in ascii_letters], specials=('<SOS>', '<EOS>', '<PAD>'))\n",
    "V      = len(oVocab)\n",
    "\n",
    "\n",
    "print (f'|V| = {V}')\n",
    "oVocab(['A', 'B', 'C', 'a', 'b', 'z'])"
   ]
  },
  {
   "cell_type": "markdown",
   "id": "spoken-questionnaire",
   "metadata": {},
   "source": [
    "#### Label encoder:"
   ]
  },
  {
   "cell_type": "code",
   "execution_count": 6,
   "id": "billion-financing",
   "metadata": {
    "ExecuteTime": {
     "end_time": "2021-11-18T19:43:52.206904Z",
     "start_time": "2021-11-18T19:43:51.788939Z"
    }
   },
   "outputs": [
    {
     "name": "stdout",
     "output_type": "stream",
     "text": [
      "Number of labels: 18\n",
      "Labels:         \n",
      "['Arabic' 'Chinese' 'Czech' 'Dutch' 'English' 'French' 'German' 'Greek'\n",
      " 'Irish' 'Italian' 'Japanese' 'Korean' 'Polish' 'Portuguese' 'Russian'\n",
      " 'Scottish' 'Spanish' 'Vietnamese']\n"
     ]
    }
   ],
   "source": [
    "from sklearn.preprocessing import LabelEncoder\n",
    "\n",
    "oLabelEncoder = LabelEncoder().fit(lLabels)\n",
    "nLabels       = len(oLabelEncoder.classes_)\n",
    "\n",
    "print(f'Number of labels: {nLabels}'               )\n",
    "print(f'Labels:         \\n{oLabelEncoder.classes_}')"
   ]
  },
  {
   "cell_type": "markdown",
   "id": "functional-grass",
   "metadata": {},
   "source": [
    "#### String to tensor:"
   ]
  },
  {
   "cell_type": "code",
   "execution_count": 8,
   "id": "aging-frost",
   "metadata": {
    "ExecuteTime": {
     "end_time": "2021-11-18T19:44:41.534144Z",
     "start_time": "2021-11-18T19:44:41.464082Z"
    }
   },
   "outputs": [
    {
     "data": {
      "text/plain": [
       "(tensor([12, 43, 42, 33, 47,  1]), 'Jones<EOS>')"
      ]
     },
     "execution_count": 8,
     "metadata": {},
     "output_type": "execute_result"
    }
   ],
   "source": [
    "def Name2Tensor(name):\n",
    "    lName = list(name) + ['<EOS>']\n",
    "    return torch.tensor(oVocab(lName))\n",
    "\n",
    "def Tensor2Name(vName):\n",
    "    return ''.join([oVocab.get_itos()[e] for e in vName])\n",
    "\n",
    "name  = 'Jones'\n",
    "vName = Name2Tensor(name)\n",
    "\n",
    "Name2Tensor(name), Tensor2Name(vName)"
   ]
  },
  {
   "cell_type": "markdown",
   "id": "structured-finnish",
   "metadata": {},
   "source": [
    "#### Dataset:\n",
    "`__getitem__`:\n",
    "* `vName` is the tensor version of the string `name`.\n",
    "* `labelIdx` is the integer represents the class `label`."
   ]
  },
  {
   "cell_type": "code",
   "execution_count": 9,
   "id": "third-fiction",
   "metadata": {
    "ExecuteTime": {
     "end_time": "2021-10-14T14:46:14.939987Z",
     "start_time": "2021-10-14T14:46:14.885543Z"
    }
   },
   "outputs": [
    {
     "data": {
      "text/plain": [
       "('Nguyen<EOS>', 'Vietnamese')"
      ]
     },
     "execution_count": 9,
     "metadata": {},
     "output_type": "execute_result"
    }
   ],
   "source": [
    "class NameDataset(torch.utils.data.Dataset):\n",
    "    def __init__(self, lNames, lLabels):\n",
    "        self.lNames  = lNames\n",
    "        self.lLabels = lLabels\n",
    "        \n",
    "    def __len__(self):\n",
    "        return len(self.lNames)\n",
    "    \n",
    "    def __getitem__(self, idx):\n",
    "        vName    = ???\n",
    "        labelIdx = ???\n",
    "        return vName, labelIdx\n",
    "    \n",
    "oDataset        = NameDataset(lNames, lLabels)\n",
    "vName, labelIdx = oDataset[20001]\n",
    "\n",
    "Tensor2Name(vName), oLabelEncoder.inverse_transform([labelIdx])[0]"
   ]
  },
  {
   "cell_type": "code",
   "execution_count": 10,
   "id": "royal-broadway",
   "metadata": {
    "ExecuteTime": {
     "end_time": "2021-10-14T14:46:17.193489Z",
     "start_time": "2021-10-14T14:46:17.139848Z"
    }
   },
   "outputs": [
    {
     "data": {
      "text/plain": [
       "(15000, 5074)"
      ]
     },
     "execution_count": 10,
     "metadata": {},
     "output_type": "execute_result"
    }
   ],
   "source": [
    "from torch.utils.data import random_split\n",
    "\n",
    "N                   = mData.shape[0]\n",
    "nTrain              = 15000\n",
    "nTest               = N - nTrain\n",
    "oTrainSet, oTestSet = random_split(oDataset, [nTrain, nTest], generator=torch.Generator().manual_seed(42))\n",
    "\n",
    "len(oTrainSet), len(oTestSet)"
   ]
  },
  {
   "cell_type": "markdown",
   "id": "silver-globe",
   "metadata": {},
   "source": [
    "#### Data loader:\n",
    "Use `pad_sequence` (and not `packed_sequence`)."
   ]
  },
  {
   "cell_type": "code",
   "execution_count": 11,
   "id": "enhanced-morris",
   "metadata": {
    "ExecuteTime": {
     "end_time": "2021-10-14T14:46:30.590204Z",
     "start_time": "2021-10-14T14:46:30.517584Z"
    }
   },
   "outputs": [
    {
     "data": {
      "text/plain": [
       "(torch.Size([128]), torch.Size([128, 14]))"
      ]
     },
     "execution_count": 11,
     "metadata": {},
     "output_type": "execute_result"
    }
   ],
   "source": [
    "from torch.utils.data   import DataLoader\n",
    "from torch.nn.utils.rnn import pad_sequence\n",
    "\n",
    "def NamesCollate(lBatch):\n",
    "    lNames, lLabel = zip         (*lBatch)\n",
    "    vLabel         = torch.tensor(lLabel, dtype=torch.long)\n",
    "    mName          = pad_sequence(lNames, padding_value=oVocab['<PAD>'], batch_first=True)\n",
    "    \n",
    "    return (vLabel, mName)\n",
    "\n",
    "batchSize = 128\n",
    "oTrainDL  = DataLoader(oTrainSet, shuffle=True,  batch_size=1*batchSize, collate_fn=NamesCollate)\n",
    "oTestDL   = DataLoader(oTestSet,  shuffle=False, batch_size=2*batchSize, collate_fn=NamesCollate)\n",
    "\n",
    "vLabel, mName  = next(iter(oTrainDL))\n",
    "vLabel.shape, mName.shape"
   ]
  },
  {
   "cell_type": "markdown",
   "id": "portuguese-poultry",
   "metadata": {},
   "source": [
    "#### RNN decoder:\n",
    "`forward` implements a single pass through the RNN."
   ]
  },
  {
   "cell_type": "code",
   "execution_count": 12,
   "id": "piano-aquarium",
   "metadata": {
    "ExecuteTime": {
     "end_time": "2021-10-14T14:46:38.393037Z",
     "start_time": "2021-10-14T14:46:38.335741Z"
    }
   },
   "outputs": [],
   "source": [
    "#-- V = Vocabulary\n",
    "#-- D = Embedding\n",
    "#-- H = Hidden state\n",
    "class DecoderRNN(nn.Module):\n",
    "    def __init__(self, V, D, H):\n",
    "        super(DecoderRNN, self).__init__()\n",
    "        self.oEmbedding = nn.???\n",
    "        self.oGRU       = nn.???\n",
    "        self.oLinear    = nn.???\n",
    "        \n",
    "    def forward(self, vChar, mH):\n",
    "        #-- vChar.shape = (N,)\n",
    "        #-- mH   .shape = (1, N, H)\n",
    "        \n",
    "        mE     = ???  #-- mE   .shape = (1, N, D)\n",
    "        _, mH  = ???  #-- mH   .shape = (1, N, H)\n",
    "        mZ     = ???  #-- mZ   .shape = (N, V)\n",
    "        return mZ, mH"
   ]
  },
  {
   "cell_type": "markdown",
   "id": "gross-swimming",
   "metadata": {},
   "source": [
    "#### A small test:"
   ]
  },
  {
   "cell_type": "code",
   "execution_count": 13,
   "id": "committed-minnesota",
   "metadata": {
    "ExecuteTime": {
     "end_time": "2021-10-14T14:46:40.337308Z",
     "start_time": "2021-10-14T14:46:40.255752Z"
    }
   },
   "outputs": [
    {
     "data": {
      "text/plain": [
       "(torch.Size([128, 55]), torch.Size([1, 128, 32]))"
      ]
     },
     "execution_count": 13,
     "metadata": {},
     "output_type": "execute_result"
    }
   ],
   "source": [
    "V   = len(oVocab)\n",
    "D   = 16\n",
    "H   = 32\n",
    "\n",
    "mH     = torch.randn(1, batchSize, H)\n",
    "vChar  = mName[:,0]\n",
    "mZ, mH = DecoderRNN(V, D, H)(vChar, mH)\n",
    "\n",
    "mZ.shape, mH.shape"
   ]
  },
  {
   "cell_type": "markdown",
   "id": "nonprofit-asthma",
   "metadata": {},
   "source": [
    "#### Full model:\n",
    "The labels are being embedded and feed into the first hidden state."
   ]
  },
  {
   "cell_type": "code",
   "execution_count": 14,
   "id": "0d611eaa",
   "metadata": {
    "ExecuteTime": {
     "end_time": "2021-10-14T14:48:23.572768Z",
     "start_time": "2021-10-14T14:48:23.469904Z"
    }
   },
   "outputs": [
    {
     "data": {
      "text/plain": [
       "torch.Size([128, 55, 14])"
      ]
     },
     "execution_count": 14,
     "metadata": {},
     "output_type": "execute_result"
    }
   ],
   "source": [
    "V = len(oVocab)\n",
    "\n",
    "class OneToMany(nn.Module):\n",
    "    def __init__(self):\n",
    "        super(OneToMany, self).__init__()\n",
    "        \n",
    "        D               = 16\n",
    "        H               = 32\n",
    "        self.oEmbedding = nn.???    #-- label encoder\n",
    "        self.oDecoder   = DecoderRNN(???)\n",
    "\n",
    "    def forward(self, vLabel, mName, pTeacher=0):\n",
    "        #-- vLabel.shape = (N,)\n",
    "        #-- mName .shape = (N, T)\n",
    "        device   = vLabel.device\n",
    "        N, T     = mName.shape                           \n",
    "        mLogits  = torch.zeros((N, V, T), device=device) #-- mLogits.shape = (N, V, T)\n",
    "        bTeacher = torch.rand(1) < pTeacher\n",
    "                                                         \n",
    "        #-- Encoder = Embedding\n",
    "        mLabelE = self.???              #-- mLabelE .shape = (N, H)\n",
    "        \n",
    "        mH      = ???                   #-- mH       .shape = (1, N,   H)\n",
    "        vCharIn = torch.ones(N, device=device)          #-- vCharIn  .shape = (N,)\n",
    "        vCharIn = oVocab['<SOS>'] * vCharIn.long()\n",
    "        for ii in range(T):\n",
    "            mZ, mH          = ??? #-- mZ.shape = (N, V)\n",
    "                                  #-- mH.shape = (L, N, H)\n",
    "            mLogits[:,:,ii] = ???\n",
    "           \n",
    "            if bTeacher == True:\n",
    "                vCharIn = ???     #-- vCharIn.shape(N)\n",
    "            else:\n",
    "                vCharIn = ???     #-- vCharIn.shape(N)\n",
    "        \n",
    "        return mLogits\n",
    "                \n",
    "mWordOut = OneToMany()(vLabel, mName, 0.5)\n",
    "mWordOut.shape"
   ]
  },
  {
   "cell_type": "markdown",
   "id": "talented-booth",
   "metadata": {},
   "source": [
    "#### Train:"
   ]
  },
  {
   "cell_type": "code",
   "execution_count": 15,
   "id": "f18a49fd",
   "metadata": {
    "ExecuteTime": {
     "end_time": "2021-10-14T14:48:26.470052Z",
     "start_time": "2021-10-14T14:48:26.413847Z"
    }
   },
   "outputs": [],
   "source": [
    "def Epoch(oModel, oDataDL, Loss, Metric, oOptim=None, oScheduler=None, bTrain=True):\n",
    "\n",
    "    epochLoss   = 0\n",
    "    epochMetric = 0\n",
    "    count       = 0\n",
    "    nIter       = len(oDataDL)\n",
    "    vLR         = np.full(nIter, np.nan)\n",
    "    DEVICE      = next(oModel.parameters()).device #-- CPU\\GPU\n",
    "\n",
    "\n",
    "    oModel.train(bTrain) #-- train or test\n",
    "\n",
    "    #-- Iterate over the mini-batches:\n",
    "    for ii, (mFeatures, mCaption) in enumerate(oDataDL):\n",
    "        #-- Move to device (CPU\\GPU):\n",
    "        mFeatures = mFeatures.to(DEVICE)\n",
    "        mCaption  = mCaption .to(DEVICE)\n",
    "\n",
    "        #-- Forward:\n",
    "        if bTrain == True:\n",
    "            #-- Store computational graph:\n",
    "            mOut = oModel(???, ???, pTeacher=???)\n",
    "            loss = Loss  (???, ???)\n",
    "        else:\n",
    "            with torch.no_grad():\n",
    "                #-- Do not store computational graph:\n",
    "                ???\n",
    "                ???\n",
    "\n",
    "        #-- Backward:\n",
    "        if bTrain == True:\n",
    "            oOptim.zero_grad() #-- set gradients to zeros\n",
    "            loss.backward()    #-- backward\n",
    "            oOptim.step()      #-- update parameters\n",
    "            if oScheduler is not None:\n",
    "                vLR[ii] = oScheduler.get_last_lr()[0]\n",
    "                oScheduler.step() #-- update learning rate\n",
    "\n",
    "        with torch.no_grad():\n",
    "            Nb           = mFeatures.shape[0]\n",
    "            count       += Nb\n",
    "            epochLoss   += Nb * loss.item()\n",
    "            epochMetric += Nb * Metric(mOut, mCaption)\n",
    "        print(f'\\r{\"Train\" if bTrain else \"Val\"} - Iteration: {ii:3d} ({nIter}): loss = {loss:2.6f}', end='')\n",
    "\n",
    "    print('', end='\\r')\n",
    "    epochLoss   /= count\n",
    "    epochMetric /= count\n",
    "\n",
    "    return epochLoss, epochMetric, vLR"
   ]
  },
  {
   "cell_type": "code",
   "execution_count": 16,
   "id": "later-midnight",
   "metadata": {
    "ExecuteTime": {
     "end_time": "2021-10-14T14:48:29.905074Z",
     "start_time": "2021-10-14T14:48:29.805375Z"
    }
   },
   "outputs": [],
   "source": [
    "from torch.optim.lr_scheduler       import OneCycleLR\n",
    "from DeepLearningFramework.Training import TrainModel\n",
    "from DeepLearningFramework.Metric   import Accuracy\n",
    "\n",
    "DEVICE = torch.device       (\"cuda:0\" if torch.cuda.is_available() else \"cpu\") \n",
    "Loss   = nn.CrossEntropyLoss(ignore_index=???)\n",
    "Metric = Accuracy           (ignoreIndex =???)"
   ]
  },
  {
   "cell_type": "code",
   "execution_count": 17,
   "id": "killing-exception",
   "metadata": {
    "ExecuteTime": {
     "end_time": "2021-10-14T14:52:46.107079Z",
     "start_time": "2021-10-14T14:49:08.037611Z"
    },
    "scrolled": false
   },
   "outputs": [
    {
     "name": "stdout",
     "output_type": "stream",
     "text": [
      "------------------------------------------------------------------------------------------------------------------------\n",
      "Epoch 000: | Train loss:  3.958 | Val loss:  3.832 | Train Metric:  0.040 | Val Metric:  0.078 | epoch time:  3.354 | <-- Checkpoint!\n",
      "Epoch 001: | Train loss:  3.677 | Val loss:  3.415 | Train Metric:  0.079 | Val Metric:  0.078 | epoch time:  2.099 |\n",
      "Epoch 002: | Train loss:  3.302 | Val loss:  3.159 | Train Metric:  0.128 | Val Metric:  0.167 | epoch time:  2.106 | <-- Checkpoint!\n",
      "Epoch 003: | Train loss:  3.087 | Val loss:  3.016 | Train Metric:  0.167 | Val Metric:  0.174 | epoch time:  2.163 | <-- Checkpoint!\n",
      "Epoch 004: | Train loss:  2.975 | Val loss:  2.920 | Train Metric:  0.181 | Val Metric:  0.192 | epoch time:  2.191 | <-- Checkpoint!\n",
      "Epoch 005: | Train loss:  2.876 | Val loss:  2.842 | Train Metric:  0.190 | Val Metric:  0.199 | epoch time:  2.148 | <-- Checkpoint!\n",
      "Epoch 006: | Train loss:  2.802 | Val loss:  2.789 | Train Metric:  0.197 | Val Metric:  0.201 | epoch time:  2.147 | <-- Checkpoint!\n",
      "Epoch 007: | Train loss:  2.734 | Val loss:  2.750 | Train Metric:  0.207 | Val Metric:  0.201 | epoch time:  2.166 | <-- Checkpoint!\n",
      "Epoch 008: | Train loss:  2.685 | Val loss:  2.731 | Train Metric:  0.218 | Val Metric:  0.202 | epoch time:  2.167 | <-- Checkpoint!\n",
      "Epoch 009: | Train loss:  2.647 | Val loss:  2.724 | Train Metric:  0.228 | Val Metric:  0.206 | epoch time:  2.142 | <-- Checkpoint!\n",
      "------------------------------------------------------------------------------------------------------------------------\n",
      "Epoch 010: | Train loss:  2.607 | Val loss:  2.717 | Train Metric:  0.238 | Val Metric:  0.207 | epoch time:  2.124 | <-- Checkpoint!\n",
      "Epoch 011: | Train loss:  2.590 | Val loss:  2.705 | Train Metric:  0.242 | Val Metric:  0.206 | epoch time:  2.126 |\n",
      "Epoch 012: | Train loss:  2.535 | Val loss:  2.714 | Train Metric:  0.259 | Val Metric:  0.206 | epoch time:  2.124 |\n",
      "Epoch 013: | Train loss:  2.545 | Val loss:  2.705 | Train Metric:  0.253 | Val Metric:  0.206 | epoch time:  2.090 |\n",
      "Epoch 014: | Train loss:  2.521 | Val loss:  2.694 | Train Metric:  0.258 | Val Metric:  0.201 | epoch time:  2.092 |\n",
      "Epoch 015: | Train loss:  2.510 | Val loss:  2.730 | Train Metric:  0.260 | Val Metric:  0.204 | epoch time:  2.094 |\n",
      "Epoch 016: | Train loss:  2.509 | Val loss:  2.687 | Train Metric:  0.257 | Val Metric:  0.208 | epoch time:  2.097 | <-- Checkpoint!\n",
      "Epoch 017: | Train loss:  2.455 | Val loss:  2.736 | Train Metric:  0.270 | Val Metric:  0.199 | epoch time:  2.099 |\n",
      "Epoch 018: | Train loss:  2.405 | Val loss:  2.684 | Train Metric:  0.284 | Val Metric:  0.205 | epoch time:  2.089 |\n",
      "Epoch 019: | Train loss:  2.464 | Val loss:  2.685 | Train Metric:  0.267 | Val Metric:  0.208 | epoch time:  2.107 | <-- Checkpoint!\n",
      "------------------------------------------------------------------------------------------------------------------------\n",
      "Epoch 020: | Train loss:  2.455 | Val loss:  2.706 | Train Metric:  0.272 | Val Metric:  0.206 | epoch time:  2.108 |\n",
      "Epoch 021: | Train loss:  2.447 | Val loss:  2.672 | Train Metric:  0.272 | Val Metric:  0.208 | epoch time:  2.100 |\n",
      "Epoch 022: | Train loss:  2.433 | Val loss:  2.668 | Train Metric:  0.273 | Val Metric:  0.212 | epoch time:  2.096 | <-- Checkpoint!\n",
      "Epoch 023: | Train loss:  2.443 | Val loss:  2.721 | Train Metric:  0.273 | Val Metric:  0.208 | epoch time:  2.091 |\n",
      "Epoch 024: | Train loss:  2.420 | Val loss:  2.680 | Train Metric:  0.277 | Val Metric:  0.206 | epoch time:  2.112 |\n",
      "Epoch 025: | Train loss:  2.418 | Val loss:  2.681 | Train Metric:  0.278 | Val Metric:  0.208 | epoch time:  2.119 |\n",
      "Epoch 026: | Train loss:  2.438 | Val loss:  2.671 | Train Metric:  0.272 | Val Metric:  0.209 | epoch time:  2.096 |\n",
      "Epoch 027: | Train loss:  2.421 | Val loss:  2.677 | Train Metric:  0.276 | Val Metric:  0.206 | epoch time:  2.097 |\n",
      "Epoch 028: | Train loss:  2.422 | Val loss:  2.684 | Train Metric:  0.278 | Val Metric:  0.206 | epoch time:  2.116 |\n",
      "Epoch 029: | Train loss:  2.338 | Val loss:  2.690 | Train Metric:  0.298 | Val Metric:  0.204 | epoch time:  2.127 |\n",
      "------------------------------------------------------------------------------------------------------------------------\n",
      "Epoch 030: | Train loss:  2.411 | Val loss:  2.678 | Train Metric:  0.279 | Val Metric:  0.207 | epoch time:  2.119 |\n",
      "Epoch 031: | Train loss:  2.430 | Val loss:  2.677 | Train Metric:  0.273 | Val Metric:  0.203 | epoch time:  2.102 |\n",
      "Epoch 032: | Train loss:  2.403 | Val loss:  2.659 | Train Metric:  0.281 | Val Metric:  0.211 | epoch time:  2.102 |\n",
      "Epoch 033: | Train loss:  2.431 | Val loss:  2.669 | Train Metric:  0.272 | Val Metric:  0.204 | epoch time:  2.115 |\n",
      "Epoch 034: | Train loss:  2.373 | Val loss:  2.696 | Train Metric:  0.288 | Val Metric:  0.199 | epoch time:  2.114 |\n",
      "Epoch 035: | Train loss:  2.402 | Val loss:  2.667 | Train Metric:  0.281 | Val Metric:  0.200 | epoch time:  2.106 |\n",
      "Epoch 036: | Train loss:  2.391 | Val loss:  2.671 | Train Metric:  0.282 | Val Metric:  0.210 | epoch time:  2.209 |\n",
      "Epoch 037: | Train loss:  2.385 | Val loss:  2.666 | Train Metric:  0.283 | Val Metric:  0.210 | epoch time:  2.115 |\n",
      "Epoch 038: | Train loss:  2.314 | Val loss:  2.683 | Train Metric:  0.303 | Val Metric:  0.203 | epoch time:  2.220 |\n",
      "Epoch 039: | Train loss:  2.376 | Val loss:  2.668 | Train Metric:  0.286 | Val Metric:  0.205 | epoch time:  2.210 |\n",
      "------------------------------------------------------------------------------------------------------------------------\n",
      "Epoch 040: | Train loss:  2.400 | Val loss:  2.669 | Train Metric:  0.280 | Val Metric:  0.205 | epoch time:  2.145 |\n",
      "Epoch 041: | Train loss:  2.359 | Val loss:  2.696 | Train Metric:  0.290 | Val Metric:  0.207 | epoch time:  2.120 |\n",
      "Epoch 042: | Train loss:  2.328 | Val loss:  2.667 | Train Metric:  0.300 | Val Metric:  0.207 | epoch time:  2.127 |\n",
      "Epoch 043: | Train loss:  2.372 | Val loss:  2.658 | Train Metric:  0.287 | Val Metric:  0.210 | epoch time:  2.118 |\n",
      "Epoch 044: | Train loss:  2.345 | Val loss:  2.669 | Train Metric:  0.294 | Val Metric:  0.210 | epoch time:  2.135 |\n",
      "Epoch 045: | Train loss:  2.389 | Val loss:  2.657 | Train Metric:  0.282 | Val Metric:  0.212 | epoch time:  2.125 | <-- Checkpoint!\n",
      "Epoch 046: | Train loss:  2.379 | Val loss:  2.687 | Train Metric:  0.284 | Val Metric:  0.201 | epoch time:  2.132 |\n",
      "Epoch 047: | Train loss:  2.386 | Val loss:  2.662 | Train Metric:  0.283 | Val Metric:  0.209 | epoch time:  2.119 |\n",
      "Epoch 048: | Train loss:  2.372 | Val loss:  2.662 | Train Metric:  0.287 | Val Metric:  0.208 | epoch time:  2.115 |\n",
      "Epoch 049: | Train loss:  2.376 | Val loss:  2.660 | Train Metric:  0.286 | Val Metric:  0.211 | epoch time:  2.125 |\n",
      "------------------------------------------------------------------------------------------------------------------------\n",
      "Epoch 050: | Train loss:  2.367 | Val loss:  2.664 | Train Metric:  0.288 | Val Metric:  0.210 | epoch time:  2.125 |\n",
      "Epoch 051: | Train loss:  2.432 | Val loss:  2.654 | Train Metric:  0.270 | Val Metric:  0.211 | epoch time:  2.132 |\n",
      "Epoch 052: | Train loss:  2.356 | Val loss:  2.686 | Train Metric:  0.290 | Val Metric:  0.209 | epoch time:  2.128 |\n",
      "Epoch 053: | Train loss:  2.348 | Val loss:  2.657 | Train Metric:  0.292 | Val Metric:  0.209 | epoch time:  2.130 |\n",
      "Epoch 054: | Train loss:  2.377 | Val loss:  2.660 | Train Metric:  0.285 | Val Metric:  0.209 | epoch time:  2.125 |\n",
      "Epoch 055: | Train loss:  2.350 | Val loss:  2.657 | Train Metric:  0.293 | Val Metric:  0.210 | epoch time:  2.219 |\n",
      "Epoch 056: | Train loss:  2.382 | Val loss:  2.658 | Train Metric:  0.283 | Val Metric:  0.208 | epoch time:  2.131 |\n",
      "Epoch 057: | Train loss:  2.290 | Val loss:  2.666 | Train Metric:  0.308 | Val Metric:  0.209 | epoch time:  2.146 |\n",
      "Epoch 058: | Train loss:  2.341 | Val loss:  2.661 | Train Metric:  0.293 | Val Metric:  0.211 | epoch time:  2.145 |\n",
      "Epoch 059: | Train loss:  2.313 | Val loss:  2.666 | Train Metric:  0.303 | Val Metric:  0.209 | epoch time:  2.149 |\n",
      "------------------------------------------------------------------------------------------------------------------------\n",
      "Epoch 060: | Train loss:  2.402 | Val loss:  2.653 | Train Metric:  0.279 | Val Metric:  0.207 | epoch time:  2.156 |\n"
     ]
    },
    {
     "name": "stdout",
     "output_type": "stream",
     "text": [
      "Epoch 061: | Train loss:  2.315 | Val loss:  2.687 | Train Metric:  0.301 | Val Metric:  0.207 | epoch time:  2.158 |\n",
      "Epoch 062: | Train loss:  2.340 | Val loss:  2.665 | Train Metric:  0.293 | Val Metric:  0.210 | epoch time:  2.156 |\n",
      "Epoch 063: | Train loss:  2.400 | Val loss:  2.654 | Train Metric:  0.279 | Val Metric:  0.209 | epoch time:  2.156 |\n",
      "Epoch 064: | Train loss:  2.364 | Val loss:  2.656 | Train Metric:  0.289 | Val Metric:  0.209 | epoch time:  2.166 |\n",
      "Epoch 065: | Train loss:  2.370 | Val loss:  2.651 | Train Metric:  0.286 | Val Metric:  0.210 | epoch time:  2.225 |\n",
      "Epoch 066: | Train loss:  2.336 | Val loss:  2.680 | Train Metric:  0.297 | Val Metric:  0.210 | epoch time:  2.239 |\n",
      "Epoch 067: | Train loss:  2.330 | Val loss:  2.658 | Train Metric:  0.297 | Val Metric:  0.209 | epoch time:  2.191 |\n",
      "Epoch 068: | Train loss:  2.361 | Val loss:  2.680 | Train Metric:  0.289 | Val Metric:  0.201 | epoch time:  2.171 |\n",
      "Epoch 069: | Train loss:  2.292 | Val loss:  2.651 | Train Metric:  0.308 | Val Metric:  0.213 | epoch time:  2.227 | <-- Checkpoint!\n",
      "------------------------------------------------------------------------------------------------------------------------\n",
      "Epoch 070: | Train loss:  2.357 | Val loss:  2.683 | Train Metric:  0.289 | Val Metric:  0.207 | epoch time:  2.141 |\n",
      "Epoch 071: | Train loss:  2.345 | Val loss:  2.658 | Train Metric:  0.293 | Val Metric:  0.209 | epoch time:  2.143 |\n",
      "Epoch 072: | Train loss:  2.365 | Val loss:  2.654 | Train Metric:  0.287 | Val Metric:  0.211 | epoch time:  2.130 |\n",
      "Epoch 073: | Train loss:  2.301 | Val loss:  2.674 | Train Metric:  0.304 | Val Metric:  0.210 | epoch time:  2.138 |\n",
      "Epoch 074: | Train loss:  2.378 | Val loss:  2.648 | Train Metric:  0.282 | Val Metric:  0.213 | epoch time:  2.115 | <-- Checkpoint!\n",
      "Epoch 075: | Train loss:  2.350 | Val loss:  2.656 | Train Metric:  0.291 | Val Metric:  0.210 | epoch time:  2.136 |\n",
      "Epoch 076: | Train loss:  2.344 | Val loss:  2.657 | Train Metric:  0.293 | Val Metric:  0.211 | epoch time:  2.144 |\n",
      "Epoch 077: | Train loss:  2.360 | Val loss:  2.653 | Train Metric:  0.289 | Val Metric:  0.211 | epoch time:  2.130 |\n",
      "Epoch 078: | Train loss:  2.319 | Val loss:  2.649 | Train Metric:  0.300 | Val Metric:  0.212 | epoch time:  2.115 |\n",
      "Epoch 079: | Train loss:  2.337 | Val loss:  2.652 | Train Metric:  0.294 | Val Metric:  0.211 | epoch time:  2.120 |\n",
      "------------------------------------------------------------------------------------------------------------------------\n",
      "Epoch 080: | Train loss:  2.320 | Val loss:  2.649 | Train Metric:  0.298 | Val Metric:  0.212 | epoch time:  2.121 |\n",
      "Epoch 081: | Train loss:  2.351 | Val loss:  2.645 | Train Metric:  0.291 | Val Metric:  0.213 | epoch time:  2.124 |\n",
      "Epoch 082: | Train loss:  2.339 | Val loss:  2.644 | Train Metric:  0.294 | Val Metric:  0.213 | epoch time:  2.119 |\n",
      "Epoch 083: | Train loss:  2.305 | Val loss:  2.647 | Train Metric:  0.303 | Val Metric:  0.213 | epoch time:  2.129 |\n",
      "Epoch 084: | Train loss:  2.364 | Val loss:  2.647 | Train Metric:  0.288 | Val Metric:  0.212 | epoch time:  2.209 |\n",
      "Epoch 085: | Train loss:  2.335 | Val loss:  2.651 | Train Metric:  0.294 | Val Metric:  0.213 | epoch time:  2.231 |\n",
      "Epoch 086: | Train loss:  2.322 | Val loss:  2.648 | Train Metric:  0.299 | Val Metric:  0.211 | epoch time:  2.198 |\n",
      "Epoch 087: | Train loss:  2.304 | Val loss:  2.646 | Train Metric:  0.303 | Val Metric:  0.212 | epoch time:  2.122 |\n",
      "Epoch 088: | Train loss:  2.317 | Val loss:  2.645 | Train Metric:  0.299 | Val Metric:  0.211 | epoch time:  2.141 |\n",
      "Epoch 089: | Train loss:  2.349 | Val loss:  2.645 | Train Metric:  0.291 | Val Metric:  0.211 | epoch time:  2.129 |\n",
      "------------------------------------------------------------------------------------------------------------------------\n",
      "Epoch 090: | Train loss:  2.298 | Val loss:  2.644 | Train Metric:  0.304 | Val Metric:  0.213 | epoch time:  2.145 |\n",
      "Epoch 091: | Train loss:  2.352 | Val loss:  2.644 | Train Metric:  0.291 | Val Metric:  0.213 | epoch time:  2.135 |\n",
      "Epoch 092: | Train loss:  2.315 | Val loss:  2.645 | Train Metric:  0.298 | Val Metric:  0.213 | epoch time:  2.125 |\n",
      "Epoch 093: | Train loss:  2.332 | Val loss:  2.645 | Train Metric:  0.294 | Val Metric:  0.213 | epoch time:  2.132 |\n",
      "Epoch 094: | Train loss:  2.336 | Val loss:  2.644 | Train Metric:  0.294 | Val Metric:  0.213 | epoch time:  2.170 |\n",
      "Epoch 095: | Train loss:  2.243 | Val loss:  2.643 | Train Metric:  0.319 | Val Metric:  0.213 | epoch time:  2.126 |\n",
      "Epoch 096: | Train loss:  2.304 | Val loss:  2.645 | Train Metric:  0.303 | Val Metric:  0.212 | epoch time:  2.182 |\n",
      "Epoch 097: | Train loss:  2.278 | Val loss:  2.644 | Train Metric:  0.309 | Val Metric:  0.213 | epoch time:  2.125 |\n",
      "Epoch 098: | Train loss:  2.294 | Val loss:  2.644 | Train Metric:  0.306 | Val Metric:  0.213 | epoch time:  2.146 |\n",
      "Epoch 099: | Train loss:  2.340 | Val loss:  2.644 | Train Metric:  0.292 | Val Metric:  0.213 | epoch time:  2.140 |\n"
     ]
    }
   ],
   "source": [
    "nEpochs    = 100\n",
    "nIter      = nEpochs * len(oTrainDL)\n",
    "\n",
    "oModel     = OneToMany  ().to(DEVICE)\n",
    "oOptim     = ???\n",
    "oScheduler = ???\n",
    "lHistory   = TrainModel (oModel, oTrainDL, oTestDL, Loss, Metric, nEpochs, oOptim, oScheduler, Epoch=Epoch, sModelName='OneToMany')"
   ]
  },
  {
   "cell_type": "code",
   "execution_count": 20,
   "id": "alike-morocco",
   "metadata": {
    "ExecuteTime": {
     "end_time": "2021-10-14T15:04:17.063912Z",
     "start_time": "2021-10-14T15:04:16.767740Z"
    }
   },
   "outputs": [
    {
     "data": {
      "image/png": "[encoded data removed]",
      "text/plain": [
       "<Figure size 2200x500 with 3 Axes>"
      ]
     },
     "metadata": {},
     "output_type": "display_data"
    }
   ],
   "source": [
    "from DeepLearningFramework.Auxiliary import PlotHistory\n",
    "\n",
    "PlotHistory(lHistory)\n",
    "plt.show   ()"
   ]
  },
  {
   "cell_type": "markdown",
   "id": "8c865b07",
   "metadata": {},
   "source": [
    "#### Predict function:\n",
    "* **Input**: A language (as an integer)\n",
    "* **Output**: A generated name (as a tensor of integers)"
   ]
  },
  {
   "cell_type": "code",
   "execution_count": 21,
   "id": "5a30d41b",
   "metadata": {
    "ExecuteTime": {
     "end_time": "2021-10-14T15:06:16.376844Z",
     "start_time": "2021-10-14T15:06:16.276748Z"
    }
   },
   "outputs": [],
   "source": [
    "from torch.distributions.categorical import Categorical\n",
    "\n",
    "def Predict(oModel, label, bTop1=False):\n",
    "    #-- label.shape = ([])\n",
    "    ???\n",
    "    \n",
    "    return "
   ]
  },
  {
   "cell_type": "code",
   "execution_count": 39,
   "id": "accessible-commonwealth",
   "metadata": {
    "ExecuteTime": {
     "end_time": "2021-10-14T15:08:04.539124Z",
     "start_time": "2021-10-14T15:08:04.400778Z"
    }
   },
   "outputs": [
    {
     "name": "stdout",
     "output_type": "stream",
     "text": [
      "00: Arabic     --> Naizab\n",
      "01: Chinese    --> Shu\n",
      "02: Czech      --> Gilnyn\n",
      "03: Dutch      --> Rawelpbare\n",
      "04: English    --> Riyer\n",
      "05: French     --> Ronnno\n",
      "06: German     --> Arrstser\n",
      "07: Greek      --> Pallatsitotos\n",
      "08: Irish      --> Ralumain\n",
      "09: Italian    --> Raonii\n",
      "10: Japanese   --> Coaroi\n",
      "11: Korean     --> Chok\n",
      "12: Polish     --> Jkulli\n",
      "13: Portuguese --> Tossani\n",
      "14: Russian    --> Pokachkin\n",
      "15: Scottish   --> Thert\n",
      "16: Spanish    --> Gouralis\n",
      "17: Vietnamese --> Cyh\n"
     ]
    }
   ],
   "source": [
    "for idx in range(nLabels):\n",
    "    label    = oLabelEncoder.inverse_transform([idx])[0]\n",
    "    labelIdx = torch.tensor(idx).to(DEVICE)\n",
    "\n",
    "    with torch.no_grad():\n",
    "        vNameOut = Predict(oModel, labelIdx)\n",
    "\n",
    "    name = Tensor2Name(vNameOut.int())\n",
    "    print(f'{idx:02}: {label:10} --> {name}')"
   ]
  },
  {
   "cell_type": "code",
   "execution_count": null,
   "id": "hydraulic-cooper",
   "metadata": {},
   "outputs": [],
   "source": []
  },
  {
   "cell_type": "code",
   "execution_count": null,
   "id": "significant-coffee",
   "metadata": {},
   "outputs": [],
   "source": []
  },
  {
   "cell_type": "code",
   "execution_count": null,
   "id": "joined-rainbow",
   "metadata": {},
   "outputs": [],
   "source": []
  },
  {
   "cell_type": "code",
   "execution_count": null,
   "id": "senior-sunglasses",
   "metadata": {},
   "outputs": [],
   "source": []
  },
  {
   "cell_type": "code",
   "execution_count": null,
   "id": "modular-sauce",
   "metadata": {},
   "outputs": [],
   "source": []
  }
 ],
 "metadata": {
  "kernelspec": {
   "display_name": "Python 3",
   "language": "python",
   "name": "python3"
  },
  "language_info": {
   "codemirror_mode": {
    "name": "ipython",
    "version": 3
   },
   "file_extension": ".py",
   "mimetype": "text/x-python",
   "name": "python",
   "nbconvert_exporter": "python",
   "pygments_lexer": "ipython3",
   "version": "3.8.12"
  }
 },
 "nbformat": 4,
 "nbformat_minor": 5
}
