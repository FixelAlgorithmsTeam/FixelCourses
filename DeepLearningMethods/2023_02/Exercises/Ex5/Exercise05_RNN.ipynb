{
 "cells": [
  {
   "cell_type": "markdown",
   "id": "concrete-plenty",
   "metadata": {},
   "source": [
    "![Fixel Algorithms](https://fixelalgorithms.co/images/CCExt.png)"
   ]
  },
  {
   "cell_type": "markdown",
   "id": "oriented-mattress",
   "metadata": {},
   "source": [
    "# <center> Deep Learning Methods </center>\n",
    "## <center> Exercise 5 - RNN </center>\n",
    "### <center> Many to One RNN </center>"
   ]
  },
  {
   "cell_type": "markdown",
   "id": "declared-sentence",
   "metadata": {},
   "source": [
    "[![Open In Colab](https://colab.research.google.com/assets/colab-badge.svg)](https://colab.research.google.com/github/FixelAlgorithmsTeam/FixelCourses/blob/master/DeepLearningMethods/Exercises/Ex5/Exercise05_RNN.ipynb)"
   ]
  },
  {
   "cell_type": "code",
   "execution_count": 1,
   "id": "acting-northwest",
   "metadata": {
    "ExecuteTime": {
     "end_time": "2021-11-18T18:11:21.063894Z",
     "start_time": "2021-11-18T18:11:21.049882Z"
    }
   },
   "outputs": [
    {
     "data": {
      "text/html": [
       "<style>.container { width:80% !important; }</style>"
      ],
      "text/plain": [
       "<IPython.core.display.HTML object>"
      ]
     },
     "metadata": {},
     "output_type": "display_data"
    }
   ],
   "source": [
    "#-- Wide screen:\n",
    "from IPython.core.display import display, HTML\n",
    "display(HTML(\"<style>.container { width:80% !important; }</style>\"))"
   ]
  },
  {
   "cell_type": "code",
   "execution_count": 2,
   "id": "german-genesis",
   "metadata": {
    "ExecuteTime": {
     "end_time": "2021-10-12T12:13:32.103715Z",
     "start_time": "2021-10-12T12:13:32.070060Z"
    }
   },
   "outputs": [],
   "source": [
    "#-- Auto reload:\n",
    "%load_ext autoreload\n",
    "%autoreload 2"
   ]
  },
  {
   "cell_type": "code",
   "execution_count": 2,
   "id": "360d311d",
   "metadata": {
    "ExecuteTime": {
     "end_time": "2021-11-18T18:11:26.367950Z",
     "start_time": "2021-11-18T18:11:26.351936Z"
    }
   },
   "outputs": [],
   "source": [
    "if 'google.colab' in str(get_ipython()):\n",
    "    !npx degit FixelAlgorithmsTeam/FixelCourses/DeepLearningMethods/Exercises/Ex5/DeepLearningFramework ./DeepLearningFramework"
   ]
  },
  {
   "cell_type": "code",
   "execution_count": 3,
   "id": "auburn-stage",
   "metadata": {
    "ExecuteTime": {
     "end_time": "2021-11-18T18:11:31.079138Z",
     "start_time": "2021-11-18T18:11:29.853699Z"
    }
   },
   "outputs": [],
   "source": [
    "import numpy             as np\n",
    "import matplotlib.pyplot as plt\n",
    "\n",
    "import torch\n",
    "import torch.nn    as nn\n",
    "import torch.optim as optim\n",
    "import torchtext\n",
    "\n",
    "from torchtext.vocab import Vocab"
   ]
  },
  {
   "cell_type": "markdown",
   "id": "careful-indian",
   "metadata": {},
   "source": [
    "### Exercise:\n",
    "Get above 80% accuracy on the `Names` dataset."
   ]
  },
  {
   "cell_type": "markdown",
   "id": "dressed-struggle",
   "metadata": {},
   "source": [
    "### Load the data:"
   ]
  },
  {
   "cell_type": "code",
   "execution_count": 4,
   "id": "blessed-tissue",
   "metadata": {
    "ExecuteTime": {
     "end_time": "2021-11-18T18:11:39.528153Z",
     "start_time": "2021-11-18T18:11:39.505133Z"
    }
   },
   "outputs": [
    {
     "name": "stdout",
     "output_type": "stream",
     "text": [
      "Some names : ['Deeb         ', 'Jerebtsov    ', 'Amato        ', 'Dubhain      ', 'Amari        ']\n",
      "Some labels: ['Arabic       ', 'Russian      ', 'Italian      ', 'Irish        ', 'Arabic       ']\n"
     ]
    }
   ],
   "source": [
    "mData   = np.load('NamesData.npy')\n",
    "lNames  = mData[:,0]\n",
    "lLabels = mData[:,1]\n",
    "N       = mData.shape[0]\n",
    "\n",
    "vIdx    = np.random.randint(0, N, (5,))\n",
    "print(f'Some names : {[f\"{lNames [idx]:13}\" for idx in vIdx]}')\n",
    "print(f'Some labels: {[f\"{lLabels[idx]:13}\" for idx in vIdx]}')"
   ]
  },
  {
   "cell_type": "markdown",
   "id": "psychological-sally",
   "metadata": {},
   "source": [
    "#### Build the vocabulary:"
   ]
  },
  {
   "cell_type": "code",
   "execution_count": 5,
   "id": "liberal-bathroom",
   "metadata": {
    "ExecuteTime": {
     "end_time": "2021-11-18T18:11:55.291386Z",
     "start_time": "2021-11-18T18:11:55.274372Z"
    }
   },
   "outputs": [
    {
     "name": "stdout",
     "output_type": "stream",
     "text": [
      "Number of letter: 52\n"
     ]
    },
    {
     "data": {
      "text/plain": [
       "[0, 1, 2, 26, 27, 51]"
      ]
     },
     "execution_count": 5,
     "metadata": {},
     "output_type": "execute_result"
    }
   ],
   "source": [
    "from string          import ascii_letters\n",
    "from torchtext.vocab import build_vocab_from_iterator\n",
    "\n",
    "oVocab   = build_vocab_from_iterator([c for c in ascii_letters])\n",
    "nLetters = len(oVocab)\n",
    "\n",
    "print (f'Number of letter: {len(oVocab)}')\n",
    "oVocab(['A', 'B', 'C', 'a', 'b', 'z'])"
   ]
  },
  {
   "cell_type": "markdown",
   "id": "spoken-questionnaire",
   "metadata": {},
   "source": [
    "#### Label encoder:"
   ]
  },
  {
   "cell_type": "code",
   "execution_count": 6,
   "id": "billion-financing",
   "metadata": {
    "ExecuteTime": {
     "end_time": "2021-11-18T18:12:06.388463Z",
     "start_time": "2021-11-18T18:12:06.041567Z"
    }
   },
   "outputs": [
    {
     "name": "stdout",
     "output_type": "stream",
     "text": [
      "Number of labels: 18\n",
      "Labels:         \n",
      "['Arabic' 'Chinese' 'Czech' 'Dutch' 'English' 'French' 'German' 'Greek'\n",
      " 'Irish' 'Italian' 'Japanese' 'Korean' 'Polish' 'Portuguese' 'Russian'\n",
      " 'Scottish' 'Spanish' 'Vietnamese']\n"
     ]
    }
   ],
   "source": [
    "from sklearn.preprocessing import LabelEncoder\n",
    "\n",
    "oLabelEncoder = LabelEncoder().fit(lLabels)\n",
    "nLabels       = len(oLabelEncoder.classes_)\n",
    "\n",
    "print(f'Number of labels: {nLabels}'               )\n",
    "print(f'Labels:         \\n{oLabelEncoder.classes_}')"
   ]
  },
  {
   "cell_type": "code",
   "execution_count": 7,
   "id": "a9c9db4e",
   "metadata": {
    "ExecuteTime": {
     "end_time": "2021-11-18T18:12:09.538586Z",
     "start_time": "2021-11-18T18:12:09.531588Z"
    }
   },
   "outputs": [
    {
     "data": {
      "text/plain": [
       "array([0, 2])"
      ]
     },
     "execution_count": 7,
     "metadata": {},
     "output_type": "execute_result"
    }
   ],
   "source": [
    "oLabelEncoder.transform(['Arabic', 'Czech'])"
   ]
  },
  {
   "cell_type": "markdown",
   "id": "functional-grass",
   "metadata": {},
   "source": [
    "#### String to tensor:"
   ]
  },
  {
   "cell_type": "code",
   "execution_count": 12,
   "id": "aging-frost",
   "metadata": {
    "ExecuteTime": {
     "end_time": "2021-11-18T18:12:50.330528Z",
     "start_time": "2021-11-18T18:12:50.319527Z"
    }
   },
   "outputs": [
    {
     "data": {
      "text/plain": [
       "(tensor([ 9, 40, 39, 30, 44]), 'Jones')"
      ]
     },
     "execution_count": 12,
     "metadata": {},
     "output_type": "execute_result"
    }
   ],
   "source": [
    "def Name2Tensor(name):\n",
    "    return torch.tensor(oVocab(list(name)))\n",
    "\n",
    "def Tensor2Name(vName):\n",
    "    return ''.join([oVocab.get_itos()[e] for e in vName])\n",
    "\n",
    "name  = 'Jones'\n",
    "vName = Name2Tensor(name)\n",
    "\n",
    "Name2Tensor(name), Tensor2Name(vName)"
   ]
  },
  {
   "cell_type": "markdown",
   "id": "structured-finnish",
   "metadata": {},
   "source": [
    "#### Dataset:\n",
    "`__getitem__`:\n",
    "* `vName` is the tensor version of the string `name`.\n",
    "* `y` is the integer represents the class `label`."
   ]
  },
  {
   "cell_type": "code",
   "execution_count": 11,
   "id": "third-fiction",
   "metadata": {
    "ExecuteTime": {
     "end_time": "2021-10-12T12:10:02.018451Z",
     "start_time": "2021-10-12T12:10:01.955822Z"
    }
   },
   "outputs": [
    {
     "data": {
      "text/plain": [
       "('Nguyen', array(['Vietnamese'], dtype='<U19'))"
      ]
     },
     "execution_count": 11,
     "metadata": {},
     "output_type": "execute_result"
    }
   ],
   "source": [
    "class NameDataset(torch.utils.data.Dataset):\n",
    "    def __init__(self, lNames, lLabels):\n",
    "        self.lNames  = lNames\n",
    "        self.lLabels = lLabels\n",
    "        \n",
    "    def __len__(self):\n",
    "        return ???\n",
    "    \n",
    "    def __getitem__(self, idx):\n",
    "        ???\n",
    "        ???\n",
    "        return vName, y\n",
    "    \n",
    "oDataset = NameDataset(lNames, lLabels)\n",
    "vName, y = oDataset[20001]\n",
    "\n",
    "Tensor2Name(vName), oLabelEncoder.inverse_transform([y])"
   ]
  },
  {
   "cell_type": "code",
   "execution_count": 12,
   "id": "royal-broadway",
   "metadata": {
    "ExecuteTime": {
     "end_time": "2021-10-12T12:10:02.082449Z",
     "start_time": "2021-10-12T12:10:02.018451Z"
    }
   },
   "outputs": [
    {
     "data": {
      "text/plain": [
       "(15000, 5074)"
      ]
     },
     "execution_count": 12,
     "metadata": {},
     "output_type": "execute_result"
    }
   ],
   "source": [
    "from torch.utils.data import random_split\n",
    "\n",
    "N                   = mData.shape[0]\n",
    "nTrain              = 15000\n",
    "nTest               = N - nTrain\n",
    "oTrainSet, oTestSet = random_split(oDataset, [nTrain, nTest], generator=torch.Generator().manual_seed(42))\n",
    "\n",
    "len(oTrainSet), len(oTestSet)"
   ]
  },
  {
   "cell_type": "markdown",
   "id": "silver-globe",
   "metadata": {},
   "source": [
    "#### Data loader:\n",
    "* `vY` is a tensor (`dtype=torch.long`) of the classes.\n",
    "* `mPackNames` is a packed object of the names."
   ]
  },
  {
   "cell_type": "code",
   "execution_count": 13,
   "id": "enhanced-morris",
   "metadata": {
    "ExecuteTime": {
     "end_time": "2021-10-12T12:10:02.146447Z",
     "start_time": "2021-10-12T12:10:02.082449Z"
    }
   },
   "outputs": [
    {
     "data": {
      "text/plain": [
       "(torch.Size([439]), torch.Size([64]))"
      ]
     },
     "execution_count": 13,
     "metadata": {},
     "output_type": "execute_result"
    }
   ],
   "source": [
    "from torch.nn.utils.rnn import pack_sequence\n",
    "\n",
    "def NamesCollate(lBatch):\n",
    "    lNames, lY = zip          (*lBatch)\n",
    "    vY         = ???\n",
    "    mPackNames = ???\n",
    "    \n",
    "    return mPackNames, vY\n",
    "\n",
    "batchSize = 64\n",
    "oTrainDL  = torch.utils.data.DataLoader(oTrainSet, shuffle=True,  batch_size=1*batchSize, collate_fn=NamesCollate)\n",
    "oTestDL   = torch.utils.data.DataLoader(oTestSet,  shuffle=False, batch_size=2*batchSize, collate_fn=NamesCollate)\n",
    "\n",
    "mPackNames,            vY = next(iter(oTrainDL))\n",
    "mPackNames.data.shape, vY.shape"
   ]
  },
  {
   "cell_type": "markdown",
   "id": "portuguese-poultry",
   "metadata": {},
   "source": [
    "#### Model:\n",
    "Use `bidirectional=True` (just for practice)."
   ]
  },
  {
   "cell_type": "code",
   "execution_count": 14,
   "id": "piano-aquarium",
   "metadata": {
    "ExecuteTime": {
     "end_time": "2021-10-12T12:10:02.210504Z",
     "start_time": "2021-10-12T12:10:02.147447Z"
    }
   },
   "outputs": [
    {
     "data": {
      "text/plain": [
       "torch.Size([64, 18])"
      ]
     },
     "execution_count": 14,
     "metadata": {},
     "output_type": "execute_result"
    }
   ],
   "source": [
    "from torch.nn.utils.rnn import PackedSequence\n",
    "\n",
    "H = ??? #-- Hidden dim\n",
    "V = ??? #-- Vocabulary size\n",
    "D = ??? #-- Embedding dim\n",
    "L = ??? #-- Number of layers\n",
    "C = ??? #-- Number of classes\n",
    "\n",
    "def PackedAs(mX, mPack):\n",
    "    return PackedSequence(mX, mPack.batch_sizes, mPack.sorted_indices, mPack.unsorted_indices)\n",
    "\n",
    "class RNN(nn.Module):\n",
    "    def __init__(self):\n",
    "        super(RNN, self).__init__()\n",
    "       \n",
    "        self.oEmbeeding = ???\n",
    "        self.oGRU       = ???\n",
    "        self.oLinear    = ???\n",
    "        \n",
    "    def forward(self, mPackNames):\n",
    "        #-- mPackNames.shape = (N*T,)\n",
    "        \n",
    "        mE     = self.oEmbeeding(???)                             #-- mE        .shape = (N*T, D)\n",
    "        mPackE = PackedAs       (mE, mPackNames)                  #-- mPackE    .shape = (N*T, D)\n",
    "        \n",
    "        _, mH  = self.oGRU      (???)                             #-- mH        .shape = (2*L, N, H) \n",
    "        mH     = torch.cat      ([mH[-1,:,:], mH[-2,:,:]], dim=1) #-- mH        .shape = (N,   2*H)\n",
    "               \n",
    "        mZ     = self.oLinear   (???)                             #-- mZ        .shape = (N, C)\n",
    "        \n",
    "        return mZ\n",
    "    \n",
    "RNN()(mPackNames).shape"
   ]
  },
  {
   "cell_type": "markdown",
   "id": "talented-booth",
   "metadata": {},
   "source": [
    "#### Train:"
   ]
  },
  {
   "cell_type": "code",
   "execution_count": 15,
   "id": "later-midnight",
   "metadata": {
    "ExecuteTime": {
     "end_time": "2021-10-12T12:10:02.305590Z",
     "start_time": "2021-10-12T12:10:02.211505Z"
    }
   },
   "outputs": [],
   "source": [
    "from torch.optim.lr_scheduler       import OneCycleLR\n",
    "from DeepLearningFramework.Metric   import Accuracy\n",
    "from DeepLearningFramework.Training import TrainModel\n",
    "\n",
    "DEVICE = torch.device(\"cuda:0\" if torch.cuda.is_available() else \"cpu\") \n",
    "Loss   = nn.CrossEntropyLoss()\n",
    "Metric = Accuracy           ()"
   ]
  },
  {
   "cell_type": "code",
   "execution_count": 16,
   "id": "killing-exception",
   "metadata": {
    "ExecuteTime": {
     "end_time": "2021-10-12T12:11:46.429829Z",
     "start_time": "2021-10-12T12:10:02.306591Z"
    }
   },
   "outputs": [
    {
     "name": "stdout",
     "output_type": "stream",
     "text": [
      "------------------------------------------------------------------------------------------------------------------------\n",
      "Epoch 000: | Train loss:  2.339 | Val loss:  1.863 | Train Metric:  0.443 | Val Metric:  0.463 | epoch time:  2.766 | <-- Checkpoint!\n",
      "Epoch 001: | Train loss:  1.798 | Val loss:  1.765 | Train Metric:  0.471 | Val Metric:  0.463 | epoch time:  2.131 |\n",
      "Epoch 002: | Train loss:  1.682 | Val loss:  1.577 | Train Metric:  0.492 | Val Metric:  0.516 | epoch time:  2.058 | <-- Checkpoint!\n",
      "Epoch 003: | Train loss:  1.471 | Val loss:  1.362 | Train Metric:  0.555 | Val Metric:  0.575 | epoch time:  2.039 | <-- Checkpoint!\n",
      "Epoch 004: | Train loss:  1.314 | Val loss:  1.230 | Train Metric:  0.603 | Val Metric:  0.628 | epoch time:  2.034 | <-- Checkpoint!\n",
      "Epoch 005: | Train loss:  1.187 | Val loss:  1.111 | Train Metric:  0.647 | Val Metric:  0.666 | epoch time:  2.042 | <-- Checkpoint!\n",
      "Epoch 006: | Train loss:  1.075 | Val loss:  1.008 | Train Metric:  0.676 | Val Metric:  0.693 | epoch time:  2.049 | <-- Checkpoint!\n",
      "Epoch 007: | Train loss:  0.981 | Val loss:  0.895 | Train Metric:  0.706 | Val Metric:  0.725 | epoch time:  2.058 | <-- Checkpoint!\n",
      "Epoch 008: | Train loss:  0.906 | Val loss:  0.835 | Train Metric:  0.727 | Val Metric:  0.750 | epoch time:  2.092 | <-- Checkpoint!\n",
      "Epoch 009: | Train loss:  0.848 | Val loss:  0.790 | Train Metric:  0.744 | Val Metric:  0.766 | epoch time:  2.084 | <-- Checkpoint!\n",
      "------------------------------------------------------------------------------------------------------------------------\n",
      "Epoch 010: | Train loss:  0.805 | Val loss:  0.772 | Train Metric:  0.754 | Val Metric:  0.767 | epoch time:  2.041 | <-- Checkpoint!\n",
      "Epoch 011: | Train loss:  0.766 | Val loss:  0.719 | Train Metric:  0.766 | Val Metric:  0.779 | epoch time:  2.052 | <-- Checkpoint!\n",
      "Epoch 012: | Train loss:  0.731 | Val loss:  0.696 | Train Metric:  0.779 | Val Metric:  0.787 | epoch time:  2.080 | <-- Checkpoint!\n",
      "Epoch 013: | Train loss:  0.696 | Val loss:  0.679 | Train Metric:  0.784 | Val Metric:  0.792 | epoch time:  2.024 | <-- Checkpoint!\n",
      "Epoch 014: | Train loss:  0.680 | Val loss:  0.666 | Train Metric:  0.791 | Val Metric:  0.795 | epoch time:  2.072 | <-- Checkpoint!\n",
      "Epoch 015: | Train loss:  0.655 | Val loss:  0.657 | Train Metric:  0.796 | Val Metric:  0.796 | epoch time:  2.071 | <-- Checkpoint!\n",
      "Epoch 016: | Train loss:  0.643 | Val loss:  0.661 | Train Metric:  0.801 | Val Metric:  0.798 | epoch time:  2.022 | <-- Checkpoint!\n",
      "Epoch 017: | Train loss:  0.630 | Val loss:  0.664 | Train Metric:  0.806 | Val Metric:  0.796 | epoch time:  2.041 |\n",
      "Epoch 018: | Train loss:  0.612 | Val loss:  0.647 | Train Metric:  0.806 | Val Metric:  0.795 | epoch time:  2.023 |\n",
      "Epoch 019: | Train loss:  0.609 | Val loss:  0.637 | Train Metric:  0.811 | Val Metric:  0.804 | epoch time:  2.035 | <-- Checkpoint!\n",
      "------------------------------------------------------------------------------------------------------------------------\n",
      "Epoch 020: | Train loss:  0.594 | Val loss:  0.632 | Train Metric:  0.817 | Val Metric:  0.804 | epoch time:  2.026 | <-- Checkpoint!\n",
      "Epoch 021: | Train loss:  0.582 | Val loss:  0.634 | Train Metric:  0.818 | Val Metric:  0.806 | epoch time:  2.018 | <-- Checkpoint!\n",
      "Epoch 022: | Train loss:  0.572 | Val loss:  0.648 | Train Metric:  0.820 | Val Metric:  0.800 | epoch time:  2.093 |\n",
      "Epoch 023: | Train loss:  0.568 | Val loss:  0.632 | Train Metric:  0.823 | Val Metric:  0.807 | epoch time:  2.050 | <-- Checkpoint!\n",
      "Epoch 024: | Train loss:  0.553 | Val loss:  0.629 | Train Metric:  0.827 | Val Metric:  0.810 | epoch time:  1.991 | <-- Checkpoint!\n",
      "Epoch 025: | Train loss:  0.544 | Val loss:  0.626 | Train Metric:  0.831 | Val Metric:  0.807 | epoch time:  2.043 |\n",
      "Epoch 026: | Train loss:  0.534 | Val loss:  0.634 | Train Metric:  0.833 | Val Metric:  0.806 | epoch time:  2.001 |\n",
      "Epoch 027: | Train loss:  0.529 | Val loss:  0.627 | Train Metric:  0.834 | Val Metric:  0.806 | epoch time:  2.079 |\n",
      "Epoch 028: | Train loss:  0.520 | Val loss:  0.619 | Train Metric:  0.836 | Val Metric:  0.809 | epoch time:  2.048 |\n",
      "Epoch 029: | Train loss:  0.514 | Val loss:  0.616 | Train Metric:  0.837 | Val Metric:  0.812 | epoch time:  2.025 | <-- Checkpoint!\n",
      "------------------------------------------------------------------------------------------------------------------------\n",
      "Epoch 030: | Train loss:  0.508 | Val loss:  0.613 | Train Metric:  0.841 | Val Metric:  0.810 | epoch time:  2.037 |\n",
      "Epoch 031: | Train loss:  0.504 | Val loss:  0.617 | Train Metric:  0.841 | Val Metric:  0.816 | epoch time:  2.066 | <-- Checkpoint!\n",
      "Epoch 032: | Train loss:  0.497 | Val loss:  0.615 | Train Metric:  0.842 | Val Metric:  0.814 | epoch time:  2.021 |\n",
      "Epoch 033: | Train loss:  0.489 | Val loss:  0.618 | Train Metric:  0.843 | Val Metric:  0.813 | epoch time:  2.025 |\n",
      "Epoch 034: | Train loss:  0.480 | Val loss:  0.624 | Train Metric:  0.845 | Val Metric:  0.810 | epoch time:  1.994 |\n",
      "Epoch 035: | Train loss:  0.476 | Val loss:  0.627 | Train Metric:  0.849 | Val Metric:  0.813 | epoch time:  2.033 |\n",
      "Epoch 036: | Train loss:  0.469 | Val loss:  0.619 | Train Metric:  0.852 | Val Metric:  0.813 | epoch time:  2.013 |\n",
      "Epoch 037: | Train loss:  0.467 | Val loss:  0.619 | Train Metric:  0.854 | Val Metric:  0.810 | epoch time:  2.006 |\n",
      "Epoch 038: | Train loss:  0.461 | Val loss:  0.619 | Train Metric:  0.854 | Val Metric:  0.812 | epoch time:  2.003 |\n",
      "Epoch 039: | Train loss:  0.458 | Val loss:  0.620 | Train Metric:  0.857 | Val Metric:  0.815 | epoch time:  1.999 |\n",
      "------------------------------------------------------------------------------------------------------------------------\n",
      "Epoch 040: | Train loss:  0.453 | Val loss:  0.622 | Train Metric:  0.856 | Val Metric:  0.813 | epoch time:  2.080 |\n",
      "Epoch 041: | Train loss:  0.449 | Val loss:  0.623 | Train Metric:  0.858 | Val Metric:  0.814 | epoch time:  2.068 |\n",
      "Epoch 042: | Train loss:  0.446 | Val loss:  0.621 | Train Metric:  0.857 | Val Metric:  0.816 | epoch time:  2.009 | <-- Checkpoint!\n",
      "Epoch 043: | Train loss:  0.449 | Val loss:  0.619 | Train Metric:  0.857 | Val Metric:  0.815 | epoch time:  2.048 |\n",
      "Epoch 044: | Train loss:  0.442 | Val loss:  0.619 | Train Metric:  0.862 | Val Metric:  0.815 | epoch time:  2.077 |\n",
      "Epoch 045: | Train loss:  0.443 | Val loss:  0.621 | Train Metric:  0.859 | Val Metric:  0.815 | epoch time:  2.015 |\n",
      "Epoch 046: | Train loss:  0.442 | Val loss:  0.620 | Train Metric:  0.861 | Val Metric:  0.816 | epoch time:  2.042 |\n",
      "Epoch 047: | Train loss:  0.440 | Val loss:  0.620 | Train Metric:  0.861 | Val Metric:  0.815 | epoch time:  2.009 |\n",
      "Epoch 048: | Train loss:  0.438 | Val loss:  0.620 | Train Metric:  0.860 | Val Metric:  0.816 | epoch time:  1.998 |\n",
      "Epoch 049: | Train loss:  0.439 | Val loss:  0.620 | Train Metric:  0.860 | Val Metric:  0.816 | epoch time:  2.025 |\n"
     ]
    }
   ],
   "source": [
    "nEpochs       = 50\n",
    "nIter         = nEpochs * len(oTrainDL)\n",
    "\n",
    "oModel        = RNN        ().to(DEVICE)\n",
    "oOptim        = ???\n",
    "oScheduler    = ???\n",
    "lHistory      = TrainModel (oModel, oTrainDL, oTestDL, Loss, Metric, nEpochs, oOptim, oScheduler, sModelName='ManyToOne');"
   ]
  },
  {
   "cell_type": "code",
   "execution_count": 17,
   "id": "alike-morocco",
   "metadata": {
    "ExecuteTime": {
     "end_time": "2021-10-12T12:11:46.779974Z",
     "start_time": "2021-10-12T12:11:46.429829Z"
    }
   },
   "outputs": [
    {
     "data": {
      "image/png": "[encoded data removed]",
      "text/plain": [
       "<Figure size 2200x500 with 3 Axes>"
      ]
     },
     "metadata": {},
     "output_type": "display_data"
    }
   ],
   "source": [
    "from DeepLearningFramework.Auxiliary import PlotHistory\n",
    "\n",
    "PlotHistory(lHistory)\n",
    "plt.show   ()"
   ]
  },
  {
   "cell_type": "code",
   "execution_count": null,
   "id": "twelve-crystal",
   "metadata": {},
   "outputs": [],
   "source": []
  }
 ],
 "metadata": {
  "kernelspec": {
   "display_name": "Python 3",
   "language": "python",
   "name": "python3"
  },
  "language_info": {
   "codemirror_mode": {
    "name": "ipython",
    "version": 3
   },
   "file_extension": ".py",
   "mimetype": "text/x-python",
   "name": "python",
   "nbconvert_exporter": "python",
   "pygments_lexer": "ipython3",
   "version": "3.8.12"
  }
 },
 "nbformat": 4,
 "nbformat_minor": 5
}
