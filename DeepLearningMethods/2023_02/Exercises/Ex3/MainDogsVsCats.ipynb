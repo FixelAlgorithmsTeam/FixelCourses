{
 "cells": [
  {
   "cell_type": "markdown",
   "metadata": {},
   "source": [
    "![Fixel Algorithms](https://fixelalgorithms.co/images/CCExt.png)"
   ]
  },
  {
   "cell_type": "markdown",
   "metadata": {},
   "source": [
    "# <center> Deep Learning Methods </center>\n",
    "## <center> Exercise 3: Transfer Learning </center>\n",
    "### <center> Dogs VS. Cats </center>"
   ]
  },
  {
   "cell_type": "markdown",
   "metadata": {},
   "source": [
    "[![Open In Colab](https://colab.research.google.com/assets/colab-badge.svg)](https://colab.research.google.com/github/FixelAlgorithmsTeam/FixelCourses/blob/master/DeepLearningMethods/Exercises/Ex3/MainDogsVsCats.ipynb)"
   ]
  },
  {
   "cell_type": "code",
   "execution_count": 8,
   "metadata": {
    "execution": {
     "iopub.execute_input": "2021-09-27T14:32:45.114521Z",
     "iopub.status.busy": "2021-09-27T14:32:45.114521Z",
     "iopub.status.idle": "2021-09-27T14:32:45.165573Z",
     "shell.execute_reply": "2021-09-27T14:32:45.165573Z",
     "shell.execute_reply.started": "2021-09-27T14:32:45.114521Z"
    }
   },
   "outputs": [
    {
     "data": {
      "text/html": [
       "<style>.container { width:80% !important; }</style>"
      ],
      "text/plain": [
       "<IPython.core.display.HTML object>"
      ]
     },
     "metadata": {},
     "output_type": "display_data"
    }
   ],
   "source": [
    "#-- Wide screen:\n",
    "from IPython.core.display import display, HTML\n",
    "display(HTML(\"<style>.container { width:80% !important; }</style>\"))"
   ]
  },
  {
   "cell_type": "code",
   "execution_count": 9,
   "metadata": {
    "execution": {
     "iopub.execute_input": "2021-09-27T14:32:45.467900Z",
     "iopub.status.busy": "2021-09-27T14:32:45.467900Z",
     "iopub.status.idle": "2021-09-27T14:32:45.514942Z",
     "shell.execute_reply": "2021-09-27T14:32:45.514942Z",
     "shell.execute_reply.started": "2021-09-27T14:32:45.467900Z"
    },
    "tags": []
   },
   "outputs": [
    {
     "name": "stdout",
     "output_type": "stream",
     "text": [
      "The autoreload extension is already loaded. To reload it, use:\n",
      "  %reload_ext autoreload\n"
     ]
    }
   ],
   "source": [
    "#-- Auto reload:\n",
    "%load_ext autoreload\n",
    "%autoreload 2"
   ]
  },
  {
   "cell_type": "code",
   "execution_count": 10,
   "metadata": {
    "execution": {
     "iopub.execute_input": "2021-09-27T14:32:45.953916Z",
     "iopub.status.busy": "2021-09-27T14:32:45.953916Z",
     "iopub.status.idle": "2021-09-27T14:32:46.004962Z",
     "shell.execute_reply": "2021-09-27T14:32:46.004962Z",
     "shell.execute_reply.started": "2021-09-27T14:32:45.953916Z"
    },
    "tags": []
   },
   "outputs": [],
   "source": [
    "import numpy             as np\n",
    "import matplotlib.pyplot as plt\n",
    "import matplotlib\n",
    "\n",
    "import torch\n",
    "import torchvision\n",
    "import torchinfo"
   ]
  },
  {
   "cell_type": "markdown",
   "metadata": {
    "slideshow": {
     "slide_type": "slide"
    }
   },
   "source": [
    "### Dogs vs. Cats:\n",
    "* Download the data from:  \n",
    "https://www.kaggle.com/shaunthesheep/microsoft-catsvsdogs-dataset\n",
    "* Remove `Cat\\666.jpg` and `Dog\\11702.jpg` (bad files)\n",
    "* Split your data into $22,500$ training images and $2,498$ validation images.\n",
    "* Obtain at least $98\\%$ classification accuracy.  \n",
    "Try:\n",
    "    * Your own network (e.g. a ResNet based architecture).\n",
    "    * A pretrained network (using transfer learning).\n",
    "    \n",
    "\n",
    "**Tips:**  \n",
    "* Load the data:\n",
    "    * Dataset -- `torchvision.datasets.ImageFolder` and `torchvision.transforms`\n",
    "    * Split -- `torch.utils.data.random_split`\n",
    "    * Data loader -- `torch.utils.data.DataLoader`\n",
    "* Model -- `torch.nn` or `torchvision.models`\n",
    "* Set:\n",
    "    * Device\n",
    "    * Loss function (binary classification)\n",
    "    * Optimizer\n",
    "    * Scheduler (optional)\n",
    "* Train you model!"
   ]
  },
  {
   "cell_type": "code",
   "execution_count": 14,
   "metadata": {},
   "outputs": [
    {
     "name": "stdout",
     "output_type": "stream",
     "text": [
      "Object `?` not found.\n"
     ]
    }
   ],
   "source": [
    "???"
   ]
  }
 ],
 "metadata": {
  "kernelspec": {
   "display_name": "Python 3",
   "language": "python",
   "name": "python3"
  },
  "language_info": {
   "codemirror_mode": {
    "name": "ipython",
    "version": 3
   },
   "file_extension": ".py",
   "mimetype": "text/x-python",
   "name": "python",
   "nbconvert_exporter": "python",
   "pygments_lexer": "ipython3",
   "version": "3.8.12"
  },
  "toc": {
   "base_numbering": 1,
   "nav_menu": {},
   "number_sections": false,
   "sideBar": true,
   "skip_h1_title": false,
   "title_cell": "Table of Contents",
   "title_sidebar": "Contents",
   "toc_cell": false,
   "toc_position": {},
   "toc_section_display": true,
   "toc_window_display": false
  },
  "varInspector": {
   "cols": {
    "lenName": 16,
    "lenType": 16,
    "lenVar": 40
   },
   "kernels_config": {
    "python": {
     "delete_cmd_postfix": "",
     "delete_cmd_prefix": "del ",
     "library": "var_list.py",
     "varRefreshCmd": "print(var_dic_list())"
    },
    "r": {
     "delete_cmd_postfix": ") ",
     "delete_cmd_prefix": "rm(",
     "library": "var_list.r",
     "varRefreshCmd": "cat(var_dic_list()) "
    }
   },
   "types_to_exclude": [
    "module",
    "function",
    "builtin_function_or_method",
    "instance",
    "_Feature"
   ],
   "window_display": false
  }
 },
 "nbformat": 4,
 "nbformat_minor": 4
}
