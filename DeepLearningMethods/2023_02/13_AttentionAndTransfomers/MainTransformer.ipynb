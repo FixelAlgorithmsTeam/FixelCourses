{
 "cells": [
  {
   "cell_type": "markdown",
   "id": "concrete-plenty",
   "metadata": {},
   "source": [
    "![Fixel Algorithms](https://fixelalgorithms.co/images/CCExt.png)"
   ]
  },
  {
   "cell_type": "markdown",
   "id": "oriented-mattress",
   "metadata": {},
   "source": [
    "# <center> Deep Learning Methods </center>\n",
    "## <center> Lecture 13 - Attention and Transformers </center>\n",
    "### <center> Transformers </center>"
   ]
  },
  {
   "cell_type": "markdown",
   "id": "declared-sentence",
   "metadata": {},
   "source": [
    "[![Open In Colab](https://colab.research.google.com/assets/colab-badge.svg)](https://colab.research.google.com/github/FixelAlgorithmsTeam/FixelCourses/blob/master/DeepLearningMethods/13_AttentionAndTransfomers/MainTransformer.ipynb)"
   ]
  },
  {
   "cell_type": "code",
   "execution_count": 1,
   "id": "acting-northwest",
   "metadata": {
    "ExecuteTime": {
     "end_time": "2021-11-18T12:43:44.904036Z",
     "start_time": "2021-11-18T12:43:44.893026Z"
    },
    "scrolled": true
   },
   "outputs": [
    {
     "data": {
      "text/html": [
       "<style>.container { width:80% !important; }</style>"
      ],
      "text/plain": [
       "<IPython.core.display.HTML object>"
      ]
     },
     "metadata": {},
     "output_type": "display_data"
    }
   ],
   "source": [
    "#-- Wide screen:\n",
    "from IPython.core.display import display, HTML\n",
    "display(HTML(\"<style>.container { width:80% !important; }</style>\"))"
   ]
  },
  {
   "cell_type": "code",
   "execution_count": 2,
   "id": "german-genesis",
   "metadata": {
    "ExecuteTime": {
     "end_time": "2021-11-18T12:43:45.318995Z",
     "start_time": "2021-11-18T12:43:45.287967Z"
    }
   },
   "outputs": [],
   "source": [
    "#-- Auto reload:\n",
    "%load_ext autoreload\n",
    "%autoreload 2"
   ]
  },
  {
   "cell_type": "code",
   "execution_count": 3,
   "id": "3a193f4d",
   "metadata": {
    "ExecuteTime": {
     "end_time": "2021-11-18T13:39:45.912859Z",
     "start_time": "2021-11-18T13:39:45.802160Z"
    }
   },
   "outputs": [],
   "source": [
    "if 'google.colab' in str(get_ipython()):\n",
    "    !pip install torchinfo\n",
    "    !npx degit FixelAlgorithmsTeam/FixelCourses/DeepLearningMethods/13_AttentionAndTransfomers/DeepLearningFramework ./DeepLearningFramework"
   ]
  },
  {
   "cell_type": "code",
   "execution_count": 4,
   "id": "auburn-stage",
   "metadata": {
    "ExecuteTime": {
     "end_time": "2021-11-18T12:43:47.088001Z",
     "start_time": "2021-11-18T12:43:45.751955Z"
    }
   },
   "outputs": [],
   "source": [
    "import numpy             as np\n",
    "import pandas            as pd\n",
    "import matplotlib.pyplot as plt\n",
    "\n",
    "import torch\n",
    "import torch.nn            as nn\n",
    "import torch.optim         as optim\n",
    "import torchinfo\n",
    "import torchtext\n",
    "\n",
    "from torchtext.vocab import Vocab"
   ]
  },
  {
   "cell_type": "markdown",
   "id": "5014fc84",
   "metadata": {},
   "source": [
    "### Transformer\n",
    "<img src=\"https://github.com/FixelAlgorithmsTeam/FixelCourses/blob/master/DeepLearningMethods/13_AttentionAndTransfomers//Transformer.png?raw=true\" alt=\"Transformer\" width=800>"
   ]
  },
  {
   "cell_type": "markdown",
   "id": "326929f5",
   "metadata": {},
   "source": [
    "#### Transformer = Encode + Decoder"
   ]
  },
  {
   "cell_type": "code",
   "execution_count": 5,
   "id": "3b7a1bc0",
   "metadata": {
    "ExecuteTime": {
     "end_time": "2021-11-18T12:43:47.216117Z",
     "start_time": "2021-11-18T12:43:47.089002Z"
    }
   },
   "outputs": [
    {
     "data": {
      "text/plain": [
       "==========================================================================================\n",
       "Layer (type:depth-idx)                                            Param #\n",
       "==========================================================================================\n",
       "Transformer                                                       --\n",
       "├─TransformerEncoder: 1-1                                         --\n",
       "│    └─ModuleList: 2-1                                            --\n",
       "│    │    └─TransformerEncoderLayer: 3-1                          527,104\n",
       "│    │    └─TransformerEncoderLayer: 3-2                          527,104\n",
       "│    │    └─TransformerEncoderLayer: 3-3                          527,104\n",
       "│    └─LayerNorm: 2-2                                             512\n",
       "├─TransformerDecoder: 1-2                                         --\n",
       "│    └─ModuleList: 2-3                                            --\n",
       "│    │    └─TransformerDecoderLayer: 3-4                          790,784\n",
       "│    │    └─TransformerDecoderLayer: 3-5                          790,784\n",
       "│    │    └─TransformerDecoderLayer: 3-6                          790,784\n",
       "│    │    └─TransformerDecoderLayer: 3-7                          790,784\n",
       "│    └─LayerNorm: 2-4                                             512\n",
       "==========================================================================================\n",
       "Total params: 2,574,336\n",
       "Trainable params: 2,574,336\n",
       "Non-trainable params: 0\n",
       "=========================================================================================="
      ]
     },
     "execution_count": 5,
     "metadata": {},
     "output_type": "execute_result"
    }
   ],
   "source": [
    "dEmbbeding    = 256\n",
    "nHead         = 8\n",
    "nEncoderLayer = 3\n",
    "nDecoderLayer = 4\n",
    "dNN           = 512\n",
    "\n",
    "oTransformer  = nn.Transformer(dEmbbeding, nHead, nEncoderLayer, nDecoderLayer, dNN)\n",
    "torchinfo.summary(oTransformer)"
   ]
  },
  {
   "cell_type": "markdown",
   "id": "9306de30",
   "metadata": {},
   "source": [
    "#### Encoder = [EncoderLayer] * `nEncoderLayer`"
   ]
  },
  {
   "cell_type": "code",
   "execution_count": 6,
   "id": "9aa9f7b2",
   "metadata": {
    "ExecuteTime": {
     "end_time": "2021-11-18T12:43:47.280175Z",
     "start_time": "2021-11-18T12:43:47.217118Z"
    }
   },
   "outputs": [
    {
     "data": {
      "text/plain": [
       "=====================================================================================\n",
       "Layer (type:depth-idx)                                       Param #\n",
       "=====================================================================================\n",
       "TransformerEncoder                                           --\n",
       "├─ModuleList: 1-1                                            --\n",
       "│    └─TransformerEncoderLayer: 2-1                          --\n",
       "│    │    └─MultiheadAttention: 3-1                          263,168\n",
       "│    │    └─Linear: 3-2                                      131,584\n",
       "│    │    └─Dropout: 3-3                                     --\n",
       "│    │    └─Linear: 3-4                                      131,328\n",
       "│    │    └─LayerNorm: 3-5                                   512\n",
       "│    │    └─LayerNorm: 3-6                                   512\n",
       "│    │    └─Dropout: 3-7                                     --\n",
       "│    │    └─Dropout: 3-8                                     --\n",
       "│    └─TransformerEncoderLayer: 2-2                          --\n",
       "│    │    └─MultiheadAttention: 3-9                          263,168\n",
       "│    │    └─Linear: 3-10                                     131,584\n",
       "│    │    └─Dropout: 3-11                                    --\n",
       "│    │    └─Linear: 3-12                                     131,328\n",
       "│    │    └─LayerNorm: 3-13                                  512\n",
       "│    │    └─LayerNorm: 3-14                                  512\n",
       "│    │    └─Dropout: 3-15                                    --\n",
       "│    │    └─Dropout: 3-16                                    --\n",
       "│    └─TransformerEncoderLayer: 2-3                          --\n",
       "│    │    └─MultiheadAttention: 3-17                         263,168\n",
       "│    │    └─Linear: 3-18                                     131,584\n",
       "│    │    └─Dropout: 3-19                                    --\n",
       "│    │    └─Linear: 3-20                                     131,328\n",
       "│    │    └─LayerNorm: 3-21                                  512\n",
       "│    │    └─LayerNorm: 3-22                                  512\n",
       "│    │    └─Dropout: 3-23                                    --\n",
       "│    │    └─Dropout: 3-24                                    --\n",
       "├─LayerNorm: 1-2                                             512\n",
       "=====================================================================================\n",
       "Total params: 989,696\n",
       "Trainable params: 989,696\n",
       "Non-trainable params: 0\n",
       "====================================================================================="
      ]
     },
     "execution_count": 6,
     "metadata": {},
     "output_type": "execute_result"
    }
   ],
   "source": [
    "torchinfo.summary(oTransformer.encoder)"
   ]
  },
  {
   "cell_type": "markdown",
   "id": "7a12d3bc",
   "metadata": {},
   "source": [
    "##### Decoder = [DecoderLayer] * `nDecoderLayer`"
   ]
  },
  {
   "cell_type": "code",
   "execution_count": 7,
   "id": "f1f35b94",
   "metadata": {
    "ExecuteTime": {
     "end_time": "2021-11-18T12:43:47.360248Z",
     "start_time": "2021-11-18T12:43:47.281176Z"
    }
   },
   "outputs": [
    {
     "data": {
      "text/plain": [
       "=====================================================================================\n",
       "Layer (type:depth-idx)                                       Param #\n",
       "=====================================================================================\n",
       "TransformerDecoder                                           --\n",
       "├─ModuleList: 1-1                                            --\n",
       "│    └─TransformerDecoderLayer: 2-1                          --\n",
       "│    │    └─MultiheadAttention: 3-1                          263,168\n",
       "│    │    └─MultiheadAttention: 3-2                          263,168\n",
       "│    │    └─Linear: 3-3                                      131,584\n",
       "│    │    └─Dropout: 3-4                                     --\n",
       "│    │    └─Linear: 3-5                                      131,328\n",
       "│    │    └─LayerNorm: 3-6                                   512\n",
       "│    │    └─LayerNorm: 3-7                                   512\n",
       "│    │    └─LayerNorm: 3-8                                   512\n",
       "│    │    └─Dropout: 3-9                                     --\n",
       "│    │    └─Dropout: 3-10                                    --\n",
       "│    │    └─Dropout: 3-11                                    --\n",
       "│    └─TransformerDecoderLayer: 2-2                          --\n",
       "│    │    └─MultiheadAttention: 3-12                         263,168\n",
       "│    │    └─MultiheadAttention: 3-13                         263,168\n",
       "│    │    └─Linear: 3-14                                     131,584\n",
       "│    │    └─Dropout: 3-15                                    --\n",
       "│    │    └─Linear: 3-16                                     131,328\n",
       "│    │    └─LayerNorm: 3-17                                  512\n",
       "│    │    └─LayerNorm: 3-18                                  512\n",
       "│    │    └─LayerNorm: 3-19                                  512\n",
       "│    │    └─Dropout: 3-20                                    --\n",
       "│    │    └─Dropout: 3-21                                    --\n",
       "│    │    └─Dropout: 3-22                                    --\n",
       "│    └─TransformerDecoderLayer: 2-3                          --\n",
       "│    │    └─MultiheadAttention: 3-23                         263,168\n",
       "│    │    └─MultiheadAttention: 3-24                         263,168\n",
       "│    │    └─Linear: 3-25                                     131,584\n",
       "│    │    └─Dropout: 3-26                                    --\n",
       "│    │    └─Linear: 3-27                                     131,328\n",
       "│    │    └─LayerNorm: 3-28                                  512\n",
       "│    │    └─LayerNorm: 3-29                                  512\n",
       "│    │    └─LayerNorm: 3-30                                  512\n",
       "│    │    └─Dropout: 3-31                                    --\n",
       "│    │    └─Dropout: 3-32                                    --\n",
       "│    │    └─Dropout: 3-33                                    --\n",
       "│    └─TransformerDecoderLayer: 2-4                          --\n",
       "│    │    └─MultiheadAttention: 3-34                         263,168\n",
       "│    │    └─MultiheadAttention: 3-35                         263,168\n",
       "│    │    └─Linear: 3-36                                     131,584\n",
       "│    │    └─Dropout: 3-37                                    --\n",
       "│    │    └─Linear: 3-38                                     131,328\n",
       "│    │    └─LayerNorm: 3-39                                  512\n",
       "│    │    └─LayerNorm: 3-40                                  512\n",
       "│    │    └─LayerNorm: 3-41                                  512\n",
       "│    │    └─Dropout: 3-42                                    --\n",
       "│    │    └─Dropout: 3-43                                    --\n",
       "│    │    └─Dropout: 3-44                                    --\n",
       "├─LayerNorm: 1-2                                             512\n",
       "=====================================================================================\n",
       "Total params: 1,584,640\n",
       "Trainable params: 1,584,640\n",
       "Non-trainable params: 0\n",
       "====================================================================================="
      ]
     },
     "execution_count": 7,
     "metadata": {},
     "output_type": "execute_result"
    }
   ],
   "source": [
    "torchinfo.summary(oTransformer.decoder)"
   ]
  },
  {
   "cell_type": "markdown",
   "id": "british-mambo",
   "metadata": {},
   "source": [
    "#### Load the data:"
   ]
  },
  {
   "cell_type": "code",
   "execution_count": 8,
   "id": "imperial-potter",
   "metadata": {
    "ExecuteTime": {
     "end_time": "2021-11-18T12:43:48.815350Z",
     "start_time": "2021-11-18T12:43:47.361249Z"
    }
   },
   "outputs": [
    {
     "data": {
      "text/plain": [
       "(126692,\n",
       " [('tom found evidence .', 'תום מצא ראיות .'),\n",
       "  ('tom freed the bird .', 'טום שחרר את הציפור .'),\n",
       "  ('tom freed the bird .', 'טום שלח את הציפור לחופשי .'),\n",
       "  ('tom gasped for air .', 'תום נאבק לנשום .'),\n",
       "  ('tom gets headaches .', 'תום מקבל כאבי ראש .')])"
      ]
     },
     "execution_count": 8,
     "metadata": {},
     "output_type": "execute_result"
    }
   ],
   "source": [
    "import re\n",
    "\n",
    "def NormalizeEnglish(line):\n",
    "    line = line.lower().strip()\n",
    "    line = re.sub(r\"([.!?])\", r\" \\1\",     line) #-- add space before [.!?]\n",
    "    line = re.sub(r\"[^a-zA-Z.!?]+\", r\" \", line) #-- keep only letters and [.!?]\n",
    "    return line\n",
    "\n",
    "def NormalizeHebrew(line):\n",
    "    line = line.strip()\n",
    "    line = re.sub(r\"([.!?])\", r\" \\1\",            line)\n",
    "    line = re.sub(r\"[^\\u0590-\\u05fe.!?]+\", r\" \", line)\n",
    "    return line\n",
    "\n",
    "dirPath = '../../data/Translation//'\n",
    "lLines  = []\n",
    "with open(dirPath + 'heb.txt', encoding='utf-8') as oFile:\n",
    "    for line in oFile:\n",
    "        lSplit  = line.split('\\t')[:2]\n",
    "        lLines += [(NormalizeEnglish(lSplit[0]), NormalizeHebrew(lSplit[1]))]\n",
    "\n",
    "N = len(lLines)\n",
    "N, lLines[26600:26605]"
   ]
  },
  {
   "cell_type": "markdown",
   "id": "sublime-leadership",
   "metadata": {},
   "source": [
    "#### Build vocabularies:"
   ]
  },
  {
   "cell_type": "code",
   "execution_count": 9,
   "id": "pursuant-dakota",
   "metadata": {
    "ExecuteTime": {
     "end_time": "2021-11-18T12:43:49.358434Z",
     "start_time": "2021-11-18T12:43:48.816352Z"
    }
   },
   "outputs": [
    {
     "data": {
      "text/plain": [
       "(7506, 16272)"
      ]
     },
     "execution_count": 9,
     "metadata": {},
     "output_type": "execute_result"
    }
   ],
   "source": [
    "from torchtext.vocab import build_vocab_from_iterator\n",
    "\n",
    "def YieldTokens(lLines):\n",
    "    for line in lLines:\n",
    "        yield line.split()\n",
    "\n",
    "def MakeVocab(lLines):\n",
    "    oVocab = build_vocab_from_iterator(YieldTokens(lLines), min_freq=3, specials=('<UNK>', '<SOS>', '<EOS>', '<PAD>'))\n",
    "    oVocab.set_default_index(oVocab['<UNK>'])\n",
    "    return oVocab\n",
    "        \n",
    "lEnglish, lHebrew = zip(*lLines)\n",
    "oEngVocab         = MakeVocab(lEnglish)\n",
    "oHebVocab         = MakeVocab(lHebrew)\n",
    "\n",
    "len(oEngVocab), len(oHebVocab)"
   ]
  },
  {
   "cell_type": "markdown",
   "id": "radio-ceiling",
   "metadata": {},
   "source": [
    "#### Line2Tensor:"
   ]
  },
  {
   "cell_type": "code",
   "execution_count": 10,
   "id": "certified-escape",
   "metadata": {
    "ExecuteTime": {
     "end_time": "2021-11-18T12:43:49.422492Z",
     "start_time": "2021-11-18T12:43:49.359435Z"
    }
   },
   "outputs": [
    {
     "name": "stdout",
     "output_type": "stream",
     "text": [
      "Origianl (Eng) - hold it !\n",
      "Origianl (Heb) - עצור !\n",
      "Tensor   (Eng) - tensor([  1, 543,  14, 111,   2])\n",
      "Tensor   (Heb) - tensor([   1, 1736,   44,    2])\n",
      "Back     (Eng) - <SOS> hold it ! <EOS>\n",
      "Back     (Heb) - <SOS> עצור ! <EOS>\n"
     ]
    }
   ],
   "source": [
    "def Line2Tensor(oVocab, line):\n",
    "    lLine = ['<SOS>'] + line.split() + ['<EOS>']\n",
    "    return torch.tensor(oVocab(lLine))\n",
    "\n",
    "def Tensor2Line(oVocab, vLine):\n",
    "    return ' '.join([oVocab.get_itos()[e] for e in vLine])\n",
    "    \n",
    "#-- Test:\n",
    "eng1 = lEnglish[152]\n",
    "heb1 = lHebrew [152]\n",
    "eng2 = Line2Tensor(oEngVocab, eng1)\n",
    "heb2 = Line2Tensor(oHebVocab, heb1)\n",
    "eng3 = Tensor2Line(oEngVocab, eng2)\n",
    "heb3 = Tensor2Line(oHebVocab, heb2)\n",
    "\n",
    "print(f'Origianl (Eng) - {eng1}')\n",
    "print(f'Origianl (Heb) - {heb1}')\n",
    "print(f'Tensor   (Eng) - {eng2}')\n",
    "print(f'Tensor   (Heb) - {heb2}')\n",
    "print(f'Back     (Eng) - {eng3}')\n",
    "print(f'Back     (Heb) - {heb3}')"
   ]
  },
  {
   "cell_type": "markdown",
   "id": "female-opening",
   "metadata": {},
   "source": [
    "#### Dataset:"
   ]
  },
  {
   "cell_type": "code",
   "execution_count": 11,
   "id": "a8458da4",
   "metadata": {
    "ExecuteTime": {
     "end_time": "2021-11-18T12:43:49.486550Z",
     "start_time": "2021-11-18T12:43:49.423493Z"
    }
   },
   "outputs": [],
   "source": [
    "if False:\n",
    "    class LangDataset(torch.utils.data.Dataset):\n",
    "        def __init__(self, lX, lY, oVocabX, oVocabY):\n",
    "            self.lX      = lX\n",
    "            self.lY      = lY\n",
    "            self.oVocabX = oVocabX\n",
    "            self.oVocabY = oVocabY\n",
    "\n",
    "        def __len__(self):\n",
    "            return len(self.lX)\n",
    "\n",
    "        def __getitem__(self, idx):\n",
    "            sX = self.lX[idx]\n",
    "            sY = self.lY[idx]\n",
    "\n",
    "            vX = Line2Tensor(self.oVocabX, sX)\n",
    "            vY = Line2Tensor(self.oVocabY, sY)\n",
    "\n",
    "            return vX, vY"
   ]
  },
  {
   "cell_type": "code",
   "execution_count": 12,
   "id": "alternative-texture",
   "metadata": {
    "ExecuteTime": {
     "end_time": "2021-11-18T12:43:49.550609Z",
     "start_time": "2021-11-18T12:43:49.487552Z"
    }
   },
   "outputs": [
    {
     "data": {
      "text/plain": [
       "('<SOS> hug tom . <EOS>', '<SOS> <UNK> את תום . <EOS>')"
      ]
     },
     "execution_count": 12,
     "metadata": {},
     "output_type": "execute_result"
    }
   ],
   "source": [
    "from DeepLearningFramework.TransformerUtils import LangDataset\n",
    "\n",
    "oDataset           = LangDataset(lEnglish, lHebrew, oEngVocab, oHebVocab)\n",
    "vEngLine, vHebLine = oDataset[155]\n",
    "\n",
    "Tensor2Line(oEngVocab, vEngLine), Tensor2Line(oHebVocab, vHebLine)"
   ]
  },
  {
   "cell_type": "code",
   "execution_count": 13,
   "id": "private-programming",
   "metadata": {
    "ExecuteTime": {
     "end_time": "2021-11-18T12:43:49.614666Z",
     "start_time": "2021-11-18T12:43:49.550609Z"
    }
   },
   "outputs": [
    {
     "data": {
      "text/plain": [
       "(115000, 11692)"
      ]
     },
     "execution_count": 13,
     "metadata": {},
     "output_type": "execute_result"
    }
   ],
   "source": [
    "from torch.utils.data import random_split\n",
    "\n",
    "nTrain              = 115000\n",
    "nTest               = N - nTrain\n",
    "oTrainSet, oTestSet = random_split(oDataset, [nTrain, nTest])\n",
    "\n",
    "len(oTrainSet), len(oTestSet)"
   ]
  },
  {
   "cell_type": "markdown",
   "id": "global-trail",
   "metadata": {},
   "source": [
    "#### Data loader:"
   ]
  },
  {
   "cell_type": "code",
   "execution_count": 14,
   "id": "85ab2a8b",
   "metadata": {
    "ExecuteTime": {
     "end_time": "2021-11-18T12:43:49.678725Z",
     "start_time": "2021-11-18T12:43:49.615668Z"
    }
   },
   "outputs": [],
   "source": [
    "from torch.nn.utils.rnn import pad_sequence\n",
    "\n",
    "oVocabX = oEngVocab\n",
    "oVocabY = oHebVocab\n",
    "if False:\n",
    "    class LangCollate:\n",
    "        def __init__(self, padValue):\n",
    "            self.padValue = padValue\n",
    "\n",
    "        def __call__(self, lBatch):\n",
    "            lX, lY = zip(*lBatch)\n",
    "            mX     = pad_sequence(lX, padding_value=self.padValue, batch_first=True)\n",
    "            mY     = pad_sequence(lY, padding_value=self.padValue, batch_first=True)\n",
    "\n",
    "            return mX, mY"
   ]
  },
  {
   "cell_type": "code",
   "execution_count": 15,
   "id": "bibliographic-letter",
   "metadata": {
    "ExecuteTime": {
     "end_time": "2021-11-18T12:43:52.217200Z",
     "start_time": "2021-11-18T12:43:49.679725Z"
    }
   },
   "outputs": [
    {
     "data": {
      "text/plain": [
       "(torch.Size([128, 18]), torch.Size([128, 17]))"
      ]
     },
     "execution_count": 15,
     "metadata": {},
     "output_type": "execute_result"
    }
   ],
   "source": [
    "from DeepLearningFramework.TransformerUtils import LangCollate\n",
    "from torch.utils.data                       import DataLoader\n",
    "\n",
    "oCollate  = LangCollate(oVocabX['<PAD>'])\n",
    "batchSize = 128\n",
    "oTrainDL  = DataLoader(oTrainSet, shuffle=True,  batch_size=1*batchSize, collate_fn=oCollate, num_workers=2, persistent_workers=True)\n",
    "oTestDL   = DataLoader(oTestSet,  shuffle=False, batch_size=2*batchSize, collate_fn=oCollate, num_workers=2, persistent_workers=True)\n",
    "\n",
    "mX, mY = next(iter(oTrainDL))\n",
    "mX.shape, mY.shape"
   ]
  },
  {
   "cell_type": "markdown",
   "id": "c3df5e90",
   "metadata": {
    "ExecuteTime": {
     "end_time": "2021-10-11T19:26:15.385415Z",
     "start_time": "2021-10-11T19:26:15.276315Z"
    }
   },
   "source": [
    "#### Transformer:\n",
    "<img src=\"https://github.com/FixelAlgorithmsTeam/FixelCourses/blob/master/DeepLearningMethods/13_AttentionAndTransfomers//Transformer.png?raw=true\" alt=\"Transformer\" width=800>"
   ]
  },
  {
   "cell_type": "code",
   "execution_count": 16,
   "id": "adjustable-accent",
   "metadata": {
    "ExecuteTime": {
     "end_time": "2021-11-18T12:43:52.297273Z",
     "start_time": "2021-11-18T12:43:52.218201Z"
    }
   },
   "outputs": [],
   "source": [
    "Vx   = len(oVocabX)\n",
    "Vy   = len(oVocabY)\n",
    "\n",
    "class Transformer(nn.Module):\n",
    "    def __init__(self):\n",
    "        super().__init__()\n",
    "        \n",
    "        D                   = 256\n",
    "        MAX_LENGTH          = 55\n",
    "        self.oEmbeedingX    = nn.Embedding  (Vx,         D)\n",
    "        self.oEmbeedingY    = nn.Embedding  (Vy,         D)\n",
    "        self.oEmbeedingPosX = nn.Embedding  (MAX_LENGTH, D)\n",
    "        self.oEmbeedingPosY = nn.Embedding  (MAX_LENGTH, D)\n",
    "        self.oTransformer   = nn.Transformer(D, 8, 3, 3, 2*D, 0.15, batch_first=True)\n",
    "        self.oLinear        = nn.Linear     (D, Vy)\n",
    "    #-------------------------------------------------------------------------------#    \n",
    "    #-------------------------------------------------------------------------------#\n",
    "    def PreEncode(self, mX):\n",
    "        mMask     = mX == oVocabX['<PAD>']             #-- mMask.shape = (N, Tx)\n",
    "        mX        = self.oEmbeedingX(mX)               #-- mX   .shape = (N, Tx, D)\n",
    "        N, Tx, D  = mX.shape\n",
    "        vT        = torch.arange(Tx, device=mX.device) #-- vT   .shape = (Tx,)\n",
    "        mT        = self.oEmbeedingPosX(vT[None,:])    #-- mT   .shape = (1, Tx, D)\n",
    "        mX        = np.sqrt(D) * mX + mT               #-- mX   .shape = (N, Tx, D)\n",
    "        \n",
    "        return mX, mMask\n",
    "    #-------------------------------------------------------------------------------#\n",
    "    #-------------------------------------------------------------------------------#\n",
    "    def PreDecode(self, mY):\n",
    "        mMask     = mY == oVocabY['<PAD>']             #-- mMask.shape = (N, Ty)\n",
    "        mY        = self.oEmbeedingY(mY)               #-- mY   .shape = (N, Ty, D)\n",
    "        N, Ty, D  = mY.shape\n",
    "        vT        = torch.arange(Ty, device=mY.device) #-- vT   .shape = (Ty,)\n",
    "        mT        = self.oEmbeedingPosY(vT[None,:])    #-- mT   .shape = (1, Ty, D)\n",
    "        mY        = np.sqrt(D) * mY + mT               #-- mY   .shape = (N, Ty, D)\n",
    "        \n",
    "        mSubMask  = self.oTransformer.generate_square_subsequent_mask(Ty).to(mY.device) #-- mSubMask.shape = (Ty, Ty)\n",
    "        \n",
    "        return mY, mMask, mSubMask\n",
    "    #-------------------------------------------------------------------------------#\n",
    "    #-------------------------------------------------------------------------------#\n",
    "    def Encode(self, mX):\n",
    "        #-- mX.shape = (N, Tx)\n",
    "        mX, mMaskX = self.PreEncode(mX)                                         #-- mX.shape = (N, Tx, D)\n",
    "        mH         = self.oTransformer.encoder(mX, src_key_padding_mask=mMaskX) #-- mH.shape = (N, Tx, D)\n",
    "    \n",
    "        return mH, mMaskX\n",
    "    #-------------------------------------------------------------------------------#\n",
    "    #-------------------------------------------------------------------------------#\n",
    "    def Decoce(self, mH, mMaskH, mY):\n",
    "        #-- mY.shape = (N, Ty, D)\n",
    "        mY, mMaskY, mSubMaskY = self.PreDecode(mY)\n",
    "        \n",
    "        mO = self.oTransformer.decoder(mY, mH,\n",
    "                                   memory_key_padding_mask = mMaskH,   #-- H padding mask (same as X)\n",
    "                                   tgt_key_padding_mask    = mMaskY,   #-- Y padding mask\n",
    "                                   tgt_mask                = mSubMaskY #-- Y time    mask\n",
    "                                  )                                    #-- mO.shape = (N, Ty, D)\n",
    "        mZ = self.oLinear(mO)  #-- mZ.shape = (N, Ty, Vy)\n",
    "        mZ = mZ.permute(0,2,1) #-- mZ.shape = (N, Vy, Ty)\n",
    "    \n",
    "        return mZ\n",
    "    #-------------------------------------------------------------------------------#\n",
    "    #-------------------------------------------------------------------------------#\n",
    "    def forward(self, mX, mY):\n",
    "        mH, mMaskX = self.Encode(mX)\n",
    "        mZ         = self.Decoce(mH, mMaskX, mY)\n",
    "        \n",
    "        return mZ"
   ]
  },
  {
   "cell_type": "code",
   "execution_count": 17,
   "id": "advised-extreme",
   "metadata": {
    "ExecuteTime": {
     "end_time": "2021-11-18T12:43:52.953500Z",
     "start_time": "2021-11-18T12:43:52.298275Z"
    }
   },
   "outputs": [
    {
     "data": {
      "text/plain": [
       "torch.Size([128, 16272, 16])"
      ]
     },
     "execution_count": 17,
     "metadata": {},
     "output_type": "execute_result"
    }
   ],
   "source": [
    "oModel = Transformer()\n",
    "mZ     = oModel(mX, mY[:,:-1])\n",
    "mZ.shape"
   ]
  },
  {
   "cell_type": "code",
   "execution_count": 18,
   "id": "b3e2d320",
   "metadata": {
    "ExecuteTime": {
     "end_time": "2021-11-18T12:43:53.017559Z",
     "start_time": "2021-11-18T12:43:52.954501Z"
    }
   },
   "outputs": [],
   "source": [
    "def Epoch(oModel, oDataDL, Loss, Metric, oOptim=None, oScheduler=None, bTrain=True):\n",
    "\n",
    "    epochLoss   = 0\n",
    "    epochMetric = 0\n",
    "    count       = 0\n",
    "    nIter       = len(oDataDL)\n",
    "    vLR         = np.full(nIter, np.nan)\n",
    "    DEVICE      = next(oModel.parameters()).device #-- CPU\\GPU\n",
    "\n",
    "\n",
    "    oModel.train(bTrain) #-- train or test\n",
    "\n",
    "    #-- Iterate over the mini-batches:\n",
    "    for ii, (mX, mY) in enumerate(oDataDL):\n",
    "        #-- Move to device (CPU\\GPU):\n",
    "        mX = mX.to(DEVICE)\n",
    "        mY = mY.to(DEVICE)\n",
    "        \n",
    "        if bTrain == True:\n",
    "            #-- Forward:\n",
    "            mOut = oModel(mX,   mY[:,:-1]) #-- omit <EOS>\n",
    "            loss = Loss  (mOut, mY[:,1:])  #-- omit <SOS>\n",
    "\n",
    "            #-- Backward:\n",
    "            vLR[ii] = oScheduler.get_last_lr()[0]\n",
    "            oOptim    .zero_grad() #-- set gradients to zeros\n",
    "            loss      .backward () #-- backward\n",
    "            oOptim    .step     () #-- update parameters\n",
    "            oScheduler.step     () #-- update learning rate\n",
    "            \n",
    "        else:\n",
    "            with torch.no_grad():\n",
    "                #-- Forward:\n",
    "                mOut = oModel(mX,   mY[:,:-1]) #-- omit <EOS>\n",
    "                loss = Loss  (mOut, mY[:,1:])  #-- omit <SOS>\n",
    "\n",
    "        with torch.no_grad():\n",
    "            Nb           = mY.shape[0]\n",
    "            count       += Nb\n",
    "            epochLoss   += Nb * loss.item()\n",
    "            epochMetric += Nb * Metric(mOut, mY[:,1:])\n",
    "        print(f'\\r{\"Train\" if bTrain else \"Val\"} - Iteration: {ii:3d} ({nIter}): loss = {loss:2.6f}', end='')\n",
    "\n",
    "    print('', end='\\r')\n",
    "    epochLoss   /= count\n",
    "    epochMetric /= count\n",
    "\n",
    "    return epochLoss, epochMetric, vLR"
   ]
  },
  {
   "cell_type": "code",
   "execution_count": 19,
   "id": "interracial-visibility",
   "metadata": {
    "ExecuteTime": {
     "end_time": "2021-11-18T12:43:53.416505Z",
     "start_time": "2021-11-18T12:43:53.018560Z"
    }
   },
   "outputs": [],
   "source": [
    "from torch.optim.lr_scheduler       import OneCycleLR\n",
    "from DeepLearningFramework.Training import TrainModel\n",
    "from DeepLearningFramework.Metric   import Accuracy\n",
    "\n",
    "DEVICE = torch.device       ('cuda:0' if torch.cuda.is_available() else 'cpu') \n",
    "Loss   = nn.CrossEntropyLoss(ignore_index=oVocabY['<PAD>'])\n",
    "Metric = Accuracy           (ignoreIndex =oVocabY['<PAD>'])"
   ]
  },
  {
   "cell_type": "code",
   "execution_count": 20,
   "id": "spoken-solid",
   "metadata": {
    "ExecuteTime": {
     "end_time": "2021-11-18T13:35:43.789234Z",
     "start_time": "2021-11-18T12:43:53.417507Z"
    },
    "scrolled": false
   },
   "outputs": [
    {
     "name": "stdout",
     "output_type": "stream",
     "text": [
      "------------------------------------------------------------------------------------------------------------------------\n",
      "Epoch 000: | Train loss:  5.941 | Val loss:  4.975 | Train Metric:  0.320 | Val Metric:  0.382 | epoch time: 27.113 | <-- Checkpoint!\n",
      "Epoch 001: | Train loss:  4.790 | Val loss:  4.579 | Train Metric:  0.399 | Val Metric:  0.418 | epoch time: 22.593 | <-- Checkpoint!\n",
      "Epoch 002: | Train loss:  4.444 | Val loss:  4.250 | Train Metric:  0.426 | Val Metric:  0.444 | epoch time: 22.490 | <-- Checkpoint!\n",
      "Epoch 003: | Train loss:  4.151 | Val loss:  3.970 | Train Metric:  0.449 | Val Metric:  0.467 | epoch time: 22.638 | <-- Checkpoint!\n",
      "Epoch 004: | Train loss:  3.876 | Val loss:  3.702 | Train Metric:  0.469 | Val Metric:  0.489 | epoch time: 23.148 | <-- Checkpoint!\n",
      "Epoch 005: | Train loss:  3.608 | Val loss:  3.454 | Train Metric:  0.490 | Val Metric:  0.510 | epoch time: 22.803 | <-- Checkpoint!\n",
      "Epoch 006: | Train loss:  3.345 | Val loss:  3.198 | Train Metric:  0.512 | Val Metric:  0.534 | epoch time: 22.660 | <-- Checkpoint!\n",
      "Epoch 007: | Train loss:  3.082 | Val loss:  2.953 | Train Metric:  0.535 | Val Metric:  0.558 | epoch time: 22.690 | <-- Checkpoint!\n",
      "Epoch 008: | Train loss:  2.820 | Val loss:  2.735 | Train Metric:  0.559 | Val Metric:  0.579 | epoch time: 22.741 | <-- Checkpoint!\n",
      "Epoch 009: | Train loss:  2.575 | Val loss:  2.524 | Train Metric:  0.583 | Val Metric:  0.601 | epoch time: 23.230 | <-- Checkpoint!\n",
      "------------------------------------------------------------------------------------------------------------------------\n",
      "Epoch 010: | Train loss:  2.349 | Val loss:  2.343 | Train Metric:  0.605 | Val Metric:  0.620 | epoch time: 22.694 | <-- Checkpoint!\n",
      "Epoch 011: | Train loss:  2.154 | Val loss:  2.210 | Train Metric:  0.627 | Val Metric:  0.632 | epoch time: 22.647 | <-- Checkpoint!\n",
      "Epoch 012: | Train loss:  1.989 | Val loss:  2.111 | Train Metric:  0.643 | Val Metric:  0.641 | epoch time: 23.022 | <-- Checkpoint!\n",
      "Epoch 013: | Train loss:  1.850 | Val loss:  1.987 | Train Metric:  0.658 | Val Metric:  0.656 | epoch time: 22.738 | <-- Checkpoint!\n",
      "Epoch 014: | Train loss:  1.735 | Val loss:  1.918 | Train Metric:  0.671 | Val Metric:  0.665 | epoch time: 23.494 | <-- Checkpoint!\n",
      "Epoch 015: | Train loss:  1.638 | Val loss:  1.847 | Train Metric:  0.682 | Val Metric:  0.672 | epoch time: 23.668 | <-- Checkpoint!\n",
      "Epoch 016: | Train loss:  1.553 | Val loss:  1.788 | Train Metric:  0.693 | Val Metric:  0.677 | epoch time: 23.062 | <-- Checkpoint!\n",
      "Epoch 017: | Train loss:  1.481 | Val loss:  1.749 | Train Metric:  0.703 | Val Metric:  0.682 | epoch time: 23.589 | <-- Checkpoint!\n",
      "Epoch 018: | Train loss:  1.415 | Val loss:  1.702 | Train Metric:  0.711 | Val Metric:  0.688 | epoch time: 23.833 | <-- Checkpoint!\n",
      "Epoch 019: | Train loss:  1.360 | Val loss:  1.664 | Train Metric:  0.719 | Val Metric:  0.692 | epoch time: 24.097 | <-- Checkpoint!\n",
      "------------------------------------------------------------------------------------------------------------------------\n",
      "Epoch 020: | Train loss:  1.311 | Val loss:  1.633 | Train Metric:  0.727 | Val Metric:  0.696 | epoch time: 23.935 | <-- Checkpoint!\n",
      "Epoch 021: | Train loss:  1.267 | Val loss:  1.630 | Train Metric:  0.732 | Val Metric:  0.696 | epoch time: 23.503 |\n",
      "Epoch 022: | Train loss:  1.237 | Val loss:  1.612 | Train Metric:  0.736 | Val Metric:  0.699 | epoch time: 23.457 | <-- Checkpoint!\n",
      "Epoch 023: | Train loss:  1.211 | Val loss:  1.612 | Train Metric:  0.740 | Val Metric:  0.695 | epoch time: 23.480 |\n",
      "Epoch 024: | Train loss:  1.196 | Val loss:  1.600 | Train Metric:  0.742 | Val Metric:  0.696 | epoch time: 23.340 |\n",
      "Epoch 025: | Train loss:  1.191 | Val loss:  1.594 | Train Metric:  0.742 | Val Metric:  0.696 | epoch time: 23.556 |\n",
      "Epoch 026: | Train loss:  1.189 | Val loss:  1.600 | Train Metric:  0.742 | Val Metric:  0.698 | epoch time: 23.605 |\n",
      "Epoch 027: | Train loss:  1.186 | Val loss:  1.588 | Train Metric:  0.742 | Val Metric:  0.697 | epoch time: 22.910 |\n",
      "Epoch 028: | Train loss:  1.184 | Val loss:  1.575 | Train Metric:  0.742 | Val Metric:  0.700 | epoch time: 23.427 | <-- Checkpoint!\n",
      "Epoch 029: | Train loss:  1.178 | Val loss:  1.578 | Train Metric:  0.743 | Val Metric:  0.699 | epoch time: 23.323 |\n",
      "------------------------------------------------------------------------------------------------------------------------\n",
      "Epoch 030: | Train loss:  1.167 | Val loss:  1.573 | Train Metric:  0.745 | Val Metric:  0.700 | epoch time: 23.596 |\n",
      "Epoch 031: | Train loss:  1.160 | Val loss:  1.569 | Train Metric:  0.746 | Val Metric:  0.702 | epoch time: 23.535 | <-- Checkpoint!\n",
      "Epoch 032: | Train loss:  1.150 | Val loss:  1.587 | Train Metric:  0.747 | Val Metric:  0.698 | epoch time: 23.792 |\n",
      "Epoch 033: | Train loss:  1.143 | Val loss:  1.566 | Train Metric:  0.749 | Val Metric:  0.701 | epoch time: 24.101 |\n",
      "Epoch 034: | Train loss:  1.134 | Val loss:  1.565 | Train Metric:  0.750 | Val Metric:  0.701 | epoch time: 23.518 |\n",
      "Epoch 035: | Train loss:  1.125 | Val loss:  1.558 | Train Metric:  0.752 | Val Metric:  0.703 | epoch time: 23.455 | <-- Checkpoint!\n",
      "Epoch 036: | Train loss:  1.116 | Val loss:  1.555 | Train Metric:  0.754 | Val Metric:  0.704 | epoch time: 23.844 | <-- Checkpoint!\n",
      "Epoch 037: | Train loss:  1.109 | Val loss:  1.555 | Train Metric:  0.755 | Val Metric:  0.706 | epoch time: 23.496 | <-- Checkpoint!\n",
      "Epoch 038: | Train loss:  1.100 | Val loss:  1.543 | Train Metric:  0.756 | Val Metric:  0.704 | epoch time: 24.382 |\n",
      "Epoch 039: | Train loss:  1.093 | Val loss:  1.549 | Train Metric:  0.758 | Val Metric:  0.706 | epoch time: 24.543 |\n",
      "------------------------------------------------------------------------------------------------------------------------\n",
      "Epoch 040: | Train loss:  1.087 | Val loss:  1.547 | Train Metric:  0.759 | Val Metric:  0.705 | epoch time: 24.402 |\n",
      "Epoch 041: | Train loss:  1.075 | Val loss:  1.552 | Train Metric:  0.761 | Val Metric:  0.705 | epoch time: 23.264 |\n",
      "Epoch 042: | Train loss:  1.067 | Val loss:  1.537 | Train Metric:  0.762 | Val Metric:  0.710 | epoch time: 22.928 | <-- Checkpoint!\n",
      "Epoch 043: | Train loss:  1.057 | Val loss:  1.536 | Train Metric:  0.764 | Val Metric:  0.707 | epoch time: 23.426 |\n",
      "Epoch 044: | Train loss:  1.051 | Val loss:  1.530 | Train Metric:  0.765 | Val Metric:  0.712 | epoch time: 23.066 | <-- Checkpoint!\n",
      "Epoch 045: | Train loss:  1.041 | Val loss:  1.523 | Train Metric:  0.767 | Val Metric:  0.711 | epoch time: 23.946 |\n",
      "Epoch 046: | Train loss:  1.030 | Val loss:  1.521 | Train Metric:  0.769 | Val Metric:  0.713 | epoch time: 22.955 | <-- Checkpoint!\n",
      "Epoch 047: | Train loss:  1.020 | Val loss:  1.515 | Train Metric:  0.771 | Val Metric:  0.711 | epoch time: 23.157 |\n",
      "Epoch 048: | Train loss:  1.011 | Val loss:  1.520 | Train Metric:  0.772 | Val Metric:  0.712 | epoch time: 23.090 |\n",
      "Epoch 049: | Train loss:  1.000 | Val loss:  1.532 | Train Metric:  0.774 | Val Metric:  0.711 | epoch time: 22.817 |\n",
      "------------------------------------------------------------------------------------------------------------------------\n",
      "Epoch 050: | Train loss:  0.989 | Val loss:  1.522 | Train Metric:  0.777 | Val Metric:  0.714 | epoch time: 23.169 | <-- Checkpoint!\n",
      "Epoch 051: | Train loss:  0.978 | Val loss:  1.511 | Train Metric:  0.779 | Val Metric:  0.715 | epoch time: 22.807 | <-- Checkpoint!\n",
      "Epoch 052: | Train loss:  0.965 | Val loss:  1.498 | Train Metric:  0.781 | Val Metric:  0.714 | epoch time: 37.490 |\n",
      "Epoch 053: | Train loss:  0.956 | Val loss:  1.504 | Train Metric:  0.783 | Val Metric:  0.715 | epoch time: 40.606 |\n",
      "Epoch 054: | Train loss:  0.943 | Val loss:  1.513 | Train Metric:  0.785 | Val Metric:  0.714 | epoch time: 39.310 |\n",
      "Epoch 055: | Train loss:  0.930 | Val loss:  1.504 | Train Metric:  0.788 | Val Metric:  0.715 | epoch time: 43.203 |\n",
      "Epoch 056: | Train loss:  0.917 | Val loss:  1.501 | Train Metric:  0.790 | Val Metric:  0.717 | epoch time: 40.756 | <-- Checkpoint!\n",
      "Epoch 057: | Train loss:  0.904 | Val loss:  1.498 | Train Metric:  0.793 | Val Metric:  0.716 | epoch time: 40.972 |\n",
      "Epoch 058: | Train loss:  0.892 | Val loss:  1.486 | Train Metric:  0.795 | Val Metric:  0.719 | epoch time: 41.977 | <-- Checkpoint!\n"
     ]
    },
    {
     "name": "stdout",
     "output_type": "stream",
     "text": [
      "Epoch 059: | Train loss:  0.878 | Val loss:  1.504 | Train Metric:  0.798 | Val Metric:  0.716 | epoch time: 39.032 |\n",
      "------------------------------------------------------------------------------------------------------------------------\n",
      "Epoch 060: | Train loss:  0.864 | Val loss:  1.481 | Train Metric:  0.801 | Val Metric:  0.719 | epoch time: 38.974 | <-- Checkpoint!\n",
      "Epoch 061: | Train loss:  0.851 | Val loss:  1.491 | Train Metric:  0.804 | Val Metric:  0.720 | epoch time: 38.977 | <-- Checkpoint!\n",
      "Epoch 062: | Train loss:  0.836 | Val loss:  1.504 | Train Metric:  0.807 | Val Metric:  0.719 | epoch time: 39.065 |\n",
      "Epoch 063: | Train loss:  0.821 | Val loss:  1.495 | Train Metric:  0.810 | Val Metric:  0.720 | epoch time: 39.336 | <-- Checkpoint!\n",
      "Epoch 064: | Train loss:  0.807 | Val loss:  1.487 | Train Metric:  0.813 | Val Metric:  0.720 | epoch time: 39.392 | <-- Checkpoint!\n",
      "Epoch 065: | Train loss:  0.792 | Val loss:  1.494 | Train Metric:  0.816 | Val Metric:  0.721 | epoch time: 41.312 | <-- Checkpoint!\n",
      "Epoch 066: | Train loss:  0.777 | Val loss:  1.489 | Train Metric:  0.819 | Val Metric:  0.720 | epoch time: 38.857 |\n",
      "Epoch 067: | Train loss:  0.761 | Val loss:  1.502 | Train Metric:  0.822 | Val Metric:  0.722 | epoch time: 39.187 | <-- Checkpoint!\n",
      "Epoch 068: | Train loss:  0.746 | Val loss:  1.494 | Train Metric:  0.826 | Val Metric:  0.723 | epoch time: 38.958 | <-- Checkpoint!\n",
      "Epoch 069: | Train loss:  0.730 | Val loss:  1.482 | Train Metric:  0.828 | Val Metric:  0.723 | epoch time: 39.292 |\n",
      "------------------------------------------------------------------------------------------------------------------------\n",
      "Epoch 070: | Train loss:  0.713 | Val loss:  1.490 | Train Metric:  0.833 | Val Metric:  0.724 | epoch time: 38.942 | <-- Checkpoint!\n",
      "Epoch 071: | Train loss:  0.698 | Val loss:  1.485 | Train Metric:  0.836 | Val Metric:  0.723 | epoch time: 38.972 |\n",
      "Epoch 072: | Train loss:  0.682 | Val loss:  1.491 | Train Metric:  0.840 | Val Metric:  0.725 | epoch time: 39.853 | <-- Checkpoint!\n",
      "Epoch 073: | Train loss:  0.665 | Val loss:  1.503 | Train Metric:  0.844 | Val Metric:  0.723 | epoch time: 39.440 |\n",
      "Epoch 074: | Train loss:  0.650 | Val loss:  1.492 | Train Metric:  0.847 | Val Metric:  0.725 | epoch time: 39.194 |\n",
      "Epoch 075: | Train loss:  0.634 | Val loss:  1.499 | Train Metric:  0.851 | Val Metric:  0.724 | epoch time: 38.783 |\n",
      "Epoch 076: | Train loss:  0.617 | Val loss:  1.507 | Train Metric:  0.854 | Val Metric:  0.725 | epoch time: 39.177 | <-- Checkpoint!\n",
      "Epoch 077: | Train loss:  0.602 | Val loss:  1.509 | Train Metric:  0.858 | Val Metric:  0.724 | epoch time: 39.080 |\n",
      "Epoch 078: | Train loss:  0.585 | Val loss:  1.509 | Train Metric:  0.862 | Val Metric:  0.725 | epoch time: 39.379 | <-- Checkpoint!\n",
      "Epoch 079: | Train loss:  0.569 | Val loss:  1.512 | Train Metric:  0.865 | Val Metric:  0.725 | epoch time: 39.040 |\n",
      "------------------------------------------------------------------------------------------------------------------------\n",
      "Epoch 080: | Train loss:  0.552 | Val loss:  1.524 | Train Metric:  0.869 | Val Metric:  0.726 | epoch time: 39.095 | <-- Checkpoint!\n",
      "Epoch 081: | Train loss:  0.537 | Val loss:  1.529 | Train Metric:  0.873 | Val Metric:  0.727 | epoch time: 38.837 | <-- Checkpoint!\n",
      "Epoch 082: | Train loss:  0.521 | Val loss:  1.533 | Train Metric:  0.877 | Val Metric:  0.726 | epoch time: 39.775 |\n",
      "Epoch 083: | Train loss:  0.506 | Val loss:  1.521 | Train Metric:  0.881 | Val Metric:  0.726 | epoch time: 39.244 |\n",
      "Epoch 084: | Train loss:  0.492 | Val loss:  1.546 | Train Metric:  0.884 | Val Metric:  0.726 | epoch time: 38.671 |\n",
      "Epoch 085: | Train loss:  0.477 | Val loss:  1.542 | Train Metric:  0.887 | Val Metric:  0.726 | epoch time: 39.966 |\n",
      "Epoch 086: | Train loss:  0.463 | Val loss:  1.543 | Train Metric:  0.891 | Val Metric:  0.726 | epoch time: 39.291 |\n",
      "Epoch 087: | Train loss:  0.451 | Val loss:  1.557 | Train Metric:  0.894 | Val Metric:  0.726 | epoch time: 39.930 |\n",
      "Epoch 088: | Train loss:  0.437 | Val loss:  1.561 | Train Metric:  0.898 | Val Metric:  0.726 | epoch time: 40.053 |\n",
      "Epoch 089: | Train loss:  0.426 | Val loss:  1.569 | Train Metric:  0.900 | Val Metric:  0.726 | epoch time: 38.856 |\n",
      "------------------------------------------------------------------------------------------------------------------------\n",
      "Epoch 090: | Train loss:  0.414 | Val loss:  1.571 | Train Metric:  0.903 | Val Metric:  0.725 | epoch time: 38.799 |\n",
      "Epoch 091: | Train loss:  0.405 | Val loss:  1.577 | Train Metric:  0.906 | Val Metric:  0.726 | epoch time: 38.782 |\n",
      "Epoch 092: | Train loss:  0.396 | Val loss:  1.578 | Train Metric:  0.908 | Val Metric:  0.726 | epoch time: 38.834 |\n",
      "Epoch 093: | Train loss:  0.388 | Val loss:  1.586 | Train Metric:  0.910 | Val Metric:  0.725 | epoch time: 38.744 |\n",
      "Epoch 094: | Train loss:  0.381 | Val loss:  1.587 | Train Metric:  0.912 | Val Metric:  0.725 | epoch time: 38.838 |\n",
      "Epoch 095: | Train loss:  0.375 | Val loss:  1.588 | Train Metric:  0.913 | Val Metric:  0.725 | epoch time: 38.841 |\n",
      "Epoch 096: | Train loss:  0.371 | Val loss:  1.592 | Train Metric:  0.914 | Val Metric:  0.726 | epoch time: 38.802 |\n",
      "Epoch 097: | Train loss:  0.367 | Val loss:  1.594 | Train Metric:  0.916 | Val Metric:  0.726 | epoch time: 38.765 |\n",
      "Epoch 098: | Train loss:  0.365 | Val loss:  1.596 | Train Metric:  0.916 | Val Metric:  0.726 | epoch time: 38.743 |\n",
      "Epoch 099: | Train loss:  0.364 | Val loss:  1.595 | Train Metric:  0.916 | Val Metric:  0.726 | epoch time: 38.782 |\n"
     ]
    }
   ],
   "source": [
    "nEpochs    = 100\n",
    "nIter      = nEpochs * len(oTrainDL)\n",
    "\n",
    "oModel     = Transformer().to(DEVICE)\n",
    "oOptim     = optim.AdamW(oModel.parameters(), lr=0, betas=(0.9, 0.99), weight_decay=5e-1)\n",
    "oScheduler = OneCycleLR (oOptim, max_lr=8e-4, total_steps=nIter)\n",
    "lHistory   = TrainModel (oModel, oTrainDL, oTestDL, Loss, Metric, nEpochs, oOptim, oScheduler, Epoch=Epoch, sModelName='Transformer');"
   ]
  },
  {
   "cell_type": "code",
   "execution_count": 21,
   "id": "controlling-bottom",
   "metadata": {
    "ExecuteTime": {
     "end_time": "2021-11-18T13:38:15.069865Z",
     "start_time": "2021-11-18T13:38:14.624459Z"
    }
   },
   "outputs": [
    {
     "data": {
      "image/png": "[encoded data removed]",
      "text/plain": [
       "<Figure size 2200x500 with 3 Axes>"
      ]
     },
     "metadata": {},
     "output_type": "display_data"
    }
   ],
   "source": [
    "from DeepLearningFramework.Auxiliary import PlotHistory\n",
    "\n",
    "PlotHistory(lHistory)\n",
    "plt.show   ()"
   ]
  },
  {
   "cell_type": "code",
   "execution_count": 22,
   "id": "779a3489",
   "metadata": {
    "ExecuteTime": {
     "end_time": "2021-11-18T13:39:24.665224Z",
     "start_time": "2021-11-18T13:39:24.569136Z"
    }
   },
   "outputs": [],
   "source": [
    "# oModel = Transformer  ()\n",
    "# oModel.load_state_dict(torch.load('Transformer_v1.pt'))\n",
    "# oModel.to             (DEVICE)\n",
    "# oModel.train          (False)"
   ]
  },
  {
   "cell_type": "markdown",
   "id": "arbitrary-custom",
   "metadata": {},
   "source": [
    "### Exercise (predict implementation)\n",
    "Complete the `Predict` function implementation.  \n",
    "\n",
    "Note: A [beam search](https://en.wikipedia.org/wiki/Beam_search) should be used instead of top 1 method."
   ]
  },
  {
   "cell_type": "code",
   "execution_count": null,
   "id": "aad9a19e",
   "metadata": {
    "ExecuteTime": {
     "end_time": "2021-11-18T12:43:27.661392Z",
     "start_time": "2021-11-18T12:35:03.323Z"
    }
   },
   "outputs": [],
   "source": [
    "from torch.distributions.categorical import Categorical\n",
    "\n",
    "def Predict(oModel, vX, bTop1=False):\n",
    "    MAX_LENGTH = 16\n",
    "    vY         = oVocabY['<PAD>'] * torch.ones(MAX_LENGTH, dtype=torch.int32, device=vX.device)\n",
    "    vY[0]      = oVocabY['<SOS>']\n",
    "    #-- Encode:\n",
    "    mH, mMaskX = ???\n",
    "\n",
    "    for ii in range(1, MAX_LENGTH):\n",
    "        #-- Decode:\n",
    "        vZ = ???\n",
    "        \n",
    "        if bTop1 == True:\n",
    "            y = ???\n",
    "        else:\n",
    "            y = ???\n",
    "\n",
    "        vY[ii] = y\n",
    "        \n",
    "        if y == ???\n",
    "            break\n",
    "\n",
    "    return ???"
   ]
  },
  {
   "cell_type": "code",
   "execution_count": 23,
   "id": "72714b05",
   "metadata": {
    "ExecuteTime": {
     "end_time": "2021-11-18T13:39:45.912859Z",
     "start_time": "2021-11-18T13:39:45.802160Z"
    }
   },
   "outputs": [],
   "source": [
    "from torch.distributions.categorical import Categorical\n",
    "\n",
    "def Predict(oModel, vX, bTop1=False):\n",
    "    MAX_LENGTH = 16\n",
    "    vY         = oVocabY['<PAD>'] * torch.ones(MAX_LENGTH, dtype=torch.int32, device=vX.device)\n",
    "    vY[0]      = oVocabY['<SOS>']\n",
    "    #-- Encode:\n",
    "    mH, mMaskX = oModel.Encode(vX[None,:])\n",
    "\n",
    "    for ii in range(1, MAX_LENGTH):\n",
    "        #-- Decode:\n",
    "        vZ = oModel.Decoce(mH, mMaskX, vY[None,:ii])[0,:,-1]\n",
    "        \n",
    "        if bTop1 == True:\n",
    "            y = vZ.argmax()\n",
    "        else:\n",
    "            y = Categorical(logits=vZ).sample()\n",
    "\n",
    "        vY[ii] = y\n",
    "        \n",
    "        if y == oVocabY['<EOS>']:\n",
    "            break\n",
    "\n",
    "    return vY[1:ii]"
   ]
  },
  {
   "cell_type": "code",
   "execution_count": 24,
   "id": "attached-tradition",
   "metadata": {
    "ExecuteTime": {
     "end_time": "2021-11-18T13:39:47.749498Z",
     "start_time": "2021-11-18T13:39:47.354699Z"
    }
   },
   "outputs": [
    {
     "data": {
      "text/html": [
       "<div>\n",
       "<style scoped>\n",
       "    .dataframe tbody tr th:only-of-type {\n",
       "        vertical-align: middle;\n",
       "    }\n",
       "\n",
       "    .dataframe tbody tr th {\n",
       "        vertical-align: top;\n",
       "    }\n",
       "\n",
       "    .dataframe thead th {\n",
       "        text-align: right;\n",
       "    }\n",
       "</style>\n",
       "<table border=\"1\" class=\"dataframe\">\n",
       "  <thead>\n",
       "    <tr style=\"text-align: right;\">\n",
       "      <th></th>\n",
       "      <th>English</th>\n",
       "      <th>GT (Hebrew)</th>\n",
       "      <th>Generated</th>\n",
       "    </tr>\n",
       "  </thead>\n",
       "  <tbody>\n",
       "    <tr>\n",
       "      <th>0</th>\n",
       "      <td>tom tried to attract mary s attention .</td>\n",
       "      <td>תום ניסה למשוך את תשומת ליבה של מרי .</td>\n",
       "      <td>תום ניסה למשוך תשומת לב &lt;UNK&gt; של מרי .</td>\n",
       "    </tr>\n",
       "    <tr>\n",
       "      <th>1</th>\n",
       "      <td>it just doesn t seem fair .</td>\n",
       "      <td>זה פשוט לא נראה הוגן .</td>\n",
       "      <td>זה לא נראה הוגן .</td>\n",
       "    </tr>\n",
       "    <tr>\n",
       "      <th>2</th>\n",
       "      <td>what is it you re looking for ?</td>\n",
       "      <td>מה אתה מחפש ?</td>\n",
       "      <td>מה זה שאתה מחפש ?</td>\n",
       "    </tr>\n",
       "    <tr>\n",
       "      <th>3</th>\n",
       "      <td>i speak french to my staff .</td>\n",
       "      <td>אני מדבר צרפתית עם הפועלים שלי .</td>\n",
       "      <td>אני מדברת צרפתית עם &lt;UNK&gt; שלי .</td>\n",
       "    </tr>\n",
       "    <tr>\n",
       "      <th>4</th>\n",
       "      <td>that child is impossible .</td>\n",
       "      <td>הילד הזה בלתי נסבל .</td>\n",
       "      <td>הילד הזה בלתי אפשרי .</td>\n",
       "    </tr>\n",
       "  </tbody>\n",
       "</table>\n",
       "</div>"
      ],
      "text/plain": [
       "                                   English  \\\n",
       "0  tom tried to attract mary s attention .   \n",
       "1              it just doesn t seem fair .   \n",
       "2          what is it you re looking for ?   \n",
       "3             i speak french to my staff .   \n",
       "4               that child is impossible .   \n",
       "\n",
       "                             GT (Hebrew)  \\\n",
       "0  תום ניסה למשוך את תשומת ליבה של מרי .   \n",
       "1                 זה פשוט לא נראה הוגן .   \n",
       "2                          מה אתה מחפש ?   \n",
       "3       אני מדבר צרפתית עם הפועלים שלי .   \n",
       "4                   הילד הזה בלתי נסבל .   \n",
       "\n",
       "                                Generated  \n",
       "0  תום ניסה למשוך תשומת לב <UNK> של מרי .  \n",
       "1                       זה לא נראה הוגן .  \n",
       "2                       מה זה שאתה מחפש ?  \n",
       "3         אני מדברת צרפתית עם <UNK> שלי .  \n",
       "4                   הילד הזה בלתי אפשרי .  "
      ]
     },
     "execution_count": 24,
     "metadata": {},
     "output_type": "execute_result"
    }
   ],
   "source": [
    "dLang = pd.DataFrame(index=range(5), columns=['English', 'GT (Hebrew)', 'Generated'])\n",
    "\n",
    "for ii in range(5):\n",
    "    idx        = np.random.randint(nTest)\n",
    "    vEng, vHeb = oTestSet[idx]\n",
    "    vEng       = vEng.to(DEVICE)\n",
    "    with torch.no_grad():\n",
    "        vHebOut = Predict(oModel, vEng, bTop1=True)\n",
    "\n",
    "    sEng             = Tensor2Line(oEngVocab, vEng[1:-1])\n",
    "    sHeb             = Tensor2Line(oHebVocab, vHeb[1:-1])\n",
    "    sHebHat          = Tensor2Line(oHebVocab, vHebOut)\n",
    "    dLang.iloc[ii,:] = [sEng, sHeb, sHebHat]\n",
    "\n",
    "dLang"
   ]
  },
  {
   "cell_type": "code",
   "execution_count": 31,
   "id": "d56c42f8",
   "metadata": {
    "ExecuteTime": {
     "end_time": "2021-11-18T13:40:18.919382Z",
     "start_time": "2021-11-18T13:40:18.800274Z"
    }
   },
   "outputs": [
    {
     "data": {
      "text/plain": [
       "'תכתוב פה את השורה שלך !'"
      ]
     },
     "execution_count": 31,
     "metadata": {},
     "output_type": "execute_result"
    }
   ],
   "source": [
    "line = 'Write here your line!'\n",
    "line = NormalizeEnglish(line)\n",
    "vEng = Line2Tensor(oEngVocab, line).to(DEVICE)\n",
    "with torch.no_grad():\n",
    "    vHebOut = Predict(oModel, vEng, bTop1=False)\n",
    "    \n",
    "sHebPred = Tensor2Line(oHebVocab, vHebOut)    \n",
    "sHebPred"
   ]
  },
  {
   "cell_type": "code",
   "execution_count": null,
   "id": "9ab8d92f",
   "metadata": {},
   "outputs": [],
   "source": []
  },
  {
   "cell_type": "code",
   "execution_count": null,
   "id": "a9f1922c",
   "metadata": {},
   "outputs": [],
   "source": []
  },
  {
   "cell_type": "code",
   "execution_count": null,
   "id": "9b26ba83",
   "metadata": {},
   "outputs": [],
   "source": []
  },
  {
   "cell_type": "code",
   "execution_count": null,
   "id": "c0ef4c4b",
   "metadata": {},
   "outputs": [],
   "source": []
  },
  {
   "cell_type": "code",
   "execution_count": null,
   "id": "62d7e93b",
   "metadata": {},
   "outputs": [],
   "source": []
  },
  {
   "cell_type": "code",
   "execution_count": null,
   "id": "09053b16",
   "metadata": {},
   "outputs": [],
   "source": []
  },
  {
   "cell_type": "code",
   "execution_count": null,
   "id": "17401513",
   "metadata": {},
   "outputs": [],
   "source": []
  },
  {
   "cell_type": "code",
   "execution_count": null,
   "id": "78fcec16",
   "metadata": {},
   "outputs": [],
   "source": []
  },
  {
   "cell_type": "code",
   "execution_count": null,
   "id": "25ddb19b",
   "metadata": {},
   "outputs": [],
   "source": []
  },
  {
   "cell_type": "code",
   "execution_count": null,
   "id": "eeeccf76",
   "metadata": {},
   "outputs": [],
   "source": []
  },
  {
   "cell_type": "code",
   "execution_count": null,
   "id": "a9b50e14",
   "metadata": {},
   "outputs": [],
   "source": []
  },
  {
   "cell_type": "code",
   "execution_count": null,
   "id": "ee137d4e",
   "metadata": {},
   "outputs": [],
   "source": []
  },
  {
   "cell_type": "code",
   "execution_count": null,
   "id": "1d085b95",
   "metadata": {},
   "outputs": [],
   "source": []
  },
  {
   "cell_type": "code",
   "execution_count": null,
   "id": "dae91940",
   "metadata": {},
   "outputs": [],
   "source": []
  },
  {
   "cell_type": "code",
   "execution_count": null,
   "id": "02016039",
   "metadata": {},
   "outputs": [],
   "source": []
  },
  {
   "cell_type": "code",
   "execution_count": null,
   "id": "8b38438f",
   "metadata": {},
   "outputs": [],
   "source": []
  },
  {
   "cell_type": "code",
   "execution_count": null,
   "id": "8cdcd67c",
   "metadata": {},
   "outputs": [],
   "source": []
  },
  {
   "cell_type": "code",
   "execution_count": null,
   "id": "c7d74468",
   "metadata": {},
   "outputs": [],
   "source": []
  },
  {
   "cell_type": "code",
   "execution_count": null,
   "id": "780b5da4",
   "metadata": {},
   "outputs": [],
   "source": []
  },
  {
   "cell_type": "code",
   "execution_count": null,
   "id": "919b39da",
   "metadata": {},
   "outputs": [],
   "source": []
  },
  {
   "cell_type": "code",
   "execution_count": null,
   "id": "cb0896a5",
   "metadata": {},
   "outputs": [],
   "source": []
  },
  {
   "cell_type": "code",
   "execution_count": null,
   "id": "cbc25478",
   "metadata": {},
   "outputs": [],
   "source": []
  },
  {
   "cell_type": "code",
   "execution_count": null,
   "id": "5cbf2181",
   "metadata": {},
   "outputs": [],
   "source": []
  },
  {
   "cell_type": "code",
   "execution_count": null,
   "id": "42f93c88",
   "metadata": {},
   "outputs": [],
   "source": []
  },
  {
   "cell_type": "code",
   "execution_count": null,
   "id": "a9731694",
   "metadata": {},
   "outputs": [],
   "source": []
  },
  {
   "cell_type": "code",
   "execution_count": null,
   "id": "2965c139",
   "metadata": {},
   "outputs": [],
   "source": []
  },
  {
   "cell_type": "code",
   "execution_count": null,
   "id": "2dc1717a",
   "metadata": {},
   "outputs": [],
   "source": []
  },
  {
   "cell_type": "code",
   "execution_count": null,
   "id": "54eb1708",
   "metadata": {},
   "outputs": [],
   "source": []
  },
  {
   "cell_type": "code",
   "execution_count": null,
   "id": "37921ad1",
   "metadata": {},
   "outputs": [],
   "source": []
  },
  {
   "cell_type": "code",
   "execution_count": null,
   "id": "25d30b9b",
   "metadata": {},
   "outputs": [],
   "source": []
  },
  {
   "cell_type": "code",
   "execution_count": null,
   "id": "8522faaa",
   "metadata": {},
   "outputs": [],
   "source": []
  },
  {
   "cell_type": "code",
   "execution_count": null,
   "id": "ea9b474a",
   "metadata": {},
   "outputs": [],
   "source": []
  },
  {
   "cell_type": "code",
   "execution_count": null,
   "id": "216dc7d5",
   "metadata": {},
   "outputs": [],
   "source": []
  },
  {
   "cell_type": "code",
   "execution_count": null,
   "id": "94a635b5",
   "metadata": {},
   "outputs": [],
   "source": []
  },
  {
   "cell_type": "code",
   "execution_count": null,
   "id": "7017ce04",
   "metadata": {},
   "outputs": [],
   "source": []
  },
  {
   "cell_type": "code",
   "execution_count": null,
   "id": "642ebe77",
   "metadata": {},
   "outputs": [],
   "source": []
  },
  {
   "cell_type": "code",
   "execution_count": null,
   "id": "d0821be1",
   "metadata": {},
   "outputs": [],
   "source": []
  },
  {
   "cell_type": "code",
   "execution_count": null,
   "id": "f9ea4dca",
   "metadata": {},
   "outputs": [],
   "source": []
  },
  {
   "cell_type": "code",
   "execution_count": null,
   "id": "40e10b7f",
   "metadata": {},
   "outputs": [],
   "source": []
  },
  {
   "cell_type": "code",
   "execution_count": null,
   "id": "58882ab4",
   "metadata": {},
   "outputs": [],
   "source": []
  },
  {
   "cell_type": "code",
   "execution_count": null,
   "id": "652e519d",
   "metadata": {},
   "outputs": [],
   "source": []
  },
  {
   "cell_type": "code",
   "execution_count": null,
   "id": "f761af82",
   "metadata": {},
   "outputs": [],
   "source": []
  },
  {
   "cell_type": "code",
   "execution_count": null,
   "id": "a4af8727",
   "metadata": {},
   "outputs": [],
   "source": []
  },
  {
   "cell_type": "code",
   "execution_count": null,
   "id": "3ffa0475",
   "metadata": {},
   "outputs": [],
   "source": []
  },
  {
   "cell_type": "code",
   "execution_count": null,
   "id": "9d357f3e",
   "metadata": {},
   "outputs": [],
   "source": []
  },
  {
   "cell_type": "code",
   "execution_count": null,
   "id": "72dc0df6",
   "metadata": {},
   "outputs": [],
   "source": []
  },
  {
   "cell_type": "code",
   "execution_count": null,
   "id": "a44c1e7f",
   "metadata": {
    "ExecuteTime": {
     "end_time": "2021-11-18T12:43:27.662393Z",
     "start_time": "2021-11-18T12:35:03.344Z"
    }
   },
   "outputs": [],
   "source": [
    "# from torch.distributions.categorical import Categorical\n",
    "\n",
    "# def Predict(oModel, vX, bTop1=False):\n",
    "#     MAX_LENGTH = 16\n",
    "#     vY         = oVocabY['<PAD>'] * torch.ones(MAX_LENGTH, dtype=torch.int32, device=vX.device)\n",
    "#     vY[0]      = oVocabY['<SOS>']\n",
    "#     #-- Encode:\n",
    "#     mH, mMaskX = oModel.Encode(vX[None,:])\n",
    "\n",
    "#     for ii in range(1, MAX_LENGTH):\n",
    "#         #-- Decode:\n",
    "#         vZ = oModel.Decoce(mH, mMaskX, vY[None,:ii])[0,:,-1]\n",
    "        \n",
    "#         if bTop1 == True:\n",
    "#             y = vZ.argmax()\n",
    "#         else:\n",
    "#             y = Categorical(logits=vZ).sample()\n",
    "\n",
    "#         vY[ii] = y\n",
    "        \n",
    "#         if y == oVocabY['<EOS>']:\n",
    "#             break\n",
    "\n",
    "#     return vY[1:ii]"
   ]
  }
 ],
 "metadata": {
  "kernelspec": {
   "display_name": "Python 3",
   "language": "python",
   "name": "python3"
  },
  "language_info": {
   "codemirror_mode": {
    "name": "ipython",
    "version": 3
   },
   "file_extension": ".py",
   "mimetype": "text/x-python",
   "name": "python",
   "nbconvert_exporter": "python",
   "pygments_lexer": "ipython3",
   "version": "3.8.12"
  }
 },
 "nbformat": 4,
 "nbformat_minor": 5
}
