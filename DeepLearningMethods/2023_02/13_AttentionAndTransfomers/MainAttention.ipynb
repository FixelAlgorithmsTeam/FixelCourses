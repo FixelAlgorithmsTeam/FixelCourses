{
 "cells": [
  {
   "cell_type": "markdown",
   "id": "concrete-plenty",
   "metadata": {},
   "source": [
    "![Fixel Algorithms](https://fixelalgorithms.co/images/CCExt.png)"
   ]
  },
  {
   "cell_type": "markdown",
   "id": "oriented-mattress",
   "metadata": {},
   "source": [
    "# <center> Deep Learning Methods </center>\n",
    "## <center> Lecture 13 - Attention and Transformers </center>\n",
    "### <center> Attention </center>"
   ]
  },
  {
   "cell_type": "markdown",
   "id": "declared-sentence",
   "metadata": {},
   "source": [
    "[![Open In Colab](https://colab.research.google.com/assets/colab-badge.svg)](https://colab.research.google.com/github/FixelAlgorithmsTeam/FixelCourses/blob/master/DeepLearningMethods/13_AttentionAndTransfomers/MainAttention.ipynb)"
   ]
  },
  {
   "cell_type": "code",
   "execution_count": 1,
   "id": "acting-northwest",
   "metadata": {
    "ExecuteTime": {
     "end_time": "2021-11-18T12:01:15.454342Z",
     "start_time": "2021-11-18T12:01:15.439328Z"
    },
    "scrolled": true
   },
   "outputs": [
    {
     "data": {
      "text/html": [
       "<style>.container { width:80% !important; }</style>"
      ],
      "text/plain": [
       "<IPython.core.display.HTML object>"
      ]
     },
     "metadata": {},
     "output_type": "display_data"
    }
   ],
   "source": [
    "#-- Wide screen:\n",
    "from IPython.core.display import display, HTML\n",
    "display(HTML(\"<style>.container { width:80% !important; }</style>\"))"
   ]
  },
  {
   "cell_type": "code",
   "execution_count": 2,
   "id": "german-genesis",
   "metadata": {
    "ExecuteTime": {
     "end_time": "2021-11-18T09:49:18.565046Z",
     "start_time": "2021-11-18T09:49:18.539021Z"
    }
   },
   "outputs": [],
   "source": [
    "#-- Auto reload:\n",
    "%load_ext autoreload\n",
    "%autoreload 2"
   ]
  },
  {
   "cell_type": "code",
   "execution_count": 3,
   "id": "cc8a4db8",
   "metadata": {
    "ExecuteTime": {
     "end_time": "2021-11-18T09:49:18.850041Z",
     "start_time": "2021-11-18T09:49:18.827020Z"
    }
   },
   "outputs": [],
   "source": [
    "if 'google.colab' in str(get_ipython()):\n",
    "    !npx degit FixelAlgorithmsTeam/FixelCourses/DeepLearningMethods/13_AttentionAndTransfomers/DeepLearningFramework ./DeepLearningFramework"
   ]
  },
  {
   "cell_type": "code",
   "execution_count": 4,
   "id": "auburn-stage",
   "metadata": {
    "ExecuteTime": {
     "end_time": "2021-11-18T09:49:20.409358Z",
     "start_time": "2021-11-18T09:49:19.091017Z"
    }
   },
   "outputs": [
    {
     "data": {
      "text/plain": [
       "device(type='cuda', index=0)"
      ]
     },
     "execution_count": 4,
     "metadata": {},
     "output_type": "execute_result"
    }
   ],
   "source": [
    "import numpy             as np\n",
    "import pandas            as pd\n",
    "import matplotlib.pyplot as plt\n",
    "\n",
    "import torch\n",
    "import torch.nn            as nn\n",
    "import torch.optim         as optim\n",
    "import torchtext\n",
    "\n",
    "from torchtext.vocab import Vocab\n",
    "\n",
    "DEVICE = torch.device('cuda:0' if torch.cuda.is_available() else 'cpu') \n",
    "DEVICE"
   ]
  },
  {
   "cell_type": "markdown",
   "id": "british-mambo",
   "metadata": {},
   "source": [
    "#### Load the data:"
   ]
  },
  {
   "cell_type": "code",
   "execution_count": 5,
   "id": "imperial-potter",
   "metadata": {
    "ExecuteTime": {
     "end_time": "2021-11-18T09:49:21.834641Z",
     "start_time": "2021-11-18T09:49:20.410360Z"
    }
   },
   "outputs": [
    {
     "data": {
      "text/plain": [
       "([('tom found evidence .', 'תום מצא ראיות .'),\n",
       "  ('tom freed the bird .', 'טום שחרר את הציפור .'),\n",
       "  ('tom freed the bird .', 'טום שלח את הציפור לחופשי .'),\n",
       "  ('tom gasped for air .', 'תום נאבק לנשום .'),\n",
       "  ('tom gets headaches .', 'תום מקבל כאבי ראש .')],\n",
       " 126692)"
      ]
     },
     "execution_count": 5,
     "metadata": {},
     "output_type": "execute_result"
    }
   ],
   "source": [
    "import re\n",
    "\n",
    "def NormalizeEnglish(line):\n",
    "    line = line.lower().strip()\n",
    "    line = re.sub(r\"([.!?])\", r\" \\1\",     line) #-- add space before [.!?]\n",
    "    line = re.sub(r\"[^a-zA-Z.!?]+\", r\" \", line) #-- keep only letters and [.!?]\n",
    "    return line\n",
    "\n",
    "def NormalizeHebrew(line):\n",
    "    line = line.strip()\n",
    "    line = re.sub(r\"([.!?])\", r\" \\1\",            line)\n",
    "    line = re.sub(r\"[^\\u0590-\\u05fe.!?]+\", r\" \", line)\n",
    "    return line\n",
    "\n",
    "dirPath = '../../data/Translation//'\n",
    "lLines  = []\n",
    "with open(dirPath + 'heb.txt', encoding='utf-8') as oFile:\n",
    "    for line in oFile:\n",
    "        lSplit  = line.split('\\t')[:2]\n",
    "        lLines += [(NormalizeEnglish(lSplit[0]), NormalizeHebrew(lSplit[1]))]\n",
    "\n",
    "lLines[26600:26605], len(lLines)"
   ]
  },
  {
   "cell_type": "markdown",
   "id": "mathematical-baseball",
   "metadata": {},
   "source": [
    "#### Keep only short sentences:"
   ]
  },
  {
   "cell_type": "code",
   "execution_count": 6,
   "id": "tamil-representation",
   "metadata": {
    "ExecuteTime": {
     "end_time": "2021-11-18T09:49:21.929720Z",
     "start_time": "2021-11-18T09:49:21.835643Z"
    }
   },
   "outputs": [
    {
     "data": {
      "text/plain": [
       "(126692, 2)"
      ]
     },
     "execution_count": 6,
     "metadata": {},
     "output_type": "execute_result"
    }
   ],
   "source": [
    "mData = np.array(lLines, dtype=np.object_)\n",
    "mData.shape"
   ]
  },
  {
   "cell_type": "code",
   "execution_count": 7,
   "id": "proud-photography",
   "metadata": {
    "ExecuteTime": {
     "end_time": "2021-11-18T09:49:22.025726Z",
     "start_time": "2021-11-18T09:49:21.930721Z"
    }
   },
   "outputs": [
    {
     "data": {
      "text/plain": [
       "38143"
      ]
     },
     "execution_count": 7,
     "metadata": {},
     "output_type": "execute_result"
    }
   ],
   "source": [
    "MAX_LENGTH  = 6\n",
    "LineLength  = np.vectorize(lambda line: len(line.split()))\n",
    "vLineLength = LineLength(mData[:,0])\n",
    "mData       = mData[vLineLength<MAX_LENGTH,:]\n",
    "N           = mData.shape[0]\n",
    "N"
   ]
  },
  {
   "cell_type": "markdown",
   "id": "sublime-leadership",
   "metadata": {},
   "source": [
    "#### Build vocabularies:"
   ]
  },
  {
   "cell_type": "code",
   "execution_count": 8,
   "id": "velvet-authentication",
   "metadata": {
    "ExecuteTime": {
     "end_time": "2021-11-18T09:49:22.200796Z",
     "start_time": "2021-11-18T09:49:22.026728Z"
    }
   },
   "outputs": [
    {
     "data": {
      "text/plain": [
       "(3628, 5320)"
      ]
     },
     "execution_count": 8,
     "metadata": {},
     "output_type": "execute_result"
    }
   ],
   "source": [
    "from torchtext.vocab import build_vocab_from_iterator\n",
    "\n",
    "def YieldTokens(lLines):\n",
    "    for line in lLines:\n",
    "        yield line.split()\n",
    "\n",
    "def MakeVocab(lLines):\n",
    "    oVocab = build_vocab_from_iterator(YieldTokens(lLines), min_freq=3, specials=('<UNK>', '<SOS>', '<EOS>', '<PAD>'))\n",
    "    oVocab.set_default_index(oVocab['<UNK>'])\n",
    "    return oVocab\n",
    "\n",
    "lEnglish  = mData[:,0]\n",
    "lHebrew   = mData[:,1]\n",
    "oEngVocab = MakeVocab(lEnglish)\n",
    "oHebVocab = MakeVocab(lHebrew)\n",
    "\n",
    "len(oEngVocab), len(oHebVocab)"
   ]
  },
  {
   "cell_type": "markdown",
   "id": "radio-ceiling",
   "metadata": {},
   "source": [
    "#### Line2Tensor:"
   ]
  },
  {
   "cell_type": "code",
   "execution_count": 9,
   "id": "certified-escape",
   "metadata": {
    "ExecuteTime": {
     "end_time": "2021-11-18T09:49:22.611012Z",
     "start_time": "2021-11-18T09:49:22.546954Z"
    }
   },
   "outputs": [
    {
     "name": "stdout",
     "output_type": "stream",
     "text": [
      "Origianl (Eng) - hold it !\n",
      "Origianl (Heb) - עצור !\n",
      "Tensor   (Eng) - tensor([  1, 190,  10,  28,   2])\n",
      "Tensor   (Heb) - tensor([  1, 456,  16,   2])\n",
      "Back     (Eng) - <SOS> hold it ! <EOS>\n",
      "Back     (Heb) - <SOS> עצור ! <EOS>\n"
     ]
    }
   ],
   "source": [
    "def Line2Tensor(oVocab, line):\n",
    "    lLine = ['<SOS>'] + line.split() + ['<EOS>']\n",
    "    return torch.tensor(oVocab(lLine))\n",
    "\n",
    "def Tensor2Line(oVocab, vLine):\n",
    "    return ' '.join([oVocab.get_itos()[e] for e in vLine])\n",
    "    \n",
    "#-- Test:\n",
    "eng1 = lEnglish[152]\n",
    "heb1 = lHebrew [152]\n",
    "eng2 = Line2Tensor(oEngVocab, eng1)\n",
    "heb2 = Line2Tensor(oHebVocab, heb1)\n",
    "eng3 = Tensor2Line(oEngVocab, eng2)\n",
    "heb3 = Tensor2Line(oHebVocab, heb2)\n",
    "\n",
    "print(f'Origianl (Eng) - {eng1}')\n",
    "print(f'Origianl (Heb) - {heb1}')\n",
    "print(f'Tensor   (Eng) - {eng2}')\n",
    "print(f'Tensor   (Heb) - {heb2}')\n",
    "print(f'Back     (Eng) - {eng3}')\n",
    "print(f'Back     (Heb) - {heb3}')"
   ]
  },
  {
   "cell_type": "markdown",
   "id": "female-opening",
   "metadata": {},
   "source": [
    "#### Dataset:"
   ]
  },
  {
   "cell_type": "code",
   "execution_count": 10,
   "id": "5c4efa31",
   "metadata": {
    "ExecuteTime": {
     "end_time": "2021-11-18T09:49:23.305068Z",
     "start_time": "2021-11-18T09:49:23.251026Z"
    }
   },
   "outputs": [],
   "source": [
    "if False:\n",
    "    class LangDataset(torch.utils.data.Dataset):\n",
    "        def __init__(self, lSrc, lTrg, oSrcVocab, oTrgVocab):\n",
    "            self.lSrc      = lSrc\n",
    "            self.lTrg      = lTrg\n",
    "            self.oSrcVocab = oSrcVocab\n",
    "            self.oTrgVocab = oTrgVocab\n",
    "\n",
    "        def __len__(self):\n",
    "            return len(self.lSrc)\n",
    "\n",
    "        def __getitem__(self, idx):\n",
    "            sSrc = self.lSrc[idx]\n",
    "            sTrg = self.lTrg[idx]\n",
    "\n",
    "            vSrc = Line2Tensor(self.oSrcVocab, sSrc)\n",
    "            vTrg = Line2Tensor(self.oTrgVocab, sTrg)\n",
    "\n",
    "            return vSrc, vTrg       "
   ]
  },
  {
   "cell_type": "code",
   "execution_count": 11,
   "id": "alternative-texture",
   "metadata": {
    "ExecuteTime": {
     "end_time": "2021-11-18T09:49:23.577077Z",
     "start_time": "2021-11-18T09:49:23.523028Z"
    }
   },
   "outputs": [
    {
     "data": {
      "text/plain": [
       "('<SOS> hug tom . <EOS>', '<SOS> <UNK> את תום . <EOS>')"
      ]
     },
     "execution_count": 11,
     "metadata": {},
     "output_type": "execute_result"
    }
   ],
   "source": [
    "from DeepLearningFramework.AttentionUtils import LangDataset\n",
    "\n",
    "oDataset           = LangDataset(lEnglish, lHebrew, oEngVocab, oHebVocab)\n",
    "vEngLine, vHebLine = oDataset[155]\n",
    "\n",
    "Tensor2Line(oEngVocab, vEngLine), Tensor2Line(oHebVocab, vHebLine)"
   ]
  },
  {
   "cell_type": "code",
   "execution_count": 12,
   "id": "private-programming",
   "metadata": {
    "ExecuteTime": {
     "end_time": "2021-11-18T09:49:23.988022Z",
     "start_time": "2021-11-18T09:49:23.923963Z"
    }
   },
   "outputs": [
    {
     "data": {
      "text/plain": [
       "(34000, 4143)"
      ]
     },
     "execution_count": 12,
     "metadata": {},
     "output_type": "execute_result"
    }
   ],
   "source": [
    "from torch.utils.data import random_split\n",
    "\n",
    "nTrain              = 34000\n",
    "nTest               = N - nTrain\n",
    "oTrainSet, oTestSet = random_split(oDataset, [nTrain, nTest])\n",
    "\n",
    "len(oTrainSet), len(oTestSet)"
   ]
  },
  {
   "cell_type": "markdown",
   "id": "global-trail",
   "metadata": {},
   "source": [
    "#### Data loader:"
   ]
  },
  {
   "cell_type": "code",
   "execution_count": 13,
   "id": "bb845a39",
   "metadata": {
    "ExecuteTime": {
     "end_time": "2021-11-18T09:49:25.383200Z",
     "start_time": "2021-11-18T09:49:25.323582Z"
    }
   },
   "outputs": [],
   "source": [
    "from torch.nn.utils.rnn import pad_sequence\n",
    "\n",
    "oSrcVocab = oEngVocab\n",
    "oTrgVocab = oHebVocab\n",
    "if False:\n",
    "    def LangCollate(lBatch):\n",
    "        lSrc, lTrg = zip(*lBatch)\n",
    "        mTrg       = pad_sequence(lTrg, padding_value=oTrgVocab['<PAD>'], batch_first=True)\n",
    "\n",
    "        return (lSrc, mTrg)"
   ]
  },
  {
   "cell_type": "code",
   "execution_count": 14,
   "id": "bibliographic-letter",
   "metadata": {
    "ExecuteTime": {
     "end_time": "2021-11-18T09:49:28.020095Z",
     "start_time": "2021-11-18T09:49:25.653001Z"
    }
   },
   "outputs": [
    {
     "data": {
      "text/plain": [
       "(128, torch.Size([6]), torch.Size([128, 8]))"
      ]
     },
     "execution_count": 14,
     "metadata": {},
     "output_type": "execute_result"
    }
   ],
   "source": [
    "from torch.utils.data                     import DataLoader\n",
    "from DeepLearningFramework.AttentionUtils import LangCollate\n",
    "\n",
    "batchSize = 128\n",
    "oTrainDL  = DataLoader(oTrainSet, shuffle=True,  batch_size=1*batchSize, collate_fn=LangCollate, num_workers=2, persistent_workers=True)\n",
    "oTestDL   = DataLoader(oTestSet,  shuffle=False, batch_size=2*batchSize, collate_fn=LangCollate, num_workers=2, persistent_workers=True)\n",
    "\n",
    "lSrc, mTrg = next(iter(oTrainDL))\n",
    "len(lSrc), lSrc[0].shape, mTrg.shape"
   ]
  },
  {
   "cell_type": "markdown",
   "id": "alien-algebra",
   "metadata": {},
   "source": [
    "#### Encoder RNN:\n",
    "* The encoder can be bidirectional.\n",
    "* The encoder can have more than one layer.\n",
    "* We use `PackedSequence` for more efficient computation.\n",
    "* **Input**:\n",
    "    * `lSrc` a list of the input tensors where:\n",
    "        * `len(lSrc) = N`\n",
    "        * `lSrc[ii].shape = (T_i,)`\n",
    "* **Output:**\n",
    "    * `mH` with `mH.shape = (N, T, H)` - All intermediate states.<br>\n",
    "    `mH` is a padded tensor.\n",
    "    * `mS` with `mS.shape = (1, N, H)` - The last hidden state.\n",
    "<img src=\"https://github.com/FixelAlgorithmsTeam/FixelCourses/blob/master/DeepLearningMethods/13_AttentionAndTransfomers//Encoder.png?raw=true\" alt=\"Encoder\" style=\"width: 400px;\"/>"
   ]
  },
  {
   "cell_type": "code",
   "execution_count": 15,
   "id": "enabling-discussion",
   "metadata": {
    "ExecuteTime": {
     "end_time": "2021-11-18T09:49:28.084153Z",
     "start_time": "2021-11-18T09:49:28.021096Z"
    }
   },
   "outputs": [
    {
     "data": {
      "text/plain": [
       "(torch.Size([128, 7, 32]), torch.Size([1, 128, 32]))"
      ]
     },
     "execution_count": 15,
     "metadata": {},
     "output_type": "execute_result"
    }
   ],
   "source": [
    "from torch.nn.utils.rnn import pack_sequence, PackedSequence, pad_packed_sequence\n",
    "\n",
    "def PackedAs(mData, mPack):\n",
    "    return PackedSequence(mData, mPack.batch_sizes, mPack.sorted_indices, mPack.unsorted_indices)\n",
    "\n",
    "class EncoderRNN(nn.Module):\n",
    "    def __init__(self, V, D, H, p):\n",
    "        super().__init__()\n",
    "        self.oEmbedding = nn.Embedding(V, D, padding_idx=oEngVocab['<PAD>'])\n",
    "        self.oGRU       = nn.GRU      (D, H)\n",
    "        self.oDropout   = nn.Dropout  (p)\n",
    "        \n",
    "    def forward(self, lSrc):\n",
    "        DEVICE     = next(iter(self.parameters())).device\n",
    "        mPackSrc   = pack_sequence  (lSrc, enforce_sorted=False).to(DEVICE) #-- mPackSrc.shape = (N*T,)\n",
    "        mE         = self.oEmbedding(mPackSrc.data)                         #-- mE      .shape = (N*T, D)\n",
    "        mE         = self.oDropout  (mE)\n",
    "        mPackE     = PackedAs       (mE, mPackSrc) #-- mPackE  .shape = (N*T, D)\n",
    "        mPackH, mS = self.oGRU      (mPackE)       #-- mPackH  .shape = (N*T, H)\n",
    "\n",
    "        mH, _      = pad_packed_sequence(mPackH, batch_first=True, padding_value=oSrcVocab['<PAD>']) #-- mH.shape = (N, T, H)\n",
    "\n",
    "        return mH, mS\n",
    "#===========================================================================#\n",
    "#===========================================================================#\n",
    "\n",
    "V      = len(oSrcVocab)\n",
    "D      = 64\n",
    "H      = 32\n",
    "p      = .2\n",
    "mH, mS = EncoderRNN(V, D, H, p)(lSrc)\n",
    "mH.shape, mS.shape"
   ]
  },
  {
   "cell_type": "markdown",
   "id": "novel-answer",
   "metadata": {},
   "source": [
    "#### Attention\n",
    "* The NN is a simple fully connected NN (with one hidden layer).\n",
    "* The NN block can be replaced by other mechanisms.\n",
    "* **Input:**\n",
    "    * `mH` with `mH.shape = (N, T, H)` - The encoder output \n",
    "    * `mS` with `mS.shape = (1, N, H)` - The decoder last hidden state \n",
    "* **Output:**\n",
    "    * `mC` with `mC.shape = (N, H)` - The context vector(s)<br>\n",
    "    `mC` is a linear combination of the hidden states `mH`.\n",
    "    * `mW` with `mW.shape = (N, T)` - The attention vector(s)<br>\n",
    "    (this is only for later visualizations)\n",
    "* To ignore `<PAD>` values we add a mask operation before the `softmax`.<br>\n",
    "That is, a padded hidden state, will be multiplied by a $0$ weight.\n",
    "<img src=\"https://github.com/FixelAlgorithmsTeam/FixelCourses/blob/master/DeepLearningMethods/13_AttentionAndTransfomers//Attention.png?raw=true\" alt=\"Attention\" style=\"width: 400px;\"/>"
   ]
  },
  {
   "cell_type": "code",
   "execution_count": 16,
   "id": "verbal-writing",
   "metadata": {
    "ExecuteTime": {
     "end_time": "2021-11-18T09:49:28.148211Z",
     "start_time": "2021-11-18T09:49:28.085155Z"
    }
   },
   "outputs": [],
   "source": [
    "class Attention(nn.Module):\n",
    "    def __init__(self, H):\n",
    "        super().__init__()\n",
    "        self.oNN  = nn.Sequential(\n",
    "            nn.Linear (2*H, H), nn.ReLU(),\n",
    "            nn.Linear (H,   1),\n",
    "            nn.Flatten(start_dim=-2)\n",
    "        )\n",
    "       \n",
    "    def forward(self, mH, mS):\n",
    "        #-- mH.shape = (N, T, H)\n",
    "        #-- mS.shape = (1, N, H)\n",
    "        T     = mH.shape[1]\n",
    "        \n",
    "        #-- Apply NN:\n",
    "        mS    = mS[0][:,None,:].repeat(1, T, 1)         #-- mS   .shape = (N, T, H)\n",
    "        mSH   = torch.cat([mS, mH], dim=2)              #-- mSH  .shape = (N, T, 2*H)\n",
    "        mAttn = self.oNN(mSH)                           #-- mAttn.shape = (N, T)\n",
    "        \n",
    "        #-- Apply mask & soft,ax:\n",
    "        mMask = mH[:,:,0] == oSrcVocab['<PAD>']         #-- mMask.shape = (N, T)\n",
    "        mAttn = mAttn.masked_fill(mMask, -float('Inf')) #-- mAttn.shape = (N, T)\n",
    "        mW    = torch.softmax(mAttn, dim=1)             #-- mW   .shape = (N, T)\n",
    "        \n",
    "        #-- Compute output:\n",
    "        mC    = (mW[:,None,:] @ mH).squeeze(1)          #-- mC   .shape = (N, H)\n",
    "        \n",
    "        return mC, mW"
   ]
  },
  {
   "cell_type": "markdown",
   "id": "german-terry",
   "metadata": {},
   "source": [
    "#### Decoder RNN:\n",
    "The `forward` method applies a <u>single</u> decoding iteration.\n",
    "* **Input:**\n",
    "    * `vTrg` with `vTrg.shape = (N,)` - The input tensor\n",
    "    * `mH` with `mH.shape = (N, T, H)` - The encoder output \n",
    "    * `mS` with `mS.shape = (1, N, H)` - The decoder last hidden state \n",
    "* **Output:**\n",
    "    * `mZ` with `mZ.shape = (N, V)` - The prediction logits.\n",
    "    * `mS` with `mS.shape = (1, N, H)` - The decoder hidden state \n",
    "    * `mW` with `mW.shape = (N, T)` - The attention vector(s)<br>\n",
    "    (this is only for later visualizations)\n",
    "    \n",
    "* The prediction of `mZ` is done using `mS`<br>\n",
    "(and optionally, also with the context `mC` and the input embedding `mE`)\n",
    "* In the first iteration, `mS` is the last hidden state of the decoder.\n",
    "\n",
    "<img src=\"https://github.com/FixelAlgorithmsTeam/FixelCourses/blob/master/DeepLearningMethods/13_AttentionAndTransfomers//Decoder.png?raw=true\" alt=\"Decoder\" style=\"width: 400px;\"/>"
   ]
  },
  {
   "cell_type": "code",
   "execution_count": 17,
   "id": "global-belgium",
   "metadata": {
    "ExecuteTime": {
     "end_time": "2021-11-18T09:49:28.212270Z",
     "start_time": "2021-11-18T09:49:28.149212Z"
    }
   },
   "outputs": [],
   "source": [
    "class DecoderRNN(nn.Module):\n",
    "    def __init__(self, V, D, H, p):\n",
    "        super().__init__()\n",
    "        self.oAttn      = Attention   (H)\n",
    "        self.oEmbedding = nn.Embedding(V, D)\n",
    "        self.oGRU       = nn.GRU      (D + 1*H, H)\n",
    "        self.oLinear    = nn.Linear   (D + 2*H, V)\n",
    "        self.oDropout   = nn.Dropout  (p)\n",
    "        \n",
    "    def forward(self, vTrg, mH, mS):\n",
    "        mC, mW = self .oAttn     (mH, mS)               #-- mC    .shape = (N, H)\n",
    "        mE     = self .oEmbedding(vTrg)                 #-- mE    .shape = (N, D)\n",
    "        mE     = self .oDropout  (mE)                   #-- mE    .shape = (N, D)\n",
    "        mEC    = torch.cat       ([mE, mC], dim=1)      #-- mEC   .shape = (N, D+H)\n",
    "        _, mS  = self .oGRU      (mEC[None,:,:], mS)    #-- mS    .shape = (1, N, H)\n",
    "        \n",
    "        mECS   = torch.cat      ([mEC, mS[-1]], dim=1) #-- mECS.shape = (N, D+2*H)\n",
    "        mZ     = self .oLinear  (mECS)                 #-- mZ  .shape = (N, V)\n",
    "        \n",
    "        return mZ, mS, mW"
   ]
  },
  {
   "cell_type": "code",
   "execution_count": 18,
   "id": "funny-magic",
   "metadata": {
    "ExecuteTime": {
     "end_time": "2021-11-18T09:49:28.291341Z",
     "start_time": "2021-11-18T09:49:28.213271Z"
    }
   },
   "outputs": [
    {
     "data": {
      "text/plain": [
       "(torch.Size([128, 5320]), torch.Size([1, 128, 32]), torch.Size([128, 7]))"
      ]
     },
     "execution_count": 18,
     "metadata": {},
     "output_type": "execute_result"
    }
   ],
   "source": [
    "V          = len(oTrgVocab)\n",
    "vTrg       = mTrg[:,0]\n",
    "mZ, mS, mW = DecoderRNN(V, D, H, .2)(vTrg, mH, mS)\n",
    "\n",
    "mZ.shape, mS.shape, mW.shape"
   ]
  },
  {
   "cell_type": "markdown",
   "id": "twenty-coral",
   "metadata": {},
   "source": [
    "#### Seq2Seq (full model):\n",
    "* **Input:**\n",
    "    * `lSrc` a list of the input tensors where:\n",
    "        * `len(lSrc) = N`\n",
    "        * `lSrc[ii].shape = (T_i,)`\n",
    "    * `mTrg` with `mTrg.shape = (N, T)` - The correct target\n",
    "    * `pTeacher` - the probability for teacher forcing\n",
    "* **Output:**\n",
    "    * `mLogits` with `mLogits.shape = (N, T, V)` - The prediction logits.\n",
    "    \n",
    "<img src=\"https://github.com/FixelAlgorithmsTeam/FixelCourses/blob/master/DeepLearningMethods/13_AttentionAndTransfomers//Seq2SeqWithAttention.png?raw=true\" alt=\"Seq2Seq\" style=\"width: 600px;\"/>"
   ]
  },
  {
   "cell_type": "code",
   "execution_count": 19,
   "id": "molecular-millennium",
   "metadata": {
    "ExecuteTime": {
     "end_time": "2021-11-18T09:49:28.988930Z",
     "start_time": "2021-11-18T09:49:28.797010Z"
    }
   },
   "outputs": [
    {
     "data": {
      "text/plain": [
       "torch.Size([128, 5320, 7])"
      ]
     },
     "execution_count": 19,
     "metadata": {},
     "output_type": "execute_result"
    }
   ],
   "source": [
    "Vsrc = len(oSrcVocab)\n",
    "Vtrg = len(oTrgVocab)\n",
    "\n",
    "class Seq2Seq(nn.Module):\n",
    "    def __init__(self):\n",
    "        super().__init__()\n",
    "        D               = 256  #-- D = Embedding\n",
    "        H               = 256  #-- H = Hidden state\n",
    "        p               = .5\n",
    "        \n",
    "        self.oEncoder   = EncoderRNN(Vsrc, D, H, p)\n",
    "        self.oDecoder   = DecoderRNN(Vtrg, D, H, p)\n",
    "\n",
    "    def forward(self, lSrc, mTrg, pTeacher=0.5):\n",
    "        DEVICE   = next(iter(self.parameters())).device\n",
    "        N, T     = mTrg.shape                                 #-- mTrg      .shape = (N, T)\n",
    "        mLogits  = torch.zeros((N, Vtrg, T-1), device=DEVICE) #-- mLogitsOut.shape = (N, V, T)\n",
    "        bTeacher = torch.rand(1) < pTeacher\n",
    "        \n",
    "        #-- Encode:\n",
    "        mH, mS  = self.oEncoder(lSrc) #-- mH        .shape = (N, T, H)\n",
    "\n",
    "        #-- Decode:\n",
    "        vTrgIn = mTrg[:,0]            #-- vTrgIn    .shape = (N,)     \n",
    "        for ii in range(T - 1):\n",
    "            mZ, mS, _       = self.oDecoder(vTrgIn, mH, mS)\n",
    "            mLogits[:,:,ii] = mZ\n",
    "           \n",
    "            if bTeacher == True:\n",
    "                vTrgIn = mTrg[:,ii+1] #-- vTrgIn.shape(N)\n",
    "            else:\n",
    "                vTrgIn = mZ.argmax(dim=1)\n",
    "                            \n",
    "        return mLogits\n",
    "#===========================================================================#\n",
    "#===========================================================================#\n",
    "mLogits = Seq2Seq()(lSrc, mTrg, 0.5)\n",
    "mLogits.shape"
   ]
  },
  {
   "cell_type": "code",
   "execution_count": 20,
   "id": "6cbb761c",
   "metadata": {
    "ExecuteTime": {
     "end_time": "2021-11-18T09:49:29.695055Z",
     "start_time": "2021-11-18T09:49:29.637002Z"
    }
   },
   "outputs": [],
   "source": [
    "def Epoch(oModel, oDataDL, Loss, Metric, oOptim=None, oScheduler=None, bTrain=True):\n",
    "\n",
    "    epochLoss   = 0\n",
    "    epochMetric = 0\n",
    "    count       = 0\n",
    "    nIter       = len(oDataDL)\n",
    "    vLR         = np.full(nIter, np.nan)\n",
    "    DEVICE      = next(oModel.parameters()).device #-- CPU\\GPU\n",
    "\n",
    "    oModel.train(bTrain) #-- train or test\n",
    "\n",
    "    #-- Iterate over the mini-batches:\n",
    "    for ii, (lSrc, mTrg) in enumerate(oDataDL):\n",
    "        mTrg = mTrg.to(DEVICE)\n",
    "     \n",
    "        \n",
    "        if bTrain == True:\n",
    "            #-- Forward:\n",
    "            mOut = oModel(lSrc, mTrg, pTeacher=0.5)\n",
    "            loss = Loss  (mOut, mTrg[:,1:]) #-- omit <SOS>\n",
    "            \n",
    "            #-- Backward:\n",
    "            vLR[ii] = oScheduler.get_last_lr()[0]\n",
    "            oOptim    .zero_grad() #-- set gradients to zeros\n",
    "            loss      .backward () #-- backward\n",
    "            oOptim    .step     () #-- update parameters\n",
    "            oScheduler.step     () #-- update learning rate\n",
    "\n",
    "        else:\n",
    "            with torch.no_grad():\n",
    "                #-- Forward:\n",
    "                mOut = oModel(lSrc, mTrg, pTeacher=0)\n",
    "                loss = Loss  (mOut, mTrg[:,1:]) #-- omit <SOS>\n",
    "\n",
    "        with torch.no_grad():\n",
    "            Nb           = mTrg.shape[0]\n",
    "            count       += Nb\n",
    "            epochLoss   += Nb * loss.item()\n",
    "            epochMetric += Nb * Metric(mOut, mTrg[:,1:])\n",
    "        print(f'\\r{\"Train\" if bTrain else \"Val\"} - Iteration: {ii:3d} ({nIter}): loss = {loss:2.6f}', end='')\n",
    "\n",
    "    print('', end='\\r')\n",
    "    epochLoss   /= count\n",
    "    epochMetric /= count\n",
    "\n",
    "    return epochLoss, epochMetric, vLR"
   ]
  },
  {
   "cell_type": "code",
   "execution_count": 21,
   "id": "interracial-visibility",
   "metadata": {
    "ExecuteTime": {
     "end_time": "2021-11-18T09:49:30.548722Z",
     "start_time": "2021-11-18T09:49:30.172948Z"
    }
   },
   "outputs": [],
   "source": [
    "from torch.optim.lr_scheduler       import OneCycleLR\n",
    "from DeepLearningFramework.Training import TrainModel\n",
    "from DeepLearningFramework.Metric   import Accuracy\n",
    "\n",
    "DEVICE = torch.device       ('cuda:0' if torch.cuda.is_available() else 'cpu') \n",
    "Loss   = nn.CrossEntropyLoss(ignore_index=oTrgVocab['<PAD>'])\n",
    "Metric = Accuracy           (ignoreIndex =oTrgVocab['<PAD>'])"
   ]
  },
  {
   "cell_type": "code",
   "execution_count": 39,
   "id": "spoken-solid",
   "metadata": {
    "ExecuteTime": {
     "end_time": "2021-11-18T10:01:55.586418Z",
     "start_time": "2021-11-18T09:59:38.718994Z"
    },
    "scrolled": false
   },
   "outputs": [
    {
     "name": "stdout",
     "output_type": "stream",
     "text": [
      "------------------------------------------------------------------------------------------------------------------------\n",
      "Epoch 000: | Train loss:  4.620 | Val loss:  3.807 | Train Metric:  0.340 | Val Metric:  0.406 | epoch time:  5.855 | <-- Checkpoint!\n",
      "Epoch 001: | Train loss:  3.304 | Val loss:  3.086 | Train Metric:  0.497 | Val Metric:  0.495 | epoch time:  5.637 | <-- Checkpoint!\n",
      "Epoch 002: | Train loss:  2.605 | Val loss:  2.488 | Train Metric:  0.560 | Val Metric:  0.549 | epoch time:  5.549 | <-- Checkpoint!\n",
      "Epoch 003: | Train loss:  2.110 | Val loss:  2.309 | Train Metric:  0.595 | Val Metric:  0.577 | epoch time:  5.509 | <-- Checkpoint!\n",
      "Epoch 004: | Train loss:  1.796 | Val loss:  2.175 | Train Metric:  0.628 | Val Metric:  0.575 | epoch time:  5.492 |\n",
      "Epoch 005: | Train loss:  1.639 | Val loss:  2.189 | Train Metric:  0.646 | Val Metric:  0.576 | epoch time:  5.538 |\n",
      "Epoch 006: | Train loss:  1.567 | Val loss:  2.177 | Train Metric:  0.654 | Val Metric:  0.589 | epoch time:  5.691 | <-- Checkpoint!\n",
      "Epoch 007: | Train loss:  1.468 | Val loss:  2.165 | Train Metric:  0.667 | Val Metric:  0.591 | epoch time:  5.598 | <-- Checkpoint!\n",
      "Epoch 008: | Train loss:  1.351 | Val loss:  2.123 | Train Metric:  0.686 | Val Metric:  0.607 | epoch time:  5.403 | <-- Checkpoint!\n",
      "Epoch 009: | Train loss:  1.262 | Val loss:  2.064 | Train Metric:  0.700 | Val Metric:  0.617 | epoch time:  5.309 | <-- Checkpoint!\n",
      "------------------------------------------------------------------------------------------------------------------------\n",
      "Epoch 010: | Train loss:  1.151 | Val loss:  2.042 | Train Metric:  0.721 | Val Metric:  0.615 | epoch time:  5.273 |\n",
      "Epoch 011: | Train loss:  1.062 | Val loss:  1.973 | Train Metric:  0.737 | Val Metric:  0.620 | epoch time:  5.363 | <-- Checkpoint!\n",
      "Epoch 012: | Train loss:  0.975 | Val loss:  1.962 | Train Metric:  0.752 | Val Metric:  0.628 | epoch time:  5.347 | <-- Checkpoint!\n",
      "Epoch 013: | Train loss:  0.907 | Val loss:  1.916 | Train Metric:  0.764 | Val Metric:  0.633 | epoch time:  5.274 | <-- Checkpoint!\n",
      "Epoch 014: | Train loss:  0.844 | Val loss:  1.842 | Train Metric:  0.775 | Val Metric:  0.635 | epoch time:  5.337 | <-- Checkpoint!\n",
      "Epoch 015: | Train loss:  0.760 | Val loss:  1.862 | Train Metric:  0.795 | Val Metric:  0.644 | epoch time:  5.273 | <-- Checkpoint!\n",
      "Epoch 016: | Train loss:  0.690 | Val loss:  1.838 | Train Metric:  0.809 | Val Metric:  0.640 | epoch time:  5.294 |\n",
      "Epoch 017: | Train loss:  0.610 | Val loss:  1.828 | Train Metric:  0.829 | Val Metric:  0.646 | epoch time:  5.361 | <-- Checkpoint!\n",
      "Epoch 018: | Train loss:  0.549 | Val loss:  1.821 | Train Metric:  0.843 | Val Metric:  0.647 | epoch time:  5.302 | <-- Checkpoint!\n",
      "Epoch 019: | Train loss:  0.501 | Val loss:  1.814 | Train Metric:  0.854 | Val Metric:  0.651 | epoch time:  5.388 | <-- Checkpoint!\n",
      "------------------------------------------------------------------------------------------------------------------------\n",
      "Epoch 020: | Train loss:  0.458 | Val loss:  1.807 | Train Metric:  0.864 | Val Metric:  0.649 | epoch time:  5.450 |\n",
      "Epoch 021: | Train loss:  0.403 | Val loss:  1.823 | Train Metric:  0.880 | Val Metric:  0.655 | epoch time:  5.390 | <-- Checkpoint!\n",
      "Epoch 022: | Train loss:  0.392 | Val loss:  1.817 | Train Metric:  0.882 | Val Metric:  0.654 | epoch time:  5.454 |\n",
      "Epoch 023: | Train loss:  0.364 | Val loss:  1.826 | Train Metric:  0.891 | Val Metric:  0.653 | epoch time:  5.530 |\n",
      "Epoch 024: | Train loss:  0.369 | Val loss:  1.825 | Train Metric:  0.888 | Val Metric:  0.653 | epoch time:  5.519 |\n"
     ]
    }
   ],
   "source": [
    "nEpochs    = 25\n",
    "nIter      = nEpochs * len(oTrainDL)\n",
    "\n",
    "oModel     = Seq2Seq    ().to(DEVICE)\n",
    "oOptim     = optim.AdamW(oModel.parameters(), lr=0, betas=(0.9, 0.99), weight_decay=1e-1)\n",
    "oScheduler = OneCycleLR (oOptim, max_lr=5e-3, total_steps=nIter)\n",
    "lHistory   = TrainModel (oModel, oTrainDL, oTestDL, Loss, Metric, nEpochs, oOptim, oScheduler, Epoch=Epoch, sModelName='Seq2SeqWithAttention')"
   ]
  },
  {
   "cell_type": "code",
   "execution_count": 40,
   "id": "controlling-bottom",
   "metadata": {
    "ExecuteTime": {
     "end_time": "2021-11-18T10:02:40.464150Z",
     "start_time": "2021-11-18T10:02:40.085218Z"
    }
   },
   "outputs": [
    {
     "data": {
      "image/png": "[encoded data removed]",
      "text/plain": [
       "<Figure size 2200x500 with 3 Axes>"
      ]
     },
     "metadata": {},
     "output_type": "display_data"
    }
   ],
   "source": [
    "from DeepLearningFramework.Auxiliary import PlotHistory\n",
    "\n",
    "PlotHistory(lHistory)\n",
    "plt.show   ()"
   ]
  },
  {
   "cell_type": "code",
   "execution_count": 25,
   "id": "145786cb",
   "metadata": {
    "ExecuteTime": {
     "end_time": "2021-11-18T09:55:14.493277Z",
     "start_time": "2021-11-18T09:55:14.415206Z"
    }
   },
   "outputs": [],
   "source": [
    "# oModel = Seq2Seq      ()\n",
    "# oModel.load_state_dict(torch.load('Seq2SeqWithAttention_v1.pt'))\n",
    "# oModel.to             (DEVICE)\n",
    "# oModel.train          (False)"
   ]
  },
  {
   "cell_type": "markdown",
   "id": "arbitrary-custom",
   "metadata": {},
   "source": [
    "### Exercise (predict implementation)\n",
    "Complete the `Predict` function implementation.  \n",
    "\n",
    "Note: A [beam search](https://en.wikipedia.org/wiki/Beam_search) should be used instead of top 1 method."
   ]
  },
  {
   "cell_type": "code",
   "execution_count": 100,
   "id": "external-penetration",
   "metadata": {
    "ExecuteTime": {
     "end_time": "2021-10-11T12:48:45.052426Z",
     "start_time": "2021-10-11T12:48:44.983364Z"
    }
   },
   "outputs": [
    {
     "data": {
      "text/plain": [
       "(torch.Size([5]), torch.Size([6, 5]))"
      ]
     },
     "execution_count": 100,
     "metadata": {},
     "output_type": "execute_result"
    }
   ],
   "source": [
    "from torch.distributions.categorical import Categorical\n",
    "\n",
    "def Predict(oModel, vSrc, bTop1=False):\n",
    "    #-- vSrc.shape = (T,)\n",
    "    MAX_LENGTH = 16\n",
    "    DEVICE     = next(oModel.parameters()).device\n",
    "    trgIn      = torch.tensor([oTrgVocab['<SOS>']], dtype=torch.int32, device=DEVICE)\n",
    "    vTrgOut    = torch.empty(MAX_LENGTH, device=DEVICE)\n",
    "    Tsrc       = vSrc.shape[0]\n",
    "    mW         = torch.zeros((Tsrc, MAX_LENGTH))\n",
    "    \n",
    "    #-- Encode:\n",
    "    mH, mS  = ???\n",
    "    \n",
    "    #-- Decode:\n",
    "    for ii in range(MAX_LENGTH):\n",
    "        mZ, mS, mW[:,ii] = ???\n",
    "\n",
    "        if bTop1 == True:\n",
    "            ???\n",
    "        else:\n",
    "            ???\n",
    "\n",
    "        vTrgOut[ii] = ???\n",
    "        \n",
    "        if ??? == oTrgVocab['<EOS>']:\n",
    "            break\n",
    "\n",
    "    return vTrgOut[:ii+1], mW[:,:ii+1]\n",
    "\n",
    "vTrgOut, mW = Predict(oModel, lSrc[0])\n",
    "vTrgOut.shape, mW.shape"
   ]
  },
  {
   "cell_type": "code",
   "execution_count": 41,
   "id": "nearby-alaska",
   "metadata": {
    "ExecuteTime": {
     "end_time": "2021-11-18T10:03:00.253286Z",
     "start_time": "2021-11-18T10:03:00.140184Z"
    }
   },
   "outputs": [],
   "source": [
    "lSpecial = ['<UNK>', '<EOS>']\n",
    "\n",
    "def ShowAttention(sEng, sHeb, mW):\n",
    "    lEng = sEng.split()\n",
    "    lHeb = sHeb.split()\n",
    "    \n",
    "    fig, ax = plt.subplots(figsize=(5, 5))\n",
    "    cax     = ax.matshow(mW, cmap='bone', vmin=0)\n",
    "    lHeb    = [word if word  in lSpecial else word[::-1] for word in lHeb]\n",
    "    \n",
    "    plt.xticks(ticks=range(len(lHeb)), labels=lHeb)\n",
    "    plt.yticks(ticks=range(len(lEng)), labels=lEng)\n",
    "\n",
    "    plt.grid(color=[0.5,0.5,0.5], linestyle=':', axis='y')\n",
    "    plt.show()\n",
    "    \n",
    "    return fig"
   ]
  },
  {
   "cell_type": "code",
   "execution_count": 52,
   "id": "attached-tradition",
   "metadata": {
    "ExecuteTime": {
     "end_time": "2021-11-18T10:03:56.819884Z",
     "start_time": "2021-11-18T10:03:56.633715Z"
    }
   },
   "outputs": [
    {
     "data": {
      "text/html": [
       "<div>\n",
       "<style scoped>\n",
       "    .dataframe tbody tr th:only-of-type {\n",
       "        vertical-align: middle;\n",
       "    }\n",
       "\n",
       "    .dataframe tbody tr th {\n",
       "        vertical-align: top;\n",
       "    }\n",
       "\n",
       "    .dataframe thead th {\n",
       "        text-align: right;\n",
       "    }\n",
       "</style>\n",
       "<table border=\"1\" class=\"dataframe\">\n",
       "  <thead>\n",
       "    <tr style=\"text-align: right;\">\n",
       "      <th></th>\n",
       "      <th>English</th>\n",
       "      <th>GT (Hebrew)</th>\n",
       "      <th>Generated</th>\n",
       "    </tr>\n",
       "  </thead>\n",
       "  <tbody>\n",
       "    <tr>\n",
       "      <th>0</th>\n",
       "      <td>yes i know .</td>\n",
       "      <td>כן אני יודעת .</td>\n",
       "      <td>כן אני יודע . &lt;EOS&gt;</td>\n",
       "    </tr>\n",
       "  </tbody>\n",
       "</table>\n",
       "</div>"
      ],
      "text/plain": [
       "        English     GT (Hebrew)            Generated\n",
       "0  yes i know .  כן אני יודעת .  כן אני יודע . <EOS>"
      ]
     },
     "metadata": {},
     "output_type": "display_data"
    },
    {
     "data": {
      "image/png": "[encoded data removed]",
      "text/plain": [
       "<Figure size 500x500 with 1 Axes>"
      ]
     },
     "metadata": {},
     "output_type": "display_data"
    }
   ],
   "source": [
    "dLang = pd.DataFrame(index=range(1), columns=['English', 'GT (Hebrew)', 'Generated'])\n",
    "\n",
    "for ii in range(1):\n",
    "    idx        = np.random.randint(nTest)\n",
    "    vEng, vHeb = oTestSet[idx]\n",
    "    with torch.no_grad():\n",
    "        vHebOut, mW = Predict(oModel, vEng, bTop1=False)\n",
    "        vHebOut     = vHebOut.int()\n",
    "\n",
    "    sEng             = Tensor2Line(oEngVocab, vEng[1:-1])\n",
    "    sHeb             = Tensor2Line(oHebVocab, vHeb[1:-1])\n",
    "    sHebHat          = Tensor2Line(oHebVocab, vHebOut)\n",
    "    dLang.iloc[ii,:] = [sEng, sHeb, sHebHat]\n",
    "\n",
    "display(dLang)\n",
    "\n",
    "sEng = Tensor2Line(oEngVocab, vEng)\n",
    "ShowAttention(sEng, sHebHat, mW);"
   ]
  },
  {
   "cell_type": "code",
   "execution_count": null,
   "id": "1718d248",
   "metadata": {},
   "outputs": [],
   "source": []
  },
  {
   "cell_type": "code",
   "execution_count": null,
   "id": "e7921043",
   "metadata": {},
   "outputs": [],
   "source": []
  },
  {
   "cell_type": "code",
   "execution_count": null,
   "id": "5800ca11",
   "metadata": {},
   "outputs": [],
   "source": []
  },
  {
   "cell_type": "code",
   "execution_count": null,
   "id": "2eac26b7",
   "metadata": {},
   "outputs": [],
   "source": []
  },
  {
   "cell_type": "code",
   "execution_count": null,
   "id": "9f02d9fd",
   "metadata": {},
   "outputs": [],
   "source": []
  },
  {
   "cell_type": "code",
   "execution_count": null,
   "id": "c4bd5928",
   "metadata": {},
   "outputs": [],
   "source": []
  },
  {
   "cell_type": "code",
   "execution_count": null,
   "id": "0fab4c7d",
   "metadata": {},
   "outputs": [],
   "source": []
  },
  {
   "cell_type": "code",
   "execution_count": null,
   "id": "31aec0c4",
   "metadata": {},
   "outputs": [],
   "source": []
  },
  {
   "cell_type": "code",
   "execution_count": null,
   "id": "e6a788ef",
   "metadata": {},
   "outputs": [],
   "source": []
  },
  {
   "cell_type": "code",
   "execution_count": null,
   "id": "5fdefb22",
   "metadata": {},
   "outputs": [],
   "source": []
  },
  {
   "cell_type": "code",
   "execution_count": null,
   "id": "d1ee1e5a",
   "metadata": {},
   "outputs": [],
   "source": []
  },
  {
   "cell_type": "code",
   "execution_count": null,
   "id": "625cd654",
   "metadata": {},
   "outputs": [],
   "source": []
  },
  {
   "cell_type": "code",
   "execution_count": null,
   "id": "0ec11e5f",
   "metadata": {},
   "outputs": [],
   "source": []
  },
  {
   "cell_type": "code",
   "execution_count": null,
   "id": "4d106e21",
   "metadata": {},
   "outputs": [],
   "source": []
  },
  {
   "cell_type": "code",
   "execution_count": null,
   "id": "1881fc60",
   "metadata": {},
   "outputs": [],
   "source": []
  },
  {
   "cell_type": "code",
   "execution_count": null,
   "id": "d21ba1c0",
   "metadata": {},
   "outputs": [],
   "source": []
  },
  {
   "cell_type": "code",
   "execution_count": null,
   "id": "10f40b23",
   "metadata": {},
   "outputs": [],
   "source": []
  },
  {
   "cell_type": "code",
   "execution_count": null,
   "id": "745ade4c",
   "metadata": {},
   "outputs": [],
   "source": []
  },
  {
   "cell_type": "code",
   "execution_count": null,
   "id": "90a0c810",
   "metadata": {},
   "outputs": [],
   "source": []
  },
  {
   "cell_type": "code",
   "execution_count": null,
   "id": "e4160d42",
   "metadata": {},
   "outputs": [],
   "source": []
  },
  {
   "cell_type": "code",
   "execution_count": null,
   "id": "949b3b71",
   "metadata": {},
   "outputs": [],
   "source": []
  },
  {
   "cell_type": "code",
   "execution_count": null,
   "id": "84c0f021",
   "metadata": {},
   "outputs": [],
   "source": []
  },
  {
   "cell_type": "code",
   "execution_count": null,
   "id": "a74ba158",
   "metadata": {},
   "outputs": [],
   "source": []
  },
  {
   "cell_type": "code",
   "execution_count": null,
   "id": "dbb28fb9",
   "metadata": {},
   "outputs": [],
   "source": []
  },
  {
   "cell_type": "code",
   "execution_count": null,
   "id": "b6f9dc33",
   "metadata": {},
   "outputs": [],
   "source": []
  },
  {
   "cell_type": "code",
   "execution_count": null,
   "id": "6f9964c6",
   "metadata": {},
   "outputs": [],
   "source": []
  },
  {
   "cell_type": "code",
   "execution_count": null,
   "id": "9f19aace",
   "metadata": {},
   "outputs": [],
   "source": []
  },
  {
   "cell_type": "code",
   "execution_count": null,
   "id": "bac4c92c",
   "metadata": {},
   "outputs": [],
   "source": []
  },
  {
   "cell_type": "code",
   "execution_count": null,
   "id": "a288845e",
   "metadata": {},
   "outputs": [],
   "source": []
  },
  {
   "cell_type": "code",
   "execution_count": null,
   "id": "bd881940",
   "metadata": {},
   "outputs": [],
   "source": []
  },
  {
   "cell_type": "code",
   "execution_count": null,
   "id": "c31c6885",
   "metadata": {},
   "outputs": [],
   "source": []
  },
  {
   "cell_type": "code",
   "execution_count": null,
   "id": "46b0a35c",
   "metadata": {},
   "outputs": [],
   "source": []
  },
  {
   "cell_type": "code",
   "execution_count": null,
   "id": "c71b52f4",
   "metadata": {},
   "outputs": [],
   "source": []
  },
  {
   "cell_type": "code",
   "execution_count": null,
   "id": "083e86bd",
   "metadata": {},
   "outputs": [],
   "source": []
  },
  {
   "cell_type": "code",
   "execution_count": null,
   "id": "b7c84a90",
   "metadata": {},
   "outputs": [],
   "source": []
  },
  {
   "cell_type": "code",
   "execution_count": null,
   "id": "365a29b0",
   "metadata": {},
   "outputs": [],
   "source": [
    "# from torch.distributions.categorical import Categorical\n",
    "\n",
    "# def Predict(oModel, vSrc, bTop1=False):\n",
    "#     #-- vSrc.shape = (T,)\n",
    "#     MAX_LENGTH = 16\n",
    "#     DEVICE     = next(oModel.parameters()).device\n",
    "#     trgIn      = torch.tensor([oTrgVocab['<SOS>']], dtype=torch.int32, device=DEVICE)\n",
    "#     vTrgOut    = torch.empty(MAX_LENGTH, device=DEVICE)\n",
    "#     Tsrc       = vSrc.shape[0]\n",
    "#     mW         = torch.zeros((Tsrc, MAX_LENGTH))\n",
    "    \n",
    "#     #-- Encode:\n",
    "#     mH, mS  = oModel.oEncoder([vSrc])\n",
    "    \n",
    "#     #-- Decode:\n",
    "#     for ii in range(MAX_LENGTH):\n",
    "#         mZ, mS, mW[:,ii] = oModel.oDecoder(trgIn, mH, mS)\n",
    "\n",
    "#         if bTop1 == True:\n",
    "#             trgIn = mZ.argmax(dim=1)\n",
    "#         else:\n",
    "#             trgIn = Categorical(logits=mZ).sample()\n",
    "\n",
    "#         vTrgOut[ii] = trgIn\n",
    "        \n",
    "#         if trgIn == oTrgVocab['<EOS>']:\n",
    "#             break\n",
    "\n",
    "#     return vTrgOut[:ii+1], mW[:,:ii+1]\n",
    "\n",
    "# vTrgOut, mW = Predict(oModel, lSrc[0])\n",
    "# vTrgOut.shape, mW.shape"
   ]
  }
 ],
 "metadata": {
  "kernelspec": {
   "display_name": "Python 3",
   "language": "python",
   "name": "python3"
  },
  "language_info": {
   "codemirror_mode": {
    "name": "ipython",
    "version": 3
   },
   "file_extension": ".py",
   "mimetype": "text/x-python",
   "name": "python",
   "nbconvert_exporter": "python",
   "pygments_lexer": "ipython3",
   "version": "3.8.12"
  }
 },
 "nbformat": 4,
 "nbformat_minor": 5
}
