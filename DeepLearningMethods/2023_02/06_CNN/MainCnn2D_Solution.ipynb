{
 "cells": [
  {
   "cell_type": "markdown",
   "metadata": {},
   "source": [
    "![Fixel Algorithms](https://fixelalgorithms.co/images/CCExt.png)"
   ]
  },
  {
   "cell_type": "markdown",
   "metadata": {},
   "source": [
    "# <center> Deep Learning Methods </center>\n",
    "## <center> Lecture 6 - Convolutional Neural Network</center>\n",
    "### <center> 2D CNN - Solution</center>"
   ]
  },
  {
   "cell_type": "markdown",
   "metadata": {},
   "source": [
    "[![Open In Colab](https://colab.research.google.com/assets/colab-badge.svg)](https://colab.research.google.com/github/FixelAlgorithmsTeam/FixelCourses/blob/master/DeepLearningMethods/06_CNN/MainCnn2D_Solution.ipynb)"
   ]
  },
  {
   "cell_type": "code",
   "execution_count": 1,
   "metadata": {
    "ExecuteTime": {
     "end_time": "2021-10-31T10:37:22.076683Z",
     "start_time": "2021-10-31T10:37:22.069676Z"
    }
   },
   "outputs": [
    {
     "data": {
      "text/html": [
       "<style>.container { width:80% !important; }</style>"
      ],
      "text/plain": [
       "<IPython.core.display.HTML object>"
      ]
     },
     "metadata": {},
     "output_type": "display_data"
    }
   ],
   "source": [
    "#-- Wide screen:\n",
    "from IPython.core.display import display, HTML\n",
    "display(HTML(\"<style>.container { width:80% !important; }</style>\"))"
   ]
  },
  {
   "cell_type": "code",
   "execution_count": 2,
   "metadata": {
    "ExecuteTime": {
     "end_time": "2021-10-31T10:37:22.108712Z",
     "start_time": "2021-10-31T10:37:22.077683Z"
    }
   },
   "outputs": [],
   "source": [
    "#-- Auto reload:\n",
    "%load_ext autoreload\n",
    "%autoreload 2"
   ]
  },
  {
   "cell_type": "code",
   "execution_count": 3,
   "metadata": {
    "ExecuteTime": {
     "end_time": "2021-10-31T10:37:23.228767Z",
     "start_time": "2021-10-31T10:37:22.109713Z"
    }
   },
   "outputs": [],
   "source": [
    "#-- Imports:\n",
    "import numpy             as np\n",
    "import matplotlib.pyplot as plt\n",
    "import matplotlib\n",
    "import torch\n",
    "\n",
    "matplotlib.rc('font', **{'size' : 16})"
   ]
  },
  {
   "cell_type": "markdown",
   "metadata": {},
   "source": [
    "For Colab users:"
   ]
  },
  {
   "cell_type": "code",
   "execution_count": 4,
   "metadata": {
    "ExecuteTime": {
     "end_time": "2021-10-31T10:37:23.276810Z",
     "start_time": "2021-10-31T10:37:23.229768Z"
    }
   },
   "outputs": [],
   "source": [
    "if 'google.colab' in str(get_ipython()):\n",
    "    !npx degit FixelAlgorithmsTeam/FixelCourses/DeepLearningMethods/06_CNN/DeepLearningFramework ./DeepLearningFramework\n",
    "    !pip install torchinfo"
   ]
  },
  {
   "cell_type": "code",
   "execution_count": 5,
   "metadata": {
    "ExecuteTime": {
     "end_time": "2021-10-31T10:37:23.590842Z",
     "start_time": "2021-10-31T10:37:23.277811Z"
    }
   },
   "outputs": [],
   "source": [
    "#-- Record figures during training:\n",
    "from DeepLearningFramework.Training import TrainClassficationModel"
   ]
  },
  {
   "cell_type": "markdown",
   "metadata": {},
   "source": [
    "### Exercise\n",
    "* Load the Fashion-MNIST dataset.\n",
    "* Use 2D CNN, try to get the high accuracy (above 92% is good)."
   ]
  },
  {
   "cell_type": "markdown",
   "metadata": {},
   "source": [
    "#### Download Fashion-MNIST dataset:"
   ]
  },
  {
   "cell_type": "code",
   "execution_count": 6,
   "metadata": {
    "ExecuteTime": {
     "end_time": "2021-10-31T10:37:23.782017Z",
     "start_time": "2021-10-31T10:37:23.591844Z"
    }
   },
   "outputs": [
    {
     "data": {
      "text/plain": [
       "torch.Size([60000, 28, 28])"
      ]
     },
     "execution_count": 6,
     "metadata": {},
     "output_type": "execute_result"
    }
   ],
   "source": [
    "import torchvision\n",
    "import torchvision.transforms as transforms\n",
    "\n",
    "oTrainSet = torchvision.datasets.FashionMNIST(root='../../data', train=True,  download=True, transform=transforms.ToTensor())\n",
    "oTestSet  = torchvision.datasets.FashionMNIST(root='../../data', train=False, download=True, transform=transforms.ToTensor())\n",
    "oTrainSet.data.shape"
   ]
  },
  {
   "cell_type": "code",
   "execution_count": 7,
   "metadata": {
    "ExecuteTime": {
     "end_time": "2021-10-31T10:37:23.846075Z",
     "start_time": "2021-10-31T10:37:23.783018Z"
    }
   },
   "outputs": [
    {
     "data": {
      "text/plain": [
       "['T-shirt/top',\n",
       " 'Trouser',\n",
       " 'Pullover',\n",
       " 'Dress',\n",
       " 'Coat',\n",
       " 'Sandal',\n",
       " 'Shirt',\n",
       " 'Sneaker',\n",
       " 'Bag',\n",
       " 'Ankle boot']"
      ]
     },
     "execution_count": 7,
     "metadata": {},
     "output_type": "execute_result"
    }
   ],
   "source": [
    "lClasses  = oTrainSet.classes\n",
    "lClasses"
   ]
  },
  {
   "cell_type": "markdown",
   "metadata": {},
   "source": [
    "#### Plot some examples:"
   ]
  },
  {
   "cell_type": "code",
   "execution_count": 8,
   "metadata": {
    "ExecuteTime": {
     "end_time": "2021-10-31T10:37:24.038250Z",
     "start_time": "2021-10-31T10:37:23.847076Z"
    }
   },
   "outputs": [
    {
     "data": {
      "image/png": "[encoded data removed]",
      "text/plain": [
       "<Figure size 576x288 with 6 Axes>"
      ]
     },
     "metadata": {
      "needs_background": "light"
     },
     "output_type": "display_data"
    }
   ],
   "source": [
    "N, H, W = oTrainSet.data.shape\n",
    "fig, _  = plt.subplots(2, 3, figsize=(8, 4))\n",
    "for ax in fig.axes:\n",
    "    idx   = np.random.randint(N)\n",
    "    mX, y = oTrainSet[idx]\n",
    "    ax.imshow   (mX.squeeze(), cmap='gray')\n",
    "    ax.set_title(f'True label: {lClasses[y]}')\n",
    "    ax.axis     (False)\n",
    "    \n",
    "plt.tight_layout()\n",
    "plt.show        ()"
   ]
  },
  {
   "cell_type": "markdown",
   "metadata": {},
   "source": [
    "#### Compute mean and variance:"
   ]
  },
  {
   "cell_type": "code",
   "execution_count": 9,
   "metadata": {
    "ExecuteTime": {
     "end_time": "2021-10-31T10:37:24.195647Z",
     "start_time": "2021-10-31T10:37:24.039251Z"
    }
   },
   "outputs": [
    {
     "name": "stdout",
     "output_type": "stream",
     "text": [
      "µ = tensor(0.2860)\n",
      "σ = tensor(0.3530)\n"
     ]
    }
   ],
   "source": [
    "mean = oTrainSet.data.float().mean() / 255\n",
    "std  = oTrainSet.data.float().std () / 255\n",
    "print('µ =', mean)\n",
    "print('σ =', std)"
   ]
  },
  {
   "cell_type": "markdown",
   "metadata": {},
   "source": [
    "#### Set datasets with normalization:"
   ]
  },
  {
   "cell_type": "code",
   "execution_count": 10,
   "metadata": {
    "ExecuteTime": {
     "end_time": "2021-10-31T10:37:24.274719Z",
     "start_time": "2021-10-31T10:37:24.196649Z"
    }
   },
   "outputs": [],
   "source": [
    "oTransform = transforms.Compose([\n",
    "    transforms.ToTensor (),\n",
    "    transforms.Normalize(mean, std)\n",
    "])\n",
    "\n",
    "oTrainSet.transform = oTransform\n",
    "oTestSet .transform = oTransform"
   ]
  },
  {
   "cell_type": "markdown",
   "metadata": {},
   "source": [
    "#### Create data loaders:"
   ]
  },
  {
   "cell_type": "code",
   "execution_count": 11,
   "metadata": {
    "ExecuteTime": {
     "end_time": "2021-10-31T10:37:25.550232Z",
     "start_time": "2021-10-31T10:37:24.275720Z"
    }
   },
   "outputs": [
    {
     "data": {
      "text/plain": [
       "(torch.Size([256, 1, 28, 28]), torch.Size([256]))"
      ]
     },
     "execution_count": 11,
     "metadata": {},
     "output_type": "execute_result"
    }
   ],
   "source": [
    "batchSize = 256\n",
    "oTrainDL  = torch.utils.data.DataLoader(oTrainSet, shuffle=True,  batch_size=batchSize,   num_workers=2, persistent_workers=True)\n",
    "oTestDL   = torch.utils.data.DataLoader(oTestSet,  shuffle=False, batch_size=2*batchSize, num_workers=2, persistent_workers=True)\n",
    "\n",
    "mX,       vY       = next(iter(oTrainDL))\n",
    "mX.shape, vY.shape"
   ]
  },
  {
   "cell_type": "markdown",
   "metadata": {},
   "source": [
    "#### Define the model (2D CNN):"
   ]
  },
  {
   "cell_type": "code",
   "execution_count": 12,
   "metadata": {
    "ExecuteTime": {
     "end_time": "2021-10-31T10:37:28.219770Z",
     "start_time": "2021-10-31T10:37:25.551233Z"
    }
   },
   "outputs": [
    {
     "data": {
      "text/plain": [
       "==========================================================================================\n",
       "Layer (type:depth-idx)                   Output Shape              Param #\n",
       "==========================================================================================\n",
       "Sequential                               --                        --\n",
       "├─Identity: 1-1                          [256, 1, 28, 28]          --\n",
       "├─Conv2d: 1-2                            [256, 16, 26, 26]         144\n",
       "├─BatchNorm2d: 1-3                       [256, 16, 26, 26]         32\n",
       "├─ReLU: 1-4                              [256, 16, 26, 26]         --\n",
       "├─Dropout2d: 1-5                         [256, 16, 26, 26]         --\n",
       "├─Conv2d: 1-6                            [256, 32, 24, 24]         4,608\n",
       "├─BatchNorm2d: 1-7                       [256, 32, 24, 24]         64\n",
       "├─ReLU: 1-8                              [256, 32, 24, 24]         --\n",
       "├─Dropout2d: 1-9                         [256, 32, 24, 24]         --\n",
       "├─Conv2d: 1-10                           [256, 64, 11, 11]         18,432\n",
       "├─BatchNorm2d: 1-11                      [256, 64, 11, 11]         128\n",
       "├─ReLU: 1-12                             [256, 64, 11, 11]         --\n",
       "├─Dropout2d: 1-13                        [256, 64, 11, 11]         --\n",
       "├─Conv2d: 1-14                           [256, 128, 9, 9]          73,728\n",
       "├─BatchNorm2d: 1-15                      [256, 128, 9, 9]          256\n",
       "├─ReLU: 1-16                             [256, 128, 9, 9]          --\n",
       "├─Dropout2d: 1-17                        [256, 128, 9, 9]          --\n",
       "├─Conv2d: 1-18                           [256, 256, 4, 4]          294,912\n",
       "├─BatchNorm2d: 1-19                      [256, 256, 4, 4]          512\n",
       "├─ReLU: 1-20                             [256, 256, 4, 4]          --\n",
       "├─Dropout2d: 1-21                        [256, 256, 4, 4]          --\n",
       "├─AdaptiveAvgPool2d: 1-22                [256, 256, 1, 1]          --\n",
       "├─Flatten: 1-23                          [256, 256]                --\n",
       "├─Linear: 1-24                           [256, 10]                 2,570\n",
       "==========================================================================================\n",
       "Total params: 395,386\n",
       "Trainable params: 395,386\n",
       "Non-trainable params: 0\n",
       "Total mult-adds (G): 4.01\n",
       "==========================================================================================\n",
       "Input size (MB): 0.80\n",
       "Forward/backward pass size (MB): 210.78\n",
       "Params size (MB): 1.58\n",
       "Estimated Total Size (MB): 213.17\n",
       "=========================================================================================="
      ]
     },
     "execution_count": 12,
     "metadata": {},
     "output_type": "execute_result"
    }
   ],
   "source": [
    "import torch.nn            as nn\n",
    "import torch.nn.functional as F\n",
    "import torch.optim         as optim\n",
    "import torchinfo\n",
    "    \n",
    "def GetModel():\n",
    "    oModel = nn.Sequential(\n",
    "        nn.Identity(), #-- does nothing\n",
    "        \n",
    "        nn.Conv2d(1,   16,  3, bias=False),           nn.BatchNorm2d(16),  nn.ReLU(), nn.Dropout2d(0.1),\n",
    "        nn.Conv2d(16,  32,  3, bias=False),           nn.BatchNorm2d(32),  nn.ReLU(), nn.Dropout2d(0.1),\n",
    "        nn.Conv2d(32,  64,  3, bias=False, stride=2), nn.BatchNorm2d(64),  nn.ReLU(), nn.Dropout2d(0.1),\n",
    "        nn.Conv2d(64,  128, 3, bias=False),           nn.BatchNorm2d(128), nn.ReLU(), nn.Dropout2d(0.1),\n",
    "        nn.Conv2d(128, 256, 3, bias=False, stride=2), nn.BatchNorm2d(256), nn.ReLU(), nn.Dropout2d(0.1),\n",
    "        \n",
    "        nn.AdaptiveAvgPool2d(1),\n",
    "        nn.Flatten          (),\n",
    "        nn.Linear           (256, 10),\n",
    "    )\n",
    "    \n",
    "    return oModel\n",
    "\n",
    "#--------------------------------------------------------------------------------#\n",
    "#--------------------------------------------------------------------------------#\n",
    "torchinfo.summary(GetModel(), mX.shape)"
   ]
  },
  {
   "cell_type": "markdown",
   "metadata": {},
   "source": [
    "#### Check whether GPU is available:"
   ]
  },
  {
   "cell_type": "code",
   "execution_count": 13,
   "metadata": {
    "ExecuteTime": {
     "end_time": "2021-10-31T10:37:28.283828Z",
     "start_time": "2021-10-31T10:37:28.220771Z"
    }
   },
   "outputs": [
    {
     "data": {
      "text/plain": [
       "device(type='cuda', index=0)"
      ]
     },
     "execution_count": 13,
     "metadata": {},
     "output_type": "execute_result"
    }
   ],
   "source": [
    "DEVICE = torch.device(\"cuda:0\" if torch.cuda.is_available() else \"cpu\") \n",
    "DEVICE"
   ]
  },
  {
   "cell_type": "markdown",
   "metadata": {},
   "source": [
    "#### Train the model:"
   ]
  },
  {
   "cell_type": "code",
   "execution_count": 14,
   "metadata": {
    "ExecuteTime": {
     "end_time": "2021-10-31T10:38:54.890527Z",
     "start_time": "2021-10-31T10:37:28.284829Z"
    }
   },
   "outputs": [
    {
     "name": "stdout",
     "output_type": "stream",
     "text": [
      "Epoch 000: | Train loss:  0.621 | Val loss:  0.416 | Train Accuracy:  0.773 | Val Accuracy:  0.851 | epoch time:  4.504 | <-- Checkpoint!\n",
      "Epoch 001: | Train loss:  0.383 | Val loss:  0.321 | Train Accuracy:  0.862 | Val Accuracy:  0.883 | epoch time:  3.033 | <-- Checkpoint!\n",
      "Epoch 002: | Train loss:  0.320 | Val loss:  0.310 | Train Accuracy:  0.884 | Val Accuracy:  0.890 | epoch time:  2.861 | <-- Checkpoint!\n",
      "Epoch 003: | Train loss:  0.290 | Val loss:  0.282 | Train Accuracy:  0.895 | Val Accuracy:  0.894 | epoch time:  2.798 | <-- Checkpoint!\n",
      "Epoch 004: | Train loss:  0.268 | Val loss:  0.272 | Train Accuracy:  0.902 | Val Accuracy:  0.901 | epoch time:  2.830 | <-- Checkpoint!\n",
      "Epoch 005: | Train loss:  0.252 | Val loss:  0.252 | Train Accuracy:  0.909 | Val Accuracy:  0.909 | epoch time:  2.773 | <-- Checkpoint!\n",
      "Epoch 006: | Train loss:  0.236 | Val loss:  0.243 | Train Accuracy:  0.915 | Val Accuracy:  0.910 | epoch time:  2.788 | <-- Checkpoint!\n",
      "Epoch 007: | Train loss:  0.223 | Val loss:  0.245 | Train Accuracy:  0.919 | Val Accuracy:  0.911 | epoch time:  2.852 | <-- Checkpoint!\n",
      "Epoch 008: | Train loss:  0.213 | Val loss:  0.230 | Train Accuracy:  0.923 | Val Accuracy:  0.915 | epoch time:  2.822 | <-- Checkpoint!\n",
      "Epoch 009: | Train loss:  0.202 | Val loss:  0.236 | Train Accuracy:  0.926 | Val Accuracy:  0.914 | epoch time:  2.826 |\n",
      "Epoch 010: | Train loss:  0.189 | Val loss:  0.225 | Train Accuracy:  0.931 | Val Accuracy:  0.920 | epoch time:  2.865 | <-- Checkpoint!\n",
      "Epoch 011: | Train loss:  0.178 | Val loss:  0.237 | Train Accuracy:  0.934 | Val Accuracy:  0.915 | epoch time:  2.858 |\n",
      "Epoch 012: | Train loss:  0.173 | Val loss:  0.237 | Train Accuracy:  0.936 | Val Accuracy:  0.918 | epoch time:  2.852 |\n",
      "Epoch 013: | Train loss:  0.163 | Val loss:  0.225 | Train Accuracy:  0.940 | Val Accuracy:  0.920 | epoch time:  2.889 |\n",
      "Epoch 014: | Train loss:  0.156 | Val loss:  0.232 | Train Accuracy:  0.942 | Val Accuracy:  0.921 | epoch time:  2.875 | <-- Checkpoint!\n",
      "Epoch 015: | Train loss:  0.150 | Val loss:  0.228 | Train Accuracy:  0.945 | Val Accuracy:  0.921 | epoch time:  2.825 | <-- Checkpoint!\n",
      "Epoch 016: | Train loss:  0.144 | Val loss:  0.240 | Train Accuracy:  0.947 | Val Accuracy:  0.917 | epoch time:  2.880 |\n",
      "Epoch 017: | Train loss:  0.133 | Val loss:  0.229 | Train Accuracy:  0.952 | Val Accuracy:  0.925 | epoch time:  2.830 | <-- Checkpoint!\n",
      "Epoch 018: | Train loss:  0.129 | Val loss:  0.239 | Train Accuracy:  0.953 | Val Accuracy:  0.920 | epoch time:  2.827 |\n",
      "Epoch 019: | Train loss:  0.123 | Val loss:  0.231 | Train Accuracy:  0.955 | Val Accuracy:  0.921 | epoch time:  2.806 |\n",
      "Epoch 020: | Train loss:  0.121 | Val loss:  0.236 | Train Accuracy:  0.956 | Val Accuracy:  0.921 | epoch time:  2.779 |\n",
      "Epoch 021: | Train loss:  0.112 | Val loss:  0.247 | Train Accuracy:  0.959 | Val Accuracy:  0.923 | epoch time:  2.804 |\n",
      "Epoch 022: | Train loss:  0.110 | Val loss:  0.255 | Train Accuracy:  0.959 | Val Accuracy:  0.916 | epoch time:  2.801 |\n",
      "Epoch 023: | Train loss:  0.106 | Val loss:  0.236 | Train Accuracy:  0.961 | Val Accuracy:  0.924 | epoch time:  2.773 |\n",
      "Epoch 024: | Train loss:  0.099 | Val loss:  0.238 | Train Accuracy:  0.964 | Val Accuracy:  0.923 | epoch time:  2.776 |\n",
      "Epoch 025: | Train loss:  0.099 | Val loss:  0.253 | Train Accuracy:  0.964 | Val Accuracy:  0.917 | epoch time:  2.771 |\n",
      "Epoch 026: | Train loss:  0.092 | Val loss:  0.270 | Train Accuracy:  0.966 | Val Accuracy:  0.915 | epoch time:  2.770 |\n",
      "Epoch 027: | Train loss:  0.091 | Val loss:  0.260 | Train Accuracy:  0.967 | Val Accuracy:  0.918 | epoch time:  2.775 |\n",
      "Epoch 028: | Train loss:  0.087 | Val loss:  0.270 | Train Accuracy:  0.969 | Val Accuracy:  0.920 | epoch time:  2.807 |\n",
      "Epoch 029: | Train loss:  0.086 | Val loss:  0.257 | Train Accuracy:  0.968 | Val Accuracy:  0.921 | epoch time:  2.800 |\n"
     ]
    }
   ],
   "source": [
    "Loss    = nn.CrossEntropyLoss()\n",
    "nEpochs = 30\n",
    "\n",
    "oModel   = GetModel               ().to(DEVICE)\n",
    "oOptim   = optim.AdamW            (oModel.parameters(), lr=3e-3, betas=(0.9, 0.99), weight_decay=1e-3)\n",
    "lHistory = TrainClassficationModel(oModel, oTrainDL, oTestDL, Loss, nEpochs, oOptim)"
   ]
  },
  {
   "cell_type": "code",
   "execution_count": 15,
   "metadata": {
    "ExecuteTime": {
     "end_time": "2021-10-31T10:38:55.161966Z",
     "start_time": "2021-10-31T10:38:54.891528Z"
    }
   },
   "outputs": [
    {
     "data": {
      "image/png": "[encoded data removed]",
      "text/plain": [
       "<Figure size 1152x432 with 2 Axes>"
      ]
     },
     "metadata": {
      "needs_background": "light"
     },
     "output_type": "display_data"
    }
   ],
   "source": [
    "from DeepLearningFramework.Utils import PlotHistory\n",
    "\n",
    "PlotHistory (lHistory)\n",
    "plt.suptitle('Fashion-MNIST')\n",
    "plt.show    ()"
   ]
  },
  {
   "cell_type": "code",
   "execution_count": null,
   "metadata": {},
   "outputs": [],
   "source": []
  }
 ],
 "metadata": {
  "kernelspec": {
   "display_name": "Python 3",
   "language": "python",
   "name": "python3"
  },
  "language_info": {
   "codemirror_mode": {
    "name": "ipython",
    "version": 3
   },
   "file_extension": ".py",
   "mimetype": "text/x-python",
   "name": "python",
   "nbconvert_exporter": "python",
   "pygments_lexer": "ipython3",
   "version": "3.8.8"
  },
  "toc": {
   "base_numbering": 1,
   "nav_menu": {},
   "number_sections": false,
   "sideBar": true,
   "skip_h1_title": false,
   "title_cell": "Table of Contents",
   "title_sidebar": "Contents",
   "toc_cell": false,
   "toc_position": {},
   "toc_section_display": true,
   "toc_window_display": false
  },
  "varInspector": {
   "cols": {
    "lenName": 16,
    "lenType": 16,
    "lenVar": 40
   },
   "kernels_config": {
    "python": {
     "delete_cmd_postfix": "",
     "delete_cmd_prefix": "del ",
     "library": "var_list.py",
     "varRefreshCmd": "print(var_dic_list())"
    },
    "r": {
     "delete_cmd_postfix": ") ",
     "delete_cmd_prefix": "rm(",
     "library": "var_list.r",
     "varRefreshCmd": "cat(var_dic_list()) "
    }
   },
   "oldHeight": 413,
   "position": {
    "height": "435px",
    "left": "1650px",
    "right": "20px",
    "top": "120px",
    "width": "250px"
   },
   "types_to_exclude": [
    "module",
    "function",
    "builtin_function_or_method",
    "instance",
    "_Feature"
   ],
   "varInspector_section_display": "block",
   "window_display": true
  }
 },
 "nbformat": 4,
 "nbformat_minor": 4
}
