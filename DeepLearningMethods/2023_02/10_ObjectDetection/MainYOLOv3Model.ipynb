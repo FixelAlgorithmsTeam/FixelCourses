{
 "cells": [
  {
   "cell_type": "markdown",
   "id": "cc54fa4d-664b-47d4-8135-2e825073ea9a",
   "metadata": {},
   "source": [
    "![Fixel Algorithms](https://fixelalgorithms.co/images/CCExt.png)"
   ]
  },
  {
   "cell_type": "markdown",
   "id": "21c93b72-4861-415d-b022-9cb7df22620d",
   "metadata": {},
   "source": [
    "# <center> Deep Learning Methods </center>\n",
    "## <center> Lecture 10 -  Object Detection </center>\n",
    "### <center> YOLO v3 - Model </center>"
   ]
  },
  {
   "cell_type": "markdown",
   "id": "8f3445ce-aa71-4ea7-9061-85b44ecc3fda",
   "metadata": {},
   "source": [
    "[![Open In Colab](https://colab.research.google.com/assets/colab-badge.svg)](https://colab.research.google.com/github/FixelAlgorithmsTeam/FixelCourses/blob/master/DeepLearningMethods/10_ObjectDetection/MainYOLOv3Model.ipynb)"
   ]
  },
  {
   "cell_type": "code",
   "execution_count": 1,
   "id": "20d30c03-f8b3-47d9-b780-909bf67195cc",
   "metadata": {
    "ExecuteTime": {
     "end_time": "2021-11-14T19:34:11.392532Z",
     "start_time": "2021-11-14T19:34:11.380520Z"
    },
    "tags": []
   },
   "outputs": [
    {
     "data": {
      "text/html": [
       "<style>.container { width:80% !important; }</style>"
      ],
      "text/plain": [
       "<IPython.core.display.HTML object>"
      ]
     },
     "metadata": {},
     "output_type": "display_data"
    }
   ],
   "source": [
    "#-- Wide screen:\n",
    "from IPython.core.display import display, HTML\n",
    "display(HTML(\"<style>.container { width:80% !important; }</style>\"))"
   ]
  },
  {
   "cell_type": "code",
   "execution_count": 2,
   "id": "e7779c77-1256-4fdd-b983-6e652f96d0cc",
   "metadata": {
    "ExecuteTime": {
     "end_time": "2021-11-14T19:34:12.533647Z",
     "start_time": "2021-11-14T19:34:12.506630Z"
    },
    "tags": []
   },
   "outputs": [],
   "source": [
    "#-- Auto reload:\n",
    "%load_ext autoreload\n",
    "%autoreload 2"
   ]
  },
  {
   "cell_type": "code",
   "execution_count": 3,
   "id": "32a84304",
   "metadata": {
    "ExecuteTime": {
     "end_time": "2021-11-14T19:34:20.704226Z",
     "start_time": "2021-11-14T19:34:20.676207Z"
    }
   },
   "outputs": [],
   "source": [
    "if 'google.colab' in str(get_ipython()):\n",
    "    !npx degit FixelAlgorithmsTeam/FixelCourses/DeepLearningMethods/10_ObjectDetection/DeepLearningFramework ./DeepLearningFramework\n",
    "    !pip install torchinfo"
   ]
  },
  {
   "cell_type": "code",
   "execution_count": 4,
   "id": "7b0fe364",
   "metadata": {
    "ExecuteTime": {
     "end_time": "2021-11-14T19:34:36.671462Z",
     "start_time": "2021-11-14T19:34:35.734876Z"
    },
    "tags": []
   },
   "outputs": [],
   "source": [
    "import torch\n",
    "import torch.nn as nn\n",
    "import torchinfo"
   ]
  },
  {
   "cell_type": "markdown",
   "id": "7c67168f",
   "metadata": {},
   "source": [
    "#### Conv block:\n",
    "Conv + BN + ReLU"
   ]
  },
  {
   "cell_type": "code",
   "execution_count": 5,
   "id": "6454f189",
   "metadata": {
    "ExecuteTime": {
     "end_time": "2021-11-14T19:34:41.100920Z",
     "start_time": "2021-11-14T19:34:41.046879Z"
    }
   },
   "outputs": [],
   "source": [
    "class ConvBlock(nn.Module):\n",
    "    def __init__(self, cIn, cOut, kernelSize, stride=1, bActivation=True):\n",
    "        super().__init__()\n",
    "\n",
    "        padding = kernelSize // 2\n",
    "        oConv   = nn.Conv2d(cIn, cOut, kernel_size=kernelSize, padding=padding, stride=stride, bias=not bActivation)\n",
    "        if bActivation == True: self.oBlock = nn.Sequential(oConv, nn.BatchNorm2d(cOut), nn.LeakyReLU(0.1))\n",
    "        else:                   self.oBlock = nn.Sequential(oConv)\n",
    "\n",
    "    def forward(self, mX):\n",
    "        return self.oBlock(mX)"
   ]
  },
  {
   "cell_type": "markdown",
   "id": "24b669f7",
   "metadata": {},
   "source": [
    "<img src='https://github.com/FixelAlgorithmsTeam/FixelCourses/blob/master/DeepLearningMethods/10_ObjectDetection/ResBlock.png?raw=true' alt=\"Drawing\" style=\"width: 450px;\"/>"
   ]
  },
  {
   "cell_type": "code",
   "execution_count": 6,
   "id": "15781322",
   "metadata": {
    "ExecuteTime": {
     "end_time": "2021-11-14T19:34:42.973341Z",
     "start_time": "2021-11-14T19:34:42.918311Z"
    }
   },
   "outputs": [],
   "source": [
    "class ResBlock(nn.Module):\n",
    "    def __init__(self, cIn):\n",
    "        super().__init__()\n",
    "        \n",
    "        self.oBlock = nn.Sequential(\n",
    "            ConvBlock(cIn,    cIn//2, kernelSize=1),\n",
    "            ConvBlock(cIn//2, cIn,    kernelSize=3)\n",
    "        )\n",
    "\n",
    "    def forward(self, mX):\n",
    "        return mX + self.oBlock(mX)"
   ]
  },
  {
   "cell_type": "markdown",
   "id": "1cac4cad",
   "metadata": {},
   "source": [
    "#### Darknet53:\n",
    "<img src='https://github.com/FixelAlgorithmsTeam/FixelCourses/blob/master/DeepLearningMethods/10_ObjectDetection/Darknet53.png?raw=true' alt=\"Drawing\" style=\"width: 850px;\"/>"
   ]
  },
  {
   "cell_type": "code",
   "execution_count": 7,
   "id": "924676e5",
   "metadata": {
    "ExecuteTime": {
     "end_time": "2021-11-14T19:34:43.653409Z",
     "start_time": "2021-11-14T19:34:43.606600Z"
    }
   },
   "outputs": [],
   "source": [
    "class Darknet53(nn.Module):\n",
    "    def __init__(self):\n",
    "        super().__init__()\n",
    "\n",
    "        self.oBlock1 = nn.Sequential(\n",
    "            ConvBlock(3,    32,   3, 1),\n",
    "            ConvBlock(32,   64,   3, 2),\n",
    "            ResBlock (64),\n",
    "            ConvBlock(64,   128,  3, 2),\n",
    "            ResBlock (128),\n",
    "            ResBlock (128),\n",
    "            ConvBlock(128,  256,  3, 2),\n",
    "            ResBlock (256),\n",
    "            ResBlock (256),\n",
    "            ResBlock (256),\n",
    "            ResBlock (256),\n",
    "            ResBlock (256),\n",
    "            ResBlock (256),\n",
    "            ResBlock (256),\n",
    "            ResBlock (256),\n",
    "        )\n",
    "\n",
    "        self.oBlock2 = nn.Sequential(\n",
    "            ConvBlock(256,  512,  3, 2),\n",
    "            ResBlock (512),\n",
    "            ResBlock (512),\n",
    "            ResBlock (512),\n",
    "            ResBlock (512),\n",
    "            ResBlock (512),\n",
    "            ResBlock (512),\n",
    "            ResBlock (512),\n",
    "            ResBlock (512),\n",
    "        )\n",
    "\n",
    "        self.oBlock3 = nn.Sequential(\n",
    "            ConvBlock(512,  1024, 3, 2),\n",
    "            ResBlock (1024),\n",
    "            ResBlock (1024),\n",
    "            ResBlock (1024),\n",
    "            ResBlock (1024),\n",
    "        )\n",
    "\n",
    "    def forward(self, mX):\n",
    "        mBlock1 = self.oBlock1(mX)\n",
    "        mBlock2 = self.oBlock2(mBlock1)\n",
    "        mBlock3 = self.oBlock3(mBlock2)\n",
    "\n",
    "        return mBlock3, mBlock2, mBlock1"
   ]
  },
  {
   "cell_type": "code",
   "execution_count": 8,
   "id": "1d797cc3",
   "metadata": {
    "ExecuteTime": {
     "end_time": "2021-11-14T19:34:46.312415Z",
     "start_time": "2021-11-14T19:34:44.070588Z"
    }
   },
   "outputs": [
    {
     "data": {
      "text/plain": [
       "====================================================================================================\n",
       "Layer (type:depth-idx)                             Output Shape              Param #\n",
       "====================================================================================================\n",
       "Darknet53                                          --                        --\n",
       "├─Sequential: 1-1                                  [16, 256, 52, 52]         --\n",
       "│    └─ConvBlock: 2-1                              [16, 32, 416, 416]        --\n",
       "│    │    └─Sequential: 3-1                        [16, 32, 416, 416]        928\n",
       "│    └─ConvBlock: 2-2                              [16, 64, 208, 208]        --\n",
       "│    │    └─Sequential: 3-2                        [16, 64, 208, 208]        18,560\n",
       "│    └─ResBlock: 2-3                               [16, 64, 208, 208]        --\n",
       "│    │    └─Sequential: 3-3                        [16, 64, 208, 208]        20,672\n",
       "│    └─ConvBlock: 2-4                              [16, 128, 104, 104]       --\n",
       "│    │    └─Sequential: 3-4                        [16, 128, 104, 104]       73,984\n",
       "│    └─ResBlock: 2-5                               [16, 128, 104, 104]       --\n",
       "│    │    └─Sequential: 3-5                        [16, 128, 104, 104]       82,304\n",
       "│    └─ResBlock: 2-6                               [16, 128, 104, 104]       --\n",
       "│    │    └─Sequential: 3-6                        [16, 128, 104, 104]       82,304\n",
       "│    └─ConvBlock: 2-7                              [16, 256, 52, 52]         --\n",
       "│    │    └─Sequential: 3-7                        [16, 256, 52, 52]         295,424\n",
       "│    └─ResBlock: 2-8                               [16, 256, 52, 52]         --\n",
       "│    │    └─Sequential: 3-8                        [16, 256, 52, 52]         328,448\n",
       "│    └─ResBlock: 2-9                               [16, 256, 52, 52]         --\n",
       "│    │    └─Sequential: 3-9                        [16, 256, 52, 52]         328,448\n",
       "│    └─ResBlock: 2-10                              [16, 256, 52, 52]         --\n",
       "│    │    └─Sequential: 3-10                       [16, 256, 52, 52]         328,448\n",
       "│    └─ResBlock: 2-11                              [16, 256, 52, 52]         --\n",
       "│    │    └─Sequential: 3-11                       [16, 256, 52, 52]         328,448\n",
       "│    └─ResBlock: 2-12                              [16, 256, 52, 52]         --\n",
       "│    │    └─Sequential: 3-12                       [16, 256, 52, 52]         328,448\n",
       "│    └─ResBlock: 2-13                              [16, 256, 52, 52]         --\n",
       "│    │    └─Sequential: 3-13                       [16, 256, 52, 52]         328,448\n",
       "│    └─ResBlock: 2-14                              [16, 256, 52, 52]         --\n",
       "│    │    └─Sequential: 3-14                       [16, 256, 52, 52]         328,448\n",
       "│    └─ResBlock: 2-15                              [16, 256, 52, 52]         --\n",
       "│    │    └─Sequential: 3-15                       [16, 256, 52, 52]         328,448\n",
       "├─Sequential: 1-2                                  [16, 512, 26, 26]         --\n",
       "│    └─ConvBlock: 2-16                             [16, 512, 26, 26]         --\n",
       "│    │    └─Sequential: 3-16                       [16, 512, 26, 26]         1,180,672\n",
       "│    └─ResBlock: 2-17                              [16, 512, 26, 26]         --\n",
       "│    │    └─Sequential: 3-17                       [16, 512, 26, 26]         1,312,256\n",
       "│    └─ResBlock: 2-18                              [16, 512, 26, 26]         --\n",
       "│    │    └─Sequential: 3-18                       [16, 512, 26, 26]         1,312,256\n",
       "│    └─ResBlock: 2-19                              [16, 512, 26, 26]         --\n",
       "│    │    └─Sequential: 3-19                       [16, 512, 26, 26]         1,312,256\n",
       "│    └─ResBlock: 2-20                              [16, 512, 26, 26]         --\n",
       "│    │    └─Sequential: 3-20                       [16, 512, 26, 26]         1,312,256\n",
       "│    └─ResBlock: 2-21                              [16, 512, 26, 26]         --\n",
       "│    │    └─Sequential: 3-21                       [16, 512, 26, 26]         1,312,256\n",
       "│    └─ResBlock: 2-22                              [16, 512, 26, 26]         --\n",
       "│    │    └─Sequential: 3-22                       [16, 512, 26, 26]         1,312,256\n",
       "│    └─ResBlock: 2-23                              [16, 512, 26, 26]         --\n",
       "│    │    └─Sequential: 3-23                       [16, 512, 26, 26]         1,312,256\n",
       "│    └─ResBlock: 2-24                              [16, 512, 26, 26]         --\n",
       "│    │    └─Sequential: 3-24                       [16, 512, 26, 26]         1,312,256\n",
       "├─Sequential: 1-3                                  [16, 1024, 13, 13]        --\n",
       "│    └─ConvBlock: 2-25                             [16, 1024, 13, 13]        --\n",
       "│    │    └─Sequential: 3-25                       [16, 1024, 13, 13]        4,720,640\n",
       "│    └─ResBlock: 2-26                              [16, 1024, 13, 13]        --\n",
       "│    │    └─Sequential: 3-26                       [16, 1024, 13, 13]        5,245,952\n",
       "│    └─ResBlock: 2-27                              [16, 1024, 13, 13]        --\n",
       "│    │    └─Sequential: 3-27                       [16, 1024, 13, 13]        5,245,952\n",
       "│    └─ResBlock: 2-28                              [16, 1024, 13, 13]        --\n",
       "│    │    └─Sequential: 3-28                       [16, 1024, 13, 13]        5,245,952\n",
       "│    └─ResBlock: 2-29                              [16, 1024, 13, 13]        --\n",
       "│    │    └─Sequential: 3-29                       [16, 1024, 13, 13]        5,245,952\n",
       "====================================================================================================\n",
       "Total params: 40,584,928\n",
       "Trainable params: 40,584,928\n",
       "Non-trainable params: 0\n",
       "Total mult-adds (G): 392.25\n",
       "====================================================================================================\n",
       "Input size (MB): 33.23\n",
       "Forward/backward pass size (MB): 8373.14\n",
       "Params size (MB): 162.34\n",
       "Estimated Total Size (MB): 8568.71\n",
       "===================================================================================================="
      ]
     },
     "execution_count": 8,
     "metadata": {},
     "output_type": "execute_result"
    }
   ],
   "source": [
    "torchinfo.summary(Darknet53(), (16, 3, 416, 416))"
   ]
  },
  {
   "cell_type": "markdown",
   "id": "881c1983",
   "metadata": {},
   "source": [
    "#### YOLO v3:\n",
    "<img src='https://github.com/FixelAlgorithmsTeam/FixelCourses/blob/master/DeepLearningMethods/10_ObjectDetection/YOLOv3.png?raw=true' alt=\"Drawing\" style=\"width: 850px;\"/>"
   ]
  },
  {
   "cell_type": "code",
   "execution_count": 9,
   "id": "95925d90",
   "metadata": {
    "ExecuteTime": {
     "end_time": "2021-11-14T19:34:46.360459Z",
     "start_time": "2021-11-14T19:34:46.313417Z"
    }
   },
   "outputs": [],
   "source": [
    "class NotResBlock(nn.Module):\n",
    "    def __init__(self, cIn, cOut):\n",
    "        super().__init__()\n",
    "\n",
    "        self.oBlock = nn.Sequential(\n",
    "            ConvBlock(cIn,      cOut, kernelSize=1),\n",
    "            ConvBlock(cOut,   2*cOut, kernelSize=3),\n",
    "            ConvBlock(2*cOut,   cOut, kernelSize=1),\n",
    "            ConvBlock(cOut,   2*cOut, kernelSize=3),\n",
    "            ConvBlock(2*cOut,   cOut, kernelSize=1),\n",
    "        )\n",
    "\n",
    "    def forward(self, mX):\n",
    "        return self.oBlock(mX)"
   ]
  },
  {
   "cell_type": "code",
   "execution_count": 10,
   "id": "796634f8",
   "metadata": {
    "ExecuteTime": {
     "end_time": "2021-11-14T19:34:46.408491Z",
     "start_time": "2021-11-14T19:34:46.361460Z"
    }
   },
   "outputs": [],
   "source": [
    "class UpsampleBlock(nn.Module):\n",
    "    def __init__(self, cIn):\n",
    "        super().__init__()\n",
    "\n",
    "        self.oBlock = nn.Sequential(\n",
    "            ConvBlock  (cIn, cIn // 2, kernelSize=1),\n",
    "            nn.Upsample(scale_factor=2)\n",
    "        )\n",
    "    \n",
    "    def forward(self, mX):\n",
    "        return self.oBlock(mX)"
   ]
  },
  {
   "cell_type": "code",
   "execution_count": 11,
   "id": "d64ff7f9",
   "metadata": {
    "ExecuteTime": {
     "end_time": "2021-11-14T19:34:46.456524Z",
     "start_time": "2021-11-14T19:34:46.409492Z"
    }
   },
   "outputs": [],
   "source": [
    "class OutBlock(nn.Module):\n",
    "    def __init__(self, cIn, nLabels):\n",
    "        super().__init__()\n",
    "\n",
    "        self.oBlock = nn.Sequential(\n",
    "            ConvBlock(cIn,     2 * cIn,           kernelSize=3),\n",
    "            ConvBlock(2 * cIn, 3 * (nLabels + 5), kernelSize=3, bActivation=False)\n",
    "        )\n",
    "\n",
    "    def forward(self, mX):\n",
    "        return self.oBlock(mX)"
   ]
  },
  {
   "cell_type": "code",
   "execution_count": 12,
   "id": "f2516cee",
   "metadata": {
    "ExecuteTime": {
     "end_time": "2021-11-14T19:34:46.504568Z",
     "start_time": "2021-11-14T19:34:46.457526Z"
    }
   },
   "outputs": [],
   "source": [
    "class YOLOv3(nn.Module):\n",
    "    def __init__(self, nLabels):\n",
    "        super().__init__()\n",
    "\n",
    "        self.nLabels    = nLabels\n",
    "\n",
    "        self.oDarknet53 = Darknet53    ()\n",
    "        self.oBlock1    = NotResBlock  (1024, 512)\n",
    "        self.oBlock2    = NotResBlock  (768, 256)\n",
    "        self.oBlock3    = NotResBlock  (384, 128)\n",
    "        self.oUpBlock1  = UpsampleBlock(512)\n",
    "        self.oUpBlock2  = UpsampleBlock(256)\n",
    "\n",
    "        self.oOutBlock1 = OutBlock(512, nLabels)\n",
    "        self.oOutBlock2 = OutBlock(256, nLabels)\n",
    "        self.oOutBlock3 = OutBlock(128, nLabels)\n",
    "\n",
    "    def forward(self, mX):\n",
    "        mBlock3, mBlock2, mBlock1 = self.oDarknet53(mX)\n",
    "        \n",
    "        mScale1 = self.oBlock1  (mBlock3)\n",
    "        mZ      = self.oUpBlock1(mScale1)\n",
    "        mZ      = torch.cat     ([mZ, mBlock2], dim=1)\n",
    "        mScale2 = self.oBlock2  (mZ)\n",
    "        mZ      = self.oUpBlock2(mScale2)\n",
    "        mZ      = torch.cat     ([mZ, mBlock1], dim=1)\n",
    "        mScale3 = self.oBlock3  (mZ)\n",
    "\n",
    "        mOut1   = self.oOutBlock1(mScale1)\n",
    "        mOut2   = self.oOutBlock2(mScale2)\n",
    "        mOut3   = self.oOutBlock3(mScale3)\n",
    "\n",
    "        mOut1   = mOut1.view(-1, 3, 5+self.nLabels, 13, 13)\n",
    "        mOut2   = mOut2.view(-1, 3, 5+self.nLabels, 26, 26)\n",
    "        mOut3   = mOut3.view(-1, 3, 5+self.nLabels, 52, 52)\n",
    "        return mOut1, mOut2, mOut3"
   ]
  },
  {
   "cell_type": "code",
   "execution_count": 13,
   "id": "e7bd4706",
   "metadata": {
    "ExecuteTime": {
     "end_time": "2021-11-14T19:34:46.951196Z",
     "start_time": "2021-11-14T19:34:46.505569Z"
    }
   },
   "outputs": [
    {
     "data": {
      "text/plain": [
       "=========================================================================================================\n",
       "Layer (type:depth-idx)                                  Output Shape              Param #\n",
       "=========================================================================================================\n",
       "YOLOv3                                                  --                        --\n",
       "├─Darknet53: 1-1                                        [16, 1024, 13, 13]        --\n",
       "│    └─Sequential: 2-1                                  [16, 256, 52, 52]         --\n",
       "│    │    └─ConvBlock: 3-1                              [16, 32, 416, 416]        928\n",
       "│    │    └─ConvBlock: 3-2                              [16, 64, 208, 208]        18,560\n",
       "│    │    └─ResBlock: 3-3                               [16, 64, 208, 208]        20,672\n",
       "│    │    └─ConvBlock: 3-4                              [16, 128, 104, 104]       73,984\n",
       "│    │    └─ResBlock: 3-5                               [16, 128, 104, 104]       82,304\n",
       "│    │    └─ResBlock: 3-6                               [16, 128, 104, 104]       82,304\n",
       "│    │    └─ConvBlock: 3-7                              [16, 256, 52, 52]         295,424\n",
       "│    │    └─ResBlock: 3-8                               [16, 256, 52, 52]         328,448\n",
       "│    │    └─ResBlock: 3-9                               [16, 256, 52, 52]         328,448\n",
       "│    │    └─ResBlock: 3-10                              [16, 256, 52, 52]         328,448\n",
       "│    │    └─ResBlock: 3-11                              [16, 256, 52, 52]         328,448\n",
       "│    │    └─ResBlock: 3-12                              [16, 256, 52, 52]         328,448\n",
       "│    │    └─ResBlock: 3-13                              [16, 256, 52, 52]         328,448\n",
       "│    │    └─ResBlock: 3-14                              [16, 256, 52, 52]         328,448\n",
       "│    │    └─ResBlock: 3-15                              [16, 256, 52, 52]         328,448\n",
       "│    └─Sequential: 2-2                                  [16, 512, 26, 26]         --\n",
       "│    │    └─ConvBlock: 3-16                             [16, 512, 26, 26]         1,180,672\n",
       "│    │    └─ResBlock: 3-17                              [16, 512, 26, 26]         1,312,256\n",
       "│    │    └─ResBlock: 3-18                              [16, 512, 26, 26]         1,312,256\n",
       "│    │    └─ResBlock: 3-19                              [16, 512, 26, 26]         1,312,256\n",
       "│    │    └─ResBlock: 3-20                              [16, 512, 26, 26]         1,312,256\n",
       "│    │    └─ResBlock: 3-21                              [16, 512, 26, 26]         1,312,256\n",
       "│    │    └─ResBlock: 3-22                              [16, 512, 26, 26]         1,312,256\n",
       "│    │    └─ResBlock: 3-23                              [16, 512, 26, 26]         1,312,256\n",
       "│    │    └─ResBlock: 3-24                              [16, 512, 26, 26]         1,312,256\n",
       "│    └─Sequential: 2-3                                  [16, 1024, 13, 13]        --\n",
       "│    │    └─ConvBlock: 3-25                             [16, 1024, 13, 13]        4,720,640\n",
       "│    │    └─ResBlock: 3-26                              [16, 1024, 13, 13]        5,245,952\n",
       "│    │    └─ResBlock: 3-27                              [16, 1024, 13, 13]        5,245,952\n",
       "│    │    └─ResBlock: 3-28                              [16, 1024, 13, 13]        5,245,952\n",
       "│    │    └─ResBlock: 3-29                              [16, 1024, 13, 13]        5,245,952\n",
       "├─NotResBlock: 1-2                                      [16, 512, 13, 13]         --\n",
       "│    └─Sequential: 2-4                                  [16, 512, 13, 13]         --\n",
       "│    │    └─ConvBlock: 3-30                             [16, 512, 13, 13]         525,312\n",
       "│    │    └─ConvBlock: 3-31                             [16, 1024, 13, 13]        4,720,640\n",
       "│    │    └─ConvBlock: 3-32                             [16, 512, 13, 13]         525,312\n",
       "│    │    └─ConvBlock: 3-33                             [16, 1024, 13, 13]        4,720,640\n",
       "│    │    └─ConvBlock: 3-34                             [16, 512, 13, 13]         525,312\n",
       "├─UpsampleBlock: 1-3                                    [16, 256, 26, 26]         --\n",
       "│    └─Sequential: 2-5                                  [16, 256, 26, 26]         --\n",
       "│    │    └─ConvBlock: 3-35                             [16, 256, 13, 13]         131,584\n",
       "│    │    └─Upsample: 3-36                              [16, 256, 26, 26]         --\n",
       "├─NotResBlock: 1-4                                      [16, 256, 26, 26]         --\n",
       "│    └─Sequential: 2-6                                  [16, 256, 26, 26]         --\n",
       "│    │    └─ConvBlock: 3-37                             [16, 256, 26, 26]         197,120\n",
       "│    │    └─ConvBlock: 3-38                             [16, 512, 26, 26]         1,180,672\n",
       "│    │    └─ConvBlock: 3-39                             [16, 256, 26, 26]         131,584\n",
       "│    │    └─ConvBlock: 3-40                             [16, 512, 26, 26]         1,180,672\n",
       "│    │    └─ConvBlock: 3-41                             [16, 256, 26, 26]         131,584\n",
       "├─UpsampleBlock: 1-5                                    [16, 128, 52, 52]         --\n",
       "│    └─Sequential: 2-7                                  [16, 128, 52, 52]         --\n",
       "│    │    └─ConvBlock: 3-42                             [16, 128, 26, 26]         33,024\n",
       "│    │    └─Upsample: 3-43                              [16, 128, 52, 52]         --\n",
       "├─NotResBlock: 1-6                                      [16, 128, 52, 52]         --\n",
       "│    └─Sequential: 2-8                                  [16, 128, 52, 52]         --\n",
       "│    │    └─ConvBlock: 3-44                             [16, 128, 52, 52]         49,408\n",
       "│    │    └─ConvBlock: 3-45                             [16, 256, 52, 52]         295,424\n",
       "│    │    └─ConvBlock: 3-46                             [16, 128, 52, 52]         33,024\n",
       "│    │    └─ConvBlock: 3-47                             [16, 256, 52, 52]         295,424\n",
       "│    │    └─ConvBlock: 3-48                             [16, 128, 52, 52]         33,024\n",
       "├─OutBlock: 1-7                                         [16, 75, 13, 13]          --\n",
       "│    └─Sequential: 2-9                                  [16, 75, 13, 13]          --\n",
       "│    │    └─ConvBlock: 3-49                             [16, 1024, 13, 13]        4,720,640\n",
       "│    │    └─ConvBlock: 3-50                             [16, 75, 13, 13]          691,275\n",
       "├─OutBlock: 1-8                                         [16, 75, 26, 26]          --\n",
       "│    └─Sequential: 2-10                                 [16, 75, 26, 26]          --\n",
       "│    │    └─ConvBlock: 3-51                             [16, 512, 26, 26]         1,180,672\n",
       "│    │    └─ConvBlock: 3-52                             [16, 75, 26, 26]          345,675\n",
       "├─OutBlock: 1-9                                         [16, 75, 52, 52]          --\n",
       "│    └─Sequential: 2-11                                 [16, 75, 52, 52]          --\n",
       "│    │    └─ConvBlock: 3-53                             [16, 256, 52, 52]         295,424\n",
       "│    │    └─ConvBlock: 3-54                             [16, 75, 52, 52]          172,875\n",
       "=========================================================================================================\n",
       "Total params: 62,701,249\n",
       "Trainable params: 62,701,249\n",
       "Non-trainable params: 0\n",
       "Total mult-adds (G): 535.06\n",
       "=========================================================================================================\n",
       "Input size (MB): 33.23\n",
       "Forward/backward pass size (MB): 9835.96\n",
       "Params size (MB): 250.80\n",
       "Estimated Total Size (MB): 10119.99\n",
       "========================================================================================================="
      ]
     },
     "execution_count": 13,
     "metadata": {},
     "output_type": "execute_result"
    }
   ],
   "source": [
    "torchinfo.summary(YOLOv3(20), (16, 3, 416, 416))"
   ]
  },
  {
   "cell_type": "code",
   "execution_count": null,
   "id": "200a5d19",
   "metadata": {},
   "outputs": [],
   "source": []
  },
  {
   "cell_type": "code",
   "execution_count": null,
   "id": "285c5599",
   "metadata": {},
   "outputs": [],
   "source": []
  },
  {
   "cell_type": "code",
   "execution_count": null,
   "id": "7159bb29",
   "metadata": {},
   "outputs": [],
   "source": []
  },
  {
   "cell_type": "code",
   "execution_count": null,
   "id": "fb63d878",
   "metadata": {},
   "outputs": [],
   "source": []
  },
  {
   "cell_type": "code",
   "execution_count": null,
   "id": "825ad2f8",
   "metadata": {},
   "outputs": [],
   "source": []
  },
  {
   "cell_type": "code",
   "execution_count": null,
   "id": "3998e44e",
   "metadata": {},
   "outputs": [],
   "source": []
  },
  {
   "cell_type": "code",
   "execution_count": null,
   "id": "5db799fc",
   "metadata": {},
   "outputs": [],
   "source": []
  },
  {
   "cell_type": "code",
   "execution_count": null,
   "id": "2b69b773",
   "metadata": {},
   "outputs": [],
   "source": []
  },
  {
   "cell_type": "code",
   "execution_count": null,
   "id": "eaf231d7",
   "metadata": {},
   "outputs": [],
   "source": []
  },
  {
   "cell_type": "code",
   "execution_count": null,
   "id": "1fbbf0fb",
   "metadata": {},
   "outputs": [],
   "source": []
  },
  {
   "cell_type": "code",
   "execution_count": null,
   "id": "d3601ec9",
   "metadata": {},
   "outputs": [],
   "source": []
  },
  {
   "cell_type": "code",
   "execution_count": null,
   "id": "693d5109",
   "metadata": {},
   "outputs": [],
   "source": []
  },
  {
   "cell_type": "code",
   "execution_count": null,
   "id": "8f278225",
   "metadata": {},
   "outputs": [],
   "source": []
  },
  {
   "cell_type": "code",
   "execution_count": null,
   "id": "741662ad",
   "metadata": {},
   "outputs": [],
   "source": []
  },
  {
   "cell_type": "code",
   "execution_count": null,
   "id": "404b9226",
   "metadata": {},
   "outputs": [],
   "source": []
  },
  {
   "cell_type": "code",
   "execution_count": null,
   "id": "4b06f2a3",
   "metadata": {},
   "outputs": [],
   "source": []
  }
 ],
 "metadata": {
  "interpreter": {
   "hash": "b45d388af834db38715118ef7f07cf687c3033ee42f9e8f75a328a2a999319b3"
  },
  "kernelspec": {
   "display_name": "Python 3",
   "language": "python",
   "name": "python3"
  },
  "language_info": {
   "codemirror_mode": {
    "name": "ipython",
    "version": 3
   },
   "file_extension": ".py",
   "mimetype": "text/x-python",
   "name": "python",
   "nbconvert_exporter": "python",
   "pygments_lexer": "ipython3",
   "version": "3.8.12"
  }
 },
 "nbformat": 4,
 "nbformat_minor": 5
}
