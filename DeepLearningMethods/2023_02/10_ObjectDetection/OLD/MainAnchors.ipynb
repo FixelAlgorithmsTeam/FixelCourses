{
 "cells": [
  {
   "cell_type": "markdown",
   "id": "cc54fa4d-664b-47d4-8135-2e825073ea9a",
   "metadata": {},
   "source": [
    "![Fixel Algorithms](https://fixelalgorithms.co/images/CCExt.png)"
   ]
  },
  {
   "cell_type": "markdown",
   "id": "21c93b72-4861-415d-b022-9cb7df22620d",
   "metadata": {},
   "source": [
    "# <center> Deep Learning Methods </center>\n",
    "## <center> Lecture 10 -  Object Detection </center>\n",
    "### <center> Object Detection with Anchors </center>"
   ]
  },
  {
   "cell_type": "markdown",
   "id": "8f3445ce-aa71-4ea7-9061-85b44ecc3fda",
   "metadata": {},
   "source": [
    "[![Open In Colab](https://colab.research.google.com/assets/colab-badge.svg)](https://colab.research.google.com/github/FixelAlgorithmsTeam/FixelCourses/blob/master/DeepLearningMethods/10_ObjectDetection/MainAnchors.ipynb)"
   ]
  },
  {
   "cell_type": "code",
   "execution_count": 1,
   "id": "20d30c03-f8b3-47d9-b780-909bf67195cc",
   "metadata": {
    "ExecuteTime": {
     "end_time": "2021-11-14T16:26:58.363909Z",
     "start_time": "2021-11-14T16:26:58.350898Z"
    },
    "tags": []
   },
   "outputs": [
    {
     "data": {
      "text/html": [
       "<style>.container { width:80% !important; }</style>"
      ],
      "text/plain": [
       "<IPython.core.display.HTML object>"
      ]
     },
     "metadata": {},
     "output_type": "display_data"
    }
   ],
   "source": [
    "#-- Wide screen:\n",
    "from IPython.core.display import display, HTML\n",
    "display(HTML(\"<style>.container { width:80% !important; }</style>\"))"
   ]
  },
  {
   "cell_type": "code",
   "execution_count": 4,
   "id": "e7779c77-1256-4fdd-b983-6e652f96d0cc",
   "metadata": {
    "ExecuteTime": {
     "end_time": "2021-11-14T16:27:20.544130Z",
     "start_time": "2021-11-14T16:27:20.496087Z"
    },
    "tags": []
   },
   "outputs": [],
   "source": [
    "#-- Auto reload:\n",
    "%load_ext autoreload\n",
    "%autoreload 2"
   ]
  },
  {
   "cell_type": "code",
   "execution_count": 5,
   "id": "32a84304",
   "metadata": {
    "ExecuteTime": {
     "end_time": "2021-11-14T16:27:20.893447Z",
     "start_time": "2021-11-14T16:27:20.840400Z"
    }
   },
   "outputs": [],
   "source": [
    "if 'google.colab' in str(get_ipython()):\n",
    "    !npx degit FixelAlgorithmsTeam/FixelCourses/DeepLearningMethods/10_ObjectDetection/DeepLearningFramework ./DeepLearningFramework\n",
    "    !pip install torchinfo"
   ]
  },
  {
   "cell_type": "code",
   "execution_count": 6,
   "id": "7b0fe364",
   "metadata": {
    "ExecuteTime": {
     "end_time": "2021-11-14T16:27:21.159830Z",
     "start_time": "2021-11-14T16:27:21.109792Z"
    },
    "tags": []
   },
   "outputs": [],
   "source": [
    "#-----------------------------------------------------------#\n",
    "#-----------------------------------------------------------#\n",
    "import numpy             as np\n",
    "import matplotlib.pyplot as plt\n",
    "import matplotlib\n",
    "\n",
    "import torch\n",
    "import torch.nn    as nn\n",
    "import torch.optim as optim\n",
    "import torchinfo\n",
    "\n",
    "from torch.optim.lr_scheduler import OneCycleLR\n",
    "#-----------------------------------------------------------#\n",
    "#-----------------------------------------------------------#\n",
    "torch.set_printoptions(3, linewidth=120, sci_mode=False)\n",
    "torch.backends.cudnn.benchmark = True"
   ]
  },
  {
   "cell_type": "markdown",
   "id": "347f04fb-281f-4cf2-844c-b4aa756f9d65",
   "metadata": {},
   "source": [
    "#### Constants:"
   ]
  },
  {
   "cell_type": "code",
   "execution_count": 12,
   "id": "80d6a5ad",
   "metadata": {
    "ExecuteTime": {
     "end_time": "2021-11-14T16:42:13.000198Z",
     "start_time": "2021-11-14T16:42:12.920670Z"
    }
   },
   "outputs": [],
   "source": [
    "IMAGE_SIZE = 100\n",
    "GRID_SIZE  = 5\n",
    "LABELS     = ['R', 'G', 'B']\n",
    "\n",
    "DEVICE     = torch.device('cuda:0' if torch.cuda.is_available() else 'cpu')"
   ]
  },
  {
   "cell_type": "markdown",
   "id": "3646d7d1-352c-45c9-84ac-cc47d4621723",
   "metadata": {},
   "source": [
    "#### `CreateImage` creates a synthetic image for object detection:"
   ]
  },
  {
   "cell_type": "code",
   "execution_count": 14,
   "id": "ddbe447d",
   "metadata": {
    "ExecuteTime": {
     "end_time": "2021-11-14T16:42:23.266737Z",
     "start_time": "2021-11-14T16:42:23.203681Z"
    },
    "tags": []
   },
   "outputs": [
    {
     "data": {
      "text/plain": [
       "tensor([[1.000, 1.000, 0.775, 0.473, 0.450, 0.338],\n",
       "        [1.000, 1.000, 0.449, 0.453, 0.397, 0.633],\n",
       "        [1.000, 2.000, 0.292, 0.345, 0.584, 0.689]])"
      ]
     },
     "execution_count": 14,
     "metadata": {},
     "output_type": "execute_result"
    }
   ],
   "source": [
    "from DeepLearningFramework.AnchorsUtils import RandImage\n",
    "\n",
    "mI, mBBox = RandImage(IMAGE_SIZE, 3)\n",
    "mBBox"
   ]
  },
  {
   "cell_type": "markdown",
   "id": "afcbb1aa-bc23-4049-aa7a-5dcad1ea9a7b",
   "metadata": {},
   "source": [
    "#### Plot an image with its bounding boxes:"
   ]
  },
  {
   "cell_type": "code",
   "execution_count": 17,
   "id": "a710440f-5869-4962-881c-29f797bef3c9",
   "metadata": {
    "ExecuteTime": {
     "end_time": "2021-11-14T16:52:54.537209Z",
     "start_time": "2021-11-14T16:52:54.342033Z"
    }
   },
   "outputs": [
    {
     "data": {
      "image/png": "[encoded data removed]",
      "text/plain": [
       "<Figure size 600x600 with 1 Axes>"
      ]
     },
     "metadata": {},
     "output_type": "display_data"
    }
   ],
   "source": [
    "from DeepLearningFramework.AnchorsUtils import PlotImage\n",
    "\n",
    "nObjects  = np.random.randint(10) + 1\n",
    "mI, mBBox = RandImage(IMAGE_SIZE, nObjects)\n",
    "\n",
    "PlotImage(mI, mBBox, LABELS, lColors=np.eye(3), gridSize=GRID_SIZE)\n",
    "plt.show ()"
   ]
  },
  {
   "cell_type": "markdown",
   "id": "a3b92c03-016d-4e22-8945-cc6eb6a65ada",
   "metadata": {},
   "source": [
    "#### Create synthetic datasets:\n",
    "Note that `mBBox.shape = (Di, 6)` where `Di` is the number of objects.  \n",
    "`Di` is different from image to image."
   ]
  },
  {
   "cell_type": "code",
   "execution_count": 18,
   "id": "26e714f6",
   "metadata": {
    "ExecuteTime": {
     "end_time": "2021-11-14T16:53:09.403064Z",
     "start_time": "2021-11-14T16:53:02.017763Z"
    },
    "tags": []
   },
   "outputs": [
    {
     "data": {
      "text/plain": [
       "(torch.Size([10000, 3, 100, 100]), 10000)"
      ]
     },
     "execution_count": 18,
     "metadata": {},
     "output_type": "execute_result"
    }
   ],
   "source": [
    "def MakeData(N):\n",
    "    mX    = torch.empty(N, 3, IMAGE_SIZE, IMAGE_SIZE)\n",
    "    lBBox = [None] * N\n",
    "    for ii in range(N):\n",
    "        nObjects   = np.random.randint(4) + 1\n",
    "        mXi, mBBox = RandImage(IMAGE_SIZE, nObjects)\n",
    "        mX   [ii]  = mXi\n",
    "        lBBox[ii]  = mBBox\n",
    "\n",
    "    return mX, lBBox\n",
    "        \n",
    "nTrain = 10000\n",
    "nTest  = 1000\n",
    "\n",
    "mTrainX, lTrainBBox = MakeData(nTrain)\n",
    "mTestX,  lTestBBox  = MakeData(nTest)\n",
    "\n",
    "mTrainX.shape, len(lTrainBBox)"
   ]
  },
  {
   "cell_type": "markdown",
   "id": "8943fb20-8f7f-4328-bdfc-56239380c2f2",
   "metadata": {},
   "source": [
    "### Anchors:\n",
    "`mAnchors.shape = (B, 2)`"
   ]
  },
  {
   "cell_type": "code",
   "execution_count": 19,
   "id": "e3631560",
   "metadata": {
    "ExecuteTime": {
     "end_time": "2021-11-14T16:54:13.311189Z",
     "start_time": "2021-11-14T16:54:13.224141Z"
    }
   },
   "outputs": [],
   "source": [
    "mAnchors = torch.tensor([[0.30, 0.50],\n",
    "                         [0.50, 0.30]])\n",
    "\n",
    "B        = mAnchors.shape[0]"
   ]
  },
  {
   "cell_type": "code",
   "execution_count": 20,
   "id": "f9b70461-440a-4982-9e26-aa4935c63216",
   "metadata": {
    "ExecuteTime": {
     "end_time": "2021-11-14T16:54:15.012960Z",
     "start_time": "2021-11-14T16:54:14.912281Z"
    }
   },
   "outputs": [
    {
     "data": {
      "image/png": "[encoded data removed]",
      "text/plain": [
       "<Figure size 300x300 with 1 Axes>"
      ]
     },
     "metadata": {},
     "output_type": "display_data"
    }
   ],
   "source": [
    "import matplotlib\n",
    "from   matplotlib.patches import Rectangle\n",
    "#-----------------------------------------------------------------------------------------------------#\n",
    "#-----------------------------------------------------------------------------------------------------#\n",
    "_, ax = plt.subplots(figsize=(3, 3))\n",
    "\n",
    "cmap = matplotlib.cm.get_cmap('tab10')\n",
    "for ii in range(B):\n",
    "    W, H  = mAnchors[ii,:]\n",
    "    oBBox = Rectangle((-W/2, -H/2), W, H, linewidth=2, edgecolor='k', facecolor=cmap(ii), alpha=.75)\n",
    "    ax.add_patch(oBBox)\n",
    "\n",
    "ax.axis('equal')\n",
    "plt.show()"
   ]
  },
  {
   "cell_type": "markdown",
   "id": "2d2f5977-7683-4574-b5fa-c5031a9b53b6",
   "metadata": {},
   "source": [
    "### `BBox2Target`\n",
    "This function transforms BBoxes into targets.  \n",
    "The targets are compared with the network output."
   ]
  },
  {
   "cell_type": "code",
   "execution_count": 21,
   "id": "eef5b629-dfc6-4894-ad04-c9d4331cfc86",
   "metadata": {
    "ExecuteTime": {
     "end_time": "2021-11-14T16:55:48.468302Z",
     "start_time": "2021-11-14T16:55:48.285136Z"
    }
   },
   "outputs": [
    {
     "data": {
      "text/plain": [
       "torch.Size([2, 6, 5, 5])"
      ]
     },
     "execution_count": 21,
     "metadata": {},
     "output_type": "execute_result"
    }
   ],
   "source": [
    "import torchvision.ops as ops\n",
    "\n",
    "def ComputeAnchorIoU(mXYWH, mAnchors):\n",
    "    #-- mXYWH   .shape = (D, 4)\n",
    "    #-- mAnchors.shape = (B, 4)\n",
    "        \n",
    "    D         = mXYWH.shape[0]\n",
    "    B         = mAnchors.shape[0]\n",
    "    m00WH     = torch.cat([torch.zeros(D, 2), mXYWH[:,2:]], dim=1) #-- (D, 4)\n",
    "    m00Anchor = torch.cat([torch.zeros(B, 2), mAnchors   ], dim=1) #-- (B, 4)\n",
    "    mB1       = ops.box_convert(m00WH,     'xywh', 'xyxy')\n",
    "    mB2       = ops.box_convert(m00Anchor, 'xywh', 'xyxy')\n",
    "    mIoU      = ops.box_iou(mB1, mB2)                              #-- (D, B)\n",
    "    \n",
    "    return mIoU\n",
    "\n",
    "def BBox2Target(mBBox, mAnchors, gridSize):\n",
    "    '''\n",
    "    * Input:\n",
    "        - mBBox   .shape = (D, 6)\n",
    "        - mAnchors.shape = (B, 2)\n",
    "        - mBBox   [ii,:] = [prob | cIdx | x, y, W, H]\n",
    "        - mAnchors[ii,:] = [W, H]\n",
    "    * Output:\n",
    "        - mTarget.shape       = (B, 6, S, S)\n",
    "        - mTarget[ii,:,jj,kk] = [prob | x, y, log(W), log(H) | cIdx]\n",
    "    '''\n",
    "    B       = mAnchors.shape[0]\n",
    "    D       = mBBox   .shape[0]\n",
    "    mTarget = torch   .zeros(B, 6, gridSize, gridSize)\n",
    "    \n",
    "    if D == 0:\n",
    "        return mTarget\n",
    "\n",
    "    #-- Compute IoU between objectes and anchors:\n",
    "    mXYWH = mBBox[:,2:]\n",
    "    mIoU  = ComputeAnchorIoU(mXYWH, mAnchors) #-- (D, B)\n",
    "    vIdx  = torch.argmax(mIoU, dim=1)\n",
    "    \n",
    "    #-- Set target for each anchor:\n",
    "    for bb in range(B):\n",
    "        mProb  = torch.zeros(1, gridSize, gridSize)\n",
    "        mLabel = torch.zeros(1, gridSize, gridSize)\n",
    "        mXYwh  = torch.zeros(4, gridSize, gridSize) #-- w = log(W), h = log(H)\n",
    "\n",
    "        vIdxB           = vIdx == bb        #-- Objects that correspond to anchor bb\n",
    "        vP, vLabel      = mBBox[vIdxB,:2].T\n",
    "        mXYWH           = mBBox[vIdxB,2:] * gridSize\n",
    "        vX, vY, vW ,vH  = mXYWH.T\n",
    "        vCx             = vX.floor().long() #-- cell x index\n",
    "        vCy             = vY.floor().long() #-- cell y index\n",
    "        vX             -= vCx               #-- cell x\n",
    "        vY             -= vCy               #-- cell y\n",
    "\n",
    "        mProb  [0,vCy,vCx] = vP\n",
    "        mLabel [0,vCy,vCx] = vLabel\n",
    "        mXYwh  [:,vCy,vCx] = torch.stack([vX, vY, torch.log(vW), torch.log(vH)])\n",
    "        mTarget[bb]        = torch.cat  ([mProb, mXYwh, mLabel],               )\n",
    "\n",
    "    return mTarget\n",
    "\n",
    "mBBox   = lTrainBBox[0]\n",
    "mTarget = BBox2Target(mBBox, mAnchors, GRID_SIZE)\n",
    "mTarget.shape"
   ]
  },
  {
   "cell_type": "markdown",
   "id": "2906a295-614d-40d7-9e11-919337f4e74c",
   "metadata": {},
   "source": [
    "### Define a `Dataset` class\n",
    "Since the number of targets is different in each image we use a `list` and not a `tensor`."
   ]
  },
  {
   "cell_type": "code",
   "execution_count": 22,
   "id": "c4d2a897",
   "metadata": {
    "ExecuteTime": {
     "end_time": "2021-11-14T16:56:27.805181Z",
     "start_time": "2021-11-14T16:56:27.710496Z"
    },
    "tags": []
   },
   "outputs": [],
   "source": [
    "if False:\n",
    "    class AnchorObjectDataset(torch.utils.data.Dataset):\n",
    "        def __init__(self, mX, lBBox, mAnchors, gridSize):\n",
    "            #-- mX       .shape = (N, C, W, H)\n",
    "            #-- len(lBBox)      =  N\n",
    "            #-- lBBox[ii].shape = (Di, 6)\n",
    "            #-- mAnchors .shape = (B, 2)\n",
    "            self.mX       = mX\n",
    "            self.lBBox    = lBBox\n",
    "            self.mAnchors = mAnchors\n",
    "            self.gridSize = gridSize\n",
    "\n",
    "        def __len__(self):\n",
    "            return self.mX.shape[0]\n",
    "\n",
    "        def __getitem__(self, idx):\n",
    "            mXi     = self.mX   [idx]\n",
    "            mBBox   = self.lBBox[idx]\n",
    "            mTarget = BBox2Target(mBBox, self.mAnchors, self.gridSize)\n",
    "            return mXi, mBBox, mTarget"
   ]
  },
  {
   "cell_type": "markdown",
   "id": "7a9c8fb1-3e7f-42a1-94e2-54d5b0488510",
   "metadata": {},
   "source": [
    "#### Create train and test sets:"
   ]
  },
  {
   "cell_type": "code",
   "execution_count": 23,
   "id": "ff7ce7fe",
   "metadata": {
    "ExecuteTime": {
     "end_time": "2021-11-14T16:57:22.585967Z",
     "start_time": "2021-11-14T16:57:22.500890Z"
    }
   },
   "outputs": [
    {
     "data": {
      "text/plain": [
       "(10000, 1000)"
      ]
     },
     "execution_count": 23,
     "metadata": {},
     "output_type": "execute_result"
    }
   ],
   "source": [
    "from DeepLearningFramework.AnchorsUtils import AnchorObjectDataset\n",
    "\n",
    "oTrainSet = AnchorObjectDataset(mTrainX, lTrainBBox, mAnchors, GRID_SIZE)\n",
    "oTestSet  = AnchorObjectDataset(mTestX,  lTestBBox,  mAnchors, GRID_SIZE)\n",
    "\n",
    "len(oTrainSet), len(oTestSet)"
   ]
  },
  {
   "cell_type": "markdown",
   "id": "82f4adfc-46fe-477b-b3d8-267fe70a0eb2",
   "metadata": {},
   "source": [
    "#### Test our dataset code:\n",
    "`mTarget.shape       = (2, 6, 5, 5)`  \n",
    "`mTarget[ii,:,jj,kk] = [prob, cIdx, x, y, W, H]`"
   ]
  },
  {
   "cell_type": "code",
   "execution_count": 29,
   "id": "769221b2",
   "metadata": {
    "ExecuteTime": {
     "end_time": "2021-11-14T17:55:13.299938Z",
     "start_time": "2021-11-14T17:55:13.170821Z"
    },
    "tags": []
   },
   "outputs": [
    {
     "data": {
      "image/png": "[encoded data removed]",
      "text/plain": [
       "<Figure size 600x600 with 1 Axes>"
      ]
     },
     "metadata": {},
     "output_type": "display_data"
    },
    {
     "data": {
      "text/plain": [
       "(tensor([[0., 0., 0., 0., 0.],\n",
       "         [0., 0., 0., 0., 0.],\n",
       "         [0., 1., 0., 0., 0.],\n",
       "         [0., 1., 0., 0., 0.],\n",
       "         [0., 0., 0., 0., 0.]]),\n",
       " tensor([[0., 0., 0., 0., 0.],\n",
       "         [0., 0., 0., 0., 0.],\n",
       "         [0., 1., 0., 0., 0.],\n",
       "         [0., 0., 0., 0., 0.],\n",
       "         [0., 0., 0., 0., 0.]]))"
      ]
     },
     "execution_count": 29,
     "metadata": {},
     "output_type": "execute_result"
    }
   ],
   "source": [
    "idx                = np.random.randint(nTrain)\n",
    "mX, mBBox, mTarget = oTrainSet[idx]\n",
    "\n",
    "PlotImage(mX, mBBox, vLabels=LABELS, lColors=np.eye(3))\n",
    "plt.show()\n",
    "mTarget[0,0,:,:], mTarget[1,0,:,:]"
   ]
  },
  {
   "cell_type": "markdown",
   "id": "f94f4b91-c89c-446e-9f4e-1d9f6e651990",
   "metadata": {},
   "source": [
    "#### Create a `DataLoader` with its `Collate` function:"
   ]
  },
  {
   "cell_type": "code",
   "execution_count": 30,
   "id": "b3f7e24e",
   "metadata": {
    "ExecuteTime": {
     "end_time": "2021-11-14T17:55:49.462501Z",
     "start_time": "2021-11-14T17:55:49.381832Z"
    },
    "tags": []
   },
   "outputs": [],
   "source": [
    "if False:\n",
    "    def AnchorObjectCollate(lBatch):\n",
    "\n",
    "        lX, lBBox, lTarget = zip(*lBatch)\n",
    "        mX                 = torch.stack(lX)\n",
    "        mTarget            = torch.stack(lTarget)\n",
    "\n",
    "        return mX, lBBox, mTarget"
   ]
  },
  {
   "cell_type": "code",
   "execution_count": 31,
   "id": "cab5081b",
   "metadata": {
    "ExecuteTime": {
     "end_time": "2021-11-14T17:55:55.523598Z",
     "start_time": "2021-11-14T17:55:50.941925Z"
    },
    "tags": []
   },
   "outputs": [
    {
     "data": {
      "text/plain": [
       "(torch.Size([256, 3, 100, 100]), 256, torch.Size([256, 2, 6, 5, 5]))"
      ]
     },
     "execution_count": 31,
     "metadata": {},
     "output_type": "execute_result"
    }
   ],
   "source": [
    "from DeepLearningFramework.Dataset import AnchorObjectCollate\n",
    "\n",
    "batchSize = 256\n",
    "oTrainDL  = torch.utils.data.DataLoader(oTrainSet, shuffle=True,  batch_size=batchSize,   collate_fn=AnchorObjectCollate, num_workers=2, persistent_workers=True)\n",
    "oTestDL   = torch.utils.data.DataLoader(oTestSet,  shuffle=False, batch_size=2*batchSize, collate_fn=AnchorObjectCollate, num_workers=2, persistent_workers=True)\n",
    "\n",
    "mX,       lBBox,      mTarget = next(iter(oTrainDL))\n",
    "mX.shape, len(lBBox), mTarget.shape"
   ]
  },
  {
   "cell_type": "markdown",
   "id": "3bd06d03-3590-44e6-8a19-3cf864205cc4",
   "metadata": {},
   "source": [
    "#### A simple test:"
   ]
  },
  {
   "cell_type": "code",
   "execution_count": 33,
   "id": "62365635",
   "metadata": {
    "ExecuteTime": {
     "end_time": "2021-11-14T17:56:18.068272Z",
     "start_time": "2021-11-14T17:56:17.783820Z"
    },
    "tags": []
   },
   "outputs": [
    {
     "data": {
      "image/png": "[encoded data removed]",
      "text/plain": [
       "<Figure size 600x600 with 1 Axes>"
      ]
     },
     "execution_count": 33,
     "metadata": {},
     "output_type": "execute_result"
    }
   ],
   "source": [
    "mX, lBBox, mTarget = next(iter(oTrainDL))\n",
    "\n",
    "PlotImage(mX[0], lBBox[0], vLabels=LABELS, lColors=np.eye(3), gridSize=GRID_SIZE)"
   ]
  },
  {
   "cell_type": "markdown",
   "id": "ebd5dc77-7760-4b7e-97e9-d5cefd0396fa",
   "metadata": {},
   "source": [
    "### Define the model:\n",
    "The output shape is: $B \\times (5+L) \\times S \\times S$.  \n",
    "In our case $B = 2$, $S = 5$, and $L = 3$.  \n",
    "($L$ is the number of labels)\n",
    "\n",
    "We use `sigmoid` to make sure $x, y \\in [0, 1]$."
   ]
  },
  {
   "cell_type": "code",
   "execution_count": 34,
   "id": "4c9bead6-5e3f-4b22-a03f-3795379bb703",
   "metadata": {
    "ExecuteTime": {
     "end_time": "2021-11-14T17:57:06.158108Z",
     "start_time": "2021-11-14T17:57:06.099054Z"
    }
   },
   "outputs": [],
   "source": [
    "class ResBlock(nn.Module):\n",
    "    def __init__(self, C):\n",
    "        super().__init__()\n",
    "\n",
    "        self.oLeftBranch = nn.Sequential(\n",
    "            nn.Conv2d(C, C//2, 1, stride=1, padding=0, bias=False), nn.BatchNorm2d(C//2), nn.LeakyReLU(0.1),\n",
    "            nn.Conv2d(C//2, C, 3, stride=1, padding=1, bias=False), nn.BatchNorm2d(C   ), nn.LeakyReLU(0.1),\n",
    "        )\n",
    "        \n",
    "    def forward(self, mX):\n",
    "        mOut = self.oLeftBranch(mX) + mX\n",
    "        return mOut"
   ]
  },
  {
   "cell_type": "code",
   "execution_count": 35,
   "id": "24ea022c",
   "metadata": {
    "ExecuteTime": {
     "end_time": "2021-11-14T17:57:21.473877Z",
     "start_time": "2021-11-14T17:57:18.200476Z"
    },
    "tags": []
   },
   "outputs": [
    {
     "data": {
      "text/plain": [
       "(torch.Size([256, 2, 8, 5, 5]),\n",
       " ==========================================================================================\n",
       " Layer (type:depth-idx)                   Output Shape              Param #\n",
       " ==========================================================================================\n",
       " Model                                    --                        --\n",
       " ├─Sequential: 1-1                        [256, 16, 5, 5]           --\n",
       " │    └─Identity: 2-1                     [256, 3, 100, 100]        --\n",
       " │    └─Conv2d: 2-2                       [256, 32, 50, 50]         2,400\n",
       " │    └─BatchNorm2d: 2-3                  [256, 32, 50, 50]         64\n",
       " │    └─ReLU: 2-4                         [256, 32, 50, 50]         --\n",
       " │    └─Dropout2d: 2-5                    [256, 32, 50, 50]         --\n",
       " │    └─ResBlock: 2-6                     [256, 32, 50, 50]         --\n",
       " │    │    └─Sequential: 3-1              [256, 32, 50, 50]         5,216\n",
       " │    └─Dropout2d: 2-7                    [256, 32, 50, 50]         --\n",
       " │    └─ResBlock: 2-8                     [256, 32, 50, 50]         --\n",
       " │    │    └─Sequential: 3-2              [256, 32, 50, 50]         5,216\n",
       " │    └─Dropout2d: 2-9                    [256, 32, 50, 50]         --\n",
       " │    └─Conv2d: 2-10                      [256, 64, 25, 25]         18,432\n",
       " │    └─BatchNorm2d: 2-11                 [256, 64, 25, 25]         128\n",
       " │    └─ReLU: 2-12                        [256, 64, 25, 25]         --\n",
       " │    └─Dropout2d: 2-13                   [256, 64, 25, 25]         --\n",
       " │    └─ResBlock: 2-14                    [256, 64, 25, 25]         --\n",
       " │    │    └─Sequential: 3-3              [256, 64, 25, 25]         20,672\n",
       " │    └─Dropout2d: 2-15                   [256, 64, 25, 25]         --\n",
       " │    └─ResBlock: 2-16                    [256, 64, 25, 25]         --\n",
       " │    │    └─Sequential: 3-4              [256, 64, 25, 25]         20,672\n",
       " │    └─Dropout2d: 2-17                   [256, 64, 25, 25]         --\n",
       " │    └─Conv2d: 2-18                      [256, 128, 13, 13]        73,728\n",
       " │    └─BatchNorm2d: 2-19                 [256, 128, 13, 13]        256\n",
       " │    └─ReLU: 2-20                        [256, 128, 13, 13]        --\n",
       " │    └─Dropout2d: 2-21                   [256, 128, 13, 13]        --\n",
       " │    └─ResBlock: 2-22                    [256, 128, 13, 13]        --\n",
       " │    │    └─Sequential: 3-5              [256, 128, 13, 13]        82,304\n",
       " │    └─Dropout2d: 2-23                   [256, 128, 13, 13]        --\n",
       " │    └─ResBlock: 2-24                    [256, 128, 13, 13]        --\n",
       " │    │    └─Sequential: 3-6              [256, 128, 13, 13]        82,304\n",
       " │    └─Dropout2d: 2-25                   [256, 128, 13, 13]        --\n",
       " │    └─Conv2d: 2-26                      [256, 256, 7, 7]          294,912\n",
       " │    └─BatchNorm2d: 2-27                 [256, 256, 7, 7]          512\n",
       " │    └─ReLU: 2-28                        [256, 256, 7, 7]          --\n",
       " │    └─Dropout2d: 2-29                   [256, 256, 7, 7]          --\n",
       " │    └─ResBlock: 2-30                    [256, 256, 7, 7]          --\n",
       " │    │    └─Sequential: 3-7              [256, 256, 7, 7]          328,448\n",
       " │    └─Dropout2d: 2-31                   [256, 256, 7, 7]          --\n",
       " │    └─ResBlock: 2-32                    [256, 256, 7, 7]          --\n",
       " │    │    └─Sequential: 3-8              [256, 256, 7, 7]          328,448\n",
       " │    └─Dropout2d: 2-33                   [256, 256, 7, 7]          --\n",
       " │    └─Conv2d: 2-34                      [256, 512, 5, 5]          1,179,648\n",
       " │    └─BatchNorm2d: 2-35                 [256, 512, 5, 5]          1,024\n",
       " │    └─ReLU: 2-36                        [256, 512, 5, 5]          --\n",
       " │    └─Dropout2d: 2-37                   [256, 512, 5, 5]          --\n",
       " │    └─Conv2d: 2-38                      [256, 16, 5, 5]           8,208\n",
       " ==========================================================================================\n",
       " Total params: 2,452,592\n",
       " Trainable params: 2,452,592\n",
       " Non-trainable params: 0\n",
       " Total mult-adds (G): 47.39\n",
       " ==========================================================================================\n",
       " Input size (MB): 30.72\n",
       " Forward/backward pass size (MB): 2579.27\n",
       " Params size (MB): 9.81\n",
       " Estimated Total Size (MB): 2619.80\n",
       " ==========================================================================================)"
      ]
     },
     "execution_count": 35,
     "metadata": {},
     "output_type": "execute_result"
    }
   ],
   "source": [
    "class Model(nn.Module):\n",
    "    def __init__(self, B):\n",
    "        super(Model, self).__init__()\n",
    "\n",
    "        self.B   = B\n",
    "        self.oNN = nn.Sequential(\n",
    "            nn.Identity(),\n",
    "            nn.Conv2d(3,   32,  5, stride=2, padding=2, bias=False), nn.BatchNorm2d(32 ), nn.ReLU(), nn.Dropout2d(0.2),\n",
    "            ResBlock(32),                                                                            nn.Dropout2d(0.2),\n",
    "            ResBlock(32),                                                                            nn.Dropout2d(0.2),\n",
    "            nn.Conv2d(32,  64,  3, stride=2, padding=1, bias=False), nn.BatchNorm2d(64 ), nn.ReLU(), nn.Dropout2d(0.2),\n",
    "            ResBlock(64),                                                                            nn.Dropout2d(0.2),\n",
    "            ResBlock(64),                                                                            nn.Dropout2d(0.2),\n",
    "            nn.Conv2d(64,  128, 3, stride=2, padding=1, bias=False), nn.BatchNorm2d(128), nn.ReLU(), nn.Dropout2d(0.2),\n",
    "            ResBlock(128),                                                                           nn.Dropout2d(0.2),\n",
    "            ResBlock(128),                                                                           nn.Dropout2d(0.2),\n",
    "            nn.Conv2d(128, 256, 3, stride=2, padding=1, bias=False), nn.BatchNorm2d(256), nn.ReLU(), nn.Dropout2d(0.2),\n",
    "            ResBlock(256),                                                                           nn.Dropout2d(0.2),\n",
    "            ResBlock(256),                                                                           nn.Dropout2d(0.2),\n",
    "            nn.Conv2d(256, 512, 3, stride=2, padding=2, bias=False), nn.BatchNorm2d(512), nn.ReLU(), nn.Dropout2d(0.2),\n",
    "            nn.Conv2d(512, B*8, 1, stride=1, padding=0, bias=True ),\n",
    "    )\n",
    "        \n",
    "    def forward(self, mX):\n",
    "        mOutput = self.oNN(mX)                                 #-- [N, B*8, S, S]\n",
    "        mOutput = mOutput.view(-1, B, 8, GRID_SIZE, GRID_SIZE) #-- [N, B, 8, S, S]\n",
    "        \n",
    "                                        #-- mOutput[ii,bb,:,jj,kk] = [p | x, y, log(W), log(H) | R, G, B]\n",
    "        mOutput[:,:,1:3,:,:].sigmoid_() #-- makes sure x and y are in [0, 1]\n",
    "                \n",
    "        return mOutput\n",
    "#-------------------------------------------------------------------------------------------------------------------------#\n",
    "#-------------------------------------------------------------------------------------------------------------------------#\n",
    "#-- Model summary:\n",
    "mTarget = Model(B)(mX)\n",
    "mTarget.shape, \\\n",
    "torchinfo.summary(Model(B), mX.shape)"
   ]
  },
  {
   "cell_type": "markdown",
   "id": "fcedf34c-32de-4d70-bc0e-6c138c6f7c05",
   "metadata": {},
   "source": [
    "### Exercise - loss function (BCE + MSE + CE):\n",
    "* Implement the loss function:\n",
    "$$\\ell\\left(\\hat{\\boldsymbol{y}},\\boldsymbol{y}\\right)=\\begin{cases}\n",
    "\\lambda_{\\text{BCE}}\\cdot\\ell_{\\text{BCE}}\\left(\\hat{y}_{\\text{detect}},y_{\\text{detect}}\\right) & y_{\\text{detect}}=0\\\\\n",
    "\\lambda_{\\text{BCE}}\\cdot\\ell_{\\text{BCE}}\\left(\\hat{y}_{\\text{detect}},y_{\\text{detect}}\\right)+\\lambda_{\\text{MSE}}\\cdot\\ell_{\\text{MSE}}\\left(\\hat{\\boldsymbol{y}}_{\\text{bbox}},\\boldsymbol{y}_{\\text{bbox}}\\right)+\\lambda_{\\text{CE}}\\cdot\\ell_{\\text{CE}}\\left(\\hat{\\boldsymbol{y}}_{\\text{label}},\\boldsymbol{y}_{\\text{label}}\\right) & y_{\\text{detect}}=1\n",
    "\\end{cases}$$\n",
    "where $\\lambda_{\\text{BCE}}\\lambda_{\\text{BCE}}, \\lambda_{\\text{MSE}}$ and $\\lambda_{\\text{CE}}$ are the weights\n",
    "of each loss.  \n",
    "* Use:\n",
    "$$\\lambda_{\\mathrm{BCE}}=\\lambda_{\\mathrm{CE}}=\\lambda_{\\mathrm{MSE}}=1$$\n",
    "\n",
    "**Hint:** Use the `MainVanillaObjectDetection.ipynb` loss function as a reference."
   ]
  },
  {
   "cell_type": "code",
   "execution_count": 67,
   "id": "6e1adca8",
   "metadata": {
    "ExecuteTime": {
     "end_time": "2021-11-14T18:09:49.546839Z",
     "start_time": "2021-11-14T18:09:49.489789Z"
    },
    "tags": []
   },
   "outputs": [],
   "source": [
    "def Loss_Ex(mOutput, mTarget):\n",
    "    #-- mOutput.shape       = (N, B, 8, 5, 5)\n",
    "    #-- mTarget.shape       = (N, B, 6, 5, 5)\n",
    "    #-- mOutput[ii,bb,:,jj,kk] = [p | x, y, W, H | R, G, B]\n",
    "    #-- mTarget[ii,bb,:,jj,kk] = [p | x, y, W, H | cIdx]\n",
    "    \n",
    "#     ???\n",
    "#     loss = BCE + MSE + CE\n",
    "    \n",
    "#     return loss, BCE.item(), CE.item(), MSE.item()\n",
    "    return 0, 0, 0, 0"
   ]
  },
  {
   "cell_type": "markdown",
   "id": "e27777be",
   "metadata": {},
   "source": [
    "#### Test your implementation:"
   ]
  },
  {
   "cell_type": "code",
   "execution_count": 68,
   "id": "80cd485a",
   "metadata": {
    "ExecuteTime": {
     "end_time": "2021-11-14T18:09:52.054857Z",
     "start_time": "2021-11-14T18:09:51.985803Z"
    }
   },
   "outputs": [
    {
     "name": "stdout",
     "output_type": "stream",
     "text": [
      "Fail!\n"
     ]
    }
   ],
   "source": [
    "from DeepLearningFramework.AnchorsUtils import Loss\n",
    "\n",
    "mTarget = torch.cat([torch.randint(0, 2, (1000, 2, 1, 5, 5)), torch.rand(1000, 2, 4, 5, 5), torch.randint(0, 3, (1000, 2, 1, 5, 5))], dim=2)\n",
    "mOutput = torch.rand(1000, 2, 8, 5, 5)\n",
    "\n",
    "loss1   = Loss   (mOutput, mTarget)[0]\n",
    "loss2   = Loss_Ex(mOutput, mTarget)[0]\n",
    "\n",
    "if np.abs(loss1 - loss2) < 1e-10:\n",
    "    print('Success!')\n",
    "else:\n",
    "    print('Fail!')"
   ]
  },
  {
   "cell_type": "markdown",
   "id": "4efcf112-b2a3-41cd-8023-50e1039a2913",
   "metadata": {},
   "source": [
    "### `Epoch`\n",
    "Since we have not implemented a metric (yet), we will use: `metric = -loss`"
   ]
  },
  {
   "cell_type": "code",
   "execution_count": 69,
   "id": "8c2796e6-c4e3-469d-99ba-636f5c83aa1e",
   "metadata": {
    "ExecuteTime": {
     "end_time": "2021-11-14T18:14:37.578573Z",
     "start_time": "2021-11-14T18:14:37.497500Z"
    }
   },
   "outputs": [],
   "source": [
    "def Epoch(oModel, oDataDL, Loss, Metric, oOptim=None, oScheduler=None, bTrain=True):\n",
    "\n",
    "    vEpochStats = np.zeros(5) #-- (Loss, BCE, CE, MSE, -Loss)\n",
    "    count       = 0\n",
    "    nIter       = len(oDataDL)\n",
    "    DEVICE      = next(oModel.parameters()).device #-- CPU\\GPU\n",
    "\n",
    "    oModel.train(bTrain) #-- train or test\n",
    "\n",
    "    #-- Iterate over the mini-batches:\n",
    "    for ii, (mX, _, mTarget) in enumerate(oDataDL):\n",
    "        #-- Move to device (CPU\\GPU):\n",
    "        mX      = mX     .to(DEVICE)\n",
    "        mTarget = mTarget.to(DEVICE)\n",
    "\n",
    "        #-- Forward:\n",
    "        if bTrain == True:\n",
    "            #-- Store computational graph:\n",
    "            mOut               = oModel(mX)\n",
    "            loss, BCE, CE, MSE = Loss  (mOut, mTarget)\n",
    "\n",
    "            #-- Backward:\n",
    "            oOptim    .zero_grad() #-- set gradients to zeros\n",
    "            loss      .backward () #-- backward\n",
    "            oOptim    .step     () #-- update parameters\n",
    "            oScheduler.step     () #-- update learning rate\n",
    "            \n",
    "        else:\n",
    "            with torch.no_grad():\n",
    "                #-- Do not store computational graph:\n",
    "                mOut               = oModel(mX)\n",
    "                loss, BCE, CE, MSE = Loss  (mOut, mTarget)        \n",
    "\n",
    "        with torch.no_grad():\n",
    "            Nb           = mX.shape[0]\n",
    "            vIterStats   = np.array([loss.item(), BCE, CE, MSE, -loss.item()])\n",
    "            vEpochStats += Nb * vIterStats\n",
    "            count       += Nb\n",
    "        print(f'\\r{\"Train\" if bTrain else \"Val\"} - Iteration: {ii:3d} ({nIter}): loss = {loss:6.3f}', end='')\n",
    "\n",
    "    print('', end='\\r')\n",
    "    vEpochStats /= count\n",
    "\n",
    "    return vEpochStats"
   ]
  },
  {
   "cell_type": "code",
   "execution_count": 70,
   "id": "0cb311ff-682a-4c05-9ddf-4eced3a11d3c",
   "metadata": {
    "ExecuteTime": {
     "end_time": "2021-11-14T18:14:48.656817Z",
     "start_time": "2021-11-14T18:14:48.596516Z"
    }
   },
   "outputs": [],
   "source": [
    "Metric = None #-- We will do this later"
   ]
  },
  {
   "cell_type": "code",
   "execution_count": 72,
   "id": "dc3be899-b111-4bd4-87e9-23e33ab65870",
   "metadata": {
    "ExecuteTime": {
     "end_time": "2021-11-14T18:15:44.302018Z",
     "start_time": "2021-11-14T18:15:44.242801Z"
    }
   },
   "outputs": [],
   "source": [
    "import time\n",
    "\n",
    "def TrainModel(oModel, oTrainData, oValData, Loss, Metric, nEpochs, oOptim, oScheduler=None, sModelName='AnchorObjectDetection'):\n",
    "\n",
    "    TRAIN        = 0\n",
    "    VAL          = 1\n",
    "    vLR          = np.full(0,       np.nan)\n",
    "    mHistory     = np.full((2, 5, nEpochs), np.nan)\n",
    "    lNames       = ['Loss', 'BCE', 'CE', 'MSE', 'Metric']\n",
    "    bestMetric   = -float('inf')\n",
    "\n",
    "    fig, _ = plt.subplots(2, 2, figsize=(12, 6))\n",
    "    for epoch in range(nEpochs):\n",
    "        startTime               = time.time()\n",
    "        mHistory[TRAIN,:,epoch] = Epoch(oModel, oTrainData, Loss, Metric, oOptim, oScheduler, bTrain=True ) #-- train\n",
    "        mHistory[VAL,  :,epoch] = Epoch(oModel, oValData,   Loss, Metric,                     bTrain=False) #-- validate\n",
    "        epochTime               = time.time() - startTime\n",
    "\n",
    "        #-- Display:\n",
    "        if epoch % 10 == 0:\n",
    "            print('-' * 120)\n",
    "        print('Epoch '            f'{epoch                   :03d}:',   end='')\n",
    "        print(' | Train loss: '   f'{mHistory[TRAIN,0,epoch] :6.3f}',   end='')\n",
    "        print(' | Val loss: '     f'{mHistory[VAL,  0,epoch] :6.3f}',   end='')\n",
    "        print(' | Train Metric: ' f'{mHistory[TRAIN,4,epoch] :6.3f}',   end='')\n",
    "        print(' | Val Metric: '   f'{mHistory[VAL,  4,epoch] :6.3f}',   end='')\n",
    "        print(' | epoch time: '   f'{epochTime               :6.3f} |', end='')\n",
    "\n",
    "        valMetric = mHistory[VAL,4,epoch]\n",
    "        #-- Save best model (early stopping):\n",
    "        if valMetric > bestMetric:\n",
    "            bestMetric = valMetric\n",
    "            try   : torch.save(oModel.state_dict(), sModelName + '.pt')\n",
    "            except: pass\n",
    "            print(' <-- Checkpoint!')\n",
    "        else:\n",
    "            print('')\n",
    "            \n",
    "        for ii, ax in enumerate(fig.axes):\n",
    "            ax.cla      ()\n",
    "            ax.plot     (mHistory[TRAIN, ii], 'b', label='Train')\n",
    "            ax.plot     (mHistory[VAL,   ii], 'r', label='Validation')\n",
    "            ax.set_title(lNames[ii])\n",
    "            ax.grid     ()\n",
    "            ax.legend   ()\n",
    "\n",
    "        fig.canvas.draw ()\n",
    "        plt.tight_layout()\n",
    "        plt.pause       (1e-4)\n",
    "\n",
    "    #-- Load best model (early stopping):\n",
    "    oModel.load_state_dict(torch.load(sModelName + '.pt'))\n",
    "\n",
    "    return mHistory"
   ]
  },
  {
   "cell_type": "code",
   "execution_count": 73,
   "id": "bbfaccd9",
   "metadata": {
    "ExecuteTime": {
     "end_time": "2021-11-14T18:15:47.468484Z",
     "start_time": "2021-11-14T18:15:44.637463Z"
    },
    "scrolled": false,
    "tags": []
   },
   "outputs": [
    {
     "data": {
      "application/javascript": [
       "/* Put everything inside the global mpl namespace */\n",
       "/* global mpl */\n",
       "window.mpl = {};\n",
       "\n",
       "mpl.get_websocket_type = function () {\n",
       "    if (typeof WebSocket !== 'undefined') {\n",
       "        return WebSocket;\n",
       "    } else if (typeof MozWebSocket !== 'undefined') {\n",
       "        return MozWebSocket;\n",
       "    } else {\n",
       "        alert(\n",
       "            'Your browser does not have WebSocket support. ' +\n",
       "                'Please try Chrome, Safari or Firefox ≥ 6. ' +\n",
       "                'Firefox 4 and 5 are also supported but you ' +\n",
       "                'have to enable WebSockets in about:config.'\n",
       "        );\n",
       "    }\n",
       "};\n",
       "\n",
       "mpl.figure = function (figure_id, websocket, ondownload, parent_element) {\n",
       "    this.id = figure_id;\n",
       "\n",
       "    this.ws = websocket;\n",
       "\n",
       "    this.supports_binary = this.ws.binaryType !== undefined;\n",
       "\n",
       "    if (!this.supports_binary) {\n",
       "        var warnings = document.getElementById('mpl-warnings');\n",
       "        if (warnings) {\n",
       "            warnings.style.display = 'block';\n",
       "            warnings.textContent =\n",
       "                'This browser does not support binary websocket messages. ' +\n",
       "                'Performance may be slow.';\n",
       "        }\n",
       "    }\n",
       "\n",
       "    this.imageObj = new Image();\n",
       "\n",
       "    this.context = undefined;\n",
       "    this.message = undefined;\n",
       "    this.canvas = undefined;\n",
       "    this.rubberband_canvas = undefined;\n",
       "    this.rubberband_context = undefined;\n",
       "    this.format_dropdown = undefined;\n",
       "\n",
       "    this.image_mode = 'full';\n",
       "\n",
       "    this.root = document.createElement('div');\n",
       "    this.root.setAttribute('style', 'display: inline-block');\n",
       "    this._root_extra_style(this.root);\n",
       "\n",
       "    parent_element.appendChild(this.root);\n",
       "\n",
       "    this._init_header(this);\n",
       "    this._init_canvas(this);\n",
       "    this._init_toolbar(this);\n",
       "\n",
       "    var fig = this;\n",
       "\n",
       "    this.waiting = false;\n",
       "\n",
       "    this.ws.onopen = function () {\n",
       "        fig.send_message('supports_binary', { value: fig.supports_binary });\n",
       "        fig.send_message('send_image_mode', {});\n",
       "        if (fig.ratio !== 1) {\n",
       "            fig.send_message('set_dpi_ratio', { dpi_ratio: fig.ratio });\n",
       "        }\n",
       "        fig.send_message('refresh', {});\n",
       "    };\n",
       "\n",
       "    this.imageObj.onload = function () {\n",
       "        if (fig.image_mode === 'full') {\n",
       "            // Full images could contain transparency (where diff images\n",
       "            // almost always do), so we need to clear the canvas so that\n",
       "            // there is no ghosting.\n",
       "            fig.context.clearRect(0, 0, fig.canvas.width, fig.canvas.height);\n",
       "        }\n",
       "        fig.context.drawImage(fig.imageObj, 0, 0);\n",
       "    };\n",
       "\n",
       "    this.imageObj.onunload = function () {\n",
       "        fig.ws.close();\n",
       "    };\n",
       "\n",
       "    this.ws.onmessage = this._make_on_message_function(this);\n",
       "\n",
       "    this.ondownload = ondownload;\n",
       "};\n",
       "\n",
       "mpl.figure.prototype._init_header = function () {\n",
       "    var titlebar = document.createElement('div');\n",
       "    titlebar.classList =\n",
       "        'ui-dialog-titlebar ui-widget-header ui-corner-all ui-helper-clearfix';\n",
       "    var titletext = document.createElement('div');\n",
       "    titletext.classList = 'ui-dialog-title';\n",
       "    titletext.setAttribute(\n",
       "        'style',\n",
       "        'width: 100%; text-align: center; padding: 3px;'\n",
       "    );\n",
       "    titlebar.appendChild(titletext);\n",
       "    this.root.appendChild(titlebar);\n",
       "    this.header = titletext;\n",
       "};\n",
       "\n",
       "mpl.figure.prototype._canvas_extra_style = function (_canvas_div) {};\n",
       "\n",
       "mpl.figure.prototype._root_extra_style = function (_canvas_div) {};\n",
       "\n",
       "mpl.figure.prototype._init_canvas = function () {\n",
       "    var fig = this;\n",
       "\n",
       "    var canvas_div = (this.canvas_div = document.createElement('div'));\n",
       "    canvas_div.setAttribute(\n",
       "        'style',\n",
       "        'border: 1px solid #ddd;' +\n",
       "            'box-sizing: content-box;' +\n",
       "            'clear: both;' +\n",
       "            'min-height: 1px;' +\n",
       "            'min-width: 1px;' +\n",
       "            'outline: 0;' +\n",
       "            'overflow: hidden;' +\n",
       "            'position: relative;' +\n",
       "            'resize: both;'\n",
       "    );\n",
       "\n",
       "    function on_keyboard_event_closure(name) {\n",
       "        return function (event) {\n",
       "            return fig.key_event(event, name);\n",
       "        };\n",
       "    }\n",
       "\n",
       "    canvas_div.addEventListener(\n",
       "        'keydown',\n",
       "        on_keyboard_event_closure('key_press')\n",
       "    );\n",
       "    canvas_div.addEventListener(\n",
       "        'keyup',\n",
       "        on_keyboard_event_closure('key_release')\n",
       "    );\n",
       "\n",
       "    this._canvas_extra_style(canvas_div);\n",
       "    this.root.appendChild(canvas_div);\n",
       "\n",
       "    var canvas = (this.canvas = document.createElement('canvas'));\n",
       "    canvas.classList.add('mpl-canvas');\n",
       "    canvas.setAttribute('style', 'box-sizing: content-box;');\n",
       "\n",
       "    this.context = canvas.getContext('2d');\n",
       "\n",
       "    var backingStore =\n",
       "        this.context.backingStorePixelRatio ||\n",
       "        this.context.webkitBackingStorePixelRatio ||\n",
       "        this.context.mozBackingStorePixelRatio ||\n",
       "        this.context.msBackingStorePixelRatio ||\n",
       "        this.context.oBackingStorePixelRatio ||\n",
       "        this.context.backingStorePixelRatio ||\n",
       "        1;\n",
       "\n",
       "    this.ratio = (window.devicePixelRatio || 1) / backingStore;\n",
       "\n",
       "    var rubberband_canvas = (this.rubberband_canvas = document.createElement(\n",
       "        'canvas'\n",
       "    ));\n",
       "    rubberband_canvas.setAttribute(\n",
       "        'style',\n",
       "        'box-sizing: content-box; position: absolute; left: 0; top: 0; z-index: 1;'\n",
       "    );\n",
       "\n",
       "    // Apply a ponyfill if ResizeObserver is not implemented by browser.\n",
       "    if (this.ResizeObserver === undefined) {\n",
       "        if (window.ResizeObserver !== undefined) {\n",
       "            this.ResizeObserver = window.ResizeObserver;\n",
       "        } else {\n",
       "            var obs = _JSXTOOLS_RESIZE_OBSERVER({});\n",
       "            this.ResizeObserver = obs.ResizeObserver;\n",
       "        }\n",
       "    }\n",
       "\n",
       "    this.resizeObserverInstance = new this.ResizeObserver(function (entries) {\n",
       "        var nentries = entries.length;\n",
       "        for (var i = 0; i < nentries; i++) {\n",
       "            var entry = entries[i];\n",
       "            var width, height;\n",
       "            if (entry.contentBoxSize) {\n",
       "                if (entry.contentBoxSize instanceof Array) {\n",
       "                    // Chrome 84 implements new version of spec.\n",
       "                    width = entry.contentBoxSize[0].inlineSize;\n",
       "                    height = entry.contentBoxSize[0].blockSize;\n",
       "                } else {\n",
       "                    // Firefox implements old version of spec.\n",
       "                    width = entry.contentBoxSize.inlineSize;\n",
       "                    height = entry.contentBoxSize.blockSize;\n",
       "                }\n",
       "            } else {\n",
       "                // Chrome <84 implements even older version of spec.\n",
       "                width = entry.contentRect.width;\n",
       "                height = entry.contentRect.height;\n",
       "            }\n",
       "\n",
       "            // Keep the size of the canvas and rubber band canvas in sync with\n",
       "            // the canvas container.\n",
       "            if (entry.devicePixelContentBoxSize) {\n",
       "                // Chrome 84 implements new version of spec.\n",
       "                canvas.setAttribute(\n",
       "                    'width',\n",
       "                    entry.devicePixelContentBoxSize[0].inlineSize\n",
       "                );\n",
       "                canvas.setAttribute(\n",
       "                    'height',\n",
       "                    entry.devicePixelContentBoxSize[0].blockSize\n",
       "                );\n",
       "            } else {\n",
       "                canvas.setAttribute('width', width * fig.ratio);\n",
       "                canvas.setAttribute('height', height * fig.ratio);\n",
       "            }\n",
       "            canvas.setAttribute(\n",
       "                'style',\n",
       "                'width: ' + width + 'px; height: ' + height + 'px;'\n",
       "            );\n",
       "\n",
       "            rubberband_canvas.setAttribute('width', width);\n",
       "            rubberband_canvas.setAttribute('height', height);\n",
       "\n",
       "            // And update the size in Python. We ignore the initial 0/0 size\n",
       "            // that occurs as the element is placed into the DOM, which should\n",
       "            // otherwise not happen due to the minimum size styling.\n",
       "            if (fig.ws.readyState == 1 && width != 0 && height != 0) {\n",
       "                fig.request_resize(width, height);\n",
       "            }\n",
       "        }\n",
       "    });\n",
       "    this.resizeObserverInstance.observe(canvas_div);\n",
       "\n",
       "    function on_mouse_event_closure(name) {\n",
       "        return function (event) {\n",
       "            return fig.mouse_event(event, name);\n",
       "        };\n",
       "    }\n",
       "\n",
       "    rubberband_canvas.addEventListener(\n",
       "        'mousedown',\n",
       "        on_mouse_event_closure('button_press')\n",
       "    );\n",
       "    rubberband_canvas.addEventListener(\n",
       "        'mouseup',\n",
       "        on_mouse_event_closure('button_release')\n",
       "    );\n",
       "    rubberband_canvas.addEventListener(\n",
       "        'dblclick',\n",
       "        on_mouse_event_closure('dblclick')\n",
       "    );\n",
       "    // Throttle sequential mouse events to 1 every 20ms.\n",
       "    rubberband_canvas.addEventListener(\n",
       "        'mousemove',\n",
       "        on_mouse_event_closure('motion_notify')\n",
       "    );\n",
       "\n",
       "    rubberband_canvas.addEventListener(\n",
       "        'mouseenter',\n",
       "        on_mouse_event_closure('figure_enter')\n",
       "    );\n",
       "    rubberband_canvas.addEventListener(\n",
       "        'mouseleave',\n",
       "        on_mouse_event_closure('figure_leave')\n",
       "    );\n",
       "\n",
       "    canvas_div.addEventListener('wheel', function (event) {\n",
       "        if (event.deltaY < 0) {\n",
       "            event.step = 1;\n",
       "        } else {\n",
       "            event.step = -1;\n",
       "        }\n",
       "        on_mouse_event_closure('scroll')(event);\n",
       "    });\n",
       "\n",
       "    canvas_div.appendChild(canvas);\n",
       "    canvas_div.appendChild(rubberband_canvas);\n",
       "\n",
       "    this.rubberband_context = rubberband_canvas.getContext('2d');\n",
       "    this.rubberband_context.strokeStyle = '#000000';\n",
       "\n",
       "    this._resize_canvas = function (width, height, forward) {\n",
       "        if (forward) {\n",
       "            canvas_div.style.width = width + 'px';\n",
       "            canvas_div.style.height = height + 'px';\n",
       "        }\n",
       "    };\n",
       "\n",
       "    // Disable right mouse context menu.\n",
       "    this.rubberband_canvas.addEventListener('contextmenu', function (_e) {\n",
       "        event.preventDefault();\n",
       "        return false;\n",
       "    });\n",
       "\n",
       "    function set_focus() {\n",
       "        canvas.focus();\n",
       "        canvas_div.focus();\n",
       "    }\n",
       "\n",
       "    window.setTimeout(set_focus, 100);\n",
       "};\n",
       "\n",
       "mpl.figure.prototype._init_toolbar = function () {\n",
       "    var fig = this;\n",
       "\n",
       "    var toolbar = document.createElement('div');\n",
       "    toolbar.classList = 'mpl-toolbar';\n",
       "    this.root.appendChild(toolbar);\n",
       "\n",
       "    function on_click_closure(name) {\n",
       "        return function (_event) {\n",
       "            return fig.toolbar_button_onclick(name);\n",
       "        };\n",
       "    }\n",
       "\n",
       "    function on_mouseover_closure(tooltip) {\n",
       "        return function (event) {\n",
       "            if (!event.currentTarget.disabled) {\n",
       "                return fig.toolbar_button_onmouseover(tooltip);\n",
       "            }\n",
       "        };\n",
       "    }\n",
       "\n",
       "    fig.buttons = {};\n",
       "    var buttonGroup = document.createElement('div');\n",
       "    buttonGroup.classList = 'mpl-button-group';\n",
       "    for (var toolbar_ind in mpl.toolbar_items) {\n",
       "        var name = mpl.toolbar_items[toolbar_ind][0];\n",
       "        var tooltip = mpl.toolbar_items[toolbar_ind][1];\n",
       "        var image = mpl.toolbar_items[toolbar_ind][2];\n",
       "        var method_name = mpl.toolbar_items[toolbar_ind][3];\n",
       "\n",
       "        if (!name) {\n",
       "            /* Instead of a spacer, we start a new button group. */\n",
       "            if (buttonGroup.hasChildNodes()) {\n",
       "                toolbar.appendChild(buttonGroup);\n",
       "            }\n",
       "            buttonGroup = document.createElement('div');\n",
       "            buttonGroup.classList = 'mpl-button-group';\n",
       "            continue;\n",
       "        }\n",
       "\n",
       "        var button = (fig.buttons[name] = document.createElement('button'));\n",
       "        button.classList = 'mpl-widget';\n",
       "        button.setAttribute('role', 'button');\n",
       "        button.setAttribute('aria-disabled', 'false');\n",
       "        button.addEventListener('click', on_click_closure(method_name));\n",
       "        button.addEventListener('mouseover', on_mouseover_closure(tooltip));\n",
       "\n",
       "        var icon_img = document.createElement('img');\n",
       "        icon_img.src = '_images/' + image + '.png';\n",
       "        icon_img.srcset = '_images/' + image + '_large.png 2x';\n",
       "        icon_img.alt = tooltip;\n",
       "        button.appendChild(icon_img);\n",
       "\n",
       "        buttonGroup.appendChild(button);\n",
       "    }\n",
       "\n",
       "    if (buttonGroup.hasChildNodes()) {\n",
       "        toolbar.appendChild(buttonGroup);\n",
       "    }\n",
       "\n",
       "    var fmt_picker = document.createElement('select');\n",
       "    fmt_picker.classList = 'mpl-widget';\n",
       "    toolbar.appendChild(fmt_picker);\n",
       "    this.format_dropdown = fmt_picker;\n",
       "\n",
       "    for (var ind in mpl.extensions) {\n",
       "        var fmt = mpl.extensions[ind];\n",
       "        var option = document.createElement('option');\n",
       "        option.selected = fmt === mpl.default_extension;\n",
       "        option.innerHTML = fmt;\n",
       "        fmt_picker.appendChild(option);\n",
       "    }\n",
       "\n",
       "    var status_bar = document.createElement('span');\n",
       "    status_bar.classList = 'mpl-message';\n",
       "    toolbar.appendChild(status_bar);\n",
       "    this.message = status_bar;\n",
       "};\n",
       "\n",
       "mpl.figure.prototype.request_resize = function (x_pixels, y_pixels) {\n",
       "    // Request matplotlib to resize the figure. Matplotlib will then trigger a resize in the client,\n",
       "    // which will in turn request a refresh of the image.\n",
       "    this.send_message('resize', { width: x_pixels, height: y_pixels });\n",
       "};\n",
       "\n",
       "mpl.figure.prototype.send_message = function (type, properties) {\n",
       "    properties['type'] = type;\n",
       "    properties['figure_id'] = this.id;\n",
       "    this.ws.send(JSON.stringify(properties));\n",
       "};\n",
       "\n",
       "mpl.figure.prototype.send_draw_message = function () {\n",
       "    if (!this.waiting) {\n",
       "        this.waiting = true;\n",
       "        this.ws.send(JSON.stringify({ type: 'draw', figure_id: this.id }));\n",
       "    }\n",
       "};\n",
       "\n",
       "mpl.figure.prototype.handle_save = function (fig, _msg) {\n",
       "    var format_dropdown = fig.format_dropdown;\n",
       "    var format = format_dropdown.options[format_dropdown.selectedIndex].value;\n",
       "    fig.ondownload(fig, format);\n",
       "};\n",
       "\n",
       "mpl.figure.prototype.handle_resize = function (fig, msg) {\n",
       "    var size = msg['size'];\n",
       "    if (size[0] !== fig.canvas.width || size[1] !== fig.canvas.height) {\n",
       "        fig._resize_canvas(size[0], size[1], msg['forward']);\n",
       "        fig.send_message('refresh', {});\n",
       "    }\n",
       "};\n",
       "\n",
       "mpl.figure.prototype.handle_rubberband = function (fig, msg) {\n",
       "    var x0 = msg['x0'] / fig.ratio;\n",
       "    var y0 = (fig.canvas.height - msg['y0']) / fig.ratio;\n",
       "    var x1 = msg['x1'] / fig.ratio;\n",
       "    var y1 = (fig.canvas.height - msg['y1']) / fig.ratio;\n",
       "    x0 = Math.floor(x0) + 0.5;\n",
       "    y0 = Math.floor(y0) + 0.5;\n",
       "    x1 = Math.floor(x1) + 0.5;\n",
       "    y1 = Math.floor(y1) + 0.5;\n",
       "    var min_x = Math.min(x0, x1);\n",
       "    var min_y = Math.min(y0, y1);\n",
       "    var width = Math.abs(x1 - x0);\n",
       "    var height = Math.abs(y1 - y0);\n",
       "\n",
       "    fig.rubberband_context.clearRect(\n",
       "        0,\n",
       "        0,\n",
       "        fig.canvas.width / fig.ratio,\n",
       "        fig.canvas.height / fig.ratio\n",
       "    );\n",
       "\n",
       "    fig.rubberband_context.strokeRect(min_x, min_y, width, height);\n",
       "};\n",
       "\n",
       "mpl.figure.prototype.handle_figure_label = function (fig, msg) {\n",
       "    // Updates the figure title.\n",
       "    fig.header.textContent = msg['label'];\n",
       "};\n",
       "\n",
       "mpl.figure.prototype.handle_cursor = function (fig, msg) {\n",
       "    var cursor = msg['cursor'];\n",
       "    switch (cursor) {\n",
       "        case 0:\n",
       "            cursor = 'pointer';\n",
       "            break;\n",
       "        case 1:\n",
       "            cursor = 'default';\n",
       "            break;\n",
       "        case 2:\n",
       "            cursor = 'crosshair';\n",
       "            break;\n",
       "        case 3:\n",
       "            cursor = 'move';\n",
       "            break;\n",
       "    }\n",
       "    fig.rubberband_canvas.style.cursor = cursor;\n",
       "};\n",
       "\n",
       "mpl.figure.prototype.handle_message = function (fig, msg) {\n",
       "    fig.message.textContent = msg['message'];\n",
       "};\n",
       "\n",
       "mpl.figure.prototype.handle_draw = function (fig, _msg) {\n",
       "    // Request the server to send over a new figure.\n",
       "    fig.send_draw_message();\n",
       "};\n",
       "\n",
       "mpl.figure.prototype.handle_image_mode = function (fig, msg) {\n",
       "    fig.image_mode = msg['mode'];\n",
       "};\n",
       "\n",
       "mpl.figure.prototype.handle_history_buttons = function (fig, msg) {\n",
       "    for (var key in msg) {\n",
       "        if (!(key in fig.buttons)) {\n",
       "            continue;\n",
       "        }\n",
       "        fig.buttons[key].disabled = !msg[key];\n",
       "        fig.buttons[key].setAttribute('aria-disabled', !msg[key]);\n",
       "    }\n",
       "};\n",
       "\n",
       "mpl.figure.prototype.handle_navigate_mode = function (fig, msg) {\n",
       "    if (msg['mode'] === 'PAN') {\n",
       "        fig.buttons['Pan'].classList.add('active');\n",
       "        fig.buttons['Zoom'].classList.remove('active');\n",
       "    } else if (msg['mode'] === 'ZOOM') {\n",
       "        fig.buttons['Pan'].classList.remove('active');\n",
       "        fig.buttons['Zoom'].classList.add('active');\n",
       "    } else {\n",
       "        fig.buttons['Pan'].classList.remove('active');\n",
       "        fig.buttons['Zoom'].classList.remove('active');\n",
       "    }\n",
       "};\n",
       "\n",
       "mpl.figure.prototype.updated_canvas_event = function () {\n",
       "    // Called whenever the canvas gets updated.\n",
       "    this.send_message('ack', {});\n",
       "};\n",
       "\n",
       "// A function to construct a web socket function for onmessage handling.\n",
       "// Called in the figure constructor.\n",
       "mpl.figure.prototype._make_on_message_function = function (fig) {\n",
       "    return function socket_on_message(evt) {\n",
       "        if (evt.data instanceof Blob) {\n",
       "            var img = evt.data;\n",
       "            if (img.type !== 'image/png') {\n",
       "                /* FIXME: We get \"Resource interpreted as Image but\n",
       "                 * transferred with MIME type text/plain:\" errors on\n",
       "                 * Chrome.  But how to set the MIME type?  It doesn't seem\n",
       "                 * to be part of the websocket stream */\n",
       "                img.type = 'image/png';\n",
       "            }\n",
       "\n",
       "            /* Free the memory for the previous frames */\n",
       "            if (fig.imageObj.src) {\n",
       "                (window.URL || window.webkitURL).revokeObjectURL(\n",
       "                    fig.imageObj.src\n",
       "                );\n",
       "            }\n",
       "\n",
       "            fig.imageObj.src = (window.URL || window.webkitURL).createObjectURL(\n",
       "                img\n",
       "            );\n",
       "            fig.updated_canvas_event();\n",
       "            fig.waiting = false;\n",
       "            return;\n",
       "        } else if (\n",
       "            typeof evt.data === 'string' &&\n",
       "            evt.data.slice(0, 21) === 'data:image/png;base64'\n",
       "        ) {\n",
       "            fig.imageObj.src = evt.data;\n",
       "            fig.updated_canvas_event();\n",
       "            fig.waiting = false;\n",
       "            return;\n",
       "        }\n",
       "\n",
       "        var msg = JSON.parse(evt.data);\n",
       "        var msg_type = msg['type'];\n",
       "\n",
       "        // Call the  \"handle_{type}\" callback, which takes\n",
       "        // the figure and JSON message as its only arguments.\n",
       "        try {\n",
       "            var callback = fig['handle_' + msg_type];\n",
       "        } catch (e) {\n",
       "            console.log(\n",
       "                \"No handler for the '\" + msg_type + \"' message type: \",\n",
       "                msg\n",
       "            );\n",
       "            return;\n",
       "        }\n",
       "\n",
       "        if (callback) {\n",
       "            try {\n",
       "                // console.log(\"Handling '\" + msg_type + \"' message: \", msg);\n",
       "                callback(fig, msg);\n",
       "            } catch (e) {\n",
       "                console.log(\n",
       "                    \"Exception inside the 'handler_\" + msg_type + \"' callback:\",\n",
       "                    e,\n",
       "                    e.stack,\n",
       "                    msg\n",
       "                );\n",
       "            }\n",
       "        }\n",
       "    };\n",
       "};\n",
       "\n",
       "// from http://stackoverflow.com/questions/1114465/getting-mouse-location-in-canvas\n",
       "mpl.findpos = function (e) {\n",
       "    //this section is from http://www.quirksmode.org/js/events_properties.html\n",
       "    var targ;\n",
       "    if (!e) {\n",
       "        e = window.event;\n",
       "    }\n",
       "    if (e.target) {\n",
       "        targ = e.target;\n",
       "    } else if (e.srcElement) {\n",
       "        targ = e.srcElement;\n",
       "    }\n",
       "    if (targ.nodeType === 3) {\n",
       "        // defeat Safari bug\n",
       "        targ = targ.parentNode;\n",
       "    }\n",
       "\n",
       "    // pageX,Y are the mouse positions relative to the document\n",
       "    var boundingRect = targ.getBoundingClientRect();\n",
       "    var x = e.pageX - (boundingRect.left + document.body.scrollLeft);\n",
       "    var y = e.pageY - (boundingRect.top + document.body.scrollTop);\n",
       "\n",
       "    return { x: x, y: y };\n",
       "};\n",
       "\n",
       "/*\n",
       " * return a copy of an object with only non-object keys\n",
       " * we need this to avoid circular references\n",
       " * http://stackoverflow.com/a/24161582/3208463\n",
       " */\n",
       "function simpleKeys(original) {\n",
       "    return Object.keys(original).reduce(function (obj, key) {\n",
       "        if (typeof original[key] !== 'object') {\n",
       "            obj[key] = original[key];\n",
       "        }\n",
       "        return obj;\n",
       "    }, {});\n",
       "}\n",
       "\n",
       "mpl.figure.prototype.mouse_event = function (event, name) {\n",
       "    var canvas_pos = mpl.findpos(event);\n",
       "\n",
       "    if (name === 'button_press') {\n",
       "        this.canvas.focus();\n",
       "        this.canvas_div.focus();\n",
       "    }\n",
       "\n",
       "    var x = canvas_pos.x * this.ratio;\n",
       "    var y = canvas_pos.y * this.ratio;\n",
       "\n",
       "    this.send_message(name, {\n",
       "        x: x,\n",
       "        y: y,\n",
       "        button: event.button,\n",
       "        step: event.step,\n",
       "        guiEvent: simpleKeys(event),\n",
       "    });\n",
       "\n",
       "    /* This prevents the web browser from automatically changing to\n",
       "     * the text insertion cursor when the button is pressed.  We want\n",
       "     * to control all of the cursor setting manually through the\n",
       "     * 'cursor' event from matplotlib */\n",
       "    event.preventDefault();\n",
       "    return false;\n",
       "};\n",
       "\n",
       "mpl.figure.prototype._key_event_extra = function (_event, _name) {\n",
       "    // Handle any extra behaviour associated with a key event\n",
       "};\n",
       "\n",
       "mpl.figure.prototype.key_event = function (event, name) {\n",
       "    // Prevent repeat events\n",
       "    if (name === 'key_press') {\n",
       "        if (event.key === this._key) {\n",
       "            return;\n",
       "        } else {\n",
       "            this._key = event.key;\n",
       "        }\n",
       "    }\n",
       "    if (name === 'key_release') {\n",
       "        this._key = null;\n",
       "    }\n",
       "\n",
       "    var value = '';\n",
       "    if (event.ctrlKey && event.key !== 'Control') {\n",
       "        value += 'ctrl+';\n",
       "    }\n",
       "    else if (event.altKey && event.key !== 'Alt') {\n",
       "        value += 'alt+';\n",
       "    }\n",
       "    else if (event.shiftKey && event.key !== 'Shift') {\n",
       "        value += 'shift+';\n",
       "    }\n",
       "\n",
       "    value += 'k' + event.key;\n",
       "\n",
       "    this._key_event_extra(event, name);\n",
       "\n",
       "    this.send_message(name, { key: value, guiEvent: simpleKeys(event) });\n",
       "    return false;\n",
       "};\n",
       "\n",
       "mpl.figure.prototype.toolbar_button_onclick = function (name) {\n",
       "    if (name === 'download') {\n",
       "        this.handle_save(this, null);\n",
       "    } else {\n",
       "        this.send_message('toolbar_button', { name: name });\n",
       "    }\n",
       "};\n",
       "\n",
       "mpl.figure.prototype.toolbar_button_onmouseover = function (tooltip) {\n",
       "    this.message.textContent = tooltip;\n",
       "};\n",
       "\n",
       "///////////////// REMAINING CONTENT GENERATED BY embed_js.py /////////////////\n",
       "// prettier-ignore\n",
       "var _JSXTOOLS_RESIZE_OBSERVER=function(A){var t,i=new WeakMap,n=new WeakMap,a=new WeakMap,r=new WeakMap,o=new Set;function s(e){if(!(this instanceof s))throw new TypeError(\"Constructor requires 'new' operator\");i.set(this,e)}function h(){throw new TypeError(\"Function is not a constructor\")}function c(e,t,i,n){e=0 in arguments?Number(arguments[0]):0,t=1 in arguments?Number(arguments[1]):0,i=2 in arguments?Number(arguments[2]):0,n=3 in arguments?Number(arguments[3]):0,this.right=(this.x=this.left=e)+(this.width=i),this.bottom=(this.y=this.top=t)+(this.height=n),Object.freeze(this)}function d(){t=requestAnimationFrame(d);var s=new WeakMap,p=new Set;o.forEach((function(t){r.get(t).forEach((function(i){var r=t instanceof window.SVGElement,o=a.get(t),d=r?0:parseFloat(o.paddingTop),f=r?0:parseFloat(o.paddingRight),l=r?0:parseFloat(o.paddingBottom),u=r?0:parseFloat(o.paddingLeft),g=r?0:parseFloat(o.borderTopWidth),m=r?0:parseFloat(o.borderRightWidth),w=r?0:parseFloat(o.borderBottomWidth),b=u+f,F=d+l,v=(r?0:parseFloat(o.borderLeftWidth))+m,W=g+w,y=r?0:t.offsetHeight-W-t.clientHeight,E=r?0:t.offsetWidth-v-t.clientWidth,R=b+v,z=F+W,M=r?t.width:parseFloat(o.width)-R-E,O=r?t.height:parseFloat(o.height)-z-y;if(n.has(t)){var k=n.get(t);if(k[0]===M&&k[1]===O)return}n.set(t,[M,O]);var S=Object.create(h.prototype);S.target=t,S.contentRect=new c(u,d,M,O),s.has(i)||(s.set(i,[]),p.add(i)),s.get(i).push(S)}))})),p.forEach((function(e){i.get(e).call(e,s.get(e),e)}))}return s.prototype.observe=function(i){if(i instanceof window.Element){r.has(i)||(r.set(i,new Set),o.add(i),a.set(i,window.getComputedStyle(i)));var n=r.get(i);n.has(this)||n.add(this),cancelAnimationFrame(t),t=requestAnimationFrame(d)}},s.prototype.unobserve=function(i){if(i instanceof window.Element&&r.has(i)){var n=r.get(i);n.has(this)&&(n.delete(this),n.size||(r.delete(i),o.delete(i))),n.size||r.delete(i),o.size||cancelAnimationFrame(t)}},A.DOMRectReadOnly=c,A.ResizeObserver=s,A.ResizeObserverEntry=h,A}; // eslint-disable-line\n",
       "mpl.toolbar_items = [[\"Home\", \"Reset original view\", \"fa fa-home icon-home\", \"home\"], [\"Back\", \"Back to previous view\", \"fa fa-arrow-left icon-arrow-left\", \"back\"], [\"Forward\", \"Forward to next view\", \"fa fa-arrow-right icon-arrow-right\", \"forward\"], [\"\", \"\", \"\", \"\"], [\"Pan\", \"Left button pans, Right button zooms\\nx/y fixes axis, CTRL fixes aspect\", \"fa fa-arrows icon-move\", \"pan\"], [\"Zoom\", \"Zoom to rectangle\\nx/y fixes axis, CTRL fixes aspect\", \"fa fa-square-o icon-check-empty\", \"zoom\"], [\"\", \"\", \"\", \"\"], [\"Download\", \"Download plot\", \"fa fa-floppy-o icon-save\", \"download\"]];\n",
       "\n",
       "mpl.extensions = [\"eps\", \"jpeg\", \"pgf\", \"pdf\", \"png\", \"ps\", \"raw\", \"svg\", \"tif\"];\n",
       "\n",
       "mpl.default_extension = \"png\";/* global mpl */\n",
       "\n",
       "var comm_websocket_adapter = function (comm) {\n",
       "    // Create a \"websocket\"-like object which calls the given IPython comm\n",
       "    // object with the appropriate methods. Currently this is a non binary\n",
       "    // socket, so there is still some room for performance tuning.\n",
       "    var ws = {};\n",
       "\n",
       "    ws.binaryType = comm.kernel.ws.binaryType;\n",
       "    ws.readyState = comm.kernel.ws.readyState;\n",
       "    function updateReadyState(_event) {\n",
       "        if (comm.kernel.ws) {\n",
       "            ws.readyState = comm.kernel.ws.readyState;\n",
       "        } else {\n",
       "            ws.readyState = 3; // Closed state.\n",
       "        }\n",
       "    }\n",
       "    comm.kernel.ws.addEventListener('open', updateReadyState);\n",
       "    comm.kernel.ws.addEventListener('close', updateReadyState);\n",
       "    comm.kernel.ws.addEventListener('error', updateReadyState);\n",
       "\n",
       "    ws.close = function () {\n",
       "        comm.close();\n",
       "    };\n",
       "    ws.send = function (m) {\n",
       "        //console.log('sending', m);\n",
       "        comm.send(m);\n",
       "    };\n",
       "    // Register the callback with on_msg.\n",
       "    comm.on_msg(function (msg) {\n",
       "        //console.log('receiving', msg['content']['data'], msg);\n",
       "        var data = msg['content']['data'];\n",
       "        if (data['blob'] !== undefined) {\n",
       "            data = {\n",
       "                data: new Blob(msg['buffers'], { type: data['blob'] }),\n",
       "            };\n",
       "        }\n",
       "        // Pass the mpl event to the overridden (by mpl) onmessage function.\n",
       "        ws.onmessage(data);\n",
       "    });\n",
       "    return ws;\n",
       "};\n",
       "\n",
       "mpl.mpl_figure_comm = function (comm, msg) {\n",
       "    // This is the function which gets called when the mpl process\n",
       "    // starts-up an IPython Comm through the \"matplotlib\" channel.\n",
       "\n",
       "    var id = msg.content.data.id;\n",
       "    // Get hold of the div created by the display call when the Comm\n",
       "    // socket was opened in Python.\n",
       "    var element = document.getElementById(id);\n",
       "    var ws_proxy = comm_websocket_adapter(comm);\n",
       "\n",
       "    function ondownload(figure, _format) {\n",
       "        window.open(figure.canvas.toDataURL());\n",
       "    }\n",
       "\n",
       "    var fig = new mpl.figure(id, ws_proxy, ondownload, element);\n",
       "\n",
       "    // Call onopen now - mpl needs it, as it is assuming we've passed it a real\n",
       "    // web socket which is closed, not our websocket->open comm proxy.\n",
       "    ws_proxy.onopen();\n",
       "\n",
       "    fig.parent_element = element;\n",
       "    fig.cell_info = mpl.find_output_cell(\"<div id='\" + id + \"'></div>\");\n",
       "    if (!fig.cell_info) {\n",
       "        console.error('Failed to find cell for figure', id, fig);\n",
       "        return;\n",
       "    }\n",
       "    fig.cell_info[0].output_area.element.on(\n",
       "        'cleared',\n",
       "        { fig: fig },\n",
       "        fig._remove_fig_handler\n",
       "    );\n",
       "};\n",
       "\n",
       "mpl.figure.prototype.handle_close = function (fig, msg) {\n",
       "    var width = fig.canvas.width / fig.ratio;\n",
       "    fig.cell_info[0].output_area.element.off(\n",
       "        'cleared',\n",
       "        fig._remove_fig_handler\n",
       "    );\n",
       "    fig.resizeObserverInstance.unobserve(fig.canvas_div);\n",
       "\n",
       "    // Update the output cell to use the data from the current canvas.\n",
       "    fig.push_to_output();\n",
       "    var dataURL = fig.canvas.toDataURL();\n",
       "    // Re-enable the keyboard manager in IPython - without this line, in FF,\n",
       "    // the notebook keyboard shortcuts fail.\n",
       "    IPython.keyboard_manager.enable();\n",
       "    fig.parent_element.innerHTML =\n",
       "        '<img src=\"' + dataURL + '\" width=\"' + width + '\">';\n",
       "    fig.close_ws(fig, msg);\n",
       "};\n",
       "\n",
       "mpl.figure.prototype.close_ws = function (fig, msg) {\n",
       "    fig.send_message('closing', msg);\n",
       "    // fig.ws.close()\n",
       "};\n",
       "\n",
       "mpl.figure.prototype.push_to_output = function (_remove_interactive) {\n",
       "    // Turn the data on the canvas into data in the output cell.\n",
       "    var width = this.canvas.width / this.ratio;\n",
       "    var dataURL = this.canvas.toDataURL();\n",
       "    this.cell_info[1]['text/html'] =\n",
       "        '<img src=\"' + dataURL + '\" width=\"' + width + '\">';\n",
       "};\n",
       "\n",
       "mpl.figure.prototype.updated_canvas_event = function () {\n",
       "    // Tell IPython that the notebook contents must change.\n",
       "    IPython.notebook.set_dirty(true);\n",
       "    this.send_message('ack', {});\n",
       "    var fig = this;\n",
       "    // Wait a second, then push the new image to the DOM so\n",
       "    // that it is saved nicely (might be nice to debounce this).\n",
       "    setTimeout(function () {\n",
       "        fig.push_to_output();\n",
       "    }, 1000);\n",
       "};\n",
       "\n",
       "mpl.figure.prototype._init_toolbar = function () {\n",
       "    var fig = this;\n",
       "\n",
       "    var toolbar = document.createElement('div');\n",
       "    toolbar.classList = 'btn-toolbar';\n",
       "    this.root.appendChild(toolbar);\n",
       "\n",
       "    function on_click_closure(name) {\n",
       "        return function (_event) {\n",
       "            return fig.toolbar_button_onclick(name);\n",
       "        };\n",
       "    }\n",
       "\n",
       "    function on_mouseover_closure(tooltip) {\n",
       "        return function (event) {\n",
       "            if (!event.currentTarget.disabled) {\n",
       "                return fig.toolbar_button_onmouseover(tooltip);\n",
       "            }\n",
       "        };\n",
       "    }\n",
       "\n",
       "    fig.buttons = {};\n",
       "    var buttonGroup = document.createElement('div');\n",
       "    buttonGroup.classList = 'btn-group';\n",
       "    var button;\n",
       "    for (var toolbar_ind in mpl.toolbar_items) {\n",
       "        var name = mpl.toolbar_items[toolbar_ind][0];\n",
       "        var tooltip = mpl.toolbar_items[toolbar_ind][1];\n",
       "        var image = mpl.toolbar_items[toolbar_ind][2];\n",
       "        var method_name = mpl.toolbar_items[toolbar_ind][3];\n",
       "\n",
       "        if (!name) {\n",
       "            /* Instead of a spacer, we start a new button group. */\n",
       "            if (buttonGroup.hasChildNodes()) {\n",
       "                toolbar.appendChild(buttonGroup);\n",
       "            }\n",
       "            buttonGroup = document.createElement('div');\n",
       "            buttonGroup.classList = 'btn-group';\n",
       "            continue;\n",
       "        }\n",
       "\n",
       "        button = fig.buttons[name] = document.createElement('button');\n",
       "        button.classList = 'btn btn-default';\n",
       "        button.href = '#';\n",
       "        button.title = name;\n",
       "        button.innerHTML = '<i class=\"fa ' + image + ' fa-lg\"></i>';\n",
       "        button.addEventListener('click', on_click_closure(method_name));\n",
       "        button.addEventListener('mouseover', on_mouseover_closure(tooltip));\n",
       "        buttonGroup.appendChild(button);\n",
       "    }\n",
       "\n",
       "    if (buttonGroup.hasChildNodes()) {\n",
       "        toolbar.appendChild(buttonGroup);\n",
       "    }\n",
       "\n",
       "    // Add the status bar.\n",
       "    var status_bar = document.createElement('span');\n",
       "    status_bar.classList = 'mpl-message pull-right';\n",
       "    toolbar.appendChild(status_bar);\n",
       "    this.message = status_bar;\n",
       "\n",
       "    // Add the close button to the window.\n",
       "    var buttongrp = document.createElement('div');\n",
       "    buttongrp.classList = 'btn-group inline pull-right';\n",
       "    button = document.createElement('button');\n",
       "    button.classList = 'btn btn-mini btn-primary';\n",
       "    button.href = '#';\n",
       "    button.title = 'Stop Interaction';\n",
       "    button.innerHTML = '<i class=\"fa fa-power-off icon-remove icon-large\"></i>';\n",
       "    button.addEventListener('click', function (_evt) {\n",
       "        fig.handle_close(fig, {});\n",
       "    });\n",
       "    button.addEventListener(\n",
       "        'mouseover',\n",
       "        on_mouseover_closure('Stop Interaction')\n",
       "    );\n",
       "    buttongrp.appendChild(button);\n",
       "    var titlebar = this.root.querySelector('.ui-dialog-titlebar');\n",
       "    titlebar.insertBefore(buttongrp, titlebar.firstChild);\n",
       "};\n",
       "\n",
       "mpl.figure.prototype._remove_fig_handler = function (event) {\n",
       "    var fig = event.data.fig;\n",
       "    if (event.target !== this) {\n",
       "        // Ignore bubbled events from children.\n",
       "        return;\n",
       "    }\n",
       "    fig.close_ws(fig, {});\n",
       "};\n",
       "\n",
       "mpl.figure.prototype._root_extra_style = function (el) {\n",
       "    el.style.boxSizing = 'content-box'; // override notebook setting of border-box.\n",
       "};\n",
       "\n",
       "mpl.figure.prototype._canvas_extra_style = function (el) {\n",
       "    // this is important to make the div 'focusable\n",
       "    el.setAttribute('tabindex', 0);\n",
       "    // reach out to IPython and tell the keyboard manager to turn it's self\n",
       "    // off when our div gets focus\n",
       "\n",
       "    // location in version 3\n",
       "    if (IPython.notebook.keyboard_manager) {\n",
       "        IPython.notebook.keyboard_manager.register_events(el);\n",
       "    } else {\n",
       "        // location in version 2\n",
       "        IPython.keyboard_manager.register_events(el);\n",
       "    }\n",
       "};\n",
       "\n",
       "mpl.figure.prototype._key_event_extra = function (event, _name) {\n",
       "    var manager = IPython.notebook.keyboard_manager;\n",
       "    if (!manager) {\n",
       "        manager = IPython.keyboard_manager;\n",
       "    }\n",
       "\n",
       "    // Check for shift+enter\n",
       "    if (event.shiftKey && event.which === 13) {\n",
       "        this.canvas_div.blur();\n",
       "        // select the cell after this one\n",
       "        var index = IPython.notebook.find_cell_index(this.cell_info[0]);\n",
       "        IPython.notebook.select(index + 1);\n",
       "    }\n",
       "};\n",
       "\n",
       "mpl.figure.prototype.handle_save = function (fig, _msg) {\n",
       "    fig.ondownload(fig, null);\n",
       "};\n",
       "\n",
       "mpl.find_output_cell = function (html_output) {\n",
       "    // Return the cell and output element which can be found *uniquely* in the notebook.\n",
       "    // Note - this is a bit hacky, but it is done because the \"notebook_saving.Notebook\"\n",
       "    // IPython event is triggered only after the cells have been serialised, which for\n",
       "    // our purposes (turning an active figure into a static one), is too late.\n",
       "    var cells = IPython.notebook.get_cells();\n",
       "    var ncells = cells.length;\n",
       "    for (var i = 0; i < ncells; i++) {\n",
       "        var cell = cells[i];\n",
       "        if (cell.cell_type === 'code') {\n",
       "            for (var j = 0; j < cell.output_area.outputs.length; j++) {\n",
       "                var data = cell.output_area.outputs[j];\n",
       "                if (data.data) {\n",
       "                    // IPython >= 3 moved mimebundle to data attribute of output\n",
       "                    data = data.data;\n",
       "                }\n",
       "                if (data['text/html'] === html_output) {\n",
       "                    return [cell, data, j];\n",
       "                }\n",
       "            }\n",
       "        }\n",
       "    }\n",
       "};\n",
       "\n",
       "// Register the function which deals with the matplotlib target/channel.\n",
       "// The kernel may be null if the page has been refreshed.\n",
       "if (IPython.notebook.kernel !== null) {\n",
       "    IPython.notebook.kernel.comm_manager.register_target(\n",
       "        'matplotlib',\n",
       "        mpl.mpl_figure_comm\n",
       "    );\n",
       "}\n"
      ],
      "text/plain": [
       "<IPython.core.display.Javascript object>"
      ]
     },
     "metadata": {},
     "output_type": "display_data"
    },
    {
     "data": {
      "text/html": [
       "<img src=\"data:image/png;base64,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\" width=\"1200\">"
      ],
      "text/plain": [
       "<IPython.core.display.HTML object>"
      ]
     },
     "metadata": {},
     "output_type": "display_data"
    },
    {
     "name": "stdout",
     "output_type": "stream",
     "text": [
      "Train - Iteration:  12 (40): loss =  2.306"
     ]
    },
    {
     "ename": "KeyboardInterrupt",
     "evalue": "",
     "output_type": "error",
     "traceback": [
      "\u001b[1;31m---------------------------------------------------------------------------\u001b[0m",
      "\u001b[1;31mKeyboardInterrupt\u001b[0m                         Traceback (most recent call last)",
      "\u001b[1;32m<ipython-input-73-8c6bf8d2887e>\u001b[0m in \u001b[0;36m<module>\u001b[1;34m\u001b[0m\n\u001b[0;32m      7\u001b[0m \u001b[0moOptim\u001b[0m     \u001b[1;33m=\u001b[0m \u001b[0moptim\u001b[0m\u001b[1;33m.\u001b[0m\u001b[0mAdamW\u001b[0m\u001b[1;33m(\u001b[0m\u001b[0moModel\u001b[0m\u001b[1;33m.\u001b[0m\u001b[0mparameters\u001b[0m\u001b[1;33m(\u001b[0m\u001b[1;33m)\u001b[0m\u001b[1;33m,\u001b[0m \u001b[0mlr\u001b[0m\u001b[1;33m=\u001b[0m\u001b[1;36m0\u001b[0m\u001b[1;33m,\u001b[0m \u001b[0mbetas\u001b[0m\u001b[1;33m=\u001b[0m\u001b[1;33m(\u001b[0m\u001b[1;36m0.9\u001b[0m\u001b[1;33m,\u001b[0m \u001b[1;36m0.99\u001b[0m\u001b[1;33m)\u001b[0m\u001b[1;33m,\u001b[0m \u001b[0mweight_decay\u001b[0m\u001b[1;33m=\u001b[0m\u001b[1;36m4e-3\u001b[0m\u001b[1;33m)\u001b[0m\u001b[1;33m\u001b[0m\u001b[1;33m\u001b[0m\u001b[0m\n\u001b[0;32m      8\u001b[0m \u001b[0moScheduler\u001b[0m \u001b[1;33m=\u001b[0m \u001b[0mOneCycleLR\u001b[0m \u001b[1;33m(\u001b[0m\u001b[0moOptim\u001b[0m\u001b[1;33m,\u001b[0m \u001b[0mmax_lr\u001b[0m\u001b[1;33m=\u001b[0m\u001b[1;36m5e-4\u001b[0m\u001b[1;33m,\u001b[0m \u001b[0mtotal_steps\u001b[0m\u001b[1;33m=\u001b[0m\u001b[0mnIter\u001b[0m\u001b[1;33m)\u001b[0m\u001b[1;33m\u001b[0m\u001b[1;33m\u001b[0m\u001b[0m\n\u001b[1;32m----> 9\u001b[1;33m \u001b[0mlHistory\u001b[0m   \u001b[1;33m=\u001b[0m \u001b[0mTrainModel\u001b[0m \u001b[1;33m(\u001b[0m\u001b[0moModel\u001b[0m\u001b[1;33m,\u001b[0m \u001b[0moTrainDL\u001b[0m\u001b[1;33m,\u001b[0m \u001b[0moTestDL\u001b[0m\u001b[1;33m,\u001b[0m \u001b[0mLoss\u001b[0m\u001b[1;33m,\u001b[0m \u001b[0mMetric\u001b[0m\u001b[1;33m,\u001b[0m \u001b[0mnEpochs\u001b[0m\u001b[1;33m,\u001b[0m \u001b[0moOptim\u001b[0m\u001b[1;33m,\u001b[0m \u001b[0moScheduler\u001b[0m\u001b[1;33m,\u001b[0m \u001b[0msModelName\u001b[0m\u001b[1;33m=\u001b[0m\u001b[1;34m'AnochorModelParams'\u001b[0m\u001b[1;33m)\u001b[0m\u001b[1;33m\u001b[0m\u001b[1;33m\u001b[0m\u001b[0m\n\u001b[0m",
      "\u001b[1;32m<ipython-input-72-e5c5844aa26c>\u001b[0m in \u001b[0;36mTrainModel\u001b[1;34m(oModel, oTrainData, oValData, Loss, Metric, nEpochs, oOptim, oScheduler, sModelName)\u001b[0m\n\u001b[0;32m     13\u001b[0m     \u001b[1;32mfor\u001b[0m \u001b[0mepoch\u001b[0m \u001b[1;32min\u001b[0m \u001b[0mrange\u001b[0m\u001b[1;33m(\u001b[0m\u001b[0mnEpochs\u001b[0m\u001b[1;33m)\u001b[0m\u001b[1;33m:\u001b[0m\u001b[1;33m\u001b[0m\u001b[1;33m\u001b[0m\u001b[0m\n\u001b[0;32m     14\u001b[0m         \u001b[0mstartTime\u001b[0m               \u001b[1;33m=\u001b[0m \u001b[0mtime\u001b[0m\u001b[1;33m.\u001b[0m\u001b[0mtime\u001b[0m\u001b[1;33m(\u001b[0m\u001b[1;33m)\u001b[0m\u001b[1;33m\u001b[0m\u001b[1;33m\u001b[0m\u001b[0m\n\u001b[1;32m---> 15\u001b[1;33m         \u001b[0mmHistory\u001b[0m\u001b[1;33m[\u001b[0m\u001b[0mTRAIN\u001b[0m\u001b[1;33m,\u001b[0m\u001b[1;33m:\u001b[0m\u001b[1;33m,\u001b[0m\u001b[0mepoch\u001b[0m\u001b[1;33m]\u001b[0m \u001b[1;33m=\u001b[0m \u001b[0mEpoch\u001b[0m\u001b[1;33m(\u001b[0m\u001b[0moModel\u001b[0m\u001b[1;33m,\u001b[0m \u001b[0moTrainData\u001b[0m\u001b[1;33m,\u001b[0m \u001b[0mLoss\u001b[0m\u001b[1;33m,\u001b[0m \u001b[0mMetric\u001b[0m\u001b[1;33m,\u001b[0m \u001b[0moOptim\u001b[0m\u001b[1;33m,\u001b[0m \u001b[0moScheduler\u001b[0m\u001b[1;33m,\u001b[0m \u001b[0mbTrain\u001b[0m\u001b[1;33m=\u001b[0m\u001b[1;32mTrue\u001b[0m \u001b[1;33m)\u001b[0m \u001b[1;31m#-- train\u001b[0m\u001b[1;33m\u001b[0m\u001b[1;33m\u001b[0m\u001b[0m\n\u001b[0m\u001b[0;32m     16\u001b[0m         \u001b[0mmHistory\u001b[0m\u001b[1;33m[\u001b[0m\u001b[0mVAL\u001b[0m\u001b[1;33m,\u001b[0m  \u001b[1;33m:\u001b[0m\u001b[1;33m,\u001b[0m\u001b[0mepoch\u001b[0m\u001b[1;33m]\u001b[0m \u001b[1;33m=\u001b[0m \u001b[0mEpoch\u001b[0m\u001b[1;33m(\u001b[0m\u001b[0moModel\u001b[0m\u001b[1;33m,\u001b[0m \u001b[0moValData\u001b[0m\u001b[1;33m,\u001b[0m   \u001b[0mLoss\u001b[0m\u001b[1;33m,\u001b[0m \u001b[0mMetric\u001b[0m\u001b[1;33m,\u001b[0m                     \u001b[0mbTrain\u001b[0m\u001b[1;33m=\u001b[0m\u001b[1;32mFalse\u001b[0m\u001b[1;33m)\u001b[0m \u001b[1;31m#-- validate\u001b[0m\u001b[1;33m\u001b[0m\u001b[1;33m\u001b[0m\u001b[0m\n\u001b[0;32m     17\u001b[0m         \u001b[0mepochTime\u001b[0m               \u001b[1;33m=\u001b[0m \u001b[0mtime\u001b[0m\u001b[1;33m.\u001b[0m\u001b[0mtime\u001b[0m\u001b[1;33m(\u001b[0m\u001b[1;33m)\u001b[0m \u001b[1;33m-\u001b[0m \u001b[0mstartTime\u001b[0m\u001b[1;33m\u001b[0m\u001b[1;33m\u001b[0m\u001b[0m\n",
      "\u001b[1;32m<ipython-input-69-c6fccd16eed8>\u001b[0m in \u001b[0;36mEpoch\u001b[1;34m(oModel, oDataDL, Loss, Metric, oOptim, oScheduler, bTrain)\u001b[0m\n\u001b[0;32m     34\u001b[0m         \u001b[1;32mwith\u001b[0m \u001b[0mtorch\u001b[0m\u001b[1;33m.\u001b[0m\u001b[0mno_grad\u001b[0m\u001b[1;33m(\u001b[0m\u001b[1;33m)\u001b[0m\u001b[1;33m:\u001b[0m\u001b[1;33m\u001b[0m\u001b[1;33m\u001b[0m\u001b[0m\n\u001b[0;32m     35\u001b[0m             \u001b[0mNb\u001b[0m           \u001b[1;33m=\u001b[0m \u001b[0mmX\u001b[0m\u001b[1;33m.\u001b[0m\u001b[0mshape\u001b[0m\u001b[1;33m[\u001b[0m\u001b[1;36m0\u001b[0m\u001b[1;33m]\u001b[0m\u001b[1;33m\u001b[0m\u001b[1;33m\u001b[0m\u001b[0m\n\u001b[1;32m---> 36\u001b[1;33m             \u001b[0mvIterStats\u001b[0m   \u001b[1;33m=\u001b[0m \u001b[0mnp\u001b[0m\u001b[1;33m.\u001b[0m\u001b[0marray\u001b[0m\u001b[1;33m(\u001b[0m\u001b[1;33m[\u001b[0m\u001b[0mloss\u001b[0m\u001b[1;33m.\u001b[0m\u001b[0mitem\u001b[0m\u001b[1;33m(\u001b[0m\u001b[1;33m)\u001b[0m\u001b[1;33m,\u001b[0m \u001b[0mBCE\u001b[0m\u001b[1;33m,\u001b[0m \u001b[0mCE\u001b[0m\u001b[1;33m,\u001b[0m \u001b[0mMSE\u001b[0m\u001b[1;33m,\u001b[0m \u001b[1;33m-\u001b[0m\u001b[0mloss\u001b[0m\u001b[1;33m.\u001b[0m\u001b[0mitem\u001b[0m\u001b[1;33m(\u001b[0m\u001b[1;33m)\u001b[0m\u001b[1;33m]\u001b[0m\u001b[1;33m)\u001b[0m\u001b[1;33m\u001b[0m\u001b[1;33m\u001b[0m\u001b[0m\n\u001b[0m\u001b[0;32m     37\u001b[0m             \u001b[0mvEpochStats\u001b[0m \u001b[1;33m+=\u001b[0m \u001b[0mNb\u001b[0m \u001b[1;33m*\u001b[0m \u001b[0mvIterStats\u001b[0m\u001b[1;33m\u001b[0m\u001b[1;33m\u001b[0m\u001b[0m\n\u001b[0;32m     38\u001b[0m             \u001b[0mcount\u001b[0m       \u001b[1;33m+=\u001b[0m \u001b[0mNb\u001b[0m\u001b[1;33m\u001b[0m\u001b[1;33m\u001b[0m\u001b[0m\n",
      "\u001b[1;31mKeyboardInterrupt\u001b[0m: "
     ]
    }
   ],
   "source": [
    "%matplotlib notebook\n",
    "\n",
    "nEpochs    = 100\n",
    "nIter      = nEpochs * len(oTrainDL)\n",
    "\n",
    "oModel     = Model      (B).to(DEVICE)\n",
    "oOptim     = optim.AdamW(oModel.parameters(), lr=0, betas=(0.9, 0.99), weight_decay=4e-3)\n",
    "oScheduler = OneCycleLR (oOptim, max_lr=5e-4, total_steps=nIter)\n",
    "lHistory   = TrainModel (oModel, oTrainDL, oTestDL, Loss, Metric, nEpochs, oOptim, oScheduler, sModelName='AnochorModelParams')"
   ]
  },
  {
   "cell_type": "code",
   "execution_count": 74,
   "id": "aa24f0d6",
   "metadata": {
    "ExecuteTime": {
     "end_time": "2021-11-14T18:15:50.356933Z",
     "start_time": "2021-11-14T18:15:50.283459Z"
    }
   },
   "outputs": [],
   "source": [
    "#-- Load best model (early stopping):\n",
    "# oModel.load_state_dict(torch.load('./AnchorModel_v1.pt'))\n",
    "# oModel.train(False);"
   ]
  },
  {
   "cell_type": "markdown",
   "id": "e16444d2",
   "metadata": {
    "ExecuteTime": {
     "end_time": "2021-11-11T10:51:05.303173Z",
     "start_time": "2021-11-11T10:51:05.249124Z"
    }
   },
   "source": [
    "#### Output to target:\n",
    "* Apply `sigmoid` on detection probability.  \n",
    "* Apply `argmax` on classification."
   ]
  },
  {
   "cell_type": "code",
   "execution_count": 76,
   "id": "3695c37e-289d-4484-87ca-250e8dae027c",
   "metadata": {
    "ExecuteTime": {
     "end_time": "2021-11-14T18:16:43.150456Z",
     "start_time": "2021-11-14T18:16:43.096408Z"
    }
   },
   "outputs": [],
   "source": [
    "def Output2Target(mOutput):\n",
    "    #-- mOutput.shape          = (N, B, 8, 5, 5)\n",
    "    #-- mOutput[ii,bb,:,jj,kk] = [p | x, y, log(W), log(H) | R, G, B]\n",
    "    \n",
    "    mProb  = torch.sigmoid(mOutput[:,:,[0],:,:])\n",
    "    mBBox  =               mOutput[:,:,1:5,:,:]\n",
    "    mLabel = torch.argmax (mOutput[:,:,5:, :,:], dim=2, keepdims=True)\n",
    "    \n",
    "    mTarget = torch.cat([mProb, mBBox, mLabel], dim=2)\n",
    "    return mTarget"
   ]
  },
  {
   "cell_type": "markdown",
   "id": "e26b1c1d",
   "metadata": {},
   "source": [
    "#### Target to BBox:\n",
    "* Transform each cell in the target grid ($S \\times S$) into a BBox.\n",
    "* Scale back the XYWH position of the BBox\n",
    "* Apply `exp_` to the width and height."
   ]
  },
  {
   "cell_type": "code",
   "execution_count": 77,
   "id": "e3953221-14d2-43af-84d2-3ba85e0f597b",
   "metadata": {
    "ExecuteTime": {
     "end_time": "2021-11-14T18:17:35.029654Z",
     "start_time": "2021-11-14T18:17:34.943573Z"
    }
   },
   "outputs": [],
   "source": [
    "def Target2BBox(mTarget):\n",
    "    '''\n",
    "    * Input:\n",
    "        - mTarget.shape          = (N, B, 6, S, S)\n",
    "        - mTarget[ii,bb,:,jj,kk] = [p | x, y, log(W), log(H) | cIdx]\n",
    "    * Output:\n",
    "        - mBBox.shape    = (N, B*S*S, 6)\n",
    "        - mBBox[ii,jj,:] = [p | cIdx | x, y, W, H]\n",
    "    '''\n",
    "    v       = torch.arange(GRID_SIZE, device=mTarget.device)\n",
    "    XX, YY  = torch.meshgrid(v, v, indexing='xy')\n",
    "    \n",
    "    mProb  = mTarget[:,:,[0],:,:]\n",
    "    mXYWH  = mTarget[:,:,1:5,:,:].clone()\n",
    "    mLabel = mTarget[:,:,[5],:,:]\n",
    "    \n",
    "    mXYWH[:,:,0,  :,:] += XX[None,None,:,:]\n",
    "    mXYWH[:,:,1,  :,:] += YY[None,None,:,:]\n",
    "    mXYWH[:,:,2:4,:,:].exp_()\n",
    "    mXYWH              /= GRID_SIZE\n",
    "    \n",
    "    B     = mTarget.shape[1]\n",
    "    mBBox = torch.cat([mProb, mLabel, mXYWH], dim=2)                  #-- mBBox.shape = (N, B, 6, 5, 5)\n",
    "    mBBox = mBBox.permute(0,1,3,4,2).reshape(-1, B * GRID_SIZE**2, 6) #-- mBBox.shape = (N, B*25, 6)\n",
    "        \n",
    "    return mBBox"
   ]
  },
  {
   "cell_type": "markdown",
   "id": "beaf255f",
   "metadata": {},
   "source": [
    "#### Test model:"
   ]
  },
  {
   "cell_type": "code",
   "execution_count": 78,
   "id": "75b314c4",
   "metadata": {
    "ExecuteTime": {
     "end_time": "2021-11-14T18:17:40.796733Z",
     "start_time": "2021-11-14T18:17:40.511016Z"
    },
    "tags": []
   },
   "outputs": [
    {
     "data": {
      "image/png": "[encoded data removed]",
      "text/plain": [
       "<Figure size 432x432 with 1 Axes>"
      ]
     },
     "metadata": {
      "needs_background": "light"
     },
     "output_type": "display_data"
    }
   ],
   "source": [
    "#%matplotlib inline\n",
    "\n",
    "mXi, mBBox, mTarget = oTestSet[np.random.randint(nTest)]\n",
    "with torch.no_grad():\n",
    "    mOutput = oModel(mXi[None].to(DEVICE))\n",
    "\n",
    "mTargetPred = Output2Target(mOutput)\n",
    "mBBoxPred   = Target2BBox  (mTargetPred).cpu()[0]\n",
    "vIdx        = mBBoxPred[:,0] > 0.5 #-- take only prediciton with prob > 0.5\n",
    "\n",
    "PlotImage(mXi, mBBoxPred[vIdx], vLabels=LABELS, lColors=np.eye(3))\n",
    "plt.show ()"
   ]
  },
  {
   "cell_type": "markdown",
   "id": "08c2d473-7f89-498f-bda7-48be4063b722",
   "metadata": {},
   "source": [
    "#### Test two objects in the same cell:"
   ]
  },
  {
   "cell_type": "code",
   "execution_count": 80,
   "id": "2e43b502-04b2-4515-bfd4-2a5bea912330",
   "metadata": {
    "ExecuteTime": {
     "end_time": "2021-11-14T18:17:56.572641Z",
     "start_time": "2021-11-14T18:17:56.437518Z"
    }
   },
   "outputs": [
    {
     "data": {
      "image/png": "[encoded data removed]",
      "text/plain": [
       "<Figure size 432x432 with 1 Axes>"
      ]
     },
     "metadata": {
      "needs_background": "light"
     },
     "output_type": "display_data"
    }
   ],
   "source": [
    "from DeepLearningFramework.AnchorsUtils import CreateImage\n",
    "\n",
    "mXi, mBBox = CreateImage(IMAGE_SIZE, np.array([.5, .55]), [.5, .5], [.3, .1], [.1, .3], [0, 1])\n",
    "\n",
    "with torch.no_grad():\n",
    "    mOutput = oModel(mXi[None].to(DEVICE))\n",
    "\n",
    "mTargetPred = Output2Target(mOutput)\n",
    "mBBoxPred   = Target2BBox  (mTargetPred).cpu()[0]\n",
    "vIdx        = mBBoxPred[:,0] > 0.5\n",
    "\n",
    "PlotImage(mXi, mBBoxPred[vIdx], vLabels=LABELS, lColors=np.eye(3))\n",
    "plt.show ()"
   ]
  },
  {
   "cell_type": "markdown",
   "id": "1def895b",
   "metadata": {},
   "source": [
    "#### View all predictions:"
   ]
  },
  {
   "cell_type": "code",
   "execution_count": 91,
   "id": "ad66416e-6ecb-4223-a449-e0bdfdd039dc",
   "metadata": {
    "ExecuteTime": {
     "end_time": "2021-11-14T18:19:27.612418Z",
     "start_time": "2021-11-14T18:19:27.284549Z"
    }
   },
   "outputs": [
    {
     "data": {
      "image/png": "[encoded data removed]",
      "text/plain": [
       "<Figure size 432x432 with 1 Axes>"
      ]
     },
     "metadata": {
      "needs_background": "light"
     },
     "output_type": "display_data"
    }
   ],
   "source": [
    "mXi, mBBox, mTarget = oTestSet[np.random.randint(nTest)]\n",
    "\n",
    "with torch.no_grad():\n",
    "    mOutput = oModel(mXi[None].to(DEVICE))\n",
    "    \n",
    "mTargetPred = Output2Target(mOutput)\n",
    "mBBoxPred   = Target2BBox  (mTargetPred).cpu()[0]\n",
    "\n",
    "PlotImage(mXi, mBBoxPred, vLabels=LABELS, lColors=np.eye(3))\n",
    "plt.show ()"
   ]
  },
  {
   "cell_type": "markdown",
   "id": "cbfa5583",
   "metadata": {},
   "source": [
    "### NMS:"
   ]
  },
  {
   "cell_type": "code",
   "execution_count": 92,
   "id": "ec198d60",
   "metadata": {
    "ExecuteTime": {
     "end_time": "2021-11-14T18:19:28.449280Z",
     "start_time": "2021-11-14T18:19:28.389233Z"
    }
   },
   "outputs": [],
   "source": [
    "def NMS(mBBox, IoUThreshold=0.5, pThreshold=0.1):\n",
    "    #-- mBBox.shape    = (N, D, 6)\n",
    "    #-- mBBox[ii,jj,:] = [prob | cIdx | x, y, W, H]\n",
    "    mBBoxCPU = mBBox.cpu() #-- GPU is slower\n",
    "    N        = mBBox.shape[0]\n",
    "    lBBox    = [torch.empty(0, 6)] * N\n",
    "    for ii in range(N):\n",
    "        vIdx = mBBoxCPU[ii,:,0] > pThreshold\n",
    "        if torch.any(vIdx):\n",
    "            mBBc      = mBBoxCPU[ii,vIdx]\n",
    "            vIdx      = ops.batched_nms(ops.box_convert(mBBc[:,2:], 'cxcywh', 'xyxy'), mBBc[:,0], mBBc[:,1], IoUThreshold)\n",
    "            lBBox[ii] = mBBc[vIdx]\n",
    "\n",
    "    return lBBox"
   ]
  },
  {
   "cell_type": "code",
   "execution_count": 93,
   "id": "1e405f2a",
   "metadata": {
    "ExecuteTime": {
     "end_time": "2021-11-14T18:19:29.103080Z",
     "start_time": "2021-11-14T18:19:28.845847Z"
    }
   },
   "outputs": [
    {
     "data": {
      "image/png": "[encoded data removed]",
      "text/plain": [
       "<Figure size 432x432 with 1 Axes>"
      ]
     },
     "metadata": {
      "needs_background": "light"
     },
     "output_type": "display_data"
    }
   ],
   "source": [
    "mNMS = NMS(mBBoxPred[None], 0.5, 0.25)[0]\n",
    "\n",
    "PlotImage(mXi, mNMS, vLabels=LABELS, lColors=np.eye(3))\n",
    "plt.show ()"
   ]
  },
  {
   "cell_type": "code",
   "execution_count": null,
   "id": "caf91ea3",
   "metadata": {},
   "outputs": [],
   "source": []
  },
  {
   "cell_type": "code",
   "execution_count": null,
   "id": "79f1dcba",
   "metadata": {},
   "outputs": [],
   "source": []
  },
  {
   "cell_type": "code",
   "execution_count": null,
   "id": "f06884a9",
   "metadata": {},
   "outputs": [],
   "source": []
  },
  {
   "cell_type": "code",
   "execution_count": null,
   "id": "00850316",
   "metadata": {},
   "outputs": [],
   "source": []
  },
  {
   "cell_type": "code",
   "execution_count": null,
   "id": "ab7e8eff",
   "metadata": {},
   "outputs": [],
   "source": []
  },
  {
   "cell_type": "code",
   "execution_count": null,
   "id": "52366d30",
   "metadata": {},
   "outputs": [],
   "source": []
  },
  {
   "cell_type": "code",
   "execution_count": 84,
   "id": "cb0e619c",
   "metadata": {
    "ExecuteTime": {
     "end_time": "2021-11-14T18:18:18.329392Z",
     "start_time": "2021-11-14T18:18:18.277353Z"
    }
   },
   "outputs": [],
   "source": [
    "def CatWithIndex(lX):\n",
    "    vLen         = torch.tensor([mX.shape[0] for mX in lX])\n",
    "    vPos         = torch.cumsum(vLen, dim=0)\n",
    "    L            = vPos[-1] #-- vLen.sum()\n",
    "    vDelta       = torch.zeros(L + 1)\n",
    "    vDelta[vPos] = 1\n",
    "    vIdxZero     = torch.where(vLen == 0)\n",
    "    for idx in vIdxZero:\n",
    "        vDelta[vPos[idx]] += 1\n",
    "\n",
    "    vIdx = torch.cumsum(vDelta[:-1], dim=0)\n",
    "    mX   = torch.cat   (lX)\n",
    "\n",
    "    return mX, vIdx"
   ]
  },
  {
   "cell_type": "code",
   "execution_count": null,
   "id": "8b755017",
   "metadata": {
    "ExecuteTime": {
     "end_time": "2021-11-11T20:39:31.303115Z",
     "start_time": "2021-11-11T20:37:53.557Z"
    }
   },
   "outputs": [],
   "source": [
    "a, b = torch.randn(10, 20).max(dim=0)\n",
    "b.shape"
   ]
  },
  {
   "cell_type": "code",
   "execution_count": null,
   "id": "49fc8571",
   "metadata": {
    "ExecuteTime": {
     "end_time": "2021-11-11T20:39:31.303115Z",
     "start_time": "2021-11-11T20:37:53.557Z"
    }
   },
   "outputs": [],
   "source": [
    "mNMS.shape"
   ]
  },
  {
   "cell_type": "code",
   "execution_count": null,
   "id": "8bb448f6",
   "metadata": {
    "ExecuteTime": {
     "end_time": "2021-11-11T20:39:31.304116Z",
     "start_time": "2021-11-11T20:37:53.558Z"
    }
   },
   "outputs": [],
   "source": [
    "mBBox, vImageIdx  = CatWithIndex(lBBox_)\n",
    "mNMS,  vImageIdx2 = CatWithIndex(lNMS_ )\n",
    "\n",
    "mBBox      = mBBox     .to(DEVICE)\n",
    "mNMS       = mNMS      .to(DEVICE)\n",
    "vImageIdx  = vImageIdx .to(DEVICE)\n",
    "vImageIdx2 = vImageIdx2.to(DEVICE)\n",
    "\n",
    "vIdx       = torch.argsort(mNMS[:,0], descending=True)\n",
    "mNMS       = mNMS      [vIdx]\n",
    "vImageIdx2 = vImageIdx2[vIdx]\n",
    "\n",
    "mIoU = ops.box_iou(\n",
    "    ops.box_convert(mNMS [:,2:], 'cxcywh', 'xyxy'),\n",
    "    ops.box_convert(mBBox[:,2:], 'cxcywh', 'xyxy')\n",
    ")\n",
    "#     if mIoU.shape[0] == 0:\n",
    "#         return 0\n",
    "\n",
    "mImageMask  = vImageIdx2[:,None] == vImageIdx[None,:]\n",
    "mLabelMask  = mNMS[:,[1]]        == mBBox[:,[1]].T\n",
    "mIoU       *= mImageMask & mLabelMask & (mIoU > 0.5) #-- (NMS, BBOX)\n",
    "\n",
    "vMax, vIdx  = torch.max(mIoU, dim=1)\n",
    "\n",
    "vIdx.shape"
   ]
  },
  {
   "cell_type": "code",
   "execution_count": null,
   "id": "dfc3b6cf",
   "metadata": {
    "ExecuteTime": {
     "end_time": "2021-11-11T20:39:31.305117Z",
     "start_time": "2021-11-11T20:37:53.558Z"
    }
   },
   "outputs": [],
   "source": [
    "def ComputeTable(lNMS, lBBox, nLabels):\n",
    "    #-- TODO len(lBBox)      = N\n",
    "    #-- TODO lBBox[ii].shape = (Di, 6)\n",
    "    #-- TODO lBBox[ii][jj,:] = [prob | cIdx | x, y, W, H]\n",
    "    #-- TODO Same for lBBoxPred\n",
    "    \n",
    "#     if len(lNMS) == 0:\n",
    "#         return 0\n",
    "    \n",
    "    mBBox, vImageIdx  = CatWithIndex(lBBox)\n",
    "    mNMS,  vImageIdx2 = CatWithIndex(lNMS )\n",
    "\n",
    "    mBBox      = mBBox     .to(DEVICE)\n",
    "    mNMS       = mNMS      .to(DEVICE)\n",
    "    vImageIdx  = vImageIdx .to(DEVICE)\n",
    "    vImageIdx2 = vImageIdx2.to(DEVICE)\n",
    "\n",
    "    mIoU = ops.box_iou(\n",
    "        ops.box_convert(mNMS [:,2:], 'cxcywh', 'xyxy'),\n",
    "        ops.box_convert(mBBox[:,2:], 'cxcywh', 'xyxy')\n",
    "    )\n",
    "#     if mIoU.shape[0] == 0:\n",
    "#         return 0\n",
    "    \n",
    "    mImageMask  = vImageIdx2[:,None] == vImageIdx[None,:]\n",
    "    mLabelMask  = mNMS[:,[1]]        == mBBox[:,[1]].T\n",
    "    mIoU       *= mImageMask & mLabelMask & (mIoU > 0.5) #-- (NMS, BBOX)\n",
    "\n",
    "    vMax, _         = torch.max  (mIoU, dim=1)\n",
    "    vTP             = torch.zeros(mNMS.shape[0], device=DEVICE)\n",
    "    vTP[vMax > 0.5] = 1\n",
    "    \n",
    "    mTable  = torch.cat([mNMS[:,:2], vTP[:,None]], dim=1)\n",
    "    v       = torch.arange(nLabels, device=DEVICE)\n",
    "    vCount  = (mBBox[:,[1]] == v[None,:]).sum(0)\n",
    "    \n",
    "    \n",
    "    return mTable, vCount"
   ]
  },
  {
   "cell_type": "code",
   "execution_count": null,
   "id": "5e6742f2",
   "metadata": {
    "ExecuteTime": {
     "end_time": "2021-11-11T20:39:31.305117Z",
     "start_time": "2021-11-11T20:37:53.559Z"
    }
   },
   "outputs": [],
   "source": [
    "a, b = ComputeTable(lNMS_, lBBox_, 3)\n",
    "a.shape, b, b.sum()"
   ]
  },
  {
   "cell_type": "code",
   "execution_count": null,
   "id": "612c66f5",
   "metadata": {
    "ExecuteTime": {
     "end_time": "2021-11-11T20:39:31.306118Z",
     "start_time": "2021-11-11T20:37:53.559Z"
    }
   },
   "outputs": [],
   "source": [
    "def ComputeMAP(mTable, vCount):\n",
    "    nLabels    = vCount.shape[0]\n",
    "    vIdx       = torch .argsort(mTable[:,0], descending=True)\n",
    "    mTable     = mTable[vIdx]\n",
    "        \n",
    "    lAP = []\n",
    "    for cc in range(nLabels):\n",
    "        if vCount[cc] == 0:\n",
    "            continue\n",
    "\n",
    "        vIdx  = mTable[:,1] == cc\n",
    "        vTPc  = mTable[vIdx,2]\n",
    "        nBBox = vTPc.shape[0]\n",
    "        \n",
    "        vCumsumTP  = torch.cumsum(vTPc, dim=0)\n",
    "        vPrecision = vCumsumTP / torch.arange(1, nBBox+1, device=DEVICE)\n",
    "        vRecall    = vCumsumTP / vCount[cc]\n",
    "        vPrecision = torch.cat([torch.tensor([1], device=DEVICE), vPrecision])\n",
    "        vRecall    = torch.cat([torch.tensor([0], device=DEVICE), vRecall   ])\n",
    "        # vAP[cc]    = torch.trapz(vPrecision, vRecall)\n",
    "        lAP       += [torch.trapz(vPrecision, vRecall)]\n",
    "        \n",
    "    # mAP = vAP.mean().item()\n",
    "    mAP = torch.tensor(lAP).mean().item()\n",
    "    \n",
    "    return mAP"
   ]
  },
  {
   "cell_type": "code",
   "execution_count": null,
   "id": "9acf5cab",
   "metadata": {
    "ExecuteTime": {
     "end_time": "2021-11-11T20:39:31.306118Z",
     "start_time": "2021-11-11T20:37:53.560Z"
    }
   },
   "outputs": [],
   "source": [
    "mTable, vCount = ComputeTable(lNMS_, lBBox_, 3)\n",
    "ComputeMAP(mTable, vCount)"
   ]
  },
  {
   "cell_type": "code",
   "execution_count": null,
   "id": "5953f203",
   "metadata": {
    "ExecuteTime": {
     "end_time": "2021-11-11T20:39:31.307118Z",
     "start_time": "2021-11-11T20:37:53.561Z"
    }
   },
   "outputs": [],
   "source": [
    "def ComputeMAP(lNMS, lBBox, nLabels):\n",
    "    #-- TODO len(lBBox)      = N\n",
    "    #-- TODO lBBox[ii].shape = (Di, 6)\n",
    "    #-- TODO lBBox[ii][jj,:] = [prob | cIdx | x, y, W, H]\n",
    "    #-- TODO Same for lBBoxPred\n",
    "    \n",
    "    if len(lNMS) == 0:\n",
    "        return 0\n",
    "    \n",
    "    mBBox, vImageIdx  = CatWithIndex(lBBox)\n",
    "    mNMS,  vImageIdx2 = CatWithIndex(lNMS )\n",
    "\n",
    "    mBBox      = mBBox     .to(DEVICE)\n",
    "    mNMS       = mNMS      .to(DEVICE)\n",
    "    vImageIdx  = vImageIdx .to(DEVICE)\n",
    "    vImageIdx2 = vImageIdx2.to(DEVICE)\n",
    "\n",
    "    vIdx       = torch.argsort(mNMS[:,0], descending=True)\n",
    "    mNMS       = mNMS      [vIdx]\n",
    "    vImageIdx2 = vImageIdx2[vIdx]\n",
    "\n",
    "    mIoU = ops.box_iou(\n",
    "        ops.box_convert(mNMS [:,2:], 'cxcywh', 'xyxy'),\n",
    "        ops.box_convert(mBBox[:,2:], 'cxcywh', 'xyxy')\n",
    "    )\n",
    "#     if mIoU.shape[0] == 0:\n",
    "#         return 0\n",
    "    \n",
    "    mImageMask  = vImageIdx2[:,None] == vImageIdx[None,:]\n",
    "    mLabelMask  = mNMS[:,[1]]        == mBBox[:,[1]].T\n",
    "    mIoU       *= mImageMask & mLabelMask & (mIoU > 0.5)\n",
    "\n",
    "    vMax, vIdx          = torch.max(mIoU, dim=0)\n",
    "    vTP                 = torch.zeros(mNMS.shape[0], device=DEVICE)\n",
    "    vTP[vIdx[vMax > 0]] = 1\n",
    "\n",
    "    # vAP = torch.empty(nLabels)\n",
    "    lAP = []\n",
    "    for cc in range(nLabels):\n",
    "        nObjects = (mBBox[:,1] == cc).long().sum()\n",
    "        if nObjects == 0:\n",
    "            continue\n",
    "\n",
    "        vIdx  = mNMS[:,1] == cc\n",
    "        vTPc  = vTP[vIdx]\n",
    "        nBBox = vTPc.shape[0]\n",
    "        \n",
    "        vCumsumTP  = torch.cumsum(vTPc, dim=0)\n",
    "        vPrecision = vCumsumTP / torch.arange(1, nBBox+1, device=DEVICE)\n",
    "        vRecall    = vCumsumTP / (mBBox[:,1] == cc).float().sum()\n",
    "        vPrecision = torch.cat([torch.tensor([1], device=DEVICE), vPrecision])\n",
    "        vRecall    = torch.cat([torch.tensor([0], device=DEVICE), vRecall   ])\n",
    "        # vAP[cc]    = torch.trapz(vPrecision, vRecall)\n",
    "        lAP       += [torch.trapz(vPrecision, vRecall)]\n",
    "        \n",
    "    # mAP = vAP.mean().item()\n",
    "    mAP = torch.tensor(lAP).mean().item()\n",
    "    \n",
    "    return mAP"
   ]
  },
  {
   "cell_type": "code",
   "execution_count": null,
   "id": "3e9cbdb8",
   "metadata": {
    "ExecuteTime": {
     "end_time": "2021-11-11T20:39:31.308119Z",
     "start_time": "2021-11-11T20:37:53.561Z"
    }
   },
   "outputs": [],
   "source": [
    "lBBox = []\n",
    "lNMS  = []\n",
    "mX, lBBox_, _ = next(iter(oTestDL))\n",
    "mX = mX.to(DEVICE)\n",
    "with torch.no_grad():\n",
    "    mOut = oModel(mX)\n",
    "mTargetPred = Output2Target(mOut)\n",
    "mBBoxPred   = Target2BBox  (mTargetPred)\n",
    "lNMS_       = NMS(mBBoxPred)\n",
    "\n",
    "lBBox += lBBox_\n",
    "lNMS  += lNMS_ "
   ]
  },
  {
   "cell_type": "code",
   "execution_count": null,
   "id": "64d96b8c",
   "metadata": {
    "ExecuteTime": {
     "end_time": "2021-11-11T20:39:31.308119Z",
     "start_time": "2021-11-11T20:37:53.562Z"
    }
   },
   "outputs": [],
   "source": [
    "ComputeMAP(lNMS, lBBox, 3)"
   ]
  },
  {
   "cell_type": "code",
   "execution_count": null,
   "id": "17da78c8",
   "metadata": {
    "ExecuteTime": {
     "end_time": "2021-11-11T20:39:31.309120Z",
     "start_time": "2021-11-11T20:37:53.563Z"
    }
   },
   "outputs": [],
   "source": [
    "mBBox, vImageIdx  = CatWithIndex(lBBox)\n",
    "mNMS,  vImageIdx2 = CatWithIndex(lNMS )"
   ]
  },
  {
   "cell_type": "code",
   "execution_count": null,
   "id": "5ff9fde9",
   "metadata": {
    "ExecuteTime": {
     "end_time": "2021-11-11T20:39:31.309120Z",
     "start_time": "2021-11-11T20:37:53.563Z"
    }
   },
   "outputs": [],
   "source": [
    "mBBox.shape"
   ]
  },
  {
   "cell_type": "code",
   "execution_count": null,
   "id": "b82636ea",
   "metadata": {},
   "outputs": [],
   "source": []
  },
  {
   "cell_type": "code",
   "execution_count": null,
   "id": "bdcea698-5803-43ad-88cf-6384dd74a90b",
   "metadata": {
    "ExecuteTime": {
     "end_time": "2021-11-11T20:39:31.310121Z",
     "start_time": "2021-11-11T20:37:53.564Z"
    }
   },
   "outputs": [],
   "source": [
    "from DeepLearningFramework.ObjectDetectionUtils import BatchNMS, ComputeMAP"
   ]
  },
  {
   "cell_type": "code",
   "execution_count": null,
   "id": "3a9aa375-2627-494e-8d7b-05599e4e9205",
   "metadata": {
    "ExecuteTime": {
     "end_time": "2021-11-11T20:39:31.310121Z",
     "start_time": "2021-11-11T20:37:53.565Z"
    }
   },
   "outputs": [],
   "source": [
    "mTestX, lBBox, mTarget = next(iter(oTestDL))\n",
    "\n",
    "with torch.no_grad():\n",
    "    mOutput = oModel(mTestX.to(DEVICE))\n",
    "\n",
    "mTargetPred         = Output2Target(mOutput)\n",
    "mBBoxPred           = Target2BBox  (mTargetPred)    \n",
    "\n",
    "mNMS, vImageIdxPred = BatchNMS(mBBoxPred, 3, pThreshold=.05)\n",
    "mNMS.shape, vImageIdxPred.shape\n",
    "ComputeMAP(mNMS, vImageIdxPred, lBBox, nLabels=3)"
   ]
  },
  {
   "cell_type": "code",
   "execution_count": null,
   "id": "093d2cae",
   "metadata": {},
   "outputs": [],
   "source": []
  },
  {
   "cell_type": "code",
   "execution_count": null,
   "id": "deff5c96",
   "metadata": {},
   "outputs": [],
   "source": []
  },
  {
   "cell_type": "code",
   "execution_count": null,
   "id": "a7de3a82",
   "metadata": {},
   "outputs": [],
   "source": []
  },
  {
   "cell_type": "code",
   "execution_count": null,
   "id": "9487b166",
   "metadata": {},
   "outputs": [],
   "source": []
  },
  {
   "cell_type": "code",
   "execution_count": null,
   "id": "861514c6",
   "metadata": {},
   "outputs": [],
   "source": []
  },
  {
   "cell_type": "code",
   "execution_count": null,
   "id": "6cf74f52",
   "metadata": {},
   "outputs": [],
   "source": []
  },
  {
   "cell_type": "code",
   "execution_count": null,
   "id": "46985335",
   "metadata": {},
   "outputs": [],
   "source": []
  },
  {
   "cell_type": "code",
   "execution_count": null,
   "id": "645161b9",
   "metadata": {},
   "outputs": [],
   "source": []
  },
  {
   "cell_type": "code",
   "execution_count": null,
   "id": "bba612d3",
   "metadata": {},
   "outputs": [],
   "source": []
  },
  {
   "cell_type": "code",
   "execution_count": null,
   "id": "a4bb79a7",
   "metadata": {},
   "outputs": [],
   "source": []
  },
  {
   "cell_type": "code",
   "execution_count": null,
   "id": "6995ad0a",
   "metadata": {},
   "outputs": [],
   "source": []
  },
  {
   "cell_type": "code",
   "execution_count": null,
   "id": "11c28fc6",
   "metadata": {},
   "outputs": [],
   "source": []
  },
  {
   "cell_type": "code",
   "execution_count": null,
   "id": "59e808a0",
   "metadata": {},
   "outputs": [],
   "source": []
  },
  {
   "cell_type": "code",
   "execution_count": null,
   "id": "c054393f",
   "metadata": {},
   "outputs": [],
   "source": []
  },
  {
   "cell_type": "code",
   "execution_count": null,
   "id": "ae3c9a1d",
   "metadata": {},
   "outputs": [],
   "source": []
  },
  {
   "cell_type": "code",
   "execution_count": null,
   "id": "6ef577e8",
   "metadata": {},
   "outputs": [],
   "source": []
  },
  {
   "cell_type": "code",
   "execution_count": null,
   "id": "d041f396",
   "metadata": {},
   "outputs": [],
   "source": []
  },
  {
   "cell_type": "code",
   "execution_count": null,
   "id": "0cefd730",
   "metadata": {},
   "outputs": [],
   "source": []
  },
  {
   "cell_type": "code",
   "execution_count": null,
   "id": "250373f8",
   "metadata": {},
   "outputs": [],
   "source": []
  },
  {
   "cell_type": "code",
   "execution_count": null,
   "id": "a93c00dc",
   "metadata": {},
   "outputs": [],
   "source": []
  },
  {
   "cell_type": "code",
   "execution_count": null,
   "id": "160c9277",
   "metadata": {},
   "outputs": [],
   "source": []
  },
  {
   "cell_type": "code",
   "execution_count": null,
   "id": "2175d850",
   "metadata": {},
   "outputs": [],
   "source": []
  },
  {
   "cell_type": "code",
   "execution_count": null,
   "id": "fd1fd874",
   "metadata": {},
   "outputs": [],
   "source": []
  },
  {
   "cell_type": "code",
   "execution_count": null,
   "id": "a41a8097",
   "metadata": {},
   "outputs": [],
   "source": []
  },
  {
   "cell_type": "code",
   "execution_count": null,
   "id": "74f83a48",
   "metadata": {},
   "outputs": [],
   "source": []
  },
  {
   "cell_type": "code",
   "execution_count": null,
   "id": "9c5c6ac8",
   "metadata": {},
   "outputs": [],
   "source": []
  },
  {
   "cell_type": "code",
   "execution_count": null,
   "id": "4ef0d1cd",
   "metadata": {},
   "outputs": [],
   "source": []
  },
  {
   "cell_type": "code",
   "execution_count": null,
   "id": "67e61a3d",
   "metadata": {},
   "outputs": [],
   "source": []
  },
  {
   "cell_type": "code",
   "execution_count": null,
   "id": "c35907e7",
   "metadata": {},
   "outputs": [],
   "source": []
  },
  {
   "cell_type": "code",
   "execution_count": null,
   "id": "edb3eb90",
   "metadata": {},
   "outputs": [],
   "source": []
  },
  {
   "cell_type": "code",
   "execution_count": null,
   "id": "b7723d5a",
   "metadata": {},
   "outputs": [],
   "source": []
  },
  {
   "cell_type": "code",
   "execution_count": null,
   "id": "17a901c6",
   "metadata": {},
   "outputs": [],
   "source": []
  },
  {
   "cell_type": "code",
   "execution_count": null,
   "id": "d4fe6c30",
   "metadata": {},
   "outputs": [],
   "source": []
  },
  {
   "cell_type": "code",
   "execution_count": null,
   "id": "57e736bf",
   "metadata": {},
   "outputs": [],
   "source": []
  },
  {
   "cell_type": "code",
   "execution_count": null,
   "id": "abd9dc8f",
   "metadata": {},
   "outputs": [],
   "source": []
  },
  {
   "cell_type": "code",
   "execution_count": null,
   "id": "c7b6a311",
   "metadata": {},
   "outputs": [],
   "source": []
  },
  {
   "cell_type": "code",
   "execution_count": null,
   "id": "96e69b8a",
   "metadata": {},
   "outputs": [],
   "source": []
  },
  {
   "cell_type": "code",
   "execution_count": null,
   "id": "b9349cd1",
   "metadata": {},
   "outputs": [],
   "source": []
  },
  {
   "cell_type": "code",
   "execution_count": null,
   "id": "897f1aaf",
   "metadata": {},
   "outputs": [],
   "source": []
  },
  {
   "cell_type": "code",
   "execution_count": null,
   "id": "fc5d474c",
   "metadata": {},
   "outputs": [],
   "source": []
  },
  {
   "cell_type": "code",
   "execution_count": null,
   "id": "1ce7d603",
   "metadata": {},
   "outputs": [],
   "source": []
  },
  {
   "cell_type": "code",
   "execution_count": null,
   "id": "1c5e94f4",
   "metadata": {},
   "outputs": [],
   "source": []
  },
  {
   "cell_type": "code",
   "execution_count": null,
   "id": "51fa38cc",
   "metadata": {},
   "outputs": [],
   "source": []
  },
  {
   "cell_type": "code",
   "execution_count": null,
   "id": "7e5b4faa",
   "metadata": {},
   "outputs": [],
   "source": []
  },
  {
   "cell_type": "code",
   "execution_count": null,
   "id": "95539c52",
   "metadata": {},
   "outputs": [],
   "source": []
  },
  {
   "cell_type": "code",
   "execution_count": null,
   "id": "3138cff5",
   "metadata": {},
   "outputs": [],
   "source": []
  },
  {
   "cell_type": "code",
   "execution_count": null,
   "id": "acd689b1",
   "metadata": {},
   "outputs": [],
   "source": []
  },
  {
   "cell_type": "code",
   "execution_count": null,
   "id": "f9b40c41",
   "metadata": {},
   "outputs": [],
   "source": []
  },
  {
   "cell_type": "code",
   "execution_count": null,
   "id": "4b04c8f7",
   "metadata": {},
   "outputs": [],
   "source": []
  },
  {
   "cell_type": "code",
   "execution_count": null,
   "id": "73d182cd",
   "metadata": {},
   "outputs": [],
   "source": []
  },
  {
   "cell_type": "code",
   "execution_count": null,
   "id": "6d8bab87",
   "metadata": {},
   "outputs": [],
   "source": []
  },
  {
   "cell_type": "code",
   "execution_count": null,
   "id": "73b8f277",
   "metadata": {},
   "outputs": [],
   "source": []
  },
  {
   "cell_type": "code",
   "execution_count": null,
   "id": "5a09bbab",
   "metadata": {},
   "outputs": [],
   "source": []
  },
  {
   "cell_type": "code",
   "execution_count": null,
   "id": "0b0e90f4",
   "metadata": {},
   "outputs": [],
   "source": []
  },
  {
   "cell_type": "code",
   "execution_count": null,
   "id": "76617b24",
   "metadata": {},
   "outputs": [],
   "source": []
  },
  {
   "cell_type": "code",
   "execution_count": null,
   "id": "945d0e52",
   "metadata": {},
   "outputs": [],
   "source": []
  },
  {
   "cell_type": "code",
   "execution_count": null,
   "id": "1125b413",
   "metadata": {},
   "outputs": [],
   "source": []
  },
  {
   "cell_type": "code",
   "execution_count": null,
   "id": "7cbe116b",
   "metadata": {},
   "outputs": [],
   "source": []
  },
  {
   "cell_type": "code",
   "execution_count": null,
   "id": "d373f70d",
   "metadata": {},
   "outputs": [],
   "source": []
  },
  {
   "cell_type": "code",
   "execution_count": null,
   "id": "34bdf3de",
   "metadata": {},
   "outputs": [],
   "source": []
  },
  {
   "cell_type": "code",
   "execution_count": null,
   "id": "ddc476c0",
   "metadata": {},
   "outputs": [],
   "source": []
  },
  {
   "cell_type": "code",
   "execution_count": null,
   "id": "c25219ce",
   "metadata": {},
   "outputs": [],
   "source": []
  },
  {
   "cell_type": "code",
   "execution_count": null,
   "id": "b181e84a",
   "metadata": {},
   "outputs": [],
   "source": []
  },
  {
   "cell_type": "code",
   "execution_count": null,
   "id": "9706d537",
   "metadata": {},
   "outputs": [],
   "source": []
  },
  {
   "cell_type": "code",
   "execution_count": null,
   "id": "933ae33f",
   "metadata": {},
   "outputs": [],
   "source": []
  },
  {
   "cell_type": "code",
   "execution_count": null,
   "id": "8196e229",
   "metadata": {},
   "outputs": [],
   "source": []
  },
  {
   "cell_type": "code",
   "execution_count": null,
   "id": "164e2bbe",
   "metadata": {},
   "outputs": [],
   "source": []
  },
  {
   "cell_type": "code",
   "execution_count": null,
   "id": "d9c77f07",
   "metadata": {},
   "outputs": [],
   "source": []
  },
  {
   "cell_type": "code",
   "execution_count": null,
   "id": "32f1df22",
   "metadata": {},
   "outputs": [],
   "source": []
  },
  {
   "cell_type": "code",
   "execution_count": null,
   "id": "26c016e1",
   "metadata": {},
   "outputs": [],
   "source": []
  },
  {
   "cell_type": "code",
   "execution_count": null,
   "id": "8d4f3886",
   "metadata": {},
   "outputs": [],
   "source": []
  },
  {
   "cell_type": "code",
   "execution_count": null,
   "id": "0f501d0f",
   "metadata": {},
   "outputs": [],
   "source": []
  },
  {
   "cell_type": "code",
   "execution_count": null,
   "id": "758165d8",
   "metadata": {},
   "outputs": [],
   "source": []
  },
  {
   "cell_type": "code",
   "execution_count": null,
   "id": "74155953",
   "metadata": {},
   "outputs": [],
   "source": []
  },
  {
   "cell_type": "code",
   "execution_count": null,
   "id": "8998b08d",
   "metadata": {},
   "outputs": [],
   "source": []
  },
  {
   "cell_type": "code",
   "execution_count": null,
   "id": "7e6a88db",
   "metadata": {},
   "outputs": [],
   "source": []
  },
  {
   "cell_type": "code",
   "execution_count": null,
   "id": "765ba820",
   "metadata": {},
   "outputs": [],
   "source": []
  },
  {
   "cell_type": "code",
   "execution_count": null,
   "id": "6b91e721",
   "metadata": {},
   "outputs": [],
   "source": []
  },
  {
   "cell_type": "code",
   "execution_count": null,
   "id": "a27b5b10",
   "metadata": {},
   "outputs": [],
   "source": []
  },
  {
   "cell_type": "code",
   "execution_count": null,
   "id": "a66bc1a3",
   "metadata": {},
   "outputs": [],
   "source": []
  },
  {
   "cell_type": "code",
   "execution_count": null,
   "id": "74bac77e",
   "metadata": {},
   "outputs": [],
   "source": []
  },
  {
   "cell_type": "code",
   "execution_count": null,
   "id": "b8df34ab",
   "metadata": {},
   "outputs": [],
   "source": []
  },
  {
   "cell_type": "code",
   "execution_count": null,
   "id": "62031a73",
   "metadata": {},
   "outputs": [],
   "source": []
  },
  {
   "cell_type": "code",
   "execution_count": null,
   "id": "b3597ae0",
   "metadata": {},
   "outputs": [],
   "source": []
  },
  {
   "cell_type": "code",
   "execution_count": null,
   "id": "49f98e47",
   "metadata": {},
   "outputs": [],
   "source": []
  },
  {
   "cell_type": "code",
   "execution_count": null,
   "id": "e6fbc849",
   "metadata": {},
   "outputs": [],
   "source": []
  },
  {
   "cell_type": "code",
   "execution_count": null,
   "id": "8f396d86",
   "metadata": {},
   "outputs": [],
   "source": []
  },
  {
   "cell_type": "code",
   "execution_count": null,
   "id": "d8d9bfa5",
   "metadata": {},
   "outputs": [],
   "source": []
  },
  {
   "cell_type": "code",
   "execution_count": null,
   "id": "b7d821d3",
   "metadata": {},
   "outputs": [],
   "source": []
  },
  {
   "cell_type": "code",
   "execution_count": null,
   "id": "8e19c4e5",
   "metadata": {},
   "outputs": [],
   "source": []
  },
  {
   "cell_type": "code",
   "execution_count": null,
   "id": "fb4e097f",
   "metadata": {},
   "outputs": [],
   "source": [
    "# def Loss_Ex(mOutput, mTarget):\n",
    "#     #-- mOutput.shape       = (N, B, 8, 5, 5)\n",
    "#     #-- mTarget.shape       = (N, B, 6, 5, 5)\n",
    "#     #-- mOutput[ii,bb,:,jj,kk] = [p | x, y, W, H | R, G, B]\n",
    "#     #-- mTarget[ii,bb,:,jj,kk] = [p | x, y, W, H | cIdx]\n",
    "#     mProb      = mTarget[:,:,0,:,:]\n",
    "#     mMask      = mProb == 1\n",
    "    \n",
    "#     mBBox      = mTarget[:,:,1:5,:,:].permute(0,1,3,4,2)[mMask] #-- mBBox .shape = (T, 4)\n",
    "#     vLabel     = mTarget[:,:,5  ,:,:].long()            [mMask] #-- vLabel.shape = (T)\n",
    "    \n",
    "#     mProbPred  = mOutput[:,:,0,  :,:] \n",
    "#     mBBoxPred  = mOutput[:,:,1:5,:,:].permute(0,1,3,4,2)[mMask]  #-- mBBoxPred .shape = (T, 4)\n",
    "#     mLabelPred = mOutput[:,:,5:, :,:].permute(0,1,3,4,2)[mMask]  #-- mLabelPred.shape = (T, L)\n",
    "    \n",
    "#     BCE = nn.BCEWithLogitsLoss()(mProbPred,  mProb)\n",
    "#     MSE = nn.MSELoss          ()(mBBoxPred,  mBBox)\n",
    "#     CE  = nn.CrossEntropyLoss ()(mLabelPred, vLabel)\n",
    "    \n",
    "#     loss = BCE + MSE + CE\n",
    "    \n",
    "#     return loss, BCE.item(), CE.item(), MSE.item()"
   ]
  }
 ],
 "metadata": {
  "interpreter": {
   "hash": "b45d388af834db38715118ef7f07cf687c3033ee42f9e8f75a328a2a999319b3"
  },
  "kernelspec": {
   "display_name": "Python 3",
   "language": "python",
   "name": "python3"
  },
  "language_info": {
   "codemirror_mode": {
    "name": "ipython",
    "version": 3
   },
   "file_extension": ".py",
   "mimetype": "text/x-python",
   "name": "python",
   "nbconvert_exporter": "python",
   "pygments_lexer": "ipython3",
   "version": "3.8.12"
  }
 },
 "nbformat": 4,
 "nbformat_minor": 5
}
