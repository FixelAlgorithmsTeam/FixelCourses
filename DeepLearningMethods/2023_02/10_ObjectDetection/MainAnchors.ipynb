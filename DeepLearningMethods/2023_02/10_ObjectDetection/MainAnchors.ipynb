{
 "cells": [
  {
   "cell_type": "markdown",
   "id": "cc54fa4d-664b-47d4-8135-2e825073ea9a",
   "metadata": {},
   "source": [
    "![Fixel Algorithms](https://fixelalgorithms.co/images/CCExt.png)"
   ]
  },
  {
   "cell_type": "markdown",
   "id": "21c93b72-4861-415d-b022-9cb7df22620d",
   "metadata": {},
   "source": [
    "# <center> Deep Learning Methods </center>\n",
    "## <center> Lecture 10 -  Object Detection </center>\n",
    "### <center> Object Detection with Anchors </center>"
   ]
  },
  {
   "cell_type": "markdown",
   "id": "8f3445ce-aa71-4ea7-9061-85b44ecc3fda",
   "metadata": {},
   "source": [
    "[![Open In Colab](https://colab.research.google.com/assets/colab-badge.svg)](https://colab.research.google.com/github/FixelAlgorithmsTeam/FixelCourses/blob/master/DeepLearningMethods/10_ObjectDetection/MainAnchors.ipynb)"
   ]
  },
  {
   "cell_type": "code",
   "execution_count": 1,
   "id": "20d30c03-f8b3-47d9-b780-909bf67195cc",
   "metadata": {
    "ExecuteTime": {
     "end_time": "2021-11-16T10:08:14.854480Z",
     "start_time": "2021-11-16T10:08:14.838474Z"
    },
    "tags": []
   },
   "outputs": [
    {
     "data": {
      "text/html": [
       "<style>.container { width:80% !important; }</style>"
      ],
      "text/plain": [
       "<IPython.core.display.HTML object>"
      ]
     },
     "metadata": {},
     "output_type": "display_data"
    }
   ],
   "source": [
    "#-- Wide screen:\n",
    "from IPython.core.display import display, HTML\n",
    "display(HTML(\"<style>.container { width:80% !important; }</style>\"))"
   ]
  },
  {
   "cell_type": "code",
   "execution_count": 2,
   "id": "e7779c77-1256-4fdd-b983-6e652f96d0cc",
   "metadata": {
    "ExecuteTime": {
     "end_time": "2021-11-14T18:37:09.667705Z",
     "start_time": "2021-11-14T18:37:09.636677Z"
    },
    "tags": []
   },
   "outputs": [],
   "source": [
    "#-- Auto reload:\n",
    "%load_ext autoreload\n",
    "%autoreload 2"
   ]
  },
  {
   "cell_type": "code",
   "execution_count": 3,
   "id": "32a84304",
   "metadata": {
    "ExecuteTime": {
     "end_time": "2021-11-14T18:37:09.698733Z",
     "start_time": "2021-11-14T18:37:09.668706Z"
    }
   },
   "outputs": [],
   "source": [
    "if 'google.colab' in str(get_ipython()):\n",
    "    !npx degit FixelAlgorithmsTeam/FixelCourses/DeepLearningMethods/10_ObjectDetection/DeepLearningFramework ./DeepLearningFramework\n",
    "    !pip install torchinfo"
   ]
  },
  {
   "cell_type": "code",
   "execution_count": 4,
   "id": "7b0fe364",
   "metadata": {
    "ExecuteTime": {
     "end_time": "2021-11-14T18:37:10.928617Z",
     "start_time": "2021-11-14T18:37:09.699734Z"
    },
    "tags": []
   },
   "outputs": [],
   "source": [
    "#-----------------------------------------------------------#\n",
    "#-----------------------------------------------------------#\n",
    "import numpy             as np\n",
    "import matplotlib.pyplot as plt\n",
    "import matplotlib\n",
    "\n",
    "import torch\n",
    "import torch.nn    as nn\n",
    "import torch.optim as optim\n",
    "import torchinfo\n",
    "\n",
    "from torch.optim.lr_scheduler import OneCycleLR\n",
    "#-----------------------------------------------------------#\n",
    "#-----------------------------------------------------------#\n",
    "torch.set_printoptions(3, linewidth=120, sci_mode=False)\n",
    "torch.backends.cudnn.benchmark = True"
   ]
  },
  {
   "cell_type": "markdown",
   "id": "347f04fb-281f-4cf2-844c-b4aa756f9d65",
   "metadata": {},
   "source": [
    "#### Constants:"
   ]
  },
  {
   "cell_type": "code",
   "execution_count": 5,
   "id": "80d6a5ad",
   "metadata": {
    "ExecuteTime": {
     "end_time": "2021-11-14T18:37:11.007689Z",
     "start_time": "2021-11-14T18:37:10.929618Z"
    }
   },
   "outputs": [],
   "source": [
    "IMAGE_SIZE = 100\n",
    "GRID_SIZE  = 5\n",
    "LABELS     = ['R', 'G', 'B']\n",
    "\n",
    "DEVICE     = torch.device('cuda:0' if torch.cuda.is_available() else 'cpu')"
   ]
  },
  {
   "cell_type": "markdown",
   "id": "3646d7d1-352c-45c9-84ac-cc47d4621723",
   "metadata": {},
   "source": [
    "#### `RandImage` creates a synthetic image for object detection:"
   ]
  },
  {
   "cell_type": "code",
   "execution_count": 6,
   "id": "ddbe447d",
   "metadata": {
    "ExecuteTime": {
     "end_time": "2021-11-14T18:37:11.151819Z",
     "start_time": "2021-11-14T18:37:11.008691Z"
    },
    "tags": []
   },
   "outputs": [
    {
     "data": {
      "text/plain": [
       "tensor([[1.000, 2.000, 0.109, 0.350, 0.218, 0.627],\n",
       "        [1.000, 0.000, 0.670, 0.884, 0.628, 0.231],\n",
       "        [1.000, 0.000, 0.478, 0.583, 0.624, 0.522]])"
      ]
     },
     "execution_count": 6,
     "metadata": {},
     "output_type": "execute_result"
    }
   ],
   "source": [
    "from DeepLearningFramework.AnchorsUtils import RandImage\n",
    "\n",
    "mI, mBBox = RandImage(IMAGE_SIZE, 3)\n",
    "mBBox"
   ]
  },
  {
   "cell_type": "markdown",
   "id": "afcbb1aa-bc23-4049-aa7a-5dcad1ea9a7b",
   "metadata": {},
   "source": [
    "#### Plot an image with its bounding boxes:"
   ]
  },
  {
   "cell_type": "code",
   "execution_count": 7,
   "id": "a710440f-5869-4962-881c-29f797bef3c9",
   "metadata": {
    "ExecuteTime": {
     "end_time": "2021-11-14T18:37:11.311965Z",
     "start_time": "2021-11-14T18:37:11.152821Z"
    }
   },
   "outputs": [
    {
     "data": {
      "image/png": "[encoded data removed]",
      "text/plain": [
       "<Figure size 600x600 with 1 Axes>"
      ]
     },
     "metadata": {},
     "output_type": "display_data"
    }
   ],
   "source": [
    "from DeepLearningFramework.AnchorsUtils import PlotImage\n",
    "\n",
    "nObjects  = np.random.randint(10) + 1\n",
    "mI, mBBox = RandImage(IMAGE_SIZE, nObjects)\n",
    "\n",
    "PlotImage(mI, mBBox, LABELS, lColors=np.eye(3), gridSize=GRID_SIZE)\n",
    "plt.show ()"
   ]
  },
  {
   "cell_type": "markdown",
   "id": "a3b92c03-016d-4e22-8945-cc6eb6a65ada",
   "metadata": {},
   "source": [
    "#### Create synthetic datasets:\n",
    "Note that `mBBox.shape = (Di, 6)` where `Di` is the number of objects.  \n",
    "`Di` is different from image to image."
   ]
  },
  {
   "cell_type": "code",
   "execution_count": 8,
   "id": "26e714f6",
   "metadata": {
    "ExecuteTime": {
     "end_time": "2021-11-14T18:37:18.993617Z",
     "start_time": "2021-11-14T18:37:11.313967Z"
    },
    "tags": []
   },
   "outputs": [
    {
     "data": {
      "text/plain": [
       "(torch.Size([10000, 3, 100, 100]), 10000)"
      ]
     },
     "execution_count": 8,
     "metadata": {},
     "output_type": "execute_result"
    }
   ],
   "source": [
    "def MakeData(N):\n",
    "    mX    = torch.empty(N, 3, IMAGE_SIZE, IMAGE_SIZE)\n",
    "    lBBox = [None] * N\n",
    "    for ii in range(N):\n",
    "        nObjects   = np.random.randint(4) + 1\n",
    "        mXi, mBBox = RandImage(IMAGE_SIZE, nObjects)\n",
    "        mX   [ii]  = mXi\n",
    "        lBBox[ii]  = mBBox\n",
    "\n",
    "    return mX, lBBox\n",
    "        \n",
    "nTrain = 10000\n",
    "nTest  = 1000\n",
    "\n",
    "mTrainX, lTrainBBox = MakeData(nTrain)\n",
    "mTestX,  lTestBBox  = MakeData(nTest)\n",
    "\n",
    "mTrainX.shape, len(lTrainBBox)"
   ]
  },
  {
   "cell_type": "markdown",
   "id": "8943fb20-8f7f-4328-bdfc-56239380c2f2",
   "metadata": {},
   "source": [
    "### Anchors:\n",
    "`mAnchors.shape = (B, 2)`"
   ]
  },
  {
   "cell_type": "code",
   "execution_count": 9,
   "id": "e3631560",
   "metadata": {
    "ExecuteTime": {
     "end_time": "2021-11-14T18:37:19.057676Z",
     "start_time": "2021-11-14T18:37:18.994619Z"
    }
   },
   "outputs": [],
   "source": [
    "mAnchors = torch.tensor([[0.30, 0.50],\n",
    "                         [0.50, 0.30]])\n",
    "\n",
    "B        = mAnchors.shape[0]"
   ]
  },
  {
   "cell_type": "code",
   "execution_count": 10,
   "id": "f9b70461-440a-4982-9e26-aa4935c63216",
   "metadata": {
    "ExecuteTime": {
     "end_time": "2021-11-14T18:37:19.184791Z",
     "start_time": "2021-11-14T18:37:19.058676Z"
    }
   },
   "outputs": [
    {
     "data": {
      "image/png": "[encoded data removed]",
      "text/plain": [
       "<Figure size 300x300 with 1 Axes>"
      ]
     },
     "metadata": {},
     "output_type": "display_data"
    }
   ],
   "source": [
    "import matplotlib\n",
    "from   matplotlib.patches import Rectangle\n",
    "#-----------------------------------------------------------------------------------------------------#\n",
    "#-----------------------------------------------------------------------------------------------------#\n",
    "_, ax = plt.subplots(figsize=(3, 3))\n",
    "\n",
    "cmap = matplotlib.cm.get_cmap('tab10')\n",
    "for ii in range(B):\n",
    "    W, H  = mAnchors[ii,:]\n",
    "    oBBox = Rectangle((-W/2, -H/2), W, H, linewidth=2, edgecolor='k', facecolor=cmap(ii), alpha=.75)\n",
    "    ax.add_patch(oBBox)\n",
    "\n",
    "ax.axis('equal')\n",
    "plt.show()"
   ]
  },
  {
   "cell_type": "markdown",
   "id": "2d2f5977-7683-4574-b5fa-c5031a9b53b6",
   "metadata": {},
   "source": [
    "### `BBox2Target`\n",
    "This function transforms BBoxes into targets.  \n",
    "The targets are compared with the network output."
   ]
  },
  {
   "cell_type": "code",
   "execution_count": 11,
   "id": "eef5b629-dfc6-4894-ad04-c9d4331cfc86",
   "metadata": {
    "ExecuteTime": {
     "end_time": "2021-11-14T18:37:19.248393Z",
     "start_time": "2021-11-14T18:37:19.185792Z"
    }
   },
   "outputs": [
    {
     "data": {
      "text/plain": [
       "torch.Size([2, 6, 5, 5])"
      ]
     },
     "execution_count": 11,
     "metadata": {},
     "output_type": "execute_result"
    }
   ],
   "source": [
    "import torchvision.ops as ops\n",
    "\n",
    "def ComputeAnchorIoU(mXYWH, mAnchors):\n",
    "    #-- mXYWH   .shape = (D, 4)\n",
    "    #-- mAnchors.shape = (B, 4)\n",
    "        \n",
    "    D         = mXYWH.shape[0]\n",
    "    B         = mAnchors.shape[0]\n",
    "    m00WH     = torch.cat([torch.zeros(D, 2), mXYWH[:,2:]], dim=1) #-- (D, 4)\n",
    "    m00Anchor = torch.cat([torch.zeros(B, 2), mAnchors   ], dim=1) #-- (B, 4)\n",
    "    mB1       = ops.box_convert(m00WH,     'xywh', 'xyxy')\n",
    "    mB2       = ops.box_convert(m00Anchor, 'xywh', 'xyxy')\n",
    "    mIoU      = ops.box_iou(mB1, mB2)                              #-- (D, B)\n",
    "    \n",
    "    return mIoU\n",
    "\n",
    "def BBox2Target(mBBox, mAnchors, gridSize):\n",
    "    '''\n",
    "    * Input:\n",
    "        - mBBox   .shape = (D, 6)\n",
    "        - mAnchors.shape = (B, 2)\n",
    "        - mBBox   [ii,:] = [prob | cIdx | x, y, W, H]\n",
    "        - mAnchors[ii,:] = [W, H]\n",
    "    * Output:\n",
    "        - mTarget.shape       = (B, 6, S, S)\n",
    "        - mTarget[ii,:,jj,kk] = [prob | x, y, log(W), log(H) | cIdx]\n",
    "    '''\n",
    "    B       = mAnchors.shape[0]\n",
    "    D       = mBBox   .shape[0]\n",
    "    mTarget = torch   .zeros(B, 6, gridSize, gridSize)\n",
    "    \n",
    "    if D == 0:\n",
    "        return mTarget\n",
    "\n",
    "    #-- Compute IoU between objectes and anchors:\n",
    "    mXYWH = mBBox[:,2:]\n",
    "    mIoU  = ComputeAnchorIoU(mXYWH, mAnchors) #-- (D, B)\n",
    "    vIdx  = torch.argmax(mIoU, dim=1)\n",
    "    \n",
    "    #-- Set target for each anchor:\n",
    "    for bb in range(B):\n",
    "        mProb  = torch.zeros(1, gridSize, gridSize)\n",
    "        mLabel = torch.zeros(1, gridSize, gridSize)\n",
    "        mXYwh  = torch.zeros(4, gridSize, gridSize) #-- w = log(W), h = log(H)\n",
    "\n",
    "        vIdxB           = vIdx == bb        #-- Objects that correspond to anchor bb\n",
    "        vP, vLabel      = mBBox[vIdxB,:2].T\n",
    "        mXYWH           = mBBox[vIdxB,2:] * gridSize\n",
    "        vX, vY, vW ,vH  = mXYWH.T\n",
    "        vCx             = vX.floor().long() #-- cell x index\n",
    "        vCy             = vY.floor().long() #-- cell y index\n",
    "        vX             -= vCx               #-- cell x\n",
    "        vY             -= vCy               #-- cell y\n",
    "\n",
    "        mProb  [0,vCy,vCx] = vP\n",
    "        mLabel [0,vCy,vCx] = vLabel\n",
    "        mXYwh  [:,vCy,vCx] = torch.stack([vX, vY, torch.log(vW), torch.log(vH)])\n",
    "        mTarget[bb]        = torch.cat  ([mProb, mXYwh, mLabel],               )\n",
    "\n",
    "    return mTarget\n",
    "\n",
    "mBBox   = lTrainBBox[0]\n",
    "mTarget = BBox2Target(mBBox, mAnchors, GRID_SIZE)\n",
    "mTarget.shape"
   ]
  },
  {
   "cell_type": "markdown",
   "id": "2906a295-614d-40d7-9e11-919337f4e74c",
   "metadata": {},
   "source": [
    "### Define a `Dataset` class\n",
    "Since the number of targets is different in each image we use a `list` and not a `tensor`."
   ]
  },
  {
   "cell_type": "code",
   "execution_count": 12,
   "id": "c4d2a897",
   "metadata": {
    "ExecuteTime": {
     "end_time": "2021-11-14T18:37:19.312450Z",
     "start_time": "2021-11-14T18:37:19.249394Z"
    },
    "tags": []
   },
   "outputs": [],
   "source": [
    "if False:\n",
    "    class AnchorObjectDataset(torch.utils.data.Dataset):\n",
    "        def __init__(self, mX, lBBox, mAnchors, gridSize):\n",
    "            #-- mX       .shape = (N, C, W, H)\n",
    "            #-- len(lBBox)      =  N\n",
    "            #-- lBBox[ii].shape = (Di, 6)\n",
    "            #-- mAnchors .shape = (B, 2)\n",
    "            self.mX       = mX\n",
    "            self.lBBox    = lBBox\n",
    "            self.mAnchors = mAnchors\n",
    "            self.gridSize = gridSize\n",
    "\n",
    "        def __len__(self):\n",
    "            return self.mX.shape[0]\n",
    "\n",
    "        def __getitem__(self, idx):\n",
    "            mXi     = self.mX   [idx]\n",
    "            mBBox   = self.lBBox[idx]\n",
    "            mTarget = BBox2Target(mBBox, self.mAnchors, self.gridSize)\n",
    "            return mXi, mBBox, mTarget"
   ]
  },
  {
   "cell_type": "markdown",
   "id": "7a9c8fb1-3e7f-42a1-94e2-54d5b0488510",
   "metadata": {},
   "source": [
    "#### Create train and test sets:"
   ]
  },
  {
   "cell_type": "code",
   "execution_count": 13,
   "id": "ff7ce7fe",
   "metadata": {
    "ExecuteTime": {
     "end_time": "2021-11-14T18:37:19.376509Z",
     "start_time": "2021-11-14T18:37:19.313452Z"
    }
   },
   "outputs": [
    {
     "data": {
      "text/plain": [
       "(10000, 1000)"
      ]
     },
     "execution_count": 13,
     "metadata": {},
     "output_type": "execute_result"
    }
   ],
   "source": [
    "from DeepLearningFramework.AnchorsUtils import AnchorObjectDataset\n",
    "\n",
    "oTrainSet = AnchorObjectDataset(mTrainX, lTrainBBox, mAnchors, GRID_SIZE)\n",
    "oTestSet  = AnchorObjectDataset(mTestX,  lTestBBox,  mAnchors, GRID_SIZE)\n",
    "\n",
    "len(oTrainSet), len(oTestSet)"
   ]
  },
  {
   "cell_type": "markdown",
   "id": "82f4adfc-46fe-477b-b3d8-267fe70a0eb2",
   "metadata": {},
   "source": [
    "#### Test our dataset code:\n",
    "`mTarget.shape       = (2, 6, 5, 5)`  \n",
    "`mTarget[ii,:,jj,kk] = [prob, cIdx, x, y, W, H]`"
   ]
  },
  {
   "cell_type": "code",
   "execution_count": 14,
   "id": "769221b2",
   "metadata": {
    "ExecuteTime": {
     "end_time": "2021-11-14T18:37:19.502623Z",
     "start_time": "2021-11-14T18:37:19.377510Z"
    },
    "tags": []
   },
   "outputs": [
    {
     "data": {
      "image/png": "[encoded data removed]",
      "text/plain": [
       "<Figure size 600x600 with 1 Axes>"
      ]
     },
     "metadata": {},
     "output_type": "display_data"
    },
    {
     "data": {
      "text/plain": [
       "(tensor([[0., 0., 0., 0., 0.],\n",
       "         [1., 0., 0., 0., 0.],\n",
       "         [0., 0., 0., 0., 0.],\n",
       "         [0., 0., 0., 0., 0.],\n",
       "         [0., 0., 0., 0., 0.]]),\n",
       " tensor([[0., 0., 0., 0., 0.],\n",
       "         [0., 0., 0., 0., 0.],\n",
       "         [0., 0., 0., 0., 0.],\n",
       "         [0., 0., 0., 0., 0.],\n",
       "         [0., 0., 0., 0., 0.]]))"
      ]
     },
     "execution_count": 14,
     "metadata": {},
     "output_type": "execute_result"
    }
   ],
   "source": [
    "idx                = np.random.randint(nTrain)\n",
    "mX, mBBox, mTarget = oTrainSet[idx]\n",
    "\n",
    "PlotImage(mX, mBBox, vLabels=LABELS, lColors=np.eye(3))\n",
    "plt.show()\n",
    "mTarget[0,0,:,:], mTarget[1,0,:,:]"
   ]
  },
  {
   "cell_type": "markdown",
   "id": "f94f4b91-c89c-446e-9f4e-1d9f6e651990",
   "metadata": {},
   "source": [
    "#### Create a `DataLoader` with its `Collate` function:"
   ]
  },
  {
   "cell_type": "code",
   "execution_count": 15,
   "id": "b3f7e24e",
   "metadata": {
    "ExecuteTime": {
     "end_time": "2021-11-14T18:37:19.566681Z",
     "start_time": "2021-11-14T18:37:19.503624Z"
    },
    "tags": []
   },
   "outputs": [],
   "source": [
    "if False:\n",
    "    def AnchorObjectCollate(lBatch):\n",
    "\n",
    "        lX, lBBox, lTarget = zip(*lBatch)\n",
    "        mX                 = torch.stack(lX)\n",
    "        mTarget            = torch.stack(lTarget)\n",
    "\n",
    "        return mX, lBBox, mTarget"
   ]
  },
  {
   "cell_type": "code",
   "execution_count": 16,
   "id": "cab5081b",
   "metadata": {
    "ExecuteTime": {
     "end_time": "2021-11-14T18:37:24.218841Z",
     "start_time": "2021-11-14T18:37:19.567682Z"
    },
    "tags": []
   },
   "outputs": [
    {
     "data": {
      "text/plain": [
       "(torch.Size([256, 3, 100, 100]), 256, torch.Size([256, 2, 6, 5, 5]))"
      ]
     },
     "execution_count": 16,
     "metadata": {},
     "output_type": "execute_result"
    }
   ],
   "source": [
    "from DeepLearningFramework.AnchorsUtils import AnchorObjectCollate\n",
    "\n",
    "batchSize = 256\n",
    "oTrainDL  = torch.utils.data.DataLoader(oTrainSet, shuffle=True,  batch_size=batchSize,   collate_fn=AnchorObjectCollate, num_workers=2, persistent_workers=True)\n",
    "oTestDL   = torch.utils.data.DataLoader(oTestSet,  shuffle=False, batch_size=2*batchSize, collate_fn=AnchorObjectCollate, num_workers=2, persistent_workers=True)\n",
    "\n",
    "mX,       lBBox,      mTarget = next(iter(oTrainDL))\n",
    "mX.shape, len(lBBox), mTarget.shape"
   ]
  },
  {
   "cell_type": "markdown",
   "id": "3bd06d03-3590-44e6-8a19-3cf864205cc4",
   "metadata": {},
   "source": [
    "#### A simple test:"
   ]
  },
  {
   "cell_type": "code",
   "execution_count": 17,
   "id": "62365635",
   "metadata": {
    "ExecuteTime": {
     "end_time": "2021-11-14T18:37:24.682854Z",
     "start_time": "2021-11-14T18:37:24.219842Z"
    },
    "tags": []
   },
   "outputs": [
    {
     "data": {
      "image/png": "[encoded data removed]",
      "text/plain": [
       "<Figure size 600x600 with 1 Axes>"
      ]
     },
     "execution_count": 17,
     "metadata": {},
     "output_type": "execute_result"
    }
   ],
   "source": [
    "mX, lBBox, mTarget = next(iter(oTrainDL))\n",
    "\n",
    "PlotImage(mX[0], lBBox[0], vLabels=LABELS, lColors=np.eye(3), gridSize=GRID_SIZE)"
   ]
  },
  {
   "cell_type": "markdown",
   "id": "ebd5dc77-7760-4b7e-97e9-d5cefd0396fa",
   "metadata": {},
   "source": [
    "### Define the model:\n",
    "The output shape is: $B \\times (5+L) \\times S \\times S$.  \n",
    "In our case $B = 2$, $S = 5$, and $L = 3$.  \n",
    "($L$ is the number of labels)\n",
    "\n",
    "We use `sigmoid` to make sure $x, y \\in [0, 1]$."
   ]
  },
  {
   "cell_type": "code",
   "execution_count": 18,
   "id": "4c9bead6-5e3f-4b22-a03f-3795379bb703",
   "metadata": {
    "ExecuteTime": {
     "end_time": "2021-11-14T18:37:24.745912Z",
     "start_time": "2021-11-14T18:37:24.683856Z"
    }
   },
   "outputs": [],
   "source": [
    "class ResBlock(nn.Module):\n",
    "    def __init__(self, C):\n",
    "        super().__init__()\n",
    "\n",
    "        self.oLeftBranch = nn.Sequential(\n",
    "            nn.Conv2d(C, C//2, 1, stride=1, padding=0, bias=False), nn.BatchNorm2d(C//2), nn.LeakyReLU(0.1),\n",
    "            nn.Conv2d(C//2, C, 3, stride=1, padding=1, bias=False), nn.BatchNorm2d(C   ), nn.LeakyReLU(0.1),\n",
    "        )\n",
    "        \n",
    "    def forward(self, mX):\n",
    "        mOut = self.oLeftBranch(mX) + mX\n",
    "        return mOut"
   ]
  },
  {
   "cell_type": "code",
   "execution_count": 19,
   "id": "24ea022c",
   "metadata": {
    "ExecuteTime": {
     "end_time": "2021-11-14T18:37:28.149306Z",
     "start_time": "2021-11-14T18:37:24.746913Z"
    },
    "tags": []
   },
   "outputs": [
    {
     "data": {
      "text/plain": [
       "(torch.Size([256, 2, 8, 5, 5]),\n",
       " ==========================================================================================\n",
       " Layer (type:depth-idx)                   Output Shape              Param #\n",
       " ==========================================================================================\n",
       " Model                                    --                        --\n",
       " ├─Sequential: 1-1                        [256, 16, 5, 5]           --\n",
       " │    └─Identity: 2-1                     [256, 3, 100, 100]        --\n",
       " │    └─Conv2d: 2-2                       [256, 32, 50, 50]         2,400\n",
       " │    └─BatchNorm2d: 2-3                  [256, 32, 50, 50]         64\n",
       " │    └─ReLU: 2-4                         [256, 32, 50, 50]         --\n",
       " │    └─Dropout2d: 2-5                    [256, 32, 50, 50]         --\n",
       " │    └─ResBlock: 2-6                     [256, 32, 50, 50]         --\n",
       " │    │    └─Sequential: 3-1              [256, 32, 50, 50]         5,216\n",
       " │    └─Dropout2d: 2-7                    [256, 32, 50, 50]         --\n",
       " │    └─ResBlock: 2-8                     [256, 32, 50, 50]         --\n",
       " │    │    └─Sequential: 3-2              [256, 32, 50, 50]         5,216\n",
       " │    └─Dropout2d: 2-9                    [256, 32, 50, 50]         --\n",
       " │    └─Conv2d: 2-10                      [256, 64, 25, 25]         18,432\n",
       " │    └─BatchNorm2d: 2-11                 [256, 64, 25, 25]         128\n",
       " │    └─ReLU: 2-12                        [256, 64, 25, 25]         --\n",
       " │    └─Dropout2d: 2-13                   [256, 64, 25, 25]         --\n",
       " │    └─ResBlock: 2-14                    [256, 64, 25, 25]         --\n",
       " │    │    └─Sequential: 3-3              [256, 64, 25, 25]         20,672\n",
       " │    └─Dropout2d: 2-15                   [256, 64, 25, 25]         --\n",
       " │    └─ResBlock: 2-16                    [256, 64, 25, 25]         --\n",
       " │    │    └─Sequential: 3-4              [256, 64, 25, 25]         20,672\n",
       " │    └─Dropout2d: 2-17                   [256, 64, 25, 25]         --\n",
       " │    └─Conv2d: 2-18                      [256, 128, 13, 13]        73,728\n",
       " │    └─BatchNorm2d: 2-19                 [256, 128, 13, 13]        256\n",
       " │    └─ReLU: 2-20                        [256, 128, 13, 13]        --\n",
       " │    └─Dropout2d: 2-21                   [256, 128, 13, 13]        --\n",
       " │    └─ResBlock: 2-22                    [256, 128, 13, 13]        --\n",
       " │    │    └─Sequential: 3-5              [256, 128, 13, 13]        82,304\n",
       " │    └─Dropout2d: 2-23                   [256, 128, 13, 13]        --\n",
       " │    └─ResBlock: 2-24                    [256, 128, 13, 13]        --\n",
       " │    │    └─Sequential: 3-6              [256, 128, 13, 13]        82,304\n",
       " │    └─Dropout2d: 2-25                   [256, 128, 13, 13]        --\n",
       " │    └─Conv2d: 2-26                      [256, 256, 7, 7]          294,912\n",
       " │    └─BatchNorm2d: 2-27                 [256, 256, 7, 7]          512\n",
       " │    └─ReLU: 2-28                        [256, 256, 7, 7]          --\n",
       " │    └─Dropout2d: 2-29                   [256, 256, 7, 7]          --\n",
       " │    └─ResBlock: 2-30                    [256, 256, 7, 7]          --\n",
       " │    │    └─Sequential: 3-7              [256, 256, 7, 7]          328,448\n",
       " │    └─Dropout2d: 2-31                   [256, 256, 7, 7]          --\n",
       " │    └─ResBlock: 2-32                    [256, 256, 7, 7]          --\n",
       " │    │    └─Sequential: 3-8              [256, 256, 7, 7]          328,448\n",
       " │    └─Dropout2d: 2-33                   [256, 256, 7, 7]          --\n",
       " │    └─Conv2d: 2-34                      [256, 512, 5, 5]          1,179,648\n",
       " │    └─BatchNorm2d: 2-35                 [256, 512, 5, 5]          1,024\n",
       " │    └─ReLU: 2-36                        [256, 512, 5, 5]          --\n",
       " │    └─Dropout2d: 2-37                   [256, 512, 5, 5]          --\n",
       " │    └─Conv2d: 2-38                      [256, 16, 5, 5]           8,208\n",
       " ==========================================================================================\n",
       " Total params: 2,452,592\n",
       " Trainable params: 2,452,592\n",
       " Non-trainable params: 0\n",
       " Total mult-adds (G): 47.39\n",
       " ==========================================================================================\n",
       " Input size (MB): 30.72\n",
       " Forward/backward pass size (MB): 2579.27\n",
       " Params size (MB): 9.81\n",
       " Estimated Total Size (MB): 2619.80\n",
       " ==========================================================================================)"
      ]
     },
     "execution_count": 19,
     "metadata": {},
     "output_type": "execute_result"
    }
   ],
   "source": [
    "class Model(nn.Module):\n",
    "    def __init__(self, B):\n",
    "        super(Model, self).__init__()\n",
    "\n",
    "        self.B   = B\n",
    "        self.oNN = nn.Sequential(\n",
    "            nn.Identity(),\n",
    "            nn.Conv2d(3,   32,  5, stride=2, padding=2, bias=False), nn.BatchNorm2d(32 ), nn.ReLU(), nn.Dropout2d(0.2),\n",
    "            ResBlock(32),                                                                            nn.Dropout2d(0.2),\n",
    "            ResBlock(32),                                                                            nn.Dropout2d(0.2),\n",
    "            nn.Conv2d(32,  64,  3, stride=2, padding=1, bias=False), nn.BatchNorm2d(64 ), nn.ReLU(), nn.Dropout2d(0.2),\n",
    "            ResBlock(64),                                                                            nn.Dropout2d(0.2),\n",
    "            ResBlock(64),                                                                            nn.Dropout2d(0.2),\n",
    "            nn.Conv2d(64,  128, 3, stride=2, padding=1, bias=False), nn.BatchNorm2d(128), nn.ReLU(), nn.Dropout2d(0.2),\n",
    "            ResBlock(128),                                                                           nn.Dropout2d(0.2),\n",
    "            ResBlock(128),                                                                           nn.Dropout2d(0.2),\n",
    "            nn.Conv2d(128, 256, 3, stride=2, padding=1, bias=False), nn.BatchNorm2d(256), nn.ReLU(), nn.Dropout2d(0.2),\n",
    "            ResBlock(256),                                                                           nn.Dropout2d(0.2),\n",
    "            ResBlock(256),                                                                           nn.Dropout2d(0.2),\n",
    "            nn.Conv2d(256, 512, 3, stride=2, padding=2, bias=False), nn.BatchNorm2d(512), nn.ReLU(), nn.Dropout2d(0.2),\n",
    "            nn.Conv2d(512, B*8, 1, stride=1, padding=0, bias=True ),\n",
    "    )\n",
    "        \n",
    "    def forward(self, mX):\n",
    "        mOutput = self.oNN(mX)                                 #-- [N, B*8, S, S]\n",
    "        mOutput = mOutput.view(-1, B, 8, GRID_SIZE, GRID_SIZE) #-- [N, B, 8, S, S]\n",
    "        \n",
    "                                        #-- mOutput[ii,bb,:,jj,kk] = [p | x, y, log(W), log(H) | R, G, B]\n",
    "        mOutput[:,:,1:3,:,:].sigmoid_() #-- makes sure x and y are in [0, 1]\n",
    "                \n",
    "        return mOutput\n",
    "#-------------------------------------------------------------------------------------------------------------------------#\n",
    "#-------------------------------------------------------------------------------------------------------------------------#\n",
    "#-- Model summary:\n",
    "mTarget = Model(B)(mX)\n",
    "mTarget.shape, \\\n",
    "torchinfo.summary(Model(B), mX.shape)"
   ]
  },
  {
   "cell_type": "markdown",
   "id": "fcedf34c-32de-4d70-bc0e-6c138c6f7c05",
   "metadata": {},
   "source": [
    "### Exercise - loss function (BCE + MSE + CE):\n",
    "* Implement the loss function:\n",
    "$$\\ell\\left(\\hat{\\boldsymbol{y}},\\boldsymbol{y}\\right)=\\begin{cases}\n",
    "\\lambda_{\\text{BCE}}\\cdot\\ell_{\\text{BCE}}\\left(\\hat{y}_{\\text{detect}},y_{\\text{detect}}\\right) & y_{\\text{detect}}=0\\\\\n",
    "\\lambda_{\\text{BCE}}\\cdot\\ell_{\\text{BCE}}\\left(\\hat{y}_{\\text{detect}},y_{\\text{detect}}\\right)+\\lambda_{\\text{MSE}}\\cdot\\ell_{\\text{MSE}}\\left(\\hat{\\boldsymbol{y}}_{\\text{bbox}},\\boldsymbol{y}_{\\text{bbox}}\\right)+\\lambda_{\\text{CE}}\\cdot\\ell_{\\text{CE}}\\left(\\hat{\\boldsymbol{y}}_{\\text{label}},\\boldsymbol{y}_{\\text{label}}\\right) & y_{\\text{detect}}=1\n",
    "\\end{cases}$$\n",
    "where $\\lambda_{\\text{BCE}}\\lambda_{\\text{BCE}}, \\lambda_{\\text{MSE}}$ and $\\lambda_{\\text{CE}}$ are the weights\n",
    "of each loss.  \n",
    "* Use:\n",
    "$$\\lambda_{\\mathrm{BCE}}=\\lambda_{\\mathrm{CE}}=\\lambda_{\\mathrm{MSE}}=1$$\n",
    "\n",
    "**Hint:** Use the `MainVanillaObjectDetection.ipynb` loss function as a reference."
   ]
  },
  {
   "cell_type": "code",
   "execution_count": 20,
   "id": "6e1adca8",
   "metadata": {
    "ExecuteTime": {
     "end_time": "2021-11-14T18:37:28.197371Z",
     "start_time": "2021-11-14T18:37:28.150308Z"
    },
    "tags": []
   },
   "outputs": [],
   "source": [
    "def Loss_Ex(mOutput, mTarget):\n",
    "    #-- mOutput.shape       = (N, B, 8, 5, 5)\n",
    "    #-- mTarget.shape       = (N, B, 6, 5, 5)\n",
    "    #-- mOutput[ii,bb,:,jj,kk] = [p | x, y, W, H | R, G, B]\n",
    "    #-- mTarget[ii,bb,:,jj,kk] = [p | x, y, W, H | cIdx]\n",
    "    \n",
    "#     ???\n",
    "#     loss = BCE + MSE + CE\n",
    "    \n",
    "#     return loss, BCE.item(), CE.item(), MSE.item()\n",
    "    return 0, 0, 0, 0"
   ]
  },
  {
   "cell_type": "markdown",
   "id": "c7f9a669",
   "metadata": {},
   "source": [
    "#### Test your implementation:"
   ]
  },
  {
   "cell_type": "code",
   "execution_count": 21,
   "id": "6dfb0ce8",
   "metadata": {
    "ExecuteTime": {
     "end_time": "2021-11-14T18:37:28.373509Z",
     "start_time": "2021-11-14T18:37:28.198351Z"
    }
   },
   "outputs": [
    {
     "name": "stdout",
     "output_type": "stream",
     "text": [
      "Fail!\n"
     ]
    }
   ],
   "source": [
    "from DeepLearningFramework.AnchorsUtils import Loss\n",
    "\n",
    "mTarget = torch.cat([torch.randint(0, 2, (1000, 2, 1, 5, 5)), torch.rand(1000, 2, 4, 5, 5), torch.randint(0, 3, (1000, 2, 1, 5, 5))], dim=2)\n",
    "mOutput = torch.rand(1000, 2, 8, 5, 5)\n",
    "\n",
    "loss1   = Loss   (mOutput, mTarget)[0]\n",
    "loss2   = Loss_Ex(mOutput, mTarget)[0]\n",
    "\n",
    "if np.abs(loss1 - loss2) < 1e-10:\n",
    "    print('Success!')\n",
    "else:\n",
    "    print('Fail!')"
   ]
  },
  {
   "cell_type": "markdown",
   "id": "4efcf112-b2a3-41cd-8023-50e1039a2913",
   "metadata": {},
   "source": [
    "### `Epoch`\n",
    "Since we have not implemented a metric (yet), we will use: `metric = -loss`"
   ]
  },
  {
   "cell_type": "code",
   "execution_count": 22,
   "id": "8c2796e6-c4e3-469d-99ba-636f5c83aa1e",
   "metadata": {
    "ExecuteTime": {
     "end_time": "2021-11-14T18:37:28.437567Z",
     "start_time": "2021-11-14T18:37:28.374510Z"
    }
   },
   "outputs": [],
   "source": [
    "def Epoch(oModel, oDataDL, Loss, Metric, oOptim=None, oScheduler=None, bTrain=True):\n",
    "\n",
    "    vEpochStats = np.zeros(5) #-- (Loss, BCE, CE, MSE, -Loss)\n",
    "    count       = 0\n",
    "    nIter       = len(oDataDL)\n",
    "    DEVICE      = next(oModel.parameters()).device #-- CPU\\GPU\n",
    "\n",
    "    oModel.train(bTrain) #-- train or test\n",
    "\n",
    "    #-- Iterate over the mini-batches:\n",
    "    for ii, (mX, _, mTarget) in enumerate(oDataDL):\n",
    "        #-- Move to device (CPU\\GPU):\n",
    "        mX      = mX     .to(DEVICE)\n",
    "        mTarget = mTarget.to(DEVICE)\n",
    "\n",
    "        #-- Forward:\n",
    "        if bTrain == True:\n",
    "            #-- Store computational graph:\n",
    "            mOut               = oModel(mX)\n",
    "            loss, BCE, CE, MSE = Loss  (mOut, mTarget)\n",
    "\n",
    "            #-- Backward:\n",
    "            oOptim    .zero_grad() #-- set gradients to zeros\n",
    "            loss      .backward () #-- backward\n",
    "            oOptim    .step     () #-- update parameters\n",
    "            oScheduler.step     () #-- update learning rate\n",
    "            \n",
    "        else:\n",
    "            with torch.no_grad():\n",
    "                #-- Do not store computational graph:\n",
    "                mOut               = oModel(mX)\n",
    "                loss, BCE, CE, MSE = Loss  (mOut, mTarget)        \n",
    "\n",
    "        with torch.no_grad():\n",
    "            Nb           = mX.shape[0]\n",
    "            vIterStats   = np.array([loss.item(), BCE, CE, MSE, -loss.item()])\n",
    "            vEpochStats += Nb * vIterStats\n",
    "            count       += Nb\n",
    "        print(f'\\r{\"Train\" if bTrain else \"Val\"} - Iteration: {ii:3d} ({nIter}): loss = {loss:6.3f}', end='')\n",
    "\n",
    "    print('', end='\\r')\n",
    "    vEpochStats /= count\n",
    "\n",
    "    return vEpochStats"
   ]
  },
  {
   "cell_type": "code",
   "execution_count": 23,
   "id": "0cb311ff-682a-4c05-9ddf-4eced3a11d3c",
   "metadata": {
    "ExecuteTime": {
     "end_time": "2021-11-14T18:37:28.501626Z",
     "start_time": "2021-11-14T18:37:28.439569Z"
    }
   },
   "outputs": [],
   "source": [
    "Metric = None #-- We will do this later"
   ]
  },
  {
   "cell_type": "code",
   "execution_count": 24,
   "id": "dc3be899-b111-4bd4-87e9-23e33ab65870",
   "metadata": {
    "ExecuteTime": {
     "end_time": "2021-11-14T18:37:28.565683Z",
     "start_time": "2021-11-14T18:37:28.502627Z"
    }
   },
   "outputs": [],
   "source": [
    "import time\n",
    "\n",
    "def TrainModel(oModel, oTrainData, oValData, Loss, Metric, nEpochs, oOptim, oScheduler=None, sModelName='AnchorObjectDetection'):\n",
    "\n",
    "    TRAIN        = 0\n",
    "    VAL          = 1\n",
    "    vLR          = np.full(0,       np.nan)\n",
    "    mHistory     = np.full((2, 5, nEpochs), np.nan)\n",
    "    lNames       = ['Loss', 'BCE', 'CE', 'MSE', 'Metric']\n",
    "    bestMetric   = -float('inf')\n",
    "\n",
    "    fig, _ = plt.subplots(2, 2, figsize=(12, 6))\n",
    "    for epoch in range(nEpochs):\n",
    "        startTime               = time.time()\n",
    "        mHistory[TRAIN,:,epoch] = Epoch(oModel, oTrainData, Loss, Metric, oOptim, oScheduler, bTrain=True ) #-- train\n",
    "        mHistory[VAL,  :,epoch] = Epoch(oModel, oValData,   Loss, Metric,                     bTrain=False) #-- validate\n",
    "        epochTime               = time.time() - startTime\n",
    "\n",
    "        #-- Display:\n",
    "        if epoch % 10 == 0:\n",
    "            print('-' * 120)\n",
    "        print('Epoch '            f'{epoch                   :03d}:',   end='')\n",
    "        print(' | Train loss: '   f'{mHistory[TRAIN,0,epoch] :6.3f}',   end='')\n",
    "        print(' | Val loss: '     f'{mHistory[VAL,  0,epoch] :6.3f}',   end='')\n",
    "        print(' | Train Metric: ' f'{mHistory[TRAIN,4,epoch] :6.3f}',   end='')\n",
    "        print(' | Val Metric: '   f'{mHistory[VAL,  4,epoch] :6.3f}',   end='')\n",
    "        print(' | epoch time: '   f'{epochTime               :6.3f} |', end='')\n",
    "\n",
    "        valMetric = mHistory[VAL,4,epoch]\n",
    "        #-- Save best model (early stopping):\n",
    "        if valMetric > bestMetric:\n",
    "            bestMetric = valMetric\n",
    "            try   : torch.save(oModel.state_dict(), sModelName + '.pt')\n",
    "            except: pass\n",
    "            print(' <-- Checkpoint!')\n",
    "        else:\n",
    "            print('')\n",
    "            \n",
    "        for ii, ax in enumerate(fig.axes):\n",
    "            ax.cla      ()\n",
    "            ax.plot     (mHistory[TRAIN, ii], 'b', label='Train')\n",
    "            ax.plot     (mHistory[VAL,   ii], 'r', label='Validation')\n",
    "            ax.set_title(lNames[ii])\n",
    "            ax.grid     ()\n",
    "            ax.legend   ()\n",
    "\n",
    "        fig.canvas.draw ()\n",
    "        plt.tight_layout()\n",
    "        plt.pause       (1e-4)\n",
    "\n",
    "    #-- Load best model (early stopping):\n",
    "    oModel.load_state_dict(torch.load(sModelName + '.pt'))\n",
    "\n",
    "    return mHistory"
   ]
  },
  {
   "cell_type": "code",
   "execution_count": 25,
   "id": "bbfaccd9",
   "metadata": {
    "ExecuteTime": {
     "end_time": "2021-11-14T18:41:40.748810Z",
     "start_time": "2021-11-14T18:37:28.566686Z"
    },
    "scrolled": false,
    "tags": []
   },
   "outputs": [
    {
     "data": {
      "application/javascript": [
       "/* Put everything inside the global mpl namespace */\n",
       "/* global mpl */\n",
       "window.mpl = {};\n",
       "\n",
       "mpl.get_websocket_type = function () {\n",
       "    if (typeof WebSocket !== 'undefined') {\n",
       "        return WebSocket;\n",
       "    } else if (typeof MozWebSocket !== 'undefined') {\n",
       "        return MozWebSocket;\n",
       "    } else {\n",
       "        alert(\n",
       "            'Your browser does not have WebSocket support. ' +\n",
       "                'Please try Chrome, Safari or Firefox ≥ 6. ' +\n",
       "                'Firefox 4 and 5 are also supported but you ' +\n",
       "                'have to enable WebSockets in about:config.'\n",
       "        );\n",
       "    }\n",
       "};\n",
       "\n",
       "mpl.figure = function (figure_id, websocket, ondownload, parent_element) {\n",
       "    this.id = figure_id;\n",
       "\n",
       "    this.ws = websocket;\n",
       "\n",
       "    this.supports_binary = this.ws.binaryType !== undefined;\n",
       "\n",
       "    if (!this.supports_binary) {\n",
       "        var warnings = document.getElementById('mpl-warnings');\n",
       "        if (warnings) {\n",
       "            warnings.style.display = 'block';\n",
       "            warnings.textContent =\n",
       "                'This browser does not support binary websocket messages. ' +\n",
       "                'Performance may be slow.';\n",
       "        }\n",
       "    }\n",
       "\n",
       "    this.imageObj = new Image();\n",
       "\n",
       "    this.context = undefined;\n",
       "    this.message = undefined;\n",
       "    this.canvas = undefined;\n",
       "    this.rubberband_canvas = undefined;\n",
       "    this.rubberband_context = undefined;\n",
       "    this.format_dropdown = undefined;\n",
       "\n",
       "    this.image_mode = 'full';\n",
       "\n",
       "    this.root = document.createElement('div');\n",
       "    this.root.setAttribute('style', 'display: inline-block');\n",
       "    this._root_extra_style(this.root);\n",
       "\n",
       "    parent_element.appendChild(this.root);\n",
       "\n",
       "    this._init_header(this);\n",
       "    this._init_canvas(this);\n",
       "    this._init_toolbar(this);\n",
       "\n",
       "    var fig = this;\n",
       "\n",
       "    this.waiting = false;\n",
       "\n",
       "    this.ws.onopen = function () {\n",
       "        fig.send_message('supports_binary', { value: fig.supports_binary });\n",
       "        fig.send_message('send_image_mode', {});\n",
       "        if (fig.ratio !== 1) {\n",
       "            fig.send_message('set_dpi_ratio', { dpi_ratio: fig.ratio });\n",
       "        }\n",
       "        fig.send_message('refresh', {});\n",
       "    };\n",
       "\n",
       "    this.imageObj.onload = function () {\n",
       "        if (fig.image_mode === 'full') {\n",
       "            // Full images could contain transparency (where diff images\n",
       "            // almost always do), so we need to clear the canvas so that\n",
       "            // there is no ghosting.\n",
       "            fig.context.clearRect(0, 0, fig.canvas.width, fig.canvas.height);\n",
       "        }\n",
       "        fig.context.drawImage(fig.imageObj, 0, 0);\n",
       "    };\n",
       "\n",
       "    this.imageObj.onunload = function () {\n",
       "        fig.ws.close();\n",
       "    };\n",
       "\n",
       "    this.ws.onmessage = this._make_on_message_function(this);\n",
       "\n",
       "    this.ondownload = ondownload;\n",
       "};\n",
       "\n",
       "mpl.figure.prototype._init_header = function () {\n",
       "    var titlebar = document.createElement('div');\n",
       "    titlebar.classList =\n",
       "        'ui-dialog-titlebar ui-widget-header ui-corner-all ui-helper-clearfix';\n",
       "    var titletext = document.createElement('div');\n",
       "    titletext.classList = 'ui-dialog-title';\n",
       "    titletext.setAttribute(\n",
       "        'style',\n",
       "        'width: 100%; text-align: center; padding: 3px;'\n",
       "    );\n",
       "    titlebar.appendChild(titletext);\n",
       "    this.root.appendChild(titlebar);\n",
       "    this.header = titletext;\n",
       "};\n",
       "\n",
       "mpl.figure.prototype._canvas_extra_style = function (_canvas_div) {};\n",
       "\n",
       "mpl.figure.prototype._root_extra_style = function (_canvas_div) {};\n",
       "\n",
       "mpl.figure.prototype._init_canvas = function () {\n",
       "    var fig = this;\n",
       "\n",
       "    var canvas_div = (this.canvas_div = document.createElement('div'));\n",
       "    canvas_div.setAttribute(\n",
       "        'style',\n",
       "        'border: 1px solid #ddd;' +\n",
       "            'box-sizing: content-box;' +\n",
       "            'clear: both;' +\n",
       "            'min-height: 1px;' +\n",
       "            'min-width: 1px;' +\n",
       "            'outline: 0;' +\n",
       "            'overflow: hidden;' +\n",
       "            'position: relative;' +\n",
       "            'resize: both;'\n",
       "    );\n",
       "\n",
       "    function on_keyboard_event_closure(name) {\n",
       "        return function (event) {\n",
       "            return fig.key_event(event, name);\n",
       "        };\n",
       "    }\n",
       "\n",
       "    canvas_div.addEventListener(\n",
       "        'keydown',\n",
       "        on_keyboard_event_closure('key_press')\n",
       "    );\n",
       "    canvas_div.addEventListener(\n",
       "        'keyup',\n",
       "        on_keyboard_event_closure('key_release')\n",
       "    );\n",
       "\n",
       "    this._canvas_extra_style(canvas_div);\n",
       "    this.root.appendChild(canvas_div);\n",
       "\n",
       "    var canvas = (this.canvas = document.createElement('canvas'));\n",
       "    canvas.classList.add('mpl-canvas');\n",
       "    canvas.setAttribute('style', 'box-sizing: content-box;');\n",
       "\n",
       "    this.context = canvas.getContext('2d');\n",
       "\n",
       "    var backingStore =\n",
       "        this.context.backingStorePixelRatio ||\n",
       "        this.context.webkitBackingStorePixelRatio ||\n",
       "        this.context.mozBackingStorePixelRatio ||\n",
       "        this.context.msBackingStorePixelRatio ||\n",
       "        this.context.oBackingStorePixelRatio ||\n",
       "        this.context.backingStorePixelRatio ||\n",
       "        1;\n",
       "\n",
       "    this.ratio = (window.devicePixelRatio || 1) / backingStore;\n",
       "\n",
       "    var rubberband_canvas = (this.rubberband_canvas = document.createElement(\n",
       "        'canvas'\n",
       "    ));\n",
       "    rubberband_canvas.setAttribute(\n",
       "        'style',\n",
       "        'box-sizing: content-box; position: absolute; left: 0; top: 0; z-index: 1;'\n",
       "    );\n",
       "\n",
       "    // Apply a ponyfill if ResizeObserver is not implemented by browser.\n",
       "    if (this.ResizeObserver === undefined) {\n",
       "        if (window.ResizeObserver !== undefined) {\n",
       "            this.ResizeObserver = window.ResizeObserver;\n",
       "        } else {\n",
       "            var obs = _JSXTOOLS_RESIZE_OBSERVER({});\n",
       "            this.ResizeObserver = obs.ResizeObserver;\n",
       "        }\n",
       "    }\n",
       "\n",
       "    this.resizeObserverInstance = new this.ResizeObserver(function (entries) {\n",
       "        var nentries = entries.length;\n",
       "        for (var i = 0; i < nentries; i++) {\n",
       "            var entry = entries[i];\n",
       "            var width, height;\n",
       "            if (entry.contentBoxSize) {\n",
       "                if (entry.contentBoxSize instanceof Array) {\n",
       "                    // Chrome 84 implements new version of spec.\n",
       "                    width = entry.contentBoxSize[0].inlineSize;\n",
       "                    height = entry.contentBoxSize[0].blockSize;\n",
       "                } else {\n",
       "                    // Firefox implements old version of spec.\n",
       "                    width = entry.contentBoxSize.inlineSize;\n",
       "                    height = entry.contentBoxSize.blockSize;\n",
       "                }\n",
       "            } else {\n",
       "                // Chrome <84 implements even older version of spec.\n",
       "                width = entry.contentRect.width;\n",
       "                height = entry.contentRect.height;\n",
       "            }\n",
       "\n",
       "            // Keep the size of the canvas and rubber band canvas in sync with\n",
       "            // the canvas container.\n",
       "            if (entry.devicePixelContentBoxSize) {\n",
       "                // Chrome 84 implements new version of spec.\n",
       "                canvas.setAttribute(\n",
       "                    'width',\n",
       "                    entry.devicePixelContentBoxSize[0].inlineSize\n",
       "                );\n",
       "                canvas.setAttribute(\n",
       "                    'height',\n",
       "                    entry.devicePixelContentBoxSize[0].blockSize\n",
       "                );\n",
       "            } else {\n",
       "                canvas.setAttribute('width', width * fig.ratio);\n",
       "                canvas.setAttribute('height', height * fig.ratio);\n",
       "            }\n",
       "            canvas.setAttribute(\n",
       "                'style',\n",
       "                'width: ' + width + 'px; height: ' + height + 'px;'\n",
       "            );\n",
       "\n",
       "            rubberband_canvas.setAttribute('width', width);\n",
       "            rubberband_canvas.setAttribute('height', height);\n",
       "\n",
       "            // And update the size in Python. We ignore the initial 0/0 size\n",
       "            // that occurs as the element is placed into the DOM, which should\n",
       "            // otherwise not happen due to the minimum size styling.\n",
       "            if (fig.ws.readyState == 1 && width != 0 && height != 0) {\n",
       "                fig.request_resize(width, height);\n",
       "            }\n",
       "        }\n",
       "    });\n",
       "    this.resizeObserverInstance.observe(canvas_div);\n",
       "\n",
       "    function on_mouse_event_closure(name) {\n",
       "        return function (event) {\n",
       "            return fig.mouse_event(event, name);\n",
       "        };\n",
       "    }\n",
       "\n",
       "    rubberband_canvas.addEventListener(\n",
       "        'mousedown',\n",
       "        on_mouse_event_closure('button_press')\n",
       "    );\n",
       "    rubberband_canvas.addEventListener(\n",
       "        'mouseup',\n",
       "        on_mouse_event_closure('button_release')\n",
       "    );\n",
       "    rubberband_canvas.addEventListener(\n",
       "        'dblclick',\n",
       "        on_mouse_event_closure('dblclick')\n",
       "    );\n",
       "    // Throttle sequential mouse events to 1 every 20ms.\n",
       "    rubberband_canvas.addEventListener(\n",
       "        'mousemove',\n",
       "        on_mouse_event_closure('motion_notify')\n",
       "    );\n",
       "\n",
       "    rubberband_canvas.addEventListener(\n",
       "        'mouseenter',\n",
       "        on_mouse_event_closure('figure_enter')\n",
       "    );\n",
       "    rubberband_canvas.addEventListener(\n",
       "        'mouseleave',\n",
       "        on_mouse_event_closure('figure_leave')\n",
       "    );\n",
       "\n",
       "    canvas_div.addEventListener('wheel', function (event) {\n",
       "        if (event.deltaY < 0) {\n",
       "            event.step = 1;\n",
       "        } else {\n",
       "            event.step = -1;\n",
       "        }\n",
       "        on_mouse_event_closure('scroll')(event);\n",
       "    });\n",
       "\n",
       "    canvas_div.appendChild(canvas);\n",
       "    canvas_div.appendChild(rubberband_canvas);\n",
       "\n",
       "    this.rubberband_context = rubberband_canvas.getContext('2d');\n",
       "    this.rubberband_context.strokeStyle = '#000000';\n",
       "\n",
       "    this._resize_canvas = function (width, height, forward) {\n",
       "        if (forward) {\n",
       "            canvas_div.style.width = width + 'px';\n",
       "            canvas_div.style.height = height + 'px';\n",
       "        }\n",
       "    };\n",
       "\n",
       "    // Disable right mouse context menu.\n",
       "    this.rubberband_canvas.addEventListener('contextmenu', function (_e) {\n",
       "        event.preventDefault();\n",
       "        return false;\n",
       "    });\n",
       "\n",
       "    function set_focus() {\n",
       "        canvas.focus();\n",
       "        canvas_div.focus();\n",
       "    }\n",
       "\n",
       "    window.setTimeout(set_focus, 100);\n",
       "};\n",
       "\n",
       "mpl.figure.prototype._init_toolbar = function () {\n",
       "    var fig = this;\n",
       "\n",
       "    var toolbar = document.createElement('div');\n",
       "    toolbar.classList = 'mpl-toolbar';\n",
       "    this.root.appendChild(toolbar);\n",
       "\n",
       "    function on_click_closure(name) {\n",
       "        return function (_event) {\n",
       "            return fig.toolbar_button_onclick(name);\n",
       "        };\n",
       "    }\n",
       "\n",
       "    function on_mouseover_closure(tooltip) {\n",
       "        return function (event) {\n",
       "            if (!event.currentTarget.disabled) {\n",
       "                return fig.toolbar_button_onmouseover(tooltip);\n",
       "            }\n",
       "        };\n",
       "    }\n",
       "\n",
       "    fig.buttons = {};\n",
       "    var buttonGroup = document.createElement('div');\n",
       "    buttonGroup.classList = 'mpl-button-group';\n",
       "    for (var toolbar_ind in mpl.toolbar_items) {\n",
       "        var name = mpl.toolbar_items[toolbar_ind][0];\n",
       "        var tooltip = mpl.toolbar_items[toolbar_ind][1];\n",
       "        var image = mpl.toolbar_items[toolbar_ind][2];\n",
       "        var method_name = mpl.toolbar_items[toolbar_ind][3];\n",
       "\n",
       "        if (!name) {\n",
       "            /* Instead of a spacer, we start a new button group. */\n",
       "            if (buttonGroup.hasChildNodes()) {\n",
       "                toolbar.appendChild(buttonGroup);\n",
       "            }\n",
       "            buttonGroup = document.createElement('div');\n",
       "            buttonGroup.classList = 'mpl-button-group';\n",
       "            continue;\n",
       "        }\n",
       "\n",
       "        var button = (fig.buttons[name] = document.createElement('button'));\n",
       "        button.classList = 'mpl-widget';\n",
       "        button.setAttribute('role', 'button');\n",
       "        button.setAttribute('aria-disabled', 'false');\n",
       "        button.addEventListener('click', on_click_closure(method_name));\n",
       "        button.addEventListener('mouseover', on_mouseover_closure(tooltip));\n",
       "\n",
       "        var icon_img = document.createElement('img');\n",
       "        icon_img.src = '_images/' + image + '.png';\n",
       "        icon_img.srcset = '_images/' + image + '_large.png 2x';\n",
       "        icon_img.alt = tooltip;\n",
       "        button.appendChild(icon_img);\n",
       "\n",
       "        buttonGroup.appendChild(button);\n",
       "    }\n",
       "\n",
       "    if (buttonGroup.hasChildNodes()) {\n",
       "        toolbar.appendChild(buttonGroup);\n",
       "    }\n",
       "\n",
       "    var fmt_picker = document.createElement('select');\n",
       "    fmt_picker.classList = 'mpl-widget';\n",
       "    toolbar.appendChild(fmt_picker);\n",
       "    this.format_dropdown = fmt_picker;\n",
       "\n",
       "    for (var ind in mpl.extensions) {\n",
       "        var fmt = mpl.extensions[ind];\n",
       "        var option = document.createElement('option');\n",
       "        option.selected = fmt === mpl.default_extension;\n",
       "        option.innerHTML = fmt;\n",
       "        fmt_picker.appendChild(option);\n",
       "    }\n",
       "\n",
       "    var status_bar = document.createElement('span');\n",
       "    status_bar.classList = 'mpl-message';\n",
       "    toolbar.appendChild(status_bar);\n",
       "    this.message = status_bar;\n",
       "};\n",
       "\n",
       "mpl.figure.prototype.request_resize = function (x_pixels, y_pixels) {\n",
       "    // Request matplotlib to resize the figure. Matplotlib will then trigger a resize in the client,\n",
       "    // which will in turn request a refresh of the image.\n",
       "    this.send_message('resize', { width: x_pixels, height: y_pixels });\n",
       "};\n",
       "\n",
       "mpl.figure.prototype.send_message = function (type, properties) {\n",
       "    properties['type'] = type;\n",
       "    properties['figure_id'] = this.id;\n",
       "    this.ws.send(JSON.stringify(properties));\n",
       "};\n",
       "\n",
       "mpl.figure.prototype.send_draw_message = function () {\n",
       "    if (!this.waiting) {\n",
       "        this.waiting = true;\n",
       "        this.ws.send(JSON.stringify({ type: 'draw', figure_id: this.id }));\n",
       "    }\n",
       "};\n",
       "\n",
       "mpl.figure.prototype.handle_save = function (fig, _msg) {\n",
       "    var format_dropdown = fig.format_dropdown;\n",
       "    var format = format_dropdown.options[format_dropdown.selectedIndex].value;\n",
       "    fig.ondownload(fig, format);\n",
       "};\n",
       "\n",
       "mpl.figure.prototype.handle_resize = function (fig, msg) {\n",
       "    var size = msg['size'];\n",
       "    if (size[0] !== fig.canvas.width || size[1] !== fig.canvas.height) {\n",
       "        fig._resize_canvas(size[0], size[1], msg['forward']);\n",
       "        fig.send_message('refresh', {});\n",
       "    }\n",
       "};\n",
       "\n",
       "mpl.figure.prototype.handle_rubberband = function (fig, msg) {\n",
       "    var x0 = msg['x0'] / fig.ratio;\n",
       "    var y0 = (fig.canvas.height - msg['y0']) / fig.ratio;\n",
       "    var x1 = msg['x1'] / fig.ratio;\n",
       "    var y1 = (fig.canvas.height - msg['y1']) / fig.ratio;\n",
       "    x0 = Math.floor(x0) + 0.5;\n",
       "    y0 = Math.floor(y0) + 0.5;\n",
       "    x1 = Math.floor(x1) + 0.5;\n",
       "    y1 = Math.floor(y1) + 0.5;\n",
       "    var min_x = Math.min(x0, x1);\n",
       "    var min_y = Math.min(y0, y1);\n",
       "    var width = Math.abs(x1 - x0);\n",
       "    var height = Math.abs(y1 - y0);\n",
       "\n",
       "    fig.rubberband_context.clearRect(\n",
       "        0,\n",
       "        0,\n",
       "        fig.canvas.width / fig.ratio,\n",
       "        fig.canvas.height / fig.ratio\n",
       "    );\n",
       "\n",
       "    fig.rubberband_context.strokeRect(min_x, min_y, width, height);\n",
       "};\n",
       "\n",
       "mpl.figure.prototype.handle_figure_label = function (fig, msg) {\n",
       "    // Updates the figure title.\n",
       "    fig.header.textContent = msg['label'];\n",
       "};\n",
       "\n",
       "mpl.figure.prototype.handle_cursor = function (fig, msg) {\n",
       "    var cursor = msg['cursor'];\n",
       "    switch (cursor) {\n",
       "        case 0:\n",
       "            cursor = 'pointer';\n",
       "            break;\n",
       "        case 1:\n",
       "            cursor = 'default';\n",
       "            break;\n",
       "        case 2:\n",
       "            cursor = 'crosshair';\n",
       "            break;\n",
       "        case 3:\n",
       "            cursor = 'move';\n",
       "            break;\n",
       "    }\n",
       "    fig.rubberband_canvas.style.cursor = cursor;\n",
       "};\n",
       "\n",
       "mpl.figure.prototype.handle_message = function (fig, msg) {\n",
       "    fig.message.textContent = msg['message'];\n",
       "};\n",
       "\n",
       "mpl.figure.prototype.handle_draw = function (fig, _msg) {\n",
       "    // Request the server to send over a new figure.\n",
       "    fig.send_draw_message();\n",
       "};\n",
       "\n",
       "mpl.figure.prototype.handle_image_mode = function (fig, msg) {\n",
       "    fig.image_mode = msg['mode'];\n",
       "};\n",
       "\n",
       "mpl.figure.prototype.handle_history_buttons = function (fig, msg) {\n",
       "    for (var key in msg) {\n",
       "        if (!(key in fig.buttons)) {\n",
       "            continue;\n",
       "        }\n",
       "        fig.buttons[key].disabled = !msg[key];\n",
       "        fig.buttons[key].setAttribute('aria-disabled', !msg[key]);\n",
       "    }\n",
       "};\n",
       "\n",
       "mpl.figure.prototype.handle_navigate_mode = function (fig, msg) {\n",
       "    if (msg['mode'] === 'PAN') {\n",
       "        fig.buttons['Pan'].classList.add('active');\n",
       "        fig.buttons['Zoom'].classList.remove('active');\n",
       "    } else if (msg['mode'] === 'ZOOM') {\n",
       "        fig.buttons['Pan'].classList.remove('active');\n",
       "        fig.buttons['Zoom'].classList.add('active');\n",
       "    } else {\n",
       "        fig.buttons['Pan'].classList.remove('active');\n",
       "        fig.buttons['Zoom'].classList.remove('active');\n",
       "    }\n",
       "};\n",
       "\n",
       "mpl.figure.prototype.updated_canvas_event = function () {\n",
       "    // Called whenever the canvas gets updated.\n",
       "    this.send_message('ack', {});\n",
       "};\n",
       "\n",
       "// A function to construct a web socket function for onmessage handling.\n",
       "// Called in the figure constructor.\n",
       "mpl.figure.prototype._make_on_message_function = function (fig) {\n",
       "    return function socket_on_message(evt) {\n",
       "        if (evt.data instanceof Blob) {\n",
       "            var img = evt.data;\n",
       "            if (img.type !== 'image/png') {\n",
       "                /* FIXME: We get \"Resource interpreted as Image but\n",
       "                 * transferred with MIME type text/plain:\" errors on\n",
       "                 * Chrome.  But how to set the MIME type?  It doesn't seem\n",
       "                 * to be part of the websocket stream */\n",
       "                img.type = 'image/png';\n",
       "            }\n",
       "\n",
       "            /* Free the memory for the previous frames */\n",
       "            if (fig.imageObj.src) {\n",
       "                (window.URL || window.webkitURL).revokeObjectURL(\n",
       "                    fig.imageObj.src\n",
       "                );\n",
       "            }\n",
       "\n",
       "            fig.imageObj.src = (window.URL || window.webkitURL).createObjectURL(\n",
       "                img\n",
       "            );\n",
       "            fig.updated_canvas_event();\n",
       "            fig.waiting = false;\n",
       "            return;\n",
       "        } else if (\n",
       "            typeof evt.data === 'string' &&\n",
       "            evt.data.slice(0, 21) === 'data:image/png;base64'\n",
       "        ) {\n",
       "            fig.imageObj.src = evt.data;\n",
       "            fig.updated_canvas_event();\n",
       "            fig.waiting = false;\n",
       "            return;\n",
       "        }\n",
       "\n",
       "        var msg = JSON.parse(evt.data);\n",
       "        var msg_type = msg['type'];\n",
       "\n",
       "        // Call the  \"handle_{type}\" callback, which takes\n",
       "        // the figure and JSON message as its only arguments.\n",
       "        try {\n",
       "            var callback = fig['handle_' + msg_type];\n",
       "        } catch (e) {\n",
       "            console.log(\n",
       "                \"No handler for the '\" + msg_type + \"' message type: \",\n",
       "                msg\n",
       "            );\n",
       "            return;\n",
       "        }\n",
       "\n",
       "        if (callback) {\n",
       "            try {\n",
       "                // console.log(\"Handling '\" + msg_type + \"' message: \", msg);\n",
       "                callback(fig, msg);\n",
       "            } catch (e) {\n",
       "                console.log(\n",
       "                    \"Exception inside the 'handler_\" + msg_type + \"' callback:\",\n",
       "                    e,\n",
       "                    e.stack,\n",
       "                    msg\n",
       "                );\n",
       "            }\n",
       "        }\n",
       "    };\n",
       "};\n",
       "\n",
       "// from http://stackoverflow.com/questions/1114465/getting-mouse-location-in-canvas\n",
       "mpl.findpos = function (e) {\n",
       "    //this section is from http://www.quirksmode.org/js/events_properties.html\n",
       "    var targ;\n",
       "    if (!e) {\n",
       "        e = window.event;\n",
       "    }\n",
       "    if (e.target) {\n",
       "        targ = e.target;\n",
       "    } else if (e.srcElement) {\n",
       "        targ = e.srcElement;\n",
       "    }\n",
       "    if (targ.nodeType === 3) {\n",
       "        // defeat Safari bug\n",
       "        targ = targ.parentNode;\n",
       "    }\n",
       "\n",
       "    // pageX,Y are the mouse positions relative to the document\n",
       "    var boundingRect = targ.getBoundingClientRect();\n",
       "    var x = e.pageX - (boundingRect.left + document.body.scrollLeft);\n",
       "    var y = e.pageY - (boundingRect.top + document.body.scrollTop);\n",
       "\n",
       "    return { x: x, y: y };\n",
       "};\n",
       "\n",
       "/*\n",
       " * return a copy of an object with only non-object keys\n",
       " * we need this to avoid circular references\n",
       " * http://stackoverflow.com/a/24161582/3208463\n",
       " */\n",
       "function simpleKeys(original) {\n",
       "    return Object.keys(original).reduce(function (obj, key) {\n",
       "        if (typeof original[key] !== 'object') {\n",
       "            obj[key] = original[key];\n",
       "        }\n",
       "        return obj;\n",
       "    }, {});\n",
       "}\n",
       "\n",
       "mpl.figure.prototype.mouse_event = function (event, name) {\n",
       "    var canvas_pos = mpl.findpos(event);\n",
       "\n",
       "    if (name === 'button_press') {\n",
       "        this.canvas.focus();\n",
       "        this.canvas_div.focus();\n",
       "    }\n",
       "\n",
       "    var x = canvas_pos.x * this.ratio;\n",
       "    var y = canvas_pos.y * this.ratio;\n",
       "\n",
       "    this.send_message(name, {\n",
       "        x: x,\n",
       "        y: y,\n",
       "        button: event.button,\n",
       "        step: event.step,\n",
       "        guiEvent: simpleKeys(event),\n",
       "    });\n",
       "\n",
       "    /* This prevents the web browser from automatically changing to\n",
       "     * the text insertion cursor when the button is pressed.  We want\n",
       "     * to control all of the cursor setting manually through the\n",
       "     * 'cursor' event from matplotlib */\n",
       "    event.preventDefault();\n",
       "    return false;\n",
       "};\n",
       "\n",
       "mpl.figure.prototype._key_event_extra = function (_event, _name) {\n",
       "    // Handle any extra behaviour associated with a key event\n",
       "};\n",
       "\n",
       "mpl.figure.prototype.key_event = function (event, name) {\n",
       "    // Prevent repeat events\n",
       "    if (name === 'key_press') {\n",
       "        if (event.key === this._key) {\n",
       "            return;\n",
       "        } else {\n",
       "            this._key = event.key;\n",
       "        }\n",
       "    }\n",
       "    if (name === 'key_release') {\n",
       "        this._key = null;\n",
       "    }\n",
       "\n",
       "    var value = '';\n",
       "    if (event.ctrlKey && event.key !== 'Control') {\n",
       "        value += 'ctrl+';\n",
       "    }\n",
       "    else if (event.altKey && event.key !== 'Alt') {\n",
       "        value += 'alt+';\n",
       "    }\n",
       "    else if (event.shiftKey && event.key !== 'Shift') {\n",
       "        value += 'shift+';\n",
       "    }\n",
       "\n",
       "    value += 'k' + event.key;\n",
       "\n",
       "    this._key_event_extra(event, name);\n",
       "\n",
       "    this.send_message(name, { key: value, guiEvent: simpleKeys(event) });\n",
       "    return false;\n",
       "};\n",
       "\n",
       "mpl.figure.prototype.toolbar_button_onclick = function (name) {\n",
       "    if (name === 'download') {\n",
       "        this.handle_save(this, null);\n",
       "    } else {\n",
       "        this.send_message('toolbar_button', { name: name });\n",
       "    }\n",
       "};\n",
       "\n",
       "mpl.figure.prototype.toolbar_button_onmouseover = function (tooltip) {\n",
       "    this.message.textContent = tooltip;\n",
       "};\n",
       "\n",
       "///////////////// REMAINING CONTENT GENERATED BY embed_js.py /////////////////\n",
       "// prettier-ignore\n",
       "var _JSXTOOLS_RESIZE_OBSERVER=function(A){var t,i=new WeakMap,n=new WeakMap,a=new WeakMap,r=new WeakMap,o=new Set;function s(e){if(!(this instanceof s))throw new TypeError(\"Constructor requires 'new' operator\");i.set(this,e)}function h(){throw new TypeError(\"Function is not a constructor\")}function c(e,t,i,n){e=0 in arguments?Number(arguments[0]):0,t=1 in arguments?Number(arguments[1]):0,i=2 in arguments?Number(arguments[2]):0,n=3 in arguments?Number(arguments[3]):0,this.right=(this.x=this.left=e)+(this.width=i),this.bottom=(this.y=this.top=t)+(this.height=n),Object.freeze(this)}function d(){t=requestAnimationFrame(d);var s=new WeakMap,p=new Set;o.forEach((function(t){r.get(t).forEach((function(i){var r=t instanceof window.SVGElement,o=a.get(t),d=r?0:parseFloat(o.paddingTop),f=r?0:parseFloat(o.paddingRight),l=r?0:parseFloat(o.paddingBottom),u=r?0:parseFloat(o.paddingLeft),g=r?0:parseFloat(o.borderTopWidth),m=r?0:parseFloat(o.borderRightWidth),w=r?0:parseFloat(o.borderBottomWidth),b=u+f,F=d+l,v=(r?0:parseFloat(o.borderLeftWidth))+m,W=g+w,y=r?0:t.offsetHeight-W-t.clientHeight,E=r?0:t.offsetWidth-v-t.clientWidth,R=b+v,z=F+W,M=r?t.width:parseFloat(o.width)-R-E,O=r?t.height:parseFloat(o.height)-z-y;if(n.has(t)){var k=n.get(t);if(k[0]===M&&k[1]===O)return}n.set(t,[M,O]);var S=Object.create(h.prototype);S.target=t,S.contentRect=new c(u,d,M,O),s.has(i)||(s.set(i,[]),p.add(i)),s.get(i).push(S)}))})),p.forEach((function(e){i.get(e).call(e,s.get(e),e)}))}return s.prototype.observe=function(i){if(i instanceof window.Element){r.has(i)||(r.set(i,new Set),o.add(i),a.set(i,window.getComputedStyle(i)));var n=r.get(i);n.has(this)||n.add(this),cancelAnimationFrame(t),t=requestAnimationFrame(d)}},s.prototype.unobserve=function(i){if(i instanceof window.Element&&r.has(i)){var n=r.get(i);n.has(this)&&(n.delete(this),n.size||(r.delete(i),o.delete(i))),n.size||r.delete(i),o.size||cancelAnimationFrame(t)}},A.DOMRectReadOnly=c,A.ResizeObserver=s,A.ResizeObserverEntry=h,A}; // eslint-disable-line\n",
       "mpl.toolbar_items = [[\"Home\", \"Reset original view\", \"fa fa-home icon-home\", \"home\"], [\"Back\", \"Back to previous view\", \"fa fa-arrow-left icon-arrow-left\", \"back\"], [\"Forward\", \"Forward to next view\", \"fa fa-arrow-right icon-arrow-right\", \"forward\"], [\"\", \"\", \"\", \"\"], [\"Pan\", \"Left button pans, Right button zooms\\nx/y fixes axis, CTRL fixes aspect\", \"fa fa-arrows icon-move\", \"pan\"], [\"Zoom\", \"Zoom to rectangle\\nx/y fixes axis, CTRL fixes aspect\", \"fa fa-square-o icon-check-empty\", \"zoom\"], [\"\", \"\", \"\", \"\"], [\"Download\", \"Download plot\", \"fa fa-floppy-o icon-save\", \"download\"]];\n",
       "\n",
       "mpl.extensions = [\"eps\", \"jpeg\", \"pgf\", \"pdf\", \"png\", \"ps\", \"raw\", \"svg\", \"tif\"];\n",
       "\n",
       "mpl.default_extension = \"png\";/* global mpl */\n",
       "\n",
       "var comm_websocket_adapter = function (comm) {\n",
       "    // Create a \"websocket\"-like object which calls the given IPython comm\n",
       "    // object with the appropriate methods. Currently this is a non binary\n",
       "    // socket, so there is still some room for performance tuning.\n",
       "    var ws = {};\n",
       "\n",
       "    ws.binaryType = comm.kernel.ws.binaryType;\n",
       "    ws.readyState = comm.kernel.ws.readyState;\n",
       "    function updateReadyState(_event) {\n",
       "        if (comm.kernel.ws) {\n",
       "            ws.readyState = comm.kernel.ws.readyState;\n",
       "        } else {\n",
       "            ws.readyState = 3; // Closed state.\n",
       "        }\n",
       "    }\n",
       "    comm.kernel.ws.addEventListener('open', updateReadyState);\n",
       "    comm.kernel.ws.addEventListener('close', updateReadyState);\n",
       "    comm.kernel.ws.addEventListener('error', updateReadyState);\n",
       "\n",
       "    ws.close = function () {\n",
       "        comm.close();\n",
       "    };\n",
       "    ws.send = function (m) {\n",
       "        //console.log('sending', m);\n",
       "        comm.send(m);\n",
       "    };\n",
       "    // Register the callback with on_msg.\n",
       "    comm.on_msg(function (msg) {\n",
       "        //console.log('receiving', msg['content']['data'], msg);\n",
       "        var data = msg['content']['data'];\n",
       "        if (data['blob'] !== undefined) {\n",
       "            data = {\n",
       "                data: new Blob(msg['buffers'], { type: data['blob'] }),\n",
       "            };\n",
       "        }\n",
       "        // Pass the mpl event to the overridden (by mpl) onmessage function.\n",
       "        ws.onmessage(data);\n",
       "    });\n",
       "    return ws;\n",
       "};\n",
       "\n",
       "mpl.mpl_figure_comm = function (comm, msg) {\n",
       "    // This is the function which gets called when the mpl process\n",
       "    // starts-up an IPython Comm through the \"matplotlib\" channel.\n",
       "\n",
       "    var id = msg.content.data.id;\n",
       "    // Get hold of the div created by the display call when the Comm\n",
       "    // socket was opened in Python.\n",
       "    var element = document.getElementById(id);\n",
       "    var ws_proxy = comm_websocket_adapter(comm);\n",
       "\n",
       "    function ondownload(figure, _format) {\n",
       "        window.open(figure.canvas.toDataURL());\n",
       "    }\n",
       "\n",
       "    var fig = new mpl.figure(id, ws_proxy, ondownload, element);\n",
       "\n",
       "    // Call onopen now - mpl needs it, as it is assuming we've passed it a real\n",
       "    // web socket which is closed, not our websocket->open comm proxy.\n",
       "    ws_proxy.onopen();\n",
       "\n",
       "    fig.parent_element = element;\n",
       "    fig.cell_info = mpl.find_output_cell(\"<div id='\" + id + \"'></div>\");\n",
       "    if (!fig.cell_info) {\n",
       "        console.error('Failed to find cell for figure', id, fig);\n",
       "        return;\n",
       "    }\n",
       "    fig.cell_info[0].output_area.element.on(\n",
       "        'cleared',\n",
       "        { fig: fig },\n",
       "        fig._remove_fig_handler\n",
       "    );\n",
       "};\n",
       "\n",
       "mpl.figure.prototype.handle_close = function (fig, msg) {\n",
       "    var width = fig.canvas.width / fig.ratio;\n",
       "    fig.cell_info[0].output_area.element.off(\n",
       "        'cleared',\n",
       "        fig._remove_fig_handler\n",
       "    );\n",
       "    fig.resizeObserverInstance.unobserve(fig.canvas_div);\n",
       "\n",
       "    // Update the output cell to use the data from the current canvas.\n",
       "    fig.push_to_output();\n",
       "    var dataURL = fig.canvas.toDataURL();\n",
       "    // Re-enable the keyboard manager in IPython - without this line, in FF,\n",
       "    // the notebook keyboard shortcuts fail.\n",
       "    IPython.keyboard_manager.enable();\n",
       "    fig.parent_element.innerHTML =\n",
       "        '<img src=\"' + dataURL + '\" width=\"' + width + '\">';\n",
       "    fig.close_ws(fig, msg);\n",
       "};\n",
       "\n",
       "mpl.figure.prototype.close_ws = function (fig, msg) {\n",
       "    fig.send_message('closing', msg);\n",
       "    // fig.ws.close()\n",
       "};\n",
       "\n",
       "mpl.figure.prototype.push_to_output = function (_remove_interactive) {\n",
       "    // Turn the data on the canvas into data in the output cell.\n",
       "    var width = this.canvas.width / this.ratio;\n",
       "    var dataURL = this.canvas.toDataURL();\n",
       "    this.cell_info[1]['text/html'] =\n",
       "        '<img src=\"' + dataURL + '\" width=\"' + width + '\">';\n",
       "};\n",
       "\n",
       "mpl.figure.prototype.updated_canvas_event = function () {\n",
       "    // Tell IPython that the notebook contents must change.\n",
       "    IPython.notebook.set_dirty(true);\n",
       "    this.send_message('ack', {});\n",
       "    var fig = this;\n",
       "    // Wait a second, then push the new image to the DOM so\n",
       "    // that it is saved nicely (might be nice to debounce this).\n",
       "    setTimeout(function () {\n",
       "        fig.push_to_output();\n",
       "    }, 1000);\n",
       "};\n",
       "\n",
       "mpl.figure.prototype._init_toolbar = function () {\n",
       "    var fig = this;\n",
       "\n",
       "    var toolbar = document.createElement('div');\n",
       "    toolbar.classList = 'btn-toolbar';\n",
       "    this.root.appendChild(toolbar);\n",
       "\n",
       "    function on_click_closure(name) {\n",
       "        return function (_event) {\n",
       "            return fig.toolbar_button_onclick(name);\n",
       "        };\n",
       "    }\n",
       "\n",
       "    function on_mouseover_closure(tooltip) {\n",
       "        return function (event) {\n",
       "            if (!event.currentTarget.disabled) {\n",
       "                return fig.toolbar_button_onmouseover(tooltip);\n",
       "            }\n",
       "        };\n",
       "    }\n",
       "\n",
       "    fig.buttons = {};\n",
       "    var buttonGroup = document.createElement('div');\n",
       "    buttonGroup.classList = 'btn-group';\n",
       "    var button;\n",
       "    for (var toolbar_ind in mpl.toolbar_items) {\n",
       "        var name = mpl.toolbar_items[toolbar_ind][0];\n",
       "        var tooltip = mpl.toolbar_items[toolbar_ind][1];\n",
       "        var image = mpl.toolbar_items[toolbar_ind][2];\n",
       "        var method_name = mpl.toolbar_items[toolbar_ind][3];\n",
       "\n",
       "        if (!name) {\n",
       "            /* Instead of a spacer, we start a new button group. */\n",
       "            if (buttonGroup.hasChildNodes()) {\n",
       "                toolbar.appendChild(buttonGroup);\n",
       "            }\n",
       "            buttonGroup = document.createElement('div');\n",
       "            buttonGroup.classList = 'btn-group';\n",
       "            continue;\n",
       "        }\n",
       "\n",
       "        button = fig.buttons[name] = document.createElement('button');\n",
       "        button.classList = 'btn btn-default';\n",
       "        button.href = '#';\n",
       "        button.title = name;\n",
       "        button.innerHTML = '<i class=\"fa ' + image + ' fa-lg\"></i>';\n",
       "        button.addEventListener('click', on_click_closure(method_name));\n",
       "        button.addEventListener('mouseover', on_mouseover_closure(tooltip));\n",
       "        buttonGroup.appendChild(button);\n",
       "    }\n",
       "\n",
       "    if (buttonGroup.hasChildNodes()) {\n",
       "        toolbar.appendChild(buttonGroup);\n",
       "    }\n",
       "\n",
       "    // Add the status bar.\n",
       "    var status_bar = document.createElement('span');\n",
       "    status_bar.classList = 'mpl-message pull-right';\n",
       "    toolbar.appendChild(status_bar);\n",
       "    this.message = status_bar;\n",
       "\n",
       "    // Add the close button to the window.\n",
       "    var buttongrp = document.createElement('div');\n",
       "    buttongrp.classList = 'btn-group inline pull-right';\n",
       "    button = document.createElement('button');\n",
       "    button.classList = 'btn btn-mini btn-primary';\n",
       "    button.href = '#';\n",
       "    button.title = 'Stop Interaction';\n",
       "    button.innerHTML = '<i class=\"fa fa-power-off icon-remove icon-large\"></i>';\n",
       "    button.addEventListener('click', function (_evt) {\n",
       "        fig.handle_close(fig, {});\n",
       "    });\n",
       "    button.addEventListener(\n",
       "        'mouseover',\n",
       "        on_mouseover_closure('Stop Interaction')\n",
       "    );\n",
       "    buttongrp.appendChild(button);\n",
       "    var titlebar = this.root.querySelector('.ui-dialog-titlebar');\n",
       "    titlebar.insertBefore(buttongrp, titlebar.firstChild);\n",
       "};\n",
       "\n",
       "mpl.figure.prototype._remove_fig_handler = function (event) {\n",
       "    var fig = event.data.fig;\n",
       "    if (event.target !== this) {\n",
       "        // Ignore bubbled events from children.\n",
       "        return;\n",
       "    }\n",
       "    fig.close_ws(fig, {});\n",
       "};\n",
       "\n",
       "mpl.figure.prototype._root_extra_style = function (el) {\n",
       "    el.style.boxSizing = 'content-box'; // override notebook setting of border-box.\n",
       "};\n",
       "\n",
       "mpl.figure.prototype._canvas_extra_style = function (el) {\n",
       "    // this is important to make the div 'focusable\n",
       "    el.setAttribute('tabindex', 0);\n",
       "    // reach out to IPython and tell the keyboard manager to turn it's self\n",
       "    // off when our div gets focus\n",
       "\n",
       "    // location in version 3\n",
       "    if (IPython.notebook.keyboard_manager) {\n",
       "        IPython.notebook.keyboard_manager.register_events(el);\n",
       "    } else {\n",
       "        // location in version 2\n",
       "        IPython.keyboard_manager.register_events(el);\n",
       "    }\n",
       "};\n",
       "\n",
       "mpl.figure.prototype._key_event_extra = function (event, _name) {\n",
       "    var manager = IPython.notebook.keyboard_manager;\n",
       "    if (!manager) {\n",
       "        manager = IPython.keyboard_manager;\n",
       "    }\n",
       "\n",
       "    // Check for shift+enter\n",
       "    if (event.shiftKey && event.which === 13) {\n",
       "        this.canvas_div.blur();\n",
       "        // select the cell after this one\n",
       "        var index = IPython.notebook.find_cell_index(this.cell_info[0]);\n",
       "        IPython.notebook.select(index + 1);\n",
       "    }\n",
       "};\n",
       "\n",
       "mpl.figure.prototype.handle_save = function (fig, _msg) {\n",
       "    fig.ondownload(fig, null);\n",
       "};\n",
       "\n",
       "mpl.find_output_cell = function (html_output) {\n",
       "    // Return the cell and output element which can be found *uniquely* in the notebook.\n",
       "    // Note - this is a bit hacky, but it is done because the \"notebook_saving.Notebook\"\n",
       "    // IPython event is triggered only after the cells have been serialised, which for\n",
       "    // our purposes (turning an active figure into a static one), is too late.\n",
       "    var cells = IPython.notebook.get_cells();\n",
       "    var ncells = cells.length;\n",
       "    for (var i = 0; i < ncells; i++) {\n",
       "        var cell = cells[i];\n",
       "        if (cell.cell_type === 'code') {\n",
       "            for (var j = 0; j < cell.output_area.outputs.length; j++) {\n",
       "                var data = cell.output_area.outputs[j];\n",
       "                if (data.data) {\n",
       "                    // IPython >= 3 moved mimebundle to data attribute of output\n",
       "                    data = data.data;\n",
       "                }\n",
       "                if (data['text/html'] === html_output) {\n",
       "                    return [cell, data, j];\n",
       "                }\n",
       "            }\n",
       "        }\n",
       "    }\n",
       "};\n",
       "\n",
       "// Register the function which deals with the matplotlib target/channel.\n",
       "// The kernel may be null if the page has been refreshed.\n",
       "if (IPython.notebook.kernel !== null) {\n",
       "    IPython.notebook.kernel.comm_manager.register_target(\n",
       "        'matplotlib',\n",
       "        mpl.mpl_figure_comm\n",
       "    );\n",
       "}\n"
      ],
      "text/plain": [
       "<IPython.core.display.Javascript object>"
      ]
     },
     "metadata": {},
     "output_type": "display_data"
    },
    {
     "data": {
      "text/html": [
       "<img src=\"data:image/png;base64,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\" width=\"1200\">"
      ],
      "text/plain": [
       "<IPython.core.display.HTML object>"
      ]
     },
     "metadata": {},
     "output_type": "display_data"
    },
    {
     "name": "stdout",
     "output_type": "stream",
     "text": [
      "------------------------------------------------------------------------------------------------------------------------\n",
      "Epoch 000: | Train loss:  1.998 | Val loss:  1.968 | Train Metric: -1.998 | Val Metric: -1.968 | epoch time:  9.387 | <-- Checkpoint!\n",
      "Epoch 001: | Train loss:  1.563 | Val loss:  1.715 | Train Metric: -1.563 | Val Metric: -1.715 | epoch time:  4.616 | <-- Checkpoint!\n",
      "Epoch 002: | Train loss:  1.214 | Val loss:  1.503 | Train Metric: -1.214 | Val Metric: -1.503 | epoch time:  4.744 | <-- Checkpoint!\n",
      "Epoch 003: | Train loss:  0.906 | Val loss:  0.840 | Train Metric: -0.906 | Val Metric: -0.840 | epoch time:  5.205 | <-- Checkpoint!\n",
      "Epoch 004: | Train loss:  0.661 | Val loss:  0.557 | Train Metric: -0.661 | Val Metric: -0.557 | epoch time:  4.799 | <-- Checkpoint!\n",
      "Epoch 005: | Train loss:  0.544 | Val loss:  0.450 | Train Metric: -0.544 | Val Metric: -0.450 | epoch time:  4.871 | <-- Checkpoint!\n",
      "Epoch 006: | Train loss:  0.473 | Val loss:  0.386 | Train Metric: -0.473 | Val Metric: -0.386 | epoch time:  4.818 | <-- Checkpoint!\n",
      "Epoch 007: | Train loss:  0.431 | Val loss:  0.386 | Train Metric: -0.431 | Val Metric: -0.386 | epoch time:  4.843 |\n",
      "Epoch 008: | Train loss:  0.395 | Val loss:  0.319 | Train Metric: -0.395 | Val Metric: -0.319 | epoch time:  4.813 | <-- Checkpoint!\n",
      "Epoch 009: | Train loss:  0.358 | Val loss:  0.292 | Train Metric: -0.358 | Val Metric: -0.292 | epoch time:  4.878 | <-- Checkpoint!\n",
      "------------------------------------------------------------------------------------------------------------------------\n",
      "Epoch 010: | Train loss:  0.333 | Val loss:  0.278 | Train Metric: -0.333 | Val Metric: -0.278 | epoch time:  4.816 | <-- Checkpoint!\n",
      "Epoch 011: | Train loss:  0.314 | Val loss:  0.276 | Train Metric: -0.314 | Val Metric: -0.276 | epoch time:  4.864 | <-- Checkpoint!\n",
      "Epoch 012: | Train loss:  0.311 | Val loss:  0.257 | Train Metric: -0.311 | Val Metric: -0.257 | epoch time:  4.804 | <-- Checkpoint!\n",
      "Epoch 013: | Train loss:  0.272 | Val loss:  0.236 | Train Metric: -0.272 | Val Metric: -0.236 | epoch time:  4.755 | <-- Checkpoint!\n",
      "Epoch 014: | Train loss:  0.267 | Val loss:  0.225 | Train Metric: -0.267 | Val Metric: -0.225 | epoch time:  4.918 | <-- Checkpoint!\n",
      "Epoch 015: | Train loss:  0.243 | Val loss:  0.215 | Train Metric: -0.243 | Val Metric: -0.215 | epoch time:  4.718 | <-- Checkpoint!\n",
      "Epoch 016: | Train loss:  0.239 | Val loss:  0.221 | Train Metric: -0.239 | Val Metric: -0.221 | epoch time:  4.673 |\n",
      "Epoch 017: | Train loss:  0.231 | Val loss:  0.215 | Train Metric: -0.231 | Val Metric: -0.215 | epoch time:  5.202 | <-- Checkpoint!\n",
      "Epoch 018: | Train loss:  0.217 | Val loss:  0.193 | Train Metric: -0.217 | Val Metric: -0.193 | epoch time:  5.051 | <-- Checkpoint!\n",
      "Epoch 019: | Train loss:  0.209 | Val loss:  0.193 | Train Metric: -0.209 | Val Metric: -0.193 | epoch time:  5.227 | <-- Checkpoint!\n",
      "------------------------------------------------------------------------------------------------------------------------\n",
      "Epoch 020: | Train loss:  0.201 | Val loss:  0.179 | Train Metric: -0.201 | Val Metric: -0.179 | epoch time:  5.190 | <-- Checkpoint!\n",
      "Epoch 021: | Train loss:  0.186 | Val loss:  0.178 | Train Metric: -0.186 | Val Metric: -0.178 | epoch time:  5.059 | <-- Checkpoint!\n",
      "Epoch 022: | Train loss:  0.175 | Val loss:  0.177 | Train Metric: -0.175 | Val Metric: -0.177 | epoch time:  4.712 | <-- Checkpoint!\n",
      "Epoch 023: | Train loss:  0.174 | Val loss:  0.172 | Train Metric: -0.174 | Val Metric: -0.172 | epoch time:  4.479 | <-- Checkpoint!\n",
      "Epoch 024: | Train loss:  0.168 | Val loss:  0.171 | Train Metric: -0.168 | Val Metric: -0.171 | epoch time:  4.391 | <-- Checkpoint!\n",
      "Epoch 025: | Train loss:  0.158 | Val loss:  0.171 | Train Metric: -0.158 | Val Metric: -0.171 | epoch time:  4.439 |\n",
      "Epoch 026: | Train loss:  0.161 | Val loss:  0.161 | Train Metric: -0.161 | Val Metric: -0.161 | epoch time:  4.931 | <-- Checkpoint!\n",
      "Epoch 027: | Train loss:  0.153 | Val loss:  0.161 | Train Metric: -0.153 | Val Metric: -0.161 | epoch time:  4.405 | <-- Checkpoint!\n",
      "Epoch 028: | Train loss:  0.148 | Val loss:  0.166 | Train Metric: -0.148 | Val Metric: -0.166 | epoch time:  4.401 |\n",
      "Epoch 029: | Train loss:  0.136 | Val loss:  0.160 | Train Metric: -0.136 | Val Metric: -0.160 | epoch time:  4.702 | <-- Checkpoint!\n",
      "------------------------------------------------------------------------------------------------------------------------\n",
      "Epoch 030: | Train loss:  0.128 | Val loss:  0.158 | Train Metric: -0.128 | Val Metric: -0.158 | epoch time:  4.675 | <-- Checkpoint!\n",
      "Epoch 031: | Train loss:  0.123 | Val loss:  0.162 | Train Metric: -0.123 | Val Metric: -0.162 | epoch time:  4.490 |\n",
      "Epoch 032: | Train loss:  0.125 | Val loss:  0.157 | Train Metric: -0.125 | Val Metric: -0.157 | epoch time:  4.560 | <-- Checkpoint!\n",
      "Epoch 033: | Train loss:  0.118 | Val loss:  0.152 | Train Metric: -0.118 | Val Metric: -0.152 | epoch time:  4.586 | <-- Checkpoint!\n",
      "Epoch 034: | Train loss:  0.114 | Val loss:  0.164 | Train Metric: -0.114 | Val Metric: -0.164 | epoch time:  4.464 |\n",
      "Epoch 035: | Train loss:  0.113 | Val loss:  0.167 | Train Metric: -0.113 | Val Metric: -0.167 | epoch time:  4.598 |\n",
      "Epoch 036: | Train loss:  0.109 | Val loss:  0.159 | Train Metric: -0.109 | Val Metric: -0.159 | epoch time:  4.688 |\n",
      "Epoch 037: | Train loss:  0.104 | Val loss:  0.160 | Train Metric: -0.104 | Val Metric: -0.160 | epoch time:  4.396 |\n",
      "Epoch 038: | Train loss:  0.103 | Val loss:  0.157 | Train Metric: -0.103 | Val Metric: -0.157 | epoch time:  4.497 |\n",
      "Epoch 039: | Train loss:  0.100 | Val loss:  0.156 | Train Metric: -0.100 | Val Metric: -0.156 | epoch time:  4.377 |\n",
      "------------------------------------------------------------------------------------------------------------------------\n",
      "Epoch 040: | Train loss:  0.098 | Val loss:  0.162 | Train Metric: -0.098 | Val Metric: -0.162 | epoch time:  4.578 |\n",
      "Epoch 041: | Train loss:  0.097 | Val loss:  0.154 | Train Metric: -0.097 | Val Metric: -0.154 | epoch time:  4.493 |\n",
      "Epoch 042: | Train loss:  0.095 | Val loss:  0.159 | Train Metric: -0.095 | Val Metric: -0.159 | epoch time:  4.376 |\n",
      "Epoch 043: | Train loss:  0.093 | Val loss:  0.154 | Train Metric: -0.093 | Val Metric: -0.154 | epoch time:  4.439 |\n",
      "Epoch 044: | Train loss:  0.092 | Val loss:  0.155 | Train Metric: -0.092 | Val Metric: -0.155 | epoch time:  4.517 |\n",
      "Epoch 045: | Train loss:  0.092 | Val loss:  0.153 | Train Metric: -0.092 | Val Metric: -0.153 | epoch time:  4.517 |\n",
      "Epoch 046: | Train loss:  0.093 | Val loss:  0.154 | Train Metric: -0.093 | Val Metric: -0.154 | epoch time:  4.654 |\n",
      "Epoch 047: | Train loss:  0.091 | Val loss:  0.153 | Train Metric: -0.091 | Val Metric: -0.153 | epoch time:  4.620 |\n",
      "Epoch 048: | Train loss:  0.091 | Val loss:  0.153 | Train Metric: -0.091 | Val Metric: -0.153 | epoch time:  4.369 |\n",
      "Epoch 049: | Train loss:  0.090 | Val loss:  0.154 | Train Metric: -0.090 | Val Metric: -0.154 | epoch time:  4.360 |\n"
     ]
    }
   ],
   "source": [
    "%matplotlib notebook\n",
    "\n",
    "nEpochs    = 50\n",
    "nIter      = nEpochs * len(oTrainDL)\n",
    "\n",
    "oModel     = Model      (B).to(DEVICE)\n",
    "oOptim     = optim.AdamW(oModel.parameters(), lr=0, betas=(0.9, 0.99), weight_decay=4e-3)\n",
    "oScheduler = OneCycleLR (oOptim, max_lr=1e-3, total_steps=nIter)\n",
    "lHistory   = TrainModel (oModel, oTrainDL, oTestDL, Loss, Metric, nEpochs, oOptim, oScheduler)"
   ]
  },
  {
   "cell_type": "code",
   "execution_count": 26,
   "id": "aa24f0d6",
   "metadata": {
    "ExecuteTime": {
     "end_time": "2021-11-14T18:41:40.828147Z",
     "start_time": "2021-11-14T18:41:40.749811Z"
    }
   },
   "outputs": [],
   "source": [
    "# oModel.load_state_dict(torch.load('./AnchorModel_v1.pt'))\n",
    "# oModel.train(False);"
   ]
  },
  {
   "cell_type": "markdown",
   "id": "e16444d2",
   "metadata": {
    "ExecuteTime": {
     "end_time": "2021-11-11T10:51:05.303173Z",
     "start_time": "2021-11-11T10:51:05.249124Z"
    }
   },
   "source": [
    "#### Output to target:\n",
    "* Apply `sigmoid` on detection probability.  \n",
    "* Apply `argmax` on classification."
   ]
  },
  {
   "cell_type": "code",
   "execution_count": 35,
   "id": "3695c37e-289d-4484-87ca-250e8dae027c",
   "metadata": {
    "ExecuteTime": {
     "end_time": "2021-11-14T18:41:47.245868Z",
     "start_time": "2021-11-14T18:41:47.183818Z"
    }
   },
   "outputs": [],
   "source": [
    "def Output2Target(mOutput):\n",
    "    #-- mOutput.shape          = (N, B, 8, 5, 5)\n",
    "    #-- mOutput[ii,bb,:,jj,kk] = [p | x, y, log(W), log(H) | R, G, B]\n",
    "    \n",
    "    mProb  = torch.sigmoid(mOutput[:,:,[0],:,:])\n",
    "    mBBox  =               mOutput[:,:,1:5,:,:]\n",
    "    mLabel = torch.argmax (mOutput[:,:,5:, :,:], dim=2, keepdims=True)\n",
    "    \n",
    "    mTarget = torch.cat([mProb, mBBox, mLabel], dim=2)\n",
    "    return mTarget"
   ]
  },
  {
   "cell_type": "markdown",
   "id": "e26b1c1d",
   "metadata": {},
   "source": [
    "#### Target to BBox:\n",
    "* Transform each cell in the target grid ($S \\times S$) into a BBox.\n",
    "* Scale back the XYWH position of the BBox\n",
    "* Apply `exp_` to the width and height."
   ]
  },
  {
   "cell_type": "code",
   "execution_count": 36,
   "id": "e3953221-14d2-43af-84d2-3ba85e0f597b",
   "metadata": {
    "ExecuteTime": {
     "end_time": "2021-11-14T18:41:48.857472Z",
     "start_time": "2021-11-14T18:41:48.807426Z"
    }
   },
   "outputs": [],
   "source": [
    "def Target2BBox(mTarget):\n",
    "    '''\n",
    "    * Input:\n",
    "        - mTarget.shape          = (N, B, 6, S, S)\n",
    "        - mTarget[ii,bb,:,jj,kk] = [p | x, y, log(W), log(H) | cIdx]\n",
    "    * Output:\n",
    "        - mBBox.shape    = (N, B*S*S, 6)\n",
    "        - mBBox[ii,jj,:] = [p | cIdx | x, y, W, H]\n",
    "    '''\n",
    "    v       = torch.arange(GRID_SIZE, device=mTarget.device)\n",
    "    XX, YY  = torch.meshgrid(v, v, indexing='xy')\n",
    "    \n",
    "    mProb  = mTarget[:,:,[0],:,:]\n",
    "    mXYWH  = mTarget[:,:,1:5,:,:].clone()\n",
    "    mLabel = mTarget[:,:,[5],:,:]\n",
    "    \n",
    "    mXYWH[:,:,0,  :,:] += XX[None,None,:,:]\n",
    "    mXYWH[:,:,1,  :,:] += YY[None,None,:,:]\n",
    "    mXYWH[:,:,2:4,:,:].exp_()\n",
    "    mXYWH              /= GRID_SIZE\n",
    "    \n",
    "    B     = mTarget.shape[1]\n",
    "    mBBox = torch.cat([mProb, mLabel, mXYWH], dim=2)                  #-- mBBox.shape = (N, B, 6, 5, 5)\n",
    "    mBBox = mBBox.permute(0,1,3,4,2).reshape(-1, B * GRID_SIZE**2, 6) #-- mBBox.shape = (N, B*25, 6)\n",
    "        \n",
    "    return mBBox"
   ]
  },
  {
   "cell_type": "markdown",
   "id": "beaf255f",
   "metadata": {},
   "source": [
    "#### Test model:"
   ]
  },
  {
   "cell_type": "code",
   "execution_count": 46,
   "id": "75b314c4",
   "metadata": {
    "ExecuteTime": {
     "end_time": "2021-11-14T18:42:08.647180Z",
     "start_time": "2021-11-14T18:42:08.443995Z"
    },
    "tags": []
   },
   "outputs": [
    {
     "data": {
      "image/png": "[encoded data removed]",
      "text/plain": [
       "<Figure size 432x432 with 1 Axes>"
      ]
     },
     "metadata": {
      "needs_background": "light"
     },
     "output_type": "display_data"
    }
   ],
   "source": [
    "#%matplotlib inline\n",
    "\n",
    "mXi, mBBox, mTarget = oTestSet[np.random.randint(nTest)]\n",
    "with torch.no_grad():\n",
    "    mOutput = oModel(mXi[None].to(DEVICE))\n",
    "\n",
    "mTargetPred = Output2Target(mOutput)\n",
    "mBBoxPred   = Target2BBox  (mTargetPred).cpu()[0]\n",
    "vIdx        = mBBoxPred[:,0] > 0.5 #-- take only prediciton with prob > 0.5\n",
    "\n",
    "PlotImage(mXi, mBBoxPred[vIdx], vLabels=LABELS, lColors=np.eye(3))\n",
    "plt.show ()"
   ]
  },
  {
   "cell_type": "markdown",
   "id": "08c2d473-7f89-498f-bda7-48be4063b722",
   "metadata": {},
   "source": [
    "#### Test two objects in the same cell:"
   ]
  },
  {
   "cell_type": "code",
   "execution_count": 38,
   "id": "2e43b502-04b2-4515-bfd4-2a5bea912330",
   "metadata": {
    "ExecuteTime": {
     "end_time": "2021-11-14T18:41:52.142643Z",
     "start_time": "2021-11-14T18:41:52.015528Z"
    }
   },
   "outputs": [
    {
     "data": {
      "image/png": "[encoded data removed]",
      "text/plain": [
       "<Figure size 432x432 with 1 Axes>"
      ]
     },
     "metadata": {
      "needs_background": "light"
     },
     "output_type": "display_data"
    }
   ],
   "source": [
    "from DeepLearningFramework.AnchorsUtils import CreateImage\n",
    "\n",
    "mXi, mBBox = CreateImage(IMAGE_SIZE, np.array([.5, .55]), [.5, .5], [.3, .1], [.1, .3], [0, 1])\n",
    "\n",
    "with torch.no_grad():\n",
    "    mOutput = oModel(mXi[None].to(DEVICE))\n",
    "\n",
    "mTargetPred = Output2Target(mOutput)\n",
    "mBBoxPred   = Target2BBox  (mTargetPred).cpu()[0]\n",
    "vIdx        = mBBoxPred[:,0] > 0.5\n",
    "\n",
    "PlotImage(mXi, mBBoxPred[vIdx], vLabels=LABELS, lColors=np.eye(3))\n",
    "plt.show ()"
   ]
  },
  {
   "cell_type": "markdown",
   "id": "1def895b",
   "metadata": {},
   "source": [
    "#### View all predictions:"
   ]
  },
  {
   "cell_type": "code",
   "execution_count": 39,
   "id": "ad66416e-6ecb-4223-a449-e0bdfdd039dc",
   "metadata": {
    "ExecuteTime": {
     "end_time": "2021-11-14T18:41:56.018395Z",
     "start_time": "2021-11-14T18:41:55.689521Z"
    }
   },
   "outputs": [
    {
     "data": {
      "image/png": "[encoded data removed]",
      "text/plain": [
       "<Figure size 432x432 with 1 Axes>"
      ]
     },
     "metadata": {
      "needs_background": "light"
     },
     "output_type": "display_data"
    }
   ],
   "source": [
    "mXi, mBBox, mTarget = oTestSet[np.random.randint(nTest)]\n",
    "\n",
    "with torch.no_grad():\n",
    "    mOutput = oModel(mXi[None].to(DEVICE))\n",
    "    \n",
    "mTargetPred = Output2Target(mOutput)\n",
    "mBBoxPred   = Target2BBox  (mTargetPred).cpu()[0]\n",
    "\n",
    "PlotImage(mXi, mBBoxPred, vLabels=LABELS, lColors=np.eye(3))\n",
    "plt.show ()"
   ]
  },
  {
   "cell_type": "markdown",
   "id": "9ec77e38",
   "metadata": {},
   "source": [
    "### NMS:"
   ]
  },
  {
   "cell_type": "code",
   "execution_count": 40,
   "id": "ec198d60",
   "metadata": {
    "ExecuteTime": {
     "end_time": "2021-11-14T18:41:56.969268Z",
     "start_time": "2021-11-14T18:41:56.913760Z"
    }
   },
   "outputs": [],
   "source": [
    "def NMS(mBBox, IoUThreshold=0.5, pThreshold=0.1):\n",
    "    #-- mBBox.shape    = (N, D, 6)\n",
    "    #-- mBBox[ii,jj,:] = [prob | cIdx | x, y, W, H]\n",
    "    mBBoxCPU = mBBox.cpu() #-- GPU is slower\n",
    "    N        = mBBox.shape[0]\n",
    "    lBBox    = [torch.empty(0, 6)] * N\n",
    "    for ii in range(N):\n",
    "        vIdx = mBBoxCPU[ii,:,0] > pThreshold\n",
    "        if torch.any(vIdx):\n",
    "            mBBc      = mBBoxCPU[ii,vIdx]\n",
    "            vIdx      = ops.batched_nms(ops.box_convert(mBBc[:,2:], 'cxcywh', 'xyxy'), mBBc[:,0], mBBc[:,1], IoUThreshold)\n",
    "            lBBox[ii] = mBBc[vIdx]\n",
    "\n",
    "    return lBBox"
   ]
  },
  {
   "cell_type": "code",
   "execution_count": 41,
   "id": "1e405f2a",
   "metadata": {
    "ExecuteTime": {
     "end_time": "2021-11-14T18:41:57.654617Z",
     "start_time": "2021-11-14T18:41:57.528503Z"
    }
   },
   "outputs": [
    {
     "data": {
      "image/png": "[encoded data removed]",
      "text/plain": [
       "<Figure size 432x432 with 1 Axes>"
      ]
     },
     "metadata": {
      "needs_background": "light"
     },
     "output_type": "display_data"
    }
   ],
   "source": [
    "mNMS = NMS(mBBoxPred[None], 0.5, 0.25)[0]\n",
    "\n",
    "PlotImage(mXi, mNMS, vLabels=LABELS, lColors=np.eye(3))\n",
    "plt.show ()"
   ]
  },
  {
   "cell_type": "code",
   "execution_count": null,
   "id": "15fb94ec",
   "metadata": {},
   "outputs": [],
   "source": []
  },
  {
   "cell_type": "code",
   "execution_count": null,
   "id": "e9d2cbad",
   "metadata": {},
   "outputs": [],
   "source": []
  },
  {
   "cell_type": "code",
   "execution_count": null,
   "id": "14e00dd0",
   "metadata": {},
   "outputs": [],
   "source": []
  },
  {
   "cell_type": "code",
   "execution_count": null,
   "id": "243ef46a",
   "metadata": {},
   "outputs": [],
   "source": []
  },
  {
   "cell_type": "code",
   "execution_count": null,
   "id": "fdee7271",
   "metadata": {},
   "outputs": [],
   "source": []
  },
  {
   "cell_type": "code",
   "execution_count": null,
   "id": "5a1dd9db",
   "metadata": {},
   "outputs": [],
   "source": []
  },
  {
   "cell_type": "code",
   "execution_count": null,
   "id": "c7217b51",
   "metadata": {},
   "outputs": [],
   "source": []
  },
  {
   "cell_type": "code",
   "execution_count": null,
   "id": "89e6fa7f",
   "metadata": {},
   "outputs": [],
   "source": []
  },
  {
   "cell_type": "code",
   "execution_count": null,
   "id": "f42364b4",
   "metadata": {},
   "outputs": [],
   "source": []
  },
  {
   "cell_type": "code",
   "execution_count": null,
   "id": "3d4fe90f",
   "metadata": {},
   "outputs": [],
   "source": []
  },
  {
   "cell_type": "code",
   "execution_count": null,
   "id": "a329457b",
   "metadata": {},
   "outputs": [],
   "source": []
  },
  {
   "cell_type": "code",
   "execution_count": null,
   "id": "9dedfc1b",
   "metadata": {},
   "outputs": [],
   "source": []
  },
  {
   "cell_type": "code",
   "execution_count": null,
   "id": "7ae5a82d",
   "metadata": {},
   "outputs": [],
   "source": []
  },
  {
   "cell_type": "code",
   "execution_count": null,
   "id": "a4509b9a",
   "metadata": {},
   "outputs": [],
   "source": []
  },
  {
   "cell_type": "code",
   "execution_count": null,
   "id": "6f82005a",
   "metadata": {},
   "outputs": [],
   "source": []
  },
  {
   "cell_type": "code",
   "execution_count": null,
   "id": "95f9e3dd",
   "metadata": {},
   "outputs": [],
   "source": []
  },
  {
   "cell_type": "code",
   "execution_count": null,
   "id": "5d2ecbc9",
   "metadata": {},
   "outputs": [],
   "source": []
  },
  {
   "cell_type": "code",
   "execution_count": null,
   "id": "20dba41e",
   "metadata": {},
   "outputs": [],
   "source": []
  },
  {
   "cell_type": "code",
   "execution_count": null,
   "id": "aef37b3d",
   "metadata": {},
   "outputs": [],
   "source": []
  },
  {
   "cell_type": "code",
   "execution_count": null,
   "id": "ce65e160",
   "metadata": {},
   "outputs": [],
   "source": []
  },
  {
   "cell_type": "code",
   "execution_count": null,
   "id": "3cb5f30d",
   "metadata": {},
   "outputs": [],
   "source": []
  },
  {
   "cell_type": "code",
   "execution_count": null,
   "id": "3e0cdf2c",
   "metadata": {},
   "outputs": [],
   "source": []
  },
  {
   "cell_type": "code",
   "execution_count": null,
   "id": "a855028a",
   "metadata": {},
   "outputs": [],
   "source": []
  },
  {
   "cell_type": "code",
   "execution_count": null,
   "id": "f7a32acf",
   "metadata": {},
   "outputs": [],
   "source": []
  },
  {
   "cell_type": "code",
   "execution_count": null,
   "id": "c7c76050",
   "metadata": {},
   "outputs": [],
   "source": []
  },
  {
   "cell_type": "code",
   "execution_count": null,
   "id": "9f9b0e2f",
   "metadata": {},
   "outputs": [],
   "source": []
  },
  {
   "cell_type": "code",
   "execution_count": null,
   "id": "aa730a27",
   "metadata": {},
   "outputs": [],
   "source": []
  },
  {
   "cell_type": "code",
   "execution_count": null,
   "id": "edaebfeb",
   "metadata": {},
   "outputs": [],
   "source": []
  },
  {
   "cell_type": "code",
   "execution_count": null,
   "id": "1cc9c604",
   "metadata": {},
   "outputs": [],
   "source": []
  },
  {
   "cell_type": "code",
   "execution_count": null,
   "id": "4d166ff7",
   "metadata": {},
   "outputs": [],
   "source": []
  },
  {
   "cell_type": "code",
   "execution_count": null,
   "id": "0890d10c",
   "metadata": {},
   "outputs": [],
   "source": []
  },
  {
   "cell_type": "code",
   "execution_count": null,
   "id": "39fc864e",
   "metadata": {},
   "outputs": [],
   "source": []
  },
  {
   "cell_type": "code",
   "execution_count": null,
   "id": "1224c1a2",
   "metadata": {},
   "outputs": [],
   "source": []
  },
  {
   "cell_type": "code",
   "execution_count": null,
   "id": "02be53e6",
   "metadata": {},
   "outputs": [],
   "source": []
  },
  {
   "cell_type": "code",
   "execution_count": null,
   "id": "ef6c0ead",
   "metadata": {},
   "outputs": [],
   "source": []
  },
  {
   "cell_type": "code",
   "execution_count": null,
   "id": "cada7600",
   "metadata": {},
   "outputs": [],
   "source": []
  },
  {
   "cell_type": "code",
   "execution_count": null,
   "id": "400c889a",
   "metadata": {},
   "outputs": [],
   "source": []
  },
  {
   "cell_type": "code",
   "execution_count": null,
   "id": "d4bdd1ee",
   "metadata": {},
   "outputs": [],
   "source": []
  },
  {
   "cell_type": "code",
   "execution_count": null,
   "id": "168d74e7",
   "metadata": {},
   "outputs": [],
   "source": []
  },
  {
   "cell_type": "code",
   "execution_count": null,
   "id": "93dbdf48",
   "metadata": {},
   "outputs": [],
   "source": []
  },
  {
   "cell_type": "code",
   "execution_count": null,
   "id": "6bd2fedf",
   "metadata": {},
   "outputs": [],
   "source": []
  },
  {
   "cell_type": "code",
   "execution_count": null,
   "id": "4b829e70",
   "metadata": {},
   "outputs": [],
   "source": []
  },
  {
   "cell_type": "code",
   "execution_count": null,
   "id": "45001e31",
   "metadata": {},
   "outputs": [],
   "source": []
  },
  {
   "cell_type": "code",
   "execution_count": null,
   "id": "0c20d077",
   "metadata": {},
   "outputs": [],
   "source": []
  },
  {
   "cell_type": "code",
   "execution_count": null,
   "id": "0a0becbc",
   "metadata": {},
   "outputs": [],
   "source": []
  },
  {
   "cell_type": "code",
   "execution_count": null,
   "id": "078c089e",
   "metadata": {},
   "outputs": [],
   "source": []
  },
  {
   "cell_type": "code",
   "execution_count": null,
   "id": "c69ada63",
   "metadata": {},
   "outputs": [],
   "source": []
  },
  {
   "cell_type": "code",
   "execution_count": null,
   "id": "fc9b01f0",
   "metadata": {},
   "outputs": [],
   "source": []
  },
  {
   "cell_type": "code",
   "execution_count": null,
   "id": "58451c0f",
   "metadata": {},
   "outputs": [],
   "source": []
  },
  {
   "cell_type": "code",
   "execution_count": null,
   "id": "72c7d46a",
   "metadata": {},
   "outputs": [],
   "source": []
  },
  {
   "cell_type": "code",
   "execution_count": null,
   "id": "8edb9916",
   "metadata": {},
   "outputs": [],
   "source": []
  },
  {
   "cell_type": "code",
   "execution_count": null,
   "id": "b2dfa512",
   "metadata": {},
   "outputs": [],
   "source": []
  },
  {
   "cell_type": "code",
   "execution_count": null,
   "id": "8f86f6ea",
   "metadata": {},
   "outputs": [],
   "source": []
  },
  {
   "cell_type": "code",
   "execution_count": null,
   "id": "b1f885c1",
   "metadata": {},
   "outputs": [],
   "source": []
  },
  {
   "cell_type": "code",
   "execution_count": null,
   "id": "078aaccc",
   "metadata": {},
   "outputs": [],
   "source": []
  },
  {
   "cell_type": "code",
   "execution_count": null,
   "id": "cd542afb",
   "metadata": {},
   "outputs": [],
   "source": []
  },
  {
   "cell_type": "code",
   "execution_count": null,
   "id": "8a104a7c",
   "metadata": {},
   "outputs": [],
   "source": []
  },
  {
   "cell_type": "code",
   "execution_count": null,
   "id": "1e783698",
   "metadata": {},
   "outputs": [],
   "source": []
  },
  {
   "cell_type": "code",
   "execution_count": null,
   "id": "2d202086",
   "metadata": {},
   "outputs": [],
   "source": []
  },
  {
   "cell_type": "code",
   "execution_count": null,
   "id": "2766e664",
   "metadata": {},
   "outputs": [],
   "source": []
  },
  {
   "cell_type": "code",
   "execution_count": null,
   "id": "3173b299",
   "metadata": {},
   "outputs": [],
   "source": []
  },
  {
   "cell_type": "code",
   "execution_count": null,
   "id": "e1b9a0fa",
   "metadata": {},
   "outputs": [],
   "source": []
  },
  {
   "cell_type": "code",
   "execution_count": null,
   "id": "7b83a69d",
   "metadata": {},
   "outputs": [],
   "source": []
  },
  {
   "cell_type": "code",
   "execution_count": null,
   "id": "8342dda0",
   "metadata": {},
   "outputs": [],
   "source": []
  },
  {
   "cell_type": "code",
   "execution_count": null,
   "id": "2ffa1b1c",
   "metadata": {},
   "outputs": [],
   "source": []
  },
  {
   "cell_type": "code",
   "execution_count": null,
   "id": "6c1b2ed0",
   "metadata": {},
   "outputs": [],
   "source": []
  },
  {
   "cell_type": "code",
   "execution_count": null,
   "id": "7625063e",
   "metadata": {},
   "outputs": [],
   "source": []
  },
  {
   "cell_type": "code",
   "execution_count": null,
   "id": "d7e4462f",
   "metadata": {},
   "outputs": [],
   "source": []
  },
  {
   "cell_type": "code",
   "execution_count": null,
   "id": "ebd0068b",
   "metadata": {},
   "outputs": [],
   "source": []
  },
  {
   "cell_type": "code",
   "execution_count": null,
   "id": "381531b6",
   "metadata": {},
   "outputs": [],
   "source": []
  },
  {
   "cell_type": "code",
   "execution_count": null,
   "id": "c9de54a8",
   "metadata": {},
   "outputs": [],
   "source": []
  },
  {
   "cell_type": "code",
   "execution_count": null,
   "id": "32aa3d62",
   "metadata": {},
   "outputs": [],
   "source": []
  },
  {
   "cell_type": "code",
   "execution_count": null,
   "id": "9f7e986b",
   "metadata": {},
   "outputs": [],
   "source": []
  },
  {
   "cell_type": "code",
   "execution_count": null,
   "id": "df39d65b",
   "metadata": {},
   "outputs": [],
   "source": []
  },
  {
   "cell_type": "code",
   "execution_count": null,
   "id": "8637484e",
   "metadata": {},
   "outputs": [],
   "source": []
  },
  {
   "cell_type": "code",
   "execution_count": null,
   "id": "9bf1d93b",
   "metadata": {},
   "outputs": [],
   "source": []
  },
  {
   "cell_type": "code",
   "execution_count": null,
   "id": "4efa2c8c",
   "metadata": {},
   "outputs": [],
   "source": []
  },
  {
   "cell_type": "code",
   "execution_count": null,
   "id": "44add3e1",
   "metadata": {},
   "outputs": [],
   "source": []
  },
  {
   "cell_type": "code",
   "execution_count": null,
   "id": "a9c4af6d",
   "metadata": {},
   "outputs": [],
   "source": []
  },
  {
   "cell_type": "code",
   "execution_count": null,
   "id": "df58ee2d",
   "metadata": {},
   "outputs": [],
   "source": []
  },
  {
   "cell_type": "code",
   "execution_count": null,
   "id": "6d1cee1d",
   "metadata": {},
   "outputs": [],
   "source": []
  },
  {
   "cell_type": "code",
   "execution_count": null,
   "id": "fee4e604",
   "metadata": {},
   "outputs": [],
   "source": []
  },
  {
   "cell_type": "code",
   "execution_count": null,
   "id": "02caa6e3",
   "metadata": {},
   "outputs": [],
   "source": []
  },
  {
   "cell_type": "code",
   "execution_count": null,
   "id": "1bffcb72",
   "metadata": {},
   "outputs": [],
   "source": []
  },
  {
   "cell_type": "code",
   "execution_count": null,
   "id": "3e8e5236",
   "metadata": {},
   "outputs": [],
   "source": []
  },
  {
   "cell_type": "code",
   "execution_count": null,
   "id": "09cd02c3",
   "metadata": {},
   "outputs": [],
   "source": []
  },
  {
   "cell_type": "code",
   "execution_count": null,
   "id": "8b0fec15",
   "metadata": {},
   "outputs": [],
   "source": []
  },
  {
   "cell_type": "code",
   "execution_count": null,
   "id": "0ac56b1a",
   "metadata": {},
   "outputs": [],
   "source": []
  },
  {
   "cell_type": "code",
   "execution_count": null,
   "id": "3d82988c",
   "metadata": {},
   "outputs": [],
   "source": []
  },
  {
   "cell_type": "code",
   "execution_count": null,
   "id": "3550e8b3",
   "metadata": {},
   "outputs": [],
   "source": []
  },
  {
   "cell_type": "code",
   "execution_count": null,
   "id": "716c0b3e",
   "metadata": {},
   "outputs": [],
   "source": []
  },
  {
   "cell_type": "code",
   "execution_count": null,
   "id": "cfe47d89",
   "metadata": {},
   "outputs": [],
   "source": []
  },
  {
   "cell_type": "code",
   "execution_count": null,
   "id": "5867d3ae",
   "metadata": {},
   "outputs": [],
   "source": []
  },
  {
   "cell_type": "code",
   "execution_count": null,
   "id": "0eb93d31",
   "metadata": {},
   "outputs": [],
   "source": []
  },
  {
   "cell_type": "code",
   "execution_count": null,
   "id": "0d091258",
   "metadata": {},
   "outputs": [],
   "source": []
  },
  {
   "cell_type": "code",
   "execution_count": null,
   "id": "b80b1534",
   "metadata": {},
   "outputs": [],
   "source": []
  },
  {
   "cell_type": "code",
   "execution_count": 34,
   "id": "98c8a1f9",
   "metadata": {
    "ExecuteTime": {
     "end_time": "2021-11-14T18:41:41.978527Z",
     "start_time": "2021-11-14T18:41:41.915469Z"
    }
   },
   "outputs": [],
   "source": [
    "# def Loss_Ex(mOutput, mTarget):\n",
    "#     #-- mOutput.shape       = (N, B, 8, 5, 5)\n",
    "#     #-- mTarget.shape       = (N, B, 6, 5, 5)\n",
    "#     #-- mOutput[ii,bb,:,jj,kk] = [p | x, y, W, H | R, G, B]\n",
    "#     #-- mTarget[ii,bb,:,jj,kk] = [p | x, y, W, H | cIdx]\n",
    "#     mProb      = mTarget[:,:,0,:,:]\n",
    "#     mMask      = mProb == 1\n",
    "    \n",
    "#     mBBox      = mTarget[:,:,1:5,:,:].permute(0,1,3,4,2)[mMask] #-- mBBox .shape = (T, 4)\n",
    "#     vLabel     = mTarget[:,:,5  ,:,:].long()            [mMask] #-- vLabel.shape = (T)\n",
    "    \n",
    "#     mProbPred  = mOutput[:,:,0,  :,:] \n",
    "#     mBBoxPred  = mOutput[:,:,1:5,:,:].permute(0,1,3,4,2)[mMask]  #-- mBBoxPred .shape = (T, 4)\n",
    "#     mLabelPred = mOutput[:,:,5:, :,:].permute(0,1,3,4,2)[mMask]  #-- mLabelPred.shape = (T, L)\n",
    "    \n",
    "#     BCE = nn.BCEWithLogitsLoss()(mProbPred,  mProb)\n",
    "#     MSE = nn.MSELoss          ()(mBBoxPred,  mBBox)\n",
    "#     CE  = nn.CrossEntropyLoss ()(mLabelPred, vLabel)\n",
    "    \n",
    "#     loss = BCE + MSE + CE\n",
    "    \n",
    "#     return loss, BCE.item(), CE.item(), MSE.item()"
   ]
  }
 ],
 "metadata": {
  "interpreter": {
   "hash": "b45d388af834db38715118ef7f07cf687c3033ee42f9e8f75a328a2a999319b3"
  },
  "kernelspec": {
   "display_name": "Python 3",
   "language": "python",
   "name": "python3"
  },
  "language_info": {
   "codemirror_mode": {
    "name": "ipython",
    "version": 3
   },
   "file_extension": ".py",
   "mimetype": "text/x-python",
   "name": "python",
   "nbconvert_exporter": "python",
   "pygments_lexer": "ipython3",
   "version": "3.8.12"
  }
 },
 "nbformat": 4,
 "nbformat_minor": 5
}
