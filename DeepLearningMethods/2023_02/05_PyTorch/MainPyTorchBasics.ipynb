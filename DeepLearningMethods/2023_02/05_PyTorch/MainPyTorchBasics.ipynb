{
 "cells": [
  {
   "cell_type": "markdown",
   "metadata": {
    "slideshow": {
     "slide_type": "slide"
    }
   },
   "source": [
    "![Fixel Algorithms](https://fixelalgorithms.co/images/CCExt.png)"
   ]
  },
  {
   "cell_type": "markdown",
   "metadata": {
    "tags": []
   },
   "source": [
    "# <center> Deep Learning Methods </center>\n",
    "## <center> Lecture 5 - PyTorch</center>\n",
    "### <center> PyTorch Basics </center>"
   ]
  },
  {
   "cell_type": "markdown",
   "metadata": {},
   "source": [
    "Colab users should use GPU runtime:<br>\n",
    "[![Open In Colab](https://colab.research.google.com/assets/colab-badge.svg)](https://colab.research.google.com/github/FixelAlgorithmsTeam/FixelCourses/blob/master/DeepLearningMethods/05_PyTorch/MainPyTorchBasics.ipynb)"
   ]
  },
  {
   "cell_type": "markdown",
   "metadata": {
    "slideshow": {
     "slide_type": "slide"
    }
   },
   "source": [
    "### Useful PyTorch tutorials:\n",
    "https://pytorch.org/tutorials/"
   ]
  },
  {
   "cell_type": "code",
   "execution_count": 1,
   "metadata": {
    "ExecuteTime": {
     "end_time": "2021-11-10T20:24:47.336886Z",
     "start_time": "2021-11-10T20:24:47.315867Z"
    },
    "slideshow": {
     "slide_type": "fragment"
    }
   },
   "outputs": [
    {
     "data": {
      "text/html": [
       "<style>.container { width:80% !important; }</style>"
      ],
      "text/plain": [
       "<IPython.core.display.HTML object>"
      ]
     },
     "metadata": {},
     "output_type": "display_data"
    }
   ],
   "source": [
    "#-- Wide screen:\n",
    "from IPython.core.display import display, HTML\n",
    "display(HTML(\"<style>.container { width:80% !important; }</style>\"))"
   ]
  },
  {
   "cell_type": "code",
   "execution_count": 2,
   "metadata": {
    "ExecuteTime": {
     "end_time": "2021-11-10T20:24:48.369857Z",
     "start_time": "2021-11-10T20:24:47.337886Z"
    },
    "slideshow": {
     "slide_type": "fragment"
    }
   },
   "outputs": [],
   "source": [
    "#-- Imports:\n",
    "import numpy as np\n",
    "\n",
    "#-- torch:\n",
    "import torch"
   ]
  },
  {
   "cell_type": "markdown",
   "metadata": {
    "slideshow": {
     "slide_type": "slide"
    }
   },
   "source": [
    "### Tensors\n",
    "Tensors are similar to NumPy’s ndarrays,  \n",
    "Tensors can also be used on GPUs."
   ]
  },
  {
   "cell_type": "code",
   "execution_count": 3,
   "metadata": {
    "ExecuteTime": {
     "end_time": "2021-11-10T20:24:48.385376Z",
     "start_time": "2021-11-10T20:24:48.370859Z"
    },
    "slideshow": {
     "slide_type": "fragment"
    }
   },
   "outputs": [
    {
     "data": {
      "text/plain": [
       "tensor([[1., 1., 1.],\n",
       "        [1., 1., 1.]])"
      ]
     },
     "execution_count": 3,
     "metadata": {},
     "output_type": "execute_result"
    }
   ],
   "source": [
    "mX = torch.ones(2, 3)\n",
    "mX"
   ]
  },
  {
   "cell_type": "code",
   "execution_count": 4,
   "metadata": {
    "ExecuteTime": {
     "end_time": "2021-11-10T20:24:48.401391Z",
     "start_time": "2021-11-10T20:24:48.386377Z"
    },
    "slideshow": {
     "slide_type": "fragment"
    }
   },
   "outputs": [
    {
     "data": {
      "text/plain": [
       "('torch.FloatTensor', torch.Size([2, 3]), torch.Size([2, 3]))"
      ]
     },
     "execution_count": 4,
     "metadata": {},
     "output_type": "execute_result"
    }
   ],
   "source": [
    "#-- type, shape & size:\n",
    "mX.type(), mX.shape, mX.size()"
   ]
  },
  {
   "cell_type": "code",
   "execution_count": 5,
   "metadata": {
    "ExecuteTime": {
     "end_time": "2021-11-10T20:24:48.417405Z",
     "start_time": "2021-11-10T20:24:48.402391Z"
    },
    "slideshow": {
     "slide_type": "fragment"
    }
   },
   "outputs": [
    {
     "data": {
      "text/plain": [
       "(tensor([[1, 1, 1],\n",
       "         [1, 1, 1]]),\n",
       " 'torch.LongTensor')"
      ]
     },
     "execution_count": 5,
     "metadata": {},
     "output_type": "execute_result"
    }
   ],
   "source": [
    "#-- dytpe = int:\n",
    "mX = torch.ones(2, 3, dtype=int)\n",
    "mX, mX.type()"
   ]
  },
  {
   "cell_type": "code",
   "execution_count": 6,
   "metadata": {
    "ExecuteTime": {
     "end_time": "2021-11-10T20:24:48.433421Z",
     "start_time": "2021-11-10T20:24:48.418407Z"
    },
    "slideshow": {
     "slide_type": "slide"
    }
   },
   "outputs": [
    {
     "data": {
      "text/plain": [
       "tensor([1.0000, 1.1429, 1.2857, 1.4286, 1.5714, 1.7143, 1.8571, 2.0000, 2.1429,\n",
       "        2.2857, 2.4286, 2.5714, 2.7143, 2.8571, 3.0000])"
      ]
     },
     "execution_count": 6,
     "metadata": {},
     "output_type": "execute_result"
    }
   ],
   "source": [
    "#-- To NumPy:\n",
    "vX = torch.linspace(1, 3, 15)\n",
    "vX"
   ]
  },
  {
   "cell_type": "code",
   "execution_count": 7,
   "metadata": {
    "ExecuteTime": {
     "end_time": "2021-11-10T20:24:48.449434Z",
     "start_time": "2021-11-10T20:24:48.434421Z"
    },
    "slideshow": {
     "slide_type": "fragment"
    }
   },
   "outputs": [
    {
     "data": {
      "text/plain": [
       "array([1.       , 1.1428572, 1.2857143, 1.4285715, 1.5714285, 1.7142857,\n",
       "       1.8571429, 2.       , 2.142857 , 2.2857141, 2.4285715, 2.5714285,\n",
       "       2.7142856, 2.857143 , 3.       ], dtype=float32)"
      ]
     },
     "execution_count": 7,
     "metadata": {},
     "output_type": "execute_result"
    }
   ],
   "source": [
    "vX.numpy()"
   ]
  },
  {
   "cell_type": "markdown",
   "metadata": {
    "slideshow": {
     "slide_type": "slide"
    }
   },
   "source": [
    "#### Notice the difference between the following two cells:\n",
    "(be careful when initialize a tensor with round numbers)"
   ]
  },
  {
   "cell_type": "code",
   "execution_count": 8,
   "metadata": {
    "ExecuteTime": {
     "end_time": "2021-11-10T20:24:48.465449Z",
     "start_time": "2021-11-10T20:24:48.451436Z"
    },
    "slideshow": {
     "slide_type": "fragment"
    }
   },
   "outputs": [
    {
     "data": {
      "text/plain": [
       "(tensor([1., 2., 5., 6.]), 'torch.FloatTensor')"
      ]
     },
     "execution_count": 8,
     "metadata": {},
     "output_type": "execute_result"
    }
   ],
   "source": [
    "vX = torch.tensor([1, 2, 5, 6.])\n",
    "vX, vX.type()"
   ]
  },
  {
   "cell_type": "code",
   "execution_count": 9,
   "metadata": {
    "ExecuteTime": {
     "end_time": "2021-11-10T20:24:48.481464Z",
     "start_time": "2021-11-10T20:24:48.466450Z"
    },
    "slideshow": {
     "slide_type": "fragment"
    }
   },
   "outputs": [
    {
     "data": {
      "text/plain": [
       "(tensor([1, 2, 5, 6]), 'torch.LongTensor')"
      ]
     },
     "execution_count": 9,
     "metadata": {},
     "output_type": "execute_result"
    }
   ],
   "source": [
    "vX = torch.tensor([1, 2, 5, 6])\n",
    "vX, vX.type()"
   ]
  },
  {
   "cell_type": "markdown",
   "metadata": {
    "slideshow": {
     "slide_type": "slide"
    }
   },
   "source": [
    "###  Autograd\n",
    "Consider the following function:\n",
    "$$y=f\\left(x\\right)=x^{2}+3$$\n",
    "$$\\implies f'\\left(x\\right)=2x$$"
   ]
  },
  {
   "cell_type": "code",
   "execution_count": 10,
   "metadata": {
    "ExecuteTime": {
     "end_time": "2021-11-10T20:24:48.497478Z",
     "start_time": "2021-11-10T20:24:48.482465Z"
    },
    "slideshow": {
     "slide_type": "fragment"
    }
   },
   "outputs": [],
   "source": [
    "f = lambda x: x**2 + 3\n",
    "x = torch.tensor(7., requires_grad=True)\n",
    "y = f(x)"
   ]
  },
  {
   "cell_type": "code",
   "execution_count": 11,
   "metadata": {
    "ExecuteTime": {
     "end_time": "2021-11-10T20:24:48.529507Z",
     "start_time": "2021-11-10T20:24:48.498480Z"
    },
    "slideshow": {
     "slide_type": "fragment"
    }
   },
   "outputs": [],
   "source": [
    "#-- compute gradients:\n",
    "y.backward()"
   ]
  },
  {
   "cell_type": "code",
   "execution_count": 12,
   "metadata": {
    "ExecuteTime": {
     "end_time": "2021-11-10T20:24:48.545522Z",
     "start_time": "2021-11-10T20:24:48.530508Z"
    },
    "slideshow": {
     "slide_type": "fragment"
    }
   },
   "outputs": [
    {
     "data": {
      "text/plain": [
       "tensor(14.)"
      ]
     },
     "execution_count": 12,
     "metadata": {},
     "output_type": "execute_result"
    }
   ],
   "source": [
    "#-- check that f'(7) = 14:\n",
    "x.grad"
   ]
  },
  {
   "cell_type": "markdown",
   "metadata": {
    "slideshow": {
     "slide_type": "slide"
    }
   },
   "source": [
    "Consider now:\n",
    "$$y=f\\left(\\boldsymbol{x},\\boldsymbol{w}\\right)=\\boldsymbol{w}^{T}\\boldsymbol{x}$$\n",
    "$$\\implies\\nabla_{\\boldsymbol{x}}f=\\boldsymbol{w}$$\n",
    "and\n",
    "$$\\implies\\nabla_{\\boldsymbol{w}}f=\\boldsymbol{x}$$"
   ]
  },
  {
   "cell_type": "code",
   "execution_count": 13,
   "metadata": {
    "ExecuteTime": {
     "end_time": "2021-11-10T20:24:48.561536Z",
     "start_time": "2021-11-10T20:24:48.546523Z"
    },
    "slideshow": {
     "slide_type": "fragment"
    }
   },
   "outputs": [],
   "source": [
    "f  = lambda vX, vW: vW[None,:] @ vX[:,None]\n",
    "vX = torch.tensor([1., 3], requires_grad=True)\n",
    "vW = torch.tensor([2., 5], requires_grad=True)\n",
    "y  = f(vX, vW)"
   ]
  },
  {
   "cell_type": "code",
   "execution_count": 14,
   "metadata": {
    "ExecuteTime": {
     "end_time": "2021-11-10T20:24:48.577551Z",
     "start_time": "2021-11-10T20:24:48.562537Z"
    },
    "slideshow": {
     "slide_type": "fragment"
    }
   },
   "outputs": [],
   "source": [
    "#-- compute gradients:\n",
    "y.backward()"
   ]
  },
  {
   "cell_type": "code",
   "execution_count": 15,
   "metadata": {
    "ExecuteTime": {
     "end_time": "2021-11-10T20:24:48.593566Z",
     "start_time": "2021-11-10T20:24:48.578552Z"
    },
    "slideshow": {
     "slide_type": "fragment"
    }
   },
   "outputs": [
    {
     "name": "stdout",
     "output_type": "stream",
     "text": [
      "tensor([2., 5.])\n",
      "tensor([1., 3.])\n"
     ]
    }
   ],
   "source": [
    "#-- check that:\n",
    "#-- 1. ∇xf = w\n",
    "#-- 2. ∇wf = x\n",
    "print(vX.grad)\n",
    "print(vW.grad)"
   ]
  },
  {
   "cell_type": "markdown",
   "metadata": {
    "slideshow": {
     "slide_type": "slide"
    }
   },
   "source": [
    "### Why do we need to set to zero the gradients?\n",
    "Let us repeat the code from the cells above:"
   ]
  },
  {
   "cell_type": "code",
   "execution_count": 16,
   "metadata": {
    "ExecuteTime": {
     "end_time": "2021-11-10T20:24:48.609580Z",
     "start_time": "2021-11-10T20:24:48.594567Z"
    },
    "slideshow": {
     "slide_type": "fragment"
    }
   },
   "outputs": [],
   "source": [
    "y = f(vX, vW)\n",
    "y.backward()"
   ]
  },
  {
   "cell_type": "code",
   "execution_count": 17,
   "metadata": {
    "ExecuteTime": {
     "end_time": "2021-11-10T20:24:48.625594Z",
     "start_time": "2021-11-10T20:24:48.610581Z"
    },
    "slideshow": {
     "slide_type": "fragment"
    }
   },
   "outputs": [
    {
     "name": "stdout",
     "output_type": "stream",
     "text": [
      "tensor([ 4., 10.])\n",
      "tensor([2., 6.])\n"
     ]
    }
   ],
   "source": [
    "print(vX.grad)\n",
    "print(vW.grad)"
   ]
  },
  {
   "cell_type": "markdown",
   "metadata": {
    "slideshow": {
     "slide_type": "fragment"
    }
   },
   "source": [
    "Note that the results are different now.  \n",
    "This is because we did not reset the gradients.  \n",
    "Let us try again:"
   ]
  },
  {
   "cell_type": "code",
   "execution_count": 18,
   "metadata": {
    "ExecuteTime": {
     "end_time": "2021-11-10T20:24:48.641610Z",
     "start_time": "2021-11-10T20:24:48.626596Z"
    },
    "slideshow": {
     "slide_type": "fragment"
    }
   },
   "outputs": [],
   "source": [
    "vX.grad.data.zero_()\n",
    "vW.grad.data.zero_()\n",
    "\n",
    "y = f(vX, vW)\n",
    "y.backward()"
   ]
  },
  {
   "cell_type": "code",
   "execution_count": 19,
   "metadata": {
    "ExecuteTime": {
     "end_time": "2021-11-10T20:24:48.657624Z",
     "start_time": "2021-11-10T20:24:48.642610Z"
    },
    "slideshow": {
     "slide_type": "fragment"
    }
   },
   "outputs": [
    {
     "name": "stdout",
     "output_type": "stream",
     "text": [
      "tensor([2., 5.])\n",
      "tensor([1., 3.])\n"
     ]
    }
   ],
   "source": [
    "print(vX.grad)\n",
    "print(vW.grad)"
   ]
  },
  {
   "cell_type": "markdown",
   "metadata": {
    "slideshow": {
     "slide_type": "slide"
    }
   },
   "source": [
    "Consider:\n",
    "$$\\boldsymbol{y}=f\\left(\\boldsymbol{x}\\right)=\\boldsymbol{W}\\boldsymbol{x}$$\n",
    "where\n",
    "* $\\boldsymbol{x}\\in\\mathbb{R}^{\\text{in}}$\n",
    "* $\\boldsymbol{W}\\in\\mathbb{R}^{\\text{out}\\times\\text{in}}$\n",
    "* $\\boldsymbol{y}\\in\\mathbb{R}^{\\text{out}}$"
   ]
  },
  {
   "cell_type": "markdown",
   "metadata": {
    "slideshow": {
     "slide_type": "fragment"
    }
   },
   "source": [
    "The Jacobian $\\boldsymbol{J}_{f}\\left(\\boldsymbol{x}\\right)$:\n",
    "$$\\implies\\nabla_{\\boldsymbol{x}}f\\left(\\boldsymbol{x}\\right)\\left[\\boldsymbol{h}\\right]=\\boldsymbol{W}\\boldsymbol{h}$$\n",
    "$$\\implies\\boldsymbol{J}_{f}\\left(\\boldsymbol{x}\\right)=\\boldsymbol{W}$$"
   ]
  },
  {
   "cell_type": "markdown",
   "metadata": {
    "slideshow": {
     "slide_type": "fragment"
    }
   },
   "source": [
    "Since $\\boldsymbol{y}\\in\\mathbb{R}^{\\text{out}}$ is a vector, we define:\n",
    "$$g\\left(\\boldsymbol{x}\\right)=\\boldsymbol{h}^{T}\\boldsymbol{y}\\in\\mathbb{R}$$\n",
    "Then,\n",
    "$$\\boldsymbol{y}\\text{.backward}\\left(\\boldsymbol{h}\\right)=\\nabla_{\\boldsymbol{x}}\\boldsymbol{g}\\left(\\boldsymbol{x}\\right)=\\boldsymbol{h}^{T}\\boldsymbol{W}$$\n",
    "In general: $\\boldsymbol{y}\\text{.backward}\\left(\\boldsymbol{h}\\right)=\\boldsymbol{h}^{T}\\boldsymbol{J}_{f}$"
   ]
  },
  {
   "cell_type": "code",
   "execution_count": 20,
   "metadata": {
    "ExecuteTime": {
     "end_time": "2021-11-10T20:24:48.673638Z",
     "start_time": "2021-11-10T20:24:48.658625Z"
    },
    "slideshow": {
     "slide_type": "slide"
    }
   },
   "outputs": [],
   "source": [
    "f  = lambda vX, mW: mW @ vX\n",
    "vX = torch.tensor([1., 4, 5], requires_grad=True)\n",
    "mW = torch.tensor([[1., 4, 0],\n",
    "                   [2,  1, 7]])\n",
    "\n",
    "vY = f(vX, mW)\n",
    "vH = torch.ones(2)\n",
    "vY.backward(vH)"
   ]
  },
  {
   "cell_type": "code",
   "execution_count": 21,
   "metadata": {
    "ExecuteTime": {
     "end_time": "2021-11-10T20:24:48.689653Z",
     "start_time": "2021-11-10T20:24:48.674639Z"
    },
    "slideshow": {
     "slide_type": "fragment"
    }
   },
   "outputs": [
    {
     "name": "stdout",
     "output_type": "stream",
     "text": [
      "tensor([3., 5., 7.])\n",
      "tensor([3., 5., 7.])\n"
     ]
    }
   ],
   "source": [
    "#-- check that:\n",
    "#--     x.grad = h^T @ ∇xf\n",
    "print(vX.grad)\n",
    "print(vH @ mW)"
   ]
  },
  {
   "cell_type": "markdown",
   "metadata": {
    "slideshow": {
     "slide_type": "slide"
    }
   },
   "source": [
    "Some imports:"
   ]
  },
  {
   "cell_type": "code",
   "execution_count": 22,
   "metadata": {
    "ExecuteTime": {
     "end_time": "2021-11-10T20:24:48.705667Z",
     "start_time": "2021-11-10T20:24:48.690654Z"
    }
   },
   "outputs": [],
   "source": [
    "if 'google.colab' in str(get_ipython()):\n",
    "    !pip install torchinfo"
   ]
  },
  {
   "cell_type": "code",
   "execution_count": 23,
   "metadata": {
    "ExecuteTime": {
     "end_time": "2021-11-10T20:24:48.721682Z",
     "start_time": "2021-11-10T20:24:48.707669Z"
    }
   },
   "outputs": [],
   "source": [
    "import torch.nn            as nn\n",
    "import torch.nn.functional as F\n",
    "import torchinfo"
   ]
  },
  {
   "cell_type": "markdown",
   "metadata": {
    "slideshow": {
     "slide_type": "slide"
    }
   },
   "source": [
    "### Sequential model:\n",
    "$$\\hat{\\boldsymbol{y}}=f\\left(\\boldsymbol{x}\\right)=\\boldsymbol{W}_{3}\\sigma\\left(\\boldsymbol{W}_{2}\\sigma\\left(\\boldsymbol{W}_{1}\\boldsymbol{x}+\\boldsymbol{b}_{1}\\right)+\\boldsymbol{b}_{2}\\right)$$"
   ]
  },
  {
   "cell_type": "code",
   "execution_count": 24,
   "metadata": {
    "ExecuteTime": {
     "end_time": "2021-11-10T20:24:50.286332Z",
     "start_time": "2021-11-10T20:24:48.722683Z"
    },
    "slideshow": {
     "slide_type": "fragment"
    }
   },
   "outputs": [
    {
     "data": {
      "text/plain": [
       "==========================================================================================\n",
       "Layer (type:depth-idx)                   Output Shape              Param #\n",
       "==========================================================================================\n",
       "Sequential                               --                        --\n",
       "├─Identity: 1-1                          [16, 100]                 --\n",
       "├─Linear: 1-2                            [16, 50]                  5,050\n",
       "├─ReLU: 1-3                              [16, 50]                  --\n",
       "├─Linear: 1-4                            [16, 25]                  1,275\n",
       "├─ReLU: 1-5                              [16, 25]                  --\n",
       "├─Linear: 1-6                            [16, 10]                  250\n",
       "==========================================================================================\n",
       "Total params: 6,575\n",
       "Trainable params: 6,575\n",
       "Non-trainable params: 0\n",
       "Total mult-adds (M): 0.11\n",
       "==========================================================================================\n",
       "Input size (MB): 0.01\n",
       "Forward/backward pass size (MB): 0.01\n",
       "Params size (MB): 0.03\n",
       "Estimated Total Size (MB): 0.04\n",
       "=========================================================================================="
      ]
     },
     "execution_count": 24,
     "metadata": {},
     "output_type": "execute_result"
    }
   ],
   "source": [
    "oModel = nn.Sequential(\n",
    "    nn.Identity(),                            #-- just for the summary\n",
    "    nn.Linear(100, 50),            nn.ReLU(), #-- z1 = σ(W1 * x + b1)\n",
    "    nn.Linear(50,  25),            nn.ReLU(), #-- z2 = σ(W2 * z1 + b2)\n",
    "    nn.Linear(25,  10, bias=False)            #-- y  = W3 * z2\n",
    ")\n",
    "\n",
    "torchinfo.summary(oModel, (16, 100))"
   ]
  },
  {
   "cell_type": "markdown",
   "metadata": {
    "slideshow": {
     "slide_type": "slide"
    }
   },
   "source": [
    "### Custom module (layer)\n",
    "Consider the following architecture:\n",
    "$$\\hat{\\boldsymbol{y}}=f\\left(\\boldsymbol{x}\\right)=\\boldsymbol{W}_{3}\\left(\\sigma_{1}\\left(\\boldsymbol{W}_{1}\\boldsymbol{x}\\right)+\\sigma_{2}\\left(\\boldsymbol{W}_{2}\\boldsymbol{x}\\right)\\right)$$"
   ]
  },
  {
   "cell_type": "markdown",
   "metadata": {
    "slideshow": {
     "slide_type": "fragment"
    }
   },
   "source": [
    "<center> <img src=\"https://github.com/FixelAlgorithmsTeam/FixelCourses/blob/master/DeepLearningMethods/05_PyTorch/ParallelNetwork.png?raw=true\" alt=\"a\" style=\"width: 500px;\"/> </center>"
   ]
  },
  {
   "cell_type": "markdown",
   "metadata": {
    "slideshow": {
     "slide_type": "fragment"
    }
   },
   "source": [
    "since we compute $\\sigma_{1}\\left(\\boldsymbol{W}_{1}\\boldsymbol{x}\\right)$ and $\\sigma_{2}\\left(\\boldsymbol{W}_{2}\\boldsymbol{x}\\right)$ in parallel  \n",
    "this model can not be implemented using sequential model."
   ]
  },
  {
   "cell_type": "markdown",
   "metadata": {
    "slideshow": {
     "slide_type": "slide"
    }
   },
   "source": [
    "<center> <img src=\"https://github.com/FixelAlgorithmsTeam/FixelCourses/blob/master/DeepLearningMethods/05_PyTorch/ParallelNetwork.png?raw=true\" alt=\"a\" style=\"width: 200px;\"/> </center>\n",
    "$$\\hat{\\boldsymbol{y}}=f\\left(\\boldsymbol{x}\\right)=\\boldsymbol{W}_{3}\\left(\\sigma_{1}\\left(\\boldsymbol{W}_{1}\\boldsymbol{x}\\right)+\\sigma_{2}\\left(\\boldsymbol{W}_{2}\\boldsymbol{x}\\right)\\right)$$\n",
    "\n",
    "#### Option I: Define a new (custom) layer:\n",
    "$$\\text{NewLayer}\\left(\\boldsymbol{x}\\right)=\\sigma_{1}\\left(\\boldsymbol{W}_{1}\\boldsymbol{x}\\right)+\\sigma_{2}\\left(\\boldsymbol{W}_{2}\\boldsymbol{x}\\right)$$\n",
    "and then use `nn.Sequential`"
   ]
  },
  {
   "cell_type": "code",
   "execution_count": 25,
   "metadata": {
    "ExecuteTime": {
     "end_time": "2021-11-10T20:24:50.301526Z",
     "start_time": "2021-11-10T20:24:50.287334Z"
    },
    "slideshow": {
     "slide_type": "fragment"
    }
   },
   "outputs": [],
   "source": [
    "class NewLayer(nn.Module):\n",
    "    def __init__(self, dIn, dOut):\n",
    "        super().__init__() #-- always do this\n",
    "        self.Linear1 = nn.Linear(dIn, dOut, bias=False)\n",
    "        self.Linear2 = nn.Linear(dIn, dOut, bias=False)\n",
    "\n",
    "    def forward(self, mX):\n",
    "        mZ1 = torch.relu(self.Linear1(mX)) #-- σ1(W1 * x)\n",
    "        mZ2 = torch.relu(self.Linear2(mX)) #-- σ2(W2 * x)\n",
    "        return mZ1 + mZ2"
   ]
  },
  {
   "cell_type": "code",
   "execution_count": 26,
   "metadata": {
    "ExecuteTime": {
     "end_time": "2021-11-10T20:24:50.317536Z",
     "start_time": "2021-11-10T20:24:50.302528Z"
    },
    "slideshow": {
     "slide_type": "fragment"
    }
   },
   "outputs": [
    {
     "data": {
      "text/plain": [
       "==========================================================================================\n",
       "Layer (type:depth-idx)                   Output Shape              Param #\n",
       "==========================================================================================\n",
       "Sequential                               --                        --\n",
       "├─NewLayer: 1-1                          [16, 50]                  --\n",
       "│    └─Linear: 2-1                       [16, 50]                  5,000\n",
       "│    └─Linear: 2-2                       [16, 50]                  5,000\n",
       "├─Linear: 1-2                            [16, 10]                  500\n",
       "==========================================================================================\n",
       "Total params: 10,500\n",
       "Trainable params: 10,500\n",
       "Non-trainable params: 0\n",
       "Total mult-adds (M): 0.17\n",
       "==========================================================================================\n",
       "Input size (MB): 0.01\n",
       "Forward/backward pass size (MB): 0.01\n",
       "Params size (MB): 0.04\n",
       "Estimated Total Size (MB): 0.06\n",
       "=========================================================================================="
      ]
     },
     "execution_count": 26,
     "metadata": {},
     "output_type": "execute_result"
    }
   ],
   "source": [
    "oModel = nn.Sequential(\n",
    "    NewLayer (100, 50),            #-- z = σ1(W1 * x) + σ2(W2 * x)\n",
    "    nn.Linear(50,  10, bias=False) #-- y = W3 * z\n",
    ")\n",
    "torchinfo.summary(oModel, (16, 100))"
   ]
  },
  {
   "cell_type": "markdown",
   "metadata": {
    "slideshow": {
     "slide_type": "slide"
    }
   },
   "source": [
    "$$\\hat{\\boldsymbol{y}}=f\\left(\\boldsymbol{x}\\right)=\\boldsymbol{W}_{3}\\left(\\sigma_{1}\\left(\\boldsymbol{W}_{1}\\boldsymbol{x}\\right)+\\sigma_{2}\\left(\\boldsymbol{W}_{2}\\boldsymbol{x}\\right)\\right)$$\n",
    "#### Option II: Manually define the architecture:"
   ]
  },
  {
   "cell_type": "code",
   "execution_count": 27,
   "metadata": {
    "ExecuteTime": {
     "end_time": "2021-11-10T20:24:50.332550Z",
     "start_time": "2021-11-10T20:24:50.318538Z"
    },
    "slideshow": {
     "slide_type": "fragment"
    }
   },
   "outputs": [],
   "source": [
    "class ParallelModel(nn.Module):\n",
    "    def __init__(self, dIn, dHidden, dOut):\n",
    "        super().__init__() #-- always do this\n",
    "        self.Linear1 = nn.Linear(dIn,     dHidden, bias=False)\n",
    "        self.Linear2 = nn.Linear(dIn,     dHidden, bias=False)\n",
    "        self.Linear3 = nn.Linear(dHidden, dOut,    bias=False)\n",
    "\n",
    "    def forward(self, mX):\n",
    "        mZ1 = torch.sigmoid(self.Linear1(mX)) #-- σ1(W1 * x)\n",
    "        mZ2 = torch.tanh   (self.Linear2(mX)) #-- σ2(W2 * x)\n",
    "        mY  = self.Linear3 (mZ1 + mZ2)        #-- W3 * (σ1(W1 * x) + σ2(W2 * x))\n",
    "        return mY"
   ]
  },
  {
   "cell_type": "code",
   "execution_count": 28,
   "metadata": {
    "ExecuteTime": {
     "end_time": "2021-11-10T20:24:50.348567Z",
     "start_time": "2021-11-10T20:24:50.333551Z"
    },
    "slideshow": {
     "slide_type": "fragment"
    }
   },
   "outputs": [
    {
     "data": {
      "text/plain": [
       "==========================================================================================\n",
       "Layer (type:depth-idx)                   Output Shape              Param #\n",
       "==========================================================================================\n",
       "ParallelModel                            --                        --\n",
       "├─Linear: 1-1                            [16, 50]                  5,000\n",
       "├─Linear: 1-2                            [16, 50]                  5,000\n",
       "├─Linear: 1-3                            [16, 10]                  500\n",
       "==========================================================================================\n",
       "Total params: 10,500\n",
       "Trainable params: 10,500\n",
       "Non-trainable params: 0\n",
       "Total mult-adds (M): 0.17\n",
       "==========================================================================================\n",
       "Input size (MB): 0.01\n",
       "Forward/backward pass size (MB): 0.01\n",
       "Params size (MB): 0.04\n",
       "Estimated Total Size (MB): 0.06\n",
       "=========================================================================================="
      ]
     },
     "execution_count": 28,
     "metadata": {},
     "output_type": "execute_result"
    }
   ],
   "source": [
    "oModel = ParallelModel(100, 50, 10)\n",
    "\n",
    "torchinfo.summary(oModel, (16, 100))"
   ]
  },
  {
   "cell_type": "markdown",
   "metadata": {
    "slideshow": {
     "slide_type": "slide"
    }
   },
   "source": [
    "### Using GPU\n",
    "To move data to the GPU we use `.cuda()`, or `.to.('cuda')`"
   ]
  },
  {
   "cell_type": "code",
   "execution_count": 29,
   "metadata": {
    "ExecuteTime": {
     "end_time": "2021-11-10T20:24:50.364580Z",
     "start_time": "2021-11-10T20:24:50.349567Z"
    }
   },
   "outputs": [
    {
     "data": {
      "text/plain": [
       "device(type='cuda', index=0)"
      ]
     },
     "execution_count": 29,
     "metadata": {},
     "output_type": "execute_result"
    }
   ],
   "source": [
    "DEVICE = torch.device('cuda:0' if torch.cuda.is_available() else 'cpu')\n",
    "DEVICE"
   ]
  },
  {
   "cell_type": "code",
   "execution_count": 30,
   "metadata": {
    "ExecuteTime": {
     "end_time": "2021-11-10T20:24:50.380595Z",
     "start_time": "2021-11-10T20:24:50.365582Z"
    },
    "slideshow": {
     "slide_type": "fragment"
    }
   },
   "outputs": [
    {
     "data": {
      "text/plain": [
       "tensor([[ 0.2503, -2.8467, -1.5095, -0.2450],\n",
       "        [ 0.0834, -0.8545,  0.4844,  0.2944]], device='cuda:0')"
      ]
     },
     "execution_count": 30,
     "metadata": {},
     "output_type": "execute_result"
    }
   ],
   "source": [
    "mX = torch.randn(2, 4).cuda()\n",
    "mX"
   ]
  },
  {
   "cell_type": "code",
   "execution_count": 31,
   "metadata": {
    "ExecuteTime": {
     "end_time": "2021-11-10T20:24:50.396604Z",
     "start_time": "2021-11-10T20:24:50.381596Z"
    },
    "slideshow": {
     "slide_type": "fragment"
    }
   },
   "outputs": [
    {
     "data": {
      "text/plain": [
       "tensor([[ 0.1607,  0.9246, -0.2624,  1.0248],\n",
       "        [-0.2417,  1.4818,  0.8360, -0.3220]], device='cuda:0')"
      ]
     },
     "execution_count": 31,
     "metadata": {},
     "output_type": "execute_result"
    }
   ],
   "source": [
    "mX = torch.randn(2, 4).to(DEVICE)\n",
    "mX"
   ]
  },
  {
   "cell_type": "code",
   "execution_count": 32,
   "metadata": {
    "ExecuteTime": {
     "end_time": "2021-11-10T20:24:50.475829Z",
     "start_time": "2021-11-10T20:24:50.397604Z"
    },
    "slideshow": {
     "slide_type": "fragment"
    }
   },
   "outputs": [
    {
     "data": {
      "text/plain": [
       "tensor([[ 0.3444, -0.2028, -0.5872,  0.1092],\n",
       "        [ 1.6259,  1.5525,  0.1947, -0.6148]], device='cuda:0')"
      ]
     },
     "execution_count": 32,
     "metadata": {},
     "output_type": "execute_result"
    }
   ],
   "source": [
    "#-- Generate data directly inside the GPU\n",
    "mX = torch.randn(2, 4, device=DEVICE)\n",
    "mX"
   ]
  },
  {
   "cell_type": "code",
   "execution_count": 33,
   "metadata": {
    "ExecuteTime": {
     "end_time": "2021-11-10T20:24:50.491843Z",
     "start_time": "2021-11-10T20:24:50.476830Z"
    },
    "slideshow": {
     "slide_type": "slide"
    }
   },
   "outputs": [
    {
     "data": {
      "text/plain": [
       "device(type='cuda', index=0)"
      ]
     },
     "execution_count": 33,
     "metadata": {},
     "output_type": "execute_result"
    }
   ],
   "source": [
    "#-- Move the parameters of the model to the GPU:\n",
    "oModel.to(DEVICE)\n",
    "next(oModel.parameters()).device"
   ]
  },
  {
   "cell_type": "markdown",
   "metadata": {
    "slideshow": {
     "slide_type": "fragment"
    }
   },
   "source": [
    "Back to cpu:"
   ]
  },
  {
   "cell_type": "code",
   "execution_count": 34,
   "metadata": {
    "ExecuteTime": {
     "end_time": "2021-11-10T20:24:50.507857Z",
     "start_time": "2021-11-10T20:24:50.492844Z"
    },
    "slideshow": {
     "slide_type": "fragment"
    }
   },
   "outputs": [
    {
     "data": {
      "text/plain": [
       "device(type='cpu')"
      ]
     },
     "execution_count": 34,
     "metadata": {},
     "output_type": "execute_result"
    }
   ],
   "source": [
    "mX = mX.cpu()\n",
    "#-- or:\n",
    "mX = mX.to('cpu')\n",
    "\n",
    "mX.device"
   ]
  },
  {
   "cell_type": "markdown",
   "metadata": {
    "slideshow": {
     "slide_type": "slide"
    }
   },
   "source": [
    "### CPU vs GPU:"
   ]
  },
  {
   "cell_type": "code",
   "execution_count": 35,
   "metadata": {
    "ExecuteTime": {
     "end_time": "2021-11-10T20:25:00.100855Z",
     "start_time": "2021-11-10T20:24:50.508858Z"
    },
    "slideshow": {
     "slide_type": "fragment"
    }
   },
   "outputs": [
    {
     "name": "stdout",
     "output_type": "stream",
     "text": [
      "CPU time: 8.741315126419067\n"
     ]
    }
   ],
   "source": [
    "import time\n",
    "\n",
    "mX1 = torch.randn(10000, 10000)\n",
    "mX2 = torch.randn(10000, 10000)\n",
    "\n",
    "startTime = time.time()\n",
    "mX3       = mX1 @ mX2\n",
    "endTime   = time.time()\n",
    "\n",
    "print(f'CPU time: {endTime - startTime}')"
   ]
  },
  {
   "cell_type": "code",
   "execution_count": 36,
   "metadata": {
    "ExecuteTime": {
     "end_time": "2021-11-10T20:25:00.196546Z",
     "start_time": "2021-11-10T20:25:00.101856Z"
    },
    "slideshow": {
     "slide_type": "fragment"
    }
   },
   "outputs": [
    {
     "name": "stdout",
     "output_type": "stream",
     "text": [
      "GPU time: 0.03183245658874512\n"
     ]
    }
   ],
   "source": [
    "mX1 = torch.randn(10000, 10000, device='cuda')\n",
    "mX2 = torch.randn(10000, 10000, device='cuda')\n",
    "\n",
    "startTime = time.time()\n",
    "for _ in range(10):\n",
    "    mX3 = mX1 @ mX2\n",
    "endTime = time.time()\n",
    "\n",
    "print(f'GPU time: {endTime - startTime}')"
   ]
  },
  {
   "cell_type": "markdown",
   "metadata": {
    "slideshow": {
     "slide_type": "fragment"
    }
   },
   "source": [
    "###  The End"
   ]
  }
 ],
 "metadata": {
  "celltoolbar": "Slideshow",
  "kernelspec": {
   "display_name": "Python 3",
   "language": "python",
   "name": "python3"
  },
  "language_info": {
   "codemirror_mode": {
    "name": "ipython",
    "version": 3
   },
   "file_extension": ".py",
   "mimetype": "text/x-python",
   "name": "python",
   "nbconvert_exporter": "python",
   "pygments_lexer": "ipython3",
   "version": "3.8.12"
  },
  "toc": {
   "base_numbering": 1,
   "nav_menu": {},
   "number_sections": false,
   "sideBar": true,
   "skip_h1_title": false,
   "title_cell": "Table of Contents",
   "title_sidebar": "Contents",
   "toc_cell": false,
   "toc_position": {},
   "toc_section_display": true,
   "toc_window_display": false
  },
  "varInspector": {
   "cols": {
    "lenName": 16,
    "lenType": 16,
    "lenVar": 40
   },
   "kernels_config": {
    "python": {
     "delete_cmd_postfix": "",
     "delete_cmd_prefix": "del ",
     "library": "var_list.py",
     "varRefreshCmd": "print(var_dic_list())"
    },
    "r": {
     "delete_cmd_postfix": ") ",
     "delete_cmd_prefix": "rm(",
     "library": "var_list.r",
     "varRefreshCmd": "cat(var_dic_list()) "
    }
   },
   "oldHeight": 413,
   "position": {
    "height": "435px",
    "left": "1650px",
    "right": "20px",
    "top": "120px",
    "width": "250px"
   },
   "types_to_exclude": [
    "module",
    "function",
    "builtin_function_or_method",
    "instance",
    "_Feature"
   ],
   "varInspector_section_display": "block",
   "window_display": true
  }
 },
 "nbformat": 4,
 "nbformat_minor": 4
}
