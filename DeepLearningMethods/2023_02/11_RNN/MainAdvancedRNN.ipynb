{
 "cells": [
  {
   "cell_type": "markdown",
   "id": "concrete-plenty",
   "metadata": {},
   "source": [
    "![Fixel Algorithms](https://fixelalgorithms.co/images/CCExt.png)"
   ]
  },
  {
   "cell_type": "markdown",
   "id": "oriented-mattress",
   "metadata": {},
   "source": [
    "# <center> Deep Learning Methods </center>\n",
    "## <center> Lecture 11 - RNN </center>\n",
    "### <center> Advanced RNN </center>"
   ]
  },
  {
   "cell_type": "markdown",
   "id": "declared-sentence",
   "metadata": {},
   "source": [
    "[![Open In Colab](https://colab.research.google.com/assets/colab-badge.svg)](https://colab.research.google.com/github/FixelAlgorithmsTeam/FixelCourses/blob/master/DeepLearningMethods/11_RNN/MainAdvancedRNN.ipynb)"
   ]
  },
  {
   "cell_type": "code",
   "execution_count": 1,
   "id": "acting-northwest",
   "metadata": {
    "ExecuteTime": {
     "end_time": "2021-11-16T12:20:44.531460Z",
     "start_time": "2021-11-16T12:20:44.509448Z"
    }
   },
   "outputs": [
    {
     "data": {
      "text/html": [
       "<style>.container { width:80% !important; }</style>"
      ],
      "text/plain": [
       "<IPython.core.display.HTML object>"
      ]
     },
     "metadata": {},
     "output_type": "display_data"
    }
   ],
   "source": [
    "#-- Wide screen:\n",
    "from IPython.core.display import display, HTML\n",
    "display(HTML(\"<style>.container { width:80% !important; }</style>\"))"
   ]
  },
  {
   "cell_type": "code",
   "execution_count": 2,
   "id": "german-genesis",
   "metadata": {
    "ExecuteTime": {
     "end_time": "2021-11-16T12:20:45.242681Z",
     "start_time": "2021-11-16T12:20:45.213656Z"
    }
   },
   "outputs": [],
   "source": [
    "#-- Auto reload:\n",
    "%load_ext autoreload\n",
    "%autoreload 2"
   ]
  },
  {
   "cell_type": "code",
   "execution_count": 3,
   "id": "1d852362",
   "metadata": {
    "ExecuteTime": {
     "end_time": "2021-11-16T12:20:45.527739Z",
     "start_time": "2021-11-16T12:20:45.501715Z"
    }
   },
   "outputs": [],
   "source": [
    "if 'google.colab' in str(get_ipython()):\n",
    "    !npx degit FixelAlgorithmsTeam/FixelCourses/DeepLearningMethods/10_RNN/DeepLearningFramework ./DeepLearningFramework"
   ]
  },
  {
   "cell_type": "code",
   "execution_count": 4,
   "id": "auburn-stage",
   "metadata": {
    "ExecuteTime": {
     "end_time": "2021-11-16T12:20:47.011880Z",
     "start_time": "2021-11-16T12:20:45.772429Z"
    }
   },
   "outputs": [],
   "source": [
    "import numpy             as np\n",
    "import matplotlib.pyplot as plt\n",
    "\n",
    "import torch\n",
    "import torch.nn    as nn\n",
    "import torch.optim as optim\n",
    "import torchtext\n",
    "\n",
    "from torchtext.data.utils import get_tokenizer\n",
    "from torchtext.vocab      import Vocab\n",
    "from torchtext.datasets   import IMDB"
   ]
  },
  {
   "cell_type": "markdown",
   "id": "extra-wisdom",
   "metadata": {},
   "source": [
    "### Stacked RNN\n",
    "<img src=\"https://github.com/FixelAlgorithmsTeam/FixelCourses/blob/master/DeepLearningMethods/11_RNN//StackedRNN.png?raw=true\" style=\"width: 700px;\"/>"
   ]
  },
  {
   "cell_type": "code",
   "execution_count": 5,
   "id": "spread-grade",
   "metadata": {
    "ExecuteTime": {
     "end_time": "2021-11-16T12:20:47.075519Z",
     "start_time": "2021-11-16T12:20:47.012881Z"
    }
   },
   "outputs": [
    {
     "data": {
      "text/plain": [
       "(torch.Size([5, 128, 16]), torch.Size([3, 128, 16]))"
      ]
     },
     "execution_count": 5,
     "metadata": {},
     "output_type": "execute_result"
    }
   ],
   "source": [
    "T       = 5\n",
    "D       = 8\n",
    "H       = 16\n",
    "nLayers = 3\n",
    "N       = 128\n",
    "\n",
    "#-- Generate data:\n",
    "mX      = torch.randn(T, N, D)\n",
    "\n",
    "#-- Apply RNN:\n",
    "oRNN    = nn.RNN(D, H, num_layers=nLayers)\n",
    "mO, mH  = oRNN(mX)\n",
    "\n",
    "mO.shape, mH.shape"
   ]
  },
  {
   "cell_type": "markdown",
   "id": "visible-combination",
   "metadata": {},
   "source": [
    "### GRU"
   ]
  },
  {
   "cell_type": "code",
   "execution_count": 6,
   "id": "reserved-validity",
   "metadata": {
    "ExecuteTime": {
     "end_time": "2021-11-16T12:20:47.597479Z",
     "start_time": "2021-11-16T12:20:47.540428Z"
    }
   },
   "outputs": [
    {
     "data": {
      "text/plain": [
       "(torch.Size([5, 128, 16]), torch.Size([1, 128, 16]))"
      ]
     },
     "execution_count": 6,
     "metadata": {},
     "output_type": "execute_result"
    }
   ],
   "source": [
    "oGRU   = nn.GRU(D, H)\n",
    "mO, mH = oGRU(mX)\n",
    "\n",
    "mO.shape, mH.shape"
   ]
  },
  {
   "cell_type": "markdown",
   "id": "dominican-store",
   "metadata": {},
   "source": [
    "### LSTM"
   ]
  },
  {
   "cell_type": "code",
   "execution_count": 7,
   "id": "organic-probe",
   "metadata": {
    "ExecuteTime": {
     "end_time": "2021-11-16T12:20:48.359448Z",
     "start_time": "2021-11-16T12:20:48.308402Z"
    }
   },
   "outputs": [
    {
     "data": {
      "text/plain": [
       "(torch.Size([5, 128, 16]), torch.Size([1, 128, 16]), torch.Size([1, 128, 16]))"
      ]
     },
     "execution_count": 7,
     "metadata": {},
     "output_type": "execute_result"
    }
   ],
   "source": [
    "oLSTM        = nn.LSTM(D, H)\n",
    "mO, (mH, mC) = oLSTM(mX)\n",
    "\n",
    "mO.shape, mH.shape, mC.shape"
   ]
  },
  {
   "cell_type": "markdown",
   "id": "whole-darkness",
   "metadata": {},
   "source": [
    "### Bidirectional RNN\n",
    "`mO.shape` = $(T, N, 2H)$ (forward and backward are concatenated).  \n",
    "`mH.shape` = $(2, N, H)$.  \n",
    "`mH[0]` is the forward hidden state.  \n",
    "`mH[1]` is the backward hidden state.  "
   ]
  },
  {
   "cell_type": "code",
   "execution_count": 8,
   "id": "mediterranean-control",
   "metadata": {
    "ExecuteTime": {
     "end_time": "2021-11-16T12:20:49.091483Z",
     "start_time": "2021-11-16T12:20:49.028426Z"
    }
   },
   "outputs": [
    {
     "data": {
      "text/plain": [
       "(torch.Size([5, 128, 32]), torch.Size([2, 128, 16]))"
      ]
     },
     "execution_count": 8,
     "metadata": {},
     "output_type": "execute_result"
    }
   ],
   "source": [
    "oRNN   = nn.RNN(D, H, bidirectional=True)\n",
    "mO, mH = oRNN(mX)\n",
    "\n",
    "mO.shape, mH.shape"
   ]
  },
  {
   "cell_type": "markdown",
   "id": "gross-fantasy",
   "metadata": {},
   "source": [
    "### Put it all together\n",
    "A bidirectional GRU unit with `nLayers = 3`:\n",
    "\n",
    "`mO.shape` = $(T, N, 2H)$ (forward and backward are concatenated).  \n",
    "`mH.shape` = $(2L, N, H)$.  \n",
    "`mH[0]` is the forward hidden state of layer 1.  \n",
    "`mH[1]` is the backward hidden state of layer 1.  \n",
    "`mH[2]` is the forward hidden state of layer 2.  \n",
    "`mH[3]` is the backward hidden state of layer 2.  \n",
    "`mH[4]` is the forward hidden state of layer 3.  \n",
    "`mH[5]` is the backward hidden state of layer 3.  "
   ]
  },
  {
   "cell_type": "code",
   "execution_count": 9,
   "id": "settled-focus",
   "metadata": {
    "ExecuteTime": {
     "end_time": "2021-11-16T12:20:50.058070Z",
     "start_time": "2021-11-16T12:20:49.997016Z"
    }
   },
   "outputs": [
    {
     "data": {
      "text/plain": [
       "(torch.Size([5, 128, 32]), torch.Size([6, 128, 16]))"
      ]
     },
     "execution_count": 9,
     "metadata": {},
     "output_type": "execute_result"
    }
   ],
   "source": [
    "oGRU   = nn.GRU(D, H, num_layers=3, bidirectional=True)\n",
    "mO, mH = oGRU(mX)\n",
    "\n",
    "mO.shape, mH.shape"
   ]
  },
  {
   "cell_type": "markdown",
   "id": "according-frank",
   "metadata": {},
   "source": [
    "### Exercise:\n",
    "* Use the advanced units and get above 85% accuracy on the sentiment analysis task.  \n",
    "* (Keep all sequences with less than 150 words.)"
   ]
  },
  {
   "cell_type": "code",
   "execution_count": 10,
   "id": "violent-grass",
   "metadata": {
    "ExecuteTime": {
     "end_time": "2021-11-16T12:21:12.772008Z",
     "start_time": "2021-11-16T12:20:53.764678Z"
    }
   },
   "outputs": [],
   "source": [
    "dirPath             = '../../data'\n",
    "oTokenizer          = get_tokenizer('basic_english')\n",
    "\n",
    "trainIter, testIter = IMDB(root=dirPath)"
   ]
  },
  {
   "cell_type": "code",
   "execution_count": 11,
   "id": "satellite-words",
   "metadata": {
    "ExecuteTime": {
     "end_time": "2021-11-16T12:21:17.671771Z",
     "start_time": "2021-11-16T12:21:12.773009Z"
    }
   },
   "outputs": [],
   "source": [
    "def NumWords(line):\n",
    "    return len(line.split())\n",
    "\n",
    "maxLength = 150\n",
    "lTrainSet = [(label, line) for (label, line) in trainIter if NumWords(line) < maxLength]\n",
    "lTestSet  = [(label, line) for (label, line) in testIter  if NumWords(line) < maxLength]"
   ]
  },
  {
   "cell_type": "code",
   "execution_count": 12,
   "id": "automotive-marsh",
   "metadata": {
    "ExecuteTime": {
     "end_time": "2021-11-16T12:21:17.734828Z",
     "start_time": "2021-11-16T12:21:17.672771Z"
    }
   },
   "outputs": [
    {
     "data": {
      "text/plain": [
       "(25000, 25000, 9746, 9932)"
      ]
     },
     "execution_count": 12,
     "metadata": {},
     "output_type": "execute_result"
    }
   ],
   "source": [
    "len(trainIter), len(testIter), len(lTrainSet), len(lTestSet)"
   ]
  },
  {
   "cell_type": "code",
   "execution_count": 13,
   "id": "continuing-brunei",
   "metadata": {
    "ExecuteTime": {
     "end_time": "2021-11-16T12:21:17.798886Z",
     "start_time": "2021-11-16T12:21:17.735829Z"
    },
    "scrolled": false
   },
   "outputs": [
    {
     "name": "stdout",
     "output_type": "stream",
     "text": [
      "=========================================================================================================\n",
      "=========================================================================================================\n",
      "\u001b[32mThe Three Stooges has always been some of the many actors that I have loved. I love just about every one of the shorts that they have made. I love all six of the Stooges (Curly, Shemp, Moe, Larry, Joe, and Curly Joe)! All of the shorts are hilarious and also star many other great actors and actresses which a lot of them was in many of the shorts! In My opinion The Three Stooges is some of the greatest actors ever and is the all time funniest comedy team! <br /><br />This is a good Three Stooges short. It funny and its cast includes Christine McIntyre,Symona Boniface, Gino Corrado, Fred Kelsey, Sam Flint, Chester Conklin, Theodore Lorch, Lynton Brent, Judy Malcolm, Vernon Dent, John Tyrrell, Heinie Conklin, and Bess Flowers. The Stooges performed very well in this short! I recommend this one!\u001b[0m\n",
      "--Tokenized:---------------------------\n",
      "['the', 'three', 'stooges', 'has', 'always', 'been', 'some', 'of', 'the', 'many', 'actors', 'that', 'i', 'have', 'loved', '.', 'i', 'love', 'just', 'about', 'every', 'one', 'of', 'the', 'shorts', 'that', 'they', 'have', 'made', '.', 'i', 'love', 'all', 'six', 'of', 'the', 'stooges', '(', 'curly', ',', 'shemp', ',', 'moe', ',', 'larry', ',', 'joe', ',', 'and', 'curly', 'joe', ')', '!', 'all', 'of', 'the', 'shorts', 'are', 'hilarious', 'and', 'also', 'star', 'many', 'other', 'great', 'actors', 'and', 'actresses', 'which', 'a', 'lot', 'of', 'them', 'was', 'in', 'many', 'of', 'the', 'shorts', '!', 'in', 'my', 'opinion', 'the', 'three', 'stooges', 'is', 'some', 'of', 'the', 'greatest', 'actors', 'ever', 'and', 'is', 'the', 'all', 'time', 'funniest', 'comedy', 'team', '!', 'this', 'is', 'a', 'good', 'three', 'stooges', 'short', '.', 'it', 'funny', 'and', 'its', 'cast', 'includes', 'christine', 'mcintyre', ',', 'symona', 'boniface', ',', 'gino', 'corrado', ',', 'fred', 'kelsey', ',', 'sam', 'flint', ',', 'chester', 'conklin', ',', 'theodore', 'lorch', ',', 'lynton', 'brent', ',', 'judy', 'malcolm', ',', 'vernon', 'dent', ',', 'john', 'tyrrell', ',', 'heinie', 'conklin', ',', 'and', 'bess', 'flowers', '.', 'the', 'stooges', 'performed', 'very', 'well', 'in', 'this', 'short', '!', 'i', 'recommend', 'this', 'one', '!']\n",
      "=========================================================================================================\n",
      "=========================================================================================================\n",
      "\u001b[32mThe great and underrated Marion Davies shows her stuff in this late (1928) silent comedy that also showcases the wonderful William Haines. Davies plays a hick from Georgia who crashes Hollywood with help from Haines. They appear in cheap comedies until Marion is \"discovered\" and becomes a big dramatic star. A great lampoon on Hollywood and its pretentions. Davies & Haines are a wonderful team (too bad they never made a talkie together) and the guest shots from the likes of Charlie Chaplin, Douglas Fairbanks, William S. Hart, John Gilbert, Elinor Glynn, and Marion Davies (you have to see it) are a hoot. A must for any serious film buff or for anyone interested in the still-maligned Marion Davies!\u001b[0m\n",
      "--Tokenized:---------------------------\n",
      "['the', 'great', 'and', 'underrated', 'marion', 'davies', 'shows', 'her', 'stuff', 'in', 'this', 'late', '(', '1928', ')', 'silent', 'comedy', 'that', 'also', 'showcases', 'the', 'wonderful', 'william', 'haines', '.', 'davies', 'plays', 'a', 'hick', 'from', 'georgia', 'who', 'crashes', 'hollywood', 'with', 'help', 'from', 'haines', '.', 'they', 'appear', 'in', 'cheap', 'comedies', 'until', 'marion', 'is', 'discovered', 'and', 'becomes', 'a', 'big', 'dramatic', 'star', '.', 'a', 'great', 'lampoon', 'on', 'hollywood', 'and', 'its', 'pretentions', '.', 'davies', '&', 'haines', 'are', 'a', 'wonderful', 'team', '(', 'too', 'bad', 'they', 'never', 'made', 'a', 'talkie', 'together', ')', 'and', 'the', 'guest', 'shots', 'from', 'the', 'likes', 'of', 'charlie', 'chaplin', ',', 'douglas', 'fairbanks', ',', 'william', 's', '.', 'hart', ',', 'john', 'gilbert', ',', 'elinor', 'glynn', ',', 'and', 'marion', 'davies', '(', 'you', 'have', 'to', 'see', 'it', ')', 'are', 'a', 'hoot', '.', 'a', 'must', 'for', 'any', 'serious', 'film', 'buff', 'or', 'for', 'anyone', 'interested', 'in', 'the', 'still-maligned', 'marion', 'davies', '!']\n",
      "=========================================================================================================\n",
      "=========================================================================================================\n",
      "\u001b[31mSpinal Tap was funny because if you knew a little about heavy metal, you saw in-jokes all over the place. If you know anything about porn, this mock documentary will leave you cold. Everything in it rings false.<br /><br />Spinal Tap was funny because it took a familiar world and pushed it over the top. This film is decidedly not funny because it paints a picture of how porn is made that bears no relationship to the real world.<br /><br />The acting here is uniformly awful, but that would not matter much if the core idea of the movie were good. But it's not.\u001b[0m\n",
      "--Tokenized:---------------------------\n",
      "['spinal', 'tap', 'was', 'funny', 'because', 'if', 'you', 'knew', 'a', 'little', 'about', 'heavy', 'metal', ',', 'you', 'saw', 'in-jokes', 'all', 'over', 'the', 'place', '.', 'if', 'you', 'know', 'anything', 'about', 'porn', ',', 'this', 'mock', 'documentary', 'will', 'leave', 'you', 'cold', '.', 'everything', 'in', 'it', 'rings', 'false', '.', 'spinal', 'tap', 'was', 'funny', 'because', 'it', 'took', 'a', 'familiar', 'world', 'and', 'pushed', 'it', 'over', 'the', 'top', '.', 'this', 'film', 'is', 'decidedly', 'not', 'funny', 'because', 'it', 'paints', 'a', 'picture', 'of', 'how', 'porn', 'is', 'made', 'that', 'bears', 'no', 'relationship', 'to', 'the', 'real', 'world', '.', 'the', 'acting', 'here', 'is', 'uniformly', 'awful', ',', 'but', 'that', 'would', 'not', 'matter', 'much', 'if', 'the', 'core', 'idea', 'of', 'the', 'movie', 'were', 'good', '.', 'but', 'it', \"'\", 's', 'not', '.']\n"
     ]
    }
   ],
   "source": [
    "import random\n",
    "\n",
    "red   = '\\x1b[31m'\n",
    "green = '\\x1b[32m'\n",
    "end   = '\\x1b[0m'\n",
    "\n",
    "for _  in range(3):\n",
    "    (label, line) = random.choice(lTrainSet)\n",
    "    \n",
    "    color = red if label == 'neg' else green\n",
    "    print('=========================================================================================================')\n",
    "    print('=========================================================================================================')\n",
    "    print(color + line + end)\n",
    "    print('--Tokenized:---------------------------')    \n",
    "    print(oTokenizer(line))"
   ]
  },
  {
   "cell_type": "code",
   "execution_count": 14,
   "id": "prospective-organization",
   "metadata": {
    "ExecuteTime": {
     "end_time": "2021-11-16T12:21:18.342960Z",
     "start_time": "2021-11-16T12:21:17.799887Z"
    }
   },
   "outputs": [
    {
     "data": {
      "text/plain": [
       "10450"
      ]
     },
     "execution_count": 14,
     "metadata": {},
     "output_type": "execute_result"
    }
   ],
   "source": [
    "from torchtext.vocab import build_vocab_from_iterator\n",
    "\n",
    "def YieldTokens(lDataset):\n",
    "    for (label, line) in lDataset:\n",
    "        yield oTokenizer(line)\n",
    "\n",
    "oVocab = build_vocab_from_iterator(YieldTokens(lTrainSet), min_freq=5, specials=('<UNK>', '<SOS>', '<EOS>', '<PAD>'))\n",
    "oVocab.set_default_index(oVocab['<UNK>'])\n",
    "len(oVocab)"
   ]
  },
  {
   "cell_type": "code",
   "execution_count": 15,
   "id": "vietnamese-plaintiff",
   "metadata": {
    "ExecuteTime": {
     "end_time": "2021-11-16T12:21:30.455341Z",
     "start_time": "2021-11-16T12:21:30.370682Z"
    }
   },
   "outputs": [
    {
     "name": "stdout",
     "output_type": "stream",
     "text": [
      "Input : Hello World!\n",
      "Output: tensor([   1, 3630,  212,   25,    2])\n"
     ]
    }
   ],
   "source": [
    "def Text2Tensor(line):\n",
    "    lLine = ['<SOS>'] + [token for token in oTokenizer(line)] + ['<EOS>']\n",
    "    return torch.tensor(oVocab(lLine))\n",
    "\n",
    "def Label2Int(label):\n",
    "    if label == 'pos':\n",
    "        return 1\n",
    "    else:\n",
    "        return 0\n",
    "\n",
    "# Print out the output of text_transform\n",
    "line = 'Hello World!'\n",
    "print('Input :', line)\n",
    "print('Output:', Text2Tensor(line))"
   ]
  },
  {
   "cell_type": "code",
   "execution_count": 42,
   "id": "practical-boards",
   "metadata": {},
   "outputs": [],
   "source": [
    "from torch.utils.data   import DataLoader\n",
    "from torch.nn.utils.rnn import pack_sequence\n",
    "\n",
    "def CollateBatch(lBatch):\n",
    "    ???\n",
    "\n",
    "    return mPackX, vY"
   ]
  },
  {
   "cell_type": "code",
   "execution_count": 43,
   "id": "authorized-words",
   "metadata": {},
   "outputs": [],
   "source": [
    "batchSize = 128\n",
    "oTrainDL  = DataLoader(lTrainSet, batch_size=batchSize,   shuffle=True, collate_fn=CollateBatch)\n",
    "oTestDL   = DataLoader(lTestSet,  batch_size=2*batchSize, shuffle=True, collate_fn=CollateBatch)"
   ]
  },
  {
   "cell_type": "code",
   "execution_count": 44,
   "id": "regional-wagner",
   "metadata": {},
   "outputs": [],
   "source": [
    "from torch.nn.utils.rnn import PackedSequence\n",
    "\n",
    "def PackedAs(mX, mPack):\n",
    "    return PackedSequence(mX, mPack.batch_sizes, None, mPack.unsorted_indices)\n",
    "\n",
    "V = len(oVocab)\n",
    "D = 24\n",
    "H = 16\n",
    "class RNN(nn.Module):\n",
    "    def __init__(self):\n",
    "        super().__init__()\n",
    "        ???\n",
    "        \n",
    "    def forward(self, mPackX):\n",
    "        ???"
   ]
  },
  {
   "cell_type": "code",
   "execution_count": 45,
   "id": "positive-statistics",
   "metadata": {},
   "outputs": [
    {
     "data": {
      "text/plain": [
       "torch.Size([128])"
      ]
     },
     "execution_count": 45,
     "metadata": {},
     "output_type": "execute_result"
    }
   ],
   "source": [
    "mX, vY = next(iter(oTrainDL))\n",
    "RNN()(mX).shape"
   ]
  },
  {
   "cell_type": "code",
   "execution_count": 46,
   "id": "apparent-feeling",
   "metadata": {},
   "outputs": [],
   "source": [
    "DEVICE = torch.device(\"cuda:0\" if torch.cuda.is_available() else \"cpu\") \n",
    "Loss   = nn.BCEWithLogitsLoss()"
   ]
  },
  {
   "cell_type": "code",
   "execution_count": 49,
   "id": "closed-static",
   "metadata": {
    "scrolled": false
   },
   "outputs": [
    {
     "ename": "SyntaxError",
     "evalue": "invalid syntax (<ipython-input-49-c6928ceb4427>, line 8)",
     "output_type": "error",
     "traceback": [
      "\u001b[1;36m  File \u001b[1;32m\"<ipython-input-49-c6928ceb4427>\"\u001b[1;36m, line \u001b[1;32m8\u001b[0m\n\u001b[1;33m    oOptim        = ???\u001b[0m\n\u001b[1;37m                    ^\u001b[0m\n\u001b[1;31mSyntaxError\u001b[0m\u001b[1;31m:\u001b[0m invalid syntax\n"
     ]
    }
   ],
   "source": [
    "from torch.optim.lr_scheduler       import OneCycleLR\n",
    "from DeepLearningFramework.Metric   import BinaryAcuuracy\n",
    "from DeepLearningFramework.Training import TrainModel\n",
    "\n",
    "nEpochs       = 50\n",
    "nIter         = nEpochs * len(oTrainDL)\n",
    "\n",
    "oModel        = RNN        ().to(DEVICE)\n",
    "oOptim        = ???\n",
    "oScheduler    = ???\n",
    "lHistory      = TrainModel (oModel, oTrainDL, oTestDL, Loss, BinaryAcuuracy, nEpochs, oOptim, oScheduler);"
   ]
  },
  {
   "cell_type": "code",
   "execution_count": 48,
   "id": "controlling-bottom",
   "metadata": {},
   "outputs": [
    {
     "data": {
      "image/png": "[encoded data removed]",
      "text/plain": [
       "<Figure size 1584x360 with 3 Axes>"
      ]
     },
     "metadata": {
      "needs_background": "light"
     },
     "output_type": "display_data"
    }
   ],
   "source": [
    "from DeepLearningFramework.Auxiliary import PlotHistory\n",
    "\n",
    "PlotHistory(lHistory)"
   ]
  },
  {
   "cell_type": "code",
   "execution_count": null,
   "id": "atmospheric-battery",
   "metadata": {},
   "outputs": [],
   "source": []
  },
  {
   "cell_type": "code",
   "execution_count": null,
   "id": "twelve-crystal",
   "metadata": {},
   "outputs": [],
   "source": []
  }
 ],
 "metadata": {
  "kernelspec": {
   "display_name": "Python 3",
   "language": "python",
   "name": "python3"
  },
  "language_info": {
   "codemirror_mode": {
    "name": "ipython",
    "version": 3
   },
   "file_extension": ".py",
   "mimetype": "text/x-python",
   "name": "python",
   "nbconvert_exporter": "python",
   "pygments_lexer": "ipython3",
   "version": "3.8.12"
  }
 },
 "nbformat": 4,
 "nbformat_minor": 5
}
