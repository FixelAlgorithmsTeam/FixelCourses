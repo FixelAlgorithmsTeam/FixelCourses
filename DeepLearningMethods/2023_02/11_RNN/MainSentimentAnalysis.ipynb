{
 "cells": [
  {
   "cell_type": "markdown",
   "id": "psychological-excuse",
   "metadata": {},
   "source": [
    "![Fixel Algorithms](https://fixelalgorithms.co/images/CCExt.png)"
   ]
  },
  {
   "cell_type": "markdown",
   "id": "invalid-curtis",
   "metadata": {},
   "source": [
    "# <center> Deep Learning Methods </center>\n",
    "## <center> Lecture 11 - RNN </center>\n",
    "### <center> Sentiment Analysis </center>"
   ]
  },
  {
   "cell_type": "markdown",
   "id": "short-sunglasses",
   "metadata": {},
   "source": [
    "[![Open In Colab](https://colab.research.google.com/assets/colab-badge.svg)](https://colab.research.google.com/github/FixelAlgorithmsTeam/FixelCourses/blob/master/DeepLearningMethods/11_RNN/MainSentimentAnalysis.ipynb)"
   ]
  },
  {
   "cell_type": "code",
   "execution_count": 1,
   "id": "composed-walnut",
   "metadata": {
    "ExecuteTime": {
     "end_time": "2021-11-16T12:21:16.236694Z",
     "start_time": "2021-11-16T12:21:16.223682Z"
    }
   },
   "outputs": [
    {
     "data": {
      "text/html": [
       "<style>.container { width:80% !important; }</style>"
      ],
      "text/plain": [
       "<IPython.core.display.HTML object>"
      ]
     },
     "metadata": {},
     "output_type": "display_data"
    }
   ],
   "source": [
    "#-- Wide screen:\n",
    "from IPython.core.display import display, HTML\n",
    "display(HTML(\"<style>.container { width:80% !important; }</style>\"))"
   ]
  },
  {
   "cell_type": "code",
   "execution_count": 2,
   "id": "roman-significance",
   "metadata": {
    "ExecuteTime": {
     "end_time": "2021-11-16T12:05:39.372215Z",
     "start_time": "2021-11-16T12:05:39.341193Z"
    }
   },
   "outputs": [],
   "source": [
    "#-- Auto reload:\n",
    "%load_ext autoreload\n",
    "%autoreload 2"
   ]
  },
  {
   "cell_type": "code",
   "execution_count": 3,
   "id": "b2e1100e",
   "metadata": {
    "ExecuteTime": {
     "end_time": "2021-11-16T12:05:39.404234Z",
     "start_time": "2021-11-16T12:05:39.373217Z"
    }
   },
   "outputs": [],
   "source": [
    "if 'google.colab' in str(get_ipython()):\n",
    "    !npx degit FixelAlgorithmsTeam/FixelCourses/DeepLearningMethods/11_RNN/DeepLearningFramework ./DeepLearningFramework"
   ]
  },
  {
   "cell_type": "code",
   "execution_count": 4,
   "id": "solved-anthony",
   "metadata": {
    "ExecuteTime": {
     "end_time": "2021-11-16T12:05:40.648428Z",
     "start_time": "2021-11-16T12:05:39.405235Z"
    }
   },
   "outputs": [],
   "source": [
    "import numpy             as np\n",
    "import matplotlib.pyplot as plt\n",
    "\n",
    "import torch\n",
    "import torch.nn    as nn\n",
    "import torch.optim as optim\n",
    "import torchtext\n",
    "\n",
    "from torchtext.data.utils import get_tokenizer\n",
    "from torchtext.vocab      import Vocab\n",
    "from torchtext.datasets   import IMDB"
   ]
  },
  {
   "cell_type": "markdown",
   "id": "located-verse",
   "metadata": {},
   "source": [
    "### Embedding layer:\n",
    "Replace the integers $\\left\\{ 0,1,\\dots,9\\right\\} $ by vectors in $\\mathbb{R}^{5}$"
   ]
  },
  {
   "cell_type": "code",
   "execution_count": 5,
   "id": "specified-flower",
   "metadata": {
    "ExecuteTime": {
     "end_time": "2021-11-16T12:05:40.710955Z",
     "start_time": "2021-11-16T12:05:40.648898Z"
    }
   },
   "outputs": [
    {
     "data": {
      "text/plain": [
       "tensor([[-0.8166, -0.5618,  0.8159,  0.9349, -1.5100],\n",
       "        [-0.4890, -0.3902,  1.1656, -1.5701,  0.5593],\n",
       "        [-0.2523,  0.6294, -2.0510, -1.4809, -0.5413],\n",
       "        [-0.0840, -0.0102,  0.2787,  0.2616, -1.1439],\n",
       "        [ 1.1258,  0.3329, -1.1959,  0.2383, -0.4934],\n",
       "        [ 1.5391,  1.3446,  0.9179, -0.1970, -0.8255],\n",
       "        [-2.0919, -0.9831, -0.7881,  0.8321, -2.6629],\n",
       "        [-1.6773, -1.4274,  0.7915,  0.1021,  0.3497],\n",
       "        [ 0.2773, -0.6689, -0.3759,  0.3203,  1.7878],\n",
       "        [ 0.3740, -1.5495, -1.0190, -0.6252, -1.0143]],\n",
       "       grad_fn=<EmbeddingBackward0>)"
      ]
     },
     "execution_count": 5,
     "metadata": {},
     "output_type": "execute_result"
    }
   ],
   "source": [
    "oEmbedding = nn.Embedding(num_embeddings=10, embedding_dim=5)\n",
    "v          = torch.tensor([0, 1, 2, 3, 4, 5, 6, 7, 8, 9])\n",
    "oEmbedding(v)"
   ]
  },
  {
   "cell_type": "markdown",
   "id": "living-ghana",
   "metadata": {},
   "source": [
    "### Get the IMDB dataset:"
   ]
  },
  {
   "cell_type": "code",
   "execution_count": 6,
   "id": "essential-biodiversity",
   "metadata": {
    "ExecuteTime": {
     "end_time": "2021-11-16T12:06:03.824163Z",
     "start_time": "2021-11-16T12:05:40.710955Z"
    }
   },
   "outputs": [],
   "source": [
    "dirPath             = '../../data'\n",
    "oTokenizer          = get_tokenizer('basic_english')\n",
    "\n",
    "trainIter, testIter = IMDB(root=dirPath)\n",
    "\n",
    "lFullTrainSet = list(trainIter)\n",
    "lFullTestSet  = list(testIter)"
   ]
  },
  {
   "cell_type": "markdown",
   "id": "monetary-paris",
   "metadata": {},
   "source": [
    "#### Filter long sequences:\n",
    "Keep only sequences with less than `maxLength` words"
   ]
  },
  {
   "cell_type": "code",
   "execution_count": 7,
   "id": "alien-malaysia",
   "metadata": {
    "ExecuteTime": {
     "end_time": "2021-11-16T12:06:04.303187Z",
     "start_time": "2021-11-16T12:06:03.825164Z"
    }
   },
   "outputs": [],
   "source": [
    "def NumWords(line):\n",
    "    return len(line.split())\n",
    "\n",
    "maxLength = 100\n",
    "lTrainSet = [(label, line) for (label, line) in lFullTrainSet if NumWords(line) < maxLength]\n",
    "lTestSet  = [(label, line) for (label, line) in lFullTestSet  if NumWords(line) < maxLength]"
   ]
  },
  {
   "cell_type": "code",
   "execution_count": 8,
   "id": "important-herald",
   "metadata": {
    "ExecuteTime": {
     "end_time": "2021-11-16T12:06:04.367245Z",
     "start_time": "2021-11-16T12:06:04.304188Z"
    }
   },
   "outputs": [
    {
     "data": {
      "text/plain": [
       "(25000, 25000, 2926, 3091)"
      ]
     },
     "execution_count": 8,
     "metadata": {},
     "output_type": "execute_result"
    }
   ],
   "source": [
    "len(lFullTrainSet), len(lFullTestSet), len(lTrainSet), len(lTestSet)"
   ]
  },
  {
   "cell_type": "markdown",
   "id": "stunning-discrimination",
   "metadata": {},
   "source": [
    "#### Show some sentences:"
   ]
  },
  {
   "cell_type": "code",
   "execution_count": 9,
   "id": "blocked-connectivity",
   "metadata": {
    "ExecuteTime": {
     "end_time": "2021-11-16T12:06:04.431303Z",
     "start_time": "2021-11-16T12:06:04.368247Z"
    },
    "scrolled": false
   },
   "outputs": [
    {
     "name": "stdout",
     "output_type": "stream",
     "text": [
      "=========================================================================================================\n",
      "=========================================================================================================\n",
      "\u001b[32mBasic meaning of the story is a reality. Cruel true reality. Situations are very funny. You have to laugh when you see, how people can be stupid, obstinate and crazy. The best description will be, if you watch it on your own.\u001b[0m\n",
      "--Tokenizer:---------------------------\n",
      "['basic', 'meaning', 'of', 'the', 'story', 'is', 'a', 'reality', '.', 'cruel', 'true', 'reality', '.', 'situations', 'are', 'very', 'funny', '.', 'you', 'have', 'to', 'laugh', 'when', 'you', 'see', ',', 'how', 'people', 'can', 'be', 'stupid', ',', 'obstinate', 'and', 'crazy', '.', 'the', 'best', 'description', 'will', 'be', ',', 'if', 'you', 'watch', 'it', 'on', 'your', 'own', '.']\n",
      "=========================================================================================================\n",
      "=========================================================================================================\n",
      "\u001b[32mI liked this movie. When the guy who was in on a bank heist of $40 million in gold dies, his cell mate is used as \"Bait\" to lead them to the high-tech crazy killer partner (by having a monitoring device implanted in his jaw without his knowledge). It's an action, spy type film with enough comical scenes to keep it light. It reminded me of Enemy Of The State. Well acted and good enough plot.\u001b[0m\n",
      "--Tokenizer:---------------------------\n",
      "['i', 'liked', 'this', 'movie', '.', 'when', 'the', 'guy', 'who', 'was', 'in', 'on', 'a', 'bank', 'heist', 'of', '$40', 'million', 'in', 'gold', 'dies', ',', 'his', 'cell', 'mate', 'is', 'used', 'as', 'bait', 'to', 'lead', 'them', 'to', 'the', 'high-tech', 'crazy', 'killer', 'partner', '(', 'by', 'having', 'a', 'monitoring', 'device', 'implanted', 'in', 'his', 'jaw', 'without', 'his', 'knowledge', ')', '.', 'it', \"'\", 's', 'an', 'action', ',', 'spy', 'type', 'film', 'with', 'enough', 'comical', 'scenes', 'to', 'keep', 'it', 'light', '.', 'it', 'reminded', 'me', 'of', 'enemy', 'of', 'the', 'state', '.', 'well', 'acted', 'and', 'good', 'enough', 'plot', '.']\n",
      "=========================================================================================================\n",
      "=========================================================================================================\n",
      "\u001b[32mDeeply emotional. It can't leave you neutral.<br /><br />Yes it's a love story between 2 18 years old boys. But it's only the body of this movie. And it's been removed. You only feel what happened with these boys. You feel the soul of the movie. With of course some action, some sex, but this is no pornography, too many feelings.<br /><br />It was only a summer \"story\", and it became, from love to hate, almost to death, the most important time of their lives. I loved it, you will too, whatever your feelings are.\u001b[0m\n",
      "--Tokenizer:---------------------------\n",
      "['deeply', 'emotional', '.', 'it', 'can', \"'\", 't', 'leave', 'you', 'neutral', '.', 'yes', 'it', \"'\", 's', 'a', 'love', 'story', 'between', '2', '18', 'years', 'old', 'boys', '.', 'but', 'it', \"'\", 's', 'only', 'the', 'body', 'of', 'this', 'movie', '.', 'and', 'it', \"'\", 's', 'been', 'removed', '.', 'you', 'only', 'feel', 'what', 'happened', 'with', 'these', 'boys', '.', 'you', 'feel', 'the', 'soul', 'of', 'the', 'movie', '.', 'with', 'of', 'course', 'some', 'action', ',', 'some', 'sex', ',', 'but', 'this', 'is', 'no', 'pornography', ',', 'too', 'many', 'feelings', '.', 'it', 'was', 'only', 'a', 'summer', 'story', ',', 'and', 'it', 'became', ',', 'from', 'love', 'to', 'hate', ',', 'almost', 'to', 'death', ',', 'the', 'most', 'important', 'time', 'of', 'their', 'lives', '.', 'i', 'loved', 'it', ',', 'you', 'will', 'too', ',', 'whatever', 'your', 'feelings', 'are', '.']\n"
     ]
    }
   ],
   "source": [
    "import random\n",
    "\n",
    "red   = '\\x1b[31m'\n",
    "green = '\\x1b[32m'\n",
    "end   = '\\x1b[0m'\n",
    "\n",
    "for _  in range(3):\n",
    "    (label, line) = random.choice(lTrainSet)\n",
    "    \n",
    "    color = red if label == 'neg' else green\n",
    "    print('=========================================================================================================')\n",
    "    print('=========================================================================================================')\n",
    "    print(color + line + end)\n",
    "    print('--Tokenizer:---------------------------')    \n",
    "    print(oTokenizer(line))"
   ]
  },
  {
   "cell_type": "markdown",
   "id": "concrete-zoning",
   "metadata": {},
   "source": [
    "### Build the vocabulary:\n",
    "We keep only words that appear more than `min_freq` times."
   ]
  },
  {
   "cell_type": "code",
   "execution_count": 10,
   "id": "0eded45f",
   "metadata": {
    "ExecuteTime": {
     "end_time": "2021-11-16T12:06:04.591449Z",
     "start_time": "2021-11-16T12:06:04.432305Z"
    }
   },
   "outputs": [
    {
     "data": {
      "text/plain": [
       "3268"
      ]
     },
     "execution_count": 10,
     "metadata": {},
     "output_type": "execute_result"
    }
   ],
   "source": [
    "from torchtext.vocab import build_vocab_from_iterator\n",
    "\n",
    "def YieldTokens(lDataset):\n",
    "    for (label, line) in lDataset:\n",
    "        yield oTokenizer(line)\n",
    "\n",
    "oVocab = build_vocab_from_iterator(YieldTokens(lTrainSet), min_freq=5, specials=('<UNK>', '<SOS>', '<EOS>', '<PAD>'))\n",
    "oVocab.set_default_index(oVocab['<UNK>'])\n",
    "len(oVocab)"
   ]
  },
  {
   "cell_type": "markdown",
   "id": "suffering-condition",
   "metadata": {},
   "source": [
    "#### Using the vocabulary:"
   ]
  },
  {
   "cell_type": "code",
   "execution_count": 11,
   "id": "difficult-buffer",
   "metadata": {
    "ExecuteTime": {
     "end_time": "2021-11-16T12:06:04.655507Z",
     "start_time": "2021-11-16T12:06:04.592450Z"
    }
   },
   "outputs": [
    {
     "data": {
      "text/plain": [
       "(5, 7, 0, 0, 19)"
      ]
     },
     "execution_count": 11,
     "metadata": {},
     "output_type": "execute_result"
    }
   ],
   "source": [
    "#-- Using [·]:\n",
    "oVocab['the'], oVocab['a'], oVocab['asfdlkasdjf'], oVocab['aaab'], oVocab['!']"
   ]
  },
  {
   "cell_type": "code",
   "execution_count": 12,
   "id": "9c0c3810",
   "metadata": {
    "ExecuteTime": {
     "end_time": "2021-11-16T12:06:04.719565Z",
     "start_time": "2021-11-16T12:06:04.656508Z"
    }
   },
   "outputs": [
    {
     "data": {
      "text/plain": [
       "[5, 7, 0, 0, 19]"
      ]
     },
     "execution_count": 12,
     "metadata": {},
     "output_type": "execute_result"
    }
   ],
   "source": [
    "#-- Using (·):\n",
    "oVocab(['the', 'a', 'asfdlkasdjf', 'aaab', '!'])"
   ]
  },
  {
   "cell_type": "code",
   "execution_count": 13,
   "id": "integral-narrow",
   "metadata": {
    "ExecuteTime": {
     "end_time": "2021-11-16T12:06:04.783623Z",
     "start_time": "2021-11-16T12:06:04.720566Z"
    }
   },
   "outputs": [
    {
     "data": {
      "text/plain": [
       "('.', 'and', '<UNK>', '!')"
      ]
     },
     "execution_count": 13,
     "metadata": {},
     "output_type": "execute_result"
    }
   ],
   "source": [
    "#-- int to string:\n",
    "oVocab.get_itos()[4], oVocab.get_itos()[8], oVocab.get_itos()[0], oVocab.get_itos()[19]"
   ]
  },
  {
   "cell_type": "markdown",
   "id": "modern-trick",
   "metadata": {},
   "source": [
    "#### Text to sequence:"
   ]
  },
  {
   "cell_type": "code",
   "execution_count": 14,
   "id": "worthy-latest",
   "metadata": {
    "ExecuteTime": {
     "end_time": "2021-11-16T12:06:04.847681Z",
     "start_time": "2021-11-16T12:06:04.784625Z"
    }
   },
   "outputs": [
    {
     "name": "stdout",
     "output_type": "stream",
     "text": [
      "Input : Hello World!\n",
      "Output: tensor([   1, 3005,  196,   19,    2])\n"
     ]
    }
   ],
   "source": [
    "def Text2Tensor(line):\n",
    "    lLine = ['<SOS>'] + [token for token in oTokenizer(line)] + ['<EOS>']\n",
    "    return torch.tensor(oVocab(lLine))\n",
    "#------------------------------------------------------------------------------#\n",
    "#------------------------------------------------------------------------------#\n",
    "def Label2Int(label):\n",
    "    if label == 'pos':\n",
    "        return 1\n",
    "    else:\n",
    "        return 0\n",
    "#------------------------------------------------------------------------------#\n",
    "#------------------------------------------------------------------------------#\n",
    "line = 'Hello World!'\n",
    "print('Input :', line)\n",
    "print('Output:', Text2Tensor(line))"
   ]
  },
  {
   "cell_type": "code",
   "execution_count": 15,
   "id": "removed-production",
   "metadata": {
    "ExecuteTime": {
     "end_time": "2021-11-16T12:06:04.910738Z",
     "start_time": "2021-11-16T12:06:04.848683Z"
    }
   },
   "outputs": [],
   "source": [
    "from torch.utils.data   import DataLoader\n",
    "from torch.nn.utils.rnn import pack_sequence\n",
    "\n",
    "def Collate(lBatch):\n",
    "    Nb  = len(lBatch)\n",
    "    vY  = torch.empty(Nb)\n",
    "    lX  = [None] * Nb\n",
    "    for ii, (label, line) in enumerate(lBatch):\n",
    "        vY[ii] = Label2Int  (label)\n",
    "        lX[ii] = Text2Tensor(line)\n",
    "    \n",
    "    mPackX = pack_sequence(lX, enforce_sorted=False)\n",
    "\n",
    "    return mPackX, vY"
   ]
  },
  {
   "cell_type": "markdown",
   "id": "fourth-horse",
   "metadata": {},
   "source": [
    "#### Remark\n",
    "It is better to group lines with similar length together (as in `BucketIterator`)."
   ]
  },
  {
   "cell_type": "code",
   "execution_count": 16,
   "id": "macro-faith",
   "metadata": {
    "ExecuteTime": {
     "end_time": "2021-11-16T12:06:04.974797Z",
     "start_time": "2021-11-16T12:06:04.911740Z"
    }
   },
   "outputs": [],
   "source": [
    "batchSize = 64\n",
    "oTrainDL  = DataLoader(lTrainSet, batch_size=1*batchSize, shuffle=True,  collate_fn=Collate)\n",
    "oTestDL   = DataLoader(lTestSet,  batch_size=2*batchSize, shuffle=False, collate_fn=Collate)"
   ]
  },
  {
   "cell_type": "markdown",
   "id": "atlantic-andrews",
   "metadata": {},
   "source": [
    "#### Define the RNN model:"
   ]
  },
  {
   "cell_type": "code",
   "execution_count": 17,
   "id": "similar-meaning",
   "metadata": {
    "ExecuteTime": {
     "end_time": "2021-11-16T12:06:05.054869Z",
     "start_time": "2021-11-16T12:06:04.975798Z"
    }
   },
   "outputs": [
    {
     "data": {
      "text/plain": [
       "torch.Size([64])"
      ]
     },
     "execution_count": 17,
     "metadata": {},
     "output_type": "execute_result"
    }
   ],
   "source": [
    "from torch.nn.utils.rnn import PackedSequence\n",
    "\n",
    "def PackedAs(mX, mPack):\n",
    "    return PackedSequence(mX, mPack.batch_sizes, mPack.sorted_indices, mPack.unsorted_indices)\n",
    "\n",
    "V = len(oVocab) #-- Vocab size\n",
    "D = 64          #-- embedding dim\n",
    "H = 256         #-- RNN hidden dim\n",
    "class RNN(nn.Module):\n",
    "    def __init__(self):\n",
    "        super().__init__()\n",
    "        \n",
    "        self.oEmbedding = nn.Embedding(V, D)\n",
    "        self.oRNN       = nn.RNN      (D, H, batch_first=True)\n",
    "        self.oLinear    = nn.Linear   (H, 1)\n",
    "        \n",
    "    def forward(self, mPackX):\n",
    "                                              #-- mPackX.shape = (N*T,)\n",
    "        mE     = self.oEmbedding(mPackX.data) #-- mE    .shape = (N*T, D)\n",
    "        mPackE = PackedAs       (mE, mPackX)  #-- mPackE.shape = (N*T, D)\n",
    "        _, mH = self.oRNN       (mPackE)      #-- mH    .shape = (1, N, H)\n",
    "        mZ    = self.oLinear    (mH[0])       #-- mZ    .shape = (N, 1)\n",
    "        return mZ[:,0]\n",
    "\n",
    "mPackX, vY = next(iter(oTrainDL))\n",
    "RNN()(mPackX).shape"
   ]
  },
  {
   "cell_type": "code",
   "execution_count": 18,
   "id": "worth-people",
   "metadata": {
    "ExecuteTime": {
     "end_time": "2021-11-16T12:06:05.150956Z",
     "start_time": "2021-11-16T12:06:05.055871Z"
    }
   },
   "outputs": [],
   "source": [
    "DEVICE = torch.device(\"cuda:0\" if torch.cuda.is_available() else \"cpu\") \n",
    "Loss   = nn.BCEWithLogitsLoss()"
   ]
  },
  {
   "cell_type": "code",
   "execution_count": 19,
   "id": "musical-medicine",
   "metadata": {
    "ExecuteTime": {
     "end_time": "2021-11-16T12:07:38.105000Z",
     "start_time": "2021-11-16T12:06:05.151957Z"
    },
    "scrolled": false
   },
   "outputs": [
    {
     "name": "stdout",
     "output_type": "stream",
     "text": [
      "------------------------------------------------------------------------------------------------------------------------\n",
      "Epoch 000: | Train loss:  0.695 | Val loss:  0.695 | Train Metric:  0.486 | Val Metric:  0.484 | epoch time:  1.505 | <-- Checkpoint!\n",
      "Epoch 001: | Train loss:  0.693 | Val loss:  0.693 | Train Metric:  0.505 | Val Metric:  0.504 | epoch time:  0.869 | <-- Checkpoint!\n",
      "Epoch 002: | Train loss:  0.691 | Val loss:  0.691 | Train Metric:  0.533 | Val Metric:  0.542 | epoch time:  0.881 | <-- Checkpoint!\n",
      "Epoch 003: | Train loss:  0.689 | Val loss:  0.690 | Train Metric:  0.553 | Val Metric:  0.548 | epoch time:  0.935 | <-- Checkpoint!\n",
      "Epoch 004: | Train loss:  0.687 | Val loss:  0.689 | Train Metric:  0.552 | Val Metric:  0.543 | epoch time:  0.912 |\n",
      "Epoch 005: | Train loss:  0.686 | Val loss:  0.688 | Train Metric:  0.555 | Val Metric:  0.544 | epoch time:  0.932 |\n",
      "Epoch 006: | Train loss:  0.685 | Val loss:  0.687 | Train Metric:  0.555 | Val Metric:  0.543 | epoch time:  0.863 |\n",
      "Epoch 007: | Train loss:  0.683 | Val loss:  0.686 | Train Metric:  0.555 | Val Metric:  0.544 | epoch time:  0.871 |\n",
      "Epoch 008: | Train loss:  0.682 | Val loss:  0.686 | Train Metric:  0.554 | Val Metric:  0.542 | epoch time:  0.880 |\n",
      "Epoch 009: | Train loss:  0.681 | Val loss:  0.685 | Train Metric:  0.557 | Val Metric:  0.546 | epoch time:  0.877 |\n",
      "------------------------------------------------------------------------------------------------------------------------\n",
      "Epoch 010: | Train loss:  0.680 | Val loss:  0.685 | Train Metric:  0.560 | Val Metric:  0.550 | epoch time:  0.963 | <-- Checkpoint!\n",
      "Epoch 011: | Train loss:  0.679 | Val loss:  0.684 | Train Metric:  0.559 | Val Metric:  0.549 | epoch time:  0.937 |\n",
      "Epoch 012: | Train loss:  0.678 | Val loss:  0.684 | Train Metric:  0.569 | Val Metric:  0.553 | epoch time:  0.958 | <-- Checkpoint!\n",
      "Epoch 013: | Train loss:  0.677 | Val loss:  0.684 | Train Metric:  0.567 | Val Metric:  0.556 | epoch time:  0.888 | <-- Checkpoint!\n",
      "Epoch 014: | Train loss:  0.675 | Val loss:  0.683 | Train Metric:  0.584 | Val Metric:  0.552 | epoch time:  0.924 |\n",
      "Epoch 015: | Train loss:  0.674 | Val loss:  0.682 | Train Metric:  0.579 | Val Metric:  0.552 | epoch time:  0.893 |\n",
      "Epoch 016: | Train loss:  0.672 | Val loss:  0.682 | Train Metric:  0.597 | Val Metric:  0.553 | epoch time:  0.960 |\n",
      "Epoch 017: | Train loss:  0.670 | Val loss:  0.681 | Train Metric:  0.592 | Val Metric:  0.558 | epoch time:  0.969 | <-- Checkpoint!\n",
      "Epoch 018: | Train loss:  0.667 | Val loss:  0.680 | Train Metric:  0.606 | Val Metric:  0.553 | epoch time:  0.997 |\n",
      "Epoch 019: | Train loss:  0.664 | Val loss:  0.681 | Train Metric:  0.616 | Val Metric:  0.560 | epoch time:  0.944 | <-- Checkpoint!\n",
      "------------------------------------------------------------------------------------------------------------------------\n",
      "Epoch 020: | Train loss:  0.660 | Val loss:  0.678 | Train Metric:  0.607 | Val Metric:  0.552 | epoch time:  0.925 |\n",
      "Epoch 021: | Train loss:  0.656 | Val loss:  0.677 | Train Metric:  0.619 | Val Metric:  0.556 | epoch time:  0.918 |\n",
      "Epoch 022: | Train loss:  0.650 | Val loss:  0.678 | Train Metric:  0.634 | Val Metric:  0.555 | epoch time:  0.915 |\n",
      "Epoch 023: | Train loss:  0.643 | Val loss:  0.675 | Train Metric:  0.633 | Val Metric:  0.569 | epoch time:  0.862 | <-- Checkpoint!\n",
      "Epoch 024: | Train loss:  0.633 | Val loss:  0.666 | Train Metric:  0.648 | Val Metric:  0.585 | epoch time:  0.943 | <-- Checkpoint!\n",
      "Epoch 025: | Train loss:  0.614 | Val loss:  0.649 | Train Metric:  0.667 | Val Metric:  0.615 | epoch time:  0.909 | <-- Checkpoint!\n",
      "Epoch 026: | Train loss:  0.596 | Val loss:  0.632 | Train Metric:  0.681 | Val Metric:  0.639 | epoch time:  0.882 | <-- Checkpoint!\n",
      "Epoch 027: | Train loss:  0.583 | Val loss:  0.620 | Train Metric:  0.691 | Val Metric:  0.651 | epoch time:  0.967 | <-- Checkpoint!\n",
      "Epoch 028: | Train loss:  0.574 | Val loss:  0.613 | Train Metric:  0.699 | Val Metric:  0.667 | epoch time:  0.943 | <-- Checkpoint!\n",
      "Epoch 029: | Train loss:  0.565 | Val loss:  0.614 | Train Metric:  0.704 | Val Metric:  0.665 | epoch time:  0.927 |\n",
      "------------------------------------------------------------------------------------------------------------------------\n",
      "Epoch 030: | Train loss:  0.556 | Val loss:  0.610 | Train Metric:  0.724 | Val Metric:  0.668 | epoch time:  0.889 | <-- Checkpoint!\n",
      "Epoch 031: | Train loss:  0.552 | Val loss:  0.606 | Train Metric:  0.721 | Val Metric:  0.676 | epoch time:  0.917 | <-- Checkpoint!\n",
      "Epoch 032: | Train loss:  0.548 | Val loss:  0.606 | Train Metric:  0.724 | Val Metric:  0.676 | epoch time:  0.900 |\n",
      "Epoch 033: | Train loss:  0.546 | Val loss:  0.601 | Train Metric:  0.722 | Val Metric:  0.684 | epoch time:  0.932 | <-- Checkpoint!\n",
      "Epoch 034: | Train loss:  0.537 | Val loss:  0.596 | Train Metric:  0.735 | Val Metric:  0.675 | epoch time:  0.937 |\n",
      "Epoch 035: | Train loss:  0.536 | Val loss:  0.608 | Train Metric:  0.735 | Val Metric:  0.668 | epoch time:  0.938 |\n",
      "Epoch 036: | Train loss:  0.531 | Val loss:  0.599 | Train Metric:  0.738 | Val Metric:  0.679 | epoch time:  0.962 |\n",
      "Epoch 037: | Train loss:  0.530 | Val loss:  0.596 | Train Metric:  0.736 | Val Metric:  0.682 | epoch time:  0.919 |\n",
      "Epoch 038: | Train loss:  0.524 | Val loss:  0.592 | Train Metric:  0.740 | Val Metric:  0.688 | epoch time:  0.902 | <-- Checkpoint!\n",
      "Epoch 039: | Train loss:  0.517 | Val loss:  0.596 | Train Metric:  0.752 | Val Metric:  0.678 | epoch time:  0.902 |\n",
      "------------------------------------------------------------------------------------------------------------------------\n",
      "Epoch 040: | Train loss:  0.514 | Val loss:  0.595 | Train Metric:  0.749 | Val Metric:  0.697 | epoch time:  0.892 | <-- Checkpoint!\n",
      "Epoch 041: | Train loss:  0.510 | Val loss:  0.591 | Train Metric:  0.749 | Val Metric:  0.688 | epoch time:  0.869 |\n",
      "Epoch 042: | Train loss:  0.507 | Val loss:  0.594 | Train Metric:  0.758 | Val Metric:  0.678 | epoch time:  0.882 |\n",
      "Epoch 043: | Train loss:  0.506 | Val loss:  0.590 | Train Metric:  0.759 | Val Metric:  0.688 | epoch time:  0.885 |\n",
      "Epoch 044: | Train loss:  0.500 | Val loss:  0.590 | Train Metric:  0.759 | Val Metric:  0.691 | epoch time:  0.883 |\n",
      "Epoch 045: | Train loss:  0.496 | Val loss:  0.587 | Train Metric:  0.760 | Val Metric:  0.696 | epoch time:  0.890 |\n",
      "Epoch 046: | Train loss:  0.494 | Val loss:  0.588 | Train Metric:  0.768 | Val Metric:  0.692 | epoch time:  0.889 |\n",
      "Epoch 047: | Train loss:  0.490 | Val loss:  0.595 | Train Metric:  0.770 | Val Metric:  0.701 | epoch time:  0.890 | <-- Checkpoint!\n",
      "Epoch 048: | Train loss:  0.487 | Val loss:  0.591 | Train Metric:  0.769 | Val Metric:  0.695 | epoch time:  0.873 |\n",
      "Epoch 049: | Train loss:  0.484 | Val loss:  0.587 | Train Metric:  0.772 | Val Metric:  0.698 | epoch time:  0.902 |\n",
      "------------------------------------------------------------------------------------------------------------------------\n",
      "Epoch 050: | Train loss:  0.482 | Val loss:  0.588 | Train Metric:  0.774 | Val Metric:  0.700 | epoch time:  0.883 |\n",
      "Epoch 051: | Train loss:  0.479 | Val loss:  0.588 | Train Metric:  0.770 | Val Metric:  0.702 | epoch time:  0.866 | <-- Checkpoint!\n",
      "Epoch 052: | Train loss:  0.478 | Val loss:  0.589 | Train Metric:  0.778 | Val Metric:  0.700 | epoch time:  0.873 |\n",
      "Epoch 053: | Train loss:  0.472 | Val loss:  0.585 | Train Metric:  0.783 | Val Metric:  0.701 | epoch time:  0.910 |\n",
      "Epoch 054: | Train loss:  0.469 | Val loss:  0.599 | Train Metric:  0.785 | Val Metric:  0.706 | epoch time:  0.888 | <-- Checkpoint!\n",
      "Epoch 055: | Train loss:  0.470 | Val loss:  0.588 | Train Metric:  0.782 | Val Metric:  0.707 | epoch time:  0.913 | <-- Checkpoint!\n",
      "Epoch 056: | Train loss:  0.463 | Val loss:  0.590 | Train Metric:  0.790 | Val Metric:  0.703 | epoch time:  0.986 |\n",
      "Epoch 057: | Train loss:  0.464 | Val loss:  0.589 | Train Metric:  0.782 | Val Metric:  0.701 | epoch time:  0.970 |\n",
      "Epoch 058: | Train loss:  0.458 | Val loss:  0.587 | Train Metric:  0.791 | Val Metric:  0.701 | epoch time:  0.906 |\n",
      "Epoch 059: | Train loss:  0.455 | Val loss:  0.596 | Train Metric:  0.792 | Val Metric:  0.707 | epoch time:  0.887 |\n",
      "------------------------------------------------------------------------------------------------------------------------\n",
      "Epoch 060: | Train loss:  0.454 | Val loss:  0.586 | Train Metric:  0.794 | Val Metric:  0.704 | epoch time:  0.920 |\n",
      "Epoch 061: | Train loss:  0.451 | Val loss:  0.589 | Train Metric:  0.795 | Val Metric:  0.704 | epoch time:  0.950 |\n",
      "Epoch 062: | Train loss:  0.449 | Val loss:  0.590 | Train Metric:  0.799 | Val Metric:  0.707 | epoch time:  0.898 | <-- Checkpoint!\n",
      "Epoch 063: | Train loss:  0.446 | Val loss:  0.590 | Train Metric:  0.799 | Val Metric:  0.710 | epoch time:  0.877 | <-- Checkpoint!\n",
      "Epoch 064: | Train loss:  0.444 | Val loss:  0.592 | Train Metric:  0.802 | Val Metric:  0.706 | epoch time:  0.926 |\n",
      "Epoch 065: | Train loss:  0.441 | Val loss:  0.587 | Train Metric:  0.802 | Val Metric:  0.709 | epoch time:  0.965 |\n",
      "Epoch 066: | Train loss:  0.438 | Val loss:  0.587 | Train Metric:  0.802 | Val Metric:  0.708 | epoch time:  0.891 |\n",
      "Epoch 067: | Train loss:  0.438 | Val loss:  0.591 | Train Metric:  0.803 | Val Metric:  0.709 | epoch time:  0.896 |\n",
      "Epoch 068: | Train loss:  0.436 | Val loss:  0.592 | Train Metric:  0.811 | Val Metric:  0.709 | epoch time:  0.882 |\n",
      "Epoch 069: | Train loss:  0.433 | Val loss:  0.595 | Train Metric:  0.807 | Val Metric:  0.704 | epoch time:  0.926 |\n",
      "------------------------------------------------------------------------------------------------------------------------\n",
      "Epoch 070: | Train loss:  0.433 | Val loss:  0.589 | Train Metric:  0.807 | Val Metric:  0.713 | epoch time:  0.879 | <-- Checkpoint!\n",
      "Epoch 071: | Train loss:  0.430 | Val loss:  0.592 | Train Metric:  0.811 | Val Metric:  0.714 | epoch time:  0.967 | <-- Checkpoint!\n",
      "Epoch 072: | Train loss:  0.429 | Val loss:  0.590 | Train Metric:  0.812 | Val Metric:  0.712 | epoch time:  0.986 |\n",
      "Epoch 073: | Train loss:  0.425 | Val loss:  0.589 | Train Metric:  0.814 | Val Metric:  0.706 | epoch time:  0.914 |\n",
      "Epoch 074: | Train loss:  0.426 | Val loss:  0.588 | Train Metric:  0.810 | Val Metric:  0.706 | epoch time:  0.931 |\n",
      "Epoch 075: | Train loss:  0.427 | Val loss:  0.593 | Train Metric:  0.807 | Val Metric:  0.712 | epoch time:  0.922 |\n",
      "Epoch 076: | Train loss:  0.423 | Val loss:  0.600 | Train Metric:  0.814 | Val Metric:  0.711 | epoch time:  0.878 |\n",
      "Epoch 077: | Train loss:  0.421 | Val loss:  0.588 | Train Metric:  0.813 | Val Metric:  0.708 | epoch time:  0.894 |\n",
      "Epoch 078: | Train loss:  0.420 | Val loss:  0.594 | Train Metric:  0.815 | Val Metric:  0.711 | epoch time:  0.904 |\n",
      "Epoch 079: | Train loss:  0.421 | Val loss:  0.591 | Train Metric:  0.814 | Val Metric:  0.713 | epoch time:  0.882 |\n",
      "------------------------------------------------------------------------------------------------------------------------\n",
      "Epoch 080: | Train loss:  0.417 | Val loss:  0.590 | Train Metric:  0.817 | Val Metric:  0.714 | epoch time:  0.892 |\n",
      "Epoch 081: | Train loss:  0.418 | Val loss:  0.594 | Train Metric:  0.816 | Val Metric:  0.715 | epoch time:  0.891 | <-- Checkpoint!\n",
      "Epoch 082: | Train loss:  0.416 | Val loss:  0.592 | Train Metric:  0.819 | Val Metric:  0.714 | epoch time:  0.907 |\n",
      "Epoch 083: | Train loss:  0.416 | Val loss:  0.590 | Train Metric:  0.816 | Val Metric:  0.713 | epoch time:  0.888 |\n",
      "Epoch 084: | Train loss:  0.414 | Val loss:  0.594 | Train Metric:  0.818 | Val Metric:  0.713 | epoch time:  0.877 |\n",
      "Epoch 085: | Train loss:  0.414 | Val loss:  0.592 | Train Metric:  0.819 | Val Metric:  0.714 | epoch time:  0.878 |\n",
      "Epoch 086: | Train loss:  0.413 | Val loss:  0.593 | Train Metric:  0.820 | Val Metric:  0.715 | epoch time:  0.862 | <-- Checkpoint!\n",
      "Epoch 087: | Train loss:  0.413 | Val loss:  0.593 | Train Metric:  0.820 | Val Metric:  0.715 | epoch time:  0.859 |\n",
      "Epoch 088: | Train loss:  0.412 | Val loss:  0.593 | Train Metric:  0.821 | Val Metric:  0.715 | epoch time:  0.866 |\n",
      "Epoch 089: | Train loss:  0.412 | Val loss:  0.593 | Train Metric:  0.822 | Val Metric:  0.714 | epoch time:  0.891 |\n",
      "------------------------------------------------------------------------------------------------------------------------\n",
      "Epoch 090: | Train loss:  0.411 | Val loss:  0.593 | Train Metric:  0.822 | Val Metric:  0.714 | epoch time:  0.871 |\n",
      "Epoch 091: | Train loss:  0.411 | Val loss:  0.593 | Train Metric:  0.821 | Val Metric:  0.714 | epoch time:  0.859 |\n",
      "Epoch 092: | Train loss:  0.411 | Val loss:  0.594 | Train Metric:  0.822 | Val Metric:  0.714 | epoch time:  0.860 |\n",
      "Epoch 093: | Train loss:  0.411 | Val loss:  0.593 | Train Metric:  0.822 | Val Metric:  0.715 | epoch time:  0.860 |\n",
      "Epoch 094: | Train loss:  0.411 | Val loss:  0.594 | Train Metric:  0.821 | Val Metric:  0.715 | epoch time:  0.878 |\n",
      "Epoch 095: | Train loss:  0.411 | Val loss:  0.593 | Train Metric:  0.821 | Val Metric:  0.714 | epoch time:  0.876 |\n",
      "Epoch 096: | Train loss:  0.410 | Val loss:  0.593 | Train Metric:  0.821 | Val Metric:  0.715 | epoch time:  0.859 |\n",
      "Epoch 097: | Train loss:  0.410 | Val loss:  0.593 | Train Metric:  0.821 | Val Metric:  0.714 | epoch time:  0.879 |\n",
      "Epoch 098: | Train loss:  0.410 | Val loss:  0.593 | Train Metric:  0.821 | Val Metric:  0.714 | epoch time:  0.877 |\n",
      "Epoch 099: | Train loss:  0.410 | Val loss:  0.593 | Train Metric:  0.821 | Val Metric:  0.714 | epoch time:  0.905 |\n"
     ]
    }
   ],
   "source": [
    "from torch.optim.lr_scheduler       import OneCycleLR\n",
    "from DeepLearningFramework.Metric   import BinaryAcuuracy\n",
    "from DeepLearningFramework.Training import TrainModel\n",
    "\n",
    "nEpochs    = 100\n",
    "nIter      = nEpochs * len(oTrainDL)\n",
    "\n",
    "oModel     = RNN       ().to(DEVICE)\n",
    "oOptim     = optim.Adam(oModel.parameters(), lr=5e-6, betas=(0.8, 0.9))\n",
    "oScheduler = OneCycleLR(oOptim, max_lr=5e-5, total_steps=nIter)\n",
    "lHistory   = TrainModel(oModel, oTrainDL, oTestDL, Loss, BinaryAcuuracy, nEpochs, oOptim, oScheduler)"
   ]
  },
  {
   "cell_type": "code",
   "execution_count": 20,
   "id": "hindu-communication",
   "metadata": {
    "ExecuteTime": {
     "end_time": "2021-11-16T12:07:38.471912Z",
     "start_time": "2021-11-16T12:07:38.106002Z"
    }
   },
   "outputs": [
    {
     "data": {
      "image/png": "[encoded data removed]",
      "text/plain": [
       "<Figure size 2200x500 with 3 Axes>"
      ]
     },
     "metadata": {},
     "output_type": "display_data"
    }
   ],
   "source": [
    "from DeepLearningFramework.Auxiliary import PlotHistory\n",
    "\n",
    "PlotHistory(lHistory)\n",
    "plt.show   ()"
   ]
  },
  {
   "cell_type": "code",
   "execution_count": null,
   "id": "curious-raising",
   "metadata": {},
   "outputs": [],
   "source": []
  }
 ],
 "metadata": {
  "kernelspec": {
   "display_name": "Python 3",
   "language": "python",
   "name": "python3"
  },
  "language_info": {
   "codemirror_mode": {
    "name": "ipython",
    "version": 3
   },
   "file_extension": ".py",
   "mimetype": "text/x-python",
   "name": "python",
   "nbconvert_exporter": "python",
   "pygments_lexer": "ipython3",
   "version": "3.8.12"
  }
 },
 "nbformat": 4,
 "nbformat_minor": 5
}
