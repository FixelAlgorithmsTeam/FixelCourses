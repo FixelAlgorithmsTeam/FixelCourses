{
 "cells": [
  {
   "cell_type": "markdown",
   "id": "concrete-plenty",
   "metadata": {},
   "source": [
    "![Fixel Algorithms](https://fixelalgorithms.co/images/CCExt.png)"
   ]
  },
  {
   "cell_type": "markdown",
   "id": "oriented-mattress",
   "metadata": {},
   "source": [
    "# <center> Deep Learning Methods </center>\n",
    "## <center> Lecture 12 - RNN Architectures </center>\n",
    "### <center> Sequence to Sequence (Machine Translation) </center>"
   ]
  },
  {
   "cell_type": "markdown",
   "id": "declared-sentence",
   "metadata": {},
   "source": [
    "[![Open In Colab](https://colab.research.google.com/assets/colab-badge.svg)](https://colab.research.google.com/github/FixelAlgorithmsTeam/FixelCourses/blob/master/DeepLearningMethods/12_RNN_Architectures/MainTranslation.ipynb)"
   ]
  },
  {
   "cell_type": "code",
   "execution_count": 1,
   "id": "acting-northwest",
   "metadata": {
    "ExecuteTime": {
     "end_time": "2021-11-16T20:56:26.314028Z",
     "start_time": "2021-11-16T20:56:26.304019Z"
    },
    "scrolled": true
   },
   "outputs": [
    {
     "data": {
      "text/html": [
       "<style>.container { width:80% !important; }</style>"
      ],
      "text/plain": [
       "<IPython.core.display.HTML object>"
      ]
     },
     "metadata": {},
     "output_type": "display_data"
    }
   ],
   "source": [
    "#-- Wide screen:\n",
    "from IPython.core.display import display, HTML\n",
    "display(HTML(\"<style>.container { width:80% !important; }</style>\"))"
   ]
  },
  {
   "cell_type": "code",
   "execution_count": 2,
   "id": "german-genesis",
   "metadata": {
    "ExecuteTime": {
     "end_time": "2021-11-16T20:56:26.346058Z",
     "start_time": "2021-11-16T20:56:26.315030Z"
    }
   },
   "outputs": [],
   "source": [
    "#-- Auto reload:\n",
    "%load_ext autoreload\n",
    "%autoreload 2"
   ]
  },
  {
   "cell_type": "code",
   "execution_count": 3,
   "id": "3a3985bf",
   "metadata": {
    "ExecuteTime": {
     "end_time": "2021-11-16T20:56:26.378087Z",
     "start_time": "2021-11-16T20:56:26.347059Z"
    }
   },
   "outputs": [],
   "source": [
    "if 'google.colab' in str(get_ipython()):\n",
    "    !npx degit FixelAlgorithmsTeam/FixelCourses/DeepLearningMethods/12_RNN_Architectures/DeepLearningFramework ./DeepLearningFramework"
   ]
  },
  {
   "cell_type": "code",
   "execution_count": 4,
   "id": "auburn-stage",
   "metadata": {
    "ExecuteTime": {
     "end_time": "2021-11-16T20:56:27.776110Z",
     "start_time": "2021-11-16T20:56:26.379088Z"
    }
   },
   "outputs": [
    {
     "data": {
      "text/plain": [
       "device(type='cuda', index=0)"
      ]
     },
     "execution_count": 4,
     "metadata": {},
     "output_type": "execute_result"
    }
   ],
   "source": [
    "import numpy             as np\n",
    "import pandas            as pd\n",
    "import matplotlib.pyplot as plt\n",
    "\n",
    "import torch\n",
    "import torch.nn          as nn\n",
    "import torch.optim       as optim\n",
    "import torchtext\n",
    "\n",
    "from torchtext.vocab import Vocab\n",
    "\n",
    "DEVICE = torch.device('cuda:0' if torch.cuda.is_available() else 'cpu') \n",
    "DEVICE"
   ]
  },
  {
   "cell_type": "markdown",
   "id": "british-mambo",
   "metadata": {},
   "source": [
    "#### Load the data:"
   ]
  },
  {
   "cell_type": "code",
   "execution_count": 5,
   "id": "imperial-potter",
   "metadata": {
    "ExecuteTime": {
     "end_time": "2021-11-16T20:56:29.258615Z",
     "start_time": "2021-11-16T20:56:27.777111Z"
    }
   },
   "outputs": [
    {
     "data": {
      "text/plain": [
       "([('tom found evidence .', 'תום מצא ראיות .'),\n",
       "  ('tom freed the bird .', 'טום שחרר את הציפור .'),\n",
       "  ('tom freed the bird .', 'טום שלח את הציפור לחופשי .'),\n",
       "  ('tom gasped for air .', 'תום נאבק לנשום .'),\n",
       "  ('tom gets headaches .', 'תום מקבל כאבי ראש .')],\n",
       " 126692)"
      ]
     },
     "execution_count": 5,
     "metadata": {},
     "output_type": "execute_result"
    }
   ],
   "source": [
    "import re\n",
    "\n",
    "def NormalizeEnglish(line):\n",
    "    line = line.lower().strip()\n",
    "    line = re.sub(r\"([.!?])\", r\" \\1\",     line) #-- add space before [.!?]\n",
    "    line = re.sub(r\"[^a-zA-Z.!?]+\", r\" \", line) #-- keep only letters and [.!?]\n",
    "    return line\n",
    "\n",
    "def NormalizeHebrew(line):\n",
    "    line = line.strip()\n",
    "    line = re.sub(r\"([.!?])\", r\" \\1\",            line)\n",
    "    line = re.sub(r\"[^\\u0590-\\u05fe.!?]+\", r\" \", line)\n",
    "    return line\n",
    "\n",
    "dirPath = '../../data/Translation//'\n",
    "lLines  = []\n",
    "with open(dirPath + 'heb.txt', encoding='utf-8') as oFile:\n",
    "    for line in oFile:\n",
    "        lSplit  = line.split('\\t')[:2]\n",
    "        lLines += [(NormalizeEnglish(lSplit[0]), NormalizeHebrew(lSplit[1]))]\n",
    "\n",
    "lLines[26600:26605], len(lLines)"
   ]
  },
  {
   "cell_type": "markdown",
   "id": "mathematical-baseball",
   "metadata": {},
   "source": [
    "#### Keep only short sentences:"
   ]
  },
  {
   "cell_type": "code",
   "execution_count": 6,
   "id": "tamil-representation",
   "metadata": {
    "ExecuteTime": {
     "end_time": "2021-11-16T20:56:29.354706Z",
     "start_time": "2021-11-16T20:56:29.259616Z"
    }
   },
   "outputs": [
    {
     "data": {
      "text/plain": [
       "(126692, 2)"
      ]
     },
     "execution_count": 6,
     "metadata": {},
     "output_type": "execute_result"
    }
   ],
   "source": [
    "mData = np.array(lLines, dtype=np.object_)\n",
    "mData.shape"
   ]
  },
  {
   "cell_type": "code",
   "execution_count": 7,
   "id": "proud-photography",
   "metadata": {
    "ExecuteTime": {
     "end_time": "2021-11-16T20:56:29.450792Z",
     "start_time": "2021-11-16T20:56:29.355706Z"
    }
   },
   "outputs": [
    {
     "data": {
      "text/plain": [
       "38143"
      ]
     },
     "execution_count": 7,
     "metadata": {},
     "output_type": "execute_result"
    }
   ],
   "source": [
    "MAX_LENGTH  = 6\n",
    "LineLength  = np.vectorize(lambda line: len(line.split()))\n",
    "vLineLength = LineLength(mData[:,0])\n",
    "mData       = mData[vLineLength<6,:]\n",
    "N           = mData.shape[0]\n",
    "N"
   ]
  },
  {
   "cell_type": "markdown",
   "id": "sublime-leadership",
   "metadata": {},
   "source": [
    "#### Build vocabularies:"
   ]
  },
  {
   "cell_type": "code",
   "execution_count": 8,
   "id": "velvet-authentication",
   "metadata": {
    "ExecuteTime": {
     "end_time": "2021-11-16T20:56:29.626952Z",
     "start_time": "2021-11-16T20:56:29.451793Z"
    }
   },
   "outputs": [
    {
     "data": {
      "text/plain": [
       "(4769, 8139)"
      ]
     },
     "execution_count": 8,
     "metadata": {},
     "output_type": "execute_result"
    }
   ],
   "source": [
    "from torchtext.vocab import build_vocab_from_iterator\n",
    "\n",
    "def YieldTokens(lLines):\n",
    "    for line in lLines:\n",
    "        yield line.split()\n",
    "\n",
    "def MakeVocab(lLines):\n",
    "    oVocab = build_vocab_from_iterator(YieldTokens(lLines), min_freq=2, specials=('<UNK>', '<SOS>', '<EOS>', '<PAD>'))\n",
    "    oVocab.set_default_index(oVocab['<UNK>'])\n",
    "    return oVocab\n",
    "\n",
    "lEnglish  = mData[:,0]\n",
    "lHebrew   = mData[:,1]\n",
    "oEngVocab = MakeVocab(lEnglish)\n",
    "oHebVocab = MakeVocab(lHebrew)\n",
    "\n",
    "len(oEngVocab), len(oHebVocab)"
   ]
  },
  {
   "cell_type": "markdown",
   "id": "radio-ceiling",
   "metadata": {},
   "source": [
    "#### Line2Tensor:"
   ]
  },
  {
   "cell_type": "code",
   "execution_count": 9,
   "id": "certified-escape",
   "metadata": {
    "ExecuteTime": {
     "end_time": "2021-11-16T20:56:29.691010Z",
     "start_time": "2021-11-16T20:56:29.627953Z"
    }
   },
   "outputs": [
    {
     "name": "stdout",
     "output_type": "stream",
     "text": [
      "Origianl (Eng) - do it again tom .\n",
      "Origianl (Heb) - עוד הפעם תום .\n",
      "Tensor   (Eng) - tensor([  1,  34,  10, 101,   5,   4,   2])\n",
      "Tensor   (Heb) - tensor([   1,  118, 3409,    5,    4,    2])\n",
      "Back     (Eng) - <SOS> do it again tom . <EOS>\n",
      "Back     (Heb) - <SOS> עוד הפעם תום . <EOS>\n"
     ]
    }
   ],
   "source": [
    "def Line2Tensor(oVocab, line):\n",
    "    lLine = ['<SOS>'] + line.split() + ['<EOS>']\n",
    "    return torch.tensor(oVocab(lLine))\n",
    "\n",
    "def Tensor2Line(oVocab, vLine):\n",
    "    return ' '.join([oVocab.get_itos()[e] for e in vLine])\n",
    "    \n",
    "#-- Test:\n",
    "eng1 = lEnglish[15002]\n",
    "heb1 = lHebrew [15002]\n",
    "eng2 = Line2Tensor(oEngVocab, eng1)\n",
    "heb2 = Line2Tensor(oHebVocab, heb1)\n",
    "eng3 = Tensor2Line(oEngVocab, eng2)\n",
    "heb3 = Tensor2Line(oHebVocab, heb2)\n",
    "\n",
    "print(f'Origianl (Eng) - {eng1}')\n",
    "print(f'Origianl (Heb) - {heb1}')\n",
    "print(f'Tensor   (Eng) - {eng2}')\n",
    "print(f'Tensor   (Heb) - {heb2}')\n",
    "print(f'Back     (Eng) - {eng3}')\n",
    "print(f'Back     (Heb) - {heb3}')"
   ]
  },
  {
   "cell_type": "markdown",
   "id": "female-opening",
   "metadata": {},
   "source": [
    "#### Dataset:"
   ]
  },
  {
   "cell_type": "code",
   "execution_count": 10,
   "id": "7d32ba41",
   "metadata": {
    "ExecuteTime": {
     "end_time": "2021-11-16T20:56:29.755062Z",
     "start_time": "2021-11-16T20:56:29.692010Z"
    }
   },
   "outputs": [],
   "source": [
    "if False:\n",
    "    class LangDataset(torch.utils.data.Dataset):\n",
    "        def __init__(self, lSrc, lTrg, oSrcVocab, oTrgVocab):\n",
    "            self.lSrc      = lSrc\n",
    "            self.lTrg      = lTrg\n",
    "            self.oSrcVocab = oSrcVocab\n",
    "            self.oTrgVocab = oTrgVocab\n",
    "\n",
    "        def __len__(self):\n",
    "            return len(self.lSrc)\n",
    "\n",
    "        def __getitem__(self, idx):\n",
    "            sSrc = self.lSrc[idx]\n",
    "            sTrg = self.lTrg[idx]\n",
    "\n",
    "            vSrc = Line2Tensor(self.oSrcVocab, sSrc)\n",
    "            vTrg = Line2Tensor(self.oTrgVocab, sTrg)\n",
    "\n",
    "            return vSrc, vTrg"
   ]
  },
  {
   "cell_type": "code",
   "execution_count": 11,
   "id": "alternative-texture",
   "metadata": {
    "ExecuteTime": {
     "end_time": "2021-11-16T20:56:29.819113Z",
     "start_time": "2021-11-16T20:56:29.756063Z"
    }
   },
   "outputs": [
    {
     "data": {
      "text/plain": [
       "('<SOS> do what is right . <EOS>', '<SOS> תעשה את הדבר הנכון . <EOS>')"
      ]
     },
     "execution_count": 11,
     "metadata": {},
     "output_type": "execute_result"
    }
   ],
   "source": [
    "from DeepLearningFramework.Seq2SeqUtils import LangDataset\n",
    "\n",
    "oDataset           = LangDataset(lEnglish, lHebrew, oEngVocab, oHebVocab)\n",
    "vEngLine, vHebLine = oDataset[15005]\n",
    "\n",
    "Tensor2Line(oEngVocab, vEngLine), Tensor2Line(oHebVocab, vHebLine)"
   ]
  },
  {
   "cell_type": "code",
   "execution_count": 12,
   "id": "private-programming",
   "metadata": {
    "ExecuteTime": {
     "end_time": "2021-11-16T20:56:29.883171Z",
     "start_time": "2021-11-16T20:56:29.820114Z"
    }
   },
   "outputs": [
    {
     "data": {
      "text/plain": [
       "(30000, 8143)"
      ]
     },
     "execution_count": 12,
     "metadata": {},
     "output_type": "execute_result"
    }
   ],
   "source": [
    "from torch.utils.data import random_split\n",
    "\n",
    "nTrain              = 30000\n",
    "nTest               = N - nTrain\n",
    "oTrainSet, oTestSet = random_split(oDataset, [nTrain, nTest])\n",
    "\n",
    "len(oTrainSet), len(oTestSet)"
   ]
  },
  {
   "cell_type": "code",
   "execution_count": 13,
   "id": "f98a1dce",
   "metadata": {
    "ExecuteTime": {
     "end_time": "2021-11-16T20:56:29.947230Z",
     "start_time": "2021-11-16T20:56:29.884172Z"
    }
   },
   "outputs": [],
   "source": [
    "from torch.nn.utils.rnn import pad_sequence\n",
    "\n",
    "oSrcVocab = oEngVocab\n",
    "oTrgVocab = oHebVocab\n",
    "if False:\n",
    "    def LangCollate(lBatch):\n",
    "        lSrc, lTrg = zip(*lBatch)\n",
    "        mTrg       = pad_sequence(lTrg, padding_value=oTrgVocab['<PAD>'], batch_first=True)\n",
    "\n",
    "        return (lSrc, mTrg)"
   ]
  },
  {
   "cell_type": "code",
   "execution_count": 14,
   "id": "bibliographic-letter",
   "metadata": {
    "ExecuteTime": {
     "end_time": "2021-11-16T20:56:32.341377Z",
     "start_time": "2021-11-16T20:56:29.948231Z"
    }
   },
   "outputs": [
    {
     "data": {
      "text/plain": [
       "(64, torch.Size([6]), torch.Size([64, 9]))"
      ]
     },
     "execution_count": 14,
     "metadata": {},
     "output_type": "execute_result"
    }
   ],
   "source": [
    "    from torch.utils.data                   import DataLoader\n",
    "    from DeepLearningFramework.Seq2SeqUtils import LangCollate\n",
    "\n",
    "    batchSize = 64\n",
    "    oTrainDL  = DataLoader(oTrainSet, shuffle=True,  batch_size=1*batchSize, collate_fn=LangCollate, num_workers=2, persistent_workers=True)\n",
    "    oTestDL   = DataLoader(oTestSet,  shuffle=False, batch_size=2*batchSize, collate_fn=LangCollate, num_workers=2, persistent_workers=True)\n",
    "\n",
    "    lSrc, mTrg = next(iter(oTrainDL))\n",
    "    len(lSrc), lSrc[0].shape, mTrg.shape"
   ]
  },
  {
   "cell_type": "markdown",
   "id": "alien-algebra",
   "metadata": {},
   "source": [
    "#### Encoder RNN:\n",
    "<img src=\"https://github.com/FixelAlgorithmsTeam/FixelCourses/blob/master/DeepLearningMethods/12_RNN_Architectures/RnnEncoder.png?raw=true\" style=\"width: 700px;\"/>\n",
    "We can also make a bidirectional encoder."
   ]
  },
  {
   "cell_type": "code",
   "execution_count": 15,
   "id": "enabling-discussion",
   "metadata": {
    "ExecuteTime": {
     "end_time": "2021-11-16T20:56:32.405434Z",
     "start_time": "2021-11-16T20:56:32.342378Z"
    }
   },
   "outputs": [
    {
     "data": {
      "text/plain": [
       "torch.Size([1, 64, 64])"
      ]
     },
     "execution_count": 15,
     "metadata": {},
     "output_type": "execute_result"
    }
   ],
   "source": [
    "from torch.nn.utils.rnn import pack_sequence, PackedSequence\n",
    "\n",
    "def PackedAs(mData, mPack):\n",
    "    return PackedSequence(mData, mPack.batch_sizes, mPack.sorted_indices, mPack.unsorted_indices)\n",
    "\n",
    "class EncoderRNN(nn.Module):\n",
    "    def __init__(self, V, D, H, L):\n",
    "        super().__init__()\n",
    "        self.oEmbedding = nn.Embedding(V, D, padding_idx=oEngVocab['<PAD>'])\n",
    "        self.oGRU       = nn.GRU      (D, H, L, bidirectional=True)\n",
    "        \n",
    "    def forward(self, lSrc):\n",
    "        #-- len(lSrc)     = N\n",
    "        #-- lSrc[0].shape = (Ti,)\n",
    "        DEVICE   = next(self.parameters()).device                          #-- CPU\\GPU\n",
    "        mPackSrc = pack_sequence  (lSrc, enforce_sorted=False).to(DEVICE)  #-- mPackSrc.shape = (N*T,)\n",
    "        \n",
    "        mE       = self.oEmbedding(mPackSrc.data)               #-- mE      .shape = (N*T, D)\n",
    "        mPackE   = PackedAs       (mE, mPackSrc)                #-- mPackE  .shape = (N*T, D)\n",
    "        _, mH    = self.oGRU      (mPackE)                      #-- mH      .shape = (2*L, N, H)\n",
    "        mC       = torch.cat      ([mH[[-1]], mH[[-2]]], dim=2) #-- mC      .shape = (1,   N, 2*H)\n",
    "\n",
    "        return mC\n",
    "#-------------------------------------------------------------------------------------------------------#\n",
    "#-------------------------------------------------------------------------------------------------------#\n",
    "V = len(oEngVocab)\n",
    "D = 64\n",
    "H = 32\n",
    "L = 2\n",
    "EncoderRNN(V, D, H, L)(lSrc).shape"
   ]
  },
  {
   "cell_type": "markdown",
   "id": "german-terry",
   "metadata": {},
   "source": [
    "#### Decoder RNN:\n",
    "<img src=\"https://github.com/FixelAlgorithmsTeam/FixelCourses/blob/master/DeepLearningMethods/12_RNN_Architectures/RnnDocoder.png?raw=true\" style=\"width: 700px;\"/>"
   ]
  },
  {
   "cell_type": "code",
   "execution_count": 16,
   "id": "funny-magic",
   "metadata": {
    "ExecuteTime": {
     "end_time": "2021-11-16T20:56:32.485508Z",
     "start_time": "2021-11-16T20:56:32.405434Z"
    }
   },
   "outputs": [
    {
     "data": {
      "text/plain": [
       "(torch.Size([64, 8139]), torch.Size([1, 64, 32]))"
      ]
     },
     "execution_count": 16,
     "metadata": {},
     "output_type": "execute_result"
    }
   ],
   "source": [
    "class DecoderRNN(nn.Module):\n",
    "    def __init__(self, V, D, H):\n",
    "        super().__init__()\n",
    "        self.oEmbedding = nn.Embedding(V, D)\n",
    "        self.oGRU       = nn.GRU      (D + H,   H)\n",
    "        self.oLinear    = nn.Linear   (D + 2*H, V)\n",
    "        \n",
    "    def forward(self, vTrg, mC, mS):\n",
    "        #-- vTrg.shape = (N,)\n",
    "        #-- mC  .shape = (1, N, H)\n",
    "        #-- mS  .shape = (1, N, H)\n",
    "        mE     = self.oEmbedding(vTrg)[None]      #-- mE   .shape = (1, N, D)\n",
    "        mEC    = torch.cat      ([mE, mC], dim=2) #-- mEC  .shape = (1, N, D+H)\n",
    "        _, mS  = self.oGRU      (mEC, mS)         #-- mS   .shape = (1, N, H)\n",
    "        \n",
    "        mCSE   = torch.cat   ([mC[0], mS[-1], mE[0]], dim=1) #-- mCSE.shape = (N, D+2*H)\n",
    "        mZ     = self.oLinear(mCSE)                          #-- mZ   .shape = (N, V)\n",
    "        return mZ, mS\n",
    "    \n",
    "V      = len(oHebVocab)\n",
    "D      = 64\n",
    "H      = 32\n",
    "mS     = torch.randn(1, batchSize, H)\n",
    "mC     = torch.randn(1, batchSize, H)\n",
    "vTrg   = mTrg[:,0]\n",
    "mZ, mS = DecoderRNN(V, D, H)(vTrg, mC, mS)\n",
    "\n",
    "mZ.shape, mS.shape"
   ]
  },
  {
   "cell_type": "markdown",
   "id": "twenty-coral",
   "metadata": {},
   "source": [
    "#### Full Model:"
   ]
  },
  {
   "cell_type": "code",
   "execution_count": 17,
   "id": "9c76e1f0",
   "metadata": {
    "ExecuteTime": {
     "end_time": "2021-11-16T20:56:32.897468Z",
     "start_time": "2021-11-16T20:56:32.486508Z"
    }
   },
   "outputs": [
    {
     "data": {
      "text/plain": [
       "torch.Size([64, 8139, 8])"
      ]
     },
     "execution_count": 17,
     "metadata": {},
     "output_type": "execute_result"
    }
   ],
   "source": [
    "Vsrc = len(oSrcVocab)\n",
    "Vtrg = len(oTrgVocab)\n",
    "class Seq2Seq(nn.Module):\n",
    "    def __init__(self):\n",
    "        super().__init__()\n",
    "        \n",
    "        D             = 256                         #-- D = Embedding\n",
    "        H             = 512                         #-- H = Hidden state\n",
    "        self.oEncoder = EncoderRNN(Vsrc, D, 1*H, 1)\n",
    "        self.oDecoder = DecoderRNN(Vtrg, D, 2*H)\n",
    "\n",
    "    def forward(self, lSrc, mTrg, pTeacher=0):\n",
    "        #-- len(lSrc)  = N\n",
    "        #-- mTrg.shape = (N, T) or None\n",
    "        N, T     = mTrg.shape\n",
    "        DEVICE   = next(self.parameters()).device                                       #-- CPU\\GPU\n",
    "        vTrgIn   = oTrgVocab['<SOS>'] * torch.ones(N, dtype=torch.int32, device=DEVICE) #-- vTrgIn .shape = (N,)\n",
    "        mLogits  = torch.zeros((N, Vtrg, T-1),                           device=DEVICE) #-- mLogits.shape = (N, V, T)\n",
    "        bTeacher = torch.rand(1) < pTeacher\n",
    "        \n",
    "        #-- Enocde:\n",
    "        mC = self.oEncoder(lSrc) #-- mC.shape = (1, N, H)\n",
    "        mS = mC\n",
    "        \n",
    "        for ii in range(T - 1):\n",
    "            #-- Decode:\n",
    "            mZ, mS          = self.oDecoder(vTrgIn, mC, mS)\n",
    "            mLogits[:,:,ii] = mZ\n",
    "           \n",
    "            #-- Next input (train \\ test):\n",
    "            if bTeacher == True:\n",
    "                vTrgIn = mTrg[:,ii+1] #-- vHebIn.shape(N)\n",
    "            else:\n",
    "                vTrgIn = mZ.argmax(dim=1)\n",
    "\n",
    "        return mLogits\n",
    "        \n",
    "mWordOut = Seq2Seq()(lSrc, mTrg, 0.5)\n",
    "mWordOut.shape"
   ]
  },
  {
   "cell_type": "code",
   "execution_count": 18,
   "id": "8676b448",
   "metadata": {
    "ExecuteTime": {
     "end_time": "2021-11-16T20:56:32.959525Z",
     "start_time": "2021-11-16T20:56:32.898469Z"
    }
   },
   "outputs": [],
   "source": [
    "def Epoch(oModel, oDataDL, Loss, Metric, oOptim=None, oScheduler=None, bTrain=True):\n",
    "\n",
    "    epochLoss   = 0\n",
    "    epochMetric = 0\n",
    "    count       = 0\n",
    "    nIter       = len(oDataDL)\n",
    "    vLR         = np.full(nIter, np.nan)\n",
    "    DEVICE      = next(oModel.parameters()).device #-- CPU\\GPU\n",
    "\n",
    "    oModel.train(bTrain) #-- train or test\n",
    "\n",
    "    #-- Iterate over the mini-batches:\n",
    "    for ii, (lSrc, mTrg) in enumerate(oDataDL):\n",
    "        mTrg = mTrg.to(DEVICE)\n",
    "        \n",
    "        #-- Forward:\n",
    "        if bTrain == True:\n",
    "            #-- Store computational graph:\n",
    "            mOut = oModel(lSrc, mTrg, pTeacher=0.5)\n",
    "            loss = Loss  (mOut, mTrg[:,1:]) #-- omit <SOS>\n",
    "            \n",
    "            #-- Backward:\n",
    "            vLR[ii] = oScheduler.get_last_lr()[0]\n",
    "            oOptim    .zero_grad() #-- set gradients to zeros\n",
    "            loss      .backward () #-- backward\n",
    "            oOptim    .step     () #-- update parameters\n",
    "            oScheduler.step     () #-- update learning rate\n",
    "            \n",
    "        else:\n",
    "            with torch.no_grad():\n",
    "                #-- Do not store computational graph:\n",
    "                mOut = oModel(lSrc, mTrg, pTeacher=0)\n",
    "                loss = Loss  (mOut, mTrg[:,1:]) #-- omit <SOS>\n",
    "\n",
    "        with torch.no_grad():\n",
    "            Nb           = mTrg.shape[0]\n",
    "            count       += Nb\n",
    "            epochLoss   += Nb * loss.item()\n",
    "            epochMetric += Nb * Metric(mOut, mTrg[:,1:])\n",
    "        print(f'\\r{\"Train\" if bTrain else \"Val\"} - Iteration: {ii:3d} ({nIter}): loss = {loss:2.6f}', end='')\n",
    "\n",
    "    print('', end='\\r')\n",
    "    epochLoss   /= count\n",
    "    epochMetric /= count\n",
    "\n",
    "    return epochLoss, epochMetric, vLR"
   ]
  },
  {
   "cell_type": "code",
   "execution_count": 19,
   "id": "interracial-visibility",
   "metadata": {
    "ExecuteTime": {
     "end_time": "2021-11-16T20:56:33.327859Z",
     "start_time": "2021-11-16T20:56:32.960526Z"
    }
   },
   "outputs": [],
   "source": [
    "from torch.optim.lr_scheduler       import OneCycleLR\n",
    "from DeepLearningFramework.Training import TrainModel\n",
    "from DeepLearningFramework.Metric   import Accuracy\n",
    "\n",
    "Loss   = nn.CrossEntropyLoss(ignore_index=oTrgVocab['<PAD>'])\n",
    "Metric = Accuracy           (ignoreIndex =oTrgVocab['<PAD>'])"
   ]
  },
  {
   "cell_type": "code",
   "execution_count": 20,
   "id": "spoken-solid",
   "metadata": {
    "ExecuteTime": {
     "end_time": "2021-11-16T21:26:50.614994Z",
     "start_time": "2021-11-16T20:56:33.328860Z"
    },
    "scrolled": false
   },
   "outputs": [
    {
     "name": "stdout",
     "output_type": "stream",
     "text": [
      "------------------------------------------------------------------------------------------------------------------------\n",
      "Epoch 000: | Train loss:  5.102 | Val loss:  4.357 | Train Metric:  0.323 | Val Metric:  0.336 | epoch time: 20.634 | <-- Checkpoint!\n",
      "Epoch 001: | Train loss:  4.021 | Val loss:  4.036 | Train Metric:  0.437 | Val Metric:  0.420 | epoch time: 17.427 | <-- Checkpoint!\n",
      "Epoch 002: | Train loss:  3.702 | Val loss:  3.848 | Train Metric:  0.480 | Val Metric:  0.438 | epoch time: 17.446 | <-- Checkpoint!\n",
      "Epoch 003: | Train loss:  3.484 | Val loss:  3.672 | Train Metric:  0.496 | Val Metric:  0.459 | epoch time: 17.395 | <-- Checkpoint!\n",
      "Epoch 004: | Train loss:  3.260 | Val loss:  3.503 | Train Metric:  0.514 | Val Metric:  0.475 | epoch time: 17.422 | <-- Checkpoint!\n",
      "Epoch 005: | Train loss:  3.027 | Val loss:  3.326 | Train Metric:  0.530 | Val Metric:  0.492 | epoch time: 17.502 | <-- Checkpoint!\n",
      "Epoch 006: | Train loss:  2.788 | Val loss:  3.167 | Train Metric:  0.550 | Val Metric:  0.501 | epoch time: 17.425 | <-- Checkpoint!\n",
      "Epoch 007: | Train loss:  2.569 | Val loss:  3.009 | Train Metric:  0.562 | Val Metric:  0.518 | epoch time: 17.446 | <-- Checkpoint!\n",
      "Epoch 008: | Train loss:  2.334 | Val loss:  2.869 | Train Metric:  0.582 | Val Metric:  0.534 | epoch time: 17.395 | <-- Checkpoint!\n",
      "Epoch 009: | Train loss:  2.100 | Val loss:  2.731 | Train Metric:  0.603 | Val Metric:  0.544 | epoch time: 17.400 | <-- Checkpoint!\n",
      "------------------------------------------------------------------------------------------------------------------------\n",
      "Epoch 010: | Train loss:  1.871 | Val loss:  2.607 | Train Metric:  0.628 | Val Metric:  0.556 | epoch time: 17.399 | <-- Checkpoint!\n",
      "Epoch 011: | Train loss:  1.652 | Val loss:  2.515 | Train Metric:  0.656 | Val Metric:  0.563 | epoch time: 17.491 | <-- Checkpoint!\n",
      "Epoch 012: | Train loss:  1.462 | Val loss:  2.440 | Train Metric:  0.679 | Val Metric:  0.577 | epoch time: 17.459 | <-- Checkpoint!\n",
      "Epoch 013: | Train loss:  1.286 | Val loss:  2.376 | Train Metric:  0.704 | Val Metric:  0.578 | epoch time: 17.526 | <-- Checkpoint!\n",
      "Epoch 014: | Train loss:  1.139 | Val loss:  2.348 | Train Metric:  0.730 | Val Metric:  0.579 | epoch time: 17.427 | <-- Checkpoint!\n",
      "Epoch 015: | Train loss:  1.006 | Val loss:  2.313 | Train Metric:  0.753 | Val Metric:  0.587 | epoch time: 17.497 | <-- Checkpoint!\n",
      "Epoch 016: | Train loss:  0.913 | Val loss:  2.325 | Train Metric:  0.772 | Val Metric:  0.581 | epoch time: 17.438 |\n",
      "Epoch 017: | Train loss:  0.823 | Val loss:  2.313 | Train Metric:  0.792 | Val Metric:  0.589 | epoch time: 17.431 | <-- Checkpoint!\n",
      "Epoch 018: | Train loss:  0.770 | Val loss:  2.312 | Train Metric:  0.804 | Val Metric:  0.590 | epoch time: 17.556 | <-- Checkpoint!\n",
      "Epoch 019: | Train loss:  0.718 | Val loss:  2.341 | Train Metric:  0.817 | Val Metric:  0.586 | epoch time: 17.463 |\n",
      "------------------------------------------------------------------------------------------------------------------------\n",
      "Epoch 020: | Train loss:  0.684 | Val loss:  2.342 | Train Metric:  0.826 | Val Metric:  0.590 | epoch time: 17.414 |\n",
      "Epoch 021: | Train loss:  0.657 | Val loss:  2.360 | Train Metric:  0.834 | Val Metric:  0.589 | epoch time: 17.433 |\n",
      "Epoch 022: | Train loss:  0.633 | Val loss:  2.344 | Train Metric:  0.841 | Val Metric:  0.589 | epoch time: 17.333 |\n",
      "Epoch 023: | Train loss:  0.621 | Val loss:  2.380 | Train Metric:  0.844 | Val Metric:  0.587 | epoch time: 17.393 |\n",
      "Epoch 024: | Train loss:  0.615 | Val loss:  2.360 | Train Metric:  0.847 | Val Metric:  0.592 | epoch time: 17.338 | <-- Checkpoint!\n",
      "Epoch 025: | Train loss:  0.600 | Val loss:  2.383 | Train Metric:  0.851 | Val Metric:  0.588 | epoch time: 17.491 |\n",
      "Epoch 026: | Train loss:  0.594 | Val loss:  2.373 | Train Metric:  0.853 | Val Metric:  0.594 | epoch time: 17.399 | <-- Checkpoint!\n",
      "Epoch 027: | Train loss:  0.590 | Val loss:  2.377 | Train Metric:  0.853 | Val Metric:  0.591 | epoch time: 17.438 |\n",
      "Epoch 028: | Train loss:  0.572 | Val loss:  2.347 | Train Metric:  0.859 | Val Metric:  0.596 | epoch time: 17.340 | <-- Checkpoint!\n",
      "Epoch 029: | Train loss:  0.566 | Val loss:  2.391 | Train Metric:  0.860 | Val Metric:  0.592 | epoch time: 17.408 |\n",
      "------------------------------------------------------------------------------------------------------------------------\n",
      "Epoch 030: | Train loss:  0.560 | Val loss:  2.372 | Train Metric:  0.862 | Val Metric:  0.594 | epoch time: 17.398 |\n",
      "Epoch 031: | Train loss:  0.547 | Val loss:  2.370 | Train Metric:  0.865 | Val Metric:  0.594 | epoch time: 17.437 |\n",
      "Epoch 032: | Train loss:  0.540 | Val loss:  2.372 | Train Metric:  0.867 | Val Metric:  0.597 | epoch time: 17.530 | <-- Checkpoint!\n",
      "Epoch 033: | Train loss:  0.532 | Val loss:  2.382 | Train Metric:  0.868 | Val Metric:  0.596 | epoch time: 18.470 |\n",
      "Epoch 034: | Train loss:  0.524 | Val loss:  2.410 | Train Metric:  0.871 | Val Metric:  0.592 | epoch time: 18.543 |\n",
      "Epoch 035: | Train loss:  0.521 | Val loss:  2.380 | Train Metric:  0.872 | Val Metric:  0.587 | epoch time: 18.617 |\n",
      "Epoch 036: | Train loss:  0.514 | Val loss:  2.335 | Train Metric:  0.874 | Val Metric:  0.597 | epoch time: 18.582 |\n",
      "Epoch 037: | Train loss:  0.511 | Val loss:  2.371 | Train Metric:  0.874 | Val Metric:  0.597 | epoch time: 18.482 |\n",
      "Epoch 038: | Train loss:  0.501 | Val loss:  2.372 | Train Metric:  0.876 | Val Metric:  0.597 | epoch time: 19.714 |\n",
      "Epoch 039: | Train loss:  0.496 | Val loss:  2.352 | Train Metric:  0.878 | Val Metric:  0.602 | epoch time: 18.479 | <-- Checkpoint!\n",
      "------------------------------------------------------------------------------------------------------------------------\n",
      "Epoch 040: | Train loss:  0.489 | Val loss:  2.366 | Train Metric:  0.879 | Val Metric:  0.592 | epoch time: 17.935 |\n",
      "Epoch 041: | Train loss:  0.481 | Val loss:  2.369 | Train Metric:  0.880 | Val Metric:  0.597 | epoch time: 19.225 |\n",
      "Epoch 042: | Train loss:  0.477 | Val loss:  2.358 | Train Metric:  0.881 | Val Metric:  0.601 | epoch time: 19.463 |\n",
      "Epoch 043: | Train loss:  0.470 | Val loss:  2.376 | Train Metric:  0.881 | Val Metric:  0.601 | epoch time: 19.065 |\n",
      "Epoch 044: | Train loss:  0.467 | Val loss:  2.352 | Train Metric:  0.883 | Val Metric:  0.604 | epoch time: 18.895 | <-- Checkpoint!\n",
      "Epoch 045: | Train loss:  0.463 | Val loss:  2.342 | Train Metric:  0.883 | Val Metric:  0.603 | epoch time: 18.943 |\n",
      "Epoch 046: | Train loss:  0.452 | Val loss:  2.340 | Train Metric:  0.887 | Val Metric:  0.601 | epoch time: 18.705 |\n",
      "Epoch 047: | Train loss:  0.449 | Val loss:  2.371 | Train Metric:  0.886 | Val Metric:  0.596 | epoch time: 18.854 |\n",
      "Epoch 048: | Train loss:  0.446 | Val loss:  2.322 | Train Metric:  0.887 | Val Metric:  0.605 | epoch time: 20.351 | <-- Checkpoint!\n",
      "Epoch 049: | Train loss:  0.422 | Val loss:  2.381 | Train Metric:  0.893 | Val Metric:  0.602 | epoch time: 18.971 |\n",
      "------------------------------------------------------------------------------------------------------------------------\n",
      "Epoch 050: | Train loss:  0.427 | Val loss:  2.348 | Train Metric:  0.891 | Val Metric:  0.601 | epoch time: 18.767 |\n",
      "Epoch 051: | Train loss:  0.416 | Val loss:  2.382 | Train Metric:  0.894 | Val Metric:  0.604 | epoch time: 20.838 |\n",
      "Epoch 052: | Train loss:  0.407 | Val loss:  2.384 | Train Metric:  0.895 | Val Metric:  0.606 | epoch time: 18.590 | <-- Checkpoint!\n",
      "Epoch 053: | Train loss:  0.406 | Val loss:  2.373 | Train Metric:  0.895 | Val Metric:  0.600 | epoch time: 18.510 |\n",
      "Epoch 054: | Train loss:  0.400 | Val loss:  2.353 | Train Metric:  0.896 | Val Metric:  0.605 | epoch time: 18.548 |\n",
      "Epoch 055: | Train loss:  0.392 | Val loss:  2.341 | Train Metric:  0.897 | Val Metric:  0.606 | epoch time: 18.856 | <-- Checkpoint!\n",
      "Epoch 056: | Train loss:  0.380 | Val loss:  2.351 | Train Metric:  0.900 | Val Metric:  0.604 | epoch time: 19.222 |\n",
      "Epoch 057: | Train loss:  0.369 | Val loss:  2.381 | Train Metric:  0.902 | Val Metric:  0.601 | epoch time: 18.684 |\n",
      "Epoch 058: | Train loss:  0.369 | Val loss:  2.372 | Train Metric:  0.902 | Val Metric:  0.605 | epoch time: 19.131 |\n",
      "Epoch 059: | Train loss:  0.369 | Val loss:  2.342 | Train Metric:  0.899 | Val Metric:  0.606 | epoch time: 19.069 | <-- Checkpoint!\n"
     ]
    },
    {
     "name": "stdout",
     "output_type": "stream",
     "text": [
      "------------------------------------------------------------------------------------------------------------------------\n",
      "Epoch 060: | Train loss:  0.348 | Val loss:  2.346 | Train Metric:  0.905 | Val Metric:  0.606 | epoch time: 18.910 |\n",
      "Epoch 061: | Train loss:  0.346 | Val loss:  2.357 | Train Metric:  0.905 | Val Metric:  0.605 | epoch time: 19.234 |\n",
      "Epoch 062: | Train loss:  0.336 | Val loss:  2.359 | Train Metric:  0.906 | Val Metric:  0.607 | epoch time: 20.466 | <-- Checkpoint!\n",
      "Epoch 063: | Train loss:  0.332 | Val loss:  2.351 | Train Metric:  0.907 | Val Metric:  0.608 | epoch time: 18.947 | <-- Checkpoint!\n",
      "Epoch 064: | Train loss:  0.324 | Val loss:  2.340 | Train Metric:  0.907 | Val Metric:  0.607 | epoch time: 19.980 |\n",
      "Epoch 065: | Train loss:  0.308 | Val loss:  2.360 | Train Metric:  0.911 | Val Metric:  0.605 | epoch time: 19.797 |\n",
      "Epoch 066: | Train loss:  0.309 | Val loss:  2.378 | Train Metric:  0.909 | Val Metric:  0.607 | epoch time: 19.861 |\n",
      "Epoch 067: | Train loss:  0.304 | Val loss:  2.357 | Train Metric:  0.909 | Val Metric:  0.605 | epoch time: 18.394 |\n",
      "Epoch 068: | Train loss:  0.293 | Val loss:  2.347 | Train Metric:  0.911 | Val Metric:  0.610 | epoch time: 18.110 | <-- Checkpoint!\n",
      "Epoch 069: | Train loss:  0.292 | Val loss:  2.370 | Train Metric:  0.910 | Val Metric:  0.609 | epoch time: 18.149 |\n",
      "------------------------------------------------------------------------------------------------------------------------\n",
      "Epoch 070: | Train loss:  0.281 | Val loss:  2.386 | Train Metric:  0.911 | Val Metric:  0.609 | epoch time: 17.682 |\n",
      "Epoch 071: | Train loss:  0.274 | Val loss:  2.374 | Train Metric:  0.913 | Val Metric:  0.610 | epoch time: 17.676 | <-- Checkpoint!\n",
      "Epoch 072: | Train loss:  0.268 | Val loss:  2.349 | Train Metric:  0.912 | Val Metric:  0.612 | epoch time: 18.068 | <-- Checkpoint!\n",
      "Epoch 073: | Train loss:  0.259 | Val loss:  2.391 | Train Metric:  0.915 | Val Metric:  0.613 | epoch time: 18.726 | <-- Checkpoint!\n",
      "Epoch 074: | Train loss:  0.255 | Val loss:  2.372 | Train Metric:  0.914 | Val Metric:  0.610 | epoch time: 20.071 |\n",
      "Epoch 075: | Train loss:  0.250 | Val loss:  2.379 | Train Metric:  0.914 | Val Metric:  0.611 | epoch time: 18.501 |\n",
      "Epoch 076: | Train loss:  0.241 | Val loss:  2.369 | Train Metric:  0.916 | Val Metric:  0.610 | epoch time: 19.746 |\n",
      "Epoch 077: | Train loss:  0.238 | Val loss:  2.375 | Train Metric:  0.916 | Val Metric:  0.611 | epoch time: 17.685 |\n",
      "Epoch 078: | Train loss:  0.234 | Val loss:  2.376 | Train Metric:  0.914 | Val Metric:  0.613 | epoch time: 17.259 | <-- Checkpoint!\n",
      "Epoch 079: | Train loss:  0.228 | Val loss:  2.380 | Train Metric:  0.916 | Val Metric:  0.612 | epoch time: 17.278 |\n",
      "------------------------------------------------------------------------------------------------------------------------\n",
      "Epoch 080: | Train loss:  0.223 | Val loss:  2.389 | Train Metric:  0.916 | Val Metric:  0.614 | epoch time: 17.282 | <-- Checkpoint!\n",
      "Epoch 081: | Train loss:  0.214 | Val loss:  2.391 | Train Metric:  0.919 | Val Metric:  0.613 | epoch time: 17.378 |\n",
      "Epoch 082: | Train loss:  0.210 | Val loss:  2.406 | Train Metric:  0.919 | Val Metric:  0.612 | epoch time: 17.373 |\n",
      "Epoch 083: | Train loss:  0.201 | Val loss:  2.409 | Train Metric:  0.922 | Val Metric:  0.614 | epoch time: 17.366 | <-- Checkpoint!\n",
      "Epoch 084: | Train loss:  0.198 | Val loss:  2.407 | Train Metric:  0.922 | Val Metric:  0.615 | epoch time: 17.318 | <-- Checkpoint!\n",
      "Epoch 085: | Train loss:  0.195 | Val loss:  2.419 | Train Metric:  0.922 | Val Metric:  0.614 | epoch time: 17.282 |\n",
      "Epoch 086: | Train loss:  0.186 | Val loss:  2.436 | Train Metric:  0.926 | Val Metric:  0.614 | epoch time: 17.280 |\n",
      "Epoch 087: | Train loss:  0.189 | Val loss:  2.416 | Train Metric:  0.923 | Val Metric:  0.614 | epoch time: 17.374 |\n",
      "Epoch 088: | Train loss:  0.180 | Val loss:  2.437 | Train Metric:  0.927 | Val Metric:  0.614 | epoch time: 17.297 |\n",
      "Epoch 089: | Train loss:  0.174 | Val loss:  2.450 | Train Metric:  0.929 | Val Metric:  0.614 | epoch time: 17.214 |\n",
      "------------------------------------------------------------------------------------------------------------------------\n",
      "Epoch 090: | Train loss:  0.173 | Val loss:  2.447 | Train Metric:  0.929 | Val Metric:  0.615 | epoch time: 17.413 |\n",
      "Epoch 091: | Train loss:  0.169 | Val loss:  2.458 | Train Metric:  0.931 | Val Metric:  0.613 | epoch time: 17.355 |\n",
      "Epoch 092: | Train loss:  0.165 | Val loss:  2.455 | Train Metric:  0.933 | Val Metric:  0.614 | epoch time: 17.201 |\n",
      "Epoch 093: | Train loss:  0.161 | Val loss:  2.458 | Train Metric:  0.935 | Val Metric:  0.615 | epoch time: 17.198 |\n",
      "Epoch 094: | Train loss:  0.161 | Val loss:  2.466 | Train Metric:  0.936 | Val Metric:  0.613 | epoch time: 17.263 |\n",
      "Epoch 095: | Train loss:  0.158 | Val loss:  2.468 | Train Metric:  0.938 | Val Metric:  0.614 | epoch time: 17.254 |\n",
      "Epoch 096: | Train loss:  0.157 | Val loss:  2.468 | Train Metric:  0.939 | Val Metric:  0.613 | epoch time: 17.282 |\n",
      "Epoch 097: | Train loss:  0.153 | Val loss:  2.473 | Train Metric:  0.942 | Val Metric:  0.613 | epoch time: 17.249 |\n",
      "Epoch 098: | Train loss:  0.152 | Val loss:  2.474 | Train Metric:  0.943 | Val Metric:  0.613 | epoch time: 17.310 |\n",
      "Epoch 099: | Train loss:  0.149 | Val loss:  2.475 | Train Metric:  0.945 | Val Metric:  0.613 | epoch time: 17.318 |\n"
     ]
    }
   ],
   "source": [
    "nEpochs    = 100\n",
    "nIter      = nEpochs * len(oTrainDL)\n",
    "\n",
    "oModel     = Seq2Seq    ().to(DEVICE)\n",
    "oOptim     = optim.AdamW(oModel.parameters(), lr=1e-5, betas=(0.9, 0.99), weight_decay=5e-1)\n",
    "oScheduler = OneCycleLR (oOptim, max_lr=5e-4, total_steps=nIter)\n",
    "lHistory   = TrainModel (oModel, oTrainDL, oTestDL, Loss, Metric, nEpochs, oOptim, oScheduler, Epoch=Epoch, sModelName='Seq2Seq')"
   ]
  },
  {
   "cell_type": "code",
   "execution_count": 23,
   "id": "controlling-bottom",
   "metadata": {
    "ExecuteTime": {
     "end_time": "2021-11-16T20:04:33.536303Z",
     "start_time": "2021-11-16T20:04:33.199399Z"
    }
   },
   "outputs": [
    {
     "data": {
      "image/png": "[encoded data removed]",
      "text/plain": [
       "<Figure size 2200x500 with 3 Axes>"
      ]
     },
     "metadata": {},
     "output_type": "display_data"
    }
   ],
   "source": [
    "from DeepLearningFramework.Auxiliary import PlotHistory\n",
    "\n",
    "PlotHistory(lHistory)\n",
    "plt.show   ()"
   ]
  },
  {
   "cell_type": "code",
   "execution_count": 22,
   "id": "364ca060",
   "metadata": {
    "ExecuteTime": {
     "end_time": "2021-11-16T20:53:23.484219Z",
     "start_time": "2021-11-16T20:53:23.188952Z"
    }
   },
   "outputs": [
    {
     "data": {
      "text/plain": [
       "Seq2Seq(\n",
       "  (oEncoder): EncoderRNN(\n",
       "    (oEmbedding): Embedding(4769, 256, padding_idx=3)\n",
       "    (oGRU): GRU(256, 512, bidirectional=True)\n",
       "  )\n",
       "  (oDecoder): DecoderRNN(\n",
       "    (oEmbedding): Embedding(8139, 256)\n",
       "    (oGRU): GRU(1280, 1024)\n",
       "    (oLinear): Linear(in_features=2304, out_features=8139, bias=True)\n",
       "  )\n",
       ")"
      ]
     },
     "execution_count": 22,
     "metadata": {},
     "output_type": "execute_result"
    }
   ],
   "source": [
    "# oMdeol = Seq2Seq().to(DEVICE)\n",
    "# oModel.load_state_dict(torch.load('Seq2Seq_v1.pt'))\n",
    "# oModel.eval()"
   ]
  },
  {
   "cell_type": "markdown",
   "id": "chubby-sigma",
   "metadata": {},
   "source": [
    "### Exercise (predict implementation)\n",
    "Complete the `Predict` function implementation.  \n",
    "\n",
    "Note: A [beam search](https://en.wikipedia.org/wiki/Beam_search) should be used instead of top 1 method."
   ]
  },
  {
   "cell_type": "code",
   "execution_count": 60,
   "id": "0a6d60e8",
   "metadata": {
    "ExecuteTime": {
     "end_time": "2021-10-11T11:21:33.503463Z",
     "start_time": "2021-10-11T11:21:33.443408Z"
    }
   },
   "outputs": [],
   "source": [
    "from torch.distributions.categorical import Categorical\n",
    "    \n",
    "def Predict(oModel, lSrc, bTop1=False):\n",
    "    MAX_LENGTH = 256\n",
    "    N          = len(lSrc)\n",
    "    DEVICE     = lSrc[0].device\n",
    "    vTrgIn     = ???\n",
    "    mTrgOut    = torch.zeros((N, MAX_LENGTH), device=DEVICE) #-- mTrgOut.shape = (N, T)\n",
    "    \n",
    "    #-- Enocde:\n",
    "    mC = ???\n",
    "    mH = ???\n",
    "\n",
    "    for ii in range(MAX_LENGTH):\n",
    "        #-- Decode:\n",
    "        mZ, mH = ???\n",
    "        \n",
    "        if bTop1 == True:\n",
    "            vTrgIn = ???\n",
    "        else:\n",
    "            vTrgIn = ???\n",
    "\n",
    "        mTrgOut[:,ii] = vTrgIn\n",
    "\n",
    "    #-- Keep sequences up to <EOS>:\n",
    "    vIdx    = (mTrgOut == oTrgVocab['<EOS>']).int().argmax(dim=1)\n",
    "    lTrgOut = [mTrgOut[ii,:vIdx[ii]] for ii in range(N)]\n",
    "    \n",
    "    return lTrgOut"
   ]
  },
  {
   "cell_type": "code",
   "execution_count": 25,
   "id": "attached-tradition",
   "metadata": {
    "ExecuteTime": {
     "end_time": "2021-11-16T20:05:29.777241Z",
     "start_time": "2021-11-16T20:05:26.561259Z"
    }
   },
   "outputs": [
    {
     "data": {
      "text/html": [
       "<div>\n",
       "<style scoped>\n",
       "    .dataframe tbody tr th:only-of-type {\n",
       "        vertical-align: middle;\n",
       "    }\n",
       "\n",
       "    .dataframe tbody tr th {\n",
       "        vertical-align: top;\n",
       "    }\n",
       "\n",
       "    .dataframe thead th {\n",
       "        text-align: right;\n",
       "    }\n",
       "</style>\n",
       "<table border=\"1\" class=\"dataframe\">\n",
       "  <thead>\n",
       "    <tr style=\"text-align: right;\">\n",
       "      <th></th>\n",
       "      <th>English</th>\n",
       "      <th>GT (Hebrew)</th>\n",
       "      <th>Generated</th>\n",
       "    </tr>\n",
       "  </thead>\n",
       "  <tbody>\n",
       "    <tr>\n",
       "      <th>0</th>\n",
       "      <td>please sign here .</td>\n",
       "      <td>נא לחתום כאן בבקשה .</td>\n",
       "      <td>חתום כאן בבקשה .</td>\n",
       "    </tr>\n",
       "    <tr>\n",
       "      <th>1</th>\n",
       "      <td>i love your place .</td>\n",
       "      <td>אני אוהב את המקום שלכם .</td>\n",
       "      <td>אני אוהב את המקום שלכם .</td>\n",
       "    </tr>\n",
       "    <tr>\n",
       "      <th>2</th>\n",
       "      <td>is tom cute ?</td>\n",
       "      <td>תום חמוד ?</td>\n",
       "      <td>תום הבריאות ?</td>\n",
       "    </tr>\n",
       "    <tr>\n",
       "      <th>3</th>\n",
       "      <td>he has ten cows .</td>\n",
       "      <td>יש לו עשר פרות .</td>\n",
       "      <td>יש לו עשר עשר .</td>\n",
       "    </tr>\n",
       "    <tr>\n",
       "      <th>4</th>\n",
       "      <td>well i lied .</td>\n",
       "      <td>ובכן שיקרתי .</td>\n",
       "      <td>שעון .</td>\n",
       "    </tr>\n",
       "    <tr>\n",
       "      <th>5</th>\n",
       "      <td>please come .</td>\n",
       "      <td>בבקשה &lt;UNK&gt; .</td>\n",
       "      <td>הצטרף בבקשה .</td>\n",
       "    </tr>\n",
       "    <tr>\n",
       "      <th>6</th>\n",
       "      <td>i need you .</td>\n",
       "      <td>אני זקוקה לך .</td>\n",
       "      <td>אני צריך אתכם .</td>\n",
       "    </tr>\n",
       "    <tr>\n",
       "      <th>7</th>\n",
       "      <td>i already apologized .</td>\n",
       "      <td>כבר ביקשתי סליחה .</td>\n",
       "      <td>כבר התנצלתי .</td>\n",
       "    </tr>\n",
       "    <tr>\n",
       "      <th>8</th>\n",
       "      <td>tom sipped some tea .</td>\n",
       "      <td>תום לגם מעט תה .</td>\n",
       "      <td>תום זיהה קצת תה .</td>\n",
       "    </tr>\n",
       "    <tr>\n",
       "      <th>9</th>\n",
       "      <td>we re all satisfied .</td>\n",
       "      <td>כולנו מרוצים .</td>\n",
       "      <td>כולנו מרוצים .</td>\n",
       "    </tr>\n",
       "  </tbody>\n",
       "</table>\n",
       "</div>"
      ],
      "text/plain": [
       "                  English               GT (Hebrew)                 Generated\n",
       "0      please sign here .      נא לחתום כאן בבקשה .          חתום כאן בבקשה .\n",
       "1     i love your place .  אני אוהב את המקום שלכם .  אני אוהב את המקום שלכם .\n",
       "2           is tom cute ?                תום חמוד ?             תום הבריאות ?\n",
       "3       he has ten cows .          יש לו עשר פרות .           יש לו עשר עשר .\n",
       "4           well i lied .             ובכן שיקרתי .                    שעון .\n",
       "5           please come .             בבקשה <UNK> .             הצטרף בבקשה .\n",
       "6            i need you .            אני זקוקה לך .           אני צריך אתכם .\n",
       "7  i already apologized .        כבר ביקשתי סליחה .             כבר התנצלתי .\n",
       "8   tom sipped some tea .          תום לגם מעט תה .         תום זיהה קצת תה .\n",
       "9   we re all satisfied .            כולנו מרוצים .            כולנו מרוצים ."
      ]
     },
     "execution_count": 25,
     "metadata": {},
     "output_type": "execute_result"
    }
   ],
   "source": [
    "import pandas as pd\n",
    "\n",
    "dLang = pd.DataFrame(index=range(10), columns=['English', 'GT (Hebrew)', 'Generated'])\n",
    "\n",
    "for ii in range(10):\n",
    "    idx        = np.random.randint(nTest)\n",
    "    vEng, vHeb = oTestSet[idx]\n",
    "    lEng       = [vEng.to(DEVICE)]\n",
    "    with torch.no_grad():\n",
    "        vHebOut = Predict(oModel, lEng)[0].int()\n",
    "\n",
    "    dLang.iloc[ii,:] = [Tensor2Line(oEngVocab, vEng[1:-1]), Tensor2Line(oHebVocab, vHeb[1:-1]), Tensor2Line(oHebVocab, vHebOut)]\n",
    "\n",
    "dLang"
   ]
  },
  {
   "cell_type": "code",
   "execution_count": null,
   "id": "adjustable-shelf",
   "metadata": {},
   "outputs": [],
   "source": []
  },
  {
   "cell_type": "code",
   "execution_count": null,
   "id": "6a470e89",
   "metadata": {},
   "outputs": [],
   "source": []
  },
  {
   "cell_type": "code",
   "execution_count": null,
   "id": "c891c521",
   "metadata": {},
   "outputs": [],
   "source": []
  },
  {
   "cell_type": "code",
   "execution_count": null,
   "id": "51585f13",
   "metadata": {},
   "outputs": [],
   "source": []
  },
  {
   "cell_type": "code",
   "execution_count": null,
   "id": "d046e8e3",
   "metadata": {},
   "outputs": [],
   "source": []
  },
  {
   "cell_type": "code",
   "execution_count": null,
   "id": "295a7423",
   "metadata": {},
   "outputs": [],
   "source": []
  },
  {
   "cell_type": "code",
   "execution_count": null,
   "id": "0aae2cf0",
   "metadata": {},
   "outputs": [],
   "source": []
  },
  {
   "cell_type": "code",
   "execution_count": null,
   "id": "a91ca9e6",
   "metadata": {},
   "outputs": [],
   "source": []
  },
  {
   "cell_type": "code",
   "execution_count": null,
   "id": "15544ba7",
   "metadata": {},
   "outputs": [],
   "source": []
  },
  {
   "cell_type": "code",
   "execution_count": null,
   "id": "cbfb19a8",
   "metadata": {},
   "outputs": [],
   "source": []
  },
  {
   "cell_type": "code",
   "execution_count": null,
   "id": "06b360d9",
   "metadata": {},
   "outputs": [],
   "source": []
  },
  {
   "cell_type": "code",
   "execution_count": null,
   "id": "5d7cd39d",
   "metadata": {},
   "outputs": [],
   "source": []
  },
  {
   "cell_type": "code",
   "execution_count": null,
   "id": "08f571e2",
   "metadata": {},
   "outputs": [],
   "source": []
  },
  {
   "cell_type": "code",
   "execution_count": null,
   "id": "d4e10853",
   "metadata": {},
   "outputs": [],
   "source": []
  },
  {
   "cell_type": "code",
   "execution_count": null,
   "id": "56cfc291",
   "metadata": {},
   "outputs": [],
   "source": []
  },
  {
   "cell_type": "code",
   "execution_count": null,
   "id": "9a36fb85",
   "metadata": {},
   "outputs": [],
   "source": []
  },
  {
   "cell_type": "code",
   "execution_count": null,
   "id": "39ea2ee1",
   "metadata": {},
   "outputs": [],
   "source": []
  },
  {
   "cell_type": "code",
   "execution_count": null,
   "id": "87e2b703",
   "metadata": {},
   "outputs": [],
   "source": []
  },
  {
   "cell_type": "code",
   "execution_count": null,
   "id": "64a1ef0d",
   "metadata": {},
   "outputs": [],
   "source": []
  },
  {
   "cell_type": "code",
   "execution_count": null,
   "id": "3602a68e",
   "metadata": {},
   "outputs": [],
   "source": []
  },
  {
   "cell_type": "code",
   "execution_count": null,
   "id": "44fbcda7",
   "metadata": {},
   "outputs": [],
   "source": []
  },
  {
   "cell_type": "code",
   "execution_count": null,
   "id": "19f9576f",
   "metadata": {},
   "outputs": [],
   "source": []
  },
  {
   "cell_type": "code",
   "execution_count": null,
   "id": "00e34c52",
   "metadata": {},
   "outputs": [],
   "source": []
  },
  {
   "cell_type": "code",
   "execution_count": null,
   "id": "60b5a874",
   "metadata": {},
   "outputs": [],
   "source": []
  },
  {
   "cell_type": "code",
   "execution_count": null,
   "id": "98ece5a3",
   "metadata": {},
   "outputs": [],
   "source": []
  },
  {
   "cell_type": "code",
   "execution_count": null,
   "id": "4dff58ed",
   "metadata": {},
   "outputs": [],
   "source": []
  },
  {
   "cell_type": "code",
   "execution_count": null,
   "id": "c04d4f4e",
   "metadata": {},
   "outputs": [],
   "source": []
  },
  {
   "cell_type": "code",
   "execution_count": null,
   "id": "d449a1ce",
   "metadata": {},
   "outputs": [],
   "source": []
  },
  {
   "cell_type": "code",
   "execution_count": null,
   "id": "8329fdd6",
   "metadata": {},
   "outputs": [],
   "source": []
  },
  {
   "cell_type": "code",
   "execution_count": null,
   "id": "af011436",
   "metadata": {},
   "outputs": [],
   "source": []
  },
  {
   "cell_type": "code",
   "execution_count": null,
   "id": "302906cf",
   "metadata": {},
   "outputs": [],
   "source": []
  },
  {
   "cell_type": "code",
   "execution_count": null,
   "id": "67eb47cd",
   "metadata": {},
   "outputs": [],
   "source": []
  },
  {
   "cell_type": "code",
   "execution_count": null,
   "id": "ec52dde0",
   "metadata": {},
   "outputs": [],
   "source": []
  },
  {
   "cell_type": "code",
   "execution_count": null,
   "id": "60433561",
   "metadata": {},
   "outputs": [],
   "source": []
  },
  {
   "cell_type": "code",
   "execution_count": null,
   "id": "09ff28df",
   "metadata": {},
   "outputs": [],
   "source": []
  },
  {
   "cell_type": "code",
   "execution_count": null,
   "id": "0d13c6f3",
   "metadata": {},
   "outputs": [],
   "source": []
  },
  {
   "cell_type": "code",
   "execution_count": null,
   "id": "ee63fcc5",
   "metadata": {},
   "outputs": [],
   "source": []
  },
  {
   "cell_type": "code",
   "execution_count": null,
   "id": "fd7b0f8b",
   "metadata": {},
   "outputs": [],
   "source": []
  },
  {
   "cell_type": "code",
   "execution_count": null,
   "id": "bd5f3344",
   "metadata": {},
   "outputs": [],
   "source": []
  },
  {
   "cell_type": "code",
   "execution_count": null,
   "id": "4c0e3410",
   "metadata": {},
   "outputs": [],
   "source": []
  },
  {
   "cell_type": "code",
   "execution_count": null,
   "id": "73670e11",
   "metadata": {},
   "outputs": [],
   "source": []
  },
  {
   "cell_type": "code",
   "execution_count": null,
   "id": "7bde7789",
   "metadata": {},
   "outputs": [],
   "source": []
  },
  {
   "cell_type": "code",
   "execution_count": null,
   "id": "c07d0cd3",
   "metadata": {},
   "outputs": [],
   "source": []
  },
  {
   "cell_type": "code",
   "execution_count": null,
   "id": "504ac0cb",
   "metadata": {},
   "outputs": [],
   "source": []
  },
  {
   "cell_type": "code",
   "execution_count": null,
   "id": "d1882d20",
   "metadata": {},
   "outputs": [],
   "source": []
  },
  {
   "cell_type": "code",
   "execution_count": null,
   "id": "6c7b7319",
   "metadata": {},
   "outputs": [],
   "source": []
  },
  {
   "cell_type": "code",
   "execution_count": null,
   "id": "fb48ae93",
   "metadata": {},
   "outputs": [],
   "source": [
    "# from torch.distributions.categorical import Categorical\n",
    "    \n",
    "# def Predict(oModel, lSrc, bTop1=False):\n",
    "#     MAX_LENGTH = 256\n",
    "#     N          = len(lSrc)\n",
    "#     DEVICE     = lSrc[0].device\n",
    "#     vTrgIn     = oTrgVocab['<SOS>'] * torch.ones(N, dtype=torch.int32, device=DEVICE)\n",
    "#     mTrgOut    = torch.zeros((N, MAX_LENGTH),                          device=DEVICE) #-- mTrgOut.shape = (N, T)\n",
    "    \n",
    "#     #-- Enocde:\n",
    "#     mC = oModel.oEncoder(lSrc) #-- mC.shape = (1, N, H)\n",
    "#     mH = mC\n",
    "\n",
    "#     for ii in range(MAX_LENGTH):\n",
    "#         #-- Decode:\n",
    "#         mZ, mH = oModel.oDecoder(vTrgIn, mC, mH) #-- mZ.shape = (N, V)\n",
    "#                                                  #-- mH.shape = (L, N, H)\n",
    "#         if bTop1 == True:\n",
    "#             vTrgIn = mZ.argmax(dim=1)\n",
    "#         else:\n",
    "#             vTrgIn = Categorical(logits=mZ).sample()\n",
    "\n",
    "#         mTrgOut[:,ii] = vTrgIn\n",
    "\n",
    "#     #-- Keep sequences up to <EOS>:\n",
    "#     vIdx    = (mTrgOut == oTrgVocab['<EOS>']).int().argmax(dim=1)\n",
    "#     lTrgOut = [mTrgOut[ii,:vIdx[ii]] for ii in range(N)]\n",
    "    \n",
    "#     return lTrgOut"
   ]
  }
 ],
 "metadata": {
  "kernelspec": {
   "display_name": "Python 3",
   "language": "python",
   "name": "python3"
  },
  "language_info": {
   "codemirror_mode": {
    "name": "ipython",
    "version": 3
   },
   "file_extension": ".py",
   "mimetype": "text/x-python",
   "name": "python",
   "nbconvert_exporter": "python",
   "pygments_lexer": "ipython3",
   "version": "3.8.12"
  }
 },
 "nbformat": 4,
 "nbformat_minor": 5
}
