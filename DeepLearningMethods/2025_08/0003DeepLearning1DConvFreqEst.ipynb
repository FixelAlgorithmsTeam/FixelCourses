{
 "cells": [
  {
   "attachments": {},
   "cell_type": "markdown",
   "metadata": {},
   "source": [
    "[![Fixel Algorithms](https://fixelalgorithms.co/images/CCExt.png)](https://fixelalgorithms.gitlab.io)\n",
    "\n",
    "# Deep Learning Methods\n",
    "\n",
    "## Deep Learning - Convolution Neural Network - 1D Convolution Net for Frequency Estimation\n",
    "\n",
    "> Notebook by:\n",
    "> - Royi Avital RoyiAvital@fixelalgorithms.com\n",
    "\n",
    "## Revision History\n",
    "\n",
    "| Version | Date       | User        |Content / Changes                                                   |\n",
    "|---------|------------|-------------|--------------------------------------------------------------------|\n",
    "| 1.1.001 | 19/09/2025 | Royi Avital | Updated link of Google Colab                                       |\n",
    "| 1.1.000 | 17/09/2025 | Royi Avital | Added visualizations on the Training of a model                    |\n",
    "| 1.0.000 | 29/04/2024 | Royi Avital | First version                                                      |"
   ]
  },
  {
   "attachments": {},
   "cell_type": "markdown",
   "metadata": {},
   "source": [
    "[![Open In Colab](https://colab.research.google.com/assets/colab-badge.svg)](https://colab.research.google.com/github/FixelAlgorithmsTeam/FixelCourses/blob/master/DeepLearningMethods/2025_08/0003DeepLearning1DConvFreqEst.ipynb)"
   ]
  },
  {
   "cell_type": "code",
   "execution_count": null,
   "metadata": {
    "ExecuteTime": {
     "end_time": "2022-02-02T09:30:06.492269Z",
     "start_time": "2022-02-02T09:30:06.220934Z"
    }
   },
   "outputs": [],
   "source": [
    "# Import Packages\n",
    "\n",
    "# General Tools\n",
    "import numpy as np\n",
    "import scipy as sp\n",
    "import pandas as pd\n",
    "\n",
    "# Machine Learning\n",
    "from sklearn.datasets import fetch_california_housing\n",
    "\n",
    "# Deep Learning\n",
    "import torch\n",
    "import torch.nn            as nn\n",
    "import torch.nn.functional as F\n",
    "from torch.optim.optimizer import Optimizer\n",
    "from torch.optim.lr_scheduler import LRScheduler\n",
    "from torch.utils.data import DataLoader\n",
    "from torch.utils.tensorboard import SummaryWriter\n",
    "from torchmetrics.regression import R2Score\n",
    "import torchinfo\n",
    "\n",
    "# Miscellaneous\n",
    "from platform import python_version\n",
    "import random\n",
    "import time\n",
    "\n",
    "# Typing\n",
    "from typing import Callable, Dict, Generator, List, Optional, Self, Set, Tuple, Union\n",
    "\n",
    "# Visualization\n",
    "import matplotlib.pyplot as plt\n",
    "\n",
    "# Jupyter\n",
    "from IPython import get_ipython"
   ]
  },
  {
   "attachments": {},
   "cell_type": "markdown",
   "metadata": {},
   "source": [
    "## Notations\n",
    "\n",
    "* <font color='red'>(**?**)</font> Question to answer interactively.\n",
    "* <font color='blue'>(**!**)</font> Simple task to add code for the notebook.\n",
    "* <font color='green'>(**@**)</font> Optional / Extra self practice.\n",
    "* <font color='brown'>(**#**)</font> Note / Useful resource / Food for thought.\n",
    "\n",
    "Code Notations:\n",
    "\n",
    "```python\n",
    "someVar    = 2; #<! Notation for a variable\n",
    "vVector    = np.random.rand(4) #<! Notation for 1D array\n",
    "mMatrix    = np.random.rand(4, 3) #<! Notation for 2D array\n",
    "tTensor    = np.random.rand(4, 3, 2, 3) #<! Notation for nD array (Tensor)\n",
    "tuTuple    = (1, 2, 3) #<! Notation for a tuple\n",
    "lList      = [1, 2, 3] #<! Notation for a list\n",
    "dDict      = {1: 3, 2: 2, 3: 1} #<! Notation for a dictionary\n",
    "oObj       = MyClass() #<! Notation for an object\n",
    "dfData     = pd.DataFrame() #<! Notation for a data frame\n",
    "dsData     = pd.Series() #<! Notation for a series\n",
    "hObj       = plt.Axes() #<! Notation for an object / handler / function handler\n",
    "```\n",
    "\n",
    "### Code Exercise\n",
    "\n",
    " - Single line fill\n",
    "\n",
    "```python\n",
    "valToFill = ???\n",
    "```\n",
    "\n",
    " - Multi Line to Fill (At least one)\n",
    "\n",
    "```python\n",
    "# You need to start writing\n",
    "?????\n",
    "```\n",
    "\n",
    " - Section to Fill\n",
    "\n",
    "```python\n",
    "#===========================Fill This===========================#\n",
    "# 1. Explanation about what to do.\n",
    "# !! Remarks to follow / take under consideration.\n",
    "mX = ???\n",
    "\n",
    "?????\n",
    "#===============================================================#\n",
    "```"
   ]
  },
  {
   "cell_type": "code",
   "execution_count": null,
   "metadata": {},
   "outputs": [],
   "source": [
    "# Configuration\n",
    "# %matplotlib inline\n",
    "\n",
    "seedNum = 512\n",
    "np.random.seed(seedNum)\n",
    "random.seed(seedNum)\n",
    "\n",
    "# Matplotlib default color palette\n",
    "lMatPltLibclr = ['#1f77b4', '#ff7f0e', '#2ca02c', '#d62728', '#9467bd', '#8c564b', '#e377c2', '#7f7f7f', '#bcbd22', '#17becf']\n",
    "# sns.set_theme() #>! Apply SeaBorn theme\n",
    "\n",
    "runInGoogleColab = 'google.colab' in str(get_ipython())\n",
    "\n",
    "# Improve performance by benchmarking\n",
    "torch.backends.cudnn.benchmark = True\n",
    "\n",
    "# Reproducibility\n",
    "# torch.manual_seed(seedNum)\n",
    "# torch.backends.cudnn.deterministic = True\n",
    "# torch.backends.cudnn.benchmark     = False"
   ]
  },
  {
   "cell_type": "code",
   "execution_count": null,
   "metadata": {},
   "outputs": [],
   "source": [
    "# Constants\n",
    "\n",
    "FIG_SIZE_DEF    = (8, 8)\n",
    "ELM_SIZE_DEF    = 50\n",
    "CLASS_COLOR     = ('b', 'r')\n",
    "EDGE_COLOR      = 'k'\n",
    "MARKER_SIZE_DEF = 10\n",
    "LINE_WIDTH_DEF  = 2\n",
    "\n",
    "D_CLASSES_CIFAR_10  = {0: 'Airplane', 1: 'Automobile', 2: 'Bird', 3: 'Cat', 4: 'Deer', 5: 'Dog', 6: 'Frog', 7: 'Horse', 8: 'Ship', 9: 'Truck'}\n",
    "L_CLASSES_CIFAR_10  = ['Airplane', 'Automobile', 'Bird', 'Cat', 'Deer', 'Dog', 'Frog', 'Horse', 'Ship', 'Truck']\n",
    "T_IMG_SIZE_CIFAR_10 = (32, 32, 3)\n",
    "\n",
    "DATA_FOLDER_PATH    = 'Data'\n",
    "TENSOR_BOARD_BASE   = 'TB'"
   ]
  },
  {
   "cell_type": "code",
   "execution_count": null,
   "metadata": {},
   "outputs": [],
   "source": [
    "# Download Auxiliary Modules for Google Colab\n",
    "if runInGoogleColab:\n",
    "    import os\n",
    "    for fileName in ('DataManipulation.py', 'DataVisualization.py', 'DeepLearningBlocks.py', 'DeepLearningPyTorch.py'):\n",
    "        if os.path.exists(fileName):\n",
    "            continue\n",
    "        os.system(f'wget https://raw.githubusercontent.com/FixelAlgorithmsTeam/FixelCourses/master/DeepLearningMethods/2025_08/{fileName}')"
   ]
  },
  {
   "cell_type": "code",
   "execution_count": null,
   "metadata": {},
   "outputs": [],
   "source": [
    "# Courses Packages\n",
    "\n",
    "from DataVisualization import PlotRegressionResults\n",
    "from DeepLearningPyTorch import NNMode"
   ]
  },
  {
   "cell_type": "code",
   "execution_count": null,
   "metadata": {},
   "outputs": [],
   "source": [
    "# General Auxiliary Functions\n",
    "\n",
    "def GenHarmonicData( numSignals: int, numSamples: int, samplingFreq: float, maxFreq: float, σ: float ) -> Tuple[torch.Tensor, torch.Tensor]:\n",
    "    \"\"\"\n",
    "    Generate a set of harmonic (Sine) signals with noise.\n",
    "    Input:\n",
    "        - numSignals: Number of signals.\n",
    "        - numSamples: Number of samples per signal.\n",
    "        - samplingFreq: Sampling frequency of the samples.\n",
    "        - maxFreq: Maximum frequency of the signals. Must obey `maxFreq < 0.5 * samplingFreq`.\n",
    "        - σ: The noise Standard Deviation.\n",
    "    Output:\n",
    "        - mX: Matrix of signals. Shape: (numSignals, numSamples).\n",
    "        - vF: Vector of frequencies. Shape: (numSignals,).\n",
    "    Remark:\n",
    "        - Sampling by Nyquist.\n",
    "        - The signals are generated as:\n",
    "            x_i(t) = sin(2π f_i t + φ_i) + n_i(t)\n",
    "    \"\"\"\n",
    "\n",
    "    π = torch.pi #<! Constant Pi\n",
    "\n",
    "    vT   = torch.linspace(0, numSamples - 1, numSamples) / samplingFreq #<! Time samples\n",
    "    vF   = maxFreq * torch.rand(numSignals)                             #<! Frequency per signal\n",
    "    vPhi = 2 * π * torch.rand(numSignals)                               #<! Phase per signal\n",
    "    \n",
    "    # x_i(t) = sin(2π f_i t + φ_i) + n_i(t)\n",
    "    # mX = torch.zeros((numSignals, numSamples))\n",
    "    # for ii in range(numSignals):\n",
    "    #     mX[ii] = torch.sin(2 * π * vF[ii] * vT + vPhi[ii])\n",
    "    # mX = torch.sin(2 * π * vF[:, None] @ vT[None, :] + vPhi[:, None])\n",
    "    mX = torch.sin(2 * π * torch.outer(vF, vT) + vPhi[:, None])\n",
    "    mX = mX + σ * torch.randn(mX.shape) #<! Add noise\n",
    "\n",
    "    return mX, vF"
   ]
  },
  {
   "cell_type": "markdown",
   "metadata": {},
   "source": [
    "## Frequency Estimation with 1D Convolution Model in PyTorch\n",
    "\n",
    "This notebook **estimates the frequency** of a given set of samples of an _Harmonic Signal_.\n",
    "\n",
    "The notebook presents:\n",
    "\n",
    " * Use of convolution layers in PyTorch.\n",
    " * Use of pool layers in PyTorch.\n",
    " * Use of adaptive pool layer in PyTorch.  \n",
    "   The motivation is to set a constant output size regardless of input.\n",
    " * Use the model for inference on the test data.\n",
    "\n",
    "</br>\n",
    "\n",
    " * <font color='brown'>(**#**)</font> While the layers are called _Convolution Layer_ they actually implement correlation.  \n",
    "   Since the weights are learned, in practice it makes no difference as _Correlation_ is convolution with the a flipped kernel.\n",
    "\n"
   ]
  },
  {
   "cell_type": "markdown",
   "metadata": {},
   "source": [
    "* <font color='red'>(**?**)</font> What kind of a problem it frequency estimation?"
   ]
  },
  {
   "cell_type": "code",
   "execution_count": null,
   "metadata": {},
   "outputs": [],
   "source": [
    "# Parameters\n",
    "\n",
    "# Data\n",
    "numSignalsTrain = 15_000 #<! Tune model's parameters\n",
    "numSignalsVal   = 5_000  #<! Tune Hyper Parameters, Evaluate real world performance\n",
    "numSignalsTest  = 5_000  #<! Real World performance\n",
    "\n",
    "numSamples = 500 #<! Samples in Signal\n",
    "\n",
    "maxFreq      = 10.0  #<! [Hz]\n",
    "samplingFreq = 100.0 #<! [Hz]\n",
    "\n",
    "σ = 0.1 #<! Noise Std\n",
    "\n",
    "# Model\n",
    "dropP = 0.1 #<! Dropout Layer\n",
    "\n",
    "# Training\n",
    "batchSize   = 256\n",
    "numWork     = 2 #<! Number of workers\n",
    "nEpochs     = 20\n",
    "\n",
    "# Visualization\n",
    "numSigPlot = 5"
   ]
  },
  {
   "cell_type": "markdown",
   "metadata": {},
   "source": [
    "## Generate / Load Data\n",
    "\n",
    "This section generates the data from the following model:\n",
    "\n",
    "$$\\boldsymbol{x}_{i} \\left( t \\right) = \\sin \\left( 2 \\pi {f}_{i} t + \\phi_{i} \\right) + \\boldsymbol{n}_{i} \\left( t \\right) $$\n",
    "\n",
    " * $\\boldsymbol{x}_{i}$ - Set of input samples (`numSamples`) of the $i$ -th _Harmonic Signal_.\n",
    " * ${f}_{i}$ - The signal frequency in the range `[0, maxFreq]`.\n",
    " * $t$ - Time sample.\n",
    " * $\\phi_{i}$ - The signal phase in the range `[0, 2π]`.\n",
    " * $\\boldsymbol{n}_{i}$ - Set of noise samples (`numSamples`) of the $i$ -th _Harmonic Signal_.  \n",
    "   The noise standard deviation is set to `σ`.\n",
    "\n",
    "The model input data is in the  format: ${N}_{b} \\times {C} \\times N$:\n",
    "\n",
    " * ${N}_{b}$ - Number of signals in the batch (`batchSize`).\n",
    " * $C$ - Number of channels (The signal is a single channel).\n",
    "\n",
    "</br>\n",
    "\n",
    "* <font color='brown'>(**#**)</font> Since it is a generated data set, data can be generated at will.\n",
    "* <font color='brown'>(**#**)</font> The signal 1D with a single channel. EEG signals, Stereo Audio signal, ECG signals are examples for multi channel 1D signals.  \n",
    "  The concept of 1D in this context is the index which the data is generated along."
   ]
  },
  {
   "cell_type": "code",
   "execution_count": null,
   "metadata": {},
   "outputs": [],
   "source": [
    "# Generate Data\n",
    "\n",
    "mXTrain, vYTrain = GenHarmonicData(numSignalsTrain, numSamples, samplingFreq, maxFreq, σ) #<! Train Data\n",
    "mXVal, vYVal     = GenHarmonicData(numSignalsVal, numSamples, samplingFreq, maxFreq, σ)   #<! Validation Data\n",
    "mXTest, vYTest   = GenHarmonicData(numSignalsTest, numSamples, samplingFreq, maxFreq, σ)  #<! Test Data\n",
    "\n",
    "vT = np.linspace(0, numSamples - 1, numSamples) / samplingFreq #<! For plotting\n",
    "\n",
    "mX = torch.concatenate((mXTrain, mXVal), axis = 0)\n",
    "vY = torch.concatenate((vYTrain, vYVal), axis = 0)\n",
    "\n",
    "print(f'The features data shape: {mX.shape}')\n",
    "print(f'The labels data shape: {vY.shape}')"
   ]
  },
  {
   "cell_type": "markdown",
   "metadata": {},
   "source": [
    "* <font color='red'>(**?**)</font> What is the content of `vY` above? Explain its shape."
   ]
  },
  {
   "cell_type": "markdown",
   "metadata": {},
   "source": [
    "### Plot Data"
   ]
  },
  {
   "cell_type": "code",
   "execution_count": null,
   "metadata": {},
   "outputs": [],
   "source": [
    "# Plot the Data\n",
    "\n",
    "hF, hA = plt.subplots(figsize = (14, 5))\n",
    "for _ in range(numSigPlot):\n",
    "    idxSig = np.random.randint(numSignalsTrain)\n",
    "    vX  = mXTrain[idxSig,:]\n",
    "    hA.plot(vT, vX, lw = 2, label = f'$f_i = {(vYTrain[idxSig].item()):.3f}$')\n",
    "\n",
    "hA.set_title('Train Signals')\n",
    "hA.set_xlabel('Time')\n",
    "hA.set_ylabel('Sample Value')\n",
    "hA.legend()\n",
    "plt.show()"
   ]
  },
  {
   "cell_type": "markdown",
   "metadata": {},
   "source": [
    "### Input Data\n",
    "\n",
    "There are several ways to convert the data into the shape expected by the model convention:\n",
    "\n",
    "```python\n",
    "# Assume: mX.shape = (N, L)\n",
    "mX = mX.view(N, 1, L) #<! Option I\n",
    "mX = mX.unsqueeze(1)  #<! Option II\n",
    "mX = mX[:, None, :]   #<! Option III\n",
    "#Output: mX.shape = (N, 1, L)\n",
    "```"
   ]
  },
  {
   "cell_type": "markdown",
   "metadata": {},
   "source": [
    "### PyTorch DataSet  \n",
    "\n",
    "PyTorch `Dataset` is a _pseudo array_ which allows to fetch samples from a storage (Memory / Hard Drive / Net / etc...).  \n",
    "It must define 2 methods:\n",
    "\n",
    "1. `__init__()`  \n",
    "   Sets the configuration of the Dataset.  \n",
    "   Usually used to set the path of the files on the HD and transformations of the data.\n",
    "2. `__len__()`  \n",
    "   Returns the number of samples available in the dataset.\n",
    "3. `__getitem__()`  \n",
    "   Given an index it fetches the sample and label.  \n",
    "   Applies a transformation on the data / label if defined."
   ]
  },
  {
   "cell_type": "code",
   "execution_count": null,
   "metadata": {},
   "outputs": [],
   "source": [
    "# Data Sets\n",
    "\n",
    "# Dataset is relatively small. Hence we can use the built in `TensorDataset` which is a subclass of `Dataset`.\n",
    "dsTrain = torch.utils.data.TensorDataset(mXTrain.view(numSignalsTrain, 1, -1), vYTrain) #<! -1 -> Infer\n",
    "dsVal   = torch.utils.data.TensorDataset(mXVal.view(numSignalsVal, 1, -1), vYVal)\n",
    "dsTest  = torch.utils.data.TensorDataset(mXTest.view(numSignalsTest, 1, -1), vYTest)"
   ]
  },
  {
   "cell_type": "markdown",
   "metadata": {},
   "source": [
    "* <font color='red'>(**?**)</font> Does the data require standardization? Why?"
   ]
  },
  {
   "cell_type": "markdown",
   "metadata": {},
   "source": [
    "### Train by Epochs\n",
    "\n",
    "In Deep Learning the data is usually trained in batches.  \n",
    "The motivations are:\n",
    "\n",
    " * Memory Limitations.\n",
    " * Speed.\n",
    " * Regularization (Avoid Overfit).\n",
    "\n",
    "An _Epoch_ is a set of batches which consists the whole data set.\n",
    "\n",
    "* <font color='brown'>(**#**)</font> If a batch is the size of the whole data set, each iteration is an _Epoch_."
   ]
  },
  {
   "cell_type": "markdown",
   "metadata": {},
   "source": [
    "<!-- ![Number Iterations per Epoch for a Batch Size](https://i.imgur.com/XvK4QtL.png)\n",
    " \n",
    " \n",
    " * Credit to [Chandra Prakash Bathula - Demystifying Epoch in Machine Learning: Unleashing the Power of Iterative Learning](https://scribe.rip/979f4ae5a5b6). -->\n",
    "\n",
    "![Number Iterations per Epoch for a Batch Size](https://i.imgur.com/HLoYAna.png)"
   ]
  },
  {
   "cell_type": "markdown",
   "metadata": {},
   "source": [
    "### PyTorch Data Loaders\n",
    "\n",
    "PyTorch data loaders (`DataLoader`) are _Iterators_ which iterates over an _Epoch_ given a `Dataset`.  \n",
    "They are optimized to work in parallel in order to keep the accelerator (GPU) fed."
   ]
  },
  {
   "cell_type": "code",
   "execution_count": null,
   "metadata": {},
   "outputs": [],
   "source": [
    "# Data Loaders\n",
    "\n",
    "# Data is small, no real need for workers\n",
    "dlTrain = torch.utils.data.DataLoader(dsTrain, shuffle = True, batch_size = 1 * batchSize, num_workers = numWork, drop_last = True, persistent_workers = True)\n",
    "dlVal   = torch.utils.data.DataLoader(dsVal, shuffle = False, batch_size = 2 * batchSize, num_workers = numWork, persistent_workers = True)\n",
    "dlTest  = torch.utils.data.DataLoader(dsTest, shuffle = False, batch_size = 2 * batchSize, num_workers = numWork, persistent_workers = True)"
   ]
  },
  {
   "cell_type": "code",
   "execution_count": null,
   "metadata": {},
   "outputs": [],
   "source": [
    "# Iterate on the Loader\n",
    "# The first batch.\n",
    "tX, vY = next(iter(dlTrain)) #<! PyTorch Tensors\n",
    "\n",
    "print(f'The batch features dimensions: {tX.shape}')\n",
    "print(f'The batch labels dimensions: {vY.shape}')"
   ]
  },
  {
   "cell_type": "markdown",
   "metadata": {},
   "source": [
    "## Train a Model\n",
    "\n",
    "During training there 2 operational states:\n",
    "\n",
    " * Training Mode  \n",
    "   Iterating over the _Training Data_ in order to optimize the model weights.  \n",
    "   The computational graph and the layers are set to _Train Mode_.\n",
    " * Evaluation Mode  \n",
    "   Iterating over the _Validation Data_ in order to evaluate the model.\n",
    "   The computational graph and the layers are set to _Inference Mode_.\n",
    "\n",
    "### Training Mode Iteration\n",
    "\n",
    "![](https://i.imgur.com/m4IKzHU.png)\n",
    "<!-- ![](https://i.postimg.cc/NF08G3TR/Diagrams-Deep-Learning001.png) -->\n",
    "\n",
    "The training mode iteration is composed of:\n",
    "\n",
    " 1. Fetching the iteration data (Batch) using the _Data Loader_ of the _Training Data_.\n",
    " 2. Executing a _Forward Pass_ of the model using the batch.  \n",
    "    The pass generates the intermediate values of the Computational Graph and the model output.\n",
    " 3. Running the _Loss Function_ to calculate the _loss_ of the iteration.  \n",
    "    Using the data labels and the model output, the _Loss Function_ calculates the loss and the _Gradient_ of the loss with respect to the model output.\n",
    " 4. Executing a _Backward Pass_ using the _Gradient_ of the loss with respect to the model output.  \n",
    "    The pass generates propagates the loss gradient with respect to each parameter of the model.\n",
    " 5. Executing an _Optimization Step_.  \n",
    "    The _Optimizer_ applies an update rule to tune the model weights.\n",
    "\n",
    "* <font color='brown'>(**#**)</font> One may aggregate several iterations into a single optimization step (_Gradient Accumulation_).  \n",
    "  It is mostly used when there are some memory constraints on the batch size.\n",
    "* <font color='brown'>(**#**)</font> _Schedulers_ may be used in order to make the Optimizer adaptive to the iteration index or the loss / score curve.\n",
    "\n",
    "### Evaluation Mode Iteration\n",
    "\n",
    "Commonly happens once in a few iterations of training.\n",
    "\n",
    "![](https://i.imgur.com/M5zIs5K.png)\n",
    "<!-- ![](https://i.postimg.cc/YqvKDcwJ/Diagrams-Deep-Learning002.png) -->\n",
    "\n",
    "1. Fetching the iteration data (Batch) using the _Data Loader_ of the _Validation Data_.\n",
    "2. Executing a _Forward Pass_ of the model using the batch.  \n",
    "   The pass generates the model output.\n",
    "3. Running the _Score Function_ to calculate the _Score_ of the iteration.  \n",
    "   Using the data labels and the model output, the _Score Function_ calculates the score.\n",
    "4. Early Stopping (Optional)  \n",
    "   Using the curve of the score one may save the best model and decide on stopping the training process.\n",
    "\n",
    "\n",
    "* <font color='brown'>(**#**)</font> Commonly an evaluation iteration happens after each Epoch.  \n",
    "  Yet it should be defined according to the time budget and the computational cost of each iteration.\n",
    "\n",
    "<br>\n",
    "\n",
    "The rest of the notebook goes through a suggested workflow of training a model."
   ]
  },
  {
   "cell_type": "markdown",
   "metadata": {},
   "source": [
    "### Define the Model\n",
    "\n",
    "The model is defined as a sequential model.\n"
   ]
  },
  {
   "cell_type": "code",
   "execution_count": null,
   "metadata": {},
   "outputs": [],
   "source": [
    "# Model\n",
    "# Defining a sequential model.\n",
    "\n",
    "numFeatures = mX.shape[1]\n",
    "\n",
    "def GetModel( ) -> nn.Module:\n",
    "    oModel = nn.Sequential(\n",
    "        nn.Identity(),\n",
    "        \n",
    "        nn.Conv1d(in_channels = 1,   out_channels = 32,  kernel_size = 11), nn.MaxPool1d(kernel_size = 2), nn.ReLU(),\n",
    "        nn.Conv1d(in_channels = 32,  out_channels = 64,  kernel_size = 11), nn.MaxPool1d(kernel_size = 2), nn.ReLU(),\n",
    "        nn.Conv1d(in_channels = 64,  out_channels = 128, kernel_size = 11), nn.MaxPool1d(kernel_size = 2), nn.ReLU(),\n",
    "        nn.Conv1d(in_channels = 128, out_channels = 256, kernel_size = 11), nn.MaxPool1d(kernel_size = 2), nn.ReLU(),\n",
    "                \n",
    "        nn.AdaptiveAvgPool1d(output_size = 1),\n",
    "        nn.Flatten          (),\n",
    "        nn.Linear           (in_features = 256, out_features = 1),\n",
    "        nn.Flatten          (start_dim = 0),\n",
    "        )\n",
    "    \n",
    "    return oModel"
   ]
  },
  {
   "cell_type": "markdown",
   "metadata": {},
   "source": [
    "* <font color='brown'>(**#**)</font> The [`torch.nn.AdaptiveAvgPool1d`](https://pytorch.org/docs/stable/generated/torch.nn.AdaptiveAvgPool1d.html) allows the same output shape regard less of the  input.\n",
    "* <font color='red'>(**?**)</font> What is the role of the [`torch.nn.Flatten`](https://pytorch.org/docs/stable/generated/torch.nn.Flatten.html) layers?"
   ]
  },
  {
   "cell_type": "code",
   "execution_count": null,
   "metadata": {},
   "outputs": [],
   "source": [
    "# Model Summary\n",
    "\n",
    "oModel = GetModel()\n",
    "torchinfo.summary(oModel, tX.shape, col_names = ['input_size', 'output_size', 'num_params'], device = 'cpu')"
   ]
  },
  {
   "cell_type": "markdown",
   "metadata": {},
   "source": [
    "* <font color='brown'>(**#**)</font> Pay attention the dropout parameter of PyTorch is about the probability to zero out the value."
   ]
  },
  {
   "cell_type": "code",
   "execution_count": null,
   "metadata": {},
   "outputs": [],
   "source": [
    "# Run Model\n",
    "# Apply a test run.\n",
    "\n",
    "mXX = torch.randn(batchSize, numSamples)\n",
    "mXX = mXX.view(batchSize, 1, numSamples)\n",
    "with torch.inference_mode():\n",
    "    vYHat = oModel(mXX)\n",
    "\n",
    "print(f'The input dimensions: {mXX.shape}')\n",
    "print(f'The output dimensions: {vYHat.shape}')"
   ]
  },
  {
   "cell_type": "markdown",
   "metadata": {},
   "source": [
    "### Training Loop\n",
    "\n",
    "Use the training and validation samples.  \n",
    "The objective will be defined as the Mean Squared Error and the score as ${R}^{2}$."
   ]
  },
  {
   "cell_type": "markdown",
   "metadata": {},
   "source": [
    "* <font color='red'>(**?**)</font> Will the best model loss wise will be the model with the best score?  \n",
    "  Explain specifically and generally (For other loss and scores)."
   ]
  },
  {
   "cell_type": "code",
   "execution_count": null,
   "metadata": {},
   "outputs": [],
   "source": [
    "def RunEpoch( \n",
    "        oModel: nn.Module, \n",
    "        dlData: DataLoader, \n",
    "        hL: Callable, \n",
    "        hS: Callable, \n",
    "        oOpt: Optional[Optimizer] = None, \n",
    "        opMode: NNMode = NNMode.TRAIN \n",
    "    ) -> Tuple[float, float]:\n",
    "    \"\"\"\n",
    "    Runs a single Epoch (Train / Test) of a model.  \n",
    "    Input:\n",
    "        oModel      - PyTorch `nn.Module` object.\n",
    "        dlData      - PyTorch `Dataloader` object.\n",
    "        hL          - Callable for the Loss function.\n",
    "        hS          - Callable for the Score function.\n",
    "        oOpt        - PyTorch `Optimizer` object.\n",
    "        opMode      - An `NNMode` to set the mode of operation.\n",
    "    Output:\n",
    "        valLoss     - Scalar of the loss.\n",
    "        valScore    - Scalar of the score.\n",
    "    Remarks:\n",
    "      - The `oDataSet` object returns a Tuple of (mX, vY) per batch.\n",
    "      - The `hL` function should accept the `vY` (Reference target) and `mZ` (Output of the NN).  \n",
    "        It should return a Tuple of `valLoss` (Scalar of the loss) and `mDz` (Gradient by the loss).\n",
    "      - The `hS` function should accept the `vY` (Reference target) and `mZ` (Output of the NN).  \n",
    "        It should return a scalar `valScore` of the score.\n",
    "      - The optimizer is required for training mode.\n",
    "    \"\"\"\n",
    "    \n",
    "    epochLoss   = 0.0\n",
    "    epochScore  = 0.0\n",
    "    numSamples  = 0\n",
    "    numBatches = len(dlData)\n",
    "\n",
    "    runDevice = next(oModel.parameters()).device #<! CPU \\ GPU\n",
    "\n",
    "    if opMode == NNMode.TRAIN:\n",
    "        oModel.train(True) #<! Equivalent of `oModel.train()`\n",
    "        trainMode = True\n",
    "    elif opMode == NNMode.INFERENCE:\n",
    "        oModel.eval() #<! Equivalent of `oModel.train(False)`\n",
    "        trainMode = False\n",
    "    else:\n",
    "        raise ValueError(f'The `opMode` value {opMode} is not supported!')\n",
    "    \n",
    "    for ii, (mX, vY) in enumerate(dlData):\n",
    "        # Move Data to Model's device\n",
    "        mX = mX.to(runDevice) #<! Lazy\n",
    "        vY = vY.to(runDevice) #<! Lazy\n",
    "\n",
    "        batchSize = mX.shape[0]\n",
    "        \n",
    "        if opMode == NNMode.TRAIN:\n",
    "            # Forward\n",
    "            mZ      = oModel(mX) #<! Model output\n",
    "            valLoss = hL(mZ, vY) #<! Loss\n",
    "            \n",
    "            # Backward\n",
    "            oOpt.zero_grad()    #<! Set gradients to zeros\n",
    "            valLoss.backward()  #<! Backward\n",
    "            oOpt.step()         #<! Update parameters\n",
    "            oModel.eval()       #<! Inference mode for layers\n",
    "        else: #<! Value of `opMode` was already validated\n",
    "            with torch.inference_mode(): #<! The `torch.inference_mode()` scope is more optimized than `torch.no_grad()` \n",
    "                # No computational graph\n",
    "                mZ      = oModel(mX) #<! Model output\n",
    "                valLoss = hL(mZ, vY) #<! Loss\n",
    "\n",
    "        with torch.inference_mode():\n",
    "            # Score\n",
    "            oModel.eval() #<! Ensure Evaluation Mode (Dropout / Normalization layers)\n",
    "            valScore = hS(mZ, vY)\n",
    "            # Normalize so each sample has the same weight\n",
    "            epochLoss  += batchSize * valLoss.item()\n",
    "            epochScore += batchSize * valScore.item()\n",
    "            numSamples += batchSize\n",
    "            oModel.train(trainMode) #<! Restore original mode\n",
    "\n",
    "        print(f'\\r{\"Train\" if trainMode else \"Val\"} - Iteration: {(ii + 1):3d} / {numBatches}, Loss: {valLoss:.6f}', end = '')\n",
    "    \n",
    "    print('', end = '\\r')\n",
    "            \n",
    "    return epochLoss / numSamples, epochScore / numSamples"
   ]
  },
  {
   "cell_type": "code",
   "execution_count": null,
   "metadata": {},
   "outputs": [],
   "source": [
    "# Training Model Loop Function\n",
    "\n",
    "def TrainModel( \n",
    "        oModel: nn.Module, \n",
    "        dlTrain: DataLoader, \n",
    "        dlVal: DataLoader, \n",
    "        oOpt: Optimizer, \n",
    "        numEpoch: int, \n",
    "        hL: Callable, \n",
    "        hS: Callable, *, \n",
    "        oSch: Optional[LRScheduler] = None, \n",
    "        oTBWriter: Optional[SummaryWriter] = None\n",
    "    ) -> Tuple[nn.Module, List, List, List, List]:\n",
    "    \"\"\"\n",
    "    Trains a model given test and validation data loaders.  \n",
    "    Input:\n",
    "        oModel      - PyTorch `nn.Module` object.\n",
    "        dlTrain     - PyTorch `Dataloader` object (Training).\n",
    "        dlVal       - PyTorch `Dataloader` object (Validation).\n",
    "        oOpt        - PyTorch `Optimizer` object.\n",
    "        numEpoch    - Number of epochs to run.\n",
    "        hL          - Callable for the Loss function.\n",
    "        hS          - Callable for the Score function.\n",
    "        oSch        - PyTorch `Scheduler` (`LRScheduler`) object.\n",
    "        oTBWriter   - PyTorch `SummaryWriter` object (TensorBoard).\n",
    "    Output:\n",
    "        lTrainLoss  - Scalar of the loss.\n",
    "        lTrainScore - Scalar of the score.\n",
    "        lValLoss    - Scalar of the score.\n",
    "        lValScore   - Scalar of the score.\n",
    "        lLearnRate  - Scalar of the score.\n",
    "    Remarks:\n",
    "      - The `oDataSet` object returns a Tuple of (mX, vY) per batch.\n",
    "      - The `hL` function should accept the `vY` (Reference target) and `mZ` (Output of the NN).  \n",
    "        It should return a Tuple of `valLoss` (Scalar of the loss) and `mDz` (Gradient by the loss).\n",
    "      - The `hS` function should accept the `vY` (Reference target) and `mZ` (Output of the NN).  \n",
    "        It should return a scalar `valScore` of the score.\n",
    "      - The optimizer is required for training mode.\n",
    "    \"\"\"\n",
    "\n",
    "    lTrainLoss  = []\n",
    "    lTrainScore = []\n",
    "    lValLoss    = []\n",
    "    lValScore   = []\n",
    "    lLearnRate  = []\n",
    "\n",
    "    # Support R2\n",
    "    bestScore = -1e9 #<! Assuming higher is better\n",
    "\n",
    "    learnRate = oOpt.param_groups[0]['lr']\n",
    "\n",
    "    for ii in range(numEpoch):\n",
    "        startTime           = time.time()\n",
    "        trainLoss, trainScr = RunEpoch(oModel, dlTrain, hL, hS, oOpt, opMode = NNMode.TRAIN) #<! Train\n",
    "        valLoss,   valScr   = RunEpoch(oModel, dlVal, hL, hS, oOpt, opMode = NNMode.INFERENCE) #<! Score Validation\n",
    "        if oSch is not None:\n",
    "            # Adjusting the scheduler on Epoch level\n",
    "            learnRate = oSch.get_last_lr()[0]\n",
    "            oSch.step()\n",
    "        epochTime           = time.time() - startTime\n",
    "\n",
    "        # Aggregate Results\n",
    "        lTrainLoss.append(trainLoss)\n",
    "        lTrainScore.append(trainScr)\n",
    "        lValLoss.append(valLoss)\n",
    "        lValScore.append(valScr)\n",
    "        lLearnRate.append(learnRate)\n",
    "\n",
    "        if oTBWriter is not None:\n",
    "            oTBWriter.add_scalars('Loss (Epoch)', {'Train': trainLoss, 'Validation': valLoss}, ii)\n",
    "            oTBWriter.add_scalars('Score (Epoch)', {'Train': trainScr, 'Validation': valScr}, ii)\n",
    "            oTBWriter.add_scalar('Learning Rate', learnRate, ii)\n",
    "        \n",
    "        # Display (Babysitting)\n",
    "        print('Epoch '              f'{(ii + 1):4d} / ' f'{numEpoch}', end = '')\n",
    "        print(' | Train Loss: '     f'{trainLoss          :6.3f}', end = '')\n",
    "        print(' | Val Loss: '       f'{valLoss            :6.3f}', end = '')\n",
    "        print(' | Train Score: '    f'{trainScr           :6.3f}', end = '')\n",
    "        print(' | Val Score: '      f'{valScr             :6.3f}', end = '')\n",
    "        print(' | Epoch Time: '     f'{epochTime          :5.2f}', end = '')\n",
    "\n",
    "        # Save best model (\"Early Stopping\")\n",
    "        if valScr > bestScore:\n",
    "            bestScore = valScr\n",
    "            try:\n",
    "                dCheckPoint = {'Model': oModel.state_dict(), 'Optimizer': oOpt.state_dict()}\n",
    "                if oSch is not None:\n",
    "                    dCheckPoint['Scheduler'] = oSch.state_dict()\n",
    "                torch.save(dCheckPoint, 'BestModel.pt')\n",
    "                print(' | <-- Checkpoint!', end = '')\n",
    "            except:\n",
    "                print(' | <-- Failed!', end = '')\n",
    "        print(' |')\n",
    "    \n",
    "    # Load best model (\"Early Stopping\")\n",
    "    # dCheckPoint = torch.load('BestModel.pt')\n",
    "    # oModel.load_state_dict(dCheckPoint['Model'])\n",
    "\n",
    "    return oModel, lTrainLoss, lTrainScore, lValLoss, lValScore, lLearnRate"
   ]
  },
  {
   "cell_type": "markdown",
   "metadata": {},
   "source": [
    "### Training Phase"
   ]
  },
  {
   "cell_type": "code",
   "execution_count": null,
   "metadata": {},
   "outputs": [],
   "source": [
    "# Check GPU Availability\n",
    "\n",
    "runDevice = torch.device('cuda:0' if torch.cuda.is_available() else 'cpu') #<! The 1st CUDA device\n",
    "oModel    = oModel.to(runDevice) #<! Transfer model to device"
   ]
  },
  {
   "cell_type": "code",
   "execution_count": null,
   "metadata": {},
   "outputs": [],
   "source": [
    "# Set the Loss & Score\n",
    "\n",
    "hL = nn.MSELoss() #<! Mean Squared Error\n",
    "hS = R2Score(multioutput = 'uniform_average') #<! R² Score\n",
    "hS = hS.to(runDevice)"
   ]
  },
  {
   "cell_type": "code",
   "execution_count": null,
   "metadata": {},
   "outputs": [],
   "source": [
    "# Define Optimizer\n",
    "\n",
    "oOpt = torch.optim.AdamW(oModel.parameters(), lr = 1e-4, betas = (0.9, 0.99), weight_decay = 1e-5) #<! Define optimizer"
   ]
  },
  {
   "cell_type": "code",
   "execution_count": null,
   "metadata": {},
   "outputs": [],
   "source": [
    "# Train the Model\n",
    "\n",
    "oRunModel, lTrainLoss, lTrainScore, lValLoss, lValScore, _ = TrainModel(oModel, dlTrain, dlTest, oOpt, nEpochs, hL, hS)"
   ]
  },
  {
   "cell_type": "code",
   "execution_count": null,
   "metadata": {},
   "outputs": [],
   "source": [
    "# Plot Results\n",
    "hF, vHa = plt.subplots(nrows = 1, ncols = 2, figsize = (12, 6))\n",
    "vHa = vHa.flat\n",
    "\n",
    "hA = vHa[0]\n",
    "hA.plot(lTrainLoss, lw = 2, label = 'Train Loss')\n",
    "hA.plot(lValLoss, lw = 2, label = 'Validation Loss')\n",
    "hA.grid()\n",
    "hA.set_title('Cross Entropy Loss')\n",
    "hA.set_xlabel('Epoch Index')\n",
    "hA.set_ylabel('Loss')\n",
    "hA.legend();\n",
    "\n",
    "\n",
    "hA = vHa[1]\n",
    "hA.plot(lTrainScore, lw = 2, label = 'Train Score')\n",
    "hA.plot(lValScore, lw = 2, label = 'Validation Score')\n",
    "hA.grid()\n",
    "hA.set_title('Accuracy Score')\n",
    "hA.set_xlabel('Epoch Index')\n",
    "hA.set_ylabel('Score')\n",
    "hA.legend();"
   ]
  },
  {
   "cell_type": "markdown",
   "metadata": {},
   "source": [
    "## Results Analysis \n",
    "\n",
    "This section runs the model on the test data and analyze results."
   ]
  },
  {
   "cell_type": "markdown",
   "metadata": {},
   "source": [
    "### Test Data Results"
   ]
  },
  {
   "cell_type": "code",
   "execution_count": null,
   "metadata": {},
   "outputs": [],
   "source": [
    "# Run on Test Data\n",
    "lYY     = []\n",
    "lYYHat  = []\n",
    "with torch.inference_mode():\n",
    "    for tXX, vYY in dlTest:\n",
    "        tXX = tXX.to(runDevice)\n",
    "        lYY.append(vYY)\n",
    "        lYYHat.append(oModel(tXX))\n",
    "\n",
    "vYY    = torch.cat(lYY, dim = 0).cpu().numpy()\n",
    "vYYHat = torch.cat(lYYHat, dim = 0).cpu().numpy()"
   ]
  },
  {
   "cell_type": "markdown",
   "metadata": {},
   "source": [
    "* <font color='brown'>(**#**)</font> One could run the above using `mXTest`.  \n",
    "  The motivation is to show the general way which can handle large data set."
   ]
  },
  {
   "cell_type": "code",
   "execution_count": null,
   "metadata": {},
   "outputs": [],
   "source": [
    "# Plot Regression Result\n",
    "\n",
    "# Plot the Data\n",
    "\n",
    "scoreR2 = hS(torch.tensor(vYY), torch.tensor(vYYHat))\n",
    "\n",
    "hF, hA = plt.subplots(figsize = (14, 5))\n",
    "hA = PlotRegressionResults(vYY, vYYHat, hA = hA)\n",
    "hA.set_title(f'Test Data Set, R2 = {scoreR2:0.2f}')\n",
    "hA.grid()\n",
    "hA.set_xlabel('Input Frequency')\n",
    "hA.set_ylabel('Estimated Frequency')\n",
    "\n",
    "plt.show()"
   ]
  },
  {
   "cell_type": "markdown",
   "metadata": {},
   "source": [
    "* <font color='red'>(**?**)</font> Can you find where the model struggles?\n",
    "* <font color='red'>(**?**)</font> Can it handle shorter signals? For examples 200 samples. How?\n",
    "* <font color='red'>(**?**)</font> How will it generalize to cases with frequency above `maxFreq`?"
   ]
  },
  {
   "cell_type": "markdown",
   "metadata": {},
   "source": [
    "### Extended Test Set\n",
    "\n",
    "This section shows the performance of the model on data with frequencies spanned on the range `[0, 2 * maxFreq]`."
   ]
  },
  {
   "cell_type": "code",
   "execution_count": null,
   "metadata": {},
   "outputs": [],
   "source": [
    "# Generate Data\n",
    "\n",
    "mXTest, vYTest = GenHarmonicData(numSignalsTest, numSamples, samplingFreq, 2 * maxFreq, σ)  #<! Test Data"
   ]
  },
  {
   "cell_type": "code",
   "execution_count": null,
   "metadata": {},
   "outputs": [],
   "source": [
    "# Run on Test Data\n",
    "\n",
    "with torch.inference_mode(): #<! No Computational Graph\n",
    "    vYTestHat = oModel(mXTest.view(numSignalsTest, 1, -1).to(runDevice))\n",
    "\n",
    "vYTestHat = vYTestHat.cpu()"
   ]
  },
  {
   "cell_type": "code",
   "execution_count": null,
   "metadata": {},
   "outputs": [],
   "source": [
    "# Plot Regression Result\n",
    "\n",
    "# Plot the Data\n",
    "\n",
    "scoreR2 = hS(vYTest, vYTestHat)\n",
    "\n",
    "hF, hA = plt.subplots(figsize = (14, 5))\n",
    "hA = PlotRegressionResults(vYTest.cpu().numpy(), vYTestHat.cpu().numpy(), hA = hA)\n",
    "hA.set_title(f'Test Data Set, R2 = {scoreR2:0.2f}')\n",
    "hA.grid()\n",
    "hA.set_xlabel('Input Frequency')\n",
    "hA.set_ylabel('Estimated Frequency')\n",
    "\n",
    "plt.show()"
   ]
  },
  {
   "cell_type": "markdown",
   "metadata": {},
   "source": [
    "* <font color='red'>(**?**)</font> Why does the model perform poorly?\n",
    "* <font color='brown'>(**#**)</font> DL models do extrapolate and able to generalize (Think model which plays Chess).  \n",
    "  Yet in order to generalize, the model loss and architecture must reflect the task well.  \n",
    "  For most common cases, one must validate the train set matches the production data."
   ]
  }
 ],
 "metadata": {
  "kernelspec": {
   "display_name": "Python 3",
   "language": "python",
   "name": "python3"
  },
  "language_info": {
   "codemirror_mode": {
    "name": "ipython",
    "version": 3
   },
   "file_extension": ".py",
   "mimetype": "text/x-python",
   "name": "python",
   "nbconvert_exporter": "python",
   "pygments_lexer": "ipython3",
   "version": "3.13.7"
  },
  "toc": {
   "base_numbering": 1,
   "nav_menu": {},
   "number_sections": false,
   "sideBar": true,
   "skip_h1_title": false,
   "title_cell": "Table of Contents",
   "title_sidebar": "Contents",
   "toc_cell": false,
   "toc_position": {},
   "toc_section_display": true,
   "toc_window_display": true
  },
  "varInspector": {
   "cols": {
    "lenName": 16,
    "lenType": 16,
    "lenVar": 40
   },
   "kernels_config": {
    "python": {
     "delete_cmd_postfix": "",
     "delete_cmd_prefix": "del ",
     "library": "var_list.py",
     "varRefreshCmd": "print(var_dic_list())"
    },
    "r": {
     "delete_cmd_postfix": ") ",
     "delete_cmd_prefix": "rm(",
     "library": "var_list.r",
     "varRefreshCmd": "cat(var_dic_list()) "
    }
   },
   "types_to_exclude": [
    "module",
    "function",
    "builtin_function_or_method",
    "instance",
    "_Feature"
   ],
   "window_display": false
  }
 },
 "nbformat": 4,
 "nbformat_minor": 4
}
