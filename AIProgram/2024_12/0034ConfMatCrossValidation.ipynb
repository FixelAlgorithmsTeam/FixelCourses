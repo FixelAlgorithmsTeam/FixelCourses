{
 "cells": [
  {
   "attachments": {},
   "cell_type": "markdown",
   "metadata": {},
   "source": [
    "[![Fixel Algorithms](https://i.imgur.com/AqKHVZ0.png)](https://fixelalgorithms.gitlab.io/)\n",
    "\n",
    "# AI Program\n",
    "\n",
    "## Machine Learning - Supervised Learning - Classification - Confusion Matrix and Cross Validation - Exercise\n",
    "\n",
    "> Notebook by:\n",
    "> - Royi Avital RoyiAvital@fixelalgorithms.com\n",
    "\n",
    "## Revision History\n",
    "\n",
    "| Version | Date       | User        |Content / Changes                                                   |\n",
    "|---------|------------|-------------|--------------------------------------------------------------------|\n",
    "| 1.0.001 | 20/03/2024 | Royi Avital | Added SSL bypass in case of failing SSL Certificate                |\n",
    "| 1.0.000 | 13/03/2024 | Royi Avital | First version                                                      |"
   ]
  },
  {
   "attachments": {},
   "cell_type": "markdown",
   "metadata": {},
   "source": [
    "[![Open In Colab](https://colab.research.google.com/assets/colab-badge.svg)](https://colab.research.google.com/github/FixelAlgorithmsTeam/FixelCourses/blob/master/AIProgram/2024_02/0034ConfMatCrossValidation.ipynb)"
   ]
  },
  {
   "cell_type": "code",
   "execution_count": null,
   "metadata": {
    "ExecuteTime": {
     "end_time": "2022-02-02T09:30:06.492269Z",
     "start_time": "2022-02-02T09:30:06.220934Z"
    }
   },
   "outputs": [],
   "source": [
    "# Import Packages\n",
    "\n",
    "# General Tools\n",
    "import numpy as np\n",
    "import scipy as sp\n",
    "import pandas as pd\n",
    "\n",
    "# Machine Learning\n",
    "from sklearn.datasets import fetch_openml\n",
    "from sklearn.model_selection import KFold, StratifiedKFold\n",
    "from sklearn.model_selection import cross_val_predict, train_test_split\n",
    "from sklearn.svm import LinearSVC, SVC\n",
    "\n",
    "# Image Processing\n",
    "\n",
    "# Machine Learning\n",
    "\n",
    "# Miscellaneous\n",
    "import math\n",
    "import os\n",
    "from platform import python_version\n",
    "import random\n",
    "import timeit\n",
    "\n",
    "# Typing\n",
    "from typing import Callable, Dict, List, Optional, Set, Tuple, Union\n",
    "\n",
    "# Visualization\n",
    "import matplotlib as mpl\n",
    "import matplotlib.pyplot as plt\n",
    "import seaborn as sns\n",
    "\n",
    "# Jupyter\n",
    "from IPython import get_ipython\n",
    "from IPython.display import Image\n",
    "from IPython.display import display\n",
    "from ipywidgets import Dropdown, FloatSlider, interact, IntSlider, Layout, SelectionSlider\n",
    "from ipywidgets import interact"
   ]
  },
  {
   "attachments": {},
   "cell_type": "markdown",
   "metadata": {},
   "source": [
    "## Notations\n",
    "\n",
    "* <font color='red'>(**?**)</font> Question to answer interactively.\n",
    "* <font color='blue'>(**!**)</font> Simple task to add code for the notebook.\n",
    "* <font color='green'>(**@**)</font> Optional / Extra self practice.\n",
    "* <font color='brown'>(**#**)</font> Note / Useful resource / Food for thought.\n",
    "\n",
    "Code Notations:\n",
    "\n",
    "```python\n",
    "someVar    = 2; #<! Notation for a variable\n",
    "vVector    = np.random.rand(4) #<! Notation for 1D array\n",
    "mMatrix    = np.random.rand(4, 3) #<! Notation for 2D array\n",
    "tTensor    = np.random.rand(4, 3, 2, 3) #<! Notation for nD array (Tensor)\n",
    "tuTuple    = (1, 2, 3) #<! Notation for a tuple\n",
    "lList      = [1, 2, 3] #<! Notation for a list\n",
    "dDict      = {1: 3, 2: 2, 3: 1} #<! Notation for a dictionary\n",
    "oObj       = MyClass() #<! Notation for an object\n",
    "dfData     = pd.DataFrame() #<! Notation for a data frame\n",
    "dsData     = pd.Series() #<! Notation for a series\n",
    "hObj       = plt.Axes() #<! Notation for an object / handler / function handler\n",
    "```\n",
    "\n",
    "### Code Exercise\n",
    "\n",
    " - Single line fill\n",
    "\n",
    " ```python\n",
    " vallToFill = ???\n",
    " ```\n",
    "\n",
    " - Multi Line to Fill (At least one)\n",
    "\n",
    " ```python\n",
    " # You need to start writing\n",
    " ????\n",
    " ```\n",
    "\n",
    " - Section to Fill\n",
    "\n",
    "```python\n",
    "#===========================Fill This===========================#\n",
    "# 1. Explanation about what to do.\n",
    "# !! Remarks to follow / take under consideration.\n",
    "mX = ???\n",
    "\n",
    "???\n",
    "#===============================================================#\n",
    "```"
   ]
  },
  {
   "cell_type": "code",
   "execution_count": null,
   "metadata": {},
   "outputs": [],
   "source": [
    "# Configuration\n",
    "# %matplotlib inline\n",
    "\n",
    "seedNum = 512\n",
    "np.random.seed(seedNum)\n",
    "random.seed(seedNum)\n",
    "\n",
    "# Matplotlib default color palette\n",
    "lMatPltLibclr = ['#1f77b4', '#ff7f0e', '#2ca02c', '#d62728', '#9467bd', '#8c564b', '#e377c2', '#7f7f7f', '#bcbd22', '#17becf']\n",
    "# sns.set_theme() #>! Apply SeaBorn theme\n",
    "\n",
    "runInGoogleColab = 'google.colab' in str(get_ipython())"
   ]
  },
  {
   "cell_type": "code",
   "execution_count": null,
   "metadata": {},
   "outputs": [],
   "source": [
    "# Constants\n",
    "\n",
    "FIG_SIZE_DEF    = (8, 8)\n",
    "ELM_SIZE_DEF    = 50\n",
    "CLASS_COLOR     = ('b', 'r')\n",
    "EDGE_COLOR      = 'k'\n",
    "MARKER_SIZE_DEF = 10\n",
    "LINE_WIDTH_DEF  = 2"
   ]
  },
  {
   "cell_type": "code",
   "execution_count": null,
   "metadata": {},
   "outputs": [],
   "source": [
    "# Courses Packages\n",
    "\n",
    "from DataVisualization import PlotConfusionMatrix, PlotLabelsHistogram, PlotMnistImages\n"
   ]
  },
  {
   "cell_type": "code",
   "execution_count": null,
   "metadata": {},
   "outputs": [],
   "source": [
    "# General Auxiliary Functions\n",
    "\n"
   ]
  },
  {
   "cell_type": "markdown",
   "metadata": {},
   "source": [
    "## Exercise - Cross Validation with the SVM\n",
    "\n",
    "In this exercise we'll apply the Cross Validation manually to find the optimal `C` parameter for the SVM Model.  \n",
    "Instead of using `cross_val_predict()` we'll do a manual loop on the folds and average the score.\n",
    "\n",
    "1. Load the [MNIST Data set](https://en.wikipedia.org/wiki/MNIST_database) using `fetch_openml()`.\n",
    "2. Split the data using Stratified K Fold.\n",
    "3. For each model (Parameterized by `C`):\n",
    "    - Train model on the train sub set.\n",
    "    - Score model on the test sub set.\n",
    "4. Plot the score per model.\n",
    "5. Plot the Confusion Matrix of the best model on the training data.\n",
    "\n",
    "* <font color='brown'>(**#**)</font> Make sure to chose small number of models and folds at the beginning to measure run time and scale accordingly. \n",
    "* <font color='brown'>(**#**)</font> We'll use `LinearSVC` class which optimized `SVC` with kernel `linear` as it fits for larger data sets.  \n",
    "* <font color='brown'>(**#**)</font> You may and should use the functions in the `Auxiliary Functions` section."
   ]
  },
  {
   "cell_type": "code",
   "execution_count": null,
   "metadata": {},
   "outputs": [],
   "source": [
    "# Parameters\n",
    "\n",
    "numSamples  = 10_000\n",
    "numImg = 3\n",
    "\n",
    "maxItr = 5000 #<! For the LinearSVC model\n",
    "\n",
    "#===========================Fill This===========================#\n",
    "# 1. Set the number of folds.\n",
    "# 1. Set the values of the `C` parameter grid.\n",
    "numFold = ???\n",
    "lC = ???\n",
    "#===============================================================#\n",
    "\n",
    "# Data Visualization\n"
   ]
  },
  {
   "cell_type": "markdown",
   "metadata": {},
   "source": [
    "## Generate / Load Data\n",
    "\n",
    "The _MNIST_ database (Modified National Institute of Standards and Technology database) is a large database of handwritten digits.  \n",
    "The MNIST data is a well known data set in Machine Learning, basically it is the _Hello World_ of ML.\n",
    "\n",
    "The original black and white images from NIST were normalized to fit into a `28x28` pixel bounding box and anti aliased.\n",
    "\n",
    "* <font color='brown'>(**#**)</font> There is an extended version called [EMNIST](https://arxiv.org/abs/1702.05373).\n"
   ]
  },
  {
   "cell_type": "code",
   "execution_count": null,
   "metadata": {},
   "outputs": [],
   "source": [
    "# Failing SSL Certificate\n",
    "# In case `fetch_openml()` fails with SSL Certificate issue, run this.\n",
    "# import ssl\n",
    "# ssl._create_default_https_context = ssl._create_unverified_context"
   ]
  },
  {
   "cell_type": "code",
   "execution_count": null,
   "metadata": {},
   "outputs": [],
   "source": [
    "# Load Data \n",
    "\n",
    "#===========================Fill This===========================#\n",
    "# 1. Load the MNIST Data using `fetch_openml`.\n",
    "# !! Use the option `parser = auto`.\n",
    "mX, vY = ???\n",
    "vY = vY.astype(np.int_) #<! The labels are strings, convert to integer\n",
    "#===============================================================#\n",
    "\n",
    "# The data has many samples, for fast run time we'll sub sample it.\n",
    "\n",
    "vSampleIdx = np.random.choice(mX.shape[0], numSamples)\n",
    "mX = mX[vSampleIdx, :]\n",
    "vY = vY[vSampleIdx]\n",
    "\n",
    "print(f'The features data shape: {mX.shape}')\n",
    "print(f'The labels data shape: {vY.shape}')\n",
    "print(f'The unique values of the labels: {np.unique(vY)}')"
   ]
  },
  {
   "cell_type": "code",
   "execution_count": null,
   "metadata": {},
   "outputs": [],
   "source": [
    "# Pre Process Data\n",
    "# Scaling the data values.\n",
    "\n",
    "# The image is in the range {0, 1, ..., 255}.\n",
    "# We scale it into [0, 1].\n",
    "\n",
    "#===========================Fill This===========================#\n",
    "# 1. Scale the features value into the [0, 1] range.\n",
    "# !! Try implementing it in place.\n",
    "\n",
    "mX = mX / 255.0\n",
    "\n",
    "#===============================================================#"
   ]
  },
  {
   "cell_type": "markdown",
   "metadata": {},
   "source": [
    "### Plot Data"
   ]
  },
  {
   "cell_type": "code",
   "execution_count": null,
   "metadata": {},
   "outputs": [],
   "source": [
    "# Plot the Data\n",
    "\n",
    "hF = PlotMnistImages(mX, vY, numImg)"
   ]
  },
  {
   "cell_type": "markdown",
   "metadata": {},
   "source": [
    "### Distribution of Labels\n",
    "\n",
    "When dealing with classification, it is important to know the balance between the labels within the data set."
   ]
  },
  {
   "cell_type": "code",
   "execution_count": null,
   "metadata": {},
   "outputs": [],
   "source": [
    "# Distribution of Labels\n",
    "\n",
    "hA = PlotLabelsHistogram(vY)\n",
    "plt.show()"
   ]
  },
  {
   "cell_type": "markdown",
   "metadata": {},
   "source": [
    "* <font color='red'>(**?**)</font> Looking at the _histogram_ of labels, Is the data balanced?"
   ]
  },
  {
   "cell_type": "markdown",
   "metadata": {},
   "source": [
    "## Cross Validation\n",
    "\n",
    "The _Cross Validation_ process has 2 main objectives:\n",
    "\n",
    "1. Estimate the real world performance and its stability.   \n",
    "2. Optimize the model _Hyper Parameters_. "
   ]
  },
  {
   "cell_type": "markdown",
   "metadata": {},
   "source": [
    "### Cross Validation for Hyper Parameter Optimization\n",
    "\n",
    "We can also use the _Cross Validation_ approach to search for the best _Hype Parameter_.  \n",
    "The idea is iterating through the data and measure the score we care about.  \n",
    "The hyper parameter which maximize the score will be used for the production model."
   ]
  },
  {
   "cell_type": "markdown",
   "metadata": {},
   "source": [
    "* <font color='red'>(**?**)</font> What kind of a problem is this? Binary Class or Multi Class?\n",
    "* <font color='red'>(**?**)</font> What kind of strategy will be used? Advise documentation.\n",
    "* <font color='brown'>(**#**)</font> When using `LinearSVC`:\n",
    "    *   If #Samples > #Features -> Set `dual = False`.\n",
    "    *   If #Samples < #Features -> Set `dual = True` (Default).\n",
    "* <font color='brown'>(**#**)</font> If you experience converging issues with `LinearSVC` use `SVC`."
   ]
  },
  {
   "cell_type": "code",
   "execution_count": null,
   "metadata": {},
   "outputs": [],
   "source": [
    "# Cross Validation for the C parameter\n",
    "numC = len(lC)\n",
    "mACC = np.zeros(shape = (numFold, numC)) #<! Accuracy per Fold and Model\n",
    "\n",
    "oStrCv = StratifiedKFold(n_splits = numFold, random_state = seedNum, shuffle = True)\n",
    "\n",
    "for ii, (vTrainIdx, vTestIdx) in enumerate(oStrCv.split(mX, vY)):\n",
    "    print(f'Working on Fold #{(ii + 1):02d} Out of {numFold} Folds')\n",
    "    #===========================Fill This===========================#\n",
    "    # Setting the Train / Test split\n",
    "    mXTrain = ???\n",
    "    vYTrain = ???\n",
    "    mXTest  = ???\n",
    "    vYTest  = ???\n",
    "    #===============================================================#\n",
    "    for jj, C in enumerate(lC):\n",
    "        print(f'Working on Model #{(jj + 1):02d} Out of {numC} Models with C = {C:0.4f}')\n",
    "        #===========================Fill This===========================#\n",
    "        # Set the model, train, score\n",
    "        # Set `max_iter = maxItr`\n",
    "        # Set `dual = False`\n",
    "        oSvmCls     = ???\n",
    "        oSvmCls     = ???\n",
    "        accScore    = ???\n",
    "        #===============================================================#\n",
    "        mACC[ii, jj] = accScore\n",
    "\n"
   ]
  },
  {
   "cell_type": "markdown",
   "metadata": {},
   "source": [
    "* <font color='red'>(**?**)</font> How can we accelerate the above calculation?   \n",
    "  Think about dependency between the scores, does it exist?"
   ]
  },
  {
   "cell_type": "code",
   "execution_count": null,
   "metadata": {},
   "outputs": [],
   "source": [
    "# Model Score\n",
    "\n",
    "#===========================Fill This===========================#\n",
    "# 1. Calculate the score per model (Reduction).\n",
    "# !! Average over the different folds.\n",
    "\n",
    "vAvgAcc = ??? #<! Accuracy\n",
    "#===============================================================#"
   ]
  },
  {
   "cell_type": "markdown",
   "metadata": {},
   "source": [
    "* <font color='red'>(**?**)</font> In the above we used the mean as the reduction operator of many results into one. Can you think on other operators?\n",
    "* <font color='blue'>(**!**)</font> Try using a different reduction method and see results."
   ]
  },
  {
   "cell_type": "code",
   "execution_count": null,
   "metadata": {},
   "outputs": [],
   "source": [
    "# Plot Results\n",
    "\n",
    "hF, hA = plt.subplots(figsize = FIG_SIZE_DEF)\n",
    "hA.plot(lC, vAvgAcc)\n",
    "hA.scatter(lC, vAvgAcc, s = 100)\n",
    "hA.set_title(f'Accuracy Score as a Function of C - Average of {numFold} Folds')\n",
    "hA.set_xlabel('C')\n",
    "hA.set_ylabel('Accuracy')\n",
    "hA.set_xticks(lC)\n",
    "hA.grid()\n",
    "\n",
    "plt.show()"
   ]
  },
  {
   "cell_type": "markdown",
   "metadata": {},
   "source": [
    "* <font color='red'>(**?**)</font> What range would you choose to do a fine tune over?"
   ]
  },
  {
   "cell_type": "markdown",
   "metadata": {},
   "source": [
    "## Confusion Matrix\n",
    "\n",
    "The confusion matrix is almost the whole story for classification problems.  \n",
    "\n",
    "Train the model with the best parameter on the whole data and plot the _Confusion Matrix_."
   ]
  },
  {
   "cell_type": "code",
   "execution_count": null,
   "metadata": {},
   "outputs": [],
   "source": [
    "# Optimal Parameter\n",
    "\n",
    "#===========================Fill This===========================#\n",
    "# Extract the optimal C\n",
    "# Look at `np.argmax()`\n",
    "\n",
    "optC = ??? #<! Optimal `C` value \n",
    "#===============================================================#\n",
    "\n",
    "print(f'The optimal C value is C = {optC}')\n"
   ]
  },
  {
   "cell_type": "code",
   "execution_count": null,
   "metadata": {},
   "outputs": [],
   "source": [
    "# Plot the Confusion Matrix \n",
    "\n",
    "#===========================Fill This===========================#\n",
    "# 1. Build the SVC model with the best parameter.\n",
    "# 2. Fit & Predict using the model.\n",
    "# 3. Calculate the accuracy score.\n",
    "oSvmCls = ??? #<! The model object\n",
    "oSvmCls = ??? #<! Fit to data\n",
    "vYPred = ??? #<! Predict on the data\n",
    "dScore = {'Accuracy': np.mean(vYPred == vY)} #<! Dictionary with the `Accuracy` as its key\n",
    "#===============================================================#\n",
    "\n",
    "hF, hA = plt.subplots(figsize = (9, 9))\n",
    "\n",
    "PlotConfusionMatrix(vY, vYPred, normMethod = 'true', hA = hA, dScore = dScore, valFormat = '0.1%') #<! The accuracy should be >= than above!\n",
    "plt.show()"
   ]
  },
  {
   "cell_type": "markdown",
   "metadata": {},
   "source": [
    "* <font color='red'>(**?**)</font> Is the accuracy above higher or smaller than the one on the _cross validation_? Why?\n",
    "* <font color='blue'>(**!**)</font> Run the above using `SVC()` instead of `LinearSVC()`."
   ]
  }
 ],
 "metadata": {
  "kernelspec": {
   "display_name": "Python 3",
   "language": "python",
   "name": "python3"
  },
  "language_info": {
   "codemirror_mode": {
    "name": "ipython",
    "version": 3
   },
   "file_extension": ".py",
   "mimetype": "text/x-python",
   "name": "python",
   "nbconvert_exporter": "python",
   "pygments_lexer": "ipython3",
   "version": "3.11.8"
  },
  "toc": {
   "base_numbering": 1,
   "nav_menu": {},
   "number_sections": false,
   "sideBar": true,
   "skip_h1_title": false,
   "title_cell": "Table of Contents",
   "title_sidebar": "Contents",
   "toc_cell": false,
   "toc_position": {},
   "toc_section_display": true,
   "toc_window_display": true
  },
  "varInspector": {
   "cols": {
    "lenName": 16,
    "lenType": 16,
    "lenVar": 40
   },
   "kernels_config": {
    "python": {
     "delete_cmd_postfix": "",
     "delete_cmd_prefix": "del ",
     "library": "var_list.py",
     "varRefreshCmd": "print(var_dic_list())"
    },
    "r": {
     "delete_cmd_postfix": ") ",
     "delete_cmd_prefix": "rm(",
     "library": "var_list.r",
     "varRefreshCmd": "cat(var_dic_list()) "
    }
   },
   "types_to_exclude": [
    "module",
    "function",
    "builtin_function_or_method",
    "instance",
    "_Feature"
   ],
   "window_display": false
  },
  "vscode": {
   "interpreter": {
    "hash": "39577bab1f263e62e0b74f5b8086bd735049bf4751f6562b2d4b2969dc308293"
   }
  }
 },
 "nbformat": 4,
 "nbformat_minor": 4
}
