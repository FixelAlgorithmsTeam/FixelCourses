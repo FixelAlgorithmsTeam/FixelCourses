{
 "cells": [
  {
   "attachments": {},
   "cell_type": "markdown",
   "metadata": {},
   "source": [
    "[![Fixel Algorithms](https://i.imgur.com/AqKHVZ0.png)](https://fixelalgorithms.gitlab.io/)\n",
    "\n",
    "# AI Program\n",
    "\n",
    "## Machine Learning - Deep Learning - Vanilla Neural Network\n",
    "\n",
    "> Notebook by:\n",
    "> - Royi Avital RoyiAvital@fixelalgorithms.com\n",
    "\n",
    "## Revision History\n",
    "\n",
    "| Version | Date       | User        |Content / Changes                                                   |\n",
    "|---------|------------|-------------|--------------------------------------------------------------------|\n",
    "| 1.0.000 | 22/04/2024 | Royi Avital | First version                                                      |"
   ]
  },
  {
   "attachments": {},
   "cell_type": "markdown",
   "metadata": {},
   "source": [
    "[![Open In Colab](https://colab.research.google.com/assets/colab-badge.svg)](https://colab.research.google.com/github/FixelAlgorithmsTeam/FixelCourses/blob/master/AIProgram/2024_02/0074DeepLearningVanillaNN.ipynb)"
   ]
  },
  {
   "cell_type": "code",
   "execution_count": null,
   "metadata": {
    "ExecuteTime": {
     "end_time": "2022-02-02T09:30:06.492269Z",
     "start_time": "2022-02-02T09:30:06.220934Z"
    }
   },
   "outputs": [],
   "source": [
    "# Import Packages\n",
    "\n",
    "# General Tools\n",
    "import numpy as np\n",
    "import scipy as sp\n",
    "import pandas as pd\n",
    "\n",
    "# Machine Learning\n",
    "from sklearn.datasets import fetch_openml\n",
    "from sklearn.model_selection import train_test_split\n",
    "\n",
    "# Miscellaneous\n",
    "import math\n",
    "import os\n",
    "from platform import python_version\n",
    "import random\n",
    "import timeit\n",
    "\n",
    "# Typing\n",
    "from typing import Callable, Dict, List, Optional, Self, Set, Tuple, Union\n",
    "\n",
    "# Visualization\n",
    "import matplotlib as mpl\n",
    "import matplotlib.pyplot as plt\n",
    "import seaborn as sns\n",
    "\n",
    "# Jupyter\n",
    "from IPython import get_ipython\n",
    "from IPython.display import Image\n",
    "from IPython.display import display\n",
    "from ipywidgets import Dropdown, FloatSlider, interact, IntSlider, Layout, SelectionSlider\n",
    "from ipywidgets import interact"
   ]
  },
  {
   "attachments": {},
   "cell_type": "markdown",
   "metadata": {},
   "source": [
    "## Notations\n",
    "\n",
    "* <font color='red'>(**?**)</font> Question to answer interactively.\n",
    "* <font color='blue'>(**!**)</font> Simple task to add code for the notebook.\n",
    "* <font color='green'>(**@**)</font> Optional / Extra self practice.\n",
    "* <font color='brown'>(**#**)</font> Note / Useful resource / Food for thought.\n",
    "\n",
    "Code Notations:\n",
    "\n",
    "```python\n",
    "someVar    = 2; #<! Notation for a variable\n",
    "vVector    = np.random.rand(4) #<! Notation for 1D array\n",
    "mMatrix    = np.random.rand(4, 3) #<! Notation for 2D array\n",
    "tTensor    = np.random.rand(4, 3, 2, 3) #<! Notation for nD array (Tensor)\n",
    "tuTuple    = (1, 2, 3) #<! Notation for a tuple\n",
    "lList      = [1, 2, 3] #<! Notation for a list\n",
    "dDict      = {1: 3, 2: 2, 3: 1} #<! Notation for a dictionary\n",
    "oObj       = MyClass() #<! Notation for an object\n",
    "dfData     = pd.DataFrame() #<! Notation for a data frame\n",
    "dsData     = pd.Series() #<! Notation for a series\n",
    "hObj       = plt.Axes() #<! Notation for an object / handler / function handler\n",
    "```\n",
    "\n",
    "### Code Exercise\n",
    "\n",
    " - Single line fill\n",
    "\n",
    " ```python\n",
    " vallToFill = ???\n",
    " ```\n",
    "\n",
    " - Multi Line to Fill (At least one)\n",
    "\n",
    " ```python\n",
    " # You need to start writing\n",
    " ????\n",
    " ```\n",
    "\n",
    " - Section to Fill\n",
    "\n",
    "```python\n",
    "#===========================Fill This===========================#\n",
    "# 1. Explanation about what to do.\n",
    "# !! Remarks to follow / take under consideration.\n",
    "mX = ???\n",
    "\n",
    "???\n",
    "#===============================================================#\n",
    "```"
   ]
  },
  {
   "cell_type": "code",
   "execution_count": null,
   "metadata": {},
   "outputs": [],
   "source": [
    "# Configuration\n",
    "# %matplotlib inline\n",
    "\n",
    "seedNum = 512\n",
    "np.random.seed(seedNum)\n",
    "random.seed(seedNum)\n",
    "\n",
    "# Matplotlib default color palette\n",
    "lMatPltLibclr = ['#1f77b4', '#ff7f0e', '#2ca02c', '#d62728', '#9467bd', '#8c564b', '#e377c2', '#7f7f7f', '#bcbd22', '#17becf']\n",
    "# sns.set_theme() #>! Apply SeaBorn theme\n",
    "\n",
    "runInGoogleColab = 'google.colab' in str(get_ipython())\n"
   ]
  },
  {
   "cell_type": "code",
   "execution_count": null,
   "metadata": {},
   "outputs": [],
   "source": [
    "# Constants\n",
    "\n",
    "FIG_SIZE_DEF    = (8, 8)\n",
    "ELM_SIZE_DEF    = 50\n",
    "CLASS_COLOR     = ('b', 'r')\n",
    "EDGE_COLOR      = 'k'\n",
    "MARKER_SIZE_DEF = 10\n",
    "LINE_WIDTH_DEF  = 2\n"
   ]
  },
  {
   "cell_type": "code",
   "execution_count": null,
   "metadata": {},
   "outputs": [],
   "source": [
    "# Courses Packages\n",
    "\n",
    "from DataVisualization import PlotConfusionMatrix, PlotLabelsHistogram, PlotMnistImages\n"
   ]
  },
  {
   "cell_type": "code",
   "execution_count": null,
   "metadata": {},
   "outputs": [],
   "source": [
    "# General Auxiliary Functions\n"
   ]
  },
  {
   "cell_type": "markdown",
   "metadata": {},
   "source": [
    "## Neural Network Classifier\n",
    "\n",
    "This notebook builds a Neural Network based on _ReLU_ activation and a single _Hidden Layer_ for a classification.  \n",
    "The model is trained with a simple _Gradient Descent_ loop with a constant _step size_.\n",
    "\n",
    "* <font color='brown'>(**#**)</font> The Neural Net will be implemented using _NumPy_."
   ]
  },
  {
   "cell_type": "code",
   "execution_count": null,
   "metadata": {},
   "outputs": [],
   "source": [
    "# Parameters\n",
    "\n",
    "# Data\n",
    "numSamplesTrain = 60_000\n",
    "numSamplesTest  = 10_000\n",
    "\n",
    "# Model\n",
    "hidLayerDim = 200\n",
    "\n",
    "# Training\n",
    "numIter = 300\n",
    "µ       = 0.35 #!< Step Size \\ Learning Rate\n",
    "\n",
    "# Visualization\n",
    "numImg = 3\n"
   ]
  },
  {
   "cell_type": "markdown",
   "metadata": {},
   "source": [
    "## Generate / Load Data\n",
    "\n",
    "This section loads the [MNIST Data set](https://en.wikipedia.org/wiki/MNIST_database) using [`fetch_openml()`](https://scikit-learn.org/stable/modules/generated/sklearn.datasets.fetch_openml.html).\n",
    "\n",
    "The data is splitted to 60,000 train samples and 10,000 test samples."
   ]
  },
  {
   "cell_type": "code",
   "execution_count": null,
   "metadata": {},
   "outputs": [],
   "source": [
    "# Load Data\n",
    "\n",
    "mX, vY = fetch_openml('mnist_784', version = 1, return_X_y = True, as_frame = False, parser = 'auto')\n",
    "vY = vY.astype(np.int_) #<! The labels are strings, convert to integer\n",
    "\n",
    "print(f'The features data shape: {mX.shape}')\n",
    "print(f'The labels data shape: {vY.shape}')\n",
    "print(f'The unique values of the labels: {np.unique(vY)}')\n"
   ]
  },
  {
   "cell_type": "code",
   "execution_count": null,
   "metadata": {},
   "outputs": [],
   "source": [
    "# Pre Process Data\n",
    "\n",
    "mX = mX / 255.0\n"
   ]
  },
  {
   "cell_type": "markdown",
   "metadata": {},
   "source": [
    "* <font color='red'>(**?**)</font> Does the scaling affects the training phase? Think about the _Learning Rate_."
   ]
  },
  {
   "cell_type": "markdown",
   "metadata": {},
   "source": [
    "### Plot the Data"
   ]
  },
  {
   "cell_type": "code",
   "execution_count": null,
   "metadata": {},
   "outputs": [],
   "source": [
    "# Plot the Data\n",
    "\n",
    "hF = PlotMnistImages(mX, vY, numImg)"
   ]
  },
  {
   "cell_type": "code",
   "execution_count": null,
   "metadata": {},
   "outputs": [],
   "source": [
    "# Histogram of Labels\n",
    "\n",
    "hA = PlotLabelsHistogram(vY)\n",
    "plt.show()"
   ]
  },
  {
   "cell_type": "markdown",
   "metadata": {},
   "source": [
    "### Train & Test Split\n",
    "\n",
    "The data is split into _Train_ and _Test_ data sets.  \n",
    "\n",
    "* <font color='brown'>(**#**)</font> Deep Learning is _big data_ oriented, hence it can easily handle all samples in a single _batch_."
   ]
  },
  {
   "cell_type": "code",
   "execution_count": null,
   "metadata": {},
   "outputs": [],
   "source": [
    "# Train Test Split\n",
    "\n",
    "numClass = len(np.unique(vY))\n",
    "mXTrain, mXTest, vYTrain, vYTest = train_test_split(mX, vY, test_size = numSamplesTest, train_size = numSamplesTrain, shuffle = True, stratify = vY)\n",
    "\n",
    "print(f'The training features data shape: {mXTrain.shape}')\n",
    "print(f'The training labels data shape: {vYTrain.shape}')\n",
    "print(f'The test features data shape: {mXTest.shape}')\n",
    "print(f'The test labels data shape: {vYTest.shape}')\n",
    "print(f'The unique values of the labels: {np.unique(vY)}')"
   ]
  },
  {
   "cell_type": "markdown",
   "metadata": {},
   "source": [
    "## Neural Network Classifier\n",
    "\n",
    "This section builds a Neural Network with a single hidden layer.  \n",
    "\n",
    "The network architecture is given by:\n",
    "\n",
    "![Neural Netwrok Classifier Architecture](https://github.com/FixelAlgorithmsTeam/FixelCourses/blob/master/DeepLearningMethods/01_DeepLearningFramework/OneHiddenLayerModel.png?raw=true)\n",
    "\n",
    "* <font color='brown'>(**#**)</font> Deep Learning is the set of methods how to train Neural Networks with many hidden layers as this case requires a delicate handling."
   ]
  },
  {
   "cell_type": "markdown",
   "metadata": {},
   "source": [
    "### Math Building Blocks\n",
    "\n",
    "\\begin{align*}\n",
    "\\boldsymbol{x}\\in\\mathbb{R}^{784},\\quad & \\boldsymbol{W}_{1}\\in\\mathbb{R}^{d\\times784},\\quad\\boldsymbol{W}_{2}\\in\\mathbb{R}^{10\\times d}\\\\\n",
    "\\hat{\\boldsymbol{y}}\\in\\mathbb{R}^{10},\\quad & \\boldsymbol{b}_{1}\\in\\mathbb{R}^{d},\\qquad\\boldsymbol{b}_{2}\\in\\mathbb{R}^{10}\n",
    "\\end{align*}\n",
    "\n",
    " * The hidden layer dimension is given by $d$.\n",
    " * The number of classes is 10.  \n",
    "\n",
    "\n",
    "For simplicity, we denote:\n",
    "\n",
    "$$\\hat{\\boldsymbol{y}}_{i}=\\text{softmax}\\left(\\boldsymbol{z}_i\\right)$$\n",
    "\n",
    "Where\n",
    "\n",
    "$$\\boldsymbol{z}_i=\\boldsymbol{W}_{2}\\boldsymbol{a}_{i}+\\boldsymbol{b}_{2},\\qquad\\boldsymbol{a}_{i}=\\text{ReLU}\\left(\\boldsymbol{W}_{1}\\boldsymbol{x}_{i}+\\boldsymbol{b}_{1}\\right)$$\n",
    "\n",
    "The data is arranged as:\n",
    "\n",
    "$$\\boldsymbol{X}=\\left[\\begin{matrix}| &  & |\\\\\n",
    "\\boldsymbol{x}_{1} & \\cdots & \\boldsymbol{x}_{N}\\\\\n",
    "| &  & |\n",
    "\\end{matrix}\\right]\\in\\mathbb{R}^{784\\times N},\\qquad\\hat{\\boldsymbol{Y}}=\\left[\\begin{matrix}| &  & |\\\\\n",
    "\\hat{\\boldsymbol{y}}_{1} & \\cdots & \\hat{\\boldsymbol{y}}_{N}\\\\\n",
    "| &  & |\n",
    "\\end{matrix}\\right]\\in\\mathbb{R}^{10\\times N}$$\n",
    "\n",
    "* <font color='brown'>(**#**)</font> The default in data processing is having samples as rows.\n",
    "* <font color='brown'>(**#**)</font> Pay attention that in this case the default of Linear Algebra is used, where each sample is a column."
   ]
  },
  {
   "cell_type": "markdown",
   "metadata": {},
   "source": [
    "### Model Functions\n",
    "\n",
    "This section build the components for the model evaluation:\n",
    "\n",
    "1. Activation: _ReLU_.\n",
    "2. Linear Model.\n",
    "3. SoftMax.\n",
    "\n",
    "* <font color='brown'>(**#**)</font> In many cases the _SoftMax_ function is considered as part of the loss function.\n",
    "* <font color='brown'>(**#**)</font> Since the _SoftMax_ function is monotonic non decreasing, the argument which maximizes it is the same as the argument maximizes its input."
   ]
  },
  {
   "cell_type": "code",
   "execution_count": null,
   "metadata": {},
   "outputs": [],
   "source": [
    "# Model Functions\n",
    "\n",
    "def ReLU( mX: np.ndarray ) -> np.ndarray:\n",
    "    \n",
    "    return np.maximum(mX, 0)\n",
    "\n",
    "def SoftMax( mX: np.ndarray ) -> np.ndarray:\n",
    "    \n",
    "    # mExp = np.exp(mX)\n",
    "    # return mExp / np.sum(mExp, axis = 0)\n",
    "    \n",
    "    # Better use tuned implementations\n",
    "    return sp.special.softmax(mX, axis = 0)\n",
    "\n",
    "def Model( mX: np.ndarray, mW1: np.ndarray, vB1: np.ndarray, mW2: np.ndarray, vB2: np.ndarray ) -> np.ndarray:\n",
    "    \n",
    "    mA    = ReLU(mW1 @ mX + vB1[:, None])\n",
    "    mZ    = mW2 @ mA + vB2[:, None]\n",
    "    mYHat = SoftMax(mZ) \n",
    "    \n",
    "    return mYHat"
   ]
  },
  {
   "cell_type": "markdown",
   "metadata": {},
   "source": [
    "### Loss Function\n",
    "\n",
    "#### Cross Entropy Loss\n",
    "\n",
    "$$\\ell_{i}=\\ell\\left(\\boldsymbol{y}_{i},\\hat{\\boldsymbol{y}}_{i}\\right)=-\\boldsymbol{y}_{i}^{T}\\log\\left(\\hat{\\boldsymbol{y}}_{i}\\right)$$\n",
    "\n",
    "* <font color='brown'>(**#**)</font> For a single data sample.\n",
    "\n",
    "#### One Hot Encoding\n",
    "\n",
    "$$y_{i}=2\\implies\\boldsymbol{y}_{i}=\\left[\\begin{matrix}0\\\\\n",
    "1\\\\\n",
    "0\\\\\n",
    "\\vdots\\\\\n",
    "0\n",
    "\\end{matrix}\\right]$$\n",
    "\n",
    "Note that if (for example) $y_i = 3$ than:\n",
    "\n",
    "$$\\boldsymbol{y}_{i}^{T}\\log\\left(\\hat{\\boldsymbol{y}}_{i}\\right)=\\log\\left(\\hat{\\boldsymbol{y}}_{i}\\left[3\\right]\\right)=\\log\\left(\\hat{\\boldsymbol{y}}_{i}\\left[y_{i}\\right]\\right)$$\n",
    "\n",
    "#### Overall Loss\n",
    "\n",
    "$$L=\\frac{1}{N}\\sum_{i=1}^{N}\\ell\\left(\\boldsymbol{y}_{i},\\hat{\\boldsymbol{y}}_{i}\\right)=-\\frac{1}{N}\\sum_{i=1}^{N}\\boldsymbol{y}_{i}^{T}\\log\\left(\\hat{\\boldsymbol{y}}_{i}\\right)=-\\frac{1}{N}\\sum_{i=1}^{N}\\log\\left(\\hat{\\boldsymbol{y}}_{i}\\left[y_{i}\\right]\\right)$$\n",
    "\n",
    "\n",
    "* <font color='brown'>(**#**)</font> The package [_NumPy ML_](https://github.com/ddbourgin/numpy-ml) is useful for implemented loss functions and other ML related functions.  \n",
    "  It also offers a calculation of _Gradient_ of some of the functions."
   ]
  },
  {
   "cell_type": "code",
   "execution_count": null,
   "metadata": {},
   "outputs": [],
   "source": [
    "# Loss Functions\n",
    "\n",
    "def CrossEntropyLoss( vY: np.ndarray, mYHat: np.ndarray ) -> np.ndarray:\n",
    "    # vY: Vector of Ground Truth (Scalar per sample)\n",
    "    \n",
    "    numSamples = len(vY)\n",
    "    return -np.mean(np.log(mYHat[vY, range(numSamples)]))"
   ]
  },
  {
   "cell_type": "markdown",
   "metadata": {},
   "source": [
    "### Gradient Function\n",
    "\n",
    "The model function is given by\n",
    "\n",
    "$$\\hat{\\boldsymbol{y}}_{i} = \\text{softmax}\\left(\\boldsymbol{W}_{2}\\text{ReLU}\\left(\\boldsymbol{W}_{1}\\boldsymbol{x}_{i}+\\boldsymbol{b}_{1}\\right)+\\boldsymbol{b}_{2}\\right)$$\n",
    "\n",
    "The loss function is given by\n",
    "\n",
    "$$ -\\frac{1}{N}\\sum_{i=1}^{N}\\boldsymbol{y}_{i}^{T}\\log\\left(\\hat{\\boldsymbol{y}}_{i}\\right)=-\\frac{1}{N}\\sum_{i=1}^{N}\\log\\left(\\hat{\\boldsymbol{y}}_{i}\\left[y_{i}\\right]\\right) $$\n",
    "\n",
    "The gradients of the loss function $L$ are:\n",
    "\n",
    "$$\\nabla_{\\boldsymbol{b}_{2}}L=\\frac{1}{N}\\sum_{i=1}^{N}{\\hat{\\boldsymbol{y}}_{i}}-\\boldsymbol{y}_{i}$$\n",
    "\n",
    "$$\\nabla_{\\boldsymbol{W}_{2}}L=\\frac{1}{N}\\sum_{i=1}^{N}\\left(\\hat{\\boldsymbol{y}}_{i}-\\boldsymbol{y}_{i}\\right)\\boldsymbol{a}_{i}^{T}$$\n",
    "\n",
    "$$\\nabla_{\\boldsymbol{b}_{1}}L=\\frac{1}{N}\\sum_{i=1}^{N}\\boldsymbol{I}_{\\boldsymbol{v}_{i}>0}\\boldsymbol{W}_{2}^{T}\\left(\\hat{\\boldsymbol{y}}_{i}-\\boldsymbol{y}_{i}\\right)$$\n",
    "\n",
    "$$\\nabla_{\\boldsymbol{W}_{1}}L=\\frac{1}{N}\\sum_{i=1}^{N}\\boldsymbol{I}_{\\boldsymbol{v}_{i}>0}\\boldsymbol{W}_{2}^{T}\\left(\\hat{\\boldsymbol{y}}_{i}-\\boldsymbol{y}_{i}\\right)\\boldsymbol{x}_{i}^{T}$$\n",
    "\n",
    "where $\\boldsymbol{v}_{i}=\\boldsymbol{W}_{1}\\boldsymbol{x}_{i}+\\boldsymbol{b}_{1}$ and $\\boldsymbol{I}_{\\boldsymbol{v}_{i}>0}=\\text{diag}\\left(\\mathbb{I}\\left\\{ \\boldsymbol{v}_i>0\\right\\} \\right)$\n",
    "\n"
   ]
  },
  {
   "cell_type": "markdown",
   "metadata": {},
   "source": [
    "* <font color='brown'>(**#**)</font> Cross Entropy and SoftMax Loss Gradient: [Gradient of SoftMax Cross Entropy Loss](https://www.michaelpiseno.com/blog/2021/softmax-gradient), [Derivative of SoftMax Loss Function](https://math.stackexchange.com/questions/945871).\n",
    "* <font color='brown'>(**#**)</font> Pay attention to the dependence of chained gradients."
   ]
  },
  {
   "cell_type": "code",
   "execution_count": null,
   "metadata": {},
   "outputs": [],
   "source": [
    "## Gradient Functions\n",
    "\n",
    "def CalcGradients( mX: np.ndarray, vY: np.ndarray, mW1: np.ndarray, vB1: np.ndarray, mW2: np.ndarray, vB2: np.ndarray ) -> Tuple[np.ndarray, np.ndarray, np.ndarray, np.ndarray]:\n",
    "    \n",
    "    N      = mX.shape[1]\n",
    "    \n",
    "    mV     = mW1 @ mX + vB1[:, None]          #<! (d, N)\n",
    "    mA     = ReLU(mV)                         #<! (d, N)\n",
    "    mZ     = mW2 @ mA + vB2[:, None]          #<! (10, N)\n",
    "    mYHat  = SoftMax(mZ)                      #<! (10, N)\n",
    "    \n",
    "    mTemp               = mYHat               #<! (10, N)\n",
    "    mTemp[vY,range(N)] -= 1\n",
    "    mTemp              /= N\n",
    "    \n",
    "    dB2                 = mTemp.sum(axis = 1) #<! (10,)\n",
    "    dW2                 = mTemp @ mA.T        #<! (10, d)\n",
    "    \n",
    "    mTemp               = mW2.T @ mTemp       #<! (d, N)\n",
    "    mTemp[mV < 0]       = 0\n",
    "    \n",
    "    dB1                 = mTemp.sum(axis = 1) #<! (d,)\n",
    "    dW1                 = mTemp @ mX.T        #<! (d, 784)\n",
    "    \n",
    "    return dW1, dB1, dW2, dB2"
   ]
  },
  {
   "cell_type": "markdown",
   "metadata": {},
   "source": [
    "## Model Training\n",
    "\n",
    "The model training (Optimization) is by a vanilla _Gradient Descent_.  \n",
    "Since the model is small and the data si relatively small, the batch size is the whole training set.\n",
    "\n",
    "* <font color='brown'>(**#**)</font> Larger model / data set might require using _Stochastic Gradient Descent_.  \n",
    "  In this case the actual gradient of the loss function over the whole data is _approximated_ by the gradient calculated over a sub sample (Batch)."
   ]
  },
  {
   "cell_type": "markdown",
   "metadata": {},
   "source": [
    "### Initialize the Model\n",
    "\n",
    "In order to initialize each _perceptron_ with a different value, a random initialization will be applied.\n",
    "\n",
    "* <font color='brown'>(**#**)</font> Random results means the training phase is random. Set the seed for reproducibility."
   ]
  },
  {
   "cell_type": "code",
   "execution_count": null,
   "metadata": {},
   "outputs": [],
   "source": [
    "# Model Initialization\n",
    "\n",
    "def InitModel( dIn: int, dHidden: int, dOut: int ) -> Tuple[np.ndarray, np.ndarray, np.ndarray, np.ndarray]:\n",
    "    \n",
    "    mW1 = np.random.randn(dHidden, dIn)  / dIn\n",
    "    mW2 = np.random.randn(dOut, dHidden) / dHidden\n",
    "    vB1 = np.zeros(dHidden)\n",
    "    vB2 = np.zeros(dOut)\n",
    "    \n",
    "    return mW1, vB1, mW2, vB2"
   ]
  },
  {
   "cell_type": "markdown",
   "metadata": {},
   "source": [
    "### Training Loop"
   ]
  },
  {
   "cell_type": "code",
   "execution_count": null,
   "metadata": {},
   "outputs": [],
   "source": [
    "# Training Loop\n",
    "\n",
    "# Parameters\n",
    "dIn                = mX.shape[1] #<! Number of features\n",
    "dHidden            = hidLayerDim #<! Dimensions of the hidden layer\n",
    "dOut               = len(np.unique(vY)) #<! Number of classes\n",
    "mW1, vB1, mW2, vB2 = InitModel(dIn, dHidden, dOut)\n",
    "    \n",
    "# Display Results\n",
    "hF, hA = plt.subplots(figsize = (12, 6))\n",
    "\n",
    "# Gradient Descent\n",
    "lLoss = [] #<! List of Loss values\n",
    "for ii in range(numIter):\n",
    "\n",
    "    # Update Weights\n",
    "    dW1, dB1, dW2, dB2  = CalcGradients(mXTrain.T, vYTrain, mW1, vB1, mW2, vB2)\n",
    "    mW1                -= µ * dW1\n",
    "    vB1                -= µ * dB1\n",
    "    mW2                -= µ * dW2\n",
    "    vB2                -= µ * dB2\n",
    "\n",
    "    # Check Loss\n",
    "    mYHat = Model(mXTrain.T, mW1, vB1, mW2, vB2)\n",
    "    valLoss  = CrossEntropyLoss(vYTrain, mYHat)\n",
    "    lLoss.append(valLoss)\n",
    "    \n",
    "    # Display\n",
    "    hA.cla()\n",
    "    hA.set_title(f'Iteration: {(ii + 1): 04d} / {numIter}, Loss = {valLoss: 0.2f}')\n",
    "    hA.plot(lLoss, 'b', marker = '.', ms = 5)\n",
    "    hA.set_xlabel('Iteration Index')\n",
    "    hA.set_ylabel('Loss Value')\n",
    "    hA.grid()\n",
    "    \n",
    "    # fig.canvas.draw()\n",
    "    plt.pause(1e-20)\n",
    "    display(hF, clear = True) #<! \"In Place\""
   ]
  },
  {
   "cell_type": "markdown",
   "metadata": {},
   "source": [
    "* <font color='brown'>(**#**)</font> In practice, some metric on a small validation set is also presented."
   ]
  },
  {
   "cell_type": "markdown",
   "metadata": {},
   "source": [
    "## Model Performance\n",
    "\n",
    "This section analyzes the model performance on the train and test data."
   ]
  },
  {
   "cell_type": "code",
   "execution_count": null,
   "metadata": {},
   "outputs": [],
   "source": [
    "# Apply Model on Data\n",
    "\n",
    "mYHatTrain = Model(mXTrain.T, mW1, vB1, mW2, vB2)\n",
    "mYHatTest  = Model(mXTest.T,  mW1, vB1, mW2, vB2)\n",
    "vYHatTrain = np.argmax(mYHatTrain, axis = 0)\n",
    "vYHatTest  = np.argmax(mYHatTest, axis = 0)"
   ]
  },
  {
   "cell_type": "code",
   "execution_count": null,
   "metadata": {},
   "outputs": [],
   "source": [
    "# Confusion Matrix\n",
    "\n",
    "hF, vHa = plt.subplots(nrows = 1, ncols = 2, figsize = (14, 6))\n",
    "\n",
    "hA, _ = PlotConfusionMatrix(vYTrain, vYHatTrain, hA = vHa[0])\n",
    "hA.set_title(f'Train Data, Accuracy {np.mean(vYTrain == vYHatTrain): 0.2%}')\n",
    "\n",
    "hA, _ = PlotConfusionMatrix(vYTest, vYHatTest, hA = vHa[1])\n",
    "hA.set_title(f'Test Data, Accuracy {np.mean(vYTest == vYHatTest): 0.2%}')"
   ]
  },
  {
   "cell_type": "markdown",
   "metadata": {},
   "source": [
    "* <font color='red'>(**?**)</font> How many parameters in the model?\n",
    "* <font color='red'>(**?**)</font> Is the problem _Convex_?\n",
    "* <font color='green'>(**@**)</font> Add another hidden layer."
   ]
  }
 ],
 "metadata": {
  "kernelspec": {
   "display_name": "Python 3",
   "language": "python",
   "name": "python3"
  },
  "language_info": {
   "codemirror_mode": {
    "name": "ipython",
    "version": 3
   },
   "file_extension": ".py",
   "mimetype": "text/x-python",
   "name": "python",
   "nbconvert_exporter": "python",
   "pygments_lexer": "ipython3",
   "version": "3.11.9"
  },
  "toc": {
   "base_numbering": 1,
   "nav_menu": {},
   "number_sections": false,
   "sideBar": true,
   "skip_h1_title": false,
   "title_cell": "Table of Contents",
   "title_sidebar": "Contents",
   "toc_cell": false,
   "toc_position": {},
   "toc_section_display": true,
   "toc_window_display": true
  },
  "varInspector": {
   "cols": {
    "lenName": 16,
    "lenType": 16,
    "lenVar": 40
   },
   "kernels_config": {
    "python": {
     "delete_cmd_postfix": "",
     "delete_cmd_prefix": "del ",
     "library": "var_list.py",
     "varRefreshCmd": "print(var_dic_list())"
    },
    "r": {
     "delete_cmd_postfix": ") ",
     "delete_cmd_prefix": "rm(",
     "library": "var_list.r",
     "varRefreshCmd": "cat(var_dic_list()) "
    }
   },
   "types_to_exclude": [
    "module",
    "function",
    "builtin_function_or_method",
    "instance",
    "_Feature"
   ],
   "window_display": false
  },
  "vscode": {
   "interpreter": {
    "hash": "39577bab1f263e62e0b74f5b8086bd735049bf4751f6562b2d4b2969dc308293"
   }
  }
 },
 "nbformat": 4,
 "nbformat_minor": 4
}
