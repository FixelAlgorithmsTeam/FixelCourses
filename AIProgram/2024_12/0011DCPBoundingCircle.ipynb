{
 "cells": [
  {
   "attachments": {},
   "cell_type": "markdown",
   "metadata": {},
   "source": [
    "[![Fixel Algorithms](https://i.imgur.com/AqKHVZ0.png)](https://fixelalgorithms.gitlab.io/)\n",
    "\n",
    "# AI Program\n",
    "\n",
    "## Convex Optimization with Disciplined Convex Programming (DCP) - Bounding Circle\n",
    "\n",
    "Calculating the minimum area circle bounding a set of points.\n",
    "\n",
    "> Notebook by:\n",
    "> - Royi Avital RoyiAvital@fixelalgorithms.com\n",
    "\n",
    "## Revision History\n",
    "\n",
    "| Version | Date       | User        |Content / Changes                                                   |\n",
    "|---------|------------|-------------|--------------------------------------------------------------------|\n",
    "| 1.0.001 | 03/03/2024 | Royi Avital | Added a question to compare to the mean                            |\n",
    "| 1.0.000 | 09/02/2024 | Royi Avital | First version                                                      |"
   ]
  },
  {
   "attachments": {},
   "cell_type": "markdown",
   "metadata": {},
   "source": [
    "[![Open In Colab](https://colab.research.google.com/assets/colab-badge.svg)](https://colab.research.google.com/github/FixelAlgorithmsTeam/FixelCourses/blob/master/AIProgram/2024_02/0011DCPBoundingCircle.ipynb)"
   ]
  },
  {
   "cell_type": "code",
   "execution_count": null,
   "metadata": {
    "ExecuteTime": {
     "end_time": "2022-02-02T09:30:06.492269Z",
     "start_time": "2022-02-02T09:30:06.220934Z"
    }
   },
   "outputs": [],
   "source": [
    "# Import Packages\n",
    "\n",
    "# General Tools\n",
    "import numpy as np\n",
    "import scipy as sp\n",
    "import pandas as pd\n",
    "\n",
    "# Machine Learning\n",
    "\n",
    "# Optimization\n",
    "import cvxpy as cp\n",
    "\n",
    "# Miscellaneous\n",
    "import os\n",
    "import math\n",
    "from platform import python_version\n",
    "import random\n",
    "\n",
    "# Typing\n",
    "from typing import Callable, List, Tuple, Union\n",
    "\n",
    "# Visualization\n",
    "from matplotlib.colors import LogNorm, Normalize, PowerNorm\n",
    "from matplotlib.patches import Circle\n",
    "import matplotlib.pyplot as plt\n",
    "import seaborn as sns\n",
    "\n",
    "# Jupyter\n",
    "from IPython import get_ipython\n",
    "from IPython.display import Image, display\n",
    "from ipywidgets import Dropdown, FloatSlider, interact, IntSlider, Layout"
   ]
  },
  {
   "attachments": {},
   "cell_type": "markdown",
   "metadata": {},
   "source": [
    "## Notations\n",
    "\n",
    "* <font color='red'>(**?**)</font> Question to answer interactively.\n",
    "* <font color='blue'>(**!**)</font> Simple task to add code for the notebook.\n",
    "* <font color='green'>(**@**)</font> Optional / Extra self practice.\n",
    "* <font color='brown'>(**#**)</font> Note / Useful resource / Food for thought.\n",
    "\n",
    "Code Notations:\n",
    "\n",
    "```python\n",
    "someVar    = 2; #<! Notation for a variable\n",
    "vVector    = np.random.rand(4) #<! Notation for 1D array\n",
    "mMatrix    = np.random.rand(4, 3) #<! Notation for 2D array\n",
    "tTensor    = np.random.rand(4, 3, 2, 3) #<! Notation for nD array (Tensor)\n",
    "tuTuple    = (1, 2, 3) #<! Notation for a tuple\n",
    "lList      = [1, 2, 3] #<! Notation for a list\n",
    "dDict      = {1: 3, 2: 2, 3: 1} #<! Notation for a dictionary\n",
    "oObj       = MyClass() #<! Notation for an object\n",
    "dfData     = pd.DataFrame() #<! Notation for a data frame\n",
    "dsData     = pd.Series() #<! Notation for a series\n",
    "hObj       = plt.Axes() #<! Notation for an object / handler / function handler\n",
    "```\n",
    "\n",
    "### Code Exercise\n",
    "\n",
    " - Single line fill\n",
    "\n",
    " ```python\n",
    " vallToFill = ???\n",
    " ```\n",
    "\n",
    " - Multi Line to Fill (At least one)\n",
    "\n",
    " ```python\n",
    " # You need to start writing\n",
    " ????\n",
    " ```\n",
    "\n",
    " - Section to Fill\n",
    "\n",
    "```python\n",
    "#===========================Fill This===========================#\n",
    "# 1. Explanation about what to do.\n",
    "# !! Remarks to follow / take under consideration.\n",
    "mX = ???\n",
    "\n",
    "???\n",
    "#===============================================================#\n",
    "```"
   ]
  },
  {
   "cell_type": "markdown",
   "metadata": {},
   "source": [
    "## MathJaX Macros\n",
    "\n",
    "Adding _quality of life_ macros.\n",
    "\n",
    "$$\n",
    "\\newcommand{\\MyParen}[1]{\\left( #1 \\right)}\n",
    "\\newcommand{\\MyBrack}[1]{\\left\\lbrack #1 \\right\\rbrack}\n",
    "\\newcommand{\\MyBrace}[1]{\\left\\lbrace #1 \\right\\rbrace}\n",
    "\\newcommand{\\MyMat}[1]{\\begin{bmatrix} #1 \\end{bmatrix}}\n",
    "\\newcommand{\\MyNorm}[2]{{\\left\\| #1 \\right\\|}_{#2}}\n",
    "\\newcommand{\\MyAbs}[1]{\\left| #1 \\right|}\n",
    "\\newcommand{\\MyNormTwo}[1]{\\MyNorm{#1}{2}}\n",
    "\\newcommand{\\MyCeil}[1]{\\lceil #1 \\rceil}\n",
    "\\newcommand{\\MyInProd}[2]{\\langle #1, #2 \\rangle}\n",
    "\\newcommand{\\MyUndBrace}[2]{\\underset{#2}{\\underbrace{#1}}}\n",
    "\\newcommand{\\RR}[1]{\\mathbb{R}^{#1}}\n",
    "\\newcommand{\\InR}[1]{\\in \\mathbb{R}^{#1}}\n",
    "\\newcommand{\\InC}[1]{\\in \\mathbb{C}^{#1}}\n",
    "\\newcommand{\\BS}[1]{\\boldsymbol{#1}}\n",
    "\\newcommand{\\MyClr}[2]{{\\color{#1}{#2}}}\n",
    "\\newcommand{\\MyQuad}[2]{ {#1}^{T} #2 #1 }\n",
    "$$"
   ]
  },
  {
   "cell_type": "code",
   "execution_count": null,
   "metadata": {},
   "outputs": [],
   "source": [
    "# Configuration\n",
    "%matplotlib inline\n",
    "\n",
    "# warnings.filterwarnings(\"ignore\")\n",
    "\n",
    "seedNum = 512\n",
    "np.random.seed(seedNum)\n",
    "random.seed(seedNum)\n",
    "\n",
    "# Matplotlib default color palette\n",
    "lMatPltLibclr = ['#1f77b4', '#ff7f0e', '#2ca02c', '#d62728', '#9467bd', '#8c564b', '#e377c2', '#7f7f7f', '#bcbd22', '#17becf']\n",
    "# sns.set_theme() #>! Apply SeaBorn theme\n",
    "# sns.set_palette(\"tab10\")\n",
    "\n",
    "runInGoogleColab = 'google.colab' in str(get_ipython())"
   ]
  },
  {
   "cell_type": "code",
   "execution_count": null,
   "metadata": {},
   "outputs": [],
   "source": [
    "# Constants\n",
    "\n",
    "FIG_SIZE_DEF    = (8, 8)\n",
    "ELM_SIZE_DEF    = 50\n",
    "CLASS_COLOR     = ('b', 'r')\n",
    "EDGE_COLOR      = 'k'\n",
    "MARKER_SIZE_DEF = 10\n",
    "LINE_WIDTH_DEF  = 2\n"
   ]
  },
  {
   "cell_type": "code",
   "execution_count": null,
   "metadata": {},
   "outputs": [],
   "source": [
    "# Course Packages\n"
   ]
  },
  {
   "cell_type": "code",
   "execution_count": null,
   "metadata": {},
   "outputs": [],
   "source": [
    "# Auxiliary Functions"
   ]
  },
  {
   "cell_type": "code",
   "execution_count": null,
   "metadata": {},
   "outputs": [],
   "source": [
    "# Parameters\n",
    "\n",
    "# Data\n",
    "numSamples  = 20\n",
    "dataDim     = 2\n",
    "\n",
    "# Visualization\n",
    "tuAxisLim = (-2, 2)"
   ]
  },
  {
   "attachments": {},
   "cell_type": "markdown",
   "metadata": {},
   "source": [
    "## Disciplined Convex Programming (DCP)\n",
    "\n",
    "The DCP is about formulating an optimization problem using DCP atoms and a set of composition rules.  \n",
    "By obeying those rules the problem is guaranteed to be _convex_.  \n",
    "The DCP parser then reformulate it a standard form which a solver can solve.\n",
    "\n",
    "See [Stanford - Disciplined Convex Programming](https://fenchel.stanford.edu/home) for more information.\n",
    "\n",
    "This notebook will solve a known problem using Python's [CVXPY](https://www.cvxpy.org).\n",
    "\n",
    "\n",
    "* <font color='brown'>(**#**)</font> The first DCP package was created by Michael Grant for MATLAB - [CVX](http://cvxr.com)."
   ]
  },
  {
   "cell_type": "markdown",
   "metadata": {},
   "source": [
    "## Minimum Area Bounding Circle\n",
    "\n",
    "Given a set of points $\\MyBrace{ \\BS{x}_{i} \\InR{2} }_{i = 1}^{N}$, find the circle with the minimum area which bounds all points.\n",
    "\n",
    "* <font color='brown'>(**#**)</font> This problem is also known, in some formulations, as [Chebyshev Center](https://en.wikipedia.org/wiki/Chebyshev_center)."
   ]
  },
  {
   "cell_type": "markdown",
   "metadata": {},
   "source": [
    "## Generate Data\n",
    "\n",
    "Set of points in $\\RR{2}$."
   ]
  },
  {
   "cell_type": "code",
   "execution_count": null,
   "metadata": {},
   "outputs": [],
   "source": [
    "# Generate / Load the Data\n",
    "\n",
    "mX = 2 * (np.random.rand(numSamples, dataDim) - 0.5) #<! Each row is a data sample"
   ]
  },
  {
   "cell_type": "code",
   "execution_count": null,
   "metadata": {},
   "outputs": [],
   "source": [
    "# Display Data\n",
    "\n",
    "hF, hA = plt.subplots(figsize = (16, 8))\n",
    "hA.scatter(mX[:, 0], mX[:, 1], s = 50, label = 'Samples')\n",
    "hA.set_aspect('equal')\n",
    "hA.set_xlim(tuAxisLim)\n",
    "hA.set_ylim(tuAxisLim)\n",
    "hA.set_xlabel(r'$x_1$')\n",
    "hA.set_ylabel(r'$x_2$')\n",
    "hA.set_title('Data Samples')\n",
    "\n",
    "hA.legend();\n"
   ]
  },
  {
   "cell_type": "markdown",
   "metadata": {},
   "source": [
    "### Question 001\n",
    "\n",
    "Formulate a _convex_ problem to build the circle.  \n",
    "\n",
    "**Hints**:\n",
    "\n",
    "1. The circle is composed of a center point $\\BS{c} \\InR{2}$ and a radius $r \\InR{}$.\n",
    "2. Every point must be within the areas of the circle.\n",
    "\n"
   ]
  },
  {
   "cell_type": "markdown",
   "metadata": {},
   "source": [
    "### Solution 001\n",
    "\n",
    "<font color='red'>??? Fill the answer here ???</font>\n",
    "\n",
    "---"
   ]
  },
  {
   "cell_type": "code",
   "execution_count": null,
   "metadata": {},
   "outputs": [],
   "source": [
    "# Solving the Problem using CVXPY\n",
    "\n",
    "vC          = cp.Variable(dataDim)\n",
    "valRadius   = cp.Variable(1)\n",
    "\n",
    "cpObjFun = cp.Minimize(valRadius) #<! Objective Function\n",
    "cpConst = [cp.norm(mX[ii, :] - vC) <= valRadius for ii in range(numSamples)]\n",
    "oCvxPrb = cp.Problem(cpObjFun, cpConst)\n",
    "oCvxPrb.solve(solver = cp.CLARABEL)\n",
    "\n",
    "assert (oCvxPrb.status == 'optimal'), 'The problem is not solved.'\n",
    "print('Problem is solved.')"
   ]
  },
  {
   "cell_type": "code",
   "execution_count": null,
   "metadata": {},
   "outputs": [],
   "source": [
    "# Display Result\n",
    "\n",
    "hF, hA = plt.subplots(figsize = (16, 8))\n",
    "hA.scatter(mX[:, 0], mX[:, 1], s = 50, label = 'Samples')\n",
    "patchCirc = Circle(vC.value, valRadius.value, color = 'r', lw = 2.5, fill = False, label = 'Bounding Circle')\n",
    "hA.add_patch(patchCirc)\n",
    "hA.set_aspect('equal')\n",
    "hA.set_xlim(tuAxisLim)\n",
    "hA.set_ylim(tuAxisLim)\n",
    "hA.set_xlabel(r'$x_1$')\n",
    "hA.set_ylabel(r'$x_2$')\n",
    "hA.set_title('Data Samples')\n",
    "\n",
    "hA.legend();\n"
   ]
  },
  {
   "cell_type": "markdown",
   "metadata": {},
   "source": [
    "* <font color='blue'>(**!**)</font> Compare the result to the mean of the data. Explain the result.\n",
    "* <font color='red'>(**?**)</font> How would you solve for the bounding square? Must we use `CVXPY` for that?  \n",
    "  You may assume the square is aligned to the axis.\n",
    "* <font color='green'>(**@**)</font> Implement, using `CVXPY` a solution for the bounding square."
   ]
  }
 ],
 "metadata": {
  "kernelspec": {
   "display_name": "Python 3",
   "language": "python",
   "name": "python3"
  },
  "language_info": {
   "codemirror_mode": {
    "name": "ipython",
    "version": 3
   },
   "file_extension": ".py",
   "mimetype": "text/x-python",
   "name": "python",
   "nbconvert_exporter": "python",
   "pygments_lexer": "ipython3",
   "version": "3.11.8"
  },
  "toc": {
   "base_numbering": 1,
   "nav_menu": {},
   "number_sections": false,
   "sideBar": true,
   "skip_h1_title": false,
   "title_cell": "Table of Contents",
   "title_sidebar": "Contents",
   "toc_cell": false,
   "toc_position": {},
   "toc_section_display": true,
   "toc_window_display": true
  },
  "varInspector": {
   "cols": {
    "lenName": 16,
    "lenType": 16,
    "lenVar": 40
   },
   "kernels_config": {
    "python": {
     "delete_cmd_postfix": "",
     "delete_cmd_prefix": "del ",
     "library": "var_list.py",
     "varRefreshCmd": "print(var_dic_list())"
    },
    "r": {
     "delete_cmd_postfix": ") ",
     "delete_cmd_prefix": "rm(",
     "library": "var_list.r",
     "varRefreshCmd": "cat(var_dic_list()) "
    }
   },
   "types_to_exclude": [
    "module",
    "function",
    "builtin_function_or_method",
    "instance",
    "_Feature"
   ],
   "window_display": false
  },
  "vscode": {
   "interpreter": {
    "hash": "39577bab1f263e62e0b74f5b8086bd735049bf4751f6562b2d4b2969dc308293"
   }
  }
 },
 "nbformat": 4,
 "nbformat_minor": 4
}
