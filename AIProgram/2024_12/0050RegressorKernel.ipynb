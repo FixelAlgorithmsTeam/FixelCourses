{
 "cells": [
  {
   "attachments": {},
   "cell_type": "markdown",
   "metadata": {},
   "source": [
    "[![Fixel Algorithms](https://i.imgur.com/AqKHVZ0.png)](https://fixelalgorithms.gitlab.io/)\n",
    "\n",
    "# AI Program\n",
    "\n",
    "## Machine Learning - Supervised Learning - Regression - Kernel Regression\n",
    "\n",
    "> Notebook by:\n",
    "> - Royi Avital RoyiAvital@fixelalgorithms.com\n",
    "\n",
    "## Revision History\n",
    "\n",
    "| Version | Date       | User        |Content / Changes                                                   |\n",
    "|---------|------------|-------------|--------------------------------------------------------------------|\n",
    "| 1.0.001 | 10/04/2024 | Royi Avital | Added function types                                               |\n",
    "| 1.0.000 | 01/04/2024 | Royi Avital | First version                                                      |"
   ]
  },
  {
   "attachments": {},
   "cell_type": "markdown",
   "metadata": {},
   "source": [
    "[![Open In Colab](https://colab.research.google.com/assets/colab-badge.svg)](https://colab.research.google.com/github/FixelAlgorithmsTeam/FixelCourses/blob/master/AIProgram/2024_02/0050RegressorKernel.ipynb)"
   ]
  },
  {
   "cell_type": "code",
   "execution_count": null,
   "metadata": {
    "ExecuteTime": {
     "end_time": "2022-02-02T09:30:06.492269Z",
     "start_time": "2022-02-02T09:30:06.220934Z"
    }
   },
   "outputs": [],
   "source": [
    "# Import Packages\n",
    "\n",
    "# General Tools\n",
    "import numpy as np\n",
    "import scipy as sp\n",
    "import pandas as pd\n",
    "\n",
    "# Machine Learning\n",
    "\n",
    "# Miscellaneous\n",
    "import math\n",
    "import os\n",
    "from platform import python_version\n",
    "import random\n",
    "import timeit\n",
    "\n",
    "# Typing\n",
    "from typing import Callable, Dict, List, Optional, Self, Set, Tuple, Union\n",
    "\n",
    "# Visualization\n",
    "import matplotlib as mpl\n",
    "import matplotlib.pyplot as plt\n",
    "import seaborn as sns\n",
    "\n",
    "# Jupyter\n",
    "from IPython import get_ipython\n",
    "from IPython.display import Image\n",
    "from IPython.display import display\n",
    "from ipywidgets import Dropdown, FloatSlider, interact, IntSlider, Layout, SelectionSlider\n",
    "from ipywidgets import interact"
   ]
  },
  {
   "attachments": {},
   "cell_type": "markdown",
   "metadata": {},
   "source": [
    "## Notations\n",
    "\n",
    "* <font color='red'>(**?**)</font> Question to answer interactively.\n",
    "* <font color='blue'>(**!**)</font> Simple task to add code for the notebook.\n",
    "* <font color='green'>(**@**)</font> Optional / Extra self practice.\n",
    "* <font color='brown'>(**#**)</font> Note / Useful resource / Food for thought.\n",
    "\n",
    "Code Notations:\n",
    "\n",
    "```python\n",
    "someVar    = 2; #<! Notation for a variable\n",
    "vVector    = np.random.rand(4) #<! Notation for 1D array\n",
    "mMatrix    = np.random.rand(4, 3) #<! Notation for 2D array\n",
    "tTensor    = np.random.rand(4, 3, 2, 3) #<! Notation for nD array (Tensor)\n",
    "tuTuple    = (1, 2, 3) #<! Notation for a tuple\n",
    "lList      = [1, 2, 3] #<! Notation for a list\n",
    "dDict      = {1: 3, 2: 2, 3: 1} #<! Notation for a dictionary\n",
    "oObj       = MyClass() #<! Notation for an object\n",
    "dfData     = pd.DataFrame() #<! Notation for a data frame\n",
    "dsData     = pd.Series() #<! Notation for a series\n",
    "hObj       = plt.Axes() #<! Notation for an object / handler / function handler\n",
    "```\n",
    "\n",
    "### Code Exercise\n",
    "\n",
    " - Single line fill\n",
    "\n",
    " ```python\n",
    " vallToFill = ???\n",
    " ```\n",
    "\n",
    " - Multi Line to Fill (At least one)\n",
    "\n",
    " ```python\n",
    " # You need to start writing\n",
    " ????\n",
    " ```\n",
    "\n",
    " - Section to Fill\n",
    "\n",
    "```python\n",
    "#===========================Fill This===========================#\n",
    "# 1. Explanation about what to do.\n",
    "# !! Remarks to follow / take under consideration.\n",
    "mX = ???\n",
    "\n",
    "???\n",
    "#===============================================================#\n",
    "```"
   ]
  },
  {
   "cell_type": "code",
   "execution_count": null,
   "metadata": {},
   "outputs": [],
   "source": [
    "# Configuration\n",
    "# %matplotlib inline\n",
    "\n",
    "seedNum = 512\n",
    "np.random.seed(seedNum)\n",
    "random.seed(seedNum)\n",
    "\n",
    "# Matplotlib default color palette\n",
    "lMatPltLibclr = ['#1f77b4', '#ff7f0e', '#2ca02c', '#d62728', '#9467bd', '#8c564b', '#e377c2', '#7f7f7f', '#bcbd22', '#17becf']\n",
    "# sns.set_theme() #>! Apply SeaBorn theme\n",
    "\n",
    "runInGoogleColab = 'google.colab' in str(get_ipython())\n"
   ]
  },
  {
   "cell_type": "code",
   "execution_count": null,
   "metadata": {},
   "outputs": [],
   "source": [
    "# Constants\n",
    "\n",
    "FIG_SIZE_DEF    = (8, 8)\n",
    "ELM_SIZE_DEF    = 50\n",
    "CLASS_COLOR     = ('b', 'r')\n",
    "EDGE_COLOR      = 'k'\n",
    "MARKER_SIZE_DEF = 10\n",
    "LINE_WIDTH_DEF  = 2\n"
   ]
  },
  {
   "cell_type": "code",
   "execution_count": null,
   "metadata": {},
   "outputs": [],
   "source": [
    "# Courses Packages\n",
    "\n",
    "from DataVisualization import PlotRegressionData\n"
   ]
  },
  {
   "cell_type": "code",
   "execution_count": null,
   "metadata": {},
   "outputs": [],
   "source": [
    "# General Auxiliary Functions\n",
    "\n"
   ]
  },
  {
   "cell_type": "markdown",
   "metadata": {},
   "source": [
    "## Kernel Regression\n",
    "\n",
    "_Kernel Regression_ is a non parametric regression method.\n",
    "\n",
    "In this notebook we'll show the effect of a different kernel and bandwidth on the estimation.  \n",
    "We'll also show the performance difference between _interpolation_ and _extrapolation_ in the context of Kernel Regression.\n",
    "\n",
    "* <font color='brown'>(**#**)</font> The Kernel Regression approach is mostly popular among statisticians in the context of Kernel Density Estimation (KDE). Namely estimating the PDF of a data.\n",
    "* <font color='brown'>(**#**)</font> Reading resource by William G Underwood: [Part I - Introduction](https://wgunderwood.github.io/2021/09/05/local-polynomial-regression-1.html), [Part II - Bandwidth Selection](https://wgunderwood.github.io/2022/03/29/local-polynomial-regression-2.html), [Part III - Correcting Bias](https://wgunderwood.github.io/2022/07/12/local-polynomial-regression-3.html), [Part IV - Application to Global Warming](https://wgunderwood.github.io/2022/08/09/local-polynomial-regression-4.html).\n"
   ]
  },
  {
   "cell_type": "code",
   "execution_count": null,
   "metadata": {},
   "outputs": [],
   "source": [
    "# Parameters\n",
    "\n",
    "# Data Generation\n",
    "numSamples  = 200\n",
    "noiseStd    = 0.01\n",
    "\n",
    "# Data Visualization\n",
    "gridNoiseStd = 0.05\n",
    "numGridPts   = 500"
   ]
  },
  {
   "cell_type": "markdown",
   "metadata": {},
   "source": [
    "## Generate / Load Data\n",
    "\n",
    "In the following we'll generate data according to the following model:\n",
    "\n",
    "$$ y_{i} = f \\left( x_{i} \\right) + \\epsilon_{i} $$\n",
    "\n",
    "Where\n",
    "\n",
    "$$ f \\left( x \\right) = 5 \\exp \\left( - x \\right) \\sin \\left( 10 x + 0.5 \\right) + \\left( 1 + 10 \\mathcal{I}_{x > 2} \\left( x - 2 \\right) \\right) + 1 $$\n"
   ]
  },
  {
   "cell_type": "code",
   "execution_count": null,
   "metadata": {},
   "outputs": [],
   "source": [
    "# The Data Generating Function\n",
    "\n",
    "def f( vX: np.ndarray ):\n",
    "    \n",
    "    return 5 * np.exp(-vX) * np.sin(10 * vX + 0.5) * (1 + 10 * (vX > 2) * (vX - 2)) + 1"
   ]
  },
  {
   "cell_type": "code",
   "execution_count": null,
   "metadata": {},
   "outputs": [],
   "source": [
    "# Generate Data\n",
    "\n",
    "vX = 4 * np.sort(np.random.rand(numSamples))\n",
    "vY = f(vX) + (noiseStd * np.random.randn(numSamples))\n",
    "\n",
    "print(f'The features data shape: {vX.shape}')\n",
    "print(f'The labels data shape: {vY.shape}')"
   ]
  },
  {
   "cell_type": "markdown",
   "metadata": {},
   "source": [
    "### Plot Data"
   ]
  },
  {
   "cell_type": "code",
   "execution_count": null,
   "metadata": {},
   "outputs": [],
   "source": [
    "# Plot the Data\n",
    "\n",
    "PlotRegressionData(vX, vY)\n",
    "\n",
    "plt.show()\n"
   ]
  },
  {
   "cell_type": "markdown",
   "metadata": {},
   "source": [
    "## Regression Kernels\n",
    "\n",
    "Some of the common kernels are:\n",
    "\n",
    " - Uniform: $k\\left(u\\right)=\\begin{cases}1 & \\left|u\\right|\\leq\\frac{1}{2}\\\\0 & \\text{else}\\end{cases}$.\n",
    " - Triangular: $k\\left(u\\right)=\\begin{cases}1-\\left|u\\right| & \\left|u\\right|\\leq1\\\\0 & \\text{else}\\end{cases}$.\n",
    " - Gaussian: $k\\left(u\\right)=e^{-\\frac{1}{2}u^{2}}$.\n",
    " - Cosine: $k\\left(u\\right)=\\begin{cases}1+\\cos\\left(\\pi u\\right) & \\left|u\\right|\\leq1\\\\0 & \\text{else}\\end{cases}$."
   ]
  },
  {
   "cell_type": "code",
   "execution_count": null,
   "metadata": {},
   "outputs": [],
   "source": [
    "# Defining the Kernels\n",
    "\n",
    "def UniformKernel( vU: np.ndarray ) -> np.ndarray:\n",
    "    return 1.0 * (np.abs(vU) < 0.5)\n",
    "\n",
    "def TriangularKernel( vU: np.ndarray ) -> np.ndarray:\n",
    "    return (np.abs(vU) < 1) * (1 - np.abs(vU))\n",
    "\n",
    "def GaussianKernel( vU: np.ndarray ) -> np.ndarray:\n",
    "    return np.exp(-0.5 * np.square(vU))\n",
    "\n",
    "def CosineKernel( vU: np.ndarray ) -> np.ndarray:\n",
    "    return (np.abs(vU) < 1) * (1 + np.cos(np.pi * vU))\n",
    "\n",
    "lKernels = [('Uniform', UniformKernel), ('Triangular', TriangularKernel), ('Gaussian', GaussianKernel), ('Cosine', CosineKernel)]"
   ]
  },
  {
   "cell_type": "markdown",
   "metadata": {},
   "source": [
    "* <font color='brown'>(**#**)</font> In the context of _Signal Processing_ the kernels above are known as a _Window Function_."
   ]
  },
  {
   "cell_type": "code",
   "execution_count": null,
   "metadata": {},
   "outputs": [],
   "source": [
    "# Plotting the Kernels\n",
    "\n",
    "hF, hA = plt.subplots(figsize = (10, 6))\n",
    "vG = np.linspace(-4, 4, numGridPts)\n",
    "\n",
    "for ii, (kernelLabel, hKernel) in enumerate(lKernels):\n",
    "    hA.plot(vG, hKernel(vG), lw = 2, label = kernelLabel)\n",
    "\n",
    "hA.set_xlabel('$x$')\n",
    "hA.set_ylabel('$y$')\n",
    "hA.set_title('The Kernels')\n",
    "hA.legend()\n",
    "hA.grid()\n",
    "\n",
    "plt.show()"
   ]
  },
  {
   "cell_type": "markdown",
   "metadata": {},
   "source": [
    "## Kernel Regression\n",
    "\n",
    "The kernel regression operation is defined by:\n",
    "\n",
    "$$\\boxed{\\hat{f} \\left( x \\right) = \\frac{\\sum_{i = 1}^{N} w_{x} \\left( {x}_{i} \\right) {y}_{i}}{\\sum_{i = 1}^{N} {w}_{x} \\left( {x}_{i} \\right)}}$$\n",
    "\n",
    "Where ${w}_{x} \\left( {x}_{i} \\right) = k \\left( \\frac{ x - x_{i} }{ h } \\right)$.\n"
   ]
  },
  {
   "cell_type": "markdown",
   "metadata": {},
   "source": [
    "* <font color='brown'>(**#**)</font> In the context of _Signal Processing_ the operation above is basically a convolution."
   ]
  },
  {
   "cell_type": "code",
   "execution_count": null,
   "metadata": {},
   "outputs": [],
   "source": [
    "# Applying and Plotting the Kernels\n",
    "\n",
    "def ApplyKernel( hKernel: Callable[np.ndarray, np.ndarray], paramH: float, vX: np.ndarray, vY: np.ndarray, vG: np.ndarray, zeroThr: float = 1e-9 ) -> np.ndarray:\n",
    "\n",
    "    mW = hKernel((vG[:, None] - vX[None, :]) / paramH)\n",
    "    # vYPred = (mW @ vY) / np.sum(mW, axis = 1)\n",
    "    vK = mW @ vY #<! For numerical stability, removing almost zero values\n",
    "    vW = np.sum(mW, axis = 1)\n",
    "    vI = np.abs(vW) < zeroThr #<! Calculate only when there's real data\n",
    "    vK[vI] = 0\n",
    "    vW[vI] = 1 #<! Remove cases of dividing by 0\n",
    "    vYPred = vK / vW\n",
    "\n",
    "    return vYPred\n",
    "\n",
    "# Grid to calculate the points over\n",
    "vG = np.linspace(-0.2, 4.5, 1000, endpoint = True)\n",
    "\n",
    "def PlotKernelRegression( hKernel: Callable[np.ndarray, np.ndarray], paramH: float, vX: np.ndarray, vY: np.ndarray, vG: np.ndarray, figSize = FIG_SIZE_DEF, hA = None ):\n",
    "\n",
    "    if hA is None:\n",
    "        hF, hA = plt.subplots(figsize = figSize)\n",
    "    else:\n",
    "        hF = hA.get_figure()\n",
    "    \n",
    "    vYPred = ApplyKernel(hKernel, paramH, vX, vY, vG)\n",
    "    \n",
    "    hA.plot(vG, vYPred, 'b', lw = 2, label = '$\\hat{f}(x)$')\n",
    "    hA.scatter(vX, vY, s = 50, c = 'r', edgecolor = 'k', label = '$y_i = f(x_i) + \\epsilon_i$')\n",
    "    hA.set_title(f'Kernel Regression with h = {paramH}')\n",
    "    hA.set_xlabel('$x$')\n",
    "    hA.set_ylabel('$y$')\n",
    "    hA.grid()\n",
    "    hA.legend(loc = 'lower right')"
   ]
  },
  {
   "cell_type": "code",
   "execution_count": null,
   "metadata": {},
   "outputs": [],
   "source": [
    "hPlotKernelRegression = lambda hK, paramH: PlotKernelRegression(hK, paramH, vX, vY, vG)\n",
    "\n",
    "hSlider        = FloatSlider(min = 0.001, max = 2.5, step = 0.001, value = 0.01, readout_format = '0.3f', layout = Layout(width = '30%'))\n",
    "kernelDropdown = Dropdown(options = lKernels, value = GaussianKernel, description = 'Kernel:')\n",
    "interact(hPlotKernelRegression, hK = kernelDropdown, paramH = hSlider)\n",
    "plt.show()"
   ]
  },
  {
   "cell_type": "markdown",
   "metadata": {},
   "source": [
    "* <font color='blue'>(**!**)</font> Play with the number of samples of the data to see its effect.\n",
    "* <font color='red'>(**?**)</font> What happens outside of the data samples? What does it mean for real world data?"
   ]
  }
 ],
 "metadata": {
  "kernelspec": {
   "display_name": "Python 3",
   "language": "python",
   "name": "python3"
  },
  "language_info": {
   "codemirror_mode": {
    "name": "ipython",
    "version": 3
   },
   "file_extension": ".py",
   "mimetype": "text/x-python",
   "name": "python",
   "nbconvert_exporter": "python",
   "pygments_lexer": "ipython3",
   "version": "3.11.8"
  },
  "toc": {
   "base_numbering": 1,
   "nav_menu": {},
   "number_sections": false,
   "sideBar": true,
   "skip_h1_title": false,
   "title_cell": "Table of Contents",
   "title_sidebar": "Contents",
   "toc_cell": false,
   "toc_position": {},
   "toc_section_display": true,
   "toc_window_display": true
  },
  "varInspector": {
   "cols": {
    "lenName": 16,
    "lenType": 16,
    "lenVar": 40
   },
   "kernels_config": {
    "python": {
     "delete_cmd_postfix": "",
     "delete_cmd_prefix": "del ",
     "library": "var_list.py",
     "varRefreshCmd": "print(var_dic_list())"
    },
    "r": {
     "delete_cmd_postfix": ") ",
     "delete_cmd_prefix": "rm(",
     "library": "var_list.r",
     "varRefreshCmd": "cat(var_dic_list()) "
    }
   },
   "types_to_exclude": [
    "module",
    "function",
    "builtin_function_or_method",
    "instance",
    "_Feature"
   ],
   "window_display": false
  },
  "vscode": {
   "interpreter": {
    "hash": "39577bab1f263e62e0b74f5b8086bd735049bf4751f6562b2d4b2969dc308293"
   }
  }
 },
 "nbformat": 4,
 "nbformat_minor": 4
}
