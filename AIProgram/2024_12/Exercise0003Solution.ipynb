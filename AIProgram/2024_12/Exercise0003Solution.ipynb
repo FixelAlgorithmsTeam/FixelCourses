{
 "cells": [
  {
   "attachments": {},
   "cell_type": "markdown",
   "metadata": {},
   "source": [
    "[![Fixel Algorithms](https://i.imgur.com/AqKHVZ0.png)](https://fixelalgorithms.gitlab.io/)\n",
    "\n",
    "# AI Program\n",
    "\n",
    "## Exercise 0003 - Linear Least Squares\n",
    "\n",
    "Finding the point which minimizes the sum of squared orthogonal distance to a set of lines in 2D.\n",
    "\n",
    "> Notebook by:\n",
    "> - Royi Avital RoyiAvital@fixelalgorithms.com\n",
    "\n",
    "## Revision History\n",
    "\n",
    "| Version | Date       | User        |Content / Changes                                                   |\n",
    "|---------|------------|-------------|--------------------------------------------------------------------|\n",
    "| 0.1.001 | 06/03/2024 | Royi Avital | Fixed typos by class feedback                                      |\n",
    "| 0.1.000 | 24/02/2024 | Royi Avital | First version                                                      |"
   ]
  },
  {
   "attachments": {},
   "cell_type": "markdown",
   "metadata": {},
   "source": [
    "[![Open In Colab](https://colab.research.google.com/assets/colab-badge.svg)](https://colab.research.google.com/github/FixelAlgorithmsTeam/FixelCourses/blob/master/AIProgram/2024_02/Exercise0003.ipynb)"
   ]
  },
  {
   "cell_type": "code",
   "execution_count": null,
   "metadata": {
    "ExecuteTime": {
     "end_time": "2022-02-02T09:30:06.492269Z",
     "start_time": "2022-02-02T09:30:06.220934Z"
    }
   },
   "outputs": [],
   "source": [
    "# Import Packages\n",
    "\n",
    "# General Tools\n",
    "import numpy as np\n",
    "import scipy as sp\n",
    "import pandas as pd\n",
    "\n",
    "from numba import float32, float64, jit, njit, vectorize\n",
    "\n",
    "# Image Processing\n",
    "\n",
    "# Machine Learning\n",
    "\n",
    "\n",
    "# Miscellaneous\n",
    "import os\n",
    "from platform import python_version\n",
    "import random\n",
    "import timeit\n",
    "\n",
    "# Typing\n",
    "from typing import Callable, Dict, List, Optional, Set, Tuple, Union\n",
    "\n",
    "# Visualization\n",
    "import matplotlib as mpl\n",
    "import matplotlib.pyplot as plt\n",
    "import plotly.graph_objects as go\n",
    "import seaborn as sns\n",
    "\n",
    "# Jupyter\n",
    "from IPython import get_ipython\n",
    "from IPython.display import Image, display\n",
    "from ipywidgets import Dropdown, FloatSlider, interact, IntSlider, Layout"
   ]
  },
  {
   "attachments": {},
   "cell_type": "markdown",
   "metadata": {},
   "source": [
    "## Notations\n",
    "\n",
    "* <font color='red'>(**?**)</font> Question to answer interactively.\n",
    "* <font color='blue'>(**!**)</font> Simple task to add code for the notebook.\n",
    "* <font color='green'>(**@**)</font> Optional / Extra self practice.\n",
    "* <font color='brown'>(**#**)</font> Note / Useful resource / Food for thought.\n",
    "\n",
    "Code Notations:\n",
    "\n",
    "```python\n",
    "someVar    = 2; #<! Notation for a variable\n",
    "vVector    = np.random.rand(4) #<! Notation for 1D array\n",
    "mMatrix    = np.random.rand(4, 3) #<! Notation for 2D array\n",
    "tTensor    = np.random.rand(4, 3, 2, 3) #<! Notation for nD array (Tensor)\n",
    "tuTuple    = (1, 2, 3) #<! Notation for a tuple\n",
    "lList      = [1, 2, 3] #<! Notation for a list\n",
    "dDict      = {1: 3, 2: 2, 3: 1} #<! Notation for a dictionary\n",
    "oObj       = MyClass() #<! Notation for an object\n",
    "dfData     = pd.DataFrame() #<! Notation for a data frame\n",
    "dsData     = pd.Series() #<! Notation for a series\n",
    "hObj       = plt.Axes() #<! Notation for an object / handler / function handler\n",
    "```\n",
    "\n",
    "### Code Exercise\n",
    "\n",
    " - Single line fill\n",
    "\n",
    " ```python\n",
    " vallToFill = ???\n",
    " ```\n",
    "\n",
    " - Multi Line to Fill (At least one)\n",
    "\n",
    " ```python\n",
    " # You need to start writing\n",
    " ????\n",
    " ```\n",
    "\n",
    " - Section to Fill\n",
    "\n",
    "```python\n",
    "#===========================Fill This===========================#\n",
    "# 1. Explanation about what to do.\n",
    "# !! Remarks to follow / take under consideration.\n",
    "mX = ???\n",
    "\n",
    "???\n",
    "#===============================================================#\n",
    "```"
   ]
  },
  {
   "cell_type": "code",
   "execution_count": null,
   "metadata": {},
   "outputs": [],
   "source": [
    "# Configuration\n",
    "# %matplotlib inline\n",
    "\n",
    "seedNum = 512\n",
    "np.random.seed(seedNum)\n",
    "random.seed(seedNum)\n",
    "\n",
    "# sns.set_theme() #>! Apply SeaBorn theme\n",
    "\n",
    "runInGoogleColab = 'google.colab' in str(get_ipython())"
   ]
  },
  {
   "cell_type": "code",
   "execution_count": null,
   "metadata": {},
   "outputs": [],
   "source": [
    "# Constants\n",
    "\n"
   ]
  },
  {
   "cell_type": "code",
   "execution_count": null,
   "metadata": {},
   "outputs": [],
   "source": [
    "# Course Packages\n"
   ]
  },
  {
   "cell_type": "code",
   "execution_count": null,
   "metadata": {},
   "outputs": [],
   "source": [
    "# General Auxiliary Functions\n",
    "\n"
   ]
  },
  {
   "attachments": {},
   "cell_type": "markdown",
   "metadata": {},
   "source": [
    "## Question 001 - Line Parameterization and Scaling\n",
    "\n",
    "A line in 2D, $\\left( a, b, c \\right)$ obeys $a x + b y + c = 0$ for any point $\\left( x, y \\right)$ on the line.\n",
    "For $b \\neq 0$ can be defined by $y = m x + n$.\n",
    "\n",
    "1. Find the values of the parameters $m, n$ as a function of $\\left( a, b, c \\right)$.\n",
    "2. Find a line $\\left( d, e, f \\right)$ which is equivalent to the line $\\left( a, b, c \\right)$ which obeys $\\sqrt{ {d}^{2} + {e}^{2} } = 1$.\n",
    "3. Draw both lines on 2D axes. In order to do so, implement auxiliary functions.\n",
    "\n",
    "* <font color='brown'>(**#**)</font> The form $\\left( a, b, c \\right)$ is called the _General Form_.\n",
    "* <font color='brown'>(**#**)</font> The form $\\left( m, n \\right)$ is called the _Slope Intercept Form_ ($m$ - Slope, $n$ - Intercept).\n"
   ]
  },
  {
   "cell_type": "markdown",
   "metadata": {},
   "source": [
    "## Solution 001\n",
    "\n",
    "1. Set $m = - \\frac{a}{b}, \\, n = - \\frac{c}{b}$.\n",
    "2. Defining $d = \\frac{a}{ \\sqrt{ {a}^{2} + {b}^{2} } }, \\, e = \\frac{b}{ \\sqrt{ {a}^{2} + {b}^{2} } }, \\, f = \\frac{c}{ \\sqrt{ {a}^{2} + {b}^{2} } }$.  \n",
    "   If $\\left( {x}_{0}, {y}_{0} \\right)$ are on the line $\\left( a, b, c \\right)$ it means $a {x}_{0} + b {y}_{0} + c = 0$.  \n",
    "   Scaling the whole equation by $\\frac{1}{\\sqrt{ {a}^{2} + {b}^{2}}}$ will still yield a zero equation.\n",
    "\n",
    "---"
   ]
  },
  {
   "cell_type": "code",
   "execution_count": null,
   "metadata": {},
   "outputs": [],
   "source": [
    "# Extract the Slope Intercept Form\n",
    "# Implement a function, given (a, b, c), will extract (m, n).\n",
    "\n",
    "#===========================Fill This===========================#\n",
    "# 1. Implement the `ExtractSlopeIntercept()` function.\n",
    "# 2. The input is a 3 elements vector [a, b, c].\n",
    "# 3. The output is a 2 elements vector [m, n].\n",
    "# !! Assume `b != 0`.\n",
    "# !! Try to implement without loops.\n",
    "\n",
    "def ExtractSlopeIntercept(vL: np.ndarray) -> np.ndarray:\n",
    "    \n",
    "    return np.array([-vL[0] / vL[1], -vL[2] / vL[1]])\n",
    "\n",
    "#===============================================================#"
   ]
  },
  {
   "cell_type": "code",
   "execution_count": null,
   "metadata": {},
   "outputs": [],
   "source": [
    "# Calculate the Normalized Form\n",
    "# Implement a function, given (a, b, c), find (d, e, f) where `d ^ 2 + e ^ 2 = 1`.\n",
    "\n",
    "#===========================Fill This===========================#\n",
    "# 1. Implement the `NormalizeLine()` function.\n",
    "# 2. The input is a 3 elements vector [a, b, c].\n",
    "# 3. The output is a 3 elements vector [d, e, f].\n",
    "# !! Try to implement without loops.\n",
    "\n",
    "def NormalizeLine(vL: np.ndarray) -> np.ndarray:\n",
    "    \n",
    "    # vLN = vL.copy()\n",
    "    # vLN[:2] /= np.linalg.norm(vLN[:2])\n",
    "    # return vLN\n",
    "    \n",
    "    return vL / np.linalg.norm(vL[:2])\n",
    "\n",
    "#===============================================================#"
   ]
  },
  {
   "cell_type": "code",
   "execution_count": null,
   "metadata": {},
   "outputs": [],
   "source": [
    "# Verify Implementation \n",
    "\n",
    "tuGrid = (0, 2, 100) #<! Start, End, Number of Points\n",
    "ε = 1e-6\n",
    "\n",
    "vX = np.linspace(*tuGrid)\n",
    "mL = np.array([[+1.5, +1.0, -2.0], \n",
    "               [-2.0, +1.0, +2.0],\n",
    "               [-0.5, +1.0, +0.5]])\n",
    "\n",
    "\n",
    "numLines = np.size(mL, axis = 0)\n",
    "\n",
    "# Apply a function on each row\n",
    "mLN = np.apply_along_axis(NormalizeLine, axis = 1, arr = mL) #<! Normalized General Form\n",
    "\n",
    "# Apply a function on each row\n",
    "mSI  = np.apply_along_axis(ExtractSlopeIntercept, axis = 1, arr = mL) #<! Slope Intercept Form\n",
    "mSIN = np.apply_along_axis(ExtractSlopeIntercept, axis = 1, arr = mLN) #<! Slope Intercept Form form the Normalized Form\n",
    "\n",
    "# The Slope Interception form should be the same either from General Form or Normalized General Form\n",
    "print(f'Verified Implementation: {np.max(np.abs(mSI - mSIN)) < ε}')\n"
   ]
  },
  {
   "cell_type": "markdown",
   "metadata": {},
   "source": [
    "In order to draw the line, one must evaluate the value for $y$ given $x$.  \n",
    "Let $\\boldsymbol{x} \\in \\mathbb{R}^{k}$, then $\\boldsymbol{y} \\in \\mathbb{R}^{k}$ can be calculated by:\n",
    "\n",
    "$$ \\boldsymbol{y} = \\underbrace{\\begin{bmatrix} {x}_{1} & 1 \\\\ {x}_{2} & 1 \\\\ \\vdots & \\vdots \\\\ {x}_{k} & 1 \\end{bmatrix}}_{\\boldsymbol{X} \\in \\mathbb{R}^{k \\times 2}} \\begin{bmatrix} m \\\\ n \\end{bmatrix} $$\n",
    "\n",
    "Where $\\left\\{ \\left( {x}_{i}, {y}_{i} \\right) \\right\\}_{i = 1}^{k}$ are the points the line goes through."
   ]
  },
  {
   "cell_type": "code",
   "execution_count": null,
   "metadata": {},
   "outputs": [],
   "source": [
    "# Draw the Lines\n",
    "\n",
    "#===========================Fill This===========================#\n",
    "# 1. Generate the matrix `mX` as defined above (X).\n",
    "# 2. Calculate the matrix `mY` where each column matches each line in `mL`.\n",
    "# !! Try to implement without loops.\n",
    "# !! In `mL` each row represents a line.\n",
    "\n",
    "mX = np.column_stack((vX, np.ones(tuGrid[2])))\n",
    "mY = mX @ mSIN.T\n",
    "\n",
    "#===============================================================#\n"
   ]
  },
  {
   "cell_type": "code",
   "execution_count": null,
   "metadata": {},
   "outputs": [],
   "source": [
    "# Draw the Lines\n",
    "\n",
    "# Draw the Path (Using Plotly)\n",
    "hFig = go.Figure()\n",
    "for ii in range(numLines):\n",
    "    hFig.add_trace(go.Scatter(x = vX, y = mY[:, ii], mode = 'lines', name = f'Line #{ii:02d}'))\n",
    "hFig.update_layout(autosize = False, width = 600, height = 600, title = 'Line Set', \n",
    "                   legend = {'orientation': 'h', 'yanchor': 'bottom', 'y': 1.02, 'xanchor': 'left', 'x': 0.01})"
   ]
  },
  {
   "cell_type": "markdown",
   "metadata": {},
   "source": [
    "## Question 002 - Distance of a Point from a Line\n",
    "\n",
    "This section derives and implements the calculation of the orthogonal distance of a point from a line.  \n",
    "The line is assumed to be given in its _Normalized General Form_.\n",
    "\n",
    "1. Derive the distance of a point $\\left( {x}_{0}, {y}_{0} \\right)$ from a normalized line.  \n",
    "2. Implement a function which calculates the distance.\n"
   ]
  },
  {
   "cell_type": "markdown",
   "metadata": {},
   "source": [
    "## Solution 002\n",
    "\n",
    "For a given point $\\boldsymbol{p} \\in \\mathbb{R}^{2}$ and a line $\\boldsymbol{l} = {\\left[ a, b, c \\right]}^{T}, \\, {a}^{2} + {b}^{2} = 1$ the orthogonal distance is given by:\n",
    "\n",
    "$$ d \\left( \\boldsymbol{p}, \\boldsymbol{l} \\right) = \\left| \\boldsymbol{l}^{T} \\hat{\\boldsymbol{p}} \\right| $$\n",
    "\n",
    "Where $\\hat{\\boldsymbol{p}} = {\\left[ {p}_{1}, {p}_{2}, 1 \\right]}^{T}$.\n",
    "\n",
    "* <font color='brown'>(**#**)</font> See full derivation at the course's slides.\n",
    "\n",
    "---"
   ]
  },
  {
   "cell_type": "code",
   "execution_count": null,
   "metadata": {},
   "outputs": [],
   "source": [
    "# Calculate the Distance of a Point from a Line\n",
    "\n",
    "#===========================Fill This===========================#\n",
    "# 1. Implement the `DistancePointLine()` function.\n",
    "# !! You may assume the input line is normalized.\n",
    "# !! Try to avoid loops.\n",
    "# !! Try to avoid allocations.\n",
    "\n",
    "@njit\n",
    "def DistancePointLine( vL: np.ndarray, vP: np.ndarray ) -> float:\n",
    "    \"\"\"\n",
    "    Calculates the distance between the normalized line `vL` and the point `vP`.\n",
    "    Input:\n",
    "        vL          - Vector (3, ) The general form of the line (Normalized).\n",
    "        vP          - Vector (2, ) The point in 2D.\n",
    "    Output:\n",
    "        _           - Scalar, The distance between the line and the point.\n",
    "    \"\"\"\n",
    "    \n",
    "    return np.abs(np.dot(vL[:2], vP) + vL[2])\n",
    "\n",
    "#===============================================================#"
   ]
  },
  {
   "cell_type": "code",
   "execution_count": null,
   "metadata": {},
   "outputs": [],
   "source": [
    "# Verify Implementation\n",
    "\n",
    "# Points on the lines\n",
    "mP = np.array([[0, -mL[0, 2]],\n",
    "               [0, -mL[1, 2]],\n",
    "               [0, -mL[2, 2]]])\n",
    "\n",
    "verFlag = True\n",
    "for ii in range(numLines):\n",
    "    pointDis = DistancePointLine(mLN[ii, :], mP[ii, :]) #<! Use normalized form\n",
    "    verFlag &= (pointDis < ε)\n",
    "    print(f'The distance of the point ({mP[ii, 0]}, {mP[ii, 1]}) from the line ({mL[ii, 0]}, {mL[ii, 1]}, {mL[ii, 2]}) is: {pointDis}')\n",
    "    print(f'The distance calculation is verified: {verFlag}')\n"
   ]
  },
  {
   "cell_type": "markdown",
   "metadata": {},
   "source": [
    "## Question 003 - Point Which Minimizes the Sum of Squared Distance (Grid Search)\n",
    "\n",
    "This section searches the point which has the minimal sum of squared distance to the lines.  \n",
    "The search is using a vanilla _Grid Search_ technique.   \n",
    "Basically, building a grid and evaluating the objective function at each point in the grid.  \n",
    "The optimal value is the grid point which minimizes the objective function.\n",
    "\n",
    "In the case above the objective function the sum of squared distance to the set of lines:\n",
    "\n",
    "$$ f \\left( \\boldsymbol{p} \\right) = \\sum_{i = 1}^{M} {d}^{2} \\left( \\boldsymbol{p}, \\boldsymbol{l}_{i} \\right) $$\n",
    "\n",
    "The steps to find the optimal point are:\n",
    "\n",
    "1. Define the grid.\n",
    "2. Evaluate the function on each point of the grid.\n",
    "3. Find the point $\\boldsymbol{p}$ on the grid with the minimal value.\n"
   ]
  },
  {
   "cell_type": "code",
   "execution_count": null,
   "metadata": {},
   "outputs": [],
   "source": [
    "#===========================Fill This===========================#\n",
    "# 1. Implement the `CalcObjFunGrid()` function.\n",
    "# !! The function is jit accelerated.\n",
    "\n",
    "@njit\n",
    "def CalcObjFunGrid( vX: np.ndarray, vY: np.ndarray, mL: np.ndarray ) -> np.ndarray:\n",
    "    \"\"\"\n",
    "    Calculates the sum of squared distance between the set of normalized lines `mL` and the point `(vX, vY)`.\n",
    "    Input:\n",
    "        vX          - Vector (numGridPtsX, ) The `x` grid points.\n",
    "        vY          - Vector (numGridPtsY, ) The `y` grid points.\n",
    "        mL          - Matrix (numLines, 3) Set of normalized lines in general form.\n",
    "    Output:\n",
    "        mF          - Matrix (numGridPtsY, numGridPtsX), Sum of squared distance of the point from the lines.\n",
    "    Remarks:\n",
    "        *   The matrix `mF` is given `mF[ii, jj] = f(vX[jj], vY[jj])` where `f()` calculates the sum of squared distance.\n",
    "    \"\"\"\n",
    "    \n",
    "    mF = np.zeros(shape = (vY.size, vX.size)) #<! Allocate the output matrix\n",
    "    \n",
    "    for ii in range(vY.size): #<! Loop over rows\n",
    "        for jj in range(vX.size): #<! Loop over columns\n",
    "            for ll in range(numLines): #<! Loop over lines\n",
    "                mF[ii, jj] += np.square(DistancePointLine(mL[ll, :], np.array([vX[jj], vY[ii]]))) #<! Calculate the objective\n",
    "    \n",
    "    return mF\n",
    "\n",
    "#===============================================================#"
   ]
  },
  {
   "cell_type": "code",
   "execution_count": null,
   "metadata": {},
   "outputs": [],
   "source": [
    "# Define the Grid\n",
    "\n",
    "tuGridX = (+0.0, 2.0, 1001) #<! Start, End, Number of points\n",
    "tuGridY = (-2.0, 2.0, 1001)\n",
    "\n",
    "#===========================Fill This===========================#\n",
    "# 1. Build the grid points over `x` and `y`.\n",
    "# 2. Use the specs in `tuGridX` and `tuGridY`.\n",
    "# !! You may find `np.linspace()` useful.\n",
    "vXX = np.linspace(*tuGridX) #<! The grid over `x`\n",
    "vYY = np.linspace(*tuGridY) #<! The grid over `y`\n",
    "#===============================================================#\n"
   ]
  },
  {
   "cell_type": "code",
   "execution_count": null,
   "metadata": {},
   "outputs": [],
   "source": [
    "# Calculate the Objective Function\n",
    "\n",
    "mF = CalcObjFunGrid(vXX, vYY, mLN)"
   ]
  },
  {
   "cell_type": "code",
   "execution_count": null,
   "metadata": {},
   "outputs": [],
   "source": [
    "# Find the Arg Min\n",
    "# Find the coordinates of the point which minimizes the data\n",
    "\n",
    "minIdx   = np.argmin(mF) #<! Index of flattened array\n",
    "tuMinIdx = np.unravel_index(minIdx, mF.shape) #<! Index of the array shape\n",
    "vP = np.array([vXX[tuMinIdx[1]], vYY[tuMinIdx[0]]]) #<! x, y -> i, j"
   ]
  },
  {
   "cell_type": "code",
   "execution_count": null,
   "metadata": {},
   "outputs": [],
   "source": [
    "# Draw Results\n",
    "\n",
    "# Draw the Path (Using Plotly)\n",
    "hFig = go.Figure()\n",
    "hFig.add_trace(go.Heatmap(x = vXX, y = vYY, z = mF))\n",
    "for ii in range(numLines):\n",
    "    hFig.add_trace(go.Scatter(x = vX, y = mY[:, ii], mode = 'lines', name = f'Line #{ii:02d}'))\n",
    "hFig.add_trace(go.Scatter(x = vP[0:1], y = vP[1:2], mode = 'markers', name = f'Minimum'))\n",
    "hFig.update_layout(autosize = False, width = 600, height = 600, title = 'Grid Search', \n",
    "                   legend = {'orientation': 'h', 'yanchor': 'bottom', 'y': 1.02, 'xanchor': 'left', 'x': 0.01})"
   ]
  },
  {
   "cell_type": "markdown",
   "metadata": {},
   "source": [
    "## Question 004 - Point Which Minimizes the Sum of Squared Distance (Analytic)\n",
    "\n",
    "The objective function can be written as:\n",
    "\n",
    "$$ \\arg \\min_{\\boldsymbol{w}} \\frac{1}{2} {\\left\\| \\boldsymbol{L} \\boldsymbol{w} \\right\\|}_{2}^{2}, \\; \\text{ subject to } \\boldsymbol{e}_{3}^{T} \\boldsymbol{w} = 1 $$\n",
    "\n",
    "Where $\\boldsymbol{L} = \\begin{bmatrix} \\text{\\textemdash} \\; \\boldsymbol{l}_{1}^{T} \\; \\text{\\textemdash} \\\\ \\text{---} \\; \\boldsymbol{l}_{2}^{T} \\; \\text{---} \\\\ \\vdots \\\\ \\text{\\textemdash} \\ \\boldsymbol{l}_{M}^{T} \\; \\text{\\textemdash} \\end{bmatrix}$ where $\\boldsymbol{l} = {\\left[ {a}_{i}, {b}_{i}, {c}_{i} \\right]}^{T}$ is a line in a _normalized geneal form_ and $\\boldsymbol{w} = {\\left[ x, y, 1 \\right]}^{T}$ where $\\left( x, y \\right)$ is the point minimizer of the sum of squared distance.  \n",
    "Minimizing for $\\boldsymbol{w}$ will find the point of interest as it minimizes the sum of squared distances.  \n",
    "The constraint is basically to have the $c$ element multiplied by $1$.\n",
    "\n",
    "In order to find the optimal point:\n",
    "\n",
    "1. Build the Matrix $L$ (Normalized).\n",
    "2. Solve the Linear Equality Least Squares problem.\n",
    "3. Extract the point from the solution of (2).\n",
    "\n"
   ]
  },
  {
   "cell_type": "markdown",
   "metadata": {},
   "source": [
    "### Linear Least Squares with Equality Constraints\n",
    "\n",
    "The general problem is given by (Linear Least Squares with Linear Equality Constraints):\n",
    "\n",
    "$$\n",
    "\\begin{alignat*}{3}\n",
    "\\arg \\min_{x} & \\quad & \\frac{1}{2} \\left\\| A x - b \\right\\|_{2}^{2} \\\\\n",
    "\\text{subject to} & \\quad & C x = d\n",
    "\\end{alignat*}\n",
    "$$\n",
    "\n",
    "The Lagrangian is given by:\n",
    "\n",
    "$$ L \\left( x, \\nu \\right) = \\frac{1}{2} \\left\\| A x - b \\right\\|_{2}^{2} + {\\nu}^{T} \\left( C x - d \\right) $$\n",
    "\n",
    "From KKT Conditions the optimal values of $ \\hat{x}, \\hat{\\nu} $ obeys:\n",
    "\n",
    "$$ \\underbrace{\\begin{bmatrix}\n",
    "{A}^{T} A & {C}^{T} \\\\ \n",
    "C & 0\n",
    "\\end{bmatrix}}_{\\boldsymbol{P}} \\underbrace{\\begin{bmatrix}\n",
    "\\hat{x} \\\\ \n",
    "\\hat{\\nu}\n",
    "\\end{bmatrix}}_{\\boldsymbol{q}} = \\underbrace{\\begin{bmatrix}\n",
    "{A}^{T} b \\\\ \n",
    "d\n",
    "\\end{bmatrix}}_{\\boldsymbol{r}} $$\n",
    "\n",
    "This form is a solution for a simple linear system of equations."
   ]
  },
  {
   "cell_type": "code",
   "execution_count": null,
   "metadata": {},
   "outputs": [],
   "source": [
    "# Build Normalized Line Matrix\n",
    "# Basically it is already built as `mLN`."
   ]
  },
  {
   "cell_type": "code",
   "execution_count": null,
   "metadata": {},
   "outputs": [],
   "source": [
    "# Build the Linear Least Squares Model Matrix\n",
    "\n",
    "#===========================Fill This===========================#\n",
    "# 1. Find the matrix `mC` for te above case (Shape of `(1, 3)`).\n",
    "# 2. Build the matrix `mP`.\n",
    "# 3. Build the vector `vB`.\n",
    "# 3. Build the vector `vR`.\n",
    "\n",
    "# Build `mC`\n",
    "mC = np.zeros(shape = (1, 3))\n",
    "mC[0, 2] = 1.0\n",
    "\n",
    "# Build `mP`\n",
    "mP = np.row_stack((np.column_stack((mLN.T @ mLN, mC.T)), np.column_stack((mC, 0))))\n",
    "\n",
    "# Build `vB`\n",
    "vB = np.zeros(3)\n",
    "# Build `vR`\n",
    "vR = np.r_[(mLN.T @ vB, 1.0)]\n",
    "# One could build `vR` directly\n",
    "vR = np.zeros(4)\n",
    "vR[3] = 1.0\n",
    "\n",
    "#===============================================================#\n"
   ]
  },
  {
   "cell_type": "code",
   "execution_count": null,
   "metadata": {},
   "outputs": [],
   "source": [
    "# Solve the Linear Least Squares Problem\n",
    "# Given the matrix `mP` and the vector `vr` solve te linear system.\n",
    "\n",
    "#===========================Fill This===========================#\n",
    "# 1. Solve the linear system.\n",
    "# 2. Extract the point coordinates, `[x, y]`, out of `vQ`.\n",
    "# !! You mya find `sp.linalg.lstsq()` useful.\n",
    "\n",
    "vQ, *_ = sp.linalg.lstsq(mP, vR) #<! Linear Equality Constrained LS Solution\n",
    "vS = vQ[:2] #!< Solution: [x, y]\n",
    "\n",
    "#===============================================================#"
   ]
  },
  {
   "cell_type": "code",
   "execution_count": null,
   "metadata": {},
   "outputs": [],
   "source": [
    "# Draw Results\n",
    "\n",
    "# Draw the Path (Using Plotly)\n",
    "hFig = go.Figure()\n",
    "for ii in range(numLines):\n",
    "    hFig.add_trace(go.Scatter(x = vX, y = mY[:, ii], mode = 'lines', name = f'Line #{ii:02d}'))\n",
    "hFig.add_trace(go.Scatter(x = vP[0:1], y = vP[1:2], mode = 'markers', name = f'Grid Search'))\n",
    "hFig.add_trace(go.Scatter(x = vS[0:1], y = vS[1:2], mode = 'markers', name = f'Analytic'))\n",
    "hFig.update_layout(autosize = False, width = 600, height = 600, title = 'Sum of Squared Distance Minimizers', \n",
    "                   legend = {'orientation': 'h', 'yanchor': 'bottom', 'y': 1.02, 'xanchor': 'left', 'x': 0.01})"
   ]
  },
  {
   "cell_type": "markdown",
   "metadata": {},
   "source": [
    "* <font color='red'>(**?**)</font> Which method would you choose in production? Why?\n",
    "* <font color='blue'>(**!**)</font> Change the objective function of the grid to the sum of distances (**Not squared distances**). Compare results. \n",
    "* <font color='red'>(**?**)</font> Can we solve the sum of distances analytically? How?\n",
    "* <font color='brown'>(**#**)</font> The sum of distances is basically the ${L}_{1}$ norm of the distances vector. Which means it is more robust to outliers."
   ]
  }
 ],
 "metadata": {
  "kernelspec": {
   "display_name": "Python 3",
   "language": "python",
   "name": "python3"
  },
  "language_info": {
   "codemirror_mode": {
    "name": "ipython",
    "version": 3
   },
   "file_extension": ".py",
   "mimetype": "text/x-python",
   "name": "python",
   "nbconvert_exporter": "python",
   "pygments_lexer": "ipython3",
   "version": "3.11.8"
  },
  "toc": {
   "base_numbering": 1,
   "nav_menu": {},
   "number_sections": false,
   "sideBar": true,
   "skip_h1_title": false,
   "title_cell": "Table of Contents",
   "title_sidebar": "Contents",
   "toc_cell": false,
   "toc_position": {},
   "toc_section_display": true,
   "toc_window_display": true
  },
  "varInspector": {
   "cols": {
    "lenName": 16,
    "lenType": 16,
    "lenVar": 40
   },
   "kernels_config": {
    "python": {
     "delete_cmd_postfix": "",
     "delete_cmd_prefix": "del ",
     "library": "var_list.py",
     "varRefreshCmd": "print(var_dic_list())"
    },
    "r": {
     "delete_cmd_postfix": ") ",
     "delete_cmd_prefix": "rm(",
     "library": "var_list.r",
     "varRefreshCmd": "cat(var_dic_list()) "
    }
   },
   "types_to_exclude": [
    "module",
    "function",
    "builtin_function_or_method",
    "instance",
    "_Feature"
   ],
   "window_display": false
  },
  "vscode": {
   "interpreter": {
    "hash": "39577bab1f263e62e0b74f5b8086bd735049bf4751f6562b2d4b2969dc308293"
   }
  }
 },
 "nbformat": 4,
 "nbformat_minor": 4
}
