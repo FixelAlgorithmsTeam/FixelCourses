{
 "cells": [
  {
   "attachments": {},
   "cell_type": "markdown",
   "metadata": {},
   "source": [
    "[![Fixel Algorithms](https://i.imgur.com/AqKHVZ0.png)](https://fixelalgorithms.gitlab.io/)\n",
    "\n",
    "# AI Program\n",
    "\n",
    "## Python - Functions\n",
    "\n",
    "> Notebook by:\n",
    "> - Royi Avital RoyiAvital@fixelalgorithms.com\n",
    "\n",
    "## Revision History\n",
    "\n",
    "| Version | Date       | User        |Content / Changes                                                   |\n",
    "|---------|------------|-------------|--------------------------------------------------------------------|\n",
    "| 1.0.000 | 02/02/2024 | Royi Avital | First version                                                      |"
   ]
  },
  {
   "attachments": {},
   "cell_type": "markdown",
   "metadata": {},
   "source": [
    "[![Open In Colab](https://colab.research.google.com/assets/colab-badge.svg)](https://colab.research.google.com/github/FixelAlgorithmsTeam/FixelCourses/blob/master/AIProgram/2024_02/0018PythonFunctions.ipynb)"
   ]
  },
  {
   "cell_type": "code",
   "execution_count": null,
   "metadata": {
    "ExecuteTime": {
     "end_time": "2022-02-02T09:30:06.492269Z",
     "start_time": "2022-02-02T09:30:06.220934Z"
    }
   },
   "outputs": [],
   "source": [
    "# Import Packages\n",
    "\n",
    "# General Tools\n",
    "\n",
    "# Computer Vision\n",
    "\n",
    "# Machine Learning\n",
    "\n",
    "# Deep Learning\n",
    "\n",
    "# Miscellaneous\n",
    "import os\n",
    "import math\n",
    "from platform import python_version\n",
    "import random\n",
    "import time\n",
    "import urllib.request\n",
    "\n",
    "# Typing\n",
    "from typing import Callable, List, Tuple, Union\n",
    "\n",
    "# Visualization\n",
    "import matplotlib.pyplot as plt\n",
    "import seaborn as sns\n",
    "\n",
    "# Jupyter\n",
    "from IPython import get_ipython\n",
    "from IPython.display import Image, display\n",
    "from ipywidgets import Dropdown, FloatSlider, interact, IntSlider, Layout"
   ]
  },
  {
   "attachments": {},
   "cell_type": "markdown",
   "metadata": {},
   "source": [
    "## Notations\n",
    "\n",
    "* <font color='red'>(**?**)</font> Question to answer interactively.\n",
    "* <font color='blue'>(**!**)</font> Simple task to add code for the notebook.\n",
    "* <font color='green'>(**@**)</font> Optional / Extra self practice.\n",
    "* <font color='brown'>(**#**)</font> Note / Useful resource / Food for thought.\n",
    "\n",
    "Code Notations:\n",
    "\n",
    "```python\n",
    "someVar    = 2; #<! Notation for a variable\n",
    "vVector    = np.random.rand(4) #<! Notation for 1D array\n",
    "mMatrix    = np.random.rand(4, 3) #<! Notation for 2D array\n",
    "tTensor    = np.random.rand(4, 3, 2, 3) #<! Notation for nD array (Tensor)\n",
    "tuTuple    = (1, 2, 3) #<! Notation for a tuple\n",
    "lList      = [1, 2, 3] #<! Notation for a list\n",
    "dDict      = {1: 3, 2: 2, 3: 1} #<! Notation for a dictionary\n",
    "oObj       = MyClass() #<! Notation for an object\n",
    "dfData     = pd.DataFrame() #<! Notation for a data frame\n",
    "dsData     = pd.Series() #<! Notation for a series\n",
    "hObj       = plt.Axes() #<! Notation for an object / handler / function handler\n",
    "```\n",
    "\n",
    "### Code Exercise\n",
    "\n",
    " - Single line fill\n",
    "\n",
    " ```python\n",
    " vallToFill = ???\n",
    " ```\n",
    "\n",
    " - Multi Line to Fill (At least one)\n",
    "\n",
    " ```python\n",
    " # You need to start writing\n",
    " ????\n",
    " ```\n",
    "\n",
    " - Section to Fill\n",
    "\n",
    "```python\n",
    "#===========================Fill This===========================#\n",
    "# 1. Explanation about what to do.\n",
    "# !! Remarks to follow / take under consideration.\n",
    "mX = ???\n",
    "\n",
    "???\n",
    "#===============================================================#\n",
    "```"
   ]
  },
  {
   "cell_type": "code",
   "execution_count": null,
   "metadata": {},
   "outputs": [],
   "source": [
    "# Configuration\n",
    "# %matplotlib inline\n",
    "\n",
    "seedNum = 512\n",
    "# np.random.seed(seedNum)\n",
    "random.seed(seedNum)\n",
    "\n",
    "# Matplotlib default color palette\n",
    "lMatPltLibclr = ['#1f77b4', '#ff7f0e', '#2ca02c', '#d62728', '#9467bd', '#8c564b', '#e377c2', '#7f7f7f', '#bcbd22', '#17becf']\n",
    "# sns.set_theme() #>! Apply SeaBorn theme\n",
    "\n",
    "runInGoogleColab = 'google.colab' in str(get_ipython())"
   ]
  },
  {
   "cell_type": "code",
   "execution_count": null,
   "metadata": {},
   "outputs": [],
   "source": [
    "# Constants\n"
   ]
  },
  {
   "cell_type": "code",
   "execution_count": null,
   "metadata": {},
   "outputs": [],
   "source": [
    "# Course Packages\n"
   ]
  },
  {
   "cell_type": "code",
   "execution_count": null,
   "metadata": {},
   "outputs": [],
   "source": [
    "# General Auxiliary Functions"
   ]
  },
  {
   "cell_type": "markdown",
   "metadata": {},
   "source": [
    "## Python Functions\n",
    "\n",
    "There are 2 common ways to define a function in Python\n",
    "\n",
    " - Using `def`  \n",
    "   The classic method to create a function.  \n",
    " - Using `lambda`  \n",
    "   One line function.\n",
    "\n",
    "Functions assists with decomposing the code into modular chunks.  \n",
    "Functions also abstract the code, like a _black box_.\n",
    "\n",
    "* <font color='brown'>(**#**)</font> For deep understanding of the Python language: [Ten Thousand Meters](https://tenthousandmeters.com)."
   ]
  },
  {
   "cell_type": "markdown",
   "metadata": {},
   "source": [
    "### Functions by `def`"
   ]
  },
  {
   "cell_type": "code",
   "execution_count": null,
   "metadata": {},
   "outputs": [],
   "source": [
    "# Generate a Function\n",
    "\n",
    "def MulBy2( x ):\n",
    "    \"\"\"\n",
    "    Multiply the input by 2\n",
    "    \"\"\"\n",
    "    return 2 * x"
   ]
  },
  {
   "cell_type": "code",
   "execution_count": null,
   "metadata": {},
   "outputs": [],
   "source": [
    "# Run the Function\n",
    "\n",
    "MulBy2(2) #<! Try different types"
   ]
  },
  {
   "cell_type": "code",
   "execution_count": null,
   "metadata": {},
   "outputs": [],
   "source": [
    "# Functions can use variables from outer scope\n",
    "\n",
    "valK = 4\n",
    "\n",
    "def MulByK( x ):\n",
    "    \"\"\"\n",
    "    Multiply the input by `valK`\n",
    "    \"\"\"\n",
    "    return valK * x"
   ]
  },
  {
   "cell_type": "code",
   "execution_count": null,
   "metadata": {},
   "outputs": [],
   "source": [
    "# Run the Function\n",
    "\n",
    "MulByK(2) #<! Try different types"
   ]
  },
  {
   "cell_type": "markdown",
   "metadata": {},
   "source": [
    "* <font color='red'>(**?**)</font> What happens if we reset `valK` in a new cell and then call the function `MulByK(2)`?"
   ]
  },
  {
   "cell_type": "markdown",
   "metadata": {},
   "source": [
    "#### Function Parameters\n",
    "\n",
    "Functions can have multiple parameters:\n",
    "\n",
    " - Positional Parameters  \n",
    "   Their effect is set by their relative position in the function input.\n",
    " - Keyword Arguments  \n",
    "   Set by `keyword = value` without any specific order as long as they are after all positional parameters.\n",
    "\n",
    "See\n",
    " - [Python - Positional Argument vs Keyword Argument](https://stackoverflow.com/questions/9450656).\n"
   ]
  },
  {
   "cell_type": "code",
   "execution_count": null,
   "metadata": {},
   "outputs": [],
   "source": [
    "# Set a Function\n",
    "\n",
    "def MyFun(numA, numB, numC = 1):\n",
    "    \"\"\"\n",
    "    numA, numB: Positional.\n",
    "    numC: Positional optional.\n",
    "    \"\"\"\n",
    "\n",
    "    return (numA + numB) * numC\n"
   ]
  },
  {
   "cell_type": "code",
   "execution_count": null,
   "metadata": {},
   "outputs": [],
   "source": [
    "# Run the Function\n",
    "\n",
    "print(MyFun(4, 2.2, 1.1))\n",
    "print(MyFun(numB = 2.2, numA = 4, numC = 1.1)) #<! Positional can be used in a keyword manner"
   ]
  },
  {
   "cell_type": "code",
   "execution_count": null,
   "metadata": {},
   "outputs": [],
   "source": [
    "# Force Positional\n",
    "\n",
    "def MyFun(numA, numB, /, numC = 1):\n",
    "    \"\"\"\n",
    "    numA, numB: Positional (Only).\n",
    "    numC: Positional optional.\n",
    "    \"\"\"\n",
    "\n",
    "    return (numA + numB) * numC"
   ]
  },
  {
   "cell_type": "code",
   "execution_count": null,
   "metadata": {},
   "outputs": [],
   "source": [
    "print(MyFun(4, 2.2, 1.1))\n",
    "print(MyFun(numB = 2.2, numA = 4, numC = 1.1)) #<! Positional can be used in a keyword manner"
   ]
  },
  {
   "cell_type": "code",
   "execution_count": null,
   "metadata": {},
   "outputs": [],
   "source": [
    "def MyFun(numA, numB, /, *, numC = 1):\n",
    "    \"\"\"\n",
    "    numA, numB: Positional (Only).\n",
    "    numC: Keyword (Only) optional.\n",
    "    \"\"\"\n",
    "\n",
    "    return (numA + numB) * numC"
   ]
  },
  {
   "cell_type": "code",
   "execution_count": null,
   "metadata": {},
   "outputs": [],
   "source": [
    "# Run the function\n",
    "print(MyFun(4, 2.2, numC = 1.5))\n",
    "print(MyFun(4, 2.2, 1.5))"
   ]
  },
  {
   "cell_type": "markdown",
   "metadata": {},
   "source": [
    "#### Using a Dictionary for Optional Arguments\n",
    "\n",
    "In case there many arguments to a function yet its definition should stay compact one may use a dictionary."
   ]
  },
  {
   "cell_type": "code",
   "execution_count": null,
   "metadata": {},
   "outputs": [],
   "source": [
    "def SomeFun(valA, dManyArg):\n",
    "    \"\"\"\n",
    "    A function with many optional arguments in `dManyArg`\n",
    "    \"\"\"\n",
    "    valB = dManyArg.pop('valB', 1) #<! Includes a default value\n",
    "    valC = dManyArg.pop('valB', 2)\n",
    "    valD = dManyArg.pop('valB', 3)\n",
    "    valE = dManyArg.pop('valB', 4)\n",
    "\n",
    "    return valA + valB + valC + valD + valE"
   ]
  },
  {
   "cell_type": "code",
   "execution_count": null,
   "metadata": {},
   "outputs": [],
   "source": [
    "# Run the function\n",
    "\n",
    "SomeFun(4.5, {'valC': 10})"
   ]
  },
  {
   "cell_type": "markdown",
   "metadata": {},
   "source": [
    "#### Undefined Number of Parameters\n",
    "\n",
    "In Python a function can support a variable number of inputs using `*args` and `**kwargs`.\n",
    "\n",
    "See\n",
    "\n",
    " - [Python `args` and `kwargs`: Demystified](https://realpython.com/python-kwargs-and-args)."
   ]
  },
  {
   "cell_type": "code",
   "execution_count": null,
   "metadata": {},
   "outputs": [],
   "source": [
    "# Generate a Function with `*args`\n",
    "\n",
    "def SumInput(*args):\n",
    "    \"\"\"\n",
    "    Sum the input\n",
    "    \"\"\"\n",
    "    sumVal = 0\n",
    "    for inItm in args:\n",
    "        sumVal += inItm\n",
    "    \n",
    "    return sumVal"
   ]
  },
  {
   "cell_type": "code",
   "execution_count": null,
   "metadata": {},
   "outputs": [],
   "source": [
    "# Input must be iterable\n",
    "\n",
    "print(SumInput(1, 2, 3, 4))\n",
    "\n",
    "print(SumInput(*[1, 2, 3, 4])) #<! Unpacking\n",
    "\n",
    "print(SumInput(*(1, 2, 3, 4)))"
   ]
  },
  {
   "cell_type": "code",
   "execution_count": null,
   "metadata": {},
   "outputs": [],
   "source": [
    "# Generate a Function with `**kwargs`\n",
    "\n",
    "def DisplayPhoneBook(**kwargs):\n",
    "    \"\"\"\n",
    "    Sum the input\n",
    "    \"\"\"\n",
    "\n",
    "    for nameVal, numVal in kwargs.items():\n",
    "        print(f'{nameVal}: {numVal}')\n",
    "    \n",
    "    pass"
   ]
  },
  {
   "cell_type": "code",
   "execution_count": null,
   "metadata": {},
   "outputs": [],
   "source": [
    "DisplayPhoneBook(Renana = 42030, Boaz = 52030, Gideon = 62030)\n",
    "\n",
    "DisplayPhoneBook(**{'Renana': 42030, 'Boaz': 52030, 'Gideon': 62030})"
   ]
  },
  {
   "cell_type": "markdown",
   "metadata": {},
   "source": [
    "### Lambda Functions\n",
    "\n",
    "Lambda functions are a one liner function."
   ]
  },
  {
   "cell_type": "code",
   "execution_count": null,
   "metadata": {},
   "outputs": [],
   "source": [
    "# Lambda Function\n",
    "hF = lambda valA : valA ** 4"
   ]
  },
  {
   "cell_type": "code",
   "execution_count": null,
   "metadata": {},
   "outputs": [],
   "source": [
    "# Run the Function\n",
    "hF(10)"
   ]
  },
  {
   "cell_type": "code",
   "execution_count": null,
   "metadata": {},
   "outputs": [],
   "source": [
    "# Multiple Arguments and Variable form Global Scope\n",
    "\n",
    "valC = 2\n",
    "hG = lambda valA, valB : (valA + valB) ** valC"
   ]
  },
  {
   "cell_type": "code",
   "execution_count": null,
   "metadata": {},
   "outputs": [],
   "source": [
    "# Run the Function\n",
    "\n",
    "hG(1, 2)"
   ]
  },
  {
   "cell_type": "code",
   "execution_count": null,
   "metadata": {},
   "outputs": [],
   "source": [
    "type(hG)"
   ]
  },
  {
   "cell_type": "code",
   "execution_count": null,
   "metadata": {},
   "outputs": [],
   "source": [
    "type(SumInput)"
   ]
  },
  {
   "cell_type": "markdown",
   "metadata": {},
   "source": [
    "### Functions Are Objects  \n",
    "\n",
    "Functions are objects of type `function`.  \n",
    "As such they can be moved around as parameters of other functions."
   ]
  },
  {
   "cell_type": "code",
   "execution_count": null,
   "metadata": {},
   "outputs": [],
   "source": [
    "# Auxiliary function\n",
    "hF = lambda valA, valDiv : not(valA % valDiv) #!< Is divided by `valDiv`"
   ]
  },
  {
   "cell_type": "code",
   "execution_count": null,
   "metadata": {},
   "outputs": [],
   "source": [
    "# Function\n",
    "def PrintDivisors(hF, valDiv, *args):\n",
    "    for iItm in args:\n",
    "        print(f'{valDiv} is a divisor of {iItm}: {hF(iItm, valDiv)}')\n",
    "\n",
    "    pass"
   ]
  },
  {
   "cell_type": "code",
   "execution_count": null,
   "metadata": {},
   "outputs": [],
   "source": [
    "# Run function on numbers\n",
    "\n",
    "PrintDivisors(hF, 3, *range(20))"
   ]
  }
 ],
 "metadata": {
  "kernelspec": {
   "display_name": "Python 3",
   "language": "python",
   "name": "python3"
  },
  "language_info": {
   "codemirror_mode": {
    "name": "ipython",
    "version": 3
   },
   "file_extension": ".py",
   "mimetype": "text/x-python",
   "name": "python",
   "nbconvert_exporter": "python",
   "pygments_lexer": "ipython3",
   "version": "3.11.8"
  },
  "toc": {
   "base_numbering": 1,
   "nav_menu": {},
   "number_sections": false,
   "sideBar": true,
   "skip_h1_title": false,
   "title_cell": "Table of Contents",
   "title_sidebar": "Contents",
   "toc_cell": false,
   "toc_position": {},
   "toc_section_display": true,
   "toc_window_display": true
  },
  "varInspector": {
   "cols": {
    "lenName": 16,
    "lenType": 16,
    "lenVar": 40
   },
   "kernels_config": {
    "python": {
     "delete_cmd_postfix": "",
     "delete_cmd_prefix": "del ",
     "library": "var_list.py",
     "varRefreshCmd": "print(var_dic_list())"
    },
    "r": {
     "delete_cmd_postfix": ") ",
     "delete_cmd_prefix": "rm(",
     "library": "var_list.r",
     "varRefreshCmd": "cat(var_dic_list()) "
    }
   },
   "types_to_exclude": [
    "module",
    "function",
    "builtin_function_or_method",
    "instance",
    "_Feature"
   ],
   "window_display": false
  },
  "vscode": {
   "interpreter": {
    "hash": "39577bab1f263e62e0b74f5b8086bd735049bf4751f6562b2d4b2969dc308293"
   }
  }
 },
 "nbformat": 4,
 "nbformat_minor": 4
}
