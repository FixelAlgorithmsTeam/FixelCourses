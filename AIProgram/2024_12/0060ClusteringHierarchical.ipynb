{
 "cells": [
  {
   "attachments": {},
   "cell_type": "markdown",
   "metadata": {},
   "source": [
    "[![Fixel Algorithms](https://i.imgur.com/AqKHVZ0.png)](https://fixelalgorithms.gitlab.io/)\n",
    "\n",
    "# AI Program\n",
    "\n",
    "## Machine Learning - UnSupervised Learning - Clustering - Hierarchical Clustering\n",
    "\n",
    "This notebook focuses on _Agglomerative Clustering_ (Bottom Up).\n",
    "\n",
    "> Notebook by:\n",
    "> - Royi Avital RoyiAvital@fixelalgorithms.com\n",
    "\n",
    "## Revision History\n",
    "\n",
    "| Version | Date       | User        |Content / Changes                                                   |\n",
    "|---------|------------|-------------|--------------------------------------------------------------------|\n",
    "| 1.0.000 | 13/04/2024 | Royi Avital | First version                                                      |"
   ]
  },
  {
   "attachments": {},
   "cell_type": "markdown",
   "metadata": {},
   "source": [
    "[![Open In Colab](https://colab.research.google.com/assets/colab-badge.svg)](https://colab.research.google.com/github/FixelAlgorithmsTeam/FixelCourses/blob/master/AIProgram/2024_02/0060ClusteringHierarchical.ipynb)"
   ]
  },
  {
   "cell_type": "code",
   "execution_count": null,
   "metadata": {
    "ExecuteTime": {
     "end_time": "2022-02-02T09:30:06.492269Z",
     "start_time": "2022-02-02T09:30:06.220934Z"
    }
   },
   "outputs": [],
   "source": [
    "# Import Packages\n",
    "\n",
    "# General Tools\n",
    "import numpy as np\n",
    "import scipy as sp\n",
    "import pandas as pd\n",
    "\n",
    "# Machine Learning\n",
    "from sklearn.base import BaseEstimator, ClusterMixin\n",
    "\n",
    "# Miscellaneous\n",
    "import math\n",
    "import os\n",
    "from platform import python_version\n",
    "import random\n",
    "import timeit\n",
    "\n",
    "# Typing\n",
    "from typing import Callable, Dict, List, Optional, Self, Set, Tuple, Union\n",
    "\n",
    "# Visualization\n",
    "import matplotlib as mpl\n",
    "import matplotlib.pyplot as plt\n",
    "import seaborn as sns\n",
    "\n",
    "# Jupyter\n",
    "from IPython import get_ipython\n",
    "from IPython.display import Image\n",
    "from IPython.display import display\n",
    "from ipywidgets import Dropdown, FloatSlider, interact, IntSlider, Layout, SelectionSlider\n",
    "from ipywidgets import interact"
   ]
  },
  {
   "attachments": {},
   "cell_type": "markdown",
   "metadata": {},
   "source": [
    "## Notations\n",
    "\n",
    "* <font color='red'>(**?**)</font> Question to answer interactively.\n",
    "* <font color='blue'>(**!**)</font> Simple task to add code for the notebook.\n",
    "* <font color='green'>(**@**)</font> Optional / Extra self practice.\n",
    "* <font color='brown'>(**#**)</font> Note / Useful resource / Food for thought.\n",
    "\n",
    "Code Notations:\n",
    "\n",
    "```python\n",
    "someVar    = 2; #<! Notation for a variable\n",
    "vVector    = np.random.rand(4) #<! Notation for 1D array\n",
    "mMatrix    = np.random.rand(4, 3) #<! Notation for 2D array\n",
    "tTensor    = np.random.rand(4, 3, 2, 3) #<! Notation for nD array (Tensor)\n",
    "tuTuple    = (1, 2, 3) #<! Notation for a tuple\n",
    "lList      = [1, 2, 3] #<! Notation for a list\n",
    "dDict      = {1: 3, 2: 2, 3: 1} #<! Notation for a dictionary\n",
    "oObj       = MyClass() #<! Notation for an object\n",
    "dfData     = pd.DataFrame() #<! Notation for a data frame\n",
    "dsData     = pd.Series() #<! Notation for a series\n",
    "hObj       = plt.Axes() #<! Notation for an object / handler / function handler\n",
    "```\n",
    "\n",
    "### Code Exercise\n",
    "\n",
    " - Single line fill\n",
    "\n",
    " ```python\n",
    " vallToFill = ???\n",
    " ```\n",
    "\n",
    " - Multi Line to Fill (At least one)\n",
    "\n",
    " ```python\n",
    " # You need to start writing\n",
    " ????\n",
    " ```\n",
    "\n",
    " - Section to Fill\n",
    "\n",
    "```python\n",
    "#===========================Fill This===========================#\n",
    "# 1. Explanation about what to do.\n",
    "# !! Remarks to follow / take under consideration.\n",
    "mX = ???\n",
    "\n",
    "???\n",
    "#===============================================================#\n",
    "```"
   ]
  },
  {
   "cell_type": "code",
   "execution_count": null,
   "metadata": {},
   "outputs": [],
   "source": [
    "# Configuration\n",
    "# %matplotlib inline\n",
    "\n",
    "seedNum = 512\n",
    "np.random.seed(seedNum)\n",
    "random.seed(seedNum)\n",
    "\n",
    "# Matplotlib default color palette\n",
    "lMatPltLibclr = ['#1f77b4', '#ff7f0e', '#2ca02c', '#d62728', '#9467bd', '#8c564b', '#e377c2', '#7f7f7f', '#bcbd22', '#17becf']\n",
    "# sns.set_theme() #>! Apply SeaBorn theme\n",
    "\n",
    "runInGoogleColab = 'google.colab' in str(get_ipython())\n"
   ]
  },
  {
   "cell_type": "code",
   "execution_count": null,
   "metadata": {},
   "outputs": [],
   "source": [
    "# Constants\n",
    "\n",
    "FIG_SIZE_DEF    = (8, 8)\n",
    "ELM_SIZE_DEF    = 50\n",
    "CLASS_COLOR     = ('b', 'r')\n",
    "EDGE_COLOR      = 'k'\n",
    "MARKER_SIZE_DEF = 10\n",
    "LINE_WIDTH_DEF  = 2\n"
   ]
  },
  {
   "cell_type": "code",
   "execution_count": null,
   "metadata": {},
   "outputs": [],
   "source": [
    "# Courses Packages\n",
    "\n",
    "from DataVisualization import PlotDendrogram\n"
   ]
  },
  {
   "cell_type": "code",
   "execution_count": null,
   "metadata": {},
   "outputs": [],
   "source": [
    "# General Auxiliary Functions\n"
   ]
  },
  {
   "cell_type": "markdown",
   "metadata": {},
   "source": [
    "## Clustering by Agglomerative (Bottom Up) Policy\n",
    "\n",
    "In this note book we'll use the Agglomerative method for clustering.  \n",
    "We'll use the SciPy `hierarchy` module to create a SciKit Learn compatible clustering class.\n",
    "\n",
    "* <font color='brown'>(**#**)</font> SciKit Learn has a class for _agglomerative clustering_: [`AgglomerativeClustering`](https://scikit-learn.org/stable/modules/generated/sklearn.cluster.AgglomerativeClustering.html). Which is basically based on SciPy.\n",
    "* <font color='brown'>(**#**)</font> The \"magic\" in those method is the definition of the relation between samples and sub sets of samples."
   ]
  },
  {
   "cell_type": "code",
   "execution_count": null,
   "metadata": {},
   "outputs": [],
   "source": [
    "# Parameters\n",
    "\n",
    "# Data Generation\n",
    "csvFileName = r'https://github.com/FixelAlgorithmsTeam/FixelCourses/raw/master/DataSets/ShoppingData.csv'\n",
    "\n",
    "# Model\n",
    "linkageMethod   = 'ward' \n",
    "thrLvl          = 200\n",
    "clusterCriteria = 'distance'\n"
   ]
  },
  {
   "cell_type": "markdown",
   "metadata": {},
   "source": [
    "## Generate / Load Data\n",
    "\n",
    "The data is based on the Shopping Data `csv` file.\n",
    "\n",
    "* <font color='brown'>(**#**)</font> The data is known as `Mall_Customers.csv`. See [Machine Learning with Python - Datasets](https://github.com/tirthajyoti/Machine-Learning-with-Python/tree/master/Datasets).\n",
    "* <font color='brown'>(**#**)</font> Available at [Kaggle - `Mall_Customers`](https://www.kaggle.com/datasets/akram24/mall-customers).\n"
   ]
  },
  {
   "cell_type": "code",
   "execution_count": null,
   "metadata": {},
   "outputs": [],
   "source": [
    "# Load Data\n",
    "\n",
    "dfData = pd.read_csv(csvFileName)\n",
    "\n",
    "print(f'The features data shape: {dfData.shape}')"
   ]
  },
  {
   "cell_type": "code",
   "execution_count": null,
   "metadata": {},
   "outputs": [],
   "source": [
    "# The Data Frame\n",
    "\n",
    "dfData.head(10)"
   ]
  },
  {
   "cell_type": "code",
   "execution_count": null,
   "metadata": {},
   "outputs": [],
   "source": [
    "# Rename the Genre Column\n",
    "dfData = dfData.rename(columns = {'Genre': 'Sex'})\n",
    "dfData"
   ]
  },
  {
   "cell_type": "markdown",
   "metadata": {},
   "source": [
    "### Plot Data"
   ]
  },
  {
   "cell_type": "code",
   "execution_count": null,
   "metadata": {},
   "outputs": [],
   "source": [
    "# Plot the Data\n",
    "# Pair Plot of the data (Excluding ID)\n",
    "\n",
    "sns.pairplot(dfData, vars = ['Age', 'Annual Income (k$)', 'Spending Score (1-100)'], hue = 'Sex', height = 4, plot_kws = {'s': 20})\n",
    "plt.show()"
   ]
  },
  {
   "cell_type": "markdown",
   "metadata": {},
   "source": [
    "## Pre Process Data"
   ]
  },
  {
   "cell_type": "code",
   "execution_count": null,
   "metadata": {},
   "outputs": [],
   "source": [
    "# Remove ID data\n",
    "dfX = dfData.drop(columns = ['CustomerID'], inplace = False)\n",
    "dfX['Sex'] = dfX['Sex'].map({'Female': 0, 'Male': 1}) #<! Convert the 'Sex' column into {0, 1} values\n",
    "dfX"
   ]
  },
  {
   "cell_type": "markdown",
   "metadata": {},
   "source": [
    "## Cluster Data by Hierarchical Agglomerative (Bottom Up) Clustering Method\n",
    "\n",
    "The algorithm works as following:\n",
    "\n",
    "1. Set ${\\color{magenta}\\mathcal{C}}$, the set of all clusters: \n",
    "\n",
    "$$\n",
    "{\\color{magenta}\\mathcal{C}}=\\left\\{{\\color{green} \\left\\{ \\boldsymbol{x}_{1}\\right\\}} ,{\\color{green}\\left\\{ \\boldsymbol{x}_{2}\\right\\}} ,\\dots,{\\color{green}\\left\\{ \\boldsymbol{x}_{N}\\right\\}} \\right\\} \n",
    "$$\n",
    "\n",
    "2. While $\\left| {\\color{magenta}\\mathcal{C}} \\right| > 1$:\n",
    "   - Set ${\\color{green}\\mathcal{C}_{i^{\\star}}},{\\color{green}\\mathcal{C}_{j^{\\star}}}\\leftarrow\\arg\\min_{{\\color{green}\\mathcal{C}_{i}},{\\color{green}\\mathcal{C}_{j}}\\in{\\color{magenta}\\mathcal{C}}}d_{\\mathcal{C}}\\left({\\color{green}\\mathcal{C}_{i}},{\\color{green}\\mathcal{C}_{j}}\\right)$.\n",
    "   - Set ${\\color{green}\\widetilde{\\mathcal{C}}}\\leftarrow{\\color{green}\\mathcal{C}_{i^{\\star}}}\\cup{\\color{green}\\mathcal{C}_{j^{\\star}}}$.\n",
    "   - Set ${\\color{magenta}\\mathcal{C}}\\leftarrow{\\color{magenta}\\mathcal{C}}\\backslash\\left\\{ {\\color{green}\\mathcal{C}_{i^{\\star}}},{\\color{green}\\mathcal{C}_{j^{\\star}}}\\right\\} $.\n",
    "   - Set ${\\color{magenta}\\mathcal{C}}\\leftarrow{\\color{magenta}\\mathcal{C}}\\cup{\\color{green}\\widetilde{C}}$.\n",
    "\n",
    "The _Hyper Parameters_ of the model are:\n",
    "\n",
    "1. The clusters dissimilarity function.\n",
    "2. The clustering threshold.\n",
    "\n",
    "* <font color='brown'>(**#**)</font> SciKit Learn has a class for _agglomerative clustering_: [`AgglomerativeClustering`](https://scikit-learn.org/stable/modules/generated/sklearn.cluster.AgglomerativeClustering.html). Which is basically based on SciPy.\n"
   ]
  },
  {
   "cell_type": "code",
   "execution_count": null,
   "metadata": {},
   "outputs": [],
   "source": [
    "# Implement the Hierarchical Agglomerative clustering as an Estimator\n",
    "\n",
    "class HierarchicalAgglomerativeCluster(ClusterMixin, BaseEstimator):\n",
    "    def __init__(self, linkageMethod: str, thrLvl: Union[int, float], clusterCriteria: str) -> None:\n",
    "        self.linkageMethod      = linkageMethod\n",
    "        self.thrLvl             = thrLvl\n",
    "        self.clusterCriteria    = clusterCriteria\n",
    "\n",
    "        pass        \n",
    "    \n",
    "    def fit(self, mX: Union[np.ndarray, pd.DataFrame], vY: Union[np.ndarray, pd.Series, None] = None) -> Self:\n",
    "\n",
    "        numSamples  = mX.shape[0]\n",
    "        featuresDim = mX.shape[1]\n",
    "\n",
    "        mLinkage = sp.cluster.hierarchy.linkage(mX, method = self.linkageMethod)\n",
    "        vL       = sp.cluster.hierarchy.fcluster(mLinkage, self.thrLvl, criterion = self.clusterCriteria)\n",
    "\n",
    "        self.mLinkage           = mLinkage\n",
    "        self.labels_            = vL\n",
    "        self.n_features_in      = featuresDim\n",
    "\n",
    "        return self\n",
    "    \n",
    "    def transform(self, mX: Union[np.ndarray, pd.DataFrame]) -> np.ndarray:\n",
    "\n",
    "        return sp.hierarchy.linkage(mX, method = self.linkageMethod)\n",
    "    \n",
    "    def predict(self, mX: Union[np.ndarray, pd.DataFrame]) -> np.ndarray:\n",
    "\n",
    "        vL = sp.cluster.hierarchy.fcluster(self.mLinkage, self.thrLvl, criterion = self.clusterCriteria)\n",
    "\n",
    "        return vL\n"
   ]
  },
  {
   "cell_type": "markdown",
   "metadata": {},
   "source": [
    "* <font color='red'>(**?**)</font> In the context of a new data, what's the limitation of this method?"
   ]
  },
  {
   "cell_type": "code",
   "execution_count": null,
   "metadata": {},
   "outputs": [],
   "source": [
    "# Plotting Wrapper\n",
    "hPlotDendrogram = lambda linkageMethod, thrLvl: PlotDendrogram(dfX, linkageMethod, 200, thrLvl, figSize = (8, 8))"
   ]
  },
  {
   "cell_type": "code",
   "execution_count": null,
   "metadata": {},
   "outputs": [],
   "source": [
    "# Interactive Visualization\n",
    "\n",
    "# TODO: Add Criteria for `fcluster`\n",
    "linkageMethodDropdown = Dropdown(description = 'Linakage Method', options = [('Single', 'single'), ('Complete', 'complete'), ('Average', 'average'), ('Weighted', 'weighted'), ('Centroid', 'centroid'), ('Median', 'median'), ('Ward', 'ward')], value = 'ward')\n",
    "# criteriaMethodDropdown = Dropdown(description = 'Linakage Method', options = [('Single', 'single'), ('Complete', 'complete'), ('Average', 'average'), ('Weighted', 'weighted'), ('Centroid', 'centroid'), ('Median', 'median'), ('Ward', 'ward')], value = 'ward')\n",
    "thrLvlSlider = IntSlider(min = 1, max = 1000, step = 1, value = 100, layout = Layout(width = '30%'))\n",
    "interact(hPlotDendrogram, linkageMethod = linkageMethodDropdown, thrLvl = thrLvlSlider)\n",
    "\n",
    "plt.show()"
   ]
  },
  {
   "cell_type": "markdown",
   "metadata": {},
   "source": [
    "## Clustering as Feature\n",
    "\n",
    "We can visualize the effect on the data by treating the clustering labels as a feature."
   ]
  },
  {
   "cell_type": "code",
   "execution_count": null,
   "metadata": {},
   "outputs": [],
   "source": [
    "# Build and Train the Model\n",
    "oAggCluster = HierarchicalAgglomerativeCluster(linkageMethod = linkageMethod, thrLvl = thrLvl, clusterCriteria = clusterCriteria)\n",
    "oAggCluster = oAggCluster.fit(dfX)"
   ]
  },
  {
   "cell_type": "code",
   "execution_count": null,
   "metadata": {},
   "outputs": [],
   "source": [
    "# Add the Cluster ID as a Feature\n",
    "dfXX            = dfX.copy()\n",
    "dfXX['Label']   = oAggCluster.labels_"
   ]
  },
  {
   "cell_type": "code",
   "execution_count": null,
   "metadata": {},
   "outputs": [],
   "source": [
    "# Feature Analysis\n",
    "sns.pairplot(dfXX, hue = 'Label', palette = sns.color_palette()[:oAggCluster.labels_.max()], height = 3, plot_kws = {'s': 20})\n",
    "plt.show()"
   ]
  }
 ],
 "metadata": {
  "kernelspec": {
   "display_name": "Python 3",
   "language": "python",
   "name": "python3"
  },
  "language_info": {
   "codemirror_mode": {
    "name": "ipython",
    "version": 3
   },
   "file_extension": ".py",
   "mimetype": "text/x-python",
   "name": "python",
   "nbconvert_exporter": "python",
   "pygments_lexer": "ipython3",
   "version": "3.11.8"
  },
  "toc": {
   "base_numbering": 1,
   "nav_menu": {},
   "number_sections": false,
   "sideBar": true,
   "skip_h1_title": false,
   "title_cell": "Table of Contents",
   "title_sidebar": "Contents",
   "toc_cell": false,
   "toc_position": {},
   "toc_section_display": true,
   "toc_window_display": true
  },
  "varInspector": {
   "cols": {
    "lenName": 16,
    "lenType": 16,
    "lenVar": 40
   },
   "kernels_config": {
    "python": {
     "delete_cmd_postfix": "",
     "delete_cmd_prefix": "del ",
     "library": "var_list.py",
     "varRefreshCmd": "print(var_dic_list())"
    },
    "r": {
     "delete_cmd_postfix": ") ",
     "delete_cmd_prefix": "rm(",
     "library": "var_list.r",
     "varRefreshCmd": "cat(var_dic_list()) "
    }
   },
   "types_to_exclude": [
    "module",
    "function",
    "builtin_function_or_method",
    "instance",
    "_Feature"
   ],
   "window_display": false
  },
  "vscode": {
   "interpreter": {
    "hash": "39577bab1f263e62e0b74f5b8086bd735049bf4751f6562b2d4b2969dc308293"
   }
  }
 },
 "nbformat": 4,
 "nbformat_minor": 4
}
