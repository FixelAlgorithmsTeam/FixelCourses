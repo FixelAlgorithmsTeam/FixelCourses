{
 "cells": [
  {
   "attachments": {},
   "cell_type": "markdown",
   "metadata": {},
   "source": [
    "[![Fixel Algorithms](https://i.imgur.com/AqKHVZ0.png)](https://fixelalgorithms.gitlab.io/)\n",
    "\n",
    "# AI Program\n",
    "\n",
    "## SVD & Linear Least Squares - SVD Pseudo Inverse\n",
    "\n",
    "Calculating the Pseudo Inverse using the SVD.\n",
    "\n",
    "> Notebook by:\n",
    "> - Royi Avital RoyiAvital@fixelalgorithms.com\n",
    "\n",
    "## Revision History\n",
    "\n",
    "| Version | Date       | User        |Content / Changes                                                   |\n",
    "|---------|------------|-------------|--------------------------------------------------------------------|\n",
    "| 1.0.000 | 10/02/2024 | Royi Avital | First version                                                      |"
   ]
  },
  {
   "attachments": {},
   "cell_type": "markdown",
   "metadata": {},
   "source": [
    "[![Open In Colab](https://colab.research.google.com/assets/colab-badge.svg)](https://colab.research.google.com/github/FixelAlgorithmsTeam/FixelCourses/blob/master/AIProgram/2024_02/0014SVDPSeudoInverse.ipynb)"
   ]
  },
  {
   "cell_type": "code",
   "execution_count": null,
   "metadata": {
    "ExecuteTime": {
     "end_time": "2022-02-02T09:30:06.492269Z",
     "start_time": "2022-02-02T09:30:06.220934Z"
    }
   },
   "outputs": [],
   "source": [
    "# Import Packages\n",
    "\n",
    "# General Tools\n",
    "import numpy as np\n",
    "import scipy as sp\n",
    "import pandas as pd\n",
    "\n",
    "# Machine Learning\n",
    "\n",
    "# Miscellaneous\n",
    "import os\n",
    "import math\n",
    "from platform import python_version\n",
    "import random\n",
    "\n",
    "# Typing\n",
    "from typing import Callable, List, Tuple, Union\n",
    "\n",
    "# Visualization\n",
    "from matplotlib.colors import LogNorm, Normalize, PowerNorm\n",
    "import matplotlib.pyplot as plt\n",
    "import seaborn as sns\n",
    "\n",
    "# Jupyter\n",
    "from IPython import get_ipython\n",
    "from IPython.display import Image, display\n",
    "from ipywidgets import Dropdown, FloatSlider, interact, IntSlider, Layout"
   ]
  },
  {
   "attachments": {},
   "cell_type": "markdown",
   "metadata": {},
   "source": [
    "## Notations\n",
    "\n",
    "* <font color='red'>(**?**)</font> Question to answer interactively.\n",
    "* <font color='blue'>(**!**)</font> Simple task to add code for the notebook.\n",
    "* <font color='green'>(**@**)</font> Optional / Extra self practice.\n",
    "* <font color='brown'>(**#**)</font> Note / Useful resource / Food for thought.\n",
    "\n",
    "Code Notations:\n",
    "\n",
    "```python\n",
    "someVar    = 2; #<! Notation for a variable\n",
    "vVector    = np.random.rand(4) #<! Notation for 1D array\n",
    "mMatrix    = np.random.rand(4, 3) #<! Notation for 2D array\n",
    "tTensor    = np.random.rand(4, 3, 2, 3) #<! Notation for nD array (Tensor)\n",
    "tuTuple    = (1, 2, 3) #<! Notation for a tuple\n",
    "lList      = [1, 2, 3] #<! Notation for a list\n",
    "dDict      = {1: 3, 2: 2, 3: 1} #<! Notation for a dictionary\n",
    "oObj       = MyClass() #<! Notation for an object\n",
    "dfData     = pd.DataFrame() #<! Notation for a data frame\n",
    "dsData     = pd.Series() #<! Notation for a series\n",
    "hObj       = plt.Axes() #<! Notation for an object / handler / function handler\n",
    "```\n",
    "\n",
    "### Code Exercise\n",
    "\n",
    " - Single line fill\n",
    "\n",
    " ```python\n",
    " vallToFill = ???\n",
    " ```\n",
    "\n",
    " - Multi Line to Fill (At least one)\n",
    "\n",
    " ```python\n",
    " # You need to start writing\n",
    " ????\n",
    " ```\n",
    "\n",
    " - Section to Fill\n",
    "\n",
    "```python\n",
    "#===========================Fill This===========================#\n",
    "# 1. Explanation about what to do.\n",
    "# !! Remarks to follow / take under consideration.\n",
    "mX = ???\n",
    "\n",
    "???\n",
    "#===============================================================#\n",
    "```"
   ]
  },
  {
   "cell_type": "code",
   "execution_count": null,
   "metadata": {},
   "outputs": [],
   "source": [
    "# Configuration\n",
    "%matplotlib inline\n",
    "\n",
    "# warnings.filterwarnings(\"ignore\")\n",
    "\n",
    "seedNum = 512\n",
    "np.random.seed(seedNum)\n",
    "random.seed(seedNum)\n",
    "\n",
    "# Matplotlib default color palette\n",
    "lMatPltLibclr = ['#1f77b4', '#ff7f0e', '#2ca02c', '#d62728', '#9467bd', '#8c564b', '#e377c2', '#7f7f7f', '#bcbd22', '#17becf']\n",
    "# sns.set_theme() #>! Apply SeaBorn theme\n",
    "# sns.set_palette(\"tab10\")\n",
    "\n",
    "runInGoogleColab = 'google.colab' in str(get_ipython())"
   ]
  },
  {
   "cell_type": "code",
   "execution_count": null,
   "metadata": {},
   "outputs": [],
   "source": [
    "# Constants\n",
    "\n",
    "FIG_SIZE_DEF    = (8, 8)\n",
    "ELM_SIZE_DEF    = 50\n",
    "CLASS_COLOR     = ('b', 'r')\n",
    "EDGE_COLOR      = 'k'\n",
    "MARKER_SIZE_DEF = 10\n",
    "LINE_WIDTH_DEF  = 2\n"
   ]
  },
  {
   "cell_type": "code",
   "execution_count": null,
   "metadata": {},
   "outputs": [],
   "source": [
    "# Course Packages\n"
   ]
  },
  {
   "cell_type": "code",
   "execution_count": null,
   "metadata": {},
   "outputs": [],
   "source": [
    "# Auxiliary Functions\n",
    "\n",
    "def SolveLSMATLAB( mA: np.ndarray, vB: np.ndarray) -> np.ndarray:\n",
    "    # Like MATLAB, solve ||mX @ vX - vB||_2^2 to have the least amount of zeros.\n",
    "    # Least Squares solution with the most zeros.  \n",
    "    # Matches MATLAB with the number of zeros, yet not the exact solution.\n",
    "    # Written as `NumPy` or `SciPy` `lstsq()` gives the least norm solution.\n",
    "    vX, _, rankA, _ = np.linalg.lstsq(mA, vB, rcond = None)\n",
    "    if (rankA == mA.shape[1]):\n",
    "        return vX   # Nothing more to do if A is full rank\n",
    "    Q, R, P = sp.linalg.qr(mA.T, mode = 'full', pivoting = True)\n",
    "    Z = Q[:, rankA:].conj()\n",
    "    C = np.linalg.solve(Z[rankA:], -vX[rankA:])\n",
    "    \n",
    "    return vX + Z.dot(C)\n"
   ]
  },
  {
   "cell_type": "code",
   "execution_count": null,
   "metadata": {},
   "outputs": [],
   "source": [
    "# Parameters\n",
    "\n",
    "ε = 1e-8\n"
   ]
  },
  {
   "attachments": {},
   "cell_type": "markdown",
   "metadata": {},
   "source": [
    "## Example I\n"
   ]
  },
  {
   "cell_type": "code",
   "execution_count": null,
   "metadata": {},
   "outputs": [],
   "source": [
    "# Example I\n",
    "mA = np.array([[8, 10, 3, 30], [9, 6, 6, 18], [1, 1, 10, 3]])\n",
    "vX = np.array([1, 2, 3, 6])\n",
    "vB = mA @ vX"
   ]
  },
  {
   "cell_type": "markdown",
   "metadata": {},
   "source": [
    "* <font color='red'>(**?**)</font> What is the rank of `mA`?"
   ]
  },
  {
   "cell_type": "code",
   "execution_count": null,
   "metadata": {},
   "outputs": [],
   "source": [
    "# Rank of A\n",
    "\n",
    "#===========================Fill This===========================#\n",
    "# 1. Calculate the rank of `mA` using the SVD.\n",
    "# !! NumPy's SVD is given in `np.linalg.svd()`.\n",
    "# !! SciPy's SVD is given in `sp.linalg.svd()` (Low level options).\n",
    "# !! Pay attention to the format of the singular values.\n",
    "\n",
    "mU, vS, mVT = ???\n",
    "rankA = ???\n",
    "#===============================================================#\n",
    "\n",
    "print(f'The rank of `mA` is: {rankA}')\n"
   ]
  },
  {
   "cell_type": "markdown",
   "metadata": {},
   "source": [
    "* <font color='red'>(**?**)</font> What is the `full_matrices` option in the SVD?\n",
    "* <font color='red'>(**?**)</font> Given the rank, what does it mean about `mA`?\n",
    "* <font color='red'>(**?**)</font> Is `mA.T @ mA` SPD? Why? You may calculate to see."
   ]
  },
  {
   "cell_type": "code",
   "execution_count": null,
   "metadata": {},
   "outputs": [],
   "source": [
    "# The Pseudo Inverse of S\n",
    "\n",
    "#===========================Fill This===========================#\n",
    "# 1. Calculate the \"Pseudo Inverse\" of vS.\n",
    "# 2. Save the output as `vSI`.\n",
    "# !! Pay attention, this is a vector.\n",
    "\n",
    "?????\n",
    "#===============================================================#\n",
    "\n",
    "print(f'The product of `vSI * vS: {vSI * vS}')"
   ]
  },
  {
   "cell_type": "code",
   "execution_count": null,
   "metadata": {},
   "outputs": [],
   "source": [
    "# The Pseudo Inverse of A\n",
    "\n",
    "#===========================Fill This===========================#\n",
    "# 1. Build `mSI` using `vSI`.\n",
    "#    Think about the dimensions of `mSI`.\n",
    "# 2. Calculate the Pseudo Inverse of `mA`.  \n",
    "#    Save results as `mAPInv`.\n",
    "\n",
    "?????\n",
    "\n",
    "#===============================================================#\n",
    "\n",
    "print(f'The product of `mA @ mAPInv`: {mA @ mAPInv}')\n"
   ]
  },
  {
   "cell_type": "markdown",
   "metadata": {},
   "source": [
    "* <font color='red'>(**?**)</font> What will be the result of `mAPInv @ mA`? Explain."
   ]
  },
  {
   "cell_type": "code",
   "execution_count": null,
   "metadata": {},
   "outputs": [],
   "source": [
    "# The Solution of the Linear System\n",
    "\n",
    "#===========================Fill This===========================#\n",
    "# 1. Calculate the equation \"best solution\" using the pseudo inverse.\n",
    "# !! Basically estimate `vX`.\n",
    "\n",
    "vXEst = ???\n",
    "\n",
    "#===============================================================#\n",
    "\n",
    "print(f'The solution of the linear system using the \"Pseudo Inverse\" is: {vXEst}')"
   ]
  },
  {
   "cell_type": "markdown",
   "metadata": {},
   "source": [
    "* <font color='red'>(**?**)</font> What will be the Least Squares solution using `SolveLSMATLAB()`?"
   ]
  },
  {
   "cell_type": "markdown",
   "metadata": {},
   "source": [
    "## Example II"
   ]
  },
  {
   "cell_type": "code",
   "execution_count": null,
   "metadata": {},
   "outputs": [],
   "source": [
    "# Example II\n",
    "mA = np.array([[5, 0, 0, 0], [0, 2, 0, 0], [0, 0, 0, 0]])\n",
    "vB = np.array([5, 4, 3])"
   ]
  },
  {
   "cell_type": "markdown",
   "metadata": {},
   "source": [
    "* <font color='red'>(**?**)</font> What is the rank of `mA`?"
   ]
  },
  {
   "cell_type": "code",
   "execution_count": null,
   "metadata": {},
   "outputs": [],
   "source": [
    "# Rank of A\n",
    "\n",
    "#===========================Fill This===========================#\n",
    "# 1. Calculate the rank of `mA` using NumPy's built in function.\n",
    "\n",
    "rankA = ???\n",
    "#===============================================================#\n",
    "\n",
    "print(f'The rank of `mA` is: {rankA}')"
   ]
  },
  {
   "cell_type": "code",
   "execution_count": null,
   "metadata": {},
   "outputs": [],
   "source": [
    "# The SVD of A\n",
    "\n",
    "mU, vS, mVT = np.linalg.svd(mA)\n",
    "\n",
    "#===========================Fill This===========================#\n",
    "# 1. Build the matrix `mS`: `mA = mU @ mS @ mVT`.\n",
    "# !! You may find the function `np.fill_diagonal()` useful.\n",
    "\n",
    "?????\n",
    "#===============================================================#\n",
    "\n",
    "assert(np.linalg.norm((mU @ mS @ mVT) - mA, np.inf) < ε), 'The Matrix `mS` is not verified'\n",
    "print('The matrix `mS` is verified')\n"
   ]
  },
  {
   "cell_type": "markdown",
   "metadata": {},
   "source": [
    "* <font color='red'>(**?**)</font> What is the _null space_ of `mA`?"
   ]
  },
  {
   "cell_type": "code",
   "execution_count": null,
   "metadata": {},
   "outputs": [],
   "source": [
    "# The Pseudo Inverse of A\n",
    "\n",
    "#===========================Fill This===========================#\n",
    "# 1. Calculate the \"Pseudo Inverse\" of `mA` using NumPy's built in function.\n",
    "\n",
    "mAPInv = ???\n",
    "#===============================================================#\n"
   ]
  },
  {
   "cell_type": "code",
   "execution_count": null,
   "metadata": {},
   "outputs": [],
   "source": [
    "# The Solution of the Linear System\n",
    "\n",
    "vXEst = mAPInv @ vB\n",
    "print(f'The solution of the linear system using the \"Pseudo Inverse\" is: {vXEst}')"
   ]
  },
  {
   "cell_type": "markdown",
   "metadata": {},
   "source": [
    "* <font color='red'>(**?**)</font> Will the solution using `SolveLSMATLAB` be any different?\n",
    "* <font color='red'>(**?**)</font> Does the solution solve the linear system?"
   ]
  },
  {
   "cell_type": "code",
   "execution_count": null,
   "metadata": {},
   "outputs": [],
   "source": [
    "# Projection onto the Column Space\n",
    "# Calculate b̂ = P_R(A) (b) = sum_i^r {u}_{i}^{T} b {u}_{i}\n",
    "\n",
    "#===========================Fill This===========================#\n",
    "# 1. Calculate the projection of `vB` onto the column space of `mA`.\n",
    "# 2. Save the result as `vBHat`.\n",
    "# !! Try implement it without loops.\n",
    "\n",
    "?????\n",
    "#===============================================================#\n",
    "\n",
    "print(f'The projection of `vB` onto the column space of `mA`: {vBHat}')"
   ]
  },
  {
   "cell_type": "markdown",
   "metadata": {},
   "source": [
    "* <font color='red'>(**?**)</font> What is the connection between `vXEst` and `vBHat`?"
   ]
  },
  {
   "cell_type": "code",
   "execution_count": null,
   "metadata": {},
   "outputs": [],
   "source": [
    "# Comparing the Least Squares and Pseudo Inverse Solutions\n",
    "\n",
    "print(f'The Pseudo Inverse Solution: {np.linalg.pinv(mA) @ vB}')\n",
    "print(f'The Least Squares Solution: {SolveLSMATLAB(mA, vB)}')"
   ]
  },
  {
   "cell_type": "markdown",
   "metadata": {},
   "source": [
    "* <font color='red'>(**?**)</font> Explain the comparison and the results."
   ]
  },
  {
   "cell_type": "code",
   "execution_count": null,
   "metadata": {},
   "outputs": [],
   "source": [
    "# Changing A\n",
    "\n",
    "mA[1, 3] = 4.0\n"
   ]
  },
  {
   "cell_type": "code",
   "execution_count": null,
   "metadata": {},
   "outputs": [],
   "source": [
    "# Comparing the Least Squares and Pseudo Inverse Solutions\n",
    "\n",
    "print(f'The Pseudo Inverse Solution: {np.linalg.pinv(mA) @ vB}')\n",
    "print(f'The Least Squares Solution: {SolveLSMATLAB(mA, vB)}')\n"
   ]
  },
  {
   "cell_type": "markdown",
   "metadata": {},
   "source": [
    "* <font color='red'>(**?**)</font> Explain the comparison and the results.\n",
    "* <font color='brown'>(**#**)</font> The `SciPy` or `NumPy` solvers (`np.linalg.lstsq()` / `np.linalg.lstsq()`) return, in case of [underdetermined system](https://en.wikipedia.org/wiki/Underdetermined_system), the _least norm_ solution.  \n",
    "  This is the motivation of creating `SolveLSMATLAB()` which is based on [How to Replicate MATLAB's `mA \\ vB` (`mldivide()`) Operator Using `NumPy` / `SciPy`](https://stackoverflow.com/questions/33614378)."
   ]
  }
 ],
 "metadata": {
  "kernelspec": {
   "display_name": "Python 3",
   "language": "python",
   "name": "python3"
  },
  "language_info": {
   "codemirror_mode": {
    "name": "ipython",
    "version": 3
   },
   "file_extension": ".py",
   "mimetype": "text/x-python",
   "name": "python",
   "nbconvert_exporter": "python",
   "pygments_lexer": "ipython3",
   "version": "3.11.7"
  },
  "toc": {
   "base_numbering": 1,
   "nav_menu": {},
   "number_sections": false,
   "sideBar": true,
   "skip_h1_title": false,
   "title_cell": "Table of Contents",
   "title_sidebar": "Contents",
   "toc_cell": false,
   "toc_position": {},
   "toc_section_display": true,
   "toc_window_display": true
  },
  "varInspector": {
   "cols": {
    "lenName": 16,
    "lenType": 16,
    "lenVar": 40
   },
   "kernels_config": {
    "python": {
     "delete_cmd_postfix": "",
     "delete_cmd_prefix": "del ",
     "library": "var_list.py",
     "varRefreshCmd": "print(var_dic_list())"
    },
    "r": {
     "delete_cmd_postfix": ") ",
     "delete_cmd_prefix": "rm(",
     "library": "var_list.r",
     "varRefreshCmd": "cat(var_dic_list()) "
    }
   },
   "types_to_exclude": [
    "module",
    "function",
    "builtin_function_or_method",
    "instance",
    "_Feature"
   ],
   "window_display": false
  },
  "vscode": {
   "interpreter": {
    "hash": "39577bab1f263e62e0b74f5b8086bd735049bf4751f6562b2d4b2969dc308293"
   }
  }
 },
 "nbformat": 4,
 "nbformat_minor": 4
}
