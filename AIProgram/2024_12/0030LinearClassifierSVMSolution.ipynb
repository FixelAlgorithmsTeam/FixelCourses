{
 "cells": [
  {
   "attachments": {},
   "cell_type": "markdown",
   "metadata": {},
   "source": [
    "[![Fixel Algorithms](https://i.imgur.com/AqKHVZ0.png)](https://fixelalgorithms.gitlab.io/)\n",
    "\n",
    "# AI Program\n",
    "\n",
    "## Machine Learning - Classification - Linear Classifier Support Vector Machine (SVM) - Exercise\n",
    "\n",
    "> Notebook by:\n",
    "> - Royi Avital RoyiAvital@fixelalgorithms.com\n",
    "\n",
    "## Revision History\n",
    "\n",
    "| Version | Date       | User        |Content / Changes                                                   |\n",
    "|---------|------------|-------------|--------------------------------------------------------------------|\n",
    "| 1.0.001 | 13/03/2024 | Royi Avital | Added explanation on the `LinearSVC` class parameters              |\n",
    "| 1.0.000 | 09/03/2024 | Royi Avital | First version                                                      |"
   ]
  },
  {
   "attachments": {},
   "cell_type": "markdown",
   "metadata": {},
   "source": [
    "[![Open In Colab](https://colab.research.google.com/assets/colab-badge.svg)](https://colab.research.google.com/github/FixelAlgorithmsTeam/FixelCourses/blob/master/AIProgram/2024_02/0030LinearClassifierSVM.ipynb)"
   ]
  },
  {
   "cell_type": "code",
   "execution_count": null,
   "metadata": {
    "ExecuteTime": {
     "end_time": "2022-02-02T09:30:06.492269Z",
     "start_time": "2022-02-02T09:30:06.220934Z"
    }
   },
   "outputs": [],
   "source": [
    "# Import Packages\n",
    "\n",
    "# General Tools\n",
    "import numpy as np\n",
    "import scipy as sp\n",
    "import pandas as pd\n",
    "\n",
    "# Machine Learning\n",
    "\n",
    "# Image Processing\n",
    "\n",
    "# Machine Learning\n",
    "\n",
    "\n",
    "# Miscellaneous\n",
    "import os\n",
    "from platform import python_version\n",
    "import random\n",
    "import timeit\n",
    "\n",
    "# Typing\n",
    "from typing import Callable, Dict, List, Optional, Set, Tuple, Union\n",
    "\n",
    "# Visualization\n",
    "import matplotlib as mpl\n",
    "import matplotlib.pyplot as plt\n",
    "import seaborn as sns\n",
    "\n",
    "# Jupyter\n",
    "from IPython import get_ipython\n",
    "from IPython.display import Image, display\n",
    "from ipywidgets import Dropdown, FloatSlider, interact, IntSlider, Layout"
   ]
  },
  {
   "attachments": {},
   "cell_type": "markdown",
   "metadata": {},
   "source": [
    "## Notations\n",
    "\n",
    "* <font color='red'>(**?**)</font> Question to answer interactively.\n",
    "* <font color='blue'>(**!**)</font> Simple task to add code for the notebook.\n",
    "* <font color='green'>(**@**)</font> Optional / Extra self practice.\n",
    "* <font color='brown'>(**#**)</font> Note / Useful resource / Food for thought.\n",
    "\n",
    "Code Notations:\n",
    "\n",
    "```python\n",
    "someVar    = 2; #<! Notation for a variable\n",
    "vVector    = np.random.rand(4) #<! Notation for 1D array\n",
    "mMatrix    = np.random.rand(4, 3) #<! Notation for 2D array\n",
    "tTensor    = np.random.rand(4, 3, 2, 3) #<! Notation for nD array (Tensor)\n",
    "tuTuple    = (1, 2, 3) #<! Notation for a tuple\n",
    "lList      = [1, 2, 3] #<! Notation for a list\n",
    "dDict      = {1: 3, 2: 2, 3: 1} #<! Notation for a dictionary\n",
    "oObj       = MyClass() #<! Notation for an object\n",
    "dfData     = pd.DataFrame() #<! Notation for a data frame\n",
    "dsData     = pd.Series() #<! Notation for a series\n",
    "hObj       = plt.Axes() #<! Notation for an object / handler / function handler\n",
    "```\n",
    "\n",
    "### Code Exercise\n",
    "\n",
    " - Single line fill\n",
    "\n",
    " ```python\n",
    " vallToFill = ???\n",
    " ```\n",
    "\n",
    " - Multi Line to Fill (At least one)\n",
    "\n",
    " ```python\n",
    " # You need to start writing\n",
    " ????\n",
    " ```\n",
    "\n",
    " - Section to Fill\n",
    "\n",
    "```python\n",
    "#===========================Fill This===========================#\n",
    "# 1. Explanation about what to do.\n",
    "# !! Remarks to follow / take under consideration.\n",
    "mX = ???\n",
    "\n",
    "???\n",
    "#===============================================================#\n",
    "```"
   ]
  },
  {
   "cell_type": "code",
   "execution_count": null,
   "metadata": {},
   "outputs": [],
   "source": [
    "# Configuration\n",
    "# %matplotlib inline\n",
    "\n",
    "seedNum = 512\n",
    "np.random.seed(seedNum)\n",
    "random.seed(seedNum)\n",
    "\n",
    "# Matplotlib default color palette\n",
    "lMatPltLibclr = ['#1f77b4', '#ff7f0e', '#2ca02c', '#d62728', '#9467bd', '#8c564b', '#e377c2', '#7f7f7f', '#bcbd22', '#17becf']\n",
    "# sns.set_theme() #>! Apply SeaBorn theme\n",
    "\n",
    "runInGoogleColab = 'google.colab' in str(get_ipython())"
   ]
  },
  {
   "cell_type": "code",
   "execution_count": null,
   "metadata": {},
   "outputs": [],
   "source": [
    "# Constants\n",
    "\n",
    "FIG_SIZE_DEF    = (8, 8)\n",
    "ELM_SIZE_DEF    = 50\n",
    "CLASS_COLOR     = ('b', 'r')\n",
    "EDGE_COLOR      = 'k'\n",
    "MARKER_SIZE_DEF = 10\n",
    "LINE_WIDTH_DEF  = 2"
   ]
  },
  {
   "cell_type": "code",
   "execution_count": null,
   "metadata": {},
   "outputs": [],
   "source": [
    "# Courses Packages\n",
    "\n",
    "from DataVisualization import Plot2DLinearClassifier, PlotBinaryClassData\n"
   ]
  },
  {
   "cell_type": "code",
   "execution_count": null,
   "metadata": {},
   "outputs": [],
   "source": [
    "# General Auxiliary Functions\n",
    "\n"
   ]
  },
  {
   "cell_type": "code",
   "execution_count": null,
   "metadata": {},
   "outputs": [],
   "source": [
    "# Parameters\n",
    "\n",
    "# Data Generation\n",
    "\n",
    "\n",
    "# Data Visualization\n",
    "numGridPts = 250"
   ]
  },
  {
   "cell_type": "markdown",
   "metadata": {},
   "source": [
    "## Exercise\n",
    "\n",
    "In this exercise we'll do the following:\n",
    "\n",
    "1. Apply SVM Classifier on the [_Breast Cancer Wisconsin (Diagnostic) Data Set_](https://archive.ics.uci.edu/ml/datasets/Breast+Cancer+Wisconsin+(Diagnostic)).\n",
    "2. Use the `predict()` method of the SVM object.\n",
    "3. Implement our own score function: `ClsAccuracy()`.\n",
    "4. Compare it to the method `score()` of the SVM object.\n",
    "5. Find the value of the parameter `C` which maximizes the accuracy.\n",
    "\n",
    "* <font color='brown'>(**#**)</font> This notebook uses the `SVC` class. Yet if the `linear` kernel is used, it might be better to use `LinearSVC` which is oriented to a larger data sets."
   ]
  },
  {
   "cell_type": "markdown",
   "metadata": {},
   "source": [
    "## Generate / Load Data\n"
   ]
  },
  {
   "cell_type": "code",
   "execution_count": null,
   "metadata": {},
   "outputs": [],
   "source": [
    "# Load Modules\n",
    "\n",
    "#===========================Fill This===========================#\n",
    "# 1. Load the `load_breast_cancer` function from the `sklearn.datasets` module.\n",
    "# 2. Load the `SVC` class from the `sklearn.svm` module.\n",
    "\n",
    "from sklearn.datasets import load_breast_cancer\n",
    "from sklearn.svm import SVC\n",
    "#===============================================================#"
   ]
  },
  {
   "cell_type": "code",
   "execution_count": null,
   "metadata": {},
   "outputs": [],
   "source": [
    "# Load Data \n",
    "\n",
    "dData = load_breast_cancer()\n",
    "mX    = dData.data\n",
    "vY    = dData.target\n",
    "\n",
    "print(f'The features data shape: {mX.shape}')\n",
    "print(f'The labels data shape: {vY.shape}')"
   ]
  },
  {
   "cell_type": "code",
   "execution_count": null,
   "metadata": {},
   "outputs": [],
   "source": [
    "# Pre Process Data\n",
    "# Standardizing the features to have zero mean and unit variance and labels into {-1, 1}.\n",
    "\n",
    "#===========================Fill This===========================#\n",
    "# 1. Normalize Data (Features): Each column to have zero mean and unit standard deviation.\n",
    "# 2. Transforming the Labels into {-1, 1}.\n",
    "\n",
    "mX = mX - np.mean(mX, axis = 0)\n",
    "mX = mX / np.std (mX, axis = 0)\n",
    "\n",
    "\n",
    "vY[vY == 0] = -1\n",
    "#===============================================================#"
   ]
  },
  {
   "cell_type": "markdown",
   "metadata": {},
   "source": [
    "* <font color='brown'>(**#**)</font> Normalization is ambiguous in this context. In some cases it is used to describe the manipulation of the minimum and maximum values of the data."
   ]
  },
  {
   "cell_type": "code",
   "execution_count": null,
   "metadata": {},
   "outputs": [],
   "source": [
    "# Data Dimensions\n",
    "\n",
    "numSamples  = mX.shape[0]\n",
    "print(f'The features data shape: {mX.shape}') #>! Should be (569, 30)"
   ]
  },
  {
   "cell_type": "markdown",
   "metadata": {},
   "source": [
    "* <font color='red'>(**?**)</font> Does the data have a constant column of $1$ or $-1$?  \n",
    "* <font color='red'>(**?**)</font> Should we add a constant column? Look at the [mathematical formulation of the SVC in SciKit Learn](https://scikit-learn.org/stable/modules/svm.html#mathematical-formulation).  \n",
    "* <font color='red'>(**?**)</font> What's the `intercept_` attribute of the object?  "
   ]
  },
  {
   "cell_type": "markdown",
   "metadata": {},
   "source": [
    "## Train a SVM Classifier\n",
    "\n",
    "This sections trains an SVM Classifier using SciKit Learn."
   ]
  },
  {
   "cell_type": "markdown",
   "metadata": {},
   "source": [
    "### The SciKit Learn Package\n",
    "\n",
    "In the course, from now on, we'll mostly use modules and functions from the [SciKit Learn](https://scikit-learn.org) package.  \n",
    "It is mostly known for its API of `<model>.fit()` and `<model>.predict()`.  \n",
    "This simple choice of convention created the ability to scale in the form of pipelines, chaining models for a greater model."
   ]
  },
  {
   "cell_type": "markdown",
   "metadata": {},
   "source": [
    "### SVM Classifier Class"
   ]
  },
  {
   "cell_type": "code",
   "execution_count": null,
   "metadata": {},
   "outputs": [],
   "source": [
    "# Construct the SVC Object\n",
    "# Use the SVC constructor and the parameters below.\n",
    "\n",
    "paramC      = 0.0001\n",
    "kernelType = 'linear'\n",
    "\n",
    "#===========================Fill This===========================#\n",
    "# 1. Create a realization of the `SVC` class using the `C` and `kernel` parameters.\n",
    "oSvmClassifier = SVC(C = paramC, kernel = kernelType)\n",
    "#===============================================================#"
   ]
  },
  {
   "cell_type": "code",
   "execution_count": null,
   "metadata": {},
   "outputs": [],
   "source": [
    "# Train the Model\n",
    "\n",
    "#===========================Fill This===========================#\n",
    "# 1. Train the model using the `fit()` method.\n",
    "oSvmClassifier.fit(mX, vY)\n",
    "#===============================================================#\n"
   ]
  },
  {
   "cell_type": "markdown",
   "metadata": {},
   "source": [
    "* <font color='blue'>(**!**)</font> Create a function called `ClsAccuracy( oCls, mX, vY )`  \n",
    "  The function input is a model with `predict()` method and the data and labels.  \n",
    "  The function output is the accuracy of the model (In the range [0, 1])."
   ]
  },
  {
   "cell_type": "code",
   "execution_count": null,
   "metadata": {},
   "outputs": [],
   "source": [
    "# Scoring (Accuracy) Function\n",
    "\n",
    "#===========================Fill This===========================#\n",
    "# .1 Implement the function `ClsAccuracy()` as defined.\n",
    "\n",
    "def ClsAccuracy( oCls, mX: np.ndarray, vY: np.ndarray ) -> np.floating:\n",
    "    '''\n",
    "    Calculates the accuracy (Fraction) of a model.\n",
    "        oCls - A fitted classifier with a `predict()` method.\n",
    "        mX   - The input data  mX.shape = (N, d)\n",
    "        vY   - The true labels vY.shape = (N,)\n",
    "    '''\n",
    "\n",
    "    return np.mean(oCls.predict(mX) == vY)\n",
    "\n",
    "#===============================================================#"
   ]
  },
  {
   "cell_type": "code",
   "execution_count": null,
   "metadata": {},
   "outputs": [],
   "source": [
    "# Score the Model\n",
    "\n",
    "modelAcc = ClsAccuracy(oSvmClassifier, mX, vY)\n",
    "\n",
    "print(f'The model accuracy on the training data is: {modelAcc:0.2%}')"
   ]
  },
  {
   "cell_type": "markdown",
   "metadata": {},
   "source": [
    "* <font color='blue'>(**!**)</font> Compare the manual scoring function to the `score()` method of the classifier."
   ]
  },
  {
   "cell_type": "code",
   "execution_count": null,
   "metadata": {},
   "outputs": [],
   "source": [
    "# Comparing the Score\n",
    "\n",
    "#===========================Fill This===========================#\n",
    "# 1. Use the model's method `score()` to evaluate the accuracy.\n",
    "modelAccRef = oSvmClassifier.score(mX, vY)\n",
    "#===============================================================#\n",
    "\n",
    "print(f'The model accuracy (Based on the `score()` method) on the training data is: {modelAccRef:0.2%}')"
   ]
  },
  {
   "cell_type": "markdown",
   "metadata": {},
   "source": [
    "### Optimizing the Parameter `C` of the Model\n",
    "\n",
    " * <font color='blue'>(**!**)</font> Create an array of values of the parameter `C`.\n",
    " * <font color='blue'>(**!**)</font> Create a loop which check the score for each `C` value.\n",
    " * <font color='blue'>(**!**)</font> Keep the `C` value which maximizes the score."
   ]
  },
  {
   "cell_type": "code",
   "execution_count": null,
   "metadata": {},
   "outputs": [],
   "source": [
    "#===========================Fill This===========================#\n",
    "numParams = 100 #<! Number of different values of `C`\n",
    "lC = np.linspace(0.001, 5, numParams) #<! The list of `C` values to optimize over\n",
    "\n",
    "dBestScore = {'Accuracy': 0, 'C': 0} #<! Dictionary to keep the highest score and the corresponding `C`\n",
    "\n",
    "for ii, paramC in enumerate(lC):\n",
    "    oSvmClassifier = SVC(C = paramC, kernel = 'linear') #<! Construct the SVC object\n",
    "    oSvmClassifier = oSvmClassifier.fit(mX, vY) #<! Train on the data\n",
    "    modelScore     = oSvmClassifier.score(mX, vY) #<! Calculate the score (Accuracy)\n",
    "\n",
    "    if (modelScore > dBestScore['Accuracy']):\n",
    "        dBestScore['Accuracy'] = modelScore #<! Update the new best score\n",
    "        dBestScore['C'] = paramC #<! Update the corresponding `C` hyper parameter\n",
    "    \n",
    "#===============================================================#\n",
    "\n",
    "print(f'The best model has accuracy of {dBestScore[\"Accuracy\"]:0.2%} with `C = {dBestScore[\"C\"]}`')"
   ]
  },
  {
   "cell_type": "markdown",
   "metadata": {},
   "source": [
    "* <font color='blue'>(**!**)</font> Plot the score of the model as a function of the parameter `C`.  \n",
    "* <font color='red'>(**?**)</font> Is the above a good strategy to optimize the model?  \n",
    "* <font color='green'>(**@**)</font> Read the documentation of the [`LinearSVC`](https://scikit-learn.org/stable/modules/generated/sklearn.svm.LinearSVC.html) class.   \n",
    "  Pay attention to the effect of `penalty` on the ${\\left\\| {\\color{orange}\\boldsymbol{w}} \\right\\|}_{p}^{p}$ term and `loss` on the ${\\color{magenta}\\xi_{i}}:=\\max\\left\\{ 0,1-{\\color{green}y_{i}}\\left({\\color{orange}\\boldsymbol{w}^{T}}{\\color{green}\\boldsymbol{x}_{i}}-{\\color{orange}b}\\right)\\right\\}$ term.  \n",
    "  See explanation on [Meaning of `penalty` and `loss` in `LinearSVC`](https://stackoverflow.com/questions/68819288).\n",
    "* <font color='green'>(**@**)</font> Read the documentation of the [SVC](https://scikit-learn.org/stable/modules/generated/sklearn.svm.SVC.html) class. Try other values of `kernel`."
   ]
  }
 ],
 "metadata": {
  "kernelspec": {
   "display_name": "Python 3",
   "language": "python",
   "name": "python3"
  },
  "language_info": {
   "codemirror_mode": {
    "name": "ipython",
    "version": 3
   },
   "file_extension": ".py",
   "mimetype": "text/x-python",
   "name": "python",
   "nbconvert_exporter": "python",
   "pygments_lexer": "ipython3",
   "version": "3.11.8"
  },
  "toc": {
   "base_numbering": 1,
   "nav_menu": {},
   "number_sections": false,
   "sideBar": true,
   "skip_h1_title": false,
   "title_cell": "Table of Contents",
   "title_sidebar": "Contents",
   "toc_cell": false,
   "toc_position": {},
   "toc_section_display": true,
   "toc_window_display": true
  },
  "varInspector": {
   "cols": {
    "lenName": 16,
    "lenType": 16,
    "lenVar": 40
   },
   "kernels_config": {
    "python": {
     "delete_cmd_postfix": "",
     "delete_cmd_prefix": "del ",
     "library": "var_list.py",
     "varRefreshCmd": "print(var_dic_list())"
    },
    "r": {
     "delete_cmd_postfix": ") ",
     "delete_cmd_prefix": "rm(",
     "library": "var_list.r",
     "varRefreshCmd": "cat(var_dic_list()) "
    }
   },
   "types_to_exclude": [
    "module",
    "function",
    "builtin_function_or_method",
    "instance",
    "_Feature"
   ],
   "window_display": false
  },
  "vscode": {
   "interpreter": {
    "hash": "39577bab1f263e62e0b74f5b8086bd735049bf4751f6562b2d4b2969dc308293"
   }
  }
 },
 "nbformat": 4,
 "nbformat_minor": 4
}
