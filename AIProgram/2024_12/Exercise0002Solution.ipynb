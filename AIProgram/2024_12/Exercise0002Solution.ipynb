{
 "cells": [
  {
   "attachments": {},
   "cell_type": "markdown",
   "metadata": {},
   "source": [
    "[![Fixel Algorithms](https://i.imgur.com/AqKHVZ0.png)](https://fixelalgorithms.gitlab.io/)\n",
    "\n",
    "# AI Program\n",
    "\n",
    "## Exercise 0002 - Scientific Python\n",
    "\n",
    "> Notebook by:\n",
    "> - Royi Avital RoyiAvital@fixelalgorithms.com\n",
    "\n",
    "## Revision History\n",
    "\n",
    "| Version | Date       | User        |Content / Changes                                                   |\n",
    "|---------|------------|-------------|--------------------------------------------------------------------|\n",
    "| 0.1.000 | 23/02/2024 | Royi Avital | First version                                                      |"
   ]
  },
  {
   "attachments": {},
   "cell_type": "markdown",
   "metadata": {},
   "source": [
    "[![Open In Colab](https://colab.research.google.com/assets/colab-badge.svg)](https://colab.research.google.com/github/FixelAlgorithmsTeam/FixelCourses/blob/master/AIProgram/2024_02/Exercise0002.ipynb)"
   ]
  },
  {
   "cell_type": "code",
   "execution_count": null,
   "metadata": {
    "ExecuteTime": {
     "end_time": "2022-02-02T09:30:06.492269Z",
     "start_time": "2022-02-02T09:30:06.220934Z"
    }
   },
   "outputs": [],
   "source": [
    "# Import Packages\n",
    "\n",
    "# General Tools\n",
    "import numpy as np\n",
    "import scipy as sp\n",
    "import pandas as pd\n",
    "\n",
    "from numba import float32, float64, jit, njit, vectorize\n",
    "\n",
    "# Image Processing\n",
    "\n",
    "# Machine Learning\n",
    "\n",
    "\n",
    "# Miscellaneous\n",
    "import os\n",
    "from platform import python_version\n",
    "import random\n",
    "import timeit\n",
    "\n",
    "# Typing\n",
    "from typing import Callable, Dict, List, Optional, Set, Tuple, Union\n",
    "\n",
    "# Visualization\n",
    "import matplotlib as mpl\n",
    "import matplotlib.pyplot as plt\n",
    "import plotly.graph_objects as go\n",
    "import seaborn as sns\n",
    "\n",
    "# Jupyter\n",
    "from IPython import get_ipython\n",
    "from IPython.display import Image, display\n",
    "from ipywidgets import Dropdown, FloatSlider, interact, IntSlider, Layout"
   ]
  },
  {
   "attachments": {},
   "cell_type": "markdown",
   "metadata": {},
   "source": [
    "## Notations\n",
    "\n",
    "* <font color='red'>(**?**)</font> Question to answer interactively.\n",
    "* <font color='blue'>(**!**)</font> Simple task to add code for the notebook.\n",
    "* <font color='green'>(**@**)</font> Optional / Extra self practice.\n",
    "* <font color='brown'>(**#**)</font> Note / Useful resource / Food for thought.\n",
    "\n",
    "Code Notations:\n",
    "\n",
    "```python\n",
    "someVar    = 2; #<! Notation for a variable\n",
    "vVector    = np.random.rand(4) #<! Notation for 1D array\n",
    "mMatrix    = np.random.rand(4, 3) #<! Notation for 2D array\n",
    "tTensor    = np.random.rand(4, 3, 2, 3) #<! Notation for nD array (Tensor)\n",
    "tuTuple    = (1, 2, 3) #<! Notation for a tuple\n",
    "lList      = [1, 2, 3] #<! Notation for a list\n",
    "dDict      = {1: 3, 2: 2, 3: 1} #<! Notation for a dictionary\n",
    "oObj       = MyClass() #<! Notation for an object\n",
    "dfData     = pd.DataFrame() #<! Notation for a data frame\n",
    "dsData     = pd.Series() #<! Notation for a series\n",
    "hObj       = plt.Axes() #<! Notation for an object / handler / function handler\n",
    "```\n",
    "\n",
    "### Code Exercise\n",
    "\n",
    " - Single line fill\n",
    "\n",
    " ```python\n",
    " vallToFill = ???\n",
    " ```\n",
    "\n",
    " - Multi Line to Fill (At least one)\n",
    "\n",
    " ```python\n",
    " # You need to start writing\n",
    " ????\n",
    " ```\n",
    "\n",
    " - Section to Fill\n",
    "\n",
    "```python\n",
    "#===========================Fill This===========================#\n",
    "# 1. Explanation about what to do.\n",
    "# !! Remarks to follow / take under consideration.\n",
    "mX = ???\n",
    "\n",
    "???\n",
    "#===============================================================#\n",
    "```"
   ]
  },
  {
   "cell_type": "code",
   "execution_count": null,
   "metadata": {},
   "outputs": [],
   "source": [
    "# Configuration\n",
    "# %matplotlib inline\n",
    "\n",
    "seedNum = 512\n",
    "np.random.seed(seedNum)\n",
    "random.seed(seedNum)\n",
    "\n",
    "# sns.set_theme() #>! Apply SeaBorn theme\n",
    "\n",
    "runInGoogleColab = 'google.colab' in str(get_ipython())"
   ]
  },
  {
   "cell_type": "code",
   "execution_count": null,
   "metadata": {},
   "outputs": [],
   "source": [
    "# Constants\n",
    "\n"
   ]
  },
  {
   "cell_type": "code",
   "execution_count": null,
   "metadata": {},
   "outputs": [],
   "source": [
    "# Course Packages\n"
   ]
  },
  {
   "cell_type": "code",
   "execution_count": null,
   "metadata": {},
   "outputs": [],
   "source": [
    "# General Auxiliary Functions\n",
    "\n"
   ]
  },
  {
   "attachments": {},
   "cell_type": "markdown",
   "metadata": {},
   "source": [
    "## Question 001 - Implement the $\\operatorname{Diag}$ and $\\operatorname{diag}$ Operators\n",
    "\n",
    "This section is about implementing the $\\operatorname{Diag}$ and $\\operatorname{diag}$ Operators without using them explicitly.  \n",
    "Namely implementing them using other linear operators without using `np.diag()`, `np.diagonal()`, `np.diagflat()`, etc...\n",
    "\n",
    "1. Derive $\\operatorname{Diag}$ analytically.\n",
    "2. Derive $\\operatorname{diag}$ analytically.\n",
    "3. Implement the function `OperatorDiagMat()`.\n",
    "4. Implement the function `OperatorDiagVec()`.\n",
    "\n",
    "Let $\\boldsymbol{X} \\in \\mathbb{R}^{d \\times d}$:\n",
    " * The function $\\operatorname{diag} \\left( \\cdot \\right) : \\mathbb{R}^{d \\times d} \\to \\mathbb{R}^{d}$ returns the diagonal of a matrix, that is, $\\boldsymbol{b} = \\operatorname{diag} \\left( \\boldsymbol{X} \\right) \\implies \\boldsymbol{b} \\left[ i \\right] = \\boldsymbol{X} \\left[ i, i\\right]$.\n",
    " * The function $\\operatorname{Diag} \\left( \\cdot \\right) : \\mathbb{R}^{d} \\to \\mathbb{R}^{d \\times d}$ returns a diagonal matrix from a vector, that is, $B = \\operatorname{diag} \\left( \\boldsymbol{x} \\right) \\implies \\boldsymbol{B} \\left[ i, j \\right] = \\begin{cases} {x}_{i} & \\text{ if } i = j \\\\ 0 & \\text{ if } i \\neq j \\end{cases}$.\n"
   ]
  },
  {
   "cell_type": "markdown",
   "metadata": {},
   "source": [
    "## Solution 001\n",
    "\n",
    "1. $\\operatorname{Diag}  \\left( \\boldsymbol{a} \\right) = \\left( \\boldsymbol{a} \\boldsymbol{1}^{T} \\right) \\circ \\boldsymbol{I}$.\n",
    "2. $\\operatorname{diag} \\left( \\boldsymbol{A} \\right) = \\left( \\boldsymbol{A} \\circ \\boldsymbol{I} \\right) \\boldsymbol{1}$.\n",
    "\n",
    "---"
   ]
  },
  {
   "cell_type": "code",
   "execution_count": null,
   "metadata": {},
   "outputs": [],
   "source": [
    "# Implement `Diag`\n",
    "\n",
    "#===========================Fill This===========================#\n",
    "# 1. Implement the `OperatorDiagMat()` function.\n",
    "# 2. The input is a vector, the output is a diagonal matrix with the input as its diagonal.\n",
    "# !! Try to implement without loops.\n",
    "# !! You may find `np.ones()` and `np.eye()` useful.\n",
    "\n",
    "def OperatorDiagMat(vA: np.ndarray) -> np.ndarray:\n",
    "\n",
    "    numElements = vA.size\n",
    "    \n",
    "    return np.outer(vA, np.ones(numElements)) * np.eye(numElements)\n",
    "\n",
    "#===============================================================#"
   ]
  },
  {
   "cell_type": "code",
   "execution_count": null,
   "metadata": {},
   "outputs": [],
   "source": [
    "# Implement `diag`\n",
    "\n",
    "#===========================Fill This===========================#\n",
    "# 1. Implement the `OperatorDiagVec()` function.\n",
    "# 2. The input is a square matrix, the output is a vector.  \n",
    "#    The input matrix's main diagonal as the output vector.\n",
    "# !! Try to implement without loops.\n",
    "# !! You may find `np.ones()` and `np.eye()` useful.\n",
    "\n",
    "def OperatorDiagVec(mA: np.ndarray) -> np.ndarray:\n",
    "\n",
    "    numRows = mA.shape[0]\n",
    "    \n",
    "    return (mA * np.eye(numRows, numRows)) @ np.ones(numRows)\n",
    "\n",
    "#===============================================================#"
   ]
  },
  {
   "cell_type": "code",
   "execution_count": null,
   "metadata": {},
   "outputs": [],
   "source": [
    "# Verify Implementation \n",
    "numRows, numCols = 5, 4\n",
    "\n",
    "vA = np.random.rand(numRows)\n",
    "mA = np.random.rand(numRows, numRows)\n",
    "mB = np.random.rand(numRows, numCols)\n",
    "\n",
    "print(f'The implementation of `OperatorDiagMat()` is verified: {np.all(np.diag(vA) == OperatorDiagMat(vA))}')\n",
    "print(f'The implementation of `OperatorDiagVec()` is verified: {np.all(np.diag(mA) == OperatorDiagVec(mA))}')\n"
   ]
  },
  {
   "cell_type": "markdown",
   "metadata": {},
   "source": [
    "* <font color='green'>(**@**)</font> Add support for non square matrices in `OperatorDiagVec()`."
   ]
  },
  {
   "cell_type": "markdown",
   "metadata": {},
   "source": [
    "## Question 002 - Estimating Probability\n",
    "\n",
    "The Birthday Problem is about the probability that given $k$ people in a room, none of them celebrate birthday at the same day.  \n",
    "Though it seems, at first glance, that the odds are low, this section shows the in practice.\n",
    "\n",
    "1. Derive analytically the probability no one shares its birthday day with others.  \n",
    "2. Simulate the case for `k` people with `r` realizations. \n",
    "\n",
    "In the analysis assume a year is 365 days.\n",
    "\n",
    "* <font color='brown'>(**#**)</font> In this context, _realization_ means experiment of sampling `k` people. Then the statistics is analyzed over those realizations.\n",
    "* <font color='brown'>(**#**)</font> Original problem is about the probability at least 2 shares the same day. This formulation is easier to analyze.\n",
    "* <font color='brown'>(**#**)</font> Verify your answer with simple edge cases test. For instance, what is $n$ where the probability is zero?.\n"
   ]
  },
  {
   "cell_type": "markdown",
   "metadata": {},
   "source": [
    "## Solution 002\n",
    "\n",
    "1. For $k$ people the number of combinations of $k$ birthdays is given by ${n}^{k}$ where $n = 365$.\n",
    "2. To choose $k$ days out of $365$ so no date is shared is given by ${P}^{n}_{k} = \\binom{n}{k} k! = \\frac{n!}{ \\left( n - k \\right)! } = n \\left( n - 1 \\right) \\left( n - 2 \\right) \\cdots \\left( n - k + 1 \\right)$.  \n",
    "   The reasoning is the order matters since for equally probable events choosing $\\left\\{ 1, 2 \\right\\}$ is twice more probable than $\\left\\{ 1, 1 \\right\\}$. Hence it has to be counted twice. Which means the permutations of the $k$ chosen dates (People) should be counted.\n",
    "3. Hence the chance of having no shared birthday is $\\frac{n!}{ \\left( n - k \\right)! \\cdot {n}^{k} }$.\n",
    "\n",
    "\n",
    "* <font color='brown'>(**#**)</font> In probability, when using the concept of $\\frac{\\left | {\\Omega}_{E} \\right |}{\\left | \\Omega \\right |}$ the concept is counting the number of events is counting equally probable samples.\n",
    "* <font color='brown'>(**#**)</font> Other analysis in [Scientific American - Probability and the Birthday Paradox](https://www.scientificamerican.com/article/bring-science-home-probability-birthday-paradox/), [Wolfram MathWorld - Birthday Problem](https://mathworld.wolfram.com/BirthdayProblem.html).\n",
    "* <font color='brown'>(**#**)</font> One interpretation to ${P}^{n}_{k}$ is the number of ways of distributing $k$ distinct objects to $n$ distinct boxes if only one object may be placed in each box since it matters which object is placed in which box.\n",
    "* <font color='brown'>(**#**)</font> Variants & Solutions: [Birthday Problem - Expected Number of Collisions](https://math.stackexchange.com/questions/35791), [Birthday Problem - Expected Value](https://math.stackexchange.com/questions/211295), [Birthday Problem - Probability of Multiple Collisions](https://math.stackexchange.com/questions/535868), [Birthday Problem - Probability of 3 People Having the Same Birthday](https://math.stackexchange.com/questions/25876), [Birthday Problem - Using Combinations Instead of Permutations](https://math.stackexchange.com/questions/2771627).\n",
    "\n",
    "---"
   ]
  },
  {
   "cell_type": "code",
   "execution_count": null,
   "metadata": {},
   "outputs": [],
   "source": [
    "# Generating an Array of Realizations\n",
    "# This section implements a function which generates an array of `r` realizations.\n",
    "# Each realization simulate `k` people.\n",
    "# The dates will be mapped into the range {0, 1, 2, ..., 364}.\n",
    "\n",
    "#===========================Fill This===========================#\n",
    "# 1. Implement the `BirthdayRealization()` function.\n",
    "# 2. Given `k` people, draw `k` birthday days.\n",
    "# 3. Concatenate `r` realizations into array `k x r`.\n",
    "# !! Pay attention to the mapping of the days.\n",
    "# !! You may find `np.random.randint()` and `np.random.choice()` useful.\n",
    "\n",
    "def BirthdayRealizations( r: int, k: int ) -> np.ndarray:\n",
    "    \n",
    "    return np.random.randint(365, size = (k, r))\n",
    "\n",
    "#===============================================================#"
   ]
  },
  {
   "cell_type": "code",
   "execution_count": null,
   "metadata": {},
   "outputs": [],
   "source": [
    "# Probability of No Birthday\n",
    "# Given an array of experiments of the same `k`, calculate the probability of no shared birth day.\n",
    "\n",
    "#===========================Fill This===========================#\n",
    "# 1. Implement the `NoSharedBirthdayProb()` function.\n",
    "# 2. Extract the number of realizations.\n",
    "# 3. Check the number of cases of unique days.\n",
    "# !! Pay attention to the mapping of the days.\n",
    "# !! You may find `np.unique()` and `np.bincount()` useful.\n",
    "# !! You may rewrite everything your style.\n",
    "\n",
    "@njit\n",
    "def NoSharedBirthdayProb( mR: np.ndarray ) -> float:\n",
    "\n",
    "    numRealizations = mR.shape[1]\n",
    "    notSharedCnt = 0\n",
    "    for ii in range(numRealizations):\n",
    "        notSharedCnt += np.all(np.bincount(mR[:, ii]) <= 1)\n",
    "    \n",
    "    return notSharedCnt / numRealizations\n",
    "\n",
    "#===============================================================#"
   ]
  },
  {
   "cell_type": "code",
   "execution_count": null,
   "metadata": {},
   "outputs": [],
   "source": [
    "# Analytic Calculation of the Probability \n",
    "def NoSharedBirthdayProbAnalytic( k: int ) -> float:\n",
    "\n",
    "    numComb = sp.special.perm(365, k)\n",
    "    \n",
    "    return numComb / (365 ** k) #<! Uses Python perfect accuracy for integers"
   ]
  },
  {
   "cell_type": "code",
   "execution_count": null,
   "metadata": {},
   "outputs": [],
   "source": [
    "# Verifying the Realizations\n",
    "# This section verifies the empirical results.\n",
    "\n",
    "maxK            = 100\n",
    "numRealizations = 10_000\n",
    "\n",
    "vK      = range(1, maxK + 1) #<! Important to keep number integers\n",
    "vP      = [100 * NoSharedBirthdayProb(BirthdayRealizations(numRealizations, kk)) for kk in vK]\n",
    "vPRef   = [100 * NoSharedBirthdayProbAnalytic(kk) for kk in vK]"
   ]
  },
  {
   "cell_type": "code",
   "execution_count": null,
   "metadata": {},
   "outputs": [],
   "source": [
    "# Plot Results\n",
    "\n",
    "hF, hA = plt.subplots(figsize = (10, 6))\n",
    "hA.plot(vK, vP, lw = 2, label = 'Empirical Results')\n",
    "hA.plot(vK, vPRef, lw = 2, label = 'Analytic Solution')\n",
    "hA.set_title(f'The Birthday Problem: Empirical ({numRealizations} Realizations) vs. Analytic')\n",
    "hA.set_xlabel('Number of People')\n",
    "hA.set_ylabel('Probability [%]')\n",
    "hA.legend();"
   ]
  },
  {
   "cell_type": "markdown",
   "metadata": {},
   "source": [
    "* <font color='red'>(**?**)</font> You're entering a party with 40 people. Someone offers you a bet.  \n",
    "If there are at least 2 people with the same birth day, you get 50$ else he gets 150$. Should you take the bet?\n",
    "* <font color='blue'>(**!**)</font> Replace `vK = range(1, maxK + 1)` with `vK = np.arange(1, maxK + 1)`. Run the analysis and explain results."
   ]
  },
  {
   "cell_type": "markdown",
   "metadata": {},
   "source": [
    "## Question 003 - Minimizing a Function\n",
    "\n",
    "This section shows how to find the minimum of a function.  \n",
    "The function is given by ([Rastrigin Function](https://en.wikipedia.org/wiki/Rastrigin_function)):\n",
    "\n",
    "$$ f \\left( x, y \\right) = 20 + {y}^{2} + {x}^{2} - 10 \\cos \\left( 2 \\pi x \\right) - 10 \\cos \\left( 2 \\pi y \\right) $$\n",
    "\n",
    "* <font color='brown'>(**#**)</font> See more functions at [Optimization Test Functions](http://www.sfu.ca/~ssurjano/optimization.html) and [Wikipedia - Test Functions for Optimization](https://en.wikipedia.org/wiki/Test_functions_for_optimization).\n",
    "\n",
    "In this section the function `sp.optimize.minimize(method = 'BFGS')` will be used for minimization.\n",
    "\n",
    "* <font color='brown'>(**#**)</font> There are several different optimizers in SciPy as seen in [SciPy Optimize](https://docs.scipy.org/doc/scipy/reference/optimize.html)."
   ]
  },
  {
   "cell_type": "code",
   "execution_count": null,
   "metadata": {},
   "outputs": [],
   "source": [
    "# Generate the Data Grid\n",
    "\n",
    "tuGrid = (-5, 5, 1001)\n",
    "vX = np.linspace(*tuGrid)\n",
    "vY = np.linspace(*tuGrid)"
   ]
  },
  {
   "cell_type": "code",
   "execution_count": null,
   "metadata": {},
   "outputs": [],
   "source": [
    "# The Rastrigin Function\n",
    "# Implement the 2D Rastrigin function.\n",
    "# This section implements the function in 2 ways:\n",
    "# 1. Vectorized: Classic NumPy implementation.\n",
    "# 2. Scalar: Evaluation per `x` and `y` where vectorization is done by Numba.\n",
    "\n",
    "\n",
    "#===========================Fill This===========================#\n",
    "# 1. Implement the `Rastrigin2DVec()` function (Vectorized style).\n",
    "# 2. Calculate the function along x.\n",
    "# 3. Calculate the function along y.\n",
    "# 4. Merge the 2 by broadcasting.\n",
    "# !! Try to avoid loops.\n",
    "# !! You may choose a different implementation path.\n",
    "\n",
    "# @njit\n",
    "def Rastrigin2DVec( vX: np.ndarray, vY: np.ndarray ) -> np.ndarray:\n",
    "\n",
    "    vFx = 10 + np.square(vX) - 10 * np.cos(2 * np.pi * vX)\n",
    "    vFy = 10 + np.square(vY) - 10 * np.cos(2 * np.pi * vY)\n",
    "    mF  = vFy[:, None] + vFx[None, :]\n",
    "    \n",
    "    return mF\n",
    "\n",
    "#===============================================================#"
   ]
  },
  {
   "cell_type": "code",
   "execution_count": null,
   "metadata": {},
   "outputs": [],
   "source": [
    "#===========================Fill This===========================#\n",
    "# 1. Implement the `Rastrigin2D()` function.\n",
    "# 2. Calculate the function given **scalars** `valX` and `valY`.\n",
    "\n",
    "@vectorize([float32(float32, float32), float64(float64, float64)])\n",
    "def Rastrigin2D( valX: float, valY: float ) -> float:\n",
    "    \n",
    "    return 20 + np.square(valX) - 10 * np.cos(2 * np.pi * valX) + np.square(valY) - 10 * np.cos(2 * np.pi * valY)\n",
    "\n",
    "#===============================================================#"
   ]
  },
  {
   "cell_type": "code",
   "execution_count": null,
   "metadata": {},
   "outputs": [],
   "source": [
    "# Verify Implementations\n",
    "ε = 1e-6\n",
    "\n",
    "mFVec = Rastrigin2DVec(vX, vY)\n",
    "mF    = Rastrigin2D(vX[None, :], vY[:, None])\n",
    "\n",
    "maxAbsDev = np.max(np.abs(mFVec - mF))\n",
    "\n",
    "print(f'The maximum absolute deviance between implementations: {maxAbsDev}')\n",
    "print(f'The implementations are verified: {maxAbsDev < ε}')"
   ]
  },
  {
   "cell_type": "code",
   "execution_count": null,
   "metadata": {},
   "outputs": [],
   "source": [
    "# Visualize the Function\n",
    "\n",
    "hF, hA = plt.subplots(figsize = (10, 10))\n",
    "\n",
    "rangeXTicks = range(0, tuGrid[2], 50)\n",
    "\n",
    "oImgPlt = hA.imshow(mF)\n",
    "hA.set_xticks(rangeXTicks)\n",
    "hA.set_xticklabels(vX[rangeXTicks])\n",
    "hA.set_yticks(rangeXTicks)\n",
    "hA.set_yticklabels(vY[rangeXTicks])\n",
    "hA.set_title('The 2D Rastrigin Function')\n",
    "hA.set_xlabel(r'$x$')\n",
    "hA.set_ylabel(r'$y$')\n",
    "hF.colorbar(oImgPlt);"
   ]
  },
  {
   "cell_type": "markdown",
   "metadata": {},
   "source": [
    "* <font color='red'>(**?**)</font> Is the function _Convex_? What does it imply on its minimum?"
   ]
  },
  {
   "cell_type": "code",
   "execution_count": null,
   "metadata": {},
   "outputs": [],
   "source": [
    "# Optimization Path\n",
    "\n",
    "maxNumIter = 1000\n",
    "numStartPts = 10\n",
    "\n",
    "hF = lambda vInput: Rastrigin2D(vInput[0], vInput[1])\n",
    "\n",
    "# Adding some margins to the start points\n",
    "mX0 = np.row_stack(([0.1, 0.15], (tuGrid[0] + 1) + (tuGrid[1] - tuGrid[0] - 2) * np.random.rand(numStartPts - 1, 2)))\n",
    "mPath = np.full(shape = (maxNumIter, 2, numStartPts), fill_value = np.nan)\n",
    "\n",
    "jj = 0\n",
    "\n",
    "def MinCallback(mPath: np.ndarray, intermediate_result: sp.optimize.OptimizeResult, startPtIdx: int) -> None:\n",
    "    \n",
    "    global jj\n",
    "\n",
    "    mPath[jj, :, startPtIdx] = intermediate_result['x']\n",
    "\n",
    "    jj += 1\n",
    "\n",
    "\n",
    "for ii in range(numStartPts):\n",
    "    hC = lambda intermediate_result: MinCallback(mPath, intermediate_result, ii)\n",
    "    dOptRes = sp.optimize.minimize(hF, mX0[ii, :], method = 'BFGS', options = {'maxiter': maxNumIter}, callback = hC)\n",
    "    jj = 0 #<! New count each start index\n"
   ]
  },
  {
   "cell_type": "code",
   "execution_count": null,
   "metadata": {},
   "outputs": [],
   "source": [
    "# Concatenating the Start Point to the Path Points\n",
    "# NumPy is like `C`, the last dimension is contiguous.\n",
    "mTMP = np.concatenate((np.transpose(mX0[:, :, None], (2, 1, 0)), mPath))"
   ]
  },
  {
   "cell_type": "code",
   "execution_count": null,
   "metadata": {},
   "outputs": [],
   "source": [
    "# Draw the Optimization Path\n",
    "\n",
    "# Starting Point marker to be bigger\n",
    "vMarkerSize = 6 * np.ones(maxNumIter)\n",
    "vMarkerSize[0] = 12\n",
    "\n",
    "# Draw the Path (Using Plotly)\n",
    "hFig = go.Figure()\n",
    "hFig.add_trace(go.Heatmap(x = vX, y = vY, z = mF))\n",
    "for ii in range(numStartPts):\n",
    "    hFig.add_trace(go.Scatter(x = mTMP[:, 0, ii], y = mTMP[:, 1, ii], mode = 'markers', marker = {'size': vMarkerSize}, name = f'{ii:02d}'))\n",
    "hFig.update_layout(autosize = False, width = 800, height = 800, title = 'Optimization Path', \n",
    "                   legend = {'orientation': 'h', 'yanchor': 'bottom', 'y': 1.02, 'xanchor': 'left', 'x': 0.01})"
   ]
  }
 ],
 "metadata": {
  "kernelspec": {
   "display_name": "Python 3",
   "language": "python",
   "name": "python3"
  },
  "language_info": {
   "codemirror_mode": {
    "name": "ipython",
    "version": 3
   },
   "file_extension": ".py",
   "mimetype": "text/x-python",
   "name": "python",
   "nbconvert_exporter": "python",
   "pygments_lexer": "ipython3",
   "version": "3.11.8"
  },
  "toc": {
   "base_numbering": 1,
   "nav_menu": {},
   "number_sections": false,
   "sideBar": true,
   "skip_h1_title": false,
   "title_cell": "Table of Contents",
   "title_sidebar": "Contents",
   "toc_cell": false,
   "toc_position": {},
   "toc_section_display": true,
   "toc_window_display": true
  },
  "varInspector": {
   "cols": {
    "lenName": 16,
    "lenType": 16,
    "lenVar": 40
   },
   "kernels_config": {
    "python": {
     "delete_cmd_postfix": "",
     "delete_cmd_prefix": "del ",
     "library": "var_list.py",
     "varRefreshCmd": "print(var_dic_list())"
    },
    "r": {
     "delete_cmd_postfix": ") ",
     "delete_cmd_prefix": "rm(",
     "library": "var_list.r",
     "varRefreshCmd": "cat(var_dic_list()) "
    }
   },
   "types_to_exclude": [
    "module",
    "function",
    "builtin_function_or_method",
    "instance",
    "_Feature"
   ],
   "window_display": false
  },
  "vscode": {
   "interpreter": {
    "hash": "39577bab1f263e62e0b74f5b8086bd735049bf4751f6562b2d4b2969dc308293"
   }
  }
 },
 "nbformat": 4,
 "nbformat_minor": 4
}
