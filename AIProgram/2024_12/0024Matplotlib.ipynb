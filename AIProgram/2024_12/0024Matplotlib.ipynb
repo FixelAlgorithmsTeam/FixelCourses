{
 "cells": [
  {
   "attachments": {},
   "cell_type": "markdown",
   "metadata": {},
   "source": [
    "[![Fixel Algorithms](https://i.imgur.com/AqKHVZ0.png)](https://fixelalgorithms.gitlab.io/)\n",
    "\n",
    "# AI Program\n",
    "\n",
    "## Scientific Python - Matplotlib\n",
    "\n",
    "> Notebook by:\n",
    "> - Royi Avital RoyiAvital@fixelalgorithms.com\n",
    "\n",
    "## Revision History\n",
    "\n",
    "| Version | Date       | User        |Content / Changes                                                   |\n",
    "|---------|------------|-------------|--------------------------------------------------------------------|\n",
    "| 0.1.000 | 19/02/2024 | Royi Avital | First version                                                      |"
   ]
  },
  {
   "attachments": {},
   "cell_type": "markdown",
   "metadata": {},
   "source": [
    "[![Open In Colab](https://colab.research.google.com/assets/colab-badge.svg)](https://colab.research.google.com/github/FixelAlgorithmsTeam/FixelCourses/blob/master/AIProgram/2024_02/0024Matplotlib.ipynb)"
   ]
  },
  {
   "cell_type": "code",
   "execution_count": null,
   "metadata": {
    "ExecuteTime": {
     "end_time": "2022-02-02T09:30:06.492269Z",
     "start_time": "2022-02-02T09:30:06.220934Z"
    }
   },
   "outputs": [],
   "source": [
    "# Import Packages\n",
    "\n",
    "# General Tools\n",
    "import numpy as np\n",
    "import scipy as sp\n",
    "import pandas as pd\n",
    "\n",
    "from numba import jit, njit\n",
    "\n",
    "# Image Processing\n",
    "\n",
    "# Machine Learning\n",
    "\n",
    "\n",
    "# Miscellaneous\n",
    "import os\n",
    "from platform import python_version\n",
    "import random\n",
    "import timeit\n",
    "\n",
    "# Typing\n",
    "from typing import Callable, List, Tuple\n",
    "\n",
    "# Visualization\n",
    "import matplotlib as mpl\n",
    "import matplotlib.pyplot as plt\n",
    "import seaborn as sns\n",
    "\n",
    "# Jupyter\n",
    "from IPython import get_ipython\n",
    "from IPython.display import Image, display\n",
    "from ipywidgets import Dropdown, FloatSlider, interact, IntSlider, Layout"
   ]
  },
  {
   "attachments": {},
   "cell_type": "markdown",
   "metadata": {},
   "source": [
    "## Notations\n",
    "\n",
    "* <font color='red'>(**?**)</font> Question to answer interactively.\n",
    "* <font color='blue'>(**!**)</font> Simple task to add code for the notebook.\n",
    "* <font color='green'>(**@**)</font> Optional / Extra self practice.\n",
    "* <font color='brown'>(**#**)</font> Note / Useful resource / Food for thought.\n",
    "\n",
    "Code Notations:\n",
    "\n",
    "```python\n",
    "someVar    = 2; #<! Notation for a variable\n",
    "vVector    = np.random.rand(4) #<! Notation for 1D array\n",
    "mMatrix    = np.random.rand(4, 3) #<! Notation for 2D array\n",
    "tTensor    = np.random.rand(4, 3, 2, 3) #<! Notation for nD array (Tensor)\n",
    "tuTuple    = (1, 2, 3) #<! Notation for a tuple\n",
    "lList      = [1, 2, 3] #<! Notation for a list\n",
    "dDict      = {1: 3, 2: 2, 3: 1} #<! Notation for a dictionary\n",
    "oObj       = MyClass() #<! Notation for an object\n",
    "dfData     = pd.DataFrame() #<! Notation for a data frame\n",
    "dsData     = pd.Series() #<! Notation for a series\n",
    "hObj       = plt.Axes() #<! Notation for an object / handler / function handler\n",
    "```\n",
    "\n",
    "### Code Exercise\n",
    "\n",
    " - Single line fill\n",
    "\n",
    " ```python\n",
    " vallToFill = ???\n",
    " ```\n",
    "\n",
    " - Multi Line to Fill (At least one)\n",
    "\n",
    " ```python\n",
    " # You need to start writing\n",
    " ????\n",
    " ```\n",
    "\n",
    " - Section to Fill\n",
    "\n",
    "```python\n",
    "#===========================Fill This===========================#\n",
    "# 1. Explanation about what to do.\n",
    "# !! Remarks to follow / take under consideration.\n",
    "mX = ???\n",
    "\n",
    "???\n",
    "#===============================================================#\n",
    "```"
   ]
  },
  {
   "cell_type": "code",
   "execution_count": null,
   "metadata": {},
   "outputs": [],
   "source": [
    "# Configuration\n",
    "# %matplotlib inline\n",
    "\n",
    "seedNum = 512\n",
    "np.random.seed(seedNum)\n",
    "random.seed(seedNum)\n",
    "\n",
    "# Matplotlib default color palette\n",
    "lMatPltLibclr = ['#1f77b4', '#ff7f0e', '#2ca02c', '#d62728', '#9467bd', '#8c564b', '#e377c2', '#7f7f7f', '#bcbd22', '#17becf']\n",
    "sns.set_theme() #>! Apply SeaBorn theme\n",
    "\n",
    "runInGoogleColab = 'google.colab' in str(get_ipython())"
   ]
  },
  {
   "cell_type": "code",
   "execution_count": null,
   "metadata": {},
   "outputs": [],
   "source": [
    "# Constants\n",
    "\n",
    "FIG_SIZE_DEF    = (8, 8)\n",
    "ELM_SIZE_DEF    = 50\n",
    "CLASS_COLOR     = ('b', 'r')\n",
    "EDGE_COLOR      = 'k'\n",
    "MARKER_SIZE_DEF = 10\n",
    "LINE_WIDTH_DEF  = 2"
   ]
  },
  {
   "cell_type": "code",
   "execution_count": null,
   "metadata": {},
   "outputs": [],
   "source": [
    "# Courses Packages\n"
   ]
  },
  {
   "cell_type": "code",
   "execution_count": null,
   "metadata": {},
   "outputs": [],
   "source": [
    "# General Auxiliary Functions\n",
    "\n"
   ]
  },
  {
   "attachments": {},
   "cell_type": "markdown",
   "metadata": {},
   "source": [
    "## Matplotlib\n",
    "\n",
    "[_Matplotlib_](https://github.com/matplotlib/matplotlib) is the _go to_ visualization package in the Python eco system.\n",
    "\n",
    "It is optimized for static data in 2D though has some support for animations and 3D.\n",
    "\n",
    "This notebook covers some basic functionalities of _Matplotlib_ and using interactivity within a _Jupyter Notebook_.\n",
    "\n",
    "* <font color='brown'>(**#**)</font> Some guidelines on data visualization is given on [From Data to Viz](https://www.data-to-viz.com).\n",
    "* <font color='brown'>(**#**)</font> [Python Charts](https://python-charts.com) - Python code examples for plotting with `Matplotlib`, `SeaBorn` and `PlotLy`. It includes many useful _color palettes_.\n",
    "\n"
   ]
  },
  {
   "cell_type": "markdown",
   "metadata": {},
   "source": [
    "# Line Plot  \n",
    "\n",
    "Line plot is mostly used for ordered numeric data.  "
   ]
  },
  {
   "cell_type": "code",
   "execution_count": null,
   "metadata": {},
   "outputs": [],
   "source": [
    "# Line Plot\n",
    "# Plotting a function over a range\n",
    "\n",
    "tuGrid = (0, 10, 1001)\n",
    "\n",
    "hF = lambda vX: np.sin(2 * np.pi * vX)\n",
    "\n",
    "# Data\n",
    "vX = np.linspace(*tuGrid)\n",
    "vY = hF(vX)\n",
    "\n",
    "# Plotting\n",
    "hF, hA = plt.subplots(figsize = (10, 6)) #<! Using `plt.subplots()` is a trick to get the figure and axes handler at once.\n",
    "hA.plot(vX, vY, label = 'Sine Function') #<! The `plot()` method draws a line on the axes of the handler.\n",
    "hA.set_title('Line Plot')\n",
    "hA.set_xlabel(r'$x$') #<! Matplotlib can handle LaTeX\n",
    "hA.set_ylabel(r'$y$') #<! Matplotlib can handle LaTeX\n",
    "hA.legend(); #<! Using `;` to prevent printing the text output"
   ]
  },
  {
   "cell_type": "markdown",
   "metadata": {},
   "source": [
    "* <font color='blue'>(**!**)</font> Look for the arguments of `plot()` and change the line properties (Color, Width, Marker).\n",
    "* <font color='blue'>(**!**)</font> Change the legend location."
   ]
  },
  {
   "cell_type": "markdown",
   "metadata": {},
   "source": [
    "# Scatter Plot  \n",
    "\n",
    "Scatter plot is mostly used for unordered numeric data.   \n",
    "It is useful to see some connections between features. "
   ]
  },
  {
   "cell_type": "code",
   "execution_count": null,
   "metadata": {},
   "outputs": [],
   "source": [
    "# Scatter Plot\n",
    "# Random Data\n",
    "\n",
    "tuGrid = (0, 10, 301)\n",
    "\n",
    "hF = lambda vX: 0.5 * vX + (0.75 * np.sin(2 * np.pi * vX)) + 0.25 * np.random.randn(np.size(vX))\n",
    "\n",
    "# Data\n",
    "vX = tuGrid[0] + ((tuGrid[1] - tuGrid[0]) * np.random.rand(tuGrid[2]))\n",
    "vY = hF(vX)\n",
    "\n",
    "# Plotting\n",
    "hF, hA = plt.subplots(figsize = (10, 6)) #<! Using `plt.subplots()` is a trick to get the figure and axes handler at once.\n",
    "hA.scatter(vX, vY, label = 'Noisy Function') #<! The `scatter()` method draws a scatter on the axes of the handler.\n",
    "hA.set_title('Scatter Plot')\n",
    "hA.set_xlabel(r'$x$') #<! Matplotlib can handle LaTeX\n",
    "hA.set_ylabel(r'$y$') #<! Matplotlib can handle LaTeX\n",
    "hA.legend(); #<! Using `;` to prevent printing the text output"
   ]
  },
  {
   "cell_type": "markdown",
   "metadata": {},
   "source": [
    "* <font color='blue'>(**!**)</font> Look for the arguments of `scatter()` and change the marker properties (Color, Size, Marker)."
   ]
  },
  {
   "cell_type": "markdown",
   "metadata": {},
   "source": [
    "## Histogram Plot\n",
    "\n",
    "In order to show the distribution of the data regardless of its ordering.  \n",
    "This section shows the case of _continuous_ data and _discrete_ data."
   ]
  },
  {
   "cell_type": "code",
   "execution_count": null,
   "metadata": {},
   "outputs": [],
   "source": [
    "# Histogram - Continuous Data\n",
    "\n",
    "# Generate Data\n",
    "λ = 1.5\n",
    "numSamples = 1000\n",
    "oExpDist = sp.stats.expon(scale = 1 / λ)\n",
    "\n",
    "vA = oExpDist.rvs(size = numSamples)\n",
    "\n",
    "# Generate the Plot\n",
    "hF, hA = plt.subplots(figsize = (10, 6)) \n",
    "hA.hist(vA) #<! The `hist()` method draws an histogram on the axes of the handler.\n",
    "hA.set_title('Histogram Plot of Exponential Distribution Samples')\n",
    "hA.set_xlabel('Value') #<! Matplotlib can handle LaTeX\n",
    "hA.set_ylabel('Counts'); #<! Matplotlib can handle LaTeX\n"
   ]
  },
  {
   "cell_type": "markdown",
   "metadata": {},
   "source": [
    "* <font color='blue'>(**!**)</font> Read the documentation and use `bar()` to achieve the result using _NumPy_.\n",
    "* <font color='blue'>(**!**)</font> Create a density plot instead of counts."
   ]
  },
  {
   "cell_type": "code",
   "execution_count": null,
   "metadata": {},
   "outputs": [],
   "source": [
    "# Histogram - Discrete Data\n",
    "# Random Data\n",
    "\n",
    "numSamples = 10_000\n",
    "\n",
    "dataRange = range(-5, 6)\n",
    "vP = 1.0 + np.arange(len(dataRange))\n",
    "vP /= np.sum(vP) #<! Probability: Assumed to have sum of 1\n",
    "\n",
    "\n",
    "# Data\n",
    "vA = np.random.choice(dataRange, size = numSamples, p = vP)\n",
    "\n",
    "# Using NumPy Bin Counts\n",
    "# Requires numbers to be Int, Non Negative: Map the data.\n",
    "vB = vA - np.min(vA)\n",
    "# vB = vB.astype(np.int_) #<! Not a must\n",
    "\n",
    "vC = np.bincount(vB) #<! Counts\n",
    "\n",
    "# Plotting\n",
    "hF, hA = plt.subplots(figsize = (10, 6)) #<! Using `plt.subplots()` is a trick to get the figure and axes handler at once.\n",
    "hA.bar(dataRange, vC) #<! The `bar()` method draws a bar on the axes of the handler.\n",
    "hA.set_title('Scatter Plot')\n",
    "hA.set_xticks(dataRange)\n",
    "hA.set_xticklabels(dataRange)\n",
    "hA.set_xlabel('Frequency') #<! Matplotlib can handle LaTeX\n",
    "hA.set_ylabel('Value'); #<! Matplotlib can handle LaTeX"
   ]
  },
  {
   "cell_type": "markdown",
   "metadata": {},
   "source": [
    "* <font color='blue'>(**!**)</font> Create a density plot instead of counts."
   ]
  }
 ],
 "metadata": {
  "kernelspec": {
   "display_name": "Python 3",
   "language": "python",
   "name": "python3"
  },
  "language_info": {
   "codemirror_mode": {
    "name": "ipython",
    "version": 3
   },
   "file_extension": ".py",
   "mimetype": "text/x-python",
   "name": "python",
   "nbconvert_exporter": "python",
   "pygments_lexer": "ipython3",
   "version": "3.11.8"
  },
  "toc": {
   "base_numbering": 1,
   "nav_menu": {},
   "number_sections": false,
   "sideBar": true,
   "skip_h1_title": false,
   "title_cell": "Table of Contents",
   "title_sidebar": "Contents",
   "toc_cell": false,
   "toc_position": {},
   "toc_section_display": true,
   "toc_window_display": true
  },
  "varInspector": {
   "cols": {
    "lenName": 16,
    "lenType": 16,
    "lenVar": 40
   },
   "kernels_config": {
    "python": {
     "delete_cmd_postfix": "",
     "delete_cmd_prefix": "del ",
     "library": "var_list.py",
     "varRefreshCmd": "print(var_dic_list())"
    },
    "r": {
     "delete_cmd_postfix": ") ",
     "delete_cmd_prefix": "rm(",
     "library": "var_list.r",
     "varRefreshCmd": "cat(var_dic_list()) "
    }
   },
   "types_to_exclude": [
    "module",
    "function",
    "builtin_function_or_method",
    "instance",
    "_Feature"
   ],
   "window_display": false
  },
  "vscode": {
   "interpreter": {
    "hash": "39577bab1f263e62e0b74f5b8086bd735049bf4751f6562b2d4b2969dc308293"
   }
  }
 },
 "nbformat": 4,
 "nbformat_minor": 4
}
