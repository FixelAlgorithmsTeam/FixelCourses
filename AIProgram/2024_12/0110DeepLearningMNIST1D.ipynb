{
 "cells": [
  {
   "attachments": {},
   "cell_type": "markdown",
   "metadata": {},
   "source": [
    "[![Fixel Algorithms](https://i.imgur.com/AqKHVZ0.png)](https://fixelalgorithms.gitlab.io)\n",
    "\n",
    "# AI Program\n",
    "\n",
    "## Machine Learning - Deep Learning - MNIST 1D with Hyper Parameter Optimization\n",
    "\n",
    "> Notebook by:\n",
    "> - Royi Avital RoyiAvital@fixelalgorithms.com\n",
    "\n",
    "## Revision History\n",
    "\n",
    "| Version | Date       | User        |Content / Changes                                                   |\n",
    "|---------|------------|-------------|--------------------------------------------------------------------|\n",
    "| 1.0.000 | 18/05/2025 | Royi Avital | First version                                                      |"
   ]
  },
  {
   "attachments": {},
   "cell_type": "markdown",
   "metadata": {},
   "source": [
    "[![Open In Colab](https://colab.research.google.com/assets/colab-badge.svg)](https://colab.research.google.com/github/FixelAlgorithmsTeam/FixelCourses/blob/master/AIProgram/2024_02/0089DeepLearningPyTorchSchedulers.ipynb)"
   ]
  },
  {
   "cell_type": "code",
   "execution_count": null,
   "metadata": {
    "ExecuteTime": {
     "end_time": "2022-02-02T09:30:06.492269Z",
     "start_time": "2022-02-02T09:30:06.220934Z"
    }
   },
   "outputs": [],
   "source": [
    "# Import Packages\n",
    "\n",
    "# General Tools\n",
    "import numpy as np\n",
    "import scipy as sp\n",
    "import pandas as pd\n",
    "\n",
    "# Machine Learning\n",
    "\n",
    "# Deep Learning\n",
    "import torch\n",
    "import torch.nn            as nn\n",
    "import torch.nn.functional as F\n",
    "from torch.utils.data import DataLoader\n",
    "import torchinfo\n",
    "from torchmetrics.classification import MulticlassAccuracy\n",
    "import torchvision\n",
    "\n",
    "# ML Ops\n",
    "import wandb\n",
    "\n",
    "# Miscellaneous\n",
    "import math\n",
    "import os\n",
    "from platform import python_version\n",
    "import pickle\n",
    "import random\n",
    "from urllib.request import urlopen\n",
    "\n",
    "# Typing\n",
    "from typing import Callable, Dict, Generator, List, Literal, Optional, Self, Set, Tuple, Union\n",
    "\n",
    "# Visualization\n",
    "import matplotlib as mpl\n",
    "import matplotlib.pyplot as plt\n",
    "import seaborn as sns\n",
    "\n",
    "# Jupyter\n",
    "from IPython import get_ipython"
   ]
  },
  {
   "attachments": {},
   "cell_type": "markdown",
   "metadata": {},
   "source": [
    "## Notations\n",
    "\n",
    "* <font color='red'>(**?**)</font> Question to answer interactively.\n",
    "* <font color='blue'>(**!**)</font> Simple task to add code for the notebook.\n",
    "* <font color='green'>(**@**)</font> Optional / Extra self practice.\n",
    "* <font color='brown'>(**#**)</font> Note / Useful resource / Food for thought.\n",
    "\n",
    "Code Notations:\n",
    "\n",
    "```python\n",
    "someVar    = 2; #<! Notation for a variable\n",
    "vVector    = np.random.rand(4) #<! Notation for 1D array\n",
    "mMatrix    = np.random.rand(4, 3) #<! Notation for 2D array\n",
    "tTensor    = np.random.rand(4, 3, 2, 3) #<! Notation for nD array (Tensor)\n",
    "tuTuple    = (1, 2, 3) #<! Notation for a tuple\n",
    "lList      = [1, 2, 3] #<! Notation for a list\n",
    "dDict      = {1: 3, 2: 2, 3: 1} #<! Notation for a dictionary\n",
    "oObj       = MyClass() #<! Notation for an object\n",
    "dfData     = pd.DataFrame() #<! Notation for a data frame\n",
    "dsData     = pd.Series() #<! Notation for a series\n",
    "hObj       = plt.Axes() #<! Notation for an object / handler / function handler\n",
    "```\n",
    "\n",
    "### Code Exercise\n",
    "\n",
    " - Single line fill\n",
    "\n",
    "```python\n",
    "valToFill = ???\n",
    "```\n",
    "\n",
    " - Multi Line to Fill (At least one)\n",
    "\n",
    "```python\n",
    "# You need to start writing\n",
    "?????\n",
    "```\n",
    "\n",
    " - Section to Fill\n",
    "\n",
    "```python\n",
    "#===========================Fill This===========================#\n",
    "# 1. Explanation about what to do.\n",
    "# !! Remarks to follow / take under consideration.\n",
    "mX = ???\n",
    "\n",
    "?????\n",
    "#===============================================================#\n",
    "```"
   ]
  },
  {
   "cell_type": "code",
   "execution_count": null,
   "metadata": {},
   "outputs": [],
   "source": [
    "# Configuration\n",
    "# %matplotlib inline\n",
    "\n",
    "seedNum = 512\n",
    "np.random.seed(seedNum)\n",
    "random.seed(seedNum)\n",
    "\n",
    "# Matplotlib default color palette\n",
    "lMatPltLibclr = ['#1f77b4', '#ff7f0e', '#2ca02c', '#d62728', '#9467bd', '#8c564b', '#e377c2', '#7f7f7f', '#bcbd22', '#17becf']\n",
    "# sns.set_theme() #>! Apply SeaBorn theme\n",
    "\n",
    "runInGoogleColab = 'google.colab' in str(get_ipython())\n",
    "\n",
    "# Improve performance by benchmarking\n",
    "torch.backends.cudnn.benchmark = True\n",
    "\n",
    "# Reproducibility (Per PyTorch Version on the same device)\n",
    "# torch.manual_seed(seedNum)\n",
    "# torch.backends.cudnn.deterministic = True\n",
    "# torch.backends.cudnn.benchmark     = False #<! Makes things slower"
   ]
  },
  {
   "cell_type": "code",
   "execution_count": null,
   "metadata": {},
   "outputs": [],
   "source": [
    "# Constants\n",
    "\n",
    "FIG_SIZE_DEF    = (8, 8)\n",
    "ELM_SIZE_DEF    = 50\n",
    "CLASS_COLOR     = ('b', 'r')\n",
    "EDGE_COLOR      = 'k'\n",
    "MARKER_SIZE_DEF = 10\n",
    "LINE_WIDTH_DEF  = 2\n",
    "\n",
    "D_CLASSES_MNIST  = {0: '0', 1: '1', 2: '2', 3: '3', 4: '4', 5: '5', 6: '6', 7: '7', 8: '8', 9: '9'}\n",
    "L_CLASSES_MNIST  = ['0', '1', '2', '3', '4', '5', '6', '7', '8', '9']\n",
    "T_IMG_SIZE_MNIST = (28, 28, 1)\n",
    "\n",
    "DATA_FOLDER_PATH  = 'Data'\n",
    "TENSOR_BOARD_BASE = 'TB'\n",
    "WANDB_API_KEY     = 'WANDB_API_KEY'"
   ]
  },
  {
   "cell_type": "code",
   "execution_count": null,
   "metadata": {},
   "outputs": [],
   "source": [
    "# Download Auxiliary Modules for Google Colab\n",
    "if runInGoogleColab:\n",
    "    !wget https://raw.githubusercontent.com/FixelAlgorithmsTeam/FixelCourses/master/AIProgram/2024_02/DataManipulation.py\n",
    "    !wget https://raw.githubusercontent.com/FixelAlgorithmsTeam/FixelCourses/master/AIProgram/2024_02/DataVisualization.py\n",
    "    !wget https://raw.githubusercontent.com/FixelAlgorithmsTeam/FixelCourses/master/AIProgram/2024_02/DeepLearningPyTorch.py"
   ]
  },
  {
   "cell_type": "code",
   "execution_count": null,
   "metadata": {},
   "outputs": [],
   "source": [
    "# Courses Packages\n",
    "\n",
    "from DataManipulation import ParseEnvFile\n",
    "from DataVisualization import PlotLabelsHistogram\n",
    "from DeepLearningPyTorch import NNMode\n",
    "from DeepLearningPyTorch import TrainModel"
   ]
  },
  {
   "cell_type": "code",
   "execution_count": null,
   "metadata": {},
   "outputs": [],
   "source": [
    "# General Auxiliary Functions\n",
    "\n",
    "def PlotMnist1D( mX: np.ndarray, vT: np.ndarray, vY: np.ndarray, numRows: int, \n",
    "                numCols: Optional[int] = None, randomChoice: bool = True, lClasses: Optional[List] = None, \n",
    "                ratioFactor: float = 1.33, zoomLevel: float = 1.0, darkMode: bool = False, hF: Optional[plt.Figure] = None ) -> plt.Figure:\n",
    "\n",
    "    numSamples  = mX.shape[0]\n",
    "    numPx       = mX.shape[1]\n",
    "\n",
    "    if numCols is None:\n",
    "        numCols = numRows\n",
    "\n",
    "    tFigSize = (numCols * 2.2, numRows * 2.0 * ratioFactor)\n",
    "\n",
    "    if hF is None:\n",
    "        hF, hA = plt.subplots(numRows, numCols, figsize = tFigSize, dpi = 60)\n",
    "    else:\n",
    "        hA = hF.axes\n",
    "    \n",
    "    hA = np.atleast_1d(hA) #<! To support numImg = 1\n",
    "    hA = hA.flat\n",
    "    \n",
    "    for kk in range(numRows * numCols):\n",
    "        idx = np.random.choice(numSamples) if randomChoice else kk\n",
    "\n",
    "        if darkMode:\n",
    "            hA[kk].plot(mX[idx], vT, 'wo', lw = 6)\n",
    "            hA[kk].set_facecolor('k')\n",
    "        else:\n",
    "            hA[kk].plot(mX[idx], vT, 'k-', lw = 2)\n",
    "        hA[kk].tick_params(axis = 'both', left = False, top = False, right = False, bottom = False, \n",
    "                           labelleft = False, labeltop = False, labelright = False, labelbottom = False)\n",
    "        hA[kk].set_xlim(-zoomLevel, zoomLevel)\n",
    "        hA[kk].set_ylim(-zoomLevel, zoomLevel)\n",
    "        hA[kk].invert_yaxis()\n",
    "        if lClasses is None:\n",
    "            hA[kk].set_title(f'Index: {idx}, Label: {vY[idx]}')\n",
    "        else:\n",
    "            hA[kk].set_title(f'Index: {idx}, Label: {lClasses[vY[idx]]}')\n",
    "    \n",
    "    return hF"
   ]
  },
  {
   "cell_type": "markdown",
   "metadata": {},
   "source": [
    "## The MNIST 1D Data Set\n",
    "\n",
    "The MNIST dataset of hand written digits is the _\"Hello World\"_ of 2D CNNs.  \n",
    "It’s also famously easy, a simple model can achieve close 100% accuracy with a few minutes (Seconds) of training.\n",
    "\n",
    "In 2020 Sam Greydanus, Dmitry Kobak generated the MNIST 1D _synthetic dataset_.  \n",
    "Each sample is composed of 40 values of the coordinates of 1D chain.  \n",
    "Although the dimensionality of MNIST-1D is only 40 and its default training set size only 4000, MNIST-1D can be pretty challenging to solve.  \n",
    "Which makes it a great data set for fast prototyping, educational use cases and cutting edge research on a low budget.\n",
    "\n",
    "<!-- ![](https://i.imgur.com/KGbnhbX.png) -->\n",
    "<!-- ![](https://i.postimg.cc/mZwXcHjb/KGbnhbX.png) -->\n",
    "![](https://i.imgur.com/6BKZ19s.png)\n",
    "<!-- ![](https://i.postimg.cc/cJx6LPL1/image.png) -->\n",
    "\n",
    "This notebook executes a search for optimization of _hyper parameters_ for best accuracy of the classification results.\n",
    "\n",
    "The notebook presents:\n",
    "\n",
    " * Several concepts of .\n",
    " * The use [Weights and Biases](https://wandb.ai) for Hyper Parameter optimization.\n",
    "\n",
    "\n",
    "</br>\n",
    "\n",
    "* MNIST is Trivial: [78% MNIST Accuracy Using GZIP in Under 10 Lines of Code](https://jakobs.dev/solving-mnist-with-gzip) ([Hacker News Discussion](https://news.ycombinator.com/item?id=37583593)), [MNIST by ZIP](https://www.blackhc.net/blog/2019/mnist-by-zip).\n",
    "* <font color='brown'>(**#**)</font> [The MNIST 1D Data Set Repository](https://github.com/greydanus/mnist1d).\n",
    "* <font color='brown'>(**#**)</font> [The MNIST 1D Data Set Paper - Scaling Down Deep Learning with MNIST-1D](https://arxiv.org/abs/2011.14439).\n",
    "* <font color='brown'>(**#**)</font> [Sam Greydanus - Natural Intelligence Blog - Scaling down Deep Learning](https://greydanus.github.io/2020/12/01/scaling-down).\n",
    "* <font color='brown'>(**#**)</font> [Prediction MNIST-1D dataset with Mamba](https://tk42.jp/notes/Image-Classification-MNIST-1D-dataset-with-Mamba-for-beginners)."
   ]
  },
  {
   "cell_type": "code",
   "execution_count": null,
   "metadata": {},
   "outputs": [],
   "source": [
    "# Parameters\n",
    "\n",
    "# Data\n",
    "dataUrl = r'https://github.com/greydanus/mnist1d/raw/master/mnist1d_data.pkl'\n",
    "\n",
    "# Model\n",
    "dropP = 0.5 #<! Dropout Layer\n",
    "\n",
    "# Training\n",
    "batchSize   = 256\n",
    "numWork     = 2 #<! Number of workers\n",
    "nEpochs     = 10\n",
    "\n",
    "# Weights and Biases Optimizer\n",
    "projName  = 'Test'\n",
    "numSweeps = 50\n",
    "\n",
    "# Visualization\n",
    "numImg = 3"
   ]
  },
  {
   "cell_type": "markdown",
   "metadata": {},
   "source": [
    "## Generate / Load Data\n",
    "\n",
    "Load the [CIFAR 10 Data Set](https://en.wikipedia.org/wiki/CIFAR-10).  \n",
    "It is composed of 60,000 RGB images of size `32x32` with 10 classes uniformly spread.\n",
    "\n",
    "* <font color='brown'>(**#**)</font> The dataset is retrieved using [Torch Vision](https://pytorch.org/vision/stable/index.html)'s built in datasets.  \n"
   ]
  },
  {
   "cell_type": "code",
   "execution_count": null,
   "metadata": {},
   "outputs": [],
   "source": [
    "# Generate / Load Data\n",
    "\n",
    "dData = pickle.load(urlopen(dataUrl))"
   ]
  },
  {
   "cell_type": "code",
   "execution_count": null,
   "metadata": {},
   "outputs": [],
   "source": [
    "# Data\n",
    "\n",
    "dRefData = dData['templates']\n",
    "\n",
    "# The vertical axis\n",
    "vT = dData['t']\n",
    "\n",
    "mXTrain = dData['x'].astype(np.float32)      #<! NumPy is Float64 by default\n",
    "vYTrain = dData['y']\n",
    "mXVal   = dData['x_test'].astype(np.float32) #<! NumPy is Float64 by default\n",
    "vYVal   = dData['y_test']\n",
    "\n",
    "numSignalsTrain = mXTrain.shape[0]\n",
    "numSignalsVal   = mXVal.shape[0]"
   ]
  },
  {
   "cell_type": "code",
   "execution_count": null,
   "metadata": {},
   "outputs": [],
   "source": [
    "# PyTorch DataSet\n",
    "\n",
    "dsTrain  = torch.utils.data.TensorDataset(torch.tensor(np.reshape(mXTrain, (numSignalsTrain, 1, -1))), torch.tensor(vYTrain)) #<! -1 -> Infer\n",
    "dsVal    = torch.utils.data.TensorDataset(torch.tensor(np.reshape(mXVal, (numSignalsVal, 1, -1))), torch.tensor(vYVal))\n",
    "\n",
    "print(f'The training data set data shape: {dsTrain.tensors[0].shape}')\n",
    "print(f'The test data set data shape    : {dsVal.tensors[0].shape}')\n",
    "print(f'The unique values of the labels : {np.unique(dsTrain.tensors[1])}')"
   ]
  },
  {
   "cell_type": "markdown",
   "metadata": {},
   "source": [
    "* <font color='brown'>(**#**)</font> The dataset is indexable (Subscriptable). It returns a tuple of the features and the label."
   ]
  },
  {
   "cell_type": "code",
   "execution_count": null,
   "metadata": {},
   "outputs": [],
   "source": [
    "# Element of the Data Set\n",
    "\n",
    "mX, valY = dsTrain[0]\n",
    "\n",
    "print(f'The features shape: {mXTrain[0].shape}')\n",
    "print(f'The label value: {vYTrain[0]}')"
   ]
  },
  {
   "cell_type": "markdown",
   "metadata": {},
   "source": [
    "### Plot the Data"
   ]
  },
  {
   "cell_type": "code",
   "execution_count": null,
   "metadata": {},
   "outputs": [],
   "source": [
    "# Reference Data\n",
    "\n",
    "hF = PlotMnist1D(dRefData['x'], dRefData['t'], dRefData['y'], numRows = 1, numCols = 10, randomChoice = False, darkMode = True)"
   ]
  },
  {
   "cell_type": "code",
   "execution_count": null,
   "metadata": {},
   "outputs": [],
   "source": [
    "# Train Data\n",
    "\n",
    "hF = PlotMnist1D(mXTrain, vT, vYTrain, numRows = 2, numCols = 10, randomChoice = True, zoomLevel = 4, darkMode = False)"
   ]
  },
  {
   "cell_type": "code",
   "execution_count": null,
   "metadata": {},
   "outputs": [],
   "source": [
    "# Histogram of Labels\n",
    "\n",
    "hA = PlotLabelsHistogram(vYTrain, lClass = L_CLASSES_MNIST)\n",
    "plt.show()"
   ]
  },
  {
   "cell_type": "markdown",
   "metadata": {},
   "source": [
    "## Weights and Biases\n",
    "\n",
    "1. Create account at https://wandb.ai.\n",
    "2. Login to account.\n",
    "3. Go to https://wandb.ai/authorize.\n",
    "4. Copy the API key into the `key` parameter.\n",
    "5. Save it as `WANDB_API_KEY=<APIKey>` in a `.env` file.\n",
    "\n",
    "### Working with `.env` File\n",
    "\n",
    "When working in scale one way to share \"secrets\" is using `env` file.  \n",
    "Those are used to configure global variables to be used.\n",
    "\n",
    "* <font color='brown'>(**#**)</font> A known package to work with `.env` files is given by [`python-dotenv`](https://github.com/theskumar/python-dotenv)."
   ]
  },
  {
   "cell_type": "code",
   "execution_count": null,
   "metadata": {},
   "outputs": [],
   "source": [
    "# Parse the Environment File\n",
    "\n",
    "dEnv        = ParseEnvFile('.env')\n",
    "wandbApiKey = dEnv[WANDB_API_KEY] #<! Extract the API Key"
   ]
  },
  {
   "cell_type": "code",
   "execution_count": null,
   "metadata": {},
   "outputs": [],
   "source": [
    "wandb.login(key = wandbApiKey, verify = True) #<! Do once per computer"
   ]
  },
  {
   "cell_type": "markdown",
   "metadata": {},
   "source": [
    "## Pre Process Data\n",
    "\n",
    "This section normalizes the data to have zero mean and unit variance per **channel**.  \n",
    "It is required to calculate:\n",
    "\n",
    " * The average pixel value per channel.\n",
    " * The standard deviation per channel.\n",
    "\n",
    "</br>\n",
    "\n",
    "* <font color='brown'>(**#**)</font> The values calculated on the train set and applied to both sets.\n",
    "* <font color='brown'>(**#**)</font> The the data will be used to pre process the image on loading by the `transformer`.\n",
    "* <font color='brown'>(**#**)</font> There packages which specializes in transforms: [`Kornia`](https://github.com/kornia/kornia), [`Albumentations`](https://github.com/albumentations-team/albumentations).  \n",
    "  They are commonly used for _Data Augmentation_ at scale."
   ]
  },
  {
   "cell_type": "markdown",
   "metadata": {},
   "source": [
    "* <font color='red'>(**?**)</font> What do you expect the mean value to be?\n",
    "* <font color='red'>(**?**)</font> What do you expect the standard deviation value to be?"
   ]
  },
  {
   "cell_type": "code",
   "execution_count": null,
   "metadata": {},
   "outputs": [],
   "source": [
    "# Hyper Parameters\n",
    "\n",
    "# Weights and Biases Dictionary\n",
    "dParams = {\n",
    "    'poolLayer': {\n",
    "        'values': ['maxPool', 'l2Pool'],\n",
    "    },\n",
    "    'activationLayer': {\n",
    "        'values': ['ReLU', 'SELU', 'Sigmoid'],\n",
    "    },\n",
    "    'paramLambda': { #<! Wandb seems to have issues with UTF characters ('λ')\n",
    "        'distribution': 'log_uniform',\n",
    "        'min': -7,\n",
    "        'max': -4,\n",
    "    },\n",
    "}"
   ]
  },
  {
   "cell_type": "code",
   "execution_count": null,
   "metadata": {},
   "outputs": [],
   "source": [
    "# Sweep Configuration\n",
    "\n",
    "dSweep =  {\n",
    "    'method': 'random',\n",
    "    'metric': {\n",
    "        'name': 'Score',    #<! The name of the metric to optimize\n",
    "        'goal': 'maximize',\n",
    "    },\n",
    "    'parameters': dParams,\n",
    "}"
   ]
  },
  {
   "cell_type": "markdown",
   "metadata": {},
   "source": [
    "### Setting Sweep\n",
    "\n",
    "The framework allows distributed work on the sweeps by the `sweepId` and `projName` parameters.  \n",
    "The `sweepId` and `projName` defines a sweep over a set of _hyper parameters_ defined in `dSweep`.\n",
    "Any node (Computer) will be served by the sweep agent by a set of a specific _hyper parameters_ defined by the sweep configuration.  \n",
    "The choice of the hyper parameters is orchestrated by the _Weights and Biases_ service.  \n",
    "This makes easy to have many nodes running the same sweep.\n",
    "\n",
    "The recipe:\n",
    "\n",
    "1. Define a sweep by its _Project Name_ (`projName`) and _Configuration_ (`dSweep`).  \n",
    "   The configuration should set a score (The `name` field in the `metric` dictionary in `dSweep`).\n",
    "2. Get the _Sweep ID_ (`sweepId`).  \n",
    "   Make it available to any node (Computer) which should run experiments using the sweep configuration.\n",
    "3. Define a function which given a specific set of _Hyper Parameters_ defines an experiment which evaluates the algorithm and log the score.  \n",
    "   The function should get its configuration from the `oRun` object.  \n",
    "   The function should log the target score using the same label (`name`) defined in the configuration.  \n",
    "4. Each node which uses the Sweep ID will be configured using the same configuration.  \n",
    "   The Weights and Biases service will orchestrate the allocation of _hyper parameters_ to each experiment according to the defined policy (`method`). "
   ]
  },
  {
   "cell_type": "code",
   "execution_count": null,
   "metadata": {},
   "outputs": [],
   "source": [
    "# Register the Sweep\n",
    "# The `sweepId` is a unique identifier for the sweep, which can be used to monitor and control the sweep.\n",
    "# The `sweepId` should be distributed to any node which should run an experiment in the sweep.\n",
    "\n",
    "# sweepId = wandb.sweep(dSweep, project = 'MNIST1D - Model Hyper Parameters') #<! Returns the Sweep ID (String)\n",
    "sweepId = wandb.sweep(dSweep, project = projName) #<! Returns the Sweep ID (String) `f96s71zs`"
   ]
  },
  {
   "cell_type": "code",
   "execution_count": null,
   "metadata": {},
   "outputs": [],
   "source": [
    "# Path\n",
    "\n",
    "mX, valY = dsTrain[5]\n",
    "\n",
    "hF, hA = plt.subplots(figsize = (2, 3), dpi = 90)\n",
    "# hA.scatter(mX.numpy()[0], vT)\n",
    "hA.plot(mX.numpy()[0], vT, 'k-', lw = 2)\n",
    "hA.invert_yaxis()\n",
    "hA.set_xlim(-3, 3)\n",
    "hA.set_title(f'Index: {5}, Label: {valY}');"
   ]
  },
  {
   "cell_type": "markdown",
   "metadata": {},
   "source": [
    "### Data Loaders\n"
   ]
  },
  {
   "cell_type": "code",
   "execution_count": null,
   "metadata": {},
   "outputs": [],
   "source": [
    "# Data Loader\n",
    "\n",
    "dlTrain = torch.utils.data.DataLoader(dsTrain, shuffle = True, batch_size = 1 * batchSize, num_workers = numWork, persistent_workers = True)\n",
    "dlTest  = torch.utils.data.DataLoader(dsVal, shuffle = False, batch_size = 2 * batchSize, num_workers = numWork, persistent_workers = True)"
   ]
  },
  {
   "cell_type": "markdown",
   "metadata": {},
   "source": [
    "* <font color='red'>(**?**)</font> Why is the size of the batch twice as big for the test dataset?"
   ]
  },
  {
   "cell_type": "code",
   "execution_count": null,
   "metadata": {},
   "outputs": [],
   "source": [
    "# Iterate on the Loader\n",
    "# The first batch.\n",
    "tX, vY = next(iter(dlTrain)) #<! PyTorch Tensors\n",
    "\n",
    "print(f'The batch features dimensions: {tX.shape}')\n",
    "print(f'The batch labels dimensions: {vY.shape}')"
   ]
  },
  {
   "cell_type": "markdown",
   "metadata": {},
   "source": [
    "## Define the Model\n",
    "\n",
    "The model is defined as a sequential model."
   ]
  },
  {
   "cell_type": "code",
   "execution_count": null,
   "metadata": {},
   "outputs": [],
   "source": [
    "# The L2 Pool Layer\n",
    "\n",
    "class L2Pool1D(nn.LPPool1d):\n",
    "    def __init__(self, kernelSize: int, stride: Optional[int] = None):\n",
    "        super().__init__(norm_type = 2, kernel_size = kernelSize, stride = stride)"
   ]
  },
  {
   "cell_type": "code",
   "execution_count": null,
   "metadata": {},
   "outputs": [],
   "source": [
    "# Model\n",
    "# Defining a sequential model.\n",
    "\n",
    "def GenModel( numOut: int, poolLayer: Literal['maxPool', 'l2Pool'], activationLayer: Literal['ReLU', 'ReLU6', 'SELU', 'CELU', 'GELU', 'Mish', 'Softplus'] ) -> nn.Module:\n",
    "\n",
    "    match poolLayer:\n",
    "        case 'maxPool':\n",
    "            oPoolLayer = nn.MaxPool1d\n",
    "        case 'l2Pool':\n",
    "            oPoolLayer = L2Pool1D\n",
    "        case _:\n",
    "            raise ValueError(f'Unknown pooling layer: {poolLayer}')\n",
    "    match activationLayer:\n",
    "        case 'Sigmoid':\n",
    "            oActivationLayer = nn.Sigmoid\n",
    "        case 'Tanh':\n",
    "            oActivationLayer = nn.Tanh\n",
    "        case 'ReLU':\n",
    "            oActivationLayer = nn.ReLU\n",
    "        case 'ReLU6':\n",
    "            oActivationLayer = nn.ReLU6\n",
    "        case 'SELU':\n",
    "            oActivationLayer = nn.SELU\n",
    "        case 'CELU':\n",
    "            oActivationLayer = nn.CELU\n",
    "        case 'GELU':\n",
    "            oActivationLayer = nn.GELU\n",
    "        case 'Mish':\n",
    "            oActivationLayer = nn.Mish\n",
    "        case 'Softplus':\n",
    "            oActivationLayer = nn.Softplus\n",
    "        case _:\n",
    "            raise ValueError(f'Unknown activation layer: {activationLayer}')\n",
    "\n",
    "    oModel = nn.Sequential(\n",
    "        nn.Identity(),\n",
    "\n",
    "        nn.Conv1d( 1,  16, 3, bias = False), nn.BatchNorm1d(16), oPoolLayer(2), oActivationLayer(),\n",
    "        nn.Conv1d(16,  32, 3, bias = False), nn.BatchNorm1d(32), oPoolLayer(2), oActivationLayer(),\n",
    "        nn.Conv1d(32,  64, 3, bias = False), nn.BatchNorm1d(64), oPoolLayer(2), oActivationLayer(),\n",
    "\n",
    "        nn.AdaptiveMaxPool1d(1),\n",
    "        nn.Flatten(),\n",
    "        nn.Linear(64, numOut),\n",
    "    )\n",
    "\n",
    "    return oModel\n",
    "\n",
    "oModel = GenModel(len(L_CLASSES_MNIST), 'maxPool', 'ReLU')\n",
    "torchinfo.summary(oModel, tX.shape, col_names = ['kernel_size', 'output_size', 'num_params'], device = 'cpu')"
   ]
  },
  {
   "cell_type": "markdown",
   "metadata": {},
   "source": [
    "* <font color='red'>(**?**)</font> Why is `bias = False` used above?\n",
    "* <font color='brown'>(**#**)</font> Using a multiplication by 8 number of channels accelerate the run time (In most cases).\n",
    "* <font color='brown'>(**#**)</font> Pay attention to model size and the RAM fo the GPU. Rule of thumb, up to ~40%."
   ]
  },
  {
   "cell_type": "markdown",
   "metadata": {},
   "source": [
    "## Train the Model\n",
    "\n",
    "This section trains the model using different schedulers:\n",
    "\n",
    " - Updates the training function.\n",
    " - Updates the _epoch_ function to log information at mini batch level.\n",
    " - Create a class for a logger of TensorBoard."
   ]
  },
  {
   "cell_type": "code",
   "execution_count": null,
   "metadata": {},
   "outputs": [],
   "source": [
    "# Run Device\n",
    "\n",
    "runDevice = torch.device('cuda:0' if torch.cuda.is_available() else 'cpu') #<! The 1st CUDA device"
   ]
  },
  {
   "cell_type": "code",
   "execution_count": null,
   "metadata": {},
   "outputs": [],
   "source": [
    "# Loss and Score Function\n",
    "\n",
    "hL = nn.CrossEntropyLoss()\n",
    "hS = MulticlassAccuracy(num_classes = len(L_CLASSES_MNIST), average = 'micro')\n",
    "hL = hL.to(runDevice) #<! Not required!\n",
    "hS = hS.to(runDevice)"
   ]
  },
  {
   "cell_type": "code",
   "execution_count": null,
   "metadata": {},
   "outputs": [],
   "source": [
    "# The Sweep Function\n",
    "\n",
    "def WandbSweep( projName: str, numCls: int, hL, hS, dlTrain, dlTest, numEpochs: int, runDevice: torch.DeviceObjType ) -> None:\n",
    "    \"\"\"\n",
    "    The WandB Sweep Function.  \n",
    "    Runs a single experiment in the WandB Sweep.\n",
    "    \"\"\"\n",
    "    # Initialize the WandB Run\n",
    "    with wandb.init(project = projName) as oRun:\n",
    "\n",
    "        # Extract the configuration\n",
    "        dConfig = oRun.config\n",
    "    \n",
    "        # Generate the model\n",
    "        oModel = GenModel(numCls, dConfig['poolLayer'], dConfig['activationLayer'])\n",
    "    \n",
    "        # Move the model to the run device\n",
    "        oModel.to(runDevice)\n",
    "    \n",
    "        # Optimizer\n",
    "        oOptimizer = torch.optim.AdamW(oModel.parameters(), lr = 3e-4, weight_decay = dConfig['paramLambda'])\n",
    "        oScheduler = torch.optim.lr_scheduler.OneCycleLR(oOptimizer, max_lr = 5e-3, total_steps = nEpochs)\n",
    "    \n",
    "        # Train the model\n",
    "        oModel, lTrainLoss, lTrainScore, lValLoss, lValScore, lLearnRate = TrainModel(oModel, dlTrain, dlTest, oOptimizer, numEpochs, hL, hS, oSch = oScheduler)\n",
    "\n",
    "        # Set summary to represent the aggregation of values\n",
    "        # For some reason, WandB does not support the `step_metric` for the summary.\n",
    "        # oRun.define_metric('Epoch')\n",
    "        # oRun.define_metric('Train/Loss', step_metric = 'Epoch', summary = 'last')\n",
    "        # oRun.define_metric('Train/Score', step_metric = 'Epoch', summary = 'last')\n",
    "        # oRun.define_metric('Train/Score', step_metric = 'Epoch',  summary = 'last')\n",
    "        # oRun.define_metric('Validation/Loss', step_metric = 'Epoch', summary = 'last')\n",
    "        # oRun.define_metric('Validation/Score', step_metric = 'Epoch', summary = 'last')\n",
    "        # oRun.define_metric('Score', summary = 'max')\n",
    "    \n",
    "        for epoch in range(numEpochs):\n",
    "            oRun.log({\n",
    "                'Epoch'           : epoch,\n",
    "                'Train/Loss'      : lTrainLoss[epoch],\n",
    "                'Train/Score'     : lTrainScore[epoch],\n",
    "                'Validation/Loss' : lValLoss[epoch],\n",
    "                'Validation/Score': lValScore[epoch],\n",
    "                'Learning Rate'   : lLearnRate[epoch],\n",
    "                'Score'           : lValScore[epoch], #<! Target (Should match the `metric` name in the Sweep configuration)\n",
    "            })\n",
    "        \n",
    "        # Set the representative value of the aggregation of the values\n",
    "        oRun.summary['Score'] = max(lValScore) #<! The best score"
   ]
  },
  {
   "cell_type": "code",
   "execution_count": null,
   "metadata": {},
   "outputs": [],
   "source": [
    "# Auxiliary Function\n",
    "\n",
    "# The function for the `agent()` must have no positional arguments\n",
    "hWandbSweep = lambda: WandbSweep(projName, len(L_CLASSES_MNIST), hL, hS, dlTrain, dlTest, nEpochs, runDevice)"
   ]
  },
  {
   "cell_type": "code",
   "execution_count": null,
   "metadata": {},
   "outputs": [],
   "source": [
    "# Weights and Biases Sweep\n",
    "\n",
    "# The function should have no arguments\n",
    "# The project is required for distributed use case\n",
    "wandb.agent(sweepId, project = projName, function = hWandbSweep, count = numSweeps)"
   ]
  }
 ],
 "metadata": {
  "kernelspec": {
   "display_name": "Python 3",
   "language": "python",
   "name": "python3"
  },
  "language_info": {
   "codemirror_mode": {
    "name": "ipython",
    "version": 3
   },
   "file_extension": ".py",
   "mimetype": "text/x-python",
   "name": "python",
   "nbconvert_exporter": "python",
   "pygments_lexer": "ipython3",
   "version": "3.12.10"
  },
  "toc": {
   "base_numbering": 1,
   "nav_menu": {},
   "number_sections": false,
   "sideBar": true,
   "skip_h1_title": false,
   "title_cell": "Table of Contents",
   "title_sidebar": "Contents",
   "toc_cell": false,
   "toc_position": {},
   "toc_section_display": true,
   "toc_window_display": true
  },
  "varInspector": {
   "cols": {
    "lenName": 16,
    "lenType": 16,
    "lenVar": 40
   },
   "kernels_config": {
    "python": {
     "delete_cmd_postfix": "",
     "delete_cmd_prefix": "del ",
     "library": "var_list.py",
     "varRefreshCmd": "print(var_dic_list())"
    },
    "r": {
     "delete_cmd_postfix": ") ",
     "delete_cmd_prefix": "rm(",
     "library": "var_list.r",
     "varRefreshCmd": "cat(var_dic_list()) "
    }
   },
   "types_to_exclude": [
    "module",
    "function",
    "builtin_function_or_method",
    "instance",
    "_Feature"
   ],
   "window_display": false
  },
  "vscode": {
   "interpreter": {
    "hash": "39577bab1f263e62e0b74f5b8086bd735049bf4751f6562b2d4b2969dc308293"
   }
  }
 },
 "nbformat": 4,
 "nbformat_minor": 4
}
