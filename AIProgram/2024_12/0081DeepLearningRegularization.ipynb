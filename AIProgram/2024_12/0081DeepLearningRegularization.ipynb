{
 "cells": [
  {
   "attachments": {},
   "cell_type": "markdown",
   "metadata": {},
   "source": [
    "[![Fixel Algorithms](https://i.imgur.com/AqKHVZ0.png)](https://fixelalgorithms.gitlab.io/)\n",
    "\n",
    "# AI Program\n",
    "\n",
    "## Machine Learning - Deep Learning - Regularization\n",
    "\n",
    "> Notebook by:\n",
    "> - Royi Avital RoyiAvital@fixelalgorithms.com\n",
    "\n",
    "## Revision History\n",
    "\n",
    "| Version | Date       | User        |Content / Changes                                                   |\n",
    "|---------|------------|-------------|--------------------------------------------------------------------|\n",
    "| 1.0.000 | 25/04/2024 | Royi Avital | First version                                                      |"
   ]
  },
  {
   "attachments": {},
   "cell_type": "markdown",
   "metadata": {},
   "source": [
    "[![Open In Colab](https://colab.research.google.com/assets/colab-badge.svg)](https://colab.research.google.com/github/FixelAlgorithmsTeam/FixelCourses/blob/master/AIProgram/2024_02/0081DeepLearningRegularization.ipynb)"
   ]
  },
  {
   "cell_type": "code",
   "execution_count": null,
   "metadata": {
    "ExecuteTime": {
     "end_time": "2022-02-02T09:30:06.492269Z",
     "start_time": "2022-02-02T09:30:06.220934Z"
    }
   },
   "outputs": [],
   "source": [
    "# Import Packages\n",
    "\n",
    "# General Tools\n",
    "import numpy as np\n",
    "import scipy as sp\n",
    "import pandas as pd\n",
    "\n",
    "# Machine Learning\n",
    "from sklearn.datasets import fetch_openml\n",
    "from sklearn.model_selection import train_test_split\n",
    "\n",
    "# Miscellaneous\n",
    "import math\n",
    "import os\n",
    "import pickle\n",
    "from platform import python_version\n",
    "import random\n",
    "import time\n",
    "\n",
    "# Typing\n",
    "from typing import Callable, Dict, List, Optional, Self, Set, Tuple, Union\n",
    "\n",
    "# Visualization\n",
    "import matplotlib as mpl\n",
    "import matplotlib.pyplot as plt\n",
    "import seaborn as sns\n",
    "\n",
    "# Jupyter\n",
    "from IPython import get_ipython\n",
    "from IPython.display import HTML, Image\n",
    "from IPython.display import display\n",
    "from ipywidgets import Dropdown, FloatSlider, interact, IntSlider, Layout, SelectionSlider\n",
    "from ipywidgets import interact"
   ]
  },
  {
   "attachments": {},
   "cell_type": "markdown",
   "metadata": {},
   "source": [
    "## Notations\n",
    "\n",
    "* <font color='red'>(**?**)</font> Question to answer interactively.\n",
    "* <font color='blue'>(**!**)</font> Simple task to add code for the notebook.\n",
    "* <font color='green'>(**@**)</font> Optional / Extra self practice.\n",
    "* <font color='brown'>(**#**)</font> Note / Useful resource / Food for thought.\n",
    "\n",
    "Code Notations:\n",
    "\n",
    "```python\n",
    "someVar    = 2; #<! Notation for a variable\n",
    "vVector    = np.random.rand(4) #<! Notation for 1D array\n",
    "mMatrix    = np.random.rand(4, 3) #<! Notation for 2D array\n",
    "tTensor    = np.random.rand(4, 3, 2, 3) #<! Notation for nD array (Tensor)\n",
    "tuTuple    = (1, 2, 3) #<! Notation for a tuple\n",
    "lList      = [1, 2, 3] #<! Notation for a list\n",
    "dDict      = {1: 3, 2: 2, 3: 1} #<! Notation for a dictionary\n",
    "oObj       = MyClass() #<! Notation for an object\n",
    "dfData     = pd.DataFrame() #<! Notation for a data frame\n",
    "dsData     = pd.Series() #<! Notation for a series\n",
    "hObj       = plt.Axes() #<! Notation for an object / handler / function handler\n",
    "```\n",
    "\n",
    "### Code Exercise\n",
    "\n",
    " - Single line fill\n",
    "\n",
    " ```python\n",
    " vallToFill = ???\n",
    " ```\n",
    "\n",
    " - Multi Line to Fill (At least one)\n",
    "\n",
    " ```python\n",
    " # You need to start writing\n",
    " ????\n",
    " ```\n",
    "\n",
    " - Section to Fill\n",
    "\n",
    "```python\n",
    "#===========================Fill This===========================#\n",
    "# 1. Explanation about what to do.\n",
    "# !! Remarks to follow / take under consideration.\n",
    "mX = ???\n",
    "\n",
    "???\n",
    "#===============================================================#\n",
    "```"
   ]
  },
  {
   "cell_type": "code",
   "execution_count": null,
   "metadata": {},
   "outputs": [],
   "source": [
    "# Configuration\n",
    "# %matplotlib inline\n",
    "\n",
    "seedNum = 512\n",
    "np.random.seed(seedNum)\n",
    "random.seed(seedNum)\n",
    "\n",
    "# Matplotlib default color palette\n",
    "lMatPltLibclr = ['#1f77b4', '#ff7f0e', '#2ca02c', '#d62728', '#9467bd', '#8c564b', '#e377c2', '#7f7f7f', '#bcbd22', '#17becf']\n",
    "# sns.set_theme() #>! Apply SeaBorn theme\n",
    "\n",
    "runInGoogleColab = 'google.colab' in str(get_ipython())\n"
   ]
  },
  {
   "cell_type": "code",
   "execution_count": null,
   "metadata": {},
   "outputs": [],
   "source": [
    "# Constants\n",
    "\n",
    "FIG_SIZE_DEF    = (8, 8)\n",
    "ELM_SIZE_DEF    = 50\n",
    "CLASS_COLOR     = ('b', 'r')\n",
    "EDGE_COLOR      = 'k'\n",
    "MARKER_SIZE_DEF = 10\n",
    "LINE_WIDTH_DEF  = 2\n",
    "\n",
    "D_CLASSES_CIFAR_10  = {0: 'Airplane', 1: 'Automobile', 2: 'Bird', 3: 'Cat', 4: 'Deer', 5: 'Dog', 6: 'Frog', 7: 'Horse', 8: 'Ship', 9: 'Truck'}\n",
    "L_CLASSES_CIFAR_10  = ['Airplane', 'Automobile', 'Bird', 'Cat', 'Deer', 'Dog', 'Frog', 'Horse', 'Ship', 'Truck']\n",
    "T_IMG_SIZE_CIFAR_10 = (32, 32, 3)\n"
   ]
  },
  {
   "cell_type": "code",
   "execution_count": null,
   "metadata": {},
   "outputs": [],
   "source": [
    "# Download Auxiliary Modules for Google Colab\n",
    "if runInGoogleColab:\n",
    "    !wget https://raw.githubusercontent.com/FixelAlgorithmsTeam/FixelCourses/master/AIProgram/2024_02/DataManipulation.py\n",
    "    !wget https://raw.githubusercontent.com/FixelAlgorithmsTeam/FixelCourses/master/AIProgram/2024_02/DataVisualization.py\n",
    "    !wget https://raw.githubusercontent.com/FixelAlgorithmsTeam/FixelCourses/master/AIProgram/2024_02/DeepLearningBlocks.py\n",
    "    !wget https://raw.githubusercontent.com/FixelAlgorithmsTeam/FixelCourses/master/AIProgram/2024_02/NumericDiff.py"
   ]
  },
  {
   "cell_type": "code",
   "execution_count": null,
   "metadata": {},
   "outputs": [],
   "source": [
    "# Courses Packages\n",
    "\n",
    "from DataVisualization import PlotLabelsHistogram, PlotMnistImages\n",
    "from DeepLearningBlocks import DataSet, LinearLayer, ModelNN, NNMode, NNWeightInit, Optimizer, ReLULayer, SGD\n",
    "from DeepLearningBlocks import CrossEntropyLoss, RunEpoch, ScoreAccLogits\n"
   ]
  },
  {
   "cell_type": "code",
   "execution_count": null,
   "metadata": {},
   "outputs": [],
   "source": [
    "# General Auxiliary Functions\n"
   ]
  },
  {
   "cell_type": "markdown",
   "metadata": {},
   "source": [
    "## Neural Net Regularization\n",
    "\n",
    "_Regularization_ is the operation to prevent the model to _overfit_.   \n",
    "It regularizes the _Degrees of Freedom_ of the model to tune it to generalize to new data.\n",
    "\n",
    "There are many methods:\n",
    "\n",
    " - Data Based  \n",
    "   Methods to extend the data. Either by more data or by _augmenting_ the given data.\n",
    " - Architecture Based  \n",
    "   Define the model structure with elements and architecture which fits the problem.  \n",
    "   If the architecture fits the problem, the number of required parameters is reduced.  \n",
    "   For instance, the use of convolution for time and spatially correlated data.\n",
    " - Optimization / Prior Based  \n",
    "   Use optimization / prior based methods to regulate the process.  \n",
    "   This include regulating the magnitude of the parameters by adding norm based regularization on the parameters.\n",
    "   Additional options include different loss functions.\n",
    " - Scheduling Techniques  \n",
    "   Stopping the training or changing its policy once overfit is detected.\n",
    "\n",
    "This notebook demonstrates the following regularization methods:\n",
    "\n",
    "1. Early Stopping.\n",
    "2. Weight Decay.\n",
    "3. Dropout Layer.\n",
    "\n",
    "* <font color='brown'>(**#**)</font> **Data** is the most effective regularizer.\n",
    "* <font color='brown'>(**#**)</font> An overview is given in [Regularizing Your Neural Networks](https://rawgit.com/danielkunin/Deeplearning-Visualizations/master/regularization/index.html).\n"
   ]
  },
  {
   "cell_type": "markdown",
   "metadata": {},
   "source": [
    "![Regularization Effect](https://i.imgur.com/wdBiBh8.png)"
   ]
  },
  {
   "cell_type": "code",
   "execution_count": null,
   "metadata": {},
   "outputs": [],
   "source": [
    "# Parameters\n",
    "\n",
    "# Data\n",
    "numSamplesTrain = 50_000\n",
    "numSamplesTest  = 10_000\n",
    "\n",
    "# Model\n",
    "dropP = 0.5 #<! Dropout Layer\n",
    "\n",
    "# Training\n",
    "batchSize   = 256\n",
    "nEpochs     = 20\n",
    "\n",
    "# Visualization\n",
    "numImg = 3\n"
   ]
  },
  {
   "cell_type": "markdown",
   "metadata": {},
   "source": [
    "## Generate / Load Data\n",
    "\n",
    "Load the [CIFAR 10 Data Set](https://en.wikipedia.org/wiki/CIFAR-10).  \n",
    "It is composed of 60,000 RGB images of size `32x32` with 10 classes uniformly spread.\n",
    "\n",
    "* <font color='brown'>(**#**)</font> The data set is available at [OpenML - CIFAR 10](https://www.openml.org/search?type=data&sort=runs&id=40927&status=active).  "
   ]
  },
  {
   "cell_type": "code",
   "execution_count": null,
   "metadata": {},
   "outputs": [],
   "source": [
    "# Load Data\n",
    "\n",
    "mX, vY = fetch_openml('CIFAR_10', version = 1, return_X_y = True, as_frame = False, parser = 'auto')\n",
    "vY = vY.astype(np.int_) #<! The labels are strings, convert to integer\n",
    "\n",
    "print(f'The features data shape: {mX.shape}')\n",
    "print(f'The labels data shape: {vY.shape}')\n",
    "print(f'The unique values of the labels: {np.unique(vY)}')\n"
   ]
  },
  {
   "cell_type": "code",
   "execution_count": null,
   "metadata": {},
   "outputs": [],
   "source": [
    "# Reorder Data\n",
    "# Data is C x H x W -> H x W x C for displaying\n",
    "mX = np.reshape(mX, (mX.shape[0], *T_IMG_SIZE_CIFAR_10[::-1]))\n",
    "mX = np.transpose(mX, (0, 2, 3, 1))\n",
    "mX = np.reshape(mX, (mX.shape[0], -1))"
   ]
  },
  {
   "cell_type": "code",
   "execution_count": null,
   "metadata": {},
   "outputs": [],
   "source": [
    "# Pre Process Data\n",
    "\n",
    "mX = mX / 255.0"
   ]
  },
  {
   "cell_type": "markdown",
   "metadata": {},
   "source": [
    "* <font color='red'>(**?**)</font> Does the scaling affects the training phase? Think about the _Learning Rate_."
   ]
  },
  {
   "cell_type": "markdown",
   "metadata": {},
   "source": [
    "### Plot the Data"
   ]
  },
  {
   "cell_type": "code",
   "execution_count": null,
   "metadata": {},
   "outputs": [],
   "source": [
    "# Plot the Data\n",
    "\n",
    "hF = PlotMnistImages(mX, vY, numImg, tuImgSize = T_IMG_SIZE_CIFAR_10)"
   ]
  },
  {
   "cell_type": "code",
   "execution_count": null,
   "metadata": {},
   "outputs": [],
   "source": [
    "# Histogram of Labels\n",
    "\n",
    "hA = PlotLabelsHistogram(vY, lClass = L_CLASSES_CIFAR_10)\n",
    "plt.show()"
   ]
  },
  {
   "cell_type": "markdown",
   "metadata": {},
   "source": [
    "### Train & Test Split\n",
    "\n",
    "The data is split into _Train_ and _Test_ data sets.  "
   ]
  },
  {
   "cell_type": "code",
   "execution_count": null,
   "metadata": {},
   "outputs": [],
   "source": [
    "# Train Test Split\n",
    "\n",
    "numClass = len(np.unique(vY))\n",
    "mXTrain, mXTest, vYTrain, vYTest = train_test_split(mX, vY, test_size = numSamplesTest, train_size = numSamplesTrain, shuffle = True, stratify = vY)\n",
    "\n",
    "print(f'The training features data shape: {mXTrain.shape}')\n",
    "print(f'The training labels data shape: {vYTrain.shape}')\n",
    "print(f'The test features data shape: {mXTest.shape}')\n",
    "print(f'The test labels data shape: {vYTest.shape}')\n",
    "print(f'The unique values of the labels: {np.unique(vY)}')\n"
   ]
  },
  {
   "cell_type": "code",
   "execution_count": null,
   "metadata": {},
   "outputs": [],
   "source": [
    "# Pre Process Data\n",
    "\n",
    "vMean = np.mean(mXTrain, axis = 0)\n",
    "vStd  = np.std(mXTrain, axis = 0)\n",
    "\n",
    "# Processing the test data based on the train data!\n",
    "mXTrain -= vMean\n",
    "mXTest  -= vMean\n",
    "mXTrain /= vStd\n",
    "mXTest  /= vStd"
   ]
  },
  {
   "cell_type": "markdown",
   "metadata": {},
   "source": [
    "* <font color='red'>(**?**)</font> What should be done with `vMean` and `vStd` in production?"
   ]
  },
  {
   "cell_type": "code",
   "execution_count": null,
   "metadata": {},
   "outputs": [],
   "source": [
    "# Generate the Data Sets\n",
    "# The DataSet assumes each column is a sample.\n",
    "\n",
    "oDsTrain    = DataSet(mXTrain.T, vYTrain, batchSize) #<! Train Data Set\n",
    "oDsVal      = DataSet(mXTest.T, vYTest, batchSize)   #<! Validation Data Set\n",
    "\n",
    "print(f'The batch size: {batchSize}')\n",
    "print(f'The training data set number of batches per Epoch: {len(oDsTrain)}')\n",
    "print(f'The validation data set number of batches per Epoch: {len(oDsVal)}')"
   ]
  },
  {
   "cell_type": "markdown",
   "metadata": {},
   "source": [
    "## Regularizers\n",
    "\n",
    "This section implements 3 regularizers:\n",
    "\n",
    " * Early Stopping  \n",
    "   Stop the net with the signs of overfitting.  \n",
    "   This implementation will only save the best model based on the score of the validation.\n",
    " * Weights Decay  \n",
    "   Implementation of the weight decay in a manner which decompose it from the actual loss.\n",
    " * Dropout Layer  \n",
    "   The _Dropout Layer_ avoids a single point of failure where a small number of features might become too significant.  \n",
    "   It \"forces\" the model to learn to get the result in \"many ways\".\n",
    "\n",
    "</br>\n",
    "\n",
    "* <font color='brown'>(**#**)</font> Some practitioners, with various considerations, choose to practically stop the training. This is the actual meaning of _Early Stopping_.\n",
    "* <font color='brown'>(**#**)</font> In most cases _Cross Validation_ is infeasible for Deep Learning. \n",
    "* <font color='brown'>(**#**)</font> You may read on _Weight Decay_ in [Dive into Deep Learning - 3.7. Weight Decay](https://d2l.ai/chapter_linear-regression/weight-decay.html). \n",
    "* <font color='brown'>(**#**)</font> You may read on _Dropout_ in [Dive into Deep Learning - 5.6. Dropout](http://d2l.ai/chapter_multilayer-perceptrons/dropout.html). \n",
    "* <font color='brown'>(**#**)</font> You may read on _Dropout_ in [What Makes Dropout Effective](https://datascience.stackexchange.com/questions/37021). \n"
   ]
  },
  {
   "cell_type": "markdown",
   "metadata": {},
   "source": [
    "### Early Stopping\n",
    "\n",
    "The early stopping is incorporated into the training loop."
   ]
  },
  {
   "cell_type": "code",
   "execution_count": null,
   "metadata": {},
   "outputs": [],
   "source": [
    "# Training Model Loop Function\n",
    "\n",
    "def TrainModel( oModel: ModelNN, oDsTrain: DataSet, oDsVal: DataSet, oOpt: Optimizer, numEpoch: int, hL: Callable, hS: Callable ) -> Tuple[ModelNN, List, List, List, List]:\n",
    "\n",
    "    lTrainLoss  = []\n",
    "    lTrainScore = []\n",
    "    lValLoss    = []\n",
    "    lValScore   = []\n",
    "\n",
    "    #!!!#\n",
    "    bestScore = 0.0 #<! Assuming higher is better\n",
    "    #!!!#\n",
    "\n",
    "    for ii in range(numEpoch):\n",
    "        startTime           = time.time()\n",
    "        trainLoss, trainScr = RunEpoch(oModel, oDsTrain, oOpt, hL, hS, opMode = NNMode.TRAIN) #<! Train\n",
    "        valLoss,   valScr   = RunEpoch(oModel, oDsVal, oOpt, hL, hS, opMode = NNMode.INFERENCE)    #<! Score Validation\n",
    "        epochTime           = time.time() - startTime\n",
    "\n",
    "        # Aggregate Results\n",
    "        lTrainLoss.append(trainLoss)\n",
    "        lTrainScore.append(trainScr)\n",
    "        lValLoss.append(valLoss)\n",
    "        lValScore.append(valScr)\n",
    "        \n",
    "        # Display (Babysitting)\n",
    "        print('Epoch '              f'{(ii + 1):4d} / ' f'{numEpoch}:', end = '')\n",
    "        print(' | Train Loss: '     f'{trainLoss          :6.3f}', end = '')\n",
    "        print(' | Val Loss: '       f'{valLoss            :6.3f}', end = '')\n",
    "        print(' | Train Score: '    f'{trainScr           :6.3f}', end = '')\n",
    "        print(' | Val Score: '      f'{valScr             :6.3f}', end = '')\n",
    "        print(' | Epoch Time: '     f'{epochTime          :5.2f}', end = '')\n",
    "\n",
    "        #!!!#\n",
    "        # Save best model (\"Early Stopping\")\n",
    "        if valScr > bestScore:\n",
    "            bestScore = valScr\n",
    "            print(' | <-- Checkpoint!', end = '')\n",
    "            with open('BestModel.pkl', 'wb') as oFile:\n",
    "                pickle.dump(oModel, oFile)\n",
    "        print(' |')\n",
    "        #!!!#\n",
    "    \n",
    "    #!!!#\n",
    "    # Load best model (\"Early Stopping\")\n",
    "    with open('BestModel.pkl', 'rb') as oFile:\n",
    "        oModel = pickle.load(oFile)\n",
    "    #!!!#\n",
    "\n",
    "    return oModel, lTrainLoss, lTrainScore, lValLoss, lValScore\n"
   ]
  },
  {
   "cell_type": "markdown",
   "metadata": {},
   "source": [
    "* <font color='red'>(**?**)</font> Why is a file saved and not just in memory copy? Think about memory considerations and error tolerance."
   ]
  },
  {
   "cell_type": "code",
   "execution_count": null,
   "metadata": {},
   "outputs": [],
   "source": [
    "# Define Model\n",
    "\n",
    "oModel = ModelNN([\n",
    "        LinearLayer(mX.shape[1], 200, initMethod = NNWeightInit.KAIMING), ReLULayer(),\n",
    "        LinearLayer(200, 100, initMethod = NNWeightInit.KAIMING), ReLULayer(),\n",
    "        LinearLayer(100, 50, initMethod = NNWeightInit.KAIMING), ReLULayer(),\n",
    "        LinearLayer(50, 10,  initMethod = NNWeightInit.KAIMING),\n",
    "        ])"
   ]
  },
  {
   "cell_type": "code",
   "execution_count": null,
   "metadata": {},
   "outputs": [],
   "source": [
    "# Define Optimizer\n",
    "\n",
    "oOpt = Optimizer(SGD(μ = 2e-3, β = 0.9))"
   ]
  },
  {
   "cell_type": "code",
   "execution_count": null,
   "metadata": {},
   "outputs": [],
   "source": [
    "# Train a Model\n",
    "\n",
    "oModel.Init()\n",
    "oModel, lTrainLoss, lTrainScore, lValLoss, lValScore = TrainModel(oModel, oDsTrain, oDsVal, oOpt, nEpochs, CrossEntropyLoss, ScoreAccLogits)"
   ]
  },
  {
   "cell_type": "code",
   "execution_count": null,
   "metadata": {},
   "outputs": [],
   "source": [
    "# Plot Results\n",
    "hF, vHa = plt.subplots(nrows = 1, ncols = 2, figsize = (12, 6))\n",
    "vHa = vHa.flat\n",
    "\n",
    "hA = vHa[0]\n",
    "hA.plot(lTrainLoss, lw = 2, label = 'Train Loss')\n",
    "hA.plot(lValLoss, lw = 2, label = 'Validation Loss')\n",
    "hA.grid()\n",
    "hA.set_title('Cross Entropy Loss')\n",
    "hA.set_xlabel('Epoch Index')\n",
    "hA.set_ylabel('Loss')\n",
    "hA.legend();\n",
    "\n",
    "\n",
    "hA = vHa[1]\n",
    "hA.plot(lTrainScore, lw = 2, label = 'Train Score')\n",
    "hA.plot(lValScore, lw = 2, label = 'Validation Score')\n",
    "hA.grid()\n",
    "hA.set_title('Accuracy Score')\n",
    "hA.set_xlabel('Epoch Index')\n",
    "hA.set_ylabel('Score')\n",
    "hA.legend();\n"
   ]
  },
  {
   "cell_type": "markdown",
   "metadata": {},
   "source": [
    "* <font color='red'>(**?**)</font> Where would classic \"Early Stopping\" stop the training?\n",
    "* <font color='brown'>(**#**)</font> Good regularization would avoid the divergence of the lines (Training / Test)."
   ]
  },
  {
   "cell_type": "markdown",
   "metadata": {},
   "source": [
    "### Weights Decay\n",
    "\n",
    "This section implements _Weights Decay_ with _SGD_:\n",
    "\n",
    "1. $\\boldsymbol{v}^{\\left(t\\right)}=\\beta\\boldsymbol{v}^{\\left(t-1\\right)}-\\mu\\nabla L\\left(\\boldsymbol{w}^{\\left(t\\right)}\\right)$.\n",
    "2. $\\boldsymbol{w}^{\\left(t+1\\right)}=\\boldsymbol{p}^{\\left(t\\right)}+\\boldsymbol{v}^{\\left(t\\right)}-\\lambda\\boldsymbol{w}^{\\left(t\\right)}$.\n",
    "\n",
    "* <font color='brown'>(**#**)</font> The implementation is accurate for \"Vanilla SGD\". It is conceptually accurate (Not Mathematically) for other methods."
   ]
  },
  {
   "cell_type": "code",
   "execution_count": null,
   "metadata": {},
   "outputs": [],
   "source": [
    "# The SGDM Class\n",
    "\n",
    "class SGDMW():\n",
    "    def __init__( self, μ: float = 1e-3, β: float = 0.9, λ = 0.0 ) -> None:\n",
    "        \n",
    "        self.μ = μ\n",
    "        self.β = β\n",
    "        self.λ = λ #<! Weight Decay (L2 Squared)\n",
    "\n",
    "    def Step( self, mW: np.ndarray, mDw: np.ndarray, dState: Dict = {} ) -> Tuple[np.ndarray, Dict]:\n",
    "        \n",
    "        mV            = dState.get('mV', np.zeros(mW.shape)) #<! Default for 1st iteration\n",
    "        mV            = self.β * mV - self.μ * mDw\n",
    "        mW           += mV - (self.λ * mW)\n",
    "        dState['mV']  = mV\n",
    "\n",
    "        return mW, dState\n"
   ]
  },
  {
   "cell_type": "code",
   "execution_count": null,
   "metadata": {},
   "outputs": [],
   "source": [
    "# Define Optimizer\n",
    "\n",
    "oOpt = Optimizer(SGDMW(μ = 2e-3, β = 0.9, λ = 8e-4))"
   ]
  },
  {
   "cell_type": "code",
   "execution_count": null,
   "metadata": {},
   "outputs": [],
   "source": [
    "# Train a Model\n",
    "\n",
    "oModel.Init()\n",
    "oModel, lTrainLoss, lTrainScore, lValLoss, lValScore = TrainModel(oModel, oDsTrain, oDsVal, oOpt, nEpochs, CrossEntropyLoss, ScoreAccLogits)"
   ]
  },
  {
   "cell_type": "code",
   "execution_count": null,
   "metadata": {},
   "outputs": [],
   "source": [
    "# Plot Results\n",
    "hF, vHa = plt.subplots(nrows = 1, ncols = 2, figsize = (12, 6))\n",
    "vHa = vHa.flat\n",
    "\n",
    "hA = vHa[0]\n",
    "hA.plot(lTrainLoss, lw = 2, label = 'Train Loss')\n",
    "hA.plot(lValLoss, lw = 2, label = 'Validation Loss')\n",
    "hA.grid()\n",
    "hA.set_title('Cross Entropy Loss')\n",
    "hA.set_xlabel('Epoch Index')\n",
    "hA.set_ylabel('Loss')\n",
    "hA.legend();\n",
    "\n",
    "\n",
    "hA = vHa[1]\n",
    "hA.plot(lTrainScore, lw = 2, label = 'Train Score')\n",
    "hA.plot(lValScore, lw = 2, label = 'Validation Score')\n",
    "hA.grid()\n",
    "hA.set_title('Accuracy Score')\n",
    "hA.set_xlabel('Epoch Index')\n",
    "hA.set_ylabel('Score')\n",
    "hA.legend();\n"
   ]
  },
  {
   "cell_type": "markdown",
   "metadata": {},
   "source": [
    "### Dropout Layer\n",
    "\n",
    "#### Forward\n",
    "\n",
    "$$\\boldsymbol{z}=\\frac{1}{p}\\boldsymbol{x}\\odot\\boldsymbol{m}=\\frac{1}{p}\\text{Diag}\\left(\\boldsymbol{m}\\right)\\boldsymbol{x}$$\n",
    "\n",
    " * $\\boldsymbol{m}$ is a mask (same size as $\\boldsymbol{x}$) such that each $\\boldsymbol{m}\\left[i\\right]\\sim\\text{Bernoulli}\\left(p\\right)$.\n",
    "\n",
    "#### Backward\n",
    "\n",
    "$$\n",
    "\\left\\langle \\nabla_{\\boldsymbol{z}}L,\\nabla_{\\boldsymbol{x}}\\boldsymbol{z}\\left[\\boldsymbol{h}\\right]\\right\\rangle =\\left\\langle \\nabla_{\\boldsymbol{z}}L,\\frac{1}{p}\\text{Diag}\\left(\\boldsymbol{m}\\right)\\boldsymbol{h}\\right\\rangle =\\left\\langle \\frac{1}{p}\\text{Diag}\\left(\\boldsymbol{m}\\right)\\nabla_{\\boldsymbol{z}}L,\\boldsymbol{h}\\right\\rangle \n",
    "$$\n",
    "$$\n",
    "\\implies\\boxed{\\nabla_{\\boldsymbol{x}}L=\\frac{1}{p}\\text{Diag}\\left(\\boldsymbol{m}\\right)\\nabla_{\\boldsymbol{z}}L=\\frac{1}{p}\\nabla_{\\boldsymbol{z}}L\\odot\\boldsymbol{m}}\n",
    "$$\n",
    "\n",
    "</br>\n",
    "\n",
    "* `Forward` - For train time (With dropout).\n",
    "* `Predict` - For test  time (Without dropout).\n",
    "\n",
    "</br>\n",
    "\n",
    "* <font color='brown'>(**#**)</font> The original paper, [Nitish Srivastava, Geoffrey Hinton, Alex Krizhevsky, Ilya Sutskever, Ruslan Salakhutdinov - Dropout: A Simple Way to Prevent Neural Networks from Overfitting](https://jmlr.org/papers/v15/srivastava14a.html), suggested using the Dropout layer on the input features. See [Dropout on the Input Layer](https://datascience.stackexchange.com/questions/38507)."
   ]
  },
  {
   "cell_type": "code",
   "execution_count": null,
   "metadata": {},
   "outputs": [],
   "source": [
    "# The Dropout Layer Class\n",
    "\n",
    "class DropoutLayer():\n",
    "    def __init__( self, p: float = 0.5 ) -> None:\n",
    "        \n",
    "        self.p       = p\n",
    "        self.mMask   = None\n",
    "        self.dGrads  = {}\n",
    "        self.dParams = {}\n",
    "\n",
    "    # Train Time\n",
    "    def Forward( self, mX: np.ndarray ) -> np.ndarray:\n",
    "        \n",
    "        self.mMask = (np.random.rand(*mX.shape) < self.p) / self.p\n",
    "        mZ         = mX * self.mMask\n",
    "\n",
    "        return mZ\n",
    "\n",
    "    # Test Time\n",
    "    def Predict( self, mX: np.ndarray ) -> np.ndarray:\n",
    "        \n",
    "        return mX\n",
    "    \n",
    "    def Backward( self, mDz: np.ndarray) -> np.ndarray:\n",
    "        \n",
    "        mDx   = mDz * self.mMask\n",
    "\n",
    "        return mDx\n"
   ]
  },
  {
   "cell_type": "markdown",
   "metadata": {},
   "source": [
    "* <font color='blue'>(**!**)</font> Go through the code of the `ModelNN` class (Forward vs. Predict)."
   ]
  },
  {
   "cell_type": "code",
   "execution_count": null,
   "metadata": {},
   "outputs": [],
   "source": [
    "# Define Model\n",
    "\n",
    "oModel = ModelNN([\n",
    "        LinearLayer(mX.shape[1], 200, initMethod = NNWeightInit.KAIMING), ReLULayer(), DropoutLayer(dropP),\n",
    "        LinearLayer(200, 100, initMethod = NNWeightInit.KAIMING), ReLULayer(), DropoutLayer(dropP),\n",
    "        LinearLayer(100, 50, initMethod = NNWeightInit.KAIMING), ReLULayer(), DropoutLayer(dropP),\n",
    "        LinearLayer(50, 10,  initMethod = NNWeightInit.KAIMING),\n",
    "        ])"
   ]
  },
  {
   "cell_type": "code",
   "execution_count": null,
   "metadata": {},
   "outputs": [],
   "source": [
    "# Define Optimizer\n",
    "\n",
    "oOpt = Optimizer(SGDMW(μ = 2e-3, β = 0.9, λ = 5e-5))"
   ]
  },
  {
   "cell_type": "code",
   "execution_count": null,
   "metadata": {},
   "outputs": [],
   "source": [
    "# Train a Model\n",
    "\n",
    "oModel.Init()\n",
    "oModel, lTrainLoss, lTrainScore, lValLoss, lValScore = TrainModel(oModel, oDsTrain, oDsVal, oOpt, 2 * nEpochs, CrossEntropyLoss, ScoreAccLogits)"
   ]
  },
  {
   "cell_type": "code",
   "execution_count": null,
   "metadata": {},
   "outputs": [],
   "source": [
    "# Plot Results\n",
    "hF, vHa = plt.subplots(nrows = 1, ncols = 2, figsize = (12, 6))\n",
    "vHa = vHa.flat\n",
    "\n",
    "hA = vHa[0]\n",
    "hA.plot(lTrainLoss, lw = 2, label = 'Train Loss')\n",
    "hA.plot(lValLoss, lw = 2, label = 'Validation Loss')\n",
    "hA.grid()\n",
    "hA.set_title('Cross Entropy Loss')\n",
    "hA.set_xlabel('Epoch Index')\n",
    "hA.set_ylabel('Loss')\n",
    "hA.legend();\n",
    "\n",
    "\n",
    "hA = vHa[1]\n",
    "hA.plot(lTrainScore, lw = 2, label = 'Train Score')\n",
    "hA.plot(lValScore, lw = 2, label = 'Validation Score')\n",
    "hA.grid()\n",
    "hA.set_title('Accuracy Score')\n",
    "hA.set_xlabel('Epoch Index')\n",
    "hA.set_ylabel('Score')\n",
    "hA.legend();\n"
   ]
  },
  {
   "cell_type": "markdown",
   "metadata": {},
   "source": [
    "* <font color='green'>(**@**)</font> Optimize the hyper parameters of the optimizers."
   ]
  },
  {
   "cell_type": "markdown",
   "metadata": {},
   "source": [
    "## Analysis of the Learning Curves\n",
    "\n",
    " - Model with Capacity Shortage (Underfit)\n",
    "\n",
    "<img src=\"https://machinelearningmastery.com/wp-content/uploads/2019/02/Example-of-Training-Learning-Curve-Showing-An-Underfit-Model-That-Does-Not-Have-Sufficient-Capacity.png\" width = \"600\"/>\n",
    "\n",
    " - Shortage of Training Iterations (Underfit)\n",
    "\n",
    "<img src=\"https://machinelearningmastery.com/wp-content/uploads/2018/12/Example-of-Training-Learning-Curve-Showing-An-Underfit-Model-That-Requires-Further-Training.png\" width = \"600\"/>\n",
    "\n",
    " - Model with Over Capacity and / or Learning Iterations (Overfit)\n",
    "\n",
    "<img src=\"https://machinelearningmastery.com/wp-content/uploads/2018/12/Example-of-Train-and-Validation-Learning-Curves-Showing-An-Overfit-Model.png\" width = \"600\"/>\n",
    "\n",
    " - Fit\n",
    "\n",
    "<img src=\"https://machinelearningmastery.com/wp-content/uploads/2018/12/Example-of-Train-and-Validation-Learning-Curves-Showing-A-Good-Fit.png\" width = \"600\"/>\n",
    "\n",
    " - Unrepresentative Train Dataset\n",
    "\n",
    "<img src=\"https://machinelearningmastery.com/wp-content/uploads/2018/12/Example-of-Train-and-Validation-Learning-Curves-Showing-a-Training-Dataset-the-May-be-too-Small-Relative-to-the-Validation-Dataset.png\" width = \"600\"/>\n",
    "\n",
    " - Unrepresentative Validation Dataset (Small, Noisy)\n",
    "\n",
    "<img src=\"https://machinelearningmastery.com/wp-content/uploads/2018/12/Example-of-Train-and-Validation-Learning-Curves-Showing-a-Validation-Dataset-the-May-be-too-Small-Relative-to-the-Training-Dataset.png\" width = \"600\"/>\n",
    "\n",
    " - Unrepresentative Validation Dataset (Easy)\n",
    "\n",
    "<img src=\"https://machinelearningmastery.com/wp-content/uploads/2018/12/Example-of-Train-and-Validation-Learning-Curves-Showing-a-Validation-Dataset-that-is-Easier-to-Predict-than-the-Training-Dataset.png\" width = \"600\"/>\n",
    "\n",
    "Resource: [How to Use Learning Curves to Diagnose Machine Learning Model Performance](https://machinelearningmastery.com/learning-curves-for-diagnosing-machine-learning-model-performance)"
   ]
  }
 ],
 "metadata": {
  "kernelspec": {
   "display_name": "Python 3",
   "language": "python",
   "name": "python3"
  },
  "language_info": {
   "codemirror_mode": {
    "name": "ipython",
    "version": 3
   },
   "file_extension": ".py",
   "mimetype": "text/x-python",
   "name": "python",
   "nbconvert_exporter": "python",
   "pygments_lexer": "ipython3",
   "version": "3.11.9"
  },
  "toc": {
   "base_numbering": 1,
   "nav_menu": {},
   "number_sections": false,
   "sideBar": true,
   "skip_h1_title": false,
   "title_cell": "Table of Contents",
   "title_sidebar": "Contents",
   "toc_cell": false,
   "toc_position": {},
   "toc_section_display": true,
   "toc_window_display": true
  },
  "varInspector": {
   "cols": {
    "lenName": 16,
    "lenType": 16,
    "lenVar": 40
   },
   "kernels_config": {
    "python": {
     "delete_cmd_postfix": "",
     "delete_cmd_prefix": "del ",
     "library": "var_list.py",
     "varRefreshCmd": "print(var_dic_list())"
    },
    "r": {
     "delete_cmd_postfix": ") ",
     "delete_cmd_prefix": "rm(",
     "library": "var_list.r",
     "varRefreshCmd": "cat(var_dic_list()) "
    }
   },
   "types_to_exclude": [
    "module",
    "function",
    "builtin_function_or_method",
    "instance",
    "_Feature"
   ],
   "window_display": false
  },
  "vscode": {
   "interpreter": {
    "hash": "39577bab1f263e62e0b74f5b8086bd735049bf4751f6562b2d4b2969dc308293"
   }
  }
 },
 "nbformat": 4,
 "nbformat_minor": 4
}
