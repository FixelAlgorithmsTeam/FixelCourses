{
 "cells": [
  {
   "attachments": {},
   "cell_type": "markdown",
   "metadata": {},
   "source": [
    "[![Fixel Algorithms](https://i.imgur.com/AqKHVZ0.png)](https://fixelalgorithms.gitlab.io/)\n",
    "\n",
    "# AI Program\n",
    "\n",
    "## Machine Learning - Deep Learning - BackPropagation\n",
    "\n",
    "> Notebook by:\n",
    "> - Royi Avital RoyiAvital@fixelalgorithms.com\n",
    "\n",
    "## Revision History\n",
    "\n",
    "| Version | Date       | User        |Content / Changes                                                   |\n",
    "|---------|------------|-------------|--------------------------------------------------------------------|\n",
    "| 1.0.001 | 19/05/2024 | Royi Avital | Added code comments and typing                                     |\n",
    "| 1.0.000 | 22/04/2024 | Royi Avital | First version                                                      |"
   ]
  },
  {
   "attachments": {},
   "cell_type": "markdown",
   "metadata": {},
   "source": [
    "[![Open In Colab](https://colab.research.google.com/assets/colab-badge.svg)](https://colab.research.google.com/github/FixelAlgorithmsTeam/FixelCourses/blob/master/AIProgram/2024_02/0075DeepBackPropagation.ipynb)"
   ]
  },
  {
   "cell_type": "code",
   "execution_count": null,
   "metadata": {
    "ExecuteTime": {
     "end_time": "2022-02-02T09:30:06.492269Z",
     "start_time": "2022-02-02T09:30:06.220934Z"
    }
   },
   "outputs": [],
   "source": [
    "# Import Packages\n",
    "\n",
    "# General Tools\n",
    "import numpy as np\n",
    "import scipy as sp\n",
    "import pandas as pd\n",
    "\n",
    "# Machine Learning\n",
    "from sklearn.datasets import fetch_openml\n",
    "from sklearn.model_selection import train_test_split\n",
    "\n",
    "# Miscellaneous\n",
    "import math\n",
    "import os\n",
    "from platform import python_version\n",
    "import random\n",
    "import timeit\n",
    "\n",
    "# Typing\n",
    "from typing import Callable, Dict, List, Optional, Self, Set, Tuple, Union\n",
    "\n",
    "# Visualization\n",
    "import matplotlib as mpl\n",
    "import matplotlib.pyplot as plt\n",
    "import seaborn as sns\n",
    "\n",
    "# Jupyter\n",
    "from IPython import get_ipython\n",
    "from IPython.display import Image\n",
    "from IPython.display import display\n",
    "from ipywidgets import Dropdown, FloatSlider, interact, IntSlider, Layout, SelectionSlider\n",
    "from ipywidgets import interact"
   ]
  },
  {
   "attachments": {},
   "cell_type": "markdown",
   "metadata": {},
   "source": [
    "## Notations\n",
    "\n",
    "* <font color='red'>(**?**)</font> Question to answer interactively.\n",
    "* <font color='blue'>(**!**)</font> Simple task to add code for the notebook.\n",
    "* <font color='green'>(**@**)</font> Optional / Extra self practice.\n",
    "* <font color='brown'>(**#**)</font> Note / Useful resource / Food for thought.\n",
    "\n",
    "Code Notations:\n",
    "\n",
    "```python\n",
    "someVar    = 2; #<! Notation for a variable\n",
    "vVector    = np.random.rand(4) #<! Notation for 1D array\n",
    "mMatrix    = np.random.rand(4, 3) #<! Notation for 2D array\n",
    "tTensor    = np.random.rand(4, 3, 2, 3) #<! Notation for nD array (Tensor)\n",
    "tuTuple    = (1, 2, 3) #<! Notation for a tuple\n",
    "lList      = [1, 2, 3] #<! Notation for a list\n",
    "dDict      = {1: 3, 2: 2, 3: 1} #<! Notation for a dictionary\n",
    "oObj       = MyClass() #<! Notation for an object\n",
    "dfData     = pd.DataFrame() #<! Notation for a data frame\n",
    "dsData     = pd.Series() #<! Notation for a series\n",
    "hObj       = plt.Axes() #<! Notation for an object / handler / function handler\n",
    "```\n",
    "\n",
    "### Code Exercise\n",
    "\n",
    " - Single line fill\n",
    "\n",
    " ```python\n",
    " vallToFill = ???\n",
    " ```\n",
    "\n",
    " - Multi Line to Fill (At least one)\n",
    "\n",
    " ```python\n",
    " # You need to start writing\n",
    " ????\n",
    " ```\n",
    "\n",
    " - Section to Fill\n",
    "\n",
    "```python\n",
    "#===========================Fill This===========================#\n",
    "# 1. Explanation about what to do.\n",
    "# !! Remarks to follow / take under consideration.\n",
    "mX = ???\n",
    "\n",
    "???\n",
    "#===============================================================#\n",
    "```"
   ]
  },
  {
   "cell_type": "code",
   "execution_count": null,
   "metadata": {},
   "outputs": [],
   "source": [
    "# Configuration\n",
    "# %matplotlib inline\n",
    "\n",
    "seedNum = 512\n",
    "np.random.seed(seedNum)\n",
    "random.seed(seedNum)\n",
    "\n",
    "# Matplotlib default color palette\n",
    "lMatPltLibclr = ['#1f77b4', '#ff7f0e', '#2ca02c', '#d62728', '#9467bd', '#8c564b', '#e377c2', '#7f7f7f', '#bcbd22', '#17becf']\n",
    "# sns.set_theme() #>! Apply SeaBorn theme\n",
    "\n",
    "runInGoogleColab = 'google.colab' in str(get_ipython())\n"
   ]
  },
  {
   "cell_type": "code",
   "execution_count": null,
   "metadata": {},
   "outputs": [],
   "source": [
    "# Constants\n",
    "\n",
    "FIG_SIZE_DEF    = (8, 8)\n",
    "ELM_SIZE_DEF    = 50\n",
    "CLASS_COLOR     = ('b', 'r')\n",
    "EDGE_COLOR      = 'k'\n",
    "MARKER_SIZE_DEF = 10\n",
    "LINE_WIDTH_DEF  = 2\n"
   ]
  },
  {
   "cell_type": "code",
   "execution_count": null,
   "metadata": {},
   "outputs": [],
   "source": [
    "# Courses Packages\n",
    "\n",
    "from DataVisualization import PlotConfusionMatrix, PlotLabelsHistogram, PlotMnistImages\n"
   ]
  },
  {
   "cell_type": "code",
   "execution_count": null,
   "metadata": {},
   "outputs": [],
   "source": [
    "# General Auxiliary Functions\n"
   ]
  },
  {
   "cell_type": "markdown",
   "metadata": {},
   "source": [
    "## Back Propagation (BackPropagation)\n",
    "\n",
    "The [BackPropagation](https://en.wikipedia.org/wiki/Backpropagation) is the method utilizing the [Chain Rule](https://en.wikipedia.org/wiki/Chain_rule) in order to calculate the gradient of a neural network.  \n",
    "The _BackPropagation_ is efficient under the assumption the net is $f: \\mathbb{R}^{d} \\to \\mathbb{R}^{c}$ where $c \\ll d$.  \n",
    "\n",
    "\n",
    "* <font color='brown'>(**#**)</font> The assumption holds as the gradients of the net are calculated with regard to the loss function which has a scalar output.\n",
    "* <font color='brown'>(**#**)</font> _BackPropagation_ is also called _Reverse Mode Differentiation_.  \n",
    "  There is also a _Forward Mode Differentiation_ which is more efficient for the case $c \\gg d$.  \n",
    "  The forward mode is useful in physical models where the functions are a vector functions.\n",
    "* <font color='brown'>(**#**)</font> The optimal calculation of the gradient of a composition of function is equivalent to the [Matrix Chain Ordering Problem](https://en.wikipedia.org/wiki/Matrix_chain_multiplication).  \n",
    "  It might require a _Mixed Mode Differentiation_.\n",
    "\n",
    "\n",
    "This notebook demonstrates creating _Deep Learning_ atoms with build in support for _BackPropagation_.  \n",
    "Using the _atoms_ a computational graph is built and processed both _forward_ and _backward_.\n",
    "Those atoms will allow building a composable and scalable model.\n",
    "\n",
    "* <font color='brown'>(**#**)</font> The model is simplified by supporting a \"Feed Forward Networks\" only. In practice more complex computational graphs are supported by Deep Learning Frameworks."
   ]
  },
  {
   "cell_type": "code",
   "execution_count": null,
   "metadata": {},
   "outputs": [],
   "source": [
    "# Parameters\n",
    "\n",
    "# Data\n",
    "numSamplesTrain = 60_000\n",
    "numSamplesTest  = 10_000\n",
    "\n",
    "# Model\n",
    "hidLayerDim = 200\n",
    "\n",
    "# Training\n",
    "numIter = 300\n",
    "µ       = 0.35 #!< Step Size \\ Learning Rate\n",
    "\n",
    "# Visualization\n",
    "numImg = 3\n"
   ]
  },
  {
   "cell_type": "markdown",
   "metadata": {},
   "source": [
    "## Generate / Load Data\n",
    "\n",
    "This section loads the [MNIST Data set](https://en.wikipedia.org/wiki/MNIST_database) using [`fetch_openml()`](https://scikit-learn.org/stable/modules/generated/sklearn.datasets.fetch_openml.html).\n",
    "\n",
    "The data is splitted to 60,000 train samples and 10,000 test samples."
   ]
  },
  {
   "cell_type": "code",
   "execution_count": null,
   "metadata": {},
   "outputs": [],
   "source": [
    "# Load Data\n",
    "\n",
    "mX, vY = fetch_openml('mnist_784', version = 1, return_X_y = True, as_frame = False, parser = 'auto')\n",
    "vY = vY.astype(np.int_) #<! The labels are strings, convert to integer\n",
    "\n",
    "print(f'The features data shape: {mX.shape}')\n",
    "print(f'The labels data shape: {vY.shape}')\n",
    "print(f'The unique values of the labels: {np.unique(vY)}')\n"
   ]
  },
  {
   "cell_type": "code",
   "execution_count": null,
   "metadata": {},
   "outputs": [],
   "source": [
    "# Pre Process Data\n",
    "\n",
    "mX = mX / 255.0\n"
   ]
  },
  {
   "cell_type": "markdown",
   "metadata": {},
   "source": [
    "* <font color='red'>(**?**)</font> Does the scaling affects the training phase? Think about the _Learning Rate_."
   ]
  },
  {
   "cell_type": "markdown",
   "metadata": {},
   "source": [
    "### Plot the Data"
   ]
  },
  {
   "cell_type": "code",
   "execution_count": null,
   "metadata": {},
   "outputs": [],
   "source": [
    "# Plot the Data\n",
    "\n",
    "hF = PlotMnistImages(mX, vY, numImg)"
   ]
  },
  {
   "cell_type": "code",
   "execution_count": null,
   "metadata": {},
   "outputs": [],
   "source": [
    "# Histogram of Labels\n",
    "\n",
    "hA = PlotLabelsHistogram(vY)\n",
    "plt.show()"
   ]
  },
  {
   "cell_type": "markdown",
   "metadata": {},
   "source": [
    "### Train & Test Split\n",
    "\n",
    "The data is split into _Train_ and _Test_ data sets.  \n",
    "\n",
    "* <font color='brown'>(**#**)</font> Deep Learning is _big data_ oriented, hence it can easily handle all samples in a single _batch_."
   ]
  },
  {
   "cell_type": "code",
   "execution_count": null,
   "metadata": {},
   "outputs": [],
   "source": [
    "# Train Test Split\n",
    "\n",
    "numClass = len(np.unique(vY))\n",
    "mXTrain, mXTest, vYTrain, vYTest = train_test_split(mX, vY, test_size = numSamplesTest, train_size = numSamplesTrain, shuffle = True, stratify = vY)\n",
    "\n",
    "print(f'The training features data shape: {mXTrain.shape}')\n",
    "print(f'The training labels data shape: {vYTrain.shape}')\n",
    "print(f'The test features data shape: {mXTest.shape}')\n",
    "print(f'The test labels data shape: {vYTest.shape}')\n",
    "print(f'The unique values of the labels: {np.unique(vY)}')"
   ]
  },
  {
   "cell_type": "markdown",
   "metadata": {},
   "source": [
    "## Neural Network Building Blocks\n",
    "\n",
    "This section implements a class per NN building block.  \n",
    "Each class has 2 main methods:\n",
    "1. `Forward()` - Pushes the input forward on the computational graph.\n",
    "2. `Backward()` - Pushes the input gradient backward on the computational graph.  \n",
    "   The _backward_ step must calculate the gradient with respect to each parameter (With reduction over the batch) and per input.\n",
    "\n",
    "* <font color='brown'>(**#**)</font> In practice each block supports the calculation over a _batch_.\n",
    "* <font color='brown'>(**#**)</font> The implementation supports simple feed forward with no branching graph.\n",
    "* <font color='brown'>(**#**)</font> The convention for the NumPy implementation is data as $d \\times N$ where $d$ is the number of features and $N$ is the batch size."
   ]
  },
  {
   "cell_type": "markdown",
   "metadata": {},
   "source": [
    "The model to implement is given by\n",
    "\n",
    "![The Neural Network Computational Graph](https://i.imgur.com/SsZfWqz.png)\n",
    "\n",
    "The `CE` block stands for _SoftMax + Cross Entropy Loss_."
   ]
  },
  {
   "cell_type": "markdown",
   "metadata": {},
   "source": [
    "### Affine Layer\n",
    "\n",
    "#### Parameters\n",
    "\n",
    "$$ \\boldsymbol{W} \\in \\mathbb{R}^{ {d}_{out} \\times {d}_{in} }, \\; \\boldsymbol{b} \\in \\mathbb{R}^{{d}_{out}} $$\n",
    "\n",
    "#### Forward\n",
    "\n",
    "$$\\boldsymbol{z}=\\boldsymbol{W}\\boldsymbol{x}+\\boldsymbol{b}$$\n",
    "\n",
    "#### Backward\n",
    "\n",
    "$$\\boxed{\\nabla_{\\boldsymbol{b}}L=\\nabla_{\\boldsymbol{z}}L}$$\n",
    "  \n",
    "$$\\boxed{\\nabla_{\\boldsymbol{x}}L=\\boldsymbol{W}^{T}\\nabla_{\\boldsymbol{z}}L}$$\n",
    "\n",
    "$$\\boxed{\\nabla_{\\boldsymbol{W}}L=\\nabla_{\\boldsymbol{z}}L\\boldsymbol{x}^{T}}$$\n",
    "\n",
    "* <font color='brown'>(**#**)</font> The above _Linear Layer_ is often called _Dense Layer_ or _Fully Connected_."
   ]
  },
  {
   "cell_type": "code",
   "execution_count": null,
   "metadata": {},
   "outputs": [],
   "source": [
    "# Linear Layer\n",
    "\n",
    "class LinearLayer():\n",
    "    def __init__( self, dimIn: int, dimOut: int ) -> None:\n",
    "        \n",
    "        # Initialization\n",
    "        mW = np.random.randn(dimOut, dimIn) / dimIn\n",
    "        vB = np.zeros(dimOut)\n",
    "        \n",
    "        # Parameters\n",
    "        self.mX      = None #<! Required for the backward pass\n",
    "        self.dParams = {'mW': mW,   'vB': vB}\n",
    "        self.dGrads  = {'mW': None, 'vB': None}\n",
    "        \n",
    "    def Forward( self: Self, mX: np.ndarray ) -> np.ndarray:\n",
    "        self.mX = mX #<! Required for the backward pass\n",
    "        \n",
    "        mW      = self.dParams['mW'] #<! Shape: (dimOut, dimIn)\n",
    "        vB      = self.dParams['vB'] \n",
    "        mZ      = mW @ mX + vB[:, None]\n",
    "        \n",
    "        return mZ\n",
    "    \n",
    "    def Backward( self: Self, mDz: np.ndarray ) -> np.ndarray:\n",
    "        # Supports batch onf input by summing the gradients over each input.\n",
    "        # Summing instead of averaging to support the case the loss is scaled by N.\n",
    "        mW  = self.dParams['mW']\n",
    "        mX  = self.mX\n",
    "        \n",
    "        vDb = np.sum(mDz, axis = 1) #<! Explicit Sum\n",
    "        mDw = mDz @ mX.T #<! Implicit Sum\n",
    "        mDx = mW.T @ mDz #<! Each column on its own\n",
    "        \n",
    "        self.dGrads['vB'] = vDb\n",
    "        self.dGrads['mW'] = mDw\n",
    "                \n",
    "        return mDx"
   ]
  },
  {
   "cell_type": "markdown",
   "metadata": {},
   "source": [
    "* <font color='blue'>(**!**)</font> Fill the shapes of the arrays in the code (As comments).\n",
    "* <font color='red'>(**?**)</font> Why can't `self.mX` be initialized with a concrete dimensions at initialization? Think about batches."
   ]
  },
  {
   "cell_type": "markdown",
   "metadata": {},
   "source": [
    "### ReLU Layer\n",
    "\n",
    "#### Parameters\n",
    "\n",
    "None.\n",
    "\n",
    "#### Forward\n",
    "\n",
    "$$\\boldsymbol{z}=\\text{ReLU}\\left(\\boldsymbol{x}\\right)=\\max\\left\\{ \\boldsymbol{x},0\\right\\} $$\n",
    "\n",
    "#### Backward\n",
    "\n",
    "$$\\boxed{\\nabla_{\\boldsymbol{x}}L=\\text{Diag}\\left(\\mathbb{I}_{\\boldsymbol{x}>0}\\right)\\nabla_{\\boldsymbol{z}}L = \\mathbb{I}_{\\boldsymbol{x}>0} \\otimes \\nabla_{\\boldsymbol{z}}L}$$"
   ]
  },
  {
   "cell_type": "code",
   "execution_count": null,
   "metadata": {},
   "outputs": [],
   "source": [
    "# ReLU Layer\n",
    "\n",
    "class ReLULayer():\n",
    "    def __init__( self ) -> None:\n",
    "        \n",
    "        self.mX = None #<! Required for the backward pass\n",
    "        self.dGrads = {}\n",
    "    \n",
    "    def Forward( self: Self, mX: np.ndarray ) -> np.ndarray:\n",
    "        self.mX = mX                 #<! Store for Backward\n",
    "        mZ      = np.maximum(mX, 0)\n",
    "        \n",
    "        return mZ\n",
    "    \n",
    "    def Backward( self: Self, mDz: np.ndarray ) -> np.ndarray:\n",
    "        mX    = self.mX\n",
    "        # mMask = (mX > 0)\n",
    "        # mDx   = mDz * mMask\n",
    "\n",
    "        mDx = np.where(mX > 0.0, mDz, 0.0)\n",
    "                \n",
    "        return mDx"
   ]
  },
  {
   "cell_type": "markdown",
   "metadata": {},
   "source": [
    "* <font color='blue'>(**!**)</font> Fill the shapes of the arrays in the code (As comments)."
   ]
  },
  {
   "cell_type": "markdown",
   "metadata": {},
   "source": [
    "### Cross Entropy + SoftMax Loss Function\n",
    "\n",
    "Due to numerical and computational benefits the _SoftMax_ layer is merged with the Cross Entropy Loss.  \n",
    "This is done as the _SoftMax_ layer applies the $\\exp \\left( \\cdot \\right)$ function while _Cross Entropy_ applies $\\log \\left( \\cdot \\right)$.\n",
    "\n",
    "\n",
    "$$\\ell\\left(\\boldsymbol{y}_{i},\\hat{\\boldsymbol{y}}_{i}\\right)=-\\boldsymbol{y}_{i}^{T}\\log\\left(\\hat{\\boldsymbol{y}}_{i}\\right)$$\n",
    "where\n",
    "$$\\hat{\\boldsymbol{y}}=\\text{softmax}\\left(\\boldsymbol{z}\\right)=\\frac{\\exp\\left(\\boldsymbol{z}\\right)}{\\boldsymbol{1}^{T}\\exp\\left(\\boldsymbol{z}\\right)}$$\n",
    "\n",
    "Gradient:  \n",
    "$$\\boxed{\\nabla_{\\boldsymbol{z}}\\ell=\\hat{\\boldsymbol{y}}_{i}-\\boldsymbol{y}_{i}}$$\n",
    "\n",
    "Loss over a batch\n",
    "\n",
    "$$L=\\frac{1}{N}\\sum_{i=1}^{N}\\ell\\left(\\boldsymbol{y}_{i},\\hat{\\boldsymbol{y}}_{i}\\right)$$\n",
    "\n",
    "* <font color='brown'>(**#**)</font> Since the loss function is the end point of the graph which ends the forward pass and starts the backward pass, both can be calculated at once.\n",
    "* <font color='brown'>(**#**)</font> The above matches the [`CrossEntropyLoss` of PyTorch](https://pytorch.org/docs/stable/generated/torch.nn.CrossEntropyLoss.html).\n",
    "* <font color='red'>(**?**)</font> Assume the calculation was not merged. What if, due to finite numeric accuracy, the target index in the estimated probabilities after the _SoftMax_ is zeroed?  \n",
    "  You may read at [`BCELoss` in PyTorch](https://pytorch.org/docs/stable/generated/torch.nn.BCELoss.html).\n",
    "\n"
   ]
  },
  {
   "cell_type": "markdown",
   "metadata": {},
   "source": [
    "#### Gradient Derivation\n",
    "\n",
    "Since $\\hat{\\boldsymbol{y}} = S \\left( \\boldsymbol{z} \\right)$ where $S \\left( \\cdot \\right)$ is the _SoftMax_ function then:\n",
    "\n",
    "$$\\ell\\left(\\boldsymbol{y},\\hat{\\boldsymbol{y}}\\right)=-\\boldsymbol{y}^{T}\\log\\left(\\hat{\\boldsymbol{y}}\\right) = - \\log \\left(\\hat{y}_{c}\\right)$$\n",
    "\n",
    "Where $\\hat{y}_{c}$ is the estimated probability of the correct class.\n",
    "\n",
    "By the chain rule:\n",
    "\n",
    "$$ \\frac{\\partial \\ell}{\\partial \\boldsymbol{z}} = \\frac{\\partial \\ell}{\\partial \\hat{y}_{c}} \\frac{\\partial \\hat{y}_{c}}{\\partial \\boldsymbol{z}}$$\n",
    "\n",
    "By the derivative of the $\\log$: $\\frac{\\partial \\ell}{\\partial \\hat{y}_{c}} = \\frac{-1}{\\hat{y}_{c}}$\n",
    "\n",
    "Then for $\\frac{\\partial \\hat{y}_{c}}{\\partial {z}_{i}}$ one has to set for the case $i = c$:\n",
    "\n",
    "$$\n",
    "\\begin{align*}\n",
    "    \\frac{\\partial \\hat{y}_{c}}{\\partial {z}_{i}} &= \\frac{\\partial}{\\partial {z}_{i}} \\frac{e^{{z}_{c}}}{\\sum_{j}e^{{z}_{j}}} \\\\\n",
    "    &= \\frac{e^{{z}_{c}}\\sum_{j}e^{{z}_{j}} - e^{{z}_{c}}e^{{z}_{c}}}{(\\sum_{j}e^{{z}_{j}})^{2}} \\\\\n",
    "    &= \\frac{e^{{z}_{c}}}{\\sum_{j}e^{{z}_{j}}}\\frac{\\sum_{j}e^{{z}_{j}} - e^{{z}_{c}}}{\\sum_{j}e^{{z}_{j}}} \\\\\n",
    "    &= \\hat{y}_{c}(1 - \\hat{y}_{c})\n",
    "\\end{align*}\n",
    "$$\n",
    "\n",
    "The case = $i \\neq c$:\n",
    "\n",
    "$$\n",
    "\\begin{align*}\n",
    "    \\frac{\\partial \\hat{y}_{c}}{\\partial {z}_{i}} &= \\frac{\\partial}{\\partial {z}_{i}} \\frac{e^{{z}_{c}}}{\\sum_{j}e^{{z}_{j}}} \\\\\n",
    "    &= \\frac{-e^{{z}_{i}}e^{{z}_{c}}}{(\\sum_{j}e^{{z}_{j}})^{2}} \\\\\n",
    "    &= -\\hat{y}_{i} \\hat{y}_{c}\n",
    "\\end{align*}\n",
    "$$\n",
    "\n",
    "Which yields:\n",
    "\n",
    "$$\n",
    "\\begin{align*}\n",
    "    \\frac{\\partial \\ell}{\\partial \\mathbf{z}} &= \\frac{\\partial \\ell}{\\partial \\hat{y}_{c}}\\frac{\\partial \\hat{y}_{c}}{\\partial \\mathbf{z}} \\\\\n",
    "    &= \\frac{-1}{\\hat{y}_{c}}\n",
    "    \\begin{bmatrix} -\\hat{y}_{1}\\hat{y}_{c} & -\\hat{y}_{2}\\hat{y}_{c} & ... & \\hat{y}_{c}(1 - \\hat{y}_{c}) & ... & -\\hat{y}_{k}\\hat{y}_{c} \\end{bmatrix}^{T} \\\\\n",
    "    &= \\begin{bmatrix} \\hat{y}_{1} & \\hat{y}_{2} & ... & (\\hat{y}_{c} - 1) & ... & \\hat{y}_{k} \\end{bmatrix}^{T} \\\\\n",
    "    & = \\hat{\\boldsymbol{y}} - \\boldsymbol{y}\n",
    "\\end{align*}\n",
    "$$"
   ]
  },
  {
   "cell_type": "markdown",
   "metadata": {},
   "source": [
    "### Cross Entropy Loss vs. MSE for Probabilistic Predictions\n",
    "\n",
    "The Logistic Regression is based on the [Cross Entropy Loss](https://en.wikipedia.org/wiki/Cross-entropy) which measure similarity between distributions.  \n",
    "In the context of classification is measures the distance between 2 _discrete_ distributions.\n",
    "\n",
    "Consider the the true probabilities and 2 estimations of 6 categories data:\n",
    "\n",
    "$$ \\boldsymbol{y} = {\\left[ 0, 1, 0, 0, 0, 0 \\right]}^{T}, \\; \\hat{\\boldsymbol{y}}_{1} = {\\left[ 0.16, 0.2, 0.16, 0.16, 0.16, 0.16 \\right]}^{T}, \\; \\hat{\\boldsymbol{y}}_{2} = {\\left[ 0.5, 0.4, 0.1, 0.0, 0.0, 0.0 \\right]}^{T} $$\n",
    "\n",
    "One could use the [Mean Squared Error](https://en.wikipedia.org/wiki/Mean_squared_error) to measure the distance between the vectors (Called [Brier Score](https://en.wikipedia.org/wiki/Brier_score) in this context) as an alternative to the CE which will yield:\n",
    "\n",
    "$$ MSE \\left( \\boldsymbol{y}, \\hat{\\boldsymbol{y}}_{1} \\right) = 0.128, \\; MSE \\left( \\boldsymbol{y}, \\hat{\\boldsymbol{y}}_{2} \\right) = 0.103 $$\n",
    "\n",
    "Yet, in $\\hat{\\boldsymbol{y}}_{2}$ which has a lower error the most probable class is not the correct one while in $\\hat{\\boldsymbol{y}}_{1}$ it is.  \n",
    "The CE in contrast only \"cares\" about the error in the index of the _correct_ class and minimizes that.  \n",
    "Another advantage of the CE is being the [_Maximum Likelihood Estimator_](https://en.wikipedia.org/wiki/Maximum_likelihood_estimation) which ensures some useful properties.\n",
    "\n",
    "Yet there are some empirical advantages to the MSE loss in this context.  \n",
    "Some analysis is presented by [Evaluation of Neural Architectures Trained with Square Loss vs Cross Entropy in Classification Tasks](https://arxiv.org/abs/2006.07322).  \n",
    "Hence the MSE is a legitimate choice as well.\n",
    "\n",
    "See:\n",
    "\n",
    " * [Cross Entropy Loss vs. MSE for Multi Class Classification](https://stats.stackexchange.com/questions/573944).\n",
    " * [Disadvantages of Using a Regression Loss Function in Multi Class Classification](https://stats.stackexchange.com/questions/568238)."
   ]
  },
  {
   "cell_type": "code",
   "execution_count": null,
   "metadata": {},
   "outputs": [],
   "source": [
    "# Cross Entropy Loss\n",
    "\n",
    "def CrossEntropyLoss( vY: np.ndarray, mZ: np.ndarray ) -> Tuple[np.float_, np.ndarray]:\n",
    "    '''\n",
    "    Returns both the loss and the gradient w.r.t the input (mZ).\n",
    "    Assumes the input is logits (Before applying probability like transformation).\n",
    "    The function is equivalent of SoftMax + Cross Entropy.\n",
    "    The function uses the mean loss (Normalized by N). \n",
    "    Hence gradients calculation should sum the gradients over the batch.\n",
    "    '''\n",
    "    N      = len(vY)\n",
    "    # mHatY  = np.exp(mZ)\n",
    "    # mHatY /= np.sum(mHatY, axis = 0)\n",
    "    mYHat   = sp.special.softmax(mZ, axis = 0)\n",
    "    valLoss = -np.mean(np.log(mYHat[vY, range(N)]))\n",
    "    \n",
    "    mDz                = mYHat\n",
    "    mDz[vY, range(N)] -= 1 #<! Assumes vY is One Hot\n",
    "    mDz               /= N #<! Now all needed is to sum gradients\n",
    "    \n",
    "    return valLoss, mDz"
   ]
  },
  {
   "cell_type": "markdown",
   "metadata": {},
   "source": [
    "### Model Class\n",
    "\n",
    "The model class should be composable to allow arbitrary _Feed Forward_ model."
   ]
  },
  {
   "cell_type": "code",
   "execution_count": null,
   "metadata": {},
   "outputs": [],
   "source": [
    "# NN Model\n",
    "class ModelNN():\n",
    "    def __init__( self, lLayers: List ) -> None:\n",
    "        \n",
    "        self.lLayers = lLayers\n",
    "        \n",
    "    def Forward( self: Self, mX: np.ndarray ) -> np.ndarray:\n",
    "        \n",
    "        for oLayer in self.lLayers:\n",
    "            mX = oLayer.Forward(mX)\n",
    "        return mX\n",
    "    \n",
    "    def Backward( self: Self, mDz: np.ndarray ) -> None:\n",
    "        \n",
    "        for oLayer in reversed(self.lLayers):\n",
    "            mDz = oLayer.Backward(mDz)"
   ]
  },
  {
   "cell_type": "code",
   "execution_count": null,
   "metadata": {},
   "outputs": [],
   "source": [
    "# Model Example\n",
    "\n",
    "oModel = ModelNN([\n",
    "    LinearLayer(784, 200), ReLULayer(),\n",
    "    LinearLayer(200, 10),\n",
    "    ])\n",
    "\n",
    "oModel.lLayers"
   ]
  },
  {
   "cell_type": "markdown",
   "metadata": {},
   "source": [
    "## Model Training\n",
    "\n",
    "The model training (Optimization) is by a vanilla _Gradient Descent_.  \n",
    "Since the model is small and the data si relatively small, the batch size is the whole training set.\n",
    "\n",
    "* <font color='brown'>(**#**)</font> Larger model / data set might require using _Stochastic Gradient Descent_.  \n",
    "  In this case the actual gradient of the loss function over the whole data is _approximated_ by the gradient calculated over a sub sample (Batch)."
   ]
  },
  {
   "cell_type": "markdown",
   "metadata": {},
   "source": [
    "### Training Function"
   ]
  },
  {
   "cell_type": "code",
   "execution_count": null,
   "metadata": {},
   "outputs": [],
   "source": [
    "def TrainModel( oModel: ModelNN, mX: np.ndarray, vY: np.ndarray, numIter: int, learningRate: float ) -> None:\n",
    "    \n",
    "    # Display Results\n",
    "    hF, hA = plt.subplots(figsize = (12, 6))\n",
    "\n",
    "    vLoss = np.full(numIter, np.nan)\n",
    "    for ii in range(numIter):\n",
    "        # Forward Pass\n",
    "        mZ        = oModel.Forward(mX)\n",
    "        # Loss\n",
    "        valLoss, mDz = CrossEntropyLoss(vY, mZ)\n",
    "        vLoss[ii]    = valLoss\n",
    "\n",
    "        # Backward Pass\n",
    "        oModel.Backward(mDz)\n",
    "\n",
    "        # Gradient Descent (Update parameters)\n",
    "        for oLayer in oModel.lLayers:\n",
    "            for sParam in oLayer.dGrads:\n",
    "                oLayer.dParams[sParam] -= learningRate * oLayer.dGrads[sParam]\n",
    "\n",
    "        # Display Results\n",
    "        hA.cla()\n",
    "        hA.set_title(f'Iteration: {(ii + 1): 04d} / {numIter}, Loss = {valLoss: 0.2f}')\n",
    "        hA.plot(vLoss, 'b', marker = '.', ms = 5)\n",
    "        hA.set_xlabel('Iteration Index')\n",
    "        hA.set_ylabel('Loss Value')\n",
    "        hA.grid()\n",
    "\n",
    "        plt.pause(1e-20)\n",
    "        display(hF, clear = True) #<! \"In Place\""
   ]
  },
  {
   "cell_type": "markdown",
   "metadata": {},
   "source": [
    "## Model Performance\n",
    "\n",
    "This section analyzes the model performance on the train and test data."
   ]
  },
  {
   "cell_type": "markdown",
   "metadata": {},
   "source": [
    "### 1 Hidden Layers Model"
   ]
  },
  {
   "cell_type": "code",
   "execution_count": null,
   "metadata": {},
   "outputs": [],
   "source": [
    "# Define the Model\n",
    "\n",
    "oModel = ModelNN([\n",
    "    LinearLayer(784, 200), ReLULayer(),\n",
    "    LinearLayer(200, 10),\n",
    "])\n",
    "\n",
    "TrainModel(oModel, mXTrain.T, vYTrain, numIter, µ) #<! Works in place on the model"
   ]
  },
  {
   "cell_type": "markdown",
   "metadata": {},
   "source": [
    "* <font color='brown'>(**#**)</font> Mathematically, the model is equivalent to the one in the previous notebook.  \n",
    "  Namely, given the same data, number of iterations and learning rate the result will be the same.\n",
    "* <font color='red'>(**?**)</font> Which one is more efficient computationally? Explain."
   ]
  },
  {
   "cell_type": "code",
   "execution_count": null,
   "metadata": {},
   "outputs": [],
   "source": [
    "# Apply Model on Data\n",
    "\n",
    "mYHatTrain = oModel.Forward(mXTrain.T)\n",
    "mYHatTest  = oModel.Forward(mXTest.T)\n",
    "vYHatTrain = np.argmax(mYHatTrain, axis = 0)\n",
    "vYHatTest  = np.argmax(mYHatTest, axis = 0)"
   ]
  },
  {
   "cell_type": "markdown",
   "metadata": {},
   "source": [
    "* <font color='green'>(**@**)</font> Make the model work with `oModel(mXTrain.T)`. You may want to read about the `__call__()` method."
   ]
  },
  {
   "cell_type": "code",
   "execution_count": null,
   "metadata": {},
   "outputs": [],
   "source": [
    "# Confusion Matrix\n",
    "\n",
    "hF, vHa = plt.subplots(nrows = 1, ncols = 2, figsize = (14, 6))\n",
    "\n",
    "hA, _ = PlotConfusionMatrix(vYTrain, vYHatTrain, hA = vHa[0])\n",
    "hA.set_title(f'Train Data, Accuracy {np.mean(vYTrain == vYHatTrain): 0.2%}')\n",
    "\n",
    "hA, _ = PlotConfusionMatrix(vYTest, vYHatTest, hA = vHa[1])\n",
    "hA.set_title(f'Test Data, Accuracy {np.mean(vYTest == vYHatTest): 0.2%}')"
   ]
  },
  {
   "cell_type": "markdown",
   "metadata": {},
   "source": [
    "### 2 Hidden Layers Model"
   ]
  },
  {
   "cell_type": "code",
   "execution_count": null,
   "metadata": {},
   "outputs": [],
   "source": [
    "# Define the Model\n",
    "\n",
    "oModel = ModelNN([\n",
    "    LinearLayer(784, 200), ReLULayer(),\n",
    "    LinearLayer(200, 50), ReLULayer(),\n",
    "    LinearLayer(50, 10),\n",
    "])\n",
    "\n",
    "TrainModel(oModel, mXTrain.T, vYTrain, 2 * numIter, 1.5 * µ) #<! Works in place on the model"
   ]
  },
  {
   "cell_type": "markdown",
   "metadata": {},
   "source": [
    "* <font color='red'>(**?**)</font> How, policy wise, should the capricious behavior of the loss be handled?  \n",
    "  Think that one can not know in advance when the sudden jump will happen."
   ]
  },
  {
   "cell_type": "code",
   "execution_count": null,
   "metadata": {},
   "outputs": [],
   "source": [
    "# Apply Model on Data\n",
    "\n",
    "mYHatTrain = oModel.Forward(mXTrain.T)\n",
    "mYHatTest  = oModel.Forward(mXTest.T)\n",
    "vYHatTrain = np.argmax(mYHatTrain, axis = 0)\n",
    "vYHatTest  = np.argmax(mYHatTest, axis = 0)"
   ]
  },
  {
   "cell_type": "code",
   "execution_count": null,
   "metadata": {},
   "outputs": [],
   "source": [
    "# Confusion Matrix\n",
    "\n",
    "hF, vHa = plt.subplots(nrows = 1, ncols = 2, figsize = (14, 6))\n",
    "\n",
    "hA, _ = PlotConfusionMatrix(vYTrain, vYHatTrain, hA = vHa[0])\n",
    "hA.set_title(f'Train Data, Accuracy {np.mean(vYTrain == vYHatTrain): 0.2%}')\n",
    "\n",
    "hA, _ = PlotConfusionMatrix(vYTest, vYHatTest, hA = vHa[1])\n",
    "hA.set_title(f'Test Data, Accuracy {np.mean(vYTest == vYHatTest): 0.2%}')"
   ]
  },
  {
   "cell_type": "markdown",
   "metadata": {},
   "source": [
    "* <font color='brown'>(**#**)</font> The run time of this simple case is the motivation for using GPU's and the difference they made.\n",
    "* <font color='green'>(**@**)</font> You may try to replicate the above on GPU using [_CuPy_](https://github.com/cupy/cupy). Make sure to use `Float32`."
   ]
  }
 ],
 "metadata": {
  "kernelspec": {
   "display_name": "Python 3",
   "language": "python",
   "name": "python3"
  },
  "language_info": {
   "codemirror_mode": {
    "name": "ipython",
    "version": 3
   },
   "file_extension": ".py",
   "mimetype": "text/x-python",
   "name": "python",
   "nbconvert_exporter": "python",
   "pygments_lexer": "ipython3",
   "version": "3.11.9"
  },
  "toc": {
   "base_numbering": 1,
   "nav_menu": {},
   "number_sections": false,
   "sideBar": true,
   "skip_h1_title": false,
   "title_cell": "Table of Contents",
   "title_sidebar": "Contents",
   "toc_cell": false,
   "toc_position": {},
   "toc_section_display": true,
   "toc_window_display": true
  },
  "varInspector": {
   "cols": {
    "lenName": 16,
    "lenType": 16,
    "lenVar": 40
   },
   "kernels_config": {
    "python": {
     "delete_cmd_postfix": "",
     "delete_cmd_prefix": "del ",
     "library": "var_list.py",
     "varRefreshCmd": "print(var_dic_list())"
    },
    "r": {
     "delete_cmd_postfix": ") ",
     "delete_cmd_prefix": "rm(",
     "library": "var_list.r",
     "varRefreshCmd": "cat(var_dic_list()) "
    }
   },
   "types_to_exclude": [
    "module",
    "function",
    "builtin_function_or_method",
    "instance",
    "_Feature"
   ],
   "window_display": false
  },
  "vscode": {
   "interpreter": {
    "hash": "39577bab1f263e62e0b74f5b8086bd735049bf4751f6562b2d4b2969dc308293"
   }
  }
 },
 "nbformat": 4,
 "nbformat_minor": 4
}
