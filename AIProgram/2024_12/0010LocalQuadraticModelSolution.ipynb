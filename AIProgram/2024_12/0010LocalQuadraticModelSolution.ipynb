{
 "cells": [
  {
   "attachments": {},
   "cell_type": "markdown",
   "metadata": {},
   "source": [
    "[![Fixel Algorithms](https://i.imgur.com/AqKHVZ0.png)](https://fixelalgorithms.gitlab.io/)\n",
    "\n",
    "# AI Program\n",
    "\n",
    "## Convex Smooth Optimization - Local Quadratic Model \n",
    "\n",
    "> Notebook by:\n",
    "> - Royi Avital RoyiAvital@fixelalgorithms.com\n",
    "\n",
    "## Revision History\n",
    "\n",
    "| Version | Date       | User        |Content / Changes                                                   |\n",
    "|---------|------------|-------------|--------------------------------------------------------------------|\n",
    "| 1.0.000 | 09/02/2024 | Royi Avital | First version                                                      |"
   ]
  },
  {
   "attachments": {},
   "cell_type": "markdown",
   "metadata": {},
   "source": [
    "[![Open In Colab](https://colab.research.google.com/assets/colab-badge.svg)](https://colab.research.google.com/github/FixelAlgorithmsTeam/FixelCourses/blob/master/AIProgram/2024_02/0010LocalQuadraticModel.ipynb)"
   ]
  },
  {
   "cell_type": "code",
   "execution_count": null,
   "metadata": {
    "ExecuteTime": {
     "end_time": "2022-02-02T09:30:06.492269Z",
     "start_time": "2022-02-02T09:30:06.220934Z"
    }
   },
   "outputs": [],
   "source": [
    "# Import Packages\n",
    "\n",
    "# General Tools\n",
    "import numpy as np\n",
    "import scipy as sp\n",
    "import pandas as pd\n",
    "\n",
    "# Machine Learning\n",
    "\n",
    "# Miscellaneous\n",
    "import os\n",
    "import math\n",
    "from platform import python_version\n",
    "import random\n",
    "\n",
    "# Typing\n",
    "from typing import Callable, List, Tuple, Union\n",
    "\n",
    "# Visualization\n",
    "from matplotlib.colors import LogNorm, Normalize, PowerNorm\n",
    "import matplotlib.pyplot as plt\n",
    "import plotly.express as px\n",
    "import plotly.graph_objects as go\n",
    "import seaborn as sns\n",
    "\n",
    "# Jupyter\n",
    "from IPython import get_ipython\n",
    "from IPython.display import Markdown, display\n",
    "from ipywidgets import Dropdown, FloatSlider, interact, IntSlider, Layout"
   ]
  },
  {
   "attachments": {},
   "cell_type": "markdown",
   "metadata": {},
   "source": [
    "## Notations\n",
    "\n",
    "* <font color='red'>(**?**)</font> Question to answer interactively.\n",
    "* <font color='blue'>(**!**)</font> Simple task to add code for the notebook.\n",
    "* <font color='green'>(**@**)</font> Optional / Extra self practice.\n",
    "* <font color='brown'>(**#**)</font> Note / Useful resource / Food for thought.\n",
    "\n",
    "Code Notations:\n",
    "\n",
    "```python\n",
    "someVar    = 2; #<! Notation for a variable\n",
    "vVector    = np.random.rand(4) #<! Notation for 1D array\n",
    "mMatrix    = np.random.rand(4, 3) #<! Notation for 2D array\n",
    "tTensor    = np.random.rand(4, 3, 2, 3) #<! Notation for nD array (Tensor)\n",
    "tuTuple    = (1, 2, 3) #<! Notation for a tuple\n",
    "lList      = [1, 2, 3] #<! Notation for a list\n",
    "dDict      = {1: 3, 2: 2, 3: 1} #<! Notation for a dictionary\n",
    "oObj       = MyClass() #<! Notation for an object\n",
    "dfData     = pd.DataFrame() #<! Notation for a data frame\n",
    "dsData     = pd.Series() #<! Notation for a series\n",
    "hObj       = plt.Axes() #<! Notation for an object / handler / function handler\n",
    "```\n",
    "\n",
    "### Code Exercise\n",
    "\n",
    " - Single line fill\n",
    "\n",
    " ```python\n",
    " vallToFill = ???\n",
    " ```\n",
    "\n",
    " - Multi Line to Fill (At least one)\n",
    "\n",
    " ```python\n",
    " # You need to start writing\n",
    " ????\n",
    " ```\n",
    "\n",
    " - Section to Fill\n",
    "\n",
    "```python\n",
    "#===========================Fill This===========================#\n",
    "# 1. Explanation about what to do.\n",
    "# !! Remarks to follow / take under consideration.\n",
    "mX = ???\n",
    "\n",
    "???\n",
    "#===============================================================#\n",
    "```"
   ]
  },
  {
   "cell_type": "markdown",
   "metadata": {},
   "source": [
    "## MathJaX Macros\n",
    "\n",
    "Adding _quality of life_ macros.\n",
    "\n",
    "$$\n",
    "\\newcommand{\\MyParen}[1]{\\left( #1 \\right)}\n",
    "\\newcommand{\\MyBrack}[1]{\\left\\lbrack #1 \\right\\rbrack}\n",
    "\\newcommand{\\MyBrace}[1]{\\left\\lbrace #1 \\right\\rbrace}\n",
    "\\newcommand{\\MyMat}[1]{\\begin{bmatrix} #1 \\end{bmatrix}}\n",
    "\\newcommand{\\MyNorm}[2]{{\\left\\| #1 \\right\\|}_{#2}}\n",
    "\\newcommand{\\MyAbs}[1]{\\left| #1 \\right|}\n",
    "\\newcommand{\\MyNormTwo}[1]{\\MyNorm{#1}{2}}\n",
    "\\newcommand{\\MyCeil}[1]{\\lceil #1 \\rceil}\n",
    "\\newcommand{\\MyInProd}[2]{\\langle #1, #2 \\rangle}\n",
    "\\newcommand{\\MyUndBrace}[2]{\\underset{#2}{\\underbrace{#1}}}\n",
    "\\newcommand{\\RR}[1]{\\mathbb{R}^{#1}}\n",
    "\\newcommand{\\InR}[1]{\\in \\mathbb{R}^{#1}}\n",
    "\\newcommand{\\InC}[1]{\\in \\mathbb{C}^{#1}}\n",
    "\\newcommand{\\BS}[1]{\\boldsymbol{#1}}\n",
    "\\newcommand{\\MyClr}[2]{{\\color{#1}{#2}}}\n",
    "\\newcommand{\\MyQuad}[2]{ {#1}^{T} #2 #1 }\n",
    "$$"
   ]
  },
  {
   "cell_type": "code",
   "execution_count": null,
   "metadata": {},
   "outputs": [],
   "source": [
    "# Configuration\n",
    "%matplotlib inline\n",
    "\n",
    "# warnings.filterwarnings(\"ignore\")\n",
    "\n",
    "seedNum = 512\n",
    "np.random.seed(seedNum)\n",
    "random.seed(seedNum)\n",
    "\n",
    "# sns.set_theme() #>! Apply SeaBorn theme\n",
    "# sns.set_palette(\"tab10\")\n",
    "\n",
    "runInGoogleColab = 'google.colab' in str(get_ipython())"
   ]
  },
  {
   "cell_type": "code",
   "execution_count": null,
   "metadata": {},
   "outputs": [],
   "source": [
    "# Constants\n",
    "\n",
    "FIG_SIZE_DEF    = (8, 8)\n",
    "ELM_SIZE_DEF    = 50\n",
    "CLASS_COLOR     = ('b', 'r')\n",
    "EDGE_COLOR      = 'k'\n",
    "MARKER_SIZE_DEF = 10\n",
    "LINE_WIDTH_DEF  = 2\n"
   ]
  },
  {
   "cell_type": "code",
   "execution_count": null,
   "metadata": {},
   "outputs": [],
   "source": [
    "# Course Packages\n"
   ]
  },
  {
   "cell_type": "code",
   "execution_count": null,
   "metadata": {},
   "outputs": [],
   "source": [
    "# Auxiliary Functions"
   ]
  },
  {
   "cell_type": "code",
   "execution_count": null,
   "metadata": {},
   "outputs": [],
   "source": [
    "# Parameters\n",
    "\n",
    "gradRadius = 4\n",
    "numGridPts = (2 * gradRadius) + 1\n",
    "\n",
    "μ = -0.2\n",
    "σ = 1.5"
   ]
  },
  {
   "cell_type": "markdown",
   "metadata": {},
   "source": [
    "* <font color='red'>(**?**)</font> For multivariate (2D) Gaussian, $\\mu$ should be a vector and $\\sigma$ should be a matrix. Yet above they are scalars. Explain."
   ]
  },
  {
   "attachments": {},
   "cell_type": "markdown",
   "metadata": {},
   "source": [
    "## Local Quadratic Model\n",
    "\n",
    "Local quadratic models are useful in many cases to model set of samples.  \n",
    "One motivation could be that near local extrema many functions look like a quadratic model.\n",
    "\n",
    "A _Quadratic Model_ in $\\mathbb{R}^{n}$ is given by:\n",
    "\n",
    "$$ f \\left( \\boldsymbol{x} \\right) = \\boldsymbol{x}^{T} \\boldsymbol{A} \\boldsymbol{x} + \\boldsymbol{b}^{T} \\boldsymbol{x} + c $$\n",
    "\n",
    "Where the model parameters are the elements of the **matrix** $\\boldsymbol{A}$, the **vector** $\\boldsymbol{b}$ and the **scalar** $c$.\n",
    "\n",
    "This notebook demonstrates how to estimate the parameters of a quadratic model given a set of samples.  \n",
    "Specially, a 2D model will be used.\n",
    "\n",
    "The objective is to estimate the peak location and value of the sampled data.  \n",
    "The steps are:\n",
    "\n",
    "1. Estimate the parameters of the polynomial model.\n",
    "2. Extract the maximum values and the corresponding argument of the 2nd order model.\n",
    "3. Compare the model results to the actual model.\n",
    "\n",
    "\n",
    "* <font color='red'>(**?**)</font> How many parameters do a 2D _Quadratic Model_ have? Think about the properties of $\\BS{A}$."
   ]
  },
  {
   "cell_type": "markdown",
   "metadata": {},
   "source": [
    "## Generate Data\n",
    "\n",
    "The data will be sampled from a 2D Gaussian function."
   ]
  },
  {
   "cell_type": "code",
   "execution_count": null,
   "metadata": {},
   "outputs": [],
   "source": [
    "# Generate / Load the Data\n",
    "vX = np.linspace(-gradRadius, gradRadius, numGridPts) #<! Grid of the Gaussian Function\n",
    "vY = np.exp(-0.5 * np.square((vX - μ) / σ))\n",
    "mY = np.outer(vY, vY) #<! 2D Gaussian\n"
   ]
  },
  {
   "cell_type": "code",
   "execution_count": null,
   "metadata": {},
   "outputs": [],
   "source": [
    "# Display the Data\n",
    "\n",
    "hF = go.Figure()\n",
    "hF.add_trace(go.Surface(x = vX, y = vX, z = mY, name = 'Gaussian'))\n",
    "hF.add_trace(go.Scatter3d(x = np.repeat(vX, numGridPts), y = np.tile(vX, numGridPts), z = mY.flat, mode = 'markers', name = 'Samples'))\n",
    "hF.update_layout(title = 'Data Samples', scene = dict(xaxis_title = r'x_1', yaxis_title = r'x_2', zaxis_title = ''),\n",
    "                 autosize = False, width = 600, height = 500, margin = dict(l = 45, r = 45, b = 45, t = 45)) #<! No LaTeX support in 3D plots\n"
   ]
  },
  {
   "cell_type": "markdown",
   "metadata": {},
   "source": [
    "## Build the Linear Model\n",
    "\n",
    "Given a set of $\\left\\{ \\left( \\boldsymbol{x}_{i}, {y}_{i} \\right) \\right\\}_{i = 1}^{N}$ the model is given by:\n",
    "\n",
    "$$ {y}_{i} = \\boldsymbol{x}_{i}^{T} \\boldsymbol{A} \\boldsymbol{x}_{i} + \\boldsymbol{b}^{T} \\boldsymbol{x}_{i} + c $$\n",
    "\n",
    "Which could be solved using _Linear Least Squares_ as:\n",
    "\n",
    "$$ \\arg \\min_{\\BS{A}, \\BS{b}, c} \\sum_{i = 1}^{N} \\MyParen{ {y}_{i} - \\boldsymbol{x}_{i}^{T} \\boldsymbol{A} \\boldsymbol{x}_{i} - \\boldsymbol{b}^{T} \\boldsymbol{x}_{i} - c }^{2} $$\n",
    "\n",
    "Yet, there is a more efficient way to build this.  \n",
    "A 2nd order model has basically the following form: ${y}_{i} = p {x}_{1}^{2} + q {x}_{2}^{2} + 2 r {x}_{1} {x}_{2} + s {x}_{1} + {t} {x}_{2} + u$.  \n",
    "Which can be solved in a classic linear form:\n",
    "\n",
    "$$ \\BS{y} = \\BS{H} \\BS{w} $$\n",
    "\n",
    "Where $\\BS{w} = \\MyBrack{ u, t, s, r, q, p }^{T}$ (Or any other permutation).\n",
    "\n",
    "* <font color='brown'>(**#**)</font> If a model is **linear**, it can be always be written in the form $\\BS{y} = \\BS{H} \\BS{w}$ for some $\\BS{H}$ and $\\BS{w}$.\n",
    "\n"
   ]
  },
  {
   "cell_type": "markdown",
   "metadata": {},
   "source": [
    "### Question 001\n",
    "\n",
    "1. Find the connection between the parameters $u, t, s, r, q, p$ to the elements of $\\BS{A}, \\BS{b}, c$.\n",
    "2. Derive the matrix $\\BS{H}$.  \n",
    "   The matrix is a combination of the set of $\\MyBrace{ \\BS{x}_{i} }_{i = 1}^{N}$.\n",
    "3. Implement in code a function to build $\\BS{H}$."
   ]
  },
  {
   "cell_type": "markdown",
   "metadata": {},
   "source": [
    "### Solution 001\n",
    "\n",
    "#### The Mapping\n",
    "\n",
    "The matrix $\\BS{A}$ must be symmetric, hence:\n",
    "\n",
    "$$ \\BS{A} = \\begin{bmatrix} {a}_{11} & {a}_{12} \\\\ {a}_{12} & {a}_{22} \\end{bmatrix} $$\n",
    "\n",
    "For $\\BS{x} = \\MyBrack{ {x}_{1}, {x}_{2} }^{T}$ the result:\n",
    "\n",
    "$$ \\begin{bmatrix} {x}_{1} & {x}_{2} \\end{bmatrix} \\begin{bmatrix} {a}_{11} & {a}_{12} \\\\ {a}_{12} & {a}_{22} \\end{bmatrix} \\begin{bmatrix} {x}_{1} \\\\ {x}_{2} \\end{bmatrix} = {a}_{11} {x}_{1}^{2} + 2 {a}_{12} {x}_{1} {x}_{2} + {a}_{22} {x}_{2}^{2} $$\n",
    "\n",
    "For the vector $\\BS{b} = \\MyBrack{ {b}_{1}, {b}_{2} }^{T}$ the result:\n",
    "\n",
    "$$ \\BS{b}^{T} \\BS{x} = {b}_{1} {x}_{1} + {b}_{2} {x}_{2} $$\n",
    "\n",
    "Hence the mapping is:\n",
    "\n",
    "$$ u = c, t = {b}_{2}, s = {b}_{1}, r = {a}_{12}, q = {a}_{22}, p = {a}_{11} $$\n",
    "\n",
    "#### The Matrix $\\BS{H}$\n",
    "\n",
    "If $\\BS{w} = \\MyBrack{ u, t, s, r, q, p }^{T}$ then the columns of $\\BS{H}$ should match the elements of $\\BS{x}_{i}$:\n",
    "\n",
    "$$ \\BS{H} = \\begin{bmatrix} 1 & \\BS{x}_{1} \\MyBrack{2} & \\BS{x}_{1} \\MyBrack{1} & 2 \\BS{x}_{1} \\MyBrack{1} \\BS{x}_{1} \\MyBrack{2} & \\BS{x}_{1} \\MyBrack{2}^{2} & \\BS{x}_{1} \\MyBrack{1}^{2} \\\\ 1 & \\BS{x}_{2} \\MyBrack{2} & \\BS{x}_{2} \\MyBrack{1} & 2 \\BS{x}_{2} \\MyBrack{1} \\BS{x}_{2} \\MyBrack{2} & \\BS{x}_{2} \\MyBrack{2}^{2} & \\BS{x}_{2} \\MyBrack{1}^{2} \\\\ \\vdots & \\vdots & \\vdots & \\vdots & \\vdots & \\vdots \\\\ 1 & \\BS{x}_{N} \\MyBrack{2} & \\BS{x}_{N} \\MyBrack{1} & 2 \\BS{x}_{N} \\MyBrack{1} \\BS{x}_{N} \\MyBrack{2} & \\BS{x}_{N} \\MyBrack{2}^{2} & \\BS{x}_{N} \\MyBrack{1}^{2} \\end{bmatrix} $$\n",
    "\n",
    "---\n"
   ]
  },
  {
   "cell_type": "code",
   "execution_count": null,
   "metadata": {},
   "outputs": [],
   "source": [
    "# The Linear Model Matrix H\n",
    "\n",
    "#===========================Fill This===========================#\n",
    "# 1. Implement the function to build H.\n",
    "# !! You may find `np.column_stack()` useful.\n",
    "\n",
    "def BuildMatH( vX1: np.ndarray, vX2: np.ndarray ) -> np.ndarray:\n",
    "    \"\"\"\n",
    "    Build the linear model matrix for 2nd degree polynomial in 2D.\n",
    "    Input:\n",
    "      vX1         - The set of the 1st coordinates, Vector (numPts, 1).\n",
    "      vX2         - The set of the 2nd coordinates, Vector (numPts, 1).\n",
    "    Output:\n",
    "      mH          - The model matrix.\n",
    "    \"\"\"\n",
    "\n",
    "    numPts  = np.size(vX1) #<! Number of points\n",
    "    mH      = np.column_stack((np.ones(numPts), vX2, vX1, 2 * vX1 * vX2, np.square(vX2), np.square(vX1)))\n",
    "\n",
    "    return mH\n",
    "\n",
    "#===============================================================#"
   ]
  },
  {
   "cell_type": "markdown",
   "metadata": {},
   "source": [
    "## Solve the Linear Model\n",
    "\n",
    "The linear model is given by $\\BS{y} = \\BS{H} \\BS{w}$, to estimate $\\BS{w}$ the model should be solved.  \n",
    "In reality, equality is not always achievable (Noise, Model accuracy, etc...) hence the problem is solved in the _Leas Squares_ meaning:\n",
    "\n",
    "$$ \\arg \\min_{\\BS{w}} \\frac{1}{2} \\MyNormTwo{ \\BS{H} \\BS{w} - \\BS{y} }^{2} $$\n",
    "\n",
    "To solve such cases the function [`np.linalg.lstsq()`](https://numpy.org/doc/stable/reference/generated/numpy.linalg.lstsq.html) is used."
   ]
  },
  {
   "cell_type": "code",
   "execution_count": null,
   "metadata": {},
   "outputs": [],
   "source": [
    "# Estimate the Model Parameters\n",
    "# Using a LS solver to estimate vW\n",
    "\n",
    "# Since `mY.flat` is row major:\n",
    "# 1. x1 changes for ech point, repeats each numGridPts.\n",
    "# 2. x2 changes each numGridPts, constant in between.\n",
    "vX1 = np.tile(vX, numGridPts) #<! Replicate the vector\n",
    "vX2 = np.repeat(vX, numGridPts) #<! Replicates the items\n",
    "mH  = BuildMatH(vX1, vX2)\n",
    "\n",
    "# vW, _, _, _ = np.linalg.lstsq(mH, mY.flat, rcond = None) #<! _ is \"don't care\"\n",
    "vW, *_ = np.linalg.lstsq(mH, mY.flat, rcond = None) #<! See https://stackoverflow.com/questions/431866"
   ]
  },
  {
   "cell_type": "code",
   "execution_count": null,
   "metadata": {},
   "outputs": [],
   "source": [
    "# Build the Quadratic Model\n",
    "\n",
    "#===========================Fill This===========================#\n",
    "# 1. Calculate `mA`, `vB` and `valC` from `vW`.\n",
    "\n",
    "mA      = np.array([[vW[5], vW[3]], [vW[3], vW[4]]])\n",
    "vB      = np.array([vW[2], vW[1]])\n",
    "valC    = vW[0]\n",
    "\n",
    "#===============================================================#"
   ]
  },
  {
   "cell_type": "code",
   "execution_count": null,
   "metadata": {},
   "outputs": [],
   "source": [
    "# Estimate the Model Values\n",
    "mX = np.column_stack((vX1, vX2))\n",
    "\n",
    "# vYEst = mH * vW #<! The linear model\n",
    "vYEst = np.array([mX[ii, :] @ mA @ mX[ii, :].T + np.dot(mX[ii, :], vB) + valC for ii in range(numGridPts * numGridPts)])\n",
    "# vYEst = np.diag(mX @ mA @ mX.T) + mX @ vB + valC"
   ]
  },
  {
   "cell_type": "markdown",
   "metadata": {},
   "source": [
    "* <font color='red'>(**?**)</font> How can `vY` be evaluated using `mA`, `vB` and `valC` without any loops? Is it efficient?\n",
    "* <font color='blue'>(**!**)</font> Implement the vectorized method. "
   ]
  },
  {
   "cell_type": "code",
   "execution_count": null,
   "metadata": {},
   "outputs": [],
   "source": [
    "# Estimate `arg max` and Maximum Value\n",
    "\n",
    "vXMax = -np.linalg.solve(mA, vB)\n",
    "valYMax = vXMax.T @ mA @ vXMax + np.dot(vXMax, vB) + valC\n",
    "\n",
    "print(f'The quadratic model peak location is: {vXMax}')"
   ]
  },
  {
   "cell_type": "code",
   "execution_count": null,
   "metadata": {},
   "outputs": [],
   "source": [
    "# Display Data\n",
    "\n",
    "hF = go.Figure()\n",
    "hF.add_trace(go.Surface(x = vX, y = vX, z = mY, opacity = 0.35, showscale = False, name = 'Gaussian'))\n",
    "# hF.add_trace(go.Surface(x = vX, y = vX, z = np.reshape(vYEst, (numGridPts, numGridPts)), name = 'Gaussian'))\n",
    "hF.add_trace(go.Scatter3d(x = np.repeat(vX, numGridPts), y = np.tile(vX, numGridPts), z = mY.flat, mode = 'markers', name = 'Samples'))\n",
    "hF.add_trace(go.Scatter3d(x = np.repeat(vX, numGridPts), y = np.tile(vX, numGridPts), z = vYEst, mode = 'markers', name = 'Quadratic Model'))\n",
    "hF.add_trace(go.Scatter3d(x = [vXMax[0]], y = [vXMax[1]], z = [valYMax], mode = 'markers', name = 'Quadratic Model Peak'))\n",
    "hF.update_layout(title = 'Data Samples', scene = dict(xaxis_title = r'x_1', yaxis_title = r'x_2', zaxis_title = ''),\n",
    "                 autosize = False, width = 900, height = 600, margin = dict(l = 10, r = 10, b = 10, t = 40),\n",
    "                 coloraxis_showscale = False) #<! No LaTeX support in 3D plots"
   ]
  },
  {
   "cell_type": "markdown",
   "metadata": {},
   "source": [
    "* <font color='red'>(**?**)</font> Did the model estimate the peak well? Explain.\n",
    "* <font color='red'>(**?**)</font> How can it be improved? Think about the number of points and the choice.\n",
    "* <font color='green'>(**@**)</font> Implement the idea and verify improves results.\n"
   ]
  }
 ],
 "metadata": {
  "kernelspec": {
   "display_name": "Python 3",
   "language": "python",
   "name": "python3"
  },
  "language_info": {
   "codemirror_mode": {
    "name": "ipython",
    "version": 3
   },
   "file_extension": ".py",
   "mimetype": "text/x-python",
   "name": "python",
   "nbconvert_exporter": "python",
   "pygments_lexer": "ipython3",
   "version": "3.11.9"
  },
  "toc": {
   "base_numbering": 1,
   "nav_menu": {},
   "number_sections": false,
   "sideBar": true,
   "skip_h1_title": false,
   "title_cell": "Table of Contents",
   "title_sidebar": "Contents",
   "toc_cell": false,
   "toc_position": {},
   "toc_section_display": true,
   "toc_window_display": true
  },
  "varInspector": {
   "cols": {
    "lenName": 16,
    "lenType": 16,
    "lenVar": 40
   },
   "kernels_config": {
    "python": {
     "delete_cmd_postfix": "",
     "delete_cmd_prefix": "del ",
     "library": "var_list.py",
     "varRefreshCmd": "print(var_dic_list())"
    },
    "r": {
     "delete_cmd_postfix": ") ",
     "delete_cmd_prefix": "rm(",
     "library": "var_list.r",
     "varRefreshCmd": "cat(var_dic_list()) "
    }
   },
   "types_to_exclude": [
    "module",
    "function",
    "builtin_function_or_method",
    "instance",
    "_Feature"
   ],
   "window_display": false
  },
  "vscode": {
   "interpreter": {
    "hash": "39577bab1f263e62e0b74f5b8086bd735049bf4751f6562b2d4b2969dc308293"
   }
  }
 },
 "nbformat": 4,
 "nbformat_minor": 4
}
