{
 "cells": [
  {
   "attachments": {},
   "cell_type": "markdown",
   "metadata": {},
   "source": [
    "[![Fixel Algorithms](https://i.imgur.com/AqKHVZ0.png)](https://fixelalgorithms.gitlab.io/)\n",
    "\n",
    "# AI Program\n",
    "\n",
    "## Python - Scalar Types\n",
    "\n",
    "> Notebook by:\n",
    "> - Royi Avital RoyiAvital@fixelalgorithms.com\n",
    "\n",
    "## Revision History\n",
    "\n",
    "| Version | Date       | User        |Content / Changes                                                   |\n",
    "|---------|------------|-------------|--------------------------------------------------------------------|\n",
    "| 1.0.000 | 01/02/2024 | Royi Avital | First version                                                      |"
   ]
  },
  {
   "attachments": {},
   "cell_type": "markdown",
   "metadata": {},
   "source": [
    "[![Open In Colab](https://colab.research.google.com/assets/colab-badge.svg)](https://colab.research.google.com/github/FixelAlgorithmsTeam/FixelCourses/blob/master/AIProgram/2024_02/0016PythonScalarTypes.ipynb)"
   ]
  },
  {
   "cell_type": "code",
   "execution_count": null,
   "metadata": {
    "ExecuteTime": {
     "end_time": "2022-02-02T09:30:06.492269Z",
     "start_time": "2022-02-02T09:30:06.220934Z"
    }
   },
   "outputs": [],
   "source": [
    "# Import Packages\n",
    "\n",
    "# General Tools\n",
    "import numpy as np\n",
    "import scipy as sp\n",
    "\n",
    "# Computer Vision\n",
    "\n",
    "# Machine Learning\n",
    "\n",
    "# Deep Learning\n",
    "\n",
    "\n",
    "# Miscellaneous\n",
    "import os\n",
    "import math\n",
    "from platform import python_version\n",
    "import random\n",
    "import time\n",
    "import urllib.request\n",
    "\n",
    "# Typing\n",
    "from typing import Callable, List, Tuple, Union\n",
    "\n",
    "# Visualization\n",
    "import matplotlib.pyplot as plt\n",
    "import seaborn as sns\n",
    "\n",
    "# Jupyter\n",
    "from IPython import get_ipython\n",
    "from IPython.display import Image, display\n",
    "from ipywidgets import Dropdown, FloatSlider, interact, IntSlider, Layout"
   ]
  },
  {
   "attachments": {},
   "cell_type": "markdown",
   "metadata": {},
   "source": [
    "## Notations\n",
    "\n",
    "* <font color='red'>(**?**)</font> Question to answer interactively.\n",
    "* <font color='blue'>(**!**)</font> Simple task to add code for the notebook.\n",
    "* <font color='green'>(**@**)</font> Optional / Extra self practice.\n",
    "* <font color='brown'>(**#**)</font> Note / Useful resource / Food for thought.\n",
    "\n",
    "Code Notations:\n",
    "\n",
    "```python\n",
    "someVar    = 2; #<! Notation for a variable\n",
    "vVector    = np.random.rand(4) #<! Notation for 1D array\n",
    "mMatrix    = np.random.rand(4, 3) #<! Notation for 2D array\n",
    "tTensor    = np.random.rand(4, 3, 2, 3) #<! Notation for nD array (Tensor)\n",
    "tuTuple    = (1, 2, 3) #<! Notation for a tuple\n",
    "lList      = [1, 2, 3] #<! Notation for a list\n",
    "dDict      = {1: 3, 2: 2, 3: 1} #<! Notation for a dictionary\n",
    "oObj       = MyClass() #<! Notation for an object\n",
    "dfData     = pd.DataFrame() #<! Notation for a data frame\n",
    "dsData     = pd.Series() #<! Notation for a series\n",
    "hObj       = plt.Axes() #<! Notation for an object / handler / function handler\n",
    "```\n",
    "\n",
    "### Code Exercise\n",
    "\n",
    " - Single line fill\n",
    "\n",
    " ```python\n",
    " vallToFill = ???\n",
    " ```\n",
    "\n",
    " - Multi Line to Fill (At least one)\n",
    "\n",
    " ```python\n",
    " # You need to start writing\n",
    " ????\n",
    " ```\n",
    "\n",
    " - Section to Fill\n",
    "\n",
    "```python\n",
    "#===========================Fill This===========================#\n",
    "# 1. Explanation about what to do.\n",
    "# !! Remarks to follow / take under consideration.\n",
    "mX = ???\n",
    "\n",
    "???\n",
    "#===============================================================#\n",
    "```"
   ]
  },
  {
   "cell_type": "code",
   "execution_count": null,
   "metadata": {},
   "outputs": [],
   "source": [
    "# Configuration\n",
    "# %matplotlib inline\n",
    "\n",
    "seedNum = 512\n",
    "np.random.seed(seedNum)\n",
    "random.seed(seedNum)\n",
    "\n",
    "# Matplotlib default color palette\n",
    "lMatPltLibclr = ['#1f77b4', '#ff7f0e', '#2ca02c', '#d62728', '#9467bd', '#8c564b', '#e377c2', '#7f7f7f', '#bcbd22', '#17becf']\n",
    "# sns.set_theme() #>! Apply SeaBorn theme\n",
    "\n",
    "runInGoogleColab = 'google.colab' in str(get_ipython())"
   ]
  },
  {
   "cell_type": "code",
   "execution_count": null,
   "metadata": {},
   "outputs": [],
   "source": [
    "# Constants\n"
   ]
  },
  {
   "cell_type": "code",
   "execution_count": null,
   "metadata": {},
   "outputs": [],
   "source": [
    "# Course Packages\n"
   ]
  },
  {
   "cell_type": "code",
   "execution_count": null,
   "metadata": {},
   "outputs": [],
   "source": [
    "# Auxiliary Functions"
   ]
  },
  {
   "cell_type": "markdown",
   "metadata": {},
   "source": [
    "## Python Scalar Types\n",
    "\n",
    "Here are few of the types in Python:\n",
    "\n",
    " - `int` - Represents _integer_ numbers.  \n",
    "   Adaptive number of bits, infinite accuracy.\n",
    " - `float` - Represents _real_ numbers.  \n",
    "   Using `64` bits, finite accuracy.\n",
    " - `bool` - Represents boolean number (`True` / `False`).\n",
    " - `NoneType` - A singleton of the object `None`.\n",
    "\n",
    "You may use the `type()` function to see the information about the type.\n",
    "\n",
    "* <font color='brown'>(**#**)</font> For deep understanding of the Python language: [Ten Thousand Meters](https://tenthousandmeters.com)."
   ]
  },
  {
   "cell_type": "code",
   "execution_count": null,
   "metadata": {},
   "outputs": [],
   "source": [
    "# Shows the type of a float number\n",
    "print(f'The type of 5.5 is: {type(5.5)}')"
   ]
  },
  {
   "cell_type": "code",
   "execution_count": null,
   "metadata": {},
   "outputs": [],
   "source": [
    " # Show the type of a negative integer\n",
    " ????"
   ]
  },
  {
   "cell_type": "code",
   "execution_count": null,
   "metadata": {},
   "outputs": [],
   "source": [
    "# What would be the the type of `5 > 6`? Check it!"
   ]
  },
  {
   "cell_type": "markdown",
   "metadata": {},
   "source": [
    "### Type Conversion (Casting)\n",
    "\n",
    "Some type can be converted into other types.  \n",
    "For instance:\n",
    "\n",
    " - `int` -> `float`.\n",
    " - `float` -> `int`.\n",
    " - `bool` -> `int`.\n",
    "\n",
    "* <font color='red'>(**?**)</font> Which type can not be converted? Why?\n",
    "* <font color='blue'>(**!**)</font> Try converting your answer above into integer, float and a boolean variable.\n"
   ]
  },
  {
   "cell_type": "code",
   "execution_count": null,
   "metadata": {},
   "outputs": [],
   "source": [
    "# Float <-> Int\n",
    "# ! Try to guess the answer before running\n",
    "\n",
    "print(f'Casting 5.5 to `int`: {int(5.5)}')\n",
    "print(f'Casting -3.75 to `int`: {int(-3.75)}')\n",
    "\n",
    "print(f'Casting 7 to `float`: {float(7)}')\n",
    "print(f'Casting -19 to `float`: {float(-19)}')"
   ]
  },
  {
   "cell_type": "markdown",
   "metadata": {},
   "source": [
    "* <font color='red'>(**?**)</font> What will happen if the integer is big? Think about the accuracy of conversion `int` -> `float`.\n",
    "* <font color='blue'>(**!**)</font> Try such case."
   ]
  },
  {
   "cell_type": "markdown",
   "metadata": {},
   "source": [
    "### Operators\n",
    "\n",
    "Main unary operators:\n",
    "\n",
    " - `+` - Positive.\n",
    " - `-` - Negative.\n",
    " - `~` - Bitwise negation.\n",
    "\n",
    "Main binary operators:\n",
    "\n",
    " - `+` - Sum.\n",
    " - `-` - Difference.\n",
    " - `*` - Product.\n",
    " - `/` - Division.\n",
    " - `%` - Remainder.\n",
    " - `**` - Power.\n",
    " - `//` - Integer Division.\n",
    "\n",
    "* <font color='brown'>(**#**)</font> For precedence, look at [Operators and Expressions in Python](https://realpython.com/python-operators-expressions).\n",
    "\n",
    "\n"
   ]
  },
  {
   "cell_type": "markdown",
   "metadata": {},
   "source": [
    "## Variables and Assignment\n",
    "\n",
    "In Python, a variable is a non literal which is assigned to a value:\n",
    "\n",
    "```python\n",
    "valA = 15.6\n",
    "```\n",
    "\n",
    "The variable name is `valA`, the `=` is the assignment operator and `15.6` is the value.\n",
    "\n",
    "* <font color='brown'>(**#**)</font> In Python the assignment of objects is by reference. "
   ]
  },
  {
   "cell_type": "code",
   "execution_count": null,
   "metadata": {},
   "outputs": [],
   "source": [
    "# Let's try the assignment\n",
    "valA = 5\n",
    "valB = valA\n",
    "valB += 1\n",
    "\n",
    "print(f'The value of `valA`: {valA}') #<! Can you explain?"
   ]
  },
  {
   "cell_type": "markdown",
   "metadata": {},
   "source": [
    "## Logical Interpretation of Variables\n",
    "\n",
    "This section shows the values of variables in the context of a logical evaluation."
   ]
  },
  {
   "cell_type": "code",
   "execution_count": null,
   "metadata": {},
   "outputs": [],
   "source": [
    "# Logical Casting of Non Bool Variables\n",
    "\n",
    "intVarPlus5     = 5\n",
    "intVarMinus5    = -5\n",
    "intVarZero      = 0\n",
    "floatVarPlus5   = 5.0\n",
    "floatVarMinus5  = -5.0\n",
    "floatVarZero    = 0.0"
   ]
  },
  {
   "cell_type": "code",
   "execution_count": null,
   "metadata": {},
   "outputs": [],
   "source": [
    "print(f'The logical interpretation of `intVarPlus5`: {bool(intVarPlus5)}')\n",
    "print(f'The logical interpretation of `intVarMinus5`: {bool(intVarMinus5)}')\n",
    "print(f'The logical interpretation of `intVarZero`: {bool(intVarZero)}')\n",
    "print(f'The logical interpretation of `floatVarPlus5`: {bool(floatVarPlus5)}')\n",
    "print(f'The logical interpretation of `floatVarMinus5`: {bool(floatVarMinus5)}')\n",
    "print(f'The logical interpretation of `floatVarZero`: {bool(floatVarZero)}')"
   ]
  },
  {
   "cell_type": "code",
   "execution_count": null,
   "metadata": {},
   "outputs": [],
   "source": [
    "# Addition Context\n",
    "# False -> 0 / 0.0, True -> 1 / 1.0\n",
    "\n",
    "print(f'`True + 1`: {True + 1}')\n",
    "print(f'`True + 1.0`: {True + 1.0}')\n",
    "print(f'`False + 1`: {False + 1}')\n",
    "print(f'`False + 1.0`: {False + 1.0}')\n",
    "print(f'`True + 0`: {True + 0}')\n",
    "print(f'`True + 0.0`: {True + 0.0}')\n",
    "print(f'`False + 0`: {False + 0}')\n",
    "print(f'`False + 0.0`: {False + 0.0}')"
   ]
  }
 ],
 "metadata": {
  "kernelspec": {
   "display_name": "Python 3",
   "language": "python",
   "name": "python3"
  },
  "language_info": {
   "codemirror_mode": {
    "name": "ipython",
    "version": 3
   },
   "file_extension": ".py",
   "mimetype": "text/x-python",
   "name": "python",
   "nbconvert_exporter": "python",
   "pygments_lexer": "ipython3",
   "version": "3.11.8"
  },
  "toc": {
   "base_numbering": 1,
   "nav_menu": {},
   "number_sections": false,
   "sideBar": true,
   "skip_h1_title": false,
   "title_cell": "Table of Contents",
   "title_sidebar": "Contents",
   "toc_cell": false,
   "toc_position": {},
   "toc_section_display": true,
   "toc_window_display": true
  },
  "varInspector": {
   "cols": {
    "lenName": 16,
    "lenType": 16,
    "lenVar": 40
   },
   "kernels_config": {
    "python": {
     "delete_cmd_postfix": "",
     "delete_cmd_prefix": "del ",
     "library": "var_list.py",
     "varRefreshCmd": "print(var_dic_list())"
    },
    "r": {
     "delete_cmd_postfix": ") ",
     "delete_cmd_prefix": "rm(",
     "library": "var_list.r",
     "varRefreshCmd": "cat(var_dic_list()) "
    }
   },
   "types_to_exclude": [
    "module",
    "function",
    "builtin_function_or_method",
    "instance",
    "_Feature"
   ],
   "window_display": false
  },
  "vscode": {
   "interpreter": {
    "hash": "39577bab1f263e62e0b74f5b8086bd735049bf4751f6562b2d4b2969dc308293"
   }
  }
 },
 "nbformat": 4,
 "nbformat_minor": 4
}
