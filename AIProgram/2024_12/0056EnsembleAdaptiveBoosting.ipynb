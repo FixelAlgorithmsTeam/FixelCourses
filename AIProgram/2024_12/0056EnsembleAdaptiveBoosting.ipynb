{
 "cells": [
  {
   "attachments": {},
   "cell_type": "markdown",
   "metadata": {},
   "source": [
    "[![Fixel Algorithms](https://i.imgur.com/AqKHVZ0.png)](https://fixelalgorithms.gitlab.io/)\n",
    "\n",
    "# AI Program\n",
    "\n",
    "## Machine Learning - Supervised Learning - Ensemble Methods - Adaptive Boosting (AdaBoost)\n",
    "\n",
    "> Notebook by:\n",
    "> - Royi Avital RoyiAvital@fixelalgorithms.com\n",
    "\n",
    "## Revision History\n",
    "\n",
    "| Version | Date       | User        |Content / Changes                                                   |\n",
    "|---------|------------|-------------|--------------------------------------------------------------------|\n",
    "| 1.0.000 | 11/04/2024 | Royi Avital | First version                                                      |"
   ]
  },
  {
   "attachments": {},
   "cell_type": "markdown",
   "metadata": {},
   "source": [
    "[![Open In Colab](https://colab.research.google.com/assets/colab-badge.svg)](https://colab.research.google.com/github/FixelAlgorithmsTeam/FixelCourses/blob/master/AIProgram/2024_02/0056EnsembleAdaptiveBoosting.ipynb)"
   ]
  },
  {
   "cell_type": "code",
   "execution_count": null,
   "metadata": {
    "ExecuteTime": {
     "end_time": "2022-02-02T09:30:06.492269Z",
     "start_time": "2022-02-02T09:30:06.220934Z"
    }
   },
   "outputs": [],
   "source": [
    "# Import Packages\n",
    "\n",
    "# General Tools\n",
    "import numpy as np\n",
    "import scipy as sp\n",
    "import pandas as pd\n",
    "\n",
    "# Machine Learning\n",
    "from sklearn.datasets import fetch_openml\n",
    "from sklearn.ensemble import AdaBoostClassifier\n",
    "\n",
    "# Miscellaneous\n",
    "import math\n",
    "import os\n",
    "from platform import python_version\n",
    "import random\n",
    "import timeit\n",
    "\n",
    "# Typing\n",
    "from typing import Callable, Dict, List, Optional, Self, Set, Tuple, Union\n",
    "\n",
    "# Visualization\n",
    "import matplotlib as mpl\n",
    "import matplotlib.pyplot as plt\n",
    "import seaborn as sns\n",
    "\n",
    "# Jupyter\n",
    "from IPython import get_ipython\n",
    "from IPython.display import Image\n",
    "from IPython.display import display\n",
    "from ipywidgets import Dropdown, FloatSlider, interact, IntSlider, Layout, SelectionSlider\n",
    "from ipywidgets import interact"
   ]
  },
  {
   "attachments": {},
   "cell_type": "markdown",
   "metadata": {},
   "source": [
    "## Notations\n",
    "\n",
    "* <font color='red'>(**?**)</font> Question to answer interactively.\n",
    "* <font color='blue'>(**!**)</font> Simple task to add code for the notebook.\n",
    "* <font color='green'>(**@**)</font> Optional / Extra self practice.\n",
    "* <font color='brown'>(**#**)</font> Note / Useful resource / Food for thought.\n",
    "\n",
    "Code Notations:\n",
    "\n",
    "```python\n",
    "someVar    = 2; #<! Notation for a variable\n",
    "vVector    = np.random.rand(4) #<! Notation for 1D array\n",
    "mMatrix    = np.random.rand(4, 3) #<! Notation for 2D array\n",
    "tTensor    = np.random.rand(4, 3, 2, 3) #<! Notation for nD array (Tensor)\n",
    "tuTuple    = (1, 2, 3) #<! Notation for a tuple\n",
    "lList      = [1, 2, 3] #<! Notation for a list\n",
    "dDict      = {1: 3, 2: 2, 3: 1} #<! Notation for a dictionary\n",
    "oObj       = MyClass() #<! Notation for an object\n",
    "dfData     = pd.DataFrame() #<! Notation for a data frame\n",
    "dsData     = pd.Series() #<! Notation for a series\n",
    "hObj       = plt.Axes() #<! Notation for an object / handler / function handler\n",
    "```\n",
    "\n",
    "### Code Exercise\n",
    "\n",
    " - Single line fill\n",
    "\n",
    " ```python\n",
    " vallToFill = ???\n",
    " ```\n",
    "\n",
    " - Multi Line to Fill (At least one)\n",
    "\n",
    " ```python\n",
    " # You need to start writing\n",
    " ????\n",
    " ```\n",
    "\n",
    " - Section to Fill\n",
    "\n",
    "```python\n",
    "#===========================Fill This===========================#\n",
    "# 1. Explanation about what to do.\n",
    "# !! Remarks to follow / take under consideration.\n",
    "mX = ???\n",
    "\n",
    "???\n",
    "#===============================================================#\n",
    "```"
   ]
  },
  {
   "cell_type": "code",
   "execution_count": null,
   "metadata": {},
   "outputs": [],
   "source": [
    "# Configuration\n",
    "# %matplotlib inline\n",
    "\n",
    "seedNum = 512\n",
    "np.random.seed(seedNum)\n",
    "random.seed(seedNum)\n",
    "\n",
    "# Matplotlib default color palette\n",
    "lMatPltLibclr = ['#1f77b4', '#ff7f0e', '#2ca02c', '#d62728', '#9467bd', '#8c564b', '#e377c2', '#7f7f7f', '#bcbd22', '#17becf']\n",
    "# sns.set_theme() #>! Apply SeaBorn theme\n",
    "\n",
    "runInGoogleColab = 'google.colab' in str(get_ipython())\n"
   ]
  },
  {
   "cell_type": "code",
   "execution_count": null,
   "metadata": {},
   "outputs": [],
   "source": [
    "# Constants\n",
    "\n",
    "FIG_SIZE_DEF    = (8, 8)\n",
    "ELM_SIZE_DEF    = 50\n",
    "CLASS_COLOR     = ('b', 'r')\n",
    "EDGE_COLOR      = 'k'\n",
    "MARKER_SIZE_DEF = 10\n",
    "LINE_WIDTH_DEF  = 2\n"
   ]
  },
  {
   "cell_type": "code",
   "execution_count": null,
   "metadata": {},
   "outputs": [],
   "source": [
    "# Courses Packages\n"
   ]
  },
  {
   "cell_type": "code",
   "execution_count": null,
   "metadata": {},
   "outputs": [],
   "source": [
    "# General Auxiliary Functions\n",
    "\n",
    "from DataVisualization import PlotBinaryClassData, PlotDecisionBoundaryClosure\n"
   ]
  },
  {
   "cell_type": "markdown",
   "metadata": {},
   "source": [
    "## Ada Boost Classification\n",
    "\n",
    "In this note book we'll use the _AdaBoost_ based classifier.  \n",
    "The _AdaBoost_ concept optimizes a sequence of estimators by optimizing the weights of the data at each iteration.\n",
    "\n",
    "* <font color='brown'>(**#**)</font> The _AdaBoost_ method is a specific case of the _Gradient Boosting_ method.\n",
    "* <font color='brown'>(**#**)</font> The main disadvantage of the _AdaBoost_ (And _Gradient Boosting_) method is the sequential stacking of the models.\n",
    "* <font color='brown'>(**#**)</font> Resources: [Kaggle - AdaBoost Classifier Tutorial](https://www.kaggle.com/code/prashant111/adaboost-classifier-tutorial), [Adaptive Boosting (AdaBoost)](https://maelfabien.github.io/machinelearning/adaboost)."
   ]
  },
  {
   "cell_type": "code",
   "execution_count": null,
   "metadata": {},
   "outputs": [],
   "source": [
    "# Parameters\n",
    "\n",
    "# Data\n",
    "numSamplesCls = 500\n",
    "\n",
    "# Model\n",
    "numEst = 150\n",
    "adaBoostAlg = 'SAMME'\n",
    "\n",
    "# Data Visualization\n",
    "numGridPts = 500\n"
   ]
  },
  {
   "cell_type": "markdown",
   "metadata": {},
   "source": [
    "## Generate / Load Data\n"
   ]
  },
  {
   "cell_type": "code",
   "execution_count": null,
   "metadata": {},
   "outputs": [],
   "source": [
    "# Generate Data\n",
    "\n",
    "vN    = np.sqrt(np.random.rand(numSamplesCls, 1)) * 480 * 2 * (np.pi / 360)\n",
    "vCos  = -vN * np.cos(vN) + np.random.rand(numSamplesCls, 1) / 2\n",
    "vSin  =  vN * np.sin(vN) + np.random.rand(numSamplesCls, 1) / 2\n",
    "mX1   =  np.c_[vCos, vSin]\n",
    "mX2   = -np.c_[vCos, vSin]\n",
    "mX    =  np.r_[mX1, mX2]\n",
    "vY    =  np.r_[-np.ones(numSamplesCls), np.ones(numSamplesCls)]\n",
    "\n",
    "numSamples = np.size(vY)\n",
    "\n",
    "vIdx0 = vY == -1\n",
    "vIdx1 = vY ==  1\n",
    "\n",
    "print(f'The features data shape: {mX.shape}')\n",
    "print(f'The labels data shape: {vY.shape}')\n",
    "\n",
    "# Decision Boundary Plotter\n",
    "PlotDecisionBoundary = PlotDecisionBoundaryClosure(numGridPts, mX[:, 0].min(), mX[:, 0].max(), mX[:, 1].min(), mX[:, 1].max())"
   ]
  },
  {
   "cell_type": "markdown",
   "metadata": {},
   "source": [
    "### Plot Data"
   ]
  },
  {
   "cell_type": "code",
   "execution_count": null,
   "metadata": {},
   "outputs": [],
   "source": [
    "# Plot the Data\n",
    "\n",
    "hF, hA = plt.subplots(figsize = (12, 8))\n",
    "\n",
    "hA = PlotBinaryClassData(mX, vY, hA = hA)\n"
   ]
  },
  {
   "cell_type": "markdown",
   "metadata": {},
   "source": [
    "* <font color='red'>(**?**)</font> Is there a simple feature engineering to make the data set linearly separable?"
   ]
  },
  {
   "cell_type": "markdown",
   "metadata": {},
   "source": [
    "## Train an Ada Boosting Model\n",
    "\n",
    "The model is attributes are:\n",
    "\n",
    "$$\n",
    "\\begin{align*}\n",
    "\\text{Train error} & =\\frac{1}{N}\\sum_{i=1}^{N}\\mathbb{I}\\left\\{ \\hat{y}_{i}\\neq y\\right\\} \\\\\n",
    "\\text{Train loss} & =\\frac{1}{N}\\sum_{i=1}^{N}\\exp\\left(-y_{i}H\\left(\\boldsymbol{x}_{i}\\right)\\right)\\\\\n",
    "\\hat{y}_{i} & =\\text{sign}\\left(H\\left(\\boldsymbol{x}_{i}\\right)\\right)\n",
    "\\end{align*}\n",
    "$$\n",
    "\n",
    "* <font color='brown'>(**#**)</font> The _AdaBoost_ algorithm is implemented in the [`AdaBoostClassifier`](https://scikit-learn.org/stable/modules/generated/sklearn.ensemble.AdaBoostClassifier.html) / [`AdaBoostRegressor`](https://scikit-learn.org/stable/modules/generated/sklearn.ensemble.AdaBoostRegressor.html) class in SciKit Learn."
   ]
  },
  {
   "cell_type": "code",
   "execution_count": null,
   "metadata": {},
   "outputs": [],
   "source": [
    "# Constructing and Training the Model\n",
    "oAdaBoost = AdaBoostClassifier(n_estimators = numEst, algorithm = adaBoostAlg)\n",
    "oAdaBoost = oAdaBoost.fit(mX, vY)"
   ]
  },
  {
   "cell_type": "code",
   "execution_count": null,
   "metadata": {},
   "outputs": [],
   "source": [
    "# Plot the Model by Number of Estimators\n",
    "\n",
    "def PlotAdaBoost( numEst: int, oAdaBoostCls: AdaBoostClassifier, mX: np.ndarray, vY: np.ndarray, numGridPts: int ):\n",
    "    \n",
    "    def Predict(oAdaBoost: AdaBoostClassifier, numEst: int, mX: np.ndarray, vY: Optional[np.ndarray] = None) -> Tuple[np.ndarray, np.ndarray, np.ndarray, np.ndarray]:\n",
    "        numSamples  = mX.shape[0]\n",
    "        vW          = np.ones(numSamples) / numSamples\n",
    "        vH          = np.zeros(numSamples)\n",
    "        vTrainErr   = np.full(numEst, np.nan)\n",
    "        vLoss       = np.full(numEst, np.nan)\n",
    "        for mm in range(numEst):\n",
    "            α_m = oAdaBoost.estimator_weights_[mm]\n",
    "            h_m     = oAdaBoost.estimators_[mm]\n",
    "            vHatYm  = h_m.predict(mX)\n",
    "            vH     += α_m * vHatYm\n",
    "\n",
    "            if vY is not None:\n",
    "                vW             = vW * np.exp(-α_m * vY * h_m.predict(mX)) #<! Weights per sample\n",
    "                vW            /= np.sum(vW)\n",
    "                vTrainErr[mm]  = np.mean(np.sign(vH) != vY)\n",
    "                vLoss[mm]      = np.mean(np.exp(-vH * vY))\n",
    "        \n",
    "        vH = np.sign(vH)\n",
    "        \n",
    "        return vH, vW, vTrainErr, vLoss\n",
    "        \n",
    "    v0       = np.linspace(mX[:,0].min(), mX[:,0].max(), numGridPts)\n",
    "    v1       = np.linspace(mX[:,1].min(), mX[:,1].max(), numGridPts)\n",
    "    XX0, XX1 = np.meshgrid(v0, v1)\n",
    "    XX       = np.c_[XX0.ravel(), XX1.ravel()]\n",
    "\n",
    "    _, vW, vTrainErr, vLoss = Predict(oAdaBoostCls, numEst, mX, vY)\n",
    "    ZZ                      = Predict(oAdaBoostCls, numEst, XX)[0]\n",
    "    ZZ                      = np.reshape(ZZ, XX0.shape)\n",
    "\n",
    "    numSamples = np.size(mX, 0)\n",
    "\n",
    "    plt.figure  (figsize = (12, 5))\n",
    "    plt.subplot (1, 2, 1)\n",
    "    plt.contourf(XX0, XX1, ZZ, colors = ['red', 'blue'], alpha = 0.3)\n",
    "    plt.scatter (mX[vIdx0, 0], mX[vIdx0, 1], s = 50 * numSamples * vW[vIdx0], color = 'r', edgecolors = 'k')\n",
    "    plt.scatter (mX[vIdx1, 0], mX[vIdx1, 1], s = 50 * numSamples * vW[vIdx1], color = 'b', edgecolors = 'k')\n",
    "    plt.title   ('$M = ' + str(numEst) + '$')\n",
    "                                        \n",
    "    plt.subplot(1,2,2)\n",
    "    plt.plot   (vTrainErr, 'b', lw = 2, label = 'Train Error')\n",
    "    plt.plot   (vLoss,     'r', lw = 2, label = 'Train Loss')\n",
    "    plt.grid   ()\n",
    "    plt.legend ()\n",
    "    \n",
    "    plt.tight_layout()\n",
    "    plt.show        ()"
   ]
  },
  {
   "cell_type": "code",
   "execution_count": null,
   "metadata": {},
   "outputs": [],
   "source": [
    "# Plotting Wrapper\n",
    "\n",
    "hPlotAdaBoost = lambda numEst: PlotAdaBoost(numEst, oAdaBoost, mX, vY, numGridPts)"
   ]
  },
  {
   "cell_type": "code",
   "execution_count": null,
   "metadata": {},
   "outputs": [],
   "source": [
    "# Interactive Plot\n",
    "mSlider = IntSlider(min = 1, max = numEst, step = 1, value = 1, layout = Layout(width = '80%'))\n",
    "interact(hPlotAdaBoost, numEst = mSlider);\n",
    "\n",
    "plt.show()"
   ]
  }
 ],
 "metadata": {
  "kernelspec": {
   "display_name": "Python 3",
   "language": "python",
   "name": "python3"
  },
  "language_info": {
   "codemirror_mode": {
    "name": "ipython",
    "version": 3
   },
   "file_extension": ".py",
   "mimetype": "text/x-python",
   "name": "python",
   "nbconvert_exporter": "python",
   "pygments_lexer": "ipython3",
   "version": "3.11.9"
  },
  "toc": {
   "base_numbering": 1,
   "nav_menu": {},
   "number_sections": false,
   "sideBar": true,
   "skip_h1_title": false,
   "title_cell": "Table of Contents",
   "title_sidebar": "Contents",
   "toc_cell": false,
   "toc_position": {},
   "toc_section_display": true,
   "toc_window_display": true
  },
  "varInspector": {
   "cols": {
    "lenName": 16,
    "lenType": 16,
    "lenVar": 40
   },
   "kernels_config": {
    "python": {
     "delete_cmd_postfix": "",
     "delete_cmd_prefix": "del ",
     "library": "var_list.py",
     "varRefreshCmd": "print(var_dic_list())"
    },
    "r": {
     "delete_cmd_postfix": ") ",
     "delete_cmd_prefix": "rm(",
     "library": "var_list.r",
     "varRefreshCmd": "cat(var_dic_list()) "
    }
   },
   "types_to_exclude": [
    "module",
    "function",
    "builtin_function_or_method",
    "instance",
    "_Feature"
   ],
   "window_display": false
  },
  "vscode": {
   "interpreter": {
    "hash": "39577bab1f263e62e0b74f5b8086bd735049bf4751f6562b2d4b2969dc308293"
   }
  }
 },
 "nbformat": 4,
 "nbformat_minor": 4
}
