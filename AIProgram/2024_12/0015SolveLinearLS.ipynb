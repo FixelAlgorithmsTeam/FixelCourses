{
 "cells": [
  {
   "attachments": {},
   "cell_type": "markdown",
   "metadata": {},
   "source": [
    "[![Fixel Algorithms](https://i.imgur.com/AqKHVZ0.png)](https://fixelalgorithms.gitlab.io/)\n",
    "\n",
    "# AI Program\n",
    "\n",
    "## SVD & Linear Least Squares - Solving Multiple LS with the Same Model\n",
    "\n",
    "Solving:\n",
    "\n",
    "$$ \\boldsymbol{x}_{i} = \\arg \\min_{ \\boldsymbol{x} } \\frac{1}{2} {\\left\\| \\boldsymbol{A} \\boldsymbol{x} - \\boldsymbol{b}_{i} \\right\\|}_{2}^{2}, \\; i = 1, 2, \\ldots $$\n",
    "\n",
    "> Notebook by:\n",
    "> - Royi Avital RoyiAvital@fixelalgorithms.com\n",
    "\n",
    "## Revision History\n",
    "\n",
    "| Version | Date       | User        |Content / Changes                                                   |\n",
    "|---------|------------|-------------|--------------------------------------------------------------------|\n",
    "| 1.0.000 | 10/02/2024 | Royi Avital | First version                                                      |"
   ]
  },
  {
   "attachments": {},
   "cell_type": "markdown",
   "metadata": {},
   "source": [
    "[![Open In Colab](https://colab.research.google.com/assets/colab-badge.svg)](https://colab.research.google.com/github/FixelAlgorithmsTeam/FixelCourses/blob/master/AIProgram/2024_02/0015SolveLinearLS.ipynb)"
   ]
  },
  {
   "cell_type": "code",
   "execution_count": null,
   "metadata": {
    "ExecuteTime": {
     "end_time": "2022-02-02T09:30:06.492269Z",
     "start_time": "2022-02-02T09:30:06.220934Z"
    }
   },
   "outputs": [],
   "source": [
    "# Import Packages\n",
    "\n",
    "# General Tools\n",
    "import numpy as np\n",
    "import scipy as sp\n",
    "import pandas as pd\n",
    "\n",
    "# Machine Learning\n",
    "\n",
    "# Miscellaneous\n",
    "import os\n",
    "import math\n",
    "from platform import python_version\n",
    "import random\n",
    "\n",
    "# Typing\n",
    "from typing import Callable, List, Tuple, Union\n",
    "\n",
    "# Visualization\n",
    "from matplotlib.colors import LogNorm, Normalize, PowerNorm\n",
    "import matplotlib.pyplot as plt\n",
    "import seaborn as sns\n",
    "\n",
    "# Jupyter\n",
    "from IPython import get_ipython\n",
    "from IPython.display import Image, display\n",
    "from ipywidgets import Dropdown, FloatSlider, interact, IntSlider, Layout"
   ]
  },
  {
   "attachments": {},
   "cell_type": "markdown",
   "metadata": {},
   "source": [
    "## Notations\n",
    "\n",
    "* <font color='red'>(**?**)</font> Question to answer interactively.\n",
    "* <font color='blue'>(**!**)</font> Simple task to add code for the notebook.\n",
    "* <font color='green'>(**@**)</font> Optional / Extra self practice.\n",
    "* <font color='brown'>(**#**)</font> Note / Useful resource / Food for thought.\n",
    "\n",
    "Code Notations:\n",
    "\n",
    "```python\n",
    "someVar    = 2; #<! Notation for a variable\n",
    "vVector    = np.random.rand(4) #<! Notation for 1D array\n",
    "mMatrix    = np.random.rand(4, 3) #<! Notation for 2D array\n",
    "tTensor    = np.random.rand(4, 3, 2, 3) #<! Notation for nD array (Tensor)\n",
    "tuTuple    = (1, 2, 3) #<! Notation for a tuple\n",
    "lList      = [1, 2, 3] #<! Notation for a list\n",
    "dDict      = {1: 3, 2: 2, 3: 1} #<! Notation for a dictionary\n",
    "oObj       = MyClass() #<! Notation for an object\n",
    "dfData     = pd.DataFrame() #<! Notation for a data frame\n",
    "dsData     = pd.Series() #<! Notation for a series\n",
    "hObj       = plt.Axes() #<! Notation for an object / handler / function handler\n",
    "```\n",
    "\n",
    "### Code Exercise\n",
    "\n",
    " - Single line fill\n",
    "\n",
    " ```python\n",
    " vallToFill = ???\n",
    " ```\n",
    "\n",
    " - Multi Line to Fill (At least one)\n",
    "\n",
    " ```python\n",
    " # You need to start writing\n",
    " ????\n",
    " ```\n",
    "\n",
    " - Section to Fill\n",
    "\n",
    "```python\n",
    "#===========================Fill This===========================#\n",
    "# 1. Explanation about what to do.\n",
    "# !! Remarks to follow / take under consideration.\n",
    "mX = ???\n",
    "\n",
    "???\n",
    "#===============================================================#\n",
    "```"
   ]
  },
  {
   "cell_type": "code",
   "execution_count": null,
   "metadata": {},
   "outputs": [],
   "source": [
    "# Configuration\n",
    "%matplotlib inline\n",
    "\n",
    "# warnings.filterwarnings(\"ignore\")\n",
    "\n",
    "seedNum = 512\n",
    "np.random.seed(seedNum)\n",
    "random.seed(seedNum)\n",
    "\n",
    "# Matplotlib default color palette\n",
    "lMatPltLibclr = ['#1f77b4', '#ff7f0e', '#2ca02c', '#d62728', '#9467bd', '#8c564b', '#e377c2', '#7f7f7f', '#bcbd22', '#17becf']\n",
    "# sns.set_theme() #>! Apply SeaBorn theme\n",
    "# sns.set_palette(\"tab10\")\n",
    "\n",
    "runInGoogleColab = 'google.colab' in str(get_ipython())"
   ]
  },
  {
   "cell_type": "code",
   "execution_count": null,
   "metadata": {},
   "outputs": [],
   "source": [
    "# Constants\n",
    "\n",
    "FIG_SIZE_DEF    = (8, 8)\n",
    "ELM_SIZE_DEF    = 50\n",
    "CLASS_COLOR     = ('b', 'r')\n",
    "EDGE_COLOR      = 'k'\n",
    "MARKER_SIZE_DEF = 10\n",
    "LINE_WIDTH_DEF  = 2\n"
   ]
  },
  {
   "cell_type": "code",
   "execution_count": null,
   "metadata": {},
   "outputs": [],
   "source": [
    "# Course Packages\n"
   ]
  },
  {
   "cell_type": "code",
   "execution_count": null,
   "metadata": {},
   "outputs": [],
   "source": [
    "# Auxiliary Functions\n"
   ]
  },
  {
   "cell_type": "code",
   "execution_count": null,
   "metadata": {},
   "outputs": [],
   "source": [
    "# Parameters\n",
    "\n",
    "numRows = 500\n",
    "numCols = 100\n",
    "numIn   = 1000 #<! Number of inputs"
   ]
  },
  {
   "attachments": {},
   "cell_type": "markdown",
   "metadata": {},
   "source": [
    "## Solving Multiple Linear Systems\n",
    "\n",
    "There are cases where a linear system, with the same model matrix $\\boldsymbol{A}$, is solved multiple times:\n",
    "\n",
    "$$ \\boldsymbol{x}_{i} = \\arg \\min_{ \\boldsymbol{x} } \\frac{1}{2} {\\left\\| \\boldsymbol{A} \\boldsymbol{x} - \\boldsymbol{b}_{i} \\right\\|}_{2}^{2}, \\; i = 1, 2, \\ldots $$\n",
    "\n",
    "In most solvers the solution is basically:\n",
    "\n",
    "1. Find the optimal decomposition based on the properties of the model matrix.\n",
    "2. Solve the system using the decomposition.\n",
    "\n",
    "This notebook illustrates efficient methods to deal with such case.\n",
    "\n",
    "* <font color='brown'>(**#**)</font> The problem above is equivalent to $\\arg \\min_{\\boldsymbol{X}} \\frac{1}{2} {\\left\\| \\boldsymbol{A} \\boldsymbol{X} - \\boldsymbol{B} \\right\\|}_{F}^{2}$ where $\\boldsymbol{x}_{i}, \\, \\boldsymbol{b}_{i}$ are the columns of $\\boldsymbol{X}, \\, \\boldsymbol{B}$. The motivation for above is the case the data is too large or the timing of the data (Each $\\boldsymbol{b}_{i}$ as a different time)."
   ]
  },
  {
   "cell_type": "markdown",
   "metadata": {},
   "source": [
    "## Generate Data"
   ]
  },
  {
   "cell_type": "code",
   "execution_count": null,
   "metadata": {},
   "outputs": [],
   "source": [
    "# Generate / Load the Data\n",
    "\n",
    "mA = np.random.randn(numRows, numCols)\n",
    "mB = np.random.randn(numRows, numIn)\n",
    "\n",
    "mX = np.zeros(shape = (numCols, numIn))"
   ]
  },
  {
   "cell_type": "code",
   "execution_count": null,
   "metadata": {},
   "outputs": [],
   "source": [
    "# Reference Solution\n",
    "\n",
    "mXRef = np.linalg.lstsq(mA, mB, rcond = None)"
   ]
  },
  {
   "cell_type": "markdown",
   "metadata": {},
   "source": [
    "## Naive Solution"
   ]
  },
  {
   "cell_type": "code",
   "execution_count": null,
   "metadata": {},
   "outputs": [],
   "source": [
    "%%timeit\n",
    "# Solving Using LS Solver\n",
    "# SciPy / NumPy 's solver for least squares problem is `lstsq()`.\n",
    "\n",
    "for ii in range(numIn):\n",
    "    mX[:, ii] = np.linalg.lstsq(mA, mB[:, ii], rcond = None)[0]"
   ]
  },
  {
   "cell_type": "markdown",
   "metadata": {},
   "source": [
    "## Solution by Normal Equations\n",
    "\n",
    "The normal equations are given by:\n",
    "\n",
    "$$ \\boldsymbol{A}^{T} \\boldsymbol{A} \\boldsymbol{x} = \\boldsymbol{A}^{T} \\boldsymbol{b} $$\n",
    "\n",
    "Hence finding $\\boldsymbol{x}$ is by solving a system defined by an SPSD (_Symmetric Positive Semi Definite_) matrix.  \n",
    "\n",
    "* <font color='brown'>(**#**)</font> In case $\\boldsymbol{A}$ is full rank, the matrix is SPD (_Symmetric Positive Definite_) which even faster to decompose.\n"
   ]
  },
  {
   "cell_type": "code",
   "execution_count": null,
   "metadata": {},
   "outputs": [],
   "source": [
    "%%timeit mC = mA.T @ mA\n",
    "# Solving Using SPD Decomposition\n",
    "# SciPy / NumPy 's `solve()` only supports full rank matrices.  \n",
    "# Hence this code works only for SPD matrices (For non SPD use `lstsq()` or build manual solver based on `ldl()`).\n",
    "\n",
    "for ii in range(numIn):\n",
    "    mX[:, ii] = sp.linalg.solve(mC, mA.T @ mB[:, ii], assume_a = 'pos')"
   ]
  },
  {
   "cell_type": "markdown",
   "metadata": {},
   "source": [
    "* <font color='brown'>(**#**)</font> While the normal equations are efficient (Especially when $m \\ll n$), their main disadvantage is the increased sensitivity (Condition number).\n",
    "* <font color='blue'>(**!**)</font> Measure the time with `assume_a = 'gen'` (The default) and `assume_a = 'sym'`."
   ]
  },
  {
   "cell_type": "markdown",
   "metadata": {},
   "source": [
    "## Solution by Pre Process of the Decomposition\n",
    "\n",
    "This applies the proper decomposition to the matrix and reuse it to solve the problem.  \n",
    "\n",
    "A simple guideline is to follow [MATLAB's `mldivide()` documentation](https://www.mathworks.com/help/matlab/ref/mldivide.html):\n",
    "\n",
    "![](https://i.imgur.com/adlNcBY.png)\n",
    "\n",
    "* <font color='brown'>(**#**)</font> This approach could also work for the previous approach with the LDL (Bunch Kaufman factorization) or Cholesky decomposition."
   ]
  },
  {
   "cell_type": "code",
   "execution_count": null,
   "metadata": {},
   "outputs": [],
   "source": [
    "%%timeit mQ, mR = sp.linalg.qr(mA, mode = 'economic')\n",
    "# Solving Using LU Decomposition\n",
    "# One of the general decomposition for non square matrices is the LU decomposition.\n",
    "\n",
    "for ii in range(numIn):\n",
    "    mX[:, ii] = sp.linalg.solve_triangular(mR, mQ.T @ mB[:, ii], check_finite = False)"
   ]
  },
  {
   "cell_type": "markdown",
   "metadata": {},
   "source": [
    "* <font color='brown'>(**#**)</font> Usually for $m \\ll n$ the normal equations is faster (If using low level functions with minimal overhead).\n",
    "* <font color='green'>(**@**)</font> Apply the trick of pre calculated decomposition to `mC`. Use _Cholesky_ under the assumption _SPD_ matrices."
   ]
  }
 ],
 "metadata": {
  "kernelspec": {
   "display_name": "Python 3",
   "language": "python",
   "name": "python3"
  },
  "language_info": {
   "codemirror_mode": {
    "name": "ipython",
    "version": 3
   },
   "file_extension": ".py",
   "mimetype": "text/x-python",
   "name": "python",
   "nbconvert_exporter": "python",
   "pygments_lexer": "ipython3",
   "version": "3.11.7"
  },
  "toc": {
   "base_numbering": 1,
   "nav_menu": {},
   "number_sections": false,
   "sideBar": true,
   "skip_h1_title": false,
   "title_cell": "Table of Contents",
   "title_sidebar": "Contents",
   "toc_cell": false,
   "toc_position": {},
   "toc_section_display": true,
   "toc_window_display": true
  },
  "varInspector": {
   "cols": {
    "lenName": 16,
    "lenType": 16,
    "lenVar": 40
   },
   "kernels_config": {
    "python": {
     "delete_cmd_postfix": "",
     "delete_cmd_prefix": "del ",
     "library": "var_list.py",
     "varRefreshCmd": "print(var_dic_list())"
    },
    "r": {
     "delete_cmd_postfix": ") ",
     "delete_cmd_prefix": "rm(",
     "library": "var_list.r",
     "varRefreshCmd": "cat(var_dic_list()) "
    }
   },
   "types_to_exclude": [
    "module",
    "function",
    "builtin_function_or_method",
    "instance",
    "_Feature"
   ],
   "window_display": false
  },
  "vscode": {
   "interpreter": {
    "hash": "39577bab1f263e62e0b74f5b8086bd735049bf4751f6562b2d4b2969dc308293"
   }
  }
 },
 "nbformat": 4,
 "nbformat_minor": 4
}
