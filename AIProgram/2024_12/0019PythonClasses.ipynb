{
 "cells": [
  {
   "attachments": {},
   "cell_type": "markdown",
   "metadata": {},
   "source": [
    "[![Fixel Algorithms](https://i.imgur.com/AqKHVZ0.png)](https://fixelalgorithms.gitlab.io/)\n",
    "\n",
    "# AI Program\n",
    "\n",
    "## Python - Classes\n",
    "\n",
    "> Notebook by:\n",
    "> - Royi Avital RoyiAvital@fixelalgorithms.com\n",
    "\n",
    "## Revision History\n",
    "\n",
    "| Version | Date       | User        |Content / Changes                                                   |\n",
    "|---------|------------|-------------|--------------------------------------------------------------------|\n",
    "| 1.0.001 | 21/02/2024 | Royi Avital | Added self exercise for `DayStr`                                   |\n",
    "|         |            |             | Fixed issue with `struct_time`                                     |\n",
    "| 1.0.000 | 02/02/2024 | Royi Avital | First version                                                      |"
   ]
  },
  {
   "attachments": {},
   "cell_type": "markdown",
   "metadata": {},
   "source": [
    "[![Open In Colab](https://colab.research.google.com/assets/colab-badge.svg)](https://colab.research.google.com/github/FixelAlgorithmsTeam/FixelCourses/blob/master/AIProgram/2024_02/0019PythonClasses.ipynb)"
   ]
  },
  {
   "cell_type": "code",
   "execution_count": null,
   "metadata": {
    "ExecuteTime": {
     "end_time": "2022-02-02T09:30:06.492269Z",
     "start_time": "2022-02-02T09:30:06.220934Z"
    }
   },
   "outputs": [],
   "source": [
    "# Import Packages\n",
    "\n",
    "# General Tools\n",
    "\n",
    "# Computer Vision\n",
    "\n",
    "# Machine Learning\n",
    "\n",
    "# Deep Learning\n",
    "\n",
    "# Miscellaneous\n",
    "import os\n",
    "import math\n",
    "from platform import python_version\n",
    "import random\n",
    "import time\n",
    "import urllib.request\n",
    "\n",
    "# Typing\n",
    "from typing import Callable, List, Tuple, Union\n",
    "\n",
    "# Visualization\n",
    "import matplotlib.pyplot as plt\n",
    "import seaborn as sns\n",
    "\n",
    "# Jupyter\n",
    "from IPython import get_ipython\n",
    "from IPython.display import Image, display\n",
    "from ipywidgets import Dropdown, FloatSlider, interact, IntSlider, Layout"
   ]
  },
  {
   "attachments": {},
   "cell_type": "markdown",
   "metadata": {},
   "source": [
    "## Notations\n",
    "\n",
    "* <font color='red'>(**?**)</font> Question to answer interactively.\n",
    "* <font color='blue'>(**!**)</font> Simple task to add code for the notebook.\n",
    "* <font color='green'>(**@**)</font> Optional / Extra self practice.\n",
    "* <font color='brown'>(**#**)</font> Note / Useful resource / Food for thought.\n",
    "\n",
    "Code Notations:\n",
    "\n",
    "```python\n",
    "someVar    = 2; #<! Notation for a variable\n",
    "vVector    = np.random.rand(4) #<! Notation for 1D array\n",
    "mMatrix    = np.random.rand(4, 3) #<! Notation for 2D array\n",
    "tTensor    = np.random.rand(4, 3, 2, 3) #<! Notation for nD array (Tensor)\n",
    "tuTuple    = (1, 2, 3) #<! Notation for a tuple\n",
    "lList      = [1, 2, 3] #<! Notation for a list\n",
    "dDict      = {1: 3, 2: 2, 3: 1} #<! Notation for a dictionary\n",
    "oObj       = MyClass() #<! Notation for an object\n",
    "dfData     = pd.DataFrame() #<! Notation for a data frame\n",
    "dsData     = pd.Series() #<! Notation for a series\n",
    "hObj       = plt.Axes() #<! Notation for an object / handler / function handler\n",
    "```\n",
    "\n",
    "### Code Exercise\n",
    "\n",
    " - Single line fill\n",
    "\n",
    " ```python\n",
    " vallToFill = ???\n",
    " ```\n",
    "\n",
    " - Multi Line to Fill (At least one)\n",
    "\n",
    " ```python\n",
    " # You need to start writing\n",
    " ????\n",
    " ```\n",
    "\n",
    " - Section to Fill\n",
    "\n",
    "```python\n",
    "#===========================Fill This===========================#\n",
    "# 1. Explanation about what to do.\n",
    "# !! Remarks to follow / take under consideration.\n",
    "mX = ???\n",
    "\n",
    "???\n",
    "#===============================================================#\n",
    "```"
   ]
  },
  {
   "cell_type": "code",
   "execution_count": null,
   "metadata": {},
   "outputs": [],
   "source": [
    "# Configuration\n",
    "# %matplotlib inline\n",
    "\n",
    "seedNum = 512\n",
    "# np.random.seed(seedNum)\n",
    "random.seed(seedNum)\n",
    "\n",
    "# Matplotlib default color palette\n",
    "lMatPltLibclr = ['#1f77b4', '#ff7f0e', '#2ca02c', '#d62728', '#9467bd', '#8c564b', '#e377c2', '#7f7f7f', '#bcbd22', '#17becf']\n",
    "# sns.set_theme() #>! Apply SeaBorn theme\n",
    "\n",
    "runInGoogleColab = 'google.colab' in str(get_ipython())"
   ]
  },
  {
   "cell_type": "code",
   "execution_count": null,
   "metadata": {},
   "outputs": [],
   "source": [
    "# Constants\n"
   ]
  },
  {
   "cell_type": "code",
   "execution_count": null,
   "metadata": {},
   "outputs": [],
   "source": [
    "# Course Packages\n"
   ]
  },
  {
   "cell_type": "code",
   "execution_count": null,
   "metadata": {},
   "outputs": [],
   "source": [
    "# General Auxiliary Functions"
   ]
  },
  {
   "cell_type": "markdown",
   "metadata": {},
   "source": [
    "## Python Classes\n",
    "\n",
    "The concept of classes is the core concept of [_Object Oriented Programming_](https://en.wikipedia.org/wiki/Object-oriented_programming).  \n",
    "It merges the concept of data and dedicated functionality on the data.  \n",
    "A class is defined by:\n",
    "\n",
    "1. Constructor    \n",
    "   The parameters / data in order to create the class object.\n",
    "2. Properties / Attributes  \n",
    "   Set of meta data which matches the object state.\n",
    "3. Methods  \n",
    "   Operations which matches the data properties.\n",
    "\n",
    "See:\n",
    " - [Python: How Do I Make a SubClass from a SuperClass](https://stackoverflow.com/questions/1607612).\n",
    " - [Why Is `__init__()` Always Called After `__new__()`](https://stackoverflow.com/questions/674304).\n",
    " - [Why Should I Use `__new__` Instead of `__init__`](https://stackoverflow.com/questions/45450029).\n",
    "\n",
    "* <font color='brown'>(**#**)</font> For deep understanding of the Python language: [Ten Thousand Meters](https://tenthousandmeters.com)."
   ]
  },
  {
   "cell_type": "code",
   "execution_count": null,
   "metadata": {},
   "outputs": [],
   "source": [
    "# Generate a Class\n",
    "\n",
    "class Dog():\n",
    "    def __init__(self, dogName, dogAge, dogWeight) -> None: #<! Constructor\n",
    "        # Read on `__new()__` as well (https://docs.python.org/reference/datamodel.html#object.__new__).\n",
    "\n",
    "        self.dogName    = dogName\n",
    "        self.dogAge     = dogAge\n",
    "        self.dogWeight  = dogWeight\n",
    "        \n",
    "        pass\n",
    "\n",
    "    def MakeNoise(self): #<! Each methods which needs\n",
    "\n",
    "        return \"Woof, Woof!\"\n",
    "    \n",
    "    def EatFood(self, amountFood: float):\n",
    "\n",
    "        self.dogWeight += 0.1 * amountFood\n",
    "    \n",
    "    def CelebrateBirthday(self):\n",
    "\n",
    "        self.dogAge += 1\n",
    "    \n",
    "    def WalkOut(self, walkTime = 1):\n",
    "\n",
    "        self.dogWeight -= 0.05 * walkTime\n"
   ]
  },
  {
   "cell_type": "code",
   "execution_count": null,
   "metadata": {},
   "outputs": [],
   "source": [
    "# Construct the Object\n",
    "\n",
    "oMyDog = Dog(dogName = 'Buff', dogAge = 1, dogWeight = 15)"
   ]
  },
  {
   "cell_type": "code",
   "execution_count": null,
   "metadata": {},
   "outputs": [],
   "source": [
    "# Feed the dog\n",
    "\n",
    "oMyDog.EatFood(1.5) #<! Kilo Gram\n",
    "\n",
    "print(f'The dog, {oMyDog.dogName}, weighs {oMyDog.dogWeight} [Kilo Gram]')"
   ]
  },
  {
   "cell_type": "code",
   "execution_count": null,
   "metadata": {},
   "outputs": [],
   "source": [
    "# Take the dog out\n",
    "\n",
    "oMyDog.WalkOut(2) #<! Hours\n",
    "\n",
    "print(f'The dog, {oMyDog.dogName}, weighs {oMyDog.dogWeight} [Kilo Gram]')"
   ]
  },
  {
   "cell_type": "code",
   "execution_count": null,
   "metadata": {},
   "outputs": [],
   "source": [
    "# Celebrate his birthday\n",
    "\n",
    "oMyDog.CelebrateBirthday()\n",
    "print(f'{oMyDog.dogName} celebrated the age {oMyDog.dogAge} at {time.strftime(\"%d/%m/%Y\")}')"
   ]
  },
  {
   "cell_type": "code",
   "execution_count": null,
   "metadata": {},
   "outputs": [],
   "source": [
    "oMyDog.dogAge += 5"
   ]
  },
  {
   "cell_type": "code",
   "execution_count": null,
   "metadata": {},
   "outputs": [],
   "source": [
    "oMyDog.dogAge"
   ]
  },
  {
   "cell_type": "markdown",
   "metadata": {},
   "source": [
    "### Optimizing for Data\n",
    "\n",
    "Class can assist with the optimization of special cases.  \n",
    "For instance, apply some operations which makes sense for the specific data type.\n",
    "\n",
    "In this section you will build a class for a string of dates.  \n",
    "It should behave like any staring for any operation beside the case of subtracting 2 objects.  \n",
    "In that case, it should output the difference, in days, between the 2 objects."
   ]
  },
  {
   "cell_type": "code",
   "execution_count": null,
   "metadata": {},
   "outputs": [],
   "source": [
    "class DateStr(str):\n",
    "    def __new__(cls, dateDay: int, dateMonth: int, dateYear: int):\n",
    "        # Strings are immutable, hence must use `new`\n",
    "        dateStr = f'{dateDay:02d}/{dateMonth:02d}/{dateYear}'\n",
    "        self = super().__new__(cls, dateStr)\n",
    "\n",
    "        self.dateDay    = dateDay\n",
    "        self.dateMonth  = dateMonth\n",
    "        self.dateYear   = dateYear\n",
    "\n",
    "        return self\n",
    "    \n",
    "    def __sub__(self, other):\n",
    "    # See https://docs.python.org/3.11/reference/datamodel.html#emulating-numeric-types\n",
    "        if (isinstance(other, DateStr)):\n",
    "            sTimeSelf = time.struct_time((self.dateYear, self.dateMonth, self.dateDay, 0, 0, 0, 0, 0, 0))\n",
    "            sTimeOther = time.struct_time((other.dateYear, other.dateMonth, other.dateDay, 0, 0, 0, 0, 0, 0))\n",
    "\n",
    "            # The absolute time difference\n",
    "            return abs((time.mktime(sTimeSelf) - time.mktime(sTimeOther)) / (24 * 3600)) #<! Days\n",
    "        else:\n",
    "            return NotImplemented\n",
    "        "
   ]
  },
  {
   "cell_type": "code",
   "execution_count": null,
   "metadata": {},
   "outputs": [],
   "source": [
    "# Instantiate 2 objects\n",
    "someDate    = DateStr(3, 2, 2024)\n",
    "otherDate   = DateStr(3, 4, 2024)"
   ]
  },
  {
   "cell_type": "code",
   "execution_count": null,
   "metadata": {},
   "outputs": [],
   "source": [
    "# Check the difference\n",
    "otherDate - someDate"
   ]
  },
  {
   "cell_type": "markdown",
   "metadata": {},
   "source": [
    "* <font color='green'>(**@**)</font> Implement a class `DayStr` which is a subclass of `str`.  \n",
    "  Define the method for `DateStr` `__add__` with `DayStr`."
   ]
  },
  {
   "cell_type": "markdown",
   "metadata": {},
   "source": [
    "## The `dataclass` Decorator\n",
    "\n",
    "Some classes can be used mostly to keep the state of an object.  \n",
    "In order to optimize for that case there is the `@dataclass` decorator.\n",
    "\n",
    "See\n",
    " - [What Are Data Classes and How Are They Different from Common Classes](https://stackoverflow.com/questions/47955263).\n",
    " - [When Should I Use `dataclasses` in Python](https://stackoverflow.com/questions/74558619).\n",
    "\n",
    "They can be an alternative to dictionaries when passing a set of parameters to a function."
   ]
  }
 ],
 "metadata": {
  "kernelspec": {
   "display_name": "Python 3",
   "language": "python",
   "name": "python3"
  },
  "language_info": {
   "codemirror_mode": {
    "name": "ipython",
    "version": 3
   },
   "file_extension": ".py",
   "mimetype": "text/x-python",
   "name": "python",
   "nbconvert_exporter": "python",
   "pygments_lexer": "ipython3",
   "version": "3.11.8"
  },
  "toc": {
   "base_numbering": 1,
   "nav_menu": {},
   "number_sections": false,
   "sideBar": true,
   "skip_h1_title": false,
   "title_cell": "Table of Contents",
   "title_sidebar": "Contents",
   "toc_cell": false,
   "toc_position": {},
   "toc_section_display": true,
   "toc_window_display": true
  },
  "varInspector": {
   "cols": {
    "lenName": 16,
    "lenType": 16,
    "lenVar": 40
   },
   "kernels_config": {
    "python": {
     "delete_cmd_postfix": "",
     "delete_cmd_prefix": "del ",
     "library": "var_list.py",
     "varRefreshCmd": "print(var_dic_list())"
    },
    "r": {
     "delete_cmd_postfix": ") ",
     "delete_cmd_prefix": "rm(",
     "library": "var_list.r",
     "varRefreshCmd": "cat(var_dic_list()) "
    }
   },
   "types_to_exclude": [
    "module",
    "function",
    "builtin_function_or_method",
    "instance",
    "_Feature"
   ],
   "window_display": false
  },
  "vscode": {
   "interpreter": {
    "hash": "39577bab1f263e62e0b74f5b8086bd735049bf4751f6562b2d4b2969dc308293"
   }
  }
 },
 "nbformat": 4,
 "nbformat_minor": 4
}
