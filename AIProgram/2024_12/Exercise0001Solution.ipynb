{
 "cells": [
  {
   "attachments": {},
   "cell_type": "markdown",
   "metadata": {},
   "source": [
    "[![Fixel Algorithms](https://i.imgur.com/AqKHVZ0.png)](https://fixelalgorithms.gitlab.io/)\n",
    "\n",
    "# AI Program\n",
    "\n",
    "## Exercise 0001 - Python\n",
    "\n",
    "> Notebook by:\n",
    "> - Royi Avital RoyiAvital@fixelalgorithms.com\n",
    "\n",
    "## Revision History\n",
    "\n",
    "| Version | Date       | User        |Content / Changes                                                   |\n",
    "|---------|------------|-------------|--------------------------------------------------------------------|\n",
    "| 0.1.000 | 22/02/2024 | Royi Avital | First version                                                      |"
   ]
  },
  {
   "attachments": {},
   "cell_type": "markdown",
   "metadata": {},
   "source": [
    "[![Open In Colab](https://colab.research.google.com/assets/colab-badge.svg)](https://colab.research.google.com/github/FixelAlgorithmsTeam/FixelCourses/blob/master/AIProgram/2024_02/Exercise0001.ipynb)"
   ]
  },
  {
   "cell_type": "code",
   "execution_count": null,
   "metadata": {
    "ExecuteTime": {
     "end_time": "2022-02-02T09:30:06.492269Z",
     "start_time": "2022-02-02T09:30:06.220934Z"
    }
   },
   "outputs": [],
   "source": [
    "# Import Packages\n",
    "\n",
    "# General Tools\n",
    "import numpy as np\n",
    "import scipy as sp\n",
    "import pandas as pd\n",
    "\n",
    "from numba import jit, njit\n",
    "\n",
    "# Image Processing\n",
    "\n",
    "# Machine Learning\n",
    "\n",
    "\n",
    "# Miscellaneous\n",
    "import os\n",
    "from platform import python_version\n",
    "import random\n",
    "import timeit\n",
    "\n",
    "# Typing\n",
    "from typing import Callable, Dict, List, Optional, Set, Tuple, Union\n",
    "\n",
    "# Visualization\n",
    "import matplotlib as mpl\n",
    "import matplotlib.pyplot as plt\n",
    "import seaborn as sns\n",
    "\n",
    "# Jupyter\n",
    "from IPython import get_ipython\n",
    "from IPython.display import Image, display\n",
    "from ipywidgets import Dropdown, FloatSlider, interact, IntSlider, Layout"
   ]
  },
  {
   "attachments": {},
   "cell_type": "markdown",
   "metadata": {},
   "source": [
    "## Notations\n",
    "\n",
    "* <font color='red'>(**?**)</font> Question to answer interactively.\n",
    "* <font color='blue'>(**!**)</font> Simple task to add code for the notebook.\n",
    "* <font color='green'>(**@**)</font> Optional / Extra self practice.\n",
    "* <font color='brown'>(**#**)</font> Note / Useful resource / Food for thought.\n",
    "\n",
    "Code Notations:\n",
    "\n",
    "```python\n",
    "someVar    = 2; #<! Notation for a variable\n",
    "vVector    = np.random.rand(4) #<! Notation for 1D array\n",
    "mMatrix    = np.random.rand(4, 3) #<! Notation for 2D array\n",
    "tTensor    = np.random.rand(4, 3, 2, 3) #<! Notation for nD array (Tensor)\n",
    "tuTuple    = (1, 2, 3) #<! Notation for a tuple\n",
    "lList      = [1, 2, 3] #<! Notation for a list\n",
    "dDict      = {1: 3, 2: 2, 3: 1} #<! Notation for a dictionary\n",
    "oObj       = MyClass() #<! Notation for an object\n",
    "dfData     = pd.DataFrame() #<! Notation for a data frame\n",
    "dsData     = pd.Series() #<! Notation for a series\n",
    "hObj       = plt.Axes() #<! Notation for an object / handler / function handler\n",
    "```\n",
    "\n",
    "### Code Exercise\n",
    "\n",
    " - Single line fill\n",
    "\n",
    " ```python\n",
    " vallToFill = ???\n",
    " ```\n",
    "\n",
    " - Multi Line to Fill (At least one)\n",
    "\n",
    " ```python\n",
    " # You need to start writing\n",
    " ????\n",
    " ```\n",
    "\n",
    " - Section to Fill\n",
    "\n",
    "```python\n",
    "#===========================Fill This===========================#\n",
    "# 1. Explanation about what to do.\n",
    "# !! Remarks to follow / take under consideration.\n",
    "mX = ???\n",
    "\n",
    "???\n",
    "#===============================================================#\n",
    "```"
   ]
  },
  {
   "cell_type": "code",
   "execution_count": null,
   "metadata": {},
   "outputs": [],
   "source": [
    "# Configuration\n",
    "# %matplotlib inline\n",
    "\n",
    "seedNum = 512\n",
    "np.random.seed(seedNum)\n",
    "random.seed(seedNum)\n",
    "\n",
    "# sns.set_theme() #>! Apply SeaBorn theme\n",
    "\n",
    "runInGoogleColab = 'google.colab' in str(get_ipython())"
   ]
  },
  {
   "cell_type": "code",
   "execution_count": null,
   "metadata": {},
   "outputs": [],
   "source": [
    "# Constants\n",
    "\n"
   ]
  },
  {
   "cell_type": "code",
   "execution_count": null,
   "metadata": {},
   "outputs": [],
   "source": [
    "# Course Packages\n"
   ]
  },
  {
   "cell_type": "code",
   "execution_count": null,
   "metadata": {},
   "outputs": [],
   "source": [
    "# General Auxiliary Functions\n",
    "\n"
   ]
  },
  {
   "attachments": {},
   "cell_type": "markdown",
   "metadata": {},
   "source": [
    "## Question 001 - Fibonacci Sequence\n",
    "\n",
    "The Fibonacci sequence $\\left\\{ a_{n}\\right\\} _{n=0}^{\\infty}$ is defined by:\n",
    "\n",
    "$$\n",
    "{a}_{n} = \\begin{cases}\n",
    "0 & n = 0 \\\\\n",
    "1 & n = 1 \\\\\n",
    "{a}_{n-1} + {a}_{n-2} & n \\geq 2\n",
    "\\end{cases}\n",
    "$$\n",
    "\n",
    "The first few elements are:\n",
    "\n",
    "$$ 0, 1, 1, 2, 3, 5, 8, 13, 21,\\ldots $$\n",
    "\n",
    "This section implement the function computes the $n$ -th Fibonacci number.\n",
    "It is required to implement the function in 2 flavors:\n",
    "\n",
    "1. Use a recursion.\n",
    "2. Use a `for` loop.\n"
   ]
  },
  {
   "cell_type": "code",
   "execution_count": null,
   "metadata": {},
   "outputs": [],
   "source": [
    "#===========================Fill This===========================#\n",
    "# 1. Implement the `FibonacciRec()` function.\n",
    "# !! Implement using a recursion.\n",
    "\n",
    "def FibonacciRec(n: int) -> int:\n",
    "    \n",
    "    if n <= 1:\n",
    "        return n\n",
    "    \n",
    "    return FibonacciRec(n - 1) + FibonacciRec(n - 2)\n",
    "#===============================================================#"
   ]
  },
  {
   "cell_type": "code",
   "execution_count": null,
   "metadata": {},
   "outputs": [],
   "source": [
    "#===========================Fill This===========================#\n",
    "# 1. Implement the `FibonacciLoop()` function.\n",
    "# !! Implement using a loop.\n",
    "\n",
    "def FibonacciLoop(n: int) -> int:\n",
    "    \n",
    "    if n <= 1:\n",
    "        return n\n",
    "    \n",
    "    n0 = 0\n",
    "    n1 = 1\n",
    "    for ii in range(n - 1):\n",
    "        n1, n0 = n0 + n1, n1\n",
    "        \n",
    "    return n1\n",
    "#===============================================================#"
   ]
  },
  {
   "cell_type": "code",
   "execution_count": null,
   "metadata": {},
   "outputs": [],
   "source": [
    "# Function Verification\n",
    "\n",
    "numNumbers = 15 #<! Don't change\n",
    "\n",
    "lRef = [0, 1, 1, 2, 3, 5, 8, 13, 21, 34, 55, 89, 144, 233, 377] #<! Reference solution\n",
    "lFun = [(FibonacciRec, 'FibonacciRec'), (FibonacciLoop, 'FibonacciLoop')]\n",
    "\n",
    "for hF, funName in lFun:\n",
    "    lAns = [hF(ii) for ii in range(numNumbers)]\n",
    "    \n",
    "    # for ii in range(numNumbers):\n",
    "    #     print(f'The {ii:03d} -th Fibonacci number is given by (According to the answer): {lAns[ii]}')\n",
    "        \n",
    "    if lRef == lAns:\n",
    "        print(f'The {funName} implementation was correct up to the {numNumbers} -th Fibonacci number')\n",
    "    else:\n",
    "        print(f'The {funName} implementation was not correct')"
   ]
  },
  {
   "cell_type": "markdown",
   "metadata": {},
   "source": [
    "## Question 002 - Rotation of 2D Data (Image)\n",
    "\n",
    "In this section we'll create a 2D data and rotate it using a rotation matrix.\n",
    "\n",
    "The data is stored in the matrix `mSmiley` with shape `mSmiley.shape = (2, 180)` (You may want to verify).      \n",
    "In other words $\\mathrm{smiley} \\in \\mathbb{R}^{2 \\times 180}$.  \n",
    "Each column in `mSmiley` is a 2D vector (Point in 2D).\n",
    "\n",
    "Your task is to rotate the 2D data in the array `mSmiley` in $\\theta=30^{\\circ}$.  \n",
    "\n",
    "**Hint**: A $2 \\times 2$ (In 2D) rotation matrix has the following form:\n",
    "\n",
    "$$\\boldsymbol{R} = \\left[\\begin{matrix}\\cos\\left(\\theta\\right) & -\\sin\\left(\\theta\\right)\\\\\n",
    "\\sin\\left(\\theta\\right) & \\cos\\left(\\theta\\right)\n",
    "\\end{matrix}\\right]$$\n",
    "\n",
    "<div class=\"alert alert-danger\">\n",
    "\n",
    "**Tip**\n",
    "\n",
    "* Given a matrix `M` and a vector `v`, the matrix by vector multiplication ($\\boldsymbol{u} = M \\boldsymbol{v}$) is performed using:\n",
    "    \n",
    "```python\n",
    "u = M @ v\n",
    "```\n",
    "\n",
    "* Pay attention to the use of `[Deg]` vs. `[Rad]`.\n",
    "</div>"
   ]
  },
  {
   "cell_type": "code",
   "execution_count": null,
   "metadata": {},
   "outputs": [],
   "source": [
    "# Generate Data (Smiley Face)\n",
    "\n",
    "R    = 1\n",
    "r    = .7\n",
    "ℼ    = np.pi\n",
    "θ    = np.linspace(0, 2 * ℼ, 100, endpoint = False)\n",
    "φ    = np.linspace(-ℼ/4, ℼ/4, 20, endpoint = False) - ℼ/2\n",
    "ball = np.random.randn(30, 2) / 20\n",
    "\n",
    "# See some of NumPy indexing options in https://numpy.org/doc/stable/reference/arrays.indexing.html\n",
    "mFace   = np.c_[R * np.cos(θ), R * np.sin(θ)] #<! Similar to `np.column_stack()`\n",
    "mMouth  = np.c_[r * np.cos(φ), r * np.sin(φ)] #<! Similar to `np.column_stack()`\n",
    "mEyeR   = ball + [0.4, 0.5] #<! Right eye (Viewer PoV)\n",
    "mEyeL   = mEyeR * [-1,  1] #<! Left eye (Viewer PoV)\n",
    "mSmiley = np.concatenate([mFace, mMouth, mEyeR, mEyeL]).T\n",
    "\n",
    "def PlotSmiley(mS: np.ndarray) -> None:\n",
    "    \n",
    "    hF, hA = plt.subplots(figsize = (5, 5)) #<! Generate a figure and an axes\n",
    "    hA.scatter(mS[0, :], mS[1, :], s = 50, c = 'b') #<! Draw on the axes using `scatter()`\n",
    "    hA.axis('equal') #<! Force axis ratio to be 1:1\n"
   ]
  },
  {
   "cell_type": "code",
   "execution_count": null,
   "metadata": {},
   "outputs": [],
   "source": [
    "# Plot the Data\n",
    "\n",
    "PlotSmiley(mSmiley)\n",
    "plt.show() #<! Draw the current canvas buffer (All above is lazy)"
   ]
  },
  {
   "cell_type": "code",
   "execution_count": null,
   "metadata": {},
   "outputs": [],
   "source": [
    "# 2D Rotation Function\n",
    "\n",
    "#===========================Fill This===========================#\n",
    "# 1. Implement the `RotateData2D()` function.\n",
    "# 2. Convert the input rotation parameter from degrees to radians.\n",
    "# 3. Generate the rotation matrix.\n",
    "# 4. Apply rotation to data.\n",
    "\n",
    "def RotateData2D(mA: np.ndarray, θ: float) -> np.ndarray:\n",
    "    \"\"\"\n",
    "    Rotates 2D coordinate data by θ degrees.\n",
    "    Input:\n",
    "        mA          - Matrix (2, numSamples) of the coordinates to rotate.\n",
    "        θ           - The rotation angle [Degrees].\n",
    "    Output:\n",
    "        mB          - Matrix (2, numSamples) of the rotated coordinates.\n",
    "    \"\"\"\n",
    "\n",
    "    θ = np.deg2rad(θ) #<! Convert to radians (Look at edge case at https://stackoverflow.com/a/74270198)\n",
    "\n",
    "    mR = np.array([[np.cos(θ), -np.sin(θ)], [np.sin(θ),  np.cos(θ)]]) #<! Rotation Matrix\n",
    "    \n",
    "    mB = mR @ mA #<! Apply rotation\n",
    "    \n",
    "    return mB\n",
    "#===============================================================#"
   ]
  },
  {
   "cell_type": "code",
   "execution_count": null,
   "metadata": {},
   "outputs": [],
   "source": [
    "# Function Verification\n",
    "\n",
    "θ = 30 #<! [Deg]\n",
    "mSmileyRot = RotateData2D(mSmiley, θ) #<! Rotates data\n",
    "\n",
    "PlotSmiley(mSmileyRot) #<! Displays data\n",
    "plt.show() "
   ]
  },
  {
   "cell_type": "markdown",
   "metadata": {},
   "source": [
    "* <font color='green'>(**@**)</font> Add an interactive slider to control $\\theta$.  \n",
    "  You may look at previous notebooks for a code sample.\n",
    "* <font color='green'>(**@**)</font> Draw a nose."
   ]
  },
  {
   "cell_type": "markdown",
   "metadata": {},
   "source": [
    "## Question 003 - Estimating $\\pi$ Using Monte Carlo Simulation\n",
    "\n",
    "The unit radius ($r = 1$) circle is enclosed by a square with an edge length of $2$.  \n",
    "The area of the circle is simple $\\pi {r}^{2} = \\pi$. The area of the square is $4$.  \n"
   ]
  },
  {
   "cell_type": "code",
   "execution_count": null,
   "metadata": {},
   "outputs": [],
   "source": [
    "hF, hA = plt.subplots(figsize = (8, 8))\n",
    "\n",
    "patchSquare = plt.Rectangle((-1.0, -1.0), width = 2.0, height = 2.0, color = 'r', lw = 2, fill = False, label = 'Square')\n",
    "patchCircle = plt.Circle((0.0, 0.0), 1.0, color = 'b', lw = 2, fill = False, label = 'Unit Circle')\n",
    "\n",
    "hA.add_patch(patchSquare)\n",
    "hA.add_patch(patchCircle)\n",
    "hA.axis('equal')\n",
    "hA.grid(True)\n",
    "hA.set_xlim((-1.2, 1.2))\n",
    "hA.set_ylim((-1.2, 1.2));\n",
    "# hA.legend()"
   ]
  },
  {
   "cell_type": "markdown",
   "metadata": {},
   "source": [
    "Looking ath the quarter ${\\left[ 0, 1 \\right]}^{2}$, the quarter of the square has an area of $1$ and the quarter of the circle has an area of $\\frac{\\pi}{4}$. "
   ]
  },
  {
   "cell_type": "code",
   "execution_count": null,
   "metadata": {},
   "outputs": [],
   "source": [
    "hF, hA = plt.subplots(figsize = (8, 8))\n",
    "\n",
    "patchSquare = plt.Rectangle((-1.0, -1.0), width = 2.0, height = 2.0, color = 'r', lw = 2, fill = False, label = 'Square')\n",
    "patchCircle = plt.Circle((0.0, 0.0), 1.0, color = 'b', lw = 2, fill = False, label = 'Unit Circle')\n",
    "\n",
    "hA.add_patch(patchSquare)\n",
    "hA.add_patch(patchCircle)\n",
    "hA.axis('equal')\n",
    "hA.grid(True)\n",
    "hA.set_xlim((0.0, 1.2))\n",
    "hA.set_ylim((0.0, 1.2));"
   ]
  },
  {
   "cell_type": "markdown",
   "metadata": {},
   "source": [
    "If one, randomly, sample points, the ratio of the points within the circle to the total points is $\\frac{\\pi}{4}$.  \n",
    "Hence, using a random number generator one can estimate $\\pi$ by the following steps.\n",
    "\n",
    "1. set `cntIn = 0`\n",
    "2. For `ii = 1,2,3,...,N`:  \n",
    "    2.1 Sample a point $\\boldsymbol{x} \\sim U {\\left[ 0, 1\\right]}^{2}$.  \n",
    "    2.2 If ${\\left\\| \\boldsymbol{x} \\right\\|}_{2} \\leq 1$ then `cntIn ← cntIn + 1`.\n",
    "3. set $\\hat{\\pi} = 4 \\frac{\\texttt{cntIn}}{N}$\n",
    "\n",
    "* <font color='brown'>(**#**)</font> Use `numpy.random.rand()` to draw numbers between 0 and 1."
   ]
  },
  {
   "cell_type": "code",
   "execution_count": null,
   "metadata": {},
   "outputs": [],
   "source": [
    "# Calculate Pi\n",
    "\n",
    "#===========================Fill This===========================#\n",
    "# 1. Implement the `EstimatePi()` function.\n",
    "# !! Try to implement without loops.\n",
    "\n",
    "def EstimatePi(numSamples: int) -> float:\n",
    "    \n",
    "    cntIn = 0\n",
    "    for ii in range(numSamples):\n",
    "        vX = np.random.rand(2)\n",
    "        if np.linalg.norm(vX) <= 1:\n",
    "            cntIn += 1\n",
    "    return 4 * (cntIn / numSamples)\n",
    "\n",
    "#===============================================================#"
   ]
  },
  {
   "cell_type": "code",
   "execution_count": null,
   "metadata": {},
   "outputs": [],
   "source": [
    "# Calculate Pi\n",
    "\n",
    "#===========================Fill This===========================#\n",
    "# 1. Implement the `EstimatePi()` function.\n",
    "# !! Try to implement without loops.\n",
    "\n",
    "def EstimatePi(numSamples: int) -> float:\n",
    "    \n",
    "    mS = np.random.rand(2, numSamples)\n",
    "    mS = np.square(mS, out = mS)\n",
    "    cntIn = np.sum(np.sum(mS, axis = 0) <= 1)\n",
    "    \n",
    "    return 4 * (cntIn / numSamples)\n",
    "\n",
    "#===============================================================#"
   ]
  },
  {
   "cell_type": "code",
   "execution_count": null,
   "metadata": {},
   "outputs": [],
   "source": [
    "# Function Validation\n",
    "\n",
    "numSamples = 1_000_000 #<! In Python `_` are ignored in literal numbers\n",
    "\n",
    "print(f'Monte Carlo Estimation: ℼ = {EstimatePi(numSamples)}')\n",
    "print(f'Reference             : ℼ = {np.pi}')"
   ]
  },
  {
   "cell_type": "markdown",
   "metadata": {},
   "source": [
    "## Question 004 - Plot Data\n",
    "\n",
    "Create a figure with the following curves:\n",
    "\n",
    "1. $f \\left( x \\right) = \\frac{1}{4} {x}^{2}$.\n",
    "2. $f \\left( x \\right) = \\max \\left\\{ 0, x \\right\\}$.\n",
    "3. $f\\left( x \\right) = \\sin \\left( x \\right)$.\n",
    "4. ${x}^{2} + {y}^{2} = 1$\n",
    "\n",
    "Make sure you:\n",
    "\n",
    "* Add labels to the axes.\n",
    "* Add a legend.\n",
    "* Add a title.\n",
    "\n",
    "**Extra:** Make each curve in a sub plot."
   ]
  },
  {
   "cell_type": "code",
   "execution_count": null,
   "metadata": {},
   "outputs": [],
   "source": [
    "# Plot Functions\n",
    "\n",
    "#===========================Fill This===========================#\n",
    "\n",
    "# Data\n",
    "\n",
    "numPts = 1001\n",
    "vX = np.linspace(-ℼ, ℼ, numPts)\n",
    "\n",
    "#===============================================================#"
   ]
  },
  {
   "cell_type": "code",
   "execution_count": null,
   "metadata": {},
   "outputs": [],
   "source": [
    "lD = [(lambda vX: vX, lambda vX: np.square(vX) / 4, '$\\\\frac{1}{4}x^2$'),\n",
    "      (lambda vX: vX, lambda vX: np.maximum(0, vX), '$\\max\\{0, x\\}$'),\n",
    "      (lambda vX: vX, lambda vX: np.sin(vX), '$\\sin(x)$'),\n",
    "      (lambda vX: np.cos(vX), lambda vX: np.sin(vX), '${{x}}^{{2}} + {{y}}^{{2}} = 1$')]"
   ]
  },
  {
   "cell_type": "code",
   "execution_count": null,
   "metadata": {},
   "outputs": [],
   "source": [
    "# Single Plot\n",
    "hF, hA = plt.subplots(figsize = (8, 6))\n",
    "\n",
    "for ii, (hFx, hFy, funLabel) in enumerate(lD):\n",
    "    hA.plot(hFx(vX), hFy(vX), label = funLabel)\n",
    "\n",
    "hA.axis('equal')\n",
    "hA.set_xlabel('$x$')\n",
    "hA.set_ylabel('$y$')\n",
    "hA.set_title('Plots')\n",
    "\n",
    "hA.legend()\n",
    "\n",
    "plt.show()"
   ]
  },
  {
   "cell_type": "code",
   "execution_count": null,
   "metadata": {},
   "outputs": [],
   "source": [
    "# Sub Plots\n",
    "hF, hA = plt.subplots(nrows = 2, ncols = 2, figsize = (10, 10))\n",
    "\n",
    "for ii, (hFx, hFy, funLabel) in enumerate(lD):\n",
    "    hAA = hA.flat[ii]\n",
    "    hAA.plot(hFx(vX), hFy(vX), label = funLabel)\n",
    "    hAA.set_title(f'Function Plot: {funLabel}')\n",
    "    hAA.axis('equal')\n",
    "    hAA.set_xlabel('$x$')\n",
    "    hAA.set_ylabel('$y$')\n",
    "\n",
    "plt.show()"
   ]
  }
 ],
 "metadata": {
  "kernelspec": {
   "display_name": "Python 3",
   "language": "python",
   "name": "python3"
  },
  "language_info": {
   "codemirror_mode": {
    "name": "ipython",
    "version": 3
   },
   "file_extension": ".py",
   "mimetype": "text/x-python",
   "name": "python",
   "nbconvert_exporter": "python",
   "pygments_lexer": "ipython3",
   "version": "3.11.8"
  },
  "toc": {
   "base_numbering": 1,
   "nav_menu": {},
   "number_sections": false,
   "sideBar": true,
   "skip_h1_title": false,
   "title_cell": "Table of Contents",
   "title_sidebar": "Contents",
   "toc_cell": false,
   "toc_position": {},
   "toc_section_display": true,
   "toc_window_display": true
  },
  "varInspector": {
   "cols": {
    "lenName": 16,
    "lenType": 16,
    "lenVar": 40
   },
   "kernels_config": {
    "python": {
     "delete_cmd_postfix": "",
     "delete_cmd_prefix": "del ",
     "library": "var_list.py",
     "varRefreshCmd": "print(var_dic_list())"
    },
    "r": {
     "delete_cmd_postfix": ") ",
     "delete_cmd_prefix": "rm(",
     "library": "var_list.r",
     "varRefreshCmd": "cat(var_dic_list()) "
    }
   },
   "types_to_exclude": [
    "module",
    "function",
    "builtin_function_or_method",
    "instance",
    "_Feature"
   ],
   "window_display": false
  },
  "vscode": {
   "interpreter": {
    "hash": "39577bab1f263e62e0b74f5b8086bd735049bf4751f6562b2d4b2969dc308293"
   }
  }
 },
 "nbformat": 4,
 "nbformat_minor": 4
}
