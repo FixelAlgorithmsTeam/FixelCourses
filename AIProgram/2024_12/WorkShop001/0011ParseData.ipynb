{
 "cells": [
  {
   "attachments": {},
   "cell_type": "markdown",
   "metadata": {},
   "source": [
    "[![Fixel Algorithms](https://i.imgur.com/AqKHVZ0.png)](https://fixelalgorithms.gitlab.io)\n",
    "\n",
    "# AI Program\n",
    "\n",
    "## Machine Learning - Deep Learning - Object Detection (Satellite Object Detection)\n",
    "\n",
    "Working on data from [MAFAT Challenge - Satellite Vision Challenge](https://codalab.lisn.upsaclay.fr/competitions/9603).\n",
    "\n",
    "> Notebook by:\n",
    "> - Royi Avital RoyiAvital@fixelalgorithms.com\n",
    "\n",
    "## Revision History\n",
    "\n",
    "| Version | Date       | User        |Content / Changes                                                   |\n",
    "|---------|------------|-------------|--------------------------------------------------------------------|\n",
    "| 1.0.000 | 14/07/2025 | Royi Avital | First version                                                      |"
   ]
  },
  {
   "attachments": {},
   "cell_type": "markdown",
   "metadata": {},
   "source": [
    "[![Open In Colab](https://colab.research.google.com/assets/colab-badge.svg)](https://colab.research.google.com/github/FixelAlgorithmsTeam/FixelCourses/blob/master/AIProgram/2024_02/0099DeepLearningObjectDetection.ipynb)"
   ]
  },
  {
   "cell_type": "code",
   "execution_count": null,
   "metadata": {
    "ExecuteTime": {
     "end_time": "2022-02-02T09:30:06.492269Z",
     "start_time": "2022-02-02T09:30:06.220934Z"
    }
   },
   "outputs": [],
   "source": [
    "# Import Packages\n",
    "\n",
    "# General Tools\n",
    "import numpy as np\n",
    "import scipy as sp\n",
    "import pandas as pd\n",
    "\n",
    "# Machine Learning\n",
    "\n",
    "# Deep Learning\n",
    "\n",
    "# Image Processing and Computer Vision\n",
    "import skimage as ski\n",
    "\n",
    "# Miscellaneous\n",
    "from enum import auto, Enum, unique\n",
    "import math\n",
    "import os\n",
    "from platform import python_version\n",
    "import random\n",
    "import shutil\n",
    "\n",
    "# Typing\n",
    "from typing import Callable, Dict, Generator, List, Literal, Optional, Self, Set, Tuple, Union\n",
    "\n",
    "# Visualization\n",
    "import matplotlib as mpl\n",
    "import matplotlib.pyplot as plt\n",
    "import seaborn as sns\n",
    "\n",
    "# Jupyter\n",
    "from IPython import get_ipython"
   ]
  },
  {
   "attachments": {},
   "cell_type": "markdown",
   "metadata": {},
   "source": [
    "## Notations\n",
    "\n",
    "* <font color='red'>(**?**)</font> Question to answer interactively.\n",
    "* <font color='blue'>(**!**)</font> Simple task to add code for the notebook.\n",
    "* <font color='green'>(**@**)</font> Optional / Extra self practice.\n",
    "* <font color='brown'>(**#**)</font> Note / Useful resource / Food for thought.\n",
    "\n",
    "Code Notations:\n",
    "\n",
    "```python\n",
    "someVar    = 2; #<! Notation for a variable\n",
    "vVector    = np.random.rand(4) #<! Notation for 1D array\n",
    "mMatrix    = np.random.rand(4, 3) #<! Notation for 2D array\n",
    "tTensor    = np.random.rand(4, 3, 2, 3) #<! Notation for nD array (Tensor)\n",
    "tuTuple    = (1, 2, 3) #<! Notation for a tuple\n",
    "lList      = [1, 2, 3] #<! Notation for a list\n",
    "dDict      = {1: 3, 2: 2, 3: 1} #<! Notation for a dictionary\n",
    "oObj       = MyClass() #<! Notation for an object\n",
    "dfData     = pd.DataFrame() #<! Notation for a data frame\n",
    "dsData     = pd.Series() #<! Notation for a series\n",
    "hObj       = plt.Axes() #<! Notation for an object / handler / function handler\n",
    "```\n",
    "\n",
    "### Code Exercise\n",
    "\n",
    " - Single line fill\n",
    "\n",
    "```python\n",
    "valToFill = ???\n",
    "```\n",
    "\n",
    " - Multi Line to Fill (At least one)\n",
    "\n",
    "```python\n",
    "# You need to start writing\n",
    "?????\n",
    "```\n",
    "\n",
    " - Section to Fill\n",
    "\n",
    "```python\n",
    "#===========================Fill This===========================#\n",
    "# 1. Explanation about what to do.\n",
    "# !! Remarks to follow / take under consideration.\n",
    "mX = ???\n",
    "\n",
    "?????\n",
    "#===============================================================#\n",
    "```"
   ]
  },
  {
   "cell_type": "code",
   "execution_count": null,
   "metadata": {},
   "outputs": [],
   "source": [
    "# Configuration\n",
    "# %matplotlib inline\n",
    "\n",
    "seedNum = 512\n",
    "np.random.seed(seedNum)\n",
    "random.seed(seedNum)\n",
    "\n",
    "# Matplotlib default color palette\n",
    "lMatPltLibclr = ['#1f77b4', '#ff7f0e', '#2ca02c', '#d62728', '#9467bd', '#8c564b', '#e377c2', '#7f7f7f', '#bcbd22', '#17becf']\n",
    "# sns.set_theme() #>! Apply SeaBorn theme\n",
    "\n",
    "runInGoogleColab = 'google.colab' in str(get_ipython())"
   ]
  },
  {
   "cell_type": "code",
   "execution_count": null,
   "metadata": {},
   "outputs": [],
   "source": [
    "# Constants\n",
    "\n",
    "TEST_FOLDER_NAME  = 'Test'\n",
    "TRAIN_FOLDER_NAME = 'Train'\n",
    "VAL_FOLDER_NAME   = 'Validation'"
   ]
  },
  {
   "cell_type": "code",
   "execution_count": null,
   "metadata": {},
   "outputs": [],
   "source": [
    "# Download Auxiliary Modules for Google Colab\n"
   ]
  },
  {
   "cell_type": "code",
   "execution_count": null,
   "metadata": {},
   "outputs": [],
   "source": [
    "# Courses Packages\n",
    "\n",
    "from AuxFun import BBoxFormat\n",
    "from AuxFun import ConvertBBoxFormat"
   ]
  },
  {
   "cell_type": "code",
   "execution_count": null,
   "metadata": {},
   "outputs": [],
   "source": [
    "# General Auxiliary Functions\n"
   ]
  },
  {
   "cell_type": "code",
   "execution_count": null,
   "metadata": {},
   "outputs": [],
   "source": [
    "# Auxiliary Functions\n",
    "\n",
    "def ParsePolygonFile(filePath: str) -> Optional[List[Tuple[List[float], str]]]:\n",
    "    \"\"\"\n",
    "    Parses a polygon annotation file where each line has the format:\n",
    "        x1 y1 x2 y2 x3 y3 x4 y4 className\n",
    "\n",
    "    Parameters\n",
    "    ----------\n",
    "    filePath : str\n",
    "        Path to the annotation text file.\n",
    "\n",
    "    Returns\n",
    "    -------\n",
    "    List[Tuple[List[float], str]] or None\n",
    "        A list where each item is a tuple:\n",
    "            ([x1, y1, x2, y2, x3, y3, x4, y4], className)\n",
    "        or None if the file is empty.\n",
    "    \"\"\"\n",
    "    parsed_data = []\n",
    "\n",
    "    with open(filePath, 'r') as file:\n",
    "        for line in file:\n",
    "            line = line.strip()\n",
    "            if not line:\n",
    "                continue  # Skip empty lines\n",
    "\n",
    "            parts = line.split()\n",
    "            if len(parts) < 9:\n",
    "                raise ValueError(f\"Invalid format: line does not contain 8 coordinates and a class name: {line}\")\n",
    "\n",
    "            coords = list(map(float, parts[:8]))\n",
    "            className = parts[8]\n",
    "            parsed_data.append((coords, className))\n",
    "\n",
    "    return parsed_data if parsed_data else None\n"
   ]
  },
  {
   "cell_type": "code",
   "execution_count": null,
   "metadata": {},
   "outputs": [],
   "source": [
    "# Parameters \n",
    "\n",
    "tuImgSize = (1280, 1280)\n",
    "\n",
    "dClass = {\n",
    "    'small_vehicle': 0,\n",
    "    'medium_vehicle': 1,\n",
    "    'large_vehicle': 2,\n",
    "    'bus': 3,\n",
    "    'double_trailer_truck': 4,\n",
    "    'container': 5,\n",
    "    'heavy_equipment': 6,\n",
    "    'pylon': 7,\n",
    "    'small_aircraft': 8,\n",
    "    'large_aircraft': 9,\n",
    "    'small_vessel': 10,\n",
    "    'medium_vessel': 11,\n",
    "    'large_vessel': 12,\n",
    "}\n",
    "\n",
    "dataFileUrl = r'https://technionmail-my.sharepoint.com/:u:/g/personal/royia_technion_ac_il/EQekWAqWVFdEkiKUW1L6MzcB3Cw0dxYazr0uJvuv4tFM3g?e=WzOjN2' #<! Course OneDrive"
   ]
  },
  {
   "cell_type": "code",
   "execution_count": null,
   "metadata": {},
   "outputs": [],
   "source": [
    "# Paths\n",
    "\n",
    "dataFolderPath = os.path.join('Data')\n",
    "imgFolderPath = os.path.join(dataFolderPath, 'RAW', 'Images')\n",
    "lblFolderPath = os.path.join(dataFolderPath, 'RAW', 'Labels')\n",
    "\n",
    "yoloImagesFolderPath = os.path.join(dataFolderPath, 'images')\n",
    "yoloLabelsFolderPath = os.path.join(dataFolderPath, 'labels')"
   ]
  },
  {
   "cell_type": "code",
   "execution_count": null,
   "metadata": {},
   "outputs": [],
   "source": [
    "# Image Files\n",
    "lFiles        = os.listdir(imgFolderPath)\n",
    "lImgFiles     = [fileName for fileName in lFiles if fileName.endswith('tiff')]\n",
    "\n",
    "lImgFilesBaseName = [os.path.splitext(fileName)[0] for fileName in lImgFiles]\n",
    "lImgFilesBaseName"
   ]
  },
  {
   "cell_type": "code",
   "execution_count": null,
   "metadata": {},
   "outputs": [],
   "source": [
    "lFiles    = os.listdir(lblFolderPath)\n",
    "lLblFiles = [fileName for fileName in lFiles if fileName.endswith('txt')]\n",
    "lLblFilesBaseName = [os.path.splitext(fileName)[0] for fileName in lLblFiles]\n",
    "lLblFilesBaseName"
   ]
  },
  {
   "cell_type": "code",
   "execution_count": null,
   "metadata": {},
   "outputs": [],
   "source": [
    "# Set Intersection\n",
    "\n",
    "dImgFiles = set(lImgFilesBaseName)\n",
    "dLblFiles = set(lLblFilesBaseName)\n",
    "\n",
    "dLblFiles == dImgFiles"
   ]
  },
  {
   "cell_type": "code",
   "execution_count": null,
   "metadata": {},
   "outputs": [],
   "source": [
    "# Sort to match order\n",
    "lImgFiles.sort()\n",
    "lLblFiles.sort()"
   ]
  },
  {
   "cell_type": "code",
   "execution_count": null,
   "metadata": {},
   "outputs": [],
   "source": [
    "# Folders\n",
    "\n",
    "yoloImagesFolderPath = os.path.join(dataFolderPath, 'images')\n",
    "yoloLabelsFolderPath = os.path.join(dataFolderPath, 'labels')\n",
    "\n",
    "# Clean Images folder\n",
    "if os.path.isdir(yoloImagesFolderPath):\n",
    "    shutil.rmtree(yoloImagesFolderPath) \n",
    "\n",
    "# Clean Labels folder\n",
    "if os.path.isdir(yoloLabelsFolderPath):\n",
    "    shutil.rmtree(yoloLabelsFolderPath) \n",
    "\n",
    "os.makedirs(os.path.join(yoloImagesFolderPath, TRAIN_FOLDER_NAME))\n",
    "os.makedirs(os.path.join(yoloImagesFolderPath, VAL_FOLDER_NAME))\n",
    "os.makedirs(os.path.join(yoloLabelsFolderPath, TRAIN_FOLDER_NAME))\n",
    "os.makedirs(os.path.join(yoloLabelsFolderPath, VAL_FOLDER_NAME))"
   ]
  },
  {
   "cell_type": "code",
   "execution_count": null,
   "metadata": {},
   "outputs": [],
   "source": [
    "# Generate Labels\n",
    "\n",
    "lValidImg = []\n",
    "\n",
    "for ii, fileName in enumerate(lLblFiles):\n",
    "    filePath = os.path.join(lblFolderPath, fileName)\n",
    "    lFileData = ParsePolygonFile(filePath)\n",
    "    if lFileData is None:\n",
    "        lValidImg.append(False)\n",
    "        continue\n",
    "\n",
    "    lValidImg.append(True)\n",
    "    with open(os.path.join(yoloLabelsFolderPath, fileName), 'w') as hFile:\n",
    "\n",
    "        for tuPolygon in lFileData:\n",
    "            lCoord = tuPolygon[0] #<! (x1, y1, x2, y2, x3, y3, x4, y4)\n",
    "            xMin = np.min(lCoord[0::2])\n",
    "            xMax = np.max(lCoord[0::2])\n",
    "            yMin = np.min(lCoord[1::2])\n",
    "            yMax = np.max(lCoord[1::2])\n",
    "\n",
    "            vBox = np.array([xMin, yMin, xMax, yMax])\n",
    "\n",
    "            vB = ConvertBBoxFormat(vBox, tuImgSize, BBoxFormat.PASCAL_VOC, BBoxFormat.YOLO)\n",
    "\n",
    "            lineStr = f'{dClass[tuPolygon[1]]} {vB[0]:0.3f} {vB[1]:0.3f} {vB[2]:0.3f} {vB[3]:0.3f}\\n'\n",
    "\n",
    "            hFile.write(lineStr)"
   ]
  },
  {
   "cell_type": "code",
   "execution_count": null,
   "metadata": {},
   "outputs": [],
   "source": [
    "# Generate Images\n",
    "\n",
    "for ii, fileName in enumerate(lImgFiles):\n",
    "    print(f'Processing image #{(ii + 1):004} / {len(lImgFiles)}')\n",
    "    if not lValidImg[ii]:\n",
    "        continue\n",
    "    filePath = os.path.join(imgFolderPath, fileName)\n",
    "    fileNameBase = os.path.splitext(fileName)[0]\n",
    "    \n",
    "    mI = ski.io.imread(filePath)\n",
    "    mI = ski.util.img_as_float64(mI)\n",
    "    if np.ndim(mI) == 2:\n",
    "        mI = mI[:, :, None]\n",
    "    if np.size(mI, 2) == 1:\n",
    "        mI = np.tile(mI, (1, 1, 3))\n",
    "    mI = ski.exposure.rescale_intensity(mI)\n",
    "    mI = ski.util.img_as_ubyte(mI)\n",
    "\n",
    "    ski.io.imsave(os.path.join(yoloImagesFolderPath, fileNameBase + '.png'), mI)"
   ]
  }
 ],
 "metadata": {
  "kernelspec": {
   "display_name": "Python 3",
   "language": "python",
   "name": "python3"
  },
  "language_info": {
   "codemirror_mode": {
    "name": "ipython",
    "version": 3
   },
   "file_extension": ".py",
   "mimetype": "text/x-python",
   "name": "python",
   "nbconvert_exporter": "python",
   "pygments_lexer": "ipython3",
   "version": "3.13.5"
  },
  "toc": {
   "base_numbering": 1,
   "nav_menu": {},
   "number_sections": false,
   "sideBar": true,
   "skip_h1_title": false,
   "title_cell": "Table of Contents",
   "title_sidebar": "Contents",
   "toc_cell": false,
   "toc_position": {},
   "toc_section_display": true,
   "toc_window_display": true
  },
  "varInspector": {
   "cols": {
    "lenName": 16,
    "lenType": 16,
    "lenVar": 40
   },
   "kernels_config": {
    "python": {
     "delete_cmd_postfix": "",
     "delete_cmd_prefix": "del ",
     "library": "var_list.py",
     "varRefreshCmd": "print(var_dic_list())"
    },
    "r": {
     "delete_cmd_postfix": ") ",
     "delete_cmd_prefix": "rm(",
     "library": "var_list.r",
     "varRefreshCmd": "cat(var_dic_list()) "
    }
   },
   "types_to_exclude": [
    "module",
    "function",
    "builtin_function_or_method",
    "instance",
    "_Feature"
   ],
   "window_display": false
  },
  "vscode": {
   "interpreter": {
    "hash": "39577bab1f263e62e0b74f5b8086bd735049bf4751f6562b2d4b2969dc308293"
   }
  }
 },
 "nbformat": 4,
 "nbformat_minor": 4
}
