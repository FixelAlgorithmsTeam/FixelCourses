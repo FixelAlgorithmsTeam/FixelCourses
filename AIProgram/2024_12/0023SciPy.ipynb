{
 "cells": [
  {
   "attachments": {},
   "cell_type": "markdown",
   "metadata": {},
   "source": [
    "[![Fixel Algorithms](https://i.imgur.com/AqKHVZ0.png)](https://fixelalgorithms.gitlab.io)\n",
    "\n",
    "# AI Program\n",
    "\n",
    "## Scientific Python - SciPy\n",
    "\n",
    "> Notebook by:\n",
    "> - Royi Avital RoyiAvital@fixelalgorithms.com\n",
    "\n",
    "## Revision History\n",
    "\n",
    "| Version | Date       | User        |Content / Changes                                                   |\n",
    "|---------|------------|-------------|--------------------------------------------------------------------|\n",
    "| 0.1.001 | 25/02/2024 | Royi Avital | Added assertion to verify the sign at the edges of the segment     |\n",
    "| 0.1.001 | 25/02/2024 | Royi Avital | Added horizontal line at $0$ to the function                       |\n",
    "| 0.1.000 | 16/02/2024 | Royi Avital | First version                                                      |"
   ]
  },
  {
   "attachments": {},
   "cell_type": "markdown",
   "metadata": {},
   "source": [
    "[![Open In Colab](https://colab.research.google.com/assets/colab-badge.svg)](https://colab.research.google.com/github/FixelAlgorithmsTeam/FixelCourses/blob/master/AIProgram/2024_02/0022SciPy.ipynb)"
   ]
  },
  {
   "cell_type": "code",
   "execution_count": null,
   "metadata": {
    "ExecuteTime": {
     "end_time": "2022-02-02T09:30:06.492269Z",
     "start_time": "2022-02-02T09:30:06.220934Z"
    }
   },
   "outputs": [],
   "source": [
    "# Import Packages\n",
    "\n",
    "# General Tools\n",
    "import numpy as np\n",
    "import scipy as sp\n",
    "import pandas as pd\n",
    "\n",
    "from numba import jit, njit\n",
    "\n",
    "# Image Processing\n",
    "\n",
    "# Machine Learning\n",
    "\n",
    "\n",
    "# Miscellaneous\n",
    "import os\n",
    "from platform import python_version\n",
    "import random\n",
    "import timeit\n",
    "\n",
    "# Typing\n",
    "from typing import Callable, List, Tuple, Union\n",
    "\n",
    "# Visualization\n",
    "import matplotlib as mpl\n",
    "import matplotlib.pyplot as plt\n",
    "import seaborn as sns\n",
    "\n",
    "# Jupyter\n",
    "from IPython import get_ipython\n",
    "from IPython.display import Image, display\n",
    "from ipywidgets import Dropdown, FloatSlider, interact, IntSlider, Layout"
   ]
  },
  {
   "attachments": {},
   "cell_type": "markdown",
   "metadata": {},
   "source": [
    "## Notations\n",
    "\n",
    "* <font color='red'>(**?**)</font> Question to answer interactively.\n",
    "* <font color='blue'>(**!**)</font> Simple task to add code for the notebook.\n",
    "* <font color='green'>(**@**)</font> Optional / Extra self practice.\n",
    "* <font color='brown'>(**#**)</font> Note / Useful resource / Food for thought.\n",
    "\n",
    "Code Notations:\n",
    "\n",
    "```python\n",
    "someVar    = 2; #<! Notation for a variable\n",
    "vVector    = np.random.rand(4) #<! Notation for 1D array\n",
    "mMatrix    = np.random.rand(4, 3) #<! Notation for 2D array\n",
    "tTensor    = np.random.rand(4, 3, 2, 3) #<! Notation for nD array (Tensor)\n",
    "tuTuple    = (1, 2, 3) #<! Notation for a tuple\n",
    "lList      = [1, 2, 3] #<! Notation for a list\n",
    "dDict      = {1: 3, 2: 2, 3: 1} #<! Notation for a dictionary\n",
    "oObj       = MyClass() #<! Notation for an object\n",
    "dfData     = pd.DataFrame() #<! Notation for a data frame\n",
    "dsData     = pd.Series() #<! Notation for a series\n",
    "hObj       = plt.Axes() #<! Notation for an object / handler / function handler\n",
    "```\n",
    "\n",
    "### Code Exercise\n",
    "\n",
    " - Single line fill\n",
    "\n",
    " ```python\n",
    " vallToFill = ???\n",
    " ```\n",
    "\n",
    " - Multi Line to Fill (At least one)\n",
    "\n",
    " ```python\n",
    " # You need to start writing\n",
    " ????\n",
    " ```\n",
    "\n",
    " - Section to Fill\n",
    "\n",
    "```python\n",
    "#===========================Fill This===========================#\n",
    "# 1. Explanation about what to do.\n",
    "# !! Remarks to follow / take under consideration.\n",
    "mX = ???\n",
    "\n",
    "???\n",
    "#===============================================================#\n",
    "```"
   ]
  },
  {
   "cell_type": "code",
   "execution_count": null,
   "metadata": {},
   "outputs": [],
   "source": [
    "# Configuration\n",
    "# %matplotlib inline\n",
    "\n",
    "seedNum = 512\n",
    "np.random.seed(seedNum)\n",
    "random.seed(seedNum)\n",
    "\n",
    "# Matplotlib default color palette\n",
    "lMatPltLibclr = ['#1f77b4', '#ff7f0e', '#2ca02c', '#d62728', '#9467bd', '#8c564b', '#e377c2', '#7f7f7f', '#bcbd22', '#17becf']\n",
    "# sns.set_theme() #>! Apply SeaBorn theme\n",
    "\n",
    "runInGoogleColab = 'google.colab' in str(get_ipython())"
   ]
  },
  {
   "cell_type": "code",
   "execution_count": null,
   "metadata": {},
   "outputs": [],
   "source": [
    "# Constants\n",
    "\n",
    "FIG_SIZE_DEF    = (8, 8)\n",
    "ELM_SIZE_DEF    = 50\n",
    "CLASS_COLOR     = ('b', 'r')\n",
    "EDGE_COLOR      = 'k'\n",
    "MARKER_SIZE_DEF = 10\n",
    "LINE_WIDTH_DEF  = 2"
   ]
  },
  {
   "cell_type": "code",
   "execution_count": null,
   "metadata": {},
   "outputs": [],
   "source": [
    "# Course Packages\n"
   ]
  },
  {
   "cell_type": "code",
   "execution_count": null,
   "metadata": {},
   "outputs": [],
   "source": [
    "# General Auxiliary Functions\n",
    "\n",
    "@njit\n",
    "def Sign( valX: Union[int, float] ) -> int:\n",
    "    # Read about Python's missing `sign()` function: https://stackoverflow.com/questions/1986152\n",
    "    # Some implementation notes: https://note.nkmk.me/en/python-sign-copysign\n",
    "\n",
    "    return (valX > 0) - (valX < 0)\n",
    "\n"
   ]
  },
  {
   "attachments": {},
   "cell_type": "markdown",
   "metadata": {},
   "source": [
    "## SciPy\n",
    "\n",
    "SciPy is the _scientific_ / _technical_ _computing_ in the _Python_ eco system.  \n",
    "It is composed of a different sub packages and strongly relies on _NumPy_.\n",
    "\n",
    "This _notebook_ exercises some SciPy's capabilities.  \n",
    "\n",
    "* <font color='brown'>(**#**)</font> [SciPy User Guide](https://docs.scipy.org/doc/scipy/tutorial/index.html).\n",
    "* <font color='brown'>(**#**)</font> [For performance measurement the package [`timeit`](https://docs.python.org/3/library/timeit.html) or the `%timeit` magic will be used].\n",
    "* <font color='brown'>(**#**)</font> For visualization the package [Matplotlib](https://github.com/matplotlib/matplotlib) will be used.\n",
    "* <font color='brown'>(**#**)</font> For acceleration the package [Numba](https://github.com/numba/numba) will be used."
   ]
  },
  {
   "cell_type": "markdown",
   "metadata": {},
   "source": [
    "## Finding a Root of a Function\n",
    "\n",
    "The task of finding the root of a function $f \\left( x \\right)$ means finding $\\hat{x}$ such that $f \\left( \\hat{x} \\right) = 0$.\n",
    "\n",
    "* <font color='brown'>(**#**)</font> Given an algorithm to find a root of a function one can create an optimization algorithm by applying it on $f' \\left( x \\right)$ given it is smooth.\n",
    "\n",
    "In this section the function is given by $f \\left( x \\right) = 1 - 3 {e}^{-x}$.\n",
    "\n",
    "* <font color='brown'>(**#**)</font> SciPy has several _root finding_ functions in its _Optimization_ sub package: [SciPy's Root Finding](https://docs.scipy.org/doc/scipy/reference/optimize.html#root-finding)."
   ]
  },
  {
   "cell_type": "code",
   "execution_count": null,
   "metadata": {},
   "outputs": [],
   "source": [
    "# Parameters\n",
    "\n",
    "tuDataGrid = (0, 5, 50)"
   ]
  },
  {
   "cell_type": "code",
   "execution_count": null,
   "metadata": {},
   "outputs": [],
   "source": [
    "# Model Function\n",
    "\n",
    "@njit\n",
    "def F( vX: np.ndarray ) -> np.ndarray:\n",
    "\n",
    "    return 1 - 3 * np.exp(-vX)"
   ]
  },
  {
   "cell_type": "code",
   "execution_count": null,
   "metadata": {},
   "outputs": [],
   "source": [
    "# Generate / Load  Data \n",
    "\n",
    "vX = np.linspace(tuDataGrid[0], tuDataGrid[1], tuDataGrid[2])\n",
    "vY = F(vX)\n",
    "\n",
    "# Display Data\n",
    "\n",
    "hF, hA = plt.subplots(figsize = (16, 8))\n",
    "hLine = hA.plot(vX, vY, lw = LINE_WIDTH_DEF, label = 'f(x)')\n",
    "hLine[0].set_marker('o')\n",
    "hA.axhline(y = 0, color = 'r')\n",
    "\n",
    "hA.legend();\n"
   ]
  },
  {
   "cell_type": "markdown",
   "metadata": {},
   "source": [
    "### Bisection Method  \n",
    "\n",
    "One of the simplest methods for root finding is the [_Bisection Method_](https://en.wikipedia.org/wiki/Bisection_method).\n",
    "\n",
    "<!-- ![](https://upload.wikimedia.org/wikipedia/commons/8/8c/Bisection_method.svg) -->\n",
    "\n",
    "<div>\n",
    "<img src=\"https://upload.wikimedia.org/wikipedia/commons/8/8c/Bisection_method.svg\" height = \"400\"/>\n",
    "</div>\n",
    "\n",
    "This section implements the method as described in the Wikipedia article.\n",
    "\n",
    "* <font color='brown'>(**#**)</font> The _bisection_ method solves the cases the function has a segment where its sign on each side is opposite.  \n",
    "  For instance, it can't find the zero of a parabolic function with the minimum / maximum value of $0$.\n",
    "* <font color='brown'>(**#**)</font> SciPy's implement much more efficient methods such as the _Brent’s method_ as in [`brentq()`](https://docs.scipy.org/doc/scipy/reference/generated/scipy.optimize.brentq.html#scipy.optimize.brentq).\n"
   ]
  },
  {
   "cell_type": "code",
   "execution_count": null,
   "metadata": {},
   "outputs": [],
   "source": [
    "# Bisection Method\n",
    "\n",
    "#===========================Fill This===========================#\n",
    "# 1. Implement the Bisection Method as given in Wikipedia.\n",
    "# !! Try minimizing the use of `if` inside the main loop.\n",
    "# !! You may use the `Sign()` function defined above.\n",
    "\n",
    "@njit\n",
    "def BisectionMethodRoot( hF: Callable, valA: float, valB: float, /, numItr: int = 1000, ε: float = 1e-6 ) -> float:\n",
    "    \"\"\"\n",
    "    Finds a root of `hF` in the range (valA, valB).  \n",
    "    The function is assumed to be continuous.  \n",
    "    It is assumed that `valB > valA`.\n",
    "    The root is within `ε` of the real location.\n",
    "    Input:\n",
    "        hF      - Callable, The function to find a root of.\n",
    "        valA    - The left boundary for the search segment.\n",
    "        valB    - The right boundary for the search segment.\n",
    "        numItr  - Maximum number of iterations.\n",
    "        ε       - The maximum distance between the output and the actual root.\n",
    "    Output:\n",
    "        valC    - The argument of the function such that `|valC - valX| < ε` where `hF(valX) = 0`.\n",
    "    \"\"\"\n",
    "\n",
    "    ?????\n",
    "\n",
    "    return valC\n",
    "\n",
    "#===============================================================#"
   ]
  },
  {
   "cell_type": "code",
   "execution_count": null,
   "metadata": {},
   "outputs": [],
   "source": [
    "# Verify the Implementation\n",
    "# This section uses SciPy's `bisect` function.\n",
    "# It will compare the implementation to SciPy's implementation.\n",
    "\n",
    "valA = float(tuDataGrid[0])\n",
    "valB = float(tuDataGrid[1])\n",
    "ε    = 1e-6\n",
    "\n",
    "# Values\n",
    "valXRef = sp.optimize.bisect(F, valA, valB, xtol = ε)\n",
    "valX = BisectionMethodRoot(F, valA, valB, ε = ε)\n",
    "\n",
    "# Timing (See https://stackoverflow.com/questions/17310752)\n",
    "runTimeSciPy = %timeit -o sp.optimize.bisect(F, valA, valB, xtol = ε)\n",
    "runTimeBiSec = %timeit -o BisectionMethodRoot(F, valA, valB, ε = ε)\n",
    "\n",
    "print(f'The root by SciPy           : {valXRef}')\n",
    "print(f'The root by implementation  : {valX}')\n",
    "print(f'The implementation is verified: {abs(valXRef - valX) < (ε / 2)}')\n",
    "\n",
    "relativeRun     = runTimeSciPy.best / runTimeBiSec.best\n",
    "relativeRun     = relativeRun if relativeRun >= 1.0 else 1 / relativeRun\n",
    "relativeRunStr  = 'faster' if runTimeBiSec.best < runTimeSciPy.best else 'slower'\n",
    "\n",
    "print(f'The implementation is {relativeRun: 0.2f} times {relativeRunStr} than SciPy\\'s implementation')\n"
   ]
  },
  {
   "cell_type": "markdown",
   "metadata": {},
   "source": [
    "* <font color='blue'>(**!**)</font> Try removing the `njit` decorator and measure performance."
   ]
  },
  {
   "cell_type": "markdown",
   "metadata": {},
   "source": [
    "## Integrating a Function\n",
    "\n",
    "This section calculates the integral over a function in a closed segment (_Definite Integral_).  \n",
    "\n",
    "SciPy has 2 main different methods of integration:\n",
    "\n",
    "1. Given a Function Object  \n",
    "   Given a function to calculate the value at an arbitrary point.\n",
    "2. Given a Set of Data Samples  \n",
    "   If the function is not known yet sampled.\n",
    "\n",
    "This section compares 2 methods: \n",
    "\n",
    " - [`quad()`](https://docs.scipy.org/doc/scipy/reference/generated/scipy.integrate.quad.html#scipy.integrate.quad) - Based on a function.\n",
    " - [`simpson()`](https://docs.scipy.org/doc/scipy/reference/generated/scipy.integrate.simpson.html#scipy.integrate.simpson) - Based on samples.\n",
    "\n",
    "The function which will be used is: $f \\left( x \\right) = 1 + {e}^{-\\frac{x}{2}} + \\sin \\left( 3 x \\right)$."
   ]
  },
  {
   "cell_type": "code",
   "execution_count": null,
   "metadata": {},
   "outputs": [],
   "source": [
    "# Parameters\n",
    "\n",
    "tuDataGrid = (0, 5, 50)\n",
    "valA = 1.0\n",
    "valB = 4.0"
   ]
  },
  {
   "cell_type": "code",
   "execution_count": null,
   "metadata": {},
   "outputs": [],
   "source": [
    "# Model Function\n",
    "\n",
    "@njit\n",
    "def F( vX: np.ndarray ) -> np.ndarray:\n",
    "\n",
    "    return 1 + np.exp(-vX / 2) + np.sin(3 * vX)"
   ]
  },
  {
   "cell_type": "code",
   "execution_count": null,
   "metadata": {},
   "outputs": [],
   "source": [
    "# Generate / Load  Data \n",
    "\n",
    "vX = np.linspace(tuDataGrid[0], tuDataGrid[1], tuDataGrid[2])\n",
    "vY = F(vX)\n",
    "\n",
    "# Display Data\n",
    "\n",
    "hF, hA = plt.subplots(figsize = (16, 8))\n",
    "hLine = hA.plot(vX, vY, lw = LINE_WIDTH_DEF, label = 'f(x)')\n",
    "hLine[0].set_marker('o')\n",
    "hA.fill_between(x = vX, y1 = vY, where = np.logical_and(vX >= valA, vX <= valB), color = lMatPltLibclr[1], alpha = 0.5, label = 'Integration Segment')\n",
    "hA.set_title('The Function and Samples')\n",
    "hA.set_xlabel('x')\n",
    "hA.set_ylabel('y')\n",
    "hA.grid(True)\n",
    "\n",
    "hA.legend();"
   ]
  },
  {
   "cell_type": "code",
   "execution_count": null,
   "metadata": {},
   "outputs": [],
   "source": [
    "# Integration of the Function\n",
    "# This section calculates the integration of the function by `quad()`.\n",
    "\n",
    "#===========================Fill This===========================#\n",
    "# 1. Calculate the integral of the function in the segment (valA, valB).\n",
    "# !! Use `quad()` for the integration.\n",
    "\n",
    "intValFunction, *_ = ???\n",
    "\n",
    "#===============================================================#"
   ]
  },
  {
   "cell_type": "code",
   "execution_count": null,
   "metadata": {},
   "outputs": [],
   "source": [
    "# Integration of the Samples\n",
    "# This section calculates the integration of the function by `simpson()`.\n",
    "# One may read on the method in https://en.wikipedia.org/wiki/Simpson%27s_rule.\n",
    "\n",
    "#===========================Fill This===========================#\n",
    "# 1. Calculate the integral of the samples in the segment (valA, valB).\n",
    "# !! Use `simpson()` for the integration.\n",
    "\n",
    "?????\n",
    "\n",
    "intValSamples = ???\n",
    "\n",
    "#===============================================================#"
   ]
  },
  {
   "cell_type": "code",
   "execution_count": null,
   "metadata": {},
   "outputs": [],
   "source": [
    "print(f'The integration by the **function** : {intValFunction}')\n",
    "print(f'The integration by the **samples**  : {intValSamples}')"
   ]
  },
  {
   "cell_type": "markdown",
   "metadata": {},
   "source": [
    "* <font color='red'>(**?**)</font> Which method is more accurate?\n",
    "* <font color='blue'>(**!**)</font> Measure the run time of each method.\n",
    "* <font color='red'>(**?**)</font> If we're given samples yet only can use `quad()`, what should we do?"
   ]
  }
 ],
 "metadata": {
  "kernelspec": {
   "display_name": "Python 3",
   "language": "python",
   "name": "python3"
  },
  "language_info": {
   "codemirror_mode": {
    "name": "ipython",
    "version": 3
   },
   "file_extension": ".py",
   "mimetype": "text/x-python",
   "name": "python",
   "nbconvert_exporter": "python",
   "pygments_lexer": "ipython3",
   "version": "3.11.8"
  },
  "toc": {
   "base_numbering": 1,
   "nav_menu": {},
   "number_sections": false,
   "sideBar": true,
   "skip_h1_title": false,
   "title_cell": "Table of Contents",
   "title_sidebar": "Contents",
   "toc_cell": false,
   "toc_position": {},
   "toc_section_display": true,
   "toc_window_display": true
  },
  "varInspector": {
   "cols": {
    "lenName": 16,
    "lenType": 16,
    "lenVar": 40
   },
   "kernels_config": {
    "python": {
     "delete_cmd_postfix": "",
     "delete_cmd_prefix": "del ",
     "library": "var_list.py",
     "varRefreshCmd": "print(var_dic_list())"
    },
    "r": {
     "delete_cmd_postfix": ") ",
     "delete_cmd_prefix": "rm(",
     "library": "var_list.r",
     "varRefreshCmd": "cat(var_dic_list()) "
    }
   },
   "types_to_exclude": [
    "module",
    "function",
    "builtin_function_or_method",
    "instance",
    "_Feature"
   ],
   "window_display": false
  },
  "vscode": {
   "interpreter": {
    "hash": "39577bab1f263e62e0b74f5b8086bd735049bf4751f6562b2d4b2969dc308293"
   }
  }
 },
 "nbformat": 4,
 "nbformat_minor": 4
}
