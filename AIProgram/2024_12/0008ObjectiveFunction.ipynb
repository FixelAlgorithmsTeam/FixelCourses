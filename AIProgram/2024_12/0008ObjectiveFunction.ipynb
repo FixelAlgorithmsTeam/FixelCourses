{
 "cells": [
  {
   "attachments": {},
   "cell_type": "markdown",
   "metadata": {},
   "source": [
    "[![Fixel Algorithms](https://i.imgur.com/AqKHVZ0.png)](https://fixelalgorithms.gitlab.io/)\n",
    "\n",
    "# AI Program\n",
    "\n",
    "## Introduction to Optimization - Objective Function\n",
    "\n",
    "> Notebook by:\n",
    "> - Royi Avital RoyiAvital@fixelalgorithms.com\n",
    "\n",
    "## Revision History\n",
    "\n",
    "| Version | Date       | User        |Content / Changes                                                   |\n",
    "|---------|------------|-------------|--------------------------------------------------------------------|\n",
    "| 1.0.000 | 08/02/2024 | Royi Avital | First version                                                      |"
   ]
  },
  {
   "attachments": {},
   "cell_type": "markdown",
   "metadata": {},
   "source": [
    "[![Open In Colab](https://colab.research.google.com/assets/colab-badge.svg)](https://colab.research.google.com/github/FixelAlgorithmsTeam/FixelCourses/blob/master/AIProgram/2024_02/0008ObjectiveFunction.ipynb)"
   ]
  },
  {
   "cell_type": "code",
   "execution_count": null,
   "metadata": {
    "ExecuteTime": {
     "end_time": "2022-02-02T09:30:06.492269Z",
     "start_time": "2022-02-02T09:30:06.220934Z"
    }
   },
   "outputs": [],
   "source": [
    "# Import Packages\n",
    "\n",
    "# General Tools\n",
    "import numpy as np\n",
    "import scipy as sp\n",
    "import pandas as pd\n",
    "\n",
    "# Machine Learning\n",
    "import autograd.numpy as anp\n",
    "import autograd.scipy as asp\n",
    "from autograd import grad\n",
    "from autograd import elementwise_grad as egrad\n",
    "\n",
    "# Miscellaneous\n",
    "import os\n",
    "import math\n",
    "from platform import python_version\n",
    "import random\n",
    "\n",
    "# Typing\n",
    "from typing import Callable, List, Tuple, Union\n",
    "\n",
    "# Visualization\n",
    "from matplotlib.colors import LogNorm, Normalize, PowerNorm\n",
    "import matplotlib.pyplot as plt\n",
    "import seaborn as sns\n",
    "\n",
    "# Jupyter\n",
    "from IPython import get_ipython\n",
    "from IPython.display import Image, display\n",
    "from ipywidgets import Dropdown, FloatSlider, interact, IntSlider, Layout"
   ]
  },
  {
   "attachments": {},
   "cell_type": "markdown",
   "metadata": {},
   "source": [
    "## Notations\n",
    "\n",
    "* <font color='red'>(**?**)</font> Question to answer interactively.\n",
    "* <font color='blue'>(**!**)</font> Simple task to add code for the notebook.\n",
    "* <font color='green'>(**@**)</font> Optional / Extra self practice.\n",
    "* <font color='brown'>(**#**)</font> Note / Useful resource / Food for thought.\n",
    "\n",
    "Code Notations:\n",
    "\n",
    "```python\n",
    "someVar    = 2; #<! Notation for a variable\n",
    "vVector    = np.random.rand(4) #<! Notation for 1D array\n",
    "mMatrix    = np.random.rand(4, 3) #<! Notation for 2D array\n",
    "tTensor    = np.random.rand(4, 3, 2, 3) #<! Notation for nD array (Tensor)\n",
    "tuTuple    = (1, 2, 3) #<! Notation for a tuple\n",
    "lList      = [1, 2, 3] #<! Notation for a list\n",
    "dDict      = {1: 3, 2: 2, 3: 1} #<! Notation for a dictionary\n",
    "oObj       = MyClass() #<! Notation for an object\n",
    "dfData     = pd.DataFrame() #<! Notation for a data frame\n",
    "dsData     = pd.Series() #<! Notation for a series\n",
    "hObj       = plt.Axes() #<! Notation for an object / handler / function handler\n",
    "```\n",
    "\n",
    "### Code Exercise\n",
    "\n",
    " - Single line fill\n",
    "\n",
    " ```python\n",
    " vallToFill = ???\n",
    " ```\n",
    "\n",
    " - Multi Line to Fill (At least one)\n",
    "\n",
    " ```python\n",
    " # You need to start writing\n",
    " ????\n",
    " ```\n",
    "\n",
    " - Section to Fill\n",
    "\n",
    "```python\n",
    "#===========================Fill This===========================#\n",
    "# 1. Explanation about what to do.\n",
    "# !! Remarks to follow / take under consideration.\n",
    "mX = ???\n",
    "\n",
    "???\n",
    "#===============================================================#\n",
    "```"
   ]
  },
  {
   "cell_type": "code",
   "execution_count": null,
   "metadata": {},
   "outputs": [],
   "source": [
    "# Configuration\n",
    "%matplotlib inline\n",
    "\n",
    "# warnings.filterwarnings(\"ignore\")\n",
    "\n",
    "seedNum = 512\n",
    "np.random.seed(seedNum)\n",
    "random.seed(seedNum)\n",
    "\n",
    "# Matplotlib default color palette\n",
    "lMatPltLibclr = ['#1f77b4', '#ff7f0e', '#2ca02c', '#d62728', '#9467bd', '#8c564b', '#e377c2', '#7f7f7f', '#bcbd22', '#17becf']\n",
    "# sns.set_theme() #>! Apply SeaBorn theme\n",
    "# sns.set_palette(\"tab10\")\n",
    "\n",
    "runInGoogleColab = 'google.colab' in str(get_ipython())"
   ]
  },
  {
   "cell_type": "code",
   "execution_count": null,
   "metadata": {},
   "outputs": [],
   "source": [
    "# Constants\n",
    "\n",
    "FIG_SIZE_DEF    = (8, 8)\n",
    "ELM_SIZE_DEF    = 50\n",
    "CLASS_COLOR     = ('b', 'r')\n",
    "EDGE_COLOR      = 'k'\n",
    "MARKER_SIZE_DEF = 10\n",
    "LINE_WIDTH_DEF  = 2\n"
   ]
  },
  {
   "cell_type": "code",
   "execution_count": null,
   "metadata": {},
   "outputs": [],
   "source": [
    "# Course Packages\n"
   ]
  },
  {
   "cell_type": "code",
   "execution_count": null,
   "metadata": {},
   "outputs": [],
   "source": [
    "# Auxiliary Functions\n",
    "\n",
    "def SigmoidFun( vX: np.ndarray ) -> np.ndarray:\n",
    "    # Implements the Sigmoid (Scaled ans shifted) function.\n",
    "    # Uses AutoGrad for auto differentiation.\n",
    "    \n",
    "    return (2 * asp.special.expit(vX)) - 1\n",
    "\n",
    "def LogisiticRegresion( vX: np.ndarray, mA: np.ndarray, vY: np.ndarray ) -> float:\n",
    "    # Implements the Logistic Regression objective function\n",
    "\n",
    "    vR = SigmoidFun(mA @ vX) - vY\n",
    "    \n",
    "    return 0.5 * anp.sum(anp.square(vR))"
   ]
  },
  {
   "cell_type": "code",
   "execution_count": null,
   "metadata": {},
   "outputs": [],
   "source": [
    "# Parameters\n",
    "\n",
    "numRows = 10\n",
    "numCols = 5\n",
    "ε = 1e-6"
   ]
  },
  {
   "attachments": {},
   "cell_type": "markdown",
   "metadata": {},
   "source": [
    "## Objective Functions\n",
    "\n",
    "In this section we'll derive the gradient of various objective functions.\n",
    "The analytic solution will be verified by _Auto Diff_ calculation.\n",
    "\n",
    "* <font color='brown'>(**#**)</font> The notebook use the `NumericDiff.py` file for the actual calculations."
   ]
  },
  {
   "cell_type": "markdown",
   "metadata": {},
   "source": [
    "### Logistic Regression Objective Function\n",
    "\n",
    "Logistic Regression is used in the context of classification.  \n",
    "\n",
    "* <font color='brown'>(**#**)</font> It is names regression as it is basically regression on a parameter of the model for regression.\n",
    "\n",
    "The objective function is given by:\n",
    "\n",
    "$$ f \\left( \\boldsymbol{x} \\right) = \\frac{1}{2} {\\left\\| \\sigma \\left[ \\boldsymbol{A} \\boldsymbol{x} \\right] - \\boldsymbol{y} \\right\\|}_{2}^{2} $$\n",
    "\n",
    "Where $\\sigma(x) = 2 \\frac{1}{1 + {e}^{-x}} - 1$ is a scaled and shifted version of the [Sigmoid Function](https://en.wikipedia.org/wiki/Sigmoid_function).  \n",
    "See the `SigmoidFun()` function for a reference implementation with _auto differentiation_ support.\n",
    "\n",
    "<font color='brown'>(**#**)</font> In practice such function requires numerical stable implementation. Use professionally made implementations if available.   \n",
    "<font color='brown'>(**#**)</font> See [`scipy.special.expit()`](https://docs.scipy.org/doc/scipy/reference/generated/scipy.special.expit.html) for $\\frac{ 1 }{ 1 + \\exp \\left( -x \\right) }$.\n",
    "\n",
    "Since:\n",
    "\n",
    "$$ \\sigma \\left( x \\right) = 2 \\frac{ 1 }{ 1 + \\exp \\left( -x \\right) } - 1 = 2 \\frac{ \\exp \\left( x \\right) }{ 1 + \\exp \\left( x \\right) } - 1 $$\n",
    "\n",
    "The derivative is given by:\n",
    "\n",
    "$$ \\frac{\\mathrm{d} \\sigma \\left( x \\right) }{\\mathrm{d} x} = 2 \\frac{ \\exp \\left( x \\right)}{\\left( 1 + \\exp \\left( x \\right) \\right)^{2}} = 2 \\left( \\frac{ 1 }{ 1 + \\exp \\left( -x \\right) } \\right) \\left( 1 - \\frac{ 1 }{ 1 + \\exp \\left( -x \\right) } \\right) $$\n",
    "\n",
    "<font color='brown'>(**#**)</font> For derivation of the last step, see https://math.stackexchange.com/questions/78575."
   ]
  },
  {
   "cell_type": "code",
   "execution_count": null,
   "metadata": {},
   "outputs": [],
   "source": [
    "# The Derivative Function\n",
    "\n",
    "#===========================Fill This===========================#\n",
    "# 1. Generate the function which for a given vector calculate the \n",
    "#    derivative per element.\n",
    "# !! The output should be the Sigmoid function as defined in the notebook (Scaled, Shifted).\n",
    "# !! You may find `sp.special.expit()` useful.\n",
    "\n",
    "def GradSigmoidFun(vX: np.ndarray) -> np.ndarray:\n",
    "    \"\"\"\n",
    "    Calculates the element wise derivative of the Sigmoid function.  \n",
    "    The derivative of `SigmoidFun()` is calculated element wise on the input vector.\n",
    "    Input:\n",
    "      vX          - Vector (numElements, ) of the values to calculate the derivative at.\n",
    "    Output:\n",
    "      []          - Vector (numElements, ) of the derivatives.\n",
    "    \"\"\"\n",
    "\n",
    "    vExpit = ??? #<! Calculate the **classic** sigmoid.\n",
    "    \n",
    "    return ???\n",
    "#===============================================================#"
   ]
  },
  {
   "cell_type": "code",
   "execution_count": null,
   "metadata": {},
   "outputs": [],
   "source": [
    "# Verify the Implementation\n",
    "# This section verifies the analytic solution using AutoGrad.\n",
    "\n",
    "vX = np.random.rand(numCols)\n",
    "\n",
    "assert (np.linalg.norm(GradSigmoidFun(vX) - egrad(SigmoidFun)(vX), np.inf) < ε), \"Implementation is not verified\"\n",
    "print(f'Implementation is verified')\n"
   ]
  },
  {
   "cell_type": "markdown",
   "metadata": {},
   "source": [
    "### Question 001\n",
    "\n",
    "1. Derive the gradient of the Logistic Regression function.\n",
    "2. Implement the gradient as a function.\n",
    "\n",
    "The implementation will be verified using `AutoGrad`.\n",
    "\n",
    "**Remark**: The derivation is relatively hard and goes a bit beyond the slides."
   ]
  },
  {
   "cell_type": "markdown",
   "metadata": {},
   "source": [
    "### Solution 001\n",
    "\n",
    "<font color='red'>??? Fill the answer here ???</font>\n",
    "\n",
    "---"
   ]
  },
  {
   "cell_type": "code",
   "execution_count": null,
   "metadata": {},
   "outputs": [],
   "source": [
    "# The Gradient Function of the Logistic Function\n",
    "\n",
    "#===========================Fill This===========================#\n",
    "# 1. Implement the derivation of the gradient function.\n",
    "# !! Try avoiding the diagonal matrix for efficiency.\n",
    "\n",
    "def GradLogisiticRegresion( vX: np.ndarray, mA: np.ndarray, vY: np.ndarray ) -> np.ndarray:\n",
    "    \"\"\"\n",
    "    Calculates the gradient of the Logistic Regression function.  \n",
    "    Input:\n",
    "      vX          - Vector (numElements, ) of the values to calculate the gradient at.\n",
    "    Output:\n",
    "      []          - Vector (numElements, ) of the gradient.\n",
    "    \"\"\"\n",
    "    \n",
    "    return ???\n",
    "#===============================================================#"
   ]
  },
  {
   "cell_type": "code",
   "execution_count": null,
   "metadata": {},
   "outputs": [],
   "source": [
    "# Verify the Implementation\n",
    "# This section verifies the analytic solution using AutoGrad.\n",
    "\n",
    "vX = np.random.rand(numCols)\n",
    "mA = np.random.rand(numRows, numCols)\n",
    "vY = np.random.rand(numRows)\n",
    "hLogisiticRegresion = lambda vX: LogisiticRegresion(vX, mA, vY)\n",
    "\n",
    "\n",
    "assert (np.linalg.norm(GradLogisiticRegresion(vX, mA, vY) - grad(hLogisiticRegresion)(vX), np.inf) < ε), \"Implementation is not verified\"\n",
    "print(f'Implementation is verified')"
   ]
  },
  {
   "cell_type": "markdown",
   "metadata": {},
   "source": [
    "### Frobenius Norm Objective\n",
    "\n",
    "The objective function $f: \\mathbb{R}^{m \\times n} \\to \\mathbb{R}$ is given by\n",
    "\n",
    "$$ f \\left( \\boldsymbol{X} \\right) = {\\left\\| \\boldsymbol{X} - \\boldsymbol{Y} \\right\\|}_{F} $$"
   ]
  },
  {
   "cell_type": "markdown",
   "metadata": {},
   "source": [
    "### Question 002\n",
    "\n",
    "1. Derive the gradient of the objective function.\n",
    "2. Implement the objective function.  \n",
    "   The implementation should be `AutoGrad` compatible.\n",
    "3. Implement a function to calculate its gradient."
   ]
  },
  {
   "cell_type": "markdown",
   "metadata": {},
   "source": [
    "### Solution 002\n",
    "\n",
    "<font color='red'>??? Fill the answer here ???</font>\n",
    "\n",
    "\n",
    "---"
   ]
  },
  {
   "cell_type": "code",
   "execution_count": null,
   "metadata": {},
   "outputs": [],
   "source": [
    "# Implement the Frobenius Norm Objective Function\n",
    "\n",
    "#===========================Fill This===========================#\n",
    "# 1. Implement the objective function f(X) = 0.5 * ||X - Y||_F^2.\n",
    "# Make the implementation `AutoGrad` compatible.\n",
    "\n",
    "def FrobNorm( mX: np.ndarray, mY: np.ndarray ) -> float:\n",
    "    \"\"\"\n",
    "    Calculates the objective function f(X) = 0.5 * ||X - Y||_F^2.  \n",
    "    Input:\n",
    "        mX          - Matrix (numRows, numCols).\n",
    "        mY          - Matrix (numRows, numCols).\n",
    "    Output:\n",
    "        []          - Value of the function.\n",
    "    \"\"\"\n",
    "    \n",
    "    return ???\n",
    "#===============================================================#"
   ]
  },
  {
   "cell_type": "code",
   "execution_count": null,
   "metadata": {},
   "outputs": [],
   "source": [
    "# Implement the Gradient of the Frobenius Norm Objective Function\n",
    "\n",
    "#===========================Fill This===========================#\n",
    "# 1. Implement the gradient of f(X) = 0.5 * ||X - Y||_F^2.\n",
    "# Make the implementation `AutoGrad` compatible.\n",
    "\n",
    "def GradFrobNorm( mX: np.ndarray, mY: np.ndarray ) -> float:\n",
    "    \"\"\"\n",
    "    Calculates the gradient of f(X) = 0.5 * ||X - Y||_F^2.  \n",
    "    Input:\n",
    "        mX          - Matrix (numRows, numCols), to calculate the gradient at.\n",
    "        mY          - Matrix (numRows, numCols).\n",
    "    Output:\n",
    "        []          - Value of the function.\n",
    "    \"\"\"\n",
    "    \n",
    "    mB = ??? #<! Buffer\n",
    "    return ???\n",
    "#===============================================================#"
   ]
  },
  {
   "cell_type": "code",
   "execution_count": null,
   "metadata": {},
   "outputs": [],
   "source": [
    "# Verify the Implementation\n",
    "# This section verifies the analytic solution using AutoGrad.\n",
    "\n",
    "mX = np.random.rand(numRows, numCols)\n",
    "mY = np.random.rand(numRows, numCols)\n",
    "hFrobNorm = lambda mX: FrobNorm(mX, mY)\n",
    "\n",
    "\n",
    "assert (np.max(np.abs(GradFrobNorm(mX, mY) - grad(hFrobNorm)(mX))) < ε), \"Implementation is not verified\"\n",
    "print(f'Implementation is verified')"
   ]
  }
 ],
 "metadata": {
  "kernelspec": {
   "display_name": "Python 3",
   "language": "python",
   "name": "python3"
  },
  "language_info": {
   "codemirror_mode": {
    "name": "ipython",
    "version": 3
   },
   "file_extension": ".py",
   "mimetype": "text/x-python",
   "name": "python",
   "nbconvert_exporter": "python",
   "pygments_lexer": "ipython3",
   "version": "3.11.7"
  },
  "toc": {
   "base_numbering": 1,
   "nav_menu": {},
   "number_sections": false,
   "sideBar": true,
   "skip_h1_title": false,
   "title_cell": "Table of Contents",
   "title_sidebar": "Contents",
   "toc_cell": false,
   "toc_position": {},
   "toc_section_display": true,
   "toc_window_display": true
  },
  "varInspector": {
   "cols": {
    "lenName": 16,
    "lenType": 16,
    "lenVar": 40
   },
   "kernels_config": {
    "python": {
     "delete_cmd_postfix": "",
     "delete_cmd_prefix": "del ",
     "library": "var_list.py",
     "varRefreshCmd": "print(var_dic_list())"
    },
    "r": {
     "delete_cmd_postfix": ") ",
     "delete_cmd_prefix": "rm(",
     "library": "var_list.r",
     "varRefreshCmd": "cat(var_dic_list()) "
    }
   },
   "types_to_exclude": [
    "module",
    "function",
    "builtin_function_or_method",
    "instance",
    "_Feature"
   ],
   "window_display": false
  },
  "vscode": {
   "interpreter": {
    "hash": "39577bab1f263e62e0b74f5b8086bd735049bf4751f6562b2d4b2969dc308293"
   }
  }
 },
 "nbformat": 4,
 "nbformat_minor": 4
}
