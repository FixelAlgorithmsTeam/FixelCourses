{
 "cells": [
  {
   "attachments": {},
   "cell_type": "markdown",
   "metadata": {},
   "source": [
    "[![Fixel Algorithms](https://i.imgur.com/AqKHVZ0.png)](https://fixelalgorithms.gitlab.io/)\n",
    "\n",
    "<!-- ![](https://i.imgur.com/qkg2E2D.png) -->\n",
    "\n",
    "# AI Program\n",
    "\n",
    "## Introduction to Estimation - The Maximum A Posteriori (MAP) Estimator\n",
    "\n",
    "> Notebook by:\n",
    "> - Royi Avital RoyiAvital@fixelalgorithms.com\n",
    "\n",
    "## Revision History\n",
    "\n",
    "| Version | Date       | User        |Content / Changes                                                   |\n",
    "|---------|------------|-------------|--------------------------------------------------------------------|\n",
    "| 1.0.000 | 21/01/2024 | Royi Avital | First version                                                      |"
   ]
  },
  {
   "attachments": {},
   "cell_type": "markdown",
   "metadata": {},
   "source": [
    "[![Open In Colab](https://colab.research.google.com/assets/colab-badge.svg)](https://colab.research.google.com/github/FixelAlgorithmsTeam/FixelCourses/blob/master/AIProgram/2024_02/0004EstimationMap.ipynb)"
   ]
  },
  {
   "cell_type": "code",
   "execution_count": null,
   "metadata": {
    "ExecuteTime": {
     "end_time": "2022-02-02T17:52:07.921383Z",
     "start_time": "2022-02-02T17:52:07.649130Z"
    }
   },
   "outputs": [],
   "source": [
    "# Import Packages\n",
    "\n",
    "# General Tools\n",
    "import numpy as np\n",
    "import scipy as sp\n",
    "import pandas as pd\n",
    "\n",
    "# Miscellaneous\n",
    "from platform import python_version\n",
    "import random\n",
    "import warnings\n",
    "\n",
    "# Visualization\n",
    "import matplotlib.pyplot as plt\n",
    "import seaborn as sns\n",
    "\n",
    "# Jupyter\n",
    "from IPython import get_ipython\n",
    "from IPython.display import Image, display\n",
    "from ipywidgets import Dropdown, FloatSlider, interact, interactive, IntSlider, Layout, VBox"
   ]
  },
  {
   "attachments": {},
   "cell_type": "markdown",
   "metadata": {},
   "source": [
    "## Notations\n",
    "\n",
    "* <font color='red'>(**?**)</font> Question to answer interactively.\n",
    "* <font color='blue'>(**!**)</font> Simple task to add code for the notebook.\n",
    "* <font color='green'>(**@**)</font> Optional / Extra self practice.\n",
    "* <font color='brown'>(**#**)</font> Note / Useful resource / Food for thought.\n",
    "\n",
    "Code Notations:\n",
    "\n",
    "```python\n",
    "someVar    = 2; #<! Notation for a variable\n",
    "vVector    = np.random.rand(4) #<! Notation for 1D array\n",
    "mMatrix    = np.random.rand(4, 3) #<! Notation for 2D array\n",
    "tTensor    = np.random.rand(4, 3, 2, 3) #<! Notation for nD array (Tensor)\n",
    "tuTuple    = (1, 2, 3) #<! Notation for a tuple\n",
    "lList      = [1, 2, 3] #<! Notation for a list\n",
    "dDict      = {1: 3, 2: 2, 3: 1} #<! Notation for a dictionary\n",
    "oObj       = MyClass() #<! Notation for an object\n",
    "dfData     = pd.DataFrame() #<! Notation for a data frame\n",
    "dsData     = pd.Series() #<! Notation for a series\n",
    "hObj       = plt.Axes() #<! Notation for an object / handler / function handler\n",
    "```\n",
    "\n",
    "### Code Exercise\n",
    "\n",
    " - Single line fill\n",
    "\n",
    " ```python\n",
    " vallToFill = ???\n",
    " ```\n",
    "\n",
    " - Multi Line to Fill (At least one)\n",
    "\n",
    " ```python\n",
    " # You need to start writing\n",
    " ????\n",
    " ```\n",
    "\n",
    " - Section to Fill\n",
    "\n",
    "```python\n",
    "#===========================Fill This===========================#\n",
    "# 1. Explanation about what to do.\n",
    "# !! Remarks to follow / take under consideration.\n",
    "mX = ???\n",
    "\n",
    "???\n",
    "#===============================================================#\n",
    "```"
   ]
  },
  {
   "cell_type": "code",
   "execution_count": null,
   "metadata": {},
   "outputs": [],
   "source": [
    "# Configuration\n",
    "%matplotlib inline\n",
    "\n",
    "# warnings.filterwarnings(\"ignore\")\n",
    "\n",
    "seedNum = 512\n",
    "np.random.seed(seedNum)\n",
    "random.seed(seedNum)\n",
    "\n",
    "# Matplotlib default color palette\n",
    "lMatPltLibclr = ['#1f77b4', '#ff7f0e', '#2ca02c', '#d62728', '#9467bd', '#8c564b', '#e377c2', '#7f7f7f', '#bcbd22', '#17becf']\n",
    "sns.set_theme() #>! Apply SeaBorn theme\n",
    "# sns.set_palette(\"tab10\")\n",
    "\n",
    "runInGoogleColab = 'google.colab' in str(get_ipython())"
   ]
  },
  {
   "cell_type": "code",
   "execution_count": null,
   "metadata": {},
   "outputs": [],
   "source": [
    "# Constants\n",
    "\n",
    "FIG_SIZE_DEF    = (8, 8)\n",
    "ELM_SIZE_DEF    = 50\n",
    "CLASS_COLOR     = ('b', 'r')\n",
    "EDGE_COLOR      = 'k'\n",
    "MARKER_SIZE_DEF = 10\n",
    "LINE_WIDTH_DEF  = 2\n"
   ]
  },
  {
   "cell_type": "code",
   "execution_count": null,
   "metadata": {},
   "outputs": [],
   "source": [
    "# Fixel Algorithms Packages\n"
   ]
  },
  {
   "cell_type": "code",
   "execution_count": null,
   "metadata": {},
   "outputs": [],
   "source": [
    "# Parameters\n",
    "\n",
    "numSamples = 1_000\n",
    "σx = 1\n",
    "µ0 = 2\n",
    "\n"
   ]
  },
  {
   "attachments": {},
   "cell_type": "markdown",
   "metadata": {},
   "source": [
    "## The Data\n",
    "\n",
    "We'll generate data from the model:\n",
    "\n",
    "$$ X \\mid \\mu \\sim \\mathcal{N} \\left( \\mu, \\sigma_{x}^{2} \\right), \\; \\mu \\sim \\mathcal{N} \\left( {\\mu}_{0}, {\\sigma}_{\\mu}^{2} \\right) $$\n",
    "\n",
    "Where the parameters ${\\sigma}_{x}$, ${\\mu}_{0}$ and ${\\sigma}_{\\mu}$ are known.\n",
    "\n",
    "* <font color='brown'>(**#**)</font> In the model, instead of setting ${\\sigma}_{\\mu}^{2}$ explicitly, we'll use the ratio $\\beta := \\frac{ {\\sigma}_{x}^{2} }{ {\\sigma}_{\\mu}^{2} }$.\n"
   ]
  },
  {
   "cell_type": "code",
   "execution_count": null,
   "metadata": {},
   "outputs": [],
   "source": [
    "# Generate Data\n",
    "\n",
    "vZ = (σx * np.random.randn(numSamples)) + µ0 #<! Generating many samples"
   ]
  },
  {
   "attachments": {},
   "cell_type": "markdown",
   "metadata": {},
   "source": [
    "* <font color='red'>(**?**)</font> Are the samples generated by the model?"
   ]
  },
  {
   "cell_type": "code",
   "execution_count": null,
   "metadata": {
    "ExecuteTime": {
     "end_time": "2022-02-02T17:53:07.834772Z",
     "start_time": "2022-02-02T17:53:07.448832Z"
    }
   },
   "outputs": [],
   "source": [
    "# Plot of the Estimation Function\n",
    "\n",
    "def PlotEstimation(µ0: float = 0, ß: float = 1 , numSamples: int = 100):\n",
    "    \n",
    "    # Validate input\n",
    "    ß           = max(0.0001, ß)\n",
    "    numSamples  = max(1, numSamples)\n",
    "    \n",
    "    vX      = vZ[:numSamples]\n",
    "    meanX   = np.mean(vX)\n",
    "    vRange  = [-10, 10]\n",
    "    vMu     = np.linspace(vRange[0], vRange[1], 1001)\n",
    "    vBins   = np.linspace(vRange[0], vRange[1], max(int(3 * np.sqrt(numSamples)), 5))\n",
    "    vPdf    = sp.stats.norm.pdf(vMu, µ0, np.sqrt(1 / ß))\n",
    "    vPdf   /= np.max(vPdf)\n",
    "    \n",
    "    µMAP = (µ0 * ß + numSamples * meanX) / (ß + numSamples)\n",
    "    \n",
    "    plt.figure (figsize = (12, 5))\n",
    "    plt.hist(vX, bins = vBins, facecolor = 'blue', alpha = 0.5, edgecolor = 'k', label = '$x_i$')\n",
    "    plt.plot(vMu, vPdf * plt.ylim()[1], color='g', linewidth = 3, label = r'$f_{\\mu}\\left(\\mu\\right)$')\n",
    "    plt.axvline(x = µMAP, linewidth = 3, color='r', linestyle = '-', label = '$\\hat{\\mu}_{\\mathrm{MAP}}$')\n",
    "    plt.axvline(x = meanX, linewidth = 3, color='b', linestyle = '--', label = '$\\overline{x}$')\n",
    "    plt.title(r'$\\beta = ' + f'{ß:0.3f}' + '$')\n",
    "    plt.legend()  \n"
   ]
  },
  {
   "attachments": {},
   "cell_type": "markdown",
   "metadata": {},
   "source": [
    "## The MAP Estimator\n",
    "\n",
    "$$\\boxed{\\hat{\\mu}_{\\mathrm{MAP}}=\\frac{ {\\mu}_{0} \\beta+N\\overline{x}}{\\beta+N}},\\qquad\\overline{x}=\\frac{1}{N}\\sum_{i=1}^{N}x_{i}, \\qquad \\beta:=\\frac{\\sigma_{x}^{2}}{\\sigma_{\\mu}^{2}}$$\n",
    "$\\beta\\to0$: ignore prior  \n",
    "$\\beta\\to\\infty$: ignore observations "
   ]
  },
  {
   "cell_type": "code",
   "execution_count": null,
   "metadata": {},
   "outputs": [],
   "source": [
    "# Interactive Visualization\n",
    "µ0Slider = FloatSlider(min = -20, max = 20, step = 0.1, value = µ0, layout = Layout(width = '30%'))\n",
    "ßSlider  = FloatSlider(min = 0, max = 250, step = 0.01, value = 0, layout = Layout(width = '30%'))\n",
    "nSlider  = IntSlider(min = 1, max = numSamples, step = 1, value = 100, layout = Layout(width = '30%'))\n",
    "interact(PlotEstimation, µ0 = µ0Slider, ß = ßSlider, numSamples = nSlider)\n",
    "\n",
    "plt.show()"
   ]
  }
 ],
 "metadata": {
  "kernelspec": {
   "display_name": "Python 3",
   "language": "python",
   "name": "python3"
  },
  "language_info": {
   "codemirror_mode": {
    "name": "ipython",
    "version": 3
   },
   "file_extension": ".py",
   "mimetype": "text/x-python",
   "name": "python",
   "nbconvert_exporter": "python",
   "pygments_lexer": "ipython3",
   "version": "3.10.9"
  },
  "toc": {
   "base_numbering": 1,
   "nav_menu": {},
   "number_sections": false,
   "sideBar": true,
   "skip_h1_title": false,
   "title_cell": "Table of Contents",
   "title_sidebar": "Contents",
   "toc_cell": false,
   "toc_position": {},
   "toc_section_display": true,
   "toc_window_display": false
  },
  "varInspector": {
   "cols": {
    "lenName": 16,
    "lenType": 16,
    "lenVar": 40
   },
   "kernels_config": {
    "python": {
     "delete_cmd_postfix": "",
     "delete_cmd_prefix": "del ",
     "library": "var_list.py",
     "varRefreshCmd": "print(var_dic_list())"
    },
    "r": {
     "delete_cmd_postfix": ") ",
     "delete_cmd_prefix": "rm(",
     "library": "var_list.r",
     "varRefreshCmd": "cat(var_dic_list()) "
    }
   },
   "types_to_exclude": [
    "module",
    "function",
    "builtin_function_or_method",
    "instance",
    "_Feature"
   ],
   "window_display": false
  },
  "vscode": {
   "interpreter": {
    "hash": "4c555be6fa9458c8c75b4612c68315d9f1d74815b73d0e564fda29ad772cfcda"
   }
  }
 },
 "nbformat": 4,
 "nbformat_minor": 4
}
