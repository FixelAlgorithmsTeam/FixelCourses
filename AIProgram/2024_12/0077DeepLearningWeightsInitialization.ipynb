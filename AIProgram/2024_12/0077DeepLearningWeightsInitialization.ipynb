{
 "cells": [
  {
   "attachments": {},
   "cell_type": "markdown",
   "metadata": {},
   "source": [
    "[![Fixel Algorithms](https://i.imgur.com/AqKHVZ0.png)](https://fixelalgorithms.gitlab.io/)\n",
    "\n",
    "# AI Program\n",
    "\n",
    "## Machine Learning - Deep Learning - Weights Initialization\n",
    "\n",
    "> Notebook by:\n",
    "> - Royi Avital RoyiAvital@fixelalgorithms.com\n",
    "\n",
    "## Revision History\n",
    "\n",
    "| Version | Date       | User        |Content / Changes                                                   |\n",
    "|---------|------------|-------------|--------------------------------------------------------------------|\n",
    "| 1.0.000 | 24/04/2024 | Royi Avital | First version                                                      |"
   ]
  },
  {
   "attachments": {},
   "cell_type": "markdown",
   "metadata": {},
   "source": [
    "[![Open In Colab](https://colab.research.google.com/assets/colab-badge.svg)](https://colab.research.google.com/github/FixelAlgorithmsTeam/FixelCourses/blob/master/AIProgram/2024_02/0077DeepLearningWeightsInitialization.ipynb)"
   ]
  },
  {
   "cell_type": "code",
   "execution_count": null,
   "metadata": {
    "ExecuteTime": {
     "end_time": "2022-02-02T09:30:06.492269Z",
     "start_time": "2022-02-02T09:30:06.220934Z"
    }
   },
   "outputs": [],
   "source": [
    "# Import Packages\n",
    "\n",
    "# General Tools\n",
    "import numpy as np\n",
    "import scipy as sp\n",
    "import pandas as pd\n",
    "\n",
    "# Machine Learning\n",
    "from sklearn.datasets import fetch_openml\n",
    "from sklearn.linear_model import LinearRegression\n",
    "from sklearn.metrics import r2_score\n",
    "from sklearn.model_selection import train_test_split\n",
    "\n",
    "# Miscellaneous\n",
    "import math\n",
    "import os\n",
    "from platform import python_version\n",
    "import random\n",
    "import time\n",
    "\n",
    "# Typing\n",
    "from typing import Callable, Dict, List, Optional, Self, Set, Tuple, Union\n",
    "\n",
    "# Visualization\n",
    "import matplotlib as mpl\n",
    "import matplotlib.pyplot as plt\n",
    "import seaborn as sns\n",
    "\n",
    "# Jupyter\n",
    "from IPython import get_ipython\n",
    "from IPython.display import Image\n",
    "from IPython.display import display\n",
    "from ipywidgets import Dropdown, FloatSlider, interact, IntSlider, Layout, SelectionSlider\n",
    "from ipywidgets import interact"
   ]
  },
  {
   "attachments": {},
   "cell_type": "markdown",
   "metadata": {},
   "source": [
    "## Notations\n",
    "\n",
    "* <font color='red'>(**?**)</font> Question to answer interactively.\n",
    "* <font color='blue'>(**!**)</font> Simple task to add code for the notebook.\n",
    "* <font color='green'>(**@**)</font> Optional / Extra self practice.\n",
    "* <font color='brown'>(**#**)</font> Note / Useful resource / Food for thought.\n",
    "\n",
    "Code Notations:\n",
    "\n",
    "```python\n",
    "someVar    = 2; #<! Notation for a variable\n",
    "vVector    = np.random.rand(4) #<! Notation for 1D array\n",
    "mMatrix    = np.random.rand(4, 3) #<! Notation for 2D array\n",
    "tTensor    = np.random.rand(4, 3, 2, 3) #<! Notation for nD array (Tensor)\n",
    "tuTuple    = (1, 2, 3) #<! Notation for a tuple\n",
    "lList      = [1, 2, 3] #<! Notation for a list\n",
    "dDict      = {1: 3, 2: 2, 3: 1} #<! Notation for a dictionary\n",
    "oObj       = MyClass() #<! Notation for an object\n",
    "dfData     = pd.DataFrame() #<! Notation for a data frame\n",
    "dsData     = pd.Series() #<! Notation for a series\n",
    "hObj       = plt.Axes() #<! Notation for an object / handler / function handler\n",
    "```\n",
    "\n",
    "### Code Exercise\n",
    "\n",
    " - Single line fill\n",
    "\n",
    " ```python\n",
    " vallToFill = ???\n",
    " ```\n",
    "\n",
    " - Multi Line to Fill (At least one)\n",
    "\n",
    " ```python\n",
    " # You need to start writing\n",
    " ????\n",
    " ```\n",
    "\n",
    " - Section to Fill\n",
    "\n",
    "```python\n",
    "#===========================Fill This===========================#\n",
    "# 1. Explanation about what to do.\n",
    "# !! Remarks to follow / take under consideration.\n",
    "mX = ???\n",
    "\n",
    "???\n",
    "#===============================================================#\n",
    "```"
   ]
  },
  {
   "cell_type": "code",
   "execution_count": null,
   "metadata": {},
   "outputs": [],
   "source": [
    "# Configuration\n",
    "# %matplotlib inline\n",
    "\n",
    "seedNum = 512\n",
    "np.random.seed(seedNum)\n",
    "random.seed(seedNum)\n",
    "\n",
    "# Matplotlib default color palette\n",
    "lMatPltLibclr = ['#1f77b4', '#ff7f0e', '#2ca02c', '#d62728', '#9467bd', '#8c564b', '#e377c2', '#7f7f7f', '#bcbd22', '#17becf']\n",
    "# sns.set_theme() #>! Apply SeaBorn theme\n",
    "\n",
    "runInGoogleColab = 'google.colab' in str(get_ipython())\n"
   ]
  },
  {
   "cell_type": "code",
   "execution_count": null,
   "metadata": {},
   "outputs": [],
   "source": [
    "# Constants\n",
    "\n",
    "FIG_SIZE_DEF    = (8, 8)\n",
    "ELM_SIZE_DEF    = 50\n",
    "CLASS_COLOR     = ('b', 'r')\n",
    "EDGE_COLOR      = 'k'\n",
    "MARKER_SIZE_DEF = 10\n",
    "LINE_WIDTH_DEF  = 2\n",
    "\n",
    "D_CLASSES_FASHION_MNIST = {0: 'T-Shirt', 1: 'Trouser', 2: 'Pullover', 3: 'Dress', 4: 'Coat', 5: 'Sandal', 6: 'Shirt', 7: 'Sneaker', 8: 'Bag', 9: 'Boots'}\n",
    "L_CLASSES_FASHION_MNIST = ['T-Shirt', 'Trouser', 'Pullover', 'Dress', 'Coat', 'Sandal', 'Shirt', 'Sneaker', 'Bag', 'Boots']\n"
   ]
  },
  {
   "cell_type": "code",
   "execution_count": null,
   "metadata": {},
   "outputs": [],
   "source": [
    "# Courses Packages\n",
    "\n",
    "from DataVisualization import PlotLabelsHistogram, PlotMnistImages\n",
    "from DeepLearningBlocks import CrossEntropyLoss, LinearLayer, NNWeightInit, ReLULayer\n",
    "from DeepLearningBlocks import ModelNN\n"
   ]
  },
  {
   "cell_type": "code",
   "execution_count": null,
   "metadata": {},
   "outputs": [],
   "source": [
    "# General Auxiliary Functions\n"
   ]
  },
  {
   "cell_type": "markdown",
   "metadata": {},
   "source": [
    "## Neural Net Weights Initialization\n",
    "\n",
    "Proper weights initialization was one of the earliest and effective ways to avoid 2 main issues in training:\n",
    "\n",
    " * Exploding Gradients  \n",
    "   The gradients of the nets had large values which means the training phase was instable.  \n",
    "   It is an indication being far away from a proper local minima.\n",
    " * Vanishing Gradients  \n",
    "   Vanishing gradients reduces the ability of the net to learn.  \n",
    "   Basically means some of its capabilities are turned off.\n",
    "\n",
    "The concept of proper initialization tries to maximize the probability of the net starting point to be closer to a proper local minima.  \n",
    "The idea is to set the weights in a manner which keeps the variance of the data moving in the net proper in the first forward step.\n",
    "\n",
    "This notebook shows a simple case where the initialization has an effect on the performance (Mainly speed of convergence) of the net.\n",
    "\n",
    "* <font color='brown'>(**#**)</font> A rule of thumb states that a _proper local minima_ is at the basis of a wide and deep valley (See [Effect of Depth and Width on Local Minima in Deep Learning](https://arxiv.org/abs/1811.08150)).\n",
    "* <font color='brown'>(**#**)</font> An interactive analysis of weights initialization is given by [DeepLearning.AI - Initializing Neural Networks](https://www.deeplearning.ai/ai-notes/initialization/index.html).\n",
    "* <font color='brown'>(**#**)</font> An interactive analysis of parameter optimization is given by [DeepLearning.AI - Parameter Optimization in Neural Networks](https://www.deeplearning.ai/ai-notes/optimization/index.html)."
   ]
  },
  {
   "cell_type": "code",
   "execution_count": null,
   "metadata": {},
   "outputs": [],
   "source": [
    "# Parameters\n",
    "\n",
    "# Data\n",
    "numSamplesTrain = 60_000\n",
    "numSamplesTest  = 10_000\n",
    "\n",
    "# Model\n",
    "hidLayerDim = 200\n",
    "\n",
    "# Training\n",
    "numIter = 300\n",
    "µ       = 0.35 #!< Step Size \\ Learning Rate\n",
    "\n",
    "# Visualization\n",
    "numImg = 3\n"
   ]
  },
  {
   "cell_type": "markdown",
   "metadata": {},
   "source": [
    "## Generate / Load Data\n",
    "\n",
    "Load the [Fashion MNIST Data Set](https://github.com/zalandoresearch/fashion-mnist).  \n",
    "\n",
    "The _Fashion MNIST Data Set_ is considerably more challenging than the original MNIST though it is still no match to Deep Learning models.\n",
    "\n",
    "* <font color='brown'>(**#**)</font> The data set is available at [OpenML - Fashion MNIST](https://www.openml.org/search?type=data&id=40996).  \n",
    "  Yet it is not separated into the original _test_ and _train_ sets."
   ]
  },
  {
   "cell_type": "code",
   "execution_count": null,
   "metadata": {},
   "outputs": [],
   "source": [
    "# Load Data\n",
    "\n",
    "mX, vY = fetch_openml('Fashion-MNIST', version = 1, return_X_y = True, as_frame = False, parser = 'auto')\n",
    "vY = vY.astype(np.int_) #<! The labels are strings, convert to integer\n",
    "\n",
    "print(f'The features data shape: {mX.shape}')\n",
    "print(f'The labels data shape: {vY.shape}')\n",
    "print(f'The unique values of the labels: {np.unique(vY)}')\n"
   ]
  },
  {
   "cell_type": "code",
   "execution_count": null,
   "metadata": {},
   "outputs": [],
   "source": [
    "# Pre Process Data\n",
    "\n",
    "mX = mX / 255.0"
   ]
  },
  {
   "cell_type": "markdown",
   "metadata": {},
   "source": [
    "* <font color='red'>(**?**)</font> Does the scaling affects the training phase? Think about the _Learning Rate_."
   ]
  },
  {
   "cell_type": "markdown",
   "metadata": {},
   "source": [
    "### Plot the Data"
   ]
  },
  {
   "cell_type": "code",
   "execution_count": null,
   "metadata": {},
   "outputs": [],
   "source": [
    "# Plot the Data\n",
    "\n",
    "hF = PlotMnistImages(mX, vY, numImg)"
   ]
  },
  {
   "cell_type": "code",
   "execution_count": null,
   "metadata": {},
   "outputs": [],
   "source": [
    "# Histogram of Labels\n",
    "\n",
    "hA = PlotLabelsHistogram(vY, lClass = L_CLASSES_FASHION_MNIST)\n",
    "plt.show()"
   ]
  },
  {
   "cell_type": "markdown",
   "metadata": {},
   "source": [
    "### Train & Test Split\n",
    "\n",
    "The data is split into _Train_ and _Test_ data sets.  \n",
    "\n",
    "* <font color='brown'>(**#**)</font> Deep Learning is _big data_ oriented, hence it can easily handle all samples in a single _batch_.  \n",
    "  Though usually, for complex (Deep) nets and larger images the concept of _batch_ and _epoch_ is used."
   ]
  },
  {
   "cell_type": "code",
   "execution_count": null,
   "metadata": {},
   "outputs": [],
   "source": [
    "# Train Test Split\n",
    "\n",
    "numClass = len(np.unique(vY))\n",
    "mXTrain, mXTest, vYTrain, vYTest = train_test_split(mX, vY, test_size = numSamplesTest, train_size = numSamplesTrain, shuffle = True, stratify = vY)\n",
    "\n",
    "print(f'The training features data shape: {mXTrain.shape}')\n",
    "print(f'The training labels data shape: {vYTrain.shape}')\n",
    "print(f'The test features data shape: {mXTest.shape}')\n",
    "print(f'The test labels data shape: {vYTest.shape}')\n",
    "print(f'The unique values of the labels: {np.unique(vY)}')\n"
   ]
  },
  {
   "cell_type": "markdown",
   "metadata": {},
   "source": [
    "## Train by Epochs\n",
    "\n",
    "In Deep Learning the data is usually trained in batches.  \n",
    "The motivations are:\n",
    "\n",
    " * Memory Limitations.\n",
    " * Speed.\n",
    " * Regularization (Avoid Overfit).\n",
    "\n",
    "An _Epoch_ is a set of batches which consists the whole data set.\n",
    "\n",
    "This section implements a few auxiliary function to support the modular training phase of a NN.\n",
    "\n",
    "* <font color='brown'>(**#**)</font> If a batch is the size of the whole data set, each iteration is an _Epoch_."
   ]
  },
  {
   "cell_type": "markdown",
   "metadata": {},
   "source": [
    "\n",
    "<!-- ![Number Iterations per Epoch for a Batch Size](https://i.imgur.com/XvK4QtL.png)\n",
    " \n",
    " \n",
    " * Credit to [Chandra Prakash Bathula - Demystifying Epoch in Machine Learning: Unleashing the Power of Iterative Learning](https://scribe.rip/979f4ae5a5b6). -->\n",
    "\n",
    "![Number Iterations per Epoch for a Batch Size](https://i.imgur.com/HLoYAna.png)"
   ]
  },
  {
   "cell_type": "code",
   "execution_count": null,
   "metadata": {},
   "outputs": [],
   "source": [
    "# Epoch Training Auxiliary Functions\n",
    "\n",
    "# Calculate Classification Accuracy from Logits (Vector prior to SoftMax)\n",
    "def ScoreAccLogits( mScore: np.ndarray, vY: np.ndarray ) -> np.float_:\n",
    "    \"\"\"\n",
    "    Calculates the classification accuracy.  \n",
    "    Input:\n",
    "        mScore      - Matrix (numCls, batchSize) of the Logits Score.\n",
    "        vY          - Vector (batchSize, ) of the reference classes: {0, 1, .., numCls - 1}.\n",
    "    Output:\n",
    "        valAcc      - Scalar of the accuracy in [0, 1] range.\n",
    "    Remarks:\n",
    "      - The Logits are assumed to be monotonic with regard to probabilities.  \n",
    "        Namely, the class probability is a monotonic transformation of the Logit.  \n",
    "        For instance, by a SoftMax.\n",
    "      - Classes are in the range {0, 1, ..., numCls - 1}.\n",
    "    \"\"\"\n",
    "    \n",
    "    vYHat  = np.argmax(mScore, axis = 0) #<! Class prediction\n",
    "    valAcc = np.mean(vYHat == vY)\n",
    "    \n",
    "    return valAcc\n",
    "\n",
    "\n",
    "def TrainEpoch( oModel: ModelNN, mX: np.ndarray, vY: np.ndarray, learnRate: float, hL: Callable, hS: Callable ) -> Tuple[float, float]:\n",
    "    \"\"\"\n",
    "    Applies a single Epoch training of a model.  \n",
    "    Input:\n",
    "        oModel      - ModelNN which supports `Forward()` and `Backward()` methods.\n",
    "        mX          - Matrix (dataDim, numSamples) of the data input.\n",
    "        vY          - Vector (numSamples, ) of the reference labels.\n",
    "        learnRate   - Scalar of the learning rate in the range (0, inf).\n",
    "        hL          - Callable for the Loss function.\n",
    "        hS          - Callable for the Score function.\n",
    "    Output:\n",
    "        valLoss     - Scalar of the loss.\n",
    "        valScore    - Scalar of the score.\n",
    "    Remarks:\n",
    "      - The `hL` function should accept the `vY` (Reference target) and `mZ` (Output of the NN).  \n",
    "        It should return a Tuple of `valLoss` (Scalar of the loss) and `mDz` (Gradient by the loss).\n",
    "      - The `hS` function should accept the `vY` (Reference target) and `mZ` (Output of the NN).  \n",
    "        It should return a scalar `valScore` of the score.\n",
    "    \"\"\"\n",
    "    # Forward\n",
    "    mZ              = oModel.Forward(mX)\n",
    "    valLoss, mDz    = hL(vY, mZ)\n",
    "\n",
    "    # Backward\n",
    "    oModel.Backward(mDz)\n",
    "\n",
    "    # Gradient Descent (Update parameters\n",
    "    for oLayer in oModel.lLayers:\n",
    "        for sParam in oLayer.dGrads:\n",
    "            oLayer.dParams[sParam] -= learnRate * oLayer.dGrads[sParam]\n",
    "              \n",
    "    # Score\n",
    "    valScore = hS(mZ, vY)\n",
    "            \n",
    "    return valLoss, valScore\n",
    "\n",
    "\n",
    "def ScoreEpoch( oModel: ModelNN, mX: np.ndarray, vY: np.ndarray, hL: Callable, hS: Callable ) -> Tuple[float, float]:\n",
    "    \"\"\"\n",
    "    Calculates the loss and the score of a model over an Epoch.  \n",
    "    Input:\n",
    "        oModel      - ModelNN which supports `Forward()` and `Backward()` methods.\n",
    "        mX          - Matrix (dataDim, numSamples) of the data input.\n",
    "        vY          - Vector (numSamples, ) of the reference labels.\n",
    "        hL          - Callable for the Loss function.\n",
    "        hS          - Callable for the Score function.\n",
    "    Output:\n",
    "        valLoss     - Scalar of the loss.\n",
    "        valScore    - Scalar of the score.\n",
    "    Remarks:\n",
    "      - The `hL` function should accept the `vY` (Reference target) and `mZ` (Output of the NN).  \n",
    "        It should return a Tuple of `valLoss` (Scalar of the loss) and `mDz` (Gradient by the loss).\n",
    "      - The `hS` function should accept the `vY` (Reference target) and `mZ` (Output of the NN).  \n",
    "        It should return a scalar `valScore` of the score.\n",
    "      - The function does not optimize the model parameter.\n",
    "    \"\"\"\n",
    "    \n",
    "    # Forward\n",
    "    mZ          = oModel.Forward(mX)\n",
    "    valLoss, _  = hL(vY, mZ)\n",
    "    # Score\n",
    "    valScore    = hS(mZ, vY)\n",
    "    \n",
    "    return valLoss, valScore"
   ]
  },
  {
   "cell_type": "code",
   "execution_count": null,
   "metadata": {},
   "outputs": [],
   "source": [
    "# Training Model Function\n",
    "def TrainModel( oModel: ModelNN, mXTrain: np.ndarray, vYTrain: np.ndarray, mXVal: np.ndarray, vYVal: np.ndarray, numEpoch: int, hL: Callable, hS: Callable, learnRate: float ) -> Tuple[List, List, List, List]:\n",
    "\n",
    "    lTrainLoss  = []\n",
    "    lTrainScore = []\n",
    "    lValLoss    = []\n",
    "    lValScore   = []\n",
    "\n",
    "    for ii in range(numEpoch):\n",
    "        startTime           = time.time()\n",
    "        trainLoss, trainScr = TrainEpoch(oModel, mXTrain, vYTrain, learnRate, hL, hS) #<! Train\n",
    "        valLoss,   valScr   = ScoreEpoch(oModel, mXVal, vYVal, hL, hS)                #<! Score Validation\n",
    "        endTime             = time.time()\n",
    "\n",
    "        # Aggregate Results\n",
    "        lTrainLoss.append(trainLoss)\n",
    "        lTrainScore.append(trainScr)\n",
    "        lValLoss.append(valLoss)\n",
    "        lValScore.append(valScr)\n",
    "        \n",
    "        # Display (Babysitting)\n",
    "        print('Epoch '              f'{(ii + 1):4d} / ' f'{numEpoch}:', end = '')\n",
    "        print(' | Train Loss: '     f'{trainLoss          :6.3f}', end = '')\n",
    "        print(' | Val Loss: '       f'{valLoss            :6.3f}', end = '')\n",
    "        print(' | Train Score: '    f'{trainScr           :6.3f}', end = '')\n",
    "        print(' | Val Score: '      f'{valScr             :6.3f}', end = '')\n",
    "        print(' | Epoch Time: '     f'{(endTime-startTime):6.3f} |')\n",
    "\n",
    "    return lTrainLoss, lTrainScore, lValLoss, lValScore\n"
   ]
  },
  {
   "cell_type": "markdown",
   "metadata": {},
   "source": [
    "## Normalization and Initialization Effects\n",
    "\n",
    "This section compares 2 cases:\n",
    "\n",
    "1. Data with no normalization and trivial initialization.\n",
    "2. Data with normalization and _Kaiming_ initialization.\n",
    "\n",
    "* <font color='brown'>(**#**)</font> The initialization of weights is based on the Kaiming Method as the activation layer is `ReLULayer()`.  \n",
    "  See [Delving Deep into Rectifiers: Surpassing Human Level Performance on ImageNet Classification](https://arxiv.org/abs/1502.01852) and [Kaiming He Initialization](https://scribe.rip/a8d9ed0b5899).\n",
    "* <font color='brown'>(**#**)</font> The _Kaiming_ initialization is also known as _He_ initialization as the name of the researcher is Kaiming He.  \n",
    "* <font color='brown'>(**#**)</font> The SoftMax + CrossEntropy are both defined as part of the loss function and not the model.  "
   ]
  },
  {
   "cell_type": "code",
   "execution_count": null,
   "metadata": {},
   "outputs": [],
   "source": [
    "# Train Parameters\n",
    "nEpochs     = 10\n",
    "learnRate   = 2e-1"
   ]
  },
  {
   "cell_type": "markdown",
   "metadata": {},
   "source": [
    "### Naive Training"
   ]
  },
  {
   "cell_type": "code",
   "execution_count": null,
   "metadata": {},
   "outputs": [],
   "source": [
    "# Define Model\n",
    "\n",
    "# Initialization matches previous notebooks\n",
    "oModel = ModelNN([\n",
    "        LinearLayer(784, 200, initMethod = NNWeightInit.CONST, initStd = (1.0 / mX.shape[1])), ReLULayer(),\n",
    "        LinearLayer(200, 10,  initMethod = NNWeightInit.CONST, initStd = (1.0 / mX.shape[1])),\n",
    "        ])"
   ]
  },
  {
   "cell_type": "code",
   "execution_count": null,
   "metadata": {},
   "outputs": [],
   "source": [
    "# Training\n",
    "\n",
    "_, _, lValLossNaive, lValScoreNaive = TrainModel(oModel, mXTrain.T, vYTrain, mXTest.T, vYTest, nEpochs, CrossEntropyLoss, ScoreAccLogits, learnRate)"
   ]
  },
  {
   "cell_type": "markdown",
   "metadata": {},
   "source": [
    "### Optimized Training"
   ]
  },
  {
   "cell_type": "code",
   "execution_count": null,
   "metadata": {},
   "outputs": [],
   "source": [
    "# Pre Process Data\n",
    "\n",
    "vMean = np.mean(mXTrain, axis = 0)\n",
    "vStd  = np.std(mXTrain, axis = 0)\n",
    "\n",
    "# Processing the test data based on the train data!\n",
    "mXTrain -= vMean\n",
    "mXTest  -= vMean\n",
    "mXTrain /= vStd\n",
    "mXTest  /= vStd"
   ]
  },
  {
   "cell_type": "code",
   "execution_count": null,
   "metadata": {},
   "outputs": [],
   "source": [
    "# Define Model\n",
    "\n",
    "# Initialization with Kaiming to match the ReLU layers\n",
    "oModel = ModelNN([\n",
    "        LinearLayer(784, 200, initMethod = NNWeightInit.KAIMING), ReLULayer(),\n",
    "        LinearLayer(200, 10,  initMethod = NNWeightInit.KAIMING),\n",
    "        ])"
   ]
  },
  {
   "cell_type": "code",
   "execution_count": null,
   "metadata": {},
   "outputs": [],
   "source": [
    "# Training\n",
    "\n",
    "_, _, lValLossOpt, lValScoreOpt = TrainModel(oModel, mXTrain.T, vYTrain, mXTest.T, vYTest, nEpochs, CrossEntropyLoss, ScoreAccLogits, learnRate)"
   ]
  },
  {
   "cell_type": "markdown",
   "metadata": {},
   "source": [
    "* <font color='red'>(**?**)</font> Explain why thee score of the validation is higher than the train on the 1st epoch?  \n",
    "  Look at the `mZ` in the `TrainEpoch()` function."
   ]
  },
  {
   "cell_type": "code",
   "execution_count": null,
   "metadata": {},
   "outputs": [],
   "source": [
    "# Plot Results\n",
    "\n",
    "hF, vHa = plt.subplots(nrows = 1, ncols = 2, figsize = (12, 6))\n",
    "\n",
    "hA = vHa.flat[0]\n",
    "hA.plot(lValLossNaive, lw = 2, label = 'Naive')\n",
    "hA.plot(lValLossOpt, lw = 2, label = 'Optimized')\n",
    "hA.grid()\n",
    "hA.set_title('Cross Entropy Loss')\n",
    "hA.set_xlabel('Epoch Index')\n",
    "hA.set_ylabel('Loss')\n",
    "hA.legend();\n",
    "\n",
    "hA = vHa.flat[1]\n",
    "hA.plot(lValScoreNaive, lw = 2, label = 'Naive')\n",
    "hA.plot(lValScoreOpt, lw = 2, label = 'Optimized')\n",
    "hA.grid()\n",
    "hA.set_title('Accuracy Score')\n",
    "hA.set_xlabel('Epoch Index')\n",
    "hA.set_ylabel('Score')\n",
    "hA.legend();"
   ]
  },
  {
   "cell_type": "markdown",
   "metadata": {},
   "source": [
    "## Coding Exercise\n",
    "\n",
    "Implement a function to count the number of parameters of a given model."
   ]
  },
  {
   "cell_type": "code",
   "execution_count": null,
   "metadata": {},
   "outputs": [],
   "source": [
    "def CountModelParams( oModel: ModelNN ) -> int:\n",
    "    \"\"\"\n",
    "    Calculates the number of parameters of a model.  \n",
    "    Input:\n",
    "        oModel      - ModelNN which supports `Forward()` and `Backward()` methods.\n",
    "    Output:\n",
    "        numParams   - Scalar of the number of parameters in the model.\n",
    "    Remarks:\n",
    "      - AA\n",
    "    \"\"\"\n",
    "\n",
    "    #===========================Fill This===========================#\n",
    "    ?????\n",
    "    #===============================================================#\n",
    "    \n",
    "    return numParams"
   ]
  },
  {
   "cell_type": "code",
   "execution_count": null,
   "metadata": {},
   "outputs": [],
   "source": [
    "# Verify Implementation\n",
    "\n",
    "numParams = 159010\n",
    "\n",
    "assert (CountModelParams(oModel) == numParams), \"Implementation is not verified\"\n",
    "print(f'Implementation is verified')"
   ]
  }
 ],
 "metadata": {
  "kernelspec": {
   "display_name": "Python 3",
   "language": "python",
   "name": "python3"
  },
  "language_info": {
   "codemirror_mode": {
    "name": "ipython",
    "version": 3
   },
   "file_extension": ".py",
   "mimetype": "text/x-python",
   "name": "python",
   "nbconvert_exporter": "python",
   "pygments_lexer": "ipython3",
   "version": "3.11.9"
  },
  "toc": {
   "base_numbering": 1,
   "nav_menu": {},
   "number_sections": false,
   "sideBar": true,
   "skip_h1_title": false,
   "title_cell": "Table of Contents",
   "title_sidebar": "Contents",
   "toc_cell": false,
   "toc_position": {},
   "toc_section_display": true,
   "toc_window_display": true
  },
  "varInspector": {
   "cols": {
    "lenName": 16,
    "lenType": 16,
    "lenVar": 40
   },
   "kernels_config": {
    "python": {
     "delete_cmd_postfix": "",
     "delete_cmd_prefix": "del ",
     "library": "var_list.py",
     "varRefreshCmd": "print(var_dic_list())"
    },
    "r": {
     "delete_cmd_postfix": ") ",
     "delete_cmd_prefix": "rm(",
     "library": "var_list.r",
     "varRefreshCmd": "cat(var_dic_list()) "
    }
   },
   "types_to_exclude": [
    "module",
    "function",
    "builtin_function_or_method",
    "instance",
    "_Feature"
   ],
   "window_display": false
  },
  "vscode": {
   "interpreter": {
    "hash": "39577bab1f263e62e0b74f5b8086bd735049bf4751f6562b2d4b2969dc308293"
   }
  }
 },
 "nbformat": 4,
 "nbformat_minor": 4
}
