{
 "cells": [
  {
   "attachments": {},
   "cell_type": "markdown",
   "metadata": {},
   "source": [
    "[![Fixel Algorithms](https://i.imgur.com/AqKHVZ0.png)](https://fixelalgorithms.gitlab.io/)\n",
    "\n",
    "# AI Program\n",
    "\n",
    "## Exercise 0007 - Regression\n",
    "\n",
    "> Notebook by:\n",
    "> - Royi Avital RoyiAvital@fixelalgorithms.com\n",
    "\n",
    "## Revision History\n",
    "\n",
    "| Version | Date       | User        |Content / Changes                                                   |\n",
    "|---------|------------|-------------|--------------------------------------------------------------------|\n",
    "| 1.0.002 | 10/04/2024 | Royi Avital | Fixed a typo in section header                                     |\n",
    "| 1.0.001 | 08/04/2024 | Royi Avital | Fixed the calculation of the _Pearson Correlation Coefficient_     |\n",
    "| 1.0.000 | 23/03/2024 | Royi Avital | First version                                                      |"
   ]
  },
  {
   "attachments": {},
   "cell_type": "markdown",
   "metadata": {},
   "source": [
    "[![Open In Colab](https://colab.research.google.com/assets/colab-badge.svg)](https://colab.research.google.com/github/FixelAlgorithmsTeam/FixelCourses/blob/master/AIProgram/2024_02/Exercise0007.ipynb)"
   ]
  },
  {
   "cell_type": "code",
   "execution_count": null,
   "metadata": {
    "ExecuteTime": {
     "end_time": "2022-02-02T09:30:06.492269Z",
     "start_time": "2022-02-02T09:30:06.220934Z"
    }
   },
   "outputs": [],
   "source": [
    "# Import Packages\n",
    "\n",
    "# General Tools\n",
    "import numpy as np\n",
    "import scipy as sp\n",
    "import pandas as pd\n",
    "\n",
    "# Machine Learning\n",
    "from sklearn.base import BaseEstimator, RegressorMixin\n",
    "from sklearn.linear_model import LinearRegression\n",
    "from sklearn.pipeline import Pipeline\n",
    "from sklearn.preprocessing import PolynomialFeatures\n",
    "\n",
    "# Miscellaneous\n",
    "import gdown\n",
    "import json\n",
    "import os\n",
    "import random\n",
    "import urllib.request\n",
    "import re\n",
    "\n",
    "# Typing\n",
    "from typing import Callable, Dict, List, Optional, Self, Set, Tuple, Union\n",
    "\n",
    "# Visualization\n",
    "import matplotlib as mpl\n",
    "import matplotlib.pyplot as plt\n",
    "import seaborn as sns\n",
    "\n",
    "# Jupyter\n",
    "from IPython import get_ipython"
   ]
  },
  {
   "attachments": {},
   "cell_type": "markdown",
   "metadata": {},
   "source": [
    "## Notations\n",
    "\n",
    "* <font color='red'>(**?**)</font> Question to answer interactively.\n",
    "* <font color='blue'>(**!**)</font> Simple task to add code for the notebook.\n",
    "* <font color='green'>(**@**)</font> Optional / Extra self practice.\n",
    "* <font color='brown'>(**#**)</font> Note / Useful resource / Food for thought.\n",
    "\n",
    "Code Notations:\n",
    "\n",
    "```python\n",
    "someVar    = 2; #<! Notation for a variable\n",
    "vVector    = np.random.rand(4) #<! Notation for 1D array\n",
    "mMatrix    = np.random.rand(4, 3) #<! Notation for 2D array\n",
    "tTensor    = np.random.rand(4, 3, 2, 3) #<! Notation for nD array (Tensor)\n",
    "tuTuple    = (1, 2, 3) #<! Notation for a tuple\n",
    "lList      = [1, 2, 3] #<! Notation for a list\n",
    "dDict      = {1: 3, 2: 2, 3: 1} #<! Notation for a dictionary\n",
    "oObj       = MyClass() #<! Notation for an object\n",
    "dfData     = pd.DataFrame() #<! Notation for a data frame\n",
    "dsData     = pd.Series() #<! Notation for a series\n",
    "hObj       = plt.Axes() #<! Notation for an object / handler / function handler\n",
    "```\n",
    "\n",
    "### Code Exercise\n",
    "\n",
    " - Single line fill\n",
    "\n",
    " ```python\n",
    " vallToFill = ???\n",
    " ```\n",
    "\n",
    " - Multi Line to Fill (At least one)\n",
    "\n",
    " ```python\n",
    " # You need to start writing\n",
    " ????\n",
    " ```\n",
    "\n",
    " - Section to Fill\n",
    "\n",
    "```python\n",
    "#===========================Fill This===========================#\n",
    "# 1. Explanation about what to do.\n",
    "# !! Remarks to follow / take under consideration.\n",
    "mX = ???\n",
    "\n",
    "???\n",
    "#===============================================================#\n",
    "```"
   ]
  },
  {
   "cell_type": "code",
   "execution_count": null,
   "metadata": {},
   "outputs": [],
   "source": [
    "# Configuration\n",
    "# %matplotlib inline\n",
    "\n",
    "seedNum = 512\n",
    "np.random.seed(seedNum)\n",
    "random.seed(seedNum)\n",
    "\n",
    "sns.set_theme() #>! Apply SeaBorn theme\n",
    "\n",
    "runInGoogleColab = 'google.colab' in str(get_ipython())\n"
   ]
  },
  {
   "cell_type": "code",
   "execution_count": null,
   "metadata": {},
   "outputs": [],
   "source": [
    "# Constants\n",
    "\n",
    "PEOPLE_CSV_URL = 'https://github.com/FixelAlgorithmsTeam/FixelCourses/raw/master/DataSets/People.csv'\n"
   ]
  },
  {
   "cell_type": "code",
   "execution_count": null,
   "metadata": {},
   "outputs": [],
   "source": [
    "# Course Packages\n"
   ]
  },
  {
   "cell_type": "code",
   "execution_count": null,
   "metadata": {},
   "outputs": [],
   "source": [
    "# General Auxiliary Functions\n"
   ]
  },
  {
   "attachments": {},
   "cell_type": "markdown",
   "metadata": {},
   "source": [
    "## Exercise\n",
    "\n",
    "In this exercise we'll exercise 2 approaches to solving the same problem with Linear Regression.\n",
    "The models will employ a a Polynomial fit of degree `P`. \n",
    "\n",
    "We'll us the [`People.csv`](https://github.com/FixelAlgorithmsTeam/FixelCourses/blob/master/DataSets/People.csv) data set.  \n",
    "It includes 1000 samples of peoples: Sex, Age, Height (CM), Weight (KG).  \n",
    "\n",
    "The objective is to estimate the weight given the sex and height.  \n",
    "\n",
    "I this exercise we'll do the following:\n",
    "\n",
    "1. Load the [`People.csv`](https://github.com/FixelAlgorithmsTeam/FixelCourses/blob/master/DataSets/People.csv) data set using `pd.csv_read()`.\n",
    "2. Analyze the data and the effect of the age features.\n",
    "2. Create 2 estimators:\n",
    " - Treats both sex and height as a features for the polynomial fit.\n",
    " - Uses the sex as a selection of model and height as a feature for linear fit.\n",
    "3. Verify the estimator vs. `np.polyfit()`.\n",
    "4. Display th output of the model.\n",
    "\n",
    "* <font color='brown'>(**#**)</font> In order to let the classifier know the data is binary / categorical we'll use a **Data Frame** as the data structure."
   ]
  },
  {
   "cell_type": "code",
   "execution_count": null,
   "metadata": {},
   "outputs": [],
   "source": [
    "# Parameters\n",
    "\n",
    "# Model\n",
    "polynomDeg = 1\n",
    "\n",
    "# Data Visualization\n",
    "gridNoiseStd = 0.05\n",
    "numGridPts = 250"
   ]
  },
  {
   "cell_type": "markdown",
   "metadata": {},
   "source": [
    "* <font color='blue'>(**!**)</font> Fill the functions in `Auxiliary Functions` **after** reading the code below which use them."
   ]
  },
  {
   "cell_type": "markdown",
   "metadata": {},
   "source": [
    "## Generate / Load Data\n",
    "\n",
    "Load the classification data set."
   ]
  },
  {
   "cell_type": "code",
   "execution_count": null,
   "metadata": {},
   "outputs": [],
   "source": [
    "# Load Data\n",
    "\n",
    "dfPeople = pd.read_csv(PEOPLE_CSV_URL)\n",
    "\n",
    "dfPeople.head(10)"
   ]
  },
  {
   "cell_type": "markdown",
   "metadata": {},
   "source": [
    "### Plot Data"
   ]
  },
  {
   "cell_type": "code",
   "execution_count": null,
   "metadata": {},
   "outputs": [],
   "source": [
    "# Pair Plot of Features\n",
    "\n",
    "sns.pairplot(data = dfPeople, hue = 'Sex')\n",
    "\n",
    "plt.show()"
   ]
  },
  {
   "cell_type": "markdown",
   "metadata": {},
   "source": [
    "* <font color='red'>(**?**)</font> Are all features important?"
   ]
  },
  {
   "cell_type": "markdown",
   "metadata": {},
   "source": [
    "## Pre Process Data"
   ]
  },
  {
   "cell_type": "markdown",
   "metadata": {},
   "source": [
    "### Feature Selection by Correlation\n",
    "\n",
    "For linear models, lack of correlation means lack of significance.  \n",
    "Since we use a Linear Model we can drop features with low correlation.\n",
    "\n",
    "* <font color='brown'>(**#**)</font> This is marginal correlation, namely each feature on its own.  \n",
    "There could be some interactions which the correlation might miss."
   ]
  },
  {
   "cell_type": "code",
   "execution_count": null,
   "metadata": {},
   "outputs": [],
   "source": [
    "# Feature Analysis\n",
    "\n",
    "# Calculating the Correlation (Normalized) of Age to Weight.\n",
    "# Basically we're after Pearson's Correlation: Covariance(X, Y) / (Std(X) * Std(Y)).\n",
    "\n",
    "#===========================Fill This===========================#\n",
    "# 1. Calculate the covariance matrix using `np.cov()` for the age and weight features.\n",
    "# 2. Calculate the normalized (Pearson's) correlation.\n",
    "mCov         = ???\n",
    "pearosanCorr = ???\n",
    "#===============================================================#\n",
    "\n",
    "print(f'The Pearson Correlation of Age and Weight is: {pearosanCorr:0.3f}')"
   ]
  },
  {
   "cell_type": "markdown",
   "metadata": {},
   "source": [
    "* <font color='brown'>(**#**)</font> For zero mean random variables the [_Pearson Correlation_](https://en.wikipedia.org/wiki/Pearson_correlation_coefficient) is basically the equivalent of the _cosine_ of the angle between the vectors. \n",
    "* <font color='brown'>(**#**)</font> Correlation is better be used for filtering features which have high correlation."
   ]
  },
  {
   "cell_type": "markdown",
   "metadata": {},
   "source": [
    "### Train Data\n",
    "\n",
    "Split data into features and labels."
   ]
  },
  {
   "cell_type": "code",
   "execution_count": null,
   "metadata": {},
   "outputs": [],
   "source": [
    "# The Training Data \n",
    "\n",
    "#===========================Fill This===========================#\n",
    "# 1. Extract the 'Sex' and 'Height' columns into a data frame `dfX`.\n",
    "# 2. Extract the 'Weight' column into a series `dsY`.\n",
    "dfX = ???\n",
    "dsY = ???\n",
    "#===============================================================#\n",
    "\n",
    "print(f'The features data shape: {dfX.shape}')\n",
    "print(f'The labels data shape: {dsY.shape}')"
   ]
  },
  {
   "cell_type": "markdown",
   "metadata": {},
   "source": [
    "* <font color='brown'>(**#**)</font> Try running `dfY = dfPeople[['Weight']]`. What's the difference?  \n",
    "  Pay attention to the type of data and dimensions."
   ]
  },
  {
   "cell_type": "markdown",
   "metadata": {},
   "source": [
    "### Feature Engineering\n",
    "\n",
    "We have a string feature which we need to map into a numerical value.  \n",
    "In previous notebooks we used the `map()` method on the `Sex` column.  \n",
    "In this one we'll use the [`get_dummies()`](https://pandas.pydata.org/docs/reference/api/pandas.get_dummies.html) method of Pandas.  \n",
    "This method basically convert categorical features into _one hot_ encoding."
   ]
  },
  {
   "cell_type": "code",
   "execution_count": null,
   "metadata": {},
   "outputs": [],
   "source": [
    "# Map a String into Binary (Categorical)\n",
    "\n",
    "pd.get_dummies(dfX)\n",
    "\n",
    "#===========================Fill This===========================#\n",
    "# 1. Apply the `get_dummies()` method of `dfX`.\n",
    "# 2. The output should have only 2 columns.\n",
    "# !! The objective is have indication if the person is male or not.\n",
    "# !! Use the `drop_first` parameter properly.\n",
    "dfX = ???\n",
    "#===============================================================#\n",
    "\n",
    "dfX.columns = ['Height', 'Male']\n",
    "dfX"
   ]
  },
  {
   "cell_type": "markdown",
   "metadata": {},
   "source": [
    "## Build the Regressors\n",
    "\n",
    "In this section we'll do as following:\n",
    "\n",
    "1. Build a model based on a pipeline:\n",
    "   - Calculate the features according to the degree.\n",
    "   - Apply linear regression.\n",
    "2. Build a model based on a sub class of regressor:\n",
    "   - The initialization set the polynomial order.\n",
    "   - It trains 2 models per sex.\n",
    "3. Train the models on the whole data.\n",
    "\n",
    "<br/>\n",
    "\n",
    "* <font color='brown'>(**#**)</font> We don't do cross validation or testing in this exercise as the emphasize is building the models.\n",
    "* <font color='brown'>(**#**)</font> The idea is to observe the way linear models interact with binary features.\n",
    "* <font color='brown'>(**#**)</font> Linear models don't interact well with categorical features. Hence, usually, they are encoded as one hot encoding."
   ]
  },
  {
   "cell_type": "code",
   "execution_count": null,
   "metadata": {},
   "outputs": [],
   "source": [
    "# Model I\n",
    "# Model based on a pipeline of `PolynomialFeatures` and `LinearRegression`.\n",
    "\n",
    "#===========================Fill This===========================#\n",
    "# 1. Create a pipeline:\n",
    "#   - 'Transformer' - `PolynomialFeatures`. Set its parameters to reduce memory footprint.\n",
    "#   - 'Regressor' - `LinearRegression` which includes the intercept (The bias term) as part of the model.\n",
    "# 2. Set the 'Transformer' degree using the `set_params()` method. The syntax is `{'<step_name>__<parameter_name>': value}`.\n",
    "oLinRegModel001 = ???\n",
    "oLinRegModel001 = ???\n",
    "#===============================================================#\n"
   ]
  },
  {
   "cell_type": "code",
   "execution_count": null,
   "metadata": {},
   "outputs": [],
   "source": [
    "# Model II\n",
    "\n",
    "class MaleFemaleRegressor(RegressorMixin, BaseEstimator):\n",
    "    def __init__(self, polyDeg = 1):\n",
    "        #===========================Fill This===========================#\n",
    "        # 1. Add `polyDeg` as an attribute of the object.\n",
    "        # 2. Add `PolynomialFeatures` object as an attribute of the object.\n",
    "        # 3. Add `LinearRegression` object as an attribute of the object (For males).\n",
    "        # 4. Add `LinearRegression` object as an attribute of the object (For females).\n",
    "        # !! Configure `PolynomialFeatures` and `LinearRegression` properly to optimize memory consumption.\n",
    "\n",
    "        self.polyDeg   = ???\n",
    "        self.oPolyFeat = ???\n",
    "        self.oLinRegM  = ??? #<! Male model\n",
    "        self.oLinRegF  = ??? #<! Female model\n",
    "        #===============================================================#\n",
    "    \n",
    "    def fit(self, dfX: pd.DataFrame, dsY: pd.Series):\n",
    "        \n",
    "        dfXM = dfX.loc[dfX['Male'] == 1, ['Height']] #<! Using ['Height'] makes the output a DF and not a series\n",
    "        dfXF = dfX.loc[dfX['Male'] == 0, ['Height']] #<! Using ['Height'] makes the output a DF and not a series\n",
    "        #===========================Fill This===========================#\n",
    "        # 1. Extract the labels into male and females groups.\n",
    "        # 2. Apply `fit_transform()` for the features using `oPolyFeat`.\n",
    "        # 3. Apply `fit()` on the features using the models.\n",
    "        \n",
    "        dsYM = ??? #<! Males\n",
    "        dsYF = ??? #<! Females\n",
    "        mXM  = ??? #!< Males\n",
    "        mXF  = ??? #<! Females\n",
    "        \n",
    "        self.oLinRegM = ??? #!< Males\n",
    "        self.oLinRegF = ??? #<! Females\n",
    "        #===============================================================#\n",
    "\n",
    "        return self\n",
    "    \n",
    "    def predict(self, dfX: pd.DataFrame):\n",
    "        \n",
    "        #===========================Fill This===========================#\n",
    "        # 1. Split the data according to sex.\n",
    "        # 1. Construct the features matrix per sex.\n",
    "        # 2. Apply the `predict()` method of `oLinReg` per sex.\n",
    "        \n",
    "        dfXM = ??? #<! Using ['Height'] makes the output a DF and not a series\n",
    "        dfXF = ??? #<! Using ['Height'] makes the output a DF and not a series\n",
    "        mXM  = ???\n",
    "        mXF  = ???\n",
    "        vYM  = ???\n",
    "        vYF  = ???\n",
    "        #===============================================================#\n",
    "\n",
    "        numSamples = dfX.shape[0]\n",
    "        vY = np.zeros(numSamples)\n",
    "\n",
    "        # Reconstruct the output according to the input order\n",
    "        vY[(dfX['Male'] == 1).to_numpy()] = vYM\n",
    "        vY[(dfX['Male'] == 0).to_numpy()] = vYF\n",
    "\n",
    "        return vY\n",
    "    \n",
    "    def score(self, dfX: pd.DataFrame, dsY: pd.Series):\n",
    "        # Return the R2 as the score\n",
    "\n",
    "        #===========================Fill This===========================#\n",
    "        # 1. Apply the prediction on the input features.\n",
    "        # 2. Calculate the R2 score.\n",
    "        \n",
    "        vYPred = ???\n",
    "        valR2  = ???\n",
    "        #===============================================================#\n",
    "\n",
    "        return valR2\n"
   ]
  },
  {
   "cell_type": "code",
   "execution_count": null,
   "metadata": {},
   "outputs": [],
   "source": [
    "# Construct the 2nd Model\n",
    "\n",
    "#===========================Fill This===========================#\n",
    "# 1. Construct the model using the `MaleFemaleRegressor` class.\n",
    "oLinRegModel002 = ???\n",
    "#===============================================================#\n"
   ]
  },
  {
   "cell_type": "markdown",
   "metadata": {},
   "source": [
    "### Train the Model"
   ]
  },
  {
   "cell_type": "code",
   "execution_count": null,
   "metadata": {},
   "outputs": [],
   "source": [
    "# Train the Model\n",
    "\n",
    "#===========================Fill This===========================#\n",
    "# 1. Fit the 1st model on the whole data.\n",
    "# 1. Fit the 2nd model on the whole data.\n",
    "oLinRegModel001 = ???\n",
    "oLinRegModel002 = ???\n",
    "#===============================================================#"
   ]
  },
  {
   "cell_type": "code",
   "execution_count": null,
   "metadata": {},
   "outputs": [],
   "source": [
    "# Extract the Model Parameters\n",
    "\n",
    "vW001  = ???\n",
    "vW002M = ???\n",
    "vW002F = ???"
   ]
  },
  {
   "cell_type": "code",
   "execution_count": null,
   "metadata": {},
   "outputs": [],
   "source": [
    "# Model Parameters\n",
    "\n",
    "print(f'The 1st model coefficients         : {vW001}.')\n",
    "print(f'The 2nd model coefficients (Male)  : {vW002M}.')\n",
    "print(f'The 2nd model coefficients (Female): {vW002F}.')"
   ]
  },
  {
   "cell_type": "markdown",
   "metadata": {},
   "source": [
    "* <font color='red'>(**?**)</font> Why does the 2 model has less coefficients? \n",
    "* <font color='red'>(**?**)</font> Do both models have the same degree?"
   ]
  },
  {
   "cell_type": "markdown",
   "metadata": {},
   "source": [
    "## Analyze Results\n",
    "\n",
    "In this section we'll analyze the results of the 2 models.  "
   ]
  },
  {
   "cell_type": "code",
   "execution_count": null,
   "metadata": {},
   "outputs": [],
   "source": [
    "# The Model Score\n",
    "# The R2 score of the models (The default score for regressor on Sci Kit Learn)\n",
    "\n",
    "#===========================Fill This===========================#\n",
    "# 1. Calculate both models score using the R2 score.\n",
    "modelR2Score001 = ???\n",
    "modelR2Score002 = ???\n",
    "#===============================================================#\n",
    "\n",
    "print(f'The 1st model score (R2): {modelR2Score001}.')\n",
    "print(f'The 2nd model score (R2): {modelR2Score002}.')"
   ]
  },
  {
   "cell_type": "markdown",
   "metadata": {},
   "source": [
    "* <font color='red'>(**?**)</font> Why does the 2nd model has a single R2 score if it has 2 models in it?\n",
    "* <font color='red'>(**?**)</font> If we could have the score for female and males separately, what would be their relation to the score above? Could we calculate it?\n",
    "* <font color='red'>(**?**)</font> Which model is better? Why?"
   ]
  },
  {
   "cell_type": "code",
   "execution_count": null,
   "metadata": {},
   "outputs": [],
   "source": [
    "# Data Frame to Show Results\n",
    "dfResults = dfPeople[['Sex', 'Height', 'Weight']].copy()\n",
    "dfResults = pd.concat((dfResults, dfResults), axis = 0, ignore_index = True)\n",
    "dfResults['Prediction'] = np.concatenate((oLinRegModel001.predict(dfX), oLinRegModel002.predict(dfX)), axis = 0)\n",
    "dfResults['Model'] = np.concatenate((np.ones(dfX.shape[0]), 2 * np.ones(dfX.shape[0])), axis = 0)"
   ]
  },
  {
   "cell_type": "code",
   "execution_count": null,
   "metadata": {},
   "outputs": [],
   "source": [
    "# Show Regression Error Plot\n",
    "\n",
    "hF, hA = plt.subplots(figsize = (12, 8))\n",
    "\n",
    "sns.lineplot(data = dfResults, x = 'Weight', y = 'Weight', ax = hA, color = 'r')\n",
    "sns.scatterplot(data = dfResults, x = 'Weight', y = 'Prediction', hue = 'Sex', style = 'Model', ax = hA)\n",
    "hA.set_title('Models Predictions')\n",
    "hA.set_xlabel('Weight Label')\n",
    "hA.set_ylabel('Weight Prediction')\n",
    "\n",
    "plt.show()"
   ]
  },
  {
   "cell_type": "markdown",
   "metadata": {},
   "source": [
    "* <font color='red'>(**?**)</font> Why are results so similar?\n",
    "* <font color='red'>(**?**)</font> Have a look at the previous notebook of this data. How come results are so different?"
   ]
  }
 ],
 "metadata": {
  "kernelspec": {
   "display_name": "Python 3",
   "language": "python",
   "name": "python3"
  },
  "language_info": {
   "codemirror_mode": {
    "name": "ipython",
    "version": 3
   },
   "file_extension": ".py",
   "mimetype": "text/x-python",
   "name": "python",
   "nbconvert_exporter": "python",
   "pygments_lexer": "ipython3",
   "version": "3.11.8"
  },
  "toc": {
   "base_numbering": 1,
   "nav_menu": {},
   "number_sections": false,
   "sideBar": true,
   "skip_h1_title": false,
   "title_cell": "Table of Contents",
   "title_sidebar": "Contents",
   "toc_cell": false,
   "toc_position": {},
   "toc_section_display": true,
   "toc_window_display": true
  },
  "varInspector": {
   "cols": {
    "lenName": 16,
    "lenType": 16,
    "lenVar": 40
   },
   "kernels_config": {
    "python": {
     "delete_cmd_postfix": "",
     "delete_cmd_prefix": "del ",
     "library": "var_list.py",
     "varRefreshCmd": "print(var_dic_list())"
    },
    "r": {
     "delete_cmd_postfix": ") ",
     "delete_cmd_prefix": "rm(",
     "library": "var_list.r",
     "varRefreshCmd": "cat(var_dic_list()) "
    }
   },
   "types_to_exclude": [
    "module",
    "function",
    "builtin_function_or_method",
    "instance",
    "_Feature"
   ],
   "window_display": false
  },
  "vscode": {
   "interpreter": {
    "hash": "39577bab1f263e62e0b74f5b8086bd735049bf4751f6562b2d4b2969dc308293"
   }
  }
 },
 "nbformat": 4,
 "nbformat_minor": 4
}
