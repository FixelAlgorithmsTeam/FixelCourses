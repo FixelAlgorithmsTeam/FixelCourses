{
 "cells": [
  {
   "attachments": {},
   "cell_type": "markdown",
   "metadata": {},
   "source": [
    "[![Fixel Algorithms](https://i.imgur.com/AqKHVZ0.png)](https://fixelalgorithms.gitlab.io/)\n",
    "\n",
    "# AI Program\n",
    "\n",
    "## Machine Learning - Deep Learning - Stochastic Gradient Descent (SGD)\n",
    "\n",
    "> Notebook by:\n",
    "> - Royi Avital RoyiAvital@fixelalgorithms.com\n",
    "\n",
    "## Revision History\n",
    "\n",
    "| Version | Date       | User        |Content / Changes                                                   |\n",
    "|---------|------------|-------------|--------------------------------------------------------------------|\n",
    "| 1.0.001 | 22/05/2024 | Royi Avital | Added the task to add the `__getitem__()` method                   |\n",
    "| 1.0.000 | 24/04/2024 | Royi Avital | First version                                                      |"
   ]
  },
  {
   "attachments": {},
   "cell_type": "markdown",
   "metadata": {},
   "source": [
    "[![Open In Colab](https://colab.research.google.com/assets/colab-badge.svg)](https://colab.research.google.com/github/FixelAlgorithmsTeam/FixelCourses/blob/master/AIProgram/2024_02/0078DeepLearningSgd.ipynb)"
   ]
  },
  {
   "cell_type": "code",
   "execution_count": null,
   "metadata": {
    "ExecuteTime": {
     "end_time": "2022-02-02T09:30:06.492269Z",
     "start_time": "2022-02-02T09:30:06.220934Z"
    }
   },
   "outputs": [],
   "source": [
    "# Import Packages\n",
    "\n",
    "# General Tools\n",
    "import numpy as np\n",
    "import scipy as sp\n",
    "import pandas as pd\n",
    "\n",
    "# Machine Learning\n",
    "from sklearn.datasets import fetch_openml\n",
    "from sklearn.model_selection import train_test_split\n",
    "\n",
    "# Miscellaneous\n",
    "import math\n",
    "import os\n",
    "from platform import python_version\n",
    "import random\n",
    "import re\n",
    "import time\n",
    "\n",
    "# Typing\n",
    "from typing import Callable, Dict, List, Optional, Self, Set, Tuple, Union\n",
    "\n",
    "# Visualization\n",
    "import matplotlib as mpl\n",
    "import matplotlib.pyplot as plt\n",
    "import seaborn as sns\n",
    "\n",
    "# Jupyter\n",
    "from IPython import get_ipython\n",
    "from IPython.display import Image\n",
    "from IPython.display import display\n",
    "from ipywidgets import Dropdown, FloatSlider, interact, IntSlider, Layout, SelectionSlider\n",
    "from ipywidgets import interact"
   ]
  },
  {
   "attachments": {},
   "cell_type": "markdown",
   "metadata": {},
   "source": [
    "## Notations\n",
    "\n",
    "* <font color='red'>(**?**)</font> Question to answer interactively.\n",
    "* <font color='blue'>(**!**)</font> Simple task to add code for the notebook.\n",
    "* <font color='green'>(**@**)</font> Optional / Extra self practice.\n",
    "* <font color='brown'>(**#**)</font> Note / Useful resource / Food for thought.\n",
    "\n",
    "Code Notations:\n",
    "\n",
    "```python\n",
    "someVar    = 2; #<! Notation for a variable\n",
    "vVector    = np.random.rand(4) #<! Notation for 1D array\n",
    "mMatrix    = np.random.rand(4, 3) #<! Notation for 2D array\n",
    "tTensor    = np.random.rand(4, 3, 2, 3) #<! Notation for nD array (Tensor)\n",
    "tuTuple    = (1, 2, 3) #<! Notation for a tuple\n",
    "lList      = [1, 2, 3] #<! Notation for a list\n",
    "dDict      = {1: 3, 2: 2, 3: 1} #<! Notation for a dictionary\n",
    "oObj       = MyClass() #<! Notation for an object\n",
    "dfData     = pd.DataFrame() #<! Notation for a data frame\n",
    "dsData     = pd.Series() #<! Notation for a series\n",
    "hObj       = plt.Axes() #<! Notation for an object / handler / function handler\n",
    "```\n",
    "\n",
    "### Code Exercise\n",
    "\n",
    " - Single line fill\n",
    "\n",
    " ```python\n",
    " vallToFill = ???\n",
    " ```\n",
    "\n",
    " - Multi Line to Fill (At least one)\n",
    "\n",
    " ```python\n",
    " # You need to start writing\n",
    " ????\n",
    " ```\n",
    "\n",
    " - Section to Fill\n",
    "\n",
    "```python\n",
    "#===========================Fill This===========================#\n",
    "# 1. Explanation about what to do.\n",
    "# !! Remarks to follow / take under consideration.\n",
    "mX = ???\n",
    "\n",
    "???\n",
    "#===============================================================#\n",
    "```"
   ]
  },
  {
   "cell_type": "code",
   "execution_count": null,
   "metadata": {},
   "outputs": [],
   "source": [
    "# Configuration\n",
    "# %matplotlib inline\n",
    "\n",
    "seedNum = 512\n",
    "np.random.seed(seedNum)\n",
    "random.seed(seedNum)\n",
    "\n",
    "# Matplotlib default color palette\n",
    "lMatPltLibclr = ['#1f77b4', '#ff7f0e', '#2ca02c', '#d62728', '#9467bd', '#8c564b', '#e377c2', '#7f7f7f', '#bcbd22', '#17becf']\n",
    "# sns.set_theme() #>! Apply SeaBorn theme\n",
    "\n",
    "runInGoogleColab = 'google.colab' in str(get_ipython())\n"
   ]
  },
  {
   "cell_type": "code",
   "execution_count": null,
   "metadata": {},
   "outputs": [],
   "source": [
    "# Constants\n",
    "\n",
    "FIG_SIZE_DEF    = (8, 8)\n",
    "ELM_SIZE_DEF    = 50\n",
    "CLASS_COLOR     = ('b', 'r')\n",
    "EDGE_COLOR      = 'k'\n",
    "MARKER_SIZE_DEF = 10\n",
    "LINE_WIDTH_DEF  = 2\n",
    "\n",
    "D_CLASSES_FASHION_MNIST = {0: 'T-Shirt', 1: 'Trouser', 2: 'Pullover', 3: 'Dress', 4: 'Coat', 5: 'Sandal', 6: 'Shirt', 7: 'Sneaker', 8: 'Bag', 9: 'Boots'}\n",
    "L_CLASSES_FASHION_MNIST = ['T-Shirt', 'Trouser', 'Pullover', 'Dress', 'Coat', 'Sandal', 'Shirt', 'Sneaker', 'Bag', 'Boots']\n"
   ]
  },
  {
   "cell_type": "code",
   "execution_count": null,
   "metadata": {},
   "outputs": [],
   "source": [
    "# Download Auxiliary Modules for Google Colab\n",
    "if runInGoogleColab:\n",
    "    !wget https://raw.githubusercontent.com/FixelAlgorithmsTeam/FixelCourses/master/AIProgram/2024_02/DataManipulation.py\n",
    "    !wget https://raw.githubusercontent.com/FixelAlgorithmsTeam/FixelCourses/master/AIProgram/2024_02/DataVisualization.py\n",
    "    !wget https://raw.githubusercontent.com/FixelAlgorithmsTeam/FixelCourses/master/AIProgram/2024_02/DeepLearningBlocks.py\n",
    "    !wget https://raw.githubusercontent.com/FixelAlgorithmsTeam/FixelCourses/master/AIProgram/2024_02/NumericDiff.py"
   ]
  },
  {
   "cell_type": "code",
   "execution_count": null,
   "metadata": {},
   "outputs": [],
   "source": [
    "# Courses Packages\n",
    "\n",
    "from DataVisualization import PlotConfusionMatrix, PlotLabelsHistogram, PlotMnistImages\n",
    "from DeepLearningBlocks import CrossEntropyLoss, DataSet, LinearLayer, ModelNN, NNWeightInit, ReLULayer, ScoreEpoch, ScoreAccLogits, TrainEpoch\n"
   ]
  },
  {
   "cell_type": "markdown",
   "metadata": {},
   "source": [
    "* <font color='blue'>(**!**)</font> Go through the code of the `DataSet` class."
   ]
  },
  {
   "cell_type": "code",
   "execution_count": null,
   "metadata": {},
   "outputs": [],
   "source": [
    "# General Auxiliary Functions\n"
   ]
  },
  {
   "cell_type": "markdown",
   "metadata": {},
   "source": [
    "## Neural Net Weights Optimization\n",
    "\n",
    "Intuition about the minimization and the loss landscape:\n",
    "\n",
    " * Good / Proper Local Minimum  \n",
    "   Though not rigorously proved, the common concept is that a wide and deep local minimum as almost as good as the global minimum.  \n",
    "   The intuition is based on the idea that given millions of directions to move, the probability there is no improvement in any direction is a unique case.  \n",
    "   Though it is not a single phenomenon, it is probably similar in its results.\n",
    " * The SGD as a Regularizer  \n",
    "   Since the SGD uses a noisy estimation of the _gradient_ it may \"escape\" a bad local minima (Narrow, not deep).  \n",
    "   Those \"sensitive\" local minima can be thought as \"over fitting\" as usually they don't generalize well.  \n",
    "   Yet escaping wide deep local minima is less likely.\n",
    " * Batch Size  \n",
    "   The bigger the batch, the better the approximation.  \n",
    "   Yet, in practice the most limiting factor is the memory of the GPU and the speed of computation.  \n",
    "   So it selected to maximize the number of iterations within the envelope of the memory and speed.\n",
    " * Iterations  \n",
    "   Each batch creates a \"Forward\" and \"Backward\" step.  \n",
    "   To even out the estimation over the samples the batch in each iteration can be drawn randomly.\n",
    " * Optimization Methods  \n",
    "   Since the SGD uses approximated / estimated gradient most acceleration methods can be viewed as variance reduction methods of the estimation.\n",
    " * Speed of Convergence  \n",
    "   The SGD is also superior as it allows within the same time budget making much more iterations.  \n",
    "   Compare single accurate iteration vs. 1000 approximated iterations. In practice the latter is much faster to converge.\n",
    "\n",
    "\n",
    "![](https://i.imgur.com/niEt3Sl.png)\n",
    "Based on [Loss Landscape Gallery](https://losslandscape.com/wp-content/uploads/2019/11/mode-connectivity-1.jpg).\n",
    "\n",
    "* <font color='brown'>(**#**)</font> There are concepts on optimizing Neural Nets without gradients.  \n",
    "  See [Methods to Optimize Neural Network without Back Propagation](https://stats.stackexchange.com/questions/235862).  \n",
    "  Though none have proved to be as efficient as the 1st order derivative based methods.\n",
    "* <font color='brown'>(**#**)</font> There are methods to optimize NN by an approximated 2nd order information.  \n",
    "  Explicit Hessian based methods are infeasible unless the net is little.\n",
    "* <font color='brown'>(**#**)</font> Some visualization methods have been developed for the visualization of the _Loss Landscape_ of Deep Learning.  \n",
    "  See [Visualizing the Loss Landscape of Neural Nets](https://arxiv.org/abs/1712.09913). [Code is available on GitHub](https://github.com/tomgoldstein/loss-landscape).\n",
    "* <font color='brown'>(**#**)</font> Visualizations: [Exploring the Deep Learning Loss Landscape](https://losslandscape.com), [Loss Visualizer](http://www.telesens.co/loss-landscape-viz/viewer.html)."
   ]
  },
  {
   "cell_type": "code",
   "execution_count": null,
   "metadata": {},
   "outputs": [],
   "source": [
    "# Parameters\n",
    "\n",
    "# Data\n",
    "numSamplesTrain = 60_000\n",
    "numSamplesTest  = 10_000\n",
    "\n",
    "# Model\n",
    "\n",
    "# Training\n",
    "\n",
    "# Visualization\n",
    "numImg = 3\n"
   ]
  },
  {
   "cell_type": "markdown",
   "metadata": {},
   "source": [
    "## Generate / Load Data\n",
    "\n",
    "Load the [Fashion MNIST Data Set](https://github.com/zalandoresearch/fashion-mnist).  \n",
    "\n",
    "The _Fashion MNIST Data Set_ is considerably more challenging than the original MNIST though it is still no match to Deep Learning models.\n",
    "\n",
    "* <font color='brown'>(**#**)</font> The data set is available at [OpenML - Fashion MNIST](https://www.openml.org/search?type=data&id=40996).  \n",
    "  Yet it is not separated into the original _test_ and _train_ sets."
   ]
  },
  {
   "cell_type": "code",
   "execution_count": null,
   "metadata": {},
   "outputs": [],
   "source": [
    "# Load Data\n",
    "\n",
    "mX, vY = fetch_openml('Fashion-MNIST', version = 1, return_X_y = True, as_frame = False, parser = 'auto')\n",
    "vY = vY.astype(np.int_) #<! The labels are strings, convert to integer\n",
    "\n",
    "print(f'The features data shape: {mX.shape}')\n",
    "print(f'The labels data shape: {vY.shape}')\n",
    "print(f'The unique values of the labels: {np.unique(vY)}')\n"
   ]
  },
  {
   "cell_type": "code",
   "execution_count": null,
   "metadata": {},
   "outputs": [],
   "source": [
    "# Pre Process Data\n",
    "\n",
    "mX = mX / 255.0"
   ]
  },
  {
   "cell_type": "markdown",
   "metadata": {},
   "source": [
    "* <font color='red'>(**?**)</font> Does the scaling affects the training phase? Think about the _Learning Rate_."
   ]
  },
  {
   "cell_type": "markdown",
   "metadata": {},
   "source": [
    "### Plot the Data"
   ]
  },
  {
   "cell_type": "code",
   "execution_count": null,
   "metadata": {},
   "outputs": [],
   "source": [
    "# Plot the Data\n",
    "\n",
    "hF = PlotMnistImages(mX, vY, numImg)"
   ]
  },
  {
   "cell_type": "code",
   "execution_count": null,
   "metadata": {},
   "outputs": [],
   "source": [
    "# Histogram of Labels\n",
    "\n",
    "hA = PlotLabelsHistogram(vY, lClass = L_CLASSES_FASHION_MNIST)\n",
    "plt.show()"
   ]
  },
  {
   "cell_type": "markdown",
   "metadata": {},
   "source": [
    "### Train & Test Split\n",
    "\n",
    "The data is split into _Train_ and _Test_ data sets.  \n",
    "\n",
    "* <font color='brown'>(**#**)</font> Deep Learning is _big data_ oriented, hence it can easily handle all samples in a single _batch_.  \n",
    "  Though usually, for complex (Deep) nets and larger images the concept of _batch_ and _epoch_ is used."
   ]
  },
  {
   "cell_type": "code",
   "execution_count": null,
   "metadata": {},
   "outputs": [],
   "source": [
    "# Train Test Split\n",
    "\n",
    "numClass = len(np.unique(vY))\n",
    "mXTrain, mXTest, vYTrain, vYTest = train_test_split(mX, vY, test_size = numSamplesTest, train_size = numSamplesTrain, shuffle = True, stratify = vY)\n",
    "\n",
    "print(f'The training features data shape: {mXTrain.shape}')\n",
    "print(f'The training labels data shape: {vYTrain.shape}')\n",
    "print(f'The test features data shape: {mXTest.shape}')\n",
    "print(f'The test labels data shape: {vYTest.shape}')\n",
    "print(f'The unique values of the labels: {np.unique(vY)}')\n"
   ]
  },
  {
   "cell_type": "code",
   "execution_count": null,
   "metadata": {},
   "outputs": [],
   "source": [
    "# Pre Process Data\n",
    "\n",
    "vMean = np.mean(mXTrain, axis = 0)\n",
    "vStd  = np.std(mXTrain, axis = 0)\n",
    "\n",
    "# Processing the test data based on the train data!\n",
    "mXTrain -= vMean\n",
    "mXTest  -= vMean\n",
    "mXTrain /= vStd\n",
    "mXTest  /= vStd"
   ]
  },
  {
   "cell_type": "markdown",
   "metadata": {},
   "source": [
    "## Train by Batch Stochastic Gradient Descent\n",
    "\n",
    "This section trains the data based on the concept of batches with _Batch Stochastic Gradient Descent_.  \n",
    "\n",
    "* <font color='brown'>(**#**)</font> While the number of Epochs will be smaller than previous experiments, the number of gradient steps will be much higher while being faster."
   ]
  },
  {
   "cell_type": "markdown",
   "metadata": {},
   "source": [
    "\n",
    "![Gradient Descent Flavors](https://i.imgur.com/ygtK28K.png)"
   ]
  },
  {
   "cell_type": "code",
   "execution_count": null,
   "metadata": {},
   "outputs": [],
   "source": [
    "# Generate the Data Sets\n",
    "# The DataSet assumes each column is a sample.\n",
    "\n",
    "batchSize   = 256\n",
    "oDsTrain    = DataSet(mXTrain.T, vYTrain, batchSize ,dropLast = True) #<! Train Data Set\n",
    "oDsVal      = DataSet(mXTest.T, vYTest, batchSize) #<! Validation Data Set\n",
    "\n",
    "print(f'The batch size: {batchSize}')\n",
    "print(f'The training data set number of batches per Epoch: {len(oDsTrain)}')\n",
    "print(f'The validation data set number of batches per Epoch: {len(oDsVal)}')\n"
   ]
  },
  {
   "cell_type": "markdown",
   "metadata": {},
   "source": [
    "* <font color='red'>(**?**)</font> Why is _batch_ partition used for the validation data set as well?"
   ]
  },
  {
   "cell_type": "code",
   "execution_count": null,
   "metadata": {},
   "outputs": [],
   "source": [
    "# Testing the Data Sets\n",
    "\n",
    "for ii, (mXBatch, vYBatch) in enumerate(oDsTrain):\n",
    "    print(f'The {(ii + 1): 3d} / {len(oDsTrain)} Batch', end = '')\n",
    "    print(f' | The features shape: {mXBatch.shape}', end = '')\n",
    "    print(f' | The target shape: {vYBatch.shape}')"
   ]
  },
  {
   "cell_type": "markdown",
   "metadata": {},
   "source": [
    "* <font color='blue'>(**!**)</font> Compare results with the case `dropLast = False`."
   ]
  },
  {
   "cell_type": "code",
   "execution_count": null,
   "metadata": {},
   "outputs": [],
   "source": [
    "# Training Model Function\n",
    "def TrainModel( oModel: ModelNN, oDsTrain: DataSet, oDsVal: DataSet, numEpoch: int, hL: Callable, hS: Callable, learnRate: float ) -> Tuple[List, List, List, List]:\n",
    "\n",
    "    lTrainLoss  = []\n",
    "    lTrainScore = []\n",
    "    lValLoss    = []\n",
    "    lValScore   = []\n",
    "\n",
    "    for ii in range(numEpoch):\n",
    "        startTime           = time.time()\n",
    "        trainLoss, trainScr = TrainEpoch(oModel, oDsTrain, learnRate, hL, hS) #<! Train\n",
    "        valLoss,   valScr   = ScoreEpoch(oModel, oDsVal, hL, hS)                #<! Score Validation\n",
    "        endTime             = time.time()\n",
    "\n",
    "        # Aggregate Results\n",
    "        lTrainLoss.append(trainLoss)\n",
    "        lTrainScore.append(trainScr)\n",
    "        lValLoss.append(valLoss)\n",
    "        lValScore.append(valScr)\n",
    "        \n",
    "        # Display (Babysitting)\n",
    "        print('Epoch '              f'{(ii + 1):4d} / ' f'{numEpoch}:', end = '')\n",
    "        print(' | Train Loss: '     f'{trainLoss          :6.3f}', end = '')\n",
    "        print(' | Val Loss: '       f'{valLoss            :6.3f}', end = '')\n",
    "        print(' | Train Score: '    f'{trainScr           :6.3f}', end = '')\n",
    "        print(' | Val Score: '      f'{valScr             :6.3f}', end = '')\n",
    "        print(' | Epoch Time: '     f'{(endTime-startTime):6.3f} |')\n",
    "\n",
    "    return lTrainLoss, lTrainScore, lValLoss, lValScore\n"
   ]
  },
  {
   "cell_type": "markdown",
   "metadata": {},
   "source": [
    "* <font color='blue'>(**!**)</font> Go through the code of the `TrainEpoch()` class.\n",
    "* <font color='blue'>(**!**)</font> Go through the code of the `ScoreEpoch()` class."
   ]
  },
  {
   "cell_type": "code",
   "execution_count": null,
   "metadata": {},
   "outputs": [],
   "source": [
    "# Train Parameters\n",
    "batchSize   = 256\n",
    "nEpochs     = 10\n",
    "learnRate   = 2e-1"
   ]
  },
  {
   "cell_type": "markdown",
   "metadata": {},
   "source": [
    "### Train by a Single Batch\n",
    "\n",
    "In this section the data is trained as a single batch."
   ]
  },
  {
   "cell_type": "code",
   "execution_count": null,
   "metadata": {},
   "outputs": [],
   "source": [
    "# Data Objects\n",
    "\n",
    "oDsTrain    = DataSet(mXTrain.T, vYTrain, mXTrain.shape[0]) #<! Train Data Set\n",
    "oDsVal      = DataSet(mXTest.T, vYTest, mXTest.shape[0]) #<! Validation Data Set"
   ]
  },
  {
   "cell_type": "code",
   "execution_count": null,
   "metadata": {},
   "outputs": [],
   "source": [
    "# Train Model\n",
    "\n",
    "oModel = ModelNN([\n",
    "        LinearLayer(784, 200, initMethod = NNWeightInit.KAIMING), ReLULayer(),\n",
    "        LinearLayer(200, 10,  initMethod = NNWeightInit.KAIMING),\n",
    "        ])\n",
    "\n",
    "_, _, lValLossNaive, lValScoreNaive = TrainModel(oModel, oDsTrain, oDsVal, nEpochs, CrossEntropyLoss, ScoreAccLogits, learnRate)"
   ]
  },
  {
   "cell_type": "markdown",
   "metadata": {},
   "source": [
    "* <font color='red'>(**?**)</font> How many gradient steps were conducted?\n",
    "* <font color='red'>(**?**)</font> Explain the train score of the first _Epoch_."
   ]
  },
  {
   "cell_type": "markdown",
   "metadata": {},
   "source": [
    "### Train by Mini Batches\n",
    "\n",
    "This section trains the model by mini batches smaller than the data set."
   ]
  },
  {
   "cell_type": "code",
   "execution_count": null,
   "metadata": {},
   "outputs": [],
   "source": [
    "# Data Objects\n",
    "\n",
    "oDsTrain    = DataSet(mXTrain.T, vYTrain, batchSize) #<! Train Data Set\n",
    "oDsVal      = DataSet(mXTest.T, vYTest, batchSize) #<! Validation Data Set"
   ]
  },
  {
   "cell_type": "code",
   "execution_count": null,
   "metadata": {},
   "outputs": [],
   "source": [
    "# Train Model\n",
    "\n",
    "oModel = ModelNN([\n",
    "        LinearLayer(784, 200, initMethod = NNWeightInit.KAIMING), ReLULayer(),\n",
    "        LinearLayer(200, 10,  initMethod = NNWeightInit.KAIMING),\n",
    "        ])\n",
    "\n",
    "_, _, lValLossOpt, lValScoreOpt = TrainModel(oModel, oDsTrain, oDsVal, nEpochs, CrossEntropyLoss, ScoreAccLogits, learnRate)"
   ]
  },
  {
   "cell_type": "markdown",
   "metadata": {},
   "source": [
    "* <font color='red'>(**?**)</font> How many gradient steps were conducted?\n",
    "* <font color='red'>(**?**)</font> What happens if we run `_, _, lValLossOpt, lValScoreOpt = TrainModel(oModel, oDsTrain, oDsVal, nEpochs, CrossEntropyLoss, ScoreAccLogits, learnRate)` without redefining the model?"
   ]
  },
  {
   "cell_type": "code",
   "execution_count": null,
   "metadata": {},
   "outputs": [],
   "source": [
    "# Plot Results\n",
    "\n",
    "hF, vHa = plt.subplots(nrows = 1, ncols = 2, figsize = (12, 6))\n",
    "\n",
    "hA = vHa.flat[0]\n",
    "hA.plot(lValLossNaive, lw = 2, label = 'Single Batch')\n",
    "hA.plot(lValLossOpt, lw = 2, label = 'Multiple Batches')\n",
    "hA.grid()\n",
    "hA.set_title('Cross Entropy Loss')\n",
    "hA.set_xlabel('Epoch Index')\n",
    "hA.set_ylabel('Loss')\n",
    "hA.legend();\n",
    "\n",
    "hA = vHa.flat[1]\n",
    "hA.plot(lValScoreNaive, lw = 2, label = 'Single Batch')\n",
    "hA.plot(lValScoreOpt, lw = 2, label = 'Multiple Batches')\n",
    "hA.grid()\n",
    "hA.set_title('Accuracy Score')\n",
    "hA.set_xlabel('Epoch Index')\n",
    "hA.set_ylabel('Score')\n",
    "hA.legend();"
   ]
  },
  {
   "cell_type": "markdown",
   "metadata": {},
   "source": [
    "* <font color='brown'>(**#**)</font> The _Single Batch_ is basically _Gradient Descent_ while the multiple batches is the _Batch Gradient Descent_."
   ]
  },
  {
   "cell_type": "markdown",
   "metadata": {},
   "source": [
    "### Display Test / Validation Samples\n",
    "\n",
    "Display the estimated class of some samples from the test data."
   ]
  },
  {
   "cell_type": "code",
   "execution_count": null,
   "metadata": {},
   "outputs": [],
   "source": [
    "# Process the Test\n",
    "mS = oModel.Forward(mXTest.T)\n",
    "vYHat = np.argmax(mS, axis = 0)\n",
    "\n",
    "regExpPtrn = r'Index = (\\d+)'\n",
    "\n",
    "hF = PlotMnistImages((mXTest * vStd) + vMean, vYTest, numImg)\n",
    "lHAx = hF.get_axes()\n",
    "for hA in lHAx:\n",
    "    titleStr = hA.get_title()\n",
    "    regMatch = re.search(regExpPtrn, titleStr)\n",
    "    imgIdx = int(regMatch.group(1))\n",
    "    yHat = vYHat[imgIdx]\n",
    "    titleStr += f'\\nEstimated Label = {yHat}'\n",
    "    hA.set_title(titleStr)"
   ]
  },
  {
   "cell_type": "markdown",
   "metadata": {},
   "source": [
    "* <font color='red'>(**?**)</font> How many errors are expected in the images above?\n",
    "* <font color='green'>(**@**)</font> Add the `__getitem__()` method to the `DataSet` class.  \n",
    "  The method signature is `__getitem__( self, idx: int )` where it enables `oDs[idx]` to extract the `idx` -th sample of the dataset.  \n",
    "  See [Creating a Custom Dataset](https://pytorch.org/tutorials/beginner/basics/data_tutorial.html#creating-a-custom-dataset-for-your-files) for the concept of the method."
   ]
  }
 ],
 "metadata": {
  "kernelspec": {
   "display_name": "Python 3",
   "language": "python",
   "name": "python3"
  },
  "language_info": {
   "codemirror_mode": {
    "name": "ipython",
    "version": 3
   },
   "file_extension": ".py",
   "mimetype": "text/x-python",
   "name": "python",
   "nbconvert_exporter": "python",
   "pygments_lexer": "ipython3",
   "version": "3.11.9"
  },
  "toc": {
   "base_numbering": 1,
   "nav_menu": {},
   "number_sections": false,
   "sideBar": true,
   "skip_h1_title": false,
   "title_cell": "Table of Contents",
   "title_sidebar": "Contents",
   "toc_cell": false,
   "toc_position": {},
   "toc_section_display": true,
   "toc_window_display": true
  },
  "varInspector": {
   "cols": {
    "lenName": 16,
    "lenType": 16,
    "lenVar": 40
   },
   "kernels_config": {
    "python": {
     "delete_cmd_postfix": "",
     "delete_cmd_prefix": "del ",
     "library": "var_list.py",
     "varRefreshCmd": "print(var_dic_list())"
    },
    "r": {
     "delete_cmd_postfix": ") ",
     "delete_cmd_prefix": "rm(",
     "library": "var_list.r",
     "varRefreshCmd": "cat(var_dic_list()) "
    }
   },
   "types_to_exclude": [
    "module",
    "function",
    "builtin_function_or_method",
    "instance",
    "_Feature"
   ],
   "window_display": false
  },
  "vscode": {
   "interpreter": {
    "hash": "39577bab1f263e62e0b74f5b8086bd735049bf4751f6562b2d4b2969dc308293"
   }
  }
 },
 "nbformat": 4,
 "nbformat_minor": 4
}
