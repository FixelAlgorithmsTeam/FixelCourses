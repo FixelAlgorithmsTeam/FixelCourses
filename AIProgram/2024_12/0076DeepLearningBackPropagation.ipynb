{
 "cells": [
  {
   "attachments": {},
   "cell_type": "markdown",
   "metadata": {},
   "source": [
    "[![Fixel Algorithms](https://i.imgur.com/AqKHVZ0.png)](https://fixelalgorithms.gitlab.io/)\n",
    "\n",
    "# AI Program\n",
    "\n",
    "## Machine Learning - Deep Learning - BackPropagation - Exercise\n",
    "\n",
    "> Notebook by:\n",
    "> - Royi Avital RoyiAvital@fixelalgorithms.com\n",
    "\n",
    "## Revision History\n",
    "\n",
    "| Version | Date       | User        |Content / Changes                                                   |\n",
    "|---------|------------|-------------|--------------------------------------------------------------------|\n",
    "| 1.0.001 | 19/05/2024 | Royi Avital | Added code comments and typing                                     |\n",
    "| 1.0.000 | 23/04/2024 | Royi Avital | First version                                                      |"
   ]
  },
  {
   "attachments": {},
   "cell_type": "markdown",
   "metadata": {},
   "source": [
    "[![Open In Colab](https://colab.research.google.com/assets/colab-badge.svg)](https://colab.research.google.com/github/FixelAlgorithmsTeam/FixelCourses/blob/master/AIProgram/2024_02/0076DeepBackPropagation.ipynb)"
   ]
  },
  {
   "cell_type": "code",
   "execution_count": null,
   "metadata": {
    "ExecuteTime": {
     "end_time": "2022-02-02T09:30:06.492269Z",
     "start_time": "2022-02-02T09:30:06.220934Z"
    }
   },
   "outputs": [],
   "source": [
    "# Import Packages\n",
    "\n",
    "# General Tools\n",
    "import numpy as np\n",
    "import scipy as sp\n",
    "import pandas as pd\n",
    "\n",
    "# Machine Learning\n",
    "from sklearn.datasets import fetch_california_housing\n",
    "from sklearn.linear_model import LinearRegression\n",
    "from sklearn.metrics import r2_score\n",
    "from sklearn.model_selection import train_test_split\n",
    "\n",
    "# Miscellaneous\n",
    "import math\n",
    "import os\n",
    "from platform import python_version\n",
    "import random\n",
    "import timeit\n",
    "\n",
    "# Typing\n",
    "from typing import Callable, Dict, List, Optional, Self, Set, Tuple, Union\n",
    "\n",
    "# Visualization\n",
    "import matplotlib as mpl\n",
    "import matplotlib.pyplot as plt\n",
    "import seaborn as sns\n",
    "\n",
    "# Jupyter\n",
    "from IPython import get_ipython\n",
    "from IPython.display import Image\n",
    "from IPython.display import display\n",
    "from ipywidgets import Dropdown, FloatSlider, interact, IntSlider, Layout, SelectionSlider\n",
    "from ipywidgets import interact"
   ]
  },
  {
   "attachments": {},
   "cell_type": "markdown",
   "metadata": {},
   "source": [
    "## Notations\n",
    "\n",
    "* <font color='red'>(**?**)</font> Question to answer interactively.\n",
    "* <font color='blue'>(**!**)</font> Simple task to add code for the notebook.\n",
    "* <font color='green'>(**@**)</font> Optional / Extra self practice.\n",
    "* <font color='brown'>(**#**)</font> Note / Useful resource / Food for thought.\n",
    "\n",
    "Code Notations:\n",
    "\n",
    "```python\n",
    "someVar    = 2; #<! Notation for a variable\n",
    "vVector    = np.random.rand(4) #<! Notation for 1D array\n",
    "mMatrix    = np.random.rand(4, 3) #<! Notation for 2D array\n",
    "tTensor    = np.random.rand(4, 3, 2, 3) #<! Notation for nD array (Tensor)\n",
    "tuTuple    = (1, 2, 3) #<! Notation for a tuple\n",
    "lList      = [1, 2, 3] #<! Notation for a list\n",
    "dDict      = {1: 3, 2: 2, 3: 1} #<! Notation for a dictionary\n",
    "oObj       = MyClass() #<! Notation for an object\n",
    "dfData     = pd.DataFrame() #<! Notation for a data frame\n",
    "dsData     = pd.Series() #<! Notation for a series\n",
    "hObj       = plt.Axes() #<! Notation for an object / handler / function handler\n",
    "```\n",
    "\n",
    "### Code Exercise\n",
    "\n",
    " - Single line fill\n",
    "\n",
    " ```python\n",
    " vallToFill = ???\n",
    " ```\n",
    "\n",
    " - Multi Line to Fill (At least one)\n",
    "\n",
    " ```python\n",
    " # You need to start writing\n",
    " ????\n",
    " ```\n",
    "\n",
    " - Section to Fill\n",
    "\n",
    "```python\n",
    "#===========================Fill This===========================#\n",
    "# 1. Explanation about what to do.\n",
    "# !! Remarks to follow / take under consideration.\n",
    "mX = ???\n",
    "\n",
    "???\n",
    "#===============================================================#\n",
    "```"
   ]
  },
  {
   "cell_type": "code",
   "execution_count": null,
   "metadata": {},
   "outputs": [],
   "source": [
    "# Configuration\n",
    "# %matplotlib inline\n",
    "\n",
    "seedNum = 512\n",
    "np.random.seed(seedNum)\n",
    "random.seed(seedNum)\n",
    "\n",
    "# Matplotlib default color palette\n",
    "lMatPltLibclr = ['#1f77b4', '#ff7f0e', '#2ca02c', '#d62728', '#9467bd', '#8c564b', '#e377c2', '#7f7f7f', '#bcbd22', '#17becf']\n",
    "# sns.set_theme() #>! Apply SeaBorn theme\n",
    "\n",
    "runInGoogleColab = 'google.colab' in str(get_ipython())\n"
   ]
  },
  {
   "cell_type": "code",
   "execution_count": null,
   "metadata": {},
   "outputs": [],
   "source": [
    "# Constants\n",
    "\n",
    "FIG_SIZE_DEF    = (8, 8)\n",
    "ELM_SIZE_DEF    = 50\n",
    "CLASS_COLOR     = ('b', 'r')\n",
    "EDGE_COLOR      = 'k'\n",
    "MARKER_SIZE_DEF = 10\n",
    "LINE_WIDTH_DEF  = 2\n"
   ]
  },
  {
   "cell_type": "code",
   "execution_count": null,
   "metadata": {},
   "outputs": [],
   "source": [
    "# Courses Packages\n",
    "\n",
    "from DataVisualization import PlotRegressionResults\n"
   ]
  },
  {
   "cell_type": "code",
   "execution_count": null,
   "metadata": {},
   "outputs": [],
   "source": [
    "# General Auxiliary Functions\n"
   ]
  },
  {
   "cell_type": "markdown",
   "metadata": {},
   "source": [
    "## Back Propagation (BackPropagation)\n",
    "\n",
    "The [BackPropagation](https://en.wikipedia.org/wiki/Backpropagation) is the method utilizing the [Chain Rule](https://en.wikipedia.org/wiki/Chain_rule) in order to calculate the gradient of a neural network.  \n",
    "The _BackPropagation_ is efficient under the assumption the net is $f: \\mathbb{R}^{d} \\to \\mathbb{R}^{c}$ where $c \\ll d$.  \n",
    "\n",
    "This notebook replicates the previous note book with 4 differences:\n",
    "\n",
    " - The Application: _Regression_ instead of _Classification_.\n",
    " - The Data Set: Replacing the MNIST with [California Housing Dataset](https://www.dcc.fc.up.pt/~ltorgo/Regression/cal_housing.html).\n",
    " - The Loss Function: Replacing the CE + SoftMax with MSE.\n",
    " - The Activation Layer: Replacing the _ReLU_ with _LeakyReLU_.\n",
    "\n",
    "* <font color='brown'>(**#**)</font> The objective to create a simple NN which beats a vanilla linear regression model. The score is the ${R}^{2}$ score."
   ]
  },
  {
   "cell_type": "code",
   "execution_count": null,
   "metadata": {},
   "outputs": [],
   "source": [
    "# Parameters\n",
    "\n",
    "# Data\n",
    "numSamplesTrain = 15_000\n",
    "numSamplesTest  = 5_640\n",
    "\n",
    "# Model\n",
    "α = 0.01 #<! LeakyReLU\n",
    "\n",
    "# Training\n",
    "numIter = 300\n",
    "µ       = 0.35 #!< Step Size \\ Learning Rate\n",
    "\n",
    "# Visualization\n",
    "numImg = 3\n"
   ]
  },
  {
   "cell_type": "markdown",
   "metadata": {},
   "source": [
    "## Generate / Load Data\n",
    "\n",
    "This section loads the [California Housing Dataset](https://www.dcc.fc.up.pt/~ltorgo/Regression/cal_housing.html) using [`fetch_california_housing()`](https://scikit-learn.org/stable/modules/generated/sklearn.datasets.fetch_california_housing.html).\n",
    "\n",
    "The data is split to 15,000 train samples and 5,640 test samples."
   ]
  },
  {
   "cell_type": "code",
   "execution_count": null,
   "metadata": {},
   "outputs": [],
   "source": [
    "# Load Data\n",
    "\n",
    "mX, vY  = fetch_california_housing(return_X_y = True)\n",
    "\n",
    "print(f'The features data shape: {mX.shape}')\n",
    "print(f'The labels data shape: {vY.shape}')\n"
   ]
  },
  {
   "cell_type": "code",
   "execution_count": null,
   "metadata": {},
   "outputs": [],
   "source": [
    "# Pre Process Data\n",
    "\n",
    "mX -= np.mean(mX, axis = 0)\n",
    "mX /= np.std(mX, axis = 0)\n"
   ]
  },
  {
   "cell_type": "markdown",
   "metadata": {},
   "source": [
    "* <font color='red'>(**?**)</font> Does the scaling affects the training phase? Think about the _Learning Rate_."
   ]
  },
  {
   "cell_type": "markdown",
   "metadata": {},
   "source": [
    "### Plot the Data"
   ]
  },
  {
   "cell_type": "code",
   "execution_count": null,
   "metadata": {},
   "outputs": [],
   "source": [
    "# Plot the Data\n",
    "\n",
    "dfData = pd.DataFrame(np.column_stack((mX, vY)))\n",
    "dfData.columns = ['MedInc', 'HouseAge', 'AveRooms', 'AveBedrms', 'Population', 'AveOccup', 'Latitude', 'Longitud', 'MedHouseVal[100K$]'] #<! https://scikit-learn.org/stable/datasets/real_world.html#california-housing-dataset\n",
    "\n",
    "# Pair Plot\n",
    "# sns.pairplot(data = dfData)"
   ]
  },
  {
   "cell_type": "markdown",
   "metadata": {},
   "source": [
    "### Train & Test Split\n",
    "\n",
    "The data is split into _Train_ and _Test_ data sets.  \n",
    "\n",
    "* <font color='brown'>(**#**)</font> Deep Learning is _big data_ oriented, hence it can easily handle all samples in a single _batch_."
   ]
  },
  {
   "cell_type": "code",
   "execution_count": null,
   "metadata": {},
   "outputs": [],
   "source": [
    "# Train Test Split\n",
    "\n",
    "numClass = len(np.unique(vY))\n",
    "mXTrain, mXTest, vYTrain, vYTest = train_test_split(mX, vY, test_size = numSamplesTest, train_size = numSamplesTrain, shuffle = True)\n",
    "\n",
    "print(f'The training features data shape: {mXTrain.shape}')\n",
    "print(f'The training labels data shape: {vYTrain.shape}')\n",
    "print(f'The test features data shape: {mXTest.shape}')\n",
    "print(f'The test labels data shape: {vYTest.shape}')\n"
   ]
  },
  {
   "cell_type": "markdown",
   "metadata": {},
   "source": [
    "## Neural Network Building Blocks\n",
    "\n",
    "This section implements a class per NN building block.  \n",
    "Each class has 2 main methods:\n",
    "1. `Forward()` - Pushes the input forward on the computational graph.\n",
    "2. `Backward()` - Pushes the input gradient backward on the computational graph.  \n",
    "   The _backward_ step must calculate the gradient with respect to each parameter (With reduction over the batch) and per input.\n",
    "\n",
    "* <font color='brown'>(**#**)</font> In practice each block supports the calculation over a _batch_.\n",
    "* <font color='brown'>(**#**)</font> The implementation supports simple feed forward with no branching graph.\n",
    "* <font color='brown'>(**#**)</font> The convention for the NumPy implementation is data as $d \\times N$ where $d$ is the number of features and $N$ is the batch size."
   ]
  },
  {
   "cell_type": "markdown",
   "metadata": {},
   "source": [
    "The model to implement is given by\n",
    "\n",
    "![The Neural Network Computational Graph](https://i.imgur.com/9tx3oCz.png)"
   ]
  },
  {
   "cell_type": "markdown",
   "metadata": {},
   "source": [
    "### Affine Layer\n",
    "\n",
    "#### Parameters\n",
    "\n",
    "$$ \\boldsymbol{W} \\in \\mathbb{R}^{ {d}_{out} \\times {d}_{in} }, \\; \\boldsymbol{b} \\in \\mathbb{R}^{{d}_{out}} $$\n",
    "\n",
    "#### Forward\n",
    "\n",
    "$$\\boldsymbol{z}=\\boldsymbol{W}\\boldsymbol{x}+\\boldsymbol{b}$$\n",
    "\n",
    "#### Backward\n",
    "\n",
    "$$\\boxed{\\nabla_{\\boldsymbol{b}}L=\\nabla_{\\boldsymbol{z}}L}$$\n",
    "  \n",
    "$$\\boxed{\\nabla_{\\boldsymbol{x}}L=\\boldsymbol{W}^{T}\\nabla_{\\boldsymbol{z}}L}$$\n",
    "\n",
    "$$\\boxed{\\nabla_{\\boldsymbol{W}}L=\\nabla_{\\boldsymbol{z}}L\\boldsymbol{x}^{T}}$$\n",
    "\n",
    "* <font color='brown'>(**#**)</font> The above _Linear Layer_ is often called _Dense Layer_ or _Fully Connected_."
   ]
  },
  {
   "cell_type": "code",
   "execution_count": null,
   "metadata": {},
   "outputs": [],
   "source": [
    "# Linear Layer\n",
    "\n",
    "class LinearLayer():\n",
    "    def __init__( self, dimIn: int, dimOut: int ) -> None:\n",
    "        \n",
    "        # Initialization\n",
    "        mW = np.random.randn(dimOut, dimIn) / dimIn\n",
    "        vB = np.zeros(dimOut)\n",
    "        \n",
    "        # Parameters\n",
    "        self.mX      = None #<! Required for the backward pass\n",
    "        self.dParams = {'mW': mW,   'vB': vB}\n",
    "        self.dGrads  = {'mW': None, 'vB': None}\n",
    "        \n",
    "    def Forward( self, mX: np.ndarray ) -> np.ndarray:\n",
    "        self.mX = mX #<! Required for the backward pass\n",
    "        \n",
    "        mW      = self.dParams['mW'] #<! Shape: (dimOut, dimIn)\n",
    "        vB      = self.dParams['vB'] \n",
    "        mZ      = mW @ mX + vB[:, None]\n",
    "        \n",
    "        return mZ\n",
    "    \n",
    "    def Backward( self: Self, mDz: np.ndarray ) -> np.ndarray:\n",
    "        # Supports batch onf input by summing the gradients over each input.\n",
    "        # Summing instead of averaging to support the case the loss is scaled by N.\n",
    "        mW  = self.dParams['mW']\n",
    "        mX  = self.mX\n",
    "        \n",
    "        vDb = np.sum(mDz, axis = 1) #<! Explicit Sum\n",
    "        mDw = mDz @ mX.T #<! Implicit Sum\n",
    "        mDx = mW.T @ mDz\n",
    "        \n",
    "        self.dGrads['vB'] = vDb\n",
    "        self.dGrads['mW'] = mDw\n",
    "                \n",
    "        return mDx"
   ]
  },
  {
   "cell_type": "markdown",
   "metadata": {},
   "source": [
    "* <font color='blue'>(**!**)</font> Fill the shapes of the arrays in the code (As comments).\n",
    "* <font color='red'>(**?**)</font> Why can't `self.mX` be initialized with a concrete dimensions at initialization? Think about batches."
   ]
  },
  {
   "cell_type": "markdown",
   "metadata": {},
   "source": [
    "### Leaky ReLU (`LeakyReLU`) Layer\n",
    "\n",
    "#### Parameters\n",
    "\n",
    "None.\n",
    "\n",
    "#### Forward\n",
    "\n",
    "$$ \\boldsymbol{z} = \\text{LeakyReLU} \\left( \\boldsymbol{x} \\right) = \\begin{cases} x & x \\geq 0 \\\\ \\alpha x & x < 0 \\end{cases}, \\; \\alpha \\ll 1 $$\n",
    "\n",
    "#### Backward\n",
    "\n",
    "$$\\boxed{ {\\nabla} _{\\boldsymbol{x}} L = \\text{ {\\color{red}???} } }$$\n",
    "\n",
    "* <font color='brown'>(**#**)</font> For element wise vector functions the form of the gradient of a composition is a diagonal matrix of the element wise gradient function which multiplies the input gradient. "
   ]
  },
  {
   "cell_type": "code",
   "execution_count": null,
   "metadata": {},
   "outputs": [],
   "source": [
    "# LeakyReLU Layer\n",
    "\n",
    "class LeakyReLULayer():\n",
    "    def __init__( self, α: float = 0.01 ) -> None:\n",
    "        \n",
    "        #===========================Fill This===========================#\n",
    "        ?????\n",
    "        #===============================================================#\n",
    "    \n",
    "    def Forward( self: Self, mX: np.ndarray ) -> np.ndarray:\n",
    "\n",
    "        #===========================Fill This===========================#\n",
    "        ?????\n",
    "        #===============================================================#\n",
    "        \n",
    "        return mZ\n",
    "    \n",
    "    def Backward( self: Self, mDz: np.ndarray ) -> np.ndarray:\n",
    "        \n",
    "        #===========================Fill This===========================#\n",
    "        ?????\n",
    "        #===============================================================#\n",
    "                \n",
    "        return mDx"
   ]
  },
  {
   "cell_type": "markdown",
   "metadata": {},
   "source": [
    "* <font color='blue'>(**!**)</font> Fill the shapes of the arrays in the code (As comments)."
   ]
  },
  {
   "cell_type": "markdown",
   "metadata": {},
   "source": [
    "### MSE Function\n",
    "\n",
    "The [_Mean Squared Error_](https://en.wikipedia.org/wiki/Mean_squared_error) (MSE):\n",
    "\n",
    "\n",
    "$$ \\ell\\left( \\boldsymbol{y}_{i}, \\hat{\\boldsymbol{y}}_{i} \\right) = \\frac{1}{2} {\\left\\| \\hat{\\boldsymbol{y}}_{i} - \\boldsymbol{y}_{i} \\right\\|}_{2}^{2} $$\n",
    "\n",
    "The Gradient\n",
    "\n",
    "$$ \\boxed{ {\\nabla}_{\\hat{\\boldsymbol{y}}} \\ell = \\text{ {\\color{red} ???} } } $$\n",
    "\n",
    "The loss over a batch\n",
    "\n",
    "$$L=\\frac{1}{N}\\sum_{i=1}^{N}\\ell\\left(\\boldsymbol{y}_{i},\\hat{\\boldsymbol{y}}_{i}\\right)$$\n",
    "\n",
    "\n"
   ]
  },
  {
   "cell_type": "code",
   "execution_count": null,
   "metadata": {},
   "outputs": [],
   "source": [
    "# MSE Loss\n",
    "\n",
    "def MseLoss( vY: np.ndarray, vZ: np.ndarray ) -> Tuple[np.float_, np.ndarray]:\n",
    "    '''\n",
    "    Returns both the loss and the gradient w.r.t the input (vZ).\n",
    "    The function uses the mean loss (Normalized by N). \n",
    "    Hence gradients calculation should sum the gradients over the batch.\n",
    "    '''\n",
    "    \n",
    "    #===========================Fill This===========================#\n",
    "    ?????\n",
    "    #===============================================================#\n",
    "    \n",
    "    return valLoss, vDz"
   ]
  },
  {
   "cell_type": "markdown",
   "metadata": {},
   "source": [
    "### Model Class\n",
    "\n",
    "The model class should be composable to allow arbitrary _Feed Forward_ model."
   ]
  },
  {
   "cell_type": "code",
   "execution_count": null,
   "metadata": {},
   "outputs": [],
   "source": [
    "# NN Model\n",
    "class ModelNN():\n",
    "    def __init__( self, lLayers: List ) -> None:\n",
    "        \n",
    "        self.lLayers = lLayers\n",
    "        \n",
    "    def Forward( self: Self, mX: np.ndarray ) -> np.ndarray:\n",
    "        \n",
    "        for oLayer in self.lLayers:\n",
    "            mX = oLayer.Forward(mX)\n",
    "        return mX\n",
    "    \n",
    "    def Backward( self: Self, mDz: np.ndarray ) -> None:\n",
    "        \n",
    "        for oLayer in reversed(self.lLayers):\n",
    "            mDz = oLayer.Backward(mDz)"
   ]
  },
  {
   "cell_type": "markdown",
   "metadata": {},
   "source": [
    "## Model Training\n",
    "\n",
    "The model training (Optimization) is by a vanilla _Gradient Descent_.  \n",
    "Since the model is small and the data si relatively small, the batch size is the whole training set.\n",
    "\n",
    "* <font color='brown'>(**#**)</font> Larger model / data set might require using _Stochastic Gradient Descent_.  \n",
    "  In this case the actual gradient of the loss function over the whole data is _approximated_ by the gradient calculated over a sub sample (Batch)."
   ]
  },
  {
   "cell_type": "markdown",
   "metadata": {},
   "source": [
    "### Training Function"
   ]
  },
  {
   "cell_type": "code",
   "execution_count": null,
   "metadata": {},
   "outputs": [],
   "source": [
    "# Training Model Function\n",
    "def TrainModel( oModel: ModelNN, mX: np.ndarray, vY: np.ndarray, numIter: int, learningRate: float ) -> None:\n",
    "    \n",
    "    # Display Results\n",
    "    hF, hA = plt.subplots(figsize = (12, 6))\n",
    "\n",
    "    vLoss = np.full(numIter, np.nan)\n",
    "    for ii in range(numIter):\n",
    "        # Forward Pass\n",
    "        mZ        = oModel.Forward(mX)\n",
    "        # Loss\n",
    "        valLoss, mDz = MseLoss(vY, mZ)\n",
    "        vLoss[ii]    = valLoss\n",
    "\n",
    "        # Backward Pass\n",
    "        oModel.Backward(mDz)\n",
    "\n",
    "        # Gradient Descent (Update parameters)\n",
    "        for oLayer in oModel.lLayers:\n",
    "            for sParam in oLayer.dGrads:\n",
    "                oLayer.dParams[sParam] -= learningRate * oLayer.dGrads[sParam]\n",
    "\n",
    "        # Display Results\n",
    "        hA.cla()\n",
    "        hA.set_title(f'Iteration: {(ii + 1): 04d} / {numIter}, Loss = {valLoss: 0.2f}')\n",
    "        hA.plot(vLoss, 'b', marker = '.', ms = 5)\n",
    "        hA.set_xlabel('Iteration Index')\n",
    "        hA.set_ylabel('Loss Value')\n",
    "        hA.grid()\n",
    "\n",
    "        plt.pause(1e-20)\n",
    "        display(hF, clear = True) #<! \"In Place\""
   ]
  },
  {
   "cell_type": "markdown",
   "metadata": {},
   "source": [
    "## Model Performance\n",
    "\n",
    "This section analyzes the model performance on the train and test data."
   ]
  },
  {
   "cell_type": "code",
   "execution_count": null,
   "metadata": {},
   "outputs": [],
   "source": [
    "# Define the Model\n",
    "\n",
    "oModel = ModelNN([\n",
    "    LinearLayer(8,   200), LeakyReLULayer(α),\n",
    "    LinearLayer(200, 250), LeakyReLULayer(α),\n",
    "    LinearLayer(250, 1),\n",
    "])\n",
    "\n",
    "numIter = 600\n",
    "µ = 7.5e-6\n",
    "TrainModel(oModel, mXTrain.T, vYTrain, numIter, µ) #<! Works in place on the model"
   ]
  },
  {
   "cell_type": "code",
   "execution_count": null,
   "metadata": {},
   "outputs": [],
   "source": [
    "# Base Line Results\n",
    "\n",
    "oLinReg     = LinearRegression()\n",
    "oLinReg     = oLinReg.fit(mXTrain, vYTrain)\n",
    "vYHatTrain  = oLinReg.predict(mXTrain)\n",
    "vYHatTest   = oLinReg.predict(mXTest)\n",
    "print(f'Linear Regression MSE (Train) = {np.mean(np.square(vYHatTrain - vYTrain))}')\n",
    "print(f'Linear Regression R²  (Train) = {r2_score(vYTrain, vYHatTrain)}')\n",
    "print(f'Linear Regression MSE (Test) = {np.mean(np.square(vYHatTest - vYTest))}')\n",
    "print(f'Linear Regression R²  (Test) = {r2_score(vYTest, vYHatTest)}')\n"
   ]
  },
  {
   "cell_type": "code",
   "execution_count": null,
   "metadata": {},
   "outputs": [],
   "source": [
    "# Apply Model on Data\n",
    "\n",
    "vYHatTrain = np.squeeze(oModel.Forward(mXTrain.T))\n",
    "vYHatTest  = np.squeeze(oModel.Forward(mXTest.T))"
   ]
  },
  {
   "cell_type": "code",
   "execution_count": null,
   "metadata": {},
   "outputs": [],
   "source": [
    "# Results Analysis\n",
    "\n",
    "# Plot Regression Results\n",
    "\n",
    "hF, vHa = plt.subplots(nrows = 1, ncols = 2, figsize = (14, 6))\n",
    "\n",
    "hA = PlotRegressionResults(vYTrain, vYHatTrain, hA = vHa[0])\n",
    "hA.set_title(f'Train Data, R2 = {r2_score(vYTrain, vYHatTrain.flat): 0.2f}')\n",
    "\n",
    "hA = PlotRegressionResults(vYTest, vYHatTest, hA = vHa[1])\n",
    "hA.set_title(f'Test Data, R2 = {r2_score(vYTest, vYHatTest.flat): 0.2f}')"
   ]
  },
  {
   "cell_type": "markdown",
   "metadata": {},
   "source": [
    "* <font color='blue'>(**!**)</font> Tune hyper parameters (Number of iterations, learning rate, $\\alpha$, Model) to beat the baseline model."
   ]
  }
 ],
 "metadata": {
  "kernelspec": {
   "display_name": "Python 3",
   "language": "python",
   "name": "python3"
  },
  "language_info": {
   "codemirror_mode": {
    "name": "ipython",
    "version": 3
   },
   "file_extension": ".py",
   "mimetype": "text/x-python",
   "name": "python",
   "nbconvert_exporter": "python",
   "pygments_lexer": "ipython3",
   "version": "3.11.9"
  },
  "toc": {
   "base_numbering": 1,
   "nav_menu": {},
   "number_sections": false,
   "sideBar": true,
   "skip_h1_title": false,
   "title_cell": "Table of Contents",
   "title_sidebar": "Contents",
   "toc_cell": false,
   "toc_position": {},
   "toc_section_display": true,
   "toc_window_display": true
  },
  "varInspector": {
   "cols": {
    "lenName": 16,
    "lenType": 16,
    "lenVar": 40
   },
   "kernels_config": {
    "python": {
     "delete_cmd_postfix": "",
     "delete_cmd_prefix": "del ",
     "library": "var_list.py",
     "varRefreshCmd": "print(var_dic_list())"
    },
    "r": {
     "delete_cmd_postfix": ") ",
     "delete_cmd_prefix": "rm(",
     "library": "var_list.r",
     "varRefreshCmd": "cat(var_dic_list()) "
    }
   },
   "types_to_exclude": [
    "module",
    "function",
    "builtin_function_or_method",
    "instance",
    "_Feature"
   ],
   "window_display": false
  },
  "vscode": {
   "interpreter": {
    "hash": "39577bab1f263e62e0b74f5b8086bd735049bf4751f6562b2d4b2969dc308293"
   }
  }
 },
 "nbformat": 4,
 "nbformat_minor": 4
}
