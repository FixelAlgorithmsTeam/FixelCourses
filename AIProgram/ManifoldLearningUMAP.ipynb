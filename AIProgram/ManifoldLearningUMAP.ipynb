{
 "cells": [
  {
   "attachments": {},
   "cell_type": "markdown",
   "metadata": {},
   "source": [
    "[![Fixel Algorithms](https://i.imgur.com/AqKHVZ0.png)](https://fixelalgorithms.gitlab.io)\n",
    "\n",
    "# AI Program\n",
    "\n",
    "## Machine Learning - UnSupervised Learning - Manifold Learning - UMAP\n",
    "\n",
    "> Notebook by:\n",
    "> - Royi Avital RoyiAvital@fixelalgorithms.com\n",
    "\n",
    "## Revision History\n",
    "\n",
    "| Version | Date       | User        |Content / Changes                                                   |\n",
    "|---------|------------|-------------|--------------------------------------------------------------------|\n",
    "| 1.0.000 | 13/09/2025 | Royi Avital | First version                                                      |"
   ]
  },
  {
   "attachments": {},
   "cell_type": "markdown",
   "metadata": {},
   "source": [
    "[![Open In Colab](https://colab.research.google.com/assets/colab-badge.svg)](https://colab.research.google.com/github/FixelAlgorithmsTeam/FixelCourses/blob/master/AIProgram/2024_02/0067ManifoldLearningIsoMap.ipynb)"
   ]
  },
  {
   "cell_type": "code",
   "execution_count": null,
   "metadata": {
    "ExecuteTime": {
     "end_time": "2022-02-02T09:30:06.492269Z",
     "start_time": "2022-02-02T09:30:06.220934Z"
    }
   },
   "outputs": [],
   "source": [
    "# Import Packages\n",
    "\n",
    "# General Tools\n",
    "import numpy as np\n",
    "import scipy as sp\n",
    "import pandas as pd\n",
    "\n",
    "# Machine Learning\n",
    "from sklearn.manifold import Isomap\n",
    "from umap import UMAP\n",
    "\n",
    "# Miscellaneous\n",
    "import os\n",
    "from platform import python_version\n",
    "import random\n",
    "import urllib\n",
    "\n",
    "# Typing\n",
    "from typing import Callable, Dict, List, Optional, Self, Set, Tuple, Union\n",
    "from numpy.typing import NDArray\n",
    "\n",
    "# Visualization\n",
    "import matplotlib.pyplot as plt\n",
    "\n",
    "# Jupyter\n",
    "from IPython import get_ipython"
   ]
  },
  {
   "attachments": {},
   "cell_type": "markdown",
   "metadata": {},
   "source": [
    "## Notations\n",
    "\n",
    "* <font color='red'>(**?**)</font> Question to answer interactively.\n",
    "* <font color='blue'>(**!**)</font> Simple task to add code for the notebook.\n",
    "* <font color='green'>(**@**)</font> Optional / Extra self practice.\n",
    "* <font color='brown'>(**#**)</font> Note / Useful resource / Food for thought.\n",
    "\n",
    "Code Notations:\n",
    "\n",
    "```python\n",
    "someVar    = 2; #<! Notation for a variable\n",
    "vVector    = np.random.rand(4) #<! Notation for 1D array\n",
    "mMatrix    = np.random.rand(4, 3) #<! Notation for 2D array\n",
    "tTensor    = np.random.rand(4, 3, 2, 3) #<! Notation for nD array (Tensor)\n",
    "tuTuple    = (1, 2, 3) #<! Notation for a tuple\n",
    "lList      = [1, 2, 3] #<! Notation for a list\n",
    "dDict      = {1: 3, 2: 2, 3: 1} #<! Notation for a dictionary\n",
    "oObj       = MyClass() #<! Notation for an object\n",
    "dfData     = pd.DataFrame() #<! Notation for a data frame\n",
    "dsData     = pd.Series() #<! Notation for a series\n",
    "hObj       = plt.Axes() #<! Notation for an object / handler / function handler\n",
    "```\n",
    "\n",
    "### Code Exercise\n",
    "\n",
    " - Single line fill\n",
    "\n",
    "```python\n",
    "valToFill = ???\n",
    "```\n",
    "\n",
    " - Multi Line to Fill (At least one)\n",
    "\n",
    "```python\n",
    "# You need to start writing\n",
    "?????\n",
    "```\n",
    "\n",
    " - Section to Fill\n",
    "\n",
    "```python\n",
    "#===========================Fill This===========================#\n",
    "# 1. Explanation about what to do.\n",
    "# !! Remarks to follow / take under consideration.\n",
    "mX = ???\n",
    "\n",
    "?????\n",
    "#===============================================================#\n",
    "```"
   ]
  },
  {
   "cell_type": "code",
   "execution_count": null,
   "metadata": {},
   "outputs": [],
   "source": [
    "# Configuration\n",
    "# %matplotlib inline\n",
    "\n",
    "seedNum = 512\n",
    "np.random.seed(seedNum)\n",
    "random.seed(seedNum)\n",
    "\n",
    "# Matplotlib default color palette\n",
    "lMatPltLibclr = ['#1f77b4', '#ff7f0e', '#2ca02c', '#d62728', '#9467bd', '#8c564b', '#e377c2', '#7f7f7f', '#bcbd22', '#17becf']\n",
    "# sns.set_theme() #>! Apply SeaBorn theme\n",
    "\n",
    "runInGoogleColab = 'google.colab' in str(get_ipython())\n"
   ]
  },
  {
   "cell_type": "code",
   "execution_count": null,
   "metadata": {},
   "outputs": [],
   "source": [
    "# Constants\n",
    "\n",
    "FIG_SIZE_DEF    = (8, 8)\n",
    "ELM_SIZE_DEF    = 50\n",
    "CLASS_COLOR     = ('b', 'r')\n",
    "EDGE_COLOR      = 'k'\n",
    "MARKER_SIZE_DEF = 10\n",
    "LINE_WIDTH_DEF  = 2\n",
    "\n",
    "# Searching face_data.mat github\n",
    "DATA_FILE_URL = r'https://github.com/Mashimo/datascience/raw/master/datasets/face_data.mat'\n",
    "DATA_FILE_URL = r'https://github.com/SpencerKoevering/DRCapstone/raw/main/Isomap_face_data.mat'\n",
    "DATA_FILE_URL = r'https://github.com/jasonfilippou/DimReduce/raw/master/ISOMAP/face_data.mat'\n",
    "\n",
    "DATA_FILE_NAME = r'IsoMapFaceData.mat'"
   ]
  },
  {
   "cell_type": "code",
   "execution_count": null,
   "metadata": {},
   "outputs": [],
   "source": [
    "# Courses Packages\n"
   ]
  },
  {
   "cell_type": "code",
   "execution_count": null,
   "metadata": {},
   "outputs": [],
   "source": [
    "# General Auxiliary Functions\n",
    "\n",
    "def DownloadUrl( fileUrl: str, fileName: str ) -> str:\n",
    "    \n",
    "    if not os.path.exists(fileName):\n",
    "        urllib.request.urlretrieve(fileUrl, fileName)\n",
    "\n",
    "    return fileName\n",
    "\n",
    "def PlotMnistImages( mX: NDArray, vY: NDArray, numRows: int, numCols: Optional[int] = None, tuImgSize: Tuple = (28, 28), randomChoice: bool = True, lClasses: Optional[List] = None, hF: Optional[plt.Figure] = None ) -> plt.Figure:\n",
    "\n",
    "    numSamples  = mX.shape[0]\n",
    "    numPx       = mX.shape[1]\n",
    "\n",
    "    if numCols is None:\n",
    "        numCols = numRows\n",
    "\n",
    "    tFigSize = (numCols * 3, numRows * 3)\n",
    "\n",
    "    if hF is None:\n",
    "        hF, hA = plt.subplots(numRows, numCols, figsize = tFigSize)\n",
    "    else:\n",
    "        hA = hF.axes\n",
    "    \n",
    "    hA = np.atleast_1d(hA) #<! To support numImg = 1\n",
    "    hA = hA.flat\n",
    "    \n",
    "    for kk in range(numRows * numCols):\n",
    "        idx = np.random.choice(numSamples) if randomChoice else kk\n",
    "        mI  = np.reshape(mX[idx, :], tuImgSize)\n",
    "    \n",
    "        # hA[kk].imshow(mI.clip(0, 1), cmap = 'gray')\n",
    "        if len(tuImgSize) == 2:\n",
    "            hA[kk].imshow(mI, cmap = 'gray')\n",
    "        elif len(tuImgSize) == 3:\n",
    "            hA[kk].imshow(mI)\n",
    "        else:\n",
    "            raise ValueError(f'The length of the image size tuple is {len(tuImgSize)} which is not supported')\n",
    "        hA[kk].tick_params(axis = 'both', left = False, top = False, right = False, bottom = False, \n",
    "                           labelleft = False, labeltop = False, labelright = False, labelbottom = False)\n",
    "        if lClasses is None:\n",
    "            hA[kk].set_title(f'Index = {idx}, Label = {vY[idx]}')\n",
    "        else:\n",
    "            hA[kk].set_title(f'Index = {idx}, Label = {lClasses[vY[idx]]}')\n",
    "    \n",
    "    return hF"
   ]
  },
  {
   "cell_type": "markdown",
   "metadata": {},
   "source": [
    "## Dimensionality Reduction by IsoMap\n",
    "\n",
    "The IsoMap is a special case of the MDS approach where we try to approximate the geodesic distance by the shortest path distance.  \n",
    "The geodesic distance is the distance on the low dimensional surface (Manifold) the data is assumed to lie on.  \n",
    "Hence, by knowing it we can use the data native metric.\n",
    "\n",
    "In this notebook:\n",
    "\n",
    " - We'll use the IsoMap algorithm to reduce the dimensionality of the data set.\n",
    " - We'll compare results of the IsoMap with the MDS algorithm with euclidean distance metric.  "
   ]
  },
  {
   "cell_type": "code",
   "execution_count": null,
   "metadata": {},
   "outputs": [],
   "source": [
    "# Parameters\n",
    "\n",
    "# Data\n",
    "numRows  = 4\n",
    "numCols  = 4\n",
    "tImgSize = (64, 64)\n",
    "\n",
    "# Model\n",
    "numNeighbors    = 6\n",
    "lowDim          = 2\n",
    "metricType      = 'l2'\n",
    "\n",
    "# Visualization\n",
    "imgShift        = 5\n",
    "numImgScatter   = 70"
   ]
  },
  {
   "cell_type": "markdown",
   "metadata": {},
   "source": [
    "## Generate / Load Data\n",
    "\n",
    "In this notebook we'll use [IsoMap Face Data Set](https://web.archive.org/web/20160913051505/http://isomap.stanford.edu/datasets.html).    \n",
    "This data set is composed with 698 images of size `64 x 64` of the same face.  \n",
    "Each image is taken from a different angle: Vertical and Horizontal.\n",
    "\n",
    "![](https://i.imgur.com/cNz811Y.png)\n",
    "\n",
    "We'll download the data from GitHub (There are 3 URL above, one should work :-))."
   ]
  },
  {
   "cell_type": "markdown",
   "metadata": {},
   "source": [
    "* <font color='red'>(**?**)</font> What's the dimension of the underlying manifold of the data?"
   ]
  },
  {
   "cell_type": "code",
   "execution_count": null,
   "metadata": {},
   "outputs": [],
   "source": [
    "# Download Data\n",
    "# This section downloads data from the given URL if needed.\n",
    "\n",
    "dataFileName = DownloadUrl(DATA_FILE_URL, DATA_FILE_NAME)"
   ]
  },
  {
   "cell_type": "code",
   "execution_count": null,
   "metadata": {},
   "outputs": [],
   "source": [
    "# Load Data\n",
    "\n",
    "# Dictionary of the data\n",
    "# 'images' - The images.\n",
    "# 'poses' - The angles.\n",
    "dFaceData = sp.io.loadmat(dataFileName)\n",
    "mX        = dFaceData['images'].T #<! Loading from MATLAB\n",
    "\n",
    "numSamples, dataDim = mX.shape\n",
    "\n",
    "print(f'The features data shape: {mX.shape}')\n",
    "print(f'The features data type: {mX.dtype}')"
   ]
  },
  {
   "cell_type": "markdown",
   "metadata": {},
   "source": [
    "* <font color='red'>(**?**)</font> Do we need to scale the data?\n",
    "* <font color='blue'>(**!**)</font> Check the dynamic range of the data (Images)."
   ]
  },
  {
   "cell_type": "code",
   "execution_count": null,
   "metadata": {},
   "outputs": [],
   "source": [
    "# Transpose each image (MATLAB -> Python)\n",
    "\n",
    "for vX in mX:\n",
    "    vX[:] = np.reshape(np.reshape(vX, tImgSize), (-1, ), order = 'F')"
   ]
  },
  {
   "cell_type": "markdown",
   "metadata": {},
   "source": [
    "### Plot Data"
   ]
  },
  {
   "cell_type": "code",
   "execution_count": null,
   "metadata": {},
   "outputs": [],
   "source": [
    "# Plot the Data\n",
    "\n",
    "hF = PlotMnistImages(mX, range(mX.shape[0]), numRows = numRows, numCols = numCols, tuImgSize = tImgSize)\n",
    "\n",
    "plt.show()"
   ]
  },
  {
   "cell_type": "markdown",
   "metadata": {},
   "source": [
    "## Applying Dimensionality Reduction - IsoMap\n",
    "\n",
    "We'll use the IsoMap algorithm to approximate the data native manifold.  \n",
    "\n",
    "One of the earliest (In ~2000 by Joshua B. Tenenbaum) approaches to manifold learning is the IsoMap algorithm, short for _Isometric Mapping_.  \n",
    "IsoMap can be viewed as an extension of Multi Dimensional Scaling (MDS) or Kernel PCA.  \n",
    "IsoMap seeks a lower dimensional embedding which maintains geodesic distances between all points. \n",
    "\n",
    "![Isomap](https://github.com/FixelAlgorithmsTeam/FixelCourses/blob/master/MachineLearningMethods/2022_02/19_DimensionalityReduction/Isomap.png?raw=true)\n",
    "\n",
    "We'll use SciKit Learn's [`Isomap`](https://scikit-learn.org/stable/modules/generated/sklearn.manifold.Isomap.html).\n",
    "\n",
    "* <font color='brown'>(**#**)</font> The method is based on MDS which means there is no unique solution.\n",
    "* <font color='brown'>(**#**)</font> The complexity of the algorithm is rather high hence there are many approximated steps.\n",
    "* <font color='brown'>(**#**)</font> Behind the scene the SciKit Learn implementation approximate the geodesic distance using a Kernel (So the solution is equivalent to K-PCA)."
   ]
  },
  {
   "cell_type": "markdown",
   "metadata": {},
   "source": [
    "* <font color='red'>(**?**)</font> What do we send in for production from this model?"
   ]
  },
  {
   "cell_type": "code",
   "execution_count": null,
   "metadata": {},
   "outputs": [],
   "source": [
    "# Apply the IsoMap\n",
    "\n",
    "# Construct the object\n",
    "oIsoMapDr = Isomap(n_neighbors = numNeighbors, n_components = lowDim, metric = metricType)\n",
    "# Build the model\n",
    "oIsoMapDr = oIsoMapDr.fit(mX)"
   ]
  },
  {
   "cell_type": "markdown",
   "metadata": {},
   "source": [
    "* <font color='red'>(**?**)</font> Does this method support out of sample data? Look for `transform()` method."
   ]
  },
  {
   "cell_type": "markdown",
   "metadata": {},
   "source": [
    "## Applying Dimensionality Reduction - UMAP\n",
    "\n",
    "This sections uses the UMAP algorithm to approximate the data native manifold.  \n",
    "\n",
    "```mermaid\n",
    "flowchart LR\n",
    "  A[\"Input data: $$\\boldsymbol{X} \\in \\mathbb{R}^{m \\times n}$$\"]:::data --> B[Choose hyperparameters<br/>• n_neighbors • min_dist • metric]:::param\n",
    "  B --> C{k-Nearest Neighbors per Point}:::proc\n",
    "  C --> D[\"`Compute Local Radii: <br/> (ρᵢ, σᵢ) → smooth distances`\"]:::proc\n",
    "  D --> E[\"Build Fuzzy High Dimensional Graph: <br/> $${p}_{i, j} = exp \\left( − \\left( d \\left( i, j \\right) − {\\rho}_{i} \\right) / {\\sigma}_{i} \\right)$$\"]:::agraph\n",
    "  E --> F[\"Symmetrize Weights:<br/>$$p = 1 − \\left( 1 − {p}_{i, j} \\right) \\left( 1 − {p}_{j, i} \\right)$$\"]:::agraph\n",
    "\n",
    "  F --> G[\"Initialize Low Dimensional Embedding:<br/> $$\\mathbb{Y} \\in \\mathbb{R}^{n \\times m}$$<br/>By Spectral / Random / PCA\"]:::init\n",
    "\n",
    "  G --> H{\"Optimize $$\\boldsymbol{Y}$$ with SGD to Minimize Cross Entropy\"}:::proc\n",
    "  H --> I[[Attractive Edges: Pull Together]]:::force\n",
    "  H --> J[[Repulsive Edges: Push Apart]]:::force\n",
    "  I --> K[\"Update $$\\boldsymbol{Y}$$\"]:::update\n",
    "  J --> K\n",
    "  K -->|Repeat| H\n",
    "  H --> L[Low Dimensional Similarities Q]:::agraph\n",
    "\n",
    "  K --> M[Output Embedding<br/>Local neighborhoods preserved, Global structure respected]:::result\n",
    "\n",
    "  %% Intuition callout\n",
    "  N[\"`**Intuition**<br/>1) Build a weighted NN graph in high-D.<br/>2) Find a low-D layout whose graph is similar.<br/><br/>• **n_neighbors**: local vs global balance<br/>• **min_dist**: cluster tightness<br/>• **metric**: geometry of distances`\"]:::note -.-> B\n",
    "\n",
    "  %% Styles\n",
    "  classDef data fill:#e3f2fd,stroke:#1565c0,color:#0d47a1;\n",
    "  classDef param fill:#fff3e0,stroke:#ef6c00,color:#e65100;\n",
    "  classDef proc fill:#ede7f6,stroke:#7b1fa2,color:#4a148c;\n",
    "  classDef agraph fill:#e8f5e9,stroke:#1b5e20,color:#1b5e20;\n",
    "  classDef init fill:#f1f8e9,stroke:#558b2f,color:#2e7d32;\n",
    "  classDef force fill:#ffe0e0,stroke:#c62828,color:#8e0000;\n",
    "  classDef update fill:#e0f7fa,stroke:#00838f,color:#006064;\n",
    "  classDef result fill:#e1f5fe,stroke:#0277bd,color:#01579b;\n",
    "  classDef note fill:#f5f5f5,stroke:#9e9e9e,color:#424242;\n",
    "```\n",
    "\n",
    "![](https://mermaid.ink/img/pako:eNptVW1u20YQvcqACYpYkBySEiWaaAPYkj_jOKmdok2jNFiRQ5EJySV2l3FkQUCLAkV_5wi5Q8-RM9Qn6Swpri3VJmzyzc6bfTM7O15aIY_QCqw449dhwoSC15NpAfSz_3ZqnRZlpSBiigXw_Uw8g8ePp9MZzyK5yOm1_GUF02la0J-cqWQ2W16uflvmBFWao4RiRf7WO-j1nsEBhRsnnEuEZFGiKJlgOSoUUge-_f0rFO8LTOfJjAsJGudp8T5KpWoAKpGGFKwRd1DHHC-n1sfeBTKB5HZh2BQeXvG0UFNr1fiPa_-J1sBzygnhnIcsg0sWpek6tyff_vj3n69d-PYnvXbg9q8vIHPOVQJaBStClGb_SR3vkOIdVGkWwVF1c7OAExIAE0q9kCkvKPyxYGViSrcsV--XaRc-rOAHwM8l1SnDWD2B27-_mO_IfGlPAoKCqp3aZ0ko4TrI6m7hqTbLdJ6zzYW69I3aw1rtEam9WuR1JW8QftblUtKoK0mUsyGlQfdUmz0f8PjQhYc3P6o3P667KVUpy_Tm5_x6o1CH-QyjKC3mgWmzdUe9eajFCtNiObWYphws4KrEUAkK9pSOtYh4Th-vxvtGyHEt5IR65mVJZC1jq53fUDC4TunEr44noDi8SIvGcSy4lHBYKMHLhemqkzri6VvKbV_R1qFKPyEcRnOksr6qsgxe8zmqBAWJeAffwZl2vcSyyuSGp0xgny6EWrudk9d2ha5ISMYEVZCy_tEkdVpLeE6En0q6pw-mZJzPGucGPCcApAWZagpzZ34GLyjgy0rp22-ORpe5uTXtPaXrHNFto9uH4hNGXTjO-IzWpRJVqCqBQEv6VDAyGi4ocqdzWqiKUuFFp6PDOjvQ3CMG13VbYgQXFzDX1wfo8BOy9Sa72tXdgaO00J40sXoTyNiCk8rrRE-WNUGCbKpVM9r50uncmzCdTkABdDKfJMwb2fSrb_mdfzuBtHOYVZKmFSgtr0Ap77nVs0k7zZFrsAAebwwN6O3qEdhUAPaDINAzdQ0PCNbTcI3HGgseruFkEx4SZHWea8PRtuGYDNS3ag1PNvmnBGMuQlzjsy18vh3uORmqurfWhhdkoHOtsnaHCzIUvF0PMyblBOP63wbEaZYFj7Afu3HUpb7gHzF45HhDL7S7Ic-4CB7Z0WDEnC1yXZA1O47jPtqGjfEwtA0bh55j29tsyrfdOsJRPDTk0cyJmduSB8wZ-OEWucm-pfuxh3t3ymceumbvBm3Rdelb4U7s3yN7nj9z45bs4ijqu1vk-iRM2mjfSzscur7rt2wfbft_aTfH1Cq341HMDN22_b5vNrftoT0cbNGbQ23pTuzFeEd3R6NZZOiON9qbbdF1C7TSPf0Y8h7qxxTd1Y_VteYijayAZgV2rRxFzjS0ljrs1KKpmePUCugzwpjpbrOmxYpoJSt-5TxvmYJX88QKYpZJQk0JJqk-xNxYBRYRijGvCmUF7mjg1lGsYGl9tgJn5OwO9gae5w4dt28PRl1rYQW9gdff9fv2kNwHzoDe3qpr3dQbO7t9f-D4Xt-1R3v9vm97q_8AkH4BZw?type=svg)\n",
    "\n",
    "One of the earliest (In ~2000 by Joshua B. Tenenbaum) approaches to manifold learning is the IsoMap algorithm, short for _Isometric Mapping_.  \n",
    "IsoMap can be viewed as an extension of Multi Dimensional Scaling (MDS) or Kernel PCA.  \n",
    "IsoMap seeks a lower dimensional embedding which maintains geodesic distances between all points. \n",
    "\n",
    "![Isomap](https://github.com/FixelAlgorithmsTeam/FixelCourses/blob/master/MachineLearningMethods/2022_02/19_DimensionalityReduction/Isomap.png?raw=true)\n",
    "\n",
    "We'll use UMAP Learn's [`UMAP`](https://umap-learn.readthedocs.io/en/latest/api.html#umap).\n",
    "\n",
    "* <font color='brown'>(**#**)</font> While the original paper, [UMAP: Uniform Manifold Approximation and Projection for Dimension Reduction](https://arxiv.org/abs/1802.03426), describe the method while using mant advanced theories from [Category Theory](https://en.wikipedia.org/wiki/Category_theory) in practice it is very similar to [t-SNE](https://www.jmlr.org/papers/v9/vandermaaten08a.html) and [LargeVis](https://arxiv.org/abs/1602.00370).\n",
    "* <font color='brown'>(**#**)</font> Main advantages of UMAP over t-SNE: Speed, Easier to tune, _Out of Sample_ support.   \n",
    "  Modern implementations of t-SNE (See [FFT Accelerated t-SNE](https://github.com/KlugerLab/FIt-SNE), [OpenTSNE](https://github.com/pavlin-policar/openTSNE)) basically closed the gap on all of those."
   ]
  },
  {
   "cell_type": "code",
   "execution_count": null,
   "metadata": {},
   "outputs": [],
   "source": [
    "# Apply the UMAP\n",
    "# Parameters tuned to replicate the IsoMap results\n",
    "\n",
    "# Construct the object\n",
    "oUmapDr = UMAP(n_neighbors = 7, n_components = lowDim, metric = 'cosine', n_epochs = None, learning_rate = 0.95, min_dist = 1.5, spread = 20)\n",
    "# Build the model\n",
    "oUmapDr = oUmapDr.fit(mX)"
   ]
  },
  {
   "cell_type": "markdown",
   "metadata": {},
   "source": [
    "* <font color='red'>(**?**)</font> Does this method support out of sample data? Look for `transform()` method."
   ]
  },
  {
   "cell_type": "code",
   "execution_count": null,
   "metadata": {},
   "outputs": [],
   "source": [
    "# Apply the Transform\n",
    "mZ = oIsoMapDr.transform(mX)"
   ]
  },
  {
   "cell_type": "code",
   "execution_count": null,
   "metadata": {},
   "outputs": [],
   "source": [
    "# Plot the Low Dimensional Data (With the Faces)\n",
    "\n",
    "# Compute Images which are far apart\n",
    "\n",
    "lSet = list(range(1, numSamples))\n",
    "lIdx = [0] #<! First image\n",
    "for ii in range(numSamples - 1):\n",
    "    mDi  = sp.spatial.distance.cdist(mZ[lIdx, :], mZ[lSet, :])\n",
    "    vMin = np.min(mDi, axis = 0)\n",
    "    idx  = np.argmax(vMin) #<! Farthest image\n",
    "    lIdx.append(lSet[idx])\n",
    "    lSet.remove(lSet[idx])"
   ]
  },
  {
   "cell_type": "code",
   "execution_count": null,
   "metadata": {},
   "outputs": [],
   "source": [
    "# Plot the Embedding with Images\n",
    "\n",
    "hF, hA = plt.subplots(figsize = (10, 8))\n",
    "\n",
    "imgShift = 5\n",
    "for ii in range(numImgScatter):\n",
    "    idx = lIdx[ii]\n",
    "    x0  = mZ[idx, 0] - imgShift\n",
    "    x1  = mZ[idx, 0] + imgShift\n",
    "    y0  = mZ[idx, 1] - imgShift\n",
    "    y1  = mZ[idx, 1] + imgShift\n",
    "    mI  = np.reshape(mX[idx, :], tImgSize)\n",
    "    hA.imshow(mI, aspect = 'auto', cmap = 'gray', zorder = 2, extent = (x0, x1, y0, y1))\n",
    "\n",
    "hA.scatter(mZ[:, 0], mZ[:, 1], s = 50, c = 'lime', edgecolor = 'k')\n",
    "hA.set_xlabel('$z_1$')\n",
    "hA.set_ylabel('$z_2$')\n",
    "\n",
    "plt.show()"
   ]
  },
  {
   "cell_type": "markdown",
   "metadata": {},
   "source": [
    "* <font color='red'>(**?**)</font> What is the interpretation of ${z}_{1}$? What about ${z}_{2}$?\n",
    "* <font color='blue'>(**!**)</font> Use Linear PCA to do the above and compare results."
   ]
  }
 ],
 "metadata": {
  "kernelspec": {
   "display_name": "Python 3",
   "language": "python",
   "name": "python3"
  },
  "language_info": {
   "codemirror_mode": {
    "name": "ipython",
    "version": 3
   },
   "file_extension": ".py",
   "mimetype": "text/x-python",
   "name": "python",
   "nbconvert_exporter": "python",
   "pygments_lexer": "ipython3",
   "version": "3.13.7"
  },
  "toc": {
   "base_numbering": 1,
   "nav_menu": {},
   "number_sections": false,
   "sideBar": true,
   "skip_h1_title": false,
   "title_cell": "Table of Contents",
   "title_sidebar": "Contents",
   "toc_cell": false,
   "toc_position": {},
   "toc_section_display": true,
   "toc_window_display": true
  },
  "varInspector": {
   "cols": {
    "lenName": 16,
    "lenType": 16,
    "lenVar": 40
   },
   "kernels_config": {
    "python": {
     "delete_cmd_postfix": "",
     "delete_cmd_prefix": "del ",
     "library": "var_list.py",
     "varRefreshCmd": "print(var_dic_list())"
    },
    "r": {
     "delete_cmd_postfix": ") ",
     "delete_cmd_prefix": "rm(",
     "library": "var_list.r",
     "varRefreshCmd": "cat(var_dic_list()) "
    }
   },
   "types_to_exclude": [
    "module",
    "function",
    "builtin_function_or_method",
    "instance",
    "_Feature"
   ],
   "window_display": false
  },
  "vscode": {
   "interpreter": {
    "hash": "39577bab1f263e62e0b74f5b8086bd735049bf4751f6562b2d4b2969dc308293"
   }
  }
 },
 "nbformat": 4,
 "nbformat_minor": 4
}
