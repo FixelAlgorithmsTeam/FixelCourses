{
 "cells": [
  {
   "attachments": {},
   "cell_type": "markdown",
   "metadata": {},
   "source": [
    "[![Fixel Algorithms](https://i.imgur.com/AqKHVZ0.png)](https://fixelalgorithms.gitlab.io)\n",
    "\n",
    "<!-- ![](https://i.imgur.com/qkg2E2D.png) -->\n",
    "\n",
    "# AI Program\n",
    "\n",
    "## Introduction to Estimation - The Maximum Likelihood Estimator (MLE)\n",
    "\n",
    "> Notebook by:\n",
    "> - Royi Avital RoyiAvital@fixelalgorithms.com\n",
    "\n",
    "## Revision History\n",
    "\n",
    "| Version | Date       | User        |Content / Changes                                                   |\n",
    "|---------|------------|-------------|--------------------------------------------------------------------|\n",
    "| 1.0.000 | 16/09/2025 | Royi Avital | First version                                                      |"
   ]
  },
  {
   "attachments": {},
   "cell_type": "markdown",
   "metadata": {},
   "source": [
    "[![Open In Colab](https://colab.research.google.com/assets/colab-badge.svg)](https://colab.research.google.com/github/FixelAlgorithmsTeam/FixelCourses/blob/master/AIProgram/2024_02/0004EstimationMap.ipynb)"
   ]
  },
  {
   "cell_type": "code",
   "execution_count": null,
   "metadata": {
    "ExecuteTime": {
     "end_time": "2022-02-02T17:52:07.921383Z",
     "start_time": "2022-02-02T17:52:07.649130Z"
    }
   },
   "outputs": [],
   "source": [
    "# Import Packages\n",
    "\n",
    "# General Tools\n",
    "import numpy as np\n",
    "import scipy as sp\n",
    "import pandas as pd\n",
    "\n",
    "# Miscellaneous\n",
    "from platform import python_version\n",
    "import random\n",
    "\n",
    "# Typing\n",
    "from typing import Tuple, List, Dict, Any\n",
    "from numpy.typing import NDArray\n",
    "\n",
    "# Visualization\n",
    "import matplotlib.pyplot as plt\n",
    "\n",
    "# Jupyter\n",
    "from IPython import get_ipython"
   ]
  },
  {
   "attachments": {},
   "cell_type": "markdown",
   "metadata": {},
   "source": [
    "## Notations\n",
    "\n",
    "* <font color='red'>(**?**)</font> Question to answer interactively.\n",
    "* <font color='blue'>(**!**)</font> Simple task to add code for the notebook.\n",
    "* <font color='green'>(**@**)</font> Optional / Extra self practice.\n",
    "* <font color='brown'>(**#**)</font> Note / Useful resource / Food for thought.\n",
    "\n",
    "Code Notations:\n",
    "\n",
    "```python\n",
    "someVar    = 2; #<! Notation for a variable\n",
    "vVector    = np.random.rand(4) #<! Notation for 1D array\n",
    "mMatrix    = np.random.rand(4, 3) #<! Notation for 2D array\n",
    "tTensor    = np.random.rand(4, 3, 2, 3) #<! Notation for nD array (Tensor)\n",
    "tuTuple    = (1, 2, 3) #<! Notation for a tuple\n",
    "lList      = [1, 2, 3] #<! Notation for a list\n",
    "dDict      = {1: 3, 2: 2, 3: 1} #<! Notation for a dictionary\n",
    "oObj       = MyClass() #<! Notation for an object\n",
    "dfData     = pd.DataFrame() #<! Notation for a data frame\n",
    "dsData     = pd.Series() #<! Notation for a series\n",
    "hObj       = plt.Axes() #<! Notation for an object / handler / function handler\n",
    "```\n",
    "\n",
    "### Code Exercise\n",
    "\n",
    " - Single line fill\n",
    "\n",
    "```python\n",
    "valToFill = ???\n",
    "```\n",
    "\n",
    " - Multi Line to Fill (At least one)\n",
    "\n",
    "```python\n",
    "# You need to start writing\n",
    "?????\n",
    "```\n",
    "\n",
    " - Section to Fill\n",
    "\n",
    "```python\n",
    "#===========================Fill This===========================#\n",
    "# 1. Explanation about what to do.\n",
    "# !! Remarks to follow / take under consideration.\n",
    "mX = ???\n",
    "\n",
    "?????\n",
    "#===============================================================#\n",
    "```"
   ]
  },
  {
   "cell_type": "code",
   "execution_count": null,
   "metadata": {},
   "outputs": [],
   "source": [
    "# Configuration\n",
    "#%matplotlib inline\n",
    "\n",
    "# warnings.filterwarnings(\"ignore\")\n",
    "\n",
    "seedNum = 512\n",
    "np.random.seed(seedNum)\n",
    "random.seed(seedNum)\n",
    "\n",
    "# Matplotlib default color palette\n",
    "lMatPltLibclr = ['#1f77b4', '#ff7f0e', '#2ca02c', '#d62728', '#9467bd', '#8c564b', '#e377c2', '#7f7f7f', '#bcbd22', '#17becf']\n",
    "# sns.set_theme() #>! Apply SeaBorn theme\n",
    "# sns.set_palette(\"tab10\")\n",
    "\n",
    "runInGoogleColab = 'google.colab' in str(get_ipython())"
   ]
  },
  {
   "cell_type": "code",
   "execution_count": null,
   "metadata": {},
   "outputs": [],
   "source": [
    "# Constants\n",
    "\n",
    "FIG_SIZE_DEF    = (8, 8)\n",
    "ELM_SIZE_DEF    = 50\n",
    "CLASS_COLOR     = ('b', 'r')\n",
    "EDGE_COLOR      = 'k'\n",
    "MARKER_SIZE_DEF = 10\n",
    "LINE_WIDTH_DEF  = 2"
   ]
  },
  {
   "cell_type": "code",
   "execution_count": null,
   "metadata": {},
   "outputs": [],
   "source": [
    "# Course Packages\n"
   ]
  },
  {
   "cell_type": "code",
   "execution_count": null,
   "metadata": {},
   "outputs": [],
   "source": [
    "# Parameters\n",
    "\n",
    "# Data\n",
    "numSamples = 50\n",
    "λ = 0.7"
   ]
  },
  {
   "attachments": {},
   "cell_type": "markdown",
   "metadata": {},
   "source": [
    "## The Data\n",
    "\n",
    "The data is generated from the [Exponential Distribution](https://en.wikipedia.org/wiki/Exponential_distribution) model:\n",
    "\n",
    "$$ X \\sim \\operatorname{Exp} \\left( \\lambda \\right) \\Rightarrow {f}_{X} \\left( x ; \\lambda \\right) = \\lambda \\exp(- \\lambda x) $$\n",
    "\n",
    "Where the _deterministic_ parameter ${\\lambda}$ is unknown.\n",
    "\n",
    "* <font color='brown'>(**#**)</font> This case a closed form solution with $\\hat{\\lambda} = \\frac{n}{\\sum_{i}^{n} {x}_{i}}$."
   ]
  },
  {
   "cell_type": "code",
   "execution_count": null,
   "metadata": {},
   "outputs": [],
   "source": [
    "# Generate Data\n",
    "# Using SciPy's Statistics module.\n",
    "# SciPy's `expon` uses the scale parameter, which is the inverse of the rate parameter λ.\n",
    "\n",
    "vX = sp.stats.expon.rvs(0, 1 / λ, size = numSamples) #<! Generating many samples"
   ]
  },
  {
   "cell_type": "code",
   "execution_count": null,
   "metadata": {},
   "outputs": [],
   "source": [
    "# Plot the Data Histogram\n",
    "\n",
    "hF, hA = plt.subplots(figsize = (7, 5))\n",
    "hA.hist(vX, bins = 15, density = True, alpha = 0.6, color = 'g', edgecolor = 'black')\n",
    "hA.set_title('Histogram of Generated Data', fontsize = 16)\n",
    "hA.set_xlabel('x', fontsize = 14)\n",
    "hA.set_ylabel('Density', fontsize = 14);"
   ]
  },
  {
   "attachments": {},
   "cell_type": "markdown",
   "metadata": {},
   "source": [
    "## The Log Likelihood Function\n",
    "\n",
    "Given $N$ Independently Identically Distributed (IID) observations $\\mathcal{D} = \\left\\{ {x}_{i} \\right\\}_{i = 1}^{N}$ from the Exponential Distribution model.\n",
    "\n",
    "Since samples are Independent, the _Likelihood Function_ with respect to the parameter $\\lambda$ is the product of densities:\n",
    "\n",
    "$$\n",
    "L \\left( \\lambda \\mid \\mathcal{D} \\right) =\\prod_{i = 1}^{N} \\lambda e^{-\\lambda x_i} = {\\lambda}^{N} \\exp \\left( -\\lambda \\sum_{i=1}^{N} {x}_{i} \\right)\n",
    "$$\n",
    "\n",
    "* <font color='brown'>(**#**)</font> IT is assumed all samples are non negative. Negative samples should be dropped in this model.\n",
    "\n",
    "The _Log Likelihood Function_ is given by:\n",
    "\n",
    "$$ \\ell \\left( \\lambda \\mid \\mathcal{D} \\right) = \\log \\left( L \\left( \\lambda \\mid \\mathcal{D} \\right) \\right) = N \\log \\left( \\lambda \\right) - \\lambda \\sum_{i = 1}^{N} {x}_{i} $$\n",
    "\n",
    "\n",
    "* <font color='brown'>(**#**)</font> The Log Likelihood assists with handling large number of samples as multiplications of small numbers generates numerical issues for large ensemble.\n",
    "* <font color='green'>(**@**)</font> Use the derivative to derive the closed form solution for the MLE of $\\lambda$."
   ]
  },
  {
   "cell_type": "code",
   "execution_count": null,
   "metadata": {
    "ExecuteTime": {
     "end_time": "2022-02-02T17:53:07.834772Z",
     "start_time": "2022-02-02T17:53:07.448832Z"
    }
   },
   "outputs": [],
   "source": [
    "# The Likelihood Function\n",
    "\n",
    "def DataLogLikelihood( vX: NDArray, λ: float ) -> float:\n",
    "    \"\"\"\n",
    "    Compute the Log-Likelihood of the data given the parameter λ.  \n",
    "    Data is assumed to be drawn from an Exponential distribution.\n",
    "    Samples are assumed to be independent and identically distributed (i.i.d).\n",
    "\n",
    "    Args:\n",
    "        vX (NDArray): The observed data samples.\n",
    "        λ (float): The rate parameter of the Exponential distribution.\n",
    "\n",
    "    Returns:\n",
    "        float: The log-likelihood value.\n",
    "    \n",
    "    Remarks:\n",
    "        The likelihood function for the Exponential distribution is given by:\n",
    "        L(λ | vX) = ∏ (λ * exp(-λ * xi)) for xi in vX\n",
    "        The log-likelihood is then:\n",
    "        log L(λ | vX) = n * log(λ) - λ * ∑ xi\n",
    "        where n is the number of samples and ∑ xi is the sum of the samples.\n",
    "    \"\"\"\n",
    "\n",
    "    numSamples    = len(vX)\n",
    "    logLikelihood = numSamples * np.log(λ) - λ * np.sum(vX)\n",
    "    \n",
    "    return logLikelihood"
   ]
  },
  {
   "cell_type": "code",
   "execution_count": null,
   "metadata": {},
   "outputs": [],
   "source": [
    "# Calculate the Log Likelihood Function\n",
    "# Set a range of λ values and calculate the log-likelihood for each.\n",
    "\n",
    "vλ      = np.linspace(0.01, 10, 1000)\n",
    "vLogLik = np.array([DataLogLikelihood(vX, λ) for λ in vλ])"
   ]
  },
  {
   "cell_type": "code",
   "execution_count": null,
   "metadata": {},
   "outputs": [],
   "source": [
    "# Estimate the Parameter\n",
    "# The Maximum Likelihood Estimate (MLE) of λ is the value that maximizes the log likelihood function.\n",
    "# Using SciPy's optimization module to find the maximum.\n",
    "\n",
    "oOptRes = sp.optimize.minimize_scalar(lambda λ: -DataLogLikelihood(vX, λ), bounds = (0.01, 10), method = 'bounded')\n",
    "λHat = oOptRes.x"
   ]
  },
  {
   "cell_type": "markdown",
   "metadata": {},
   "source": [
    "* <font color='green'>(**@**)</font> Use NumPy's [`vectorize()`](https://numpy.org/doc/stable/reference/generated/numpy.vectorize.html) to avoid the loop for the calculation."
   ]
  },
  {
   "cell_type": "code",
   "execution_count": null,
   "metadata": {},
   "outputs": [],
   "source": [
    "# Plot the Log Likelihood Function\n",
    "\n",
    "hF, hA = plt.subplots(figsize = (8, 6))\n",
    "hA.plot(vλ, vLogLik, color = 'b', lw = 2)\n",
    "hA.set_title('Log Likelihood Function', fontsize = 16)\n",
    "hA.set_xlabel('λ')\n",
    "hA.set_ylabel('Log Likelihood')\n",
    "hA.axvline(x = λ, color = 'r', linestyle = '--', lw = 2, label = 'True λ')\n",
    "hA.axvline(x = λHat, color = 'g', linestyle = '--', lw = 2, label = 'Estimated λ (MLE)')\n",
    "hA.legend();"
   ]
  },
  {
   "cell_type": "markdown",
   "metadata": {},
   "source": [
    "* <font color='red'>(**?**)</font> How should the quality of the MLE estimator behave as a function of $N$? Experiment with the code to verify the answer."
   ]
  }
 ],
 "metadata": {
  "kernelspec": {
   "display_name": "Python 3",
   "language": "python",
   "name": "python3"
  },
  "language_info": {
   "codemirror_mode": {
    "name": "ipython",
    "version": 3
   },
   "file_extension": ".py",
   "mimetype": "text/x-python",
   "name": "python",
   "nbconvert_exporter": "python",
   "pygments_lexer": "ipython3",
   "version": "3.13.7"
  },
  "toc": {
   "base_numbering": 1,
   "nav_menu": {},
   "number_sections": false,
   "sideBar": true,
   "skip_h1_title": false,
   "title_cell": "Table of Contents",
   "title_sidebar": "Contents",
   "toc_cell": false,
   "toc_position": {},
   "toc_section_display": true,
   "toc_window_display": false
  },
  "varInspector": {
   "cols": {
    "lenName": 16,
    "lenType": 16,
    "lenVar": 40
   },
   "kernels_config": {
    "python": {
     "delete_cmd_postfix": "",
     "delete_cmd_prefix": "del ",
     "library": "var_list.py",
     "varRefreshCmd": "print(var_dic_list())"
    },
    "r": {
     "delete_cmd_postfix": ") ",
     "delete_cmd_prefix": "rm(",
     "library": "var_list.r",
     "varRefreshCmd": "cat(var_dic_list()) "
    }
   },
   "types_to_exclude": [
    "module",
    "function",
    "builtin_function_or_method",
    "instance",
    "_Feature"
   ],
   "window_display": false
  },
  "vscode": {
   "interpreter": {
    "hash": "4c555be6fa9458c8c75b4612c68315d9f1d74815b73d0e564fda29ad772cfcda"
   }
  }
 },
 "nbformat": 4,
 "nbformat_minor": 4
}
