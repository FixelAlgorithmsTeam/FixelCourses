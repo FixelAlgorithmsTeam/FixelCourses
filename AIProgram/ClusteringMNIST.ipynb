{
 "cells": [
  {
   "attachments": {},
   "cell_type": "markdown",
   "metadata": {},
   "source": [
    "[![Fixel Algorithms](https://i.imgur.com/AqKHVZ0.png)](https://fixelalgorithms.gitlab.io)\n",
    "\n",
    "# AI Program\n",
    "\n",
    "## Machine Learning - UnSupervised Learning - Clustering - K-Means for MNIST 1D Features\n",
    "\n",
    "> Notebook by:\n",
    "> - Royi Avital RoyiAvital@fixelalgorithms.com\n",
    "\n",
    "## Revision History\n",
    "\n",
    "| Version | Date       | User        |Content / Changes                                                   |\n",
    "|---------|------------|-------------|--------------------------------------------------------------------|\n",
    "| 1.0.000 | 06/09/2025 | Royi Avital | First version                                                      |"
   ]
  },
  {
   "attachments": {},
   "cell_type": "markdown",
   "metadata": {},
   "source": [
    "[![Open In Colab](https://colab.research.google.com/assets/colab-badge.svg)](https://colab.research.google.com/github/FixelAlgorithmsTeam/FixelCourses/blob/master/AIProgram/2024_02/0058ClusteringKMeans.ipynb)"
   ]
  },
  {
   "cell_type": "code",
   "execution_count": null,
   "metadata": {
    "ExecuteTime": {
     "end_time": "2022-02-02T09:30:06.492269Z",
     "start_time": "2022-02-02T09:30:06.220934Z"
    }
   },
   "outputs": [],
   "source": [
    "# Import Packages\n",
    "\n",
    "# General Tools\n",
    "import numpy as np\n",
    "import scipy as sp\n",
    "import pandas as pd\n",
    "\n",
    "# Machine Learning\n",
    "from sklearn.cluster import KMeans\n",
    "from sklearn.datasets import fetch_openml\n",
    "from sklearn.model_selection import train_test_split\n",
    "from sklearn.metrics import accuracy_score, classification_report, confusion_matrix, precision_recall_fscore_support\n",
    "from sklearn.metrics import ConfusionMatrixDisplay\n",
    "\n",
    "from lightgbm import LGBMClassifier\n",
    "\n",
    "# Miscellaneous\n",
    "import math\n",
    "import os\n",
    "from platform import python_version\n",
    "import random\n",
    "\n",
    "# Typing\n",
    "from typing import Callable, Dict, List, Optional, Self, Set, Tuple, Union\n",
    "from numpy.typing import ArrayLike, NDArray\n",
    "\n",
    "# Visualization\n",
    "import matplotlib.pyplot as plt\n",
    "import seaborn as sns\n",
    "\n",
    "# Jupyter\n",
    "from IPython import get_ipython"
   ]
  },
  {
   "attachments": {},
   "cell_type": "markdown",
   "metadata": {},
   "source": [
    "## Notations\n",
    "\n",
    "* <font color='red'>(**?**)</font> Question to answer interactively.\n",
    "* <font color='blue'>(**!**)</font> Simple task to add code for the notebook.\n",
    "* <font color='green'>(**@**)</font> Optional / Extra self practice.\n",
    "* <font color='brown'>(**#**)</font> Note / Useful resource / Food for thought.\n",
    "\n",
    "Code Notations:\n",
    "\n",
    "```python\n",
    "someVar    = 2; #<! Notation for a variable\n",
    "vVector    = np.random.rand(4) #<! Notation for 1D array\n",
    "mMatrix    = np.random.rand(4, 3) #<! Notation for 2D array\n",
    "tTensor    = np.random.rand(4, 3, 2, 3) #<! Notation for nD array (Tensor)\n",
    "tuTuple    = (1, 2, 3) #<! Notation for a tuple\n",
    "lList      = [1, 2, 3] #<! Notation for a list\n",
    "dDict      = {1: 3, 2: 2, 3: 1} #<! Notation for a dictionary\n",
    "oObj       = MyClass() #<! Notation for an object\n",
    "dfData     = pd.DataFrame() #<! Notation for a data frame\n",
    "dsData     = pd.Series() #<! Notation for a series\n",
    "hObj       = plt.Axes() #<! Notation for an object / handler / function handler\n",
    "```\n",
    "\n",
    "### Code Exercise\n",
    "\n",
    " - Single line fill\n",
    "\n",
    "```python\n",
    "valToFill = ???\n",
    "```\n",
    "\n",
    " - Multi Line to Fill (At least one)\n",
    "\n",
    "```python\n",
    "# You need to start writing\n",
    "?????\n",
    "```\n",
    "\n",
    " - Section to Fill\n",
    "\n",
    "```python\n",
    "#===========================Fill This===========================#\n",
    "# 1. Explanation about what to do.\n",
    "# !! Remarks to follow / take under consideration.\n",
    "mX = ???\n",
    "\n",
    "?????\n",
    "#===============================================================#\n",
    "```"
   ]
  },
  {
   "cell_type": "code",
   "execution_count": null,
   "metadata": {},
   "outputs": [],
   "source": [
    "# Configuration\n",
    "# %matplotlib inline\n",
    "\n",
    "# Suppress Multi Threaded Warnings in SciKit Learn K-Means & GMM\n",
    "import warnings\n",
    "warnings.filterwarnings('ignore', message = '.*Windows with MKL*.')\n",
    "warnings.filterwarnings('ignore', message = '.*does not have valid feature names*.')\n",
    "\n",
    "seedNum = 512\n",
    "np.random.seed(seedNum)\n",
    "random.seed(seedNum)\n",
    "\n",
    "# Matplotlib default color palette\n",
    "lMatPltLibclr = ['#1f77b4', '#ff7f0e', '#2ca02c', '#d62728', '#9467bd', '#8c564b', '#e377c2', '#7f7f7f', '#bcbd22', '#17becf']\n",
    "# sns.set_theme() #>! Apply SeaBorn theme\n",
    "\n",
    "runInGoogleColab = 'google.colab' in str(get_ipython())"
   ]
  },
  {
   "cell_type": "code",
   "execution_count": null,
   "metadata": {},
   "outputs": [],
   "source": [
    "# Constants\n",
    "\n",
    "FIG_SIZE_DEF    = (8, 8)\n",
    "ELM_SIZE_DEF    = 50\n",
    "CLASS_COLOR     = ('b', 'r')\n",
    "EDGE_COLOR      = 'k'\n",
    "MARKER_SIZE_DEF = 10\n",
    "LINE_WIDTH_DEF  = 2\n",
    "\n",
    "TU_MNIST_IMG_SIZE = (28, 28)\n",
    "\n",
    "D_CLASSES_MNIST = {0: '0', 1: '1', 2: '2', 3: '3', 4: '4', 5: '5', 6: '6', 7: '7', 8: '8', 9: '9'}\n",
    "L_CLASSES_MNIST = [0, 1, 2, 3, 4, 5, 6, 7, 8, 9]\n",
    "\n",
    "π = math.pi"
   ]
  },
  {
   "cell_type": "code",
   "execution_count": null,
   "metadata": {},
   "outputs": [],
   "source": [
    "# Courses Packages\n"
   ]
  },
  {
   "cell_type": "code",
   "execution_count": null,
   "metadata": {},
   "outputs": [],
   "source": [
    "# General Auxiliary Functions\n",
    "\n",
    "def PlotMnistImages( mX: NDArray, vY: NDArray, numRows: int, numCols: Optional[int] = None, tuImgSize: Tuple = (28, 28), randomChoice: bool = True, lClasses: Optional[List] = None, hF: Optional[plt.Figure] = None ) -> plt.Figure:\n",
    "\n",
    "    numSamples  = mX.shape[0]\n",
    "    numPx       = mX.shape[1]\n",
    "\n",
    "    if numCols is None:\n",
    "        numCols = numRows\n",
    "\n",
    "    tFigSize = (numCols * 3, numRows * 3)\n",
    "\n",
    "    if hF is None:\n",
    "        hF, hA = plt.subplots(numRows, numCols, figsize = tFigSize)\n",
    "    else:\n",
    "        hA = hF.axes\n",
    "    \n",
    "    hA = np.atleast_1d(hA) #<! To support numImg = 1\n",
    "    hA = hA.flat\n",
    "    \n",
    "    for kk in range(numRows * numCols):\n",
    "        idx = np.random.choice(numSamples) if randomChoice else kk\n",
    "        mI  = np.reshape(mX[idx, :], tuImgSize)\n",
    "    \n",
    "        # hA[kk].imshow(mI.clip(0, 1), cmap = 'gray')\n",
    "        if len(tuImgSize) == 2:\n",
    "            hA[kk].imshow(mI, cmap = 'gray')\n",
    "        elif len(tuImgSize) == 3:\n",
    "            hA[kk].imshow(mI)\n",
    "        else:\n",
    "            raise ValueError(f'The length of the image size tuple is {len(tuImgSize)} which is not supported')\n",
    "        hA[kk].tick_params(axis = 'both', left = False, top = False, right = False, bottom = False, \n",
    "                           labelleft = False, labeltop = False, labelright = False, labelbottom = False)\n",
    "        if lClasses is None:\n",
    "            hA[kk].set_title(f'Index = {idx}, Label = {vY[idx]}')\n",
    "        else:\n",
    "            hA[kk].set_title(f'Index = {idx}, Label = {lClasses[vY[idx]]}')\n",
    "    \n",
    "    return hF\n",
    "\n",
    "def PlotLabelsHistogram( vY: NDArray, hA: Optional[plt.Axes] = None, lClass: Optional[List] = None, xLabelRot: Optional[int] = None ) -> plt.Axes:\n",
    "\n",
    "    if hA is None:\n",
    "        hF, hA = plt.subplots(figsize = (8, 6))\n",
    "    \n",
    "    vLabels, vCounts = np.unique(vY, return_counts = True)\n",
    "\n",
    "    hA.bar(vLabels, vCounts, width = 0.9, align = 'center')\n",
    "    hA.set_title('Histogram of Classes / Labels')\n",
    "    hA.set_xlabel('Class')\n",
    "    hA.set_xticks(vLabels, [f'{labelVal}' for labelVal in vLabels])\n",
    "    hA.set_ylabel('Count')\n",
    "    if lClass is not None:\n",
    "        hA.set_xticklabels(lClass)\n",
    "    \n",
    "    if xLabelRot is not None:\n",
    "        for xLabel in hA.get_xticklabels():\n",
    "            xLabel.set_rotation(xLabelRot)\n",
    "\n",
    "    return hA\n",
    "\n",
    "def PlotConfusionMatrix(vY: NDArray, vYPred: NDArray, normMethod: str = None, hA: Optional[plt.Axes] = None, \n",
    "                        lLabels: Optional[List] = None, dScore: Optional[Dict] = None, titleStr: str = 'Confusion Matrix', \n",
    "                        xLabelRot: Optional[int] = None, valFormat: Optional[str] = None) -> Tuple[plt.Axes, NDArray]:\n",
    "\n",
    "    # Calculation of Confusion Matrix\n",
    "    mConfMat = confusion_matrix(vY, vYPred, normalize = normMethod)\n",
    "    oConfMat = ConfusionMatrixDisplay(mConfMat, display_labels = lLabels)\n",
    "    oConfMat = oConfMat.plot(ax = hA, values_format = valFormat)\n",
    "    hA = oConfMat.ax_\n",
    "    if dScore is not None:\n",
    "        titleStr += ':'\n",
    "        for scoreName, scoreVal in  dScore.items():\n",
    "            titleStr += f' {scoreName} = {scoreVal:0.2},'\n",
    "        titleStr = titleStr[:-1]\n",
    "    hA.set_title(titleStr)\n",
    "    hA.grid(False)\n",
    "    if xLabelRot is not None:\n",
    "        for xLabel in hA.get_xticklabels():\n",
    "            xLabel.set_rotation(xLabelRot)\n",
    "\n",
    "    return hA, mConfMat"
   ]
  },
  {
   "cell_type": "markdown",
   "metadata": {},
   "source": [
    "## Clustering by K-Means for Features\n",
    "\n",
    "This notebook demonstrates how can "
   ]
  },
  {
   "cell_type": "code",
   "execution_count": null,
   "metadata": {},
   "outputs": [],
   "source": [
    "# Parameters\n",
    "\n",
    "# Data\n",
    "numSamples = 5_000\n",
    "\n",
    "# Model\n",
    "numClusters = 8\n",
    "\n",
    "# Visualization\n",
    "numImg = 3"
   ]
  },
  {
   "cell_type": "markdown",
   "metadata": {},
   "source": [
    "## Generate / Load Data"
   ]
  },
  {
   "cell_type": "code",
   "execution_count": null,
   "metadata": {},
   "outputs": [],
   "source": [
    "# Load Data\n",
    "\n",
    "mX, vY = fetch_openml('mnist_784', version = 1, return_X_y = True, as_frame = False, parser = 'auto')\n",
    "vY = vY.astype(np.int_) #<! The labels are strings, convert to integer\n",
    "\n",
    "# Used only to get a stratified sub set of the data\n",
    "mX, _, vY, _ = train_test_split(mX, vY, train_size = numSamples, random_state = seedNum, stratify = vY)\n",
    "\n",
    "print(f'The features data shape: {mX.shape}')\n",
    "print(f'The labels data shape: {vY.shape}')\n",
    "print(f'The unique values of the labels: {np.unique(vY)}')"
   ]
  },
  {
   "cell_type": "markdown",
   "metadata": {},
   "source": [
    "### Plot Data"
   ]
  },
  {
   "cell_type": "code",
   "execution_count": null,
   "metadata": {},
   "outputs": [],
   "source": [
    "# Plot the Data\n",
    "\n",
    "hF = PlotMnistImages(mX, vY, numImg)"
   ]
  },
  {
   "cell_type": "markdown",
   "metadata": {},
   "source": [
    "## Pre Processing\n",
    "\n",
    "Applying a threshold to generate a binary image."
   ]
  },
  {
   "cell_type": "code",
   "execution_count": null,
   "metadata": {},
   "outputs": [],
   "source": [
    "# Non Zero Pixels\n",
    "\n",
    "vP = mX[mX > 0]"
   ]
  },
  {
   "cell_type": "code",
   "execution_count": null,
   "metadata": {},
   "outputs": [],
   "source": [
    "# Convert Image into Features Matrix\n",
    "\n",
    "hF, hA = plt.subplots(figsize = (8, 6))\n",
    "hA.hist(vP, bins = np.arange(1, 256), density = True, align = 'left')\n",
    "hA.set_title('Histogram of Non Zero Pixel Values')\n",
    "hA.set_xlabel('Pixel Value')\n",
    "hA.set_ylabel('Count');"
   ]
  },
  {
   "cell_type": "markdown",
   "metadata": {},
   "source": [
    "* <font color='brown'>(**#**)</font> One could generate a threshold per class."
   ]
  },
  {
   "cell_type": "code",
   "execution_count": null,
   "metadata": {},
   "outputs": [],
   "source": [
    "# Binary Data\n",
    "\n",
    "# Find the maximal threshold such that each image has at least `numClusters` non zero pixels\n",
    "for valThr in range(254, 0, -1):\n",
    "    mB = mX > valThr\n",
    "    vNumPx = np.sum(mB, axis = 1)\n",
    "    if np.min(vNumPx) >= numClusters:\n",
    "        break\n",
    "\n",
    "print(f'The threshold value is {valThr}')\n",
    "\n",
    "mB = mX > valThr"
   ]
  },
  {
   "cell_type": "markdown",
   "metadata": {},
   "source": [
    "* <font color='brown'>(**#**)</font> The _Threshold_ is a _Hyper Parameter_ which should be optimized using Cross Validation."
   ]
  },
  {
   "cell_type": "markdown",
   "metadata": {},
   "source": [
    "## Feature Engineering\n",
    "\n",
    "Extract the coordinates of the centroids."
   ]
  },
  {
   "cell_type": "code",
   "execution_count": null,
   "metadata": {},
   "outputs": [],
   "source": [
    "# Extract the Coordinates of Image\n",
    "\n",
    "def ExtractCoordinates(vB: NDArray, /, *,  tuImgSize: Tuple = TU_MNIST_IMG_SIZE) -> NDArray:\n",
    "    \n",
    "    mI = np.reshape(vB, tuImgSize)\n",
    "    vR, vC = np.nonzero(mI)\n",
    "    # Feature Matrix\n",
    "    mF = np.c_[vC, vR] #<! (x, y)\n",
    "\n",
    "    return mF"
   ]
  },
  {
   "cell_type": "code",
   "execution_count": null,
   "metadata": {},
   "outputs": [],
   "source": [
    "# Cluster Model\n",
    "\n",
    "oKMeans = KMeans(n_clusters = numClusters, random_state = seedNum)"
   ]
  },
  {
   "cell_type": "code",
   "execution_count": null,
   "metadata": {},
   "outputs": [],
   "source": [
    "# Cluster Image\n",
    "\n",
    "rdnIdx = random.randrange(numSamples)\n",
    "vB = mB[rdnIdx]\n",
    "\n",
    "mF = ExtractCoordinates(vB)\n",
    "oKMeans = oKMeans.fit(mF)\n",
    "vL = oKMeans.labels_\n",
    "mC = oKMeans.cluster_centers_"
   ]
  },
  {
   "cell_type": "code",
   "execution_count": null,
   "metadata": {},
   "outputs": [],
   "source": [
    "# Plot Clustered Image\n",
    "\n",
    "mI = np.reshape(vB, TU_MNIST_IMG_SIZE)\n",
    "hF, hA = plt.subplots(figsize = (4, 4))\n",
    "hA.imshow(mI, cmap = 'gray')\n",
    "hA.scatter(mF[:, 0], mF[:, 1], c = vL, s = MARKER_SIZE_DEF, cmap = 'tab10', edgecolor = 'k')\n",
    "hA.set_title(f'Clustered Image (Index = {rdnIdx})')\n",
    "hA.axis('off');"
   ]
  },
  {
   "cell_type": "code",
   "execution_count": null,
   "metadata": {},
   "outputs": [],
   "source": [
    "# Plot Centroids Image\n",
    "\n",
    "mI = np.reshape(vB, TU_MNIST_IMG_SIZE)\n",
    "hF, hA = plt.subplots(figsize = (4, 4))\n",
    "hA.imshow(mI, cmap = 'gray')\n",
    "hA.scatter(mC[:, 0], mC[:, 1], c = 'yellow', s = MARKER_SIZE_DEF * 10, marker = 'X', edgecolor = 'k')\n",
    "hA.set_title(f'Clustered Image (Index = {rdnIdx})')\n",
    "hA.axis('off');"
   ]
  },
  {
   "cell_type": "code",
   "execution_count": null,
   "metadata": {},
   "outputs": [],
   "source": [
    "# Extract Features Matrix for All Images\n",
    "\n",
    "def ExtractFeaturesMatrix(mB: NDArray, numClusters: int, /, *, tuImgSize: Tuple = TU_MNIST_IMG_SIZE, seedNum: int = seedNum) -> List[NDArray]:\n",
    "\n",
    "    numSamples = mB.shape[0]\n",
    "    mF         = np.zeros((numSamples, numClusters * 2)) #<! Chain coordinates\n",
    "    \n",
    "    oKMeans = KMeans(n_clusters = numClusters, random_state = seedNum)\n",
    "    \n",
    "    for ii in range(numSamples):\n",
    "        vB = mB[ii]\n",
    "        mFi = ExtractCoordinates(vB, tuImgSize = tuImgSize)\n",
    "        oKMeans = oKMeans.fit(mFi)\n",
    "        mCi = oKMeans.cluster_centers_\n",
    "        mF[ii] = mCi.flatten()\n",
    "    \n",
    "    return mF"
   ]
  },
  {
   "cell_type": "markdown",
   "metadata": {},
   "source": [
    "* <font color='brown'>(**#**)</font> In practice there are $K!$ permutations for the order of the _Centroids_.  \n",
    "One should create a stable way to choose a specific permutation: Minimum length, minimum reconstruction error, etc..."
   ]
  },
  {
   "cell_type": "code",
   "execution_count": null,
   "metadata": {},
   "outputs": [],
   "source": [
    "# Generate the Feature Matrix\n",
    "\n",
    "mF = ExtractFeaturesMatrix(mB, numClusters)"
   ]
  },
  {
   "cell_type": "code",
   "execution_count": null,
   "metadata": {},
   "outputs": [],
   "source": [
    "# Classifier\n",
    "oCls = LGBMClassifier()\n",
    "oCls = oCls.fit(mF, vY)\n",
    "\n",
    "clsScore = oCls.score(mF, vY)\n",
    "print(f'The classifier score on the training data is {clsScore:0.2%}')"
   ]
  },
  {
   "cell_type": "code",
   "execution_count": null,
   "metadata": {},
   "outputs": [],
   "source": [
    "# Confusion Matrix\n",
    "\n",
    "vYPred = oCls.predict(mF)\n",
    "\n",
    "hF, hA = plt.subplots(figsize = (7, 7))\n",
    "PlotConfusionMatrix(vY, vYPred, normMethod = 'true', hA = hA, lLabels = L_CLASSES_MNIST, \n",
    "                    dScore = {'Accuracy': accuracy_score(vY, vYPred)}, titleStr = 'Confusion Matrix', xLabelRot = 45, valFormat = '.2f');"
   ]
  },
  {
   "cell_type": "markdown",
   "metadata": {},
   "source": [
    "* <font color='green'>(**@**)</font> Use Cross Validation to optimize the _Hyper Parameters_ of the model and prevent _Overfit_."
   ]
  }
 ],
 "metadata": {
  "kernelspec": {
   "display_name": "AIProgram",
   "language": "python",
   "name": "python3"
  },
  "language_info": {
   "codemirror_mode": {
    "name": "ipython",
    "version": 3
   },
   "file_extension": ".py",
   "mimetype": "text/x-python",
   "name": "python",
   "nbconvert_exporter": "python",
   "pygments_lexer": "ipython3",
   "version": "3.13.7"
  },
  "toc": {
   "base_numbering": 1,
   "nav_menu": {},
   "number_sections": false,
   "sideBar": true,
   "skip_h1_title": false,
   "title_cell": "Table of Contents",
   "title_sidebar": "Contents",
   "toc_cell": false,
   "toc_position": {},
   "toc_section_display": true,
   "toc_window_display": true
  },
  "varInspector": {
   "cols": {
    "lenName": 16,
    "lenType": 16,
    "lenVar": 40
   },
   "kernels_config": {
    "python": {
     "delete_cmd_postfix": "",
     "delete_cmd_prefix": "del ",
     "library": "var_list.py",
     "varRefreshCmd": "print(var_dic_list())"
    },
    "r": {
     "delete_cmd_postfix": ") ",
     "delete_cmd_prefix": "rm(",
     "library": "var_list.r",
     "varRefreshCmd": "cat(var_dic_list()) "
    }
   },
   "types_to_exclude": [
    "module",
    "function",
    "builtin_function_or_method",
    "instance",
    "_Feature"
   ],
   "window_display": false
  }
 },
 "nbformat": 4,
 "nbformat_minor": 4
}
