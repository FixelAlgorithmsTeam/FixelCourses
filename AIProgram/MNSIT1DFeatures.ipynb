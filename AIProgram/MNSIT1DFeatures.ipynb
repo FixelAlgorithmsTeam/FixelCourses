{
 "cells": [
  {
   "attachments": {},
   "cell_type": "markdown",
   "metadata": {},
   "source": [
    "[![Fixel Algorithms](https://fixelalgorithms.co/images/CCExt.png)](https://fixelalgorithms.gitlab.io)\n",
    "\n",
    "# AI Program\n",
    "\n",
    "## Machine Learning - Supervised Learning - Ensemble Methods - MNIST by 1D Features\n",
    "\n",
    "The notebook is based on [Aaron Zuspan - Classifying MNIST as 1D Signals](https://www.aazuspan.dev/blog/classifying-mnist-as-1d-signals).\n",
    "\n",
    "> Notebook by:\n",
    "> - Royi Avital RoyiAvital@fixelalgorithms.com\n",
    "\n",
    "## Revision History\n",
    "\n",
    "| Version | Date       | User        |Content / Changes                                                   |\n",
    "|---------|------------|-------------|--------------------------------------------------------------------|\n",
    "| 1.0.000 | 25/08/2025 | Royi Avital | First version                                                      |"
   ]
  },
  {
   "attachments": {},
   "cell_type": "markdown",
   "metadata": {},
   "source": [
    "[![Open In Colab](https://colab.research.google.com/assets/colab-badge.svg)](https://colab.research.google.com/github/FixelAlgorithmsTeam/FixelCourses/blob/master/AIProgram/2024_02/0002PointLine.ipynb)"
   ]
  },
  {
   "cell_type": "code",
   "execution_count": null,
   "metadata": {
    "ExecuteTime": {
     "end_time": "2022-02-02T17:52:07.921383Z",
     "start_time": "2022-02-02T17:52:07.649130Z"
    }
   },
   "outputs": [],
   "source": [
    "# Import Packages\n",
    "\n",
    "# General Tools\n",
    "import numpy as np\n",
    "import scipy as sp\n",
    "import pandas as pd\n",
    "\n",
    "# Scientific Python\n",
    "\n",
    "# Image Processing & Computer Vision\n",
    "import skimage as ski\n",
    "\n",
    "# Machine Learning\n",
    "from sklearn.datasets import fetch_openml\n",
    "from sklearn.model_selection import train_test_split\n",
    "\n",
    "# Miscellaneous\n",
    "import math\n",
    "from platform import python_version\n",
    "import random\n",
    "\n",
    "# Typing \n",
    "from typing import Callable, List, Optional, Tuple\n",
    "from numpy.typing import NDArray\n",
    "\n",
    "# Visualization\n",
    "from matplotlib.patches import Rectangle\n",
    "import matplotlib.pyplot as plt\n",
    "import seaborn as sns\n",
    "\n",
    "# Jupyter\n",
    "from IPython import get_ipython"
   ]
  },
  {
   "cell_type": "markdown",
   "metadata": {},
   "source": [
    "## Notations\n",
    "\n",
    "* <font color='red'>(**?**)</font> Question to answer interactively.\n",
    "* <font color='blue'>(**!**)</font> Simple task to add code for the notebook.\n",
    "* <font color='green'>(**@**)</font> Optional / Extra self practice.\n",
    "* <font color='brown'>(**#**)</font> Note / Useful resource / Food for thought.\n",
    "\n",
    "Code Notations:\n",
    "\n",
    "```python\n",
    "someVar    = 2; #<! Notation for a variable\n",
    "vVector    = np.random.rand(4) #<! Notation for 1D array\n",
    "mMatrix    = np.random.rand(4, 3) #<! Notation for 2D array\n",
    "tTensor    = np.random.rand(4, 3, 2, 3) #<! Notation for nD array (Tensor)\n",
    "tuTuple    = (1, 2, 3) #<! Notation for a tuple\n",
    "lList      = [1, 2, 3] #<! Notation for a list\n",
    "dDict      = {1: 3, 2: 2, 3: 1} #<! Notation for a dictionary\n",
    "oObj       = MyClass() #<! Notation for an object\n",
    "dfData     = pd.DataFrame() #<! Notation for a data frame\n",
    "dsData     = pd.Series() #<! Notation for a series\n",
    "hObj       = plt.Axes() #<! Notation for an object / handler / function handler\n",
    "```\n",
    "\n",
    "### Code Exercise\n",
    "\n",
    " - Single line fill\n",
    "\n",
    "```python\n",
    "valToFill = ???\n",
    "```\n",
    "\n",
    " - Multi Line to Fill (At least one)\n",
    "\n",
    " ```python\n",
    " # You need to start writing\n",
    " ?????\n",
    " ```\n",
    "\n",
    " - Section to Fill\n",
    "\n",
    "```python\n",
    "#===========================Fill This===========================#\n",
    "# 1. Explanation about what to do.\n",
    "# !! Remarks to follow / take under consideration.\n",
    "mX = ???\n",
    "\n",
    "?????\n",
    "#===============================================================#\n",
    "```"
   ]
  },
  {
   "cell_type": "code",
   "execution_count": null,
   "metadata": {},
   "outputs": [],
   "source": [
    "# Configuration\n",
    "# %matplotlib inline\n",
    "\n",
    "# warnings.filterwarnings(\"ignore\")\n",
    "\n",
    "seedNum = 512\n",
    "np.random.seed(seedNum)\n",
    "random.seed(seedNum)\n",
    "\n",
    "# Matplotlib default color palette\n",
    "lMatPltLibclr = ['#1f77b4', '#ff7f0e', '#2ca02c', '#d62728', '#9467bd', '#8c564b', '#e377c2', '#7f7f7f', '#bcbd22', '#17becf']\n",
    "# sns.set_theme() #>! Apply SeaBorn theme\n",
    "# sns.set_palette(\"tab10\")\n",
    "\n",
    "runInGoogleColab = 'google.colab' in str(get_ipython())"
   ]
  },
  {
   "cell_type": "code",
   "execution_count": null,
   "metadata": {},
   "outputs": [],
   "source": [
    "# Constants\n",
    "\n",
    "FIG_SIZE_DEF    = (8, 8)\n",
    "ELM_SIZE_DEF    = 50\n",
    "CLASS_COLOR     = ('b', 'r')\n",
    "EDGE_COLOR      = 'k'\n",
    "MARKER_SIZE_DEF = 10\n",
    "LINE_WIDTH_DEF  = 2\n",
    "\n",
    "TU_MNIST_IMG_SIZE = (28, 28)"
   ]
  },
  {
   "cell_type": "code",
   "execution_count": null,
   "metadata": {},
   "outputs": [],
   "source": [
    "# Course Packages\n"
   ]
  },
  {
   "cell_type": "code",
   "execution_count": null,
   "metadata": {},
   "outputs": [],
   "source": [
    "# Auxiliary Functions\n",
    "\n",
    "def ConvertDataSet( mX: NDArray, /, *, resampleRes: Optional[int] = None ) -> NDArray:\n",
    "    # mX: (numSamples, 768) MNIST like Array\n",
    "    numSamples = np.size(mX, 0)\n",
    "\n",
    "    tI = np.reshape(mX, (-1, 28, 28)) #<! The last dimension is contiguous\n",
    "    tI = np.transpose(tI, (1, 2, 0))\n",
    "\n",
    "    if resampleRes is not None:\n",
    "        tI = ski.transform.resize(tI, (resampleRes, resampleRes))\n",
    "    \n",
    "    tP = ski.transform.warp_polar(tI, channel_axis = 2) #<! Polar (360, radius)\n",
    "    mP = np.sum(tP, axis = 1) #<! (360, numSamples)\n",
    "\n",
    "    return mP.T #<! Return a matrix of (numSamples, numFeatures)\n",
    "\n",
    "def PlotMnistImages( mX: np.ndarray, vY: np.ndarray, numRows: int, numCols: Optional[int] = None, tuImgSize: Tuple = (28, 28), randomChoice: bool = True, lClasses: Optional[List] = None, hF: Optional[plt.Figure] = None ) -> plt.Figure:\n",
    "\n",
    "    numSamples  = mX.shape[0]\n",
    "    numPx       = mX.shape[1]\n",
    "\n",
    "    if numCols is None:\n",
    "        numCols = numRows\n",
    "\n",
    "    tFigSize = (numCols * 3, numRows * 3)\n",
    "\n",
    "    if hF is None:\n",
    "        hF, hA = plt.subplots(numRows, numCols, figsize = tFigSize)\n",
    "    else:\n",
    "        hA = hF.axes\n",
    "    \n",
    "    hA = np.atleast_1d(hA) #<! To support numImg = 1\n",
    "    hA = hA.flat\n",
    "    \n",
    "    for kk in range(numRows * numCols):\n",
    "        idx = np.random.choice(numSamples) if randomChoice else kk\n",
    "        mI  = np.reshape(mX[idx, :], tuImgSize)\n",
    "    \n",
    "        # hA[kk].imshow(mI.clip(0, 1), cmap = 'gray')\n",
    "        if len(tuImgSize) == 2:\n",
    "            hA[kk].imshow(mI, cmap = 'gray')\n",
    "        elif len(tuImgSize) == 3:\n",
    "            hA[kk].imshow(mI)\n",
    "        else:\n",
    "            raise ValueError(f'The length of the image size tuple is {len(tuImgSize)} which is not supported')\n",
    "        hA[kk].tick_params(axis = 'both', left = False, top = False, right = False, bottom = False, \n",
    "                           labelleft = False, labeltop = False, labelright = False, labelbottom = False)\n",
    "        if lClasses is None:\n",
    "            hA[kk].set_title(f'Index = {idx}, Label = {vY[idx]}')\n",
    "        else:\n",
    "            hA[kk].set_title(f'Index = {idx}, Label = {lClasses[vY[idx]]}')\n",
    "    \n",
    "    return hF\n",
    "\n",
    "def PlotLabelsHistogram( vY: np.ndarray, hA: Optional[plt.Axes] = None, lClass: Optional[List] = None, xLabelRot: Optional[int] = None ) -> plt.Axes:\n",
    "\n",
    "    if hA is None:\n",
    "        hF, hA = plt.subplots(figsize = (8, 6))\n",
    "    \n",
    "    vLabels, vCounts = np.unique(vY, return_counts = True)\n",
    "\n",
    "    hA.bar(vLabels, vCounts, width = 0.9, align = 'center')\n",
    "    hA.set_title('Histogram of Classes / Labels')\n",
    "    hA.set_xlabel('Class')\n",
    "    hA.set_xticks(vLabels, [f'{labelVal}' for labelVal in vLabels])\n",
    "    hA.set_ylabel('Count')\n",
    "    if lClass is not None:\n",
    "        hA.set_xticklabels(lClass)\n",
    "    \n",
    "    if xLabelRot is not None:\n",
    "        for xLabel in hA.get_xticklabels():\n",
    "            xLabel.set_rotation(xLabelRot)\n",
    "\n",
    "    return hA"
   ]
  },
  {
   "cell_type": "markdown",
   "metadata": {},
   "source": [
    "## 1D Features for 1D Signal Classification\n",
    "\n",
    "fd"
   ]
  },
  {
   "cell_type": "markdown",
   "metadata": {},
   "source": [
    "### The MNIST Dataset\n",
    "\n",
    "\n",
    "\n",
    "* <font color='red'>(**?**)</font> Will the solution ofr the Squared Euclidean Distance be the same as the Euclidean Distance?"
   ]
  },
  {
   "cell_type": "code",
   "execution_count": null,
   "metadata": {},
   "outputs": [],
   "source": [
    "# Parameters\n",
    "\n",
    "numSamplesTrain = 9_000\n",
    "numSamplesTest  = 1_000\n",
    "\n",
    "numImg = 3\n",
    "\n",
    "# Visualization\n",
    "exportFig = False"
   ]
  },
  {
   "cell_type": "markdown",
   "metadata": {},
   "source": [
    "## Generate Data\n"
   ]
  },
  {
   "cell_type": "code",
   "execution_count": null,
   "metadata": {
    "ExecuteTime": {
     "end_time": "2022-02-02T17:53:07.834772Z",
     "start_time": "2022-02-02T17:53:07.448832Z"
    }
   },
   "outputs": [],
   "source": [
    "# Generate / Load Data \n",
    "\n",
    "mX, vY = fetch_openml('mnist_784', version = 1, return_X_y = True, as_frame = False, parser = 'auto')\n",
    "vY = vY.astype(np.int_) #<! The labels are strings, convert to integer\n",
    "\n",
    "print(f'The features data shape: {mX.shape}')\n",
    "print(f'The labels data shape: {vY.shape}')\n",
    "print(f'The unique values of the labels: {np.unique(vY)}')"
   ]
  },
  {
   "cell_type": "code",
   "execution_count": null,
   "metadata": {},
   "outputs": [],
   "source": [
    "# Pre Processing\n",
    "\n",
    "# The image is in the range {0, 1, ..., 255}\n",
    "# We scale it into [0, 1]\n",
    "\n",
    "#===========================Fill This===========================#\n",
    "# 1. Scale the values into the [0, 1] range.\n",
    "mX = mX / 255.0\n",
    "\n",
    "#===============================================================#"
   ]
  },
  {
   "cell_type": "code",
   "execution_count": null,
   "metadata": {},
   "outputs": [],
   "source": [
    "# Train Test Split\n",
    "\n",
    "#===========================Fill This===========================#\n",
    "# 1. Split the data such that the Train Data has `numSamplesTrain`.\n",
    "# 2. Split the data such that the Test Data has `numSamplesTest`.\n",
    "# 3. The distribution of the classes must match the original data.\n",
    "\n",
    "numClass = len(np.unique(vY))\n",
    "mXTrain, mXTest, vYTrain, vYTest = train_test_split(mX, vY, test_size = numSamplesTest, train_size = numSamplesTrain, shuffle = True, stratify = vY)\n",
    "\n",
    "#===============================================================#\n",
    "\n",
    "print(f'The training features data shape: {mXTrain.shape}')\n",
    "print(f'The training labels data shape  : {vYTrain.shape}')\n",
    "print(f'The test features data shape    : {mXTest.shape}')\n",
    "print(f'The test labels data shape      : {vYTest.shape}')\n",
    "print(f'The unique values of the labels : {np.unique(vY)}')"
   ]
  },
  {
   "cell_type": "markdown",
   "metadata": {},
   "source": [
    "### Explore the Data"
   ]
  },
  {
   "cell_type": "code",
   "execution_count": null,
   "metadata": {},
   "outputs": [],
   "source": [
    "# Plot the Data\n",
    "\n",
    "hF = PlotMnistImages(mX, vY, numImg)"
   ]
  },
  {
   "cell_type": "code",
   "execution_count": null,
   "metadata": {},
   "outputs": [],
   "source": [
    "# Distribution of Labels\n",
    "\n",
    "hA = PlotLabelsHistogram(vY)\n",
    "plt.show()"
   ]
  },
  {
   "cell_type": "code",
   "execution_count": null,
   "metadata": {},
   "outputs": [],
   "source": [
    "# Mean Image per Class\n",
    "\n",
    "tI = np.zeros(shape = (numClass, ) + TU_MNIST_IMG_SIZE)\n",
    "\n",
    "for ii in range(numClass):\n",
    "    vIdx = vY == ii\n",
    "    vF = np.mean(mX[vIdx], axis = 0) #<! (numFeatures, )\n",
    "    tI[ii] = np.reshape(vF, TU_MNIST_IMG_SIZE)"
   ]
  },
  {
   "cell_type": "code",
   "execution_count": null,
   "metadata": {},
   "outputs": [],
   "source": [
    "# Plot Mean Images\n",
    "\n",
    "hF, vHa = plt.subplots(nrows = 1, ncols = numClass, figsize = (18, 2))\n",
    "vHa = vHa.flat\n",
    "\n",
    "for ii, hA in enumerate(vHa):\n",
    "    hA.imshow(tI[ii], cmap = 'gray')\n",
    "    hA.tick_params(axis = 'both', left = False, top = False, right = False, bottom = False, \n",
    "                   labelleft = False, labeltop = False, labelright = False, labelbottom = False)\n",
    "    hA.set_title(f'Label {ii}')\n",
    "\n",
    "hF.suptitle('Mean Class Image');"
   ]
  },
  {
   "cell_type": "markdown",
   "metadata": {},
   "source": [
    "### Cartesian and Polar Coordinate Systems\n",
    "\n",
    "Main motivation is to transform rotations into translations."
   ]
  },
  {
   "cell_type": "code",
   "execution_count": null,
   "metadata": {},
   "outputs": [],
   "source": [
    "# Cartesian and Polar Coordinates for an Image\n",
    "\n",
    "hF = plt.figure(figsize = (8, 4))\n",
    "\n",
    "hAxCart  = hF.add_subplot(1, 2, 1)\n",
    "hAxPolar = hF.add_subplot(1, 2, 2, projection = 'polar')\n",
    "\n",
    "# Cartesian Grid\n",
    "Nx, Ny = 8, 8                   # grid size\n",
    "hAxCart.set_xlim(0, Nx)\n",
    "hAxCart.set_ylim(Ny, 0)         # y grows downward (like images)\n",
    "hAxCart.set_aspect('equal')\n",
    "\n",
    "# Grid\n",
    "for x in range(Nx + 1):\n",
    "    hAxCart.axvline(x, color = '0.75', lw = 1)\n",
    "for y in range(Ny + 1):\n",
    "    hAxCart.axhline(y, color = '0.75', lw = 1)\n",
    "\n",
    "# Image in (x, y) Discrete Coordinates (1 based)\n",
    "# Highlight pixel (6, 3) \n",
    "px, py = 6, 3\n",
    "patchRect = Rectangle((px - 1, py - 1), 1, 1, facecolor = '0.7', edgecolor = 'k')\n",
    "hAxCart.add_patch(patchRect)\n",
    "\n",
    "# Annotations\n",
    "hAxCart.annotate('Pixel (6, 3)', xy = (px - 0.5, py - 0.5),\n",
    "                 xytext = (px - 2.5, py + 1.3),\n",
    "                 arrowprops = dict(arrowstyle = \"->\", lw = 1.2),\n",
    "                 ha = 'center', va = 'center')\n",
    "\n",
    "hAxCart.set_title('Cartesian Coordinates')\n",
    "hAxCart.set_xlabel('x')\n",
    "hAxCart.set_xticks(range(Nx + 1))\n",
    "hAxCart.set_xticklabels([])\n",
    "hAxCart.set_ylabel('y')\n",
    "hAxCart.set_yticks(range(Ny + 1))\n",
    "hAxCart.set_yticklabels([])\n",
    "\n",
    "# Polar Grid\n",
    "nr, nt = 6, 24 #<! Radial and Angular Grid resolution\n",
    "R = nr         #<! Outer radius\n",
    "hAxPolar.set_ylim(0, R)\n",
    "hAxPolar.set_thetalim(0, 2 * math.pi)\n",
    "\n",
    "# Grid: radial circles and spokes\n",
    "hAxPolar.set_rticks(range(1, nr + 1))\n",
    "hAxPolar.set_thetagrids(np.degrees(np.linspace(0, 2 * math.pi, nt, endpoint = False)))\n",
    "hAxPolar.grid(True, lw = 0.8, color = '0.75')\n",
    "\n",
    "# Image in (r, θ) Discrete Coordinates (1 based)\n",
    "# Highlight sector / pixel (2, 4)\n",
    "ri, ti = 2, 4\n",
    "dr = R / nr\n",
    "dth = 2 * math.pi / nt\n",
    "theta0 = (ti - 1) * dth\n",
    "bottom = (ri - 1) * dr\n",
    "# Use a polar bar to draw the annular sector\n",
    "hAxPolar.bar(theta0, dr, width = dth, bottom = bottom, align = 'edge',\n",
    "             color = '0.7', edgecolor = 'k')\n",
    "\n",
    "hAxPolar.set_title('Polar Coordinates')\n",
    "hAxPolar.annotate(f'Pixel ({ri}, {ti})',\n",
    "                  xy = (theta0 + dth / 2, bottom + dr / 2),\n",
    "                  xytext = (theta0 + 1.1 * dth, bottom + 2.2 * dr),\n",
    "                  arrowprops = dict(arrowstyle = \"->\", lw = 1.2),\n",
    "                  ha = 'center')\n",
    "\n",
    "hAxPolar.set_yticklabels([]) \n",
    "\n",
    "hF.tight_layout()\n",
    "\n",
    "if exportFig:\n",
    "    hF.savefig('Coordinates.svg', transparent = True)"
   ]
  },
  {
   "cell_type": "markdown",
   "metadata": {},
   "source": [
    "<!-- Should include the ExcaliDraw embedded in the image -->\n",
    "![](https://i.imgur.com/hh5Hnhv.png)\n",
    "<!-- ![](https://i.postimg.cc/9FP5HDQ9/Untitled-2025-05-03-2057-excalidraw.png) -->"
   ]
  },
  {
   "cell_type": "markdown",
   "metadata": {},
   "source": [
    "### Aggregation per Angle\n",
    "\n",
    "Summing pixels along the radial axis provides a profile of of the radial distribution around the image center."
   ]
  },
  {
   "cell_type": "code",
   "execution_count": null,
   "metadata": {},
   "outputs": [],
   "source": [
    "# Polar and Aggregation Representation per Image\n",
    "\n",
    "rndIdx = random.randrange(numSamplesTrain)\n",
    "mI = np.reshape(mXTrain[rndIdx], TU_MNIST_IMG_SIZE)\n",
    "mP = ski.transform.warp_polar(mI, output_shape = (280, 280))\n",
    "vP = np.sum(mP, axis = 1)"
   ]
  },
  {
   "cell_type": "code",
   "execution_count": null,
   "metadata": {},
   "outputs": [],
   "source": [
    "# Plot Polar and Aggregation Representation per Image \n",
    "\n",
    "hF, vHa = plt.subplots(nrows = 1, ncols = 3, figsize = (12, 3))\n",
    "vHa = vHa.flat\n",
    "\n",
    "hA = vHa[0]\n",
    "hA.imshow(mI, cmap = 'gray')\n",
    "hA.tick_params(axis = 'both', left = False, top = False, right = False, bottom = False, \n",
    "               labelleft = False, labeltop = False, labelright = False, labelbottom = False)\n",
    "hA.set_xlabel('x')\n",
    "hA.set_ylabel('y')\n",
    "hA.set_title('Cartesian Coordinates')\n",
    "\n",
    "hA = vHa[1]\n",
    "hA.imshow(mP.T[::-1], cmap = 'gray')\n",
    "hA.tick_params(axis = 'both', left = False, top = False, right = False, bottom = False, \n",
    "               labelleft = False, labeltop = False, labelright = False, labelbottom = False)\n",
    "hA.set_xlabel('θ')\n",
    "hA.set_ylabel('r')\n",
    "hA.set_title('Polar Coordinates')\n",
    "\n",
    "hA = vHa[2]\n",
    "hA.plot(vP)\n",
    "hA.tick_params(axis = 'both', left = False, top = False, right = False, bottom = False, \n",
    "               labelleft = False, labeltop = False, labelright = False, labelbottom = False)\n",
    "hA.set_xlabel('θ')\n",
    "hA.set_ylabel('Sum of Values')\n",
    "hA.set_title('Aggregation per θ');"
   ]
  },
  {
   "cell_type": "code",
   "execution_count": null,
   "metadata": {},
   "outputs": [],
   "source": [
    "# Plot Animation\n",
    "mP = ski.transform.warp_polar(mI, output_shape = (360, 360))\n",
    "vP = np.sum(mP, axis = 1)\n",
    "\n",
    "\n",
    "hF, vHa = plt.subplots(nrows = 1, ncols = 2, figsize = (8, 4))\n",
    "vHa = vHa.flat\n",
    "\n",
    "tuCenter  = (TU_MNIST_IMG_SIZE[1] // 2, TU_MNIST_IMG_SIZE[0] // 2)\n",
    "valRadius = math.sqrt(2) * max(tuCenter)\n",
    "\n",
    "hA = vHa[0]\n",
    "hA.imshow(mI, cmap = 'gray')\n",
    "lineAngle, *_ = hA.plot([tuCenter[0], tuCenter[0] + valRadius], [tuCenter[1], tuCenter[1]], color = 'r', lw = 2)\n",
    "hA.tick_params(axis = 'both', left = False, top = False, right = False, bottom = False, \n",
    "               labelleft = False, labeltop = False, labelright = False, labelbottom = False)\n",
    "hA.set_xlabel('x')\n",
    "hA.set_ylabel('y')\n",
    "hA.set_xlim((0, TU_MNIST_IMG_SIZE[0] - 1))\n",
    "hA.set_ylim((TU_MNIST_IMG_SIZE[1] - 1, 0))\n",
    "hA.set_title(f'θ = {0:03d} [Deg]')\n",
    "\n",
    "hA = vHa[1]\n",
    "hA.plot(vP)\n",
    "lineSum = hA.axvline(x = 0, color = 'r', lw = 2)\n",
    "hA.set_xlim((0, 360))\n",
    "\n",
    "figName = f'Figure{0:04d}.png'\n",
    "if exportFig:\n",
    "    hF.savefig(figName, dpi = 150)\n",
    "\n",
    "for ii, θ in enumerate(range(360)):\n",
    "    θRad = -math.radians(θ)  #<! Convert degrees to radians\n",
    "    xEnd = tuCenter[0] + valRadius * math.cos(θRad)\n",
    "    yEnd = tuCenter[1] - valRadius * math.sin(θRad) #<! Inverted as Y direction is down\n",
    "    lineAngle.set_data([tuCenter[0], xEnd], [tuCenter[1], yEnd])\n",
    "    lineSum.set_xdata([θ])\n",
    "    vHa[0].set_title(f'θ = {θ:03d} [Deg]')\n",
    "    \n",
    "    hF.canvas.draw() #<! Update the canvas before exporting\n",
    "\n",
    "    figName = f'Figure{(ii + 1):04d}.png'\n",
    "    if exportFig:\n",
    "        hF.savefig(figName, dpi = 150)\n",
    "# ffmpeg -framerate 10 -i Figure%04d.png -c:v libx264 -pix_fmt yuv420p -an -movflags faststart -loop 1 output.mp4"
   ]
  },
  {
   "cell_type": "markdown",
   "metadata": {},
   "source": [
    "### Projection Visualization\n",
    "\n",
    "<iframe width=\"853\" height=\"480\" src=\"//sendvid.com/embed/kh2a1tox\" frameborder=\"0\" allowfullscreen></iframe>\n",
    "<!-- <iframe allow=\"fullscreen\" allowfullscreen height=\"480\" src=\"https://streamable.com/e/g1g71s?\" width=\"800\" style=\"border:none;\"></iframe> -->"
   ]
  },
  {
   "cell_type": "markdown",
   "metadata": {},
   "source": [
    "### Analysis of the 1D Signals"
   ]
  },
  {
   "cell_type": "code",
   "execution_count": null,
   "metadata": {},
   "outputs": [],
   "source": [
    "# Transform Data into 1D\n",
    "mPTrain = ConvertDataSet(mXTrain, resampleRes = 56)"
   ]
  },
  {
   "cell_type": "code",
   "execution_count": null,
   "metadata": {},
   "outputs": [],
   "source": [
    "# Mean Curve per Class\n",
    "\n",
    "mM = np.zeros(shape = (numClass, mPTrain.shape[1]))\n",
    "\n",
    "for ii in range(numClass):\n",
    "    vIdx = vYTrain == ii\n",
    "    vF = np.mean(mPTrain[vIdx], axis = 0) #<! (360, )\n",
    "    mM[ii] = vF"
   ]
  },
  {
   "cell_type": "code",
   "execution_count": null,
   "metadata": {},
   "outputs": [],
   "source": [
    "# Plot the Mean Curve per Class\n",
    "\n",
    "hF, vHa = plt.subplots(nrows = 2, ncols = numClass // 2, figsize = (12, 4))\n",
    "vHa = vHa.flat\n",
    "\n",
    "for ii, hA in enumerate(vHa):\n",
    "    vIdx = np.flatnonzero(vYTrain == ii)\n",
    "    vIdx = np.random.choice(vIdx, size = min(25, len(vIdx)), replace = False)\n",
    "    mL = mPTrain[vIdx]\n",
    "    hA.plot(mL.T, lw = 0.5, color = 'k', alpha = 0.3)\n",
    "    hA.plot(mM[ii], lw = 2)\n",
    "    hA.tick_params(axis = 'both', left = False, top = False, right = False, bottom = False, \n",
    "                   labelleft = False, labeltop = False, labelright = False, labelbottom = False)\n",
    "    hA.set_title(f'Label {ii}')\n",
    "\n",
    "hF.suptitle('Mean Class Curve');"
   ]
  },
  {
   "cell_type": "code",
   "execution_count": null,
   "metadata": {},
   "outputs": [],
   "source": [
    "# Draw the "
   ]
  },
  {
   "cell_type": "code",
   "execution_count": null,
   "metadata": {},
   "outputs": [],
   "source": [
    "# Generate the Lines\n",
    "# Lines parameters: a x + b y + c = 0\n",
    "\n",
    "mL = np.array([[1, 1, 0], [-0.8, 1.7, -0.7], [-0.8, 1.6, -0.75], [1.1, -0.95, -0.05]]) #<! Lines parameters: a, b, c\n",
    "numLines = mL.shape[0]\n",
    "\n",
    "#===========================Fill This===========================#\n",
    "# 1. Normalize the lines so that a^2 + b^2 = 1.\n",
    "# !! Make sure the line is the same.\n",
    "\n",
    "vN = np.linalg.norm(mL[:, :2], axis = 1) #<! Calculate the norm of (a, b)\n",
    "mL /= vN[:, None]                        #<! Scales all parameters\n",
    "\n",
    "#===============================================================#"
   ]
  },
  {
   "cell_type": "code",
   "execution_count": null,
   "metadata": {},
   "outputs": [],
   "source": [
    "# Convert the Lines into the y = m x + n Form\n",
    "\n",
    "# The motivation is for visualization\n",
    "mM = np.column_stack((-mL[:, 0] / mL[:, 1], -mL[:, 2] / mL[:, 1])) #<! Not safe, in production verify `mL[:, 1] != 0`"
   ]
  },
  {
   "cell_type": "markdown",
   "metadata": {},
   "source": [
    "* <font color='red'>(**?**)</font> If all lines are valid functions, is the above operation safe? Consider in theory and in practice."
   ]
  },
  {
   "cell_type": "code",
   "execution_count": null,
   "metadata": {},
   "outputs": [],
   "source": [
    "# Draw the Data\n",
    "\n",
    "hF, hA = plt.subplots(figsize = (10, 7))\n",
    "\n",
    "for ii in range(numLines):\n",
    "    vY = np.array([mM[ii, 0] * valX + mM[ii, 1] for valX in vX])\n",
    "    hA.plot(vX, vY, lw = LINE_WIDTH_DEF, label = f'Line {ii + 1:02d}')\n",
    "\n",
    "hA.set_xlabel('x')\n",
    "hA.set_ylabel('y')\n",
    "hA.set_title('Set of Lines')\n",
    "\n",
    "hA.legend();"
   ]
  },
  {
   "cell_type": "markdown",
   "metadata": {},
   "source": [
    "## Deriving the Objective Function\n",
    "\n",
    "This section formulates the problem as a _Quadratic Programming_ problem."
   ]
  },
  {
   "cell_type": "markdown",
   "metadata": {},
   "source": [
    "### Distance of a Point from a Line\n",
    "\n",
    "Given a point $\\boldsymbol{x} = \\left[ {x}_{0}, {y}_{0} \\right]^{T}$ then the _Euclidean Distance_ to a line, given by the parameters $l = \\left( a, b, c \\right) : a x + b y + c = 0$ is given by:\n",
    "\n",
    "$$ d \\left( \\boldsymbol{x}, l \\right) = \\frac{ \\left| a {x}_{0} + b {y}_{0} + c \\right| }{ \\sqrt{ {a}^{2} + {b}^{2} } } $$\n",
    "\n",
    "Assuming all lines are normalized, then the operation becomes:\n",
    "\n",
    "$$ d \\left( \\boldsymbol{x}, l \\right) = a {x}_{0} + b {y}_{0} + c $$\n",
    "\n",
    "The objective function, based on the _Squared Euclidean Distance_, for the DF as defined is given by:\n",
    "\n",
    "$$ \\arg \\min_{\\boldsymbol{x} \\in \\mathbb{R}^{2}} \\sum_{i = 1}^{n} {d}^{2} \\left( \\boldsymbol{x}, \\boldsymbol{l}_{i} \\right) $$\n",
    "\n",
    "\n",
    "* <font color='brown'>(**#**)</font> Using the Squared Euclidean as a measure of distance greatly simplifies the derivation of the solution."
   ]
  },
  {
   "cell_type": "markdown",
   "metadata": {},
   "source": [
    "### Simplified Form\n",
    "\n",
    "Since a line is defined by $l = \\left( a, b, c \\right) : a x + b y + c = 0$, multiplying its parameters by a constant has no effect.  \n",
    "Namely, lines are parameterized up to a scale. It means one can chose to have the line in a form which ${a}^{2} + {b}^{2} = 1$.\n",
    "\n",
    "Given that, the optimization problem is given by:\n",
    "\n",
    "$$ \\arg \\min_{\\boldsymbol{x} \\in \\mathbb{R}^{2}} \\sum_{i = 1}^{n} {d}^{2} \\left( \\boldsymbol{x}, \\boldsymbol{l}_{i} \\right) = \\arg \\min_{\\boldsymbol{x} \\in \\mathbb{R}^{2}} \\sum_{i = 1}^{n} {\\left( {a}_{i} x + {b}_{i} y + {c}_{i} \\right)}^{2} $$\n",
    "\n",
    "* <font color='brown'>(**#**)</font> This form can be farther simplified so it can be solved as _Linear Least Squares_ problem."
   ]
  },
  {
   "cell_type": "code",
   "execution_count": null,
   "metadata": {},
   "outputs": [],
   "source": [
    "# Define the Objective Function\n",
    "\n",
    "def PointLineSumSqrDistance( vX: np.ndarray, mL: np.ndarray ) -> np.floating:\n",
    "    \"\"\"\n",
    "    The function calculates the sum of squared distances of a point in 2D to a set of lines.\n",
    "    For a line, `vL`, a row in the matrix `mL`:\n",
    "    The line is given as `vL[0] * x + vL[1] * y + vL[2] = 0`.  \n",
    "    The line is assumed to have `np.linalg.norm(vL[:2]) = 1`.\n",
    "    Input:\n",
    "        vX      - A point in 2D (2, ).\n",
    "        mL      - Set of 2D lines parameters (numLines x 3).\n",
    "    Output:\n",
    "        sumDisSqr - The sum of squared distance to lines.\n",
    "    \"\"\"\n",
    "    #===========================Fill This===========================#\n",
    "    # 1. Set `sumDisSqr` to zero.\n",
    "    # 2. Loop over lines and add the distance to the line.\n",
    "    # !! Output must be a scalar.\n",
    "    # !! You may use a vectorized method.\n",
    "    \n",
    "    sumDisSqr = 0.0\n",
    "    for vL in mL:\n",
    "        sumDisSqr += anp.sum(anp.square(vL[0] * vX[0] + vL[1] * vX[1] + vL[2])) #<! Add the distance to the line\n",
    "    \n",
    "    # Vectorized Method\n",
    "    # sumDisSqr = anp.sum(anp.square(mL[:, 0] * vX[0] + mL[:, 1] * vX[1] + mL[:, 2])) #<! Add the distance to the line\n",
    "    #===============================================================#\n",
    "    \n",
    "    return sumDisSqr"
   ]
  },
  {
   "cell_type": "code",
   "execution_count": null,
   "metadata": {},
   "outputs": [],
   "source": [
    "# Find the Optimal Point\n",
    "\n",
    "def FindOptimalPoint( vX: np.ndarray, hGradFun: Callable, /, *, μ: float = 1e-5, numIter: int = 10_000 ) -> np.ndarray:\n",
    "    \"\"\"\n",
    "    The function finds the optimal point that minimizes the sum of squared distances to a set of lines.\n",
    "    Input:\n",
    "        vX       - The initial point in 2D (2, ).\n",
    "        hGradFun - The gradient function of the objective function: `hGradFun(vX) -> vG`.\n",
    "        μ        - The step size for the gradient descent.\n",
    "        numIter  - The number of iterations for the gradient descent.\n",
    "    Output:\n",
    "        vX      - The optimal point in 2D (2, ).\n",
    "    Remarks:\n",
    "        - The function assumes the arrays `vX` and `mL` are AutoGrad arrays.\n",
    "    \"\"\"\n",
    "    #===========================Fill This===========================#\n",
    "    # 1. Create Gradient Descent loop.\n",
    "    # 2. Calculate the gradient using `hGradFun`.\n",
    "    # !! You may add a stopping condition.\n",
    "    # !! You may add adaptive step size.\n",
    "\n",
    "    for _ in range(numIter):\n",
    "        vG = hGradFun(vX) #<! Calculate the gradient using `hGradFun()`\n",
    "        vX -= μ * vG #<! Update the point using gradient descent\n",
    "    #===============================================================#\n",
    "    \n",
    "    return vX"
   ]
  },
  {
   "cell_type": "markdown",
   "metadata": {},
   "source": [
    "* <font color='brown'>(**#**)</font> Production level implementation should add: Adaptive Step Size, Acceleration Method, Stopping Condition, Flag for Convergence.\n"
   ]
  },
  {
   "cell_type": "code",
   "execution_count": null,
   "metadata": {},
   "outputs": [],
   "source": [
    "# Find the Optimal Point Using Gradient Descent\n",
    "\n",
    "hObjFun  = lambda vX: PointLineSumSqrDistance(vX, mL) #<! Define the objective function\n",
    "hGradFun = grad(hObjFun) #<! Define the gradient function using `AutoGrad`\n",
    "vP       = anp.zeros(2) #<! Initial point\n",
    "\n",
    "vP = FindOptimalPoint(vP, hGradFun, μ = μ, numIter = numIter) #<! Find the point"
   ]
  },
  {
   "cell_type": "markdown",
   "metadata": {},
   "source": [
    "* <font color='green'>(**@**)</font> Replace `FindOptimalPoint()` with `sp.optimize.fmin_bfgs()` and compare run time.\n",
    "\n",
    "<!-- vP = anp.zeros(2)\n",
    "vP = sp.optimize.fmin_bfgs(hObjFun, vP, hGradFun) -->"
   ]
  },
  {
   "cell_type": "code",
   "execution_count": null,
   "metadata": {},
   "outputs": [],
   "source": [
    "# Plot the Optimal Solution \n",
    "\n",
    "hF, hA = plt.subplots(figsize = (10, 7))\n",
    "\n",
    "for ii in range(numLines):\n",
    "    vY = np.array([mM[ii, 0] * valX + mM[ii, 1] for valX in vX])\n",
    "    hA.plot(vX, vY, lw = LINE_WIDTH_DEF, label = f'Line {ii + 1:02d}')\n",
    "\n",
    "hA.scatter(vP[0], vP[1], s = 4 * MARKER_SIZE_DEF, color = '#FFE119', label = 'Optimal Point', zorder = 2.1)\n",
    "\n",
    "hA.set_aspect('equal') #<! Must in order to have 90 [Deg]\n",
    "hA.set_xlabel('x')\n",
    "hA.set_ylabel('y')\n",
    "hA.set_title('Set of Lines and the Optimal Point')\n",
    "\n",
    "hA.legend();"
   ]
  },
  {
   "cell_type": "markdown",
   "metadata": {},
   "source": [
    "* <font color='green'>(**@**)</font> Create _Heatmap_ of the objective function.\n",
    "* <font color='green'>(**@**)</font> Create _Heatmap_ of the _Euclidean Distance_ and compare.\n",
    "* <font color='red'>(**?**)</font> In what cases the Squared Euclidean Distance will fail?"
   ]
  }
 ],
 "metadata": {
  "kernelspec": {
   "display_name": "AIProgram",
   "language": "python",
   "name": "python3"
  },
  "language_info": {
   "codemirror_mode": {
    "name": "ipython",
    "version": 3
   },
   "file_extension": ".py",
   "mimetype": "text/x-python",
   "name": "python",
   "nbconvert_exporter": "python",
   "pygments_lexer": "ipython3",
   "version": "3.13.5"
  },
  "toc": {
   "base_numbering": 1,
   "nav_menu": {},
   "number_sections": false,
   "sideBar": true,
   "skip_h1_title": false,
   "title_cell": "Table of Contents",
   "title_sidebar": "Contents",
   "toc_cell": false,
   "toc_position": {},
   "toc_section_display": true,
   "toc_window_display": false
  },
  "varInspector": {
   "cols": {
    "lenName": 16,
    "lenType": 16,
    "lenVar": 40
   },
   "kernels_config": {
    "python": {
     "delete_cmd_postfix": "",
     "delete_cmd_prefix": "del ",
     "library": "var_list.py",
     "varRefreshCmd": "print(var_dic_list())"
    },
    "r": {
     "delete_cmd_postfix": ") ",
     "delete_cmd_prefix": "rm(",
     "library": "var_list.r",
     "varRefreshCmd": "cat(var_dic_list()) "
    }
   },
   "types_to_exclude": [
    "module",
    "function",
    "builtin_function_or_method",
    "instance",
    "_Feature"
   ],
   "window_display": false
  }
 },
 "nbformat": 4,
 "nbformat_minor": 4
}
