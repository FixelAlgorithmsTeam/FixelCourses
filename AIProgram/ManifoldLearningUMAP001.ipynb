{
 "cells": [
  {
   "attachments": {},
   "cell_type": "markdown",
   "metadata": {},
   "source": [
    "[![Fixel Algorithms](https://i.imgur.com/AqKHVZ0.png)](https://fixelalgorithms.gitlab.io)\n",
    "\n",
    "# AI Program\n",
    "\n",
    "## Machine Learning - UnSupervised Learning - Manifold Learning - UMAP\n",
    "\n",
    "> Notebook by:\n",
    "> - Royi Avital RoyiAvital@fixelalgorithms.com\n",
    "\n",
    "## Revision History\n",
    "\n",
    "| Version | Date       | User        |Content / Changes                                                   |\n",
    "|---------|------------|-------------|--------------------------------------------------------------------|\n",
    "| 1.0.000 | 13/09/2025 | Royi Avital | First version                                                      |"
   ]
  },
  {
   "attachments": {},
   "cell_type": "markdown",
   "metadata": {},
   "source": [
    "[![Open In Colab](https://colab.research.google.com/assets/colab-badge.svg)](https://colab.research.google.com/github/FixelAlgorithmsTeam/FixelCourses/blob/master/AIProgram/2024_02/0067ManifoldLearningIsoMap.ipynb)"
   ]
  },
  {
   "cell_type": "code",
   "execution_count": null,
   "metadata": {
    "ExecuteTime": {
     "end_time": "2022-02-02T09:30:06.492269Z",
     "start_time": "2022-02-02T09:30:06.220934Z"
    }
   },
   "outputs": [],
   "source": [
    "# Import Packages\n",
    "\n",
    "# General Tools\n",
    "import numpy as np\n",
    "import scipy as sp\n",
    "import pandas as pd\n",
    "\n",
    "# Machine Learning\n",
    "from sklearn.datasets import load_digits\n",
    "from sklearn.model_selection import train_test_split\n",
    "from umap import UMAP\n",
    "\n",
    "# Miscellaneous\n",
    "from platform import python_version\n",
    "import random\n",
    "\n",
    "# Typing\n",
    "from typing import Callable, Dict, List, Optional, Self, Set, Tuple, Union\n",
    "from numpy.typing import NDArray\n",
    "\n",
    "# Visualization\n",
    "import matplotlib.pyplot as plt\n",
    "\n",
    "# Jupyter\n",
    "from IPython import get_ipython\n",
    "from ipywidgets import Dropdown, FloatSlider, interact, IntSlider, Layout"
   ]
  },
  {
   "attachments": {},
   "cell_type": "markdown",
   "metadata": {},
   "source": [
    "## Notations\n",
    "\n",
    "* <font color='red'>(**?**)</font> Question to answer interactively.\n",
    "* <font color='blue'>(**!**)</font> Simple task to add code for the notebook.\n",
    "* <font color='green'>(**@**)</font> Optional / Extra self practice.\n",
    "* <font color='brown'>(**#**)</font> Note / Useful resource / Food for thought.\n",
    "\n",
    "Code Notations:\n",
    "\n",
    "```python\n",
    "someVar    = 2; #<! Notation for a variable\n",
    "vVector    = np.random.rand(4) #<! Notation for 1D array\n",
    "mMatrix    = np.random.rand(4, 3) #<! Notation for 2D array\n",
    "tTensor    = np.random.rand(4, 3, 2, 3) #<! Notation for nD array (Tensor)\n",
    "tuTuple    = (1, 2, 3) #<! Notation for a tuple\n",
    "lList      = [1, 2, 3] #<! Notation for a list\n",
    "dDict      = {1: 3, 2: 2, 3: 1} #<! Notation for a dictionary\n",
    "oObj       = MyClass() #<! Notation for an object\n",
    "dfData     = pd.DataFrame() #<! Notation for a data frame\n",
    "dsData     = pd.Series() #<! Notation for a series\n",
    "hObj       = plt.Axes() #<! Notation for an object / handler / function handler\n",
    "```\n",
    "\n",
    "### Code Exercise\n",
    "\n",
    " - Single line fill\n",
    "\n",
    "```python\n",
    "valToFill = ???\n",
    "```\n",
    "\n",
    " - Multi Line to Fill (At least one)\n",
    "\n",
    "```python\n",
    "# You need to start writing\n",
    "?????\n",
    "```\n",
    "\n",
    " - Section to Fill\n",
    "\n",
    "```python\n",
    "#===========================Fill This===========================#\n",
    "# 1. Explanation about what to do.\n",
    "# !! Remarks to follow / take under consideration.\n",
    "mX = ???\n",
    "\n",
    "?????\n",
    "#===============================================================#\n",
    "```"
   ]
  },
  {
   "cell_type": "code",
   "execution_count": null,
   "metadata": {},
   "outputs": [],
   "source": [
    "# Configuration\n",
    "# %matplotlib inline\n",
    "\n",
    "seedNum = 512\n",
    "np.random.seed(seedNum)\n",
    "random.seed(seedNum)\n",
    "\n",
    "# Matplotlib default color palette\n",
    "lMatPltLibclr = ['#1f77b4', '#ff7f0e', '#2ca02c', '#d62728', '#9467bd', '#8c564b', '#e377c2', '#7f7f7f', '#bcbd22', '#17becf']\n",
    "# sns.set_theme() #>! Apply SeaBorn theme\n",
    "\n",
    "runInGoogleColab = 'google.colab' in str(get_ipython())"
   ]
  },
  {
   "cell_type": "code",
   "execution_count": null,
   "metadata": {},
   "outputs": [],
   "source": [
    "# Constants\n",
    "\n",
    "FIG_SIZE_DEF    = (8, 8)\n",
    "ELM_SIZE_DEF    = 50\n",
    "CLASS_COLOR     = ('b', 'r')\n",
    "EDGE_COLOR      = 'k'\n",
    "MARKER_SIZE_DEF = 10\n",
    "LINE_WIDTH_DEF  = 2"
   ]
  },
  {
   "cell_type": "code",
   "execution_count": null,
   "metadata": {},
   "outputs": [],
   "source": [
    "# Courses Packages\n"
   ]
  },
  {
   "cell_type": "code",
   "execution_count": null,
   "metadata": {},
   "outputs": [],
   "source": [
    "# General Auxiliary Functions\n",
    "\n",
    "def PlotMnistImages( mX: NDArray, vY: NDArray, numRows: int, /, *, numCols: Optional[int] = None, tuImgSize: Tuple = (28, 28), randomChoice: bool = True, lClasses: Optional[List] = None, hF: Optional[plt.Figure] = None ) -> plt.Figure:\n",
    "\n",
    "    numSamples  = mX.shape[0]\n",
    "    numPx       = mX.shape[1]\n",
    "\n",
    "    if numCols is None:\n",
    "        numCols = numRows\n",
    "\n",
    "    tFigSize = (numCols * 3, numRows * 3)\n",
    "\n",
    "    if hF is None:\n",
    "        hF, vHa = plt.subplots(numRows, numCols, figsize = tFigSize)\n",
    "    else:\n",
    "        vHa = hF.axes\n",
    "    \n",
    "    vHa = np.atleast_1d(vHa) #<! To support numImg = 1\n",
    "    vHa = vHa.flat\n",
    "    \n",
    "    for kk in range(numRows * numCols):\n",
    "        idx = np.random.choice(numSamples) if randomChoice else kk\n",
    "        mI  = np.reshape(mX[idx, :], tuImgSize)\n",
    "    \n",
    "        # hA[kk].imshow(mI.clip(0, 1), cmap = 'gray')\n",
    "        if len(tuImgSize) == 2:\n",
    "            vHa[kk].imshow(mI, cmap = 'gray')\n",
    "        elif len(tuImgSize) == 3:\n",
    "            vHa[kk].imshow(mI)\n",
    "        else:\n",
    "            raise ValueError(f'The length of the image size tuple is {len(tuImgSize)} which is not supported')\n",
    "        vHa[kk].tick_params(axis = 'both', left = False, top = False, right = False, bottom = False, \n",
    "                           labelleft = False, labeltop = False, labelright = False, labelbottom = False)\n",
    "        if lClasses is None:\n",
    "            vHa[kk].set_title(f'Index = {idx}, Label = {vY[idx]}')\n",
    "        else:\n",
    "            vHa[kk].set_title(f'Index = {idx}, Label = {lClasses[vY[idx]]}')\n",
    "    \n",
    "    return hF\n",
    "\n",
    "def PlotScatterData( mX: NDArray, vL: Optional[NDArray] = None, lLabel: Optional[List[str]] = None, hA: Optional[plt.Axes] = None, figSize: Tuple[int, int] = FIG_SIZE_DEF, markerSize: int = ELM_SIZE_DEF, edgeColor: int = EDGE_COLOR ) -> plt.Axes:\n",
    "\n",
    "    if hA is None:\n",
    "        hF, hA = plt.subplots(figsize = figSize)\n",
    "    else:\n",
    "        hF = hA.get_figure()\n",
    "    \n",
    "    numSamples = mX.shape[0]\n",
    "\n",
    "    if vL is None:\n",
    "        vL = np.zeros(numSamples)\n",
    "    \n",
    "    if lLabel is None:\n",
    "        lLabel = [str(ii) for ii in range(int(np.max(vL)) + 1)] \n",
    "    \n",
    "    vU = np.unique(vL)\n",
    "    numClusters = len(vU)\n",
    "\n",
    "    for ii in range(numClusters):\n",
    "        vIdx = vL == vU[ii]\n",
    "        hA.scatter(mX[vIdx, 0], mX[vIdx, 1], s = markerSize, edgecolor = edgeColor, label = lLabel[ii])\n",
    "    \n",
    "    hA.set_xlabel('${{x}}_{{1}}$')\n",
    "    hA.set_ylabel('${{x}}_{{2}}$')\n",
    "    hA.grid()\n",
    "    hA.legend()\n",
    "\n",
    "    return hA"
   ]
  },
  {
   "cell_type": "markdown",
   "metadata": {},
   "source": [
    "## Dimensionality Reduction\n",
    "\n",
    "Given a data set $\\mathcal{X} = \\{ \\boldsymbol{x}_{i} \\in \\mathbb{R}^{D} \\}_{i = 1}$ _Dimensionality Reduction_ seeks for $\\mathcal{Z} = \\{ \\boldsymbol{z}_{i} \\in \\mathbb{R}^{d} \\}_{i = 1}$ where $d \\leq D$ and some properties of the data are preserved.  \n",
    "The _Dimensionality Reduction_ function maps each sample from the high dimensional space to a sample in the low dimensional space.  \n",
    "\n",
    "Motivations for Dimensionality Reduction\n",
    " * Feature Engineering  \n",
    "   Dimensionality reduction may assist algorithms \"focus\" on the important relations between samples.  \n",
    "   Specifically, for High Dimensional Data it may reduce issues caused by \"Curse of Dimensionality\" and make the distance useful.  \n",
    "   <font color='magenta'>Example</font>: A common synergy is _Dimensionality Reduction_ followed by _Clustering_.  \n",
    "   <font color='magenta'>Example</font>: Using PCA to enhance the data SNR.\n",
    " * Visualization  \n",
    "   High Dimensional data can not be visualized geometrically.  \n",
    "   Yet such analysis is important in the _EDA_ and _Results Analysis_.  \n",
    "   _Dimensionality Reduction_ to a 2D / 3D, with the assumption the important relations are well kept in the process, may assist with the analysis.\n",
    " * Run Time Optimization  \n",
    "   Most algorithms have a run time complexity dependency on the dimension of the data.  \n",
    "   Dimensionality reduction, by nature, will accelerate such cases.  \n",
    "   <font color='magenta'>Example</font>: Using PCA to reduce 50% of the dimensions while preserving 95% of the energy.\n",
    "\n",
    "Broadly, _Dimensionality Reduction_ is defined by 3 types:\n",
    "\n",
    " * Linear  \n",
    "   The low dimension data is a linear / affine function of the high dimensional data: $\\boldsymbol{z}_{i} = \\boldsymbol{W} \\boldsymbol{x}_{i} + \\boldsymbol{b}$.  \n",
    "   The matrix and bias vector are the solution of the algorithm.\n",
    "   Methods such as [Principle Component Analysis](https://en.wikipedia.org/wiki/Principal_component_analysis) (PCA), [Independent Component Analysis](https://en.wikipedia.org/wiki/Independent_component_analysis) ICA, [Canonical Correlation Analysis](https://en.wikipedia.org/wiki/Canonical_correlation) (CCA).\n",
    " * Non Linear  \n",
    "   The low dimension sample is a non linear function of the high dimension sample.  \n",
    "   Methods such as [Kernel PCA](https://en.wikipedia.org/wiki/Kernel_principal_component_analysis), [MultiDimensional Scaling](https://en.wikipedia.org/wiki/Multidimensional_scaling).  \n",
    "   Some Non Linear Methods are called _Manifold Learning_ which try to learn the local metric of the data: Laplacian Eigenmaps, [T-SNE](https://en.wikipedia.org/wiki/T-distributed_stochastic_neighbor_embedding) and UMAP.\n",
    "\n",
    "<br>\n",
    "\n",
    "* <font color='brown'>(**#**)</font> One may apply Dimensionality Reduction on labeled data.  \n",
    "There are specialized algorithms for such case. A simple linear one is given by the [Linear Discriminant Analysis](https://en.wikipedia.org/wiki/Linear_discriminant_analysis) (LDA) algorithm.\n",
    "* <font color='brown'>(**#**)</font> _Dimensionality Reduction_ is potentially the _Optimal Feature Engineering_.  \n",
    "* <font color='brown'>(**#**)</font> _Feature Selection_ is also a type of _Dimensionality Reduction_.\n",
    "* <font color='brown'>(**#**)</font> One may use _Auto Encoder_ like models to apply Deep Learning based _Dimensionality Reduction_."
   ]
  },
  {
   "cell_type": "code",
   "execution_count": null,
   "metadata": {},
   "outputs": [],
   "source": [
    "# Parameters\n",
    "\n",
    "# Dimensionality Reduction\n",
    "dataDim = 2\n",
    "numOutSampleSamples = 10\n",
    "\n",
    "# Visualization\n",
    "numImg = 5"
   ]
  },
  {
   "cell_type": "markdown",
   "metadata": {},
   "source": [
    "## Generate / Load Data\n",
    "\n",
    "The notebook used [SciKit Learn's Digits Dataset](https://scikit-learn.org/stable/modules/generated/sklearn.datasets.load_digits.html).\n",
    "It is similar to the MNIST dataset where the images are smaller (8 x 8) and the number of samples is 1797."
   ]
  },
  {
   "cell_type": "code",
   "execution_count": null,
   "metadata": {},
   "outputs": [],
   "source": [
    "# Generate / Load Data\n",
    "\n",
    "mX, vY = load_digits(return_X_y = True)\n",
    "numSamples = mX.shape[0]\n",
    "\n",
    "print(f'The features data shape: {mX.shape}')\n",
    "print(f'The labels data shape: {vY.shape}')\n",
    "print(f'The unique values of the labels: {np.unique(vY)}')"
   ]
  },
  {
   "cell_type": "code",
   "execution_count": null,
   "metadata": {},
   "outputs": [],
   "source": [
    "# Plot the Data\n",
    "numImg = 3\n",
    "\n",
    "hF, _ = plt.subplots(numImg, numImg, figsize = (4, 4))\n",
    "hF = PlotMnistImages(mX, vY, numImg, tuImgSize = (8, 8), randomChoice = True, hF = hF)"
   ]
  },
  {
   "cell_type": "markdown",
   "metadata": {},
   "source": [
    "## Dimensionality Reduction (Manifold Learning) by UMAP\n",
    "\n",
    "The main parameters:\n",
    "\n",
    " - `n_neighbors` - Balances between local structure (Small number) and global structure (Large number).\n",
    " - `min_dist` - Density of the points in low dimension.\n",
    " - `metric` - The metric to use to evaluate the distance between samples."
   ]
  },
  {
   "cell_type": "code",
   "execution_count": null,
   "metadata": {},
   "outputs": [],
   "source": [
    "# Plot Dimensionality Reduction Results\n",
    "\n",
    "def PlotDimRedResults( mX: NDArray, vL: NDArray, /, *, numNeighbors: int = 15, minDist: float = 0.1, metricType: str = 'euclidean' ) -> None:\n",
    "    \n",
    "    oDimRed = UMAP(n_components = dataDim, n_neighbors = numNeighbors, min_dist = minDist, metric = metricType)\n",
    "    mZ = oDimRed.fit_transform(mX)\n",
    "\n",
    "    hF, hA = plt.subplots(figsize = (6, 6))\n",
    "    PlotScatterData(mZ, vY, hA = hA)\n",
    "\n",
    "    hA.set_title(f'UMAP: numNeighbors = {numNeighbors}, minDist = {minDist}, metric = {metricType}')"
   ]
  },
  {
   "cell_type": "code",
   "execution_count": null,
   "metadata": {},
   "outputs": [],
   "source": [
    "# Auxiliary Function\n",
    "\n",
    "hPlotDimRedResults = lambda numNeighbors, minDist, metricType: PlotDimRedResults(mX, vY, numNeighbors = numNeighbors, minDist = minDist, metricType = metricType)"
   ]
  },
  {
   "cell_type": "code",
   "execution_count": null,
   "metadata": {},
   "outputs": [],
   "source": [
    "# Interactive Plot\n",
    "numNeighborsSlider = IntSlider(min = 2, max = 21, step = 1, value = 15, continuous_update = False, layout = Layout(width = '30%'))\n",
    "minDistSlider = FloatSlider(min = 0.05, max = 1.0, step = 0.05, value = 0.1, continuous_update = False, layout = Layout(width = '30%'))\n",
    "metricDropdown = Dropdown(options = ['euclidean', 'manhattan', 'cosine'], continuous_update = False, value = 'euclidean', layout = Layout(width = '30%'))\n",
    "interact(hPlotDimRedResults, numNeighbors = numNeighborsSlider, minDist = minDistSlider, metricType = metricDropdown);"
   ]
  },
  {
   "cell_type": "markdown",
   "metadata": {},
   "source": [
    "### Out of Sample Support  \n",
    "\n",
    "Many of the advanced Manifold Learning methods are _Non Parameteric_ (t-SNE, UMAP).  \n",
    "Hence, their ability to support _Out of Sample_ data is tricky.  \n",
    "\n",
    "One way to overcome it is to built a _Regression Model_ to learn a parametric model of the transformation.  \n",
    "Yet _UMAP_ offers a native support of Out of Sample data (So does `OpenTSNE`) wth its `transform()` method."
   ]
  },
  {
   "cell_type": "code",
   "execution_count": null,
   "metadata": {},
   "outputs": [],
   "source": [
    "vDataIdx, vOutOfSampleIdx = train_test_split(range(numSamples),test_size = numOutSampleSamples, random_state = seedNum, stratify = vY)"
   ]
  }
 ],
 "metadata": {
  "kernelspec": {
   "display_name": "AIProgram",
   "language": "python",
   "name": "python3"
  },
  "language_info": {
   "codemirror_mode": {
    "name": "ipython",
    "version": 3
   },
   "file_extension": ".py",
   "mimetype": "text/x-python",
   "name": "python",
   "nbconvert_exporter": "python",
   "pygments_lexer": "ipython3",
   "version": "3.13.7"
  },
  "toc": {
   "base_numbering": 1,
   "nav_menu": {},
   "number_sections": false,
   "sideBar": true,
   "skip_h1_title": false,
   "title_cell": "Table of Contents",
   "title_sidebar": "Contents",
   "toc_cell": false,
   "toc_position": {},
   "toc_section_display": true,
   "toc_window_display": true
  },
  "varInspector": {
   "cols": {
    "lenName": 16,
    "lenType": 16,
    "lenVar": 40
   },
   "kernels_config": {
    "python": {
     "delete_cmd_postfix": "",
     "delete_cmd_prefix": "del ",
     "library": "var_list.py",
     "varRefreshCmd": "print(var_dic_list())"
    },
    "r": {
     "delete_cmd_postfix": ") ",
     "delete_cmd_prefix": "rm(",
     "library": "var_list.r",
     "varRefreshCmd": "cat(var_dic_list()) "
    }
   },
   "types_to_exclude": [
    "module",
    "function",
    "builtin_function_or_method",
    "instance",
    "_Feature"
   ],
   "window_display": false
  }
 },
 "nbformat": 4,
 "nbformat_minor": 4
}
