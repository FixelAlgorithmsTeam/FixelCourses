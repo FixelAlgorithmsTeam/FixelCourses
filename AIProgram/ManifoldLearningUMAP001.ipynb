{
 "cells": [
  {
   "attachments": {},
   "cell_type": "markdown",
   "metadata": {},
   "source": [
    "[![Fixel Algorithms](https://i.imgur.com/AqKHVZ0.png)](https://fixelalgorithms.gitlab.io)\n",
    "\n",
    "# AI Program\n",
    "\n",
    "## Machine Learning - UnSupervised Learning - Manifold Learning - UMAP\n",
    "\n",
    "> Notebook by:\n",
    "> - Royi Avital RoyiAvital@fixelalgorithms.com\n",
    "\n",
    "## Revision History\n",
    "\n",
    "| Version | Date       | User        |Content / Changes                                                   |\n",
    "|---------|------------|-------------|--------------------------------------------------------------------|\n",
    "| 1.0.000 | 25/09/2025 | Royi Avital | Added PCA example                                                  |\n",
    "| 1.0.000 | 13/09/2025 | Royi Avital | First version                                                      |"
   ]
  },
  {
   "attachments": {},
   "cell_type": "markdown",
   "metadata": {},
   "source": [
    "[![Open In Colab](https://colab.research.google.com/assets/colab-badge.svg)](https://colab.research.google.com/github/FixelAlgorithmsTeam/FixelCourses/blob/master/AIProgram/2024_02/0067ManifoldLearningIsoMap.ipynb)"
   ]
  },
  {
   "cell_type": "code",
   "execution_count": null,
   "metadata": {
    "ExecuteTime": {
     "end_time": "2022-02-02T09:30:06.492269Z",
     "start_time": "2022-02-02T09:30:06.220934Z"
    }
   },
   "outputs": [],
   "source": [
    "# Import Packages\n",
    "\n",
    "# General Tools\n",
    "import numpy as np\n",
    "import scipy as sp\n",
    "import pandas as pd\n",
    "\n",
    "# Machine Learning\n",
    "from sklearn.datasets import load_digits\n",
    "from sklearn.decomposition import PCA\n",
    "from sklearn.model_selection import train_test_split\n",
    "from umap import UMAP\n",
    "\n",
    "# Miscellaneous\n",
    "import math\n",
    "from platform import python_version\n",
    "import random\n",
    "\n",
    "# Typing\n",
    "from typing import Callable, Dict, List, Optional, Self, Set, Tuple, Union\n",
    "from numpy.typing import NDArray\n",
    "\n",
    "# Visualization\n",
    "import matplotlib as mpl\n",
    "import matplotlib.pyplot as plt\n",
    "\n",
    "# Jupyter\n",
    "from IPython import get_ipython\n",
    "from ipywidgets import Dropdown, FloatSlider, interact, IntSlider, Layout"
   ]
  },
  {
   "attachments": {},
   "cell_type": "markdown",
   "metadata": {},
   "source": [
    "## Notations\n",
    "\n",
    "* <font color='red'>(**?**)</font> Question to answer interactively.\n",
    "* <font color='blue'>(**!**)</font> Simple task to add code for the notebook.\n",
    "* <font color='green'>(**@**)</font> Optional / Extra self practice.\n",
    "* <font color='brown'>(**#**)</font> Note / Useful resource / Food for thought.\n",
    "\n",
    "Code Notations:\n",
    "\n",
    "```python\n",
    "someVar    = 2; #<! Notation for a variable\n",
    "vVector    = np.random.rand(4) #<! Notation for 1D array\n",
    "mMatrix    = np.random.rand(4, 3) #<! Notation for 2D array\n",
    "tTensor    = np.random.rand(4, 3, 2, 3) #<! Notation for nD array (Tensor)\n",
    "tuTuple    = (1, 2, 3) #<! Notation for a tuple\n",
    "lList      = [1, 2, 3] #<! Notation for a list\n",
    "dDict      = {1: 3, 2: 2, 3: 1} #<! Notation for a dictionary\n",
    "oObj       = MyClass() #<! Notation for an object\n",
    "dfData     = pd.DataFrame() #<! Notation for a data frame\n",
    "dsData     = pd.Series() #<! Notation for a series\n",
    "hObj       = plt.Axes() #<! Notation for an object / handler / function handler\n",
    "```\n",
    "\n",
    "### Code Exercise\n",
    "\n",
    " - Single line fill\n",
    "\n",
    "```python\n",
    "valToFill = ???\n",
    "```\n",
    "\n",
    " - Multi Line to Fill (At least one)\n",
    "\n",
    "```python\n",
    "# You need to start writing\n",
    "?????\n",
    "```\n",
    "\n",
    " - Section to Fill\n",
    "\n",
    "```python\n",
    "#===========================Fill This===========================#\n",
    "# 1. Explanation about what to do.\n",
    "# !! Remarks to follow / take under consideration.\n",
    "mX = ???\n",
    "\n",
    "?????\n",
    "#===============================================================#\n",
    "```"
   ]
  },
  {
   "cell_type": "code",
   "execution_count": null,
   "metadata": {},
   "outputs": [],
   "source": [
    "# Configuration\n",
    "# %matplotlib inline\n",
    "\n",
    "seedNum = 512\n",
    "np.random.seed(seedNum)\n",
    "random.seed(seedNum)\n",
    "\n",
    "# Matplotlib default color palette\n",
    "lMatPltLibclr = ['#1f77b4', '#ff7f0e', '#2ca02c', '#d62728', '#9467bd', '#8c564b', '#e377c2', '#7f7f7f', '#bcbd22', '#17becf']\n",
    "# sns.set_theme() #>! Apply SeaBorn theme\n",
    "\n",
    "runInGoogleColab = 'google.colab' in str(get_ipython())"
   ]
  },
  {
   "cell_type": "code",
   "execution_count": null,
   "metadata": {},
   "outputs": [],
   "source": [
    "# Constants\n",
    "\n",
    "FIG_SIZE_DEF    = (8, 8)\n",
    "ELM_SIZE_DEF    = 50\n",
    "CLASS_COLOR     = ('b', 'r')\n",
    "EDGE_COLOR      = 'k'\n",
    "MARKER_SIZE_DEF = 10\n",
    "LINE_WIDTH_DEF  = 2"
   ]
  },
  {
   "cell_type": "code",
   "execution_count": null,
   "metadata": {},
   "outputs": [],
   "source": [
    "# Courses Packages\n"
   ]
  },
  {
   "cell_type": "code",
   "execution_count": null,
   "metadata": {},
   "outputs": [],
   "source": [
    "# General Auxiliary Functions\n",
    "\n",
    "def PlotMnistImages( mX: NDArray, vY: NDArray, numRows: int, /, *, numCols: Optional[int] = None, tuImgSize: Tuple = (28, 28), randomChoice: bool = True, lClasses: Optional[List] = None, hF: Optional[plt.Figure] = None ) -> plt.Figure:\n",
    "\n",
    "    numSamples  = mX.shape[0]\n",
    "    numPx       = mX.shape[1]\n",
    "\n",
    "    if numCols is None:\n",
    "        numCols = numRows\n",
    "\n",
    "    tFigSize = (numCols * 3, numRows * 3)\n",
    "\n",
    "    if hF is None:\n",
    "        hF, vHa = plt.subplots(numRows, numCols, figsize = tFigSize)\n",
    "    else:\n",
    "        vHa = hF.axes\n",
    "    \n",
    "    vHa = np.atleast_1d(vHa) #<! To support numImg = 1\n",
    "    vHa = vHa.flat\n",
    "    \n",
    "    for kk in range(numRows * numCols):\n",
    "        idx = np.random.choice(numSamples) if randomChoice else kk\n",
    "        mI  = np.reshape(mX[idx, :], tuImgSize)\n",
    "    \n",
    "        # hA[kk].imshow(mI.clip(0, 1), cmap = 'gray')\n",
    "        if len(tuImgSize) == 2:\n",
    "            vHa[kk].imshow(mI, cmap = 'gray')\n",
    "        elif len(tuImgSize) == 3:\n",
    "            vHa[kk].imshow(mI)\n",
    "        else:\n",
    "            raise ValueError(f'The length of the image size tuple is {len(tuImgSize)} which is not supported')\n",
    "        vHa[kk].tick_params(axis = 'both', left = False, top = False, right = False, bottom = False, \n",
    "                           labelleft = False, labeltop = False, labelright = False, labelbottom = False)\n",
    "        if lClasses is None:\n",
    "            vHa[kk].set_title(f'Index = {idx}, Label = {vY[idx]}')\n",
    "        else:\n",
    "            vHa[kk].set_title(f'Index = {idx}, Label = {lClasses[vY[idx]]}')\n",
    "    \n",
    "    return hF\n",
    "\n",
    "def PlotLabelsHistogram( vY: NDArray, hA: Optional[plt.Axes] = None, lClass: Optional[List] = None, xLabelRot: Optional[int] = None ) -> plt.Axes:\n",
    "\n",
    "    if hA is None:\n",
    "        hF, hA = plt.subplots(figsize = (8, 6))\n",
    "    \n",
    "    vLabels, vCounts = np.unique(vY, return_counts = True)\n",
    "\n",
    "    hA.bar(vLabels, vCounts, width = 0.9, align = 'center')\n",
    "    hA.set_title('Histogram of Classes / Labels')\n",
    "    hA.set_xlabel('Class')\n",
    "    hA.set_xticks(vLabels, [f'{labelVal}' for labelVal in vLabels])\n",
    "    hA.set_ylabel('Count')\n",
    "    if lClass is not None:\n",
    "        hA.set_xticklabels(lClass)\n",
    "    \n",
    "    if xLabelRot is not None:\n",
    "        for xLabel in hA.get_xticklabels():\n",
    "            xLabel.set_rotation(xLabelRot)\n",
    "\n",
    "    return hA\n",
    "\n",
    "def PlotScatterData( mX: NDArray, vL: Optional[NDArray] = None, lLabel: Optional[List[str]] = None, hA: Optional[plt.Axes] = None, figSize: Tuple[int, int] = FIG_SIZE_DEF, markerSize: int = ELM_SIZE_DEF, edgeColor: str = EDGE_COLOR ) -> plt.Axes:\n",
    "\n",
    "    if hA is None:\n",
    "        hF, hA = plt.subplots(figsize = figSize)\n",
    "    else:\n",
    "        hF = hA.get_figure()\n",
    "    \n",
    "    numSamples = mX.shape[0]\n",
    "\n",
    "    if vL is None:\n",
    "        vL = np.zeros(numSamples)\n",
    "    \n",
    "    if lLabel is None:\n",
    "        lLabel = [str(ii) for ii in range(int(np.max(vL)) + 1)] \n",
    "    \n",
    "    vU = np.unique(vL)\n",
    "    numClusters = len(vU)\n",
    "\n",
    "    for ii in range(numClusters):\n",
    "        vIdx = vL == vU[ii]\n",
    "        hA.scatter(mX[vIdx, 0], mX[vIdx, 1], s = markerSize, edgecolor = edgeColor, label = lLabel[ii])\n",
    "    \n",
    "    hA.set_xlabel('${{x}}_{{1}}$')\n",
    "    hA.set_ylabel('${{x}}_{{2}}$')\n",
    "    hA.grid()\n",
    "    hA.legend()\n",
    "\n",
    "    return hA"
   ]
  },
  {
   "cell_type": "markdown",
   "metadata": {},
   "source": [
    "## Dimensionality Reduction\n",
    "\n",
    "Given a data set $\\mathcal{X} = \\{ \\boldsymbol{x}_{i} \\in \\mathbb{R}^{D} \\}_{i = 1}$ _Dimensionality Reduction_ seeks for $\\mathcal{Z} = \\{ \\boldsymbol{z}_{i} \\in \\mathbb{R}^{d} \\}_{i = 1}$ where $d \\leq D$ and some properties of the data are preserved.  \n",
    "The _Dimensionality Reduction_ function maps each sample from the high dimensional space to a sample in the low dimensional space.  \n",
    "\n",
    "Motivations for Dimensionality Reduction\n",
    " * **Feature Engineering**  \n",
    "   Dimensionality reduction may assist algorithms \"focus\" on the important relations between samples.  \n",
    "   Specifically, for High Dimensional Data it may reduce issues caused by \"Curse of Dimensionality\" and make the distance useful.  \n",
    "   <font color='magenta'>Example</font>: A common synergy is _Dimensionality Reduction_ followed by _Clustering_.  \n",
    "   <font color='magenta'>Example</font>: Using PCA to enhance the data SNR.\n",
    " * **Visualization**  \n",
    "   High Dimensional data can not be visualized geometrically.  \n",
    "   Yet such analysis is important in the _EDA_ and _Results Analysis_.  \n",
    "   _Dimensionality Reduction_ to a 2D / 3D, with the assumption the important relations are well kept in the process, may assist with the analysis.\n",
    " * **Run Time Optimization**  \n",
    "   Most algorithms have a run time complexity dependency on the dimension of the data.  \n",
    "   Dimensionality reduction, by nature, will accelerate such cases.  \n",
    "   <font color='magenta'>Example</font>: Using PCA to reduce 50% of the dimensions while preserving 95% of the energy.\n",
    "\n",
    "Broadly, _Dimensionality Reduction_ is split into 2 approaches:\n",
    "\n",
    " * Linear  \n",
    "   The low dimension data is a linear / affine function of the high dimensional data: $\\boldsymbol{z}_{i} = \\boldsymbol{W} \\boldsymbol{x}_{i} + \\boldsymbol{b}$.  \n",
    "   The matrix and bias vector are the solution of the algorithm.  \n",
    "   Methods such as [Principle Component Analysis](https://en.wikipedia.org/wiki/Principal_component_analysis) (PCA), [Independent Component Analysis](https://en.wikipedia.org/wiki/Independent_component_analysis) ICA, [Canonical Correlation Analysis](https://en.wikipedia.org/wiki/Canonical_correlation) (CCA).\n",
    " * Non Linear  \n",
    "   The low dimension sample is a non linear function of the high dimension sample.  \n",
    "   Methods such as [Kernel PCA](https://en.wikipedia.org/wiki/Kernel_principal_component_analysis), [MultiDimensional Scaling](https://en.wikipedia.org/wiki/Multidimensional_scaling).  \n",
    "   Some Non Linear Methods are called _Manifold Learning_ which try to learn the local metric of the data: Laplacian Eigenmaps, [T-SNE](https://en.wikipedia.org/wiki/T-distributed_stochastic_neighbor_embedding) and UMAP.\n",
    "\n",
    "<br>\n",
    "\n",
    "* <font color='brown'>(**#**)</font> One may apply Dimensionality Reduction on labeled data.  \n",
    "There are specialized algorithms for such case, the most known is the [Linear Discriminant Analysis](https://en.wikipedia.org/wiki/Linear_discriminant_analysis) (LDA) algorithm.\n",
    "* <font color='brown'>(**#**)</font> _Dimensionality Reduction_ is potentially the _Optimal Feature Engineering_.  \n",
    "* <font color='brown'>(**#**)</font> _Feature Selection_ is also a type of _Dimensionality Reduction_.\n",
    "* <font color='brown'>(**#**)</font> One may use _Auto Encoder_ like models to apply Deep Learning based _Dimensionality Reduction_."
   ]
  },
  {
   "cell_type": "markdown",
   "metadata": {},
   "source": [
    "### Comparison of Methods\n",
    "\n",
    "|                     \t| PCA                          \t| t-SNE (SciKit Learn) \t| UMAP                             \t| Remarks                                                              \t|\n",
    "|---------------------\t|------------------------------\t|----------------------\t|----------------------------------\t|----------------------------------------------------------------------\t|\n",
    "| Type                \t| Linear                       \t| Non Linear           \t| Non Linear                       \t| `t-SNE` and `UMAP` are Manifold Learning based on Neighborhood Graph \t|\n",
    "| Objective           \t| Maximize Energy Preservation \t| Random Walk Graph    \t| Uniform Distance on the Manifold \t|                                                                      \t|\n",
    "| Preserves           \t| Global                       \t| Local                \t| Local + Global (Some)            \t| `UMAP` global preservation is mainly due to better initialization     |\n",
    "| Speed               \t| ✈ Fast                       \t| 🐢 Slow               \t| 🚗 Medium                         \t| `OpenTSNE` is faster than `UMAP`                        \t|\n",
    "| Use in ML Pipeline  \t| ✅ Yes                        \t| ❌ No                 \t| ✅ Yes                            \t| `OpenTSNE` adds _Out of Sample_ support (`transform()` method)       \t|\n",
    "| Clustering Friendly \t| ❌ No                         \t| ✅ Yes                \t| ✅ Yes                            \t| Clustering for the EDA phase                                         \t|\n",
    "| Interpretability    \t| ✅ High                       \t| ❌ Low                \t| ❌ Low                            \t|                                                                      \t|\n",
    "| Inverse Transform   \t| ✅ Yes                        \t| ❌ No                 \t| ❌ No                             \t|                                                                      \t|\n",
    "\n",
    "\n",
    "* <font color='brown'>(**#**)</font> One may train / fit a _Parametric Model_ on the results of non parametric models (`t-SNE` / `UMAP`) in order to have _Out of Sample Support_.  \n",
    "  See [Laurens van der Maaten - Learning a Parametric Embedding by Preserving Local Structure](https://proceedings.mlr.press/v5/maaten09a.html) which is an extension to `t-SNE` by the `t-SNE` author."
   ]
  },
  {
   "cell_type": "code",
   "execution_count": null,
   "metadata": {},
   "outputs": [],
   "source": [
    "# Parameters\n",
    "\n",
    "# Dimensionality Reduction\n",
    "dataDim = 2\n",
    "numOutSampleSamples = 20\n",
    "\n",
    "# Visualization\n",
    "numImg = 5"
   ]
  },
  {
   "cell_type": "markdown",
   "metadata": {},
   "source": [
    "## Generate / Load Data\n",
    "\n",
    "The notebook used [SciKit Learn's Digits Dataset](https://scikit-learn.org/stable/modules/generated/sklearn.datasets.load_digits.html).  \n",
    "It is similar to the MNIST dataset where the images are smaller (8 x 8) and the number of samples is 1797."
   ]
  },
  {
   "cell_type": "code",
   "execution_count": null,
   "metadata": {},
   "outputs": [],
   "source": [
    "# Generate / Load Data\n",
    "\n",
    "mX, vY = load_digits(return_X_y = True)\n",
    "numSamples = mX.shape[0]\n",
    "numCls = len(np.unique(vY))\n",
    "\n",
    "print(f'The features data shape: {mX.shape}')\n",
    "print(f'The labels data shape: {vY.shape}')\n",
    "print(f'The unique values of the labels: {np.unique(vY)}')"
   ]
  },
  {
   "cell_type": "code",
   "execution_count": null,
   "metadata": {},
   "outputs": [],
   "source": [
    "# Plot the Data\n",
    "numImg = 3\n",
    "\n",
    "hF, _ = plt.subplots(numImg, numImg, figsize = (4, 4))\n",
    "hF = PlotMnistImages(mX, vY, numImg, tuImgSize = (8, 8), randomChoice = True, hF = hF)"
   ]
  },
  {
   "cell_type": "code",
   "execution_count": null,
   "metadata": {},
   "outputs": [],
   "source": [
    "# Plot the Labels Histogram\n",
    "hF, hA = plt.subplots(figsize = (8, 6))\n",
    "hA = PlotLabelsHistogram(vY, hA = hA);"
   ]
  },
  {
   "cell_type": "markdown",
   "metadata": {},
   "source": [
    "## Dimensionality Reduction (Manifold Learning) by PCA\n",
    "\n",
    "The [`PCA()`](https://scikit-learn.org/stable/modules/generated/sklearn.decomposition.PCA.html) class is part of SciKit's [`decomposition` module](https://scikit-learn.org/stable/api/sklearn.decomposition.html).  \n",
    "\n",
    "The PCA algorithm finds the directions which preserves most energy (Explain most variance) of the data.  \n",
    "Then it projects the data on those vectors.\n",
    "\n",
    "The main parameters:\n",
    "\n",
    " - `n_components` - Sets the number of dimensions og the low dimension data.  \n",
    "   If `n_components` set to a number in $\\left[ 0, 1 \\right)$ range the number of components will automatically calculated to keep `n_components` percent of the variance.\n",
    " - `whiten` - Ensures the transformed data is white and has unit variance in each direction. Usually not used as it will lose scaling information (Ratio of values between data)."
   ]
  },
  {
   "cell_type": "code",
   "execution_count": null,
   "metadata": {},
   "outputs": [],
   "source": [
    "# Dimensionality Reduction with PCA\n",
    "\n",
    "oDimRed = PCA(n_components = dataDim)\n",
    "mZ      = oDimRed.fit_transform(mX)\n",
    "\n",
    "print(f'The explained variance ratio by the first {dataDim} components: {oDimRed.explained_variance_ratio_}')\n",
    "print(f'The sum of the explained variance ratio by the first {dataDim} components: {np.sum(oDimRed.explained_variance_ratio_):0.2%}')"
   ]
  },
  {
   "cell_type": "code",
   "execution_count": null,
   "metadata": {},
   "outputs": [],
   "source": [
    "# Plot the PCA Result\n",
    "hF, hA = plt.subplots(figsize = (6, 6))\n",
    "PlotScatterData(mZ, vY, hA = hA)\n",
    "\n",
    "hA.set_title(f'PCA: Explained Variance: {np.sum(oDimRed.explained_variance_ratio_):0.2%}');"
   ]
  },
  {
   "cell_type": "code",
   "execution_count": null,
   "metadata": {},
   "outputs": [],
   "source": [
    "# Split Data\n",
    "vDataIdx, vOutOfSampleIdx = train_test_split(range(numSamples),test_size = numOutSampleSamples, random_state = seedNum, stratify = vY)"
   ]
  },
  {
   "cell_type": "code",
   "execution_count": null,
   "metadata": {},
   "outputs": [],
   "source": [
    "# Fit a Model\n",
    "mZData = oDimRed.fit_transform(mX[vDataIdx, :]) #<! In Sample Data\n",
    "mZOut = oDimRed.transform(mX[vOutOfSampleIdx, :]) #<! Out of Sample Data"
   ]
  },
  {
   "cell_type": "code",
   "execution_count": null,
   "metadata": {},
   "outputs": [],
   "source": [
    "# Out of Sample Data Results\n",
    "hF, hA = plt.subplots(figsize = (6, 6))\n",
    "PlotScatterData(mZData, vY[vDataIdx], hA = hA)\n",
    "for hChild in hA.get_children():\n",
    "    if isinstance(hChild, mpl.collections.PathCollection):\n",
    "        hChild.set_alpha(0.075)\n",
    "PlotScatterData(mZOut, vY[vOutOfSampleIdx], hA = hA)\n",
    "hA.set_title(f'PCA: In Sample and Out of Sample Data');\n",
    "hA.legend().set_visible(False)"
   ]
  },
  {
   "cell_type": "code",
   "execution_count": null,
   "metadata": {},
   "outputs": [],
   "source": [
    "# Explained Variance\n",
    "\n",
    "oDimRed = PCA(n_components = 1 - math.ulp(1.0)) #<! Number must less than 1\n",
    "mZ      = oDimRed.fit_transform(mX)\n",
    "\n",
    "print(f'The number of components to explain 100% variance: {oDimRed.n_components_}')"
   ]
  },
  {
   "cell_type": "markdown",
   "metadata": {},
   "source": [
    "* <font color='red'>(**?**)</font> Explain the number of components. What limits the number components?"
   ]
  },
  {
   "cell_type": "code",
   "execution_count": null,
   "metadata": {},
   "outputs": [],
   "source": [
    "# Plot the Variance per Component\n",
    "\n",
    "hF, hA = plt.subplots(figsize = (8, 6))\n",
    "hA.bar(range(1, len(oDimRed.explained_variance_ratio_) + 1), oDimRed.explained_variance_ratio_, width = 0.9, align = 'center')\n",
    "hA.set_xlabel('Component Index')\n",
    "hA.set_ylabel('Variance Explained')\n",
    "hA.set_title('Variance Explained by Each Component');"
   ]
  },
  {
   "cell_type": "code",
   "execution_count": null,
   "metadata": {},
   "outputs": [],
   "source": [
    "# Plot the Variance per Component\n",
    "\n",
    "hF, hA = plt.subplots(figsize = (8, 6))\n",
    "hA.bar(range(1, len(oDimRed.explained_variance_ratio_) + 1), oDimRed.explained_variance_ratio_, width = 0.9, align = 'center')\n",
    "hA.plot(range(1, len(oDimRed.explained_variance_ratio_) + 1), np.cumsum(oDimRed.explained_variance_ratio_), 'r-o', label = 'Cumulative Variance')\n",
    "hA.set_xlabel('Component Index')\n",
    "hA.set_ylabel('Variance Explained')\n",
    "hA.set_title('Variance Explained by Each Component');"
   ]
  },
  {
   "cell_type": "markdown",
   "metadata": {},
   "source": [
    "## Dimensionality Reduction (Manifold Learning) by UMAP\n",
    "\n",
    "![](https://i.imgur.com/VXW337r.png)\n",
    "<!-- ![](https://i.postimg.cc/P5X5kgfZ/Diagrams-UMAP002.png) -->\n",
    "\n",
    "The UMAP algorithm is available through the [`UMAP`](https://github.com/lmcinnes/umap) package.  \n",
    "It implements the known `fit()`, `transform()` API of SciKit Learn.\n",
    "\n",
    "The main parameters:\n",
    "\n",
    " - `n_components` - Sets the number of dimensions og the low dimension data.\n",
    " - `n_neighbors` - Balances between local structure (Small number) and global structure (Large number).\n",
    " - `min_dist` - Sets the density of the points in low dimension.\n",
    " - `metric` - Defines the metric to use to evaluate the distance between samples."
   ]
  },
  {
   "cell_type": "code",
   "execution_count": null,
   "metadata": {},
   "outputs": [],
   "source": [
    "# Plot Dimensionality Reduction Results\n",
    "\n",
    "def PlotDimRedResults( mX: NDArray, vL: NDArray, /, *, numNeighbors: int = 15, minDist: float = 0.1, metricType: str = 'euclidean' ) -> None:\n",
    "    \n",
    "    oDimRed = UMAP(n_components = dataDim, n_neighbors = numNeighbors, min_dist = minDist, metric = metricType)\n",
    "    mZ = oDimRed.fit_transform(mX)\n",
    "\n",
    "    hF, hA = plt.subplots(figsize = (6, 6))\n",
    "    PlotScatterData(mZ, vY, hA = hA)\n",
    "\n",
    "    hA.set_title(f'UMAP: numNeighbors = {numNeighbors}, minDist = {minDist}, metric = {metricType}')"
   ]
  },
  {
   "cell_type": "code",
   "execution_count": null,
   "metadata": {},
   "outputs": [],
   "source": [
    "# Auxiliary Function\n",
    "\n",
    "hPlotDimRedResults = lambda numNeighbors, minDist, metricType: PlotDimRedResults(mX, vY, numNeighbors = numNeighbors, minDist = minDist, metricType = metricType)"
   ]
  },
  {
   "cell_type": "code",
   "execution_count": null,
   "metadata": {},
   "outputs": [],
   "source": [
    "# Interactive Plot\n",
    "numNeighborsSlider = IntSlider(min = 2, max = 21, step = 1, value = 15, continuous_update = False, layout = Layout(width = '30%'))\n",
    "minDistSlider = FloatSlider(min = 0.05, max = 1.0, step = 0.05, value = 0.1, continuous_update = False, layout = Layout(width = '30%'))\n",
    "metricDropdown = Dropdown(options = ['euclidean', 'manhattan', 'cosine'], continuous_update = False, value = 'euclidean', layout = Layout(width = '30%'))\n",
    "interact(hPlotDimRedResults, numNeighbors = numNeighborsSlider, minDist = minDistSlider, metricType = metricDropdown);"
   ]
  },
  {
   "cell_type": "markdown",
   "metadata": {},
   "source": [
    "### Out of Sample Support  \n",
    "\n",
    "Many of the advanced Manifold Learning methods are _Non Parameteric_ (t-SNE, UMAP).  \n",
    "Hence, their ability to support _Out of Sample_ data is tricky.  \n",
    "\n",
    "One way to overcome it is to built a _Regression Model_ to learn a parametric model of the transformation.  \n",
    "Yet _UMAP_ offers a native support of Out of Sample data (So does `OpenTSNE`) wth its `transform()` method."
   ]
  },
  {
   "cell_type": "code",
   "execution_count": null,
   "metadata": {},
   "outputs": [],
   "source": [
    "# Split Data\n",
    "vDataIdx, vOutOfSampleIdx = train_test_split(range(numSamples),test_size = numOutSampleSamples, random_state = seedNum, stratify = vY)"
   ]
  },
  {
   "cell_type": "code",
   "execution_count": null,
   "metadata": {},
   "outputs": [],
   "source": [
    "# Fit a Model\n",
    "oDimRed = UMAP(n_components = dataDim, n_neighbors = 10, min_dist = 0.25, metric = 'euclidean')\n",
    "mZData = oDimRed.fit_transform(mX[vDataIdx, :]) #<! In Sample Data\n",
    "mZOut = oDimRed.transform(mX[vOutOfSampleIdx, :]) #<! Out of Sample Data"
   ]
  },
  {
   "cell_type": "code",
   "execution_count": null,
   "metadata": {},
   "outputs": [],
   "source": [
    "# Out of Sample Data Results\n",
    "hF, hA = plt.subplots(figsize = (6, 6))\n",
    "PlotScatterData(mZData, vY[vDataIdx], hA = hA)\n",
    "for hChild in hA.get_children():\n",
    "    if isinstance(hChild, mpl.collections.PathCollection):\n",
    "        hChild.set_alpha(0.025)\n",
    "PlotScatterData(mZOut, vY[vOutOfSampleIdx], hA = hA)\n",
    "hA.set_title(f'UMAP: In Sample and Out of Sample Data');\n",
    "hA.legend().set_visible(False)"
   ]
  },
  {
   "cell_type": "code",
   "execution_count": null,
   "metadata": {},
   "outputs": [],
   "source": [
    "# Image for Slides\n",
    "\n",
    "# import seaborn as sns\n",
    "# sns.set_theme(style = 'ticks', context = 'talk')\n",
    "# plt.style.use('dark_background') \n",
    "\n",
    "# hF, hA = plt.subplots(figsize = (6, 6))\n",
    "# lLegLab = ['_Ignore'] * numCls\n",
    "# PlotScatterData(mZData, vY[vDataIdx], lLabel = lLegLab, hA = hA)\n",
    "# for hChild in hA.get_children():\n",
    "#     if isinstance(hChild, mpl.collections.PathCollection):\n",
    "#         hChild.set_alpha(0.035)\n",
    "# PlotScatterData(mZOut, vY[vOutOfSampleIdx], hA = hA)\n",
    "# # hA.set_title(f'UMAP: In Sample and Out of Sample Data');\n",
    "# hA.legend(loc = 'upper center', ncol = numCls, fontsize = '6')\n",
    "# hA.set_xticks([])\n",
    "# hA.set_yticks([])\n",
    "# hF.set_tight_layout(True)\n",
    "\n",
    "# hF.savefig('TMP.svg', transparent = True)"
   ]
  }
 ],
 "metadata": {
  "kernelspec": {
   "display_name": "Python 3",
   "language": "python",
   "name": "python3"
  },
  "language_info": {
   "codemirror_mode": {
    "name": "ipython",
    "version": 3
   },
   "file_extension": ".py",
   "mimetype": "text/x-python",
   "name": "python",
   "nbconvert_exporter": "python",
   "pygments_lexer": "ipython3",
   "version": "3.13.7"
  },
  "toc": {
   "base_numbering": 1,
   "nav_menu": {},
   "number_sections": false,
   "sideBar": true,
   "skip_h1_title": false,
   "title_cell": "Table of Contents",
   "title_sidebar": "Contents",
   "toc_cell": false,
   "toc_position": {},
   "toc_section_display": true,
   "toc_window_display": true
  },
  "varInspector": {
   "cols": {
    "lenName": 16,
    "lenType": 16,
    "lenVar": 40
   },
   "kernels_config": {
    "python": {
     "delete_cmd_postfix": "",
     "delete_cmd_prefix": "del ",
     "library": "var_list.py",
     "varRefreshCmd": "print(var_dic_list())"
    },
    "r": {
     "delete_cmd_postfix": ") ",
     "delete_cmd_prefix": "rm(",
     "library": "var_list.r",
     "varRefreshCmd": "cat(var_dic_list()) "
    }
   },
   "types_to_exclude": [
    "module",
    "function",
    "builtin_function_or_method",
    "instance",
    "_Feature"
   ],
   "window_display": false
  }
 },
 "nbformat": 4,
 "nbformat_minor": 4
}
