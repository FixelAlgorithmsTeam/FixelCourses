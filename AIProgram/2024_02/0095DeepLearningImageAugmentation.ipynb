{
 "cells": [
  {
   "attachments": {},
   "cell_type": "markdown",
   "metadata": {},
   "source": [
    "[![Fixel Algorithms](https://i.imgur.com/AqKHVZ0.png)](https://fixelalgorithms.gitlab.io/)\n",
    "\n",
    "# AI Program\n",
    "\n",
    "## Machine Learning - Deep Learning - Image Augmentation\n",
    "\n",
    "> Notebook by:\n",
    "> - Royi Avital RoyiAvital@fixelalgorithms.com\n",
    "\n",
    "## Revision History\n",
    "\n",
    "| Version | Date       | User        |Content / Changes                                                   |\n",
    "|---------|------------|-------------|--------------------------------------------------------------------|\n",
    "| 1.0.000 | 02/06/2024 | Royi Avital | First version                                                      |"
   ]
  },
  {
   "attachments": {},
   "cell_type": "markdown",
   "metadata": {},
   "source": [
    "[![Open In Colab](https://colab.research.google.com/assets/colab-badge.svg)](https://colab.research.google.com/github/FixelAlgorithmsTeam/FixelCourses/blob/master/AIProgram/2024_02/0095DeepLearningImageAugmentation.ipynb)"
   ]
  },
  {
   "cell_type": "code",
   "execution_count": null,
   "metadata": {
    "ExecuteTime": {
     "end_time": "2022-02-02T09:30:06.492269Z",
     "start_time": "2022-02-02T09:30:06.220934Z"
    }
   },
   "outputs": [],
   "source": [
    "# Import Packages\n",
    "\n",
    "# General Tools\n",
    "import numpy as np\n",
    "import scipy as sp\n",
    "import pandas as pd\n",
    "\n",
    "# Machine Learning\n",
    "\n",
    "# Deep Learning\n",
    "import torch\n",
    "import torch.nn            as nn\n",
    "from torch.utils.tensorboard import SummaryWriter\n",
    "import torchinfo\n",
    "import torchvision\n",
    "from torchvision.transforms import v2 as TorchVisionTrns\n",
    "\n",
    "# Image Processing & Computer Vision\n",
    "import skimage as ski\n",
    "\n",
    "# Miscellaneous\n",
    "import math\n",
    "import os\n",
    "from platform import python_version\n",
    "import random\n",
    "import time\n",
    "\n",
    "# Typing\n",
    "from typing import Any, Callable, Dict, Generator, List, Optional, Self, Set, Tuple, Union\n",
    "\n",
    "# Visualization\n",
    "import matplotlib as mpl\n",
    "import matplotlib.pyplot as plt\n",
    "import seaborn as sns\n",
    "\n",
    "# Jupyter\n",
    "from IPython import get_ipython\n",
    "from IPython.display import HTML, Image\n",
    "from IPython.display import display\n",
    "from ipywidgets import Dropdown, FloatSlider, interact, IntSlider, Layout, SelectionSlider\n",
    "from ipywidgets import interact"
   ]
  },
  {
   "attachments": {},
   "cell_type": "markdown",
   "metadata": {},
   "source": [
    "## Notations\n",
    "\n",
    "* <font color='red'>(**?**)</font> Question to answer interactively.\n",
    "* <font color='blue'>(**!**)</font> Simple task to add code for the notebook.\n",
    "* <font color='green'>(**@**)</font> Optional / Extra self practice.\n",
    "* <font color='brown'>(**#**)</font> Note / Useful resource / Food for thought.\n",
    "\n",
    "Code Notations:\n",
    "\n",
    "```python\n",
    "someVar    = 2; #<! Notation for a variable\n",
    "vVector    = np.random.rand(4) #<! Notation for 1D array\n",
    "mMatrix    = np.random.rand(4, 3) #<! Notation for 2D array\n",
    "tTensor    = np.random.rand(4, 3, 2, 3) #<! Notation for nD array (Tensor)\n",
    "tuTuple    = (1, 2, 3) #<! Notation for a tuple\n",
    "lList      = [1, 2, 3] #<! Notation for a list\n",
    "dDict      = {1: 3, 2: 2, 3: 1} #<! Notation for a dictionary\n",
    "oObj       = MyClass() #<! Notation for an object\n",
    "dfData     = pd.DataFrame() #<! Notation for a data frame\n",
    "dsData     = pd.Series() #<! Notation for a series\n",
    "hObj       = plt.Axes() #<! Notation for an object / handler / function handler\n",
    "```\n",
    "\n",
    "### Code Exercise\n",
    "\n",
    " - Single line fill\n",
    "\n",
    " ```python\n",
    " vallToFill = ???\n",
    " ```\n",
    "\n",
    " - Multi Line to Fill (At least one)\n",
    "\n",
    " ```python\n",
    " # You need to start writing\n",
    " ????\n",
    " ```\n",
    "\n",
    " - Section to Fill\n",
    "\n",
    "```python\n",
    "#===========================Fill This===========================#\n",
    "# 1. Explanation about what to do.\n",
    "# !! Remarks to follow / take under consideration.\n",
    "mX = ???\n",
    "\n",
    "???\n",
    "#===============================================================#\n",
    "```"
   ]
  },
  {
   "cell_type": "code",
   "execution_count": null,
   "metadata": {},
   "outputs": [],
   "source": [
    "# Configuration\n",
    "# %matplotlib inline\n",
    "\n",
    "seedNum = 512\n",
    "np.random.seed(seedNum)\n",
    "random.seed(seedNum)\n",
    "\n",
    "# Matplotlib default color palette\n",
    "lMatPltLibclr = ['#1f77b4', '#ff7f0e', '#2ca02c', '#d62728', '#9467bd', '#8c564b', '#e377c2', '#7f7f7f', '#bcbd22', '#17becf']\n",
    "# sns.set_theme() #>! Apply SeaBorn theme\n",
    "\n",
    "runInGoogleColab = 'google.colab' in str(get_ipython())\n",
    "\n",
    "# Improve performance by benchmarking\n",
    "torch.backends.cudnn.benchmark = True\n",
    "\n",
    "# Reproducibility (Per PyTorch Version on the same device)\n",
    "# torch.manual_seed(seedNum)\n",
    "# torch.backends.cudnn.deterministic = True\n",
    "# torch.backends.cudnn.benchmark     = False #<! Makes things slower\n"
   ]
  },
  {
   "cell_type": "code",
   "execution_count": null,
   "metadata": {},
   "outputs": [],
   "source": [
    "# Constants\n",
    "\n",
    "FIG_SIZE_DEF    = (8, 8)\n",
    "ELM_SIZE_DEF    = 50\n",
    "CLASS_COLOR     = ('b', 'r')\n",
    "EDGE_COLOR      = 'k'\n",
    "MARKER_SIZE_DEF = 10\n",
    "LINE_WIDTH_DEF  = 2\n",
    "\n",
    "DATA_FOLDER_PATH    = 'Data'\n",
    "TENSOR_BOARD_BASE   = 'TB'\n"
   ]
  },
  {
   "cell_type": "code",
   "execution_count": null,
   "metadata": {},
   "outputs": [],
   "source": [
    "# Download Auxiliary Modules for Google Colab\n",
    "if runInGoogleColab:\n",
    "    !wget https://raw.githubusercontent.com/FixelAlgorithmsTeam/FixelCourses/master/AIProgram/2024_02/DataManipulation.py\n",
    "    !wget https://raw.githubusercontent.com/FixelAlgorithmsTeam/FixelCourses/master/AIProgram/2024_02/DataVisualization.py\n",
    "    !wget https://raw.githubusercontent.com/FixelAlgorithmsTeam/FixelCourses/master/AIProgram/2024_02/DeepLearningPyTorch.py"
   ]
  },
  {
   "cell_type": "code",
   "execution_count": null,
   "metadata": {},
   "outputs": [],
   "source": [
    "# Courses Packages\n",
    "\n",
    "from DataVisualization import PlotLabelsHistogram, PlotMnistImages\n",
    "from DeepLearningPyTorch import NNMode\n",
    "from DeepLearningPyTorch import RunEpoch\n"
   ]
  },
  {
   "cell_type": "code",
   "execution_count": null,
   "metadata": {},
   "outputs": [],
   "source": [
    "# General Auxiliary Functions\n",
    "\n",
    "def PlotTransform( lImages: List[torchvision.tv_tensors._image.Image], titleStr: str, bAxis = False ) -> plt.Figure:\n",
    "    \n",
    "    numImg = len(lImages)\n",
    "    axWidh = 3\n",
    "    \n",
    "    lWidth  = [lImages[ii].shape[-1] for ii in range(numImg)]\n",
    "    hF, _ = plt.subplots(nrows = 1, ncols = numImg, figsize = (numImg * axWidh, 5), gridspec_kw = {'width_ratios': lWidth})\n",
    "    for ii, hA in enumerate(hF.axes):\n",
    "        mI = torch.permute(lImages[ii], (1, 2, 0))\n",
    "        hA.imshow(mI, cmap = 'gray')\n",
    "        hA.set_title(f'{ii}')\n",
    "        hA.axis('on') if bAxis else hA.axis('off')\n",
    "    \n",
    "    hF.suptitle(titleStr)\n",
    "    \n",
    "    return hF\n",
    "\n",
    "\n",
    "def PlotBeta( α: float ) -> None:\n",
    "    \n",
    "    vX = np.linspace(0, 1, 1001)\n",
    "    vP = sp.stats.beta.pdf(vX, α, α)\n",
    "\n",
    "    hF, hA = plt.subplots(figsize = (8, 6))\n",
    "\n",
    "\n",
    "    hA.plot (vX, vP, 'b', lw=2)\n",
    "    hA.set_title(f'Beta($\\\\alpha={α:0.3f}$, $\\\\beta={α:0.3f}$)')\n",
    "    hA.set_ylim([0, 5])\n",
    "    hA.grid();\n",
    "    # hF.show()\n",
    "\n",
    "def PlotAug( λ: Union[float, torch.Tensor], mI1: np.ndarray, mI2: np.ndarray, augStr: str, λVal: float ) -> None:\n",
    "    mI = λ * mI1 + (1 - λ) * mI2 #<! Supports λ as a mask\n",
    "    hF, vHa = plt.subplots(nrows = 1, ncols = 2, figsize = (8, 5))\n",
    "\n",
    "    hA = vHa[0]\n",
    "    hA.imshow(mI.permute(1, 2, 0))\n",
    "    hA.set_title(f'{augStr} ($\\\\lambda = {λVal:0.3f}$)')\n",
    "\n",
    "    hA = vHa[1]\n",
    "    hA.stem([0, 1], [λVal, 1 - λVal])\n",
    "    hA.set_title(f'{augStr} Label ($\\\\lambda = {λVal:0.3f}$)')\n",
    "    hA.set_xlabel('Class')\n",
    "    hA.set_ylabel('Probability')\n",
    "    hA.set_ylim([0, 1.05])\n"
   ]
  },
  {
   "cell_type": "markdown",
   "metadata": {},
   "source": [
    "## Image Augmentation - CutOut, MixUp, CutMix\n",
    "\n",
    "Several _image augmentation techniques_ have been developed to farther assist the generalization of teh models.  \n",
    "Some of the techniques involves manipulation of 2 images and the labels.\n",
    "\n",
    " - CutOut  \n",
    "   Randomly removes a segment (Rectangle) of the image.  \n",
    "   One may think of it as a \"Dropout\" layer on the input.  \n",
    "   See [Improved Regularization of Convolutional Neural Networks with Cutout](https://arxiv.org/abs/1708.04552).\n",
    " - MixUp  \n",
    "   Alpha channel like mix of 2 images.  \n",
    "   It also mixes the labels.  \n",
    "   See [MixUp: Beyond Empirical Risk Minimization](https://arxiv.org/abs/1710.09412).\n",
    " - CutMix  \n",
    "   Mixes cut of the images without blending.\n",
    "   It also mixes the labels.  \n",
    "   See [CutMix: Regularization Strategy to Train Strong Classifiers with Localizable Features](https://arxiv.org/abs/1905.04899).\n",
    "\n",
    "<!-- ![](https://i.imgur.com/Bapq0uB.png)   -->\n",
    "<img src=\"https://i.imgur.com/Bapq0uB.png\" width=\"600\"/></br>\n",
    "**Credit**: [Leonie Monigatti - Cutout, Mixup, and Cutmix: Implementing Modern Image Augmentations in PyTorch](https://towardsdatascience.com/cutout-mixup-and-cutmix-implementing-modern-image-augmentations-in-pytorch-a9d7db3074ad).\n",
    "\n",
    "This notebooks presents:\n",
    "\n",
    " * Working `torchvision.transforms` module.\n",
    " * Applying: `CutOut`, `MixUp`, `CutMix`.\n",
    "\n",
    "\n",
    "This notebook augments both the image data and the labels.\n",
    "\n",
    "</br>\n",
    "\n",
    "* <font color='brown'>(**#**)</font> PyTorch Tutorial: [How to Use CutMix and MixUp](https://pytorch.org/vision/main/auto_examples/transforms/plot_cutmix_mixup.html).\n",
    "* <font color='brown'>(**#**)</font> Augmentation can be thought as the set of operation the model should be insensitive to.  \n",
    "  For instance, if it should be insensitive to shift, the same image should be trained on with different shifts.\n",
    "* <font color='brown'>(**#**)</font> PyTorch Vision is migrating its transforms module from `v1` to `v2`.  \n",
    "  This notebook will focus on `v2`.\n",
    "* <font color='brown'>(**#**)</font> While the notebook shows image augmentation in the context of Deep Learning for Computer Vision, the [_Data Augmentation_](https://en.wikipedia.org/wiki/Data_augmentation) concept can be utilized for other tasks as well.  \n",
    "  For instance, for _Audio Processing_ on could apply some noise addition, pitch change, filters, etc...\n",
    "* <font color='brown'>(**#**)</font> The are packages which specialize on image data augmentation: [Kornia](https://github.com/kornia/kornia), [Albumentations](https://github.com/albumentations-team/albumentations) (Considered to be the [fastest](https://github.com/albumentations-team/albumentations#benchmarking-results)), [ImgAug](https://github.com/aleju/imgaug) (Deprecated), [AugLy](https://github.com/facebookresearch/AugLy) (Audio, image, text and video)."
   ]
  },
  {
   "cell_type": "code",
   "execution_count": null,
   "metadata": {},
   "outputs": [],
   "source": [
    "# Parameters\n",
    "\n",
    "# Data\n",
    "imgFile1Url = r'https://raw.githubusercontent.com/FixelAlgorithmsTeam/FixelCourses/master/DeepLearningMethods/09_TipsAndTricks/img1.jpg'\n",
    "imgFile2Url = r'https://raw.githubusercontent.com/FixelAlgorithmsTeam/FixelCourses/master/DeepLearningMethods/09_TipsAndTricks/img2.jpg'\n",
    "\n",
    "img1Label = 0\n",
    "img2Label = 1\n",
    "\n",
    "# Model\n",
    "\n",
    "# Training\n",
    "\n",
    "# Visualization\n"
   ]
  },
  {
   "cell_type": "markdown",
   "metadata": {},
   "source": [
    "## Generate / Load Data\n",
    "\n"
   ]
  },
  {
   "cell_type": "code",
   "execution_count": null,
   "metadata": {},
   "outputs": [],
   "source": [
    "# Load Data\n",
    "\n",
    "mI1 = ski.io.imread(imgFile1Url)\n",
    "\n",
    "# Image Dimensions\n",
    "print(f'Image Dimensions: {mI1.shape[:2]}')\n",
    "print(f'Image Number of Channels: {mI1.shape[2]}')\n",
    "print(f'Image Element Type: {mI1.dtype}')"
   ]
  },
  {
   "cell_type": "code",
   "execution_count": null,
   "metadata": {},
   "outputs": [],
   "source": [
    "# Load Data\n",
    "\n",
    "mI2 = ski.io.imread(imgFile2Url)\n",
    "\n",
    "# Image Dimensions\n",
    "print(f'Image Dimensions: {mI2.shape[:2]}')\n",
    "print(f'Image Number of Channels: {mI2.shape[2]}')\n",
    "print(f'Image Element Type: {mI2.dtype}')"
   ]
  },
  {
   "cell_type": "markdown",
   "metadata": {},
   "source": [
    "* <font color='brown'>(**#**)</font> The image is a _NumPy_ array. PyTorch default image loader is using [`PIL`](https://github.com/python-pillow/Pillow) (Pillow, as its optimized version) where the image is the PIL class."
   ]
  },
  {
   "cell_type": "markdown",
   "metadata": {},
   "source": [
    "### Plot the Data"
   ]
  },
  {
   "cell_type": "code",
   "execution_count": null,
   "metadata": {},
   "outputs": [],
   "source": [
    "# Plot the Data\n",
    "\n",
    "hF, hA = plt.subplots(figsize = (4, 6))\n",
    "\n",
    "hA.imshow(mI1)\n",
    "hA.tick_params(axis = 'both', left = False, top = False, right = False, bottom = False, \n",
    "               labelleft = False, labeltop = False, labelright = False, labelbottom = False)\n",
    "hA.grid(False)\n",
    "hA.set_title('Input Image 1');\n"
   ]
  },
  {
   "cell_type": "code",
   "execution_count": null,
   "metadata": {},
   "outputs": [],
   "source": [
    "# Plot the Data\n",
    "\n",
    "hF, hA = plt.subplots(figsize = (4, 6))\n",
    "\n",
    "hA.imshow(mI2)\n",
    "hA.tick_params(axis = 'both', left = False, top = False, right = False, bottom = False, \n",
    "               labelleft = False, labeltop = False, labelright = False, labelbottom = False)\n",
    "hA.grid(False)\n",
    "hA.set_title('Input Image 2');"
   ]
  },
  {
   "cell_type": "code",
   "execution_count": null,
   "metadata": {},
   "outputs": [],
   "source": [
    "# Tensor Image (Scaled)\n",
    "\n",
    "oToImg = TorchVisionTrns.Compose([\n",
    "    TorchVisionTrns.ToImage(),\n",
    "    TorchVisionTrns.ToDtype(dtype = torch.float32, scale = True),\n",
    "])\n",
    "\n",
    "tI1 = oToImg(mI1)\n",
    "tI2 = oToImg(mI2)\n",
    "\n",
    "print(f'Tensor Type: {type(tI1)}')\n",
    "print(f'Tensor Dimensions: {tI1.shape}')\n",
    "print(f'Image Element Type: {tI1.dtype}')\n",
    "print(f'Image Minimum Value: {torch.min(tI1)}')\n",
    "print(f'Image Maximum Value: {torch.max(tI1)}')"
   ]
  },
  {
   "cell_type": "markdown",
   "metadata": {},
   "source": [
    "## Cut Out (Random Erasing)\n",
    "\n",
    "Randomly erases a rectangle on the image.  \n",
    "Assists with regularization of the model with the intuition it works like a \"Dropout\" layer on the input.\n",
    "\n",
    "* <font color='brown'>(**#**)</font> [Random Erasing Data Augmentation](https://arxiv.org/abs/1708.04896) ([Source Code](https://github.com/zhunzhong07/Random-Erasing)).\n",
    "* <font color='brown'>(**#**)</font> [Improved Regularization of Convolutional Neural Networks with Cutout](https://arxiv.org/abs/1708.04552).\n",
    "* <font color='brown'>(**#**)</font> When using `value = 'random'` on float tensor it generates Gaussian Noise.\n",
    "\n"
   ]
  },
  {
   "cell_type": "code",
   "execution_count": null,
   "metadata": {},
   "outputs": [],
   "source": [
    "# RandomErasing\n",
    "oTran = TorchVisionTrns.RandomErasing(p = 1, value = 0)\n",
    "\n",
    "lTrnImg = [tI1] + [oTran(tI1) for _ in range(6)]\n",
    "hF = PlotTransform(lTrnImg, 'RandomErasing', True)"
   ]
  },
  {
   "cell_type": "code",
   "execution_count": null,
   "metadata": {},
   "outputs": [],
   "source": [
    "# RandomErasing\n",
    "oTran = TorchVisionTrns.RandomErasing(p = 1, value = 'random')\n",
    "\n",
    "lTrnImg = [tI2] + [oTran(tI2) for _ in range(6)]\n",
    "hF = PlotTransform(lTrnImg, 'RandomErasing', True)"
   ]
  },
  {
   "cell_type": "markdown",
   "metadata": {},
   "source": [
    "## MixUp\n",
    "\n",
    "Samples a parameter $\\lambda$ from a [Beta Distribution](https://en.wikipedia.org/wiki/Beta_distribution):\n",
    "\n",
    "$$ \\lambda \\sim \\text{Beta} \\left( \\alpha, \\alpha \\right), \\qquad \\alpha \\in \\left[ 0, 1 \\right]$$\n",
    "\n",
    "Using teh parameter the image and label is adjusted:\n",
    "\n",
    "$$\n",
    "\\begin{align*}\n",
    "\\hat{\\boldsymbol{x}} & = \\lambda \\boldsymbol{x}_{i} + \\left( 1 - \\lambda \\right) \\boldsymbol{x}_{j} \\\\\n",
    "\\hat{\\boldsymbol{y}} & = \\lambda \\boldsymbol{y}_{i} + \\left( 1 - \\lambda \\right) \\boldsymbol{y}_{j} \\\\\n",
    "\\end{align*}\n",
    "$$\n",
    "\n",
    "Where $\\boldsymbol{x}_{i}, \\boldsymbol{x}_{j}$ are 2 input vectors and $\\boldsymbol{y}_{i}, \\boldsymbol{y}_{j}$ are 2 _one hot_ label encoding.\n",
    "\n",
    "* <font color='brown'>(**#**)</font> [MixUp: Beyond Empirical Risk Minimization](https://arxiv.org/abs/1710.09412).\n",
    "\n"
   ]
  },
  {
   "cell_type": "markdown",
   "metadata": {},
   "source": [
    "### Beta Distribution"
   ]
  },
  {
   "cell_type": "code",
   "execution_count": null,
   "metadata": {},
   "outputs": [],
   "source": [
    "# Beta Distribution\n",
    "\n",
    "interact(PlotBeta, α = FloatSlider(min = 0.01, max = 0.99, step = 0.01, value = 0.5, layout = Layout(width = '30%')));"
   ]
  },
  {
   "cell_type": "code",
   "execution_count": null,
   "metadata": {},
   "outputs": [],
   "source": [
    "# MixUp\n",
    "oTran = TorchVisionTrns.Compose([\n",
    "    TorchVisionTrns.ToImage(),\n",
    "    TorchVisionTrns.ToDtype(dtype = torch.float32, scale = True),\n",
    "    TorchVisionTrns.Resize(224),\n",
    "    TorchVisionTrns.CenterCrop(224),\n",
    "])\n",
    "\n",
    "tI1 = oTran(mI1)\n",
    "tI2 = oTran(mI2)\n",
    "\n",
    "hPlotMixUp = lambda λ: PlotAug(λ, tI1, tI2, 'MixUp', λ)\n",
    "\n",
    "interact(hPlotMixUp, λ = FloatSlider(min = 0.0, max = 1.0, step = 0.05, value = 0.0, layout = Layout(width = '30%')));"
   ]
  },
  {
   "cell_type": "markdown",
   "metadata": {},
   "source": [
    "## CutMix\n",
    "\n",
    "Samples a parameter $\\lambda$ from a [Beta Distribution](https://en.wikipedia.org/wiki/Beta_distribution):\n",
    "\n",
    "$$ \\lambda \\sim \\text{Beta} \\left( \\alpha, \\alpha \\right), \\qquad \\alpha \\in \\left[ 0, 1 \\right]$$\n",
    "\n",
    "Using teh parameter the image and label is adjusted:\n",
    "\n",
    "$$\n",
    "\\begin{align*}\n",
    "\\hat{\\boldsymbol{X}} & = \\boldsymbol{M} \\boldsymbol{X}_{i} + \\left( \\boldsymbol{1} \\boldsymbol{1}^{T} - \\boldsymbol{M} \\right) \\boldsymbol{X}_{j} \\\\\n",
    "\\hat{\\boldsymbol{y}} & = \\lambda \\boldsymbol{y}_{i} + \\left( 1 - \\lambda \\right) \\boldsymbol{y}_{j} \\\\\n",
    "\\end{align*}\n",
    "$$\n",
    "\n",
    "Where $\\boldsymbol{X}_{i}, \\boldsymbol{X}_{j}$ are 2 input images of size $H \\times W$ and $\\boldsymbol{y}_{i}, \\boldsymbol{y}_{j}$ are 2 _one hot_ label encoding.  \n",
    "The data mask, $\\boldsymbol{M}$, is built by the bounding box $\\boldsymbol{b} = {\\left[ x, y, w, h \\right]}^{T}$:\n",
    "\n",
    "$$\n",
    "x \\sim \\mathcal{U} \\left[ 0, W \\right], y \\sim \\mathcal{U} \\left[ 0, H \\right], w = \\sqrt{1 - \\lambda} W, h = \\sqrt{1 - \\lambda} H\n",
    "$$\n",
    "\n",
    "\n",
    "* <font color='brown'>(**#**)</font> Some clipping might be needed to impose a valid bounding box.\n",
    "* <font color='brown'>(**#**)</font> [CutMix: Regularization Strategy to Train Strong Classifiers with Localizable Features](https://arxiv.org/abs/1905.04899).\n",
    "\n"
   ]
  },
  {
   "cell_type": "code",
   "execution_count": null,
   "metadata": {},
   "outputs": [],
   "source": [
    "# Generate Random Box\n",
    "\n",
    "def RandBox( imgW: int, imgH: int, λ: float ) -> Tuple[int, int, int, int]:\n",
    "\n",
    "    xCenter = np.random.randint(imgW)\n",
    "    yCenter = np.random.randint(imgH)\n",
    "    \n",
    "    ratio = np.sqrt (1 - λ)\n",
    "    w     = np.int32(imgW * ratio)\n",
    "    h     = np.int32(imgH * ratio)\n",
    "\n",
    "    xLow  = np.maximum(xCenter - w // 2, 0)\n",
    "    yLow  = np.maximum(yCenter - h // 2, 0)\n",
    "    xHigh = np.minimum(xCenter + w // 2, imgW)\n",
    "    yHigh = np.minimum(yCenter + h // 2, imgH)\n",
    "\n",
    "    return xLow, yLow, xHigh, yHigh"
   ]
  },
  {
   "cell_type": "code",
   "execution_count": null,
   "metadata": {},
   "outputs": [],
   "source": [
    "# Generate Mask\n",
    "\n",
    "def GenMask( imgW: int, imgH: int, λ: float ) -> torch.Tensor:\n",
    "\n",
    "    mM = torch.ones((imgH, imgW))\n",
    "    xLow, yLow, xHigh, yHigh = RandBox(imgW, imgH, λ)\n",
    "\n",
    "    mM[yLow:yHigh, xLow:xHigh] = 0.0\n",
    "\n",
    "    return mM"
   ]
  },
  {
   "cell_type": "code",
   "execution_count": null,
   "metadata": {},
   "outputs": [],
   "source": [
    "# CutMix\n",
    "\n",
    "hPlotMixUp = lambda λ: PlotAug(torch.permute(GenMask(224, 224, λ)[:, :, None], (2, 1, 0)), tI1, tI2, 'CutMix', λ)\n",
    "\n",
    "interact(hPlotMixUp, λ = FloatSlider(min = 0.0, max = 1.0, step = 0.05, value = 0.0, layout = Layout(width = '30%')));"
   ]
  }
 ],
 "metadata": {
  "kernelspec": {
   "display_name": "Python 3",
   "language": "python",
   "name": "python3"
  },
  "language_info": {
   "codemirror_mode": {
    "name": "ipython",
    "version": 3
   },
   "file_extension": ".py",
   "mimetype": "text/x-python",
   "name": "python",
   "nbconvert_exporter": "python",
   "pygments_lexer": "ipython3",
   "version": "3.12.3"
  },
  "toc": {
   "base_numbering": 1,
   "nav_menu": {},
   "number_sections": false,
   "sideBar": true,
   "skip_h1_title": false,
   "title_cell": "Table of Contents",
   "title_sidebar": "Contents",
   "toc_cell": false,
   "toc_position": {},
   "toc_section_display": true,
   "toc_window_display": true
  },
  "varInspector": {
   "cols": {
    "lenName": 16,
    "lenType": 16,
    "lenVar": 40
   },
   "kernels_config": {
    "python": {
     "delete_cmd_postfix": "",
     "delete_cmd_prefix": "del ",
     "library": "var_list.py",
     "varRefreshCmd": "print(var_dic_list())"
    },
    "r": {
     "delete_cmd_postfix": ") ",
     "delete_cmd_prefix": "rm(",
     "library": "var_list.r",
     "varRefreshCmd": "cat(var_dic_list()) "
    }
   },
   "types_to_exclude": [
    "module",
    "function",
    "builtin_function_or_method",
    "instance",
    "_Feature"
   ],
   "window_display": false
  },
  "vscode": {
   "interpreter": {
    "hash": "39577bab1f263e62e0b74f5b8086bd735049bf4751f6562b2d4b2969dc308293"
   }
  }
 },
 "nbformat": 4,
 "nbformat_minor": 4
}
