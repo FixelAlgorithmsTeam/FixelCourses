{
 "cells": [
  {
   "attachments": {},
   "cell_type": "markdown",
   "metadata": {},
   "source": [
    "[![Fixel Algorithms](https://i.imgur.com/AqKHVZ0.png)](https://fixelalgorithms.gitlab.io/)\n",
    "\n",
    "# AI Program\n",
    "\n",
    "## Machine Learning - Deep Learning - Pre Trained Computer Vision Models\n",
    "\n",
    "> Notebook by:\n",
    "> - Royi Avital RoyiAvital@fixelalgorithms.com\n",
    "\n",
    "## Revision History\n",
    "\n",
    "| Version | Date       | User        |Content / Changes                                                   |\n",
    "|---------|------------|-------------|--------------------------------------------------------------------|\n",
    "| 1.0.000 | 26/05/2024 | Royi Avital | First version                                                      |"
   ]
  },
  {
   "attachments": {},
   "cell_type": "markdown",
   "metadata": {},
   "source": [
    "[![Open In Colab](https://colab.research.google.com/assets/colab-badge.svg)](https://colab.research.google.com/github/FixelAlgorithmsTeam/FixelCourses/blob/master/AIProgram/2024_02/0091DeepLearningPreTrainedModels.ipynb)"
   ]
  },
  {
   "cell_type": "code",
   "execution_count": null,
   "metadata": {
    "ExecuteTime": {
     "end_time": "2022-02-02T09:30:06.492269Z",
     "start_time": "2022-02-02T09:30:06.220934Z"
    }
   },
   "outputs": [],
   "source": [
    "# Import Packages\n",
    "\n",
    "# General Tools\n",
    "import numpy as np\n",
    "import scipy as sp\n",
    "import pandas as pd\n",
    "\n",
    "# Machine Learning\n",
    "\n",
    "# Deep Learning\n",
    "import torch\n",
    "import torch.nn            as nn\n",
    "import torch.nn.functional as F\n",
    "from torch.utils.tensorboard import SummaryWriter\n",
    "import torchinfo\n",
    "import torchvision\n",
    "from torchvision.transforms import v2 as TorchVisionTrns\n",
    "\n",
    "# Image Processing & Computer Vision\n",
    "import skimage as ski\n",
    "\n",
    "# Miscellaneous\n",
    "import copy\n",
    "from enum import auto, Enum, unique\n",
    "import json\n",
    "import math\n",
    "import os\n",
    "from platform import python_version\n",
    "import random\n",
    "import time\n",
    "import urllib\n",
    "\n",
    "# Typing\n",
    "from typing import Any, Callable, Dict, Generator, List, Optional, Self, Set, Tuple, Union\n",
    "\n",
    "# Visualization\n",
    "import matplotlib as mpl\n",
    "import matplotlib.pyplot as plt\n",
    "import seaborn as sns\n",
    "\n",
    "# Jupyter\n",
    "from IPython import get_ipython\n",
    "from IPython.display import HTML, Image\n",
    "from IPython.display import display\n",
    "from ipywidgets import Dropdown, FloatSlider, interact, IntSlider, Layout, SelectionSlider\n",
    "from ipywidgets import interact"
   ]
  },
  {
   "attachments": {},
   "cell_type": "markdown",
   "metadata": {},
   "source": [
    "## Notations\n",
    "\n",
    "* <font color='red'>(**?**)</font> Question to answer interactively.\n",
    "* <font color='blue'>(**!**)</font> Simple task to add code for the notebook.\n",
    "* <font color='green'>(**@**)</font> Optional / Extra self practice.\n",
    "* <font color='brown'>(**#**)</font> Note / Useful resource / Food for thought.\n",
    "\n",
    "Code Notations:\n",
    "\n",
    "```python\n",
    "someVar    = 2; #<! Notation for a variable\n",
    "vVector    = np.random.rand(4) #<! Notation for 1D array\n",
    "mMatrix    = np.random.rand(4, 3) #<! Notation for 2D array\n",
    "tTensor    = np.random.rand(4, 3, 2, 3) #<! Notation for nD array (Tensor)\n",
    "tuTuple    = (1, 2, 3) #<! Notation for a tuple\n",
    "lList      = [1, 2, 3] #<! Notation for a list\n",
    "dDict      = {1: 3, 2: 2, 3: 1} #<! Notation for a dictionary\n",
    "oObj       = MyClass() #<! Notation for an object\n",
    "dfData     = pd.DataFrame() #<! Notation for a data frame\n",
    "dsData     = pd.Series() #<! Notation for a series\n",
    "hObj       = plt.Axes() #<! Notation for an object / handler / function handler\n",
    "```\n",
    "\n",
    "### Code Exercise\n",
    "\n",
    " - Single line fill\n",
    "\n",
    " ```python\n",
    " vallToFill = ???\n",
    " ```\n",
    "\n",
    " - Multi Line to Fill (At least one)\n",
    "\n",
    " ```python\n",
    " # You need to start writing\n",
    " ????\n",
    " ```\n",
    "\n",
    " - Section to Fill\n",
    "\n",
    "```python\n",
    "#===========================Fill This===========================#\n",
    "# 1. Explanation about what to do.\n",
    "# !! Remarks to follow / take under consideration.\n",
    "mX = ???\n",
    "\n",
    "???\n",
    "#===============================================================#\n",
    "```"
   ]
  },
  {
   "cell_type": "code",
   "execution_count": null,
   "metadata": {},
   "outputs": [],
   "source": [
    "# Configuration\n",
    "# %matplotlib inline\n",
    "\n",
    "seedNum = 512\n",
    "np.random.seed(seedNum)\n",
    "random.seed(seedNum)\n",
    "\n",
    "# Matplotlib default color palette\n",
    "lMatPltLibclr = ['#1f77b4', '#ff7f0e', '#2ca02c', '#d62728', '#9467bd', '#8c564b', '#e377c2', '#7f7f7f', '#bcbd22', '#17becf']\n",
    "# sns.set_theme() #>! Apply SeaBorn theme\n",
    "\n",
    "runInGoogleColab = 'google.colab' in str(get_ipython())\n",
    "\n",
    "# Improve performance by benchmarking\n",
    "torch.backends.cudnn.benchmark = True\n",
    "\n",
    "# Reproducibility (Per PyTorch Version on the same device)\n",
    "# torch.manual_seed(seedNum)\n",
    "# torch.backends.cudnn.deterministic = True\n",
    "# torch.backends.cudnn.benchmark     = False #<! Makes things slower\n"
   ]
  },
  {
   "cell_type": "code",
   "execution_count": null,
   "metadata": {},
   "outputs": [],
   "source": [
    "# Constants\n",
    "\n",
    "FIG_SIZE_DEF    = (8, 8)\n",
    "ELM_SIZE_DEF    = 50\n",
    "CLASS_COLOR     = ('b', 'r')\n",
    "EDGE_COLOR      = 'k'\n",
    "MARKER_SIZE_DEF = 10\n",
    "LINE_WIDTH_DEF  = 2\n",
    "\n",
    "DATA_FOLDER_PATH    = 'Data'\n",
    "TENSOR_BOARD_BASE   = 'TB'\n",
    "\n",
    "L_IMG_URL = ['https://farm3.static.flickr.com/2278/2096798034_bfe45b11ee.jpg',\n",
    "             'https://static.flickr.com/48/116936482_7458bb78c1.jpg',\n",
    "             'https://farm4.static.flickr.com/3001/2927732866_3bd24c2f98.jpg',\n",
    "             'https://farm4.static.flickr.com/3018/2990729221_aabd592245.jpg',\n",
    "             'https://farm4.static.flickr.com/3455/3372433349_0444709b8f.jpg',\n",
    "             ]\n",
    "\n",
    "IMAGE_NET_CLS_IDX_URL = r'https://raw.githubusercontent.com/FixelAlgorithmsTeam/FixelCourses/master/DataSets/ImageNet1000ClassIndex.json'\n"
   ]
  },
  {
   "cell_type": "code",
   "execution_count": null,
   "metadata": {},
   "outputs": [],
   "source": [
    "# Download Auxiliary Modules for Google Colab\n",
    "if runInGoogleColab:\n",
    "    !wget https://raw.githubusercontent.com/FixelAlgorithmsTeam/FixelCourses/master/AIProgram/2024_02/DataManipulation.py\n",
    "    !wget https://raw.githubusercontent.com/FixelAlgorithmsTeam/FixelCourses/master/AIProgram/2024_02/DataVisualization.py\n",
    "    !wget https://raw.githubusercontent.com/FixelAlgorithmsTeam/FixelCourses/master/AIProgram/2024_02/DeepLearningPyTorch.py"
   ]
  },
  {
   "cell_type": "code",
   "execution_count": null,
   "metadata": {},
   "outputs": [],
   "source": [
    "# Courses Packages\n",
    "\n",
    "from DataVisualization import PlotLabelsHistogram, PlotMnistImages\n",
    "from DeepLearningPyTorch import NNMode\n",
    "from DeepLearningPyTorch import RunEpoch\n"
   ]
  },
  {
   "cell_type": "code",
   "execution_count": null,
   "metadata": {},
   "outputs": [],
   "source": [
    "# General Auxiliary Functions\n",
    "\n",
    "\n"
   ]
  },
  {
   "cell_type": "markdown",
   "metadata": {},
   "source": [
    "## Pre Defined Models\n",
    "\n",
    "Every Deep Learning framework offers _Pre Defined models_.  \n",
    "Loading them can be done in 2 flavors:\n",
    "\n",
    "1. Model Definition  \n",
    "   Loading only the model definition of the architecture.  \n",
    "2. Model Definition with Pre Trained Weights  \n",
    "   Loading the model with a pre trained weights on some dataset.\n",
    "\n",
    "The option (1) is used for a vanilla training of the model.  \n",
    "The option (2) is used in production or for _Transfer Learning_.\n",
    "\n",
    "This notebooks presents:\n",
    "\n",
    " * Loading a model with weights trained on _ImageNet 1000_.\n",
    " * Applying the model on random images from [Flickr](https://www.flickr.com).  \n",
    "   The files are defined in `L_IMG_URL`.\n",
    "\n",
    "\n",
    "</br>\n",
    "\n",
    "* <font color='brown'>(**#**)</font> PyTorch Vision (`TorchVision`) offers a set of pretrained models in [Models and Pre Trained Weights](https://pytorch.org/vision/stable/models.html).\n",
    "* <font color='brown'>(**#**)</font> There are other sites dedicated to models. It is common to use _Model Zoo_. Searching for `PyTorch Model Zoo` will yield more options.\n",
    "* <font color='brown'>(**#**)</font> Many papers comes with links to a repository with the model definition and weights.  \n",
    "  See [YOLOv9: Learning What You Want to Learn Using Programmable Gradient Information](https://arxiv.org/abs/2402.13616).\n",
    "* <font color='brown'>(**#**)</font> Some repositories only offer the model definition.  \n",
    "  See [Implementation of MobileNet in PyTorch](https://github.com/jmjeon94/MobileNet-Pytorch).\n",
    "* <font color='brown'>(**#**)</font> For CNN models, the concept of [_Receptive Field_](https://en.wikipedia.org/wiki/Receptive_field) is fundamental.  \n",
    "  See [Understanding the Receptive Field of Deep Convolutional Networks](https://theaisummer.com/receptive-field)."
   ]
  },
  {
   "cell_type": "code",
   "execution_count": null,
   "metadata": {},
   "outputs": [],
   "source": [
    "# Parameters\n",
    "\n",
    "# Data\n",
    "imgSize = 224\n",
    "\n",
    "\n",
    "# Model\n",
    "# Name, Constructor, Weights\n",
    "lModels = [('AlexNet', torchvision.models.alexnet, torchvision.models.AlexNet_Weights.IMAGENET1K_V1),\n",
    "           ('VGG16', torchvision.models.vgg16, torchvision.models.VGG16_Weights.IMAGENET1K_V1),\n",
    "           ('InceptionV3', torchvision.models.inception_v3, torchvision.models.Inception_V3_Weights.IMAGENET1K_V1),\n",
    "           ('ResNet152', torchvision.models.resnet152, torchvision.models.ResNet152_Weights.IMAGENET1K_V2),\n",
    "           ]\n",
    "\n",
    "# Training\n",
    "\n",
    "# Visualization\n"
   ]
  },
  {
   "cell_type": "markdown",
   "metadata": {},
   "source": [
    "## Generate / Load Data\n",
    "\n"
   ]
  },
  {
   "cell_type": "code",
   "execution_count": null,
   "metadata": {},
   "outputs": [],
   "source": [
    "# Load Data\n",
    "\n",
    "numImg = len(L_IMG_URL)\n",
    "\n",
    "# Loads the Classes\n",
    "fileId      = urllib.request.urlopen(IMAGE_NET_CLS_IDX_URL)\n",
    "dClsData    = json.loads(fileId.read())\n",
    "lClasses    = [dClsData[str(k)][1] for k in range(1000)]"
   ]
  },
  {
   "cell_type": "markdown",
   "metadata": {},
   "source": [
    "### Plot the Data"
   ]
  },
  {
   "cell_type": "code",
   "execution_count": null,
   "metadata": {},
   "outputs": [],
   "source": [
    "# Plot the Data\n",
    "\n",
    "hF, vHa = plt.subplots(nrows = 1, ncols = numImg, figsize = (3 * numImg, 6))\n",
    "\n",
    "for ii, hA in enumerate(vHa.flat):\n",
    "    mI = ski.io.imread(L_IMG_URL[ii])\n",
    "    hA.imshow(mI)\n",
    "    hA.tick_params(axis = 'both', left = False, top = False, right = False, bottom = False, \n",
    "                   labelleft = False, labeltop = False, labelright = False, labelbottom = False)\n",
    "    hA.grid(False)\n"
   ]
  },
  {
   "cell_type": "code",
   "execution_count": null,
   "metadata": {},
   "outputs": [],
   "source": [
    "# Plot Classes\n",
    "\n",
    "lClasses[:15]"
   ]
  },
  {
   "cell_type": "markdown",
   "metadata": {},
   "source": [
    "## Show the Models\n",
    "\n",
    "This section shows the models using `torchinfo`.  \n",
    "\n",
    "* <font color='brown'>(**#**)</font> Since the information is limited to the architecture, no need to load the pre trained weights."
   ]
  },
  {
   "cell_type": "code",
   "execution_count": null,
   "metadata": {},
   "outputs": [],
   "source": [
    "# Show the Model Architecture\n",
    "\n",
    "tuInShape = (4, 3, 224, 224)\n",
    "\n",
    "for ii, (modelName, modelClass, _) in enumerate(lModels):\n",
    "    print(f'Displaying the {(ii + 1):02d} model.')\n",
    "\n",
    "    oModel = modelClass()\n",
    "    oModel = oModel.to('cpu')\n",
    "\n",
    "    print(torchinfo.summary(oModel, tuInShape, col_names = ['kernel_size', 'output_size', 'num_params'], device = 'cpu'), end = '\\n\\n\\n\\n')\n",
    "    "
   ]
  },
  {
   "cell_type": "markdown",
   "metadata": {},
   "source": [
    "* <font color='green'>(**@**)</font> Add a graph per model using _TensorBoard_."
   ]
  },
  {
   "cell_type": "markdown",
   "metadata": {},
   "source": [
    "## Build the Model Pre Processing\n",
    "\n",
    "The models were trained on ImageNet with the input size of `3 x 224 x 224`.  \n",
    "One way to deal with different dimensions of the data set is as following:\n",
    "\n",
    "1. Resize the smallest dimension of the image to `224`.\n",
    "2. Crop a square of `224 x 224` at the center.\n",
    "\n",
    "This section implements such pre processing.\n",
    "\n",
    "* <font color='brown'>(**#**)</font> One could use PyTorch's transform functionality as a pre process function."
   ]
  },
  {
   "cell_type": "code",
   "execution_count": null,
   "metadata": {},
   "outputs": [],
   "source": [
    "# Pre Process Image as Transform\n",
    "\n",
    "vMean = np.array([0.485, 0.456, 0.406])\n",
    "vStd  = np.array([0.229, 0.224, 0.225])\n",
    "\n",
    "oPreProcess = TorchVisionTrns.Compose([\n",
    "    TorchVisionTrns.ToImage(),\n",
    "    TorchVisionTrns.ToDtype(torch.float32, scale = True),\n",
    "    TorchVisionTrns.Resize(imgSize),\n",
    "    TorchVisionTrns.CenterCrop(imgSize),\n",
    "    TorchVisionTrns.Normalize(mean = vMean, std = vStd),\n",
    "])"
   ]
  },
  {
   "cell_type": "code",
   "execution_count": null,
   "metadata": {},
   "outputs": [],
   "source": [
    "# Plot the Data\n",
    "# Plot with the pre process\n",
    "\n",
    "hF, vHa = plt.subplots(nrows = 1, ncols = numImg, figsize = (3 * numImg, 6))\n",
    "\n",
    "for ii, hA in enumerate(vHa.flat):\n",
    "    mI = ski.io.imread(L_IMG_URL[ii])\n",
    "    tI = oPreProcess(mI)\n",
    "    mI = tI.numpy()\n",
    "    mI = mI * vStd[:, None, None] + vMean[:, None, None]\n",
    "    mI = np.transpose(mI, (1, 2, 0))\n",
    "    hA.imshow(mI)\n",
    "    hA.tick_params(axis = 'both', left = False, top = False, right = False, bottom = False, \n",
    "                   labelleft = False, labeltop = False, labelright = False, labelbottom = False)\n",
    "    hA.grid(False)\n"
   ]
  },
  {
   "cell_type": "markdown",
   "metadata": {},
   "source": [
    "## Inference by the Models\n",
    "\n",
    "This section use the models to infer the class of the data.  \n",
    "The models are loaded with pre trained weights."
   ]
  },
  {
   "cell_type": "code",
   "execution_count": null,
   "metadata": {},
   "outputs": [],
   "source": [
    "# Inference\n",
    "\n",
    "hF, vHa = plt.subplots(nrows = numImg, ncols = 1, figsize = (4, 4 * numImg))\n",
    "\n",
    "for ii, hA in enumerate(vHa.flat):\n",
    "    mI = ski.io.imread(L_IMG_URL[ii])\n",
    "    tI = oPreProcess(mI)\n",
    "    tI = torch.unsqueeze(tI, 0)\n",
    "\n",
    "    titleStr = ''\n",
    "\n",
    "    for jj, (modelName, modelClass, modelWeights) in enumerate(lModels):\n",
    "        \n",
    "        oModel = modelClass(weights = modelWeights)\n",
    "        oModel = oModel.eval()\n",
    "        oModel = oModel.to('cpu')\n",
    "        with torch.inference_mode():\n",
    "            vYHat = torch.squeeze(oModel(tI))\n",
    "\n",
    "        vProb   = torch.softmax(vYHat, dim = 0) #<! Probabilities\n",
    "        clsIdx  = torch.argmax(vYHat)\n",
    "        clsProb = vProb[clsIdx] #<! Probability of the class\n",
    "\n",
    "        titleStr += f'{modelName}: {lClasses[clsIdx]}, {clsProb:0.1%}'\n",
    "        if ((jj + 1) < len(lModels)):\n",
    "            titleStr += '\\n'\n",
    "    \n",
    "    hA.imshow(mI)\n",
    "    hA.tick_params(axis = 'both', left = False, top = False, right = False, bottom = False, \n",
    "                   labelleft = False, labeltop = False, labelright = False, labelbottom = False)\n",
    "    hA.set_title(titleStr)\n",
    "    hA.grid(False)"
   ]
  },
  {
   "cell_type": "markdown",
   "metadata": {},
   "source": [
    "* <font color='red'>(**?**)</font> What's the meaning of the probability? Is it accurate?"
   ]
  }
 ],
 "metadata": {
  "kernelspec": {
   "display_name": "Python 3",
   "language": "python",
   "name": "python3"
  },
  "language_info": {
   "codemirror_mode": {
    "name": "ipython",
    "version": 3
   },
   "file_extension": ".py",
   "mimetype": "text/x-python",
   "name": "python",
   "nbconvert_exporter": "python",
   "pygments_lexer": "ipython3",
   "version": "3.11.9"
  },
  "toc": {
   "base_numbering": 1,
   "nav_menu": {},
   "number_sections": false,
   "sideBar": true,
   "skip_h1_title": false,
   "title_cell": "Table of Contents",
   "title_sidebar": "Contents",
   "toc_cell": false,
   "toc_position": {},
   "toc_section_display": true,
   "toc_window_display": true
  },
  "varInspector": {
   "cols": {
    "lenName": 16,
    "lenType": 16,
    "lenVar": 40
   },
   "kernels_config": {
    "python": {
     "delete_cmd_postfix": "",
     "delete_cmd_prefix": "del ",
     "library": "var_list.py",
     "varRefreshCmd": "print(var_dic_list())"
    },
    "r": {
     "delete_cmd_postfix": ") ",
     "delete_cmd_prefix": "rm(",
     "library": "var_list.r",
     "varRefreshCmd": "cat(var_dic_list()) "
    }
   },
   "types_to_exclude": [
    "module",
    "function",
    "builtin_function_or_method",
    "instance",
    "_Feature"
   ],
   "window_display": false
  },
  "vscode": {
   "interpreter": {
    "hash": "39577bab1f263e62e0b74f5b8086bd735049bf4751f6562b2d4b2969dc308293"
   }
  }
 },
 "nbformat": 4,
 "nbformat_minor": 4
}
