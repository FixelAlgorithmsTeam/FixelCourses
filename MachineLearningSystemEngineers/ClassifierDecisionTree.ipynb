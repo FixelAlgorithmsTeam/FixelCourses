{
 "cells": [
  {
   "cell_type": "markdown",
   "metadata": {},
   "source": [
    "[![Fixel Algorithms](https://fixelalgorithms.co/images/CCExt.png)](https://fixelalgorithms.gitlab.io)\n",
    "\n",
    "# Classifier - The Decision Tree Classifier\n",
    "\n",
    "> Notebook by:\n",
    "> - Royi Avital RoyiAvital@fixelalgorithms.com\n",
    "\n",
    "## Revision History\n",
    "\n",
    "| Version | Date       | User        |Content / Changes                                                   |\n",
    "|---------|------------|-------------|--------------------------------------------------------------------|\n",
    "| 0.1.000 | 20/09/2022 | Royi Avital | First version                                                      |\n",
    "|         |            |             |                                                                    |"
   ]
  },
  {
   "cell_type": "markdown",
   "metadata": {},
   "source": [
    "[![Open In Colab](https://colab.research.google.com/assets/colab-badge.svg)](https://colab.research.google.com/github/FixelAlgorithmsTeam/FixelCourses/blob/master/IntroductionMachineLearningSystemEngineers/ClassifierDecisionTree.ipynb)"
   ]
  },
  {
   "cell_type": "code",
   "execution_count": null,
   "metadata": {
    "ExecuteTime": {
     "end_time": "2022-02-06T13:30:46.360720Z",
     "start_time": "2022-02-06T13:30:45.843667Z"
    }
   },
   "outputs": [],
   "source": [
    "# Import Packages\n",
    "\n",
    "# General Tools\n",
    "import numpy as np\n",
    "import scipy as sp\n",
    "import pandas as pd\n",
    "\n",
    "# Machine Learning\n",
    "from sklearn.datasets import load_breast_cancer, make_circles\n",
    "from sklearn.model_selection import train_test_split\n",
    "from sklearn.tree import DecisionTreeClassifier, plot_tree\n",
    "\n",
    "from scipy.spatial.distance import cdist\n",
    "\n",
    "# Misc\n",
    "import datetime\n",
    "import os\n",
    "from platform import python_version\n",
    "import random\n",
    "import warnings\n",
    "import yaml\n",
    "\n",
    "# Typing\n",
    "from typing import Tuple\n",
    "\n",
    "# Visualization\n",
    "import matplotlib.pyplot as plt\n",
    "import seaborn as sns\n",
    "\n",
    "# Jupyter\n",
    "from IPython import get_ipython\n",
    "from IPython.display import Image, display\n",
    "from ipywidgets import Dropdown, FloatSlider, interact, IntSlider, Layout"
   ]
  },
  {
   "cell_type": "code",
   "execution_count": null,
   "metadata": {},
   "outputs": [],
   "source": [
    "# Configuration\n",
    "%matplotlib inline\n",
    "\n",
    "warnings.filterwarnings(\"ignore\")\n",
    "\n",
    "seedNum = 512\n",
    "np.random.seed(seedNum)\n",
    "random.seed(seedNum)\n",
    "\n",
    "# sns.set_theme() #>! Apply SeaBorn theme\n",
    "\n",
    "runInGoogleColab = 'google.colab' in str(get_ipython())"
   ]
  },
  {
   "cell_type": "code",
   "execution_count": null,
   "metadata": {},
   "outputs": [],
   "source": [
    "# Constants\n",
    "\n",
    "FIG_SIZE_DEF = (8, 8)\n",
    "ELM_SIZE_DEF = 50\n",
    "CLASS_COLOR = ('b', 'r')\n",
    "EDGE_COLOR  = 'k'\n"
   ]
  },
  {
   "cell_type": "code",
   "execution_count": null,
   "metadata": {},
   "outputs": [],
   "source": [
    "# Fixel Algorithms Packages\n"
   ]
  },
  {
   "cell_type": "code",
   "execution_count": null,
   "metadata": {},
   "outputs": [],
   "source": [
    "# Parameters\n",
    "\n",
    "# Data Generation\n",
    "numSamples = 500\n",
    "noiseLevel = 0.01\n",
    "\n",
    "numSamples0 = 500\n",
    "numSamples1 = 500\n",
    "\n",
    "testSize = 0.5\n",
    "\n",
    "maxSplits = 75\n",
    "\n",
    "# Data Visuzalization\n",
    "numGridPts = 250"
   ]
  },
  {
   "cell_type": "code",
   "execution_count": null,
   "metadata": {},
   "outputs": [],
   "source": [
    "# Auxiliary Functions\n",
    "\n",
    "def PlotBinaryClassData( mX: np.ndarray, vY: np.ndarray, hA:plt.Axes = None, figSize: Tuple[int, int] = FIG_SIZE_DEF, elmSize: int = ELM_SIZE_DEF, classColor: Tuple[str, str] = CLASS_COLOR, axisTitle: str = None ) -> plt.Axes:\n",
    "\n",
    "    if hA is None:\n",
    "        hF, hA = plt.subplots(figsize = figSize)\n",
    "    else:\n",
    "        hF = hA.get_figure()\n",
    "    \n",
    "    vC, vN = np.unique(vY, return_counts = True)\n",
    "\n",
    "    numClass = len(vC)\n",
    "    if (len(vC) != 2):\n",
    "        raise ValueError(f'The input data is not binary, the number of classes is: {numClass}')\n",
    "\n",
    "    vIdx0 = vY == vC[0]\n",
    "    vIdx1 = vY == vC[1] #<! Basically ~vIdx0\n",
    "\n",
    "    hA.scatter(mX[vIdx0, 0], mX[vIdx0, 1], s = elmSize, color = classColor[0], edgecolor = 'k', label = f'$C_\\u007b {vC[0]} \\u007d$')\n",
    "    hA.scatter(mX[vIdx1, 0], mX[vIdx1, 1], s = elmSize, color = classColor[1], edgecolor = 'k', label = f'$C_\\u007b {vC[1]} \\u007d$')\n",
    "    hA.axvline(x = 0, color = 'k')\n",
    "    hA.axhline(y = 0, color = 'k')\n",
    "    hA.axis('equal')\n",
    "    if axisTitle is not None:\n",
    "        hA.set_title(axisTitle)\n",
    "    hA.legend()\n",
    "    \n",
    "    return hA"
   ]
  },
  {
   "cell_type": "markdown",
   "metadata": {},
   "source": [
    "## Generate Data"
   ]
  },
  {
   "cell_type": "code",
   "execution_count": null,
   "metadata": {
    "ExecuteTime": {
     "end_time": "2022-02-06T13:30:47.363221Z",
     "start_time": "2022-02-06T13:30:46.904802Z"
    }
   },
   "outputs": [],
   "source": [
    "# Loading / Generating Data\n",
    "mX, vY  = make_circles(n_samples = numSamples, noise = noiseLevel)\n",
    "\n",
    "mX[0, :] = [0,     0.1]\n",
    "mX[1, :] = [-0.1, -0.1]\n",
    "mX[2, :] = [0.1,  -0.1]\n",
    "vY[:3]   = 0\n",
    "\n",
    "vIdx0 = vY == 0\n",
    "vIdx1 = vY == 1\n",
    "\n",
    "mX.shape, vY.shape"
   ]
  },
  {
   "cell_type": "markdown",
   "metadata": {},
   "source": [
    "### Plot Data"
   ]
  },
  {
   "cell_type": "code",
   "execution_count": null,
   "metadata": {},
   "outputs": [],
   "source": [
    "hA = PlotBinaryClassData(mX, vY)"
   ]
  },
  {
   "cell_type": "markdown",
   "metadata": {},
   "source": [
    "## Train a Decision Tree Classifier"
   ]
  },
  {
   "cell_type": "code",
   "execution_count": null,
   "metadata": {
    "ExecuteTime": {
     "end_time": "2022-02-06T13:30:47.443122Z",
     "start_time": "2022-02-06T13:30:47.364223Z"
    }
   },
   "outputs": [],
   "source": [
    "# Grid of the data support\n",
    "v0       = np.linspace(mX[:,0].min(), mX[:,0].max(), numGridPts)\n",
    "v1       = np.linspace(mX[:,1].min(), mX[:,1].max(), numGridPts)\n",
    "XX0, XX1 = np.meshgrid(v0, v1)\n",
    "XX       = np.c_[XX0.ravel(), XX1.ravel()]\n",
    "\n",
    "def PlotTree( K ):\n",
    "    # Train the a Decision Tree classifier\n",
    "    oTreeClassifier = DecisionTreeClassifier(criterion = 'entropy', max_leaf_nodes = K, random_state = 0)\n",
    "    oTreeClassifier.fit(mX, vY)\n",
    "\n",
    "    # Fit to grid data\n",
    "    Z = oTreeClassifier.predict(XX)\n",
    "    Z = Z.reshape(XX0.shape)\n",
    "\n",
    "    # Plot classification\n",
    "    hF, hA = plt.subplots(1, 2, figsize = (16, 8))\n",
    "    hA[0].contourf(XX0, XX1, Z, colors = CLASS_COLOR, alpha = 0.3, levels = [-1.5, 0, 1.5])\n",
    "    hA[0].scatter(mX[vIdx0, 0], mX[vIdx0, 1], s = ELM_SIZE_DEF, color = CLASS_COLOR[0], edgecolor = EDGE_COLOR)\n",
    "    hA[0].scatter(mX[vIdx1, 0], mX[vIdx1, 1], s = ELM_SIZE_DEF, color = CLASS_COLOR[1], edgecolor = EDGE_COLOR)\n",
    "\n",
    "    plot_tree(oTreeClassifier, filled = True, ax = hA[1], rounded = True)\n",
    "    hA[1].set_title(f'Max Leaf Nodes = {K}')\n",
    "    "
   ]
  },
  {
   "cell_type": "code",
   "execution_count": null,
   "metadata": {
    "ExecuteTime": {
     "end_time": "2022-02-06T13:30:47.728980Z",
     "start_time": "2022-02-06T13:30:47.444123Z"
    }
   },
   "outputs": [],
   "source": [
    "# Display the Geometry of the Classifier\n",
    "\n",
    "kSlider = IntSlider(min = 2, max = 20, step = 1, value = 2, layout = Layout(width = '30%'))\n",
    "interact(PlotTree, K = kSlider)\n",
    "# plt.show()"
   ]
  },
  {
   "cell_type": "markdown",
   "metadata": {},
   "source": [
    "## Train vs. Test (Overfit) as a Function of Degrees of Freedom"
   ]
  },
  {
   "cell_type": "markdown",
   "metadata": {},
   "source": [
    "### Generate / Load Data"
   ]
  },
  {
   "cell_type": "code",
   "execution_count": null,
   "metadata": {
    "ExecuteTime": {
     "end_time": "2022-02-06T13:30:48.047269Z",
     "start_time": "2022-02-06T13:30:47.960189Z"
    }
   },
   "outputs": [],
   "source": [
    "# Loading / Generating Data\n",
    "\n",
    "mX1 = np.random.randn(numSamples0, 2) + 1\n",
    "mX2 = np.random.randn(numSamples1, 2) - 1\n",
    "vY1 = np.ones(numSamples0)\n",
    "vY2 = np.zeros(numSamples1)\n",
    "mX  = np.r_[mX1, mX2]\n",
    "vY  = np.r_[vY1, vY2]\n",
    "\n",
    "vIdx0 = vY == 0\n",
    "vIdx1 = vY == 1\n",
    "\n"
   ]
  },
  {
   "cell_type": "code",
   "execution_count": null,
   "metadata": {},
   "outputs": [],
   "source": [
    "# Plot Data\n",
    "hA = PlotBinaryClassData(mX, vY, axisTitle = 'Train and Test Set')"
   ]
  },
  {
   "cell_type": "code",
   "execution_count": null,
   "metadata": {},
   "outputs": [],
   "source": [
    "# Split data into Train and Test Sets\n",
    "\n",
    "mTrainX, mTestX, vTrainY, vTestY = train_test_split(mX, vY, test_size = testSize)"
   ]
  },
  {
   "cell_type": "markdown",
   "metadata": {},
   "source": [
    "### Train Decision Trees with Various Depths"
   ]
  },
  {
   "cell_type": "code",
   "execution_count": null,
   "metadata": {
    "ExecuteTime": {
     "end_time": "2022-02-06T13:30:49.067441Z",
     "start_time": "2022-02-06T13:30:49.002382Z"
    }
   },
   "outputs": [],
   "source": [
    "lTrees    = []\n",
    "for kk in range(1, maxSplits + 1):\n",
    "    oTree = DecisionTreeClassifier(criterion = 'entropy', max_leaf_nodes = kk + 1, random_state = 0)\n",
    "    oTree.fit(mTrainX, vTrainY)\n",
    "    lTrees.append(oTree)"
   ]
  },
  {
   "cell_type": "code",
   "execution_count": null,
   "metadata": {
    "ExecuteTime": {
     "end_time": "2022-02-06T13:30:50.103319Z",
     "start_time": "2022-02-06T13:30:50.024723Z"
    }
   },
   "outputs": [],
   "source": [
    "vTrainRes = np.array([oTree.score(mTrainX, vTrainY) for oTree in lTrees]) #<! Default score is mean accuracy\n",
    "vTestRes  = np.array([oTree.score(mTestX,  vTestY)  for oTree in lTrees]) #<! Default score is mean accuracy\n",
    "\n",
    "v0       = np.linspace(mX[:, 0].min(), mX[:, 0].max(), numGridPts)\n",
    "v1       = np.linspace(mX[:, 1].min(), mX[:, 1].max(), numGridPts)\n",
    "XX0, XX1 = np.meshgrid(v0, v1)\n",
    "XX       = np.c_[XX0.ravel(), XX1.ravel()]\n",
    "\n",
    "def PlotTreeTrainTest(K):\n",
    "    Z = lTrees[K-1].predict(XX)\n",
    "    Z = Z.reshape(XX0.shape)\n",
    "\n",
    "    hF, hA = plt.subplots(1, 2, figsize = (16, 8))\n",
    "    hA[0].contourf(XX0, XX1, Z, colors = CLASS_COLOR, alpha = 0.3, levels = [-1.5, 0, 1.5])\n",
    "    hA[0].scatter(mX[vIdx0, 0], mX[vIdx0, 1], s = ELM_SIZE_DEF, color = CLASS_COLOR[0], edgecolor = EDGE_COLOR)\n",
    "    hA[0].scatter(mX[vIdx1, 0], mX[vIdx1, 1], s = ELM_SIZE_DEF, color = CLASS_COLOR[1], edgecolor = EDGE_COLOR)\n",
    "\n",
    "    hA[1].plot(range(1, K + 1), vTrainRes[:K], color = 'm', lw = 2, marker = '.', markersize = 20, label = 'Train Accuracy')\n",
    "    hA[1].plot(range(1, K + 1), vTestRes[:K], color = 'k', lw = 2, marker = '.', markersize = 20, label = 'Test Accuracy')\n",
    "    hA[1].set_title(f'Max Splits = {K}')\n",
    "    hA[1].legend()"
   ]
  },
  {
   "cell_type": "code",
   "execution_count": null,
   "metadata": {
    "ExecuteTime": {
     "end_time": "2022-02-06T13:30:51.676927Z",
     "start_time": "2022-02-06T13:30:51.472741Z"
    }
   },
   "outputs": [],
   "source": [
    "# Analysis results\n",
    "\n",
    "kSlider = IntSlider(min = 1, max = maxSplits, step = 1, value = 1, layout = Layout(width = '30%'))\n",
    "interact(PlotTreeTrainTest, K = kSlider)\n",
    "plt.show()"
   ]
  }
 ],
 "metadata": {
  "kernelspec": {
   "display_name": "Python 3.10.5 64-bit (system)",
   "language": "python",
   "name": "python3"
  },
  "language_info": {
   "codemirror_mode": {
    "name": "ipython",
    "version": 3
   },
   "file_extension": ".py",
   "mimetype": "text/x-python",
   "name": "python",
   "nbconvert_exporter": "python",
   "pygments_lexer": "ipython3",
   "version": "3.10.5"
  },
  "toc": {
   "base_numbering": 1,
   "nav_menu": {},
   "number_sections": false,
   "sideBar": true,
   "skip_h1_title": false,
   "title_cell": "Table of Contents",
   "title_sidebar": "Contents",
   "toc_cell": false,
   "toc_position": {},
   "toc_section_display": true,
   "toc_window_display": false
  },
  "varInspector": {
   "cols": {
    "lenName": 16,
    "lenType": 16,
    "lenVar": 40
   },
   "kernels_config": {
    "python": {
     "delete_cmd_postfix": "",
     "delete_cmd_prefix": "del ",
     "library": "var_list.py",
     "varRefreshCmd": "print(var_dic_list())"
    },
    "r": {
     "delete_cmd_postfix": ") ",
     "delete_cmd_prefix": "rm(",
     "library": "var_list.r",
     "varRefreshCmd": "cat(var_dic_list()) "
    }
   },
   "types_to_exclude": [
    "module",
    "function",
    "builtin_function_or_method",
    "instance",
    "_Feature"
   ],
   "window_display": false
  },
  "vscode": {
   "interpreter": {
    "hash": "7eecc89e9756f599c7795c711b2e1de4865f3e2c067be515b73e3b7137ab82cc"
   }
  }
 },
 "nbformat": 4,
 "nbformat_minor": 4
}
