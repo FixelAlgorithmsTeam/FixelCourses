{
 "cells": [
  {
   "cell_type": "markdown",
   "metadata": {},
   "source": [
    "[![Fixel Algorithms](https://fixelalgorithms.co/images/CCExt.png)](https://fixelalgorithms.gitlab.io)\n",
    "\n",
    "# Anomaly Detection - Isolation Forest\n",
    "\n",
    "> Notebook by:\n",
    "> - Royi Avital RoyiAvital@fixelalgorithms.com\n",
    "\n",
    "## Revision History\n",
    "\n",
    "| Version | Date       | User        |Content / Changes                                                   |\n",
    "|---------|------------|-------------|--------------------------------------------------------------------|\n",
    "| 0.1.000 | 25/10/2022 | Royi Avital | First version                                                      |\n",
    "|         |            |             |                                                                    |"
   ]
  },
  {
   "cell_type": "markdown",
   "metadata": {},
   "source": [
    "[![Open In Colab](https://colab.research.google.com/assets/colab-badge.svg)](https://colab.research.google.com/github/FixelAlgorithmsTeam/FixelCourses/blob/master/IntroductionMachineLearningSystemEngineers/AnomalyDetectorIsolationForest.ipynb)"
   ]
  },
  {
   "cell_type": "code",
   "execution_count": null,
   "metadata": {
    "ExecuteTime": {
     "end_time": "2022-02-02T17:52:07.921383Z",
     "start_time": "2022-02-02T17:52:07.649130Z"
    }
   },
   "outputs": [],
   "source": [
    "# Import Packages\n",
    "\n",
    "# General Tools\n",
    "import numpy as np\n",
    "import scipy as sp\n",
    "import pandas as pd\n",
    "\n",
    "# Machine Learning\n",
    "from sklearn.ensemble import IsolationForest, RandomForestClassifier\n",
    "from sklearn.metrics import average_precision_score, auc, confusion_matrix, f1_score, precision_recall_curve, roc_curve, ConfusionMatrixDisplay, PrecisionRecallDisplay\n",
    "\n",
    "# Misc\n",
    "import datetime\n",
    "import os\n",
    "from platform import python_version\n",
    "import random\n",
    "import warnings\n",
    "import yaml\n",
    "\n",
    "# Typing\n",
    "from typing import Tuple\n",
    "\n",
    "# Visualization\n",
    "import matplotlib as mpl\n",
    "import matplotlib.pyplot as plt\n",
    "import seaborn as sns\n",
    "\n",
    "# Jupyter\n",
    "from IPython import get_ipython\n",
    "from IPython.display import Image, display\n",
    "from ipywidgets import Dropdown, FloatSlider, interact, IntSlider, Layout"
   ]
  },
  {
   "cell_type": "code",
   "execution_count": null,
   "metadata": {},
   "outputs": [],
   "source": [
    "# Configuration\n",
    "#%matplotlib inline\n",
    "\n",
    "warnings.filterwarnings(\"ignore\")\n",
    "\n",
    "seedNum = 512\n",
    "np.random.seed(seedNum)\n",
    "random.seed(seedNum)\n",
    "\n",
    "# sns.set_theme() #>! Apply SeaBorn theme\n",
    "sns.set_palette(\"tab10\")\n",
    "\n",
    "runInGoogleColab = 'google.colab' in str(get_ipython())"
   ]
  },
  {
   "cell_type": "code",
   "execution_count": null,
   "metadata": {},
   "outputs": [],
   "source": [
    "# Constants\n",
    "\n",
    "FIG_SIZE_DEF    = (8, 8)\n",
    "ELM_SIZE_DEF    = 50\n",
    "CLASS_COLOR     = ('b', 'r')\n",
    "EDGE_COLOR      = 'k'\n",
    "MARKER_SIZE_DEF = 10\n",
    "LINE_WIDTH_DEF  = 2\n"
   ]
  },
  {
   "cell_type": "code",
   "execution_count": null,
   "metadata": {},
   "outputs": [],
   "source": [
    "# Fixel Algorithms Packages\n"
   ]
  },
  {
   "cell_type": "code",
   "execution_count": null,
   "metadata": {},
   "outputs": [],
   "source": [
    "# Parameters\n",
    "\n",
    "# Data\n",
    "csvFilePath = r'../DataSets/creditcard.csv'\n",
    "csvFileUrl  = r'https://raw.githubusercontent.com/nsethi31/Kaggle-Data-Credit-Card-Fraud-Detection/master/creditcard.csv' #<! Seems to be a lower accuracy representation (Less digits), Yet available on GitHub\n",
    "\n",
    "# Models\n",
    "numTrees = 50\n",
    "\n",
    "# ROC\n",
    "numGrdiPts = 201"
   ]
  },
  {
   "cell_type": "code",
   "execution_count": null,
   "metadata": {},
   "outputs": [],
   "source": [
    "# Auxiliary Functions\n",
    "\n",
    "\n"
   ]
  },
  {
   "cell_type": "markdown",
   "metadata": {},
   "source": [
    "## Generate Data\n"
   ]
  },
  {
   "cell_type": "code",
   "execution_count": null,
   "metadata": {
    "ExecuteTime": {
     "end_time": "2022-02-02T17:53:07.834772Z",
     "start_time": "2022-02-02T17:53:07.448832Z"
    }
   },
   "outputs": [],
   "source": [
    "# Generate / Load Data \n",
    "\n",
    "if os.path.isfile(csvFilePath):\n",
    "    dfData = pd.read_csv(csvFilePath)\n",
    "else:\n",
    "    dfData = pd.read_csv(csvFileUrl)\n"
   ]
  },
  {
   "cell_type": "code",
   "execution_count": null,
   "metadata": {},
   "outputs": [],
   "source": [
    "dfData.head()"
   ]
  },
  {
   "cell_type": "markdown",
   "metadata": {},
   "source": [
    "### Analysis of the Data\n",
    "\n",
    "Pay attnetion that in order to keep the data private, it was mixed (Probably with PCA like procedure).  \n",
    "Hence the features are not \"physical\"."
   ]
  },
  {
   "cell_type": "code",
   "execution_count": null,
   "metadata": {
    "ExecuteTime": {
     "end_time": "2022-02-02T17:53:32.623663Z",
     "start_time": "2022-02-02T17:53:32.542588Z"
    }
   },
   "outputs": [],
   "source": [
    "hF, hA = plt.subplots(figsize = FIG_SIZE_DEF)\n",
    "sns.countplot(x = dfData['Class'], ax = hA)\n",
    "hA.set_title('The Balance of Classes in Data')\n",
    "plt.show()"
   ]
  },
  {
   "cell_type": "code",
   "execution_count": null,
   "metadata": {},
   "outputs": [],
   "source": [
    "dsClassBalance = dfData['Class'].value_counts(normalize = True)\n",
    "dClassBalance = dsClassBalance.to_dict()"
   ]
  },
  {
   "cell_type": "code",
   "execution_count": null,
   "metadata": {},
   "outputs": [],
   "source": [
    "hF, hA = plt.subplots(figsize = FIG_SIZE_DEF)\n",
    "sns.histplot(data = dfData, x = 'Class', stat = 'percent', discrete = True, shrink = .8, ax = hA)\n",
    "# sns.histplot(data = dfData, x = 'Class', discrete = True, shrink = .8, ax = hA)\n",
    "hA.set_xticks([0, 1])\n",
    "hA.set_title(f'The Balance of Classes in Data: {dClassBalance}')\n",
    "plt.show()"
   ]
  },
  {
   "cell_type": "markdown",
   "metadata": {},
   "source": [
    "Basically the class of 1, the fraudulent transactions, are anomalies in the data."
   ]
  },
  {
   "cell_type": "code",
   "execution_count": null,
   "metadata": {},
   "outputs": [],
   "source": [
    "# Data for Processing\n",
    "\n",
    "mX = dfData.drop(columns = ['Time', 'Class']).values\n",
    "vY = dfData['Class'].values\n",
    "mX.shape, vY.shape"
   ]
  },
  {
   "cell_type": "markdown",
   "metadata": {},
   "source": [
    "## Detect Outliers / Anomalies\n",
    "\n",
    "We'll detect anomalies using 2 methods:\n",
    "\n",
    "1. Supervised: Random Forest Classifier.\n",
    "2. UnSupervised: Isolation Forest."
   ]
  },
  {
   "cell_type": "code",
   "execution_count": null,
   "metadata": {
    "ExecuteTime": {
     "end_time": "2022-02-02T17:53:36.616328Z",
     "start_time": "2022-02-02T17:53:36.540260Z"
    }
   },
   "outputs": [],
   "source": [
    "# Random Forest Classifier (Supervised)\n",
    "# We use the out of bag (Samples which are not used in the i-th tree) to estimate the actual score on the data set\n",
    "oRndForest = RandomForestClassifier(n_estimators = numTrees, oob_score = True, n_jobs = -1, random_state = seedNum).fit(mX, vY) #<! We accelerate it in parallel"
   ]
  },
  {
   "cell_type": "code",
   "execution_count": null,
   "metadata": {},
   "outputs": [],
   "source": [
    "# Isolation forest (UnSupervised)\n",
    "oIsoForest = IsolationForest(n_estimators = numTrees, n_jobs = -1, random_state = seedNum).fit(mX)"
   ]
  },
  {
   "cell_type": "markdown",
   "metadata": {},
   "source": [
    "### Analysis of the ROC"
   ]
  },
  {
   "cell_type": "code",
   "execution_count": null,
   "metadata": {},
   "outputs": [],
   "source": [
    "vScoreRF =  oRndForest.oob_decision_function_[:, 1] #<! Score for Label 1\n",
    "vScoreIF = -oIsoForest.decision_function(mX)"
   ]
  },
  {
   "cell_type": "code",
   "execution_count": null,
   "metadata": {},
   "outputs": [],
   "source": [
    "len(np.unique(vScoreRF))"
   ]
  },
  {
   "cell_type": "code",
   "execution_count": null,
   "metadata": {},
   "outputs": [],
   "source": [
    "vFP_RF, vTP_RF, vThersholdRF = roc_curve(vY, vScoreRF, pos_label = 1)\n",
    "vFP_IF, vTP_IF, vThersholdIF = roc_curve(vY, vScoreIF, pos_label = 1)\n",
    "\n",
    "AUC_RF = auc(vFP_RF, vTP_RF)\n",
    "AUC_IF = auc(vFP_IF, vTP_IF)"
   ]
  },
  {
   "cell_type": "code",
   "execution_count": null,
   "metadata": {},
   "outputs": [],
   "source": [
    "hF, hA = plt.subplots(figsize = FIG_SIZE_DEF)\n",
    "hA.plot(vFP_RF, vTP_RF, color = 'b', lw = 3, label = f'RF  AUC = {AUC_RF :.3f} (Out of Bag Score)')\n",
    "hA.plot(vFP_IF, vTP_IF, color = 'r', lw = 3, label = f'IF  AUC = {AUC_IF :.3f}')\n",
    "hA.plot([0, 1], [0, 1], color = 'k', lw = 2, linestyle = '--')\n",
    "hA.set_title ('ROC')\n",
    "hA.set_xlabel('False Positive Rate')\n",
    "hA.set_ylabel('True Positive Rate')\n",
    "hA.axis ('equal')\n",
    "hA.legend()\n",
    "hA.grid()\n",
    "plt.show()"
   ]
  },
  {
   "cell_type": "markdown",
   "metadata": {},
   "source": [
    "In this example an UnSupervised method is giving a fight to a supervised method!\n",
    "At least by looking at the ROC / AUC. Is that for real? Let's have a look at the _Confusion Matrix_."
   ]
  },
  {
   "cell_type": "markdown",
   "metadata": {},
   "source": [
    "## Compare Performance for Different Threshold Level"
   ]
  },
  {
   "cell_type": "code",
   "execution_count": null,
   "metadata": {},
   "outputs": [],
   "source": [
    "v              = np.linspace(0, 1, numGrdiPts, endpoint = True)\n",
    "vThersholdRF2  = np.interp(v, vFP_RF, vThersholdRF)\n",
    "vThersholdIF2  = np.interp(v, vFP_IF, vThersholdIF)"
   ]
  },
  {
   "cell_type": "code",
   "execution_count": null,
   "metadata": {},
   "outputs": [],
   "source": [
    "def PlotConfusionMatrices(thr):\n",
    "    \n",
    "    thrRF    = vThersholdRF2[thr]\n",
    "    thrIF    = vThersholdIF2[thr]\n",
    "    vHatY_RF = vScoreRF > thrRF\n",
    "    vHatY_IF = vScoreIF > thrIF\n",
    "        \n",
    "    mC_RF = confusion_matrix(vY, vHatY_RF)\n",
    "    mC_IF = confusion_matrix(vY, vHatY_IF)\n",
    "    \n",
    "    fig = plt.figure(figsize = (12, 8))\n",
    "    ax  = fig.add_subplot(1, 2, 1)\n",
    "    ax.plot(vFP_RF, vTP_RF, color='b', lw=3, label=f'RF AUC = {AUC_RF :.3f} (On train data)')\n",
    "    ax.plot(vFP_IF, vTP_IF, color='r', lw=3, label=f'IF AUC = {AUC_IF :.3f}')\n",
    "    ax.plot([0, 1], [0, 1], color='k', lw=2, linestyle='--')\n",
    "    ax.axvline(x = thr / (numGrdiPts - 1), color='g', lw=2, linestyle='--')\n",
    "    ax.set_title ('ROC')\n",
    "    ax.set_xlabel('False Positive Rate')\n",
    "    ax.set_ylabel('True Positive Rate')\n",
    "    ax.axis      ('equal')\n",
    "    ax.legend    ()\n",
    "    ax.grid      ()    \n",
    "    \n",
    "    axRF = fig.add_subplot(2, 3, 3)\n",
    "    axIF = fig.add_subplot(2, 3, 6)\n",
    "    \n",
    "    ConfusionMatrixDisplay(mC_RF, display_labels=['Normal', 'Fruad']).plot(ax=axRF)\n",
    "    ConfusionMatrixDisplay(mC_IF, display_labels=['Normal', 'Fruad']).plot(ax=axIF)\n",
    "    axRF.set_title('Random Forest   \\n' f'f1_score = {f1_score(vY, vHatY_RF):1.4f}')\n",
    "    axIF.set_title('Isolation Forest\\n' f'f1_score = {f1_score(vY, vHatY_IF):1.4f}')\n",
    "    plt.show        ()\n",
    "    \n",
    "thrSlider = IntSlider(min = 0, max = numGrdiPts - 1, step = 1, value = 0, layout = Layout(width='30%'))\n",
    "interact(PlotConfusionMatrices, thr = thrSlider)\n",
    "plt.show()"
   ]
  },
  {
   "cell_type": "markdown",
   "metadata": {},
   "source": [
    "It seems the Random Forest data is highly quantized (No ability to play with the threshold)."
   ]
  },
  {
   "cell_type": "markdown",
   "metadata": {},
   "source": [
    "### View by Precision Recall Curve\n",
    "\n",
    "For highly imbalnced data, the Precision Recall Curve is usually a better tool to analyze performance.\n",
    "\n",
    "**Remark**: The _Precision Recall Curve_ isn't guaranteed to be monotonic."
   ]
  },
  {
   "cell_type": "code",
   "execution_count": null,
   "metadata": {},
   "outputs": [],
   "source": [
    "vPR_RF, vRE_RF, vThersholdPrReRF = precision_recall_curve(vY, vScoreRF, pos_label = 1)\n",
    "vPR_IF, vRE_IF, vThersholdPrReIF = precision_recall_curve(vY, vScoreIF, pos_label = 1)\n",
    "\n",
    "# Avergae Precision Score, Somewhat equivalent to the AUC for the PR Curve\n",
    "AUC_PrReRF = average_precision_score(vY, vScoreRF, pos_label = 1)\n",
    "AUC_PrReIF = average_precision_score(vY, vScoreIF, pos_label = 1)"
   ]
  },
  {
   "cell_type": "code",
   "execution_count": null,
   "metadata": {},
   "outputs": [],
   "source": [
    "hF, hA = plt.subplots(figsize = FIG_SIZE_DEF)\n",
    "hA.plot(vRE_RF, vPR_RF, color = 'b', lw = 3, label = f'RF  Average Precision = {AUC_PrReRF :.3f} (Out of Bag Score)')\n",
    "hA.plot(vRE_IF, vPR_IF, color = 'r', lw = 3, label = f'IF  Average Precision = {AUC_PrReIF :.3f}')\n",
    "hA.set_title ('Precision Recall Curve')\n",
    "hA.set_xlabel('Recall')\n",
    "hA.set_ylabel('Precision')\n",
    "hA.axis('equal')\n",
    "hA.legend()\n",
    "hA.grid()\n",
    "plt.show()"
   ]
  },
  {
   "cell_type": "code",
   "execution_count": null,
   "metadata": {},
   "outputs": [],
   "source": [
    "hF, hA = plt.subplots(figsize = FIG_SIZE_DEF)\n",
    "PrecisionRecallDisplay.from_predictions(vY, vScoreIF, name = 'Isolation Forest', ax = hA)\n",
    "PrecisionRecallDisplay.from_predictions(vY, vScoreRF, name = 'Random Forest', ax = hA)\n",
    "hA.set_title ('Precision Recall Curve')\n",
    "hA.axis('equal')\n",
    "hA.grid()\n",
    "plt.show()"
   ]
  }
 ],
 "metadata": {
  "kernelspec": {
   "display_name": "Python 3.10.5 64-bit",
   "language": "python",
   "name": "python3"
  },
  "language_info": {
   "codemirror_mode": {
    "name": "ipython",
    "version": 3
   },
   "file_extension": ".py",
   "mimetype": "text/x-python",
   "name": "python",
   "nbconvert_exporter": "python",
   "pygments_lexer": "ipython3",
   "version": "3.10.5"
  },
  "toc": {
   "base_numbering": 1,
   "nav_menu": {},
   "number_sections": false,
   "sideBar": true,
   "skip_h1_title": false,
   "title_cell": "Table of Contents",
   "title_sidebar": "Contents",
   "toc_cell": false,
   "toc_position": {},
   "toc_section_display": true,
   "toc_window_display": false
  },
  "varInspector": {
   "cols": {
    "lenName": 16,
    "lenType": 16,
    "lenVar": 40
   },
   "kernels_config": {
    "python": {
     "delete_cmd_postfix": "",
     "delete_cmd_prefix": "del ",
     "library": "var_list.py",
     "varRefreshCmd": "print(var_dic_list())"
    },
    "r": {
     "delete_cmd_postfix": ") ",
     "delete_cmd_prefix": "rm(",
     "library": "var_list.r",
     "varRefreshCmd": "cat(var_dic_list()) "
    }
   },
   "types_to_exclude": [
    "module",
    "function",
    "builtin_function_or_method",
    "instance",
    "_Feature"
   ],
   "window_display": false
  },
  "vscode": {
   "interpreter": {
    "hash": "b091ae1a5f61fa4269f1f2c4a075dfd3ba6d6b741f8802b3932e01e064097caa"
   }
  }
 },
 "nbformat": 4,
 "nbformat_minor": 4
}
