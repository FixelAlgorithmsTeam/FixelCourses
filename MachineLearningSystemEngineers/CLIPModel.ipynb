{
 "cells": [
  {
   "attachments": {},
   "cell_type": "markdown",
   "metadata": {},
   "source": [
    "[![Fixel Algorithms](https://fixelalgorithms.co/images/CCExt.png)](https://fixelalgorithms.gitlab.io)\n",
    "\n",
    "# AI for System Engineers and Project Managers\n",
    "\n",
    "## Deep Learning - Multi Modal - Contrastive Language Image Pre Training (CLIP)\n",
    "\n",
    "Displays using a _Zero Shot Model_ for _Image Classification_.\n",
    "\n",
    "> Notebook by:\n",
    "> - Royi Avital RoyiAvital@fixelalgorithms.com\n",
    "\n",
    "## Revision History\n",
    "\n",
    "| Version | Date       | User        |Content / Changes                                                   |\n",
    "|---------|------------|-------------|--------------------------------------------------------------------|\n",
    "| 1.0.000 | 07/03/2025 | Royi Avital | First version                                                      |"
   ]
  },
  {
   "attachments": {},
   "cell_type": "markdown",
   "metadata": {},
   "source": [
    "[![Open In Colab](https://colab.research.google.com/assets/colab-badge.svg)](https://colab.research.google.com/github/FixelAlgorithmsTeam/FixelCourses/blob/master/AIProgram/2024_02/0037FeaturesTransform.ipynb)"
   ]
  },
  {
   "cell_type": "code",
   "execution_count": null,
   "metadata": {
    "ExecuteTime": {
     "end_time": "2022-02-02T09:30:06.492269Z",
     "start_time": "2022-02-02T09:30:06.220934Z"
    }
   },
   "outputs": [],
   "source": [
    "# Import Packages\n",
    "\n",
    "# General Tools\n",
    "import numpy as np\n",
    "import scipy as sp\n",
    "import pandas as pd\n",
    "\n",
    "# Machine Learning\n",
    "\n",
    "# Deep Learning\n",
    "import clip\n",
    "import torch\n",
    "import torch.nn as nn\n",
    "from torch.utils.data import Dataset\n",
    "import torchvision\n",
    "from torchvision.transforms import v2 as TorchVisionTrns\n",
    "\n",
    "# Image Processing\n",
    "import skimage as ski\n",
    "\n",
    "# Miscellaneous\n",
    "import os\n",
    "import onedrivedownloader #<! https://github.com/loribonna/onedrivedownloader\n",
    "from platform import python_version\n",
    "import random\n",
    "import time\n",
    "\n",
    "# Typing\n",
    "from typing import Callable, Dict, List, Optional, Self, Set, Tuple, Union\n",
    "\n",
    "# Visualization\n",
    "import matplotlib.pyplot as plt\n",
    "\n",
    "# Jupyter\n",
    "from IPython import get_ipython"
   ]
  },
  {
   "attachments": {},
   "cell_type": "markdown",
   "metadata": {},
   "source": [
    "## Notations\n",
    "\n",
    "* <font color='red'>(**?**)</font> Question to answer interactively.\n",
    "* <font color='blue'>(**!**)</font> Simple task to add code for the notebook.\n",
    "* <font color='green'>(**@**)</font> Optional / Extra self practice.\n",
    "* <font color='brown'>(**#**)</font> Note / Useful resource / Food for thought.\n",
    "\n",
    "Code Notations:\n",
    "\n",
    "```python\n",
    "someVar    = 2; #<! Notation for a variable\n",
    "vVector    = np.random.rand(4) #<! Notation for 1D array\n",
    "mMatrix    = np.random.rand(4, 3) #<! Notation for 2D array\n",
    "tTensor    = np.random.rand(4, 3, 2, 3) #<! Notation for nD array (Tensor)\n",
    "tuTuple    = (1, 2, 3) #<! Notation for a tuple\n",
    "lList      = [1, 2, 3] #<! Notation for a list\n",
    "dDict      = {1: 3, 2: 2, 3: 1} #<! Notation for a dictionary\n",
    "oObj       = MyClass() #<! Notation for an object\n",
    "dfData     = pd.DataFrame() #<! Notation for a data frame\n",
    "dsData     = pd.Series() #<! Notation for a series\n",
    "hObj       = plt.Axes() #<! Notation for an object / handler / function handler\n",
    "```\n",
    "\n",
    "### Code Exercise\n",
    "\n",
    " - Single line fill\n",
    "\n",
    " ```python\n",
    " vallToFill = ???\n",
    " ```\n",
    "\n",
    " - Multi Line to Fill (At least one)\n",
    "\n",
    "```python\n",
    "# You need to start writing\n",
    "?????\n",
    "```\n",
    "\n",
    " - Section to Fill\n",
    "\n",
    "```python\n",
    "#===========================Fill This===========================#\n",
    "# 1. Explanation about what to do.\n",
    "# !! Remarks to follow / take under consideration.\n",
    "mX = ???\n",
    "\n",
    "?????\n",
    "#===============================================================#\n",
    "```"
   ]
  },
  {
   "cell_type": "code",
   "execution_count": null,
   "metadata": {},
   "outputs": [],
   "source": [
    "# Configuration\n",
    "# %matplotlib inline\n",
    "\n",
    "seedNum = 512\n",
    "np.random.seed(seedNum)\n",
    "random.seed(seedNum)\n",
    "\n",
    "# Matplotlib default color palette\n",
    "lMatPltLibclr = ['#1f77b4', '#ff7f0e', '#2ca02c', '#d62728', '#9467bd', '#8c564b', '#e377c2', '#7f7f7f', '#bcbd22', '#17becf']\n",
    "# sns.set_theme() #>! Apply SeaBorn theme\n",
    "\n",
    "runInGoogleColab = 'google.colab' in str(get_ipython())"
   ]
  },
  {
   "cell_type": "code",
   "execution_count": null,
   "metadata": {},
   "outputs": [],
   "source": [
    "# Constants\n",
    "\n",
    "FIG_SIZE_DEF    = (8, 8)\n",
    "ELM_SIZE_DEF    = 50\n",
    "CLASS_COLOR     = ('b', 'r')\n",
    "EDGE_COLOR      = 'k'\n",
    "MARKER_SIZE_DEF = 10\n",
    "LINE_WIDTH_DEF  = 2\n",
    "\n",
    "PROJECT_NAME      = 'FixelCourses'\n",
    "DATA_FOLDER_PATH  = 'DataSets'\n",
    "MODEL_FOLDER_PATH = 'Models'\n",
    "\n",
    "BASE_FOLDER      = os.getcwd()[:len(os.getcwd()) - (os.getcwd()[::-1].lower().find(PROJECT_NAME.lower()[::-1]))]\n",
    "\n",
    "L_IMG_EXT = ['.png', '.jpeg', '.jpg']"
   ]
  },
  {
   "cell_type": "code",
   "execution_count": null,
   "metadata": {},
   "outputs": [],
   "source": [
    "# Courses Packages\n",
    "\n"
   ]
  },
  {
   "cell_type": "code",
   "execution_count": null,
   "metadata": {},
   "outputs": [],
   "source": [
    "# General Auxiliary Functions\n",
    "\n",
    "class CLIPDataset(Dataset):\n",
    "    def __init__( self, dataFolderPath: str, dataFileName: str, oProc: Optional[Callable], oTokenizer: Optional[Callable], uniqueImages: bool = False ) -> None:\n",
    "        \"\"\"\n",
    "        Constructor for the CLIP Dataset class\n",
    "        \"\"\"\n",
    "\n",
    "        dfDataCaptions = pd.read_csv(os.path.join(dataFolderPath, dataFileName))\n",
    "        if uniqueImages:\n",
    "            dfDataCaptions = dfDataCaptions.drop_duplicates(subset = 'image')\n",
    "            dfDataCaptions = dfDataCaptions.reset_index(drop = True)\n",
    "\n",
    "        self._dataFolderPath = dataFolderPath\n",
    "        self._dataFileName   = dataFileName\n",
    "        self._dfDataCaptions = dfDataCaptions\n",
    "        self._oProc          = oProc\n",
    "        self._oTokenizer     = oTokenizer\n",
    "        self._numSamples     = len(dfDataCaptions)\n",
    "\n",
    "        self._lTokenizedCaption = clip.tokenize(dfDataCaptions['caption'].to_list())\n",
    "\n",
    "    def __getitem__(self, idx):\n",
    "\n",
    "        imgFileName = str(self._dfDataCaptions['image'][idx])\n",
    "\n",
    "        tI = ski.io.imread(os.path.join(self._dataFolderPath, imgFileName))\n",
    "        tI = ski.util.img_as_float32(tI)\n",
    "        tI = self._oProc(tI)\n",
    "\n",
    "        tTxt = self._lTokenizedCaption[idx]\n",
    "\n",
    "        return tI, tTxt\n",
    "\n",
    "    def __len__(self):\n",
    "\n",
    "        return self._numSamples\n",
    "\n",
    "    def GetCaption(self, idx: int) -> str:\n",
    "\n",
    "        return self._dfDataCaptions['caption'][idx]\n",
    "\n",
    "    def GetImage(self, idx: int) -> np.ndarray:\n",
    "\n",
    "        imgFileName = str(self._dfDataCaptions['image'][idx])\n",
    "        mI = ski.io.imread(os.path.join(self._dataFolderPath, imgFileName))\n",
    "        mI = ski.util.img_as_float32(mI)\n",
    "\n",
    "        return mI\n",
    "\n",
    "\n",
    "def ModelToFloat32( oModel: nn.Module ) -> None:\n",
    "    \"\"\"\n",
    "    Convert the parameters of a model to float32\n",
    "    \"\"\"\n",
    "    for p in oModel.parameters():\n",
    "        p.data      = p.data.float()\n",
    "        if p.grad is not None:\n",
    "            p.grad.data = p.grad.data.float()\n",
    "\n",
    "def GetTopKImages( mSim: np.ndarray, paramK: int ) -> List[np.ndarray]:\n",
    "    \"\"\"\n",
    "    Get the top 5 images for each text\n",
    "    \"\"\"\n",
    "\n",
    "    lTopKInd = []\n",
    "\n",
    "    for ii in range(mSim.shape[1]):\n",
    "        # https://stackoverflow.com/a/23734295\n",
    "        vIndTopK = np.argpartition(mSim[:, ii], -paramK)[-paramK:]\n",
    "        vIndTopK = vIndTopK[np.argsort(mSim[vIndTopK, ii])]\n",
    "\n",
    "        lTopKInd.append(vIndTopK)\n",
    "\n",
    "    return lTopKInd\n"
   ]
  },
  {
   "cell_type": "markdown",
   "metadata": {},
   "source": [
    "## Contrastive Learning\n",
    "\n",
    "Contrastive Learning is a _self supervised_ learning technique which learns embedding which clusters data based on the knowledge which samples are similar in some sense.\n",
    "\n",
    "![](https://i.imgur.com/wH4Yc5c.png)\n",
    "<!-- ![](https://i.postimg.cc/9M6SymRV/Picture1.png) -->\n",
    "\n",
    "### OpenAI CLIP Model\n",
    "\n",
    "The `CLIP` model learns to match _Text_ and _Image_.  \n",
    "During training it learned:\n",
    " - Embedding Text.\n",
    " - Embedding Images.\n",
    " - Match Text (Embedding) and Image (Embedding).\n",
    "\n",
    "![](https://upload.wikimedia.org/wikipedia/commons/thumb/e/ee/Contrastive_Language-Image_Pretraining.png/800px-Contrastive_Language-Image_Pretraining.png)\n",
    "\n",
    "Applications:\n",
    "\n",
    " - _Zero Shot Classification_.\n",
    " - Retrieval Systems - Extract images from a DB given text.\n",
    " - Pre Processor - For text in the context of image generation or images for featurization in text context.\n",
    "\n",
    "\n",
    "* <font color='brown'>(**#**)</font> [OpenAI CLIP](https://github.com/openai/CLIP) ([Wikipedia - CLIP](https://en.wikipedia.org/wiki/Contrastive_Language-Image_Pre-training), [OpenAI CLIP Page](https://openai.com/index/clip)).\n",
    "* <font color='brown'>(**#**)</font> [OpenCLIP](https://github.com/mlfoundations/open_clip/) is an open model which includes _Fine Tuning_ models and training scripts.\n",
    "* <font color='brown'>(**#**)</font> [The Stanford AI Lab Blog - Understanding Deep Learning Algorithms that Leverage Unlabeled Data, Part 2: Contrastive Learning](https://ai.stanford.edu/blog/understanding-contrastive-learning).\n",
    "* <font color='brown'>(**#**)</font> [Ankesh Anand - Contrastive Self Supervised Learning](https://ankeshanand.com/blog/2020/01/26/contrative-self-supervised-learning.html).\n",
    "* <font color='brown'>(**#**)</font> [Lilian Weng - Contrastive Representation Learning](https://lilianweng.github.io/posts/2021-05-31-contrastive).\n",
    "* <font color='brown'>(**#**)</font> [Szymon Palucha - Understanding OpenAI’s CLIP Model](https://scribe.rip/6b52bade3fa3).\n",
    "* <font color='brown'>(**#**)</font> [Kerry Halupka - Getting started with OpenAI’s CLIP](https://scribe.rip/a3b8f5277867).\n",
    "* <font color='brown'>(**#**)</font> [Moein Shariatnia - Simple Implementation of OpenAI CLIP Model: A Tutorial](https://scribe.rip/ace6ff01d9f2).\n",
    "* <font color='brown'>(**#**)</font> [Shashank Vats - A Guide to Fine Tuning CLIP Models with Custom Data](https://scribe.rip/6c7c0d1416fb)."
   ]
  },
  {
   "cell_type": "code",
   "execution_count": null,
   "metadata": {},
   "outputs": [],
   "source": [
    "# Parameters\n",
    "\n",
    "# Data\n",
    "datasetName = 'Flickr8K'\n",
    "datasetUrl  = 'https://technionmail-my.sharepoint.com/:u:/g/personal/royia_technion_ac_il/EZxtZtYu1s9AgopNp5YSXYAB4tRzJWmoQuvItw8gd3GKcA?e=kPqVOM'\n",
    "datasetFile = 'captions.txt'\n",
    "\n",
    "# Pre Processing\n",
    "\n",
    "# Training\n",
    "batchSize = 32\n",
    "numEpochs = 3\n",
    "\n",
    "# Model\n",
    "modelFolderPath = os.path.join(BASE_FOLDER, MODEL_FOLDER_PATH)\n",
    "inputSize       = 224\n",
    "paramK          = 3 #<! K Top Images\n",
    "\n",
    "# Data Visualization\n"
   ]
  },
  {
   "cell_type": "markdown",
   "metadata": {},
   "source": [
    "## Generate / Load Data\n",
    "\n",
    "Data is based on the [Kaggle - Flickr 8K Data Set](https://www.kaggle.com/datasets/adityajn105/flickr8k).\n",
    "\n"
   ]
  },
  {
   "cell_type": "code",
   "execution_count": null,
   "metadata": {},
   "outputs": [],
   "source": [
    "# Verify Data is Available\n",
    "\n",
    "dataSetPath = os.path.join(BASE_FOLDER, DATA_FOLDER_PATH, datasetName)\n",
    "\n",
    "if not os.path.isdir(dataSetPath):\n",
    "    # Download, unzip and remove ZIP file\n",
    "    onedrivedownloader.download(datasetUrl, os.path.join(BASE_FOLDER, DATA_FOLDER_PATH, datasetName + '.zip'), unzip = True, clean = True)"
   ]
  },
  {
   "cell_type": "code",
   "execution_count": null,
   "metadata": {},
   "outputs": [],
   "source": [
    "# Loader Transform\n",
    "\n",
    "oTrns = TorchVisionTrns.Compose([\n",
    "    TorchVisionTrns.ToImage(),\n",
    "    TorchVisionTrns.ToDtype(torch.float, scale = True),\n",
    "    TorchVisionTrns.Resize(inputSize, interpolation = torchvision.transforms.InterpolationMode.BICUBIC),\n",
    "    TorchVisionTrns.CenterCrop(inputSize),\n",
    "    TorchVisionTrns.Normalize(mean = (0.48145466, 0.4578275, 0.40821073), std = (0.26862954, 0.26130258, 0.27577711)),\n",
    "])\n",
    "\n",
    "# return Compose([\n",
    "#         Resize(n_px, interpolation=BICUBIC),\n",
    "#         CenterCrop(n_px),\n",
    "#         _convert_image_to_rgb,\n",
    "#         ToTensor(),\n",
    "#         Normalize((0.48145466, 0.4578275, 0.40821073), (0.26862954, 0.26130258, 0.27577711)),\n",
    "#     ])"
   ]
  },
  {
   "cell_type": "code",
   "execution_count": null,
   "metadata": {},
   "outputs": [],
   "source": [
    "# Pre Processors of CLIP\n",
    "\n",
    "oProc      = oTrns #<! Should match `_transform` in `clip.tokenize`\n",
    "oTokenizer = clip.tokenize"
   ]
  },
  {
   "cell_type": "code",
   "execution_count": null,
   "metadata": {},
   "outputs": [],
   "source": [
    "# Data Set\n",
    "\n",
    "dataFolder = os.path.join(BASE_FOLDER, DATA_FOLDER_PATH, datasetName)\n",
    "dsTrain    = CLIPDataset(dataFolderPath = dataFolder, dataFileName = 'captions.txt', oProc = oTrns, oTokenizer = oTokenizer, uniqueImages = True) #<! Only unique images\n",
    "# dlTrain    = torch.utils.data.DataLoader(dsTrain, shuffle = True, batch_size = batchSize, num_workers = 2, persistent_workers = True)\n",
    "dlTrain    = torch.utils.data.DataLoader(dsTrain, shuffle = False, batch_size = batchSize) #<! Keep indices aligned\n",
    "numSamples = len(dsTrain)\n",
    "\n",
    "print(f'The number of training samples: {numSamples}')"
   ]
  },
  {
   "cell_type": "code",
   "execution_count": null,
   "metadata": {},
   "outputs": [],
   "source": [
    "# Image + Caption Pair\n",
    "dsTrain._dfDataCaptions.head()"
   ]
  },
  {
   "cell_type": "markdown",
   "metadata": {},
   "source": [
    "### Plot Data"
   ]
  },
  {
   "cell_type": "code",
   "execution_count": null,
   "metadata": {},
   "outputs": [],
   "source": [
    "# Plot the Data\n",
    "\n",
    "hF, vHa = plt.subplots(nrows = 3, ncols = 3, figsize = (9, 9))\n",
    "vHa = vHa.flat\n",
    "\n",
    "for ii in range(9):\n",
    "    hA = vHa[ii]\n",
    "\n",
    "    sampleIdx  = random.randrange(numSamples)\n",
    "    mI         = dsTrain.GetImage(sampleIdx)\n",
    "    captionTxt = dsTrain.GetCaption(sampleIdx)\n",
    "\n",
    "    hA.imshow(mI)\n",
    "    hA.set_title(captionTxt, {'fontsize': 6}, wrap = True)\n",
    "    hA.axis('off')"
   ]
  },
  {
   "cell_type": "markdown",
   "metadata": {},
   "source": [
    "* <font color='brown'>(**#**)</font> Some of the images annotated with multiple captions."
   ]
  },
  {
   "cell_type": "markdown",
   "metadata": {},
   "source": [
    "## Load Model\n",
    "\n",
    "Loading the CLIP model by OpenAI."
   ]
  },
  {
   "cell_type": "code",
   "execution_count": null,
   "metadata": {},
   "outputs": [],
   "source": [
    "# Check GPU Availability\n",
    "\n",
    "runDevice   = torch.device('cuda:0' if torch.cuda.is_available() else 'cpu') #<! The 1st CUDA device"
   ]
  },
  {
   "cell_type": "code",
   "execution_count": null,
   "metadata": {},
   "outputs": [],
   "source": [
    "# Models of CLIP\n",
    "clip.available_models()"
   ]
  },
  {
   "cell_type": "code",
   "execution_count": null,
   "metadata": {},
   "outputs": [],
   "source": [
    "# Model\n",
    "# By default, the model is loaded in Float16\n",
    "\n",
    "oModel, _ = clip.load('ViT-B/16', device = runDevice, jit = False, download_root = modelFolderPath) #<! The JIT must be disabled for training\n",
    "\n",
    "if oModel.visual.input_resolution != inputSize:\n",
    "    raise ValueError(f'The input size of the model is {oModel.visual.input_resolution} and not {inputSize}')"
   ]
  },
  {
   "cell_type": "markdown",
   "metadata": {},
   "source": [
    "## Image Retrieval  "
   ]
  },
  {
   "cell_type": "code",
   "execution_count": null,
   "metadata": {},
   "outputs": [],
   "source": [
    "# Iterate on the Loader\n",
    "# The first batch.\n",
    "tX, tY = next(iter(dlTrain)) #<! PyTorch Tensors\n",
    "\n",
    "print(f'The batch features dimensions: {tX.shape}')\n",
    "print(f'The batch labels dimensions: {tY.shape}')"
   ]
  },
  {
   "cell_type": "code",
   "execution_count": null,
   "metadata": {},
   "outputs": [],
   "source": [
    "tX = tX.to(runDevice)\n",
    "tY = tY.to(runDevice)\n",
    "\n",
    "tSimImage, tSimTxt = oModel(tX, tY) #<! Similarity between the image and the text (tSimImage -> Images as rows, tSimTxt -> Text as rows)"
   ]
  },
  {
   "cell_type": "code",
   "execution_count": null,
   "metadata": {},
   "outputs": [],
   "source": [
    "# Retrieval Text\n",
    "\n",
    "lRetText = ['a car', 'trees or grass']\n",
    "tRetText = clip.tokenize(lRetText).to(runDevice)\n"
   ]
  },
  {
   "cell_type": "code",
   "execution_count": null,
   "metadata": {},
   "outputs": [],
   "source": [
    "# Image Retrieval\n",
    "\n",
    "lLogImage = []\n",
    "\n",
    "with torch.inference_mode():\n",
    "    for tI, tTxt in dlTrain:\n",
    "\n",
    "        tI = tI.to(runDevice)\n",
    "\n",
    "        tLogImage, _ = oModel(tI, tRetText) #<! Similarity of each image (Rows) per text (Columns) (batchSize, len(lRetText))\n",
    "        mLogImage    = tLogImage.cpu().detach().numpy()\n",
    "\n",
    "        lLogImage.append(mLogImage)"
   ]
  },
  {
   "cell_type": "code",
   "execution_count": null,
   "metadata": {},
   "outputs": [],
   "source": [
    "# Locate the Top 5 Images\n",
    "mSim    = np.vstack(lLogImage)\n",
    "lTopIdx = GetTopKImages(mSim, paramK)"
   ]
  },
  {
   "cell_type": "code",
   "execution_count": null,
   "metadata": {},
   "outputs": [],
   "source": [
    "# Display the Top 5 Images\n",
    "\n",
    "hF = plt.figure(constrained_layout = True)\n",
    "hF.suptitle(f'Top {paramK} Images per Text')\n",
    "\n",
    "# Create Sub Figures\n",
    "vHSF = hF.subfigures(nrows = len(lRetText), ncols = 1) #<! Sub Figures\n",
    "for rowIdx, hSubF in enumerate(vHSF):\n",
    "    hSubF.suptitle(f'Text: {lRetText[rowIdx]}')\n",
    "\n",
    "    # Create Subplots per Sub Figure\n",
    "    vHa = hSubF.subplots(nrows = 1, ncols = 3)\n",
    "    for colIdx, hA in enumerate(vHa):\n",
    "        imgIdx = lTopIdx[rowIdx][colIdx]\n",
    "        hA.imshow(dsTrain.GetImage(imgIdx))\n",
    "        hA.axis('off')\n",
    "        hA.set_title(f'Index: {imgIdx}, Score: {mSim[imgIdx, rowIdx]:.2f}')\n"
   ]
  },
  {
   "cell_type": "markdown",
   "metadata": {},
   "source": [
    "## Fine Tuning"
   ]
  },
  {
   "cell_type": "code",
   "execution_count": null,
   "metadata": {},
   "outputs": [],
   "source": [
    "# Data Set\n",
    "\n",
    "batchSize = 16\n",
    "\n",
    "dsTrain    = CLIPDataset(dataFolderPath = dataFolder, dataFileName = 'captions.txt', oProc = oTrns, oTokenizer = oTokenizer)\n",
    "dlTrain    = torch.utils.data.DataLoader(dsTrain, shuffle = True, batch_size = batchSize, drop_last = True)\n",
    "# dlTrain    = torch.utils.data.DataLoader(dsTrain, shuffle = False, batch_size = batchSize)\n",
    "numSamples = len(dsTrain)\n",
    "\n",
    "print(f'The number of training samples: {numSamples}')"
   ]
  },
  {
   "cell_type": "code",
   "execution_count": null,
   "metadata": {},
   "outputs": [],
   "source": [
    "# Model\n",
    "\n",
    "ModelToFloat32(oModel)\n"
   ]
  },
  {
   "cell_type": "code",
   "execution_count": null,
   "metadata": {},
   "outputs": [],
   "source": [
    "# Loss Functions\n",
    "hLImg = nn.CrossEntropyLoss()\n",
    "hLTxt = nn.CrossEntropyLoss()\n"
   ]
  },
  {
   "cell_type": "code",
   "execution_count": null,
   "metadata": {},
   "outputs": [],
   "source": [
    "# Optimizer\n",
    "# Set Hype Parameters. Follow the paper with a lower Learning Rate which is \"safer\" for fine tuning (Transfer Learning)\n",
    "oOpt = torch.optim.Adam(oModel.parameters(), lr = 2e-5, betas = (0.9, 0.98), eps = 1e-6, weight_decay = 0.2)"
   ]
  },
  {
   "cell_type": "code",
   "execution_count": null,
   "metadata": {},
   "outputs": [],
   "source": [
    "# Training Loop\n",
    "\n",
    "numBatches = len(dlTrain)\n",
    "\n",
    "for epochIdx in range(numEpochs):\n",
    "  startTime = time.time()\n",
    "  epochLoss = 0\n",
    "  for ii, (tI, tTxt) in enumerate(dlTrain):\n",
    "    itrBatchSize = tI.shape[0]\n",
    "    oOpt.zero_grad()\n",
    "\n",
    "    tI   = tI.to(runDevice)\n",
    "    tTxt = tTxt.to(runDevice)\n",
    "\n",
    "    tSimImg, tSimTxt = oModel(tI, tTxt)\n",
    "\n",
    "    tY = torch.arange(itrBatchSize, dtype = torch.long, device = runDevice)\n",
    "\n",
    "    valLoss    = (hLImg(tSimImg, tY) + hLTxt(tSimTxt, tY)) / 2\n",
    "    epochLoss += itrBatchSize * valLoss.item()\n",
    "\n",
    "    valLoss.backward() #<! Backward Propagation\n",
    "    oOpt.step()\n",
    "\n",
    "    print(f'\\rIteration: {(ii + 1):3d} / {numBatches}, loss: {valLoss:.6f}', end = '')\n",
    "\n",
    "  print('', end = '\\r')\n",
    "  epochTime = time.time() - startTime\n",
    "\n",
    "\n",
    "  print('Epoch '              f'{(epochIdx + 1):4d} / ' f'{numEpochs}', end = '')\n",
    "  print(' | Train Loss: '     f'{epochLoss          :6.3f}', end = '')\n",
    "  print(' | Epoch Time: '     f'{epochTime          :5.2f}', end = '')\n",
    "  print(' |')"
   ]
  },
  {
   "cell_type": "markdown",
   "metadata": {},
   "source": [
    "* <font color='brown'>(**#**)</font> One could train additional classifier layer on top of the output features of the model instead of the whole model:\n",
    "\n",
    "```python\n",
    "import torch.nn as nn\n",
    "\n",
    "# Modify the model to include a classifier for subcategories\n",
    "class CLIPFineTuner(nn.Module):\n",
    "    def __init__(self, oClipModel: nn.Module, numCls: int):\n",
    "        super(CLIPFineTuner, self).__init__()\n",
    "        self.oModel     = oClipModel\n",
    "        self.oClsModel  = nn.Linear(oClipModel.visual.output_dim, numCls)\n",
    "    \n",
    "    def forward(self, x):\n",
    "        with torch.inference_mode():\n",
    "            # Calculate the Features of the CLIP model\n",
    "            tF = self.oModel.encode_image(x).float()  #<! The Clip model if Float16 by default -> Convert to Float32\n",
    "        return self.classifier(tF)\n",
    "```\n",
    "\n",
    "<!-- * <font color='brown'>(**#**)</font> [A Beginner's Guide to Fine-Tuning CLIP Models](https://github.com/mlfoundations/open_clip/discussions/911) or [Fine Tuning CLIP Models](https://www.marqo.ai/course/fine-tuning-clip-models). -->"
   ]
  },
  {
   "cell_type": "code",
   "execution_count": null,
   "metadata": {},
   "outputs": [],
   "source": [
    "# Data Set\n",
    "\n",
    "dataFolder = os.path.join(BASE_FOLDER, DATA_FOLDER_PATH, datasetName)\n",
    "dsTrain    = CLIPDataset(dataFolderPath = dataFolder, dataFileName = 'captions.txt', oProc = oTrns, oTokenizer = oTokenizer, uniqueImages = True) #<! Only unique images\n",
    "# dlTrain    = torch.utils.data.DataLoader(dsTrain, shuffle = True, batch_size = batchSize, num_workers = 2, persistent_workers = True)\n",
    "dlTrain    = torch.utils.data.DataLoader(dsTrain, shuffle = False, batch_size = batchSize)\n",
    "numSamples = len(dsTrain)\n",
    "\n",
    "print(f'The number of training samples: {numSamples}')"
   ]
  },
  {
   "cell_type": "code",
   "execution_count": null,
   "metadata": {},
   "outputs": [],
   "source": [
    "# Retrieval Text\n",
    "\n",
    "lRetText = ['a car', 'trees or grass']\n",
    "tRetText = clip.tokenize(lRetText).to(runDevice)\n"
   ]
  },
  {
   "cell_type": "code",
   "execution_count": null,
   "metadata": {},
   "outputs": [],
   "source": [
    "# Image Retrieval\n",
    "\n",
    "lLogImage = []\n",
    "\n",
    "with torch.inference_mode():\n",
    "    for tI, tTxt in dlTrain:\n",
    "\n",
    "        tI = tI.to(runDevice)\n",
    "\n",
    "        tLogImage, _ = oModel(tI, tRetText) #<! Similarity of each image (Rows) per text (Columns) (batchSize, len(lRetText))\n",
    "        mLogImage    = tLogImage.cpu().detach().numpy()\n",
    "\n",
    "        lLogImage.append(mLogImage)\n",
    "\n",
    "# Locate the Top 5 Images"
   ]
  },
  {
   "cell_type": "code",
   "execution_count": null,
   "metadata": {},
   "outputs": [],
   "source": [
    "# Locate the Top 5 Images\n",
    "mSim    = np.vstack(lLogImage)\n",
    "lTopIdx = GetTopKImages(mSim, paramK)"
   ]
  },
  {
   "cell_type": "code",
   "execution_count": null,
   "metadata": {},
   "outputs": [],
   "source": [
    "# Display the Top 5 Images\n",
    "\n",
    "hF = plt.figure(constrained_layout = True)\n",
    "hF.suptitle(f'Top {paramK} Images per Text')\n",
    "\n",
    "# Create 3x1 subfigs\n",
    "vHSF = hF.subfigures(nrows = len(lRetText), ncols = 1) #<! Sub Figures\n",
    "for rowIdx, hSubF in enumerate(vHSF):\n",
    "    hSubF.suptitle(f'Text: {lRetText[rowIdx]}')\n",
    "\n",
    "    # create 1x3 subplots per subfig\n",
    "    vHa = hSubF.subplots(nrows = 1, ncols = 3)\n",
    "    for colIdx, hA in enumerate(vHa):\n",
    "        imgIdx = lTopIdx[rowIdx][colIdx]\n",
    "        hA.imshow(dsTrain.GetImage(imgIdx))\n",
    "        hA.axis('off')\n",
    "        hA.set_title(f'Index: {imgIdx}, Score: {mSim[imgIdx, rowIdx]:.2f}')\n"
   ]
  }
 ],
 "metadata": {
  "kernelspec": {
   "display_name": "Python 3",
   "language": "python",
   "name": "python3"
  },
  "language_info": {
   "codemirror_mode": {
    "name": "ipython",
    "version": 3
   },
   "file_extension": ".py",
   "mimetype": "text/x-python",
   "name": "python",
   "nbconvert_exporter": "python",
   "pygments_lexer": "ipython3",
   "version": "3.12.9"
  },
  "toc": {
   "base_numbering": 1,
   "nav_menu": {},
   "number_sections": false,
   "sideBar": true,
   "skip_h1_title": false,
   "title_cell": "Table of Contents",
   "title_sidebar": "Contents",
   "toc_cell": false,
   "toc_position": {},
   "toc_section_display": true,
   "toc_window_display": true
  },
  "varInspector": {
   "cols": {
    "lenName": 16,
    "lenType": 16,
    "lenVar": 40
   },
   "kernels_config": {
    "python": {
     "delete_cmd_postfix": "",
     "delete_cmd_prefix": "del ",
     "library": "var_list.py",
     "varRefreshCmd": "print(var_dic_list())"
    },
    "r": {
     "delete_cmd_postfix": ") ",
     "delete_cmd_prefix": "rm(",
     "library": "var_list.r",
     "varRefreshCmd": "cat(var_dic_list()) "
    }
   },
   "types_to_exclude": [
    "module",
    "function",
    "builtin_function_or_method",
    "instance",
    "_Feature"
   ],
   "window_display": false
  },
  "vscode": {
   "interpreter": {
    "hash": "39577bab1f263e62e0b74f5b8086bd735049bf4751f6562b2d4b2969dc308293"
   }
  }
 },
 "nbformat": 4,
 "nbformat_minor": 4
}
