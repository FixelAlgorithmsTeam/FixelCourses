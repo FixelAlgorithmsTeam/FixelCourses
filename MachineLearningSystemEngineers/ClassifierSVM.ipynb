{
 "cells": [
  {
   "cell_type": "markdown",
   "metadata": {},
   "source": [
    "[![Fixel Algorithms](https://fixelalgorithms.co/images/CCExt.png)](https://fixelalgorithms.gitlab.io)\n",
    "\n",
    "# Classifier - The SVM Classifier\n",
    "\n",
    "> Notebook by:\n",
    "> - Royi Avital RoyiAvital@fixelalgorithms.com\n",
    "\n",
    "## Revision History\n",
    "\n",
    "| Version | Date       | User        |Content / Changes                                                   |\n",
    "|---------|------------|-------------|--------------------------------------------------------------------|\n",
    "| 0.1.000 | 17/09/2022 | Royi Avital | First version                                                      |\n",
    "|         |            |             |                                                                    |"
   ]
  },
  {
   "cell_type": "markdown",
   "metadata": {},
   "source": [
    "[![Open In Colab](https://colab.research.google.com/assets/colab-badge.svg)](https://colab.research.google.com/github/FixelAlgorithmsTeam/FixelCourses/blob/master/IntroductionMachineLearningSystemEngineers/ClassifierSVM.ipynb)"
   ]
  },
  {
   "cell_type": "code",
   "execution_count": null,
   "metadata": {
    "ExecuteTime": {
     "end_time": "2022-02-02T14:15:51.685539Z",
     "start_time": "2022-02-02T14:15:51.411291Z"
    }
   },
   "outputs": [],
   "source": [
    "# Import Packages\n",
    "\n",
    "# General Tools\n",
    "import numpy as np\n",
    "import scipy as sp\n",
    "import pandas as pd\n",
    "\n",
    "# Machine Learning\n",
    "from sklearn.datasets import load_breast_cancer, make_circles\n",
    "from sklearn.svm import SVC\n",
    "\n",
    "from scipy.spatial.distance import cdist\n",
    "\n",
    "# Misc\n",
    "import datetime\n",
    "import os\n",
    "from platform import python_version\n",
    "import random\n",
    "import warnings\n",
    "import yaml\n",
    "\n",
    "# Typing\n",
    "from typing import Tuple\n",
    "\n",
    "# Visualization\n",
    "import matplotlib.pyplot as plt\n",
    "import seaborn as sns\n",
    "\n",
    "# Jupyter\n",
    "from IPython import get_ipython\n",
    "from IPython.display import Image, display\n",
    "from ipywidgets import Dropdown, FloatSlider, interact, IntSlider, Layout"
   ]
  },
  {
   "cell_type": "code",
   "execution_count": null,
   "metadata": {},
   "outputs": [],
   "source": [
    "# Configuration\n",
    "%matplotlib inline\n",
    "\n",
    "warnings.filterwarnings(\"ignore\")\n",
    "\n",
    "seedNum = 512\n",
    "np.random.seed(seedNum)\n",
    "random.seed(seedNum)\n",
    "\n",
    "# sns.set_theme() #>! Apply SeaBorn theme\n",
    "\n",
    "runInGoogleColab = 'google.colab' in str(get_ipython())"
   ]
  },
  {
   "cell_type": "code",
   "execution_count": null,
   "metadata": {},
   "outputs": [],
   "source": [
    "# Constants\n",
    "\n",
    "FIG_SIZE_DEF = (8, 8)\n",
    "ELM_SIZE_DEF = 50\n",
    "CLASS_COLOR = ('b', 'r')\n"
   ]
  },
  {
   "cell_type": "code",
   "execution_count": null,
   "metadata": {},
   "outputs": [],
   "source": [
    "# Fixel Algorithms Packages\n"
   ]
  },
  {
   "cell_type": "code",
   "execution_count": null,
   "metadata": {},
   "outputs": [],
   "source": [
    "# Parameters\n",
    "\n",
    "# Data Generation\n",
    "numSamples0 = 250\n",
    "numSamples1 = 250\n",
    "\n",
    "\n",
    "# Data Visuzalization\n",
    "figSize     = (8, 8)\n",
    "elmSize     = 50\n",
    "classColor0 = CLASS_COLOR[0]\n",
    "classColor1 = CLASS_COLOR[1]\n",
    "\n",
    "numGridPts = 250"
   ]
  },
  {
   "cell_type": "code",
   "execution_count": null,
   "metadata": {},
   "outputs": [],
   "source": [
    "# Auxiliary Functions\n",
    "\n",
    "def PlotBinaryClassData( mX: np.ndarray, vY: np.ndarray, hA:plt.Axes = None, figSize: Tuple[int, int] = FIG_SIZE_DEF, elmSize: int = ELM_SIZE_DEF, classColor: Tuple[str, str] = CLASS_COLOR, axisTitle: str = None ) -> plt.Axes:\n",
    "\n",
    "    if hA is None:\n",
    "        hF, hA = plt.subplots(figsize = figSize)\n",
    "    else:\n",
    "        hF = hA.get_figure()\n",
    "    \n",
    "    vC, vN = np.unique(vY, return_counts = True)\n",
    "\n",
    "    numClass = len(vC)\n",
    "    if (len(vC) != 2):\n",
    "        raise ValueError(f'The input data is not binary, the number of classes is: {numClass}')\n",
    "\n",
    "    vIdx0 = vY == vC[0]\n",
    "    vIdx1 = vY == vC[1] #<! Basically ~vIdx0\n",
    "\n",
    "    hA.scatter(mX[vIdx0, 0], mX[vIdx0, 1], s = elmSize, color = classColor[0], edgecolor = 'k', label = f'$C_\\u007b {vC[0]} \\u007d$')\n",
    "    hA.scatter(mX[vIdx1, 0], mX[vIdx1, 1], s = elmSize, color = classColor[1], edgecolor = 'k', label = f'$C_\\u007b {vC[1]} \\u007d$')\n",
    "    hA.axvline(x = 0, color = 'k')\n",
    "    hA.axhline(y = 0, color = 'k')\n",
    "    hA.axis('equal')\n",
    "    if axisTitle is not None:\n",
    "        hA.set_title(axisTitle)\n",
    "    hA.legend()\n",
    "    \n",
    "    return hA"
   ]
  },
  {
   "cell_type": "markdown",
   "metadata": {},
   "source": [
    "## Generate / Load Data\n"
   ]
  },
  {
   "cell_type": "code",
   "execution_count": null,
   "metadata": {
    "ExecuteTime": {
     "end_time": "2022-02-02T14:15:51.715566Z",
     "start_time": "2022-02-02T14:15:51.686541Z"
    }
   },
   "outputs": [],
   "source": [
    "# Generate Data \n",
    "numSamples = numSamples0 + numSamples1\n",
    "mX = np.random.rand(numSamples, 2) - 0.5\n",
    "mX[numSamples0:, 0] += 2\n",
    "vY = np.ones((numSamples, ), dtype = np.integer)\n",
    "vY[:numSamples0] = 0\n",
    "\n",
    "# Once hard sample\n",
    "mX[0, 0]    = 0.75\n",
    "vY[0]       = 1\n",
    "\n",
    "vAxis = np.array([-1, 3, -1, 1])\n",
    "\n",
    "mX.shape, vY.shape"
   ]
  },
  {
   "cell_type": "markdown",
   "metadata": {},
   "source": [
    "### Plot Data"
   ]
  },
  {
   "cell_type": "code",
   "execution_count": null,
   "metadata": {
    "ExecuteTime": {
     "end_time": "2022-02-02T14:15:51.969410Z",
     "start_time": "2022-02-02T14:15:51.716568Z"
    }
   },
   "outputs": [],
   "source": [
    "# Display the Data\n",
    "\n",
    "hA = PlotBinaryClassData(mX, vY)"
   ]
  },
  {
   "cell_type": "markdown",
   "metadata": {},
   "source": [
    "### Train a SVM Classifier"
   ]
  },
  {
   "cell_type": "code",
   "execution_count": null,
   "metadata": {
    "ExecuteTime": {
     "end_time": "2022-02-02T14:15:52.349337Z",
     "start_time": "2022-02-02T14:15:51.970412Z"
    }
   },
   "outputs": [],
   "source": [
    "def PlotSVM(C):\n",
    "    if C == 0:\n",
    "        C = 1e-20\n",
    "\n",
    "    # Train the linear SVM\n",
    "    oSvmClassifier = SVC(C = C, kernel = 'linear').fit(mX, vY)\n",
    "    \n",
    "    # Get model params\n",
    "    vW =  oSvmClassifier.coef_[0]\n",
    "    b  = -oSvmClassifier.intercept_  \n",
    "\n",
    "    axisTitle = f'SVM Classifier: $C = {C}$'\n",
    "    \n",
    "    hF, hA = plt.subplots(figsize = (8, 8))\n",
    "    PlotBinaryClassData(mX, vY, hA = hA, axisTitle = axisTitle)\n",
    "\n",
    "    vXlim = vAxis[:2]\n",
    "    \n",
    "    hA.plot(vXlim, (b + 1 - vW[0] * vXlim) / vW[1], lw = 2, color = 'orange', ls = '--')\n",
    "    hA.plot(vXlim, (b + 0 - vW[0] * vXlim) / vW[1], lw = 4, color = 'orange', ls = '-' )\n",
    "    hA.plot(vXlim, (b - 1 - vW[0] * vXlim) / vW[1], lw = 2, color = 'orange', ls = '--')\n",
    "\n",
    "    hA.axis(vAxis)"
   ]
  },
  {
   "cell_type": "markdown",
   "metadata": {},
   "source": [
    "### $$\\min_{\\boldsymbol{w},b}\\frac{1}{2}\\left\\Vert \\boldsymbol{w}\\right\\Vert ^{2}+C\\sum_{i}\\xi_{i}$$\n",
    "$$\\xi_{i}:=\\max\\left\\{ 0,1-y_{i}\\left(\\boldsymbol{w}^{T}\\boldsymbol{x}_{i}-b\\right)\\right\\} $$"
   ]
  },
  {
   "cell_type": "code",
   "execution_count": null,
   "metadata": {
    "ExecuteTime": {
     "end_time": "2022-02-02T14:15:52.522494Z",
     "start_time": "2022-02-02T14:15:52.350339Z"
    }
   },
   "outputs": [],
   "source": [
    "\n",
    "cSlider = FloatSlider(min = 0, max = 100, step = 1, value = 1, layout = Layout(width = '30%'))\n",
    "interact(PlotSVM, C = cSlider)"
   ]
  }
 ],
 "metadata": {
  "kernelspec": {
   "display_name": "Python 3.10.5 64-bit (system)",
   "language": "python",
   "name": "python3"
  },
  "language_info": {
   "codemirror_mode": {
    "name": "ipython",
    "version": 3
   },
   "file_extension": ".py",
   "mimetype": "text/x-python",
   "name": "python",
   "nbconvert_exporter": "python",
   "pygments_lexer": "ipython3",
   "version": "3.10.5"
  },
  "toc": {
   "base_numbering": 1,
   "nav_menu": {},
   "number_sections": false,
   "sideBar": true,
   "skip_h1_title": false,
   "title_cell": "Table of Contents",
   "title_sidebar": "Contents",
   "toc_cell": false,
   "toc_position": {},
   "toc_section_display": true,
   "toc_window_display": false
  },
  "varInspector": {
   "cols": {
    "lenName": 16,
    "lenType": 16,
    "lenVar": 40
   },
   "kernels_config": {
    "python": {
     "delete_cmd_postfix": "",
     "delete_cmd_prefix": "del ",
     "library": "var_list.py",
     "varRefreshCmd": "print(var_dic_list())"
    },
    "r": {
     "delete_cmd_postfix": ") ",
     "delete_cmd_prefix": "rm(",
     "library": "var_list.r",
     "varRefreshCmd": "cat(var_dic_list()) "
    }
   },
   "types_to_exclude": [
    "module",
    "function",
    "builtin_function_or_method",
    "instance",
    "_Feature"
   ],
   "window_display": false
  },
  "vscode": {
   "interpreter": {
    "hash": "7eecc89e9756f599c7795c711b2e1de4865f3e2c067be515b73e3b7137ab82cc"
   }
  }
 },
 "nbformat": 4,
 "nbformat_minor": 4
}
