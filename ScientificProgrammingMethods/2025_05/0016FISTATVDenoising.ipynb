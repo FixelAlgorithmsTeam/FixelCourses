{
 "cells": [
  {
   "attachments": {},
   "cell_type": "markdown",
   "metadata": {},
   "source": [
    "[![Fixel Algorithms](https://fixelalgorithms.co/images/CCExt.png)](https://fixelalgorithms.gitlab.io)\n",
    "\n",
    "# Scientific Programming Methods\n",
    "\n",
    "## Convex Optimization - Algorithms & Solvers - Accelerated Gradient Descent / Sub Gradient Method\n",
    "\n",
    "> Notebook by:\n",
    "> - Royi Avital RoyiAvital@fixelalgorithms.com\n",
    "\n",
    "## Revision History\n",
    "\n",
    "| Version | Date       | User        |Content / Changes                                                   |\n",
    "|---------|------------|-------------|--------------------------------------------------------------------|\n",
    "| 1.0.000 | 03/10/2024 | Royi Avital | First version                                                      |"
   ]
  },
  {
   "attachments": {},
   "cell_type": "markdown",
   "metadata": {},
   "source": [
    "[![Open In Colab](https://colab.research.google.com/assets/colab-badge.svg)](https://colab.research.google.com/github/FixelAlgorithmsTeam/FixelCourses/blob/master/AIProgram/2024_02/0012LinearFitL1.ipynb)"
   ]
  },
  {
   "cell_type": "code",
   "execution_count": 1,
   "metadata": {
    "ExecuteTime": {
     "end_time": "2022-02-02T09:30:06.492269Z",
     "start_time": "2022-02-02T09:30:06.220934Z"
    }
   },
   "outputs": [],
   "source": [
    "# Import Packages\n",
    "\n",
    "# General Tools\n",
    "import numpy as np\n",
    "import scipy as sp\n",
    "import pandas as pd\n",
    "\n",
    "# Machine Learning\n",
    "\n",
    "# Optimization\n",
    "import cvxpy as cp\n",
    "\n",
    "# Miscellaneous\n",
    "import os\n",
    "import math\n",
    "from platform import python_version\n",
    "import random\n",
    "import time\n",
    "\n",
    "# Typing\n",
    "from typing import Callable, List, Tuple, Union\n",
    "\n",
    "# Visualization\n",
    "import matplotlib.pyplot as plt\n",
    "\n",
    "# Jupyter\n",
    "from IPython import get_ipython"
   ]
  },
  {
   "attachments": {},
   "cell_type": "markdown",
   "metadata": {},
   "source": [
    "## Notations\n",
    "\n",
    "* <font color='red'>(**?**)</font> Question to answer interactively.\n",
    "* <font color='blue'>(**!**)</font> Simple task to add code for the notebook.\n",
    "* <font color='green'>(**@**)</font> Optional / Extra self practice.\n",
    "* <font color='brown'>(**#**)</font> Note / Useful resource / Food for thought.\n",
    "\n",
    "Code Notations:\n",
    "\n",
    "```python\n",
    "someVar    = 2; #<! Notation for a variable\n",
    "vVector    = np.random.rand(4) #<! Notation for 1D array\n",
    "mMatrix    = np.random.rand(4, 3) #<! Notation for 2D array\n",
    "tTensor    = np.random.rand(4, 3, 2, 3) #<! Notation for nD array (Tensor)\n",
    "tuTuple    = (1, 2, 3) #<! Notation for a tuple\n",
    "lList      = [1, 2, 3] #<! Notation for a list\n",
    "dDict      = {1: 3, 2: 2, 3: 1} #<! Notation for a dictionary\n",
    "oObj       = MyClass() #<! Notation for an object\n",
    "dfData     = pd.DataFrame() #<! Notation for a data frame\n",
    "dsData     = pd.Series() #<! Notation for a series\n",
    "hObj       = plt.Axes() #<! Notation for an object / handler / function handler\n",
    "```\n",
    "\n",
    "### Code Exercise\n",
    "\n",
    " - Single line fill\n",
    "\n",
    "```python\n",
    "vallToFill = ???\n",
    "```\n",
    "\n",
    " - Multi Line to Fill (At least one)\n",
    "\n",
    "```python\n",
    "# You need to start writing\n",
    "?????\n",
    "```\n",
    "\n",
    " - Section to Fill\n",
    "\n",
    "```python\n",
    "#===========================Fill This===========================#\n",
    "# 1. Explanation about what to do.\n",
    "# !! Remarks to follow / take under consideration.\n",
    "mX = ???\n",
    "\n",
    "?????\n",
    "#===============================================================#\n",
    "```"
   ]
  },
  {
   "cell_type": "code",
   "execution_count": 2,
   "metadata": {},
   "outputs": [],
   "source": [
    "# Configuration\n",
    "# %matplotlib inline\n",
    "\n",
    "# warnings.filterwarnings(\"ignore\")\n",
    "\n",
    "seedNum = 512\n",
    "np.random.seed(seedNum)\n",
    "random.seed(seedNum)\n",
    "\n",
    "# Matplotlib default color palette\n",
    "lMatPltLibclr = ['#1f77b4', '#ff7f0e', '#2ca02c', '#d62728', '#9467bd', '#8c564b', '#e377c2', '#7f7f7f', '#bcbd22', '#17becf']\n",
    "# sns.set_theme() #>! Apply SeaBorn theme\n",
    "# sns.set_palette(\"tab10\")\n",
    "\n",
    "runInGoogleColab = 'google.colab' in str(get_ipython())"
   ]
  },
  {
   "cell_type": "code",
   "execution_count": 3,
   "metadata": {},
   "outputs": [],
   "source": [
    "# Constants\n",
    "\n",
    "FIG_SIZE_DEF    = (8, 8)\n",
    "ELM_SIZE_DEF    = 50\n",
    "CLASS_COLOR     = ('b', 'r')\n",
    "EDGE_COLOR      = 'k'\n",
    "MARKER_SIZE_DEF = 10\n",
    "LINE_WIDTH_DEF  = 2\n"
   ]
  },
  {
   "cell_type": "code",
   "execution_count": 4,
   "metadata": {},
   "outputs": [],
   "source": [
    "# Course Packages\n",
    "\n",
    "from AuxFun import ProxGradientDescent\n",
    "from AuxFun import DisplayCompaisonSummary, DisplayRunSummary, MakeSignal\n"
   ]
  },
  {
   "cell_type": "code",
   "execution_count": 5,
   "metadata": {},
   "outputs": [],
   "source": [
    "# Auxiliary Functions\n",
    "\n",
    "def SubGradient( mX: np.ndarray, hGradFun: Callable[[np.ndarray], np.ndarray], /, *, hMuK: Callable[[int], float] = lambda kk: 1 / kk ) -> np.ndarray:\n",
    "    \"\"\"\n",
    "    SubGradient: Performs subgradient optimization on the given sequence of points.\n",
    "\n",
    "    This function iteratively updates a sequence of points `mX` by following the subgradient\n",
    "    provided by `hGradFun()`, with a step size determined by the `hMuK()` function. It implements\n",
    "    a basic subgradient method, typically used for optimizing non differentiable functions.\n",
    "\n",
    "    Parameters:\n",
    "    ----------\n",
    "    mX : np.ndarray\n",
    "        A 2D array of shape `(numIter, dataDim)`, where each row represents a point in the optimization process.\n",
    "        The initial point is provided in `mX[0]`, and subsequent points are updated in place.\n",
    "\n",
    "    hGradFun : Callable\n",
    "        A function that computes the subgradient at a given point `hGradFun(vX)`. It should take a single argument (a point\n",
    "        in the same space as the rows of `mX`) and return the corresponding subgradient vector.\n",
    "\n",
    "    hMuK : Callable, optional\n",
    "        A function that computes the step size at iteration `kk`. By default, it uses `lambda kk: 1 / kk`,\n",
    "        which gives a diminishing step size. It should take the iteration number `kk` as an input and return\n",
    "        a scalar value representing the step size.\n",
    "\n",
    "    Returns:\n",
    "    -------\n",
    "    mX : np.ndarray\n",
    "        The updated sequence of points after performing subgradient descent. The final point can be found\n",
    "        in `mX[-1]`.\n",
    "    \"\"\"\n",
    "\n",
    "    numIter = np.size(mX, 0)\n",
    "    \n",
    "    for kk in range(1, numIter):\n",
    "        vG      = hGradFun(mX[kk - 1])\n",
    "        mX[kk]  = mX[kk - 1] - (hMuK(kk) * vG)\n",
    "    \n",
    "    return mX\n"
   ]
  },
  {
   "cell_type": "code",
   "execution_count": 6,
   "metadata": {},
   "outputs": [],
   "source": [
    "# Parameters\n",
    "\n",
    "# Data\n",
    "numSamples  = 200\n",
    "noiseStd    = 0.25\n",
    "\n",
    "λ = 0.5\n",
    "\n",
    "# Solver\n",
    "μ               = 0.0025\n",
    "numIterations   = 10_000\n",
    "\n",
    "# # Verification\n",
    "ε = 1e-6 #<! Error threshold"
   ]
  },
  {
   "attachments": {},
   "cell_type": "markdown",
   "metadata": {},
   "source": [
    "## FISTA for TV Denoising\n",
    "\n",
    "The _Total Variation Denoising_ is a sparse based module which promotes the model of a _piece wise constant_ signal.  \n",
    "Its general form is given as:\n",
    "\n",
    "$$ \\arg \\min_{\\boldsymbol{x}} \\frac{1}{2} {\\left\\| \\boldsymbol{A} \\boldsymbol{x} - \\boldsymbol{b} \\right\\|}_{2}^{2} + \\lambda {\\left\\| \\boldsymbol{D} \\boldsymbol{x} \\right\\|}_{1} $$\n",
    "\n",
    "Where $\\lambda {\\left\\| \\boldsymbol{D} \\boldsymbol{x} \\right\\|}_{1}$ is the regularization term with $\\lambda \\geq 0$ sets the regularization level.  \n",
    "The matrix $\\boldsymbol{D}$ represent the [Finite Difference operator](https://en.wikipedia.org/wiki/Finite_difference).  \n",
    "In this case the regularization term promotes sparsity over the 1st derivative which implies piece wise constant signal.  \n",
    "\n",
    "* <font color='brown'>(**#**)</font> There are variations of the [Finite Difference Coefficients](https://en.wikipedia.org/wiki/Finite_difference_coefficient).\n",
    "* <font color='brown'>(**#**)</font> The regularization is a non smooth function. It requires _non smooth solver_.\n",
    "\n",
    "This notebooks covers:\n",
    " - The solution of the above problem using the Accelerated Sub Gradient Method.  \n",
    " - Comparing the convergence of the accelerated and non accelerated method.\n",
    "\n",
    "### Acceleration Methods\n",
    "\n",
    "Most acceleration methods use _memory_ in order to improve the gradient direction.  \n",
    "This improvement yields a faster convergence rates with small computational burden.\n",
    "\n",
    "This notebooks uses the formulation called _FISTA_ coined in the paper [A Fast Iterative Shrinkage Thresholding Algorithm for Linear Inverse Problems](https://epubs.siam.org/doi/10.1137/080716542).  \n",
    "Its formulation for _Sub Gradient_ is given for $k \\in \\left\\{ 1, 2, \\ldots, K \\right\\}$:\n",
    "\n",
    "$$\n",
    "\\begin{aligned}\n",
    "\\boldsymbol{v} & = \\boldsymbol{x}_{k} + \\frac{k - 1}{k + 2} \\left( \\boldsymbol{x}_{k} - \\boldsymbol{x}_{k - 1} \\right) \\\\\n",
    "\\boldsymbol{x}_{k + 1} & = \\boldsymbol{v} - {\\mu}_{k} \\partial f \\left( \\boldsymbol{v} \\right)\n",
    "\\end{aligned}\n",
    "$$\n",
    "\n",
    "It can be thought as a _look ahead_ where the gradient is calculated at a farther step.\n",
    "\n",
    "![](https://i.imgur.com/2coe2Uy.png)  \n",
    "Image from [Andre Wibisono - Accelerated Gradient Descent](http://awibisono.github.io/2016/06/20/accelerated-gradient-descent.html)\n",
    "\n",
    "* <font color='brown'>(**#**)</font> The _Acceleration Framework_ can be utilized in Gradient Descent, Sub Gradient Descent and Proximal Gradient Method.\n",
    "* <font color='brown'>(**#**)</font> The formulation used is a simplified formulation of the original paper.\n",
    "* <font color='brown'>(**#**)</font> Some suggest using the accelerated method for $\\left \\lfloor \\frac{2 K}{3} \\right \\rfloor$ iterations and then use regular non accelerated method.  \n",
    "See [Another Look at the Fast Iterative Shrinkage / Thresholding Algorithm (FISTA)](https://arxiv.org/abs/1608.03861).\n",
    "* <font color='brown'>(**#**)</font> Some explain the acceleration effect by analysis of a linear differential system.  \n",
    "See [A Differential Equation for Modeling Nesterov's Accelerated Gradient Method: Theory and Insights](https://arxiv.org/abs/1503.01243).  \n",
    "Farther ideas are given in [StackExchnage Mathematics - Intuition Behind Accelerated First Order Methods](https://math.stackexchange.com/questions/904691).\n",
    "* <font color='brown'>(**#**)</font> The solution path of the FISTA is not monotonic and known to be oscillatory. There are monotonic variants.  \n",
    "See [Improving Fast Iterative Shrinkage Thresholding Algorithm: Faster, Smarter and Greedier](https://arxiv.org/abs/1811.01430).\n",
    "* <font color='brown'>(**#**)</font> Theoretically the FISTA achieves the fastest convergence rate available to _First Order_ methods.\n",
    "* <font color='brown'>(**#**)</font> [A Twitt by Ben Grimmer (On Twitter)](https://twitter.com/prof_grimmer) showed alternative policy: [Periodic Long Steps](https://twitter.com/prof_grimmer/status/1679846891171766272).  \n",
    "See [Provably Faster Gradient Descent via Long Steps](https://arxiv.org/abs/2307.06324) and [Accelerated Gradient Descent via Long Steps](https://arxiv.org/abs/2309.09961).\n"
   ]
  },
  {
   "cell_type": "markdown",
   "metadata": {},
   "source": [
    "## Generate Data\n"
   ]
  },
  {
   "cell_type": "markdown",
   "metadata": {},
   "source": [
    "The data is a Piece Wise Constant signal to match the model of the problem.\n",
    "\n",
    "* <font color='brown'>(**#**)</font> The function `MakeSignal`  is based on code by [Ivan W. Selesnick - Total Variation Denoising](https://eeweb.engineering.nyu.edu/iselesni/lecture_notes/TVDmm)."
   ]
  },
  {
   "cell_type": "code",
   "execution_count": 7,
   "metadata": {},
   "outputs": [],
   "source": [
    "# Generate / Load the Data\n",
    "\n",
    "# Model Data\n",
    "vS = MakeSignal('Blocks', numSamples)\n",
    "vY = vS + (noiseStd * np.random.randn(numSamples))\n",
    "\n",
    "mD = sp.sparse.spdiags([-np.ones(numSamples), np.ones(numSamples)], [0, 1], numSamples - 1, numSamples) #<! Different than MATLAB in the length required\n",
    "\n",
    "mX = np.zeros(shape = (numIterations, numSamples)) #<! Initialization by zeros\n",
    "\n",
    "dSolverData = {}\n"
   ]
  },
  {
   "cell_type": "code",
   "execution_count": null,
   "metadata": {},
   "outputs": [],
   "source": [
    "# Display Data \n",
    "\n",
    "hF, hA = plt.subplots(figsize = (10, 6))\n",
    "hA.plot(range(numSamples), vS, lw = 2, label = 'Signal Model')\n",
    "hA.plot(range(numSamples), vY, ls = 'None', marker = '*', ms = 5, label = 'Signal Samples')\n",
    "hA.set_title('Signal Model and Signal Samples (Noisy)')\n",
    "hA.set_xlabel('Sample Index')\n",
    "hA.set_ylabel('Sample Value')\n",
    "\n",
    "hA.legend();"
   ]
  },
  {
   "cell_type": "markdown",
   "metadata": {},
   "source": [
    "* <font color='red'>(**?**)</font> How the gradient of the signal model would look like?\n",
    "* <font color='red'>(**?**)</font> How the gradient of the signal samples  would look like?"
   ]
  },
  {
   "cell_type": "markdown",
   "metadata": {},
   "source": [
    "## Total Variation Denoising\n",
    "\n",
    "This section defines the problem and solve it using the _Accelerated Sub Gradient_."
   ]
  },
  {
   "cell_type": "markdown",
   "metadata": {},
   "source": [
    "### Objective Function\n",
    "\n",
    "The objective function of the TV Denoising:\n",
    "\n",
    "$$ \\arg \\min_{\\boldsymbol{x}} \\underbrace{\\frac{1}{2} {\\left\\| \\boldsymbol{A} \\boldsymbol{x} - \\boldsymbol{b} \\right\\|}_{2}^{2}}_{\\text{Fidelity}} + \\underbrace{\\lambda {\\left\\| \\boldsymbol{D} \\boldsymbol{x} \\right\\|}_{1}}_{\\text{Regularization}} $$\n",
    "\n",
    "The format of fidelity term and regularization is common in [_Inverse Problem_](https://en.wikipedia.org/wiki/Inverse_problem) which are one of the most challenging types of problems in Engineering.  \n",
    "The regularization is modelling a desired effect on the output. In our case promoting sparse derivative which implies a _piece wise constant_ signal.\n",
    "\n",
    "* <font color='brown'>(**#**)</font> For simplicity the explicit sparse matrix is used above. In many cases it is better to use an operator.  \n",
    "In this case by applying a convolution."
   ]
  },
  {
   "cell_type": "code",
   "execution_count": 9,
   "metadata": {},
   "outputs": [],
   "source": [
    "# Objective Function\n",
    "\n",
    "#===========================Fill This===========================#\n",
    "# 1. Implement the objective function. \n",
    "#    Given a vector of `vX` it returns the objective.\n",
    "# 2. The implementation should be using a Lambda Function.\n",
    "# !! You may `np.square()` and / or `np.linalg.norm()`.\n",
    "\n",
    "hObjFun = lambda vX: ???\n",
    "#===============================================================#"
   ]
  },
  {
   "cell_type": "markdown",
   "metadata": {},
   "source": [
    "* <font color='red'>(**?**)</font> How would the least squares (With no regularization, $\\lambda = 0$) solution look like?"
   ]
  },
  {
   "cell_type": "markdown",
   "metadata": {},
   "source": [
    "## Analysis\n",
    "\n",
    "This section solves the problem in 3 ways:\n",
    "\n",
    " - DCP Solver: As the problem is _convex_ and relatively small it can be solved by a DCP solver.\n",
    " - Sub Gradient: Iterative method using the _sub gradient_ of the regularization term.\n",
    " - Accelerated Sub Gradient: Iterative method using the _sub gradient_ of the regularization term with acceleration.\n"
   ]
  },
  {
   "cell_type": "markdown",
   "metadata": {},
   "source": [
    "### DCP Solver\n",
    "\n",
    "Solving the problem using a DCP Solver."
   ]
  },
  {
   "cell_type": "code",
   "execution_count": null,
   "metadata": {},
   "outputs": [],
   "source": [
    "# DCP Solution\n",
    "# The Total Variation Denoising model.\n",
    "# Solved using `CVXPY`.\n",
    "\n",
    "startTime = time.time()\n",
    "\n",
    "solverString = 'CVXPY'\n",
    "\n",
    "#===========================Fill This===========================#\n",
    "# 1. Create the auxiliary variable `vX`.\n",
    "# 1. Define the objective function.\n",
    "# 3. Define the constraints.\n",
    "# 4. Solve the problem using `CVXPY`.\n",
    "# !! You may use list operations to define constraints.\n",
    "\n",
    "vX   = ??? #<! Objective Variable\n",
    "\n",
    "cpObjFun = ??? #<! Objective Function\n",
    "cpConst  = ??? #<! Constraints\n",
    "oCvxPrb  = ??? #<! Problem\n",
    "#===============================================================#\n",
    "\n",
    "oCvxPrb.solve(solver = cp.SCS)\n",
    "\n",
    "assert (oCvxPrb.status == 'optimal'), 'The problem is not solved.'\n",
    "print('Problem is solved.')\n",
    "\n",
    "vX = vX.value\n",
    "\n",
    "runTime = time.time() - startTime"
   ]
  },
  {
   "cell_type": "code",
   "execution_count": null,
   "metadata": {},
   "outputs": [],
   "source": [
    "# Storing Results\n",
    "\n",
    "DisplayRunSummary(solverString, hObjFun, vX, runTime, oCvxPrb.status)\n",
    "\n",
    "dSolverData[solverString] = {'vX': vX, 'objVal': hObjFun(vX)}\n"
   ]
  },
  {
   "cell_type": "markdown",
   "metadata": {},
   "source": [
    "### Sub Gradient Solver\n",
    "\n",
    "This section implements the Sub Gradient Solver."
   ]
  },
  {
   "cell_type": "code",
   "execution_count": 12,
   "metadata": {},
   "outputs": [],
   "source": [
    "# Gradient Function\n",
    "\n",
    "#===========================Fill This===========================#\n",
    "# 1. Implement the gradient function of (1/2) * || x - y ||_2^2 + λ * || D x ||_1. \n",
    "#    Given a vector `vX` it returns the gradient at `vX`.\n",
    "# 2. The implementation should be using a Lambda Function.\n",
    "# !! You may pre calculate terms for efficient code.\n",
    "\n",
    "hGradFun = ???\n",
    "#===============================================================#"
   ]
  },
  {
   "cell_type": "code",
   "execution_count": 13,
   "metadata": {},
   "outputs": [],
   "source": [
    "# Sub Gradient Solution\n",
    "# The Total Variation Denoising model.\n",
    "# Solved using Sub Gradient Method.\n",
    "\n",
    "hMuK = lambda kk: μ #<! Try using the 1/L \n",
    "# hMuK = lambda kk: 1 / math.sqrt(kk) #<! Classic Sub Gradient\n",
    "\n",
    "startTime = time.time()\n",
    "\n",
    "solverString = 'Sub Gradient'\n",
    "\n",
    "mX = SubGradient(mX, hGradFun, hMuK = hMuK)\n",
    "\n",
    "runTime = time.time() - startTime\n",
    "\n"
   ]
  },
  {
   "cell_type": "code",
   "execution_count": null,
   "metadata": {},
   "outputs": [],
   "source": [
    "# Storing Results\n",
    "\n",
    "vX = np.copy(mX[-1])\n",
    "\n",
    "DisplayRunSummary(solverString, hObjFun, vX, runTime)\n",
    "\n",
    "dSolverData[solverString] = {'vX': vX, 'objVal': hObjFun(vX), 'mX': np.copy(mX)}\n"
   ]
  },
  {
   "cell_type": "markdown",
   "metadata": {},
   "source": [
    "### Accelerated Sub Gradient Solver\n",
    "\n",
    "This section implements the Sub Gradient Solver.\n",
    "\n",
    "> [!TIP]  \n",
    "> For $k \\in \\left\\{ 2, 3, \\ldots, K \\right\\}$:\n",
    ">    1. $\\boldsymbol{v}^{k} = \\boldsymbol{x}^{k - 1} + \\frac{k - 1}{k + 2} \\left( \\boldsymbol{x}^{k - 1} - \\boldsymbol{x}^{k - 2} \\right)$\n",
    ">    2. $\\boldsymbol{x}^{k} = \\boldsymbol{v}^{k} - {\\mu}_{k} \\partial f \\left( \\boldsymbol{v}^{k} \\right)$\n",
    "\n",
    "Where ${\\mu}_{k} = \\frac{1}{k}$ or $\\frac{1}{\\sqrt{k}}$."
   ]
  },
  {
   "cell_type": "code",
   "execution_count": 15,
   "metadata": {},
   "outputs": [],
   "source": [
    "# Accelerated Sub Gradient Function\n",
    "\n",
    "#===========================Fill This===========================#\n",
    "# 1. Implement the accelerated sub gradient solver. \n",
    "#    Given a matrix `mX` with shape `(numIter, dataDim)` it applies the method.\n",
    "# 2. An input parameter is `hGradFun` which is callable `hGradFun(vX)`.  \n",
    "#    It calculates the (Sub) gradient at `vX`.\n",
    "# 2. The initial value is given by `mX[0, :]`.\n",
    "# !! Do not overwrite `mX[0, :]`.\n",
    "# !! The function input should match `SubGradient()`.\n",
    "\n",
    "def SubGradientAccel( mX: np.ndarray, hGradFun: Callable[[np.ndarray], np.ndarray], /, *, hMuK: Callable[[int], float] = lambda kk: 1 / kk ) -> np.ndarray:\n",
    "    \"\"\"\n",
    "    SubGradient: Performs accelerated subgradient optimization on the given sequence of points.  \n",
    "    It is using a _Nesterov_ like momentum method (Also known as FISTA).\n",
    "\n",
    "    This function iteratively updates a sequence of points `mX` by following the subgradient\n",
    "    provided by `hGradFun()`, with a step size determined by the `hMuK()` function. It implements\n",
    "    a basic subgradient method, typically used for optimizing non differentiable functions.\n",
    "\n",
    "    Parameters:\n",
    "    ----------\n",
    "    mX : np.ndarray\n",
    "        A 2D array of shape `(numIter, dataDim)`, where each row represents a point in the optimization process.\n",
    "        The initial point is provided in `mX[0]`, and subsequent points are updated in place.\n",
    "\n",
    "    hGradFun : Callable\n",
    "        A function that computes the subgradient at a given point `hGradFun(vX)`. It should take a single argument (a point\n",
    "        in the same space as the rows of `mX`) and return the corresponding subgradient vector.\n",
    "\n",
    "    hMuK : Callable, optional\n",
    "        A function that computes the step size at iteration `kk`. By default, it uses `lambda kk: 1 / kk`,\n",
    "        which gives a diminishing step size. It should take the iteration number `kk` as an input and return\n",
    "        a scalar value representing the step size.\n",
    "\n",
    "    Returns:\n",
    "    -------\n",
    "    mX : np.ndarray\n",
    "        The updated sequence of points after performing subgradient descent. The final point can be found\n",
    "        in `mX[-1]`.\n",
    "    \n",
    "    Notes:\n",
    "    ------\n",
    "    - The algorithm follows a two phase approach: a standard subgradient update for the first iteration and \n",
    "      a momentum based update for all subsequent iterations.\n",
    "    - The momentum term uses a specific Nesterov like weighting factor `(kk - 1) / (kk + 2)` to propagate \n",
    "      the difference between consecutive iterates.\n",
    "    \"\"\"\n",
    "\n",
    "    numIter = np.size(mX, 0)\n",
    "    \n",
    "    # First iteration\n",
    "    vV    = np.copy(mX[0])\n",
    "    vG    = hGradFun(mX[0])\n",
    "    mX[1] = vV - (hMuK(1) * vG)\n",
    "    \n",
    "    # Steady state\n",
    "    for kk in range(2, numIter):\n",
    "        vV     = ???\n",
    "        vG     = ???\n",
    "        mX[kk] = ???\n",
    "    \n",
    "    return mX\n",
    "\n",
    "#===============================================================#"
   ]
  },
  {
   "cell_type": "code",
   "execution_count": 16,
   "metadata": {},
   "outputs": [],
   "source": [
    "# Accelerated Sub Gradient Solution\n",
    "# The Total Variation Denoising model.\n",
    "# Solved using Sub Gradient Method.\n",
    "\n",
    "startTime = time.time()\n",
    "\n",
    "solverString = 'Accelerated Sub Gradient'\n",
    "\n",
    "mX = SubGradientAccel(mX, hGradFun, hMuK = hMuK)\n",
    "\n",
    "runTime = time.time() - startTime\n",
    "\n"
   ]
  },
  {
   "cell_type": "code",
   "execution_count": null,
   "metadata": {},
   "outputs": [],
   "source": [
    "# Storing Results\n",
    "\n",
    "vX = np.copy(mX[-1])\n",
    "\n",
    "DisplayRunSummary(solverString, hObjFun, vX, runTime)\n",
    "\n",
    "dSolverData[solverString] = {'vX': vX, 'objVal': hObjFun(vX), 'mX': np.copy(mX)}\n"
   ]
  },
  {
   "cell_type": "markdown",
   "metadata": {},
   "source": [
    "### Display Results"
   ]
  },
  {
   "cell_type": "code",
   "execution_count": null,
   "metadata": {},
   "outputs": [],
   "source": [
    "# Display Results\n",
    "\n",
    "hF = DisplayCompaisonSummary(dSolverData, hObjFun)"
   ]
  },
  {
   "cell_type": "markdown",
   "metadata": {},
   "source": [
    "* <font color='blue'>(**!**)</font> Replace `hMuK` with the step size of the Sub Gradient Method.  \n",
    "This is the difference between \"practice\" and theory."
   ]
  },
  {
   "cell_type": "code",
   "execution_count": null,
   "metadata": {},
   "outputs": [],
   "source": [
    "# Display Data \n",
    "\n",
    "hF, hA = plt.subplots(figsize = (10, 6))\n",
    "hA.plot(range(numSamples), vS, lw = 2, label = 'Signal Model')\n",
    "hA.plot(range(numSamples), vY, ls = 'None', marker = '*', ms = 5, label = 'Signal Samples')\n",
    "hA.plot(range(numSamples), mX[-1], lw = 2, label = 'Denoised Signal')\n",
    "hA.set_title('Signal Model, Signal Samples (Noisy) and Smoothed Signal')\n",
    "hA.set_xlabel('Sample Index')\n",
    "hA.set_ylabel('Sample Value')\n",
    "\n",
    "hA.legend();"
   ]
  },
  {
   "cell_type": "markdown",
   "metadata": {},
   "source": [
    "* <font color='red'>(**?**)</font> What the result of $\\lambda \\to \\infty$ would look like?"
   ]
  }
 ],
 "metadata": {
  "kernelspec": {
   "display_name": "Python 3",
   "language": "python",
   "name": "python3"
  },
  "language_info": {
   "codemirror_mode": {
    "name": "ipython",
    "version": 3
   },
   "file_extension": ".py",
   "mimetype": "text/x-python",
   "name": "python",
   "nbconvert_exporter": "python",
   "pygments_lexer": "ipython3",
   "version": "3.12.6"
  },
  "toc": {
   "base_numbering": 1,
   "nav_menu": {},
   "number_sections": false,
   "sideBar": true,
   "skip_h1_title": false,
   "title_cell": "Table of Contents",
   "title_sidebar": "Contents",
   "toc_cell": false,
   "toc_position": {},
   "toc_section_display": true,
   "toc_window_display": true
  },
  "varInspector": {
   "cols": {
    "lenName": 16,
    "lenType": 16,
    "lenVar": 40
   },
   "kernels_config": {
    "python": {
     "delete_cmd_postfix": "",
     "delete_cmd_prefix": "del ",
     "library": "var_list.py",
     "varRefreshCmd": "print(var_dic_list())"
    },
    "r": {
     "delete_cmd_postfix": ") ",
     "delete_cmd_prefix": "rm(",
     "library": "var_list.r",
     "varRefreshCmd": "cat(var_dic_list()) "
    }
   },
   "types_to_exclude": [
    "module",
    "function",
    "builtin_function_or_method",
    "instance",
    "_Feature"
   ],
   "window_display": false
  },
  "vscode": {
   "interpreter": {
    "hash": "39577bab1f263e62e0b74f5b8086bd735049bf4751f6562b2d4b2969dc308293"
   }
  }
 },
 "nbformat": 4,
 "nbformat_minor": 4
}
