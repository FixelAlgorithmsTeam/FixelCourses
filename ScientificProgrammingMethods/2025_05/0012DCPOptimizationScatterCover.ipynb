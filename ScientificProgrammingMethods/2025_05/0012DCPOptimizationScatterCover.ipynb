{
 "cells": [
  {
   "attachments": {},
   "cell_type": "markdown",
   "metadata": {},
   "source": [
    "[![Fixel Algorithms](https://fixelalgorithms.co/images/CCExt.png)](https://fixelalgorithms.gitlab.io)\n",
    "\n",
    "# Scientific Programming Methods\n",
    "\n",
    "## Optimization - Covering Scattered Data by Discs\n",
    "\n",
    "> Notebook by:\n",
    "> - Royi Avital RoyiAvital@fixelalgorithms.com\n",
    "\n",
    "## Revision History\n",
    "\n",
    "| Version | Date       | User        |Content / Changes                                                   |\n",
    "|---------|------------|-------------|--------------------------------------------------------------------|\n",
    "| 1.0.001 | 11/05/2025 | Royi Avital | Added analysis of `K` for K-Means                                  |\n",
    "| 1.0.000 | 09/05/2025 | Royi Avital | First version                                                      |"
   ]
  },
  {
   "attachments": {},
   "cell_type": "markdown",
   "metadata": {},
   "source": [
    "[![Open In Colab](https://colab.research.google.com/assets/colab-badge.svg)](https://colab.research.google.com/github/FixelAlgorithmsTeam/FixelCourses/blob/master/AIProgram/2024_02/0092DeepLearningResNet.ipynb)"
   ]
  },
  {
   "cell_type": "code",
   "execution_count": null,
   "metadata": {
    "ExecuteTime": {
     "end_time": "2022-02-02T09:30:06.492269Z",
     "start_time": "2022-02-02T09:30:06.220934Z"
    }
   },
   "outputs": [],
   "source": [
    "# Import Packages\n",
    "\n",
    "# General Tools\n",
    "import numpy as np\n",
    "import scipy as sp\n",
    "import pandas as pd\n",
    "\n",
    "# Machine Learning\n",
    "from sklearn.cluster import KMeans\n",
    "\n",
    "# Deep Learning\n",
    "\n",
    "# Image Processing & Computer Vision\n",
    "\n",
    "# Optimization\n",
    "import cvxpy as cp\n",
    "\n",
    "# Miscellaneous\n",
    "import math\n",
    "import os\n",
    "from platform import python_version\n",
    "import random\n",
    "\n",
    "# Typing\n",
    "from typing import Callable, Dict, Generator, List, Optional, Self, Set, Tuple, Union\n",
    "\n",
    "# Visualization\n",
    "from matplotlib.patches import Circle\n",
    "import matplotlib.pyplot as plt\n",
    "\n",
    "# Jupyter\n",
    "from IPython import get_ipython"
   ]
  },
  {
   "attachments": {},
   "cell_type": "markdown",
   "metadata": {},
   "source": [
    "## Notations\n",
    "\n",
    "* <font color='red'>(**?**)</font> Question to answer interactively.\n",
    "* <font color='blue'>(**!**)</font> Simple task to add code for the notebook.\n",
    "* <font color='green'>(**@**)</font> Optional / Extra self practice.\n",
    "* <font color='brown'>(**#**)</font> Note / Useful resource / Food for thought.\n",
    "\n",
    "Code Notations:\n",
    "\n",
    "```python\n",
    "someVar    = 2; #<! Notation for a variable\n",
    "vVector    = np.random.rand(4) #<! Notation for 1D array\n",
    "mMatrix    = np.random.rand(4, 3) #<! Notation for 2D array\n",
    "tTensor    = np.random.rand(4, 3, 2, 3) #<! Notation for nD array (Tensor)\n",
    "tuTuple    = (1, 2, 3) #<! Notation for a tuple\n",
    "lList      = [1, 2, 3] #<! Notation for a list\n",
    "dDict      = {1: 3, 2: 2, 3: 1} #<! Notation for a dictionary\n",
    "oObj       = MyClass() #<! Notation for an object\n",
    "dfData     = pd.DataFrame() #<! Notation for a data frame\n",
    "dsData     = pd.Series() #<! Notation for a series\n",
    "hObj       = plt.Axes() #<! Notation for an object / handler / function handler\n",
    "```\n",
    "\n",
    "### Code Exercise\n",
    "\n",
    " - Single line fill\n",
    "\n",
    "```python\n",
    "valToFill = ???\n",
    "```\n",
    "\n",
    " - Multi Line to Fill (At least one)\n",
    "\n",
    "```python\n",
    "# You need to start writing\n",
    "?????\n",
    "```\n",
    "\n",
    " - Section to Fill\n",
    "\n",
    "```python\n",
    "#===========================Fill This===========================#\n",
    "# 1. Explanation about what to do.\n",
    "# !! Remarks to follow / take under consideration.\n",
    "mX = ???\n",
    "\n",
    "?????\n",
    "#===============================================================#\n",
    "```"
   ]
  },
  {
   "cell_type": "code",
   "execution_count": null,
   "metadata": {},
   "outputs": [],
   "source": [
    "# Configuration\n",
    "# %matplotlib inline\n",
    "\n",
    "seedNum = 512\n",
    "np.random.seed(seedNum)\n",
    "random.seed(seedNum)\n",
    "\n",
    "# Color Palettes\n",
    "lMatPltLibclr   = ['#1f77b4', '#ff7f0e', '#2ca02c', '#d62728', '#9467bd', '#8c564b', '#e377c2', '#7f7f7f', '#bcbd22', '#17becf'] #<! Matplotlib default color palette\n",
    "lFlexokiClr     = ['#D14D41', '#DA702C', '#D0A215', '#879A39', '#3AA99F', '#4385BE', '#8B7EC8', '#CE5D97'] #<! Flexoki (Obsidian) Main\n",
    "lFlexokiSatClr  = ['#AF3029', '#BC5215', '#BC5215', '#66800B', '#24837B', '#205EA6', '#5E409D', '#A02F6F'] #<! Flexoki (Obsidian) Saturated\n",
    "lFlexokiGrayClr = ['#100F0F', '#1C1B1B', '#282726', '#343331', '#403E3C', '#55524E', '#878580', '#CECDC3'] #<! Flexoki (Obsidian) Grayscale\n",
    "# sns.set_theme() #>! Apply SeaBorn theme\n",
    "\n",
    "runInGoogleColab = 'google.colab' in str(get_ipython())"
   ]
  },
  {
   "cell_type": "code",
   "execution_count": null,
   "metadata": {},
   "outputs": [],
   "source": [
    "# Constants\n"
   ]
  },
  {
   "cell_type": "code",
   "execution_count": null,
   "metadata": {},
   "outputs": [],
   "source": [
    "# Courses Packages\n"
   ]
  },
  {
   "cell_type": "code",
   "execution_count": null,
   "metadata": {},
   "outputs": [],
   "source": [
    "# General Auxiliary Functions\n"
   ]
  },
  {
   "cell_type": "markdown",
   "metadata": {},
   "source": [
    "## Service for Scattered Customers\n",
    "\n",
    "Let $\\left\\{ \\boldsymbol{x}_{i} \\right\\}_{i = 1}^{N}$ be set of points, representing location in 2D.  \n",
    "In our case, they may represent the location of customers over a region of service.\n",
    "\n",
    "![](https://i.imgur.com/pBWoRT0.png)\n",
    "<!-- ![](https://i.postimg.cc/vBJpNbTK/Diagrams-Scattered-Data-Covering-001.png) -->\n",
    "\n",
    "A unit of service has $r$ as its operational radius.  \n",
    "Namely, a unit of service can handle all customers within its reach.  \n",
    "\n",
    "The objective is to find the minimal service units and their location to cover all customers.\n",
    "\n",
    "![](https://i.imgur.com/kpCix3t.png)\n",
    "<!-- ![](https://i.postimg.cc/QNnBVzPy/Diagrams-Scattered-Data-Covering-002.png) -->\n",
    "\n",
    "* <font color='brown'>(**#**)</font> The above model simplifies the problem by assuming the capacity of a single unit of service is unlimited or at least higher than the number of customers within any $r$ radius."
   ]
  },
  {
   "cell_type": "code",
   "execution_count": null,
   "metadata": {},
   "outputs": [],
   "source": [
    "# Parameters\n",
    "\n",
    "# Data\n",
    "numSamples = 120\n",
    "dataDim    = 2\n",
    "\n",
    "# Radius Constraint\n",
    "maxRadius = 0.5\n",
    "\n",
    "# Visualization\n",
    "tuAxisLim = (-1.6, 1.6)"
   ]
  },
  {
   "cell_type": "code",
   "execution_count": null,
   "metadata": {},
   "outputs": [],
   "source": [
    "# Load / Generate Data\n",
    "\n",
    "# Generate data as a mixture of distributions\n",
    "mX = np.r_[np.random.uniform(low = -1, high = 1, size = (numSamples // 4, dataDim)), \n",
    "           np.random.normal(loc = 0, scale = 0.6, size = (numSamples // 4, dataDim)), \n",
    "           np.random.logistic(loc = 0, scale = 0.2, size = (numSamples // 4, dataDim)),\n",
    "           np.random.laplace(loc = 0, scale = 0.4, size = (numSamples // 4, dataDim)),]"
   ]
  },
  {
   "cell_type": "code",
   "execution_count": null,
   "metadata": {},
   "outputs": [],
   "source": [
    "# Plot the Data\n",
    "hF, hA = plt.subplots(figsize = (6, 4))\n",
    "hA.scatter(mX[:, 0], mX[:, 1], s = 40, c = lFlexokiClr[0], alpha = 0.75, label = 'Customer Location')\n",
    "hA.set_title('Scattered Data')\n",
    "hA.set_xlabel(r'$x_1$')\n",
    "hA.set_ylabel(r'$x_2$')\n",
    "hA.axis('equal')\n",
    "\n",
    "hA.legend();"
   ]
  },
  {
   "cell_type": "markdown",
   "metadata": {},
   "source": [
    "## Approach 001 - Disc Covering\n",
    "\n",
    "The approach is based on the [Disk Covering Problem](https://en.wikipedia.org/wiki/Disk_covering_problem).  \n",
    "Assuming the data can be enclosed by a circle, one can use the optimal solutions of the _Disc Covering Problem_.\n"
   ]
  },
  {
   "cell_type": "markdown",
   "metadata": {},
   "source": [
    "### Structure of the Solution\n",
    "\n",
    "1. Find the minimum area enclosing circle.\n",
    "2. Scale the problem.\n",
    "3. Find the optimal solution by [Erich Friedman - Circles Covering Circles](https://erich-friedman.github.io/packing/circovcir).\n",
    "\n",
    "* <font color='brown'>(**#**)</font> For a fast approximation of the solution see: \n",
    "  - [A Fast 25/6 Approximation for the Minimum Unit Disk Cover Problem](https://arxiv.org/abs/1406.3838).\n",
    "  - [Experiments with Unit Disk Cover Algorithms for Covering Massive Pointsets](https://arxiv.org/abs/2205.01716).\n",
    "\n",
    "<!-- https://math.stackexchange.com/questions/1269601 -->"
   ]
  },
  {
   "cell_type": "markdown",
   "metadata": {},
   "source": [
    "### Step 001 - Minimum Area Enclosing Circle\n",
    "\n",
    "The minimum area enclosing circle is given by:\n",
    "\n",
    "$$\\begin{align*}\n",
    "\\arg \\min_{r, \\boldsymbol{c}} \\quad & r   \\\\\n",
    "\\text{subject to} \\quad & \\begin{aligned} \n",
    "{\\left\\| \\boldsymbol{c} - \\boldsymbol{x}_{i} \\right\\|}_{2}^{2} & \\leq r, \\; \\forall i \\\\\n",
    "\\end{aligned}\n",
    "\\end{align*}$$\n",
    "\n"
   ]
  },
  {
   "cell_type": "code",
   "execution_count": null,
   "metadata": {},
   "outputs": [],
   "source": [
    "# Optimization Problem\n",
    "\n",
    "vC          = cp.Variable(dataDim) #<! Center (x, y) of the circle\n",
    "valRadius   = cp.Variable(1)       #<! Radius of the circle\n",
    "\n",
    "cpObjFun = cp.Minimize(valRadius)                                             #<! Objective Function\n",
    "cpConst  = [cp.norm(mX[ii, :] - vC) <= valRadius for ii in range(numSamples)] #<! Constraint per each sample\n",
    "oCvxPrb  = cp.Problem(cpObjFun, cpConst)                                      #<! Problem definition\n",
    "\n",
    "oCvxPrb.solve(solver = cp.CLARABEL) #<! Solve the problem\n",
    "\n",
    "assert (oCvxPrb.status == 'optimal'), 'The problem is not solved.'\n",
    "print('Problem is solved.')"
   ]
  },
  {
   "cell_type": "code",
   "execution_count": null,
   "metadata": {},
   "outputs": [],
   "source": [
    "# Decode\n",
    "\n",
    "# Extract the values as NumPy arrays\n",
    "vC        = vC.value\n",
    "valRadius = valRadius.value"
   ]
  },
  {
   "cell_type": "code",
   "execution_count": null,
   "metadata": {},
   "outputs": [],
   "source": [
    "# Display Result\n",
    "\n",
    "hF, hA = plt.subplots(figsize = (16, 8))\n",
    "hA.scatter(mX[:, 0], mX[:, 1], s = 50, label = 'Samples')\n",
    "patchCirc = Circle(vC, valRadius, color = 'r', lw = 2.5, fill = False, label = 'Bounding Circle')\n",
    "hA.add_patch(patchCirc)\n",
    "hA.scatter(vC[0], vC[1], s = 50, label = 'Center of Circle')\n",
    "hA.set_aspect('equal')\n",
    "hA.set_xlim(tuAxisLim)\n",
    "hA.set_ylim(tuAxisLim)\n",
    "hA.set_xlabel(r'$x_1$')\n",
    "hA.set_ylabel(r'$x_2$')\n",
    "hA.set_title('Data Samples')\n",
    "\n",
    "hA.legend();"
   ]
  },
  {
   "cell_type": "markdown",
   "metadata": {},
   "source": [
    "## Approach 002 - Clustering\n",
    "\n",
    "This approach uses [Clustering](https://en.wikipedia.org/wiki/Cluster_analysis) to partition data into clusters.  \n",
    "The [K-Means Algorithm](https://en.wikipedia.org/wiki/K-means_clustering) is known to create clusters shaped as symmetric blobs:\n",
    "\n",
    "$$ \\arg \\min_{ \\left\\{ \\mathcal{X}_{k} \\right\\}_{k = 1}^{K} } \\sum_{k = 1}^{K} \\sum_{\\boldsymbol{x}_{i} \\in \\mathcal{X}_{k}} {\\left\\| \\boldsymbol{x}_{i} - \\boldsymbol{\\mu}_{k} \\right\\|}_{2}^{2} $$\n",
    "\n",
    "Where:\n",
    "\n",
    " * $\\mathcal{X}_{k}$ - The $k$ -th cluster. Namely all points assigned to the cluster.\n",
    " * $\\boldsymbol{\\mu}_{k}$ - The centroid (Average) of the $k$ -th cluster.\n",
    "\n",
    "The above find the set of clusters which minimizes the sum of squared distance from each cluster's centroid.\n",
    "\n",
    "The classic algorithm can not enforce maximum size of the blob hence can not be used directly to solve the problem.\n",
    "\n",
    "* <font color='brown'>(**#**)</font> One could use the classic K-Means algorithm and increase the `K` parameter until the largest blob is smaller then the required radius.\n",
    "* <font color='brown'>(**#**)</font> For formulation of the K-Means using Integer Programming see:\n",
    "    - [Kolos Cs. Agoston, Marianna E. Nagy - Mixed Integer Linear Programming Formulation for K-Means Clustering Problem](https://link.springer.com/article/10.1007/s10100-023-00881-1).\n",
    "    - [Yet Another Math Programming Consultant - Clustering Models](https://yetanothermathprogrammingconsultant.blogspot.com/2021/05/clustering-models.html)."
   ]
  },
  {
   "cell_type": "code",
   "execution_count": null,
   "metadata": {},
   "outputs": [],
   "source": [
    "# Analysis of K-Means\n",
    "lK = [2, 5, 10, 15]\n",
    "\n",
    "hF, hA = plt.subplots(1, len(lK), figsize = (16, 4))\n",
    "hA = hA.flat\n",
    "\n",
    "for ii, K in enumerate(lK):\n",
    "    # K-Means Clustering\n",
    "    oKMean = KMeans(n_clusters = K)\n",
    "    vL     = oKMean.fit_predict(mX) #<! Labels of the clusters\n",
    "    mC     = oKMean.cluster_centers_ #<! Centers of the clusters``\n",
    "\n",
    "    hA[ii].scatter(mX[:, 0], mX[:, 1], s = 50, c = vL, label = 'Samples')\n",
    "    hA[ii].scatter(mC[:, 0], mC[:, 1], s = 200, c = lFlexokiClr[0], label = 'Cluster Center', marker = 'X')\n",
    "    for kk in range(K):\n",
    "        circLabel = 'Bounding Circle' if kk == 0 else '_nolegend_'\n",
    "        patchCirc = Circle(mC[kk, :], maxRadius, color = 'r', lw = 2.5, fill = False, label = circLabel)\n",
    "        hA[ii].add_patch(patchCirc)\n",
    "    \n",
    "    hA[ii].set_aspect('equal')\n",
    "    hA[ii].set_xlim(tuAxisLim)\n",
    "    hA[ii].set_ylim(tuAxisLim)\n",
    "    hA[ii].set_xlabel(r'$x_1$')\n",
    "    hA[ii].set_ylabel(r'$x_2$')\n",
    "    hA[ii].set_title(f'K-Means with {K} Clusters')"
   ]
  },
  {
   "cell_type": "markdown",
   "metadata": {},
   "source": [
    "* <font color='brown'>(**#**)</font> For `K` large enough, the constraint will hold. Yet the objective might be far from optimal."
   ]
  },
  {
   "cell_type": "markdown",
   "metadata": {},
   "source": [
    "### Radius Bounded K-Means\n",
    "\n",
    "Let $\\boldsymbol{D} \\in \\mathcal{S}_{N} = \\left\\{ \\boldsymbol{A} \\in \\mathbb{R}^{N \\times N} \\mid \\boldsymbol{A} = \\boldsymbol{A}^{T} \\right\\}$ be the Distance Matrix:\n",
    "\n",
    "$$ {D}_{i, j} = {\\left\\| \\boldsymbol{x}_{i} - \\boldsymbol{x}_{j} \\right\\|}_{2}^{2} $$\n",
    "\n",
    "Then the K-Means problem can be formulated as\n",
    "\n",
    "$$ \\arg \\min_{ \\left\\{ \\mathcal{X}_{k} \\right\\}_{k = 1}^{K} } \\sum_{k = 1}^{K} \\frac{1}{ 2 \\left| \\mathcal{X}_{k} \\right| } \\sum_{i, j} \\left( \\boldsymbol{1}_{\\mathcal{X}_{k}} \\boldsymbol{1}_{\\mathcal{X}_{k}}^{T} \\right) \\odot \\boldsymbol{D} $$\n",
    "\n",
    "Where\n",
    "\n",
    " * $\\left| \\mathcal{X}_{k} \\right|$ - The number of elements in the set $\\mathcal{X}_{k}$.\n",
    " * $\\boldsymbol{1}_{\\mathcal{X}_{k}}$ - A vector of length $N$ with $1$ in indices matching the indices of the samples in $\\mathcal{X}_{k}$ and zeros elsewhere."
   ]
  },
  {
   "cell_type": "markdown",
   "metadata": {},
   "source": [
    "The above form allows bounding the maximum distance between samples within the same cluster:\n",
    "\n",
    "$$\\begin{align*}\n",
    "\\arg \\min_{ \\left\\{ \\mathcal{X}_{k} \\right\\}_{k = 1}^{K} } \\quad & \\sum_{k = 1}^{K} \\frac{1}{ 2 \\left| \\mathcal{X}_{k} \\right| } \\sum_{i, j} \\left( \\boldsymbol{1}_{\\mathcal{X}_{k}} \\boldsymbol{1}_{\\mathcal{X}_{k}}^{T} \\right) \\odot \\boldsymbol{D} \\\\\n",
    "\\text{subject to} \\quad & \\begin{aligned} \n",
    "{D}_{i, j} & \\leq 4 {r}^{2}, \\; \\forall i, j \\in \\mathcal{X}_{k} \\\\\n",
    "\\end{aligned}\n",
    "\\end{align*}$$\n",
    "\n",
    "The above can be formed into [Mixed Integer Programming](https://en.wikipedia.org/wiki/Integer_programming) problem:\n",
    "\n",
    "$$\\begin{align*}\n",
    "\\arg \\min_{ \\left\\{ \\mathcal{X}_{k} \\right\\}_{k = 1}^{K} } \\quad & \\sum_{k = 1}^{K} \\frac{1}{ 2 {n}_{k} } \\sum_{i, j} \\left( \\boldsymbol{1}_{\\mathcal{X}_{k}} \\boldsymbol{1}_{\\mathcal{X}_{k}}^{T} \\right) \\odot \\boldsymbol{D} \\\\\n",
    "\\text{subject to} \\quad & \\begin{aligned} \n",
    "\\max_{i, j} \\left( \\boldsymbol{1}_{\\mathcal{X}_{k}} \\boldsymbol{1}_{\\mathcal{X}_{k}}^{T} \\right) \\odot \\boldsymbol{D} & \\leq 4 {r}^{2}, \\; \\forall k = 1, 2, \\ldots, K \\\\\n",
    "\\boldsymbol{1}^{T} \\boldsymbol{1}_{\\mathcal{X}_{k}} & = {n}_{k} \\\\\n",
    "\\sum {n}_{k} & = N \\\\\n",
    "\\sum \\boldsymbol{1}_{\\mathcal{X}_{k}} & = \\boldsymbol{1} \\\\\n",
    "\\end{aligned}\n",
    "\\end{align*}$$\n",
    "\n",
    "Where\n",
    "\n",
    " * $\\max_{i, j} \\left( \\boldsymbol{1}_{\\mathcal{X}_{k}} \\boldsymbol{1}_{\\mathcal{X}_{k}}^{T} \\right) \\odot \\boldsymbol{D} \\leq 4 {r}^{2}, \\; \\forall k = 1, 2, \\ldots, K$ - Forces the maximum distance of 2 samples within a cluster to be less than $2r$.\n",
    " * $\\boldsymbol{1}^{T} \\boldsymbol{1}_{\\mathcal{X}_{k}} = {n}_{k}$ - The sum of samples in the $k$ -th cluster is ${n}_{k}$.\n",
    " * $\\sum {n}_{k} = N$ - The number of samples assigned to clusters is $N$.\n",
    " * $\\sum \\boldsymbol{1}_{\\mathcal{X}_{k}} = \\boldsymbol{1}$ - Each sample is assigned to a single cluster.\n",
    "\n",
    "The problem can be approximated by a Convex problem as represented in [No More Than 6ft Apart: Robust K-Means via Radius Upper Bounds](https://arxiv.org/abs/2203.02502).\n",
    "\n"
   ]
  },
  {
   "cell_type": "markdown",
   "metadata": {},
   "source": [
    "Since the approach above require commercial solvers, we'll define a simpler model:\n",
    "\n",
    "$$\\begin{align*}\n",
    "\\arg \\min_{ \\boldsymbol{B} \\in \\mathbb{N}^{N \\times N} } \\quad & \\sum_{i} {B}_{i, i} \\\\\n",
    "\\text{subject to} \\quad & \\begin{aligned} \n",
    "{B}_{i, j} & \\in \\left\\{ 0, 1 \\right\\} \\\\\n",
    "\\sum_{j} {B}_{i, j} & = 1, \\; i \\in \\left\\{ 1, 2, \\ldots, N \\right\\} \\\\\n",
    "\\max_{i, j} \\boldsymbol{B} \\odot \\boldsymbol{D} & \\leq {r}^{2} \\\\\n",
    "\\max_{i} {B}_{i, j} & \\leq {B}_{j, j}, \\; j \\in \\left\\{ 1, 2, \\ldots, N \\right\\} \\\\\n",
    "\\end{aligned}\n",
    "\\end{align*}$$\n",
    "\n",
    "Where\n",
    " - The objective function $\\sum_{i} {B}_{i, i}$ counts the number of clusters.  \n",
    "   Hence the minimization search for the least number of clusters.\n",
    " - ${B}_{i, j} \\in \\left\\{ 0, 1 \\right\\}$ - Sets the matrix $\\boldsymbol{B}$ to be a _Boolean_ indicator. ${B}_{i, j} = 1$ means the $i$ -th sample is assigned to the cluster defined by the $j$ -th sample.\n",
    " - $\\sum_{j} {B}_{i, j} = 1, \\; i \\in \\left\\{ 1, 2, \\ldots, N \\right\\}$ - Each element is assigned only once and only to a single cluster.\n",
    " - $\\max_{i, j} \\boldsymbol{B} \\odot \\boldsymbol{D} \\leq {r}^{2}$ - The maximum distance of a sample from its centroid is bounded.\n",
    " - $\\max_{i} {B}_{i, j} \\leq {B}_{j, j}$ - If the $i$ -th sample is assigned to the cluster by the $j$ -th sample, then the $j$ -th sample is a center (Assigned to itself).\n",
    "\n",
    "The objective minimizes the number of clusters.  \n",
    "The problem is a [Integer Linear Programming](https://en.wikipedia.org/wiki/Integer_programming) (ILP) problem.\n",
    "\n",
    "* <font color='brown'>(**#**)</font> The above model is K-Medoids which is similar to K-Means yet forces the center of the cluster to be an item within the cluster."
   ]
  },
  {
   "cell_type": "code",
   "execution_count": null,
   "metadata": {},
   "outputs": [],
   "source": [
    "def RadiusConstrainedKMeans( mX: np.ndarray, valRadius: float ) -> Tuple[np.ndarray, np.ndarray, np.ndarray, np.ndarray]:\n",
    "    \"\"\"\n",
    "    Solves a K-Means (K-Medoid) like problem with a radius constraint.\n",
    "    Input:\n",
    "        - mX: The data array of shape (numSamples, dataDim)\n",
    "        - valRadius: The radius of the circle.\n",
    "        - maxNumClusters: The maximum number of clusters.\n",
    "    Output:\n",
    "        - mC: The center of the circle.\n",
    "    \"\"\"\n",
    "    \n",
    "    numSamples = mX.shape[0]\n",
    "    dataDim    = mX.shape[1]\n",
    "    # The Squared Euclidean Distance matrix\n",
    "    mD = sp.spatial.distance.squareform(sp.spatial.distance.pdist(mX, metric = 'sqeuclidean'))\n",
    "\n",
    "    # The value B_ij represents whether element i belongs to the cluster centered on element j\n",
    "    mB = cp.Variable((numSamples, numSamples), boolean = True) #<! Indicator matrix\n",
    "\n",
    "    lConst = [] #<! List of constraints\n",
    "    lConst.append(cp.sum(mB, axis = 1) == 1) #<! Each sample belongs to one cluster\n",
    "    lConst.append(cp.max(cp.multiply(mB, mD)) <= valRadius * valRadius) #<! Limit the distance of each sample to its cluster center (Centroid)\n",
    "    for jj in range(numSamples):\n",
    "        lConst.append(mB[:, jj] <= mB[jj, jj]) #<! Each sample belongs to one cluster, The center assigned to itself\n",
    "\n",
    "    cpObjFun = cp.Minimize(cp.sum(cp.diag(mB))) #<! Objective Function (Minimize the number of clusters)\n",
    "    oCvxPrb  = cp.Problem(cpObjFun, lConst)\n",
    "\n",
    "    oCvxPrb.solve(solver = cp.HIGHS)\n",
    "\n",
    "    if oCvxPrb.status != 'optimal':\n",
    "        return None, None, None, None\n",
    "\n",
    "    mB = mB.value #<! The value of the indicator matrix\n",
    "\n",
    "    vSIdx       = np.flatnonzero(np.diag(mB) == np.max(np.diag(mB))) #<! The cluster centers index\n",
    "    numClusters = len(vSIdx) #<! The number of clusters\n",
    "    # Assign label per sample by its cluster center\n",
    "    vL = np.argmax(mB, axis = 1) #<! The label of each sample\n",
    "    # The centroid of the cluster as its mean\n",
    "    mC = np.zeros((numClusters, dataDim)) #<! The cluster centers\n",
    "\n",
    "    # Map cluster labels to {0, 1, 2, ...}\n",
    "    dClusterIdxMap = {val: idx for idx, val in enumerate(vSIdx)}\n",
    "    vL             = np.vectorize(dClusterIdxMap.get)(vL)\n",
    "    # The cluster centers (Centroids - Mean of the samples assigned to the cluster)\n",
    "    for ii in range(numClusters):\n",
    "        mC[ii, :] = np.mean(mX[vL == ii, :], axis = 0) #<! The cluster center\n",
    "    \n",
    "    return mC, vL, vSIdx, mB"
   ]
  },
  {
   "cell_type": "code",
   "execution_count": null,
   "metadata": {},
   "outputs": [],
   "source": [
    "# Run the Optimization\n",
    "mC, vL, vSIdx, mB = RadiusConstrainedKMeans(mX, maxRadius)"
   ]
  },
  {
   "cell_type": "code",
   "execution_count": null,
   "metadata": {},
   "outputs": [],
   "source": [
    "# Plot the Clustering\n",
    "\n",
    "hF, hA = plt.subplots(figsize = (16, 8))\n",
    "hA.scatter(mX[:, 0], mX[:, 1], s = 50, c = vL, label = 'Samples')\n",
    "hA.scatter(mC[:, 0], mC[:, 1], s = 200, c = lFlexokiClr[0], label = 'Cluster Center', marker = 'X')\n",
    "for ii in range(mC.shape[0]):\n",
    "    circleLabe = 'Clsuter Radius' if ii == 0 else '_nolegend_'\n",
    "    patchCirc = Circle(mC[ii, :], maxRadius, lw = 2.5, fill = False, label = circleLabe)\n",
    "    hA.add_patch(patchCirc)\n",
    "hA.set_aspect('equal')\n",
    "hA.set_xlim(tuAxisLim)\n",
    "hA.set_ylim(tuAxisLim)\n",
    "hA.set_xlabel(r'$x_1$')\n",
    "hA.set_ylabel(r'$x_2$')\n",
    "hA.set_title('Assigned Units Services')\n",
    "hA.legend();"
   ]
  },
  {
   "cell_type": "markdown",
   "metadata": {},
   "source": [
    "* <font color='red'>(**?**)</font> In some cases assigned samples are outside the circle, explain.\n",
    "* <font color='red'>(**?**)</font> Some circles contain samples assigned to other. Why? What can be done?\n",
    "\n",
    "<!--\n",
    "1. The radius is enforced relative to a sample in the cluster. Yet the centroid is the mean of the assigned samples.\n",
    "2. The radius is enforced for worse case. In real world one could adapt the radius of service to the farthest client.\n",
    "-->"
   ]
  }
 ],
 "metadata": {
  "kernelspec": {
   "display_name": "Python 3",
   "language": "python",
   "name": "python3"
  },
  "language_info": {
   "codemirror_mode": {
    "name": "ipython",
    "version": 3
   },
   "file_extension": ".py",
   "mimetype": "text/x-python",
   "name": "python",
   "nbconvert_exporter": "python",
   "pygments_lexer": "ipython3",
   "version": "3.13.5"
  },
  "toc": {
   "base_numbering": 1,
   "nav_menu": {},
   "number_sections": false,
   "sideBar": true,
   "skip_h1_title": false,
   "title_cell": "Table of Contents",
   "title_sidebar": "Contents",
   "toc_cell": false,
   "toc_position": {},
   "toc_section_display": true,
   "toc_window_display": true
  },
  "varInspector": {
   "cols": {
    "lenName": 16,
    "lenType": 16,
    "lenVar": 40
   },
   "kernels_config": {
    "python": {
     "delete_cmd_postfix": "",
     "delete_cmd_prefix": "del ",
     "library": "var_list.py",
     "varRefreshCmd": "print(var_dic_list())"
    },
    "r": {
     "delete_cmd_postfix": ") ",
     "delete_cmd_prefix": "rm(",
     "library": "var_list.r",
     "varRefreshCmd": "cat(var_dic_list()) "
    }
   },
   "types_to_exclude": [
    "module",
    "function",
    "builtin_function_or_method",
    "instance",
    "_Feature"
   ],
   "window_display": false
  },
  "vscode": {
   "interpreter": {
    "hash": "39577bab1f263e62e0b74f5b8086bd735049bf4751f6562b2d4b2969dc308293"
   }
  }
 },
 "nbformat": 4,
 "nbformat_minor": 4
}
