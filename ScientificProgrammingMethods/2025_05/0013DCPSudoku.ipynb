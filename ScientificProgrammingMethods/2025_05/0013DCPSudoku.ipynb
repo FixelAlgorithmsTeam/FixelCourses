{
 "cells": [
  {
   "attachments": {},
   "cell_type": "markdown",
   "metadata": {},
   "source": [
    "[![Fixel Algorithms](https://fixelalgorithms.co/images/CCExt.png)](https://fixelalgorithms.gitlab.io)\n",
    "\n",
    "# Scientific Programming Methods\n",
    "\n",
    "## Discrete Optimization - Solving Sudoku Board\n",
    "\n",
    "> Notebook by:\n",
    "> - Royi Avital RoyiAvital@fixelalgorithms.com\n",
    "\n",
    "## Revision History\n",
    "\n",
    "| Version | Date       | User        |Content / Changes                                                   |\n",
    "|---------|------------|-------------|--------------------------------------------------------------------|\n",
    "| 1.0.000 | 12/11/2024 | Royi Avital | First version                                                      |"
   ]
  },
  {
   "attachments": {},
   "cell_type": "markdown",
   "metadata": {},
   "source": [
    "[![Open In Colab](https://colab.research.google.com/assets/colab-badge.svg)](https://colab.research.google.com/github/FixelAlgorithmsTeam/FixelCourses/blob/master/AIProgram/2024_02/0012LinearFitL1.ipynb)"
   ]
  },
  {
   "cell_type": "code",
   "execution_count": null,
   "metadata": {
    "ExecuteTime": {
     "end_time": "2022-02-02T09:30:06.492269Z",
     "start_time": "2022-02-02T09:30:06.220934Z"
    }
   },
   "outputs": [],
   "source": [
    "# Import Packages\n",
    "\n",
    "# General Tools\n",
    "import numpy as np\n",
    "import scipy as sp\n",
    "import pandas as pd\n",
    "\n",
    "import numba\n",
    "\n",
    "# Machine Learning\n",
    "\n",
    "# Optimization\n",
    "import cvxpy as cp\n",
    "\n",
    "# Image Processing / Computer Vision\n",
    "\n",
    "# Miscellaneous\n",
    "import math\n",
    "from platform import python_version\n",
    "import random\n",
    "import time\n",
    "\n",
    "# Typing\n",
    "from typing import Callable, List, Optional, Tuple, Union\n",
    "\n",
    "# Visualization\n",
    "from matplotlib.patches import Rectangle\n",
    "import matplotlib.pyplot as plt\n",
    "\n",
    "# Jupyter\n",
    "from IPython import get_ipython"
   ]
  },
  {
   "attachments": {},
   "cell_type": "markdown",
   "metadata": {},
   "source": [
    "## Notations\n",
    "\n",
    "* <font color='red'>(**?**)</font> Question to answer interactively.\n",
    "* <font color='blue'>(**!**)</font> Simple task to add code for the notebook.\n",
    "* <font color='green'>(**@**)</font> Optional / Extra self practice.\n",
    "* <font color='brown'>(**#**)</font> Note / Useful resource / Food for thought.\n",
    "\n",
    "Code Notations:\n",
    "\n",
    "```python\n",
    "someVar    = 2; #<! Notation for a variable\n",
    "vVector    = np.random.rand(4) #<! Notation for 1D array\n",
    "mMatrix    = np.random.rand(4, 3) #<! Notation for 2D array\n",
    "tTensor    = np.random.rand(4, 3, 2, 3) #<! Notation for nD array (Tensor)\n",
    "tuTuple    = (1, 2, 3) #<! Notation for a tuple\n",
    "lList      = [1, 2, 3] #<! Notation for a list\n",
    "dDict      = {1: 3, 2: 2, 3: 1} #<! Notation for a dictionary\n",
    "oObj       = MyClass() #<! Notation for an object\n",
    "dfData     = pd.DataFrame() #<! Notation for a data frame\n",
    "dsData     = pd.Series() #<! Notation for a series\n",
    "hObj       = plt.Axes() #<! Notation for an object / handler / function handler\n",
    "```\n",
    "\n",
    "### Code Exercise\n",
    "\n",
    " - Single line fill\n",
    "\n",
    "```python\n",
    "vallToFill = ???\n",
    "```\n",
    "\n",
    " - Multi Line to Fill (At least one)\n",
    "\n",
    "```python\n",
    "# You need to start writing\n",
    "?????\n",
    "```\n",
    "\n",
    " - Section to Fill\n",
    "\n",
    "```python\n",
    "#===========================Fill This===========================#\n",
    "# 1. Explanation about what to do.\n",
    "# !! Remarks to follow / take under consideration.\n",
    "mX = ???\n",
    "\n",
    "?????\n",
    "#===============================================================#\n",
    "```"
   ]
  },
  {
   "cell_type": "code",
   "execution_count": null,
   "metadata": {},
   "outputs": [],
   "source": [
    "# Configuration\n",
    "# %matplotlib inline\n",
    "\n",
    "# warnings.filterwarnings(\"ignore\")\n",
    "\n",
    "seedNum = 640 # 512\n",
    "np.random.seed(seedNum)\n",
    "random.seed(seedNum)\n",
    "\n",
    "# Matplotlib default color palette\n",
    "lMatPltLibclr = ['#1f77b4', '#ff7f0e', '#2ca02c', '#d62728', '#9467bd', '#8c564b', '#e377c2', '#7f7f7f', '#bcbd22', '#17becf']\n",
    "# sns.set_theme() #>! Apply SeaBorn theme\n",
    "# sns.set_palette(\"tab10\")\n",
    "\n",
    "runInGoogleColab = 'google.colab' in str(get_ipython())"
   ]
  },
  {
   "cell_type": "code",
   "execution_count": null,
   "metadata": {},
   "outputs": [],
   "source": [
    "# Constants\n",
    "\n",
    "FIG_SIZE_DEF    = (8, 8)\n",
    "ELM_SIZE_DEF    = 50\n",
    "CLASS_COLOR     = ('b', 'r')\n",
    "EDGE_COLOR      = 'k'\n",
    "MARKER_SIZE_DEF = 10\n",
    "LINE_WIDTH_DEF  = 2\n",
    "\n",
    "BOARD_NUM_ROWS =  9\n",
    "BOARD_NUM_COLS =  BOARD_NUM_ROWS\n"
   ]
  },
  {
   "cell_type": "code",
   "execution_count": null,
   "metadata": {},
   "outputs": [],
   "source": [
    "# Course Packages\n"
   ]
  },
  {
   "cell_type": "code",
   "execution_count": null,
   "metadata": {},
   "outputs": [],
   "source": [
    "# Auxiliary Functions\n",
    "\n",
    "def DrawSudokuBoard( mB: np.ndarray, numRows: int, /, *, hA: Optional[plt.Axes] = None, figSize: Tuple[int, int] = FIG_SIZE_DEF ) -> plt.Axes:\n",
    "\n",
    "    if hA is None:\n",
    "        hF, hA = plt.subplots(figsize = figSize)\n",
    "    else:\n",
    "        hF = hA.get_figure()\n",
    "    \n",
    "    hRect = Rectangle(xy = (0, 0), width = numRows, height = numRows, edgecolor = 'k', fill = False, linewidth = 4)\n",
    "    hA.add_patch(hRect)\n",
    "\n",
    "    # Cell Borders\n",
    "    for ii in range(1, numRows):\n",
    "        hRect = Rectangle(xy = (ii, 0), width = 1, height = numRows, edgecolor = 'k', fill = False)\n",
    "        hA.add_patch(hRect)\n",
    "    \n",
    "    for ii in range(1, numRows):\n",
    "        hRect = Rectangle(xy = (0, ii), width = numRows, height = 1, edgecolor = 'k', fill = False)\n",
    "        hA.add_patch(hRect)\n",
    "    \n",
    "    # Block Borders\n",
    "    for ii in range(0, numRows, 3):\n",
    "        hRect = Rectangle(xy = (ii, 0), width = 3, height = numRows, edgecolor = 'k', fill = False, linewidth = 2.5)\n",
    "        hA.add_patch(hRect)\n",
    "    \n",
    "    # Block Borders\n",
    "    for ii in range(0, numRows, 3):\n",
    "        hRect = Rectangle(xy = (0, ii), width = numRows, height = 3, edgecolor = 'k', fill = False, linewidth = 2.5)\n",
    "        hA.add_patch(hRect)\n",
    "    \n",
    "    # Fill in the data\n",
    "    #\n",
    "    # The rows of mD are of the form (i, j, k) where i is the row counting from\n",
    "    # the top, j is the column, and k is the value. To place the entries in the\n",
    "    # boxes, j is the horizontal distance, numRows + 1 - i is the vertical\n",
    "    # distance. We subtract 0.5 to center the clue in the box.\n",
    "\n",
    "    for ii in range(np.size(mB, 0)):\n",
    "        hA.text(mB[ii, 1] - 0.5, (numRows + 0.45) - mB[ii, 0], f'{mB[ii, 2]:d}', fontsize = 30, horizontalalignment = 'center', verticalalignment = 'center')\n",
    "\n",
    "    hA.set(xticks = [], yticks = [], xlim = (-0.5, numRows + 0.5), ylim = (-0.5, numRows + 0.5))\n",
    "    \n",
    "    return hA\n",
    "\n"
   ]
  },
  {
   "cell_type": "code",
   "execution_count": null,
   "metadata": {},
   "outputs": [],
   "source": [
    "# Parameters\n",
    "\n",
    "# Data\n",
    "boardUrl = r'https://github.com/FixelAlgorithmsTeam/FixelCourses/raw/refs/heads/master/DataSets/SudokuBoard.txt'\n"
   ]
  },
  {
   "cell_type": "markdown",
   "metadata": {},
   "source": [
    "## Solving Sudoku Board\n",
    "\n",
    "![](https://i.postimg.cc/SxwWYmcC/png-transparent-slitherlink-jigsaw-puzzles-web-sudoku-others-angle-text-rectangle-thumbnail.png)\n",
    "<!-- ![](https://i.imgur.com/w1d0Abb.png) -->\n",
    "\n",
    "Solving a 9x9 Sudoku board using Linear Programming.  \n",
    "\n",
    "The modeling is by a tensor of size `(9, 9, 9)` of a binary variable.\n",
    "\n",
    "\n",
    "* <font color='brown'>(**#**)</font> The motivation for the regualrization can be interpreted in many ways: Bayesian Prior (Gaussian, Laplace, etc...), Model (Sparse, Shifted), Kernel, etc...\n",
    "\n"
   ]
  },
  {
   "cell_type": "markdown",
   "metadata": {},
   "source": [
    "## Generate Data\n"
   ]
  },
  {
   "cell_type": "markdown",
   "metadata": {},
   "source": [
    "The data generates both the train and the test data."
   ]
  },
  {
   "cell_type": "code",
   "execution_count": null,
   "metadata": {},
   "outputs": [],
   "source": [
    "# Generate / Load the Data\n",
    "\n",
    "# mB[ii, jj, cellVal]: ii - Row, jj - Col, cellVal - Value\n",
    "# Uses 1 based indexing\n",
    "mB = np.loadtxt(boardUrl, dtype = np.uint8)\n"
   ]
  },
  {
   "cell_type": "code",
   "execution_count": null,
   "metadata": {},
   "outputs": [],
   "source": [
    "# Display Data \n",
    "\n",
    "hF, hA = plt.subplots(figsize = (8, 8))\n",
    "hA = DrawSudokuBoard(mB, BOARD_NUM_ROWS, hA = hA)\n",
    "hA.set_title('The Sudoku Board');\n",
    "\n",
    "# hA.legend();"
   ]
  },
  {
   "cell_type": "markdown",
   "metadata": {},
   "source": [
    "* <font color='red'>(**?**)</font> Think of a model to solve the problem with _Integer Programming_."
   ]
  },
  {
   "cell_type": "markdown",
   "metadata": {},
   "source": [
    "## Model\n",
    "\n",
    "Building a \"Convex\" Binary Linear Programming model.\n",
    "\n"
   ]
  },
  {
   "cell_type": "code",
   "execution_count": null,
   "metadata": {},
   "outputs": [],
   "source": [
    "# The Model\n",
    "\n",
    "numRows = BOARD_NUM_ROWS\n",
    "\n",
    "# For Integer Programming we could just create a 2D array and impose\n",
    "# constraints and values. \n",
    "# Yet to use Linear Programming we will use a binary formulation by setting\n",
    "# a 3D tensor `tX` where `[9, 9, 9] = size(tX)` and if `tX(ii, jj, kk) = 1`\n",
    "# it suggests that the value of the `ii, jj` cell on the board is `kk`.\n",
    "\n",
    "numVar = numRows ** 3\n",
    "\n",
    "# Impose Constraints\n",
    "# While conceptually the data is 3D tensor, in practice we solve:\n",
    "# arg min_x    f^t * x    (LP Objective)\n",
    "# subject to   A * x = b  (Equality Constraint)\n",
    "#             0 <= x <= 1\n",
    "# 1. Each column      `sum(tX(:, jj, kk)) = 1`.\n",
    "# 2. Each row         `sum(tX(ii, :, kk)) = 1`.\n",
    "# 3. Each depth slice `sum(tX(ii, jj, :)) = 1`.\n",
    "# 4. Each sub grid    `sum(tX(..., ..., kk)) = 1`.\n",
    "# 5. For each given index `tX(ii, jj, clueVal) = 1`.  \n",
    "#    We can also limit the lower value for those indices to 1.\n",
    "# 6. Continuous binary variable `0 <= tX <= 1`.\n",
    "\n",
    "vF = np.zeros(numVar)\n",
    "numClues = np.size(mB, 0)\n",
    "numConst = 4 * (numRows ** 2) #<! Equality to clues using lower bounds\n",
    "\n",
    "# Constraint Matrix\n",
    "# mA * vX = vB;\n",
    "# Assuming `vX = np.ravel(tX, order = 'F')` -> Column based.\n",
    "mA   = np.zeros(shape = (numConst, numVar))\n",
    "conA = 0 #<! Index of the constraint\n"
   ]
  },
  {
   "cell_type": "code",
   "execution_count": null,
   "metadata": {},
   "outputs": [],
   "source": [
    "# Columns Constraints\n",
    "# Each column per slice of kk\n",
    "\n",
    "itmIdx = 0 #<! First item in Column / Row / 3rd Dim Slice index\n",
    "for ii in range(numRows * numRows):\n",
    "    mA[conA, itmIdx:(itmIdx + numRows)] = 1 #<! Sum over a column (Contiguous)\n",
    "    itmIdx += numRows #<! Move to the next column\n",
    "    conA   += 1"
   ]
  },
  {
   "cell_type": "markdown",
   "metadata": {},
   "source": [
    "* <font color='blue'>(**!**)</font> Optimize the above using [Kronecker Product](https://en.wikipedia.org/wiki/Kronecker_product).  \n",
    "   See [`np.kron()`](https://numpy.org/doc/stable/reference/generated/numpy.kron.html)."
   ]
  },
  {
   "cell_type": "code",
   "execution_count": null,
   "metadata": {},
   "outputs": [],
   "source": [
    "# Rows Constraints\n",
    "# Each row per slice of kk\n",
    "\n",
    "itmIdx = 0 #<! First item in Column / Row / 3rd Dim Slice index\n",
    "for ii in range(numRows * numRows):\n",
    "    # Python excludes the last index\n",
    "    mA[conA, itmIdx:(itmIdx + (numRows * numRows)):numRows] = 1 #<! Sum over a row\n",
    "    if (((itmIdx + 1) % numRows) == 0):\n",
    "        # New slice of kk\n",
    "        itmIdx = (itmIdx - numRows + 1) + (numRows * numRows)\n",
    "    else:\n",
    "        itmIdx += 1\n",
    "    conA += 1"
   ]
  },
  {
   "cell_type": "markdown",
   "metadata": {},
   "source": [
    "* <font color='blue'>(**!**)</font> Optimize the above using [Kronecker Product](https://en.wikipedia.org/wiki/Kronecker_product).  \n",
    "   See [`np.kron()`](https://numpy.org/doc/stable/reference/generated/numpy.kron.html)."
   ]
  },
  {
   "cell_type": "code",
   "execution_count": null,
   "metadata": {},
   "outputs": [],
   "source": [
    "# Depth Slice Constraints\n",
    "# Each cell on the 3rd dimension slice\n",
    "\n",
    "itmIdx = 0 #<! First item in Column / Row / 3rd Dim Slice index\n",
    "for ii in range(numRows * numRows):\n",
    "    # Python excludes the last index\n",
    "    mA[conA, itmIdx:(itmIdx + numVar):(numRows * numRows)] = 1 #<! Sum over the 3rd dimension\n",
    "    itmIdx += 1\n",
    "    conA   += 1\n"
   ]
  },
  {
   "cell_type": "code",
   "execution_count": null,
   "metadata": {},
   "outputs": [],
   "source": [
    "# Sub Grid Constraints\n",
    "# Summing over 3x3 sub grid\n",
    "\n",
    "itmIdx = 0; #<! First item in Column / Row / 3rd Dim Slice index\n",
    "for kk in range(numRows):\n",
    "    for nn in range(0, 9, 3):\n",
    "        for mm in range(0, 9, 3):\n",
    "            for jj in range(3):\n",
    "                for ii in range(3):\n",
    "                    jn = jj + nn\n",
    "                    im = ii + mm\n",
    "                    itmIdx = (kk * (numRows * numRows)) + (jn * numRows) + im\n",
    "                    mA[conA, itmIdx] = 1\n",
    "            conA += 1\n"
   ]
  },
  {
   "cell_type": "code",
   "execution_count": null,
   "metadata": {},
   "outputs": [],
   "source": [
    "# Boundary Constraints\n",
    "vB = np.ones(numConst)\n",
    "\n",
    "vL = np.zeros(numVar) #<! Lower Bound - 0\n",
    "vU = np.ones(numVar)  #<! Upper Bound - 1\n"
   ]
  },
  {
   "cell_type": "code",
   "execution_count": null,
   "metadata": {},
   "outputs": [],
   "source": [
    "# Clues Constraints\n",
    "# Set vL according to input data (Clues)\n",
    "for ii in range(numClues):\n",
    "    # `mB` is 1 based\n",
    "    clueIdx = (mB[ii, 0] - 1) + ((mB[ii, 1] - 1) * numRows) + ((mB[ii, 2] - 1) * numRows * numRows)\n",
    "    vL[clueIdx] = 1"
   ]
  },
  {
   "cell_type": "markdown",
   "metadata": {},
   "source": [
    "## Solve the Linear Programming Problem"
   ]
  },
  {
   "cell_type": "code",
   "execution_count": null,
   "metadata": {},
   "outputs": [],
   "source": [
    "# SciPy Solution\n",
    "\n",
    "oRes = sp.optimize.linprog(np.zeros(numVar), A_eq = mA, b_eq = vB, bounds = np.column_stack((vL, vU)))\n",
    "\n",
    "assert (oRes.success), 'The problem is not solved.'\n",
    "print('Problem is solved.')\n"
   ]
  },
  {
   "cell_type": "code",
   "execution_count": null,
   "metadata": {},
   "outputs": [],
   "source": [
    "# Extract the Solution Board\n",
    "\n",
    "vX = oRes['x']\n",
    "mS = np.argmax(np.reshape(vX, (numRows, numRows, numRows), order = 'F'), axis = 2) + 1"
   ]
  },
  {
   "cell_type": "markdown",
   "metadata": {},
   "source": [
    "* <font color='red'>(**?**)</font> Explain the solution. Is it guaranteed to hold all constraints? Explain.\n",
    "<!--\n",
    "```python\n",
    "# Check\n",
    "print(np.sum(mS, axis = 0))\n",
    "print(np.sum(mS, axis = 1))\n",
    "print(np.sum(np.reshape(mS, (3, 3, 3, 3)), axis = (1, 3)))\n",
    "```\n",
    "-->\n"
   ]
  },
  {
   "cell_type": "code",
   "execution_count": null,
   "metadata": {},
   "outputs": [],
   "source": [
    "# Draw the Board\n",
    "\n",
    "vI = np.tile(range(1, numRows + 1), numRows) #<! Replicate the vector\n",
    "vJ = np.repeat(range(1, numRows + 1), numRows) #<! Replicates the items\n",
    "\n",
    "hF, hA = plt.subplots(figsize = (8, 8))\n",
    "hA = DrawSudokuBoard(np.column_stack((vI, vJ, np.ravel(mS, order = 'F'))), BOARD_NUM_ROWS, hA = hA)\n",
    "hA.set_title('The Sudoku Board - LP Solution');\n"
   ]
  },
  {
   "cell_type": "markdown",
   "metadata": {},
   "source": [
    "## Solve the Integer Linear Programming"
   ]
  },
  {
   "cell_type": "code",
   "execution_count": null,
   "metadata": {},
   "outputs": [],
   "source": [
    "# DCP Solution\n",
    "\n",
    "#===========================Fill This===========================#\n",
    "# 1. Formulate the problem in CVXPY.  \n",
    "#    Use `vX` for the optimal argument.\n",
    "# !! You may find `cp.Variable(<>, boolean = True)` useful.\n",
    "# !! Pay attention the problem is a feasibility problem.\n",
    "\n",
    "# Model Data\n",
    "vX = cp.Variable(numVar, boolean = True) #<! Variable\n",
    "\n",
    "# Model Problem\n",
    "cpObjFun = cp.Minimize(0) #<! Objective Function\n",
    "cpConst  = [mA @ vX == vB, vX <= vU, vX >= vL] #<! Constraints\n",
    "oCvxPrb  = cp.Problem(cpObjFun, cpConst) #<! Problem\n",
    "\n",
    "oCvxPrb.solve(solver = cp.SCIP)\n",
    "#===============================================================#\n",
    "\n",
    "vX = vX.value\n",
    "\n",
    "assert (oCvxPrb.status == 'optimal'), 'The problem is not solved.'\n",
    "print('Problem is solved.')\n"
   ]
  },
  {
   "cell_type": "code",
   "execution_count": null,
   "metadata": {},
   "outputs": [],
   "source": [
    "# Extract the Solution Board\n",
    "\n",
    "mS = np.argmax(np.reshape(vX, (numRows, numRows, numRows), order = 'F'), axis = 2) + 1"
   ]
  },
  {
   "cell_type": "code",
   "execution_count": null,
   "metadata": {},
   "outputs": [],
   "source": [
    "# Draw the Board\n",
    "\n",
    "vI = np.tile(range(1, numRows + 1), numRows) #<! Replicate the vector\n",
    "vJ = np.repeat(range(1, numRows + 1), numRows) #<! Replicates the items\n",
    "\n",
    "hF, hA = plt.subplots(figsize = (8, 8))\n",
    "hA = DrawSudokuBoard(np.column_stack((vI, vJ, np.ravel(mS, order = 'F'))), BOARD_NUM_ROWS, hA = hA)\n",
    "hA.set_title('The Sudoku Board - ILP Solution');\n"
   ]
  },
  {
   "cell_type": "markdown",
   "metadata": {},
   "source": [
    "* <font color='red'>(**?**)</font> Explain the solution. Is it guaranteed to hold all constraints? Explain."
   ]
  }
 ],
 "metadata": {
  "kernelspec": {
   "display_name": "Python 3",
   "language": "python",
   "name": "python3"
  },
  "language_info": {
   "codemirror_mode": {
    "name": "ipython",
    "version": 3
   },
   "file_extension": ".py",
   "mimetype": "text/x-python",
   "name": "python",
   "nbconvert_exporter": "python",
   "pygments_lexer": "ipython3",
   "version": "3.12.8"
  },
  "toc": {
   "base_numbering": 1,
   "nav_menu": {},
   "number_sections": false,
   "sideBar": true,
   "skip_h1_title": false,
   "title_cell": "Table of Contents",
   "title_sidebar": "Contents",
   "toc_cell": false,
   "toc_position": {},
   "toc_section_display": true,
   "toc_window_display": true
  },
  "varInspector": {
   "cols": {
    "lenName": 16,
    "lenType": 16,
    "lenVar": 40
   },
   "kernels_config": {
    "python": {
     "delete_cmd_postfix": "",
     "delete_cmd_prefix": "del ",
     "library": "var_list.py",
     "varRefreshCmd": "print(var_dic_list())"
    },
    "r": {
     "delete_cmd_postfix": ") ",
     "delete_cmd_prefix": "rm(",
     "library": "var_list.r",
     "varRefreshCmd": "cat(var_dic_list()) "
    }
   },
   "types_to_exclude": [
    "module",
    "function",
    "builtin_function_or_method",
    "instance",
    "_Feature"
   ],
   "window_display": false
  },
  "vscode": {
   "interpreter": {
    "hash": "39577bab1f263e62e0b74f5b8086bd735049bf4751f6562b2d4b2969dc308293"
   }
  }
 },
 "nbformat": 4,
 "nbformat_minor": 4
}
