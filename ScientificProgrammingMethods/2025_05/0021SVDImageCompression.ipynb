{
 "cells": [
  {
   "attachments": {},
   "cell_type": "markdown",
   "metadata": {},
   "source": [
    "[![Fixel Algorithms](https://fixelalgorithms.co/images/CCExt.png)](https://fixelalgorithms.gitlab.io)\n",
    "\n",
    "# Scientific Programming Methods\n",
    "\n",
    "## SVD & Linear Least Squares - SVD Rank Approximation\n",
    "\n",
    "> Notebook by:\n",
    "> - Royi Avital RoyiAvital@fixelalgorithms.com\n",
    "\n",
    "## Revision History\n",
    "\n",
    "| Version | Date       | User        |Content / Changes                                                   |\n",
    "|---------|------------|-------------|--------------------------------------------------------------------|\n",
    "| 1.0.000 | 12/11/2024 | Royi Avital | First version                                                      |"
   ]
  },
  {
   "attachments": {},
   "cell_type": "markdown",
   "metadata": {},
   "source": [
    "[![Open In Colab](https://colab.research.google.com/assets/colab-badge.svg)](https://colab.research.google.com/github/FixelAlgorithmsTeam/FixelCourses/blob/master/AIProgram/2024_02/0012LinearFitL1.ipynb)"
   ]
  },
  {
   "cell_type": "code",
   "execution_count": null,
   "metadata": {
    "ExecuteTime": {
     "end_time": "2022-02-02T09:30:06.492269Z",
     "start_time": "2022-02-02T09:30:06.220934Z"
    }
   },
   "outputs": [],
   "source": [
    "# Import Packages\n",
    "\n",
    "# General Tools\n",
    "import numpy as np\n",
    "import scipy as sp\n",
    "import pandas as pd\n",
    "\n",
    "from numba import njit\n",
    "\n",
    "# Machine Learning\n",
    "\n",
    "# Optimization\n",
    "\n",
    "# Image Processing / Computer Vision\n",
    "import skimage as ski\n",
    "\n",
    "# Miscellaneous\n",
    "import math\n",
    "from platform import python_version\n",
    "import random\n",
    "import time\n",
    "\n",
    "# Typing\n",
    "from typing import Callable, List, Optional, Tuple, Union\n",
    "\n",
    "# Visualization\n",
    "import matplotlib.pyplot as plt\n",
    "\n",
    "# Jupyter\n",
    "from IPython import get_ipython\n",
    "from ipywidgets import Dropdown, FloatSlider, interact, IntSlider, Layout"
   ]
  },
  {
   "attachments": {},
   "cell_type": "markdown",
   "metadata": {},
   "source": [
    "## Notations\n",
    "\n",
    "* <font color='red'>(**?**)</font> Question to answer interactively.\n",
    "* <font color='blue'>(**!**)</font> Simple task to add code for the notebook.\n",
    "* <font color='green'>(**@**)</font> Optional / Extra self practice.\n",
    "* <font color='brown'>(**#**)</font> Note / Useful resource / Food for thought.\n",
    "\n",
    "Code Notations:\n",
    "\n",
    "```python\n",
    "someVar    = 2; #<! Notation for a variable\n",
    "vVector    = np.random.rand(4) #<! Notation for 1D array\n",
    "mMatrix    = np.random.rand(4, 3) #<! Notation for 2D array\n",
    "tTensor    = np.random.rand(4, 3, 2, 3) #<! Notation for nD array (Tensor)\n",
    "tuTuple    = (1, 2, 3) #<! Notation for a tuple\n",
    "lList      = [1, 2, 3] #<! Notation for a list\n",
    "dDict      = {1: 3, 2: 2, 3: 1} #<! Notation for a dictionary\n",
    "oObj       = MyClass() #<! Notation for an object\n",
    "dfData     = pd.DataFrame() #<! Notation for a data frame\n",
    "dsData     = pd.Series() #<! Notation for a series\n",
    "hObj       = plt.Axes() #<! Notation for an object / handler / function handler\n",
    "```\n",
    "\n",
    "### Code Exercise\n",
    "\n",
    " - Single line fill\n",
    "\n",
    "```python\n",
    "valToFill = ???\n",
    "```\n",
    "\n",
    " - Multi Line to Fill (At least one)\n",
    "\n",
    "```python\n",
    "# You need to start writing\n",
    "?????\n",
    "```\n",
    "\n",
    " - Section to Fill\n",
    "\n",
    "```python\n",
    "#===========================Fill This===========================#\n",
    "# 1. Explanation about what to do.\n",
    "# !! Remarks to follow / take under consideration.\n",
    "mX = ???\n",
    "\n",
    "?????\n",
    "#===============================================================#\n",
    "```"
   ]
  },
  {
   "cell_type": "code",
   "execution_count": null,
   "metadata": {},
   "outputs": [],
   "source": [
    "# Configuration\n",
    "# %matplotlib inline\n",
    "\n",
    "# warnings.filterwarnings(\"ignore\")\n",
    "\n",
    "seedNum = 512\n",
    "np.random.seed(seedNum)\n",
    "random.seed(seedNum)\n",
    "\n",
    "# Matplotlib default color palette\n",
    "lMatPltLibclr = ['#1f77b4', '#ff7f0e', '#2ca02c', '#d62728', '#9467bd', '#8c564b', '#e377c2', '#7f7f7f', '#bcbd22', '#17becf']\n",
    "# sns.set_theme() #>! Apply SeaBorn theme\n",
    "# sns.set_palette(\"tab10\")\n",
    "\n",
    "runInGoogleColab = 'google.colab' in str(get_ipython())"
   ]
  },
  {
   "cell_type": "code",
   "execution_count": null,
   "metadata": {},
   "outputs": [],
   "source": [
    "# Constants\n",
    "\n",
    "FIG_SIZE_DEF    = (8, 8)\n",
    "ELM_SIZE_DEF    = 50\n",
    "CLASS_COLOR     = ('b', 'r')\n",
    "EDGE_COLOR      = 'k'\n",
    "MARKER_SIZE_DEF = 10\n",
    "LINE_WIDTH_DEF  = 2\n"
   ]
  },
  {
   "cell_type": "code",
   "execution_count": null,
   "metadata": {},
   "outputs": [],
   "source": [
    "# Course Packages\n"
   ]
  },
  {
   "cell_type": "code",
   "execution_count": null,
   "metadata": {},
   "outputs": [],
   "source": [
    "# Auxiliary Functions\n",
    "\n",
    "# @njit(cache = True)\n",
    "def RowToImg( mR: np.ndarray, mI: np.ndarray, tuBlockSize: Tuple[int, int] ):\n",
    "    \"\"\"\n",
    "    Rearranges a 2D array of flattened blocks (rows) into a 2D image array by placing\n",
    "    each block into its corresponding position within the image. Matches MATLAB's `col2im()` \n",
    "    function in `'distinct'` mode.\n",
    "\n",
    "    Parameters\n",
    "    ----------\n",
    "    mR : np.ndarray\n",
    "        A 2D NumPy array where each row represents a flattened block of size `tuBlockSize`.\n",
    "        The number of rows in `mR` corresponds to the total number of blocks in the image.\n",
    "    mI : np.ndarray\n",
    "        A 2D NumPy array that serves as the output image array to which blocks will be \n",
    "        placed. The shape of `mI` must match the dimensions implied by the block size and \n",
    "        the number of rows in `mR`.\n",
    "    tuBlockSize : Tuple[int, int]\n",
    "        A tuple `(blockHeight, blockWidth)` specifying the dimensions of each block.\n",
    "\n",
    "    Returns\n",
    "    -------\n",
    "    mI : np.ndarray\n",
    "        A 2D NumPy array that serves as the output image array to which blocks will be \n",
    "        placed. The shape of `mI` must match the dimensions implied by the block size and \n",
    "        the number of rows in `mR`.\n",
    "\n",
    "    Raises\n",
    "    ------\n",
    "    ValueError\n",
    "        If the dimensions of `mR` and `mI` are incompatible with the specified block size.\n",
    "\n",
    "    Notes\n",
    "    -----\n",
    "    - The function assumes non-overlapping blocks, and the shape of `mI` must be divisible \n",
    "      by the block size `(blockHeight, blockWidth)`. No compatibility checks are performed \n",
    "      within the function.\n",
    "    - This function is the inverse of block extraction functions like MATLAB's `im2col()` \n",
    "      with the `'distinct'` mode or Python equivalents like `ImgBlockView()`.\n",
    "\n",
    "    Examples\n",
    "    --------\n",
    "    Consider reconstructing an 8x8 image from flattened 4x4 blocks:\n",
    "\n",
    "    >>> import numpy as np\n",
    "    >>> mR = np.array([[ 0,  1,  2,  3,  8,  9, 10, 11, 16, 17, 18, 19, 24, 25, 26, 27],\n",
    "    ...                [ 4,  5,  6,  7, 12, 13, 14, 15, 20, 21, 22, 23, 28, 29, 30, 31],\n",
    "    ...                [32, 33, 34, 35, 40, 41, 42, 43, 48, 49, 50, 51, 56, 57, 58, 59],\n",
    "    ...                [36, 37, 38, 39, 44, 45, 46, 47, 52, 53, 54, 55, 60, 61, 62, 63]])\n",
    "    >>> mI = np.zeros((8, 8), dtype=int)\n",
    "    >>> tuBlockSize = (4, 4)\n",
    "    >>> RowToImg(mR, mI, tuBlockSize)\n",
    "    >>> print(mI)\n",
    "    [[ 0  1  2  3  4  5  6  7]\n",
    "     [ 8  9 10 11 12 13 14 15]\n",
    "     [16 17 18 19 20 21 22 23]\n",
    "     [24 25 26 27 28 29 30 31]\n",
    "     [32 33 34 35 36 37 38 39]\n",
    "     [40 41 42 43 44 45 46 47]\n",
    "     [48 49 50 51 52 53 54 55]\n",
    "     [56 57 58 59 60 61 62 63]]\n",
    "    \"\"\"\n",
    "    \n",
    "    # https://github.com/numba/numba/issues/9464\n",
    "    numRows = np.size(mI, 0)\n",
    "    numCols = np.size(mI, 1)\n",
    "    \n",
    "    kk = 0\n",
    "    for ii in range(0, numRows, tuBlockSize[0]):\n",
    "        for jj in range(0, numCols, tuBlockSize[1]):\n",
    "            mI[ii:(ii + tuBlockSize[0]), jj:(jj + tuBlockSize[1])].flat = mR[kk] #<! https://github.com/numba/numba/issues/10070\n",
    "            kk += 1\n",
    "    \n",
    "    return mI\n"
   ]
  },
  {
   "cell_type": "code",
   "execution_count": null,
   "metadata": {},
   "outputs": [],
   "source": [
    "# Parameters\n",
    "\n",
    "# Data\n",
    "# imgUrl = 'https://i.imgur.com/3BbIXdH.png' #<! A turtle climbing the Everest!\\n\",\n",
    "imgUrl = 'https://i.postimg.cc/63rN33GZ/3BbIXdH.png' #<! A turtle climbing the Everest!\\n\",\n",
    "paramK = 8 #<! Working on patches with size (paramK, paramK)\n",
    "\n",
    "# Model\n",
    "lSR    = [0, 1, 2, 3, 4, 5, 10, 15, 20, 30, 40, 50, 60, 64] #<! Number of singular values for reconstruction\n",
    "numRec = len(lSR)\n"
   ]
  },
  {
   "cell_type": "markdown",
   "metadata": {},
   "source": [
    "## SVD for Image Compression\n",
    "\n",
    "The SVD can be used for [Low Rank Approximation](https://en.wikipedia.org/wiki/Low-rank_approximation) of a matrix.  \n",
    "In the context of image processing, the image patches are composing a matrix $\\boldsymbol{D}$.  \n",
    "By the [SVD Theorem](https://en.wikipedia.org/wiki/Singular_value_decomposition) $\\boldsymbol{D} = \\boldsymbol{U} \\boldsymbol{S} \\boldsymbol{V}^{T}$ which implies $\\boldsymbol{U}^{T} \\boldsymbol{D} = \\boldsymbol{S} \\boldsymbol{V}^{T}$ or $\\boldsymbol{D} \\boldsymbol{V} = \\boldsymbol{U} \\boldsymbol{S}$.\n",
    "\n",
    "The concept is to code the image using only part of the singular values which is a low rank approximation of the data.\n",
    "\n",
    "* <font color='brown'>(**#**)</font> The process above is approximation of the Karhunen Loeve Transform (See [Karhunen Loeve Theorem](https://en.wikipedia.org/wiki/Kosambi%E2%80%93Karhunen%E2%80%93Lo%C3%A8ve_theorem)).\n",
    "* <font color='brown'>(**#**)</font> The KLT is closely related to the [Principal Component Analysis](https://en.wikipedia.org/wiki/Principal_component_analysis) (PCA).  \n",
    "  See [What Is the Difference Between PCA and Karhunen Loeve (KL) Transform](https://dsp.stackexchange.com/questions/49210).\n",
    "* <font color='brown'>(**#**)</font> For natural patches, it can be shown that the KLT can be well approximated by the [Discrete Cosine Transform](https://en.wikipedia.org/wiki/Discrete_cosine_transform) (DCT).  \n",
    "  See [Discrete Cosine Transform (DCT) as the Limit of Principal Component Analysis (PCA)](https://dsp.stackexchange.com/questions/86375).\n",
    "* <font color='brown'>(**#**)</font> The DCT is used in many image compression algorithms. See [JPEG](https://en.wikipedia.org/wiki/JPEG).\n"
   ]
  },
  {
   "cell_type": "markdown",
   "metadata": {},
   "source": [
    "## Generate Data\n"
   ]
  },
  {
   "cell_type": "markdown",
   "metadata": {},
   "source": [
    "Load the image."
   ]
  },
  {
   "cell_type": "code",
   "execution_count": null,
   "metadata": {},
   "outputs": [],
   "source": [
    "# Generate / Load the Data\n",
    "\n",
    "# Image\n",
    "mI = ski.io.imread(imgUrl)\n",
    "mI = ski.util.img_as_float64(mI)\n",
    "mI = np.mean(mI, axis = 2)\n",
    "mI = ski.transform.resize(mI, output_shape = (paramK * 80, paramK * 80), preserve_range = False)\n",
    "\n",
    "\n",
    "numRows = np.size(mI, 0)\n",
    "numCols = np.size(mI, 1)\n",
    "\n",
    "tR = np.zeros(shape = (len(lSR), numRows, numCols)) #<! Reconstructed images\n"
   ]
  },
  {
   "cell_type": "code",
   "execution_count": null,
   "metadata": {},
   "outputs": [],
   "source": [
    "# Display Data \n",
    "\n",
    "hF, hA = plt.subplots(figsize = (10, 6))\n",
    "hA.imshow(mI, cmap = 'gray', vmin = 0.0, vmax = 1.0)\n",
    "hA.set_title(f'Image of Size: ({mI.shape[0]}, {mI.shape[1]})');"
   ]
  },
  {
   "cell_type": "markdown",
   "metadata": {},
   "source": [
    "* <font color='red'>(**?**)</font> Given the parameter `paramK` and image of size as above. What would be the size of the array where each patch is a column?"
   ]
  },
  {
   "cell_type": "markdown",
   "metadata": {},
   "source": [
    "## The `im2col()` Operator\n",
    "\n",
    "The operator, coined mainly by MATLAB's [`im2col()`](https://www.mathworks.com/help/images/ref/im2col.html), builds an array where each column is a patch.  \n",
    "NumPy allows building such array using views which on one hand more efficient in memory yet on the other hand the data locality is less optimized. "
   ]
  },
  {
   "cell_type": "code",
   "execution_count": null,
   "metadata": {},
   "outputs": [],
   "source": [
    "# Objective Function\n",
    "\n",
    "#===========================Fill This===========================#\n",
    "# 1. Implement the `ImgBlockView()` function. \n",
    "#    Given a vector of `vX` it returns the objective.\n",
    "# 2. The implementation should be using a Lambda Function.\n",
    "# !! You may `np.square()` and / or `np.linalg.norm()`.\n",
    "\n",
    "def ImgBlockView(mI: np.ndarray, tuBlockShape: Tuple[int, int] = (4, 4)) -> np.ndarray:\n",
    "    \"\"\"\n",
    "    Divides a 2D input array into non overlapping blocks of a specified shape \n",
    "    and returns a flattened view of these blocks as rows of a 2D array.\n",
    "\n",
    "    Parameters\n",
    "    ----------\n",
    "    mI : np.ndarray\n",
    "        A 2D NumPy array (Image or Matrix) to be divided into blocks.\n",
    "    tuBlockShape : Tuple[int, int], optional\n",
    "        The shape of the blocks (rows, columns) to divide the input array into.\n",
    "        Defaults to `(4, 4)`.\n",
    "\n",
    "    Returns\n",
    "    -------\n",
    "    np.ndarray\n",
    "        A 2D NumPy array where each row represents a flattened view of a block \n",
    "        from the input array. Might be a copy of the data and not a view.\n",
    "\n",
    "    Raises\n",
    "    ------\n",
    "    ValueError\n",
    "        If the shape of `mI` is not an integer multiple of the block shape `tuBlockShape`.\n",
    "\n",
    "    Notes\n",
    "    -----\n",
    "    - The function uses NumPy's `stride_tricks()` to efficiently generate views of the \n",
    "      input array without creating copies of the data.\n",
    "    - The shape of the input array `mI` must be an exact multiple of the block shape \n",
    "      specified by `tuBlockShape`. No shape compatibility checks are performed.\n",
    "    - The output is similar to MATLAB's `im2col()` function with the `'distinct'` mode, \n",
    "      where non overlapping blocks are extracted.\n",
    "\n",
    "    Examples\n",
    "    --------\n",
    "    Divide a 6x6 matrix into 3x3 blocks:\n",
    "    \n",
    "    >>> import numpy as np\n",
    "    >>> mI = np.arange(36).reshape(6, 6)\n",
    "    >>> print(mI)\n",
    "    [[ 0  1  2  3  4  5]\n",
    "     [ 6  7  8  9 10 11]\n",
    "     [12 13 14 15 16 17]\n",
    "     [18 19 20 21 22 23]\n",
    "     [24 25 26 27 28 29]\n",
    "     [30 31 32 33 34 35]]\n",
    "    >>> tuBlockShape = (3, 3)\n",
    "    >>> mB = ImgBlockView(mI, tuBlockShape)\n",
    "    >>> print(mB)\n",
    "    [[ 0  1  2  6  7  8 12 13 14]\n",
    "     [ 3  4  5  9 10 11 15 16 17]\n",
    "     [18 19 20 24 25 26 30 31 32]\n",
    "     [21 22 23 27 28 29 33 34 35]]\n",
    "\n",
    "    Divide an 8x8 array into 4x4 blocks:\n",
    "    \n",
    "    >>> mI = np.arange(64).reshape(8, 8)\n",
    "    >>> print(mI)\n",
    "    [[ 0  1  2  3  4  5  6  7]\n",
    "     [ 8  9 10 11 12 13 14 15]\n",
    "     [16 17 18 19 20 21 22 23]\n",
    "     [24 25 26 27 28 29 30 31]\n",
    "     [32 33 34 35 36 37 38 39]\n",
    "     [40 41 42 43 44 45 46 47]\n",
    "     [48 49 50 51 52 53 54 55]\n",
    "     [56 57 58 59 60 61 62 63]]\n",
    "    >>> tuBlockShape = (4, 4)\n",
    "    >>> mB = ImgBlockView(mI, tuBlockShape)\n",
    "    >>> print(mB)\n",
    "    [[ 0  1  2  3  8  9 10 11 16 17 18 19 24 25 26 27]\n",
    "     [ 4  5  6  7 12 13 14 15 20 21 22 23 28 29 30 31]\n",
    "     [32 33 34 35 40 41 42 43 48 49 50 51 56 57 58 59]\n",
    "     [36 37 38 39 44 45 46 47 52 53 54 55 60 61 62 63]]\n",
    "    \"\"\"\n",
    "    # Pay attention to integer division\n",
    "    # Tuple addition means concatenation of the Tuples\n",
    "    tuShape   = (mI.shape[0] // tuBlockShape[0], mI.shape[1] // tuBlockShape[1]) + tuBlockShape\n",
    "    tuStrides = (tuBlockShape[0] * mI.strides[0], tuBlockShape[1] * mI.strides[1]) + mI.strides\n",
    "\n",
    "    tA = np.lib.stride_tricks.as_strided(mI, shape = tuShape, strides = tuStrides) #<! (numPatchW, numPatchH, tuBlockShape[0], tuBlockShape[1])\n",
    "\n",
    "    mB = np.reshape(tA, ((mI.shape[0] // tuBlockShape[0]) * (mI.shape[1] // tuBlockShape[1]), tuBlockShape[0] * tuBlockShape[1])) #<! Creates a copy!\n",
    "    \n",
    "    return mB\n",
    "#===============================================================#"
   ]
  },
  {
   "cell_type": "markdown",
   "metadata": {},
   "source": [
    "* <font color='brown'>(**#**)</font> In MATLAB's `im2co()` each patch is contiguous in memory. The view above are not."
   ]
  },
  {
   "cell_type": "code",
   "execution_count": null,
   "metadata": {},
   "outputs": [],
   "source": [
    "# The Patch Block View\n",
    "\n",
    "mD = ImgBlockView(mI, (paramK, paramK)) #<! Each row is a block / patch\n"
   ]
  },
  {
   "cell_type": "code",
   "execution_count": null,
   "metadata": {},
   "outputs": [],
   "source": [
    "# Display Data \n",
    "\n",
    "hF, hA = plt.subplots(figsize = (10, 6))\n",
    "hA.imshow(mD, cmap = 'gray', vmin = 0.0, vmax = 1.0)\n",
    "hA.set_title(f'Block Array of Size: ({mD.shape[0]}, {mD.shape[1]})');"
   ]
  },
  {
   "cell_type": "markdown",
   "metadata": {},
   "source": [
    "## SVD of Data\n",
    "\n",
    "\n"
   ]
  },
  {
   "cell_type": "markdown",
   "metadata": {},
   "source": [
    "### The PCA / SVD Pre Processing\n",
    "\n",
    "1. Remove the mean patch from all patches.\n",
    "2. Apply the SVD to the data matrix."
   ]
  },
  {
   "cell_type": "code",
   "execution_count": null,
   "metadata": {},
   "outputs": [],
   "source": [
    "# SVD and Singular Value Distribution\n",
    "\n",
    "#===========================Fill This===========================#\n",
    "# 1. Calculate the mean patch from the data.\n",
    "# 2. Make the data with zero mean.\n",
    "# 3. Calculate the SVD of the centered data.\n",
    "\n",
    "vMeanD      = np.mean(mD, axis = 0)\n",
    "mD          = mD - vMeanD\n",
    "mU, vS, mVh = np.linalg.svd(mD)\n",
    "#===============================================================#\n"
   ]
  },
  {
   "cell_type": "markdown",
   "metadata": {},
   "source": [
    "### The Distribution of the Singular Values"
   ]
  },
  {
   "cell_type": "code",
   "execution_count": null,
   "metadata": {},
   "outputs": [],
   "source": [
    "# The Distribution of the Singular Values\n",
    "\n",
    "numSingVal  = len(vS)\n",
    "vSEleEnergy = vS / np.sum(vS)\n",
    "vSAccEnergy = np.cumsum(vS) / sum(vS)\n"
   ]
  },
  {
   "cell_type": "code",
   "execution_count": null,
   "metadata": {},
   "outputs": [],
   "source": [
    "# Display Data\n",
    "\n",
    "hF, hA = plt.subplots(figsize = (10, 6))\n",
    "hA.scatter(range(numSingVal), vSEleEnergy, s = 35, label = 'Normalized Energy')\n",
    "hA.scatter(range(numSingVal), vSAccEnergy, s = 10, label = 'Accumulated Energy')\n",
    "hA.set_title(f'Singular Values Distribution, #{numSingVal}')\n",
    "hA.set_xlabel('Index')\n",
    "hA.set_ylabel('Normalized Value')\n",
    "\n",
    "hA.legend();"
   ]
  },
  {
   "cell_type": "markdown",
   "metadata": {},
   "source": [
    "### Projection onto the Columns / Rows Space"
   ]
  },
  {
   "cell_type": "code",
   "execution_count": null,
   "metadata": {},
   "outputs": [],
   "source": [
    "# Projection onto the Columns Space\n",
    "\n",
    "mRecPatches = np.zeros_like(mD) #<! Reconstructed patches\n",
    "\n",
    "for ii in range(numRec):\n",
    "    recRank = lSR[ii]\n",
    "    mUd = mU[:, :recRank]\n",
    "    mRecPatches[:] = mUd @ (mUd.T @ mD) + vMeanD\n",
    "    tR[ii] = RowToImg(mRecPatches, tR[ii], (paramK, paramK))\n"
   ]
  },
  {
   "cell_type": "code",
   "execution_count": null,
   "metadata": {},
   "outputs": [],
   "source": [
    "# Projection onto the Row Space\n",
    "\n",
    "mRecPatches = np.zeros_like(mD) #<! Reconstructed patches\n",
    "\n",
    "for ii in range(numRec):\n",
    "    recRank = lSR[ii]\n",
    "    mVd = mVh.T[:, :recRank]\n",
    "    # mRecPatches[:] = mUd @ (mUd.T @ mD) + vMeanD\n",
    "    mRecPatches[:] = (mD @ mVd) @ mVd.T + vMeanD\n",
    "    tR[ii] = RowToImg(mRecPatches, tR[ii], (paramK, paramK))"
   ]
  },
  {
   "cell_type": "code",
   "execution_count": null,
   "metadata": {},
   "outputs": [],
   "source": [
    "# Display Image Array\n",
    "\n",
    "def DisplayImageArray( tI: np.ndarray, imgIdx: int, /, *, figTitle: Optional[str] = None ) -> plt.Figure:\n",
    "\n",
    "    hF, hA = plt.subplots(figsize = (8, 6))\n",
    "\n",
    "    hA.imshow(tI[imgIdx], cmap = 'gray', vmin = 0.0, vmax = 1.0)\n",
    "    hA.set(xticks = [], yticks = [])\n",
    "    if figTitle is not None:\n",
    "        hA.set_title(figTitle)\n",
    "\n",
    "    return hF"
   ]
  },
  {
   "cell_type": "code",
   "execution_count": null,
   "metadata": {},
   "outputs": [],
   "source": [
    "# Auxiliary Display Function\n",
    "hDisplayImg = lambda imgIdx: DisplayImageArray(tR, imgIdx - 1, figTitle = f'Reconstruction by #{lSR[imgIdx - 1]:02d} Components')"
   ]
  },
  {
   "cell_type": "code",
   "execution_count": null,
   "metadata": {},
   "outputs": [],
   "source": [
    "# Interactive Plot of the Unit Ball Interior\n",
    "\n",
    "imgIdxSlider = IntSlider(value = 1, min = 1, max = numRec, step = 1, description = 'Image Index:', continuous_update = False, readout = True, readout_format = 'd', layout = Layout(width = '30%'))\n",
    "interact(hDisplayImg, imgIdx = imgIdxSlider);"
   ]
  },
  {
   "cell_type": "markdown",
   "metadata": {},
   "source": [
    "* <font color='red'>(**?**)</font> Explain the results when the number of components is zero.\n",
    "<!-- The mean patch is tiled. -->\n",
    "* <font color='red'>(**?**)</font> One suggests to use the system as a compression algorithm. Sending only the coefficients of `mUd.T @ mD`.  \n",
    "  Calculate and the compression ratio as a function of the number of components.  \n",
    "  How come it is not used as compression algorithm?\n",
    "<!-- `pramK * paramK * numComp` + `paramK * paramK` for the mean patch * 4 Bytes (`Float32`). The decompression requires knowing `mUd` itself. -->"
   ]
  }
 ],
 "metadata": {
  "kernelspec": {
   "display_name": "Python 3",
   "language": "python",
   "name": "python3"
  },
  "language_info": {
   "codemirror_mode": {
    "name": "ipython",
    "version": 3
   },
   "file_extension": ".py",
   "mimetype": "text/x-python",
   "name": "python",
   "nbconvert_exporter": "python",
   "pygments_lexer": "ipython3",
   "version": "3.13.3"
  },
  "toc": {
   "base_numbering": 1,
   "nav_menu": {},
   "number_sections": false,
   "sideBar": true,
   "skip_h1_title": false,
   "title_cell": "Table of Contents",
   "title_sidebar": "Contents",
   "toc_cell": false,
   "toc_position": {},
   "toc_section_display": true,
   "toc_window_display": true
  },
  "varInspector": {
   "cols": {
    "lenName": 16,
    "lenType": 16,
    "lenVar": 40
   },
   "kernels_config": {
    "python": {
     "delete_cmd_postfix": "",
     "delete_cmd_prefix": "del ",
     "library": "var_list.py",
     "varRefreshCmd": "print(var_dic_list())"
    },
    "r": {
     "delete_cmd_postfix": ") ",
     "delete_cmd_prefix": "rm(",
     "library": "var_list.r",
     "varRefreshCmd": "cat(var_dic_list()) "
    }
   },
   "types_to_exclude": [
    "module",
    "function",
    "builtin_function_or_method",
    "instance",
    "_Feature"
   ],
   "window_display": false
  },
  "vscode": {
   "interpreter": {
    "hash": "39577bab1f263e62e0b74f5b8086bd735049bf4751f6562b2d4b2969dc308293"
   }
  }
 },
 "nbformat": 4,
 "nbformat_minor": 4
}
