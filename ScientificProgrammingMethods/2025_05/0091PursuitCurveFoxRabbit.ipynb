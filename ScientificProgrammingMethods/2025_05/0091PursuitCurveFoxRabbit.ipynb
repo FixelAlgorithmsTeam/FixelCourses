{
 "cells": [
  {
   "attachments": {},
   "cell_type": "markdown",
   "metadata": {},
   "source": [
    "[![Fixel Algorithms](https://fixelalgorithms.co/images/CCExt.png)](https://fixelalgorithms.gitlab.io)\n",
    "\n",
    "# Scientific Programming Methods\n",
    "\n",
    "## Differential Equations - Pursuit Curve - Fox Chasing a Rabbit\n",
    "\n",
    "> Notebook by:\n",
    "> - Royi Avital RoyiAvital@fixelalgorithms.com\n",
    "\n",
    "## Revision History\n",
    "\n",
    "| Version | Date       | User        |Content / Changes                                                   |\n",
    "|---------|------------|-------------|--------------------------------------------------------------------|\n",
    "| 1.0.000 | 17/05/2025 | Royi Avital | First version                                                      |"
   ]
  },
  {
   "attachments": {},
   "cell_type": "markdown",
   "metadata": {},
   "source": [
    "[![Open In Colab](https://colab.research.google.com/assets/colab-badge.svg)](https://colab.research.google.com/github/FixelAlgorithmsTeam/FixelCourses/blob/master/AIProgram/2024_02/0092DeepLearningResNet.ipynb)"
   ]
  },
  {
   "cell_type": "code",
   "execution_count": null,
   "metadata": {
    "ExecuteTime": {
     "end_time": "2022-02-02T09:30:06.492269Z",
     "start_time": "2022-02-02T09:30:06.220934Z"
    }
   },
   "outputs": [],
   "source": [
    "# Import Packages\n",
    "\n",
    "# General Tools\n",
    "import numpy as np\n",
    "import scipy as sp\n",
    "import pandas as pd\n",
    "\n",
    "# Machine Learning\n",
    "\n",
    "# Deep Learning\n",
    "\n",
    "# Image Processing & Computer Vision\n",
    "\n",
    "# Miscellaneous\n",
    "from platform import python_version\n",
    "import random\n",
    "\n",
    "# Typing\n",
    "from typing import Callable, Dict, Generator, List, Optional, Self, Set, Tuple, Union\n",
    "\n",
    "# Visualization\n",
    "import matplotlib.pyplot as plt\n",
    "\n",
    "# Jupyter\n",
    "from IPython import get_ipython"
   ]
  },
  {
   "attachments": {},
   "cell_type": "markdown",
   "metadata": {},
   "source": [
    "## Notations\n",
    "\n",
    "* <font color='red'>(**?**)</font> Question to answer interactively.\n",
    "* <font color='blue'>(**!**)</font> Simple task to add code for the notebook.\n",
    "* <font color='green'>(**@**)</font> Optional / Extra self practice.\n",
    "* <font color='brown'>(**#**)</font> Note / Useful resource / Food for thought.\n",
    "\n",
    "Code Notations:\n",
    "\n",
    "```python\n",
    "someVar    = 2; #<! Notation for a variable\n",
    "vVector    = np.random.rand(4) #<! Notation for 1D array\n",
    "mMatrix    = np.random.rand(4, 3) #<! Notation for 2D array\n",
    "tTensor    = np.random.rand(4, 3, 2, 3) #<! Notation for nD array (Tensor)\n",
    "tuTuple    = (1, 2, 3) #<! Notation for a tuple\n",
    "lList      = [1, 2, 3] #<! Notation for a list\n",
    "dDict      = {1: 3, 2: 2, 3: 1} #<! Notation for a dictionary\n",
    "oObj       = MyClass() #<! Notation for an object\n",
    "dfData     = pd.DataFrame() #<! Notation for a data frame\n",
    "dsData     = pd.Series() #<! Notation for a series\n",
    "hObj       = plt.Axes() #<! Notation for an object / handler / function handler\n",
    "```\n",
    "\n",
    "### Code Exercise\n",
    "\n",
    " - Single line fill\n",
    "\n",
    "```python\n",
    "valToFill = ???\n",
    "```\n",
    "\n",
    " - Multi Line to Fill (At least one)\n",
    "\n",
    "```python\n",
    "# You need to start writing\n",
    "?????\n",
    "```\n",
    "\n",
    " - Section to Fill\n",
    "\n",
    "```python\n",
    "#===========================Fill This===========================#\n",
    "# 1. Explanation about what to do.\n",
    "# !! Remarks to follow / take under consideration.\n",
    "mX = ???\n",
    "\n",
    "?????\n",
    "#===============================================================#\n",
    "```"
   ]
  },
  {
   "cell_type": "code",
   "execution_count": null,
   "metadata": {},
   "outputs": [],
   "source": [
    "# Configuration\n",
    "# %matplotlib inline\n",
    "\n",
    "seedNum = 512\n",
    "np.random.seed(seedNum)\n",
    "random.seed(seedNum)\n",
    "\n",
    "# Color Palettes\n",
    "lMatPltLibclr   = ['#1f77b4', '#ff7f0e', '#2ca02c', '#d62728', '#9467bd', '#8c564b', '#e377c2', '#7f7f7f', '#bcbd22', '#17becf'] #<! Matplotlib default color palette\n",
    "lFlexokiClr     = ['#D14D41', '#DA702C', '#D0A215', '#879A39', '#3AA99F', '#4385BE', '#8B7EC8', '#CE5D97'] #<! Flexoki (Obsidian) Main\n",
    "lFlexokiSatClr  = ['#AF3029', '#BC5215', '#BC5215', '#66800B', '#24837B', '#205EA6', '#5E409D', '#A02F6F'] #<! Flexoki (Obsidian) Saturated\n",
    "lFlexokiGrayClr = ['#100F0F', '#1C1B1B', '#282726', '#343331', '#403E3C', '#55524E', '#878580', '#CECDC3'] #<! Flexoki (Obsidian) Grayscale\n",
    "# sns.set_theme() #>! Apply SeaBorn theme\n",
    "\n",
    "runInGoogleColab = 'google.colab' in str(get_ipython())"
   ]
  },
  {
   "cell_type": "code",
   "execution_count": null,
   "metadata": {},
   "outputs": [],
   "source": [
    "# Constants\n"
   ]
  },
  {
   "cell_type": "code",
   "execution_count": null,
   "metadata": {},
   "outputs": [],
   "source": [
    "# Courses Packages\n"
   ]
  },
  {
   "cell_type": "code",
   "execution_count": null,
   "metadata": {},
   "outputs": [],
   "source": [
    "# General Auxiliary Functions\n",
    "\n",
    "def CalcRabbitCoord( t: float, r: float = 1.0 ) -> np.ndarray:\n",
    "    \"\"\"\n",
    "    Calculates the coordinates of the rabbit path for a given time t.\n",
    "    The rabbit path is defined by the parametric equations of a circle:\n",
    "        p(t) = [r * cos(t), r * sin(t)]\n",
    "    where r is the radius of the path.\n",
    "    Input:\n",
    "        - t: The time parameter.\n",
    "        - r: The radius parameter.\n",
    "    Output:\n",
    "        - vP: The vector of coordinates.\n",
    "    Example:\n",
    "        ```python\n",
    "        t = 2 * np.pi * np.random.rand(1)\n",
    "        r = 1.0\n",
    "        vP = CalcRabbitPath(t, r)\n",
    "        ```\n",
    "    \"\"\"\n",
    "\n",
    "    vP = np.array([r * np.cos(t), r * np.sin(t)])\n",
    "    \n",
    "    return vP\n",
    "\n",
    "def CalcFoxCoord( vP: np.ndarray, hRabbit: Callable, t: float, k: float = 1.0 ) -> np.ndarray:\n",
    "    \"\"\"\n",
    "    Calculates the gradient of the position vector of the fox path for a given time t.\n",
    "    The fox gradient is heading towards the rabbit position.   \n",
    "    Namely the unit vector of the direction of the fox is given by:\n",
    "        vV = k * (hRabbit(t) - vP) / ||hRabbit(t) - vP||\n",
    "    where k is the speed of the fox.\n",
    "    Input:\n",
    "        - vP: The coordinates of the Fox (Current).\n",
    "        - hRabbit: The function that calculates the coordinates of the rabbit at time `t`.\n",
    "        - t: The time parameter.\n",
    "        - k: The speed parameter.\n",
    "    Output:\n",
    "        - vV: The vector of the gradient of coordinates (The gradient of `vP`).\n",
    "    Example:\n",
    "        ```python\n",
    "        vP = np.array([2.0, 0.0])\n",
    "        hRabbit =  CalcRabbitCoord(t, 1.0)\n",
    "        t = 2 * np.pi * np.random.rand(1)\n",
    "        k = 1.0\n",
    "        vV = CalcFoxCoord(vP, hRabbit, t, k)\n",
    "        ```\n",
    "    \"\"\"\n",
    "\n",
    "    vV = k * ((hRabbit(t) - vP) / (np.linalg.norm(hRabbit(t) - vP) + 1e-12))\n",
    "    \n",
    "    return vV"
   ]
  },
  {
   "cell_type": "code",
   "execution_count": null,
   "metadata": {},
   "outputs": [],
   "source": [
    "hRabbit = lambda t: CalcRabbitCoord(t, 1.0)\n",
    "hFox    = lambda vP, t: CalcFoxCoord(vP, hRabbit, t, 1.0)"
   ]
  },
  {
   "cell_type": "code",
   "execution_count": null,
   "metadata": {},
   "outputs": [],
   "source": [
    "vP0 = np.array([2.0, 0.0])\n",
    "vT  = np.linspace(0, 2 * np.pi - 0.05, 5_000)"
   ]
  },
  {
   "cell_type": "code",
   "execution_count": null,
   "metadata": {},
   "outputs": [],
   "source": [
    "vF = sp.integrate.odeint(hFox, vP0, vT)"
   ]
  },
  {
   "cell_type": "code",
   "execution_count": null,
   "metadata": {},
   "outputs": [],
   "source": [
    "vR = np.array([hRabbit(t) for t in vT])"
   ]
  },
  {
   "cell_type": "code",
   "execution_count": null,
   "metadata": {},
   "outputs": [],
   "source": [
    "hF, hA = plt.subplots(figsize = (10, 6))\n",
    "hA.scatter(vR[:, 0], vR[:, 1], s = np.log(5 * vT ** 7 + 1.2), label = 'Rabbit')\n",
    "hA.scatter(vF[:, 0], vF[:, 1], s = np.log(5 * vT ** 7 + 1.2), label = 'Fox')\n",
    "hA.set_xlabel('x')\n",
    "hA.set_ylabel('y')\n",
    "hA.set_title('Fox and Rabbit')\n",
    "hA.legend();"
   ]
  }
 ],
 "metadata": {
  "kernelspec": {
   "display_name": "ScientificProgrammingMethods",
   "language": "python",
   "name": "python3"
  },
  "language_info": {
   "codemirror_mode": {
    "name": "ipython",
    "version": 3
   },
   "file_extension": ".py",
   "mimetype": "text/x-python",
   "name": "python",
   "nbconvert_exporter": "python",
   "pygments_lexer": "ipython3",
   "version": "3.13.9"
  },
  "toc": {
   "base_numbering": 1,
   "nav_menu": {},
   "number_sections": false,
   "sideBar": true,
   "skip_h1_title": false,
   "title_cell": "Table of Contents",
   "title_sidebar": "Contents",
   "toc_cell": false,
   "toc_position": {},
   "toc_section_display": true,
   "toc_window_display": true
  },
  "varInspector": {
   "cols": {
    "lenName": 16,
    "lenType": 16,
    "lenVar": 40
   },
   "kernels_config": {
    "python": {
     "delete_cmd_postfix": "",
     "delete_cmd_prefix": "del ",
     "library": "var_list.py",
     "varRefreshCmd": "print(var_dic_list())"
    },
    "r": {
     "delete_cmd_postfix": ") ",
     "delete_cmd_prefix": "rm(",
     "library": "var_list.r",
     "varRefreshCmd": "cat(var_dic_list()) "
    }
   },
   "types_to_exclude": [
    "module",
    "function",
    "builtin_function_or_method",
    "instance",
    "_Feature"
   ],
   "window_display": false
  }
 },
 "nbformat": 4,
 "nbformat_minor": 4
}
