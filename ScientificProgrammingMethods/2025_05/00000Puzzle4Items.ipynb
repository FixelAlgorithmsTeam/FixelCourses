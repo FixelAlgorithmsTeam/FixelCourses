{
 "cells": [
  {
   "attachments": {},
   "cell_type": "markdown",
   "metadata": {},
   "source": [
    "[![Fixel Algorithms](https://fixelalgorithms.co/images/CCExt.png)](https://fixelalgorithms.gitlab.io)\n",
    "\n",
    "# Scientific Programming Methods\n",
    "\n",
    "## Overview - Puzzle\n",
    "\n",
    "> Notebook by:\n",
    "> - Royi Avital RoyiAvital@fixelalgorithms.com\n",
    "\n",
    "## Revision History\n",
    "\n",
    "| Version | Date       | User        |Content / Changes                                                   |\n",
    "|---------|------------|-------------|--------------------------------------------------------------------|\n",
    "| 1.0.000 | 14/04/2025 | Royi Avital | First version                                                      |"
   ]
  },
  {
   "attachments": {},
   "cell_type": "markdown",
   "metadata": {},
   "source": [
    "[![Open In Colab](https://colab.research.google.com/assets/colab-badge.svg)](https://colab.research.google.com/github/FixelAlgorithmsTeam/FixelCourses/blob/master/AIProgram/2024_02/0092DeepLearningResNet.ipynb)"
   ]
  },
  {
   "cell_type": "code",
   "execution_count": null,
   "metadata": {
    "ExecuteTime": {
     "end_time": "2022-02-02T09:30:06.492269Z",
     "start_time": "2022-02-02T09:30:06.220934Z"
    }
   },
   "outputs": [],
   "source": [
    "# Import Packages\n",
    "\n",
    "# General Tools\n",
    "import numpy as np\n",
    "import scipy as sp\n",
    "import pandas as pd\n",
    "\n",
    "# Machine Learning\n",
    "\n",
    "# Deep Learning\n",
    "\n",
    "# Miscellaneous\n",
    "from enum import auto, Enum, unique\n",
    "import math\n",
    "import os\n",
    "from platform import python_version\n",
    "import random\n",
    "\n",
    "# Typing\n",
    "from typing import Callable, Dict, Generator, List, Optional, Self, Set, Tuple, Union\n",
    "\n",
    "# Visualization\n",
    "import matplotlib as mpl\n",
    "import matplotlib.pyplot as plt\n",
    "import seaborn as sns\n",
    "\n",
    "# Jupyter\n",
    "from IPython import get_ipython\n"
   ]
  },
  {
   "attachments": {},
   "cell_type": "markdown",
   "metadata": {},
   "source": [
    "## Notations\n",
    "\n",
    "* <font color='red'>(**?**)</font> Question to answer interactively.\n",
    "* <font color='blue'>(**!**)</font> Simple task to add code for the notebook.\n",
    "* <font color='green'>(**@**)</font> Optional / Extra self practice.\n",
    "* <font color='brown'>(**#**)</font> Note / Useful resource / Food for thought.\n",
    "\n",
    "Code Notations:\n",
    "\n",
    "```python\n",
    "someVar    = 2; #<! Notation for a variable\n",
    "vVector    = np.random.rand(4) #<! Notation for 1D array\n",
    "mMatrix    = np.random.rand(4, 3) #<! Notation for 2D array\n",
    "tTensor    = np.random.rand(4, 3, 2, 3) #<! Notation for nD array (Tensor)\n",
    "tuTuple    = (1, 2, 3) #<! Notation for a tuple\n",
    "lList      = [1, 2, 3] #<! Notation for a list\n",
    "dDict      = {1: 3, 2: 2, 3: 1} #<! Notation for a dictionary\n",
    "oObj       = MyClass() #<! Notation for an object\n",
    "dfData     = pd.DataFrame() #<! Notation for a data frame\n",
    "dsData     = pd.Series() #<! Notation for a series\n",
    "hObj       = plt.Axes() #<! Notation for an object / handler / function handler\n",
    "```\n",
    "\n",
    "### Code Exercise\n",
    "\n",
    " - Single line fill\n",
    "\n",
    "```python\n",
    "valToFill = ???\n",
    "```\n",
    "\n",
    " - Multi Line to Fill (At least one)\n",
    "\n",
    "```python\n",
    "# You need to start writing\n",
    "?????\n",
    "```\n",
    "\n",
    " - Section to Fill\n",
    "\n",
    "```python\n",
    "#===========================Fill This===========================#\n",
    "# 1. Explanation about what to do.\n",
    "# !! Remarks to follow / take under consideration.\n",
    "mX = ???\n",
    "\n",
    "?????\n",
    "#===============================================================#\n",
    "```"
   ]
  },
  {
   "cell_type": "code",
   "execution_count": null,
   "metadata": {},
   "outputs": [],
   "source": [
    "# Configuration\n",
    "# %matplotlib inline\n",
    "\n",
    "seedNum = 512\n",
    "np.random.seed(seedNum)\n",
    "random.seed(seedNum)\n",
    "\n",
    "# Color Palettes\n",
    "lMatPltLibclr   = ['#1f77b4', '#ff7f0e', '#2ca02c', '#d62728', '#9467bd', '#8c564b', '#e377c2', '#7f7f7f', '#bcbd22', '#17becf'] #<! Matplotlib default color palette\n",
    "lFlexokiClr     = ['#D14D41', '#DA702C', '#D0A215', '#879A39', '#3AA99F', '#4385BE', '#8B7EC8', '#CE5D97'] #<! Flexoki (Obsidian) Main\n",
    "lFlexokiSatClr  = ['#AF3029', '#BC5215', '#BC5215', '#66800B', '#24837B', '#205EA6', '#5E409D', '#A02F6F'] #<! Flexoki (Obsidian) Saturated\n",
    "lFlexokiGrayClr = ['#100F0F', '#1C1B1B', '#282726', '#343331', '#403E3C', '#55524E', '#878580', '#CECDC3'] #<! Flexoki (Obsidian) Grayscale\n",
    "# sns.set_theme() #>! Apply SeaBorn theme\n",
    "\n",
    "runInGoogleColab = 'google.colab' in str(get_ipython())\n"
   ]
  },
  {
   "cell_type": "code",
   "execution_count": null,
   "metadata": {},
   "outputs": [],
   "source": [
    "# Constants\n",
    "\n"
   ]
  },
  {
   "cell_type": "code",
   "execution_count": null,
   "metadata": {},
   "outputs": [],
   "source": [
    "# Courses Packages\n",
    "\n"
   ]
  },
  {
   "cell_type": "code",
   "execution_count": null,
   "metadata": {},
   "outputs": [],
   "source": [
    "# General Auxiliary Functions\n"
   ]
  },
  {
   "cell_type": "markdown",
   "metadata": {},
   "source": [
    "## Puzzle\n",
    "\n",
    "<div class=\"alert alert-block alert-warning\">\n",
    "A customer walks into a 7-11 store and picks up four items.  \n",
    "\n",
    "> Customer: How much do I pay?  \n",
    "\n",
    "The clerk punches a few numbers on a calculator as the customer watches on.\n",
    "\n",
    "> Clerk: That will be exactly $7.11.  \n",
    "> Customer: Excuse me but didn't you just _multiply_ the four prices, instead of adding them?  \n",
    "> Clerk: Let me recalculate. Here it is... $7.11.\n",
    "\n",
    "<code style=\"background:yellow;color:black\">What were the prices of the items?</code>\n",
    "</div>\n",
    "\n",
    "\n",
    "* <font color='brown'>(**#**)</font> The puzzle is based on [Pawel Artymowicz - 7-11, A Mathematical Puzzle](https://planets.utsc.utoronto.ca/~pawel/711.html).\n",
    "* <font color='brown'>(**#**)</font> Advanced MarkDown option in Jupyter Notebook: [Hannan Satopay - The Ultimate Markdown Guide (for Jupyter Notebook)](https://scribe.rip/d5e5abf728fd)."
   ]
  },
  {
   "cell_type": "code",
   "execution_count": null,
   "metadata": {},
   "outputs": [],
   "source": [
    "# Parameters\n",
    "\n",
    "# Data\n",
    "numItems = 4\n",
    "sumVal   = 7.11 #<! [$]\n"
   ]
  },
  {
   "cell_type": "markdown",
   "metadata": {},
   "source": [
    "## Generating Strategy\n",
    "\n",
    "One way to set strategy to solve the problem is to think of few properties of the numbers:\n",
    "\n",
    " - Number of Constraints  \n",
    "   Given the data, how many constraints can be generated?\n",
    " - Divide and Conquer  \n",
    "   Can the problem be divided into smaller problems?\n",
    " - Lower / Upper Bound  \n",
    "   Since numbers are both multiplicative and additive, what boundaries can be set?\n",
    "\n",
    "<details>\n",
    "\n",
    "<summary> Strategy </summary>\n",
    "\n",
    "<ul>\n",
    "    <li>The number of constraints given by addition and multiplication is 2.</li>\n",
    "    <li>If the problem is `w * x * y * z` one can use the Associativity property of Addition / Multiplication to be broken into sub problems</li>\n",
    "    <li>Lower Bound - 1 --> Numbers below 1 does not make sense in the multiplicative case.</li>\n",
    "    <li>Upper Bound - 7.11 --> The sum of 3 items is bounded from below to 3. Hence the 4th is bounded from above by `4.11`.</li>\n",
    "\n",
    "</ul>\n",
    "</details>\n",
    "\n",
    "* <font color='green'>(**@**)</font> You may come up with different strategies to solve the problem."
   ]
  },
  {
   "cell_type": "markdown",
   "metadata": {},
   "source": [
    "## Puzzle Solution\n"
   ]
  },
  {
   "cell_type": "markdown",
   "metadata": {},
   "source": [
    "### Solution 001\n",
    "\n",
    "The problem can be stated using 4 variables: $w, x, y, z$:\n",
    "\n",
    "$$\n",
    "\\begin{align*}\n",
    "w + x + y + z &= 7.11 \\\\\n",
    "w \\cdot x \\cdot y \\cdot z &= 7.11\n",
    "\\end{align*}\n",
    "$$\n",
    "\n",
    "Yet, addition and multiplication supply only 2 constraints.  \n",
    "Hence, it can be rephrased using [Associativity](https://en.wikipedia.org/wiki/Associative_property) property of addition and multiplication:\n",
    "\n",
    "$$\n",
    "\\begin{align*}\n",
    "a + b &= 7.11 \\\\\n",
    "a \\cdot b &= 7.11\n",
    "\\end{align*}\n",
    "$$\n",
    "\n",
    "Where $a = w + x = w \\cdot x$ and $b = y + z = y \\cdot z$.\n",
    "\n",
    "The above equations are equivalent to the solution of the polynomial:\n",
    "\n",
    "$$ -{a}^{2} +7.11 a - 7.11 $$"
   ]
  },
  {
   "cell_type": "code",
   "execution_count": null,
   "metadata": {},
   "outputs": [],
   "source": [
    "a, b = np.roots([-1, sumVal, -sumVal])\n",
    "a, b"
   ]
  },
  {
   "cell_type": "markdown",
   "metadata": {},
   "source": [
    "One can farther find the solution where:\n",
    "\n",
    "$$\n",
    "\\begin{align*}\n",
    "w + x = 5.90617524 \\\\\n",
    "w \\cdot x = 5.90617524\n",
    "\\end{align*}\n",
    "$$\n",
    "\n",
    "and \n",
    "\n",
    "$$\n",
    "\\begin{align*}\n",
    "y + z = 1.20382476 \\\\\n",
    "y \\cdot z = 1.20382476\n",
    "\\end{align*}\n",
    "$$\n",
    "\n",
    "Applying the same concept.\n"
   ]
  },
  {
   "cell_type": "code",
   "execution_count": null,
   "metadata": {},
   "outputs": [],
   "source": [
    "w, x = np.roots([-1, a, -a])\n",
    "w, x"
   ]
  },
  {
   "cell_type": "code",
   "execution_count": null,
   "metadata": {},
   "outputs": [],
   "source": [
    "y, z = np.roots([-1, b, -b])\n",
    "y, z"
   ]
  },
  {
   "cell_type": "markdown",
   "metadata": {},
   "source": [
    "The solution is <mark>wrong</mark> as the numbers are not _Real_ numbers."
   ]
  },
  {
   "cell_type": "markdown",
   "metadata": {},
   "source": [
    "### Solution 002\n",
    "\n",
    "The issue with the solution above is one of the solutions, for `b`, means the derived solution can not meet the requirements.  \n",
    "If the sum of the values is `1.20382476` then the addition items must be, at least one, less than `1`. Which can not hold the constraints above.  \n",
    "Yet the price of a single item can have such value.  \n",
    "The split defined above does not hold any assumption about the number of items, hence it can be represent 1-3 items.\n",
    "\n",
    "The solution will take the smaller value as a single item and upper value as the sum of the other items.\n",
    "\n",
    "* <font color='brown'>(**#**)</font> In practice, one should have verified the larger one is larger than `2`."
   ]
  },
  {
   "cell_type": "code",
   "execution_count": null,
   "metadata": {},
   "outputs": [],
   "source": [
    "vRoots = np.roots([-1, sumVal, -sumVal])\n",
    "w = np.min(vRoots)\n",
    "a = np.max(vRoots)"
   ]
  },
  {
   "cell_type": "code",
   "execution_count": null,
   "metadata": {},
   "outputs": [],
   "source": [
    "vRoots = np.roots([-1, a, -a])\n",
    "x = np.min(vRoots)\n",
    "a = np.max(vRoots)"
   ]
  },
  {
   "cell_type": "code",
   "execution_count": null,
   "metadata": {},
   "outputs": [],
   "source": [
    "vRoots = np.roots([-1, a, -a])\n",
    "y = np.min(vRoots)\n",
    "z = np.max(vRoots)"
   ]
  },
  {
   "cell_type": "code",
   "execution_count": null,
   "metadata": {},
   "outputs": [],
   "source": [
    "# Solution\n",
    "\n",
    "print(f'w = {w:0.2f} | x = {x:0.2f} | y = {y:0.2f} | z = {z:0.2f}')\n",
    "print(f'The sum of the solution is    : {w + x + y + z:0.2f}')\n",
    "print(f'The product of the solution is: {w * x * y * z:0.2f}')"
   ]
  }
 ],
 "metadata": {
  "kernelspec": {
   "display_name": "Python 3",
   "language": "python",
   "name": "python3"
  },
  "language_info": {
   "codemirror_mode": {
    "name": "ipython",
    "version": 3
   },
   "file_extension": ".py",
   "mimetype": "text/x-python",
   "name": "python",
   "nbconvert_exporter": "python",
   "pygments_lexer": "ipython3",
   "version": "3.13.3"
  },
  "toc": {
   "base_numbering": 1,
   "nav_menu": {},
   "number_sections": false,
   "sideBar": true,
   "skip_h1_title": false,
   "title_cell": "Table of Contents",
   "title_sidebar": "Contents",
   "toc_cell": false,
   "toc_position": {},
   "toc_section_display": true,
   "toc_window_display": true
  },
  "varInspector": {
   "cols": {
    "lenName": 16,
    "lenType": 16,
    "lenVar": 40
   },
   "kernels_config": {
    "python": {
     "delete_cmd_postfix": "",
     "delete_cmd_prefix": "del ",
     "library": "var_list.py",
     "varRefreshCmd": "print(var_dic_list())"
    },
    "r": {
     "delete_cmd_postfix": ") ",
     "delete_cmd_prefix": "rm(",
     "library": "var_list.r",
     "varRefreshCmd": "cat(var_dic_list()) "
    }
   },
   "types_to_exclude": [
    "module",
    "function",
    "builtin_function_or_method",
    "instance",
    "_Feature"
   ],
   "window_display": false
  },
  "vscode": {
   "interpreter": {
    "hash": "39577bab1f263e62e0b74f5b8086bd735049bf4751f6562b2d4b2969dc308293"
   }
  }
 },
 "nbformat": 4,
 "nbformat_minor": 4
}
