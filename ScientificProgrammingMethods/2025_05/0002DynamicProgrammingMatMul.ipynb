{
 "cells": [
  {
   "attachments": {},
   "cell_type": "markdown",
   "metadata": {},
   "source": [
    "[![Fixel Algorithms](https://fixelalgorithms.co/images/CCExt.png)](https://fixelalgorithms.gitlab.io)\n",
    "\n",
    "# Scientific Programming\n",
    "\n",
    "## Dynamic Programming - Matrix Multiplication\n",
    "\n",
    "> Notebook by:\n",
    "> - Royi Avital RoyiAvital@fixelalgorithms.com\n",
    "\n",
    "## Revision History\n",
    "\n",
    "| Version | Date       | User        |Content / Changes                                                   |\n",
    "|---------|------------|-------------|--------------------------------------------------------------------|\n",
    "| 1.0.000 | 30/04/2025 | Royi Avital | First version                                                      |"
   ]
  },
  {
   "attachments": {},
   "cell_type": "markdown",
   "metadata": {},
   "source": [
    "[![Open In Colab](https://colab.research.google.com/assets/colab-badge.svg)](https://colab.research.google.com/github/FixelAlgorithmsTeam/FixelCourses/blob/master/AIProgram/2024_02/0092DeepLearningResNet.ipynb)"
   ]
  },
  {
   "cell_type": "code",
   "execution_count": null,
   "metadata": {
    "ExecuteTime": {
     "end_time": "2022-02-02T09:30:06.492269Z",
     "start_time": "2022-02-02T09:30:06.220934Z"
    }
   },
   "outputs": [],
   "source": [
    "# Import Packages\n",
    "\n",
    "# General Tools\n",
    "import numpy as np\n",
    "import scipy as sp\n",
    "import pandas as pd\n",
    "\n",
    "# Machine Learning\n",
    "\n",
    "# Deep Learning\n",
    "\n",
    "# Miscellaneous\n",
    "from enum import auto, Enum, unique\n",
    "import math\n",
    "import os\n",
    "from platform import python_version\n",
    "import random\n",
    "\n",
    "# Typing\n",
    "from typing import Callable, Dict, Generator, List, Optional, Self, Set, Tuple, Union\n",
    "\n",
    "# Visualization\n",
    "import matplotlib as mpl\n",
    "import matplotlib.pyplot as plt\n",
    "import seaborn as sns\n",
    "\n",
    "# Jupyter\n",
    "from IPython import get_ipython\n"
   ]
  },
  {
   "attachments": {},
   "cell_type": "markdown",
   "metadata": {},
   "source": [
    "## Notations\n",
    "\n",
    "* <font color='red'>(**?**)</font> Question to answer interactively.\n",
    "* <font color='blue'>(**!**)</font> Simple task to add code for the notebook.\n",
    "* <font color='green'>(**@**)</font> Optional / Extra self practice.\n",
    "* <font color='brown'>(**#**)</font> Note / Useful resource / Food for thought.\n",
    "\n",
    "Code Notations:\n",
    "\n",
    "```python\n",
    "someVar    = 2; #<! Notation for a variable\n",
    "vVector    = np.random.rand(4) #<! Notation for 1D array\n",
    "mMatrix    = np.random.rand(4, 3) #<! Notation for 2D array\n",
    "tTensor    = np.random.rand(4, 3, 2, 3) #<! Notation for nD array (Tensor)\n",
    "tuTuple    = (1, 2, 3) #<! Notation for a tuple\n",
    "lList      = [1, 2, 3] #<! Notation for a list\n",
    "dDict      = {1: 3, 2: 2, 3: 1} #<! Notation for a dictionary\n",
    "oObj       = MyClass() #<! Notation for an object\n",
    "dfData     = pd.DataFrame() #<! Notation for a data frame\n",
    "dsData     = pd.Series() #<! Notation for a series\n",
    "hObj       = plt.Axes() #<! Notation for an object / handler / function handler\n",
    "```\n",
    "\n",
    "### Code Exercise\n",
    "\n",
    " - Single line fill\n",
    "\n",
    "```python\n",
    "vallToFill = ???\n",
    "```\n",
    "\n",
    " - Multi Line to Fill (At least one)\n",
    "\n",
    "```python\n",
    "# You need to start writing\n",
    "?????\n",
    "```\n",
    "\n",
    " - Section to Fill\n",
    "\n",
    "```python\n",
    "#===========================Fill This===========================#\n",
    "# 1. Explanation about what to do.\n",
    "# !! Remarks to follow / take under consideration.\n",
    "mX = ???\n",
    "\n",
    "?????\n",
    "#===============================================================#\n",
    "```"
   ]
  },
  {
   "cell_type": "code",
   "execution_count": null,
   "metadata": {},
   "outputs": [],
   "source": [
    "# Configuration\n",
    "# %matplotlib inline\n",
    "\n",
    "seedNum = 512\n",
    "np.random.seed(seedNum)\n",
    "random.seed(seedNum)\n",
    "\n",
    "# Color Palettes\n",
    "lMatPltLibclr   = ['#1f77b4', '#ff7f0e', '#2ca02c', '#d62728', '#9467bd', '#8c564b', '#e377c2', '#7f7f7f', '#bcbd22', '#17becf'] #<! Matplotlib default color palette\n",
    "lFlexokiClr     = ['#D14D41', '#DA702C', '#D0A215', '#879A39', '#3AA99F', '#4385BE', '#8B7EC8', '#CE5D97'] #<! Flexoki (Obsidian) Main\n",
    "lFlexokiSatClr  = ['#AF3029', '#BC5215', '#BC5215', '#66800B', '#24837B', '#205EA6', '#5E409D', '#A02F6F'] #<! Flexoki (Obsidian) Saturated\n",
    "lFlexokiGrayClr = ['#100F0F', '#1C1B1B', '#282726', '#343331', '#403E3C', '#55524E', '#878580', '#CECDC3'] #<! Flexoki (Obsidian) Grayscale\n",
    "# sns.set_theme() #>! Apply SeaBorn theme\n",
    "\n",
    "runInGoogleColab = 'google.colab' in str(get_ipython())\n"
   ]
  },
  {
   "cell_type": "code",
   "execution_count": null,
   "metadata": {},
   "outputs": [],
   "source": [
    "# Constants\n",
    "\n"
   ]
  },
  {
   "cell_type": "code",
   "execution_count": null,
   "metadata": {},
   "outputs": [],
   "source": [
    "# Courses Packages\n",
    "\n"
   ]
  },
  {
   "cell_type": "code",
   "execution_count": null,
   "metadata": {},
   "outputs": [],
   "source": [
    "# General Auxiliary Functions\n"
   ]
  },
  {
   "cell_type": "markdown",
   "metadata": {},
   "source": [
    "## Matrix Chain Multiplication \n",
    "\n",
    "[Matrix Multiplication](https://en.wikipedia.org/wiki/Matrix_multiplication) is [_Associative_](https://en.wikipedia.org/wiki/Associative_property):\n",
    "\n",
    "$$\n",
    "\\textcolor{red}{(}\n",
    "  \\textcolor{orange}{(}\n",
    "    \\boldsymbol{A} \\boldsymbol{B}\n",
    "  \\textcolor{orange}{)} \\boldsymbol{C}\n",
    "\\textcolor{red}{)} \\boldsymbol{D}\n",
    "= \n",
    "\\textcolor{red}{(}\n",
    "  \\boldsymbol{A} \n",
    "  \\textcolor{orange}{(}\n",
    "    \\boldsymbol{B} \\boldsymbol{C}\n",
    "  \\textcolor{orange}{)}\n",
    "\\textcolor{red}{)} \\boldsymbol{D}\n",
    "= \n",
    "\\textcolor{red}{(}\n",
    "  \\boldsymbol{A} \\boldsymbol{B}\n",
    "\\textcolor{red}{)} \n",
    "\\textcolor{orange}{(}\n",
    "  \\boldsymbol{C} \\boldsymbol{D}\n",
    "\\textcolor{orange}{)}\n",
    "= \n",
    "\\boldsymbol{A} \n",
    "\\textcolor{red}{(}\n",
    "  \\textcolor{orange}{(}\n",
    "    \\boldsymbol{B} \\boldsymbol{C}\n",
    "  \\textcolor{orange}{)} \\boldsymbol{D}\n",
    "\\textcolor{red}{)}\n",
    "= \n",
    "\\boldsymbol{A} \n",
    "\\textcolor{red}{(}\n",
    "  \\boldsymbol{B} \n",
    "  \\textcolor{orange}{(}\n",
    "    \\boldsymbol{C} \\boldsymbol{D}\n",
    "  \\textcolor{orange}{)}\n",
    "\\textcolor{red}{)}\n",
    "$$\n",
    "\n",
    "While the output result will be the same, the computational efficiency might be different.  \n",
    "The _Matrix Chain Multiplication Problem_ is about the most efficient order of computation of the expression.\n",
    "\n",
    "<div class=\"alert alert-block alert-info\">\n",
    "\n",
    "### Matrix Multiplication Complexity\n",
    "\n",
    "Multiplication of a pair of matrices, $\\boldsymbol{A} \\in \\mathbb{R}^{m \\times n}, \\boldsymbol{B} \\in \\mathbb{R}^{n \\times o}$ requires:\n",
    "\n",
    " - Multiplications: $m \\cdot m \\cdot o$.\n",
    " - Additions: $m \\cdot \\left( m - 1 \\right) \\cdot o$.\n",
    "\n",
    "* <font color='brown'>(**#**)</font> Assuming a naive model of the calculation.\n",
    "\n",
    "</div>\n",
    "\n"
   ]
  },
  {
   "cell_type": "code",
   "execution_count": null,
   "metadata": {},
   "outputs": [],
   "source": [
    "# Parameters\n",
    "\n",
    "# Data\n",
    "numMatrices = 10\n"
   ]
  },
  {
   "cell_type": "markdown",
   "metadata": {},
   "source": [
    "### Example\n",
    "\n",
    "This section shows a simple example of 3 matrices:\n",
    "\n",
    "$$ \\boldsymbol{A} \\in \\mathbb{R}^{1000 \\times 3000}, \\boldsymbol{B} \\in \\mathbb{R}^{3000 \\times 10}, \\boldsymbol{C} \\in \\mathbb{R}^{10 \\times 900} $$\n",
    "\n",
    "The comparison will be between $\\left( \\boldsymbol{A} \\boldsymbol{B} \\right) \\boldsymbol{C}$ and $\\boldsymbol{A} \\left( \\boldsymbol{B} \\boldsymbol{C} \\right)$.\n",
    "\n",
    "* <font color='green'>(**@**)</font> You may calculate a function to yield the optimal order in the 3 terms case."
   ]
  },
  {
   "cell_type": "code",
   "execution_count": null,
   "metadata": {},
   "outputs": [],
   "source": [
    "def CalcMatMulOps( tuMatDimA: Tuple[int, int], tuMatDimB: Tuple[int, int] ) -> int:\n",
    "    \"\"\"\n",
    "    Calculate the number of multiplications and additions required to multiply a pair of matrices.\n",
    "    The function takes a pair of tuples, where each tuple represents the dimensions of a matrix.\n",
    "    Input:\n",
    "        - tuMatDimA: A tuple contains the dimensions of a matrix (Rows, Columns).\n",
    "        - tuMatDimB: A tuple contains the dimensions of a matrix (Rows, Columns).\n",
    "    Output: \n",
    "        totalMul: Total number of multiplications required to multiply the matrices.\n",
    "        totalAdd: Total number of additions required to multiply the matrices.\n",
    "        totalOps: Total number of operations.\n",
    "    Example:\n",
    "        ```python\n",
    "        # Define the dimensions of two matrices\n",
    "        matDimA = (10, 20) #<! 10 Rows, 20 Columns\n",
    "        matDimB = (20, 30) #<! 20 Rows, 30 Columns\n",
    "        # Calculate the number of operations\n",
    "        totalOps = CalcMatMulOps(matDimA, matDimB)\n",
    "        print(f'Total Operations: {totalOps}')\n",
    "        ```\n",
    "    \"\"\"\n",
    "\n",
    "    totalMul = tuMatDimA[0] * tuMatDimA[1] * tuMatDimB[1]\n",
    "    totalAdd = tuMatDimA[0] * (tuMatDimA[1] - 1) + tuMatDimB[1]\n",
    "    \n",
    "    return totalMul + totalAdd #<! Some use only the multiplications (Due to modern CPU's FMA)"
   ]
  },
  {
   "cell_type": "code",
   "execution_count": null,
   "metadata": {},
   "outputs": [],
   "source": [
    "# Generate the Data\n",
    "\n",
    "numRowsA = 1_000\n",
    "numColsA = 3_000\n",
    "numRowsB = 3_000\n",
    "numColsB = 10\n",
    "numRowsC = 10\n",
    "numColsC = 900\n",
    "\n",
    "mA = np.random.rand(numRowsA, numColsA)\n",
    "mB = np.random.rand(numRowsB, numColsB)\n",
    "mC = np.random.rand(numRowsC, numColsC)"
   ]
  },
  {
   "cell_type": "markdown",
   "metadata": {},
   "source": [
    "Calculate the order $\\left( \\boldsymbol{A} \\boldsymbol{B} \\right) \\boldsymbol{C}$"
   ]
  },
  {
   "cell_type": "code",
   "execution_count": null,
   "metadata": {},
   "outputs": [],
   "source": [
    "%%timeit\n",
    "\n",
    "(mA @ mB) @ mC"
   ]
  },
  {
   "cell_type": "code",
   "execution_count": null,
   "metadata": {},
   "outputs": [],
   "source": [
    "numOps = CalcMatMulOps((numRowsA, numColsA), (numRowsB, numColsB)) + CalcMatMulOps((numRowsA, numColsB), (numRowsC, numColsC))\n",
    "print(f'The number of operations required to multiply the matrices is: {numOps}')"
   ]
  },
  {
   "cell_type": "markdown",
   "metadata": {},
   "source": [
    "Calculate the order $\\boldsymbol{A} \\left( \\boldsymbol{B} \\boldsymbol{C} \\right)$"
   ]
  },
  {
   "cell_type": "code",
   "execution_count": null,
   "metadata": {},
   "outputs": [],
   "source": [
    "%%timeit\n",
    "\n",
    "mA @ (mB @ mC)"
   ]
  },
  {
   "cell_type": "code",
   "execution_count": null,
   "metadata": {},
   "outputs": [],
   "source": [
    "numOps = CalcMatMulOps((numRowsB, numColsB), (numRowsC, numColsC)) + CalcMatMulOps((numRowsA, numColsA), (numRowsB, numColsC))\n",
    "print(f'The number of operations required to multiply the matrices is: {numOps}')"
   ]
  },
  {
   "cell_type": "markdown",
   "metadata": {},
   "source": [
    "## Problem Statement\n",
    "\n",
    "Given a set of matrices $\\left\\{ \\boldsymbol{A}_{i} \\right\\}_{i = 1}^{N}$ where $\\boldsymbol{A}_{i} \\in \\mathbb{R}^{ {d}_{i} \\times {d}_{i + 1} }$ fin the **optimal** way to calculate:\n",
    "\n",
    "$$ \\boldsymbol{A}_{1} \\boldsymbol{A}_{2} \\boldsymbol{A}_{3} \\dots \\boldsymbol{A}_{N} $$"
   ]
  },
  {
   "cell_type": "markdown",
   "metadata": {},
   "source": [
    "### Brute Force Approach\n",
    "\n",
    "Calculate the complexity per each possible combination.  \n",
    "\n",
    "Yet the number of possible ways to calculate is given by the [Catalan Number](https://en.wikipedia.org/wiki/Catalan_number).  \n",
    "For the calculation of a chain of $N$ matrices the number of possible ways is given by:\n",
    "\n",
    "$$ {C}_{N - 1} = \\frac{1}{N} \\binom{2 \\left( N - 1 \\right) }{\\left( N - 1 \\right)} $$\n",
    "\n",
    "For instance for $N = 2, 3, 4, \\ldots$ the values are $1, 2, 5, 14, 42, 132, 429, 1430, 4862$ which are exponentially growing.  \n",
    "Hence this approach is not feasible."
   ]
  },
  {
   "cell_type": "markdown",
   "metadata": {},
   "source": [
    "### Recursive Approach\n",
    "\n",
    " * Define $M \\left( i, j \\right)$ to be the minimum number of operations of $\\boldsymbol{A}_{i + 1} \\boldsymbol{A}_{i + 2} \\dots \\boldsymbol{A}_{j}$.\n",
    " * Initialization $M \\left( i, i \\right) = 0$.\n",
    " * The objective $M \\left( 1, N \\right)$.\n",
    "\n",
    " Conceptually, to calculate $M \\left( i, j \\right)$ one should find the best split:\n",
    "\n",
    "$$\n",
    "\\underbrace{\n",
    "  \\textcolor{cyan}{(}A_i \\cdot \\ldots \\cdot A_k\\textcolor{cyan}{)}\n",
    "}_{\\textcolor{cyan}{P_1}}\n",
    "\\cdot\n",
    "\\underbrace{\n",
    "  \\textcolor{magenta}{(}A_{k+1} \\cdot \\ldots \\cdot A_j\\textcolor{magenta}{)}\n",
    "}_{\\textcolor{magenta}{P_2}}\n",
    "$$\n",
    "\n",
    "The minimum cost to compute ${P}_{1}$ is $M \\left( i, k \\right)$ and the minimum cost to compute ${P}_{2}$ is $M \\left( k + 1, j \\right)$.  \n",
    "The cost of the calculation is given by $\\operatorname{Cost} \\left( {d}_{i}, {d}_{k}, {d}_{j + 1} \\right)$.  \n",
    "\n",
    "The recursion is given by:\n",
    "\n",
    "$$ M \\left( i, j \\right) = \\min_{k} \\left( M \\left( i, k \\right) + M \\left( k + 1, j \\right) + \\operatorname{Cost} \\left( {d}_{i}, {d}_{k}, {d}_{j + 1} \\right) \\right) $$\n",
    "\n",
    "\n"
   ]
  },
  {
   "cell_type": "code",
   "execution_count": null,
   "metadata": {},
   "outputs": [],
   "source": [
    "def CalcMinCostChainMatMul( lMatDim: List[Tuple[int, int]], iStart: int, jEnd: int, lChainCost: List[List[int]] ) -> int:\n",
    "    \"\"\"\n",
    "    Calculate the minimum cost of a chain of matrix multiplication using recursion.\n",
    "    The function takes a list of tuples, where each tuple represents the dimensions of a matrix.\n",
    "    Input:\n",
    "        - lMatDim: A list of tuples contains the dimensions of matrices (Rows, Columns).\n",
    "    Output: \n",
    "        minCost: Minimum cost of matrix multiplication.\n",
    "        m: A 2D list that stores the split points for optimal parenthesization.\n",
    "    Example:\n",
    "        ```python\n",
    "        # Define the dimensions of matrices\n",
    "        lMatDim = [(10, 20), (20, 30), (30, 40)]\n",
    "        lChainCost  = [[-1] * len(lMatDim) for _ in range(len(lMatDim))] #<! Initialize the chain cost matrix\n",
    "        # Calculate the minimum cost and split points\n",
    "        minCost = CalcMinCostChainMatMul(lMatDim, 0, len(lMatDim) - 1, lChainCost)\n",
    "        # Print the results\n",
    "        print(f'Minimum Cost: {minCost}')\n",
    "        print(f'Chain Cost: {lChainCost}')\n",
    "        ```\n",
    "    \"\"\"\n",
    "\n",
    "    # Use recursion to calculate the minimum cost of matrix multiplication\n",
    "    if iStart == jEnd:\n",
    "        return 0\n",
    "    if lChainCost[iStart][jEnd] != -1:\n",
    "        return lChainCost[iStart][jEnd]\n",
    "    minCost = float('inf')\n",
    "    for k in range(iStart, jEnd):\n",
    "        splitCost = CalcMinCostChainMatMul(lMatDim, iStart, k, lChainCost) + CalcMinCostChainMatMul(lMatDim, k + 1, jEnd, lChainCost) + CalcMatMulOps((lMatDim[iStart][0], lMatDim[k][1]), (lMatDim[k + 1][0], lMatDim[jEnd][1]))\n",
    "        if splitCost < minCost:\n",
    "            minCost = splitCost\n",
    "            lChainCost[iStart][jEnd] = minCost\n",
    "    return minCost"
   ]
  },
  {
   "cell_type": "code",
   "execution_count": null,
   "metadata": {},
   "outputs": [],
   "source": [
    "# Check the Function 001\n",
    "lMatDim = [(10, 20), (20, 30), (30, 40)]\n",
    "lChainCost  = [[-1] * len(lMatDim) for _ in range(len(lMatDim))]\n",
    "minCost = CalcMinCostChainMatMul(lMatDim, 0, len(lMatDim) - 1, lChainCost)\n",
    "minCost #<! Should be 18550"
   ]
  },
  {
   "cell_type": "code",
   "execution_count": null,
   "metadata": {},
   "outputs": [],
   "source": [
    "# Check the Function 002\n",
    "lMatDim = [(10, 20), (20, 30), (30, 40), (40, 5)]\n",
    "lChainCost  = [[-1] * len(lMatDim) for _ in range(len(lMatDim))]\n",
    "minCost = CalcMinCostChainMatMul(lMatDim, 0, len(lMatDim) - 1, lChainCost)\n",
    "minCost #<! Should be 11955"
   ]
  },
  {
   "cell_type": "code",
   "execution_count": null,
   "metadata": {},
   "outputs": [],
   "source": [
    "# Check the Function 003\n",
    "lMatDim = [(3, 10), (10, 20), (20, 30), (30, 40), (40, 5), (5, 90), (90, 2), (2, 150)]\n",
    "lChainCost  = [[-1] * len(lMatDim) for _ in range(len(lMatDim))]\n",
    "minCost = CalcMinCostChainMatMul(lMatDim, 0, len(lMatDim) - 1, lChainCost)\n",
    "minCost "
   ]
  },
  {
   "cell_type": "markdown",
   "metadata": {},
   "source": [
    "* <font color='red'>(**?**)</font> What's the purpose of the `lChainCost` variable?  \n",
    "  Comment the branch `if lChainCost[iStart][jEnd] != -1:` and measure run time.\n",
    "* <font color='red'>(**?**)</font> Does the implementation fully solve the problem?\n",
    "\n",
    "<!-- \n",
    "1. It is a simple memoization mechanism.\n",
    "2. One can not infer the order of calculation easily.\n",
    " -->"
   ]
  },
  {
   "cell_type": "markdown",
   "metadata": {},
   "source": [
    "### Dynamic Programming\n",
    "\n",
    "The _Dynamic Programming_ solution should improve the recursion in 2 ways:\n",
    "\n",
    " * Use memoization to avoid repeating calculations.\n",
    " * Being able to restore the path of the optimal solution.\n",
    "\n",
    "In order to do so, the calculation is done on a graph defined by a matrix: $M \\left( i, j \\right) = \\min_{k} \\left( M \\left( i, k \\right) + M \\left( k + 1, j \\right) + \\operatorname{Cost} \\left( {d}_{i}, {d}_{k}, {d}_{j + 1} \\right) \\right)$.\n",
    "\n",
    "Conceptually, the matrix of cost $\\boldsymbol{M}$ is as following:\n",
    "\n",
    "![](https://i.imgur.com/06g4yBX.png)\n",
    "<!-- ![](https://i.postimg.cc/26bnfL0g/Diagrams-Matrix-Mul-003.png) -->\n",
    "\n",
    "Each chain depends on the calculation of _sub chains_:\n",
    "\n",
    "![](https://i.imgur.com/UvKopaG.png)\n",
    "<!-- ![](https://i.postimg.cc/52r0W7DN/Diagrams-Matrix-Mul-004.png) -->\n",
    "\n",
    "Which forces a certain path for the calculation (Order of calculation by the number of the arrow):\n",
    "\n",
    "![](https://i.imgur.com/r1DMP2z.png)\n",
    "<!-- ![](https://i.postimg.cc/Y0X7fjHq/Diagrams-Matrix-Mul-005.png) -->\n",
    "\n",
    "* <font color='brown'>(**#**)</font> The calculation calculates all chains of length 1 (All pairs). Then the optimal chains of 3, then of 4, etc...\n",
    "\n"
   ]
  },
  {
   "cell_type": "code",
   "execution_count": null,
   "metadata": {},
   "outputs": [],
   "source": [
    "def CalcMinCostChainMatMul( lMatDim: List[Tuple[int, int]] ) -> Tuple[np.ndarray, np.ndarray]:\n",
    "    \"\"\"\n",
    "    Calculate the minimum cost of matrix multiplication using dynamic programming.\n",
    "    The function takes a list of tuples, where each tuple represents the dimensions of a matrix.\n",
    "    Input:\n",
    "        - lMatDim: A list of tuples contains the dimensions of matrices (Rows, Columns).\n",
    "    Output: \n",
    "        minCost: Minimum cost of matrix multiplication.\n",
    "        m: A 2D list that stores the split points for optimal parenthesization.\n",
    "    Example:\n",
    "        ```python\n",
    "        # Define the dimensions of matrices\n",
    "        matDim = [(10, 20), (20, 30), (30, 40)]\n",
    "        # Calculate the minimum cost and split points\n",
    "        minCost, splitPoints = CalcMinCostChainMatMul(matDim)\n",
    "        print(f'Minimum Cost: {minCost}')\n",
    "        print(f'Split Points: {splitPoints}')\n",
    "        ```\n",
    "    \"\"\"\n",
    "    numMat = len(lMatDim)\n",
    "    mM     = np.full((numMat, numMat), -1, dtype = int) #<! Cost matrix\n",
    "    np.fill_diagonal(mM, 0) #<! Fill the diagonal with 0\n",
    "    mS     = np.zeros((numMat, numMat), dtype = int) #<! Split matrix\n",
    "\n",
    "    # Starts with chains of length 1 and then increase the length of the chain\n",
    "    for ll in range(1, numMat): #<! ll = length of the chain\n",
    "        for iStart in range(numMat - ll):\n",
    "            jEnd = iStart + ll\n",
    "            mM[iStart][jEnd] = 9223372036854775807 #<! Set to maximum value (64 Bit Signed Integer)\n",
    "            for k in range(iStart, jEnd):\n",
    "                splitCost = mM[iStart][k] + mM[k + 1][jEnd] + CalcMatMulOps((lMatDim[iStart][0], lMatDim[k][1]), (lMatDim[k + 1][0], lMatDim[jEnd][1]))\n",
    "                if splitCost < mM[iStart][jEnd]:\n",
    "                    mM[iStart][jEnd] = splitCost\n",
    "                    mS[iStart][jEnd] = k\n",
    "    return mM, mS #<! Return the minimum cost and the split points\n"
   ]
  },
  {
   "cell_type": "code",
   "execution_count": null,
   "metadata": {},
   "outputs": [],
   "source": [
    "# Check the Function 001\n",
    "lMatDim = [(10, 20), (20, 30), (30, 40)]\n",
    "mM, mS = CalcMinCostChainMatMul(lMatDim)\n",
    "print(mM) #<! Look at the top right value\n",
    "print(mS)"
   ]
  },
  {
   "cell_type": "code",
   "execution_count": null,
   "metadata": {},
   "outputs": [],
   "source": [
    "# Check the Function 002\n",
    "lMatDim = [(10, 20), (20, 30), (30, 5), (5, 40), (40, 90)]\n",
    "mM, mS = CalcMinCostChainMatMul(lMatDim)\n",
    "print(mM)\n",
    "print(mS)"
   ]
  },
  {
   "cell_type": "code",
   "execution_count": null,
   "metadata": {},
   "outputs": [],
   "source": [
    "# The Path (A * B * C * D * E -> (A * (B * C)) * (D * E))\n",
    "CalcMatMulOps((20, 30), (30, 5)) + CalcMatMulOps((10, 20), (20, 5)) + CalcMatMulOps((5, 40), (40, 90)) + CalcMatMulOps((10, 5), (5, 90)) "
   ]
  },
  {
   "cell_type": "markdown",
   "metadata": {},
   "source": [
    "* <font color='green'>(**@**)</font> Write a function to parse the `mS` matrix into order of calculation."
   ]
  }
 ],
 "metadata": {
  "kernelspec": {
   "display_name": "Python 3",
   "language": "python",
   "name": "python3"
  },
  "language_info": {
   "codemirror_mode": {
    "name": "ipython",
    "version": 3
   },
   "file_extension": ".py",
   "mimetype": "text/x-python",
   "name": "python",
   "nbconvert_exporter": "python",
   "pygments_lexer": "ipython3",
   "version": "3.13.3"
  },
  "toc": {
   "base_numbering": 1,
   "nav_menu": {},
   "number_sections": false,
   "sideBar": true,
   "skip_h1_title": false,
   "title_cell": "Table of Contents",
   "title_sidebar": "Contents",
   "toc_cell": false,
   "toc_position": {},
   "toc_section_display": true,
   "toc_window_display": true
  },
  "varInspector": {
   "cols": {
    "lenName": 16,
    "lenType": 16,
    "lenVar": 40
   },
   "kernels_config": {
    "python": {
     "delete_cmd_postfix": "",
     "delete_cmd_prefix": "del ",
     "library": "var_list.py",
     "varRefreshCmd": "print(var_dic_list())"
    },
    "r": {
     "delete_cmd_postfix": ") ",
     "delete_cmd_prefix": "rm(",
     "library": "var_list.r",
     "varRefreshCmd": "cat(var_dic_list()) "
    }
   },
   "types_to_exclude": [
    "module",
    "function",
    "builtin_function_or_method",
    "instance",
    "_Feature"
   ],
   "window_display": false
  },
  "vscode": {
   "interpreter": {
    "hash": "39577bab1f263e62e0b74f5b8086bd735049bf4751f6562b2d4b2969dc308293"
   }
  }
 },
 "nbformat": 4,
 "nbformat_minor": 4
}
