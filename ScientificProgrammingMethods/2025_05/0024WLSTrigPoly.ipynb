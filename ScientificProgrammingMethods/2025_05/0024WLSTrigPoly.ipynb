{
 "cells": [
  {
   "attachments": {},
   "cell_type": "markdown",
   "metadata": {},
   "source": [
    "[![Fixel Algorithms](https://fixelalgorithms.co/images/CCExt.png)](https://fixelalgorithms.gitlab.io)\n",
    "\n",
    "# Scientific Programming Methods\n",
    "\n",
    "## SVD & Linear Least Squares - Weighted Least Squares for Trigonometric Polynomials\n",
    "\n",
    "> Notebook by:\n",
    "> - Royi Avital RoyiAvital@fixelalgorithms.com\n",
    "\n",
    "## Revision History\n",
    "\n",
    "| Version | Date       | User        |Content / Changes                                                   |\n",
    "|---------|------------|-------------|--------------------------------------------------------------------|\n",
    "| 1.0.000 | 12/11/2024 | Royi Avital | First version                                                      |"
   ]
  },
  {
   "attachments": {},
   "cell_type": "markdown",
   "metadata": {},
   "source": [
    "[![Open In Colab](https://colab.research.google.com/assets/colab-badge.svg)](https://colab.research.google.com/github/FixelAlgorithmsTeam/FixelCourses/blob/master/AIProgram/2024_02/0012LinearFitL1.ipynb)"
   ]
  },
  {
   "cell_type": "code",
   "execution_count": null,
   "metadata": {
    "ExecuteTime": {
     "end_time": "2022-02-02T09:30:06.492269Z",
     "start_time": "2022-02-02T09:30:06.220934Z"
    }
   },
   "outputs": [],
   "source": [
    "# Import Packages\n",
    "\n",
    "# General Tools\n",
    "import numpy as np\n",
    "import scipy as sp\n",
    "import pandas as pd\n",
    "\n",
    "import numba\n",
    "\n",
    "# Machine Learning\n",
    "\n",
    "# Optimization\n",
    "\n",
    "# Image Processing / Computer Vision\n",
    "\n",
    "# Miscellaneous\n",
    "import math\n",
    "from platform import python_version\n",
    "import random\n",
    "import time\n",
    "\n",
    "# Typing\n",
    "from typing import Callable, List, Optional, Tuple, Union\n",
    "\n",
    "# Visualization\n",
    "import matplotlib.pyplot as plt\n",
    "\n",
    "# Jupyter\n",
    "from IPython import get_ipython"
   ]
  },
  {
   "attachments": {},
   "cell_type": "markdown",
   "metadata": {},
   "source": [
    "## Notations\n",
    "\n",
    "* <font color='red'>(**?**)</font> Question to answer interactively.\n",
    "* <font color='blue'>(**!**)</font> Simple task to add code for the notebook.\n",
    "* <font color='green'>(**@**)</font> Optional / Extra self practice.\n",
    "* <font color='brown'>(**#**)</font> Note / Useful resource / Food for thought.\n",
    "\n",
    "Code Notations:\n",
    "\n",
    "```python\n",
    "someVar    = 2; #<! Notation for a variable\n",
    "vVector    = np.random.rand(4) #<! Notation for 1D array\n",
    "mMatrix    = np.random.rand(4, 3) #<! Notation for 2D array\n",
    "tTensor    = np.random.rand(4, 3, 2, 3) #<! Notation for nD array (Tensor)\n",
    "tuTuple    = (1, 2, 3) #<! Notation for a tuple\n",
    "lList      = [1, 2, 3] #<! Notation for a list\n",
    "dDict      = {1: 3, 2: 2, 3: 1} #<! Notation for a dictionary\n",
    "oObj       = MyClass() #<! Notation for an object\n",
    "dfData     = pd.DataFrame() #<! Notation for a data frame\n",
    "dsData     = pd.Series() #<! Notation for a series\n",
    "hObj       = plt.Axes() #<! Notation for an object / handler / function handler\n",
    "```\n",
    "\n",
    "### Code Exercise\n",
    "\n",
    " - Single line fill\n",
    "\n",
    "```python\n",
    "valToFill = ???\n",
    "```\n",
    "\n",
    " - Multi Line to Fill (At least one)\n",
    "\n",
    "```python\n",
    "# You need to start writing\n",
    "?????\n",
    "```\n",
    "\n",
    " - Section to Fill\n",
    "\n",
    "```python\n",
    "#===========================Fill This===========================#\n",
    "# 1. Explanation about what to do.\n",
    "# !! Remarks to follow / take under consideration.\n",
    "mX = ???\n",
    "\n",
    "?????\n",
    "#===============================================================#\n",
    "```"
   ]
  },
  {
   "cell_type": "code",
   "execution_count": null,
   "metadata": {},
   "outputs": [],
   "source": [
    "# Configuration\n",
    "# %matplotlib inline\n",
    "\n",
    "# warnings.filterwarnings(\"ignore\")\n",
    "\n",
    "seedNum = 640 # 512\n",
    "np.random.seed(seedNum)\n",
    "random.seed(seedNum)\n",
    "\n",
    "# Matplotlib default color palette\n",
    "lMatPltLibclr = ['#1f77b4', '#ff7f0e', '#2ca02c', '#d62728', '#9467bd', '#8c564b', '#e377c2', '#7f7f7f', '#bcbd22', '#17becf']\n",
    "# sns.set_theme() #>! Apply SeaBorn theme\n",
    "# sns.set_palette(\"tab10\")\n",
    "\n",
    "runInGoogleColab = 'google.colab' in str(get_ipython())"
   ]
  },
  {
   "cell_type": "code",
   "execution_count": null,
   "metadata": {},
   "outputs": [],
   "source": [
    "# Constants\n",
    "\n",
    "FIG_SIZE_DEF    = (8, 8)\n",
    "ELM_SIZE_DEF    = 50\n",
    "CLASS_COLOR     = ('b', 'r')\n",
    "EDGE_COLOR      = 'k'\n",
    "MARKER_SIZE_DEF = 10\n",
    "LINE_WIDTH_DEF  = 2\n"
   ]
  },
  {
   "cell_type": "code",
   "execution_count": null,
   "metadata": {},
   "outputs": [],
   "source": [
    "# Course Packages\n"
   ]
  },
  {
   "cell_type": "code",
   "execution_count": null,
   "metadata": {},
   "outputs": [],
   "source": [
    "# Auxiliary Functions\n"
   ]
  },
  {
   "cell_type": "code",
   "execution_count": null,
   "metadata": {},
   "outputs": [],
   "source": [
    "# Parameters\n",
    "\n",
    "# Data\n",
    "numSamples  = 500\n",
    "dataFreq    = 0.05 #<! Keep below 0.5\n",
    "\n",
    "vX = 0.5 + np.random.rand(2) #<! Amplitude\n",
    "\n",
    "𝜋 = np.pi\n"
   ]
  },
  {
   "cell_type": "markdown",
   "metadata": {},
   "source": [
    "## Weighted Least Squares\n",
    "\n",
    "The classic [Weighted Least Squares](https://en.wikipedia.org/wiki/Weighted_least_squares) model is given by:\n",
    "\n",
    "$$ \\arg \\min_{\\boldsymbol{x}} \\frac{1}{2} \\sum_{i} {w}_{i} {\\left( \\boldsymbol{a}_{i}^{T} \\boldsymbol{x} - {b}_{i} \\right)}^{2} $$\n",
    "\n",
    "The ${w}_{i} \\geq 0$ coefficient is a prior knowledge about the quality of the $i$ -th sample.  \n",
    "The higher the value of ${w}_{i}$ the smaller ${\\left( \\boldsymbol{a}^{T} \\hat{\\boldsymbol{x}} - {b}_{i} \\right)}^{2}$ will be.  \n",
    "Namely, the value of ${w}_{i}$ sets the importance and quality of the sample ${b}_{i}$.\n",
    "\n",
    "The model can be generalized by a Symmetric Positive Semi Definite (SPSD) matrix $\\boldsymbol{W}$:\n",
    "\n",
    "$$ \\arg \\min_{\\boldsymbol{x}} {\\left( \\boldsymbol{A} \\boldsymbol{x} - \\boldsymbol{b} \\right)}^{T} \\boldsymbol{W} {\\left( \\boldsymbol{A} \\boldsymbol{x} - \\boldsymbol{b} \\right)} $$\n",
    "\n",
    "Where $\\boldsymbol{a}_{i}$ is the $i$ -th row of $\\boldsymbol{A}$.\n",
    "\n",
    "\n",
    "* <font color='brown'>(**#**)</font> In the context of Estimation, one can model the data by $\\boldsymbol{b} \\sim \\mathcal{N} \\left( \\boldsymbol{A} \\boldsymbol{x}, \\boldsymbol{C} \\right)$ where $\\boldsymbol{W} = \\boldsymbol{C}^{-1}$.\n",
    "\n"
   ]
  },
  {
   "cell_type": "markdown",
   "metadata": {},
   "source": [
    "## Generate Data\n"
   ]
  },
  {
   "cell_type": "markdown",
   "metadata": {},
   "source": [
    "The data model is a [Trigonometric Polynomial](https://en.wikipedia.org/wiki/Trigonometric_polynomial)."
   ]
  },
  {
   "cell_type": "code",
   "execution_count": null,
   "metadata": {},
   "outputs": [],
   "source": [
    "# Generate / Load the Data\n",
    "\n",
    "# Model\n",
    "vT = np.arange(numSamples)\n",
    "mA = np.column_stack((np.sin(2 * 𝜋 * dataFreq * vT), np.cos(2 * 𝜋 * dataFreq * vT)))\n",
    "vA = mA @ vX\n",
    "\n",
    "# Weights\n",
    "vW = 0.75 * np.random.rand(numSamples)\n",
    "vW = np.sort(vW)\n",
    "\n",
    "# Generate a random orthonormal matrix\n",
    "mT = np.random.rand(numSamples, numSamples)\n",
    "mQ, mR = sp.linalg.qr(mT)\n",
    "\n",
    "# Weights\n",
    "# mW      = (mQ.T * vW) @ mQ #<! mQ.T @ np.diag(vW) @ mQ\n",
    "mW      = mQ.T @ np.diag(vW) @ mQ\n",
    "mWSqrt  = sp.linalg.cholesky(mW)\n",
    "\n",
    "# Colored Noise\n",
    "mC = np.linalg.inv(mW)\n",
    "mCSqrt = sp.linalg.cholesky(mC, lower = True)\n",
    "\n",
    "vN = mCSqrt @ np.random.randn(numSamples)\n",
    "vB = vA + vN #<! Data Samples\n"
   ]
  },
  {
   "cell_type": "code",
   "execution_count": null,
   "metadata": {},
   "outputs": [],
   "source": [
    "# Display Data \n",
    "\n",
    "hF, hA = plt.subplots(figsize = (10, 6))\n",
    "hA.plot(range(numSamples), vA, linewidth = 2, label = 'Data Model')\n",
    "hA.scatter(range(numSamples), vB, s = 20, c = vW, label = 'Data Samples')\n",
    "hA.set(xlabel = 'Sample Index', ylabel = 'Sample Value', title = 'Model and Noisy Samples')\n",
    "\n",
    "hA.legend();"
   ]
  },
  {
   "cell_type": "markdown",
   "metadata": {},
   "source": [
    "* <font color='red'>(**?**)</font> Explain the noise model.  \n",
    "Remember that for a centered random vector, $\\boldsymbol{x}$ the covariance matrix is given by: $\\boldsymbol{C} = \\mathbb{E} \\left[ \\boldsymbol{x} \\boldsymbol{x}^{T} \\right]$."
   ]
  },
  {
   "cell_type": "markdown",
   "metadata": {},
   "source": [
    "## The Least Squares Solution\n",
    "\n",
    "This section calculates the solution for the Ordinary Least Squares model."
   ]
  },
  {
   "cell_type": "code",
   "execution_count": null,
   "metadata": {},
   "outputs": [],
   "source": [
    "# Least Squares Solution\n",
    "\n",
    "#===========================Fill This===========================#\n",
    "# 1. Calculate the least squares solution for the amplitude estimation.\n",
    "# 2. The given data: `mA`, 'vB`. Name the solution `vXLS`.\n",
    "# !! You may find `np.linalg.lstsq()` useful.\n",
    "\n",
    "vXLS, *_ = np.linalg.lstsq(mA, vB, rcond = None)\n",
    "#===============================================================#"
   ]
  },
  {
   "cell_type": "markdown",
   "metadata": {},
   "source": [
    "* <font color='red'>(**?**)</font> For what kind of $\\boldsymbol{C}$ the above would be optimal?"
   ]
  },
  {
   "cell_type": "markdown",
   "metadata": {},
   "source": [
    "## The Weighted Least Squares Solution\n",
    "\n",
    "Given the model:\n",
    "\n",
    "$$ \\arg \\min_{\\boldsymbol{x}} {\\left( \\boldsymbol{A} \\boldsymbol{x} - \\boldsymbol{b} \\right)}^{T} \\boldsymbol{W} {\\left( \\boldsymbol{A} \\boldsymbol{x} - \\boldsymbol{b} \\right)} $$\n",
    "\n",
    "The solution could be achieved either by \"Whitening\" the data and solving a regular LS or by solving the weighted model."
   ]
  },
  {
   "cell_type": "code",
   "execution_count": null,
   "metadata": {},
   "outputs": [],
   "source": [
    "# Weighted Least Squares Solution\n",
    "\n",
    "#===========================Fill This===========================#\n",
    "# 1. Calculate the weighted least squares solution for the amplitude estimation.\n",
    "# 2. The given data: `mA`, 'vB`, `mW`, `mWSqrt`. Name the solution `vXWLS`.\n",
    "# !! You may chose to solve either by whitening or the direct method.\n",
    "# !! You may find `np.linalg.lstsq()` useful.\n",
    "\n",
    "# Whitening\n",
    "vYY = mWSqrt @ vB\n",
    "mAA = mWSqrt @ mA\n",
    "vXWLS, *_ = np.linalg.lstsq(mAA, vYY, rcond = None)\n",
    "\n",
    "# Direct\n",
    "vXWLS, *_ = np.linalg.lstsq(mA.T @ mW @ mA, mA.T @ mW @ vB, rcond = None)\n",
    "#===============================================================#\n"
   ]
  },
  {
   "cell_type": "markdown",
   "metadata": {},
   "source": [
    "* <font color='brown'>(**#**)</font> NumPy / SciPy does not have a direct solver of the weighted model.\n",
    "* <font color='brown'>(**#**)</font> For the diagonal case one can solve the model using SciKit Learn's [`LinearRegression`](https://scikit-learn.org/stable/modules/generated/sklearn.linear_model.LinearRegression.html) class.\n",
    "* <font color='red'>(**?**)</font> Which approach is faster?"
   ]
  },
  {
   "cell_type": "markdown",
   "metadata": {},
   "source": [
    "## Display Results"
   ]
  },
  {
   "cell_type": "code",
   "execution_count": null,
   "metadata": {},
   "outputs": [],
   "source": [
    "# Display Data \n",
    "\n",
    "hF, hA = plt.subplots(figsize = (15, 6))\n",
    "hA.plot(range(numSamples), vA, linewidth = 2, label = 'Data Model')\n",
    "hA.scatter(range(numSamples), vB, s = 20, c = vW, label = 'Data Samples')\n",
    "hA.plot(range(numSamples), mA @ vXLS, linewidth = 2, label = 'LS Model')\n",
    "hA.plot(range(numSamples), mA @ vXWLS, linewidth = 2, label = 'Weighted LS Model')\n",
    "hA.set_ylim((-2, 2))\n",
    "hA.set(xlabel = 'Sample Index', ylabel = 'Sample Value', title = 'Model and Noisy Samples')\n",
    "\n",
    "hA.legend();"
   ]
  },
  {
   "cell_type": "code",
   "execution_count": null,
   "metadata": {},
   "outputs": [],
   "source": [
    "print(f'LS Estimator L2 Norm Error : {np.linalg.norm(vXLS - vX):0.4f}')\n",
    "print(f'WLS Estimator L2 Norm Error: {np.linalg.norm(vXWLS - vX):0.4f}')\n",
    "print('')\n",
    "print(f'LS Estimator RMSE          : {np.linalg.norm(mA @ vXLS - vB):0.4f}')\n",
    "print(f'WLS Estimator RMSE         : {np.linalg.norm(mA @ vXWLS - vB):0.4f}')"
   ]
  },
  {
   "cell_type": "markdown",
   "metadata": {},
   "source": [
    "* <font color='red'>(**?**)</font> How come the LS model gets a better RMSE for this model?\n",
    "* <font color='red'>(**?**)</font> Which model better optimize the Estimator value?"
   ]
  }
 ],
 "metadata": {
  "kernelspec": {
   "display_name": "Python 3",
   "language": "python",
   "name": "python3"
  },
  "language_info": {
   "codemirror_mode": {
    "name": "ipython",
    "version": 3
   },
   "file_extension": ".py",
   "mimetype": "text/x-python",
   "name": "python",
   "nbconvert_exporter": "python",
   "pygments_lexer": "ipython3",
   "version": "3.12.8"
  },
  "toc": {
   "base_numbering": 1,
   "nav_menu": {},
   "number_sections": false,
   "sideBar": true,
   "skip_h1_title": false,
   "title_cell": "Table of Contents",
   "title_sidebar": "Contents",
   "toc_cell": false,
   "toc_position": {},
   "toc_section_display": true,
   "toc_window_display": true
  },
  "varInspector": {
   "cols": {
    "lenName": 16,
    "lenType": 16,
    "lenVar": 40
   },
   "kernels_config": {
    "python": {
     "delete_cmd_postfix": "",
     "delete_cmd_prefix": "del ",
     "library": "var_list.py",
     "varRefreshCmd": "print(var_dic_list())"
    },
    "r": {
     "delete_cmd_postfix": ") ",
     "delete_cmd_prefix": "rm(",
     "library": "var_list.r",
     "varRefreshCmd": "cat(var_dic_list()) "
    }
   },
   "types_to_exclude": [
    "module",
    "function",
    "builtin_function_or_method",
    "instance",
    "_Feature"
   ],
   "window_display": false
  },
  "vscode": {
   "interpreter": {
    "hash": "39577bab1f263e62e0b74f5b8086bd735049bf4751f6562b2d4b2969dc308293"
   }
  }
 },
 "nbformat": 4,
 "nbformat_minor": 4
}
