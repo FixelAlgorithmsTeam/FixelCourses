{
 "cells": [
  {
   "attachments": {},
   "cell_type": "markdown",
   "metadata": {},
   "source": [
    "[![Fixel Algorithms](https://fixelalgorithms.co/images/CCExt.png)](https://fixelalgorithms.gitlab.io)\n",
    "\n",
    "# Scientific Programming Methods\n",
    "\n",
    "## Dynamic Programming - Content Aware Image Resize by Seam Carving\n",
    "\n",
    "> Notebook by:\n",
    "> - Royi Avital RoyiAvital@fixelalgorithms.com\n",
    "\n",
    "## Revision History\n",
    "\n",
    "| Version | Date       | User        |Content / Changes                                                   |\n",
    "|---------|------------|-------------|--------------------------------------------------------------------|\n",
    "| 1.0.000 | 03/05/2025 | Royi Avital | First version                                                      |"
   ]
  },
  {
   "attachments": {},
   "cell_type": "markdown",
   "metadata": {},
   "source": [
    "[![Open In Colab](https://colab.research.google.com/assets/colab-badge.svg)](https://colab.research.google.com/github/FixelAlgorithmsTeam/FixelCourses/blob/master/AIProgram/2024_02/0092DeepLearningResNet.ipynb)"
   ]
  },
  {
   "cell_type": "code",
   "execution_count": null,
   "metadata": {
    "ExecuteTime": {
     "end_time": "2022-02-02T09:30:06.492269Z",
     "start_time": "2022-02-02T09:30:06.220934Z"
    }
   },
   "outputs": [],
   "source": [
    "# Import Packages\n",
    "\n",
    "# General Tools\n",
    "import numpy as np\n",
    "import scipy as sp\n",
    "import pandas as pd\n",
    "\n",
    "# Machine Learning\n",
    "\n",
    "# Deep Learning\n",
    "\n",
    "# Image Processing & Computer Vision\n",
    "import skimage as ski\n",
    "\n",
    "# Miscellaneous\n",
    "from enum import auto, Enum, unique\n",
    "import math\n",
    "import os\n",
    "from platform import python_version\n",
    "import random\n",
    "\n",
    "# Typing\n",
    "from typing import Callable, Dict, Generator, List, Optional, Self, Set, Tuple, Union\n",
    "\n",
    "# Visualization\n",
    "import matplotlib as mpl\n",
    "import matplotlib.pyplot as plt\n",
    "import seaborn as sns\n",
    "\n",
    "# Jupyter\n",
    "from IPython import get_ipython\n"
   ]
  },
  {
   "attachments": {},
   "cell_type": "markdown",
   "metadata": {},
   "source": [
    "## Notations\n",
    "\n",
    "* <font color='red'>(**?**)</font> Question to answer interactively.\n",
    "* <font color='blue'>(**!**)</font> Simple task to add code for the notebook.\n",
    "* <font color='green'>(**@**)</font> Optional / Extra self practice.\n",
    "* <font color='brown'>(**#**)</font> Note / Useful resource / Food for thought.\n",
    "\n",
    "Code Notations:\n",
    "\n",
    "```python\n",
    "someVar    = 2; #<! Notation for a variable\n",
    "vVector    = np.random.rand(4) #<! Notation for 1D array\n",
    "mMatrix    = np.random.rand(4, 3) #<! Notation for 2D array\n",
    "tTensor    = np.random.rand(4, 3, 2, 3) #<! Notation for nD array (Tensor)\n",
    "tuTuple    = (1, 2, 3) #<! Notation for a tuple\n",
    "lList      = [1, 2, 3] #<! Notation for a list\n",
    "dDict      = {1: 3, 2: 2, 3: 1} #<! Notation for a dictionary\n",
    "oObj       = MyClass() #<! Notation for an object\n",
    "dfData     = pd.DataFrame() #<! Notation for a data frame\n",
    "dsData     = pd.Series() #<! Notation for a series\n",
    "hObj       = plt.Axes() #<! Notation for an object / handler / function handler\n",
    "```\n",
    "\n",
    "### Code Exercise\n",
    "\n",
    " - Single line fill\n",
    "\n",
    "```python\n",
    "vallToFill = ???\n",
    "```\n",
    "\n",
    " - Multi Line to Fill (At least one)\n",
    "\n",
    "```python\n",
    "# You need to start writing\n",
    "?????\n",
    "```\n",
    "\n",
    " - Section to Fill\n",
    "\n",
    "```python\n",
    "#===========================Fill This===========================#\n",
    "# 1. Explanation about what to do.\n",
    "# !! Remarks to follow / take under consideration.\n",
    "mX = ???\n",
    "\n",
    "?????\n",
    "#===============================================================#\n",
    "```"
   ]
  },
  {
   "cell_type": "code",
   "execution_count": null,
   "metadata": {},
   "outputs": [],
   "source": [
    "# Configuration\n",
    "# %matplotlib inline\n",
    "\n",
    "seedNum = 512\n",
    "np.random.seed(seedNum)\n",
    "random.seed(seedNum)\n",
    "\n",
    "# Color Palettes\n",
    "lMatPltLibclr   = ['#1f77b4', '#ff7f0e', '#2ca02c', '#d62728', '#9467bd', '#8c564b', '#e377c2', '#7f7f7f', '#bcbd22', '#17becf'] #<! Matplotlib default color palette\n",
    "lFlexokiClr     = ['#D14D41', '#DA702C', '#D0A215', '#879A39', '#3AA99F', '#4385BE', '#8B7EC8', '#CE5D97'] #<! Flexoki (Obsidian) Main\n",
    "lFlexokiSatClr  = ['#AF3029', '#BC5215', '#BC5215', '#66800B', '#24837B', '#205EA6', '#5E409D', '#A02F6F'] #<! Flexoki (Obsidian) Saturated\n",
    "lFlexokiGrayClr = ['#100F0F', '#1C1B1B', '#282726', '#343331', '#403E3C', '#55524E', '#878580', '#CECDC3'] #<! Flexoki (Obsidian) Grayscale\n",
    "# sns.set_theme() #>! Apply SeaBorn theme\n",
    "\n",
    "runInGoogleColab = 'google.colab' in str(get_ipython())\n"
   ]
  },
  {
   "cell_type": "code",
   "execution_count": null,
   "metadata": {},
   "outputs": [],
   "source": [
    "# Constants\n",
    "\n"
   ]
  },
  {
   "cell_type": "code",
   "execution_count": null,
   "metadata": {},
   "outputs": [],
   "source": [
    "# Courses Packages\n",
    "\n"
   ]
  },
  {
   "cell_type": "code",
   "execution_count": null,
   "metadata": {},
   "outputs": [],
   "source": [
    "# General Auxiliary Functions\n",
    "\n",
    "def CalcImageEnergy( mI: np.ndarray ) -> np.ndarray:\n",
    "    \"\"\"\n",
    "    Calculate the energy of an image using the Squared L2 Norm of the gradient.\n",
    "    The function sums over the channels channel.\n",
    "    Input:\n",
    "        - mI: The input image (Gray / RGB).\n",
    "    Output:\n",
    "        - mO: The energy of the image.\n",
    "    Example:\n",
    "        ```python\n",
    "        mI = np.random.rand(100, 100, 3)  # Example RGB image\n",
    "        mO = CalcImageEnergy(mI)\n",
    "        ```\n",
    "    \"\"\"\n",
    "\n",
    "    numRows, numCols = mI.shape[:2]\n",
    "    mX = np.zeros((numRows, numCols), dtype = mI.dtype)\n",
    "    mY = np.zeros((numRows, numCols), dtype = mI.dtype)\n",
    "\n",
    "    if np.ndim(mI) == 3:\n",
    "        for ii in range(mI.shape[2]):\n",
    "            tuGradImg = np.gradient(mI[:, :, ii])\n",
    "            mX += np.square(tuGradImg[0])\n",
    "            mY += np.square(tuGradImg[1])\n",
    "    else:\n",
    "        tuGradImg = np.gradient(mI)\n",
    "        mX += np.square(tuGradImg[0])\n",
    "        mY += np.square(tuGradImg[1])\n",
    "\n",
    "    mO = mX + mY\n",
    "    \n",
    "    return mO\n"
   ]
  },
  {
   "cell_type": "markdown",
   "metadata": {},
   "source": [
    "## Content Aware Image Resizing\n",
    "\n",
    "Given an Image:\n",
    "\n",
    "<!-- ![](https://i.imgur.com/H6dGYT2.png) --> <!-- Original Image -->\n",
    "<!-- ![](https://i.postimg.cc/0QbnWDFX/image.png) --> <!-- Original Image -->\n",
    "\n",
    "![](https://i.imgur.com/wpvoiJf.jpeg)\n",
    "Image by [Kiril Dobrev]() on [Pixabay](https://pixabay.com/photos/blue-beach-surf-travel-surfer-4145659).\n",
    "\n",
    "Of size `(360, 640)` one would like to resize it into `(360, 540)` without creating distortions.  \n",
    "Namely, though the _Aspect Ratio_ is changed, the image would look natural.\n",
    "\n",
    "\n",
    "* <font color='brown'>(**#**)</font> The concept was proposed in [Shai Avidan, Ariel Shamir - Seam Carving for Content Aware Image Resizing (2007)](https://dl.acm.org/doi/10.1145/1275808.1276390)."
   ]
  },
  {
   "cell_type": "code",
   "execution_count": null,
   "metadata": {},
   "outputs": [],
   "source": [
    "# Parameters\n",
    "\n",
    "# Data\n",
    "imgUrl = r'https://i.imgur.com/wpvoiJf.jpeg' #<! (640, 360)\n",
    "imgUrl = r'https://i.postimg.cc/PqtTwr95/blue-4145659-640.jpg' #<! (640, 360)\n",
    "\n",
    "# Model\n",
    "tuOutSize = (360, 360)\n",
    "λ         = 1.0\n"
   ]
  },
  {
   "cell_type": "code",
   "execution_count": null,
   "metadata": {},
   "outputs": [],
   "source": [
    "# Load / Generate Data\n",
    "\n",
    "mI = ski.io.imread(imgUrl)\n",
    "mI = ski.util.img_as_float64(mI)\n",
    "print(f'Image Dimensions: {mI.shape}')"
   ]
  },
  {
   "cell_type": "code",
   "execution_count": null,
   "metadata": {},
   "outputs": [],
   "source": [
    "# Plot Image\n",
    "\n",
    "hF, hA = plt.subplots(figsize = (10, 6))\n",
    "hA.imshow(mI)\n",
    "hA.set_title('Input Image');"
   ]
  },
  {
   "cell_type": "markdown",
   "metadata": {},
   "source": [
    "### Naive Resizing\n",
    "\n",
    "This section applies a naive resizing to the image."
   ]
  },
  {
   "cell_type": "code",
   "execution_count": null,
   "metadata": {},
   "outputs": [],
   "source": [
    "# Resize Image\n",
    "\n",
    "mO = ski.transform.resize(mI, tuOutSize)\n",
    "print(f'Output Dimensions: {mO.shape}')\n"
   ]
  },
  {
   "cell_type": "code",
   "execution_count": null,
   "metadata": {},
   "outputs": [],
   "source": [
    "# Plot Image\n",
    "\n",
    "hF, hA = plt.subplots(figsize = (10, 6))\n",
    "hA.imshow(mO)\n",
    "hA.set_title('Resized Image');"
   ]
  },
  {
   "cell_type": "markdown",
   "metadata": {},
   "source": [
    "### Seam Carving\n",
    "\n",
    "Instead of resampling the image over the grid, the Seam Carving approach removes unimportant data from the image.  \n",
    "Instead of _cropping_ the removed data is without removing significant content from the image.  \n",
    "The technique identifies _low energy_ areas of the image. The energy is measured by the Gradient Field of the image.    \n",
    "The assumption is the energy of the gradient is highly correlated with the information of the area.  \n",
    "Once low energy areas are found, the lowest energy _seams_ that weave through the image.\n",
    "\n",
    "**ADD IMAGE**"
   ]
  },
  {
   "cell_type": "markdown",
   "metadata": {},
   "source": [
    "### Energy Image\n",
    "\n",
    "The Seam Carving method defines the local energy of a pixel by:\n",
    "\n",
    "$$ e \\left( x, y \\right) = {\\left| {\\Delta}_{x} R \\left( x, y \\right) \\right|}^{2} + {\\left| {\\Delta}_{y} R \\left( x, y \\right) \\right|}^{2} + {\\left| {\\Delta}_{x} G \\left( x, y \\right) \\right|}^{2} + {\\left| {\\Delta}_{y} G \\left( x, y \\right) \\right|}^{2} + {\\left| {\\Delta}_{x} B \\left( x, y \\right) \\right|}^{2} + {\\left| {\\Delta}_{y} B \\left( x, y \\right) \\right|}^{2}  $$\n",
    "\n",
    "* <font color='brown'>(**#**)</font> There are many variations to the local energy definition."
   ]
  },
  {
   "cell_type": "code",
   "execution_count": null,
   "metadata": {},
   "outputs": [],
   "source": [
    "# Calculate the Energy of the Image\n",
    "\n",
    "mE = CalcImageEnergy(mO)\n",
    "print(f'Energy Dimensions: {mE.shape}')"
   ]
  },
  {
   "cell_type": "code",
   "execution_count": null,
   "metadata": {},
   "outputs": [],
   "source": [
    "# Plot Energy Image\n",
    "\n",
    "hF, hA = plt.subplots(figsize = (10, 6))\n",
    "hA.imshow(mE)\n",
    "hA.set_title('Energy Image');"
   ]
  },
  {
   "cell_type": "markdown",
   "metadata": {},
   "source": [
    "## Seam Carving for Content Aware Image Resizing\n",
    "\n",
    "The concept of Seam Carving is all about removing content with minimal loss of content.  \n",
    "Hence it focuses on removing seam along low low energy."
   ]
  },
  {
   "cell_type": "markdown",
   "metadata": {},
   "source": [
    "### Seam\n",
    "\n",
    "* A _seam_ is sequence of pixels, exactly one per row.\n",
    "* A _seam_ is contiguous. Namely it is [8 Neighborhood connected](https://en.wikipedia.org/wiki/Pixel_connectivity).\n",
    "* The energy of a _seam_ is the sum of Energy along its pixels.\n",
    "\n",
    "* <font color='brown'>(**#**)</font> The definition is in the context of a vertical _seam_. It can be defined in the context of an horizontal seam as well."
   ]
  },
  {
   "cell_type": "code",
   "execution_count": null,
   "metadata": {},
   "outputs": [],
   "source": [
    "# Generating Random Seam\n",
    "\n",
    "mS1 = np.c_[np.arange(mE.shape[0]), 50 + np.cumsum(np.random.randint(low = -1, high = 2, size = mE.shape[0]))] #<! Low value\n",
    "mS2 = np.c_[np.arange(mE.shape[0]), 275 + np.cumsum(np.random.randint(low = -1, high = 2, size = mE.shape[0]))] #<! High value\n",
    "\n",
    "seamEnergy1 = np.sum(mE[mS1[:, 0].astype(int), mS1[:, 1].astype(int)])\n",
    "seamEnergy2 = np.sum(mE[mS2[:, 0].astype(int), mS2[:, 1].astype(int)])\n",
    "\n",
    "hF, hA = plt.subplots(figsize = (10, 6))\n",
    "hA.imshow(mE)\n",
    "hA.plot(mS1[:, 1], mS1[:, 0], color = 'cyan', linewidth = 1.5, alpha = 0.45, label = f'Seam 1: {seamEnergy1:.2f}')\n",
    "hA.plot(mS2[:, 1], mS2[:, 0], color = 'magenta', linewidth = 1.5, alpha = 0.45, label = f'Seam 2: {seamEnergy2:.2f}')\n",
    "hA.legend()\n",
    "hA.set_title('Energy Image and Seam Carves');"
   ]
  },
  {
   "cell_type": "markdown",
   "metadata": {},
   "source": [
    "* <font color='red'>(**?**)</font> Which seam contains more content?\n",
    "* <font color='red'>(**?**)</font> Which seam can be removed (Set of pixels defined by the seam) with less affect on the image's content?"
   ]
  },
  {
   "cell_type": "markdown",
   "metadata": {},
   "source": [
    "### Problem Statement\n",
    "\n",
    "Given a 2D array, find a vertical seam which minimizes the sum of the array values it contains:\n",
    "\n",
    "$$ \\arg \\min_{\\mathcal{S}} \\sum_{k = 1}^{N} E \\left[ {i}_{k}, {j}_{k} \\right], \\; \\mathcal{S} = \\left\\{ \\left( k, j \\right)_{k} \\right\\}_{k = 1}^{N}, \\; \\text{subject to} \\; \\left| {j}_{k + 1} - {j}_{k} \\right| \\leq 1 $$\n",
    "\n",
    "Namely the set of indices $\\mathcal{S}$ minimizes the sum over the array when going dows the array limited to the steps: _bottom left_, _bottom_ and _bottom right_."
   ]
  },
  {
   "cell_type": "markdown",
   "metadata": {},
   "source": [
    "## Greedy Solution\n",
    "\n",
    "The greedy solution chooses the pixel in the next row with the lowest value.  \n",
    "Yet this greedy policy, while simple, does not lead to an optimal solution.\n",
    "\n",
    "![](https://i.imgur.com/VzcMav7.png)\n",
    "<!-- ![](https://i.postimg.cc/Y0Y0BCm1/Diagrams-Seam-Carving-001.png) -->"
   ]
  },
  {
   "cell_type": "markdown",
   "metadata": {},
   "source": [
    "### Dynamic Programming Solution\n",
    "\n",
    "The _Dynamic Programming_ recursive solution is given by:\n",
    "\n",
    "$$ {C}_{i, j} = {E}_{i, j} + \\min \\left\\{ {C}_{i - 1, j - 1}, {C}_{i - 1, j}, {C}_{i - 1, j + 1} \\right\\} $$\n",
    "\n",
    "Where \n",
    "\n",
    " * The term ${C}_{i, j}$ is the sum of the cost of the optimal seam going through pixel $\\left( i, j \\right)$.\n",
    " * Initialization of the first row: $ {C}_{1, j} = {E}_{i, j}$.\n",
    " * The objective $min_{k \\in \\left\\{ 1, 2, 3, \\ldots, N \\right\\}} {C}_{M, k}$ which the optimal Seam end point.\n",
    "\n",
    "In order to be able to the recover the seam path, it is easier to formulate the recurrence relation as:\n",
    "\n",
    "$$ {C}_{i, j} = {E}_{i, j} + \\min_{k \\in \\left\\{ -1, 0, 1 \\right\\} } {C}_{i - 1, j + k} $$\n",
    "\n",
    "![](https://i.imgur.com/jUhu4fX.png)\n",
    "<!-- ![](https://i.postimg.cc/W1M4nRzd/Diagrams-Seam-Carving-002.png) -->\n",
    "\n",
    "The matrix of the parameter `K` is the one to infer the seam path from.\n",
    "\n",
    "![](https://i.imgur.com/m97po38.png)\n",
    "<!-- ![](https://i.postimg.cc/h4XjP5nJ/image.png) -->\n"
   ]
  },
  {
   "cell_type": "code",
   "execution_count": null,
   "metadata": {},
   "outputs": [],
   "source": [
    "def CalcCostMatrix( mE: np.ndarray ) -> Tuple[np.ndarray, np.ndarray]:\n",
    "    \"\"\"\n",
    "    Calculate the cost matrix for a given Energy Matrix.  \n",
    "    The cost at position (i, j) is defined as C_ij = E_ij + min_{k = -1, 0, 1}C_i-1k. \n",
    "    Input:\n",
    "        - mE: The input Energy Matrix (numRows, numCols).\n",
    "    Output:\n",
    "        - mC: The cost matrix (numRows, numCols).\n",
    "        - mK: The backtrack matrix (numRows, numCols).\n",
    "    Example:\n",
    "        ```python\n",
    "        mX = np.array([[1, 2], [3, 4], [5, 6], [7, 8], [9, 10]])\n",
    "        mC, mK = CalcCostMatrix(mX)\n",
    "        print(mC)\n",
    "        ```\n",
    "    Remarks:\n",
    "        - The cost matrix is used to find the optimal seam in the image.\n",
    "    \"\"\"\n",
    "    \n",
    "    numRows = mE.shape[0]\n",
    "    numCols = mE.shape[1]\n",
    "    mC      = mE.copy()\n",
    "    mK      = np.zeros((numRows, numCols), dtype = int) #<! Backtrack matrix\n",
    "    \n",
    "    for ii in range(1, numRows):\n",
    "        for jj in range(numCols):\n",
    "            minVal = mC[ii - 1, jj]\n",
    "            minKK  = 0\n",
    "            for kk in range(-1, 2):\n",
    "                if (jj + kk) < 0 or (jj + kk) >= numCols:\n",
    "                    continue\n",
    "                if mC[ii - 1, jj + kk] < minVal:\n",
    "                    minVal = mC[ii - 1, jj + kk]\n",
    "                    minKK  = kk\n",
    "            mC[ii, jj] += minVal\n",
    "            mK[ii, jj] = minKK\n",
    "    \n",
    "    return mC, mK"
   ]
  },
  {
   "cell_type": "code",
   "execution_count": null,
   "metadata": {},
   "outputs": [],
   "source": [
    "# Extract the Path from `mP` Matrix\n",
    "\n",
    "def ExtractSeamPath( mK: np.ndarray, mC: np.ndarray ) -> np.ndarray:\n",
    "    \"\"\"\n",
    "    Extract the path from the path matrix `mP` using the minimum cost segmentation matrix `mS`.\n",
    "    The function starts from the last segment and traces back to the first segment using the path matrix.\n",
    "    Input:\n",
    "        - mK: Path matrix (2D numpy array) where mP[i, j] is the previous segment for segment i at sample j.\n",
    "        - mC: Minimum cost segmentation matrix (2D numpy array) where mS[i, j] is the minimum cost for segment i at sample j.\n",
    "    Output:\n",
    "        - lPath: List of indices representing the path from the first segment to the last segment.\n",
    "    Example:\n",
    "        ```python\n",
    "        mP = np.array([[0, 1, 2], [1, 0, 1], [2, 1, 0]])\n",
    "        mS = np.array([[0, 1, 2], [1, 0, 1], [2, 1, 0]])\n",
    "        lPath = ExtractPath(mP, mS)\n",
    "        print(lPath)\n",
    "        ```\n",
    "    Remarks:\n",
    "        - This function assumes that the last segment is always valid and starts from there.\n",
    "    \"\"\"\n",
    "\n",
    "    numRows = mK.shape[0]\n",
    "    numCols = mK.shape[1]\n",
    "\n",
    "    mS = np.zeros((numRows, 2), dtype = int) #<! (i, j)\n",
    "\n",
    "    jj = np.argmin(mC[-1, :]) #<! Find the starting index of the last segment\n",
    "    mS[-1, 0] = numRows - 1 #<! The last segment is the last row\n",
    "    mS[-1, 1] = jj #<! The last segment is the last column\n",
    "\n",
    "    for ii in range(numRows - 2, -1, -1):\n",
    "        mS[ii, 0] = ii\n",
    "        mS[ii, 1] = mS[ii + 1, 1] + mK[ii + 1, mS[ii + 1, 1]]\n",
    "    \n",
    "    return mS #<! Reverse the path to get it in correct order"
   ]
  },
  {
   "cell_type": "code",
   "execution_count": null,
   "metadata": {},
   "outputs": [],
   "source": [
    "# Calculate the Cost Matrix\n",
    "mC, mK = CalcCostMatrix(mE)"
   ]
  },
  {
   "cell_type": "code",
   "execution_count": null,
   "metadata": {},
   "outputs": [],
   "source": [
    "# Extract the Path from `mP` Matrix\n",
    "mS = ExtractSeamPath(mK, mC)"
   ]
  },
  {
   "cell_type": "code",
   "execution_count": null,
   "metadata": {},
   "outputs": [],
   "source": [
    "# Plot the Cost Matrix and the Path\n",
    "\n",
    "seamEnergy = np.sum(mE[mS[:, 0].astype(int), mS[:, 1].astype(int)]) #<! mC[mS[-1, 0], mS[-1, 1]] \n",
    "\n",
    "hF, hA = plt.subplots(figsize = (10, 6))\n",
    "hA.imshow(mE)\n",
    "hA.plot(mS[:, 1], mS[:, 0], color = 'magenta', linewidth = 1.5, alpha = 0.45, label = f'Optimal Seam: {seamEnergy:.2f}')\n",
    "hA.legend()\n",
    "hA.set_title('Energy Image and Optimal Seam Carve');\n"
   ]
  },
  {
   "cell_type": "markdown",
   "metadata": {},
   "source": [
    "* <font color='brown'>(**#**)</font> For the data above, can the segments be inferred from the Cost Matrix?"
   ]
  },
  {
   "cell_type": "markdown",
   "metadata": {},
   "source": [
    "* <font color='green'>(**@**)</font> Implement a faster solution by avoiding recalculation of the whole Energy Matrix $\\boldsymbol{E}$ after each seam removal."
   ]
  },
  {
   "cell_type": "code",
   "execution_count": null,
   "metadata": {},
   "outputs": [],
   "source": [
    "def PlotDirectionMatrix( mK: np.ndarray, hA: plt.Axes ) -> plt.Axes:\n",
    "    \"\"\"\n",
    "    Plots an array of directions {-1, 0, 1} as arrows on a 2D grid using matplotlib.\n",
    "    Input:\n",
    "        - mK: A 2D array of shape (m, n) with values in {-1, 0, 1}, where:\n",
    "            - -1 → Top Left.\n",
    "            -  0 → Top.\n",
    "            - +1 → Top Right.\n",
    "        - hA: The matplotlib axes to plot on.\n",
    "    Output:\n",
    "        - hA: The matplotlib axes with the plotted arrows.\n",
    "    \"\"\"\n",
    "\n",
    "    numRows, numCols = mK.shape\n",
    "\n",
    "    mY, mX = np.meshgrid(np.arange(numRows) + 0.5, np.arange(numCols) + 0.5, indexing = 'ij')\n",
    "\n",
    "    # Define the direction vectors\n",
    "    mU = mK                    #<! x component: -1, 0, or +1\n",
    "    mV = np.full_like(mK, 1)  #<! y component is always -1 (pointing downward)\n",
    "\n",
    "    mN = np.sqrt(np.square(mU) + np.square(mV)) / 0.5 #<! Normalize the vectors\n",
    "    mU = mU / mN\n",
    "    mV = mV / mN\n",
    "\n",
    "    # Plot\n",
    "    hA.quiver(mX, mY, mU, mV, angles = 'uv', scale_units = 'xy', scale=1, color = 'black')\n",
    "    for ii in range(numRows):\n",
    "        # Create vertical lines\n",
    "        hA.axvline(x = ii, color = 'gray', linestyle = '--', alpha = 0.5)\n",
    "    for jj in range(numCols):\n",
    "        # Create horizontal lines\n",
    "        hA.axhline(y = jj, color = 'gray', linestyle = '--', alpha = 0.5)\n",
    "    hA.set_xticks(np.arange(numCols) + 0.5, labels = np.arange(numCols))\n",
    "    hA.set_yticks(np.arange(numRows) + 0.5, labels = np.arange(numRows))\n",
    "    hA.minorticks_off()\n",
    "    hA.grid(False, 'major')\n",
    "    hA.grid(False, 'minor')\n",
    "    # hA.axis('equal')\n",
    "    hA.set_xlim(0, numCols)\n",
    "    hA.set_ylim(0, numRows)\n",
    "    hA.invert_yaxis()\n",
    "\n",
    "    return hA\n"
   ]
  },
  {
   "cell_type": "code",
   "execution_count": null,
   "metadata": {},
   "outputs": [],
   "source": [
    "mK[:5, :5]"
   ]
  },
  {
   "cell_type": "code",
   "execution_count": null,
   "metadata": {},
   "outputs": [],
   "source": [
    "hF, hA = plt.subplots(figsize = (4, 4))\n",
    "\n",
    "hA = PlotDirectionMatrix(mK[:5, :5], hA)"
   ]
  }
 ],
 "metadata": {
  "kernelspec": {
   "display_name": "Python 3",
   "language": "python",
   "name": "python3"
  },
  "language_info": {
   "codemirror_mode": {
    "name": "ipython",
    "version": 3
   },
   "file_extension": ".py",
   "mimetype": "text/x-python",
   "name": "python",
   "nbconvert_exporter": "python",
   "pygments_lexer": "ipython3",
   "version": "3.13.3"
  },
  "toc": {
   "base_numbering": 1,
   "nav_menu": {},
   "number_sections": false,
   "sideBar": true,
   "skip_h1_title": false,
   "title_cell": "Table of Contents",
   "title_sidebar": "Contents",
   "toc_cell": false,
   "toc_position": {},
   "toc_section_display": true,
   "toc_window_display": true
  },
  "varInspector": {
   "cols": {
    "lenName": 16,
    "lenType": 16,
    "lenVar": 40
   },
   "kernels_config": {
    "python": {
     "delete_cmd_postfix": "",
     "delete_cmd_prefix": "del ",
     "library": "var_list.py",
     "varRefreshCmd": "print(var_dic_list())"
    },
    "r": {
     "delete_cmd_postfix": ") ",
     "delete_cmd_prefix": "rm(",
     "library": "var_list.r",
     "varRefreshCmd": "cat(var_dic_list()) "
    }
   },
   "types_to_exclude": [
    "module",
    "function",
    "builtin_function_or_method",
    "instance",
    "_Feature"
   ],
   "window_display": false
  },
  "vscode": {
   "interpreter": {
    "hash": "39577bab1f263e62e0b74f5b8086bd735049bf4751f6562b2d4b2969dc308293"
   }
  }
 },
 "nbformat": 4,
 "nbformat_minor": 4
}
