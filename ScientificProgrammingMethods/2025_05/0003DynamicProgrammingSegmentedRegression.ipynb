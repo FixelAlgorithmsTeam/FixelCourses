{
 "cells": [
  {
   "attachments": {},
   "cell_type": "markdown",
   "metadata": {},
   "source": [
    "[![Fixel Algorithms](https://fixelalgorithms.co/images/CCExt.png)](https://fixelalgorithms.gitlab.io)\n",
    "\n",
    "# Scientific Programming\n",
    "\n",
    "## Dynamic Programming - Piece Wise Linear Regression\n",
    "\n",
    "> Notebook by:\n",
    "> - Royi Avital RoyiAvital@fixelalgorithms.com\n",
    "\n",
    "## Revision History\n",
    "\n",
    "| Version | Date       | User        |Content / Changes                                                   |\n",
    "|---------|------------|-------------|--------------------------------------------------------------------|\n",
    "| 1.0.000 | 01/05/2025 | Royi Avital | First version                                                      |"
   ]
  },
  {
   "attachments": {},
   "cell_type": "markdown",
   "metadata": {},
   "source": [
    "[![Open In Colab](https://colab.research.google.com/assets/colab-badge.svg)](https://colab.research.google.com/github/FixelAlgorithmsTeam/FixelCourses/blob/master/AIProgram/2024_02/0092DeepLearningResNet.ipynb)"
   ]
  },
  {
   "cell_type": "code",
   "execution_count": null,
   "metadata": {
    "ExecuteTime": {
     "end_time": "2022-02-02T09:30:06.492269Z",
     "start_time": "2022-02-02T09:30:06.220934Z"
    }
   },
   "outputs": [],
   "source": [
    "# Import Packages\n",
    "\n",
    "# General Tools\n",
    "import numpy as np\n",
    "import scipy as sp\n",
    "import pandas as pd\n",
    "\n",
    "# Machine Learning\n",
    "from sklearn.linear_model import LinearRegression\n",
    "\n",
    "# Deep Learning\n",
    "\n",
    "# Miscellaneous\n",
    "from enum import auto, Enum, unique\n",
    "import math\n",
    "import os\n",
    "from platform import python_version\n",
    "import random\n",
    "\n",
    "# Typing\n",
    "from typing import Callable, Dict, Generator, List, Optional, Self, Set, Tuple, Union\n",
    "\n",
    "# Visualization\n",
    "import matplotlib as mpl\n",
    "import matplotlib.pyplot as plt\n",
    "import seaborn as sns\n",
    "\n",
    "# Jupyter\n",
    "from IPython import get_ipython\n"
   ]
  },
  {
   "attachments": {},
   "cell_type": "markdown",
   "metadata": {},
   "source": [
    "## Notations\n",
    "\n",
    "* <font color='red'>(**?**)</font> Question to answer interactively.\n",
    "* <font color='blue'>(**!**)</font> Simple task to add code for the notebook.\n",
    "* <font color='green'>(**@**)</font> Optional / Extra self practice.\n",
    "* <font color='brown'>(**#**)</font> Note / Useful resource / Food for thought.\n",
    "\n",
    "Code Notations:\n",
    "\n",
    "```python\n",
    "someVar    = 2; #<! Notation for a variable\n",
    "vVector    = np.random.rand(4) #<! Notation for 1D array\n",
    "mMatrix    = np.random.rand(4, 3) #<! Notation for 2D array\n",
    "tTensor    = np.random.rand(4, 3, 2, 3) #<! Notation for nD array (Tensor)\n",
    "tuTuple    = (1, 2, 3) #<! Notation for a tuple\n",
    "lList      = [1, 2, 3] #<! Notation for a list\n",
    "dDict      = {1: 3, 2: 2, 3: 1} #<! Notation for a dictionary\n",
    "oObj       = MyClass() #<! Notation for an object\n",
    "dfData     = pd.DataFrame() #<! Notation for a data frame\n",
    "dsData     = pd.Series() #<! Notation for a series\n",
    "hObj       = plt.Axes() #<! Notation for an object / handler / function handler\n",
    "```\n",
    "\n",
    "### Code Exercise\n",
    "\n",
    " - Single line fill\n",
    "\n",
    "```python\n",
    "vallToFill = ???\n",
    "```\n",
    "\n",
    " - Multi Line to Fill (At least one)\n",
    "\n",
    "```python\n",
    "# You need to start writing\n",
    "?????\n",
    "```\n",
    "\n",
    " - Section to Fill\n",
    "\n",
    "```python\n",
    "#===========================Fill This===========================#\n",
    "# 1. Explanation about what to do.\n",
    "# !! Remarks to follow / take under consideration.\n",
    "mX = ???\n",
    "\n",
    "?????\n",
    "#===============================================================#\n",
    "```"
   ]
  },
  {
   "cell_type": "code",
   "execution_count": null,
   "metadata": {},
   "outputs": [],
   "source": [
    "# Configuration\n",
    "# %matplotlib inline\n",
    "\n",
    "seedNum = 512\n",
    "np.random.seed(seedNum)\n",
    "random.seed(seedNum)\n",
    "\n",
    "# Color Palettes\n",
    "lMatPltLibclr   = ['#1f77b4', '#ff7f0e', '#2ca02c', '#d62728', '#9467bd', '#8c564b', '#e377c2', '#7f7f7f', '#bcbd22', '#17becf'] #<! Matplotlib default color palette\n",
    "lFlexokiClr     = ['#D14D41', '#DA702C', '#D0A215', '#879A39', '#3AA99F', '#4385BE', '#8B7EC8', '#CE5D97'] #<! Flexoki (Obsidian) Main\n",
    "lFlexokiSatClr  = ['#AF3029', '#BC5215', '#BC5215', '#66800B', '#24837B', '#205EA6', '#5E409D', '#A02F6F'] #<! Flexoki (Obsidian) Saturated\n",
    "lFlexokiGrayClr = ['#100F0F', '#1C1B1B', '#282726', '#343331', '#403E3C', '#55524E', '#878580', '#CECDC3'] #<! Flexoki (Obsidian) Grayscale\n",
    "# sns.set_theme() #>! Apply SeaBorn theme\n",
    "\n",
    "runInGoogleColab = 'google.colab' in str(get_ipython())\n"
   ]
  },
  {
   "cell_type": "code",
   "execution_count": null,
   "metadata": {},
   "outputs": [],
   "source": [
    "# Constants\n",
    "\n"
   ]
  },
  {
   "cell_type": "code",
   "execution_count": null,
   "metadata": {},
   "outputs": [],
   "source": [
    "# Courses Packages\n",
    "\n"
   ]
  },
  {
   "cell_type": "code",
   "execution_count": null,
   "metadata": {},
   "outputs": [],
   "source": [
    "# General Auxiliary Functions\n",
    "\n",
    "def SetDiagonal(mA: np.ndarray, k: int, valA: np.number) -> np.ndarray:\n",
    "    \"\"\"\n",
    "    Set the k-th diagonal of matrix `mA` to the given `value`.\n",
    "    Input:\n",
    "        - mA: The matrix to modify.\n",
    "        - k: The diagonal index. Positive for upper diagonals, negative for lower diagonals.\n",
    "        - value: The value to set on the diagonal.\n",
    "    Output:\n",
    "        - mA: np.ndarray - The modified matrix with the specified diagonal set to `value`.\n",
    "    Example:\n",
    "        ```python\n",
    "        mA = np.array([[1, 2, 3, 4], [5, 6, 7, 8], [9, 10, 11, 12]])\n",
    "        mA = SetDiagonal(mA, 1, 0)  #<! Sets the first upper diagonal to 0\n",
    "        mA = SetDiagonal(mA, -1, 0) #<! Sets the first lower diagonal to 0\n",
    "        print(mA)\n",
    "        ```\n",
    "    Remarks:\n",
    "        - The function modifies the input matrix `mA` in place.\n",
    "        - The diagonal index `k` can be positive (for upper diagonals) or negative (for lower diagonals).\n",
    "        - For NumPy number class see https://numpy.org/doc/stable/reference/arrays.scalars.html.\n",
    "    \"\"\"\n",
    "    numRows, numCols = mA.shape\n",
    "    if k >= 0:\n",
    "        diagLen = min(numRows, numCols - k)\n",
    "        vRowIdx = np.arange(diagLen)\n",
    "        vColIdx = vRowIdx + k\n",
    "    else:\n",
    "        diagLen = min(numRows + k, numCols)\n",
    "        vRowIdx = np.arange(diagLen) - k\n",
    "        vColIdx = np.arange(diagLen)\n",
    "\n",
    "    mA[vRowIdx, vColIdx] = valA\n",
    "\n",
    "    return mA\n"
   ]
  },
  {
   "cell_type": "markdown",
   "metadata": {},
   "source": [
    "## Piece Wise Regression\n",
    "\n",
    "Assume the following data samples: $\\left\\{ {x}_{i}, {y}_{i} \\right\\}_{i = 1}^{N}$:\n",
    "\n",
    "![](https://i.imgur.com/3VaO2je.png)\n",
    "<!-- ![](https://i.postimg.cc/G3KV8wWL/TMP.png) -->\n",
    "\n",
    "Without prior knowledge on the _knots_, the breakpoints between segments, using _Linear Regression_ will fail.\n",
    "\n",
    "* <font color='brown'>(**#**)</font> There are models to solve the problem using a Convex Optimization."
   ]
  },
  {
   "cell_type": "code",
   "execution_count": null,
   "metadata": {},
   "outputs": [],
   "source": [
    "# Parameters\n",
    "\n",
    "fileUrl = r'https://raw.githubusercontent.com/FixelAlgorithmsTeam/FixelCourses/refs/heads/master/DataSets/PieceWiseLinearData.csv'\n",
    "\n",
    "# Data\n",
    "decFactor  = 1 #<! Decimation factor\n",
    "\n",
    "# Model\n",
    "segRadius = 0\n",
    "λ         = 1.0\n"
   ]
  },
  {
   "cell_type": "markdown",
   "metadata": {},
   "source": [
    "### Linear Regression\n",
    "\n",
    "This section shows the result of _Naive_ use of linear regression for the data."
   ]
  },
  {
   "cell_type": "code",
   "execution_count": null,
   "metadata": {},
   "outputs": [],
   "source": [
    "# Load Data\n",
    "\n",
    "dfData = pd.read_csv(fileUrl)\n"
   ]
  },
  {
   "cell_type": "code",
   "execution_count": null,
   "metadata": {},
   "outputs": [],
   "source": [
    "# Plot Linear Model\n",
    "\n",
    "with plt.style.context('dark_background'):\n",
    "    hF, hA = plt.subplots(figsize = (10, 4))\n",
    "    sns.set_theme(style = 'ticks', context = 'talk')\n",
    "    sns.regplot(data = dfData, x = 'x', y = 'y', ax = hA, order = 1, ci = None, label = 'Samples', scatter_kws = dict(color = lFlexokiClr[0]), line_kws = dict(color = lFlexokiClr[1], label = 'Linear Fit'))\n",
    "    hA.legend()\n",
    "    hA.set_title('Linear Model');"
   ]
  },
  {
   "cell_type": "markdown",
   "metadata": {},
   "source": [
    "### Dynamic Programming\n",
    "\n",
    "In order to solve the problem as a Dynamic Programming problem one must define a cost function.  \n",
    "A simple measure to the quality of the regression over a section could the be the ${R}^{2}$ Score ([Coefficient of Determination](https://en.wikipedia.org/wiki/Coefficient_of_determination)).\n",
    "\n",
    "The model should be the solution given an optimal solution to a sub problem."
   ]
  },
  {
   "cell_type": "markdown",
   "metadata": {},
   "source": [
    "## Problem Statement\n",
    "\n",
    "Given a set of points $\\left\\{ {x}_{i}, {y}_{i} \\right\\}_{i = 1}^{N}$ with up to $L$ segments find the optimal segmentation of teh data such that the sum of ${R}^{2}$ over all segments is minimized.\n",
    "\n",
    "* <font color='brown'>(**#**)</font> It is assumed that ${x}_{i + 1} > {x}_{i}$."
   ]
  },
  {
   "cell_type": "markdown",
   "metadata": {},
   "source": [
    "### Dynamic Programming Solution\n",
    "\n",
    " * Each sample can be in a Single Segment.  \n",
    "   This allow handling non continuous cases.\n",
    " * Define ${S}_{L} \\left( i, j \\right)$ to be the cost of having a segment $i \\to j$ with the previous segment ending at $i - 1$.\n",
    " * Initialization $S \\left( 1, j \\right) = \\boldsymbol{C}_{1, j}$.\n",
    " * The objective $min_{k \\in \\left\\{ 1, 2, 3, \\ldots, N - 1 \\right\\}} S \\left( k, N \\right)$.\n",
    "\n",
    "\n",
    "The cost $C \\left( i, j \\right)$ will be defined as the ${R}^{2}$ score over the segment $i \\to j$.\n",
    "\n",
    "The recursion is given by:\n",
    "\n",
    "$$\n",
    "S \\left( i, j \\right) = \\begin{cases} \\min_{k \\in \\left\\{ 1, 2, \\ldots, i - 2 \\right\\}} S \\left( k, i - 1 \\right) + \\boldsymbol{C}_{i, j} + \\lambda R \\left( i, j \\right) & \\text{ if } i < j \\\\ \\infty & \\text{ if } i \\geq j \\end{cases}\n",
    "$$\n",
    "\n",
    "Where $\\lambda R \\left( i, j \\right)$ is a regularization term which promotes longer segments by excessive cost for short segments.\n",
    "\n",
    "<!-- White Template -->\n",
    "<!-- ![](https://i.imgur.com/Qc1dWVp.png) -->\n",
    "<!-- ![](https://i.postimg.cc/j51qFmjV/Diagrams-Segmented-Regression-001.png) -->\n",
    "\n",
    "<!-- Black Template -->\n",
    "![](https://i.imgur.com/3WxtENM.png)\n",
    "<!-- ![](https://i.postimg.cc/hjsZ4Rdw/Diagrams-Segmented-Regression-001.png) -->\n",
    "\n",
    "The idea is to analyze the signal from the end:\n",
    "\n",
    " * Check all segments from sample $i \\in \\left\\{ 1, 2, 3, \\ldots, N - 1 \\right\\}$ to sample $j = N$.\n",
    " * For each segment from above, reapply the algorithm for segments $i \\in \\left\\{ 1, 2, 3, \\ldots, N - 3 \\right\\}$ to $j = N - 2$.\n",
    " * Repeat.\n",
    "\n",
    "This recursive structure can find teh optimal segmentation.\n"
   ]
  },
  {
   "cell_type": "code",
   "execution_count": null,
   "metadata": {},
   "outputs": [],
   "source": [
    "def CalcCostMatrix( mX: np.ndarray ) -> np.ndarray:\n",
    "    \"\"\"\n",
    "    Calculate the cost matrix for a given set of data points.  \n",
    "    The cost at position (i, j) is defined as R2 score of the linear regression model fitted to the data points i through j.\n",
    "    Input:\n",
    "        - mX: The input data points (numSamples, 2).\n",
    "    Output:\n",
    "        - mC: The cost matrix (numSamples, numSamples).\n",
    "    Example:\n",
    "        ```python\n",
    "        mX = np.array([[1, 2], [3, 4], [5, 6], [7, 8], [9, 10]])\n",
    "        mC = CalcCostMatrix(mX)\n",
    "        print(mC)\n",
    "        ```\n",
    "    Remarks:\n",
    "        - The cost matrix is symmetric.\n",
    "        - The diagonal of the cost matrix is set to 1, as the R2 score of a single point is always 1.\n",
    "        - Avoid `NaN` values so `maximum()` and `minimum()` functions can be used.\n",
    "    \"\"\"\n",
    "    \n",
    "    numSamples = mX.shape[0]\n",
    "    mC         = np.empty((numSamples, numSamples)) #<! Initialize the cost matrix with NaN values\n",
    "    np.fill_diagonal(mC, 1) #<! Set the diagonal to 1 (R2 score of a single point is always 1)\n",
    "\n",
    "    oLinReg = LinearRegression(fit_intercept = True) #<! Initialize the linear regression model\n",
    "    \n",
    "    # Calculate the cost matrix\n",
    "    for ii in range(numSamples):\n",
    "        for jj in range(ii + 1, numSamples):\n",
    "            vX = mX[ii:(jj + 1), 0]\n",
    "            vY = mX[ii:(jj + 1), 1]\n",
    "            # Using -R2 score to make it a cost function (Lower is better)\n",
    "            mC[ii, jj] = -oLinReg.fit(vX[:, None], vY).score(vX[:, None], vY) #<! Fit the model and calculate the R2 score\n",
    "            mC[jj, ii] = mC[ii, jj] #<! Symmetric matrix\n",
    "    \n",
    "    return mC"
   ]
  },
  {
   "cell_type": "code",
   "execution_count": null,
   "metadata": {},
   "outputs": [],
   "source": [
    "def CalcMinCostSegmentation( mC: np.ndarray, maxSegments: int, /, *, λ: float = 0.0 ) -> Tuple[np.ndarray, np.ndarray]:\n",
    "    \"\"\"\n",
    "    Calculate the minimum cost segmentation of a given cost matrix.\n",
    "    The function uses dynamic programming to find the optimal segmentation of the cost matrix.\n",
    "    Input:\n",
    "        - mC: Cost matrix (2D numpy array) where mC[i, j] is the cost of segmenting the data from i to j.\n",
    "        - maxSegments: Maximum number of segments to consider for segmentation.\n",
    "    Output:\n",
    "        - mS: Matrix of minimum costs for each segment.\n",
    "        - mP: Matrix of paths for each segment. The path matrix indicates the previous segment for each segment.\n",
    "    Example:\n",
    "        ```python\n",
    "        mC = np.array([[0, 1, 2], [1, 0, 1], [2, 1, 0]])\n",
    "        maxSegments = 2\n",
    "        mS, mP = CalcMinCostSegmentation(mC, maxSegments)\n",
    "        print(mS)\n",
    "        print(mP)\n",
    "        ```\n",
    "    Remarks:\n",
    "        - This function is a simplified version of the dynamic programming algorithm for minimum cost segmentation.\n",
    "    \"\"\"\n",
    "\n",
    "    numSamples  = mC.shape[0]\n",
    "    maxSegments = min(maxSegments, numSamples)\n",
    "    mS = np.full((maxSegments, numSamples), np.max(mC))   #<! Cost per segment\n",
    "    mP = np.zeros((maxSegments, numSamples), dtype = int) #<! Path matrix\n",
    "\n",
    "    mS[0, :] = mC[0, :] #<! Cost of the first segment is the cost of the first sample to all other samples\n",
    "    mP[0, :] = 0        #<! Path for the first segment is always 1 (no previous segment)\n",
    "\n",
    "    for ii in range(1, maxSegments):\n",
    "        for jj in range(ii + 1, numSamples):\n",
    "            minCost = 1e50\n",
    "            kkMin   = 0\n",
    "            for kk in range(ii):\n",
    "                currCost = mS[kk, ii - 1] + mC[ii, jj] - λ * abs(jj - ii) #<! No need for `abs()` since `jj` is always greater than `ii`\n",
    "                if currCost < minCost:\n",
    "                    minCost = currCost\n",
    "                    kkMin   = kk\n",
    "            mS[ii, jj] = minCost\n",
    "            mP[ii, jj] = kkMin\n",
    "    \n",
    "    return mS, mP"
   ]
  },
  {
   "cell_type": "code",
   "execution_count": null,
   "metadata": {},
   "outputs": [],
   "source": [
    "# Extract the Path from `mP` Matrix\n",
    "\n",
    "def ExtractPath( mP: np.ndarray, mS: np.ndarray ) -> List[int]:\n",
    "    \"\"\"\n",
    "    Extract the path from the path matrix `mP` using the minimum cost segmentation matrix `mS`.\n",
    "    The function starts from the last segment and traces back to the first segment using the path matrix.\n",
    "    Input:\n",
    "        - mP: Path matrix (2D numpy array) where mP[i, j] is the previous segment for segment i at sample j.\n",
    "        - mS: Minimum cost segmentation matrix (2D numpy array) where mS[i, j] is the minimum cost for segment i at sample j.\n",
    "    Output:\n",
    "        - lPath: List of indices representing the path from the first segment to the last segment.\n",
    "    Example:\n",
    "        ```python\n",
    "        mP = np.array([[0, 1, 2], [1, 0, 1], [2, 1, 0]])\n",
    "        mS = np.array([[0, 1, 2], [1, 0, 1], [2, 1, 0]])\n",
    "        lPath = ExtractPath(mP, mS)\n",
    "        print(lPath)\n",
    "        ```\n",
    "    Remarks:\n",
    "        - This function assumes that the last segment is always valid and starts from there.\n",
    "    \"\"\"\n",
    "\n",
    "    numSegments = mP.shape[0]\n",
    "    numSamples  = mP.shape[1]\n",
    "\n",
    "    lPath = []\n",
    "    startIdx = np.argmin(mS[:, -1]) #<! Find the starting index of the last segment\n",
    "    endIdx   = numSamples - 1 #<! The last sample is the end of the last segment\n",
    "\n",
    "    while startIdx >= 0 and endIdx >= 0:\n",
    "        lPath.append((startIdx, endIdx))\n",
    "        coldIdx = mP[startIdx, endIdx]\n",
    "        endIdx = startIdx - 1\n",
    "        startIdx = coldIdx\n",
    "    \n",
    "    return lPath[::-1] #<! Reverse the path to get it in correct order"
   ]
  },
  {
   "cell_type": "code",
   "execution_count": null,
   "metadata": {},
   "outputs": [],
   "source": [
    "# Calculate the Cost Matrix\n",
    "mX = dfData.to_numpy()\n",
    "# mX[:, 1] = mX[:, 1] + 0.1 * np.random.randn(mX.shape[0]) #<! Add noise to the y values\n",
    "mC = CalcCostMatrix(mX[::decFactor, :]) "
   ]
  },
  {
   "cell_type": "code",
   "execution_count": null,
   "metadata": {},
   "outputs": [],
   "source": [
    "# Adjust Cost Matrix\n",
    "\n",
    "for dd in range(-segRadius, segRadius + 1):\n",
    "    mC = SetDiagonal(mC, dd, 1e6) #<! Set the diagonals to 0\n",
    "\n",
    "mC"
   ]
  },
  {
   "cell_type": "code",
   "execution_count": null,
   "metadata": {},
   "outputs": [],
   "source": [
    "mS, mP = CalcMinCostSegmentation(mC, 200, λ = λ) #<! R2 is a score, so we want to minimize the cost, hence the negative sign\n",
    "mS"
   ]
  },
  {
   "cell_type": "code",
   "execution_count": null,
   "metadata": {},
   "outputs": [],
   "source": [
    "for dd in range(-segRadius, segRadius + 1):\n",
    "    mC = SetDiagonal(mC, dd, math.nan) #<! Set the diagonals to 0"
   ]
  },
  {
   "cell_type": "code",
   "execution_count": null,
   "metadata": {},
   "outputs": [],
   "source": [
    "hF, hA = plt.subplots(figsize = (5, 5))\n",
    "sns.heatmap(mC, annot = False, cbar = False, ax = hA)\n",
    "plt.show()"
   ]
  },
  {
   "cell_type": "markdown",
   "metadata": {},
   "source": [
    "* <font color='brown'>(**#**)</font> For the data above, can the segments be inferred from the Cost Matrix?"
   ]
  },
  {
   "cell_type": "code",
   "execution_count": null,
   "metadata": {},
   "outputs": [],
   "source": [
    "hF, hA = plt.subplots(figsize = (5, 5))\n",
    "sns.heatmap(mS, annot = False, cbar = True, ax = hA)\n",
    "plt.show()"
   ]
  },
  {
   "cell_type": "code",
   "execution_count": null,
   "metadata": {},
   "outputs": [],
   "source": [
    "# Extract the Path\n",
    "lPath = ExtractPath(mP, mS)\n",
    "lPath"
   ]
  },
  {
   "cell_type": "code",
   "execution_count": null,
   "metadata": {},
   "outputs": [],
   "source": [
    "# Assign Segment Label\n",
    "\n",
    "lS = []\n",
    "for ii in range(len(lPath)):\n",
    "    lS.extend([ii] * (lPath[ii][1] - lPath[ii][0] + 1))"
   ]
  },
  {
   "cell_type": "code",
   "execution_count": null,
   "metadata": {},
   "outputs": [],
   "source": [
    "# Plot the Segmentation\n",
    "\n",
    "with plt.style.context('dark_background'):\n",
    "    hF, hA = plt.subplots(figsize = (10, 4))\n",
    "    sns.set_theme(style = 'ticks', context = 'talk')\n",
    "    sns.scatterplot(data = dfData, x = 'x', y = 'y', ax = hA, c = lS)\n",
    "    hA.set_title('Segmented Data')\n",
    "\n",
    "    plt.show()"
   ]
  },
  {
   "cell_type": "markdown",
   "metadata": {},
   "source": [
    "* <font color='green'>(**@**)</font> Write the Dynamic Programming method for the case the minimal segment length is given by $L$."
   ]
  }
 ],
 "metadata": {
  "kernelspec": {
   "display_name": "Python 3",
   "language": "python",
   "name": "python3"
  },
  "language_info": {
   "codemirror_mode": {
    "name": "ipython",
    "version": 3
   },
   "file_extension": ".py",
   "mimetype": "text/x-python",
   "name": "python",
   "nbconvert_exporter": "python",
   "pygments_lexer": "ipython3",
   "version": "3.13.3"
  },
  "toc": {
   "base_numbering": 1,
   "nav_menu": {},
   "number_sections": false,
   "sideBar": true,
   "skip_h1_title": false,
   "title_cell": "Table of Contents",
   "title_sidebar": "Contents",
   "toc_cell": false,
   "toc_position": {},
   "toc_section_display": true,
   "toc_window_display": true
  },
  "varInspector": {
   "cols": {
    "lenName": 16,
    "lenType": 16,
    "lenVar": 40
   },
   "kernels_config": {
    "python": {
     "delete_cmd_postfix": "",
     "delete_cmd_prefix": "del ",
     "library": "var_list.py",
     "varRefreshCmd": "print(var_dic_list())"
    },
    "r": {
     "delete_cmd_postfix": ") ",
     "delete_cmd_prefix": "rm(",
     "library": "var_list.r",
     "varRefreshCmd": "cat(var_dic_list()) "
    }
   },
   "types_to_exclude": [
    "module",
    "function",
    "builtin_function_or_method",
    "instance",
    "_Feature"
   ],
   "window_display": false
  },
  "vscode": {
   "interpreter": {
    "hash": "39577bab1f263e62e0b74f5b8086bd735049bf4751f6562b2d4b2969dc308293"
   }
  }
 },
 "nbformat": 4,
 "nbformat_minor": 4
}
