{
 "cells": [
  {
   "attachments": {},
   "cell_type": "markdown",
   "metadata": {},
   "source": [
    "[![Fixel Algorithms](https://fixelalgorithms.co/images/CCExt.png)](https://fixelalgorithms.gitlab.io)\n",
    "\n",
    "# Scientific Programming\n",
    "\n",
    "## Dynamic Programming - Piece Wise Linear Regression\n",
    "\n",
    "> Notebook by:\n",
    "> - Royi Avital RoyiAvital@fixelalgorithms.com\n",
    "\n",
    "## Revision History\n",
    "\n",
    "| Version | Date       | User        |Content / Changes                                                   |\n",
    "|---------|------------|-------------|--------------------------------------------------------------------|\n",
    "| 1.0.000 | 01/05/2025 | Royi Avital | First version                                                      |"
   ]
  },
  {
   "attachments": {},
   "cell_type": "markdown",
   "metadata": {},
   "source": [
    "[![Open In Colab](https://colab.research.google.com/assets/colab-badge.svg)](https://colab.research.google.com/github/FixelAlgorithmsTeam/FixelCourses/blob/master/AIProgram/2024_02/0092DeepLearningResNet.ipynb)"
   ]
  },
  {
   "cell_type": "code",
   "execution_count": null,
   "metadata": {
    "ExecuteTime": {
     "end_time": "2022-02-02T09:30:06.492269Z",
     "start_time": "2022-02-02T09:30:06.220934Z"
    }
   },
   "outputs": [],
   "source": [
    "# Import Packages\n",
    "\n",
    "# General Tools\n",
    "import numpy as np\n",
    "import scipy as sp\n",
    "import pandas as pd\n",
    "\n",
    "# Machine Learning\n",
    "\n",
    "# Deep Learning\n",
    "\n",
    "# Miscellaneous\n",
    "from enum import auto, Enum, unique\n",
    "import math\n",
    "import os\n",
    "from platform import python_version\n",
    "import random\n",
    "\n",
    "# Typing\n",
    "from typing import Callable, Dict, Generator, List, Optional, Self, Set, Tuple, Union\n",
    "\n",
    "# Visualization\n",
    "import matplotlib as mpl\n",
    "import matplotlib.pyplot as plt\n",
    "import seaborn as sns\n",
    "\n",
    "# Jupyter\n",
    "from IPython import get_ipython\n"
   ]
  },
  {
   "attachments": {},
   "cell_type": "markdown",
   "metadata": {},
   "source": [
    "## Notations\n",
    "\n",
    "* <font color='red'>(**?**)</font> Question to answer interactively.\n",
    "* <font color='blue'>(**!**)</font> Simple task to add code for the notebook.\n",
    "* <font color='green'>(**@**)</font> Optional / Extra self practice.\n",
    "* <font color='brown'>(**#**)</font> Note / Useful resource / Food for thought.\n",
    "\n",
    "Code Notations:\n",
    "\n",
    "```python\n",
    "someVar    = 2; #<! Notation for a variable\n",
    "vVector    = np.random.rand(4) #<! Notation for 1D array\n",
    "mMatrix    = np.random.rand(4, 3) #<! Notation for 2D array\n",
    "tTensor    = np.random.rand(4, 3, 2, 3) #<! Notation for nD array (Tensor)\n",
    "tuTuple    = (1, 2, 3) #<! Notation for a tuple\n",
    "lList      = [1, 2, 3] #<! Notation for a list\n",
    "dDict      = {1: 3, 2: 2, 3: 1} #<! Notation for a dictionary\n",
    "oObj       = MyClass() #<! Notation for an object\n",
    "dfData     = pd.DataFrame() #<! Notation for a data frame\n",
    "dsData     = pd.Series() #<! Notation for a series\n",
    "hObj       = plt.Axes() #<! Notation for an object / handler / function handler\n",
    "```\n",
    "\n",
    "### Code Exercise\n",
    "\n",
    " - Single line fill\n",
    "\n",
    "```python\n",
    "vallToFill = ???\n",
    "```\n",
    "\n",
    " - Multi Line to Fill (At least one)\n",
    "\n",
    "```python\n",
    "# You need to start writing\n",
    "?????\n",
    "```\n",
    "\n",
    " - Section to Fill\n",
    "\n",
    "```python\n",
    "#===========================Fill This===========================#\n",
    "# 1. Explanation about what to do.\n",
    "# !! Remarks to follow / take under consideration.\n",
    "mX = ???\n",
    "\n",
    "?????\n",
    "#===============================================================#\n",
    "```"
   ]
  },
  {
   "cell_type": "code",
   "execution_count": null,
   "metadata": {},
   "outputs": [],
   "source": [
    "# Configuration\n",
    "# %matplotlib inline\n",
    "\n",
    "seedNum = 512\n",
    "np.random.seed(seedNum)\n",
    "random.seed(seedNum)\n",
    "\n",
    "# Color Palettes\n",
    "lMatPltLibclr   = ['#1f77b4', '#ff7f0e', '#2ca02c', '#d62728', '#9467bd', '#8c564b', '#e377c2', '#7f7f7f', '#bcbd22', '#17becf'] #<! Matplotlib default color palette\n",
    "lFlexokiClr     = ['#D14D41', '#DA702C', '#D0A215', '#879A39', '#3AA99F', '#4385BE', '#8B7EC8', '#CE5D97'] #<! Flexoki (Obsidian) Main\n",
    "lFlexokiSatClr  = ['#AF3029', '#BC5215', '#BC5215', '#66800B', '#24837B', '#205EA6', '#5E409D', '#A02F6F'] #<! Flexoki (Obsidian) Saturated\n",
    "lFlexokiGrayClr = ['#100F0F', '#1C1B1B', '#282726', '#343331', '#403E3C', '#55524E', '#878580', '#CECDC3'] #<! Flexoki (Obsidian) Grayscale\n",
    "# sns.set_theme() #>! Apply SeaBorn theme\n",
    "\n",
    "runInGoogleColab = 'google.colab' in str(get_ipython())\n"
   ]
  },
  {
   "cell_type": "code",
   "execution_count": null,
   "metadata": {},
   "outputs": [],
   "source": [
    "# Constants\n",
    "\n"
   ]
  },
  {
   "cell_type": "code",
   "execution_count": null,
   "metadata": {},
   "outputs": [],
   "source": [
    "# Courses Packages\n",
    "\n"
   ]
  },
  {
   "cell_type": "code",
   "execution_count": null,
   "metadata": {},
   "outputs": [],
   "source": [
    "# General Auxiliary Functions\n"
   ]
  },
  {
   "cell_type": "markdown",
   "metadata": {},
   "source": [
    "## Piece Wise Regression\n",
    "\n",
    "Assume the following data samples: $\\left\\{ {x}_{i}, {y}_{i} \\right\\}_{i = 1}^{N}$:\n",
    "\n",
    "![](https://i.imgur.com/3VaO2je.png)\n",
    "<!-- ![](https://i.postimg.cc/G3KV8wWL/TMP.png) -->\n",
    "\n",
    "Without prior knowledge on the _knots_, the breakpoints between segments, using _Linear Regression_ will fail.\n",
    "\n",
    "* <font color='brown'>(**#**)</font> There are models to solve the problem using a Convex Optimization."
   ]
  },
  {
   "cell_type": "code",
   "execution_count": null,
   "metadata": {},
   "outputs": [],
   "source": [
    "# Parameters\n",
    "\n",
    "fileUrl = r'https://raw.githubusercontent.com/FixelAlgorithmsTeam/FixelCourses/refs/heads/master/DataSets/PieceWiseLinearData.csv'\n",
    "\n",
    "# Data\n",
    "numMatrices = 10\n"
   ]
  },
  {
   "cell_type": "markdown",
   "metadata": {},
   "source": [
    "### Linear Regression\n",
    "\n",
    "This section shows the result of _Naive_ use of linear regression for the data."
   ]
  },
  {
   "cell_type": "code",
   "execution_count": null,
   "metadata": {},
   "outputs": [],
   "source": [
    "# Load Data\n",
    "\n",
    "dfData = pd.read_csv(fileUrl)\n"
   ]
  },
  {
   "cell_type": "code",
   "execution_count": null,
   "metadata": {},
   "outputs": [],
   "source": [
    "# Plot Linear Model\n",
    "\n",
    "with plt.style.context('dark_background'):\n",
    "    hF, hA = plt.subplots(figsize = (10, 4))\n",
    "    sns.set_theme(style = 'ticks', context = 'talk')\n",
    "    sns.regplot(data = dfData, x = 'x', y = 'y', ax = hA, order = 1, ci = None, label = 'Samples', scatter_kws = dict(color = lFlexokiClr[0]), line_kws = dict(color = lFlexokiClr[1], label = 'Linear Fit'))\n",
    "    hA.legend()\n",
    "    hA.set_title('Linear Model');"
   ]
  },
  {
   "cell_type": "markdown",
   "metadata": {},
   "source": [
    "### Dynamic Programming\n",
    "\n",
    "In order to solve the problem as a Dynamic Programming problem one must define a cost function.  \n",
    "A simple measure to the quality of the regression over a section could the be the ${R}^{2}$ Score ([Coefficient of Determination](https://en.wikipedia.org/wiki/Coefficient_of_determination)).\n",
    "\n",
    "The model should be the solution given an optimal solution to a sub problem."
   ]
  },
  {
   "cell_type": "markdown",
   "metadata": {},
   "source": [
    "## Problem Statement\n",
    "\n",
    "Given a set of points $\\left\\{ {x}_{i}, {y}_{i} \\right\\}_{i = 1}^{N}$ with up to $L$ segments find the optimal segmentation of teh data such that the sum of ${R}^{2}$ over all segments is minimized.\n",
    "\n",
    "* <font color='brown'>(**#**)</font> It is assumed that ${x}_{i + 1} > {x}_{i}$."
   ]
  },
  {
   "cell_type": "markdown",
   "metadata": {},
   "source": [
    "### Dynamic Programming Solution\n",
    "\n",
    " * Define ${S}_{L} \\left( i, j \\right)$ to be the optimal score with up to $L$ segments over the data samples $i$ to $j$.\n",
    " * Initialization $S \\left( i, i + 1 \\right) = 1$.\n",
    " * The objective $S \\left( 1, N \\right)$.\n",
    "\n",
    "\n",
    "The cost $C \\left( i, j \\right)$ will be defined as the ${R}^{2}$ score over $i \\to j$ samples.\n",
    "\n",
    "Conceptually, to calculate $S \\left( i, j \\right)$ one should find the best split:\n",
    "\n",
    "$$\n",
    "{S}_{L} \\left( i, j \\right) = \\min_{k \\in \\left\\{ 1, 2, 3}} \\left( {S}_{L - 1} \\left( i, k \\right) + {S}_{L - 1} \\left( k + 1, j \\right) \\right) + c \\left( L \\right)\n",
    "$$\n",
    "\n",
    "Where $c \\left( L \\right)$ is the cost of a split at the $L$ level.\n",
    "\n",
    "* <font color='brown'>(**#**)</font> The term $c \\left( L \\right)$ is a regularization term to promote solutions with minimal splits."
   ]
  },
  {
   "cell_type": "code",
   "execution_count": null,
   "metadata": {},
   "outputs": [],
   "source": [
    "def CalcMinCostChainMatMul( lMatDim: List[Tuple[int, int]], iStart: int, jEnd: int, lChainCost: List[List[int]] ) -> int:\n",
    "    \"\"\"\n",
    "    Calculate the minimum cost of a chain of matrix multiplication using recursion.\n",
    "    The function takes a list of tuples, where each tuple represents the dimensions of a matrix.\n",
    "    Input:\n",
    "        - lMatDim: A list of tuples contains the dimensions of matrices (Rows, Columns).\n",
    "    Output: \n",
    "        minCost: Minimum cost of matrix multiplication.\n",
    "        m: A 2D list that stores the split points for optimal parenthesization.\n",
    "    Example:\n",
    "        ```python\n",
    "        # Define the dimensions of matrices\n",
    "        lMatDim = [(10, 20), (20, 30), (30, 40)]\n",
    "        lChainCost  = [[-1] * len(lMatDim) for _ in range(len(lMatDim))] #<! Initialize the chain cost matrix\n",
    "        # Calculate the minimum cost and split points\n",
    "        minCost = CalcMinCostChainMatMul(lMatDim, 0, len(lMatDim) - 1, lChainCost)\n",
    "        # Print the results\n",
    "        print(f'Minimum Cost: {minCost}')\n",
    "        print(f'Chain Cost: {lChainCost}')\n",
    "        ```\n",
    "    \"\"\"\n",
    "\n",
    "    # Use recursion to calculate the minimum cost of matrix multiplication\n",
    "    if iStart == jEnd:\n",
    "        return 0\n",
    "    if lChainCost[iStart][jEnd] != -1:\n",
    "        return lChainCost[iStart][jEnd]\n",
    "    minCost = float('inf')\n",
    "    for k in range(iStart, jEnd):\n",
    "        splitCost = CalcMinCostChainMatMul(lMatDim, iStart, k, lChainCost) + CalcMinCostChainMatMul(lMatDim, k + 1, jEnd, lChainCost) + CalcMatMulOps((lMatDim[iStart][0], lMatDim[k][1]), (lMatDim[k + 1][0], lMatDim[jEnd][1]))\n",
    "        if splitCost < minCost:\n",
    "            minCost = splitCost\n",
    "            lChainCost[iStart][jEnd] = minCost\n",
    "    return minCost"
   ]
  },
  {
   "cell_type": "code",
   "execution_count": null,
   "metadata": {},
   "outputs": [],
   "source": [
    "# Check the Function 001\n",
    "lMatDim = [(10, 20), (20, 30), (30, 40)]\n",
    "lChainCost  = [[-1] * len(lMatDim) for _ in range(len(lMatDim))]\n",
    "minCost = CalcMinCostChainMatMul(lMatDim, 0, len(lMatDim) - 1, lChainCost)\n",
    "minCost #<! Should be 18550"
   ]
  },
  {
   "cell_type": "code",
   "execution_count": null,
   "metadata": {},
   "outputs": [],
   "source": [
    "# Check the Function 002\n",
    "lMatDim = [(10, 20), (20, 30), (30, 40), (40, 5)]\n",
    "lChainCost  = [[-1] * len(lMatDim) for _ in range(len(lMatDim))]\n",
    "minCost = CalcMinCostChainMatMul(lMatDim, 0, len(lMatDim) - 1, lChainCost)\n",
    "minCost #<! Should be 11955"
   ]
  },
  {
   "cell_type": "code",
   "execution_count": null,
   "metadata": {},
   "outputs": [],
   "source": [
    "# Check the Function 003\n",
    "lMatDim = [(3, 10), (10, 20), (20, 30), (30, 40), (40, 5), (5, 90), (90, 2), (2, 150)]\n",
    "lChainCost  = [[-1] * len(lMatDim) for _ in range(len(lMatDim))]\n",
    "minCost = CalcMinCostChainMatMul(lMatDim, 0, len(lMatDim) - 1, lChainCost)\n",
    "minCost "
   ]
  },
  {
   "cell_type": "markdown",
   "metadata": {},
   "source": [
    "* <font color='red'>(**?**)</font> What's the purpose of the `lChainCost` variable?  \n",
    "  Comment the branch `if lChainCost[iStart][jEnd] != -1:` and measure run time.\n",
    "* <font color='red'>(**?**)</font> Does the implementation fully solve the problem?\n",
    "\n",
    "<!-- \n",
    "1. It is a simple memoization mechanism.\n",
    "2. One can not infer the order of calculation easily.\n",
    " -->"
   ]
  },
  {
   "cell_type": "markdown",
   "metadata": {},
   "source": [
    "### Dynamic Programming\n",
    "\n",
    "The _Dynamic Programming_ solution should improve the recursion in 2 ways:\n",
    "\n",
    " * Use memoization to avoid repeating calculations.\n",
    " * Being able to restore the path of the optimal solution.\n",
    "\n",
    "In order to do so, the calculation is done on a graph defined by a matrix: $M \\left( i, j \\right) = \\min_{k} \\left( M \\left( i, k \\right) + M \\left( k + 1, j \\right) + \\operatorname{Cost} \\left( {d}_{i}, {d}_{k}, {d}_{j + 1} \\right) \\right)$.\n",
    "\n",
    "Conceptually, the matrix of cost $\\boldsymbol{M}$ is as following:\n",
    "\n",
    "![](https://i.imgur.com/06g4yBX.png)\n",
    "<!-- ![](https://i.postimg.cc/26bnfL0g/Diagrams-Matrix-Mul-003.png) -->\n",
    "\n",
    "Each chain depends on the calculation of _sub chains_:\n",
    "\n",
    "![](https://i.imgur.com/UvKopaG.png)\n",
    "<!-- ![](https://i.postimg.cc/52r0W7DN/Diagrams-Matrix-Mul-004.png) -->\n",
    "\n",
    "Which forces a certain path for the calculation (Order of calculation by the number of the arrow):\n",
    "\n",
    "![](https://i.imgur.com/r1DMP2z.png)\n",
    "<!-- ![](https://i.postimg.cc/Y0X7fjHq/Diagrams-Matrix-Mul-005.png) -->\n",
    "\n",
    "* <font color='brown'>(**#**)</font> The calculation calculates all chains of length 1 (All pairs). Then the optimal chains of 3, then of 4, etc...\n",
    "\n"
   ]
  },
  {
   "cell_type": "code",
   "execution_count": null,
   "metadata": {},
   "outputs": [],
   "source": [
    "def CalcMinCostChainMatMul( lMatDim: List[Tuple[int, int]] ) -> Tuple[np.ndarray, np.ndarray]:\n",
    "    \"\"\"\n",
    "    Calculate the minimum cost of matrix multiplication using dynamic programming.\n",
    "    The function takes a list of tuples, where each tuple represents the dimensions of a matrix.\n",
    "    Input:\n",
    "        - lMatDim: A list of tuples contains the dimensions of matrices (Rows, Columns).\n",
    "    Output: \n",
    "        minCost: Minimum cost of matrix multiplication.\n",
    "        m: A 2D list that stores the split points for optimal parenthesization.\n",
    "    Example:\n",
    "        ```python\n",
    "        # Define the dimensions of matrices\n",
    "        matDim = [(10, 20), (20, 30), (30, 40)]\n",
    "        # Calculate the minimum cost and split points\n",
    "        minCost, splitPoints = CalcMinCostChainMatMul(matDim)\n",
    "        print(f'Minimum Cost: {minCost}')\n",
    "        print(f'Split Points: {splitPoints}')\n",
    "        ```\n",
    "    \"\"\"\n",
    "    numMat = len(lMatDim)\n",
    "    mM     = np.full((numMat, numMat), -1, dtype = int) #<! Cost matrix\n",
    "    np.fill_diagonal(mM, 0) #<! Fill the diagonal with 0\n",
    "    mS     = np.zeros((numMat, numMat), dtype = int) #<! Split matrix\n",
    "\n",
    "    # Starts with chains of length 1 and then increase the length of the chain\n",
    "    for ll in range(1, numMat): #<! ll = length of the chain\n",
    "        for iStart in range(numMat - ll):\n",
    "            jEnd = iStart + ll\n",
    "            mM[iStart][jEnd] = 9223372036854775807 #<! Set to maximum value (64 Bit Signed Integer)\n",
    "            for k in range(iStart, jEnd):\n",
    "                splitCost = mM[iStart][k] + mM[k + 1][jEnd] + CalcMatMulOps((lMatDim[iStart][0], lMatDim[k][1]), (lMatDim[k + 1][0], lMatDim[jEnd][1]))\n",
    "                if splitCost < mM[iStart][jEnd]:\n",
    "                    mM[iStart][jEnd] = splitCost\n",
    "                    mS[iStart][jEnd] = k\n",
    "    return mM, mS #<! Return the minimum cost and the split points\n"
   ]
  },
  {
   "cell_type": "code",
   "execution_count": null,
   "metadata": {},
   "outputs": [],
   "source": [
    "# Check the Function 001\n",
    "lMatDim = [(10, 20), (20, 30), (30, 40)]\n",
    "mM, mS = CalcMinCostChainMatMul(lMatDim)\n",
    "print(mM) #<! Look at the top right value\n",
    "print(mS)"
   ]
  },
  {
   "cell_type": "code",
   "execution_count": null,
   "metadata": {},
   "outputs": [],
   "source": [
    "# Check the Function 002\n",
    "lMatDim = [(10, 20), (20, 30), (30, 5), (5, 40), (40, 90)]\n",
    "mM, mS = CalcMinCostChainMatMul(lMatDim)\n",
    "print(mM)\n",
    "print(mS)"
   ]
  },
  {
   "cell_type": "code",
   "execution_count": null,
   "metadata": {},
   "outputs": [],
   "source": [
    "# The Path (A * B * C * D * E -> (A * (B * C)) * (D * E))\n",
    "CalcMatMulOps((20, 30), (30, 5)) + CalcMatMulOps((10, 20), (20, 5)) + CalcMatMulOps((5, 40), (40, 90)) + CalcMatMulOps((10, 5), (5, 90)) "
   ]
  },
  {
   "cell_type": "markdown",
   "metadata": {},
   "source": [
    "* <font color='green'>(**@**)</font> Write a function to parse the `mS` matrix into order of calculation."
   ]
  }
 ],
 "metadata": {
  "kernelspec": {
   "display_name": "Python 3",
   "language": "python",
   "name": "python3"
  },
  "language_info": {
   "codemirror_mode": {
    "name": "ipython",
    "version": 3
   },
   "file_extension": ".py",
   "mimetype": "text/x-python",
   "name": "python",
   "nbconvert_exporter": "python",
   "pygments_lexer": "ipython3",
   "version": "3.13.3"
  },
  "toc": {
   "base_numbering": 1,
   "nav_menu": {},
   "number_sections": false,
   "sideBar": true,
   "skip_h1_title": false,
   "title_cell": "Table of Contents",
   "title_sidebar": "Contents",
   "toc_cell": false,
   "toc_position": {},
   "toc_section_display": true,
   "toc_window_display": true
  },
  "varInspector": {
   "cols": {
    "lenName": 16,
    "lenType": 16,
    "lenVar": 40
   },
   "kernels_config": {
    "python": {
     "delete_cmd_postfix": "",
     "delete_cmd_prefix": "del ",
     "library": "var_list.py",
     "varRefreshCmd": "print(var_dic_list())"
    },
    "r": {
     "delete_cmd_postfix": ") ",
     "delete_cmd_prefix": "rm(",
     "library": "var_list.r",
     "varRefreshCmd": "cat(var_dic_list()) "
    }
   },
   "types_to_exclude": [
    "module",
    "function",
    "builtin_function_or_method",
    "instance",
    "_Feature"
   ],
   "window_display": false
  },
  "vscode": {
   "interpreter": {
    "hash": "39577bab1f263e62e0b74f5b8086bd735049bf4751f6562b2d4b2969dc308293"
   }
  }
 },
 "nbformat": 4,
 "nbformat_minor": 4
}
