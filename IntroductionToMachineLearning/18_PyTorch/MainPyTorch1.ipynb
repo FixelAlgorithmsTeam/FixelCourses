{
 "cells": [
  {
   "cell_type": "markdown",
   "metadata": {
    "slideshow": {
     "slide_type": "slide"
    }
   },
   "source": [
    "![Fixel Algorithms](https://fixelalgorithms.co/images/CCExt.png)"
   ]
  },
  {
   "cell_type": "markdown",
   "metadata": {},
   "source": [
    "# <center> Introduction to Machine Learning </center>\n",
    "## <center> Lecture 18 - PyTorch</center>\n",
    "### <center> Code Example</center>"
   ]
  },
  {
   "cell_type": "markdown",
   "metadata": {},
   "source": [
    "[![Open In Colab](https://colab.research.google.com/assets/colab-badge.svg)](https://colab.research.google.com/github/FixelAlgorithmsTeam/FixelCourses/blob/master/IntroductionToMachineLearning/18_PyTorch/MainPyTorch1.ipynb)"
   ]
  },
  {
   "cell_type": "code",
   "execution_count": 2,
   "metadata": {
    "slideshow": {
     "slide_type": "slide"
    }
   },
   "outputs": [
    {
     "data": {
      "text/html": [
       "<style>.container { width:80% !important; }</style>"
      ],
      "text/plain": [
       "<IPython.core.display.HTML object>"
      ]
     },
     "metadata": {},
     "output_type": "display_data"
    }
   ],
   "source": [
    "#-- Wide screen:\n",
    "from IPython.core.display import display, HTML\n",
    "display(HTML(\"<style>.container { width:80% !important; }</style>\"))"
   ]
  },
  {
   "cell_type": "code",
   "execution_count": 1,
   "metadata": {
    "slideshow": {
     "slide_type": "fragment"
    }
   },
   "outputs": [],
   "source": [
    "#-- Auto reload:\n",
    "%load_ext autoreload\n",
    "%autoreload 2"
   ]
  },
  {
   "cell_type": "code",
   "execution_count": 1,
   "metadata": {
    "slideshow": {
     "slide_type": "fragment"
    }
   },
   "outputs": [],
   "source": [
    "#-- Imports:\n",
    "import numpy             as np\n",
    "import matplotlib.pyplot as plt\n",
    "import matplotlib\n",
    "\n",
    "matplotlib.rc('font', **{'size' : 16})\n",
    "\n",
    "#-- torch:\n",
    "import torch\n",
    "\n",
    "#-- Fix seed (for presentation sake)\n",
    "torch.manual_seed(0)\n",
    "np.random.seed(0)\n",
    "torch.backends.cudnn.deterministic = True\n",
    "torch.backends.cudnn.benchmark     = False"
   ]
  },
  {
   "cell_type": "markdown",
   "metadata": {
    "slideshow": {
     "slide_type": "slide"
    }
   },
   "source": [
    "## Auxiliary functions"
   ]
  },
  {
   "cell_type": "markdown",
   "metadata": {},
   "source": [
    "For Colab users:"
   ]
  },
  {
   "cell_type": "code",
   "execution_count": 2,
   "metadata": {},
   "outputs": [
    {
     "name": "stderr",
     "output_type": "stream",
     "text": [
      "'wget' is not recognized as an internal or external command,\n",
      "operable program or batch file.\n"
     ]
    }
   ],
   "source": [
    "!wget https://raw.githubusercontent.com/FixelAlgorithmsTeam/FixelCourses/master/IntroductionToMachineLearning/18_PyTorch/PyTorchExampleAux.py"
   ]
  },
  {
   "cell_type": "code",
   "execution_count": 3,
   "metadata": {
    "slideshow": {
     "slide_type": "fragment"
    }
   },
   "outputs": [],
   "source": [
    "#-- Record figures during training:\n",
    "from PyTorchExampleAux import Plot, Recorder"
   ]
  },
  {
   "cell_type": "code",
   "execution_count": 4,
   "metadata": {
    "slideshow": {
     "slide_type": "fragment"
    }
   },
   "outputs": [],
   "source": [
    "def Accuracy(mHatY, vY):\n",
    "    vHatY = mHatY.argmax(dim=1)\n",
    "    return (vHatY == vY).float().mean().item()"
   ]
  },
  {
   "cell_type": "markdown",
   "metadata": {
    "slideshow": {
     "slide_type": "slide"
    }
   },
   "source": [
    "### Training loop:"
   ]
  },
  {
   "cell_type": "code",
   "execution_count": 5,
   "metadata": {
    "slideshow": {
     "slide_type": "fragment"
    }
   },
   "outputs": [],
   "source": [
    "def TrainLoop(oModel, oTrainDL, LossFunc, oOptim):\n",
    "\n",
    "    epochLoss = 0\n",
    "    epochAcc  = 0\n",
    "    count     = 0                                #-- number of samples\n",
    "    device    = next(oModel.parameters()).device #-- CPU\\GPU\n",
    "    oModel.train(True)\n",
    "        \n",
    "    #-- Iterate over the mini-batches:\n",
    "    for ii, (mX, vY) in enumerate(oTrainDL):\n",
    "        #-- Move to device (CPU\\GPU):\n",
    "        mX = mX.to(device)\n",
    "        vY = vY.to(device)\n",
    "        \n",
    "        #-- Set gradients to zeros:\n",
    "        oOptim.zero_grad()\n",
    "        #-- Forward:\n",
    "        mHatY = oModel(mX)\n",
    "        loss  = LossFunc(mHatY, vY)\n",
    "        #-- Backward:\n",
    "        loss.backward()\n",
    "        #-- Parameters update:\n",
    "        oOptim.step()\n",
    "        \n",
    "        print(f'\\rIteration: {ii:3d}: loss = {loss:.6f}', end='')\n",
    "        #-- Accumulate loss:\n",
    "        Nb         = mX.shape[0]\n",
    "        epochLoss += Nb * loss.item()\n",
    "        epochAcc  += Nb * Accuracy(mHatY, vY)\n",
    "        count     += Nb\n",
    "\n",
    "    print('', end='\\r')\n",
    "    epochLoss /= count\n",
    "    epochAcc  /= count\n",
    "   \n",
    "    return epochLoss, epochAcc"
   ]
  },
  {
   "cell_type": "markdown",
   "metadata": {
    "slideshow": {
     "slide_type": "slide"
    }
   },
   "source": [
    "### Validation loop:"
   ]
  },
  {
   "cell_type": "code",
   "execution_count": 6,
   "metadata": {
    "slideshow": {
     "slide_type": "fragment"
    }
   },
   "outputs": [],
   "source": [
    "def ValidationLoop(oModel, oValDL, LossFunc):\n",
    "\n",
    "    if oValDL is None:\n",
    "        return 0, 0\n",
    "    \n",
    "    epochLoss = 0\n",
    "    epochAcc  = 0\n",
    "    count     = 0                                #-- number of samples\n",
    "    device    = next(oModel.parameters()).device #-- CPU\\GPU\n",
    "    oModel.train(False)\n",
    "    \n",
    "    #-- Iterate over the mini-batches:\n",
    "    with torch.no_grad():\n",
    "        for ii, (mX, vY) in enumerate(oValDL):\n",
    "            #-- Move to device (CPU\\GPU):\n",
    "            mX = mX.to(device)\n",
    "            vY = vY.to(device)\n",
    "            \n",
    "            #-- Forward:\n",
    "            mHatY = oModel(mX)\n",
    "            loss  = LossFunc(mHatY, vY)\n",
    "\n",
    "            Nb         = len(vY)\n",
    "            epochLoss += Nb * loss.item()\n",
    "            epochAcc  += Nb * Accuracy(mHatY, vY)\n",
    "            count     += Nb\n",
    "\n",
    "    epochLoss /= count\n",
    "    epochAcc  /= count\n",
    "\n",
    "    return epochLoss, epochAcc"
   ]
  },
  {
   "cell_type": "markdown",
   "metadata": {
    "slideshow": {
     "slide_type": "slide"
    }
   },
   "source": [
    "### Train model:"
   ]
  },
  {
   "cell_type": "code",
   "execution_count": 7,
   "metadata": {
    "slideshow": {
     "slide_type": "fragment"
    }
   },
   "outputs": [],
   "source": [
    "import time\n",
    "\n",
    "def TrainModel(oModel, oTrainDL, oValDL, LossFunc, numEpochs, oOptim):\n",
    "\n",
    "    oRecorder = Recorder([\n",
    "        Plot('Loss',          'train', 'epoch', 'b'),\n",
    "        Plot('Loss',          'val',   'epoch', 'r'),\n",
    "        Plot('Accuracy',      'train', 'epoch', 'b'),\n",
    "        Plot('Accuracy',      'val',   'epoch', 'r'),\n",
    "    ])\n",
    "\n",
    "    bestAcc = 0\n",
    "    for epoch in range(numEpochs):\n",
    "        \n",
    "        startTime           = time.time()\n",
    "        trainLoss, trainAcc = TrainLoop     (oModel, oTrainDL, LossFunc, oOptim) #-- train\n",
    "        valLoss,   valAcc   = ValidationLoop(oModel, oValDL,   LossFunc)         #-- validation\n",
    "        \n",
    "        #-- Display:\n",
    "        oRecorder.Append('Loss',          'train', trainLoss),\n",
    "        oRecorder.Append('Loss',          'val',   valLoss),\n",
    "        oRecorder.Append('Accuracy',      'train', trainAcc),\n",
    "        oRecorder.Append('Accuracy',      'val',   valAcc),\n",
    "        oRecorder.Draw()\n",
    "\n",
    "        endTime = time.time()\n",
    "        print('Epoch '              f'{epoch:3d}:',                  end='')\n",
    "        print(' | Train loss: '     f'{trainLoss:.5f}',              end='')\n",
    "        print(' | Val loss: '       f'{valLoss:.5f}',                end='')\n",
    "        print(' | Train Accuracy: ' f'{trainAcc:2.4f}',              end='')\n",
    "        print(' | Val Accuracy: '   f'{valAcc:2.4f}',                end='')\n",
    "        print(' | epoch time: '     f'{(endTime-startTime):3.3f} |', end='')\n",
    "        \n",
    "        #-- Save best model:\n",
    "        if valAcc > bestAcc:\n",
    "            bestAcc = valAcc\n",
    "            try:\n",
    "                torch.save(oModel.state_dict(), 'BestModelParameters.pt')\n",
    "            except:\n",
    "                pass\n",
    "            print(' <-- Checkpoint!')\n",
    "        else:\n",
    "            print()\n",
    "\n",
    "    oModel.load_state_dict(torch.load('BestModelParameters.pt'))\n",
    "    \n",
    "    vValLoss = oRecorder.Get('Loss',     'val')\n",
    "    vValAcc  = oRecorder.Get('Accuracy', 'val')\n",
    "    return vValLoss, vValAcc"
   ]
  },
  {
   "cell_type": "markdown",
   "metadata": {
    "slideshow": {
     "slide_type": "slide"
    }
   },
   "source": [
    "### Download CIFAR-10 dataset:"
   ]
  },
  {
   "cell_type": "code",
   "execution_count": 8,
   "metadata": {
    "slideshow": {
     "slide_type": "fragment"
    }
   },
   "outputs": [
    {
     "name": "stdout",
     "output_type": "stream",
     "text": [
      "Files already downloaded and verified\n",
      "Files already downloaded and verified\n"
     ]
    },
    {
     "data": {
      "text/plain": [
       "((50000, 32, 32, 3), torch.Size([3, 32, 32]))"
      ]
     },
     "execution_count": 8,
     "metadata": {},
     "output_type": "execute_result"
    }
   ],
   "source": [
    "import torchvision\n",
    "import torchvision.transforms as transforms\n",
    "\n",
    "oTrainSet = torchvision.datasets.CIFAR10(root='../../data', train=True,  download=True, transform=transforms.ToTensor())\n",
    "oTestSet  = torchvision.datasets.CIFAR10(root='../../data', train=False, download=True, transform=transforms.ToTensor())\n",
    "oTrainSet.data.shape, oTrainSet[0][0].shape"
   ]
  },
  {
   "cell_type": "markdown",
   "metadata": {
    "slideshow": {
     "slide_type": "fragment"
    }
   },
   "source": [
    "### Compute mean and variance:"
   ]
  },
  {
   "cell_type": "code",
   "execution_count": 9,
   "metadata": {
    "slideshow": {
     "slide_type": "fragment"
    }
   },
   "outputs": [
    {
     "name": "stdout",
     "output_type": "stream",
     "text": [
      "µ = [0.49139968 0.48215841 0.44653091]\n",
      "σ = [0.24703223 0.24348513 0.26158784]\n"
     ]
    }
   ],
   "source": [
    "vMean = oTrainSet.data.mean((0,1,2)) / 255\n",
    "vStd  = oTrainSet.data.std((0,1,2))  / 255\n",
    "print('µ =', vMean)\n",
    "print('σ =', vStd)"
   ]
  },
  {
   "cell_type": "markdown",
   "metadata": {
    "slideshow": {
     "slide_type": "slide"
    }
   },
   "source": [
    "### Set datasets with normalization:"
   ]
  },
  {
   "cell_type": "code",
   "execution_count": 10,
   "metadata": {
    "slideshow": {
     "slide_type": "fragment"
    }
   },
   "outputs": [
    {
     "data": {
      "text/plain": [
       "['airplane',\n",
       " 'automobile',\n",
       " 'bird',\n",
       " 'cat',\n",
       " 'deer',\n",
       " 'dog',\n",
       " 'frog',\n",
       " 'horse',\n",
       " 'ship',\n",
       " 'truck']"
      ]
     },
     "execution_count": 10,
     "metadata": {},
     "output_type": "execute_result"
    }
   ],
   "source": [
    "oTransform = transforms.Compose([\n",
    "    transforms.ToTensor(),\n",
    "    transforms.Normalize(vMean, vStd)\n",
    "])\n",
    "\n",
    "oTrainSet = torchvision.datasets.CIFAR10(root='../../data', train=True,  transform=oTransform)\n",
    "oTestSet  = torchvision.datasets.CIFAR10(root='../../data', train=False, transform=oTransform)\n",
    "\n",
    "lClasses  = oTrainSet.classes\n",
    "lClasses"
   ]
  },
  {
   "cell_type": "markdown",
   "metadata": {
    "slideshow": {
     "slide_type": "slide"
    }
   },
   "source": [
    "### Plot some examples:"
   ]
  },
  {
   "cell_type": "code",
   "execution_count": 11,
   "metadata": {
    "slideshow": {
     "slide_type": "fragment"
    }
   },
   "outputs": [
    {
     "data": {
      "image/png": "[encoded data removed]",
      "text/plain": [
       "<Figure size 720x432 with 6 Axes>"
      ]
     },
     "metadata": {
      "needs_background": "light"
     },
     "output_type": "display_data"
    }
   ],
   "source": [
    "N, H, W, C = oTrainSet.data.shape\n",
    "fig, _     = plt.subplots(2, 3, figsize=(10,6))\n",
    "for ax in fig.axes:\n",
    "    idx   = np.random.randint(0, N)\n",
    "    mX, y = oTrainSet[idx]\n",
    "    mX    = mX * vStd[:,None,None] + vMean[:,None,None] #-- unnormalizing\n",
    "    mX    = torch.clamp(mX, 0, 1)\n",
    "    ax.imshow(np.transpose(mX.numpy(), (1,2,0)), cmap='gray')\n",
    "    ax.set_title('True label: ' + str(lClasses[y]))\n",
    "    \n",
    "plt.tight_layout()\n",
    "plt.show()"
   ]
  },
  {
   "cell_type": "markdown",
   "metadata": {
    "slideshow": {
     "slide_type": "slide"
    }
   },
   "source": [
    "### Create data loaders:"
   ]
  },
  {
   "cell_type": "code",
   "execution_count": 12,
   "metadata": {
    "slideshow": {
     "slide_type": "fragment"
    }
   },
   "outputs": [],
   "source": [
    "batchSize = 128\n",
    "oTrainDL  = torch.utils.data.DataLoader(oTrainSet, shuffle=True,  batch_size=batchSize,   num_workers=2)\n",
    "oTestDL   = torch.utils.data.DataLoader(oTestSet,  shuffle=False, batch_size=2*batchSize, num_workers=2)"
   ]
  },
  {
   "cell_type": "markdown",
   "metadata": {
    "slideshow": {
     "slide_type": "slide"
    }
   },
   "source": [
    "### Define the model (2D CNN):"
   ]
  },
  {
   "cell_type": "code",
   "execution_count": 13,
   "metadata": {
    "slideshow": {
     "slide_type": "fragment"
    }
   },
   "outputs": [],
   "source": [
    "import torch.nn            as nn\n",
    "import torch.nn.functional as F\n",
    "import torch.optim         as optim\n",
    "import torchsummary\n",
    "\n",
    "#--------------------------------------------------------------------------------#\n",
    "#--------------------------------------------------------------------------------#\n",
    "#-- Tensor to vector (reshape):\n",
    "class Flatten(nn.Module):\n",
    "    def forward(self, mX):\n",
    "        N  = mX.shape[0]\n",
    "        mZ = mX.view(N, -1)\n",
    "        return mZ\n",
    "\n",
    "#--------------------------------------------------------------------------------#\n",
    "#--------------------------------------------------------------------------------#\n",
    "#-- Just for the summary (identity):\n",
    "class InputLayer(nn.Sequential):\n",
    "    pass    "
   ]
  },
  {
   "cell_type": "code",
   "execution_count": 14,
   "metadata": {
    "slideshow": {
     "slide_type": "slide"
    }
   },
   "outputs": [
    {
     "name": "stdout",
     "output_type": "stream",
     "text": [
      "==========================================================================================\n",
      "Layer (type:depth-idx)                   Output Shape              Param #\n",
      "==========================================================================================\n",
      "├─InputLayer: 1-1                        [-1, 3, 32, 32]           --\n",
      "├─Flatten: 1-2                           [-1, 3072]                --\n",
      "├─Linear: 1-3                            [-1, 500]                 1,536,500\n",
      "├─ReLU: 1-4                              [-1, 500]                 --\n",
      "├─Linear: 1-5                            [-1, 250]                 125,250\n",
      "├─ReLU: 1-6                              [-1, 250]                 --\n",
      "├─Linear: 1-7                            [-1, 10]                  2,510\n",
      "==========================================================================================\n",
      "Total params: 1,664,260\n",
      "Trainable params: 1,664,260\n",
      "Non-trainable params: 0\n",
      "Total mult-adds (M): 1.66\n",
      "==========================================================================================\n",
      "Input size (MB): 0.01\n",
      "Forward/backward pass size (MB): 0.01\n",
      "Params size (MB): 6.35\n",
      "Estimated Total Size (MB): 6.37\n",
      "==========================================================================================\n",
      "\n"
     ]
    }
   ],
   "source": [
    "#-- Model:\n",
    "def GetModel():\n",
    "    oModel = nn.Sequential(\n",
    "        InputLayer(), #-- does nothing\n",
    "        Flatten(),\n",
    "        nn.Linear(3*32*32, 500), nn.ReLU(),\n",
    "        nn.Linear(500,     250), nn.ReLU(),\n",
    "        nn.Linear(250,      10)\n",
    "    )\n",
    "    return oModel\n",
    "\n",
    "#--------------------------------------------------------------------------------#\n",
    "#--------------------------------------------------------------------------------#\n",
    "torchsummary.summary(GetModel(), (3, H, W), device='cpu'); print()"
   ]
  },
  {
   "cell_type": "markdown",
   "metadata": {
    "slideshow": {
     "slide_type": "slide"
    }
   },
   "source": [
    "### Check whether GPU is available:"
   ]
  },
  {
   "cell_type": "code",
   "execution_count": 15,
   "metadata": {
    "slideshow": {
     "slide_type": "fragment"
    }
   },
   "outputs": [
    {
     "data": {
      "text/plain": [
       "device(type='cuda', index=0)"
      ]
     },
     "execution_count": 15,
     "metadata": {},
     "output_type": "execute_result"
    }
   ],
   "source": [
    "device = torch.device(\"cuda:0\" if torch.cuda.is_available() else \"cpu\") \n",
    "device"
   ]
  },
  {
   "cell_type": "markdown",
   "metadata": {},
   "source": [
    "### Loss function:"
   ]
  },
  {
   "cell_type": "code",
   "execution_count": 16,
   "metadata": {
    "slideshow": {
     "slide_type": "fragment"
    }
   },
   "outputs": [],
   "source": [
    "LossFunc = nn.CrossEntropyLoss()"
   ]
  },
  {
   "cell_type": "markdown",
   "metadata": {
    "slideshow": {
     "slide_type": "slide"
    }
   },
   "source": [
    "### Train the model:"
   ]
  },
  {
   "cell_type": "code",
   "execution_count": 17,
   "metadata": {
    "slideshow": {
     "slide_type": "fragment"
    }
   },
   "outputs": [
    {
     "data": {
      "application/javascript": [
       "/* Put everything inside the global mpl namespace */\n",
       "/* global mpl */\n",
       "window.mpl = {};\n",
       "\n",
       "mpl.get_websocket_type = function () {\n",
       "    if (typeof WebSocket !== 'undefined') {\n",
       "        return WebSocket;\n",
       "    } else if (typeof MozWebSocket !== 'undefined') {\n",
       "        return MozWebSocket;\n",
       "    } else {\n",
       "        alert(\n",
       "            'Your browser does not have WebSocket support. ' +\n",
       "                'Please try Chrome, Safari or Firefox ≥ 6. ' +\n",
       "                'Firefox 4 and 5 are also supported but you ' +\n",
       "                'have to enable WebSockets in about:config.'\n",
       "        );\n",
       "    }\n",
       "};\n",
       "\n",
       "mpl.figure = function (figure_id, websocket, ondownload, parent_element) {\n",
       "    this.id = figure_id;\n",
       "\n",
       "    this.ws = websocket;\n",
       "\n",
       "    this.supports_binary = this.ws.binaryType !== undefined;\n",
       "\n",
       "    if (!this.supports_binary) {\n",
       "        var warnings = document.getElementById('mpl-warnings');\n",
       "        if (warnings) {\n",
       "            warnings.style.display = 'block';\n",
       "            warnings.textContent =\n",
       "                'This browser does not support binary websocket messages. ' +\n",
       "                'Performance may be slow.';\n",
       "        }\n",
       "    }\n",
       "\n",
       "    this.imageObj = new Image();\n",
       "\n",
       "    this.context = undefined;\n",
       "    this.message = undefined;\n",
       "    this.canvas = undefined;\n",
       "    this.rubberband_canvas = undefined;\n",
       "    this.rubberband_context = undefined;\n",
       "    this.format_dropdown = undefined;\n",
       "\n",
       "    this.image_mode = 'full';\n",
       "\n",
       "    this.root = document.createElement('div');\n",
       "    this.root.setAttribute('style', 'display: inline-block');\n",
       "    this._root_extra_style(this.root);\n",
       "\n",
       "    parent_element.appendChild(this.root);\n",
       "\n",
       "    this._init_header(this);\n",
       "    this._init_canvas(this);\n",
       "    this._init_toolbar(this);\n",
       "\n",
       "    var fig = this;\n",
       "\n",
       "    this.waiting = false;\n",
       "\n",
       "    this.ws.onopen = function () {\n",
       "        fig.send_message('supports_binary', { value: fig.supports_binary });\n",
       "        fig.send_message('send_image_mode', {});\n",
       "        if (fig.ratio !== 1) {\n",
       "            fig.send_message('set_dpi_ratio', { dpi_ratio: fig.ratio });\n",
       "        }\n",
       "        fig.send_message('refresh', {});\n",
       "    };\n",
       "\n",
       "    this.imageObj.onload = function () {\n",
       "        if (fig.image_mode === 'full') {\n",
       "            // Full images could contain transparency (where diff images\n",
       "            // almost always do), so we need to clear the canvas so that\n",
       "            // there is no ghosting.\n",
       "            fig.context.clearRect(0, 0, fig.canvas.width, fig.canvas.height);\n",
       "        }\n",
       "        fig.context.drawImage(fig.imageObj, 0, 0);\n",
       "    };\n",
       "\n",
       "    this.imageObj.onunload = function () {\n",
       "        fig.ws.close();\n",
       "    };\n",
       "\n",
       "    this.ws.onmessage = this._make_on_message_function(this);\n",
       "\n",
       "    this.ondownload = ondownload;\n",
       "};\n",
       "\n",
       "mpl.figure.prototype._init_header = function () {\n",
       "    var titlebar = document.createElement('div');\n",
       "    titlebar.classList =\n",
       "        'ui-dialog-titlebar ui-widget-header ui-corner-all ui-helper-clearfix';\n",
       "    var titletext = document.createElement('div');\n",
       "    titletext.classList = 'ui-dialog-title';\n",
       "    titletext.setAttribute(\n",
       "        'style',\n",
       "        'width: 100%; text-align: center; padding: 3px;'\n",
       "    );\n",
       "    titlebar.appendChild(titletext);\n",
       "    this.root.appendChild(titlebar);\n",
       "    this.header = titletext;\n",
       "};\n",
       "\n",
       "mpl.figure.prototype._canvas_extra_style = function (_canvas_div) {};\n",
       "\n",
       "mpl.figure.prototype._root_extra_style = function (_canvas_div) {};\n",
       "\n",
       "mpl.figure.prototype._init_canvas = function () {\n",
       "    var fig = this;\n",
       "\n",
       "    var canvas_div = (this.canvas_div = document.createElement('div'));\n",
       "    canvas_div.setAttribute(\n",
       "        'style',\n",
       "        'border: 1px solid #ddd;' +\n",
       "            'box-sizing: content-box;' +\n",
       "            'clear: both;' +\n",
       "            'min-height: 1px;' +\n",
       "            'min-width: 1px;' +\n",
       "            'outline: 0;' +\n",
       "            'overflow: hidden;' +\n",
       "            'position: relative;' +\n",
       "            'resize: both;'\n",
       "    );\n",
       "\n",
       "    function on_keyboard_event_closure(name) {\n",
       "        return function (event) {\n",
       "            return fig.key_event(event, name);\n",
       "        };\n",
       "    }\n",
       "\n",
       "    canvas_div.addEventListener(\n",
       "        'keydown',\n",
       "        on_keyboard_event_closure('key_press')\n",
       "    );\n",
       "    canvas_div.addEventListener(\n",
       "        'keyup',\n",
       "        on_keyboard_event_closure('key_release')\n",
       "    );\n",
       "\n",
       "    this._canvas_extra_style(canvas_div);\n",
       "    this.root.appendChild(canvas_div);\n",
       "\n",
       "    var canvas = (this.canvas = document.createElement('canvas'));\n",
       "    canvas.classList.add('mpl-canvas');\n",
       "    canvas.setAttribute('style', 'box-sizing: content-box;');\n",
       "\n",
       "    this.context = canvas.getContext('2d');\n",
       "\n",
       "    var backingStore =\n",
       "        this.context.backingStorePixelRatio ||\n",
       "        this.context.webkitBackingStorePixelRatio ||\n",
       "        this.context.mozBackingStorePixelRatio ||\n",
       "        this.context.msBackingStorePixelRatio ||\n",
       "        this.context.oBackingStorePixelRatio ||\n",
       "        this.context.backingStorePixelRatio ||\n",
       "        1;\n",
       "\n",
       "    this.ratio = (window.devicePixelRatio || 1) / backingStore;\n",
       "    if (this.ratio !== 1) {\n",
       "        fig.send_message('set_dpi_ratio', { dpi_ratio: this.ratio });\n",
       "    }\n",
       "\n",
       "    var rubberband_canvas = (this.rubberband_canvas = document.createElement(\n",
       "        'canvas'\n",
       "    ));\n",
       "    rubberband_canvas.setAttribute(\n",
       "        'style',\n",
       "        'box-sizing: content-box; position: absolute; left: 0; top: 0; z-index: 1;'\n",
       "    );\n",
       "\n",
       "    var resizeObserver = new ResizeObserver(function (entries) {\n",
       "        var nentries = entries.length;\n",
       "        for (var i = 0; i < nentries; i++) {\n",
       "            var entry = entries[i];\n",
       "            var width, height;\n",
       "            if (entry.contentBoxSize) {\n",
       "                if (entry.contentBoxSize instanceof Array) {\n",
       "                    // Chrome 84 implements new version of spec.\n",
       "                    width = entry.contentBoxSize[0].inlineSize;\n",
       "                    height = entry.contentBoxSize[0].blockSize;\n",
       "                } else {\n",
       "                    // Firefox implements old version of spec.\n",
       "                    width = entry.contentBoxSize.inlineSize;\n",
       "                    height = entry.contentBoxSize.blockSize;\n",
       "                }\n",
       "            } else {\n",
       "                // Chrome <84 implements even older version of spec.\n",
       "                width = entry.contentRect.width;\n",
       "                height = entry.contentRect.height;\n",
       "            }\n",
       "\n",
       "            // Keep the size of the canvas and rubber band canvas in sync with\n",
       "            // the canvas container.\n",
       "            if (entry.devicePixelContentBoxSize) {\n",
       "                // Chrome 84 implements new version of spec.\n",
       "                canvas.setAttribute(\n",
       "                    'width',\n",
       "                    entry.devicePixelContentBoxSize[0].inlineSize\n",
       "                );\n",
       "                canvas.setAttribute(\n",
       "                    'height',\n",
       "                    entry.devicePixelContentBoxSize[0].blockSize\n",
       "                );\n",
       "            } else {\n",
       "                canvas.setAttribute('width', width * fig.ratio);\n",
       "                canvas.setAttribute('height', height * fig.ratio);\n",
       "            }\n",
       "            canvas.setAttribute(\n",
       "                'style',\n",
       "                'width: ' + width + 'px; height: ' + height + 'px;'\n",
       "            );\n",
       "\n",
       "            rubberband_canvas.setAttribute('width', width);\n",
       "            rubberband_canvas.setAttribute('height', height);\n",
       "\n",
       "            // And update the size in Python. We ignore the initial 0/0 size\n",
       "            // that occurs as the element is placed into the DOM, which should\n",
       "            // otherwise not happen due to the minimum size styling.\n",
       "            if (width != 0 && height != 0) {\n",
       "                fig.request_resize(width, height);\n",
       "            }\n",
       "        }\n",
       "    });\n",
       "    resizeObserver.observe(canvas_div);\n",
       "\n",
       "    function on_mouse_event_closure(name) {\n",
       "        return function (event) {\n",
       "            return fig.mouse_event(event, name);\n",
       "        };\n",
       "    }\n",
       "\n",
       "    rubberband_canvas.addEventListener(\n",
       "        'mousedown',\n",
       "        on_mouse_event_closure('button_press')\n",
       "    );\n",
       "    rubberband_canvas.addEventListener(\n",
       "        'mouseup',\n",
       "        on_mouse_event_closure('button_release')\n",
       "    );\n",
       "    // Throttle sequential mouse events to 1 every 20ms.\n",
       "    rubberband_canvas.addEventListener(\n",
       "        'mousemove',\n",
       "        on_mouse_event_closure('motion_notify')\n",
       "    );\n",
       "\n",
       "    rubberband_canvas.addEventListener(\n",
       "        'mouseenter',\n",
       "        on_mouse_event_closure('figure_enter')\n",
       "    );\n",
       "    rubberband_canvas.addEventListener(\n",
       "        'mouseleave',\n",
       "        on_mouse_event_closure('figure_leave')\n",
       "    );\n",
       "\n",
       "    canvas_div.addEventListener('wheel', function (event) {\n",
       "        if (event.deltaY < 0) {\n",
       "            event.step = 1;\n",
       "        } else {\n",
       "            event.step = -1;\n",
       "        }\n",
       "        on_mouse_event_closure('scroll')(event);\n",
       "    });\n",
       "\n",
       "    canvas_div.appendChild(canvas);\n",
       "    canvas_div.appendChild(rubberband_canvas);\n",
       "\n",
       "    this.rubberband_context = rubberband_canvas.getContext('2d');\n",
       "    this.rubberband_context.strokeStyle = '#000000';\n",
       "\n",
       "    this._resize_canvas = function (width, height, forward) {\n",
       "        if (forward) {\n",
       "            canvas_div.style.width = width + 'px';\n",
       "            canvas_div.style.height = height + 'px';\n",
       "        }\n",
       "    };\n",
       "\n",
       "    // Disable right mouse context menu.\n",
       "    this.rubberband_canvas.addEventListener('contextmenu', function (_e) {\n",
       "        event.preventDefault();\n",
       "        return false;\n",
       "    });\n",
       "\n",
       "    function set_focus() {\n",
       "        canvas.focus();\n",
       "        canvas_div.focus();\n",
       "    }\n",
       "\n",
       "    window.setTimeout(set_focus, 100);\n",
       "};\n",
       "\n",
       "mpl.figure.prototype._init_toolbar = function () {\n",
       "    var fig = this;\n",
       "\n",
       "    var toolbar = document.createElement('div');\n",
       "    toolbar.classList = 'mpl-toolbar';\n",
       "    this.root.appendChild(toolbar);\n",
       "\n",
       "    function on_click_closure(name) {\n",
       "        return function (_event) {\n",
       "            return fig.toolbar_button_onclick(name);\n",
       "        };\n",
       "    }\n",
       "\n",
       "    function on_mouseover_closure(tooltip) {\n",
       "        return function (event) {\n",
       "            if (!event.currentTarget.disabled) {\n",
       "                return fig.toolbar_button_onmouseover(tooltip);\n",
       "            }\n",
       "        };\n",
       "    }\n",
       "\n",
       "    fig.buttons = {};\n",
       "    var buttonGroup = document.createElement('div');\n",
       "    buttonGroup.classList = 'mpl-button-group';\n",
       "    for (var toolbar_ind in mpl.toolbar_items) {\n",
       "        var name = mpl.toolbar_items[toolbar_ind][0];\n",
       "        var tooltip = mpl.toolbar_items[toolbar_ind][1];\n",
       "        var image = mpl.toolbar_items[toolbar_ind][2];\n",
       "        var method_name = mpl.toolbar_items[toolbar_ind][3];\n",
       "\n",
       "        if (!name) {\n",
       "            /* Instead of a spacer, we start a new button group. */\n",
       "            if (buttonGroup.hasChildNodes()) {\n",
       "                toolbar.appendChild(buttonGroup);\n",
       "            }\n",
       "            buttonGroup = document.createElement('div');\n",
       "            buttonGroup.classList = 'mpl-button-group';\n",
       "            continue;\n",
       "        }\n",
       "\n",
       "        var button = (fig.buttons[name] = document.createElement('button'));\n",
       "        button.classList = 'mpl-widget';\n",
       "        button.setAttribute('role', 'button');\n",
       "        button.setAttribute('aria-disabled', 'false');\n",
       "        button.addEventListener('click', on_click_closure(method_name));\n",
       "        button.addEventListener('mouseover', on_mouseover_closure(tooltip));\n",
       "\n",
       "        var icon_img = document.createElement('img');\n",
       "        icon_img.src = '_images/' + image + '.png';\n",
       "        icon_img.srcset = '_images/' + image + '_large.png 2x';\n",
       "        icon_img.alt = tooltip;\n",
       "        button.appendChild(icon_img);\n",
       "\n",
       "        buttonGroup.appendChild(button);\n",
       "    }\n",
       "\n",
       "    if (buttonGroup.hasChildNodes()) {\n",
       "        toolbar.appendChild(buttonGroup);\n",
       "    }\n",
       "\n",
       "    var fmt_picker = document.createElement('select');\n",
       "    fmt_picker.classList = 'mpl-widget';\n",
       "    toolbar.appendChild(fmt_picker);\n",
       "    this.format_dropdown = fmt_picker;\n",
       "\n",
       "    for (var ind in mpl.extensions) {\n",
       "        var fmt = mpl.extensions[ind];\n",
       "        var option = document.createElement('option');\n",
       "        option.selected = fmt === mpl.default_extension;\n",
       "        option.innerHTML = fmt;\n",
       "        fmt_picker.appendChild(option);\n",
       "    }\n",
       "\n",
       "    var status_bar = document.createElement('span');\n",
       "    status_bar.classList = 'mpl-message';\n",
       "    toolbar.appendChild(status_bar);\n",
       "    this.message = status_bar;\n",
       "};\n",
       "\n",
       "mpl.figure.prototype.request_resize = function (x_pixels, y_pixels) {\n",
       "    // Request matplotlib to resize the figure. Matplotlib will then trigger a resize in the client,\n",
       "    // which will in turn request a refresh of the image.\n",
       "    this.send_message('resize', { width: x_pixels, height: y_pixels });\n",
       "};\n",
       "\n",
       "mpl.figure.prototype.send_message = function (type, properties) {\n",
       "    properties['type'] = type;\n",
       "    properties['figure_id'] = this.id;\n",
       "    this.ws.send(JSON.stringify(properties));\n",
       "};\n",
       "\n",
       "mpl.figure.prototype.send_draw_message = function () {\n",
       "    if (!this.waiting) {\n",
       "        this.waiting = true;\n",
       "        this.ws.send(JSON.stringify({ type: 'draw', figure_id: this.id }));\n",
       "    }\n",
       "};\n",
       "\n",
       "mpl.figure.prototype.handle_save = function (fig, _msg) {\n",
       "    var format_dropdown = fig.format_dropdown;\n",
       "    var format = format_dropdown.options[format_dropdown.selectedIndex].value;\n",
       "    fig.ondownload(fig, format);\n",
       "};\n",
       "\n",
       "mpl.figure.prototype.handle_resize = function (fig, msg) {\n",
       "    var size = msg['size'];\n",
       "    if (size[0] !== fig.canvas.width || size[1] !== fig.canvas.height) {\n",
       "        fig._resize_canvas(size[0], size[1], msg['forward']);\n",
       "        fig.send_message('refresh', {});\n",
       "    }\n",
       "};\n",
       "\n",
       "mpl.figure.prototype.handle_rubberband = function (fig, msg) {\n",
       "    var x0 = msg['x0'] / fig.ratio;\n",
       "    var y0 = (fig.canvas.height - msg['y0']) / fig.ratio;\n",
       "    var x1 = msg['x1'] / fig.ratio;\n",
       "    var y1 = (fig.canvas.height - msg['y1']) / fig.ratio;\n",
       "    x0 = Math.floor(x0) + 0.5;\n",
       "    y0 = Math.floor(y0) + 0.5;\n",
       "    x1 = Math.floor(x1) + 0.5;\n",
       "    y1 = Math.floor(y1) + 0.5;\n",
       "    var min_x = Math.min(x0, x1);\n",
       "    var min_y = Math.min(y0, y1);\n",
       "    var width = Math.abs(x1 - x0);\n",
       "    var height = Math.abs(y1 - y0);\n",
       "\n",
       "    fig.rubberband_context.clearRect(\n",
       "        0,\n",
       "        0,\n",
       "        fig.canvas.width / fig.ratio,\n",
       "        fig.canvas.height / fig.ratio\n",
       "    );\n",
       "\n",
       "    fig.rubberband_context.strokeRect(min_x, min_y, width, height);\n",
       "};\n",
       "\n",
       "mpl.figure.prototype.handle_figure_label = function (fig, msg) {\n",
       "    // Updates the figure title.\n",
       "    fig.header.textContent = msg['label'];\n",
       "};\n",
       "\n",
       "mpl.figure.prototype.handle_cursor = function (fig, msg) {\n",
       "    var cursor = msg['cursor'];\n",
       "    switch (cursor) {\n",
       "        case 0:\n",
       "            cursor = 'pointer';\n",
       "            break;\n",
       "        case 1:\n",
       "            cursor = 'default';\n",
       "            break;\n",
       "        case 2:\n",
       "            cursor = 'crosshair';\n",
       "            break;\n",
       "        case 3:\n",
       "            cursor = 'move';\n",
       "            break;\n",
       "    }\n",
       "    fig.rubberband_canvas.style.cursor = cursor;\n",
       "};\n",
       "\n",
       "mpl.figure.prototype.handle_message = function (fig, msg) {\n",
       "    fig.message.textContent = msg['message'];\n",
       "};\n",
       "\n",
       "mpl.figure.prototype.handle_draw = function (fig, _msg) {\n",
       "    // Request the server to send over a new figure.\n",
       "    fig.send_draw_message();\n",
       "};\n",
       "\n",
       "mpl.figure.prototype.handle_image_mode = function (fig, msg) {\n",
       "    fig.image_mode = msg['mode'];\n",
       "};\n",
       "\n",
       "mpl.figure.prototype.handle_history_buttons = function (fig, msg) {\n",
       "    for (var key in msg) {\n",
       "        if (!(key in fig.buttons)) {\n",
       "            continue;\n",
       "        }\n",
       "        fig.buttons[key].disabled = !msg[key];\n",
       "        fig.buttons[key].setAttribute('aria-disabled', !msg[key]);\n",
       "    }\n",
       "};\n",
       "\n",
       "mpl.figure.prototype.handle_navigate_mode = function (fig, msg) {\n",
       "    if (msg['mode'] === 'PAN') {\n",
       "        fig.buttons['Pan'].classList.add('active');\n",
       "        fig.buttons['Zoom'].classList.remove('active');\n",
       "    } else if (msg['mode'] === 'ZOOM') {\n",
       "        fig.buttons['Pan'].classList.remove('active');\n",
       "        fig.buttons['Zoom'].classList.add('active');\n",
       "    } else {\n",
       "        fig.buttons['Pan'].classList.remove('active');\n",
       "        fig.buttons['Zoom'].classList.remove('active');\n",
       "    }\n",
       "};\n",
       "\n",
       "mpl.figure.prototype.updated_canvas_event = function () {\n",
       "    // Called whenever the canvas gets updated.\n",
       "    this.send_message('ack', {});\n",
       "};\n",
       "\n",
       "// A function to construct a web socket function for onmessage handling.\n",
       "// Called in the figure constructor.\n",
       "mpl.figure.prototype._make_on_message_function = function (fig) {\n",
       "    return function socket_on_message(evt) {\n",
       "        if (evt.data instanceof Blob) {\n",
       "            /* FIXME: We get \"Resource interpreted as Image but\n",
       "             * transferred with MIME type text/plain:\" errors on\n",
       "             * Chrome.  But how to set the MIME type?  It doesn't seem\n",
       "             * to be part of the websocket stream */\n",
       "            evt.data.type = 'image/png';\n",
       "\n",
       "            /* Free the memory for the previous frames */\n",
       "            if (fig.imageObj.src) {\n",
       "                (window.URL || window.webkitURL).revokeObjectURL(\n",
       "                    fig.imageObj.src\n",
       "                );\n",
       "            }\n",
       "\n",
       "            fig.imageObj.src = (window.URL || window.webkitURL).createObjectURL(\n",
       "                evt.data\n",
       "            );\n",
       "            fig.updated_canvas_event();\n",
       "            fig.waiting = false;\n",
       "            return;\n",
       "        } else if (\n",
       "            typeof evt.data === 'string' &&\n",
       "            evt.data.slice(0, 21) === 'data:image/png;base64'\n",
       "        ) {\n",
       "            fig.imageObj.src = evt.data;\n",
       "            fig.updated_canvas_event();\n",
       "            fig.waiting = false;\n",
       "            return;\n",
       "        }\n",
       "\n",
       "        var msg = JSON.parse(evt.data);\n",
       "        var msg_type = msg['type'];\n",
       "\n",
       "        // Call the  \"handle_{type}\" callback, which takes\n",
       "        // the figure and JSON message as its only arguments.\n",
       "        try {\n",
       "            var callback = fig['handle_' + msg_type];\n",
       "        } catch (e) {\n",
       "            console.log(\n",
       "                \"No handler for the '\" + msg_type + \"' message type: \",\n",
       "                msg\n",
       "            );\n",
       "            return;\n",
       "        }\n",
       "\n",
       "        if (callback) {\n",
       "            try {\n",
       "                // console.log(\"Handling '\" + msg_type + \"' message: \", msg);\n",
       "                callback(fig, msg);\n",
       "            } catch (e) {\n",
       "                console.log(\n",
       "                    \"Exception inside the 'handler_\" + msg_type + \"' callback:\",\n",
       "                    e,\n",
       "                    e.stack,\n",
       "                    msg\n",
       "                );\n",
       "            }\n",
       "        }\n",
       "    };\n",
       "};\n",
       "\n",
       "// from http://stackoverflow.com/questions/1114465/getting-mouse-location-in-canvas\n",
       "mpl.findpos = function (e) {\n",
       "    //this section is from http://www.quirksmode.org/js/events_properties.html\n",
       "    var targ;\n",
       "    if (!e) {\n",
       "        e = window.event;\n",
       "    }\n",
       "    if (e.target) {\n",
       "        targ = e.target;\n",
       "    } else if (e.srcElement) {\n",
       "        targ = e.srcElement;\n",
       "    }\n",
       "    if (targ.nodeType === 3) {\n",
       "        // defeat Safari bug\n",
       "        targ = targ.parentNode;\n",
       "    }\n",
       "\n",
       "    // pageX,Y are the mouse positions relative to the document\n",
       "    var boundingRect = targ.getBoundingClientRect();\n",
       "    var x = e.pageX - (boundingRect.left + document.body.scrollLeft);\n",
       "    var y = e.pageY - (boundingRect.top + document.body.scrollTop);\n",
       "\n",
       "    return { x: x, y: y };\n",
       "};\n",
       "\n",
       "/*\n",
       " * return a copy of an object with only non-object keys\n",
       " * we need this to avoid circular references\n",
       " * http://stackoverflow.com/a/24161582/3208463\n",
       " */\n",
       "function simpleKeys(original) {\n",
       "    return Object.keys(original).reduce(function (obj, key) {\n",
       "        if (typeof original[key] !== 'object') {\n",
       "            obj[key] = original[key];\n",
       "        }\n",
       "        return obj;\n",
       "    }, {});\n",
       "}\n",
       "\n",
       "mpl.figure.prototype.mouse_event = function (event, name) {\n",
       "    var canvas_pos = mpl.findpos(event);\n",
       "\n",
       "    if (name === 'button_press') {\n",
       "        this.canvas.focus();\n",
       "        this.canvas_div.focus();\n",
       "    }\n",
       "\n",
       "    var x = canvas_pos.x * this.ratio;\n",
       "    var y = canvas_pos.y * this.ratio;\n",
       "\n",
       "    this.send_message(name, {\n",
       "        x: x,\n",
       "        y: y,\n",
       "        button: event.button,\n",
       "        step: event.step,\n",
       "        guiEvent: simpleKeys(event),\n",
       "    });\n",
       "\n",
       "    /* This prevents the web browser from automatically changing to\n",
       "     * the text insertion cursor when the button is pressed.  We want\n",
       "     * to control all of the cursor setting manually through the\n",
       "     * 'cursor' event from matplotlib */\n",
       "    event.preventDefault();\n",
       "    return false;\n",
       "};\n",
       "\n",
       "mpl.figure.prototype._key_event_extra = function (_event, _name) {\n",
       "    // Handle any extra behaviour associated with a key event\n",
       "};\n",
       "\n",
       "mpl.figure.prototype.key_event = function (event, name) {\n",
       "    // Prevent repeat events\n",
       "    if (name === 'key_press') {\n",
       "        if (event.which === this._key) {\n",
       "            return;\n",
       "        } else {\n",
       "            this._key = event.which;\n",
       "        }\n",
       "    }\n",
       "    if (name === 'key_release') {\n",
       "        this._key = null;\n",
       "    }\n",
       "\n",
       "    var value = '';\n",
       "    if (event.ctrlKey && event.which !== 17) {\n",
       "        value += 'ctrl+';\n",
       "    }\n",
       "    if (event.altKey && event.which !== 18) {\n",
       "        value += 'alt+';\n",
       "    }\n",
       "    if (event.shiftKey && event.which !== 16) {\n",
       "        value += 'shift+';\n",
       "    }\n",
       "\n",
       "    value += 'k';\n",
       "    value += event.which.toString();\n",
       "\n",
       "    this._key_event_extra(event, name);\n",
       "\n",
       "    this.send_message(name, { key: value, guiEvent: simpleKeys(event) });\n",
       "    return false;\n",
       "};\n",
       "\n",
       "mpl.figure.prototype.toolbar_button_onclick = function (name) {\n",
       "    if (name === 'download') {\n",
       "        this.handle_save(this, null);\n",
       "    } else {\n",
       "        this.send_message('toolbar_button', { name: name });\n",
       "    }\n",
       "};\n",
       "\n",
       "mpl.figure.prototype.toolbar_button_onmouseover = function (tooltip) {\n",
       "    this.message.textContent = tooltip;\n",
       "};\n",
       "mpl.toolbar_items = [[\"Home\", \"Reset original view\", \"fa fa-home icon-home\", \"home\"], [\"Back\", \"Back to previous view\", \"fa fa-arrow-left icon-arrow-left\", \"back\"], [\"Forward\", \"Forward to next view\", \"fa fa-arrow-right icon-arrow-right\", \"forward\"], [\"\", \"\", \"\", \"\"], [\"Pan\", \"Left button pans, Right button zooms\\nx/y fixes axis, CTRL fixes aspect\", \"fa fa-arrows icon-move\", \"pan\"], [\"Zoom\", \"Zoom to rectangle\\nx/y fixes axis, CTRL fixes aspect\", \"fa fa-square-o icon-check-empty\", \"zoom\"], [\"\", \"\", \"\", \"\"], [\"Download\", \"Download plot\", \"fa fa-floppy-o icon-save\", \"download\"]];\n",
       "\n",
       "mpl.extensions = [\"eps\", \"jpeg\", \"pdf\", \"png\", \"ps\", \"raw\", \"svg\", \"tif\"];\n",
       "\n",
       "mpl.default_extension = \"png\";/* global mpl */\n",
       "\n",
       "var comm_websocket_adapter = function (comm) {\n",
       "    // Create a \"websocket\"-like object which calls the given IPython comm\n",
       "    // object with the appropriate methods. Currently this is a non binary\n",
       "    // socket, so there is still some room for performance tuning.\n",
       "    var ws = {};\n",
       "\n",
       "    ws.close = function () {\n",
       "        comm.close();\n",
       "    };\n",
       "    ws.send = function (m) {\n",
       "        //console.log('sending', m);\n",
       "        comm.send(m);\n",
       "    };\n",
       "    // Register the callback with on_msg.\n",
       "    comm.on_msg(function (msg) {\n",
       "        //console.log('receiving', msg['content']['data'], msg);\n",
       "        // Pass the mpl event to the overridden (by mpl) onmessage function.\n",
       "        ws.onmessage(msg['content']['data']);\n",
       "    });\n",
       "    return ws;\n",
       "};\n",
       "\n",
       "mpl.mpl_figure_comm = function (comm, msg) {\n",
       "    // This is the function which gets called when the mpl process\n",
       "    // starts-up an IPython Comm through the \"matplotlib\" channel.\n",
       "\n",
       "    var id = msg.content.data.id;\n",
       "    // Get hold of the div created by the display call when the Comm\n",
       "    // socket was opened in Python.\n",
       "    var element = document.getElementById(id);\n",
       "    var ws_proxy = comm_websocket_adapter(comm);\n",
       "\n",
       "    function ondownload(figure, _format) {\n",
       "        window.open(figure.canvas.toDataURL());\n",
       "    }\n",
       "\n",
       "    var fig = new mpl.figure(id, ws_proxy, ondownload, element);\n",
       "\n",
       "    // Call onopen now - mpl needs it, as it is assuming we've passed it a real\n",
       "    // web socket which is closed, not our websocket->open comm proxy.\n",
       "    ws_proxy.onopen();\n",
       "\n",
       "    fig.parent_element = element;\n",
       "    fig.cell_info = mpl.find_output_cell(\"<div id='\" + id + \"'></div>\");\n",
       "    if (!fig.cell_info) {\n",
       "        console.error('Failed to find cell for figure', id, fig);\n",
       "        return;\n",
       "    }\n",
       "    fig.cell_info[0].output_area.element.one(\n",
       "        'cleared',\n",
       "        { fig: fig },\n",
       "        fig._remove_fig_handler\n",
       "    );\n",
       "};\n",
       "\n",
       "mpl.figure.prototype.handle_close = function (fig, msg) {\n",
       "    var width = fig.canvas.width / fig.ratio;\n",
       "    fig.cell_info[0].output_area.element.off(\n",
       "        'cleared',\n",
       "        fig._remove_fig_handler\n",
       "    );\n",
       "\n",
       "    // Update the output cell to use the data from the current canvas.\n",
       "    fig.push_to_output();\n",
       "    var dataURL = fig.canvas.toDataURL();\n",
       "    // Re-enable the keyboard manager in IPython - without this line, in FF,\n",
       "    // the notebook keyboard shortcuts fail.\n",
       "    IPython.keyboard_manager.enable();\n",
       "    fig.parent_element.innerHTML =\n",
       "        '<img src=\"' + dataURL + '\" width=\"' + width + '\">';\n",
       "    fig.close_ws(fig, msg);\n",
       "};\n",
       "\n",
       "mpl.figure.prototype.close_ws = function (fig, msg) {\n",
       "    fig.send_message('closing', msg);\n",
       "    // fig.ws.close()\n",
       "};\n",
       "\n",
       "mpl.figure.prototype.push_to_output = function (_remove_interactive) {\n",
       "    // Turn the data on the canvas into data in the output cell.\n",
       "    var width = this.canvas.width / this.ratio;\n",
       "    var dataURL = this.canvas.toDataURL();\n",
       "    this.cell_info[1]['text/html'] =\n",
       "        '<img src=\"' + dataURL + '\" width=\"' + width + '\">';\n",
       "};\n",
       "\n",
       "mpl.figure.prototype.updated_canvas_event = function () {\n",
       "    // Tell IPython that the notebook contents must change.\n",
       "    IPython.notebook.set_dirty(true);\n",
       "    this.send_message('ack', {});\n",
       "    var fig = this;\n",
       "    // Wait a second, then push the new image to the DOM so\n",
       "    // that it is saved nicely (might be nice to debounce this).\n",
       "    setTimeout(function () {\n",
       "        fig.push_to_output();\n",
       "    }, 1000);\n",
       "};\n",
       "\n",
       "mpl.figure.prototype._init_toolbar = function () {\n",
       "    var fig = this;\n",
       "\n",
       "    var toolbar = document.createElement('div');\n",
       "    toolbar.classList = 'btn-toolbar';\n",
       "    this.root.appendChild(toolbar);\n",
       "\n",
       "    function on_click_closure(name) {\n",
       "        return function (_event) {\n",
       "            return fig.toolbar_button_onclick(name);\n",
       "        };\n",
       "    }\n",
       "\n",
       "    function on_mouseover_closure(tooltip) {\n",
       "        return function (event) {\n",
       "            if (!event.currentTarget.disabled) {\n",
       "                return fig.toolbar_button_onmouseover(tooltip);\n",
       "            }\n",
       "        };\n",
       "    }\n",
       "\n",
       "    fig.buttons = {};\n",
       "    var buttonGroup = document.createElement('div');\n",
       "    buttonGroup.classList = 'btn-group';\n",
       "    var button;\n",
       "    for (var toolbar_ind in mpl.toolbar_items) {\n",
       "        var name = mpl.toolbar_items[toolbar_ind][0];\n",
       "        var tooltip = mpl.toolbar_items[toolbar_ind][1];\n",
       "        var image = mpl.toolbar_items[toolbar_ind][2];\n",
       "        var method_name = mpl.toolbar_items[toolbar_ind][3];\n",
       "\n",
       "        if (!name) {\n",
       "            /* Instead of a spacer, we start a new button group. */\n",
       "            if (buttonGroup.hasChildNodes()) {\n",
       "                toolbar.appendChild(buttonGroup);\n",
       "            }\n",
       "            buttonGroup = document.createElement('div');\n",
       "            buttonGroup.classList = 'btn-group';\n",
       "            continue;\n",
       "        }\n",
       "\n",
       "        button = fig.buttons[name] = document.createElement('button');\n",
       "        button.classList = 'btn btn-default';\n",
       "        button.href = '#';\n",
       "        button.title = name;\n",
       "        button.innerHTML = '<i class=\"fa ' + image + ' fa-lg\"></i>';\n",
       "        button.addEventListener('click', on_click_closure(method_name));\n",
       "        button.addEventListener('mouseover', on_mouseover_closure(tooltip));\n",
       "        buttonGroup.appendChild(button);\n",
       "    }\n",
       "\n",
       "    if (buttonGroup.hasChildNodes()) {\n",
       "        toolbar.appendChild(buttonGroup);\n",
       "    }\n",
       "\n",
       "    // Add the status bar.\n",
       "    var status_bar = document.createElement('span');\n",
       "    status_bar.classList = 'mpl-message pull-right';\n",
       "    toolbar.appendChild(status_bar);\n",
       "    this.message = status_bar;\n",
       "\n",
       "    // Add the close button to the window.\n",
       "    var buttongrp = document.createElement('div');\n",
       "    buttongrp.classList = 'btn-group inline pull-right';\n",
       "    button = document.createElement('button');\n",
       "    button.classList = 'btn btn-mini btn-primary';\n",
       "    button.href = '#';\n",
       "    button.title = 'Stop Interaction';\n",
       "    button.innerHTML = '<i class=\"fa fa-power-off icon-remove icon-large\"></i>';\n",
       "    button.addEventListener('click', function (_evt) {\n",
       "        fig.handle_close(fig, {});\n",
       "    });\n",
       "    button.addEventListener(\n",
       "        'mouseover',\n",
       "        on_mouseover_closure('Stop Interaction')\n",
       "    );\n",
       "    buttongrp.appendChild(button);\n",
       "    var titlebar = this.root.querySelector('.ui-dialog-titlebar');\n",
       "    titlebar.insertBefore(buttongrp, titlebar.firstChild);\n",
       "};\n",
       "\n",
       "mpl.figure.prototype._remove_fig_handler = function (event) {\n",
       "    var fig = event.data.fig;\n",
       "    fig.close_ws(fig, {});\n",
       "};\n",
       "\n",
       "mpl.figure.prototype._root_extra_style = function (el) {\n",
       "    el.style.boxSizing = 'content-box'; // override notebook setting of border-box.\n",
       "};\n",
       "\n",
       "mpl.figure.prototype._canvas_extra_style = function (el) {\n",
       "    // this is important to make the div 'focusable\n",
       "    el.setAttribute('tabindex', 0);\n",
       "    // reach out to IPython and tell the keyboard manager to turn it's self\n",
       "    // off when our div gets focus\n",
       "\n",
       "    // location in version 3\n",
       "    if (IPython.notebook.keyboard_manager) {\n",
       "        IPython.notebook.keyboard_manager.register_events(el);\n",
       "    } else {\n",
       "        // location in version 2\n",
       "        IPython.keyboard_manager.register_events(el);\n",
       "    }\n",
       "};\n",
       "\n",
       "mpl.figure.prototype._key_event_extra = function (event, _name) {\n",
       "    var manager = IPython.notebook.keyboard_manager;\n",
       "    if (!manager) {\n",
       "        manager = IPython.keyboard_manager;\n",
       "    }\n",
       "\n",
       "    // Check for shift+enter\n",
       "    if (event.shiftKey && event.which === 13) {\n",
       "        this.canvas_div.blur();\n",
       "        // select the cell after this one\n",
       "        var index = IPython.notebook.find_cell_index(this.cell_info[0]);\n",
       "        IPython.notebook.select(index + 1);\n",
       "    }\n",
       "};\n",
       "\n",
       "mpl.figure.prototype.handle_save = function (fig, _msg) {\n",
       "    fig.ondownload(fig, null);\n",
       "};\n",
       "\n",
       "mpl.find_output_cell = function (html_output) {\n",
       "    // Return the cell and output element which can be found *uniquely* in the notebook.\n",
       "    // Note - this is a bit hacky, but it is done because the \"notebook_saving.Notebook\"\n",
       "    // IPython event is triggered only after the cells have been serialised, which for\n",
       "    // our purposes (turning an active figure into a static one), is too late.\n",
       "    var cells = IPython.notebook.get_cells();\n",
       "    var ncells = cells.length;\n",
       "    for (var i = 0; i < ncells; i++) {\n",
       "        var cell = cells[i];\n",
       "        if (cell.cell_type === 'code') {\n",
       "            for (var j = 0; j < cell.output_area.outputs.length; j++) {\n",
       "                var data = cell.output_area.outputs[j];\n",
       "                if (data.data) {\n",
       "                    // IPython >= 3 moved mimebundle to data attribute of output\n",
       "                    data = data.data;\n",
       "                }\n",
       "                if (data['text/html'] === html_output) {\n",
       "                    return [cell, data, j];\n",
       "                }\n",
       "            }\n",
       "        }\n",
       "    }\n",
       "};\n",
       "\n",
       "// Register the function which deals with the matplotlib target/channel.\n",
       "// The kernel may be null if the page has been refreshed.\n",
       "if (IPython.notebook.kernel !== null) {\n",
       "    IPython.notebook.kernel.comm_manager.register_target(\n",
       "        'matplotlib',\n",
       "        mpl.mpl_figure_comm\n",
       "    );\n",
       "}\n"
      ],
      "text/plain": [
       "<IPython.core.display.Javascript object>"
      ]
     },
     "metadata": {},
     "output_type": "display_data"
    },
    {
     "data": {
      "text/html": [
       "<img src=\"data:image/png;base64,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\" width=\"1200\">"
      ],
      "text/plain": [
       "<IPython.core.display.HTML object>"
      ]
     },
     "metadata": {},
     "output_type": "display_data"
    },
    {
     "name": "stdout",
     "output_type": "stream",
     "text": [
      "Epoch   0: | Train loss: 1.70577 | Val loss: 1.53966 | Train Accuracy: 0.4008 | Val Accuracy: 0.4686 | epoch time: 10.826 | <-- Checkpoint!\n",
      "Epoch   1: | Train loss: 1.48256 | Val loss: 1.45639 | Train Accuracy: 0.4811 | Val Accuracy: 0.4871 | epoch time: 10.543 | <-- Checkpoint!\n",
      "Epoch   2: | Train loss: 1.37918 | Val loss: 1.40531 | Train Accuracy: 0.5201 | Val Accuracy: 0.5045 | epoch time: 10.467 | <-- Checkpoint!\n",
      "Epoch   3: | Train loss: 1.30310 | Val loss: 1.37140 | Train Accuracy: 0.5490 | Val Accuracy: 0.5201 | epoch time: 10.713 | <-- Checkpoint!\n",
      "Epoch   4: | Train loss: 1.24127 | Val loss: 1.35288 | Train Accuracy: 0.5714 | Val Accuracy: 0.5297 | epoch time: 10.367 | <-- Checkpoint!\n",
      "Epoch   5: | Train loss: 1.18667 | Val loss: 1.33525 | Train Accuracy: 0.5920 | Val Accuracy: 0.5324 | epoch time: 10.777 | <-- Checkpoint!\n",
      "Epoch   6: | Train loss: 1.13517 | Val loss: 1.32282 | Train Accuracy: 0.6122 | Val Accuracy: 0.5382 | epoch time: 11.833 | <-- Checkpoint!\n",
      "Epoch   7: | Train loss: 1.08609 | Val loss: 1.31269 | Train Accuracy: 0.6294 | Val Accuracy: 0.5443 | epoch time: 11.104 | <-- Checkpoint!\n",
      "Epoch   8: | Train loss: 1.04187 | Val loss: 1.32818 | Train Accuracy: 0.6452 | Val Accuracy: 0.5367 | epoch time: 10.772 |\n",
      "Epoch   9: | Train loss: 0.99759 | Val loss: 1.31937 | Train Accuracy: 0.6603 | Val Accuracy: 0.5396 | epoch time: 10.779 |\n",
      "Epoch  10: | Train loss: 0.95568 | Val loss: 1.32007 | Train Accuracy: 0.6757 | Val Accuracy: 0.5482 | epoch time: 10.751 | <-- Checkpoint!\n",
      "Epoch  11: | Train loss: 0.91626 | Val loss: 1.32745 | Train Accuracy: 0.6892 | Val Accuracy: 0.5471 | epoch time: 10.485 |\n",
      "Epoch  12: | Train loss: 0.87527 | Val loss: 1.32966 | Train Accuracy: 0.7041 | Val Accuracy: 0.5522 | epoch time: 10.767 | <-- Checkpoint!\n",
      "Epoch  13: | Train loss: 0.83906 | Val loss: 1.33385 | Train Accuracy: 0.7180 | Val Accuracy: 0.5503 | epoch time: 10.614 |\n",
      "Epoch  14: | Train loss: 0.80036 | Val loss: 1.35345 | Train Accuracy: 0.7320 | Val Accuracy: 0.5521 | epoch time: 10.753 |\n",
      "Epoch  15: | Train loss: 0.76184 | Val loss: 1.36448 | Train Accuracy: 0.7460 | Val Accuracy: 0.5480 | epoch time: 10.946 |\n",
      "Epoch  16: | Train loss: 0.72546 | Val loss: 1.37318 | Train Accuracy: 0.7591 | Val Accuracy: 0.5496 | epoch time: 10.956 |\n",
      "Epoch  17: | Train loss: 0.69143 | Val loss: 1.38798 | Train Accuracy: 0.7703 | Val Accuracy: 0.5497 | epoch time: 11.195 |\n",
      "Epoch  18: | Train loss: 0.65859 | Val loss: 1.41985 | Train Accuracy: 0.7846 | Val Accuracy: 0.5432 | epoch time: 11.284 |\n",
      "Epoch  19: | Train loss: 0.62532 | Val loss: 1.43764 | Train Accuracy: 0.7965 | Val Accuracy: 0.5522 | epoch time: 11.259 |\n"
     ]
    }
   ],
   "source": [
    "%matplotlib notebook\n",
    "\n",
    "oModel = GetModel().to(device)\n",
    "oOptim = optim.AdamW(oModel.parameters(), lr=1e-4, betas=(0.9, 0.99), weight_decay=1e-4)\n",
    "vValLoss1, vValAccuracy1 = TrainModel(oModel, oTrainDL, oTestDL, LossFunc, 20, oOptim)"
   ]
  },
  {
   "cell_type": "markdown",
   "metadata": {},
   "source": [
    "### Exercise:\n",
    "* Use the California housing dataset `fetch_california_housing`.\n",
    "* Replace the cross-entropy loss with the MSE loss, that is:\n",
    "$$\\ell_{i}=\\left(\\hat{y}_{i}-y_{i}\\right)^{2}$$\n",
    "where $y_{i}\\in\\mathbb{R}$ is the true value and $\\hat{y}_{i}\\in\\mathbb{R}$\n",
    "is the model output.\n",
    "* Replace the classification accuracy with R2 score.\n",
    "* Try to get the best MSE\\R2 score you can.\n",
    "* You should test different models (layers\\activations) and hyper-parameters.\n",
    "* Try different optimizers and regularizations.\n",
    "* Make sure your results are better than linear regression (and also better than your previous assignment).  \n",
    "  $R_2 > 0.85$ (on the validation set) is quite good."
   ]
  },
  {
   "cell_type": "markdown",
   "metadata": {
    "slideshow": {
     "slide_type": "slide"
    }
   },
   "source": [
    "### Download dataset:"
   ]
  },
  {
   "cell_type": "code",
   "execution_count": 28,
   "metadata": {
    "slideshow": {
     "slide_type": "fragment"
    }
   },
   "outputs": [
    {
     "data": {
      "text/plain": [
       "((20640, 8), (20640,))"
      ]
     },
     "execution_count": 28,
     "metadata": {},
     "output_type": "execute_result"
    }
   ],
   "source": [
    "from sklearn.datasets import fetch_california_housing\n",
    "\n",
    "mX, vY  = fetch_california_housing(return_X_y=True)\n",
    "mX     -= np.mean(mX, axis=0)\n",
    "mX     /= np.std (mX, axis=0)\n",
    "\n",
    "mX.shape, vY.shape"
   ]
  },
  {
   "cell_type": "code",
   "execution_count": 29,
   "metadata": {},
   "outputs": [
    {
     "data": {
      "text/plain": [
       "((15000, 8), (15000,), (5640, 8), (5640,))"
      ]
     },
     "execution_count": 29,
     "metadata": {},
     "output_type": "execute_result"
    }
   ],
   "source": [
    "from sklearn.model_selection import train_test_split\n",
    "\n",
    "Ntrain  = 15000\n",
    "Ntest   = 5640\n",
    "vIdx    = np.random.choice(Ntrain + Ntest, Ntrain + Ntest)\n",
    "mX      = mX[vIdx,:]\n",
    "vY      = vY[vIdx]\n",
    "\n",
    "mTrainX, mTestX, vTrainY, vTestY = train_test_split(mX, vY, train_size=Ntrain, test_size=Ntest)\n",
    "\n",
    "(mTrainX.shape, \n",
    "vTrainY.shape, \n",
    "mTestX.shape,  \n",
    "vTestY.shape)"
   ]
  },
  {
   "cell_type": "code",
   "execution_count": 30,
   "metadata": {},
   "outputs": [
    {
     "name": "stdout",
     "output_type": "stream",
     "text": [
      "Object `?` not found.\n"
     ]
    }
   ],
   "source": [
    "???"
   ]
  },
  {
   "cell_type": "code",
   "execution_count": 31,
   "metadata": {},
   "outputs": [
    {
     "name": "stdout",
     "output_type": "stream",
     "text": [
      "Object `?` not found.\n"
     ]
    }
   ],
   "source": [
    "???"
   ]
  },
  {
   "cell_type": "code",
   "execution_count": 32,
   "metadata": {},
   "outputs": [
    {
     "ename": "RuntimeError",
     "evalue": "mat1 dim 1 must match mat2 dim 0",
     "output_type": "error",
     "traceback": [
      "\u001b[1;31m---------------------------------------------------------------------------\u001b[0m",
      "\u001b[1;31mRuntimeError\u001b[0m                              Traceback (most recent call last)",
      "\u001b[1;32m<ipython-input-32-af72bc0f8a2a>\u001b[0m in \u001b[0;36m<module>\u001b[1;34m\u001b[0m\n\u001b[0;32m      4\u001b[0m \u001b[1;33m\u001b[0m\u001b[0m\n\u001b[0;32m      5\u001b[0m \u001b[1;31m#-- Apply model to data:\u001b[0m\u001b[1;33m\u001b[0m\u001b[1;33m\u001b[0m\u001b[1;33m\u001b[0m\u001b[0m\n\u001b[1;32m----> 6\u001b[1;33m \u001b[0mvHatTrainY\u001b[0m \u001b[1;33m=\u001b[0m \u001b[0moModel\u001b[0m\u001b[1;33m(\u001b[0m\u001b[0mtorch\u001b[0m\u001b[1;33m.\u001b[0m\u001b[0mtensor\u001b[0m\u001b[1;33m(\u001b[0m\u001b[0mmTrainX\u001b[0m\u001b[1;33m,\u001b[0m \u001b[0mdtype\u001b[0m\u001b[1;33m=\u001b[0m\u001b[0mtorch\u001b[0m\u001b[1;33m.\u001b[0m\u001b[0mfloat32\u001b[0m\u001b[1;33m)\u001b[0m\u001b[1;33m.\u001b[0m\u001b[0mcuda\u001b[0m\u001b[1;33m(\u001b[0m\u001b[1;33m)\u001b[0m\u001b[1;33m)\u001b[0m\u001b[1;33m.\u001b[0m\u001b[0msqueeze\u001b[0m\u001b[1;33m(\u001b[0m\u001b[1;33m)\u001b[0m\u001b[1;33m\u001b[0m\u001b[1;33m\u001b[0m\u001b[0m\n\u001b[0m\u001b[0;32m      7\u001b[0m \u001b[0mvHatTestY\u001b[0m  \u001b[1;33m=\u001b[0m \u001b[0moModel\u001b[0m\u001b[1;33m(\u001b[0m\u001b[0mtorch\u001b[0m\u001b[1;33m.\u001b[0m\u001b[0mtensor\u001b[0m\u001b[1;33m(\u001b[0m\u001b[0mmTestX\u001b[0m\u001b[1;33m,\u001b[0m  \u001b[0mdtype\u001b[0m\u001b[1;33m=\u001b[0m\u001b[0mtorch\u001b[0m\u001b[1;33m.\u001b[0m\u001b[0mfloat32\u001b[0m\u001b[1;33m)\u001b[0m\u001b[1;33m.\u001b[0m\u001b[0mcuda\u001b[0m\u001b[1;33m(\u001b[0m\u001b[1;33m)\u001b[0m\u001b[1;33m)\u001b[0m\u001b[1;33m.\u001b[0m\u001b[0msqueeze\u001b[0m\u001b[1;33m(\u001b[0m\u001b[1;33m)\u001b[0m\u001b[1;33m\u001b[0m\u001b[1;33m\u001b[0m\u001b[0m\n\u001b[0;32m      8\u001b[0m \u001b[1;33m\u001b[0m\u001b[0m\n",
      "\u001b[1;32m~\\anaconda3\\lib\\site-packages\\torch\\nn\\modules\\module.py\u001b[0m in \u001b[0;36m_call_impl\u001b[1;34m(self, *input, **kwargs)\u001b[0m\n\u001b[0;32m    720\u001b[0m             \u001b[0mresult\u001b[0m \u001b[1;33m=\u001b[0m \u001b[0mself\u001b[0m\u001b[1;33m.\u001b[0m\u001b[0m_slow_forward\u001b[0m\u001b[1;33m(\u001b[0m\u001b[1;33m*\u001b[0m\u001b[0minput\u001b[0m\u001b[1;33m,\u001b[0m \u001b[1;33m**\u001b[0m\u001b[0mkwargs\u001b[0m\u001b[1;33m)\u001b[0m\u001b[1;33m\u001b[0m\u001b[1;33m\u001b[0m\u001b[0m\n\u001b[0;32m    721\u001b[0m         \u001b[1;32melse\u001b[0m\u001b[1;33m:\u001b[0m\u001b[1;33m\u001b[0m\u001b[1;33m\u001b[0m\u001b[0m\n\u001b[1;32m--> 722\u001b[1;33m             \u001b[0mresult\u001b[0m \u001b[1;33m=\u001b[0m \u001b[0mself\u001b[0m\u001b[1;33m.\u001b[0m\u001b[0mforward\u001b[0m\u001b[1;33m(\u001b[0m\u001b[1;33m*\u001b[0m\u001b[0minput\u001b[0m\u001b[1;33m,\u001b[0m \u001b[1;33m**\u001b[0m\u001b[0mkwargs\u001b[0m\u001b[1;33m)\u001b[0m\u001b[1;33m\u001b[0m\u001b[1;33m\u001b[0m\u001b[0m\n\u001b[0m\u001b[0;32m    723\u001b[0m         for hook in itertools.chain(\n\u001b[0;32m    724\u001b[0m                 \u001b[0m_global_forward_hooks\u001b[0m\u001b[1;33m.\u001b[0m\u001b[0mvalues\u001b[0m\u001b[1;33m(\u001b[0m\u001b[1;33m)\u001b[0m\u001b[1;33m,\u001b[0m\u001b[1;33m\u001b[0m\u001b[1;33m\u001b[0m\u001b[0m\n",
      "\u001b[1;32m~\\anaconda3\\lib\\site-packages\\torch\\nn\\modules\\container.py\u001b[0m in \u001b[0;36mforward\u001b[1;34m(self, input)\u001b[0m\n\u001b[0;32m    115\u001b[0m     \u001b[1;32mdef\u001b[0m \u001b[0mforward\u001b[0m\u001b[1;33m(\u001b[0m\u001b[0mself\u001b[0m\u001b[1;33m,\u001b[0m \u001b[0minput\u001b[0m\u001b[1;33m)\u001b[0m\u001b[1;33m:\u001b[0m\u001b[1;33m\u001b[0m\u001b[1;33m\u001b[0m\u001b[0m\n\u001b[0;32m    116\u001b[0m         \u001b[1;32mfor\u001b[0m \u001b[0mmodule\u001b[0m \u001b[1;32min\u001b[0m \u001b[0mself\u001b[0m\u001b[1;33m:\u001b[0m\u001b[1;33m\u001b[0m\u001b[1;33m\u001b[0m\u001b[0m\n\u001b[1;32m--> 117\u001b[1;33m             \u001b[0minput\u001b[0m \u001b[1;33m=\u001b[0m \u001b[0mmodule\u001b[0m\u001b[1;33m(\u001b[0m\u001b[0minput\u001b[0m\u001b[1;33m)\u001b[0m\u001b[1;33m\u001b[0m\u001b[1;33m\u001b[0m\u001b[0m\n\u001b[0m\u001b[0;32m    118\u001b[0m         \u001b[1;32mreturn\u001b[0m \u001b[0minput\u001b[0m\u001b[1;33m\u001b[0m\u001b[1;33m\u001b[0m\u001b[0m\n\u001b[0;32m    119\u001b[0m \u001b[1;33m\u001b[0m\u001b[0m\n",
      "\u001b[1;32m~\\anaconda3\\lib\\site-packages\\torch\\nn\\modules\\module.py\u001b[0m in \u001b[0;36m_call_impl\u001b[1;34m(self, *input, **kwargs)\u001b[0m\n\u001b[0;32m    720\u001b[0m             \u001b[0mresult\u001b[0m \u001b[1;33m=\u001b[0m \u001b[0mself\u001b[0m\u001b[1;33m.\u001b[0m\u001b[0m_slow_forward\u001b[0m\u001b[1;33m(\u001b[0m\u001b[1;33m*\u001b[0m\u001b[0minput\u001b[0m\u001b[1;33m,\u001b[0m \u001b[1;33m**\u001b[0m\u001b[0mkwargs\u001b[0m\u001b[1;33m)\u001b[0m\u001b[1;33m\u001b[0m\u001b[1;33m\u001b[0m\u001b[0m\n\u001b[0;32m    721\u001b[0m         \u001b[1;32melse\u001b[0m\u001b[1;33m:\u001b[0m\u001b[1;33m\u001b[0m\u001b[1;33m\u001b[0m\u001b[0m\n\u001b[1;32m--> 722\u001b[1;33m             \u001b[0mresult\u001b[0m \u001b[1;33m=\u001b[0m \u001b[0mself\u001b[0m\u001b[1;33m.\u001b[0m\u001b[0mforward\u001b[0m\u001b[1;33m(\u001b[0m\u001b[1;33m*\u001b[0m\u001b[0minput\u001b[0m\u001b[1;33m,\u001b[0m \u001b[1;33m**\u001b[0m\u001b[0mkwargs\u001b[0m\u001b[1;33m)\u001b[0m\u001b[1;33m\u001b[0m\u001b[1;33m\u001b[0m\u001b[0m\n\u001b[0m\u001b[0;32m    723\u001b[0m         for hook in itertools.chain(\n\u001b[0;32m    724\u001b[0m                 \u001b[0m_global_forward_hooks\u001b[0m\u001b[1;33m.\u001b[0m\u001b[0mvalues\u001b[0m\u001b[1;33m(\u001b[0m\u001b[1;33m)\u001b[0m\u001b[1;33m,\u001b[0m\u001b[1;33m\u001b[0m\u001b[1;33m\u001b[0m\u001b[0m\n",
      "\u001b[1;32m~\\anaconda3\\lib\\site-packages\\torch\\nn\\modules\\linear.py\u001b[0m in \u001b[0;36mforward\u001b[1;34m(self, input)\u001b[0m\n\u001b[0;32m     89\u001b[0m \u001b[1;33m\u001b[0m\u001b[0m\n\u001b[0;32m     90\u001b[0m     \u001b[1;32mdef\u001b[0m \u001b[0mforward\u001b[0m\u001b[1;33m(\u001b[0m\u001b[0mself\u001b[0m\u001b[1;33m,\u001b[0m \u001b[0minput\u001b[0m\u001b[1;33m:\u001b[0m \u001b[0mTensor\u001b[0m\u001b[1;33m)\u001b[0m \u001b[1;33m->\u001b[0m \u001b[0mTensor\u001b[0m\u001b[1;33m:\u001b[0m\u001b[1;33m\u001b[0m\u001b[1;33m\u001b[0m\u001b[0m\n\u001b[1;32m---> 91\u001b[1;33m         \u001b[1;32mreturn\u001b[0m \u001b[0mF\u001b[0m\u001b[1;33m.\u001b[0m\u001b[0mlinear\u001b[0m\u001b[1;33m(\u001b[0m\u001b[0minput\u001b[0m\u001b[1;33m,\u001b[0m \u001b[0mself\u001b[0m\u001b[1;33m.\u001b[0m\u001b[0mweight\u001b[0m\u001b[1;33m,\u001b[0m \u001b[0mself\u001b[0m\u001b[1;33m.\u001b[0m\u001b[0mbias\u001b[0m\u001b[1;33m)\u001b[0m\u001b[1;33m\u001b[0m\u001b[1;33m\u001b[0m\u001b[0m\n\u001b[0m\u001b[0;32m     92\u001b[0m \u001b[1;33m\u001b[0m\u001b[0m\n\u001b[0;32m     93\u001b[0m     \u001b[1;32mdef\u001b[0m \u001b[0mextra_repr\u001b[0m\u001b[1;33m(\u001b[0m\u001b[0mself\u001b[0m\u001b[1;33m)\u001b[0m \u001b[1;33m->\u001b[0m \u001b[0mstr\u001b[0m\u001b[1;33m:\u001b[0m\u001b[1;33m\u001b[0m\u001b[1;33m\u001b[0m\u001b[0m\n",
      "\u001b[1;32m~\\anaconda3\\lib\\site-packages\\torch\\nn\\functional.py\u001b[0m in \u001b[0;36mlinear\u001b[1;34m(input, weight, bias)\u001b[0m\n\u001b[0;32m   1672\u001b[0m     \u001b[1;32mif\u001b[0m \u001b[0minput\u001b[0m\u001b[1;33m.\u001b[0m\u001b[0mdim\u001b[0m\u001b[1;33m(\u001b[0m\u001b[1;33m)\u001b[0m \u001b[1;33m==\u001b[0m \u001b[1;36m2\u001b[0m \u001b[1;32mand\u001b[0m \u001b[0mbias\u001b[0m \u001b[1;32mis\u001b[0m \u001b[1;32mnot\u001b[0m \u001b[1;32mNone\u001b[0m\u001b[1;33m:\u001b[0m\u001b[1;33m\u001b[0m\u001b[1;33m\u001b[0m\u001b[0m\n\u001b[0;32m   1673\u001b[0m         \u001b[1;31m# fused op is marginally faster\u001b[0m\u001b[1;33m\u001b[0m\u001b[1;33m\u001b[0m\u001b[1;33m\u001b[0m\u001b[0m\n\u001b[1;32m-> 1674\u001b[1;33m         \u001b[0mret\u001b[0m \u001b[1;33m=\u001b[0m \u001b[0mtorch\u001b[0m\u001b[1;33m.\u001b[0m\u001b[0maddmm\u001b[0m\u001b[1;33m(\u001b[0m\u001b[0mbias\u001b[0m\u001b[1;33m,\u001b[0m \u001b[0minput\u001b[0m\u001b[1;33m,\u001b[0m \u001b[0mweight\u001b[0m\u001b[1;33m.\u001b[0m\u001b[0mt\u001b[0m\u001b[1;33m(\u001b[0m\u001b[1;33m)\u001b[0m\u001b[1;33m)\u001b[0m\u001b[1;33m\u001b[0m\u001b[1;33m\u001b[0m\u001b[0m\n\u001b[0m\u001b[0;32m   1675\u001b[0m     \u001b[1;32melse\u001b[0m\u001b[1;33m:\u001b[0m\u001b[1;33m\u001b[0m\u001b[1;33m\u001b[0m\u001b[0m\n\u001b[0;32m   1676\u001b[0m         \u001b[0moutput\u001b[0m \u001b[1;33m=\u001b[0m \u001b[0minput\u001b[0m\u001b[1;33m.\u001b[0m\u001b[0mmatmul\u001b[0m\u001b[1;33m(\u001b[0m\u001b[0mweight\u001b[0m\u001b[1;33m.\u001b[0m\u001b[0mt\u001b[0m\u001b[1;33m(\u001b[0m\u001b[1;33m)\u001b[0m\u001b[1;33m)\u001b[0m\u001b[1;33m\u001b[0m\u001b[1;33m\u001b[0m\u001b[0m\n",
      "\u001b[1;31mRuntimeError\u001b[0m: mat1 dim 1 must match mat2 dim 0"
     ]
    }
   ],
   "source": [
    "#%matplotlib inline\n",
    "\n",
    "from sklearn.metrics import r2_score\n",
    "\n",
    "#-- Apply model to data:\n",
    "vHatTrainY = oModel(torch.tensor(mTrainX, dtype=torch.float32).cuda()).squeeze()\n",
    "vHatTestY  = oModel(torch.tensor(mTestX,  dtype=torch.float32).cuda()).squeeze()\n",
    "\n",
    "_, ax = plt.subplots(1, 2, figsize=(16,7))\n",
    "\n",
    "ax[0].scatter(vTrainY, vHatTrainY, s=10, c='b', edgecolor=None)\n",
    "ax[1].scatter(vTestY,  vHatTestY,  s=10, c='b', edgecolor=None)\n",
    "ax[0].plot(vTrainY,    vTrainY, ':k')\n",
    "ax[1].plot(vTestY,     vTestY, ':k')\n",
    "ax[0].set_title('Train R2 score: ' + str(R2Score(vHatY, vY)(vTrainY, vHatTrainY)))\n",
    "ax[1].set_title('Train R2 score: ' + str(R2Score(vHatY, vY)(vTestY,  vHatTestY)))\n",
    "plt.tight_layout()\n",
    "plt.show()"
   ]
  },
  {
   "cell_type": "code",
   "execution_count": null,
   "metadata": {},
   "outputs": [],
   "source": []
  }
 ],
 "metadata": {
  "celltoolbar": "Slideshow",
  "kernelspec": {
   "display_name": "Python 3",
   "language": "python",
   "name": "python3"
  },
  "language_info": {
   "codemirror_mode": {
    "name": "ipython",
    "version": 3
   },
   "file_extension": ".py",
   "mimetype": "text/x-python",
   "name": "python",
   "nbconvert_exporter": "python",
   "pygments_lexer": "ipython3",
   "version": "3.8.6"
  },
  "toc": {
   "base_numbering": 1,
   "nav_menu": {},
   "number_sections": false,
   "sideBar": true,
   "skip_h1_title": false,
   "title_cell": "Table of Contents",
   "title_sidebar": "Contents",
   "toc_cell": false,
   "toc_position": {},
   "toc_section_display": true,
   "toc_window_display": false
  },
  "varInspector": {
   "cols": {
    "lenName": 16,
    "lenType": 16,
    "lenVar": 40
   },
   "kernels_config": {
    "python": {
     "delete_cmd_postfix": "",
     "delete_cmd_prefix": "del ",
     "library": "var_list.py",
     "varRefreshCmd": "print(var_dic_list())"
    },
    "r": {
     "delete_cmd_postfix": ") ",
     "delete_cmd_prefix": "rm(",
     "library": "var_list.r",
     "varRefreshCmd": "cat(var_dic_list()) "
    }
   },
   "oldHeight": 413,
   "position": {
    "height": "435px",
    "left": "1650px",
    "right": "20px",
    "top": "120px",
    "width": "250px"
   },
   "types_to_exclude": [
    "module",
    "function",
    "builtin_function_or_method",
    "instance",
    "_Feature"
   ],
   "varInspector_section_display": "block",
   "window_display": true
  }
 },
 "nbformat": 4,
 "nbformat_minor": 4
}
