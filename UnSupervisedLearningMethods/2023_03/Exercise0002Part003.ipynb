{
 "cells": [
  {
   "attachments": {},
   "cell_type": "markdown",
   "metadata": {},
   "source": [
    "![](https://i.imgur.com/qkg2E2D.png)\n",
    "\n",
    "# UnSupervised Learning Methods\n",
    "\n",
    "## Exercise 002 - Part III\n",
    "\n",
    "> Notebook by:\n",
    "> - Royi Avital RoyiAvital@fixelalgorithms.com\n",
    "\n",
    "## Revision History\n",
    "\n",
    "| Version | Date       | User        |Content / Changes                                                   |\n",
    "|---------|------------|-------------|--------------------------------------------------------------------|\n",
    "| 0.1.000 | 01/04/2023 | Royi Avital | First version                                                      |\n",
    "|         |            |             |                                                                    |"
   ]
  },
  {
   "attachments": {},
   "cell_type": "markdown",
   "metadata": {},
   "source": [
    "[![Open In Colab](https://colab.research.google.com/assets/colab-badge.svg)](https://colab.research.google.com/github/FixelAlgorithmsTeam/FixelCourses/blob/master/UnSupervisedLearningMethods/2023_03/Exercise0002Part003.ipynb)"
   ]
  },
  {
   "cell_type": "code",
   "execution_count": null,
   "metadata": {
    "ExecuteTime": {
     "end_time": "2022-02-02T09:30:06.492269Z",
     "start_time": "2022-02-02T09:30:06.220934Z"
    }
   },
   "outputs": [],
   "source": [
    "# Import Packages\n",
    "\n",
    "# General Tools\n",
    "import numpy as np\n",
    "import scipy as sp\n",
    "\n",
    "# Machine Learning\n",
    "\n",
    "# Computer Vision\n",
    "\n",
    "# Statistics\n",
    "from scipy.stats import multivariate_normal as MVN\n",
    "\n",
    "# Miscellaneous\n",
    "import os\n",
    "import math\n",
    "from platform import python_version\n",
    "import random\n",
    "import time\n",
    "import urllib.request\n",
    "\n",
    "# Typing\n",
    "from typing import Callable, List, Tuple, Union\n",
    "\n",
    "# Visualization\n",
    "import matplotlib.pyplot as plt\n",
    "import seaborn as sns\n",
    "\n",
    "# Jupyter\n",
    "from IPython import get_ipython\n",
    "from IPython.display import Image, display\n",
    "from ipywidgets import Dropdown, FloatSlider, interact, IntSlider, Layout"
   ]
  },
  {
   "attachments": {},
   "cell_type": "markdown",
   "metadata": {},
   "source": [
    "## Notations\n",
    "\n",
    "* <font color='red'>(**?**)</font> Question to answer interactively.\n",
    "* <font color='blue'>(**!**)</font> Simple task to add code for the notebook.\n",
    "* <font color='green'>(**@**)</font> Optional / Extra self practice.\n",
    "* <font color='brown'>(**#**)</font> Note / Useful resource / Food for thought."
   ]
  },
  {
   "cell_type": "code",
   "execution_count": null,
   "metadata": {},
   "outputs": [],
   "source": [
    "# Configuration\n",
    "#%matplotlib inline\n",
    "\n",
    "seedNum = 512\n",
    "np.random.seed(seedNum)\n",
    "random.seed(seedNum)\n",
    "\n",
    "# sns.set_theme() #>! Apply SeaBorn theme\n",
    "\n",
    "runInGoogleColab = 'google.colab' in str(get_ipython())"
   ]
  },
  {
   "cell_type": "code",
   "execution_count": null,
   "metadata": {},
   "outputs": [],
   "source": [
    "# Constants\n",
    "\n",
    "DATA_FILE_URL   = r''\n",
    "DATA_FILE_NAME  = r''\n"
   ]
  },
  {
   "attachments": {},
   "cell_type": "markdown",
   "metadata": {},
   "source": [
    "## Guidelines\n",
    "\n",
    " - Fill the full names and ID's of the team members in the `Team Members` section.\n",
    " - Answer all questions / tasks within the Jupyter Notebook.\n",
    " - Use MarkDown + MathJaX + Code to answer.\n",
    " - Verify the rendering on VS Code.\n",
    " - Submission in groups (Single submission per group).\n",
    " - You may and _should_ use the forums for questions.\n",
    " - Good Luck!"
   ]
  },
  {
   "attachments": {},
   "cell_type": "markdown",
   "metadata": {},
   "source": [
    "* <font color='brown'>(**#**)</font> The `Import Packages` section above imports most needed tools to apply the work. Please use it.\n",
    "* <font color='brown'>(**#**)</font> You may replace the suggested functions to use with functions from other packages.\n",
    "* <font color='brown'>(**#**)</font> Whatever not said explicitly to implement maybe used by a 3rd party packages."
   ]
  },
  {
   "attachments": {},
   "cell_type": "markdown",
   "metadata": {},
   "source": [
    "## Team Members\n",
    "\n",
    " - `<FULL>_<NAME>_<ID001>`.\n",
    " - `<FULL>_<NAME>_<ID002>`."
   ]
  },
  {
   "attachments": {},
   "cell_type": "markdown",
   "metadata": {},
   "source": [
    "## Generate / Load Data"
   ]
  },
  {
   "cell_type": "code",
   "execution_count": null,
   "metadata": {},
   "outputs": [],
   "source": [
    "# Generate / Load Data\n",
    "\n",
    "N1    = 250\n",
    "N2    = 150\n",
    "N3    = 200\n",
    "\n",
    "vMu1  = np.array([0, 0  ])\n",
    "vMu2  = np.array([2, 0.5])\n",
    "vMu3  = np.array([4, 1  ])\n",
    "\n",
    "mSig1 = 0.5 * np.array([[1.00, 1.25],\n",
    "                       [1.25, 2.00]])\n",
    "\n",
    "mSig2 = 0.5 * np.array([[ 1.00, -1.25],\n",
    "                       [-1.25,  2.00]])\n",
    "\n",
    "mSig3 = 0.5 * np.array([[1.00, 1.25],\n",
    "                       [1.25, 2.00]])\n",
    "\n",
    "mX1 = MVN.rvs(mean = vMu1, cov = mSig1, size = N1)\n",
    "mX2 = MVN.rvs(mean = vMu2, cov = mSig2, size = N2)\n",
    "mX3 = MVN.rvs(mean = vMu3, cov = mSig3, size = N3)\n",
    "mX  = np.r_[mX1, mX2, mX3]\n"
   ]
  },
  {
   "cell_type": "code",
   "execution_count": null,
   "metadata": {},
   "outputs": [],
   "source": [
    "# Plot Data\n",
    "hF, hA = plt.subplots(figsize = (6, 6))\n",
    "\n",
    "hA.scatter(mX[:, 0], mX[:, 1], s = 50, edgecolors = 'k', color = 'b')\n",
    "hA.axis('equal')\n",
    "hA.set_title('Input Data')\n",
    "hA.set_xlabel('${x}_{1}$')\n",
    "hA.set_ylabel('${x}_{2}$')\n",
    "\n",
    "plt.show()"
   ]
  },
  {
   "attachments": {},
   "cell_type": "markdown",
   "metadata": {},
   "source": [
    "## 7. Clustering by Gaussian Mixture Model (GMM)\n",
    "\n",
    "### 7.1. GMM Algorithm\n",
    "\n",
    "The GMM algorithm aims to maximize the (log) likelihood objective:\n",
    "$$\\arg\\max_{\\left\\{ \\left(w_{k},\\boldsymbol{\\mu}_{k},\\boldsymbol{\\Sigma}_{k}\\right)\\right\\} _{k=1}^{K}}f=\\arg\\max_{\\left\\{ \\left(w_{k},\\boldsymbol{\\mu}_{k},\\boldsymbol{\\Sigma}_{k}\\right)\\right\\} _{k=1}^{K}}\\sum_{i=1}^{N}\\log\\left(\\sum_{k=1}^{K}w_{k}\\mathcal{N}\\left(\\boldsymbol{x}_{i};\\boldsymbol{\\mu}_{k},\\boldsymbol{\\Sigma}_{k}\\right)\\right)$$\n",
    "\n",
    "In this section you should implement:\n",
    "\n",
    "1. `InitGmm()` - Given a data set and number of clusters it sets the initialization of the `GMM` algorithm:  \n",
    "   - `mμ` - Should be initialized by the [`K-Means++`](https://en.wikipedia.org/wiki/K-means%2B%2B) algorithm.\n",
    "   - `tΣ` - Should be initialized by diagonal matrices with the data variance on the diagonal (A scalar matrix).\n",
    "   - `vW` - Should be initialized with a uniform distribution.  \n",
    "2. `CalcGmmObj()` - Given a data set and set of parameters it calculate the value of the GMM objective function.\n",
    "3. `GMM()` - Given a data set and initialization applies the GMM algorithm.  \n",
    "The stopping criteria should be number of iterations or minimal improvement in the objective function.\n",
    "\n",
    "* <font color='brown'>(**#**)</font> Implementation should be efficient (Memory and operations). Total run time expected to be **less than 60 seconds**.\n",
    "* <font color='brown'>(**#**)</font> You may use the `scipy.stats.multivariate_normal` class.\n",
    "\n"
   ]
  },
  {
   "cell_type": "code",
   "execution_count": null,
   "metadata": {},
   "outputs": [],
   "source": [
    "#===========================Fill This===========================#\n",
    "def InitGmm(mX: np.ndarray, K: int, seedNum: int = 123) -> np.ndarray:\n",
    "    '''\n",
    "    GMM algorithm initialization.\n",
    "    Args:\n",
    "        mX          - Input data with shape N x d.\n",
    "        K           - Number of clusters.\n",
    "        seedNum     - Seed number used.\n",
    "    Output:\n",
    "        mμ          - The initial mean vectors with shape K x d.\n",
    "        tΣ          - The initial covariance matrices with shape (d x d x K).\n",
    "        vW          - The initial weights of the GMM with shape K.\n",
    "    Remarks:\n",
    "        - Given the same parameters, including the `seedNum` the algorithm must be reproducible.\n",
    "        - mμ Should be initialized by the K-Means++ algorithm.\n",
    "    '''\n",
    "\n",
    "    pass\n",
    "#===============================================================#"
   ]
  },
  {
   "cell_type": "code",
   "execution_count": null,
   "metadata": {},
   "outputs": [],
   "source": [
    "#===========================Fill This===========================#\n",
    "def CalcGmmObj(mX: np.ndarray, mμ: np.ndarray, tΣ: np.ndarray, vW: np.ndarray) -> float:\n",
    "    '''\n",
    "    GMM algorithm objective function.\n",
    "    Args:\n",
    "        mX          - The data with shape N x d.\n",
    "        mμ          - The initial mean vectors with shape K x d.\n",
    "        tΣ          - The initial covariance matrices with shape (d x d x K).\n",
    "        vW          - The initial weights of the GMM with shape K.\n",
    "    Output:\n",
    "        objVal      - The value of the objective function of the GMM.\n",
    "    Remarks:\n",
    "        - A\n",
    "    '''\n",
    "\n",
    "    pass\n",
    "#===============================================================#"
   ]
  },
  {
   "cell_type": "code",
   "execution_count": null,
   "metadata": {},
   "outputs": [],
   "source": [
    "#===========================Fill This===========================#\n",
    "def GMM(mX: np.ndarray, mμ: np.ndarray, tΣ: np.ndarray, vW: np.ndarray, numIter: int = 1000, stopThr: float = 1e-5) -> np.ndarray:\n",
    "    '''\n",
    "    GMM algorithm.\n",
    "    Args:\n",
    "        mX          - Input data with shape N x d.\n",
    "        mμ          - The initial mean vectors with shape K x d.\n",
    "        tΣ          - The initial covariance matrices with shape (d x d x K).\n",
    "        vW          - The initial weights of the GMM with shape K.\n",
    "        numIter     - Number of iterations.\n",
    "        stopThr     - Stopping threshold.\n",
    "    Output:\n",
    "        mμ          - The final mean vectors with shape K x d.\n",
    "        tΣ          - The final covariance matrices with shape (d x d x K).\n",
    "        vW          - The final weights of the GMM with shape K.\n",
    "        vL          - The labels (0, 1, .., K - 1) per sample with shape (N, )\n",
    "        lO          - The objective function value per iterations (List).\n",
    "    Remarks:\n",
    "        - The maximum number of iterations must be `numIter`.\n",
    "        - If the objective value of the algorithm doesn't improve by at least `stopThr` the iterations should stop.\n",
    "    '''\n",
    "\n",
    "    pass\n",
    "#===============================================================#"
   ]
  },
  {
   "attachments": {},
   "cell_type": "markdown",
   "metadata": {},
   "source": [
    "### 7.2. Clustering the Data Set\n",
    "\n",
    "In this section we'll compare the output of the GMM to the K-Means on the data set.\n",
    "The tasks are:\n",
    "\n",
    "1. Create a file called `CourseAuxFun.py`.  \n",
    "   Copy the functions of the functions related to the GMM and K-Means into it.\n",
    "2. Import the functions using `from CourseAuxFun.py import *`.\n",
    "3. Using **the same** initialization (`mC` and `mμ`), compare the results of the the K-Means and GMM algorithm.\n",
    "4. Plot the objective function of the GMM as a function of the iteration.\n",
    "5. Write a short answer why the results are different."
   ]
  },
  {
   "cell_type": "code",
   "execution_count": null,
   "metadata": {},
   "outputs": [],
   "source": [
    "#===========================Fill This===========================#\n",
    "# 1. Set the clustering parameters.\n",
    "# 2. Apply the GMM algorithm.\n",
    "\n",
    "???\n",
    "#===============================================================#\n"
   ]
  },
  {
   "cell_type": "code",
   "execution_count": null,
   "metadata": {},
   "outputs": [],
   "source": [
    "#===========================Fill This===========================#\n",
    "# 1. Plot the clustered data.\n",
    "# 2. Plot the objective function as a function of the iterations.\n",
    "# !! You may plot in a single figure (Sub Plots).\n",
    "\n",
    "???\n",
    "#===============================================================#"
   ]
  },
  {
   "attachments": {},
   "cell_type": "markdown",
   "metadata": {},
   "source": [
    "### 7.3. GMM vs. K-Means\n",
    "\n",
    "K-Means is known to be a private case of GMM.  \n",
    "The following questions try to understand the connection between the 2.\n",
    "\n",
    " 1. How does the parameters of the GMM algorithm should be set to have the K-Means?\n",
    " 2. How should the data in (7.2) be altered in order to K-Means perform on it like the GMM?  \n",
    "    Assume you know exactly how it was generated.\n",
    "\n",
    "You may use coding to verify and show the results."
   ]
  },
  {
   "attachments": {},
   "cell_type": "markdown",
   "metadata": {},
   "source": [
    "### 7.3. Solution\n",
    "\n",
    "<font color='red'>??? Fill the answer here ???</font>\n",
    "\n",
    "---"
   ]
  }
 ],
 "metadata": {
  "kernelspec": {
   "display_name": "Python 3",
   "language": "python",
   "name": "python3"
  },
  "language_info": {
   "codemirror_mode": {
    "name": "ipython",
    "version": 3
   },
   "file_extension": ".py",
   "mimetype": "text/x-python",
   "name": "python",
   "nbconvert_exporter": "python",
   "pygments_lexer": "ipython3",
   "version": "3.10.9"
  },
  "toc": {
   "base_numbering": 1,
   "nav_menu": {},
   "number_sections": false,
   "sideBar": true,
   "skip_h1_title": false,
   "title_cell": "Table of Contents",
   "title_sidebar": "Contents",
   "toc_cell": false,
   "toc_position": {},
   "toc_section_display": true,
   "toc_window_display": true
  },
  "varInspector": {
   "cols": {
    "lenName": 16,
    "lenType": 16,
    "lenVar": 40
   },
   "kernels_config": {
    "python": {
     "delete_cmd_postfix": "",
     "delete_cmd_prefix": "del ",
     "library": "var_list.py",
     "varRefreshCmd": "print(var_dic_list())"
    },
    "r": {
     "delete_cmd_postfix": ") ",
     "delete_cmd_prefix": "rm(",
     "library": "var_list.r",
     "varRefreshCmd": "cat(var_dic_list()) "
    }
   },
   "types_to_exclude": [
    "module",
    "function",
    "builtin_function_or_method",
    "instance",
    "_Feature"
   ],
   "window_display": false
  },
  "vscode": {
   "interpreter": {
    "hash": "39577bab1f263e62e0b74f5b8086bd735049bf4751f6562b2d4b2969dc308293"
   }
  }
 },
 "nbformat": 4,
 "nbformat_minor": 4
}
