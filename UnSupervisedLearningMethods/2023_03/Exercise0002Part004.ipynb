{
 "cells": [
  {
   "attachments": {},
   "cell_type": "markdown",
   "metadata": {},
   "source": [
    "![](https://i.imgur.com/qkg2E2D.png)\n",
    "\n",
    "# UnSupervised Learning Methods\n",
    "\n",
    "## Exercise 002 - Part IV\n",
    "\n",
    "> Notebook by:\n",
    "> - Royi Avital RoyiAvital@fixelalgorithms.com\n",
    "\n",
    "## Revision History\n",
    "\n",
    "| Version | Date       | User        |Content / Changes                                                   |\n",
    "|---------|------------|-------------|--------------------------------------------------------------------|\n",
    "| 0.1.000 | 03/04/2023 | Royi Avital | First version                                                      |\n",
    "|         |            |             |                                                                    |"
   ]
  },
  {
   "attachments": {},
   "cell_type": "markdown",
   "metadata": {},
   "source": [
    "[![Open In Colab](https://colab.research.google.com/assets/colab-badge.svg)](https://colab.research.google.com/github/FixelAlgorithmsTeam/FixelCourses/blob/master/UnSupervisedLearningMethods/2023_03/Exercise0002Part004.ipynb)"
   ]
  },
  {
   "cell_type": "code",
   "execution_count": null,
   "metadata": {
    "ExecuteTime": {
     "end_time": "2022-02-02T09:30:06.492269Z",
     "start_time": "2022-02-02T09:30:06.220934Z"
    }
   },
   "outputs": [],
   "source": [
    "# Import Packages\n",
    "\n",
    "# General Tools\n",
    "import numpy as np\n",
    "import scipy as sp\n",
    "\n",
    "# Machine Learning\n",
    "from sklearn import datasets\n",
    "from sklearn.cluster import AgglomerativeClustering\n",
    "\n",
    "# Computer Vision\n",
    "\n",
    "# Statistics\n",
    "\n",
    "# Miscellaneous\n",
    "import os\n",
    "import math\n",
    "from platform import python_version\n",
    "import random\n",
    "import time\n",
    "import urllib.request\n",
    "\n",
    "# Typing\n",
    "from typing import Callable, List, Tuple, Union\n",
    "\n",
    "# Visualization\n",
    "import matplotlib.pyplot as plt\n",
    "import seaborn as sns\n",
    "\n",
    "# Jupyter\n",
    "from IPython import get_ipython\n",
    "from IPython.display import Image, display\n",
    "from ipywidgets import Dropdown, FloatSlider, interact, IntSlider, Layout"
   ]
  },
  {
   "attachments": {},
   "cell_type": "markdown",
   "metadata": {},
   "source": [
    "## Notations\n",
    "\n",
    "* <font color='red'>(**?**)</font> Question to answer interactively.\n",
    "* <font color='blue'>(**!**)</font> Simple task to add code for the notebook.\n",
    "* <font color='green'>(**@**)</font> Optional / Extra self practice.\n",
    "* <font color='brown'>(**#**)</font> Note / Useful resource / Food for thought."
   ]
  },
  {
   "cell_type": "code",
   "execution_count": null,
   "metadata": {},
   "outputs": [],
   "source": [
    "# Configuration\n",
    "#%matplotlib inline\n",
    "\n",
    "seedNum = 512\n",
    "np.random.seed(seedNum)\n",
    "random.seed(seedNum)\n",
    "\n",
    "# sns.set_theme() #>! Apply SeaBorn theme\n",
    "\n",
    "runInGoogleColab = 'google.colab' in str(get_ipython())"
   ]
  },
  {
   "cell_type": "code",
   "execution_count": null,
   "metadata": {},
   "outputs": [],
   "source": [
    "# Constants\n",
    "\n",
    "DATA_FILE_URL   = r'https://drive.google.com/uc?export=download&confirm=9iBg&id=11YqtdWwZSNE-0KxWAf1ZPINi9-ar56Na'\n",
    "DATA_FILE_NAME  = r'ClusteringData.npy'\n"
   ]
  },
  {
   "attachments": {},
   "cell_type": "markdown",
   "metadata": {},
   "source": [
    "## Guidelines\n",
    "\n",
    " - Fill the full names and ID's of the team members in the `Team Members` section.\n",
    " - Answer all questions / tasks within the Jupyter Notebook.\n",
    " - Use MarkDown + MathJaX + Code to answer.\n",
    " - Verify the rendering on VS Code.\n",
    " - Submission in groups (Single submission per group).\n",
    " - You may and _should_ use the forums for questions.\n",
    " - Good Luck!"
   ]
  },
  {
   "attachments": {},
   "cell_type": "markdown",
   "metadata": {},
   "source": [
    "* <font color='brown'>(**#**)</font> The `Import Packages` section above imports most needed tools to apply the work. Please use it.\n",
    "* <font color='brown'>(**#**)</font> You may replace the suggested functions to use with functions from other packages.\n",
    "* <font color='brown'>(**#**)</font> Whatever not said explicitly to implement maybe used by a 3rd party packages."
   ]
  },
  {
   "attachments": {},
   "cell_type": "markdown",
   "metadata": {},
   "source": [
    "## Team Members\n",
    "\n",
    " - `<FULL>_<NAME>_<ID001>`.\n",
    " - `<FULL>_<NAME>_<ID002>`."
   ]
  },
  {
   "attachments": {},
   "cell_type": "markdown",
   "metadata": {},
   "source": [
    "## Generate / Load Data"
   ]
  },
  {
   "cell_type": "code",
   "execution_count": null,
   "metadata": {},
   "outputs": [],
   "source": [
    "# Download Data\n",
    "# This section downloads data from the given URL if needed.\n",
    "\n",
    "if not os.path.exists(DATA_FILE_NAME):\n",
    "    urllib.request.urlretrieve(DATA_FILE_URL, DATA_FILE_NAME)"
   ]
  },
  {
   "cell_type": "code",
   "execution_count": null,
   "metadata": {},
   "outputs": [],
   "source": [
    "# Generate / Load Data\n",
    "\n",
    "numSamples  = 1000\n",
    "mA          =  np.array([[0.6, -0.6], [-0.4, 0.8]])\n",
    "\n",
    "mX1 = datasets.make_circles(n_samples = numSamples, noise = 0.02)[0]\n",
    "mX2 = datasets.make_moons(n_samples = numSamples, noise = 0.05)[0]\n",
    "mX3 = datasets.make_blobs(n_samples = numSamples, random_state = 170)[0] @ mA\n",
    "mX4 = datasets.make_blobs(n_samples = numSamples, random_state = 170, cluster_std = [0.8, 2, 0.4])[0] \n",
    "mX5 = np.load(DATA_FILE_NAME)\n",
    "\n",
    "lDataSet = [mX1, mX2, mX3, mX4, mX5]\n",
    "numDataSets = len(lDataSet)\n"
   ]
  },
  {
   "cell_type": "code",
   "execution_count": null,
   "metadata": {},
   "outputs": [],
   "source": [
    "# Plot Data\n",
    "hF, hAs = plt.subplots(nrows = 1, ncols = numDataSets, figsize = (18, 5))\n",
    "hAs = hAs.flat\n",
    "\n",
    "for ii, hA in enumerate(hAs):\n",
    "    mX = lDataSet[ii]\n",
    "    hA.scatter(mX[:, 0], mX[:, 1], c = 'lime', s = 15, edgecolor = 'k')\n",
    "    hA.axis('equal')\n",
    "    \n",
    "plt.tight_layout()\n",
    "plt.show()"
   ]
  },
  {
   "attachments": {},
   "cell_type": "markdown",
   "metadata": {},
   "source": [
    "## 8. Clustering by Density based Spatial Clustering of Applications with Noise (DBSCAN)\n",
    "\n",
    "### 8.1. DBSCAN Algorithm\n",
    "\n",
    "In this section we'll implement the DBSCAN algorithm:\n",
    "\n",
    "1. Implement an auxiliary function to compute the connected components (`GetConnectedComponents()`).  \n",
    "   You may choose any implementation strategy (`DFS` / `BFS`, ect...).\n",
    "2. Implement the function `DBSCAN()`.  \n",
    "   The function should label noise points as `-1`.\n",
    "\n",
    "* <font color='brown'>(**#**)</font> Implementation should be efficient (Memory and operations). Total run time expected to be **less than 20 seconds**.\n"
   ]
  },
  {
   "cell_type": "code",
   "execution_count": null,
   "metadata": {},
   "outputs": [],
   "source": [
    "#===========================Fill This===========================#\n",
    "def GetConnectedComponents(mG: np.ndarray) -> np.ndarray:\n",
    "    '''\n",
    "    Extract the connected components of a graph.\n",
    "    Args:\n",
    "        mG          - Graph matrix.\n",
    "    Output:\n",
    "        vL          - Label per component.\n",
    "    Remarks:\n",
    "        - This is a !!BFS / DFS!! implementation.\n",
    "    '''\n",
    "\n",
    "    pass\n",
    "#===============================================================#"
   ]
  },
  {
   "cell_type": "code",
   "execution_count": null,
   "metadata": {},
   "outputs": [],
   "source": [
    "#===========================Fill This===========================#\n",
    "def DBSCAN(mX: np.ndarray, Z: int, r: float) -> np.ndarray:\n",
    "    '''\n",
    "    DBSCAN Algorithm.\n",
    "    Args:\n",
    "        mX  - Input data with shape N x d.\n",
    "        Z   - Number of points required to be a core point.\n",
    "        r   - Neighborhood radius.\n",
    "    Output:\n",
    "        vL  - The labels (-1, 0, 1, .., K - 1) per sample with shape (N, ).\n",
    "    Remarks:\n",
    "        - Clusters will have the labels {0, 1, ..., K - 1}.\n",
    "        - Noise samples will have the label `-1`.\n",
    "    '''\n",
    "\n",
    "    # Pre\n",
    "\n",
    "    # Step 1: Find core points\n",
    "\n",
    "    # Step 2: Build the graph\n",
    "\n",
    "    # Step 3: Find connected components\n",
    "\n",
    "    # Step 4: Assign boundary points\n",
    "\n",
    "    pass\n",
    "#===============================================================#"
   ]
  },
  {
   "attachments": {},
   "cell_type": "markdown",
   "metadata": {},
   "source": [
    "### 8.2. Clustering the Data Set\n",
    "\n",
    "In this section we'll use the implementation of the DSCAN algorithm.\n",
    "The tasks are:\n",
    "\n",
    "1. Use the data set `mX4`.\n",
    "2. Tweak the parameters until you have 3 clusters.\n",
    "3. Display results."
   ]
  },
  {
   "cell_type": "code",
   "execution_count": null,
   "metadata": {},
   "outputs": [],
   "source": [
    "#===========================Fill This===========================#\n",
    "# 1. Set parameters.\n",
    "# 2. Apply the algorithm.\n",
    "\n",
    "???\n",
    "\n",
    "#===============================================================#\n"
   ]
  },
  {
   "cell_type": "code",
   "execution_count": null,
   "metadata": {},
   "outputs": [],
   "source": [
    "#===========================Fill This===========================#\n",
    "# 1. Plot the clustered data.\n",
    "# !! The noise samples should also be labeled.\n",
    "\n",
    "???\n",
    "\n",
    "#===============================================================#"
   ]
  },
  {
   "attachments": {},
   "cell_type": "markdown",
   "metadata": {},
   "source": [
    "### 8.3. An Algorithm to Set the Parameters Automatically Given a Data Set\n",
    "\n",
    "Can you think about an algorithm to automatically infer optimal parameters of the DBSCAN algorithm given a data set?   \n",
    "\n",
    "1. Sketch the algorithm (Words / Diagram).\n",
    "2. Implement and test on `mX4`.\n",
    "3. Plot the results.\n",
    "\n",
    "* <font color='brown'>(**#**)</font> Run time should be reasonable (Single number of seconds).\n",
    "* <font color='brown'>(**#**)</font> Good answers might be given a bonus points of up to 4 points."
   ]
  },
  {
   "attachments": {},
   "cell_type": "markdown",
   "metadata": {},
   "source": [
    "### 8.3. Solution\n",
    "\n",
    "<font color='red'>??? Fill the answer here ???</font>\n",
    "\n",
    "---"
   ]
  },
  {
   "cell_type": "code",
   "execution_count": null,
   "metadata": {},
   "outputs": [],
   "source": [
    "#===========================Fill This===========================#\n",
    "# Implement a function which gets a data set and output the `Z` and `r` parameters of `DBSCAN()`.\n",
    "\n",
    "#===============================================================#\n"
   ]
  },
  {
   "cell_type": "code",
   "execution_count": null,
   "metadata": {},
   "outputs": [],
   "source": [
    "#===========================Fill This===========================#\n",
    "# Test your algorithm on `mX4` data set. Show results.\n",
    "\n",
    "#===============================================================#"
   ]
  },
  {
   "attachments": {},
   "cell_type": "markdown",
   "metadata": {},
   "source": [
    "### 8.4. Test Methods on the Data Set\n",
    "\n",
    "In this section we'll compare 4 methods on each data set.  \n",
    "The 4th methods is `AgglomerativeClustering` which is imported from `SciKit Learn`.\n",
    "\n",
    "1. Run each method on each data set.\n",
    "2. Plot a grid of results (Using `plt.subplots()`): Each row is a different method, each column is a different data set.\n",
    "3. Optimize the parameters per data set per method.\n",
    "\n",
    "The final result is a grid of `4 x 5` scatter plots.\n",
    "\n",
    "* <font color='brown'>(**#**)</font> You should use `CourseAuxFun.py` and import your self implemented functions from the module."
   ]
  },
  {
   "cell_type": "code",
   "execution_count": null,
   "metadata": {},
   "outputs": [],
   "source": [
    "#===========================Fill This===========================#\n",
    "# Display the results of each method\n",
    "\n",
    "#===============================================================#"
   ]
  }
 ],
 "metadata": {
  "kernelspec": {
   "display_name": "Python 3",
   "language": "python",
   "name": "python3"
  },
  "language_info": {
   "codemirror_mode": {
    "name": "ipython",
    "version": 3
   },
   "file_extension": ".py",
   "mimetype": "text/x-python",
   "name": "python",
   "nbconvert_exporter": "python",
   "pygments_lexer": "ipython3",
   "version": "3.10.9"
  },
  "toc": {
   "base_numbering": 1,
   "nav_menu": {},
   "number_sections": false,
   "sideBar": true,
   "skip_h1_title": false,
   "title_cell": "Table of Contents",
   "title_sidebar": "Contents",
   "toc_cell": false,
   "toc_position": {},
   "toc_section_display": true,
   "toc_window_display": true
  },
  "varInspector": {
   "cols": {
    "lenName": 16,
    "lenType": 16,
    "lenVar": 40
   },
   "kernels_config": {
    "python": {
     "delete_cmd_postfix": "",
     "delete_cmd_prefix": "del ",
     "library": "var_list.py",
     "varRefreshCmd": "print(var_dic_list())"
    },
    "r": {
     "delete_cmd_postfix": ") ",
     "delete_cmd_prefix": "rm(",
     "library": "var_list.r",
     "varRefreshCmd": "cat(var_dic_list()) "
    }
   },
   "types_to_exclude": [
    "module",
    "function",
    "builtin_function_or_method",
    "instance",
    "_Feature"
   ],
   "window_display": false
  },
  "vscode": {
   "interpreter": {
    "hash": "39577bab1f263e62e0b74f5b8086bd735049bf4751f6562b2d4b2969dc308293"
   }
  }
 },
 "nbformat": 4,
 "nbformat_minor": 4
}
