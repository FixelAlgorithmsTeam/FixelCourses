{
 "cells": [
  {
   "cell_type": "markdown",
   "metadata": {},
   "source": [
    "[![Fixel Algorithms](https://fixelalgorithms.co/images/CCExt.png)](https://fixelalgorithms.gitlab.io/)\n",
    "\n",
    "# Dimensionality Reduction - Principal Component Analysis (PCA)\n",
    "\n",
    "> Notebook by:\n",
    "> - Royi Avital RoyiAvital@fixelalgorithms.com\n",
    "\n",
    "## Revision History\n",
    "\n",
    "| Version | Date       | User        |Content / Changes                                                   |\n",
    "|---------|------------|-------------|--------------------------------------------------------------------|\n",
    "| 0.1.000 | 01/10/2022 | Royi Avital | First version                                                      |\n",
    "|         |            |             |                                                                    |"
   ]
  },
  {
   "cell_type": "markdown",
   "metadata": {},
   "source": [
    "[![Open In Colab](https://colab.research.google.com/assets/colab-badge.svg)](https://colab.research.google.com/github/FixelAlgorithmsTeam/FixelCourses/blob/master/IntroductionMachineLearningSystemEngineers/DimensionalityReductionPCA.ipynb)"
   ]
  },
  {
   "cell_type": "code",
   "execution_count": null,
   "metadata": {
    "ExecuteTime": {
     "end_time": "2022-02-02T17:52:07.921383Z",
     "start_time": "2022-02-02T17:52:07.649130Z"
    }
   },
   "outputs": [],
   "source": [
    "# Import Packages\n",
    "\n",
    "# General Tools\n",
    "import numpy as np\n",
    "import scipy as sp\n",
    "import pandas as pd\n",
    "\n",
    "# Machine Learning\n",
    "from sklearn.datasets import fetch_olivetti_faces, fetch_openml, load_breast_cancer\n",
    "from sklearn.decomposition import PCA\n",
    "from sklearn.model_selection import StratifiedKFold\n",
    "from sklearn.preprocessing import PolynomialFeatures\n",
    "\n",
    "# Misc\n",
    "import datetime\n",
    "import math\n",
    "import os\n",
    "from platform import python_version\n",
    "import random\n",
    "import warnings\n",
    "import yaml\n",
    "\n",
    "# Typing\n",
    "from typing import Tuple\n",
    "\n",
    "# Visualization\n",
    "import matplotlib as mpl\n",
    "import matplotlib.pyplot as plt\n",
    "import seaborn as sns\n",
    "\n",
    "# Jupyter\n",
    "from IPython import get_ipython\n",
    "from IPython.display import Image, display\n",
    "from ipywidgets import Dropdown, FloatSlider, interact, IntSlider, Layout"
   ]
  },
  {
   "cell_type": "code",
   "execution_count": null,
   "metadata": {},
   "outputs": [],
   "source": [
    "# Configuration\n",
    "%matplotlib inline\n",
    "\n",
    "warnings.filterwarnings(\"ignore\")\n",
    "\n",
    "seedNum = 512\n",
    "np.random.seed(seedNum)\n",
    "random.seed(seedNum)\n",
    "\n",
    "# sns.set_theme() #>! Apply SeaBorn theme\n",
    "sns.set_palette(\"tab10\")\n",
    "\n",
    "runInGoogleColab = 'google.colab' in str(get_ipython())"
   ]
  },
  {
   "cell_type": "code",
   "execution_count": null,
   "metadata": {},
   "outputs": [],
   "source": [
    "if runInGoogleColab:\n",
    "    !pip install git+https://github.com/8080labs/ppscore.git\n",
    "\n",
    "import ppscore as pps #<! See https://github.com/8080labs/ppscore -> pip install git+https://github.com/8080labs/ppscore.git"
   ]
  },
  {
   "cell_type": "code",
   "execution_count": null,
   "metadata": {},
   "outputs": [],
   "source": [
    "# Constants\n",
    "\n",
    "FIG_SIZE_DEF    = (8, 8)\n",
    "ELM_SIZE_DEF    = 50\n",
    "CLASS_COLOR     = ('b', 'r')\n",
    "EDGE_COLOR      = 'k'\n",
    "MARKER_SIZE_DEF = 10\n",
    "LINE_WIDTH_DEF  = 2\n"
   ]
  },
  {
   "cell_type": "code",
   "execution_count": null,
   "metadata": {},
   "outputs": [],
   "source": [
    "# Fixel Algorithms Packages\n"
   ]
  },
  {
   "cell_type": "code",
   "execution_count": null,
   "metadata": {},
   "outputs": [],
   "source": [
    "# Parameters\n",
    "\n",
    "# Data Generation\n",
    "vNumSamples = [50, 150, 500, 100]\n",
    "mMu         = [[0, 0], [2, 2], [-2.5, -2.5], [-4, 4]]\n",
    "vClusterStd = [0.1, 1, 2, 1.5]\n",
    "\n",
    "# Model\n",
    "\n",
    "numCrossValPps = 5\n",
    "\n",
    "\n",
    "# Data Visualization\n",
    "gridSclae = 5\n",
    "numGridPts = 250"
   ]
  },
  {
   "cell_type": "code",
   "execution_count": null,
   "metadata": {},
   "outputs": [],
   "source": [
    "# Auxiliary Functions\n",
    "\n",
    "OrdinalNum = lambda n: \"%d%s\" % (n,\"tsnrhtdd\"[(math.floor(n/10)%10!=1)*(n%10<4)*n%10::4])\n",
    "\n",
    "def GenRotMatrix( θ: float ) -> np.ndarray:\n",
    "    thetaAng = np.radians(θ) #<! Convert Degrees -> Radians\n",
    "    cosVal, sinVal = np.cos(thetaAng), np.sin(thetaAng)\n",
    "\n",
    "    mR = np.array([[cosVal, -sinVal], [sinVal, cosVal]])\n",
    "\n",
    "    return mR\n",
    "\n",
    "def PlotScatterData(mX: np.ndarray, vL: np.ndarray, hA:plt.Axes = None, figSize: Tuple[int, int] = FIG_SIZE_DEF, markerSize: int = MARKER_SIZE_DEF, lineWidth: int = LINE_WIDTH_DEF, axisTitle: str = None):\n",
    "\n",
    "    if hA is None:\n",
    "        hF, hA = plt.subplots(figsize = figSize)\n",
    "    else:\n",
    "        hF = hA.get_figure()\n",
    "    \n",
    "    vU = np.unique(vL)\n",
    "    numClusters = len(vU)\n",
    "\n",
    "    for ii in range(numClusters):\n",
    "        vIdx = vL == vU[ii]\n",
    "        hA.scatter(mX[vIdx, 0], mX[vIdx, 1], s = ELM_SIZE_DEF, edgecolor = EDGE_COLOR, label = ii)\n",
    "    \n",
    "    hA.set_xlabel('${{x}}_{{1}}$')\n",
    "    hA.set_ylabel('${{x}}_{{2}}$')\n",
    "    if axisTitle is not None:\n",
    "        hA.set_title(axisTitle)\n",
    "    hA.grid()\n",
    "    hA.legend()\n",
    "\n",
    "    # return hF\n",
    "\n",
    "\n",
    "def PlotPcaReconstruction( mX: np.ndarray, dataIdx: int, mU: np.ndarray, vMean: np.ndarray, numComp:int, vSize: np.ndarray, hA:plt.Axes = None, figSize: Tuple[int, int] = FIG_SIZE_DEF, markerSize: int = MARKER_SIZE_DEF ):\n",
    "\n",
    "    if hA is None:\n",
    "        hF, hA = plt.subplots(1, 3, figsize = figSize)\n",
    "    else:\n",
    "        hF = hA.get_figure()\n",
    "\n",
    "    vX = mX[dataIdx, :]\n",
    "\n",
    "    if numComp == 0:\n",
    "        vZ    = [0]\n",
    "        vHatX = vMean\n",
    "    else:\n",
    "        vZ    = mU[:numComp]   @ (vX - vMean) #<! Encode\n",
    "        vHatX = (mU[:numComp].T @  vZ) + vMean  #<! Decode\n",
    "        \n",
    "    mI   = np.reshape(vX,    vSize).clip(0, 1)\n",
    "    mRec = np.reshape(vHatX, vSize).clip(0, 1)\n",
    "\n",
    "    hA[0].imshow(mI, cmap = 'gray');\n",
    "    hA[0].set_title('Original Image')\n",
    "\n",
    "    hA[1].imshow(mRec, cmap = 'gray');\n",
    "    hA[1].set_title(f'Reconstructed Image, # Componenets: {numComp}')\n",
    "\n",
    "    hA[2].stem(vZ, markerfmt = 'b.', label = 'Coefficients')\n",
    "    hA[2].set_xlabel('Principal Component')\n",
    "    hA[2].set_ylabel('Coefficient Value')\n"
   ]
  },
  {
   "cell_type": "markdown",
   "metadata": {},
   "source": [
    "## Generate Data\n"
   ]
  },
  {
   "cell_type": "markdown",
   "metadata": {},
   "source": [
    "Features are computed from a digitized image of a fine needle aspirate (FNA) of a breast mass.\n",
    "\n",
    "![](https://i.imgur.com/4LE2biE.png)"
   ]
  },
  {
   "cell_type": "code",
   "execution_count": null,
   "metadata": {
    "ExecuteTime": {
     "end_time": "2022-02-02T17:53:07.834772Z",
     "start_time": "2022-02-02T17:53:07.448832Z"
    }
   },
   "outputs": [],
   "source": [
    "mX, vY      = load_breast_cancer(return_X_y = True)\n",
    "dfX, dsY    = load_breast_cancer(return_X_y = True, as_frame = True)\n"
   ]
  },
  {
   "cell_type": "code",
   "execution_count": null,
   "metadata": {},
   "outputs": [],
   "source": [
    "# Add Label Data\n",
    "dfX['Label'] = pd.Categorical(dsY)\n"
   ]
  },
  {
   "cell_type": "markdown",
   "metadata": {},
   "source": [
    "### Exploratory Data Analysis (EDA)"
   ]
  },
  {
   "cell_type": "markdown",
   "metadata": {},
   "source": [
    "#### Correlation Matrix"
   ]
  },
  {
   "cell_type": "code",
   "execution_count": null,
   "metadata": {},
   "outputs": [],
   "source": [
    "# Correlation Matrix\n",
    "hF, hA = plt.subplots(figsize = (20, 20))\n",
    "dfXX = dfX.copy()\n",
    "dfXX['Label'] = pd.to_numeric(dfXX['Label'])\n",
    "mC = dfXX.corr(method = 'pearson')\n",
    "sns.heatmap(mC.abs(), cmap = 'coolwarm', annot = True, ax = hA)"
   ]
  },
  {
   "cell_type": "markdown",
   "metadata": {},
   "source": [
    "#### Predictive Power Score (PPS)\n",
    "\n",
    "Correlation makes sense for linear regression models.  \n",
    "But for non linear operation or classification PPS is superior.\n",
    "\n",
    "Pay attention it is not symmetric, as it tries to weigh the ability of a feature to contribute to estimation which isn't a syymetric operation.  \n",
    "\n",
    "> Think about estimating the zip code form addres vs. estimating the address from the zip code."
   ]
  },
  {
   "cell_type": "code",
   "execution_count": null,
   "metadata": {},
   "outputs": [],
   "source": [
    "# Feature PPS - Which features are important?\n",
    "\n",
    "# Pay attention, cross validation is K-Fold -> Don't over split the data\n",
    "mPPS = pps.matrix(dfX, **{'cross_validation': numCrossValPps, 'random_seed': seedNum})[['x', 'y', 'ppscore']].pivot(columns = 'x', index = 'y', values = 'ppscore') #<! We should set `Label` as a categorial variable\n",
    "\n",
    "# Visualization of PPS\n",
    "hF, hA = plt.subplots(figsize = (20, 20))\n",
    "sns.heatmap(mPPS, annot = True, fmt = '.2f', cmap = plt.get_cmap('coolwarm'), cbar = False, vmin = 0, vmax = 1, ax = hA) \n",
    "\n",
    "plt.setp(hA.get_xticklabels(), ha = \"center\", rotation = 45)\n",
    "plt.setp(hA.get_yticklabels(), rotation = 'horizontal')\n",
    "hA.set_title('Predictive Power Score (PPS)')"
   ]
  },
  {
   "cell_type": "markdown",
   "metadata": {},
   "source": [
    "## Pre Processing the Data"
   ]
  },
  {
   "cell_type": "code",
   "execution_count": null,
   "metadata": {
    "ExecuteTime": {
     "end_time": "2022-02-02T17:53:32.623663Z",
     "start_time": "2022-02-02T17:53:32.542588Z"
    }
   },
   "outputs": [],
   "source": [
    "# Normalization (SciKit's Learn automatically reduce the mean)\n",
    "mX -= mX.mean(0)\n",
    "mX /= mX.std (0)"
   ]
  },
  {
   "cell_type": "markdown",
   "metadata": {},
   "source": [
    "## Applying Dimensionality Reduction - PCA "
   ]
  },
  {
   "cell_type": "code",
   "execution_count": null,
   "metadata": {},
   "outputs": [],
   "source": [
    "# Applying the PCA model\n",
    "mZ = PCA(n_components = 2).fit_transform(mX)"
   ]
  },
  {
   "cell_type": "markdown",
   "metadata": {},
   "source": [
    "### Plot the 2D Result"
   ]
  },
  {
   "cell_type": "code",
   "execution_count": null,
   "metadata": {},
   "outputs": [],
   "source": [
    "PlotScatterData(mZ, vY)"
   ]
  },
  {
   "cell_type": "markdown",
   "metadata": {},
   "source": [
    "## MNIST Image Data Set\n",
    "\n",
    "\n"
   ]
  },
  {
   "cell_type": "code",
   "execution_count": null,
   "metadata": {
    "ExecuteTime": {
     "end_time": "2022-02-02T17:53:36.616328Z",
     "start_time": "2022-02-02T17:53:36.540260Z"
    }
   },
   "outputs": [],
   "source": [
    "# MNIST \n",
    "mX, vY  = fetch_openml('mnist_784', version = 1, return_X_y = True, as_frame = False)\n",
    "vSize   = (28, 28)\n",
    "\n",
    "# Eigen Faces\n",
    "# mX, vY = fetch_olivetti_faces(return_X_y = True)\n",
    "# vSize = (64, 64)\n",
    "\n",
    "\n",
    "mX     /= 255\n",
    "numSamples, numDims = mX.shape\n",
    "\n",
    "\n",
    "mX.shape, vY.shape"
   ]
  },
  {
   "cell_type": "code",
   "execution_count": null,
   "metadata": {},
   "outputs": [],
   "source": [
    "numImgDis = 6\n",
    "\n",
    "hF, hA = plt.subplots(1, numImgDis, figsize = (15, 3))\n",
    "for kk in range(numImgDis):\n",
    "    idx = np.random.choice(numSamples)\n",
    "    mI  = np.reshape(mX[idx, :], vSize)\n",
    "    \n",
    "    hA[kk].imshow(mI.clip(0, 1), cmap = 'gray')\n",
    "    hA[kk].set_title(f'Image Index = {idx}')\n",
    "    \n",
    "plt.show()"
   ]
  },
  {
   "cell_type": "markdown",
   "metadata": {},
   "source": [
    "### PCA Mode"
   ]
  },
  {
   "cell_type": "code",
   "execution_count": null,
   "metadata": {},
   "outputs": [],
   "source": [
    "oPCA = PCA(n_components = numDims).fit(mX) #<! Basically calculates the model vectors"
   ]
  },
  {
   "cell_type": "markdown",
   "metadata": {},
   "source": [
    "#### Mean Image"
   ]
  },
  {
   "cell_type": "code",
   "execution_count": null,
   "metadata": {},
   "outputs": [],
   "source": [
    "vMean = oPCA.mean_\n",
    "mI    = np.reshape(vMean, vSize)\n",
    "\n",
    "plt.figure(figsize = (2, 2))\n",
    "plt.imshow(mI, cmap = 'gray')\n",
    "plt.title('Mean')\n",
    "plt.show()"
   ]
  },
  {
   "cell_type": "markdown",
   "metadata": {},
   "source": [
    "#### Spectrum"
   ]
  },
  {
   "cell_type": "code",
   "execution_count": null,
   "metadata": {},
   "outputs": [],
   "source": [
    "#### Spectrum\n",
    "\n",
    "vλ = oPCA.explained_variance_ratio_\n",
    "\n",
    "plt.figure(figsize = (18, 6))\n",
    "plt.stem(np.sqrt(vλ[:200]), markerfmt = 'b.', label = '$\\\\sqrt{\\lambda_i}$')\n",
    "plt.title('Eigenvalues')\n",
    "plt.xlabel('$i$')\n",
    "plt.legend()\n",
    "plt.show()"
   ]
  },
  {
   "cell_type": "code",
   "execution_count": null,
   "metadata": {},
   "outputs": [],
   "source": [
    "# Energy Ratio\n",
    "\n",
    "vλ = oPCA.explained_variance_ratio_\n",
    "\n",
    "plt.figure(figsize=(18, 6))\n",
    "plt.stem(vλ, markerfmt = 'b.', label = '$Ratio$')\n",
    "plt.title('Variance Ratio')\n",
    "plt.xlabel('$Somponent Index$')\n",
    "plt.legend()\n",
    "plt.show()"
   ]
  },
  {
   "cell_type": "markdown",
   "metadata": {},
   "source": [
    "#### Plot the Basis / Components"
   ]
  },
  {
   "cell_type": "code",
   "execution_count": null,
   "metadata": {},
   "outputs": [],
   "source": [
    "mU = oPCA.components_ # mU.shape = (n_components, n_features)\n",
    "\n",
    "fig, _ = plt.subplots(2, 5, figsize = (12, 6))\n",
    "vIdx   = list(range(5)) + list(range(numDims - 5, numDims))\n",
    "for kk, ax in zip(range(10), fig.axes):\n",
    "    idx = vIdx[kk]\n",
    "    mI  = np.reshape(mU[idx], vSize)\n",
    "    ax.imshow(mI)\n",
    "    ax.set_title(f'{OrdinalNum(idx + 1)} Principal Component')\n",
    "    \n",
    "plt.tight_layout()\n",
    "plt.show()"
   ]
  },
  {
   "cell_type": "markdown",
   "metadata": {},
   "source": [
    "#### Plot Reconstruction\n",
    "\n",
    "* Encode:\n",
    "$$\\boldsymbol{z}_{i}=\\boldsymbol{U}_{d}^{T}\\left(\\boldsymbol{x}_{i}-\\boldsymbol{\\mu}_{x}\\right)$$  \n",
    "* Decode:\n",
    "$$\\hat{\\boldsymbol{x}}_{i}=\\boldsymbol{U}_{d}\\boldsymbol{z}_{i}+\\boldsymbol{\\mu}_{x}$$"
   ]
  },
  {
   "cell_type": "code",
   "execution_count": null,
   "metadata": {},
   "outputs": [],
   "source": [
    "hPlotPcaReconstruction = lambda dataIdx, numComponents: PlotPcaReconstruction(mX, dataIdx, mU, vMean, numComponents, vSize, figSize = (14, 4))\n",
    "dataIdxSlider = IntSlider(min = 0, max = numSamples, step = 1, value = 0, layout = Layout(width = '30%'))\n",
    "numComponentsSlider = IntSlider(min = 0, max = numDims, step = 1, value = 0, layout = Layout(width = '30%'))\n",
    "\n",
    "interact(hPlotPcaReconstruction, dataIdx = dataIdxSlider, numComponents = numComponentsSlider)"
   ]
  }
 ],
 "metadata": {
  "kernelspec": {
   "display_name": "Python 3",
   "language": "python",
   "name": "python3"
  },
  "language_info": {
   "codemirror_mode": {
    "name": "ipython",
    "version": 3
   },
   "file_extension": ".py",
   "mimetype": "text/x-python",
   "name": "python",
   "nbconvert_exporter": "python",
   "pygments_lexer": "ipython3",
   "version": "3.10.8 (tags/v3.10.8:aaaf517, Oct 11 2022, 16:50:30) [MSC v.1933 64 bit (AMD64)]"
  },
  "toc": {
   "base_numbering": 1,
   "nav_menu": {},
   "number_sections": false,
   "sideBar": true,
   "skip_h1_title": false,
   "title_cell": "Table of Contents",
   "title_sidebar": "Contents",
   "toc_cell": false,
   "toc_position": {},
   "toc_section_display": true,
   "toc_window_display": false
  },
  "varInspector": {
   "cols": {
    "lenName": 16,
    "lenType": 16,
    "lenVar": 40
   },
   "kernels_config": {
    "python": {
     "delete_cmd_postfix": "",
     "delete_cmd_prefix": "del ",
     "library": "var_list.py",
     "varRefreshCmd": "print(var_dic_list())"
    },
    "r": {
     "delete_cmd_postfix": ") ",
     "delete_cmd_prefix": "rm(",
     "library": "var_list.r",
     "varRefreshCmd": "cat(var_dic_list()) "
    }
   },
   "types_to_exclude": [
    "module",
    "function",
    "builtin_function_or_method",
    "instance",
    "_Feature"
   ],
   "window_display": false
  },
  "vscode": {
   "interpreter": {
    "hash": "4c555be6fa9458c8c75b4612c68315d9f1d74815b73d0e564fda29ad772cfcda"
   }
  }
 },
 "nbformat": 4,
 "nbformat_minor": 4
}
