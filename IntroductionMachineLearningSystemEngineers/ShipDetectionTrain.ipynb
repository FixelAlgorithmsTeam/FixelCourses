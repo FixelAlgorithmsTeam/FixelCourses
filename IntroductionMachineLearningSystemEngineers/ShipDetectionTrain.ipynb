{
    "cells": [
        {
            "attachments": {},
            "cell_type": "markdown",
            "metadata": {
                "id": "Mbsl-vmcM-mF"
            },
            "source": [
                "[![Fixel Algorithms](https://fixelalgorithms.co/images/CCExt.png)](https://fixelalgorithms.gitlab.io)\n",
                " \n",
                "# Test Case - Train a Model\n",
                "This notebooks follows the test case of object detection.  \n",
                "This notebooks uses a transfer learning approach to train a model.\n",
                "\n",
                "> Notebook by:\n",
                "> - Royi Avital RoyiAvital@fixelalgorithms.com\n",
                "\n",
                "Remarks:\n",
                "- This notebook is self contained. It downloads the files it requires.\n",
                "\n",
                "To Do & Ideas:\n",
                " - B\n",
                "\n",
                "## Revision History\n",
                "\n",
                "| Version | Date       | User        |Content / Changes                                                   |\n",
                "|---------|------------|-------------|--------------------------------------------------------------------|\n",
                "| 0.1.000 | 17/03/2023 | Royi Avital | First version                                                      |\n",
                "|         |            |             |                                                                    |"
            ]
        },
        {
            "cell_type": "code",
            "execution_count": null,
            "metadata": {
                "executionInfo": {
                    "elapsed": 6136,
                    "status": "ok",
                    "timestamp": 1679491131500,
                    "user": {
                        "displayName": "Fixel Algorithms",
                        "userId": "13262597923393234346"
                    },
                    "user_tz": -120
                },
                "id": "RN0JB2DdOO95"
            },
            "outputs": [],
            "source": [
                "# General Tools\n",
                "import numpy as np\n",
                "import scipy as sp\n",
                "import pandas as pd\n",
                "\n",
                "# OpenCV\n",
                "import cv2 as cv\n",
                "import PIL \n",
                "\n",
                "# PyTorch\n",
                "import torch\n",
                "from torch.utils.data import Subset\n",
                "from torchvision import transforms\n",
                "\n",
                "# Miscellaneous\n",
                "import datetime\n",
                "import math\n",
                "import os\n",
                "from platform import python_version\n",
                "import random\n",
                "import shutil\n",
                "\n",
                "import urllib\n",
                "import warnings\n",
                "import yaml\n",
                "\n",
                "# Visualization\n",
                "import matplotlib.pyplot as plt\n",
                "import seaborn as sns\n",
                "\n",
                "# Jupyter\n",
                "from IPython import get_ipython\n",
                "from IPython.display import Image, display\n",
                "from ipywidgets import Dropdown, FloatSlider, IntSlider, Layout\n",
                "from ipywidgets import interact"
            ]
        },
        {
            "cell_type": "code",
            "execution_count": null,
            "metadata": {
                "executionInfo": {
                    "elapsed": 7,
                    "status": "ok",
                    "timestamp": 1679491131500,
                    "user": {
                        "displayName": "Fixel Algorithms",
                        "userId": "13262597923393234346"
                    },
                    "user_tz": -120
                },
                "id": "9WasG_uEQAzN"
            },
            "outputs": [],
            "source": [
                "# Configuration\n",
                "%matplotlib inline\n",
                "\n",
                "warnings.filterwarnings(\"ignore\")\n",
                "\n",
                "seedNum = 512\n",
                "np.random.seed(seedNum)\n",
                "random.seed(seedNum)\n",
                "\n",
                "# sns.set_theme() #>! Apply SeaBorn theme\n",
                "\n",
                "runInGoogleColab = 'google.colab' in str(get_ipython())"
            ]
        },
        {
            "cell_type": "code",
            "execution_count": null,
            "metadata": {
                "colab": {
                    "base_uri": "https://localhost:8080/"
                },
                "executionInfo": {
                    "elapsed": 7,
                    "status": "ok",
                    "timestamp": 1679491131501,
                    "user": {
                        "displayName": "Fixel Algorithms",
                        "userId": "13262597923393234346"
                    },
                    "user_tz": -120
                },
                "id": "Q1x61RlZYYnA",
                "outputId": "94065935-587d-4751-973b-e507cb8d2b08"
            },
            "outputs": [],
            "source": [
                "if runInGoogleColab:\n",
                "  !nvidia-smi\n",
                "  # Google Colab\n",
                "  from google.colab import files"
            ]
        },
        {
            "cell_type": "code",
            "execution_count": null,
            "metadata": {
                "executionInfo": {
                    "elapsed": 4,
                    "status": "ok",
                    "timestamp": 1679491131501,
                    "user": {
                        "displayName": "Fixel Algorithms",
                        "userId": "13262597923393234346"
                    },
                    "user_tz": -120
                },
                "id": "D-_c7-25QV_n"
            },
            "outputs": [],
            "source": [
                "# Constants\n",
                "\n",
                "PROJECT_NAME        = 'StickerDetection'\n",
                "DATA_FOLDER_NAME    = 'Data'\n",
                "MODEL_FOLDER_NAME   = 'Models'\n",
                "\n",
                "TIME_STAMP_FORMAT = '%Y_%m_%d_%H_%M_%S' #<! For the strftime() formatter\n",
                "\n",
                "DATA_FILE_URL   = r'https://drive.google.com/uc?export=download&confirm=9iBg&id=1lVDjxqOzR89ev0UmLGWZFbbcJ4Dpe5F6'\n",
                "DATA_FILE_NAME  = r'Data.zip'"
            ]
        },
        {
            "cell_type": "code",
            "execution_count": null,
            "metadata": {
                "executionInfo": {
                    "elapsed": 2532,
                    "status": "ok",
                    "timestamp": 1679491134030,
                    "user": {
                        "displayName": "Fixel Algorithms",
                        "userId": "13262597923393234346"
                    },
                    "user_tz": -120
                },
                "id": "ifbolkLo6GQd"
            },
            "outputs": [],
            "source": [
                "if not os.path.exists(DATA_FILE_NAME):\n",
                "    urllib.request.urlretrieve(DATA_FILE_URL, DATA_FILE_NAME)\n",
                "\n",
                "    shutil.unpack_archive(DATA_FILE_NAME, '.')"
            ]
        },
        {
            "cell_type": "code",
            "execution_count": null,
            "metadata": {
                "executionInfo": {
                    "elapsed": 8,
                    "status": "ok",
                    "timestamp": 1679491134031,
                    "user": {
                        "displayName": "Fixel Algorithms",
                        "userId": "13262597923393234346"
                    },
                    "user_tz": -120
                },
                "id": "v5DURiDB-M5F"
            },
            "outputs": [],
            "source": [
                "# Detecto\n",
                "from core import Dataset, Model\n",
                "from utils import normalize_transform, read_image, reverse_normalize, xml_to_csv\n",
                "from visualize import show_labeled_image"
            ]
        },
        {
            "cell_type": "code",
            "execution_count": null,
            "metadata": {
                "executionInfo": {
                    "elapsed": 6,
                    "status": "ok",
                    "timestamp": 1679491134031,
                    "user": {
                        "displayName": "Fixel Algorithms",
                        "userId": "13262597923393234346"
                    },
                    "user_tz": -120
                },
                "id": "Q6nefIm7QY55"
            },
            "outputs": [],
            "source": [
                "# Parameters\n",
                "\n",
                "# Data\n",
                "lDataClass  = ['Ship']\n",
                "trainSize   = 0.95\n",
                "\n",
                "# Detecto\n",
                "preTrainedMode  = True\n",
                "# backEnd         = 'fasterrcnn_resnet50_fpn' #<! 42 [Sec] / 2 Epochs\n",
                "backEnd         = 'fasterrcnn_mobilenet_v3_large_fpn' #<! 37 [Sec] / 2 Epochs\n",
                "# backEnd         = 'fasterrcnn_mobilenet_v3_large_320_fpn' \n",
                "numEpoch        = 2\n",
                "learningRate    = 0.00075\n",
                "momentumFctr    = 0.9\n",
                "l2RegFctr       = 0.0005\n",
                "gammaFctr       = 0.85\n",
                "lrStepSize      = 3\n",
                "verboseFlag     = True\n",
                "\n",
                "scoreThr = 0.85\n",
                "\n",
                "csvFileName   = 'DataLabels.csv'\n",
                "modelFileName = 'ShipDetector'\n",
                "modelFileExt  = 'pth'\n"
            ]
        },
        {
            "cell_type": "code",
            "execution_count": null,
            "metadata": {
                "executionInfo": {
                    "elapsed": 6,
                    "status": "ok",
                    "timestamp": 1679491134031,
                    "user": {
                        "displayName": "Fixel Algorithms",
                        "userId": "13262597923393234346"
                    },
                    "user_tz": -120
                },
                "id": "D2PRoPb82RUH"
            },
            "outputs": [],
            "source": [
                "# Auxiliary Functions\n",
                "\n",
                "def GenTrainTesIdx(numSamples: int, trainSize: float = 0.8, seedNum: int = 123):\n",
                "    \n",
                "    vAllIdx         = np.arange(numSamples)\n",
                "    numTainsSamples = int(trainSize * numSamples)\n",
                "    \n",
                "    rng = np.random.default_rng(seedNum) #<! Stable Random Number Generator\n",
                "    \n",
                "    vTrainIdx   = rng.choice(numSamples, numTainsSamples, replace = False) \n",
                "    vTestIdx    = np.setdiff1d(vAllIdx, vTrainIdx)\n",
                "\n",
                "    vTrainIdx   = np.sort(vTrainIdx)\n",
                "    vTestIdx    = np.sort(vTestIdx)\n",
                "\n",
                "    return vTrainIdx, vTestIdx\n",
                "\n",
                "def ExtractBestBoxLabel( boxLabel: list, boxCoord: torch.Tensor, boxScore: torch.Tensor ) -> tuple[list, torch.Tensor, list]:\n",
                "\n",
                "    # Assuming boxScore is sorted in descending order\n",
                "    labelIdx = {}\n",
                "    for ii, label in enumerate(boxLabel):\n",
                "        if label not in labelIdx:\n",
                "            labelIdx[label] = ii\n",
                "    \n",
                "    keepIdx = [val for val in labelIdx.values()]\n",
                "\n",
                "    return [boxLabel[ii] for ii in keepIdx], boxCoord[keepIdx], boxScore[keepIdx].tolist()\n",
                "\n",
                "def ExtractBoxLabelThr( boxLabel: list, boxCoord: torch.Tensor, boxScore: torch.Tensor, scoreThr: float = 0.9 ) -> tuple[list, torch.Tensor, list]:\n",
                "\n",
                "    tF = boxScore > scoreThr\n",
                "\n",
                "    return [boxLabel[ii] for ii in range(boxCoord.shape[0]) if tF[ii]], boxCoord[tF], boxScore[tF].tolist()\n",
                "\n",
                "def CheckNanModel( modelNet: torch.nn.Module ) -> bool:\n",
                "    hasNan = torch.stack([torch.isnan(p).any() for p in modelNet.parameters()]).any()\n",
                "\n",
                "    return bool(hasNan)\n",
                "    "
            ]
        },
        {
            "cell_type": "code",
            "execution_count": null,
            "metadata": {
                "executionInfo": {
                    "elapsed": 6,
                    "status": "ok",
                    "timestamp": 1679491134031,
                    "user": {
                        "displayName": "Fixel Algorithms",
                        "userId": "13262597923393234346"
                    },
                    "user_tz": -120
                },
                "id": "JsQHtxV7nwAe"
            },
            "outputs": [],
            "source": [
                "# Set Transformer\n",
                "\n",
                "imgTransform = transforms.Compose([\n",
                "    transforms.ToPILImage(),\n",
                "    transforms.ColorJitter(brightness = 0.1, contrast = 0.1, saturation = 0.05),\n",
                "    transforms.RandomHorizontalFlip(0.5),\n",
                "    transforms.ToTensor(),\n",
                "    normalize_transform(),\n",
                "])\n",
                "\n",
                "imgNoTransform = transforms.Compose([\n",
                "    transforms.ToTensor(),\n",
                "])\n",
                "\n",
                "imgTransformValid = transforms.Compose([\n",
                "    transforms.ToTensor(),\n",
                "    normalize_transform(),\n",
                "])"
            ]
        },
        {
            "cell_type": "code",
            "execution_count": null,
            "metadata": {
                "executionInfo": {
                    "elapsed": 6,
                    "status": "ok",
                    "timestamp": 1679491134031,
                    "user": {
                        "displayName": "Fixel Algorithms",
                        "userId": "13262597923393234346"
                    },
                    "user_tz": -120
                },
                "id": "NSaTdB16GPbb"
            },
            "outputs": [],
            "source": [
                "# Data Folder\n",
                "dataFolderPath = os.path.join(DATA_FOLDER_NAME, PROJECT_NAME) #<! Relative to Drive root\n",
                "dataFolderPath = 'Data'"
            ]
        },
        {
            "cell_type": "code",
            "execution_count": null,
            "metadata": {
                "colab": {
                    "base_uri": "https://localhost:8080/",
                    "height": 363
                },
                "executionInfo": {
                    "elapsed": 551,
                    "status": "ok",
                    "timestamp": 1679491134576,
                    "user": {
                        "displayName": "Fixel Algorithms",
                        "userId": "13262597923393234346"
                    },
                    "user_tz": -120
                },
                "id": "aq00MehkpbU4",
                "outputId": "2a2bbf4a-5677-4c86-ed80-7229e955a4fd"
            },
            "outputs": [],
            "source": [
                "dfData = xml_to_csv(dataFolderPath, csvFileName)\n",
                "dfData.loc[:, 'class'] = 'Ship'\n",
                "dfData.to_csv(csvFileName, index = False)\n",
                "\n",
                "dfData.head(10)"
            ]
        },
        {
            "cell_type": "code",
            "execution_count": null,
            "metadata": {
                "colab": {
                    "base_uri": "https://localhost:8080/"
                },
                "executionInfo": {
                    "elapsed": 5,
                    "status": "ok",
                    "timestamp": 1679491134576,
                    "user": {
                        "displayName": "Fixel Algorithms",
                        "userId": "13262597923393234346"
                    },
                    "user_tz": -120
                },
                "id": "hluxpYhEHvtG",
                "outputId": "32381d62-2b25-490d-9739-defacf300039"
            },
            "outputs": [],
            "source": [
                "# Define the Data Set\n",
                "dsShips     = Dataset(csvFileName, image_folder = DATA_FOLDER_NAME, transform = imgTransform)\n",
                "dsShipsView = Dataset(csvFileName, image_folder = DATA_FOLDER_NAME, transform = imgNoTransform) #<! For view\n",
                "dsShipsVal  = Dataset(csvFileName, image_folder = DATA_FOLDER_NAME, transform = imgTransformValid) #<! For validation\n",
                "numSamples = len(dsShips)\n",
                "\n",
                "print(f'The Number of Samples: {numSamples}')"
            ]
        },
        {
            "cell_type": "code",
            "execution_count": null,
            "metadata": {
                "colab": {
                    "base_uri": "https://localhost:8080/"
                },
                "executionInfo": {
                    "elapsed": 4,
                    "status": "ok",
                    "timestamp": 1679491134577,
                    "user": {
                        "displayName": "Fixel Algorithms",
                        "userId": "13262597923393234346"
                    },
                    "user_tz": -120
                },
                "id": "xV5qEgkDVHxx",
                "outputId": "80da7eb5-63ec-40f0-ed7a-a33ec02a871a"
            },
            "outputs": [],
            "source": [
                "# Train / Test\n",
                "vTrainIdx, vValIdx = GenTrainTesIdx(numSamples, trainSize = trainSize, seedNum = seedNum)\n",
                "\n",
                "dsTrain   = Subset(dsShips, vTrainIdx)\n",
                "dsVal     = Subset(dsShipsVal, vValIdx)\n",
                "dsValView = Subset(dsShipsView, vValIdx)\n",
                "\n",
                "numSamples = len(dsTrain)\n",
                "print(f'The Number of Samples for Training: {numSamples}')\n",
                "print(f'The Number of Samples for Validation: {len(dsVal)}')"
            ]
        },
        {
            "cell_type": "code",
            "execution_count": null,
            "metadata": {
                "colab": {
                    "base_uri": "https://localhost:8080/",
                    "height": 259
                },
                "executionInfo": {
                    "elapsed": 1158,
                    "status": "ok",
                    "timestamp": 1679491224146,
                    "user": {
                        "displayName": "Fixel Algorithms",
                        "userId": "13262597923393234346"
                    },
                    "user_tz": -120
                },
                "id": "NAFmBk70IRMT",
                "outputId": "73b23705-6abe-484b-ec29-9230df8d220f"
            },
            "outputs": [],
            "source": [
                "# Sample Image + Target\n",
                "sampleIdx = np.random.randint(0, numSamples)\n",
                "tSampleImage, dSampleTarget = dsShips[sampleIdx]\n",
                "tSampleImageV, dSampleTargetV = dsShipsView[sampleIdx]\n",
                "tSampleImageV = np.transpose(tSampleImageV.numpy(), (1, 2, 0))\n",
                "show_labeled_image(tSampleImageV, dSampleTargetV['boxes'], dSampleTargetV['labels'])"
            ]
        },
        {
            "cell_type": "code",
            "execution_count": null,
            "metadata": {
                "colab": {
                    "base_uri": "https://localhost:8080/",
                    "height": 66,
                    "referenced_widgets": [
                        "851c64dceda648ca8b249f1ef2111d10",
                        "c2f48c691b2742e3be6d5a2b497a6767",
                        "11ae60b7df1846ffa3ce8ba3d73fee88",
                        "50d4580198464a88ac6910bc56f0f916",
                        "d5d65ba759cb45ee890724400e154e0a",
                        "2e9b0bb64f744e029902fbd2b0315125",
                        "9b96d947086342bd873559362c8a2722",
                        "cc23039b3a98496a9a269b8302b86d44",
                        "168780914a82423794511737c9ff988e",
                        "3d9b9d8c046c46f9a8a003012588a2bb",
                        "b1b3a8b0cbd34c7799d13397633fcc15"
                    ]
                },
                "executionInfo": {
                    "elapsed": 3147,
                    "status": "ok",
                    "timestamp": 1679491267352,
                    "user": {
                        "displayName": "Fixel Algorithms",
                        "userId": "13262597923393234346"
                    },
                    "user_tz": -120
                },
                "id": "5nTrEaxlIVRa",
                "outputId": "2b09f019-f506-4e53-e26f-a2c040ac8ffd"
            },
            "outputs": [],
            "source": [
                "# Defining the Model\n",
                "modelDetector = Model(classes = lDataClass, pretrained = preTrainedMode, model_name = backEnd)"
            ]
        },
        {
            "cell_type": "code",
            "execution_count": null,
            "metadata": {
                "colab": {
                    "base_uri": "https://localhost:8080/",
                    "height": 435
                },
                "executionInfo": {
                    "elapsed": 10838,
                    "status": "error",
                    "timestamp": 1679491284420,
                    "user": {
                        "displayName": "Fixel Algorithms",
                        "userId": "13262597923393234346"
                    },
                    "user_tz": -120
                },
                "id": "k0bzI6FhO4FU",
                "outputId": "aa6ca8ac-1492-4375-b8e7-21e19b336384"
            },
            "outputs": [],
            "source": [
                "# Fit the Model\n",
                "fitHistory = modelDetector.fit(dsTrain, val_dataset = dsVal, epochs = numEpoch, learning_rate = learningRate, momentum = momentumFctr, weight_decay = l2RegFctr, gamma = gammaFctr, lr_step_size = lrStepSize, verbose = verboseFlag)"
            ]
        },
        {
            "cell_type": "code",
            "execution_count": null,
            "metadata": {
                "id": "5VlOAo4wZejb"
            },
            "outputs": [],
            "source": [
                "# Plot Loss over Epochs\n",
                "\n",
                "hF, hA = plt.subplots(figsize = (8, 6))\n",
                "hA.plot(fitHistory)\n",
                "hA.set_title('Validation Loss')\n",
                "hA.set_xlabel('Epoch Index')\n",
                "hA.set_ylabel('Loss')\n",
                "\n",
                "plt.show()"
            ]
        },
        {
            "cell_type": "code",
            "execution_count": null,
            "metadata": {
                "id": "U0wa4azNqJ-Y"
            },
            "outputs": [],
            "source": [
                "# Save the Model\n",
                "hasNan = CheckNanModel(modelDetector._model) #<! Check model weights\n",
                "if not hasNan:\n",
                "    filePostfix   = datetime.datetime.now().strftime(TIME_STAMP_FORMAT)\n",
                "    modelFileName += ('_' + filePostfix + '.' + modelFileExt)\n",
                "    # modelDetector.save(os.path.join(MODEL_FOLDER_NAME, modelFileName))\n",
                "    modelDetector.save(modelFileName)\n",
                "    if runInGoogleColab:\n",
                "        files.download(modelFileName)\n",
                "else:\n",
                "    raise ValueError(f'The model weights contain NaN value(s)')"
            ]
        },
        {
            "cell_type": "code",
            "execution_count": null,
            "metadata": {
                "id": "2HfUp3YUv9b8"
            },
            "outputs": [],
            "source": [
                "# Sample Image Output\n",
                "labels, boxes, scores = modelDetector.predict(tSampleImage)\n",
                "\n",
                "print(\"Box Labels\", labels)\n",
                "print(\"Box Coordinates\", boxes)\n",
                "print(\"Box Scores\", scores)\n",
                "\n"
            ]
        },
        {
            "cell_type": "code",
            "execution_count": null,
            "metadata": {
                "id": "gs30u6Xw2RUL"
            },
            "outputs": [],
            "source": [
                "# Extract the Unique Labels\n",
                "boxLabel, boxCoord, boxScore = ExtractBestBoxLabel(labels, boxes, scores)\n",
                "\n",
                "print(\"Box Labels\", boxLabel)\n",
                "print(\"Box Coordinates\", boxCoord)\n",
                "print(\"Box Scores\", boxScore)\n",
                "\n",
                "# Display Result\n",
                "show_labeled_image(tSampleImageV, boxCoord, boxLabel)"
            ]
        },
        {
            "cell_type": "code",
            "execution_count": null,
            "metadata": {
                "id": "09c7V3hzzkDZ"
            },
            "outputs": [],
            "source": [
                "# Test on Validation Data Set\n",
                "for ii, (sampleImg, targetData) in enumerate(dsVal):\n",
                "  sampleImgV, _ = dsValView[ii]\n",
                "  sampleImgV = np.transpose(sampleImgV.numpy(), (1, 2, 0))\n",
                "  labels, boxes, scores = modelDetector.predict(sampleImg)\n",
                "  # boxLabel, boxCoord, boxScore = ExtractBestBoxLabel(labels, boxes, scores)\n",
                "  boxLabel, boxCoord, boxScore = ExtractBoxLabelThr(labels, boxes, scores, scoreThr)\n",
                "  show_labeled_image(sampleImgV, boxCoord, boxLabel, boxScore)"
            ]
        }
    ],
    "metadata": {
        "accelerator": "GPU",
        "colab": {
            "provenance": [
                {
                    "file_id": "18mxPBjkDMovOBoVUEuzdJkMBmDCZ6g8m",
                    "timestamp": 1670503351748
                }
            ]
        },
        "kernelspec": {
            "display_name": "Python 3",
            "language": "python",
            "name": "python3"
        },
        "language_info": {
            "codemirror_mode": {
                "name": "ipython",
                "version": 3
            },
            "file_extension": ".py",
            "mimetype": "text/x-python",
            "name": "python",
            "nbconvert_exporter": "python",
            "pygments_lexer": "ipython3",
            "version": "3.10.9"
        },
        "vscode": {
            "interpreter": {
                "hash": "bda35b958ef7ee89bbbadc0002b83d9b3d51cca6b08110c44d676418ffc61763"
            }
        },
        "widgets": {
            "application/vnd.jupyter.widget-state+json": {
                "11ae60b7df1846ffa3ce8ba3d73fee88": {
                    "model_module": "@jupyter-widgets/controls",
                    "model_module_version": "1.5.0",
                    "model_name": "FloatProgressModel",
                    "state": {
                        "_dom_classes": [],
                        "_model_module": "@jupyter-widgets/controls",
                        "_model_module_version": "1.5.0",
                        "_model_name": "FloatProgressModel",
                        "_view_count": null,
                        "_view_module": "@jupyter-widgets/controls",
                        "_view_module_version": "1.5.0",
                        "_view_name": "ProgressView",
                        "bar_style": "success",
                        "description": "",
                        "description_tooltip": null,
                        "layout": "IPY_MODEL_cc23039b3a98496a9a269b8302b86d44",
                        "max": 77844807,
                        "min": 0,
                        "orientation": "horizontal",
                        "style": "IPY_MODEL_168780914a82423794511737c9ff988e",
                        "value": 77844807
                    }
                },
                "168780914a82423794511737c9ff988e": {
                    "model_module": "@jupyter-widgets/controls",
                    "model_module_version": "1.5.0",
                    "model_name": "ProgressStyleModel",
                    "state": {
                        "_model_module": "@jupyter-widgets/controls",
                        "_model_module_version": "1.5.0",
                        "_model_name": "ProgressStyleModel",
                        "_view_count": null,
                        "_view_module": "@jupyter-widgets/base",
                        "_view_module_version": "1.2.0",
                        "_view_name": "StyleView",
                        "bar_color": null,
                        "description_width": ""
                    }
                },
                "2e9b0bb64f744e029902fbd2b0315125": {
                    "model_module": "@jupyter-widgets/base",
                    "model_module_version": "1.2.0",
                    "model_name": "LayoutModel",
                    "state": {
                        "_model_module": "@jupyter-widgets/base",
                        "_model_module_version": "1.2.0",
                        "_model_name": "LayoutModel",
                        "_view_count": null,
                        "_view_module": "@jupyter-widgets/base",
                        "_view_module_version": "1.2.0",
                        "_view_name": "LayoutView",
                        "align_content": null,
                        "align_items": null,
                        "align_self": null,
                        "border": null,
                        "bottom": null,
                        "display": null,
                        "flex": null,
                        "flex_flow": null,
                        "grid_area": null,
                        "grid_auto_columns": null,
                        "grid_auto_flow": null,
                        "grid_auto_rows": null,
                        "grid_column": null,
                        "grid_gap": null,
                        "grid_row": null,
                        "grid_template_areas": null,
                        "grid_template_columns": null,
                        "grid_template_rows": null,
                        "height": null,
                        "justify_content": null,
                        "justify_items": null,
                        "left": null,
                        "margin": null,
                        "max_height": null,
                        "max_width": null,
                        "min_height": null,
                        "min_width": null,
                        "object_fit": null,
                        "object_position": null,
                        "order": null,
                        "overflow": null,
                        "overflow_x": null,
                        "overflow_y": null,
                        "padding": null,
                        "right": null,
                        "top": null,
                        "visibility": null,
                        "width": null
                    }
                },
                "3d9b9d8c046c46f9a8a003012588a2bb": {
                    "model_module": "@jupyter-widgets/base",
                    "model_module_version": "1.2.0",
                    "model_name": "LayoutModel",
                    "state": {
                        "_model_module": "@jupyter-widgets/base",
                        "_model_module_version": "1.2.0",
                        "_model_name": "LayoutModel",
                        "_view_count": null,
                        "_view_module": "@jupyter-widgets/base",
                        "_view_module_version": "1.2.0",
                        "_view_name": "LayoutView",
                        "align_content": null,
                        "align_items": null,
                        "align_self": null,
                        "border": null,
                        "bottom": null,
                        "display": null,
                        "flex": null,
                        "flex_flow": null,
                        "grid_area": null,
                        "grid_auto_columns": null,
                        "grid_auto_flow": null,
                        "grid_auto_rows": null,
                        "grid_column": null,
                        "grid_gap": null,
                        "grid_row": null,
                        "grid_template_areas": null,
                        "grid_template_columns": null,
                        "grid_template_rows": null,
                        "height": null,
                        "justify_content": null,
                        "justify_items": null,
                        "left": null,
                        "margin": null,
                        "max_height": null,
                        "max_width": null,
                        "min_height": null,
                        "min_width": null,
                        "object_fit": null,
                        "object_position": null,
                        "order": null,
                        "overflow": null,
                        "overflow_x": null,
                        "overflow_y": null,
                        "padding": null,
                        "right": null,
                        "top": null,
                        "visibility": null,
                        "width": null
                    }
                },
                "50d4580198464a88ac6910bc56f0f916": {
                    "model_module": "@jupyter-widgets/controls",
                    "model_module_version": "1.5.0",
                    "model_name": "HTMLModel",
                    "state": {
                        "_dom_classes": [],
                        "_model_module": "@jupyter-widgets/controls",
                        "_model_module_version": "1.5.0",
                        "_model_name": "HTMLModel",
                        "_view_count": null,
                        "_view_module": "@jupyter-widgets/controls",
                        "_view_module_version": "1.5.0",
                        "_view_name": "HTMLView",
                        "description": "",
                        "description_tooltip": null,
                        "layout": "IPY_MODEL_3d9b9d8c046c46f9a8a003012588a2bb",
                        "placeholder": "​",
                        "style": "IPY_MODEL_b1b3a8b0cbd34c7799d13397633fcc15",
                        "value": " 74.2M/74.2M [00:01&lt;00:00, 75.1MB/s]"
                    }
                },
                "851c64dceda648ca8b249f1ef2111d10": {
                    "model_module": "@jupyter-widgets/controls",
                    "model_module_version": "1.5.0",
                    "model_name": "HBoxModel",
                    "state": {
                        "_dom_classes": [],
                        "_model_module": "@jupyter-widgets/controls",
                        "_model_module_version": "1.5.0",
                        "_model_name": "HBoxModel",
                        "_view_count": null,
                        "_view_module": "@jupyter-widgets/controls",
                        "_view_module_version": "1.5.0",
                        "_view_name": "HBoxView",
                        "box_style": "",
                        "children": [
                            "IPY_MODEL_c2f48c691b2742e3be6d5a2b497a6767",
                            "IPY_MODEL_11ae60b7df1846ffa3ce8ba3d73fee88",
                            "IPY_MODEL_50d4580198464a88ac6910bc56f0f916"
                        ],
                        "layout": "IPY_MODEL_d5d65ba759cb45ee890724400e154e0a"
                    }
                },
                "9b96d947086342bd873559362c8a2722": {
                    "model_module": "@jupyter-widgets/controls",
                    "model_module_version": "1.5.0",
                    "model_name": "DescriptionStyleModel",
                    "state": {
                        "_model_module": "@jupyter-widgets/controls",
                        "_model_module_version": "1.5.0",
                        "_model_name": "DescriptionStyleModel",
                        "_view_count": null,
                        "_view_module": "@jupyter-widgets/base",
                        "_view_module_version": "1.2.0",
                        "_view_name": "StyleView",
                        "description_width": ""
                    }
                },
                "b1b3a8b0cbd34c7799d13397633fcc15": {
                    "model_module": "@jupyter-widgets/controls",
                    "model_module_version": "1.5.0",
                    "model_name": "DescriptionStyleModel",
                    "state": {
                        "_model_module": "@jupyter-widgets/controls",
                        "_model_module_version": "1.5.0",
                        "_model_name": "DescriptionStyleModel",
                        "_view_count": null,
                        "_view_module": "@jupyter-widgets/base",
                        "_view_module_version": "1.2.0",
                        "_view_name": "StyleView",
                        "description_width": ""
                    }
                },
                "c2f48c691b2742e3be6d5a2b497a6767": {
                    "model_module": "@jupyter-widgets/controls",
                    "model_module_version": "1.5.0",
                    "model_name": "HTMLModel",
                    "state": {
                        "_dom_classes": [],
                        "_model_module": "@jupyter-widgets/controls",
                        "_model_module_version": "1.5.0",
                        "_model_name": "HTMLModel",
                        "_view_count": null,
                        "_view_module": "@jupyter-widgets/controls",
                        "_view_module_version": "1.5.0",
                        "_view_name": "HTMLView",
                        "description": "",
                        "description_tooltip": null,
                        "layout": "IPY_MODEL_2e9b0bb64f744e029902fbd2b0315125",
                        "placeholder": "​",
                        "style": "IPY_MODEL_9b96d947086342bd873559362c8a2722",
                        "value": "100%"
                    }
                },
                "cc23039b3a98496a9a269b8302b86d44": {
                    "model_module": "@jupyter-widgets/base",
                    "model_module_version": "1.2.0",
                    "model_name": "LayoutModel",
                    "state": {
                        "_model_module": "@jupyter-widgets/base",
                        "_model_module_version": "1.2.0",
                        "_model_name": "LayoutModel",
                        "_view_count": null,
                        "_view_module": "@jupyter-widgets/base",
                        "_view_module_version": "1.2.0",
                        "_view_name": "LayoutView",
                        "align_content": null,
                        "align_items": null,
                        "align_self": null,
                        "border": null,
                        "bottom": null,
                        "display": null,
                        "flex": null,
                        "flex_flow": null,
                        "grid_area": null,
                        "grid_auto_columns": null,
                        "grid_auto_flow": null,
                        "grid_auto_rows": null,
                        "grid_column": null,
                        "grid_gap": null,
                        "grid_row": null,
                        "grid_template_areas": null,
                        "grid_template_columns": null,
                        "grid_template_rows": null,
                        "height": null,
                        "justify_content": null,
                        "justify_items": null,
                        "left": null,
                        "margin": null,
                        "max_height": null,
                        "max_width": null,
                        "min_height": null,
                        "min_width": null,
                        "object_fit": null,
                        "object_position": null,
                        "order": null,
                        "overflow": null,
                        "overflow_x": null,
                        "overflow_y": null,
                        "padding": null,
                        "right": null,
                        "top": null,
                        "visibility": null,
                        "width": null
                    }
                },
                "d5d65ba759cb45ee890724400e154e0a": {
                    "model_module": "@jupyter-widgets/base",
                    "model_module_version": "1.2.0",
                    "model_name": "LayoutModel",
                    "state": {
                        "_model_module": "@jupyter-widgets/base",
                        "_model_module_version": "1.2.0",
                        "_model_name": "LayoutModel",
                        "_view_count": null,
                        "_view_module": "@jupyter-widgets/base",
                        "_view_module_version": "1.2.0",
                        "_view_name": "LayoutView",
                        "align_content": null,
                        "align_items": null,
                        "align_self": null,
                        "border": null,
                        "bottom": null,
                        "display": null,
                        "flex": null,
                        "flex_flow": null,
                        "grid_area": null,
                        "grid_auto_columns": null,
                        "grid_auto_flow": null,
                        "grid_auto_rows": null,
                        "grid_column": null,
                        "grid_gap": null,
                        "grid_row": null,
                        "grid_template_areas": null,
                        "grid_template_columns": null,
                        "grid_template_rows": null,
                        "height": null,
                        "justify_content": null,
                        "justify_items": null,
                        "left": null,
                        "margin": null,
                        "max_height": null,
                        "max_width": null,
                        "min_height": null,
                        "min_width": null,
                        "object_fit": null,
                        "object_position": null,
                        "order": null,
                        "overflow": null,
                        "overflow_x": null,
                        "overflow_y": null,
                        "padding": null,
                        "right": null,
                        "top": null,
                        "visibility": null,
                        "width": null
                    }
                }
            }
        }
    },
    "nbformat": 4,
    "nbformat_minor": 0
}
