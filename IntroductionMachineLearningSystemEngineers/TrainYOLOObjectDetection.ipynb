{
 "cells": [
  {
   "attachments": {},
   "cell_type": "markdown",
   "metadata": {},
   "source": [
    "[![Fixel Algorithms](https://fixelalgorithms.co/images/CCExt.png)](https://fixelalgorithms.gitlab.io)\n",
    "\n",
    "# AI for System Engineers and Project Managers\n",
    "\n",
    "## Deep Learning - Computer Vision - Object Detection of Ships / Vessels\n",
    "\n",
    "Training a YOLO Model for Ships / Vessels detection in aerial images.\n",
    "\n",
    "> Notebook by:\n",
    "> - Royi Avital RoyiAvital@fixelalgorithms.com\n",
    "\n",
    "## Revision History\n",
    "\n",
    "| Version | Date       | User        |Content / Changes                                                   |\n",
    "|---------|------------|-------------|--------------------------------------------------------------------|\n",
    "| 1.0.000 | 01/03/2025 | Royi Avital | First version                                                      |"
   ]
  },
  {
   "attachments": {},
   "cell_type": "markdown",
   "metadata": {},
   "source": [
    "[![Open In Colab](https://colab.research.google.com/assets/colab-badge.svg)](https://colab.research.google.com/github/FixelAlgorithmsTeam/FixelCourses/blob/master/AIProgram/2024_02/0037FeaturesTransform.ipynb)"
   ]
  },
  {
   "cell_type": "code",
   "execution_count": null,
   "metadata": {
    "ExecuteTime": {
     "end_time": "2022-02-02T09:30:06.492269Z",
     "start_time": "2022-02-02T09:30:06.220934Z"
    }
   },
   "outputs": [],
   "source": [
    "# Import Packages\n",
    "\n",
    "# General Tools\n",
    "import numpy as np\n",
    "import scipy as sp\n",
    "import pandas as pd\n",
    "\n",
    "# Machine Learning\n",
    "\n",
    "# Deep Learning\n",
    "from ultralytics import YOLO\n",
    "from ultralytics import settings as dYoloSettings\n",
    "\n",
    "# Image Processing\n",
    "from PIL import Image, ImageOps\n",
    "import skimage as ski\n",
    "\n",
    "# Miscellaneous\n",
    "import math\n",
    "import os\n",
    "import pickle\n",
    "from platform import python_version\n",
    "import random\n",
    "import onedrivedownloader #<! https://github.com/loribonna/onedrivedownloader\n",
    "\n",
    "# Typing\n",
    "from typing import Callable, Dict, List, Optional, Self, Set, Tuple, Union\n",
    "\n",
    "# Visualization\n",
    "import matplotlib as mpl\n",
    "from matplotlib.patches import Rectangle\n",
    "import matplotlib.pyplot as plt\n",
    "import seaborn as sns\n",
    "\n",
    "# Jupyter\n",
    "from IPython import get_ipython"
   ]
  },
  {
   "attachments": {},
   "cell_type": "markdown",
   "metadata": {},
   "source": [
    "## Notations\n",
    "\n",
    "* <font color='red'>(**?**)</font> Question to answer interactively.\n",
    "* <font color='blue'>(**!**)</font> Simple task to add code for the notebook.\n",
    "* <font color='green'>(**@**)</font> Optional / Extra self practice.\n",
    "* <font color='brown'>(**#**)</font> Note / Useful resource / Food for thought.\n",
    "\n",
    "Code Notations:\n",
    "\n",
    "```python\n",
    "someVar    = 2; #<! Notation for a variable\n",
    "vVector    = np.random.rand(4) #<! Notation for 1D array\n",
    "mMatrix    = np.random.rand(4, 3) #<! Notation for 2D array\n",
    "tTensor    = np.random.rand(4, 3, 2, 3) #<! Notation for nD array (Tensor)\n",
    "tuTuple    = (1, 2, 3) #<! Notation for a tuple\n",
    "lList      = [1, 2, 3] #<! Notation for a list\n",
    "dDict      = {1: 3, 2: 2, 3: 1} #<! Notation for a dictionary\n",
    "oObj       = MyClass() #<! Notation for an object\n",
    "dfData     = pd.DataFrame() #<! Notation for a data frame\n",
    "dsData     = pd.Series() #<! Notation for a series\n",
    "hObj       = plt.Axes() #<! Notation for an object / handler / function handler\n",
    "```\n",
    "\n",
    "### Code Exercise\n",
    "\n",
    " - Single line fill\n",
    "\n",
    " ```python\n",
    " vallToFill = ???\n",
    " ```\n",
    "\n",
    " - Multi Line to Fill (At least one)\n",
    "\n",
    "```python\n",
    "# You need to start writing\n",
    "?????\n",
    "```\n",
    "\n",
    " - Section to Fill\n",
    "\n",
    "```python\n",
    "#===========================Fill This===========================#\n",
    "# 1. Explanation about what to do.\n",
    "# !! Remarks to follow / take under consideration.\n",
    "mX = ???\n",
    "\n",
    "?????\n",
    "#===============================================================#\n",
    "```"
   ]
  },
  {
   "cell_type": "code",
   "execution_count": null,
   "metadata": {},
   "outputs": [],
   "source": [
    "# Configuration\n",
    "# %matplotlib inline\n",
    "\n",
    "seedNum = 512\n",
    "np.random.seed(seedNum)\n",
    "random.seed(seedNum)\n",
    "\n",
    "# Matplotlib default color palette\n",
    "lMatPltLibclr = ['#1f77b4', '#ff7f0e', '#2ca02c', '#d62728', '#9467bd', '#8c564b', '#e377c2', '#7f7f7f', '#bcbd22', '#17becf']\n",
    "# sns.set_theme() #>! Apply SeaBorn theme\n",
    "\n",
    "runInGoogleColab = 'google.colab' in str(get_ipython())"
   ]
  },
  {
   "cell_type": "code",
   "execution_count": null,
   "metadata": {},
   "outputs": [],
   "source": [
    "# Constants\n",
    "\n",
    "FIG_SIZE_DEF    = (8, 8)\n",
    "ELM_SIZE_DEF    = 50\n",
    "CLASS_COLOR     = ('b', 'r')\n",
    "EDGE_COLOR      = 'k'\n",
    "MARKER_SIZE_DEF = 10\n",
    "LINE_WIDTH_DEF  = 2\n",
    "\n",
    "PROJECT_NAME     = 'FixelCourses'\n",
    "DATA_FOLDER_PATH = 'DataSets'\n",
    "BASE_FOLDER      = os.getcwd()[:len(os.getcwd()) - (os.getcwd()[::-1].lower().find(PROJECT_NAME.lower()[::-1]))]\n",
    "\n",
    "L_IMG_EXT = ['.png', '.jpeg', '.jpg']"
   ]
  },
  {
   "cell_type": "code",
   "execution_count": null,
   "metadata": {},
   "outputs": [],
   "source": [
    "# Courses Packages\n",
    "\n"
   ]
  },
  {
   "cell_type": "code",
   "execution_count": null,
   "metadata": {},
   "outputs": [],
   "source": [
    "# General Auxiliary Functions\n",
    "\n",
    "class YoloImageSet():\n",
    "    def __init__(self: Self, folderPath: str, *, lImgExt: List[str] = L_IMG_EXT, imgFolderName: str = 'images', lblFolderName: str = 'labels') -> None:\n",
    "\n",
    "        imgFolderPath = os.path.join(folderPath, imgFolderName)\n",
    "        lblFolderPath = os.path.join(folderPath, lblFolderName)\n",
    "        lF = sorted(os.listdir(imgFolderPath))\n",
    "        # Valid file: Is a file, has a valid image extension, and has a corresponding TXT file\n",
    "        lFiles = [fileName for fileName in lF if (os.path.isfile(os.path.join(imgFolderPath, fileName)) \n",
    "                                                  and (os.path.splitext(fileName)[1] in lImgExt)\n",
    "                                                  and (os.path.isfile(os.path.join(lblFolderPath, os.path.splitext(fileName)[0] + '.txt'))))]\n",
    "        \n",
    "        # Build the labels data: Class, Bounding Box\n",
    "        lCls = [] #<! Class on all images\n",
    "        lY   = []\n",
    "        for itmName in lFiles:\n",
    "            fileName, fileExt = os.path.splitext(itmName)\n",
    "\n",
    "            with open(os.path.join(lblFolderPath, fileName + '.txt'), 'r') as hFile:\n",
    "\n",
    "                lLines  = hFile.readlines()\n",
    "                numRect = len(lLines)\n",
    "                vYi = np.zeros(numRect, dtype = np.float32)\n",
    "                mBi = np.zeros((numRect, 4), dtype = np.float32)\n",
    "                for ii, line in enumerate(lLines):\n",
    "                    lLabels = line.split(' ')\n",
    "                    lLabels = [float(x) for x in lLabels]\n",
    "                    vYi[ii] = lLabels[0]\n",
    "                    lCls.append(int(lLabels[0])) \n",
    "                    mBi[ii] = lLabels[1:5]\n",
    "            \n",
    "            lY.append(np.column_stack((vYi, mBi)))\n",
    "            # lY.append(np.c_[vYi, mBi])\n",
    "        \n",
    "        self._folderPath     = folderPath\n",
    "        self._imgFolderPath  = imgFolderPath\n",
    "        self._lblFolderPath  = lblFolderPath\n",
    "        self._lFiles         = lFiles\n",
    "        self._lY             = lY\n",
    "        self._lCls           = lCls\n",
    "        self._numSamples     = len(lFiles)\n",
    "    \n",
    "    def __len__( self: Self ) -> int:\n",
    "\n",
    "        return self._numSamples\n",
    "    \n",
    "    def __getitem__( self: Self, idx: int ) -> Tuple[np.ndarray, np.ndarray]:\n",
    "\n",
    "        oI  = Image.open(os.path.join(self._imgFolderPath, self._lFiles[idx]))\n",
    "        oI  = ImageOps.exif_transpose(oI)\n",
    "        mI  = np.array(oI)\n",
    "        tXi = ski.util.img_as_float32(mI)\n",
    "        # tXi = np.transpose(tXi, (2, 0, 1))\n",
    "        mYi = self._lY[idx]\n",
    "\n",
    "        return tXi, mYi\n",
    "\n",
    "\n",
    "def PlotBox( mI: np.ndarray, vLabel: Union[int, np.ndarray], mBox: np.ndarray, *, hA: Optional[plt.Axes] = None, dLabelText: Optional[Dict[int, str]] = None ) -> plt.Axes:\n",
    "    # Assumes data in YOLO Format: [x, y, w, h] (Center, Height, Width)\n",
    "\n",
    "    if hA is None:\n",
    "        dpi = 72\n",
    "        numRows, numCols = mI.shape[:2]\n",
    "        hF, hA = plt.subplots(figsize = (int(np.ceil(numCols / dpi) + 1), int(np.ceil(numRows / dpi) + 1)))\n",
    "\n",
    "    hA.imshow(mI, extent = [0, 1, 1, 0]) #<! \"Normalized Image\"\n",
    "    hA.grid(False)\n",
    "\n",
    "    mBox = np.atleast_2d(mBox)\n",
    "    vLabel = np.atleast_1d(vLabel)\n",
    "    numObj = mBox.shape[0]\n",
    "    for ii in range(numObj):\n",
    "        if dLabelText is not None:\n",
    "            labelText = dLabelText[vLabel[ii]]\n",
    "        else:\n",
    "            labelText = '_'\n",
    "        PlotBBox(hA, vLabel[ii], mBox[ii], labelText)\n",
    "\n",
    "    return hA\n",
    "\n",
    "def PlotBBox( hA: plt.Axes, boxLabel: int, vBox: np.ndarray, labelText: str = '_' ) -> plt.Axes:\n",
    "    # Assumes data in YOLO Format: [x, y, w, h] (Center, Height, Width)\n",
    "    # Legend Text: https://stackoverflow.com/questions/24680981\n",
    "\n",
    "    edgeColor = hA._get_lines.get_next_color()\n",
    "\n",
    "    rectPatch = Rectangle((vBox[0] - (vBox[2] / 2), vBox[1] - (vBox[3] / 2)), vBox[2], vBox[3], linewidth = 2, edgecolor = edgeColor, facecolor = (0, 0, 0, 0), label = labelText) #<! Requires the alpha component in the face color\n",
    "    hA.add_patch(rectPatch)\n",
    "    hA.text(vBox[0] - (vBox[2] / 2), vBox[1] - (vBox[3] / 2), s = boxLabel, color = 'w', verticalalignment = 'bottom', bbox = {'color': edgeColor}, fontdict = {'size': 16})\n",
    "    hA.plot(vBox[0], vBox[1], 'x', mew = 5, ms = 10, color = edgeColor)\n",
    "\n",
    "    return hA\n",
    "\n",
    "def PlotCollage( oYoloSet: YoloImageSet, numRows: int, numCols: int, dLabelText: Dict[int, str] ) -> plt.Figure:\n",
    "\n",
    "    numSamples = len(oYoloSet)\n",
    "\n",
    "    hF, vHa = plt.subplots(nrows = numRows, ncols = numCols, figsize = (numRows * 3, numCols * 3))\n",
    "    vHa = vHa.flat\n",
    "    lImgIdx = random.choices(range(numSamples), k = numRows * numCols)\n",
    "\n",
    "    for ii, hA in enumerate(vHa):\n",
    "        tI, mY = oYoloSet[lImgIdx[ii]]\n",
    "        vLabel = mY[:, 0].astype(np.int32)\n",
    "        mBox   = mY[:, 1:]\n",
    "        hA     = PlotBox(tI, vLabel, mBox, hA = hA, dLabelText = dLabelText)\n",
    "        hA.set_title(f'File #: {lImgIdx[ii]:04d}')"
   ]
  },
  {
   "cell_type": "markdown",
   "metadata": {},
   "source": [
    "## Object Detection\n",
    "\n",
    "Object Detection was one of the first tasks to be \"_solved_\" by Deep Learning models.  \n",
    "There are 2 main approaches to Object Detection:\n",
    "\n",
    "1. A Two Phases Model   \n",
    "   The model basically tries to \"segment\" areas of high probability and let another model extracts the class and the bounding models.  \n",
    "   In early days considered ot be a more accurate approach though slower.\n",
    "2. A Single Phase Model  \n",
    "   The model combines the detection and regression of the box into a single model.\n",
    "   Pioneered by the SSD and YOLO Models.\n",
    "\n",
    "\n",
    "### YOLO Style Detection Tensor\n",
    "\n",
    "![](https://i.imgur.com/CE1Ef7g.png)\n",
    "\n",
    "\n",
    "* <font color='brown'>(**#**)</font> There are known datasets for object detection: [COCO Dataset](https://cocodataset.org), [PASCAL VOC](http://host.robots.ox.ac.uk/pascal/VOC/).   \n",
    "  They also define standards for the labeling system.  \n",
    "  Training them is on the scale of days.\n",
    "* <font color='brown'>(**#**)</font> [Object Detection Annotation Formats](https://albumentations.ai/docs/getting_started/bounding_boxes_augmentation).\n",
    "* <font color='brown'>(**#**)</font> Review of Object Detection approaches is given by Lilian Weng: [Part 1: Gradient Vector, HOG, and SS](https://lilianweng.github.io/posts/2017-10-29-object-recognition-part-1), [Part 2: CNN, DPM and Overfeat](https://lilianweng.github.io/posts/2017-12-15-object-recognition-part-2), [Part 3: R-CNN Family](https://lilianweng.github.io/posts/2017-12-31-object-recognition-part-3), [Part 4: Fast Detection Models](https://lilianweng.github.io/posts/2018-12-27-object-recognition-part-4).\n",
    "* <font color='brown'>(**#**)</font> A different approach by the SSD Architecture: [SSD object detection: Single Shot MultiBox Detector for real-time processing](https://scribe.rip/9bd8deac0e06), [Review: SSD — Single Shot Detector (Object Detection)](https://scribe.rip/851a94607d11)."
   ]
  },
  {
   "cell_type": "code",
   "execution_count": null,
   "metadata": {},
   "outputs": [],
   "source": [
    "# Parameters\n",
    "\n",
    "# Data\n",
    "datasetName = 'ShipsAerialImages'\n",
    "datasetUrl  = 'https://technionmail-my.sharepoint.com/:u:/g/personal/royia_technion_ac_il/EaWzsh8MduNKt-V2DuAoipgBC0sVzyTBoOFBIxxBP3M6iA'\n",
    "dLabels     = {0: 'Ship'}\n",
    "dataConfig  = 'Data.yaml'\n",
    "\n",
    "# Pre Processing\n",
    "\n",
    "# Model\n",
    "\n",
    "# Training\n",
    "numEpoch = 100\n",
    "\n",
    "# Data Visualization\n"
   ]
  },
  {
   "cell_type": "markdown",
   "metadata": {},
   "source": [
    "## Generate / Load Data\n"
   ]
  },
  {
   "cell_type": "code",
   "execution_count": null,
   "metadata": {},
   "outputs": [],
   "source": [
    "# Verify Data is Available\n",
    "\n",
    "dataSetPath = os.path.join(BASE_FOLDER, DATA_FOLDER_PATH, datasetName)\n",
    "\n",
    "if not os.path.isdir(dataSetPath):\n",
    "    # Download, unzip and remove ZIP file\n",
    "    onedrivedownloader.download(datasetUrl, os.path.join(BASE_FOLDER, DATA_FOLDER_PATH, datasetName + '.zip'), unzip = True, clean = True)"
   ]
  },
  {
   "cell_type": "code",
   "execution_count": null,
   "metadata": {},
   "outputs": [],
   "source": [
    "# Generate Data \n",
    "\n",
    "oYoloTrainSet = YoloImageSet(os.path.join(dataSetPath, 'train'))\n",
    "oYoloValSet   = YoloImageSet(os.path.join(dataSetPath, 'validation'))\n",
    "oYoloTestSet  = YoloImageSet(os.path.join(dataSetPath, 'test'))\n",
    "\n",
    "print(f'Number of Samples (Train)     : {len(oYoloTrainSet)}')\n",
    "print(f'Number of Samples (Validation): {len(oYoloValSet)}')\n",
    "print(f'Number of Samples (Test)      : {len(oYoloTestSet)}')\n"
   ]
  },
  {
   "cell_type": "markdown",
   "metadata": {},
   "source": [
    "### Plot Data"
   ]
  },
  {
   "cell_type": "code",
   "execution_count": null,
   "metadata": {},
   "outputs": [],
   "source": [
    "# Plot the Data\n",
    "\n",
    "hA = PlotCollage(oYoloTrainSet, 3, 3, dLabelText = dLabels)"
   ]
  },
  {
   "cell_type": "markdown",
   "metadata": {},
   "source": [
    "* <font color='brown'>(**#**)</font> Some of the images are not well annotated."
   ]
  },
  {
   "cell_type": "markdown",
   "metadata": {},
   "source": [
    "## Train a YOLO Model\n",
    "\n",
    "The most popular training framework for YOLO models is given by [Ultralytics](https://github.com/ultralytics/ultralytics).\n",
    "\n",
    "* <font color='brown'>(**#**)</font> While the models are usually MIT licensed, using the Ultralytics framework in commercial context requires a license."
   ]
  },
  {
   "cell_type": "code",
   "execution_count": null,
   "metadata": {},
   "outputs": [],
   "source": [
    "# YOLO Settings\n",
    "\n",
    "print(dYoloSettings)\n",
    "dYoloSettings.update({'datasets_dir': dataSetPath})\n",
    "dYoloSettings.update({'clearml': False})\n",
    "dYoloSettings.update({'comet': False})\n",
    "dYoloSettings.update({'dvc': False})\n",
    "dYoloSettings.update({'hub': False})\n",
    "dYoloSettings.update({'mlflow': False})\n",
    "dYoloSettings.update({'neptune': False})\n",
    "dYoloSettings.update({'raytune': False})\n",
    "print(dYoloSettings)"
   ]
  },
  {
   "cell_type": "code",
   "execution_count": null,
   "metadata": {},
   "outputs": [],
   "source": [
    "# Yolo Model\n",
    "\n",
    "oModel = YOLO('yolo11n.pt', task = 'detect')\n",
    "dTrainResult = oModel.train(data = os.path.join(dataSetPath, dataConfig), epochs = numEpoch)"
   ]
  },
  {
   "cell_type": "code",
   "execution_count": null,
   "metadata": {},
   "outputs": [],
   "source": [
    "# Analysis\n",
    "\n",
    "# Get training path\n",
    "trainPath = str(dTrainResult.save_dir)\n",
    "\n",
    "# Save the output\n",
    "with open(os.path.join(trainPath, 'dTrainResult.pkl'), 'wb') as hFile:\n",
    "    pickle.dump(dTrainResult, hFile)\n",
    "\n",
    "# DataFrame of the training process\n",
    "dfResults = pd.read_csv(os.path.join(trainPath, 'results.csv'))\n",
    "dfResults\n",
    "\n",
    "\n"
   ]
  },
  {
   "cell_type": "markdown",
   "metadata": {},
   "source": [
    "* <font color='brown'>(**#**)</font> The [Distributed Focal Loss](https://arxiv.org/abs/2006.04388) (DFL) is an adaptation of the Focal Loss to better deal with imbalanced data as in most Object Detection tasks.  \n",
    "See [Review - Generalized Focal Loss: Learning Qualified and Distributed Bounding Boxes for Dense Object Detection](https://patrick-llgc.github.io/Learning-Deep-Learning/paper_notes/gfocal.html), [StackOverflow - The DFL Loss in YOLO](https://stackoverflow.com/questions/75950283), [Distribution Focal Loss for Dense Object Detection](https://www.linkedin.com/pulse/distribution-focal-loss-dense-object-detection-dsaisolutions-wek4f)."
   ]
  },
  {
   "cell_type": "code",
   "execution_count": null,
   "metadata": {},
   "outputs": [],
   "source": [
    "lResults = oModel.predict(os.path.join(dataSetPath, 'test', 'images', 'd0011_png.rf.5f4c5ec53b76258a7bc2af23efb4a908.jpg'), \n",
    "               visualize = True, show = False, save = False)"
   ]
  },
  {
   "cell_type": "code",
   "execution_count": null,
   "metadata": {},
   "outputs": [],
   "source": [
    "for ii, oRes in enumerate(lResults):\n",
    "    tIBgr = oRes.plot(show = False)  #<! BGR numpy array\n",
    "    tI    = Image.fromarray(tIBgr[..., ::-1])  #<! RGB PIL image\n",
    "    oRes.save(filename = os.path.join(trainPath, f'TestResult{ii:04}.png'))"
   ]
  }
 ],
 "metadata": {
  "kernelspec": {
   "display_name": "Python 3",
   "language": "python",
   "name": "python3"
  },
  "language_info": {
   "codemirror_mode": {
    "name": "ipython",
    "version": 3
   },
   "file_extension": ".py",
   "mimetype": "text/x-python",
   "name": "python",
   "nbconvert_exporter": "python",
   "pygments_lexer": "ipython3",
   "version": "3.12.9"
  },
  "toc": {
   "base_numbering": 1,
   "nav_menu": {},
   "number_sections": false,
   "sideBar": true,
   "skip_h1_title": false,
   "title_cell": "Table of Contents",
   "title_sidebar": "Contents",
   "toc_cell": false,
   "toc_position": {},
   "toc_section_display": true,
   "toc_window_display": true
  },
  "varInspector": {
   "cols": {
    "lenName": 16,
    "lenType": 16,
    "lenVar": 40
   },
   "kernels_config": {
    "python": {
     "delete_cmd_postfix": "",
     "delete_cmd_prefix": "del ",
     "library": "var_list.py",
     "varRefreshCmd": "print(var_dic_list())"
    },
    "r": {
     "delete_cmd_postfix": ") ",
     "delete_cmd_prefix": "rm(",
     "library": "var_list.r",
     "varRefreshCmd": "cat(var_dic_list()) "
    }
   },
   "types_to_exclude": [
    "module",
    "function",
    "builtin_function_or_method",
    "instance",
    "_Feature"
   ],
   "window_display": false
  },
  "vscode": {
   "interpreter": {
    "hash": "39577bab1f263e62e0b74f5b8086bd735049bf4751f6562b2d4b2969dc308293"
   }
  }
 },
 "nbformat": 4,
 "nbformat_minor": 4
}
