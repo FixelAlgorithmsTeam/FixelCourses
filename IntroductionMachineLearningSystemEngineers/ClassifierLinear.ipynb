{
 "cells": [
  {
   "cell_type": "markdown",
   "metadata": {},
   "source": [
    "[![Fixel Algorithms](https://fixelalgorithms.co/images/CCExt.png)](https://fixelalgorithms.gitlab.io/)\n",
    "\n",
    "# Classifier - The Linear Classifier\n",
    "\n",
    "> Notebook by:\n",
    "> - Royi Avital RoyiAvital@fixelalgorithms.com\n",
    "\n",
    "## Revision History\n",
    "\n",
    "| Version | Date       | User        |Content / Changes                                                   |\n",
    "|---------|------------|-------------|--------------------------------------------------------------------|\n",
    "| 0.1.000 | 17/09/2022 | Royi Avital | First version                                                      |\n",
    "|         |            |             |                                                                    |"
   ]
  },
  {
   "cell_type": "markdown",
   "metadata": {},
   "source": [
    "[![Open In Colab](https://colab.research.google.com/assets/colab-badge.svg)](https://colab.research.google.com/github/FixelAlgorithmsTeam/FixelCourses/blob/master/IntroductionMachineLearningSystemEngineers/ClassifierLinear.ipynb)"
   ]
  },
  {
   "cell_type": "code",
   "execution_count": null,
   "metadata": {
    "ExecuteTime": {
     "end_time": "2022-02-02T09:30:06.492269Z",
     "start_time": "2022-02-02T09:30:06.220934Z"
    }
   },
   "outputs": [],
   "source": [
    "# Import Packages\n",
    "\n",
    "# General Tools\n",
    "import numpy as np\n",
    "import scipy as sp\n",
    "import pandas as pd\n",
    "\n",
    "# Machine Learning\n",
    "from sklearn.datasets import load_breast_cancer, make_circles\n",
    "from sklearn.neighbors import KNeighborsClassifier\n",
    "\n",
    "from scipy.spatial.distance import cdist\n",
    "\n",
    "# Misc\n",
    "import datetime\n",
    "import os\n",
    "from platform import python_version\n",
    "import random\n",
    "import warnings\n",
    "import yaml\n",
    "\n",
    "# Typing\n",
    "from typing import Tuple\n",
    "\n",
    "# Visualization\n",
    "import matplotlib.pyplot as plt\n",
    "import seaborn as sns\n",
    "\n",
    "# Jupyter\n",
    "from IPython import get_ipython\n",
    "from IPython.display import Image, display\n",
    "from ipywidgets import Dropdown, FloatSlider, interact, IntSlider, Layout"
   ]
  },
  {
   "cell_type": "code",
   "execution_count": null,
   "metadata": {},
   "outputs": [],
   "source": [
    "# Configuration\n",
    "%matplotlib inline\n",
    "\n",
    "warnings.filterwarnings(\"ignore\")\n",
    "\n",
    "seedNum = 512\n",
    "np.random.seed(seedNum)\n",
    "random.seed(seedNum)\n",
    "\n",
    "# sns.set_theme() #>! Apply SeaBorn theme\n",
    "\n",
    "runInGoogleColab = 'google.colab' in str(get_ipython())"
   ]
  },
  {
   "cell_type": "code",
   "execution_count": null,
   "metadata": {},
   "outputs": [],
   "source": [
    "# Constants\n",
    "\n",
    "FIG_SIZE_DEF = (8, 8)\n",
    "ELM_SIZE_DEF = 50\n",
    "CLASS_COLOR = ('b', 'r')\n"
   ]
  },
  {
   "cell_type": "code",
   "execution_count": null,
   "metadata": {},
   "outputs": [],
   "source": [
    "# Fixel Algorithms Packages\n"
   ]
  },
  {
   "cell_type": "code",
   "execution_count": null,
   "metadata": {},
   "outputs": [],
   "source": [
    "# Parameters\n",
    "\n",
    "# Data Generation\n",
    "numSamples = 1000\n",
    "numSwaps = int(0.05 * numSamples)\n",
    "\n",
    "# Ground Truth Classifier\n",
    "paramA = -1\n",
    "paramB = 0.3\n",
    "\n",
    "# Data Visuzalization\n",
    "figSize     = (8, 8)\n",
    "elmSize     = 50\n",
    "classColor0 = 'b'\n",
    "classColor1 = 'r'\n",
    "\n",
    "numGridPts = 250"
   ]
  },
  {
   "cell_type": "code",
   "execution_count": null,
   "metadata": {},
   "outputs": [],
   "source": [
    "# Auxiliary Functions\n",
    "\n",
    "def PlotBinaryClassData( mX: np.ndarray, vY: np.ndarray, hA:plt.Axes = None, figSize: Tuple[int, int] = FIG_SIZE_DEF, elmSize: int = ELM_SIZE_DEF, classColor: Tuple[str, str] = CLASS_COLOR, axisTitle: str = None ) -> plt.Axes:\n",
    "\n",
    "    if hA is None:\n",
    "        hF, hA = plt.subplots(figsize = figSize)\n",
    "    else:\n",
    "        hF = hA.get_figure()\n",
    "    \n",
    "    vC, vN = np.unique(vY, return_counts = True)\n",
    "\n",
    "    numClass = len(vC)\n",
    "    if (len(vC) != 2):\n",
    "        raise ValueError(f'The input data is not binary, the number of classes is: {numClass}')\n",
    "\n",
    "    vIdx0 = vY == vC[0]\n",
    "    vIdx1 = vY == vC[1] #<! Basically ~vIdx0\n",
    "\n",
    "    hA.scatter(mX[vIdx0, 0], mX[vIdx0, 1], s = elmSize, color = classColor[0], edgecolor = 'k', label = f'$C_\\u007b {vC[0]} \\u007d$')\n",
    "    hA.scatter(mX[vIdx1, 0], mX[vIdx1, 1], s = elmSize, color = classColor[1], edgecolor = 'k', label = f'$C_\\u007b {vC[1]} \\u007d$')\n",
    "    hA.axvline(x = 0, color = 'k')\n",
    "    hA.axhline(y = 0, color = 'k')\n",
    "    hA.axis('equal')\n",
    "    if axisTitle is not None:\n",
    "        hA.set_title(axisTitle)\n",
    "    hA.legend()\n",
    "    \n",
    "    return hA"
   ]
  },
  {
   "cell_type": "markdown",
   "metadata": {},
   "source": [
    "## Generate / Load Data\n",
    "\n"
   ]
  },
  {
   "cell_type": "code",
   "execution_count": null,
   "metadata": {},
   "outputs": [],
   "source": [
    "# Generate Data \n",
    "vL = np.array([paramA, paramB]) #<! The line is y = ax + b\n",
    "mX = 4 * np.random.rand(numSamples, 2) - 2 #<! The box [-2, 2] x [-2, 2]\n",
    "vY = paramA * mX[:, 0] + paramB < mX[:, 1] #<! Class 0: Below the curve, Class 1: Above the curve\n",
    "vY[:numSwaps] = ~vY[:numSwaps]\n",
    "vY = vY.astype(np.integer)"
   ]
  },
  {
   "cell_type": "markdown",
   "metadata": {},
   "source": [
    "### Plot Data"
   ]
  },
  {
   "cell_type": "code",
   "execution_count": null,
   "metadata": {},
   "outputs": [],
   "source": [
    "# Display the Data\n",
    "\n",
    "hA = PlotBinaryClassData(mX, vY, axisTitle = 'Training Set')"
   ]
  },
  {
   "cell_type": "markdown",
   "metadata": {},
   "source": [
    "## Linear Classifier\n",
    "\n",
    "$$f_{\\left( \\boldsymbol{w} \\right)} \\left(\\boldsymbol{x}\\right)=\\mathrm{sign}\\left(\\boldsymbol{w}^{T}\\boldsymbol{x}-b\\right)$$\n",
    "\n",
    "Where $w$ are the parameters of the a linear plane."
   ]
  },
  {
   "cell_type": "code",
   "execution_count": null,
   "metadata": {
    "ExecuteTime": {
     "end_time": "2022-02-02T09:30:07.130934Z",
     "start_time": "2022-02-02T09:30:06.821071Z"
    }
   },
   "outputs": [],
   "source": [
    "# Grid of the data support\n",
    "vV       = np.linspace(-2, 2, numGridPts)\n",
    "XX0, XX1 = np.meshgrid(vV, vV)\n",
    "XX       = np.stack([XX0.flatten(), XX1.flatten()])\n",
    "\n",
    "def PlotLinearClassifier(θ, b):\n",
    "    vW = np.array([np.cos(np.deg2rad(θ)), np.sin(np.deg2rad(θ))])\n",
    "\n",
    "    # vZ = (vW @ XX - vW[1] * b) > 0 #<! Moving from y = ax + b -> w1 x1 + w2 x2 - b = 0\n",
    "    vZ = (vW @ XX - b) > 0\n",
    "    ZZ = vZ.reshape(XX0.shape)\n",
    "    \n",
    "    # vHatY    = np.sign(vW @ mX.T - vW[1] * b) > 0 #<! Moving from y = ax + b -> w1 x1 + w2 x2 - b = 0\n",
    "    vHatY    = np.sign(vW @ mX.T -b) > 0\n",
    "    accuracy = np.mean(vY == vHatY)\n",
    "\n",
    "    axisTitle = r'$f_{{w},b}\\left({x}\\right)={sign}\\left({w}^{T}{x}-b\\right)$' '\\n' f'Accuracy = {accuracy:.2%}'\n",
    "\n",
    "    hF, hA = plt.subplots(figsize = (8, 8))\n",
    "    PlotBinaryClassData(mX, vY, hA = hA, axisTitle = axisTitle)\n",
    "    v = np.array([-2, 2])\n",
    "    hA.grid(True)\n",
    "    # hA.plot(v, -(vW[0] / vW[1]) * v + b, color = 'k', lw = 3) #<! y = ax + b notation\n",
    "    hA.plot(v, -(vW[0] / vW[1]) * v + (b / vW[1]), color = 'k', lw = 3) #<! y = ax + b notation\n",
    "    hA.arrow(0, 0, vW[0], vW[1], color = 'orange', width = 0.05)\n",
    "    hA.axvline(x = 0, color = 'k', lw = 1)\n",
    "    hA.axhline(y = 0, color = 'k', lw = 1)\n",
    "    hA.contourf(XX0, XX1, ZZ, colors = CLASS_COLOR, alpha = 0.2, levels = [-0.5, 0.5, 1.5], zorder = 0)\n",
    "    \n",
    "    hA.axis([-2, 2, -2, 2])\n",
    "    hA.set_xlabel('$x_1$')\n",
    "    hA.set_ylabel('$x_2$')\n",
    "    \n",
    "    plt.show()"
   ]
  },
  {
   "cell_type": "code",
   "execution_count": null,
   "metadata": {
    "ExecuteTime": {
     "end_time": "2022-02-02T09:30:07.363146Z",
     "start_time": "2022-02-02T09:30:07.131936Z"
    }
   },
   "outputs": [],
   "source": [
    "# Display the Geometry of the Classifier\n",
    "\n",
    "θSlider = FloatSlider(min = 0, max = 360, step = 1, value = 30, layout = Layout(width = '30%'))\n",
    "bSlider = FloatSlider(min = -2.5, max = 2.5, step = 0.1, value = -0.3, layout = Layout(width = '30%'))\n",
    "interact(PlotLinearClassifier, θ = θSlider, b = bSlider)"
   ]
  }
 ],
 "metadata": {
  "kernelspec": {
   "display_name": "Python 3.10.5 64-bit (system)",
   "language": "python",
   "name": "python3"
  },
  "language_info": {
   "codemirror_mode": {
    "name": "ipython",
    "version": 3
   },
   "file_extension": ".py",
   "mimetype": "text/x-python",
   "name": "python",
   "nbconvert_exporter": "python",
   "pygments_lexer": "ipython3",
   "version": "3.10.5"
  },
  "toc": {
   "base_numbering": 1,
   "nav_menu": {},
   "number_sections": false,
   "sideBar": true,
   "skip_h1_title": false,
   "title_cell": "Table of Contents",
   "title_sidebar": "Contents",
   "toc_cell": false,
   "toc_position": {},
   "toc_section_display": true,
   "toc_window_display": true
  },
  "varInspector": {
   "cols": {
    "lenName": 16,
    "lenType": 16,
    "lenVar": 40
   },
   "kernels_config": {
    "python": {
     "delete_cmd_postfix": "",
     "delete_cmd_prefix": "del ",
     "library": "var_list.py",
     "varRefreshCmd": "print(var_dic_list())"
    },
    "r": {
     "delete_cmd_postfix": ") ",
     "delete_cmd_prefix": "rm(",
     "library": "var_list.r",
     "varRefreshCmd": "cat(var_dic_list()) "
    }
   },
   "types_to_exclude": [
    "module",
    "function",
    "builtin_function_or_method",
    "instance",
    "_Feature"
   ],
   "window_display": false
  },
  "vscode": {
   "interpreter": {
    "hash": "7eecc89e9756f599c7795c711b2e1de4865f3e2c067be515b73e3b7137ab82cc"
   }
  }
 },
 "nbformat": 4,
 "nbformat_minor": 4
}
