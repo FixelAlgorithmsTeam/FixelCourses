{
 "cells": [
  {
   "cell_type": "markdown",
   "metadata": {},
   "source": [
    "[![Fixel Algorithms](https://fixelalgorithms.co/images/CCExt.png)](https://fixelalgorithms.gitlab.io/)\n",
    "\n",
    "# Regressor - Polyfit with Lasso Regularization\n",
    "\n",
    "> Notebook by:\n",
    "> - Royi Avital RoyiAvital@fixelalgorithms.com\n",
    "\n",
    "## Revision History\n",
    "\n",
    "| Version | Date       | User        |Content / Changes                                                   |\n",
    "|---------|------------|-------------|--------------------------------------------------------------------|\n",
    "| 0.1.000 | 01/10/2022 | Royi Avital | First version                                                      |\n",
    "|         |            |             |                                                                    |"
   ]
  },
  {
   "cell_type": "markdown",
   "metadata": {},
   "source": [
    "[![Open In Colab](https://colab.research.google.com/assets/colab-badge.svg)](https://colab.research.google.com/github/FixelAlgorithmsTeam/FixelCourses/blob/master/IntroductionMachineLearningSystemEngineers/RegressorLasso.ipynb)"
   ]
  },
  {
   "cell_type": "code",
   "execution_count": null,
   "metadata": {
    "ExecuteTime": {
     "end_time": "2022-02-02T17:52:07.921383Z",
     "start_time": "2022-02-02T17:52:07.649130Z"
    }
   },
   "outputs": [],
   "source": [
    "# Import Packages\n",
    "\n",
    "# General Tools\n",
    "import numpy as np\n",
    "import scipy as sp\n",
    "import pandas as pd\n",
    "\n",
    "# Machine Learning\n",
    "from sklearn.linear_model import lars_path, Lasso, lasso_path\n",
    "from sklearn.metrics import r2_score\n",
    "from sklearn.preprocessing import PolynomialFeatures\n",
    "\n",
    "from scipy.spatial.distance import cdist\n",
    "\n",
    "# Misc\n",
    "import datetime\n",
    "import os\n",
    "from platform import python_version\n",
    "import random\n",
    "import warnings\n",
    "import yaml\n",
    "\n",
    "# Typing\n",
    "from typing import Tuple\n",
    "\n",
    "# Visualization\n",
    "import matplotlib.pyplot as plt\n",
    "import seaborn as sns\n",
    "\n",
    "# Jupyter\n",
    "from IPython import get_ipython\n",
    "from IPython.display import Image, display\n",
    "from ipywidgets import Dropdown, FloatSlider, interact, IntSlider, Layout"
   ]
  },
  {
   "cell_type": "code",
   "execution_count": null,
   "metadata": {},
   "outputs": [],
   "source": [
    "# Configuration\n",
    "%matplotlib inline\n",
    "\n",
    "warnings.filterwarnings(\"ignore\")\n",
    "\n",
    "seedNum = 512\n",
    "np.random.seed(seedNum)\n",
    "random.seed(seedNum)\n",
    "\n",
    "# sns.set_theme() #>! Apply SeaBorn theme\n",
    "\n",
    "runInGoogleColab = 'google.colab' in str(get_ipython())"
   ]
  },
  {
   "cell_type": "code",
   "execution_count": null,
   "metadata": {},
   "outputs": [],
   "source": [
    "# Constants\n",
    "\n",
    "FIG_SIZE_DEF    = (8, 8)\n",
    "ELM_SIZE_DEF    = 50\n",
    "CLASS_COLOR     = ('b', 'r')\n",
    "EDGE_COLOR      = 'k'\n",
    "MARKER_SIZE_DEF = 10\n",
    "LINE_WIDTH_DEF  = 2\n"
   ]
  },
  {
   "cell_type": "code",
   "execution_count": null,
   "metadata": {},
   "outputs": [],
   "source": [
    "# Fixel Algorithms Packages\n"
   ]
  },
  {
   "cell_type": "code",
   "execution_count": null,
   "metadata": {},
   "outputs": [],
   "source": [
    "# Parameters\n",
    "\n",
    "# Data Generation\n",
    "numSamples  = 50\n",
    "noiseStd    = 0.3\n",
    "\n",
    "# Model\n",
    "vP = np.array([0.25, 2, 5])\n",
    "polynomDeg = 2\n",
    "λ = 0.1\n",
    "\n",
    "# Data Visuzalization\n",
    "gridNoiseStd = 0.05\n",
    "numGridPts = 250"
   ]
  },
  {
   "cell_type": "code",
   "execution_count": null,
   "metadata": {},
   "outputs": [],
   "source": [
    "# Auxiliary Functions\n",
    "\n",
    "def PlotPolyFitLasso( vX: np.ndarray, vY: np.ndarray, vP: np.ndarray = None, P: int = 1, λ: float = 0.0, numGridPts: int = 1001, hA:plt.Axes = None, figSize: Tuple[int, int] = FIG_SIZE_DEF, markerSize: int = MARKER_SIZE_DEF, lineWidth: int = LINE_WIDTH_DEF, axisTitle: str = None ):\n",
    "\n",
    "    if hA is None:\n",
    "        hF, hA = plt.subplots(1, 2, figsize = figSize)\n",
    "    else:\n",
    "        hF = hA[0].get_figure()\n",
    "\n",
    "    numSamples = len(vY)\n",
    "\n",
    "    # Polyfit\n",
    "    if λ == 0:\n",
    "        # No Lasso (Classic Polyfit)\n",
    "        vW  = np.polyfit(vX, vY, P)\n",
    "    else:\n",
    "        # Lasso\n",
    "        mX   = PolynomialFeatures(degree = P, include_bias = False).fit_transform(vX[:, None])\n",
    "        oMdl = Lasso(alpha = λ, fit_intercept = True, max_iter = 30000).fit(mX, vY)\n",
    "        # Lasso coefficients\n",
    "        vW   = np.r_[oMdl.coef_[::-1], oMdl.intercept_]\n",
    "    \n",
    "    # R2 Score\n",
    "    vHatY = np.polyval(vW, vX)\n",
    "    R2    = r2_score(vY, vHatY)\n",
    "    \n",
    "    # Plot\n",
    "    xx  = np.linspace(np.around(np.min(vX), decimals = 1) - 0.1, np.around(np.max(vX), decimals = 1) + 0.1, numGridPts)\n",
    "    yy  = np.polyval(vW, xx)\n",
    "\n",
    "    hA[0].plot(vX, vY, '.r', ms = 10, label = '$y_i$')\n",
    "    hA[0].plot(xx, yy, 'b',  lw = 2,  label = '$\\hat{f}(x)$')\n",
    "    hA[0].set_title (f'P = {P}, R2 = {R2}')\n",
    "    hA[0].set_xlabel('$x$')\n",
    "    hA[0].set_xlim(left = xx[0], right = xx[-1])\n",
    "    hA[0].set_ylim(bottom = np.floor(np.min(vY)), top = np.ceil(np.max(vY)))\n",
    "    hA[0].grid()\n",
    "    hA[0].legend()\n",
    "    \n",
    "    hA[1].stem(vW[::-1], label = 'Estimated')\n",
    "    if vP is not None:\n",
    "        hA[1].stem(vP[::-1], linefmt = 'g', markerfmt = 'gD', label = 'Ground Truth')\n",
    "    hA[1].set_title('Coefficients')\n",
    "    hA[1].set_xlabel('$w$')\n",
    "    hA[1].set_ylim(bottom = -2, top = 6)\n",
    "    hA[1].legend()\n",
    "\n",
    "    # return hF\n",
    "\n"
   ]
  },
  {
   "cell_type": "markdown",
   "metadata": {},
   "source": [
    "## Generate Data\n",
    "\n",
    "$$ y_{i} = f \\left( x_{i} \\right) + \\epsilon_{i} $$\n",
    "\n",
    "Where\n",
    "\n",
    "$$ f \\left( x \\right) = \\frac{1}{2} x^{2} + 2x + 5 $$"
   ]
  },
  {
   "cell_type": "code",
   "execution_count": null,
   "metadata": {
    "ExecuteTime": {
     "end_time": "2022-02-02T17:53:07.834772Z",
     "start_time": "2022-02-02T17:53:07.448832Z"
    }
   },
   "outputs": [],
   "source": [
    "def f( vX ):\n",
    "    # return 0.25 * (vX ** 2) + 2 * vX + 5\n",
    "    return np.polyval(vP, vX)\n",
    "\n",
    "vX = np.linspace(-2, 2, numSamples, endpoint = True) + (gridNoiseStd * np.random.randn(numSamples))\n",
    "vN = noiseStd * np.random.randn(numSamples)\n",
    "vY = f(vX) + vN\n"
   ]
  },
  {
   "cell_type": "markdown",
   "metadata": {},
   "source": [
    "### Plot Data"
   ]
  },
  {
   "cell_type": "code",
   "execution_count": null,
   "metadata": {
    "ExecuteTime": {
     "end_time": "2022-02-02T17:53:32.623663Z",
     "start_time": "2022-02-02T17:53:32.542588Z"
    }
   },
   "outputs": [],
   "source": [
    "hF, hA = plt.subplots(figsize = FIG_SIZE_DEF)\n",
    "hA.plot(vX, vY, '.r', ms = MARKER_SIZE_DEF, label = r'$y_i = \\frac{2}{3}x_i^2 + 2x_i + 5 + \\epsilon_i$')\n",
    "hA.set_xlabel('$x$')\n",
    "hA.legend()\n",
    "hA.grid()"
   ]
  },
  {
   "cell_type": "markdown",
   "metadata": {},
   "source": [
    "## Train Polyfit Regressor with Lasso Regularization\n",
    "\n",
    "$$\\arg\\min_{\\boldsymbol{w},b}\\left\\Vert \\boldsymbol{y}-\\boldsymbol{\\Phi}\\boldsymbol{w} - b \\boldsymbol{1} \\right\\Vert _{2}^{2}+\\lambda\\left\\Vert \\boldsymbol{w}\\right\\Vert _{1}$$\n",
    "\n",
    "Where\n",
    "\n",
    "$$\\boldsymbol{\\Phi}=\\left[\\begin{matrix}x_{1} & x_{1}^{2} & \\cdots & x_{1}^{P}\\\\\n",
    "x_{2} & x_{2}^{2} & \\cdots & x_{2}^{P}\\\\\n",
    "\\vdots & \\vdots &  & \\vdots\\\\\n",
    "x_{N} & x_{N}^{2} & \\cdots & x_{N}^{P}\n",
    "\\end{matrix}\\right]$$"
   ]
  },
  {
   "cell_type": "code",
   "execution_count": null,
   "metadata": {
    "ExecuteTime": {
     "end_time": "2022-02-02T17:53:36.616328Z",
     "start_time": "2022-02-02T17:53:36.540260Z"
    }
   },
   "outputs": [],
   "source": [
    "# Polynomial Fit with Lasso Regularization\n",
    "\n",
    "mX   = PolynomialFeatures(degree = polynomDeg, include_bias = False).fit_transform(vX[:, None]) #<! Build the model matrix\n",
    "oMdl = Lasso(alpha = λ, fit_intercept = True, max_iter = 30000).fit(mX, vY)\n",
    "vW   = np.r_[oMdl.coef_[::-1], oMdl.intercept_]\n",
    "vW"
   ]
  },
  {
   "cell_type": "markdown",
   "metadata": {},
   "source": [
    "### Plot Regressor for Various Regularization (λ) Values"
   ]
  },
  {
   "cell_type": "code",
   "execution_count": null,
   "metadata": {
    "ExecuteTime": {
     "end_time": "2022-02-02T17:53:44.409199Z",
     "start_time": "2022-02-02T17:53:44.277079Z"
    }
   },
   "outputs": [],
   "source": [
    "hPolyFitLasso = lambda λ: PlotPolyFitLasso(vX, vY, vP = vP, P = 15, λ = λ)\n",
    "lamSlider = FloatSlider(min = 0, max = 2, step = 0.0001, value = 0, readout_format = '.4f', layout = Layout(width = '30%'))\n",
    "interact(hPolyFitLasso, λ = lamSlider)\n",
    "plt.show()"
   ]
  },
  {
   "cell_type": "markdown",
   "metadata": {},
   "source": [
    "## Lasso Path for Feature Importance\n",
    "\n",
    "The _rise_ of a feature is almost equivalent to the correlation.  \n",
    "Hence we cen use the _Lasso Path_ for feature selcection / significance."
   ]
  },
  {
   "cell_type": "code",
   "execution_count": null,
   "metadata": {},
   "outputs": [],
   "source": [
    "# Data from https://gist.github.com/seankross/a412dfbd88b3db70b74b\n",
    "# mpg - Miles per Gallon\n",
    "# cyl - # of cylinders\n",
    "# disp - displacement, in cubic inches\n",
    "# hp - horsepower\n",
    "# drat - driveshaft ratio\n",
    "# wt - weight\n",
    "# qsec - 1/4 mile time; a measure of acceleration\n",
    "# vs - 'V' or straight - engine shape\n",
    "# am - transmission; auto or manual\n",
    "# gear - # of gears\n",
    "# carb - # of carburetors\n",
    "dfMpg = pd.read_csv('https://github.com/FixelAlgorithmsTeam/FixelCourses/raw/master/DataSets/mtcars.csv')\n",
    "dfMpg"
   ]
  },
  {
   "cell_type": "code",
   "execution_count": null,
   "metadata": {},
   "outputs": [],
   "source": [
    "# Data for Analysis\n",
    "dfX = dfMpg.drop(columns = ['model', 'mpg'], inplace = False)\n",
    "dfX = (dfX - dfX.mean()) / dfX.std() #<! Normalize\n",
    "dsY = dfMpg['mpg'].copy() #<! Data Series"
   ]
  },
  {
   "cell_type": "code",
   "execution_count": null,
   "metadata": {},
   "outputs": [],
   "source": [
    "# LASSO Path Analysis\n",
    "\n",
    "alphasPath, coefsPath, *_ = lasso_path(dfX, dsY)\n",
    "# alphasPath, coefsPath, *_ = lars_path(dfX, dsY, method = 'lasso')\n",
    "\n",
    "\n"
   ]
  },
  {
   "cell_type": "code",
   "execution_count": null,
   "metadata": {},
   "outputs": [],
   "source": [
    "hF, hA = plt.subplots(figsize = (24, 16))\n",
    "hA.plot(alphasPath, np.abs(coefsPath.T), lw = 2, label = dfX.columns.to_list())\n",
    "hA.set_title('The Lasso Path')\n",
    "hA.set_xlabel('$\\lambda$')\n",
    "hA.set_ylabel('Coefficient Value')\n",
    "hA.legend()\n",
    "hF.show()\n"
   ]
  }
 ],
 "metadata": {
  "kernelspec": {
   "display_name": "Python 3.10.5 64-bit",
   "language": "python",
   "name": "python3"
  },
  "language_info": {
   "codemirror_mode": {
    "name": "ipython",
    "version": 3
   },
   "file_extension": ".py",
   "mimetype": "text/x-python",
   "name": "python",
   "nbconvert_exporter": "python",
   "pygments_lexer": "ipython3",
   "version": "3.10.5"
  },
  "toc": {
   "base_numbering": 1,
   "nav_menu": {},
   "number_sections": false,
   "sideBar": true,
   "skip_h1_title": false,
   "title_cell": "Table of Contents",
   "title_sidebar": "Contents",
   "toc_cell": false,
   "toc_position": {},
   "toc_section_display": true,
   "toc_window_display": false
  },
  "varInspector": {
   "cols": {
    "lenName": 16,
    "lenType": 16,
    "lenVar": 40
   },
   "kernels_config": {
    "python": {
     "delete_cmd_postfix": "",
     "delete_cmd_prefix": "del ",
     "library": "var_list.py",
     "varRefreshCmd": "print(var_dic_list())"
    },
    "r": {
     "delete_cmd_postfix": ") ",
     "delete_cmd_prefix": "rm(",
     "library": "var_list.r",
     "varRefreshCmd": "cat(var_dic_list()) "
    }
   },
   "types_to_exclude": [
    "module",
    "function",
    "builtin_function_or_method",
    "instance",
    "_Feature"
   ],
   "window_display": false
  },
  "vscode": {
   "interpreter": {
    "hash": "b091ae1a5f61fa4269f1f2c4a075dfd3ba6d6b741f8802b3932e01e064097caa"
   }
  }
 },
 "nbformat": 4,
 "nbformat_minor": 4
}
