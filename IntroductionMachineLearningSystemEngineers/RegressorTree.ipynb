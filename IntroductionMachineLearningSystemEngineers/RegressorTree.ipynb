{
 "cells": [
  {
   "cell_type": "markdown",
   "metadata": {},
   "source": [
    "[![Fixel Algorithms](https://fixelalgorithms.co/images/CCExt.png)](https://fixelalgorithms.gitlab.io)\n",
    "\n",
    "# Regressor - Regression Trees\n",
    "\n",
    "> Notebook by:\n",
    "> - Royi Avital RoyiAvital@fixelalgorithms.com\n",
    "\n",
    "## Revision History\n",
    "\n",
    "| Version | Date       | User        |Content / Changes                                                   |\n",
    "|---------|------------|-------------|--------------------------------------------------------------------|\n",
    "| 0.1.000 | 01/10/2022 | Royi Avital | First version                                                      |\n",
    "|         |            |             |                                                                    |"
   ]
  },
  {
   "cell_type": "markdown",
   "metadata": {},
   "source": [
    "[![Open In Colab](https://colab.research.google.com/assets/colab-badge.svg)](https://colab.research.google.com/github/FixelAlgorithmsTeam/FixelCourses/blob/master/IntroductionMachineLearningSystemEngineers/RegressorTree.ipynb)"
   ]
  },
  {
   "cell_type": "code",
   "execution_count": null,
   "metadata": {
    "ExecuteTime": {
     "end_time": "2022-02-02T17:52:07.921383Z",
     "start_time": "2022-02-02T17:52:07.649130Z"
    }
   },
   "outputs": [],
   "source": [
    "# Import Packages\n",
    "\n",
    "# General Tools\n",
    "import numpy as np\n",
    "import scipy as sp\n",
    "import pandas as pd\n",
    "\n",
    "# Machine Learning\n",
    "from sklearn.tree import DecisionTreeRegressor, plot_tree\n",
    "from sklearn.metrics import r2_score\n",
    "from sklearn.preprocessing import PolynomialFeatures\n",
    "\n",
    "from scipy.spatial.distance import cdist\n",
    "\n",
    "# Misc\n",
    "import datetime\n",
    "import os\n",
    "from platform import python_version\n",
    "import random\n",
    "import warnings\n",
    "import yaml\n",
    "\n",
    "# Typing\n",
    "from typing import Tuple\n",
    "\n",
    "# Visualization\n",
    "import matplotlib.pyplot as plt\n",
    "import seaborn as sns\n",
    "\n",
    "# Jupyter\n",
    "from IPython import get_ipython\n",
    "from IPython.display import Image, display\n",
    "from ipywidgets import Dropdown, FloatSlider, interact, IntSlider, Layout"
   ]
  },
  {
   "cell_type": "code",
   "execution_count": null,
   "metadata": {},
   "outputs": [],
   "source": [
    "# Configuration\n",
    "%matplotlib inline\n",
    "\n",
    "warnings.filterwarnings(\"ignore\")\n",
    "\n",
    "seedNum = 512\n",
    "np.random.seed(seedNum)\n",
    "random.seed(seedNum)\n",
    "\n",
    "# sns.set_theme() #>! Apply SeaBorn theme\n",
    "\n",
    "runInGoogleColab = 'google.colab' in str(get_ipython())"
   ]
  },
  {
   "cell_type": "code",
   "execution_count": null,
   "metadata": {},
   "outputs": [],
   "source": [
    "# Constants\n",
    "\n",
    "FIG_SIZE_DEF    = (8, 8)\n",
    "ELM_SIZE_DEF    = 50\n",
    "CLASS_COLOR     = ('b', 'r')\n",
    "EDGE_COLOR      = 'k'\n",
    "MARKER_SIZE_DEF = 10\n",
    "LINE_WIDTH_DEF  = 2\n"
   ]
  },
  {
   "cell_type": "code",
   "execution_count": null,
   "metadata": {},
   "outputs": [],
   "source": [
    "# Fixel Algorithms Packages\n"
   ]
  },
  {
   "cell_type": "code",
   "execution_count": null,
   "metadata": {},
   "outputs": [],
   "source": [
    "# Parameters\n",
    "\n",
    "# Data Generation\n",
    "numSamples  = 201\n",
    "noiseStd    = 0.1\n",
    "\n",
    "# Model\n",
    "vP = np.array([0.25, 2, 5])\n",
    "polynomDeg = 2\n",
    "λ = 0.1\n",
    "\n",
    "# Data Visuzalization\n",
    "gridSclae = 5\n",
    "numGridPts = 250"
   ]
  },
  {
   "cell_type": "code",
   "execution_count": null,
   "metadata": {},
   "outputs": [],
   "source": [
    "# Auxiliary Functions\n",
    "\n",
    "def f(vX):\n",
    "    vY            = 0.5 * np.ones_like(vX)\n",
    "    vY[vX < 3.25] = 1\n",
    "    vY[vX < 2.5 ] = .5 + vX[vX < 2.5] / 5 - .25\n",
    "    vY[vX < 1.5 ] = 0\n",
    "    \n",
    "    return vY\n",
    "\n",
    "\n",
    "def PlotTree(vX: np.ndarray, vY: np.ndarray, vS: np.ndarray, numSplits: int, hA:plt.Axes = None, figSize: Tuple[int, int] = FIG_SIZE_DEF, markerSize: int = MARKER_SIZE_DEF, lineWidth: int = LINE_WIDTH_DEF, axisTitle: str = None):\n",
    "\n",
    "    if hA is None:\n",
    "        hF, hA = plt.subplots(1, 2, figsize = figSize)\n",
    "    else:\n",
    "        hF = hA[0].get_figure()\n",
    "    \n",
    "    # We can chose different loss models: “squared_error”, “friedman_mse”, “absolute_error”, “poisson”\n",
    "    # MSE: Estimate the mean of the samples (Minimize L2)\n",
    "    # Friedman MSE: Optimization of MSE to measure the gain of the split\n",
    "    # MAE: Estimate the median of the samples (Minimize L1)\n",
    "    # Poisson Deviance: Estimate the fit to Poission Model (Occourence of events: Number of hours -> numbe rof failures)\n",
    "    oTree = DecisionTreeRegressor(criterion = 'squared_error', max_leaf_nodes = numSplits + 1, random_state = 0)\n",
    "    oTree = oTree.fit(vX[:, None], vY) #<! fit() requires 2D input as mX\n",
    "    \n",
    "    vYY = oTree.predict(vS[:, None]) #<! predict() requires 2D input as mX\n",
    "    \n",
    "    hA[0].scatter(vX, vY, s = ELM_SIZE_DEF, c = 'b', edgecolor = EDGE_COLOR, label = '$y_i = f(x_i) + \\epsilon_i$')\n",
    "    hA[0].plot(vS, vYY, c = 'r', lw = 3, label = 'Regression Tree')\n",
    "    hA[0].set_xlabel('$x$')\n",
    "    hA[0].set_ylabel('$y$')\n",
    "    hA[0].grid()\n",
    "    hA[0].legend()\n",
    "\n",
    "    plot_tree(oTree, filled = True, ax = hA[1], rounded = True)\n",
    "    hA[1].set_title(f'Max splits = {numSplits}')\n",
    "\n",
    "    # return hF\n"
   ]
  },
  {
   "cell_type": "markdown",
   "metadata": {},
   "source": [
    "## Generate Data\n"
   ]
  },
  {
   "cell_type": "code",
   "execution_count": null,
   "metadata": {
    "ExecuteTime": {
     "end_time": "2022-02-02T17:53:07.834772Z",
     "start_time": "2022-02-02T17:53:07.448832Z"
    }
   },
   "outputs": [],
   "source": [
    "vS = np.linspace(0, gridSclae, numGridPts)\n",
    "vX = gridSclae * np.random.rand(numSamples) #<! Grid points\n",
    "vN = noiseStd * np.random.randn(numSamples) #<! Noise samples\n",
    "vY = f(vX) + vN #<! Signal samples\n"
   ]
  },
  {
   "cell_type": "markdown",
   "metadata": {},
   "source": [
    "### Plot Data"
   ]
  },
  {
   "cell_type": "code",
   "execution_count": null,
   "metadata": {
    "ExecuteTime": {
     "end_time": "2022-02-02T17:53:32.623663Z",
     "start_time": "2022-02-02T17:53:32.542588Z"
    }
   },
   "outputs": [],
   "source": [
    "hF, hA = plt.subplots(figsize = (20, 5))\n",
    "hA.scatter(vX, vY, s = ELM_SIZE_DEF, c = 'b', edgecolor = EDGE_COLOR, label = '$y_i = f(x_i) + \\epsilon_i$')\n",
    "hA.set_xlabel('$x$')\n",
    "hA.set_ylabel('$y$')\n",
    "hA.grid()\n",
    "hA.axis('equal')\n",
    "hA.legend()"
   ]
  },
  {
   "cell_type": "markdown",
   "metadata": {},
   "source": [
    "## Train Regression Tree Regressor\n"
   ]
  },
  {
   "cell_type": "code",
   "execution_count": null,
   "metadata": {
    "ExecuteTime": {
     "end_time": "2022-02-02T17:53:36.616328Z",
     "start_time": "2022-02-02T17:53:36.540260Z"
    }
   },
   "outputs": [],
   "source": [
    "hPlotTree = lambda numSplits: PlotTree(vX = vX, vY = vY, vS = vS, numSplits = numSplits, figSize = (20, 10))\n",
    "splitSlider = IntSlider(min = 1, max = 20, step = 1, value = 1, layout = Layout(width = '30%'))\n",
    "interact(hPlotTree, numSplits = splitSlider)"
   ]
  }
 ],
 "metadata": {
  "kernelspec": {
   "display_name": "Python 3.10.5 64-bit (system)",
   "language": "python",
   "name": "python3"
  },
  "language_info": {
   "codemirror_mode": {
    "name": "ipython",
    "version": 3
   },
   "file_extension": ".py",
   "mimetype": "text/x-python",
   "name": "python",
   "nbconvert_exporter": "python",
   "pygments_lexer": "ipython3",
   "version": "3.10.5"
  },
  "toc": {
   "base_numbering": 1,
   "nav_menu": {},
   "number_sections": false,
   "sideBar": true,
   "skip_h1_title": false,
   "title_cell": "Table of Contents",
   "title_sidebar": "Contents",
   "toc_cell": false,
   "toc_position": {},
   "toc_section_display": true,
   "toc_window_display": false
  },
  "varInspector": {
   "cols": {
    "lenName": 16,
    "lenType": 16,
    "lenVar": 40
   },
   "kernels_config": {
    "python": {
     "delete_cmd_postfix": "",
     "delete_cmd_prefix": "del ",
     "library": "var_list.py",
     "varRefreshCmd": "print(var_dic_list())"
    },
    "r": {
     "delete_cmd_postfix": ") ",
     "delete_cmd_prefix": "rm(",
     "library": "var_list.r",
     "varRefreshCmd": "cat(var_dic_list()) "
    }
   },
   "types_to_exclude": [
    "module",
    "function",
    "builtin_function_or_method",
    "instance",
    "_Feature"
   ],
   "window_display": false
  },
  "vscode": {
   "interpreter": {
    "hash": "7eecc89e9756f599c7795c711b2e1de4865f3e2c067be515b73e3b7137ab82cc"
   }
  }
 },
 "nbformat": 4,
 "nbformat_minor": 4
}
