{
 "cells": [
  {
   "attachments": {},
   "cell_type": "markdown",
   "metadata": {},
   "source": [
    "[![Fixel Algorithms](https://fixelalgorithms.co/images/CCExt.png)](https://fixelalgorithms.gitlab.io)\n",
    "\n",
    "# AI for System Engineers and Project Managers\n",
    "\n",
    "## Deep Learning - Computer Vision - Segment Anything Model (SAM)\n",
    "\n",
    "Displays using a _Zero Shot Model_ for segmentation.\n",
    "\n",
    "> Notebook by:\n",
    "> - Royi Avital RoyiAvital@fixelalgorithms.com\n",
    "\n",
    "## Revision History\n",
    "\n",
    "| Version | Date       | User        |Content / Changes                                                   |\n",
    "|---------|------------|-------------|--------------------------------------------------------------------|\n",
    "| 1.0.000 | 05/03/2025 | Royi Avital | First version                                                      |"
   ]
  },
  {
   "attachments": {},
   "cell_type": "markdown",
   "metadata": {},
   "source": [
    "[![Open In Colab](https://colab.research.google.com/assets/colab-badge.svg)](https://colab.research.google.com/github/FixelAlgorithmsTeam/FixelCourses/blob/master/AIProgram/2024_02/0037FeaturesTransform.ipynb)"
   ]
  },
  {
   "cell_type": "code",
   "execution_count": null,
   "metadata": {
    "ExecuteTime": {
     "end_time": "2022-02-02T09:30:06.492269Z",
     "start_time": "2022-02-02T09:30:06.220934Z"
    }
   },
   "outputs": [],
   "source": [
    "# Import Packages\n",
    "\n",
    "# General Tools\n",
    "import numpy as np\n",
    "import scipy as sp\n",
    "import pandas as pd\n",
    "\n",
    "# Machine Learning\n",
    "\n",
    "# Deep Learning\n",
    "import onnxruntime\n",
    "\n",
    "# Image Processing\n",
    "import skimage as ski\n",
    "\n",
    "# Miscellaneous\n",
    "import math\n",
    "import os\n",
    "import pickle\n",
    "from platform import python_version\n",
    "import random\n",
    "import onedrivedownloader #<! https://github.com/loribonna/onedrivedownloader\n",
    "\n",
    "# Typing\n",
    "from typing import Callable, Dict, List, Optional, Self, Set, Tuple, Union\n",
    "\n",
    "# Visualization\n",
    "import matplotlib as mpl\n",
    "from matplotlib.patches import Rectangle\n",
    "import matplotlib.pyplot as plt\n",
    "import seaborn as sns\n",
    "\n",
    "# Jupyter\n",
    "from IPython import get_ipython"
   ]
  },
  {
   "attachments": {},
   "cell_type": "markdown",
   "metadata": {},
   "source": [
    "## Notations\n",
    "\n",
    "* <font color='red'>(**?**)</font> Question to answer interactively.\n",
    "* <font color='blue'>(**!**)</font> Simple task to add code for the notebook.\n",
    "* <font color='green'>(**@**)</font> Optional / Extra self practice.\n",
    "* <font color='brown'>(**#**)</font> Note / Useful resource / Food for thought.\n",
    "\n",
    "Code Notations:\n",
    "\n",
    "```python\n",
    "someVar    = 2; #<! Notation for a variable\n",
    "vVector    = np.random.rand(4) #<! Notation for 1D array\n",
    "mMatrix    = np.random.rand(4, 3) #<! Notation for 2D array\n",
    "tTensor    = np.random.rand(4, 3, 2, 3) #<! Notation for nD array (Tensor)\n",
    "tuTuple    = (1, 2, 3) #<! Notation for a tuple\n",
    "lList      = [1, 2, 3] #<! Notation for a list\n",
    "dDict      = {1: 3, 2: 2, 3: 1} #<! Notation for a dictionary\n",
    "oObj       = MyClass() #<! Notation for an object\n",
    "dfData     = pd.DataFrame() #<! Notation for a data frame\n",
    "dsData     = pd.Series() #<! Notation for a series\n",
    "hObj       = plt.Axes() #<! Notation for an object / handler / function handler\n",
    "```\n",
    "\n",
    "### Code Exercise\n",
    "\n",
    " - Single line fill\n",
    "\n",
    " ```python\n",
    " vallToFill = ???\n",
    " ```\n",
    "\n",
    " - Multi Line to Fill (At least one)\n",
    "\n",
    "```python\n",
    "# You need to start writing\n",
    "?????\n",
    "```\n",
    "\n",
    " - Section to Fill\n",
    "\n",
    "```python\n",
    "#===========================Fill This===========================#\n",
    "# 1. Explanation about what to do.\n",
    "# !! Remarks to follow / take under consideration.\n",
    "mX = ???\n",
    "\n",
    "?????\n",
    "#===============================================================#\n",
    "```"
   ]
  },
  {
   "cell_type": "code",
   "execution_count": null,
   "metadata": {},
   "outputs": [],
   "source": [
    "# Configuration\n",
    "# %matplotlib inline\n",
    "\n",
    "seedNum = 512\n",
    "np.random.seed(seedNum)\n",
    "random.seed(seedNum)\n",
    "\n",
    "# Matplotlib default color palette\n",
    "lMatPltLibclr = ['#1f77b4', '#ff7f0e', '#2ca02c', '#d62728', '#9467bd', '#8c564b', '#e377c2', '#7f7f7f', '#bcbd22', '#17becf']\n",
    "# sns.set_theme() #>! Apply SeaBorn theme\n",
    "\n",
    "runInGoogleColab = 'google.colab' in str(get_ipython())"
   ]
  },
  {
   "cell_type": "code",
   "execution_count": null,
   "metadata": {},
   "outputs": [],
   "source": [
    "# Constants\n",
    "\n",
    "FIG_SIZE_DEF    = (8, 8)\n",
    "ELM_SIZE_DEF    = 50\n",
    "CLASS_COLOR     = ('b', 'r')\n",
    "EDGE_COLOR      = 'k'\n",
    "MARKER_SIZE_DEF = 10\n",
    "LINE_WIDTH_DEF  = 2\n",
    "\n",
    "PROJECT_NAME      = 'FixelCourses'\n",
    "DATA_FOLDER_PATH  = 'DataSets'\n",
    "MODEL_FOLDER_PATH = 'Models'\n",
    "\n",
    "BASE_FOLDER      = os.getcwd()[:len(os.getcwd()) - (os.getcwd()[::-1].lower().find(PROJECT_NAME.lower()[::-1]))]\n",
    "\n",
    "L_IMG_EXT = ['.png', '.jpeg', '.jpg']"
   ]
  },
  {
   "cell_type": "code",
   "execution_count": null,
   "metadata": {},
   "outputs": [],
   "source": [
    "# Courses Packages\n",
    "\n",
    "from SAM2ONNX import SAM2Image\n",
    "\n"
   ]
  },
  {
   "cell_type": "code",
   "execution_count": null,
   "metadata": {},
   "outputs": [],
   "source": [
    "# General Auxiliary Functions\n"
   ]
  },
  {
   "cell_type": "markdown",
   "metadata": {},
   "source": [
    "## Object Segmentation\n",
    "\n",
    "Object Segmentation is a _Image to Image_ model.    \n",
    "It basically applies Regression / Classification per pixel.\n",
    "\n",
    "### Facebook's / Meta's Segment Anything Model (SAM)\n",
    "\n",
    "![](https://i.postimg.cc/7YMBt9Dm/sam-architecture.png)\n",
    "<!-- ![](https://i.imgur.com/gxFI99L.png) -->\n",
    "\n",
    "* <font color='brown'>(**#**)</font> [SAM 1 Online Demo](https://segment-anything.com) ([Hacker News Discussion](https://news.ycombinator.com/item?id=35455566), [SAM2 Paper Review](https://openreview.net/forum?id=Ha6RTeWMd0)).\n",
    "* <font color='brown'>(**#**)</font> The SAM model can be used for: Text based prompting, Generating segmentation from bounding box, generating bounding box from points, tracking, etc...\n",
    "* <font color='brown'>(**#**)</font> It is integrated into many applications. See [Segmenting Remote Sensing Imagery with Text Prompts and the Segment Anything Model 2](https://samgeo.gishub.org/examples/sam2_text_prompts).\n",
    "* <font color='brown'>(**#**)</font> [SAM-HQ](https://github.com/SysCV/sam-hq) - High Quality variant.\n",
    "* <font color='brown'>(**#**)</font> Available on MATLAB in [`segmentAnythingModel`](https://www.mathworks.com/help/images/ref/segmentanythingmodel.html).\n",
    "* <font color='brown'>(**#**)</font> [Segment Anything Model and Friends](https://www.lightly.ai/post/segment-anything-model-and-friends) ([Discussion on HackerNews](https://news.ycombinator.com/item?id=41180632)).\n",
    "* <font color='brown'>(**#**)</font> [Latent Space - Segment Anything 2: Demo First Model Development](https://www.latent.space/p/sam2) - Interview with one of the developer of SAM2.\n",
    "* <font color='brown'>(**#**)</font> [Kornia SAM](https://kornia.readthedocs.io/en/latest/models/segment_anything.html).\n",
    "* <font color='brown'>(**#**)</font> [Segment Anything Model (SAM): Explained](https://scribe.rip/2900743cb61e).\n",
    "* <font color='brown'>(**#**)</font> [Highly Accurate Dichotomous Image Segmentation ECCV 2022](https://github.com/xuebinqin/DIS)."
   ]
  },
  {
   "cell_type": "code",
   "execution_count": null,
   "metadata": {},
   "outputs": [],
   "source": [
    "# Parameters\n",
    "\n",
    "# Data\n",
    "imgUrl = r'https://upload.wikimedia.org/wikipedia/commons/thumb/c/c1/Racing_Terriers_%282490056817%29.jpg/1280px-Racing_Terriers_%282490056817%29.jpg'\n",
    "imgUrl = 'https://i.postimg.cc/KvwnNg3J/Dogs-Running001.jpg' #<! Wikipedia\n",
    "imgUrl = 'https://i.imgur.com/XillQsz.jpeg'                  #<! Wikipedia\n",
    "imgUrl = 'https://i.postimg.cc/SR5zDwRJ/Dogs-Running002.jpg' #<! 002\n",
    "imgUrl = 'https://i.imgur.com/Zbwxxwy.jpeg'                  #<! 002\n",
    "imgUrl = 'https://i.postimg.cc/ncjmCcS7/Dogs-Running003.jpg' #<! 003\n",
    "imgUrl = 'https://i.imgur.com/WU0k57v.jpeg'                  #<! 003\n",
    "\n",
    "\n",
    "modelUrl = 'https://technionmail-my.sharepoint.com/:u:/g/personal/royia_technion_ac_il/EfN_b1spF0ZCtBBEwhbjfTYBlGaG1jkQtXRrCoGjMlNDXQ?e=cGVlmq' #<! All models\n",
    "modelUrl = 'https://technionmail-my.sharepoint.com/:u:/g/personal/royia_technion_ac_il/EdOA62hrFyREuwwim0tXWNIBHX5IInJkJKgknXFJJQZubg?e=0xwYi0' #<! Tiny model\n",
    "\n",
    "modelDecFileName = 'sam2.1_hiera_tiny_decoder.onnx'\n",
    "modelEncFileName = 'sam2.1_hiera_tiny_encoder.onnx'\n",
    "\n",
    "# Pre Processing\n",
    "\n",
    "# Model\n",
    "modelName = 'SAM2'\n",
    "\n",
    "# Points\n",
    "lPtCoord = [np.array([[420, 440], [200, 500], [525, 400]]), np.array([[360, 275], [370, 210], [300, 450], [320, 400]]), np.array([[810, 440], [1200, 400]]), np.array([[920, 314], [950, 475]])]\n",
    "lLblMode = [np.array([1, 1, 1]), np.array([1, 1, 1, 1]), np.array([1, 1]), np.array([1, 1])] #<! 1 -> Additive, 0 -> Subtractive\n",
    "\n",
    "# Data Visualization\n"
   ]
  },
  {
   "cell_type": "markdown",
   "metadata": {},
   "source": [
    "## Generate / Load Data\n",
    "\n",
    "The image is an image of a running dogs.\n",
    "\n"
   ]
  },
  {
   "cell_type": "code",
   "execution_count": null,
   "metadata": {},
   "outputs": [],
   "source": [
    "# Verify Data is Available\n",
    "\n",
    "modelsPath = os.path.join(BASE_FOLDER, MODEL_FOLDER_PATH)\n",
    "\n",
    "if not (os.path.isfile(os.path.join(modelsPath, modelDecFileName)) and os.path.isfile(os.path.join(modelsPath, modelEncFileName))):\n",
    "    # Download, unzip and remove ZIP file\n",
    "    onedrivedownloader.download(modelUrl, os.path.join(BASE_FOLDER, MODEL_FOLDER_PATH, modelName + '.zip'), unzip = True, clean = True)"
   ]
  },
  {
   "cell_type": "code",
   "execution_count": null,
   "metadata": {},
   "outputs": [],
   "source": [
    "# Load / Generate Data \n",
    "\n",
    "mI = ski.io.imread(imgUrl)"
   ]
  },
  {
   "cell_type": "markdown",
   "metadata": {},
   "source": [
    "### Plot Data"
   ]
  },
  {
   "cell_type": "code",
   "execution_count": null,
   "metadata": {},
   "outputs": [],
   "source": [
    "# Plot the Data\n",
    "\n",
    "hF, hA = plt.subplots(1, 1, figsize = (12, 12))\n",
    "hA.imshow(mI)"
   ]
  },
  {
   "cell_type": "markdown",
   "metadata": {},
   "source": [
    "* <font color='brown'>(**#**)</font> Some of the images are not well annotated."
   ]
  },
  {
   "cell_type": "markdown",
   "metadata": {},
   "source": [
    "## Load Model\n",
    "\n",
    "The models is based on [ONNX](https://github.com/microsoft/onnxruntime) with a wrapping class.\n",
    "\n",
    "* <font color='brown'>(**#**)</font> ONNX is a general run time. Though it has optimizations specific for several HW.\n",
    "* <font color='brown'>(**#**)</font> For NVIDIA based hardware the most optimized Run Time is [TensorRT](https://github.com/NVIDIA/TensorRT)."
   ]
  },
  {
   "cell_type": "code",
   "execution_count": null,
   "metadata": {},
   "outputs": [],
   "source": [
    "# Model\n",
    "\n",
    "oSam = SAM2Image(os.path.join(modelsPath, modelEncFileName), os.path.join(modelsPath, modelDecFileName))"
   ]
  },
  {
   "cell_type": "markdown",
   "metadata": {},
   "source": [
    "## Inference"
   ]
  },
  {
   "cell_type": "code",
   "execution_count": null,
   "metadata": {},
   "outputs": [],
   "source": [
    "# Set the Image -> Generate Embeddings\n",
    "\n",
    "oSam.set_image(mI) #<! Input should be UINT8"
   ]
  },
  {
   "cell_type": "markdown",
   "metadata": {},
   "source": [
    "* <font color='brown'>(**#**)</font> The "
   ]
  },
  {
   "cell_type": "code",
   "execution_count": null,
   "metadata": {},
   "outputs": [],
   "source": [
    "# Add Annotations\n",
    "lMask = []\n",
    "for lblId, (vPtCoord, lblMode) in enumerate(zip(lPtCoord, lLblMode)):\n",
    "    for ii in range(lblMode.shape[0]):\n",
    "        oSam.add_point((vPtCoord[ii][0], vPtCoord[ii][1]), lblMode[ii], lblId)\n",
    "\n",
    "dMasks = oSam.get_masks()"
   ]
  },
  {
   "cell_type": "code",
   "execution_count": null,
   "metadata": {},
   "outputs": [],
   "source": [
    "# Display a Single Mask\n",
    "plt.imshow(dMasks[0])"
   ]
  },
  {
   "cell_type": "code",
   "execution_count": null,
   "metadata": {},
   "outputs": [],
   "source": [
    "# Plot the image with masks\n",
    "hF, hA = plt.subplots(1, 1, figsize=(12, 12))\n",
    "hA.imshow(mI)\n",
    "\n",
    "lClrCamps = ['Blues', 'Greens', 'Oranges', 'Purples', 'Reds']\n",
    "\n",
    "# Overlay masks\n",
    "for lblId, mM in dMasks.items():\n",
    "    for jj, vPt in enumerate(lPtCoord[lblId]):\n",
    "        hA.scatter(vPt[0], vPt[1], c = lMatPltLibclr[lblId], s = 125, label = f'{lblId}')\n",
    "    # Work on masks per annotation point\n",
    "    hA.imshow(mM, alpha = 0.5 * mM, cmap = lClrCamps[lblId])\n",
    "\n",
    "hA.legend()\n",
    "plt.show()\n",
    "\n"
   ]
  },
  {
   "cell_type": "markdown",
   "metadata": {},
   "source": [
    "### Larger Model Result\n",
    "\n",
    "![](https://github.com/ibaiGorordo/ONNX-SAM2-Segment-Anything/raw/main/doc/img/sam2_masked_img.jpg)"
   ]
  }
 ],
 "metadata": {
  "kernelspec": {
   "display_name": "Python 3",
   "language": "python",
   "name": "python3"
  },
  "language_info": {
   "codemirror_mode": {
    "name": "ipython",
    "version": 3
   },
   "file_extension": ".py",
   "mimetype": "text/x-python",
   "name": "python",
   "nbconvert_exporter": "python",
   "pygments_lexer": "ipython3",
   "version": "3.12.9"
  },
  "toc": {
   "base_numbering": 1,
   "nav_menu": {},
   "number_sections": false,
   "sideBar": true,
   "skip_h1_title": false,
   "title_cell": "Table of Contents",
   "title_sidebar": "Contents",
   "toc_cell": false,
   "toc_position": {},
   "toc_section_display": true,
   "toc_window_display": true
  },
  "varInspector": {
   "cols": {
    "lenName": 16,
    "lenType": 16,
    "lenVar": 40
   },
   "kernels_config": {
    "python": {
     "delete_cmd_postfix": "",
     "delete_cmd_prefix": "del ",
     "library": "var_list.py",
     "varRefreshCmd": "print(var_dic_list())"
    },
    "r": {
     "delete_cmd_postfix": ") ",
     "delete_cmd_prefix": "rm(",
     "library": "var_list.r",
     "varRefreshCmd": "cat(var_dic_list()) "
    }
   },
   "types_to_exclude": [
    "module",
    "function",
    "builtin_function_or_method",
    "instance",
    "_Feature"
   ],
   "window_display": false
  },
  "vscode": {
   "interpreter": {
    "hash": "39577bab1f263e62e0b74f5b8086bd735049bf4751f6562b2d4b2969dc308293"
   }
  }
 },
 "nbformat": 4,
 "nbformat_minor": 4
}
