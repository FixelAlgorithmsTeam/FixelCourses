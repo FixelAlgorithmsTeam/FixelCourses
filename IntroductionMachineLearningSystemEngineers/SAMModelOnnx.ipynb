{
 "cells": [
  {
   "attachments": {},
   "cell_type": "markdown",
   "metadata": {},
   "source": [
    "[![Fixel Algorithms](https://fixelalgorithms.co/images/CCExt.png)](https://fixelalgorithms.gitlab.io)\n",
    "\n",
    "# AI for System Engineers and Project Managers\n",
    "\n",
    "## Deep Learning - Computer Vision - Segment Anything Model (SAM)\n",
    "\n",
    "Displays using a _Zero Shot Model_ for segmentation.\n",
    "\n",
    "> Notebook by:\n",
    "> - Royi Avital RoyiAvital@fixelalgorithms.com\n",
    "\n",
    "## Revision History\n",
    "\n",
    "| Version | Date       | User        |Content / Changes                                                   |\n",
    "|---------|------------|-------------|--------------------------------------------------------------------|\n",
    "| 1.0.000 | 05/03/2025 | Royi Avital | First version                                                      |"
   ]
  },
  {
   "attachments": {},
   "cell_type": "markdown",
   "metadata": {},
   "source": [
    "[![Open In Colab](https://colab.research.google.com/assets/colab-badge.svg)](https://colab.research.google.com/github/FixelAlgorithmsTeam/FixelCourses/blob/master/AIProgram/2024_02/0037FeaturesTransform.ipynb)"
   ]
  },
  {
   "cell_type": "code",
   "execution_count": null,
   "metadata": {
    "ExecuteTime": {
     "end_time": "2022-02-02T09:30:06.492269Z",
     "start_time": "2022-02-02T09:30:06.220934Z"
    }
   },
   "outputs": [],
   "source": [
    "# Import Packages\n",
    "\n",
    "# General Tools\n",
    "import numpy as np\n",
    "import scipy as sp\n",
    "import pandas as pd\n",
    "\n",
    "# Machine Learning\n",
    "\n",
    "# Deep Learning\n",
    "import onnxruntime\n",
    "\n",
    "# Image Processing\n",
    "import skimage as ski\n",
    "\n",
    "# Miscellaneous\n",
    "import math\n",
    "import os\n",
    "import pickle\n",
    "from platform import python_version\n",
    "import random\n",
    "import onedrivedownloader #<! https://github.com/loribonna/onedrivedownloader\n",
    "\n",
    "# Typing\n",
    "from typing import Callable, Dict, List, Optional, Self, Set, Tuple, Union\n",
    "\n",
    "# Visualization\n",
    "import matplotlib as mpl\n",
    "from matplotlib.patches import Rectangle\n",
    "import matplotlib.pyplot as plt\n",
    "import seaborn as sns\n",
    "\n",
    "# Jupyter\n",
    "from IPython import get_ipython"
   ]
  },
  {
   "attachments": {},
   "cell_type": "markdown",
   "metadata": {},
   "source": [
    "## Notations\n",
    "\n",
    "* <font color='red'>(**?**)</font> Question to answer interactively.\n",
    "* <font color='blue'>(**!**)</font> Simple task to add code for the notebook.\n",
    "* <font color='green'>(**@**)</font> Optional / Extra self practice.\n",
    "* <font color='brown'>(**#**)</font> Note / Useful resource / Food for thought.\n",
    "\n",
    "Code Notations:\n",
    "\n",
    "```python\n",
    "someVar    = 2; #<! Notation for a variable\n",
    "vVector    = np.random.rand(4) #<! Notation for 1D array\n",
    "mMatrix    = np.random.rand(4, 3) #<! Notation for 2D array\n",
    "tTensor    = np.random.rand(4, 3, 2, 3) #<! Notation for nD array (Tensor)\n",
    "tuTuple    = (1, 2, 3) #<! Notation for a tuple\n",
    "lList      = [1, 2, 3] #<! Notation for a list\n",
    "dDict      = {1: 3, 2: 2, 3: 1} #<! Notation for a dictionary\n",
    "oObj       = MyClass() #<! Notation for an object\n",
    "dfData     = pd.DataFrame() #<! Notation for a data frame\n",
    "dsData     = pd.Series() #<! Notation for a series\n",
    "hObj       = plt.Axes() #<! Notation for an object / handler / function handler\n",
    "```\n",
    "\n",
    "### Code Exercise\n",
    "\n",
    " - Single line fill\n",
    "\n",
    " ```python\n",
    " vallToFill = ???\n",
    " ```\n",
    "\n",
    " - Multi Line to Fill (At least one)\n",
    "\n",
    "```python\n",
    "# You need to start writing\n",
    "?????\n",
    "```\n",
    "\n",
    " - Section to Fill\n",
    "\n",
    "```python\n",
    "#===========================Fill This===========================#\n",
    "# 1. Explanation about what to do.\n",
    "# !! Remarks to follow / take under consideration.\n",
    "mX = ???\n",
    "\n",
    "?????\n",
    "#===============================================================#\n",
    "```"
   ]
  },
  {
   "cell_type": "code",
   "execution_count": null,
   "metadata": {},
   "outputs": [],
   "source": [
    "# Configuration\n",
    "# %matplotlib inline\n",
    "\n",
    "seedNum = 512\n",
    "np.random.seed(seedNum)\n",
    "random.seed(seedNum)\n",
    "\n",
    "# Matplotlib default color palette\n",
    "lMatPltLibclr = ['#1f77b4', '#ff7f0e', '#2ca02c', '#d62728', '#9467bd', '#8c564b', '#e377c2', '#7f7f7f', '#bcbd22', '#17becf']\n",
    "# sns.set_theme() #>! Apply SeaBorn theme\n",
    "\n",
    "runInGoogleColab = 'google.colab' in str(get_ipython())"
   ]
  },
  {
   "cell_type": "code",
   "execution_count": null,
   "metadata": {},
   "outputs": [],
   "source": [
    "# Constants\n",
    "\n",
    "FIG_SIZE_DEF    = (8, 8)\n",
    "ELM_SIZE_DEF    = 50\n",
    "CLASS_COLOR     = ('b', 'r')\n",
    "EDGE_COLOR      = 'k'\n",
    "MARKER_SIZE_DEF = 10\n",
    "LINE_WIDTH_DEF  = 2\n",
    "\n",
    "PROJECT_NAME      = 'FixelCourses'\n",
    "DATA_FOLDER_PATH  = 'DataSets'\n",
    "MODEL_FOLDER_PATH = 'Models'\n",
    "\n",
    "BASE_FOLDER      = os.getcwd()[:len(os.getcwd()) - (os.getcwd()[::-1].lower().find(PROJECT_NAME.lower()[::-1]))]\n",
    "\n",
    "L_IMG_EXT = ['.png', '.jpeg', '.jpg']"
   ]
  },
  {
   "cell_type": "code",
   "execution_count": null,
   "metadata": {},
   "outputs": [],
   "source": [
    "# Courses Packages\n",
    "\n",
    "from SAM2ONNX import SAM2Image\n",
    "\n"
   ]
  },
  {
   "cell_type": "code",
   "execution_count": null,
   "metadata": {},
   "outputs": [],
   "source": [
    "# General Auxiliary Functions\n"
   ]
  },
  {
   "cell_type": "markdown",
   "metadata": {},
   "source": [
    "## Object Segmentation\n",
    "\n",
    "Object Detection was one of the first tasks to be \"_solved_\" by Deep Learning models.  \n",
    "\n",
    "\n",
    "* <font color='brown'>(**#**)</font> There are known datasets for object detection: [COCO Dataset](https://cocodataset.org), [PASCAL VOC](http://host.robots.ox.ac.uk/pascal/VOC/).   \n",
    "  They also define standards for the labeling system.  "
   ]
  },
  {
   "cell_type": "code",
   "execution_count": null,
   "metadata": {},
   "outputs": [],
   "source": [
    "# Parameters\n",
    "\n",
    "# Data\n",
    "imgUrl = r'https://upload.wikimedia.org/wikipedia/commons/thumb/c/c1/Racing_Terriers_%282490056817%29.jpg/1280px-Racing_Terriers_%282490056817%29.jpg'\n",
    "\n",
    "modelUrl = 'https://technionmail-my.sharepoint.com/:u:/g/personal/royia_technion_ac_il/EfN_b1spF0ZCtBBEwhbjfTYBlGaG1jkQtXRrCoGjMlNDXQ?e=cGVlmq' #<! All models\n",
    "modelUrl = 'https://technionmail-my.sharepoint.com/:u:/g/personal/royia_technion_ac_il/EdOA62hrFyREuwwim0tXWNIBHX5IInJkJKgknXFJJQZubg?e=0xwYi0' #<! Tiny model\n",
    "\n",
    "modelDecFileName = 'sam2.1_hiera_tiny_decoder.onnx'\n",
    "modelEncFileName = 'sam2.1_hiera_tiny_encoder.onnx'\n",
    "\n",
    "# Pre Processing\n",
    "\n",
    "# Model\n",
    "modelName = 'SAM2'\n",
    "\n",
    "# Points\n",
    "lPtCoord = [np.array([[420, 440], [200, 500]]), np.array([[360, 275], [370, 210], [300, 450], [320, 400]]), np.array([[810, 440], [1200, 400]]), np.array([[920, 314], [950, 475]])]\n",
    "lLblMode = [np.array([1, 1]), np.array([1, 1, 1, 1]), np.array([1, 1]), np.array([1, 1])] #<! 1 -> Additive, 0 -> Subtractive\n",
    "\n",
    "# Data Visualization\n"
   ]
  },
  {
   "cell_type": "markdown",
   "metadata": {},
   "source": [
    "## Generate / Load Data\n",
    "\n",
    "The data is a small sub set of the [Kaggle - Airbus Ship Detection Challenge](https://www.kaggle.com/competitions/airbus-ship-detection).  \n",
    "\n"
   ]
  },
  {
   "cell_type": "code",
   "execution_count": null,
   "metadata": {},
   "outputs": [],
   "source": [
    "# Verify Data is Available\n",
    "\n",
    "modelsPath = os.path.join(BASE_FOLDER, MODEL_FOLDER_PATH)\n",
    "\n",
    "if not (os.path.isfile(os.path.join(modelsPath, modelDecFileName)) and os.path.isfile(os.path.join(modelsPath, modelEncFileName))):\n",
    "    # Download, unzip and remove ZIP file\n",
    "    onedrivedownloader.download(modelUrl, os.path.join(BASE_FOLDER, MODEL_FOLDER_PATH, modelName + '.zip'), unzip = True, clean = True)"
   ]
  },
  {
   "cell_type": "code",
   "execution_count": null,
   "metadata": {},
   "outputs": [],
   "source": [
    "# Load / Generate Data \n",
    "\n",
    "mI = ski.io.imread(imgUrl)\n",
    "\n",
    "\n"
   ]
  },
  {
   "cell_type": "markdown",
   "metadata": {},
   "source": [
    "### Plot Data"
   ]
  },
  {
   "cell_type": "code",
   "execution_count": null,
   "metadata": {},
   "outputs": [],
   "source": [
    "# Plot the Data\n",
    "\n",
    "hF, hA = plt.subplots(1, 1, figsize = (12, 12))\n",
    "hA.imshow(mI)"
   ]
  },
  {
   "cell_type": "markdown",
   "metadata": {},
   "source": [
    "* <font color='brown'>(**#**)</font> Some of the images are not well annotated."
   ]
  },
  {
   "cell_type": "markdown",
   "metadata": {},
   "source": [
    "## Load Model\n",
    "\n",
    "The most popular training framework for YOLO models is given by [Ultralytics](https://github.com/ultralytics/ultralytics).\n",
    "\n",
    "* <font color='brown'>(**#**)</font> While the models are usually MIT licensed, using the Ultralytics framework in commercial context requires a license."
   ]
  },
  {
   "cell_type": "code",
   "execution_count": null,
   "metadata": {},
   "outputs": [],
   "source": [
    "# Model\n",
    "\n",
    "oSam = SAM2Image(os.path.join(modelsPath, modelEncFileName), os.path.join(modelsPath, modelDecFileName))"
   ]
  },
  {
   "cell_type": "markdown",
   "metadata": {},
   "source": [
    "## Inference"
   ]
  },
  {
   "cell_type": "code",
   "execution_count": null,
   "metadata": {},
   "outputs": [],
   "source": [
    "# Analysis\n",
    "\n",
    "oSam.set_image(mI) #<! Input should be UINT8\n",
    "\n",
    "\n"
   ]
  },
  {
   "cell_type": "markdown",
   "metadata": {},
   "source": [
    "* <font color='brown'>(**#**)</font> The "
   ]
  },
  {
   "cell_type": "code",
   "execution_count": null,
   "metadata": {},
   "outputs": [],
   "source": [
    "lMask = []\n",
    "for lblId, (vPtCoord, ptLbl) in enumerate(zip(lPtCoord, lLblMode)):\n",
    "    for ii in range(ptLbl.shape[0]):\n",
    "        oSam.add_point((vPtCoord[ii][0], vPtCoord[ii][1]), ptLbl[ii], lblId)\n",
    "\n",
    "    lMask.append(oSam.get_masks())"
   ]
  },
  {
   "cell_type": "code",
   "execution_count": null,
   "metadata": {},
   "outputs": [],
   "source": [
    "lMask"
   ]
  },
  {
   "cell_type": "code",
   "execution_count": null,
   "metadata": {},
   "outputs": [],
   "source": [
    "lMask[2][0]"
   ]
  },
  {
   "cell_type": "code",
   "execution_count": null,
   "metadata": {},
   "outputs": [],
   "source": [
    "plt.imshow(lMask[2][0])"
   ]
  },
  {
   "cell_type": "code",
   "execution_count": null,
   "metadata": {},
   "outputs": [],
   "source": [
    "len(lMask)"
   ]
  },
  {
   "cell_type": "code",
   "execution_count": null,
   "metadata": {},
   "outputs": [],
   "source": [
    "len(lPtCoord)"
   ]
  },
  {
   "cell_type": "code",
   "execution_count": null,
   "metadata": {},
   "outputs": [],
   "source": [
    "vA = np.array([1, 2, 3, 4])\n",
    "np.ndim(vA)"
   ]
  },
  {
   "cell_type": "code",
   "execution_count": null,
   "metadata": {},
   "outputs": [],
   "source": [
    "lPtCoord"
   ]
  },
  {
   "cell_type": "code",
   "execution_count": null,
   "metadata": {},
   "outputs": [],
   "source": [
    "# Plot the image with masks\n",
    "hF, hA = plt.subplots(1, 1, figsize=(12, 12))\n",
    "hA.imshow(mI)\n",
    "\n",
    "# Overlay masks\n",
    "for lblId, dMasks in enumerate(lMask):\n",
    "    for jj, vPt in enumerate(np.atleast_2d(lPtCoord[lblId])):\n",
    "        hA.scatter(vPt[0], vPt[1], c = lMatPltLibclr[lblId], s = 125, label = f'{lblId}')\n",
    "    # Work on masks per annotation point\n",
    "    for maskId, mM in dMasks.items():\n",
    "        hA.imshow(maskId * mM, alpha = 0.2 * mM, cmap = 'jet')\n",
    "\n",
    "hA.legend()\n",
    "plt.show()\n",
    "\n"
   ]
  }
 ],
 "metadata": {
  "kernelspec": {
   "display_name": "Python 3",
   "language": "python",
   "name": "python3"
  },
  "language_info": {
   "codemirror_mode": {
    "name": "ipython",
    "version": 3
   },
   "file_extension": ".py",
   "mimetype": "text/x-python",
   "name": "python",
   "nbconvert_exporter": "python",
   "pygments_lexer": "ipython3",
   "version": "3.12.9"
  },
  "toc": {
   "base_numbering": 1,
   "nav_menu": {},
   "number_sections": false,
   "sideBar": true,
   "skip_h1_title": false,
   "title_cell": "Table of Contents",
   "title_sidebar": "Contents",
   "toc_cell": false,
   "toc_position": {},
   "toc_section_display": true,
   "toc_window_display": true
  },
  "varInspector": {
   "cols": {
    "lenName": 16,
    "lenType": 16,
    "lenVar": 40
   },
   "kernels_config": {
    "python": {
     "delete_cmd_postfix": "",
     "delete_cmd_prefix": "del ",
     "library": "var_list.py",
     "varRefreshCmd": "print(var_dic_list())"
    },
    "r": {
     "delete_cmd_postfix": ") ",
     "delete_cmd_prefix": "rm(",
     "library": "var_list.r",
     "varRefreshCmd": "cat(var_dic_list()) "
    }
   },
   "types_to_exclude": [
    "module",
    "function",
    "builtin_function_or_method",
    "instance",
    "_Feature"
   ],
   "window_display": false
  },
  "vscode": {
   "interpreter": {
    "hash": "39577bab1f263e62e0b74f5b8086bd735049bf4751f6562b2d4b2969dc308293"
   }
  }
 },
 "nbformat": 4,
 "nbformat_minor": 4
}
