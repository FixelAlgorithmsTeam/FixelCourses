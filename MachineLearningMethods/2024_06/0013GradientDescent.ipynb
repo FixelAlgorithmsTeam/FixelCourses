{
 "cells": [
  {
   "attachments": {},
   "cell_type": "markdown",
   "metadata": {},
   "source": [
    "[![Fixel Algorithms](https://fixelalgorithms.co/images/CCExt.png)](https://fixelalgorithms.gitlab.io/)\n",
    "\n",
    "<!-- ![](https://i.imgur.com/qkg2E2D.png) -->\n",
    "\n",
    "# Machine Learning Methods\n",
    "\n",
    "## Introduction to Optimization - The Gradient Descent Algorithm\n",
    "\n",
    "> Notebook by:\n",
    "> - Royi Avital RoyiAvital@fixelalgorithms.com\n",
    "\n",
    "## Revision History\n",
    "\n",
    "| Version | Date       | User        |Content / Changes                                                   |\n",
    "|---------|------------|-------------|--------------------------------------------------------------------|\n",
    "| 1.0.001 | 02/07/2024 | Royi Avital | Added type notations to the gradient function                      |\n",
    "| 1.0.001 | 02/07/2024 | Royi Avital | Added dimensions check for the gradient and function evaluation    |\n",
    "| 1.0.000 | 18/01/2024 | Royi Avital | First version                                                      |"
   ]
  },
  {
   "attachments": {},
   "cell_type": "markdown",
   "metadata": {},
   "source": [
    "[![Open In Colab](https://colab.research.google.com/assets/colab-badge.svg)](https://colab.research.google.com/github/FixelAlgorithmsTeam/FixelCourses/blob/master/AIProgram/2024_02/0009GradientDescent.ipynb)"
   ]
  },
  {
   "cell_type": "code",
   "execution_count": null,
   "metadata": {
    "ExecuteTime": {
     "end_time": "2022-02-02T17:52:07.921383Z",
     "start_time": "2022-02-02T17:52:07.649130Z"
    }
   },
   "outputs": [],
   "source": [
    "# Import Packages\n",
    "\n",
    "# General Tools\n",
    "import numpy as np\n",
    "import scipy as sp\n",
    "import pandas as pd\n",
    "\n",
    "# Miscellaneous\n",
    "import datetime\n",
    "import os\n",
    "from platform import python_version\n",
    "import random\n",
    "import warnings\n",
    "import yaml\n",
    "\n",
    "# Visualization\n",
    "import matplotlib as mpl\n",
    "import matplotlib.pyplot as plt\n",
    "import plotly.graph_objects as go\n",
    "import plotly.io as pio\n",
    "import seaborn as sns\n",
    "\n",
    "# Jupyter\n",
    "from IPython import get_ipython\n",
    "from IPython.display import Image, display\n",
    "from ipywidgets import Dropdown, FloatSlider, interact, interactive, IntSlider, Layout, VBox"
   ]
  },
  {
   "cell_type": "markdown",
   "metadata": {},
   "source": [
    "## Notations\n",
    "\n",
    "* <font color='red'>(**?**)</font> Question to answer interactively.\n",
    "* <font color='blue'>(**!**)</font> Simple task to add code for the notebook.\n",
    "* <font color='green'>(**@**)</font> Optional / Extra self practice.\n",
    "* <font color='brown'>(**#**)</font> Note / Useful resource / Food for thought.\n",
    "\n",
    "Code Notations:\n",
    "\n",
    "```python\n",
    "someVar    = 2; #<! Notation for a variable\n",
    "vVector    = np.random.rand(4) #<! Notation for 1D array\n",
    "mMatrix    = np.random.rand(4, 3) #<! Notation for 2D array\n",
    "tTensor    = np.random.rand(4, 3, 2, 3) #<! Notation for nD array (Tensor)\n",
    "tuTuple    = (1, 2, 3) #<! Notation for a tuple\n",
    "lList      = [1, 2, 3] #<! Notation for a list\n",
    "dDict      = {1: 3, 2: 2, 3: 1} #<! Notation for a dictionary\n",
    "oObj       = MyClass() #<! Notation for an object\n",
    "dfData     = pd.DataFrame() #<! Notation for a data frame\n",
    "dsData     = pd.Series() #<! Notation for a series\n",
    "hObj       = plt.Axes() #<! Notation for an object / handler / function handler\n",
    "```\n",
    "\n",
    "### Code Exercise\n",
    "\n",
    " - Single line fill\n",
    "\n",
    " ```python\n",
    " vallToFill = ???\n",
    " ```\n",
    "\n",
    " - Multi Line to Fill (At least one)\n",
    "\n",
    " ```python\n",
    " # You need to start writing\n",
    " ????\n",
    " ```\n",
    "\n",
    " - Section to Fill\n",
    "\n",
    "```python\n",
    "#===========================Fill This===========================#\n",
    "# 1. Explanation about what to do.\n",
    "# !! Remarks to follow / take under consideration.\n",
    "mX = ???\n",
    "\n",
    "???\n",
    "#===============================================================#\n",
    "```"
   ]
  },
  {
   "cell_type": "code",
   "execution_count": null,
   "metadata": {},
   "outputs": [],
   "source": [
    "# Configuration\n",
    "%matplotlib inline\n",
    "\n",
    "warnings.filterwarnings(\"ignore\")\n",
    "\n",
    "seedNum = 512\n",
    "np.random.seed(seedNum)\n",
    "random.seed(seedNum)\n",
    "\n",
    "# Matplotlib default color palette\n",
    "lMatPltLibclr = ['#1f77b4', '#ff7f0e', '#2ca02c', '#d62728', '#9467bd', '#8c564b', '#e377c2', '#7f7f7f', '#bcbd22', '#17becf']\n",
    "sns.set_theme() #>! Apply SeaBorn theme\n",
    "# sns.set_palette(\"tab10\")\n",
    "\n",
    "runInGoogleColab = 'google.colab' in str(get_ipython())"
   ]
  },
  {
   "cell_type": "code",
   "execution_count": null,
   "metadata": {},
   "outputs": [],
   "source": [
    "# Constants\n",
    "\n",
    "FIG_SIZE_DEF    = (8, 8)\n",
    "ELM_SIZE_DEF    = 50\n",
    "CLASS_COLOR     = ('b', 'r')\n",
    "EDGE_COLOR      = 'k'\n",
    "MARKER_SIZE_DEF = 10\n",
    "LINE_WIDTH_DEF  = 2\n"
   ]
  },
  {
   "cell_type": "code",
   "execution_count": null,
   "metadata": {},
   "outputs": [],
   "source": [
    "# Course Packages\n"
   ]
  },
  {
   "cell_type": "code",
   "execution_count": null,
   "metadata": {},
   "outputs": [],
   "source": [
    "# Auxiliary Functions"
   ]
  },
  {
   "cell_type": "code",
   "execution_count": null,
   "metadata": {},
   "outputs": [],
   "source": [
    "# Parameters\n",
    "\n",
    "\n"
   ]
  },
  {
   "attachments": {},
   "cell_type": "markdown",
   "metadata": {},
   "source": [
    "## The Function\n",
    "\n",
    "* Consider the function $f$:\n",
    "\n",
    "$$ f \\left( {x}_{1}, {x}_{2} \\right) = {x}_{1}^{2} + 10 {x}_{2}^{2} $$\n",
    "\n",
    "* The gradient of $f$:\n",
    "\n",
    "$$ \\nabla f \\left( {x}_{1}, {x}_{2} \\right) = \\begin{bmatrix} 2 {x}_{1} \\\\ 20 {x}_{2} \\end{bmatrix} $$\n"
   ]
  },
  {
   "cell_type": "code",
   "execution_count": null,
   "metadata": {
    "ExecuteTime": {
     "end_time": "2022-02-02T17:53:07.834772Z",
     "start_time": "2022-02-02T17:53:07.448832Z"
    }
   },
   "outputs": [],
   "source": [
    "# Define the Function\n",
    "\n",
    "def f(mX: np.ndarray):  \n",
    "\n",
    "    if mX.ndim > 2:\n",
    "        raise ValueError(f'The input must be a vector or a matrix')\n",
    "    \n",
    "    if mX.ndim == 1:\n",
    "        # Add a dimension to make the vector a column in a matrix\n",
    "        mX = mX[:, None]\n",
    "    \n",
    "    vX1 = mX[0, :]\n",
    "    vX2 = mX[1, :]\n",
    "    \n",
    "    return (vX1 ** 2) + (10 * (vX2 ** 2))\n"
   ]
  },
  {
   "cell_type": "code",
   "execution_count": null,
   "metadata": {},
   "outputs": [],
   "source": [
    "# Define the Gradient\n",
    "\n",
    "def GradF(vX: np.ndarray):\n",
    "\n",
    "    if np.ndim(vX) > 1:\n",
    "        raise ValueError(f'The input must be a vector')\n",
    "\n",
    "    x1     = vX[0]\n",
    "    x2     = vX[1]\n",
    "    vGradF = np.array([2 * x1, 20 * x2])\n",
    "    \n",
    "    return vGradF"
   ]
  },
  {
   "attachments": {},
   "cell_type": "markdown",
   "metadata": {},
   "source": [
    "## The Gradient Descent Algorithm\n",
    "\n",
    "The algorithm is defined iteratively as:\n",
    "\n",
    "$$ \\boldsymbol{x}_{k+1} = \\boldsymbol{x}_{k} - \\mu \\nabla f \\left( \\boldsymbol{x}_{k} \\right) $$"
   ]
  },
  {
   "cell_type": "code",
   "execution_count": null,
   "metadata": {},
   "outputs": [],
   "source": [
    "# The Gradient Descent \n",
    "vX0 = np.array([-9.8, 1.7]) #<! Initial point\n",
    "K   = 50                    #<! Number of iterations (Keep 50 for tne interactive part)\n",
    "µ   = 0.09                  #<! Step size\n",
    "\n",
    "vX      = vX0.copy()\n",
    "mX      = np.full((2, K), np.nan) #<! The result per iteration\n",
    "\n",
    "mX[:, 0] = vX0\n",
    "for kk in range(1, K):\n",
    "    vX          = vX - µ * GradF(vX)\n",
    "    mX[:, kk]   = vX"
   ]
  },
  {
   "cell_type": "code",
   "execution_count": null,
   "metadata": {},
   "outputs": [],
   "source": [
    "# Plotting the Path\n",
    "\n",
    "# Grid and Surface\n",
    "v1         = np.linspace(-10, 10, 51)\n",
    "v2         = np.linspace(-2, 2, 51)\n",
    "mXX1, mXX2 = np.meshgrid(v1, v2)\n",
    "mXX        = np.c_[mXX1.ravel(), mXX2.ravel()].T\n",
    "mY         = f(mXX)\n",
    "mY.shape   = mXX1.shape\n",
    "\n",
    "# Plotting  (PlotLy)\n",
    "contours = dict(z = dict(show = True, start = -1, end = 100, size = 10, color = 'black'))\n",
    "marker   = dict(size = 5, color = list(range(K + 1)), colorscale = [\"magenta\", \"yellow\"])\n",
    "line     = dict(color = 'black', width = 2)\n",
    "# title    = dict(text = r'$\\mu =$' + str(µ), y = 0.7, x = 0.5, xanchor = 'center', yanchor = 'top')\n",
    "title    = dict(text = r'μ = ' + str(μ), y = 0.7, x = 0.5, xanchor = 'center', yanchor = 'top')\n",
    "font     = dict(size = 16)\n",
    "camera   = dict(eye = dict(x = 0, y = -1, z = 4))\n",
    "scene    = dict(xaxis = dict(title = 'x1', range = [-10, 10]),\n",
    "                yaxis = dict(title = 'x2', range = [-2, 2]),\n",
    "                zaxis = dict(title = 'f',  range = [-1/2, 200]))\n",
    "\n",
    "Surf1  = go.Surface(x = mXX1, y = mXX2, z = mY, colorscale = 'Viridis', opacity = 0.95, showscale = False, contours = contours)\n",
    "Scat1  = go.Scatter3d(x = mX[0, :], y = mX[1, :], z = f(mX), marker = marker, line = line)\n",
    "\n",
    "layout = go.Layout(width = 1000, height = 500, margin = dict(r = 0, l = 0, b = 0, t = 0),\n",
    "                   title = title, font = font, scene = scene, scene_camera = camera,\n",
    "                   scene_aspectmode = 'manual', scene_aspectratio = dict(x = 5, y = 1, z = 1))\n",
    "\n",
    "fig   = go.Figure(data = [Surf1, Scat1], layout = layout)\n",
    "fig.show()"
   ]
  },
  {
   "cell_type": "code",
   "execution_count": null,
   "metadata": {},
   "outputs": [],
   "source": [
    "# Interactive Visualization\n",
    "\n",
    "def PlotGradientDescent(figWidget, µ, K = 15):\n",
    "    vX      = vX0.copy()\n",
    "    mX      = np.full((2, K), np.nan)\n",
    "    mX[:,0] = vX0\n",
    "    for kk in range(1, K):\n",
    "        vX       = vX - µ * GradF(vX)\n",
    "        mX[:,kk] = vX\n",
    "\n",
    "    with figWidget.batch_update():\n",
    "        figWidget.data[1].x = mX[0, :]\n",
    "        figWidget.data[1].y = mX[1, :]\n",
    "        figWidget.data[1].z = f(mX)\n",
    "        figWidget.layout.title.text = f'µ = {µ}'"
   ]
  },
  {
   "cell_type": "code",
   "execution_count": null,
   "metadata": {},
   "outputs": [],
   "source": [
    "# PlotLy Widget\n",
    "figWid = go.FigureWidget(data = fig.data, layout = fig.layout)"
   ]
  },
  {
   "cell_type": "code",
   "execution_count": null,
   "metadata": {},
   "outputs": [],
   "source": [
    "# Sliders\n",
    "KSlider = IntSlider(min = 1, max = 50, step = 1, value = 15, layout = Layout(width = '30%'))\n",
    "µSlider = FloatSlider(min = 0, max = .15, step = .01, value = .01, layout = Layout(width = '30%'))"
   ]
  },
  {
   "cell_type": "code",
   "execution_count": null,
   "metadata": {},
   "outputs": [],
   "source": [
    "# Interactive Widget (Won't work on Google Colab)\n",
    "hPlotGradientDescent = lambda µ, K: PlotGradientDescent(figWid, µ, K)\n",
    "vertBox = VBox((figWid, interactive(hPlotGradientDescent, µ = µSlider, K = KSlider)))\n",
    "vertBox"
   ]
  }
 ],
 "metadata": {
  "kernelspec": {
   "display_name": "Python 3",
   "language": "python",
   "name": "python3"
  },
  "language_info": {
   "codemirror_mode": {
    "name": "ipython",
    "version": 3
   },
   "file_extension": ".py",
   "mimetype": "text/x-python",
   "name": "python",
   "nbconvert_exporter": "python",
   "pygments_lexer": "ipython3",
   "version": "3.12.4"
  },
  "toc": {
   "base_numbering": 1,
   "nav_menu": {},
   "number_sections": false,
   "sideBar": true,
   "skip_h1_title": false,
   "title_cell": "Table of Contents",
   "title_sidebar": "Contents",
   "toc_cell": false,
   "toc_position": {},
   "toc_section_display": true,
   "toc_window_display": false
  },
  "varInspector": {
   "cols": {
    "lenName": 16,
    "lenType": 16,
    "lenVar": 40
   },
   "kernels_config": {
    "python": {
     "delete_cmd_postfix": "",
     "delete_cmd_prefix": "del ",
     "library": "var_list.py",
     "varRefreshCmd": "print(var_dic_list())"
    },
    "r": {
     "delete_cmd_postfix": ") ",
     "delete_cmd_prefix": "rm(",
     "library": "var_list.r",
     "varRefreshCmd": "cat(var_dic_list()) "
    }
   },
   "types_to_exclude": [
    "module",
    "function",
    "builtin_function_or_method",
    "instance",
    "_Feature"
   ],
   "window_display": false
  },
  "vscode": {
   "interpreter": {
    "hash": "4c555be6fa9458c8c75b4612c68315d9f1d74815b73d0e564fda29ad772cfcda"
   }
  }
 },
 "nbformat": 4,
 "nbformat_minor": 4
}
