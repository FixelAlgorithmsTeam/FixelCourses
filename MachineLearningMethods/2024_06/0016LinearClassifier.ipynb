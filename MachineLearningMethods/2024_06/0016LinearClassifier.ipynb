{
 "cells": [
  {
   "attachments": {},
   "cell_type": "markdown",
   "metadata": {},
   "source": [
    "[![Fixel Algorithms](https://fixelalgorithms.co/images/CCExt.png)](https://fixelalgorithms.gitlab.io)\n",
    "\n",
    "# Machine Learning Methods\n",
    "\n",
    "## Supervised Learning - Classification - Linear Classifier Training\n",
    "\n",
    "> Notebook by:\n",
    "> - Royi Avital RoyiAvital@fixelalgorithms.com\n",
    "\n",
    "## Revision History\n",
    "\n",
    "| Version | Date       | User        |Content / Changes                                                   |\n",
    "|---------|------------|-------------|--------------------------------------------------------------------|\n",
    "| 1.0.001 | 11/02/2025 | Royi Avital | Added questions on the STD of a feature                            |\n",
    "| 1.0.000 | 03/03/2024 | Royi Avital | First version                                                      |"
   ]
  },
  {
   "attachments": {},
   "cell_type": "markdown",
   "metadata": {},
   "source": [
    "[![Open In Colab](https://colab.research.google.com/assets/colab-badge.svg)](https://colab.research.google.com/github/FixelAlgorithmsTeam/FixelCourses/blob/master/AIProgram/2024_02/0028LinearClassifier.ipynb)"
   ]
  },
  {
   "cell_type": "code",
   "execution_count": null,
   "metadata": {
    "ExecuteTime": {
     "end_time": "2022-02-02T09:30:06.492269Z",
     "start_time": "2022-02-02T09:30:06.220934Z"
    }
   },
   "outputs": [],
   "source": [
    "# Import Packages\n",
    "\n",
    "# General Tools\n",
    "import numpy as np\n",
    "import scipy as sp\n",
    "import pandas as pd\n",
    "\n",
    "# Machine Learning\n",
    "from sklearn.datasets import load_breast_cancer\n",
    "\n",
    "# Image Processing\n",
    "\n",
    "# Machine Learning\n",
    "\n",
    "\n",
    "# Miscellaneous\n",
    "import os\n",
    "from platform import python_version\n",
    "import random\n",
    "import timeit\n",
    "\n",
    "# Typing\n",
    "from typing import Callable, List, Tuple\n",
    "\n",
    "# Visualization\n",
    "import matplotlib as mpl\n",
    "import matplotlib.pyplot as plt\n",
    "import seaborn as sns\n",
    "\n",
    "# Jupyter\n",
    "from IPython import get_ipython\n",
    "from IPython.display import Image, display\n",
    "from ipywidgets import Dropdown, FloatSlider, interact, IntSlider, Layout"
   ]
  },
  {
   "attachments": {},
   "cell_type": "markdown",
   "metadata": {},
   "source": [
    "## Notations\n",
    "\n",
    "* <font color='red'>(**?**)</font> Question to answer interactively.\n",
    "* <font color='blue'>(**!**)</font> Simple task to add code for the notebook.\n",
    "* <font color='green'>(**@**)</font> Optional / Extra self practice.\n",
    "* <font color='brown'>(**#**)</font> Note / Useful resource / Food for thought.\n",
    "\n",
    "Code Notations:\n",
    "\n",
    "```python\n",
    "someVar    = 2; #<! Notation for a variable\n",
    "vVector    = np.random.rand(4) #<! Notation for 1D array\n",
    "mMatrix    = np.random.rand(4, 3) #<! Notation for 2D array\n",
    "tTensor    = np.random.rand(4, 3, 2, 3) #<! Notation for nD array (Tensor)\n",
    "tuTuple    = (1, 2, 3) #<! Notation for a tuple\n",
    "lList      = [1, 2, 3] #<! Notation for a list\n",
    "dDict      = {1: 3, 2: 2, 3: 1} #<! Notation for a dictionary\n",
    "oObj       = MyClass() #<! Notation for an object\n",
    "dfData     = pd.DataFrame() #<! Notation for a data frame\n",
    "dsData     = pd.Series() #<! Notation for a series\n",
    "hObj       = plt.Axes() #<! Notation for an object / handler / function handler\n",
    "```\n",
    "\n",
    "### Code Exercise\n",
    "\n",
    " - Single line fill\n",
    "\n",
    " ```python\n",
    " vallToFill = ???\n",
    " ```\n",
    "\n",
    " - Multi Line to Fill (At least one)\n",
    "\n",
    " ```python\n",
    " # You need to start writing\n",
    " ????\n",
    " ```\n",
    "\n",
    " - Section to Fill\n",
    "\n",
    "```python\n",
    "#===========================Fill This===========================#\n",
    "# 1. Explanation about what to do.\n",
    "# !! Remarks to follow / take under consideration.\n",
    "mX = ???\n",
    "\n",
    "???\n",
    "#===============================================================#\n",
    "```"
   ]
  },
  {
   "cell_type": "code",
   "execution_count": null,
   "metadata": {},
   "outputs": [],
   "source": [
    "# Configuration\n",
    "# %matplotlib inline\n",
    "\n",
    "seedNum = 512\n",
    "np.random.seed(seedNum)\n",
    "random.seed(seedNum)\n",
    "\n",
    "# Matplotlib default color palette\n",
    "lMatPltLibclr = ['#1f77b4', '#ff7f0e', '#2ca02c', '#d62728', '#9467bd', '#8c564b', '#e377c2', '#7f7f7f', '#bcbd22', '#17becf']\n",
    "# sns.set_theme() #>! Apply SeaBorn theme\n",
    "\n",
    "runInGoogleColab = 'google.colab' in str(get_ipython())"
   ]
  },
  {
   "cell_type": "code",
   "execution_count": null,
   "metadata": {},
   "outputs": [],
   "source": [
    "# Constants\n",
    "\n",
    "FIG_SIZE_DEF    = (8, 8)\n",
    "ELM_SIZE_DEF    = 50\n",
    "CLASS_COLOR     = ('b', 'r')\n",
    "EDGE_COLOR      = 'k'\n",
    "MARKER_SIZE_DEF = 10\n",
    "LINE_WIDTH_DEF  = 2"
   ]
  },
  {
   "cell_type": "code",
   "execution_count": null,
   "metadata": {},
   "outputs": [],
   "source": [
    "# Courses Packages\n",
    "\n",
    "from DataVisualization import Plot2DLinearClassifier, PlotBinaryClassData\n"
   ]
  },
  {
   "cell_type": "code",
   "execution_count": null,
   "metadata": {},
   "outputs": [],
   "source": [
    "# General Auxiliary Functions\n",
    "\n"
   ]
  },
  {
   "cell_type": "code",
   "execution_count": null,
   "metadata": {},
   "outputs": [],
   "source": [
    "# Parameters\n",
    "\n",
    "# Data Generation\n",
    "\n",
    "\n",
    "# Data Visualization\n",
    "numGridPts = 250"
   ]
  },
  {
   "cell_type": "markdown",
   "metadata": {},
   "source": [
    "## Generate / Load Data\n",
    "\n",
    "We'll use the [_Breast Cancer Wisconsin (Diagnostic) Data Set_](https://archive.ics.uci.edu/ml/datasets/Breast+Cancer+Wisconsin+(Diagnostic)).\n",
    "\n",
    "The features are extracted from a digitized image of a fine needle aspirate (FNA) of a breast mass.\n",
    "\n",
    "![](https://i.imgur.com/kYHa3V6.png)\n",
    "\n",
    "* <font color='blue'>(**!**)</font> Read about the data and its variables.\n"
   ]
  },
  {
   "cell_type": "code",
   "execution_count": null,
   "metadata": {},
   "outputs": [],
   "source": [
    "# Load / Generate Data \n",
    "dData = load_breast_cancer()\n",
    "mX    = dData.data\n",
    "vY    = dData.target\n",
    "\n",
    "print(f'The features data shape: {mX.shape}')\n",
    "print(f'The labels data shape: {vY.shape}')"
   ]
  },
  {
   "cell_type": "code",
   "execution_count": null,
   "metadata": {},
   "outputs": [],
   "source": [
    "# Data Description\n",
    "\n",
    "print(dData.DESCR)"
   ]
  },
  {
   "cell_type": "code",
   "execution_count": null,
   "metadata": {},
   "outputs": [],
   "source": [
    "# Features Description\n",
    "\n",
    "print(dData.feature_names)\n"
   ]
  },
  {
   "cell_type": "markdown",
   "metadata": {},
   "source": [
    "* <font color='brown'>(**#**)</font> [Fractal Dimension](https://en.wikipedia.org/wiki/Fractal_dimension) in this context means how curvy and pointy is the perimeter of the object (Digitized image of a fine needle aspirate (FNA) of a breast mass)."
   ]
  },
  {
   "cell_type": "code",
   "execution_count": null,
   "metadata": {},
   "outputs": [],
   "source": [
    "# Labels\n",
    "print(f'The unique values of the labels: {np.unique(vY)}')"
   ]
  },
  {
   "cell_type": "code",
   "execution_count": null,
   "metadata": {},
   "outputs": [],
   "source": [
    "# Pre Process Data\n",
    "\n",
    "# Standardize Data (Features)\n",
    "# Make each variable: Zero mean, Unit standard deviation / variance\n",
    "mX = mX - np.mean(mX, axis = 0)\n",
    "mX = mX / np.std(mX, axis = 0)\n",
    "\n",
    "# Transforming the Labels into {-1, 1}\n",
    "vY[vY == 0] = -1"
   ]
  },
  {
   "cell_type": "markdown",
   "metadata": {},
   "source": [
    "* <font color='red'>(**?**)</font> Explain the broadcasting in the calculation.\n",
    "* <font color='red'>(**?**)</font> What if one of the features column has STD of 0? How should it be handled? Think beyond the numerical issue."
   ]
  },
  {
   "cell_type": "markdown",
   "metadata": {},
   "source": [
    "### Matrix Form of the Data (Parameterization)\n",
    "\n",
    "We want to add to the features the constant column:\n",
    "\n",
    "$$\n",
    "\\boldsymbol{X} = \\begin{bmatrix}\n",
    "-1 & - & x_{1} & -\\\\\n",
    "-1 & - & x_{2} & -\\\\\n",
    " & \\vdots\\\\\n",
    "-1 & - & x_{N} & -\n",
    "\\end{bmatrix} \\in \\mathbb{R}^{N \\times 31} $$\n",
    "\n"
   ]
  },
  {
   "cell_type": "markdown",
   "metadata": {},
   "source": [
    "Tasks:\n",
    "\n",
    "* <font color='blue'>(**!**)</font> Set `numSamples` to be the number of samples.  \n",
    "  You may find `len()` / `np.shape` useful.\n",
    "* <font color='blue'>(**!**)</font> Update `mX` to the form as above.\n",
    "\n",
    "Make sure that `mX.shape = (569, 31)`."
   ]
  },
  {
   "cell_type": "code",
   "execution_count": null,
   "metadata": {},
   "outputs": [],
   "source": [
    "#===========================Fill This===========================#\n",
    "numSamples  = ???\n",
    "mX          = ???\n",
    "#===============================================================#\n",
    "\n",
    "print(f'The features data shape: {mX.shape}') #>! Should be (569, 31)"
   ]
  },
  {
   "cell_type": "markdown",
   "metadata": {},
   "source": [
    "* <font color='red'>(**?**)</font> Can the data be plotted? Explain."
   ]
  },
  {
   "cell_type": "markdown",
   "metadata": {},
   "source": [
    "### Calculation Building Blocks\n",
    "\n",
    " * The [Sigmoid Function](https://en.wikipedia.org/wiki/Sigmoid_function) (Member of the _S Shaped_ function family):\n",
    "\n",
    "$$ \\sigma \\left( x \\right) = 2 \\frac{ \\exp \\left( x \\right) }{ 1 + \\exp \\left( x \\right) } - 1 = 2 \\frac{ 1 }{ 1 + \\exp \\left( -x \\right) } - 1 $$\n",
    "\n",
    "<font color='brown'>(**#**)</font> In practice such function requires numerical stable implementation. Use professionally made implementations if available.   \n",
    "<font color='brown'>(**#**)</font> See [`scipy.special.expit()`](https://docs.scipy.org/doc/scipy/reference/generated/scipy.special.expit.html) for $\\frac{ 1 }{ 1 + \\exp \\left( -x \\right) }$.\n",
    "\n",
    " * The gradient of the Sigmoid function:\n",
    "\n",
    "$$ \\frac{\\mathrm{d} \\sigma \\left( x \\right) }{\\mathrm{d} x} = 2 \\frac{ \\exp \\left( x \\right)}{\\left( 1 + \\exp \\left( x \\right) \\right)^{2}} = 2 \\left( \\frac{ 1 }{ 1 + \\exp \\left( -x \\right) } \\right) \\left( 1 - \\frac{ 1 }{ 1 + \\exp \\left( -x \\right) } \\right) $$\n",
    "\n",
    "<font color='brown'>(**#**)</font> For derivation of the last step, see https://math.stackexchange.com/questions/78575.\n",
    "\n",
    " * The loss function:\n",
    "\n",
    "$$ J \\left( \\boldsymbol{w} \\right) = \\arg \\min_{\\boldsymbol{w}} \\frac{1}{4 N} {\\left\\| \\sigma \\left( \\boldsymbol{X} \\boldsymbol{w} \\right) - \\boldsymbol{y} \\right\\|}_{2}^{2} $$\n",
    "\n",
    " * The gradient of the loss function:\n",
    "\n",
    "$$ \\nabla_{\\boldsymbol{w}} J \\left( \\boldsymbol{w} \\right) = \\frac{1}{2N} \\boldsymbol{X}^{T} \\operatorname{Diag} \\left( {\\sigma}^{'} \\left( \\boldsymbol{X} \\boldsymbol{w} \\right) \\right) \\left( \\sigma \\left( \\boldsymbol{X} \\boldsymbol{w}\\right) - \\boldsymbol{y} \\right) $$\n",
    "\n",
    " * The accuracy function:\n",
    "\n",
    "$$ \\text{Accuracy} = \\frac{1}{N} \\sum_{i = 1}^{N} \\mathbb{I} \\left\\{ \\hat{y}_{i} = y_{i} \\right\\}, \\; \\text{Where} \\; \\hat{y}_{i} = \\operatorname{sign} \\left( \\boldsymbol{w}^{T} \\boldsymbol{x}_{i} \\right) $$\n",
    "\n",
    " * The Gradient Descent step:\n",
    "\n",
    "$$ \\boldsymbol{w}_{k + 1} = \\boldsymbol{w}_{k} - \\mu \\nabla_{\\boldsymbol{w}} J \\left( \\boldsymbol{w}_{k} \\right) $$"
   ]
  },
  {
   "cell_type": "code",
   "execution_count": null,
   "metadata": {},
   "outputs": [],
   "source": [
    "# Defining the Functions\n",
    "\n",
    "def SigmoidFun( vX: np.ndarray ) -> np.ndarray:\n",
    "    \n",
    "    return (2 * sp.special.expit(vX)) - 1\n",
    "\n",
    "def GradSigmoidFun(vX: np.ndarray) -> np.ndarray:\n",
    "\n",
    "    vExpit = sp.special.expit(vX)\n",
    "    \n",
    "    return 2 * vExpit * (1 - vExpit)\n",
    "\n",
    "def LossFun(vW: np.ndarray, mX: np.ndarray, vY: np.ndarray) -> float:\n",
    "\n",
    "    numSamples = mX.shape[0]\n",
    "\n",
    "    vR = SigmoidFun(mX @ vW) - vY\n",
    "    \n",
    "    return np.sum(np.square(vR)) / (4 * numSamples)\n",
    "\n",
    "def GradLossFun(vW: np.ndarray, mX: np.ndarray, vY: np.ndarray) -> np.ndarray:\n",
    "\n",
    "    numSamples = mX.shape[0]\n",
    "    \n",
    "    return (mX.T * GradSigmoidFun(mX @ vW).T) @ (SigmoidFun(mX @ vW) - vY) / (2 * numSamples)\n",
    "\n",
    "def CalcAccuracy(vW: np.ndarray, mX: np.ndarray, vY: np.ndarray) -> float:\n",
    "    \n",
    "    vHatY = np.sign(mX @ vW)\n",
    "    \n",
    "    return np.mean(vHatY == vY)"
   ]
  },
  {
   "cell_type": "markdown",
   "metadata": {},
   "source": [
    "## Training the Model (Linear Classifier for Binary Classification)\n",
    "\n",
    "In this section we'll implement the training phase using Gradient Descent.\n",
    "\n",
    "**Remark**: You should get `~98%`.\n",
    "\n",
    "* <font color='brown'>(**#**)</font> Pay attention to the function `CalcAccuracy()`. You may use it.\n"
   ]
  },
  {
   "cell_type": "code",
   "execution_count": null,
   "metadata": {},
   "outputs": [],
   "source": [
    "# Parameters\n",
    "\n",
    "#===========================Fill This===========================#\n",
    "K   = ??? #<! Num Steps\n",
    "µ   = ??? #<! Step Size\n",
    "vW  = ??? #<! Initial w\n",
    "#===============================================================#\n",
    "\n",
    "mW = np.zeros(shape = (vW.shape[0], K)) #<! Model Parameters (Weights)\n",
    "vE = np.full(shape = K, fill_value = None) #<! Errors\n",
    "vL = np.full(shape = K, fill_value = None) #<! Loss\n",
    "\n",
    "mW[:, 0]    = vW\n",
    "vE[0]       = 1 - CalcAccuracy(vW,  mX, vY)\n",
    "vL[0]       = LossFun(vW, mX, vY)\n",
    "\n",
    "#===========================Fill This===========================#\n",
    "for kk in range(1, K):\n",
    "    vW = ??? #<! Update the weights\n",
    "\n",
    "    mW[:, kk] = vW\n",
    "    \n",
    "    vE[kk] = ??? #<! Calculate the mean error\n",
    "    vL[kk] = ??? #<! Calculate the loss\n",
    "#===============================================================#"
   ]
  },
  {
   "cell_type": "code",
   "execution_count": null,
   "metadata": {},
   "outputs": [],
   "source": [
    "# Plot the Results\n",
    "\n",
    "accFinal = CalcAccuracy(vW, mX, vY)\n",
    "\n",
    "hF, hA = plt.subplots(figsize = FIG_SIZE_DEF)\n",
    "\n",
    "hA.plot(vE, color = 'k', lw = 2, label = r'$J \\left( w \\right)$')\n",
    "hA.plot(vL, color = 'm', lw = 2, label = r'$\\tilde{J} \\left( w \\right)$')\n",
    "hA.set_title(f'Loss Functions\\nFinal Iteration Accuracy: {CalcAccuracy(vW, mX, vY):0.2%}')\n",
    "hA.set_xlabel('Iteration Index')\n",
    "hA.set_xlim((0, K - 1))\n",
    "hA.set_ylim((0, 1))\n",
    "hA.grid()\n",
    "hA.legend()\n",
    "    \n",
    "plt.show()"
   ]
  },
  {
   "cell_type": "markdown",
   "metadata": {},
   "source": [
    "## Validate the Gradient Calculation\n",
    "\n",
    "In order to verify the gradient calculation one may compare it to a numeric approximation of the gradient.  \n",
    "Usually this is done using the classic [Finite Difference Method](https://en.wikipedia.org/wiki/Finite_difference_method).  \n",
    "Yet this method requires setting the step size parameter (The `h` parameters in Wikipedia).\n",
    "Its optimal value depends on $x$ and the function itself.\n",
    "\n",
    "Yet there is a nice trick called _Complex Step Differentiation_ which goes like:\n",
    "\n",
    "$$ \\frac{\\mathrm{d} f \\left( x \\right) }{\\mathrm{d} x} \\approxeq \\frac{1}{\\varepsilon} \\Im \\left[ f \\left( x + i \\varepsilon \\right) \\right] $$\n",
    "\n",
    "This approximation is less sensitive to the choice of the step size $\\varepsilon$.\n",
    "\n",
    " * <font color='brown'>(**#**)</font> The tricky part of this method is the complex extension of the functions.  \n",
    "   for instance, instead of `np.sum(np.abs(vX))` use `np.sum(np.sqrt(vX ** 2))`.\n",
    " * <font color='brown'>(**#**)</font> Usually setting `ε = 1e-8` will do the work."
   ]
  },
  {
   "cell_type": "code",
   "execution_count": null,
   "metadata": {},
   "outputs": [],
   "source": [
    "# Numerical Calculation of the Gradient by the Complex Step Trick\n",
    "\n",
    "def CalcFunGrad( hF, vX, ε = 1e-8 ):\n",
    "\n",
    "    numElements = vX.shape[0]\n",
    "    \n",
    "    vY = hF(vX)\n",
    "    vG = np.zeros(numElements) #<! Gradient\n",
    "    vP = np.zeros(numElements) #<! Perturbation\n",
    "    vZ = np.array(vX, dtype = complex)\n",
    "\n",
    "    for ii in range(numElements):\n",
    "        vP[ii]  = ε\n",
    "        vZ.imag = vP\n",
    "        vG[ii]  = np.imag(hF(vZ)) / ε\n",
    "        vP[ii]  = 0\n",
    "    \n",
    "    return vG\n"
   ]
  },
  {
   "cell_type": "code",
   "execution_count": null,
   "metadata": {},
   "outputs": [],
   "source": [
    "# Updating Functions to Support Complex Input\n",
    "\n",
    "def SigFunComplex( vX: np.ndarray ) -> np.ndarray:\n",
    "\n",
    "    return 1 / (1 + np.exp(-vX))\n",
    "\n",
    "\n",
    "def SigmoidFunComplex( vX: np.ndarray ) -> np.ndarray:\n",
    "    \n",
    "    return (2 * SigFunComplex(vX)) - 1\n",
    "\n",
    "\n",
    "def LossFunComplex(vW: np.ndarray, mX: np.ndarray, vY: np.ndarray):\n",
    "\n",
    "    numSamples = mX.shape[0]\n",
    "\n",
    "    vR = SigmoidFunComplex(mX @ vW) - vY\n",
    "    \n",
    "    return np.sum(np.square(vR)) / (4 * numSamples)"
   ]
  },
  {
   "cell_type": "code",
   "execution_count": null,
   "metadata": {},
   "outputs": [],
   "source": [
    "# Calculating the Gradient Numerically\n",
    "\n",
    "ε = 1e-8\n",
    " \n",
    "hL = lambda vW: LossFunComplex(vW, mX, vY)\n",
    "\n",
    "vW = np.random.rand(mX.shape[1])\n",
    "vG = CalcFunGrad(hL, vW, ε) #<! Numerical gradient"
   ]
  },
  {
   "cell_type": "code",
   "execution_count": null,
   "metadata": {},
   "outputs": [],
   "source": [
    "# Verifying the complex variation of the loss function matches the reference \n",
    "\n",
    "maxError = np.max(np.abs(LossFunComplex(vW, mX, vY) - LossFun(vW, mX, vY)))\n",
    "print(f'The maximum absolute deviation of the complex variation: {maxError}')"
   ]
  },
  {
   "cell_type": "code",
   "execution_count": null,
   "metadata": {},
   "outputs": [],
   "source": [
    "# Verifying the analytic gradient vs. the complex step differentiation\n",
    "\n",
    "maxError = np.max(np.abs(GradLossFun(vW, mX, vY) - vG))\n",
    "print(f'The maximum absolute deviation of the numerical gradient: {maxError}') #<! We expect it to be less than 1e-8 for Float64"
   ]
  },
  {
   "cell_type": "markdown",
   "metadata": {},
   "source": [
    "* <font color='green'>(**@**)</font> Show the histogram of each feature as a function of the class.  \n",
    "  You may and should use _SeaBorn_.\n",
    "* <font color='brown'>(**#**)</font> A full analysis of the data is given at [A Study of a Breast Cancer Dataset - Breast Cancer Wisconsin (Diagnostic) Data Set](https://ucb-stat-159-s22.github.io/hw07-Group26/main.html)."
   ]
  }
 ],
 "metadata": {
  "kernelspec": {
   "display_name": "Python 3",
   "language": "python",
   "name": "python3"
  },
  "language_info": {
   "codemirror_mode": {
    "name": "ipython",
    "version": 3
   },
   "file_extension": ".py",
   "mimetype": "text/x-python",
   "name": "python",
   "nbconvert_exporter": "python",
   "pygments_lexer": "ipython3",
   "version": "3.12.8"
  },
  "toc": {
   "base_numbering": 1,
   "nav_menu": {},
   "number_sections": false,
   "sideBar": true,
   "skip_h1_title": false,
   "title_cell": "Table of Contents",
   "title_sidebar": "Contents",
   "toc_cell": false,
   "toc_position": {},
   "toc_section_display": true,
   "toc_window_display": true
  },
  "varInspector": {
   "cols": {
    "lenName": 16,
    "lenType": 16,
    "lenVar": 40
   },
   "kernels_config": {
    "python": {
     "delete_cmd_postfix": "",
     "delete_cmd_prefix": "del ",
     "library": "var_list.py",
     "varRefreshCmd": "print(var_dic_list())"
    },
    "r": {
     "delete_cmd_postfix": ") ",
     "delete_cmd_prefix": "rm(",
     "library": "var_list.r",
     "varRefreshCmd": "cat(var_dic_list()) "
    }
   },
   "types_to_exclude": [
    "module",
    "function",
    "builtin_function_or_method",
    "instance",
    "_Feature"
   ],
   "window_display": false
  },
  "vscode": {
   "interpreter": {
    "hash": "39577bab1f263e62e0b74f5b8086bd735049bf4751f6562b2d4b2969dc308293"
   }
  }
 },
 "nbformat": 4,
 "nbformat_minor": 4
}
