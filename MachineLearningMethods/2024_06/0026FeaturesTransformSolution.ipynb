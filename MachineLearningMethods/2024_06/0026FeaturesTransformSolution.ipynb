{
 "cells": [
  {
   "attachments": {},
   "cell_type": "markdown",
   "metadata": {},
   "source": [
    "[![Fixel Algorithms](https://fixelalgorithms.co/images/CCExt.png)](https://fixelalgorithms.gitlab.io)\n",
    "\n",
    "# Machine Learning Methods\n",
    "\n",
    "## Supervised Learning - Classification - Features Transform - Exercise\n",
    "\n",
    "Polynomial and Coordinate Change Feature Transform as a Pipeline.\n",
    "\n",
    "> Notebook by:\n",
    "> - Royi Avital RoyiAvital@fixelalgorithms.com\n",
    "\n",
    "## Revision History\n",
    "\n",
    "| Version | Date       | User        |Content / Changes                                                   |\n",
    "|---------|------------|-------------|--------------------------------------------------------------------|\n",
    "| 1.0.001 | 16/07/2024 | Royi Avital | Added type hints to the class                                      |\n",
    "| 1.0.000 | 16/03/2024 | Royi Avital | First version                                                      |"
   ]
  },
  {
   "attachments": {},
   "cell_type": "markdown",
   "metadata": {},
   "source": [
    "[![Open In Colab](https://colab.research.google.com/assets/colab-badge.svg)](https://colab.research.google.com/github/FixelAlgorithmsTeam/FixelCourses/blob/master/AIProgram/2024_02/0037FeaturesTransform.ipynb)"
   ]
  },
  {
   "cell_type": "code",
   "execution_count": null,
   "metadata": {
    "ExecuteTime": {
     "end_time": "2022-02-02T09:30:06.492269Z",
     "start_time": "2022-02-02T09:30:06.220934Z"
    }
   },
   "outputs": [],
   "source": [
    "# Import Packages\n",
    "\n",
    "# General Tools\n",
    "import numpy as np\n",
    "import scipy as sp\n",
    "import pandas as pd\n",
    "\n",
    "# Machine Learning\n",
    "from sklearn.base import TransformerMixin\n",
    "from sklearn.datasets import make_circles\n",
    "from sklearn.pipeline import Pipeline\n",
    "from sklearn.preprocessing import PolynomialFeatures\n",
    "from sklearn.svm import SVC\n",
    "\n",
    "# Image Processing\n",
    "\n",
    "# Machine Learning\n",
    "\n",
    "# Miscellaneous\n",
    "import math\n",
    "import os\n",
    "from platform import python_version\n",
    "import random\n",
    "import timeit\n",
    "\n",
    "# Typing\n",
    "from typing import Callable, Dict, List, Optional, Self, Set, Tuple, Union\n",
    "\n",
    "# Visualization\n",
    "import matplotlib as mpl\n",
    "import matplotlib.pyplot as plt\n",
    "import seaborn as sns\n",
    "\n",
    "# Jupyter\n",
    "from IPython import get_ipython\n",
    "from IPython.display import Image\n",
    "from IPython.display import display\n",
    "from ipywidgets import Dropdown, FloatSlider, interact, IntSlider, Layout, SelectionSlider\n",
    "from ipywidgets import interact"
   ]
  },
  {
   "attachments": {},
   "cell_type": "markdown",
   "metadata": {},
   "source": [
    "## Notations\n",
    "\n",
    "* <font color='red'>(**?**)</font> Question to answer interactively.\n",
    "* <font color='blue'>(**!**)</font> Simple task to add code for the notebook.\n",
    "* <font color='green'>(**@**)</font> Optional / Extra self practice.\n",
    "* <font color='brown'>(**#**)</font> Note / Useful resource / Food for thought.\n",
    "\n",
    "Code Notations:\n",
    "\n",
    "```python\n",
    "someVar    = 2; #<! Notation for a variable\n",
    "vVector    = np.random.rand(4) #<! Notation for 1D array\n",
    "mMatrix    = np.random.rand(4, 3) #<! Notation for 2D array\n",
    "tTensor    = np.random.rand(4, 3, 2, 3) #<! Notation for nD array (Tensor)\n",
    "tuTuple    = (1, 2, 3) #<! Notation for a tuple\n",
    "lList      = [1, 2, 3] #<! Notation for a list\n",
    "dDict      = {1: 3, 2: 2, 3: 1} #<! Notation for a dictionary\n",
    "oObj       = MyClass() #<! Notation for an object\n",
    "dfData     = pd.DataFrame() #<! Notation for a data frame\n",
    "dsData     = pd.Series() #<! Notation for a series\n",
    "hObj       = plt.Axes() #<! Notation for an object / handler / function handler\n",
    "```\n",
    "\n",
    "### Code Exercise\n",
    "\n",
    " - Single line fill\n",
    "\n",
    " ```python\n",
    " vallToFill = ???\n",
    " ```\n",
    "\n",
    " - Multi Line to Fill (At least one)\n",
    "\n",
    " ```python\n",
    " # You need to start writing\n",
    " ????\n",
    " ```\n",
    "\n",
    " - Section to Fill\n",
    "\n",
    "```python\n",
    "#===========================Fill This===========================#\n",
    "# 1. Explanation about what to do.\n",
    "# !! Remarks to follow / take under consideration.\n",
    "mX = ???\n",
    "\n",
    "???\n",
    "#===============================================================#\n",
    "```"
   ]
  },
  {
   "cell_type": "code",
   "execution_count": null,
   "metadata": {},
   "outputs": [],
   "source": [
    "# Configuration\n",
    "# %matplotlib inline\n",
    "\n",
    "seedNum = 512\n",
    "seedNum = 513\n",
    "np.random.seed(seedNum)\n",
    "random.seed(seedNum)\n",
    "\n",
    "# Matplotlib default color palette\n",
    "lMatPltLibclr = ['#1f77b4', '#ff7f0e', '#2ca02c', '#d62728', '#9467bd', '#8c564b', '#e377c2', '#7f7f7f', '#bcbd22', '#17becf']\n",
    "# sns.set_theme() #>! Apply SeaBorn theme\n",
    "\n",
    "runInGoogleColab = 'google.colab' in str(get_ipython())"
   ]
  },
  {
   "cell_type": "code",
   "execution_count": null,
   "metadata": {},
   "outputs": [],
   "source": [
    "# Constants\n",
    "\n",
    "FIG_SIZE_DEF    = (8, 8)\n",
    "ELM_SIZE_DEF    = 50\n",
    "CLASS_COLOR     = ('b', 'r')\n",
    "EDGE_COLOR      = 'k'\n",
    "MARKER_SIZE_DEF = 10\n",
    "LINE_WIDTH_DEF  = 2"
   ]
  },
  {
   "cell_type": "code",
   "execution_count": null,
   "metadata": {},
   "outputs": [],
   "source": [
    "# Courses Packages\n",
    "\n",
    "from DataVisualization import PlotBinaryClassData, PlotDecisionBoundaryClosure\n"
   ]
  },
  {
   "cell_type": "code",
   "execution_count": null,
   "metadata": {},
   "outputs": [],
   "source": [
    "# General Auxiliary Functions\n"
   ]
  },
  {
   "cell_type": "markdown",
   "metadata": {},
   "source": [
    "## Features Transform\n",
    "\n",
    "In this exercise we'll apply a feature transform to solve a classification problem.  \n",
    "We'll apply 2 different transforms:\n",
    "\n",
    "1. Polynomial Transform  \n",
    "2. Polar Coordinates.\n",
    "\n",
    "In the exercise we'll learn about 2 features of SciKit Learn:\n",
    "\n",
    "1. Pre Processing Module.\n",
    "2. Pipelines.\n",
    "\n",
    "The tasks are:\n",
    "\n",
    "1. Train a linear SVM classifier on the data to have a base line.\n",
    "2. Apply polynomial feature transform using [`PolynomialFeatures`](https://scikit-learn.org/stable/modules/generated/sklearn.preprocessing.PolynomialFeatures.html).\n",
    "3. Train a linear SVM classifier on the transformed features.\n",
    "4. Change coordinates of the original features to [Polar Coordinate System](https://en.wikipedia.org/wiki/Polar_coordinate_system).\n",
    "5. Train a linear SVM classifier on the transformed features.\n",
    "\n",
    "\n",
    "* <font color='brown'>(**#**)</font> See [Data Science - List of Feature Engineering Techniques](https://datascience.stackexchange.com/questions/12984).\n",
    "* <font color='brown'>(**#**)</font> See [Data Science - Tools for Feature Engineering](https://datascience.stackexchange.com/questions/8286).\n",
    "* <font color='brown'>(**#**)</font> See [SciKit Learn's Time Related Feature Engineering](https://scikit-learn.org/stable/auto_examples/applications/plot_cyclical_feature_engineering.html).\n",
    "* <font color='brown'>(**#**)</font> [FeatureTools](https://github.com/alteryx/featuretools) is a well known tool for feature generation.\n",
    "* <font color='brown'>(**#**)</font> Some useful tutorials on Feature Engineering are given in: [Feature Engine](https://github.com/feature-engine/feature_engine), [Feature Engine Examples](https://github.com/feature-engine/feature-engine-examples), [Python Feature Engineering Cookbook - Jupyter Notebooks](https://github.com/PacktPublishing/Python-Feature-Engineering-Cookbook)."
   ]
  },
  {
   "cell_type": "code",
   "execution_count": null,
   "metadata": {},
   "outputs": [],
   "source": [
    "# Parameters\n",
    "\n",
    "# Data Generation\n",
    "numSamples = 250 #<! Per Quarter\n",
    "\n",
    "# Pre Processing\n",
    "polyDeg = 2\n",
    "\n",
    "# Model\n",
    "paramC      = 1\n",
    "kernelType  = 'linear'\n",
    "lC          = [0.1, 0.25, 0.75, 1, 1.5, 2, 3]\n",
    "\n",
    "# Data Visualization\n",
    "numGridPts = 1001\n"
   ]
  },
  {
   "cell_type": "markdown",
   "metadata": {},
   "source": [
    "## Generate / Load Data\n"
   ]
  },
  {
   "cell_type": "code",
   "execution_count": null,
   "metadata": {},
   "outputs": [],
   "source": [
    "# Generate Data \n",
    "\n",
    "mX, vY  = make_circles(n_samples = numSamples, shuffle = True, noise = 0.075, factor = 0.50)\n",
    "\n",
    "PlotDecisionBoundary = PlotDecisionBoundaryClosure(numGridPts, -1.5, 1.5, -1.5, 1.5)\n",
    "\n",
    "print(f'The features data shape: {mX.shape}')\n",
    "print(f'The labels data shape: {vY.shape}')\n",
    "print(f'The unique values of the labels: {np.unique(vY)}')"
   ]
  },
  {
   "cell_type": "markdown",
   "metadata": {},
   "source": [
    "### Plot Data"
   ]
  },
  {
   "cell_type": "code",
   "execution_count": null,
   "metadata": {},
   "outputs": [],
   "source": [
    "# Plot the Data\n",
    "\n",
    "hA = PlotBinaryClassData(mX, vY, axisTitle = 'Samples Data')"
   ]
  },
  {
   "cell_type": "markdown",
   "metadata": {},
   "source": [
    "## Train a Linear SVM Model\n",
    "\n",
    "In this section we'll try optimize the best _Linear SVM_ model for the problem. \n",
    "\n",
    "* <font color='red'>(**?**)</font> What do you think the decision boundary will be?"
   ]
  },
  {
   "cell_type": "code",
   "execution_count": null,
   "metadata": {},
   "outputs": [],
   "source": [
    "# SVM Linear Model\n",
    "# Optimize the `C` hyper parameter of the linear SVM model.\n",
    "\n",
    "vAcc = np.zeros(shape = len(lC)) #<! Array of accuracy\n",
    "\n",
    "#===========================Fill This===========================#\n",
    "# 1. Iterate over the parameters in `lC`.\n",
    "# 2. Score each model.\n",
    "# 3. Extract the best model.\n",
    "\n",
    "for ii, C in enumerate(lC):\n",
    "    oLinSvc  = SVC(C = C, kernel = kernelType).fit(mX, vY) #<! Model definition and training\n",
    "    vAcc[ii] = oLinSvc.score(mX, vY) #<! Accuracy\n",
    "\n",
    "bestModelIdx    = np.argmax(vAcc)\n",
    "bestC           = lC[bestModelIdx]\n",
    "\n",
    "oLinSvc = SVC(C = bestC, kernel = kernelType).fit(mX, vY) #<! Best model\n",
    "\n",
    "#===============================================================#\n",
    "\n",
    "print(f'The best model with C = {bestC:0.2f} achieved accuracy of {vAcc[bestModelIdx]:0.2%}')\n"
   ]
  },
  {
   "cell_type": "code",
   "execution_count": null,
   "metadata": {},
   "outputs": [],
   "source": [
    "# Plot the Decision Boundary\n",
    "\n",
    "hF, hA = plt.subplots(figsize = FIG_SIZE_DEF)\n",
    "hA = PlotDecisionBoundary(oLinSvc.predict, hA)\n",
    "hA = PlotBinaryClassData(mX, vY, hA = hA, axisTitle = 'Classifier Decision Boundary')\n",
    "plt.show()\n"
   ]
  },
  {
   "cell_type": "markdown",
   "metadata": {},
   "source": [
    "## Feature Transform\n",
    "\n",
    "In this section we'll create a new set of features.  \n",
    "We'll have 2 types of transformations:\n",
    "\n",
    "1. Polynomial.\n",
    "2. Polar Coordinates.\n",
    "\n",
    "In order to apply the chain of operation: `X -> PolyFeatures -> Model` we'll create a SciKit Pipeline using [`Pipeline`](https://scikit-learn.org/stable/modules/generated/sklearn.pipeline.Pipeline.html).  \n",
    "The concept of a pipeline is creating a SciKit Learn object (With the `fit()`, `predict()` approach) which chains multiple objects and allows simpler optimization of the whole process."
   ]
  },
  {
   "cell_type": "markdown",
   "metadata": {},
   "source": [
    "### Polynomial Features Transform\n",
    "\n",
    "The features will model a higher degree polynomial base don the 2 given features (Coordinates).\n",
    "\n",
    "Given the data as:\n",
    "\n",
    "$$ X = \\begin{bmatrix} \\boldsymbol{x}_{1} & \\boldsymbol{x}_{2} \\end{bmatrix} $$\n",
    "\n",
    "We'll generate the matrix:\n",
    "\n",
    "$$ \\bar{X} = \\begin{bmatrix} \\boldsymbol{x}_{1} & \\boldsymbol{x}_{2} & \\boldsymbol{x}_{1} \\otimes \\boldsymbol{x}_{1} & \\boldsymbol{x}_{2} \\otimes \\boldsymbol{x}_{2} & \\boldsymbol{x}_{1} \\otimes \\boldsymbol{x}_{2} & \\dots \\end{bmatrix} $$\n",
    "\n",
    "Where $\\otimes$ is the [Kronecker Product](https://en.wikipedia.org/wiki/Kronecker_product), element wise multiplication. \n",
    "\n",
    "Basically we create all inter multiplication up to order $p$ of the data.  \n",
    "This is done using [`PolynomialFeatures`](https://scikit-learn.org/stable/modules/generated/sklearn.preprocessing.PolynomialFeatures.html) from the `preprocessing` module of SciKit Learn.\n",
    "\n",
    "\n",
    "* <font color='red'>(**?**)</font> Given we're using the SVM model, do we need the term $\\boldsymbol{1}$ in our features? Look at the `include_bias` parameter in `PolynomialFeatures`.\n",
    "* <font color='red'>(**?**)</font> Why is the `polyDeg` parameter set to 2?"
   ]
  },
  {
   "cell_type": "code",
   "execution_count": null,
   "metadata": {},
   "outputs": [],
   "source": [
    "# Construct the PolynomialFeatures Object\n",
    "\n",
    "#===========================Fill This===========================#\n",
    "# 1. Set the `degree` and pay attention to `include_bias` parameter.\n",
    "oPolyTrns = PolynomialFeatures(degree = polyDeg, include_bias = False)\n",
    "#===============================================================#"
   ]
  },
  {
   "cell_type": "code",
   "execution_count": null,
   "metadata": {},
   "outputs": [],
   "source": [
    "# Feature Generation\n",
    "# Generate a set of features by applying the transformations.\n",
    "\n",
    "#===========================Fill This===========================#\n",
    "# 1. Read about the `fit()` and `transform()` methods of `PolynomialFeatures`.\n",
    "# 2. Use the methods to apply the feature transform.\n",
    "oPolyTrns = oPolyTrns.fit(mX)\n",
    "mX1 = oPolyTrns.transform(mX)\n",
    "#===============================================================#"
   ]
  },
  {
   "cell_type": "code",
   "execution_count": null,
   "metadata": {},
   "outputs": [],
   "source": [
    "# SVM Linear Model\n",
    "# Apply a linear model on the transformed features.\n",
    "\n",
    "vAcc = np.zeros(shape = len(lC)) #<! Array of accuracy\n",
    "\n",
    "#===========================Fill This===========================#\n",
    "# 1. Iterate over the parameters in `lC`.\n",
    "# 2. Score each model.\n",
    "# 3. Extract the best model.\n",
    "# !! Make sure to use the transformed features.\n",
    "\n",
    "for ii, C in enumerate(lC):\n",
    "    oLinSvc  = SVC(C = C, kernel = kernelType).fit(mX1, vY) #<! Model definition and training\n",
    "    vAcc[ii] = oLinSvc.score(mX1, vY) #<! Accuracy\n",
    "\n",
    "bestModelIdx    = np.argmax(vAcc)\n",
    "bestC           = lC[bestModelIdx]\n",
    "\n",
    "oLinSvc = SVC(C = bestC, kernel = kernelType).fit(mX1, vY) #<! Best model\n",
    "\n",
    "#===============================================================#\n",
    "\n",
    "print(f'The best model with C = {bestC:0.2f} achieved accuracy of {vAcc[bestModelIdx]:0.2%}')"
   ]
  },
  {
   "cell_type": "markdown",
   "metadata": {},
   "source": [
    "#### Decision Boundary\n",
    "\n",
    "* <font color='red'>(**?**)</font> Can we apply the trained model on the original feature set? Think about dimensions of the data.\n",
    "\n",
    "In order to plot the _decision boundary_ over the original features we need to have a single object, with the `predict()` method to apply both the pre processing and the prediction.  \n",
    "This is the basic concept behind a pipeline in SciKit Learn.\n",
    "\n",
    "* <font color='brown'>(**#**)</font> Later on we'll use this concept for the training step as well."
   ]
  },
  {
   "cell_type": "code",
   "execution_count": null,
   "metadata": {},
   "outputs": [],
   "source": [
    "# Build the Pipeline\n",
    "\n",
    "#===========================Fill This===========================#\n",
    "# 1. Construct the pipeline object.\n",
    "# 2. The 1st step is 'Transformer' which applies the polynomial transformation.\n",
    "# 3. The 2nd step is 'Classifier' which applies the classifier.\n",
    "oModelPipe = Pipeline([('Transformer', oPolyTrns), ('Classifier', oLinSvc)])\n",
    "#===============================================================#"
   ]
  },
  {
   "cell_type": "code",
   "execution_count": null,
   "metadata": {},
   "outputs": [],
   "source": [
    "# Plot the Decision Boundary\n",
    "\n",
    "hF, hA = plt.subplots(figsize = FIG_SIZE_DEF)\n",
    "hA = PlotDecisionBoundary(oModelPipe.predict, hA)\n",
    "hA = PlotBinaryClassData(mX, vY, hA = hA, axisTitle = 'Classifier Decision Boundary')\n",
    "plt.show()"
   ]
  },
  {
   "cell_type": "markdown",
   "metadata": {},
   "source": [
    "### Polar Coordinates\n",
    "\n",
    "In this section we'll replace the features with the following model:\n",
    "\n",
    "$$ \\phi \\left( {x}_{1}, {x}_{2} \\right) \\to \\left( \\sqrt{ {x}_{1}^{2} + {x}_{2}^{2} }, \\angle \\left( {x}_{1}, {x}_{2} \\right) \\right) $$\n",
    "\n",
    "Where $\\angle \\left( {x}_{1}, {x}_{2} \\right)$ is the angle between the point $\\left( {x}_{1}, {x}_{2} \\right)$ to the positive direction of ${x}_{1}$ axis.\n",
    "\n",
    "* <font color='brown'>(**#**)</font> This is an example of a _domain knowledge_ like transformation while the previous case is _AutoML_ case.\n",
    "\n",
    "Then we'll show the decision boundary of the best model.\n",
    "\n",
    "* <font color='red'>(**?**)</font> What do you expect the decision boundary to like in this time?\n",
    "\n",
    "The tasks:\n",
    "\n",
    "1. Create a transformer sub class to apply the data transformation.\n",
    "2. Apply the transform on the data and plot it to verify it.\n",
    "3. Create a pipeline based on the data using a pre defined parameters for the SVM model.\n",
    "4. Train the pipeline using `fit()`.\n",
    "5. Plot the decision boundary.\n",
    "\n",
    "* <font color='brown'>(**#**)</font> Later on we'll learn how to control the parameters of the steps of a pipeline.\n"
   ]
  },
  {
   "cell_type": "code",
   "execution_count": null,
   "metadata": {},
   "outputs": [],
   "source": [
    "# The PolarCoordinatesTransformer Class\n",
    "# This is a SciKit Learn transformer sub class.\n",
    "# This class implements the `fit()`, `transform()` and `fit_transform()` methods.\n",
    "\n",
    "\n",
    "class PolarCoordinatesTransformer(TransformerMixin):\n",
    "    def __init__(self) -> None:\n",
    "        pass\n",
    "\n",
    "    def fit(self, mX: np.ndarray, vY = Optional[np.ndarray] ) -> Self:\n",
    "#===========================Fill This===========================#\n",
    "# This method gets the input features and allocate memory for the transformed features.\n",
    "# It also keeps, for later validation, the dimensions of the input data.\n",
    "        numSamples  = mX.shape[0]\n",
    "        dataDim     = mX.shape[1]\n",
    "        if dataDim != 2:\n",
    "            raise ValueError(f'The input data must have exactly 2 columns while it has {dataDim} columns')\n",
    "        \n",
    "        mZ = np.empty(shape = (numSamples, 2)) #<! Allocate output\n",
    "\n",
    "        self.numSamples = numSamples\n",
    "        self.dataDim    = dataDim\n",
    "        self.mZ         = mZ\n",
    "\n",
    "        return self\n",
    "#===============================================================#\n",
    "    \n",
    "    def transform(self, mX: np.ndarray) -> np.ndarray:\n",
    "#===========================Fill This===========================#\n",
    "# This method applies the actual transform.\n",
    "# It saves the transformations into `mZ`.\n",
    "# The 1st column is the magnitude and the 2nd column is the angle.\n",
    "        if ((mX.shape[0] != self.numSamples) or (mX.shape[1] != self.dataDim)):\n",
    "            raise ValueError(f'The data to transform has a different dimensions than the data which defined in `fit()`')\n",
    "        \n",
    "        self.mZ[:, 0] = np.linalg.norm(mX, axis = 1) #<! Norm\n",
    "        self.mZ[:, 1] = np.arctan2(mX[:, 1], mX[:, 0]) #<! Angle\n",
    "\n",
    "        return self.mZ\n",
    "#===========================Fill This===========================#\n",
    "\n",
    "    def fit_transform(self, mX: np.ndarray, vY = Optional[np.ndarray], **fit_params) -> np.ndarray:\n",
    "        \n",
    "        return super().fit_transform(mX, vY, **fit_params)"
   ]
  },
  {
   "cell_type": "markdown",
   "metadata": {},
   "source": [
    "* <font color='red'>(**?**)</font> Will this implementation work in production? Pay attention to the input dimensions constraints on the `transform()` method.\n",
    "* <font color='blue'>(**!**)</font> The class above calculates ${\\left\\| \\boldsymbol{x} \\right\\|}_{2}$. Implement ${\\left\\| \\boldsymbol{x} \\right\\|}_{2}^{2}$ instead and compare results.\n",
    "* <font color='red'>(**?**)</font> Which of the option would you chose for production?"
   ]
  },
  {
   "cell_type": "code",
   "execution_count": null,
   "metadata": {},
   "outputs": [],
   "source": [
    "# Transformer Object\n",
    "\n",
    "#===========================Fill This===========================#\n",
    "# 1. Construct the `PolarCoordinatesTransformer` object.\n",
    "oPolarTrns = PolarCoordinatesTransformer()\n",
    "#===============================================================#"
   ]
  },
  {
   "cell_type": "code",
   "execution_count": null,
   "metadata": {},
   "outputs": [],
   "source": [
    "# Apply Transformation\n",
    "\n",
    "#===========================Fill This===========================#\n",
    "# 1. Generate a set of features with the new feature.\n",
    "# 2. Use `fit_transform()` to both fit and apply at once.\n",
    "mX2 = oPolarTrns.fit_transform(mX)\n",
    "#===============================================================#"
   ]
  },
  {
   "cell_type": "code",
   "execution_count": null,
   "metadata": {},
   "outputs": [],
   "source": [
    "# Plot the Transformed Features\n",
    "hF, hA = plt.subplots(figsize = FIG_SIZE_DEF)\n",
    "hA = PlotBinaryClassData(mX2, vY, hA = hA, axisTitle = 'Polar Coordinates Transformed Features')\n",
    "hA.set_xlabel(r'${\\left\\Vert \\bf{x} \\right\\Vert}_{2}$')\n",
    "hA.set_ylabel(r'$ \\angle \\left( \\bf{x} \\right) $')\n",
    "\n",
    "plt.show()"
   ]
  },
  {
   "cell_type": "code",
   "execution_count": null,
   "metadata": {},
   "outputs": [],
   "source": [
    "# SVM Linear Model - On the Transformed Data\n",
    "\n",
    "vAcc = np.zeros(shape = len(lC))\n",
    "\n",
    "for ii, C in enumerate(lC):\n",
    "    oLinSvc  = SVC(C = C, kernel = kernelType).fit(mX2, vY)\n",
    "    vAcc[ii] = oLinSvc.score(mX2, vY)\n",
    "\n",
    "bestModelIdx    = np.argmax(vAcc)\n",
    "bestC           = lC[bestModelIdx]\n",
    "\n",
    "oLinSvc = SVC(C = bestC, kernel = kernelType).fit(mX2, vY)\n",
    "\n",
    "print(f'The best model with C = {bestC:0.2f} achieved accuracy of {vAcc[bestModelIdx]:0.2%}')\n"
   ]
  },
  {
   "cell_type": "code",
   "execution_count": null,
   "metadata": {},
   "outputs": [],
   "source": [
    "# Plot the Decision Boundary\n",
    "\n",
    "PlotDecisionBoundary = PlotDecisionBoundaryClosure(numGridPts, 0, 2, -3.5, 3.5)\n",
    "\n",
    "hF, hA = plt.subplots(figsize = FIG_SIZE_DEF)\n",
    "hA = PlotDecisionBoundary(oLinSvc.predict, hA)\n",
    "hA = PlotBinaryClassData(mX2, vY, hA = hA, axisTitle = 'Classifier Decision Boundary')\n",
    "plt.show()"
   ]
  },
  {
   "cell_type": "code",
   "execution_count": null,
   "metadata": {},
   "outputs": [],
   "source": [
    "# Build the Pipeline\n",
    "\n",
    "oPolarTrns = oPolarTrns.fit(np.zeros(shape = (numGridPts * numGridPts, 2))) #<! Fitting to the grid of the plot\n",
    "\n",
    "#===========================Fill This===========================#\n",
    "# 1. Construct the pipeline object.\n",
    "# 2. The 1st step is 'Transformer' which applies the polynomial transformation.\n",
    "# 3. The 2nd step is 'Classifier' which applies the classifier.\n",
    "oModelPipe = Pipeline([('Transformer', oPolarTrns), ('Classifier', oLinSvc)])\n",
    "#===============================================================#"
   ]
  },
  {
   "cell_type": "code",
   "execution_count": null,
   "metadata": {},
   "outputs": [],
   "source": [
    "# Plot the Decision Boundary\n",
    "\n",
    "PlotDecisionBoundary = PlotDecisionBoundaryClosure(numGridPts, -1.5, 1.5, -1.5, 1.5)\n",
    "\n",
    "hF, hA = plt.subplots(figsize = FIG_SIZE_DEF)\n",
    "hA = PlotDecisionBoundary(oModelPipe.predict, hA)\n",
    "hA = PlotBinaryClassData(mX, vY, hA = hA, axisTitle = 'Classifier Decision Boundary')\n",
    "plt.show()"
   ]
  },
  {
   "cell_type": "markdown",
   "metadata": {},
   "source": [
    "* <font color='red'>(**?**)</font> Do we need both features?\n",
    "* <font color='red'>(**?**)</font> Is the solution a circle? Think about the support vectors on the transformed data.\n",
    "* <font color='red'>(**?**)</font> How would you solve the case above?\n",
    "* <font color='blue'>(**!**)</font> Try with random seed `seedNum = 512`. Explain results."
   ]
  }
 ],
 "metadata": {
  "kernelspec": {
   "display_name": "Python 3",
   "language": "python",
   "name": "python3"
  },
  "language_info": {
   "codemirror_mode": {
    "name": "ipython",
    "version": 3
   },
   "file_extension": ".py",
   "mimetype": "text/x-python",
   "name": "python",
   "nbconvert_exporter": "python",
   "pygments_lexer": "ipython3",
   "version": "3.12.4"
  },
  "toc": {
   "base_numbering": 1,
   "nav_menu": {},
   "number_sections": false,
   "sideBar": true,
   "skip_h1_title": false,
   "title_cell": "Table of Contents",
   "title_sidebar": "Contents",
   "toc_cell": false,
   "toc_position": {},
   "toc_section_display": true,
   "toc_window_display": true
  },
  "varInspector": {
   "cols": {
    "lenName": 16,
    "lenType": 16,
    "lenVar": 40
   },
   "kernels_config": {
    "python": {
     "delete_cmd_postfix": "",
     "delete_cmd_prefix": "del ",
     "library": "var_list.py",
     "varRefreshCmd": "print(var_dic_list())"
    },
    "r": {
     "delete_cmd_postfix": ") ",
     "delete_cmd_prefix": "rm(",
     "library": "var_list.r",
     "varRefreshCmd": "cat(var_dic_list()) "
    }
   },
   "types_to_exclude": [
    "module",
    "function",
    "builtin_function_or_method",
    "instance",
    "_Feature"
   ],
   "window_display": false
  },
  "vscode": {
   "interpreter": {
    "hash": "39577bab1f263e62e0b74f5b8086bd735049bf4751f6562b2d4b2969dc308293"
   }
  }
 },
 "nbformat": 4,
 "nbformat_minor": 4
}
