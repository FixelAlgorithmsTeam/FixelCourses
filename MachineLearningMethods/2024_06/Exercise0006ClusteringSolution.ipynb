{
 "cells": [
  {
   "attachments": {},
   "cell_type": "markdown",
   "metadata": {},
   "source": [
    "[![Fixel Algorithms](https://fixelalgorithms.co/images/CCExt.png)](https://fixelalgorithms.gitlab.io/)\n",
    "\n",
    "# Machine Learning Methods\n",
    "\n",
    "## Exercise 006 - Clustering\n",
    "\n",
    "> Notebook by:\n",
    "> - Royi Avital RoyiAvital@fixelalgorithms.com\n",
    "\n",
    "## Revision History\n",
    "\n",
    "| Version | Date       | User        |Content / Changes                                                   |\n",
    "|---------|------------|-------------|--------------------------------------------------------------------|\n",
    "| 0.1.000 | 28/02/2023 | Royi Avital | First version                                                      |\n",
    "|         |            |             |                                                                    |"
   ]
  },
  {
   "attachments": {},
   "cell_type": "markdown",
   "metadata": {},
   "source": [
    "[![Open In Colab](https://colab.research.google.com/assets/colab-badge.svg)](https://colab.research.google.com/github/FixelAlgorithmsTeam/FixelCourses/blob/master/MachineLearningMethods/2023_01/Exercise0006ClusteringSolution.ipynb)"
   ]
  },
  {
   "cell_type": "code",
   "execution_count": null,
   "metadata": {
    "ExecuteTime": {
     "end_time": "2022-02-02T09:30:06.492269Z",
     "start_time": "2022-02-02T09:30:06.220934Z"
    }
   },
   "outputs": [],
   "source": [
    "# Import Packages\n",
    "\n",
    "# General Tools\n",
    "import numpy as np\n",
    "import scipy as sp\n",
    "import pandas as pd\n",
    "\n",
    "# Machine Learning\n",
    "from sklearn.cluster import AgglomerativeClustering, KMeans\n",
    "from sklearn.mixture import GaussianMixture\n",
    "\n",
    "# Image Processing\n",
    "from skimage.color import rgb2lab\n",
    "from skimage.io import imread\n",
    "from skimage.metrics import structural_similarity\n",
    "from skimage.transform import downscale_local_mean\n",
    "\n",
    "# Miscellaneous\n",
    "import itertools\n",
    "import json\n",
    "import os\n",
    "from platform import python_version\n",
    "import random\n",
    "import urllib.request\n",
    "import re\n",
    "\n",
    "# Typing\n",
    "from typing import Callable, List, Tuple\n",
    "\n",
    "# Visualization\n",
    "from matplotlib.colors import LogNorm, Normalize\n",
    "import matplotlib.pyplot as plt\n",
    "import seaborn as sns\n",
    "\n",
    "# Jupyter\n",
    "from IPython import get_ipython\n",
    "from IPython.display import Image, display\n",
    "from ipywidgets import Dropdown, FloatSlider, interact, IntSlider, Layout"
   ]
  },
  {
   "attachments": {},
   "cell_type": "markdown",
   "metadata": {},
   "source": [
    "## Notations\n",
    "\n",
    "* <font color='red'>(**?**)</font> Question to answer interactively.\n",
    "* <font color='blue'>(**!**)</font> Simple task to add code for the notebook.\n",
    "* <font color='green'>(**@**)</font> Optional / Extra self practice.\n",
    "* <font color='brown'>(**#**)</font> Note / Useful resource / Food for thought."
   ]
  },
  {
   "cell_type": "code",
   "execution_count": null,
   "metadata": {},
   "outputs": [],
   "source": [
    "# Configuration\n",
    "# %matplotlib inline\n",
    "\n",
    "seedNum = 512\n",
    "np.random.seed(seedNum)\n",
    "random.seed(seedNum)\n",
    "\n",
    "# sns.set_theme() #>! Apply SeaBorn theme\n",
    "\n",
    "runInGoogleColab = 'google.colab' in str(get_ipython())"
   ]
  },
  {
   "cell_type": "code",
   "execution_count": null,
   "metadata": {},
   "outputs": [],
   "source": [
    "# Constants\n",
    "\n",
    "FIG_SIZE_DEF    = (8, 8)\n",
    "ELM_SIZE_DEF    = 50\n",
    "CLASS_COLOR     = ('b', 'r')\n",
    "EDGE_COLOR      = 'k'\n",
    "MARKER_SIZE_DEF = 10\n",
    "LINE_WIDTH_DEF  = 2\n",
    "\n",
    "DATA_FILE_URL = r'https://i.imgur.com/1TvYQ2R.png'"
   ]
  },
  {
   "cell_type": "code",
   "execution_count": null,
   "metadata": {},
   "outputs": [],
   "source": [
    "# Fixel Algorithms Packages\n"
   ]
  },
  {
   "attachments": {},
   "cell_type": "markdown",
   "metadata": {},
   "source": [
    "## Exercise\n",
    "\n",
    "In this exercise we'll use clustering in order to quantize the colors of an image.\n",
    "The level of quantization is inversely proportional to the number of clusters.\n",
    "\n",
    "This exercise introduces:\n",
    "\n",
    " - Exploring Image Colors in 3D.\n",
    " - Resizing image to reduce memory resources.\n",
    " - Using clustering methods for non uniform, data adaptive, quantization.\n",
    " - Using the [Structural Similarity](https://en.wikipedia.org/wiki/Structural_similarity) (SSIM) as an image reconstruction score.\n",
    "\n",
    "The objective is to compare clustering methods for the image quantization methods.\n",
    "\n",
    "In this exercise:\n",
    "\n",
    "1. Download the data (Automatically by the code).\n",
    "2. Pre Process the image: Scale into `[0, 1]` and resize.\n",
    "3. Set the hyper parameters and methods to explore.\n",
    "4. Run the analysis.\n",
    "5. Explore results.\n",
    "\n",
    "One should achieve `SSIM > 0.75` in this task."
   ]
  },
  {
   "attachments": {},
   "cell_type": "markdown",
   "metadata": {},
   "source": [
    "* <font color='red'>(**?**)</font> Why can't we use the DBSCAN method above?\n",
    "* <font color='red'>(**?**)</font> What are the limitation of the Agglomerative method in this context? Think of number of pixels, the distance matrix and memory."
   ]
  },
  {
   "cell_type": "code",
   "execution_count": null,
   "metadata": {},
   "outputs": [],
   "source": [
    "# Parameters\n",
    "\n",
    "lNumColors          = list(range(3, 15)) #<! On first tries use (3, 5)\n",
    "lClusterMethod      = [AgglomerativeClustering(), GaussianMixture(n_init = 15), KMeans(n_init = 15)]\n",
    "lClusterMethodStr   = ['Agglomerative', 'Gaussian Mixture', 'K-Means']\n"
   ]
  },
  {
   "cell_type": "code",
   "execution_count": null,
   "metadata": {},
   "outputs": [],
   "source": [
    "# Auxiliary Functions\n",
    "\n",
    "def ImageHistogram3D( mI: np.ndarray, numBins: int = 12, hA: plt.Axes = None, figSize: Tuple[int, int] = FIG_SIZE_DEF, lAxisLbl = ['Red', 'Green', 'Blue'] ) -> plt.Axes:\n",
    "    \"\"\"\n",
    "    Visualize a 3D Histogram of an Image\n",
    "\n",
    "    Parameters\n",
    "    ----------\n",
    "\n",
    "    mI: Input Image (m x n x 3)\n",
    "    numBins: Number of Bins per Channel\n",
    "    \"\"\"\n",
    "\n",
    "    if hA is None:\n",
    "        hF, hA = plt.subplots(figsize = figSize, subplot_kw = {'projection': '3d'})\n",
    "    else:\n",
    "        hF = hA.get_figure()\n",
    "\n",
    "    tH, lEdges = np.histogramdd(mI.reshape(-1, 3), bins = numBins)\n",
    "\n",
    "    tR, tG, tB = np.meshgrid(lEdges[0][:-1], lEdges[1][:-1], lEdges[2][:-1], indexing = 'ij')\n",
    "    # Make the representing color the middle of the bin\n",
    "    tR += np.diff(lEdges[0])[0] / 2\n",
    "    tG += np.diff(lEdges[1])[0] / 2\n",
    "    tB += np.diff(lEdges[2])[0] / 2\n",
    "\n",
    "    mColors = np.column_stack((tR.flatten(), tG.flatten(), tB.flatten()))\n",
    "    tH = tH / np.max(tH)\n",
    "\n",
    "    hA.scatter(tR.flatten(), tG.flatten(), tB.flatten(), s = (tH.flatten() ** 2) * 7500, c = mColors)\n",
    "\n",
    "    hA.set_xlabel(lAxisLbl[0])\n",
    "    hA.set_ylabel(lAxisLbl[1])\n",
    "    hA.set_zlabel(lAxisLbl[2])\n",
    "\n",
    "    return hA\n",
    "\n",
    "\n",
    "def ImageColorsScatter( mI: np.ndarray, hA: plt.Axes = None, figSize: Tuple[int, int] = FIG_SIZE_DEF, lAxisLbl = ['Red', 'Green', 'Blue'] ) -> plt.Axes:\n",
    "\n",
    "    if hA is None:\n",
    "        hF, hA = plt.subplots(figsize = figSize, subplot_kw = {'projection': '3d'})\n",
    "    else:\n",
    "        hF = hA.get_figure()\n",
    "\n",
    "    mC = np.reshape(mI, (-1, 3))\n",
    "\n",
    "    hA.scatter(mC[:, 0], mC[:, 1], mC[:, 2], c = mC)\n",
    "\n",
    "    hA.set_xlabel(lAxisLbl[0])\n",
    "    hA.set_ylabel(lAxisLbl[1])\n",
    "    hA.set_zlabel(lAxisLbl[2])\n",
    "\n",
    "    return hA\n",
    "\n",
    "def ConvertRgbToLab( mRgb: np.ndarray ) -> np.ndarray:\n",
    "    # Converts sets of RGB features into LAB features.\n",
    "    # Input (numPx x 3)\n",
    "    # Output: (numPx x 3)\n",
    "    mRgb3D = np.reshape(mRgb, (1, -1, 3))\n",
    "    mLab3D = rgb2lab(mRgb3D)\n",
    "\n",
    "    return np.reshape(mLab3D, (-1, 3))\n",
    "\n",
    "def AssignColorsByLabel( mX: np.ndarray, vL: np.ndarray ) -> np.ndarray:\n",
    "\n",
    "    mC = mX.copy()\n",
    "\n",
    "    vU = np.unique(vL)\n",
    "    vIdx = np.full(shape = (mX.shape[0]), fill_value = False)\n",
    "\n",
    "    for iLabel in vU:\n",
    "\n",
    "        vIdx = np.equal(vL, iLabel, out = vIdx)\n",
    "        \n",
    "        mC[vIdx, :] = np.mean(mX[vIdx, :], axis = 0)\n",
    "    \n",
    "    return mC"
   ]
  },
  {
   "attachments": {},
   "cell_type": "markdown",
   "metadata": {},
   "source": [
    "## Generate / Load Data\n",
    "\n",
    "The image we'll be using in this notebook is the Peppers images from MATALB:\n",
    "\n",
    "![](https://i.imgur.com/1TvYQ2R.png)\n"
   ]
  },
  {
   "cell_type": "code",
   "execution_count": null,
   "metadata": {},
   "outputs": [],
   "source": [
    "# Loading / Generating Data\n",
    "\n",
    "mI = imread(DATA_FILE_URL)\n",
    "mI = mI[:, :, :3] #<! Remove the alpha channel\n",
    "\n",
    "print(f'The image shape: {mI.shape}')\n"
   ]
  },
  {
   "attachments": {},
   "cell_type": "markdown",
   "metadata": {},
   "source": [
    "### Pre Process Data\n",
    "\n",
    "Scale the pixels into the [0, 1] range."
   ]
  },
  {
   "cell_type": "code",
   "execution_count": null,
   "metadata": {},
   "outputs": [],
   "source": [
    "# Pre Process Data\n",
    "\n",
    "mI = mI / 255"
   ]
  },
  {
   "cell_type": "code",
   "execution_count": null,
   "metadata": {},
   "outputs": [],
   "source": [
    "# Down Scale the Image\n",
    "\n",
    "# In order to allow the Agglomerative method to work we need to factor down the image by 4.\n",
    "\n",
    "mI = downscale_local_mean(mI, (4, 4, 1))\n",
    "\n",
    "print(f'The image shape: {mI.shape}')"
   ]
  },
  {
   "attachments": {},
   "cell_type": "markdown",
   "metadata": {},
   "source": [
    "### Plot the Data"
   ]
  },
  {
   "cell_type": "code",
   "execution_count": null,
   "metadata": {},
   "outputs": [],
   "source": [
    "# Plot the Image\n",
    "\n",
    "hF, hA = plt.subplots(figsize = (4, 4))\n",
    "hA.imshow(mI)\n",
    "\n",
    "plt.show()"
   ]
  },
  {
   "cell_type": "code",
   "execution_count": null,
   "metadata": {},
   "outputs": [],
   "source": [
    "# Plot the Image Colors Scatter\n",
    "hA = ImageColorsScatter(mI)\n",
    "\n",
    "plt.show()"
   ]
  },
  {
   "cell_type": "code",
   "execution_count": null,
   "metadata": {},
   "outputs": [],
   "source": [
    "# Plot the Color Histogram\n",
    "# This is basically a uniform quantization of the data.\n",
    "hA = ImageHistogram3D(mI, numBins = 10)\n",
    "\n",
    "plt.show()"
   ]
  },
  {
   "attachments": {},
   "cell_type": "markdown",
   "metadata": {},
   "source": [
    "* <font color='red'>(**?**)</font> Can we expect the method used to generate better clusters? Why?"
   ]
  },
  {
   "attachments": {},
   "cell_type": "markdown",
   "metadata": {},
   "source": [
    "## Pre Processing\n",
    "\n",
    "In thi section we'll rearrange data into:\n",
    "\n",
    "1. A data set of shape `numPixels x 3`.\n",
    "2. Create a variant of the data in LAB using `ConvertRgbToLab()`."
   ]
  },
  {
   "cell_type": "code",
   "execution_count": null,
   "metadata": {},
   "outputs": [],
   "source": [
    "# Convert the Data into the numPixels x 3 Form\n",
    "\n",
    "#===========================Fill This===========================#\n",
    "# 1. Convert the image into `(numPixels x 3)` form.\n",
    "# 2. Create a LAB color space variant of the data using `ConvertRgbToLab()`.\n",
    "mX      = np.reshape(mI, (-1, 3))\n",
    "mXLab   = ConvertRgbToLab(mX)\n",
    "#===============================================================#"
   ]
  },
  {
   "attachments": {},
   "cell_type": "markdown",
   "metadata": {},
   "source": [
    "## Clustering"
   ]
  },
  {
   "cell_type": "code",
   "execution_count": null,
   "metadata": {},
   "outputs": [],
   "source": [
    "# Creating the Data Frame\n",
    "\n",
    "#===========================Fill This===========================#\n",
    "# 1. Calculate the number of combinations.\n",
    "# 2. Create a nested loop to create the combinations between the parameters.\n",
    "# 3. Store the combinations as the columns of a data frame.\n",
    "\n",
    "# For Advanced Python users: Use iteration tools for create the cartesian product\n",
    "numComb = len(lClusterMethod) * len(lNumColors)\n",
    "dData   = {'Cluster Method': [], 'Number of Colors': [], 'SSIM': [0.0] * numComb}\n",
    "\n",
    "for ii, clusterMethod in enumerate(lClusterMethodStr):\n",
    "    for jj, numColors in enumerate(lNumColors):\n",
    "        dData['Cluster Method'].append(clusterMethod)\n",
    "        dData['Number of Colors'].append(numColors)\n",
    "#===============================================================#\n",
    "\n",
    "dfModelScore = pd.DataFrame(data = dData)\n",
    "dfModelScore"
   ]
  },
  {
   "cell_type": "code",
   "execution_count": null,
   "metadata": {},
   "outputs": [],
   "source": [
    "# Optimize the Model\n",
    "\n",
    "#===========================Fill This===========================#\n",
    "# 1. Iterate over each row of the data frame `dfModelScore`. Each row defines the hyper parameters.\n",
    "# 2. Construct the model.\n",
    "# 3. Train it on the Train Data Set.\n",
    "# 4. Calculate the score.\n",
    "# 5. Store the score into the data frame column.\n",
    "\n",
    "for ii in range(numComb):\n",
    "    clusterMethod   = dfModelScore.loc[ii, 'Cluster Method']\n",
    "    numColors       = dfModelScore.loc[ii, 'Number of Colors']\n",
    "\n",
    "    print(f'Processing model {ii + 1:03d} out of {numComb} with `Cluster Method` = {clusterMethod} and `Number of Colors` = {numColors}.')\n",
    "\n",
    "    oModelCluster = lClusterMethod[lClusterMethodStr.index(clusterMethod)]\n",
    "    if (clusterMethod == 'Agglomerative') or (clusterMethod == 'K-Means'):\n",
    "        oModelCluster.set_params(**{'n_clusters': numColors})\n",
    "    else:\n",
    "        oModelCluster.set_params(**{'n_components': numColors})\n",
    "    \n",
    "    vY = oModelCluster.fit_predict(mX)\n",
    "\n",
    "    mC = AssignColorsByLabel(mX, vY)\n",
    "\n",
    "    ssimScore = structural_similarity(mI, np.reshape(mC, mI.shape), data_range = 1, channel_axis = 2)\n",
    "    dfModelScore.loc[ii, 'SSIM'] = ssimScore\n",
    "    print(f'Finished processing model {ii + 1:03d} with `SSIM = {ssimScore}.')\n",
    "\n",
    "    hF, hA = plt.subplots(figsize = (4, 4))\n",
    "    hA.imshow(np.reshape(mC, mI.shape))\n",
    "    hA.set_title(f'Quantized Image: Method = {clusterMethod}, Colors = {numColors}, SSIM = {ssimScore:0.3f}')\n",
    "    plt.show()\n",
    "#===============================================================#"
   ]
  },
  {
   "cell_type": "code",
   "execution_count": null,
   "metadata": {},
   "outputs": [],
   "source": [
    "# Display Sorted Results (Descending)\n",
    "# Pandas allows sorting data by any column using the `sort_values()` method\n",
    "# The `head()` allows us to see only the the first values\n",
    "dfModelScore.sort_values(by = ['SSIM'], ascending = False).head(10)"
   ]
  },
  {
   "cell_type": "code",
   "execution_count": null,
   "metadata": {},
   "outputs": [],
   "source": [
    "# Plotting the Scores as a Heat Map\n",
    "# We can pivot the data set created to have a 2D matrix of the score as a function of the hyper parameters.\n",
    "\n",
    "hA = sns.heatmap(data = dfModelScore.pivot(index = 'Number of Colors', columns = 'Cluster Method', values = 'SSIM'), robust = True, linewidths = 1, annot = True, fmt = '0.2%', norm = LogNorm())\n",
    "hA.set_title('SSIM')\n",
    "plt.show()"
   ]
  },
  {
   "cell_type": "code",
   "execution_count": null,
   "metadata": {},
   "outputs": [],
   "source": [
    "hF, hA = plt.subplots(figsize = FIG_SIZE_DEF)\n",
    "\n",
    "sns.lineplot(data = dfModelScore, x = 'Number of Colors', y = 'SSIM', hue = 'Cluster Method', ax = hA)\n",
    "hA.set_title('SSIM as a Function of Number of Colors')\n",
    "\n",
    "plt.show()"
   ]
  },
  {
   "attachments": {},
   "cell_type": "markdown",
   "metadata": {},
   "source": [
    "* <font color='red'>(**?**)</font> How will the graph will be have for larger and larger number of clusters?\n",
    "* <font color='brown'>(**#**)</font> In many cases we graph the performance using MMSE as a function of the number of clusters. One method to optimize `K` is by looking at the _elbow_. \n",
    "* <font color='green'>(**@**)</font> Apply the clustering on LAB Color Space (The SSIM still should be calculated on RGB) and compare results.\n",
    "* <font color='green'>(**@**)</font> In the implementation above we used the mean to represent the cluster, you may try other variations."
   ]
  }
 ],
 "metadata": {
  "kernelspec": {
   "display_name": "Python 3",
   "language": "python",
   "name": "python3"
  },
  "language_info": {
   "codemirror_mode": {
    "name": "ipython",
    "version": 3
   },
   "file_extension": ".py",
   "mimetype": "text/x-python",
   "name": "python",
   "nbconvert_exporter": "python",
   "pygments_lexer": "ipython3",
   "version": "3.10.9"
  },
  "toc": {
   "base_numbering": 1,
   "nav_menu": {},
   "number_sections": false,
   "sideBar": true,
   "skip_h1_title": false,
   "title_cell": "Table of Contents",
   "title_sidebar": "Contents",
   "toc_cell": false,
   "toc_position": {},
   "toc_section_display": true,
   "toc_window_display": true
  },
  "varInspector": {
   "cols": {
    "lenName": 16,
    "lenType": 16,
    "lenVar": 40
   },
   "kernels_config": {
    "python": {
     "delete_cmd_postfix": "",
     "delete_cmd_prefix": "del ",
     "library": "var_list.py",
     "varRefreshCmd": "print(var_dic_list())"
    },
    "r": {
     "delete_cmd_postfix": ") ",
     "delete_cmd_prefix": "rm(",
     "library": "var_list.r",
     "varRefreshCmd": "cat(var_dic_list()) "
    }
   },
   "types_to_exclude": [
    "module",
    "function",
    "builtin_function_or_method",
    "instance",
    "_Feature"
   ],
   "window_display": false
  },
  "vscode": {
   "interpreter": {
    "hash": "39577bab1f263e62e0b74f5b8086bd735049bf4751f6562b2d4b2969dc308293"
   }
  }
 },
 "nbformat": 4,
 "nbformat_minor": 4
}
