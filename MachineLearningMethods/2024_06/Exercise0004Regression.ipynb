{
 "cells": [
  {
   "attachments": {},
   "cell_type": "markdown",
   "metadata": {},
   "source": [
    "[![Fixel Algorithms](https://fixelalgorithms.co/images/CCExt.png)](https://fixelalgorithms.gitlab.io/)\n",
    "\n",
    "# Machine Learning Methods\n",
    "\n",
    "## Exercise 004 - Regression\n",
    "\n",
    "> Notebook by:\n",
    "> - Royi Avital RoyiAvital@fixelalgorithms.com\n",
    "\n",
    "## Revision History\n",
    "\n",
    "| Version | Date       | User        |Content / Changes                                                   |\n",
    "|---------|------------|-------------|--------------------------------------------------------------------|\n",
    "| 0.1.000 | 17/02/2023 | Royi Avital | First version                                                      |"
   ]
  },
  {
   "attachments": {},
   "cell_type": "markdown",
   "metadata": {},
   "source": [
    "[![Open In Colab](https://colab.research.google.com/assets/colab-badge.svg)](https://colab.research.google.com/github/FixelAlgorithmsTeam/FixelCourses/blob/master/MachineLearningMethods/2023_01/Exercise0004Regression.ipynb)"
   ]
  },
  {
   "cell_type": "code",
   "execution_count": null,
   "metadata": {
    "ExecuteTime": {
     "end_time": "2022-02-02T09:30:06.492269Z",
     "start_time": "2022-02-02T09:30:06.220934Z"
    }
   },
   "outputs": [],
   "source": [
    "# Import Packages\n",
    "\n",
    "# General Tools\n",
    "import numpy as np\n",
    "import scipy as sp\n",
    "import pandas as pd\n",
    "\n",
    "# Machine Learning\n",
    "from sklearn.base import BaseEstimator, RegressorMixin\n",
    "from sklearn.linear_model import LinearRegression\n",
    "from sklearn.pipeline import Pipeline\n",
    "from sklearn.preprocessing import PolynomialFeatures\n",
    "\n",
    "# Miscellaneous\n",
    "import os\n",
    "from platform import python_version\n",
    "import random\n",
    "\n",
    "# Typing\n",
    "from typing import Tuple\n",
    "\n",
    "# Visualization\n",
    "import matplotlib.pyplot as plt\n",
    "import seaborn as sns\n",
    "from bokeh.plotting import figure, show\n",
    "\n",
    "# Jupyter\n",
    "from IPython import get_ipython\n",
    "from IPython.display import Image, display\n",
    "from ipywidgets import Dropdown, FloatSlider, interact, IntSlider, Layout"
   ]
  },
  {
   "attachments": {},
   "cell_type": "markdown",
   "metadata": {},
   "source": [
    "## Notations\n",
    "\n",
    "* <font color='red'>(**?**)</font> Question to answer interactively.\n",
    "* <font color='blue'>(**!**)</font> Simple task to add code for the notebook.\n",
    "* <font color='green'>(**@**)</font> Optional / Extra self practice.\n",
    "* <font color='brown'>(**#**)</font> Note / Useful resource / Food for thought."
   ]
  },
  {
   "cell_type": "code",
   "execution_count": null,
   "metadata": {},
   "outputs": [],
   "source": [
    "# Configuration\n",
    "# %matplotlib inline\n",
    "\n",
    "seedNum = 512\n",
    "np.random.seed(seedNum)\n",
    "random.seed(seedNum)\n",
    "\n",
    "# sns.set_theme() #>! Apply SeaBorn theme\n",
    "\n",
    "runInGoogleColab = 'google.colab' in str(get_ipython())"
   ]
  },
  {
   "cell_type": "code",
   "execution_count": null,
   "metadata": {},
   "outputs": [],
   "source": [
    "# Constants\n",
    "\n",
    "FIG_SIZE_DEF    = (8, 8)\n",
    "ELM_SIZE_DEF    = 50\n",
    "CLASS_COLOR     = ('b', 'r')\n",
    "EDGE_COLOR      = 'k'\n",
    "MARKER_SIZE_DEF = 10\n",
    "LINE_WIDTH_DEF  = 2\n",
    "\n",
    "PEOPLE_CSV_URL = 'https://github.com/FixelAlgorithmsTeam/FixelCourses/raw/master/DataSets/People.csv'\n"
   ]
  },
  {
   "cell_type": "code",
   "execution_count": null,
   "metadata": {},
   "outputs": [],
   "source": [
    "# Fixel Algorithms Packages\n"
   ]
  },
  {
   "attachments": {},
   "cell_type": "markdown",
   "metadata": {},
   "source": [
    "## Exercise\n",
    "\n",
    "In this exercise we'll exercise 2 approaches to solving the same problem with Linear Regression.\n",
    "The models will employ a a Polynomial fit of degree `P`. \n",
    "\n",
    "We'll us the [`People.csv`](https://github.com/FixelAlgorithmsTeam/FixelCourses/blob/master/DataSets/People.csv) data set.  \n",
    "It includes 1000 samples of peoples: Sex, Age, Height (CM), Weight (KG).  \n",
    "\n",
    "The objective is to estimate the weight given the sex and height.  \n",
    "\n",
    "I this exercise we'll do the following:\n",
    "\n",
    "1. Load the [`People.csv`](https://github.com/FixelAlgorithmsTeam/FixelCourses/blob/master/DataSets/People.csv) data set using `pd.csv_read()`.\n",
    "2. Analyze the data and the effect of the age features.\n",
    "2. Create 2 estimators:\n",
    " - Treats both sex and height as a features for the polynomial fit.\n",
    " - Uses the sex as a selection of model and height as a feature for linear fit.\n",
    "3. Verify the estimator vs. `np.polyfit()`.\n",
    "4. Display th output of the model.\n",
    "\n",
    "* <font color='brown'>(**#**)</font> In order to let the classifier know the data is binary / categorical we'll use a **Data Frame** as the data structure."
   ]
  },
  {
   "cell_type": "code",
   "execution_count": null,
   "metadata": {},
   "outputs": [],
   "source": [
    "# Parameters\n",
    "\n",
    "# Model\n",
    "polynomDeg = 1\n",
    "\n",
    "# Data Visualization\n",
    "gridNoiseStd = 0.05\n",
    "numGridPts = 250"
   ]
  },
  {
   "cell_type": "code",
   "execution_count": null,
   "metadata": {},
   "outputs": [],
   "source": [
    "# Auxiliary Functions\n",
    "\n",
    "def PlotRegressionData( mX: np.ndarray, vY: np.ndarray, hA:plt.Axes = None, figSize: Tuple[int, int] = FIG_SIZE_DEF, elmSize: int = ELM_SIZE_DEF, classColor: Tuple[str, str] = CLASS_COLOR, axisTitle: str = None ) -> plt.Axes:\n",
    "\n",
    "    if hA is None:\n",
    "        hF, hA = plt.subplots(figsize = figSize)\n",
    "    else:\n",
    "        hF = hA.get_figure()\n",
    "    \n",
    "    if np.ndim(mX) == 1:\n",
    "        mX = np.reshape(mX, (mX.size, 1))\n",
    "\n",
    "    numSamples = len(vY)\n",
    "    numDim     = mX.shape[1]\n",
    "    if (numDim > 2):\n",
    "        raise ValueError(f'The features data must have at most 2 dimensions')\n",
    "    \n",
    "    # Work on 1D, Add support for 2D when needed\n",
    "    # See https://matplotlib.org/stable/api/toolkits/mplot3d.html\n",
    "    hA.scatter(mX[:, 0], vY, s = elmSize, color = classColor[0], edgecolor = 'k', label = f'Samples')\n",
    "    hA.axvline(x = 0, color = 'k')\n",
    "    hA.axhline(y = 0, color = 'k')\n",
    "    hA.set_xlabel('${x}_{1}$')\n",
    "    # hA.axis('equal')\n",
    "    if axisTitle is not None:\n",
    "        hA.set_title(axisTitle)\n",
    "    hA.legend()\n",
    "    \n",
    "    return hA\n",
    "\n",
    "def PlotRegResults( vY, vYPred, hA:plt.Axes = None, figSize: Tuple[int, int] = FIG_SIZE_DEF, lineWidth: int = LINE_WIDTH_DEF, elmSize: int = ELM_SIZE_DEF, classColor: Tuple[str, str] = CLASS_COLOR, axisTitle: str = None ) -> plt.Axes:\n",
    "\n",
    "    if hA is None:\n",
    "        hF, hA = plt.subplots(figsize = figSize)\n",
    "    else:\n",
    "        hF = hA.get_figure()\n",
    "\n",
    "    numSamples = len(vY)\n",
    "    if (numSamples != len(vYPred)):\n",
    "        raise ValueError(f'The inputs `vY` and `vYPred` must have the same number of elements')\n",
    "    \n",
    "    \n",
    "    hA.plot(vY, vY, color = 'r', lw = lineWidth, label = 'Ground Truth')\n",
    "    hA.scatter(vY, vYPred, s = elmSize, color = classColor[0], edgecolor = 'k', label = f'Estimation')\n",
    "    hA.set_xlabel('Label Value')\n",
    "    hA.set_ylabel('Prediction Value')\n",
    "    # hA.axis('equal')\n",
    "    if axisTitle is not None:\n",
    "        hA.set_title(axisTitle)\n",
    "    hA.legend()\n",
    "    \n",
    "    return hA\n",
    "\n",
    "def PolyModelString( vW: np.ndarray, applyLatex: bool = True ) -> str:\n",
    "    modelTxt = '$y = '\n",
    "    for ii in range(len(vW)):\n",
    "        modelTxt += f'({vW[ii]:0.3f}) {{x}}^{{{ii}}} + '\n",
    "    \n",
    "    modelTxt = modelTxt[:-2]\n",
    "    modelTxt += '$'\n",
    "\n",
    "    return modelTxt\n"
   ]
  },
  {
   "attachments": {},
   "cell_type": "markdown",
   "metadata": {},
   "source": [
    "## Generate / Load Data\n"
   ]
  },
  {
   "cell_type": "code",
   "execution_count": null,
   "metadata": {},
   "outputs": [],
   "source": [
    "# Loading / Generating Data\n",
    "\n",
    "dfPeople = pd.read_csv(PEOPLE_CSV_URL)\n",
    "\n",
    "dfPeople.head(10)"
   ]
  },
  {
   "cell_type": "code",
   "execution_count": null,
   "metadata": {},
   "outputs": [],
   "source": [
    "# Data Visualization\n",
    "\n",
    "sns.pairplot(data = dfPeople, hue = 'Sex')\n",
    "\n",
    "plt.show()"
   ]
  },
  {
   "attachments": {},
   "cell_type": "markdown",
   "metadata": {},
   "source": [
    "* <font color='red'>(**?**)</font> Are all features important?"
   ]
  },
  {
   "cell_type": "code",
   "execution_count": null,
   "metadata": {},
   "outputs": [],
   "source": [
    "# Calculating the Correlation (Normalized) of Age to Weight\n",
    "# Basically we're after Pearson's Correlation: Covariance(X, Y) / (Std(X) * Std(Y))\n",
    "\n",
    "#===========================Fill This===========================#\n",
    "# 1. Calculate the covariance matrix using `np.cov()` for the age and weight features\n",
    "# 2. Calculate the normalized (Pearson's) correlation.\n",
    "mCov         = ???\n",
    "pearosanCorr = ???\n",
    "#===============================================================#\n",
    "\n",
    "print(f'The Pearson Correlation of Age and Weight is: {pearosanCorr:0.3f}')"
   ]
  },
  {
   "attachments": {},
   "cell_type": "markdown",
   "metadata": {},
   "source": [
    "For linear models, lack of correlation means lack of significance.  \n",
    "Since we use a Linear Model we can drop this features."
   ]
  },
  {
   "cell_type": "code",
   "execution_count": null,
   "metadata": {},
   "outputs": [],
   "source": [
    "# The Training Data \n",
    "\n",
    "#===========================Fill This===========================#\n",
    "# 1. Extract the 'Sex' and 'Height' columns into a data frame `dfX`.\n",
    "# 2. Extract the 'Weight' column into a series `dsY`.\n",
    "dfX = ???\n",
    "dsY = ???\n",
    "#===============================================================#\n",
    "\n",
    "print(f'The features data shape: {dfX.shape}')\n",
    "print(f'The labels data shape: {dsY.shape}')"
   ]
  },
  {
   "attachments": {},
   "cell_type": "markdown",
   "metadata": {},
   "source": [
    "* <font color='brown'>(**#**)</font> Try running `dfY = dfPeople[['Weight']]`? What's the difference? Pay attention to the type of data and dimensions."
   ]
  },
  {
   "attachments": {},
   "cell_type": "markdown",
   "metadata": {},
   "source": [
    "### Pre Process of Data\n",
    "\n",
    "We have a string feature which we need to map into a numerical value.  \n",
    "In previous notebooks we used the `map()` method on the `Sex` column.  \n",
    "In this one we'll use the [`get_dummies()`](https://pandas.pydata.org/docs/reference/api/pandas.get_dummies.html) method of Pandas.  \n",
    "This method basically convert categorical features into _one hot_ encoding."
   ]
  },
  {
   "cell_type": "code",
   "execution_count": null,
   "metadata": {},
   "outputs": [],
   "source": [
    "pd.get_dummies(dfX)\n",
    "\n",
    "#===========================Fill This===========================#\n",
    "# 1. Apply the `get_dummies()` method of `dfX`.\n",
    "# 2. The output should have only 2 columns.\n",
    "# !! The objective is have indication if the person is male or not.\n",
    "# !! Use the `drop_first` parameter properly.\n",
    "dfX = ???\n",
    "#===============================================================#\n",
    "\n",
    "dfX.columns = ['Height', 'Male']\n",
    "dfX"
   ]
  },
  {
   "attachments": {},
   "cell_type": "markdown",
   "metadata": {},
   "source": [
    "## Build the Regressors\n",
    "\n",
    "In this section we'll do as following:\n",
    "\n",
    "1. Build a model based on a pipeline:\n",
    "  - Calculate the features according to the degree.\n",
    "  - Apply linear regression.\n",
    "2. Build a model based on a sub class of regressor:\n",
    "  - The initialization set the polynomial order.\n",
    "  - It trains 2 models per sex.\n",
    "3. Train the models on the whole data.\n",
    "\n",
    "\n",
    "* <font color='brown'>(**#**)</font> We don't do cross validation or testing in this exercise as the emphasize is building the models.\n",
    "* <font color='brown'>(**#**)</font> The idea is to observe the way linear models interact with binary features.\n",
    "* <font color='brown'>(**#**)</font> Linear models don't interact well with categorical features. Hence, usually, they are encoded as one hot encoding."
   ]
  },
  {
   "cell_type": "code",
   "execution_count": null,
   "metadata": {},
   "outputs": [],
   "source": [
    "# Model I\n",
    "# Model based on a pipeline of `PolynomialFeatures` and `LinearRegression`.\n",
    "\n",
    "#===========================Fill This===========================#\n",
    "# 1. Create a pipeline:\n",
    "#   - 'Transformer' - `PolynomialFeatures`. Set its parameters to reduce memory footprint.\n",
    "#   - 'Regressor' - `LinearRegression` which includes the intercept (The bias term) as part of the model.\n",
    "# 2. Set the 'Transformer' degree using the `set_params()` method. The syntax is `{'<step_name>__<parameter_name>': value}`.\n",
    "oLinRegModel001 = ???\n",
    "oLinRegModel001 = ???\n",
    "#===============================================================#\n"
   ]
  },
  {
   "cell_type": "code",
   "execution_count": null,
   "metadata": {},
   "outputs": [],
   "source": [
    "# Model II\n",
    "\n",
    "class MaleFemaleRegressor(RegressorMixin, BaseEstimator):\n",
    "    def __init__(self, polyDeg = 1):\n",
    "        #===========================Fill This===========================#\n",
    "        # 1. Add `polyDeg` as an attribute of the object.\n",
    "        # 2. Add `PolynomialFeatures` object as an attribute of the object.\n",
    "        # 3. Add `LinearRegression` object as an attribute of the object (For males).\n",
    "        # 4. Add `LinearRegression` object as an attribute of the object (For females).\n",
    "\n",
    "        # !! Configure `PolynomialFeatures` and `LinearRegression` properly to optimize memory consumption.\n",
    "        self.polyDeg   = ???\n",
    "        self.oPolyFeat = ???\n",
    "        self.oLinRegM  = ???\n",
    "        self.oLinRegF  = ???\n",
    "        #===============================================================#\n",
    "    \n",
    "    def fit(self, dfX: pd.DataFrame, dsY: pd.Series):\n",
    "        \n",
    "        dfXM = dfX.loc[dfX['Male'] == 1, ['Height']] #<! Using ['Height'] makes the output a DF and not a series\n",
    "        dfXF = dfX.loc[dfX['Male'] == 0, ['Height']] #<! Using ['Height'] makes the output a DF and not a series\n",
    "        #===========================Fill This===========================#\n",
    "        # 1. Extract the labels into male and females groups.\n",
    "        # 2. Apply `fit_transform()` for the features using `oPolyFeat`.\n",
    "        # 3. Apply `fit()` on the features using the models.\n",
    "        dsYM = ??? #<! Males\n",
    "        dsYF = ??? #<! Females\n",
    "        mXM  = ??? #!< Males\n",
    "        mXF  = ??? #<! Females\n",
    "        \n",
    "        self.oLinRegM = ??? #!< Males\n",
    "        self.oLinRegF = ??? #<! Females\n",
    "        #===============================================================#\n",
    "\n",
    "        return self\n",
    "    \n",
    "    def predict(self, dfX: pd.DataFrame):\n",
    "        \n",
    "        #===========================Fill This===========================#\n",
    "        # 1. Split the data according to sex.\n",
    "        # 1. Construct the features matrix per sex.\n",
    "        # 2. Apply the `predict()` method of `oLinReg` per sex.\n",
    "        dfXM = ??? #<! Using ['Height'] makes the output a DF and not a series\n",
    "        dfXF = ??? #<! Using ['Height'] makes the output a DF and not a series\n",
    "        mXM  = ???\n",
    "        mXF  = ???\n",
    "        vYM  = ???\n",
    "        vYF  = ???\n",
    "        #===============================================================#\n",
    "\n",
    "        numSamples = dfX.shape[0]\n",
    "        vY = np.zeros(numSamples)\n",
    "\n",
    "        # Reconstruct the output according to the input order\n",
    "        vY[(dfX['Male'] == 1).to_numpy()] = vYM\n",
    "        vY[(dfX['Male'] == 0).to_numpy()] = vYF\n",
    "\n",
    "        return vY\n",
    "    \n",
    "    def score(self, dfX: pd.DataFrame, dsY: pd.Series):\n",
    "        # Return the R2 as the score\n",
    "\n",
    "        #===========================Fill This===========================#\n",
    "        # 1. Apply the prediction on the input features.\n",
    "        # 2. Calculate the R2 score.\n",
    "        vYPred = ???\n",
    "        valR2  = ???\n",
    "        #===============================================================#\n",
    "\n",
    "        return valR2\n"
   ]
  },
  {
   "cell_type": "code",
   "execution_count": null,
   "metadata": {},
   "outputs": [],
   "source": [
    "# Construct the 2nd Model\n",
    "\n",
    "#===========================Fill This===========================#\n",
    "# 1. Construct the model using the `MaleFemaleRegressor` class.\n",
    "oLinRegModel002 = ???\n",
    "#===============================================================#\n"
   ]
  },
  {
   "attachments": {},
   "cell_type": "markdown",
   "metadata": {},
   "source": [
    "### Train the Model"
   ]
  },
  {
   "cell_type": "code",
   "execution_count": null,
   "metadata": {},
   "outputs": [],
   "source": [
    "# Train the Model\n",
    "\n",
    "#===========================Fill This===========================#\n",
    "# 1. Fit the 1st model on the whole data.\n",
    "# 1. Fit the 2nd model on the whole data.\n",
    "oLinRegModel001 = ???\n",
    "oLinRegModel002 = ???\n",
    "#===============================================================#"
   ]
  },
  {
   "cell_type": "code",
   "execution_count": null,
   "metadata": {},
   "outputs": [],
   "source": [
    "# Extract the Model Parameters\n",
    "\n",
    "vW001  = np.r_[oLinRegModel001[1].intercept_, oLinRegModel001[1].coef_]\n",
    "vW002M = np.r_[oLinRegModel002.oLinRegM.intercept_, oLinRegModel002.oLinRegM.coef_]\n",
    "vW002F = np.r_[oLinRegModel002.oLinRegF.intercept_, oLinRegModel002.oLinRegF.coef_]"
   ]
  },
  {
   "cell_type": "code",
   "execution_count": null,
   "metadata": {},
   "outputs": [],
   "source": [
    "# Model Parameters\n",
    "\n",
    "print(f'The 1st model coefficients         : {vW001}.')\n",
    "print(f'The 2nd model coefficients (Male)  : {vW002M}.')\n",
    "print(f'The 2nd model coefficients (Female): {vW002F}.')"
   ]
  },
  {
   "attachments": {},
   "cell_type": "markdown",
   "metadata": {},
   "source": [
    "* <font color='red'>(**?**)</font> Why does the 2 model has less coefficients? \n",
    "* <font color='red'>(**?**)</font> Do both models have the same degree?"
   ]
  },
  {
   "attachments": {},
   "cell_type": "markdown",
   "metadata": {},
   "source": [
    "## Analyze Results\n",
    "\n",
    "In this section we'll analyze the results of the 2 models.  "
   ]
  },
  {
   "cell_type": "code",
   "execution_count": null,
   "metadata": {},
   "outputs": [],
   "source": [
    "# The Model Score\n",
    "# The R2 score of the models (The default score for regressor on Sci Kit Learn)\n",
    "\n",
    "#===========================Fill This===========================#\n",
    "# 1. Calculate both models score using the R2 score.\n",
    "modelR2Score001 = ???\n",
    "modelR2Score002 = ???\n",
    "#===============================================================#\n",
    "\n",
    "print(f'The 1st model score (R2): {modelR2Score001}.')\n",
    "print(f'The 2nd model score (R2): {modelR2Score002}.')"
   ]
  },
  {
   "attachments": {},
   "cell_type": "markdown",
   "metadata": {},
   "source": [
    "* <font color='red'>(**?**)</font> Why does the 2nd model has a single R2 score if it has 2 models in it?\n",
    "* <font color='red'>(**?**)</font> If we could have the score for female and males separately, what would be their relation to the score above? Could we calculate it?\n",
    "* <font color='red'>(**?**)</font> Which model is better? Why?"
   ]
  },
  {
   "cell_type": "code",
   "execution_count": null,
   "metadata": {},
   "outputs": [],
   "source": [
    "# Data Frame to Show Results\n",
    "dfResults = dfPeople[['Sex', 'Height', 'Weight']].copy()\n",
    "dfResults = pd.concat((dfResults, dfResults), axis = 0, ignore_index = True)\n",
    "dfResults['Prediction'] = np.concatenate((oLinRegModel001.predict(dfX), oLinRegModel002.predict(dfX)), axis = 0)\n",
    "dfResults['Model'] = np.concatenate((np.ones(dfX.shape[0]), 2 * np.ones(dfX.shape[0])), axis = 0)"
   ]
  },
  {
   "cell_type": "code",
   "execution_count": null,
   "metadata": {},
   "outputs": [],
   "source": [
    "# Show Regression Error Plot\n",
    "\n",
    "hF, hA = plt.subplots(figsize = (12, 8))\n",
    "\n",
    "sns.lineplot(data = dfResults, x = 'Weight', y = 'Weight', ax = hA, color = 'r')\n",
    "sns.scatterplot(data = dfResults, x = 'Weight', y = 'Prediction', hue = 'Sex', style = 'Model', ax = hA)\n",
    "hA.set_title('Models Predictions')\n",
    "hA.set_xlabel('Weight Label')\n",
    "hA.set_ylabel('Weight Prediction')\n",
    "\n",
    "plt.show()"
   ]
  },
  {
   "attachments": {},
   "cell_type": "markdown",
   "metadata": {},
   "source": [
    "* <font color='red'>(**?**)</font> Why are results so similar?\n",
    "* <font color='red'>(**?**)</font> Have a look at the previous notebook of this data. How come results are so different?"
   ]
  }
 ],
 "metadata": {
  "kernelspec": {
   "display_name": "Python 3",
   "language": "python",
   "name": "python3"
  },
  "language_info": {
   "codemirror_mode": {
    "name": "ipython",
    "version": 3
   },
   "file_extension": ".py",
   "mimetype": "text/x-python",
   "name": "python",
   "nbconvert_exporter": "python",
   "pygments_lexer": "ipython3",
   "version": "3.10.9 (tags/v3.10.9:1dd9be6, Dec  6 2022, 20:01:21) [MSC v.1934 64 bit (AMD64)]"
  },
  "toc": {
   "base_numbering": 1,
   "nav_menu": {},
   "number_sections": false,
   "sideBar": true,
   "skip_h1_title": false,
   "title_cell": "Table of Contents",
   "title_sidebar": "Contents",
   "toc_cell": false,
   "toc_position": {},
   "toc_section_display": true,
   "toc_window_display": true
  },
  "varInspector": {
   "cols": {
    "lenName": 16,
    "lenType": 16,
    "lenVar": 40
   },
   "kernels_config": {
    "python": {
     "delete_cmd_postfix": "",
     "delete_cmd_prefix": "del ",
     "library": "var_list.py",
     "varRefreshCmd": "print(var_dic_list())"
    },
    "r": {
     "delete_cmd_postfix": ") ",
     "delete_cmd_prefix": "rm(",
     "library": "var_list.r",
     "varRefreshCmd": "cat(var_dic_list()) "
    }
   },
   "types_to_exclude": [
    "module",
    "function",
    "builtin_function_or_method",
    "instance",
    "_Feature"
   ],
   "window_display": false
  },
  "vscode": {
   "interpreter": {
    "hash": "39577bab1f263e62e0b74f5b8086bd735049bf4751f6562b2d4b2969dc308293"
   }
  }
 },
 "nbformat": 4,
 "nbformat_minor": 4
}
