{
 "cells": [
  {
   "cell_type": "markdown",
   "metadata": {},
   "source": [
    "![Fixel Algorithms](https://fixelalgorithms.co/images/CCExt.png)"
   ]
  },
  {
   "cell_type": "markdown",
   "metadata": {},
   "source": [
    "# <center> Machine Learning Methods </center>\n",
    "## <center> Lecture 8 - Nonparametric Estimation</center>\n",
    "### <center> Empirical CDF, Histogram, and KDE</center>"
   ]
  },
  {
   "cell_type": "markdown",
   "metadata": {},
   "source": [
    "[![Open In Colab](https://colab.research.google.com/assets/colab-badge.svg)](https://colab.research.google.com/github/FixelAlgorithmsTeam/FixelCourses/blob/master/MachineLearningMethod/08_NonParametricEstimation/MainNonParametricEstimation.ipynb)"
   ]
  },
  {
   "cell_type": "code",
   "execution_count": 1,
   "metadata": {
    "ExecuteTime": {
     "end_time": "2022-02-06T13:18:44.243927Z",
     "start_time": "2022-02-06T13:18:43.934061Z"
    }
   },
   "outputs": [],
   "source": [
    "import numpy             as np\n",
    "import matplotlib.pyplot as plt"
   ]
  },
  {
   "cell_type": "markdown",
   "metadata": {},
   "source": [
    "### Generate some data from:\n",
    "(GMM Model)"
   ]
  },
  {
   "cell_type": "code",
   "execution_count": 2,
   "metadata": {
    "ExecuteTime": {
     "end_time": "2022-02-06T13:18:44.499740Z",
     "start_time": "2022-02-06T13:18:44.244928Z"
    }
   },
   "outputs": [],
   "source": [
    "from scipy.stats import multivariate_normal\n",
    "\n",
    "#-- N(x; mu, σ²):\n",
    "def Pz(xx, vMu, mSig):\n",
    "    return multivariate_normal.pdf(xx, vMu, mSig**2)\n",
    "\n",
    "vW =         np.array([0.5,  0.2,  0.3])\n",
    "vµ =         np.array([-3.0, 2.0,  3.0])\n",
    "vσ = np.sqrt(np.array([2,    0.1,  0.1]))\n",
    "\n",
    "xx   = np.linspace(-7, 6, 10001)\n",
    "mPx  = np.stack([Pz(xx, vµ[ii], vσ[ii]) for ii in range(3)])\n",
    "vPx  = vW @ mPx\n",
    "vFx  = np.cumsum(vPx) * (xx[1] - xx[0])\n",
    "\n",
    "N    = 1000\n",
    "vIdx = np.random.choice(range(3), N, p=vW)\n",
    "mX   = np.stack([vσ[ii] * np.random.randn(N) + vµ[ii] for ii in range(3)])\n",
    "vX   = mX[vIdx,range(N)]"
   ]
  },
  {
   "cell_type": "markdown",
   "metadata": {},
   "source": [
    "### Plot Histogram:\n",
    "$$\\boxed{\\hat{f}_{X}\\left(x\\right)=\\frac{1}{\\left|R_{k}\\right|}\\frac{1}{N}\\sum_{i=1}^{N}\\mathbb{I}\\left\\{ x_{i}\\in R_{k}\\right\\} },\\qquad x\\in R_{k}$$"
   ]
  },
  {
   "cell_type": "code",
   "execution_count": 3,
   "metadata": {
    "ExecuteTime": {
     "end_time": "2022-02-06T13:18:44.803602Z",
     "start_time": "2022-02-06T13:18:44.500741Z"
    }
   },
   "outputs": [
    {
     "data": {
      "application/vnd.jupyter.widget-view+json": {
       "model_id": "3094180a7e614c9f9ff8fe83120ecb8b",
       "version_major": 2,
       "version_minor": 0
      },
      "text/plain": [
       "interactive(children=(IntSlider(value=5, description='K', layout=Layout(width='80%'), max=250, min=5, step=5),…"
      ]
     },
     "metadata": {},
     "output_type": "display_data"
    }
   ],
   "source": [
    "from ipywidgets import interact, IntSlider, Layout\n",
    "\n",
    "def PlotHist(K=10, N=500):\n",
    "    plt.figure(figsize=(10, 5))\n",
    "    plt.hist  (vX[:N], bins=K, color='b', edgecolor='k', density=True, label='Histogram')\n",
    "    plt.plot  (xx,     vPx,    c='r', lw=2,                            label='$f_x$')\n",
    "    plt.title (f'$K = {K}$')\n",
    "    plt.legend()\n",
    "\n",
    "kSlider = IntSlider(min=5, max=250, step=5, value=5,   layout=Layout(width='80%'))\n",
    "nSlider = IntSlider(min=5, max=N,   step=5, value=500, layout=Layout(width='80%'))\n",
    "interact(PlotHist, K=kSlider, N=nSlider)\n",
    "plt.show()"
   ]
  },
  {
   "cell_type": "markdown",
   "metadata": {},
   "source": [
    "### Plot KDE:\n",
    "$$\\boxed{f_{X}\\left(x\\right)=\\frac{1}{N}\\sum_{i=1}^{N}h\\left(x-x_{i}\\right)}$$\n",
    "$$h\\left(x\\right)=\\frac{1}{\\sqrt{2\\pi\\sigma^{2}}}\\exp\\left(-\\frac{x^{2}}{2\\sigma^{2}}\\right)$$"
   ]
  },
  {
   "cell_type": "code",
   "execution_count": 4,
   "metadata": {
    "ExecuteTime": {
     "end_time": "2022-02-06T13:18:45.186533Z",
     "start_time": "2022-02-06T13:18:44.804603Z"
    }
   },
   "outputs": [
    {
     "data": {
      "application/vnd.jupyter.widget-view+json": {
       "model_id": "dac689937a5946b08b75b8bc5526a743",
       "version_major": 2,
       "version_minor": 0
      },
      "text/plain": [
       "interactive(children=(FloatSlider(value=1.0, description='σ', layout=Layout(width='80%'), max=1.0, step=0.05),…"
      ]
     },
     "metadata": {},
     "output_type": "display_data"
    }
   ],
   "source": [
    "from ipywidgets        import interact, FloatSlider, Layout\n",
    "from sklearn.neighbors import KernelDensity\n",
    "\n",
    "def PlotKDE(σ=1, N=100):\n",
    "    if σ == 0:\n",
    "        σ = 1e-2\n",
    "    \n",
    "    oKDE   = KernelDensity(kernel='gaussian', bandwidth=σ).fit(vX[:N,None])\n",
    "    vHatPx = np.exp(oKDE.score_samples(xx[:,None]).squeeze())\n",
    "    \n",
    "    plt.figure(figsize=(10, 5))\n",
    "    plt.plot  (xx, vHatPx, color='b', lw=2,  label='KDE')\n",
    "    plt.plot  (xx, vPx,    color='r', lw=2,  label='$f_x$')\n",
    "    plt.title (f'σ = {σ}')\n",
    "    plt.grid  ()\n",
    "    plt.legend()    \n",
    "\n",
    "σSlider = FloatSlider(min=.00, max=1, step=.05, value=1,   layout=Layout(width='80%'))\n",
    "nSlider = IntSlider  (min=5,   max=N, step=5,   value=500, layout=Layout(width='80%'))\n",
    "interact(PlotKDE, σ=σSlider, N=nSlider)\n",
    "plt.show()"
   ]
  },
  {
   "cell_type": "markdown",
   "metadata": {},
   "source": [
    "### ECDF"
   ]
  },
  {
   "cell_type": "markdown",
   "metadata": {},
   "source": [
    "###  Exercise:\n",
    "* Use `vX` to compute the ECDF (on the grid `x`):\n",
    "$$\\hat{F}_{X}\\left(x\\right)=\\frac{1}{N}\\sum_{i=1}^{N}\\mathbb{I}\\left\\{ x_{i}\\leq x\\right\\} $$\n",
    "Compare your result to the true CDF $F_x$: (`vFx`)\n",
    "* This can be done using a very few lines (also in one line)"
   ]
  },
  {
   "cell_type": "code",
   "execution_count": 5,
   "metadata": {
    "ExecuteTime": {
     "end_time": "2022-02-06T13:18:45.202546Z",
     "start_time": "2022-02-06T13:18:45.187534Z"
    }
   },
   "outputs": [
    {
     "data": {
      "text/plain": [
       "((10001,), (1000,), (10001,))"
      ]
     },
     "execution_count": 5,
     "metadata": {},
     "output_type": "execute_result"
    }
   ],
   "source": [
    "xx.shape, vX.shape, vFx.shape"
   ]
  },
  {
   "cell_type": "code",
   "execution_count": 6,
   "metadata": {
    "ExecuteTime": {
     "end_time": "2022-02-06T13:18:45.218563Z",
     "start_time": "2022-02-06T13:18:45.203547Z"
    }
   },
   "outputs": [
    {
     "ename": "SyntaxError",
     "evalue": "invalid syntax (<ipython-input-6-66d8bb8e0cff>, line 1)",
     "output_type": "error",
     "traceback": [
      "\u001b[1;36m  File \u001b[1;32m\"<ipython-input-6-66d8bb8e0cff>\"\u001b[1;36m, line \u001b[1;32m1\u001b[0m\n\u001b[1;33m    vHatFx = ???\u001b[0m\n\u001b[1;37m             ^\u001b[0m\n\u001b[1;31mSyntaxError\u001b[0m\u001b[1;31m:\u001b[0m invalid syntax\n"
     ]
    }
   ],
   "source": [
    "vHatFx = ???\n",
    "\n",
    "plt.figure(figsize=(10, 5))\n",
    "plt.plot  (xx, vHatFx, color='b',  lw=2,  label='$\\hat{F}_x$')\n",
    "plt.plot  (xx, vFx,    'r--',      lw=2,  label='$F_x$')\n",
    "plt.title ('ECDF')\n",
    "plt.xlabel('$x$')\n",
    "plt.legend()\n",
    "plt.grid  ()\n",
    "plt.show  ()"
   ]
  },
  {
   "cell_type": "code",
   "execution_count": null,
   "metadata": {},
   "outputs": [],
   "source": []
  },
  {
   "cell_type": "code",
   "execution_count": null,
   "metadata": {},
   "outputs": [],
   "source": []
  },
  {
   "cell_type": "code",
   "execution_count": null,
   "metadata": {},
   "outputs": [],
   "source": []
  },
  {
   "cell_type": "code",
   "execution_count": null,
   "metadata": {},
   "outputs": [],
   "source": []
  },
  {
   "cell_type": "code",
   "execution_count": null,
   "metadata": {},
   "outputs": [],
   "source": []
  },
  {
   "cell_type": "code",
   "execution_count": null,
   "metadata": {},
   "outputs": [],
   "source": []
  },
  {
   "cell_type": "code",
   "execution_count": null,
   "metadata": {},
   "outputs": [],
   "source": []
  },
  {
   "cell_type": "code",
   "execution_count": null,
   "metadata": {},
   "outputs": [],
   "source": []
  },
  {
   "cell_type": "code",
   "execution_count": null,
   "metadata": {},
   "outputs": [],
   "source": []
  },
  {
   "cell_type": "code",
   "execution_count": null,
   "metadata": {},
   "outputs": [],
   "source": []
  },
  {
   "cell_type": "code",
   "execution_count": null,
   "metadata": {},
   "outputs": [],
   "source": []
  },
  {
   "cell_type": "code",
   "execution_count": null,
   "metadata": {},
   "outputs": [],
   "source": []
  },
  {
   "cell_type": "code",
   "execution_count": null,
   "metadata": {},
   "outputs": [],
   "source": []
  },
  {
   "cell_type": "code",
   "execution_count": null,
   "metadata": {},
   "outputs": [],
   "source": []
  },
  {
   "cell_type": "code",
   "execution_count": null,
   "metadata": {},
   "outputs": [],
   "source": []
  },
  {
   "cell_type": "code",
   "execution_count": null,
   "metadata": {},
   "outputs": [],
   "source": []
  },
  {
   "cell_type": "code",
   "execution_count": null,
   "metadata": {},
   "outputs": [],
   "source": []
  },
  {
   "cell_type": "code",
   "execution_count": null,
   "metadata": {},
   "outputs": [],
   "source": []
  },
  {
   "cell_type": "code",
   "execution_count": null,
   "metadata": {},
   "outputs": [],
   "source": []
  },
  {
   "cell_type": "code",
   "execution_count": null,
   "metadata": {
    "ExecuteTime": {
     "end_time": "2022-02-06T13:18:45.219564Z",
     "start_time": "2022-02-06T13:18:43.947Z"
    }
   },
   "outputs": [],
   "source": [
    "# np.mean((vX[:,None] < x[None,:]), axis=0)"
   ]
  }
 ],
 "metadata": {
  "kernelspec": {
   "display_name": "Python 3",
   "language": "python",
   "name": "python3"
  },
  "language_info": {
   "codemirror_mode": {
    "name": "ipython",
    "version": 3
   },
   "file_extension": ".py",
   "mimetype": "text/x-python",
   "name": "python",
   "nbconvert_exporter": "python",
   "pygments_lexer": "ipython3",
   "version": "3.8.12"
  },
  "toc": {
   "base_numbering": 1,
   "nav_menu": {},
   "number_sections": false,
   "sideBar": true,
   "skip_h1_title": false,
   "title_cell": "Table of Contents",
   "title_sidebar": "Contents",
   "toc_cell": false,
   "toc_position": {},
   "toc_section_display": true,
   "toc_window_display": false
  },
  "varInspector": {
   "cols": {
    "lenName": 16,
    "lenType": 16,
    "lenVar": 40
   },
   "kernels_config": {
    "python": {
     "delete_cmd_postfix": "",
     "delete_cmd_prefix": "del ",
     "library": "var_list.py",
     "varRefreshCmd": "print(var_dic_list())"
    },
    "r": {
     "delete_cmd_postfix": ") ",
     "delete_cmd_prefix": "rm(",
     "library": "var_list.r",
     "varRefreshCmd": "cat(var_dic_list()) "
    }
   },
   "types_to_exclude": [
    "module",
    "function",
    "builtin_function_or_method",
    "instance",
    "_Feature"
   ],
   "window_display": false
  }
 },
 "nbformat": 4,
 "nbformat_minor": 4
}
