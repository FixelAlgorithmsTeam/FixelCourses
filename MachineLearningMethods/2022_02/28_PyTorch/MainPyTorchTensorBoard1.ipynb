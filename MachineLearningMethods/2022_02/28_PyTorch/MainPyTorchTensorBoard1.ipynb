{
 "cells": [
  {
   "cell_type": "markdown",
   "metadata": {
    "slideshow": {
     "slide_type": "slide"
    }
   },
   "source": [
    "![Fixel Algorithms](https://fixelalgorithms.co/images/CCExt.png)"
   ]
  },
  {
   "cell_type": "markdown",
   "metadata": {},
   "source": [
    "# <center> Machine Learning Methods </center>\n",
    "## <center> Lecture 28 - PyTorch</center>\n",
    "### <center> TensorBoard</center>"
   ]
  },
  {
   "cell_type": "markdown",
   "metadata": {},
   "source": [
    "Colab users should use GPU runtime:\n",
    "[![Open In Colab](https://colab.research.google.com/assets/colab-badge.svg)](https://colab.research.google.com/github/FixelAlgorithmsTeam/FixelCourses/blob/master/DeepLearningMethods/07_PyTorch/MainPyTorchSchdulers.ipynb)"
   ]
  },
  {
   "cell_type": "code",
   "execution_count": 1,
   "metadata": {
    "slideshow": {
     "slide_type": "slide"
    }
   },
   "outputs": [],
   "source": [
    "#-- Wide screen:\n",
    "# from IPython.core.display import display, HTML\n",
    "# display(HTML(\"<style>.container { width:80% !important; }</style>\"))"
   ]
  },
  {
   "cell_type": "code",
   "execution_count": 2,
   "metadata": {
    "slideshow": {
     "slide_type": "fragment"
    }
   },
   "outputs": [],
   "source": [
    "#-- Auto reload:\n",
    "%load_ext autoreload\n",
    "%autoreload 2"
   ]
  },
  {
   "cell_type": "code",
   "execution_count": 3,
   "metadata": {
    "slideshow": {
     "slide_type": "fragment"
    }
   },
   "outputs": [],
   "source": [
    "#-- Imports:\n",
    "import numpy             as np\n",
    "import pandas            as pd\n",
    "import matplotlib.pyplot as plt\n",
    "import matplotlib\n",
    "\n",
    "matplotlib.rc('font', **{'size' : 16})\n",
    "\n",
    "#-- torch:\n",
    "import torch\n",
    "\n",
    "#-- Fix seed (for presentation sake)\n",
    "torch.manual_seed(3)\n",
    "np.random.seed(3)\n",
    "torch.backends.cudnn.deterministic = True\n",
    "torch.backends.cudnn.benchmark     = False"
   ]
  },
  {
   "cell_type": "markdown",
   "metadata": {
    "slideshow": {
     "slide_type": "slide"
    }
   },
   "source": [
    "### Load Fashion-MNIST data:"
   ]
  },
  {
   "cell_type": "code",
   "execution_count": 4,
   "metadata": {
    "slideshow": {
     "slide_type": "fragment"
    }
   },
   "outputs": [],
   "source": [
    "import torchvision\n",
    "import torchvision.transforms as transforms\n",
    "\n",
    "oTransform = transforms.Compose([\n",
    "    transforms.ToTensor(),\n",
    "    transforms.Normalize((0.5,), (0.5,))\n",
    "])\n",
    "\n",
    "oTrainSet = torchvision.datasets.FashionMNIST('../../data', download=True, train=True,  transform=oTransform)\n",
    "oTestSet  = torchvision.datasets.FashionMNIST('../../data', download=True, train=False, transform=oTransform)\n",
    "\n",
    "oTrainDL  = torch.utils.data.DataLoader(oTrainSet, batch_size=1024, shuffle=True,  num_workers=2)\n",
    "oTestDL   = torch.utils.data.DataLoader(oTestSet,  batch_size=1024, shuffle=False, num_workers=2)\n",
    "\n",
    "lClasses  = oTrainSet.classes"
   ]
  },
  {
   "cell_type": "markdown",
   "metadata": {
    "slideshow": {
     "slide_type": "slide"
    }
   },
   "source": [
    "### Plot some examples:"
   ]
  },
  {
   "cell_type": "code",
   "execution_count": 5,
   "metadata": {
    "slideshow": {
     "slide_type": "fragment"
    }
   },
   "outputs": [
    {
     "data": {
      "image/png": "[encoded data removed]",
      "text/plain": [
       "<Figure size 720x432 with 6 Axes>"
      ]
     },
     "metadata": {
      "needs_background": "light"
     },
     "output_type": "display_data"
    }
   ],
   "source": [
    "N, H, W = oTrainSet.data.shape\n",
    "fig, _  = plt.subplots(2, 3, figsize=(10,6))\n",
    "for ax in fig.axes:\n",
    "    idx   = np.random.randint(0, N)\n",
    "    mX, y = oTrainSet[idx]\n",
    "    mX    = mX.squeeze() * 0.5 + 0.5\n",
    "    mX    = torch.clamp(mX, 0, 1)\n",
    "    ax.imshow(mX, cmap='gray')\n",
    "    ax.set_title('True label: ' + str(lClasses[y]))\n",
    "    \n",
    "plt.tight_layout()\n",
    "plt.show()"
   ]
  },
  {
   "cell_type": "markdown",
   "metadata": {
    "slideshow": {
     "slide_type": "slide"
    }
   },
   "source": [
    "### Define a model:"
   ]
  },
  {
   "cell_type": "code",
   "execution_count": 6,
   "metadata": {
    "slideshow": {
     "slide_type": "fragment"
    }
   },
   "outputs": [],
   "source": [
    "import torchsummary\n",
    "import torch.nn            as nn\n",
    "import torch.nn.functional as F\n",
    "import torch.optim         as optim\n",
    "\n",
    "#--------------------------------------------------------------------------------#\n",
    "#--------------------------------------------------------------------------------#\n",
    "def WeightInit(oModule):\n",
    "    if isinstance(oModule, nn.Conv2d):\n",
    "        nn.init.kaiming_normal_(oModule.weight.data)\n",
    "\n",
    "#--------------------------------------------------------------------------------#\n",
    "#--------------------------------------------------------------------------------#\n",
    "#-- Tensor to vector (reshape):\n",
    "class Flatten(nn.Module):\n",
    "    def forward(self, mX):\n",
    "        N  = mX.shape[0]\n",
    "        mZ = mX.view(N, -1)\n",
    "        return mZ"
   ]
  },
  {
   "cell_type": "code",
   "execution_count": 7,
   "metadata": {
    "slideshow": {
     "slide_type": "slide"
    }
   },
   "outputs": [
    {
     "name": "stdout",
     "output_type": "stream",
     "text": [
      "==========================================================================================\n",
      "Layer (type:depth-idx)                   Output Shape              Param #\n",
      "==========================================================================================\n",
      "├─Sequential: 1-1                        [-1, 1, 28, 28]           --\n",
      "├─Conv2d: 1-2                            [-1, 5, 24, 24]           130\n",
      "├─LeakyReLU: 1-3                         [-1, 5, 24, 24]           --\n",
      "├─Conv2d: 1-4                            [-1, 10, 20, 20]          1,260\n",
      "├─LeakyReLU: 1-5                         [-1, 10, 20, 20]          --\n",
      "├─Conv2d: 1-6                            [-1, 10, 16, 16]          2,510\n",
      "├─LeakyReLU: 1-7                         [-1, 10, 16, 16]          --\n",
      "├─Conv2d: 1-8                            [-1, 5, 12, 12]           1,255\n",
      "├─LeakyReLU: 1-9                         [-1, 5, 12, 12]           --\n",
      "├─Conv2d: 1-10                           [-1, 5, 8, 8]             630\n",
      "├─LeakyReLU: 1-11                        [-1, 5, 8, 8]             --\n",
      "├─Flatten: 1-12                          [-1, 320]                 --\n",
      "├─Linear: 1-13                           [-1, 10]                  3,210\n",
      "==========================================================================================\n",
      "Total params: 8,995\n",
      "Trainable params: 8,995\n",
      "Non-trainable params: 0\n",
      "Total mult-adds (M): 1.44\n",
      "==========================================================================================\n",
      "Input size (MB): 0.00\n",
      "Forward/backward pass size (MB): 0.08\n",
      "Params size (MB): 0.03\n",
      "Estimated Total Size (MB): 0.12\n",
      "==========================================================================================\n",
      "\n"
     ]
    }
   ],
   "source": [
    "#-- Model:\n",
    "def GetModel():\n",
    "    oModel = nn.Sequential(\n",
    "        nn.Sequential(), #-- does nothing\n",
    "        \n",
    "        nn.Conv2d(1,  5,  5), nn.LeakyReLU(),\n",
    "        nn.Conv2d(5,  10, 5), nn.LeakyReLU(),\n",
    "        nn.Conv2d(10, 10, 5), nn.LeakyReLU(),\n",
    "        nn.Conv2d(10, 5,  5), nn.LeakyReLU(),\n",
    "        nn.Conv2d(5,  5,  5), nn.LeakyReLU(),\n",
    "        \n",
    "        Flatten(),\n",
    "        nn.Linear(320, 10)\n",
    "    )\n",
    "    oModel.apply(WeightInit)\n",
    "    return oModel\n",
    "\n",
    "#--------------------------------------------------------------------------------#\n",
    "#--------------------------------------------------------------------------------#\n",
    "torchsummary.summary(GetModel(), (1, H, W), device='cpu')\n",
    "print()"
   ]
  },
  {
   "cell_type": "markdown",
   "metadata": {
    "slideshow": {
     "slide_type": "slide"
    }
   },
   "source": [
    "### Define a TensorBoard writing object:"
   ]
  },
  {
   "cell_type": "code",
   "execution_count": 8,
   "metadata": {
    "slideshow": {
     "slide_type": "fragment"
    }
   },
   "outputs": [],
   "source": [
    "from torch.utils.tensorboard import SummaryWriter\n",
    "\n",
    "# default `log_dir` is `runs`\n",
    "oWriter = SummaryWriter('runs/Run1')"
   ]
  },
  {
   "cell_type": "markdown",
   "metadata": {
    "slideshow": {
     "slide_type": "fragment"
    }
   },
   "source": [
    "cmd (from the same path as this file):  \n",
    "`tensorboard --logdir=runs`  \n",
    "go to:  \n",
    "http://localhost:6006/"
   ]
  },
  {
   "cell_type": "markdown",
   "metadata": {
    "slideshow": {
     "slide_type": "slide"
    }
   },
   "source": [
    "### Write some training images to TensorBoard:"
   ]
  },
  {
   "cell_type": "code",
   "execution_count": 9,
   "metadata": {
    "slideshow": {
     "slide_type": "fragment"
    }
   },
   "outputs": [
    {
     "data": {
      "image/png": "[encoded data removed]",
      "text/plain": [
       "<Figure size 576x432 with 1 Axes>"
      ]
     },
     "metadata": {
      "needs_background": "light"
     },
     "output_type": "display_data"
    }
   ],
   "source": [
    "mX          = next(iter(oTrainDL))[0][:16]\n",
    "mImagesGrid = torchvision.utils.make_grid(mX * 0.5 + 0.5, nrow=4)   #-- 4 x 4 grid\n",
    "plt.figure(figsize=(8,6))\n",
    "plt.imshow(mImagesGrid.numpy().transpose((1,2,0)))\n",
    "plt.show()\n",
    "\n",
    "#-- write to tensorboard\n",
    "oWriter.add_image('Training images', mImagesGrid)\n",
    "# oWriter.close()"
   ]
  },
  {
   "cell_type": "markdown",
   "metadata": {
    "slideshow": {
     "slide_type": "slide"
    }
   },
   "source": [
    "### Write the model's graph to TensorBoard:"
   ]
  },
  {
   "cell_type": "code",
   "execution_count": 10,
   "metadata": {
    "slideshow": {
     "slide_type": "fragment"
    }
   },
   "outputs": [],
   "source": [
    "oModel = GetModel()\n",
    "oWriter.add_graph(oModel, mX)\n",
    "oWriter.close()"
   ]
  },
  {
   "cell_type": "markdown",
   "metadata": {
    "slideshow": {
     "slide_type": "slide"
    }
   },
   "source": [
    "### Upload embeddings to TensorBoard:"
   ]
  },
  {
   "cell_type": "code",
   "execution_count": 11,
   "metadata": {
    "slideshow": {
     "slide_type": "fragment"
    }
   },
   "outputs": [],
   "source": [
    "#-- A way to get N (random) data points:\n",
    "N         = 1000\n",
    "oTrainDL2 = torch.utils.data.DataLoader(oTrainSet, batch_size=N, shuffle=True)\n",
    "mX, vY    = next(iter(oTrainDL2))\n",
    "lLabels   = [lClasses[y] for y in vY]\n",
    "\n",
    "#-- Add embeddings to TensorBoard:\n",
    "mFeatures = mX.view(N, -1)\n",
    "oWriter.add_embedding(mFeatures, metadata=lLabels, label_img=1-mX, tag='Raw data')\n",
    "oWriter.close()\n",
    "#-- if data do not apper in TensorBoard, reconnect in the cmd."
   ]
  },
  {
   "cell_type": "markdown",
   "metadata": {
    "slideshow": {
     "slide_type": "slide"
    }
   },
   "source": [
    "### A function to plot a sample with its label prediction:"
   ]
  },
  {
   "cell_type": "code",
   "execution_count": 14,
   "metadata": {
    "slideshow": {
     "slide_type": "fragment"
    }
   },
   "outputs": [],
   "source": [
    "def PlotImages(oModel, mX, vY):\n",
    "    N     = mX.shape[0]\n",
    "    mP    = torch.softmax(oModel(mX), dim=1)\n",
    "    vHatY = torch.argmax(mP, dim=1)\n",
    "    vP    = mP[range(N),vHatY]\n",
    "    \n",
    "    fig, _ = plt.subplots(1, 4, figsize=(12, 8))\n",
    "    for ii, ax in enumerate(fig.axes):\n",
    "        if vHatY[ii] == vY[ii]:\n",
    "            color = 'g'\n",
    "        else:\n",
    "            color = 'r'\n",
    "        \n",
    "        label     = lClasses[vY[ii]]\n",
    "        labelHat  = lClasses[vHatY[ii]]\n",
    "        ax.imshow(mX[ii].squeeze().cpu() * 0.5 + 0.5, cmap='gray')        \n",
    "        ax.set_title(f'{labelHat}, {100 * vP[ii]:.1f}%\\n'\n",
    "                     f'(True label: {label})', color=color)\n",
    "        plt.tight_layout()\n",
    "    return fig"
   ]
  },
  {
   "cell_type": "markdown",
   "metadata": {
    "slideshow": {
     "slide_type": "slide"
    }
   },
   "source": [
    "### Device, optimizer and loss functions:"
   ]
  },
  {
   "cell_type": "code",
   "execution_count": 15,
   "metadata": {
    "slideshow": {
     "slide_type": "fragment"
    }
   },
   "outputs": [
    {
     "data": {
      "text/plain": [
       "device(type='cuda', index=0)"
      ]
     },
     "execution_count": 15,
     "metadata": {},
     "output_type": "execute_result"
    }
   ],
   "source": [
    "device = torch.device(\"cuda:0\" if torch.cuda.is_available() else \"cpu\") \n",
    "device"
   ]
  },
  {
   "cell_type": "code",
   "execution_count": 16,
   "metadata": {
    "slideshow": {
     "slide_type": "fragment"
    }
   },
   "outputs": [],
   "source": [
    "oModel.to(device)\n",
    "oOptim   = optim.SGD(oModel.parameters(), lr=3e-2, momentum=.5)\n",
    "LossFunc = nn.CrossEntropyLoss()"
   ]
  },
  {
   "cell_type": "markdown",
   "metadata": {
    "slideshow": {
     "slide_type": "slide"
    }
   },
   "source": [
    "### A simple training loop that write losses to TensorBoard:\n",
    "It also write a few prediction at each epoch."
   ]
  },
  {
   "cell_type": "code",
   "execution_count": 17,
   "metadata": {
    "scrolled": true,
    "slideshow": {
     "slide_type": "fragment"
    }
   },
   "outputs": [
    {
     "name": "stdout",
     "output_type": "stream",
     "text": [
      "Epoch   0: | Train loss: 1.99538 | epoch time: 6.851 |\n",
      "Epoch   1: | Train loss: 1.19872 | epoch time: 5.984 |\n",
      "Epoch   2: | Train loss: 0.80526 | epoch time: 6.368 |\n",
      "Epoch   3: | Train loss: 0.71715 | epoch time: 5.730 |\n",
      "Epoch   4: | Train loss: 0.67214 | epoch time: 5.846 |\n",
      "Epoch   5: | Train loss: 0.64710 | epoch time: 5.913 |\n",
      "Epoch   6: | Train loss: 0.61929 | epoch time: 5.469 |\n",
      "Epoch   7: | Train loss: 0.59302 | epoch time: 5.531 |\n",
      "Epoch   8: | Train loss: 0.57911 | epoch time: 5.678 |\n",
      "Epoch   9: | Train loss: 0.56065 | epoch time: 5.485 |\n"
     ]
    }
   ],
   "source": [
    "import time\n",
    "\n",
    "numEpochs = 10\n",
    "ii        = 0\n",
    "for epoch in range(numEpochs):\n",
    "    startTime = time.time()\n",
    "    epochLoss = 0\n",
    "    count     = 0 \n",
    "\n",
    "    for mX, vY in oTrainDL:\n",
    "        mX = mX.to(device) #-- move to device (CPU\\GPU)\n",
    "        vY = vY.to(device) #-- move to device (CPU\\GPU)\n",
    "\n",
    "        # forward + backward + optimize\n",
    "        oOptim.zero_grad()\n",
    "        mHatY = oModel(mX)\n",
    "        loss  = LossFunc(mHatY, vY)\n",
    "        loss.backward()\n",
    "        oOptim.step()\n",
    "\n",
    "        Nb         = mX.shape[0]\n",
    "        epochLoss += Nb * loss.item()\n",
    "        count     += Nb\n",
    "        \n",
    "        oWriter.add_scalars('Training loss (per iteration)', {'batch loss': loss.item()}, global_step=ii)\n",
    "        oWriter.flush()\n",
    "        ii += 1\n",
    "        \n",
    "    epochLoss /= count\n",
    "    \n",
    "    endTime = time.time()\n",
    "    print('Epoch '              f'{epoch:3d}:',                  end='')\n",
    "    print(' | Train loss: '     f'{epochLoss:.5f}',              end='')\n",
    "    print(' | epoch time: '     f'{(endTime-startTime):3.3f} |')\n",
    "        \n",
    "    oWriter.add_scalars('Training loss (per iteration)', {'epoch loss': epochLoss},  global_step=ii)\n",
    "    oWriter.add_scalar('Training loss (per epoch)',      epochLoss,                  global_step=epoch)\n",
    "    oWriter.add_figure('Accuracy',                       PlotImages(oModel, mX, vY), global_step=epoch)\n",
    "\n",
    "oWriter.close()"
   ]
  },
  {
   "cell_type": "markdown",
   "metadata": {
    "slideshow": {
     "slide_type": "slide"
    }
   },
   "source": [
    "### Same as before, but as a function:"
   ]
  },
  {
   "cell_type": "code",
   "execution_count": 18,
   "metadata": {
    "slideshow": {
     "slide_type": "fragment"
    }
   },
   "outputs": [],
   "source": [
    "def TrainModel(oModel, oTrainDL, oOptim, numEpochs, oWriter):\n",
    "\n",
    "    ii = 0\n",
    "    for epoch in range(numEpochs):  # loop over the dataset multiple times\n",
    "        startTime = time.time()\n",
    "        epochLoss = 0\n",
    "        count     = 0 \n",
    "\n",
    "        for mX, vY in oTrainDL:\n",
    "            #-- Move to device (CPU\\GPU):\n",
    "            mX = mX.to(device)\n",
    "            vY = vY.to(device)\n",
    "\n",
    "            # forward + backward + optimize\n",
    "            oOptim.zero_grad()\n",
    "            mHatY = oModel(mX)\n",
    "            loss  = LossFunc(mHatY, vY)\n",
    "            loss.backward()\n",
    "            oOptim.step()\n",
    "\n",
    "            Nb         = mX.shape[0]\n",
    "            epochLoss += Nb * loss.item()\n",
    "            count     += Nb\n",
    "\n",
    "            oWriter.add_scalar('Training loss (per iteration)', loss.item(), global_step=ii)\n",
    "            oWriter.flush()\n",
    "            ii += 1\n",
    "\n",
    "        epochLoss /= count\n",
    "\n",
    "        endTime = time.time()\n",
    "        print('Epoch '              f'{epoch:3d}:',                  end='')\n",
    "        print(' | Train loss: '     f'{epochLoss:.5f}',              end='')\n",
    "        print(' | epoch time: '     f'{(endTime-startTime):3.3f} |')\n",
    "\n",
    "        oWriter.add_scalar('Training loss (per epoch)', epochLoss, global_step=epoch)\n",
    "\n",
    "    oWriter.close()"
   ]
  },
  {
   "cell_type": "markdown",
   "metadata": {
    "slideshow": {
     "slide_type": "slide"
    }
   },
   "source": [
    "### With TensorBoard it is easy to compare between multiple configuration:\n",
    "For now, we will just try multiple learning rates."
   ]
  },
  {
   "cell_type": "code",
   "execution_count": null,
   "metadata": {
    "slideshow": {
     "slide_type": "fragment"
    }
   },
   "outputs": [
    {
     "name": "stdout",
     "output_type": "stream",
     "text": [
      "===============================================================\n",
      "Train configuration 0:\n",
      "===============================================================\n",
      "Epoch   0: | Train loss: 2.19478 | epoch time: 6.171 |\n",
      "Epoch   1: | Train loss: 1.30118 | epoch time: 6.737 |\n",
      "Epoch   2: | Train loss: 0.88668 | epoch time: 5.843 |\n",
      "Epoch   3: | Train loss: 0.78285 | epoch time: 5.794 |\n",
      "Epoch   4: | Train loss: 0.72599 | epoch time: 5.564 |\n",
      "Epoch   5: | Train loss: 0.69212 | epoch time: 5.882 |\n",
      "Epoch   6: | Train loss: 0.66796 | epoch time: 5.657 |\n",
      "Epoch   7: | Train loss: 0.65047 | epoch time: 5.559 |\n",
      "Epoch   8: | Train loss: 0.63148 | epoch time: 5.463 |\n",
      "Epoch   9: | Train loss: 0.62050 | epoch time: 5.318 |\n",
      "===============================================================\n",
      "Train configuration 1:\n",
      "===============================================================\n",
      "Epoch   0: | Train loss: 1.73668 | epoch time: 5.322 |\n",
      "Epoch   1: | Train loss: 0.77284 | epoch time: 5.446 |\n",
      "Epoch   2: | Train loss: 0.63176 | epoch time: 5.575 |\n",
      "Epoch   3: | Train loss: 0.57212 | epoch time: 5.661 |\n",
      "Epoch   4: | Train loss: 0.53701 | epoch time: 5.696 |\n",
      "Epoch   5: | Train loss: 0.51082 | epoch time: 5.596 |\n",
      "Epoch   6: | Train loss: 0.49546 | epoch time: 5.630 |\n",
      "Epoch   7: | Train loss: 0.47820 | epoch time: 5.566 |\n",
      "Epoch   8: | Train loss: 0.46630 | epoch time: 5.645 |\n",
      "Epoch   9: | Train loss: 0.45852 | epoch time: 5.773 |\n",
      "===============================================================\n",
      "Train configuration 2:\n",
      "===============================================================\n",
      "Epoch   0: | Train loss: 1.87239 | epoch time: 5.498 |\n",
      "Epoch   1: | Train loss: 0.80389 | epoch time: 5.383 |\n",
      "Epoch   2: | Train loss: 0.61046 | epoch time: 5.657 |\n",
      "Epoch   3: | Train loss: 0.56121 | epoch time: 5.523 |\n",
      "Epoch   4: | Train loss: 0.52484 | epoch time: 5.702 |\n",
      "Epoch   5: | Train loss: 0.50295 | epoch time: 5.731 |\n",
      "Epoch   6: | Train loss: 0.48230 | epoch time: 5.405 |\n",
      "Epoch   7: | Train loss: 0.46423 | epoch time: 5.443 |\n",
      "Epoch   8: | Train loss: 0.45311 | epoch time: 5.695 |\n",
      "Epoch   9: | Train loss: 0.44041 | epoch time: 5.459 |\n",
      "===============================================================\n",
      "Train configuration 3:\n",
      "===============================================================\n",
      "Epoch   0: | Train loss: 1.43034 | epoch time: 5.392 |\n",
      "Epoch   1: | Train loss: 0.71811 | epoch time: 5.815 |\n",
      "Epoch   2: | Train loss: 0.58628 | epoch time: 5.622 |\n",
      "Epoch   3: | Train loss: 0.49946 | epoch time: 5.284 |\n",
      "Epoch   4: | Train loss: 0.46889 | epoch time: 5.631 |\n",
      "Epoch   5: | Train loss: 0.44252 | epoch time: 5.878 |\n",
      "Epoch   6: | Train loss: 0.42591 | epoch time: 5.492 |\n",
      "Epoch   7: | Train loss: 0.41662 | epoch time: 5.854 |\n"
     ]
    }
   ],
   "source": [
    "lLR = [1e-3, 5e-3, 1e-2, 3e-2]\n",
    "\n",
    "for ii, LR in enumerate(lLR):\n",
    "    print('===============================================================')\n",
    "    print('Train configuration ' + str(ii) + ':')\n",
    "    print('===============================================================')\n",
    "    oWriter = SummaryWriter('runs/Configuration' + str(ii))\n",
    "    oModel  = GetModel().to(device)\n",
    "    oOptim  = optim.SGD(oModel.parameters(), lr=LR, momentum=.9, nesterov=True)\n",
    "    TrainModel(oModel, oTrainDL, oOptim, 10, oWriter)"
   ]
  },
  {
   "cell_type": "markdown",
   "metadata": {
    "slideshow": {
     "slide_type": "fragment"
    }
   },
   "source": [
    "### The End"
   ]
  }
 ],
 "metadata": {
  "celltoolbar": "Slideshow",
  "kernelspec": {
   "display_name": "Python 3",
   "language": "python",
   "name": "python3"
  },
  "language_info": {
   "codemirror_mode": {
    "name": "ipython",
    "version": 3
   },
   "file_extension": ".py",
   "mimetype": "text/x-python",
   "name": "python",
   "nbconvert_exporter": "python",
   "pygments_lexer": "ipython3",
   "version": "3.8.6"
  },
  "toc": {
   "base_numbering": 1,
   "nav_menu": {},
   "number_sections": false,
   "sideBar": true,
   "skip_h1_title": false,
   "title_cell": "Table of Contents",
   "title_sidebar": "Contents",
   "toc_cell": false,
   "toc_position": {},
   "toc_section_display": true,
   "toc_window_display": false
  },
  "varInspector": {
   "cols": {
    "lenName": 16,
    "lenType": 16,
    "lenVar": 40
   },
   "kernels_config": {
    "python": {
     "delete_cmd_postfix": "",
     "delete_cmd_prefix": "del ",
     "library": "var_list.py",
     "varRefreshCmd": "print(var_dic_list())"
    },
    "r": {
     "delete_cmd_postfix": ") ",
     "delete_cmd_prefix": "rm(",
     "library": "var_list.r",
     "varRefreshCmd": "cat(var_dic_list()) "
    }
   },
   "oldHeight": 413,
   "position": {
    "height": "435px",
    "left": "1650px",
    "right": "20px",
    "top": "120px",
    "width": "250px"
   },
   "types_to_exclude": [
    "module",
    "function",
    "builtin_function_or_method",
    "instance",
    "_Feature"
   ],
   "varInspector_section_display": "block",
   "window_display": true
  }
 },
 "nbformat": 4,
 "nbformat_minor": 4
}
