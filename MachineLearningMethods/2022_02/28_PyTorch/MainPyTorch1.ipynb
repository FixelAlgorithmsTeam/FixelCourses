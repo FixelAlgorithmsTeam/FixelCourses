{
 "cells": [
  {
   "cell_type": "markdown",
   "metadata": {},
   "source": [
    "![Fixel Algorithms](https://fixelalgorithms.co/images/CCExt.png)"
   ]
  },
  {
   "cell_type": "markdown",
   "metadata": {},
   "source": [
    "# <center> Machine Learning Methods </center>\n",
    "## <center> Lecture 28 - PyTorch</center>\n",
    "### <center> Cifar-10 and Regression Exercise</center>"
   ]
  },
  {
   "cell_type": "markdown",
   "metadata": {},
   "source": [
    "[![Open In Colab](https://colab.research.google.com/assets/colab-badge.svg)](https://colab.research.google.com/github/FixelAlgorithmsTeam/FixelCourses/blob/master/MachineLearningMethod/28_PyTorch/MainPyTorchCifar.ipynb)"
   ]
  },
  {
   "cell_type": "code",
   "execution_count": 1,
   "metadata": {},
   "outputs": [
    {
     "data": {
      "text/html": [
       "<style>.container { width:80% !important; }</style>"
      ],
      "text/plain": [
       "<IPython.core.display.HTML object>"
      ]
     },
     "metadata": {},
     "output_type": "display_data"
    }
   ],
   "source": [
    "#-- Wide screen:\n",
    "from IPython.core.display import display, HTML\n",
    "display(HTML(\"<style>.container { width:80% !important; }</style>\"))"
   ]
  },
  {
   "cell_type": "code",
   "execution_count": 2,
   "metadata": {},
   "outputs": [],
   "source": [
    "#-- Auto reload:\n",
    "%load_ext autoreload\n",
    "%autoreload 2"
   ]
  },
  {
   "cell_type": "code",
   "execution_count": 3,
   "metadata": {},
   "outputs": [],
   "source": [
    "#-- Imports:\n",
    "import numpy             as np\n",
    "import matplotlib.pyplot as plt\n",
    "import matplotlib\n",
    "\n",
    "matplotlib.rc('font', **{'size' : 16})\n",
    "\n",
    "#-- torch:\n",
    "import torch\n",
    "\n",
    "#-- Fix seed (for presentation sake)\n",
    "torch.manual_seed(0)\n",
    "np.random.seed(0)\n",
    "torch.backends.cudnn.deterministic = True\n",
    "torch.backends.cudnn.benchmark     = False"
   ]
  },
  {
   "cell_type": "markdown",
   "metadata": {},
   "source": [
    "### Train & validation loops:\n"
   ]
  },
  {
   "cell_type": "code",
   "execution_count": 4,
   "metadata": {},
   "outputs": [],
   "source": [
    "#-- Classification accuracy:\n",
    "def Accuracy(mHatY, vY):\n",
    "    vHatY = mHatY.argmax(dim=1)\n",
    "    return (vHatY == vY).float().mean().item()"
   ]
  },
  {
   "cell_type": "markdown",
   "metadata": {},
   "source": [
    "#### Train loop:"
   ]
  },
  {
   "cell_type": "code",
   "execution_count": 5,
   "metadata": {},
   "outputs": [],
   "source": [
    "def TrainLoop(oModel, oTrainDL, LossFunc, oOptim):\n",
    "\n",
    "    epochLoss = 0\n",
    "    epochAcc  = 0\n",
    "    count     = 0                                #-- number of samples\n",
    "    device    = next(oModel.parameters()).device #-- CPU\\GPU\n",
    "    oModel.train(True)\n",
    "    \n",
    "    #-- Iterate over the mini-batches:\n",
    "    for ii, (mX, vY) in enumerate(oTrainDL):\n",
    "        #-- Move to device (CPU\\GPU):\n",
    "        mX = mX.to(device)\n",
    "        vY = vY.to(device)\n",
    "        \n",
    "        #-- Set gradients to zeros:\n",
    "        oOptim.zero_grad()\n",
    "        \n",
    "        #-- Forward:\n",
    "        mHatY = oModel(mX)\n",
    "        loss  = LossFunc(mHatY, vY)\n",
    "\n",
    "        #-- Backward:\n",
    "        loss.backward()\n",
    "\n",
    "        #-- Parameters update:\n",
    "        oOptim.step()\n",
    "        \n",
    "        print(f'\\rIteration: {ii:3d}: loss = {loss:.6f}', end='')\n",
    "        #-- Accumulate loss:\n",
    "        Nb         = mX.shape[0]\n",
    "        epochLoss += Nb * loss.item()\n",
    "        epochAcc  += Nb * Accuracy(mHatY, vY)\n",
    "        count     += Nb\n",
    "\n",
    "    print('', end='\\r')\n",
    "    epochLoss /= count\n",
    "    epochAcc  /= count\n",
    "\n",
    "    return epochLoss, epochAcc"
   ]
  },
  {
   "cell_type": "markdown",
   "metadata": {},
   "source": [
    "#### Validation loop:"
   ]
  },
  {
   "cell_type": "code",
   "execution_count": 6,
   "metadata": {},
   "outputs": [],
   "source": [
    "def ValidationLoop(oModel, oValDL, LossFunc):\n",
    "\n",
    "    if oValDL is None:\n",
    "        return 0, 0\n",
    "    \n",
    "    epochLoss = 0\n",
    "    epochAcc  = 0\n",
    "    count     = 0                                #-- number of samples\n",
    "    device    = next(oModel.parameters()).device #-- CPU\\GPU\n",
    "    oModel.train(False)\n",
    "    \n",
    "    #-- Iterate over the mini-batches:\n",
    "    with torch.no_grad():\n",
    "        for ii, (mX, vY) in enumerate(oValDL):\n",
    "            #-- Move to device (CPU\\GPU):\n",
    "            mX = mX.to(device)\n",
    "            vY = vY.to(device)\n",
    "            \n",
    "            #-- Forward:\n",
    "            mHatY = oModel(mX)\n",
    "            loss  = LossFunc(mHatY, vY)\n",
    "\n",
    "            Nb         = len(vY)\n",
    "            epochLoss += Nb * loss.item()\n",
    "            epochAcc  += Nb * Accuracy(mHatY, vY)\n",
    "            count     += Nb\n",
    "\n",
    "    epochLoss /= count\n",
    "    epochAcc  /= count\n",
    "\n",
    "    return epochLoss, epochAcc"
   ]
  },
  {
   "cell_type": "markdown",
   "metadata": {},
   "source": [
    "#### Train model:"
   ]
  },
  {
   "cell_type": "code",
   "execution_count": 7,
   "metadata": {},
   "outputs": [],
   "source": [
    "import time\n",
    "\n",
    "def TrainModel(oModel, oTrainDL, oValDL, LossFunc, numEpochs, oOptim):\n",
    "\n",
    "    bestAcc = 0\n",
    "    for epoch in range(numEpochs):\n",
    "        \n",
    "        startTime           = time.time()\n",
    "        trainLoss, trainAcc = TrainLoop(oModel, oTrainDL, LossFunc, oOptim) #-- train\n",
    "        valLoss,   valAcc   = ValidationLoop(oModel, oValDL, LossFunc)      #-- validation\n",
    "        \n",
    "        endTime = time.time()\n",
    "        print('Epoch '              f'{epoch:3d}:',                  end='')\n",
    "        print(' | Train loss: '     f'{trainLoss:.5f}',              end='')\n",
    "        print(' | Val loss: '       f'{valLoss:.5f}',                end='')\n",
    "        print(' | Train Accuracy: ' f'{trainAcc:2.4f}',              end='')\n",
    "        print(' | Val Accuracy: '   f'{valAcc:2.4f}',                end='')\n",
    "        print(' | epoch time: '     f'{(endTime-startTime):8.3f} |', end='')\n",
    "        \n",
    "        #-- Save best model:\n",
    "        if valAcc > bestAcc:\n",
    "            bestAcc   = valAcc\n",
    "            try:\n",
    "                torch.save(oModel.state_dict(), 'BestModelParameters.pt')\n",
    "            except:\n",
    "                pass\n",
    "            print(' <-- Checkpoint!')\n",
    "        else:\n",
    "            print()\n",
    "\n",
    "    #-- Return best model:\n",
    "    oModel.load_state_dict(torch.load('BestModelParameters.pt'))"
   ]
  },
  {
   "cell_type": "markdown",
   "metadata": {},
   "source": [
    "### Download CIFAR-10 dataset:"
   ]
  },
  {
   "cell_type": "code",
   "execution_count": 8,
   "metadata": {},
   "outputs": [
    {
     "name": "stdout",
     "output_type": "stream",
     "text": [
      "Files already downloaded and verified\n",
      "Files already downloaded and verified\n"
     ]
    },
    {
     "data": {
      "text/plain": [
       "((50000, 32, 32, 3), torch.Size([3, 32, 32]))"
      ]
     },
     "execution_count": 8,
     "metadata": {},
     "output_type": "execute_result"
    }
   ],
   "source": [
    "import torchvision\n",
    "import torchvision.transforms as transforms\n",
    "\n",
    "oTrainSet = torchvision.datasets.CIFAR10(root='../../data', train=True,  download=True, transform=transforms.ToTensor())\n",
    "oTestSet  = torchvision.datasets.CIFAR10(root='../../data', train=False, download=True, transform=transforms.ToTensor())\n",
    "\n",
    "oTrainSet.data.shape, oTrainSet[0][0].shape"
   ]
  },
  {
   "cell_type": "code",
   "execution_count": 9,
   "metadata": {},
   "outputs": [
    {
     "data": {
      "text/plain": [
       "['airplane',\n",
       " 'automobile',\n",
       " 'bird',\n",
       " 'cat',\n",
       " 'deer',\n",
       " 'dog',\n",
       " 'frog',\n",
       " 'horse',\n",
       " 'ship',\n",
       " 'truck']"
      ]
     },
     "execution_count": 9,
     "metadata": {},
     "output_type": "execute_result"
    }
   ],
   "source": [
    "lClasses  = oTrainSet.classes\n",
    "lClasses"
   ]
  },
  {
   "cell_type": "markdown",
   "metadata": {},
   "source": [
    "### Plot some examples:"
   ]
  },
  {
   "cell_type": "code",
   "execution_count": 10,
   "metadata": {},
   "outputs": [
    {
     "data": {
      "image/png": "[encoded data removed]",
      "text/plain": [
       "<Figure size 720x432 with 6 Axes>"
      ]
     },
     "metadata": {
      "needs_background": "light"
     },
     "output_type": "display_data"
    }
   ],
   "source": [
    "N, H, W, C = oTrainSet.data.shape\n",
    "fig, _     = plt.subplots(2, 3, figsize=(10,6))\n",
    "for ax in fig.axes:\n",
    "    idx   = np.random.randint(N)\n",
    "    mX, y = oTrainSet[idx]\n",
    "    ax.imshow(np.transpose(mX.numpy(), (1,2,0)), cmap='gray')\n",
    "    ax.set_title('True label: ' + str(lClasses[y]))\n",
    "    \n",
    "plt.tight_layout()\n",
    "plt.show()"
   ]
  },
  {
   "cell_type": "markdown",
   "metadata": {},
   "source": [
    "### Compute mean and variance:"
   ]
  },
  {
   "cell_type": "code",
   "execution_count": 11,
   "metadata": {},
   "outputs": [
    {
     "name": "stdout",
     "output_type": "stream",
     "text": [
      "µ = [0.49139968 0.48215841 0.44653091]\n",
      "σ = [0.24703223 0.24348513 0.26158784]\n"
     ]
    }
   ],
   "source": [
    "vMean = oTrainSet.data.mean((0,1,2)) / 255\n",
    "vStd  = oTrainSet.data.std ((0,1,2)) / 255\n",
    "print('µ =', vMean)\n",
    "print('σ =', vStd)"
   ]
  },
  {
   "cell_type": "markdown",
   "metadata": {},
   "source": [
    "### Add normalization to the datasets:"
   ]
  },
  {
   "cell_type": "code",
   "execution_count": 12,
   "metadata": {},
   "outputs": [],
   "source": [
    "oTransform = transforms.Compose([\n",
    "    transforms.ToTensor(),\n",
    "    transforms.Normalize(vMean, vStd)\n",
    "])\n",
    "\n",
    "oTrainSet.transform = oTransform\n",
    "oTestSet. transform = oTransform"
   ]
  },
  {
   "cell_type": "markdown",
   "metadata": {},
   "source": [
    "### Create data loaders:"
   ]
  },
  {
   "cell_type": "code",
   "execution_count": 13,
   "metadata": {},
   "outputs": [],
   "source": [
    "batchSize = 128\n",
    "oTrainDL  = torch.utils.data.DataLoader(oTrainSet, shuffle=True,  batch_size=batchSize,   num_workers=2)\n",
    "oTestDL   = torch.utils.data.DataLoader(oTestSet,  shuffle=False, batch_size=2*batchSize, num_workers=2)"
   ]
  },
  {
   "cell_type": "markdown",
   "metadata": {},
   "source": [
    "### Define the model (architecture):"
   ]
  },
  {
   "cell_type": "code",
   "execution_count": 14,
   "metadata": {},
   "outputs": [
    {
     "name": "stdout",
     "output_type": "stream",
     "text": [
      "==========================================================================================\n",
      "Layer (type:depth-idx)                   Output Shape              Param #\n",
      "==========================================================================================\n",
      "├─Sequential: 1-1                        [-1, 3, 32, 32]           --\n",
      "├─Flatten: 1-2                           [-1, 3072]                --\n",
      "├─Linear: 1-3                            [-1, 500]                 1,536,500\n",
      "├─ReLU: 1-4                              [-1, 500]                 --\n",
      "├─Linear: 1-5                            [-1, 250]                 125,250\n",
      "├─ReLU: 1-6                              [-1, 250]                 --\n",
      "├─Linear: 1-7                            [-1, 10]                  2,510\n",
      "==========================================================================================\n",
      "Total params: 1,664,260\n",
      "Trainable params: 1,664,260\n",
      "Non-trainable params: 0\n",
      "Total mult-adds (M): 1.66\n",
      "==========================================================================================\n",
      "Input size (MB): 0.01\n",
      "Forward/backward pass size (MB): 0.01\n",
      "Params size (MB): 6.35\n",
      "Estimated Total Size (MB): 6.37\n",
      "==========================================================================================\n",
      "\n"
     ]
    }
   ],
   "source": [
    "import torch.nn            as nn\n",
    "import torch.nn.functional as F\n",
    "import torch.optim         as optim\n",
    "import torchsummary\n",
    "\n",
    "#-- Tensor to vector (reshape):\n",
    "class Flatten(nn.Module):\n",
    "    def forward(self, mX):\n",
    "        N  = mX.shape[0]\n",
    "        mZ = mX.view(N, -1)\n",
    "        return mZ\n",
    "\n",
    "#--------------------------------------------------------------------------------#\n",
    "#--------------------------------------------------------------------------------#\n",
    "#-- Model:\n",
    "def GetModel():\n",
    "    oModel = nn.Sequential(\n",
    "        nn.Sequential(), #-- does nothing\n",
    "        Flatten(),\n",
    "        nn.Linear(3*32*32, 500), nn.ReLU(),\n",
    "        nn.Linear(500,     250), nn.ReLU(),\n",
    "        nn.Linear(250,      10)\n",
    "    )\n",
    "    return oModel\n",
    "\n",
    "#--------------------------------------------------------------------------------#\n",
    "#--------------------------------------------------------------------------------#\n",
    "torchsummary.summary(GetModel(), (3, H, W), device='cpu'); print()"
   ]
  },
  {
   "cell_type": "markdown",
   "metadata": {},
   "source": [
    "#### Set cross-entropy loss:"
   ]
  },
  {
   "cell_type": "code",
   "execution_count": 15,
   "metadata": {},
   "outputs": [],
   "source": [
    "LossFunc = nn.CrossEntropyLoss()"
   ]
  },
  {
   "cell_type": "markdown",
   "metadata": {},
   "source": [
    "### Check whether GPU is available:"
   ]
  },
  {
   "cell_type": "code",
   "execution_count": 16,
   "metadata": {},
   "outputs": [
    {
     "data": {
      "text/plain": [
       "device(type='cuda', index=0)"
      ]
     },
     "execution_count": 16,
     "metadata": {},
     "output_type": "execute_result"
    }
   ],
   "source": [
    "device = torch.device(\"cuda:0\" if torch.cuda.is_available() else \"cpu\") \n",
    "device"
   ]
  },
  {
   "cell_type": "markdown",
   "metadata": {},
   "source": [
    "### Train the model:"
   ]
  },
  {
   "cell_type": "code",
   "execution_count": 17,
   "metadata": {},
   "outputs": [
    {
     "name": "stdout",
     "output_type": "stream",
     "text": [
      "Epoch   0: | Train loss: 1.70577 | Val loss: 1.53966 | Train Accuracy: 0.4008 | Val Accuracy: 0.4686 | epoch time:   10.608 | <-- Checkpoint!\n",
      "Epoch   1: | Train loss: 1.48256 | Val loss: 1.45639 | Train Accuracy: 0.4811 | Val Accuracy: 0.4871 | epoch time:   11.602 | <-- Checkpoint!\n",
      "Epoch   2: | Train loss: 1.37918 | Val loss: 1.40531 | Train Accuracy: 0.5201 | Val Accuracy: 0.5045 | epoch time:   10.260 | <-- Checkpoint!\n",
      "Epoch   3: | Train loss: 1.30310 | Val loss: 1.37140 | Train Accuracy: 0.5490 | Val Accuracy: 0.5201 | epoch time:   10.045 | <-- Checkpoint!\n",
      "Epoch   4: | Train loss: 1.24127 | Val loss: 1.35288 | Train Accuracy: 0.5714 | Val Accuracy: 0.5297 | epoch time:    9.989 | <-- Checkpoint!\n",
      "Epoch   5: | Train loss: 1.18667 | Val loss: 1.33525 | Train Accuracy: 0.5920 | Val Accuracy: 0.5324 | epoch time:    9.903 | <-- Checkpoint!\n",
      "Epoch   6: | Train loss: 1.13517 | Val loss: 1.32282 | Train Accuracy: 0.6122 | Val Accuracy: 0.5382 | epoch time:   10.021 | <-- Checkpoint!\n",
      "Epoch   7: | Train loss: 1.08609 | Val loss: 1.31269 | Train Accuracy: 0.6294 | Val Accuracy: 0.5443 | epoch time:    9.899 | <-- Checkpoint!\n",
      "Epoch   8: | Train loss: 1.04187 | Val loss: 1.32818 | Train Accuracy: 0.6452 | Val Accuracy: 0.5367 | epoch time:   12.085 |\n",
      "Epoch   9: | Train loss: 0.99759 | Val loss: 1.31937 | Train Accuracy: 0.6603 | Val Accuracy: 0.5396 | epoch time:   10.911 |\n",
      "Epoch  10: | Train loss: 0.95568 | Val loss: 1.32007 | Train Accuracy: 0.6757 | Val Accuracy: 0.5482 | epoch time:   11.133 | <-- Checkpoint!\n",
      "Epoch  11: | Train loss: 0.91626 | Val loss: 1.32745 | Train Accuracy: 0.6892 | Val Accuracy: 0.5471 | epoch time:   10.955 |\n",
      "Epoch  12: | Train loss: 0.87527 | Val loss: 1.32966 | Train Accuracy: 0.7041 | Val Accuracy: 0.5522 | epoch time:   11.440 | <-- Checkpoint!\n",
      "Epoch  13: | Train loss: 0.83906 | Val loss: 1.33385 | Train Accuracy: 0.7180 | Val Accuracy: 0.5503 | epoch time:   11.848 |\n",
      "Epoch  14: | Train loss: 0.80036 | Val loss: 1.35345 | Train Accuracy: 0.7320 | Val Accuracy: 0.5521 | epoch time:   11.703 |\n",
      "Epoch  15: | Train loss: 0.76184 | Val loss: 1.36448 | Train Accuracy: 0.7460 | Val Accuracy: 0.5480 | epoch time:   11.315 |\n",
      "Epoch  16: | Train loss: 0.72546 | Val loss: 1.37318 | Train Accuracy: 0.7591 | Val Accuracy: 0.5496 | epoch time:   11.922 |\n",
      "Epoch  17: | Train loss: 0.69143 | Val loss: 1.38798 | Train Accuracy: 0.7703 | Val Accuracy: 0.5497 | epoch time:   11.723 |\n",
      "Epoch  18: | Train loss: 0.65859 | Val loss: 1.41985 | Train Accuracy: 0.7846 | Val Accuracy: 0.5432 | epoch time:   11.240 |\n",
      "Epoch  19: | Train loss: 0.62532 | Val loss: 1.43764 | Train Accuracy: 0.7965 | Val Accuracy: 0.5522 | epoch time:   11.110 |\n"
     ]
    }
   ],
   "source": [
    "oModel    = GetModel().to(device)\n",
    "oOptim    = optim.AdamW(oModel.parameters(), lr=1e-4, betas=(0.9, 0.99), weight_decay=1e-4)\n",
    "numEpochs = 20\n",
    "\n",
    "TrainModel(oModel, oTrainDL, oTestDL, LossFunc, numEpochs, oOptim)"
   ]
  },
  {
   "cell_type": "markdown",
   "metadata": {},
   "source": [
    "### Regression exercise:\n",
    "* Use the California housing dataset `fetch_california_housing`.\n",
    "* Use MSE loss (instead of the cross-entropy)\n",
    "* Replace the classification accuracy with $R^2$ score.\n",
    "* Try to get the best MSE\\R2 score you can.\n",
    "\n",
    "**Tips**:\n",
    "* You should test different models (layers\\activations) and hyper-parameters.\n",
    "* Try different optimizers and regularizations.\n",
    "* $R_2 > 0.85$ (on the validation set) is quite good."
   ]
  },
  {
   "cell_type": "code",
   "execution_count": 18,
   "metadata": {},
   "outputs": [
    {
     "data": {
      "text/plain": [
       "((20640, 8), (20640,))"
      ]
     },
     "execution_count": 18,
     "metadata": {},
     "output_type": "execute_result"
    }
   ],
   "source": [
    "from sklearn.datasets import fetch_california_housing\n",
    "\n",
    "mX, vY  = fetch_california_housing(return_X_y=True)\n",
    "mX     -= np.mean(mX, axis=0)\n",
    "mX     /= np.std (mX, axis=0)\n",
    "\n",
    "mX.shape, vY.shape"
   ]
  },
  {
   "cell_type": "code",
   "execution_count": 19,
   "metadata": {},
   "outputs": [
    {
     "data": {
      "text/plain": [
       "((15000, 8), (15000,), (5640, 8), (5640,))"
      ]
     },
     "execution_count": 19,
     "metadata": {},
     "output_type": "execute_result"
    }
   ],
   "source": [
    "from sklearn.model_selection import train_test_split\n",
    "\n",
    "Ntrain  = 15000\n",
    "Ntest   = 5640\n",
    "vIdx    = np.random.choice(Ntrain + Ntest, Ntrain + Ntest)\n",
    "mX      = mX[vIdx,:]\n",
    "vY      = vY[vIdx]\n",
    "\n",
    "mTrainX, mTestX, vTrainY, vTestY = train_test_split(mX, vY, train_size=Ntrain, test_size=Ntest)\n",
    "\n",
    "(mTrainX.shape, \n",
    "vTrainY.shape, \n",
    "mTestX.shape,  \n",
    "vTestY.shape)"
   ]
  },
  {
   "cell_type": "code",
   "execution_count": 20,
   "metadata": {},
   "outputs": [],
   "source": [
    "from torch.utils.data import TensorDataset\n",
    "\n",
    "oTrainSet = TensorDataset(torch.tensor(mTrainX, dtype=torch.float32), torch.tensor(vTrainY, dtype=torch.float32))\n",
    "oTestSet  = TensorDataset(torch.tensor(mTestX,  dtype=torch.float32), torch.tensor(vTestY,  dtype=torch.float32))"
   ]
  },
  {
   "cell_type": "code",
   "execution_count": 21,
   "metadata": {},
   "outputs": [
    {
     "ename": "SyntaxError",
     "evalue": "invalid syntax (<ipython-input-21-6842a6d38f10>, line 6)",
     "output_type": "error",
     "traceback": [
      "\u001b[1;36m  File \u001b[1;32m\"<ipython-input-21-6842a6d38f10>\"\u001b[1;36m, line \u001b[1;32m6\u001b[0m\n\u001b[1;33m    return r2_score(???, ???)\u001b[0m\n\u001b[1;37m                    ^\u001b[0m\n\u001b[1;31mSyntaxError\u001b[0m\u001b[1;31m:\u001b[0m invalid syntax\n"
     ]
    }
   ],
   "source": [
    "from sklearn.metrics import r2_score\n",
    "\n",
    "def R2Score(vY, vHatY):\n",
    "    vY    = vY.detach().cpu()\n",
    "    vHatY = vHatY.detach().cpu()\n",
    "    return r2_score(???, ???)"
   ]
  },
  {
   "cell_type": "code",
   "execution_count": null,
   "metadata": {},
   "outputs": [],
   "source": [
    "def TrainLoop(oModel, oTrainDL, LossFunc, oOptim):\n",
    "\n",
    "    epochLoss = 0\n",
    "    epochR2   = 0\n",
    "    count     = 0                                #-- number of samples\n",
    "    device    = next(oModel.parameters()).device #-- CPU\\GPU\n",
    "    oModel.train(True)\n",
    "        \n",
    "    #-- Iterate over the mini-batches:\n",
    "    for ii, (mX, vY) in enumerate(oTrainDL):\n",
    "        #-- Move to device (CPU\\GPU):\n",
    "        mX = ???\n",
    "        vY = ???\n",
    "        \n",
    "        #-- Set gradients to zeros:\n",
    "        ???\n",
    "        \n",
    "        #-- Forward:\n",
    "        vHatY = oModel(mX).squeeze()\n",
    "        loss  = LossFunc(vHatY, vY)\n",
    "\n",
    "        #-- Backward:\n",
    "        ???\n",
    "\n",
    "        #-- Parameters update:\n",
    "        ???\n",
    "        \n",
    "        print(f'Iteration: {ii:3d}: loss = {loss:.6f}\\r', end='')\n",
    "        #-- Accumulate loss:\n",
    "        Nb         = mX.shape[0]\n",
    "        epochLoss += Nb * loss.item()\n",
    "        epochR2   += Nb * ???\n",
    "        count     += Nb\n",
    "\n",
    "    epochLoss /= count\n",
    "    epochR2   /= count\n",
    "   \n",
    "    return epochLoss, epochR2"
   ]
  },
  {
   "cell_type": "code",
   "execution_count": null,
   "metadata": {},
   "outputs": [],
   "source": [
    "def ValidationLoop(oModel, oValDL, LossFunc):\n",
    "\n",
    "    if oValDL is None:\n",
    "        return 0, 0\n",
    "    \n",
    "    epochLoss = 0\n",
    "    epochR2   = 0\n",
    "    count     = 0                                #-- number of samples\n",
    "    device    = next(oModel.parameters()).device #-- CPU\\GPU\n",
    "    \n",
    "    #-- Iterate over the mini-batches:\n",
    "    oModel.train(False)\n",
    "    with torch.no_grad():\n",
    "        for ii, (mX, vY) in enumerate(oValDL):\n",
    "            #-- Move to device (CPU\\GPU):\n",
    "            mX = ???\n",
    "            vY = ???\n",
    "            \n",
    "            #-- Forward:\n",
    "            vHatY = oModel(mX).squeeze()\n",
    "            loss  = ???\n",
    "\n",
    "            Nb         = mX.shape[0]\n",
    "            epochLoss += Nb * loss.item()\n",
    "            epochR2   += Nb * ???\n",
    "            count     += Nb\n",
    "\n",
    "    epochLoss /= count\n",
    "    epochR2   /= count\n",
    "\n",
    "    return epochLoss, epochR2"
   ]
  },
  {
   "cell_type": "code",
   "execution_count": null,
   "metadata": {},
   "outputs": [],
   "source": [
    "import time\n",
    "\n",
    "def TrainModel(oModel, oTrainDL, oValDL, LossFunc, numEpochs, oOptim):\n",
    "\n",
    "    bestR2 = 0\n",
    "    for epoch in range(numEpochs):\n",
    "        \n",
    "        startTime          = time.time()\n",
    "        trainLoss, trainR2 = TrainLoop     (oModel, oTrainDL, LossFunc, oOptim) #-- train\n",
    "        valLoss,   valR2   = ValidationLoop(oModel, oValDL,   LossFunc)         #-- validation\n",
    "        \n",
    "        #-- Display:\n",
    "        endTime = time.time()\n",
    "        print('Epoch '              f'{epoch:3d}:',                  end='')\n",
    "        print(' | Train loss: '     f'{trainLoss:.5f}',              end='')\n",
    "        print(' | Val loss: '       f'{valLoss:.5f}',                end='')\n",
    "        print(' | Train R2 score: ' f'{trainR2:2.4f}',               end='')\n",
    "        print(' | Val R2 score: '   f'{valR2:2.4f}',                 end='')\n",
    "        print(' | epoch time: '     f'{(endTime-startTime):3.3f} |', end='')\n",
    "        \n",
    "        #-- Save best model:\n",
    "        if valR2 > bestR2:\n",
    "            bestR2 = valR2\n",
    "            try:\n",
    "                torch.save(oModel.state_dict(), 'BestModelParameters.pt')\n",
    "            except:\n",
    "                pass\n",
    "            print(' <-- Checkpoint!')\n",
    "        else:\n",
    "            print()\n",
    "\n",
    "    #-- Return best model:\n",
    "    oModel.load_state_dict(torch.load('BestModelParameters.pt'))"
   ]
  },
  {
   "cell_type": "code",
   "execution_count": null,
   "metadata": {},
   "outputs": [],
   "source": [
    "batchSize = ???\n",
    "oTrainDL  = torch.utils.data.DataLoader(oTrainSet, shuffle=True,  batch_size=batchSize,   num_workers=2)\n",
    "oTestDL   = torch.utils.data.DataLoader(oTestSet,  shuffle=False, batch_size=2*batchSize, num_workers=2)"
   ]
  },
  {
   "cell_type": "code",
   "execution_count": null,
   "metadata": {},
   "outputs": [],
   "source": [
    "import torch.nn            as nn\n",
    "import torch.nn.functional as F\n",
    "import torch.optim         as optim\n",
    "import torchsummary\n",
    "\n",
    "#-- Model:\n",
    "def GetModel():\n",
    "    oModel = nn.Sequential(\n",
    "        ???\n",
    "    )\n",
    "    return oModel\n",
    "\n",
    "#--------------------------------------------------------------------------------#\n",
    "#--------------------------------------------------------------------------------#\n",
    "torchsummary.summary(GetModel(), (8,), device='cpu'); print()"
   ]
  },
  {
   "cell_type": "code",
   "execution_count": null,
   "metadata": {},
   "outputs": [],
   "source": [
    "LossFunc = ???"
   ]
  },
  {
   "cell_type": "code",
   "execution_count": null,
   "metadata": {},
   "outputs": [],
   "source": [
    "device = torch.device(\"cuda:0\" if torch.cuda.is_available() else \"cpu\") \n",
    "device"
   ]
  },
  {
   "cell_type": "code",
   "execution_count": null,
   "metadata": {},
   "outputs": [],
   "source": [
    "oModel    = GetModel().to(device)\n",
    "oOptim    = optim.AdamW(oModel.parameters(), lr=???, betas=(0.9, 0.99), weight_decay=2e-5)\n",
    "numEpochs = ???\n",
    "\n",
    "TrainModel(oModel, oTrainDL, oTestDL, LossFunc, numEpochs, oOptim)"
   ]
  },
  {
   "cell_type": "code",
   "execution_count": null,
   "metadata": {},
   "outputs": [],
   "source": [
    "%matplotlib inline\n",
    "\n",
    "from sklearn.metrics import r2_score\n",
    "\n",
    "#-- Apply model to data:\n",
    "vHatTrainY = oModel.Forward(mTrainX.T).squeeze()\n",
    "vHatTestY  = oModel.Forward(mTestX.T).squeeze()\n",
    "\n",
    "_, ax = plt.subplots(1, 2, figsize=(16, 7))\n",
    "\n",
    "ax[0].scatter(vTrainY, vHatTrainY, s=10, c='b', edgecolor=None)\n",
    "ax[1].scatter(vTestY,  vHatTestY,  s=10, c='b', edgecolor=None)\n",
    "ax[0].plot(vTrainY,    vTrainY, ':k')\n",
    "ax[1].plot(vTestY,     vTestY, ':k')\n",
    "ax[0].set_title('Train $R^2$ score:' f'{r2_score(vTrainY, vHatTrainY)}')\n",
    "ax[1].set_title('Test $R^2$ score:'  f'{r2_score(vTestY,  vHatTestY)}')\n",
    "ax[0].set_xlabel('$y_i$')\n",
    "ax[1].set_xlabel('$y_i$')\n",
    "ax[0].set_ylabel('$\\hat{y}_i$')\n",
    "ax[1].set_ylabel('$\\hat{y}_i$')\n",
    "plt.tight_layout()\n",
    "plt.show()"
   ]
  }
 ],
 "metadata": {
  "kernelspec": {
   "display_name": "Python 3",
   "language": "python",
   "name": "python3"
  },
  "language_info": {
   "codemirror_mode": {
    "name": "ipython",
    "version": 3
   },
   "file_extension": ".py",
   "mimetype": "text/x-python",
   "name": "python",
   "nbconvert_exporter": "python",
   "pygments_lexer": "ipython3",
   "version": "3.8.6"
  },
  "toc": {
   "base_numbering": 1,
   "nav_menu": {},
   "number_sections": false,
   "sideBar": true,
   "skip_h1_title": false,
   "title_cell": "Table of Contents",
   "title_sidebar": "Contents",
   "toc_cell": false,
   "toc_position": {},
   "toc_section_display": true,
   "toc_window_display": false
  },
  "varInspector": {
   "cols": {
    "lenName": 16,
    "lenType": 16,
    "lenVar": 40
   },
   "kernels_config": {
    "python": {
     "delete_cmd_postfix": "",
     "delete_cmd_prefix": "del ",
     "library": "var_list.py",
     "varRefreshCmd": "print(var_dic_list())"
    },
    "r": {
     "delete_cmd_postfix": ") ",
     "delete_cmd_prefix": "rm(",
     "library": "var_list.r",
     "varRefreshCmd": "cat(var_dic_list()) "
    }
   },
   "oldHeight": 413,
   "position": {
    "height": "435px",
    "left": "1650px",
    "right": "20px",
    "top": "120px",
    "width": "250px"
   },
   "types_to_exclude": [
    "module",
    "function",
    "builtin_function_or_method",
    "instance",
    "_Feature"
   ],
   "varInspector_section_display": "block",
   "window_display": true
  }
 },
 "nbformat": 4,
 "nbformat_minor": 4
}
