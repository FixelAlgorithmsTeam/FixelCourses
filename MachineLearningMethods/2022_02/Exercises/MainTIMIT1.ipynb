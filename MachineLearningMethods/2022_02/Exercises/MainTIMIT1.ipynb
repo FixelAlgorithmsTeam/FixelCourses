{
 "cells": [
  {
   "cell_type": "code",
   "execution_count": 1,
   "metadata": {},
   "outputs": [
    {
     "data": {
      "text/plain": [
       "((10000, 41), (10000,))"
      ]
     },
     "execution_count": 1,
     "metadata": {},
     "output_type": "execute_result"
    }
   ],
   "source": [
    "from scipy.io import loadmat\n",
    "\n",
    "dData = loadmat('TIMIT_Train.mat')\n",
    "mX    = dData['mX']\n",
    "vY    = dData['vY'].squeeze()\n",
    "mX.shape, vY.shape"
   ]
  },
  {
   "cell_type": "code",
   "execution_count": null,
   "metadata": {},
   "outputs": [],
   "source": []
  },
  {
   "cell_type": "code",
   "execution_count": null,
   "metadata": {},
   "outputs": [],
   "source": []
  },
  {
   "cell_type": "code",
   "execution_count": 2,
   "metadata": {},
   "outputs": [],
   "source": [
    "import numpy as np"
   ]
  },
  {
   "cell_type": "code",
   "execution_count": 3,
   "metadata": {},
   "outputs": [],
   "source": [
    "from scipy.io import loadmat"
   ]
  },
  {
   "cell_type": "code",
   "execution_count": 4,
   "metadata": {},
   "outputs": [
    {
     "data": {
      "text/plain": [
       "dict_keys(['__header__', '__version__', '__globals__', 'trainSet', 'testSet'])"
      ]
     },
     "execution_count": 4,
     "metadata": {},
     "output_type": "execute_result"
    }
   ],
   "source": [
    "d = loadmat('data.mat')\n",
    "d.keys()"
   ]
  },
  {
   "cell_type": "code",
   "execution_count": 5,
   "metadata": {},
   "outputs": [
    {
     "data": {
      "text/plain": [
       "((10000, 41), (10000,))"
      ]
     },
     "execution_count": 5,
     "metadata": {},
     "output_type": "execute_result"
    }
   ],
   "source": [
    "mX = d['trainSet'][0][0][0].T\n",
    "vY = d['trainSet'][0][0][1].squeeze()\n",
    "mX.shape, vY.shape"
   ]
  },
  {
   "cell_type": "code",
   "execution_count": 6,
   "metadata": {},
   "outputs": [],
   "source": [
    "from sklearn.linear_model    import LogisticRegression\n",
    "from sklearn.svm             import SVC\n",
    "from sklearn.ensemble        import RandomForestClassifier, AdaBoostClassifier\n",
    "from sklearn.model_selection import cross_val_predict, KFold"
   ]
  },
  {
   "cell_type": "code",
   "execution_count": 7,
   "metadata": {},
   "outputs": [],
   "source": [
    "mX -= mX.mean(0)\n",
    "mX /= mX.std(0)"
   ]
  },
  {
   "cell_type": "code",
   "execution_count": 8,
   "metadata": {},
   "outputs": [
    {
     "name": "stdout",
     "output_type": "stream",
     "text": [
      "SVM = 0.8895\n",
      "LR = 0.8605\n",
      "RF = 0.8756\n",
      "Adaboost = 0.8606\n"
     ]
    }
   ],
   "source": [
    "l = []\n",
    "l.append(('SVM',      SVC()))\n",
    "l.append(('LR',       LogisticRegression()))\n",
    "l.append(('RF',       RandomForestClassifier()))\n",
    "l.append(('Adaboost', AdaBoostClassifier()))\n",
    "\n",
    "oKFold = KFold(20, shuffle=True, random_state=0)\n",
    "for sName, oClf in l:\n",
    "    vHatY    = cross_val_predict(oClf, mX, vY, cv=oKFold)\n",
    "    accuracy = np.mean(vY == vHatY)\n",
    "    print(f'{sName} = {accuracy}')"
   ]
  },
  {
   "cell_type": "code",
   "execution_count": 9,
   "metadata": {},
   "outputs": [
    {
     "data": {
      "text/plain": [
       "((5000, 41), (5000,))"
      ]
     },
     "execution_count": 9,
     "metadata": {},
     "output_type": "execute_result"
    }
   ],
   "source": [
    "mTestX = d['testSet'][0][0][0].T\n",
    "vTestY = d['testSet'][0][0][1].squeeze()\n",
    "mTestX.shape, vTestY.shape"
   ]
  },
  {
   "cell_type": "code",
   "execution_count": 10,
   "metadata": {},
   "outputs": [],
   "source": [
    "mTestX -= mTestX.mean(0)\n",
    "mTestX /= mTestX.std(0)"
   ]
  },
  {
   "cell_type": "code",
   "execution_count": 11,
   "metadata": {},
   "outputs": [],
   "source": [
    "mX -= mX.mean(0)\n",
    "mX /= mX.std(0)"
   ]
  },
  {
   "cell_type": "code",
   "execution_count": 12,
   "metadata": {},
   "outputs": [
    {
     "data": {
      "text/plain": [
       "0.8631"
      ]
     },
     "execution_count": 12,
     "metadata": {},
     "output_type": "execute_result"
    }
   ],
   "source": [
    "oKFold2 = KFold(5, shuffle=True, random_state=0)\n",
    "vHatY   = cross_val_predict(SVC(C=2, kernel='linear'), mX, vY, cv=oKFold2)\n",
    "np.mean(vY == vHatY)"
   ]
  },
  {
   "cell_type": "code",
   "execution_count": 13,
   "metadata": {},
   "outputs": [
    {
     "data": {
      "text/plain": [
       "0.8708"
      ]
     },
     "execution_count": 13,
     "metadata": {},
     "output_type": "execute_result"
    }
   ],
   "source": [
    "oSVM = SVC(C=0.001, kernel='linear').fit(mX, vY)\n",
    "oSVM.score(mTestX, vTestY)"
   ]
  },
  {
   "cell_type": "code",
   "execution_count": 14,
   "metadata": {},
   "outputs": [
    {
     "data": {
      "text/plain": [
       "array([1., 1., 1., 1., 1., 1., 1., 1., 1., 1., 1., 1., 1., 1., 1., 1., 1.,\n",
       "       1., 1., 1., 1., 1., 1., 1., 1., 1., 1., 1., 1., 1., 1., 1., 1., 1.,\n",
       "       1., 1., 1., 1., 1., 1., 1.])"
      ]
     },
     "execution_count": 14,
     "metadata": {},
     "output_type": "execute_result"
    }
   ],
   "source": [
    "mTestX.std(0)"
   ]
  },
  {
   "cell_type": "code",
   "execution_count": 15,
   "metadata": {},
   "outputs": [],
   "source": [
    "from metric_learn import LFDA\n",
    "\n",
    "mZ = LFDA(n_components=10).fit_transform(mX, vY)"
   ]
  },
  {
   "cell_type": "code",
   "execution_count": 16,
   "metadata": {},
   "outputs": [
    {
     "name": "stdout",
     "output_type": "stream",
     "text": [
      "SVM = 0.8662\n",
      "LR = 0.8605\n",
      "RF = 0.8633\n",
      "Adaboost = 0.8591\n"
     ]
    }
   ],
   "source": [
    "l = []\n",
    "l.append(('SVM',      SVC()))\n",
    "l.append(('LR',       LogisticRegression()))\n",
    "l.append(('RF',       RandomForestClassifier()))\n",
    "l.append(('Adaboost', AdaBoostClassifier()))\n",
    "\n",
    "oKFold = KFold(20, shuffle=True, random_state=0)\n",
    "for sName, oClf in l:\n",
    "    vHatY    = cross_val_predict(oClf, mZ, vY, cv=oKFold)\n",
    "    accuracy = np.mean(vY == vHatY)\n",
    "    print(f'{sName} = {accuracy}')"
   ]
  },
  {
   "cell_type": "code",
   "execution_count": null,
   "metadata": {},
   "outputs": [],
   "source": []
  },
  {
   "cell_type": "code",
   "execution_count": null,
   "metadata": {},
   "outputs": [],
   "source": []
  },
  {
   "cell_type": "code",
   "execution_count": 25,
   "metadata": {},
   "outputs": [
    {
     "data": {
      "text/plain": [
       "0.8602"
      ]
     },
     "execution_count": 25,
     "metadata": {},
     "output_type": "execute_result"
    }
   ],
   "source": [
    "from sklearn.tree import DecisionTreeClassifier\n",
    "\n",
    "oTree    = DecisionTreeClassifier(max_leaf_nodes=2)\n",
    "vHatY    = cross_val_predict(AdaBoostClassifier(n_estimators=50, learning_rate=0.5), mX, vY, cv=KFold(50, shuffle=True))\n",
    "np.mean(vY == vHatY)"
   ]
  }
 ],
 "metadata": {
  "kernelspec": {
   "display_name": "Python 3",
   "language": "python",
   "name": "python3"
  },
  "language_info": {
   "codemirror_mode": {
    "name": "ipython",
    "version": 3
   },
   "file_extension": ".py",
   "mimetype": "text/x-python",
   "name": "python",
   "nbconvert_exporter": "python",
   "pygments_lexer": "ipython3",
   "version": "3.8.6"
  }
 },
 "nbformat": 4,
 "nbformat_minor": 4
}
