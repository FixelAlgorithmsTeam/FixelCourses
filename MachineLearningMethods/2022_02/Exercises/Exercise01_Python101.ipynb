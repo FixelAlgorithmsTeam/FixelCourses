{
 "cells": [
  {
   "cell_type": "markdown",
   "metadata": {},
   "source": [
    "![Fixel Algorithms](https://fixelalgorithms.co/images/CCExt.png)"
   ]
  },
  {
   "cell_type": "markdown",
   "metadata": {},
   "source": [
    "# <center> Machine Learning Methods </center>\n",
    "## <center> Exercise 01 - Python 101 </center>"
   ]
  },
  {
   "cell_type": "markdown",
   "metadata": {},
   "source": [
    "[![Open In Colab](https://colab.research.google.com/assets/colab-badge.svg)](https://colab.research.google.com/github/FixelAlgorithmsTeam/FixelCourses/blob/master/MachineLearningMethod/Exercises/Exercise01_Python101.ipynb)"
   ]
  },
  {
   "cell_type": "markdown",
   "metadata": {},
   "source": [
    "### Q1 - Fibonacci sequence\n",
    "The Fibonacci sequence $\\left\\{ a_{n}\\right\\} _{n=0}^{\\infty}$ is defined by:\n",
    "$$a_{n}=\\begin{cases}\n",
    "0 & n=0\\\\\n",
    "1 & n=1\\\\\n",
    "a_{n-1}+a_{n-2} & n\\geq2\n",
    "\\end{cases}$$\n",
    "The first few elements are:\n",
    "$$0,1,1,2,3,5,8,13,21,\\dots$$\n",
    "\n",
    "\n",
    "Implement the function `Fibonacci(n)` that computes the $n$th Fibonacci number.  \n",
    "Options:\n",
    "1. Use a `for` loop.\n",
    "2. Use recursion.\n",
    "3. **(Extra)** using a closed form expression.\n",
    "\n",
    "<div class=\"alert alert-block alert-info\">\n",
    "<span style=\"color:black\">\n",
    "    \n",
    "**Tips:**\n",
    "* for loop:\n",
    "```python\n",
    "for ii in range(10):\n",
    "    print(ii)\n",
    "```\n",
    "* You may use the following line:\n",
    "```python\n",
    "n1, n0 = n0 + n1, n1\n",
    "```\n",
    "</span>\n",
    "</div>\n"
   ]
  },
  {
   "cell_type": "code",
   "execution_count": 1,
   "metadata": {
    "ExecuteTime": {
     "end_time": "2022-01-31T19:45:35.089951Z",
     "start_time": "2022-01-31T19:45:35.083945Z"
    }
   },
   "outputs": [],
   "source": [
    "def Fibonacci(n):\n",
    "    pass"
   ]
  },
  {
   "cell_type": "code",
   "execution_count": 2,
   "metadata": {
    "ExecuteTime": {
     "end_time": "2022-01-31T19:45:35.105966Z",
     "start_time": "2022-01-31T19:45:35.090952Z"
    }
   },
   "outputs": [
    {
     "name": "stdout",
     "output_type": "stream",
     "text": [
      "Fibonacci sequence:\n"
     ]
    },
    {
     "data": {
      "text/plain": [
       "[None,\n",
       " None,\n",
       " None,\n",
       " None,\n",
       " None,\n",
       " None,\n",
       " None,\n",
       " None,\n",
       " None,\n",
       " None,\n",
       " None,\n",
       " None,\n",
       " None,\n",
       " None,\n",
       " None]"
      ]
     },
     "execution_count": 2,
     "metadata": {},
     "output_type": "execute_result"
    }
   ],
   "source": [
    "print('Fibonacci sequence:')\n",
    "[Fibonacci(ii) for ii in range(15)]"
   ]
  },
  {
   "cell_type": "markdown",
   "metadata": {},
   "source": [
    "### Q2 - Sorting\n",
    "Implement the sort function `Sort(arr)` .  \n",
    "Options (choose one):\n",
    "* Bubble sort\n",
    "* Merge sort\n",
    "* Quick sort\n",
    "\n",
    "**Extra:** Add a boolean flag for an in-place operation.\n",
    "\n",
    "<div class=\"alert alert-block alert-info\">\n",
    "<span style=\"color:black\">\n",
    "    \n",
    "**Tips:**\n",
    "* if condition:\n",
    "```python\n",
    "if a > b:\n",
    "    print('a is larger')\n",
    "```\n",
    "* copy a list (or a `numpy` array):\n",
    "```python\n",
    "    arr2 = arr.copy()\n",
    "```\n",
    "</span>\n",
    "</div>"
   ]
  },
  {
   "cell_type": "code",
   "execution_count": 3,
   "metadata": {
    "ExecuteTime": {
     "end_time": "2022-01-31T19:45:35.121975Z",
     "start_time": "2022-01-31T19:45:35.106966Z"
    }
   },
   "outputs": [],
   "source": [
    "def Sort(arr, bInplace=False):\n",
    "    pass"
   ]
  },
  {
   "cell_type": "code",
   "execution_count": 4,
   "metadata": {
    "ExecuteTime": {
     "end_time": "2022-01-31T19:45:35.217061Z",
     "start_time": "2022-01-31T19:45:35.122976Z"
    }
   },
   "outputs": [
    {
     "name": "stdout",
     "output_type": "stream",
     "text": [
      "before: [28 19 13 44 10 18 31 34 29  3 39 93 70 71 69]\n",
      "after : None\n"
     ]
    }
   ],
   "source": [
    "import numpy as np\n",
    "\n",
    "arr  = np.random.randint(0, 100, 15)\n",
    "arr2 = Sort(arr)\n",
    "\n",
    "print(f'before: {arr }')\n",
    "print(f'after : {arr2}')"
   ]
  },
  {
   "cell_type": "markdown",
   "metadata": {},
   "source": [
    "### Q3 - Monte Carlo\n",
    "Estimate $\\pi$ using the following steps:\n",
    "1. set `count = 0`\n",
    "2. For ii = 1,2,3,...,N:  \n",
    "    2.1 draw a point $\\boldsymbol{x}\\sim U\\left[0,1\\right]^{2}$.  \n",
    "    2.2 if $\\left\\Vert \\boldsymbol{x}\\right\\Vert _{2}\\leq1$:  \n",
    "    * `count` $\\leftarrow$  `count+1`\n",
    "3. set $\\hat{\\pi}=4\\frac{\\text{count}}{N}$\n",
    "\n",
    "**Extra:**\n",
    "Repeat the exercise without using loops.\n",
    "\n",
    "<div class=\"alert alert-block alert-info\">\n",
    "<span style=\"color:black\">\n",
    "    \n",
    "**Tip:**\n",
    "* Use `numpy.random.rand` to draw numbers between 0 and 1.\n",
    "</span>\n",
    "</div>"
   ]
  },
  {
   "cell_type": "code",
   "execution_count": 5,
   "metadata": {
    "ExecuteTime": {
     "end_time": "2022-01-31T19:45:35.233076Z",
     "start_time": "2022-01-31T19:45:35.218062Z"
    }
   },
   "outputs": [],
   "source": [
    "def EstimatePi(N):\n",
    "    pass"
   ]
  },
  {
   "cell_type": "code",
   "execution_count": 6,
   "metadata": {
    "ExecuteTime": {
     "end_time": "2022-01-31T19:45:35.248089Z",
     "start_time": "2022-01-31T19:45:35.234077Z"
    }
   },
   "outputs": [
    {
     "name": "stdout",
     "output_type": "stream",
     "text": [
      "Monte Carlo estimation: None\n",
      "                    ℼ = 3.141592653589793\n"
     ]
    }
   ],
   "source": [
    "print(f'Monte Carlo estimation: {EstimatePi(100000)}')\n",
    "print(f'                    ℼ = {np.pi}')"
   ]
  },
  {
   "cell_type": "markdown",
   "metadata": {},
   "source": [
    "### Q4 - Rotation\n",
    "Consider the following smiley\n",
    "#### Generate data:"
   ]
  },
  {
   "cell_type": "code",
   "execution_count": 7,
   "metadata": {
    "ExecuteTime": {
     "end_time": "2022-01-31T19:45:35.456278Z",
     "start_time": "2022-01-31T19:45:35.249091Z"
    }
   },
   "outputs": [
    {
     "data": {
      "text/plain": [
       "(2, 180)"
      ]
     },
     "execution_count": 7,
     "metadata": {},
     "output_type": "execute_result"
    }
   ],
   "source": [
    "import matplotlib.pyplot as plt\n",
    "\n",
    "R    = 1\n",
    "r    = .7\n",
    "ℼ    = np.pi\n",
    "θ    = np.linspace(0,    2*ℼ, 100, endpoint=False)\n",
    "φ    = np.linspace(-ℼ/4, ℼ/4, 20,  endpoint=False) - ℼ/2\n",
    "ball = np.random.randn(30, 2) / 20\n",
    "\n",
    "face   = np.c_[R*np.cos(θ), R*np.sin(θ)]\n",
    "mouth  = np.c_[r*np.cos(φ), r*np.sin(φ)]\n",
    "eye1   = ball + [0.4, 0.5]\n",
    "eye2   = eye1 * [-1,  1]\n",
    "smiley = np.concatenate([face, mouth, eye1, eye2]).T\n",
    "smiley.shape"
   ]
  },
  {
   "cell_type": "markdown",
   "metadata": {},
   "source": [
    "#### Plot data:"
   ]
  },
  {
   "cell_type": "code",
   "execution_count": 8,
   "metadata": {
    "ExecuteTime": {
     "end_time": "2022-01-31T19:45:35.552366Z",
     "start_time": "2022-01-31T19:45:35.457280Z"
    }
   },
   "outputs": [
    {
     "data": {
      "image/png": "[encoded data removed]",
      "text/plain": [
       "<Figure size 640x480 with 1 Axes>"
      ]
     },
     "metadata": {},
     "output_type": "display_data"
    }
   ],
   "source": [
    "plt.scatter(smiley[0,:], smiley[1,:], s=50, c='b')\n",
    "plt.axis('equal')\n",
    "plt.show()"
   ]
  },
  {
   "cell_type": "markdown",
   "metadata": {},
   "source": [
    "The data is stored in the matrix `smiley` with shape `smiley.shape = (2, 180)`    \n",
    "In other words $\\mathrm{smiley}\\in\\mathbb{R}^{2\\times180}$.  \n",
    "Each column in `smiley` is a 2D vector.\n",
    "\n",
    "Your task is to rotate the smiley figure in $\\theta=30^{\\circ}$.  \n",
    "**Hint**: A $2\\times 2$ rotation matrix has the following form:\n",
    "$$\\boldsymbol{R}=\\left[\\begin{matrix}\\cos\\left(\\theta\\right) & -\\sin\\left(\\theta\\right)\\\\\n",
    "\\sin\\left(\\theta\\right) & \\cos\\left(\\theta\\right)\n",
    "\\end{matrix}\\right]$$\n",
    "\n",
    "**Extra:**\n",
    "* Add an interactive slider for `θ`.\n",
    "* Add a nose.\n",
    "\n",
    "<div class=\"alert alert-block alert-info\">\n",
    "<span style=\"color:black\">\n",
    "    \n",
    "**Tip:**\n",
    "*\n",
    "$$u = Mv$$\n",
    "    Given a matrix `M` and a vector `v`, the matrix by vector multiplication is performed using:\n",
    "```python\n",
    "u = M @ v\n",
    "```\n",
    "</span>\n",
    "</div>"
   ]
  },
  {
   "cell_type": "code",
   "execution_count": 9,
   "metadata": {
    "ExecuteTime": {
     "end_time": "2022-01-31T19:45:35.568381Z",
     "start_time": "2022-01-31T19:45:35.553367Z"
    }
   },
   "outputs": [],
   "source": [
    "def PlotRotate(θ):\n",
    "    pass\n",
    "    \n",
    "PlotRotate(ℼ/6)\n",
    "plt.show()"
   ]
  },
  {
   "cell_type": "markdown",
   "metadata": {},
   "source": [
    "### Q5 - Plots\n",
    "Create a figure with the following curves:\n",
    "1. $f\\left(x\\right)=\\frac{1}{4}x^{2}$\n",
    "2. $f\\left(x\\right)=\\max\\left\\{ 0,x\\right\\} $\n",
    "3. $f\\left(x\\right)=\\sin\\left(x\\right)$\n",
    "4. $x^{2}+y^{2}=1$\n",
    "\n",
    "* Add labels to the axes.\n",
    "* Add a legend.\n",
    "* Add a title.\n",
    "\n",
    "**Extra:** Make each curve in a sub-plot."
   ]
  },
  {
   "cell_type": "code",
   "execution_count": 10,
   "metadata": {
    "ExecuteTime": {
     "end_time": "2022-01-31T19:45:35.584395Z",
     "start_time": "2022-01-31T19:45:35.569382Z"
    }
   },
   "outputs": [
    {
     "data": {
      "text/plain": [
       "<Figure size 800x400 with 0 Axes>"
      ]
     },
     "metadata": {},
     "output_type": "display_data"
    }
   ],
   "source": [
    "x = np.linspace(-ℼ, ℼ, 1001)\n",
    "plt.figure(figsize=(8, 4))\n",
    "\n",
    "plt.show()"
   ]
  },
  {
   "cell_type": "code",
   "execution_count": 11,
   "metadata": {
    "ExecuteTime": {
     "end_time": "2022-01-31T19:45:35.808688Z",
     "start_time": "2022-01-31T19:45:35.585396Z"
    }
   },
   "outputs": [
    {
     "data": {
      "image/png": "[encoded data removed]",
      "text/plain": [
       "<Figure size 1000x600 with 4 Axes>"
      ]
     },
     "metadata": {},
     "output_type": "display_data"
    }
   ],
   "source": [
    "fig, axs = plt.subplots(2, 2, figsize=(10, 6))\n",
    "\n",
    "plt.tight_layout()\n",
    "plt.show()"
   ]
  },
  {
   "cell_type": "code",
   "execution_count": null,
   "metadata": {},
   "outputs": [],
   "source": []
  }
 ],
 "metadata": {
  "kernelspec": {
   "display_name": "Python 3",
   "language": "python",
   "name": "python3"
  },
  "language_info": {
   "codemirror_mode": {
    "name": "ipython",
    "version": 3
   },
   "file_extension": ".py",
   "mimetype": "text/x-python",
   "name": "python",
   "nbconvert_exporter": "python",
   "pygments_lexer": "ipython3",
   "version": "3.8.12"
  },
  "toc": {
   "base_numbering": 1,
   "nav_menu": {},
   "number_sections": false,
   "sideBar": true,
   "skip_h1_title": false,
   "title_cell": "Table of Contents",
   "title_sidebar": "Contents",
   "toc_cell": false,
   "toc_position": {
    "height": "calc(100% - 180px)",
    "left": "10px",
    "top": "150px",
    "width": "384px"
   },
   "toc_section_display": true,
   "toc_window_display": false
  },
  "varInspector": {
   "cols": {
    "lenName": 16,
    "lenType": 16,
    "lenVar": 40
   },
   "kernels_config": {
    "python": {
     "delete_cmd_postfix": "",
     "delete_cmd_prefix": "del ",
     "library": "var_list.py",
     "varRefreshCmd": "print(var_dic_list())"
    },
    "r": {
     "delete_cmd_postfix": ") ",
     "delete_cmd_prefix": "rm(",
     "library": "var_list.r",
     "varRefreshCmd": "cat(var_dic_list()) "
    }
   },
   "types_to_exclude": [
    "module",
    "function",
    "builtin_function_or_method",
    "instance",
    "_Feature"
   ],
   "window_display": false
  }
 },
 "nbformat": 4,
 "nbformat_minor": 4
}
