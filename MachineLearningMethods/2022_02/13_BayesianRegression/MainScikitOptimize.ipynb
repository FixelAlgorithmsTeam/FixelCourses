{
 "cells": [
  {
   "cell_type": "markdown",
   "metadata": {
    "id": "_2kOU0yx9znW"
   },
   "source": [
    "![Fixel Algorithms](https://fixelalgorithms.co/images/CCExt.png)"
   ]
  },
  {
   "cell_type": "markdown",
   "metadata": {
    "id": "rOt3ZqyL9znY"
   },
   "source": [
    "# <center> Machine Learning Methods </center>\n",
    "## <center> Lecture 13 - Bayesian Regression </center>\n",
    "### <center> Scikit Optimize </center>"
   ]
  },
  {
   "cell_type": "markdown",
   "metadata": {
    "id": "XVL56rhR9znZ"
   },
   "source": [
    "[![Open In Colab](https://colab.research.google.com/assets/colab-badge.svg)](https://colab.research.google.com/github/FixelAlgorithmsTeam/FixelCourses/blob/master/MachineLearningMethod/13_BayesianRegression/MainScikitOptimize.ipynb)"
   ]
  },
  {
   "cell_type": "markdown",
   "metadata": {
    "id": "VrhaWOZ4ANaE"
   },
   "source": [
    "**Note:**  \n",
    "`scikit-optimize` currently does not support `scikit-learn` 0.24.0 and above.  \n",
    "Run this notebook on Colab (which uses `scikit-learn` 0.22.2)\n",
    "\n",
    "See here:\n",
    "https://github.com/scikit-optimize/scikit-optimize/issues/978"
   ]
  },
  {
   "cell_type": "code",
   "execution_count": 1,
   "metadata": {
    "colab": {
     "base_uri": "https://localhost:8080/"
    },
    "id": "pgm8KDhs94i8",
    "outputId": "552fb659-3c93-489d-b243-47af283b326c"
   },
   "outputs": [
    {
     "name": "stdout",
     "output_type": "stream",
     "text": [
      "Requirement already satisfied: scikit-optimize in /usr/local/lib/python3.7/dist-packages (0.8.1)\n",
      "Requirement already satisfied: scikit-learn>=0.20.0 in /usr/local/lib/python3.7/dist-packages (from scikit-optimize) (0.22.2.post1)\n",
      "Requirement already satisfied: scipy>=0.19.1 in /usr/local/lib/python3.7/dist-packages (from scikit-optimize) (1.4.1)\n",
      "Requirement already satisfied: joblib>=0.11 in /usr/local/lib/python3.7/dist-packages (from scikit-optimize) (1.0.1)\n",
      "Requirement already satisfied: pyaml>=16.9 in /usr/local/lib/python3.7/dist-packages (from scikit-optimize) (20.4.0)\n",
      "Requirement already satisfied: numpy>=1.13.3 in /usr/local/lib/python3.7/dist-packages (from scikit-optimize) (1.19.5)\n",
      "Requirement already satisfied: PyYAML in /usr/local/lib/python3.7/dist-packages (from pyaml>=16.9->scikit-optimize) (3.13)\n"
     ]
    }
   ],
   "source": [
    "pip install scikit-optimize"
   ]
  },
  {
   "cell_type": "markdown",
   "metadata": {
    "id": "OunjKE9iBo9R"
   },
   "source": [
    "### Scikit-Optimize:  \n",
    "https://scikit-optimize.github.io/stable/index.html"
   ]
  },
  {
   "cell_type": "code",
   "execution_count": 2,
   "metadata": {
    "id": "WRunTCOq9znZ"
   },
   "outputs": [],
   "source": [
    "import numpy             as np\n",
    "import matplotlib.pyplot as plt\n",
    "import matplotlib\n",
    "\n",
    "matplotlib.rc('font', **{'size' : 16})"
   ]
  },
  {
   "cell_type": "code",
   "execution_count": 3,
   "metadata": {
    "id": "fzdQYFiG9zna"
   },
   "outputs": [],
   "source": [
    "from sklearn.datasets        import load_iris\n",
    "from sklearn.svm             import SVC\n",
    "from sklearn.model_selection import KFold\n",
    "#-- Scikit-optimize:\n",
    "from skopt                   import BayesSearchCV\n",
    "from skopt.space             import Real, Categorical, Integer"
   ]
  },
  {
   "cell_type": "markdown",
   "metadata": {
    "id": "pLXK9U49BK2v"
   },
   "source": [
    "#### Load the Iris data:"
   ]
  },
  {
   "cell_type": "code",
   "execution_count": 4,
   "metadata": {
    "colab": {
     "base_uri": "https://localhost:8080/"
    },
    "id": "UPDyhZQc9zna",
    "outputId": "e173854e-854e-4be9-b128-c41bef4b242b"
   },
   "outputs": [
    {
     "data": {
      "text/plain": [
       "((150, 4), (150,))"
      ]
     },
     "execution_count": 4,
     "metadata": {
      "tags": []
     },
     "output_type": "execute_result"
    }
   ],
   "source": [
    "mX, vY = load_iris(return_X_y=True)\n",
    "\n",
    "mX.shape, vY.shape"
   ]
  },
  {
   "cell_type": "markdown",
   "metadata": {
    "id": "xO-O1xZzBPDp"
   },
   "source": [
    "#### Apply Bayesian optimization search:"
   ]
  },
  {
   "cell_type": "code",
   "execution_count": 5,
   "metadata": {
    "colab": {
     "base_uri": "https://localhost:8080/"
    },
    "id": "XsxV3ttr9znb",
    "outputId": "e1dfe5be-82bc-4204-9ab2-d70286afe64a"
   },
   "outputs": [
    {
     "name": "stderr",
     "output_type": "stream",
     "text": [
      "/usr/local/lib/python3.7/dist-packages/skopt/optimizer/optimizer.py:449: UserWarning: The objective has been evaluated at this point before.\n",
      "  warnings.warn(\"The objective has been evaluated \"\n",
      "/usr/local/lib/python3.7/dist-packages/skopt/optimizer/optimizer.py:449: UserWarning: The objective has been evaluated at this point before.\n",
      "  warnings.warn(\"The objective has been evaluated \"\n",
      "/usr/local/lib/python3.7/dist-packages/skopt/optimizer/optimizer.py:449: UserWarning: The objective has been evaluated at this point before.\n",
      "  warnings.warn(\"The objective has been evaluated \"\n"
     ]
    },
    {
     "data": {
      "text/plain": [
       "0.9866666666666667"
      ]
     },
     "execution_count": 5,
     "metadata": {
      "tags": []
     },
     "output_type": "execute_result"
    }
   ],
   "source": [
    "dLinear = {\n",
    "        'C'      : Real       (1e-6, 1e6, prior='log-uniform'),\n",
    "        'kernel' : Categorical(['linear']),\n",
    "}\n",
    "\n",
    "dPoly   = {\n",
    "        'C'      : Real       (1e-6, 1e6, prior='log-uniform'),\n",
    "        'degree' : Integer    (1, 8),\n",
    "        'kernel' : Categorical(['poly']),\n",
    "}\n",
    "\n",
    "dRBF    = {\n",
    "        'C'      : Real       (1e-6, 1e6, prior='log-uniform'),\n",
    "        'gamma'  : Real       (1e-6, 1e1, prior='log-uniform'),\n",
    "        'kernel' : Categorical(['rbf']),\n",
    "}\n",
    "    \n",
    "lParams = [dLinear, dPoly, dRBF]\n",
    "\n",
    "oSearch = BayesSearchCV(SVC(), lParams, cv=15, n_iter=50, n_jobs=4)\n",
    "oSearch.fit(mX, vY)\n",
    "oSearch.best_score_"
   ]
  },
  {
   "cell_type": "markdown",
   "metadata": {
    "id": "zQKtrJLtBWr9"
   },
   "source": [
    "#### Best params:"
   ]
  },
  {
   "cell_type": "code",
   "execution_count": 6,
   "metadata": {
    "colab": {
     "base_uri": "https://localhost:8080/"
    },
    "id": "lRinyDZn9znc",
    "outputId": "9941ce62-5521-4a8c-9d27-0a5147ab41bb"
   },
   "outputs": [
    {
     "data": {
      "text/plain": [
       "OrderedDict([('C', 0.4135295298945822), ('kernel', 'linear')])"
      ]
     },
     "execution_count": 6,
     "metadata": {
      "tags": []
     },
     "output_type": "execute_result"
    }
   ],
   "source": [
    "oSearch.best_params_"
   ]
  },
  {
   "cell_type": "markdown",
   "metadata": {
    "id": "mUlpImGCBZpy"
   },
   "source": [
    "#### Leave-one-out cross validation:"
   ]
  },
  {
   "cell_type": "code",
   "execution_count": 7,
   "metadata": {
    "colab": {
     "base_uri": "https://localhost:8080/"
    },
    "id": "z5S2s3Pk9znc",
    "outputId": "919b67fc-2520-41e9-bf79-9ce1535b835e"
   },
   "outputs": [
    {
     "data": {
      "text/plain": [
       "0.9866666666666667"
      ]
     },
     "execution_count": 7,
     "metadata": {
      "tags": []
     },
     "output_type": "execute_result"
    }
   ],
   "source": [
    "from sklearn.model_selection import cross_val_predict\n",
    "\n",
    "oSVM  = SVC(**oSearch.best_params_)\n",
    "vHatY = cross_val_predict(oSVM, mX, vY, cv=KFold(len(vY)))\n",
    "np.mean(vY == vHatY)"
   ]
  },
  {
   "cell_type": "code",
   "execution_count": 7,
   "metadata": {
    "id": "Q6u-XM079znd"
   },
   "outputs": [],
   "source": []
  },
  {
   "cell_type": "code",
   "execution_count": 7,
   "metadata": {
    "id": "8HYniAgk9zng"
   },
   "outputs": [],
   "source": []
  },
  {
   "cell_type": "code",
   "execution_count": 7,
   "metadata": {
    "id": "8AHoLkh_9zng"
   },
   "outputs": [],
   "source": []
  },
  {
   "cell_type": "code",
   "execution_count": 7,
   "metadata": {
    "id": "HiJ2Scct9zng"
   },
   "outputs": [],
   "source": []
  },
  {
   "cell_type": "code",
   "execution_count": 7,
   "metadata": {
    "id": "IBd30D-V9zng"
   },
   "outputs": [],
   "source": []
  },
  {
   "cell_type": "code",
   "execution_count": 7,
   "metadata": {
    "id": "T9W-mmti9zng"
   },
   "outputs": [],
   "source": []
  },
  {
   "cell_type": "code",
   "execution_count": 7,
   "metadata": {
    "id": "0Pts6aId9zng"
   },
   "outputs": [],
   "source": []
  },
  {
   "cell_type": "code",
   "execution_count": 7,
   "metadata": {
    "id": "Ry2jBVUu9zng"
   },
   "outputs": [],
   "source": []
  }
 ],
 "metadata": {
  "colab": {
   "collapsed_sections": [],
   "name": "MainScikitOptimize.ipynb",
   "provenance": []
  },
  "kernelspec": {
   "display_name": "Python 3",
   "language": "python",
   "name": "python3"
  },
  "language_info": {
   "codemirror_mode": {
    "name": "ipython",
    "version": 3
   },
   "file_extension": ".py",
   "mimetype": "text/x-python",
   "name": "python",
   "nbconvert_exporter": "python",
   "pygments_lexer": "ipython3",
   "version": "3.8.8"
  },
  "toc": {
   "base_numbering": 1,
   "nav_menu": {},
   "number_sections": true,
   "sideBar": true,
   "skip_h1_title": false,
   "title_cell": "Table of Contents",
   "title_sidebar": "Contents",
   "toc_cell": false,
   "toc_position": {},
   "toc_section_display": true,
   "toc_window_display": false
  },
  "varInspector": {
   "cols": {
    "lenName": 16,
    "lenType": 16,
    "lenVar": 40
   },
   "kernels_config": {
    "python": {
     "delete_cmd_postfix": "",
     "delete_cmd_prefix": "del ",
     "library": "var_list.py",
     "varRefreshCmd": "print(var_dic_list())"
    },
    "r": {
     "delete_cmd_postfix": ") ",
     "delete_cmd_prefix": "rm(",
     "library": "var_list.r",
     "varRefreshCmd": "cat(var_dic_list()) "
    }
   },
   "types_to_exclude": [
    "module",
    "function",
    "builtin_function_or_method",
    "instance",
    "_Feature"
   ],
   "window_display": false
  }
 },
 "nbformat": 4,
 "nbformat_minor": 1
}
