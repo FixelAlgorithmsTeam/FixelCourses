{
 "cells": [
  {
   "attachments": {},
   "cell_type": "markdown",
   "metadata": {},
   "source": [
    "[![Fixel Algorithms](https://fixelalgorithms.co/images/CCExt.png)](https://fixelalgorithms.gitlab.io)\n",
    "\n",
    "# Machine Learning Methods\n",
    "\n",
    "## Scientific Python - Pandas\n",
    "\n",
    "> Notebook by:\n",
    "> - Royi Avital RoyiAvital@fixelalgorithms.com\n",
    "\n",
    "## Revision History\n",
    "\n",
    "| Version | Date       | User        |Content / Changes                                                   |\n",
    "|---------|------------|-------------|--------------------------------------------------------------------|\n",
    "| 0.1.002 | 04/02/2024 | Royi Avital | Accessing data frame                                               |\n",
    "| 0.1.001 | 28/02/2024 | Royi Avital | Added some notes according to class                                |\n",
    "| 0.1.000 | 16/02/2024 | Royi Avital | First version                                                      |"
   ]
  },
  {
   "attachments": {},
   "cell_type": "markdown",
   "metadata": {},
   "source": [
    "[![Open In Colab](https://colab.research.google.com/assets/colab-badge.svg)](https://colab.research.google.com/github/FixelAlgorithmsTeam/FixelCourses/blob/master/AIProgram/2024_02/0025Pandas.ipynb)"
   ]
  },
  {
   "cell_type": "code",
   "execution_count": null,
   "metadata": {
    "ExecuteTime": {
     "end_time": "2022-02-02T09:30:06.492269Z",
     "start_time": "2022-02-02T09:30:06.220934Z"
    }
   },
   "outputs": [],
   "source": [
    "# Import Packages\n",
    "\n",
    "# General Tools\n",
    "import numpy as np\n",
    "import scipy as sp\n",
    "import pandas as pd\n",
    "\n",
    "# Image Processing\n",
    "\n",
    "# Machine Learning\n",
    "\n",
    "\n",
    "# Miscellaneous\n",
    "import os\n",
    "from platform import python_version\n",
    "import random\n",
    "\n",
    "# Typing\n",
    "from typing import Callable, List, Tuple\n",
    "\n",
    "# Visualization\n",
    "import matplotlib as mpl\n",
    "import matplotlib.pyplot as plt\n",
    "import seaborn as sns\n",
    "\n",
    "# Jupyter\n",
    "from IPython import get_ipython"
   ]
  },
  {
   "attachments": {},
   "cell_type": "markdown",
   "metadata": {},
   "source": [
    "## Notations\n",
    "\n",
    "* <font color='red'>(**?**)</font> Question to answer interactively.\n",
    "* <font color='blue'>(**!**)</font> Simple task to add code for the notebook.\n",
    "* <font color='green'>(**@**)</font> Optional / Extra self practice.\n",
    "* <font color='brown'>(**#**)</font> Note / Useful resource / Food for thought.\n",
    "\n",
    "Code Notations:\n",
    "\n",
    "```python\n",
    "someVar    = 2; #<! Notation for a variable\n",
    "vVector    = np.random.rand(4) #<! Notation for 1D array\n",
    "mMatrix    = np.random.rand(4, 3) #<! Notation for 2D array\n",
    "tTensor    = np.random.rand(4, 3, 2, 3) #<! Notation for nD array (Tensor)\n",
    "tuTuple    = (1, 2, 3) #<! Notation for a tuple\n",
    "lList      = [1, 2, 3] #<! Notation for a list\n",
    "dDict      = {1: 3, 2: 2, 3: 1} #<! Notation for a dictionary\n",
    "oObj       = MyClass() #<! Notation for an object\n",
    "dfData     = pd.DataFrame() #<! Notation for a data frame\n",
    "dsData     = pd.Series() #<! Notation for a series\n",
    "hObj       = plt.Axes() #<! Notation for an object / handler / function handler\n",
    "```\n",
    "\n",
    "### Code Exercise\n",
    "\n",
    " - Single line fill\n",
    "\n",
    "```python\n",
    "valToFill = ???\n",
    "```\n",
    "\n",
    " - Multi Line to Fill (At least one)\n",
    "\n",
    "```python\n",
    "# You need to start writing\n",
    "?????\n",
    "```\n",
    "\n",
    " - Section to Fill\n",
    "\n",
    "```python\n",
    "#===========================Fill This===========================#\n",
    "# 1. Explanation about what to do.\n",
    "# !! Remarks to follow / take under consideration.\n",
    "mX = ???\n",
    "\n",
    "?????\n",
    "#===============================================================#\n",
    "```"
   ]
  },
  {
   "cell_type": "code",
   "execution_count": null,
   "metadata": {},
   "outputs": [],
   "source": [
    "# Configuration\n",
    "# %matplotlib inline\n",
    "\n",
    "seedNum = 512\n",
    "np.random.seed(seedNum)\n",
    "random.seed(seedNum)\n",
    "\n",
    "# Matplotlib default color palette\n",
    "lMatPltLibclr = ['#1f77b4', '#ff7f0e', '#2ca02c', '#d62728', '#9467bd', '#8c564b', '#e377c2', '#7f7f7f', '#bcbd22', '#17becf']\n",
    "sns.set_theme() #>! Apply SeaBorn theme\n",
    "\n",
    "runInGoogleColab = 'google.colab' in str(get_ipython())"
   ]
  },
  {
   "cell_type": "code",
   "execution_count": null,
   "metadata": {},
   "outputs": [],
   "source": [
    "# Constants\n",
    "\n",
    "FIG_SIZE_DEF    = (8, 8)\n",
    "ELM_SIZE_DEF    = 50\n",
    "CLASS_COLOR     = ('b', 'r')\n",
    "EDGE_COLOR      = 'k'\n",
    "MARKER_SIZE_DEF = 10\n",
    "LINE_WIDTH_DEF  = 2"
   ]
  },
  {
   "cell_type": "code",
   "execution_count": null,
   "metadata": {},
   "outputs": [],
   "source": [
    "# Courses Packages\n"
   ]
  },
  {
   "cell_type": "code",
   "execution_count": null,
   "metadata": {},
   "outputs": [],
   "source": [
    "# General Auxiliary Functions\n"
   ]
  },
  {
   "attachments": {},
   "cell_type": "markdown",
   "metadata": {},
   "source": [
    "## Pandas\n",
    "\n",
    "[_Pandas_](https://github.com/pandas-dev/pandas) is the _go to_ data frame package in the Python eco system.\n",
    "\n",
    "![](https://i.imgur.com/tFl2Tob.png)\n",
    "\n",
    "The concept of a _Data Frame_ is to imitate data as represented in tabular data (Think _Excel_).  \n",
    "Each row is a sample (The subject of the collection), Each column is a variable.  \n",
    "This expands the uniformity of _NumPy_ arrays with more flexibility yet retains most of the performance.\n",
    "\n",
    "It has an optimized methods to work on _data series_ (1D) and _data frame_ (2D).  \n",
    "It relies on NumPy for most of the numeric operations and has a synergy with SeaBorn as the visualization tool.\n",
    "\n",
    "* <font color='brown'>(**#**)</font> The package [`polars`](https://github.com/pola-rs/polars/) is a competitor of _Pandas_.  \n",
    "It offers better performance and gaining popularity. Yet it is not a drop in replacement.\n",
    "* <font color='brown'>(**#**)</font> Advanced tips for Pandas: [4 Pandas Anti Patterns to Avoid and How to Fix Them](https://www.aidancooper.co.uk/pandas-anti-patterns).\n",
    "\n",
    "### SeaBorn\n",
    "\n",
    "The Python package [`seaborn`](https://seaborn.pydata.org) is a statistical data visualization library.  \n",
    "It wraps up _Matplotlib_ with beautiful recipes and useful tools.  \n",
    "It has a big synergy with _Pandas_' data frame object."
   ]
  },
  {
   "cell_type": "markdown",
   "metadata": {},
   "source": [
    "## Series / Data Frame Construction\n",
    "\n",
    "There are few common methods to generate a _DataFrame_:\n",
    "\n",
    "1. From a File  \n",
    "   A file format which handles multi format data.  \n",
    "   In many cases for small scale data it will be a `csv` file.\n",
    "2. From a Data Structure  \n",
    "   One can generate a data frame from a `list`, `dictionary` or `np.ndarray`.\n",
    "\n",
    "This section shows some of those cases."
   ]
  },
  {
   "cell_type": "code",
   "execution_count": null,
   "metadata": {},
   "outputs": [],
   "source": [
    "# Generate a Series from a List\n",
    "\n",
    "numSamples = 10\n",
    "lA = [np.random.rand() for ii in range(numSamples)]\n",
    "dsA = pd.Series(lA)\n",
    "\n",
    "# Display the series\n",
    "# Pay attention to the index (See dsA.index)\n",
    "dsA"
   ]
  },
  {
   "cell_type": "code",
   "execution_count": null,
   "metadata": {},
   "outputs": [],
   "source": [
    "# Name the Series\n",
    "# Each series has a `name` field.\n",
    "# The name property is used by SeaBorn.\n",
    "\n",
    "dsA.name = 'Random Numbers'\n",
    "hA = sns.lineplot(dsA)\n",
    "hA.set_title('Plot of Data');"
   ]
  },
  {
   "cell_type": "code",
   "execution_count": null,
   "metadata": {},
   "outputs": [],
   "source": [
    "# Generate a Series from NumPy\n",
    "dsB = pd.Series(np.random.rand(numSamples))\n",
    "dsB.name = 'NumPy Vector'\n",
    "hA = sns.lineplot(dsB)\n",
    "hA.set_title('Plot of Data');"
   ]
  },
  {
   "cell_type": "code",
   "execution_count": null,
   "metadata": {},
   "outputs": [],
   "source": [
    "# Generate Data from a Dictionary\n",
    "\n",
    "dA = {ii: np.random.randn() for ii in range(numSamples)}\n",
    "dsC = pd.Series(dA)\n",
    "dsC.rename('Dictionary', inplace = True)\n",
    "\n",
    "dsC"
   ]
  },
  {
   "cell_type": "code",
   "execution_count": null,
   "metadata": {},
   "outputs": [],
   "source": [
    "# The Index\n",
    "# The index is arbitrary\n",
    "\n",
    "dsC.index = ['A', 'B', 'C', 'D', 'E', 'F', 'G', 'H', 'I', 'J']\n",
    "\n",
    "hA = sns.lineplot(dsC)\n",
    "hA.set_title('Plot of Data');"
   ]
  },
  {
   "cell_type": "code",
   "execution_count": null,
   "metadata": {},
   "outputs": [],
   "source": [
    "# Generate a Data Frame from NumPy Array\n",
    "\n",
    "numRows = 7\n",
    "numCols = 3\n",
    "\n",
    "mA  = np.random.rand(numRows, numCols)\n",
    "dfA = pd.DataFrame(mA)\n",
    "dfA.columns = [f'Series {ii: 02d}' for ii in range(numCols)]\n",
    "dfA"
   ]
  },
  {
   "cell_type": "code",
   "execution_count": null,
   "metadata": {},
   "outputs": [],
   "source": [
    "# Plotting the Data Frame\n",
    "\n",
    "hA = sns.lineplot(dfA)\n",
    "hA.set_title('Data Frame');"
   ]
  },
  {
   "cell_type": "code",
   "execution_count": null,
   "metadata": {},
   "outputs": [],
   "source": [
    "# Data Frame from Dictionary\n",
    "# In this case the keys are the name of the series (Columns)\n",
    "dB = {'Series A': np.random.rand(numRows), 'Series B': np.random.rand(numRows), 'Series C': np.random.rand(numRows)}\n",
    "dfB = pd.DataFrame(dB)\n",
    "hA = sns.lineplot(dfB)\n",
    "hA.set_title('Data Frame');"
   ]
  },
  {
   "cell_type": "code",
   "execution_count": null,
   "metadata": {},
   "outputs": [],
   "source": [
    "# Data from CSV\n",
    "# Pandas can read CSV data from **URL**'s and local files\n",
    "\n",
    "diamondsCsvUrl  = r'https://raw.githubusercontent.com/mwaskom/seaborn-data/master/diamonds.csv'\n",
    "dfDiamonds      = pd.read_csv(diamondsCsvUrl)\n",
    "dfDiamonds #<! Shows the first 10 rows"
   ]
  },
  {
   "cell_type": "markdown",
   "metadata": {},
   "source": [
    "* <font color='brown'>(**#**)</font> Accessing a data frame:\n",
    "  - Using columns name: `dfData['colName']`.\n",
    "  - Using the `loc` accessor: `dfData.loc[vIndx, lCol]`.\n",
    "  - Using the `iloc` accessor: `dfData.iloc[vLinIndx, lLinCol]`.\n",
    "\n",
    "* <font color='brown'>(**#**)</font>  Any 1D slice of a data frame will yield a series. Even if it not homogenous. "
   ]
  },
  {
   "cell_type": "code",
   "execution_count": null,
   "metadata": {},
   "outputs": [],
   "source": [
    "dfDiamonds[['x', 'y']].min(axis = 1)"
   ]
  },
  {
   "cell_type": "markdown",
   "metadata": {},
   "source": [
    "## The Diamonds Data Set\n",
    "\n",
    "The _Diamonds Data Set_ is a known data set which will be used to demonstrate some of the capabilities of _Pandas_.  \n",
    "This section basically does [_EDA_](https://en.wikipedia.org/wiki/Exploratory_data_analysis) (Exploratory Data Analysis).\n",
    "\n",
    "A great resource about data visualization is [Data to Viz](https://www.data-to-viz.com/).  \n",
    "It suggests some guidelines on data visualization.\n",
    "\n",
    "The variables are:\n",
    "\n",
    " - _Carat_  \n",
    "   Carat is a metric that is used to measure the weight of a diamond. One carat is equivalent to 200mg. Diamond prices increase with diamond carat weight, which means bigger the diamond higher the price. If two diamonds weights are equal, then other features are used to determine the price. \n",
    " - _Cut_  \n",
    "   The goal is to cut a diamond within an appropriate size shape, and angle such that the light entering the diamond should reflect and leave from the top surface.  \n",
    "   The values are Ideal, Premium, Good, Very Good, Fair.  \n",
    "   This feature is an important thing to notice in a diamond as it measures three crucial things, such as:\n",
    "    - Brilliance: It means the brightness of a diamond by the reflection of white lights inside and outside of a diamond.\n",
    "    - Fire: It means Scattering of white light into all the colors of the rainbow.\n",
    "    - Scintillation: the amount of sparkle produced and the pattern of light and dark areas caused by reflection within a diamond.    \n",
    " - _Color_  \n",
    "   Color measurement in diamond measures lacks color. If the diamond color is like a drop of water that is colorless, it will have a high value. As then only it can scatter the light without observing. However, there are some diamonds that are in different colors will have higher prices.  \n",
    "   The color scale is categorized from D to Z letters and ordered in ascending by the amount of presence of color in a diamond. From the K onwards to till Z, we can see a yellowish color present.  \n",
    "   D ,E,F - Colorless G,H,I,J - Near colorlessness K, L, M - Faint color N-R: Very Light Color S-Z: light color.\n",
    " - _Clarity_   \n",
    "   Diamonds are generated from sheer pressure and heat below the ground. Therefore, there will be some inclusion inside a diamond i.e., a mark or line pattern inside a diamond. Also, there will be a mark or line in the outer layer of a diamond, which is called blemishes. Based on the amount of inclusion and blemishes, the clarity of a diamond is categorized such as FL, IF, VSS1, VSS2, VS1, VS2, SI1, SI2, I1, I2, I3. The categories mentioned above are ordered in descending order by the amount of presence of inclusion and blemishes. \n",
    " - _Depth_ [%]  \n",
    "   Depth is the distance from a top surface i.e., table to a culet. The depth percentage is calculated by dividing the diamond depth by the overall width of a diamond. Lower the depth percentage the bigger the diamond looks from the below i.e., pavilion.\n",
    " - _Table_ [%]  \n",
    "   The table is the topmost surface of a diamond and also the most significant facet of the round diamond. An appropriate width of a table will allow the light to enter and reflect on the appropriate direction .if not most of the light will scatter off in different directions. The table percentage is calculated by dividing the table width by overall diamond width.\n",
    " - _x_ / _y_ / _z_ [Mili Meter]  \n",
    "   The dimension of a diamond is measured in millimeters. Moreover, the shape of a diamond is determined by the Length to width ratio. For instance, to determine the roundness of a diamond, we need to check the L/W ratio, If the ratio is between 1 and 1.05, it is a round diamond, and an oval shape diamond L/W ratio can be around 1.50 or less.  \n",
    "   `x` -> Length, `y` -> width, `z` -> depth.\n",
    "\n",
    "For more information look at [Diamonds Data Set](https://raw.githubusercontent.com/rithwiksarma/EDA-and-Classification---Diamonds-Dataset/main/updated-Diamonds-Project.pdf).\n"
   ]
  },
  {
   "cell_type": "code",
   "execution_count": null,
   "metadata": {},
   "outputs": [],
   "source": [
    "# Change the Columns Name\n",
    "dColName = {'carat': 'Carat', 'cut': 'Cut', 'color': 'Color', 'clarity': 'Clarity', 'depth': 'Depth Ratio', 'table': 'Table Ratio', 'price': 'Price [$]', 'x': 'Length', 'y': 'Width', 'z': 'Depth'}\n",
    "\n",
    "#===========================Fill This===========================#\n",
    "# 1. Read about `pd.DataFrame.rename()`.\n",
    "# 2. Use the dictionary `dColName` to rename the columns name.\n",
    "# !! Pay attention to the `inplace` parameter.\n",
    "# !! An alternative could be done using the `DataFrame.columns` alternative.\n",
    "\n",
    "dfDiamonds.rename(columns = dColName, inplace = True)\n",
    "\n",
    "#===============================================================#\n",
    "\n",
    "print(f'The columns are given by: {dfDiamonds.columns}')"
   ]
  },
  {
   "cell_type": "markdown",
   "metadata": {},
   "source": [
    "### Type of Data\n",
    "\n",
    "In Machine Learning we usually have several types:\n",
    "\n",
    "- Continuous  \n",
    "  The variables has a continuous value.  \n",
    "  It might be be bounded or unbounded.\n",
    "- Categorical  \n",
    "  Values within a finite set of values.  \n",
    "  Usually strings are mapped into categorical values.  \n",
    "  Binary variable is a specific case of categorical variable.\n",
    "\n",
    "* <font color='brown'>(**#**)</font> There could be an unbounded integer variable. It can be handled as either by a pre processing.\n",
    "* <font color='brown'>(**#**)</font> A sub case of the _Categorical_ types is the _Ordinal_ type. Which is discrete and ordered."
   ]
  },
  {
   "cell_type": "code",
   "execution_count": null,
   "metadata": {},
   "outputs": [],
   "source": [
    "# Show Info of the Data Frame\n",
    "\n",
    "print(f'The DF Shape is: {dfDiamonds.shape}')\n",
    "print(f'The DF variables info: {dfDiamonds.info()}')"
   ]
  },
  {
   "cell_type": "markdown",
   "metadata": {},
   "source": [
    "* <font color='brown'>(**#**)</font> The `Price [$]` is integer. In this context it is a non negative continuous variable."
   ]
  },
  {
   "cell_type": "code",
   "execution_count": null,
   "metadata": {},
   "outputs": [],
   "source": [
    "# The Type of Data\n",
    "dVarType = {colName: 'Categorical' if dfDiamonds.dtypes[colName] == np.dtypes.ObjectDType else 'Continuous' for colName in dfDiamonds.columns}"
   ]
  },
  {
   "cell_type": "code",
   "execution_count": null,
   "metadata": {},
   "outputs": [],
   "source": [
    "# The Values\n",
    "# Each column is a series with the given methods in: https://pandas.pydata.org/docs/reference/series.html\n",
    "\n",
    "for colName in dfDiamonds:\n",
    "    varType = dVarType[colName]\n",
    "    if varType == 'Categorical':\n",
    "        print(f'The {colName} variable is {varType} with values: {dfDiamonds[colName].unique()}')\n",
    "    else:\n",
    "        print(f'The {colName} variable is {varType} with values: [{dfDiamonds[colName].min()}, {dfDiamonds[colName].max()}]')"
   ]
  },
  {
   "cell_type": "code",
   "execution_count": null,
   "metadata": {},
   "outputs": [],
   "source": [
    "# Pandas Describe\n",
    "\n",
    "dfDiamonds.describe()"
   ]
  },
  {
   "cell_type": "code",
   "execution_count": null,
   "metadata": {},
   "outputs": [],
   "source": [
    "# The Depth Ratio\n",
    "# The `Depth Ratio` is basically the Depth / Mean(Length, Width).\n",
    "# This section show that numerically each columns behaves as a NumPy vector.\n",
    "\n",
    "#===========================Fill This===========================#\n",
    "# 1. Read about `pd.DataFrame.mean()`.\n",
    "# 2. Calculate the value (Data Series)  Depth / Mean(Length, Width).\n",
    "# 3. Save it as `dsDepthRatio`.\n",
    "# !! The ratio should be given in [%].\n",
    "\n",
    "dsDepthRatio = (dfDiamonds['Depth'] / dfDiamonds[['Length', 'Width']].mean(axis = 1)) * 100\n",
    "#===============================================================#\n",
    "\n",
    "dsDepthRatio.name = 'Depth Ratio Calculated'\n",
    "dfTmp = pd.concat((dfDiamonds['Depth Ratio'], dsDepthRatio), axis = 1) #<! Concatenation of DF / DS into DF\n",
    "dfTmp"
   ]
  },
  {
   "cell_type": "code",
   "execution_count": null,
   "metadata": {},
   "outputs": [],
   "source": [
    "# Visualize Using SeaBorn\n",
    "\n",
    "hF, hA = plt.subplots(figsize = (12, 8))\n",
    "sns.lineplot(dfTmp, ax = hA) #<! SeaBorn can plot on a given axes\n",
    "hA.set_title('Depth Ratio: Given vs. Calculated');"
   ]
  },
  {
   "cell_type": "markdown",
   "metadata": {},
   "source": [
    "* <font color='red'>(**?**)</font> Is there a perfect match between the calculated values and the given ones? Explain.\n",
    "* <font color='blue'>(**!**)</font> Find the cases and explain the reason."
   ]
  },
  {
   "cell_type": "markdown",
   "metadata": {},
   "source": [
    "### Pandas Grouping and Aggregation\n",
    "\n",
    "* <font color='brown'>(**#**)</font> See [Chris Moffitt - Comprehensive Guide to Grouping and Aggregating with Pandas](https://pbpython.com/groupby-agg.html)."
   ]
  },
  {
   "cell_type": "code",
   "execution_count": null,
   "metadata": {},
   "outputs": [],
   "source": [
    "# Group By\n",
    "# The concept of `groupby` is creating a sub group matched by some criteria.  \n",
    "# It is a powerful concept of DF which is heavily used in pipelines.\n",
    "\n",
    "# Group Data by `Cut` and print its mean value and median value\n",
    "dfGrpByCut = dfDiamonds.groupby(['Cut'])\n",
    "print(f'The mean value by Cut: {dfGrpByCut[\"Price [$]\"].mean()}')\n",
    "print(f'The median value by Cut: {dfGrpByCut[\"Price [$]\"].median()}')\n",
    "\n",
    "# GroupBy are iterable: \n",
    "# - http://pandas.pydata.org/pandas-docs/stable/user_guide/groupby.html\n",
    "# - https://stackoverflow.com/questions/27405483"
   ]
  },
  {
   "cell_type": "code",
   "execution_count": null,
   "metadata": {},
   "outputs": [],
   "source": [
    "# Discretize the Carat Variable\n",
    "dfTmp = dfDiamonds.copy()"
   ]
  },
  {
   "cell_type": "code",
   "execution_count": null,
   "metadata": {},
   "outputs": [],
   "source": [
    "# Visualize a Violin Plot of the Price\n",
    "# SeaBorn handles the grouping on its own.\n",
    "\n",
    "hF, hA = plt.subplots(figsize = (12, 8))\n",
    "sns.violinplot(dfDiamonds, x = 'Cut', y = 'Price [$]')\n",
    "hA.set_title('Price Distribution Grouped by Cut');"
   ]
  },
  {
   "cell_type": "markdown",
   "metadata": {},
   "source": [
    "* <font color='blue'>(**!**)</font> Read and change the parameters `density_norm` and `common_norm` in the violin plot.\n",
    "* <font color='brown'>(**#**)</font> You may read on the [_Interquartile Range_](https://en.wikipedia.org/wiki/Interquartile_range) (IQR)."
   ]
  },
  {
   "cell_type": "code",
   "execution_count": null,
   "metadata": {},
   "outputs": [],
   "source": [
    "# Pie Chart of the Cuts\n",
    "\n",
    "hF, hA = plt.subplots(figsize = (6, 6))\n",
    "hA.pie(dfDiamonds['Cut'].value_counts(), labels = dfDiamonds['Cut'].unique(), autopct = '%1.1f%%')\n",
    "hA.set_title('Ratio of Diamonds per Cut');"
   ]
  },
  {
   "cell_type": "code",
   "execution_count": null,
   "metadata": {},
   "outputs": [],
   "source": [
    "# Extract the Numerical Data (Continuous)\n",
    "\n",
    "#===========================Fill This===========================#\n",
    "# 1. Create a new DF which is composed only be the continuous values.\n",
    "# 2. Name it `dfDiamondsCont`.\n",
    "# !! Try to avoid doing it manually or by an explicit loop.\n",
    "\n",
    "dfDiamondsCont = dfDiamonds[[key for key in dVarType.keys() if dVarType[key] == 'Continuous']]\n",
    "#===============================================================#"
   ]
  },
  {
   "cell_type": "markdown",
   "metadata": {},
   "source": [
    "* <font color='brown'>(**#**)</font> The correlation, between numerical variables, should be interpreted, in this context, as the _quality_ of the linear regressor between the 2 columns.\n",
    "* <font color='red'>(**?**)</font> Given there are 7 columns, what will be the size of the correlation matrix? What's special about its structure?"
   ]
  },
  {
   "cell_type": "code",
   "execution_count": null,
   "metadata": {},
   "outputs": [],
   "source": [
    "# Correlation Heatmap\n",
    "# Dimensions of the correlation\n",
    "# Correlation as Linear Estimator\n",
    "\n",
    "hF, hA = plt.subplots(figsize = (12, 6))\n",
    "sns.heatmap(dfDiamondsCont.corr().abs(), annot = True, linewidths = 8, center = 0, ax = hA)\n",
    "hA.set_title('Correlation');"
   ]
  },
  {
   "cell_type": "markdown",
   "metadata": {},
   "source": [
    "* <font color='red'>(**?**)</font> Any better way to handle the categorical data?"
   ]
  },
  {
   "cell_type": "markdown",
   "metadata": {},
   "source": [
    "### Numeric Categorical Data\n",
    "\n",
    "At the end, most algorithms require data to be numeric.  \n",
    "Hence the need to convert non numeric _categorical data_ into numeric form.\n",
    "\n",
    "Usually it is done in 2 steps:\n",
    "\n",
    "1. Convert data into numeric form.\n",
    "2. Set the colum to _categorical_ using `astype('category')`.\n",
    "\n",
    "There are 2 main approaches to the the conversion into numeric form:\n",
    "\n",
    "1. Dummy Variables (_One Hot Encoding_)  \n",
    "   Any data can be represented by binary flags.  \n",
    "   It will be `True` for its value and `False` for any other option.  \n",
    "   The different values will be transformed into `Columns`.\n",
    "2. Labels  \n",
    "   Data will be mapped to numeric values (Integers) which are labels.  \n",
    "   If order has some significance, it should be preserved."
   ]
  },
  {
   "cell_type": "code",
   "execution_count": null,
   "metadata": {},
   "outputs": [],
   "source": [
    "# Map the Strings into Numerical Values\n",
    "# Using Pandas' `map()` function the strings will be mapped into values.\n",
    "# If the order matters, the mapping should preserve it (Think of Clarity as a quality).\n",
    "\n",
    "dClarityMap = {strClarity: ii for ii, strClarity in enumerate(dfDiamonds['Clarity'].unique())} #<! In practice, better choose values with meaning\n",
    "dColorMap   = {strColor: ii for ii, strColor in enumerate(dfDiamonds['Color'].unique())}\n",
    "\n",
    "dfDiamondsCat = dfDiamonds.copy() #<! Otherwise, by Reference\n",
    "dfDiamondsCat['Clarity']    = dfDiamondsCat['Clarity'].map(dClarityMap)\n",
    "dfDiamondsCat['Color']      = dfDiamondsCat['Color'].map(dColorMap)\n",
    "\n",
    "# Convert to Categorical\n",
    "dfDiamondsCat['Clarity']    = dfDiamondsCat['Clarity'].astype('category')\n",
    "dfDiamondsCat['Color']      = dfDiamondsCat['Color'].astype('category')"
   ]
  },
  {
   "cell_type": "code",
   "execution_count": null,
   "metadata": {},
   "outputs": [],
   "source": [
    "# Create Dummy Variables (One Hot Encoding)\n",
    "# Using Pandas' `get_dummies()` to map N values to N (Or N - 1) columns of binary variables.\n",
    "\n",
    "dfCutDummies  = pd.get_dummies(dfDiamonds['Cut'])\n",
    "dfDiamondsCat = pd.concat((dfDiamondsCat, dfCutDummies), axis = 1)\n",
    "dfDiamondsCat.drop(columns = ['Cut'], inplace = True)\n",
    "dfDiamondsCat"
   ]
  },
  {
   "cell_type": "code",
   "execution_count": null,
   "metadata": {},
   "outputs": [],
   "source": [
    "# The Types\n",
    "dfDiamondsCat.info()"
   ]
  },
  {
   "cell_type": "markdown",
   "metadata": {},
   "source": [
    "* <font color='red'>(**?**)</font> Why can we use `N - 1` instead of `N`?\n",
    "* <font color='red'>(**?**)</font> Could we use less columns for binary representation? Will it really work?\n",
    "* <font color='brown'>(**#**)</font> Linear operators (As _classifiers_ / _regressors_) can not handle labeled categorical data.  \n"
   ]
  },
  {
   "cell_type": "code",
   "execution_count": null,
   "metadata": {},
   "outputs": [],
   "source": [
    "# Correlation Heatmap\n",
    "\n",
    "hF, hA = plt.subplots(figsize = (12, 6))\n",
    "sns.heatmap(dfDiamondsCat.corr(), annot = True, linewidths = 8, center = 0, ax = hA)\n",
    "hA.set_title('Correlation');"
   ]
  },
  {
   "cell_type": "markdown",
   "metadata": {},
   "source": [
    "* <font color='red'>(**?**)</font> Does the above makes sense? In the context of values."
   ]
  },
  {
   "cell_type": "code",
   "execution_count": null,
   "metadata": {},
   "outputs": [],
   "source": [
    "# Price Distribution per Color\n",
    "\n",
    "hF, hA = plt.subplots(figsize = (12, 8))\n",
    "sns.boxplot(dfDiamonds, x = 'Color', y = 'Price [$]', hue = 'Color', palette = 'Set1', width = 0.3, order = ['D','E','F','G','H','I','J'])\n",
    "hA.set_title('Price Distribution Grouped by Color');"
   ]
  },
  {
   "cell_type": "code",
   "execution_count": null,
   "metadata": {},
   "outputs": [],
   "source": [
    "# Price Distribution per Clarity\n",
    "# Change the density norm and common normalization.\n",
    "\n",
    "hF, hA = plt.subplots(figsize = (12, 8))\n",
    "sns.violinplot(dfDiamonds, x = 'Clarity', y = 'Price [$]', hue = 'Clarity', palette = 'Set1', inner = 'point', order = ['IF','VVS1','VVS2','VS1','VS2','SI1','SI2','I1'])\n",
    "hA.set_title('Price Distribution Grouped by Clarity');"
   ]
  },
  {
   "cell_type": "code",
   "execution_count": null,
   "metadata": {},
   "outputs": [],
   "source": [
    "# Tables - Counting Intersections\n",
    "\n",
    "dfDiamondsTable = pd.crosstab(index = dfDiamonds['Cut'], columns = dfDiamonds['Clarity'])\n",
    "dfDiamondsTable.plot(kind = 'bar', figsize = (10, 10), stacked = True);"
   ]
  },
  {
   "cell_type": "code",
   "execution_count": null,
   "metadata": {},
   "outputs": [],
   "source": [
    "dfDiamondsTable = pd.crosstab(index = dfDiamonds['Color'], columns = dfDiamonds['Clarity'])\n",
    "dfDiamondsTable.plot(kind = 'bar', figsize = (10, 10), stacked = True);"
   ]
  },
  {
   "cell_type": "markdown",
   "metadata": {},
   "source": [
    "A nice EDA on the data is given in [Diamonds Price EDA and Prediction](http://portfolio.exmachinalabs.ai/notebooks/Diamonds.html) (Though it is in `R`)."
   ]
  },
  {
   "cell_type": "markdown",
   "metadata": {},
   "source": [
    "* <font color='green'>(**@**)</font> Using slicing operations convert the following data frame:\n",
    "\n",
    "```python\n",
    "dIn = {'Col1': ['h', 'i', 'k', 'n'], 'Col2': ['a', 'v', 's', 'g'], 'Col3': ['t', 'i', 'g', 'n'], 'Col4': ['t', 'g', 'n', 'i']}\n",
    "dfIn = pd.DataFrame(dIn)\n",
    "dfIn\n",
    "```\n",
    "\n",
    "| Col1 | Col2 | Col3 | Col4 |\n",
    "|-----:|-----:|-----:|-----:|\n",
    "|    h |    a |    t |    t |\n",
    "|    i |    v |    i |    g |\n",
    "|    k |    s |    g |    n |\n",
    "|    n |    g |    n |    i |\n",
    "\n",
    "Into:\n",
    "\n",
    "```python\n",
    "dOut = {'Col1': ['t', 'n', 'g', 'i'], 'Col2': ['h', 'k', 'i', 'n'], 'Col3': ['a', 's', 'v', 'g']}\n",
    "dfOut = pd.DataFrame(dOut)\n",
    "dfOut\n",
    "```\n",
    "\n",
    "| Col1 | Col2 | Col3 |\n",
    "|-----:|-----:|-----:|\n",
    "|    t |    h |    a |\n",
    "|    n |    k |    s |\n",
    "|    g |    i |    v |\n",
    "|    i |    n |    g |\n",
    "\n",
    "See [SimplyStats Thanksgiving Puzzle](https://jcarroll.com.au/2015/11/26/simplystats-thanksgiving-puzzle)."
   ]
  },
  {
   "cell_type": "code",
   "execution_count": null,
   "metadata": {},
   "outputs": [],
   "source": [
    "dOut = {'Col1': ['t', 'n', 'g', 'i'], 'Col2': ['h', 'k', 'i', 'n'], 'Col3': ['a', 's', 'v', 'g']}\n",
    "dfOut = pd.DataFrame(dOut)\n",
    "dfOut"
   ]
  }
 ],
 "metadata": {
  "kernelspec": {
   "display_name": "Python 3",
   "language": "python",
   "name": "python3"
  },
  "language_info": {
   "codemirror_mode": {
    "name": "ipython",
    "version": 3
   },
   "file_extension": ".py",
   "mimetype": "text/x-python",
   "name": "python",
   "nbconvert_exporter": "python",
   "pygments_lexer": "ipython3",
   "version": "3.11.8"
  },
  "toc": {
   "base_numbering": 1,
   "nav_menu": {},
   "number_sections": false,
   "sideBar": true,
   "skip_h1_title": false,
   "title_cell": "Table of Contents",
   "title_sidebar": "Contents",
   "toc_cell": false,
   "toc_position": {},
   "toc_section_display": true,
   "toc_window_display": true
  },
  "varInspector": {
   "cols": {
    "lenName": 16,
    "lenType": 16,
    "lenVar": 40
   },
   "kernels_config": {
    "python": {
     "delete_cmd_postfix": "",
     "delete_cmd_prefix": "del ",
     "library": "var_list.py",
     "varRefreshCmd": "print(var_dic_list())"
    },
    "r": {
     "delete_cmd_postfix": ") ",
     "delete_cmd_prefix": "rm(",
     "library": "var_list.r",
     "varRefreshCmd": "cat(var_dic_list()) "
    }
   },
   "types_to_exclude": [
    "module",
    "function",
    "builtin_function_or_method",
    "instance",
    "_Feature"
   ],
   "window_display": false
  },
  "vscode": {
   "interpreter": {
    "hash": "39577bab1f263e62e0b74f5b8086bd735049bf4751f6562b2d4b2969dc308293"
   }
  }
 },
 "nbformat": 4,
 "nbformat_minor": 4
}
