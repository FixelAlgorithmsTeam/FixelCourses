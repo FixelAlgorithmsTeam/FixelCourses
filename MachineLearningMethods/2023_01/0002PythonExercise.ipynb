{
 "cells": [
  {
   "attachments": {},
   "cell_type": "markdown",
   "metadata": {},
   "source": [
    "[![Fixel Algorithms](https://fixelalgorithms.co/images/CCExt.png)](https://fixelalgorithms.gitlab.io)\n",
    "\n",
    "# Machine Learning Methods\n",
    "\n",
    "## Python - Exercise\n",
    "\n",
    "> Notebook by:\n",
    "> - Royi Avital RoyiAvital@fixelalgorithms.com\n",
    "\n",
    "## Revision History\n",
    "\n",
    "| Version | Date       | User        |Content / Changes                                                   |\n",
    "|---------|------------|-------------|--------------------------------------------------------------------|\n",
    "| 1.0.000 | 18/01/2023 | Royi Avital | First version                                                      |\n",
    "|         |            |             |                                                                    |"
   ]
  },
  {
   "attachments": {},
   "cell_type": "markdown",
   "metadata": {},
   "source": [
    "[![Open In Colab](https://colab.research.google.com/assets/colab-badge.svg)](https://colab.research.google.com/github/FixelAlgorithmsTeam/FixelCourses/blob/master/MachineLearningMethods/2023_01/0002PythonExercise.ipynb)"
   ]
  },
  {
   "attachments": {},
   "cell_type": "markdown",
   "metadata": {},
   "source": [
    "## Question 001 - Importing Packages\n",
    "\n",
    "1. Import Numpy (`numpy`).\n",
    "2. Import `numpy` with the scope name `np`.\n",
    "3. Import SciPy (`scipy`) as `sp`.\n",
    "4. Import the module `pyplot` of `matplotlib` as `plt`."
   ]
  },
  {
   "cell_type": "code",
   "execution_count": null,
   "metadata": {
    "ExecuteTime": {
     "end_time": "2022-02-02T17:52:07.921383Z",
     "start_time": "2022-02-02T17:52:07.649130Z"
    }
   },
   "outputs": [],
   "source": [
    "# Import Packages\n",
    "\n",
    "\n",
    "# Add packages above!\n",
    "# Jupyter\n",
    "from IPython import get_ipython\n",
    "from IPython.display import Image, display\n",
    "from ipywidgets import Dropdown, FloatSlider, interact, IntSlider, Layout"
   ]
  },
  {
   "attachments": {},
   "cell_type": "markdown",
   "metadata": {},
   "source": [
    "## Question 002 - Fibonacci Sequence\n",
    "\n",
    "The Fibonacci sequence $\\left\\{ a_{n}\\right\\} _{n=0}^{\\infty}$ is defined by:\n",
    "\n",
    "$$\n",
    "{a}_{n} = \\begin{cases}\n",
    "0 & n = 0 \\\\\n",
    "1 & n = 1 \\\\\n",
    "{a}_{n-1} + {a}_{n-2} & n \\geq 2\n",
    "\\end{cases}\n",
    "$$\n",
    "\n",
    "The first few elements are:\n",
    "\n",
    "$$ 0, 1, 1, 2, 3, 5, 8, 13, 21,\\ldots $$\n",
    "\n",
    "Implement the function `Fibonacci(n)` that computes the $n$ -th Fibonacci number.\n",
    "\n",
    "Options:\n",
    "1. Use a `for` loop.\n",
    "2. Use recursion.\n",
    "3. Using a closed form expression **(Extra)**.\n",
    "\n",
    "<div class=\"alert alert-block alert-info\">\n",
    "<span style=\"color:red\">\n",
    "    \n",
    "**Tips:**\n",
    "* for loop:\n",
    "```python\n",
    "for ii in range(10):\n",
    "    print(ii)\n",
    "```\n",
    "* You may use the following line:\n",
    "```python\n",
    "n1, n0 = n0 + n1, n1\n",
    "```\n",
    "</span>\n",
    "</div>\n"
   ]
  },
  {
   "cell_type": "code",
   "execution_count": null,
   "metadata": {},
   "outputs": [],
   "source": [
    "# Function Definition\n",
    "\n",
    "def Fibonacci(n):\n",
    "    \n",
    "    pass"
   ]
  },
  {
   "cell_type": "code",
   "execution_count": null,
   "metadata": {},
   "outputs": [],
   "source": [
    "# Function Verification\n",
    "\n",
    "numNumbers = 15 #<! Don't change\n",
    "\n",
    "lRef = [0, 1, 1, 2, 3, 5, 8, 13, 21, 34, 55, 89, 144, 233, 377] #<! Reference solution\n",
    "lAns = [Fibonacci(ii) for ii in range(numNumbers)]\n",
    "\n",
    "for ii in range(numNumbers):\n",
    "    print(f'The {ii:03d} -th Fibonacci number is given by (According to the answer): {lAns[ii]}')\n",
    "\n",
    "if lRef == lAns:\n",
    "    print(f'The implementation was correct up to the {numNumbers} -th Fibonacci number')\n",
    "else:\n",
    "    print(f'The implementation was not correct')"
   ]
  },
  {
   "attachments": {},
   "cell_type": "markdown",
   "metadata": {},
   "source": [
    "## Question 003 - Sorting\n",
    "\n",
    "Implement the sort function `Sort(vArray)` (Ascending order) using one of the following algorithms:\n",
    "\n",
    "* [Bubble Sort](https://en.wikipedia.org/wiki/Bubble_sort).\n",
    "* [Merge Sort](https://en.wikipedia.org/wiki/Merge_sort).\n",
    "\n",
    "Add a parameter (_Key Word_) `inPlace` with default value `False` for inplace operation.\n",
    "\n",
    "> **Remark**: There is actually a surprisingly simple sorting algorithm:\n",
    ">\n",
    "> ![](https://i.imgur.com/jPpZoAW.png)\n",
    ">\n",
    "> See [Is this the simplest (and most surprising) sorting algorithm ever?](https://arxiv.org/abs/2110.01111).\n"
   ]
  },
  {
   "cell_type": "code",
   "execution_count": null,
   "metadata": {},
   "outputs": [],
   "source": [
    "# Function Definition\n",
    "\n",
    "def Sort(vArray, inPlace = False):\n",
    "    \n",
    "    pass"
   ]
  },
  {
   "cell_type": "code",
   "execution_count": null,
   "metadata": {},
   "outputs": [],
   "source": [
    "# Function Verification\n",
    "\n",
    "numSamples = 7\n",
    "\n",
    "vA  = np.random.randint(0, 100, numSamples) #<! Random integer numbers\n",
    "\n",
    "vA1 = Sort(vA)\n",
    "vA2 = np.sort(vA)\n",
    "\n",
    "if np.all(vA1 == vA2):\n",
    "    print(f'The implementation was correct')\n",
    "else:\n",
    "    print(f'The implementation was not correct')"
   ]
  },
  {
   "attachments": {},
   "cell_type": "markdown",
   "metadata": {},
   "source": [
    "## Question 004 - Rotation of 2D Data (Image)\n",
    "\n",
    "In this section we'll create a 2D data and rotate it using a rotation matrix."
   ]
  },
  {
   "cell_type": "code",
   "execution_count": null,
   "metadata": {},
   "outputs": [],
   "source": [
    "# Generate Data (Smiley Face)\n",
    "\n",
    "R    = 1\n",
    "r    = .7\n",
    "ℼ    = np.pi\n",
    "θ    = np.linspace(0, 2 * ℼ, 100, endpoint = False)\n",
    "φ    = np.linspace(-ℼ/4, ℼ/4, 20, endpoint = False) - ℼ/2\n",
    "ball = np.random.randn(30, 2) / 20\n",
    "\n",
    "face   = np.c_[R * np.cos(θ), R * np.sin(θ)]\n",
    "mouth  = np.c_[r * np.cos(φ), r * np.sin(φ)]\n",
    "eye1   = ball + [0.4, 0.5]\n",
    "eye2   = eye1 * [-1,  1]\n",
    "smiley = np.concatenate([face, mouth, eye1, eye2]).T\n"
   ]
  },
  {
   "cell_type": "code",
   "execution_count": null,
   "metadata": {},
   "outputs": [],
   "source": [
    "# Plot the Data\n",
    "\n",
    "hF, hA = plt.subplots(figsize = (10, 10)) #<! Generate a figure and an axes\n",
    "\n",
    "hA.scatter(smiley[0, :], smiley[1, :], s = 50, c = 'b') #<! Draw on the axes using `scatter()`\n",
    "hA.axis('equal') #<! Force axis ratio to be 1:1\n",
    "\n",
    "plt.show() #<! Draw the current canvas buffer (All above is lazy)"
   ]
  },
  {
   "attachments": {},
   "cell_type": "markdown",
   "metadata": {},
   "source": [
    "The data is stored in the matrix `smiley` with shape `smiley.shape = (2, 180)` (You may want to verify).      \n",
    "In other words $\\mathrm{smiley} \\in \\mathbb{R}^{2 \\times 180}$.  \n",
    "Each column in `smiley` is a 2D vector.\n",
    "\n",
    "Your task is to rotate the 2D data in the array `smiley` in $\\theta=30^{\\circ}$.  \n",
    "\n",
    "**Hint**: A $2 \\times 2$ (In 2D) rotation matrix has the following form:\n",
    "\n",
    "$$\\boldsymbol{R} = \\left[\\begin{matrix}\\cos\\left(\\theta\\right) & -\\sin\\left(\\theta\\right)\\\\\n",
    "\\sin\\left(\\theta\\right) & \\cos\\left(\\theta\\right)\n",
    "\\end{matrix}\\right]$$\n",
    "\n",
    "**Extra:**\n",
    "* Add an interactive slider for `θ`.\n",
    "* Add a nose.\n",
    "\n",
    "<div class=\"alert alert-block alert-info\">\n",
    "<span style=\"color:red\">\n",
    "    \n",
    "**Tip:**\n",
    "* Given a matrix `M` and a vector `v`, the matrix by vector multiplication ($\\boldsymbol{u} = M \\boldsymbol{v}$) is performed using:\n",
    "    \n",
    "```python\n",
    "u = M @ v\n",
    "```\n",
    "\n",
    "* Pay attention to the use of `[Deg]` vs. `[Rad]`.\n",
    "</span>\n",
    "</div>"
   ]
  },
  {
   "cell_type": "code",
   "execution_count": null,
   "metadata": {},
   "outputs": [],
   "source": [
    "# Function Definition\n",
    "\n",
    "def PlotRotate(smiley: np.ndarray, θ):\n",
    "\n",
    "    smileyRot = smiley.copy()\n",
    "    \n",
    "    return smileyRot"
   ]
  },
  {
   "cell_type": "code",
   "execution_count": null,
   "metadata": {},
   "outputs": [],
   "source": [
    "# Function Verification\n",
    "\n",
    "θ = 30 #<! [Deg]\n",
    "smileyRot = PlotRotate(smiley, θ)"
   ]
  },
  {
   "cell_type": "code",
   "execution_count": null,
   "metadata": {},
   "outputs": [],
   "source": [
    "# Plot Result\n",
    "\n",
    "def PlotSmiley(smiley):\n",
    "    \n",
    "    hF, hA = plt.subplots(figsize = (10, 10))\n",
    "    hA.scatter(smileyRot[0, :], smileyRot[1, :], s = 50, c = 'b') \n",
    "    hA.axis('equal')\n",
    "\n",
    "\n",
    "PlotSmiley(smileyRot)\n",
    "\n",
    "plt.show() "
   ]
  },
  {
   "cell_type": "code",
   "execution_count": null,
   "metadata": {},
   "outputs": [],
   "source": [
    "# Extra - Create an Interactive Slider\n",
    "\n",
    "# 1. Define a wrapper using `lambda θ:` to plot.\n",
    "# 2. Define the slider with minimum of 0 and maximum of 360.\n",
    "# 3. Define the interactive widget."
   ]
  },
  {
   "cell_type": "code",
   "execution_count": null,
   "metadata": {},
   "outputs": [],
   "source": [
    "# Wrapper \n",
    "\n",
    "# hPlotRotSmiley = lambda θ: PlotSmiley(PlotRotate())\n"
   ]
  },
  {
   "cell_type": "code",
   "execution_count": null,
   "metadata": {},
   "outputs": [],
   "source": [
    "# Slider\n",
    "\n",
    "# θSlider = IntSlider(min = ?, max = ?, step = ?, value = ?, readout = True, readout_format = 'd', layout = Layout(width = '30%'))\n",
    "# θSlider = FloatSlider(min = ?, max = ?, step = ?, value = ?, readout = True, readout_format = '.2f', layout = Layout(width = '30%'))"
   ]
  },
  {
   "cell_type": "code",
   "execution_count": null,
   "metadata": {},
   "outputs": [],
   "source": [
    "# Widget\n",
    "\n",
    "# interact(hPlotRotSmiley, θ = θSlider)\n",
    "# plt.show()"
   ]
  },
  {
   "attachments": {},
   "cell_type": "markdown",
   "metadata": {},
   "source": [
    "## Question 005 - Calculating $\\pi$ Using Monte Carlo Simulation\n",
    "\n",
    "Estimate $\\pi$ using the following steps:\n",
    "1. set `count = 0`\n",
    "2. For ii = 1,2,3,...,N:  \n",
    "    2.1 Sample a point $\\boldsymbol{x} \\sim U {\\left[ 0, 1\\right]}^{2}$.  \n",
    "    2.2 If ${\\left\\| \\boldsymbol{x} \\right\\|}_{2} \\leq 1$ then `count ← count + 1`.\n",
    "3. set $\\hat{\\pi} = 4 \\frac{\\texttt{count}}{N}$\n",
    "\n",
    "**Extra:**\n",
    "Repeat the exercise without using loops.\n",
    "\n",
    "<div class=\"alert alert-block alert-info\">\n",
    "<span style=\"color:red\">\n",
    "    \n",
    "**Tip:**\n",
    "* Use `numpy.random.rand()` to draw numbers between 0 and 1.\n",
    "</span>\n",
    "</div>"
   ]
  },
  {
   "cell_type": "code",
   "execution_count": null,
   "metadata": {},
   "outputs": [],
   "source": [
    "# Function Definition\n",
    "\n",
    "def EstimatePi(numSamples: int):\n",
    "    \n",
    "    pass"
   ]
  },
  {
   "cell_type": "code",
   "execution_count": null,
   "metadata": {},
   "outputs": [],
   "source": [
    "# Function Validation\n",
    "\n",
    "numSamples = 1_000_000\n",
    "\n",
    "print(f'Monte Carlo estimation: ℼ = {EstimatePi(numSamples)}')\n",
    "print(f'Reference             : ℼ = {np.pi}')"
   ]
  },
  {
   "attachments": {},
   "cell_type": "markdown",
   "metadata": {},
   "source": [
    "## Question 006 - Plot Data\n",
    "\n",
    "Create a figure with the following curves:\n",
    "1. $f \\left( x \\right) = \\frac{1}{4} {x}^{2}$.\n",
    "2. $f \\left( x \\right) = \\max \\left\\{ 0, x \\right\\}$.\n",
    "3. $f\\left( x \\right) = \\sin \\left( x \\right)$.\n",
    "4. ${x}^{2} + {y}^{2} = 1$\n",
    "\n",
    "Make sure you:\n",
    "\n",
    "* Add labels to the axes.\n",
    "* Add a legend.\n",
    "* Add a title.\n",
    "\n",
    "**Extra:** Make each curve in a sub plot."
   ]
  },
  {
   "cell_type": "code",
   "execution_count": null,
   "metadata": {},
   "outputs": [],
   "source": [
    "# Data\n",
    "\n",
    "numPts = 1001\n",
    "vX = np.linspace(-ℼ, ℼ, numPts)"
   ]
  },
  {
   "cell_type": "code",
   "execution_count": null,
   "metadata": {},
   "outputs": [],
   "source": [
    "# Single Plot\n",
    "hF, hA = plt.subplots(figsize = (8, 6))"
   ]
  },
  {
   "cell_type": "code",
   "execution_count": null,
   "metadata": {},
   "outputs": [],
   "source": [
    "# Sub Plots\n",
    "hF, hA = plt.subplots(nrows = 2, ncols = 2, figsize = (10, 10))"
   ]
  }
 ],
 "metadata": {
  "kernelspec": {
   "display_name": "Python 3",
   "language": "python",
   "name": "python3"
  },
  "language_info": {
   "codemirror_mode": {
    "name": "ipython",
    "version": 3
   },
   "file_extension": ".py",
   "mimetype": "text/x-python",
   "name": "python",
   "nbconvert_exporter": "python",
   "pygments_lexer": "ipython3",
   "version": "3.10.8 (tags/v3.10.8:aaaf517, Oct 11 2022, 16:50:30) [MSC v.1933 64 bit (AMD64)]"
  },
  "toc": {
   "base_numbering": 1,
   "nav_menu": {},
   "number_sections": false,
   "sideBar": true,
   "skip_h1_title": false,
   "title_cell": "Table of Contents",
   "title_sidebar": "Contents",
   "toc_cell": false,
   "toc_position": {},
   "toc_section_display": true,
   "toc_window_display": false
  },
  "varInspector": {
   "cols": {
    "lenName": 16,
    "lenType": 16,
    "lenVar": 40
   },
   "kernels_config": {
    "python": {
     "delete_cmd_postfix": "",
     "delete_cmd_prefix": "del ",
     "library": "var_list.py",
     "varRefreshCmd": "print(var_dic_list())"
    },
    "r": {
     "delete_cmd_postfix": ") ",
     "delete_cmd_prefix": "rm(",
     "library": "var_list.r",
     "varRefreshCmd": "cat(var_dic_list()) "
    }
   },
   "types_to_exclude": [
    "module",
    "function",
    "builtin_function_or_method",
    "instance",
    "_Feature"
   ],
   "window_display": false
  },
  "vscode": {
   "interpreter": {
    "hash": "4c555be6fa9458c8c75b4612c68315d9f1d74815b73d0e564fda29ad772cfcda"
   }
  }
 },
 "nbformat": 4,
 "nbformat_minor": 4
}
