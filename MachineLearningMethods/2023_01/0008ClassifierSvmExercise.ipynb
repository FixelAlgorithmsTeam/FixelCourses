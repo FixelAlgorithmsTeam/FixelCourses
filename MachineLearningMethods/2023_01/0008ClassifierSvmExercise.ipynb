{
 "cells": [
  {
   "attachments": {},
   "cell_type": "markdown",
   "metadata": {},
   "source": [
    "[![Fixel Algorithms](https://fixelalgorithms.co/images/CCExt.png)](https://fixelalgorithms.gitlab.io)\n",
    "\n",
    "# Machine Learning Methods\n",
    "\n",
    "## Supervised Learning - Classification - SVM Classifier - Exercise\n",
    "\n",
    "> Notebook by:\n",
    "> - Royi Avital RoyiAvital@fixelalgorithms.com\n",
    "\n",
    "## Revision History\n",
    "\n",
    "| Version | Date       | User        |Content / Changes                                                   |\n",
    "|---------|------------|-------------|--------------------------------------------------------------------|\n",
    "| 0.1.000 | 20/01/2023 | Royi Avital | First version                                                      |\n",
    "|         |            |             |                                                                    |"
   ]
  },
  {
   "attachments": {},
   "cell_type": "markdown",
   "metadata": {},
   "source": [
    "[![Open In Colab](https://colab.research.google.com/assets/colab-badge.svg)](https://colab.research.google.com/github/FixelAlgorithmsTeam/FixelCourses/blob/master/MachineLearningMethods/2023_01/0008ClassifierSvmExercise.ipynb)"
   ]
  },
  {
   "cell_type": "code",
   "execution_count": null,
   "metadata": {
    "ExecuteTime": {
     "end_time": "2022-02-02T09:30:06.492269Z",
     "start_time": "2022-02-02T09:30:06.220934Z"
    }
   },
   "outputs": [],
   "source": [
    "# Import Packages\n",
    "\n",
    "# General Tools\n",
    "import numpy as np\n",
    "import scipy as sp\n",
    "import pandas as pd\n",
    "\n",
    "# Machine Learning\n",
    "# from sklearn.datasets import load_breast_cancer\n",
    "# from sklearn.svm import SVC\n",
    "\n",
    "# Misc\n",
    "import os\n",
    "from platform import python_version\n",
    "import random\n",
    "\n",
    "# Typing\n",
    "from typing import Tuple\n",
    "\n",
    "# Visualization\n",
    "import matplotlib.pyplot as plt\n",
    "import seaborn as sns\n",
    "\n",
    "# Jupyter\n",
    "from IPython import get_ipython\n",
    "from IPython.display import Image, display\n",
    "from ipywidgets import Dropdown, FloatSlider, interact, IntSlider, Layout"
   ]
  },
  {
   "attachments": {},
   "cell_type": "markdown",
   "metadata": {},
   "source": [
    "## Notations\n",
    "\n",
    "* <font color='red'>(**?**)</font> Question to answer interactively.\n",
    "* <font color='blue'>(**!**)</font> Simple task to add code for the notebook.\n",
    "* <font color='green'>(**@**)</font> Optional / Extra self practice.\n",
    "* <font color='brown'>(**#**)</font> Note / Useful resource / Food for thought."
   ]
  },
  {
   "cell_type": "code",
   "execution_count": null,
   "metadata": {},
   "outputs": [],
   "source": [
    "# Configuration\n",
    "#%matplotlib inline\n",
    "\n",
    "seedNum = 512\n",
    "np.random.seed(seedNum)\n",
    "random.seed(seedNum)\n",
    "\n",
    "# sns.set_theme() #>! Apply SeaBorn theme\n",
    "\n",
    "runInGoogleColab = 'google.colab' in str(get_ipython())"
   ]
  },
  {
   "cell_type": "code",
   "execution_count": null,
   "metadata": {},
   "outputs": [],
   "source": [
    "# Constants\n",
    "\n",
    "FIG_SIZE_DEF = (8, 8)\n",
    "ELM_SIZE_DEF = 50\n",
    "CLASS_COLOR = ('b', 'r')\n"
   ]
  },
  {
   "cell_type": "code",
   "execution_count": null,
   "metadata": {},
   "outputs": [],
   "source": [
    "# Fixel Algorithms Packages\n"
   ]
  },
  {
   "cell_type": "code",
   "execution_count": null,
   "metadata": {},
   "outputs": [],
   "source": [
    "# Parameters\n",
    "\n",
    "# Data Visualization\n",
    "figSize     = (8, 8)\n",
    "elmSize     = 50\n",
    "classColor0 = CLASS_COLOR[0]\n",
    "classColor1 = CLASS_COLOR[1]\n",
    "\n",
    "numGridPts = 250"
   ]
  },
  {
   "cell_type": "code",
   "execution_count": null,
   "metadata": {},
   "outputs": [],
   "source": [
    "# Auxiliary Functions\n"
   ]
  },
  {
   "attachments": {},
   "cell_type": "markdown",
   "metadata": {},
   "source": [
    "## Exercise\n",
    "\n",
    "In this exercise we'll do the following:\n",
    "\n",
    "1. Apply SVM Classifier on the [_Breast Cancer Wisconsin (Diagnostic) Data Set_](https://archive.ics.uci.edu/ml/datasets/Breast+Cancer+Wisconsin+(Diagnostic)).\n",
    "2. Use the `predict()` method of the SVM object.\n",
    "3. Implement our own score function: `ClsAccuracy()`.\n",
    "4. Compare it to the method `score()` of the SVM object.\n",
    "5. Find the value of the parameter `C` which maximizes the accuracy."
   ]
  },
  {
   "attachments": {},
   "cell_type": "markdown",
   "metadata": {},
   "source": [
    "## Generate / Load Data\n"
   ]
  },
  {
   "cell_type": "code",
   "execution_count": null,
   "metadata": {},
   "outputs": [],
   "source": [
    "# Load Modules\n",
    "\n",
    "# Load the `load_breast_cancer` function from the `sklearn.datasets` module\n",
    "# Load the `SVC` class from the `sklearn.svm` module\n",
    "\n",
    "#===========================Fill This===========================#\n",
    "from ??? import ???\n",
    "from ??? import ???\n",
    "#===============================================================#"
   ]
  },
  {
   "cell_type": "code",
   "execution_count": null,
   "metadata": {},
   "outputs": [],
   "source": [
    "# Load Data \n",
    "\n",
    "dData = load_breast_cancer()\n",
    "mX    = dData.data\n",
    "vY    = dData.target\n",
    "\n",
    "print(f'The features data shape: {mX.shape}')\n",
    "print(f'The labels data shape: {vY.shape}')"
   ]
  },
  {
   "cell_type": "code",
   "execution_count": null,
   "metadata": {},
   "outputs": [],
   "source": [
    "# Pre Process Data\n",
    "\n",
    "# Normalize Data (Features): Each column to have zero mean and unit standard deviation\n",
    "# Transforming the Labels into {-1, 1}\n",
    "\n",
    "#===========================Fill This===========================#\n",
    "mX = ???\n",
    "mX = ???\n",
    "\n",
    "\n",
    "vY[vY == 0] = ???\n",
    "#===============================================================#"
   ]
  },
  {
   "cell_type": "code",
   "execution_count": null,
   "metadata": {},
   "outputs": [],
   "source": [
    "numSamples  = mX.shape[0]\n",
    "print(f'The features data shape: {mX.shape}') #>! Should be (569, 30)"
   ]
  },
  {
   "attachments": {},
   "cell_type": "markdown",
   "metadata": {},
   "source": [
    "<font color='red'>(**?**)</font> Does the data have a constant column of $1$ or $-1$?  \n",
    "<font color='red'>(**?**)</font> Should we add a constant column? Look at the [mathematical formulation of the SVC in SciKit Learn](https://scikit-learn.org/stable/modules/svm.html#mathematical-formulation).  \n",
    "<font color='red'>(**?**)</font> What's the `intercept_` attribute of the object?  "
   ]
  },
  {
   "attachments": {},
   "cell_type": "markdown",
   "metadata": {},
   "source": [
    "## Train a SVM Classifier"
   ]
  },
  {
   "attachments": {},
   "cell_type": "markdown",
   "metadata": {},
   "source": [
    "### The SciKit Learn Package\n",
    "\n",
    "In the course, from now on, we'll mostly use modules and functions from the [SciKit Learn](https://scikit-learn.org) package.  \n",
    "It is mostly known for its API of `<model>.fit()` and `<model>.predict()`.  \n",
    "This simple choice of convention created the ability to scale in the form of pipelines, chaining models for a greater model."
   ]
  },
  {
   "attachments": {},
   "cell_type": "markdown",
   "metadata": {},
   "source": [
    "### SVM Classifier Class"
   ]
  },
  {
   "cell_type": "code",
   "execution_count": null,
   "metadata": {},
   "outputs": [],
   "source": [
    "# Construct the SVC Object\n",
    "# Use the SVC constructor and the parameters below.\n",
    "\n",
    "paramC = 0.0001\n",
    "kernelType = 'linear'\n",
    "\n",
    "#===========================Fill This===========================#\n",
    "oSvmClassifier = ???\n",
    "#===============================================================#"
   ]
  },
  {
   "cell_type": "code",
   "execution_count": null,
   "metadata": {},
   "outputs": [],
   "source": [
    "# Train the Model (`fit()`)\n",
    "\n",
    "#===========================Fill This===========================#\n",
    "oSvmClassifier = ???\n",
    "#===============================================================#\n"
   ]
  },
  {
   "attachments": {},
   "cell_type": "markdown",
   "metadata": {},
   "source": [
    "<font color='blue'>(**!**)</font> Create a function called `ClsAccuracy( oCls, mX, vY )`  \n",
    "The function input is a model with `predict()` method and the data and labels.  \n",
    "The function output is the accuracy of the model (In the range [0, 1])."
   ]
  },
  {
   "cell_type": "code",
   "execution_count": null,
   "metadata": {},
   "outputs": [],
   "source": [
    "# Scoring (Accuracy) Function\n",
    "\n",
    "#===========================Fill This===========================#\n",
    "\n",
    "def ClsAccuracy( oCls, mX: np.ndarray, vY: np.ndarray ):\n",
    "    '''\n",
    "        oCls - A classifier with a `predict()` method.\n",
    "        mX   - The input data  mX.shape = (N, d)\n",
    "        vY   - The true labels vY.shape = (N,)\n",
    "    '''\n",
    "\n",
    "    return ???\n",
    "\n",
    "#===============================================================#"
   ]
  },
  {
   "cell_type": "code",
   "execution_count": null,
   "metadata": {},
   "outputs": [],
   "source": [
    "# Score the Model\n",
    "\n",
    "modelAcc = ClsAccuracy(oSvmClassifier, mX, vY)\n",
    "\n",
    "print(f'The model accuracy on the training data is: {modelAcc:0.2%}')"
   ]
  },
  {
   "attachments": {},
   "cell_type": "markdown",
   "metadata": {},
   "source": [
    "<font color='blue'>(**!**)</font> Compare the manual scoring function to the `score()` method of the classifier."
   ]
  },
  {
   "cell_type": "code",
   "execution_count": null,
   "metadata": {},
   "outputs": [],
   "source": [
    "# Comparing the Score\n",
    "\n",
    "#===========================Fill This===========================#\n",
    "modelAccRef = ???\n",
    "#===============================================================#\n",
    "\n",
    "print(f'The model accuracy (Based on the `score()` method) on the training data is: {modelAccRef:0.2%}')"
   ]
  },
  {
   "attachments": {},
   "cell_type": "markdown",
   "metadata": {},
   "source": [
    "### Optimizing the Parameter `C` of the Model\n",
    "\n",
    " * <font color='blue'>(**!**)</font> Create an array of values of the parameter `C`.\n",
    " * <font color='blue'>(**!**)</font> Create a loop which check the score for each `C` value.\n",
    " * <font color='blue'>(**!**)</font> Keep the `C` value which maximizes the score."
   ]
  },
  {
   "cell_type": "code",
   "execution_count": null,
   "metadata": {},
   "outputs": [],
   "source": [
    "#===========================Fill This===========================#\n",
    "\n",
    "lC = ??? #<! The list of `C` values to optimize over\n",
    "\n",
    "dBestScore = {'Accuracy': 0, 'C': 0} #<! Dictionary to keep the highest score and the corresponding `C`\n",
    "\n",
    "for ii, paramC in enumerate(lC):\n",
    "    oSvmClassifier = ??? #<! Construct the SVC object\n",
    "    oSvmClassifier = ??? #<! Train the model\n",
    "    modelScore     = ??? #<! Calculate the score (Accuracy)\n",
    "\n",
    "    if (modelScore > dBestScore['Accuracy']):\n",
    "        dBestScore['Accuracy'] = ??? #<! Update the new best score\n",
    "        dBestScore['C'] = ??? #<! Update the corresponding `C` hyper parameter\n",
    "    \n",
    "#===============================================================#\n",
    "\n",
    "print(f'The best model has accuracy of {dBestScore[\"Accuracy\"]:0.2%} with `C = {dBestScore[\"C\"]}`')"
   ]
  },
  {
   "attachments": {},
   "cell_type": "markdown",
   "metadata": {},
   "source": [
    "<font color='blue'>(**!**)</font> Plot the score of the model as a function of the parameter `C`.  \n",
    "<font color='red'>(**?**)</font> Is the above a good strategy to optimize the model?  \n",
    "<font color='green'>(**@**)</font> Read the documentation of the [SVC](https://scikit-learn.org/stable/modules/generated/sklearn.svm.SVC.html) class. Try other values of `kernel`."
   ]
  },
  {
   "attachments": {},
   "cell_type": "markdown",
   "metadata": {},
   "source": []
  }
 ],
 "metadata": {
  "kernelspec": {
   "display_name": "Python 3",
   "language": "python",
   "name": "python3"
  },
  "language_info": {
   "codemirror_mode": {
    "name": "ipython",
    "version": 3
   },
   "file_extension": ".py",
   "mimetype": "text/x-python",
   "name": "python",
   "nbconvert_exporter": "python",
   "pygments_lexer": "ipython3",
   "version": "3.10.9 (tags/v3.10.9:1dd9be6, Dec  6 2022, 20:01:21) [MSC v.1934 64 bit (AMD64)]"
  },
  "toc": {
   "base_numbering": 1,
   "nav_menu": {},
   "number_sections": false,
   "sideBar": true,
   "skip_h1_title": false,
   "title_cell": "Table of Contents",
   "title_sidebar": "Contents",
   "toc_cell": false,
   "toc_position": {},
   "toc_section_display": true,
   "toc_window_display": true
  },
  "varInspector": {
   "cols": {
    "lenName": 16,
    "lenType": 16,
    "lenVar": 40
   },
   "kernels_config": {
    "python": {
     "delete_cmd_postfix": "",
     "delete_cmd_prefix": "del ",
     "library": "var_list.py",
     "varRefreshCmd": "print(var_dic_list())"
    },
    "r": {
     "delete_cmd_postfix": ") ",
     "delete_cmd_prefix": "rm(",
     "library": "var_list.r",
     "varRefreshCmd": "cat(var_dic_list()) "
    }
   },
   "types_to_exclude": [
    "module",
    "function",
    "builtin_function_or_method",
    "instance",
    "_Feature"
   ],
   "window_display": false
  },
  "vscode": {
   "interpreter": {
    "hash": "39577bab1f263e62e0b74f5b8086bd735049bf4751f6562b2d4b2969dc308293"
   }
  }
 },
 "nbformat": 4,
 "nbformat_minor": 4
}
