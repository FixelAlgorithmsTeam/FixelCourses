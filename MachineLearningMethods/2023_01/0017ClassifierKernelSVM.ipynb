{
 "cells": [
  {
   "attachments": {},
   "cell_type": "markdown",
   "metadata": {},
   "source": [
    "[![Fixel Algorithms](https://fixelalgorithms.co/images/CCExt.png)](https://fixelalgorithms.gitlab.io/)\n",
    "\n",
    "# Machine Learning Methods\n",
    "\n",
    "## Supervised Learning - Classification - Kernel SVM Classifier\n",
    "\n",
    "> Notebook by:\n",
    "> - Royi Avital RoyiAvital@fixelalgorithms.com\n",
    "\n",
    "## Revision History\n",
    "\n",
    "| Version | Date       | User        |Content / Changes                                                   |\n",
    "|---------|------------|-------------|--------------------------------------------------------------------|\n",
    "| 0.1.000 | 27/01/2023 | Royi Avital | First version                                                      |"
   ]
  },
  {
   "attachments": {},
   "cell_type": "markdown",
   "metadata": {},
   "source": [
    "[![Open In Colab](https://colab.research.google.com/assets/colab-badge.svg)](https://colab.research.google.com/github/FixelAlgorithmsTeam/FixelCourses/blob/master/MachineLearningMethods/2023_01/0017ClassifierKernelSVM.ipynb)"
   ]
  },
  {
   "cell_type": "code",
   "execution_count": null,
   "metadata": {
    "ExecuteTime": {
     "end_time": "2022-02-02T09:30:06.492269Z",
     "start_time": "2022-02-02T09:30:06.220934Z"
    }
   },
   "outputs": [],
   "source": [
    "# Import Packages\n",
    "\n",
    "# General Tools\n",
    "import numpy as np\n",
    "import scipy as sp\n",
    "import pandas as pd\n",
    "\n",
    "# Machine Learning\n",
    "from sklearn.datasets import make_classification\n",
    "from sklearn.svm import SVC\n",
    "\n",
    "# Misc\n",
    "import os\n",
    "from platform import python_version\n",
    "import random\n",
    "\n",
    "# Typing\n",
    "from typing import Tuple\n",
    "\n",
    "# Visualization\n",
    "import matplotlib.pyplot as plt\n",
    "import seaborn as sns\n",
    "\n",
    "# Jupyter\n",
    "from IPython import get_ipython\n",
    "from IPython.display import Image, display\n",
    "from ipywidgets import Dropdown, FloatSlider, interact, IntSlider, Layout"
   ]
  },
  {
   "attachments": {},
   "cell_type": "markdown",
   "metadata": {},
   "source": [
    "## Notations\n",
    "\n",
    "* <font color='red'>(**?**)</font> Question to answer interactively.\n",
    "* <font color='blue'>(**!**)</font> Simple task to add code for the notebook.\n",
    "* <font color='green'>(**@**)</font> Optional / Extra self practice.\n",
    "* <font color='brown'>(**#**)</font> Note / Useful resource / Food for thought."
   ]
  },
  {
   "cell_type": "code",
   "execution_count": null,
   "metadata": {},
   "outputs": [],
   "source": [
    "# Configuration\n",
    "%matplotlib inline\n",
    "\n",
    "seedNum = 512\n",
    "np.random.seed(seedNum)\n",
    "random.seed(seedNum)\n",
    "\n",
    "# sns.set_theme() #>! Apply SeaBorn theme\n",
    "\n",
    "runInGoogleColab = 'google.colab' in str(get_ipython())"
   ]
  },
  {
   "cell_type": "code",
   "execution_count": null,
   "metadata": {},
   "outputs": [],
   "source": [
    "# Constants\n",
    "\n",
    "FIG_SIZE_DEF = (8, 8)\n",
    "ELM_SIZE_DEF = 50\n",
    "CLASS_COLOR = ('b', 'r')\n"
   ]
  },
  {
   "cell_type": "code",
   "execution_count": null,
   "metadata": {},
   "outputs": [],
   "source": [
    "# Fixel Algorithms Packages\n"
   ]
  },
  {
   "cell_type": "code",
   "execution_count": null,
   "metadata": {},
   "outputs": [],
   "source": [
    "# Parameters\n",
    "\n",
    "# Data Generation\n",
    "numSamples      = 400\n",
    "numFeatures     = 2 #<! Number of total features\n",
    "numInformative  = 2 #<! Number of informative features\n",
    "numRedundant    = 0 #<! Number of redundant features\n",
    "numRepeated     = 0 #<! Number of repeated features\n",
    "numClasses      = 2 #<! Number of classes\n",
    "flipRatio       = 0.05 #<! Number of random swaps\n",
    "\n",
    "\n",
    "# Data Visualization\n",
    "elmSize     = 50\n",
    "classColor0 = 'b'\n",
    "classColor1 = 'r'\n",
    "\n",
    "numGridPts = 500"
   ]
  },
  {
   "cell_type": "code",
   "execution_count": null,
   "metadata": {},
   "outputs": [],
   "source": [
    "# Auxiliary Functions\n",
    "\n",
    "def PlotBinaryClassData( mX: np.ndarray, vY: np.ndarray, hA:plt.Axes = None, figSize: Tuple[int, int] = FIG_SIZE_DEF, elmSize: int = ELM_SIZE_DEF, classColor: Tuple[str, str] = CLASS_COLOR, axisTitle: str = None ) -> plt.Axes:\n",
    "\n",
    "    if hA is None:\n",
    "        hF, hA = plt.subplots(figsize = figSize)\n",
    "    else:\n",
    "        hF = hA.get_figure()\n",
    "    \n",
    "    vC, vN = np.unique(vY, return_counts = True)\n",
    "\n",
    "    numClass = len(vC)\n",
    "    if (len(vC) != 2):\n",
    "        raise ValueError(f'The input data is not binary, the number of classes is: {numClass}')\n",
    "\n",
    "    vIdx0 = vY == vC[0]\n",
    "    vIdx1 = vY == vC[1] #<! Basically ~vIdx0\n",
    "\n",
    "    hA.scatter(mX[vIdx0, 0], mX[vIdx0, 1], s = elmSize, color = classColor[0], edgecolor = 'k', label = f'$C_\\u007b {vC[0]} \\u007d$')\n",
    "    hA.scatter(mX[vIdx1, 0], mX[vIdx1, 1], s = elmSize, color = classColor[1], edgecolor = 'k', label = f'$C_\\u007b {vC[1]} \\u007d$')\n",
    "    hA.axvline(x = 0, color = 'k')\n",
    "    hA.axhline(y = 0, color = 'k')\n",
    "    hA.axis('equal')\n",
    "    if axisTitle is not None:\n",
    "        hA.set_title(axisTitle)\n",
    "    hA.legend()\n",
    "    \n",
    "    return hA\n",
    "\n",
    "def PlotDecisionBoundaryClosure( numGridPts, gridXMin, gridXMax, gridYMin, gridYMax, numDigits = 1 ):\n",
    "\n",
    "    # v0       = np.linspace(gridXMin, gridXMax, numGridPts)\n",
    "    # v1       = np.linspace(gridYMin, gridYMax, numGridPts)\n",
    "    roundFctr = 10 ** numDigits\n",
    "    \n",
    "    # For equal axis\n",
    "    minVal = np.floor(roundFctr * min(gridXMin, gridYMin)) / roundFctr\n",
    "    maxVal = np.ceil(roundFctr * max(gridXMax, gridYMax)) / roundFctr\n",
    "    v0     = np.linspace(minVal, maxVal, numGridPts)\n",
    "    v1     = np.linspace(minVal, maxVal, numGridPts)\n",
    "    \n",
    "    XX0, XX1 = np.meshgrid(v0, v1)\n",
    "    XX       = np.c_[XX0.ravel(), XX1.ravel()]\n",
    "\n",
    "    def PlotDecisionBoundary(hDecFun, hA = None):\n",
    "        \n",
    "        if hA is None:\n",
    "            hF, hA = plt.subplots(figsize = (8, 6))\n",
    "\n",
    "        Z = hDecFun(XX)\n",
    "        Z = Z.reshape(XX0.shape)\n",
    "            \n",
    "        hA.contourf(XX0, XX1, Z, colors = CLASS_COLOR, alpha = 0.3, levels = [-0.5, 0.5, 1.5])\n",
    "\n",
    "        return hA\n",
    "\n",
    "    return PlotDecisionBoundary\n",
    "\n",
    "def IsStrFloat(inStr: any) -> bool:\n",
    "    #Support None input\n",
    "    if inStr is None: \n",
    "        return False\n",
    "    try:\n",
    "        float(inStr)\n",
    "        return True\n",
    "    except ValueError:\n",
    "        return False\n"
   ]
  },
  {
   "attachments": {},
   "cell_type": "markdown",
   "metadata": {},
   "source": [
    "## Generate / Load Data\n"
   ]
  },
  {
   "cell_type": "code",
   "execution_count": null,
   "metadata": {},
   "outputs": [],
   "source": [
    "# Loading / Generating Data\n",
    "# mX, vY = make_classification(n_samples = 400, n_features = 2, n_informative = 2, n_redundant = 0, n_repeated = 0, n_classes = 2, flip_y = 0.05)\n",
    "mX, vY = make_classification(n_samples = numSamples, n_features = numFeatures, n_informative = numInformative, n_redundant = numRedundant, n_repeated = numRepeated, n_classes = numClasses, flip_y = flipRatio)\n",
    "\n",
    "\n",
    "print(f'The features data shape: {mX.shape}')\n",
    "print(f'The labels data shape: {vY.shape}')"
   ]
  },
  {
   "attachments": {},
   "cell_type": "markdown",
   "metadata": {},
   "source": [
    "### Plot Data"
   ]
  },
  {
   "cell_type": "code",
   "execution_count": null,
   "metadata": {},
   "outputs": [],
   "source": [
    "# Display the Data\n",
    "\n",
    "hA = PlotBinaryClassData(mX, vY, axisTitle = 'Data Set')\n",
    "hA.set_xlabel('${x}_{1}$')\n",
    "hA.set_ylabel('${x}_{2}$')\n",
    "\n",
    "plt.show()"
   ]
  },
  {
   "attachments": {},
   "cell_type": "markdown",
   "metadata": {},
   "source": [
    "## Train a Kernel SVM Classifier\n",
    "\n",
    "The SciKit Learn's Kernel SVM classifier has 4 kernel options: `linear`, `poly`, `rbf`, `sigmoid` and manual.  \n",
    "The 2 most used are:\n",
    "\n",
    "$$\n",
    "\\begin{aligned}\n",
    "& \\text{The Polynomial Kernel:} \\; && K \\left( \\boldsymbol{x}_{i},\\boldsymbol{x}_{j} \\right) = \\left(1+\\boldsymbol{x}_{i}^{T}\\boldsymbol{x}_{j}\\right)^{d} \\\\\n",
    "& \\text{The Gaussian Kernel (RBF):} \\; && K \\left( \\boldsymbol{x}_{i},\\boldsymbol{x}_{j} \\right) = \\exp\\left(-\\gamma\\left\\Vert \\boldsymbol{x}_{i}-\\boldsymbol{x}_{j}\\right\\Vert _{2}^{2}\\right)=\\exp\\left(-\\frac{1}{2\\sigma^{2}}\\left\\Vert \\boldsymbol{x}_{i}-\\boldsymbol{x}_{j}\\right\\Vert _{2}^{2}\\right)\n",
    "\\end{aligned}\n",
    "$$\n",
    "\n",
    "* <font color='brown'>(**#**)</font> See [SciPy's Kernel functions _Mathematical formulations_](https://scikit-learn.org/stable/modules/svm.html#kernel-functions).\n",
    "* <font color='brown'>(**#**)</font> The most commonly used kernel is the _RBF_ kernel.  \n",
    "  It can be shown that it is equivalent of potentially infinite polynomial degree where the actual degree can be set using the $\\sigma$ parameter.\n",
    "* <font color='brown'>(**#**)</font> In case the features are well engineered one can try well tuned linear model. Preferably using `LinearSVC` which is more efficient with large dataset."
   ]
  },
  {
   "cell_type": "code",
   "execution_count": null,
   "metadata": {},
   "outputs": [],
   "source": [
    "PlotDecisionBoundary = PlotDecisionBoundaryClosure(numGridPts, mX[:, 0].min(), mX[:, 0].max(), mX[:, 1].min(), mX[:, 1].max())"
   ]
  },
  {
   "cell_type": "code",
   "execution_count": null,
   "metadata": {},
   "outputs": [],
   "source": [
    "# Plotting Function\n",
    "\n",
    "def PlotKernelSvm( C, kernelType: str, polyDeg: int, γ, mX: np.ndarray, vY: np.ndarray ):\n",
    "    if IsStrFloat(γ):\n",
    "        γ = float(γ)\n",
    "    # Train the classifier\n",
    "    oSvmCls = SVC(C = C, kernel = kernelType, degree = polyDeg, gamma = γ).fit(mX, vY) #<! Training on the data, coef0 for bias\n",
    "    clsScore = oSvmCls.score(mX, vY)\n",
    "    \n",
    "    hF, hA = plt.subplots(figsize = FIG_SIZE_DEF)\n",
    "    hA = PlotDecisionBoundary(oSvmCls.predict, hA = hA)\n",
    "    hA = PlotBinaryClassData(mX, vY, hA = hA, axisTitle = f'Classifier Decision Boundary, Accuracy = {clsScore:0.2%}')\n",
    "\n",
    "    hA.set_xlabel('${x}_{1}$')\n",
    "    hA.set_ylabel('${x}_{2}$')"
   ]
  },
  {
   "cell_type": "code",
   "execution_count": null,
   "metadata": {},
   "outputs": [],
   "source": [
    "hPlotKernelSvm = lambda C, kernelType, polyDeg, γ: PlotKernelSvm(C, kernelType, polyDeg, γ, mX, vY)"
   ]
  },
  {
   "cell_type": "code",
   "execution_count": null,
   "metadata": {},
   "outputs": [],
   "source": [
    "# Display the Geometry of the Classifier\n",
    "# Be carful with the degree of the `poly` kernel\n",
    "\n",
    "cSlider             = FloatSlider(min = 0.05, max = 3.00, step = 0.05, value = 1.00, layout = Layout(width = '30%'))\n",
    "kernelTypeDropdown  = Dropdown(options = ['linear', 'poly', 'rbf', 'sigmoid'], value = 'linear', description = 'Kernel Type')\n",
    "polyDegSlider       = IntSlider(min = 1, max = 10, step = 1, value = 3, layout = Layout(width = '30%'))\n",
    "γDropdown           = Dropdown(options = ['scale', 'auto', '0.01', '0.05', '0.1', '0.3', '0.5', '0.75', '1.00', '1.50', '2.00', '100.00'], value = 'scale', description = 'Parameter γ')\n",
    "interact(hPlotKernelSvm, C = cSlider, kernelType = kernelTypeDropdown, polyDeg = polyDegSlider, γ = γDropdown)\n",
    "\n",
    "plt.show()"
   ]
  }
 ],
 "metadata": {
  "kernelspec": {
   "display_name": "Python 3",
   "language": "python",
   "name": "python3"
  },
  "language_info": {
   "codemirror_mode": {
    "name": "ipython",
    "version": 3
   },
   "file_extension": ".py",
   "mimetype": "text/x-python",
   "name": "python",
   "nbconvert_exporter": "python",
   "pygments_lexer": "ipython3",
   "version": "3.10.9"
  },
  "toc": {
   "base_numbering": 1,
   "nav_menu": {},
   "number_sections": false,
   "sideBar": true,
   "skip_h1_title": false,
   "title_cell": "Table of Contents",
   "title_sidebar": "Contents",
   "toc_cell": false,
   "toc_position": {},
   "toc_section_display": true,
   "toc_window_display": true
  },
  "varInspector": {
   "cols": {
    "lenName": 16,
    "lenType": 16,
    "lenVar": 40
   },
   "kernels_config": {
    "python": {
     "delete_cmd_postfix": "",
     "delete_cmd_prefix": "del ",
     "library": "var_list.py",
     "varRefreshCmd": "print(var_dic_list())"
    },
    "r": {
     "delete_cmd_postfix": ") ",
     "delete_cmd_prefix": "rm(",
     "library": "var_list.r",
     "varRefreshCmd": "cat(var_dic_list()) "
    }
   },
   "types_to_exclude": [
    "module",
    "function",
    "builtin_function_or_method",
    "instance",
    "_Feature"
   ],
   "window_display": false
  },
  "vscode": {
   "interpreter": {
    "hash": "39577bab1f263e62e0b74f5b8086bd735049bf4751f6562b2d4b2969dc308293"
   }
  }
 },
 "nbformat": 4,
 "nbformat_minor": 4
}
