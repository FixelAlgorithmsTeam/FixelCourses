{
 "cells": [
  {
   "attachments": {},
   "cell_type": "markdown",
   "metadata": {},
   "source": [
    "[![Fixel Algorithms](https://fixelalgorithms.co/images/CCExt.png)](https://fixelalgorithms.gitlab.io)\n",
    "\n",
    "# Machine Learning Methods\n",
    "\n",
    "## Supervised Learning - Classification Performance Scores / Metrics: Precision, Recall, ROC and AUC - Exercise\n",
    "\n",
    "> Notebook by:\n",
    "> - Royi Avital RoyiAvital@fixelalgorithms.com\n",
    "\n",
    "## Revision History\n",
    "\n",
    "| Version | Date       | User        |Content / Changes                                                   |\n",
    "|---------|------------|-------------|--------------------------------------------------------------------|\n",
    "| 0.1.000 | 23/01/2023 | Royi Avital | First version                                                      |\n",
    "|         |            |             |                                                                    |"
   ]
  },
  {
   "attachments": {},
   "cell_type": "markdown",
   "metadata": {},
   "source": [
    "[![Open In Colab](https://colab.research.google.com/assets/colab-badge.svg)](https://colab.research.google.com/github/FixelAlgorithmsTeam/FixelCourses/blob/master/MachineLearningMethods/2023_01/0014PerformanceScoreMetricsExercise.ipynb)"
   ]
  },
  {
   "cell_type": "code",
   "execution_count": null,
   "metadata": {
    "ExecuteTime": {
     "end_time": "2022-02-02T09:30:06.492269Z",
     "start_time": "2022-02-02T09:30:06.220934Z"
    }
   },
   "outputs": [],
   "source": [
    "# Import Packages\n",
    "\n",
    "# General Tools\n",
    "import numpy as np\n",
    "import scipy as sp\n",
    "import pandas as pd\n",
    "\n",
    "# Machine Learning\n",
    "from sklearn.datasets import make_moons\n",
    "from sklearn.metrics import ConfusionMatrixDisplay\n",
    "from sklearn.metrics import auc, confusion_matrix, precision_recall_fscore_support, roc_curve\n",
    "from sklearn.model_selection import train_test_split\n",
    "from sklearn.svm import SVC\n",
    "\n",
    "# Miscellaneous\n",
    "import os\n",
    "from platform import python_version\n",
    "import random\n",
    "\n",
    "# Typing\n",
    "from typing import Tuple\n",
    "\n",
    "# Visualization\n",
    "import matplotlib.pyplot as plt\n",
    "import seaborn as sns\n",
    "\n",
    "# Jupyter\n",
    "from IPython import get_ipython\n",
    "from IPython.display import Image, display\n",
    "from ipywidgets import Dropdown, FloatSlider, interact, IntSlider, Layout"
   ]
  },
  {
   "attachments": {},
   "cell_type": "markdown",
   "metadata": {},
   "source": [
    "## Notations\n",
    "\n",
    "* <font color='red'>(**?**)</font> Question to answer interactively.\n",
    "* <font color='blue'>(**!**)</font> Simple task to add code for the notebook.\n",
    "* <font color='green'>(**@**)</font> Optional / Extra self practice.\n",
    "* <font color='brown'>(**#**)</font> Note / Useful resource / Food for thought."
   ]
  },
  {
   "cell_type": "code",
   "execution_count": null,
   "metadata": {},
   "outputs": [],
   "source": [
    "# Configuration\n",
    "#%matplotlib inline\n",
    "\n",
    "seedNum = 512\n",
    "np.random.seed(seedNum)\n",
    "random.seed(seedNum)\n",
    "\n",
    "# sns.set_theme() #>! Apply SeaBorn theme\n",
    "\n",
    "runInGoogleColab = 'google.colab' in str(get_ipython())"
   ]
  },
  {
   "cell_type": "code",
   "execution_count": null,
   "metadata": {},
   "outputs": [],
   "source": [
    "# Constants\n",
    "\n",
    "FIG_SIZE_DEF = (8, 8)\n",
    "ELM_SIZE_DEF = 50\n",
    "CLASS_COLOR = ('b', 'r')\n",
    "EDGE_COLOR  = 'k'\n"
   ]
  },
  {
   "cell_type": "code",
   "execution_count": null,
   "metadata": {},
   "outputs": [],
   "source": [
    "# Fixel Algorithms Packages\n"
   ]
  },
  {
   "attachments": {},
   "cell_type": "markdown",
   "metadata": {},
   "source": [
    "## Calibrating the Model Performance\n",
    "\n",
    "In this exercise we'll learn few approaches dealing with imbalanced data and tuning performance:\n",
    "\n",
    " - Resampling.\n",
    " - Weighing (Class / Samples).\n",
    " - Probability Threshold.\n",
    "\n",
    "We'll do that using the SVM model, though they generalize to most models.\n",
    "\n",
    "* <font color='brown'>(**#**)</font> Pay attention that in order to have the probability per class on the _SVC_ class we need to set `probability = True`.\n",
    "* <font color='brown'>(**#**)</font> The process of `probability = True` is not always consistent with the `decision_function()` method. Hence it is better to use it in the case of the `SVC`.\n",
    "* <font color='brown'>(**#**)</font> In the above, all approaches are during the training time. One could also search for the best model, score wise, using _Cross Validation_.\n"
   ]
  },
  {
   "cell_type": "code",
   "execution_count": null,
   "metadata": {},
   "outputs": [],
   "source": [
    "# Parameters\n",
    "\n",
    "# Data Generation\n",
    "numSamples0 = 950\n",
    "numSamples1 = 50\n",
    "\n",
    "noiseLevel = 0.1\n",
    "\n",
    "testSize = 0.5\n",
    "\n",
    "# Model\n",
    "paramC      = 1\n",
    "kernelType  = 'linear'\n",
    "\n",
    "# Data Visualization\n",
    "numGridPts = 500"
   ]
  },
  {
   "cell_type": "code",
   "execution_count": null,
   "metadata": {},
   "outputs": [],
   "source": [
    "# Auxiliary Functions\n",
    "\n",
    "def PlotBinaryClassData( mX: np.ndarray, vY: np.ndarray, hA:plt.Axes = None, figSize: Tuple[int, int] = FIG_SIZE_DEF, elmSize: int = ELM_SIZE_DEF, classColor: Tuple[str, str] = CLASS_COLOR, axisTitle: str = None ) -> plt.Axes:\n",
    "\n",
    "    if hA is None:\n",
    "        hF, hA = plt.subplots(figsize = figSize)\n",
    "    else:\n",
    "        hF = hA.get_figure()\n",
    "    \n",
    "    vC, vN = np.unique(vY, return_counts = True)\n",
    "\n",
    "    numClass = len(vC)\n",
    "    if (len(vC) != 2):\n",
    "        raise ValueError(f'The input data is not binary, the number of classes is: {numClass}')\n",
    "\n",
    "    vIdx0 = vY == vC[0]\n",
    "    vIdx1 = vY == vC[1] #<! Basically ~vIdx0\n",
    "\n",
    "    hA.scatter(mX[vIdx0, 0], mX[vIdx0, 1], s = elmSize, color = classColor[0], edgecolor = 'k', label = f'$C_\\u007b {vC[0]} \\u007d$')\n",
    "    hA.scatter(mX[vIdx1, 0], mX[vIdx1, 1], s = elmSize, color = classColor[1], edgecolor = 'k', label = f'$C_\\u007b {vC[1]} \\u007d$')\n",
    "    hA.axvline(x = 0, color = 'k')\n",
    "    hA.axhline(y = 0, color = 'k')\n",
    "    hA.axis('equal')\n",
    "    if axisTitle is not None:\n",
    "        hA.set_title(axisTitle)\n",
    "    hA.legend()\n",
    "    \n",
    "    return hA\n",
    "\n",
    "def PlotLabelsHistogram(vY: np.ndarray, hA = None):\n",
    "\n",
    "    if hA is None:\n",
    "        hF, hA = plt.subplots(figsize = (8, 6))\n",
    "    \n",
    "    vLabels, vCounts = np.unique(vY, return_counts = True)\n",
    "\n",
    "    hA.bar(vLabels, vCounts, width = 0.9, align = 'center')\n",
    "    hA.set_xticks(vLabels)\n",
    "    hA.set_title('Histogram of Classes / Labels')\n",
    "    hA.set_xlabel('Class')\n",
    "    hA.set_ylabel('Number of Samples')\n",
    "\n",
    "    return hA\n",
    "\n",
    "def PlotConfusionMatrix(vY: np.ndarray, vYPred: np.ndarray, hA: plt.Axes = None, lLabels: list = None, dScore: dict = None, titleStr: str = 'Confusion Matrix') -> plt.Axes:\n",
    "\n",
    "    # Calculation of Confusion Matrix\n",
    "    mConfMat = confusion_matrix(vY, vYPred)\n",
    "    oConfMat = ConfusionMatrixDisplay(mConfMat, display_labels = lLabels)\n",
    "    oConfMat = oConfMat.plot(ax = hA)\n",
    "    hA = oConfMat.ax_\n",
    "    if dScore is not None:\n",
    "        titleStr += ':'\n",
    "        for scoreName, scoreVal in  dScore.items():\n",
    "            titleStr += f' {scoreName} = {scoreVal:0.2},'\n",
    "        titleStr = titleStr[:-1]\n",
    "    hA.set_title(titleStr)\n",
    "    hA.grid(False)\n",
    "\n",
    "    return hA\n",
    "\n",
    "\n",
    "def PlotDecisionBoundaryClosure( numGridPts, gridXMin, gridXMax, gridYMin, gridYMax, numDigits = 1 ):\n",
    "\n",
    "    # v0       = np.linspace(gridXMin, gridXMax, numGridPts)\n",
    "    # v1       = np.linspace(gridYMin, gridYMax, numGridPts)\n",
    "    roundFctr = 10 ** numDigits\n",
    "    \n",
    "    # For equal axis\n",
    "    minVal = np.floor(roundFctr * min(gridXMin, gridYMin)) / roundFctr\n",
    "    maxVal = np.ceil(roundFctr * max(gridXMax, gridYMax)) / roundFctr\n",
    "    v0     = np.linspace(minVal, maxVal, numGridPts)\n",
    "    v1     = np.linspace(minVal, maxVal, numGridPts)\n",
    "    \n",
    "    XX0, XX1 = np.meshgrid(v0, v1)\n",
    "    XX       = np.c_[XX0.ravel(), XX1.ravel()]\n",
    "\n",
    "    def PlotDecisionBoundary(hDecFun, hA = None):\n",
    "        \n",
    "        if hA is None:\n",
    "            hF, hA = plt.subplots(figsize = (8, 6))\n",
    "\n",
    "        Z = hDecFun(XX)\n",
    "        Z = Z.reshape(XX0.shape)\n",
    "            \n",
    "        hA.contourf(XX0, XX1, Z, colors = CLASS_COLOR, alpha = 0.3, levels = [-0.5, 0.5, 1.5])\n",
    "\n",
    "        return hA\n",
    "\n",
    "    return PlotDecisionBoundary\n",
    "    \n",
    "\n",
    "\n"
   ]
  },
  {
   "attachments": {},
   "cell_type": "markdown",
   "metadata": {},
   "source": [
    "## Generate / Load Data\n"
   ]
  },
  {
   "cell_type": "code",
   "execution_count": null,
   "metadata": {},
   "outputs": [],
   "source": [
    "# Loading / Generating Data\n",
    "\n",
    "mX, vY = make_moons(n_samples = [numSamples0, numSamples1], noise = noiseLevel)\n",
    "\n",
    "print(f'The features data shape: {mX.shape}')\n",
    "print(f'The labels data shape: {vY.shape}')\n",
    "print(f'The unique values of the labels: {np.unique(vY)}')"
   ]
  },
  {
   "attachments": {},
   "cell_type": "markdown",
   "metadata": {},
   "source": [
    "### Plot Data"
   ]
  },
  {
   "cell_type": "code",
   "execution_count": null,
   "metadata": {},
   "outputs": [],
   "source": [
    "# Display the Data\n",
    "\n",
    "vIdx0 = vY == 0\n",
    "vIdx1 = vY == 1\n",
    "\n",
    "mX0 = mX[vIdx0]\n",
    "mX1 = mX[vIdx1]\n",
    "\n",
    "hA = PlotBinaryClassData(mX, vY, axisTitle = 'Samples Data')"
   ]
  },
  {
   "attachments": {},
   "cell_type": "markdown",
   "metadata": {},
   "source": [
    "### Distribution of Labels\n",
    "\n",
    "When dealing with classification, it is important to know the balance between the labels within the data set."
   ]
  },
  {
   "cell_type": "code",
   "execution_count": null,
   "metadata": {},
   "outputs": [],
   "source": [
    "hA = PlotLabelsHistogram(vY)\n",
    "plt.show()"
   ]
  },
  {
   "attachments": {},
   "cell_type": "markdown",
   "metadata": {},
   "source": [
    "## Train SVM Classifier"
   ]
  },
  {
   "cell_type": "code",
   "execution_count": null,
   "metadata": {},
   "outputs": [],
   "source": [
    "# SVM Linear Model\n",
    "# Train a model and set the parameter `probability` to `True`\n",
    "#===========================Fill This===========================#\n",
    "oSVM  = SVC(C = paramC, kernel = kernelType, probability = ???).fit(mX, vY) #<! We can do the training in a one liner\n",
    "#===============================================================#\n",
    "\n",
    "modelScore = oSVM.score(mX, vY)\n",
    "\n",
    "print(f'The model score (Accuracy) on the data: {modelScore}') #<! Accuracy"
   ]
  },
  {
   "attachments": {},
   "cell_type": "markdown",
   "metadata": {},
   "source": [
    "### Plot Decision Boundary\n",
    "\n",
    "We'll display, the linear, decision boundary of the classifier."
   ]
  },
  {
   "cell_type": "code",
   "execution_count": null,
   "metadata": {},
   "outputs": [],
   "source": [
    "# Decision Boundary Plotter (Per Data!)\n",
    "# Look at the implementation for an example for a Closure in Python\n",
    "\n",
    "PlotDecisionBoundary = PlotDecisionBoundaryClosure(numGridPts, mX[:, 0].min(), mX[:, 0].max(), mX[:, 1].min(), mX[:, 1].max())\n"
   ]
  },
  {
   "cell_type": "code",
   "execution_count": null,
   "metadata": {},
   "outputs": [],
   "source": [
    "# Plotting the decision boundary\n",
    "hF, hA = plt.subplots(figsize = FIG_SIZE_DEF)\n",
    "hA = PlotDecisionBoundary(oSVM.predict, hA)\n",
    "hA = PlotBinaryClassData(mX, vY, hA = hA, axisTitle = 'Classifier Decision Boundary')\n",
    "plt.show()"
   ]
  },
  {
   "cell_type": "code",
   "execution_count": null,
   "metadata": {},
   "outputs": [],
   "source": [
    "# Extract confidence level in the prediction\n",
    "\n",
    "#===========================Fill This===========================#\n",
    "vD = ??? #<! Apply the decision function of the data set\n",
    "#===============================================================#\n",
    "\n",
    "mP = oSVM.predict_proba(mX) #<! Probabilities per class"
   ]
  },
  {
   "cell_type": "code",
   "execution_count": null,
   "metadata": {},
   "outputs": [],
   "source": [
    "# The built in probability doesn't match the decision function of the classifier!\n",
    "\n",
    "hF, hA = plt.subplots(figsize = FIG_SIZE_DEF)\n",
    "vSampleIdx = list(range(1, mX.shape[0] + 1))\n",
    "\n",
    "hA.scatter(vSampleIdx, vD > 0, s = 3 * ELM_SIZE_DEF, label = 'Class by Decision Function')\n",
    "hA.scatter(vSampleIdx, np.argmax(mP, axis = 1), s = ELM_SIZE_DEF, label = 'Class by Probability')\n",
    "hA.set_xlabel('Sample Index')\n",
    "hA.set_ylabel('Predicted Class')\n",
    "hA.legend()\n",
    "\n",
    "plt.show()"
   ]
  },
  {
   "attachments": {},
   "cell_type": "markdown",
   "metadata": {},
   "source": [
    "<font color='red'>(**?**)</font> Which one matches the trained model?"
   ]
  },
  {
   "cell_type": "code",
   "execution_count": null,
   "metadata": {},
   "outputs": [],
   "source": [
    "# Probability function for Binary SVM Classifier\n",
    "# Idea is to create function with asymptotic behavior\n",
    "# The input is the per sample output of `decision_function()` method\n",
    "\n",
    "def SvcBinProb(vD):\n",
    "    mP = np.zeros(shape = (vD.shape[0], 2))\n",
    "\n",
    "    mP[:, 1] = 0.5 * (1 + np.sign(vD) * (1 - np.exp(-np.abs(vD)))) #>! The probability of the positive class\n",
    "    mP[:, 0] = 1 - mP[:, 1]\n",
    "\n",
    "    return mP"
   ]
  },
  {
   "cell_type": "code",
   "execution_count": null,
   "metadata": {},
   "outputs": [],
   "source": [
    "# Probability per Sample per Class\n",
    "# Calculate the probability matrix using `SvcBinProb`\n",
    "\n",
    "#===========================Fill This===========================#\n",
    "mP = ???\n",
    "#===============================================================#"
   ]
  },
  {
   "cell_type": "code",
   "execution_count": null,
   "metadata": {},
   "outputs": [],
   "source": [
    "# Verify visually that the classification by `mP` and `vD` match\n",
    "\n",
    "hF, hA = plt.subplots(figsize = FIG_SIZE_DEF)\n",
    "vSampleIdx = list(range(1, mX.shape[0] + 1))\n",
    "\n",
    "hA.scatter(vSampleIdx, vD > 0, s = 3 * ELM_SIZE_DEF, label = 'Class by Decision Function')\n",
    "hA.scatter(vSampleIdx, np.argmax(mP, axis = 1), s = ELM_SIZE_DEF, label = 'Class by Probability')\n",
    "hA.set_xlabel('Sample Index')\n",
    "hA.set_ylabel('Predicted Class')\n",
    "hA.legend()\n",
    "\n",
    "plt.show()"
   ]
  },
  {
   "cell_type": "code",
   "execution_count": null,
   "metadata": {},
   "outputs": [],
   "source": [
    "# Check programmatically that the classification by `mP` and `vD` match\n",
    "\n",
    "#===========================Fill This===========================#\n",
    "???\n",
    "#===============================================================#\n"
   ]
  },
  {
   "attachments": {},
   "cell_type": "markdown",
   "metadata": {},
   "source": [
    "## Tuning Metrics / Scores\n",
    "\n",
    "In this section we'll show the effect of the tuning on the performance and the decision boundary."
   ]
  },
  {
   "attachments": {},
   "cell_type": "markdown",
   "metadata": {},
   "source": [
    "### Probability Threshold Tuning\n",
    "\n",
    "Most classifiers have a threshold based decision rule for binary classification.  \n",
    "In many cases it is based on probability on others (Such as in the SVM) on a different confidence function.  \n",
    "\n",
    "In the above we transformed the confidence function of the SVM into probability.  \n",
    "Now, we'll use the probability threshold as a way to play with the _working point_ of the classifier."
   ]
  },
  {
   "cell_type": "code",
   "execution_count": null,
   "metadata": {},
   "outputs": [],
   "source": [
    "# Extract the probability of the positive class\n",
    "# The array `mP` has the probability for both classes\n",
    "# Extract from it the probability of Class = 1\n",
    "\n",
    "#===========================Fill This===========================#\n",
    "vP = ???\n",
    "#===============================================================#\n",
    "\n",
    "vFP, vTP, vThr = roc_curve(vY, vP, pos_label = 1)\n",
    "AUC            = auc(vFP, vTP)"
   ]
  },
  {
   "cell_type": "code",
   "execution_count": null,
   "metadata": {},
   "outputs": [],
   "source": [
    "# Plotting Function\n",
    "\n",
    "hDecFunc = lambda XX, probThr: SvcBinProb(oSVM.decision_function(XX))[:, 1].reshape((numGridPts, numGridPts)) > probThr\n",
    "\n",
    "def PlotRoc(probThr):\n",
    "    _, vAx = plt.subplots(1, 2, figsize = (14, 6))\n",
    "    hA = vAx[0]\n",
    "    hA.plot(vFP, vTP, color = 'b', lw = 3, label = f'AUC = {AUC:.3f}')\n",
    "    hA.plot([0, 1], [0, 1], color = 'k', lw = 2, linestyle = '--')\n",
    "\n",
    "    vIdx = np.flatnonzero(vThr < probThr)\n",
    "    if vIdx.size == 0:\n",
    "        idx = -1\n",
    "    else:\n",
    "        idx = vIdx[0] - 1\n",
    "\n",
    "    hA.axvline(x = vFP[idx], color = 'g', lw = 2, linestyle = '--')\n",
    "    hA.set_xlabel('False Positive Rate')\n",
    "    hA.set_ylabel('True Positive Rate')\n",
    "    hA.set_title ('ROC')\n",
    "    hA.axis('equal')\n",
    "    hA.legend()\n",
    "    hA.grid()    \n",
    "    \n",
    "    hA = vAx[1]\n",
    "\n",
    "    hA = PlotDecisionBoundary(lambda XX: hDecFunc(XX, probThr), hA)\n",
    "    hA = PlotBinaryClassData(mX, vY, hA = hA)\n",
    "    \n"
   ]
  },
  {
   "cell_type": "code",
   "execution_count": null,
   "metadata": {},
   "outputs": [],
   "source": [
    "probThrSlider = FloatSlider(min = 0.0, max = 1.0, step = 0.01, value = 0.5, readout_format = '0.2%', layout = Layout(width = '30%'))\n",
    "interact(PlotRoc, probThr = probThrSlider)\n",
    "\n",
    "plt.show()"
   ]
  },
  {
   "attachments": {},
   "cell_type": "markdown",
   "metadata": {},
   "source": [
    "### Resampling\n",
    "\n",
    "Another way to have a better default classifier for the imbalanced data is to resample the data in a balanced way:\n",
    "\n",
    "![](https://i.imgur.com/kPGo65I.png)\n",
    "\n",
    "* <font color='brown'>(**#**)</font> There is a dedicated Python package for that called [`imbalanced-learn`](https://github.com/scikit-learn-contrib/imbalanced-learn) which automates this.  \n",
    "  It also uses some more advanced tricks. Hence in practice, if you chose resampling approach, use it.\n",
    "* <font color='brown'>(**#**)</font> While in the following example we'll resample the whole data set, in practice we'll do resampling only on the training data set.  \n",
    "  This is in order to avoid _data leakage_."
   ]
  },
  {
   "attachments": {},
   "cell_type": "markdown",
   "metadata": {},
   "source": [
    "#### Undersampling\n",
    "\n",
    "In case we have enough samples to learn from in the smaller class, this is the way to go."
   ]
  },
  {
   "cell_type": "code",
   "execution_count": null,
   "metadata": {},
   "outputs": [],
   "source": [
    "# Under Sample the Class 0 Samples\n",
    "# Using Numpy `choice()` we can resample indices with or without replacement.\n",
    "# In this case we need to undersample, hence with no replacement.\n",
    "\n",
    "#===========================Fill This===========================#\n",
    "vIdx0UnderSample = np.random.choice(???, ???, replace = ???)\n",
    "mX0UnderSample   = ???\n",
    "#===============================================================#\n",
    "\n",
    "mXS = np.vstack((mX0UnderSample, mX1))\n",
    "vYS = np.concatenate((np.zeros(mX0UnderSample.shape[0], dtype = vY.dtype), np.ones(mX1.shape[0], dtype = vY.dtype)))"
   ]
  },
  {
   "cell_type": "code",
   "execution_count": null,
   "metadata": {},
   "outputs": [],
   "source": [
    "# Plot resampled data\n",
    "hA = PlotBinaryClassData(mXS, vYS, axisTitle = 'Resampled Data')"
   ]
  },
  {
   "cell_type": "code",
   "execution_count": null,
   "metadata": {},
   "outputs": [],
   "source": [
    "# SVM Linear Model\n",
    "oSVM  = SVC(C = paramC, kernel = kernelType).fit(mXS, vYS) #<! Fit on the new sampled data"
   ]
  },
  {
   "cell_type": "code",
   "execution_count": null,
   "metadata": {},
   "outputs": [],
   "source": [
    "# Plot decision boundary\n",
    "hF, hA = plt.subplots(figsize = FIG_SIZE_DEF)\n",
    "hA = PlotDecisionBoundary(oSVM.predict, hA)\n",
    "hA = PlotBinaryClassData(mXS, vYS, hA = hA, axisTitle = 'Classifier Decision Boundary - Resampled Data')\n",
    "plt.show()"
   ]
  },
  {
   "attachments": {},
   "cell_type": "markdown",
   "metadata": {},
   "source": [
    "#### Oversampling\n",
    "\n",
    "In this case we resample the less populated class to have similar number of samples as the more populated class."
   ]
  },
  {
   "cell_type": "code",
   "execution_count": null,
   "metadata": {},
   "outputs": [],
   "source": [
    "# Over Sample the Class 1 Samples\n",
    "# In this case we'll utilize `choice()` with replacement\n",
    "\n",
    "#===========================Fill This===========================#\n",
    "numSamplesGenerate = ??? #<! Number of samples to generate\n",
    "vIdx1OverSample = np.random.choice(???, numSamplesGenerate replace = ???)\n",
    "mX1OverSampleSample = ???\n",
    "#===============================================================#\n",
    "\n",
    "mXS = np.vstack((mX0, mX1OverSampleSample))\n",
    "vYS = np.concatenate((np.zeros(mX0.shape[0], dtype = vY.dtype), np.ones(mX1OverSampleSample.shape[0], dtype = vY.dtype)))\n"
   ]
  },
  {
   "cell_type": "code",
   "execution_count": null,
   "metadata": {},
   "outputs": [],
   "source": [
    "# Plot resampled data\n",
    "hA = PlotBinaryClassData(mXS, vYS, axisTitle = 'Resampled Data')\n",
    "plt.show()"
   ]
  },
  {
   "cell_type": "code",
   "execution_count": null,
   "metadata": {},
   "outputs": [],
   "source": [
    "# SVM Linear Model\n",
    "oSVM  = SVC(C = paramC, kernel = kernelType).fit(mXS, vYS) #<! Fit on the new sampled data"
   ]
  },
  {
   "cell_type": "code",
   "execution_count": null,
   "metadata": {},
   "outputs": [],
   "source": [
    "# Plot decision boundary\n",
    "hF, hA = plt.subplots(figsize = FIG_SIZE_DEF)\n",
    "hA = PlotDecisionBoundary(oSVM.predict, hA)\n",
    "hA = PlotBinaryClassData(mXS, vYS, hA = hA, axisTitle = 'Classifier Decision Boundary - Resampled Data')\n",
    "plt.show()"
   ]
  },
  {
   "attachments": {},
   "cell_type": "markdown",
   "metadata": {},
   "source": [
    "* <font color='red'>(**?**)</font> Is the result the same as in the _under sample_ method? Why?"
   ]
  },
  {
   "attachments": {},
   "cell_type": "markdown",
   "metadata": {},
   "source": [
    "### Data Weighing\n",
    "\n",
    "Another approach is changing the weights of the data.  \n",
    "We have 2 methods here:\n",
    "\n",
    " - Weight per Sample  \n",
    "   This is very similar in effect to resample the sample. The difference is having ability for non integer weight.  \n",
    "   It may not be available in all classifiers on SciKit Learn (For example, `SVC` doesn't support this).\n",
    " - Weight per Class  \n",
    "   Applies the weighing on the samples according to their class.   \n",
    "   Usually applied in SciKit Learn under `class_weight`.\n",
    "   It has a `balanced` option which tries to balance imbalanced data."
   ]
  },
  {
   "cell_type": "code",
   "execution_count": null,
   "metadata": {},
   "outputs": [],
   "source": [
    "# SVM Linear Model - Balanced weighing\n",
    "\n",
    "#===========================Fill This===========================#\n",
    "oSVM  = SVC(C = paramC, kernel = kernelType, class_weight = ???).fit(mX, vY)\n",
    "#===============================================================#"
   ]
  },
  {
   "cell_type": "code",
   "execution_count": null,
   "metadata": {},
   "outputs": [],
   "source": [
    "# Plot decision boundary\n",
    "hF, hA = plt.subplots(figsize = FIG_SIZE_DEF)\n",
    "hA = PlotDecisionBoundary(oSVM.predict, hA)\n",
    "hA = PlotBinaryClassData(mX, vY, hA = hA, axisTitle = f'Classifier Decision Boundary: Class 0 Weight = {oSVM.class_weight_[0]:0.2f}, Class 1 Weight = {oSVM.class_weight_[1]:0.2f}')\n",
    "plt.show()"
   ]
  },
  {
   "cell_type": "code",
   "execution_count": null,
   "metadata": {},
   "outputs": [],
   "source": [
    "# SVM Linear Model - Manual weighing\n",
    "# We'll set the weight of the class 0 to 1, and class 1 to 1000\n",
    "\n",
    "#===========================Fill This===========================#\n",
    "dClassWeight = {???} #<! Fill a dictionary\n",
    "#===========================Fill This===========================#\n",
    "\n",
    "oSVM  = SVC(C = paramC, kernel = kernelType, class_weight = dClassWeight).fit(mX, vY)"
   ]
  },
  {
   "cell_type": "code",
   "execution_count": null,
   "metadata": {},
   "outputs": [],
   "source": [
    "# Plot decision boundary\n",
    "hF, hA = plt.subplots(figsize = FIG_SIZE_DEF)\n",
    "hA = PlotDecisionBoundary(oSVM.predict, hA)\n",
    "hA = PlotBinaryClassData(mX, vY, hA = hA, axisTitle = f'Classifier Decision Boundary: Class 0 Weight = {oSVM.class_weight_[0]:0.2f}, Class 1 Weight = {oSVM.class_weight_[1]:0.2f}')\n",
    "plt.show()"
   ]
  }
 ],
 "metadata": {
  "kernelspec": {
   "display_name": "Python 3",
   "language": "python",
   "name": "python3"
  },
  "language_info": {
   "codemirror_mode": {
    "name": "ipython",
    "version": 3
   },
   "file_extension": ".py",
   "mimetype": "text/x-python",
   "name": "python",
   "nbconvert_exporter": "python",
   "pygments_lexer": "ipython3",
   "version": "3.10.8 (tags/v3.10.8:aaaf517, Oct 11 2022, 16:50:30) [MSC v.1933 64 bit (AMD64)]"
  },
  "toc": {
   "base_numbering": 1,
   "nav_menu": {},
   "number_sections": false,
   "sideBar": true,
   "skip_h1_title": false,
   "title_cell": "Table of Contents",
   "title_sidebar": "Contents",
   "toc_cell": false,
   "toc_position": {},
   "toc_section_display": true,
   "toc_window_display": true
  },
  "varInspector": {
   "cols": {
    "lenName": 16,
    "lenType": 16,
    "lenVar": 40
   },
   "kernels_config": {
    "python": {
     "delete_cmd_postfix": "",
     "delete_cmd_prefix": "del ",
     "library": "var_list.py",
     "varRefreshCmd": "print(var_dic_list())"
    },
    "r": {
     "delete_cmd_postfix": ") ",
     "delete_cmd_prefix": "rm(",
     "library": "var_list.r",
     "varRefreshCmd": "cat(var_dic_list()) "
    }
   },
   "types_to_exclude": [
    "module",
    "function",
    "builtin_function_or_method",
    "instance",
    "_Feature"
   ],
   "window_display": false
  },
  "vscode": {
   "interpreter": {
    "hash": "4c555be6fa9458c8c75b4612c68315d9f1d74815b73d0e564fda29ad772cfcda"
   }
  }
 },
 "nbformat": 4,
 "nbformat_minor": 4
}
