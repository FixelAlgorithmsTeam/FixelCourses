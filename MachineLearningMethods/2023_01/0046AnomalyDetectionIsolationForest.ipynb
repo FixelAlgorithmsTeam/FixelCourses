{
 "cells": [
  {
   "attachments": {},
   "cell_type": "markdown",
   "metadata": {},
   "source": [
    "[![Fixel Algorithms](https://fixelalgorithms.co/images/CCExt.png)](https://fixelalgorithms.gitlab.io)\n",
    "\n",
    "# Machine Learning Methods\n",
    "\n",
    "## UnSupervised Learning - Anomaly Detection - Isolation Forest\n",
    "\n",
    "> Notebook by:\n",
    "> - Royi Avital RoyiAvital@fixelalgorithms.com\n",
    "\n",
    "## Revision History\n",
    "\n",
    "| Version | Date       | User        |Content / Changes                                                   |\n",
    "|---------|------------|-------------|--------------------------------------------------------------------|\n",
    "| 0.1.000 | 27/02/2023 | Royi Avital | First version                                                      |"
   ]
  },
  {
   "attachments": {},
   "cell_type": "markdown",
   "metadata": {},
   "source": [
    "[![Open In Colab](https://colab.research.google.com/assets/colab-badge.svg)](https://colab.research.google.com/github/FixelAlgorithmsTeam/FixelCourses/blob/master/MachineLearningMethods/2023_01/0046AnomalyDetectionIsolationForest.ipynb)"
   ]
  },
  {
   "cell_type": "code",
   "execution_count": null,
   "metadata": {
    "ExecuteTime": {
     "end_time": "2022-02-02T09:30:06.492269Z",
     "start_time": "2022-02-02T09:30:06.220934Z"
    }
   },
   "outputs": [],
   "source": [
    "# Import Packages\n",
    "\n",
    "# General Tools\n",
    "import numpy as np\n",
    "import scipy as sp\n",
    "import pandas as pd\n",
    "\n",
    "# Machine Learning\n",
    "from sklearn.ensemble import IsolationForest, RandomForestClassifier\n",
    "from sklearn.metrics import ConfusionMatrixDisplay\n",
    "from sklearn.metrics import average_precision_score, auc, confusion_matrix, f1_score, precision_recall_curve, roc_curve\n",
    "\n",
    "# Miscellaneous\n",
    "import os\n",
    "import math\n",
    "from platform import python_version\n",
    "import random\n",
    "\n",
    "# Typing\n",
    "from typing import Callable, List, Tuple, Union\n",
    "\n",
    "# Visualization\n",
    "from matplotlib.colors import LogNorm, Normalize, PowerNorm\n",
    "import matplotlib.pyplot as plt\n",
    "import seaborn as sns\n",
    "\n",
    "# Jupyter\n",
    "from IPython import get_ipython\n",
    "from IPython.display import Image, display\n",
    "from ipywidgets import Dropdown, FloatSlider, interact, IntSlider, Layout"
   ]
  },
  {
   "attachments": {},
   "cell_type": "markdown",
   "metadata": {},
   "source": [
    "## Notations\n",
    "\n",
    "* <font color='red'>(**?**)</font> Question to answer interactively.\n",
    "* <font color='blue'>(**!**)</font> Simple task to add code for the notebook.\n",
    "* <font color='green'>(**@**)</font> Optional / Extra self practice.\n",
    "* <font color='brown'>(**#**)</font> Note / Useful resource / Food for thought."
   ]
  },
  {
   "cell_type": "code",
   "execution_count": null,
   "metadata": {},
   "outputs": [],
   "source": [
    "# Configuration\n",
    "#%matplotlib inline\n",
    "\n",
    "seedNum = 512\n",
    "np.random.seed(seedNum)\n",
    "random.seed(seedNum)\n",
    "\n",
    "# sns.set_theme() #>! Apply SeaBorn theme\n",
    "\n",
    "runInGoogleColab = 'google.colab' in str(get_ipython())"
   ]
  },
  {
   "cell_type": "code",
   "execution_count": null,
   "metadata": {},
   "outputs": [],
   "source": [
    "# Constants\n",
    "\n",
    "FIG_SIZE_DEF    = (8, 8)\n",
    "ELM_SIZE_DEF    = 50\n",
    "CLASS_COLOR     = ('b', 'r')\n",
    "EDGE_COLOR      = 'k'\n",
    "MARKER_SIZE_DEF = 10\n",
    "LINE_WIDTH_DEF  = 2\n",
    "\n",
    "DATA_FILE_URL = r'https://raw.githubusercontent.com/nsethi31/Kaggle-Data-Credit-Card-Fraud-Detection/master/creditcard.csv'\n"
   ]
  },
  {
   "cell_type": "code",
   "execution_count": null,
   "metadata": {},
   "outputs": [],
   "source": [
    "# Fixel Algorithms Packages\n"
   ]
  },
  {
   "attachments": {},
   "cell_type": "markdown",
   "metadata": {},
   "source": [
    "## Anomaly Detection by Isolation Forest\n",
    "\n",
    "In this note book we'll use the [Isolation Forest](https://en.wikipedia.org/wiki/Isolation_forest) approach for anomaly detection.  \n",
    "The intuition in _Isolation Forest_ is that the inliers are dense and hence in order to separate a sample from the rest many splits are needed.\n",
    "\n",
    "This notebook introduces:\n",
    "\n",
    "1. Working on real world data of credit card fraud.\n",
    "2. Working with the `IsolationForest` class.\n",
    "3. Comparing supervised approach to unsupervised approach.\n",
    "\n",
    "* <font color='brown'>(**#**)</font> Isolation Forest is a tree based model (Ensemble)."
   ]
  },
  {
   "attachments": {},
   "cell_type": "markdown",
   "metadata": {},
   "source": [
    "* <font color='red'>(**?**)</font> Balance wise, how do you expect the data to look like?"
   ]
  },
  {
   "cell_type": "code",
   "execution_count": null,
   "metadata": {},
   "outputs": [],
   "source": [
    "# Parameters\n",
    "\n",
    "# Data\n",
    "numSamples = 500\n",
    "noiseLevel = 0.1\n",
    "\n",
    "# Model\n",
    "numEstimators       = 50\n",
    "contaminationRatio  = 'auto'\n",
    "\n",
    "# Visualization\n",
    "\n",
    "numGrdiPts = 201\n"
   ]
  },
  {
   "cell_type": "code",
   "execution_count": null,
   "metadata": {},
   "outputs": [],
   "source": [
    "# Auxiliary Functions\n",
    "\n",
    "def PlotScatterData(mX: np.ndarray, vL: np.ndarray = None, hA:plt.Axes = None, figSize: Tuple[int, int] = FIG_SIZE_DEF, markerSize: int = MARKER_SIZE_DEF, edgeColor: int = EDGE_COLOR, axisTitle: str = None):\n",
    "\n",
    "    if hA is None:\n",
    "        hF, hA = plt.subplots(figsize = figSize)\n",
    "    else:\n",
    "        hF = hA.get_figure()\n",
    "    \n",
    "    numSamples = mX.shape[0]\n",
    "\n",
    "    if vL is None:\n",
    "        vL = np.zeros(numSamples)\n",
    "    \n",
    "    vU = np.unique(vL)\n",
    "    numClusters = len(vU)\n",
    "\n",
    "    for ii in range(numClusters):\n",
    "        vIdx = vL == vU[ii]\n",
    "        hA.scatter(mX[vIdx, 0], mX[vIdx, 1], s = markerSize, edgecolor = edgeColor, label = ii)\n",
    "    \n",
    "    hA.set_xlabel('${{x}}_{{1}}$')\n",
    "    hA.set_ylabel('${{x}}_{{2}}$')\n",
    "    if axisTitle is not None:\n",
    "        hA.set_title(axisTitle)\n",
    "    hA.grid()\n",
    "    hA.legend()\n",
    "\n",
    "    return hA\n",
    "\n",
    "\n",
    "def PlotLabelsHistogram(vY: np.ndarray, hA = None, lClass = None, xLabelRot: int = None) -> plt.Axes:\n",
    "\n",
    "    if hA is None:\n",
    "        hF, hA = plt.subplots(figsize = (8, 6))\n",
    "    \n",
    "    vLabels, vCounts = np.unique(vY, return_counts = True)\n",
    "\n",
    "    hA.bar(vLabels, vCounts, width = 0.9, align = 'center')\n",
    "    hA.set_title('Histogram of Classes / Labels')\n",
    "    hA.set_xlabel('Class')\n",
    "    hA.set_ylabel('Number of Samples')\n",
    "    hA.set_xticks(vLabels)\n",
    "    if lClass is not None:\n",
    "        hA.set_xticklabels(lClass)\n",
    "    \n",
    "    if xLabelRot is not None:\n",
    "        for xLabel in hA.get_xticklabels():\n",
    "            xLabel.set_rotation(xLabelRot)\n",
    "\n",
    "    return hA\n",
    "\n"
   ]
  },
  {
   "attachments": {},
   "cell_type": "markdown",
   "metadata": {},
   "source": [
    "## Generate / Load Data\n",
    "\n",
    "In this notebook we'll use the [`creditcard`](https://www.openml.org/search?type=data&id=1597) data set.\n",
    "\n",
    "The datasets contains transactions made by credit cards in September 2013 by european cardholders.  \n",
    "This dataset present transactions that occurred in two days, where we have 492 frauds out of 284,807 transactions.  \n",
    "The dataset is highly unbalanced, the positive class (frauds) account for 0.172% of all transactions.\n",
    "\n",
    "It contains only numerical input variables which are the result of a **PCA transformation** in order to preserve confidentiality.\n",
    "\n",
    "* <font color='brown'>(**#**)</font> The features: `V1`, `V2`, ..., `V28` the PCA transformed data.\n",
    "* <font color='brown'>(**#**)</font> The `Class` column is the labeling where `Class = 1` means a fraud transaction.\n"
   ]
  },
  {
   "cell_type": "code",
   "execution_count": null,
   "metadata": {},
   "outputs": [],
   "source": [
    "# Loading / Generating Data\n",
    "\n",
    "dfData = pd.read_csv(DATA_FILE_URL)\n",
    "\n",
    "\n",
    "print(f'The features data shape: {dfData.shape}')"
   ]
  },
  {
   "attachments": {},
   "cell_type": "markdown",
   "metadata": {},
   "source": [
    "### Plot the Data"
   ]
  },
  {
   "cell_type": "code",
   "execution_count": null,
   "metadata": {},
   "outputs": [],
   "source": [
    "# Plot the Data\n",
    "\n",
    "dfData.head()"
   ]
  },
  {
   "cell_type": "code",
   "execution_count": null,
   "metadata": {},
   "outputs": [],
   "source": [
    "# Histogram of Labels\n",
    "\n",
    "hA = PlotLabelsHistogram(dfData['Class'])"
   ]
  },
  {
   "attachments": {},
   "cell_type": "markdown",
   "metadata": {},
   "source": [
    "The data is highly imbalanced. Hence we might treat the fraud cases as outliers."
   ]
  },
  {
   "attachments": {},
   "cell_type": "markdown",
   "metadata": {},
   "source": [
    "* <font color='red'>(**?**)</font> Given the data as is, is that a supervised or unsupervised problem?\n",
    "* <font color='red'>(**?**)</font> Which approach would work better?"
   ]
  },
  {
   "attachments": {},
   "cell_type": "markdown",
   "metadata": {},
   "source": [
    "## Pre Process Data\n",
    "\n",
    "We'll remove the time data and separate the class data.  \n",
    "We'll also convert the data into numeric form (NumPy arrays)."
   ]
  },
  {
   "cell_type": "code",
   "execution_count": null,
   "metadata": {},
   "outputs": [],
   "source": [
    "mX = dfData.drop(columns = ['Time', 'Class']).to_numpy()\n",
    "vY = dfData['Class'].to_numpy()"
   ]
  },
  {
   "attachments": {},
   "cell_type": "markdown",
   "metadata": {},
   "source": [
    "## Applying Outlier Detection - Isolation Forest\n",
    "\n",
    "We'll use SciKit Learn's implementation: [`IsolationForest`](https://scikit-learn.org/stable/modules/generated/sklearn.ensemble.IsolationForest.html).\n",
    "\n",
    "In this section we'll also apply "
   ]
  },
  {
   "cell_type": "code",
   "execution_count": null,
   "metadata": {},
   "outputs": [],
   "source": [
    "# Applying the Model\n",
    "# UnSupervised Model - Isolation Forest\n",
    "\n",
    "oIsoForestOutDet = IsolationForest(n_estimators = numEstimators, contamination = contaminationRatio)\n",
    "oIsoForestOutDet = oIsoForestOutDet.fit(mX)"
   ]
  },
  {
   "cell_type": "code",
   "execution_count": null,
   "metadata": {},
   "outputs": [],
   "source": [
    "# Applying the Model\n",
    "# Supervised Model - Random Forest\n",
    "\n",
    "oRndForestCls = RandomForestClassifier(n_estimators = numEstimators, oob_score = True, n_jobs = -1)\n",
    "oRndForestCls = oRndForestCls.fit(mX, vY)"
   ]
  },
  {
   "attachments": {},
   "cell_type": "markdown",
   "metadata": {},
   "source": [
    "### Plot the Model Results\n",
    "\n",
    "We'll analyze results using the ROC Curve of both methods."
   ]
  },
  {
   "cell_type": "code",
   "execution_count": null,
   "metadata": {},
   "outputs": [],
   "source": [
    "# Score / Decision Function\n",
    "vScoreRF =  oRndForestCls.oob_decision_function_[:, 1] #<! Score for Label 1\n",
    "vScoreIF = -oIsoForestOutDet.decision_function(mX)"
   ]
  },
  {
   "cell_type": "code",
   "execution_count": null,
   "metadata": {},
   "outputs": [],
   "source": [
    "# ROC Curve Calculation\n",
    "\n",
    "vFP_RF, vTP_RF, vThersholdRF = roc_curve(vY, vScoreRF, pos_label = 1)\n",
    "vFP_IF, vTP_IF, vThersholdIF = roc_curve(vY, vScoreIF, pos_label = 1)\n",
    "\n",
    "AUC_RF = auc(vFP_RF, vTP_RF)\n",
    "AUC_IF = auc(vFP_IF, vTP_IF)"
   ]
  },
  {
   "cell_type": "code",
   "execution_count": null,
   "metadata": {},
   "outputs": [],
   "source": [
    "# Plot the ROC Curve\n",
    "\n",
    "hF, hA = plt.subplots(figsize = FIG_SIZE_DEF)\n",
    "hA.plot(vFP_RF, vTP_RF, color = 'b', lw = 3, label = f'RF  AUC = {AUC_RF :.3f} (Out of Bag Score)')\n",
    "hA.plot(vFP_IF, vTP_IF, color = 'r', lw = 3, label = f'IF  AUC = {AUC_IF :.3f}')\n",
    "hA.plot([0, 1], [0, 1], color = 'k', lw = 2, linestyle = '--')\n",
    "hA.set_title ('ROC')\n",
    "hA.set_xlabel('False Positive Rate')\n",
    "hA.set_ylabel('True Positive Rate')\n",
    "hA.axis ('equal')\n",
    "hA.legend()\n",
    "hA.grid()\n",
    "\n",
    "plt.show()"
   ]
  },
  {
   "attachments": {},
   "cell_type": "markdown",
   "metadata": {},
   "source": [
    "* <font color='red'>(**?**)</font> Which method is better by the AUC score?\n",
    "* <font color='red'>(**?**)</font> Which method would you chose?"
   ]
  },
  {
   "cell_type": "markdown",
   "metadata": {},
   "source": []
  },
  {
   "cell_type": "code",
   "execution_count": null,
   "metadata": {},
   "outputs": [],
   "source": [
    "# Interpolate Performance by Threshold\n",
    "v              = np.linspace(0, 1, numGrdiPts, endpoint = True)\n",
    "vThersholdRF2  = np.interp(v, vFP_RF, vThersholdRF)\n",
    "vThersholdIF2  = np.interp(v, vFP_IF, vThersholdIF)"
   ]
  },
  {
   "cell_type": "code",
   "execution_count": null,
   "metadata": {},
   "outputs": [],
   "source": [
    "def PlotConfusionMatrices(thrLvl):\n",
    "    \n",
    "    thrRF    = vThersholdRF2[thrLvl]\n",
    "    thrIF    = vThersholdIF2[thrLvl]\n",
    "    vHatY_RF = vScoreRF > thrRF\n",
    "    vHatY_IF = vScoreIF > thrIF\n",
    "        \n",
    "    mC_RF = confusion_matrix(vY, vHatY_RF)\n",
    "    mC_IF = confusion_matrix(vY, vHatY_IF)\n",
    "    \n",
    "    fig = plt.figure(figsize = (12, 8))\n",
    "    ax  = fig.add_subplot(1, 2, 1)\n",
    "    ax.plot(vFP_RF, vTP_RF, color = 'b', lw=3, label=f'RF AUC = {AUC_RF :.3f} (On train data)')\n",
    "    ax.plot(vFP_IF, vTP_IF, color = 'r', lw=3, label=f'IF AUC = {AUC_IF :.3f}')\n",
    "    ax.plot([0, 1], [0, 1], color = 'k', lw=2, linestyle='--')\n",
    "    ax.axvline(x = thrLvl / (numGrdiPts - 1), color = 'g', lw = 2, linestyle = '--')\n",
    "    ax.set_title ('ROC')\n",
    "    ax.set_xlabel('False Positive Rate')\n",
    "    ax.set_ylabel('True Positive Rate')\n",
    "    ax.axis      ('equal')\n",
    "    ax.legend    ()\n",
    "    ax.grid      ()    \n",
    "    \n",
    "    axRF = fig.add_subplot(2, 3, 3)\n",
    "    axIF = fig.add_subplot(2, 3, 6)\n",
    "    \n",
    "    ConfusionMatrixDisplay(mC_RF, display_labels=['Normal', 'Fruad']).plot(ax=axRF)\n",
    "    ConfusionMatrixDisplay(mC_IF, display_labels=['Normal', 'Fruad']).plot(ax=axIF)\n",
    "    axRF.set_title('Random Forest   \\n' f'f1_score = {f1_score(vY, vHatY_RF):1.4f}')\n",
    "    axIF.set_title('Isolation Forest\\n' f'f1_score = {f1_score(vY, vHatY_IF):1.4f}')\n",
    "    plt.show        ()\n",
    "    \n"
   ]
  },
  {
   "cell_type": "code",
   "execution_count": null,
   "metadata": {},
   "outputs": [],
   "source": [
    "# Interactive Plot\n",
    "thrLvlSlider = IntSlider(min = 0, max = numGrdiPts - 1, step = 1, value = 0, layout = Layout(width = '30%'))\n",
    "interact(PlotConfusionMatrices, thrLvl = thrLvlSlider)\n",
    "plt.show()"
   ]
  },
  {
   "attachments": {},
   "cell_type": "markdown",
   "metadata": {},
   "source": [
    "* <font color='brown'>(**#**)</font> In the above, due to the imbalanced properties of the data the AUC isn't a good score."
   ]
  },
  {
   "attachments": {},
   "cell_type": "markdown",
   "metadata": {},
   "source": [
    "### Precision Recall Curve\n",
    "\n",
    "For highly imbalanced data, the Precision Recall Curve is usually a better tool to analyze performance.\n",
    "\n",
    "* <font color='brown'>(**#**)</font> The _Precision Recall Curve_ isn't guaranteed to be monotonic."
   ]
  },
  {
   "cell_type": "code",
   "execution_count": null,
   "metadata": {},
   "outputs": [],
   "source": [
    "vPR_RF, vRE_RF, vThersholdPrReRF = precision_recall_curve(vY, vScoreRF, pos_label = 1)\n",
    "vPR_IF, vRE_IF, vThersholdPrReIF = precision_recall_curve(vY, vScoreIF, pos_label = 1)\n",
    "\n",
    "# Average Precision Score, Somewhat equivalent to the AUC for the PR Curve\n",
    "AUC_PrReRF = average_precision_score(vY, vScoreRF, pos_label = 1)\n",
    "AUC_PrReIF = average_precision_score(vY, vScoreIF, pos_label = 1)"
   ]
  },
  {
   "cell_type": "code",
   "execution_count": null,
   "metadata": {},
   "outputs": [],
   "source": [
    "hF, hA = plt.subplots(figsize = FIG_SIZE_DEF)\n",
    "hA.plot(vRE_RF, vPR_RF, color = 'b', lw = 3, label = f'RF  Average Precision = {AUC_PrReRF :.3f} (Out of Bag Score)')\n",
    "hA.plot(vRE_IF, vPR_IF, color = 'r', lw = 3, label = f'IF  Average Precision = {AUC_PrReIF :.3f}')\n",
    "hA.set_title ('Precision Recall Curve')\n",
    "hA.set_xlabel('Recall')\n",
    "hA.set_ylabel('Precision')\n",
    "hA.axis('equal')\n",
    "hA.legend()\n",
    "hA.grid()\n",
    "plt.show()"
   ]
  },
  {
   "attachments": {},
   "cell_type": "markdown",
   "metadata": {},
   "source": [
    "* <font color='red'>(**?**)</font> Which score would you optimize in the case above?"
   ]
  }
 ],
 "metadata": {
  "kernelspec": {
   "display_name": "Python 3",
   "language": "python",
   "name": "python3"
  },
  "language_info": {
   "codemirror_mode": {
    "name": "ipython",
    "version": 3
   },
   "file_extension": ".py",
   "mimetype": "text/x-python",
   "name": "python",
   "nbconvert_exporter": "python",
   "pygments_lexer": "ipython3",
   "version": "3.10.9"
  },
  "toc": {
   "base_numbering": 1,
   "nav_menu": {},
   "number_sections": false,
   "sideBar": true,
   "skip_h1_title": false,
   "title_cell": "Table of Contents",
   "title_sidebar": "Contents",
   "toc_cell": false,
   "toc_position": {},
   "toc_section_display": true,
   "toc_window_display": true
  },
  "varInspector": {
   "cols": {
    "lenName": 16,
    "lenType": 16,
    "lenVar": 40
   },
   "kernels_config": {
    "python": {
     "delete_cmd_postfix": "",
     "delete_cmd_prefix": "del ",
     "library": "var_list.py",
     "varRefreshCmd": "print(var_dic_list())"
    },
    "r": {
     "delete_cmd_postfix": ") ",
     "delete_cmd_prefix": "rm(",
     "library": "var_list.r",
     "varRefreshCmd": "cat(var_dic_list()) "
    }
   },
   "types_to_exclude": [
    "module",
    "function",
    "builtin_function_or_method",
    "instance",
    "_Feature"
   ],
   "window_display": false
  },
  "vscode": {
   "interpreter": {
    "hash": "39577bab1f263e62e0b74f5b8086bd735049bf4751f6562b2d4b2969dc308293"
   }
  }
 },
 "nbformat": 4,
 "nbformat_minor": 4
}
