{
 "cells": [
  {
   "attachments": {},
   "cell_type": "markdown",
   "metadata": {},
   "source": [
    "[![Fixel Algorithms](https://fixelalgorithms.co/images/CCExt.png)](https://fixelalgorithms.gitlab.io/)\n",
    "\n",
    "# Machine Learning Methods\n",
    "\n",
    "## Supervised Learning - Classification - Train a Linear Classifier (Gradient Descent)\n",
    "\n",
    "> Notebook by:\n",
    "> - Royi Avital RoyiAvital@fixelalgorithms.com\n",
    "\n",
    "## Revision History\n",
    "\n",
    "| Version | Date       | User        |Content / Changes                                                   |\n",
    "|---------|------------|-------------|--------------------------------------------------------------------|\n",
    "| 0.1.000 | 17/09/2022 | Royi Avital | First version                                                      |\n",
    "|         |            |             |                                                                    |"
   ]
  },
  {
   "attachments": {},
   "cell_type": "markdown",
   "metadata": {},
   "source": [
    "[![Open In Colab](https://colab.research.google.com/assets/colab-badge.svg)](https://colab.research.google.com/github/FixelAlgorithmsTeam/FixelCourses/blob/master/MachineLearningMethods/2023_01/0005ClassifierLinearTrain.ipynb)"
   ]
  },
  {
   "cell_type": "code",
   "execution_count": null,
   "metadata": {
    "ExecuteTime": {
     "end_time": "2022-02-02T09:30:06.492269Z",
     "start_time": "2022-02-02T09:30:06.220934Z"
    }
   },
   "outputs": [],
   "source": [
    "# Import Packages\n",
    "\n",
    "# General Tools\n",
    "import numpy as np\n",
    "import scipy as sp\n",
    "import pandas as pd\n",
    "\n",
    "# Machine Learning\n",
    "from sklearn.datasets import load_breast_cancer, make_circles, make_moons\n",
    "\n",
    "# Misc\n",
    "import datetime\n",
    "import os\n",
    "from platform import python_version\n",
    "import random\n",
    "import warnings\n",
    "import yaml\n",
    "\n",
    "# Typing\n",
    "from typing import Tuple\n",
    "\n",
    "# Visualization\n",
    "import matplotlib.pyplot as plt\n",
    "import seaborn as sns\n",
    "\n",
    "# Jupyter\n",
    "from IPython import get_ipython\n",
    "from IPython.display import Image, display\n",
    "from ipywidgets import Dropdown, FloatSlider, interact, IntSlider, Layout"
   ]
  },
  {
   "attachments": {},
   "cell_type": "markdown",
   "metadata": {},
   "source": [
    "## Notations\n",
    "\n",
    "* <font color='red'>(**?**)</font> Question to answer interactively.\n",
    "* <font color='blue'>(**!**)</font> Simple task to add code for the notebook.\n",
    "* <font color='green'>(**@**)</font> Optional / Extra self practice.\n",
    "* <font color='brown'>(**#**)</font> Note / Useful resource / Food for thought."
   ]
  },
  {
   "cell_type": "code",
   "execution_count": null,
   "metadata": {},
   "outputs": [],
   "source": [
    "# Configuration\n",
    "%matplotlib inline\n",
    "\n",
    "warnings.filterwarnings(\"ignore\")\n",
    "\n",
    "seedNum = 512\n",
    "np.random.seed(seedNum)\n",
    "random.seed(seedNum)\n",
    "\n",
    "# sns.set_theme() #>! Apply SeaBorn theme\n",
    "\n",
    "runInGoogleColab = 'google.colab' in str(get_ipython())"
   ]
  },
  {
   "cell_type": "code",
   "execution_count": null,
   "metadata": {},
   "outputs": [],
   "source": [
    "# Constants\n",
    "\n",
    "FIG_SIZE_DEF = (8, 8)\n",
    "ELM_SIZE_DEF = 50\n",
    "CLASS_COLOR = ('b', 'r')\n"
   ]
  },
  {
   "cell_type": "code",
   "execution_count": null,
   "metadata": {},
   "outputs": [],
   "source": [
    "# Fixel Algorithms Packages\n"
   ]
  },
  {
   "cell_type": "code",
   "execution_count": null,
   "metadata": {},
   "outputs": [],
   "source": [
    "# Parameters\n",
    "\n",
    "# Data Generation\n",
    "numSamples = 500\n",
    "noiseLevel = 0.1\n",
    "\n",
    "# Data Visualization\n",
    "figSize     = (8, 8)\n",
    "elmSize     = 50\n",
    "classColor0 = 'b'\n",
    "classColor1 = 'r'\n",
    "\n",
    "numGridPts = 250"
   ]
  },
  {
   "cell_type": "code",
   "execution_count": null,
   "metadata": {},
   "outputs": [],
   "source": [
    "# Auxiliary Functions\n",
    "\n",
    "def PlotBinaryClassData( mX: np.ndarray, vY: np.ndarray, hA:plt.Axes = None, figSize: Tuple[int, int] = FIG_SIZE_DEF, elmSize: int = ELM_SIZE_DEF, classColor: Tuple[str, str] = CLASS_COLOR, axisTitle: str = None ) -> plt.Axes:\n",
    "\n",
    "    if hA is None:\n",
    "        hF, hA = plt.subplots(figsize = figSize)\n",
    "    else:\n",
    "        hF = hA.get_figure()\n",
    "    \n",
    "    vC, vN = np.unique(vY, return_counts = True)\n",
    "\n",
    "    numClass = len(vC)\n",
    "    if (len(vC) != 2):\n",
    "        raise ValueError(f'The input data is not binary, the number of classes is: {numClass}')\n",
    "\n",
    "    vIdx0 = vY == vC[0]\n",
    "    vIdx1 = vY == vC[1] #<! Basically ~vIdx0\n",
    "\n",
    "    hA.scatter(mX[vIdx0, 0], mX[vIdx0, 1], s = elmSize, color = classColor[0], edgecolor = 'k', label = f'$C_\\u007b {vC[0]} \\u007d$')\n",
    "    hA.scatter(mX[vIdx1, 0], mX[vIdx1, 1], s = elmSize, color = classColor[1], edgecolor = 'k', label = f'$C_\\u007b {vC[1]} \\u007d$')\n",
    "    hA.axvline(x = 0, color = 'k')\n",
    "    hA.axhline(y = 0, color = 'k')\n",
    "    hA.axis('equal')\n",
    "    if axisTitle is not None:\n",
    "        hA.set_title(axisTitle)\n",
    "    hA.legend()\n",
    "    \n",
    "    return hA\n",
    "\n",
    "\n",
    "def PlotLinearClassifier(mX: np.ndarray, vW: np.ndarray, vY: np.ndarray, mX1, mX2, hA):\n",
    "    b = vW[0]\n",
    "    vW = vW[1:]\n",
    "    XX = np.column_stack([mX1.flatten(), mX2.flatten()])\n",
    "\n",
    "    vZ = (XX @ vW - b) > 0\n",
    "    ZZ = vZ.reshape(mX1.shape)\n",
    "    \n",
    "    vHatY    = np.sign(mX @ vW - b)\n",
    "    accuracy = np.mean(vY == vHatY)\n",
    "\n",
    "    axisTitle = r'$f_{{w},b} \\left( {x} \\right) = {sign} \\left( {w}^{T} {x} - b \\right)$' '\\n' f'Accuracy = {accuracy:.2%}'\n",
    "\n",
    "    PlotBinaryClassData(mX, vY, hA = hA, axisTitle = axisTitle)\n",
    "    v = np.array([-2, 2])\n",
    "    hA.grid(True)\n",
    "    hA.plot(v, -(vW[0] / vW[1]) * v + (b / vW[1]), color = 'k', lw = 3)\n",
    "    hA.arrow(0, 0, vW[0], vW[1], color = 'orange', width = 0.05)\n",
    "    hA.axvline(x = 0, color = 'k', lw = 1)\n",
    "    hA.axhline(y = 0, color = 'k', lw = 1)\n",
    "    hA.contourf(mX1, mX2, ZZ, colors = CLASS_COLOR, alpha = 0.2, levels = [-0.5, 0.5, 1.5], zorder = 0)\n",
    "    \n",
    "    hA.set_xlim([-2, 2])\n",
    "    hA.set_ylim([-2, 2])\n",
    "    hA.set_xlabel('$x_1$')\n",
    "    hA.set_ylabel('$x_2$')\n",
    "    \n",
    "    # plt.show()"
   ]
  },
  {
   "attachments": {},
   "cell_type": "markdown",
   "metadata": {},
   "source": [
    "## Generate / Load Data\n",
    "\n",
    "We'll use the the classic _moons_ data set.  \n",
    "By default it labels the data ${y}_{i} \\in \\left\\{ 0, 1 \\right\\}$.  \n",
    "We'll transform it into ${y}_{i} \\in \\left\\{ -1, 1 \\right\\}$.\n"
   ]
  },
  {
   "cell_type": "code",
   "execution_count": null,
   "metadata": {},
   "outputs": [],
   "source": [
    "# Generate Data \n",
    "mX, vY = make_moons(n_samples = numSamples, noise = noiseLevel)\n",
    "\n",
    "print(f'The features data shape: {mX.shape}')\n",
    "print(f'The labels data shape: {vY.shape}')"
   ]
  },
  {
   "cell_type": "code",
   "execution_count": null,
   "metadata": {},
   "outputs": [],
   "source": [
    "# The labels of the data\n",
    "print(f'The unique values of the labels: {np.unique(vY)}')"
   ]
  },
  {
   "attachments": {},
   "cell_type": "markdown",
   "metadata": {},
   "source": [
    "* <font color='red'>(**?**)</font> Do the labels fit our model? What should we do?"
   ]
  },
  {
   "cell_type": "code",
   "execution_count": null,
   "metadata": {},
   "outputs": [],
   "source": [
    "# Transforming the Labels into {-1, 1}\n",
    "vY[vY == 0] = -1"
   ]
  },
  {
   "cell_type": "code",
   "execution_count": null,
   "metadata": {},
   "outputs": [],
   "source": [
    "# The updated labels\n",
    "print(f'The unique values of the labels: {np.unique(vY)}')"
   ]
  },
  {
   "attachments": {},
   "cell_type": "markdown",
   "metadata": {},
   "source": [
    "### Plot Data"
   ]
  },
  {
   "cell_type": "code",
   "execution_count": null,
   "metadata": {},
   "outputs": [],
   "source": [
    "# Display the Data\n",
    "\n",
    "hA = PlotBinaryClassData(mX, vY, axisTitle = 'Training Set')"
   ]
  },
  {
   "attachments": {},
   "cell_type": "markdown",
   "metadata": {},
   "source": [
    "## Linear Classifier Training\n",
    "\n",
    "$$ {f}_{\\left( \\boldsymbol{w} \\right)} \\left( \\boldsymbol{x} \\right) = \\mathrm{sign} \\left( \\boldsymbol{w}^{T} \\boldsymbol{x} \\right) $$\n",
    "\n"
   ]
  },
  {
   "attachments": {},
   "cell_type": "markdown",
   "metadata": {},
   "source": [
    "### Training Optimization Problem\n",
    "\n",
    "In ideal world, we'd like to optimize:\n",
    "\n",
    "$$ \\hat{ \\boldsymbol{w} } = \\arg \\min_{\\boldsymbol{w}} {\\left\\| \\operatorname{sign} \\left( X \\boldsymbol{w} \\right) - \\boldsymbol{y} \\right\\|}_{2}^{2} $$\n",
    "\n",
    "Where\n",
    "\n",
    "$$\n",
    "X = \\begin{bmatrix} -1 & - & x_{1} & -\\\\\n",
    "-1 & - & x_{2} & -\\\\\n",
    " & \\vdots \\\\\n",
    "-1 & - & x_{N} & -\n",
    "\\end{bmatrix} \\in \\mathbb{R}^{N \\times 3}\n",
    "$$"
   ]
  },
  {
   "cell_type": "code",
   "execution_count": null,
   "metadata": {},
   "outputs": [],
   "source": [
    "# Stack the constant column into `mX`\n",
    "mX = np.column_stack((-np.ones(numSamples), mX))"
   ]
  },
  {
   "attachments": {},
   "cell_type": "markdown",
   "metadata": {},
   "source": [
    "* <font color='red'>(**?**)</font> What are the dimensions of `mX`?"
   ]
  },
  {
   "cell_type": "code",
   "execution_count": null,
   "metadata": {},
   "outputs": [],
   "source": [
    "# The updated dimensions\n",
    "print(f'The features data shape: {mX.shape}')"
   ]
  },
  {
   "attachments": {},
   "cell_type": "markdown",
   "metadata": {},
   "source": [
    "Yet, since the $\\operatorname{sign} \\left( \\cdot \\right)$ isn't smooth nor continuous we need to approximate it.  \n",
    "The classic candidate is the [Sigmoid Function](https://en.wikipedia.org/wiki/Sigmoid_function) (Member of the _S Shaped_ function family):\n",
    "\n",
    "$$ \\sigma \\left( x \\right) = 2 \\frac{ \\exp \\left( x \\right) }{ 1 + \\exp \\left( x \\right) } - 1 = 2 \\frac{ 1 }{ 1 + \\exp \\left( -x \\right) } - 1 $$\n",
    "\n",
    "See [`scipy.special.expit()`](https://docs.scipy.org/doc/scipy/reference/generated/scipy.special.expit.html) for $\\frac{ 1 }{ 1 + \\exp \\left( -x \\right) }$.\n",
    "\n",
    "<font color='brown'>(**#**)</font> In practice such function requires numerical stable implementation. Use professionally made implementations if available. \n",
    "\n",
    "The Sigmoid Function derivative is given by:\n",
    "\n",
    "$$ \\frac{\\mathrm{d} \\sigma \\left( x \\right) }{\\mathrm{d} x} = 2 \\frac{ \\exp \\left( x \\right)}{\\left( 1 + \\exp \\left( x \\right) \\right)^{2}} = 2 \\left( \\frac{ 1 }{ 1 + \\exp \\left( -x \\right) } \\right) \\left( 1 - \\frac{ 1 }{ 1 + \\exp \\left( -x \\right) } \\right) $$\n",
    "\n",
    "<font color='brown'>(**#**)</font> For derivation of the last step, see https://math.stackexchange.com/questions/78575."
   ]
  },
  {
   "attachments": {},
   "cell_type": "markdown",
   "metadata": {},
   "source": [
    "### The Loss Function\n",
    "\n",
    "Then, using the Sigmoid approximation the loss function becomes (With mean over all data samples $N$):\n",
    "\n",
    "$$ \\hat{ \\boldsymbol{w} } = \\arg \\min_{\\boldsymbol{w}} J \\left( \\boldsymbol{w} \\right) = \\arg \\min_{\\boldsymbol{w}} \\frac{1}{4 N} {\\left\\| \\sigma \\left( \\boldsymbol{X} \\boldsymbol{w} \\right) - \\boldsymbol{y} \\right\\|}_{2}^{2} $$\n",
    "\n",
    "The gradient becomes:\n",
    "\n",
    "$$\\nabla_{\\boldsymbol{w}} J \\left( \\boldsymbol{w} \\right) = \\frac{1}{2N} \\boldsymbol{X}^{T} \\operatorname{Diag} \\left( \\sigma' \\left( \\boldsymbol{X} \\boldsymbol{w} \\right) \\right) \\left( \\sigma \\left( \\boldsymbol{X} \\boldsymbol{w}\\right) - \\boldsymbol{y} \\right) $$"
   ]
  },
  {
   "cell_type": "code",
   "execution_count": null,
   "metadata": {},
   "outputs": [],
   "source": [
    "# Defining the Functions\n",
    "\n",
    "def SigmoidFun( vX: np.ndarray ):\n",
    "    \n",
    "    return (2 * sp.special.expit(vX)) - 1\n",
    "\n",
    "def GradSigmoidFun(vX: np.ndarray):\n",
    "\n",
    "    vExpit = sp.special.expit(vX)\n",
    "    \n",
    "    return 2 * vExpit * (1 - vExpit)\n",
    "\n",
    "def LossFun(mX: np.ndarray, vW: np.ndarray, vY: np.ndarray):\n",
    "\n",
    "    numSamples = mX.shape[0]\n",
    "\n",
    "    vR = SigmoidFun(mX @ vW) - vY\n",
    "    \n",
    "    return np.sum(np.square(vR)) / (4 * numSamples)\n",
    "\n",
    "def GradLossFun(mX: np.ndarray, vW: np.ndarray, vY: np.ndarray):\n",
    "\n",
    "    numSamples = mX.shape[0]\n",
    "    \n",
    "    return (mX.T * GradSigmoidFun(mX @ vW).T) @ (SigmoidFun(mX @ vW) - vY) / (2 * numSamples)"
   ]
  },
  {
   "attachments": {},
   "cell_type": "markdown",
   "metadata": {},
   "source": [
    "### The Gradient Descent\n",
    "\n",
    "$$ \\boldsymbol{w}_{k + 1} = \\boldsymbol{w}_{k} - \\mu \\nabla_{\\boldsymbol{w}} J \\left( \\boldsymbol{w}_{k} \\right) $$\n",
    "\n"
   ]
  },
  {
   "cell_type": "code",
   "execution_count": null,
   "metadata": {
    "ExecuteTime": {
     "end_time": "2022-02-02T09:30:07.130934Z",
     "start_time": "2022-02-02T09:30:06.821071Z"
    }
   },
   "outputs": [],
   "source": [
    "# Gradient Descent\n",
    "\n",
    "# Parameters\n",
    "K   = 1000 #<! Num Steps\n",
    "µ   = 0.10 #<! Step Size\n",
    "vW  = np.array([0.0, -1.0, 2.0]) #<! Initial w\n",
    "\n",
    "mW = np.zeros(shape = (vW.shape[0], K)) #<! Model Parameters (Weights)\n",
    "vE = np.full(shape = K, fill_value = None) #<! Errors\n",
    "vL = np.full(shape = K, fill_value = None) #<! Loss\n",
    "\n",
    "vHatY = np.sign(mX @ vW) #<! Apply the classifier\n",
    "\n",
    "mW[:, 0]    = vW\n",
    "vE[0]       = np.mean(vHatY != vY)\n",
    "vL[0]       = LossFun(mX, vW, vY)\n",
    "\n",
    "for kk in range(1, K):\n",
    "    vW -= µ * GradLossFun(mX, vW, vY)\n",
    "    \n",
    "    mW[:, kk]   = vW\n",
    "\n",
    "    vHatY = np.sign(mX @ vW) #<! Apply the classifier\n",
    "    \n",
    "    vE[kk]      = np.mean(vHatY != vY) #<! Mean Error\n",
    "    vL[kk]      = LossFun(mX, vW, vY) #<! Loss Function"
   ]
  },
  {
   "cell_type": "code",
   "execution_count": null,
   "metadata": {},
   "outputs": [],
   "source": [
    "# Plotting Function\n",
    "\n",
    "# Grid of the data support\n",
    "vV       = np.linspace(-2, 2, numGridPts)\n",
    "mX1, mX2 = np.meshgrid(vV, vV)\n",
    "\n",
    "def PlotLinClassTrain(itrIdx, mX, mW, vY, K, µ, vE, vL, mX1, mX2):\n",
    "\n",
    "    hF, _ = plt.subplots(nrows = 1, ncols = 2, figsize = (12, 6))\n",
    "\n",
    "    hA1, hA2 = hF.axes[0], hF.axes[1]\n",
    "\n",
    "    # hA1.cla()\n",
    "    # hA2.cla()\n",
    "    \n",
    "    PlotLinearClassifier(mX, mW[:, itrIdx], vY, mX1, mX2, hA1)\n",
    "\n",
    "    vEE = vE[:itrIdx]\n",
    "    vLL = vL[:itrIdx]\n",
    "\n",
    "    hA2.plot(vEE, color = 'k', lw = 2, label = r'$J \\left( w \\right)$')\n",
    "    hA2.plot(vLL, color = 'm', lw = 2, label = r'$\\tilde{J} \\left( w \\right)$')\n",
    "    hA2.set_title('Objective Function')\n",
    "    hA2.set_xlabel('Iteration Index')\n",
    "    hA2.set_ylabel('Value')\n",
    "    hA2.set_xlim((0, K - 1))\n",
    "    hA2.set_ylim((0, 1))\n",
    "    hA2.grid()\n",
    "    hA2.legend()\n",
    "        \n",
    "    # hF.canvas.draw()\n",
    "    plt.show()"
   ]
  },
  {
   "cell_type": "code",
   "execution_count": null,
   "metadata": {
    "ExecuteTime": {
     "end_time": "2022-02-02T09:30:07.363146Z",
     "start_time": "2022-02-02T09:30:07.131936Z"
    }
   },
   "outputs": [],
   "source": [
    "# Display the Optimization Path\n",
    "# hF, hA = plt.subplots(nrows = 1, ncols = 2, figsize = (12, 6))\n",
    "# hPlotLinClassTrain = lambda itrIdx: PlotLinClassTrain(itrIdx, mX, mW, vY, K, µ, vE, vL, mX1, mX2, hF)\n",
    "hPlotLinClassTrain = lambda itrIdx: PlotLinClassTrain(itrIdx, mX[:, 1:], mW, vY, K, µ, vE, vL, mX1, mX2)\n",
    "kSlider = IntSlider(min = 0, max = K - 1, step = 1, value = 0, layout = Layout(width = '30%'))\n",
    "interact(hPlotLinClassTrain, itrIdx = kSlider)\n",
    "\n",
    "# plt.show()\n"
   ]
  },
  {
   "attachments": {},
   "cell_type": "markdown",
   "metadata": {},
   "source": [
    "<font color='blue'>(**!**)</font> Optimize the parameters $K$ and $\\mu$ to achieve accuracy of `~85%` with the least steps."
   ]
  }
 ],
 "metadata": {
  "kernelspec": {
   "display_name": "Python 3",
   "language": "python",
   "name": "python3"
  },
  "language_info": {
   "codemirror_mode": {
    "name": "ipython",
    "version": 3
   },
   "file_extension": ".py",
   "mimetype": "text/x-python",
   "name": "python",
   "nbconvert_exporter": "python",
   "pygments_lexer": "ipython3",
   "version": "3.10.9"
  },
  "toc": {
   "base_numbering": 1,
   "nav_menu": {},
   "number_sections": false,
   "sideBar": true,
   "skip_h1_title": false,
   "title_cell": "Table of Contents",
   "title_sidebar": "Contents",
   "toc_cell": false,
   "toc_position": {},
   "toc_section_display": true,
   "toc_window_display": true
  },
  "varInspector": {
   "cols": {
    "lenName": 16,
    "lenType": 16,
    "lenVar": 40
   },
   "kernels_config": {
    "python": {
     "delete_cmd_postfix": "",
     "delete_cmd_prefix": "del ",
     "library": "var_list.py",
     "varRefreshCmd": "print(var_dic_list())"
    },
    "r": {
     "delete_cmd_postfix": ") ",
     "delete_cmd_prefix": "rm(",
     "library": "var_list.r",
     "varRefreshCmd": "cat(var_dic_list()) "
    }
   },
   "types_to_exclude": [
    "module",
    "function",
    "builtin_function_or_method",
    "instance",
    "_Feature"
   ],
   "window_display": false
  },
  "vscode": {
   "interpreter": {
    "hash": "39577bab1f263e62e0b74f5b8086bd735049bf4751f6562b2d4b2969dc308293"
   }
  }
 },
 "nbformat": 4,
 "nbformat_minor": 4
}
