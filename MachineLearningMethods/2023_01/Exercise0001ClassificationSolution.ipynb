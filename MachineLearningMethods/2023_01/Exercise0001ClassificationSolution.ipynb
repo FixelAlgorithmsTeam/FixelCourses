{
 "cells": [
  {
   "attachments": {},
   "cell_type": "markdown",
   "metadata": {},
   "source": [
    "[![Fixel Algorithms](https://fixelalgorithms.co/images/CCExt.png)](https://fixelalgorithms.gitlab.io)\n",
    "\n",
    "# Machine Learning Methods\n",
    "\n",
    "## Exercise 001 - Classification\n",
    "\n",
    "> Notebook by:\n",
    "> - Royi Avital RoyiAvital@fixelalgorithms.com\n",
    "\n",
    "## Revision History\n",
    "\n",
    "| Version | Date       | User        |Content / Changes                                                   |\n",
    "|---------|------------|-------------|--------------------------------------------------------------------|\n",
    "| 0.1.000 | 28/01/2023 | Royi Avital | First version                                                      |\n",
    "|         |            |             |                                                                    |"
   ]
  },
  {
   "attachments": {},
   "cell_type": "markdown",
   "metadata": {},
   "source": [
    "[![Open In Colab](https://colab.research.google.com/assets/colab-badge.svg)](https://colab.research.google.com/github/FixelAlgorithmsTeam/FixelCourses/blob/master/MachineLearningMethods/2023_01/Exercise0001ClassificationSolution.ipynb)"
   ]
  },
  {
   "cell_type": "code",
   "execution_count": null,
   "metadata": {
    "ExecuteTime": {
     "end_time": "2022-02-02T09:30:06.492269Z",
     "start_time": "2022-02-02T09:30:06.220934Z"
    }
   },
   "outputs": [],
   "source": [
    "# Import Packages\n",
    "\n",
    "# General Tools\n",
    "import numpy as np\n",
    "import scipy as sp\n",
    "import pandas as pd\n",
    "\n",
    "# Machine Learning\n",
    "from sklearn.datasets import load_iris\n",
    "from sklearn.metrics import ConfusionMatrixDisplay\n",
    "from sklearn.metrics import confusion_matrix\n",
    "from sklearn.model_selection import KFold\n",
    "from sklearn.model_selection import cross_val_score\n",
    "from sklearn.neighbors import KNeighborsClassifier\n",
    "from sklearn.svm import SVC\n",
    "\n",
    "# Miscellaneous\n",
    "import os\n",
    "from platform import python_version\n",
    "import random\n",
    "import urllib.request\n",
    "\n",
    "# Typing\n",
    "from typing import Tuple\n",
    "\n",
    "# Visualization\n",
    "import matplotlib.pyplot as plt\n",
    "import seaborn as sns\n",
    "\n",
    "# Jupyter\n",
    "from IPython import get_ipython\n",
    "from IPython.display import Image, display\n",
    "from ipywidgets import Dropdown, FloatSlider, interact, IntSlider, Layout"
   ]
  },
  {
   "attachments": {},
   "cell_type": "markdown",
   "metadata": {},
   "source": [
    "## Notations\n",
    "\n",
    "* <font color='red'>(**?**)</font> Question to answer interactively.\n",
    "* <font color='blue'>(**!**)</font> Simple task to add code for the notebook.\n",
    "* <font color='green'>(**@**)</font> Optional / Extra self practice.\n",
    "* <font color='brown'>(**#**)</font> Note / Useful resource / Food for thought."
   ]
  },
  {
   "cell_type": "code",
   "execution_count": null,
   "metadata": {},
   "outputs": [],
   "source": [
    "# Configuration\n",
    "# %matplotlib inline\n",
    "\n",
    "seedNum = 512\n",
    "np.random.seed(seedNum)\n",
    "random.seed(seedNum)\n",
    "\n",
    "# sns.set_theme() #>! Apply SeaBorn theme\n",
    "\n",
    "runInGoogleColab = 'google.colab' in str(get_ipython())"
   ]
  },
  {
   "cell_type": "code",
   "execution_count": null,
   "metadata": {},
   "outputs": [],
   "source": [
    "# Constants\n",
    "\n",
    "FIG_SIZE_DEF = (8, 8)\n",
    "ELM_SIZE_DEF = 50\n",
    "CLASS_COLOR = ('b', 'r')\n",
    "EDGE_COLOR  = 'k'\n",
    "\n",
    "L_CLASSES = ['Setosa', 'Versicolor', 'Virginica']\n"
   ]
  },
  {
   "cell_type": "code",
   "execution_count": null,
   "metadata": {},
   "outputs": [],
   "source": [
    "# Fixel Algorithms Packages\n"
   ]
  },
  {
   "attachments": {},
   "cell_type": "markdown",
   "metadata": {},
   "source": [
    "## Exercise\n",
    "\n",
    "This exercise introduces:\n",
    "\n",
    " - The [Iris Flower Data Set](https://en.wikipedia.org/wiki/Iris_flower_data_set).  \n",
    "   We'll use it to exercise concepts learned on slides.  \n",
    " - The concept of a Data Frame by utilizing [Pandas](https://pandas.pydata.org/) (`pandas`).\n",
    " - Utilizing [SeaBorn](https://seaborn.pydata.org/) for data visualization and analysis.\n",
    "\n",
    "<!-- ![Iris Flowers](https://www.pngkey.com/png/full/82-826789_iris-iris-sepal-and-petal.png) -->\n",
    "![Iris Flowers](https://i.imgur.com/zLsKxI7.png)\n",
    "\n",
    "In this exercise we'll apply the Cross Validation in the form of _Leave One Out_.  \n",
    "We'll use the _cross validation_ process to optimize the models hyper parameters (See [Hyper Parameters Optimization](https://en.wikipedia.org/wiki/Hyperparameter_optimization)).  \n",
    "\n",
    "1. Load the [Iris Flower Data Set](https://en.wikipedia.org/wiki/Iris_flower_data_set) using `load_iris()`.\n",
    "2. Apply different classification models:\n",
    "    - K-NN.\n",
    "    - Linear SVM.\n",
    "    - Kernel SVM (Use `rbf` in `kernel` parameter of `SVC`).\n",
    "3. Optimize the hyper parameters of each model\n",
    "    - The parameter `n_neighbors` for the `KNeighborsClassifier` model.\n",
    "    - The parameter `C` for the `SVC` model (Both for `kernel = linear` and `kernel = rbf`).\n",
    "4. For optimization evaluate the score (_Accuracy_) of each model using `cross_val_score()`.  \n",
    "   This function calculates the score on each fold.\n",
    "5. Plot the _confusion matrix_ of the best model.\n",
    "\n",
    "### Pandas\n",
    "\n",
    "The `pandas` python package is the _go to_ data manipulation and analysis library in Python.  \n",
    "It has an optimized methods to work on _data series_ (1D) and _data frame_ (2D).  \n",
    "It relies on NumPy for most of the numeric operations and has a synergy with SeaBorn as the visualization tool.\n",
    "\n",
    "![](https://i.imgur.com/tFl2Tob.png)\n",
    "\n",
    "### SeaBorn\n",
    "\n",
    "The Python package `seaborn` is a statistical data visualization library.  \n",
    "It wraps up _Matplotlib_ with beautiful recipes and useful tools.  \n",
    "It has a big synergy with _Pandas_' data frame object."
   ]
  },
  {
   "cell_type": "code",
   "execution_count": null,
   "metadata": {},
   "outputs": [],
   "source": [
    "# Parameters\n",
    "\n",
    "\n",
    "trainRatio = 0.8\n",
    "\n",
    "#===========================Fill This===========================#\n",
    "# 1. Think of the parameters to optimize per model (See above).\n",
    "# 2. Select the set to optimize over.\n",
    "# 3. Set the number of folds in the cross validation.\n",
    "lK = [1, 3, 5, 7]\n",
    "lC = [0.1, 0.5, 1, 3]\n",
    "numFold = 5\n",
    "#===============================================================#"
   ]
  },
  {
   "cell_type": "code",
   "execution_count": null,
   "metadata": {},
   "outputs": [],
   "source": [
    "# Auxiliary Functions\n",
    "\n",
    "def PlotLabelsHistogram(vY: np.ndarray, hA = None):\n",
    "\n",
    "    if hA is None:\n",
    "        hF, hA = plt.subplots(figsize = (8, 6))\n",
    "    \n",
    "    vLabels, vCounts = np.unique(vY, return_counts = True)\n",
    "\n",
    "    hA.bar(vLabels, vCounts, width = 0.9, align = 'center')\n",
    "    hA.set_title('Histogram of Classes / Labels')\n",
    "    hA.set_xlabel('Class')\n",
    "    hA.set_ylabel('Number of Samples')\n",
    "\n",
    "    return hA\n",
    "\n",
    "def PlotConfusionMatrix(vY: np.ndarray, vYPred: np.ndarray, normMethod: str = None, hA: plt.Axes = None, lLabels: list = None, dScore: dict = None, titleStr: str = 'Confusion Matrix') -> plt.Axes:\n",
    "\n",
    "    # Calculation of Confusion Matrix\n",
    "    mConfMat = confusion_matrix(vY, vYPred, normalize = normMethod)\n",
    "    oConfMat = ConfusionMatrixDisplay(mConfMat, display_labels = lLabels)\n",
    "    oConfMat = oConfMat.plot(ax = hA)\n",
    "    hA = oConfMat.ax_\n",
    "    if dScore is not None:\n",
    "        titleStr += ':'\n",
    "        for scoreName, scoreVal in  dScore.items():\n",
    "            titleStr += f' {scoreName} = {scoreVal:0.2},'\n",
    "        titleStr = titleStr[:-1]\n",
    "    hA.set_title(titleStr)\n",
    "    hA.grid(False)\n",
    "\n",
    "    return hA, mConfMat\n",
    "    "
   ]
  },
  {
   "attachments": {},
   "cell_type": "markdown",
   "metadata": {},
   "source": [
    "## Generate / Load Data\n"
   ]
  },
  {
   "cell_type": "code",
   "execution_count": null,
   "metadata": {},
   "outputs": [],
   "source": [
    "# Loading / Generating Data\n",
    "dfX, dsY = load_iris(return_X_y = True, as_frame = True) #<! Data Frame and Data Series\n",
    "\n",
    "print(f'The number of data samples: {dfX.shape[0]}')\n",
    "print(f'The number of features per sample: {dfX.shape[1]}') \n",
    "print(f'The labels: {dsY.unique()}')"
   ]
  },
  {
   "cell_type": "code",
   "execution_count": null,
   "metadata": {},
   "outputs": [],
   "source": [
    "# Data Frame for the Whole Data\n",
    "\n",
    "dfData = pd.concat((dfX, dsY), axis = 1)\n",
    "# dfData['target'] = dfData['target'].apply(lambda x: L_CLASSES[x]) #<! Mapping from Integer -> Name\n",
    "# dfData['target'] = dfData['target'].map(lambda x: L_CLASSES[x]) #<! Mapping from Integer -> Name\n",
    "dfData['target'] = dfData['target'].map(L_CLASSES.__getitem__) #<! Mapping from Integer -> Name\n",
    "dfData.rename(columns = {'target': 'Class'}, inplace = True) #<! Many functions has the `inplace` function"
   ]
  },
  {
   "cell_type": "code",
   "execution_count": null,
   "metadata": {},
   "outputs": [],
   "source": [
    "# The DF in VS Code / Jupyter\n",
    "dfData.head()"
   ]
  },
  {
   "attachments": {},
   "cell_type": "markdown",
   "metadata": {},
   "source": [
    "### Plot Data"
   ]
  },
  {
   "cell_type": "code",
   "execution_count": null,
   "metadata": {},
   "outputs": [],
   "source": [
    "# Display the Data\n",
    "\n",
    "sns.pairplot(data = dfData, hue = 'Class')"
   ]
  },
  {
   "cell_type": "code",
   "execution_count": null,
   "metadata": {},
   "outputs": [],
   "source": [
    "# Histogram of Classes\n",
    "hF, hA = plt.subplots(figsize = (8, 6))\n",
    "sns.countplot(data = dfData, x = 'Class', ax = hA)\n",
    "hA.set_title('Counts of Each Class')"
   ]
  },
  {
   "attachments": {},
   "cell_type": "markdown",
   "metadata": {},
   "source": [
    "### Data to Train\n",
    "\n",
    "Usually we create a split, yet in this case we'll use Cross Validation for training, hence we'll use the whole data.  \n",
    "When the data set is large, it is better to keep test data a side and not only for validation."
   ]
  },
  {
   "cell_type": "code",
   "execution_count": null,
   "metadata": {},
   "outputs": [],
   "source": [
    "# Convert Data to NumPy\n",
    "# Though SciKit Learn fully supports (In some cases even a must) Data Frames as an input\n",
    "mX, vY = dfX.to_numpy(), dsY.to_numpy()"
   ]
  },
  {
   "attachments": {},
   "cell_type": "markdown",
   "metadata": {},
   "source": [
    "## Optimize Classifiers\n",
    "\n",
    "In this section we'll train the different variants of classifier and we'll find the best of them."
   ]
  },
  {
   "cell_type": "code",
   "execution_count": null,
   "metadata": {},
   "outputs": [],
   "source": [
    "# Create a Data Frame to Collect \n",
    "\n",
    "#===========================Fill This===========================#\n",
    "# 1. Calculate the number of variants.\n",
    "# 2. Create a Data Frame with 4 columns: Type, K, C, Accuracy.\n",
    "# 3. Fill each column with the relevant values.\n",
    "# 4. Make sure the column of `K` has integer type. \n",
    "numVariants = len(lK) + (2 * len(lC))\n",
    "vType       = np.concatenate((np.full(len(lK), 'K-NN'), np.full(len(lC), 'Linear SVM'), np.full(len(lC), 'Kernel SVM')))\n",
    "# vK          = np.concatenate((np.array(lK), pd.array(np.full(len(lC), np.nan), dtype = 'UInt8'), pd.array(np.full(len(lC), np.nan), dtype = 'UInt8'))) #<! We must keep the data type as Integer\n",
    "vK          = np.concatenate((np.array(lK), np.full(len(lC), 0), np.full(len(lC), 0))) #<! We must keep the data type as Integer\n",
    "vC          = np.concatenate((np.full(len(lC), np.nan), np.array(lC), np.array(lC)))\n",
    "vA          = np.full(numVariants, np.nan)\n",
    "#===============================================================#\n",
    "\n",
    "dfAnalysis  = pd.DataFrame(data = {'Type': vType, 'K': vK, 'C': vC, 'Accuracy': vA})"
   ]
  },
  {
   "cell_type": "code",
   "execution_count": null,
   "metadata": {},
   "outputs": [],
   "source": [
    "# Displays the Data Frame\n",
    "dfAnalysis"
   ]
  },
  {
   "attachments": {},
   "cell_type": "markdown",
   "metadata": {},
   "source": [
    "## Train Models\n",
    "\n",
    "In this section we'll optimize the _hyper parameters_ of the 3 models.  \n",
    "Given all those variants, we'll choose the best model.\n",
    "\n",
    "1. Create a _data frame_ to hold the models hyper parameters and the score (Accuracy).  \n",
    "   The _data frame_ should have 4 columns:\n",
    "     - Model Type: `Type`.\n",
    "     - Parameters `K`: `K` (When applicable).\n",
    "     - Parameter `C`: `C` (when applicable).\n",
    "     - The accuracy score: `Accuracy`.\n",
    "2. Loop over the models in the _data frame_ (Each row):\n",
    "    - Construct the model using the parameters.\n",
    "    - Evaluate the model using `cross_val_score()` where the cross validation is _Leave One Out_..\n",
    "    - Average over the array of scores returned from `cross_val_score()` and keep the result in the data frame.\n",
    "3. Extract the best model.\n",
    "\n",
    "\n",
    "* <font color='brown'>(**#**)</font> Pay attention to the expected run time. Start with small number of values and increase when it makes sense."
   ]
  },
  {
   "cell_type": "code",
   "execution_count": null,
   "metadata": {},
   "outputs": [],
   "source": [
    "# Measuring the Accuracy Using K-Fold with Leave One Out\n",
    "\n",
    "#===========================Fill This===========================#\n",
    "# 1. Loop over the Data Frame.\n",
    "# 2. Per row:\n",
    "#       - Extract the type and parameters.\n",
    "#       - Construct the model.\n",
    "#       - Train it using `cross_val_score()` with 'Leave One Out' policy.\n",
    "#       - Keep the average accuracy \n",
    "# \n",
    "for ii in range(numVariants):\n",
    "    modelType = dfAnalysis['Type'].loc[ii]\n",
    "    if modelType == 'K-NN':\n",
    "        modelCls = KNeighborsClassifier(n_neighbors = dfAnalysis['K'].loc[ii])\n",
    "    elif modelType == 'Linear SVM':\n",
    "        modelCls = SVC(C = dfAnalysis['C'].loc[ii], kernel = 'linear')\n",
    "    elif modelType == 'Kernel SVM':\n",
    "        modelCls = SVC(C = dfAnalysis['C'].loc[ii], kernel = 'rbf')\n",
    "    \n",
    "    vAccuracy = cross_val_score(modelCls, mX, vY, cv = KFold(mX.shape[0], shuffle = False)) #<! Leave One Out\n",
    "    dfAnalysis.loc[ii, 'Accuracy'] = np.mean(vAccuracy)\n",
    "#===============================================================#"
   ]
  },
  {
   "cell_type": "code",
   "execution_count": null,
   "metadata": {},
   "outputs": [],
   "source": [
    "dfAnalysis"
   ]
  },
  {
   "attachments": {},
   "cell_type": "markdown",
   "metadata": {},
   "source": [
    "* <font color='red'>(**?**)</font> How many elements in the array `cross_val_score()` returns?\n",
    "* <font color='red'>(**?**)</font> Why can't we use a stratified K-Fold in the case above?\n",
    "* <font color='red'>(**?**)</font> Compare `cross_val_score()` to `cross_val_predict()`. Which one should you use? when can't we use `cross_val_score()`?\n",
    "* <font color='brown'>(**#**)</font> You should get accuracy above `97%` with a proper tuning."
   ]
  },
  {
   "cell_type": "code",
   "execution_count": null,
   "metadata": {},
   "outputs": [],
   "source": [
    "# Display the best results\n",
    "\n",
    "dfAnalysis.sort_values(by = 'Accuracy', ascending = False, inplace = True)\n",
    "dfAnalysis"
   ]
  },
  {
   "cell_type": "code",
   "execution_count": null,
   "metadata": {},
   "outputs": [],
   "source": [
    "# Extract the Best Model\n",
    "\n",
    "#===========================Fill This===========================#\n",
    "# 1. Extract the best model type.\n",
    "# 2. Extract its optimal hyper parameter: Set `paramName` for the name {'K' or 'C'} and `paramValue` as its value.\n",
    "# 3. Construct the best model as `bestModel` using the above.\n",
    "modelType = dfAnalysis.iloc[0, 0]\n",
    "if modelType == 'K-NN':\n",
    "    paramName = 'K'\n",
    "    paramValue = dfAnalysis.iloc[0, 1]\n",
    "    bestModel = KNeighborsClassifier(n_neighbors = paramValue)\n",
    "elif modelType == 'Linear SVM':\n",
    "    paramName = 'C'\n",
    "    paramValue = dfAnalysis.iloc[0, 2]\n",
    "    bestModel = SVC(C = paramValue, kernel = 'linear')\n",
    "elif modelType == 'Kernel SVM':\n",
    "    paramName = 'C'\n",
    "    paramValue = dfAnalysis.iloc[0, 2]\n",
    "    bestModel = SVC(C = paramValue, kernel = 'rbf')\n",
    "\n",
    "#===============================================================#\n",
    "\n",
    "print(f'The best model is of type {modelType} with parameter {paramName} = {paramValue}')\n"
   ]
  },
  {
   "cell_type": "code",
   "execution_count": null,
   "metadata": {},
   "outputs": [],
   "source": [
    "# The Best Mode\n",
    "\n",
    "#===========================Fill This===========================#\n",
    "# 1. Train the best model on the whole data.\n",
    "# 2. Score (Accuracy) it on the whole data.\n",
    "bestModel   = bestModel.fit(mX, vY)\n",
    "modelScore  = bestModel.score(mX, vY)\n",
    "#===============================================================#\n",
    "\n",
    "print(f'The model score (Accuracy) on the data: {modelScore:0.2%}') #<! Accuracy"
   ]
  },
  {
   "attachments": {},
   "cell_type": "markdown",
   "metadata": {},
   "source": [
    "* <font color='red'>(**?**)</font> Is the score above lower than the CV result? Why?"
   ]
  },
  {
   "attachments": {},
   "cell_type": "markdown",
   "metadata": {},
   "source": [
    "## Performance Metrics / Scores\n",
    "\n",
    "In this section we'll analyze the model using the _confusion matrix_."
   ]
  },
  {
   "attachments": {},
   "cell_type": "markdown",
   "metadata": {},
   "source": [
    "### Display the Confusion Matrix"
   ]
  },
  {
   "cell_type": "code",
   "execution_count": null,
   "metadata": {},
   "outputs": [],
   "source": [
    "# Plot the Confusion Matrix\n",
    "hF, hA = plt.subplots(figsize = (10, 10))\n",
    "\n",
    "#===========================Fill This===========================#\n",
    "# 1. Plot the confusion matrix using `PlotConfusionMatrix()`.\n",
    "hA, mConfMat = PlotConfusionMatrix(vY, bestModel.predict(mX), lLabels = L_CLASSES, hA = hA)\n",
    "#===============================================================#\n",
    "\n",
    "plt.show()"
   ]
  }
 ],
 "metadata": {
  "kernelspec": {
   "display_name": "Python 3",
   "language": "python",
   "name": "python3"
  },
  "language_info": {
   "codemirror_mode": {
    "name": "ipython",
    "version": 3
   },
   "file_extension": ".py",
   "mimetype": "text/x-python",
   "name": "python",
   "nbconvert_exporter": "python",
   "pygments_lexer": "ipython3",
   "version": "3.11.3"
  },
  "toc": {
   "base_numbering": 1,
   "nav_menu": {},
   "number_sections": false,
   "sideBar": true,
   "skip_h1_title": false,
   "title_cell": "Table of Contents",
   "title_sidebar": "Contents",
   "toc_cell": false,
   "toc_position": {},
   "toc_section_display": true,
   "toc_window_display": true
  },
  "varInspector": {
   "cols": {
    "lenName": 16,
    "lenType": 16,
    "lenVar": 40
   },
   "kernels_config": {
    "python": {
     "delete_cmd_postfix": "",
     "delete_cmd_prefix": "del ",
     "library": "var_list.py",
     "varRefreshCmd": "print(var_dic_list())"
    },
    "r": {
     "delete_cmd_postfix": ") ",
     "delete_cmd_prefix": "rm(",
     "library": "var_list.r",
     "varRefreshCmd": "cat(var_dic_list()) "
    }
   },
   "types_to_exclude": [
    "module",
    "function",
    "builtin_function_or_method",
    "instance",
    "_Feature"
   ],
   "window_display": false
  },
  "vscode": {
   "interpreter": {
    "hash": "39577bab1f263e62e0b74f5b8086bd735049bf4751f6562b2d4b2969dc308293"
   }
  }
 },
 "nbformat": 4,
 "nbformat_minor": 4
}
