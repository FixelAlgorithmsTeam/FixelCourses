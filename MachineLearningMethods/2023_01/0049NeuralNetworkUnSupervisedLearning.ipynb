{
 "cells": [
  {
   "attachments": {},
   "cell_type": "markdown",
   "metadata": {},
   "source": [
    "[![Fixel Algorithms](https://fixelalgorithms.co/images/CCExt.png)](https://fixelalgorithms.gitlab.io)\n",
    "\n",
    "# Machine Learning Methods\n",
    "\n",
    "## Neural Networks - UnSupervised Learning\n",
    "\n",
    "> Notebook by:\n",
    "> - Royi Avital RoyiAvital@fixelalgorithms.com\n",
    "\n",
    "## Revision History\n",
    "\n",
    "| Version | Date       | User        |Content / Changes                                                   |\n",
    "|---------|------------|-------------|--------------------------------------------------------------------|\n",
    "| 0.1.000 | 10/03/2023 | Royi Avital | First version                                                      |\n",
    "|         |            |             |                                                                    |"
   ]
  },
  {
   "attachments": {},
   "cell_type": "markdown",
   "metadata": {},
   "source": [
    "[![Open In Colab](https://colab.research.google.com/assets/colab-badge.svg)](https://colab.research.google.com/github/FixelAlgorithmsTeam/FixelCourses/blob/master/MachineLearningMethods/2023_01/0046AnomalyDetectionIsolationForest.ipynb)"
   ]
  },
  {
   "cell_type": "code",
   "execution_count": null,
   "metadata": {
    "ExecuteTime": {
     "end_time": "2022-02-02T09:30:06.492269Z",
     "start_time": "2022-02-02T09:30:06.220934Z"
    }
   },
   "outputs": [],
   "source": [
    "# Import Packages\n",
    "\n",
    "# General Tools\n",
    "import numpy as np\n",
    "import scipy as sp\n",
    "import pandas as pd\n",
    "\n",
    "# Machine Learning\n",
    "from sklearn.datasets import fetch_openml\n",
    "from sklearn.linear_model import LogisticRegression\n",
    "from sklearn.model_selection import cross_val_predict, train_test_split\n",
    "from sklearn.neural_network import MLPRegressor\n",
    "from sklearn.svm import SVC\n",
    "\n",
    "# Miscellaneous\n",
    "import os\n",
    "import math\n",
    "from platform import python_version\n",
    "import random\n",
    "\n",
    "# Typing\n",
    "from typing import Callable, List, Tuple, Union\n",
    "\n",
    "# Visualization\n",
    "from matplotlib.colors import LogNorm, Normalize, PowerNorm\n",
    "import matplotlib.pyplot as plt\n",
    "import seaborn as sns\n",
    "\n",
    "# Jupyter\n",
    "from IPython import get_ipython\n",
    "from IPython.display import Image, display\n",
    "from ipywidgets import Dropdown, FloatSlider, interact, IntSlider, Layout"
   ]
  },
  {
   "attachments": {},
   "cell_type": "markdown",
   "metadata": {},
   "source": [
    "## Notations\n",
    "\n",
    "* <font color='red'>(**?**)</font> Question to answer interactively.\n",
    "* <font color='blue'>(**!**)</font> Simple task to add code for the notebook.\n",
    "* <font color='green'>(**@**)</font> Optional / Extra self practice.\n",
    "* <font color='brown'>(**#**)</font> Note / Useful resource / Food for thought."
   ]
  },
  {
   "cell_type": "code",
   "execution_count": null,
   "metadata": {},
   "outputs": [],
   "source": [
    "# Configuration\n",
    "%matplotlib inline\n",
    "\n",
    "seedNum = 512\n",
    "np.random.seed(seedNum)\n",
    "random.seed(seedNum)\n",
    "\n",
    "# sns.set_theme() #>! Apply SeaBorn theme\n",
    "\n",
    "runInGoogleColab = 'google.colab' in str(get_ipython())"
   ]
  },
  {
   "cell_type": "code",
   "execution_count": null,
   "metadata": {},
   "outputs": [],
   "source": [
    "# Constants\n",
    "\n",
    "FIG_SIZE_DEF    = (8, 8)\n",
    "ELM_SIZE_DEF    = 50\n",
    "CLASS_COLOR     = ('b', 'r')\n",
    "EDGE_COLOR      = 'k'\n",
    "MARKER_SIZE_DEF = 10\n",
    "LINE_WIDTH_DEF  = 2\n",
    "\n",
    "MNIST_IMG_SIZE = (28, 28)\n"
   ]
  },
  {
   "cell_type": "code",
   "execution_count": null,
   "metadata": {},
   "outputs": [],
   "source": [
    "# Fixel Algorithms Packages\n"
   ]
  },
  {
   "attachments": {},
   "cell_type": "markdown",
   "metadata": {},
   "source": [
    "## UnSupervised Learning with Neural Networks\n",
    "\n",
    "In this notebook we'll explore using Neural Networks in the _UnSupervised Learning_ context.  \n",
    "We'll use _Auto Encoder_ in order to reduce the dimensionality of the data.\n",
    "\n",
    "![](https://i.imgur.com/dRKxhMw.png)\n",
    "\n",
    "The concept of the _auto encoder_ is to use the data itself as a reference.   \n",
    "Using the reconstruction error one optimizes both the _encoder_ and the _decoder_ to generate a low\n",
    "\n",
    "\n",
    "* <font color='brown'>(**#**)</font> The low dimensionality section is also called the _bottleneck_ section of the net.\n",
    "* <font color='brown'>(**#**)</font> In this notebook we'll use MLP based encoder / decoder, yet in practice, any atoms of the DNN eco system can be used.\n",
    "\n",
    "In this notebook we'll use MNIST data. We'll classify it using a Logistic Regression based classifier with only 2 inputs from the encoder."
   ]
  },
  {
   "cell_type": "code",
   "execution_count": null,
   "metadata": {},
   "outputs": [],
   "source": [
    "# Parameters\n",
    "\n",
    "# Data\n",
    "numSamplesTrain = 60_000\n",
    "numSamplesVal   = 10_000\n",
    "\n",
    "\n",
    "# Model\n",
    "lHiddenLayers   = [500, 300, 30, 2, 30, 300, 500]\n",
    "activationFun   = 'logistic'\n",
    "solverType      = 'sgd'\n",
    "regFctr         = 0.0001 #<! L2 Regularization\n",
    "batchSize       = 5000\n",
    "lrPolicy        = 'adaptive' #<! Works only if `solverType = sgd`\n",
    "lrInit          = 0.001 #<! Works only if `solverType = sgd` or `solverType = adam`\n",
    "numEpoch        = 100\n",
    "stopTol         = 1e-6\n",
    "earlyStopping   = True #<! Works only if `solverType = sgd` or `solverType = adam`\n",
    "valRatio        = 0.15\n",
    "\n",
    "numKFold = 5\n",
    "\n",
    "# Visualization\n",
    "numRows     = 3\n",
    "numCols     = 3\n",
    "numImgRec   = numRows * numCols\n"
   ]
  },
  {
   "cell_type": "code",
   "execution_count": null,
   "metadata": {},
   "outputs": [],
   "source": [
    "# Auxiliary Functions\n",
    "\n",
    "def PlotMnistImages(mX: np.ndarray, vY: np.ndarray = None, numRows: int = 1, numCols: int = 1, imgSize = MNIST_IMG_SIZE, randomChoice = True, hF = None):\n",
    "\n",
    "    numSamples  = mX.shape[0]\n",
    "\n",
    "    numImg = numRows * numCols\n",
    "\n",
    "    # tFigSize = (numRows * 3, numCols * 3)\n",
    "    tFigSize = (numCols * 3, numRows * 3)\n",
    "\n",
    "    if hF is None:\n",
    "        hF, hA = plt.subplots(numRows, numCols, figsize = tFigSize)\n",
    "    else:\n",
    "        hA = hF.axis\n",
    "    \n",
    "    hA = np.atleast_1d(hA) #<! To support numImg = 1\n",
    "    hA = hA.flat\n",
    "\n",
    "    if randomChoice:\n",
    "        vIdx = np.random.choice(numSamples, numImg, replace = False)\n",
    "    else:\n",
    "        vIdx = range(numImg)\n",
    "\n",
    "    \n",
    "    for kk in range(numImg):\n",
    "        \n",
    "        idx = vIdx[kk]\n",
    "        mI  = np.reshape(mX[idx, :], imgSize)\n",
    "    \n",
    "        hA[kk].imshow(mI, cmap = 'gray')\n",
    "        hA[kk].tick_params(axis = 'both', left = False, top = False, right = False, bottom = False, labelleft = False, labeltop = False, labelright = False, labelbottom = False)\n",
    "        labelStr = f', Label = {vY[idx]}' if vY is not None else ''\n",
    "        hA[kk].set_title(f'Index = {idx}' + labelStr)\n",
    "    \n",
    "    plt.show()\n",
    "\n",
    "def PlotScatterData(mX: np.ndarray, vL: np.ndarray = None, hA:plt.Axes = None, figSize: Tuple[int, int] = FIG_SIZE_DEF, markerSize: int = MARKER_SIZE_DEF, edgeColor: int = EDGE_COLOR, axisTitle: str = None):\n",
    "\n",
    "    if hA is None:\n",
    "        hF, hA = plt.subplots(figsize = figSize)\n",
    "    else:\n",
    "        hF = hA.get_figure()\n",
    "    \n",
    "    numSamples = mX.shape[0]\n",
    "\n",
    "    if vL is None:\n",
    "        vL = np.zeros(numSamples)\n",
    "    \n",
    "    vU = np.unique(vL)\n",
    "    numClusters = len(vU)\n",
    "\n",
    "    for ii in range(numClusters):\n",
    "        vIdx = vL == vU[ii]\n",
    "        hA.scatter(mX[vIdx, 0], mX[vIdx, 1], s = markerSize, edgecolor = edgeColor, label = ii)\n",
    "    \n",
    "    hA.set_xlabel('${{x}}_{{1}}$')\n",
    "    hA.set_ylabel('${{x}}_{{2}}$')\n",
    "    if axisTitle is not None:\n",
    "        hA.set_title(axisTitle)\n",
    "    hA.grid()\n",
    "    hA.legend()\n",
    "\n",
    "    return hA\n",
    "\n",
    "\n",
    "def PlotLabelsHistogram(vY: np.ndarray, hA = None, lClass = None, xLabelRot: int = None) -> plt.Axes:\n",
    "\n",
    "    if hA is None:\n",
    "        hF, hA = plt.subplots(figsize = (8, 6))\n",
    "    \n",
    "    vLabels, vCounts = np.unique(vY, return_counts = True)\n",
    "\n",
    "    hA.bar(vLabels, vCounts, width = 0.9, align = 'center')\n",
    "    hA.set_title('Histogram of Classes / Labels')\n",
    "    hA.set_xlabel('Class')\n",
    "    hA.set_ylabel('Number of Samples')\n",
    "    hA.set_xticks(vLabels)\n",
    "    if lClass is not None:\n",
    "        hA.set_xticklabels(lClass)\n",
    "    \n",
    "    if xLabelRot is not None:\n",
    "        for xLabel in hA.get_xticklabels():\n",
    "            xLabel.set_rotation(xLabelRot)\n",
    "\n",
    "    return hA\n",
    "\n"
   ]
  },
  {
   "attachments": {},
   "cell_type": "markdown",
   "metadata": {},
   "source": [
    "## Generate / Load Data\n",
    "\n",
    "In this notebook we'll use the [`MNIST`](https://en.wikipedia.org/wiki/MNIST_database) data set.\n",
    "\n",
    "It features 60,000 train images and 10,000 test images of size `28x28`.  \n",
    "The images are `INT64` with values in the range `{0, 1, 2, ..., 255}` (Like `UINT8`).\n",
    "\n",
    "* <font color='brown'>(**#**)</font> The MNIST is the data set used by Yann LeCun in the ~1990 to show the ability of Neural Networks.\n",
    "* <font color='brown'>(**#**)</font> In the [MNIST WebSite](http://yann.lecun.com/exdb/mnist/) one can watch the performance improvement over the years using different approaches.\n"
   ]
  },
  {
   "cell_type": "code",
   "execution_count": null,
   "metadata": {},
   "outputs": [],
   "source": [
    "# Loading / Generating Data\n",
    "mX, vY = fetch_openml('mnist_784', version = 1, return_X_y = True, as_frame = False, parser = 'auto')\n",
    "\n",
    "print(f'The features data shape: {mX.shape}')\n",
    "print(f'The labels data shape: {vY.shape}')\n",
    "print(f'The unique values of the labels: {np.unique(vY)}')"
   ]
  },
  {
   "cell_type": "code",
   "execution_count": null,
   "metadata": {},
   "outputs": [],
   "source": [
    "# Pre Processing\n",
    "\n",
    "# The image is in the range {0, 1, ..., 255}\n",
    "# We scale it into [0, 1]\n",
    "\n",
    "mX = mX / 255.0"
   ]
  },
  {
   "attachments": {},
   "cell_type": "markdown",
   "metadata": {},
   "source": [
    "### Plot the Data"
   ]
  },
  {
   "cell_type": "code",
   "execution_count": null,
   "metadata": {},
   "outputs": [],
   "source": [
    "# Display the Data\n",
    "\n",
    "PlotMnistImages(mX, vY, numRows, numCols)"
   ]
  },
  {
   "cell_type": "code",
   "execution_count": null,
   "metadata": {},
   "outputs": [],
   "source": [
    "# Histogram of Labels\n",
    "\n",
    "hA = PlotLabelsHistogram(vY)"
   ]
  },
  {
   "cell_type": "code",
   "execution_count": null,
   "metadata": {},
   "outputs": [],
   "source": [
    "# Train / Test Split\n",
    "\n",
    "mXTrain, mXTest, vYTrain, vYTest =  train_test_split(mX, vY, train_size = numSamplesTrain, test_size = numSamplesVal, stratify = vY)\n",
    "\n",
    "print(f'The number of training data samples: {mXTrain.shape[0]}')\n",
    "print(f'The number of training features per sample: {mXTrain.shape[1]}') \n",
    "\n",
    "\n",
    "print(f'The number of test data samples: {mXTest.shape[0]}')\n",
    "print(f'The number of test features per sample: {mXTest.shape[1]}') "
   ]
  },
  {
   "attachments": {},
   "cell_type": "markdown",
   "metadata": {},
   "source": [
    "## Auto Encoder\n",
    "\n",
    "In this section we'll build the Auto Encoder for the MNIST data set.\n",
    "\n",
    "![](https://i.imgur.com/F6RE6XP.png)\n",
    "\n",
    "The idea is to push the image on one end and reconstruct it on the other side.  \n",
    "In the middle, we'll create a bottleneck of size 2, it means the decoder, given only 2 numbers will have to decode the correct digit.\n",
    "\n",
    "\n",
    "* <font color='brown'>(**#**)</font> Chaining MLP's of SciKit Learn in a pipeline won't make them share the same loss!"
   ]
  },
  {
   "attachments": {},
   "cell_type": "markdown",
   "metadata": {},
   "source": [
    "* <font color='red'>(**?**)</font> What kind of an MLP should we use? Regressor or Classifier?\n",
    "* <font color='red'>(**?**)</font> How many outputs will the model have?\n",
    "* <font color='red'>(**?**)</font> What would be the labels in the `fit()` method?"
   ]
  },
  {
   "cell_type": "code",
   "execution_count": null,
   "metadata": {},
   "outputs": [],
   "source": [
    "# Constructing the Model\n",
    "\n",
    "# oMlpReg = MLPRegressor(hidden_layer_sizes = lHiddenLayers, activation = activationFun, solver = solverType, alpha = regFctr, learning_rate = lrPolicy, learning_rate_init = 0.001, random_state = seedNum)\n",
    "oMlpReg = MLPRegressor(hidden_layer_sizes = [300, 100, 50, 2, 50, 100, 300], activation = 'relu', solver = 'adam', alpha = regFctr, learning_rate_init = 0.0005, random_state = seedNum)\n",
    "# Batch = 500,  Epochs = 100\n",
    "# learning_rate_init = 0.00015 -> 73.38%\n",
    "# learning_rate_init = 0.00025 -> 78.79%\n",
    "oMlpReg = MLPRegressor(hidden_layer_sizes = [300, 100, 50, 2, 50, 100, 300], activation = 'tanh', solver = 'adam', alpha = regFctr, learning_rate_init = 0.00025, random_state = seedNum)\n",
    "\n",
    "# Batch = 5000,  Epochs = 50\n",
    "# learning_rate_init = 0.00015 -> xxx\n",
    "# oMlpReg = MLPRegressor(hidden_layer_sizes = [100, 50, 2, 50, 100], activation = 'tanh', solver = 'adam', alpha = regFctr, learning_rate_init = 0.00075, random_state = seedNum)\n"
   ]
  },
  {
   "cell_type": "code",
   "execution_count": null,
   "metadata": {},
   "outputs": [],
   "source": [
    "# Epoch Loop\n",
    "\n",
    "lTrainLoss  = [] #<! Train set loss\n",
    "lTrainScore = [] #<! Train set score\n",
    "lValScore   = [] #<! Validation set score\n",
    "\n",
    "for ii in range(numEpoch):\n",
    "    print(f'Processing epoch #{(ii + 1):03d} out of {numEpoch} epochs.')\n",
    "    \n",
    "    oMlpReg = oMlpReg.partial_fit(mXTrain, mXTrain) \n",
    "\n",
    "    # Accuracy Score\n",
    "    trainScore  = oMlpReg.score(mXTrain, mXTrain)\n",
    "    valScore    = oMlpReg.score(mXTest, mXTest)\n",
    "\n",
    "    lTrainLoss.append(oMlpReg.loss_)\n",
    "    lTrainScore.append(trainScore)\n",
    "    lValScore.append(valScore)\n",
    "    print(f'The train loss (MSE)     : {oMlpReg.loss_:0.4f}')\n",
    "    print(f'The train score (R2)     : {trainScore:0.4f}')\n",
    "    print(f'The validation score (R2): {valScore:0.4f}')"
   ]
  },
  {
   "attachments": {},
   "cell_type": "markdown",
   "metadata": {},
   "source": [
    "* <font color='green'>(**@**)</font> Add early stopping feature to the loop above based on the score of the validation and the loss.\n",
    "* <font color='green'>(**@**)</font> Create adaptive learning rate policy. In case of many epochs with non decreasing loss, set the learning rate to be smaller by factor of 2."
   ]
  },
  {
   "cell_type": "code",
   "execution_count": null,
   "metadata": {},
   "outputs": [],
   "source": [
    "# Plot the Results\n",
    "\n",
    "hF, hA = plt.subplots(figsize = FIG_SIZE_DEF)\n",
    "hAT = hA.twinx()\n",
    "\n",
    "hP1, = hAT.plot(range(numEpoch), lTrainLoss, color = 'C0', label = 'Train Loss')\n",
    "hAT.set_ylabel('Loss')\n",
    "\n",
    "hP2, = hA.plot(range(numEpoch), lTrainScore, color = 'C1', label = 'Train Score')\n",
    "hP3, = hA.plot(range(numEpoch), lValScore, color = 'C2', label = 'Validation Score')\n",
    "\n",
    "hA.set_title('Score and Loss of the Training Loop')\n",
    "\n",
    "hA.set_xlabel('Epoch Index')\n",
    "hA.set_ylabel('Score')\n",
    "\n",
    "hA.legend(handles = [hP1, hP2, hP3])\n",
    "# hA.legend()\n",
    "\n",
    "plt.show()"
   ]
  },
  {
   "cell_type": "code",
   "execution_count": null,
   "metadata": {},
   "outputs": [],
   "source": [
    "# oReg = MLPRegressor(hidden_layer_sizes = [500, 300, 2, 300, 500], activation = 'tanh', solver = 'adam', max_iter = 20, learning_rate_init = 0.0005, tol = 0.0000001, verbose = True)\n",
    "# oReg = oReg.fit(mXTrain, mXTrain)\n",
    "# oMlpReg = oReg"
   ]
  },
  {
   "cell_type": "code",
   "execution_count": null,
   "metadata": {},
   "outputs": [],
   "source": [
    "# Plot a Reconstruction\n",
    "\n",
    "mXRec = np.zeros(shape = (numImgRec, MNIST_IMG_SIZE[0] * MNIST_IMG_SIZE[1]))\n",
    "vImgIdx = np.random.choice(mXTest.shape[0], numImgRec, replace = False)\n",
    "\n",
    "for ii in range(numImgRec):\n",
    "    mXRec[ii] = oMlpReg.predict(np.atleast_2d(mXTest[vImgIdx[ii]]))\n",
    "\n",
    "PlotMnistImages(mXRec, vYTest[vImgIdx], numRows, numCols, randomChoice = False)\n",
    "\n",
    "plt.show()\n",
    "\n"
   ]
  },
  {
   "cell_type": "code",
   "execution_count": null,
   "metadata": {},
   "outputs": [],
   "source": [
    "# Train on Test Only\n",
    "# We want fair comparison to the vanilla SVM Classifier.\n",
    "# Hence we retrain the dimensionality reduction model on the test set.\n",
    "\n",
    "# Batch = 5000,  Epochs = 50\n",
    "# learning_rate_init = 0.00015 -> xxx\n",
    "# oMlpReg = MLPRegressor(hidden_layer_sizes = [200, 100, 50, 25, 10, 2, 10, 25, 50, 100, 200], activation = 'tanh', solver = 'adam', alpha = regFctr, batch_size = 1000, learning_rate_init = 0.00005, random_state = seedNum)"
   ]
  },
  {
   "cell_type": "code",
   "execution_count": null,
   "metadata": {},
   "outputs": [],
   "source": [
    "# Epoch Loop\n",
    "# numEpoch = 250\n",
    "\n",
    "# lTrainLoss  = [] #<! Train set loss\n",
    "# lTrainScore = [] #<! Train set score\n",
    "\n",
    "# for ii in range(numEpoch):\n",
    "#     print(f'Processing epoch #{(ii + 1):03d} out of {numEpoch} epochs.')\n",
    "    \n",
    "#     oMlpReg = oMlpReg.partial_fit(mXTest, mXTest) \n",
    "\n",
    "#     # Accuracy Score\n",
    "#     trainScore = oMlpReg.score(mXTest, mXTest)\n",
    "\n",
    "#     lTrainLoss.append(oMlpReg.loss_)\n",
    "#     lTrainScore.append(trainScore)\n",
    "#     print(f'The train loss (MSE)     : {oMlpReg.loss_:0.4f}')\n",
    "#     print(f'The train score (R2)     : {trainScore:0.4f}')"
   ]
  },
  {
   "attachments": {},
   "cell_type": "markdown",
   "metadata": {},
   "source": [
    "## Latent Space Analysis (Dimensionality Reduction)\n",
    "\n",
    "In order to analyze the latent space (Which has 2 features), we need to recreate the encoder part of the model.  \n",
    "Since we have the attributes `coefs_` and `intercepts_` with the knowledge about the activation type we can reproduce the forward pass of the _encoder_.\n",
    "\n",
    "Once we have access to the _encoder_ we can analyze the latent space.  \n",
    "This is basically a dimensionality reduction step by _auto encoder_.\n",
    "\n",
    "* <font color='brown'>(**#**)</font> In optimized Deep Learning framework we would build the encoder and decoder as 2 models and chain them with the same loss.  \n",
    "  Then it becomes trivial to do the forward pass."
   ]
  },
  {
   "cell_type": "code",
   "execution_count": null,
   "metadata": {},
   "outputs": [],
   "source": [
    "# Encoder Function\n",
    "# The input is a fitted Auto Encoder model and the samples to apply the encoder on.\n",
    "# It assumes the model is symmetric or the index of the bottleneck is given.\n",
    "\n",
    "def ApplyEncoder( oAutoEnc: MLPRegressor, mX: np.ndarray, latentSpaceIdx: int = None ) -> np.ndarray:\n",
    "    \n",
    "    dModelParams = oAutoEnc.get_params()\n",
    "\n",
    "    if dModelParams['activation'] == 'identity':\n",
    "        hActLayer = lambda x: x\n",
    "    elif dModelParams['activation'] == 'logistic':\n",
    "        hActLayer = lambda x: sp.special.expit(x)\n",
    "    elif dModelParams['activation'] == 'tanh':\n",
    "        hActLayer = lambda x: np.tanh(x)\n",
    "    elif dModelParams['activation'] == 'relu':\n",
    "        hActLayer = lambda x: np.maximum(x, 0)\n",
    "    \n",
    "    lC = oAutoEnc.coefs_\n",
    "    lI = oAutoEnc.intercepts_\n",
    "    if latentSpaceIdx is None:\n",
    "        latentSpaceIdx = len(lC) // 2\n",
    "\n",
    "    mZ = mX.copy()\n",
    "\n",
    "    for ii in range(latentSpaceIdx):\n",
    "        mZ = hActLayer((mZ @ lC[ii]) + lI[ii])\n",
    "    \n",
    "    return mZ\n"
   ]
  },
  {
   "cell_type": "code",
   "execution_count": null,
   "metadata": {},
   "outputs": [],
   "source": [
    "# Apply the encoder on the test data\n",
    "mZ = ApplyEncoder(oMlpReg, mXTest)"
   ]
  },
  {
   "cell_type": "code",
   "execution_count": null,
   "metadata": {},
   "outputs": [],
   "source": [
    "hF, hA = plt.subplots(figsize = FIG_SIZE_DEF)\n",
    "\n",
    "hA = PlotScatterData(mZ, vL = vYTest, hA = hA)\n",
    "\n",
    "plt.show()"
   ]
  },
  {
   "attachments": {},
   "cell_type": "markdown",
   "metadata": {},
   "source": [
    "## Applying a Classifier\n",
    "\n",
    "Given the encoding of the data we can apply a classifier on 2 number in order to classify the digit."
   ]
  },
  {
   "cell_type": "code",
   "execution_count": null,
   "metadata": {},
   "outputs": [],
   "source": [
    "# Creating the Features\n",
    "\n",
    "mZ = ApplyEncoder(oMlpReg, mXTest)"
   ]
  },
  {
   "cell_type": "code",
   "execution_count": null,
   "metadata": {},
   "outputs": [],
   "source": [
    "# Model Score on the RAW Data\n",
    "\n",
    "vYPred = cross_val_predict(SVC(kernel = 'rbf'), mXTest, vYTest, cv = numKFold)\n",
    "\n",
    "accScore = np.mean(vYPred == vYTest)\n",
    "print(f'The raw data model accuracy in {numKFold} cross validation is {accScore:0.2%}.')"
   ]
  },
  {
   "cell_type": "code",
   "execution_count": null,
   "metadata": {},
   "outputs": [],
   "source": [
    "# Model Score on Latent Data\n",
    "\n",
    "vYPred = cross_val_predict(SVC(kernel = 'rbf'), mZ, vYTest, cv = numKFold)\n",
    "\n",
    "accScore = np.mean(vYPred == vYTest)\n",
    "print(f'The latent space data model accuracy in {numKFold} cross validation is {accScore:0.2%}.')"
   ]
  },
  {
   "attachments": {},
   "cell_type": "markdown",
   "metadata": {},
   "source": [
    "* <font color='green'>(**@**)</font> Try to optimize the hyper parameters of the _Auto Encoder_ model to improve the accuracy."
   ]
  }
 ],
 "metadata": {
  "kernelspec": {
   "display_name": "Python 3",
   "language": "python",
   "name": "python3"
  },
  "language_info": {
   "codemirror_mode": {
    "name": "ipython",
    "version": 3
   },
   "file_extension": ".py",
   "mimetype": "text/x-python",
   "name": "python",
   "nbconvert_exporter": "python",
   "pygments_lexer": "ipython3",
   "version": "3.10.9"
  },
  "toc": {
   "base_numbering": 1,
   "nav_menu": {},
   "number_sections": false,
   "sideBar": true,
   "skip_h1_title": false,
   "title_cell": "Table of Contents",
   "title_sidebar": "Contents",
   "toc_cell": false,
   "toc_position": {},
   "toc_section_display": true,
   "toc_window_display": true
  },
  "varInspector": {
   "cols": {
    "lenName": 16,
    "lenType": 16,
    "lenVar": 40
   },
   "kernels_config": {
    "python": {
     "delete_cmd_postfix": "",
     "delete_cmd_prefix": "del ",
     "library": "var_list.py",
     "varRefreshCmd": "print(var_dic_list())"
    },
    "r": {
     "delete_cmd_postfix": ") ",
     "delete_cmd_prefix": "rm(",
     "library": "var_list.r",
     "varRefreshCmd": "cat(var_dic_list()) "
    }
   },
   "types_to_exclude": [
    "module",
    "function",
    "builtin_function_or_method",
    "instance",
    "_Feature"
   ],
   "window_display": false
  },
  "vscode": {
   "interpreter": {
    "hash": "39577bab1f263e62e0b74f5b8086bd735049bf4751f6562b2d4b2969dc308293"
   }
  }
 },
 "nbformat": 4,
 "nbformat_minor": 4
}
