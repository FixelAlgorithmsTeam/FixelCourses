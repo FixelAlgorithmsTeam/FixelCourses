{
 "cells": [
  {
   "attachments": {},
   "cell_type": "markdown",
   "metadata": {},
   "source": [
    "[![Fixel Algorithms](https://fixelalgorithms.co/images/CCExt.png)](https://fixelalgorithms.gitlab.io/)\n",
    "\n",
    "# Machine Learning Methods\n",
    "\n",
    "## Supervised Learning - Classification - K-NN Classifier - Exercise\n",
    "\n",
    "> Notebook by:\n",
    "> - Royi Avital RoyiAvital@fixelalgorithms.com\n",
    "\n",
    "## Revision History\n",
    "\n",
    "| Version | Date       | User        |Content / Changes                                                   |\n",
    "|---------|------------|-------------|--------------------------------------------------------------------|\n",
    "| 0.1.000 | 20/01/2023 | Royi Avital | First version                                                      |\n",
    "|         |            |             |                                                                    |"
   ]
  },
  {
   "attachments": {},
   "cell_type": "markdown",
   "metadata": {},
   "source": [
    "[![Open In Colab](https://colab.research.google.com/assets/colab-badge.svg)](https://colab.research.google.com/github/FixelAlgorithmsTeam/FixelCourses/blob/master/MachineLearningMethods/2023_01/0010ClassifierKnnExercise.ipynb)"
   ]
  },
  {
   "cell_type": "code",
   "execution_count": null,
   "metadata": {
    "ExecuteTime": {
     "end_time": "2022-02-02T09:30:06.492269Z",
     "start_time": "2022-02-02T09:30:06.220934Z"
    }
   },
   "outputs": [],
   "source": [
    "# Import Packages\n",
    "\n",
    "# General Tools\n",
    "import numpy as np\n",
    "import scipy as sp\n",
    "import pandas as pd\n",
    "\n",
    "# Machine Learning\n",
    "from sklearn.datasets import load_breast_cancer\n",
    "from sklearn.neighbors import KNeighborsClassifier\n",
    "\n",
    "# Misc\n",
    "import os\n",
    "from platform import python_version\n",
    "import random\n",
    "\n",
    "# Typing\n",
    "from typing import Tuple\n",
    "\n",
    "# Visualization\n",
    "import matplotlib.pyplot as plt\n",
    "import seaborn as sns\n",
    "\n",
    "# Jupyter\n",
    "from IPython import get_ipython\n",
    "from IPython.display import Image, display\n",
    "from ipywidgets import Dropdown, FloatSlider, interact, IntSlider, Layout, SelectionSlider"
   ]
  },
  {
   "attachments": {},
   "cell_type": "markdown",
   "metadata": {},
   "source": [
    "## Notations\n",
    "\n",
    "* <font color='red'>(**?**)</font> Question to answer interactively.\n",
    "* <font color='blue'>(**!**)</font> Simple task to add code for the notebook.\n",
    "* <font color='green'>(**@**)</font> Optional / Extra self practice.\n",
    "* <font color='brown'>(**#**)</font> Note / Useful resource / Food for thought."
   ]
  },
  {
   "cell_type": "code",
   "execution_count": null,
   "metadata": {},
   "outputs": [],
   "source": [
    "# Configuration\n",
    "%matplotlib inline\n",
    "\n",
    "seedNum = 512\n",
    "np.random.seed(seedNum)\n",
    "random.seed(seedNum)\n",
    "\n",
    "# sns.set_theme() #>! Apply SeaBorn theme\n",
    "\n",
    "runInGoogleColab = 'google.colab' in str(get_ipython())"
   ]
  },
  {
   "cell_type": "code",
   "execution_count": null,
   "metadata": {},
   "outputs": [],
   "source": [
    "# Constants\n",
    "\n",
    "FIG_SIZE_DEF = (8, 8)\n",
    "ELM_SIZE_DEF = 50\n",
    "CLASS_COLOR = ('b', 'r')\n"
   ]
  },
  {
   "cell_type": "code",
   "execution_count": null,
   "metadata": {},
   "outputs": [],
   "source": [
    "# Fixel Algorithms Packages\n"
   ]
  },
  {
   "cell_type": "code",
   "execution_count": null,
   "metadata": {},
   "outputs": [],
   "source": [
    "# Parameters\n",
    "\n",
    "# Data Visualization\n",
    "figSize     = (8, 8)\n",
    "elmSize     = 50\n",
    "classColor0 = CLASS_COLOR[0]\n",
    "classColor1 = CLASS_COLOR[1]\n",
    "\n",
    "numGridPts = 250"
   ]
  },
  {
   "cell_type": "code",
   "execution_count": null,
   "metadata": {},
   "outputs": [],
   "source": [
    "# Auxiliary Functions\n",
    "\n",
    "def PlotBinaryClassData( mX: np.ndarray, vY: np.ndarray, hA:plt.Axes = None, figSize: Tuple[int, int] = FIG_SIZE_DEF, elmSize: int = ELM_SIZE_DEF, classColor: Tuple[str, str] = CLASS_COLOR, axisTitle: str = None ) -> plt.Axes:\n",
    "\n",
    "    if hA is None:\n",
    "        hF, hA = plt.subplots(figsize = figSize)\n",
    "    else:\n",
    "        hF = hA.get_figure()\n",
    "    \n",
    "    vC, vN = np.unique(vY, return_counts = True)\n",
    "\n",
    "    numClass = len(vC)\n",
    "    if (len(vC) != 2):\n",
    "        raise ValueError(f'The input data is not binary, the number of classes is: {numClass}')\n",
    "\n",
    "    vIdx0 = vY == vC[0]\n",
    "    vIdx1 = vY == vC[1] #<! Basically ~vIdx0\n",
    "\n",
    "    hA.scatter(mX[vIdx0, 0], mX[vIdx0, 1], s = elmSize, color = classColor[0], edgecolor = 'k', label = f'$C_\\u007b {vC[0]} \\u007d$')\n",
    "    hA.scatter(mX[vIdx1, 0], mX[vIdx1, 1], s = elmSize, color = classColor[1], edgecolor = 'k', label = f'$C_\\u007b {vC[1]} \\u007d$')\n",
    "    hA.axvline(x = 0, color = 'k')\n",
    "    hA.axhline(y = 0, color = 'k')\n",
    "    hA.axis('equal')\n",
    "    if axisTitle is not None:\n",
    "        hA.set_title(axisTitle)\n",
    "    hA.legend()\n",
    "    \n",
    "    return hA"
   ]
  },
  {
   "attachments": {},
   "cell_type": "markdown",
   "metadata": {},
   "source": [
    "## Exercise\n",
    "\n",
    "In this exercise we'll do the following:\n",
    "\n",
    "1. Apply a K-NN Classifier on the [_Breast Cancer Wisconsin (Diagnostic) Data Set_](https://archive.ics.uci.edu/ml/datasets/Breast+Cancer+Wisconsin+(Diagnostic)).\n",
    "2. Visualize pair of features."
   ]
  },
  {
   "attachments": {},
   "cell_type": "markdown",
   "metadata": {},
   "source": [
    "## Generate / Load Data\n"
   ]
  },
  {
   "cell_type": "code",
   "execution_count": null,
   "metadata": {},
   "outputs": [],
   "source": [
    "# Load Data \n",
    "\n",
    "dData = load_breast_cancer()\n",
    "mX    = dData.data\n",
    "vY    = dData.target\n",
    "\n",
    "lFeatName = dData.feature_names\n",
    "\n",
    "print(f'The features data shape: {mX.shape}')\n",
    "print(f'The labels data shape: {vY.shape}')"
   ]
  },
  {
   "cell_type": "code",
   "execution_count": null,
   "metadata": {},
   "outputs": [],
   "source": [
    "# Pre Process Data\n",
    "\n",
    "# Normalize Data (Features) into [0, 1]\n",
    "\n",
    "#===========================Fill This===========================#\n",
    "mX = ???\n",
    "#===============================================================#"
   ]
  },
  {
   "cell_type": "code",
   "execution_count": null,
   "metadata": {},
   "outputs": [],
   "source": [
    "numSamples  = mX.shape[0]\n",
    "print(f'The features data shape: {mX.shape}') #>! Should be (569, 30)"
   ]
  },
  {
   "attachments": {},
   "cell_type": "markdown",
   "metadata": {},
   "source": [
    "<font color='red'>(**?**)</font> Should we add the constant column for this classifier? What effect will it have?"
   ]
  },
  {
   "attachments": {},
   "cell_type": "markdown",
   "metadata": {},
   "source": [
    "## Train a K-NN Classifier"
   ]
  },
  {
   "attachments": {},
   "cell_type": "markdown",
   "metadata": {},
   "source": [
    "### Visualizing High Dimensional Data\n",
    "\n",
    "We're limited to display low dimensional data (Usually 2 or 3 dimensions, a bit more with creativity).  \n",
    "In this case the data is $\\boldsymbol{x}_{i} \\in \\mathbb{R}^{30}$. \n",
    "\n",
    "One way to still work with the data is to show subset of the features and their behaviour.  \n",
    "In the next example we'll explore the scatter plot of 2 features with their labels and predictions."
   ]
  },
  {
   "cell_type": "code",
   "execution_count": null,
   "metadata": {},
   "outputs": [],
   "source": [
    "# Plotting Function\n",
    "\n",
    "dMetric = {'l1': 'L1', 'l2': 'L2', 'cosine': 'Cosine'}\n",
    "dFeaturesByIdx  = {}\n",
    "dFeaturesByName = {}\n",
    "\n",
    "for ii, featName in enumerate(lFeatName):\n",
    "    dFeaturesByIdx[ii]          = featName\n",
    "    dFeaturesByName[featName]   = ii\n",
    "\n",
    "def PlotKnn( K, metricChoice, mX, vY, featXName, featYName ):\n",
    "    lSlcFeature = [dFeaturesByName[featXName], dFeaturesByName[featYName]]\n",
    "    \n",
    "    # Train the a K-NN classifier\n",
    "    #===========================Fill This===========================#\n",
    "    oKnnClassifier = ??? #<! Creating the object\n",
    "    oKnnClassifier = ??? #<! Training on the data\n",
    "    #===============================================================#\n",
    "    \n",
    "    # Predict\n",
    "    #===========================Fill This===========================#\n",
    "    vYY = ??? #<! Prediction\n",
    "    #===============================================================#\n",
    "\n",
    "    # Score (Accuracy)\n",
    "    #===========================Fill This===========================#\n",
    "    scoreAcc = ??? #<! Score\n",
    "    #===============================================================#\n",
    "\n",
    "    # Plot classification\n",
    "    hF, hA = plt.subplots(figsize = (8, 8))\n",
    "    hA = PlotBinaryClassData(mX[:, lSlcFeature], vYY, hA = hA, elmSize = 4 * ELM_SIZE_DEF, classColor = ('c', 'm'), axisTitle = f'K-NN Classifier: $K = {K}$, Metric: {dMetric[metricChoice]}, Aacuracy: {scoreAcc:0.2%}')\n",
    "    hA = PlotBinaryClassData(mX[:, lSlcFeature], vY, hA = hA, elmSize = ELM_SIZE_DEF)\n",
    "\n",
    "    tLegend = hA.get_legend_handles_labels()\n",
    "    lLegendLabels = tLegend[1]\n",
    "    for ii, labelTxt in enumerate(lLegendLabels):\n",
    "        if ii < 2:\n",
    "            labelTxt += ' Predictor'\n",
    "        else:\n",
    "            labelTxt += ' Ground Truth'\n",
    "        \n",
    "        lLegendLabels[ii] = labelTxt\n",
    "    \n",
    "    hA.set_xlabel(featXName)\n",
    "    hA.set_ylabel(featYName)\n",
    "    \n",
    "    hA.legend(handles = tLegend[0], labels = lLegendLabels)\n",
    "    "
   ]
  },
  {
   "cell_type": "code",
   "execution_count": null,
   "metadata": {},
   "outputs": [],
   "source": [
    "# Interaction Elements\n",
    "\n",
    "kSlider                 = IntSlider(min = 1, max = 21, step = 2, value = 1, layout = Layout(width = '30%'))\n",
    "metricDropdown          = Dropdown(options = ['l1', 'l2', 'cosine'], value = 'l2', description = 'Metric')\n",
    "featXSelectionSlider    = SelectionSlider(options = lFeatName, value = dFeaturesByIdx[0], description = 'Feature 1 (x)', layout = Layout(width = '30%'))\n",
    "featYSelectionSlider    = SelectionSlider(options = lFeatName, value = dFeaturesByIdx[1], description = 'Feature 2 (y)', layout = Layout(width = '30%'))"
   ]
  },
  {
   "cell_type": "code",
   "execution_count": null,
   "metadata": {},
   "outputs": [],
   "source": [
    "# Display the Geometry of the Classifier\n",
    "\n",
    "hPlotKnn = lambda K, metricChoice, featXName, featYName: PlotKnn(K, metricChoice, mX, vY, featXName, featYName)\n",
    "interact(hPlotKnn, K = kSlider, metricChoice = metricDropdown, featXName = featXSelectionSlider, featYName = featYSelectionSlider)\n",
    "\n",
    "plt.show()"
   ]
  }
 ],
 "metadata": {
  "kernelspec": {
   "display_name": "Python 3",
   "language": "python",
   "name": "python3"
  },
  "language_info": {
   "codemirror_mode": {
    "name": "ipython",
    "version": 3
   },
   "file_extension": ".py",
   "mimetype": "text/x-python",
   "name": "python",
   "nbconvert_exporter": "python",
   "pygments_lexer": "ipython3",
   "version": "3.10.8 (tags/v3.10.8:aaaf517, Oct 11 2022, 16:50:30) [MSC v.1933 64 bit (AMD64)]"
  },
  "toc": {
   "base_numbering": 1,
   "nav_menu": {},
   "number_sections": false,
   "sideBar": true,
   "skip_h1_title": false,
   "title_cell": "Table of Contents",
   "title_sidebar": "Contents",
   "toc_cell": false,
   "toc_position": {},
   "toc_section_display": true,
   "toc_window_display": true
  },
  "varInspector": {
   "cols": {
    "lenName": 16,
    "lenType": 16,
    "lenVar": 40
   },
   "kernels_config": {
    "python": {
     "delete_cmd_postfix": "",
     "delete_cmd_prefix": "del ",
     "library": "var_list.py",
     "varRefreshCmd": "print(var_dic_list())"
    },
    "r": {
     "delete_cmd_postfix": ") ",
     "delete_cmd_prefix": "rm(",
     "library": "var_list.r",
     "varRefreshCmd": "cat(var_dic_list()) "
    }
   },
   "types_to_exclude": [
    "module",
    "function",
    "builtin_function_or_method",
    "instance",
    "_Feature"
   ],
   "window_display": false
  },
  "vscode": {
   "interpreter": {
    "hash": "4c555be6fa9458c8c75b4612c68315d9f1d74815b73d0e564fda29ad772cfcda"
   }
  }
 },
 "nbformat": 4,
 "nbformat_minor": 4
}
