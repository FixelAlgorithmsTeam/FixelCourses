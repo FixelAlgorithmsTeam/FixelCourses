{
 "cells": [
  {
   "attachments": {},
   "cell_type": "markdown",
   "metadata": {},
   "source": [
    "[![Fixel Algorithms](https://fixelalgorithms.co/images/CCExt.png)](https://fixelalgorithms.gitlab.io/)\n",
    "\n",
    "# Optimization Methods\n",
    "\n",
    "## Convex Optimization - Smooth Optimization - Logistic Regression\n",
    "\n",
    "> Notebook by:\n",
    "> - Royi Avital RoyiAvital@fixelalgorithms.com\n",
    "\n",
    "## Revision History\n",
    "\n",
    "| Version | Date       | User        |Content / Changes                                                   |\n",
    "|---------|------------|-------------|--------------------------------------------------------------------|\n",
    "| 1.0.000 | 28/09/2024 | Royi Avital | First version                                                      |"
   ]
  },
  {
   "attachments": {},
   "cell_type": "markdown",
   "metadata": {},
   "source": [
    "[![Open In Colab](https://colab.research.google.com/assets/colab-badge.svg)](https://colab.research.google.com/github/FixelAlgorithmsTeam/FixelCourses/blob/master/AIProgram/2024_02/0008ObjectiveFunction.ipynb)"
   ]
  },
  {
   "cell_type": "code",
   "execution_count": null,
   "metadata": {
    "ExecuteTime": {
     "end_time": "2022-02-02T09:30:06.492269Z",
     "start_time": "2022-02-02T09:30:06.220934Z"
    }
   },
   "outputs": [],
   "source": [
    "# Import Packages\n",
    "\n",
    "# General Tools\n",
    "import numpy as np\n",
    "import scipy as sp\n",
    "import pandas as pd\n",
    "\n",
    "# Machine Learning\n",
    "import autograd.numpy as anp\n",
    "import autograd.scipy as asp\n",
    "from autograd import grad\n",
    "from autograd import elementwise_grad as egrad\n",
    "\n",
    "\n",
    "# Miscellaneous\n",
    "import gdown\n",
    "import os\n",
    "import math\n",
    "from platform import python_version\n",
    "import random\n",
    "import zipfile\n",
    "\n",
    "# Typing\n",
    "from typing import Callable, List, Tuple, Union\n",
    "\n",
    "# Visualization\n",
    "from matplotlib.colors import LogNorm, Normalize, PowerNorm\n",
    "import matplotlib.pyplot as plt\n",
    "import seaborn as sns\n",
    "\n",
    "# Jupyter\n",
    "from IPython import get_ipython\n",
    "from IPython.display import Image, display\n",
    "from ipywidgets import Dropdown, FloatSlider, interact, IntSlider, Layout"
   ]
  },
  {
   "attachments": {},
   "cell_type": "markdown",
   "metadata": {},
   "source": [
    "## Notations\n",
    "\n",
    "* <font color='red'>(**?**)</font> Question to answer interactively.\n",
    "* <font color='blue'>(**!**)</font> Simple task to add code for the notebook.\n",
    "* <font color='green'>(**@**)</font> Optional / Extra self practice.\n",
    "* <font color='brown'>(**#**)</font> Note / Useful resource / Food for thought.\n",
    "\n",
    "Code Notations:\n",
    "\n",
    "```python\n",
    "someVar    = 2; #<! Notation for a variable\n",
    "vVector    = np.random.rand(4) #<! Notation for 1D array\n",
    "mMatrix    = np.random.rand(4, 3) #<! Notation for 2D array\n",
    "tTensor    = np.random.rand(4, 3, 2, 3) #<! Notation for nD array (Tensor)\n",
    "tuTuple    = (1, 2, 3) #<! Notation for a tuple\n",
    "lList      = [1, 2, 3] #<! Notation for a list\n",
    "dDict      = {1: 3, 2: 2, 3: 1} #<! Notation for a dictionary\n",
    "oObj       = MyClass() #<! Notation for an object\n",
    "dfData     = pd.DataFrame() #<! Notation for a data frame\n",
    "dsData     = pd.Series() #<! Notation for a series\n",
    "hObj       = plt.Axes() #<! Notation for an object / handler / function handler\n",
    "```\n",
    "\n",
    "### Code Exercise\n",
    "\n",
    " - Single line fill\n",
    "\n",
    " ```python\n",
    " vallToFill = ???\n",
    " ```\n",
    "\n",
    " - Multi Line to Fill (At least one)\n",
    "\n",
    " ```python\n",
    " # You need to start writing\n",
    " ????\n",
    " ```\n",
    "\n",
    " - Section to Fill\n",
    "\n",
    "```python\n",
    "#===========================Fill This===========================#\n",
    "# 1. Explanation about what to do.\n",
    "# !! Remarks to follow / take under consideration.\n",
    "mX = ???\n",
    "\n",
    "???\n",
    "#===============================================================#\n",
    "```"
   ]
  },
  {
   "cell_type": "code",
   "execution_count": null,
   "metadata": {},
   "outputs": [],
   "source": [
    "# Configuration\n",
    "%matplotlib inline\n",
    "\n",
    "# warnings.filterwarnings(\"ignore\")\n",
    "\n",
    "seedNum = 512\n",
    "np.random.seed(seedNum)\n",
    "random.seed(seedNum)\n",
    "\n",
    "# sns.set_theme() #>! Apply SeaBorn theme\n",
    "# sns.set_palette(\"tab10\")\n",
    "\n",
    "runInGoogleColab = 'google.colab' in str(get_ipython())"
   ]
  },
  {
   "cell_type": "code",
   "execution_count": null,
   "metadata": {},
   "outputs": [],
   "source": [
    "# Constants\n",
    "\n",
    "FIG_SIZE_DEF    = (8, 8)\n",
    "ELM_SIZE_DEF    = 50\n",
    "CLASS_COLOR     = ('b', 'r')\n",
    "EDGE_COLOR      = 'k'\n",
    "MARKER_SIZE_DEF = 10\n",
    "LINE_WIDTH_DEF  = 2\n"
   ]
  },
  {
   "cell_type": "code",
   "execution_count": null,
   "metadata": {},
   "outputs": [],
   "source": [
    "# Course Packages\n",
    "\n",
    "from AuxFun import StepSizeMode\n",
    "from DataVisualization import Plot2DLinearClassifier, PlotBinaryClassData\n",
    "from NumericDiff import DiffMode\n",
    "\n"
   ]
  },
  {
   "cell_type": "code",
   "execution_count": null,
   "metadata": {},
   "outputs": [],
   "source": [
    "# Auxiliary Functions\n",
    "\n",
    "def SigmoidFun( vX: np.ndarray ) -> np.ndarray:\n",
    "    # Implements the Sigmoid (Scaled ans shifted) function.\n",
    "    # Uses AutoGrad for auto differentiation.\n",
    "    \n",
    "    return (2 * asp.special.expit(vX)) - 1\n"
   ]
  },
  {
   "cell_type": "code",
   "execution_count": null,
   "metadata": {},
   "outputs": [],
   "source": [
    "# Parameters\n",
    "\n",
    "# Data\n",
    "zipFileId       = '1SIN8Er2k2gYJe2k5Mer2DrLwZZK_wykc'\n",
    "dataFileName    = 'LogRegData.mat'\n",
    "\n",
    "# Numerical Differentiation\n",
    "diffMode    = DiffMode.CENTRAL\n",
    "ε           = 1e-6\n",
    "\n",
    "# Solver\n",
    "stepSizeMode    = StepSizeMode.ADAPTIVE\n",
    "μ               = 0.01\n",
    "numIterations   = 100\n",
    "α               = 0.5\n",
    "maxNumBack      = 20\n",
    "minμ            = 1e-7\n",
    "\n",
    "# Visualization\n",
    "numGridPts  = 501\n",
    "tuAxLim     = [-2, 2] #<! Boundaries for Xlim / Ylim"
   ]
  },
  {
   "attachments": {},
   "cell_type": "markdown",
   "metadata": {},
   "source": [
    "## Logistic Regression\n",
    "\n",
    "The _Logistic Regression_ is an objective function which models the probability of a binary event.  \n",
    "It used mainly as a _Statistical Classifier_ (Either in its binary form, [Logistic Regression](https://en.wikipedia.org/wiki/Logistic_regression), or [Multinomial Logistic Regression](https://en.wikipedia.org/wiki/Multinomial_logistic_regression)).\n",
    "\n",
    "This notebook:\n",
    " - Optimizes the loss function to find an optimal weights.\n",
    " - Implements the _adaptive step size_ (Backtracking) policy for _gradient Descent_.\n",
    " - Use _Numeric differentiation_ / _Auto differentiation_ for the optimizer."
   ]
  },
  {
   "cell_type": "markdown",
   "metadata": {},
   "source": [
    "### Logistic Regression Objective Function\n",
    "\n",
    "Logistic Regression is used in the context of classification.  \n",
    "\n",
    "* <font color='brown'>(**#**)</font> It is named regression as it is basically regression on a parameter of the model for regression.\n",
    "* <font color='brown'>(**#**)</font> This section analyzes the problem with the _Squared_ ${L}^{2}$ Loss function. In the context of _classification_ it is usually used with the _Cross Entropy Loss_ function.\n",
    "* <font color='brown'>(**#**)</font> The _Squared_ ${L}^{2}$ Loss function in the context of classification is called [_Brier Score_](https://en.wikipedia.org/wiki/Brier_score).\n",
    "* <font color='brown'>(**#**)</font> For analysis of the difference score functions, see [The Effect of Using the MSE Score (Brier Score) for Logistic Regression](https://stats.stackexchange.com/questions/326350).\n",
    "\n",
    "The objective function is given by:\n",
    "\n",
    "$$ f \\left( \\boldsymbol{x} \\right) = \\frac{1}{2} {\\left\\| \\sigma \\left[ \\boldsymbol{A} \\boldsymbol{x} \\right] - \\boldsymbol{y} \\right\\|}_{2}^{2} $$\n",
    "\n",
    "Where $\\sigma(x) = 2 \\frac{1}{1 + {e}^{-x}} - 1$ is a scaled and shifted version of the [Sigmoid Function](https://en.wikipedia.org/wiki/Sigmoid_function).  \n",
    "See the `SigmoidFun()` function for a reference implementation with _auto differentiation_ support.\n",
    "\n",
    "* <font color='red'>(**?**)</font> Is the problem _convex_?  \n",
    "* <font color='brown'>(**#**)</font> In practice such function requires numerical stable implementation. Use professionally made implementations if available.   \n",
    "* <font color='brown'>(**#**)</font> See [`scipy.special.expit()`](https://docs.scipy.org/doc/scipy/reference/generated/scipy.special.expit.html) for $\\frac{ 1 }{ 1 + \\exp \\left( -x \\right) }$.\n",
    "\n",
    "Since:\n",
    "\n",
    "$$ \\sigma \\left( x \\right) = 2 \\frac{ 1 }{ 1 + \\exp \\left( -x \\right) } - 1 = 2 \\frac{ \\exp \\left( x \\right) }{ 1 + \\exp \\left( x \\right) } - 1 $$\n",
    "\n",
    "The derivative is given by:\n",
    "\n",
    "$$ \\frac{\\mathrm{d} \\sigma \\left( x \\right) }{\\mathrm{d} x} = 2 \\frac{ \\exp \\left( x \\right)}{\\left( 1 + \\exp \\left( x \\right) \\right)^{2}} = 2 \\left( \\frac{ 1 }{ 1 + \\exp \\left( -x \\right) } \\right) \\left( 1 - \\frac{ 1 }{ 1 + \\exp \\left( -x \\right) } \\right) $$\n",
    "\n",
    "* <font color='brown'>(**#**)</font> For derivation of the last step, see https://math.stackexchange.com/questions/78575.\n",
    "* <font color='brown'>(**#**)</font> For information about the objective function in the context of classification see [Stanley Chan - Purdue University - ECE595 / STAT598: Machine Learning I Lecture 14 Logistic Regression](https://engineering.purdue.edu/ChanGroup/ECE595/files/Lecture14_logistic.pdf)."
   ]
  },
  {
   "cell_type": "markdown",
   "metadata": {},
   "source": [
    "## Generate Data\n"
   ]
  },
  {
   "cell_type": "markdown",
   "metadata": {},
   "source": [
    "The data for this notebook is a pre generated classic classification data called _moon data_."
   ]
  },
  {
   "cell_type": "code",
   "execution_count": null,
   "metadata": {},
   "outputs": [],
   "source": [
    "# Generate / Load the Data\n",
    "\n",
    "fileNameExt = gdown.download(id = zipFileId)\n",
    "\n",
    "with zipfile.ZipFile(fileNameExt, 'r') as oZipFile:\n",
    "    oZipFile.extract(dataFileName, '.')\n"
   ]
  },
  {
   "cell_type": "code",
   "execution_count": null,
   "metadata": {},
   "outputs": [],
   "source": [
    "# Parse MATLAB Data\n",
    "dMatFile = sp.io.loadmat(dataFileName)\n",
    "\n",
    "# 2D Data\n",
    "mX = dMatFile['mX'] #<! (numSamples x 2)\n",
    "vY = np.ravel(dMatFile['vY']) #<! Labels (numSamples,)\n",
    "\n",
    "mX[:, 0] -= 0.5\n",
    "vY[vY == 0] = -1\n",
    "vY = vY.astype(np.float64)\n",
    "\n",
    "numSamples = np.size(mX, 0)"
   ]
  },
  {
   "cell_type": "code",
   "execution_count": null,
   "metadata": {},
   "outputs": [],
   "source": [
    "# Display Data\n",
    "\n",
    "hA = PlotBinaryClassData(mX, vY, axisTitle = 'Binary Classification Data')\n",
    "hA.set_xlim(tuAxLim)\n",
    "hA.set_ylim(tuAxLim)\n",
    "hA.set_xlabel('$x_1$')\n",
    "hA.set_ylabel('$x_2$');"
   ]
  },
  {
   "cell_type": "markdown",
   "metadata": {},
   "source": [
    "## Logistic Regression Model"
   ]
  },
  {
   "cell_type": "markdown",
   "metadata": {},
   "source": [
    "### Data Pre Processing\n",
    "\n",
    "The data model is an **affine** function of the coordinates.  \n",
    "Hence a constant term must be added:\n",
    "\n",
    "$$ \\boldsymbol{X} = \\begin{bmatrix} -1 & {X}_{1, 1} & {X}_{1, 2} \\\\ -1 & {X}_{2, 1} & {X}_{2, 2} \\\\ \\vdots & \\vdots & \\vdots \\\\ -1 & {X}_{m, 1} & {X}_{m, 2} \\end{bmatrix} $$"
   ]
  },
  {
   "cell_type": "code",
   "execution_count": null,
   "metadata": {},
   "outputs": [],
   "source": [
    "### Data Pre Processing\n",
    "\n",
    "#===========================Fill This===========================#\n",
    "# 1. Create the variable `mXX` which add a constant column of 1 to `mX`.\n",
    "# !! You may find `np.concatenate()` / `np.column_stack()` useful.\n",
    "\n",
    "mXX = np.concatenate((-np.ones(shape = (numSamples, 1)), mX), axis = 1)\n",
    "#===============================================================#"
   ]
  },
  {
   "cell_type": "markdown",
   "metadata": {},
   "source": [
    "* <font color='red'>(**?**)</font> Does the value of the constant column makes any difference?"
   ]
  },
  {
   "cell_type": "markdown",
   "metadata": {},
   "source": [
    "## Optimizing the Objective Function\n",
    "\n",
    "This section optimizes the objective function using _Gradient Descent_:\n",
    " - The step size is adaptive.\n",
    " - The gradient function is calculated by numeric / auto differentiation."
   ]
  },
  {
   "cell_type": "markdown",
   "metadata": {},
   "source": [
    "### Objective Function\n",
    "\n",
    "This section implements the objective function."
   ]
  },
  {
   "cell_type": "code",
   "execution_count": null,
   "metadata": {},
   "outputs": [],
   "source": [
    "# Objective Function\n",
    "\n",
    "#===========================Fill This===========================#\n",
    "# 1. Implement the objective function. \n",
    "#    Given a vector of parameters `vW` it returns the objective.\n",
    "# 2. The implementation should be using a Lambda Function.\n",
    "# !! You may use `SigmoidFun()` from above.\n",
    "\n",
    "hObjFun = lambda vW: 0.5 * anp.sum(anp.square( SigmoidFun(mXX @ vW) - vY ))\n",
    "#===============================================================#"
   ]
  },
  {
   "cell_type": "markdown",
   "metadata": {},
   "source": [
    "### Gradient Function\n",
    "\n",
    "This section implements the gradient function either by _Numeric differentiation_ / _Auto differentiation_."
   ]
  },
  {
   "cell_type": "code",
   "execution_count": null,
   "metadata": {},
   "outputs": [],
   "source": [
    "# Gradient Function\n",
    "\n",
    "#===========================Fill This===========================#\n",
    "# 1. Implement the gradient function. \n",
    "#    Given a vector of parameters `vW` it returns the gradient at `vW`.\n",
    "# 2. The implementation should be using a Lambda Function.\n",
    "# !! You may use Auto Grad or the numeric differentiation in ``NumericDiff.py`.\n",
    "\n",
    "hGradFun = lambda vW: grad(hObjFun)(vW)\n",
    "#===============================================================#"
   ]
  },
  {
   "cell_type": "markdown",
   "metadata": {},
   "source": [
    "### Gradient Descent with Adaptive Step Size\n",
    "\n",
    "This section implements the _Adaptive Step Size_ for the _Gradient Descent_:\n",
    "\n",
    " - Analyze the 1D function: $h \\left( \\mu \\right) = f \\left( \\boldsymbol{x} - \\mu {\\nabla}_{f} \\left( x \\right) \\right)$.\n",
    " - Find $\\mu$ small enough such that: $h \\left( \\mu \\right) \\leq h \\left( 0 \\right)$.\n",
    "\n",
    "* <font color='brown'>(**#**)</font> See [Wikipedia - Backtracking Line Search](https://en.wikipedia.org/wiki/Backtracking_line_search).   \n"
   ]
  },
  {
   "cell_type": "code",
   "execution_count": null,
   "metadata": {},
   "outputs": [],
   "source": [
    "# Gradient Descent with Adaptive Step Size\n",
    "\n",
    "#===========================Fill This===========================#\n",
    "# 1. Implement the gradient function. \n",
    "#    Given a vector of parameters `vW` it returns the gradient at `vW`.\n",
    "# 2. The implementation should be using a Lambda Function.\n",
    "# !! You may use Auto Grad or the numeric differentiation in ``NumericDiff.py`.\n",
    "\n",
    "def GradientDescent( mX: np.ndarray, hGradFun: Callable, hObjFun: Callable, /, *, μ: float = 1e-3, α: float = 0.5, maxNumBack: int = 20, minμ: float = 1e7 ) -> np.ndarray:\n",
    "    \"\"\"\n",
    "    Input:\n",
    "      - mX                -   2D Matrix.\n",
    "                              The first column is the initialization.\n",
    "                              Structure: Matrix (dataDim * numIterations).\n",
    "                              Type: 'Single' / 'Double'.\n",
    "                              Range: (-inf, inf).\n",
    "      - hGradFun          -   The Gradient Function.\n",
    "                              A function to calculate the gradient.\n",
    "                              Its input is `vX`, `jj` for the location \n",
    "                              of the gradient and the component index.\n",
    "                              Structure: NA.\n",
    "                              Type: Callable.\n",
    "                              Range: NA.\n",
    "      - hObjFun           -   The Gradient Function.\n",
    "                              A function to calculate the gradient.\n",
    "                              Its input is `vX`, `jj` for the location \n",
    "                              of the gradient and the component index.\n",
    "                              Structure: NA.\n",
    "                              Type: Callable.\n",
    "                              Range: NA.\n",
    "      - μ                 -   The Step Size.\n",
    "                              The descent step size.\n",
    "                              Structure: Scalar.\n",
    "                              Type: 'Single' / 'Double'.\n",
    "                              Range: (0, inf).\n",
    "      - α                 -   The Step Size.\n",
    "                              The descent step size.\n",
    "                              Structure: Scalar.\n",
    "                              Type: 'Single' / 'Double'.\n",
    "                              Range: (0, inf).\n",
    "      - maxNumBack        -   The Step Size.\n",
    "                              The descent step size.\n",
    "                              Structure: Scalar.\n",
    "                              Type: 'Single' / 'Double'.\n",
    "                              Range: (0, inf).\n",
    "      - minμ              -   The Step Size.\n",
    "                              The descent step size.\n",
    "                              Structure: Scalar.\n",
    "                              Type: 'Single' / 'Double'.\n",
    "                              Range: (0, inf).\n",
    "    Output:\n",
    "      - mX                -   2D Matrix.\n",
    "                              All iterations results.\n",
    "                              Structure: Matrix (dataDim * numIterations).\n",
    "                              Type: 'Single' / 'Double'.\n",
    "                              Range: (-inf, inf).\n",
    "    \"\"\"\n",
    "\n",
    "    dataDim       = np.size(mX, 0)\n",
    "    numIterations = np.size(mX, 1)\n",
    "\n",
    "    for ii in range(1, numIterations):\n",
    "        vG      = hGradFun(mX[:, ii - 1]) #<! Current gradient\n",
    "        objVal  = hObjFun(mX[:, ii - 1]) #<! Current objective \n",
    "        kk      = 0\n",
    "        while((hObjFun(mX[:, ii - 1] - μ * vG) > objVal) and (kk < maxNumBack) and (μ >= minμ)):\n",
    "            kk += 1\n",
    "            μ  *= α\n",
    "        \n",
    "        mX[:, ii] = mX[:, ii - 1] - μ * vG\n",
    "        μ /= α\n",
    "\n",
    "    return mX\n",
    "\n",
    "#===============================================================#"
   ]
  },
  {
   "cell_type": "code",
   "execution_count": null,
   "metadata": {},
   "outputs": [],
   "source": [
    "# Solve by Gradient Descent\n",
    "\n",
    "# Define Data\n",
    "mW      = np.zeros(shape = (3, numIterations))\n",
    "vObjVal = np.empty(numIterations)\n",
    "vE      = np.empty(numIterations) #<! Error rate\n",
    "\n",
    "# Optimization\n",
    "mW = GradientDescent(mW, hGradFun, hObjFun, μ = μ, α = α, maxNumBack = maxNumBack, minμ = minμ)"
   ]
  },
  {
   "cell_type": "code",
   "execution_count": null,
   "metadata": {},
   "outputs": [],
   "source": [
    "# Validation of Solution\n",
    "\n",
    "for ii in range(numIterations):\n",
    "    vObjVal[ii] = hObjFun(mW[:, ii]) / (2 * numSamples) #<! Scaling for classification\n",
    "    vYEst       = np.sign(mXX @ mW[:, ii])\n",
    "    vE[ii]      = np.mean(vYEst != vY) #<! Mean Error"
   ]
  },
  {
   "cell_type": "markdown",
   "metadata": {},
   "source": [
    "* <font color='red'>(**?**)</font> Should the error rate match the objective function?"
   ]
  },
  {
   "cell_type": "code",
   "execution_count": null,
   "metadata": {},
   "outputs": [],
   "source": [
    "# Plotting Function\n",
    "\n",
    "# Grid of the data support\n",
    "vV       = np.linspace(-2, 2, numGridPts)\n",
    "mX1, mX2 = np.meshgrid(vV, vV)\n",
    "\n",
    "def PlotLinClassTrain( itrIdx: int, mX: np.ndarray, mW: np.ndarray, vY: np.ndarray, vE: np.ndarray, vL: np.ndarray, mX1: np.ndarray, mX2: np.ndarray ):\n",
    "\n",
    "    hF, _ = plt.subplots(nrows = 1, ncols = 2, figsize = (12, 6))\n",
    "\n",
    "    hA1, hA2 = hF.axes[0], hF.axes[1]\n",
    "\n",
    "    # hA1.cla()\n",
    "    # hA2.cla()\n",
    "    \n",
    "    Plot2DLinearClassifier(mX, vY, mW[:, itrIdx], mX1, mX2, hA1) #<! Assumes the model is [-1, x_1, x_2] * [w1; w2; w3]\n",
    "\n",
    "    K = np.size(mW, 1) #<! Number of iterations\n",
    "\n",
    "    vEE = vE[:itrIdx]\n",
    "    vLL = vL[:itrIdx]\n",
    "\n",
    "    hA2.plot(vEE, color = 'k', lw = 2, label = r'$J \\left( w \\right)$')\n",
    "    hA2.plot(vLL, color = 'm', lw = 2, label = r'$\\tilde{J} \\left( w \\right)$')\n",
    "    hA2.set_title('Objective Function')\n",
    "    hA2.set_xlabel('Iteration Index')\n",
    "    hA2.set_ylabel('Value')\n",
    "    hA2.set_xlim((0, K - 1))\n",
    "    hA2.set_ylim((0, 1))\n",
    "    hA2.grid()\n",
    "    hA2.legend()\n",
    "        \n",
    "    # hF.canvas.draw()\n",
    "    plt.show()"
   ]
  },
  {
   "cell_type": "code",
   "execution_count": null,
   "metadata": {},
   "outputs": [],
   "source": [
    "# Display the Optimization Path\n",
    "\n",
    "hPlotLinClassTrain = lambda itrIdx: PlotLinClassTrain(itrIdx, mX, mW, vY, vE, vObjVal, mX1, mX2)\n",
    "kSlider = IntSlider(min = 0, max = numIterations - 1, step = 1, value = 0, description = 'Iteration', layout = Layout(width = '30%'))\n",
    "interact(hPlotLinClassTrain, itrIdx = kSlider);\n"
   ]
  }
 ],
 "metadata": {
  "kernelspec": {
   "display_name": "Python 3",
   "language": "python",
   "name": "python3"
  },
  "language_info": {
   "codemirror_mode": {
    "name": "ipython",
    "version": 3
   },
   "file_extension": ".py",
   "mimetype": "text/x-python",
   "name": "python",
   "nbconvert_exporter": "python",
   "pygments_lexer": "ipython3",
   "version": "3.12.7"
  },
  "toc": {
   "base_numbering": 1,
   "nav_menu": {},
   "number_sections": false,
   "sideBar": true,
   "skip_h1_title": false,
   "title_cell": "Table of Contents",
   "title_sidebar": "Contents",
   "toc_cell": false,
   "toc_position": {},
   "toc_section_display": true,
   "toc_window_display": true
  },
  "varInspector": {
   "cols": {
    "lenName": 16,
    "lenType": 16,
    "lenVar": 40
   },
   "kernels_config": {
    "python": {
     "delete_cmd_postfix": "",
     "delete_cmd_prefix": "del ",
     "library": "var_list.py",
     "varRefreshCmd": "print(var_dic_list())"
    },
    "r": {
     "delete_cmd_postfix": ") ",
     "delete_cmd_prefix": "rm(",
     "library": "var_list.r",
     "varRefreshCmd": "cat(var_dic_list()) "
    }
   },
   "types_to_exclude": [
    "module",
    "function",
    "builtin_function_or_method",
    "instance",
    "_Feature"
   ],
   "window_display": false
  },
  "vscode": {
   "interpreter": {
    "hash": "39577bab1f263e62e0b74f5b8086bd735049bf4751f6562b2d4b2969dc308293"
   }
  }
 },
 "nbformat": 4,
 "nbformat_minor": 4
}
