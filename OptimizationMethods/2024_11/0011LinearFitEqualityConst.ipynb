{
 "cells": [
  {
   "attachments": {},
   "cell_type": "markdown",
   "metadata": {},
   "source": [
    "[![Fixel Algorithms](https://fixelalgorithms.co/images/CCExt.png)](https://fixelalgorithms.gitlab.io/)\n",
    "\n",
    "# Optimization Methods\n",
    "\n",
    "## Convex Optimization - Constraint Optimization - Least Squares with Equality Constraints\n",
    "\n",
    "> Notebook by:\n",
    "> - Royi Avital RoyiAvital@fixelalgorithms.com\n",
    "\n",
    "## Revision History\n",
    "\n",
    "| Version | Date       | User        |Content / Changes                                                   |\n",
    "|---------|------------|-------------|--------------------------------------------------------------------|\n",
    "| 1.0.001 | 03/03/2024 | Royi Avital | Added remarks on the model matrix and values vector                |\n",
    "| 1.0.000 | 09/02/2024 | Royi Avital | First version                                                      |"
   ]
  },
  {
   "attachments": {},
   "cell_type": "markdown",
   "metadata": {},
   "source": [
    "[![Open In Colab](https://colab.research.google.com/assets/colab-badge.svg)](https://colab.research.google.com/github/FixelAlgorithmsTeam/FixelCourses/blob/master/AIProgram/2024_02/0012LinearFitL1.ipynb)"
   ]
  },
  {
   "cell_type": "code",
   "execution_count": null,
   "metadata": {
    "ExecuteTime": {
     "end_time": "2022-02-02T09:30:06.492269Z",
     "start_time": "2022-02-02T09:30:06.220934Z"
    }
   },
   "outputs": [],
   "source": [
    "# Import Packages\n",
    "\n",
    "# General Tools\n",
    "import numpy as np\n",
    "import scipy as sp\n",
    "import pandas as pd\n",
    "\n",
    "# Machine Learning\n",
    "\n",
    "# Optimization\n",
    "import cvxpy as cp\n",
    "\n",
    "# Miscellaneous\n",
    "import os\n",
    "import math\n",
    "from platform import python_version\n",
    "import random\n",
    "\n",
    "# Typing\n",
    "from typing import Callable, List, Tuple, Union\n",
    "\n",
    "# Visualization\n",
    "from matplotlib.colors import LogNorm, Normalize, PowerNorm\n",
    "import matplotlib.pyplot as plt\n",
    "import seaborn as sns\n",
    "\n",
    "# Jupyter\n",
    "from IPython import get_ipython\n",
    "from IPython.display import Image, display\n",
    "from ipywidgets import Dropdown, FloatSlider, interact, IntSlider, Layout"
   ]
  },
  {
   "attachments": {},
   "cell_type": "markdown",
   "metadata": {},
   "source": [
    "## Notations\n",
    "\n",
    "* <font color='red'>(**?**)</font> Question to answer interactively.\n",
    "* <font color='blue'>(**!**)</font> Simple task to add code for the notebook.\n",
    "* <font color='green'>(**@**)</font> Optional / Extra self practice.\n",
    "* <font color='brown'>(**#**)</font> Note / Useful resource / Food for thought.\n",
    "\n",
    "Code Notations:\n",
    "\n",
    "```python\n",
    "someVar    = 2; #<! Notation for a variable\n",
    "vVector    = np.random.rand(4) #<! Notation for 1D array\n",
    "mMatrix    = np.random.rand(4, 3) #<! Notation for 2D array\n",
    "tTensor    = np.random.rand(4, 3, 2, 3) #<! Notation for nD array (Tensor)\n",
    "tuTuple    = (1, 2, 3) #<! Notation for a tuple\n",
    "lList      = [1, 2, 3] #<! Notation for a list\n",
    "dDict      = {1: 3, 2: 2, 3: 1} #<! Notation for a dictionary\n",
    "oObj       = MyClass() #<! Notation for an object\n",
    "dfData     = pd.DataFrame() #<! Notation for a data frame\n",
    "dsData     = pd.Series() #<! Notation for a series\n",
    "hObj       = plt.Axes() #<! Notation for an object / handler / function handler\n",
    "```\n",
    "\n",
    "### Code Exercise\n",
    "\n",
    " - Single line fill\n",
    "\n",
    " ```python\n",
    " vallToFill = ???\n",
    " ```\n",
    "\n",
    " - Multi Line to Fill (At least one)\n",
    "\n",
    " ```python\n",
    " # You need to start writing\n",
    " ????\n",
    " ```\n",
    "\n",
    " - Section to Fill\n",
    "\n",
    "```python\n",
    "#===========================Fill This===========================#\n",
    "# 1. Explanation about what to do.\n",
    "# !! Remarks to follow / take under consideration.\n",
    "mX = ???\n",
    "\n",
    "???\n",
    "#===============================================================#\n",
    "```"
   ]
  },
  {
   "cell_type": "code",
   "execution_count": null,
   "metadata": {},
   "outputs": [],
   "source": [
    "# Configuration\n",
    "%matplotlib inline\n",
    "\n",
    "# warnings.filterwarnings(\"ignore\")\n",
    "\n",
    "seedNum = 512\n",
    "np.random.seed(seedNum)\n",
    "random.seed(seedNum)\n",
    "\n",
    "# Matplotlib default color palette\n",
    "lMatPltLibclr = ['#1f77b4', '#ff7f0e', '#2ca02c', '#d62728', '#9467bd', '#8c564b', '#e377c2', '#7f7f7f', '#bcbd22', '#17becf']\n",
    "# sns.set_theme() #>! Apply SeaBorn theme\n",
    "# sns.set_palette(\"tab10\")\n",
    "\n",
    "runInGoogleColab = 'google.colab' in str(get_ipython())"
   ]
  },
  {
   "cell_type": "code",
   "execution_count": null,
   "metadata": {},
   "outputs": [],
   "source": [
    "# Constants\n",
    "\n",
    "FIG_SIZE_DEF    = (8, 8)\n",
    "ELM_SIZE_DEF    = 50\n",
    "CLASS_COLOR     = ('b', 'r')\n",
    "EDGE_COLOR      = 'k'\n",
    "MARKER_SIZE_DEF = 10\n",
    "LINE_WIDTH_DEF  = 2\n"
   ]
  },
  {
   "cell_type": "code",
   "execution_count": null,
   "metadata": {},
   "outputs": [],
   "source": [
    "# Course Packages\n"
   ]
  },
  {
   "cell_type": "code",
   "execution_count": null,
   "metadata": {},
   "outputs": [],
   "source": [
    "# Auxiliary Functions\n"
   ]
  },
  {
   "cell_type": "code",
   "execution_count": null,
   "metadata": {},
   "outputs": [],
   "source": [
    "# Parameters\n",
    "\n",
    "# Data\n",
    "numCoeff    = 11\n",
    "numSamples  = 110\n",
    "noiseStd    = 0.005\n",
    "convShape   = CONVOLUTION_SHAPE_VALID\n",
    "\n",
    "\n",
    "# Solver\n",
    "stepSizeMode    = STEP_SIZE_MODE_ADAPTIVE\n",
    "stepSize        = 0.001\n",
    "numIterations   = 2500\n",
    "\n",
    "# Verification\n",
    "ε      = 1e-6 #<! Error threshold"
   ]
  },
  {
   "attachments": {},
   "cell_type": "markdown",
   "metadata": {},
   "source": [
    "## Linear Fit with Equality Constraints\n",
    "\n",
    "The _Linear Fit_ / _Least Squares_ with Equality Constraints is given by:\n",
    "\n",
    "$$\\begin{align}\n",
    "\\arg \\min_{\\boldsymbol{x}} \\quad & {\\left\\| \\boldsymbol{A} \\boldsymbol{x} - \\boldsymbol{b} \\right\\|}_{2}^{2} \\\\\n",
    "\\text{subject to} \\quad & \\begin{aligned} \n",
    "\\boldsymbol{C} \\boldsymbol{x} & = \\boldsymbol{d} \\\\\n",
    "\\end{aligned}\n",
    "\\end{align}$$\n",
    "\n",
    "## Least Squares with Sum Constraints\n",
    "\n",
    "An _High Pass Filter_ (HPF) is a filter decays low frequencies.  \n",
    "A simplistic way to force an HPF is to force it will vanish the DC component.  \n",
    "This can be done by forcing the sum of its coefficients to be zero.\n",
    "\n",
    "This notebook deals with estimating an High Pass Filter (HPF) using Projected Gradient Descent.\n",
    "The problems equivalent to a Least Squares problem with a linear equality constraint.\n",
    "\n",
    "This notebook shows how to solve the problem:\n",
    "\n",
    "$$\\begin{align}\n",
    "\\arg \\min_{\\boldsymbol{x}} \\quad & {\\left\\| \\boldsymbol{A} \\boldsymbol{x} - \\boldsymbol{b} \\right\\|}_{2}^{2} \\\\\n",
    "\\text{subject to} \\quad & \\begin{aligned} \n",
    "\\sum {x}_{i} & = 0 \\\\\n",
    "\\end{aligned}\n",
    "\\end{align}$$\n",
    "\n",
    "The notebook:\n",
    "\n",
    " - Calculates a solution using DCP Solver (Reference).\n",
    " - Calculates a solution using _Projected Gradient Descent_.\n",
    "\n",
    "* <font color='brown'>(**#**)</font> Constraints are useful for undetermined case where the number of solutions is infinite.\n",
    "* <font color='red'>(**?**)</font> Formulate the constraint as a dot product (Vector).\n"
   ]
  },
  {
   "cell_type": "markdown",
   "metadata": {},
   "source": [
    "## Generate Data\n"
   ]
  },
  {
   "cell_type": "markdown",
   "metadata": {},
   "source": [
    "The data model is a stream of samples going through an LTI system.  \n",
    "In our case the LTI system is built by an HPF filter:\n",
    "\n",
    "$$ \\boldsymbol{y} = \\operatorname{conv} \\left( \\boldsymbol{x}, \\boldsymbol{h} \\right) + \\boldsymbol{n} $$\n",
    "\n",
    "Where:\n",
    " - $\\boldsymbol{x}$ - The data samples.\n",
    " - $\\boldsymbol{h}$ - The filter coefficients.\n",
    " - $\\boldsymbol{n}$ - The white noise samples (AWGN).\n",
    "\n",
    "Since the model is linear is can be written in a matrix form:\n",
    "\n",
    "$$ \\boldsymbol{y} = \\boldsymbol{X} \\boldsymbol{h} + \\boldsymbol{n} $$\n",
    "\n",
    "* <font color='brown'>(**#**)</font> Since the model is a convolution (LTI) system, the matrix $\\boldsymbol{X}$ is a [Toeplitz Matrix](https://en.wikipedia.org/wiki/Toeplitz_matrix).\n",
    "* <font color='brown'>(**#**)</font> Read on [`numpy.convolve()`](https://numpy.org/doc/stable/reference/generated/numpy.convolve.html) and [`scipy.signal.convolve()`](https://docs.scipy.org/doc/scipy/reference/generated/scipy.signal.convolve.html). Pay attention to the `method` option in [`scipy.signal.convolve()`](https://docs.scipy.org/doc/scipy/reference/generated/scipy.signal.convolve.html)."
   ]
  },
  {
   "cell_type": "code",
   "execution_count": null,
   "metadata": {},
   "outputs": [],
   "source": [
    "# Generate / Load the Data\n",
    "\n",
    "vG = np.random.rand(numSamples + numOutliers)\n",
    "vB = ((modelSlope * vG) + modelIntercept) + (noiseStd * np.random.rand(numSamples + numOutliers))\n",
    "vI = np.random.choice(numSamples + numOutliers, numOutliers, replace = False) #<! Choose `numOutliers` of the points\n",
    "vB[vI] += (outlierStd * np.random.randn(numOutliers)) #<! The values vector\n",
    "\n",
    "mA = np.column_stack((np.ones_like(vG), vG)) #!< The model matrix"
   ]
  },
  {
   "cell_type": "code",
   "execution_count": null,
   "metadata": {},
   "outputs": [],
   "source": [
    "# Display the Data\n",
    "\n",
    "hF, hA = plt.subplots(figsize = (16, 8))\n",
    "hA.plot(vG, modelSlope * vG + modelIntercept, label = 'Model')\n",
    "hA.scatter(vG, vB, s = 50, color = lMatPltLibclr[1], label = 'Data Samples')\n",
    "hA.set_xlabel(r'$x$')\n",
    "hA.set_ylabel(r'$y$')\n",
    "hA.set_title('Data Samples')\n",
    "\n",
    "hA.legend();"
   ]
  },
  {
   "cell_type": "markdown",
   "metadata": {},
   "source": [
    "## Linear Fit\n",
    "\n",
    "In this section 3 linear fits will be calculated:\n",
    "\n",
    "1. The _Least Squares_ (Squared ${L}^{2}$ Norm).\n",
    "2. The ${L}^{1}$ _Linear Fit_ using a direct formulation with a DCP solver.\n",
    "3. The ${L}^{1}$ _Linear Fit_ using a _Linear Programming_ formulation with a DCP solver.\n",
    "\n",
    "* <font color='brown'>(**#**)</font> The ${L}^{1}$ solutions will be solved by a DCP solver: `CVXPY`.\n"
   ]
  },
  {
   "cell_type": "code",
   "execution_count": null,
   "metadata": {},
   "outputs": [],
   "source": [
    "# Least Squares Fit\n",
    "\n",
    "#===========================Fill This===========================#\n",
    "# 1. Estimate the model parameters using Least Squares.\n",
    "# !! You may find `np.linalg.lstsq` useful.\n",
    "\n",
    "vXLS, *_ = ???\n",
    "\n",
    "#===============================================================#"
   ]
  },
  {
   "cell_type": "markdown",
   "metadata": {},
   "source": [
    "* <font color='red'>(**?**)</font> How many components in `vXLS`?  \n",
    "Map the elements of `vXLS` into the model parameters."
   ]
  },
  {
   "cell_type": "code",
   "execution_count": null,
   "metadata": {},
   "outputs": [],
   "source": [
    "# L1 Linear Fit\n",
    "# This is the reference solution.\n",
    "\n",
    "vXL1Ref = cp.Variable(2)\n",
    "\n",
    "cpObjFun = cp.Minimize(cp.norm(mA @ vXL1Ref - vB, 1)) #<! Objective Function\n",
    "oCvxPrb = cp.Problem(cpObjFun)\n",
    "oCvxPrb.solve(solver = cp.CLARABEL)\n",
    "\n",
    "assert (oCvxPrb.status == 'optimal'), 'The problem is not solved.'\n",
    "print('Problem is solved.')\n",
    "\n",
    "vXL1Ref = vXL1Ref.value"
   ]
  },
  {
   "cell_type": "code",
   "execution_count": null,
   "metadata": {},
   "outputs": [],
   "source": [
    "# L1 Linear Fit\n",
    "# This is the solution using Linear Programming formulation.\n",
    "# It will be solved using `CVXPY`.\n",
    "\n",
    "#===========================Fill This===========================#\n",
    "# 1. Create the auxiliary variable `vT`.\n",
    "# 1. Define the objective function.\n",
    "# 3. Define the constraints.\n",
    "# 4. Solve the problem using `CVXPY`.\n",
    "# !! You may use list operations to define constraints.\n",
    "\n",
    "vT   = cp.Variable(???)\n",
    "vXL1 = cp.Variable(???)\n",
    "\n",
    "cpObjFun = ??? #<! Objective Function\n",
    "cpConst = ??? #<! Constraints\n",
    "oCvxPrb = ??? #<! Problem\n",
    "#===============================================================#\n",
    "\n",
    "oCvxPrb.solve(solver = cp.CLARABEL)\n",
    "\n",
    "assert (oCvxPrb.status == 'optimal'), 'The problem is not solved.'\n",
    "print('Problem is solved.')\n",
    "\n",
    "vXL1 = vXL1.value"
   ]
  },
  {
   "cell_type": "code",
   "execution_count": null,
   "metadata": {},
   "outputs": [],
   "source": [
    "# Display Results\n",
    "\n",
    "hF, hA = plt.subplots(figsize = (16, 8))\n",
    "hA.plot(vG, modelSlope * vG + modelIntercept, label = 'Model')\n",
    "hA.scatter(vG, vB, s = 50, color = lMatPltLibclr[-1], label = 'Data Samples')\n",
    "hA.plot(vG, vXLS[1] * vG + vXLS[0], label = 'Least Squares')\n",
    "hA.plot(vG, vXL1Ref[1] * vG + vXL1Ref[0], label = 'L1 Fit Reference')\n",
    "hA.plot(vG, vXL1[1] * vG + vXL1[0], label = 'L1 Fit')\n",
    "hA.set_xlabel(r'$x$')\n",
    "hA.set_ylabel(r'$y$')\n",
    "hA.set_title('Fitted Models')\n",
    "\n",
    "hA.legend();"
   ]
  },
  {
   "cell_type": "markdown",
   "metadata": {},
   "source": [
    "* <font color='red'>(**?**)</font> Looking at the results, explain the name \"Robust Regression\".\n",
    "* <font color='red'>(**?**)</font> Why is the _Least Squares_ the more common method?"
   ]
  }
 ],
 "metadata": {
  "kernelspec": {
   "display_name": "Python 3",
   "language": "python",
   "name": "python3"
  },
  "language_info": {
   "codemirror_mode": {
    "name": "ipython",
    "version": 3
   },
   "file_extension": ".py",
   "mimetype": "text/x-python",
   "name": "python",
   "nbconvert_exporter": "python",
   "pygments_lexer": "ipython3",
   "version": "3.11.7"
  },
  "toc": {
   "base_numbering": 1,
   "nav_menu": {},
   "number_sections": false,
   "sideBar": true,
   "skip_h1_title": false,
   "title_cell": "Table of Contents",
   "title_sidebar": "Contents",
   "toc_cell": false,
   "toc_position": {},
   "toc_section_display": true,
   "toc_window_display": true
  },
  "varInspector": {
   "cols": {
    "lenName": 16,
    "lenType": 16,
    "lenVar": 40
   },
   "kernels_config": {
    "python": {
     "delete_cmd_postfix": "",
     "delete_cmd_prefix": "del ",
     "library": "var_list.py",
     "varRefreshCmd": "print(var_dic_list())"
    },
    "r": {
     "delete_cmd_postfix": ") ",
     "delete_cmd_prefix": "rm(",
     "library": "var_list.r",
     "varRefreshCmd": "cat(var_dic_list()) "
    }
   },
   "types_to_exclude": [
    "module",
    "function",
    "builtin_function_or_method",
    "instance",
    "_Feature"
   ],
   "window_display": false
  },
  "vscode": {
   "interpreter": {
    "hash": "39577bab1f263e62e0b74f5b8086bd735049bf4751f6562b2d4b2969dc308293"
   }
  }
 },
 "nbformat": 4,
 "nbformat_minor": 4
}
