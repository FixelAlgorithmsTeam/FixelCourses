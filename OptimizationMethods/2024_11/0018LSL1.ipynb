{
 "cells": [
  {
   "attachments": {},
   "cell_type": "markdown",
   "metadata": {},
   "source": [
    "[![Fixel Algorithms](https://fixelalgorithms.co/images/CCExt.png)](https://fixelalgorithms.gitlab.io/)\n",
    "\n",
    "# Optimization Methods\n",
    "\n",
    "## Convex Optimization - Non Smooth Optimization - Proximal Gradient Method\n",
    "\n",
    "> Notebook by:\n",
    "> - Royi Avital RoyiAvital@fixelalgorithms.com\n",
    "\n",
    "## Revision History\n",
    "\n",
    "| Version | Date       | User        |Content / Changes                                                   |\n",
    "|---------|------------|-------------|--------------------------------------------------------------------|\n",
    "| 1.0.000 | 30/09/2024 | Royi Avital | First version                                                      |"
   ]
  },
  {
   "attachments": {},
   "cell_type": "markdown",
   "metadata": {},
   "source": [
    "[![Open In Colab](https://colab.research.google.com/assets/colab-badge.svg)](https://colab.research.google.com/github/FixelAlgorithmsTeam/FixelCourses/blob/master/AIProgram/2024_02/0012LinearFitL1.ipynb)"
   ]
  },
  {
   "cell_type": "code",
   "execution_count": null,
   "metadata": {
    "ExecuteTime": {
     "end_time": "2022-02-02T09:30:06.492269Z",
     "start_time": "2022-02-02T09:30:06.220934Z"
    }
   },
   "outputs": [],
   "source": [
    "# Import Packages\n",
    "\n",
    "# General Tools\n",
    "import numpy as np\n",
    "import scipy as sp\n",
    "import pandas as pd\n",
    "\n",
    "# Machine Learning\n",
    "\n",
    "# Optimization\n",
    "import cvxpy as cp\n",
    "\n",
    "# Miscellaneous\n",
    "import os\n",
    "import math\n",
    "from platform import python_version\n",
    "import random\n",
    "\n",
    "# Typing\n",
    "from typing import Callable, List, Tuple, Union\n",
    "\n",
    "# Visualization\n",
    "import matplotlib.pyplot as plt\n",
    "\n",
    "# Jupyter\n",
    "from IPython import get_ipython"
   ]
  },
  {
   "attachments": {},
   "cell_type": "markdown",
   "metadata": {},
   "source": [
    "## Notations\n",
    "\n",
    "* <font color='red'>(**?**)</font> Question to answer interactively.\n",
    "* <font color='blue'>(**!**)</font> Simple task to add code for the notebook.\n",
    "* <font color='green'>(**@**)</font> Optional / Extra self practice.\n",
    "* <font color='brown'>(**#**)</font> Note / Useful resource / Food for thought.\n",
    "\n",
    "Code Notations:\n",
    "\n",
    "```python\n",
    "someVar    = 2; #<! Notation for a variable\n",
    "vVector    = np.random.rand(4) #<! Notation for 1D array\n",
    "mMatrix    = np.random.rand(4, 3) #<! Notation for 2D array\n",
    "tTensor    = np.random.rand(4, 3, 2, 3) #<! Notation for nD array (Tensor)\n",
    "tuTuple    = (1, 2, 3) #<! Notation for a tuple\n",
    "lList      = [1, 2, 3] #<! Notation for a list\n",
    "dDict      = {1: 3, 2: 2, 3: 1} #<! Notation for a dictionary\n",
    "oObj       = MyClass() #<! Notation for an object\n",
    "dfData     = pd.DataFrame() #<! Notation for a data frame\n",
    "dsData     = pd.Series() #<! Notation for a series\n",
    "hObj       = plt.Axes() #<! Notation for an object / handler / function handler\n",
    "```\n",
    "\n",
    "### Code Exercise\n",
    "\n",
    " - Single line fill\n",
    "\n",
    " ```python\n",
    " vallToFill = ???\n",
    " ```\n",
    "\n",
    " - Multi Line to Fill (At least one)\n",
    "\n",
    " ```python\n",
    " # You need to start writing\n",
    " ????\n",
    " ```\n",
    "\n",
    " - Section to Fill\n",
    "\n",
    "```python\n",
    "#===========================Fill This===========================#\n",
    "# 1. Explanation about what to do.\n",
    "# !! Remarks to follow / take under consideration.\n",
    "mX = ???\n",
    "\n",
    "???\n",
    "#===============================================================#\n",
    "```"
   ]
  },
  {
   "cell_type": "code",
   "execution_count": 2,
   "metadata": {},
   "outputs": [],
   "source": [
    "# Configuration\n",
    "# %matplotlib inline\n",
    "\n",
    "# warnings.filterwarnings(\"ignore\")\n",
    "\n",
    "seedNum = 512\n",
    "np.random.seed(seedNum)\n",
    "random.seed(seedNum)\n",
    "\n",
    "# Matplotlib default color palette\n",
    "lMatPltLibclr = ['#1f77b4', '#ff7f0e', '#2ca02c', '#d62728', '#9467bd', '#8c564b', '#e377c2', '#7f7f7f', '#bcbd22', '#17becf']\n",
    "# sns.set_theme() #>! Apply SeaBorn theme\n",
    "# sns.set_palette(\"tab10\")\n",
    "\n",
    "runInGoogleColab = 'google.colab' in str(get_ipython())"
   ]
  },
  {
   "cell_type": "code",
   "execution_count": 3,
   "metadata": {},
   "outputs": [],
   "source": [
    "# Constants\n",
    "\n",
    "FIG_SIZE_DEF    = (8, 8)\n",
    "ELM_SIZE_DEF    = 50\n",
    "CLASS_COLOR     = ('b', 'r')\n",
    "EDGE_COLOR      = 'k'\n",
    "MARKER_SIZE_DEF = 10\n",
    "LINE_WIDTH_DEF  = 2\n"
   ]
  },
  {
   "cell_type": "code",
   "execution_count": 4,
   "metadata": {},
   "outputs": [],
   "source": [
    "# Course Packages\n",
    "\n",
    "from AuxFun import ProxGradientDescent\n"
   ]
  },
  {
   "cell_type": "code",
   "execution_count": 5,
   "metadata": {},
   "outputs": [],
   "source": [
    "# Auxiliary Functions\n"
   ]
  },
  {
   "cell_type": "code",
   "execution_count": 6,
   "metadata": {},
   "outputs": [],
   "source": [
    "# Parameters\n",
    "\n",
    "# Data\n",
    "csvUrl = r'https://raw.githubusercontent.com/FixelAlgorithmsTeam/FixelCourses/master/DataSets/mtcars.csv'\n",
    "\n",
    "# Solution Path\n",
    "λ  = 0.5 #<! Verification\n",
    "vλ = np.linspace(0, 7, 100)\n",
    "\n",
    "# Solver\n",
    "μ               = 0.00025\n",
    "numIterations   = 100_000\n",
    "\n",
    "# # Verification\n",
    "ε = 1e-6 #<! Error threshold"
   ]
  },
  {
   "attachments": {},
   "cell_type": "markdown",
   "metadata": {},
   "source": [
    "## Least Squares with ${L}_{1}$ Norm Regularization\n",
    "\n",
    "The ${L}_{1}$ regularized Least Squares (${L}_{1}$ Regularized LS) is given by:\n",
    "\n",
    "$$ \\arg \\min_{\\boldsymbol{x}} \\frac{1}{2} {\\left\\| \\boldsymbol{A} \\boldsymbol{x} - \\boldsymbol{b} \\right\\|}_{2}^{2} + \\lambda {\\left\\| \\boldsymbol{x} \\right\\|}_{1} $$\n",
    "\n",
    "Where $\\lambda {\\left\\| \\boldsymbol{x} \\right\\|}_{1}$ is the regularization term with $\\lambda \\geq 0$ sets the regularization level.\n",
    "\n",
    "* <font color='brown'>(**#**)</font> The ${L}_{1}$ norm is non smooth.\n",
    "* <font color='brown'>(**#**)</font> The _median_ of a set of numbers (As a vector) can be defined as $\\arg \\min_{\\alpha} {\\left\\| \\boldsymbol{x} - \\alpha \\boldsymbol{1} \\right\\|}_{1}$.\n",
    "* <font color='brown'>(**#**)</font> The motivation for the ${L}_{1}$ norm can explained as:\n",
    "  - [Promoting Sparsity](https://en.wikipedia.org/wiki/Structured_sparsity_regularization).\n",
    "  - [Laplace Distribution](https://en.wikipedia.org/wiki/Laplace_distribution) Prior.\n",
    "* <font color='brown'>(**#**)</font> The function $g \\left( \\boldsymbol{x} \\right) = \\lambda {\\left\\| \\boldsymbol{x} \\right\\|}_{1}$ has an efficient _Prox Operator_.\n",
    "\n",
    "This notebooks covers the solution of the above problem using the Proximal Gradient Descent method.\n",
    "\n",
    "### The Least Absolute Shrinkage and Selection Operator (LASSO) Model\n",
    "\n",
    "The [LASSO](https://en.wikipedia.org/wiki/Lasso_(statistics)) model is a well known model in _Statistics_ and _Machine Learning_.  \n",
    "It uses the ${L}_{1}$ Regularized LS model in order to apply a feature selection for ML model.  \n"
   ]
  },
  {
   "cell_type": "markdown",
   "metadata": {},
   "source": [
    "## Generate Data\n"
   ]
  },
  {
   "cell_type": "markdown",
   "metadata": {},
   "source": [
    "The data in this notebooks is a very well known data set in ML.  \n",
    "It is based on the MPG consumption of cars with some technical information about the model.  \n",
    "\n",
    "The [CSV File](https://raw.githubusercontent.com/FixelAlgorithmsTeam/FixelCourses/master/DataSets/mtcars.csv) includes the features:\n",
    "\n",
    " - `mpg` - Miles per Gallon\n",
    " - `cyl` - # of cylinders\n",
    " - `disp` - displacement, in cubic inches\n",
    " - `hp` - horsepower\n",
    " - `drat` - driveshaft ratio\n",
    " - `wt` - weight\n",
    " - `qsec` - 1/4 mile time; a measure of acceleration\n",
    " - `vs` - 'V' or straight - engine shape\n",
    " - `am` - transmission; auto or manual\n",
    " - `gear` - # of gears\n",
    " - `carb` - # of carburetors\n",
    "\n",
    "* <font color='brown'>(**#**)</font> The metadata is from [GitHub Gist - `mtcars.csv`](https://gist.github.com/seankross/a412dfbd88b3db70b74b).\n",
    "\n",
    "The data is normalized ot have zero mean and unit variance."
   ]
  },
  {
   "cell_type": "code",
   "execution_count": null,
   "metadata": {},
   "outputs": [],
   "source": [
    "# Generate / Load the Data\n",
    "\n",
    "dfData = pd.read_csv(csvUrl) #<! Data Frame\n",
    "\n",
    "mA  = dfData.iloc[:, 2:].to_numpy() #<! NumPy array (`model` and `mpg` removed)\n",
    "mA -= np.mean(mA, axis = 0)[None, :] #<! Normalize\n",
    "mA /= np.std(mA, axis = 0)[None, :] #<! Normalize\n",
    "vY  = dfData['mpg'].to_numpy() #<! Target (`mpg`)\n",
    "\n",
    "lFeatureName = dfData.columns[2:]\n",
    "\n",
    "numSamples  = len(vY)\n",
    "numFeatures = np.size(mA, 1)\n",
    "numλ        = len(vλ)\n",
    "\n",
    "mX  = np.zeros(shape = (numFeatures, numIterations)) #<! Weights per iteration\n",
    "mXλ = np.zeros(shape = (numFeatures, numλ)) #<! Weights per λ\n",
    "\n",
    "dfData #<! Display the DF\n"
   ]
  },
  {
   "cell_type": "markdown",
   "metadata": {},
   "source": [
    "## Analysis\n",
    "\n",
    "This section defines the problem and solve it using the _Proximal Gradient Method_ (PGM)."
   ]
  },
  {
   "cell_type": "markdown",
   "metadata": {},
   "source": [
    "### Objective Function\n",
    "\n",
    "The objective function (LASSO):\n",
    "\n",
    "$$ \\arg \\min_{\\boldsymbol{x}} \\frac{1}{2} {\\left\\| \\boldsymbol{A} \\boldsymbol{x} - \\boldsymbol{b} \\right\\|}_{2}^{2} + \\lambda {\\left\\| \\boldsymbol{x} \\right\\|}_{1} $$\n",
    "\n",
    "Since the model is linear and features are normalized, one can think the absolute value of the weight of the $i$ -th feature as a measure of its significance.  \n",
    "This is the concept behind using the LASSO model for feature selection."
   ]
  },
  {
   "cell_type": "code",
   "execution_count": 8,
   "metadata": {},
   "outputs": [],
   "source": [
    "# Objective Function\n",
    "\n",
    "#===========================Fill This===========================#\n",
    "# 1. Implement the objective function. \n",
    "#    Given a vector of `vX` and a scalar `λ` it returns the objective.\n",
    "# 2. The implementation should be using a Lambda Function.\n",
    "# !! You may `np.square()` and / or `np.linalg.norm()`.\n",
    "# !! Pay attention to the variable of the labels.\n",
    "\n",
    "hObjFun = lambda vX, λ: ???\n",
    "#===============================================================#"
   ]
  },
  {
   "cell_type": "markdown",
   "metadata": {},
   "source": [
    "### Proximal Operator\n",
    "\n",
    "The Proximal Operator of a function $g \\left( \\cdot \\right)$ is given by:\n",
    "\n",
    "$$ \\operatorname{prox}_{\\lambda g \\left( \\cdot \\right)} \\left( \\boldsymbol{y} \\right) = \\arg \\min_{\\boldsymbol{x}} \\frac{1}{2} {\\left\\| \\boldsymbol{x} - \\boldsymbol{y} \\right\\|}_{2}^{2} + \\lambda g \\left( \\boldsymbol{x} \\right) $$\n",
    "\n",
    "* <font color='brown'>(**#**)</font> The Proximal Operator can be thought as a generalization of a projection operator.\n",
    "* <font color='brown'>(**#**)</font> The Proximal Operator can be used to generalize the _Gradient_.\n"
   ]
  },
  {
   "cell_type": "markdown",
   "metadata": {},
   "source": [
    "#### Question 001\n",
    "\n",
    "Derive the Prox of the ${L}_{1}$ norm:\n",
    "\n",
    "$$ \\operatorname{prox}_{\\lambda {\\left\\| \\cdot \\right\\|}_{1}} \\left( \\boldsymbol{y} \\right) = \\arg \\min_{\\boldsymbol{x}} \\frac{1}{2} {\\left\\| \\boldsymbol{x} - \\boldsymbol{y} \\right\\|}_{2}^{2} + \\lambda {\\left\\| \\boldsymbol{x} \\right\\|}_{1} $$\n",
    "\n",
    "Hints:\n",
    "\n",
    " - Pay attention the problem is separable.\n",
    " - Per element, first solve with the assumption the solution is positive and then for negative."
   ]
  },
  {
   "cell_type": "markdown",
   "metadata": {},
   "source": [
    "### Solution 001\n",
    "\n",
    "<font color='red'>??? Fill the answer here ???</font>\n",
    "\n",
    "---"
   ]
  },
  {
   "cell_type": "code",
   "execution_count": 9,
   "metadata": {},
   "outputs": [],
   "source": [
    "# The Proximal Function\n",
    "\n",
    "#===========================Fill This===========================#\n",
    "# 1. Implement the prox operator function of the `λ || ||_1` function. \n",
    "#    Given a vector `vY` and `λ` it returns the proximal at `vY`.\n",
    "# 2. The implementation should be using a Lambda Function.\n",
    "# !! You may assume `λ` > 0.\n",
    "\n",
    "hProxFun = lambda vY, λ: ???\n",
    "#===============================================================#"
   ]
  },
  {
   "cell_type": "code",
   "execution_count": null,
   "metadata": {},
   "outputs": [],
   "source": [
    "# Validation \n",
    "# The proximal operator is the solution of a convex problem.\n",
    "# The operator can be verified by DCP.\n",
    "\n",
    "# Model Data\n",
    "vYY = np.linspace(-5, 5, 101)\n",
    "vXX = cp.Variable(len(vYY))\n",
    "\n",
    "# Model Problem\n",
    "cpObjFun = cp.Minimize(0.5 * cp.sum_squares(vXX - vYY) + λ * cp.norm(vXX, 1)) #<! Objective Function\n",
    "lConst   = [] #<! Constraints\n",
    "oCvxPrb  = cp.Problem(cpObjFun, lConst) #<! Problem\n",
    "\n",
    "oCvxPrb.solve(solver = cp.SCS)\n",
    "\n",
    "assert (oCvxPrb.status == 'optimal'), 'The problem is not solved.'\n",
    "print('Problem is solved.')\n",
    "\n",
    "assertCond = np.linalg.norm(vXX.value - hProxFun(vYY, λ), np.inf) <= (ε * max(np.linalg.norm(vXX.value), ε))\n",
    "assert assertCond, f'The prox calculation deviation exceeds the threshold {ε}'\n",
    "\n",
    "print('The prox implementation is verified')\n",
    "\n"
   ]
  },
  {
   "cell_type": "code",
   "execution_count": null,
   "metadata": {},
   "outputs": [],
   "source": [
    "# Display the Operator\n",
    "\n",
    "hF, hA = plt.subplots(figsize = (10, 6))\n",
    "hA.plot(vYY, vYY, lw = 2, label = 'Input')\n",
    "hA.plot(vYY, hProxFun(vYY, λ), lw = 2, label = 'Soft Threshold')\n",
    "hA.set_title(r'The Prox Operator of ${L}_{1}$' + f' Norm, λ = {λ: 0.2f}')\n",
    "hA.set_xlabel('Input Value')\n",
    "hA.set_ylabel('Output Value')\n",
    "\n",
    "hA.legend();"
   ]
  },
  {
   "cell_type": "markdown",
   "metadata": {},
   "source": [
    "## Proximal Gradient Method\n",
    "\n",
    "For the composition model of:\n",
    "\n",
    "$$ F \\left( \\boldsymbol{x} \\right) = f \\left( \\boldsymbol{x} \\right) + \\lambda g \\left( \\boldsymbol{x} \\right) $$\n",
    "\n",
    "Where $f \\left( \\boldsymbol{x} \\right)$ is smooth and convex and $g \\left( \\boldsymbol{x} \\right)$ is convex with a given prox operator.\n",
    "\n",
    "The method iteration is given by:\n",
    "\n",
    "$$ \\boldsymbol{x}^{k + 1} = \\operatorname{prox}_{ {\\mu}_{k} \\lambda g \\left( \\cdot \\right) } \\left( \\boldsymbol{x}^{k} - {\\nabla}_{f} \\left( \\boldsymbol{x}^{k} \\right) \\right) $$\n",
    "\n",
    "Where ${\\mu}_{k}$ is the step size."
   ]
  },
  {
   "cell_type": "markdown",
   "metadata": {},
   "source": [
    "* <font color='red'>(**?**)</font> For which $g$ the above becomes a _Projected Gradient_ descent?"
   ]
  },
  {
   "cell_type": "code",
   "execution_count": 12,
   "metadata": {},
   "outputs": [],
   "source": [
    "# Gradient Function\n",
    "\n",
    "#===========================Fill This===========================#\n",
    "# 1. Implement the gradient function (1/2) * || A x - y ||_2^2. \n",
    "#    Given a vector `vX` it returns the gradient at `vX`.\n",
    "# 2. The implementation should be using a Lambda Function.\n",
    "# !! You may pre calculate terms for efficient code.\n",
    "\n",
    "hGradFun = ???\n",
    "#===============================================================#\n"
   ]
  },
  {
   "cell_type": "code",
   "execution_count": 13,
   "metadata": {},
   "outputs": [],
   "source": [
    "# Proximal Gradient Method (PGM)\n",
    "\n",
    "oProxGrad = ProxGradientDescent(np.zeros(numFeatures), hGradFun, μ, λ, hProxFun = hProxFun)\n",
    "lX = oProxGrad.ApplyIterations(numIterations)\n"
   ]
  },
  {
   "cell_type": "markdown",
   "metadata": {},
   "source": [
    " * <font color='brown'>(**#**)</font> The size of $\\mu$ which guarantees convergence depends on the smoothness of $f$, The Lipschitz constant of its gradient.  \n",
    "   For cases where $f$ is the Linear Least Squares problem the constant is given by ${\\left\\| \\boldsymbol{A} \\right\\|}_{2}^{2}$, Namely the square of the largest singular value of $\\boldsymbol{A}$.\n",
    " * <font color='brown'>(**#**)</font> One could implement adaptive step size in a similar manner to Gradient Descent with a different decision rule.\n",
    " * <font color='blue'>(**!**)</font> Go through the implementation of `ProxGradientDescent`.\n",
    " * <font color='blue'>(**!**)</font> Edit the code to use $\\mu$ set by the Lipschitz constant of ."
   ]
  },
  {
   "cell_type": "markdown",
   "metadata": {},
   "source": [
    "### The DCP Solution\n",
    "\n",
    "This section solves the problem using a DCP solver."
   ]
  },
  {
   "cell_type": "code",
   "execution_count": null,
   "metadata": {},
   "outputs": [],
   "source": [
    "# DCP Solution\n",
    "\n",
    "#===========================Fill This===========================#\n",
    "# 1. Formulate the problem in CVXPY.  \n",
    "#    Use `vXRef` for the optimal argument.\n",
    "# !! You may find `cp.max()` useful.\n",
    "\n",
    "# Model Data\n",
    "vXRef = ???\n",
    "\n",
    "# Model Problem\n",
    "cpObjFun = ??? #<! Objective Function\n",
    "cpConst  = ??? #<! Constraints\n",
    "oCvxPrb  = ??? #<! Problem\n",
    "\n",
    "oCvxPrb.solve(solver = cp.SCS)\n",
    "#===============================================================#\n",
    "\n",
    "vXRef = vXRef.value\n",
    "\n",
    "assert (oCvxPrb.status == 'optimal'), 'The problem is not solved.'\n",
    "print('Problem is solved.')\n",
    "\n",
    "assertCond = abs(hObjFun(vXRef, λ) - hObjFun(lX[-1], λ)) <= (ε * max(abs(hObjFun(vXRef, λ)), ε))\n",
    "assert assertCond, f'The optimization calculation deviation {abs(hObjFun(vXRef, λ) - hObjFun(lX[-1], λ))} exceeds the threshold {ε}'\n",
    "\n",
    "print('The implementation is verified')"
   ]
  },
  {
   "cell_type": "markdown",
   "metadata": {},
   "source": [
    " * <font color='brown'>(**#**)</font> The _Proximal Gradient Method_ is equivalent to the _Gradient Descent_ in its convergence rate.\n",
    " * <font color='brown'>(**#**)</font> In practice, the convergence rate will depend on the value of $\\lambda$."
   ]
  },
  {
   "cell_type": "code",
   "execution_count": 18,
   "metadata": {},
   "outputs": [],
   "source": [
    "# Solution Analysis\n",
    "\n",
    "objValRef   = hObjFun(vXRef, λ)\n",
    "vObjVal     = np.empty(numIterations)\n",
    "vArgErr     = np.empty(numIterations)\n",
    "\n",
    "for ii in range(numIterations):\n",
    "    vObjVal[ii] = hObjFun(lX[ii], λ)\n",
    "    vArgErr[ii] = np.linalg.norm(lX[ii] - vXRef)\n",
    "\n",
    "vObjVal = 20 * np.log10(np.maximum(np.abs(vObjVal - objValRef), np.sqrt(np.spacing(1.0))) / max(np.abs(objValRef), np.sqrt(np.spacing(1.0))))\n",
    "vArgErr = 20 * np.log10(np.maximum(np.abs(vArgErr), np.sqrt(np.spacing(1.0))) / max(np.linalg.norm(vXRef), np.sqrt(np.spacing(1.0))))"
   ]
  },
  {
   "cell_type": "code",
   "execution_count": null,
   "metadata": {},
   "outputs": [],
   "source": [
    "# Display Results\n",
    "\n",
    "hF, hA = plt.subplots(figsize = (12, 6))\n",
    "hA.plot(range(numIterations), vObjVal, lw = 2, label = 'Objective Function')\n",
    "hA.plot(range(numIterations), vArgErr, lw = 2, label = 'Argument Error')\n",
    "hA.set_xlabel('Iteration Index')\n",
    "hA.set_ylabel('Relative Error [dB]')\n",
    "hA.set_title('Proximal Gradient Method Convergence')\n",
    "\n",
    "hA.legend();"
   ]
  },
  {
   "cell_type": "markdown",
   "metadata": {},
   "source": [
    "* <font color='red'>(**?**)</font> Is the convergence of `Argument Error` to the same value as the DCP guaranteed?  \n",
    "  Think about the on the convexity type of the problem.\n",
    "* <font color='red'>(**?**)</font> Change the value of $\\lambda$. What's the effect on convergence?"
   ]
  },
  {
   "cell_type": "markdown",
   "metadata": {},
   "source": [
    "## Feature Selection by LASSO\n",
    "\n",
    "This section analyzes the LASSO Path: The solution as a function of $\\lambda$.  \n",
    "It is used for feature selection as features which have a weight which does not vanish for high $\\lambda$ are considered to be more significant."
   ]
  },
  {
   "cell_type": "code",
   "execution_count": 20,
   "metadata": {},
   "outputs": [],
   "source": [
    "# Calculate the LASSO Path\n",
    "\n",
    "for ii, valλ in enumerate(vλ):\n",
    "    oProxGrad = ProxGradientDescent(np.zeros(numFeatures), hGradFun, μ, numSamples * valλ, hProxFun = hProxFun, useAccel = True)\n",
    "    oProxGrad.ApplyIterations(numIterations // 10, logArg = False)\n",
    "    mXλ[:, ii] = np.fabs(oProxGrad.vX) #<! Significance is in absolute value\n"
   ]
  },
  {
   "cell_type": "code",
   "execution_count": null,
   "metadata": {},
   "outputs": [],
   "source": [
    "# Display the Lasso Path\n",
    "\n",
    "hF, hA = plt.subplots(figsize = (10, 8))\n",
    "for ii in range(numFeatures):\n",
    "    hA.plot(vλ, mXλ[ii, :], lw = 2, label = lFeatureName[ii])\n",
    "\n",
    "hA.set_title('Feature Significance to Estimate MPG')\n",
    "hA.set_xlabel('λ')\n",
    "hA.set_ylabel('Significance (Feature Absolute Weight)')\n",
    "\n",
    "hA.legend();"
   ]
  },
  {
   "cell_type": "markdown",
   "metadata": {},
   "source": [
    "* <font color='brown'>(**#**)</font> There are specialized algorithms for the LASSO Path (See [Least Angle Regression (LARS)](https://en.wikipedia.org/wiki/Least-angle_regression)).\n",
    "* <font color='brown'>(**#**)</font> Using the solver above, even having a stopping rule and warm restart would have made things much faster.\n",
    "* <font color='red'>(**?**)</font> Explain the solution at $\\lambda \\to \\infty$ and $\\lambda \\to 0$.\n",
    "* <font color='red'>(**?**)</font> Explain the intuition about the feature significance.\n",
    "* <font color='red'>(**?**)</font> Why is the significance not monotonic?"
   ]
  }
 ],
 "metadata": {
  "kernelspec": {
   "display_name": "Python 3",
   "language": "python",
   "name": "python3"
  },
  "language_info": {
   "codemirror_mode": {
    "name": "ipython",
    "version": 3
   },
   "file_extension": ".py",
   "mimetype": "text/x-python",
   "name": "python",
   "nbconvert_exporter": "python",
   "pygments_lexer": "ipython3",
   "version": "3.12.6"
  },
  "toc": {
   "base_numbering": 1,
   "nav_menu": {},
   "number_sections": false,
   "sideBar": true,
   "skip_h1_title": false,
   "title_cell": "Table of Contents",
   "title_sidebar": "Contents",
   "toc_cell": false,
   "toc_position": {},
   "toc_section_display": true,
   "toc_window_display": true
  },
  "varInspector": {
   "cols": {
    "lenName": 16,
    "lenType": 16,
    "lenVar": 40
   },
   "kernels_config": {
    "python": {
     "delete_cmd_postfix": "",
     "delete_cmd_prefix": "del ",
     "library": "var_list.py",
     "varRefreshCmd": "print(var_dic_list())"
    },
    "r": {
     "delete_cmd_postfix": ") ",
     "delete_cmd_prefix": "rm(",
     "library": "var_list.r",
     "varRefreshCmd": "cat(var_dic_list()) "
    }
   },
   "types_to_exclude": [
    "module",
    "function",
    "builtin_function_or_method",
    "instance",
    "_Feature"
   ],
   "window_display": false
  },
  "vscode": {
   "interpreter": {
    "hash": "39577bab1f263e62e0b74f5b8086bd735049bf4751f6562b2d4b2969dc308293"
   }
  }
 },
 "nbformat": 4,
 "nbformat_minor": 4
}
