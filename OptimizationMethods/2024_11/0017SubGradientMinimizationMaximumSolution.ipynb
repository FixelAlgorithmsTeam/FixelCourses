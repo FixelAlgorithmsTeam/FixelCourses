{
 "cells": [
  {
   "attachments": {},
   "cell_type": "markdown",
   "metadata": {},
   "source": [
    "[![Fixel Algorithms](https://fixelalgorithms.co/images/CCExt.png)](https://fixelalgorithms.gitlab.io/)\n",
    "\n",
    "# Optimization Methods\n",
    "\n",
    "## Convex Optimization - Non Smooth Optimization - Sub Gradient Method\n",
    "\n",
    "> Notebook by:\n",
    "> - Royi Avital RoyiAvital@fixelalgorithms.com\n",
    "\n",
    "## Revision History\n",
    "\n",
    "| Version | Date       | User        |Content / Changes                                                   |\n",
    "|---------|------------|-------------|--------------------------------------------------------------------|\n",
    "| 1.0.000 | 29/09/2024 | Royi Avital | First version                                                      |"
   ]
  },
  {
   "attachments": {},
   "cell_type": "markdown",
   "metadata": {},
   "source": [
    "[![Open In Colab](https://colab.research.google.com/assets/colab-badge.svg)](https://colab.research.google.com/github/FixelAlgorithmsTeam/FixelCourses/blob/master/AIProgram/2024_02/0012LinearFitL1.ipynb)"
   ]
  },
  {
   "cell_type": "code",
   "execution_count": null,
   "metadata": {
    "ExecuteTime": {
     "end_time": "2022-02-02T09:30:06.492269Z",
     "start_time": "2022-02-02T09:30:06.220934Z"
    }
   },
   "outputs": [],
   "source": [
    "# Import Packages\n",
    "\n",
    "# General Tools\n",
    "import numpy as np\n",
    "import scipy as sp\n",
    "import pandas as pd\n",
    "\n",
    "# Machine Learning\n",
    "\n",
    "# Optimization\n",
    "import cvxpy as cp\n",
    "\n",
    "# Miscellaneous\n",
    "import os\n",
    "import math\n",
    "from platform import python_version\n",
    "import random\n",
    "\n",
    "# Typing\n",
    "from typing import Callable, List, Tuple, Union\n",
    "\n",
    "# Visualization\n",
    "from matplotlib.colors import LogNorm, Normalize, PowerNorm\n",
    "import matplotlib.pyplot as plt\n",
    "import seaborn as sns\n",
    "\n",
    "# Jupyter\n",
    "from IPython import get_ipython\n",
    "from IPython.display import Image, display\n",
    "from ipywidgets import Dropdown, FloatSlider, interact, IntSlider, Layout"
   ]
  },
  {
   "attachments": {},
   "cell_type": "markdown",
   "metadata": {},
   "source": [
    "## Notations\n",
    "\n",
    "* <font color='red'>(**?**)</font> Question to answer interactively.\n",
    "* <font color='blue'>(**!**)</font> Simple task to add code for the notebook.\n",
    "* <font color='green'>(**@**)</font> Optional / Extra self practice.\n",
    "* <font color='brown'>(**#**)</font> Note / Useful resource / Food for thought.\n",
    "\n",
    "Code Notations:\n",
    "\n",
    "```python\n",
    "someVar    = 2; #<! Notation for a variable\n",
    "vVector    = np.random.rand(4) #<! Notation for 1D array\n",
    "mMatrix    = np.random.rand(4, 3) #<! Notation for 2D array\n",
    "tTensor    = np.random.rand(4, 3, 2, 3) #<! Notation for nD array (Tensor)\n",
    "tuTuple    = (1, 2, 3) #<! Notation for a tuple\n",
    "lList      = [1, 2, 3] #<! Notation for a list\n",
    "dDict      = {1: 3, 2: 2, 3: 1} #<! Notation for a dictionary\n",
    "oObj       = MyClass() #<! Notation for an object\n",
    "dfData     = pd.DataFrame() #<! Notation for a data frame\n",
    "dsData     = pd.Series() #<! Notation for a series\n",
    "hObj       = plt.Axes() #<! Notation for an object / handler / function handler\n",
    "```\n",
    "\n",
    "### Code Exercise\n",
    "\n",
    " - Single line fill\n",
    "\n",
    " ```python\n",
    " vallToFill = ???\n",
    " ```\n",
    "\n",
    " - Multi Line to Fill (At least one)\n",
    "\n",
    " ```python\n",
    " # You need to start writing\n",
    " ????\n",
    " ```\n",
    "\n",
    " - Section to Fill\n",
    "\n",
    "```python\n",
    "#===========================Fill This===========================#\n",
    "# 1. Explanation about what to do.\n",
    "# !! Remarks to follow / take under consideration.\n",
    "mX = ???\n",
    "\n",
    "???\n",
    "#===============================================================#\n",
    "```"
   ]
  },
  {
   "cell_type": "code",
   "execution_count": 2,
   "metadata": {},
   "outputs": [],
   "source": [
    "# Configuration\n",
    "%matplotlib inline\n",
    "\n",
    "# warnings.filterwarnings(\"ignore\")\n",
    "\n",
    "seedNum = 512\n",
    "np.random.seed(seedNum)\n",
    "random.seed(seedNum)\n",
    "\n",
    "# Matplotlib default color palette\n",
    "lMatPltLibclr = ['#1f77b4', '#ff7f0e', '#2ca02c', '#d62728', '#9467bd', '#8c564b', '#e377c2', '#7f7f7f', '#bcbd22', '#17becf']\n",
    "# sns.set_theme() #>! Apply SeaBorn theme\n",
    "# sns.set_palette(\"tab10\")\n",
    "\n",
    "runInGoogleColab = 'google.colab' in str(get_ipython())"
   ]
  },
  {
   "cell_type": "code",
   "execution_count": 3,
   "metadata": {},
   "outputs": [],
   "source": [
    "# Constants\n",
    "\n",
    "FIG_SIZE_DEF    = (8, 8)\n",
    "ELM_SIZE_DEF    = 50\n",
    "CLASS_COLOR     = ('b', 'r')\n",
    "EDGE_COLOR      = 'k'\n",
    "MARKER_SIZE_DEF = 10\n",
    "LINE_WIDTH_DEF  = 2\n"
   ]
  },
  {
   "cell_type": "code",
   "execution_count": 4,
   "metadata": {},
   "outputs": [],
   "source": [
    "# Course Packages\n"
   ]
  },
  {
   "cell_type": "code",
   "execution_count": 5,
   "metadata": {},
   "outputs": [],
   "source": [
    "# Auxiliary Functions\n"
   ]
  },
  {
   "cell_type": "code",
   "execution_count": 6,
   "metadata": {},
   "outputs": [],
   "source": [
    "# Parameters\n",
    "\n",
    "# Data\n",
    "numRows = 30 #<! Number of functions\n",
    "numCols = 5  #<! Data Dimensions\n",
    "\n",
    "# Solver\n",
    "numIterations = 1_000_000\n",
    "\n",
    "# Visualization\n",
    "lLim = [-2, 2]\n",
    "\n",
    "# # Verification\n",
    "ε = 1e-3 #<! Error threshold"
   ]
  },
  {
   "attachments": {},
   "cell_type": "markdown",
   "metadata": {},
   "source": [
    "## Minimization of the Maximum of a Set of Functions\n",
    "\n",
    "The problem is given by:\n",
    "\n",
    "$$ \\arg \\min_{x} \\max_{i} \\boldsymbol{a}_{i}^{T} \\boldsymbol{x} + b $$\n",
    "\n",
    "Where the set of functions is defined by the matrix $\\boldsymbol{A}$ where $\\boldsymbol{a}_{i}$ is the $i$ -th row.\n",
    "\n",
    "* <font color='brown'>(**#**)</font> The maximum function is non smooth.\n",
    "* <font color='brown'>(**#**)</font> The function is _piece wise_ linear.\n",
    "\n"
   ]
  },
  {
   "cell_type": "markdown",
   "metadata": {},
   "source": [
    "## Generate Data\n"
   ]
  },
  {
   "cell_type": "markdown",
   "metadata": {},
   "source": [
    "The data will be generated in a vectorized manner."
   ]
  },
  {
   "cell_type": "code",
   "execution_count": 7,
   "metadata": {},
   "outputs": [],
   "source": [
    "# Generate / Load the Data\n",
    "\n",
    "mA = np.random.randn(numRows, numCols)\n",
    "vB = np.random.randn(numRows)\n"
   ]
  },
  {
   "cell_type": "markdown",
   "metadata": {},
   "source": [
    "## Analysis\n",
    "\n",
    "This section defines the problem and solve it using the _Sub Gradient Method_."
   ]
  },
  {
   "cell_type": "markdown",
   "metadata": {},
   "source": [
    "### Objective Function\n",
    "\n",
    "The objective function in its vectorized form can be written as:\n",
    "\n",
    "$$ \\arg \\min_{\\boldsymbol{x}} \\max \\boldsymbol{A} \\boldsymbol{x} + \\boldsymbol{b} $$"
   ]
  },
  {
   "cell_type": "code",
   "execution_count": 8,
   "metadata": {},
   "outputs": [],
   "source": [
    "# Objective Function\n",
    "\n",
    "#===========================Fill This===========================#\n",
    "# 1. Implement the objective function. \n",
    "#    Given a vector of `vX` it returns the objective.\n",
    "# 2. The implementation should be using a Lambda Function.\n",
    "# !! Pay attention to the difference between `np.max()` and `np.maximum()`.\n",
    "\n",
    "hObjFun = lambda vX: np.max(mA @ vX + vB)\n",
    "#===============================================================#"
   ]
  },
  {
   "cell_type": "markdown",
   "metadata": {},
   "source": [
    "### Sub Gradient Function\n",
    "\n",
    "The [_Sub Gradient_](https://en.wikipedia.org/wiki/Subderivative) is a generalization of the _Gradient_.  \n",
    "For a _Convex Function_ it fulfills the properties of the _Gradient_ in the context of stationary points.\n"
   ]
  },
  {
   "cell_type": "markdown",
   "metadata": {},
   "source": [
    "#### Question 001\n",
    "\n",
    "Derive the sub gradient of the objective function:\n",
    "\n",
    "$$ f \\left( \\boldsymbol{x} \\right) = \\max \\boldsymbol{A} \\boldsymbol{x} + \\boldsymbol{b} $$"
   ]
  },
  {
   "cell_type": "markdown",
   "metadata": {},
   "source": [
    "### Solution 001\n",
    "\n",
    "For intuition, assume $f \\left( x \\right) = \\max \\left\\{ {f}_{1} \\left( x \\right), {f}_{2} \\left( x \\right) \\right\\}$, then:\n",
    "\n",
    " - Where ${f}_{1} \\left( x \\right) > {f}_{2} \\left( x \\right)$ then $\\partial f = \\frac{d}{dx} {f}_{1}$.\n",
    " - Where ${f}_{2} \\left( x \\right) > {f}_{1} \\left( x \\right)$ then $\\partial f = \\frac{d}{dx} {f}_{2}$.\n",
    " - Where ${f}_{1} \\left( x \\right) = {f}_{2} \\left( x \\right)$ then $\\partial f \\in \\left[ \\frac{d}{dx} {f}_{1}, \\frac{d}{dx} {f}_{2}\\right]$.\n",
    "\n",
    "Specifically, it can be _convex hull_ / _convex combination_ of the gradients of the functions which achieve the maximum. Hence:\n",
    "\n",
    "$$ \\partial \\max \\boldsymbol{A} \\boldsymbol{x} + \\boldsymbol{b} = \\sum_{i \\in \\mathcal{I}} {\\lambda}_{i} \\boldsymbol{A} \\left[ i, : \\right] $$\n",
    "\n",
    "Where:\n",
    "\n",
    " - ${\\lambda}_{i} \\geq 0, \\; \\sum_{i} {\\lambda}_{i} = 1$ - Convex Combination.\n",
    " - $\\mathcal{I} = \\left\\{ i \\mid \\boldsymbol{A} \\left[ i, : \\right] \\boldsymbol{x} + \\boldsymbol{b} \\left[ i \\right] = f \\left( \\boldsymbol{x} \\right) \\right\\}$ - Set of functions which achieves the maximum.\n",
    "\n",
    "\n",
    " * <font color='brown'>(**#**)</font> A simple example for such sets is the mean or a single choice.\n",
    "\n",
    "---"
   ]
  },
  {
   "cell_type": "code",
   "execution_count": 9,
   "metadata": {},
   "outputs": [],
   "source": [
    "# Sub Gradient Function\n",
    "\n",
    "#===========================Fill This===========================#\n",
    "# 1. Implement the sub gradient function. \n",
    "#    Given a vector of `vX` it returns the gradient at `vX`.\n",
    "# 2. The implementation should be using a Lambda Function.\n",
    "# !! Pay attention to the output dimensions.\n",
    "\n",
    "hSubGradFun = lambda vX: np.mean(mA[(mA @ vX + vB) == np.max(mA @ vX + vB), :], axis = 0)\n",
    "#===============================================================#"
   ]
  },
  {
   "cell_type": "markdown",
   "metadata": {},
   "source": [
    "### Sub Gradient Method\n",
    "\n",
    "This section implement the _Sub Gradient Method_: $\\boldsymbol{x}_{k + 1} = \\boldsymbol{x}_{k} - {\\mu}_{k} \\partial f \\left( \\boldsymbol{x}^{k} \\right)$.\n",
    "\n",
    " * <font color='brown'>(**#**)</font> The _Sub Gradient Method_ is not a _descent_ method.\n",
    " * <font color='brown'>(**#**)</font> The convergence of the method is proven for the cases:\n",
    "   - $\\sum_{k = 1}^{\\infty} {\\mu}_{k}^{2} < \\infty, \\sum_{k = 1}^{\\infty} {\\mu}_{k} = \\infty$: Such as ${\\mu}_{k} = \\frac{1}{k}$.\n",
    "   - $\\lim_{k \\to \\infty} {\\mu}_{k} = 0, \\sum_{k = 1}^{\\infty} {\\mu}_{k} = \\infty$: Such as ${\\mu}_{k} = \\frac{1}{\\sqrt{k}}$."
   ]
  },
  {
   "cell_type": "code",
   "execution_count": 10,
   "metadata": {},
   "outputs": [],
   "source": [
    "# Sub Gradient Method\n",
    "\n",
    "vX = np.zeros(numCols)\n",
    "vG = np.empty(numCols)\n",
    "\n",
    "lX = [np.copy(vX)]\n",
    "\n",
    "#===========================Fill This===========================#\n",
    "# 1. Implement the sub gradient method. \n",
    "# !! You may choose the step size policy.\n",
    "\n",
    "for ii in range(1, numIterations):\n",
    "    vG  = hSubGradFun(vX) #<! The sub gradient\n",
    "    μ   = 1 / math.sqrt(ii) #<! The step size\n",
    "    vX -= μ * vG #<! Optimization step\n",
    "\n",
    "    lX.append(np.copy(vX))\n",
    "#===============================================================#\n"
   ]
  },
  {
   "cell_type": "markdown",
   "metadata": {},
   "source": [
    "* <font color='red'>(**?**)</font> What's the motivation for using `np.copy()`?"
   ]
  },
  {
   "cell_type": "markdown",
   "metadata": {},
   "source": [
    "### The DCP Solution\n",
    "\n",
    "This section solves the problem using a DCP solver."
   ]
  },
  {
   "cell_type": "code",
   "execution_count": null,
   "metadata": {},
   "outputs": [],
   "source": [
    "# DCP Solution\n",
    "\n",
    "#===========================Fill This===========================#\n",
    "# 1. Formulate the problem in CVXPY.  \n",
    "#    Use `vXRef` for the optimal argument.\n",
    "# !! You may find `cp.max()` useful.\n",
    "\n",
    "# Model Data\n",
    "vXRef = cp.Variable(numCols)\n",
    "\n",
    "# Model Problem\n",
    "cpObjFun = cp.Minimize(cp.max(mA @ vXRef + vB)) #<! Objective Function\n",
    "cpConst  = [] #<! Constraints\n",
    "oCvxPrb  = cp.Problem(cpObjFun, cpConst) #<! Problem\n",
    "\n",
    "oCvxPrb.solve(solver = cp.CLARABEL)\n",
    "#===============================================================#\n",
    "\n",
    "vXRef = vXRef.value\n",
    "\n",
    "assert (oCvxPrb.status == 'optimal'), 'The problem is not solved.'\n",
    "print('Problem is solved.')\n",
    "\n",
    "assertCond = abs(hObjFun(vXRef) - hObjFun(lX[-1])) <= (ε * max(abs(hObjFun(vXRef)), ε))\n",
    "assert assertCond, f'The optimization calculation deviation exceeds the threshold {ε}'\n",
    "\n",
    "print('The implementation is verified')"
   ]
  },
  {
   "cell_type": "markdown",
   "metadata": {},
   "source": [
    " * <font color='brown'>(**#**)</font> The _Sub Gradient Method_ is a slow method. Hence the $\\epsilon$ value is very low and the number of iterations is rather high."
   ]
  },
  {
   "cell_type": "code",
   "execution_count": 12,
   "metadata": {},
   "outputs": [],
   "source": [
    "# Solution Analysis\n",
    "\n",
    "objValRef   = hObjFun(vXRef)\n",
    "vObjVal     = np.empty(numIterations)\n",
    "vArgErr     = np.empty(numIterations)\n",
    "\n",
    "for ii in range(numIterations):\n",
    "    vObjVal[ii] = hObjFun(lX[ii])\n",
    "    vArgErr[ii] = np.linalg.norm(lX[ii] - vXRef)\n",
    "\n",
    "vObjVal = 20 * np.log10(np.abs(vObjVal - objValRef) / max(np.abs(objValRef), np.sqrt(np.spacing(1.0))))\n",
    "vArgErr = 20 * np.log10(np.abs(vArgErr) / max(np.linalg.norm(vXRef), np.sqrt(np.spacing(1.0))))"
   ]
  },
  {
   "cell_type": "code",
   "execution_count": null,
   "metadata": {},
   "outputs": [],
   "source": [
    "# Display Results\n",
    "\n",
    "hF, hA = plt.subplots(figsize = (12, 6))\n",
    "hA.plot(range(numIterations), vObjVal, lw = 2, label = 'Objective Function')\n",
    "hA.plot(range(numIterations), vArgErr, lw = 2, label = 'Argument Error')\n",
    "hA.set_xlabel('Iteration Index')\n",
    "hA.set_ylabel('Relative Error [dB]')\n",
    "hA.set_title('Sub Gradient Method Convergence')\n",
    "\n",
    "hA.legend();"
   ]
  },
  {
   "cell_type": "markdown",
   "metadata": {},
   "source": [
    "* <font color='red'>(**?**)</font> Explain the \"noisy\" graphs."
   ]
  }
 ],
 "metadata": {
  "kernelspec": {
   "display_name": "Python 3",
   "language": "python",
   "name": "python3"
  },
  "language_info": {
   "codemirror_mode": {
    "name": "ipython",
    "version": 3
   },
   "file_extension": ".py",
   "mimetype": "text/x-python",
   "name": "python",
   "nbconvert_exporter": "python",
   "pygments_lexer": "ipython3",
   "version": "3.12.6"
  },
  "toc": {
   "base_numbering": 1,
   "nav_menu": {},
   "number_sections": false,
   "sideBar": true,
   "skip_h1_title": false,
   "title_cell": "Table of Contents",
   "title_sidebar": "Contents",
   "toc_cell": false,
   "toc_position": {},
   "toc_section_display": true,
   "toc_window_display": true
  },
  "varInspector": {
   "cols": {
    "lenName": 16,
    "lenType": 16,
    "lenVar": 40
   },
   "kernels_config": {
    "python": {
     "delete_cmd_postfix": "",
     "delete_cmd_prefix": "del ",
     "library": "var_list.py",
     "varRefreshCmd": "print(var_dic_list())"
    },
    "r": {
     "delete_cmd_postfix": ") ",
     "delete_cmd_prefix": "rm(",
     "library": "var_list.r",
     "varRefreshCmd": "cat(var_dic_list()) "
    }
   },
   "types_to_exclude": [
    "module",
    "function",
    "builtin_function_or_method",
    "instance",
    "_Feature"
   ],
   "window_display": false
  },
  "vscode": {
   "interpreter": {
    "hash": "39577bab1f263e62e0b74f5b8086bd735049bf4751f6562b2d4b2969dc308293"
   }
  }
 },
 "nbformat": 4,
 "nbformat_minor": 4
}
