{
 "cells": [
  {
   "attachments": {},
   "cell_type": "markdown",
   "metadata": {},
   "source": [
    "[![Fixel Algorithms](https://fixelalgorithms.co/images/CCExt.png)](https://fixelalgorithms.gitlab.io)\n",
    "\n",
    "# Optimization Methods\n",
    "\n",
    "## Smooth Optimization - Objective Function - Quadratic Form\n",
    "\n",
    "> Notebook by:\n",
    "> - Royi Avital RoyiAvital@fixelalgorithms.com\n",
    "\n",
    "## Revision History\n",
    "\n",
    "| Version | Date       | User        |Content / Changes                                                   |\n",
    "|---------|------------|-------------|--------------------------------------------------------------------|\n",
    "| 1.0.000 | 19/09/2024 | Royi Avital | First version                                                      |"
   ]
  },
  {
   "attachments": {},
   "cell_type": "markdown",
   "metadata": {},
   "source": [
    "[![Open In Colab](https://colab.research.google.com/assets/colab-badge.svg)](https://colab.research.google.com/github/FixelAlgorithmsTeam/FixelCourses/blob/master/AIProgram/2024_02/0008ObjectiveFunction.ipynb)"
   ]
  },
  {
   "cell_type": "code",
   "execution_count": 1,
   "metadata": {
    "ExecuteTime": {
     "end_time": "2022-02-02T09:30:06.492269Z",
     "start_time": "2022-02-02T09:30:06.220934Z"
    }
   },
   "outputs": [],
   "source": [
    "# Import Packages\n",
    "\n",
    "# General Tools\n",
    "import numpy as np\n",
    "import scipy as sp\n",
    "import pandas as pd\n",
    "\n",
    "# Machine Learning\n",
    "\n",
    "# Miscellaneous\n",
    "import os\n",
    "import math\n",
    "from platform import python_version\n",
    "import random\n",
    "\n",
    "# Typing\n",
    "from typing import Any, Callable, List, Optional, Tuple, Union\n",
    "\n",
    "# Visualization\n",
    "import matplotlib.pyplot as plt\n",
    "import seaborn as sns\n",
    "\n",
    "# Jupyter\n",
    "from IPython import get_ipython"
   ]
  },
  {
   "attachments": {},
   "cell_type": "markdown",
   "metadata": {},
   "source": [
    "## Notations\n",
    "\n",
    "* <font color='red'>(**?**)</font> Question to answer interactively.\n",
    "* <font color='blue'>(**!**)</font> Simple task to add code for the notebook.\n",
    "* <font color='green'>(**@**)</font> Optional / Extra self practice.\n",
    "* <font color='brown'>(**#**)</font> Note / Useful resource / Food for thought.\n",
    "\n",
    "Code Notations:\n",
    "\n",
    "```python\n",
    "someVar    = 2; #<! Notation for a variable\n",
    "vVector    = np.random.rand(4) #<! Notation for 1D array\n",
    "mMatrix    = np.random.rand(4, 3) #<! Notation for 2D array\n",
    "tTensor    = np.random.rand(4, 3, 2, 3) #<! Notation for nD array (Tensor)\n",
    "tuTuple    = (1, 2, 3) #<! Notation for a tuple\n",
    "lList      = [1, 2, 3] #<! Notation for a list\n",
    "dDict      = {1: 3, 2: 2, 3: 1} #<! Notation for a dictionary\n",
    "oObj       = MyClass() #<! Notation for an object\n",
    "dfData     = pd.DataFrame() #<! Notation for a data frame\n",
    "dsData     = pd.Series() #<! Notation for a series\n",
    "hObj       = plt.Axes() #<! Notation for an object / handler / function handler\n",
    "```\n",
    "\n",
    "### Code Exercise\n",
    "\n",
    " - Single line fill\n",
    "\n",
    "```python\n",
    "valToFill = ???\n",
    "```\n",
    "\n",
    " - Multi Line to Fill (At least one)\n",
    "\n",
    "```python\n",
    "# You need to start writing\n",
    "?????\n",
    "```\n",
    "\n",
    " - Section to Fill\n",
    "\n",
    "```python\n",
    "#===========================Fill This===========================#\n",
    "# 1. Explanation about what to do.\n",
    "# !! Remarks to follow / take under consideration.\n",
    "mX = ???\n",
    "\n",
    "?????\n",
    "#===============================================================#\n",
    "```"
   ]
  },
  {
   "cell_type": "code",
   "execution_count": 2,
   "metadata": {},
   "outputs": [],
   "source": [
    "# Configuration\n",
    "#%matplotlib inline\n",
    "\n",
    "# warnings.filterwarnings(\"ignore\")\n",
    "\n",
    "seedNum = 512\n",
    "np.random.seed(seedNum)\n",
    "random.seed(seedNum)\n",
    "\n",
    "# Matplotlib default color palette\n",
    "lMatPltLibclr = ['#1f77b4', '#ff7f0e', '#2ca02c', '#d62728', '#9467bd', '#8c564b', '#e377c2', '#7f7f7f', '#bcbd22', '#17becf']\n",
    "# sns.set_theme() #>! Apply SeaBorn theme\n",
    "# sns.set_palette(\"tab10\")\n",
    "\n",
    "runInGoogleColab = 'google.colab' in str(get_ipython())"
   ]
  },
  {
   "cell_type": "code",
   "execution_count": 3,
   "metadata": {},
   "outputs": [],
   "source": [
    "# Constants\n",
    "\n",
    "FIG_SIZE_DEF    = (8, 8)\n",
    "ELM_SIZE_DEF    = 50\n",
    "CLASS_COLOR     = ('b', 'r')\n",
    "EDGE_COLOR      = 'k'\n",
    "MARKER_SIZE_DEF = 10\n",
    "LINE_WIDTH_DEF  = 2\n"
   ]
  },
  {
   "cell_type": "code",
   "execution_count": 4,
   "metadata": {},
   "outputs": [],
   "source": [
    "# Course Packages\n",
    "\n",
    "from DataVisualization import Plot2DFun\n"
   ]
  },
  {
   "cell_type": "code",
   "execution_count": null,
   "metadata": {},
   "outputs": [],
   "source": [
    "# Auxiliary Functions\n",
    "\n",
    "def QuadraticFun( vX: np.ndarray, mP: np.ndarray, vQ: np.ndarray, r: float ) -> float:\n",
    "    # Calculates the quadratic form:\n",
    "    # x' P x + x' q + r\n",
    "    \n",
    "    return vX.T @ mP @ vX + vX.T @ vQ + r\n",
    "\n"
   ]
  },
  {
   "cell_type": "code",
   "execution_count": 6,
   "metadata": {},
   "outputs": [],
   "source": [
    "# Parameters\n",
    "\n",
    "numGridPts = 500"
   ]
  },
  {
   "attachments": {},
   "cell_type": "markdown",
   "metadata": {},
   "source": [
    "## Quadratic Form\n",
    "\n",
    "In general, a _Quadratic Form_ is given by:\n",
    "\n",
    "$$ \\frac{1}{2} \\boldsymbol{x}^{T} \\boldsymbol{P} \\boldsymbol{x} + \\boldsymbol{x}^{T} \\boldsymbol{q} + r $$\n",
    "\n",
    "Where $\\boldsymbol{P} \\in \\mathcal{R}^{n \\times n}$.  \n",
    "The above is called a _Quadratic Form_ of degree $n$.\n",
    "\n",
    "\n",
    "* <font color='brown'>(**#**)</font> In our course, one can assume $\\boldsymbol{P} \\in \\mathcal{S}^{n}_{+}$.  \n",
    "* <font color='red'>(**?**)</font> Assume $\\boldsymbol{P}$ is asymmetric matrix.  \n",
    "Show that for the case $\\boldsymbol{q} = \\boldsymbol{0}, \\; r = 0$ the function will always yield 0.\n",
    "* <font color='red'>(**?**)</font> Assume $\\boldsymbol{P}$ is not a symmetric matrix.  \n",
    "Show that $\\boldsymbol{P}_{s} = \\frac{1}{2} \\left( \\boldsymbol{P}^{T} + \\boldsymbol{P} \\right)$ will yield the same values for the quadratic form for any $\\boldsymbol{x}$.\n"
   ]
  },
  {
   "cell_type": "markdown",
   "metadata": {},
   "source": [
    "### Plotting the Quadratic Form\n",
    "\n",
    "When the domain is 2D the quadratic form can be plotted.\n"
   ]
  },
  {
   "cell_type": "code",
   "execution_count": null,
   "metadata": {},
   "outputs": [],
   "source": [
    "# Plotting Quadratic Forms - Grid\n",
    "\n",
    "vG = np.linspace(-2, 2, numGridPts)\n",
    "\n",
    "vX = np.tile(vG, reps = (numGridPts,))\n",
    "vY = np.repeat(vG, repeats = (numGridPts, )) \n",
    "\n",
    "mX = np.r_[vX[None, :], vY[None, :]]\n",
    "\n",
    "print(f'The grid shape: {mX.shape}')"
   ]
  },
  {
   "cell_type": "code",
   "execution_count": 8,
   "metadata": {},
   "outputs": [],
   "source": [
    "# Plotting Quadratic Forms - Diagonal\n",
    "\n",
    "mP      = np.array([[2.0, 0.0], [0.0, 0.3]])\n",
    "vQ      = np.array([0.0, 0.0])\n",
    "valR    = 0.0\n",
    "\n",
    "# mZ = QuadraticFun(mX, mP, vQ, valR)\n",
    "vZ = np.apply_along_axis(QuadraticFun, 0, mX, mP, vQ, valR)\n",
    "mZ = np.reshape(vZ, (numGridPts, numGridPts))"
   ]
  },
  {
   "cell_type": "markdown",
   "metadata": {},
   "source": [
    "* <font color='red'>(**?**)</font> Should a vectorized calculation, `QuadraticFun(mX, mP, vQ, valR)` , be used? Why?"
   ]
  },
  {
   "cell_type": "code",
   "execution_count": null,
   "metadata": {},
   "outputs": [],
   "source": [
    "# Plot the Data\n",
    "\n",
    "hA = Plot2DFun(vG[None, :], vG, mZ)\n",
    "hA.set_title('Quadratic Function - Diagonal Model');"
   ]
  },
  {
   "cell_type": "code",
   "execution_count": 12,
   "metadata": {},
   "outputs": [],
   "source": [
    "# Plotting Quadratic Forms - Indefinite\n",
    "\n",
    "mP      = np.array([[2.0, 0.2], [0.2, -0.9]])\n",
    "vQ      = np.array([0.0, 0.0])\n",
    "valR    = 0.0\n",
    "\n",
    "# mZ = QuadraticFun(mX, mP, vQ, valR)\n",
    "vZ = np.apply_along_axis(QuadraticFun, 0, mX, mP, vQ, valR)\n",
    "mZ = np.reshape(vZ, (numGridPts, numGridPts))"
   ]
  },
  {
   "cell_type": "code",
   "execution_count": null,
   "metadata": {},
   "outputs": [],
   "source": [
    "# Plot the Data\n",
    "\n",
    "hA = Plot2DFun(vG[None, :], vG, mZ)\n",
    "hA.set_title('Quadratic Function - Indefinite Model');"
   ]
  },
  {
   "cell_type": "markdown",
   "metadata": {},
   "source": [
    "* <font color='red'>(**?**)</font> Is the function _Convex_?"
   ]
  },
  {
   "cell_type": "code",
   "execution_count": 18,
   "metadata": {},
   "outputs": [],
   "source": [
    "# Plotting Quadratic Forms - SPD\n",
    "\n",
    "mP      = np.random.randn(2, 2)\n",
    "mP      = (mP.T @ mP) + 0.15 * np.eye(2)\n",
    "vQ      = np.array([0.0, 0.0])\n",
    "valR    = 0.0\n",
    "\n",
    "# mZ = QuadraticFun(mX, mP, vQ, valR)\n",
    "vZ = np.apply_along_axis(QuadraticFun, 0, mX, mP, vQ, valR)\n",
    "mZ = np.reshape(vZ, (numGridPts, numGridPts))"
   ]
  },
  {
   "cell_type": "code",
   "execution_count": null,
   "metadata": {},
   "outputs": [],
   "source": [
    "# Plot the Data\n",
    "\n",
    "hA = Plot2DFun(vG[None, :], vG, mZ)\n",
    "hA.set_title('Quadratic Function - SPD Model');"
   ]
  },
  {
   "cell_type": "markdown",
   "metadata": {},
   "source": [
    "### The Matrix Vector Product Form\n",
    "\n",
    "The above function is a linear function of the parameters $\\boldsymbol{P}, \\boldsymbol{q}, r$.  \n",
    "Hence it can be written in the form $y = \\hat{\\boldsymbol{x}}^{T} \\boldsymbol{w}$.  \n",
    "Where:\n",
    "\n",
    "$$\n",
    "\\hat{\\boldsymbol{x}} = \\begin{bmatrix}\n",
    "1 & {x}_{1} & {x}_{2}, & \\ldots & {x}_{d} & {x}_{1} {x}_{1} & {x}_{1} {x}_{2} & \\ldots & {x}_{1} {x}_{d} & {x}_{2} {x}_{2} & {x}_{2} {x}_{3} & \\ldots & {x}_{2} {x}_{d} & \\ldots & {x}_{d} {x}_{d}\n",
    "\\end{bmatrix}\n",
    "$$\n",
    "\n",
    "* <font color='brown'>(**#**)</font> In practice, the order is arbitrary. As long it is consistent with the matching parameters in $\\boldsymbol{w}$ it is valid.\n",
    "* <font color='blue'>(**!**)</font> Write $\\boldsymbol{w}$ the case for $d = 2$ for the pattern above.\n"
   ]
  },
  {
   "cell_type": "markdown",
   "metadata": {},
   "source": [
    "### The Connection to the Least Squares\n",
    "\n",
    "The Least Squares problem can be formulates as a _Quadratic Form_:\n",
    "\n",
    "$$ \\frac{1}{2} {\\left\\| \\boldsymbol{A} \\boldsymbol{x} - \\boldsymbol{b} \\right\\|}_{2}^{2} = \\frac{1}{2} \\boldsymbol{x}^{T} \\boldsymbol{A}^{T} \\boldsymbol{A} \\boldsymbol{x} + \\boldsymbol{x}^{T} \\boldsymbol{A}^{T} \\boldsymbol{b} + \\boldsymbol{b}^{T} \\boldsymbol{b} $$\n",
    "\n",
    "* <font color='red'>(**?**)</font> What are $\\boldsymbol{P}, \\boldsymbol{q}, r$ in this case?\n",
    "* <font color='brown'>(**#**)</font> Is $\\boldsymbol{P}$ in the model above always an _Symmetric Positive Definite_ (SPD) matrix?"
   ]
  },
  {
   "cell_type": "markdown",
   "metadata": {},
   "source": [
    "### The Gradient of the Quadratic Form\n",
    "\n",
    "The _Gradient_ of the _Quadratic Form_ is given by:\n",
    "\n",
    "$$\n",
    "f \\left( \\boldsymbol{x} \\right) =  \\frac{1}{2} \\boldsymbol{x}^{T} \\boldsymbol{P} \\boldsymbol{x} + \\boldsymbol{x}^{T} \\boldsymbol{q} + r \\implies {\\nabla}_{f} \\left( \\boldsymbol{x} \\right) = \\boldsymbol{P} \\boldsymbol{x} + \\boldsymbol{q}\n",
    "$$\n",
    "\n",
    "* <font color='brown'>(**#**)</font> One of the main motivation for the _Quadratic Form_ / _Least Squares_ is the fact their gradient creates a linear equation."
   ]
  },
  {
   "cell_type": "markdown",
   "metadata": {},
   "source": [
    "### The Convexity of the Quadratic Form\n",
    "\n",
    "The _Hessian_ of the _Quadratic Form_ is given by:\n",
    "\n",
    "$$\n",
    "f \\left( \\boldsymbol{x} \\right) =  \\frac{1}{2} \\boldsymbol{x}^{T} \\boldsymbol{P} \\boldsymbol{x} + \\boldsymbol{x}^{T} \\boldsymbol{q} + r \\implies \\boldsymbol{H}_{f} = \\boldsymbol{P}\n",
    "$$\n",
    "\n",
    "Hence the convexity is set by the properties of the matrix $\\boldsymbol{P}$:\n",
    "\n",
    " - $\\boldsymbol{P} \\succeq 0$ - The function is convex.\n",
    " - $\\boldsymbol{P} \\succ 0$ - The function is _strictly_ convex (As well as _strongly_ convex).\n",
    " - $\\boldsymbol{P} \\preceq 0$ - The function is concave.\n",
    " - $\\boldsymbol{P} \\prec 0$ - The function is _strictly_ concave (As well as _strongly_ concave).\n",
    " - If $\\boldsymbol{P}$ is indefinite, the function is neither convex nor concave.\n",
    "\n",
    "* <font color='red'>(**?**)</font> Derive the Hessian using _Matrix Calculus_."
   ]
  }
 ],
 "metadata": {
  "kernelspec": {
   "display_name": "Python 3",
   "language": "python",
   "name": "python3"
  },
  "language_info": {
   "codemirror_mode": {
    "name": "ipython",
    "version": 3
   },
   "file_extension": ".py",
   "mimetype": "text/x-python",
   "name": "python",
   "nbconvert_exporter": "python",
   "pygments_lexer": "ipython3",
   "version": "3.12.5"
  },
  "toc": {
   "base_numbering": 1,
   "nav_menu": {},
   "number_sections": false,
   "sideBar": true,
   "skip_h1_title": false,
   "title_cell": "Table of Contents",
   "title_sidebar": "Contents",
   "toc_cell": false,
   "toc_position": {},
   "toc_section_display": true,
   "toc_window_display": true
  },
  "varInspector": {
   "cols": {
    "lenName": 16,
    "lenType": 16,
    "lenVar": 40
   },
   "kernels_config": {
    "python": {
     "delete_cmd_postfix": "",
     "delete_cmd_prefix": "del ",
     "library": "var_list.py",
     "varRefreshCmd": "print(var_dic_list())"
    },
    "r": {
     "delete_cmd_postfix": ") ",
     "delete_cmd_prefix": "rm(",
     "library": "var_list.r",
     "varRefreshCmd": "cat(var_dic_list()) "
    }
   },
   "types_to_exclude": [
    "module",
    "function",
    "builtin_function_or_method",
    "instance",
    "_Feature"
   ],
   "window_display": false
  },
  "vscode": {
   "interpreter": {
    "hash": "39577bab1f263e62e0b74f5b8086bd735049bf4751f6562b2d4b2969dc308293"
   }
  }
 },
 "nbformat": 4,
 "nbformat_minor": 4
}
