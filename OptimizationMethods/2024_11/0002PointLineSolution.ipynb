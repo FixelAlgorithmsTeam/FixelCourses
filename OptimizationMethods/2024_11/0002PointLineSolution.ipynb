{
 "cells": [
  {
   "attachments": {},
   "cell_type": "markdown",
   "metadata": {},
   "source": [
    "[![Fixel Algorithms](https://fixelalgorithms.co/images/CCExt.png)](https://fixelalgorithms.gitlab.io)\n",
    "\n",
    "# Optimization Methods\n",
    "\n",
    "## Essential Linear Algebra - Projection of a Point on a Line\n",
    "\n",
    "> Notebook by:\n",
    "> - Royi Avital RoyiAvital@fixelalgorithms.com\n",
    "\n",
    "## Revision History\n",
    "\n",
    "| Version | Date       | User        |Content / Changes                                                   |\n",
    "|---------|------------|-------------|--------------------------------------------------------------------|\n",
    "| 1.0.002 | 11/05/2025 | Royi Avital | Improved the structure                                             |\n",
    "| 1.0.001 | 10/01/2024 | Royi Avital | Fixed links and naming                                             |\n",
    "| 1.0.000 | 10/01/2024 | Royi Avital | First version                                                      |"
   ]
  },
  {
   "attachments": {},
   "cell_type": "markdown",
   "metadata": {},
   "source": [
    "[![Open In Colab](https://colab.research.google.com/assets/colab-badge.svg)](https://colab.research.google.com/github/FixelAlgorithmsTeam/FixelCourses/blob/master/AIProgram/2024_02/0002PointLine.ipynb)"
   ]
  },
  {
   "cell_type": "code",
   "execution_count": null,
   "metadata": {
    "ExecuteTime": {
     "end_time": "2022-02-02T17:52:07.921383Z",
     "start_time": "2022-02-02T17:52:07.649130Z"
    }
   },
   "outputs": [],
   "source": [
    "# Import Packages\n",
    "\n",
    "# General Tools\n",
    "import numpy as np\n",
    "import scipy as sp\n",
    "import pandas as pd\n",
    "\n",
    "# Miscellaneous\n",
    "import datetime\n",
    "import os\n",
    "from platform import python_version\n",
    "import random\n",
    "import warnings\n",
    "import yaml\n",
    "\n",
    "# Visualization\n",
    "import matplotlib as mpl\n",
    "import matplotlib.pyplot as plt\n",
    "import seaborn as sns\n",
    "\n",
    "# Jupyter\n",
    "from IPython import get_ipython"
   ]
  },
  {
   "cell_type": "markdown",
   "metadata": {},
   "source": [
    "## Notations\n",
    "\n",
    "* <font color='red'>(**?**)</font> Question to answer interactively.\n",
    "* <font color='blue'>(**!**)</font> Simple task to add code for the notebook.\n",
    "* <font color='green'>(**@**)</font> Optional / Extra self practice.\n",
    "* <font color='brown'>(**#**)</font> Note / Useful resource / Food for thought.\n",
    "\n",
    "Code Notations:\n",
    "\n",
    "```python\n",
    "someVar    = 2; #<! Notation for a variable\n",
    "vVector    = np.random.rand(4) #<! Notation for 1D array\n",
    "mMatrix    = np.random.rand(4, 3) #<! Notation for 2D array\n",
    "tTensor    = np.random.rand(4, 3, 2, 3) #<! Notation for nD array (Tensor)\n",
    "tuTuple    = (1, 2, 3) #<! Notation for a tuple\n",
    "lList      = [1, 2, 3] #<! Notation for a list\n",
    "dDict      = {1: 3, 2: 2, 3: 1} #<! Notation for a dictionary\n",
    "oObj       = MyClass() #<! Notation for an object\n",
    "dfData     = pd.DataFrame() #<! Notation for a data frame\n",
    "dsData     = pd.Series() #<! Notation for a series\n",
    "hObj       = plt.Axes() #<! Notation for an object / handler / function handler\n",
    "```\n",
    "\n",
    "### Code Exercise\n",
    "\n",
    " - Single line fill\n",
    "\n",
    "```python\n",
    "valToFill = ???\n",
    "```\n",
    "\n",
    " - Multi Line to Fill (At least one)\n",
    "\n",
    " ```python\n",
    " # You need to start writing\n",
    " ?????\n",
    " ```\n",
    "\n",
    " - Section to Fill\n",
    "\n",
    "```python\n",
    "#===========================Fill This===========================#\n",
    "# 1. Explanation about what to do.\n",
    "# !! Remarks to follow / take under consideration.\n",
    "mX = ???\n",
    "\n",
    "?????\n",
    "#===============================================================#\n",
    "```"
   ]
  },
  {
   "cell_type": "code",
   "execution_count": null,
   "metadata": {},
   "outputs": [],
   "source": [
    "# Configuration\n",
    "#%matplotlib inline\n",
    "\n",
    "warnings.filterwarnings(\"ignore\")\n",
    "\n",
    "seedNum = 512\n",
    "np.random.seed(seedNum)\n",
    "random.seed(seedNum)\n",
    "\n",
    "# Matplotlib default color palette\n",
    "lMatPltLibclr = ['#1f77b4', '#ff7f0e', '#2ca02c', '#d62728', '#9467bd', '#8c564b', '#e377c2', '#7f7f7f', '#bcbd22', '#17becf']\n",
    "sns.set_theme() #>! Apply SeaBorn theme\n",
    "# sns.set_palette(\"tab10\")\n",
    "\n",
    "runInGoogleColab = 'google.colab' in str(get_ipython())"
   ]
  },
  {
   "cell_type": "code",
   "execution_count": null,
   "metadata": {},
   "outputs": [],
   "source": [
    "# Constants\n",
    "\n",
    "FIG_SIZE_DEF    = (8, 8)\n",
    "ELM_SIZE_DEF    = 50\n",
    "CLASS_COLOR     = ('b', 'r')\n",
    "EDGE_COLOR      = 'k'\n",
    "MARKER_SIZE_DEF = 10\n",
    "LINE_WIDTH_DEF  = 2\n"
   ]
  },
  {
   "cell_type": "code",
   "execution_count": null,
   "metadata": {},
   "outputs": [],
   "source": [
    "# Course Packages\n"
   ]
  },
  {
   "cell_type": "code",
   "execution_count": null,
   "metadata": {},
   "outputs": [],
   "source": [
    "# Auxiliary Functions"
   ]
  },
  {
   "cell_type": "code",
   "execution_count": null,
   "metadata": {},
   "outputs": [],
   "source": [
    "# Parameters\n",
    "\n",
    "tuGrid = (-2, 2, 1000) #<! Left boundary, right boundary, num points\n"
   ]
  },
  {
   "cell_type": "markdown",
   "metadata": {},
   "source": [
    "## Generate Data\n"
   ]
  },
  {
   "attachments": {},
   "cell_type": "markdown",
   "metadata": {},
   "source": [
    "### Create 1D Grid"
   ]
  },
  {
   "cell_type": "code",
   "execution_count": null,
   "metadata": {
    "ExecuteTime": {
     "end_time": "2022-02-02T17:53:07.834772Z",
     "start_time": "2022-02-02T17:53:07.448832Z"
    }
   },
   "outputs": [],
   "source": [
    "# Generate 1D Grid\n",
    "\n",
    "vX = np.linspace(tuGrid[0], tuGrid[1], tuGrid[2]) #<! Linear steps grid\n",
    "\n",
    "print(f'The Grid Shape: {vX.shape}')\n"
   ]
  },
  {
   "cell_type": "markdown",
   "metadata": {},
   "source": [
    "### Create Lines\n",
    "\n",
    "Generate the `numLines` lines in 2 forms:\n",
    "\n",
    "1. $a x + b y + c = 0$.\n",
    "2. $y = m x + n$.\n",
    "\n",
    "* <font color='brown'>(**#**)</font> The forms are equivalent (Assuming $b \neq 0$). Namely the lines are the same, just in 2 different forms."
   ]
  },
  {
   "cell_type": "code",
   "execution_count": null,
   "metadata": {},
   "outputs": [],
   "source": [
    "# Generate the Lines\n",
    "# Lines parameters: a x + b y + c = 0\n",
    "\n",
    "mL = np.array([[1, 1, 0], [-0.8, 0.9, 0.1], [1.1, -0.95, -0.05]]) #<! Lines parameters: a, b, c\n",
    "numLines = mL.shape[0]\n",
    "\n",
    "#===========================Fill This===========================#\n",
    "# 1. Normalize the lines so that a^2 + b^2 = 1.\n",
    "# !! Make sure the line is the same.\n",
    "\n",
    "vN = np.linalg.norm(mL[:, :2], axis = 1) #<! Calculate the norm of (a, b)\n",
    "mL /= vN[:, None]                        #<! Scales all parameters\n",
    "\n",
    "#===============================================================#"
   ]
  },
  {
   "cell_type": "code",
   "execution_count": null,
   "metadata": {},
   "outputs": [],
   "source": [
    "# Convert the Lines into the y = m x + n Form\n",
    "\n",
    "#===========================Fill This===========================#\n",
    "# 1. Calculate m, n as columns of a new matrix.\n",
    "# !! This form is easier for plotting the data.\n",
    "\n",
    "mM = np.column_stack((-mL[:, 0] / mL[:, 1], -mL[:, 2] / mL[:, 1])) #<! Is it safe?\n",
    "\n",
    "#===============================================================#"
   ]
  },
  {
   "cell_type": "markdown",
   "metadata": {},
   "source": [
    "* <font color='red'>(**?**)</font> What's the hidden assumption in the form conversion?\n",
    "<!-- Finite slope -->"
   ]
  },
  {
   "cell_type": "code",
   "execution_count": null,
   "metadata": {},
   "outputs": [],
   "source": [
    "# Generate the Point\n",
    "\n",
    "vP = np.array([0.1, -1.5]) #<! (x_0, y_0)"
   ]
  },
  {
   "cell_type": "code",
   "execution_count": null,
   "metadata": {},
   "outputs": [],
   "source": [
    "# Draw the Data\n",
    "\n",
    "hF, hA = plt.subplots(figsize = (10, 7))\n",
    "\n",
    "for ii in range(numLines):\n",
    "    vY = np.array([mM[ii, 0] * valX + mM[ii, 1] for valX in vX])\n",
    "    hA.plot(vX, vY, lw = LINE_WIDTH_DEF, label = f'Line {ii + 1:02d}')\n",
    "\n",
    "hA.scatter(vP[0], vP[1], s = 3 * MARKER_SIZE_DEF, color = '#FFE119', label = 'Point')\n",
    "\n",
    "hA.set_xlabel('x')\n",
    "hA.set_ylabel('y')\n",
    "hA.set_title('Set of Lines and the Point')\n",
    "\n",
    "hA.legend();"
   ]
  },
  {
   "cell_type": "markdown",
   "metadata": {},
   "source": [
    "## Projection of a Point onto a Line\n",
    "\n",
    "This section finds the closest point on a line from an arbitrary point.\n",
    "\n",
    "* <font color='red'>(**?**)</font> The closest point is the projection of the point onto a line."
   ]
  },
  {
   "cell_type": "markdown",
   "metadata": {},
   "source": [
    "### Distance of a Point from a Line\n",
    "\n",
    "Given a point $\\boldsymbol{p} = \\left[ {x}_{0}, {y}_{0} \\right]^{T}$ then the distance of a line, given by the parameters $l = \\left( a, b, c \\right) : a x + b y + c = 0$ is given by:\n",
    "\n",
    "$$ d \\left( \\boldsymbol{p}, l \\right) = \\frac{ a {x}_{0} + b {y}_{0} + c }{ \\sqrt{ {a}^{2} + {b}^{2} } } $$"
   ]
  },
  {
   "cell_type": "markdown",
   "metadata": {},
   "source": [
    "### Projection of a Point onto a Line\n",
    "\n",
    "#### Question 1.1\n",
    "\n",
    "Derive the coordinates of the closest point on the line.\n",
    "\n",
    "Guidance:\n",
    " - Write the line in a parametric form $\\boldsymbol{s} + \\lambda \\boldsymbol{u}$.  \n",
    "   Where $\\boldsymbol{s}$ is a point on the line and $\\boldsymbol{u}$ is the direction of the line.\n",
    " - Write the point to project as $\\boldsymbol{p} - \\boldsymbol{s}$.  \n",
    "   Basically shifting the space origin to $\\boldsymbol{s}$.\n",
    " - The optimal point is given by $\\boldsymbol{s} + \\hat{\\lambda} \\boldsymbol{u}$.  \n",
    "   Where $\\hat{\\lambda}$ is the projection of $\\boldsymbol{p} - \\boldsymbol{s}$ onto $\\boldsymbol{u}$.\n",
    "\n",
    "</br>\n",
    "\n",
    "* <font color='brown'>(**#**)</font> You may find [Scalar Projection](https://en.wikipedia.org/wiki/Scalar_projection) and [Vector Projection](https://en.wikipedia.org/wiki/Vector_projection) useful.\n",
    "* <font color='brown'>(**#**)</font> Projections work relative to origin. Above, using $\\boldsymbol{s}$, is to shift origin to $\\boldsymbol{s}$."
   ]
  },
  {
   "cell_type": "markdown",
   "metadata": {},
   "source": [
    "#### Answer 1.1.\n",
    "\n",
    " - The line can be written as $ \\begin{bmatrix} x \\\\ -\\frac{a}{b} x - \\frac{c}{b} \\end{bmatrix} = \\begin{bmatrix} 0 \\\\ -\\frac{c}{b} \\end{bmatrix} - \\frac{1}{b} \\begin{bmatrix} -b \\\\ \\phantom{+}a \\end{bmatrix} x \\implies \\begin{bmatrix} 0 \\\\ -\\frac{c}{b} \\end{bmatrix} + \\lambda \\begin{bmatrix} -b \\\\ \\phantom{+}a \\end{bmatrix} = \\boldsymbol{s} + \\lambda \\boldsymbol{u} $.\n",
    " - Then $\\hat{\\lambda} = \\frac{ \\boldsymbol{u}^{T} \\left( \\boldsymbol{p} - \\boldsymbol{s} \\right) }{ {\\left\\| \\boldsymbol{u} \\right\\|}_{2} }$.\n",
    " - The projection point is given by $\\boldsymbol{s} + \\hat{\\lambda} \\frac{1}{ {\\left\\| \\boldsymbol{u} \\right\\|}_{2} } \\boldsymbol{u}$.\n",
    "\n",
    "</br>\n",
    "\n",
    "* <font color='brown'>(**#**)</font> If we set $\\hat{\\lambda} = \\frac{ \\boldsymbol{u}^{T} \\left( \\boldsymbol{p} - \\boldsymbol{s} \\right) }{ \\boldsymbol{u}^{T} \\boldsymbol{u} }$ then the projection becomes $\\boldsymbol{s} + \\hat{\\lambda} \\boldsymbol{u}$.\n",
    "* <font color='brown'>(**#**)</font> A different approach is to look for a line which crosses the point $\\boldsymbol{p}$ and is perpendicular to the given line.\n",
    "\n",
    "---"
   ]
  },
  {
   "cell_type": "code",
   "execution_count": null,
   "metadata": {},
   "outputs": [],
   "source": [
    "# Project a Point onto a Line\n",
    "\n",
    "def ProjPointLine( vL : np.ndarray, vP : np.ndarray ) -> np.ndarray:\n",
    "    \"\"\"\n",
    "    The function projects a point in 2D, `vP` onto a line in 2D `vL`.  \n",
    "    The line is given as `vL[0] * x + vL[1] * y + vL[2] = 0`.  \n",
    "    The line is assumed to have `np.linalg.norm(vL[:2]) = 1`.\n",
    "    Args:\n",
    "        vL      - 2D Line parameters as a vector.\n",
    "        vP      - 2D Point as a vector.\n",
    "    Output:\n",
    "        vC      - 2D point on the line which the closest to vP.\n",
    "    \"\"\"\n",
    "    #===========================Fill This===========================#\n",
    "    # 1. Calculate the point `vC` which on the line `vL` which closest to `vP`.\n",
    "    # !! The solution should match the derivation.\n",
    "    \n",
    "    vU = np.array([-vL[1], vL[0]])     #<! Set vU\n",
    "    vS = np.array([0, -vL[2] / vL[1]]) #<! Set vS\n",
    "    λ  = np.dot(vU, vP - vS)           #<! Projection (No need to divide by np.dot(vU, vU) as it has a unit norm)\n",
    "\n",
    "    vC = vS + λ * vU\n",
    "    #===============================================================#\n",
    "    \n",
    "    return vC"
   ]
  },
  {
   "cell_type": "code",
   "execution_count": null,
   "metadata": {},
   "outputs": [],
   "source": [
    "hF, hA = plt.subplots(figsize = (10, 7))\n",
    "\n",
    "for ii in range(numLines):\n",
    "    vY = np.array([mM[ii, 0] * valX + mM[ii, 1] for valX in vX])\n",
    "    hA.plot(vX, vY, lw = LINE_WIDTH_DEF, label = f'Line {ii + 1:02d}')\n",
    "    tuCurrClr = hA.lines[-1].get_color()\n",
    "    vC = ProjPointLine(mL[ii, :], vP)\n",
    "    hA.plot([vC[0], vP[0]], [vC[1], vP[1]], color = tuCurrClr, lw = LINE_WIDTH_DEF, label = '_')\n",
    "    hA.scatter(vC[0], vC[1], s = 3 * MARKER_SIZE_DEF, color = tuCurrClr, label = '_')\n",
    "\n",
    "hA.scatter(vP[0], vP[1], s = 3 * MARKER_SIZE_DEF, color = '#FFE119', label = 'Point')\n",
    "\n",
    "hA.set_aspect('equal') #<! Must in order to have 90 [Deg]\n",
    "hA.set_xlabel('x')\n",
    "hA.set_ylabel('y')\n",
    "hA.set_title('Set of Lines and the Point')\n",
    "\n",
    "hA.legend();"
   ]
  }
 ],
 "metadata": {
  "kernelspec": {
   "display_name": "Python 3",
   "language": "python",
   "name": "python3"
  },
  "language_info": {
   "codemirror_mode": {
    "name": "ipython",
    "version": 3
   },
   "file_extension": ".py",
   "mimetype": "text/x-python",
   "name": "python",
   "nbconvert_exporter": "python",
   "pygments_lexer": "ipython3",
   "version": "3.11.7"
  },
  "toc": {
   "base_numbering": 1,
   "nav_menu": {},
   "number_sections": false,
   "sideBar": true,
   "skip_h1_title": false,
   "title_cell": "Table of Contents",
   "title_sidebar": "Contents",
   "toc_cell": false,
   "toc_position": {},
   "toc_section_display": true,
   "toc_window_display": false
  },
  "varInspector": {
   "cols": {
    "lenName": 16,
    "lenType": 16,
    "lenVar": 40
   },
   "kernels_config": {
    "python": {
     "delete_cmd_postfix": "",
     "delete_cmd_prefix": "del ",
     "library": "var_list.py",
     "varRefreshCmd": "print(var_dic_list())"
    },
    "r": {
     "delete_cmd_postfix": ") ",
     "delete_cmd_prefix": "rm(",
     "library": "var_list.r",
     "varRefreshCmd": "cat(var_dic_list()) "
    }
   },
   "types_to_exclude": [
    "module",
    "function",
    "builtin_function_or_method",
    "instance",
    "_Feature"
   ],
   "window_display": false
  },
  "vscode": {
   "interpreter": {
    "hash": "4c555be6fa9458c8c75b4612c68315d9f1d74815b73d0e564fda29ad772cfcda"
   }
  }
 },
 "nbformat": 4,
 "nbformat_minor": 4
}
