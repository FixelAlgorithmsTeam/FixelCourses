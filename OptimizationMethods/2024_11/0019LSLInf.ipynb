{
 "cells": [
  {
   "attachments": {},
   "cell_type": "markdown",
   "metadata": {},
   "source": [
    "[![Fixel Algorithms](https://fixelalgorithms.co/images/CCExt.png)](https://fixelalgorithms.gitlab.io)\n",
    "\n",
    "# Optimization Methods\n",
    "\n",
    "## Convex Optimization - Non Smooth Optimization - Proximal Gradient Method\n",
    "\n",
    "> Notebook by:\n",
    "> - Royi Avital RoyiAvital@fixelalgorithms.com\n",
    "\n",
    "## Revision History\n",
    "\n",
    "| Version | Date       | User        |Content / Changes                                                   |\n",
    "|---------|------------|-------------|--------------------------------------------------------------------|\n",
    "| 1.0.000 | 01/10/2024 | Royi Avital | First version                                                      |"
   ]
  },
  {
   "attachments": {},
   "cell_type": "markdown",
   "metadata": {},
   "source": [
    "[![Open In Colab](https://colab.research.google.com/assets/colab-badge.svg)](https://colab.research.google.com/github/FixelAlgorithmsTeam/FixelCourses/blob/master/AIProgram/2024_02/0012LinearFitL1.ipynb)"
   ]
  },
  {
   "cell_type": "code",
   "execution_count": null,
   "metadata": {
    "ExecuteTime": {
     "end_time": "2022-02-02T09:30:06.492269Z",
     "start_time": "2022-02-02T09:30:06.220934Z"
    }
   },
   "outputs": [],
   "source": [
    "# Import Packages\n",
    "\n",
    "# General Tools\n",
    "import numpy as np\n",
    "import scipy as sp\n",
    "import pandas as pd\n",
    "\n",
    "# Machine Learning\n",
    "\n",
    "# Optimization\n",
    "import cvxpy as cp\n",
    "\n",
    "# Miscellaneous\n",
    "import os\n",
    "import math\n",
    "from platform import python_version\n",
    "import random\n",
    "\n",
    "# Typing\n",
    "from typing import Callable, List, Tuple, Union\n",
    "\n",
    "# Visualization\n",
    "import matplotlib.pyplot as plt\n",
    "\n",
    "# Jupyter\n",
    "from IPython import get_ipython"
   ]
  },
  {
   "attachments": {},
   "cell_type": "markdown",
   "metadata": {},
   "source": [
    "## Notations\n",
    "\n",
    "* <font color='red'>(**?**)</font> Question to answer interactively.\n",
    "* <font color='blue'>(**!**)</font> Simple task to add code for the notebook.\n",
    "* <font color='green'>(**@**)</font> Optional / Extra self practice.\n",
    "* <font color='brown'>(**#**)</font> Note / Useful resource / Food for thought.\n",
    "\n",
    "Code Notations:\n",
    "\n",
    "```python\n",
    "someVar    = 2; #<! Notation for a variable\n",
    "vVector    = np.random.rand(4) #<! Notation for 1D array\n",
    "mMatrix    = np.random.rand(4, 3) #<! Notation for 2D array\n",
    "tTensor    = np.random.rand(4, 3, 2, 3) #<! Notation for nD array (Tensor)\n",
    "tuTuple    = (1, 2, 3) #<! Notation for a tuple\n",
    "lList      = [1, 2, 3] #<! Notation for a list\n",
    "dDict      = {1: 3, 2: 2, 3: 1} #<! Notation for a dictionary\n",
    "oObj       = MyClass() #<! Notation for an object\n",
    "dfData     = pd.DataFrame() #<! Notation for a data frame\n",
    "dsData     = pd.Series() #<! Notation for a series\n",
    "hObj       = plt.Axes() #<! Notation for an object / handler / function handler\n",
    "```\n",
    "\n",
    "### Code Exercise\n",
    "\n",
    " - Single line fill\n",
    "\n",
    "```python\n",
    "valToFill = ???\n",
    "```\n",
    "\n",
    " - Multi Line to Fill (At least one)\n",
    "\n",
    "```python\n",
    "# You need to start writing\n",
    "?????\n",
    "```\n",
    "\n",
    " - Section to Fill\n",
    "\n",
    "```python\n",
    "#===========================Fill This===========================#\n",
    "# 1. Explanation about what to do.\n",
    "# !! Remarks to follow / take under consideration.\n",
    "mX = ???\n",
    "\n",
    "?????\n",
    "#===============================================================#\n",
    "```"
   ]
  },
  {
   "cell_type": "code",
   "execution_count": 2,
   "metadata": {},
   "outputs": [],
   "source": [
    "# Configuration\n",
    "# %matplotlib inline\n",
    "\n",
    "# warnings.filterwarnings(\"ignore\")\n",
    "\n",
    "seedNum = 512\n",
    "np.random.seed(seedNum)\n",
    "random.seed(seedNum)\n",
    "\n",
    "# Matplotlib default color palette\n",
    "lMatPltLibclr = ['#1f77b4', '#ff7f0e', '#2ca02c', '#d62728', '#9467bd', '#8c564b', '#e377c2', '#7f7f7f', '#bcbd22', '#17becf']\n",
    "# sns.set_theme() #>! Apply SeaBorn theme\n",
    "# sns.set_palette(\"tab10\")\n",
    "\n",
    "runInGoogleColab = 'google.colab' in str(get_ipython())"
   ]
  },
  {
   "cell_type": "code",
   "execution_count": 3,
   "metadata": {},
   "outputs": [],
   "source": [
    "# Constants\n",
    "\n",
    "FIG_SIZE_DEF    = (8, 8)\n",
    "ELM_SIZE_DEF    = 50\n",
    "CLASS_COLOR     = ('b', 'r')\n",
    "EDGE_COLOR      = 'k'\n",
    "MARKER_SIZE_DEF = 10\n",
    "LINE_WIDTH_DEF  = 2\n"
   ]
  },
  {
   "cell_type": "code",
   "execution_count": 4,
   "metadata": {},
   "outputs": [],
   "source": [
    "# Course Packages\n",
    "\n",
    "from AuxFun import ProxGradientDescent\n",
    "from AuxFun import ProjectL1Ball\n"
   ]
  },
  {
   "cell_type": "code",
   "execution_count": 5,
   "metadata": {},
   "outputs": [],
   "source": [
    "# Auxiliary Functions\n"
   ]
  },
  {
   "cell_type": "code",
   "execution_count": 6,
   "metadata": {},
   "outputs": [],
   "source": [
    "# Parameters\n",
    "\n",
    "# Data\n",
    "numGridPts  = 25\n",
    "polyDeg     = 5 #<! Polynomial Degree\n",
    "numFeatures = 3\n",
    "noiseStd    = 0.085\n",
    "\n",
    "# Solution Path\n",
    "λ  = 0.7 #<! Verification\n",
    "\n",
    "# Solver\n",
    "μ               = 0.0435\n",
    "numIterations   = 50_000\n",
    "\n",
    "# # Verification\n",
    "ε = 1e-6 #<! Error threshold"
   ]
  },
  {
   "attachments": {},
   "cell_type": "markdown",
   "metadata": {},
   "source": [
    "## Least Squares with ${L}_{\\infty}$ Norm Regularization\n",
    "\n",
    "The ${L}_{\\infty}$ regularized Least Squares (${L}_{\\infty}$ Regularized LS) is given by:\n",
    "\n",
    "$$ \\arg \\min_{\\boldsymbol{x}} \\frac{1}{2} {\\left\\| \\boldsymbol{A} \\boldsymbol{x} - \\boldsymbol{b} \\right\\|}_{2}^{2} + \\lambda {\\left\\| \\boldsymbol{x} \\right\\|}_{\\infty} $$\n",
    "\n",
    "Where $\\lambda {\\left\\| \\boldsymbol{x} \\right\\|}_{\\infty}$ is the regularization term with $\\lambda \\geq 0$ sets the regularization level.\n",
    "\n",
    "* <font color='brown'>(**#**)</font> The ${L}_{\\infty}$ norm is non smooth.\n",
    "* <font color='brown'>(**#**)</font> The motivation for the ${L}_{\\infty}$ norm can explained as:\n",
    "  - Limit the Range of Weights.\n",
    "  - [Bounded Uniform Distribution](https://en.wikipedia.org/wiki/Continuous_uniform_distribution) Prior.  \n",
    "    For exact derivation see [The Prior Behind The ${L}_{\\infty}$ Norm](https://stats.stackexchange.com/questions/438429).\n",
    "* <font color='brown'>(**#**)</font> The function $g \\left( \\boldsymbol{x} \\right) = \\lambda {\\left\\| \\boldsymbol{x} \\right\\|}_{\\infty}$ has an efficient _Prox Operator_.\n",
    "\n",
    "The motivation for regularization is:\n",
    "\n",
    " - Include prior knowledge into into the model.\n",
    " - Avoid overfitting.\n",
    " - Make underdetermined systems solvable.\n",
    "\n",
    "This notebooks covers the solution of the above problem using the Proximal Gradient Descent method. \n"
   ]
  },
  {
   "cell_type": "markdown",
   "metadata": {},
   "source": [
    "## Generate Data\n"
   ]
  },
  {
   "cell_type": "markdown",
   "metadata": {},
   "source": [
    "Building a sparse model of the parameters to optimize by.  \n",
    "The feature space is a polynomial where the data is generated by a sub set of coefficients."
   ]
  },
  {
   "cell_type": "code",
   "execution_count": 7,
   "metadata": {},
   "outputs": [],
   "source": [
    "# Generate / Load the Data\n",
    "\n",
    "vA = np.sort(np.random.rand(numGridPts)) #<! Grid (Random samples, Sorted in ascending manner)\n",
    "mA = np.power(vA[:, None], range(polyDeg + 1)) #<! Model Matrix\n",
    "\n",
    "vXRef           = np.zeros(polyDeg + 1)\n",
    "vFeatIdx        = np.random.choice(polyDeg + 1, numFeatures, replace = False) #!< Active features index\n",
    "vXRef[vFeatIdx] = np.random.randn(numFeatures); #<! Active features\n",
    "\n",
    "vN = noiseStd * np.random.randn(numGridPts) #<! Noise Samples\n",
    "vS = mA @ vXRef\n",
    "vY = vS + vN\n"
   ]
  },
  {
   "cell_type": "markdown",
   "metadata": {},
   "source": [
    "## Analysis\n",
    "\n",
    "This section defines the problem and solve it using the _Proximal Gradient Method_ (PGM)."
   ]
  },
  {
   "cell_type": "markdown",
   "metadata": {},
   "source": [
    "### Objective Function\n",
    "\n",
    "The objective function:\n",
    "\n",
    "$$ \\arg \\min_{\\boldsymbol{x}} \\frac{1}{2} {\\left\\| \\boldsymbol{A} \\boldsymbol{x} - \\boldsymbol{b} \\right\\|}_{2}^{2} + \\lambda {\\left\\| \\boldsymbol{x} \\right\\|}_{\\infty} $$\n",
    "\n",
    "Since the model \"punishes\" for extreme points only, it tries to bound the values into a symmetric range."
   ]
  },
  {
   "cell_type": "code",
   "execution_count": 8,
   "metadata": {},
   "outputs": [],
   "source": [
    "# Objective Function\n",
    "\n",
    "#===========================Fill This===========================#\n",
    "# 1. Implement the objective function. \n",
    "#    Given a vector of `vX` and a scalar `λ` it returns the objective.\n",
    "# 2. The implementation should be using a Lambda Function.\n",
    "# !! You may `np.square()` and / or `np.linalg.norm()`.\n",
    "# !! Pay attention to the variable of the labels.\n",
    "\n",
    "hObjFun = lambda vX, λ: ???\n",
    "#===============================================================#"
   ]
  },
  {
   "cell_type": "markdown",
   "metadata": {},
   "source": [
    "### Proximal Operator\n",
    "\n",
    "The Proximal Operator of a function $g \\left( \\cdot \\right)$ is given by:\n",
    "\n",
    "$$ \\operatorname{prox}_{\\lambda g \\left( \\cdot \\right)} \\left( \\boldsymbol{y} \\right) = \\arg \\min_{\\boldsymbol{x}} \\frac{1}{2} {\\left\\| \\boldsymbol{x} - \\boldsymbol{y} \\right\\|}_{2}^{2} + \\lambda g \\left( \\boldsymbol{x} \\right) $$\n",
    "\n",
    "* <font color='brown'>(**#**)</font> The Proximal Operator can be thought as a generalization of a projection operator.\n",
    "* <font color='brown'>(**#**)</font> The Proximal Operator can be used to generalize the _Gradient_.\n"
   ]
  },
  {
   "cell_type": "markdown",
   "metadata": {},
   "source": [
    "#### The Operator Derivation\n",
    "\n",
    "The Prox of the ${L}_{\\infty}$ norm:\n",
    "\n",
    "$$ \\operatorname{prox}_{\\lambda {\\left\\| \\cdot \\right\\|}_{1}} \\left( \\boldsymbol{y} \\right) = \\arg \\min_{\\boldsymbol{x}} \\frac{1}{2} {\\left\\| \\boldsymbol{x} - \\boldsymbol{y} \\right\\|}_{2}^{2} + \\lambda {\\left\\| \\boldsymbol{x} \\right\\|}_{\\infty} $$\n",
    "\n",
    "Its solution requires working with _Moreau Decomposition_ from Convex Analysis.  \n",
    "The Prox is given by:\n",
    "\n",
    "$$ \\operatorname{prox}_{ \\lambda {\\left\\| \\cdot \\right\\|}_{\\infty}} \\left( \\boldsymbol{y} \\right) = \\boldsymbol{y} - \\lambda \\operatorname{Proj}_{ \\left\\{ \\left\\| \\cdot \\right\\|_1 \\leq 1 \\right\\} }( \\frac{\\boldsymbol{y}}{\\lambda} ) $$\n",
    "\n",
    "The projection onto the ${L}_{1}$ Ball does not have a closed form solution.  \n",
    "It can be solved using DCP or the given function `ProjectL1Ball()`.\n",
    "\n",
    "* <font color='brown'>(**#**)</font> The full derivation is given at [The Proximal Operator of the ${L}_{\\infty}$ (Infinity Norm)](https://math.stackexchange.com/questions/527872).\n",
    "* <font color='brown'>(**#**)</font> The projection onto the ${L}_{1}$ Balls derivation is given at [Orthogonal Projection onto the ${L}_{1}$\n",
    " Unit Ball](https://math.stackexchange.com/questions/2327504) (An alternative derivation: [Josh Nguyen - Projection onto the L1 Norm Ball](https://joshnguyen.net/posts/l1-proj))."
   ]
  },
  {
   "cell_type": "code",
   "execution_count": 9,
   "metadata": {},
   "outputs": [],
   "source": [
    "# The Proximal Function\n",
    "\n",
    "#===========================Fill This===========================#\n",
    "# 1. Implement the prox operator function of the `λ || ||_∞` function. \n",
    "#    Given a vector `vY` and `λ` it returns the proximal at `vY`.\n",
    "# 2. The implementation should be using a Lambda Function.\n",
    "# !! You may assume `λ` > 0.\n",
    "# !! You may use `ProjectL1Ball()`.\n",
    "\n",
    "hProxFun = lambda vY, λ: ???\n",
    "#===============================================================#"
   ]
  },
  {
   "cell_type": "code",
   "execution_count": null,
   "metadata": {},
   "outputs": [],
   "source": [
    "# Validation \n",
    "# The proximal operator is the solution of a convex problem.\n",
    "# The operator can be verified by DCP.\n",
    "\n",
    "# Model Data\n",
    "vYY = np.linspace(-2, 2, 31)\n",
    "vXX = cp.Variable(len(vYY))\n",
    "\n",
    "# Model Problem\n",
    "cpObjFun = cp.Minimize(0.5 * cp.sum_squares(vXX - vYY) + λ * cp.norm(vXX, 'inf')) #<! Objective Function\n",
    "lConst   = [] #<! Constraints\n",
    "oCvxPrb  = cp.Problem(cpObjFun, lConst) #<! Problem\n",
    "\n",
    "oCvxPrb.solve(solver = cp.SCS)\n",
    "\n",
    "assert (oCvxPrb.status == 'optimal'), 'The problem is not solved.'\n",
    "print('Problem is solved.')\n",
    "\n",
    "assertCond = np.linalg.norm(vXX.value - hProxFun(vYY, λ), np.inf) <= (ε * max(np.linalg.norm(vXX.value), ε))\n",
    "assert assertCond, f'The prox calculation deviation exceeds the threshold {ε}'\n",
    "\n",
    "print('The prox implementation is verified')\n",
    "\n"
   ]
  },
  {
   "cell_type": "code",
   "execution_count": null,
   "metadata": {},
   "outputs": [],
   "source": [
    "# Display the Operator\n",
    "\n",
    "hF, hA = plt.subplots(figsize = (10, 6))\n",
    "hA.plot(vYY, vYY, lw = 2, label = 'Input')\n",
    "hA.plot(vYY, hProxFun(vYY, λ), lw = 2, label = 'Soft Threshold')\n",
    "hA.set_title(r'The Prox Operator of ${L}_{\\infty}$' + f' Norm, λ = {λ: 0.2f}')\n",
    "hA.set_xlabel('Input Value')\n",
    "hA.set_ylabel('Output Value')\n",
    "\n",
    "hA.legend();"
   ]
  },
  {
   "cell_type": "markdown",
   "metadata": {},
   "source": [
    "* <font color='blue'>(**!**)</font> Revise the number of grid points. See the effect on the output.\n",
    "* <font color='brown'>(**#**)</font> The operator depends on the number of elements and not only the $\\lambda$ parameter.   \n",
    "  The intuition is in the optimization problem: $\\arg \\min_{\\boldsymbol{x}} \\frac{1}{2} {\\left\\| \\boldsymbol{x} - \\boldsymbol{y} \\right\\|}_{2}^{2} + \\lambda {\\left\\| \\boldsymbol{x} \\right\\|}_{\\infty}$.  \n",
    "  The fidelity term depends on the number of elements while the regularization term depends on a single value.  \n",
    "  Hence adding 50 elements might change the first while the other is not changed."
   ]
  },
  {
   "cell_type": "markdown",
   "metadata": {},
   "source": [
    "## Proximal Gradient Method\n",
    "\n",
    "For the composition model of:\n",
    "\n",
    "$$ F \\left( \\boldsymbol{x} \\right) = f \\left( \\boldsymbol{x} \\right) + \\lambda g \\left( \\boldsymbol{x} \\right) $$\n",
    "\n",
    "Where $f \\left( \\boldsymbol{x} \\right)$ is smooth and convex and $g \\left( \\boldsymbol{x} \\right)$ is convex with a given prox operator.\n",
    "\n",
    "The method iteration is given by:\n",
    "\n",
    "$$ \\boldsymbol{x}^{k + 1} = \\operatorname{prox}_{ {\\mu}_{k} \\lambda g \\left( \\cdot \\right) } \\left( \\boldsymbol{x}^{k} - {\\nabla}_{f} \\left( \\boldsymbol{x}^{k} \\right) \\right) $$\n",
    "\n",
    "Where ${\\mu}_{k}$ is the step size."
   ]
  },
  {
   "cell_type": "markdown",
   "metadata": {},
   "source": [
    "* <font color='red'>(**?**)</font> For which $g$ the above becomes a _Projected Gradient_ descent?"
   ]
  },
  {
   "cell_type": "code",
   "execution_count": 12,
   "metadata": {},
   "outputs": [],
   "source": [
    "# Gradient Function\n",
    "\n",
    "#===========================Fill This===========================#\n",
    "# 1. Implement the gradient function (1/2) * || A x - y ||_2^2. \n",
    "#    Given a vector `vX` it returns the gradient at `vX`.\n",
    "# 2. The implementation should be using a Lambda Function.\n",
    "# !! You may pre calculate terms for efficient code.\n",
    "\n",
    "hGradFun = ???\n",
    "#===============================================================#\n"
   ]
  },
  {
   "cell_type": "code",
   "execution_count": 13,
   "metadata": {},
   "outputs": [],
   "source": [
    "# Proximal Gradient Method (PGM)\n",
    "\n",
    "oProxGrad = ProxGradientDescent(np.zeros(polyDeg + 1), hGradFun, μ, λ, hProxFun = hProxFun)\n",
    "lX = oProxGrad.ApplyIterations(numIterations)\n"
   ]
  },
  {
   "cell_type": "markdown",
   "metadata": {},
   "source": [
    " * <font color='brown'>(**#**)</font> The size of $\\mu$ which guarantees convergence depends on the smoothness of $f$, The Lipschitz constant of its gradient.  \n",
    "   For cases where $f$ is the Linear Least Squares problem the constant is given by ${\\left\\| \\boldsymbol{A} \\right\\|}_{2}^{2}$, Namely the square of the largest singular value of $\\boldsymbol{A}$.\n",
    " * <font color='brown'>(**#**)</font> One could implement adaptive step size in a similar manner to Gradient Descent with a different decision rule.\n",
    " * <font color='blue'>(**!**)</font> Go through the implementation of `ProxGradientDescent`.\n",
    " * <font color='blue'>(**!**)</font> Edit the code to use $\\mu$ set by the Lipschitz constant of ."
   ]
  },
  {
   "cell_type": "markdown",
   "metadata": {},
   "source": [
    "### The DCP Solution\n",
    "\n",
    "This section solves the problem using a DCP solver."
   ]
  },
  {
   "cell_type": "code",
   "execution_count": null,
   "metadata": {},
   "outputs": [],
   "source": [
    "# DCP Solution\n",
    "\n",
    "#===========================Fill This===========================#\n",
    "# 1. Formulate the problem in CVXPY.  \n",
    "#    Use `vXRef` for the optimal argument.\n",
    "# !! You may find `cp.max()` useful.\n",
    "\n",
    "# Model Data\n",
    "vXRef = ??? #<! Variable\n",
    "\n",
    "# Model Problem\n",
    "cpObjFun = ??? #<! Objective Function\n",
    "cpConst  = ??? #<! Constraints\n",
    "oCvxPrb  = ??? #<! Problem\n",
    "\n",
    "oCvxPrb.solve(solver = cp.SCS)\n",
    "#===============================================================#\n",
    "\n",
    "vXRef = vXRef.value\n",
    "\n",
    "assert (oCvxPrb.status == 'optimal'), 'The problem is not solved.'\n",
    "print('Problem is solved.')\n",
    "\n",
    "assertCond = abs(hObjFun(vXRef, λ) - hObjFun(lX[-1], λ)) <= (ε * max(abs(hObjFun(vXRef, λ)), ε))\n",
    "assert assertCond, f'The optimization calculation deviation {abs(hObjFun(vXRef, λ) - hObjFun(lX[-1], λ))} exceeds the threshold {ε}'\n",
    "\n",
    "print('The implementation is verified')"
   ]
  },
  {
   "cell_type": "markdown",
   "metadata": {},
   "source": [
    " * <font color='brown'>(**#**)</font> The _Proximal Gradient Method_ is equivalent to the _Gradient Descent_ in its convergence rate.\n",
    " * <font color='brown'>(**#**)</font> In practice, the convergence rate will depend on the value of $\\lambda$."
   ]
  },
  {
   "cell_type": "code",
   "execution_count": 15,
   "metadata": {},
   "outputs": [],
   "source": [
    "# Solution Analysis\n",
    "\n",
    "objValRef   = hObjFun(vXRef, λ)\n",
    "vObjVal     = np.empty(numIterations)\n",
    "vArgErr     = np.empty(numIterations)\n",
    "\n",
    "for ii in range(numIterations):\n",
    "    vObjVal[ii] = hObjFun(lX[ii], λ)\n",
    "    vArgErr[ii] = np.linalg.norm(lX[ii] - vXRef)\n",
    "\n",
    "vObjVal = 20 * np.log10(np.maximum(np.abs(vObjVal - objValRef), np.sqrt(np.spacing(1.0))) / max(np.abs(objValRef), np.sqrt(np.spacing(1.0))))\n",
    "vArgErr = 20 * np.log10(np.maximum(np.abs(vArgErr), np.sqrt(np.spacing(1.0))) / max(np.linalg.norm(vXRef), np.sqrt(np.spacing(1.0))))"
   ]
  },
  {
   "cell_type": "code",
   "execution_count": null,
   "metadata": {},
   "outputs": [],
   "source": [
    "# Display Results\n",
    "\n",
    "hF, hA = plt.subplots(figsize = (12, 6))\n",
    "hA.plot(range(numIterations), vObjVal, lw = 2, label = 'Objective Function')\n",
    "hA.plot(range(numIterations), vArgErr, lw = 2, label = 'Argument Error')\n",
    "hA.set_xlabel('Iteration Index')\n",
    "hA.set_ylabel('Relative Error [dB]')\n",
    "hA.set_title('Proximal Gradient Method Convergence')\n",
    "\n",
    "hA.legend();"
   ]
  },
  {
   "cell_type": "markdown",
   "metadata": {},
   "source": [
    "* <font color='red'>(**?**)</font> How will the convergence look like for higher $\\lambda$?"
   ]
  },
  {
   "cell_type": "markdown",
   "metadata": {},
   "source": [
    "## Polynomial Regression\n",
    "\n",
    "This section shows the difference between the Least Squares"
   ]
  },
  {
   "cell_type": "code",
   "execution_count": 17,
   "metadata": {},
   "outputs": [],
   "source": [
    "# Least Squares Solution\n",
    "\n",
    "#===========================Fill This===========================#\n",
    "# 1. Calculate the LS solution of the problem.\n",
    "#    The polynomial model is `mA * vXLS ≈ vY`.\n",
    "# !! You find `sp.linalg.lstsq()` useful.\n",
    "\n",
    "vXLS, *_ = ???\n",
    "#===============================================================#\n",
    "\n"
   ]
  },
  {
   "cell_type": "code",
   "execution_count": null,
   "metadata": {},
   "outputs": [],
   "source": [
    "# Display the Results\n",
    "\n",
    "hF, hA = plt.subplots(figsize = (10, 8))\n",
    "hA.plot(vA, vS, lw = 2, label = 'Model Data')\n",
    "hA.plot(vA, vY, ls = 'None', marker = '*', markersize = 5, label = 'Data Samples')\n",
    "hA.plot(vA, mA @ vXLS, lw = 2, label = 'Least Squares')\n",
    "hA.plot(vA, mA @ lX[-1], lw = 2, label = 'L∞ Regularized Least Squares')\n",
    "\n",
    "hA.set_title('Polynomial Model - Estimation from Data Samples')\n",
    "hA.set_xlabel('x')\n",
    "hA.set_ylabel('y')\n",
    "\n",
    "hA.legend();"
   ]
  },
  {
   "cell_type": "markdown",
   "metadata": {},
   "source": [
    "* <font color='brown'>(**#**)</font> The regularization limits the Dynamic Range of the coefficients.\n",
    "* <font color='red'>(**?**)</font> Is the result better? Should it be better?"
   ]
  }
 ],
 "metadata": {
  "kernelspec": {
   "display_name": "Python 3",
   "language": "python",
   "name": "python3"
  },
  "language_info": {
   "codemirror_mode": {
    "name": "ipython",
    "version": 3
   },
   "file_extension": ".py",
   "mimetype": "text/x-python",
   "name": "python",
   "nbconvert_exporter": "python",
   "pygments_lexer": "ipython3",
   "version": "3.12.6"
  },
  "toc": {
   "base_numbering": 1,
   "nav_menu": {},
   "number_sections": false,
   "sideBar": true,
   "skip_h1_title": false,
   "title_cell": "Table of Contents",
   "title_sidebar": "Contents",
   "toc_cell": false,
   "toc_position": {},
   "toc_section_display": true,
   "toc_window_display": true
  },
  "varInspector": {
   "cols": {
    "lenName": 16,
    "lenType": 16,
    "lenVar": 40
   },
   "kernels_config": {
    "python": {
     "delete_cmd_postfix": "",
     "delete_cmd_prefix": "del ",
     "library": "var_list.py",
     "varRefreshCmd": "print(var_dic_list())"
    },
    "r": {
     "delete_cmd_postfix": ") ",
     "delete_cmd_prefix": "rm(",
     "library": "var_list.r",
     "varRefreshCmd": "cat(var_dic_list()) "
    }
   },
   "types_to_exclude": [
    "module",
    "function",
    "builtin_function_or_method",
    "instance",
    "_Feature"
   ],
   "window_display": false
  },
  "vscode": {
   "interpreter": {
    "hash": "39577bab1f263e62e0b74f5b8086bd735049bf4751f6562b2d4b2969dc308293"
   }
  }
 },
 "nbformat": 4,
 "nbformat_minor": 4
}
