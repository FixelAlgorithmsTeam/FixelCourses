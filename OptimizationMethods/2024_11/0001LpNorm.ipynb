{
 "cells": [
  {
   "attachments": {},
   "cell_type": "markdown",
   "metadata": {},
   "source": [
    "[![Fixel Algorithms](https://fixelalgorithms.co/images/CCExt.png)](https://fixelalgorithms.gitlab.io/)\n",
    "\n",
    "# Optimization Methods\n",
    "\n",
    "## Essential Linear Algebra - The $ {L}^{p} $ Norm\n",
    "\n",
    "> Notebook by:\n",
    "> - Royi Avital RoyiAvital@fixelalgorithms.com\n",
    "\n",
    "## Revision History\n",
    "\n",
    "| Version | Date       | User        |Content / Changes                                                   |\n",
    "|---------|------------|-------------|--------------------------------------------------------------------|\n",
    "| 1.0.000 | 13/09/2024 | Royi Avital | First version                                                      |"
   ]
  },
  {
   "attachments": {},
   "cell_type": "markdown",
   "metadata": {},
   "source": [
    "[![Open In Colab](https://colab.research.google.com/assets/colab-badge.svg)](https://colab.research.google.com/github/FixelAlgorithmsTeam/FixelCourses/blob/master/AIProgram/2024_02/0001LpNorm.ipynb)"
   ]
  },
  {
   "cell_type": "code",
   "execution_count": 1,
   "metadata": {
    "ExecuteTime": {
     "end_time": "2022-02-02T17:52:07.921383Z",
     "start_time": "2022-02-02T17:52:07.649130Z"
    }
   },
   "outputs": [],
   "source": [
    "# Import Packages\n",
    "\n",
    "# General Tools\n",
    "import numpy as np\n",
    "import scipy as sp\n",
    "import pandas as pd\n",
    "\n",
    "# Miscellaneous\n",
    "import os\n",
    "from platform import python_version\n",
    "import random\n",
    "import warnings\n",
    "import yaml\n",
    "\n",
    "# Visualization\n",
    "import matplotlib as mpl\n",
    "import matplotlib.pyplot as plt\n",
    "import seaborn as sns\n",
    "\n",
    "# Jupyter\n",
    "from IPython import get_ipython\n",
    "from IPython.display import Image, display\n",
    "from ipywidgets import Dropdown, FloatSlider, interact, IntSlider, Layout"
   ]
  },
  {
   "cell_type": "markdown",
   "metadata": {},
   "source": [
    "## Notations\n",
    "\n",
    "* <font color='red'>(**?**)</font> Question to answer interactively.\n",
    "* <font color='blue'>(**!**)</font> Simple task to add code for the notebook.\n",
    "* <font color='green'>(**@**)</font> Optional / Extra self practice.\n",
    "* <font color='brown'>(**#**)</font> Note / Useful resource / Food for thought.\n",
    "\n",
    "Code Notations:\n",
    "\n",
    "```python\n",
    "someVar    = 2; #<! Notation for a variable\n",
    "vVector    = np.random.rand(4) #<! Notation for 1D array\n",
    "mMatrix    = np.random.rand(4, 3) #<! Notation for 2D array\n",
    "tTensor    = np.random.rand(4, 3, 2, 3) #<! Notation for nD array (Tensor)\n",
    "tuTuple    = (1, 2, 3) #<! Notation for a tuple\n",
    "lList      = [1, 2, 3] #<! Notation for a list\n",
    "dDict      = {1: 3, 2: 2, 3: 1} #<! Notation for a dictionary\n",
    "oObj       = MyClass() #<! Notation for an object\n",
    "dfData     = pd.DataFrame() #<! Notation for a data frame\n",
    "dsData     = pd.Series() #<! Notation for a series\n",
    "hObj       = plt.Axes() #<! Notation for an object / handler / function handler\n",
    "```\n",
    "\n",
    "### Code Exercise\n",
    "\n",
    " - Single line fill\n",
    "\n",
    " ```python\n",
    " vallToFill = ???\n",
    " ```\n",
    "\n",
    " - Multi Line to Fill (At least one)\n",
    "\n",
    " ```python\n",
    " # You need to start writing\n",
    " ????\n",
    " ```\n",
    "\n",
    " - Section to Fill\n",
    "\n",
    "```python\n",
    "#===========================Fill This===========================#\n",
    "# 1. Explanation about what to do.\n",
    "# !! Remarks to follow / take under consideration.\n",
    "mX = ???\n",
    "\n",
    "???\n",
    "#===============================================================#\n",
    "```"
   ]
  },
  {
   "cell_type": "code",
   "execution_count": 2,
   "metadata": {},
   "outputs": [],
   "source": [
    "# Configuration\n",
    "# %matplotlib inline\n",
    "\n",
    "# warnings.filterwarnings(\"ignore\")\n",
    "\n",
    "seedNum = 512\n",
    "np.random.seed(seedNum)\n",
    "random.seed(seedNum)\n",
    "\n",
    "# Matplotlib default color palette\n",
    "lMatPltLibclr = ['#1f77b4', '#ff7f0e', '#2ca02c', '#d62728', '#9467bd', '#8c564b', '#e377c2', '#7f7f7f', '#bcbd22', '#17becf']\n",
    "sns.set_theme() #>! Apply SeaBorn theme\n",
    "# sns.set_palette(\"tab10\")\n",
    "\n",
    "runInGoogleColab = 'google.colab' in str(get_ipython())"
   ]
  },
  {
   "cell_type": "code",
   "execution_count": 3,
   "metadata": {},
   "outputs": [],
   "source": [
    "# Constants\n",
    "\n",
    "FIG_SIZE_DEF    = (8, 8)\n",
    "ELM_SIZE_DEF    = 50\n",
    "CLASS_COLOR     = ('b', 'r')\n",
    "EDGE_COLOR      = 'k'\n",
    "MARKER_SIZE_DEF = 10\n",
    "LINE_WIDTH_DEF  = 2\n"
   ]
  },
  {
   "cell_type": "code",
   "execution_count": 4,
   "metadata": {},
   "outputs": [],
   "source": [
    "# Course Packages\n",
    "\n",
    "from NumericDiff import *"
   ]
  },
  {
   "cell_type": "code",
   "execution_count": 5,
   "metadata": {},
   "outputs": [],
   "source": [
    "# Auxiliary Functions"
   ]
  },
  {
   "cell_type": "code",
   "execution_count": 6,
   "metadata": {},
   "outputs": [],
   "source": [
    "# Parameters\n",
    "\n",
    "# Grid\n",
    "lowerBound = -1.5\n",
    "upperBound = 1.5\n",
    "numGridPts = 500\n",
    "\n"
   ]
  },
  {
   "cell_type": "markdown",
   "metadata": {},
   "source": [
    "## Generate Data\n"
   ]
  },
  {
   "cell_type": "markdown",
   "metadata": {},
   "source": [
    "### Create 1D Grid"
   ]
  },
  {
   "cell_type": "code",
   "execution_count": null,
   "metadata": {},
   "outputs": [],
   "source": [
    "# Generate 1D Grid\n",
    "\n",
    "vG = np.linspace(lowerBound, upperBound, numGridPts) #<! Linear steps grid\n",
    "\n",
    "print(f'The Grid Shape: {vG.shape}')\n"
   ]
  },
  {
   "cell_type": "markdown",
   "metadata": {},
   "source": [
    "### Create 2D Grid"
   ]
  },
  {
   "cell_type": "code",
   "execution_count": null,
   "metadata": {},
   "outputs": [],
   "source": [
    "# Created 2D Grid\n",
    "\n",
    "mX1, mX2 = np.meshgrid(vG, vG)\n",
    "\n",
    "print(f'The Grid Shape: {mX1.shape}, {mX2.shape}')\n"
   ]
  },
  {
   "cell_type": "code",
   "execution_count": null,
   "metadata": {},
   "outputs": [],
   "source": [
    "# Plot the 2D Grid\n",
    "\n",
    "lXX    = [mX1, mX2]\n",
    "lTitle = ['mX1', 'mX2']\n",
    "\n",
    "\n",
    "hF, _ = plt.subplots(1, 2, figsize = (8, 3))\n",
    "for ii, hA in enumerate(hF.axes):\n",
    "    hA.matshow(lXX[ii], extent = (vG[0], vG[-1], vG[0], vG[-1]), origin = 'lower')\n",
    "    hA.set_title(lTitle[ii])\n",
    "    hA.set_xlabel('$x_1$')\n",
    "    hA.set_ylabel('$x_2$')\n",
    "    hA.xaxis.tick_bottom()\n",
    "\n",
    "plt.show()"
   ]
  },
  {
   "cell_type": "code",
   "execution_count": null,
   "metadata": {},
   "outputs": [],
   "source": [
    "# Creating the Grid as 2 Vectors\n",
    "mX = np.stack([mX1.flatten(), mX2.flatten()])\n",
    "print(f'The Flatten Grid Shape: {mX.shape}')"
   ]
  },
  {
   "cell_type": "markdown",
   "metadata": {},
   "source": [
    "## The ${L}^{p}$ Norm\n",
    "\n",
    "$$ {\\left\\| \\boldsymbol{x} \\right\\|}_{p} = \\sqrt[p]{\\sum_{i = 1}^{d} {\\left| {x}_{i} \\right|}^{p}} \\Rightarrow {\\left\\| \\boldsymbol{x} \\right\\|}_{p}^{p} = \\sum_{i = 1}^{d} {\\left| {x}_{i} \\right|}^{p} $$"
   ]
  },
  {
   "cell_type": "code",
   "execution_count": 11,
   "metadata": {},
   "outputs": [],
   "source": [
    "# Defining the Lp Norm as a Function\n",
    "\n",
    "def LpNorm(mX: np.ndarray, p: int):\n",
    "    \n",
    "    return np.sum(np.abs(mX) ** p, axis = 0) #<! ||x||ₚᵖ"
   ]
  },
  {
   "cell_type": "code",
   "execution_count": 24,
   "metadata": {},
   "outputs": [],
   "source": [
    "# Plotting the Lp Norm Unit Ball\n",
    "\n",
    "def PlotLpNormUnitBall(mX: np.ndarray, mX1: np.ndarray, mX2: np.ndarray, p: int = 2, figSize: tuple[int, int] = FIG_SIZE_DEF):\n",
    "    if p >= 5:\n",
    "        p = np.Inf\n",
    "    \n",
    "    # Binary Map of the Unit Ball (Interior)\n",
    "    mZ = LpNorm(mX, p) <= 1\n",
    "    mZ = mZ.reshape(mX1.shape)\n",
    "        \n",
    "    # Color\n",
    "    tuCyan  = (0.00, 0.75, 0.75)\n",
    "    tuRed   = (0.75, 0.00, 0.00)\n",
    "    tuWhite = (1.00, 1.00, 1.00)\n",
    "    tuColor = tuCyan if p >= 1 else tuRed\n",
    "    \n",
    "    # Title:\n",
    "    # pStr = '\\infty' if np.isinf(p) else str(p)\n",
    "\n",
    "    if np.isinf(p):\n",
    "        pStr = r'\\infty'\n",
    "    else:\n",
    "        if int(p) == p:\n",
    "            pStr = str(p)\n",
    "        else:\n",
    "            pStr = f'{p:0.2f}'\n",
    "\n",
    "    if p % 1 < 0.001:\n",
    "        pStr = f'{p:.0f}' #<! round integer\n",
    "\n",
    "    # Plot\n",
    "    hF, hA = plt.subplots(figsize = figSize)\n",
    "    hA.grid(True, linestyle = '--', linewidth = .3)\n",
    "    hA.axhline(y = 0,  color = 'k', linewidth = 3)\n",
    "    hA.axvline(x = 0,  color = 'k', linewidth = 3)\n",
    "    hA.contourf(mX1,  mX2, (2 * mZ) - 1, colors = [(1, 1, 1), tuColor], alpha = 0.75)\n",
    "    hA.set_title(r'${\\left\\| \\boldsymbol{x} \\right\\|}_{' + pStr + r'} \\leq 1$', fontsize = 18)\n",
    "    hA.set_xlabel('$x_1$')\n",
    "    hA.set_ylabel('$x_2$')\n"
   ]
  },
  {
   "cell_type": "markdown",
   "metadata": {},
   "source": [
    "### The ${L}^{p}$ Norm Unit Ball\n",
    "\n",
    " * The _unit ball_ is defined as $\\mathcal{B}_{p} = \\left\\{ \\boldsymbol{x} \\mid {\\left\\| \\boldsymbol{x} \\right\\|}_{p} \\leq 1 \\right\\}$.  \n",
    " * The _unit sphere_ is defined as: $\\mathcal{S}_{p} = \\left\\{ \\boldsymbol{x} \\mid {\\left\\| \\boldsymbol{x} \\right\\|}_{p} = 1 \\right\\}$."
   ]
  },
  {
   "cell_type": "code",
   "execution_count": null,
   "metadata": {},
   "outputs": [],
   "source": [
    "# Interactive Plot of the Unit Ball Interior\n",
    "\n",
    "hPlotLpNormUnitBall = lambda p: PlotLpNormUnitBall(mX, mX1, mX2, p, (6, 6))\n",
    "pSlider = FloatSlider(min = 0.25, max = 5.00, step = 0.25, value = 1.00, readout = False, readout_format = '.2f', layout = Layout(width = '30%'))\n",
    "interact(hPlotLpNormUnitBall, p = pSlider)\n",
    "plt.show()"
   ]
  }
 ],
 "metadata": {
  "kernelspec": {
   "display_name": "Python 3",
   "language": "python",
   "name": "python3"
  },
  "language_info": {
   "codemirror_mode": {
    "name": "ipython",
    "version": 3
   },
   "file_extension": ".py",
   "mimetype": "text/x-python",
   "name": "python",
   "nbconvert_exporter": "python",
   "pygments_lexer": "ipython3",
   "version": "3.12.5"
  },
  "toc": {
   "base_numbering": 1,
   "nav_menu": {},
   "number_sections": false,
   "sideBar": true,
   "skip_h1_title": false,
   "title_cell": "Table of Contents",
   "title_sidebar": "Contents",
   "toc_cell": false,
   "toc_position": {},
   "toc_section_display": true,
   "toc_window_display": false
  },
  "varInspector": {
   "cols": {
    "lenName": 16,
    "lenType": 16,
    "lenVar": 40
   },
   "kernels_config": {
    "python": {
     "delete_cmd_postfix": "",
     "delete_cmd_prefix": "del ",
     "library": "var_list.py",
     "varRefreshCmd": "print(var_dic_list())"
    },
    "r": {
     "delete_cmd_postfix": ") ",
     "delete_cmd_prefix": "rm(",
     "library": "var_list.r",
     "varRefreshCmd": "cat(var_dic_list()) "
    }
   },
   "types_to_exclude": [
    "module",
    "function",
    "builtin_function_or_method",
    "instance",
    "_Feature"
   ],
   "window_display": false
  },
  "vscode": {
   "interpreter": {
    "hash": "4c555be6fa9458c8c75b4612c68315d9f1d74815b73d0e564fda29ad772cfcda"
   }
  }
 },
 "nbformat": 4,
 "nbformat_minor": 4
}
