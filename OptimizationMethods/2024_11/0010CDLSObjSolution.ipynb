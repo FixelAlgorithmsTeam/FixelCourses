{
 "cells": [
  {
   "attachments": {},
   "cell_type": "markdown",
   "metadata": {},
   "source": [
    "[![Fixel Algorithms](https://fixelalgorithms.co/images/CCExt.png)](https://fixelalgorithms.gitlab.io)\n",
    "\n",
    "# Optimization Methods\n",
    "\n",
    "## Convex Optimization - Smooth Optimization - Coordinate Descent\n",
    "\n",
    "> Notebook by:\n",
    "> - Royi Avital RoyiAvital@fixelalgorithms.com\n",
    "\n",
    "## Revision History\n",
    "\n",
    "| Version | Date       | User        |Content / Changes                                                   |\n",
    "|---------|------------|-------------|--------------------------------------------------------------------|\n",
    "| 1.0.000 | 28/09/2024 | Royi Avital | First version                                                      |"
   ]
  },
  {
   "attachments": {},
   "cell_type": "markdown",
   "metadata": {},
   "source": [
    "[![Open In Colab](https://colab.research.google.com/assets/colab-badge.svg)](https://colab.research.google.com/github/FixelAlgorithmsTeam/FixelCourses/blob/master/AIProgram/2024_02/0008ObjectiveFunction.ipynb)"
   ]
  },
  {
   "cell_type": "code",
   "execution_count": null,
   "metadata": {
    "ExecuteTime": {
     "end_time": "2022-02-02T09:30:06.492269Z",
     "start_time": "2022-02-02T09:30:06.220934Z"
    }
   },
   "outputs": [],
   "source": [
    "# Import Packages\n",
    "\n",
    "# General Tools\n",
    "import numpy as np\n",
    "import scipy as sp\n",
    "import pandas as pd\n",
    "\n",
    "# Machine Learning\n",
    "\n",
    "# Miscellaneous\n",
    "import os\n",
    "import math\n",
    "from platform import python_version\n",
    "import random\n",
    "\n",
    "# Typing\n",
    "from typing import Callable, List, Tuple, Union\n",
    "\n",
    "# Visualization\n",
    "from matplotlib.colors import LogNorm, Normalize, PowerNorm\n",
    "import matplotlib.pyplot as plt\n",
    "import seaborn as sns\n",
    "\n",
    "# Jupyter\n",
    "from IPython import get_ipython\n",
    "from IPython.display import Image, display\n",
    "from ipywidgets import Dropdown, FloatSlider, interact, IntSlider, Layout"
   ]
  },
  {
   "attachments": {},
   "cell_type": "markdown",
   "metadata": {},
   "source": [
    "## Notations\n",
    "\n",
    "* <font color='red'>(**?**)</font> Question to answer interactively.\n",
    "* <font color='blue'>(**!**)</font> Simple task to add code for the notebook.\n",
    "* <font color='green'>(**@**)</font> Optional / Extra self practice.\n",
    "* <font color='brown'>(**#**)</font> Note / Useful resource / Food for thought.\n",
    "\n",
    "Code Notations:\n",
    "\n",
    "```python\n",
    "someVar    = 2; #<! Notation for a variable\n",
    "vVector    = np.random.rand(4) #<! Notation for 1D array\n",
    "mMatrix    = np.random.rand(4, 3) #<! Notation for 2D array\n",
    "tTensor    = np.random.rand(4, 3, 2, 3) #<! Notation for nD array (Tensor)\n",
    "tuTuple    = (1, 2, 3) #<! Notation for a tuple\n",
    "lList      = [1, 2, 3] #<! Notation for a list\n",
    "dDict      = {1: 3, 2: 2, 3: 1} #<! Notation for a dictionary\n",
    "oObj       = MyClass() #<! Notation for an object\n",
    "dfData     = pd.DataFrame() #<! Notation for a data frame\n",
    "dsData     = pd.Series() #<! Notation for a series\n",
    "hObj       = plt.Axes() #<! Notation for an object / handler / function handler\n",
    "```\n",
    "\n",
    "### Code Exercise\n",
    "\n",
    " - Single line fill\n",
    "\n",
    "```python\n",
    "valToFill = ???\n",
    "```\n",
    "\n",
    " - Multi Line to Fill (At least one)\n",
    "\n",
    "```python\n",
    "# You need to start writing\n",
    "?????\n",
    "```\n",
    "\n",
    " - Section to Fill\n",
    "\n",
    "```python\n",
    "#===========================Fill This===========================#\n",
    "# 1. Explanation about what to do.\n",
    "# !! Remarks to follow / take under consideration.\n",
    "mX = ???\n",
    "\n",
    "?????\n",
    "#===============================================================#\n",
    "```"
   ]
  },
  {
   "cell_type": "code",
   "execution_count": null,
   "metadata": {},
   "outputs": [],
   "source": [
    "# Configuration\n",
    "%matplotlib inline\n",
    "\n",
    "# warnings.filterwarnings(\"ignore\")\n",
    "\n",
    "seedNum = 512\n",
    "np.random.seed(seedNum)\n",
    "random.seed(seedNum)\n",
    "\n",
    "# sns.set_theme() #>! Apply SeaBorn theme\n",
    "# sns.set_palette(\"tab10\")\n",
    "\n",
    "runInGoogleColab = 'google.colab' in str(get_ipython())"
   ]
  },
  {
   "cell_type": "code",
   "execution_count": null,
   "metadata": {},
   "outputs": [],
   "source": [
    "# Constants\n",
    "\n",
    "FIG_SIZE_DEF    = (8, 8)\n",
    "ELM_SIZE_DEF    = 50\n",
    "CLASS_COLOR     = ('b', 'r')\n",
    "EDGE_COLOR      = 'k'\n",
    "MARKER_SIZE_DEF = 10\n",
    "LINE_WIDTH_DEF  = 2\n"
   ]
  },
  {
   "cell_type": "code",
   "execution_count": null,
   "metadata": {},
   "outputs": [],
   "source": [
    "# Course Packages\n",
    "\n",
    "from AuxFun import StepSizeMode\n",
    "from AuxFun import ProxGradientDescent\n",
    "\n",
    "from NumericDiff import DiffMode\n",
    "from NumericDiff import CalcFunGrad\n"
   ]
  },
  {
   "cell_type": "code",
   "execution_count": null,
   "metadata": {},
   "outputs": [],
   "source": [
    "# Auxiliary Functions\n",
    "\n"
   ]
  },
  {
   "cell_type": "code",
   "execution_count": null,
   "metadata": {},
   "outputs": [],
   "source": [
    "# Parameters\n",
    "\n",
    "# Data\n",
    "numRows = 20\n",
    "numCols = numRows\n",
    "\n",
    "# Numerical Differentiation\n",
    "diffMode    = DiffMode.CENTRAL\n",
    "ε           = 1e-6\n",
    "\n",
    "# Solver\n",
    "stepSizeMode    = StepSizeMode.ADAPTIVE\n",
    "μ               = 0.0005\n",
    "numIterations   = 10000"
   ]
  },
  {
   "attachments": {},
   "cell_type": "markdown",
   "metadata": {},
   "source": [
    "## Coordinate Descent\n",
    "\n",
    "The concept of _Coordinate Descent_ (CD) is decomposing the problem into a set of 1D problems.\n",
    "\n",
    "* <font color='brown'>(**#**)</font> The CD is the _Gradient Descent_ with respect to the ${L}_{1}$ norm.\n",
    "* <font color='brown'>(**#**)</font> There are some problems (See LASSO) where the CD approach is the most efficient."
   ]
  },
  {
   "cell_type": "markdown",
   "metadata": {},
   "source": [
    "### Least Squares by Coordinate Descent\n",
    "\n",
    "The problem is given by:\n",
    "\n",
    "$$ \\arg \\min_{\\boldsymbol{x}} \\frac{1}{2} {\\left\\| \\boldsymbol{A} \\boldsymbol{x} - \\boldsymbol{b} \\right\\|}_{2}^{2} $$\n",
    "\n"
   ]
  },
  {
   "cell_type": "markdown",
   "metadata": {},
   "source": [
    "## Generate Data\n"
   ]
  },
  {
   "cell_type": "markdown",
   "metadata": {},
   "source": [
    "The model is built with a _Symmetric Positive Definite_ (SPD) matrix."
   ]
  },
  {
   "cell_type": "code",
   "execution_count": null,
   "metadata": {},
   "outputs": [],
   "source": [
    "# Generate / Load the Data\n",
    "\n",
    "# Symmetric PD Matrix\n",
    "mA = np.random.randn(numRows, numCols)\n",
    "mA = mA.T @ mA + (0.95 * np.eye(numRows))\n",
    "mA = mA + mA.T\n",
    "\n",
    "vB = np.random.randn(numRows)\n",
    "\n",
    "# Objective Function\n",
    "hObjFun = lambda vX: 0.5 * np.sum(np.square(mA @ vX - vB))\n"
   ]
  },
  {
   "cell_type": "markdown",
   "metadata": {},
   "source": [
    "## Analysis"
   ]
  },
  {
   "cell_type": "markdown",
   "metadata": {},
   "source": [
    "### Gradient Function\n",
    "\n",
    "The gradient of the objective function is given by:\n",
    "\n",
    "$$ f \\left( \\boldsymbol{x} \\right) = \\frac{1}{2} {\\left\\| \\boldsymbol{A} \\boldsymbol{x} - \\boldsymbol{b} \\right\\|}_{2}^{2} \\implies \\nabla_{f} \\left( \\boldsymbol{x} \\right) = \\boldsymbol{A}^{T} \\left( \\boldsymbol{A} \\boldsymbol{x} - \\boldsymbol{b} \\right) $$\n",
    "\n",
    "The coordinate gradient is the Gradient along a specific axis."
   ]
  },
  {
   "cell_type": "code",
   "execution_count": null,
   "metadata": {},
   "outputs": [],
   "source": [
    "# The Gradient Function\n",
    "\n",
    "#===========================Fill This===========================#\n",
    "# 1. Implement the coordinate gradient as a Lambda function of `vX` and the index `jj`.\n",
    "# !! You may pre calculate values for efficient calculation.\n",
    "\n",
    "mAA = mA.T @ mA\n",
    "vAb = mA.T @ vB\n",
    "\n",
    "hGradFun = lambda vX, jj: np.dot(mAA[jj, :], vX) - vAb[jj]\n",
    "\n",
    "#===============================================================#"
   ]
  },
  {
   "cell_type": "code",
   "execution_count": null,
   "metadata": {},
   "outputs": [],
   "source": [
    "# Verify the Gradient Function\n",
    "\n",
    "vX = np.random.randn(numCols)\n",
    "vG = CalcFunGrad(vX, hObjFun, diffMode = diffMode, ε = ε)\n",
    "\n",
    "ii  = np.random.randint(numCols)\n",
    "vEi = np.zeros(numCols)\n",
    "vEi[ii] = 1\n",
    "\n",
    "\n",
    "assertCond = np.abs(np.dot(vG, vEi) - hGradFun(vX, ii)) <= (ε * np.abs(vG[ii])) #<! Can we use the implicit index instead of dot?\n",
    "assert assertCond, f'The gradient calculation deviation exceeds the threshold {ε}'\n",
    "\n",
    "print('The gradient function implementation is verified')"
   ]
  },
  {
   "cell_type": "markdown",
   "metadata": {},
   "source": [
    "### Coordinate Descent\n",
    "\n",
    "Implement the coordinate descent algorithm.\n",
    "\n",
    "* <font color='brown'>(**#**)</font> The CD algorithm makes sense when the directional derivative can be calculated efficiently."
   ]
  },
  {
   "cell_type": "code",
   "execution_count": null,
   "metadata": {},
   "outputs": [],
   "source": [
    "# Coordinate Descent\n",
    "\n",
    "#===========================Fill This===========================#\n",
    "# 1. Implement the coordinate gradient descent function.\n",
    "# !! You may pre calculate values for efficient calculation.\n",
    "\n",
    "def CoordinateDescent( mX: np.ndarray, hGradFun: Callable, μ: float ) -> np.ndarray:\n",
    "    \"\"\"\n",
    "    Input:\n",
    "      - mX                -   2D Matrix.\n",
    "                              The first column is the initialization.\n",
    "                              Structure: Matrix (dataDim * numIterations).\n",
    "                              Type: 'Single' / 'Double'.\n",
    "                              Range: (-inf, inf).\n",
    "      - hGradFun          -   The Gradient Function.\n",
    "                              A function to calculate the gradient.\n",
    "                              Its input is `vX`, `jj` for the location \n",
    "                              of the gradient and the component index.\n",
    "                              Structure: NA.\n",
    "                              Type: Callable.\n",
    "                              Range: NA.\n",
    "      - μ                 -   The Step Size.\n",
    "                              The descent step size.\n",
    "                              Structure: Scalar.\n",
    "                              Type: 'Single' / 'Double'.\n",
    "                              Range: (0, inf).\n",
    "    Output:\n",
    "      - mX                -   2D Matrix.\n",
    "                              All iterations results.\n",
    "                              Structure: Matrix (dataDim * numIterations).\n",
    "                              Type: 'Single' / 'Double'.\n",
    "                              Range: (-inf, inf).\n",
    "    \"\"\"\n",
    "\n",
    "    numComp         = np.size(mX, 0)\n",
    "    numIterations   = np.size(mX, 1)\n",
    "\n",
    "    for ii in range(1, numIterations):\n",
    "        mX[:, ii] = mX[:, ii - 1]\n",
    "        for jj in range(numComp):\n",
    "            valG = hGradFun(mX[:, ii], jj) #<! Directional Derivative\n",
    "            mX[jj, ii] -= μ * valG\n",
    "    \n",
    "    return mX\n",
    "\n",
    "#===============================================================#"
   ]
  },
  {
   "cell_type": "code",
   "execution_count": null,
   "metadata": {},
   "outputs": [],
   "source": [
    "# Solve by Coordinate Descent\n",
    "\n",
    "# Define Data\n",
    "mX      = np.zeros(shape = (numCols, numIterations))\n",
    "vObjVal = np.empty(numIterations)\n",
    "vArgErr = np.empty(numIterations)\n",
    "\n",
    "# Optimization\n",
    "mX = CoordinateDescent(mX, hGradFun, μ)"
   ]
  },
  {
   "cell_type": "code",
   "execution_count": null,
   "metadata": {},
   "outputs": [],
   "source": [
    "# Validation of Solution\n",
    "\n",
    "# Reference Solution\n",
    "vXRef, *_  = np.linalg.lstsq(mA, vB, rcond = None) #<! Equivalent to MATLAB's `\\` (`mldivide()`)\n",
    "objValRef  = hObjFun(vXRef)\n",
    "\n",
    "for ii in range(numIterations):\n",
    "    vObjVal[ii] = hObjFun(mX[:, ii])\n",
    "    vArgErr[ii] = np.linalg.norm(mX[:, ii] - vXRef)\n",
    "\n",
    "vObjVal = 20 * np.log10(np.abs(vObjVal - objValRef) / max(np.abs(objValRef), np.sqrt(np.spacing(1.0))))\n",
    "vArgErr = 20 * np.log10(np.abs(vArgErr) / max(np.linalg.norm(vXRef), np.sqrt(np.spacing(1.0))))"
   ]
  },
  {
   "cell_type": "code",
   "execution_count": null,
   "metadata": {},
   "outputs": [],
   "source": [
    "# Display Results\n",
    "\n",
    "hF, hA = plt.subplots(figsize = (12, 6))\n",
    "hA.plot(range(numIterations), vObjVal, lw = 2, label = 'Objective Function')\n",
    "hA.plot(range(numIterations), vArgErr, lw = 2, label = 'Argument Error')\n",
    "hA.set_xlabel('Iteration Index')\n",
    "hA.set_ylabel('Relative Error [dB]')\n",
    "hA.set_title('Coordinate Descent Convergence')\n",
    "\n",
    "hA.legend();"
   ]
  },
  {
   "cell_type": "markdown",
   "metadata": {},
   "source": [
    "* <font color='red'>(**?**)</font> Check the sensitivity to the step size by checking larger / smaller step size.\n",
    "* <font color='blue'>(**!**)</font> Replace the use of the `CoordinateDescent()` function with the `CoordinateDescent` class (`from AuxFun import CoordinateDescent`).  \n",
    "Use the adaptive step size mode and check the sensitivity to the step size."
   ]
  }
 ],
 "metadata": {
  "kernelspec": {
   "display_name": "Python 3",
   "language": "python",
   "name": "python3"
  },
  "language_info": {
   "codemirror_mode": {
    "name": "ipython",
    "version": 3
   },
   "file_extension": ".py",
   "mimetype": "text/x-python",
   "name": "python",
   "nbconvert_exporter": "python",
   "pygments_lexer": "ipython3",
   "version": "3.12.7"
  },
  "toc": {
   "base_numbering": 1,
   "nav_menu": {},
   "number_sections": false,
   "sideBar": true,
   "skip_h1_title": false,
   "title_cell": "Table of Contents",
   "title_sidebar": "Contents",
   "toc_cell": false,
   "toc_position": {},
   "toc_section_display": true,
   "toc_window_display": true
  },
  "varInspector": {
   "cols": {
    "lenName": 16,
    "lenType": 16,
    "lenVar": 40
   },
   "kernels_config": {
    "python": {
     "delete_cmd_postfix": "",
     "delete_cmd_prefix": "del ",
     "library": "var_list.py",
     "varRefreshCmd": "print(var_dic_list())"
    },
    "r": {
     "delete_cmd_postfix": ") ",
     "delete_cmd_prefix": "rm(",
     "library": "var_list.r",
     "varRefreshCmd": "cat(var_dic_list()) "
    }
   },
   "types_to_exclude": [
    "module",
    "function",
    "builtin_function_or_method",
    "instance",
    "_Feature"
   ],
   "window_display": false
  },
  "vscode": {
   "interpreter": {
    "hash": "39577bab1f263e62e0b74f5b8086bd735049bf4751f6562b2d4b2969dc308293"
   }
  }
 },
 "nbformat": 4,
 "nbformat_minor": 4
}
