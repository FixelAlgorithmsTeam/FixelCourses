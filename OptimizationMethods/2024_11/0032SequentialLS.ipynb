{
 "cells": [
  {
   "attachments": {},
   "cell_type": "markdown",
   "metadata": {},
   "source": [
    "[![Fixel Algorithms](https://fixelalgorithms.co/images/CCExt.png)](https://fixelalgorithms.gitlab.io)\n",
    "\n",
    "# Optimization Methods\n",
    "\n",
    "## SVD & Linear Least Squares - Sequential Least Squares\n",
    "\n",
    "> Notebook by:\n",
    "> - Royi Avital RoyiAvital@fixelalgorithms.com\n",
    "\n",
    "## Revision History\n",
    "\n",
    "| Version | Date       | User        |Content / Changes                                                   |\n",
    "|---------|------------|-------------|--------------------------------------------------------------------|\n",
    "| 1.0.000 | 12/11/2024 | Royi Avital | First version                                                      |"
   ]
  },
  {
   "attachments": {},
   "cell_type": "markdown",
   "metadata": {},
   "source": [
    "[![Open In Colab](https://colab.research.google.com/assets/colab-badge.svg)](https://colab.research.google.com/github/FixelAlgorithmsTeam/FixelCourses/blob/master/AIProgram/2024_02/0012LinearFitL1.ipynb)"
   ]
  },
  {
   "cell_type": "code",
   "execution_count": null,
   "metadata": {
    "ExecuteTime": {
     "end_time": "2022-02-02T09:30:06.492269Z",
     "start_time": "2022-02-02T09:30:06.220934Z"
    }
   },
   "outputs": [],
   "source": [
    "# Import Packages\n",
    "\n",
    "# General Tools\n",
    "import numpy as np\n",
    "import scipy as sp\n",
    "import pandas as pd\n",
    "\n",
    "import numba\n",
    "\n",
    "# Machine Learning\n",
    "\n",
    "# Optimization\n",
    "\n",
    "# Image Processing / Computer Vision\n",
    "\n",
    "# Miscellaneous\n",
    "import math\n",
    "from platform import python_version\n",
    "import random\n",
    "import time\n",
    "\n",
    "# Typing\n",
    "from typing import Callable, List, Optional, Tuple, Union\n",
    "\n",
    "# Visualization\n",
    "import matplotlib.pyplot as plt\n",
    "\n",
    "# Jupyter\n",
    "from IPython import get_ipython\n",
    "from ipywidgets import IntSlider, Layout, interact"
   ]
  },
  {
   "attachments": {},
   "cell_type": "markdown",
   "metadata": {},
   "source": [
    "## Notations\n",
    "\n",
    "* <font color='red'>(**?**)</font> Question to answer interactively.\n",
    "* <font color='blue'>(**!**)</font> Simple task to add code for the notebook.\n",
    "* <font color='green'>(**@**)</font> Optional / Extra self practice.\n",
    "* <font color='brown'>(**#**)</font> Note / Useful resource / Food for thought.\n",
    "\n",
    "Code Notations:\n",
    "\n",
    "```python\n",
    "someVar    = 2; #<! Notation for a variable\n",
    "vVector    = np.random.rand(4) #<! Notation for 1D array\n",
    "mMatrix    = np.random.rand(4, 3) #<! Notation for 2D array\n",
    "tTensor    = np.random.rand(4, 3, 2, 3) #<! Notation for nD array (Tensor)\n",
    "tuTuple    = (1, 2, 3) #<! Notation for a tuple\n",
    "lList      = [1, 2, 3] #<! Notation for a list\n",
    "dDict      = {1: 3, 2: 2, 3: 1} #<! Notation for a dictionary\n",
    "oObj       = MyClass() #<! Notation for an object\n",
    "dfData     = pd.DataFrame() #<! Notation for a data frame\n",
    "dsData     = pd.Series() #<! Notation for a series\n",
    "hObj       = plt.Axes() #<! Notation for an object / handler / function handler\n",
    "```\n",
    "\n",
    "### Code Exercise\n",
    "\n",
    " - Single line fill\n",
    "\n",
    "```python\n",
    "vallToFill = ???\n",
    "```\n",
    "\n",
    " - Multi Line to Fill (At least one)\n",
    "\n",
    "```python\n",
    "# You need to start writing\n",
    "?????\n",
    "```\n",
    "\n",
    " - Section to Fill\n",
    "\n",
    "```python\n",
    "#===========================Fill This===========================#\n",
    "# 1. Explanation about what to do.\n",
    "# !! Remarks to follow / take under consideration.\n",
    "mX = ???\n",
    "\n",
    "?????\n",
    "#===============================================================#\n",
    "```"
   ]
  },
  {
   "cell_type": "code",
   "execution_count": null,
   "metadata": {},
   "outputs": [],
   "source": [
    "# Configuration\n",
    "# %matplotlib inline\n",
    "\n",
    "# warnings.filterwarnings(\"ignore\")\n",
    "\n",
    "seedNum = 640 # 512\n",
    "np.random.seed(seedNum)\n",
    "random.seed(seedNum)\n",
    "\n",
    "# Matplotlib default color palette\n",
    "lMatPltLibclr = ['#1f77b4', '#ff7f0e', '#2ca02c', '#d62728', '#9467bd', '#8c564b', '#e377c2', '#7f7f7f', '#bcbd22', '#17becf']\n",
    "# sns.set_theme() #>! Apply SeaBorn theme\n",
    "# sns.set_palette(\"tab10\")\n",
    "\n",
    "runInGoogleColab = 'google.colab' in str(get_ipython())"
   ]
  },
  {
   "cell_type": "code",
   "execution_count": null,
   "metadata": {},
   "outputs": [],
   "source": [
    "# Constants\n",
    "\n",
    "FIG_SIZE_DEF    = (8, 8)\n",
    "ELM_SIZE_DEF    = 50\n",
    "CLASS_COLOR     = ('b', 'r')\n",
    "EDGE_COLOR      = 'k'\n",
    "MARKER_SIZE_DEF = 10\n",
    "LINE_WIDTH_DEF  = 2\n"
   ]
  },
  {
   "cell_type": "code",
   "execution_count": null,
   "metadata": {},
   "outputs": [],
   "source": [
    "# Course Packages\n"
   ]
  },
  {
   "cell_type": "code",
   "execution_count": null,
   "metadata": {},
   "outputs": [],
   "source": [
    "# Auxiliary Functions\n",
    "\n",
    "def SequentialLeastSquares(vX: np.ndarray, valB: float, vA: np.ndarray, mR: np.ndarray) -> Tuple[np.ndarray, np.ndarray]:\n",
    "\n",
    "    vRA = mR @ vA\n",
    "    mR -= np.outer(vRA, vRA) / (1.0 + vA.T @ vRA)\n",
    "    vK  = mR @ vA\n",
    "    vX += vK * (valB - vA.T @ vX)\n",
    "\n",
    "    return vX, mR\n"
   ]
  },
  {
   "cell_type": "code",
   "execution_count": null,
   "metadata": {},
   "outputs": [],
   "source": [
    "# Parameters\n",
    "\n",
    "# Data\n",
    "modelOrder      = 3 #<! Polynomial Order / Degree\n",
    "numSamples      = 25\n",
    "numSamplesInit  = 5\n",
    "σ               = 2 #<! Noise STD\n"
   ]
  },
  {
   "cell_type": "markdown",
   "metadata": {},
   "source": [
    "## Sequential Least Squares\n",
    "\n",
    "The Sequential Least Squares deal with integrating new data samples in an optimal way computationally.  \n",
    "Let $\\boldsymbol{x}^{k}$ be the LS solution of $k$ data samples:\n",
    "\n",
    "$$ \\boldsymbol{x}_{k} = \\arg \\min_{\\boldsymbol{x}} \\frac{1}{2} {\\left\\| \\boldsymbol{A} \\boldsymbol{x} - \\boldsymbol{b} \\right\\|}_{2}^{2}, \\; \\boldsymbol{b} \\in \\mathbb{R}^{k} $$\n",
    "\n",
    "Given a new samples, ${b}_{k + 1}$, the updated LS solution is given by:\n",
    "\n",
    "$$ \\boldsymbol{x}_{k + 1} = \\boldsymbol{x}_{k} + \\boldsymbol{k}_{k + 1} \\left( {b}_{k + 1} - \\boldsymbol{a}_{k + 1}^{T} \\boldsymbol{x}_{k} \\right)  $$\n",
    "\n",
    "Where\n",
    " - $\\left( {b}_{k + 1} - \\boldsymbol{a}_{k + 1}^{T} \\boldsymbol{x}_{k} \\right)$ - The prediction error.\n",
    " - $\\boldsymbol{k}_{k + 1} = \\boldsymbol{R}_{k + 1} \\boldsymbol{a}_{k + 1}$ - The error gain.\n",
    " - $\\boldsymbol{R}_{k + 1} = \\boldsymbol{R}_{k} - \\frac{ \\boldsymbol{R}_{k} \\boldsymbol{a}_{k} \\boldsymbol{a}_{k} \\boldsymbol{a}_{k}^{T} \\boldsymbol{R}_{k} }{ 1 + \\boldsymbol{a}_{k}^{T} \\boldsymbol{R}_{k} \\boldsymbol{a}_{k} }$.\n",
    "\n",
    "The initialization is done by solving the LS problem on an initial batch of $n$ samples:\n",
    " - $\\boldsymbol{R}_{n} = {\\left( \\boldsymbol{A}_{n}^{T} \\boldsymbol{A}_{n} \\right)}^{-1}$.\n",
    " - $\\boldsymbol{x}_{n} = \\boldsymbol{R}_{n} \\boldsymbol{A}_{n}^{T} \\boldsymbol{b}_{n}$.\n",
    "\n",
    "\n",
    "</br>\n",
    "\n",
    "* <font color='brown'>(**#**)</font> The method is often called [_Recursive Least Squares_](https://en.wikipedia.org/wiki/Recursive_least_squares_filter). Though there is a different Recursive Order Least Squares filter.\n",
    "* <font color='brown'>(**#**)</font> The method can be extended for the case of updating a batch at once.\n",
    "* <font color='brown'>(**#**)</font> For the regularized form, for solving $\\arg \\min_{\\boldsymbol{x}} \\frac{1}{2} {\\left\\| \\boldsymbol{A} \\boldsymbol{x} - \\boldsymbol{b} \\right\\|}_{2}^{2} + \\lambda { \\left\\| \\boldsymbol{C} \\boldsymbol{x} \\right\\| }_{2}^{2}$, the only change needed is the initialization: $\\boldsymbol{R}_{n} = {\\left( \\boldsymbol{A}_{n}^{T} \\boldsymbol{A}_{n} + \\lambda \\boldsymbol{C}^{T} \\boldsymbol{C} \\right)}^{-1}$.\n",
    "* <font color='brown'>(**#**)</font> For derivation see [Sequential Form of the Least Squares Estimator for Linear Least Squares Model](https://dsp.stackexchange.com/a/56670).\n"
   ]
  },
  {
   "cell_type": "markdown",
   "metadata": {},
   "source": [
    "## Generate Data\n"
   ]
  },
  {
   "cell_type": "markdown",
   "metadata": {},
   "source": [
    "The data model is polynomial."
   ]
  },
  {
   "cell_type": "code",
   "execution_count": null,
   "metadata": {},
   "outputs": [],
   "source": [
    "# Generate / Load the Data\n",
    "\n",
    "vA = np.linspace(0, 3, numSamples)\n",
    "mA = np.power(vA[:, None], np.arange(modelOrder + 1)[None, :])\n",
    "vX = 3 * np.random.randn(modelOrder + 1) #<! Parameters (Ground truth)\n",
    "vN = σ * np.random.randn(numSamples)\n",
    "vZ = mA @ vX #<! Model Data\n",
    "vB = vZ + vN #<! Measurements\n"
   ]
  },
  {
   "cell_type": "code",
   "execution_count": null,
   "metadata": {},
   "outputs": [],
   "source": [
    "# Display Data \n",
    "\n",
    "hF, hA = plt.subplots(figsize = (10, 6))\n",
    "hA.plot(vA, vZ, linewidth = 2, label = 'Data Model')\n",
    "hA.scatter(vA, vB, s = 20, c = 'm', label = 'Data Samples')\n",
    "hA.set(xlabel = 'Sample Index', ylabel = 'Sample Value', title = 'Model and Noisy Samples')\n",
    "\n",
    "hA.legend();"
   ]
  },
  {
   "cell_type": "markdown",
   "metadata": {},
   "source": [
    "* <font color='red'>(**?**)</font> How many parameters for the model? What's the data degree? Explain."
   ]
  },
  {
   "cell_type": "markdown",
   "metadata": {},
   "source": [
    "## The Least Squares Solution\n",
    "\n",
    "This section calculates the solution for the Ordinary Least Squares model."
   ]
  },
  {
   "cell_type": "code",
   "execution_count": null,
   "metadata": {},
   "outputs": [],
   "source": [
    "# Least Squares Solution\n",
    "\n",
    "#===========================Fill This===========================#\n",
    "# 1. Calculate the least squares solution.\n",
    "# 2. The given data: `mA`, 'vB`. Name the solution `vXLS`.\n",
    "# !! You may find `np.linalg.lstsq()` useful.\n",
    "\n",
    "vXLS, *_ = np.linalg.lstsq(mA, vB, rcond = None)\n",
    "#===============================================================#"
   ]
  },
  {
   "cell_type": "markdown",
   "metadata": {},
   "source": [
    "* <font color='red'>(**?**)</font> Will the result be better than the sequential result?"
   ]
  },
  {
   "cell_type": "markdown",
   "metadata": {},
   "source": [
    "## The Sequential Least Squares Solution\n",
    "\n",
    "This section applies the _Sequential Least Squares_ method."
   ]
  },
  {
   "cell_type": "code",
   "execution_count": null,
   "metadata": {},
   "outputs": [],
   "source": [
    "# Sequential Least Squares Solution\n",
    "\n",
    "#===========================Fill This===========================#\n",
    "# 1. Calculate the sequential least squares solution.\n",
    "# 2. The given data: `mA`, 'vB`.\n",
    "# 3. The initial solution and the iteration solution should be incorporated into `mXSLS`.\n",
    "# !! You may find `SequnetialLeastSquares()` useful.\n",
    "\n",
    "mXSLS = np.zeros(shape = (numSamples - numSamplesInit + 1, len(vX)))\n",
    "\n",
    "# Initialization\n",
    "mAn   = mA[:numSamplesInit, :]\n",
    "mR    = np.linalg.pinv(mAn.T @ mAn)\n",
    "vXSLS = mR @ (mAn.T @ vB[:numSamplesInit])\n",
    "\n",
    "kk = 0\n",
    "mXSLS[kk] = np.copy(vXSLS)\n",
    "for ii in range(numSamplesInit, numSamples):\n",
    "    kk       += 1\n",
    "    valB      = vB[ii]\n",
    "    vAk       = mA[ii]\n",
    "    vXSLS, mR = SequentialLeastSquares(vXSLS, valB, vAk, mR)\n",
    "    mXSLS[kk] = np.copy(vXSLS)\n",
    "#===============================================================#\n"
   ]
  },
  {
   "cell_type": "markdown",
   "metadata": {},
   "source": [
    "* <font color='brown'>(**#**)</font> The matrix $\\boldsymbol{R}$ is the LS Estimator Covariance Matrix.\n",
    "* <font color='brown'>(**#**)</font> The model can be extended for the _Weighted Least Squares_ model with the initialization $\\boldsymbol{R}_{n} = {\\left( \\boldsymbol{A}_{n}^{T} \\boldsymbol{W} \\boldsymbol{A}_{n} \\right)}^{-1}, \\; \\boldsymbol{x}_{n} = \\boldsymbol{R}_{n} \\boldsymbol{A}_{n}^{T} \\boldsymbol{W} \\boldsymbol{b}_{n}$.\n",
    "* <font color='red'>(**?**)</font> At `kk = 2`, what is the solution meaning? What is it equivalent to?\n",
    "* <font color='blue'>(**!**)</font> Adjust the above to the model of Ridge Regression with regularization term $\\frac{\\alpha}{2} {\\left\\| \\boldsymbol{x} \\right\\|}_{2}^{2}$."
   ]
  },
  {
   "cell_type": "markdown",
   "metadata": {},
   "source": [
    "## Display Results"
   ]
  },
  {
   "cell_type": "code",
   "execution_count": null,
   "metadata": {},
   "outputs": [],
   "source": [
    "# Display Data Function\n",
    "\n",
    "def DisplaySLS( dataIdx: int, vA: np.ndarray, mA: np.ndarray, vB: np.ndarray, mXSLS: np.ndarray, vXLS: np.ndarray, vZ: np.ndarray, numSamplesInit: int ) -> plt.Axes:\n",
    "\n",
    "    hF, hA = plt.subplots(figsize = (8, 6))\n",
    "\n",
    "    vS = 20 * np.ones_like(vB)\n",
    "    vS[:(numSamplesInit + dataIdx)] *= 3\n",
    "\n",
    "    hA.plot(vA, vZ, linewidth = 2, label = 'Data Model')\n",
    "    hA.scatter(vA, vB, s = vS, c = 'm', label = 'Data Samples')\n",
    "    hA.plot(vA, mA @ vXLS, linewidth = 1.5, label = 'Least Squares Estimator')\n",
    "    hA.plot(vA, mA @ mXSLS[dataIdx], linewidth = 1.5, label = 'Sequential Least Squares Estimator')\n",
    "    \n",
    "    hA.set(xlabel = 'Sample Index', ylabel = 'Sample Value', title = f'SLS Estimator with {numSamplesInit + dataIdx} Samples');\n",
    "    \n",
    "    hA.legend();\n",
    "    \n",
    "    return hA\n",
    "\n",
    "    "
   ]
  },
  {
   "cell_type": "code",
   "execution_count": null,
   "metadata": {},
   "outputs": [],
   "source": [
    "# Auxiliary Function\n",
    "\n",
    "hDisplaySLS = lambda dataIdx: DisplaySLS(dataIdx, vA, mA, vB, mXSLS, vXLS, vZ, numSamplesInit)"
   ]
  },
  {
   "cell_type": "code",
   "execution_count": null,
   "metadata": {},
   "outputs": [],
   "source": [
    "# Display Data \n",
    "\n",
    "kkSlider = IntSlider(value = 0, min = 0, max = len(mXSLS) - 1, step = 1, description = 'Iteration Index', readout = True, readout_format = 'd', layout = Layout(width = '45%'))\n",
    "interact(hDisplaySLS, dataIdx = kkSlider);\n"
   ]
  },
  {
   "cell_type": "markdown",
   "metadata": {},
   "source": [
    "* <font color='red'>(**?**)</font> Why is the estimator so bad at initialization and first samples?"
   ]
  }
 ],
 "metadata": {
  "kernelspec": {
   "display_name": "Python 3",
   "language": "python",
   "name": "python3"
  },
  "language_info": {
   "codemirror_mode": {
    "name": "ipython",
    "version": 3
   },
   "file_extension": ".py",
   "mimetype": "text/x-python",
   "name": "python",
   "nbconvert_exporter": "python",
   "pygments_lexer": "ipython3",
   "version": "3.12.8"
  },
  "toc": {
   "base_numbering": 1,
   "nav_menu": {},
   "number_sections": false,
   "sideBar": true,
   "skip_h1_title": false,
   "title_cell": "Table of Contents",
   "title_sidebar": "Contents",
   "toc_cell": false,
   "toc_position": {},
   "toc_section_display": true,
   "toc_window_display": true
  },
  "varInspector": {
   "cols": {
    "lenName": 16,
    "lenType": 16,
    "lenVar": 40
   },
   "kernels_config": {
    "python": {
     "delete_cmd_postfix": "",
     "delete_cmd_prefix": "del ",
     "library": "var_list.py",
     "varRefreshCmd": "print(var_dic_list())"
    },
    "r": {
     "delete_cmd_postfix": ") ",
     "delete_cmd_prefix": "rm(",
     "library": "var_list.r",
     "varRefreshCmd": "cat(var_dic_list()) "
    }
   },
   "types_to_exclude": [
    "module",
    "function",
    "builtin_function_or_method",
    "instance",
    "_Feature"
   ],
   "window_display": false
  },
  "vscode": {
   "interpreter": {
    "hash": "39577bab1f263e62e0b74f5b8086bd735049bf4751f6562b2d4b2969dc308293"
   }
  }
 },
 "nbformat": 4,
 "nbformat_minor": 4
}
