{
 "cells": [
  {
   "attachments": {},
   "cell_type": "markdown",
   "metadata": {},
   "source": [
    "[![Fixel Algorithms](https://fixelalgorithms.co/images/CCExt.png)](https://fixelalgorithms.gitlab.io)\n",
    "\n",
    "# Optimization Methods\n",
    "\n",
    "## Discrete Optimization - Solving the KnapSack Problem\n",
    "\n",
    "> Notebook by:\n",
    "> - Royi Avital RoyiAvital@fixelalgorithms.com\n",
    "\n",
    "## Revision History\n",
    "\n",
    "| Version | Date       | User        |Content / Changes                                                   |\n",
    "|---------|------------|-------------|--------------------------------------------------------------------|\n",
    "| 1.0.000 | 31/08/2025 | Royi Avital | First version                                                      |"
   ]
  },
  {
   "attachments": {},
   "cell_type": "markdown",
   "metadata": {},
   "source": [
    "[![Open In Colab](https://colab.research.google.com/assets/colab-badge.svg)](https://colab.research.google.com/github/FixelAlgorithmsTeam/FixelCourses/blob/master/AIProgram/2024_02/0012LinearFitL1.ipynb)"
   ]
  },
  {
   "cell_type": "code",
   "execution_count": null,
   "metadata": {
    "ExecuteTime": {
     "end_time": "2022-02-02T09:30:06.492269Z",
     "start_time": "2022-02-02T09:30:06.220934Z"
    }
   },
   "outputs": [],
   "source": [
    "# Import Packages\n",
    "\n",
    "# General Tools\n",
    "import numpy as np\n",
    "import scipy as sp\n",
    "import pandas as pd\n",
    "\n",
    "# Machine Learning\n",
    "\n",
    "# Optimization\n",
    "import cvxpy as cp\n",
    "\n",
    "# Image Processing / Computer Vision\n",
    "\n",
    "# Miscellaneous\n",
    "import math\n",
    "from platform import python_version\n",
    "import random\n",
    "\n",
    "# Typing\n",
    "from typing import Callable, List, Optional, Tuple, Union\n",
    "\n",
    "# Visualization\n",
    "from matplotlib.patches import Rectangle\n",
    "import matplotlib.pyplot as plt\n",
    "\n",
    "# Jupyter\n",
    "from IPython import get_ipython"
   ]
  },
  {
   "attachments": {},
   "cell_type": "markdown",
   "metadata": {},
   "source": [
    "## Notations\n",
    "\n",
    "* <font color='red'>(**?**)</font> Question to answer interactively.\n",
    "* <font color='blue'>(**!**)</font> Simple task to add code for the notebook.\n",
    "* <font color='green'>(**@**)</font> Optional / Extra self practice.\n",
    "* <font color='brown'>(**#**)</font> Note / Useful resource / Food for thought.\n",
    "\n",
    "Code Notations:\n",
    "\n",
    "```python\n",
    "someVar    = 2; #<! Notation for a variable\n",
    "vVector    = np.random.rand(4) #<! Notation for 1D array\n",
    "mMatrix    = np.random.rand(4, 3) #<! Notation for 2D array\n",
    "tTensor    = np.random.rand(4, 3, 2, 3) #<! Notation for nD array (Tensor)\n",
    "tuTuple    = (1, 2, 3) #<! Notation for a tuple\n",
    "lList      = [1, 2, 3] #<! Notation for a list\n",
    "dDict      = {1: 3, 2: 2, 3: 1} #<! Notation for a dictionary\n",
    "oObj       = MyClass() #<! Notation for an object\n",
    "dfData     = pd.DataFrame() #<! Notation for a data frame\n",
    "dsData     = pd.Series() #<! Notation for a series\n",
    "hObj       = plt.Axes() #<! Notation for an object / handler / function handler\n",
    "```\n",
    "\n",
    "### Code Exercise\n",
    "\n",
    " - Single line fill\n",
    "\n",
    "```python\n",
    "valToFill = ???\n",
    "```\n",
    "\n",
    " - Multi Line to Fill (At least one)\n",
    "\n",
    "```python\n",
    "# You need to start writing\n",
    "?????\n",
    "```\n",
    "\n",
    " - Section to Fill\n",
    "\n",
    "```python\n",
    "#===========================Fill This===========================#\n",
    "# 1. Explanation about what to do.\n",
    "# !! Remarks to follow / take under consideration.\n",
    "mX = ???\n",
    "\n",
    "?????\n",
    "#===============================================================#\n",
    "```"
   ]
  },
  {
   "cell_type": "code",
   "execution_count": null,
   "metadata": {},
   "outputs": [],
   "source": [
    "# Configuration\n",
    "# %matplotlib inline\n",
    "\n",
    "# warnings.filterwarnings(\"ignore\")\n",
    "\n",
    "seedNum = 640 # 512\n",
    "np.random.seed(seedNum)\n",
    "random.seed(seedNum)\n",
    "\n",
    "# Matplotlib default color palette\n",
    "lMatPltLibclr = ['#1f77b4', '#ff7f0e', '#2ca02c', '#d62728', '#9467bd', '#8c564b', '#e377c2', '#7f7f7f', '#bcbd22', '#17becf']\n",
    "# sns.set_theme() #>! Apply SeaBorn theme\n",
    "# sns.set_palette(\"tab10\")\n",
    "\n",
    "runInGoogleColab = 'google.colab' in str(get_ipython())"
   ]
  },
  {
   "cell_type": "code",
   "execution_count": null,
   "metadata": {},
   "outputs": [],
   "source": [
    "# Constants\n",
    "\n",
    "FIG_SIZE_DEF    = (8, 8)\n",
    "ELM_SIZE_DEF    = 50\n",
    "CLASS_COLOR     = ('b', 'r')\n",
    "EDGE_COLOR      = 'k'\n",
    "MARKER_SIZE_DEF = 10\n",
    "LINE_WIDTH_DEF  = 2"
   ]
  },
  {
   "cell_type": "code",
   "execution_count": null,
   "metadata": {},
   "outputs": [],
   "source": [
    "# Course Packages\n"
   ]
  },
  {
   "cell_type": "code",
   "execution_count": null,
   "metadata": {},
   "outputs": [],
   "source": [
    "# Auxiliary Functions\n",
    "\n"
   ]
  },
  {
   "cell_type": "code",
   "execution_count": null,
   "metadata": {},
   "outputs": [],
   "source": [
    "# Parameters\n",
    "\n"
   ]
  },
  {
   "cell_type": "markdown",
   "metadata": {},
   "source": [
    "## The KnapSack Problem\n",
    "\n",
    "The [KnapSack Problem](https://en.wikipedia.org/wiki/Knapsack_problem) is a well known combinatorial problem.  \n",
    "It is a resource allocation problem which can be formed as an Integer (Binary) Linear Programming (ILP).\n",
    "\n",
    "The [Knapsack Problem has many variations](https://en.wikipedia.org/wiki/List_of_knapsack_problems).  \n",
    "This notebook solves the $\\left\\{ 0, 1 \\right\\}$ problem.\n",
    "\n",
    "![](https://i.imgur.com/iargToR.png)\n",
    "<!-- ![](https://i.postimg.cc/cC69GQD7/Knapsack-Problem-Illustration-svg.png) -->\n",
    "\n",
    "> Given a set of $n$ items, each with a weight ${w}_{i}$ and a utility value ${v}_{i}$.  \n",
    "> Select the sub set of items which maximizes the sum of values while not exceeding the total weight limit $W$.\n",
    "\n",
    "* <font color='brown'>(**#**)</font> The formulation is general enough to be an effective representation of many real world use cases about optimizing choices.\n",
    "* <font color='brown'>(**#**)</font> In general, the Knapsack Problem is NP Hard.\n",
    "* <font color='brown'>(**#**)</font> The KnapSack problem can be effectively solved using Dynamic Programming."
   ]
  },
  {
   "cell_type": "markdown",
   "metadata": {},
   "source": [
    "## Generate Data\n"
   ]
  },
  {
   "cell_type": "markdown",
   "metadata": {},
   "source": [
    "The data is given as:\n",
    "\n",
    "| **Item**       | **Weight**  | **Utility** |\n",
    "|----------------|-------------|-------------|\n",
    "| Ant Repellent  | 1           | 2           |\n",
    "| Beer           | 3           | 9           |\n",
    "| Blanket        | 4           | 3           |\n",
    "| Bratwurst      | 3           | 8           |\n",
    "| Brownies       | 3           | 10          |\n",
    "| Frisbee        | 1           | 6           |\n",
    "| Salad          | 5           | 4           |\n",
    "| Watermelon     | 10          | 10          |\n",
    "\n",
    "\n",
    "* <font color='brown'>(**#**)</font> You may use [Kaggle - Knapsack Problem Data](https://www.kaggle.com/datasets/warcoder/knapsack-problem) for more samples and solutions."
   ]
  },
  {
   "cell_type": "code",
   "execution_count": null,
   "metadata": {},
   "outputs": [],
   "source": [
    "# Generate / Load the Data\n",
    "\n",
    "lN = ['Ant Repellent', 'Beer', 'Blanket', 'Bratwurst', 'Brownies', 'Frisbee', 'Salad', 'Watermelon']\n",
    "vW = np.array([1.0, 3.0, 4.0, 3.0,  3.0, 1.0, 5.0, 10.0])\n",
    "vV = np.array([2.0, 9.0, 3.0, 8.0, 10.0, 6.0, 4.0, 10.0])\n",
    "\n",
    "numItm = len(lN)"
   ]
  },
  {
   "cell_type": "code",
   "execution_count": null,
   "metadata": {},
   "outputs": [],
   "source": [
    "# Display Data \n",
    "\n",
    "hF, hA = plt.subplots(figsize = (8, 8))\n",
    "hA.bar(np.arange(numItm), vW, width = 0.25, align = 'edge', color = 'b', alpha = 0.75, label = 'Weight')\n",
    "hA.bar(np.arange(numItm), vV, width = -0.25, align = 'edge', color = 'r', alpha = 0.75, label = 'Utility')\n",
    "hA.set_xticks(np.arange(numItm))\n",
    "hA.set_xticklabels(lN, rotation = 45, ha = 'right')\n",
    "hA.set_xlabel('Item Index')\n",
    "hA.legend();"
   ]
  },
  {
   "cell_type": "markdown",
   "metadata": {},
   "source": [
    "* <font color='red'>(**?**)</font> Think of a model to solve the problem with _Integer Programming_."
   ]
  },
  {
   "cell_type": "markdown",
   "metadata": {},
   "source": [
    "## Solve the Linear Programming Problem"
   ]
  },
  {
   "cell_type": "code",
   "execution_count": null,
   "metadata": {},
   "outputs": [],
   "source": [
    "# DCP Solution\n",
    "\n",
    "#===========================Fill This===========================#\n",
    "# 1. Formulate the problem in CVXPY.  \n",
    "#    Use `vX` for the optimal argument.\n",
    "# !! Pay attention to enforce a valid answer.\n",
    "\n",
    "# Model Data\n",
    "vX = cp.Variable(numItm) #<! Variable\n",
    "\n",
    "# Model Problem\n",
    "cpObjFun = cp.Maximize(vV @ vX) #<! Objective Function\n",
    "cpConst  = [vX >= 0, vX <= 0] #<! Constraints\n",
    "oCvxPrb  = cp.Problem(cpObjFun, cpConst) #<! Problem\n",
    "\n",
    "oCvxPrb.solve(solver = cp.SCIP)\n",
    "#===============================================================#\n",
    "\n",
    "vXLP    = vX.value\n",
    "vXLPRnd = np.round(vX.value)\n",
    "\n",
    "assert (oCvxPrb.status == 'optimal'), 'The problem is not solved.'\n",
    "print('Problem is solved.')"
   ]
  },
  {
   "cell_type": "markdown",
   "metadata": {},
   "source": [
    "## Solve the Integer Linear Programming"
   ]
  },
  {
   "cell_type": "code",
   "execution_count": null,
   "metadata": {},
   "outputs": [],
   "source": [
    "# DCP Solution\n",
    "\n",
    "#===========================Fill This===========================#\n",
    "# 1. Formulate the problem in CVXPY.  \n",
    "#    Use `vX` for the optimal argument.\n",
    "# !! You may find `cp.Variable(<>, boolean = True)` useful.\n",
    "\n",
    "# Model Data\n",
    "vX = cp.Variable(numItm, boolean = True) #<! Variable\n",
    "\n",
    "# Model Problem\n",
    "cpObjFun = cp.Maximize(vV @ vX) #<! Objective Function\n",
    "cpConst  = [vX >= 0, vX <= 0] #<! Constraints\n",
    "oCvxPrb  = cp.Problem(cpObjFun, cpConst) #<! Problem\n",
    "\n",
    "oCvxPrb.solve(solver = cp.SCIP)\n",
    "#===============================================================#\n",
    "\n",
    "vXILP = vX.value\n",
    "\n",
    "assert (oCvxPrb.status == 'optimal'), 'The problem is not solved.'\n",
    "print('Problem is solved.')"
   ]
  },
  {
   "cell_type": "code",
   "execution_count": null,
   "metadata": {},
   "outputs": [],
   "source": [
    "# Plot Solutions\n",
    "\n",
    "hFig, hAx = plt.subplots(figsize = (8, 8))\n",
    "hAx.bar(np.arange(numItm), vW, width = 0.25, align = 'edge', color = 'b', alpha = 0.75, label = 'Weight')\n",
    "hAx.bar(np.arange(numItm), vV, width = -0.25, align = 'edge', color = 'r', alpha = 0.75, label = 'Utility')\n",
    "hAx.set_xticks(np.arange(numItm))"
   ]
  },
  {
   "cell_type": "markdown",
   "metadata": {},
   "source": [
    "* <font color='red'>(**?**)</font> Explain the solution. Is it guaranteed to hold all constraints? Explain."
   ]
  }
 ],
 "metadata": {
  "kernelspec": {
   "display_name": "Python 3",
   "language": "python",
   "name": "python3"
  },
  "language_info": {
   "codemirror_mode": {
    "name": "ipython",
    "version": 3
   },
   "file_extension": ".py",
   "mimetype": "text/x-python",
   "name": "python",
   "nbconvert_exporter": "python",
   "pygments_lexer": "ipython3",
   "version": "3.13.5"
  },
  "toc": {
   "base_numbering": 1,
   "nav_menu": {},
   "number_sections": false,
   "sideBar": true,
   "skip_h1_title": false,
   "title_cell": "Table of Contents",
   "title_sidebar": "Contents",
   "toc_cell": false,
   "toc_position": {},
   "toc_section_display": true,
   "toc_window_display": true
  },
  "varInspector": {
   "cols": {
    "lenName": 16,
    "lenType": 16,
    "lenVar": 40
   },
   "kernels_config": {
    "python": {
     "delete_cmd_postfix": "",
     "delete_cmd_prefix": "del ",
     "library": "var_list.py",
     "varRefreshCmd": "print(var_dic_list())"
    },
    "r": {
     "delete_cmd_postfix": ") ",
     "delete_cmd_prefix": "rm(",
     "library": "var_list.r",
     "varRefreshCmd": "cat(var_dic_list()) "
    }
   },
   "types_to_exclude": [
    "module",
    "function",
    "builtin_function_or_method",
    "instance",
    "_Feature"
   ],
   "window_display": false
  },
  "vscode": {
   "interpreter": {
    "hash": "39577bab1f263e62e0b74f5b8086bd735049bf4751f6562b2d4b2969dc308293"
   }
  }
 },
 "nbformat": 4,
 "nbformat_minor": 4
}
