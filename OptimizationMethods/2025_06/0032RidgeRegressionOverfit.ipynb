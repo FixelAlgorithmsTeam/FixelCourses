{
 "cells": [
  {
   "attachments": {},
   "cell_type": "markdown",
   "metadata": {},
   "source": [
    "[![Fixel Algorithms](https://fixelalgorithms.co/images/CCExt.png)](https://fixelalgorithms.gitlab.io)\n",
    "\n",
    "# Optimization Methods\n",
    "\n",
    "## SVD & Linear Least Squares - Regularized Least Squares\n",
    "\n",
    "> Notebook by:\n",
    "> - Royi Avital RoyiAvital@fixelalgorithms.com\n",
    "\n",
    "## Revision History\n",
    "\n",
    "| Version | Date       | User        |Content / Changes                                                   |\n",
    "|---------|------------|-------------|--------------------------------------------------------------------|\n",
    "| 1.0.000 | 12/11/2024 | Royi Avital | First version                                                      |"
   ]
  },
  {
   "attachments": {},
   "cell_type": "markdown",
   "metadata": {},
   "source": [
    "[![Open In Colab](https://colab.research.google.com/assets/colab-badge.svg)](https://colab.research.google.com/github/FixelAlgorithmsTeam/FixelCourses/blob/master/AIProgram/2024_02/0012LinearFitL1.ipynb)"
   ]
  },
  {
   "cell_type": "code",
   "execution_count": null,
   "metadata": {
    "ExecuteTime": {
     "end_time": "2022-02-02T09:30:06.492269Z",
     "start_time": "2022-02-02T09:30:06.220934Z"
    }
   },
   "outputs": [],
   "source": [
    "# Import Packages\n",
    "\n",
    "# General Tools\n",
    "import numpy as np\n",
    "import scipy as sp\n",
    "import pandas as pd\n",
    "\n",
    "import numba\n",
    "\n",
    "# Machine Learning\n",
    "\n",
    "# Optimization\n",
    "\n",
    "# Image Processing / Computer Vision\n",
    "\n",
    "# Miscellaneous\n",
    "import math\n",
    "from platform import python_version\n",
    "import random\n",
    "import time\n",
    "\n",
    "# Typing\n",
    "from typing import Callable, List, Optional, Tuple, Union\n",
    "\n",
    "# Visualization\n",
    "import matplotlib.pyplot as plt\n",
    "import plotly.graph_objects as go\n",
    "\n",
    "# Jupyter\n",
    "from IPython import get_ipython"
   ]
  },
  {
   "attachments": {},
   "cell_type": "markdown",
   "metadata": {},
   "source": [
    "## Notations\n",
    "\n",
    "* <font color='red'>(**?**)</font> Question to answer interactively.\n",
    "* <font color='blue'>(**!**)</font> Simple task to add code for the notebook.\n",
    "* <font color='green'>(**@**)</font> Optional / Extra self practice.\n",
    "* <font color='brown'>(**#**)</font> Note / Useful resource / Food for thought.\n",
    "\n",
    "Code Notations:\n",
    "\n",
    "```python\n",
    "someVar    = 2; #<! Notation for a variable\n",
    "vVector    = np.random.rand(4) #<! Notation for 1D array\n",
    "mMatrix    = np.random.rand(4, 3) #<! Notation for 2D array\n",
    "tTensor    = np.random.rand(4, 3, 2, 3) #<! Notation for nD array (Tensor)\n",
    "tuTuple    = (1, 2, 3) #<! Notation for a tuple\n",
    "lList      = [1, 2, 3] #<! Notation for a list\n",
    "dDict      = {1: 3, 2: 2, 3: 1} #<! Notation for a dictionary\n",
    "oObj       = MyClass() #<! Notation for an object\n",
    "dfData     = pd.DataFrame() #<! Notation for a data frame\n",
    "dsData     = pd.Series() #<! Notation for a series\n",
    "hObj       = plt.Axes() #<! Notation for an object / handler / function handler\n",
    "```\n",
    "\n",
    "### Code Exercise\n",
    "\n",
    " - Single line fill\n",
    "\n",
    "```python\n",
    "valToFill = ???\n",
    "```\n",
    "\n",
    " - Multi Line to Fill (At least one)\n",
    "\n",
    "```python\n",
    "# You need to start writing\n",
    "?????\n",
    "```\n",
    "\n",
    " - Section to Fill\n",
    "\n",
    "```python\n",
    "#===========================Fill This===========================#\n",
    "# 1. Explanation about what to do.\n",
    "# !! Remarks to follow / take under consideration.\n",
    "mX = ???\n",
    "\n",
    "?????\n",
    "#===============================================================#\n",
    "```"
   ]
  },
  {
   "cell_type": "code",
   "execution_count": null,
   "metadata": {},
   "outputs": [],
   "source": [
    "# Configuration\n",
    "# %matplotlib inline\n",
    "\n",
    "# warnings.filterwarnings(\"ignore\")\n",
    "\n",
    "seedNum = 640 # 512\n",
    "np.random.seed(seedNum)\n",
    "random.seed(seedNum)\n",
    "\n",
    "# Matplotlib default color palette\n",
    "lMatPltLibclr = ['#1f77b4', '#ff7f0e', '#2ca02c', '#d62728', '#9467bd', '#8c564b', '#e377c2', '#7f7f7f', '#bcbd22', '#17becf']\n",
    "# sns.set_theme() #>! Apply SeaBorn theme\n",
    "# sns.set_palette(\"tab10\")\n",
    "\n",
    "runInGoogleColab = 'google.colab' in str(get_ipython())"
   ]
  },
  {
   "cell_type": "code",
   "execution_count": null,
   "metadata": {},
   "outputs": [],
   "source": [
    "# Constants\n",
    "\n",
    "FIG_SIZE_DEF    = (8, 8)\n",
    "ELM_SIZE_DEF    = 50\n",
    "CLASS_COLOR     = ('b', 'r')\n",
    "EDGE_COLOR      = 'k'\n",
    "MARKER_SIZE_DEF = 10\n",
    "LINE_WIDTH_DEF  = 2\n"
   ]
  },
  {
   "cell_type": "code",
   "execution_count": null,
   "metadata": {},
   "outputs": [],
   "source": [
    "# Course Packages\n"
   ]
  },
  {
   "cell_type": "code",
   "execution_count": null,
   "metadata": {},
   "outputs": [],
   "source": [
    "# Auxiliary Functions\n",
    "\n",
    "def PartitionTrainTest( numSamples: int, trainRatio: float ) -> Tuple[np.ndarray, np.ndarray]:\n",
    "\n",
    "    numTrainSamples = round(trainRatio * numSamples)\n",
    "    vTrainIdx       = np.sort(np.random.choice(numSamples, numTrainSamples))\n",
    "    vTestIdx        = np.setdiff1d(range(numSamples), vTrainIdx, assume_unique = True)\n",
    "\n",
    "    return vTrainIdx, vTestIdx\n"
   ]
  },
  {
   "cell_type": "code",
   "execution_count": null,
   "metadata": {},
   "outputs": [],
   "source": [
    "# Parameters\n",
    "\n",
    "# Data\n",
    "polyDeg     = 6\n",
    "σ           = 0.5\n",
    "numSamples  = 100\n",
    "gridMinVal  = 0\n",
    "gridMaxVal  = 1.5\n",
    "\n",
    "trainDataRatio = 0.15\n",
    "\n",
    "# Model\n",
    "vλ          = np.linspace(0, 50, 5000) / numSamples\n",
    "vPolyDeg    = np.arange(4, 21)\n"
   ]
  },
  {
   "cell_type": "markdown",
   "metadata": {},
   "source": [
    "## Regularized Least Squares\n",
    "\n",
    "In general the [Regularized Least Squares](https://en.wikipedia.org/wiki/Regularized_least_squares) model is given by:\n",
    "\n",
    "$$ \\arg \\min_{ \\boldsymbol{x} } \\frac{1}{2} {\\left\\| \\boldsymbol{A} \\boldsymbol{x} - \\boldsymbol{b} \\right\\|}_{2}^{2} + \\lambda r \\left( \\boldsymbol{x} \\right) $$\n",
    "\n",
    "Where $\\lambda$ is the regularization factor and $r \\left( \\cdot \\right)$ is the regularizer.    \n",
    "\n",
    "The [Tikhonov Regularization](https://en.wikipedia.org/wiki/Ridge_regression) (Also known as _Ridge Regression_) is given by:\n",
    "\n",
    "$$ \\arg \\min_{ \\boldsymbol{x} } \\frac{1}{2} {\\left\\| \\boldsymbol{A} \\boldsymbol{x} - \\boldsymbol{b} \\right\\|}_{2}^{2} + \\frac{\\lambda}{2} {\\left\\| \\boldsymbol{x} \\right\\|}_{2}^{2} $$\n",
    "\n",
    "One motivation of the regularization is to simplify the model so it won't overfit the data and will generalize to other realizations of the model.\n",
    "\n",
    "\n",
    "* <font color='brown'>(**#**)</font> The motivation for the regualrization can be interpreted in many ways: Bayesian Prior (Gaussian, Laplace, etc...), Model (Sparse, Shifted), Kernel, etc...\n",
    "\n"
   ]
  },
  {
   "cell_type": "markdown",
   "metadata": {},
   "source": [
    "## Generate Data\n"
   ]
  },
  {
   "cell_type": "markdown",
   "metadata": {},
   "source": [
    "The data generates both the train and the test data."
   ]
  },
  {
   "cell_type": "code",
   "execution_count": null,
   "metadata": {},
   "outputs": [],
   "source": [
    "# Generate / Load the Data\n",
    "\n",
    "# The whole data\n",
    "vARef = np.linspace(gridMinVal, gridMaxVal, numSamples)\n",
    "mARef = np.power(vARef[:, None], np.arange(polyDeg + 1)[None, :])\n",
    "\n",
    "vX = 1 * np.random.randn(polyDeg + 1)\n",
    "\n",
    "vZ = mARef @ vX\n",
    "vN = σ * np.random.randn(numSamples)\n",
    "vY = vZ + vN\n",
    "\n",
    "mAModel = np.power(vARef[:, None], np.arange(np.max(vPolyDeg) + 1)[None, :])\n",
    "\n",
    "vIdxTrain, vIdxTest = PartitionTrainTest(numSamples, trainDataRatio)\n",
    "mA      = mAModel[vIdxTrain, :]\n",
    "vB      = vY[vIdxTrain]\n",
    "mATest  = mAModel[vIdxTest, :]\n",
    "vBTest  = vY[vIdxTest]\n"
   ]
  },
  {
   "cell_type": "code",
   "execution_count": null,
   "metadata": {},
   "outputs": [],
   "source": [
    "# Display Data \n",
    "\n",
    "hF, hA = plt.subplots(figsize = (10, 6))\n",
    "hA.plot(vARef, vZ, linewidth = 2, label = 'Data Model')\n",
    "hA.scatter(vARef, vY, s = 20, c = 'm', label = 'Data Samples')\n",
    "hA.set(xlabel = 'Sample Index', ylabel = 'Sample Value', title = f'Model and Noisy Samples, Polynomial Degree: {polyDeg}')\n",
    "\n",
    "hA.legend();"
   ]
  },
  {
   "cell_type": "markdown",
   "metadata": {},
   "source": [
    "* <font color='red'>(**?**)</font> Does the support have an effect on the estimation performance? Think the affine model with 2 samples."
   ]
  },
  {
   "cell_type": "code",
   "execution_count": null,
   "metadata": {},
   "outputs": [],
   "source": [
    "# Train and Test\n",
    "\n",
    "hF, vHa = plt.subplots(nrows = 1, ncols = 2, figsize = (12, 6))\n",
    "vHa = vHa.flat\n",
    "\n",
    "hA = vHa[0]\n",
    "hA.plot(vARef, vZ, linewidth = 2, label = 'Data Model')\n",
    "hA.scatter(vARef[vIdxTrain], vY[vIdxTrain], s = 20, c = 'm', label = 'Train Samples')\n",
    "hA.set(xlabel = 'Sample Index', ylabel = 'Sample Value', title = f'Train: Model and Noisy Samples, Polynomial Degree: {polyDeg}')\n",
    "\n",
    "hA.legend();\n",
    "\n",
    "hA = vHa[1]\n",
    "hA.plot(vARef, vZ, linewidth = 2, label = 'Data Model')\n",
    "hA.scatter(vARef[vIdxTest], vY[vIdxTest], s = 20, c = 'm', label = 'Train Samples')\n",
    "hA.set(xlabel = 'Sample Index', ylabel = 'Sample Value', title = f'Test: Model and Noisy Samples, Polynomial Degree: {polyDeg}')\n",
    "\n",
    "hA.legend();"
   ]
  },
  {
   "cell_type": "markdown",
   "metadata": {},
   "source": [
    "* <font color='red'>(**?**)</font> For Least Squares, what will happen when $p \\to N$ where $N$ is the number of samples?"
   ]
  },
  {
   "cell_type": "markdown",
   "metadata": {},
   "source": [
    "## Polynomial Degree vs. Regularization Factor\n",
    "\n"
   ]
  },
  {
   "cell_type": "code",
   "execution_count": null,
   "metadata": {},
   "outputs": [],
   "source": [
    "# Polynomial Degree vs. Regularization Factor\n",
    "\n",
    "mZTrain = np.zeros(shape = (len(vPolyDeg), len(vλ)))\n",
    "mZTest  = np.zeros(shape = (len(vPolyDeg), len(vλ)))\n",
    "\n",
    "for jj in range(len(vλ)):\n",
    "    λ = vλ[jj]\n",
    "    for ii in range(len(vPolyDeg)):\n",
    "        paramP  = vPolyDeg[ii]\n",
    "        mAP     = mA[:, :(paramP + 1)]\n",
    "        if λ == 0.0:\n",
    "            vXRls, *_ = np.linalg.lstsq(mAP, vB, rcond = None)\n",
    "        else:\n",
    "            vXRls = sp.linalg.solve(mAP.T @ mAP + λ * np.eye(paramP + 1), mAP.T @ vB)\n",
    "\n",
    "        mZTrain[ii, jj] = math.log10(np.mean(np.square(mAP @ vXRls - vB)))\n",
    "        mZTest[ii, jj]  = math.log10(np.mean(np.square(mATest[:, :(paramP + 1)] @ vXRls - vBTest)))"
   ]
  },
  {
   "cell_type": "markdown",
   "metadata": {},
   "source": [
    "* <font color='red'>(**?**)</font> Numerically, what's the effect of $\\lambda$.\n",
    "* <font color='red'>(**?**)</font> How can the loop be optimized for faster calculation?\n",
    "* <font color='blue'>(**!**)</font> Optimize the solution of the system `sp.linalg.solve(mAP.T @ mAP + λ * np.eye(paramP + 1), mAP.T @ vB)` using its properties.\n",
    "* <font color='brown'>(**#**)</font> SciKit Learn offer a model to solve the problem with [`Ridge`](https://scikit-learn.org/stable/modules/generated/sklearn.linear_model.Ridge.html)."
   ]
  },
  {
   "cell_type": "markdown",
   "metadata": {},
   "source": [
    "## Display Results"
   ]
  },
  {
   "cell_type": "code",
   "execution_count": null,
   "metadata": {},
   "outputs": [],
   "source": [
    "# Display Data \n",
    "\n",
    "hF = go.Figure(data = [go.Surface(z = mZTrain, x = vλ, y = vPolyDeg)])\n",
    "hF.update_layout(\n",
    "    title = dict(text = 'Estimation RMSE - Train'), autosize = False,\n",
    "    width = 800, height = 500,\n",
    "    margin = dict(l = 25, r = 25, b = 25, t = 25),\n",
    ")\n",
    "hF.update_scenes(\n",
    "    xaxis_title_text = 'λ',\n",
    "    yaxis_title_text = 'Polynomail Degree',\n",
    "    zaxis_title_text = 'RMSE [dB]',\n",
    ")\n",
    "hF.show()"
   ]
  },
  {
   "cell_type": "code",
   "execution_count": null,
   "metadata": {},
   "outputs": [],
   "source": [
    "# Display Data \n",
    "\n",
    "hF = go.Figure(data = [go.Surface(z = mZTest, x = vλ, y = vPolyDeg)])\n",
    "hF.update_layout(\n",
    "    title = dict(text = 'Estimation RMSE - Test'), autosize = False,\n",
    "    width = 800, height = 500,\n",
    "    margin = dict(l = 25, r = 25, b = 25, t = 25),\n",
    ")\n",
    "hF.update_scenes(\n",
    "    xaxis_title_text = 'λ',\n",
    "    yaxis_title_text = 'Polynomail Degree',\n",
    "    zaxis_title_text = 'RMSE [dB]',\n",
    ")\n",
    "hF.show()"
   ]
  },
  {
   "cell_type": "markdown",
   "metadata": {},
   "source": [
    "* <font color='red'>(**?**)</font> Explain the effect of the regularization. Specifically the connection with the polynomial degree."
   ]
  }
 ],
 "metadata": {
  "kernelspec": {
   "display_name": "Python 3",
   "language": "python",
   "name": "python3"
  },
  "language_info": {
   "codemirror_mode": {
    "name": "ipython",
    "version": 3
   },
   "file_extension": ".py",
   "mimetype": "text/x-python",
   "name": "python",
   "nbconvert_exporter": "python",
   "pygments_lexer": "ipython3",
   "version": "3.12.8"
  },
  "toc": {
   "base_numbering": 1,
   "nav_menu": {},
   "number_sections": false,
   "sideBar": true,
   "skip_h1_title": false,
   "title_cell": "Table of Contents",
   "title_sidebar": "Contents",
   "toc_cell": false,
   "toc_position": {},
   "toc_section_display": true,
   "toc_window_display": true
  },
  "varInspector": {
   "cols": {
    "lenName": 16,
    "lenType": 16,
    "lenVar": 40
   },
   "kernels_config": {
    "python": {
     "delete_cmd_postfix": "",
     "delete_cmd_prefix": "del ",
     "library": "var_list.py",
     "varRefreshCmd": "print(var_dic_list())"
    },
    "r": {
     "delete_cmd_postfix": ") ",
     "delete_cmd_prefix": "rm(",
     "library": "var_list.r",
     "varRefreshCmd": "cat(var_dic_list()) "
    }
   },
   "types_to_exclude": [
    "module",
    "function",
    "builtin_function_or_method",
    "instance",
    "_Feature"
   ],
   "window_display": false
  },
  "vscode": {
   "interpreter": {
    "hash": "39577bab1f263e62e0b74f5b8086bd735049bf4751f6562b2d4b2969dc308293"
   }
  }
 },
 "nbformat": 4,
 "nbformat_minor": 4
}
