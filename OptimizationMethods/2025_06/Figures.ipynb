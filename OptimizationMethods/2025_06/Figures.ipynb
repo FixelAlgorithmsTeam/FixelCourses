{
 "cells": [
  {
   "attachments": {},
   "cell_type": "markdown",
   "metadata": {},
   "source": [
    "[![Fixel Algorithms](https://fixelalgorithms.co/images/CCExt.png)](https://fixelalgorithms.gitlab.io)\n",
    "\n",
    "# Optimization Methods\n",
    "\n",
    "## Figures\n",
    "\n",
    "> Notebook by:\n",
    "> - Royi Avital RoyiAvital@fixelalgorithms.com\n",
    "\n",
    "## Revision History\n",
    "\n",
    "| Version | Date       | User        |Content / Changes                                                   |\n",
    "|---------|------------|-------------|--------------------------------------------------------------------|\n",
    "| 1.0.000 | 30/09/2024 | Royi Avital | First version                                                      |"
   ]
  },
  {
   "attachments": {},
   "cell_type": "markdown",
   "metadata": {},
   "source": [
    "[![Open In Colab](https://colab.research.google.com/assets/colab-badge.svg)](https://colab.research.google.com/github/FixelAlgorithmsTeam/FixelCourses/blob/master/AIProgram/2024_02/0012LinearFitL1.ipynb)"
   ]
  },
  {
   "cell_type": "code",
   "execution_count": null,
   "metadata": {
    "ExecuteTime": {
     "end_time": "2022-02-02T09:30:06.492269Z",
     "start_time": "2022-02-02T09:30:06.220934Z"
    }
   },
   "outputs": [],
   "source": [
    "# Import Packages\n",
    "\n",
    "# General Tools\n",
    "import numpy as np\n",
    "import scipy as sp\n",
    "import pandas as pd\n",
    "\n",
    "# Machine Learning\n",
    "\n",
    "# Optimization\n",
    "\n",
    "# Miscellaneous\n",
    "import os\n",
    "import math\n",
    "from platform import python_version\n",
    "import random\n",
    "\n",
    "# Typing\n",
    "from typing import Callable, List, Tuple, Union\n",
    "\n",
    "# Visualization\n",
    "from matplotlib.lines import Line2D\n",
    "from matplotlib.patches import Polygon\n",
    "import matplotlib.pyplot as plt\n",
    "\n",
    "# Jupyter\n",
    "from IPython import get_ipython"
   ]
  },
  {
   "cell_type": "code",
   "execution_count": null,
   "metadata": {},
   "outputs": [],
   "source": [
    "# Configuration\n",
    "# %matplotlib inline\n",
    "\n",
    "# warnings.filterwarnings(\"ignore\")\n",
    "\n",
    "seedNum = 512\n",
    "np.random.seed(seedNum)\n",
    "random.seed(seedNum)\n",
    "\n",
    "# Matplotlib default color palette\n",
    "lMatPltLibclr = ['#1f77b4', '#ff7f0e', '#2ca02c', '#d62728', '#9467bd', '#8c564b', '#e377c2', '#7f7f7f', '#bcbd22', '#17becf']\n",
    "# sns.set_theme() #>! Apply SeaBorn theme\n",
    "# sns.set_palette(\"tab10\")\n",
    "\n",
    "runInGoogleColab = 'google.colab' in str(get_ipython())"
   ]
  },
  {
   "cell_type": "code",
   "execution_count": null,
   "metadata": {},
   "outputs": [],
   "source": [
    "# Constants\n",
    "\n",
    "FIG_SIZE_DEF    = (8, 8)\n",
    "ELM_SIZE_DEF    = 50\n",
    "CLASS_COLOR     = ('b', 'r')\n",
    "EDGE_COLOR      = 'k'\n",
    "MARKER_SIZE_DEF = 10\n",
    "LINE_WIDTH_DEF  = 2\n"
   ]
  },
  {
   "cell_type": "code",
   "execution_count": null,
   "metadata": {},
   "outputs": [],
   "source": [
    "# Course Packages\n",
    "\n"
   ]
  },
  {
   "cell_type": "code",
   "execution_count": null,
   "metadata": {},
   "outputs": [],
   "source": [
    "# Auxiliary Functions\n",
    "\n",
    "\n",
    "def HuberLoss( valIn: float, δ: float = 1.0 ) -> float:\n",
    "\n",
    "    valInAbs = abs(valIn)\n",
    "    if valInAbs <= δ:\n",
    "        valOut = 0.5 * valInAbs ** 2\n",
    "    else:\n",
    "        valOut = δ * (valInAbs - 0.5 * δ)\n",
    "\n",
    "    return valOut\n"
   ]
  },
  {
   "cell_type": "code",
   "execution_count": null,
   "metadata": {},
   "outputs": [],
   "source": [
    "# Robust Regression Objective Function\n",
    "\n",
    "vR = np.linspace(-2, 2, 1000)\n",
    "\n",
    "lFun = [(r'${\\left| r \\right|}^{2}$', lambda x: x ** 2), (r'${\\left| r \\right|}^{1.5}$', lambda x: abs(x) ** 1.5), \n",
    "        (r'${\\left| r \\right|}$', lambda x: abs(x)), (r'${\\left| r \\right|}^{0.5}$', lambda x: math.sqrt(abs(x))),\n",
    "        (r'Huber', lambda x: sp.special.huber(1.0, abs(x)))]\n",
    "\n",
    "with plt.style.context('dark_background'):\n",
    "    hF, hA = plt.subplots(figsize = (10, 6))\n",
    "\n",
    "for ii, (funLabel, hFun) in enumerate(lFun):\n",
    "    hFunVec = np.vectorize(hFun)\n",
    "    hA.plot(vR, hFunVec(vR), lw = 2, label = funLabel)\n",
    "\n",
    "hA.set_aspect('equal')\n",
    "hA.set(title = 'Loss Functions', xlabel = 'Residual', ylabel = 'Weight')\n",
    "\n",
    "hA.legend();\n",
    "hF.savefig('Figure.svg', transparent = True, bbox_inches = 'tight', pad_inches = 0.1)\n",
    "\n",
    "\n"
   ]
  },
  {
   "cell_type": "code",
   "execution_count": null,
   "metadata": {},
   "outputs": [],
   "source": [
    "# Robust Regression by Regularization\n",
    "\n",
    "# Compare Laplace PDf to Gaussian PDf with the same Variance\n",
    "\n",
    "σ = 1.0\n",
    "vX = np.linspace(-4.5, 4.5, 2_0001)\n",
    "\n",
    "vG = sp.stats.norm.pdf(vX, loc = 0.0, scale = σ) #<! Gaussian PDF\n",
    "vL = sp.stats.laplace.pdf(vX, loc = 0.0, scale = σ / math.sqrt(2.0)) #<! Laplace PDF\n",
    "\n",
    "with plt.style.context('dark_background'):\n",
    "    hF, hA = plt.subplots(figsize = (6, 6))\n",
    "\n",
    "hA.plot(vX, vG, lw = 2, label = 'Normal')\n",
    "hA.plot(vX, vL, lw = 2, label = 'Laplace')\n",
    "\n",
    "# hA.set_aspect('equal')\n",
    "hA.set(title = f'Distribution with σ = {σ:0.1f}', xlabel = 'Value', ylabel = 'PDF')\n",
    "\n",
    "hA.legend();\n",
    "hF.savefig('Figure.svg', transparent = True, bbox_inches = 'tight', pad_inches = 0.1)\n"
   ]
  },
  {
   "cell_type": "code",
   "execution_count": null,
   "metadata": {},
   "outputs": [],
   "source": [
    "# Integer Linear Programming\n",
    "\n",
    "\n",
    "\n",
    "# --- Problem geometry -------------------------------------------------\n",
    "# Triangle with vertices (0,0), (3,0), (0,6)  →  x2 = 6 - 2*x1\n",
    "xmax, ymax = 3, 6\n",
    "line = lambda x: np.maximum(0, 6 - 2*x)\n",
    "\n",
    "# Integer feasible points (IP): integer lattice strictly inside the triangle\n",
    "pts = []\n",
    "for x in range(0, xmax + 1):\n",
    "    y_max = int(np.floor(line(x)))\n",
    "    for y in range(1, y_max + 1):\n",
    "        pts.append((x, y))\n",
    "pts = np.array(pts)\n",
    "\n",
    "# --- Plot -------------------------------------------------------------\n",
    "plt.style.use(\"dark_background\")\n",
    "fig, ax = plt.subplots(figsize=(4.5, 5), dpi=150)\n",
    "fig.patch.set_alpha(0.0)      # transparent figure\n",
    "ax.set_facecolor(\"none\")      # transparent axes background\n",
    "\n",
    "# Feasible region (IP relaxation): shaded triangle\n",
    "tri = Polygon([(0, 0), (xmax, 0), (0, ymax)], closed=True,\n",
    "              facecolor=(0.55, 0.75, 1.0, 0.25),  # light blue, translucent (good on dark)\n",
    "              edgecolor=(0.7, 0.85, 1.0, 0.9), linewidth=2.0)\n",
    "ax.add_patch(tri)\n",
    "\n",
    "# Hypotenuse boundary: x2 = 6 - 2 x1\n",
    "xx = np.linspace(0, xmax, 200)\n",
    "ax.plot(xx, line(xx), color=(0.7, 0.85, 1.0), linewidth=2.4)\n",
    "\n",
    "# Axes (x1, x2)\n",
    "ax.plot([0, xmax], [0, 0], color=(0.8, 0.8, 0.8), linewidth=2)   # x1-axis\n",
    "ax.plot([0, 0], [0, ymax], color=(0.8, 0.8, 0.8), linewidth=2)   # x2-axis\n",
    "# little arrowheads\n",
    "ax.annotate(\"\", xy=(xmax, 0), xytext=(xmax-0.18, 0),\n",
    "            arrowprops=dict(arrowstyle=\"->\", color=(0.8, 0.8, 0.8), lw=2))\n",
    "ax.annotate(\"\", xy=(0, ymax), xytext=(0, ymax-0.18),\n",
    "            arrowprops=dict(arrowstyle=\"->\", color=(0.8, 0.8, 0.8), lw=2))\n",
    "\n",
    "# IP feasible points\n",
    "ax.scatter(pts[:,0], pts[:,1], s=28, color=(0.25, 0.55, 1.0), zorder=5)\n",
    "\n",
    "# Ticks & labels\n",
    "ax.set_xlim(-0.15, 3.25)\n",
    "ax.set_ylim(-0.15, 6.25)\n",
    "ax.set_xticks(range(0, xmax + 1))\n",
    "ax.set_yticks(range(0, ymax + 1))\n",
    "ax.set_xlabel(r\"$x_1$\")\n",
    "ax.set_ylabel(r\"$x_2$\")\n",
    "ax.grid(False)\n",
    "\n",
    "# Legend (custom handles)\n",
    "ip_handle = Line2D([], [], marker='o', linestyle='None', markersize=6,\n",
    "                   color=(0.25, 0.55, 1.0), label=\"ILP Feasible Point\")\n",
    "region_handle = Line2D([], [], linewidth=10, color=(0.55, 0.75, 1.0, 0.25),\n",
    "                       label=\"ILP Relaxation (LP) Feasible Region\")\n",
    "ax.legend(handles=[ip_handle, region_handle], loc=\"upper right\", frameon=False)\n",
    "\n",
    "plt.tight_layout()\n",
    "plt.savefig('Figure.svg', transparent = True, bbox_inches = 'tight', pad_inches = 0.1)\n",
    "\n"
   ]
  }
 ],
 "metadata": {
  "kernelspec": {
   "display_name": "Python 3",
   "language": "python",
   "name": "python3"
  },
  "language_info": {
   "codemirror_mode": {
    "name": "ipython",
    "version": 3
   },
   "file_extension": ".py",
   "mimetype": "text/x-python",
   "name": "python",
   "nbconvert_exporter": "python",
   "pygments_lexer": "ipython3",
   "version": "3.13.5"
  },
  "toc": {
   "base_numbering": 1,
   "nav_menu": {},
   "number_sections": false,
   "sideBar": true,
   "skip_h1_title": false,
   "title_cell": "Table of Contents",
   "title_sidebar": "Contents",
   "toc_cell": false,
   "toc_position": {},
   "toc_section_display": true,
   "toc_window_display": true
  },
  "varInspector": {
   "cols": {
    "lenName": 16,
    "lenType": 16,
    "lenVar": 40
   },
   "kernels_config": {
    "python": {
     "delete_cmd_postfix": "",
     "delete_cmd_prefix": "del ",
     "library": "var_list.py",
     "varRefreshCmd": "print(var_dic_list())"
    },
    "r": {
     "delete_cmd_postfix": ") ",
     "delete_cmd_prefix": "rm(",
     "library": "var_list.r",
     "varRefreshCmd": "cat(var_dic_list()) "
    }
   },
   "types_to_exclude": [
    "module",
    "function",
    "builtin_function_or_method",
    "instance",
    "_Feature"
   ],
   "window_display": false
  },
  "vscode": {
   "interpreter": {
    "hash": "39577bab1f263e62e0b74f5b8086bd735049bf4751f6562b2d4b2969dc308293"
   }
  }
 },
 "nbformat": 4,
 "nbformat_minor": 4
}
