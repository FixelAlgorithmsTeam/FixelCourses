{
 "cells": [
  {
   "attachments": {},
   "cell_type": "markdown",
   "metadata": {},
   "source": [
    "[![Fixel Algorithms](https://fixelalgorithms.co/images/CCExt.png)](https://fixelalgorithms.gitlab.io)\n",
    "\n",
    "# Optimization Methods\n",
    "\n",
    "## Convex Optimization - Smooth Optimization - Localization by DF (Direction Finding) \n",
    "\n",
    "> Notebook by:\n",
    "> - Royi Avital RoyiAvital@fixelalgorithms.com\n",
    "\n",
    "## Revision History\n",
    "\n",
    "| Version | Date       | User        |Content / Changes                                                   |\n",
    "|---------|------------|-------------|--------------------------------------------------------------------|\n",
    "| 1.0.000 | 12/05/2025 | Royi Avital | First version                                                      |"
   ]
  },
  {
   "attachments": {},
   "cell_type": "markdown",
   "metadata": {},
   "source": [
    "[![Open In Colab](https://colab.research.google.com/assets/colab-badge.svg)](https://colab.research.google.com/github/FixelAlgorithmsTeam/FixelCourses/blob/master/AIProgram/2024_02/0002PointLine.ipynb)"
   ]
  },
  {
   "cell_type": "code",
   "execution_count": null,
   "metadata": {
    "ExecuteTime": {
     "end_time": "2022-02-02T17:52:07.921383Z",
     "start_time": "2022-02-02T17:52:07.649130Z"
    }
   },
   "outputs": [],
   "source": [
    "# Import Packages\n",
    "\n",
    "# General Tools\n",
    "import numpy as np\n",
    "import scipy as sp\n",
    "import pandas as pd\n",
    "\n",
    "# Miscellaneous\n",
    "from platform import python_version\n",
    "import random\n",
    "\n",
    "# Visualization\n",
    "import matplotlib.pyplot as plt\n",
    "\n",
    "# Jupyter\n",
    "from IPython import get_ipython"
   ]
  },
  {
   "cell_type": "markdown",
   "metadata": {},
   "source": [
    "## Notations\n",
    "\n",
    "* <font color='red'>(**?**)</font> Question to answer interactively.\n",
    "* <font color='blue'>(**!**)</font> Simple task to add code for the notebook.\n",
    "* <font color='green'>(**@**)</font> Optional / Extra self practice.\n",
    "* <font color='brown'>(**#**)</font> Note / Useful resource / Food for thought.\n",
    "\n",
    "Code Notations:\n",
    "\n",
    "```python\n",
    "someVar    = 2; #<! Notation for a variable\n",
    "vVector    = np.random.rand(4) #<! Notation for 1D array\n",
    "mMatrix    = np.random.rand(4, 3) #<! Notation for 2D array\n",
    "tTensor    = np.random.rand(4, 3, 2, 3) #<! Notation for nD array (Tensor)\n",
    "tuTuple    = (1, 2, 3) #<! Notation for a tuple\n",
    "lList      = [1, 2, 3] #<! Notation for a list\n",
    "dDict      = {1: 3, 2: 2, 3: 1} #<! Notation for a dictionary\n",
    "oObj       = MyClass() #<! Notation for an object\n",
    "dfData     = pd.DataFrame() #<! Notation for a data frame\n",
    "dsData     = pd.Series() #<! Notation for a series\n",
    "hObj       = plt.Axes() #<! Notation for an object / handler / function handler\n",
    "```\n",
    "\n",
    "### Code Exercise\n",
    "\n",
    " - Single line fill\n",
    "\n",
    "```python\n",
    "valToFill = ???\n",
    "```\n",
    "\n",
    " - Multi Line to Fill (At least one)\n",
    "\n",
    " ```python\n",
    " # You need to start writing\n",
    " ?????\n",
    " ```\n",
    "\n",
    " - Section to Fill\n",
    "\n",
    "```python\n",
    "#===========================Fill This===========================#\n",
    "# 1. Explanation about what to do.\n",
    "# !! Remarks to follow / take under consideration.\n",
    "mX = ???\n",
    "\n",
    "?????\n",
    "#===============================================================#\n",
    "```"
   ]
  },
  {
   "cell_type": "code",
   "execution_count": null,
   "metadata": {},
   "outputs": [],
   "source": [
    "# Configuration\n",
    "%matplotlib inline\n",
    "\n",
    "# warnings.filterwarnings(\"ignore\")\n",
    "\n",
    "seedNum = 512\n",
    "np.random.seed(seedNum)\n",
    "random.seed(seedNum)\n",
    "\n",
    "# Matplotlib default color palette\n",
    "lMatPltLibclr = ['#1f77b4', '#ff7f0e', '#2ca02c', '#d62728', '#9467bd', '#8c564b', '#e377c2', '#7f7f7f', '#bcbd22', '#17becf']\n",
    "# sns.set_theme() #>! Apply SeaBorn theme\n",
    "# sns.set_palette(\"tab10\")\n",
    "\n",
    "runInGoogleColab = 'google.colab' in str(get_ipython())"
   ]
  },
  {
   "cell_type": "code",
   "execution_count": null,
   "metadata": {},
   "outputs": [],
   "source": [
    "# Constants\n",
    "\n",
    "FIG_SIZE_DEF    = (8, 8)\n",
    "ELM_SIZE_DEF    = 50\n",
    "CLASS_COLOR     = ('b', 'r')\n",
    "EDGE_COLOR      = 'k'\n",
    "MARKER_SIZE_DEF = 10\n",
    "LINE_WIDTH_DEF  = 2"
   ]
  },
  {
   "cell_type": "code",
   "execution_count": null,
   "metadata": {},
   "outputs": [],
   "source": [
    "# Course Packages\n"
   ]
  },
  {
   "cell_type": "code",
   "execution_count": null,
   "metadata": {},
   "outputs": [],
   "source": [
    "# Auxiliary Functions\n"
   ]
  },
  {
   "cell_type": "markdown",
   "metadata": {},
   "source": [
    "## Direction Finding Localization\n",
    "\n",
    "DF ([Direction Finding](https://en.wikipedia.org/wiki/Direction_finding)) is a simple method to localize the location of an RF transmitter.\n",
    "\n",
    "In classical DF for localization of RF Signal, each measurement yield a direction.  \n",
    "When the direction is plotted on the map it creates a single line where the transmitter is believed to be on.  \n",
    "With perfect measurements the intersection of 2 lines will reveal the location of the transmitter.  \n",
    "\n",
    "Yet in practice, due to different inaccuracies in the model and measurements the real location is not at the intersection.  \n",
    "One way to overcome some of those \"noises\" is use more than 2 measurements for the estimation.\n",
    "\n",
    "![](https://i.imgur.com/HDt0YoF.png) Image Credit: [School Amateur Radio Club Network - Amateur Radio Direction Finding](https://www.sarcnet.org/amateur-radio-direction-finding.html)\n",
    "<!-- ![](https://i.postimg.cc/8PsJwWYj/image.png) -->\n",
    "\n",
    "* <font color='brown'>(**#**)</font> Using intersection of lines for localization is called [Triangulation](https://en.wikipedia.org/wiki/Triangulation).\n",
    "* <font color='brown'>(**#**)</font> Farther reading on DF:\n",
    "   - [Paul Denisowski - An Introduction to Radio Direction Finding Methodologie](http://www.denisowski.org/Publications/Denisowski%20-%20An%20Introduction%20to%20Radio%20Direction%20Finding%20Methodologies.pdf).\n",
    "   - [Rohde Schwarz - An Introduction to Direction Finding Methodologies (White Paper)](https://cdn.rohde-schwarz.com/am/us/campaigns_2/a_d/Intro-to-direction-finding-methodologies~1.pdf)."
   ]
  },
  {
   "cell_type": "markdown",
   "metadata": {},
   "source": [
    "### The Sum of Distances Minimization  \n",
    "\n",
    "One approach to solve it is to find the point which minimizes the sum of distances to the lines:\n",
    "\n",
    "\n",
    "$$ \\arg \\min_{\\boldsymbol{x} \\in \\mathbb{R}^{2}} \\sum_{i = 1}^{n} d \\left( \\boldsymbol{x}, \\boldsymbol{l}_{i} \\right) $$\n",
    "\n",
    "Where $\\boldsymbol{l}_{i}$ is the set of parameters of the $i$ -th line.  \n",
    "\n",
    "This notebooks solve the problem for the case the distance is defined as the **Squared Euclidean** Distance.  \n",
    "Given a set of lines, it derives and finds the point which minimizes the sum of squared distances.\n",
    "\n",
    "* <font color='brown'>(**#**)</font> The accuracy of the model is mostly determined by the distance / dissimilarity function in use.  \n",
    "In most cases the Squared Euclidean Distance is not a good measure to find the actual location.  \n",
    "* <font color='brown'>(**#**)</font> The Squared Euclidean Distance does not form a valid metric as it does not hold the _Triangle Inequality_.  \n",
    "  For instance: $ {\\left| -2 - 2 \\right|}^{2} \\nleq {\\left| -2 - 0 \\right|}^{2} + {\\left| 0 - 2 \\right|}^{2}$.\n",
    "* <font color='red'>(**?**)</font> Will the solution ofr the Squared Euclidean Distance be the same as the Euclidean Distance?"
   ]
  },
  {
   "cell_type": "code",
   "execution_count": null,
   "metadata": {},
   "outputs": [],
   "source": [
    "# Parameters\n",
    "\n",
    "tuGrid = (-2, 2, 1000) #<! Left boundary, right boundary, num points"
   ]
  },
  {
   "cell_type": "markdown",
   "metadata": {},
   "source": [
    "## Generate Data\n"
   ]
  },
  {
   "attachments": {},
   "cell_type": "markdown",
   "metadata": {},
   "source": [
    "### Create 1D Grid"
   ]
  },
  {
   "cell_type": "code",
   "execution_count": null,
   "metadata": {
    "ExecuteTime": {
     "end_time": "2022-02-02T17:53:07.834772Z",
     "start_time": "2022-02-02T17:53:07.448832Z"
    }
   },
   "outputs": [],
   "source": [
    "# Generate 1D Grid\n",
    "\n",
    "vX = np.linspace(tuGrid[0], tuGrid[1], tuGrid[2]) #<! Linear steps grid\n",
    "\n",
    "print(f'The Grid Shape: {vX.shape}')"
   ]
  },
  {
   "cell_type": "markdown",
   "metadata": {},
   "source": [
    "### Create Lines\n",
    "\n",
    "Generate the `numLines` lines in 2 forms:\n",
    "\n",
    "1. $a x + b y + c = 0$.\n",
    "2. $y = m x + n$.\n",
    "\n",
    "* <font color='brown'>(**#**)</font> The forms are equivalent. Namely the lines are the same, just in 2 different forms."
   ]
  },
  {
   "cell_type": "code",
   "execution_count": null,
   "metadata": {},
   "outputs": [],
   "source": [
    "# Generate the Lines\n",
    "# Lines parameters: a x + b y + c = 0\n",
    "\n",
    "mL = np.array([[1, 1, 0], [-0.8, 1.7, -0.7], [-0.8, 1.6, -0.75], [1.1, -0.95, -0.05]]) #<! Lines parameters: a, b, c\n",
    "numLines = mL.shape[0]\n",
    "\n",
    "#===========================Fill This===========================#\n",
    "# 1. Normalize the lines so that a^2 + b^2 = 1.\n",
    "# !! Make sure the line is the same.\n",
    "\n",
    "vN = np.linalg.norm(mL[:, :2], axis = 1) #<! Calculate the norm of (a, b)\n",
    "mL /= vN[:, None]                        #<! Scales all parameters\n",
    "\n",
    "#===============================================================#"
   ]
  },
  {
   "cell_type": "code",
   "execution_count": null,
   "metadata": {},
   "outputs": [],
   "source": [
    "# Convert the Lines into the y = m x + n Form\n",
    "\n",
    "# The motivation is for visualization\n",
    "mM = np.column_stack((-mL[:, 0] / mL[:, 1], -mL[:, 2] / mL[:, 1]))"
   ]
  },
  {
   "cell_type": "code",
   "execution_count": null,
   "metadata": {},
   "outputs": [],
   "source": [
    "# Draw the Data\n",
    "\n",
    "hF, hA = plt.subplots(figsize = (10, 7))\n",
    "\n",
    "for ii in range(numLines):\n",
    "    vY = np.array([mM[ii, 0] * valX + mM[ii, 1] for valX in vX])\n",
    "    hA.plot(vX, vY, lw = LINE_WIDTH_DEF, label = f'Line {ii + 1:02d}')\n",
    "\n",
    "hA.set_xlabel('x')\n",
    "hA.set_ylabel('y')\n",
    "hA.set_title('Set of Lines')\n",
    "\n",
    "hA.legend();"
   ]
  },
  {
   "cell_type": "markdown",
   "metadata": {},
   "source": [
    "## Deriving the Objective Function\n",
    "\n",
    "This section formulates the problem as a _Quadratic Programming_ problem."
   ]
  },
  {
   "cell_type": "markdown",
   "metadata": {},
   "source": [
    "### Distance of a Point from a Line\n",
    "\n",
    "Given a point $\\boldsymbol{x} = \\left[ {x}_{0}, {y}_{0} \\right]^{T}$ then the _Euclidean Distance_ to a line, given by the parameters $l = \\left( a, b, c \\right) : a x + b y + c = 0$ is given by:\n",
    "\n",
    "$$ d \\left( \\boldsymbol{x}, l \\right) = \\frac{ \\left| a {x}_{0} + b {y}_{0} + c \\right| }{ \\sqrt{ {a}^{2} + {b}^{2} } } $$\n",
    "\n",
    "Assuming all lines are normalized, then the operation becomes:\n",
    "\n",
    "$$ d \\left( \\boldsymbol{x}, l \\right) = a {x}_{0} + b {y}_{0} + c $$\n",
    "\n",
    "The objective function, based on the _Squared Euclidean Distance_, for the DF as defined is given by:\n",
    "\n",
    "$$ \\arg \\min_{\\boldsymbol{x} \\in \\mathbb{R}^{2}} \\sum_{i = 1}^{n} {d}^{2} \\left( \\boldsymbol{x}, \\boldsymbol{l}_{i} \\right) $$\n",
    "\n",
    "\n",
    "* <font color='brown'>(**#**)</font> Using the Squared Euclidean as a measure of distance greatly simplifies the derivation of the solution."
   ]
  },
  {
   "cell_type": "markdown",
   "metadata": {},
   "source": [
    "### Question 1\n",
    "\n",
    "Simplify the objective function to a _Quadratic Form_.\n",
    "\n",
    "Guidance:\n",
    " - The Signed Distance as Inner Product  \n",
    "   Define $\\boldsymbol{w}_{i} = {\\left[ {a}_{i}, {b}_{i} \\right]}^{T}$.\n",
    " - Reformulate the Distance Function (The Squread Euclidean \"Distance\")  \n",
    "   Write the distance function with the point $\\boldsymbol{x}$ and the line.  \n",
    "   Use inner product between $\\boldsymbol{w}$ and $\\boldsymbol{x}$.\n",
    " - Reformulate the Objective Function  \n",
    "   Formulate the objective function as a _Quadratic Form_: $\\boldsymbol{x}^{T} \\boldsymbol{M} \\boldsymbol{x} + 2 \\boldsymbol{n}^{T} \\boldsymbol{x} + o$.  \n",
    "   Derive the values of $\\boldsymbol{M}, \\boldsymbol{n}, o$ with the line parameters.\n",
    "\n",
    "</br>\n",
    "\n",
    "* <font color='brown'>(**#**)</font> Quadratic Programming with no constraints is closely related to _Linear Least Squares_."
   ]
  },
  {
   "cell_type": "markdown",
   "metadata": {},
   "source": [
    "#### Answer 1\n",
    "\n",
    " - The distance as inner product: ${d}_{i}^{2} = {d}^{2} \\left( \\boldsymbol{x}, {l}_{i} \\right) = {\\left( \\boldsymbol{w}_{i}^{T} \\boldsymbol{x} + {c}_{i} \\right)}^{2}$.\n",
    " - The distance function: ${d}_{i}^{2} = \\boldsymbol{x}^{T} \\boldsymbol{w}_{i} \\boldsymbol{w}_{i}^{T} \\boldsymbol{x} + 2 {c}_{i} \\boldsymbol{w}_{i}^{T} \\boldsymbol{x} + {c}_{i}^{2}$.\n",
    " - The objective function: $\\sum {d}_{i}^{2} = \\boldsymbol{x}^{T} \\sum \\left( \\boldsymbol{w}_{i} \\boldsymbol{w}_{i}^{T} \\right) \\boldsymbol{x} + 2 \\sum \\left( {c}_{i} \\boldsymbol{w}_{i}^{T} \\right) \\boldsymbol{x} + \\sum {c}_{i}^{2} = \\boldsymbol{x}^{T} \\boldsymbol{M} \\boldsymbol{x} + 2 \\boldsymbol{n}^{T} \\boldsymbol{x} + o$\n",
    "\n",
    "</br>\n",
    "\n",
    "---"
   ]
  },
  {
   "cell_type": "markdown",
   "metadata": {},
   "source": [
    "* <font color='red'>(**?**)</font> Is the problem _Convex_? Explain."
   ]
  },
  {
   "cell_type": "markdown",
   "metadata": {},
   "source": [
    "### Question 2\n",
    "\n",
    "Derive the optimal solution for the problem.  \n",
    "Compare it to the scalar case of parabolic function."
   ]
  },
  {
   "cell_type": "markdown",
   "metadata": {},
   "source": [
    "#### Answer 2\n",
    "\n",
    " - The function is defined by $f \\left( \\boldsymbol{x} \\right) = \\boldsymbol{x}^{T} \\boldsymbol{M} \\boldsymbol{x} + 2 \\boldsymbol{n}^{T} \\boldsymbol{x} + o$.\n",
    " - The gradient is given by: ${\\nabla}_{x} f = 2 \\boldsymbol{M} \\boldsymbol{x} + 2 \\boldsymbol{n}$.\n",
    " - The minimum, as the problem is _Convex_ is given at the vanishing point of the gradient: $\\boldsymbol{x} = -\\boldsymbol{M}^{-1} \\boldsymbol{n}$.\n",
    "\n",
    "</br>\n",
    "\n",
    "---"
   ]
  },
  {
   "cell_type": "markdown",
   "metadata": {},
   "source": [
    "* <font color='red'>(**?**)</font> Does $o$ have any affect on the solution? Should it be calculated?\n",
    "* <font color='red'>(**?**)</font> Does ${c}_{i}$ affect the solution?"
   ]
  },
  {
   "cell_type": "code",
   "execution_count": null,
   "metadata": {},
   "outputs": [],
   "source": [
    "# Find the Point to Minimize Sum of Squared Euclidean Distances\n",
    "\n",
    "def PointMinSumSqrDistance( mL : np.ndarray ) -> np.ndarray:\n",
    "    \"\"\"\n",
    "    The function finds the point in 2D which minimizes the sum of squared Euclidean distances to a set of lines.\n",
    "    For a line, `vL`, a row in the matrix `mL`:\n",
    "    The line is given as `vL[0] * x + vL[1] * y + vL[2] = 0`.  \n",
    "    The line is assumed to have `np.linalg.norm(vL[:2]) = 1`.\n",
    "    Input:\n",
    "        mL      - Set of 2D lines parameters (numLines x 3).\n",
    "    Output:\n",
    "        vX      - 2D point which minimizes .\n",
    "    \"\"\"\n",
    "    #===========================Fill This===========================#\n",
    "    # 1. Calculate the matrix `mM`.\n",
    "    # 2. Calculate the vector `vN`.\n",
    "    # 3. Find the optimal point.\n",
    "    # !! The solution should match the derivation.\n",
    "    \n",
    "    mM = mL[:, :2].T @ mL[:, :2]                         #<! Set mM\n",
    "    vN = np.sum(mL[:, 2][:, None] * mL[:, :2], axis = 0) #<! Set vN\n",
    "\n",
    "    vX = -sp.linalg.solve(mM, vN, assume_a = 'pos') #<! Solve the system of equations\n",
    "    #===============================================================#\n",
    "    \n",
    "    return vX"
   ]
  },
  {
   "cell_type": "markdown",
   "metadata": {},
   "source": [
    "* <font color='brown'>(**#**)</font> Sum of outer products: $\\sum_{i} \\boldsymbol{u}_{i} \\boldsymbol{v}_{i}^{T} = \\boldsymbol{U} \\boldsymbol{V}^{T}$ where $\\boldsymbol{U} = \\begin{bmatrix} | & & | \\\\ \\boldsymbol{u}_{1} & \\dots & \\boldsymbol{u}_{N} \\\\ | & & | \\end{bmatrix}, \\; \\boldsymbol{V} = \\begin{bmatrix} | & & | \\\\ \\boldsymbol{v}_{1} & \\dots & \\boldsymbol{v}_{N} \\\\ | & & | \\end{bmatrix}$.\n",
    "* <font color='red'>(**?**)</font> Will the code `sp.linalg.solve(-mM, vN)` give the same result?\n",
    "* <font color='red'>(**?**)</font> Will the code `sp.linalg.solve(mM, vN, assume_a = 'pos')` work?"
   ]
  },
  {
   "cell_type": "code",
   "execution_count": null,
   "metadata": {},
   "outputs": [],
   "source": [
    "# Plot the Optimal Solution \n",
    "\n",
    "hF, hA = plt.subplots(figsize = (10, 7))\n",
    "\n",
    "for ii in range(numLines):\n",
    "    vY = np.array([mM[ii, 0] * valX + mM[ii, 1] for valX in vX])\n",
    "    hA.plot(vX, vY, lw = LINE_WIDTH_DEF, label = f'Line {ii + 1:02d}')\n",
    "\n",
    "vP = PointMinSumSqrDistance(mL) #<! Find the point\n",
    "hA.scatter(vP[0], vP[1], s = 4 * MARKER_SIZE_DEF, color = '#FFE119', label = 'Optimal Point', zorder = 2.1)\n",
    "\n",
    "hA.set_aspect('equal') #<! Must in order to have 90 [Deg]\n",
    "hA.set_xlabel('x')\n",
    "hA.set_ylabel('y')\n",
    "hA.set_title('Set of Lines and the Optimal Point')\n",
    "\n",
    "hA.legend();"
   ]
  },
  {
   "cell_type": "markdown",
   "metadata": {},
   "source": [
    "* <font color='green'>(**@**)</font> Create _Heatmap_ of the objective function.\n",
    "* <font color='green'>(**@**)</font> Create _Heatmap_ of the _Euclidean Distance_ and compare.\n",
    "* <font color='red'>(**?**)</font> In what cases the Squared Euclidean Distance will fail?"
   ]
  }
 ],
 "metadata": {
  "kernelspec": {
   "display_name": "Python 3",
   "language": "python",
   "name": "python3"
  },
  "language_info": {
   "codemirror_mode": {
    "name": "ipython",
    "version": 3
   },
   "file_extension": ".py",
   "mimetype": "text/x-python",
   "name": "python",
   "nbconvert_exporter": "python",
   "pygments_lexer": "ipython3",
   "version": "3.12.10"
  },
  "toc": {
   "base_numbering": 1,
   "nav_menu": {},
   "number_sections": false,
   "sideBar": true,
   "skip_h1_title": false,
   "title_cell": "Table of Contents",
   "title_sidebar": "Contents",
   "toc_cell": false,
   "toc_position": {},
   "toc_section_display": true,
   "toc_window_display": false
  },
  "varInspector": {
   "cols": {
    "lenName": 16,
    "lenType": 16,
    "lenVar": 40
   },
   "kernels_config": {
    "python": {
     "delete_cmd_postfix": "",
     "delete_cmd_prefix": "del ",
     "library": "var_list.py",
     "varRefreshCmd": "print(var_dic_list())"
    },
    "r": {
     "delete_cmd_postfix": ") ",
     "delete_cmd_prefix": "rm(",
     "library": "var_list.r",
     "varRefreshCmd": "cat(var_dic_list()) "
    }
   },
   "types_to_exclude": [
    "module",
    "function",
    "builtin_function_or_method",
    "instance",
    "_Feature"
   ],
   "window_display": false
  },
  "vscode": {
   "interpreter": {
    "hash": "4c555be6fa9458c8c75b4612c68315d9f1d74815b73d0e564fda29ad772cfcda"
   }
  }
 },
 "nbformat": 4,
 "nbformat_minor": 4
}
