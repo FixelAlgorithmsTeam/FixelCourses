{
 "cells": [
  {
   "attachments": {},
   "cell_type": "markdown",
   "metadata": {},
   "source": [
    "[![Fixel Algorithms](https://fixelalgorithms.co/images/CCExt.png)](https://fixelalgorithms.gitlab.io)\n",
    "\n",
    "# Optimization Methods\n",
    "\n",
    "## Convex Optimization - Smooth Optimization - Quadratic Objective\n",
    "\n",
    "> Notebook by:\n",
    "> - Royi Avital RoyiAvital@fixelalgorithms.com\n",
    "\n",
    "## Revision History\n",
    "\n",
    "| Version | Date       | User        |Content / Changes                                                   |\n",
    "|---------|------------|-------------|--------------------------------------------------------------------|\n",
    "| 1.0.003 | 16/07/2025 | Royi Avital | Fixed the peak location calculation                                |\n",
    "| 1.0.002 | 01/07/2025 | Royi Avital | Removed _SeaBorn_                                                  |\n",
    "| 1.0.001 | 07/01/2025 | Royi Avital | Added question about the peak                                      |\n",
    "| 1.0.000 | 09/02/2024 | Royi Avital | First version                                                      |"
   ]
  },
  {
   "attachments": {},
   "cell_type": "markdown",
   "metadata": {},
   "source": [
    "[![Open In Colab](https://colab.research.google.com/assets/colab-badge.svg)](https://colab.research.google.com/github/FixelAlgorithmsTeam/FixelCourses/blob/master/AIProgram/2024_02/0010LocalQuadraticModel.ipynb)"
   ]
  },
  {
   "cell_type": "code",
   "execution_count": 1,
   "metadata": {
    "ExecuteTime": {
     "end_time": "2022-02-02T09:30:06.492269Z",
     "start_time": "2022-02-02T09:30:06.220934Z"
    }
   },
   "outputs": [],
   "source": [
    "# Import Packages\n",
    "\n",
    "# General Tools\n",
    "import numpy as np\n",
    "import scipy as sp\n",
    "import pandas as pd\n",
    "\n",
    "# Machine Learning\n",
    "\n",
    "# Miscellaneous\n",
    "import math\n",
    "from platform import python_version\n",
    "import random\n",
    "\n",
    "# Typing\n",
    "from typing import Callable, List, Tuple, Union\n",
    "\n",
    "# Visualization\n",
    "import matplotlib.pyplot as plt\n",
    "import plotly.express as px\n",
    "import plotly.graph_objects as go\n",
    "\n",
    "# Jupyter\n",
    "from IPython import get_ipython"
   ]
  },
  {
   "attachments": {},
   "cell_type": "markdown",
   "metadata": {},
   "source": [
    "## Notations\n",
    "\n",
    "* <font color='red'>(**?**)</font> Question to answer interactively.\n",
    "* <font color='blue'>(**!**)</font> Simple task to add code for the notebook.\n",
    "* <font color='green'>(**@**)</font> Optional / Extra self practice.\n",
    "* <font color='brown'>(**#**)</font> Note / Useful resource / Food for thought.\n",
    "\n",
    "Code Notations:\n",
    "\n",
    "```python\n",
    "someVar    = 2; #<! Notation for a variable\n",
    "vVector    = np.random.rand(4) #<! Notation for 1D array\n",
    "mMatrix    = np.random.rand(4, 3) #<! Notation for 2D array\n",
    "tTensor    = np.random.rand(4, 3, 2, 3) #<! Notation for nD array (Tensor)\n",
    "tuTuple    = (1, 2, 3) #<! Notation for a tuple\n",
    "lList      = [1, 2, 3] #<! Notation for a list\n",
    "dDict      = {1: 3, 2: 2, 3: 1} #<! Notation for a dictionary\n",
    "oObj       = MyClass() #<! Notation for an object\n",
    "dfData     = pd.DataFrame() #<! Notation for a data frame\n",
    "dsData     = pd.Series() #<! Notation for a series\n",
    "hObj       = plt.Axes() #<! Notation for an object / handler / function handler\n",
    "```\n",
    "\n",
    "### Code Exercise\n",
    "\n",
    " - Single line fill\n",
    "\n",
    "```python\n",
    "valToFill = ???\n",
    "```\n",
    "\n",
    " - Multi Line to Fill (At least one)\n",
    "\n",
    "```python\n",
    "# You need to start writing\n",
    "?????\n",
    "```\n",
    "\n",
    " - Section to Fill\n",
    "\n",
    "```python\n",
    "#===========================Fill This===========================#\n",
    "# 1. Explanation about what to do.\n",
    "# !! Remarks to follow / take under consideration.\n",
    "mX = ???\n",
    "\n",
    "?????\n",
    "#===============================================================#\n",
    "```"
   ]
  },
  {
   "cell_type": "markdown",
   "metadata": {},
   "source": [
    "## MathJaX Macros\n",
    "\n",
    "Adding _quality of life_ macros.\n",
    "\n",
    "$$\n",
    "\\newcommand{\\MyParen}[1]{\\left( #1 \\right)}\n",
    "\\newcommand{\\MyBrack}[1]{\\left\\lbrack #1 \\right\\rbrack}\n",
    "\\newcommand{\\MyBrace}[1]{\\left\\lbrace #1 \\right\\rbrace}\n",
    "\\newcommand{\\MyMat}[1]{\\begin{bmatrix} #1 \\end{bmatrix}}\n",
    "\\newcommand{\\MyNorm}[2]{{\\left\\| #1 \\right\\|}_{#2}}\n",
    "\\newcommand{\\MyAbs}[1]{\\left| #1 \\right|}\n",
    "\\newcommand{\\MyNormTwo}[1]{\\MyNorm{#1}{2}}\n",
    "\\newcommand{\\MyCeil}[1]{\\lceil #1 \\rceil}\n",
    "\\newcommand{\\MyInProd}[2]{\\langle #1, #2 \\rangle}\n",
    "\\newcommand{\\MyUndBrace}[2]{\\underset{#2}{\\underbrace{#1}}}\n",
    "\\newcommand{\\RR}[1]{\\mathbb{R}^{#1}}\n",
    "\\newcommand{\\InR}[1]{\\in \\mathbb{R}^{#1}}\n",
    "\\newcommand{\\InC}[1]{\\in \\mathbb{C}^{#1}}\n",
    "\\newcommand{\\BS}[1]{\\boldsymbol{#1}}\n",
    "\\newcommand{\\MyClr}[2]{{\\color{#1}{#2}}}\n",
    "\\newcommand{\\MyQuad}[2]{ {#1}^{T} #2 #1 }\n",
    "$$"
   ]
  },
  {
   "cell_type": "code",
   "execution_count": 2,
   "metadata": {},
   "outputs": [],
   "source": [
    "# Configuration\n",
    "%matplotlib inline\n",
    "\n",
    "# warnings.filterwarnings(\"ignore\")\n",
    "\n",
    "seedNum = 512\n",
    "np.random.seed(seedNum)\n",
    "random.seed(seedNum)\n",
    "\n",
    "# Matplotlib default color palette\n",
    "lMatPltLibclr = ['#1f77b4', '#ff7f0e', '#2ca02c', '#d62728', '#9467bd', '#8c564b', '#e377c2', '#7f7f7f', '#bcbd22', '#17becf']\n",
    "\n",
    "runInGoogleColab = 'google.colab' in str(get_ipython())"
   ]
  },
  {
   "cell_type": "code",
   "execution_count": 3,
   "metadata": {},
   "outputs": [],
   "source": [
    "# Constants\n",
    "\n",
    "FIG_SIZE_DEF    = (8, 8)\n",
    "ELM_SIZE_DEF    = 50\n",
    "CLASS_COLOR     = ('b', 'r')\n",
    "EDGE_COLOR      = 'k'\n",
    "MARKER_SIZE_DEF = 10\n",
    "LINE_WIDTH_DEF  = 2"
   ]
  },
  {
   "cell_type": "code",
   "execution_count": 4,
   "metadata": {},
   "outputs": [],
   "source": [
    "# Course Packages\n"
   ]
  },
  {
   "cell_type": "code",
   "execution_count": 5,
   "metadata": {},
   "outputs": [],
   "source": [
    "# Auxiliary Functions\n"
   ]
  },
  {
   "cell_type": "code",
   "execution_count": 6,
   "metadata": {},
   "outputs": [],
   "source": [
    "# Parameters\n",
    "\n",
    "gridRadius = 4\n",
    "numGridPts = (2 * gridRadius) + 1\n",
    "\n",
    "μ = -0.2\n",
    "σ = 1.5"
   ]
  },
  {
   "cell_type": "markdown",
   "metadata": {},
   "source": [
    "* <font color='red'>(**?**)</font> For multivariate (2D) Gaussian, $\\mu$ should be a vector and $\\sigma$ should be a matrix.  \n",
    "Yet above they are scalars. What does it mean the model will be?\n"
   ]
  },
  {
   "attachments": {},
   "cell_type": "markdown",
   "metadata": {},
   "source": [
    "## Local Quadratic Model\n",
    "\n",
    "Local quadratic models are useful in many cases to model set of samples.  \n",
    "One motivation could be that near local extrema many functions look like a quadratic model.\n",
    "\n",
    "A _Quadratic Model_ in $\\mathbb{R}^{n}$ is given by:\n",
    "\n",
    "$$ f \\left( \\boldsymbol{x} \\right) = \\boldsymbol{x}^{T} \\boldsymbol{A} \\boldsymbol{x} + \\boldsymbol{b}^{T} \\boldsymbol{x} + c $$\n",
    "\n",
    "Where the model parameters are the elements of the **matrix** $\\boldsymbol{A}$, the **vector** $\\boldsymbol{b}$ and the **scalar** $c$.\n",
    "\n",
    "This notebook demonstrates how to estimate the parameters of a quadratic model given a set of samples.  \n",
    "Specially, a 2D model will be used.\n",
    "\n",
    "The objective is to estimate the peak location and value of the sampled data.  \n",
    "The steps are:\n",
    "\n",
    "1. Estimate the parameters of the polynomial model.\n",
    "2. Extract the maximum values and the corresponding argument of the 2nd order model.\n",
    "3. Compare the model results to the actual model.\n",
    "\n",
    "\n",
    "* <font color='red'>(**?**)</font> How many parameters do a 2D _Quadratic Model_ have? Think about the properties of $\\BS{A}$."
   ]
  },
  {
   "cell_type": "markdown",
   "metadata": {},
   "source": [
    "## Generate Data\n",
    "\n",
    "The data will be sampled from a 2D Gaussian function."
   ]
  },
  {
   "cell_type": "code",
   "execution_count": 7,
   "metadata": {},
   "outputs": [],
   "source": [
    "# Generate / Load the Data\n",
    "vX = np.linspace(-gridRadius, gridRadius, numGridPts) #<! Grid of the Gaussian Function\n",
    "vY = np.exp(-0.5 * np.square((vX - μ) / σ))\n",
    "mY = np.outer(vY, vY) #<! 2D Gaussian"
   ]
  },
  {
   "cell_type": "markdown",
   "metadata": {},
   "source": [
    "* <font color='red'>(**?**)</font> What's the coordinates of the peak? Think of the samples vs. the model to generate them."
   ]
  },
  {
   "cell_type": "code",
   "execution_count": 8,
   "metadata": {},
   "outputs": [
    {
     "data": {
      "application/vnd.plotly.v1+json": {
       "config": {
        "plotlyServerURL": "https://plot.ly"
       },
       "data": [
        {
         "name": "Gaussian",
         "type": "surface",
         "x": {
          "bdata": "AAAAAAAAEMAAAAAAAAAIwAAAAAAAAADAAAAAAAAA8L8AAAAAAAAAAAAAAAAAAPA/AAAAAAAAAEAAAAAAAAAIQAAAAAAAABBA",
          "dtype": "f8"
         },
         "y": {
          "bdata": "AAAAAAAAEMAAAAAAAAAIwAAAAAAAAADAAAAAAAAA8L8AAAAAAAAAAAAAAAAAAPA/AAAAAAAAAEAAAAAAAAAIQAAAAAAAABBA",
          "dtype": "f8"
         },
         "z": {
          "bdata": "a4sxw0a+Wj+1A/iRPvt8P/aSLRoyI5Q/BP/FQnjxoT9+kQDdo4CkP7z09PWlCp4/JQsHgls5jD+tNITAeABxP4kzqXFjREo/tQP4kT77fD+BhvYTKmifP5m5wuqi0rU/q3/dO+Zxwz8Tvn+z5jfGP7JDgB0kR8A/pUnhCA2Wrj8B3lRmu2ySP+2F7NQnd2w/9pItGjIjlD+ZucLqotK1PxTzhhemU84/W8seo7IF2z8R7l7pX+DeP/5i6GIAn9Y/TzWsFKRAxT+G9RscwpqpPwEuuDtqx4M/BP/FQnjxoT+rf9075nHDP1vLHqOyBds/KZjbmewT6D/NuRj5FoPrP1Op+wf/J+Q/e1nZ38/v0j8LIJIbiNC2P+3H5pKwn5E/fpEA3aOApD8Tvn+z5jfGPxHuXulf4N4/zbkY+RaD6z+4qZG+pm/vP7l/en34B+c/s+MvZkKj1T9g5SpKkhG6P/CSLRoyI5Q/vPT09aUKnj+yQ4AdJEfAP/5i6GIAn9Y/U6n7B/8n5D+5f3p9+AfnP84wllyU3+A/bwnShnu0zz+LQv1tRhmzP3gFPj66gY0/JQsHgls5jD+lSeEIDZauP081rBSkQMU/e1nZ38/v0j+z4y9mQqPVP28J0oZ7tM8/4MDLqG3JvT8C/8VCePGhP2o/B3O4uHs/rTSEwHgAcT8B3lRmu2ySP4b1GxzCmqk/CyCSG4jQtj9g5SpKkhG6P4tC/W1GGbM/Av/FQnjxoT/DXqUkG56FP3Ztqnb7smA/iTOpcWNESj/thezUJ3dsPwEuuDtqx4M/7cfmkrCfkT/wki0aMiOUP3gFPj66gY0/aj8Hc7i4ez92bap2+7JgPyEYsqerzDk/",
          "dtype": "f8",
          "shape": "9, 9"
         }
        },
        {
         "mode": "markers",
         "name": "Samples",
         "type": "scatter3d",
         "x": {
          "bdata": "AAAAAAAAEMAAAAAAAAAQwAAAAAAAABDAAAAAAAAAEMAAAAAAAAAQwAAAAAAAABDAAAAAAAAAEMAAAAAAAAAQwAAAAAAAABDAAAAAAAAACMAAAAAAAAAIwAAAAAAAAAjAAAAAAAAACMAAAAAAAAAIwAAAAAAAAAjAAAAAAAAACMAAAAAAAAAIwAAAAAAAAAjAAAAAAAAAAMAAAAAAAAAAwAAAAAAAAADAAAAAAAAAAMAAAAAAAAAAwAAAAAAAAADAAAAAAAAAAMAAAAAAAAAAwAAAAAAAAADAAAAAAAAA8L8AAAAAAADwvwAAAAAAAPC/AAAAAAAA8L8AAAAAAADwvwAAAAAAAPC/AAAAAAAA8L8AAAAAAADwvwAAAAAAAPC/AAAAAAAAAAAAAAAAAAAAAAAAAAAAAAAAAAAAAAAAAAAAAAAAAAAAAAAAAAAAAAAAAAAAAAAAAAAAAAAAAAAAAAAAAAAAAAAAAAAAAAAA8D8AAAAAAADwPwAAAAAAAPA/AAAAAAAA8D8AAAAAAADwPwAAAAAAAPA/AAAAAAAA8D8AAAAAAADwPwAAAAAAAPA/AAAAAAAAAEAAAAAAAAAAQAAAAAAAAABAAAAAAAAAAEAAAAAAAAAAQAAAAAAAAABAAAAAAAAAAEAAAAAAAAAAQAAAAAAAAABAAAAAAAAACEAAAAAAAAAIQAAAAAAAAAhAAAAAAAAACEAAAAAAAAAIQAAAAAAAAAhAAAAAAAAACEAAAAAAAAAIQAAAAAAAAAhAAAAAAAAAEEAAAAAAAAAQQAAAAAAAABBAAAAAAAAAEEAAAAAAAAAQQAAAAAAAABBAAAAAAAAAEEAAAAAAAAAQQAAAAAAAABBA",
          "dtype": "f8"
         },
         "y": {
          "bdata": "AAAAAAAAEMAAAAAAAAAIwAAAAAAAAADAAAAAAAAA8L8AAAAAAAAAAAAAAAAAAPA/AAAAAAAAAEAAAAAAAAAIQAAAAAAAABBAAAAAAAAAEMAAAAAAAAAIwAAAAAAAAADAAAAAAAAA8L8AAAAAAAAAAAAAAAAAAPA/AAAAAAAAAEAAAAAAAAAIQAAAAAAAABBAAAAAAAAAEMAAAAAAAAAIwAAAAAAAAADAAAAAAAAA8L8AAAAAAAAAAAAAAAAAAPA/AAAAAAAAAEAAAAAAAAAIQAAAAAAAABBAAAAAAAAAEMAAAAAAAAAIwAAAAAAAAADAAAAAAAAA8L8AAAAAAAAAAAAAAAAAAPA/AAAAAAAAAEAAAAAAAAAIQAAAAAAAABBAAAAAAAAAEMAAAAAAAAAIwAAAAAAAAADAAAAAAAAA8L8AAAAAAAAAAAAAAAAAAPA/AAAAAAAAAEAAAAAAAAAIQAAAAAAAABBAAAAAAAAAEMAAAAAAAAAIwAAAAAAAAADAAAAAAAAA8L8AAAAAAAAAAAAAAAAAAPA/AAAAAAAAAEAAAAAAAAAIQAAAAAAAABBAAAAAAAAAEMAAAAAAAAAIwAAAAAAAAADAAAAAAAAA8L8AAAAAAAAAAAAAAAAAAPA/AAAAAAAAAEAAAAAAAAAIQAAAAAAAABBAAAAAAAAAEMAAAAAAAAAIwAAAAAAAAADAAAAAAAAA8L8AAAAAAAAAAAAAAAAAAPA/AAAAAAAAAEAAAAAAAAAIQAAAAAAAABBAAAAAAAAAEMAAAAAAAAAIwAAAAAAAAADAAAAAAAAA8L8AAAAAAAAAAAAAAAAAAPA/AAAAAAAAAEAAAAAAAAAIQAAAAAAAABBA",
          "dtype": "f8"
         },
         "z": {
          "bdata": "a4sxw0a+Wj+1A/iRPvt8P/aSLRoyI5Q/BP/FQnjxoT9+kQDdo4CkP7z09PWlCp4/JQsHgls5jD+tNITAeABxP4kzqXFjREo/tQP4kT77fD+BhvYTKmifP5m5wuqi0rU/q3/dO+Zxwz8Tvn+z5jfGP7JDgB0kR8A/pUnhCA2Wrj8B3lRmu2ySP+2F7NQnd2w/9pItGjIjlD+ZucLqotK1PxTzhhemU84/W8seo7IF2z8R7l7pX+DeP/5i6GIAn9Y/TzWsFKRAxT+G9RscwpqpPwEuuDtqx4M/BP/FQnjxoT+rf9075nHDP1vLHqOyBds/KZjbmewT6D/NuRj5FoPrP1Op+wf/J+Q/e1nZ38/v0j8LIJIbiNC2P+3H5pKwn5E/fpEA3aOApD8Tvn+z5jfGPxHuXulf4N4/zbkY+RaD6z+4qZG+pm/vP7l/en34B+c/s+MvZkKj1T9g5SpKkhG6P/CSLRoyI5Q/vPT09aUKnj+yQ4AdJEfAP/5i6GIAn9Y/U6n7B/8n5D+5f3p9+AfnP84wllyU3+A/bwnShnu0zz+LQv1tRhmzP3gFPj66gY0/JQsHgls5jD+lSeEIDZauP081rBSkQMU/e1nZ38/v0j+z4y9mQqPVP28J0oZ7tM8/4MDLqG3JvT8C/8VCePGhP2o/B3O4uHs/rTSEwHgAcT8B3lRmu2ySP4b1GxzCmqk/CyCSG4jQtj9g5SpKkhG6P4tC/W1GGbM/Av/FQnjxoT/DXqUkG56FP3Ztqnb7smA/iTOpcWNESj/thezUJ3dsPwEuuDtqx4M/7cfmkrCfkT/wki0aMiOUP3gFPj66gY0/aj8Hc7i4ez92bap2+7JgPyEYsqerzDk/",
          "dtype": "f8"
         }
        }
       ],
       "layout": {
        "autosize": false,
        "height": 500,
        "margin": {
         "b": 45,
         "l": 45,
         "r": 45,
         "t": 45
        },
        "scene": {
         "xaxis": {
          "title": {
           "text": "x_1"
          }
         },
         "yaxis": {
          "title": {
           "text": "x_2"
          }
         },
         "zaxis": {
          "title": {
           "text": ""
          }
         }
        },
        "template": {
         "data": {
          "bar": [
           {
            "error_x": {
             "color": "#2a3f5f"
            },
            "error_y": {
             "color": "#2a3f5f"
            },
            "marker": {
             "line": {
              "color": "#E5ECF6",
              "width": 0.5
             },
             "pattern": {
              "fillmode": "overlay",
              "size": 10,
              "solidity": 0.2
             }
            },
            "type": "bar"
           }
          ],
          "barpolar": [
           {
            "marker": {
             "line": {
              "color": "#E5ECF6",
              "width": 0.5
             },
             "pattern": {
              "fillmode": "overlay",
              "size": 10,
              "solidity": 0.2
             }
            },
            "type": "barpolar"
           }
          ],
          "carpet": [
           {
            "aaxis": {
             "endlinecolor": "#2a3f5f",
             "gridcolor": "white",
             "linecolor": "white",
             "minorgridcolor": "white",
             "startlinecolor": "#2a3f5f"
            },
            "baxis": {
             "endlinecolor": "#2a3f5f",
             "gridcolor": "white",
             "linecolor": "white",
             "minorgridcolor": "white",
             "startlinecolor": "#2a3f5f"
            },
            "type": "carpet"
           }
          ],
          "choropleth": [
           {
            "colorbar": {
             "outlinewidth": 0,
             "ticks": ""
            },
            "type": "choropleth"
           }
          ],
          "contour": [
           {
            "colorbar": {
             "outlinewidth": 0,
             "ticks": ""
            },
            "colorscale": [
             [
              0,
              "#0d0887"
             ],
             [
              0.1111111111111111,
              "#46039f"
             ],
             [
              0.2222222222222222,
              "#7201a8"
             ],
             [
              0.3333333333333333,
              "#9c179e"
             ],
             [
              0.4444444444444444,
              "#bd3786"
             ],
             [
              0.5555555555555556,
              "#d8576b"
             ],
             [
              0.6666666666666666,
              "#ed7953"
             ],
             [
              0.7777777777777778,
              "#fb9f3a"
             ],
             [
              0.8888888888888888,
              "#fdca26"
             ],
             [
              1,
              "#f0f921"
             ]
            ],
            "type": "contour"
           }
          ],
          "contourcarpet": [
           {
            "colorbar": {
             "outlinewidth": 0,
             "ticks": ""
            },
            "type": "contourcarpet"
           }
          ],
          "heatmap": [
           {
            "colorbar": {
             "outlinewidth": 0,
             "ticks": ""
            },
            "colorscale": [
             [
              0,
              "#0d0887"
             ],
             [
              0.1111111111111111,
              "#46039f"
             ],
             [
              0.2222222222222222,
              "#7201a8"
             ],
             [
              0.3333333333333333,
              "#9c179e"
             ],
             [
              0.4444444444444444,
              "#bd3786"
             ],
             [
              0.5555555555555556,
              "#d8576b"
             ],
             [
              0.6666666666666666,
              "#ed7953"
             ],
             [
              0.7777777777777778,
              "#fb9f3a"
             ],
             [
              0.8888888888888888,
              "#fdca26"
             ],
             [
              1,
              "#f0f921"
             ]
            ],
            "type": "heatmap"
           }
          ],
          "histogram": [
           {
            "marker": {
             "pattern": {
              "fillmode": "overlay",
              "size": 10,
              "solidity": 0.2
             }
            },
            "type": "histogram"
           }
          ],
          "histogram2d": [
           {
            "colorbar": {
             "outlinewidth": 0,
             "ticks": ""
            },
            "colorscale": [
             [
              0,
              "#0d0887"
             ],
             [
              0.1111111111111111,
              "#46039f"
             ],
             [
              0.2222222222222222,
              "#7201a8"
             ],
             [
              0.3333333333333333,
              "#9c179e"
             ],
             [
              0.4444444444444444,
              "#bd3786"
             ],
             [
              0.5555555555555556,
              "#d8576b"
             ],
             [
              0.6666666666666666,
              "#ed7953"
             ],
             [
              0.7777777777777778,
              "#fb9f3a"
             ],
             [
              0.8888888888888888,
              "#fdca26"
             ],
             [
              1,
              "#f0f921"
             ]
            ],
            "type": "histogram2d"
           }
          ],
          "histogram2dcontour": [
           {
            "colorbar": {
             "outlinewidth": 0,
             "ticks": ""
            },
            "colorscale": [
             [
              0,
              "#0d0887"
             ],
             [
              0.1111111111111111,
              "#46039f"
             ],
             [
              0.2222222222222222,
              "#7201a8"
             ],
             [
              0.3333333333333333,
              "#9c179e"
             ],
             [
              0.4444444444444444,
              "#bd3786"
             ],
             [
              0.5555555555555556,
              "#d8576b"
             ],
             [
              0.6666666666666666,
              "#ed7953"
             ],
             [
              0.7777777777777778,
              "#fb9f3a"
             ],
             [
              0.8888888888888888,
              "#fdca26"
             ],
             [
              1,
              "#f0f921"
             ]
            ],
            "type": "histogram2dcontour"
           }
          ],
          "mesh3d": [
           {
            "colorbar": {
             "outlinewidth": 0,
             "ticks": ""
            },
            "type": "mesh3d"
           }
          ],
          "parcoords": [
           {
            "line": {
             "colorbar": {
              "outlinewidth": 0,
              "ticks": ""
             }
            },
            "type": "parcoords"
           }
          ],
          "pie": [
           {
            "automargin": true,
            "type": "pie"
           }
          ],
          "scatter": [
           {
            "fillpattern": {
             "fillmode": "overlay",
             "size": 10,
             "solidity": 0.2
            },
            "type": "scatter"
           }
          ],
          "scatter3d": [
           {
            "line": {
             "colorbar": {
              "outlinewidth": 0,
              "ticks": ""
             }
            },
            "marker": {
             "colorbar": {
              "outlinewidth": 0,
              "ticks": ""
             }
            },
            "type": "scatter3d"
           }
          ],
          "scattercarpet": [
           {
            "marker": {
             "colorbar": {
              "outlinewidth": 0,
              "ticks": ""
             }
            },
            "type": "scattercarpet"
           }
          ],
          "scattergeo": [
           {
            "marker": {
             "colorbar": {
              "outlinewidth": 0,
              "ticks": ""
             }
            },
            "type": "scattergeo"
           }
          ],
          "scattergl": [
           {
            "marker": {
             "colorbar": {
              "outlinewidth": 0,
              "ticks": ""
             }
            },
            "type": "scattergl"
           }
          ],
          "scattermap": [
           {
            "marker": {
             "colorbar": {
              "outlinewidth": 0,
              "ticks": ""
             }
            },
            "type": "scattermap"
           }
          ],
          "scattermapbox": [
           {
            "marker": {
             "colorbar": {
              "outlinewidth": 0,
              "ticks": ""
             }
            },
            "type": "scattermapbox"
           }
          ],
          "scatterpolar": [
           {
            "marker": {
             "colorbar": {
              "outlinewidth": 0,
              "ticks": ""
             }
            },
            "type": "scatterpolar"
           }
          ],
          "scatterpolargl": [
           {
            "marker": {
             "colorbar": {
              "outlinewidth": 0,
              "ticks": ""
             }
            },
            "type": "scatterpolargl"
           }
          ],
          "scatterternary": [
           {
            "marker": {
             "colorbar": {
              "outlinewidth": 0,
              "ticks": ""
             }
            },
            "type": "scatterternary"
           }
          ],
          "surface": [
           {
            "colorbar": {
             "outlinewidth": 0,
             "ticks": ""
            },
            "colorscale": [
             [
              0,
              "#0d0887"
             ],
             [
              0.1111111111111111,
              "#46039f"
             ],
             [
              0.2222222222222222,
              "#7201a8"
             ],
             [
              0.3333333333333333,
              "#9c179e"
             ],
             [
              0.4444444444444444,
              "#bd3786"
             ],
             [
              0.5555555555555556,
              "#d8576b"
             ],
             [
              0.6666666666666666,
              "#ed7953"
             ],
             [
              0.7777777777777778,
              "#fb9f3a"
             ],
             [
              0.8888888888888888,
              "#fdca26"
             ],
             [
              1,
              "#f0f921"
             ]
            ],
            "type": "surface"
           }
          ],
          "table": [
           {
            "cells": {
             "fill": {
              "color": "#EBF0F8"
             },
             "line": {
              "color": "white"
             }
            },
            "header": {
             "fill": {
              "color": "#C8D4E3"
             },
             "line": {
              "color": "white"
             }
            },
            "type": "table"
           }
          ]
         },
         "layout": {
          "annotationdefaults": {
           "arrowcolor": "#2a3f5f",
           "arrowhead": 0,
           "arrowwidth": 1
          },
          "autotypenumbers": "strict",
          "coloraxis": {
           "colorbar": {
            "outlinewidth": 0,
            "ticks": ""
           }
          },
          "colorscale": {
           "diverging": [
            [
             0,
             "#8e0152"
            ],
            [
             0.1,
             "#c51b7d"
            ],
            [
             0.2,
             "#de77ae"
            ],
            [
             0.3,
             "#f1b6da"
            ],
            [
             0.4,
             "#fde0ef"
            ],
            [
             0.5,
             "#f7f7f7"
            ],
            [
             0.6,
             "#e6f5d0"
            ],
            [
             0.7,
             "#b8e186"
            ],
            [
             0.8,
             "#7fbc41"
            ],
            [
             0.9,
             "#4d9221"
            ],
            [
             1,
             "#276419"
            ]
           ],
           "sequential": [
            [
             0,
             "#0d0887"
            ],
            [
             0.1111111111111111,
             "#46039f"
            ],
            [
             0.2222222222222222,
             "#7201a8"
            ],
            [
             0.3333333333333333,
             "#9c179e"
            ],
            [
             0.4444444444444444,
             "#bd3786"
            ],
            [
             0.5555555555555556,
             "#d8576b"
            ],
            [
             0.6666666666666666,
             "#ed7953"
            ],
            [
             0.7777777777777778,
             "#fb9f3a"
            ],
            [
             0.8888888888888888,
             "#fdca26"
            ],
            [
             1,
             "#f0f921"
            ]
           ],
           "sequentialminus": [
            [
             0,
             "#0d0887"
            ],
            [
             0.1111111111111111,
             "#46039f"
            ],
            [
             0.2222222222222222,
             "#7201a8"
            ],
            [
             0.3333333333333333,
             "#9c179e"
            ],
            [
             0.4444444444444444,
             "#bd3786"
            ],
            [
             0.5555555555555556,
             "#d8576b"
            ],
            [
             0.6666666666666666,
             "#ed7953"
            ],
            [
             0.7777777777777778,
             "#fb9f3a"
            ],
            [
             0.8888888888888888,
             "#fdca26"
            ],
            [
             1,
             "#f0f921"
            ]
           ]
          },
          "colorway": [
           "#636efa",
           "#EF553B",
           "#00cc96",
           "#ab63fa",
           "#FFA15A",
           "#19d3f3",
           "#FF6692",
           "#B6E880",
           "#FF97FF",
           "#FECB52"
          ],
          "font": {
           "color": "#2a3f5f"
          },
          "geo": {
           "bgcolor": "white",
           "lakecolor": "white",
           "landcolor": "#E5ECF6",
           "showlakes": true,
           "showland": true,
           "subunitcolor": "white"
          },
          "hoverlabel": {
           "align": "left"
          },
          "hovermode": "closest",
          "mapbox": {
           "style": "light"
          },
          "paper_bgcolor": "white",
          "plot_bgcolor": "#E5ECF6",
          "polar": {
           "angularaxis": {
            "gridcolor": "white",
            "linecolor": "white",
            "ticks": ""
           },
           "bgcolor": "#E5ECF6",
           "radialaxis": {
            "gridcolor": "white",
            "linecolor": "white",
            "ticks": ""
           }
          },
          "scene": {
           "xaxis": {
            "backgroundcolor": "#E5ECF6",
            "gridcolor": "white",
            "gridwidth": 2,
            "linecolor": "white",
            "showbackground": true,
            "ticks": "",
            "zerolinecolor": "white"
           },
           "yaxis": {
            "backgroundcolor": "#E5ECF6",
            "gridcolor": "white",
            "gridwidth": 2,
            "linecolor": "white",
            "showbackground": true,
            "ticks": "",
            "zerolinecolor": "white"
           },
           "zaxis": {
            "backgroundcolor": "#E5ECF6",
            "gridcolor": "white",
            "gridwidth": 2,
            "linecolor": "white",
            "showbackground": true,
            "ticks": "",
            "zerolinecolor": "white"
           }
          },
          "shapedefaults": {
           "line": {
            "color": "#2a3f5f"
           }
          },
          "ternary": {
           "aaxis": {
            "gridcolor": "white",
            "linecolor": "white",
            "ticks": ""
           },
           "baxis": {
            "gridcolor": "white",
            "linecolor": "white",
            "ticks": ""
           },
           "bgcolor": "#E5ECF6",
           "caxis": {
            "gridcolor": "white",
            "linecolor": "white",
            "ticks": ""
           }
          },
          "title": {
           "x": 0.05
          },
          "xaxis": {
           "automargin": true,
           "gridcolor": "white",
           "linecolor": "white",
           "ticks": "",
           "title": {
            "standoff": 15
           },
           "zerolinecolor": "white",
           "zerolinewidth": 2
          },
          "yaxis": {
           "automargin": true,
           "gridcolor": "white",
           "linecolor": "white",
           "ticks": "",
           "title": {
            "standoff": 15
           },
           "zerolinecolor": "white",
           "zerolinewidth": 2
          }
         }
        },
        "title": {
         "text": "Data Samples"
        },
        "width": 600
       }
      }
     },
     "metadata": {},
     "output_type": "display_data"
    }
   ],
   "source": [
    "# Display the Data\n",
    "\n",
    "hF = go.Figure()\n",
    "hF.add_trace(go.Surface(x = vX, y = vX, z = mY, name = 'Gaussian'))\n",
    "hF.add_trace(go.Scatter3d(x = np.repeat(vX, numGridPts), y = np.tile(vX, numGridPts), z = mY.flat, mode = 'markers', name = 'Samples'))\n",
    "hF.update_layout(title = 'Data Samples', scene = dict(xaxis_title = r'x_1', yaxis_title = r'x_2', zaxis_title = ''),\n",
    "                 autosize = False, width = 600, height = 500, margin = dict(l = 45, r = 45, b = 45, t = 45)) #<! No LaTeX support in 3D plots"
   ]
  },
  {
   "cell_type": "markdown",
   "metadata": {},
   "source": [
    "## Build the Linear Model\n",
    "\n",
    "Given a set of $\\left\\{ \\left( \\boldsymbol{x}_{i}, {y}_{i} \\right) \\right\\}_{i = 1}^{N}$ the model is given by:\n",
    "\n",
    "$$ {y}_{i} = \\boldsymbol{x}_{i}^{T} \\boldsymbol{A} \\boldsymbol{x}_{i} + \\boldsymbol{b}^{T} \\boldsymbol{x}_{i} + c $$\n",
    "\n",
    "Which could be solved using _Linear Least Squares_ as:\n",
    "\n",
    "$$ \\arg \\min_{\\BS{A}, \\BS{b}, c} \\sum_{i = 1}^{N} \\MyParen{ {y}_{i} - \\boldsymbol{x}_{i}^{T} \\boldsymbol{A} \\boldsymbol{x}_{i} - \\boldsymbol{b}^{T} \\boldsymbol{x}_{i} - c }^{2} $$\n",
    "\n",
    "Yet, there is a more efficient way to build this.  \n",
    "A 2nd order model has basically the following form: ${y}_{i} = p {x}_{1}^{2} + q {x}_{2}^{2} + 2 r {x}_{1} {x}_{2} + s {x}_{1} + {t} {x}_{2} + u$.  \n",
    "Which can be solved in a classic linear form:\n",
    "\n",
    "$$ \\BS{y} = \\BS{H} \\BS{w} $$\n",
    "\n",
    "Where $\\BS{w} = \\MyBrack{ u, t, s, r, q, p }^{T}$ (Or any other permutation).\n",
    "\n",
    "* <font color='brown'>(**#**)</font> If a model is **linear**, it can be always be written in the form $\\BS{y} = \\BS{H} \\BS{w}$ for some $\\BS{H}$ and $\\BS{w}$.\n",
    "\n"
   ]
  },
  {
   "cell_type": "markdown",
   "metadata": {},
   "source": [
    "### Question 001\n",
    "\n",
    "1. Find the connection between the parameters $u, t, s, r, q, p$ to the elements of $\\BS{A}, \\BS{b}, c$.\n",
    "2. Derive the matrix $\\BS{H}$.  \n",
    "   The matrix is a combination of the set of $\\MyBrace{ \\BS{x}_{i} }_{i = 1}^{N}$.\n",
    "3. Implement in code a function to build $\\BS{H}$."
   ]
  },
  {
   "cell_type": "markdown",
   "metadata": {},
   "source": [
    "### Solution 001\n",
    "\n",
    "#### The Mapping\n",
    "\n",
    "The matrix $\\BS{A}$ must be symmetric, hence:\n",
    "\n",
    "$$ \\BS{A} = \\begin{bmatrix} {a}_{11} & {a}_{12} \\\\ {a}_{12} & {a}_{22} \\end{bmatrix} $$\n",
    "\n",
    "For $\\BS{x} = \\MyBrack{ {x}_{1}, {x}_{2} }^{T}$ the result:\n",
    "\n",
    "$$ \\begin{bmatrix} {x}_{1} & {x}_{2} \\end{bmatrix} \\begin{bmatrix} {a}_{11} & {a}_{12} \\\\ {a}_{12} & {a}_{22} \\end{bmatrix} \\begin{bmatrix} {x}_{1} \\\\ {x}_{2} \\end{bmatrix} = {a}_{11} {x}_{1}^{2} + 2 {a}_{12} {x}_{1} {x}_{2} + {a}_{22} {x}_{2}^{2} $$\n",
    "\n",
    "For the vector $\\BS{b} = \\MyBrack{ {b}_{1}, {b}_{2} }^{T}$ the result:\n",
    "\n",
    "$$ \\BS{b}^{T} \\BS{x} = {b}_{1} {x}_{1} + {b}_{2} {x}_{2} $$\n",
    "\n",
    "Hence the mapping is:\n",
    "\n",
    "$$ u = c, t = {b}_{2}, s = {b}_{1}, r = {a}_{12}, q = {a}_{22}, p = {a}_{11} $$\n",
    "\n",
    "#### The Matrix $\\BS{H}$\n",
    "\n",
    "If $\\BS{w} = \\MyBrack{ u, t, s, r, q, p }^{T}$ then the columns of $\\BS{H}$ should match the elements of $\\BS{x}_{i}$:\n",
    "\n",
    "$$ \\BS{H} = \\begin{bmatrix} 1 & \\BS{x}_{1} \\MyBrack{2} & \\BS{x}_{1} \\MyBrack{1} & 2 \\BS{x}_{1} \\MyBrack{1} \\BS{x}_{1} \\MyBrack{2} & \\BS{x}_{1} \\MyBrack{2}^{2} & \\BS{x}_{1} \\MyBrack{1}^{2} \\\\ 1 & \\BS{x}_{2} \\MyBrack{2} & \\BS{x}_{2} \\MyBrack{1} & 2 \\BS{x}_{2} \\MyBrack{1} \\BS{x}_{2} \\MyBrack{2} & \\BS{x}_{2} \\MyBrack{2}^{2} & \\BS{x}_{2} \\MyBrack{1}^{2} \\\\ \\vdots & \\vdots & \\vdots & \\vdots & \\vdots & \\vdots \\\\ 1 & \\BS{x}_{N} \\MyBrack{2} & \\BS{x}_{N} \\MyBrack{1} & 2 \\BS{x}_{N} \\MyBrack{1} \\BS{x}_{N} \\MyBrack{2} & \\BS{x}_{N} \\MyBrack{2}^{2} & \\BS{x}_{N} \\MyBrack{1}^{2} \\end{bmatrix} $$\n",
    "\n",
    "---\n"
   ]
  },
  {
   "cell_type": "code",
   "execution_count": 9,
   "metadata": {},
   "outputs": [],
   "source": [
    "# The Linear Model Matrix H\n",
    "\n",
    "#===========================Fill This===========================#\n",
    "# 1. Implement the function to build H.\n",
    "# !! You may find `np.column_stack()` useful.\n",
    "\n",
    "def BuildMatH( vX1: np.ndarray, vX2: np.ndarray ) -> np.ndarray:\n",
    "    \"\"\"\n",
    "    Build the linear model matrix for 2nd degree polynomial in 2D.\n",
    "    Input:\n",
    "      vX1         - The set of the 1st coordinates, Vector (numPts, 1).\n",
    "      vX2         - The set of the 2nd coordinates, Vector (numPts, 1).\n",
    "    Output:\n",
    "      mH          - The model matrix.\n",
    "    \"\"\"\n",
    "\n",
    "    numPts  = np.size(vX1) #<! Number of points\n",
    "    mH      = np.column_stack((np.ones(numPts), vX2, vX1, 2 * vX1 * vX2, np.square(vX2), np.square(vX1)))\n",
    "\n",
    "    return mH\n",
    "\n",
    "#===============================================================#"
   ]
  },
  {
   "cell_type": "markdown",
   "metadata": {},
   "source": [
    "## Solve the Linear Model\n",
    "\n",
    "The linear model is given by $\\BS{y} = \\BS{H} \\BS{w}$, to estimate $\\BS{w}$ the model should be solved.  \n",
    "In reality, equality is not always achievable (Noise, Model accuracy, etc...) hence the problem is solved in the _Leas Squares_ meaning:\n",
    "\n",
    "$$ \\arg \\min_{\\BS{w}} \\frac{1}{2} \\MyNormTwo{ \\BS{H} \\BS{w} - \\BS{y} }^{2} $$\n",
    "\n",
    "To solve such cases the function [`np.linalg.lstsq()`](https://numpy.org/doc/stable/reference/generated/numpy.linalg.lstsq.html) is used."
   ]
  },
  {
   "cell_type": "code",
   "execution_count": 10,
   "metadata": {},
   "outputs": [],
   "source": [
    "# Estimate the Model Parameters\n",
    "# Using a LS solver to estimate vW\n",
    "\n",
    "# Since `mY.flat` is row major:\n",
    "# 1. x1 changes for ech point, repeats each numGridPts.\n",
    "# 2. x2 changes each numGridPts, constant in between.\n",
    "vX1 = np.tile(vX, numGridPts) #<! Replicate the vector\n",
    "vX2 = np.repeat(vX, numGridPts) #<! Replicates the items\n",
    "mH  = BuildMatH(vX1, vX2)\n",
    "\n",
    "# vW, _, _, _ = np.linalg.lstsq(mH, mY.flat, rcond = None) #<! _ is \"don't care\"\n",
    "vW, *_ = np.linalg.lstsq(mH, mY.flat, rcond = None) #<! See https://stackoverflow.com/questions/431866"
   ]
  },
  {
   "cell_type": "code",
   "execution_count": 11,
   "metadata": {},
   "outputs": [],
   "source": [
    "# Build the Quadratic Model\n",
    "\n",
    "#===========================Fill This===========================#\n",
    "# 1. Calculate `mA`, `vB` and `valC` from `vW`.\n",
    "\n",
    "mA      = np.array([[vW[5], vW[3]], [vW[3], vW[4]]])\n",
    "vB      = np.array([vW[2], vW[1]])\n",
    "valC    = vW[0]\n",
    "\n",
    "#===============================================================#"
   ]
  },
  {
   "cell_type": "code",
   "execution_count": 21,
   "metadata": {},
   "outputs": [],
   "source": [
    "# Estimate the Model Values\n",
    "mX = np.column_stack((vX1, vX2))\n",
    "\n",
    "# vYEst = mH * vW #<! The linear model\n",
    "vYEst = np.array([mX[ii, :] @ mA @ mX[ii, :].T + np.dot(mX[ii, :], vB) + valC for ii in range(numGridPts * numGridPts)])\n",
    "# vYEst = np.diag(mX @ mA @ mX.T) + mX @ vB + valC"
   ]
  },
  {
   "cell_type": "markdown",
   "metadata": {},
   "source": [
    "* <font color='red'>(**?**)</font> How can `vY` be evaluated using `mA`, `vB` and `valC` without any loops? Is it efficient?\n",
    "* <font color='blue'>(**!**)</font> Implement the vectorized method. "
   ]
  },
  {
   "cell_type": "code",
   "execution_count": null,
   "metadata": {},
   "outputs": [
    {
     "name": "stdout",
     "output_type": "stream",
     "text": [
      "The quadratic model peak location is: [-0.11331485 -0.11331485]\n"
     ]
    }
   ],
   "source": [
    "# Estimate `arg max` and Maximum Value\n",
    "# Find `x` which vanishes the gradient.\n",
    "\n",
    "vXMax = -np.linalg.solve(2 * mA, vB)\n",
    "valYMax = vXMax.T @ mA @ vXMax + np.dot(vXMax, vB) + valC\n",
    "\n",
    "print(f'The quadratic model peak location is: {vXMax}')"
   ]
  },
  {
   "cell_type": "code",
   "execution_count": 14,
   "metadata": {},
   "outputs": [
    {
     "data": {
      "application/vnd.plotly.v1+json": {
       "config": {
        "plotlyServerURL": "https://plot.ly"
       },
       "data": [
        {
         "name": "Gaussian",
         "opacity": 0.35,
         "showscale": false,
         "type": "surface",
         "x": {
          "bdata": "AAAAAAAAEMAAAAAAAAAIwAAAAAAAAADAAAAAAAAA8L8AAAAAAAAAAAAAAAAAAPA/AAAAAAAAAEAAAAAAAAAIQAAAAAAAABBA",
          "dtype": "f8"
         },
         "y": {
          "bdata": "AAAAAAAAEMAAAAAAAAAIwAAAAAAAAADAAAAAAAAA8L8AAAAAAAAAAAAAAAAAAPA/AAAAAAAAAEAAAAAAAAAIQAAAAAAAABBA",
          "dtype": "f8"
         },
         "z": {
          "bdata": "a4sxw0a+Wj+1A/iRPvt8P/aSLRoyI5Q/BP/FQnjxoT9+kQDdo4CkP7z09PWlCp4/JQsHgls5jD+tNITAeABxP4kzqXFjREo/tQP4kT77fD+BhvYTKmifP5m5wuqi0rU/q3/dO+Zxwz8Tvn+z5jfGP7JDgB0kR8A/pUnhCA2Wrj8B3lRmu2ySP+2F7NQnd2w/9pItGjIjlD+ZucLqotK1PxTzhhemU84/W8seo7IF2z8R7l7pX+DeP/5i6GIAn9Y/TzWsFKRAxT+G9RscwpqpPwEuuDtqx4M/BP/FQnjxoT+rf9075nHDP1vLHqOyBds/KZjbmewT6D/NuRj5FoPrP1Op+wf/J+Q/e1nZ38/v0j8LIJIbiNC2P+3H5pKwn5E/fpEA3aOApD8Tvn+z5jfGPxHuXulf4N4/zbkY+RaD6z+4qZG+pm/vP7l/en34B+c/s+MvZkKj1T9g5SpKkhG6P/CSLRoyI5Q/vPT09aUKnj+yQ4AdJEfAP/5i6GIAn9Y/U6n7B/8n5D+5f3p9+AfnP84wllyU3+A/bwnShnu0zz+LQv1tRhmzP3gFPj66gY0/JQsHgls5jD+lSeEIDZauP081rBSkQMU/e1nZ38/v0j+z4y9mQqPVP28J0oZ7tM8/4MDLqG3JvT8C/8VCePGhP2o/B3O4uHs/rTSEwHgAcT8B3lRmu2ySP4b1GxzCmqk/CyCSG4jQtj9g5SpKkhG6P4tC/W1GGbM/Av/FQnjxoT/DXqUkG56FP3Ztqnb7smA/iTOpcWNESj/thezUJ3dsPwEuuDtqx4M/7cfmkrCfkT/wki0aMiOUP3gFPj66gY0/aj8Hc7i4ez92bap2+7JgPyEYsqerzDk/",
          "dtype": "f8",
          "shape": "9, 9"
         }
        },
        {
         "mode": "markers",
         "name": "Samples",
         "type": "scatter3d",
         "x": {
          "bdata": "AAAAAAAAEMAAAAAAAAAQwAAAAAAAABDAAAAAAAAAEMAAAAAAAAAQwAAAAAAAABDAAAAAAAAAEMAAAAAAAAAQwAAAAAAAABDAAAAAAAAACMAAAAAAAAAIwAAAAAAAAAjAAAAAAAAACMAAAAAAAAAIwAAAAAAAAAjAAAAAAAAACMAAAAAAAAAIwAAAAAAAAAjAAAAAAAAAAMAAAAAAAAAAwAAAAAAAAADAAAAAAAAAAMAAAAAAAAAAwAAAAAAAAADAAAAAAAAAAMAAAAAAAAAAwAAAAAAAAADAAAAAAAAA8L8AAAAAAADwvwAAAAAAAPC/AAAAAAAA8L8AAAAAAADwvwAAAAAAAPC/AAAAAAAA8L8AAAAAAADwvwAAAAAAAPC/AAAAAAAAAAAAAAAAAAAAAAAAAAAAAAAAAAAAAAAAAAAAAAAAAAAAAAAAAAAAAAAAAAAAAAAAAAAAAAAAAAAAAAAAAAAAAAAAAAAAAAAA8D8AAAAAAADwPwAAAAAAAPA/AAAAAAAA8D8AAAAAAADwPwAAAAAAAPA/AAAAAAAA8D8AAAAAAADwPwAAAAAAAPA/AAAAAAAAAEAAAAAAAAAAQAAAAAAAAABAAAAAAAAAAEAAAAAAAAAAQAAAAAAAAABAAAAAAAAAAEAAAAAAAAAAQAAAAAAAAABAAAAAAAAACEAAAAAAAAAIQAAAAAAAAAhAAAAAAAAACEAAAAAAAAAIQAAAAAAAAAhAAAAAAAAACEAAAAAAAAAIQAAAAAAAAAhAAAAAAAAAEEAAAAAAAAAQQAAAAAAAABBAAAAAAAAAEEAAAAAAAAAQQAAAAAAAABBAAAAAAAAAEEAAAAAAAAAQQAAAAAAAABBA",
          "dtype": "f8"
         },
         "y": {
          "bdata": "AAAAAAAAEMAAAAAAAAAIwAAAAAAAAADAAAAAAAAA8L8AAAAAAAAAAAAAAAAAAPA/AAAAAAAAAEAAAAAAAAAIQAAAAAAAABBAAAAAAAAAEMAAAAAAAAAIwAAAAAAAAADAAAAAAAAA8L8AAAAAAAAAAAAAAAAAAPA/AAAAAAAAAEAAAAAAAAAIQAAAAAAAABBAAAAAAAAAEMAAAAAAAAAIwAAAAAAAAADAAAAAAAAA8L8AAAAAAAAAAAAAAAAAAPA/AAAAAAAAAEAAAAAAAAAIQAAAAAAAABBAAAAAAAAAEMAAAAAAAAAIwAAAAAAAAADAAAAAAAAA8L8AAAAAAAAAAAAAAAAAAPA/AAAAAAAAAEAAAAAAAAAIQAAAAAAAABBAAAAAAAAAEMAAAAAAAAAIwAAAAAAAAADAAAAAAAAA8L8AAAAAAAAAAAAAAAAAAPA/AAAAAAAAAEAAAAAAAAAIQAAAAAAAABBAAAAAAAAAEMAAAAAAAAAIwAAAAAAAAADAAAAAAAAA8L8AAAAAAAAAAAAAAAAAAPA/AAAAAAAAAEAAAAAAAAAIQAAAAAAAABBAAAAAAAAAEMAAAAAAAAAIwAAAAAAAAADAAAAAAAAA8L8AAAAAAAAAAAAAAAAAAPA/AAAAAAAAAEAAAAAAAAAIQAAAAAAAABBAAAAAAAAAEMAAAAAAAAAIwAAAAAAAAADAAAAAAAAA8L8AAAAAAAAAAAAAAAAAAPA/AAAAAAAAAEAAAAAAAAAIQAAAAAAAABBAAAAAAAAAEMAAAAAAAAAIwAAAAAAAAADAAAAAAAAA8L8AAAAAAAAAAAAAAAAAAPA/AAAAAAAAAEAAAAAAAAAIQAAAAAAAABBA",
          "dtype": "f8"
         },
         "z": {
          "bdata": "a4sxw0a+Wj+1A/iRPvt8P/aSLRoyI5Q/BP/FQnjxoT9+kQDdo4CkP7z09PWlCp4/JQsHgls5jD+tNITAeABxP4kzqXFjREo/tQP4kT77fD+BhvYTKmifP5m5wuqi0rU/q3/dO+Zxwz8Tvn+z5jfGP7JDgB0kR8A/pUnhCA2Wrj8B3lRmu2ySP+2F7NQnd2w/9pItGjIjlD+ZucLqotK1PxTzhhemU84/W8seo7IF2z8R7l7pX+DeP/5i6GIAn9Y/TzWsFKRAxT+G9RscwpqpPwEuuDtqx4M/BP/FQnjxoT+rf9075nHDP1vLHqOyBds/KZjbmewT6D/NuRj5FoPrP1Op+wf/J+Q/e1nZ38/v0j8LIJIbiNC2P+3H5pKwn5E/fpEA3aOApD8Tvn+z5jfGPxHuXulf4N4/zbkY+RaD6z+4qZG+pm/vP7l/en34B+c/s+MvZkKj1T9g5SpKkhG6P/CSLRoyI5Q/vPT09aUKnj+yQ4AdJEfAP/5i6GIAn9Y/U6n7B/8n5D+5f3p9+AfnP84wllyU3+A/bwnShnu0zz+LQv1tRhmzP3gFPj66gY0/JQsHgls5jD+lSeEIDZauP081rBSkQMU/e1nZ38/v0j+z4y9mQqPVP28J0oZ7tM8/4MDLqG3JvT8C/8VCePGhP2o/B3O4uHs/rTSEwHgAcT8B3lRmu2ySP4b1GxzCmqk/CyCSG4jQtj9g5SpKkhG6P4tC/W1GGbM/Av/FQnjxoT/DXqUkG56FP3Ztqnb7smA/iTOpcWNESj/thezUJ3dsPwEuuDtqx4M/7cfmkrCfkT/wki0aMiOUP3gFPj66gY0/aj8Hc7i4ez92bap2+7JgPyEYsqerzDk/",
          "dtype": "f8"
         }
        },
        {
         "mode": "markers",
         "name": "Quadratic Model",
         "type": "scatter3d",
         "x": {
          "bdata": "AAAAAAAAEMAAAAAAAAAQwAAAAAAAABDAAAAAAAAAEMAAAAAAAAAQwAAAAAAAABDAAAAAAAAAEMAAAAAAAAAQwAAAAAAAABDAAAAAAAAACMAAAAAAAAAIwAAAAAAAAAjAAAAAAAAACMAAAAAAAAAIwAAAAAAAAAjAAAAAAAAACMAAAAAAAAAIwAAAAAAAAAjAAAAAAAAAAMAAAAAAAAAAwAAAAAAAAADAAAAAAAAAAMAAAAAAAAAAwAAAAAAAAADAAAAAAAAAAMAAAAAAAAAAwAAAAAAAAADAAAAAAAAA8L8AAAAAAADwvwAAAAAAAPC/AAAAAAAA8L8AAAAAAADwvwAAAAAAAPC/AAAAAAAA8L8AAAAAAADwvwAAAAAAAPC/AAAAAAAAAAAAAAAAAAAAAAAAAAAAAAAAAAAAAAAAAAAAAAAAAAAAAAAAAAAAAAAAAAAAAAAAAAAAAAAAAAAAAAAAAAAAAAAAAAAAAAAA8D8AAAAAAADwPwAAAAAAAPA/AAAAAAAA8D8AAAAAAADwPwAAAAAAAPA/AAAAAAAA8D8AAAAAAADwPwAAAAAAAPA/AAAAAAAAAEAAAAAAAAAAQAAAAAAAAABAAAAAAAAAAEAAAAAAAAAAQAAAAAAAAABAAAAAAAAAAEAAAAAAAAAAQAAAAAAAAABAAAAAAAAACEAAAAAAAAAIQAAAAAAAAAhAAAAAAAAACEAAAAAAAAAIQAAAAAAAAAhAAAAAAAAACEAAAAAAAAAIQAAAAAAAAAhAAAAAAAAAEEAAAAAAAAAQQAAAAAAAABBAAAAAAAAAEEAAAAAAAAAQQAAAAAAAABBAAAAAAAAAEEAAAAAAAAAQQAAAAAAAABBA",
          "dtype": "f8"
         },
         "y": {
          "bdata": "AAAAAAAAEMAAAAAAAAAIwAAAAAAAAADAAAAAAAAA8L8AAAAAAAAAAAAAAAAAAPA/AAAAAAAAAEAAAAAAAAAIQAAAAAAAABBAAAAAAAAAEMAAAAAAAAAIwAAAAAAAAADAAAAAAAAA8L8AAAAAAAAAAAAAAAAAAPA/AAAAAAAAAEAAAAAAAAAIQAAAAAAAABBAAAAAAAAAEMAAAAAAAAAIwAAAAAAAAADAAAAAAAAA8L8AAAAAAAAAAAAAAAAAAPA/AAAAAAAAAEAAAAAAAAAIQAAAAAAAABBAAAAAAAAAEMAAAAAAAAAIwAAAAAAAAADAAAAAAAAA8L8AAAAAAAAAAAAAAAAAAPA/AAAAAAAAAEAAAAAAAAAIQAAAAAAAABBAAAAAAAAAEMAAAAAAAAAIwAAAAAAAAADAAAAAAAAA8L8AAAAAAAAAAAAAAAAAAPA/AAAAAAAAAEAAAAAAAAAIQAAAAAAAABBAAAAAAAAAEMAAAAAAAAAIwAAAAAAAAADAAAAAAAAA8L8AAAAAAAAAAAAAAAAAAPA/AAAAAAAAAEAAAAAAAAAIQAAAAAAAABBAAAAAAAAAEMAAAAAAAAAIwAAAAAAAAADAAAAAAAAA8L8AAAAAAAAAAAAAAAAAAPA/AAAAAAAAAEAAAAAAAAAIQAAAAAAAABBAAAAAAAAAEMAAAAAAAAAIwAAAAAAAAADAAAAAAAAA8L8AAAAAAAAAAAAAAAAAAPA/AAAAAAAAAEAAAAAAAAAIQAAAAAAAABBAAAAAAAAAEMAAAAAAAAAIwAAAAAAAAADAAAAAAAAA8L8AAAAAAAAAAAAAAAAAAPA/AAAAAAAAAEAAAAAAAAAIQAAAAAAAABBA",
          "dtype": "f8"
         },
         "z": {
          "bdata": "bAKOF70Jyr8Qk06wBWSqv+j2fOuFUqw/AEqVOlf+vT8UkS77nCbBP+gDFinrFbs/iN5/pdWwoD/QG6UMR+u1v5yOjDqV2s+/EJNOsAVkqr/orU9+Nbm5P3jX2yUej8o/ZS4EZEQ/0T90s9ZSbVXSP+l6Zd8JitA/iAlhEzS6xz8YRN9GdzqxP0iBEiKrhbi/2PZ864VSrD9419slHo/KPwN7KAZBI9Q/sEwfl2Yd2D/EYNLF/zXZPz63QZIMbdc/H1Bt/IzC0j/MVqoIAm3GP2AiKT8VHYk/+EmVOlf+vT9kLgRkRD/RP7BMH5dmHdg/Yq32Z/wZ3D97UIrWBTXdP/o12uKCbts/4F3mjHPG1j9XkF2pr3nOP3TTzei+RrM/DpEu+5wmwT9ys9ZSbVXSP8Ng0sX/Ndk/elCK1gU13T+Ygv6Ef1LePxz3LtFsjtw/B64bu83o1z9Yp8RComHQPzyMp6Cp47c/3AMWKesVuz/memXfCYrQPzy3QZIMbdc/+TXa4oJu2z8c9y7RbI7cP6X6P13KzNo/lEANh5sp1j/VkS2dwEnNP5hOcs9i+rA/aN5/pdWwoD+ECWETNLrHPx1QbfyMwtI/3l3mjHPG1j8Grhu7zejXP5RADYebKdY/iRW78NyI0T/IWUrwIw3EP8BWHq1YUXe/2BulDEfrtb8QRN9GdzqxP8hWqggCbcY/VJBdqa95zj9Wp8RComHQP9SRLZ3ASc0/yFlK8CMNxD8gmn77uTWkP9gPJW6/ar+/pI6MOpXaz79QgRIiq4W4vyAiKT8VHYk/cNPN6L5Gsz84jKegqeO3P5hOcs9i+rA/wFYerVhRd7/YDyVuv2q/vyrMobamOdK/",
          "dtype": "f8"
         }
        },
        {
         "mode": "markers",
         "name": "Quadratic Model Peak",
         "type": "scatter3d",
         "x": [
          -0.11331485132656843
         ],
         "y": [
          -0.11331485132656897
         ],
         "z": [
          0.47436139660863724
         ]
        }
       ],
       "layout": {
        "autosize": false,
        "coloraxis": {
         "showscale": false
        },
        "height": 600,
        "margin": {
         "b": 10,
         "l": 10,
         "r": 10,
         "t": 40
        },
        "scene": {
         "xaxis": {
          "title": {
           "text": "x_1"
          }
         },
         "yaxis": {
          "title": {
           "text": "x_2"
          }
         },
         "zaxis": {
          "title": {
           "text": ""
          }
         }
        },
        "template": {
         "data": {
          "bar": [
           {
            "error_x": {
             "color": "#2a3f5f"
            },
            "error_y": {
             "color": "#2a3f5f"
            },
            "marker": {
             "line": {
              "color": "#E5ECF6",
              "width": 0.5
             },
             "pattern": {
              "fillmode": "overlay",
              "size": 10,
              "solidity": 0.2
             }
            },
            "type": "bar"
           }
          ],
          "barpolar": [
           {
            "marker": {
             "line": {
              "color": "#E5ECF6",
              "width": 0.5
             },
             "pattern": {
              "fillmode": "overlay",
              "size": 10,
              "solidity": 0.2
             }
            },
            "type": "barpolar"
           }
          ],
          "carpet": [
           {
            "aaxis": {
             "endlinecolor": "#2a3f5f",
             "gridcolor": "white",
             "linecolor": "white",
             "minorgridcolor": "white",
             "startlinecolor": "#2a3f5f"
            },
            "baxis": {
             "endlinecolor": "#2a3f5f",
             "gridcolor": "white",
             "linecolor": "white",
             "minorgridcolor": "white",
             "startlinecolor": "#2a3f5f"
            },
            "type": "carpet"
           }
          ],
          "choropleth": [
           {
            "colorbar": {
             "outlinewidth": 0,
             "ticks": ""
            },
            "type": "choropleth"
           }
          ],
          "contour": [
           {
            "colorbar": {
             "outlinewidth": 0,
             "ticks": ""
            },
            "colorscale": [
             [
              0,
              "#0d0887"
             ],
             [
              0.1111111111111111,
              "#46039f"
             ],
             [
              0.2222222222222222,
              "#7201a8"
             ],
             [
              0.3333333333333333,
              "#9c179e"
             ],
             [
              0.4444444444444444,
              "#bd3786"
             ],
             [
              0.5555555555555556,
              "#d8576b"
             ],
             [
              0.6666666666666666,
              "#ed7953"
             ],
             [
              0.7777777777777778,
              "#fb9f3a"
             ],
             [
              0.8888888888888888,
              "#fdca26"
             ],
             [
              1,
              "#f0f921"
             ]
            ],
            "type": "contour"
           }
          ],
          "contourcarpet": [
           {
            "colorbar": {
             "outlinewidth": 0,
             "ticks": ""
            },
            "type": "contourcarpet"
           }
          ],
          "heatmap": [
           {
            "colorbar": {
             "outlinewidth": 0,
             "ticks": ""
            },
            "colorscale": [
             [
              0,
              "#0d0887"
             ],
             [
              0.1111111111111111,
              "#46039f"
             ],
             [
              0.2222222222222222,
              "#7201a8"
             ],
             [
              0.3333333333333333,
              "#9c179e"
             ],
             [
              0.4444444444444444,
              "#bd3786"
             ],
             [
              0.5555555555555556,
              "#d8576b"
             ],
             [
              0.6666666666666666,
              "#ed7953"
             ],
             [
              0.7777777777777778,
              "#fb9f3a"
             ],
             [
              0.8888888888888888,
              "#fdca26"
             ],
             [
              1,
              "#f0f921"
             ]
            ],
            "type": "heatmap"
           }
          ],
          "histogram": [
           {
            "marker": {
             "pattern": {
              "fillmode": "overlay",
              "size": 10,
              "solidity": 0.2
             }
            },
            "type": "histogram"
           }
          ],
          "histogram2d": [
           {
            "colorbar": {
             "outlinewidth": 0,
             "ticks": ""
            },
            "colorscale": [
             [
              0,
              "#0d0887"
             ],
             [
              0.1111111111111111,
              "#46039f"
             ],
             [
              0.2222222222222222,
              "#7201a8"
             ],
             [
              0.3333333333333333,
              "#9c179e"
             ],
             [
              0.4444444444444444,
              "#bd3786"
             ],
             [
              0.5555555555555556,
              "#d8576b"
             ],
             [
              0.6666666666666666,
              "#ed7953"
             ],
             [
              0.7777777777777778,
              "#fb9f3a"
             ],
             [
              0.8888888888888888,
              "#fdca26"
             ],
             [
              1,
              "#f0f921"
             ]
            ],
            "type": "histogram2d"
           }
          ],
          "histogram2dcontour": [
           {
            "colorbar": {
             "outlinewidth": 0,
             "ticks": ""
            },
            "colorscale": [
             [
              0,
              "#0d0887"
             ],
             [
              0.1111111111111111,
              "#46039f"
             ],
             [
              0.2222222222222222,
              "#7201a8"
             ],
             [
              0.3333333333333333,
              "#9c179e"
             ],
             [
              0.4444444444444444,
              "#bd3786"
             ],
             [
              0.5555555555555556,
              "#d8576b"
             ],
             [
              0.6666666666666666,
              "#ed7953"
             ],
             [
              0.7777777777777778,
              "#fb9f3a"
             ],
             [
              0.8888888888888888,
              "#fdca26"
             ],
             [
              1,
              "#f0f921"
             ]
            ],
            "type": "histogram2dcontour"
           }
          ],
          "mesh3d": [
           {
            "colorbar": {
             "outlinewidth": 0,
             "ticks": ""
            },
            "type": "mesh3d"
           }
          ],
          "parcoords": [
           {
            "line": {
             "colorbar": {
              "outlinewidth": 0,
              "ticks": ""
             }
            },
            "type": "parcoords"
           }
          ],
          "pie": [
           {
            "automargin": true,
            "type": "pie"
           }
          ],
          "scatter": [
           {
            "fillpattern": {
             "fillmode": "overlay",
             "size": 10,
             "solidity": 0.2
            },
            "type": "scatter"
           }
          ],
          "scatter3d": [
           {
            "line": {
             "colorbar": {
              "outlinewidth": 0,
              "ticks": ""
             }
            },
            "marker": {
             "colorbar": {
              "outlinewidth": 0,
              "ticks": ""
             }
            },
            "type": "scatter3d"
           }
          ],
          "scattercarpet": [
           {
            "marker": {
             "colorbar": {
              "outlinewidth": 0,
              "ticks": ""
             }
            },
            "type": "scattercarpet"
           }
          ],
          "scattergeo": [
           {
            "marker": {
             "colorbar": {
              "outlinewidth": 0,
              "ticks": ""
             }
            },
            "type": "scattergeo"
           }
          ],
          "scattergl": [
           {
            "marker": {
             "colorbar": {
              "outlinewidth": 0,
              "ticks": ""
             }
            },
            "type": "scattergl"
           }
          ],
          "scattermap": [
           {
            "marker": {
             "colorbar": {
              "outlinewidth": 0,
              "ticks": ""
             }
            },
            "type": "scattermap"
           }
          ],
          "scattermapbox": [
           {
            "marker": {
             "colorbar": {
              "outlinewidth": 0,
              "ticks": ""
             }
            },
            "type": "scattermapbox"
           }
          ],
          "scatterpolar": [
           {
            "marker": {
             "colorbar": {
              "outlinewidth": 0,
              "ticks": ""
             }
            },
            "type": "scatterpolar"
           }
          ],
          "scatterpolargl": [
           {
            "marker": {
             "colorbar": {
              "outlinewidth": 0,
              "ticks": ""
             }
            },
            "type": "scatterpolargl"
           }
          ],
          "scatterternary": [
           {
            "marker": {
             "colorbar": {
              "outlinewidth": 0,
              "ticks": ""
             }
            },
            "type": "scatterternary"
           }
          ],
          "surface": [
           {
            "colorbar": {
             "outlinewidth": 0,
             "ticks": ""
            },
            "colorscale": [
             [
              0,
              "#0d0887"
             ],
             [
              0.1111111111111111,
              "#46039f"
             ],
             [
              0.2222222222222222,
              "#7201a8"
             ],
             [
              0.3333333333333333,
              "#9c179e"
             ],
             [
              0.4444444444444444,
              "#bd3786"
             ],
             [
              0.5555555555555556,
              "#d8576b"
             ],
             [
              0.6666666666666666,
              "#ed7953"
             ],
             [
              0.7777777777777778,
              "#fb9f3a"
             ],
             [
              0.8888888888888888,
              "#fdca26"
             ],
             [
              1,
              "#f0f921"
             ]
            ],
            "type": "surface"
           }
          ],
          "table": [
           {
            "cells": {
             "fill": {
              "color": "#EBF0F8"
             },
             "line": {
              "color": "white"
             }
            },
            "header": {
             "fill": {
              "color": "#C8D4E3"
             },
             "line": {
              "color": "white"
             }
            },
            "type": "table"
           }
          ]
         },
         "layout": {
          "annotationdefaults": {
           "arrowcolor": "#2a3f5f",
           "arrowhead": 0,
           "arrowwidth": 1
          },
          "autotypenumbers": "strict",
          "coloraxis": {
           "colorbar": {
            "outlinewidth": 0,
            "ticks": ""
           }
          },
          "colorscale": {
           "diverging": [
            [
             0,
             "#8e0152"
            ],
            [
             0.1,
             "#c51b7d"
            ],
            [
             0.2,
             "#de77ae"
            ],
            [
             0.3,
             "#f1b6da"
            ],
            [
             0.4,
             "#fde0ef"
            ],
            [
             0.5,
             "#f7f7f7"
            ],
            [
             0.6,
             "#e6f5d0"
            ],
            [
             0.7,
             "#b8e186"
            ],
            [
             0.8,
             "#7fbc41"
            ],
            [
             0.9,
             "#4d9221"
            ],
            [
             1,
             "#276419"
            ]
           ],
           "sequential": [
            [
             0,
             "#0d0887"
            ],
            [
             0.1111111111111111,
             "#46039f"
            ],
            [
             0.2222222222222222,
             "#7201a8"
            ],
            [
             0.3333333333333333,
             "#9c179e"
            ],
            [
             0.4444444444444444,
             "#bd3786"
            ],
            [
             0.5555555555555556,
             "#d8576b"
            ],
            [
             0.6666666666666666,
             "#ed7953"
            ],
            [
             0.7777777777777778,
             "#fb9f3a"
            ],
            [
             0.8888888888888888,
             "#fdca26"
            ],
            [
             1,
             "#f0f921"
            ]
           ],
           "sequentialminus": [
            [
             0,
             "#0d0887"
            ],
            [
             0.1111111111111111,
             "#46039f"
            ],
            [
             0.2222222222222222,
             "#7201a8"
            ],
            [
             0.3333333333333333,
             "#9c179e"
            ],
            [
             0.4444444444444444,
             "#bd3786"
            ],
            [
             0.5555555555555556,
             "#d8576b"
            ],
            [
             0.6666666666666666,
             "#ed7953"
            ],
            [
             0.7777777777777778,
             "#fb9f3a"
            ],
            [
             0.8888888888888888,
             "#fdca26"
            ],
            [
             1,
             "#f0f921"
            ]
           ]
          },
          "colorway": [
           "#636efa",
           "#EF553B",
           "#00cc96",
           "#ab63fa",
           "#FFA15A",
           "#19d3f3",
           "#FF6692",
           "#B6E880",
           "#FF97FF",
           "#FECB52"
          ],
          "font": {
           "color": "#2a3f5f"
          },
          "geo": {
           "bgcolor": "white",
           "lakecolor": "white",
           "landcolor": "#E5ECF6",
           "showlakes": true,
           "showland": true,
           "subunitcolor": "white"
          },
          "hoverlabel": {
           "align": "left"
          },
          "hovermode": "closest",
          "mapbox": {
           "style": "light"
          },
          "paper_bgcolor": "white",
          "plot_bgcolor": "#E5ECF6",
          "polar": {
           "angularaxis": {
            "gridcolor": "white",
            "linecolor": "white",
            "ticks": ""
           },
           "bgcolor": "#E5ECF6",
           "radialaxis": {
            "gridcolor": "white",
            "linecolor": "white",
            "ticks": ""
           }
          },
          "scene": {
           "xaxis": {
            "backgroundcolor": "#E5ECF6",
            "gridcolor": "white",
            "gridwidth": 2,
            "linecolor": "white",
            "showbackground": true,
            "ticks": "",
            "zerolinecolor": "white"
           },
           "yaxis": {
            "backgroundcolor": "#E5ECF6",
            "gridcolor": "white",
            "gridwidth": 2,
            "linecolor": "white",
            "showbackground": true,
            "ticks": "",
            "zerolinecolor": "white"
           },
           "zaxis": {
            "backgroundcolor": "#E5ECF6",
            "gridcolor": "white",
            "gridwidth": 2,
            "linecolor": "white",
            "showbackground": true,
            "ticks": "",
            "zerolinecolor": "white"
           }
          },
          "shapedefaults": {
           "line": {
            "color": "#2a3f5f"
           }
          },
          "ternary": {
           "aaxis": {
            "gridcolor": "white",
            "linecolor": "white",
            "ticks": ""
           },
           "baxis": {
            "gridcolor": "white",
            "linecolor": "white",
            "ticks": ""
           },
           "bgcolor": "#E5ECF6",
           "caxis": {
            "gridcolor": "white",
            "linecolor": "white",
            "ticks": ""
           }
          },
          "title": {
           "x": 0.05
          },
          "xaxis": {
           "automargin": true,
           "gridcolor": "white",
           "linecolor": "white",
           "ticks": "",
           "title": {
            "standoff": 15
           },
           "zerolinecolor": "white",
           "zerolinewidth": 2
          },
          "yaxis": {
           "automargin": true,
           "gridcolor": "white",
           "linecolor": "white",
           "ticks": "",
           "title": {
            "standoff": 15
           },
           "zerolinecolor": "white",
           "zerolinewidth": 2
          }
         }
        },
        "title": {
         "text": "Data Samples"
        },
        "width": 900
       }
      }
     },
     "metadata": {},
     "output_type": "display_data"
    }
   ],
   "source": [
    "# Display Data\n",
    "\n",
    "hF = go.Figure()\n",
    "hF.add_trace(go.Surface(x = vX, y = vX, z = mY, opacity = 0.35, showscale = False, name = 'Gaussian'))\n",
    "# hF.add_trace(go.Surface(x = vX, y = vX, z = np.reshape(vYEst, (numGridPts, numGridPts)), name = 'Gaussian'))\n",
    "hF.add_trace(go.Scatter3d(x = np.repeat(vX, numGridPts), y = np.tile(vX, numGridPts), z = mY.flat, mode = 'markers', name = 'Samples'))\n",
    "hF.add_trace(go.Scatter3d(x = np.repeat(vX, numGridPts), y = np.tile(vX, numGridPts), z = vYEst, mode = 'markers', name = 'Quadratic Model'))\n",
    "hF.add_trace(go.Scatter3d(x = [vXMax[0]], y = [vXMax[1]], z = [valYMax], mode = 'markers', name = 'Quadratic Model Peak'))\n",
    "hF.update_layout(title = 'Data Samples', scene = dict(xaxis_title = r'x_1', yaxis_title = r'x_2', zaxis_title = ''),\n",
    "                 autosize = False, width = 900, height = 600, margin = dict(l = 10, r = 10, b = 10, t = 40),\n",
    "                 coloraxis_showscale = False) #<! No LaTeX support in 3D plots"
   ]
  },
  {
   "cell_type": "markdown",
   "metadata": {},
   "source": [
    "* <font color='red'>(**?**)</font> Did the model estimate the peak well? Explain.\n",
    "* <font color='red'>(**?**)</font> How can it be improved? Think about the number of points and the model choice.\n",
    "* <font color='green'>(**@**)</font> Implement the idea and verify improves results.\n"
   ]
  }
 ],
 "metadata": {
  "kernelspec": {
   "display_name": "Python 3",
   "language": "python",
   "name": "python3"
  },
  "language_info": {
   "codemirror_mode": {
    "name": "ipython",
    "version": 3
   },
   "file_extension": ".py",
   "mimetype": "text/x-python",
   "name": "python",
   "nbconvert_exporter": "python",
   "pygments_lexer": "ipython3",
   "version": "3.12.11"
  },
  "toc": {
   "base_numbering": 1,
   "nav_menu": {},
   "number_sections": false,
   "sideBar": true,
   "skip_h1_title": false,
   "title_cell": "Table of Contents",
   "title_sidebar": "Contents",
   "toc_cell": false,
   "toc_position": {},
   "toc_section_display": true,
   "toc_window_display": true
  },
  "varInspector": {
   "cols": {
    "lenName": 16,
    "lenType": 16,
    "lenVar": 40
   },
   "kernels_config": {
    "python": {
     "delete_cmd_postfix": "",
     "delete_cmd_prefix": "del ",
     "library": "var_list.py",
     "varRefreshCmd": "print(var_dic_list())"
    },
    "r": {
     "delete_cmd_postfix": ") ",
     "delete_cmd_prefix": "rm(",
     "library": "var_list.r",
     "varRefreshCmd": "cat(var_dic_list()) "
    }
   },
   "types_to_exclude": [
    "module",
    "function",
    "builtin_function_or_method",
    "instance",
    "_Feature"
   ],
   "window_display": false
  },
  "vscode": {
   "interpreter": {
    "hash": "39577bab1f263e62e0b74f5b8086bd735049bf4751f6562b2d4b2969dc308293"
   }
  }
 },
 "nbformat": 4,
 "nbformat_minor": 4
}
